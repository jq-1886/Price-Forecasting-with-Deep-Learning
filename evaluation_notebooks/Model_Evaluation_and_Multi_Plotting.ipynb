{
  "nbformat": 4,
  "nbformat_minor": 0,
  "metadata": {
    "colab": {
      "name": "Model_Evaluation_and_Multi_Plotting.ipynb",
      "provenance": [],
      "collapsed_sections": [],
      "authorship_tag": "ABX9TyOnwx4LgjmdRQYDzIby1JDz",
      "include_colab_link": true
    },
    "kernelspec": {
      "name": "python3",
      "display_name": "Python 3"
    },
    "language_info": {
      "name": "python"
    },
    "accelerator": "GPU"
  },
  "cells": [
    {
      "cell_type": "markdown",
      "metadata": {
        "id": "view-in-github",
        "colab_type": "text"
      },
      "source": [
        "<a href=\"https://colab.research.google.com/github/acse-2020/acse2020-acse9-finalreport-acse-jaq15/blob/main/evaluation_notebooks/Model_Evaluation_and_Multi_Plotting.ipynb\" target=\"_parent\"><img src=\"https://colab.research.google.com/assets/colab-badge.svg\" alt=\"Open In Colab\"/></a>"
      ]
    },
    {
      "cell_type": "markdown",
      "metadata": {
        "id": "z5F7GfFTgUo3"
      },
      "source": [
        "# Imports\n",
        "\n",
        "The cells below handle all the necessary imports to run our models, making use of the public repo feeder_repo, linked <!-- [Text](link) -->\n",
        "[here](https://github.com/acse-jaq15/feeder_repo)."
      ]
    },
    {
      "cell_type": "code",
      "metadata": {
        "id": "HWy9Ay1SGzWa",
        "colab": {
          "base_uri": "https://localhost:8080/"
        },
        "outputId": "d8f0d332-2ff9-4077-da97-ed22485e4e0a"
      },
      "source": [
        "# clone the feeder repo to get data_reader module and financial time series data\n",
        "!git clone https://github.com/acse-jaq15/feeder_repo.git"
      ],
      "execution_count": 1,
      "outputs": [
        {
          "output_type": "stream",
          "text": [
            "Cloning into 'feeder_repo'...\n",
            "remote: Enumerating objects: 956, done.\u001b[K\n",
            "remote: Counting objects: 100% (220/220), done.\u001b[K\n",
            "remote: Compressing objects: 100% (118/118), done.\u001b[K\n",
            "remote: Total 956 (delta 106), reused 208 (delta 96), pack-reused 736\u001b[K\n",
            "Receiving objects: 100% (956/956), 291.81 MiB | 35.45 MiB/s, done.\n",
            "Resolving deltas: 100% (442/442), done.\n",
            "Checking out files: 100% (548/548), done.\n"
          ],
          "name": "stdout"
        }
      ]
    },
    {
      "cell_type": "code",
      "metadata": {
        "id": "ChlUNYaiHGM2",
        "colab": {
          "base_uri": "https://localhost:8080/"
        },
        "outputId": "e6bf9e6a-3558-4686-fc72-64b42d3a69e1"
      },
      "source": [
        "# using '%' to enforce a permanent change of directory\n",
        "%cd feeder_repo/"
      ],
      "execution_count": 2,
      "outputs": [
        {
          "output_type": "stream",
          "text": [
            "/content/feeder_repo\n"
          ],
          "name": "stdout"
        }
      ]
    },
    {
      "cell_type": "code",
      "metadata": {
        "id": "saD-jpvPIfZ8",
        "colab": {
          "base_uri": "https://localhost:8080/"
        },
        "outputId": "5d7630b4-7376-4f8d-b5ba-932eede883c7"
      },
      "source": [
        "# checking contents listed correctly\n",
        "!ls"
      ],
      "execution_count": 3,
      "outputs": [
        {
          "output_type": "stream",
          "text": [
            "base_model.py\t  data_reader.py   output_dataframe.pkl  security_plotter.py\n",
            "best_configs.txt  LICENSE\t   README.md\n",
            "data\t\t  model_loader.py  saved_models\n"
          ],
          "name": "stdout"
        }
      ]
    },
    {
      "cell_type": "code",
      "metadata": {
        "id": "fRqkwo6kZUz_"
      },
      "source": [
        "import ast\n",
        "import os\n",
        "import sys\n",
        "import matplotlib.dates as mdates\n",
        "import matplotlib.pyplot as plt\n",
        "import pandas as pd\n",
        "import tensorflow as tf\n",
        "from keras.utils.layer_utils import count_params\n",
        "from keras import backend as K\n",
        "from sklearn.metrics import mean_squared_error\n",
        "from sklearn.metrics import mean_absolute_error"
      ],
      "execution_count": 4,
      "outputs": []
    },
    {
      "cell_type": "code",
      "metadata": {
        "id": "o_A7eQ_9BNdO"
      },
      "source": [
        "# turning off tensorflow info and warnings\n",
        "os.environ['TF_CPP_MIN_LOG_LEVEL'] = '2'"
      ],
      "execution_count": 5,
      "outputs": []
    },
    {
      "cell_type": "code",
      "metadata": {
        "id": "hzVhwND1HAlw"
      },
      "source": [
        "# appending path with 'feeder_repo' string\n",
        "sys.path.append('feeder_repo')\n",
        "\n",
        "# import Data_Reader class from data_reader module\n",
        "from feeder_repo.data_reader import Data_Reader\n",
        "# import Baseline_Model class from base_model module\n",
        "from feeder_repo.base_model import Base_Model\n",
        "# import Security_Plotter class from security_plotter module\n",
        "from feeder_repo.security_plotter import Security_Plotter\n",
        "# import Trained_Model class from model_loader module\n",
        "from feeder_repo.model_loader import Trained_Model\n",
        "# import Untrained_Model class from model_loader module\n",
        "from feeder_repo.model_loader import Untrained_Model"
      ],
      "execution_count": 6,
      "outputs": []
    },
    {
      "cell_type": "code",
      "metadata": {
        "colab": {
          "base_uri": "https://localhost:8080/"
        },
        "id": "6-tNDlXuhiCU",
        "outputId": "5200cf2c-b566-4015-b9e8-dad2b54cc5b9"
      },
      "source": [
        "# checking if the notebook is running on a GPU\n",
        "gpu_info = !nvidia-smi\n",
        "gpu_info = '\\n'.join(gpu_info)\n",
        "if gpu_info.find('failed') >= 0:\n",
        "    print('Select the Runtime > \"Change runtime type\" menu to enable a GPU accelerator, ')\n",
        "    print('and then re-execute this cell.')\n",
        "else:\n",
        "    print(gpu_info)"
      ],
      "execution_count": 7,
      "outputs": [
        {
          "output_type": "stream",
          "text": [
            "Mon Aug  9 08:08:43 2021       \n",
            "+-----------------------------------------------------------------------------+\n",
            "| NVIDIA-SMI 470.42.01    Driver Version: 460.32.03    CUDA Version: 11.2     |\n",
            "|-------------------------------+----------------------+----------------------+\n",
            "| GPU  Name        Persistence-M| Bus-Id        Disp.A | Volatile Uncorr. ECC |\n",
            "| Fan  Temp  Perf  Pwr:Usage/Cap|         Memory-Usage | GPU-Util  Compute M. |\n",
            "|                               |                      |               MIG M. |\n",
            "|===============================+======================+======================|\n",
            "|   0  Tesla P100-PCIE...  Off  | 00000000:00:04.0 Off |                    0 |\n",
            "| N/A   31C    P0    25W / 250W |      0MiB / 16280MiB |      0%      Default |\n",
            "|                               |                      |                  N/A |\n",
            "+-------------------------------+----------------------+----------------------+\n",
            "                                                                               \n",
            "+-----------------------------------------------------------------------------+\n",
            "| Processes:                                                                  |\n",
            "|  GPU   GI   CI        PID   Type   Process name                  GPU Memory |\n",
            "|        ID   ID                                                   Usage      |\n",
            "|=============================================================================|\n",
            "|  No running processes found                                                 |\n",
            "+-----------------------------------------------------------------------------+\n"
          ],
          "name": "stdout"
        }
      ]
    },
    {
      "cell_type": "markdown",
      "metadata": {
        "id": "WB9wD4Aahs8_"
      },
      "source": [
        "# Generating multiplots and saving model metrics\n",
        "A loop is used to generate a grid plot of the predictions of each model on each security, while also evaluating the model and storing the results in a dataframe."
      ]
    },
    {
      "cell_type": "code",
      "metadata": {
        "id": "vBlKerL-c4-3"
      },
      "source": [
        "# storing the year of the time series to be used as test data\n",
        "in_yr = 2019\n",
        "# setting our window_length to be 30 days\n",
        "window_len = 30"
      ],
      "execution_count": 8,
      "outputs": []
    },
    {
      "cell_type": "code",
      "metadata": {
        "id": "AkzM7Sx9Qg37"
      },
      "source": [
        "# storing the units of each security in a dictionary, for later plotting\n",
        "unit_dict = {\n",
        "                'Al': 'Price (USD/mt)',\n",
        "                'Cu': 'Price (USD/mt)',\n",
        "                'Corn': 'Price (USd/bushel)',\n",
        "                'EURCHF': 'Spot exchange rate',\n",
        "                'EURUSD': 'Spot exchange rate',\n",
        "                'GBPUSD': 'Spot exchange rate',\n",
        "                'Bund10y': 'Yield (%)',\n",
        "                'Gilt10y': 'Yield (%)',\n",
        "                'Treasury10y': 'Yield (%)',\n",
        "                'Amazon': 'Price (USD)',\n",
        "                'Google': 'Price (USD)',\n",
        "                'Nvidia': 'Price (USD)'\n",
        "            }\n",
        "\n",
        "# storing a list of models\n",
        "model_list = ['CNN', 'CNN_GRU', 'CNN_LSTM',\n",
        "              'GRU', 'GRU_AE', 'GRU_LSTM',\n",
        "              'LSTM', 'LSTM_AE', 'LSTM_GRU',\n",
        "              'MLP', 'MLP_AE']\n",
        "\n",
        "# storing a list of securities\n",
        "security_list = ['Al', 'Cu', 'Corn',\n",
        "                'EURCHF', 'EURUSD', 'GBPUSD',\n",
        "                'Gilt10y', 'Bund10y', 'Treasury10y',\n",
        "                'Amazon', 'Google', 'Nvidia']"
      ],
      "execution_count": 9,
      "outputs": []
    },
    {
      "cell_type": "code",
      "metadata": {
        "id": "HxPRrG9nR2cV"
      },
      "source": [
        "with open('./best_configs.txt') as text_file:\n",
        "  text_data = text_file.read()\n",
        "\n",
        "best_config_dict = ast.literal_eval(text_data)"
      ],
      "execution_count": 10,
      "outputs": []
    },
    {
      "cell_type": "code",
      "metadata": {
        "colab": {
          "base_uri": "https://localhost:8080/"
        },
        "id": "TGLP1YD83BvM",
        "outputId": "6fffc1c9-1d87-4417-f2bd-d9bc88f17e64"
      },
      "source": [
        "# mounting google drive for easy storage of plots and output dataframe\n",
        "from google.colab import drive\n",
        "# mounting the drive\n",
        "drive.mount('/content/gdrive/')\n",
        "# creating a string to save the plots and dataframe respectively\n",
        "plot_path = '/content/gdrive/My Drive/multi_plots/'\n",
        "df_path = '/content/gdrive/My Drive/output_df/'"
      ],
      "execution_count": 11,
      "outputs": [
        {
          "output_type": "stream",
          "text": [
            "Mounted at /content/gdrive/\n"
          ],
          "name": "stdout"
        }
      ]
    },
    {
      "cell_type": "code",
      "metadata": {
        "colab": {
          "base_uri": "https://localhost:8080/",
          "height": 1000
        },
        "id": "X8-QGodgfpm9",
        "outputId": "93a8b4aa-d80e-4269-d7da-2e8f1ba08dc2"
      },
      "source": [
        "# creating lists to store the model name, security name, model metrics and dummy metrics\n",
        "m_list = []\n",
        "s_list = []\n",
        "mse_list = []\n",
        "rmse_list = []\n",
        "mae_list = []\n",
        "d_mse_list = []\n",
        "d_rmse_list = []\n",
        "d_mae_list = []\n",
        "epoch_list = []\n",
        "t_param_list = []\n",
        "activation_list = []\n",
        "optimizer_list = []\n",
        "batch_size_list = []\n",
        "lr_list = []\n",
        "\n",
        "# creating lists to be used to access the relevant subplot in the loop\n",
        "sub_r = [0, 0, 0, 1, 1, 1, 2, 2, 2, 3, 3, 3]\n",
        "sub_c = [0, 1, 2, 0, 1, 2, 0, 1, 2, 0, 1, 2]\n",
        "\n",
        "# creating a bool to allow for figure formatting\n",
        "first = True\n",
        "\n",
        "# looping through each model in model_list\n",
        "for m in model_list:\n",
        "  # counting the number of iterations, reset after each model loop\n",
        "  sub_plot_ctr = 0\n",
        "  \n",
        "  # creating a subplot, one per model loop and formatting various parameters\n",
        "  fig, ax = plt.subplots(4, 3, figsize=(15,15))\n",
        "  plt.xticks(rotation=45)\n",
        "  fig.subplots_adjust(wspace=0.25, hspace=0.7)\n",
        "  fig.suptitle(m+' Actual, Predicted and Dummy Prices', size='xx-large', y=0.92)\n",
        "\n",
        "  # conditional logic to set time_distributed bool depending on the model type\n",
        "  # in order to ensure input data is of correct dimensions\n",
        "  if m == 'CNN_GRU' or m == 'CNN_LSTM':\n",
        "    time_distributed = True\n",
        "  else:\n",
        "    time_distributed = False\n",
        "\n",
        "  # looping through each security in security_list\n",
        "  for s in security_list:\n",
        "    # setting our row and column indices for easy subplot access\n",
        "    row = sub_r[sub_plot_ctr]\n",
        "    col = sub_c[sub_plot_ctr]\n",
        "\n",
        "    # creating an instance of Data_Reader class\n",
        "    in_data = Data_Reader(s, in_yr)\n",
        "    # calling class method extract_train_test to generate training and test datasets\n",
        "    in_data.extract_train_test()\n",
        "    # calling class method extract_xy to generate X and y training and test datasets\n",
        "    in_data.extract_xy(window_len, time_distributed)\n",
        "\n",
        "    # assigning X_test and y_test\n",
        "    X_test = in_data.X_test\n",
        "    y_test = in_data.y_test\n",
        "\n",
        "    # clearing the keras session on the back end to ease memory usage\n",
        "    K.clear_session()\n",
        "\n",
        "    # creating an instance of Trained_Model class\n",
        "    trained_model = Trained_Model(m, s)\n",
        "    # evaluating the model\n",
        "    mse, rmse, mae = trained_model.evaluate(X_test, y_test)\n",
        "\n",
        "    # creating an instance of Base_Model class using X_test\n",
        "    base_model = Base_Model(X_test, window_len)\n",
        "    # calling predict_y method\n",
        "    base_model.predict_y(in_data.test_len - window_len)\n",
        "\n",
        "    # using the trained model to predict y from X_test\n",
        "    y_pred = trained_model.model.predict(X_test)\n",
        "    # assigning y_dummy variable to .y_pred class attribute\n",
        "    y_dummy = base_model.y_pred\n",
        "    \n",
        "    # calling class method extract_real_price to generate unnormalised prices\n",
        "    in_data.extract_real_prices(y_pred, y_dummy)\n",
        "\n",
        "    # assigning actual_price, predicted_price and dummy_price\n",
        "    actual_price = in_data.actual_price\n",
        "    predicted_price = in_data.predicted_price\n",
        "    dummy_price = in_data.dummy_price\n",
        "\n",
        "    # assinging other metrics to be saved\n",
        "    n_epochs = best_config_dict[m+'_'+s]['epochs']\n",
        "    tm_activation = best_config_dict[m+'_'+s]['activation']\n",
        "    tm_batch_size = best_config_dict[m+'_'+s]['batch_size']\n",
        "    tm_optimizer = best_config_dict[m+'_'+s]['optimizer']\n",
        "    tm_lr = best_config_dict[m+'_'+s]['learning_rate']\n",
        "    tm_t_p = count_params(trained_model.model.trainable_weights)  \n",
        "\n",
        "    # converting to datetime date format and slicing\n",
        "    date_time = in_data.data.date[in_data.train_len + window_len:]\n",
        "    # converting the series to datetime using pandas\n",
        "    series_dates = pd.to_datetime(date_time).dt.date\n",
        "    # resetting index to 0 based\n",
        "    series_dates = series_dates.reset_index(drop=True)\n",
        "    # converting to matplotlib format\n",
        "    series_dates = mdates.date2num(series_dates)\n",
        "\n",
        "    # setting YearLocator\n",
        "    years = mdates.YearLocator()\n",
        "    # setting MonthLocator\n",
        "    months = mdates.MonthLocator()\n",
        "    # setting format to give year and verbose month '2019-Jan'\n",
        "    d_format = mdates.DateFormatter('%Y-%b')\n",
        "\n",
        "    # plotting values by accessing each subplot in turn\n",
        "    ax[row, col].plot(series_dates, actual_price, label='Acutal Price')\n",
        "    ax[row, col].plot(series_dates, predicted_price, label='Predicted Price')\n",
        "    ax[row, col].plot(series_dates, dummy_price, label='Dummy Price')\n",
        "\n",
        "    # setting x axis label\n",
        "    ax[row, col].set_xlabel('Date')\n",
        "    # getting y axis label from unit_dict\n",
        "    ax[row, col].set_ylabel(unit_dict[s])\n",
        "    # setting title\n",
        "    ax[row, col].set_title(m+' '+s)\n",
        "    # informing matplotlib that x axis contains dates\n",
        "    ax[row, col].xaxis_date()\n",
        "    ax[row, col].set_xticklabels(ax[row, col].get_xticks(), rotation=45, ha='right')\n",
        "    # setting minor and major locators and format\n",
        "    ax[row, col].xaxis.set_major_locator(months)\n",
        "    ax[row, col].xaxis.set_major_formatter(d_format)\n",
        "    ax[row, col].xaxis.set_minor_locator(years)\n",
        "\n",
        "    # conditional logic to gather dummy model metrics only once\n",
        "    if m == 'MLP_AE':\n",
        "      # assigning y_true variable for metric calculation\n",
        "      y_true = in_data.y_true\n",
        "      # calculating dummy metrics and appending to relevant dummy lists\n",
        "      d_mse = mean_squared_error(y_true, y_dummy)\n",
        "      d_rmse = mean_squared_error(y_true, y_dummy, squared=False)\n",
        "      d_mae = mean_absolute_error(y_true, y_dummy)\n",
        "      d_mse_list.append(d_mse)\n",
        "      d_rmse_list.append(d_rmse)\n",
        "      d_mae_list.append(d_mae)\n",
        "\n",
        "    # conditional logic to generate the figure legend only once\n",
        "    if first:\n",
        "      # generating the figure legend\n",
        "      handles, labels = ax[row, col].get_legend_handles_labels()\n",
        "      fig.legend(handles, labels, loc='lower center', ncol=3, fontsize='large')\n",
        "\n",
        "      # assinging y_true variable\n",
        "      y_true = in_data.y_true\n",
        "\n",
        "      # finally setting first bool to False, reset to True after each model loop\n",
        "      first = False\n",
        "\n",
        "    # printing to keep track of progress\n",
        "    print(m+' '+s+' complete')\n",
        "\n",
        "    # incrementing the subplot counter after each security loop is complete\n",
        "    sub_plot_ctr +=1\n",
        "\n",
        "    # appending model metrics to relevant lists\n",
        "    m_list.append(m)\n",
        "    s_list.append(s)\n",
        "    mse_list.append(mse)\n",
        "    rmse_list.append(rmse)\n",
        "    mae_list.append(mae)\n",
        "    epoch_list.append(n_epochs)\n",
        "    t_param_list.append(tm_t_p)\n",
        "    activation_list.append(tm_activation)\n",
        "    optimizer_list.append(tm_optimizer)\n",
        "    batch_size_list.append(tm_batch_size)\n",
        "    lr_list.append(tm_lr)\n",
        "  \n",
        "  # saving the matplotlib plot after the security loop is complete\n",
        "  plt.savefig(plot_path+m+'_mutli_plot.png', dpi=600)\n",
        "  # closing the plot to generate a fresh one in the next model loop\n",
        "  plt.clf()\n",
        "  \n",
        "  # print to keep track of progress\n",
        "  print(m+' all completed successfully')\n",
        "\n",
        "# a quick loop to append dummy values to metrics lists\n",
        "for i in range(len(security_list)):\n",
        "  m_list.append('Dummy')\n",
        "  s_list.append(security_list[i])\n",
        "  mse_list.append(d_mse_list[i])\n",
        "  rmse_list.append(d_rmse_list[i])\n",
        "  mae_list.append(d_mae_list[i])\n",
        "  epoch_list.append(None)\n",
        "  t_param_list.append(None)\n",
        "  activation_list.append(None)\n",
        "  optimizer_list.append(None)\n",
        "  batch_size_list.append(None)\n",
        "  lr_list.append(None)\n",
        "\n",
        "# following successful completion of the loop, generating a dictionary of metrics\n",
        "output_dict = {'Model': m_list,\n",
        "          'Security': s_list,\n",
        "          'Epochs': epoch_list,\n",
        "          'Trainable Parameters': t_param_list,\n",
        "          'Activation': activation_list,\n",
        "          'Optimizer': optimizer_list,\n",
        "          'Batch Size': batch_size_list,\n",
        "          'Learning Rate': lr_list,\n",
        "          'MSE': mse_list,\n",
        "          'RMSE': rmse_list,\n",
        "          'MAE': mae_list}\n",
        "\n",
        "# using output_dict to generate a dataframe\n",
        "output_df = pd.DataFrame(output_dict)"
      ],
      "execution_count": 12,
      "outputs": [
        {
          "output_type": "stream",
          "text": [
            "CNN Al complete\n",
            "CNN Cu complete\n",
            "CNN Corn complete\n",
            "CNN EURCHF complete\n",
            "CNN EURUSD complete\n",
            "CNN GBPUSD complete\n",
            "CNN Gilt10y complete\n",
            "CNN Bund10y complete\n",
            "CNN Treasury10y complete\n",
            "CNN Amazon complete\n",
            "CNN Google complete\n",
            "CNN Nvidia complete\n",
            "CNN all completed successfully\n",
            "CNN_GRU Al complete\n",
            "CNN_GRU Cu complete\n",
            "CNN_GRU Corn complete\n",
            "CNN_GRU EURCHF complete\n",
            "CNN_GRU EURUSD complete\n",
            "CNN_GRU GBPUSD complete\n",
            "CNN_GRU Gilt10y complete\n",
            "CNN_GRU Bund10y complete\n",
            "CNN_GRU Treasury10y complete\n",
            "CNN_GRU Amazon complete\n",
            "CNN_GRU Google complete\n",
            "CNN_GRU Nvidia complete\n",
            "CNN_GRU all completed successfully\n",
            "CNN_LSTM Al complete\n",
            "CNN_LSTM Cu complete\n",
            "CNN_LSTM Corn complete\n",
            "CNN_LSTM EURCHF complete\n",
            "CNN_LSTM EURUSD complete\n",
            "CNN_LSTM GBPUSD complete\n",
            "CNN_LSTM Gilt10y complete\n",
            "CNN_LSTM Bund10y complete\n",
            "CNN_LSTM Treasury10y complete\n",
            "CNN_LSTM Amazon complete\n",
            "CNN_LSTM Google complete\n",
            "CNN_LSTM Nvidia complete\n",
            "CNN_LSTM all completed successfully\n",
            "GRU Al complete\n",
            "GRU Cu complete\n",
            "WARNING:tensorflow:Layer gru will not use cuDNN kernels since it doesn't meet the criteria. It will use a generic GPU kernel as fallback when running on GPU.\n",
            "GRU Corn complete\n",
            "WARNING:tensorflow:Layer gru will not use cuDNN kernels since it doesn't meet the criteria. It will use a generic GPU kernel as fallback when running on GPU.\n",
            "GRU EURCHF complete\n",
            "GRU EURUSD complete\n",
            "GRU GBPUSD complete\n",
            "GRU Gilt10y complete\n",
            "GRU Bund10y complete\n",
            "WARNING:tensorflow:Layer gru will not use cuDNN kernels since it doesn't meet the criteria. It will use a generic GPU kernel as fallback when running on GPU.\n",
            "GRU Treasury10y complete\n",
            "GRU Amazon complete\n",
            "WARNING:tensorflow:Layer gru will not use cuDNN kernels since it doesn't meet the criteria. It will use a generic GPU kernel as fallback when running on GPU.\n",
            "GRU Google complete\n",
            "WARNING:tensorflow:Layer gru will not use cuDNN kernels since it doesn't meet the criteria. It will use a generic GPU kernel as fallback when running on GPU.\n",
            "GRU Nvidia complete\n",
            "GRU all completed successfully\n",
            "GRU_AE Al complete\n",
            "GRU_AE Cu complete\n",
            "WARNING:tensorflow:Layer gru will not use cuDNN kernels since it doesn't meet the criteria. It will use a generic GPU kernel as fallback when running on GPU.\n",
            "WARNING:tensorflow:Layer gru_1 will not use cuDNN kernels since it doesn't meet the criteria. It will use a generic GPU kernel as fallback when running on GPU.\n",
            "WARNING:tensorflow:Layer gru_2 will not use cuDNN kernels since it doesn't meet the criteria. It will use a generic GPU kernel as fallback when running on GPU.\n",
            "WARNING:tensorflow:Layer gru_3 will not use cuDNN kernels since it doesn't meet the criteria. It will use a generic GPU kernel as fallback when running on GPU.\n",
            "GRU_AE Corn complete\n",
            "GRU_AE EURCHF complete\n",
            "WARNING:tensorflow:Layer gru will not use cuDNN kernels since it doesn't meet the criteria. It will use a generic GPU kernel as fallback when running on GPU.\n",
            "WARNING:tensorflow:Layer gru_1 will not use cuDNN kernels since it doesn't meet the criteria. It will use a generic GPU kernel as fallback when running on GPU.\n",
            "WARNING:tensorflow:Layer gru_2 will not use cuDNN kernels since it doesn't meet the criteria. It will use a generic GPU kernel as fallback when running on GPU.\n",
            "WARNING:tensorflow:Layer gru_3 will not use cuDNN kernels since it doesn't meet the criteria. It will use a generic GPU kernel as fallback when running on GPU.\n",
            "GRU_AE EURUSD complete\n",
            "GRU_AE GBPUSD complete\n",
            "WARNING:tensorflow:Layer gru will not use cuDNN kernels since it doesn't meet the criteria. It will use a generic GPU kernel as fallback when running on GPU.\n",
            "WARNING:tensorflow:Layer gru_1 will not use cuDNN kernels since it doesn't meet the criteria. It will use a generic GPU kernel as fallback when running on GPU.\n",
            "WARNING:tensorflow:Layer gru_2 will not use cuDNN kernels since it doesn't meet the criteria. It will use a generic GPU kernel as fallback when running on GPU.\n",
            "WARNING:tensorflow:Layer gru_3 will not use cuDNN kernels since it doesn't meet the criteria. It will use a generic GPU kernel as fallback when running on GPU.\n",
            "GRU_AE Gilt10y complete\n",
            "GRU_AE Bund10y complete\n",
            "GRU_AE Treasury10y complete\n",
            "GRU_AE Amazon complete\n",
            "GRU_AE Google complete\n",
            "GRU_AE Nvidia complete\n",
            "GRU_AE all completed successfully\n",
            "GRU_LSTM Al complete\n",
            "WARNING:tensorflow:Layer gru will not use cuDNN kernels since it doesn't meet the criteria. It will use a generic GPU kernel as fallback when running on GPU.\n",
            "WARNING:tensorflow:Layer lstm will not use cuDNN kernels since it doesn't meet the criteria. It will use a generic GPU kernel as fallback when running on GPU.\n",
            "GRU_LSTM Cu complete\n",
            "WARNING:tensorflow:Layer gru will not use cuDNN kernels since it doesn't meet the criteria. It will use a generic GPU kernel as fallback when running on GPU.\n",
            "WARNING:tensorflow:Layer lstm will not use cuDNN kernels since it doesn't meet the criteria. It will use a generic GPU kernel as fallback when running on GPU.\n",
            "GRU_LSTM Corn complete\n",
            "GRU_LSTM EURCHF complete\n",
            "WARNING:tensorflow:Layer gru will not use cuDNN kernels since it doesn't meet the criteria. It will use a generic GPU kernel as fallback when running on GPU.\n",
            "WARNING:tensorflow:Layer lstm will not use cuDNN kernels since it doesn't meet the criteria. It will use a generic GPU kernel as fallback when running on GPU.\n",
            "GRU_LSTM EURUSD complete\n",
            "WARNING:tensorflow:Layer gru will not use cuDNN kernels since it doesn't meet the criteria. It will use a generic GPU kernel as fallback when running on GPU.\n",
            "WARNING:tensorflow:Layer lstm will not use cuDNN kernels since it doesn't meet the criteria. It will use a generic GPU kernel as fallback when running on GPU.\n",
            "GRU_LSTM GBPUSD complete\n",
            "GRU_LSTM Gilt10y complete\n",
            "WARNING:tensorflow:Layer gru will not use cuDNN kernels since it doesn't meet the criteria. It will use a generic GPU kernel as fallback when running on GPU.\n",
            "WARNING:tensorflow:Layer lstm will not use cuDNN kernels since it doesn't meet the criteria. It will use a generic GPU kernel as fallback when running on GPU.\n",
            "GRU_LSTM Bund10y complete\n",
            "WARNING:tensorflow:Layer gru will not use cuDNN kernels since it doesn't meet the criteria. It will use a generic GPU kernel as fallback when running on GPU.\n",
            "WARNING:tensorflow:Layer lstm will not use cuDNN kernels since it doesn't meet the criteria. It will use a generic GPU kernel as fallback when running on GPU.\n",
            "GRU_LSTM Treasury10y complete\n",
            "WARNING:tensorflow:Layer gru will not use cuDNN kernels since it doesn't meet the criteria. It will use a generic GPU kernel as fallback when running on GPU.\n",
            "WARNING:tensorflow:Layer lstm will not use cuDNN kernels since it doesn't meet the criteria. It will use a generic GPU kernel as fallback when running on GPU.\n",
            "GRU_LSTM Amazon complete\n",
            "GRU_LSTM Google complete\n",
            "GRU_LSTM Nvidia complete\n",
            "GRU_LSTM all completed successfully\n",
            "LSTM Al complete\n",
            "LSTM Cu complete\n",
            "LSTM Corn complete\n",
            "LSTM EURCHF complete\n",
            "LSTM EURUSD complete\n",
            "LSTM GBPUSD complete\n",
            "LSTM Gilt10y complete\n",
            "LSTM Bund10y complete\n",
            "LSTM Treasury10y complete\n",
            "LSTM Amazon complete\n",
            "LSTM Google complete\n",
            "LSTM Nvidia complete\n",
            "LSTM all completed successfully\n",
            "LSTM_AE Al complete\n",
            "LSTM_AE Cu complete\n",
            "LSTM_AE Corn complete\n",
            "LSTM_AE EURCHF complete\n",
            "LSTM_AE EURUSD complete\n",
            "LSTM_AE GBPUSD complete\n",
            "LSTM_AE Gilt10y complete\n",
            "LSTM_AE Bund10y complete\n",
            "LSTM_AE Treasury10y complete\n",
            "LSTM_AE Amazon complete\n",
            "LSTM_AE Google complete\n",
            "LSTM_AE Nvidia complete\n",
            "LSTM_AE all completed successfully\n",
            "LSTM_GRU Al complete\n",
            "WARNING:tensorflow:Layer lstm will not use cuDNN kernels since it doesn't meet the criteria. It will use a generic GPU kernel as fallback when running on GPU.\n",
            "WARNING:tensorflow:Layer gru will not use cuDNN kernels since it doesn't meet the criteria. It will use a generic GPU kernel as fallback when running on GPU.\n",
            "LSTM_GRU Cu complete\n",
            "LSTM_GRU Corn complete\n",
            "LSTM_GRU EURCHF complete\n",
            "WARNING:tensorflow:Layer lstm will not use cuDNN kernels since it doesn't meet the criteria. It will use a generic GPU kernel as fallback when running on GPU.\n",
            "WARNING:tensorflow:Layer gru will not use cuDNN kernels since it doesn't meet the criteria. It will use a generic GPU kernel as fallback when running on GPU.\n",
            "LSTM_GRU EURUSD complete\n",
            "LSTM_GRU GBPUSD complete\n",
            "LSTM_GRU Gilt10y complete\n",
            "LSTM_GRU Bund10y complete\n",
            "LSTM_GRU Treasury10y complete\n",
            "LSTM_GRU Amazon complete\n",
            "WARNING:tensorflow:Layer lstm will not use cuDNN kernels since it doesn't meet the criteria. It will use a generic GPU kernel as fallback when running on GPU.\n",
            "WARNING:tensorflow:Layer gru will not use cuDNN kernels since it doesn't meet the criteria. It will use a generic GPU kernel as fallback when running on GPU.\n",
            "LSTM_GRU Google complete\n",
            "LSTM_GRU Nvidia complete\n",
            "LSTM_GRU all completed successfully\n",
            "MLP Al complete\n",
            "MLP Cu complete\n",
            "MLP Corn complete\n",
            "MLP EURCHF complete\n",
            "MLP EURUSD complete\n",
            "MLP GBPUSD complete\n",
            "MLP Gilt10y complete\n",
            "MLP Bund10y complete\n",
            "MLP Treasury10y complete\n",
            "MLP Amazon complete\n",
            "MLP Google complete\n",
            "MLP Nvidia complete\n",
            "MLP all completed successfully\n",
            "MLP_AE Al complete\n",
            "MLP_AE Cu complete\n",
            "MLP_AE Corn complete\n",
            "MLP_AE EURCHF complete\n",
            "MLP_AE EURUSD complete\n",
            "MLP_AE GBPUSD complete\n",
            "MLP_AE Gilt10y complete\n",
            "MLP_AE Bund10y complete\n",
            "MLP_AE Treasury10y complete\n",
            "MLP_AE Amazon complete\n",
            "MLP_AE Google complete\n",
            "MLP_AE Nvidia complete\n",
            "MLP_AE all completed successfully\n"
          ],
          "name": "stdout"
        },
        {
          "output_type": "display_data",
          "data": {
            "text/plain": [
              "<Figure size 1080x1080 with 0 Axes>"
            ]
          },
          "metadata": {
            "tags": []
          }
        },
        {
          "output_type": "display_data",
          "data": {
            "text/plain": [
              "<Figure size 1080x1080 with 0 Axes>"
            ]
          },
          "metadata": {
            "tags": []
          }
        },
        {
          "output_type": "display_data",
          "data": {
            "text/plain": [
              "<Figure size 1080x1080 with 0 Axes>"
            ]
          },
          "metadata": {
            "tags": []
          }
        },
        {
          "output_type": "display_data",
          "data": {
            "text/plain": [
              "<Figure size 1080x1080 with 0 Axes>"
            ]
          },
          "metadata": {
            "tags": []
          }
        },
        {
          "output_type": "display_data",
          "data": {
            "text/plain": [
              "<Figure size 1080x1080 with 0 Axes>"
            ]
          },
          "metadata": {
            "tags": []
          }
        },
        {
          "output_type": "display_data",
          "data": {
            "text/plain": [
              "<Figure size 1080x1080 with 0 Axes>"
            ]
          },
          "metadata": {
            "tags": []
          }
        },
        {
          "output_type": "display_data",
          "data": {
            "text/plain": [
              "<Figure size 1080x1080 with 0 Axes>"
            ]
          },
          "metadata": {
            "tags": []
          }
        },
        {
          "output_type": "display_data",
          "data": {
            "text/plain": [
              "<Figure size 1080x1080 with 0 Axes>"
            ]
          },
          "metadata": {
            "tags": []
          }
        },
        {
          "output_type": "display_data",
          "data": {
            "text/plain": [
              "<Figure size 1080x1080 with 0 Axes>"
            ]
          },
          "metadata": {
            "tags": []
          }
        },
        {
          "output_type": "display_data",
          "data": {
            "text/plain": [
              "<Figure size 1080x1080 with 0 Axes>"
            ]
          },
          "metadata": {
            "tags": []
          }
        },
        {
          "output_type": "display_data",
          "data": {
            "text/plain": [
              "<Figure size 1080x1080 with 0 Axes>"
            ]
          },
          "metadata": {
            "tags": []
          }
        }
      ]
    },
    {
      "cell_type": "code",
      "metadata": {
        "colab": {
          "base_uri": "https://localhost:8080/",
          "height": 456
        },
        "id": "p3G2m7G2m_HP",
        "outputId": "17d43df2-0d4a-4265-876a-8360c0fd6b56"
      },
      "source": [
        "output_df"
      ],
      "execution_count": 13,
      "outputs": [
        {
          "output_type": "execute_result",
          "data": {
            "text/html": [
              "<div>\n",
              "<style scoped>\n",
              "    .dataframe tbody tr th:only-of-type {\n",
              "        vertical-align: middle;\n",
              "    }\n",
              "\n",
              "    .dataframe tbody tr th {\n",
              "        vertical-align: top;\n",
              "    }\n",
              "\n",
              "    .dataframe thead th {\n",
              "        text-align: right;\n",
              "    }\n",
              "</style>\n",
              "<table border=\"1\" class=\"dataframe\">\n",
              "  <thead>\n",
              "    <tr style=\"text-align: right;\">\n",
              "      <th></th>\n",
              "      <th>Model</th>\n",
              "      <th>Security</th>\n",
              "      <th>Epochs</th>\n",
              "      <th>Trainable Parameters</th>\n",
              "      <th>Activation</th>\n",
              "      <th>Optimizer</th>\n",
              "      <th>Batch Size</th>\n",
              "      <th>Learning Rate</th>\n",
              "      <th>MSE</th>\n",
              "      <th>RMSE</th>\n",
              "      <th>MAE</th>\n",
              "    </tr>\n",
              "  </thead>\n",
              "  <tbody>\n",
              "    <tr>\n",
              "      <th>0</th>\n",
              "      <td>CNN</td>\n",
              "      <td>Al</td>\n",
              "      <td>200.0</td>\n",
              "      <td>17729.0</td>\n",
              "      <td>relu</td>\n",
              "      <td>adam</td>\n",
              "      <td>32.0</td>\n",
              "      <td>0.0010</td>\n",
              "      <td>0.004282</td>\n",
              "      <td>0.065435</td>\n",
              "      <td>0.051775</td>\n",
              "    </tr>\n",
              "    <tr>\n",
              "      <th>1</th>\n",
              "      <td>CNN</td>\n",
              "      <td>Cu</td>\n",
              "      <td>50.0</td>\n",
              "      <td>17729.0</td>\n",
              "      <td>selu</td>\n",
              "      <td>rmsprop</td>\n",
              "      <td>32.0</td>\n",
              "      <td>0.0005</td>\n",
              "      <td>0.003600</td>\n",
              "      <td>0.060004</td>\n",
              "      <td>0.047846</td>\n",
              "    </tr>\n",
              "    <tr>\n",
              "      <th>2</th>\n",
              "      <td>CNN</td>\n",
              "      <td>Corn</td>\n",
              "      <td>200.0</td>\n",
              "      <td>17729.0</td>\n",
              "      <td>selu</td>\n",
              "      <td>nadam</td>\n",
              "      <td>32.0</td>\n",
              "      <td>0.0010</td>\n",
              "      <td>0.004581</td>\n",
              "      <td>0.067683</td>\n",
              "      <td>0.048404</td>\n",
              "    </tr>\n",
              "    <tr>\n",
              "      <th>3</th>\n",
              "      <td>CNN</td>\n",
              "      <td>EURCHF</td>\n",
              "      <td>200.0</td>\n",
              "      <td>17729.0</td>\n",
              "      <td>selu</td>\n",
              "      <td>adam</td>\n",
              "      <td>64.0</td>\n",
              "      <td>0.0010</td>\n",
              "      <td>0.002924</td>\n",
              "      <td>0.054078</td>\n",
              "      <td>0.043020</td>\n",
              "    </tr>\n",
              "    <tr>\n",
              "      <th>4</th>\n",
              "      <td>CNN</td>\n",
              "      <td>EURUSD</td>\n",
              "      <td>100.0</td>\n",
              "      <td>17729.0</td>\n",
              "      <td>relu</td>\n",
              "      <td>adam</td>\n",
              "      <td>32.0</td>\n",
              "      <td>0.0010</td>\n",
              "      <td>0.002823</td>\n",
              "      <td>0.053128</td>\n",
              "      <td>0.041446</td>\n",
              "    </tr>\n",
              "    <tr>\n",
              "      <th>...</th>\n",
              "      <td>...</td>\n",
              "      <td>...</td>\n",
              "      <td>...</td>\n",
              "      <td>...</td>\n",
              "      <td>...</td>\n",
              "      <td>...</td>\n",
              "      <td>...</td>\n",
              "      <td>...</td>\n",
              "      <td>...</td>\n",
              "      <td>...</td>\n",
              "      <td>...</td>\n",
              "    </tr>\n",
              "    <tr>\n",
              "      <th>139</th>\n",
              "      <td>Dummy</td>\n",
              "      <td>Bund10y</td>\n",
              "      <td>NaN</td>\n",
              "      <td>NaN</td>\n",
              "      <td>None</td>\n",
              "      <td>None</td>\n",
              "      <td>NaN</td>\n",
              "      <td>NaN</td>\n",
              "      <td>0.011925</td>\n",
              "      <td>0.109202</td>\n",
              "      <td>0.088719</td>\n",
              "    </tr>\n",
              "    <tr>\n",
              "      <th>140</th>\n",
              "      <td>Dummy</td>\n",
              "      <td>Treasury10y</td>\n",
              "      <td>NaN</td>\n",
              "      <td>NaN</td>\n",
              "      <td>None</td>\n",
              "      <td>None</td>\n",
              "      <td>NaN</td>\n",
              "      <td>NaN</td>\n",
              "      <td>0.011908</td>\n",
              "      <td>0.109124</td>\n",
              "      <td>0.082874</td>\n",
              "    </tr>\n",
              "    <tr>\n",
              "      <th>141</th>\n",
              "      <td>Dummy</td>\n",
              "      <td>Amazon</td>\n",
              "      <td>NaN</td>\n",
              "      <td>NaN</td>\n",
              "      <td>None</td>\n",
              "      <td>None</td>\n",
              "      <td>NaN</td>\n",
              "      <td>NaN</td>\n",
              "      <td>0.034129</td>\n",
              "      <td>0.184740</td>\n",
              "      <td>0.154633</td>\n",
              "    </tr>\n",
              "    <tr>\n",
              "      <th>142</th>\n",
              "      <td>Dummy</td>\n",
              "      <td>Google</td>\n",
              "      <td>NaN</td>\n",
              "      <td>NaN</td>\n",
              "      <td>None</td>\n",
              "      <td>None</td>\n",
              "      <td>NaN</td>\n",
              "      <td>NaN</td>\n",
              "      <td>0.017869</td>\n",
              "      <td>0.133676</td>\n",
              "      <td>0.107493</td>\n",
              "    </tr>\n",
              "    <tr>\n",
              "      <th>143</th>\n",
              "      <td>Dummy</td>\n",
              "      <td>Nvidia</td>\n",
              "      <td>NaN</td>\n",
              "      <td>NaN</td>\n",
              "      <td>None</td>\n",
              "      <td>None</td>\n",
              "      <td>NaN</td>\n",
              "      <td>NaN</td>\n",
              "      <td>0.016238</td>\n",
              "      <td>0.127429</td>\n",
              "      <td>0.103206</td>\n",
              "    </tr>\n",
              "  </tbody>\n",
              "</table>\n",
              "<p>144 rows × 11 columns</p>\n",
              "</div>"
            ],
            "text/plain": [
              "     Model     Security  Epochs  ...       MSE      RMSE       MAE\n",
              "0      CNN           Al   200.0  ...  0.004282  0.065435  0.051775\n",
              "1      CNN           Cu    50.0  ...  0.003600  0.060004  0.047846\n",
              "2      CNN         Corn   200.0  ...  0.004581  0.067683  0.048404\n",
              "3      CNN       EURCHF   200.0  ...  0.002924  0.054078  0.043020\n",
              "4      CNN       EURUSD   100.0  ...  0.002823  0.053128  0.041446\n",
              "..     ...          ...     ...  ...       ...       ...       ...\n",
              "139  Dummy      Bund10y     NaN  ...  0.011925  0.109202  0.088719\n",
              "140  Dummy  Treasury10y     NaN  ...  0.011908  0.109124  0.082874\n",
              "141  Dummy       Amazon     NaN  ...  0.034129  0.184740  0.154633\n",
              "142  Dummy       Google     NaN  ...  0.017869  0.133676  0.107493\n",
              "143  Dummy       Nvidia     NaN  ...  0.016238  0.127429  0.103206\n",
              "\n",
              "[144 rows x 11 columns]"
            ]
          },
          "metadata": {
            "tags": []
          },
          "execution_count": 13
        }
      ]
    },
    {
      "cell_type": "code",
      "metadata": {
        "id": "sRlH3TT8tRZM"
      },
      "source": [
        "output_df.to_pickle(df_path+'output_dataframe.pkl')"
      ],
      "execution_count": 14,
      "outputs": []
    },
    {
      "cell_type": "code",
      "metadata": {
        "id": "Sj_cVFMY_Vxf"
      },
      "source": [
        "excel_path = '/content/gdrive/My Drive/output_excel/'\n",
        "output_df.to_excel(excel_path+'output_data.xlsx')"
      ],
      "execution_count": 15,
      "outputs": []
    }
  ]
}