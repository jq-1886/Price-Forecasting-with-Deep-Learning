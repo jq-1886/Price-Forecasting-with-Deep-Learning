{
  "nbformat": 4,
  "nbformat_minor": 0,
  "metadata": {
    "colab": {
      "name": "GRU_AE_Google.ipynb",
      "provenance": [],
      "collapsed_sections": [],
      "authorship_tag": "ABX9TyP2rOzIBt6ugBw+BIb24MQX",
      "include_colab_link": true
    },
    "kernelspec": {
      "name": "python3",
      "display_name": "Python 3"
    },
    "language_info": {
      "name": "python"
    },
    "accelerator": "GPU",
    "widgets": {
      "application/vnd.jupyter.widget-state+json": {
        "5aa514aaa4ee4799a17c5da51be605d9": {
          "model_module": "@jupyter-widgets/controls",
          "model_name": "VBoxModel",
          "state": {
            "_view_name": "VBoxView",
            "_dom_classes": [],
            "_model_name": "VBoxModel",
            "_view_module": "@jupyter-widgets/controls",
            "_model_module_version": "1.5.0",
            "_view_count": null,
            "_view_module_version": "1.5.0",
            "box_style": "",
            "layout": "IPY_MODEL_4e76da173c2241b1866fa054aeb0e80a",
            "_model_module": "@jupyter-widgets/controls",
            "children": [
              "IPY_MODEL_e3529bda0bda41d2bbe434b79fb1a45f",
              "IPY_MODEL_c6fb56fe77604da59ace8dc965dd20bb"
            ]
          }
        },
        "4e76da173c2241b1866fa054aeb0e80a": {
          "model_module": "@jupyter-widgets/base",
          "model_name": "LayoutModel",
          "state": {
            "_view_name": "LayoutView",
            "grid_template_rows": null,
            "right": null,
            "justify_content": null,
            "_view_module": "@jupyter-widgets/base",
            "overflow": null,
            "_model_module_version": "1.2.0",
            "_view_count": null,
            "flex_flow": null,
            "width": null,
            "min_width": null,
            "border": null,
            "align_items": null,
            "bottom": null,
            "_model_module": "@jupyter-widgets/base",
            "top": null,
            "grid_column": null,
            "overflow_y": null,
            "overflow_x": null,
            "grid_auto_flow": null,
            "grid_area": null,
            "grid_template_columns": null,
            "flex": null,
            "_model_name": "LayoutModel",
            "justify_items": null,
            "grid_row": null,
            "max_height": null,
            "align_content": null,
            "visibility": null,
            "align_self": null,
            "height": null,
            "min_height": null,
            "padding": null,
            "grid_auto_rows": null,
            "grid_gap": null,
            "max_width": null,
            "order": null,
            "_view_module_version": "1.2.0",
            "grid_template_areas": null,
            "object_position": null,
            "object_fit": null,
            "grid_auto_columns": null,
            "margin": null,
            "display": null,
            "left": null
          }
        },
        "e3529bda0bda41d2bbe434b79fb1a45f": {
          "model_module": "@jupyter-widgets/controls",
          "model_name": "LabelModel",
          "state": {
            "_view_name": "LabelView",
            "style": "IPY_MODEL_5aec31a8ae20472cad0e129ab2ec5a96",
            "_dom_classes": [],
            "description": "",
            "_model_name": "LabelModel",
            "placeholder": "​",
            "_view_module": "@jupyter-widgets/controls",
            "_model_module_version": "1.5.0",
            "value": " 2.50MB of 2.50MB uploaded (0.00MB deduped)\r",
            "_view_count": null,
            "_view_module_version": "1.5.0",
            "description_tooltip": null,
            "_model_module": "@jupyter-widgets/controls",
            "layout": "IPY_MODEL_4a082e459c3e4ad3a7863be92e111bdd"
          }
        },
        "c6fb56fe77604da59ace8dc965dd20bb": {
          "model_module": "@jupyter-widgets/controls",
          "model_name": "FloatProgressModel",
          "state": {
            "_view_name": "ProgressView",
            "style": "IPY_MODEL_6c3d6e7f09974c5daea829fb52dbbcb0",
            "_dom_classes": [],
            "description": "",
            "_model_name": "FloatProgressModel",
            "bar_style": "",
            "max": 1,
            "_view_module": "@jupyter-widgets/controls",
            "_model_module_version": "1.5.0",
            "value": 1,
            "_view_count": null,
            "_view_module_version": "1.5.0",
            "orientation": "horizontal",
            "min": 0,
            "description_tooltip": null,
            "_model_module": "@jupyter-widgets/controls",
            "layout": "IPY_MODEL_9cff72a3bc9c466c9de51d7172ca7450"
          }
        },
        "5aec31a8ae20472cad0e129ab2ec5a96": {
          "model_module": "@jupyter-widgets/controls",
          "model_name": "DescriptionStyleModel",
          "state": {
            "_view_name": "StyleView",
            "_model_name": "DescriptionStyleModel",
            "description_width": "",
            "_view_module": "@jupyter-widgets/base",
            "_model_module_version": "1.5.0",
            "_view_count": null,
            "_view_module_version": "1.2.0",
            "_model_module": "@jupyter-widgets/controls"
          }
        },
        "4a082e459c3e4ad3a7863be92e111bdd": {
          "model_module": "@jupyter-widgets/base",
          "model_name": "LayoutModel",
          "state": {
            "_view_name": "LayoutView",
            "grid_template_rows": null,
            "right": null,
            "justify_content": null,
            "_view_module": "@jupyter-widgets/base",
            "overflow": null,
            "_model_module_version": "1.2.0",
            "_view_count": null,
            "flex_flow": null,
            "width": null,
            "min_width": null,
            "border": null,
            "align_items": null,
            "bottom": null,
            "_model_module": "@jupyter-widgets/base",
            "top": null,
            "grid_column": null,
            "overflow_y": null,
            "overflow_x": null,
            "grid_auto_flow": null,
            "grid_area": null,
            "grid_template_columns": null,
            "flex": null,
            "_model_name": "LayoutModel",
            "justify_items": null,
            "grid_row": null,
            "max_height": null,
            "align_content": null,
            "visibility": null,
            "align_self": null,
            "height": null,
            "min_height": null,
            "padding": null,
            "grid_auto_rows": null,
            "grid_gap": null,
            "max_width": null,
            "order": null,
            "_view_module_version": "1.2.0",
            "grid_template_areas": null,
            "object_position": null,
            "object_fit": null,
            "grid_auto_columns": null,
            "margin": null,
            "display": null,
            "left": null
          }
        },
        "6c3d6e7f09974c5daea829fb52dbbcb0": {
          "model_module": "@jupyter-widgets/controls",
          "model_name": "ProgressStyleModel",
          "state": {
            "_view_name": "StyleView",
            "_model_name": "ProgressStyleModel",
            "description_width": "",
            "_view_module": "@jupyter-widgets/base",
            "_model_module_version": "1.5.0",
            "_view_count": null,
            "_view_module_version": "1.2.0",
            "bar_color": null,
            "_model_module": "@jupyter-widgets/controls"
          }
        },
        "9cff72a3bc9c466c9de51d7172ca7450": {
          "model_module": "@jupyter-widgets/base",
          "model_name": "LayoutModel",
          "state": {
            "_view_name": "LayoutView",
            "grid_template_rows": null,
            "right": null,
            "justify_content": null,
            "_view_module": "@jupyter-widgets/base",
            "overflow": null,
            "_model_module_version": "1.2.0",
            "_view_count": null,
            "flex_flow": null,
            "width": null,
            "min_width": null,
            "border": null,
            "align_items": null,
            "bottom": null,
            "_model_module": "@jupyter-widgets/base",
            "top": null,
            "grid_column": null,
            "overflow_y": null,
            "overflow_x": null,
            "grid_auto_flow": null,
            "grid_area": null,
            "grid_template_columns": null,
            "flex": null,
            "_model_name": "LayoutModel",
            "justify_items": null,
            "grid_row": null,
            "max_height": null,
            "align_content": null,
            "visibility": null,
            "align_self": null,
            "height": null,
            "min_height": null,
            "padding": null,
            "grid_auto_rows": null,
            "grid_gap": null,
            "max_width": null,
            "order": null,
            "_view_module_version": "1.2.0",
            "grid_template_areas": null,
            "object_position": null,
            "object_fit": null,
            "grid_auto_columns": null,
            "margin": null,
            "display": null,
            "left": null
          }
        },
        "4baca48472a14fdc89c0883eed672b83": {
          "model_module": "@jupyter-widgets/controls",
          "model_name": "VBoxModel",
          "state": {
            "_view_name": "VBoxView",
            "_dom_classes": [],
            "_model_name": "VBoxModel",
            "_view_module": "@jupyter-widgets/controls",
            "_model_module_version": "1.5.0",
            "_view_count": null,
            "_view_module_version": "1.5.0",
            "box_style": "",
            "layout": "IPY_MODEL_deffad97743341cba7a9360e64cacfe9",
            "_model_module": "@jupyter-widgets/controls",
            "children": [
              "IPY_MODEL_262da9b86737473db972e4d13f3d875c",
              "IPY_MODEL_e396066df1ae4efca8876cd2be638b71"
            ]
          }
        },
        "deffad97743341cba7a9360e64cacfe9": {
          "model_module": "@jupyter-widgets/base",
          "model_name": "LayoutModel",
          "state": {
            "_view_name": "LayoutView",
            "grid_template_rows": null,
            "right": null,
            "justify_content": null,
            "_view_module": "@jupyter-widgets/base",
            "overflow": null,
            "_model_module_version": "1.2.0",
            "_view_count": null,
            "flex_flow": null,
            "width": null,
            "min_width": null,
            "border": null,
            "align_items": null,
            "bottom": null,
            "_model_module": "@jupyter-widgets/base",
            "top": null,
            "grid_column": null,
            "overflow_y": null,
            "overflow_x": null,
            "grid_auto_flow": null,
            "grid_area": null,
            "grid_template_columns": null,
            "flex": null,
            "_model_name": "LayoutModel",
            "justify_items": null,
            "grid_row": null,
            "max_height": null,
            "align_content": null,
            "visibility": null,
            "align_self": null,
            "height": null,
            "min_height": null,
            "padding": null,
            "grid_auto_rows": null,
            "grid_gap": null,
            "max_width": null,
            "order": null,
            "_view_module_version": "1.2.0",
            "grid_template_areas": null,
            "object_position": null,
            "object_fit": null,
            "grid_auto_columns": null,
            "margin": null,
            "display": null,
            "left": null
          }
        },
        "262da9b86737473db972e4d13f3d875c": {
          "model_module": "@jupyter-widgets/controls",
          "model_name": "LabelModel",
          "state": {
            "_view_name": "LabelView",
            "style": "IPY_MODEL_f5c850e0b9b24ea9889024f794d2c882",
            "_dom_classes": [],
            "description": "",
            "_model_name": "LabelModel",
            "placeholder": "​",
            "_view_module": "@jupyter-widgets/controls",
            "_model_module_version": "1.5.0",
            "value": " 2.51MB of 2.51MB uploaded (0.00MB deduped)\r",
            "_view_count": null,
            "_view_module_version": "1.5.0",
            "description_tooltip": null,
            "_model_module": "@jupyter-widgets/controls",
            "layout": "IPY_MODEL_8d190847b0434f37b27274a28ede7b67"
          }
        },
        "e396066df1ae4efca8876cd2be638b71": {
          "model_module": "@jupyter-widgets/controls",
          "model_name": "FloatProgressModel",
          "state": {
            "_view_name": "ProgressView",
            "style": "IPY_MODEL_80c52cbbab0443ef9f9a98b3131dff4c",
            "_dom_classes": [],
            "description": "",
            "_model_name": "FloatProgressModel",
            "bar_style": "",
            "max": 1,
            "_view_module": "@jupyter-widgets/controls",
            "_model_module_version": "1.5.0",
            "value": 1,
            "_view_count": null,
            "_view_module_version": "1.5.0",
            "orientation": "horizontal",
            "min": 0,
            "description_tooltip": null,
            "_model_module": "@jupyter-widgets/controls",
            "layout": "IPY_MODEL_72b54d7a23f8438e9b8fd68bb5f9e338"
          }
        },
        "f5c850e0b9b24ea9889024f794d2c882": {
          "model_module": "@jupyter-widgets/controls",
          "model_name": "DescriptionStyleModel",
          "state": {
            "_view_name": "StyleView",
            "_model_name": "DescriptionStyleModel",
            "description_width": "",
            "_view_module": "@jupyter-widgets/base",
            "_model_module_version": "1.5.0",
            "_view_count": null,
            "_view_module_version": "1.2.0",
            "_model_module": "@jupyter-widgets/controls"
          }
        },
        "8d190847b0434f37b27274a28ede7b67": {
          "model_module": "@jupyter-widgets/base",
          "model_name": "LayoutModel",
          "state": {
            "_view_name": "LayoutView",
            "grid_template_rows": null,
            "right": null,
            "justify_content": null,
            "_view_module": "@jupyter-widgets/base",
            "overflow": null,
            "_model_module_version": "1.2.0",
            "_view_count": null,
            "flex_flow": null,
            "width": null,
            "min_width": null,
            "border": null,
            "align_items": null,
            "bottom": null,
            "_model_module": "@jupyter-widgets/base",
            "top": null,
            "grid_column": null,
            "overflow_y": null,
            "overflow_x": null,
            "grid_auto_flow": null,
            "grid_area": null,
            "grid_template_columns": null,
            "flex": null,
            "_model_name": "LayoutModel",
            "justify_items": null,
            "grid_row": null,
            "max_height": null,
            "align_content": null,
            "visibility": null,
            "align_self": null,
            "height": null,
            "min_height": null,
            "padding": null,
            "grid_auto_rows": null,
            "grid_gap": null,
            "max_width": null,
            "order": null,
            "_view_module_version": "1.2.0",
            "grid_template_areas": null,
            "object_position": null,
            "object_fit": null,
            "grid_auto_columns": null,
            "margin": null,
            "display": null,
            "left": null
          }
        },
        "80c52cbbab0443ef9f9a98b3131dff4c": {
          "model_module": "@jupyter-widgets/controls",
          "model_name": "ProgressStyleModel",
          "state": {
            "_view_name": "StyleView",
            "_model_name": "ProgressStyleModel",
            "description_width": "",
            "_view_module": "@jupyter-widgets/base",
            "_model_module_version": "1.5.0",
            "_view_count": null,
            "_view_module_version": "1.2.0",
            "bar_color": null,
            "_model_module": "@jupyter-widgets/controls"
          }
        },
        "72b54d7a23f8438e9b8fd68bb5f9e338": {
          "model_module": "@jupyter-widgets/base",
          "model_name": "LayoutModel",
          "state": {
            "_view_name": "LayoutView",
            "grid_template_rows": null,
            "right": null,
            "justify_content": null,
            "_view_module": "@jupyter-widgets/base",
            "overflow": null,
            "_model_module_version": "1.2.0",
            "_view_count": null,
            "flex_flow": null,
            "width": null,
            "min_width": null,
            "border": null,
            "align_items": null,
            "bottom": null,
            "_model_module": "@jupyter-widgets/base",
            "top": null,
            "grid_column": null,
            "overflow_y": null,
            "overflow_x": null,
            "grid_auto_flow": null,
            "grid_area": null,
            "grid_template_columns": null,
            "flex": null,
            "_model_name": "LayoutModel",
            "justify_items": null,
            "grid_row": null,
            "max_height": null,
            "align_content": null,
            "visibility": null,
            "align_self": null,
            "height": null,
            "min_height": null,
            "padding": null,
            "grid_auto_rows": null,
            "grid_gap": null,
            "max_width": null,
            "order": null,
            "_view_module_version": "1.2.0",
            "grid_template_areas": null,
            "object_position": null,
            "object_fit": null,
            "grid_auto_columns": null,
            "margin": null,
            "display": null,
            "left": null
          }
        },
        "96e3a80d96c243679848eebd39908e2b": {
          "model_module": "@jupyter-widgets/controls",
          "model_name": "VBoxModel",
          "state": {
            "_view_name": "VBoxView",
            "_dom_classes": [],
            "_model_name": "VBoxModel",
            "_view_module": "@jupyter-widgets/controls",
            "_model_module_version": "1.5.0",
            "_view_count": null,
            "_view_module_version": "1.5.0",
            "box_style": "",
            "layout": "IPY_MODEL_a87a8b62a550469aa4c815d8491c3eaf",
            "_model_module": "@jupyter-widgets/controls",
            "children": [
              "IPY_MODEL_c1f2d2a8c17a455ba51e75da70211d41",
              "IPY_MODEL_c312e73345a44a1f8bc71a88565315a0"
            ]
          }
        },
        "a87a8b62a550469aa4c815d8491c3eaf": {
          "model_module": "@jupyter-widgets/base",
          "model_name": "LayoutModel",
          "state": {
            "_view_name": "LayoutView",
            "grid_template_rows": null,
            "right": null,
            "justify_content": null,
            "_view_module": "@jupyter-widgets/base",
            "overflow": null,
            "_model_module_version": "1.2.0",
            "_view_count": null,
            "flex_flow": null,
            "width": null,
            "min_width": null,
            "border": null,
            "align_items": null,
            "bottom": null,
            "_model_module": "@jupyter-widgets/base",
            "top": null,
            "grid_column": null,
            "overflow_y": null,
            "overflow_x": null,
            "grid_auto_flow": null,
            "grid_area": null,
            "grid_template_columns": null,
            "flex": null,
            "_model_name": "LayoutModel",
            "justify_items": null,
            "grid_row": null,
            "max_height": null,
            "align_content": null,
            "visibility": null,
            "align_self": null,
            "height": null,
            "min_height": null,
            "padding": null,
            "grid_auto_rows": null,
            "grid_gap": null,
            "max_width": null,
            "order": null,
            "_view_module_version": "1.2.0",
            "grid_template_areas": null,
            "object_position": null,
            "object_fit": null,
            "grid_auto_columns": null,
            "margin": null,
            "display": null,
            "left": null
          }
        },
        "c1f2d2a8c17a455ba51e75da70211d41": {
          "model_module": "@jupyter-widgets/controls",
          "model_name": "LabelModel",
          "state": {
            "_view_name": "LabelView",
            "style": "IPY_MODEL_65f1092bb49740fa95ea96d478b9de65",
            "_dom_classes": [],
            "description": "",
            "_model_name": "LabelModel",
            "placeholder": "​",
            "_view_module": "@jupyter-widgets/controls",
            "_model_module_version": "1.5.0",
            "value": " 2.52MB of 2.52MB uploaded (0.00MB deduped)\r",
            "_view_count": null,
            "_view_module_version": "1.5.0",
            "description_tooltip": null,
            "_model_module": "@jupyter-widgets/controls",
            "layout": "IPY_MODEL_326a29952c824a2fb56ab56ac1947b3a"
          }
        },
        "c312e73345a44a1f8bc71a88565315a0": {
          "model_module": "@jupyter-widgets/controls",
          "model_name": "FloatProgressModel",
          "state": {
            "_view_name": "ProgressView",
            "style": "IPY_MODEL_b7aba2423bca4e93959d7943cb5e9eea",
            "_dom_classes": [],
            "description": "",
            "_model_name": "FloatProgressModel",
            "bar_style": "",
            "max": 1,
            "_view_module": "@jupyter-widgets/controls",
            "_model_module_version": "1.5.0",
            "value": 1,
            "_view_count": null,
            "_view_module_version": "1.5.0",
            "orientation": "horizontal",
            "min": 0,
            "description_tooltip": null,
            "_model_module": "@jupyter-widgets/controls",
            "layout": "IPY_MODEL_32c989c3eebb423d9300eedd37001263"
          }
        },
        "65f1092bb49740fa95ea96d478b9de65": {
          "model_module": "@jupyter-widgets/controls",
          "model_name": "DescriptionStyleModel",
          "state": {
            "_view_name": "StyleView",
            "_model_name": "DescriptionStyleModel",
            "description_width": "",
            "_view_module": "@jupyter-widgets/base",
            "_model_module_version": "1.5.0",
            "_view_count": null,
            "_view_module_version": "1.2.0",
            "_model_module": "@jupyter-widgets/controls"
          }
        },
        "326a29952c824a2fb56ab56ac1947b3a": {
          "model_module": "@jupyter-widgets/base",
          "model_name": "LayoutModel",
          "state": {
            "_view_name": "LayoutView",
            "grid_template_rows": null,
            "right": null,
            "justify_content": null,
            "_view_module": "@jupyter-widgets/base",
            "overflow": null,
            "_model_module_version": "1.2.0",
            "_view_count": null,
            "flex_flow": null,
            "width": null,
            "min_width": null,
            "border": null,
            "align_items": null,
            "bottom": null,
            "_model_module": "@jupyter-widgets/base",
            "top": null,
            "grid_column": null,
            "overflow_y": null,
            "overflow_x": null,
            "grid_auto_flow": null,
            "grid_area": null,
            "grid_template_columns": null,
            "flex": null,
            "_model_name": "LayoutModel",
            "justify_items": null,
            "grid_row": null,
            "max_height": null,
            "align_content": null,
            "visibility": null,
            "align_self": null,
            "height": null,
            "min_height": null,
            "padding": null,
            "grid_auto_rows": null,
            "grid_gap": null,
            "max_width": null,
            "order": null,
            "_view_module_version": "1.2.0",
            "grid_template_areas": null,
            "object_position": null,
            "object_fit": null,
            "grid_auto_columns": null,
            "margin": null,
            "display": null,
            "left": null
          }
        },
        "b7aba2423bca4e93959d7943cb5e9eea": {
          "model_module": "@jupyter-widgets/controls",
          "model_name": "ProgressStyleModel",
          "state": {
            "_view_name": "StyleView",
            "_model_name": "ProgressStyleModel",
            "description_width": "",
            "_view_module": "@jupyter-widgets/base",
            "_model_module_version": "1.5.0",
            "_view_count": null,
            "_view_module_version": "1.2.0",
            "bar_color": null,
            "_model_module": "@jupyter-widgets/controls"
          }
        },
        "32c989c3eebb423d9300eedd37001263": {
          "model_module": "@jupyter-widgets/base",
          "model_name": "LayoutModel",
          "state": {
            "_view_name": "LayoutView",
            "grid_template_rows": null,
            "right": null,
            "justify_content": null,
            "_view_module": "@jupyter-widgets/base",
            "overflow": null,
            "_model_module_version": "1.2.0",
            "_view_count": null,
            "flex_flow": null,
            "width": null,
            "min_width": null,
            "border": null,
            "align_items": null,
            "bottom": null,
            "_model_module": "@jupyter-widgets/base",
            "top": null,
            "grid_column": null,
            "overflow_y": null,
            "overflow_x": null,
            "grid_auto_flow": null,
            "grid_area": null,
            "grid_template_columns": null,
            "flex": null,
            "_model_name": "LayoutModel",
            "justify_items": null,
            "grid_row": null,
            "max_height": null,
            "align_content": null,
            "visibility": null,
            "align_self": null,
            "height": null,
            "min_height": null,
            "padding": null,
            "grid_auto_rows": null,
            "grid_gap": null,
            "max_width": null,
            "order": null,
            "_view_module_version": "1.2.0",
            "grid_template_areas": null,
            "object_position": null,
            "object_fit": null,
            "grid_auto_columns": null,
            "margin": null,
            "display": null,
            "left": null
          }
        }
      }
    }
  },
  "cells": [
    {
      "cell_type": "markdown",
      "metadata": {
        "id": "view-in-github",
        "colab_type": "text"
      },
      "source": [
        "<a href=\"https://colab.research.google.com/github/acse-2020/acse2020-acse9-finalreport-acse-jaq15/blob/main/notebooks/GRU_AE/GRU_AE_Google.ipynb\" target=\"_parent\"><img src=\"https://colab.research.google.com/assets/colab-badge.svg\" alt=\"Open In Colab\"/></a>"
      ]
    },
    {
      "cell_type": "markdown",
      "metadata": {
        "id": "z5F7GfFTgUo3"
      },
      "source": [
        "# Imports\n",
        "\n",
        "The cells below handle all the necessary imports to run our models, making use of the public repo feeder_repo, linked <!-- [Text](link) -->\n",
        "[here](https://github.com/acse-jaq15/feeder_repo)."
      ]
    },
    {
      "cell_type": "code",
      "metadata": {
        "id": "HWy9Ay1SGzWa",
        "colab": {
          "base_uri": "https://localhost:8080/"
        },
        "outputId": "b3b9ebe2-4fa9-48fc-b46d-7aec8966e550"
      },
      "source": [
        "# clone the feeder repo to get data_reader module and financial time series data\n",
        "!git clone https://github.com/acse-jaq15/feeder_repo.git"
      ],
      "execution_count": 1,
      "outputs": [
        {
          "output_type": "stream",
          "text": [
            "Cloning into 'feeder_repo'...\n",
            "remote: Enumerating objects: 147, done.\u001b[K\n",
            "remote: Counting objects: 100% (147/147), done.\u001b[K\n",
            "remote: Compressing objects: 100% (142/142), done.\u001b[K\n",
            "remote: Total 147 (delta 71), reused 6 (delta 2), pack-reused 0\u001b[K\n",
            "Receiving objects: 100% (147/147), 120.19 KiB | 5.22 MiB/s, done.\n",
            "Resolving deltas: 100% (71/71), done.\n"
          ],
          "name": "stdout"
        }
      ]
    },
    {
      "cell_type": "code",
      "metadata": {
        "id": "ChlUNYaiHGM2",
        "colab": {
          "base_uri": "https://localhost:8080/"
        },
        "outputId": "7325b70d-01e7-48e5-a5fd-d231b7708755"
      },
      "source": [
        "# using '%' to enforce a permanent change of directory\n",
        "%cd feeder_repo/"
      ],
      "execution_count": 2,
      "outputs": [
        {
          "output_type": "stream",
          "text": [
            "/content/feeder_repo\n"
          ],
          "name": "stdout"
        }
      ]
    },
    {
      "cell_type": "code",
      "metadata": {
        "id": "saD-jpvPIfZ8",
        "colab": {
          "base_uri": "https://localhost:8080/"
        },
        "outputId": "5e2baaf3-f577-4a7d-ff17-e059873919c2"
      },
      "source": [
        "# checking contents listed correctly, should read:\n",
        "# baseline_model.py data data_reader.py LICENSE README.md security_plotter.py\n",
        "!ls"
      ],
      "execution_count": 3,
      "outputs": [
        {
          "output_type": "stream",
          "text": [
            "base_model.py  data  data_reader.py  LICENSE  README.md  security_plotter.py\n"
          ],
          "name": "stdout"
        }
      ]
    },
    {
      "cell_type": "code",
      "metadata": {
        "id": "fRqkwo6kZUz_"
      },
      "source": [
        "import math\n",
        "import sys\n",
        "import keras\n",
        "import os\n",
        "import matplotlib.dates as mdates\n",
        "import matplotlib.pyplot as plt\n",
        "import pandas as pd\n",
        "import numpy as np\n",
        "from keras.models import Sequential\n",
        "from keras.layers import Dense\n",
        "from keras.layers import LSTM\n",
        "from keras.layers import GRU\n",
        "from keras.layers import Dropout\n",
        "from keras.layers import *\n",
        "from keras.utils.layer_utils import count_params\n",
        "from keras.utils.vis_utils import plot_model\n",
        "from sklearn.preprocessing import MinMaxScaler\n",
        "from sklearn.metrics import mean_squared_error\n",
        "from sklearn.metrics import mean_absolute_error\n",
        "from sklearn.model_selection import train_test_split\n",
        "from keras.callbacks import EarlyStopping, Callback\n",
        "from keras.optimizers import RMSprop, SGD, Adam, Nadam\n",
        "from keras.initializers import random_normal"
      ],
      "execution_count": 4,
      "outputs": []
    },
    {
      "cell_type": "code",
      "metadata": {
        "id": "hzVhwND1HAlw"
      },
      "source": [
        "# appending path with 'feeder_repo' string\n",
        "sys.path.append('feeder_repo')\n",
        "\n",
        "# import Data_Reader class from data_reader module\n",
        "from feeder_repo.data_reader import Data_Reader\n",
        "# import Baseline_Model class from base_model module\n",
        "from feeder_repo.base_model import Base_Model\n",
        "# import Security_Plotter class from security_plotter module\n",
        "from feeder_repo.security_plotter import Security_Plotter"
      ],
      "execution_count": 5,
      "outputs": []
    },
    {
      "cell_type": "code",
      "metadata": {
        "colab": {
          "base_uri": "https://localhost:8080/"
        },
        "id": "6-tNDlXuhiCU",
        "outputId": "9354d841-f742-4f82-fbe4-8bb04a90de05"
      },
      "source": [
        "# checking if the notebook is running on a GPU\n",
        "gpu_info = !nvidia-smi\n",
        "gpu_info = '\\n'.join(gpu_info)\n",
        "if gpu_info.find('failed') >= 0:\n",
        "    print('Select the Runtime > \"Change runtime type\" menu to enable a GPU accelerator, ')\n",
        "    print('and then re-execute this cell.')\n",
        "else:\n",
        "    print(gpu_info)"
      ],
      "execution_count": 6,
      "outputs": [
        {
          "output_type": "stream",
          "text": [
            "Tue Jul 20 13:51:29 2021       \n",
            "+-----------------------------------------------------------------------------+\n",
            "| NVIDIA-SMI 470.42.01    Driver Version: 460.32.03    CUDA Version: 11.2     |\n",
            "|-------------------------------+----------------------+----------------------+\n",
            "| GPU  Name        Persistence-M| Bus-Id        Disp.A | Volatile Uncorr. ECC |\n",
            "| Fan  Temp  Perf  Pwr:Usage/Cap|         Memory-Usage | GPU-Util  Compute M. |\n",
            "|                               |                      |               MIG M. |\n",
            "|===============================+======================+======================|\n",
            "|   0  Tesla P100-PCIE...  Off  | 00000000:00:04.0 Off |                    0 |\n",
            "| N/A   39C    P0    26W / 250W |      0MiB / 16280MiB |      0%      Default |\n",
            "|                               |                      |                  N/A |\n",
            "+-------------------------------+----------------------+----------------------+\n",
            "                                                                               \n",
            "+-----------------------------------------------------------------------------+\n",
            "| Processes:                                                                  |\n",
            "|  GPU   GI   CI        PID   Type   Process name                  GPU Memory |\n",
            "|        ID   ID                                                   Usage      |\n",
            "|=============================================================================|\n",
            "|  No running processes found                                                 |\n",
            "+-----------------------------------------------------------------------------+\n"
          ],
          "name": "stdout"
        }
      ]
    },
    {
      "cell_type": "markdown",
      "metadata": {
        "id": "WB9wD4Aahs8_"
      },
      "source": [
        "# Handling the data\n",
        "Here the Data_Reader class is used to read the time series data and extract training, test and validation sets, along with the relevant X and y values."
      ]
    },
    {
      "cell_type": "code",
      "metadata": {
        "id": "vBlKerL-c4-3"
      },
      "source": [
        "# storing the file to be read as a string\n",
        "in_str = 'Google'\n",
        "# storing the year of the time series to be used as test data\n",
        "in_yr = 2019\n",
        "# creating a variable to store the model name\n",
        "model_str = 'GRU_AE'\n",
        "# setting our window_length to be 30 days\n",
        "window_len = 30"
      ],
      "execution_count": 7,
      "outputs": []
    },
    {
      "cell_type": "code",
      "metadata": {
        "id": "hfQJbuBk0vW0"
      },
      "source": [
        "# creating an instance of Data_Reader class\n",
        "in_data = Data_Reader(in_str, in_yr)\n",
        "# calling class method extract_train_test to generate training and test datasets\n",
        "in_data.extract_train_test()\n",
        "# calling class method extract_xy to generate X and y training and test datasets\n",
        "in_data.extract_xy(window_len)\n",
        "\n",
        "# assigning X_train and y_train\n",
        "X_train = in_data.X_train\n",
        "y_train = in_data.y_train\n",
        "\n",
        "# assigning X_test and y_test\n",
        "X_test = in_data.X_test\n",
        "y_test = in_data.y_test\n",
        "\n",
        "# assigning X_val_train and y_val_train\n",
        "X_val_train = in_data.X_val_train\n",
        "y_val_train = in_data.y_val_train\n",
        "\n",
        "# assigning X_val_test and y_val_test\n",
        "X_val_test = in_data.X_val_test\n",
        "y_val_test = in_data.y_val_test"
      ],
      "execution_count": 8,
      "outputs": []
    },
    {
      "cell_type": "markdown",
      "metadata": {
        "id": "X53Fp1Gwh88_"
      },
      "source": [
        "# Setting up wandb itegration\n",
        "Here wandb is used to perform hyperparameter tuning."
      ]
    },
    {
      "cell_type": "code",
      "metadata": {
        "colab": {
          "base_uri": "https://localhost:8080/"
        },
        "id": "aE6cdrSDiHhq",
        "outputId": "034288c2-e536-433c-a78c-dfd32ae4fdc2"
      },
      "source": [
        "# installing the wandb library and importing\n",
        "%pip install wandb -q\n",
        "import wandb\n",
        "from wandb.keras import WandbCallback"
      ],
      "execution_count": 9,
      "outputs": [
        {
          "output_type": "stream",
          "text": [
            "\u001b[K     |████████████████████████████████| 1.8 MB 10.5 MB/s \n",
            "\u001b[K     |████████████████████████████████| 170 kB 52.0 MB/s \n",
            "\u001b[K     |████████████████████████████████| 138 kB 53.3 MB/s \n",
            "\u001b[K     |████████████████████████████████| 133 kB 50.9 MB/s \n",
            "\u001b[K     |████████████████████████████████| 97 kB 7.4 MB/s \n",
            "\u001b[K     |████████████████████████████████| 63 kB 1.9 MB/s \n",
            "\u001b[K     |████████████████████████████████| 62 kB 943 kB/s \n",
            "\u001b[?25h  Building wheel for subprocess32 (setup.py) ... \u001b[?25l\u001b[?25hdone\n",
            "  Building wheel for pathtools (setup.py) ... \u001b[?25l\u001b[?25hdone\n",
            "\u001b[31mERROR: pip's dependency resolver does not currently take into account all the packages that are installed. This behaviour is the source of the following dependency conflicts.\n",
            "google-colab 1.0.0 requires requests~=2.23.0, but you have requests 2.26.0 which is incompatible.\n",
            "datascience 0.10.6 requires folium==0.2.1, but you have folium 0.8.3 which is incompatible.\u001b[0m\n"
          ],
          "name": "stdout"
        }
      ]
    },
    {
      "cell_type": "code",
      "metadata": {
        "id": "pbgZaoQDiIKX"
      },
      "source": [
        "!pip install wandb -qq"
      ],
      "execution_count": 10,
      "outputs": []
    },
    {
      "cell_type": "code",
      "metadata": {
        "colab": {
          "base_uri": "https://localhost:8080/"
        },
        "id": "1WHkW0XyiKVL",
        "outputId": "7d92dc52-6a15-488c-d21b-05142b78df4f"
      },
      "source": [
        "# logging in so the hyperparameter tunings sweeps can be saved\n",
        "!wandb login"
      ],
      "execution_count": 11,
      "outputs": [
        {
          "output_type": "stream",
          "text": [
            "\u001b[34m\u001b[1mwandb\u001b[0m: You can find your API key in your browser here: https://wandb.ai/authorize\n",
            "\u001b[34m\u001b[1mwandb\u001b[0m: Paste an API key from your profile and hit enter: \n",
            "\u001b[34m\u001b[1mwandb\u001b[0m: Appending key for api.wandb.ai to your netrc file: /root/.netrc\n"
          ],
          "name": "stdout"
        }
      ]
    },
    {
      "cell_type": "code",
      "metadata": {
        "id": "j91IBGuSid5w"
      },
      "source": [
        "# configuring the sweep, making use of a random search methodology\n",
        "sweep_config = {\n",
        "    'method': 'random', #grid, random\n",
        "    'metric': {\n",
        "      'name': 'mse',\n",
        "      'goal': 'minimize'   \n",
        "    },\n",
        "    'parameters': {\n",
        "        'epochs': {\n",
        "            'values': [50, 100, 200]\n",
        "        },\n",
        "        'batch_size': {\n",
        "            'values': [128, 64, 32]\n",
        "        },\n",
        "        'learning_rate': {\n",
        "            'values': [0.005, 0.001, 0.0005]\n",
        "        },\n",
        "        'dropout': {\n",
        "            'values': [0.1, 0.2, 0.3]\n",
        "        },\n",
        "        'optimizer': {\n",
        "            'values': ['adam', 'nadam', 'rmsprop']\n",
        "        },\n",
        "        'activation': {\n",
        "            'values': ['tanh', 'relu']\n",
        "        }\n",
        "    }\n",
        "}"
      ],
      "execution_count": 12,
      "outputs": []
    },
    {
      "cell_type": "code",
      "metadata": {
        "id": "V0Sr9HsorH4E"
      },
      "source": [
        "# wandb calls this training function to run through the hyperparameter search\n",
        "def train():\n",
        "    # default values for searching\n",
        "    config_defaults = {\n",
        "        'epochs': 100,\n",
        "        'batch_size': 32,\n",
        "        'learning_rate': 0.005,\n",
        "        'optimizer': 'adam',\n",
        "        'activation': 'tanh',\n",
        "        'momentum': 0.9,\n",
        "        'seed': 42\n",
        "    }\n",
        "\n",
        "    # Initialize a new wandb run\n",
        "    wandb.init(config=config_defaults)\n",
        "    \n",
        "    # Config is a variable that holds and saves hyperparameters and inputs\n",
        "    config = wandb.config\n",
        "\n",
        "    # setting keras model to sequential mode\n",
        "    model = Sequential()\n",
        "\n",
        "     # layer 1\n",
        "    model.add(GRU(units=128, return_sequences=True, input_shape=(window_len, 1), activation=config.activation))\n",
        "    model.add(Dropout(config.dropout))\n",
        "    # layer 2\n",
        "    model.add(GRU(units=64, return_sequences=False, activation=config.activation))\n",
        "    model.add(Dropout(config.dropout))\n",
        "    # layer 3\n",
        "    model.add(RepeatVector(window_len))\n",
        "    # layer 4\n",
        "    model.add(GRU(units=64, return_sequences=True, activation=config.activation))\n",
        "    model.add(Dropout(config.dropout))\n",
        "    # layer 5\n",
        "    model.add(GRU(units=128, return_sequences=False, activation=config.activation))\n",
        "    model.add(Dropout(0.1))\n",
        "    # layer 6\n",
        "    model.add((Dense(1)))\n",
        "\n",
        "    # Define the optimizer\n",
        "    if config.optimizer=='sgd':\n",
        "      optimizer = SGD(learning_rate=config.learning_rate, decay=1e-5, momentum=config.momentum, nesterov=True)\n",
        "    elif config.optimizer=='rmsprop':\n",
        "      optimizer = RMSprop(learning_rate=config.learning_rate, decay=1e-5)\n",
        "    elif config.optimizer=='adam':\n",
        "      optimizer = Adam(learning_rate=config.learning_rate, beta_1=0.9, beta_2=0.999, clipnorm=1.0)\n",
        "    elif config.optimizer=='nadam':\n",
        "      optimizer = Nadam(learning_rate=config.learning_rate, beta_1=0.9, beta_2=0.999, clipnorm=1.0)\n",
        "\n",
        "    model.compile(loss = \"mean_squared_error\", optimizer=optimizer, metrics=['mean_squared_error', 'mean_absolute_error'])\n",
        "\n",
        "    model.fit(X_val_train, y_val_train, batch_size=config.batch_size,\n",
        "              epochs=config.epochs,\n",
        "              validation_data=(X_val_test, y_val_test),\n",
        "              callbacks=[WandbCallback(validation_data=(X_val_test, y_val_test)),\n",
        "                          EarlyStopping(patience=10, restore_best_weights=True)])"
      ],
      "execution_count": 13,
      "outputs": []
    },
    {
      "cell_type": "code",
      "metadata": {
        "colab": {
          "base_uri": "https://localhost:8080/"
        },
        "id": "JwZO6oAFU1LN",
        "outputId": "3946bdce-f8ee-4c53-dcf8-aba2c9a5fefc"
      },
      "source": [
        "# setting up our sweep_id\n",
        "sweep_id = wandb.sweep(sweep_config, project='ACSE_9_'+model_str)"
      ],
      "execution_count": 14,
      "outputs": [
        {
          "output_type": "stream",
          "text": [
            "Create sweep with ID: sdhbein4\n",
            "Sweep URL: https://wandb.ai/acse-jaq15/ACSE_9_GRU_AE/sweeps/sdhbein4\n"
          ],
          "name": "stdout"
        }
      ]
    },
    {
      "cell_type": "code",
      "metadata": {
        "colab": {
          "base_uri": "https://localhost:8080/",
          "height": 1000,
          "referenced_widgets": [
            "5aa514aaa4ee4799a17c5da51be605d9",
            "4e76da173c2241b1866fa054aeb0e80a",
            "e3529bda0bda41d2bbe434b79fb1a45f",
            "c6fb56fe77604da59ace8dc965dd20bb",
            "5aec31a8ae20472cad0e129ab2ec5a96",
            "4a082e459c3e4ad3a7863be92e111bdd",
            "6c3d6e7f09974c5daea829fb52dbbcb0",
            "9cff72a3bc9c466c9de51d7172ca7450",
            "4baca48472a14fdc89c0883eed672b83",
            "deffad97743341cba7a9360e64cacfe9",
            "262da9b86737473db972e4d13f3d875c",
            "e396066df1ae4efca8876cd2be638b71",
            "f5c850e0b9b24ea9889024f794d2c882",
            "8d190847b0434f37b27274a28ede7b67",
            "80c52cbbab0443ef9f9a98b3131dff4c",
            "72b54d7a23f8438e9b8fd68bb5f9e338",
            "96e3a80d96c243679848eebd39908e2b",
            "a87a8b62a550469aa4c815d8491c3eaf",
            "c1f2d2a8c17a455ba51e75da70211d41",
            "c312e73345a44a1f8bc71a88565315a0",
            "65f1092bb49740fa95ea96d478b9de65",
            "326a29952c824a2fb56ab56ac1947b3a",
            "b7aba2423bca4e93959d7943cb5e9eea",
            "32c989c3eebb423d9300eedd37001263"
          ]
        },
        "id": "ZfSCGWfluFw0",
        "outputId": "f00e2e3e-e109-4c49-a82d-b87285ffc297"
      },
      "source": [
        "# initialising a new sweep\n",
        "wandb.agent(sweep_id, train, project='ACSE_9_'+model_str)"
      ],
      "execution_count": 16,
      "outputs": [
        {
          "output_type": "stream",
          "text": [
            "\u001b[34m\u001b[1mwandb\u001b[0m: Agent Starting Run: qhyep3jq with config:\n",
            "\u001b[34m\u001b[1mwandb\u001b[0m: \tactivation: relu\n",
            "\u001b[34m\u001b[1mwandb\u001b[0m: \tbatch_size: 32\n",
            "\u001b[34m\u001b[1mwandb\u001b[0m: \tdropout: 0.3\n",
            "\u001b[34m\u001b[1mwandb\u001b[0m: \tepochs: 100\n",
            "\u001b[34m\u001b[1mwandb\u001b[0m: \tlearning_rate: 0.005\n",
            "\u001b[34m\u001b[1mwandb\u001b[0m: \toptimizer: nadam\n"
          ],
          "name": "stderr"
        },
        {
          "output_type": "display_data",
          "data": {
            "text/html": [
              "\n",
              "                Tracking run with wandb version 0.11.0<br/>\n",
              "                Syncing run <strong style=\"color:#cdcd00\">cerulean-sweep-25</strong> to <a href=\"https://wandb.ai\" target=\"_blank\">Weights & Biases</a> <a href=\"https://docs.wandb.com/integrations/jupyter.html\" target=\"_blank\">(Documentation)</a>.<br/>\n",
              "                Project page: <a href=\"https://wandb.ai/acse-jaq15/ACSE_9_GRU_AE\" target=\"_blank\">https://wandb.ai/acse-jaq15/ACSE_9_GRU_AE</a><br/>\n",
              "                Sweep page: <a href=\"https://wandb.ai/acse-jaq15/ACSE_9_GRU_AE/sweeps/sdhbein4\" target=\"_blank\">https://wandb.ai/acse-jaq15/ACSE_9_GRU_AE/sweeps/sdhbein4</a><br/>\n",
              "Run page: <a href=\"https://wandb.ai/acse-jaq15/ACSE_9_GRU_AE/runs/qhyep3jq\" target=\"_blank\">https://wandb.ai/acse-jaq15/ACSE_9_GRU_AE/runs/qhyep3jq</a><br/>\n",
              "                Run data is saved locally in <code>/content/feeder_repo/wandb/run-20210720_151348-qhyep3jq</code><br/><br/>\n",
              "            "
            ],
            "text/plain": [
              "<IPython.core.display.HTML object>"
            ]
          },
          "metadata": {
            "tags": []
          }
        },
        {
          "output_type": "stream",
          "text": [
            "WARNING:tensorflow:Layer gru will not use cuDNN kernels since it doesn't meet the criteria. It will use a generic GPU kernel as fallback when running on GPU.\n",
            "WARNING:tensorflow:Layer gru_1 will not use cuDNN kernels since it doesn't meet the criteria. It will use a generic GPU kernel as fallback when running on GPU.\n",
            "WARNING:tensorflow:Layer gru_2 will not use cuDNN kernels since it doesn't meet the criteria. It will use a generic GPU kernel as fallback when running on GPU.\n",
            "WARNING:tensorflow:Layer gru_3 will not use cuDNN kernels since it doesn't meet the criteria. It will use a generic GPU kernel as fallback when running on GPU.\n",
            "Epoch 1/100\n",
            "31/31 [==============================] - 22s 441ms/step - loss: 0.0759 - mean_squared_error: 0.0759 - mean_absolute_error: 0.2044 - val_loss: 0.0100 - val_mean_squared_error: 0.0100 - val_mean_absolute_error: 0.0798\n",
            "Epoch 2/100\n",
            "31/31 [==============================] - 12s 375ms/step - loss: 0.0089 - mean_squared_error: 0.0089 - mean_absolute_error: 0.0697 - val_loss: 0.0134 - val_mean_squared_error: 0.0134 - val_mean_absolute_error: 0.0909\n",
            "Epoch 3/100\n",
            "31/31 [==============================] - 11s 368ms/step - loss: 0.0064 - mean_squared_error: 0.0064 - mean_absolute_error: 0.0592 - val_loss: 0.0115 - val_mean_squared_error: 0.0115 - val_mean_absolute_error: 0.0838\n",
            "Epoch 4/100\n",
            "31/31 [==============================] - 12s 374ms/step - loss: 0.0040 - mean_squared_error: 0.0040 - mean_absolute_error: 0.0488 - val_loss: 0.0085 - val_mean_squared_error: 0.0085 - val_mean_absolute_error: 0.0733\n",
            "Epoch 5/100\n",
            "31/31 [==============================] - 12s 383ms/step - loss: 0.0039 - mean_squared_error: 0.0039 - mean_absolute_error: 0.0474 - val_loss: 0.0098 - val_mean_squared_error: 0.0098 - val_mean_absolute_error: 0.0782\n",
            "Epoch 6/100\n",
            "31/31 [==============================] - 12s 377ms/step - loss: 0.0041 - mean_squared_error: 0.0041 - mean_absolute_error: 0.0496 - val_loss: 0.0082 - val_mean_squared_error: 0.0082 - val_mean_absolute_error: 0.0720\n",
            "Epoch 7/100\n",
            "31/31 [==============================] - 12s 376ms/step - loss: 0.0033 - mean_squared_error: 0.0033 - mean_absolute_error: 0.0423 - val_loss: 0.0117 - val_mean_squared_error: 0.0117 - val_mean_absolute_error: 0.0893\n",
            "Epoch 8/100\n",
            "31/31 [==============================] - 12s 371ms/step - loss: 0.0058 - mean_squared_error: 0.0058 - mean_absolute_error: 0.0570 - val_loss: 0.0111 - val_mean_squared_error: 0.0111 - val_mean_absolute_error: 0.0840\n",
            "Epoch 9/100\n",
            "31/31 [==============================] - 12s 388ms/step - loss: 0.0028 - mean_squared_error: 0.0028 - mean_absolute_error: 0.0397 - val_loss: 0.0108 - val_mean_squared_error: 0.0108 - val_mean_absolute_error: 0.0872\n",
            "Epoch 10/100\n",
            "31/31 [==============================] - 12s 373ms/step - loss: 0.0038 - mean_squared_error: 0.0038 - mean_absolute_error: 0.0477 - val_loss: 0.0073 - val_mean_squared_error: 0.0073 - val_mean_absolute_error: 0.0690\n",
            "Epoch 11/100\n",
            "31/31 [==============================] - 11s 365ms/step - loss: 0.0019 - mean_squared_error: 0.0019 - mean_absolute_error: 0.0336 - val_loss: 0.0062 - val_mean_squared_error: 0.0062 - val_mean_absolute_error: 0.0630\n",
            "Epoch 12/100\n",
            "31/31 [==============================] - 11s 357ms/step - loss: 0.0018 - mean_squared_error: 0.0018 - mean_absolute_error: 0.0320 - val_loss: 0.0148 - val_mean_squared_error: 0.0148 - val_mean_absolute_error: 0.0994\n",
            "Epoch 13/100\n",
            "31/31 [==============================] - 11s 369ms/step - loss: 0.0040 - mean_squared_error: 0.0040 - mean_absolute_error: 0.0466 - val_loss: 0.0077 - val_mean_squared_error: 0.0077 - val_mean_absolute_error: 0.0668\n",
            "Epoch 14/100\n",
            "31/31 [==============================] - 11s 364ms/step - loss: 0.0024 - mean_squared_error: 0.0024 - mean_absolute_error: 0.0377 - val_loss: 0.0069 - val_mean_squared_error: 0.0069 - val_mean_absolute_error: 0.0656\n",
            "Epoch 15/100\n",
            "31/31 [==============================] - 12s 373ms/step - loss: 0.0025 - mean_squared_error: 0.0025 - mean_absolute_error: 0.0361 - val_loss: 0.0080 - val_mean_squared_error: 0.0080 - val_mean_absolute_error: 0.0698\n",
            "Epoch 16/100\n",
            "31/31 [==============================] - 11s 369ms/step - loss: 0.0023 - mean_squared_error: 0.0023 - mean_absolute_error: 0.0367 - val_loss: 0.0063 - val_mean_squared_error: 0.0063 - val_mean_absolute_error: 0.0643\n",
            "Epoch 17/100\n",
            "31/31 [==============================] - 11s 355ms/step - loss: 0.0026 - mean_squared_error: 0.0026 - mean_absolute_error: 0.0385 - val_loss: 0.0069 - val_mean_squared_error: 0.0069 - val_mean_absolute_error: 0.0635\n",
            "Epoch 18/100\n",
            "31/31 [==============================] - 12s 373ms/step - loss: 0.0016 - mean_squared_error: 0.0016 - mean_absolute_error: 0.0311 - val_loss: 0.0057 - val_mean_squared_error: 0.0057 - val_mean_absolute_error: 0.0601\n",
            "Epoch 19/100\n",
            "31/31 [==============================] - 11s 364ms/step - loss: 0.0017 - mean_squared_error: 0.0017 - mean_absolute_error: 0.0320 - val_loss: 0.0055 - val_mean_squared_error: 0.0055 - val_mean_absolute_error: 0.0591\n",
            "Epoch 20/100\n",
            "31/31 [==============================] - 12s 371ms/step - loss: 0.0017 - mean_squared_error: 0.0017 - mean_absolute_error: 0.0313 - val_loss: 0.0055 - val_mean_squared_error: 0.0055 - val_mean_absolute_error: 0.0595\n",
            "Epoch 21/100\n",
            "31/31 [==============================] - 12s 373ms/step - loss: 0.0015 - mean_squared_error: 0.0015 - mean_absolute_error: 0.0296 - val_loss: 0.0068 - val_mean_squared_error: 0.0068 - val_mean_absolute_error: 0.0670\n",
            "Epoch 22/100\n",
            "31/31 [==============================] - 12s 383ms/step - loss: 0.0026 - mean_squared_error: 0.0026 - mean_absolute_error: 0.0371 - val_loss: 0.0058 - val_mean_squared_error: 0.0058 - val_mean_absolute_error: 0.0578\n",
            "Epoch 23/100\n",
            "31/31 [==============================] - 12s 378ms/step - loss: 0.0017 - mean_squared_error: 0.0017 - mean_absolute_error: 0.0310 - val_loss: 0.0052 - val_mean_squared_error: 0.0052 - val_mean_absolute_error: 0.0571\n",
            "Epoch 24/100\n",
            "31/31 [==============================] - 12s 374ms/step - loss: 0.0016 - mean_squared_error: 0.0016 - mean_absolute_error: 0.0301 - val_loss: 0.0065 - val_mean_squared_error: 0.0065 - val_mean_absolute_error: 0.0612\n",
            "Epoch 25/100\n",
            "31/31 [==============================] - 11s 367ms/step - loss: 0.0019 - mean_squared_error: 0.0019 - mean_absolute_error: 0.0323 - val_loss: 0.0054 - val_mean_squared_error: 0.0054 - val_mean_absolute_error: 0.0580\n",
            "Epoch 26/100\n",
            "31/31 [==============================] - 11s 366ms/step - loss: 0.0017 - mean_squared_error: 0.0017 - mean_absolute_error: 0.0314 - val_loss: 0.0062 - val_mean_squared_error: 0.0062 - val_mean_absolute_error: 0.0605\n",
            "Epoch 27/100\n",
            "31/31 [==============================] - 11s 363ms/step - loss: 0.0016 - mean_squared_error: 0.0016 - mean_absolute_error: 0.0313 - val_loss: 0.0050 - val_mean_squared_error: 0.0050 - val_mean_absolute_error: 0.0548\n",
            "Epoch 28/100\n",
            "31/31 [==============================] - 11s 365ms/step - loss: 0.0016 - mean_squared_error: 0.0016 - mean_absolute_error: 0.0301 - val_loss: 0.0062 - val_mean_squared_error: 0.0062 - val_mean_absolute_error: 0.0617\n",
            "Epoch 29/100\n",
            "31/31 [==============================] - 12s 377ms/step - loss: 0.0019 - mean_squared_error: 0.0019 - mean_absolute_error: 0.0329 - val_loss: 0.0050 - val_mean_squared_error: 0.0050 - val_mean_absolute_error: 0.0566\n",
            "Epoch 30/100\n",
            "31/31 [==============================] - 12s 379ms/step - loss: 0.0017 - mean_squared_error: 0.0017 - mean_absolute_error: 0.0316 - val_loss: 0.0062 - val_mean_squared_error: 0.0062 - val_mean_absolute_error: 0.0614\n",
            "Epoch 31/100\n",
            "31/31 [==============================] - 12s 379ms/step - loss: 0.0016 - mean_squared_error: 0.0016 - mean_absolute_error: 0.0308 - val_loss: 0.0081 - val_mean_squared_error: 0.0081 - val_mean_absolute_error: 0.0729\n",
            "Epoch 32/100\n",
            "31/31 [==============================] - 12s 379ms/step - loss: 0.0022 - mean_squared_error: 0.0022 - mean_absolute_error: 0.0342 - val_loss: 0.0051 - val_mean_squared_error: 0.0051 - val_mean_absolute_error: 0.0561\n",
            "Epoch 33/100\n",
            "31/31 [==============================] - 12s 379ms/step - loss: 0.0015 - mean_squared_error: 0.0015 - mean_absolute_error: 0.0294 - val_loss: 0.0053 - val_mean_squared_error: 0.0053 - val_mean_absolute_error: 0.0589\n",
            "Epoch 34/100\n",
            "31/31 [==============================] - 12s 386ms/step - loss: 0.0018 - mean_squared_error: 0.0018 - mean_absolute_error: 0.0310 - val_loss: 0.0059 - val_mean_squared_error: 0.0059 - val_mean_absolute_error: 0.0588\n",
            "Epoch 35/100\n",
            "31/31 [==============================] - 12s 371ms/step - loss: 0.0015 - mean_squared_error: 0.0015 - mean_absolute_error: 0.0288 - val_loss: 0.0063 - val_mean_squared_error: 0.0063 - val_mean_absolute_error: 0.0606\n",
            "Epoch 36/100\n",
            "31/31 [==============================] - 11s 372ms/step - loss: 0.0014 - mean_squared_error: 0.0014 - mean_absolute_error: 0.0296 - val_loss: 0.0060 - val_mean_squared_error: 0.0060 - val_mean_absolute_error: 0.0624\n",
            "Epoch 37/100\n",
            "31/31 [==============================] - 12s 374ms/step - loss: 0.0015 - mean_squared_error: 0.0015 - mean_absolute_error: 0.0293 - val_loss: 0.0048 - val_mean_squared_error: 0.0048 - val_mean_absolute_error: 0.0536\n",
            "Epoch 38/100\n",
            "31/31 [==============================] - 11s 363ms/step - loss: 0.0018 - mean_squared_error: 0.0018 - mean_absolute_error: 0.0314 - val_loss: 0.0049 - val_mean_squared_error: 0.0049 - val_mean_absolute_error: 0.0554\n",
            "Epoch 39/100\n",
            "31/31 [==============================] - 11s 361ms/step - loss: 0.0016 - mean_squared_error: 0.0016 - mean_absolute_error: 0.0299 - val_loss: 0.0058 - val_mean_squared_error: 0.0058 - val_mean_absolute_error: 0.0577\n",
            "Epoch 40/100\n",
            "31/31 [==============================] - 11s 355ms/step - loss: 0.0015 - mean_squared_error: 0.0015 - mean_absolute_error: 0.0297 - val_loss: 0.0062 - val_mean_squared_error: 0.0062 - val_mean_absolute_error: 0.0610\n",
            "Epoch 41/100\n",
            "31/31 [==============================] - 11s 366ms/step - loss: 0.0014 - mean_squared_error: 0.0014 - mean_absolute_error: 0.0279 - val_loss: 0.0055 - val_mean_squared_error: 0.0055 - val_mean_absolute_error: 0.0606\n",
            "Epoch 42/100\n",
            "31/31 [==============================] - 12s 375ms/step - loss: 0.0015 - mean_squared_error: 0.0015 - mean_absolute_error: 0.0291 - val_loss: 0.0051 - val_mean_squared_error: 0.0051 - val_mean_absolute_error: 0.0541\n",
            "Epoch 43/100\n",
            "31/31 [==============================] - 12s 373ms/step - loss: 0.0015 - mean_squared_error: 0.0015 - mean_absolute_error: 0.0286 - val_loss: 0.0064 - val_mean_squared_error: 0.0064 - val_mean_absolute_error: 0.0631\n",
            "Epoch 44/100\n",
            "31/31 [==============================] - 11s 372ms/step - loss: 0.0015 - mean_squared_error: 0.0015 - mean_absolute_error: 0.0284 - val_loss: 0.0063 - val_mean_squared_error: 0.0063 - val_mean_absolute_error: 0.0615\n",
            "Epoch 45/100\n",
            "31/31 [==============================] - 12s 381ms/step - loss: 0.0021 - mean_squared_error: 0.0021 - mean_absolute_error: 0.0335 - val_loss: 0.0051 - val_mean_squared_error: 0.0051 - val_mean_absolute_error: 0.0539\n",
            "Epoch 46/100\n",
            "31/31 [==============================] - 12s 375ms/step - loss: 0.0013 - mean_squared_error: 0.0013 - mean_absolute_error: 0.0276 - val_loss: 0.0051 - val_mean_squared_error: 0.0051 - val_mean_absolute_error: 0.0539\n",
            "Epoch 47/100\n",
            "31/31 [==============================] - 11s 371ms/step - loss: 9.5019e-04 - mean_squared_error: 9.5019e-04 - mean_absolute_error: 0.0233 - val_loss: 0.0051 - val_mean_squared_error: 0.0051 - val_mean_absolute_error: 0.0546\n"
          ],
          "name": "stdout"
        },
        {
          "output_type": "display_data",
          "data": {
            "text/html": [
              "<br/>Waiting for W&B process to finish, PID 5777<br/>Program ended successfully."
            ],
            "text/plain": [
              "<IPython.core.display.HTML object>"
            ]
          },
          "metadata": {
            "tags": []
          }
        },
        {
          "output_type": "display_data",
          "data": {
            "application/vnd.jupyter.widget-view+json": {
              "model_id": "5aa514aaa4ee4799a17c5da51be605d9",
              "version_minor": 0,
              "version_major": 2
            },
            "text/plain": [
              "VBox(children=(Label(value=' 2.47MB of 2.47MB uploaded (0.00MB deduped)\\r'), FloatProgress(value=1.0, max=1.0)…"
            ]
          },
          "metadata": {
            "tags": []
          }
        },
        {
          "output_type": "display_data",
          "data": {
            "text/html": [
              "Find user logs for this run at: <code>/content/feeder_repo/wandb/run-20210720_151348-qhyep3jq/logs/debug.log</code>"
            ],
            "text/plain": [
              "<IPython.core.display.HTML object>"
            ]
          },
          "metadata": {
            "tags": []
          }
        },
        {
          "output_type": "display_data",
          "data": {
            "text/html": [
              "Find internal logs for this run at: <code>/content/feeder_repo/wandb/run-20210720_151348-qhyep3jq/logs/debug-internal.log</code>"
            ],
            "text/plain": [
              "<IPython.core.display.HTML object>"
            ]
          },
          "metadata": {
            "tags": []
          }
        },
        {
          "output_type": "display_data",
          "data": {
            "text/html": [
              "<h3>Run summary:</h3><br/><style>\n",
              "    table.wandb td:nth-child(1) { padding: 0 10px; text-align: right }\n",
              "    </style><table class=\"wandb\">\n",
              "<tr><td>epoch</td><td>46</td></tr><tr><td>loss</td><td>0.00116</td></tr><tr><td>mean_squared_error</td><td>0.00116</td></tr><tr><td>mean_absolute_error</td><td>0.02588</td></tr><tr><td>val_loss</td><td>0.00513</td></tr><tr><td>val_mean_squared_error</td><td>0.00513</td></tr><tr><td>val_mean_absolute_error</td><td>0.0546</td></tr><tr><td>_runtime</td><td>558</td></tr><tr><td>_timestamp</td><td>1626794586</td></tr><tr><td>_step</td><td>46</td></tr><tr><td>best_val_loss</td><td>0.0048</td></tr><tr><td>best_epoch</td><td>36</td></tr></table>"
            ],
            "text/plain": [
              "<IPython.core.display.HTML object>"
            ]
          },
          "metadata": {
            "tags": []
          }
        },
        {
          "output_type": "display_data",
          "data": {
            "text/html": [
              "<h3>Run history:</h3><br/><style>\n",
              "    table.wandb td:nth-child(1) { padding: 0 10px; text-align: right }\n",
              "    </style><table class=\"wandb\">\n",
              "<tr><td>epoch</td><td>▁▁▁▁▂▂▂▂▂▃▃▃▃▃▃▄▄▄▄▄▅▅▅▅▅▅▆▆▆▆▆▆▇▇▇▇▇███</td></tr><tr><td>loss</td><td>█▃▂▂▂▂▂▁▁▁▁▁▁▁▁▁▁▁▁▁▁▁▁▁▁▁▁▁▁▁▁▁▁▁▁▁▁▁▁▁</td></tr><tr><td>mean_squared_error</td><td>█▃▂▂▂▂▂▁▁▁▁▁▁▁▁▁▁▁▁▁▁▁▁▁▁▁▁▁▁▁▁▁▁▁▁▁▁▁▁▁</td></tr><tr><td>mean_absolute_error</td><td>█▄▃▂▂▂▃▂▂▂▂▂▂▂▂▁▁▁▂▂▁▂▁▁▁▁▁▁▁▁▁▁▁▁▁▁▁▁▁▁</td></tr><tr><td>val_loss</td><td>▅▇▆▄▄▃▅▅▃▂█▃▃▂▂▂▂▂▂▁▂▁▂▂▁▂▃▁▂▂▂▁▁▂▂▁▂▂▁▁</td></tr><tr><td>val_mean_squared_error</td><td>▅▇▆▄▄▃▅▅▃▂█▃▃▂▂▂▂▂▂▁▂▁▂▂▁▂▃▁▂▂▂▁▁▂▂▁▂▂▁▁</td></tr><tr><td>val_mean_absolute_error</td><td>▅▇▆▄▅▄▆▆▃▂█▃▃▃▃▂▂▃▂▂▂▂▂▂▁▂▄▁▂▂▂▁▁▂▂▁▂▂▁▁</td></tr><tr><td>_runtime</td><td>▁▁▁▁▂▂▂▂▂▃▃▃▃▃▃▄▄▄▄▄▅▅▅▅▅▅▆▆▆▆▆▆▇▇▇▇▇███</td></tr><tr><td>_timestamp</td><td>▁▁▁▁▂▂▂▂▂▃▃▃▃▃▃▄▄▄▄▄▅▅▅▅▅▅▆▆▆▆▆▆▇▇▇▇▇███</td></tr><tr><td>_step</td><td>▁▁▁▁▂▂▂▂▂▃▃▃▃▃▃▄▄▄▄▄▅▅▅▅▅▅▆▆▆▆▆▆▇▇▇▇▇███</td></tr></table><br/>"
            ],
            "text/plain": [
              "<IPython.core.display.HTML object>"
            ]
          },
          "metadata": {
            "tags": []
          }
        },
        {
          "output_type": "display_data",
          "data": {
            "text/html": [
              "Synced 5 W&B file(s), 1 media file(s), 2 artifact file(s) and 2 other file(s)"
            ],
            "text/plain": [
              "<IPython.core.display.HTML object>"
            ]
          },
          "metadata": {
            "tags": []
          }
        },
        {
          "output_type": "display_data",
          "data": {
            "text/html": [
              "\n",
              "                    <br/>Synced <strong style=\"color:#cdcd00\">cerulean-sweep-25</strong>: <a href=\"https://wandb.ai/acse-jaq15/ACSE_9_GRU_AE/runs/qhyep3jq\" target=\"_blank\">https://wandb.ai/acse-jaq15/ACSE_9_GRU_AE/runs/qhyep3jq</a><br/>\n",
              "                "
            ],
            "text/plain": [
              "<IPython.core.display.HTML object>"
            ]
          },
          "metadata": {
            "tags": []
          }
        },
        {
          "output_type": "stream",
          "text": [
            "\u001b[34m\u001b[1mwandb\u001b[0m: Agent Starting Run: g6zlyv62 with config:\n",
            "\u001b[34m\u001b[1mwandb\u001b[0m: \tactivation: relu\n",
            "\u001b[34m\u001b[1mwandb\u001b[0m: \tbatch_size: 128\n",
            "\u001b[34m\u001b[1mwandb\u001b[0m: \tdropout: 0.3\n",
            "\u001b[34m\u001b[1mwandb\u001b[0m: \tepochs: 100\n",
            "\u001b[34m\u001b[1mwandb\u001b[0m: \tlearning_rate: 0.001\n",
            "\u001b[34m\u001b[1mwandb\u001b[0m: \toptimizer: adam\n"
          ],
          "name": "stderr"
        },
        {
          "output_type": "display_data",
          "data": {
            "text/html": [
              "\n",
              "                Tracking run with wandb version 0.11.0<br/>\n",
              "                Syncing run <strong style=\"color:#cdcd00\">warm-sweep-26</strong> to <a href=\"https://wandb.ai\" target=\"_blank\">Weights & Biases</a> <a href=\"https://docs.wandb.com/integrations/jupyter.html\" target=\"_blank\">(Documentation)</a>.<br/>\n",
              "                Project page: <a href=\"https://wandb.ai/acse-jaq15/ACSE_9_GRU_AE\" target=\"_blank\">https://wandb.ai/acse-jaq15/ACSE_9_GRU_AE</a><br/>\n",
              "                Sweep page: <a href=\"https://wandb.ai/acse-jaq15/ACSE_9_GRU_AE/sweeps/sdhbein4\" target=\"_blank\">https://wandb.ai/acse-jaq15/ACSE_9_GRU_AE/sweeps/sdhbein4</a><br/>\n",
              "Run page: <a href=\"https://wandb.ai/acse-jaq15/ACSE_9_GRU_AE/runs/g6zlyv62\" target=\"_blank\">https://wandb.ai/acse-jaq15/ACSE_9_GRU_AE/runs/g6zlyv62</a><br/>\n",
              "                Run data is saved locally in <code>/content/feeder_repo/wandb/run-20210720_152317-g6zlyv62</code><br/><br/>\n",
              "            "
            ],
            "text/plain": [
              "<IPython.core.display.HTML object>"
            ]
          },
          "metadata": {
            "tags": []
          }
        },
        {
          "output_type": "stream",
          "text": [
            "WARNING:tensorflow:Layer gru will not use cuDNN kernels since it doesn't meet the criteria. It will use a generic GPU kernel as fallback when running on GPU.\n",
            "WARNING:tensorflow:Layer gru_1 will not use cuDNN kernels since it doesn't meet the criteria. It will use a generic GPU kernel as fallback when running on GPU.\n",
            "WARNING:tensorflow:Layer gru_2 will not use cuDNN kernels since it doesn't meet the criteria. It will use a generic GPU kernel as fallback when running on GPU.\n",
            "WARNING:tensorflow:Layer gru_3 will not use cuDNN kernels since it doesn't meet the criteria. It will use a generic GPU kernel as fallback when running on GPU.\n",
            "Epoch 1/100\n",
            "8/8 [==============================] - 14s 660ms/step - loss: 0.1531 - mean_squared_error: 0.1531 - mean_absolute_error: 0.3077 - val_loss: 0.0413 - val_mean_squared_error: 0.0413 - val_mean_absolute_error: 0.1704\n",
            "Epoch 2/100\n",
            "8/8 [==============================] - 3s 368ms/step - loss: 0.0457 - mean_squared_error: 0.0457 - mean_absolute_error: 0.1868 - val_loss: 0.0442 - val_mean_squared_error: 0.0442 - val_mean_absolute_error: 0.1672\n",
            "Epoch 3/100\n",
            "8/8 [==============================] - 3s 354ms/step - loss: 0.0277 - mean_squared_error: 0.0277 - mean_absolute_error: 0.1336 - val_loss: 0.0117 - val_mean_squared_error: 0.0117 - val_mean_absolute_error: 0.0869\n",
            "Epoch 4/100\n",
            "8/8 [==============================] - 3s 378ms/step - loss: 0.0121 - mean_squared_error: 0.0121 - mean_absolute_error: 0.0940 - val_loss: 0.0166 - val_mean_squared_error: 0.0166 - val_mean_absolute_error: 0.1065\n",
            "Epoch 5/100\n",
            "8/8 [==============================] - 3s 345ms/step - loss: 0.0081 - mean_squared_error: 0.0081 - mean_absolute_error: 0.0650 - val_loss: 0.0096 - val_mean_squared_error: 0.0096 - val_mean_absolute_error: 0.0794\n",
            "Epoch 6/100\n",
            "8/8 [==============================] - 3s 348ms/step - loss: 0.0064 - mean_squared_error: 0.0064 - mean_absolute_error: 0.0577 - val_loss: 0.0093 - val_mean_squared_error: 0.0093 - val_mean_absolute_error: 0.0784\n",
            "Epoch 7/100\n",
            "8/8 [==============================] - 3s 366ms/step - loss: 0.0048 - mean_squared_error: 0.0048 - mean_absolute_error: 0.0495 - val_loss: 0.0127 - val_mean_squared_error: 0.0127 - val_mean_absolute_error: 0.0925\n",
            "Epoch 8/100\n",
            "8/8 [==============================] - 3s 359ms/step - loss: 0.0051 - mean_squared_error: 0.0051 - mean_absolute_error: 0.0526 - val_loss: 0.0101 - val_mean_squared_error: 0.0101 - val_mean_absolute_error: 0.0819\n",
            "Epoch 9/100\n",
            "8/8 [==============================] - 3s 364ms/step - loss: 0.0041 - mean_squared_error: 0.0041 - mean_absolute_error: 0.0468 - val_loss: 0.0110 - val_mean_squared_error: 0.0110 - val_mean_absolute_error: 0.0857\n",
            "Epoch 10/100\n",
            "8/8 [==============================] - 3s 371ms/step - loss: 0.0048 - mean_squared_error: 0.0048 - mean_absolute_error: 0.0497 - val_loss: 0.0125 - val_mean_squared_error: 0.0125 - val_mean_absolute_error: 0.0918\n",
            "Epoch 11/100\n",
            "8/8 [==============================] - 3s 372ms/step - loss: 0.0043 - mean_squared_error: 0.0043 - mean_absolute_error: 0.0466 - val_loss: 0.0119 - val_mean_squared_error: 0.0119 - val_mean_absolute_error: 0.0891\n",
            "Epoch 12/100\n",
            "8/8 [==============================] - 3s 361ms/step - loss: 0.0038 - mean_squared_error: 0.0038 - mean_absolute_error: 0.0457 - val_loss: 0.0105 - val_mean_squared_error: 0.0105 - val_mean_absolute_error: 0.0835\n",
            "Epoch 13/100\n",
            "8/8 [==============================] - 3s 379ms/step - loss: 0.0039 - mean_squared_error: 0.0039 - mean_absolute_error: 0.0450 - val_loss: 0.0111 - val_mean_squared_error: 0.0111 - val_mean_absolute_error: 0.0862\n",
            "Epoch 14/100\n",
            "8/8 [==============================] - 3s 377ms/step - loss: 0.0038 - mean_squared_error: 0.0038 - mean_absolute_error: 0.0442 - val_loss: 0.0127 - val_mean_squared_error: 0.0127 - val_mean_absolute_error: 0.0922\n",
            "Epoch 15/100\n",
            "8/8 [==============================] - 3s 364ms/step - loss: 0.0039 - mean_squared_error: 0.0039 - mean_absolute_error: 0.0450 - val_loss: 0.0128 - val_mean_squared_error: 0.0128 - val_mean_absolute_error: 0.0926\n",
            "Epoch 16/100\n",
            "8/8 [==============================] - 3s 362ms/step - loss: 0.0030 - mean_squared_error: 0.0030 - mean_absolute_error: 0.0395 - val_loss: 0.0137 - val_mean_squared_error: 0.0137 - val_mean_absolute_error: 0.0962\n"
          ],
          "name": "stdout"
        },
        {
          "output_type": "display_data",
          "data": {
            "text/html": [
              "<br/>Waiting for W&B process to finish, PID 5975<br/>Program ended successfully."
            ],
            "text/plain": [
              "<IPython.core.display.HTML object>"
            ]
          },
          "metadata": {
            "tags": []
          }
        },
        {
          "output_type": "display_data",
          "data": {
            "application/vnd.jupyter.widget-view+json": {
              "model_id": "4baca48472a14fdc89c0883eed672b83",
              "version_minor": 0,
              "version_major": 2
            },
            "text/plain": [
              "VBox(children=(Label(value=' 2.48MB of 2.48MB uploaded (0.00MB deduped)\\r'), FloatProgress(value=1.0, max=1.0)…"
            ]
          },
          "metadata": {
            "tags": []
          }
        },
        {
          "output_type": "display_data",
          "data": {
            "text/html": [
              "Find user logs for this run at: <code>/content/feeder_repo/wandb/run-20210720_152317-g6zlyv62/logs/debug.log</code>"
            ],
            "text/plain": [
              "<IPython.core.display.HTML object>"
            ]
          },
          "metadata": {
            "tags": []
          }
        },
        {
          "output_type": "display_data",
          "data": {
            "text/html": [
              "Find internal logs for this run at: <code>/content/feeder_repo/wandb/run-20210720_152317-g6zlyv62/logs/debug-internal.log</code>"
            ],
            "text/plain": [
              "<IPython.core.display.HTML object>"
            ]
          },
          "metadata": {
            "tags": []
          }
        },
        {
          "output_type": "display_data",
          "data": {
            "text/html": [
              "<h3>Run summary:</h3><br/><style>\n",
              "    table.wandb td:nth-child(1) { padding: 0 10px; text-align: right }\n",
              "    </style><table class=\"wandb\">\n",
              "<tr><td>epoch</td><td>15</td></tr><tr><td>loss</td><td>0.0034</td></tr><tr><td>mean_squared_error</td><td>0.0034</td></tr><tr><td>mean_absolute_error</td><td>0.04134</td></tr><tr><td>val_loss</td><td>0.01372</td></tr><tr><td>val_mean_squared_error</td><td>0.01372</td></tr><tr><td>val_mean_absolute_error</td><td>0.09622</td></tr><tr><td>_runtime</td><td>67</td></tr><tr><td>_timestamp</td><td>1626794664</td></tr><tr><td>_step</td><td>15</td></tr><tr><td>best_val_loss</td><td>0.00931</td></tr><tr><td>best_epoch</td><td>5</td></tr></table>"
            ],
            "text/plain": [
              "<IPython.core.display.HTML object>"
            ]
          },
          "metadata": {
            "tags": []
          }
        },
        {
          "output_type": "display_data",
          "data": {
            "text/html": [
              "<h3>Run history:</h3><br/><style>\n",
              "    table.wandb td:nth-child(1) { padding: 0 10px; text-align: right }\n",
              "    </style><table class=\"wandb\">\n",
              "<tr><td>epoch</td><td>▁▁▂▂▃▃▄▄▅▅▆▆▇▇██</td></tr><tr><td>loss</td><td>█▃▂▁▁▁▁▁▁▁▁▁▁▁▁▁</td></tr><tr><td>mean_squared_error</td><td>█▃▂▁▁▁▁▁▁▁▁▁▁▁▁▁</td></tr><tr><td>mean_absolute_error</td><td>█▅▄▂▂▂▁▁▁▁▁▁▁▁▁▁</td></tr><tr><td>val_loss</td><td>▇█▁▂▁▁▂▁▁▂▂▁▁▂▂▂</td></tr><tr><td>val_mean_squared_error</td><td>▇█▁▂▁▁▂▁▁▂▂▁▁▂▂▂</td></tr><tr><td>val_mean_absolute_error</td><td>██▂▃▁▁▂▁▂▂▂▁▂▂▂▂</td></tr><tr><td>_runtime</td><td>▁▁▂▂▃▃▄▄▅▅▆▆▇▇██</td></tr><tr><td>_timestamp</td><td>▁▁▂▂▃▃▄▄▅▅▆▆▇▇██</td></tr><tr><td>_step</td><td>▁▁▂▂▃▃▄▄▅▅▆▆▇▇██</td></tr></table><br/>"
            ],
            "text/plain": [
              "<IPython.core.display.HTML object>"
            ]
          },
          "metadata": {
            "tags": []
          }
        },
        {
          "output_type": "display_data",
          "data": {
            "text/html": [
              "Synced 5 W&B file(s), 1 media file(s), 2 artifact file(s) and 2 other file(s)"
            ],
            "text/plain": [
              "<IPython.core.display.HTML object>"
            ]
          },
          "metadata": {
            "tags": []
          }
        },
        {
          "output_type": "display_data",
          "data": {
            "text/html": [
              "\n",
              "                    <br/>Synced <strong style=\"color:#cdcd00\">warm-sweep-26</strong>: <a href=\"https://wandb.ai/acse-jaq15/ACSE_9_GRU_AE/runs/g6zlyv62\" target=\"_blank\">https://wandb.ai/acse-jaq15/ACSE_9_GRU_AE/runs/g6zlyv62</a><br/>\n",
              "                "
            ],
            "text/plain": [
              "<IPython.core.display.HTML object>"
            ]
          },
          "metadata": {
            "tags": []
          }
        },
        {
          "output_type": "stream",
          "text": [
            "\u001b[34m\u001b[1mwandb\u001b[0m: Agent Starting Run: yxm553ud with config:\n",
            "\u001b[34m\u001b[1mwandb\u001b[0m: \tactivation: relu\n",
            "\u001b[34m\u001b[1mwandb\u001b[0m: \tbatch_size: 128\n",
            "\u001b[34m\u001b[1mwandb\u001b[0m: \tdropout: 0.3\n",
            "\u001b[34m\u001b[1mwandb\u001b[0m: \tepochs: 200\n",
            "\u001b[34m\u001b[1mwandb\u001b[0m: \tlearning_rate: 0.005\n",
            "\u001b[34m\u001b[1mwandb\u001b[0m: \toptimizer: adam\n"
          ],
          "name": "stderr"
        },
        {
          "output_type": "display_data",
          "data": {
            "text/html": [
              "\n",
              "                Tracking run with wandb version 0.11.0<br/>\n",
              "                Syncing run <strong style=\"color:#cdcd00\">charmed-sweep-27</strong> to <a href=\"https://wandb.ai\" target=\"_blank\">Weights & Biases</a> <a href=\"https://docs.wandb.com/integrations/jupyter.html\" target=\"_blank\">(Documentation)</a>.<br/>\n",
              "                Project page: <a href=\"https://wandb.ai/acse-jaq15/ACSE_9_GRU_AE\" target=\"_blank\">https://wandb.ai/acse-jaq15/ACSE_9_GRU_AE</a><br/>\n",
              "                Sweep page: <a href=\"https://wandb.ai/acse-jaq15/ACSE_9_GRU_AE/sweeps/sdhbein4\" target=\"_blank\">https://wandb.ai/acse-jaq15/ACSE_9_GRU_AE/sweeps/sdhbein4</a><br/>\n",
              "Run page: <a href=\"https://wandb.ai/acse-jaq15/ACSE_9_GRU_AE/runs/yxm553ud\" target=\"_blank\">https://wandb.ai/acse-jaq15/ACSE_9_GRU_AE/runs/yxm553ud</a><br/>\n",
              "                Run data is saved locally in <code>/content/feeder_repo/wandb/run-20210720_152435-yxm553ud</code><br/><br/>\n",
              "            "
            ],
            "text/plain": [
              "<IPython.core.display.HTML object>"
            ]
          },
          "metadata": {
            "tags": []
          }
        },
        {
          "output_type": "stream",
          "text": [
            "WARNING:tensorflow:Layer gru will not use cuDNN kernels since it doesn't meet the criteria. It will use a generic GPU kernel as fallback when running on GPU.\n",
            "WARNING:tensorflow:Layer gru_1 will not use cuDNN kernels since it doesn't meet the criteria. It will use a generic GPU kernel as fallback when running on GPU.\n",
            "WARNING:tensorflow:Layer gru_2 will not use cuDNN kernels since it doesn't meet the criteria. It will use a generic GPU kernel as fallback when running on GPU.\n",
            "WARNING:tensorflow:Layer gru_3 will not use cuDNN kernels since it doesn't meet the criteria. It will use a generic GPU kernel as fallback when running on GPU.\n",
            "Epoch 1/200\n",
            "8/8 [==============================] - 14s 684ms/step - loss: 0.1269 - mean_squared_error: 0.1269 - mean_absolute_error: 0.2854 - val_loss: 0.0448 - val_mean_squared_error: 0.0448 - val_mean_absolute_error: 0.1677\n",
            "Epoch 2/200\n",
            "8/8 [==============================] - 3s 391ms/step - loss: 0.0346 - mean_squared_error: 0.0346 - mean_absolute_error: 0.1554 - val_loss: 0.0234 - val_mean_squared_error: 0.0234 - val_mean_absolute_error: 0.1271\n",
            "Epoch 3/200\n",
            "8/8 [==============================] - 3s 395ms/step - loss: 0.0130 - mean_squared_error: 0.0130 - mean_absolute_error: 0.0897 - val_loss: 0.0198 - val_mean_squared_error: 0.0198 - val_mean_absolute_error: 0.1187\n",
            "Epoch 4/200\n",
            "8/8 [==============================] - 3s 365ms/step - loss: 0.0117 - mean_squared_error: 0.0117 - mean_absolute_error: 0.0816 - val_loss: 0.0107 - val_mean_squared_error: 0.0107 - val_mean_absolute_error: 0.0843\n",
            "Epoch 5/200\n",
            "8/8 [==============================] - 3s 369ms/step - loss: 0.0081 - mean_squared_error: 0.0081 - mean_absolute_error: 0.0663 - val_loss: 0.0086 - val_mean_squared_error: 0.0086 - val_mean_absolute_error: 0.0737\n",
            "Epoch 6/200\n",
            "8/8 [==============================] - 3s 382ms/step - loss: 0.0062 - mean_squared_error: 0.0062 - mean_absolute_error: 0.0565 - val_loss: 0.0090 - val_mean_squared_error: 0.0090 - val_mean_absolute_error: 0.0755\n",
            "Epoch 7/200\n",
            "8/8 [==============================] - 3s 374ms/step - loss: 0.0066 - mean_squared_error: 0.0066 - mean_absolute_error: 0.0590 - val_loss: 0.0085 - val_mean_squared_error: 0.0085 - val_mean_absolute_error: 0.0736\n",
            "Epoch 8/200\n",
            "8/8 [==============================] - 3s 370ms/step - loss: 0.0059 - mean_squared_error: 0.0059 - mean_absolute_error: 0.0557 - val_loss: 0.0084 - val_mean_squared_error: 0.0084 - val_mean_absolute_error: 0.0731\n",
            "Epoch 9/200\n",
            "8/8 [==============================] - 3s 388ms/step - loss: 0.0053 - mean_squared_error: 0.0053 - mean_absolute_error: 0.0530 - val_loss: 0.0088 - val_mean_squared_error: 0.0088 - val_mean_absolute_error: 0.0761\n",
            "Epoch 10/200\n",
            "8/8 [==============================] - 3s 366ms/step - loss: 0.0042 - mean_squared_error: 0.0042 - mean_absolute_error: 0.0480 - val_loss: 0.0095 - val_mean_squared_error: 0.0095 - val_mean_absolute_error: 0.0797\n",
            "Epoch 11/200\n",
            "8/8 [==============================] - 3s 377ms/step - loss: 0.0034 - mean_squared_error: 0.0034 - mean_absolute_error: 0.0441 - val_loss: 0.0102 - val_mean_squared_error: 0.0102 - val_mean_absolute_error: 0.0826\n",
            "Epoch 12/200\n",
            "8/8 [==============================] - 3s 353ms/step - loss: 0.0030 - mean_squared_error: 0.0030 - mean_absolute_error: 0.0406 - val_loss: 0.0101 - val_mean_squared_error: 0.0101 - val_mean_absolute_error: 0.0822\n",
            "Epoch 13/200\n",
            "8/8 [==============================] - 3s 369ms/step - loss: 0.0027 - mean_squared_error: 0.0027 - mean_absolute_error: 0.0390 - val_loss: 0.0096 - val_mean_squared_error: 0.0096 - val_mean_absolute_error: 0.0803\n",
            "Epoch 14/200\n",
            "8/8 [==============================] - 3s 384ms/step - loss: 0.0028 - mean_squared_error: 0.0028 - mean_absolute_error: 0.0395 - val_loss: 0.0090 - val_mean_squared_error: 0.0090 - val_mean_absolute_error: 0.0767\n",
            "Epoch 15/200\n",
            "8/8 [==============================] - 3s 358ms/step - loss: 0.0027 - mean_squared_error: 0.0027 - mean_absolute_error: 0.0371 - val_loss: 0.0097 - val_mean_squared_error: 0.0097 - val_mean_absolute_error: 0.0801\n",
            "Epoch 16/200\n",
            "8/8 [==============================] - 3s 361ms/step - loss: 0.0026 - mean_squared_error: 0.0026 - mean_absolute_error: 0.0384 - val_loss: 0.0090 - val_mean_squared_error: 0.0090 - val_mean_absolute_error: 0.0771\n",
            "Epoch 17/200\n",
            "8/8 [==============================] - 3s 357ms/step - loss: 0.0026 - mean_squared_error: 0.0026 - mean_absolute_error: 0.0378 - val_loss: 0.0091 - val_mean_squared_error: 0.0091 - val_mean_absolute_error: 0.0778\n",
            "Epoch 18/200\n",
            "8/8 [==============================] - 3s 375ms/step - loss: 0.0022 - mean_squared_error: 0.0022 - mean_absolute_error: 0.0336 - val_loss: 0.0094 - val_mean_squared_error: 0.0094 - val_mean_absolute_error: 0.0791\n"
          ],
          "name": "stdout"
        },
        {
          "output_type": "display_data",
          "data": {
            "text/html": [
              "<br/>Waiting for W&B process to finish, PID 6080<br/>Program ended successfully."
            ],
            "text/plain": [
              "<IPython.core.display.HTML object>"
            ]
          },
          "metadata": {
            "tags": []
          }
        },
        {
          "output_type": "display_data",
          "data": {
            "application/vnd.jupyter.widget-view+json": {
              "model_id": "96e3a80d96c243679848eebd39908e2b",
              "version_minor": 0,
              "version_major": 2
            },
            "text/plain": [
              "VBox(children=(Label(value=' 2.50MB of 2.50MB uploaded (0.00MB deduped)\\r'), FloatProgress(value=1.0, max=1.0)…"
            ]
          },
          "metadata": {
            "tags": []
          }
        },
        {
          "output_type": "display_data",
          "data": {
            "text/html": [
              "Find user logs for this run at: <code>/content/feeder_repo/wandb/run-20210720_152435-yxm553ud/logs/debug.log</code>"
            ],
            "text/plain": [
              "<IPython.core.display.HTML object>"
            ]
          },
          "metadata": {
            "tags": []
          }
        },
        {
          "output_type": "display_data",
          "data": {
            "text/html": [
              "Find internal logs for this run at: <code>/content/feeder_repo/wandb/run-20210720_152435-yxm553ud/logs/debug-internal.log</code>"
            ],
            "text/plain": [
              "<IPython.core.display.HTML object>"
            ]
          },
          "metadata": {
            "tags": []
          }
        },
        {
          "output_type": "display_data",
          "data": {
            "text/html": [
              "<h3>Run summary:</h3><br/><style>\n",
              "    table.wandb td:nth-child(1) { padding: 0 10px; text-align: right }\n",
              "    </style><table class=\"wandb\">\n",
              "<tr><td>epoch</td><td>17</td></tr><tr><td>loss</td><td>0.00229</td></tr><tr><td>mean_squared_error</td><td>0.00229</td></tr><tr><td>mean_absolute_error</td><td>0.03499</td></tr><tr><td>val_loss</td><td>0.00936</td></tr><tr><td>val_mean_squared_error</td><td>0.00936</td></tr><tr><td>val_mean_absolute_error</td><td>0.07908</td></tr><tr><td>_runtime</td><td>69</td></tr><tr><td>_timestamp</td><td>1626794744</td></tr><tr><td>_step</td><td>17</td></tr><tr><td>best_val_loss</td><td>0.00835</td></tr><tr><td>best_epoch</td><td>7</td></tr></table>"
            ],
            "text/plain": [
              "<IPython.core.display.HTML object>"
            ]
          },
          "metadata": {
            "tags": []
          }
        },
        {
          "output_type": "display_data",
          "data": {
            "text/html": [
              "<h3>Run history:</h3><br/><style>\n",
              "    table.wandb td:nth-child(1) { padding: 0 10px; text-align: right }\n",
              "    </style><table class=\"wandb\">\n",
              "<tr><td>epoch</td><td>▁▁▂▂▃▃▃▄▄▅▅▆▆▆▇▇██</td></tr><tr><td>loss</td><td>█▃▂▂▁▁▁▁▁▁▁▁▁▁▁▁▁▁</td></tr><tr><td>mean_squared_error</td><td>█▃▂▂▁▁▁▁▁▁▁▁▁▁▁▁▁▁</td></tr><tr><td>mean_absolute_error</td><td>█▅▃▂▂▂▂▂▂▁▁▁▁▁▁▁▁▁</td></tr><tr><td>val_loss</td><td>█▄▃▁▁▁▁▁▁▁▁▁▁▁▁▁▁▁</td></tr><tr><td>val_mean_squared_error</td><td>█▄▃▁▁▁▁▁▁▁▁▁▁▁▁▁▁▁</td></tr><tr><td>val_mean_absolute_error</td><td>█▅▄▂▁▁▁▁▁▁▂▂▂▁▂▁▁▁</td></tr><tr><td>_runtime</td><td>▁▁▂▂▃▃▄▄▄▅▅▆▆▆▇▇██</td></tr><tr><td>_timestamp</td><td>▁▁▂▂▃▃▄▄▄▅▅▆▆▆▇▇██</td></tr><tr><td>_step</td><td>▁▁▂▂▃▃▃▄▄▅▅▆▆▆▇▇██</td></tr></table><br/>"
            ],
            "text/plain": [
              "<IPython.core.display.HTML object>"
            ]
          },
          "metadata": {
            "tags": []
          }
        },
        {
          "output_type": "display_data",
          "data": {
            "text/html": [
              "Synced 5 W&B file(s), 1 media file(s), 2 artifact file(s) and 2 other file(s)"
            ],
            "text/plain": [
              "<IPython.core.display.HTML object>"
            ]
          },
          "metadata": {
            "tags": []
          }
        },
        {
          "output_type": "display_data",
          "data": {
            "text/html": [
              "\n",
              "                    <br/>Synced <strong style=\"color:#cdcd00\">charmed-sweep-27</strong>: <a href=\"https://wandb.ai/acse-jaq15/ACSE_9_GRU_AE/runs/yxm553ud\" target=\"_blank\">https://wandb.ai/acse-jaq15/ACSE_9_GRU_AE/runs/yxm553ud</a><br/>\n",
              "                "
            ],
            "text/plain": [
              "<IPython.core.display.HTML object>"
            ]
          },
          "metadata": {
            "tags": []
          }
        },
        {
          "output_type": "stream",
          "text": [
            "\u001b[34m\u001b[1mwandb\u001b[0m: Agent Starting Run: m5lytejq with config:\n",
            "\u001b[34m\u001b[1mwandb\u001b[0m: \tactivation: relu\n",
            "\u001b[34m\u001b[1mwandb\u001b[0m: \tbatch_size: 64\n",
            "\u001b[34m\u001b[1mwandb\u001b[0m: \tdropout: 0.1\n",
            "\u001b[34m\u001b[1mwandb\u001b[0m: \tepochs: 200\n",
            "\u001b[34m\u001b[1mwandb\u001b[0m: \tlearning_rate: 0.001\n",
            "\u001b[34m\u001b[1mwandb\u001b[0m: \toptimizer: nadam\n"
          ],
          "name": "stderr"
        },
        {
          "output_type": "display_data",
          "data": {
            "text/html": [
              "\n",
              "                Tracking run with wandb version 0.11.0<br/>\n",
              "                Syncing run <strong style=\"color:#cdcd00\">fallen-sweep-28</strong> to <a href=\"https://wandb.ai\" target=\"_blank\">Weights & Biases</a> <a href=\"https://docs.wandb.com/integrations/jupyter.html\" target=\"_blank\">(Documentation)</a>.<br/>\n",
              "                Project page: <a href=\"https://wandb.ai/acse-jaq15/ACSE_9_GRU_AE\" target=\"_blank\">https://wandb.ai/acse-jaq15/ACSE_9_GRU_AE</a><br/>\n",
              "                Sweep page: <a href=\"https://wandb.ai/acse-jaq15/ACSE_9_GRU_AE/sweeps/sdhbein4\" target=\"_blank\">https://wandb.ai/acse-jaq15/ACSE_9_GRU_AE/sweeps/sdhbein4</a><br/>\n",
              "Run page: <a href=\"https://wandb.ai/acse-jaq15/ACSE_9_GRU_AE/runs/m5lytejq\" target=\"_blank\">https://wandb.ai/acse-jaq15/ACSE_9_GRU_AE/runs/m5lytejq</a><br/>\n",
              "                Run data is saved locally in <code>/content/feeder_repo/wandb/run-20210720_152555-m5lytejq</code><br/><br/>\n",
              "            "
            ],
            "text/plain": [
              "<IPython.core.display.HTML object>"
            ]
          },
          "metadata": {
            "tags": []
          }
        },
        {
          "output_type": "stream",
          "text": [
            "WARNING:tensorflow:Layer gru will not use cuDNN kernels since it doesn't meet the criteria. It will use a generic GPU kernel as fallback when running on GPU.\n",
            "WARNING:tensorflow:Layer gru_1 will not use cuDNN kernels since it doesn't meet the criteria. It will use a generic GPU kernel as fallback when running on GPU.\n",
            "WARNING:tensorflow:Layer gru_2 will not use cuDNN kernels since it doesn't meet the criteria. It will use a generic GPU kernel as fallback when running on GPU.\n",
            "WARNING:tensorflow:Layer gru_3 will not use cuDNN kernels since it doesn't meet the criteria. It will use a generic GPU kernel as fallback when running on GPU.\n",
            "Epoch 1/200\n",
            "16/16 [==============================] - 18s 522ms/step - loss: 0.1315 - mean_squared_error: 0.1315 - mean_absolute_error: 0.2754 - val_loss: 0.0103 - val_mean_squared_error: 0.0103 - val_mean_absolute_error: 0.0799\n",
            "Epoch 2/200\n",
            "16/16 [==============================] - 6s 383ms/step - loss: 0.0057 - mean_squared_error: 0.0057 - mean_absolute_error: 0.0600 - val_loss: 0.0086 - val_mean_squared_error: 0.0086 - val_mean_absolute_error: 0.0734\n",
            "Epoch 3/200\n",
            "16/16 [==============================] - 6s 391ms/step - loss: 0.0044 - mean_squared_error: 0.0044 - mean_absolute_error: 0.0489 - val_loss: 0.0140 - val_mean_squared_error: 0.0140 - val_mean_absolute_error: 0.0957\n",
            "Epoch 4/200\n",
            "16/16 [==============================] - 6s 397ms/step - loss: 0.0064 - mean_squared_error: 0.0064 - mean_absolute_error: 0.0568 - val_loss: 0.0079 - val_mean_squared_error: 0.0079 - val_mean_absolute_error: 0.0703\n",
            "Epoch 5/200\n",
            "16/16 [==============================] - 6s 369ms/step - loss: 0.0029 - mean_squared_error: 0.0029 - mean_absolute_error: 0.0383 - val_loss: 0.0079 - val_mean_squared_error: 0.0079 - val_mean_absolute_error: 0.0712\n",
            "Epoch 6/200\n",
            "16/16 [==============================] - 6s 381ms/step - loss: 0.0021 - mean_squared_error: 0.0021 - mean_absolute_error: 0.0330 - val_loss: 0.0089 - val_mean_squared_error: 0.0089 - val_mean_absolute_error: 0.0739\n",
            "Epoch 7/200\n",
            "16/16 [==============================] - 6s 377ms/step - loss: 0.0034 - mean_squared_error: 0.0034 - mean_absolute_error: 0.0428 - val_loss: 0.0090 - val_mean_squared_error: 0.0090 - val_mean_absolute_error: 0.0743\n",
            "Epoch 8/200\n",
            "16/16 [==============================] - 6s 385ms/step - loss: 0.0027 - mean_squared_error: 0.0027 - mean_absolute_error: 0.0364 - val_loss: 0.0095 - val_mean_squared_error: 0.0095 - val_mean_absolute_error: 0.0766\n",
            "Epoch 9/200\n",
            "16/16 [==============================] - 6s 375ms/step - loss: 0.0055 - mean_squared_error: 0.0055 - mean_absolute_error: 0.0553 - val_loss: 0.0132 - val_mean_squared_error: 0.0132 - val_mean_absolute_error: 0.0923\n",
            "Epoch 10/200\n",
            "16/16 [==============================] - 6s 368ms/step - loss: 0.0046 - mean_squared_error: 0.0046 - mean_absolute_error: 0.0493 - val_loss: 0.0077 - val_mean_squared_error: 0.0077 - val_mean_absolute_error: 0.0688\n",
            "Epoch 11/200\n",
            "16/16 [==============================] - 6s 383ms/step - loss: 0.0026 - mean_squared_error: 0.0026 - mean_absolute_error: 0.0365 - val_loss: 0.0139 - val_mean_squared_error: 0.0139 - val_mean_absolute_error: 0.0990\n",
            "Epoch 12/200\n",
            "16/16 [==============================] - 6s 374ms/step - loss: 0.0031 - mean_squared_error: 0.0031 - mean_absolute_error: 0.0397 - val_loss: 0.0073 - val_mean_squared_error: 0.0073 - val_mean_absolute_error: 0.0684\n",
            "Epoch 13/200\n",
            "16/16 [==============================] - 6s 370ms/step - loss: 0.0019 - mean_squared_error: 0.0019 - mean_absolute_error: 0.0321 - val_loss: 0.0072 - val_mean_squared_error: 0.0072 - val_mean_absolute_error: 0.0665\n",
            "Epoch 14/200\n",
            "16/16 [==============================] - 6s 360ms/step - loss: 0.0022 - mean_squared_error: 0.0022 - mean_absolute_error: 0.0354 - val_loss: 0.0083 - val_mean_squared_error: 0.0083 - val_mean_absolute_error: 0.0742\n",
            "Epoch 15/200\n",
            "16/16 [==============================] - 6s 360ms/step - loss: 0.0022 - mean_squared_error: 0.0022 - mean_absolute_error: 0.0362 - val_loss: 0.0081 - val_mean_squared_error: 0.0081 - val_mean_absolute_error: 0.0739\n",
            "Epoch 16/200\n",
            "16/16 [==============================] - 6s 357ms/step - loss: 0.0024 - mean_squared_error: 0.0024 - mean_absolute_error: 0.0374 - val_loss: 0.0068 - val_mean_squared_error: 0.0068 - val_mean_absolute_error: 0.0651\n",
            "Epoch 17/200\n",
            "16/16 [==============================] - 6s 373ms/step - loss: 0.0029 - mean_squared_error: 0.0029 - mean_absolute_error: 0.0396 - val_loss: 0.0136 - val_mean_squared_error: 0.0136 - val_mean_absolute_error: 0.0942\n",
            "Epoch 18/200\n",
            "16/16 [==============================] - 6s 365ms/step - loss: 0.0052 - mean_squared_error: 0.0052 - mean_absolute_error: 0.0523 - val_loss: 0.0074 - val_mean_squared_error: 0.0074 - val_mean_absolute_error: 0.0699\n",
            "Epoch 19/200\n",
            "16/16 [==============================] - 6s 366ms/step - loss: 0.0024 - mean_squared_error: 0.0024 - mean_absolute_error: 0.0358 - val_loss: 0.0066 - val_mean_squared_error: 0.0066 - val_mean_absolute_error: 0.0637\n",
            "Epoch 20/200\n",
            "16/16 [==============================] - 6s 371ms/step - loss: 0.0015 - mean_squared_error: 0.0015 - mean_absolute_error: 0.0287 - val_loss: 0.0068 - val_mean_squared_error: 0.0068 - val_mean_absolute_error: 0.0644\n",
            "Epoch 21/200\n",
            "16/16 [==============================] - 6s 386ms/step - loss: 0.0017 - mean_squared_error: 0.0017 - mean_absolute_error: 0.0305 - val_loss: 0.0066 - val_mean_squared_error: 0.0066 - val_mean_absolute_error: 0.0650\n",
            "Epoch 22/200\n",
            "16/16 [==============================] - 6s 365ms/step - loss: 0.0023 - mean_squared_error: 0.0023 - mean_absolute_error: 0.0361 - val_loss: 0.0064 - val_mean_squared_error: 0.0064 - val_mean_absolute_error: 0.0631\n",
            "Epoch 23/200\n",
            "16/16 [==============================] - 6s 375ms/step - loss: 0.0018 - mean_squared_error: 0.0018 - mean_absolute_error: 0.0305 - val_loss: 0.0105 - val_mean_squared_error: 0.0105 - val_mean_absolute_error: 0.0838\n",
            "Epoch 24/200\n",
            "16/16 [==============================] - 6s 390ms/step - loss: 0.0023 - mean_squared_error: 0.0023 - mean_absolute_error: 0.0357 - val_loss: 0.0065 - val_mean_squared_error: 0.0065 - val_mean_absolute_error: 0.0624\n",
            "Epoch 25/200\n",
            "16/16 [==============================] - 6s 381ms/step - loss: 0.0015 - mean_squared_error: 0.0015 - mean_absolute_error: 0.0294 - val_loss: 0.0068 - val_mean_squared_error: 0.0068 - val_mean_absolute_error: 0.0670\n",
            "Epoch 26/200\n",
            "16/16 [==============================] - 6s 384ms/step - loss: 0.0016 - mean_squared_error: 0.0016 - mean_absolute_error: 0.0299 - val_loss: 0.0096 - val_mean_squared_error: 0.0096 - val_mean_absolute_error: 0.0806\n",
            "Epoch 27/200\n",
            "16/16 [==============================] - 6s 386ms/step - loss: 0.0019 - mean_squared_error: 0.0019 - mean_absolute_error: 0.0331 - val_loss: 0.0065 - val_mean_squared_error: 0.0065 - val_mean_absolute_error: 0.0651\n",
            "Epoch 28/200\n",
            "16/16 [==============================] - 6s 371ms/step - loss: 0.0022 - mean_squared_error: 0.0022 - mean_absolute_error: 0.0337 - val_loss: 0.0238 - val_mean_squared_error: 0.0238 - val_mean_absolute_error: 0.1334\n",
            "Epoch 29/200\n",
            "16/16 [==============================] - 6s 381ms/step - loss: 0.0040 - mean_squared_error: 0.0040 - mean_absolute_error: 0.0450 - val_loss: 0.0068 - val_mean_squared_error: 0.0068 - val_mean_absolute_error: 0.0638\n",
            "Epoch 30/200\n",
            "16/16 [==============================] - 6s 380ms/step - loss: 0.0020 - mean_squared_error: 0.0020 - mean_absolute_error: 0.0321 - val_loss: 0.0088 - val_mean_squared_error: 0.0088 - val_mean_absolute_error: 0.0778\n",
            "Epoch 31/200\n",
            "16/16 [==============================] - 6s 382ms/step - loss: 0.0018 - mean_squared_error: 0.0018 - mean_absolute_error: 0.0314 - val_loss: 0.0078 - val_mean_squared_error: 0.0078 - val_mean_absolute_error: 0.0686\n",
            "Epoch 32/200\n",
            "16/16 [==============================] - 6s 371ms/step - loss: 0.0018 - mean_squared_error: 0.0018 - mean_absolute_error: 0.0305 - val_loss: 0.0064 - val_mean_squared_error: 0.0064 - val_mean_absolute_error: 0.0644\n",
            "Epoch 33/200\n",
            "16/16 [==============================] - 6s 376ms/step - loss: 0.0013 - mean_squared_error: 0.0013 - mean_absolute_error: 0.0268 - val_loss: 0.0065 - val_mean_squared_error: 0.0065 - val_mean_absolute_error: 0.0654\n",
            "Epoch 34/200\n",
            "16/16 [==============================] - 6s 408ms/step - loss: 0.0016 - mean_squared_error: 0.0016 - mean_absolute_error: 0.0285 - val_loss: 0.0058 - val_mean_squared_error: 0.0058 - val_mean_absolute_error: 0.0596\n",
            "Epoch 35/200\n",
            "16/16 [==============================] - 6s 375ms/step - loss: 0.0015 - mean_squared_error: 0.0015 - mean_absolute_error: 0.0282 - val_loss: 0.0059 - val_mean_squared_error: 0.0059 - val_mean_absolute_error: 0.0590\n",
            "Epoch 36/200\n",
            "16/16 [==============================] - 6s 372ms/step - loss: 0.0017 - mean_squared_error: 0.0017 - mean_absolute_error: 0.0308 - val_loss: 0.0057 - val_mean_squared_error: 0.0057 - val_mean_absolute_error: 0.0587\n",
            "Epoch 37/200\n",
            "16/16 [==============================] - 6s 359ms/step - loss: 0.0016 - mean_squared_error: 0.0016 - mean_absolute_error: 0.0301 - val_loss: 0.0056 - val_mean_squared_error: 0.0056 - val_mean_absolute_error: 0.0591\n",
            "Epoch 38/200\n",
            "16/16 [==============================] - 6s 365ms/step - loss: 0.0013 - mean_squared_error: 0.0013 - mean_absolute_error: 0.0267 - val_loss: 0.0072 - val_mean_squared_error: 0.0072 - val_mean_absolute_error: 0.0693\n",
            "Epoch 39/200\n",
            "16/16 [==============================] - 6s 377ms/step - loss: 0.0023 - mean_squared_error: 0.0023 - mean_absolute_error: 0.0355 - val_loss: 0.0072 - val_mean_squared_error: 0.0072 - val_mean_absolute_error: 0.0655\n",
            "Epoch 40/200\n",
            "16/16 [==============================] - 6s 375ms/step - loss: 0.0022 - mean_squared_error: 0.0022 - mean_absolute_error: 0.0354 - val_loss: 0.0073 - val_mean_squared_error: 0.0073 - val_mean_absolute_error: 0.0659\n",
            "Epoch 41/200\n",
            "16/16 [==============================] - 6s 382ms/step - loss: 0.0026 - mean_squared_error: 0.0026 - mean_absolute_error: 0.0394 - val_loss: 0.0056 - val_mean_squared_error: 0.0056 - val_mean_absolute_error: 0.0599\n",
            "Epoch 42/200\n",
            "16/16 [==============================] - 6s 363ms/step - loss: 0.0015 - mean_squared_error: 0.0015 - mean_absolute_error: 0.0291 - val_loss: 0.0057 - val_mean_squared_error: 0.0057 - val_mean_absolute_error: 0.0602\n",
            "Epoch 43/200\n",
            "16/16 [==============================] - 6s 372ms/step - loss: 0.0013 - mean_squared_error: 0.0013 - mean_absolute_error: 0.0263 - val_loss: 0.0058 - val_mean_squared_error: 0.0058 - val_mean_absolute_error: 0.0584\n",
            "Epoch 44/200\n",
            "16/16 [==============================] - 6s 388ms/step - loss: 0.0017 - mean_squared_error: 0.0017 - mean_absolute_error: 0.0308 - val_loss: 0.0056 - val_mean_squared_error: 0.0056 - val_mean_absolute_error: 0.0572\n",
            "Epoch 45/200\n",
            "16/16 [==============================] - 6s 375ms/step - loss: 0.0016 - mean_squared_error: 0.0016 - mean_absolute_error: 0.0288 - val_loss: 0.0055 - val_mean_squared_error: 0.0055 - val_mean_absolute_error: 0.0593\n",
            "Epoch 46/200\n",
            "16/16 [==============================] - 6s 388ms/step - loss: 0.0012 - mean_squared_error: 0.0012 - mean_absolute_error: 0.0251 - val_loss: 0.0054 - val_mean_squared_error: 0.0054 - val_mean_absolute_error: 0.0572\n",
            "Epoch 47/200\n",
            "16/16 [==============================] - 6s 389ms/step - loss: 0.0014 - mean_squared_error: 0.0014 - mean_absolute_error: 0.0273 - val_loss: 0.0054 - val_mean_squared_error: 0.0054 - val_mean_absolute_error: 0.0585\n",
            "Epoch 48/200\n",
            "16/16 [==============================] - 6s 394ms/step - loss: 0.0013 - mean_squared_error: 0.0013 - mean_absolute_error: 0.0266 - val_loss: 0.0053 - val_mean_squared_error: 0.0053 - val_mean_absolute_error: 0.0567\n",
            "Epoch 49/200\n",
            "16/16 [==============================] - 6s 374ms/step - loss: 0.0010 - mean_squared_error: 0.0010 - mean_absolute_error: 0.0241 - val_loss: 0.0053 - val_mean_squared_error: 0.0053 - val_mean_absolute_error: 0.0582\n",
            "Epoch 50/200\n",
            "16/16 [==============================] - 6s 383ms/step - loss: 0.0012 - mean_squared_error: 0.0012 - mean_absolute_error: 0.0259 - val_loss: 0.0060 - val_mean_squared_error: 0.0060 - val_mean_absolute_error: 0.0615\n",
            "Epoch 51/200\n",
            "16/16 [==============================] - 6s 383ms/step - loss: 0.0015 - mean_squared_error: 0.0015 - mean_absolute_error: 0.0294 - val_loss: 0.0053 - val_mean_squared_error: 0.0053 - val_mean_absolute_error: 0.0567\n",
            "Epoch 52/200\n",
            "16/16 [==============================] - 6s 382ms/step - loss: 0.0015 - mean_squared_error: 0.0015 - mean_absolute_error: 0.0292 - val_loss: 0.0073 - val_mean_squared_error: 0.0073 - val_mean_absolute_error: 0.0662\n",
            "Epoch 53/200\n",
            "16/16 [==============================] - 6s 390ms/step - loss: 0.0036 - mean_squared_error: 0.0036 - mean_absolute_error: 0.0442 - val_loss: 0.0052 - val_mean_squared_error: 0.0052 - val_mean_absolute_error: 0.0575\n",
            "Epoch 54/200\n",
            "16/16 [==============================] - 6s 379ms/step - loss: 0.0013 - mean_squared_error: 0.0013 - mean_absolute_error: 0.0258 - val_loss: 0.0065 - val_mean_squared_error: 0.0065 - val_mean_absolute_error: 0.0662\n",
            "Epoch 55/200\n",
            "16/16 [==============================] - 6s 376ms/step - loss: 0.0014 - mean_squared_error: 0.0014 - mean_absolute_error: 0.0287 - val_loss: 0.0056 - val_mean_squared_error: 0.0056 - val_mean_absolute_error: 0.0595\n",
            "Epoch 56/200\n",
            "16/16 [==============================] - 6s 377ms/step - loss: 0.0014 - mean_squared_error: 0.0014 - mean_absolute_error: 0.0286 - val_loss: 0.0052 - val_mean_squared_error: 0.0052 - val_mean_absolute_error: 0.0565\n",
            "Epoch 57/200\n",
            "16/16 [==============================] - 6s 380ms/step - loss: 0.0012 - mean_squared_error: 0.0012 - mean_absolute_error: 0.0247 - val_loss: 0.0060 - val_mean_squared_error: 0.0060 - val_mean_absolute_error: 0.0630\n",
            "Epoch 58/200\n",
            "16/16 [==============================] - 6s 384ms/step - loss: 0.0015 - mean_squared_error: 0.0015 - mean_absolute_error: 0.0285 - val_loss: 0.0051 - val_mean_squared_error: 0.0051 - val_mean_absolute_error: 0.0551\n",
            "Epoch 59/200\n",
            "16/16 [==============================] - 6s 371ms/step - loss: 0.0010 - mean_squared_error: 0.0010 - mean_absolute_error: 0.0238 - val_loss: 0.0063 - val_mean_squared_error: 0.0063 - val_mean_absolute_error: 0.0611\n",
            "Epoch 60/200\n",
            "16/16 [==============================] - 6s 364ms/step - loss: 0.0012 - mean_squared_error: 0.0012 - mean_absolute_error: 0.0266 - val_loss: 0.0051 - val_mean_squared_error: 0.0051 - val_mean_absolute_error: 0.0561\n",
            "Epoch 61/200\n",
            "16/16 [==============================] - 6s 364ms/step - loss: 0.0012 - mean_squared_error: 0.0012 - mean_absolute_error: 0.0254 - val_loss: 0.0056 - val_mean_squared_error: 0.0056 - val_mean_absolute_error: 0.0573\n",
            "Epoch 62/200\n",
            "16/16 [==============================] - 6s 370ms/step - loss: 0.0014 - mean_squared_error: 0.0014 - mean_absolute_error: 0.0281 - val_loss: 0.0053 - val_mean_squared_error: 0.0053 - val_mean_absolute_error: 0.0559\n",
            "Epoch 63/200\n",
            " 3/16 [====>.........................] - ETA: 5s - loss: 0.0015 - mean_squared_error: 0.0015 - mean_absolute_error: 0.0285"
          ],
          "name": "stdout"
        },
        {
          "output_type": "stream",
          "text": [
            "\u001b[34m\u001b[1mwandb\u001b[0m: Ctrl + C detected. Stopping sweep.\n"
          ],
          "name": "stderr"
        },
        {
          "output_type": "display_data",
          "data": {
            "text/html": [
              "<br/>Waiting for W&B process to finish, PID 6189<br/>Program failed with code 1.  Press ctrl-c to abort syncing."
            ],
            "text/plain": [
              "<IPython.core.display.HTML object>"
            ]
          },
          "metadata": {
            "tags": []
          }
        }
      ]
    },
    {
      "cell_type": "markdown",
      "metadata": {
        "id": "gFTu29dbi18i"
      },
      "source": [
        "# Setting up the best model\n",
        "Using the best values from the hyperparamter search with wandb, the most optimal model configuration is used."
      ]
    },
    {
      "cell_type": "code",
      "metadata": {
        "id": "NwsO8cDJPMdj"
      },
      "source": [
        "# picking the best values\n",
        "best_config = {\n",
        "    'epochs': 100,\n",
        "    'batch_size': 32,\n",
        "    'learning_rate': 0.0005,\n",
        "    'dropout': 0.1,\n",
        "    'optimizer': 'adam',\n",
        "    'activation': 'tanh'\n",
        "}"
      ],
      "execution_count": 17,
      "outputs": []
    },
    {
      "cell_type": "code",
      "metadata": {
        "colab": {
          "base_uri": "https://localhost:8080/"
        },
        "id": "OU7NXYBg1T4r",
        "outputId": "6c222123-ce6d-4f4f-a619-e3c13eae2f4e"
      },
      "source": [
        "# clearing the settings on the keras backend\n",
        "keras.backend.clear_session()\n",
        "\n",
        "# setting keras model to sequential mode\n",
        "model = Sequential()\n",
        "\n",
        "# layer 1\n",
        "model.add(GRU(units=128, return_sequences=True, input_shape=(window_len, 1), activation=best_config['activation']))\n",
        "model.add(Dropout(best_config['dropout']))\n",
        "# layer 2\n",
        "model.add(GRU(units=64, return_sequences=False, activation=best_config['activation']))\n",
        "model.add(Dropout(best_config['dropout']))\n",
        "# layer 3\n",
        "model.add(RepeatVector(window_len))\n",
        "# layer 4\n",
        "model.add(GRU(units=64, return_sequences=True, activation=best_config['activation']))\n",
        "model.add(Dropout(best_config['dropout']))\n",
        "# layer 5\n",
        "model.add(GRU(units=128, return_sequences=False, activation=best_config['activation']))\n",
        "model.add(Dropout(0.1))\n",
        "# layer 6\n",
        "model.add((Dense(1)))\n",
        "\n",
        "# defining the optimiser\n",
        "if best_config['optimizer'] == 'sgd':\n",
        "  optimizer = SGD(learning_rate=best_config['learning_rate'], decay=1e-5, momentum=0.9, nesterov=True)\n",
        "elif best_config['optimizer'] == 'rmsprop':\n",
        "  optimizer = RMSprop(learning_rate=best_config['learning_rate'], decay=1e-5)\n",
        "elif best_config['optimizer'] == 'adam':\n",
        "  optimizer = Adam(learning_rate=best_config['learning_rate'], beta_1=0.9, beta_2=0.999, clipnorm=1.0)\n",
        "elif best_config['optimizer'] == 'nadam':\n",
        "  optimizer = Nadam(learning_rate=best_config['learning_rate'], beta_1=0.9, beta_2=0.999, clipnorm=1.0)\n",
        "\n",
        "# compile the model\n",
        "model.compile(optimizer, loss='mean_squared_error')\n",
        "\n",
        "# counting the number of trainable parameters\n",
        "trainable_count = count_params(model.trainable_weights)\n",
        "print('Total number of trainable parameters: ', trainable_count)"
      ],
      "execution_count": 18,
      "outputs": [
        {
          "output_type": "stream",
          "text": [
            "Total number of trainable parameters:  187137\n"
          ],
          "name": "stdout"
        }
      ]
    },
    {
      "cell_type": "code",
      "metadata": {
        "colab": {
          "base_uri": "https://localhost:8080/"
        },
        "id": "5UG8j_4r7kSu",
        "outputId": "ee099319-d24b-4e4e-a49b-dcb7cf22dd80"
      },
      "source": [
        "model.summary()"
      ],
      "execution_count": 19,
      "outputs": [
        {
          "output_type": "stream",
          "text": [
            "Model: \"sequential\"\n",
            "_________________________________________________________________\n",
            "Layer (type)                 Output Shape              Param #   \n",
            "=================================================================\n",
            "gru (GRU)                    (None, 30, 128)           50304     \n",
            "_________________________________________________________________\n",
            "dropout (Dropout)            (None, 30, 128)           0         \n",
            "_________________________________________________________________\n",
            "gru_1 (GRU)                  (None, 64)                37248     \n",
            "_________________________________________________________________\n",
            "dropout_1 (Dropout)          (None, 64)                0         \n",
            "_________________________________________________________________\n",
            "repeat_vector (RepeatVector) (None, 30, 64)            0         \n",
            "_________________________________________________________________\n",
            "gru_2 (GRU)                  (None, 30, 64)            24960     \n",
            "_________________________________________________________________\n",
            "dropout_2 (Dropout)          (None, 30, 64)            0         \n",
            "_________________________________________________________________\n",
            "gru_3 (GRU)                  (None, 128)               74496     \n",
            "_________________________________________________________________\n",
            "dropout_3 (Dropout)          (None, 128)               0         \n",
            "_________________________________________________________________\n",
            "dense (Dense)                (None, 1)                 129       \n",
            "=================================================================\n",
            "Total params: 187,137\n",
            "Trainable params: 187,137\n",
            "Non-trainable params: 0\n",
            "_________________________________________________________________\n"
          ],
          "name": "stdout"
        }
      ]
    },
    {
      "cell_type": "code",
      "metadata": {
        "colab": {
          "base_uri": "https://localhost:8080/"
        },
        "id": "W3v718GcE39o",
        "outputId": "7d11ab60-a050-496c-c3da-598e14c4dbc3"
      },
      "source": [
        "# fitting the model to the training dataset\n",
        "model.fit(X_train, y_train, epochs=best_config['epochs'], batch_size=best_config['batch_size'])"
      ],
      "execution_count": 20,
      "outputs": [
        {
          "output_type": "stream",
          "text": [
            "Epoch 1/100\n",
            "39/39 [==============================] - 8s 13ms/step - loss: 0.0702\n",
            "Epoch 2/100\n",
            "39/39 [==============================] - 1s 14ms/step - loss: 0.0031\n",
            "Epoch 3/100\n",
            "39/39 [==============================] - 1s 14ms/step - loss: 0.0023\n",
            "Epoch 4/100\n",
            "39/39 [==============================] - 1s 14ms/step - loss: 0.0023\n",
            "Epoch 5/100\n",
            "39/39 [==============================] - 1s 13ms/step - loss: 0.0018\n",
            "Epoch 6/100\n",
            "39/39 [==============================] - 1s 14ms/step - loss: 0.0017\n",
            "Epoch 7/100\n",
            "39/39 [==============================] - 1s 13ms/step - loss: 0.0019\n",
            "Epoch 8/100\n",
            "39/39 [==============================] - 1s 13ms/step - loss: 0.0017\n",
            "Epoch 9/100\n",
            "39/39 [==============================] - 0s 13ms/step - loss: 0.0014\n",
            "Epoch 10/100\n",
            "39/39 [==============================] - 1s 13ms/step - loss: 0.0013\n",
            "Epoch 11/100\n",
            "39/39 [==============================] - 1s 14ms/step - loss: 0.0015\n",
            "Epoch 12/100\n",
            "39/39 [==============================] - 1s 14ms/step - loss: 0.0014\n",
            "Epoch 13/100\n",
            "39/39 [==============================] - 1s 13ms/step - loss: 0.0013\n",
            "Epoch 14/100\n",
            "39/39 [==============================] - 1s 13ms/step - loss: 0.0012\n",
            "Epoch 15/100\n",
            "39/39 [==============================] - 1s 13ms/step - loss: 0.0013\n",
            "Epoch 16/100\n",
            "39/39 [==============================] - 1s 13ms/step - loss: 0.0014\n",
            "Epoch 17/100\n",
            "39/39 [==============================] - 0s 13ms/step - loss: 0.0012\n",
            "Epoch 18/100\n",
            "39/39 [==============================] - 1s 13ms/step - loss: 0.0012\n",
            "Epoch 19/100\n",
            "39/39 [==============================] - 1s 13ms/step - loss: 0.0011\n",
            "Epoch 20/100\n",
            "39/39 [==============================] - 1s 13ms/step - loss: 0.0010\n",
            "Epoch 21/100\n",
            "39/39 [==============================] - 1s 13ms/step - loss: 0.0013\n",
            "Epoch 22/100\n",
            "39/39 [==============================] - 1s 13ms/step - loss: 9.2995e-04\n",
            "Epoch 23/100\n",
            "39/39 [==============================] - 1s 13ms/step - loss: 0.0010\n",
            "Epoch 24/100\n",
            "39/39 [==============================] - 1s 13ms/step - loss: 9.4281e-04\n",
            "Epoch 25/100\n",
            "39/39 [==============================] - 1s 13ms/step - loss: 8.3653e-04\n",
            "Epoch 26/100\n",
            "39/39 [==============================] - 1s 13ms/step - loss: 0.0012\n",
            "Epoch 27/100\n",
            "39/39 [==============================] - 1s 13ms/step - loss: 0.0011\n",
            "Epoch 28/100\n",
            "39/39 [==============================] - 1s 13ms/step - loss: 0.0010\n",
            "Epoch 29/100\n",
            "39/39 [==============================] - 1s 14ms/step - loss: 9.0340e-04\n",
            "Epoch 30/100\n",
            "39/39 [==============================] - 1s 14ms/step - loss: 0.0010\n",
            "Epoch 31/100\n",
            "39/39 [==============================] - 1s 13ms/step - loss: 0.0011\n",
            "Epoch 32/100\n",
            "39/39 [==============================] - 1s 15ms/step - loss: 8.9138e-04\n",
            "Epoch 33/100\n",
            "39/39 [==============================] - 1s 14ms/step - loss: 8.6581e-04\n",
            "Epoch 34/100\n",
            "39/39 [==============================] - 1s 14ms/step - loss: 0.0011\n",
            "Epoch 35/100\n",
            "39/39 [==============================] - 1s 14ms/step - loss: 9.4078e-04\n",
            "Epoch 36/100\n",
            "39/39 [==============================] - 1s 14ms/step - loss: 8.2992e-04\n",
            "Epoch 37/100\n",
            "39/39 [==============================] - 1s 14ms/step - loss: 7.4949e-04\n",
            "Epoch 38/100\n",
            "39/39 [==============================] - 1s 14ms/step - loss: 8.7353e-04\n",
            "Epoch 39/100\n",
            "39/39 [==============================] - 1s 14ms/step - loss: 8.9393e-04\n",
            "Epoch 40/100\n",
            "39/39 [==============================] - 1s 14ms/step - loss: 8.3550e-04\n",
            "Epoch 41/100\n",
            "39/39 [==============================] - 1s 14ms/step - loss: 9.5274e-04\n",
            "Epoch 42/100\n",
            "39/39 [==============================] - 1s 15ms/step - loss: 0.0011\n",
            "Epoch 43/100\n",
            "39/39 [==============================] - 1s 14ms/step - loss: 8.2900e-04\n",
            "Epoch 44/100\n",
            "39/39 [==============================] - 1s 14ms/step - loss: 8.0397e-04\n",
            "Epoch 45/100\n",
            "39/39 [==============================] - 1s 13ms/step - loss: 9.9691e-04\n",
            "Epoch 46/100\n",
            "39/39 [==============================] - 1s 14ms/step - loss: 8.8321e-04\n",
            "Epoch 47/100\n",
            "39/39 [==============================] - 1s 14ms/step - loss: 8.8387e-04\n",
            "Epoch 48/100\n",
            "39/39 [==============================] - 1s 13ms/step - loss: 0.0014\n",
            "Epoch 49/100\n",
            "39/39 [==============================] - 1s 13ms/step - loss: 8.0237e-04\n",
            "Epoch 50/100\n",
            "39/39 [==============================] - 1s 14ms/step - loss: 0.0010\n",
            "Epoch 51/100\n",
            "39/39 [==============================] - 1s 13ms/step - loss: 8.3833e-04\n",
            "Epoch 52/100\n",
            "39/39 [==============================] - 1s 14ms/step - loss: 7.0767e-04\n",
            "Epoch 53/100\n",
            "39/39 [==============================] - 1s 14ms/step - loss: 9.5873e-04\n",
            "Epoch 54/100\n",
            "39/39 [==============================] - 1s 15ms/step - loss: 8.5305e-04\n",
            "Epoch 55/100\n",
            "39/39 [==============================] - 1s 14ms/step - loss: 8.6303e-04\n",
            "Epoch 56/100\n",
            "39/39 [==============================] - 1s 14ms/step - loss: 0.0014\n",
            "Epoch 57/100\n",
            "39/39 [==============================] - 1s 13ms/step - loss: 7.5844e-04\n",
            "Epoch 58/100\n",
            "39/39 [==============================] - 1s 13ms/step - loss: 8.9115e-04\n",
            "Epoch 59/100\n",
            "39/39 [==============================] - 1s 14ms/step - loss: 8.1763e-04\n",
            "Epoch 60/100\n",
            "39/39 [==============================] - 1s 14ms/step - loss: 7.8606e-04\n",
            "Epoch 61/100\n",
            "39/39 [==============================] - 1s 14ms/step - loss: 0.0011\n",
            "Epoch 62/100\n",
            "39/39 [==============================] - 1s 14ms/step - loss: 0.0010\n",
            "Epoch 63/100\n",
            "39/39 [==============================] - 1s 13ms/step - loss: 9.3341e-04\n",
            "Epoch 64/100\n",
            "39/39 [==============================] - 0s 13ms/step - loss: 7.9530e-04\n",
            "Epoch 65/100\n",
            "39/39 [==============================] - 1s 13ms/step - loss: 7.2792e-04\n",
            "Epoch 66/100\n",
            "39/39 [==============================] - 1s 14ms/step - loss: 7.4909e-04\n",
            "Epoch 67/100\n",
            "39/39 [==============================] - 1s 14ms/step - loss: 9.4044e-04\n",
            "Epoch 68/100\n",
            "39/39 [==============================] - 1s 14ms/step - loss: 7.9200e-04\n",
            "Epoch 69/100\n",
            "39/39 [==============================] - 1s 13ms/step - loss: 7.2533e-04\n",
            "Epoch 70/100\n",
            "39/39 [==============================] - 1s 13ms/step - loss: 7.7679e-04\n",
            "Epoch 71/100\n",
            "39/39 [==============================] - 1s 13ms/step - loss: 7.9900e-04\n",
            "Epoch 72/100\n",
            "39/39 [==============================] - 1s 14ms/step - loss: 7.4923e-04\n",
            "Epoch 73/100\n",
            "39/39 [==============================] - 1s 14ms/step - loss: 7.8656e-04\n",
            "Epoch 74/100\n",
            "39/39 [==============================] - 1s 13ms/step - loss: 8.6723e-04\n",
            "Epoch 75/100\n",
            "39/39 [==============================] - 1s 13ms/step - loss: 7.0232e-04\n",
            "Epoch 76/100\n",
            "39/39 [==============================] - 1s 14ms/step - loss: 8.5153e-04\n",
            "Epoch 77/100\n",
            "39/39 [==============================] - 1s 13ms/step - loss: 9.3967e-04\n",
            "Epoch 78/100\n",
            "39/39 [==============================] - 1s 13ms/step - loss: 8.4874e-04\n",
            "Epoch 79/100\n",
            "39/39 [==============================] - 0s 12ms/step - loss: 0.0013\n",
            "Epoch 80/100\n",
            "39/39 [==============================] - 1s 13ms/step - loss: 7.5158e-04\n",
            "Epoch 81/100\n",
            "39/39 [==============================] - 1s 14ms/step - loss: 7.9844e-04\n",
            "Epoch 82/100\n",
            "39/39 [==============================] - 1s 14ms/step - loss: 8.0644e-04\n",
            "Epoch 83/100\n",
            "39/39 [==============================] - 1s 13ms/step - loss: 7.9060e-04\n",
            "Epoch 84/100\n",
            "39/39 [==============================] - 1s 13ms/step - loss: 6.9540e-04\n",
            "Epoch 85/100\n",
            "39/39 [==============================] - 1s 13ms/step - loss: 8.0571e-04\n",
            "Epoch 86/100\n",
            "39/39 [==============================] - 1s 13ms/step - loss: 7.4121e-04\n",
            "Epoch 87/100\n",
            "39/39 [==============================] - 1s 13ms/step - loss: 9.9983e-04\n",
            "Epoch 88/100\n",
            "39/39 [==============================] - 1s 13ms/step - loss: 6.3824e-04\n",
            "Epoch 89/100\n",
            "39/39 [==============================] - 1s 13ms/step - loss: 7.9738e-04\n",
            "Epoch 90/100\n",
            "39/39 [==============================] - 1s 14ms/step - loss: 7.0822e-04\n",
            "Epoch 91/100\n",
            "39/39 [==============================] - 1s 14ms/step - loss: 6.7768e-04\n",
            "Epoch 92/100\n",
            "39/39 [==============================] - 1s 15ms/step - loss: 6.2898e-04\n",
            "Epoch 93/100\n",
            "39/39 [==============================] - 1s 15ms/step - loss: 8.9569e-04\n",
            "Epoch 94/100\n",
            "39/39 [==============================] - 1s 14ms/step - loss: 7.2403e-04\n",
            "Epoch 95/100\n",
            "39/39 [==============================] - 1s 15ms/step - loss: 9.0802e-04\n",
            "Epoch 96/100\n",
            "39/39 [==============================] - 1s 14ms/step - loss: 7.1688e-04\n",
            "Epoch 97/100\n",
            "39/39 [==============================] - 1s 15ms/step - loss: 7.5447e-04\n",
            "Epoch 98/100\n",
            "39/39 [==============================] - 1s 14ms/step - loss: 6.8737e-04\n",
            "Epoch 99/100\n",
            "39/39 [==============================] - 1s 14ms/step - loss: 7.1015e-04\n",
            "Epoch 100/100\n",
            "39/39 [==============================] - 1s 14ms/step - loss: 8.2764e-04\n"
          ],
          "name": "stdout"
        },
        {
          "output_type": "execute_result",
          "data": {
            "text/plain": [
              "<keras.callbacks.History at 0x7f063a6917d0>"
            ]
          },
          "metadata": {
            "tags": []
          },
          "execution_count": 20
        }
      ]
    },
    {
      "cell_type": "code",
      "metadata": {
        "id": "rTXJN51l9Y-F"
      },
      "source": [
        "# creating an instance of Baseline_Model class using X_test\n",
        "base_model = Base_Model(X_test, window_len)\n",
        "# calling predict_y method\n",
        "base_model.predict_y(in_data.test_len - window_len)\n",
        "\n",
        "# using the model to predict y from X_test\n",
        "y_pred = model.predict(X_test)\n",
        "# assigning y_dummy variable to .y_pred class attribute\n",
        "y_dummy = base_model.y_pred\n",
        "\n",
        "# calling class method extract_real_price to generate unnormalised prices\n",
        "in_data.extract_real_prices(y_pred, y_dummy)\n",
        "\n",
        "# assinging y_true variable\n",
        "y_true = in_data.y_true\n",
        "\n",
        "# assigning actual_price, predicted_price and dummy_price\n",
        "actual_price = in_data.actual_price\n",
        "predicted_price = in_data.predicted_price\n",
        "dummy_price = in_data.dummy_price"
      ],
      "execution_count": 21,
      "outputs": []
    },
    {
      "cell_type": "markdown",
      "metadata": {
        "id": "H-D-XHyRjFMp"
      },
      "source": [
        "# Plotting the prediction results and getting errors\n",
        "The cells below plot the actual, predicted and dummy prices using the Security_Plotter class before finally saving the model and plot."
      ]
    },
    {
      "cell_type": "code",
      "metadata": {
        "colab": {
          "base_uri": "https://localhost:8080/",
          "height": 395
        },
        "id": "PgjvooOD3jq3",
        "outputId": "ce186eb7-4f87-4319-b530-115f8fb658ae"
      },
      "source": [
        "plotter = Security_Plotter(in_data, actual_price, predicted_price,\n",
        "                            dummy_price, in_data.train_len, window_len, in_str, model_str)\n",
        "\n",
        "plotter.single_plot()"
      ],
      "execution_count": 22,
      "outputs": [
        {
          "output_type": "display_data",
          "data": {
            "image/png": "[encoded data removed]",
            "text/plain": [
              "<Figure size 864x432 with 1 Axes>"
            ]
          },
          "metadata": {
            "tags": [],
            "needs_background": "light"
          }
        }
      ]
    },
    {
      "cell_type": "code",
      "metadata": {
        "id": "AxaH7IUCxSXw",
        "colab": {
          "base_uri": "https://localhost:8080/",
          "height": 1000
        },
        "outputId": "483923fb-de5b-4565-bd9c-5bed5167df5a"
      },
      "source": [
        "plot_model(model, show_shapes=True, expand_nested=True)"
      ],
      "execution_count": 23,
      "outputs": [
        {
          "output_type": "execute_result",
          "data": {
            "image/png": "[encoded data removed]",
            "text/plain": [
              "<IPython.core.display.Image object>"
            ]
          },
          "metadata": {
            "tags": []
          },
          "execution_count": 23
        }
      ]
    },
    {
      "cell_type": "code",
      "metadata": {
        "colab": {
          "base_uri": "https://localhost:8080/"
        },
        "id": "bFfQGfb79SJS",
        "outputId": "66a6a7c4-ab43-4a2e-f411-8e0398d5b979"
      },
      "source": [
        "# calculating mean squared error\n",
        "mse = mean_squared_error(y_true, y_pred)\n",
        "d_mse = mean_squared_error(y_true, y_dummy)\n",
        "\n",
        "# calculating root mean squared error\n",
        "rmse = mean_squared_error(y_true, y_pred, squared=False)\n",
        "d_rmse = mean_squared_error(y_true, y_dummy, squared=False)\n",
        "\n",
        "# calculating mean absolute error\n",
        "mae = mean_absolute_error(y_true, y_pred)\n",
        "d_mae = mean_absolute_error(y_true, y_dummy)\n",
        "\n",
        "print('MSE: ', mse)\n",
        "print('RMSE: ', rmse)\n",
        "print('MAE: ', mae)\n",
        "print('Dummy MSE: ', d_mse)\n",
        "print('Dummy RMSE: ', d_rmse)\n",
        "print('Dummy MAE: ', d_mae)"
      ],
      "execution_count": 24,
      "outputs": [
        {
          "output_type": "stream",
          "text": [
            "MSE:  0.003132297076419952\n",
            "RMSE:  0.05596692841687805\n",
            "MAE:  0.037954408204084994\n",
            "Dummy MSE:  0.01786933010743511\n",
            "Dummy RMSE:  0.13367621369351806\n",
            "Dummy MAE:  0.10749275974657799\n"
          ],
          "name": "stdout"
        }
      ]
    },
    {
      "cell_type": "code",
      "metadata": {
        "id": "4YttzJHHU4-s",
        "colab": {
          "base_uri": "https://localhost:8080/"
        },
        "outputId": "2ef0cbab-4d78-42a3-ab6c-40f665cf2fea"
      },
      "source": [
        "# creating a string to save the model based on model name\n",
        "save_path = '/content/gdrive/My Drive/models/'+model_str+'_'+in_str+'/'\n",
        "# mounting google drive for easy storage of model\n",
        "from google.colab import drive\n",
        "# mounting the drive\n",
        "drive.mount('/content/gdrive/')\n",
        "# making the relevant directory to store the model\n",
        "os.mkdir(save_path)\n",
        "# saving the model\n",
        "keras.models.save_model(model, save_path)\n",
        "# saving the model graph\n",
        "model_graph = plot_model(model, to_file=save_path+model_str+'_'+in_str+'_graph_.png', show_shapes=True, expand_nested=True)\n",
        "# saving the matplotlib plot\n",
        "plotter.fig.savefig(save_path+model_str+'_'+in_str+'_plot.png', bbox_inches='tight')\n",
        "# saving the error metrics as a text file\n",
        "error_file = open(save_path+model_str+'_'+in_str+'_metrics.txt', 'w+')\n",
        "error_file.write('MSE: '+str(mse)+'\\n'+'RMSE: '+str(rmse)+'\\n'+'MAE: '+str(mae)+'\\n'+\n",
        "                 'Dummy MSE: '+str(d_mse)+'\\n'+'Dummy RMSE: '+str(d_rmse)+'\\n'+'Dummy MAE: '+str(d_mae))\n",
        "error_file.close()"
      ],
      "execution_count": 25,
      "outputs": [
        {
          "output_type": "stream",
          "text": [
            "Mounted at /content/gdrive/\n"
          ],
          "name": "stdout"
        },
        {
          "output_type": "stream",
          "text": [
            "WARNING:absl:Found untraced functions such as gru_cell_layer_call_fn, gru_cell_layer_call_and_return_conditional_losses, gru_cell_1_layer_call_fn, gru_cell_1_layer_call_and_return_conditional_losses, gru_cell_2_layer_call_fn while saving (showing 5 of 20). These functions will not be directly callable after loading.\n"
          ],
          "name": "stderr"
        },
        {
          "output_type": "stream",
          "text": [
            "INFO:tensorflow:Assets written to: /content/gdrive/My Drive/models/GRU_AE_Google/assets\n"
          ],
          "name": "stdout"
        },
        {
          "output_type": "stream",
          "text": [
            "INFO:tensorflow:Assets written to: /content/gdrive/My Drive/models/GRU_AE_Google/assets\n"
          ],
          "name": "stderr"
        }
      ]
    }
  ]
}