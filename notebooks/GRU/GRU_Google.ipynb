{
  "nbformat": 4,
  "nbformat_minor": 2,
  "metadata": {
    "colab": {
      "name": "GRU_Google.ipynb",
      "provenance": [],
      "collapsed_sections": [],
      "authorship_tag": "ABX9TyMY17S6PJoKdhNxOZddfzF3",
      "include_colab_link": true
    },
    "kernelspec": {
      "name": "python3",
      "display_name": "Python 3"
    },
    "language_info": {
      "name": "python"
    },
    "accelerator": "GPU",
    "widgets": {
      "application/vnd.jupyter.widget-state+json": {
        "557f9af27d29428dbc6abfb9ed143621": {
          "model_module": "@jupyter-widgets/controls",
          "model_name": "VBoxModel",
          "state": {
            "_view_name": "VBoxView",
            "_dom_classes": [],
            "_model_name": "VBoxModel",
            "_view_module": "@jupyter-widgets/controls",
            "_model_module_version": "1.5.0",
            "_view_count": null,
            "_view_module_version": "1.5.0",
            "box_style": "",
            "layout": "IPY_MODEL_89ab21bc95c14e018a66331a8c9f6f4a",
            "_model_module": "@jupyter-widgets/controls",
            "children": [
              "IPY_MODEL_15702c0c64e140c8b3be97516d36b8c8",
              "IPY_MODEL_9d89261dbc5143b090e30a4880c86f82"
            ]
          }
        },
        "89ab21bc95c14e018a66331a8c9f6f4a": {
          "model_module": "@jupyter-widgets/base",
          "model_name": "LayoutModel",
          "state": {
            "_view_name": "LayoutView",
            "grid_template_rows": null,
            "right": null,
            "justify_content": null,
            "_view_module": "@jupyter-widgets/base",
            "overflow": null,
            "_model_module_version": "1.2.0",
            "_view_count": null,
            "flex_flow": null,
            "width": null,
            "min_width": null,
            "border": null,
            "align_items": null,
            "bottom": null,
            "_model_module": "@jupyter-widgets/base",
            "top": null,
            "grid_column": null,
            "overflow_y": null,
            "overflow_x": null,
            "grid_auto_flow": null,
            "grid_area": null,
            "grid_template_columns": null,
            "flex": null,
            "_model_name": "LayoutModel",
            "justify_items": null,
            "grid_row": null,
            "max_height": null,
            "align_content": null,
            "visibility": null,
            "align_self": null,
            "height": null,
            "min_height": null,
            "padding": null,
            "grid_auto_rows": null,
            "grid_gap": null,
            "max_width": null,
            "order": null,
            "_view_module_version": "1.2.0",
            "grid_template_areas": null,
            "object_position": null,
            "object_fit": null,
            "grid_auto_columns": null,
            "margin": null,
            "display": null,
            "left": null
          }
        },
        "15702c0c64e140c8b3be97516d36b8c8": {
          "model_module": "@jupyter-widgets/controls",
          "model_name": "LabelModel",
          "state": {
            "_view_name": "LabelView",
            "style": "IPY_MODEL_48289123ebbe4a38ab7faef33f39414c",
            "_dom_classes": [],
            "description": "",
            "_model_name": "LabelModel",
            "placeholder": "​",
            "_view_module": "@jupyter-widgets/controls",
            "_model_module_version": "1.5.0",
            "value": " 0.35MB of 0.35MB uploaded (0.00MB deduped)\r",
            "_view_count": null,
            "_view_module_version": "1.5.0",
            "description_tooltip": null,
            "_model_module": "@jupyter-widgets/controls",
            "layout": "IPY_MODEL_fd442c2ce1864e7194ad8d94379273be"
          }
        },
        "9d89261dbc5143b090e30a4880c86f82": {
          "model_module": "@jupyter-widgets/controls",
          "model_name": "FloatProgressModel",
          "state": {
            "_view_name": "ProgressView",
            "style": "IPY_MODEL_83aea1541c9f4cd1bb9241a9e4b9414c",
            "_dom_classes": [],
            "description": "",
            "_model_name": "FloatProgressModel",
            "bar_style": "",
            "max": 1,
            "_view_module": "@jupyter-widgets/controls",
            "_model_module_version": "1.5.0",
            "value": 1,
            "_view_count": null,
            "_view_module_version": "1.5.0",
            "orientation": "horizontal",
            "min": 0,
            "description_tooltip": null,
            "_model_module": "@jupyter-widgets/controls",
            "layout": "IPY_MODEL_0826be1763044d7bb02b0760f3792608"
          }
        },
        "48289123ebbe4a38ab7faef33f39414c": {
          "model_module": "@jupyter-widgets/controls",
          "model_name": "DescriptionStyleModel",
          "state": {
            "_view_name": "StyleView",
            "_model_name": "DescriptionStyleModel",
            "description_width": "",
            "_view_module": "@jupyter-widgets/base",
            "_model_module_version": "1.5.0",
            "_view_count": null,
            "_view_module_version": "1.2.0",
            "_model_module": "@jupyter-widgets/controls"
          }
        },
        "fd442c2ce1864e7194ad8d94379273be": {
          "model_module": "@jupyter-widgets/base",
          "model_name": "LayoutModel",
          "state": {
            "_view_name": "LayoutView",
            "grid_template_rows": null,
            "right": null,
            "justify_content": null,
            "_view_module": "@jupyter-widgets/base",
            "overflow": null,
            "_model_module_version": "1.2.0",
            "_view_count": null,
            "flex_flow": null,
            "width": null,
            "min_width": null,
            "border": null,
            "align_items": null,
            "bottom": null,
            "_model_module": "@jupyter-widgets/base",
            "top": null,
            "grid_column": null,
            "overflow_y": null,
            "overflow_x": null,
            "grid_auto_flow": null,
            "grid_area": null,
            "grid_template_columns": null,
            "flex": null,
            "_model_name": "LayoutModel",
            "justify_items": null,
            "grid_row": null,
            "max_height": null,
            "align_content": null,
            "visibility": null,
            "align_self": null,
            "height": null,
            "min_height": null,
            "padding": null,
            "grid_auto_rows": null,
            "grid_gap": null,
            "max_width": null,
            "order": null,
            "_view_module_version": "1.2.0",
            "grid_template_areas": null,
            "object_position": null,
            "object_fit": null,
            "grid_auto_columns": null,
            "margin": null,
            "display": null,
            "left": null
          }
        },
        "83aea1541c9f4cd1bb9241a9e4b9414c": {
          "model_module": "@jupyter-widgets/controls",
          "model_name": "ProgressStyleModel",
          "state": {
            "_view_name": "StyleView",
            "_model_name": "ProgressStyleModel",
            "description_width": "",
            "_view_module": "@jupyter-widgets/base",
            "_model_module_version": "1.5.0",
            "_view_count": null,
            "_view_module_version": "1.2.0",
            "bar_color": null,
            "_model_module": "@jupyter-widgets/controls"
          }
        },
        "0826be1763044d7bb02b0760f3792608": {
          "model_module": "@jupyter-widgets/base",
          "model_name": "LayoutModel",
          "state": {
            "_view_name": "LayoutView",
            "grid_template_rows": null,
            "right": null,
            "justify_content": null,
            "_view_module": "@jupyter-widgets/base",
            "overflow": null,
            "_model_module_version": "1.2.0",
            "_view_count": null,
            "flex_flow": null,
            "width": null,
            "min_width": null,
            "border": null,
            "align_items": null,
            "bottom": null,
            "_model_module": "@jupyter-widgets/base",
            "top": null,
            "grid_column": null,
            "overflow_y": null,
            "overflow_x": null,
            "grid_auto_flow": null,
            "grid_area": null,
            "grid_template_columns": null,
            "flex": null,
            "_model_name": "LayoutModel",
            "justify_items": null,
            "grid_row": null,
            "max_height": null,
            "align_content": null,
            "visibility": null,
            "align_self": null,
            "height": null,
            "min_height": null,
            "padding": null,
            "grid_auto_rows": null,
            "grid_gap": null,
            "max_width": null,
            "order": null,
            "_view_module_version": "1.2.0",
            "grid_template_areas": null,
            "object_position": null,
            "object_fit": null,
            "grid_auto_columns": null,
            "margin": null,
            "display": null,
            "left": null
          }
        },
        "b2459f5e8447468db59b0836c7fc8ad0": {
          "model_module": "@jupyter-widgets/controls",
          "model_name": "VBoxModel",
          "state": {
            "_view_name": "VBoxView",
            "_dom_classes": [],
            "_model_name": "VBoxModel",
            "_view_module": "@jupyter-widgets/controls",
            "_model_module_version": "1.5.0",
            "_view_count": null,
            "_view_module_version": "1.5.0",
            "box_style": "",
            "layout": "IPY_MODEL_a533d2a8273b4bdd897ce71c8b9d3dcf",
            "_model_module": "@jupyter-widgets/controls",
            "children": [
              "IPY_MODEL_6a2724e67fff484d922833b71377cbc5",
              "IPY_MODEL_8fd883a1ede54496bb1e84edfbb4ef80"
            ]
          }
        },
        "a533d2a8273b4bdd897ce71c8b9d3dcf": {
          "model_module": "@jupyter-widgets/base",
          "model_name": "LayoutModel",
          "state": {
            "_view_name": "LayoutView",
            "grid_template_rows": null,
            "right": null,
            "justify_content": null,
            "_view_module": "@jupyter-widgets/base",
            "overflow": null,
            "_model_module_version": "1.2.0",
            "_view_count": null,
            "flex_flow": null,
            "width": null,
            "min_width": null,
            "border": null,
            "align_items": null,
            "bottom": null,
            "_model_module": "@jupyter-widgets/base",
            "top": null,
            "grid_column": null,
            "overflow_y": null,
            "overflow_x": null,
            "grid_auto_flow": null,
            "grid_area": null,
            "grid_template_columns": null,
            "flex": null,
            "_model_name": "LayoutModel",
            "justify_items": null,
            "grid_row": null,
            "max_height": null,
            "align_content": null,
            "visibility": null,
            "align_self": null,
            "height": null,
            "min_height": null,
            "padding": null,
            "grid_auto_rows": null,
            "grid_gap": null,
            "max_width": null,
            "order": null,
            "_view_module_version": "1.2.0",
            "grid_template_areas": null,
            "object_position": null,
            "object_fit": null,
            "grid_auto_columns": null,
            "margin": null,
            "display": null,
            "left": null
          }
        },
        "6a2724e67fff484d922833b71377cbc5": {
          "model_module": "@jupyter-widgets/controls",
          "model_name": "LabelModel",
          "state": {
            "_view_name": "LabelView",
            "style": "IPY_MODEL_74ecd47b0b1c428b888bdbd95d0e3de2",
            "_dom_classes": [],
            "description": "",
            "_model_name": "LabelModel",
            "placeholder": "​",
            "_view_module": "@jupyter-widgets/controls",
            "_model_module_version": "1.5.0",
            "value": " 0.36MB of 0.36MB uploaded (0.00MB deduped)\r",
            "_view_count": null,
            "_view_module_version": "1.5.0",
            "description_tooltip": null,
            "_model_module": "@jupyter-widgets/controls",
            "layout": "IPY_MODEL_9f0243b5cb094403bca89c8891e63ee0"
          }
        },
        "8fd883a1ede54496bb1e84edfbb4ef80": {
          "model_module": "@jupyter-widgets/controls",
          "model_name": "FloatProgressModel",
          "state": {
            "_view_name": "ProgressView",
            "style": "IPY_MODEL_fb7d64403e03423b806c5221f5e55707",
            "_dom_classes": [],
            "description": "",
            "_model_name": "FloatProgressModel",
            "bar_style": "",
            "max": 1,
            "_view_module": "@jupyter-widgets/controls",
            "_model_module_version": "1.5.0",
            "value": 1,
            "_view_count": null,
            "_view_module_version": "1.5.0",
            "orientation": "horizontal",
            "min": 0,
            "description_tooltip": null,
            "_model_module": "@jupyter-widgets/controls",
            "layout": "IPY_MODEL_1c91f226fcbf4fa59872482e4857367b"
          }
        },
        "74ecd47b0b1c428b888bdbd95d0e3de2": {
          "model_module": "@jupyter-widgets/controls",
          "model_name": "DescriptionStyleModel",
          "state": {
            "_view_name": "StyleView",
            "_model_name": "DescriptionStyleModel",
            "description_width": "",
            "_view_module": "@jupyter-widgets/base",
            "_model_module_version": "1.5.0",
            "_view_count": null,
            "_view_module_version": "1.2.0",
            "_model_module": "@jupyter-widgets/controls"
          }
        },
        "9f0243b5cb094403bca89c8891e63ee0": {
          "model_module": "@jupyter-widgets/base",
          "model_name": "LayoutModel",
          "state": {
            "_view_name": "LayoutView",
            "grid_template_rows": null,
            "right": null,
            "justify_content": null,
            "_view_module": "@jupyter-widgets/base",
            "overflow": null,
            "_model_module_version": "1.2.0",
            "_view_count": null,
            "flex_flow": null,
            "width": null,
            "min_width": null,
            "border": null,
            "align_items": null,
            "bottom": null,
            "_model_module": "@jupyter-widgets/base",
            "top": null,
            "grid_column": null,
            "overflow_y": null,
            "overflow_x": null,
            "grid_auto_flow": null,
            "grid_area": null,
            "grid_template_columns": null,
            "flex": null,
            "_model_name": "LayoutModel",
            "justify_items": null,
            "grid_row": null,
            "max_height": null,
            "align_content": null,
            "visibility": null,
            "align_self": null,
            "height": null,
            "min_height": null,
            "padding": null,
            "grid_auto_rows": null,
            "grid_gap": null,
            "max_width": null,
            "order": null,
            "_view_module_version": "1.2.0",
            "grid_template_areas": null,
            "object_position": null,
            "object_fit": null,
            "grid_auto_columns": null,
            "margin": null,
            "display": null,
            "left": null
          }
        },
        "fb7d64403e03423b806c5221f5e55707": {
          "model_module": "@jupyter-widgets/controls",
          "model_name": "ProgressStyleModel",
          "state": {
            "_view_name": "StyleView",
            "_model_name": "ProgressStyleModel",
            "description_width": "",
            "_view_module": "@jupyter-widgets/base",
            "_model_module_version": "1.5.0",
            "_view_count": null,
            "_view_module_version": "1.2.0",
            "bar_color": null,
            "_model_module": "@jupyter-widgets/controls"
          }
        },
        "1c91f226fcbf4fa59872482e4857367b": {
          "model_module": "@jupyter-widgets/base",
          "model_name": "LayoutModel",
          "state": {
            "_view_name": "LayoutView",
            "grid_template_rows": null,
            "right": null,
            "justify_content": null,
            "_view_module": "@jupyter-widgets/base",
            "overflow": null,
            "_model_module_version": "1.2.0",
            "_view_count": null,
            "flex_flow": null,
            "width": null,
            "min_width": null,
            "border": null,
            "align_items": null,
            "bottom": null,
            "_model_module": "@jupyter-widgets/base",
            "top": null,
            "grid_column": null,
            "overflow_y": null,
            "overflow_x": null,
            "grid_auto_flow": null,
            "grid_area": null,
            "grid_template_columns": null,
            "flex": null,
            "_model_name": "LayoutModel",
            "justify_items": null,
            "grid_row": null,
            "max_height": null,
            "align_content": null,
            "visibility": null,
            "align_self": null,
            "height": null,
            "min_height": null,
            "padding": null,
            "grid_auto_rows": null,
            "grid_gap": null,
            "max_width": null,
            "order": null,
            "_view_module_version": "1.2.0",
            "grid_template_areas": null,
            "object_position": null,
            "object_fit": null,
            "grid_auto_columns": null,
            "margin": null,
            "display": null,
            "left": null
          }
        },
        "18cb23f96bea4e3a8c77fcfcdcde0495": {
          "model_module": "@jupyter-widgets/controls",
          "model_name": "VBoxModel",
          "state": {
            "_view_name": "VBoxView",
            "_dom_classes": [],
            "_model_name": "VBoxModel",
            "_view_module": "@jupyter-widgets/controls",
            "_model_module_version": "1.5.0",
            "_view_count": null,
            "_view_module_version": "1.5.0",
            "box_style": "",
            "layout": "IPY_MODEL_9021dd828e854ca9a0c1b4c4a49d5150",
            "_model_module": "@jupyter-widgets/controls",
            "children": [
              "IPY_MODEL_e1361472d0bc4162809b1ec346e0b547",
              "IPY_MODEL_96c3a723beba42baad1ab10b72b0c7dd"
            ]
          }
        },
        "9021dd828e854ca9a0c1b4c4a49d5150": {
          "model_module": "@jupyter-widgets/base",
          "model_name": "LayoutModel",
          "state": {
            "_view_name": "LayoutView",
            "grid_template_rows": null,
            "right": null,
            "justify_content": null,
            "_view_module": "@jupyter-widgets/base",
            "overflow": null,
            "_model_module_version": "1.2.0",
            "_view_count": null,
            "flex_flow": null,
            "width": null,
            "min_width": null,
            "border": null,
            "align_items": null,
            "bottom": null,
            "_model_module": "@jupyter-widgets/base",
            "top": null,
            "grid_column": null,
            "overflow_y": null,
            "overflow_x": null,
            "grid_auto_flow": null,
            "grid_area": null,
            "grid_template_columns": null,
            "flex": null,
            "_model_name": "LayoutModel",
            "justify_items": null,
            "grid_row": null,
            "max_height": null,
            "align_content": null,
            "visibility": null,
            "align_self": null,
            "height": null,
            "min_height": null,
            "padding": null,
            "grid_auto_rows": null,
            "grid_gap": null,
            "max_width": null,
            "order": null,
            "_view_module_version": "1.2.0",
            "grid_template_areas": null,
            "object_position": null,
            "object_fit": null,
            "grid_auto_columns": null,
            "margin": null,
            "display": null,
            "left": null
          }
        },
        "e1361472d0bc4162809b1ec346e0b547": {
          "model_module": "@jupyter-widgets/controls",
          "model_name": "LabelModel",
          "state": {
            "_view_name": "LabelView",
            "style": "IPY_MODEL_848414b94ebc4c2cbef1ebc64d4a4d55",
            "_dom_classes": [],
            "description": "",
            "_model_name": "LabelModel",
            "placeholder": "​",
            "_view_module": "@jupyter-widgets/controls",
            "_model_module_version": "1.5.0",
            "value": " 0.98MB of 0.98MB uploaded (0.00MB deduped)\r",
            "_view_count": null,
            "_view_module_version": "1.5.0",
            "description_tooltip": null,
            "_model_module": "@jupyter-widgets/controls",
            "layout": "IPY_MODEL_15cbdf40424b41078ccefc7459bff2d5"
          }
        },
        "96c3a723beba42baad1ab10b72b0c7dd": {
          "model_module": "@jupyter-widgets/controls",
          "model_name": "FloatProgressModel",
          "state": {
            "_view_name": "ProgressView",
            "style": "IPY_MODEL_5293893a2a2846a2b62e250addcc9700",
            "_dom_classes": [],
            "description": "",
            "_model_name": "FloatProgressModel",
            "bar_style": "",
            "max": 1,
            "_view_module": "@jupyter-widgets/controls",
            "_model_module_version": "1.5.0",
            "value": 1,
            "_view_count": null,
            "_view_module_version": "1.5.0",
            "orientation": "horizontal",
            "min": 0,
            "description_tooltip": null,
            "_model_module": "@jupyter-widgets/controls",
            "layout": "IPY_MODEL_415c4bbccbfc4e7989c99aa252014252"
          }
        },
        "848414b94ebc4c2cbef1ebc64d4a4d55": {
          "model_module": "@jupyter-widgets/controls",
          "model_name": "DescriptionStyleModel",
          "state": {
            "_view_name": "StyleView",
            "_model_name": "DescriptionStyleModel",
            "description_width": "",
            "_view_module": "@jupyter-widgets/base",
            "_model_module_version": "1.5.0",
            "_view_count": null,
            "_view_module_version": "1.2.0",
            "_model_module": "@jupyter-widgets/controls"
          }
        },
        "15cbdf40424b41078ccefc7459bff2d5": {
          "model_module": "@jupyter-widgets/base",
          "model_name": "LayoutModel",
          "state": {
            "_view_name": "LayoutView",
            "grid_template_rows": null,
            "right": null,
            "justify_content": null,
            "_view_module": "@jupyter-widgets/base",
            "overflow": null,
            "_model_module_version": "1.2.0",
            "_view_count": null,
            "flex_flow": null,
            "width": null,
            "min_width": null,
            "border": null,
            "align_items": null,
            "bottom": null,
            "_model_module": "@jupyter-widgets/base",
            "top": null,
            "grid_column": null,
            "overflow_y": null,
            "overflow_x": null,
            "grid_auto_flow": null,
            "grid_area": null,
            "grid_template_columns": null,
            "flex": null,
            "_model_name": "LayoutModel",
            "justify_items": null,
            "grid_row": null,
            "max_height": null,
            "align_content": null,
            "visibility": null,
            "align_self": null,
            "height": null,
            "min_height": null,
            "padding": null,
            "grid_auto_rows": null,
            "grid_gap": null,
            "max_width": null,
            "order": null,
            "_view_module_version": "1.2.0",
            "grid_template_areas": null,
            "object_position": null,
            "object_fit": null,
            "grid_auto_columns": null,
            "margin": null,
            "display": null,
            "left": null
          }
        },
        "5293893a2a2846a2b62e250addcc9700": {
          "model_module": "@jupyter-widgets/controls",
          "model_name": "ProgressStyleModel",
          "state": {
            "_view_name": "StyleView",
            "_model_name": "ProgressStyleModel",
            "description_width": "",
            "_view_module": "@jupyter-widgets/base",
            "_model_module_version": "1.5.0",
            "_view_count": null,
            "_view_module_version": "1.2.0",
            "bar_color": null,
            "_model_module": "@jupyter-widgets/controls"
          }
        },
        "415c4bbccbfc4e7989c99aa252014252": {
          "model_module": "@jupyter-widgets/base",
          "model_name": "LayoutModel",
          "state": {
            "_view_name": "LayoutView",
            "grid_template_rows": null,
            "right": null,
            "justify_content": null,
            "_view_module": "@jupyter-widgets/base",
            "overflow": null,
            "_model_module_version": "1.2.0",
            "_view_count": null,
            "flex_flow": null,
            "width": null,
            "min_width": null,
            "border": null,
            "align_items": null,
            "bottom": null,
            "_model_module": "@jupyter-widgets/base",
            "top": null,
            "grid_column": null,
            "overflow_y": null,
            "overflow_x": null,
            "grid_auto_flow": null,
            "grid_area": null,
            "grid_template_columns": null,
            "flex": null,
            "_model_name": "LayoutModel",
            "justify_items": null,
            "grid_row": null,
            "max_height": null,
            "align_content": null,
            "visibility": null,
            "align_self": null,
            "height": null,
            "min_height": null,
            "padding": null,
            "grid_auto_rows": null,
            "grid_gap": null,
            "max_width": null,
            "order": null,
            "_view_module_version": "1.2.0",
            "grid_template_areas": null,
            "object_position": null,
            "object_fit": null,
            "grid_auto_columns": null,
            "margin": null,
            "display": null,
            "left": null
          }
        },
        "4cf5716d29ee41529d3c302fc36777a9": {
          "model_module": "@jupyter-widgets/controls",
          "model_name": "VBoxModel",
          "state": {
            "_view_name": "VBoxView",
            "_dom_classes": [],
            "_model_name": "VBoxModel",
            "_view_module": "@jupyter-widgets/controls",
            "_model_module_version": "1.5.0",
            "_view_count": null,
            "_view_module_version": "1.5.0",
            "box_style": "",
            "layout": "IPY_MODEL_11ac6d339a3343d997174b34eee3d5a9",
            "_model_module": "@jupyter-widgets/controls",
            "children": [
              "IPY_MODEL_94023d40b545423a94618eec45f74e8e",
              "IPY_MODEL_b5356c4f81a042e7a83cdfbe9d3ccbd5"
            ]
          }
        },
        "11ac6d339a3343d997174b34eee3d5a9": {
          "model_module": "@jupyter-widgets/base",
          "model_name": "LayoutModel",
          "state": {
            "_view_name": "LayoutView",
            "grid_template_rows": null,
            "right": null,
            "justify_content": null,
            "_view_module": "@jupyter-widgets/base",
            "overflow": null,
            "_model_module_version": "1.2.0",
            "_view_count": null,
            "flex_flow": null,
            "width": null,
            "min_width": null,
            "border": null,
            "align_items": null,
            "bottom": null,
            "_model_module": "@jupyter-widgets/base",
            "top": null,
            "grid_column": null,
            "overflow_y": null,
            "overflow_x": null,
            "grid_auto_flow": null,
            "grid_area": null,
            "grid_template_columns": null,
            "flex": null,
            "_model_name": "LayoutModel",
            "justify_items": null,
            "grid_row": null,
            "max_height": null,
            "align_content": null,
            "visibility": null,
            "align_self": null,
            "height": null,
            "min_height": null,
            "padding": null,
            "grid_auto_rows": null,
            "grid_gap": null,
            "max_width": null,
            "order": null,
            "_view_module_version": "1.2.0",
            "grid_template_areas": null,
            "object_position": null,
            "object_fit": null,
            "grid_auto_columns": null,
            "margin": null,
            "display": null,
            "left": null
          }
        },
        "94023d40b545423a94618eec45f74e8e": {
          "model_module": "@jupyter-widgets/controls",
          "model_name": "LabelModel",
          "state": {
            "_view_name": "LabelView",
            "style": "IPY_MODEL_6f1a91f98b0042d6a757084900575861",
            "_dom_classes": [],
            "description": "",
            "_model_name": "LabelModel",
            "placeholder": "​",
            "_view_module": "@jupyter-widgets/controls",
            "_model_module_version": "1.5.0",
            "value": " 0.82MB of 0.82MB uploaded (0.00MB deduped)\r",
            "_view_count": null,
            "_view_module_version": "1.5.0",
            "description_tooltip": null,
            "_model_module": "@jupyter-widgets/controls",
            "layout": "IPY_MODEL_e86d5b0934e54560aa2f6cccf37d3516"
          }
        },
        "b5356c4f81a042e7a83cdfbe9d3ccbd5": {
          "model_module": "@jupyter-widgets/controls",
          "model_name": "FloatProgressModel",
          "state": {
            "_view_name": "ProgressView",
            "style": "IPY_MODEL_87be91be723c4524af209f15c34877de",
            "_dom_classes": [],
            "description": "",
            "_model_name": "FloatProgressModel",
            "bar_style": "",
            "max": 1,
            "_view_module": "@jupyter-widgets/controls",
            "_model_module_version": "1.5.0",
            "value": 1,
            "_view_count": null,
            "_view_module_version": "1.5.0",
            "orientation": "horizontal",
            "min": 0,
            "description_tooltip": null,
            "_model_module": "@jupyter-widgets/controls",
            "layout": "IPY_MODEL_78b2ececb0244f76ab3f87d4f876a2b1"
          }
        },
        "6f1a91f98b0042d6a757084900575861": {
          "model_module": "@jupyter-widgets/controls",
          "model_name": "DescriptionStyleModel",
          "state": {
            "_view_name": "StyleView",
            "_model_name": "DescriptionStyleModel",
            "description_width": "",
            "_view_module": "@jupyter-widgets/base",
            "_model_module_version": "1.5.0",
            "_view_count": null,
            "_view_module_version": "1.2.0",
            "_model_module": "@jupyter-widgets/controls"
          }
        },
        "e86d5b0934e54560aa2f6cccf37d3516": {
          "model_module": "@jupyter-widgets/base",
          "model_name": "LayoutModel",
          "state": {
            "_view_name": "LayoutView",
            "grid_template_rows": null,
            "right": null,
            "justify_content": null,
            "_view_module": "@jupyter-widgets/base",
            "overflow": null,
            "_model_module_version": "1.2.0",
            "_view_count": null,
            "flex_flow": null,
            "width": null,
            "min_width": null,
            "border": null,
            "align_items": null,
            "bottom": null,
            "_model_module": "@jupyter-widgets/base",
            "top": null,
            "grid_column": null,
            "overflow_y": null,
            "overflow_x": null,
            "grid_auto_flow": null,
            "grid_area": null,
            "grid_template_columns": null,
            "flex": null,
            "_model_name": "LayoutModel",
            "justify_items": null,
            "grid_row": null,
            "max_height": null,
            "align_content": null,
            "visibility": null,
            "align_self": null,
            "height": null,
            "min_height": null,
            "padding": null,
            "grid_auto_rows": null,
            "grid_gap": null,
            "max_width": null,
            "order": null,
            "_view_module_version": "1.2.0",
            "grid_template_areas": null,
            "object_position": null,
            "object_fit": null,
            "grid_auto_columns": null,
            "margin": null,
            "display": null,
            "left": null
          }
        },
        "87be91be723c4524af209f15c34877de": {
          "model_module": "@jupyter-widgets/controls",
          "model_name": "ProgressStyleModel",
          "state": {
            "_view_name": "StyleView",
            "_model_name": "ProgressStyleModel",
            "description_width": "",
            "_view_module": "@jupyter-widgets/base",
            "_model_module_version": "1.5.0",
            "_view_count": null,
            "_view_module_version": "1.2.0",
            "bar_color": null,
            "_model_module": "@jupyter-widgets/controls"
          }
        },
        "78b2ececb0244f76ab3f87d4f876a2b1": {
          "model_module": "@jupyter-widgets/base",
          "model_name": "LayoutModel",
          "state": {
            "_view_name": "LayoutView",
            "grid_template_rows": null,
            "right": null,
            "justify_content": null,
            "_view_module": "@jupyter-widgets/base",
            "overflow": null,
            "_model_module_version": "1.2.0",
            "_view_count": null,
            "flex_flow": null,
            "width": null,
            "min_width": null,
            "border": null,
            "align_items": null,
            "bottom": null,
            "_model_module": "@jupyter-widgets/base",
            "top": null,
            "grid_column": null,
            "overflow_y": null,
            "overflow_x": null,
            "grid_auto_flow": null,
            "grid_area": null,
            "grid_template_columns": null,
            "flex": null,
            "_model_name": "LayoutModel",
            "justify_items": null,
            "grid_row": null,
            "max_height": null,
            "align_content": null,
            "visibility": null,
            "align_self": null,
            "height": null,
            "min_height": null,
            "padding": null,
            "grid_auto_rows": null,
            "grid_gap": null,
            "max_width": null,
            "order": null,
            "_view_module_version": "1.2.0",
            "grid_template_areas": null,
            "object_position": null,
            "object_fit": null,
            "grid_auto_columns": null,
            "margin": null,
            "display": null,
            "left": null
          }
        },
        "4fbf3f7b77bc46229109bb66c555d08d": {
          "model_module": "@jupyter-widgets/controls",
          "model_name": "VBoxModel",
          "state": {
            "_view_name": "VBoxView",
            "_dom_classes": [],
            "_model_name": "VBoxModel",
            "_view_module": "@jupyter-widgets/controls",
            "_model_module_version": "1.5.0",
            "_view_count": null,
            "_view_module_version": "1.5.0",
            "box_style": "",
            "layout": "IPY_MODEL_0956b30b431f405399d5527d429eb023",
            "_model_module": "@jupyter-widgets/controls",
            "children": [
              "IPY_MODEL_4135831452be4a4ca5f473c288808864",
              "IPY_MODEL_8a9c461f78b34d5d98393162dbe4f918"
            ]
          }
        },
        "0956b30b431f405399d5527d429eb023": {
          "model_module": "@jupyter-widgets/base",
          "model_name": "LayoutModel",
          "state": {
            "_view_name": "LayoutView",
            "grid_template_rows": null,
            "right": null,
            "justify_content": null,
            "_view_module": "@jupyter-widgets/base",
            "overflow": null,
            "_model_module_version": "1.2.0",
            "_view_count": null,
            "flex_flow": null,
            "width": null,
            "min_width": null,
            "border": null,
            "align_items": null,
            "bottom": null,
            "_model_module": "@jupyter-widgets/base",
            "top": null,
            "grid_column": null,
            "overflow_y": null,
            "overflow_x": null,
            "grid_auto_flow": null,
            "grid_area": null,
            "grid_template_columns": null,
            "flex": null,
            "_model_name": "LayoutModel",
            "justify_items": null,
            "grid_row": null,
            "max_height": null,
            "align_content": null,
            "visibility": null,
            "align_self": null,
            "height": null,
            "min_height": null,
            "padding": null,
            "grid_auto_rows": null,
            "grid_gap": null,
            "max_width": null,
            "order": null,
            "_view_module_version": "1.2.0",
            "grid_template_areas": null,
            "object_position": null,
            "object_fit": null,
            "grid_auto_columns": null,
            "margin": null,
            "display": null,
            "left": null
          }
        },
        "4135831452be4a4ca5f473c288808864": {
          "model_module": "@jupyter-widgets/controls",
          "model_name": "LabelModel",
          "state": {
            "_view_name": "LabelView",
            "style": "IPY_MODEL_fb65ad15165f423880c4095bb35ee74a",
            "_dom_classes": [],
            "description": "",
            "_model_name": "LabelModel",
            "placeholder": "​",
            "_view_module": "@jupyter-widgets/controls",
            "_model_module_version": "1.5.0",
            "value": " 0.44MB of 0.44MB uploaded (0.00MB deduped)\r",
            "_view_count": null,
            "_view_module_version": "1.5.0",
            "description_tooltip": null,
            "_model_module": "@jupyter-widgets/controls",
            "layout": "IPY_MODEL_41851189f4f447c28928aef8214aa3aa"
          }
        },
        "8a9c461f78b34d5d98393162dbe4f918": {
          "model_module": "@jupyter-widgets/controls",
          "model_name": "FloatProgressModel",
          "state": {
            "_view_name": "ProgressView",
            "style": "IPY_MODEL_bf6948bc86234ac68ea7be7151579538",
            "_dom_classes": [],
            "description": "",
            "_model_name": "FloatProgressModel",
            "bar_style": "",
            "max": 1,
            "_view_module": "@jupyter-widgets/controls",
            "_model_module_version": "1.5.0",
            "value": 1,
            "_view_count": null,
            "_view_module_version": "1.5.0",
            "orientation": "horizontal",
            "min": 0,
            "description_tooltip": null,
            "_model_module": "@jupyter-widgets/controls",
            "layout": "IPY_MODEL_83d4de8a41a8496aa69536623055f7f7"
          }
        },
        "fb65ad15165f423880c4095bb35ee74a": {
          "model_module": "@jupyter-widgets/controls",
          "model_name": "DescriptionStyleModel",
          "state": {
            "_view_name": "StyleView",
            "_model_name": "DescriptionStyleModel",
            "description_width": "",
            "_view_module": "@jupyter-widgets/base",
            "_model_module_version": "1.5.0",
            "_view_count": null,
            "_view_module_version": "1.2.0",
            "_model_module": "@jupyter-widgets/controls"
          }
        },
        "41851189f4f447c28928aef8214aa3aa": {
          "model_module": "@jupyter-widgets/base",
          "model_name": "LayoutModel",
          "state": {
            "_view_name": "LayoutView",
            "grid_template_rows": null,
            "right": null,
            "justify_content": null,
            "_view_module": "@jupyter-widgets/base",
            "overflow": null,
            "_model_module_version": "1.2.0",
            "_view_count": null,
            "flex_flow": null,
            "width": null,
            "min_width": null,
            "border": null,
            "align_items": null,
            "bottom": null,
            "_model_module": "@jupyter-widgets/base",
            "top": null,
            "grid_column": null,
            "overflow_y": null,
            "overflow_x": null,
            "grid_auto_flow": null,
            "grid_area": null,
            "grid_template_columns": null,
            "flex": null,
            "_model_name": "LayoutModel",
            "justify_items": null,
            "grid_row": null,
            "max_height": null,
            "align_content": null,
            "visibility": null,
            "align_self": null,
            "height": null,
            "min_height": null,
            "padding": null,
            "grid_auto_rows": null,
            "grid_gap": null,
            "max_width": null,
            "order": null,
            "_view_module_version": "1.2.0",
            "grid_template_areas": null,
            "object_position": null,
            "object_fit": null,
            "grid_auto_columns": null,
            "margin": null,
            "display": null,
            "left": null
          }
        },
        "bf6948bc86234ac68ea7be7151579538": {
          "model_module": "@jupyter-widgets/controls",
          "model_name": "ProgressStyleModel",
          "state": {
            "_view_name": "StyleView",
            "_model_name": "ProgressStyleModel",
            "description_width": "",
            "_view_module": "@jupyter-widgets/base",
            "_model_module_version": "1.5.0",
            "_view_count": null,
            "_view_module_version": "1.2.0",
            "bar_color": null,
            "_model_module": "@jupyter-widgets/controls"
          }
        },
        "83d4de8a41a8496aa69536623055f7f7": {
          "model_module": "@jupyter-widgets/base",
          "model_name": "LayoutModel",
          "state": {
            "_view_name": "LayoutView",
            "grid_template_rows": null,
            "right": null,
            "justify_content": null,
            "_view_module": "@jupyter-widgets/base",
            "overflow": null,
            "_model_module_version": "1.2.0",
            "_view_count": null,
            "flex_flow": null,
            "width": null,
            "min_width": null,
            "border": null,
            "align_items": null,
            "bottom": null,
            "_model_module": "@jupyter-widgets/base",
            "top": null,
            "grid_column": null,
            "overflow_y": null,
            "overflow_x": null,
            "grid_auto_flow": null,
            "grid_area": null,
            "grid_template_columns": null,
            "flex": null,
            "_model_name": "LayoutModel",
            "justify_items": null,
            "grid_row": null,
            "max_height": null,
            "align_content": null,
            "visibility": null,
            "align_self": null,
            "height": null,
            "min_height": null,
            "padding": null,
            "grid_auto_rows": null,
            "grid_gap": null,
            "max_width": null,
            "order": null,
            "_view_module_version": "1.2.0",
            "grid_template_areas": null,
            "object_position": null,
            "object_fit": null,
            "grid_auto_columns": null,
            "margin": null,
            "display": null,
            "left": null
          }
        },
        "ef77a1eaee4a4cd2863d11c833f2eac4": {
          "model_module": "@jupyter-widgets/controls",
          "model_name": "VBoxModel",
          "state": {
            "_view_name": "VBoxView",
            "_dom_classes": [],
            "_model_name": "VBoxModel",
            "_view_module": "@jupyter-widgets/controls",
            "_model_module_version": "1.5.0",
            "_view_count": null,
            "_view_module_version": "1.5.0",
            "box_style": "",
            "layout": "IPY_MODEL_726fa4d631bd4b84ba3a1d252282e4a4",
            "_model_module": "@jupyter-widgets/controls",
            "children": [
              "IPY_MODEL_e2a840f6421b427ca1b5d8f9f93c7557",
              "IPY_MODEL_f1271db1349a4449b5938f988b7af4ff"
            ]
          }
        },
        "726fa4d631bd4b84ba3a1d252282e4a4": {
          "model_module": "@jupyter-widgets/base",
          "model_name": "LayoutModel",
          "state": {
            "_view_name": "LayoutView",
            "grid_template_rows": null,
            "right": null,
            "justify_content": null,
            "_view_module": "@jupyter-widgets/base",
            "overflow": null,
            "_model_module_version": "1.2.0",
            "_view_count": null,
            "flex_flow": null,
            "width": null,
            "min_width": null,
            "border": null,
            "align_items": null,
            "bottom": null,
            "_model_module": "@jupyter-widgets/base",
            "top": null,
            "grid_column": null,
            "overflow_y": null,
            "overflow_x": null,
            "grid_auto_flow": null,
            "grid_area": null,
            "grid_template_columns": null,
            "flex": null,
            "_model_name": "LayoutModel",
            "justify_items": null,
            "grid_row": null,
            "max_height": null,
            "align_content": null,
            "visibility": null,
            "align_self": null,
            "height": null,
            "min_height": null,
            "padding": null,
            "grid_auto_rows": null,
            "grid_gap": null,
            "max_width": null,
            "order": null,
            "_view_module_version": "1.2.0",
            "grid_template_areas": null,
            "object_position": null,
            "object_fit": null,
            "grid_auto_columns": null,
            "margin": null,
            "display": null,
            "left": null
          }
        },
        "e2a840f6421b427ca1b5d8f9f93c7557": {
          "model_module": "@jupyter-widgets/controls",
          "model_name": "LabelModel",
          "state": {
            "_view_name": "LabelView",
            "style": "IPY_MODEL_c54e554b7f6f4dd788efbd2f82a82856",
            "_dom_classes": [],
            "description": "",
            "_model_name": "LabelModel",
            "placeholder": "​",
            "_view_module": "@jupyter-widgets/controls",
            "_model_module_version": "1.5.0",
            "value": " 0.46MB of 0.46MB uploaded (0.00MB deduped)\r",
            "_view_count": null,
            "_view_module_version": "1.5.0",
            "description_tooltip": null,
            "_model_module": "@jupyter-widgets/controls",
            "layout": "IPY_MODEL_f6a7fb495651400194e2f341e7d498f6"
          }
        },
        "f1271db1349a4449b5938f988b7af4ff": {
          "model_module": "@jupyter-widgets/controls",
          "model_name": "FloatProgressModel",
          "state": {
            "_view_name": "ProgressView",
            "style": "IPY_MODEL_1d59b4909c0e4ccf93e8229bf9efd353",
            "_dom_classes": [],
            "description": "",
            "_model_name": "FloatProgressModel",
            "bar_style": "",
            "max": 1,
            "_view_module": "@jupyter-widgets/controls",
            "_model_module_version": "1.5.0",
            "value": 1,
            "_view_count": null,
            "_view_module_version": "1.5.0",
            "orientation": "horizontal",
            "min": 0,
            "description_tooltip": null,
            "_model_module": "@jupyter-widgets/controls",
            "layout": "IPY_MODEL_f967f2b3fa1d40c7b21a9c0ea3ea0934"
          }
        },
        "c54e554b7f6f4dd788efbd2f82a82856": {
          "model_module": "@jupyter-widgets/controls",
          "model_name": "DescriptionStyleModel",
          "state": {
            "_view_name": "StyleView",
            "_model_name": "DescriptionStyleModel",
            "description_width": "",
            "_view_module": "@jupyter-widgets/base",
            "_model_module_version": "1.5.0",
            "_view_count": null,
            "_view_module_version": "1.2.0",
            "_model_module": "@jupyter-widgets/controls"
          }
        },
        "f6a7fb495651400194e2f341e7d498f6": {
          "model_module": "@jupyter-widgets/base",
          "model_name": "LayoutModel",
          "state": {
            "_view_name": "LayoutView",
            "grid_template_rows": null,
            "right": null,
            "justify_content": null,
            "_view_module": "@jupyter-widgets/base",
            "overflow": null,
            "_model_module_version": "1.2.0",
            "_view_count": null,
            "flex_flow": null,
            "width": null,
            "min_width": null,
            "border": null,
            "align_items": null,
            "bottom": null,
            "_model_module": "@jupyter-widgets/base",
            "top": null,
            "grid_column": null,
            "overflow_y": null,
            "overflow_x": null,
            "grid_auto_flow": null,
            "grid_area": null,
            "grid_template_columns": null,
            "flex": null,
            "_model_name": "LayoutModel",
            "justify_items": null,
            "grid_row": null,
            "max_height": null,
            "align_content": null,
            "visibility": null,
            "align_self": null,
            "height": null,
            "min_height": null,
            "padding": null,
            "grid_auto_rows": null,
            "grid_gap": null,
            "max_width": null,
            "order": null,
            "_view_module_version": "1.2.0",
            "grid_template_areas": null,
            "object_position": null,
            "object_fit": null,
            "grid_auto_columns": null,
            "margin": null,
            "display": null,
            "left": null
          }
        },
        "1d59b4909c0e4ccf93e8229bf9efd353": {
          "model_module": "@jupyter-widgets/controls",
          "model_name": "ProgressStyleModel",
          "state": {
            "_view_name": "StyleView",
            "_model_name": "ProgressStyleModel",
            "description_width": "",
            "_view_module": "@jupyter-widgets/base",
            "_model_module_version": "1.5.0",
            "_view_count": null,
            "_view_module_version": "1.2.0",
            "bar_color": null,
            "_model_module": "@jupyter-widgets/controls"
          }
        },
        "f967f2b3fa1d40c7b21a9c0ea3ea0934": {
          "model_module": "@jupyter-widgets/base",
          "model_name": "LayoutModel",
          "state": {
            "_view_name": "LayoutView",
            "grid_template_rows": null,
            "right": null,
            "justify_content": null,
            "_view_module": "@jupyter-widgets/base",
            "overflow": null,
            "_model_module_version": "1.2.0",
            "_view_count": null,
            "flex_flow": null,
            "width": null,
            "min_width": null,
            "border": null,
            "align_items": null,
            "bottom": null,
            "_model_module": "@jupyter-widgets/base",
            "top": null,
            "grid_column": null,
            "overflow_y": null,
            "overflow_x": null,
            "grid_auto_flow": null,
            "grid_area": null,
            "grid_template_columns": null,
            "flex": null,
            "_model_name": "LayoutModel",
            "justify_items": null,
            "grid_row": null,
            "max_height": null,
            "align_content": null,
            "visibility": null,
            "align_self": null,
            "height": null,
            "min_height": null,
            "padding": null,
            "grid_auto_rows": null,
            "grid_gap": null,
            "max_width": null,
            "order": null,
            "_view_module_version": "1.2.0",
            "grid_template_areas": null,
            "object_position": null,
            "object_fit": null,
            "grid_auto_columns": null,
            "margin": null,
            "display": null,
            "left": null
          }
        },
        "ad8c92346fcb4d6e877fc6d994bf1221": {
          "model_module": "@jupyter-widgets/controls",
          "model_name": "VBoxModel",
          "state": {
            "_view_name": "VBoxView",
            "_dom_classes": [],
            "_model_name": "VBoxModel",
            "_view_module": "@jupyter-widgets/controls",
            "_model_module_version": "1.5.0",
            "_view_count": null,
            "_view_module_version": "1.5.0",
            "box_style": "",
            "layout": "IPY_MODEL_5e10783e99ab44c29b481eea03f5007c",
            "_model_module": "@jupyter-widgets/controls",
            "children": [
              "IPY_MODEL_891c6dc0044e470bb01859e947d45e60",
              "IPY_MODEL_f4b761390c854d9c9329e0488f4f0503"
            ]
          }
        },
        "5e10783e99ab44c29b481eea03f5007c": {
          "model_module": "@jupyter-widgets/base",
          "model_name": "LayoutModel",
          "state": {
            "_view_name": "LayoutView",
            "grid_template_rows": null,
            "right": null,
            "justify_content": null,
            "_view_module": "@jupyter-widgets/base",
            "overflow": null,
            "_model_module_version": "1.2.0",
            "_view_count": null,
            "flex_flow": null,
            "width": null,
            "min_width": null,
            "border": null,
            "align_items": null,
            "bottom": null,
            "_model_module": "@jupyter-widgets/base",
            "top": null,
            "grid_column": null,
            "overflow_y": null,
            "overflow_x": null,
            "grid_auto_flow": null,
            "grid_area": null,
            "grid_template_columns": null,
            "flex": null,
            "_model_name": "LayoutModel",
            "justify_items": null,
            "grid_row": null,
            "max_height": null,
            "align_content": null,
            "visibility": null,
            "align_self": null,
            "height": null,
            "min_height": null,
            "padding": null,
            "grid_auto_rows": null,
            "grid_gap": null,
            "max_width": null,
            "order": null,
            "_view_module_version": "1.2.0",
            "grid_template_areas": null,
            "object_position": null,
            "object_fit": null,
            "grid_auto_columns": null,
            "margin": null,
            "display": null,
            "left": null
          }
        },
        "891c6dc0044e470bb01859e947d45e60": {
          "model_module": "@jupyter-widgets/controls",
          "model_name": "LabelModel",
          "state": {
            "_view_name": "LabelView",
            "style": "IPY_MODEL_cc66ff68a2b34ddcb983dfbb8e09b10e",
            "_dom_classes": [],
            "description": "",
            "_model_name": "LabelModel",
            "placeholder": "​",
            "_view_module": "@jupyter-widgets/controls",
            "_model_module_version": "1.5.0",
            "value": " 0.71MB of 0.71MB uploaded (0.00MB deduped)\r",
            "_view_count": null,
            "_view_module_version": "1.5.0",
            "description_tooltip": null,
            "_model_module": "@jupyter-widgets/controls",
            "layout": "IPY_MODEL_edfddf2b7dd443aebf298f5e2fb33c17"
          }
        },
        "f4b761390c854d9c9329e0488f4f0503": {
          "model_module": "@jupyter-widgets/controls",
          "model_name": "FloatProgressModel",
          "state": {
            "_view_name": "ProgressView",
            "style": "IPY_MODEL_b42aaf9b1d7c4201977503bb95bff6be",
            "_dom_classes": [],
            "description": "",
            "_model_name": "FloatProgressModel",
            "bar_style": "",
            "max": 1,
            "_view_module": "@jupyter-widgets/controls",
            "_model_module_version": "1.5.0",
            "value": 1,
            "_view_count": null,
            "_view_module_version": "1.5.0",
            "orientation": "horizontal",
            "min": 0,
            "description_tooltip": null,
            "_model_module": "@jupyter-widgets/controls",
            "layout": "IPY_MODEL_fe5315e98d6a4def929aa5fd826c6e6a"
          }
        },
        "cc66ff68a2b34ddcb983dfbb8e09b10e": {
          "model_module": "@jupyter-widgets/controls",
          "model_name": "DescriptionStyleModel",
          "state": {
            "_view_name": "StyleView",
            "_model_name": "DescriptionStyleModel",
            "description_width": "",
            "_view_module": "@jupyter-widgets/base",
            "_model_module_version": "1.5.0",
            "_view_count": null,
            "_view_module_version": "1.2.0",
            "_model_module": "@jupyter-widgets/controls"
          }
        },
        "edfddf2b7dd443aebf298f5e2fb33c17": {
          "model_module": "@jupyter-widgets/base",
          "model_name": "LayoutModel",
          "state": {
            "_view_name": "LayoutView",
            "grid_template_rows": null,
            "right": null,
            "justify_content": null,
            "_view_module": "@jupyter-widgets/base",
            "overflow": null,
            "_model_module_version": "1.2.0",
            "_view_count": null,
            "flex_flow": null,
            "width": null,
            "min_width": null,
            "border": null,
            "align_items": null,
            "bottom": null,
            "_model_module": "@jupyter-widgets/base",
            "top": null,
            "grid_column": null,
            "overflow_y": null,
            "overflow_x": null,
            "grid_auto_flow": null,
            "grid_area": null,
            "grid_template_columns": null,
            "flex": null,
            "_model_name": "LayoutModel",
            "justify_items": null,
            "grid_row": null,
            "max_height": null,
            "align_content": null,
            "visibility": null,
            "align_self": null,
            "height": null,
            "min_height": null,
            "padding": null,
            "grid_auto_rows": null,
            "grid_gap": null,
            "max_width": null,
            "order": null,
            "_view_module_version": "1.2.0",
            "grid_template_areas": null,
            "object_position": null,
            "object_fit": null,
            "grid_auto_columns": null,
            "margin": null,
            "display": null,
            "left": null
          }
        },
        "b42aaf9b1d7c4201977503bb95bff6be": {
          "model_module": "@jupyter-widgets/controls",
          "model_name": "ProgressStyleModel",
          "state": {
            "_view_name": "StyleView",
            "_model_name": "ProgressStyleModel",
            "description_width": "",
            "_view_module": "@jupyter-widgets/base",
            "_model_module_version": "1.5.0",
            "_view_count": null,
            "_view_module_version": "1.2.0",
            "bar_color": null,
            "_model_module": "@jupyter-widgets/controls"
          }
        },
        "fe5315e98d6a4def929aa5fd826c6e6a": {
          "model_module": "@jupyter-widgets/base",
          "model_name": "LayoutModel",
          "state": {
            "_view_name": "LayoutView",
            "grid_template_rows": null,
            "right": null,
            "justify_content": null,
            "_view_module": "@jupyter-widgets/base",
            "overflow": null,
            "_model_module_version": "1.2.0",
            "_view_count": null,
            "flex_flow": null,
            "width": null,
            "min_width": null,
            "border": null,
            "align_items": null,
            "bottom": null,
            "_model_module": "@jupyter-widgets/base",
            "top": null,
            "grid_column": null,
            "overflow_y": null,
            "overflow_x": null,
            "grid_auto_flow": null,
            "grid_area": null,
            "grid_template_columns": null,
            "flex": null,
            "_model_name": "LayoutModel",
            "justify_items": null,
            "grid_row": null,
            "max_height": null,
            "align_content": null,
            "visibility": null,
            "align_self": null,
            "height": null,
            "min_height": null,
            "padding": null,
            "grid_auto_rows": null,
            "grid_gap": null,
            "max_width": null,
            "order": null,
            "_view_module_version": "1.2.0",
            "grid_template_areas": null,
            "object_position": null,
            "object_fit": null,
            "grid_auto_columns": null,
            "margin": null,
            "display": null,
            "left": null
          }
        },
        "e6db13c1fa0a4ae3a386a50be78fc535": {
          "model_module": "@jupyter-widgets/controls",
          "model_name": "VBoxModel",
          "state": {
            "_view_name": "VBoxView",
            "_dom_classes": [],
            "_model_name": "VBoxModel",
            "_view_module": "@jupyter-widgets/controls",
            "_model_module_version": "1.5.0",
            "_view_count": null,
            "_view_module_version": "1.5.0",
            "box_style": "",
            "layout": "IPY_MODEL_6c7c1552911a45a4bae9eb82663a21b5",
            "_model_module": "@jupyter-widgets/controls",
            "children": [
              "IPY_MODEL_c9127d71699f46d2a8fbf14a761bdee8",
              "IPY_MODEL_f3da7c66ec5543c7be91a1f9a6917d68"
            ]
          }
        },
        "6c7c1552911a45a4bae9eb82663a21b5": {
          "model_module": "@jupyter-widgets/base",
          "model_name": "LayoutModel",
          "state": {
            "_view_name": "LayoutView",
            "grid_template_rows": null,
            "right": null,
            "justify_content": null,
            "_view_module": "@jupyter-widgets/base",
            "overflow": null,
            "_model_module_version": "1.2.0",
            "_view_count": null,
            "flex_flow": null,
            "width": null,
            "min_width": null,
            "border": null,
            "align_items": null,
            "bottom": null,
            "_model_module": "@jupyter-widgets/base",
            "top": null,
            "grid_column": null,
            "overflow_y": null,
            "overflow_x": null,
            "grid_auto_flow": null,
            "grid_area": null,
            "grid_template_columns": null,
            "flex": null,
            "_model_name": "LayoutModel",
            "justify_items": null,
            "grid_row": null,
            "max_height": null,
            "align_content": null,
            "visibility": null,
            "align_self": null,
            "height": null,
            "min_height": null,
            "padding": null,
            "grid_auto_rows": null,
            "grid_gap": null,
            "max_width": null,
            "order": null,
            "_view_module_version": "1.2.0",
            "grid_template_areas": null,
            "object_position": null,
            "object_fit": null,
            "grid_auto_columns": null,
            "margin": null,
            "display": null,
            "left": null
          }
        },
        "c9127d71699f46d2a8fbf14a761bdee8": {
          "model_module": "@jupyter-widgets/controls",
          "model_name": "LabelModel",
          "state": {
            "_view_name": "LabelView",
            "style": "IPY_MODEL_f524425c0f7f4448ac96942a5c9f18b4",
            "_dom_classes": [],
            "description": "",
            "_model_name": "LabelModel",
            "placeholder": "​",
            "_view_module": "@jupyter-widgets/controls",
            "_model_module_version": "1.5.0",
            "value": " 0.64MB of 0.64MB uploaded (0.00MB deduped)\r",
            "_view_count": null,
            "_view_module_version": "1.5.0",
            "description_tooltip": null,
            "_model_module": "@jupyter-widgets/controls",
            "layout": "IPY_MODEL_dc918662dc8949638e66f568f1b9d4c1"
          }
        },
        "f3da7c66ec5543c7be91a1f9a6917d68": {
          "model_module": "@jupyter-widgets/controls",
          "model_name": "FloatProgressModel",
          "state": {
            "_view_name": "ProgressView",
            "style": "IPY_MODEL_db0e827b2e794add990c7725284c4047",
            "_dom_classes": [],
            "description": "",
            "_model_name": "FloatProgressModel",
            "bar_style": "",
            "max": 1,
            "_view_module": "@jupyter-widgets/controls",
            "_model_module_version": "1.5.0",
            "value": 1,
            "_view_count": null,
            "_view_module_version": "1.5.0",
            "orientation": "horizontal",
            "min": 0,
            "description_tooltip": null,
            "_model_module": "@jupyter-widgets/controls",
            "layout": "IPY_MODEL_0a73da99854e4e9f99a50368a95dfb0b"
          }
        },
        "f524425c0f7f4448ac96942a5c9f18b4": {
          "model_module": "@jupyter-widgets/controls",
          "model_name": "DescriptionStyleModel",
          "state": {
            "_view_name": "StyleView",
            "_model_name": "DescriptionStyleModel",
            "description_width": "",
            "_view_module": "@jupyter-widgets/base",
            "_model_module_version": "1.5.0",
            "_view_count": null,
            "_view_module_version": "1.2.0",
            "_model_module": "@jupyter-widgets/controls"
          }
        },
        "dc918662dc8949638e66f568f1b9d4c1": {
          "model_module": "@jupyter-widgets/base",
          "model_name": "LayoutModel",
          "state": {
            "_view_name": "LayoutView",
            "grid_template_rows": null,
            "right": null,
            "justify_content": null,
            "_view_module": "@jupyter-widgets/base",
            "overflow": null,
            "_model_module_version": "1.2.0",
            "_view_count": null,
            "flex_flow": null,
            "width": null,
            "min_width": null,
            "border": null,
            "align_items": null,
            "bottom": null,
            "_model_module": "@jupyter-widgets/base",
            "top": null,
            "grid_column": null,
            "overflow_y": null,
            "overflow_x": null,
            "grid_auto_flow": null,
            "grid_area": null,
            "grid_template_columns": null,
            "flex": null,
            "_model_name": "LayoutModel",
            "justify_items": null,
            "grid_row": null,
            "max_height": null,
            "align_content": null,
            "visibility": null,
            "align_self": null,
            "height": null,
            "min_height": null,
            "padding": null,
            "grid_auto_rows": null,
            "grid_gap": null,
            "max_width": null,
            "order": null,
            "_view_module_version": "1.2.0",
            "grid_template_areas": null,
            "object_position": null,
            "object_fit": null,
            "grid_auto_columns": null,
            "margin": null,
            "display": null,
            "left": null
          }
        },
        "db0e827b2e794add990c7725284c4047": {
          "model_module": "@jupyter-widgets/controls",
          "model_name": "ProgressStyleModel",
          "state": {
            "_view_name": "StyleView",
            "_model_name": "ProgressStyleModel",
            "description_width": "",
            "_view_module": "@jupyter-widgets/base",
            "_model_module_version": "1.5.0",
            "_view_count": null,
            "_view_module_version": "1.2.0",
            "bar_color": null,
            "_model_module": "@jupyter-widgets/controls"
          }
        },
        "0a73da99854e4e9f99a50368a95dfb0b": {
          "model_module": "@jupyter-widgets/base",
          "model_name": "LayoutModel",
          "state": {
            "_view_name": "LayoutView",
            "grid_template_rows": null,
            "right": null,
            "justify_content": null,
            "_view_module": "@jupyter-widgets/base",
            "overflow": null,
            "_model_module_version": "1.2.0",
            "_view_count": null,
            "flex_flow": null,
            "width": null,
            "min_width": null,
            "border": null,
            "align_items": null,
            "bottom": null,
            "_model_module": "@jupyter-widgets/base",
            "top": null,
            "grid_column": null,
            "overflow_y": null,
            "overflow_x": null,
            "grid_auto_flow": null,
            "grid_area": null,
            "grid_template_columns": null,
            "flex": null,
            "_model_name": "LayoutModel",
            "justify_items": null,
            "grid_row": null,
            "max_height": null,
            "align_content": null,
            "visibility": null,
            "align_self": null,
            "height": null,
            "min_height": null,
            "padding": null,
            "grid_auto_rows": null,
            "grid_gap": null,
            "max_width": null,
            "order": null,
            "_view_module_version": "1.2.0",
            "grid_template_areas": null,
            "object_position": null,
            "object_fit": null,
            "grid_auto_columns": null,
            "margin": null,
            "display": null,
            "left": null
          }
        },
        "dd4a155972e64cff87e9116b52747e1a": {
          "model_module": "@jupyter-widgets/controls",
          "model_name": "VBoxModel",
          "state": {
            "_view_name": "VBoxView",
            "_dom_classes": [],
            "_model_name": "VBoxModel",
            "_view_module": "@jupyter-widgets/controls",
            "_model_module_version": "1.5.0",
            "_view_count": null,
            "_view_module_version": "1.5.0",
            "box_style": "",
            "layout": "IPY_MODEL_dd6a4aad31394c1898d9d35a3da52e86",
            "_model_module": "@jupyter-widgets/controls",
            "children": [
              "IPY_MODEL_ed549618b4cc49d2ae3baa2a74d5106a",
              "IPY_MODEL_9286c806c0c1471cbd04d47c6fc6608f"
            ]
          }
        },
        "dd6a4aad31394c1898d9d35a3da52e86": {
          "model_module": "@jupyter-widgets/base",
          "model_name": "LayoutModel",
          "state": {
            "_view_name": "LayoutView",
            "grid_template_rows": null,
            "right": null,
            "justify_content": null,
            "_view_module": "@jupyter-widgets/base",
            "overflow": null,
            "_model_module_version": "1.2.0",
            "_view_count": null,
            "flex_flow": null,
            "width": null,
            "min_width": null,
            "border": null,
            "align_items": null,
            "bottom": null,
            "_model_module": "@jupyter-widgets/base",
            "top": null,
            "grid_column": null,
            "overflow_y": null,
            "overflow_x": null,
            "grid_auto_flow": null,
            "grid_area": null,
            "grid_template_columns": null,
            "flex": null,
            "_model_name": "LayoutModel",
            "justify_items": null,
            "grid_row": null,
            "max_height": null,
            "align_content": null,
            "visibility": null,
            "align_self": null,
            "height": null,
            "min_height": null,
            "padding": null,
            "grid_auto_rows": null,
            "grid_gap": null,
            "max_width": null,
            "order": null,
            "_view_module_version": "1.2.0",
            "grid_template_areas": null,
            "object_position": null,
            "object_fit": null,
            "grid_auto_columns": null,
            "margin": null,
            "display": null,
            "left": null
          }
        },
        "ed549618b4cc49d2ae3baa2a74d5106a": {
          "model_module": "@jupyter-widgets/controls",
          "model_name": "LabelModel",
          "state": {
            "_view_name": "LabelView",
            "style": "IPY_MODEL_aab72663eb534df6992a509283ad3c88",
            "_dom_classes": [],
            "description": "",
            "_model_name": "LabelModel",
            "placeholder": "​",
            "_view_module": "@jupyter-widgets/controls",
            "_model_module_version": "1.5.0",
            "value": " 0.74MB of 0.74MB uploaded (0.00MB deduped)\r",
            "_view_count": null,
            "_view_module_version": "1.5.0",
            "description_tooltip": null,
            "_model_module": "@jupyter-widgets/controls",
            "layout": "IPY_MODEL_7195c7a3f34640059d6619aa26c8a9e0"
          }
        },
        "9286c806c0c1471cbd04d47c6fc6608f": {
          "model_module": "@jupyter-widgets/controls",
          "model_name": "FloatProgressModel",
          "state": {
            "_view_name": "ProgressView",
            "style": "IPY_MODEL_28960b8f45ef4a229efc98817f096c04",
            "_dom_classes": [],
            "description": "",
            "_model_name": "FloatProgressModel",
            "bar_style": "",
            "max": 1,
            "_view_module": "@jupyter-widgets/controls",
            "_model_module_version": "1.5.0",
            "value": 1,
            "_view_count": null,
            "_view_module_version": "1.5.0",
            "orientation": "horizontal",
            "min": 0,
            "description_tooltip": null,
            "_model_module": "@jupyter-widgets/controls",
            "layout": "IPY_MODEL_6996f04683924c8b9782353089d98ca9"
          }
        },
        "aab72663eb534df6992a509283ad3c88": {
          "model_module": "@jupyter-widgets/controls",
          "model_name": "DescriptionStyleModel",
          "state": {
            "_view_name": "StyleView",
            "_model_name": "DescriptionStyleModel",
            "description_width": "",
            "_view_module": "@jupyter-widgets/base",
            "_model_module_version": "1.5.0",
            "_view_count": null,
            "_view_module_version": "1.2.0",
            "_model_module": "@jupyter-widgets/controls"
          }
        },
        "7195c7a3f34640059d6619aa26c8a9e0": {
          "model_module": "@jupyter-widgets/base",
          "model_name": "LayoutModel",
          "state": {
            "_view_name": "LayoutView",
            "grid_template_rows": null,
            "right": null,
            "justify_content": null,
            "_view_module": "@jupyter-widgets/base",
            "overflow": null,
            "_model_module_version": "1.2.0",
            "_view_count": null,
            "flex_flow": null,
            "width": null,
            "min_width": null,
            "border": null,
            "align_items": null,
            "bottom": null,
            "_model_module": "@jupyter-widgets/base",
            "top": null,
            "grid_column": null,
            "overflow_y": null,
            "overflow_x": null,
            "grid_auto_flow": null,
            "grid_area": null,
            "grid_template_columns": null,
            "flex": null,
            "_model_name": "LayoutModel",
            "justify_items": null,
            "grid_row": null,
            "max_height": null,
            "align_content": null,
            "visibility": null,
            "align_self": null,
            "height": null,
            "min_height": null,
            "padding": null,
            "grid_auto_rows": null,
            "grid_gap": null,
            "max_width": null,
            "order": null,
            "_view_module_version": "1.2.0",
            "grid_template_areas": null,
            "object_position": null,
            "object_fit": null,
            "grid_auto_columns": null,
            "margin": null,
            "display": null,
            "left": null
          }
        },
        "28960b8f45ef4a229efc98817f096c04": {
          "model_module": "@jupyter-widgets/controls",
          "model_name": "ProgressStyleModel",
          "state": {
            "_view_name": "StyleView",
            "_model_name": "ProgressStyleModel",
            "description_width": "",
            "_view_module": "@jupyter-widgets/base",
            "_model_module_version": "1.5.0",
            "_view_count": null,
            "_view_module_version": "1.2.0",
            "bar_color": null,
            "_model_module": "@jupyter-widgets/controls"
          }
        },
        "6996f04683924c8b9782353089d98ca9": {
          "model_module": "@jupyter-widgets/base",
          "model_name": "LayoutModel",
          "state": {
            "_view_name": "LayoutView",
            "grid_template_rows": null,
            "right": null,
            "justify_content": null,
            "_view_module": "@jupyter-widgets/base",
            "overflow": null,
            "_model_module_version": "1.2.0",
            "_view_count": null,
            "flex_flow": null,
            "width": null,
            "min_width": null,
            "border": null,
            "align_items": null,
            "bottom": null,
            "_model_module": "@jupyter-widgets/base",
            "top": null,
            "grid_column": null,
            "overflow_y": null,
            "overflow_x": null,
            "grid_auto_flow": null,
            "grid_area": null,
            "grid_template_columns": null,
            "flex": null,
            "_model_name": "LayoutModel",
            "justify_items": null,
            "grid_row": null,
            "max_height": null,
            "align_content": null,
            "visibility": null,
            "align_self": null,
            "height": null,
            "min_height": null,
            "padding": null,
            "grid_auto_rows": null,
            "grid_gap": null,
            "max_width": null,
            "order": null,
            "_view_module_version": "1.2.0",
            "grid_template_areas": null,
            "object_position": null,
            "object_fit": null,
            "grid_auto_columns": null,
            "margin": null,
            "display": null,
            "left": null
          }
        }
      }
    }
  },
  "cells": [
    {
      "cell_type": "markdown",
      "source": [
        "<a href=\"https://colab.research.google.com/github/acse-2020/acse2020-acse9-finalreport-acse-jaq15/blob/main/notebooks/GRU/GRU_Google.ipynb\" target=\"_parent\"><img src=\"https://colab.research.google.com/assets/colab-badge.svg\" alt=\"Open In Colab\"/></a>"
      ],
      "metadata": {
        "id": "view-in-github",
        "colab_type": "text"
      }
    },
    {
      "cell_type": "markdown",
      "source": [
        "# Imports\n",
        "\n",
        "The cells below handle all the necessary imports to run our models, making use of the public repo feeder_repo, linked <!-- [Text](link) -->\n",
        "[here](https://github.com/acse-jaq15/feeder_repo)."
      ],
      "metadata": {
        "id": "z5F7GfFTgUo3"
      }
    },
    {
      "cell_type": "code",
      "execution_count": 1,
      "source": [
        "# clone the feeder repo to get data_reader module and financial time series data\n",
        "!git clone https://github.com/acse-jaq15/feeder_repo.git"
      ],
      "outputs": [
        {
          "output_type": "stream",
          "name": "stdout",
          "text": [
            "Cloning into 'feeder_repo'...\n",
            "remote: Enumerating objects: 140, done.\u001b[K\n",
            "remote: Counting objects: 100% (140/140), done.\u001b[K\n",
            "remote: Compressing objects: 100% (135/135), done.\u001b[K\n",
            "remote: Total 140 (delta 67), reused 6 (delta 2), pack-reused 0\u001b[K\n",
            "Receiving objects: 100% (140/140), 118.41 KiB | 4.08 MiB/s, done.\n",
            "Resolving deltas: 100% (67/67), done.\n"
          ]
        }
      ],
      "metadata": {
        "id": "HWy9Ay1SGzWa",
        "colab": {
          "base_uri": "https://localhost:8080/"
        },
        "outputId": "3682b88e-1ad9-4430-b583-e7e926f8bacc"
      }
    },
    {
      "cell_type": "code",
      "execution_count": 2,
      "source": [
        "# using '%' to enforce a permanent change of directory\n",
        "%cd feeder_repo/"
      ],
      "outputs": [
        {
          "output_type": "stream",
          "name": "stdout",
          "text": [
            "/content/feeder_repo\n"
          ]
        }
      ],
      "metadata": {
        "id": "ChlUNYaiHGM2",
        "colab": {
          "base_uri": "https://localhost:8080/"
        },
        "outputId": "ea147fba-f65a-4f25-942e-61289a0f7394"
      }
    },
    {
      "cell_type": "code",
      "execution_count": 3,
      "source": [
        "# checking contents listed correctly, should read:\n",
        "# baseline_model.py data data_reader.py LICENSE README.md security_plotter.py\n",
        "!ls"
      ],
      "outputs": [
        {
          "output_type": "stream",
          "name": "stdout",
          "text": [
            "base_model.py  data  data_reader.py  LICENSE  README.md  security_plotter.py\n"
          ]
        }
      ],
      "metadata": {
        "id": "saD-jpvPIfZ8",
        "colab": {
          "base_uri": "https://localhost:8080/"
        },
        "outputId": "2d54f3cd-780a-4d83-ac83-f29c9a2f2e20"
      }
    },
    {
      "cell_type": "code",
      "execution_count": 4,
      "source": [
        "import math\n",
        "import sys\n",
        "import keras\n",
        "import os\n",
        "import matplotlib.dates as mdates\n",
        "import matplotlib.pyplot as plt\n",
        "import pandas as pd\n",
        "import numpy as np\n",
        "from keras.models import Sequential\n",
        "from keras.layers import Dense\n",
        "from keras.layers import LSTM\n",
        "from keras.layers import GRU\n",
        "from keras.layers import Dropout\n",
        "from keras.layers import *\n",
        "from keras.utils.layer_utils import count_params\n",
        "from keras.utils.vis_utils import plot_model\n",
        "from sklearn.preprocessing import MinMaxScaler\n",
        "from sklearn.metrics import mean_squared_error\n",
        "from sklearn.metrics import mean_absolute_error\n",
        "from sklearn.model_selection import train_test_split\n",
        "from keras.callbacks import EarlyStopping, Callback\n",
        "from keras.optimizers import RMSprop, SGD, Adam, Nadam\n",
        "from keras.initializers import random_normal"
      ],
      "outputs": [],
      "metadata": {
        "id": "fRqkwo6kZUz_"
      }
    },
    {
      "cell_type": "code",
      "execution_count": 5,
      "source": [
        "# appending path with 'feeder_repo' string\n",
        "sys.path.append('feeder_repo')\n",
        "\n",
        "# import Data_Reader class from data_reader module\n",
        "from feeder_repo.data_reader import Data_Reader\n",
        "# import Baseline_Model class from base_model module\n",
        "from feeder_repo.base_model import Base_Model\n",
        "# import Security_Plotter class from security_plotter module\n",
        "from feeder_repo.security_plotter import Security_Plotter"
      ],
      "outputs": [],
      "metadata": {
        "id": "hzVhwND1HAlw"
      }
    },
    {
      "cell_type": "code",
      "execution_count": 6,
      "source": [
        "# checking if the notebook is running on a GPU\n",
        "gpu_info = !nvidia-smi\n",
        "gpu_info = '\\n'.join(gpu_info)\n",
        "if gpu_info.find('failed') >= 0:\n",
        "    print('Select the Runtime > \"Change runtime type\" menu to enable a GPU accelerator, ')\n",
        "    print('and then re-execute this cell.')\n",
        "else:\n",
        "    print(gpu_info)"
      ],
      "outputs": [
        {
          "output_type": "stream",
          "name": "stdout",
          "text": [
            "Tue Jul 13 18:41:42 2021       \n",
            "+-----------------------------------------------------------------------------+\n",
            "| NVIDIA-SMI 470.42.01    Driver Version: 460.32.03    CUDA Version: 11.2     |\n",
            "|-------------------------------+----------------------+----------------------+\n",
            "| GPU  Name        Persistence-M| Bus-Id        Disp.A | Volatile Uncorr. ECC |\n",
            "| Fan  Temp  Perf  Pwr:Usage/Cap|         Memory-Usage | GPU-Util  Compute M. |\n",
            "|                               |                      |               MIG M. |\n",
            "|===============================+======================+======================|\n",
            "|   0  Tesla P100-PCIE...  Off  | 00000000:00:04.0 Off |                    0 |\n",
            "| N/A   40C    P0    26W / 250W |      0MiB / 16280MiB |      0%      Default |\n",
            "|                               |                      |                  N/A |\n",
            "+-------------------------------+----------------------+----------------------+\n",
            "                                                                               \n",
            "+-----------------------------------------------------------------------------+\n",
            "| Processes:                                                                  |\n",
            "|  GPU   GI   CI        PID   Type   Process name                  GPU Memory |\n",
            "|        ID   ID                                                   Usage      |\n",
            "|=============================================================================|\n",
            "|  No running processes found                                                 |\n",
            "+-----------------------------------------------------------------------------+\n"
          ]
        }
      ],
      "metadata": {
        "colab": {
          "base_uri": "https://localhost:8080/"
        },
        "id": "6-tNDlXuhiCU",
        "outputId": "a16fe195-15dd-40d0-f2f0-d750d3f2098e"
      }
    },
    {
      "cell_type": "markdown",
      "source": [
        "# Handling the data\n",
        "Here the Data_Reader class is used to read the time series data and extract training, test and validation sets, along with the relevant X and y values."
      ],
      "metadata": {
        "id": "WB9wD4Aahs8_"
      }
    },
    {
      "cell_type": "code",
      "execution_count": 11,
      "source": [
        "# storing the file to be read as a string\n",
        "in_str = 'Google'\n",
        "# storing the year of the time series to be used as test data\n",
        "in_yr = 2019\n",
        "# creating a variable to store the model name\n",
        "model_str = 'GRU'\n",
        "# setting our window_length to be 30 days\n",
        "window_len = 30"
      ],
      "outputs": [],
      "metadata": {
        "id": "vBlKerL-c4-3"
      }
    },
    {
      "cell_type": "code",
      "execution_count": 12,
      "source": [
        "# creating an instance of Data_Reader class\n",
        "in_data = Data_Reader(in_str, in_yr)\n",
        "# calling class method extract_train_test to generate training and test datasets\n",
        "in_data.extract_train_test()\n",
        "# calling class method extract_xy to generate X and y training and test datasets\n",
        "in_data.extract_xy(window_len)\n",
        "\n",
        "# assigning X_train and y_train\n",
        "X_train = in_data.X_train\n",
        "y_train = in_data.y_train\n",
        "\n",
        "# assigning X_test and y_test\n",
        "X_test = in_data.X_test\n",
        "y_test = in_data.y_test\n",
        "\n",
        "# assigning X_val_train and y_val_train\n",
        "X_val_train = in_data.X_val_train\n",
        "y_val_train = in_data.y_val_train\n",
        "\n",
        "# assigning X_val_test and y_val_test\n",
        "X_val_test = in_data.X_val_test\n",
        "y_val_test = in_data.y_val_test"
      ],
      "outputs": [],
      "metadata": {
        "id": "hfQJbuBk0vW0"
      }
    },
    {
      "cell_type": "markdown",
      "source": [
        "# Setting up wandb itegration\n",
        "Here wandb is used to perform hyperparameter tuning."
      ],
      "metadata": {
        "id": "X53Fp1Gwh88_"
      }
    },
    {
      "cell_type": "code",
      "execution_count": 9,
      "source": [
        "# installing the wandb library and importing\n",
        "%pip install wandb -q\n",
        "import wandb\n",
        "from wandb.keras import WandbCallback"
      ],
      "outputs": [
        {
          "output_type": "stream",
          "name": "stdout",
          "text": [
            "\u001b[K     |████████████████████████████████| 1.8MB 7.6MB/s \n",
            "\u001b[K     |████████████████████████████████| 143kB 43.6MB/s \n",
            "\u001b[K     |████████████████████████████████| 102kB 10.5MB/s \n",
            "\u001b[K     |████████████████████████████████| 174kB 39.3MB/s \n",
            "\u001b[K     |████████████████████████████████| 71kB 7.2MB/s \n",
            "\u001b[?25h  Building wheel for subprocess32 (setup.py) ... \u001b[?25l\u001b[?25hdone\n",
            "  Building wheel for pathtools (setup.py) ... \u001b[?25l\u001b[?25hdone\n"
          ]
        }
      ],
      "metadata": {
        "colab": {
          "base_uri": "https://localhost:8080/"
        },
        "id": "aE6cdrSDiHhq",
        "outputId": "9e50b93b-8073-4425-c663-5c744f8d061b"
      }
    },
    {
      "cell_type": "code",
      "execution_count": 10,
      "source": [
        "!pip install wandb -qq"
      ],
      "outputs": [],
      "metadata": {
        "id": "pbgZaoQDiIKX"
      }
    },
    {
      "cell_type": "code",
      "execution_count": 13,
      "source": [
        "# logging in so the hyperparameter tunings sweeps can be saved\n",
        "!wandb login"
      ],
      "outputs": [
        {
          "output_type": "stream",
          "name": "stdout",
          "text": [
            "\u001b[34m\u001b[1mwandb\u001b[0m: You can find your API key in your browser here: https://wandb.ai/authorize\n",
            "\u001b[34m\u001b[1mwandb\u001b[0m: Paste an API key from your profile and hit enter: \n",
            "\u001b[34m\u001b[1mwandb\u001b[0m: Appending key for api.wandb.ai to your netrc file: /root/.netrc\n"
          ]
        }
      ],
      "metadata": {
        "colab": {
          "base_uri": "https://localhost:8080/"
        },
        "id": "1WHkW0XyiKVL",
        "outputId": "613f7c7e-22d6-49ac-bf46-77b125e8a506"
      }
    },
    {
      "cell_type": "code",
      "execution_count": 14,
      "source": [
        "# configuring the sweep, making use of a random search methodology\n",
        "sweep_config = {\n",
        "    'method': 'random', #grid, random\n",
        "    'metric': {\n",
        "      'name': 'mse',\n",
        "      'goal': 'minimize'   \n",
        "    },\n",
        "    'parameters': {\n",
        "        'epochs': {\n",
        "            'values': [50, 100, 200]\n",
        "        },\n",
        "        'batch_size': {\n",
        "            'values': [128, 64, 32]\n",
        "        },\n",
        "        'dropout': {\n",
        "            'values': [0.2, 0.3, 0.4]\n",
        "        },\n",
        "        'input_size': {\n",
        "            'values': [25, 50, 100]\n",
        "        },\n",
        "        'hidden_size': {\n",
        "            'values': [25, 50, 100]\n",
        "        },\n",
        "        'learning_rate': {\n",
        "            'values': [0.005, 0.001, 0.0005]\n",
        "        },\n",
        "        'optimizer': {\n",
        "            'values': ['adam', 'nadam', 'sgd']\n",
        "        },\n",
        "        'activation': {\n",
        "            'values': ['tanh', 'relu', 'selu']\n",
        "        }\n",
        "    }\n",
        "}"
      ],
      "outputs": [],
      "metadata": {
        "id": "j91IBGuSid5w"
      }
    },
    {
      "cell_type": "code",
      "execution_count": 15,
      "source": [
        "# The sweep calls this function with each set of hyperparameters\n",
        "def train():\n",
        "    # Default values for hyper-parameters we're going to sweep over\n",
        "    config_defaults = {\n",
        "        'epochs': 100,\n",
        "        'batch_size': 32,\n",
        "        'dropout': 0.2,\n",
        "        'input_size': 50,\n",
        "        'hidden_size': 50,\n",
        "        'learning_rate': 0.005,\n",
        "        'optimizer': 'adam',\n",
        "        'activation': 'tanh',\n",
        "        'momentum': 0.9,\n",
        "        'seed': 42\n",
        "    }\n",
        "\n",
        "    # Initialize a new wandb run\n",
        "    wandb.init(config=config_defaults)\n",
        "    \n",
        "    # Config is a variable that holds and saves hyperparameters and inputs\n",
        "    config = wandb.config\n",
        "    \n",
        "    # Define the model architecture - This is a simplified version of the VGG19 architecture\n",
        "    model = Sequential()\n",
        "    \n",
        "    # input layer\n",
        "    model.add(GRU(units=config.input_size,\n",
        "                  activation=config.activation,\n",
        "                  return_sequences=True,\n",
        "                  input_shape=(window_len, 1)))\n",
        "    model.add(Dropout(config.dropout))\n",
        "    # hidden layer\n",
        "    model.add(GRU(units=config.hidden_size))\n",
        "    model.add(Dropout(config.dropout))\n",
        "    model.add(Dense(units=1))\n",
        "\n",
        "    # Define the optimizer\n",
        "    if config.optimizer=='sgd':\n",
        "      optimizer = SGD(learning_rate=config.learning_rate, decay=1e-5, momentum=config.momentum, nesterov=True)\n",
        "    elif config.optimizer=='rmsprop':\n",
        "      optimizer = RMSprop(learning_rate=config.learning_rate, decay=1e-5)\n",
        "    elif config.optimizer=='adam':\n",
        "      optimizer = Adam(learning_rate=config.learning_rate, beta_1=0.9, beta_2=0.999, clipnorm=1.0)\n",
        "    elif config.optimizer=='nadam':\n",
        "      optimizer = Nadam(learning_rate=config.learning_rate, beta_1=0.9, beta_2=0.999, clipnorm=1.0)\n",
        "\n",
        "    model.compile(loss = \"mean_squared_error\", optimizer=optimizer, metrics=['mean_squared_error', 'mean_absolute_error'])\n",
        "\n",
        "    model.fit(X_val_train, y_val_train, batch_size=config.batch_size,\n",
        "              epochs=config.epochs,\n",
        "              validation_data=(X_val_test, y_val_test),\n",
        "              callbacks=[WandbCallback(validation_data=(X_val_test, y_val_test)),\n",
        "                          EarlyStopping(patience=10, restore_best_weights=True)])"
      ],
      "outputs": [],
      "metadata": {
        "id": "V0Sr9HsorH4E"
      }
    },
    {
      "cell_type": "code",
      "execution_count": 16,
      "source": [
        "# setting up our sweep_id\n",
        "sweep_id = wandb.sweep(sweep_config, project='ACSE_9_GRU')"
      ],
      "outputs": [
        {
          "output_type": "stream",
          "name": "stdout",
          "text": [
            "Create sweep with ID: ge9tsbmx\n",
            "Sweep URL: https://wandb.ai/acse-jaq15/ACSE_9_GRU/sweeps/ge9tsbmx\n"
          ]
        }
      ],
      "metadata": {
        "colab": {
          "base_uri": "https://localhost:8080/"
        },
        "id": "JwZO6oAFU1LN",
        "outputId": "6346e86a-d448-4f91-bd31-499e236b8cba"
      }
    },
    {
      "cell_type": "code",
      "execution_count": 19,
      "source": [
        "# initialising a new sweep\n",
        "wandb.agent(sweep_id, train, project='ACSE_9_GRU')"
      ],
      "outputs": [
        {
          "output_type": "stream",
          "name": "stderr",
          "text": [
            "\u001b[34m\u001b[1mwandb\u001b[0m: Agent Starting Run: iv36taa4 with config:\n",
            "\u001b[34m\u001b[1mwandb\u001b[0m: \tactivation: relu\n",
            "\u001b[34m\u001b[1mwandb\u001b[0m: \tbatch_size: 128\n",
            "\u001b[34m\u001b[1mwandb\u001b[0m: \tdropout: 0.2\n",
            "\u001b[34m\u001b[1mwandb\u001b[0m: \tepochs: 200\n",
            "\u001b[34m\u001b[1mwandb\u001b[0m: \thidden_size: 25\n",
            "\u001b[34m\u001b[1mwandb\u001b[0m: \tinput_size: 25\n",
            "\u001b[34m\u001b[1mwandb\u001b[0m: \tlearning_rate: 0.0005\n",
            "\u001b[34m\u001b[1mwandb\u001b[0m: \toptimizer: nadam\n"
          ]
        },
        {
          "output_type": "display_data",
          "data": {
            "text/plain": [
              "<IPython.core.display.HTML object>"
            ],
            "text/html": [
              "\n",
              "                Tracking run with wandb version 0.10.33<br/>\n",
              "                Syncing run <strong style=\"color:#cdcd00\">rural-sweep-28</strong> to <a href=\"https://wandb.ai\" target=\"_blank\">Weights & Biases</a> <a href=\"https://docs.wandb.com/integrations/jupyter.html\" target=\"_blank\">(Documentation)</a>.<br/>\n",
              "                Project page: <a href=\"https://wandb.ai/acse-jaq15/ACSE_9_GRU\" target=\"_blank\">https://wandb.ai/acse-jaq15/ACSE_9_GRU</a><br/>\n",
              "                Sweep page: <a href=\"https://wandb.ai/acse-jaq15/ACSE_9_GRU/sweeps/ge9tsbmx\" target=\"_blank\">https://wandb.ai/acse-jaq15/ACSE_9_GRU/sweeps/ge9tsbmx</a><br/>\n",
              "Run page: <a href=\"https://wandb.ai/acse-jaq15/ACSE_9_GRU/runs/iv36taa4\" target=\"_blank\">https://wandb.ai/acse-jaq15/ACSE_9_GRU/runs/iv36taa4</a><br/>\n",
              "                Run data is saved locally in <code>/content/feeder_repo/wandb/run-20210713_193842-iv36taa4</code><br/><br/>\n",
              "            "
            ]
          },
          "metadata": {
            "tags": []
          }
        },
        {
          "output_type": "stream",
          "name": "stdout",
          "text": [
            "WARNING:tensorflow:Layer gru will not use cuDNN kernels since it doesn't meet the criteria. It will use a generic GPU kernel as fallback when running on GPU.\n",
            "Epoch 1/200\n",
            "8/8 [==============================] - 8s 286ms/step - loss: 0.2090 - mean_squared_error: 0.2090 - mean_absolute_error: 0.3739 - val_loss: 0.1992 - val_mean_squared_error: 0.1992 - val_mean_absolute_error: 0.3883\n",
            "Epoch 2/200\n",
            "8/8 [==============================] - 1s 117ms/step - loss: 0.1575 - mean_squared_error: 0.1575 - mean_absolute_error: 0.3138 - val_loss: 0.1408 - val_mean_squared_error: 0.1408 - val_mean_absolute_error: 0.3167\n",
            "Epoch 3/200\n",
            "8/8 [==============================] - 1s 123ms/step - loss: 0.1100 - mean_squared_error: 0.1100 - mean_absolute_error: 0.2480 - val_loss: 0.0882 - val_mean_squared_error: 0.0882 - val_mean_absolute_error: 0.2415\n",
            "Epoch 4/200\n",
            "8/8 [==============================] - 1s 116ms/step - loss: 0.0649 - mean_squared_error: 0.0649 - mean_absolute_error: 0.1926 - val_loss: 0.0481 - val_mean_squared_error: 0.0481 - val_mean_absolute_error: 0.1745\n",
            "Epoch 5/200\n",
            "8/8 [==============================] - 1s 121ms/step - loss: 0.0347 - mean_squared_error: 0.0347 - mean_absolute_error: 0.1448 - val_loss: 0.0249 - val_mean_squared_error: 0.0249 - val_mean_absolute_error: 0.1268\n",
            "Epoch 6/200\n",
            "8/8 [==============================] - 1s 117ms/step - loss: 0.0249 - mean_squared_error: 0.0249 - mean_absolute_error: 0.1244 - val_loss: 0.0162 - val_mean_squared_error: 0.0162 - val_mean_absolute_error: 0.1045\n",
            "Epoch 7/200\n",
            "8/8 [==============================] - 1s 115ms/step - loss: 0.0159 - mean_squared_error: 0.0159 - mean_absolute_error: 0.1007 - val_loss: 0.0134 - val_mean_squared_error: 0.0134 - val_mean_absolute_error: 0.0952\n",
            "Epoch 8/200\n",
            "8/8 [==============================] - 1s 106ms/step - loss: 0.0131 - mean_squared_error: 0.0131 - mean_absolute_error: 0.0918 - val_loss: 0.0119 - val_mean_squared_error: 0.0119 - val_mean_absolute_error: 0.0887\n",
            "Epoch 9/200\n",
            "8/8 [==============================] - 1s 127ms/step - loss: 0.0100 - mean_squared_error: 0.0100 - mean_absolute_error: 0.0810 - val_loss: 0.0108 - val_mean_squared_error: 0.0108 - val_mean_absolute_error: 0.0836\n",
            "Epoch 10/200\n",
            "8/8 [==============================] - 1s 118ms/step - loss: 0.0091 - mean_squared_error: 0.0091 - mean_absolute_error: 0.0743 - val_loss: 0.0101 - val_mean_squared_error: 0.0101 - val_mean_absolute_error: 0.0800\n",
            "Epoch 11/200\n",
            "8/8 [==============================] - 1s 115ms/step - loss: 0.0071 - mean_squared_error: 0.0071 - mean_absolute_error: 0.0638 - val_loss: 0.0099 - val_mean_squared_error: 0.0099 - val_mean_absolute_error: 0.0797\n",
            "Epoch 12/200\n",
            "8/8 [==============================] - 1s 119ms/step - loss: 0.0081 - mean_squared_error: 0.0081 - mean_absolute_error: 0.0641 - val_loss: 0.0097 - val_mean_squared_error: 0.0097 - val_mean_absolute_error: 0.0790\n",
            "Epoch 13/200\n",
            "8/8 [==============================] - 1s 113ms/step - loss: 0.0060 - mean_squared_error: 0.0060 - mean_absolute_error: 0.0534 - val_loss: 0.0097 - val_mean_squared_error: 0.0097 - val_mean_absolute_error: 0.0787\n",
            "Epoch 14/200\n",
            "8/8 [==============================] - 1s 125ms/step - loss: 0.0058 - mean_squared_error: 0.0058 - mean_absolute_error: 0.0542 - val_loss: 0.0097 - val_mean_squared_error: 0.0097 - val_mean_absolute_error: 0.0784\n",
            "Epoch 15/200\n",
            "8/8 [==============================] - 1s 118ms/step - loss: 0.0061 - mean_squared_error: 0.0061 - mean_absolute_error: 0.0551 - val_loss: 0.0097 - val_mean_squared_error: 0.0097 - val_mean_absolute_error: 0.0786\n",
            "Epoch 16/200\n",
            "8/8 [==============================] - 1s 116ms/step - loss: 0.0070 - mean_squared_error: 0.0070 - mean_absolute_error: 0.0588 - val_loss: 0.0097 - val_mean_squared_error: 0.0097 - val_mean_absolute_error: 0.0785\n",
            "Epoch 17/200\n",
            "8/8 [==============================] - 1s 122ms/step - loss: 0.0057 - mean_squared_error: 0.0057 - mean_absolute_error: 0.0546 - val_loss: 0.0097 - val_mean_squared_error: 0.0097 - val_mean_absolute_error: 0.0785\n",
            "Epoch 18/200\n",
            "8/8 [==============================] - 1s 123ms/step - loss: 0.0053 - mean_squared_error: 0.0053 - mean_absolute_error: 0.0534 - val_loss: 0.0097 - val_mean_squared_error: 0.0097 - val_mean_absolute_error: 0.0786\n",
            "Epoch 19/200\n",
            "8/8 [==============================] - 1s 117ms/step - loss: 0.0049 - mean_squared_error: 0.0049 - mean_absolute_error: 0.0515 - val_loss: 0.0097 - val_mean_squared_error: 0.0097 - val_mean_absolute_error: 0.0783\n",
            "Epoch 20/200\n",
            "8/8 [==============================] - 1s 119ms/step - loss: 0.0053 - mean_squared_error: 0.0053 - mean_absolute_error: 0.0528 - val_loss: 0.0097 - val_mean_squared_error: 0.0097 - val_mean_absolute_error: 0.0787\n",
            "Epoch 21/200\n",
            "8/8 [==============================] - 1s 118ms/step - loss: 0.0051 - mean_squared_error: 0.0051 - mean_absolute_error: 0.0513 - val_loss: 0.0097 - val_mean_squared_error: 0.0097 - val_mean_absolute_error: 0.0785\n",
            "Epoch 22/200\n",
            "8/8 [==============================] - 1s 110ms/step - loss: 0.0049 - mean_squared_error: 0.0049 - mean_absolute_error: 0.0502 - val_loss: 0.0097 - val_mean_squared_error: 0.0097 - val_mean_absolute_error: 0.0788\n",
            "Epoch 23/200\n",
            "8/8 [==============================] - 1s 115ms/step - loss: 0.0054 - mean_squared_error: 0.0054 - mean_absolute_error: 0.0519 - val_loss: 0.0097 - val_mean_squared_error: 0.0097 - val_mean_absolute_error: 0.0783\n",
            "Epoch 24/200\n",
            "8/8 [==============================] - 1s 113ms/step - loss: 0.0045 - mean_squared_error: 0.0045 - mean_absolute_error: 0.0486 - val_loss: 0.0097 - val_mean_squared_error: 0.0097 - val_mean_absolute_error: 0.0784\n",
            "Epoch 25/200\n",
            "8/8 [==============================] - 1s 117ms/step - loss: 0.0060 - mean_squared_error: 0.0060 - mean_absolute_error: 0.0540 - val_loss: 0.0096 - val_mean_squared_error: 0.0096 - val_mean_absolute_error: 0.0784\n",
            "Epoch 26/200\n",
            "8/8 [==============================] - 1s 126ms/step - loss: 0.0051 - mean_squared_error: 0.0051 - mean_absolute_error: 0.0511 - val_loss: 0.0097 - val_mean_squared_error: 0.0097 - val_mean_absolute_error: 0.0783\n",
            "Epoch 27/200\n",
            "8/8 [==============================] - 1s 119ms/step - loss: 0.0053 - mean_squared_error: 0.0053 - mean_absolute_error: 0.0513 - val_loss: 0.0097 - val_mean_squared_error: 0.0097 - val_mean_absolute_error: 0.0787\n",
            "Epoch 28/200\n",
            "8/8 [==============================] - 1s 123ms/step - loss: 0.0051 - mean_squared_error: 0.0051 - mean_absolute_error: 0.0511 - val_loss: 0.0096 - val_mean_squared_error: 0.0096 - val_mean_absolute_error: 0.0783\n",
            "Epoch 29/200\n",
            "8/8 [==============================] - 1s 122ms/step - loss: 0.0050 - mean_squared_error: 0.0050 - mean_absolute_error: 0.0510 - val_loss: 0.0098 - val_mean_squared_error: 0.0098 - val_mean_absolute_error: 0.0783\n",
            "Epoch 30/200\n",
            "8/8 [==============================] - 1s 121ms/step - loss: 0.0053 - mean_squared_error: 0.0053 - mean_absolute_error: 0.0520 - val_loss: 0.0097 - val_mean_squared_error: 0.0097 - val_mean_absolute_error: 0.0781\n",
            "Epoch 31/200\n",
            "8/8 [==============================] - 1s 109ms/step - loss: 0.0051 - mean_squared_error: 0.0051 - mean_absolute_error: 0.0504 - val_loss: 0.0096 - val_mean_squared_error: 0.0096 - val_mean_absolute_error: 0.0785\n",
            "Epoch 32/200\n",
            "8/8 [==============================] - 1s 109ms/step - loss: 0.0055 - mean_squared_error: 0.0055 - mean_absolute_error: 0.0530 - val_loss: 0.0096 - val_mean_squared_error: 0.0096 - val_mean_absolute_error: 0.0782\n",
            "Epoch 33/200\n",
            "8/8 [==============================] - 1s 125ms/step - loss: 0.0050 - mean_squared_error: 0.0050 - mean_absolute_error: 0.0501 - val_loss: 0.0096 - val_mean_squared_error: 0.0096 - val_mean_absolute_error: 0.0782\n",
            "Epoch 34/200\n",
            "8/8 [==============================] - 1s 114ms/step - loss: 0.0052 - mean_squared_error: 0.0052 - mean_absolute_error: 0.0498 - val_loss: 0.0096 - val_mean_squared_error: 0.0096 - val_mean_absolute_error: 0.0781\n",
            "Epoch 35/200\n",
            "8/8 [==============================] - 1s 117ms/step - loss: 0.0049 - mean_squared_error: 0.0049 - mean_absolute_error: 0.0497 - val_loss: 0.0096 - val_mean_squared_error: 0.0096 - val_mean_absolute_error: 0.0781\n",
            "Epoch 36/200\n",
            "8/8 [==============================] - 1s 121ms/step - loss: 0.0052 - mean_squared_error: 0.0052 - mean_absolute_error: 0.0513 - val_loss: 0.0096 - val_mean_squared_error: 0.0096 - val_mean_absolute_error: 0.0780\n",
            "Epoch 37/200\n",
            "8/8 [==============================] - 1s 120ms/step - loss: 0.0043 - mean_squared_error: 0.0043 - mean_absolute_error: 0.0479 - val_loss: 0.0096 - val_mean_squared_error: 0.0096 - val_mean_absolute_error: 0.0778\n",
            "Epoch 38/200\n",
            "8/8 [==============================] - 1s 122ms/step - loss: 0.0053 - mean_squared_error: 0.0053 - mean_absolute_error: 0.0533 - val_loss: 0.0096 - val_mean_squared_error: 0.0096 - val_mean_absolute_error: 0.0780\n",
            "Epoch 39/200\n",
            "8/8 [==============================] - 1s 118ms/step - loss: 0.0043 - mean_squared_error: 0.0043 - mean_absolute_error: 0.0477 - val_loss: 0.0096 - val_mean_squared_error: 0.0096 - val_mean_absolute_error: 0.0783\n",
            "Epoch 40/200\n",
            "8/8 [==============================] - 1s 137ms/step - loss: 0.0049 - mean_squared_error: 0.0049 - mean_absolute_error: 0.0503 - val_loss: 0.0097 - val_mean_squared_error: 0.0097 - val_mean_absolute_error: 0.0780\n",
            "Epoch 41/200\n",
            "8/8 [==============================] - 1s 112ms/step - loss: 0.0047 - mean_squared_error: 0.0047 - mean_absolute_error: 0.0492 - val_loss: 0.0097 - val_mean_squared_error: 0.0097 - val_mean_absolute_error: 0.0782\n",
            "Epoch 42/200\n",
            "8/8 [==============================] - 1s 122ms/step - loss: 0.0040 - mean_squared_error: 0.0040 - mean_absolute_error: 0.0456 - val_loss: 0.0097 - val_mean_squared_error: 0.0097 - val_mean_absolute_error: 0.0783\n",
            "Epoch 43/200\n",
            "8/8 [==============================] - 1s 116ms/step - loss: 0.0045 - mean_squared_error: 0.0045 - mean_absolute_error: 0.0498 - val_loss: 0.0096 - val_mean_squared_error: 0.0096 - val_mean_absolute_error: 0.0781\n",
            "Epoch 44/200\n",
            "8/8 [==============================] - 1s 121ms/step - loss: 0.0047 - mean_squared_error: 0.0047 - mean_absolute_error: 0.0487 - val_loss: 0.0096 - val_mean_squared_error: 0.0096 - val_mean_absolute_error: 0.0785\n",
            "Epoch 45/200\n",
            "8/8 [==============================] - 1s 123ms/step - loss: 0.0043 - mean_squared_error: 0.0043 - mean_absolute_error: 0.0453 - val_loss: 0.0096 - val_mean_squared_error: 0.0096 - val_mean_absolute_error: 0.0786\n",
            "Epoch 46/200\n",
            "8/8 [==============================] - 1s 118ms/step - loss: 0.0043 - mean_squared_error: 0.0043 - mean_absolute_error: 0.0480 - val_loss: 0.0096 - val_mean_squared_error: 0.0096 - val_mean_absolute_error: 0.0779\n",
            "Epoch 47/200\n",
            "8/8 [==============================] - 1s 121ms/step - loss: 0.0047 - mean_squared_error: 0.0047 - mean_absolute_error: 0.0484 - val_loss: 0.0097 - val_mean_squared_error: 0.0097 - val_mean_absolute_error: 0.0790\n",
            "Epoch 48/200\n",
            "8/8 [==============================] - 1s 122ms/step - loss: 0.0049 - mean_squared_error: 0.0049 - mean_absolute_error: 0.0498 - val_loss: 0.0096 - val_mean_squared_error: 0.0096 - val_mean_absolute_error: 0.0784\n"
          ]
        },
        {
          "output_type": "display_data",
          "data": {
            "text/plain": [
              "<IPython.core.display.HTML object>"
            ],
            "text/html": [
              "<br/>Waiting for W&B process to finish, PID 8300<br/>Program ended successfully."
            ]
          },
          "metadata": {
            "tags": []
          }
        },
        {
          "output_type": "display_data",
          "data": {
            "text/plain": [
              "VBox(children=(Label(value=' 0.32MB of 0.32MB uploaded (0.00MB deduped)\\r'), FloatProgress(value=1.0, max=1.0)…"
            ],
            "application/vnd.jupyter.widget-view+json": {
              "model_id": "557f9af27d29428dbc6abfb9ed143621",
              "version_minor": 0,
              "version_major": 2
            }
          },
          "metadata": {
            "tags": []
          }
        },
        {
          "output_type": "display_data",
          "data": {
            "text/plain": [
              "<IPython.core.display.HTML object>"
            ],
            "text/html": [
              "Find user logs for this run at: <code>/content/feeder_repo/wandb/run-20210713_193842-iv36taa4/logs/debug.log</code>"
            ]
          },
          "metadata": {
            "tags": []
          }
        },
        {
          "output_type": "display_data",
          "data": {
            "text/plain": [
              "<IPython.core.display.HTML object>"
            ],
            "text/html": [
              "Find internal logs for this run at: <code>/content/feeder_repo/wandb/run-20210713_193842-iv36taa4/logs/debug-internal.log</code>"
            ]
          },
          "metadata": {
            "tags": []
          }
        },
        {
          "output_type": "display_data",
          "data": {
            "text/plain": [
              "<IPython.core.display.HTML object>"
            ],
            "text/html": [
              "<h3>Run summary:</h3><br/><style>\n",
              "    table.wandb td:nth-child(1) { padding: 0 10px; text-align: right }\n",
              "    </style><table class=\"wandb\">\n",
              "<tr><td>epoch</td><td>47</td></tr><tr><td>loss</td><td>0.00474</td></tr><tr><td>mean_squared_error</td><td>0.00474</td></tr><tr><td>mean_absolute_error</td><td>0.04919</td></tr><tr><td>val_loss</td><td>0.00957</td></tr><tr><td>val_mean_squared_error</td><td>0.00957</td></tr><tr><td>val_mean_absolute_error</td><td>0.07844</td></tr><tr><td>_runtime</td><td>57</td></tr><tr><td>_timestamp</td><td>1626205179</td></tr><tr><td>_step</td><td>47</td></tr><tr><td>best_val_loss</td><td>0.00956</td></tr><tr><td>best_epoch</td><td>37</td></tr></table>"
            ]
          },
          "metadata": {
            "tags": []
          }
        },
        {
          "output_type": "display_data",
          "data": {
            "text/plain": [
              "<IPython.core.display.HTML object>"
            ],
            "text/html": [
              "<h3>Run history:</h3><br/><style>\n",
              "    table.wandb td:nth-child(1) { padding: 0 10px; text-align: right }\n",
              "    </style><table class=\"wandb\">\n",
              "<tr><td>epoch</td><td>▁▁▁▁▂▂▂▂▂▂▃▃▃▃▃▄▄▄▄▄▅▅▅▅▅▅▆▆▆▆▆▇▇▇▇▇▇███</td></tr><tr><td>loss</td><td>█▆▅▃▂▁▁▁▁▁▁▁▁▁▁▁▁▁▁▁▁▁▁▁▁▁▁▁▁▁▁▁▁▁▁▁▁▁▁▁</td></tr><tr><td>mean_squared_error</td><td>█▆▅▃▂▁▁▁▁▁▁▁▁▁▁▁▁▁▁▁▁▁▁▁▁▁▁▁▁▁▁▁▁▁▁▁▁▁▁▁</td></tr><tr><td>mean_absolute_error</td><td>█▇▅▄▃▂▂▂▂▁▁▁▁▁▁▁▁▁▁▁▁▁▁▁▁▁▁▁▁▁▁▁▁▁▁▁▁▁▁▁</td></tr><tr><td>val_loss</td><td>█▆▄▂▂▁▁▁▁▁▁▁▁▁▁▁▁▁▁▁▁▁▁▁▁▁▁▁▁▁▁▁▁▁▁▁▁▁▁▁</td></tr><tr><td>val_mean_squared_error</td><td>█▆▄▂▂▁▁▁▁▁▁▁▁▁▁▁▁▁▁▁▁▁▁▁▁▁▁▁▁▁▁▁▁▁▁▁▁▁▁▁</td></tr><tr><td>val_mean_absolute_error</td><td>█▆▅▃▂▁▁▁▁▁▁▁▁▁▁▁▁▁▁▁▁▁▁▁▁▁▁▁▁▁▁▁▁▁▁▁▁▁▁▁</td></tr><tr><td>_runtime</td><td>▁▁▁▁▂▂▂▂▂▃▃▃▃▃▃▄▄▄▄▄▅▅▅▅▅▅▆▆▆▆▆▆▇▇▇▇▇███</td></tr><tr><td>_timestamp</td><td>▁▁▁▁▂▂▂▂▂▃▃▃▃▃▃▄▄▄▄▄▅▅▅▅▅▅▆▆▆▆▆▆▇▇▇▇▇███</td></tr><tr><td>_step</td><td>▁▁▁▁▂▂▂▂▂▂▃▃▃▃▃▄▄▄▄▄▅▅▅▅▅▅▆▆▆▆▆▇▇▇▇▇▇███</td></tr></table><br/>"
            ]
          },
          "metadata": {
            "tags": []
          }
        },
        {
          "output_type": "display_data",
          "data": {
            "text/plain": [
              "<IPython.core.display.HTML object>"
            ],
            "text/html": [
              "Synced 5 W&B file(s), 1 media file(s), 2 artifact file(s) and 2 other file(s)"
            ]
          },
          "metadata": {
            "tags": []
          }
        },
        {
          "output_type": "display_data",
          "data": {
            "text/plain": [
              "<IPython.core.display.HTML object>"
            ],
            "text/html": [
              "\n",
              "                    <br/>Synced <strong style=\"color:#cdcd00\">rural-sweep-28</strong>: <a href=\"https://wandb.ai/acse-jaq15/ACSE_9_GRU/runs/iv36taa4\" target=\"_blank\">https://wandb.ai/acse-jaq15/ACSE_9_GRU/runs/iv36taa4</a><br/>\n",
              "                "
            ]
          },
          "metadata": {
            "tags": []
          }
        },
        {
          "output_type": "stream",
          "name": "stderr",
          "text": [
            "\u001b[34m\u001b[1mwandb\u001b[0m: Agent Starting Run: atubnf3x with config:\n",
            "\u001b[34m\u001b[1mwandb\u001b[0m: \tactivation: relu\n",
            "\u001b[34m\u001b[1mwandb\u001b[0m: \tbatch_size: 64\n",
            "\u001b[34m\u001b[1mwandb\u001b[0m: \tdropout: 0.3\n",
            "\u001b[34m\u001b[1mwandb\u001b[0m: \tepochs: 100\n",
            "\u001b[34m\u001b[1mwandb\u001b[0m: \thidden_size: 25\n",
            "\u001b[34m\u001b[1mwandb\u001b[0m: \tinput_size: 25\n",
            "\u001b[34m\u001b[1mwandb\u001b[0m: \tlearning_rate: 0.001\n",
            "\u001b[34m\u001b[1mwandb\u001b[0m: \toptimizer: sgd\n"
          ]
        },
        {
          "output_type": "display_data",
          "data": {
            "text/plain": [
              "<IPython.core.display.HTML object>"
            ],
            "text/html": [
              "\n",
              "                Tracking run with wandb version 0.10.33<br/>\n",
              "                Syncing run <strong style=\"color:#cdcd00\">sweepy-sweep-29</strong> to <a href=\"https://wandb.ai\" target=\"_blank\">Weights & Biases</a> <a href=\"https://docs.wandb.com/integrations/jupyter.html\" target=\"_blank\">(Documentation)</a>.<br/>\n",
              "                Project page: <a href=\"https://wandb.ai/acse-jaq15/ACSE_9_GRU\" target=\"_blank\">https://wandb.ai/acse-jaq15/ACSE_9_GRU</a><br/>\n",
              "                Sweep page: <a href=\"https://wandb.ai/acse-jaq15/ACSE_9_GRU/sweeps/ge9tsbmx\" target=\"_blank\">https://wandb.ai/acse-jaq15/ACSE_9_GRU/sweeps/ge9tsbmx</a><br/>\n",
              "Run page: <a href=\"https://wandb.ai/acse-jaq15/ACSE_9_GRU/runs/atubnf3x\" target=\"_blank\">https://wandb.ai/acse-jaq15/ACSE_9_GRU/runs/atubnf3x</a><br/>\n",
              "                Run data is saved locally in <code>/content/feeder_repo/wandb/run-20210713_194018-atubnf3x</code><br/><br/>\n",
              "            "
            ]
          },
          "metadata": {
            "tags": []
          }
        },
        {
          "output_type": "stream",
          "name": "stdout",
          "text": [
            "WARNING:tensorflow:Layer gru will not use cuDNN kernels since it doesn't meet the criteria. It will use a generic GPU kernel as fallback when running on GPU.\n",
            "Epoch 1/100\n",
            "16/16 [==============================] - 8s 196ms/step - loss: 0.2504 - mean_squared_error: 0.2504 - mean_absolute_error: 0.3994 - val_loss: 0.1257 - val_mean_squared_error: 0.1257 - val_mean_absolute_error: 0.2760\n",
            "Epoch 2/100\n",
            "16/16 [==============================] - 2s 119ms/step - loss: 0.0969 - mean_squared_error: 0.0969 - mean_absolute_error: 0.2556 - val_loss: 0.0636 - val_mean_squared_error: 0.0636 - val_mean_absolute_error: 0.2097\n",
            "Epoch 3/100\n",
            "16/16 [==============================] - 2s 119ms/step - loss: 0.0799 - mean_squared_error: 0.0799 - mean_absolute_error: 0.2366 - val_loss: 0.0583 - val_mean_squared_error: 0.0583 - val_mean_absolute_error: 0.2038\n",
            "Epoch 4/100\n",
            "16/16 [==============================] - 2s 111ms/step - loss: 0.0728 - mean_squared_error: 0.0728 - mean_absolute_error: 0.2280 - val_loss: 0.0584 - val_mean_squared_error: 0.0584 - val_mean_absolute_error: 0.1985\n",
            "Epoch 5/100\n",
            "16/16 [==============================] - 2s 116ms/step - loss: 0.0675 - mean_squared_error: 0.0675 - mean_absolute_error: 0.2198 - val_loss: 0.0558 - val_mean_squared_error: 0.0558 - val_mean_absolute_error: 0.1935\n",
            "Epoch 6/100\n",
            "16/16 [==============================] - 2s 109ms/step - loss: 0.0662 - mean_squared_error: 0.0662 - mean_absolute_error: 0.2157 - val_loss: 0.0529 - val_mean_squared_error: 0.0529 - val_mean_absolute_error: 0.1884\n",
            "Epoch 7/100\n",
            "16/16 [==============================] - 2s 114ms/step - loss: 0.0614 - mean_squared_error: 0.0614 - mean_absolute_error: 0.2086 - val_loss: 0.0501 - val_mean_squared_error: 0.0501 - val_mean_absolute_error: 0.1835\n",
            "Epoch 8/100\n",
            "16/16 [==============================] - 2s 116ms/step - loss: 0.0592 - mean_squared_error: 0.0592 - mean_absolute_error: 0.2029 - val_loss: 0.0476 - val_mean_squared_error: 0.0476 - val_mean_absolute_error: 0.1787\n",
            "Epoch 9/100\n",
            "16/16 [==============================] - 2s 116ms/step - loss: 0.0531 - mean_squared_error: 0.0531 - mean_absolute_error: 0.1921 - val_loss: 0.0462 - val_mean_squared_error: 0.0462 - val_mean_absolute_error: 0.1748\n",
            "Epoch 10/100\n",
            "16/16 [==============================] - 2s 118ms/step - loss: 0.0523 - mean_squared_error: 0.0523 - mean_absolute_error: 0.1902 - val_loss: 0.0440 - val_mean_squared_error: 0.0440 - val_mean_absolute_error: 0.1706\n",
            "Epoch 11/100\n",
            "16/16 [==============================] - 2s 114ms/step - loss: 0.0470 - mean_squared_error: 0.0470 - mean_absolute_error: 0.1797 - val_loss: 0.0418 - val_mean_squared_error: 0.0418 - val_mean_absolute_error: 0.1666\n",
            "Epoch 12/100\n",
            "16/16 [==============================] - 2s 114ms/step - loss: 0.0455 - mean_squared_error: 0.0455 - mean_absolute_error: 0.1786 - val_loss: 0.0395 - val_mean_squared_error: 0.0395 - val_mean_absolute_error: 0.1623\n",
            "Epoch 13/100\n",
            "16/16 [==============================] - 2s 118ms/step - loss: 0.0443 - mean_squared_error: 0.0443 - mean_absolute_error: 0.1763 - val_loss: 0.0368 - val_mean_squared_error: 0.0368 - val_mean_absolute_error: 0.1577\n",
            "Epoch 14/100\n",
            "16/16 [==============================] - 2s 118ms/step - loss: 0.0417 - mean_squared_error: 0.0417 - mean_absolute_error: 0.1716 - val_loss: 0.0352 - val_mean_squared_error: 0.0352 - val_mean_absolute_error: 0.1539\n",
            "Epoch 15/100\n",
            "16/16 [==============================] - 2s 117ms/step - loss: 0.0402 - mean_squared_error: 0.0402 - mean_absolute_error: 0.1669 - val_loss: 0.0332 - val_mean_squared_error: 0.0332 - val_mean_absolute_error: 0.1495\n",
            "Epoch 16/100\n",
            "16/16 [==============================] - 2s 111ms/step - loss: 0.0376 - mean_squared_error: 0.0376 - mean_absolute_error: 0.1613 - val_loss: 0.0313 - val_mean_squared_error: 0.0313 - val_mean_absolute_error: 0.1450\n",
            "Epoch 17/100\n",
            "16/16 [==============================] - 2s 116ms/step - loss: 0.0331 - mean_squared_error: 0.0331 - mean_absolute_error: 0.1514 - val_loss: 0.0289 - val_mean_squared_error: 0.0289 - val_mean_absolute_error: 0.1397\n",
            "Epoch 18/100\n",
            "16/16 [==============================] - 2s 114ms/step - loss: 0.0321 - mean_squared_error: 0.0321 - mean_absolute_error: 0.1487 - val_loss: 0.0273 - val_mean_squared_error: 0.0273 - val_mean_absolute_error: 0.1355\n",
            "Epoch 19/100\n",
            "16/16 [==============================] - 2s 115ms/step - loss: 0.0302 - mean_squared_error: 0.0302 - mean_absolute_error: 0.1436 - val_loss: 0.0257 - val_mean_squared_error: 0.0257 - val_mean_absolute_error: 0.1314\n",
            "Epoch 20/100\n",
            "16/16 [==============================] - 2s 115ms/step - loss: 0.0283 - mean_squared_error: 0.0283 - mean_absolute_error: 0.1366 - val_loss: 0.0238 - val_mean_squared_error: 0.0238 - val_mean_absolute_error: 0.1268\n",
            "Epoch 21/100\n",
            "16/16 [==============================] - 2s 110ms/step - loss: 0.0268 - mean_squared_error: 0.0268 - mean_absolute_error: 0.1326 - val_loss: 0.0221 - val_mean_squared_error: 0.0221 - val_mean_absolute_error: 0.1224\n",
            "Epoch 22/100\n",
            "16/16 [==============================] - 2s 113ms/step - loss: 0.0225 - mean_squared_error: 0.0225 - mean_absolute_error: 0.1236 - val_loss: 0.0208 - val_mean_squared_error: 0.0208 - val_mean_absolute_error: 0.1188\n",
            "Epoch 23/100\n",
            "16/16 [==============================] - 2s 115ms/step - loss: 0.0217 - mean_squared_error: 0.0217 - mean_absolute_error: 0.1184 - val_loss: 0.0195 - val_mean_squared_error: 0.0195 - val_mean_absolute_error: 0.1149\n",
            "Epoch 24/100\n",
            "16/16 [==============================] - 2s 112ms/step - loss: 0.0202 - mean_squared_error: 0.0202 - mean_absolute_error: 0.1138 - val_loss: 0.0183 - val_mean_squared_error: 0.0183 - val_mean_absolute_error: 0.1113\n",
            "Epoch 25/100\n",
            "16/16 [==============================] - 2s 118ms/step - loss: 0.0184 - mean_squared_error: 0.0184 - mean_absolute_error: 0.1111 - val_loss: 0.0172 - val_mean_squared_error: 0.0172 - val_mean_absolute_error: 0.1079\n",
            "Epoch 26/100\n",
            "16/16 [==============================] - 2s 119ms/step - loss: 0.0182 - mean_squared_error: 0.0182 - mean_absolute_error: 0.1059 - val_loss: 0.0164 - val_mean_squared_error: 0.0164 - val_mean_absolute_error: 0.1049\n",
            "Epoch 27/100\n",
            "16/16 [==============================] - 2s 116ms/step - loss: 0.0164 - mean_squared_error: 0.0164 - mean_absolute_error: 0.1051 - val_loss: 0.0155 - val_mean_squared_error: 0.0155 - val_mean_absolute_error: 0.1019\n",
            "Epoch 28/100\n",
            "16/16 [==============================] - 2s 114ms/step - loss: 0.0159 - mean_squared_error: 0.0159 - mean_absolute_error: 0.0993 - val_loss: 0.0144 - val_mean_squared_error: 0.0144 - val_mean_absolute_error: 0.0981\n",
            "Epoch 29/100\n",
            "16/16 [==============================] - 2s 124ms/step - loss: 0.0142 - mean_squared_error: 0.0142 - mean_absolute_error: 0.0957 - val_loss: 0.0135 - val_mean_squared_error: 0.0135 - val_mean_absolute_error: 0.0950\n",
            "Epoch 30/100\n",
            "16/16 [==============================] - 2s 117ms/step - loss: 0.0134 - mean_squared_error: 0.0134 - mean_absolute_error: 0.0914 - val_loss: 0.0129 - val_mean_squared_error: 0.0129 - val_mean_absolute_error: 0.0927\n",
            "Epoch 31/100\n",
            "16/16 [==============================] - 2s 117ms/step - loss: 0.0113 - mean_squared_error: 0.0113 - mean_absolute_error: 0.0831 - val_loss: 0.0124 - val_mean_squared_error: 0.0124 - val_mean_absolute_error: 0.0907\n",
            "Epoch 32/100\n",
            "16/16 [==============================] - 2s 115ms/step - loss: 0.0127 - mean_squared_error: 0.0127 - mean_absolute_error: 0.0875 - val_loss: 0.0118 - val_mean_squared_error: 0.0118 - val_mean_absolute_error: 0.0884\n",
            "Epoch 33/100\n",
            "16/16 [==============================] - 2s 115ms/step - loss: 0.0128 - mean_squared_error: 0.0128 - mean_absolute_error: 0.0854 - val_loss: 0.0114 - val_mean_squared_error: 0.0114 - val_mean_absolute_error: 0.0868\n",
            "Epoch 34/100\n",
            "16/16 [==============================] - 2s 114ms/step - loss: 0.0100 - mean_squared_error: 0.0100 - mean_absolute_error: 0.0775 - val_loss: 0.0111 - val_mean_squared_error: 0.0111 - val_mean_absolute_error: 0.0852\n",
            "Epoch 35/100\n",
            "16/16 [==============================] - 2s 113ms/step - loss: 0.0096 - mean_squared_error: 0.0096 - mean_absolute_error: 0.0735 - val_loss: 0.0107 - val_mean_squared_error: 0.0107 - val_mean_absolute_error: 0.0838\n",
            "Epoch 36/100\n",
            "16/16 [==============================] - 2s 116ms/step - loss: 0.0105 - mean_squared_error: 0.0105 - mean_absolute_error: 0.0781 - val_loss: 0.0103 - val_mean_squared_error: 0.0103 - val_mean_absolute_error: 0.0821\n",
            "Epoch 37/100\n",
            "16/16 [==============================] - 2s 118ms/step - loss: 0.0106 - mean_squared_error: 0.0106 - mean_absolute_error: 0.0751 - val_loss: 0.0100 - val_mean_squared_error: 0.0100 - val_mean_absolute_error: 0.0808\n",
            "Epoch 38/100\n",
            "16/16 [==============================] - 2s 120ms/step - loss: 0.0092 - mean_squared_error: 0.0092 - mean_absolute_error: 0.0754 - val_loss: 0.0098 - val_mean_squared_error: 0.0098 - val_mean_absolute_error: 0.0797\n",
            "Epoch 39/100\n",
            "16/16 [==============================] - 2s 114ms/step - loss: 0.0100 - mean_squared_error: 0.0100 - mean_absolute_error: 0.0729 - val_loss: 0.0097 - val_mean_squared_error: 0.0097 - val_mean_absolute_error: 0.0791\n",
            "Epoch 40/100\n",
            "16/16 [==============================] - 2s 115ms/step - loss: 0.0089 - mean_squared_error: 0.0089 - mean_absolute_error: 0.0699 - val_loss: 0.0097 - val_mean_squared_error: 0.0097 - val_mean_absolute_error: 0.0794\n",
            "Epoch 41/100\n",
            "16/16 [==============================] - 2s 117ms/step - loss: 0.0098 - mean_squared_error: 0.0098 - mean_absolute_error: 0.0706 - val_loss: 0.0094 - val_mean_squared_error: 0.0094 - val_mean_absolute_error: 0.0779\n",
            "Epoch 42/100\n",
            "16/16 [==============================] - 2s 113ms/step - loss: 0.0083 - mean_squared_error: 0.0083 - mean_absolute_error: 0.0653 - val_loss: 0.0092 - val_mean_squared_error: 0.0092 - val_mean_absolute_error: 0.0768\n",
            "Epoch 43/100\n",
            "16/16 [==============================] - 2s 113ms/step - loss: 0.0083 - mean_squared_error: 0.0083 - mean_absolute_error: 0.0671 - val_loss: 0.0092 - val_mean_squared_error: 0.0092 - val_mean_absolute_error: 0.0768\n",
            "Epoch 44/100\n",
            "16/16 [==============================] - 2s 113ms/step - loss: 0.0082 - mean_squared_error: 0.0082 - mean_absolute_error: 0.0653 - val_loss: 0.0091 - val_mean_squared_error: 0.0091 - val_mean_absolute_error: 0.0767\n",
            "Epoch 45/100\n",
            "16/16 [==============================] - 2s 113ms/step - loss: 0.0089 - mean_squared_error: 0.0089 - mean_absolute_error: 0.0664 - val_loss: 0.0089 - val_mean_squared_error: 0.0089 - val_mean_absolute_error: 0.0754\n",
            "Epoch 46/100\n",
            "16/16 [==============================] - 2s 115ms/step - loss: 0.0079 - mean_squared_error: 0.0079 - mean_absolute_error: 0.0653 - val_loss: 0.0088 - val_mean_squared_error: 0.0088 - val_mean_absolute_error: 0.0748\n",
            "Epoch 47/100\n",
            "16/16 [==============================] - 2s 117ms/step - loss: 0.0080 - mean_squared_error: 0.0080 - mean_absolute_error: 0.0650 - val_loss: 0.0087 - val_mean_squared_error: 0.0087 - val_mean_absolute_error: 0.0743\n",
            "Epoch 48/100\n",
            "16/16 [==============================] - 2s 115ms/step - loss: 0.0091 - mean_squared_error: 0.0091 - mean_absolute_error: 0.0695 - val_loss: 0.0087 - val_mean_squared_error: 0.0087 - val_mean_absolute_error: 0.0743\n",
            "Epoch 49/100\n",
            "16/16 [==============================] - 2s 120ms/step - loss: 0.0082 - mean_squared_error: 0.0082 - mean_absolute_error: 0.0649 - val_loss: 0.0088 - val_mean_squared_error: 0.0088 - val_mean_absolute_error: 0.0751\n",
            "Epoch 50/100\n",
            "16/16 [==============================] - 2s 110ms/step - loss: 0.0076 - mean_squared_error: 0.0076 - mean_absolute_error: 0.0639 - val_loss: 0.0088 - val_mean_squared_error: 0.0088 - val_mean_absolute_error: 0.0751\n",
            "Epoch 51/100\n",
            "16/16 [==============================] - 2s 118ms/step - loss: 0.0076 - mean_squared_error: 0.0076 - mean_absolute_error: 0.0618 - val_loss: 0.0087 - val_mean_squared_error: 0.0087 - val_mean_absolute_error: 0.0744\n",
            "Epoch 52/100\n",
            "16/16 [==============================] - 2s 112ms/step - loss: 0.0088 - mean_squared_error: 0.0088 - mean_absolute_error: 0.0677 - val_loss: 0.0087 - val_mean_squared_error: 0.0087 - val_mean_absolute_error: 0.0746\n",
            "Epoch 53/100\n",
            "16/16 [==============================] - 2s 118ms/step - loss: 0.0075 - mean_squared_error: 0.0075 - mean_absolute_error: 0.0621 - val_loss: 0.0087 - val_mean_squared_error: 0.0087 - val_mean_absolute_error: 0.0741\n",
            "Epoch 54/100\n",
            "16/16 [==============================] - 2s 115ms/step - loss: 0.0081 - mean_squared_error: 0.0081 - mean_absolute_error: 0.0633 - val_loss: 0.0087 - val_mean_squared_error: 0.0087 - val_mean_absolute_error: 0.0741\n",
            "Epoch 55/100\n",
            "16/16 [==============================] - 2s 114ms/step - loss: 0.0074 - mean_squared_error: 0.0074 - mean_absolute_error: 0.0619 - val_loss: 0.0087 - val_mean_squared_error: 0.0087 - val_mean_absolute_error: 0.0743\n",
            "Epoch 56/100\n",
            "16/16 [==============================] - 2s 111ms/step - loss: 0.0074 - mean_squared_error: 0.0074 - mean_absolute_error: 0.0613 - val_loss: 0.0086 - val_mean_squared_error: 0.0086 - val_mean_absolute_error: 0.0739\n",
            "Epoch 57/100\n",
            "16/16 [==============================] - 2s 119ms/step - loss: 0.0064 - mean_squared_error: 0.0064 - mean_absolute_error: 0.0577 - val_loss: 0.0086 - val_mean_squared_error: 0.0086 - val_mean_absolute_error: 0.0740\n",
            "Epoch 58/100\n",
            "16/16 [==============================] - 2s 116ms/step - loss: 0.0077 - mean_squared_error: 0.0077 - mean_absolute_error: 0.0631 - val_loss: 0.0086 - val_mean_squared_error: 0.0086 - val_mean_absolute_error: 0.0740\n",
            "Epoch 59/100\n",
            "16/16 [==============================] - 2s 115ms/step - loss: 0.0065 - mean_squared_error: 0.0065 - mean_absolute_error: 0.0608 - val_loss: 0.0086 - val_mean_squared_error: 0.0086 - val_mean_absolute_error: 0.0739\n",
            "Epoch 60/100\n",
            "16/16 [==============================] - 2s 115ms/step - loss: 0.0075 - mean_squared_error: 0.0075 - mean_absolute_error: 0.0621 - val_loss: 0.0086 - val_mean_squared_error: 0.0086 - val_mean_absolute_error: 0.0736\n",
            "Epoch 61/100\n",
            "16/16 [==============================] - 2s 112ms/step - loss: 0.0077 - mean_squared_error: 0.0077 - mean_absolute_error: 0.0641 - val_loss: 0.0086 - val_mean_squared_error: 0.0086 - val_mean_absolute_error: 0.0739\n",
            "Epoch 62/100\n",
            "16/16 [==============================] - 2s 116ms/step - loss: 0.0072 - mean_squared_error: 0.0072 - mean_absolute_error: 0.0631 - val_loss: 0.0087 - val_mean_squared_error: 0.0087 - val_mean_absolute_error: 0.0743\n",
            "Epoch 63/100\n",
            "16/16 [==============================] - 2s 119ms/step - loss: 0.0066 - mean_squared_error: 0.0066 - mean_absolute_error: 0.0583 - val_loss: 0.0086 - val_mean_squared_error: 0.0086 - val_mean_absolute_error: 0.0739\n",
            "Epoch 64/100\n",
            "16/16 [==============================] - 2s 118ms/step - loss: 0.0066 - mean_squared_error: 0.0066 - mean_absolute_error: 0.0579 - val_loss: 0.0086 - val_mean_squared_error: 0.0086 - val_mean_absolute_error: 0.0736\n",
            "Epoch 65/100\n",
            "16/16 [==============================] - 2s 118ms/step - loss: 0.0070 - mean_squared_error: 0.0070 - mean_absolute_error: 0.0616 - val_loss: 0.0086 - val_mean_squared_error: 0.0086 - val_mean_absolute_error: 0.0737\n",
            "Epoch 66/100\n",
            "16/16 [==============================] - 2s 115ms/step - loss: 0.0074 - mean_squared_error: 0.0074 - mean_absolute_error: 0.0605 - val_loss: 0.0085 - val_mean_squared_error: 0.0085 - val_mean_absolute_error: 0.0731\n",
            "Epoch 67/100\n",
            "16/16 [==============================] - 2s 116ms/step - loss: 0.0073 - mean_squared_error: 0.0073 - mean_absolute_error: 0.0615 - val_loss: 0.0085 - val_mean_squared_error: 0.0085 - val_mean_absolute_error: 0.0728\n",
            "Epoch 68/100\n",
            "16/16 [==============================] - 2s 114ms/step - loss: 0.0074 - mean_squared_error: 0.0074 - mean_absolute_error: 0.0639 - val_loss: 0.0085 - val_mean_squared_error: 0.0085 - val_mean_absolute_error: 0.0734\n",
            "Epoch 69/100\n",
            "16/16 [==============================] - 2s 118ms/step - loss: 0.0074 - mean_squared_error: 0.0074 - mean_absolute_error: 0.0634 - val_loss: 0.0086 - val_mean_squared_error: 0.0086 - val_mean_absolute_error: 0.0737\n",
            "Epoch 70/100\n",
            "16/16 [==============================] - 2s 116ms/step - loss: 0.0075 - mean_squared_error: 0.0075 - mean_absolute_error: 0.0613 - val_loss: 0.0085 - val_mean_squared_error: 0.0085 - val_mean_absolute_error: 0.0733\n",
            "Epoch 71/100\n",
            "16/16 [==============================] - 2s 111ms/step - loss: 0.0062 - mean_squared_error: 0.0062 - mean_absolute_error: 0.0586 - val_loss: 0.0085 - val_mean_squared_error: 0.0085 - val_mean_absolute_error: 0.0730\n",
            "Epoch 72/100\n",
            "16/16 [==============================] - 2s 108ms/step - loss: 0.0055 - mean_squared_error: 0.0055 - mean_absolute_error: 0.0544 - val_loss: 0.0085 - val_mean_squared_error: 0.0085 - val_mean_absolute_error: 0.0736\n",
            "Epoch 73/100\n",
            "16/16 [==============================] - 2s 113ms/step - loss: 0.0068 - mean_squared_error: 0.0068 - mean_absolute_error: 0.0600 - val_loss: 0.0086 - val_mean_squared_error: 0.0086 - val_mean_absolute_error: 0.0738\n",
            "Epoch 74/100\n",
            "16/16 [==============================] - 2s 119ms/step - loss: 0.0063 - mean_squared_error: 0.0063 - mean_absolute_error: 0.0587 - val_loss: 0.0085 - val_mean_squared_error: 0.0085 - val_mean_absolute_error: 0.0735\n",
            "Epoch 75/100\n",
            "16/16 [==============================] - 2s 119ms/step - loss: 0.0069 - mean_squared_error: 0.0069 - mean_absolute_error: 0.0607 - val_loss: 0.0086 - val_mean_squared_error: 0.0086 - val_mean_absolute_error: 0.0737\n",
            "Epoch 76/100\n",
            "16/16 [==============================] - 2s 115ms/step - loss: 0.0063 - mean_squared_error: 0.0063 - mean_absolute_error: 0.0585 - val_loss: 0.0086 - val_mean_squared_error: 0.0086 - val_mean_absolute_error: 0.0738\n",
            "Epoch 77/100\n",
            "16/16 [==============================] - 2s 115ms/step - loss: 0.0064 - mean_squared_error: 0.0064 - mean_absolute_error: 0.0579 - val_loss: 0.0085 - val_mean_squared_error: 0.0085 - val_mean_absolute_error: 0.0737\n",
            "Epoch 78/100\n",
            "16/16 [==============================] - 2s 120ms/step - loss: 0.0070 - mean_squared_error: 0.0070 - mean_absolute_error: 0.0590 - val_loss: 0.0085 - val_mean_squared_error: 0.0085 - val_mean_absolute_error: 0.0733\n",
            "Epoch 79/100\n",
            "16/16 [==============================] - 2s 115ms/step - loss: 0.0064 - mean_squared_error: 0.0064 - mean_absolute_error: 0.0600 - val_loss: 0.0085 - val_mean_squared_error: 0.0085 - val_mean_absolute_error: 0.0733\n",
            "Epoch 80/100\n",
            "16/16 [==============================] - 2s 116ms/step - loss: 0.0062 - mean_squared_error: 0.0062 - mean_absolute_error: 0.0594 - val_loss: 0.0086 - val_mean_squared_error: 0.0086 - val_mean_absolute_error: 0.0739\n",
            "Epoch 81/100\n",
            "16/16 [==============================] - 2s 115ms/step - loss: 0.0068 - mean_squared_error: 0.0068 - mean_absolute_error: 0.0601 - val_loss: 0.0085 - val_mean_squared_error: 0.0085 - val_mean_absolute_error: 0.0735\n"
          ]
        },
        {
          "output_type": "display_data",
          "data": {
            "text/plain": [
              "<IPython.core.display.HTML object>"
            ],
            "text/html": [
              "<br/>Waiting for W&B process to finish, PID 8517<br/>Program ended successfully."
            ]
          },
          "metadata": {
            "tags": []
          }
        },
        {
          "output_type": "display_data",
          "data": {
            "text/plain": [
              "VBox(children=(Label(value=' 0.33MB of 0.33MB uploaded (0.00MB deduped)\\r'), FloatProgress(value=1.0, max=1.0)…"
            ],
            "application/vnd.jupyter.widget-view+json": {
              "model_id": "b2459f5e8447468db59b0836c7fc8ad0",
              "version_minor": 0,
              "version_major": 2
            }
          },
          "metadata": {
            "tags": []
          }
        },
        {
          "output_type": "display_data",
          "data": {
            "text/plain": [
              "<IPython.core.display.HTML object>"
            ],
            "text/html": [
              "Find user logs for this run at: <code>/content/feeder_repo/wandb/run-20210713_194018-atubnf3x/logs/debug.log</code>"
            ]
          },
          "metadata": {
            "tags": []
          }
        },
        {
          "output_type": "display_data",
          "data": {
            "text/plain": [
              "<IPython.core.display.HTML object>"
            ],
            "text/html": [
              "Find internal logs for this run at: <code>/content/feeder_repo/wandb/run-20210713_194018-atubnf3x/logs/debug-internal.log</code>"
            ]
          },
          "metadata": {
            "tags": []
          }
        },
        {
          "output_type": "display_data",
          "data": {
            "text/plain": [
              "<IPython.core.display.HTML object>"
            ],
            "text/html": [
              "<h3>Run summary:</h3><br/><style>\n",
              "    table.wandb td:nth-child(1) { padding: 0 10px; text-align: right }\n",
              "    </style><table class=\"wandb\">\n",
              "<tr><td>epoch</td><td>80</td></tr><tr><td>loss</td><td>0.00636</td></tr><tr><td>mean_squared_error</td><td>0.00636</td></tr><tr><td>mean_absolute_error</td><td>0.05852</td></tr><tr><td>val_loss</td><td>0.00853</td></tr><tr><td>val_mean_squared_error</td><td>0.00853</td></tr><tr><td>val_mean_absolute_error</td><td>0.07347</td></tr><tr><td>_runtime</td><td>162</td></tr><tr><td>_timestamp</td><td>1626205380</td></tr><tr><td>_step</td><td>80</td></tr><tr><td>best_val_loss</td><td>0.00849</td></tr><tr><td>best_epoch</td><td>70</td></tr></table>"
            ]
          },
          "metadata": {
            "tags": []
          }
        },
        {
          "output_type": "display_data",
          "data": {
            "text/plain": [
              "<IPython.core.display.HTML object>"
            ],
            "text/html": [
              "<h3>Run history:</h3><br/><style>\n",
              "    table.wandb td:nth-child(1) { padding: 0 10px; text-align: right }\n",
              "    </style><table class=\"wandb\">\n",
              "<tr><td>epoch</td><td>▁▁▁▂▂▂▂▂▂▃▃▃▃▃▃▄▄▄▄▄▅▅▅▅▅▅▆▆▆▆▆▇▇▇▇▇▇███</td></tr><tr><td>loss</td><td>█▃▃▃▃▂▂▂▂▂▂▂▁▁▁▁▁▁▁▁▁▁▁▁▁▁▁▁▁▁▁▁▁▁▁▁▁▁▁▁</td></tr><tr><td>mean_squared_error</td><td>█▃▃▃▃▂▂▂▂▂▂▂▁▁▁▁▁▁▁▁▁▁▁▁▁▁▁▁▁▁▁▁▁▁▁▁▁▁▁▁</td></tr><tr><td>mean_absolute_error</td><td>█▅▅▅▄▄▄▃▃▃▃▂▂▂▂▂▂▁▁▁▁▁▁▁▁▁▁▁▁▁▁▁▁▁▁▁▁▁▁▁</td></tr><tr><td>val_loss</td><td>█▄▄▃▃▃▃▂▂▂▂▂▂▁▁▁▁▁▁▁▁▁▁▁▁▁▁▁▁▁▁▁▁▁▁▁▁▁▁▁</td></tr><tr><td>val_mean_squared_error</td><td>█▄▄▃▃▃▃▂▂▂▂▂▂▁▁▁▁▁▁▁▁▁▁▁▁▁▁▁▁▁▁▁▁▁▁▁▁▁▁▁</td></tr><tr><td>val_mean_absolute_error</td><td>█▆▅▅▅▄▄▄▃▃▃▂▂▂▂▂▁▁▁▁▁▁▁▁▁▁▁▁▁▁▁▁▁▁▁▁▁▁▁▁</td></tr><tr><td>_runtime</td><td>▁▁▁▂▂▂▂▂▂▃▃▃▃▃▃▄▄▄▄▄▅▅▅▅▅▅▆▆▆▆▆▇▇▇▇▇▇███</td></tr><tr><td>_timestamp</td><td>▁▁▁▂▂▂▂▂▂▃▃▃▃▃▃▄▄▄▄▄▅▅▅▅▅▅▆▆▆▆▆▇▇▇▇▇▇███</td></tr><tr><td>_step</td><td>▁▁▁▂▂▂▂▂▂▃▃▃▃▃▃▄▄▄▄▄▅▅▅▅▅▅▆▆▆▆▆▇▇▇▇▇▇███</td></tr></table><br/>"
            ]
          },
          "metadata": {
            "tags": []
          }
        },
        {
          "output_type": "display_data",
          "data": {
            "text/plain": [
              "<IPython.core.display.HTML object>"
            ],
            "text/html": [
              "Synced 5 W&B file(s), 1 media file(s), 2 artifact file(s) and 2 other file(s)"
            ]
          },
          "metadata": {
            "tags": []
          }
        },
        {
          "output_type": "display_data",
          "data": {
            "text/plain": [
              "<IPython.core.display.HTML object>"
            ],
            "text/html": [
              "\n",
              "                    <br/>Synced <strong style=\"color:#cdcd00\">sweepy-sweep-29</strong>: <a href=\"https://wandb.ai/acse-jaq15/ACSE_9_GRU/runs/atubnf3x\" target=\"_blank\">https://wandb.ai/acse-jaq15/ACSE_9_GRU/runs/atubnf3x</a><br/>\n",
              "                "
            ]
          },
          "metadata": {
            "tags": []
          }
        },
        {
          "output_type": "stream",
          "name": "stderr",
          "text": [
            "\u001b[34m\u001b[1mwandb\u001b[0m: Agent Starting Run: n4uwfao8 with config:\n",
            "\u001b[34m\u001b[1mwandb\u001b[0m: \tactivation: selu\n",
            "\u001b[34m\u001b[1mwandb\u001b[0m: \tbatch_size: 32\n",
            "\u001b[34m\u001b[1mwandb\u001b[0m: \tdropout: 0.2\n",
            "\u001b[34m\u001b[1mwandb\u001b[0m: \tepochs: 200\n",
            "\u001b[34m\u001b[1mwandb\u001b[0m: \thidden_size: 100\n",
            "\u001b[34m\u001b[1mwandb\u001b[0m: \tinput_size: 50\n",
            "\u001b[34m\u001b[1mwandb\u001b[0m: \tlearning_rate: 0.001\n",
            "\u001b[34m\u001b[1mwandb\u001b[0m: \toptimizer: adam\n"
          ]
        },
        {
          "output_type": "display_data",
          "data": {
            "text/plain": [
              "<IPython.core.display.HTML object>"
            ],
            "text/html": [
              "\n",
              "                Tracking run with wandb version 0.10.33<br/>\n",
              "                Syncing run <strong style=\"color:#cdcd00\">deft-sweep-30</strong> to <a href=\"https://wandb.ai\" target=\"_blank\">Weights & Biases</a> <a href=\"https://docs.wandb.com/integrations/jupyter.html\" target=\"_blank\">(Documentation)</a>.<br/>\n",
              "                Project page: <a href=\"https://wandb.ai/acse-jaq15/ACSE_9_GRU\" target=\"_blank\">https://wandb.ai/acse-jaq15/ACSE_9_GRU</a><br/>\n",
              "                Sweep page: <a href=\"https://wandb.ai/acse-jaq15/ACSE_9_GRU/sweeps/ge9tsbmx\" target=\"_blank\">https://wandb.ai/acse-jaq15/ACSE_9_GRU/sweeps/ge9tsbmx</a><br/>\n",
              "Run page: <a href=\"https://wandb.ai/acse-jaq15/ACSE_9_GRU/runs/n4uwfao8\" target=\"_blank\">https://wandb.ai/acse-jaq15/ACSE_9_GRU/runs/n4uwfao8</a><br/>\n",
              "                Run data is saved locally in <code>/content/feeder_repo/wandb/run-20210713_194307-n4uwfao8</code><br/><br/>\n",
              "            "
            ]
          },
          "metadata": {
            "tags": []
          }
        },
        {
          "output_type": "stream",
          "name": "stdout",
          "text": [
            "WARNING:tensorflow:Layer gru will not use cuDNN kernels since it doesn't meet the criteria. It will use a generic GPU kernel as fallback when running on GPU.\n",
            "Epoch 1/200\n",
            "31/31 [==============================] - 9s 149ms/step - loss: 0.0746 - mean_squared_error: 0.0746 - mean_absolute_error: 0.1897 - val_loss: 0.0130 - val_mean_squared_error: 0.0130 - val_mean_absolute_error: 0.0906\n",
            "Epoch 2/200\n",
            "31/31 [==============================] - 3s 111ms/step - loss: 0.0040 - mean_squared_error: 0.0040 - mean_absolute_error: 0.0490 - val_loss: 0.0082 - val_mean_squared_error: 0.0082 - val_mean_absolute_error: 0.0719\n",
            "Epoch 3/200\n",
            "31/31 [==============================] - 4s 117ms/step - loss: 0.0026 - mean_squared_error: 0.0026 - mean_absolute_error: 0.0362 - val_loss: 0.0082 - val_mean_squared_error: 0.0082 - val_mean_absolute_error: 0.0717\n",
            "Epoch 4/200\n",
            "31/31 [==============================] - 4s 113ms/step - loss: 0.0024 - mean_squared_error: 0.0024 - mean_absolute_error: 0.0354 - val_loss: 0.0079 - val_mean_squared_error: 0.0079 - val_mean_absolute_error: 0.0710\n",
            "Epoch 5/200\n",
            "31/31 [==============================] - 3s 110ms/step - loss: 0.0022 - mean_squared_error: 0.0022 - mean_absolute_error: 0.0340 - val_loss: 0.0080 - val_mean_squared_error: 0.0080 - val_mean_absolute_error: 0.0707\n",
            "Epoch 6/200\n",
            "31/31 [==============================] - 3s 112ms/step - loss: 0.0021 - mean_squared_error: 0.0021 - mean_absolute_error: 0.0342 - val_loss: 0.0077 - val_mean_squared_error: 0.0077 - val_mean_absolute_error: 0.0696\n",
            "Epoch 7/200\n",
            "31/31 [==============================] - 3s 112ms/step - loss: 0.0019 - mean_squared_error: 0.0019 - mean_absolute_error: 0.0311 - val_loss: 0.0079 - val_mean_squared_error: 0.0079 - val_mean_absolute_error: 0.0705\n",
            "Epoch 8/200\n",
            "31/31 [==============================] - 3s 111ms/step - loss: 0.0023 - mean_squared_error: 0.0023 - mean_absolute_error: 0.0348 - val_loss: 0.0084 - val_mean_squared_error: 0.0084 - val_mean_absolute_error: 0.0725\n",
            "Epoch 9/200\n",
            "31/31 [==============================] - 4s 118ms/step - loss: 0.0024 - mean_squared_error: 0.0024 - mean_absolute_error: 0.0354 - val_loss: 0.0079 - val_mean_squared_error: 0.0079 - val_mean_absolute_error: 0.0704\n",
            "Epoch 10/200\n",
            "31/31 [==============================] - 4s 114ms/step - loss: 0.0018 - mean_squared_error: 0.0018 - mean_absolute_error: 0.0310 - val_loss: 0.0077 - val_mean_squared_error: 0.0077 - val_mean_absolute_error: 0.0693\n",
            "Epoch 11/200\n",
            "31/31 [==============================] - 4s 113ms/step - loss: 0.0017 - mean_squared_error: 0.0017 - mean_absolute_error: 0.0302 - val_loss: 0.0072 - val_mean_squared_error: 0.0072 - val_mean_absolute_error: 0.0676\n",
            "Epoch 12/200\n",
            "31/31 [==============================] - 3s 112ms/step - loss: 0.0015 - mean_squared_error: 0.0015 - mean_absolute_error: 0.0280 - val_loss: 0.0073 - val_mean_squared_error: 0.0073 - val_mean_absolute_error: 0.0681\n",
            "Epoch 13/200\n",
            "31/31 [==============================] - 4s 116ms/step - loss: 0.0016 - mean_squared_error: 0.0016 - mean_absolute_error: 0.0289 - val_loss: 0.0074 - val_mean_squared_error: 0.0074 - val_mean_absolute_error: 0.0683\n",
            "Epoch 14/200\n",
            "31/31 [==============================] - 4s 116ms/step - loss: 0.0017 - mean_squared_error: 0.0017 - mean_absolute_error: 0.0298 - val_loss: 0.0071 - val_mean_squared_error: 0.0071 - val_mean_absolute_error: 0.0667\n",
            "Epoch 15/200\n",
            "31/31 [==============================] - 4s 116ms/step - loss: 0.0014 - mean_squared_error: 0.0014 - mean_absolute_error: 0.0272 - val_loss: 0.0069 - val_mean_squared_error: 0.0069 - val_mean_absolute_error: 0.0665\n",
            "Epoch 16/200\n",
            "31/31 [==============================] - 4s 115ms/step - loss: 0.0019 - mean_squared_error: 0.0019 - mean_absolute_error: 0.0317 - val_loss: 0.0076 - val_mean_squared_error: 0.0076 - val_mean_absolute_error: 0.0688\n",
            "Epoch 17/200\n",
            "31/31 [==============================] - 4s 114ms/step - loss: 0.0013 - mean_squared_error: 0.0013 - mean_absolute_error: 0.0266 - val_loss: 0.0067 - val_mean_squared_error: 0.0067 - val_mean_absolute_error: 0.0649\n",
            "Epoch 18/200\n",
            "31/31 [==============================] - 4s 116ms/step - loss: 0.0013 - mean_squared_error: 0.0013 - mean_absolute_error: 0.0260 - val_loss: 0.0067 - val_mean_squared_error: 0.0067 - val_mean_absolute_error: 0.0647\n",
            "Epoch 19/200\n",
            "31/31 [==============================] - 4s 117ms/step - loss: 0.0013 - mean_squared_error: 0.0013 - mean_absolute_error: 0.0266 - val_loss: 0.0066 - val_mean_squared_error: 0.0066 - val_mean_absolute_error: 0.0644\n",
            "Epoch 20/200\n",
            "31/31 [==============================] - 3s 112ms/step - loss: 0.0013 - mean_squared_error: 0.0013 - mean_absolute_error: 0.0263 - val_loss: 0.0067 - val_mean_squared_error: 0.0067 - val_mean_absolute_error: 0.0646\n",
            "Epoch 21/200\n",
            "31/31 [==============================] - 3s 112ms/step - loss: 0.0014 - mean_squared_error: 0.0014 - mean_absolute_error: 0.0266 - val_loss: 0.0066 - val_mean_squared_error: 0.0066 - val_mean_absolute_error: 0.0642\n",
            "Epoch 22/200\n",
            "31/31 [==============================] - 4s 115ms/step - loss: 0.0012 - mean_squared_error: 0.0012 - mean_absolute_error: 0.0262 - val_loss: 0.0063 - val_mean_squared_error: 0.0063 - val_mean_absolute_error: 0.0629\n",
            "Epoch 23/200\n",
            "31/31 [==============================] - 4s 114ms/step - loss: 0.0013 - mean_squared_error: 0.0013 - mean_absolute_error: 0.0275 - val_loss: 0.0063 - val_mean_squared_error: 0.0063 - val_mean_absolute_error: 0.0633\n",
            "Epoch 24/200\n",
            "31/31 [==============================] - 4s 114ms/step - loss: 0.0014 - mean_squared_error: 0.0014 - mean_absolute_error: 0.0274 - val_loss: 0.0063 - val_mean_squared_error: 0.0063 - val_mean_absolute_error: 0.0625\n",
            "Epoch 25/200\n",
            "31/31 [==============================] - 4s 116ms/step - loss: 0.0012 - mean_squared_error: 0.0012 - mean_absolute_error: 0.0248 - val_loss: 0.0064 - val_mean_squared_error: 0.0064 - val_mean_absolute_error: 0.0645\n",
            "Epoch 26/200\n",
            "31/31 [==============================] - 4s 115ms/step - loss: 0.0013 - mean_squared_error: 0.0013 - mean_absolute_error: 0.0263 - val_loss: 0.0062 - val_mean_squared_error: 0.0062 - val_mean_absolute_error: 0.0635\n",
            "Epoch 27/200\n",
            "31/31 [==============================] - 4s 117ms/step - loss: 0.0018 - mean_squared_error: 0.0018 - mean_absolute_error: 0.0297 - val_loss: 0.0061 - val_mean_squared_error: 0.0061 - val_mean_absolute_error: 0.0627\n",
            "Epoch 28/200\n",
            "31/31 [==============================] - 4s 116ms/step - loss: 0.0012 - mean_squared_error: 0.0012 - mean_absolute_error: 0.0257 - val_loss: 0.0059 - val_mean_squared_error: 0.0059 - val_mean_absolute_error: 0.0605\n",
            "Epoch 29/200\n",
            "31/31 [==============================] - 3s 112ms/step - loss: 0.0012 - mean_squared_error: 0.0012 - mean_absolute_error: 0.0262 - val_loss: 0.0064 - val_mean_squared_error: 0.0064 - val_mean_absolute_error: 0.0624\n",
            "Epoch 30/200\n",
            "31/31 [==============================] - 3s 112ms/step - loss: 0.0013 - mean_squared_error: 0.0013 - mean_absolute_error: 0.0262 - val_loss: 0.0056 - val_mean_squared_error: 0.0056 - val_mean_absolute_error: 0.0591\n",
            "Epoch 31/200\n",
            "31/31 [==============================] - 4s 119ms/step - loss: 0.0013 - mean_squared_error: 0.0013 - mean_absolute_error: 0.0265 - val_loss: 0.0057 - val_mean_squared_error: 0.0057 - val_mean_absolute_error: 0.0589\n",
            "Epoch 32/200\n",
            "31/31 [==============================] - 4s 120ms/step - loss: 0.0013 - mean_squared_error: 0.0013 - mean_absolute_error: 0.0259 - val_loss: 0.0055 - val_mean_squared_error: 0.0055 - val_mean_absolute_error: 0.0589\n",
            "Epoch 33/200\n",
            "31/31 [==============================] - 4s 121ms/step - loss: 0.0011 - mean_squared_error: 0.0011 - mean_absolute_error: 0.0243 - val_loss: 0.0056 - val_mean_squared_error: 0.0056 - val_mean_absolute_error: 0.0587\n",
            "Epoch 34/200\n",
            "31/31 [==============================] - 4s 114ms/step - loss: 0.0011 - mean_squared_error: 0.0011 - mean_absolute_error: 0.0246 - val_loss: 0.0061 - val_mean_squared_error: 0.0061 - val_mean_absolute_error: 0.0602\n",
            "Epoch 35/200\n",
            "31/31 [==============================] - 3s 111ms/step - loss: 0.0012 - mean_squared_error: 0.0012 - mean_absolute_error: 0.0261 - val_loss: 0.0055 - val_mean_squared_error: 0.0055 - val_mean_absolute_error: 0.0580\n",
            "Epoch 36/200\n",
            "31/31 [==============================] - 3s 108ms/step - loss: 0.0011 - mean_squared_error: 0.0011 - mean_absolute_error: 0.0237 - val_loss: 0.0058 - val_mean_squared_error: 0.0058 - val_mean_absolute_error: 0.0586\n",
            "Epoch 37/200\n",
            "31/31 [==============================] - 4s 114ms/step - loss: 0.0011 - mean_squared_error: 0.0011 - mean_absolute_error: 0.0245 - val_loss: 0.0057 - val_mean_squared_error: 0.0057 - val_mean_absolute_error: 0.0585\n",
            "Epoch 38/200\n",
            "31/31 [==============================] - 3s 112ms/step - loss: 0.0011 - mean_squared_error: 0.0011 - mean_absolute_error: 0.0244 - val_loss: 0.0055 - val_mean_squared_error: 0.0055 - val_mean_absolute_error: 0.0572\n",
            "Epoch 39/200\n",
            "31/31 [==============================] - 4s 113ms/step - loss: 0.0013 - mean_squared_error: 0.0013 - mean_absolute_error: 0.0275 - val_loss: 0.0053 - val_mean_squared_error: 0.0053 - val_mean_absolute_error: 0.0579\n",
            "Epoch 40/200\n",
            "31/31 [==============================] - 4s 115ms/step - loss: 0.0013 - mean_squared_error: 0.0013 - mean_absolute_error: 0.0259 - val_loss: 0.0052 - val_mean_squared_error: 0.0052 - val_mean_absolute_error: 0.0569\n",
            "Epoch 41/200\n",
            "31/31 [==============================] - 4s 116ms/step - loss: 0.0011 - mean_squared_error: 0.0011 - mean_absolute_error: 0.0243 - val_loss: 0.0051 - val_mean_squared_error: 0.0051 - val_mean_absolute_error: 0.0562\n",
            "Epoch 42/200\n",
            "31/31 [==============================] - 3s 111ms/step - loss: 0.0011 - mean_squared_error: 0.0011 - mean_absolute_error: 0.0232 - val_loss: 0.0058 - val_mean_squared_error: 0.0058 - val_mean_absolute_error: 0.0581\n",
            "Epoch 43/200\n",
            "31/31 [==============================] - 3s 112ms/step - loss: 0.0012 - mean_squared_error: 0.0012 - mean_absolute_error: 0.0244 - val_loss: 0.0051 - val_mean_squared_error: 0.0051 - val_mean_absolute_error: 0.0565\n",
            "Epoch 44/200\n",
            "31/31 [==============================] - 3s 112ms/step - loss: 0.0010 - mean_squared_error: 0.0010 - mean_absolute_error: 0.0236 - val_loss: 0.0051 - val_mean_squared_error: 0.0051 - val_mean_absolute_error: 0.0553\n",
            "Epoch 45/200\n",
            "31/31 [==============================] - 4s 114ms/step - loss: 0.0013 - mean_squared_error: 0.0013 - mean_absolute_error: 0.0256 - val_loss: 0.0059 - val_mean_squared_error: 0.0059 - val_mean_absolute_error: 0.0586\n",
            "Epoch 46/200\n",
            "31/31 [==============================] - 4s 115ms/step - loss: 0.0013 - mean_squared_error: 0.0013 - mean_absolute_error: 0.0264 - val_loss: 0.0051 - val_mean_squared_error: 0.0051 - val_mean_absolute_error: 0.0566\n",
            "Epoch 47/200\n",
            "31/31 [==============================] - 4s 116ms/step - loss: 0.0010 - mean_squared_error: 0.0010 - mean_absolute_error: 0.0233 - val_loss: 0.0051 - val_mean_squared_error: 0.0051 - val_mean_absolute_error: 0.0548\n",
            "Epoch 48/200\n",
            "31/31 [==============================] - 4s 116ms/step - loss: 9.9624e-04 - mean_squared_error: 9.9624e-04 - mean_absolute_error: 0.0225 - val_loss: 0.0050 - val_mean_squared_error: 0.0050 - val_mean_absolute_error: 0.0553\n",
            "Epoch 49/200\n",
            "31/31 [==============================] - 4s 119ms/step - loss: 0.0012 - mean_squared_error: 0.0012 - mean_absolute_error: 0.0245 - val_loss: 0.0049 - val_mean_squared_error: 0.0049 - val_mean_absolute_error: 0.0541\n",
            "Epoch 50/200\n",
            "31/31 [==============================] - 4s 113ms/step - loss: 0.0010 - mean_squared_error: 0.0010 - mean_absolute_error: 0.0239 - val_loss: 0.0049 - val_mean_squared_error: 0.0049 - val_mean_absolute_error: 0.0552\n",
            "Epoch 51/200\n",
            "31/31 [==============================] - 4s 112ms/step - loss: 0.0011 - mean_squared_error: 0.0011 - mean_absolute_error: 0.0252 - val_loss: 0.0048 - val_mean_squared_error: 0.0048 - val_mean_absolute_error: 0.0549\n",
            "Epoch 52/200\n",
            "31/31 [==============================] - 4s 119ms/step - loss: 0.0011 - mean_squared_error: 0.0011 - mean_absolute_error: 0.0247 - val_loss: 0.0047 - val_mean_squared_error: 0.0047 - val_mean_absolute_error: 0.0535\n",
            "Epoch 53/200\n",
            "31/31 [==============================] - 3s 114ms/step - loss: 9.3167e-04 - mean_squared_error: 9.3167e-04 - mean_absolute_error: 0.0221 - val_loss: 0.0050 - val_mean_squared_error: 0.0050 - val_mean_absolute_error: 0.0560\n",
            "Epoch 54/200\n",
            "31/31 [==============================] - 3s 111ms/step - loss: 9.7444e-04 - mean_squared_error: 9.7444e-04 - mean_absolute_error: 0.0225 - val_loss: 0.0047 - val_mean_squared_error: 0.0047 - val_mean_absolute_error: 0.0529\n",
            "Epoch 55/200\n",
            "31/31 [==============================] - 4s 120ms/step - loss: 9.9968e-04 - mean_squared_error: 9.9968e-04 - mean_absolute_error: 0.0224 - val_loss: 0.0047 - val_mean_squared_error: 0.0047 - val_mean_absolute_error: 0.0531\n",
            "Epoch 56/200\n",
            "31/31 [==============================] - 4s 116ms/step - loss: 0.0011 - mean_squared_error: 0.0011 - mean_absolute_error: 0.0231 - val_loss: 0.0047 - val_mean_squared_error: 0.0047 - val_mean_absolute_error: 0.0532\n",
            "Epoch 57/200\n",
            "31/31 [==============================] - 4s 116ms/step - loss: 0.0010 - mean_squared_error: 0.0010 - mean_absolute_error: 0.0235 - val_loss: 0.0047 - val_mean_squared_error: 0.0047 - val_mean_absolute_error: 0.0545\n",
            "Epoch 58/200\n",
            "31/31 [==============================] - 4s 116ms/step - loss: 8.7404e-04 - mean_squared_error: 8.7404e-04 - mean_absolute_error: 0.0217 - val_loss: 0.0046 - val_mean_squared_error: 0.0046 - val_mean_absolute_error: 0.0520\n",
            "Epoch 59/200\n",
            "31/31 [==============================] - 4s 117ms/step - loss: 9.3536e-04 - mean_squared_error: 9.3536e-04 - mean_absolute_error: 0.0221 - val_loss: 0.0047 - val_mean_squared_error: 0.0047 - val_mean_absolute_error: 0.0521\n",
            "Epoch 60/200\n",
            "31/31 [==============================] - 3s 101ms/step - loss: 8.5761e-04 - mean_squared_error: 8.5761e-04 - mean_absolute_error: 0.0212 - val_loss: 0.0046 - val_mean_squared_error: 0.0046 - val_mean_absolute_error: 0.0516\n",
            "Epoch 61/200\n",
            "31/31 [==============================] - 3s 103ms/step - loss: 0.0011 - mean_squared_error: 0.0011 - mean_absolute_error: 0.0245 - val_loss: 0.0046 - val_mean_squared_error: 0.0046 - val_mean_absolute_error: 0.0531\n",
            "Epoch 62/200\n",
            "31/31 [==============================] - 3s 100ms/step - loss: 0.0012 - mean_squared_error: 0.0012 - mean_absolute_error: 0.0255 - val_loss: 0.0046 - val_mean_squared_error: 0.0046 - val_mean_absolute_error: 0.0531\n",
            "Epoch 63/200\n",
            "31/31 [==============================] - 3s 105ms/step - loss: 0.0011 - mean_squared_error: 0.0011 - mean_absolute_error: 0.0237 - val_loss: 0.0047 - val_mean_squared_error: 0.0047 - val_mean_absolute_error: 0.0524\n",
            "Epoch 64/200\n",
            "31/31 [==============================] - 4s 116ms/step - loss: 8.8121e-04 - mean_squared_error: 8.8121e-04 - mean_absolute_error: 0.0216 - val_loss: 0.0045 - val_mean_squared_error: 0.0045 - val_mean_absolute_error: 0.0512\n",
            "Epoch 65/200\n",
            "31/31 [==============================] - 4s 119ms/step - loss: 0.0010 - mean_squared_error: 0.0010 - mean_absolute_error: 0.0233 - val_loss: 0.0046 - val_mean_squared_error: 0.0046 - val_mean_absolute_error: 0.0526\n",
            "Epoch 66/200\n",
            "31/31 [==============================] - 3s 113ms/step - loss: 0.0011 - mean_squared_error: 0.0011 - mean_absolute_error: 0.0234 - val_loss: 0.0047 - val_mean_squared_error: 0.0047 - val_mean_absolute_error: 0.0539\n",
            "Epoch 67/200\n",
            "31/31 [==============================] - 4s 117ms/step - loss: 9.7585e-04 - mean_squared_error: 9.7585e-04 - mean_absolute_error: 0.0227 - val_loss: 0.0046 - val_mean_squared_error: 0.0046 - val_mean_absolute_error: 0.0539\n",
            "Epoch 68/200\n",
            "31/31 [==============================] - 4s 116ms/step - loss: 8.5557e-04 - mean_squared_error: 8.5557e-04 - mean_absolute_error: 0.0216 - val_loss: 0.0047 - val_mean_squared_error: 0.0047 - val_mean_absolute_error: 0.0541\n",
            "Epoch 69/200\n",
            "31/31 [==============================] - 3s 112ms/step - loss: 0.0011 - mean_squared_error: 0.0011 - mean_absolute_error: 0.0228 - val_loss: 0.0046 - val_mean_squared_error: 0.0046 - val_mean_absolute_error: 0.0516\n",
            "Epoch 70/200\n",
            "31/31 [==============================] - 4s 114ms/step - loss: 8.4649e-04 - mean_squared_error: 8.4649e-04 - mean_absolute_error: 0.0212 - val_loss: 0.0045 - val_mean_squared_error: 0.0045 - val_mean_absolute_error: 0.0512\n",
            "Epoch 71/200\n",
            "31/31 [==============================] - 3s 112ms/step - loss: 9.5996e-04 - mean_squared_error: 9.5996e-04 - mean_absolute_error: 0.0224 - val_loss: 0.0048 - val_mean_squared_error: 0.0048 - val_mean_absolute_error: 0.0525\n",
            "Epoch 72/200\n",
            "31/31 [==============================] - 4s 113ms/step - loss: 9.8482e-04 - mean_squared_error: 9.8482e-04 - mean_absolute_error: 0.0234 - val_loss: 0.0044 - val_mean_squared_error: 0.0044 - val_mean_absolute_error: 0.0507\n",
            "Epoch 73/200\n",
            "31/31 [==============================] - 3s 111ms/step - loss: 7.5359e-04 - mean_squared_error: 7.5359e-04 - mean_absolute_error: 0.0201 - val_loss: 0.0045 - val_mean_squared_error: 0.0045 - val_mean_absolute_error: 0.0523\n",
            "Epoch 74/200\n",
            "31/31 [==============================] - 3s 112ms/step - loss: 8.6154e-04 - mean_squared_error: 8.6154e-04 - mean_absolute_error: 0.0212 - val_loss: 0.0044 - val_mean_squared_error: 0.0044 - val_mean_absolute_error: 0.0511\n",
            "Epoch 75/200\n",
            "31/31 [==============================] - 4s 113ms/step - loss: 8.0945e-04 - mean_squared_error: 8.0945e-04 - mean_absolute_error: 0.0210 - val_loss: 0.0045 - val_mean_squared_error: 0.0045 - val_mean_absolute_error: 0.0525\n",
            "Epoch 76/200\n",
            "31/31 [==============================] - 4s 118ms/step - loss: 8.7105e-04 - mean_squared_error: 8.7105e-04 - mean_absolute_error: 0.0220 - val_loss: 0.0045 - val_mean_squared_error: 0.0045 - val_mean_absolute_error: 0.0522\n",
            "Epoch 77/200\n",
            "31/31 [==============================] - 4s 114ms/step - loss: 8.3902e-04 - mean_squared_error: 8.3902e-04 - mean_absolute_error: 0.0212 - val_loss: 0.0044 - val_mean_squared_error: 0.0044 - val_mean_absolute_error: 0.0502\n",
            "Epoch 78/200\n",
            "31/31 [==============================] - 4s 122ms/step - loss: 8.8171e-04 - mean_squared_error: 8.8171e-04 - mean_absolute_error: 0.0210 - val_loss: 0.0044 - val_mean_squared_error: 0.0044 - val_mean_absolute_error: 0.0502\n",
            "Epoch 79/200\n",
            "31/31 [==============================] - 4s 115ms/step - loss: 9.7235e-04 - mean_squared_error: 9.7235e-04 - mean_absolute_error: 0.0226 - val_loss: 0.0045 - val_mean_squared_error: 0.0045 - val_mean_absolute_error: 0.0519\n",
            "Epoch 80/200\n",
            "31/31 [==============================] - 4s 117ms/step - loss: 8.3646e-04 - mean_squared_error: 8.3646e-04 - mean_absolute_error: 0.0214 - val_loss: 0.0044 - val_mean_squared_error: 0.0044 - val_mean_absolute_error: 0.0516\n",
            "Epoch 81/200\n",
            "31/31 [==============================] - 4s 114ms/step - loss: 7.5088e-04 - mean_squared_error: 7.5088e-04 - mean_absolute_error: 0.0205 - val_loss: 0.0047 - val_mean_squared_error: 0.0047 - val_mean_absolute_error: 0.0543\n",
            "Epoch 82/200\n",
            "31/31 [==============================] - 3s 112ms/step - loss: 0.0010 - mean_squared_error: 0.0010 - mean_absolute_error: 0.0235 - val_loss: 0.0044 - val_mean_squared_error: 0.0044 - val_mean_absolute_error: 0.0504\n",
            "Epoch 83/200\n",
            "31/31 [==============================] - 4s 120ms/step - loss: 8.4652e-04 - mean_squared_error: 8.4652e-04 - mean_absolute_error: 0.0212 - val_loss: 0.0044 - val_mean_squared_error: 0.0044 - val_mean_absolute_error: 0.0505\n",
            "Epoch 84/200\n",
            "31/31 [==============================] - 4s 114ms/step - loss: 8.1067e-04 - mean_squared_error: 8.1067e-04 - mean_absolute_error: 0.0215 - val_loss: 0.0044 - val_mean_squared_error: 0.0044 - val_mean_absolute_error: 0.0510\n",
            "Epoch 85/200\n",
            "31/31 [==============================] - 3s 112ms/step - loss: 7.9876e-04 - mean_squared_error: 7.9876e-04 - mean_absolute_error: 0.0209 - val_loss: 0.0045 - val_mean_squared_error: 0.0045 - val_mean_absolute_error: 0.0532\n",
            "Epoch 86/200\n",
            "31/31 [==============================] - 4s 115ms/step - loss: 8.1623e-04 - mean_squared_error: 8.1623e-04 - mean_absolute_error: 0.0213 - val_loss: 0.0046 - val_mean_squared_error: 0.0046 - val_mean_absolute_error: 0.0514\n",
            "Epoch 87/200\n",
            "31/31 [==============================] - 4s 116ms/step - loss: 9.2469e-04 - mean_squared_error: 9.2469e-04 - mean_absolute_error: 0.0224 - val_loss: 0.0044 - val_mean_squared_error: 0.0044 - val_mean_absolute_error: 0.0511\n",
            "Epoch 88/200\n",
            "31/31 [==============================] - 4s 120ms/step - loss: 7.6526e-04 - mean_squared_error: 7.6526e-04 - mean_absolute_error: 0.0199 - val_loss: 0.0045 - val_mean_squared_error: 0.0045 - val_mean_absolute_error: 0.0510\n",
            "Epoch 89/200\n",
            "31/31 [==============================] - 4s 121ms/step - loss: 9.2097e-04 - mean_squared_error: 9.2097e-04 - mean_absolute_error: 0.0223 - val_loss: 0.0047 - val_mean_squared_error: 0.0047 - val_mean_absolute_error: 0.0518\n",
            "Epoch 90/200\n",
            "31/31 [==============================] - 4s 117ms/step - loss: 9.9558e-04 - mean_squared_error: 9.9558e-04 - mean_absolute_error: 0.0225 - val_loss: 0.0044 - val_mean_squared_error: 0.0044 - val_mean_absolute_error: 0.0502\n",
            "Epoch 91/200\n",
            "31/31 [==============================] - 4s 119ms/step - loss: 7.9198e-04 - mean_squared_error: 7.9198e-04 - mean_absolute_error: 0.0209 - val_loss: 0.0044 - val_mean_squared_error: 0.0044 - val_mean_absolute_error: 0.0505\n",
            "Epoch 92/200\n",
            "31/31 [==============================] - 4s 117ms/step - loss: 7.9697e-04 - mean_squared_error: 7.9697e-04 - mean_absolute_error: 0.0205 - val_loss: 0.0044 - val_mean_squared_error: 0.0044 - val_mean_absolute_error: 0.0503\n",
            "Epoch 93/200\n",
            "31/31 [==============================] - 4s 115ms/step - loss: 7.9234e-04 - mean_squared_error: 7.9234e-04 - mean_absolute_error: 0.0202 - val_loss: 0.0044 - val_mean_squared_error: 0.0044 - val_mean_absolute_error: 0.0510\n",
            "Epoch 94/200\n",
            "31/31 [==============================] - 4s 116ms/step - loss: 7.2425e-04 - mean_squared_error: 7.2425e-04 - mean_absolute_error: 0.0204 - val_loss: 0.0044 - val_mean_squared_error: 0.0044 - val_mean_absolute_error: 0.0505\n"
          ]
        },
        {
          "output_type": "display_data",
          "data": {
            "text/plain": [
              "<IPython.core.display.HTML object>"
            ],
            "text/html": [
              "<br/>Waiting for W&B process to finish, PID 8850<br/>Program ended successfully."
            ]
          },
          "metadata": {
            "tags": []
          }
        },
        {
          "output_type": "display_data",
          "data": {
            "text/plain": [
              "VBox(children=(Label(value=' 0.93MB of 0.93MB uploaded (0.00MB deduped)\\r'), FloatProgress(value=1.0, max=1.0)…"
            ],
            "application/vnd.jupyter.widget-view+json": {
              "model_id": "18cb23f96bea4e3a8c77fcfcdcde0495",
              "version_minor": 0,
              "version_major": 2
            }
          },
          "metadata": {
            "tags": []
          }
        },
        {
          "output_type": "display_data",
          "data": {
            "text/plain": [
              "<IPython.core.display.HTML object>"
            ],
            "text/html": [
              "Find user logs for this run at: <code>/content/feeder_repo/wandb/run-20210713_194307-n4uwfao8/logs/debug.log</code>"
            ]
          },
          "metadata": {
            "tags": []
          }
        },
        {
          "output_type": "display_data",
          "data": {
            "text/plain": [
              "<IPython.core.display.HTML object>"
            ],
            "text/html": [
              "Find internal logs for this run at: <code>/content/feeder_repo/wandb/run-20210713_194307-n4uwfao8/logs/debug-internal.log</code>"
            ]
          },
          "metadata": {
            "tags": []
          }
        },
        {
          "output_type": "display_data",
          "data": {
            "text/plain": [
              "<IPython.core.display.HTML object>"
            ],
            "text/html": [
              "<h3>Run summary:</h3><br/><style>\n",
              "    table.wandb td:nth-child(1) { padding: 0 10px; text-align: right }\n",
              "    </style><table class=\"wandb\">\n",
              "<tr><td>epoch</td><td>93</td></tr><tr><td>loss</td><td>0.00077</td></tr><tr><td>mean_squared_error</td><td>0.00077</td></tr><tr><td>mean_absolute_error</td><td>0.02087</td></tr><tr><td>val_loss</td><td>0.00443</td></tr><tr><td>val_mean_squared_error</td><td>0.00443</td></tr><tr><td>val_mean_absolute_error</td><td>0.05053</td></tr><tr><td>_runtime</td><td>346</td></tr><tr><td>_timestamp</td><td>1626205733</td></tr><tr><td>_step</td><td>93</td></tr><tr><td>best_val_loss</td><td>0.00436</td></tr><tr><td>best_epoch</td><td>83</td></tr></table>"
            ]
          },
          "metadata": {
            "tags": []
          }
        },
        {
          "output_type": "display_data",
          "data": {
            "text/plain": [
              "<IPython.core.display.HTML object>"
            ],
            "text/html": [
              "<h3>Run history:</h3><br/><style>\n",
              "    table.wandb td:nth-child(1) { padding: 0 10px; text-align: right }\n",
              "    </style><table class=\"wandb\">\n",
              "<tr><td>epoch</td><td>▁▁▁▂▂▂▂▂▂▃▃▃▃▃▃▄▄▄▄▄▅▅▅▅▅▅▆▆▆▆▆▆▇▇▇▇▇███</td></tr><tr><td>loss</td><td>█▁▁▁▁▁▁▁▁▁▁▁▁▁▁▁▁▁▁▁▁▁▁▁▁▁▁▁▁▁▁▁▁▁▁▁▁▁▁▁</td></tr><tr><td>mean_squared_error</td><td>█▁▁▁▁▁▁▁▁▁▁▁▁▁▁▁▁▁▁▁▁▁▁▁▁▁▁▁▁▁▁▁▁▁▁▁▁▁▁▁</td></tr><tr><td>mean_absolute_error</td><td>█▂▂▂▂▂▂▁▁▁▂▂▁▁▁▁▁▁▁▁▁▁▁▁▁▁▁▁▁▁▁▁▁▁▁▁▁▁▁▁</td></tr><tr><td>val_loss</td><td>█▄▄▄▄▃▃▃▃▃▃▂▃▂▂▂▂▂▂▂▂▁▁▁▁▁▁▁▁▁▁▁▁▁▁▁▁▁▁▁</td></tr><tr><td>val_mean_squared_error</td><td>█▄▄▄▄▃▃▃▃▃▃▂▃▂▂▂▂▂▂▂▂▁▁▁▁▁▁▁▁▁▁▁▁▁▁▁▁▁▁▁</td></tr><tr><td>val_mean_absolute_error</td><td>█▅▅▅▄▄▄▄▄▃▃▃▃▃▃▂▂▂▂▂▂▂▂▁▁▁▁▁▂▁▁▁▁▁▁▁▁▁▁▁</td></tr><tr><td>_runtime</td><td>▁▁▁▂▂▂▂▂▂▃▃▃▃▃▄▄▄▄▄▄▅▅▅▅▅▅▆▆▆▆▆▆▇▇▇▇▇███</td></tr><tr><td>_timestamp</td><td>▁▁▁▂▂▂▂▂▂▃▃▃▃▃▄▄▄▄▄▄▅▅▅▅▅▅▆▆▆▆▆▆▇▇▇▇▇███</td></tr><tr><td>_step</td><td>▁▁▁▂▂▂▂▂▂▃▃▃▃▃▃▄▄▄▄▄▅▅▅▅▅▅▆▆▆▆▆▆▇▇▇▇▇███</td></tr></table><br/>"
            ]
          },
          "metadata": {
            "tags": []
          }
        },
        {
          "output_type": "display_data",
          "data": {
            "text/plain": [
              "<IPython.core.display.HTML object>"
            ],
            "text/html": [
              "Synced 5 W&B file(s), 1 media file(s), 2 artifact file(s) and 2 other file(s)"
            ]
          },
          "metadata": {
            "tags": []
          }
        },
        {
          "output_type": "display_data",
          "data": {
            "text/plain": [
              "<IPython.core.display.HTML object>"
            ],
            "text/html": [
              "\n",
              "                    <br/>Synced <strong style=\"color:#cdcd00\">deft-sweep-30</strong>: <a href=\"https://wandb.ai/acse-jaq15/ACSE_9_GRU/runs/n4uwfao8\" target=\"_blank\">https://wandb.ai/acse-jaq15/ACSE_9_GRU/runs/n4uwfao8</a><br/>\n",
              "                "
            ]
          },
          "metadata": {
            "tags": []
          }
        },
        {
          "output_type": "stream",
          "name": "stderr",
          "text": [
            "\u001b[34m\u001b[1mwandb\u001b[0m: Agent Starting Run: c235o7jf with config:\n",
            "\u001b[34m\u001b[1mwandb\u001b[0m: \tactivation: relu\n",
            "\u001b[34m\u001b[1mwandb\u001b[0m: \tbatch_size: 32\n",
            "\u001b[34m\u001b[1mwandb\u001b[0m: \tdropout: 0.2\n",
            "\u001b[34m\u001b[1mwandb\u001b[0m: \tepochs: 50\n",
            "\u001b[34m\u001b[1mwandb\u001b[0m: \thidden_size: 100\n",
            "\u001b[34m\u001b[1mwandb\u001b[0m: \tinput_size: 25\n",
            "\u001b[34m\u001b[1mwandb\u001b[0m: \tlearning_rate: 0.005\n",
            "\u001b[34m\u001b[1mwandb\u001b[0m: \toptimizer: adam\n"
          ]
        },
        {
          "output_type": "display_data",
          "data": {
            "text/plain": [
              "<IPython.core.display.HTML object>"
            ],
            "text/html": [
              "\n",
              "                Tracking run with wandb version 0.10.33<br/>\n",
              "                Syncing run <strong style=\"color:#cdcd00\">celestial-sweep-31</strong> to <a href=\"https://wandb.ai\" target=\"_blank\">Weights & Biases</a> <a href=\"https://docs.wandb.com/integrations/jupyter.html\" target=\"_blank\">(Documentation)</a>.<br/>\n",
              "                Project page: <a href=\"https://wandb.ai/acse-jaq15/ACSE_9_GRU\" target=\"_blank\">https://wandb.ai/acse-jaq15/ACSE_9_GRU</a><br/>\n",
              "                Sweep page: <a href=\"https://wandb.ai/acse-jaq15/ACSE_9_GRU/sweeps/ge9tsbmx\" target=\"_blank\">https://wandb.ai/acse-jaq15/ACSE_9_GRU/sweeps/ge9tsbmx</a><br/>\n",
              "Run page: <a href=\"https://wandb.ai/acse-jaq15/ACSE_9_GRU/runs/c235o7jf\" target=\"_blank\">https://wandb.ai/acse-jaq15/ACSE_9_GRU/runs/c235o7jf</a><br/>\n",
              "                Run data is saved locally in <code>/content/feeder_repo/wandb/run-20210713_194900-c235o7jf</code><br/><br/>\n",
              "            "
            ]
          },
          "metadata": {
            "tags": []
          }
        },
        {
          "output_type": "stream",
          "name": "stdout",
          "text": [
            "WARNING:tensorflow:Layer gru will not use cuDNN kernels since it doesn't meet the criteria. It will use a generic GPU kernel as fallback when running on GPU.\n",
            "Epoch 1/50\n",
            "31/31 [==============================] - 10s 173ms/step - loss: 0.0466 - mean_squared_error: 0.0466 - mean_absolute_error: 0.1516 - val_loss: 0.0081 - val_mean_squared_error: 0.0081 - val_mean_absolute_error: 0.0735\n",
            "Epoch 2/50\n",
            "31/31 [==============================] - 3s 112ms/step - loss: 0.0035 - mean_squared_error: 0.0035 - mean_absolute_error: 0.0436 - val_loss: 0.0074 - val_mean_squared_error: 0.0074 - val_mean_absolute_error: 0.0677\n",
            "Epoch 3/50\n",
            "31/31 [==============================] - 3s 112ms/step - loss: 0.0026 - mean_squared_error: 0.0026 - mean_absolute_error: 0.0379 - val_loss: 0.0075 - val_mean_squared_error: 0.0075 - val_mean_absolute_error: 0.0693\n",
            "Epoch 4/50\n",
            "31/31 [==============================] - 3s 110ms/step - loss: 0.0020 - mean_squared_error: 0.0020 - mean_absolute_error: 0.0333 - val_loss: 0.0078 - val_mean_squared_error: 0.0078 - val_mean_absolute_error: 0.0705\n",
            "Epoch 5/50\n",
            "31/31 [==============================] - 3s 110ms/step - loss: 0.0019 - mean_squared_error: 0.0019 - mean_absolute_error: 0.0316 - val_loss: 0.0086 - val_mean_squared_error: 0.0086 - val_mean_absolute_error: 0.0722\n",
            "Epoch 6/50\n",
            "31/31 [==============================] - 4s 117ms/step - loss: 0.0024 - mean_squared_error: 0.0024 - mean_absolute_error: 0.0358 - val_loss: 0.0083 - val_mean_squared_error: 0.0083 - val_mean_absolute_error: 0.0732\n",
            "Epoch 7/50\n",
            "31/31 [==============================] - 4s 113ms/step - loss: 0.0016 - mean_squared_error: 0.0016 - mean_absolute_error: 0.0295 - val_loss: 0.0081 - val_mean_squared_error: 0.0081 - val_mean_absolute_error: 0.0708\n",
            "Epoch 8/50\n",
            "31/31 [==============================] - 4s 114ms/step - loss: 0.0019 - mean_squared_error: 0.0019 - mean_absolute_error: 0.0331 - val_loss: 0.0086 - val_mean_squared_error: 0.0086 - val_mean_absolute_error: 0.0746\n",
            "Epoch 9/50\n",
            "31/31 [==============================] - 4s 117ms/step - loss: 0.0023 - mean_squared_error: 0.0023 - mean_absolute_error: 0.0358 - val_loss: 0.0079 - val_mean_squared_error: 0.0079 - val_mean_absolute_error: 0.0703\n",
            "Epoch 10/50\n",
            "31/31 [==============================] - 4s 113ms/step - loss: 0.0015 - mean_squared_error: 0.0015 - mean_absolute_error: 0.0295 - val_loss: 0.0086 - val_mean_squared_error: 0.0086 - val_mean_absolute_error: 0.0715\n",
            "Epoch 11/50\n",
            "31/31 [==============================] - 4s 114ms/step - loss: 0.0019 - mean_squared_error: 0.0019 - mean_absolute_error: 0.0331 - val_loss: 0.0076 - val_mean_squared_error: 0.0076 - val_mean_absolute_error: 0.0691\n",
            "Epoch 12/50\n",
            "31/31 [==============================] - 4s 115ms/step - loss: 0.0017 - mean_squared_error: 0.0017 - mean_absolute_error: 0.0307 - val_loss: 0.0077 - val_mean_squared_error: 0.0077 - val_mean_absolute_error: 0.0707\n"
          ]
        },
        {
          "output_type": "display_data",
          "data": {
            "text/plain": [
              "<IPython.core.display.HTML object>"
            ],
            "text/html": [
              "<br/>Waiting for W&B process to finish, PID 9255<br/>Program ended successfully."
            ]
          },
          "metadata": {
            "tags": []
          }
        },
        {
          "output_type": "display_data",
          "data": {
            "text/plain": [
              "VBox(children=(Label(value=' 0.79MB of 0.79MB uploaded (0.00MB deduped)\\r'), FloatProgress(value=1.0, max=1.0)…"
            ],
            "application/vnd.jupyter.widget-view+json": {
              "model_id": "4cf5716d29ee41529d3c302fc36777a9",
              "version_minor": 0,
              "version_major": 2
            }
          },
          "metadata": {
            "tags": []
          }
        },
        {
          "output_type": "display_data",
          "data": {
            "text/plain": [
              "<IPython.core.display.HTML object>"
            ],
            "text/html": [
              "Find user logs for this run at: <code>/content/feeder_repo/wandb/run-20210713_194900-c235o7jf/logs/debug.log</code>"
            ]
          },
          "metadata": {
            "tags": []
          }
        },
        {
          "output_type": "display_data",
          "data": {
            "text/plain": [
              "<IPython.core.display.HTML object>"
            ],
            "text/html": [
              "Find internal logs for this run at: <code>/content/feeder_repo/wandb/run-20210713_194900-c235o7jf/logs/debug-internal.log</code>"
            ]
          },
          "metadata": {
            "tags": []
          }
        },
        {
          "output_type": "display_data",
          "data": {
            "text/plain": [
              "<IPython.core.display.HTML object>"
            ],
            "text/html": [
              "<h3>Run summary:</h3><br/><style>\n",
              "    table.wandb td:nth-child(1) { padding: 0 10px; text-align: right }\n",
              "    </style><table class=\"wandb\">\n",
              "<tr><td>epoch</td><td>11</td></tr><tr><td>loss</td><td>0.00186</td></tr><tr><td>mean_squared_error</td><td>0.00186</td></tr><tr><td>mean_absolute_error</td><td>0.03163</td></tr><tr><td>val_loss</td><td>0.00773</td></tr><tr><td>val_mean_squared_error</td><td>0.00773</td></tr><tr><td>val_mean_absolute_error</td><td>0.07075</td></tr><tr><td>_runtime</td><td>89</td></tr><tr><td>_timestamp</td><td>1626205829</td></tr><tr><td>_step</td><td>11</td></tr><tr><td>best_val_loss</td><td>0.00741</td></tr><tr><td>best_epoch</td><td>1</td></tr></table>"
            ]
          },
          "metadata": {
            "tags": []
          }
        },
        {
          "output_type": "display_data",
          "data": {
            "text/plain": [
              "<IPython.core.display.HTML object>"
            ],
            "text/html": [
              "<h3>Run history:</h3><br/><style>\n",
              "    table.wandb td:nth-child(1) { padding: 0 10px; text-align: right }\n",
              "    </style><table class=\"wandb\">\n",
              "<tr><td>epoch</td><td>▁▂▂▃▄▄▅▅▆▇▇█</td></tr><tr><td>loss</td><td>█▂▁▁▁▁▁▁▁▁▁▁</td></tr><tr><td>mean_squared_error</td><td>█▂▁▁▁▁▁▁▁▁▁▁</td></tr><tr><td>mean_absolute_error</td><td>█▂▂▁▁▂▁▁▁▁▁▁</td></tr><tr><td>val_loss</td><td>▅▁▂▃█▆▅█▄█▂▃</td></tr><tr><td>val_mean_squared_error</td><td>▅▁▂▃█▆▅█▄█▂▃</td></tr><tr><td>val_mean_absolute_error</td><td>▇▁▃▄▆▇▄█▄▅▂▄</td></tr><tr><td>_runtime</td><td>▁▂▂▃▄▄▅▅▆▇▇█</td></tr><tr><td>_timestamp</td><td>▁▂▂▃▄▄▅▅▆▇▇█</td></tr><tr><td>_step</td><td>▁▂▂▃▄▄▅▅▆▇▇█</td></tr></table><br/>"
            ]
          },
          "metadata": {
            "tags": []
          }
        },
        {
          "output_type": "display_data",
          "data": {
            "text/plain": [
              "<IPython.core.display.HTML object>"
            ],
            "text/html": [
              "Synced 5 W&B file(s), 1 media file(s), 2 artifact file(s) and 2 other file(s)"
            ]
          },
          "metadata": {
            "tags": []
          }
        },
        {
          "output_type": "display_data",
          "data": {
            "text/plain": [
              "<IPython.core.display.HTML object>"
            ],
            "text/html": [
              "\n",
              "                    <br/>Synced <strong style=\"color:#cdcd00\">celestial-sweep-31</strong>: <a href=\"https://wandb.ai/acse-jaq15/ACSE_9_GRU/runs/c235o7jf\" target=\"_blank\">https://wandb.ai/acse-jaq15/ACSE_9_GRU/runs/c235o7jf</a><br/>\n",
              "                "
            ]
          },
          "metadata": {
            "tags": []
          }
        },
        {
          "output_type": "stream",
          "name": "stderr",
          "text": [
            "\u001b[34m\u001b[1mwandb\u001b[0m: Agent Starting Run: 1daqjdkq with config:\n",
            "\u001b[34m\u001b[1mwandb\u001b[0m: \tactivation: relu\n",
            "\u001b[34m\u001b[1mwandb\u001b[0m: \tbatch_size: 32\n",
            "\u001b[34m\u001b[1mwandb\u001b[0m: \tdropout: 0.4\n",
            "\u001b[34m\u001b[1mwandb\u001b[0m: \tepochs: 200\n",
            "\u001b[34m\u001b[1mwandb\u001b[0m: \thidden_size: 25\n",
            "\u001b[34m\u001b[1mwandb\u001b[0m: \tinput_size: 25\n",
            "\u001b[34m\u001b[1mwandb\u001b[0m: \tlearning_rate: 0.0005\n",
            "\u001b[34m\u001b[1mwandb\u001b[0m: \toptimizer: nadam\n"
          ]
        },
        {
          "output_type": "display_data",
          "data": {
            "text/plain": [
              "<IPython.core.display.HTML object>"
            ],
            "text/html": [
              "\n",
              "                Tracking run with wandb version 0.10.33<br/>\n",
              "                Syncing run <strong style=\"color:#cdcd00\">snowy-sweep-32</strong> to <a href=\"https://wandb.ai\" target=\"_blank\">Weights & Biases</a> <a href=\"https://docs.wandb.com/integrations/jupyter.html\" target=\"_blank\">(Documentation)</a>.<br/>\n",
              "                Project page: <a href=\"https://wandb.ai/acse-jaq15/ACSE_9_GRU\" target=\"_blank\">https://wandb.ai/acse-jaq15/ACSE_9_GRU</a><br/>\n",
              "                Sweep page: <a href=\"https://wandb.ai/acse-jaq15/ACSE_9_GRU/sweeps/ge9tsbmx\" target=\"_blank\">https://wandb.ai/acse-jaq15/ACSE_9_GRU/sweeps/ge9tsbmx</a><br/>\n",
              "Run page: <a href=\"https://wandb.ai/acse-jaq15/ACSE_9_GRU/runs/1daqjdkq\" target=\"_blank\">https://wandb.ai/acse-jaq15/ACSE_9_GRU/runs/1daqjdkq</a><br/>\n",
              "                Run data is saved locally in <code>/content/feeder_repo/wandb/run-20210713_195114-1daqjdkq</code><br/><br/>\n",
              "            "
            ]
          },
          "metadata": {
            "tags": []
          }
        },
        {
          "output_type": "stream",
          "name": "stdout",
          "text": [
            "WARNING:tensorflow:Layer gru will not use cuDNN kernels since it doesn't meet the criteria. It will use a generic GPU kernel as fallback when running on GPU.\n",
            "Epoch 1/200\n",
            "31/31 [==============================] - 10s 160ms/step - loss: 0.1960 - mean_squared_error: 0.1960 - mean_absolute_error: 0.3538 - val_loss: 0.0955 - val_mean_squared_error: 0.0955 - val_mean_absolute_error: 0.2485\n",
            "Epoch 2/200\n",
            "31/31 [==============================] - 4s 117ms/step - loss: 0.0683 - mean_squared_error: 0.0683 - mean_absolute_error: 0.1974 - val_loss: 0.0259 - val_mean_squared_error: 0.0259 - val_mean_absolute_error: 0.1327\n",
            "Epoch 3/200\n",
            "31/31 [==============================] - 4s 117ms/step - loss: 0.0339 - mean_squared_error: 0.0339 - mean_absolute_error: 0.1483 - val_loss: 0.0191 - val_mean_squared_error: 0.0191 - val_mean_absolute_error: 0.1141\n",
            "Epoch 4/200\n",
            "31/31 [==============================] - 4s 117ms/step - loss: 0.0251 - mean_squared_error: 0.0251 - mean_absolute_error: 0.1282 - val_loss: 0.0127 - val_mean_squared_error: 0.0127 - val_mean_absolute_error: 0.0923\n",
            "Epoch 5/200\n",
            "31/31 [==============================] - 4s 119ms/step - loss: 0.0176 - mean_squared_error: 0.0176 - mean_absolute_error: 0.1042 - val_loss: 0.0122 - val_mean_squared_error: 0.0122 - val_mean_absolute_error: 0.0895\n",
            "Epoch 6/200\n",
            "31/31 [==============================] - 4s 120ms/step - loss: 0.0146 - mean_squared_error: 0.0146 - mean_absolute_error: 0.0873 - val_loss: 0.0112 - val_mean_squared_error: 0.0112 - val_mean_absolute_error: 0.0854\n",
            "Epoch 7/200\n",
            "31/31 [==============================] - 4s 120ms/step - loss: 0.0137 - mean_squared_error: 0.0137 - mean_absolute_error: 0.0823 - val_loss: 0.0114 - val_mean_squared_error: 0.0114 - val_mean_absolute_error: 0.0861\n",
            "Epoch 8/200\n",
            "31/31 [==============================] - 4s 119ms/step - loss: 0.0105 - mean_squared_error: 0.0105 - mean_absolute_error: 0.0718 - val_loss: 0.0112 - val_mean_squared_error: 0.0112 - val_mean_absolute_error: 0.0855\n",
            "Epoch 9/200\n",
            "31/31 [==============================] - 4s 119ms/step - loss: 0.0104 - mean_squared_error: 0.0104 - mean_absolute_error: 0.0699 - val_loss: 0.0110 - val_mean_squared_error: 0.0110 - val_mean_absolute_error: 0.0841\n",
            "Epoch 10/200\n",
            "31/31 [==============================] - 4s 115ms/step - loss: 0.0126 - mean_squared_error: 0.0126 - mean_absolute_error: 0.0790 - val_loss: 0.0113 - val_mean_squared_error: 0.0113 - val_mean_absolute_error: 0.0859\n",
            "Epoch 11/200\n",
            "31/31 [==============================] - 4s 115ms/step - loss: 0.0095 - mean_squared_error: 0.0095 - mean_absolute_error: 0.0713 - val_loss: 0.0113 - val_mean_squared_error: 0.0113 - val_mean_absolute_error: 0.0855\n",
            "Epoch 12/200\n",
            "31/31 [==============================] - 4s 112ms/step - loss: 0.0093 - mean_squared_error: 0.0093 - mean_absolute_error: 0.0696 - val_loss: 0.0113 - val_mean_squared_error: 0.0113 - val_mean_absolute_error: 0.0854\n",
            "Epoch 13/200\n",
            "31/31 [==============================] - 4s 118ms/step - loss: 0.0096 - mean_squared_error: 0.0096 - mean_absolute_error: 0.0712 - val_loss: 0.0120 - val_mean_squared_error: 0.0120 - val_mean_absolute_error: 0.0888\n",
            "Epoch 14/200\n",
            "31/31 [==============================] - 4s 117ms/step - loss: 0.0101 - mean_squared_error: 0.0101 - mean_absolute_error: 0.0722 - val_loss: 0.0116 - val_mean_squared_error: 0.0116 - val_mean_absolute_error: 0.0867\n",
            "Epoch 15/200\n",
            "31/31 [==============================] - 4s 118ms/step - loss: 0.0095 - mean_squared_error: 0.0095 - mean_absolute_error: 0.0674 - val_loss: 0.0123 - val_mean_squared_error: 0.0123 - val_mean_absolute_error: 0.0898\n",
            "Epoch 16/200\n",
            "31/31 [==============================] - 4s 118ms/step - loss: 0.0086 - mean_squared_error: 0.0086 - mean_absolute_error: 0.0662 - val_loss: 0.0115 - val_mean_squared_error: 0.0115 - val_mean_absolute_error: 0.0865\n",
            "Epoch 17/200\n",
            "31/31 [==============================] - 4s 117ms/step - loss: 0.0087 - mean_squared_error: 0.0087 - mean_absolute_error: 0.0669 - val_loss: 0.0118 - val_mean_squared_error: 0.0118 - val_mean_absolute_error: 0.0876\n",
            "Epoch 18/200\n",
            "31/31 [==============================] - 4s 117ms/step - loss: 0.0078 - mean_squared_error: 0.0078 - mean_absolute_error: 0.0645 - val_loss: 0.0115 - val_mean_squared_error: 0.0115 - val_mean_absolute_error: 0.0866\n",
            "Epoch 19/200\n",
            "31/31 [==============================] - 4s 124ms/step - loss: 0.0077 - mean_squared_error: 0.0077 - mean_absolute_error: 0.0630 - val_loss: 0.0116 - val_mean_squared_error: 0.0116 - val_mean_absolute_error: 0.0860\n"
          ]
        },
        {
          "output_type": "display_data",
          "data": {
            "text/plain": [
              "<IPython.core.display.HTML object>"
            ],
            "text/html": [
              "<br/>Waiting for W&B process to finish, PID 9372<br/>Program ended successfully."
            ]
          },
          "metadata": {
            "tags": []
          }
        },
        {
          "output_type": "display_data",
          "data": {
            "text/plain": [
              "VBox(children=(Label(value=' 0.42MB of 0.42MB uploaded (0.00MB deduped)\\r'), FloatProgress(value=1.0, max=1.0)…"
            ],
            "application/vnd.jupyter.widget-view+json": {
              "model_id": "4fbf3f7b77bc46229109bb66c555d08d",
              "version_minor": 0,
              "version_major": 2
            }
          },
          "metadata": {
            "tags": []
          }
        },
        {
          "output_type": "display_data",
          "data": {
            "text/plain": [
              "<IPython.core.display.HTML object>"
            ],
            "text/html": [
              "Find user logs for this run at: <code>/content/feeder_repo/wandb/run-20210713_195114-1daqjdkq/logs/debug.log</code>"
            ]
          },
          "metadata": {
            "tags": []
          }
        },
        {
          "output_type": "display_data",
          "data": {
            "text/plain": [
              "<IPython.core.display.HTML object>"
            ],
            "text/html": [
              "Find internal logs for this run at: <code>/content/feeder_repo/wandb/run-20210713_195114-1daqjdkq/logs/debug-internal.log</code>"
            ]
          },
          "metadata": {
            "tags": []
          }
        },
        {
          "output_type": "display_data",
          "data": {
            "text/plain": [
              "<IPython.core.display.HTML object>"
            ],
            "text/html": [
              "<h3>Run summary:</h3><br/><style>\n",
              "    table.wandb td:nth-child(1) { padding: 0 10px; text-align: right }\n",
              "    </style><table class=\"wandb\">\n",
              "<tr><td>epoch</td><td>18</td></tr><tr><td>loss</td><td>0.00813</td></tr><tr><td>mean_squared_error</td><td>0.00813</td></tr><tr><td>mean_absolute_error</td><td>0.06386</td></tr><tr><td>val_loss</td><td>0.01162</td></tr><tr><td>val_mean_squared_error</td><td>0.01162</td></tr><tr><td>val_mean_absolute_error</td><td>0.08601</td></tr><tr><td>_runtime</td><td>81</td></tr><tr><td>_timestamp</td><td>1626205955</td></tr><tr><td>_step</td><td>18</td></tr><tr><td>best_val_loss</td><td>0.01101</td></tr><tr><td>best_epoch</td><td>8</td></tr></table>"
            ]
          },
          "metadata": {
            "tags": []
          }
        },
        {
          "output_type": "display_data",
          "data": {
            "text/plain": [
              "<IPython.core.display.HTML object>"
            ],
            "text/html": [
              "<h3>Run history:</h3><br/><style>\n",
              "    table.wandb td:nth-child(1) { padding: 0 10px; text-align: right }\n",
              "    </style><table class=\"wandb\">\n",
              "<tr><td>epoch</td><td>▁▁▂▂▃▃▃▄▄▅▅▅▆▆▆▇▇██</td></tr><tr><td>loss</td><td>█▃▂▂▁▁▁▁▁▁▁▁▁▁▁▁▁▁▁</td></tr><tr><td>mean_squared_error</td><td>█▃▂▂▁▁▁▁▁▁▁▁▁▁▁▁▁▁▁</td></tr><tr><td>mean_absolute_error</td><td>█▄▃▃▂▂▁▁▁▁▁▁▁▁▁▁▁▁▁</td></tr><tr><td>val_loss</td><td>█▂▂▁▁▁▁▁▁▁▁▁▁▁▁▁▁▁▁</td></tr><tr><td>val_mean_squared_error</td><td>█▂▂▁▁▁▁▁▁▁▁▁▁▁▁▁▁▁▁</td></tr><tr><td>val_mean_absolute_error</td><td>█▃▂▁▁▁▁▁▁▁▁▁▁▁▁▁▁▁▁</td></tr><tr><td>_runtime</td><td>▁▁▂▂▃▃▃▄▄▅▅▅▆▆▆▇▇██</td></tr><tr><td>_timestamp</td><td>▁▁▂▂▃▃▃▄▄▅▅▅▆▆▆▇▇██</td></tr><tr><td>_step</td><td>▁▁▂▂▃▃▃▄▄▅▅▅▆▆▆▇▇██</td></tr></table><br/>"
            ]
          },
          "metadata": {
            "tags": []
          }
        },
        {
          "output_type": "display_data",
          "data": {
            "text/plain": [
              "<IPython.core.display.HTML object>"
            ],
            "text/html": [
              "Synced 5 W&B file(s), 1 media file(s), 2 artifact file(s) and 2 other file(s)"
            ]
          },
          "metadata": {
            "tags": []
          }
        },
        {
          "output_type": "display_data",
          "data": {
            "text/plain": [
              "<IPython.core.display.HTML object>"
            ],
            "text/html": [
              "\n",
              "                    <br/>Synced <strong style=\"color:#cdcd00\">snowy-sweep-32</strong>: <a href=\"https://wandb.ai/acse-jaq15/ACSE_9_GRU/runs/1daqjdkq\" target=\"_blank\">https://wandb.ai/acse-jaq15/ACSE_9_GRU/runs/1daqjdkq</a><br/>\n",
              "                "
            ]
          },
          "metadata": {
            "tags": []
          }
        },
        {
          "output_type": "stream",
          "name": "stderr",
          "text": [
            "\u001b[34m\u001b[1mwandb\u001b[0m: Agent Starting Run: 4bb1ri4z with config:\n",
            "\u001b[34m\u001b[1mwandb\u001b[0m: \tactivation: relu\n",
            "\u001b[34m\u001b[1mwandb\u001b[0m: \tbatch_size: 128\n",
            "\u001b[34m\u001b[1mwandb\u001b[0m: \tdropout: 0.3\n",
            "\u001b[34m\u001b[1mwandb\u001b[0m: \tepochs: 100\n",
            "\u001b[34m\u001b[1mwandb\u001b[0m: \thidden_size: 25\n",
            "\u001b[34m\u001b[1mwandb\u001b[0m: \tinput_size: 25\n",
            "\u001b[34m\u001b[1mwandb\u001b[0m: \tlearning_rate: 0.001\n",
            "\u001b[34m\u001b[1mwandb\u001b[0m: \toptimizer: nadam\n"
          ]
        },
        {
          "output_type": "display_data",
          "data": {
            "text/plain": [
              "<IPython.core.display.HTML object>"
            ],
            "text/html": [
              "\n",
              "                Tracking run with wandb version 0.10.33<br/>\n",
              "                Syncing run <strong style=\"color:#cdcd00\">floral-sweep-33</strong> to <a href=\"https://wandb.ai\" target=\"_blank\">Weights & Biases</a> <a href=\"https://docs.wandb.com/integrations/jupyter.html\" target=\"_blank\">(Documentation)</a>.<br/>\n",
              "                Project page: <a href=\"https://wandb.ai/acse-jaq15/ACSE_9_GRU\" target=\"_blank\">https://wandb.ai/acse-jaq15/ACSE_9_GRU</a><br/>\n",
              "                Sweep page: <a href=\"https://wandb.ai/acse-jaq15/ACSE_9_GRU/sweeps/ge9tsbmx\" target=\"_blank\">https://wandb.ai/acse-jaq15/ACSE_9_GRU/sweeps/ge9tsbmx</a><br/>\n",
              "Run page: <a href=\"https://wandb.ai/acse-jaq15/ACSE_9_GRU/runs/4bb1ri4z\" target=\"_blank\">https://wandb.ai/acse-jaq15/ACSE_9_GRU/runs/4bb1ri4z</a><br/>\n",
              "                Run data is saved locally in <code>/content/feeder_repo/wandb/run-20210713_195254-4bb1ri4z</code><br/><br/>\n",
              "            "
            ]
          },
          "metadata": {
            "tags": []
          }
        },
        {
          "output_type": "stream",
          "name": "stdout",
          "text": [
            "WARNING:tensorflow:Layer gru will not use cuDNN kernels since it doesn't meet the criteria. It will use a generic GPU kernel as fallback when running on GPU.\n",
            "Epoch 1/100\n",
            "8/8 [==============================] - 7s 288ms/step - loss: 0.1577 - mean_squared_error: 0.1577 - mean_absolute_error: 0.3165 - val_loss: 0.1067 - val_mean_squared_error: 0.1067 - val_mean_absolute_error: 0.2703\n",
            "Epoch 2/100\n",
            "8/8 [==============================] - 1s 126ms/step - loss: 0.0744 - mean_squared_error: 0.0744 - mean_absolute_error: 0.2074 - val_loss: 0.0367 - val_mean_squared_error: 0.0367 - val_mean_absolute_error: 0.1519\n",
            "Epoch 3/100\n",
            "8/8 [==============================] - 1s 111ms/step - loss: 0.0315 - mean_squared_error: 0.0315 - mean_absolute_error: 0.1406 - val_loss: 0.0182 - val_mean_squared_error: 0.0182 - val_mean_absolute_error: 0.1123\n",
            "Epoch 4/100\n",
            "8/8 [==============================] - 1s 107ms/step - loss: 0.0222 - mean_squared_error: 0.0222 - mean_absolute_error: 0.1230 - val_loss: 0.0126 - val_mean_squared_error: 0.0126 - val_mean_absolute_error: 0.0915\n",
            "Epoch 5/100\n",
            "8/8 [==============================] - 1s 114ms/step - loss: 0.0124 - mean_squared_error: 0.0124 - mean_absolute_error: 0.0848 - val_loss: 0.0101 - val_mean_squared_error: 0.0101 - val_mean_absolute_error: 0.0820\n",
            "Epoch 6/100\n",
            "8/8 [==============================] - 1s 116ms/step - loss: 0.0108 - mean_squared_error: 0.0108 - mean_absolute_error: 0.0757 - val_loss: 0.0093 - val_mean_squared_error: 0.0093 - val_mean_absolute_error: 0.0767\n",
            "Epoch 7/100\n",
            "8/8 [==============================] - 1s 114ms/step - loss: 0.0119 - mean_squared_error: 0.0119 - mean_absolute_error: 0.0792 - val_loss: 0.0091 - val_mean_squared_error: 0.0091 - val_mean_absolute_error: 0.0767\n",
            "Epoch 8/100\n",
            "8/8 [==============================] - 1s 114ms/step - loss: 0.0090 - mean_squared_error: 0.0090 - mean_absolute_error: 0.0681 - val_loss: 0.0091 - val_mean_squared_error: 0.0091 - val_mean_absolute_error: 0.0756\n",
            "Epoch 9/100\n",
            "8/8 [==============================] - 1s 111ms/step - loss: 0.0104 - mean_squared_error: 0.0104 - mean_absolute_error: 0.0718 - val_loss: 0.0090 - val_mean_squared_error: 0.0090 - val_mean_absolute_error: 0.0754\n",
            "Epoch 10/100\n",
            "8/8 [==============================] - 1s 114ms/step - loss: 0.0091 - mean_squared_error: 0.0091 - mean_absolute_error: 0.0680 - val_loss: 0.0090 - val_mean_squared_error: 0.0090 - val_mean_absolute_error: 0.0761\n",
            "Epoch 11/100\n",
            "8/8 [==============================] - 1s 117ms/step - loss: 0.0093 - mean_squared_error: 0.0093 - mean_absolute_error: 0.0681 - val_loss: 0.0090 - val_mean_squared_error: 0.0090 - val_mean_absolute_error: 0.0758\n",
            "Epoch 12/100\n",
            "8/8 [==============================] - 1s 118ms/step - loss: 0.0089 - mean_squared_error: 0.0089 - mean_absolute_error: 0.0665 - val_loss: 0.0090 - val_mean_squared_error: 0.0090 - val_mean_absolute_error: 0.0754\n",
            "Epoch 13/100\n",
            "8/8 [==============================] - 1s 121ms/step - loss: 0.0083 - mean_squared_error: 0.0083 - mean_absolute_error: 0.0639 - val_loss: 0.0091 - val_mean_squared_error: 0.0091 - val_mean_absolute_error: 0.0765\n",
            "Epoch 14/100\n",
            "8/8 [==============================] - 1s 124ms/step - loss: 0.0079 - mean_squared_error: 0.0079 - mean_absolute_error: 0.0625 - val_loss: 0.0089 - val_mean_squared_error: 0.0089 - val_mean_absolute_error: 0.0754\n",
            "Epoch 15/100\n",
            "8/8 [==============================] - 1s 117ms/step - loss: 0.0065 - mean_squared_error: 0.0065 - mean_absolute_error: 0.0582 - val_loss: 0.0093 - val_mean_squared_error: 0.0093 - val_mean_absolute_error: 0.0760\n",
            "Epoch 16/100\n",
            "8/8 [==============================] - 1s 115ms/step - loss: 0.0080 - mean_squared_error: 0.0080 - mean_absolute_error: 0.0627 - val_loss: 0.0090 - val_mean_squared_error: 0.0090 - val_mean_absolute_error: 0.0757\n",
            "Epoch 17/100\n",
            "8/8 [==============================] - 1s 113ms/step - loss: 0.0075 - mean_squared_error: 0.0075 - mean_absolute_error: 0.0608 - val_loss: 0.0090 - val_mean_squared_error: 0.0090 - val_mean_absolute_error: 0.0751\n",
            "Epoch 18/100\n",
            "8/8 [==============================] - 1s 117ms/step - loss: 0.0073 - mean_squared_error: 0.0073 - mean_absolute_error: 0.0611 - val_loss: 0.0091 - val_mean_squared_error: 0.0091 - val_mean_absolute_error: 0.0767\n",
            "Epoch 19/100\n",
            "8/8 [==============================] - 1s 124ms/step - loss: 0.0075 - mean_squared_error: 0.0075 - mean_absolute_error: 0.0604 - val_loss: 0.0090 - val_mean_squared_error: 0.0090 - val_mean_absolute_error: 0.0753\n",
            "Epoch 20/100\n",
            "8/8 [==============================] - 1s 114ms/step - loss: 0.0057 - mean_squared_error: 0.0057 - mean_absolute_error: 0.0541 - val_loss: 0.0089 - val_mean_squared_error: 0.0089 - val_mean_absolute_error: 0.0754\n",
            "Epoch 21/100\n",
            "8/8 [==============================] - 1s 120ms/step - loss: 0.0068 - mean_squared_error: 0.0068 - mean_absolute_error: 0.0594 - val_loss: 0.0090 - val_mean_squared_error: 0.0090 - val_mean_absolute_error: 0.0763\n",
            "Epoch 22/100\n",
            "8/8 [==============================] - 1s 113ms/step - loss: 0.0060 - mean_squared_error: 0.0060 - mean_absolute_error: 0.0543 - val_loss: 0.0090 - val_mean_squared_error: 0.0090 - val_mean_absolute_error: 0.0753\n",
            "Epoch 23/100\n",
            "8/8 [==============================] - 1s 113ms/step - loss: 0.0074 - mean_squared_error: 0.0074 - mean_absolute_error: 0.0614 - val_loss: 0.0092 - val_mean_squared_error: 0.0092 - val_mean_absolute_error: 0.0754\n",
            "Epoch 24/100\n",
            "8/8 [==============================] - 1s 114ms/step - loss: 0.0067 - mean_squared_error: 0.0067 - mean_absolute_error: 0.0555 - val_loss: 0.0097 - val_mean_squared_error: 0.0097 - val_mean_absolute_error: 0.0796\n",
            "Epoch 25/100\n",
            "8/8 [==============================] - 1s 118ms/step - loss: 0.0080 - mean_squared_error: 0.0080 - mean_absolute_error: 0.0614 - val_loss: 0.0090 - val_mean_squared_error: 0.0090 - val_mean_absolute_error: 0.0757\n",
            "Epoch 26/100\n",
            "8/8 [==============================] - 1s 122ms/step - loss: 0.0061 - mean_squared_error: 0.0061 - mean_absolute_error: 0.0551 - val_loss: 0.0090 - val_mean_squared_error: 0.0090 - val_mean_absolute_error: 0.0759\n",
            "Epoch 27/100\n",
            "8/8 [==============================] - 1s 126ms/step - loss: 0.0061 - mean_squared_error: 0.0061 - mean_absolute_error: 0.0572 - val_loss: 0.0090 - val_mean_squared_error: 0.0090 - val_mean_absolute_error: 0.0758\n",
            "Epoch 28/100\n",
            "8/8 [==============================] - 1s 118ms/step - loss: 0.0067 - mean_squared_error: 0.0067 - mean_absolute_error: 0.0570 - val_loss: 0.0097 - val_mean_squared_error: 0.0097 - val_mean_absolute_error: 0.0771\n",
            "Epoch 29/100\n",
            "8/8 [==============================] - 1s 129ms/step - loss: 0.0069 - mean_squared_error: 0.0069 - mean_absolute_error: 0.0592 - val_loss: 0.0090 - val_mean_squared_error: 0.0090 - val_mean_absolute_error: 0.0754\n",
            "Epoch 30/100\n",
            "8/8 [==============================] - 1s 120ms/step - loss: 0.0055 - mean_squared_error: 0.0055 - mean_absolute_error: 0.0513 - val_loss: 0.0091 - val_mean_squared_error: 0.0091 - val_mean_absolute_error: 0.0756\n"
          ]
        },
        {
          "output_type": "display_data",
          "data": {
            "text/plain": [
              "<IPython.core.display.HTML object>"
            ],
            "text/html": [
              "<br/>Waiting for W&B process to finish, PID 9504<br/>Program ended successfully."
            ]
          },
          "metadata": {
            "tags": []
          }
        },
        {
          "output_type": "display_data",
          "data": {
            "text/plain": [
              "VBox(children=(Label(value=' 0.44MB of 0.44MB uploaded (0.00MB deduped)\\r'), FloatProgress(value=1.0, max=1.0)…"
            ],
            "application/vnd.jupyter.widget-view+json": {
              "model_id": "ef77a1eaee4a4cd2863d11c833f2eac4",
              "version_minor": 0,
              "version_major": 2
            }
          },
          "metadata": {
            "tags": []
          }
        },
        {
          "output_type": "display_data",
          "data": {
            "text/plain": [
              "<IPython.core.display.HTML object>"
            ],
            "text/html": [
              "Find user logs for this run at: <code>/content/feeder_repo/wandb/run-20210713_195254-4bb1ri4z/logs/debug.log</code>"
            ]
          },
          "metadata": {
            "tags": []
          }
        },
        {
          "output_type": "display_data",
          "data": {
            "text/plain": [
              "<IPython.core.display.HTML object>"
            ],
            "text/html": [
              "Find internal logs for this run at: <code>/content/feeder_repo/wandb/run-20210713_195254-4bb1ri4z/logs/debug-internal.log</code>"
            ]
          },
          "metadata": {
            "tags": []
          }
        },
        {
          "output_type": "display_data",
          "data": {
            "text/plain": [
              "<IPython.core.display.HTML object>"
            ],
            "text/html": [
              "<h3>Run summary:</h3><br/><style>\n",
              "    table.wandb td:nth-child(1) { padding: 0 10px; text-align: right }\n",
              "    </style><table class=\"wandb\">\n",
              "<tr><td>epoch</td><td>29</td></tr><tr><td>loss</td><td>0.00537</td></tr><tr><td>mean_squared_error</td><td>0.00537</td></tr><tr><td>mean_absolute_error</td><td>0.05122</td></tr><tr><td>val_loss</td><td>0.00911</td></tr><tr><td>val_mean_squared_error</td><td>0.00911</td></tr><tr><td>val_mean_absolute_error</td><td>0.07557</td></tr><tr><td>_runtime</td><td>40</td></tr><tr><td>_timestamp</td><td>1626206014</td></tr><tr><td>_step</td><td>29</td></tr><tr><td>best_val_loss</td><td>0.00893</td></tr><tr><td>best_epoch</td><td>19</td></tr></table>"
            ]
          },
          "metadata": {
            "tags": []
          }
        },
        {
          "output_type": "display_data",
          "data": {
            "text/plain": [
              "<IPython.core.display.HTML object>"
            ],
            "text/html": [
              "<h3>Run history:</h3><br/><style>\n",
              "    table.wandb td:nth-child(1) { padding: 0 10px; text-align: right }\n",
              "    </style><table class=\"wandb\">\n",
              "<tr><td>epoch</td><td>▁▁▁▂▂▂▂▃▃▃▃▄▄▄▄▅▅▅▅▆▆▆▆▇▇▇▇███</td></tr><tr><td>loss</td><td>█▄▂▂▁▁▁▁▁▁▁▁▁▁▁▁▁▁▁▁▁▁▁▁▁▁▁▁▁▁</td></tr><tr><td>mean_squared_error</td><td>█▄▂▂▁▁▁▁▁▁▁▁▁▁▁▁▁▁▁▁▁▁▁▁▁▁▁▁▁▁</td></tr><tr><td>mean_absolute_error</td><td>█▅▄▃▂▂▂▁▂▁▁▁▁▁▁▁▁▁▁▁▁▁▁▁▁▁▁▁▁▁</td></tr><tr><td>val_loss</td><td>█▃▂▁▁▁▁▁▁▁▁▁▁▁▁▁▁▁▁▁▁▁▁▁▁▁▁▁▁▁</td></tr><tr><td>val_mean_squared_error</td><td>█▃▂▁▁▁▁▁▁▁▁▁▁▁▁▁▁▁▁▁▁▁▁▁▁▁▁▁▁▁</td></tr><tr><td>val_mean_absolute_error</td><td>█▄▂▂▁▁▁▁▁▁▁▁▁▁▁▁▁▁▁▁▁▁▁▁▁▁▁▁▁▁</td></tr><tr><td>_runtime</td><td>▁▁▁▂▂▂▃▃▃▃▃▃▄▄▄▅▅▅▅▅▆▆▆▇▇▇▇▇██</td></tr><tr><td>_timestamp</td><td>▁▁▁▂▂▂▃▃▃▃▃▃▄▄▄▅▅▅▅▅▆▆▆▇▇▇▇▇██</td></tr><tr><td>_step</td><td>▁▁▁▂▂▂▂▃▃▃▃▄▄▄▄▅▅▅▅▆▆▆▆▇▇▇▇███</td></tr></table><br/>"
            ]
          },
          "metadata": {
            "tags": []
          }
        },
        {
          "output_type": "display_data",
          "data": {
            "text/plain": [
              "<IPython.core.display.HTML object>"
            ],
            "text/html": [
              "Synced 5 W&B file(s), 1 media file(s), 2 artifact file(s) and 2 other file(s)"
            ]
          },
          "metadata": {
            "tags": []
          }
        },
        {
          "output_type": "display_data",
          "data": {
            "text/plain": [
              "<IPython.core.display.HTML object>"
            ],
            "text/html": [
              "\n",
              "                    <br/>Synced <strong style=\"color:#cdcd00\">floral-sweep-33</strong>: <a href=\"https://wandb.ai/acse-jaq15/ACSE_9_GRU/runs/4bb1ri4z\" target=\"_blank\">https://wandb.ai/acse-jaq15/ACSE_9_GRU/runs/4bb1ri4z</a><br/>\n",
              "                "
            ]
          },
          "metadata": {
            "tags": []
          }
        },
        {
          "output_type": "stream",
          "name": "stderr",
          "text": [
            "\u001b[34m\u001b[1mwandb\u001b[0m: Agent Starting Run: esohj3uu with config:\n",
            "\u001b[34m\u001b[1mwandb\u001b[0m: \tactivation: selu\n",
            "\u001b[34m\u001b[1mwandb\u001b[0m: \tbatch_size: 32\n",
            "\u001b[34m\u001b[1mwandb\u001b[0m: \tdropout: 0.3\n",
            "\u001b[34m\u001b[1mwandb\u001b[0m: \tepochs: 100\n",
            "\u001b[34m\u001b[1mwandb\u001b[0m: \thidden_size: 100\n",
            "\u001b[34m\u001b[1mwandb\u001b[0m: \tinput_size: 25\n",
            "\u001b[34m\u001b[1mwandb\u001b[0m: \tlearning_rate: 0.005\n",
            "\u001b[34m\u001b[1mwandb\u001b[0m: \toptimizer: sgd\n"
          ]
        },
        {
          "output_type": "display_data",
          "data": {
            "text/plain": [
              "<IPython.core.display.HTML object>"
            ],
            "text/html": [
              "\n",
              "                Tracking run with wandb version 0.10.33<br/>\n",
              "                Syncing run <strong style=\"color:#cdcd00\">splendid-sweep-34</strong> to <a href=\"https://wandb.ai\" target=\"_blank\">Weights & Biases</a> <a href=\"https://docs.wandb.com/integrations/jupyter.html\" target=\"_blank\">(Documentation)</a>.<br/>\n",
              "                Project page: <a href=\"https://wandb.ai/acse-jaq15/ACSE_9_GRU\" target=\"_blank\">https://wandb.ai/acse-jaq15/ACSE_9_GRU</a><br/>\n",
              "                Sweep page: <a href=\"https://wandb.ai/acse-jaq15/ACSE_9_GRU/sweeps/ge9tsbmx\" target=\"_blank\">https://wandb.ai/acse-jaq15/ACSE_9_GRU/sweeps/ge9tsbmx</a><br/>\n",
              "Run page: <a href=\"https://wandb.ai/acse-jaq15/ACSE_9_GRU/runs/esohj3uu\" target=\"_blank\">https://wandb.ai/acse-jaq15/ACSE_9_GRU/runs/esohj3uu</a><br/>\n",
              "                Run data is saved locally in <code>/content/feeder_repo/wandb/run-20210713_195352-esohj3uu</code><br/><br/>\n",
              "            "
            ]
          },
          "metadata": {
            "tags": []
          }
        },
        {
          "output_type": "stream",
          "name": "stdout",
          "text": [
            "WARNING:tensorflow:Layer gru will not use cuDNN kernels since it doesn't meet the criteria. It will use a generic GPU kernel as fallback when running on GPU.\n",
            "Epoch 1/100\n",
            "31/31 [==============================] - 10s 156ms/step - loss: 0.0721 - mean_squared_error: 0.0721 - mean_absolute_error: 0.2093 - val_loss: 0.0120 - val_mean_squared_error: 0.0120 - val_mean_absolute_error: 0.0891\n",
            "Epoch 2/100\n",
            "31/31 [==============================] - 4s 113ms/step - loss: 0.0084 - mean_squared_error: 0.0084 - mean_absolute_error: 0.0719 - val_loss: 0.0082 - val_mean_squared_error: 0.0082 - val_mean_absolute_error: 0.0709\n",
            "Epoch 3/100\n",
            "31/31 [==============================] - 4s 119ms/step - loss: 0.0049 - mean_squared_error: 0.0049 - mean_absolute_error: 0.0487 - val_loss: 0.0080 - val_mean_squared_error: 0.0080 - val_mean_absolute_error: 0.0710\n",
            "Epoch 4/100\n",
            "31/31 [==============================] - 4s 115ms/step - loss: 0.0043 - mean_squared_error: 0.0043 - mean_absolute_error: 0.0475 - val_loss: 0.0080 - val_mean_squared_error: 0.0080 - val_mean_absolute_error: 0.0707\n",
            "Epoch 5/100\n",
            "31/31 [==============================] - 3s 112ms/step - loss: 0.0041 - mean_squared_error: 0.0041 - mean_absolute_error: 0.0464 - val_loss: 0.0081 - val_mean_squared_error: 0.0081 - val_mean_absolute_error: 0.0712\n",
            "Epoch 6/100\n",
            "31/31 [==============================] - 4s 116ms/step - loss: 0.0043 - mean_squared_error: 0.0043 - mean_absolute_error: 0.0469 - val_loss: 0.0082 - val_mean_squared_error: 0.0082 - val_mean_absolute_error: 0.0722\n",
            "Epoch 7/100\n",
            "31/31 [==============================] - 4s 120ms/step - loss: 0.0041 - mean_squared_error: 0.0041 - mean_absolute_error: 0.0461 - val_loss: 0.0080 - val_mean_squared_error: 0.0080 - val_mean_absolute_error: 0.0708\n",
            "Epoch 8/100\n",
            "31/31 [==============================] - 4s 116ms/step - loss: 0.0040 - mean_squared_error: 0.0040 - mean_absolute_error: 0.0444 - val_loss: 0.0080 - val_mean_squared_error: 0.0080 - val_mean_absolute_error: 0.0712\n",
            "Epoch 9/100\n",
            "31/31 [==============================] - 4s 117ms/step - loss: 0.0032 - mean_squared_error: 0.0032 - mean_absolute_error: 0.0418 - val_loss: 0.0081 - val_mean_squared_error: 0.0081 - val_mean_absolute_error: 0.0714\n",
            "Epoch 10/100\n",
            "31/31 [==============================] - 3s 112ms/step - loss: 0.0037 - mean_squared_error: 0.0037 - mean_absolute_error: 0.0427 - val_loss: 0.0081 - val_mean_squared_error: 0.0081 - val_mean_absolute_error: 0.0715\n",
            "Epoch 11/100\n",
            "31/31 [==============================] - 4s 118ms/step - loss: 0.0034 - mean_squared_error: 0.0034 - mean_absolute_error: 0.0417 - val_loss: 0.0081 - val_mean_squared_error: 0.0081 - val_mean_absolute_error: 0.0715\n",
            "Epoch 12/100\n",
            "31/31 [==============================] - 4s 116ms/step - loss: 0.0029 - mean_squared_error: 0.0029 - mean_absolute_error: 0.0398 - val_loss: 0.0080 - val_mean_squared_error: 0.0080 - val_mean_absolute_error: 0.0712\n",
            "Epoch 13/100\n",
            "31/31 [==============================] - 4s 117ms/step - loss: 0.0030 - mean_squared_error: 0.0030 - mean_absolute_error: 0.0398 - val_loss: 0.0080 - val_mean_squared_error: 0.0080 - val_mean_absolute_error: 0.0710\n",
            "Epoch 14/100\n",
            "31/31 [==============================] - 4s 115ms/step - loss: 0.0034 - mean_squared_error: 0.0034 - mean_absolute_error: 0.0426 - val_loss: 0.0081 - val_mean_squared_error: 0.0081 - val_mean_absolute_error: 0.0713\n",
            "Epoch 15/100\n",
            "31/31 [==============================] - 4s 116ms/step - loss: 0.0030 - mean_squared_error: 0.0030 - mean_absolute_error: 0.0404 - val_loss: 0.0080 - val_mean_squared_error: 0.0080 - val_mean_absolute_error: 0.0712\n",
            "Epoch 16/100\n",
            "31/31 [==============================] - 4s 118ms/step - loss: 0.0026 - mean_squared_error: 0.0026 - mean_absolute_error: 0.0384 - val_loss: 0.0080 - val_mean_squared_error: 0.0080 - val_mean_absolute_error: 0.0708\n",
            "Epoch 17/100\n",
            "31/31 [==============================] - 4s 116ms/step - loss: 0.0033 - mean_squared_error: 0.0033 - mean_absolute_error: 0.0427 - val_loss: 0.0080 - val_mean_squared_error: 0.0080 - val_mean_absolute_error: 0.0709\n"
          ]
        },
        {
          "output_type": "display_data",
          "data": {
            "text/plain": [
              "<IPython.core.display.HTML object>"
            ],
            "text/html": [
              "<br/>Waiting for W&B process to finish, PID 9659<br/>Program ended successfully."
            ]
          },
          "metadata": {
            "tags": []
          }
        },
        {
          "output_type": "display_data",
          "data": {
            "text/plain": [
              "VBox(children=(Label(value=' 0.69MB of 0.69MB uploaded (0.00MB deduped)\\r'), FloatProgress(value=1.0, max=1.0)…"
            ],
            "application/vnd.jupyter.widget-view+json": {
              "model_id": "ad8c92346fcb4d6e877fc6d994bf1221",
              "version_minor": 0,
              "version_major": 2
            }
          },
          "metadata": {
            "tags": []
          }
        },
        {
          "output_type": "display_data",
          "data": {
            "text/plain": [
              "<IPython.core.display.HTML object>"
            ],
            "text/html": [
              "Find user logs for this run at: <code>/content/feeder_repo/wandb/run-20210713_195352-esohj3uu/logs/debug.log</code>"
            ]
          },
          "metadata": {
            "tags": []
          }
        },
        {
          "output_type": "display_data",
          "data": {
            "text/plain": [
              "<IPython.core.display.HTML object>"
            ],
            "text/html": [
              "Find internal logs for this run at: <code>/content/feeder_repo/wandb/run-20210713_195352-esohj3uu/logs/debug-internal.log</code>"
            ]
          },
          "metadata": {
            "tags": []
          }
        },
        {
          "output_type": "display_data",
          "data": {
            "text/plain": [
              "<IPython.core.display.HTML object>"
            ],
            "text/html": [
              "<h3>Run summary:</h3><br/><style>\n",
              "    table.wandb td:nth-child(1) { padding: 0 10px; text-align: right }\n",
              "    </style><table class=\"wandb\">\n",
              "<tr><td>epoch</td><td>16</td></tr><tr><td>loss</td><td>0.00302</td></tr><tr><td>mean_squared_error</td><td>0.00302</td></tr><tr><td>mean_absolute_error</td><td>0.04093</td></tr><tr><td>val_loss</td><td>0.00799</td></tr><tr><td>val_mean_squared_error</td><td>0.00799</td></tr><tr><td>val_mean_absolute_error</td><td>0.0709</td></tr><tr><td>_runtime</td><td>73</td></tr><tr><td>_timestamp</td><td>1626206105</td></tr><tr><td>_step</td><td>16</td></tr><tr><td>best_val_loss</td><td>0.00796</td></tr><tr><td>best_epoch</td><td>6</td></tr></table>"
            ]
          },
          "metadata": {
            "tags": []
          }
        },
        {
          "output_type": "display_data",
          "data": {
            "text/plain": [
              "<IPython.core.display.HTML object>"
            ],
            "text/html": [
              "<h3>Run history:</h3><br/><style>\n",
              "    table.wandb td:nth-child(1) { padding: 0 10px; text-align: right }\n",
              "    </style><table class=\"wandb\">\n",
              "<tr><td>epoch</td><td>▁▁▂▂▃▃▄▄▅▅▅▆▆▇▇██</td></tr><tr><td>loss</td><td>█▂▁▁▁▁▁▁▁▁▁▁▁▁▁▁▁</td></tr><tr><td>mean_squared_error</td><td>█▂▁▁▁▁▁▁▁▁▁▁▁▁▁▁▁</td></tr><tr><td>mean_absolute_error</td><td>█▂▂▁▁▁▁▁▁▁▁▁▁▁▁▁▁</td></tr><tr><td>val_loss</td><td>█▁▁▁▁▁▁▁▁▁▁▁▁▁▁▁▁</td></tr><tr><td>val_mean_squared_error</td><td>█▁▁▁▁▁▁▁▁▁▁▁▁▁▁▁▁</td></tr><tr><td>val_mean_absolute_error</td><td>█▁▁▁▁▂▁▁▁▁▁▁▁▁▁▁▁</td></tr><tr><td>_runtime</td><td>▁▁▂▂▃▃▄▄▅▅▅▆▆▇▇██</td></tr><tr><td>_timestamp</td><td>▁▁▂▂▃▃▄▄▅▅▅▆▆▇▇██</td></tr><tr><td>_step</td><td>▁▁▂▂▃▃▄▄▅▅▅▆▆▇▇██</td></tr></table><br/>"
            ]
          },
          "metadata": {
            "tags": []
          }
        },
        {
          "output_type": "display_data",
          "data": {
            "text/plain": [
              "<IPython.core.display.HTML object>"
            ],
            "text/html": [
              "Synced 5 W&B file(s), 1 media file(s), 2 artifact file(s) and 2 other file(s)"
            ]
          },
          "metadata": {
            "tags": []
          }
        },
        {
          "output_type": "display_data",
          "data": {
            "text/plain": [
              "<IPython.core.display.HTML object>"
            ],
            "text/html": [
              "\n",
              "                    <br/>Synced <strong style=\"color:#cdcd00\">splendid-sweep-34</strong>: <a href=\"https://wandb.ai/acse-jaq15/ACSE_9_GRU/runs/esohj3uu\" target=\"_blank\">https://wandb.ai/acse-jaq15/ACSE_9_GRU/runs/esohj3uu</a><br/>\n",
              "                "
            ]
          },
          "metadata": {
            "tags": []
          }
        },
        {
          "output_type": "stream",
          "name": "stderr",
          "text": [
            "\u001b[34m\u001b[1mwandb\u001b[0m: Agent Starting Run: hzw55289 with config:\n",
            "\u001b[34m\u001b[1mwandb\u001b[0m: \tactivation: relu\n",
            "\u001b[34m\u001b[1mwandb\u001b[0m: \tbatch_size: 64\n",
            "\u001b[34m\u001b[1mwandb\u001b[0m: \tdropout: 0.4\n",
            "\u001b[34m\u001b[1mwandb\u001b[0m: \tepochs: 100\n",
            "\u001b[34m\u001b[1mwandb\u001b[0m: \thidden_size: 50\n",
            "\u001b[34m\u001b[1mwandb\u001b[0m: \tinput_size: 50\n",
            "\u001b[34m\u001b[1mwandb\u001b[0m: \tlearning_rate: 0.0005\n",
            "\u001b[34m\u001b[1mwandb\u001b[0m: \toptimizer: sgd\n"
          ]
        },
        {
          "output_type": "display_data",
          "data": {
            "text/plain": [
              "<IPython.core.display.HTML object>"
            ],
            "text/html": [
              "\n",
              "                Tracking run with wandb version 0.10.33<br/>\n",
              "                Syncing run <strong style=\"color:#cdcd00\">dazzling-sweep-35</strong> to <a href=\"https://wandb.ai\" target=\"_blank\">Weights & Biases</a> <a href=\"https://docs.wandb.com/integrations/jupyter.html\" target=\"_blank\">(Documentation)</a>.<br/>\n",
              "                Project page: <a href=\"https://wandb.ai/acse-jaq15/ACSE_9_GRU\" target=\"_blank\">https://wandb.ai/acse-jaq15/ACSE_9_GRU</a><br/>\n",
              "                Sweep page: <a href=\"https://wandb.ai/acse-jaq15/ACSE_9_GRU/sweeps/ge9tsbmx\" target=\"_blank\">https://wandb.ai/acse-jaq15/ACSE_9_GRU/sweeps/ge9tsbmx</a><br/>\n",
              "Run page: <a href=\"https://wandb.ai/acse-jaq15/ACSE_9_GRU/runs/hzw55289\" target=\"_blank\">https://wandb.ai/acse-jaq15/ACSE_9_GRU/runs/hzw55289</a><br/>\n",
              "                Run data is saved locally in <code>/content/feeder_repo/wandb/run-20210713_195513-hzw55289</code><br/><br/>\n",
              "            "
            ]
          },
          "metadata": {
            "tags": []
          }
        },
        {
          "output_type": "stream",
          "name": "stdout",
          "text": [
            "WARNING:tensorflow:Layer gru will not use cuDNN kernels since it doesn't meet the criteria. It will use a generic GPU kernel as fallback when running on GPU.\n",
            "Epoch 1/100\n",
            "16/16 [==============================] - 8s 199ms/step - loss: 0.2411 - mean_squared_error: 0.2411 - mean_absolute_error: 0.3989 - val_loss: 0.1690 - val_mean_squared_error: 0.1690 - val_mean_absolute_error: 0.3332\n",
            "Epoch 2/100\n",
            "16/16 [==============================] - 2s 116ms/step - loss: 0.1224 - mean_squared_error: 0.1224 - mean_absolute_error: 0.2724 - val_loss: 0.0826 - val_mean_squared_error: 0.0826 - val_mean_absolute_error: 0.2239\n",
            "Epoch 3/100\n",
            "16/16 [==============================] - 2s 114ms/step - loss: 0.0828 - mean_squared_error: 0.0828 - mean_absolute_error: 0.2384 - val_loss: 0.0599 - val_mean_squared_error: 0.0599 - val_mean_absolute_error: 0.1982\n",
            "Epoch 4/100\n",
            "16/16 [==============================] - 2s 111ms/step - loss: 0.0677 - mean_squared_error: 0.0677 - mean_absolute_error: 0.2210 - val_loss: 0.0548 - val_mean_squared_error: 0.0548 - val_mean_absolute_error: 0.1926\n",
            "Epoch 5/100\n",
            "16/16 [==============================] - 2s 117ms/step - loss: 0.0665 - mean_squared_error: 0.0665 - mean_absolute_error: 0.2151 - val_loss: 0.0525 - val_mean_squared_error: 0.0525 - val_mean_absolute_error: 0.1892\n",
            "Epoch 6/100\n",
            "16/16 [==============================] - 2s 116ms/step - loss: 0.0648 - mean_squared_error: 0.0648 - mean_absolute_error: 0.2173 - val_loss: 0.0517 - val_mean_squared_error: 0.0517 - val_mean_absolute_error: 0.1863\n",
            "Epoch 7/100\n",
            "16/16 [==============================] - 2s 115ms/step - loss: 0.0629 - mean_squared_error: 0.0629 - mean_absolute_error: 0.2128 - val_loss: 0.0502 - val_mean_squared_error: 0.0502 - val_mean_absolute_error: 0.1833\n",
            "Epoch 8/100\n",
            "16/16 [==============================] - 2s 113ms/step - loss: 0.0578 - mean_squared_error: 0.0578 - mean_absolute_error: 0.2053 - val_loss: 0.0483 - val_mean_squared_error: 0.0483 - val_mean_absolute_error: 0.1802\n",
            "Epoch 9/100\n",
            "16/16 [==============================] - 2s 113ms/step - loss: 0.0585 - mean_squared_error: 0.0585 - mean_absolute_error: 0.2020 - val_loss: 0.0469 - val_mean_squared_error: 0.0469 - val_mean_absolute_error: 0.1775\n",
            "Epoch 10/100\n",
            "16/16 [==============================] - 2s 120ms/step - loss: 0.0580 - mean_squared_error: 0.0580 - mean_absolute_error: 0.2026 - val_loss: 0.0453 - val_mean_squared_error: 0.0453 - val_mean_absolute_error: 0.1747\n",
            "Epoch 11/100\n",
            "16/16 [==============================] - 2s 115ms/step - loss: 0.0560 - mean_squared_error: 0.0560 - mean_absolute_error: 0.1973 - val_loss: 0.0444 - val_mean_squared_error: 0.0444 - val_mean_absolute_error: 0.1723\n",
            "Epoch 12/100\n",
            "16/16 [==============================] - 2s 121ms/step - loss: 0.0544 - mean_squared_error: 0.0544 - mean_absolute_error: 0.1960 - val_loss: 0.0429 - val_mean_squared_error: 0.0429 - val_mean_absolute_error: 0.1694\n",
            "Epoch 13/100\n",
            "16/16 [==============================] - 2s 117ms/step - loss: 0.0498 - mean_squared_error: 0.0498 - mean_absolute_error: 0.1876 - val_loss: 0.0414 - val_mean_squared_error: 0.0414 - val_mean_absolute_error: 0.1666\n",
            "Epoch 14/100\n",
            "16/16 [==============================] - 2s 120ms/step - loss: 0.0494 - mean_squared_error: 0.0494 - mean_absolute_error: 0.1843 - val_loss: 0.0399 - val_mean_squared_error: 0.0399 - val_mean_absolute_error: 0.1637\n",
            "Epoch 15/100\n",
            "16/16 [==============================] - 2s 121ms/step - loss: 0.0457 - mean_squared_error: 0.0457 - mean_absolute_error: 0.1798 - val_loss: 0.0387 - val_mean_squared_error: 0.0387 - val_mean_absolute_error: 0.1613\n",
            "Epoch 16/100\n",
            "16/16 [==============================] - 2s 117ms/step - loss: 0.0440 - mean_squared_error: 0.0440 - mean_absolute_error: 0.1761 - val_loss: 0.0377 - val_mean_squared_error: 0.0377 - val_mean_absolute_error: 0.1590\n",
            "Epoch 17/100\n",
            "16/16 [==============================] - 2s 113ms/step - loss: 0.0448 - mean_squared_error: 0.0448 - mean_absolute_error: 0.1735 - val_loss: 0.0367 - val_mean_squared_error: 0.0367 - val_mean_absolute_error: 0.1568\n",
            "Epoch 18/100\n",
            "16/16 [==============================] - 2s 119ms/step - loss: 0.0413 - mean_squared_error: 0.0413 - mean_absolute_error: 0.1681 - val_loss: 0.0355 - val_mean_squared_error: 0.0355 - val_mean_absolute_error: 0.1544\n",
            "Epoch 19/100\n",
            "16/16 [==============================] - 2s 116ms/step - loss: 0.0411 - mean_squared_error: 0.0411 - mean_absolute_error: 0.1697 - val_loss: 0.0346 - val_mean_squared_error: 0.0346 - val_mean_absolute_error: 0.1523\n",
            "Epoch 20/100\n",
            "16/16 [==============================] - 2s 118ms/step - loss: 0.0392 - mean_squared_error: 0.0392 - mean_absolute_error: 0.1655 - val_loss: 0.0336 - val_mean_squared_error: 0.0336 - val_mean_absolute_error: 0.1501\n",
            "Epoch 21/100\n",
            "16/16 [==============================] - 2s 124ms/step - loss: 0.0381 - mean_squared_error: 0.0381 - mean_absolute_error: 0.1618 - val_loss: 0.0324 - val_mean_squared_error: 0.0324 - val_mean_absolute_error: 0.1477\n",
            "Epoch 22/100\n",
            "16/16 [==============================] - 2s 110ms/step - loss: 0.0353 - mean_squared_error: 0.0353 - mean_absolute_error: 0.1582 - val_loss: 0.0318 - val_mean_squared_error: 0.0318 - val_mean_absolute_error: 0.1460\n",
            "Epoch 23/100\n",
            "16/16 [==============================] - 2s 112ms/step - loss: 0.0365 - mean_squared_error: 0.0365 - mean_absolute_error: 0.1589 - val_loss: 0.0309 - val_mean_squared_error: 0.0309 - val_mean_absolute_error: 0.1440\n",
            "Epoch 24/100\n",
            "16/16 [==============================] - 2s 120ms/step - loss: 0.0364 - mean_squared_error: 0.0364 - mean_absolute_error: 0.1598 - val_loss: 0.0298 - val_mean_squared_error: 0.0298 - val_mean_absolute_error: 0.1418\n",
            "Epoch 25/100\n",
            "16/16 [==============================] - 2s 116ms/step - loss: 0.0351 - mean_squared_error: 0.0351 - mean_absolute_error: 0.1539 - val_loss: 0.0290 - val_mean_squared_error: 0.0290 - val_mean_absolute_error: 0.1397\n",
            "Epoch 26/100\n",
            "16/16 [==============================] - 2s 116ms/step - loss: 0.0333 - mean_squared_error: 0.0333 - mean_absolute_error: 0.1515 - val_loss: 0.0278 - val_mean_squared_error: 0.0278 - val_mean_absolute_error: 0.1371\n",
            "Epoch 27/100\n",
            "16/16 [==============================] - 2s 118ms/step - loss: 0.0317 - mean_squared_error: 0.0317 - mean_absolute_error: 0.1481 - val_loss: 0.0269 - val_mean_squared_error: 0.0269 - val_mean_absolute_error: 0.1350\n",
            "Epoch 28/100\n",
            "16/16 [==============================] - 2s 115ms/step - loss: 0.0334 - mean_squared_error: 0.0334 - mean_absolute_error: 0.1507 - val_loss: 0.0261 - val_mean_squared_error: 0.0261 - val_mean_absolute_error: 0.1329\n",
            "Epoch 29/100\n",
            "16/16 [==============================] - 2s 122ms/step - loss: 0.0278 - mean_squared_error: 0.0278 - mean_absolute_error: 0.1368 - val_loss: 0.0257 - val_mean_squared_error: 0.0257 - val_mean_absolute_error: 0.1319\n",
            "Epoch 30/100\n",
            "16/16 [==============================] - 2s 119ms/step - loss: 0.0287 - mean_squared_error: 0.0287 - mean_absolute_error: 0.1405 - val_loss: 0.0249 - val_mean_squared_error: 0.0249 - val_mean_absolute_error: 0.1297\n",
            "Epoch 31/100\n",
            "16/16 [==============================] - 2s 122ms/step - loss: 0.0289 - mean_squared_error: 0.0289 - mean_absolute_error: 0.1392 - val_loss: 0.0237 - val_mean_squared_error: 0.0237 - val_mean_absolute_error: 0.1270\n",
            "Epoch 32/100\n",
            "16/16 [==============================] - 2s 121ms/step - loss: 0.0269 - mean_squared_error: 0.0269 - mean_absolute_error: 0.1329 - val_loss: 0.0231 - val_mean_squared_error: 0.0231 - val_mean_absolute_error: 0.1254\n",
            "Epoch 33/100\n",
            "16/16 [==============================] - 2s 117ms/step - loss: 0.0276 - mean_squared_error: 0.0276 - mean_absolute_error: 0.1359 - val_loss: 0.0225 - val_mean_squared_error: 0.0225 - val_mean_absolute_error: 0.1236\n",
            "Epoch 34/100\n",
            "16/16 [==============================] - 2s 118ms/step - loss: 0.0231 - mean_squared_error: 0.0231 - mean_absolute_error: 0.1265 - val_loss: 0.0218 - val_mean_squared_error: 0.0218 - val_mean_absolute_error: 0.1218\n",
            "Epoch 35/100\n",
            "16/16 [==============================] - 2s 119ms/step - loss: 0.0255 - mean_squared_error: 0.0255 - mean_absolute_error: 0.1301 - val_loss: 0.0212 - val_mean_squared_error: 0.0212 - val_mean_absolute_error: 0.1200\n",
            "Epoch 36/100\n",
            "16/16 [==============================] - 2s 116ms/step - loss: 0.0244 - mean_squared_error: 0.0244 - mean_absolute_error: 0.1280 - val_loss: 0.0205 - val_mean_squared_error: 0.0205 - val_mean_absolute_error: 0.1179\n",
            "Epoch 37/100\n",
            "16/16 [==============================] - 2s 124ms/step - loss: 0.0231 - mean_squared_error: 0.0231 - mean_absolute_error: 0.1254 - val_loss: 0.0200 - val_mean_squared_error: 0.0200 - val_mean_absolute_error: 0.1164\n",
            "Epoch 38/100\n",
            "16/16 [==============================] - 2s 114ms/step - loss: 0.0210 - mean_squared_error: 0.0210 - mean_absolute_error: 0.1195 - val_loss: 0.0194 - val_mean_squared_error: 0.0194 - val_mean_absolute_error: 0.1146\n",
            "Epoch 39/100\n",
            "16/16 [==============================] - 2s 116ms/step - loss: 0.0194 - mean_squared_error: 0.0194 - mean_absolute_error: 0.1167 - val_loss: 0.0188 - val_mean_squared_error: 0.0188 - val_mean_absolute_error: 0.1130\n",
            "Epoch 40/100\n",
            "16/16 [==============================] - 2s 120ms/step - loss: 0.0201 - mean_squared_error: 0.0201 - mean_absolute_error: 0.1166 - val_loss: 0.0181 - val_mean_squared_error: 0.0181 - val_mean_absolute_error: 0.1108\n",
            "Epoch 41/100\n",
            "16/16 [==============================] - 2s 113ms/step - loss: 0.0207 - mean_squared_error: 0.0207 - mean_absolute_error: 0.1173 - val_loss: 0.0175 - val_mean_squared_error: 0.0175 - val_mean_absolute_error: 0.1089\n",
            "Epoch 42/100\n",
            "16/16 [==============================] - 2s 121ms/step - loss: 0.0188 - mean_squared_error: 0.0188 - mean_absolute_error: 0.1129 - val_loss: 0.0170 - val_mean_squared_error: 0.0170 - val_mean_absolute_error: 0.1073\n",
            "Epoch 43/100\n",
            "16/16 [==============================] - 2s 115ms/step - loss: 0.0187 - mean_squared_error: 0.0187 - mean_absolute_error: 0.1106 - val_loss: 0.0165 - val_mean_squared_error: 0.0165 - val_mean_absolute_error: 0.1057\n",
            "Epoch 44/100\n",
            "16/16 [==============================] - 2s 122ms/step - loss: 0.0175 - mean_squared_error: 0.0175 - mean_absolute_error: 0.1083 - val_loss: 0.0161 - val_mean_squared_error: 0.0161 - val_mean_absolute_error: 0.1044\n",
            "Epoch 45/100\n",
            "16/16 [==============================] - 2s 128ms/step - loss: 0.0168 - mean_squared_error: 0.0168 - mean_absolute_error: 0.1044 - val_loss: 0.0156 - val_mean_squared_error: 0.0156 - val_mean_absolute_error: 0.1026\n",
            "Epoch 46/100\n",
            "16/16 [==============================] - 2s 123ms/step - loss: 0.0167 - mean_squared_error: 0.0167 - mean_absolute_error: 0.1040 - val_loss: 0.0151 - val_mean_squared_error: 0.0151 - val_mean_absolute_error: 0.1010\n",
            "Epoch 47/100\n",
            "16/16 [==============================] - 2s 112ms/step - loss: 0.0152 - mean_squared_error: 0.0152 - mean_absolute_error: 0.1003 - val_loss: 0.0148 - val_mean_squared_error: 0.0148 - val_mean_absolute_error: 0.0997\n",
            "Epoch 48/100\n",
            "16/16 [==============================] - 2s 115ms/step - loss: 0.0162 - mean_squared_error: 0.0162 - mean_absolute_error: 0.1013 - val_loss: 0.0143 - val_mean_squared_error: 0.0143 - val_mean_absolute_error: 0.0981\n",
            "Epoch 49/100\n",
            "16/16 [==============================] - 2s 110ms/step - loss: 0.0162 - mean_squared_error: 0.0162 - mean_absolute_error: 0.1035 - val_loss: 0.0140 - val_mean_squared_error: 0.0140 - val_mean_absolute_error: 0.0968\n",
            "Epoch 50/100\n",
            "16/16 [==============================] - 2s 107ms/step - loss: 0.0151 - mean_squared_error: 0.0151 - mean_absolute_error: 0.0989 - val_loss: 0.0136 - val_mean_squared_error: 0.0136 - val_mean_absolute_error: 0.0954\n",
            "Epoch 51/100\n",
            "16/16 [==============================] - 2s 119ms/step - loss: 0.0140 - mean_squared_error: 0.0140 - mean_absolute_error: 0.0945 - val_loss: 0.0132 - val_mean_squared_error: 0.0132 - val_mean_absolute_error: 0.0940\n",
            "Epoch 52/100\n",
            "16/16 [==============================] - 2s 111ms/step - loss: 0.0142 - mean_squared_error: 0.0142 - mean_absolute_error: 0.0946 - val_loss: 0.0129 - val_mean_squared_error: 0.0129 - val_mean_absolute_error: 0.0927\n",
            "Epoch 53/100\n",
            "16/16 [==============================] - 2s 107ms/step - loss: 0.0145 - mean_squared_error: 0.0145 - mean_absolute_error: 0.0934 - val_loss: 0.0127 - val_mean_squared_error: 0.0127 - val_mean_absolute_error: 0.0917\n",
            "Epoch 54/100\n",
            "16/16 [==============================] - 2s 110ms/step - loss: 0.0128 - mean_squared_error: 0.0128 - mean_absolute_error: 0.0914 - val_loss: 0.0122 - val_mean_squared_error: 0.0122 - val_mean_absolute_error: 0.0902\n",
            "Epoch 55/100\n",
            "16/16 [==============================] - 2s 112ms/step - loss: 0.0134 - mean_squared_error: 0.0134 - mean_absolute_error: 0.0918 - val_loss: 0.0119 - val_mean_squared_error: 0.0119 - val_mean_absolute_error: 0.0888\n",
            "Epoch 56/100\n",
            "16/16 [==============================] - 2s 107ms/step - loss: 0.0115 - mean_squared_error: 0.0115 - mean_absolute_error: 0.0847 - val_loss: 0.0118 - val_mean_squared_error: 0.0118 - val_mean_absolute_error: 0.0882\n",
            "Epoch 57/100\n",
            "16/16 [==============================] - 2s 117ms/step - loss: 0.0117 - mean_squared_error: 0.0117 - mean_absolute_error: 0.0846 - val_loss: 0.0115 - val_mean_squared_error: 0.0115 - val_mean_absolute_error: 0.0871\n",
            "Epoch 58/100\n",
            "16/16 [==============================] - 2s 113ms/step - loss: 0.0105 - mean_squared_error: 0.0105 - mean_absolute_error: 0.0818 - val_loss: 0.0113 - val_mean_squared_error: 0.0113 - val_mean_absolute_error: 0.0864\n",
            "Epoch 59/100\n",
            "16/16 [==============================] - 2s 108ms/step - loss: 0.0114 - mean_squared_error: 0.0114 - mean_absolute_error: 0.0837 - val_loss: 0.0111 - val_mean_squared_error: 0.0111 - val_mean_absolute_error: 0.0853\n",
            "Epoch 60/100\n",
            "16/16 [==============================] - 2s 116ms/step - loss: 0.0107 - mean_squared_error: 0.0107 - mean_absolute_error: 0.0805 - val_loss: 0.0108 - val_mean_squared_error: 0.0108 - val_mean_absolute_error: 0.0842\n",
            "Epoch 61/100\n",
            "16/16 [==============================] - 2s 114ms/step - loss: 0.0097 - mean_squared_error: 0.0097 - mean_absolute_error: 0.0790 - val_loss: 0.0106 - val_mean_squared_error: 0.0106 - val_mean_absolute_error: 0.0835\n",
            "Epoch 62/100\n",
            "16/16 [==============================] - 2s 117ms/step - loss: 0.0115 - mean_squared_error: 0.0115 - mean_absolute_error: 0.0815 - val_loss: 0.0104 - val_mean_squared_error: 0.0104 - val_mean_absolute_error: 0.0825\n",
            "Epoch 63/100\n",
            "16/16 [==============================] - 2s 117ms/step - loss: 0.0094 - mean_squared_error: 0.0094 - mean_absolute_error: 0.0766 - val_loss: 0.0101 - val_mean_squared_error: 0.0101 - val_mean_absolute_error: 0.0816\n",
            "Epoch 64/100\n",
            "16/16 [==============================] - 2s 118ms/step - loss: 0.0087 - mean_squared_error: 0.0087 - mean_absolute_error: 0.0731 - val_loss: 0.0100 - val_mean_squared_error: 0.0100 - val_mean_absolute_error: 0.0808\n",
            "Epoch 65/100\n",
            "16/16 [==============================] - 2s 115ms/step - loss: 0.0085 - mean_squared_error: 0.0085 - mean_absolute_error: 0.0729 - val_loss: 0.0098 - val_mean_squared_error: 0.0098 - val_mean_absolute_error: 0.0802\n",
            "Epoch 66/100\n",
            "16/16 [==============================] - 2s 116ms/step - loss: 0.0117 - mean_squared_error: 0.0117 - mean_absolute_error: 0.0803 - val_loss: 0.0097 - val_mean_squared_error: 0.0097 - val_mean_absolute_error: 0.0798\n",
            "Epoch 67/100\n",
            "16/16 [==============================] - 2s 120ms/step - loss: 0.0102 - mean_squared_error: 0.0102 - mean_absolute_error: 0.0777 - val_loss: 0.0095 - val_mean_squared_error: 0.0095 - val_mean_absolute_error: 0.0789\n",
            "Epoch 68/100\n",
            "16/16 [==============================] - 2s 114ms/step - loss: 0.0084 - mean_squared_error: 0.0084 - mean_absolute_error: 0.0711 - val_loss: 0.0094 - val_mean_squared_error: 0.0094 - val_mean_absolute_error: 0.0782\n",
            "Epoch 69/100\n",
            "16/16 [==============================] - 2s 113ms/step - loss: 0.0082 - mean_squared_error: 0.0082 - mean_absolute_error: 0.0706 - val_loss: 0.0093 - val_mean_squared_error: 0.0093 - val_mean_absolute_error: 0.0777\n",
            "Epoch 70/100\n",
            "16/16 [==============================] - 2s 118ms/step - loss: 0.0085 - mean_squared_error: 0.0085 - mean_absolute_error: 0.0713 - val_loss: 0.0093 - val_mean_squared_error: 0.0093 - val_mean_absolute_error: 0.0777\n",
            "Epoch 71/100\n",
            "16/16 [==============================] - 2s 116ms/step - loss: 0.0084 - mean_squared_error: 0.0084 - mean_absolute_error: 0.0700 - val_loss: 0.0092 - val_mean_squared_error: 0.0092 - val_mean_absolute_error: 0.0775\n",
            "Epoch 72/100\n",
            "16/16 [==============================] - 2s 120ms/step - loss: 0.0090 - mean_squared_error: 0.0090 - mean_absolute_error: 0.0729 - val_loss: 0.0090 - val_mean_squared_error: 0.0090 - val_mean_absolute_error: 0.0767\n",
            "Epoch 73/100\n",
            "16/16 [==============================] - 2s 117ms/step - loss: 0.0083 - mean_squared_error: 0.0083 - mean_absolute_error: 0.0690 - val_loss: 0.0090 - val_mean_squared_error: 0.0090 - val_mean_absolute_error: 0.0765\n",
            "Epoch 74/100\n",
            "16/16 [==============================] - 2s 116ms/step - loss: 0.0082 - mean_squared_error: 0.0082 - mean_absolute_error: 0.0670 - val_loss: 0.0089 - val_mean_squared_error: 0.0089 - val_mean_absolute_error: 0.0758\n",
            "Epoch 75/100\n",
            "16/16 [==============================] - 2s 120ms/step - loss: 0.0082 - mean_squared_error: 0.0082 - mean_absolute_error: 0.0664 - val_loss: 0.0088 - val_mean_squared_error: 0.0088 - val_mean_absolute_error: 0.0753\n",
            "Epoch 76/100\n",
            "16/16 [==============================] - 2s 118ms/step - loss: 0.0080 - mean_squared_error: 0.0080 - mean_absolute_error: 0.0662 - val_loss: 0.0087 - val_mean_squared_error: 0.0087 - val_mean_absolute_error: 0.0748\n",
            "Epoch 77/100\n",
            "16/16 [==============================] - 2s 118ms/step - loss: 0.0082 - mean_squared_error: 0.0082 - mean_absolute_error: 0.0666 - val_loss: 0.0086 - val_mean_squared_error: 0.0086 - val_mean_absolute_error: 0.0741\n",
            "Epoch 78/100\n",
            "16/16 [==============================] - 2s 123ms/step - loss: 0.0072 - mean_squared_error: 0.0072 - mean_absolute_error: 0.0633 - val_loss: 0.0085 - val_mean_squared_error: 0.0085 - val_mean_absolute_error: 0.0740\n",
            "Epoch 79/100\n",
            "16/16 [==============================] - 2s 119ms/step - loss: 0.0076 - mean_squared_error: 0.0076 - mean_absolute_error: 0.0646 - val_loss: 0.0085 - val_mean_squared_error: 0.0085 - val_mean_absolute_error: 0.0742\n",
            "Epoch 80/100\n",
            "16/16 [==============================] - 2s 120ms/step - loss: 0.0081 - mean_squared_error: 0.0081 - mean_absolute_error: 0.0662 - val_loss: 0.0085 - val_mean_squared_error: 0.0085 - val_mean_absolute_error: 0.0739\n",
            "Epoch 81/100\n",
            "16/16 [==============================] - 2s 117ms/step - loss: 0.0072 - mean_squared_error: 0.0072 - mean_absolute_error: 0.0641 - val_loss: 0.0084 - val_mean_squared_error: 0.0084 - val_mean_absolute_error: 0.0735\n",
            "Epoch 82/100\n",
            "16/16 [==============================] - 2s 110ms/step - loss: 0.0081 - mean_squared_error: 0.0081 - mean_absolute_error: 0.0660 - val_loss: 0.0083 - val_mean_squared_error: 0.0083 - val_mean_absolute_error: 0.0730\n",
            "Epoch 83/100\n",
            "16/16 [==============================] - 2s 119ms/step - loss: 0.0069 - mean_squared_error: 0.0069 - mean_absolute_error: 0.0624 - val_loss: 0.0083 - val_mean_squared_error: 0.0083 - val_mean_absolute_error: 0.0727\n",
            "Epoch 84/100\n",
            "16/16 [==============================] - 2s 117ms/step - loss: 0.0093 - mean_squared_error: 0.0093 - mean_absolute_error: 0.0678 - val_loss: 0.0082 - val_mean_squared_error: 0.0082 - val_mean_absolute_error: 0.0725\n",
            "Epoch 85/100\n",
            "16/16 [==============================] - 2s 121ms/step - loss: 0.0073 - mean_squared_error: 0.0073 - mean_absolute_error: 0.0630 - val_loss: 0.0082 - val_mean_squared_error: 0.0082 - val_mean_absolute_error: 0.0725\n",
            "Epoch 86/100\n",
            "16/16 [==============================] - 2s 121ms/step - loss: 0.0077 - mean_squared_error: 0.0077 - mean_absolute_error: 0.0647 - val_loss: 0.0082 - val_mean_squared_error: 0.0082 - val_mean_absolute_error: 0.0724\n",
            "Epoch 87/100\n",
            "16/16 [==============================] - 2s 120ms/step - loss: 0.0067 - mean_squared_error: 0.0067 - mean_absolute_error: 0.0600 - val_loss: 0.0082 - val_mean_squared_error: 0.0082 - val_mean_absolute_error: 0.0728\n",
            "Epoch 88/100\n",
            "16/16 [==============================] - 2s 120ms/step - loss: 0.0077 - mean_squared_error: 0.0077 - mean_absolute_error: 0.0621 - val_loss: 0.0083 - val_mean_squared_error: 0.0083 - val_mean_absolute_error: 0.0731\n",
            "Epoch 89/100\n",
            "16/16 [==============================] - 2s 120ms/step - loss: 0.0073 - mean_squared_error: 0.0073 - mean_absolute_error: 0.0623 - val_loss: 0.0081 - val_mean_squared_error: 0.0081 - val_mean_absolute_error: 0.0721\n",
            "Epoch 90/100\n",
            "16/16 [==============================] - 2s 122ms/step - loss: 0.0068 - mean_squared_error: 0.0068 - mean_absolute_error: 0.0612 - val_loss: 0.0081 - val_mean_squared_error: 0.0081 - val_mean_absolute_error: 0.0719\n",
            "Epoch 91/100\n",
            "16/16 [==============================] - 2s 118ms/step - loss: 0.0076 - mean_squared_error: 0.0076 - mean_absolute_error: 0.0624 - val_loss: 0.0081 - val_mean_squared_error: 0.0081 - val_mean_absolute_error: 0.0719\n",
            "Epoch 92/100\n",
            "16/16 [==============================] - 2s 120ms/step - loss: 0.0068 - mean_squared_error: 0.0068 - mean_absolute_error: 0.0602 - val_loss: 0.0080 - val_mean_squared_error: 0.0080 - val_mean_absolute_error: 0.0716\n",
            "Epoch 93/100\n",
            "16/16 [==============================] - 2s 121ms/step - loss: 0.0080 - mean_squared_error: 0.0080 - mean_absolute_error: 0.0654 - val_loss: 0.0080 - val_mean_squared_error: 0.0080 - val_mean_absolute_error: 0.0716\n",
            "Epoch 94/100\n",
            "16/16 [==============================] - 2s 128ms/step - loss: 0.0071 - mean_squared_error: 0.0071 - mean_absolute_error: 0.0628 - val_loss: 0.0080 - val_mean_squared_error: 0.0080 - val_mean_absolute_error: 0.0717\n",
            "Epoch 95/100\n",
            "16/16 [==============================] - 2s 124ms/step - loss: 0.0063 - mean_squared_error: 0.0063 - mean_absolute_error: 0.0571 - val_loss: 0.0080 - val_mean_squared_error: 0.0080 - val_mean_absolute_error: 0.0714\n",
            "Epoch 96/100\n",
            "16/16 [==============================] - 2s 124ms/step - loss: 0.0069 - mean_squared_error: 0.0069 - mean_absolute_error: 0.0616 - val_loss: 0.0080 - val_mean_squared_error: 0.0080 - val_mean_absolute_error: 0.0712\n",
            "Epoch 97/100\n",
            "16/16 [==============================] - 2s 123ms/step - loss: 0.0073 - mean_squared_error: 0.0073 - mean_absolute_error: 0.0626 - val_loss: 0.0079 - val_mean_squared_error: 0.0079 - val_mean_absolute_error: 0.0707\n",
            "Epoch 98/100\n",
            "16/16 [==============================] - 2s 119ms/step - loss: 0.0070 - mean_squared_error: 0.0070 - mean_absolute_error: 0.0612 - val_loss: 0.0079 - val_mean_squared_error: 0.0079 - val_mean_absolute_error: 0.0710\n",
            "Epoch 99/100\n",
            "16/16 [==============================] - 2s 116ms/step - loss: 0.0064 - mean_squared_error: 0.0064 - mean_absolute_error: 0.0595 - val_loss: 0.0079 - val_mean_squared_error: 0.0079 - val_mean_absolute_error: 0.0709\n",
            "Epoch 100/100\n",
            "16/16 [==============================] - 2s 117ms/step - loss: 0.0062 - mean_squared_error: 0.0062 - mean_absolute_error: 0.0579 - val_loss: 0.0079 - val_mean_squared_error: 0.0079 - val_mean_absolute_error: 0.0710\n"
          ]
        },
        {
          "output_type": "display_data",
          "data": {
            "text/plain": [
              "<IPython.core.display.HTML object>"
            ],
            "text/html": [
              "<br/>Waiting for W&B process to finish, PID 9781<br/>Program ended successfully."
            ]
          },
          "metadata": {
            "tags": []
          }
        },
        {
          "output_type": "display_data",
          "data": {
            "text/plain": [
              "VBox(children=(Label(value=' 0.59MB of 0.59MB uploaded (0.00MB deduped)\\r'), FloatProgress(value=1.0, max=1.0)…"
            ],
            "application/vnd.jupyter.widget-view+json": {
              "model_id": "e6db13c1fa0a4ae3a386a50be78fc535",
              "version_minor": 0,
              "version_major": 2
            }
          },
          "metadata": {
            "tags": []
          }
        },
        {
          "output_type": "display_data",
          "data": {
            "text/plain": [
              "<IPython.core.display.HTML object>"
            ],
            "text/html": [
              "Find user logs for this run at: <code>/content/feeder_repo/wandb/run-20210713_195513-hzw55289/logs/debug.log</code>"
            ]
          },
          "metadata": {
            "tags": []
          }
        },
        {
          "output_type": "display_data",
          "data": {
            "text/plain": [
              "<IPython.core.display.HTML object>"
            ],
            "text/html": [
              "Find internal logs for this run at: <code>/content/feeder_repo/wandb/run-20210713_195513-hzw55289/logs/debug-internal.log</code>"
            ]
          },
          "metadata": {
            "tags": []
          }
        },
        {
          "output_type": "display_data",
          "data": {
            "text/plain": [
              "<IPython.core.display.HTML object>"
            ],
            "text/html": [
              "<h3>Run summary:</h3><br/><style>\n",
              "    table.wandb td:nth-child(1) { padding: 0 10px; text-align: right }\n",
              "    </style><table class=\"wandb\">\n",
              "<tr><td>epoch</td><td>99</td></tr><tr><td>loss</td><td>0.00696</td></tr><tr><td>mean_squared_error</td><td>0.00696</td></tr><tr><td>mean_absolute_error</td><td>0.06037</td></tr><tr><td>val_loss</td><td>0.00792</td></tr><tr><td>val_mean_squared_error</td><td>0.00792</td></tr><tr><td>val_mean_absolute_error</td><td>0.07104</td></tr><tr><td>_runtime</td><td>202</td></tr><tr><td>_timestamp</td><td>1626206315</td></tr><tr><td>_step</td><td>99</td></tr><tr><td>best_val_loss</td><td>0.0079</td></tr><tr><td>best_epoch</td><td>98</td></tr></table>"
            ]
          },
          "metadata": {
            "tags": []
          }
        },
        {
          "output_type": "display_data",
          "data": {
            "text/plain": [
              "<IPython.core.display.HTML object>"
            ],
            "text/html": [
              "<h3>Run history:</h3><br/><style>\n",
              "    table.wandb td:nth-child(1) { padding: 0 10px; text-align: right }\n",
              "    </style><table class=\"wandb\">\n",
              "<tr><td>epoch</td><td>▁▁▁▁▂▂▂▂▂▃▃▃▃▃▃▄▄▄▄▄▅▅▅▅▅▅▆▆▆▆▆▇▇▇▇▇▇███</td></tr><tr><td>loss</td><td>█▃▃▃▃▂▂▂▂▂▂▂▂▂▂▁▁▁▁▁▁▁▁▁▁▁▁▁▁▁▁▁▁▁▁▁▁▁▁▁</td></tr><tr><td>mean_squared_error</td><td>█▃▃▃▃▂▂▂▂▂▂▂▂▂▂▁▁▁▁▁▁▁▁▁▁▁▁▁▁▁▁▁▁▁▁▁▁▁▁▁</td></tr><tr><td>mean_absolute_error</td><td>█▅▄▄▄▄▄▄▃▃▃▃▃▃▂▂▂▂▂▂▂▂▂▂▁▁▁▁▁▁▁▁▁▁▁▁▁▁▁▁</td></tr><tr><td>val_loss</td><td>█▃▃▃▃▂▂▂▂▂▂▂▂▂▂▁▁▁▁▁▁▁▁▁▁▁▁▁▁▁▁▁▁▁▁▁▁▁▁▁</td></tr><tr><td>val_mean_squared_error</td><td>█▃▃▃▃▂▂▂▂▂▂▂▂▂▂▁▁▁▁▁▁▁▁▁▁▁▁▁▁▁▁▁▁▁▁▁▁▁▁▁</td></tr><tr><td>val_mean_absolute_error</td><td>█▄▄▄▄▄▃▃▃▃▃▃▃▂▂▂▂▂▂▂▂▂▁▁▁▁▁▁▁▁▁▁▁▁▁▁▁▁▁▁</td></tr><tr><td>_runtime</td><td>▁▁▁▂▂▂▂▂▂▃▃▃▃▃▃▄▄▄▄▄▅▅▅▅▅▅▆▆▆▆▆▆▇▇▇▇▇███</td></tr><tr><td>_timestamp</td><td>▁▁▁▂▂▂▂▂▂▃▃▃▃▃▃▄▄▄▄▄▅▅▅▅▅▅▆▆▆▆▆▆▇▇▇▇▇███</td></tr><tr><td>_step</td><td>▁▁▁▁▂▂▂▂▂▃▃▃▃▃▃▄▄▄▄▄▅▅▅▅▅▅▆▆▆▆▆▇▇▇▇▇▇███</td></tr></table><br/>"
            ]
          },
          "metadata": {
            "tags": []
          }
        },
        {
          "output_type": "display_data",
          "data": {
            "text/plain": [
              "<IPython.core.display.HTML object>"
            ],
            "text/html": [
              "Synced 5 W&B file(s), 1 media file(s), 2 artifact file(s) and 2 other file(s)"
            ]
          },
          "metadata": {
            "tags": []
          }
        },
        {
          "output_type": "display_data",
          "data": {
            "text/plain": [
              "<IPython.core.display.HTML object>"
            ],
            "text/html": [
              "\n",
              "                    <br/>Synced <strong style=\"color:#cdcd00\">dazzling-sweep-35</strong>: <a href=\"https://wandb.ai/acse-jaq15/ACSE_9_GRU/runs/hzw55289\" target=\"_blank\">https://wandb.ai/acse-jaq15/ACSE_9_GRU/runs/hzw55289</a><br/>\n",
              "                "
            ]
          },
          "metadata": {
            "tags": []
          }
        },
        {
          "output_type": "stream",
          "name": "stderr",
          "text": [
            "\u001b[34m\u001b[1mwandb\u001b[0m: Agent Starting Run: 68mnfhc2 with config:\n",
            "\u001b[34m\u001b[1mwandb\u001b[0m: \tactivation: relu\n",
            "\u001b[34m\u001b[1mwandb\u001b[0m: \tbatch_size: 64\n",
            "\u001b[34m\u001b[1mwandb\u001b[0m: \tdropout: 0.2\n",
            "\u001b[34m\u001b[1mwandb\u001b[0m: \tepochs: 50\n",
            "\u001b[34m\u001b[1mwandb\u001b[0m: \thidden_size: 50\n",
            "\u001b[34m\u001b[1mwandb\u001b[0m: \tinput_size: 50\n",
            "\u001b[34m\u001b[1mwandb\u001b[0m: \tlearning_rate: 0.001\n",
            "\u001b[34m\u001b[1mwandb\u001b[0m: \toptimizer: adam\n"
          ]
        },
        {
          "output_type": "display_data",
          "data": {
            "text/plain": [
              "<IPython.core.display.HTML object>"
            ],
            "text/html": [
              "\n",
              "                Tracking run with wandb version 0.10.33<br/>\n",
              "                Syncing run <strong style=\"color:#cdcd00\">valiant-sweep-36</strong> to <a href=\"https://wandb.ai\" target=\"_blank\">Weights & Biases</a> <a href=\"https://docs.wandb.com/integrations/jupyter.html\" target=\"_blank\">(Documentation)</a>.<br/>\n",
              "                Project page: <a href=\"https://wandb.ai/acse-jaq15/ACSE_9_GRU\" target=\"_blank\">https://wandb.ai/acse-jaq15/ACSE_9_GRU</a><br/>\n",
              "                Sweep page: <a href=\"https://wandb.ai/acse-jaq15/ACSE_9_GRU/sweeps/ge9tsbmx\" target=\"_blank\">https://wandb.ai/acse-jaq15/ACSE_9_GRU/sweeps/ge9tsbmx</a><br/>\n",
              "Run page: <a href=\"https://wandb.ai/acse-jaq15/ACSE_9_GRU/runs/68mnfhc2\" target=\"_blank\">https://wandb.ai/acse-jaq15/ACSE_9_GRU/runs/68mnfhc2</a><br/>\n",
              "                Run data is saved locally in <code>/content/feeder_repo/wandb/run-20210713_195852-68mnfhc2</code><br/><br/>\n",
              "            "
            ]
          },
          "metadata": {
            "tags": []
          }
        },
        {
          "output_type": "stream",
          "name": "stdout",
          "text": [
            "WARNING:tensorflow:Layer gru will not use cuDNN kernels since it doesn't meet the criteria. It will use a generic GPU kernel as fallback when running on GPU.\n",
            "Epoch 1/50\n",
            "16/16 [==============================] - 8s 201ms/step - loss: 0.1088 - mean_squared_error: 0.1088 - mean_absolute_error: 0.2468 - val_loss: 0.0243 - val_mean_squared_error: 0.0243 - val_mean_absolute_error: 0.1262\n",
            "Epoch 2/50\n",
            "16/16 [==============================] - 2s 116ms/step - loss: 0.0157 - mean_squared_error: 0.0157 - mean_absolute_error: 0.1057 - val_loss: 0.0113 - val_mean_squared_error: 0.0113 - val_mean_absolute_error: 0.0864\n",
            "Epoch 3/50\n",
            "16/16 [==============================] - 2s 117ms/step - loss: 0.0058 - mean_squared_error: 0.0058 - mean_absolute_error: 0.0533 - val_loss: 0.0095 - val_mean_squared_error: 0.0095 - val_mean_absolute_error: 0.0782\n",
            "Epoch 4/50\n",
            "16/16 [==============================] - 2s 120ms/step - loss: 0.0038 - mean_squared_error: 0.0038 - mean_absolute_error: 0.0449 - val_loss: 0.0086 - val_mean_squared_error: 0.0086 - val_mean_absolute_error: 0.0737\n",
            "Epoch 5/50\n",
            "16/16 [==============================] - 2s 124ms/step - loss: 0.0044 - mean_squared_error: 0.0044 - mean_absolute_error: 0.0487 - val_loss: 0.0087 - val_mean_squared_error: 0.0087 - val_mean_absolute_error: 0.0745\n",
            "Epoch 6/50\n",
            "16/16 [==============================] - 2s 119ms/step - loss: 0.0035 - mean_squared_error: 0.0035 - mean_absolute_error: 0.0412 - val_loss: 0.0086 - val_mean_squared_error: 0.0086 - val_mean_absolute_error: 0.0739\n",
            "Epoch 7/50\n",
            "16/16 [==============================] - 2s 121ms/step - loss: 0.0031 - mean_squared_error: 0.0031 - mean_absolute_error: 0.0401 - val_loss: 0.0086 - val_mean_squared_error: 0.0086 - val_mean_absolute_error: 0.0740\n",
            "Epoch 8/50\n",
            "16/16 [==============================] - 2s 118ms/step - loss: 0.0037 - mean_squared_error: 0.0037 - mean_absolute_error: 0.0421 - val_loss: 0.0086 - val_mean_squared_error: 0.0086 - val_mean_absolute_error: 0.0737\n",
            "Epoch 9/50\n",
            "16/16 [==============================] - 2s 122ms/step - loss: 0.0036 - mean_squared_error: 0.0036 - mean_absolute_error: 0.0409 - val_loss: 0.0086 - val_mean_squared_error: 0.0086 - val_mean_absolute_error: 0.0739\n",
            "Epoch 10/50\n",
            "16/16 [==============================] - 2s 117ms/step - loss: 0.0031 - mean_squared_error: 0.0031 - mean_absolute_error: 0.0401 - val_loss: 0.0086 - val_mean_squared_error: 0.0086 - val_mean_absolute_error: 0.0734\n",
            "Epoch 11/50\n",
            "16/16 [==============================] - 2s 121ms/step - loss: 0.0028 - mean_squared_error: 0.0028 - mean_absolute_error: 0.0388 - val_loss: 0.0088 - val_mean_squared_error: 0.0088 - val_mean_absolute_error: 0.0740\n",
            "Epoch 12/50\n",
            "16/16 [==============================] - 2s 121ms/step - loss: 0.0030 - mean_squared_error: 0.0030 - mean_absolute_error: 0.0391 - val_loss: 0.0086 - val_mean_squared_error: 0.0086 - val_mean_absolute_error: 0.0736\n",
            "Epoch 13/50\n",
            "16/16 [==============================] - 2s 125ms/step - loss: 0.0031 - mean_squared_error: 0.0031 - mean_absolute_error: 0.0402 - val_loss: 0.0085 - val_mean_squared_error: 0.0085 - val_mean_absolute_error: 0.0733\n",
            "Epoch 14/50\n",
            "16/16 [==============================] - 2s 117ms/step - loss: 0.0025 - mean_squared_error: 0.0025 - mean_absolute_error: 0.0361 - val_loss: 0.0085 - val_mean_squared_error: 0.0085 - val_mean_absolute_error: 0.0737\n",
            "Epoch 15/50\n",
            "16/16 [==============================] - 2s 125ms/step - loss: 0.0029 - mean_squared_error: 0.0029 - mean_absolute_error: 0.0393 - val_loss: 0.0084 - val_mean_squared_error: 0.0084 - val_mean_absolute_error: 0.0734\n",
            "Epoch 16/50\n",
            "16/16 [==============================] - 2s 126ms/step - loss: 0.0025 - mean_squared_error: 0.0025 - mean_absolute_error: 0.0369 - val_loss: 0.0086 - val_mean_squared_error: 0.0086 - val_mean_absolute_error: 0.0733\n",
            "Epoch 17/50\n",
            "16/16 [==============================] - 2s 118ms/step - loss: 0.0028 - mean_squared_error: 0.0028 - mean_absolute_error: 0.0381 - val_loss: 0.0085 - val_mean_squared_error: 0.0085 - val_mean_absolute_error: 0.0731\n",
            "Epoch 18/50\n",
            "16/16 [==============================] - 2s 123ms/step - loss: 0.0025 - mean_squared_error: 0.0025 - mean_absolute_error: 0.0365 - val_loss: 0.0084 - val_mean_squared_error: 0.0084 - val_mean_absolute_error: 0.0730\n",
            "Epoch 19/50\n",
            "16/16 [==============================] - 2s 120ms/step - loss: 0.0028 - mean_squared_error: 0.0028 - mean_absolute_error: 0.0389 - val_loss: 0.0083 - val_mean_squared_error: 0.0083 - val_mean_absolute_error: 0.0727\n",
            "Epoch 20/50\n",
            "16/16 [==============================] - 2s 111ms/step - loss: 0.0023 - mean_squared_error: 0.0023 - mean_absolute_error: 0.0350 - val_loss: 0.0084 - val_mean_squared_error: 0.0084 - val_mean_absolute_error: 0.0723\n",
            "Epoch 21/50\n",
            "16/16 [==============================] - 2s 120ms/step - loss: 0.0022 - mean_squared_error: 0.0022 - mean_absolute_error: 0.0342 - val_loss: 0.0083 - val_mean_squared_error: 0.0083 - val_mean_absolute_error: 0.0724\n",
            "Epoch 22/50\n",
            "16/16 [==============================] - 2s 122ms/step - loss: 0.0025 - mean_squared_error: 0.0025 - mean_absolute_error: 0.0357 - val_loss: 0.0082 - val_mean_squared_error: 0.0082 - val_mean_absolute_error: 0.0720\n",
            "Epoch 23/50\n",
            "16/16 [==============================] - 2s 121ms/step - loss: 0.0027 - mean_squared_error: 0.0027 - mean_absolute_error: 0.0367 - val_loss: 0.0082 - val_mean_squared_error: 0.0082 - val_mean_absolute_error: 0.0724\n",
            "Epoch 24/50\n",
            "16/16 [==============================] - 2s 121ms/step - loss: 0.0023 - mean_squared_error: 0.0023 - mean_absolute_error: 0.0337 - val_loss: 0.0081 - val_mean_squared_error: 0.0081 - val_mean_absolute_error: 0.0719\n",
            "Epoch 25/50\n",
            "16/16 [==============================] - 2s 120ms/step - loss: 0.0026 - mean_squared_error: 0.0026 - mean_absolute_error: 0.0372 - val_loss: 0.0081 - val_mean_squared_error: 0.0081 - val_mean_absolute_error: 0.0720\n",
            "Epoch 26/50\n",
            "16/16 [==============================] - 2s 126ms/step - loss: 0.0026 - mean_squared_error: 0.0026 - mean_absolute_error: 0.0368 - val_loss: 0.0083 - val_mean_squared_error: 0.0083 - val_mean_absolute_error: 0.0716\n",
            "Epoch 27/50\n",
            "16/16 [==============================] - 2s 119ms/step - loss: 0.0024 - mean_squared_error: 0.0024 - mean_absolute_error: 0.0360 - val_loss: 0.0081 - val_mean_squared_error: 0.0081 - val_mean_absolute_error: 0.0719\n",
            "Epoch 28/50\n",
            "16/16 [==============================] - 2s 117ms/step - loss: 0.0026 - mean_squared_error: 0.0026 - mean_absolute_error: 0.0370 - val_loss: 0.0080 - val_mean_squared_error: 0.0080 - val_mean_absolute_error: 0.0717\n",
            "Epoch 29/50\n",
            "16/16 [==============================] - 2s 124ms/step - loss: 0.0023 - mean_squared_error: 0.0023 - mean_absolute_error: 0.0347 - val_loss: 0.0082 - val_mean_squared_error: 0.0082 - val_mean_absolute_error: 0.0711\n",
            "Epoch 30/50\n",
            "16/16 [==============================] - 2s 115ms/step - loss: 0.0026 - mean_squared_error: 0.0026 - mean_absolute_error: 0.0360 - val_loss: 0.0079 - val_mean_squared_error: 0.0079 - val_mean_absolute_error: 0.0706\n",
            "Epoch 31/50\n",
            "16/16 [==============================] - 2s 123ms/step - loss: 0.0023 - mean_squared_error: 0.0023 - mean_absolute_error: 0.0346 - val_loss: 0.0078 - val_mean_squared_error: 0.0078 - val_mean_absolute_error: 0.0699\n",
            "Epoch 32/50\n",
            "16/16 [==============================] - 2s 126ms/step - loss: 0.0022 - mean_squared_error: 0.0022 - mean_absolute_error: 0.0341 - val_loss: 0.0078 - val_mean_squared_error: 0.0078 - val_mean_absolute_error: 0.0698\n",
            "Epoch 33/50\n",
            "16/16 [==============================] - 2s 116ms/step - loss: 0.0023 - mean_squared_error: 0.0023 - mean_absolute_error: 0.0342 - val_loss: 0.0077 - val_mean_squared_error: 0.0077 - val_mean_absolute_error: 0.0697\n",
            "Epoch 34/50\n",
            "16/16 [==============================] - 2s 119ms/step - loss: 0.0022 - mean_squared_error: 0.0022 - mean_absolute_error: 0.0338 - val_loss: 0.0076 - val_mean_squared_error: 0.0076 - val_mean_absolute_error: 0.0691\n",
            "Epoch 35/50\n",
            "16/16 [==============================] - 2s 117ms/step - loss: 0.0026 - mean_squared_error: 0.0026 - mean_absolute_error: 0.0370 - val_loss: 0.0077 - val_mean_squared_error: 0.0077 - val_mean_absolute_error: 0.0691\n",
            "Epoch 36/50\n",
            "16/16 [==============================] - 2s 113ms/step - loss: 0.0022 - mean_squared_error: 0.0022 - mean_absolute_error: 0.0332 - val_loss: 0.0077 - val_mean_squared_error: 0.0077 - val_mean_absolute_error: 0.0701\n",
            "Epoch 37/50\n",
            "16/16 [==============================] - 2s 116ms/step - loss: 0.0024 - mean_squared_error: 0.0024 - mean_absolute_error: 0.0366 - val_loss: 0.0080 - val_mean_squared_error: 0.0080 - val_mean_absolute_error: 0.0698\n",
            "Epoch 38/50\n",
            "16/16 [==============================] - 2s 105ms/step - loss: 0.0025 - mean_squared_error: 0.0025 - mean_absolute_error: 0.0358 - val_loss: 0.0076 - val_mean_squared_error: 0.0076 - val_mean_absolute_error: 0.0700\n",
            "Epoch 39/50\n",
            "16/16 [==============================] - 2s 106ms/step - loss: 0.0022 - mean_squared_error: 0.0022 - mean_absolute_error: 0.0344 - val_loss: 0.0078 - val_mean_squared_error: 0.0078 - val_mean_absolute_error: 0.0693\n",
            "Epoch 40/50\n",
            "16/16 [==============================] - 2s 118ms/step - loss: 0.0021 - mean_squared_error: 0.0021 - mean_absolute_error: 0.0336 - val_loss: 0.0075 - val_mean_squared_error: 0.0075 - val_mean_absolute_error: 0.0681\n",
            "Epoch 41/50\n",
            "16/16 [==============================] - 2s 120ms/step - loss: 0.0018 - mean_squared_error: 0.0018 - mean_absolute_error: 0.0311 - val_loss: 0.0076 - val_mean_squared_error: 0.0076 - val_mean_absolute_error: 0.0697\n",
            "Epoch 42/50\n",
            "16/16 [==============================] - 2s 122ms/step - loss: 0.0024 - mean_squared_error: 0.0024 - mean_absolute_error: 0.0357 - val_loss: 0.0080 - val_mean_squared_error: 0.0080 - val_mean_absolute_error: 0.0696\n",
            "Epoch 43/50\n",
            "16/16 [==============================] - 2s 116ms/step - loss: 0.0022 - mean_squared_error: 0.0022 - mean_absolute_error: 0.0338 - val_loss: 0.0077 - val_mean_squared_error: 0.0077 - val_mean_absolute_error: 0.0706\n",
            "Epoch 44/50\n",
            "16/16 [==============================] - 2s 122ms/step - loss: 0.0024 - mean_squared_error: 0.0024 - mean_absolute_error: 0.0360 - val_loss: 0.0081 - val_mean_squared_error: 0.0081 - val_mean_absolute_error: 0.0697\n",
            "Epoch 45/50\n",
            "16/16 [==============================] - 2s 120ms/step - loss: 0.0023 - mean_squared_error: 0.0023 - mean_absolute_error: 0.0343 - val_loss: 0.0073 - val_mean_squared_error: 0.0073 - val_mean_absolute_error: 0.0675\n",
            "Epoch 46/50\n",
            "16/16 [==============================] - 2s 120ms/step - loss: 0.0020 - mean_squared_error: 0.0020 - mean_absolute_error: 0.0327 - val_loss: 0.0072 - val_mean_squared_error: 0.0072 - val_mean_absolute_error: 0.0670\n",
            "Epoch 47/50\n",
            "16/16 [==============================] - 2s 126ms/step - loss: 0.0018 - mean_squared_error: 0.0018 - mean_absolute_error: 0.0317 - val_loss: 0.0072 - val_mean_squared_error: 0.0072 - val_mean_absolute_error: 0.0667\n",
            "Epoch 48/50\n",
            "16/16 [==============================] - 2s 124ms/step - loss: 0.0021 - mean_squared_error: 0.0021 - mean_absolute_error: 0.0330 - val_loss: 0.0072 - val_mean_squared_error: 0.0072 - val_mean_absolute_error: 0.0672\n",
            "Epoch 49/50\n",
            "16/16 [==============================] - 2s 120ms/step - loss: 0.0017 - mean_squared_error: 0.0017 - mean_absolute_error: 0.0305 - val_loss: 0.0075 - val_mean_squared_error: 0.0075 - val_mean_absolute_error: 0.0675\n",
            "Epoch 50/50\n",
            "16/16 [==============================] - 2s 122ms/step - loss: 0.0020 - mean_squared_error: 0.0020 - mean_absolute_error: 0.0333 - val_loss: 0.0071 - val_mean_squared_error: 0.0071 - val_mean_absolute_error: 0.0666\n"
          ]
        },
        {
          "output_type": "display_data",
          "data": {
            "text/plain": [
              "<IPython.core.display.HTML object>"
            ],
            "text/html": [
              "<br/>Waiting for W&B process to finish, PID 10180<br/>Program ended successfully."
            ]
          },
          "metadata": {
            "tags": []
          }
        },
        {
          "output_type": "display_data",
          "data": {
            "text/plain": [
              "VBox(children=(Label(value=' 0.71MB of 0.71MB uploaded (0.00MB deduped)\\r'), FloatProgress(value=1.0, max=1.0)…"
            ],
            "application/vnd.jupyter.widget-view+json": {
              "model_id": "dd4a155972e64cff87e9116b52747e1a",
              "version_minor": 0,
              "version_major": 2
            }
          },
          "metadata": {
            "tags": []
          }
        },
        {
          "output_type": "display_data",
          "data": {
            "text/plain": [
              "<IPython.core.display.HTML object>"
            ],
            "text/html": [
              "Find user logs for this run at: <code>/content/feeder_repo/wandb/run-20210713_195852-68mnfhc2/logs/debug.log</code>"
            ]
          },
          "metadata": {
            "tags": []
          }
        },
        {
          "output_type": "display_data",
          "data": {
            "text/plain": [
              "<IPython.core.display.HTML object>"
            ],
            "text/html": [
              "Find internal logs for this run at: <code>/content/feeder_repo/wandb/run-20210713_195852-68mnfhc2/logs/debug-internal.log</code>"
            ]
          },
          "metadata": {
            "tags": []
          }
        },
        {
          "output_type": "display_data",
          "data": {
            "text/plain": [
              "<IPython.core.display.HTML object>"
            ],
            "text/html": [
              "<h3>Run summary:</h3><br/><style>\n",
              "    table.wandb td:nth-child(1) { padding: 0 10px; text-align: right }\n",
              "    </style><table class=\"wandb\">\n",
              "<tr><td>epoch</td><td>49</td></tr><tr><td>loss</td><td>0.00199</td></tr><tr><td>mean_squared_error</td><td>0.00199</td></tr><tr><td>mean_absolute_error</td><td>0.03324</td></tr><tr><td>val_loss</td><td>0.00706</td></tr><tr><td>val_mean_squared_error</td><td>0.00706</td></tr><tr><td>val_mean_absolute_error</td><td>0.06661</td></tr><tr><td>_runtime</td><td>108</td></tr><tr><td>_timestamp</td><td>1626206440</td></tr><tr><td>_step</td><td>49</td></tr><tr><td>best_val_loss</td><td>0.00706</td></tr><tr><td>best_epoch</td><td>49</td></tr></table>"
            ]
          },
          "metadata": {
            "tags": []
          }
        },
        {
          "output_type": "display_data",
          "data": {
            "text/plain": [
              "<IPython.core.display.HTML object>"
            ],
            "text/html": [
              "<h3>Run history:</h3><br/><style>\n",
              "    table.wandb td:nth-child(1) { padding: 0 10px; text-align: right }\n",
              "    </style><table class=\"wandb\">\n",
              "<tr><td>epoch</td><td>▁▁▁▁▂▂▂▂▂▃▃▃▃▃▃▄▄▄▄▄▅▅▅▅▅▅▆▆▆▆▆▆▇▇▇▇▇███</td></tr><tr><td>loss</td><td>█▂▁▁▁▁▁▁▁▁▁▁▁▁▁▁▁▁▁▁▁▁▁▁▁▁▁▁▁▁▁▁▁▁▁▁▁▁▁▁</td></tr><tr><td>mean_squared_error</td><td>█▂▁▁▁▁▁▁▁▁▁▁▁▁▁▁▁▁▁▁▁▁▁▁▁▁▁▁▁▁▁▁▁▁▁▁▁▁▁▁</td></tr><tr><td>mean_absolute_error</td><td>█▄▂▂▁▁▂▁▁▁▁▁▁▁▁▁▁▁▁▁▁▁▁▁▁▁▁▁▁▁▁▁▁▁▁▁▁▁▁▁</td></tr><tr><td>val_loss</td><td>█▃▂▂▂▂▂▂▂▂▂▂▂▂▂▂▂▁▁▁▂▁▁▁▁▁▁▁▁▁▁▁▁▁▁▁▁▁▁▁</td></tr><tr><td>val_mean_squared_error</td><td>█▃▂▂▂▂▂▂▂▂▂▂▂▂▂▂▂▁▁▁▂▁▁▁▁▁▁▁▁▁▁▁▁▁▁▁▁▁▁▁</td></tr><tr><td>val_mean_absolute_error</td><td>█▃▂▂▂▂▂▂▂▂▂▂▂▂▂▂▂▂▂▂▂▂▂▂▁▁▁▁▁▁▁▁▁▁▁▁▁▁▁▁</td></tr><tr><td>_runtime</td><td>▁▁▁▁▂▂▂▂▂▃▃▃▃▃▃▄▄▄▄▄▅▅▅▅▅▅▆▆▆▆▆▆▇▇▇▇▇███</td></tr><tr><td>_timestamp</td><td>▁▁▁▁▂▂▂▂▂▃▃▃▃▃▃▄▄▄▄▄▅▅▅▅▅▅▆▆▆▆▆▆▇▇▇▇▇███</td></tr><tr><td>_step</td><td>▁▁▁▁▂▂▂▂▂▃▃▃▃▃▃▄▄▄▄▄▅▅▅▅▅▅▆▆▆▆▆▆▇▇▇▇▇███</td></tr></table><br/>"
            ]
          },
          "metadata": {
            "tags": []
          }
        },
        {
          "output_type": "display_data",
          "data": {
            "text/plain": [
              "<IPython.core.display.HTML object>"
            ],
            "text/html": [
              "Synced 5 W&B file(s), 1 media file(s), 2 artifact file(s) and 2 other file(s)"
            ]
          },
          "metadata": {
            "tags": []
          }
        },
        {
          "output_type": "display_data",
          "data": {
            "text/plain": [
              "<IPython.core.display.HTML object>"
            ],
            "text/html": [
              "\n",
              "                    <br/>Synced <strong style=\"color:#cdcd00\">valiant-sweep-36</strong>: <a href=\"https://wandb.ai/acse-jaq15/ACSE_9_GRU/runs/68mnfhc2\" target=\"_blank\">https://wandb.ai/acse-jaq15/ACSE_9_GRU/runs/68mnfhc2</a><br/>\n",
              "                "
            ]
          },
          "metadata": {
            "tags": []
          }
        },
        {
          "output_type": "stream",
          "name": "stderr",
          "text": [
            "\u001b[34m\u001b[1mwandb\u001b[0m: Agent Starting Run: q8p59iwp with config:\n",
            "\u001b[34m\u001b[1mwandb\u001b[0m: \tactivation: selu\n",
            "\u001b[34m\u001b[1mwandb\u001b[0m: \tbatch_size: 64\n",
            "\u001b[34m\u001b[1mwandb\u001b[0m: \tdropout: 0.2\n",
            "\u001b[34m\u001b[1mwandb\u001b[0m: \tepochs: 200\n",
            "\u001b[34m\u001b[1mwandb\u001b[0m: \thidden_size: 50\n",
            "\u001b[34m\u001b[1mwandb\u001b[0m: \tinput_size: 50\n",
            "\u001b[34m\u001b[1mwandb\u001b[0m: \tlearning_rate: 0.0005\n",
            "\u001b[34m\u001b[1mwandb\u001b[0m: \toptimizer: adam\n"
          ]
        },
        {
          "output_type": "display_data",
          "data": {
            "text/plain": [
              "<IPython.core.display.HTML object>"
            ],
            "text/html": [
              "\n",
              "                Tracking run with wandb version 0.10.33<br/>\n",
              "                Syncing run <strong style=\"color:#cdcd00\">visionary-sweep-37</strong> to <a href=\"https://wandb.ai\" target=\"_blank\">Weights & Biases</a> <a href=\"https://docs.wandb.com/integrations/jupyter.html\" target=\"_blank\">(Documentation)</a>.<br/>\n",
              "                Project page: <a href=\"https://wandb.ai/acse-jaq15/ACSE_9_GRU\" target=\"_blank\">https://wandb.ai/acse-jaq15/ACSE_9_GRU</a><br/>\n",
              "                Sweep page: <a href=\"https://wandb.ai/acse-jaq15/ACSE_9_GRU/sweeps/ge9tsbmx\" target=\"_blank\">https://wandb.ai/acse-jaq15/ACSE_9_GRU/sweeps/ge9tsbmx</a><br/>\n",
              "Run page: <a href=\"https://wandb.ai/acse-jaq15/ACSE_9_GRU/runs/q8p59iwp\" target=\"_blank\">https://wandb.ai/acse-jaq15/ACSE_9_GRU/runs/q8p59iwp</a><br/>\n",
              "                Run data is saved locally in <code>/content/feeder_repo/wandb/run-20210713_200131-q8p59iwp</code><br/><br/>\n",
              "            "
            ]
          },
          "metadata": {
            "tags": []
          }
        },
        {
          "output_type": "stream",
          "name": "stdout",
          "text": [
            "WARNING:tensorflow:Layer gru will not use cuDNN kernels since it doesn't meet the criteria. It will use a generic GPU kernel as fallback when running on GPU.\n",
            "Epoch 1/200\n",
            "16/16 [==============================] - 8s 207ms/step - loss: 0.1093 - mean_squared_error: 0.1093 - mean_absolute_error: 0.2395 - val_loss: 0.0306 - val_mean_squared_error: 0.0306 - val_mean_absolute_error: 0.1480\n",
            "Epoch 2/200\n",
            "16/16 [==============================] - 2s 128ms/step - loss: 0.0177 - mean_squared_error: 0.0177 - mean_absolute_error: 0.1149 - val_loss: 0.0137 - val_mean_squared_error: 0.0137 - val_mean_absolute_error: 0.0952\n",
            "Epoch 3/200\n",
            "11/16 [===================>..........] - ETA: 0s - loss: 0.0088 - mean_squared_error: 0.0088 - mean_absolute_error: 0.0651"
          ]
        },
        {
          "output_type": "stream",
          "name": "stderr",
          "text": [
            "\u001b[34m\u001b[1mwandb\u001b[0m: Ctrl + C detected. Stopping sweep.\n"
          ]
        }
      ],
      "metadata": {
        "colab": {
          "base_uri": "https://localhost:8080/",
          "height": 1000,
          "referenced_widgets": [
            "557f9af27d29428dbc6abfb9ed143621",
            "89ab21bc95c14e018a66331a8c9f6f4a",
            "15702c0c64e140c8b3be97516d36b8c8",
            "9d89261dbc5143b090e30a4880c86f82",
            "48289123ebbe4a38ab7faef33f39414c",
            "fd442c2ce1864e7194ad8d94379273be",
            "83aea1541c9f4cd1bb9241a9e4b9414c",
            "0826be1763044d7bb02b0760f3792608",
            "b2459f5e8447468db59b0836c7fc8ad0",
            "a533d2a8273b4bdd897ce71c8b9d3dcf",
            "6a2724e67fff484d922833b71377cbc5",
            "8fd883a1ede54496bb1e84edfbb4ef80",
            "74ecd47b0b1c428b888bdbd95d0e3de2",
            "9f0243b5cb094403bca89c8891e63ee0",
            "fb7d64403e03423b806c5221f5e55707",
            "1c91f226fcbf4fa59872482e4857367b",
            "18cb23f96bea4e3a8c77fcfcdcde0495",
            "9021dd828e854ca9a0c1b4c4a49d5150",
            "e1361472d0bc4162809b1ec346e0b547",
            "96c3a723beba42baad1ab10b72b0c7dd",
            "848414b94ebc4c2cbef1ebc64d4a4d55",
            "15cbdf40424b41078ccefc7459bff2d5",
            "5293893a2a2846a2b62e250addcc9700",
            "415c4bbccbfc4e7989c99aa252014252",
            "4cf5716d29ee41529d3c302fc36777a9",
            "11ac6d339a3343d997174b34eee3d5a9",
            "94023d40b545423a94618eec45f74e8e",
            "b5356c4f81a042e7a83cdfbe9d3ccbd5",
            "6f1a91f98b0042d6a757084900575861",
            "e86d5b0934e54560aa2f6cccf37d3516",
            "87be91be723c4524af209f15c34877de",
            "78b2ececb0244f76ab3f87d4f876a2b1",
            "4fbf3f7b77bc46229109bb66c555d08d",
            "0956b30b431f405399d5527d429eb023",
            "4135831452be4a4ca5f473c288808864",
            "8a9c461f78b34d5d98393162dbe4f918",
            "fb65ad15165f423880c4095bb35ee74a",
            "41851189f4f447c28928aef8214aa3aa",
            "bf6948bc86234ac68ea7be7151579538",
            "83d4de8a41a8496aa69536623055f7f7",
            "ef77a1eaee4a4cd2863d11c833f2eac4",
            "726fa4d631bd4b84ba3a1d252282e4a4",
            "e2a840f6421b427ca1b5d8f9f93c7557",
            "f1271db1349a4449b5938f988b7af4ff",
            "c54e554b7f6f4dd788efbd2f82a82856",
            "f6a7fb495651400194e2f341e7d498f6",
            "1d59b4909c0e4ccf93e8229bf9efd353",
            "f967f2b3fa1d40c7b21a9c0ea3ea0934",
            "ad8c92346fcb4d6e877fc6d994bf1221",
            "5e10783e99ab44c29b481eea03f5007c",
            "891c6dc0044e470bb01859e947d45e60",
            "f4b761390c854d9c9329e0488f4f0503",
            "cc66ff68a2b34ddcb983dfbb8e09b10e",
            "edfddf2b7dd443aebf298f5e2fb33c17",
            "b42aaf9b1d7c4201977503bb95bff6be",
            "fe5315e98d6a4def929aa5fd826c6e6a",
            "e6db13c1fa0a4ae3a386a50be78fc535",
            "6c7c1552911a45a4bae9eb82663a21b5",
            "c9127d71699f46d2a8fbf14a761bdee8",
            "f3da7c66ec5543c7be91a1f9a6917d68",
            "f524425c0f7f4448ac96942a5c9f18b4",
            "dc918662dc8949638e66f568f1b9d4c1",
            "db0e827b2e794add990c7725284c4047",
            "0a73da99854e4e9f99a50368a95dfb0b",
            "dd4a155972e64cff87e9116b52747e1a",
            "dd6a4aad31394c1898d9d35a3da52e86",
            "ed549618b4cc49d2ae3baa2a74d5106a",
            "9286c806c0c1471cbd04d47c6fc6608f",
            "aab72663eb534df6992a509283ad3c88",
            "7195c7a3f34640059d6619aa26c8a9e0",
            "28960b8f45ef4a229efc98817f096c04",
            "6996f04683924c8b9782353089d98ca9"
          ]
        },
        "id": "ZfSCGWfluFw0",
        "outputId": "60194f94-6458-422f-dee2-071c83242619"
      }
    },
    {
      "cell_type": "markdown",
      "source": [
        "# Setting up the best model\n",
        "Using the best values from the hyperparamter search with wandb, the most optimal model configuration is used."
      ],
      "metadata": {
        "id": "gFTu29dbi18i"
      }
    },
    {
      "cell_type": "code",
      "execution_count": null,
      "source": [
        "best_config = {\n",
        "        'epochs': 200,\n",
        "        'batch_size': 64,\n",
        "        'dropout': 0.3,\n",
        "        'input_size': 100,\n",
        "        'hidden_size': 100,\n",
        "        'learning_rate': 0.001,\n",
        "        'optimizer': 'adam',\n",
        "        'activation': 'selu',\n",
        "    }"
      ],
      "outputs": [],
      "metadata": {}
    },
    {
      "cell_type": "code",
      "execution_count": 20,
      "source": [
        "# clearing the settings on the keras backend\n",
        "keras.backend.clear_session()\n",
        "\n",
        "# setting keras model to sequential mode\n",
        "model = Sequential()\n",
        "\n",
        "# input layer\n",
        "model.add(GRU(units=100, return_sequences=True, input_shape=(window_len, 1), activation='selu'))\n",
        "model.add(Dropout(0.3))\n",
        "# hidden layer\n",
        "model.add(GRU(units=100))\n",
        "model.add(Dropout(0.3))\n",
        "model.add(Dense(units=1))\n",
        "\n",
        "# defining the optimiser\n",
        "optimizer = keras.optimizers.Adam(learning_rate=0.001)\n",
        "\n",
        "# compile the model\n",
        "model.compile(optimizer, loss='mean_squared_error')\n",
        "\n",
        "# counting the number of trainable parameters\n",
        "trainable_count = count_params(model.trainable_weights)\n",
        "print('Total number of trainable parameters: ', trainable_count)"
      ],
      "outputs": [
        {
          "output_type": "stream",
          "name": "stdout",
          "text": [
            "WARNING:tensorflow:Layer gru will not use cuDNN kernels since it doesn't meet the criteria. It will use a generic GPU kernel as fallback when running on GPU.\n",
            "Total number of trainable parameters:  91601\n"
          ]
        }
      ],
      "metadata": {
        "colab": {
          "base_uri": "https://localhost:8080/"
        },
        "id": "OU7NXYBg1T4r",
        "outputId": "72fac3ad-8de8-442a-a2e5-0d25b589a050"
      }
    },
    {
      "cell_type": "code",
      "execution_count": 21,
      "source": [
        "# fitting the model to the training dataset\n",
        "model.fit(X_train, y_train, epochs=200, batch_size=64)"
      ],
      "outputs": [
        {
          "output_type": "stream",
          "name": "stdout",
          "text": [
            "Epoch 1/200\n",
            "20/20 [==============================] - 5s 89ms/step - loss: 0.0518\n",
            "Epoch 2/200\n",
            "20/20 [==============================] - 2s 91ms/step - loss: 0.0052\n",
            "Epoch 3/200\n",
            "20/20 [==============================] - 2s 92ms/step - loss: 0.0033\n",
            "Epoch 4/200\n",
            "20/20 [==============================] - 2s 94ms/step - loss: 0.0034\n",
            "Epoch 5/200\n",
            "20/20 [==============================] - 2s 93ms/step - loss: 0.0033\n",
            "Epoch 6/200\n",
            "20/20 [==============================] - 2s 92ms/step - loss: 0.0022\n",
            "Epoch 7/200\n",
            "20/20 [==============================] - 2s 88ms/step - loss: 0.0030\n",
            "Epoch 8/200\n",
            "20/20 [==============================] - 2s 88ms/step - loss: 0.0025\n",
            "Epoch 9/200\n",
            "20/20 [==============================] - 2s 95ms/step - loss: 0.0023\n",
            "Epoch 10/200\n",
            "20/20 [==============================] - 2s 90ms/step - loss: 0.0024\n",
            "Epoch 11/200\n",
            "20/20 [==============================] - 2s 87ms/step - loss: 0.0022\n",
            "Epoch 12/200\n",
            "20/20 [==============================] - 2s 87ms/step - loss: 0.0020\n",
            "Epoch 13/200\n",
            "20/20 [==============================] - 2s 89ms/step - loss: 0.0026\n",
            "Epoch 14/200\n",
            "20/20 [==============================] - 2s 93ms/step - loss: 0.0021\n",
            "Epoch 15/200\n",
            "20/20 [==============================] - 2s 89ms/step - loss: 0.0017\n",
            "Epoch 16/200\n",
            "20/20 [==============================] - 2s 91ms/step - loss: 0.0022\n",
            "Epoch 17/200\n",
            "20/20 [==============================] - 2s 87ms/step - loss: 0.0020\n",
            "Epoch 18/200\n",
            "20/20 [==============================] - 2s 91ms/step - loss: 0.0022\n",
            "Epoch 19/200\n",
            "20/20 [==============================] - 2s 90ms/step - loss: 0.0019\n",
            "Epoch 20/200\n",
            "20/20 [==============================] - 2s 91ms/step - loss: 0.0020\n",
            "Epoch 21/200\n",
            "20/20 [==============================] - 2s 91ms/step - loss: 0.0020\n",
            "Epoch 22/200\n",
            "20/20 [==============================] - 2s 89ms/step - loss: 0.0019\n",
            "Epoch 23/200\n",
            "20/20 [==============================] - 2s 92ms/step - loss: 0.0017\n",
            "Epoch 24/200\n",
            "20/20 [==============================] - 2s 92ms/step - loss: 0.0018\n",
            "Epoch 25/200\n",
            "20/20 [==============================] - 2s 94ms/step - loss: 0.0016\n",
            "Epoch 26/200\n",
            "20/20 [==============================] - 2s 90ms/step - loss: 0.0016\n",
            "Epoch 27/200\n",
            "20/20 [==============================] - 2s 91ms/step - loss: 0.0019\n",
            "Epoch 28/200\n",
            "20/20 [==============================] - 2s 93ms/step - loss: 0.0017\n",
            "Epoch 29/200\n",
            "20/20 [==============================] - 2s 95ms/step - loss: 0.0017\n",
            "Epoch 30/200\n",
            "20/20 [==============================] - 2s 94ms/step - loss: 0.0016\n",
            "Epoch 31/200\n",
            "20/20 [==============================] - 2s 92ms/step - loss: 0.0018\n",
            "Epoch 32/200\n",
            "20/20 [==============================] - 2s 92ms/step - loss: 0.0017\n",
            "Epoch 33/200\n",
            "20/20 [==============================] - 2s 89ms/step - loss: 0.0015\n",
            "Epoch 34/200\n",
            "20/20 [==============================] - 2s 92ms/step - loss: 0.0017\n",
            "Epoch 35/200\n",
            "20/20 [==============================] - 2s 101ms/step - loss: 0.0013\n",
            "Epoch 36/200\n",
            "20/20 [==============================] - 2s 88ms/step - loss: 0.0013\n",
            "Epoch 37/200\n",
            "20/20 [==============================] - 2s 94ms/step - loss: 0.0020\n",
            "Epoch 38/200\n",
            "20/20 [==============================] - 2s 96ms/step - loss: 0.0014\n",
            "Epoch 39/200\n",
            "20/20 [==============================] - 2s 91ms/step - loss: 0.0017\n",
            "Epoch 40/200\n",
            "20/20 [==============================] - 2s 93ms/step - loss: 0.0015\n",
            "Epoch 41/200\n",
            "20/20 [==============================] - 2s 97ms/step - loss: 0.0015\n",
            "Epoch 42/200\n",
            "20/20 [==============================] - 2s 92ms/step - loss: 0.0016\n",
            "Epoch 43/200\n",
            "20/20 [==============================] - 2s 90ms/step - loss: 0.0018\n",
            "Epoch 44/200\n",
            "20/20 [==============================] - 2s 92ms/step - loss: 0.0015\n",
            "Epoch 45/200\n",
            "20/20 [==============================] - 2s 92ms/step - loss: 0.0014\n",
            "Epoch 46/200\n",
            "20/20 [==============================] - 2s 92ms/step - loss: 0.0015\n",
            "Epoch 47/200\n",
            "20/20 [==============================] - 2s 91ms/step - loss: 0.0014\n",
            "Epoch 48/200\n",
            "20/20 [==============================] - 2s 91ms/step - loss: 0.0014\n",
            "Epoch 49/200\n",
            "20/20 [==============================] - 2s 91ms/step - loss: 0.0013\n",
            "Epoch 50/200\n",
            "20/20 [==============================] - 2s 96ms/step - loss: 0.0015\n",
            "Epoch 51/200\n",
            "20/20 [==============================] - 2s 92ms/step - loss: 0.0014\n",
            "Epoch 52/200\n",
            "20/20 [==============================] - 2s 94ms/step - loss: 0.0014\n",
            "Epoch 53/200\n",
            "20/20 [==============================] - 2s 96ms/step - loss: 0.0014\n",
            "Epoch 54/200\n",
            "20/20 [==============================] - 2s 90ms/step - loss: 0.0015\n",
            "Epoch 55/200\n",
            "20/20 [==============================] - 2s 94ms/step - loss: 0.0013\n",
            "Epoch 56/200\n",
            "20/20 [==============================] - 2s 94ms/step - loss: 0.0016\n",
            "Epoch 57/200\n",
            "20/20 [==============================] - 2s 96ms/step - loss: 0.0016\n",
            "Epoch 58/200\n",
            "20/20 [==============================] - 2s 100ms/step - loss: 0.0013\n",
            "Epoch 59/200\n",
            "20/20 [==============================] - 2s 95ms/step - loss: 0.0015\n",
            "Epoch 60/200\n",
            "20/20 [==============================] - 2s 91ms/step - loss: 0.0014\n",
            "Epoch 61/200\n",
            "20/20 [==============================] - 2s 92ms/step - loss: 0.0013\n",
            "Epoch 62/200\n",
            "20/20 [==============================] - 2s 92ms/step - loss: 0.0013\n",
            "Epoch 63/200\n",
            "20/20 [==============================] - 2s 91ms/step - loss: 0.0013\n",
            "Epoch 64/200\n",
            "20/20 [==============================] - 2s 93ms/step - loss: 0.0012\n",
            "Epoch 65/200\n",
            "20/20 [==============================] - 2s 93ms/step - loss: 0.0012\n",
            "Epoch 66/200\n",
            "20/20 [==============================] - 2s 91ms/step - loss: 0.0012\n",
            "Epoch 67/200\n",
            "20/20 [==============================] - 2s 91ms/step - loss: 0.0013\n",
            "Epoch 68/200\n",
            "20/20 [==============================] - 2s 92ms/step - loss: 0.0014\n",
            "Epoch 69/200\n",
            "20/20 [==============================] - 2s 98ms/step - loss: 0.0013\n",
            "Epoch 70/200\n",
            "20/20 [==============================] - 2s 95ms/step - loss: 0.0012\n",
            "Epoch 71/200\n",
            "20/20 [==============================] - 2s 92ms/step - loss: 0.0012\n",
            "Epoch 72/200\n",
            "20/20 [==============================] - 2s 90ms/step - loss: 9.5787e-04\n",
            "Epoch 73/200\n",
            "20/20 [==============================] - 2s 94ms/step - loss: 0.0012\n",
            "Epoch 74/200\n",
            "20/20 [==============================] - 2s 95ms/step - loss: 0.0011\n",
            "Epoch 75/200\n",
            "20/20 [==============================] - 2s 90ms/step - loss: 0.0014\n",
            "Epoch 76/200\n",
            "20/20 [==============================] - 2s 96ms/step - loss: 0.0011\n",
            "Epoch 77/200\n",
            "20/20 [==============================] - 2s 98ms/step - loss: 0.0011\n",
            "Epoch 78/200\n",
            "20/20 [==============================] - 2s 101ms/step - loss: 0.0012\n",
            "Epoch 79/200\n",
            "20/20 [==============================] - 2s 93ms/step - loss: 0.0012\n",
            "Epoch 80/200\n",
            "20/20 [==============================] - 2s 95ms/step - loss: 0.0012\n",
            "Epoch 81/200\n",
            "20/20 [==============================] - 2s 98ms/step - loss: 0.0012\n",
            "Epoch 82/200\n",
            "20/20 [==============================] - 2s 96ms/step - loss: 0.0013\n",
            "Epoch 83/200\n",
            "20/20 [==============================] - 2s 97ms/step - loss: 0.0014\n",
            "Epoch 84/200\n",
            "20/20 [==============================] - 2s 96ms/step - loss: 0.0012\n",
            "Epoch 85/200\n",
            "20/20 [==============================] - 2s 93ms/step - loss: 0.0016\n",
            "Epoch 86/200\n",
            "20/20 [==============================] - 2s 90ms/step - loss: 0.0014\n",
            "Epoch 87/200\n",
            "20/20 [==============================] - 2s 97ms/step - loss: 0.0011\n",
            "Epoch 88/200\n",
            "20/20 [==============================] - 2s 93ms/step - loss: 9.9582e-04\n",
            "Epoch 89/200\n",
            "20/20 [==============================] - 2s 95ms/step - loss: 0.0011\n",
            "Epoch 90/200\n",
            "20/20 [==============================] - 2s 94ms/step - loss: 0.0011\n",
            "Epoch 91/200\n",
            "20/20 [==============================] - 2s 93ms/step - loss: 0.0010\n",
            "Epoch 92/200\n",
            "20/20 [==============================] - 2s 97ms/step - loss: 0.0010\n",
            "Epoch 93/200\n",
            "20/20 [==============================] - 2s 98ms/step - loss: 0.0010\n",
            "Epoch 94/200\n",
            "20/20 [==============================] - 2s 95ms/step - loss: 9.7034e-04\n",
            "Epoch 95/200\n",
            "20/20 [==============================] - 2s 90ms/step - loss: 0.0011\n",
            "Epoch 96/200\n",
            "20/20 [==============================] - 2s 92ms/step - loss: 0.0011\n",
            "Epoch 97/200\n",
            "20/20 [==============================] - 2s 90ms/step - loss: 0.0011\n",
            "Epoch 98/200\n",
            "20/20 [==============================] - 2s 97ms/step - loss: 0.0011\n",
            "Epoch 99/200\n",
            "20/20 [==============================] - 2s 96ms/step - loss: 9.5172e-04\n",
            "Epoch 100/200\n",
            "20/20 [==============================] - 2s 96ms/step - loss: 0.0012\n",
            "Epoch 101/200\n",
            "20/20 [==============================] - 2s 94ms/step - loss: 0.0011\n",
            "Epoch 102/200\n",
            "20/20 [==============================] - 2s 96ms/step - loss: 8.9164e-04\n",
            "Epoch 103/200\n",
            "20/20 [==============================] - 2s 98ms/step - loss: 0.0011\n",
            "Epoch 104/200\n",
            "20/20 [==============================] - 2s 92ms/step - loss: 0.0011\n",
            "Epoch 105/200\n",
            "20/20 [==============================] - 2s 98ms/step - loss: 9.6723e-04\n",
            "Epoch 106/200\n",
            "20/20 [==============================] - 2s 91ms/step - loss: 8.3977e-04\n",
            "Epoch 107/200\n",
            "20/20 [==============================] - 2s 97ms/step - loss: 9.8576e-04\n",
            "Epoch 108/200\n",
            "20/20 [==============================] - 2s 95ms/step - loss: 9.3724e-04\n",
            "Epoch 109/200\n",
            "20/20 [==============================] - 2s 93ms/step - loss: 8.7846e-04\n",
            "Epoch 110/200\n",
            "20/20 [==============================] - 2s 92ms/step - loss: 0.0012\n",
            "Epoch 111/200\n",
            "20/20 [==============================] - 2s 98ms/step - loss: 8.9213e-04\n",
            "Epoch 112/200\n",
            "20/20 [==============================] - 2s 93ms/step - loss: 9.4625e-04\n",
            "Epoch 113/200\n",
            "20/20 [==============================] - 2s 96ms/step - loss: 9.0211e-04\n",
            "Epoch 114/200\n",
            "20/20 [==============================] - 2s 96ms/step - loss: 0.0010\n",
            "Epoch 115/200\n",
            "20/20 [==============================] - 2s 93ms/step - loss: 9.5095e-04\n",
            "Epoch 116/200\n",
            "20/20 [==============================] - 2s 93ms/step - loss: 9.8424e-04\n",
            "Epoch 117/200\n",
            "20/20 [==============================] - 2s 93ms/step - loss: 0.0011\n",
            "Epoch 118/200\n",
            "20/20 [==============================] - 2s 90ms/step - loss: 9.5429e-04\n",
            "Epoch 119/200\n",
            "20/20 [==============================] - 2s 94ms/step - loss: 0.0011\n",
            "Epoch 120/200\n",
            "20/20 [==============================] - 2s 90ms/step - loss: 0.0012\n",
            "Epoch 121/200\n",
            "20/20 [==============================] - 2s 98ms/step - loss: 0.0011\n",
            "Epoch 122/200\n",
            "20/20 [==============================] - 2s 95ms/step - loss: 0.0012\n",
            "Epoch 123/200\n",
            "20/20 [==============================] - 2s 92ms/step - loss: 0.0011\n",
            "Epoch 124/200\n",
            "20/20 [==============================] - 2s 90ms/step - loss: 9.2682e-04\n",
            "Epoch 125/200\n",
            "20/20 [==============================] - 2s 92ms/step - loss: 9.0729e-04\n",
            "Epoch 126/200\n",
            "20/20 [==============================] - 2s 95ms/step - loss: 8.8900e-04\n",
            "Epoch 127/200\n",
            "20/20 [==============================] - 2s 95ms/step - loss: 0.0010\n",
            "Epoch 128/200\n",
            "20/20 [==============================] - 2s 94ms/step - loss: 9.7318e-04\n",
            "Epoch 129/200\n",
            "20/20 [==============================] - 2s 92ms/step - loss: 9.8836e-04\n",
            "Epoch 130/200\n",
            "20/20 [==============================] - 2s 92ms/step - loss: 8.3278e-04\n",
            "Epoch 131/200\n",
            "20/20 [==============================] - 2s 94ms/step - loss: 9.5241e-04\n",
            "Epoch 132/200\n",
            "20/20 [==============================] - 2s 91ms/step - loss: 8.7906e-04\n",
            "Epoch 133/200\n",
            "20/20 [==============================] - 2s 92ms/step - loss: 8.4917e-04\n",
            "Epoch 134/200\n",
            "20/20 [==============================] - 2s 90ms/step - loss: 0.0010\n",
            "Epoch 135/200\n",
            "20/20 [==============================] - 2s 93ms/step - loss: 0.0011\n",
            "Epoch 136/200\n",
            "20/20 [==============================] - 2s 95ms/step - loss: 9.1376e-04\n",
            "Epoch 137/200\n",
            "20/20 [==============================] - 2s 97ms/step - loss: 8.7263e-04\n",
            "Epoch 138/200\n",
            "20/20 [==============================] - 2s 91ms/step - loss: 7.7706e-04\n",
            "Epoch 139/200\n",
            "20/20 [==============================] - 2s 87ms/step - loss: 8.2157e-04\n",
            "Epoch 140/200\n",
            "20/20 [==============================] - 2s 96ms/step - loss: 8.8072e-04\n",
            "Epoch 141/200\n",
            "20/20 [==============================] - 2s 99ms/step - loss: 8.1861e-04\n",
            "Epoch 142/200\n",
            "20/20 [==============================] - 2s 97ms/step - loss: 9.1355e-04\n",
            "Epoch 143/200\n",
            "20/20 [==============================] - 2s 99ms/step - loss: 0.0010\n",
            "Epoch 144/200\n",
            "20/20 [==============================] - 2s 91ms/step - loss: 8.2362e-04\n",
            "Epoch 145/200\n",
            "20/20 [==============================] - 2s 96ms/step - loss: 9.9697e-04\n",
            "Epoch 146/200\n",
            "20/20 [==============================] - 2s 90ms/step - loss: 8.2453e-04\n",
            "Epoch 147/200\n",
            "20/20 [==============================] - 2s 96ms/step - loss: 9.2480e-04\n",
            "Epoch 148/200\n",
            "20/20 [==============================] - 2s 97ms/step - loss: 7.1884e-04\n",
            "Epoch 149/200\n",
            "20/20 [==============================] - 2s 95ms/step - loss: 9.0713e-04\n",
            "Epoch 150/200\n",
            "20/20 [==============================] - 2s 101ms/step - loss: 8.7372e-04\n",
            "Epoch 151/200\n",
            "20/20 [==============================] - 2s 98ms/step - loss: 8.7089e-04\n",
            "Epoch 152/200\n",
            "20/20 [==============================] - 2s 97ms/step - loss: 9.0727e-04\n",
            "Epoch 153/200\n",
            "20/20 [==============================] - 2s 93ms/step - loss: 8.9622e-04\n",
            "Epoch 154/200\n",
            "20/20 [==============================] - 2s 90ms/step - loss: 8.5639e-04\n",
            "Epoch 155/200\n",
            "20/20 [==============================] - 2s 97ms/step - loss: 0.0012\n",
            "Epoch 156/200\n",
            "20/20 [==============================] - 2s 96ms/step - loss: 0.0010\n",
            "Epoch 157/200\n",
            "20/20 [==============================] - 2s 91ms/step - loss: 9.9483e-04\n",
            "Epoch 158/200\n",
            "20/20 [==============================] - 2s 100ms/step - loss: 8.2346e-04\n",
            "Epoch 159/200\n",
            "20/20 [==============================] - 2s 94ms/step - loss: 9.7825e-04\n",
            "Epoch 160/200\n",
            "20/20 [==============================] - 2s 92ms/step - loss: 9.0357e-04\n",
            "Epoch 161/200\n",
            "20/20 [==============================] - 2s 90ms/step - loss: 9.2439e-04\n",
            "Epoch 162/200\n",
            "20/20 [==============================] - 2s 91ms/step - loss: 7.7838e-04\n",
            "Epoch 163/200\n",
            "20/20 [==============================] - 2s 96ms/step - loss: 9.4659e-04\n",
            "Epoch 164/200\n",
            "20/20 [==============================] - 2s 93ms/step - loss: 7.2883e-04\n",
            "Epoch 165/200\n",
            "20/20 [==============================] - 2s 98ms/step - loss: 7.1224e-04\n",
            "Epoch 166/200\n",
            "20/20 [==============================] - 2s 90ms/step - loss: 8.1566e-04\n",
            "Epoch 167/200\n",
            "20/20 [==============================] - 2s 98ms/step - loss: 8.4599e-04\n",
            "Epoch 168/200\n",
            "20/20 [==============================] - 2s 93ms/step - loss: 8.5181e-04\n",
            "Epoch 169/200\n",
            "20/20 [==============================] - 2s 99ms/step - loss: 8.1478e-04\n",
            "Epoch 170/200\n",
            "20/20 [==============================] - 2s 93ms/step - loss: 8.3885e-04\n",
            "Epoch 171/200\n",
            "20/20 [==============================] - 2s 93ms/step - loss: 9.5492e-04\n",
            "Epoch 172/200\n",
            "20/20 [==============================] - 2s 95ms/step - loss: 8.5540e-04\n",
            "Epoch 173/200\n",
            "20/20 [==============================] - 2s 94ms/step - loss: 8.2751e-04\n",
            "Epoch 174/200\n",
            "20/20 [==============================] - 2s 98ms/step - loss: 9.6400e-04\n",
            "Epoch 175/200\n",
            "20/20 [==============================] - 2s 93ms/step - loss: 9.1333e-04\n",
            "Epoch 176/200\n",
            "20/20 [==============================] - 2s 97ms/step - loss: 7.8973e-04\n",
            "Epoch 177/200\n",
            "20/20 [==============================] - 2s 91ms/step - loss: 7.8678e-04\n",
            "Epoch 178/200\n",
            "20/20 [==============================] - 2s 95ms/step - loss: 7.9280e-04\n",
            "Epoch 179/200\n",
            "20/20 [==============================] - 2s 95ms/step - loss: 7.4900e-04\n",
            "Epoch 180/200\n",
            "20/20 [==============================] - 2s 93ms/step - loss: 8.0915e-04\n",
            "Epoch 181/200\n",
            "20/20 [==============================] - 2s 91ms/step - loss: 7.6787e-04\n",
            "Epoch 182/200\n",
            "20/20 [==============================] - 2s 99ms/step - loss: 8.3931e-04\n",
            "Epoch 183/200\n",
            "20/20 [==============================] - 2s 98ms/step - loss: 9.0745e-04\n",
            "Epoch 184/200\n",
            "20/20 [==============================] - 2s 96ms/step - loss: 8.7809e-04\n",
            "Epoch 185/200\n",
            "20/20 [==============================] - 2s 93ms/step - loss: 7.0185e-04\n",
            "Epoch 186/200\n",
            "20/20 [==============================] - 2s 101ms/step - loss: 9.6234e-04\n",
            "Epoch 187/200\n",
            "20/20 [==============================] - 2s 97ms/step - loss: 8.1347e-04\n",
            "Epoch 188/200\n",
            "20/20 [==============================] - 2s 95ms/step - loss: 8.7177e-04\n",
            "Epoch 189/200\n",
            "20/20 [==============================] - 2s 100ms/step - loss: 7.6806e-04\n",
            "Epoch 190/200\n",
            "20/20 [==============================] - 2s 98ms/step - loss: 8.6109e-04\n",
            "Epoch 191/200\n",
            "20/20 [==============================] - 2s 96ms/step - loss: 7.4968e-04\n",
            "Epoch 192/200\n",
            "20/20 [==============================] - 2s 97ms/step - loss: 7.6746e-04\n",
            "Epoch 193/200\n",
            "20/20 [==============================] - 2s 95ms/step - loss: 9.1419e-04\n",
            "Epoch 194/200\n",
            "20/20 [==============================] - 2s 95ms/step - loss: 8.2896e-04\n",
            "Epoch 195/200\n",
            "20/20 [==============================] - 2s 99ms/step - loss: 7.1365e-04\n",
            "Epoch 196/200\n",
            "20/20 [==============================] - 2s 97ms/step - loss: 7.8443e-04\n",
            "Epoch 197/200\n",
            "20/20 [==============================] - 2s 91ms/step - loss: 8.7321e-04\n",
            "Epoch 198/200\n",
            "20/20 [==============================] - 2s 87ms/step - loss: 8.1263e-04\n",
            "Epoch 199/200\n",
            "20/20 [==============================] - 2s 93ms/step - loss: 6.8604e-04\n",
            "Epoch 200/200\n",
            "20/20 [==============================] - 2s 95ms/step - loss: 0.0010\n"
          ]
        },
        {
          "output_type": "execute_result",
          "data": {
            "text/plain": [
              "<keras.callbacks.History at 0x7fbda0176490>"
            ]
          },
          "metadata": {
            "tags": []
          },
          "execution_count": 21
        }
      ],
      "metadata": {
        "colab": {
          "base_uri": "https://localhost:8080/"
        },
        "id": "W3v718GcE39o",
        "outputId": "26652a1c-46f7-4de3-a4a0-f00c5b29c0b1"
      }
    },
    {
      "cell_type": "code",
      "execution_count": 22,
      "source": [
        "# creating an instance of Baseline_Model class using X_test\n",
        "base_model = Base_Model(X_test, window_len)\n",
        "# calling predict_y method\n",
        "base_model.predict_y(in_data.test_len - window_len)\n",
        "\n",
        "# using the model to predict y from X_test\n",
        "y_pred = model.predict(X_test)\n",
        "# assigning y_dummy variable to .y_pred class attribute\n",
        "y_dummy = base_model.y_pred\n",
        "\n",
        "# calling class method extract_real_price to generate unnormalised prices\n",
        "in_data.extract_real_prices(y_pred, y_dummy)\n",
        "\n",
        "# assinging y_true variable\n",
        "y_true = in_data.y_true\n",
        "\n",
        "# assigning actual_price, predicted_price and dummy_price\n",
        "actual_price = in_data.actual_price\n",
        "predicted_price = in_data.predicted_price\n",
        "dummy_price = in_data.dummy_price"
      ],
      "outputs": [],
      "metadata": {
        "id": "rTXJN51l9Y-F"
      }
    },
    {
      "cell_type": "markdown",
      "source": [
        "# Plotting the prediction results and getting errors\n",
        "The cells below plot the actual, predicted and dummy prices using the Security_Plotter class before finally saving the model and plot."
      ],
      "metadata": {
        "id": "H-D-XHyRjFMp"
      }
    },
    {
      "cell_type": "code",
      "execution_count": 23,
      "source": [
        "plotter = Security_Plotter(in_data, actual_price, predicted_price,\n",
        "                            dummy_price, in_data.train_len, window_len, in_str)\n",
        "\n",
        "plotter.single_plot()"
      ],
      "outputs": [
        {
          "output_type": "display_data",
          "data": {
            "text/plain": [
              "<Figure size 864x432 with 1 Axes>"
            ],
            "image/png": "[encoded data removed]"
          },
          "metadata": {
            "tags": [],
            "needs_background": "light"
          }
        }
      ],
      "metadata": {
        "colab": {
          "base_uri": "https://localhost:8080/",
          "height": 395
        },
        "id": "PgjvooOD3jq3",
        "outputId": "5afc571e-53ed-4836-b78b-c82de66bb634"
      }
    },
    {
      "cell_type": "code",
      "execution_count": 24,
      "source": [
        "plot_model(model, show_shapes=True, expand_nested=True)"
      ],
      "outputs": [
        {
          "output_type": "execute_result",
          "data": {
            "text/plain": [
              "<IPython.core.display.Image object>"
            ],
            "image/png": "[encoded data removed]"
          },
          "metadata": {
            "tags": []
          },
          "execution_count": 24
        }
      ],
      "metadata": {
        "id": "AxaH7IUCxSXw",
        "colab": {
          "base_uri": "https://localhost:8080/",
          "height": 644
        },
        "outputId": "89cdf4f8-2cd1-4bd6-b509-5f768a2378c5"
      }
    },
    {
      "cell_type": "code",
      "execution_count": 25,
      "source": [
        "# calculating mean squared error\n",
        "mse = mean_squared_error(y_true, y_pred)\n",
        "\n",
        "# calculating root mean squared error\n",
        "rmse = mean_squared_error(y_true, y_pred, squared=False)\n",
        "\n",
        "# calculating mean absolute error\n",
        "mae = mean_absolute_error(y_true, y_pred)\n",
        "\n",
        "print('MSE: ', mse)\n",
        "print('RMSE: ', rmse)\n",
        "print('MAE: ', mae)"
      ],
      "outputs": [
        {
          "output_type": "stream",
          "name": "stdout",
          "text": [
            "MSE:  0.0031177966098529055\n",
            "RMSE:  0.05583723318586717\n",
            "MAE:  0.03763693769104839\n"
          ]
        }
      ],
      "metadata": {
        "colab": {
          "base_uri": "https://localhost:8080/"
        },
        "id": "bFfQGfb79SJS",
        "outputId": "37fdc534-f33a-419a-e953-f6f444e031fa"
      }
    },
    {
      "cell_type": "code",
      "execution_count": 26,
      "source": [
        "# creating a string to save the model based on model name\n",
        "save_path = '/content/gdrive/My Drive/models/'+model_str+'_'+in_str+'/'\n",
        "# mounting google drive for easy storage of model\n",
        "from google.colab import drive\n",
        "# mounting the drive\n",
        "drive.mount('/content/gdrive/')\n",
        "# making the relevant directory to store the model\n",
        "os.mkdir(save_path)\n",
        "# saving the model\n",
        "keras.models.save_model(model, save_path)\n",
        "# saving the model graph\n",
        "model_graph = plot_model(model, to_file=save_path+model_str+'_'+in_str+'_graph_.png', show_shapes=True, expand_nested=True)\n",
        "# saving the matplotlib plot\n",
        "plotter.fig.savefig(save_path+model_str+'_'+in_str+'_plot.png', bbox_inches='tight')\n",
        "# saving the error metrics as a text file\n",
        "error_file = open(save_path+model_str+'_'+in_str+'_metrics.txt', 'w+')\n",
        "error_file.write('MSE:'+str(mse)+'\\n'+'RMSE: '+str(rmse)+'\\n'+'MAE: '+str(mae)+'\\n')\n",
        "error_file.close()"
      ],
      "outputs": [
        {
          "output_type": "stream",
          "name": "stdout",
          "text": [
            "Mounted at /content/gdrive/\n"
          ]
        },
        {
          "output_type": "stream",
          "name": "stderr",
          "text": [
            "WARNING:absl:Found untraced functions such as gru_cell_1_layer_call_fn, gru_cell_1_layer_call_and_return_conditional_losses, gru_cell_1_layer_call_fn, gru_cell_1_layer_call_and_return_conditional_losses, gru_cell_1_layer_call_and_return_conditional_losses while saving (showing 5 of 5). These functions will not be directly callable after loading.\n"
          ]
        },
        {
          "output_type": "stream",
          "name": "stdout",
          "text": [
            "INFO:tensorflow:Assets written to: /content/gdrive/My Drive/models/GRU_Google/assets\n"
          ]
        },
        {
          "output_type": "stream",
          "name": "stderr",
          "text": [
            "INFO:tensorflow:Assets written to: /content/gdrive/My Drive/models/GRU_Google/assets\n"
          ]
        }
      ],
      "metadata": {
        "id": "4YttzJHHU4-s",
        "colab": {
          "base_uri": "https://localhost:8080/"
        },
        "outputId": "122fc111-151a-403e-fd5f-f112881a3da9"
      }
    }
  ]
}