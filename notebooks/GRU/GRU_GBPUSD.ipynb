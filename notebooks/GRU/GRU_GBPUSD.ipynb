{
  "nbformat": 4,
  "nbformat_minor": 2,
  "metadata": {
    "colab": {
      "name": "GRU_GBPUSD.ipynb",
      "provenance": [],
      "collapsed_sections": [],
      "authorship_tag": "ABX9TyMm7Q2QiG+1hgMsNRxMusZL",
      "include_colab_link": true
    },
    "kernelspec": {
      "name": "python3",
      "display_name": "Python 3"
    },
    "language_info": {
      "name": "python"
    },
    "accelerator": "GPU",
    "widgets": {
      "application/vnd.jupyter.widget-state+json": {
        "6229d3662ef549839990f37d1ab07031": {
          "model_module": "@jupyter-widgets/controls",
          "model_name": "VBoxModel",
          "state": {
            "_view_name": "VBoxView",
            "_dom_classes": [],
            "_model_name": "VBoxModel",
            "_view_module": "@jupyter-widgets/controls",
            "_model_module_version": "1.5.0",
            "_view_count": null,
            "_view_module_version": "1.5.0",
            "box_style": "",
            "layout": "IPY_MODEL_a1206d6e473c4ee6abe71c04f7399e35",
            "_model_module": "@jupyter-widgets/controls",
            "children": [
              "IPY_MODEL_6551f36e063f4805b0c4915daac70cb7",
              "IPY_MODEL_2a0ad99c83384ce1a5ac35dd445961fd"
            ]
          }
        },
        "a1206d6e473c4ee6abe71c04f7399e35": {
          "model_module": "@jupyter-widgets/base",
          "model_name": "LayoutModel",
          "state": {
            "_view_name": "LayoutView",
            "grid_template_rows": null,
            "right": null,
            "justify_content": null,
            "_view_module": "@jupyter-widgets/base",
            "overflow": null,
            "_model_module_version": "1.2.0",
            "_view_count": null,
            "flex_flow": null,
            "width": null,
            "min_width": null,
            "border": null,
            "align_items": null,
            "bottom": null,
            "_model_module": "@jupyter-widgets/base",
            "top": null,
            "grid_column": null,
            "overflow_y": null,
            "overflow_x": null,
            "grid_auto_flow": null,
            "grid_area": null,
            "grid_template_columns": null,
            "flex": null,
            "_model_name": "LayoutModel",
            "justify_items": null,
            "grid_row": null,
            "max_height": null,
            "align_content": null,
            "visibility": null,
            "align_self": null,
            "height": null,
            "min_height": null,
            "padding": null,
            "grid_auto_rows": null,
            "grid_gap": null,
            "max_width": null,
            "order": null,
            "_view_module_version": "1.2.0",
            "grid_template_areas": null,
            "object_position": null,
            "object_fit": null,
            "grid_auto_columns": null,
            "margin": null,
            "display": null,
            "left": null
          }
        },
        "6551f36e063f4805b0c4915daac70cb7": {
          "model_module": "@jupyter-widgets/controls",
          "model_name": "LabelModel",
          "state": {
            "_view_name": "LabelView",
            "style": "IPY_MODEL_a496f2ac65b5496e8ea1199646c12210",
            "_dom_classes": [],
            "description": "",
            "_model_name": "LabelModel",
            "placeholder": "​",
            "_view_module": "@jupyter-widgets/controls",
            "_model_module_version": "1.5.0",
            "value": " 0.62MB of 0.62MB uploaded (0.00MB deduped)\r",
            "_view_count": null,
            "_view_module_version": "1.5.0",
            "description_tooltip": null,
            "_model_module": "@jupyter-widgets/controls",
            "layout": "IPY_MODEL_10ae33e16a2e4097ba74fd616df362cc"
          }
        },
        "2a0ad99c83384ce1a5ac35dd445961fd": {
          "model_module": "@jupyter-widgets/controls",
          "model_name": "FloatProgressModel",
          "state": {
            "_view_name": "ProgressView",
            "style": "IPY_MODEL_f30e75a87b6e4bce94fd77ad5611ced0",
            "_dom_classes": [],
            "description": "",
            "_model_name": "FloatProgressModel",
            "bar_style": "",
            "max": 1,
            "_view_module": "@jupyter-widgets/controls",
            "_model_module_version": "1.5.0",
            "value": 1,
            "_view_count": null,
            "_view_module_version": "1.5.0",
            "orientation": "horizontal",
            "min": 0,
            "description_tooltip": null,
            "_model_module": "@jupyter-widgets/controls",
            "layout": "IPY_MODEL_c1e203d2413741879959506293db7ae3"
          }
        },
        "a496f2ac65b5496e8ea1199646c12210": {
          "model_module": "@jupyter-widgets/controls",
          "model_name": "DescriptionStyleModel",
          "state": {
            "_view_name": "StyleView",
            "_model_name": "DescriptionStyleModel",
            "description_width": "",
            "_view_module": "@jupyter-widgets/base",
            "_model_module_version": "1.5.0",
            "_view_count": null,
            "_view_module_version": "1.2.0",
            "_model_module": "@jupyter-widgets/controls"
          }
        },
        "10ae33e16a2e4097ba74fd616df362cc": {
          "model_module": "@jupyter-widgets/base",
          "model_name": "LayoutModel",
          "state": {
            "_view_name": "LayoutView",
            "grid_template_rows": null,
            "right": null,
            "justify_content": null,
            "_view_module": "@jupyter-widgets/base",
            "overflow": null,
            "_model_module_version": "1.2.0",
            "_view_count": null,
            "flex_flow": null,
            "width": null,
            "min_width": null,
            "border": null,
            "align_items": null,
            "bottom": null,
            "_model_module": "@jupyter-widgets/base",
            "top": null,
            "grid_column": null,
            "overflow_y": null,
            "overflow_x": null,
            "grid_auto_flow": null,
            "grid_area": null,
            "grid_template_columns": null,
            "flex": null,
            "_model_name": "LayoutModel",
            "justify_items": null,
            "grid_row": null,
            "max_height": null,
            "align_content": null,
            "visibility": null,
            "align_self": null,
            "height": null,
            "min_height": null,
            "padding": null,
            "grid_auto_rows": null,
            "grid_gap": null,
            "max_width": null,
            "order": null,
            "_view_module_version": "1.2.0",
            "grid_template_areas": null,
            "object_position": null,
            "object_fit": null,
            "grid_auto_columns": null,
            "margin": null,
            "display": null,
            "left": null
          }
        },
        "f30e75a87b6e4bce94fd77ad5611ced0": {
          "model_module": "@jupyter-widgets/controls",
          "model_name": "ProgressStyleModel",
          "state": {
            "_view_name": "StyleView",
            "_model_name": "ProgressStyleModel",
            "description_width": "",
            "_view_module": "@jupyter-widgets/base",
            "_model_module_version": "1.5.0",
            "_view_count": null,
            "_view_module_version": "1.2.0",
            "bar_color": null,
            "_model_module": "@jupyter-widgets/controls"
          }
        },
        "c1e203d2413741879959506293db7ae3": {
          "model_module": "@jupyter-widgets/base",
          "model_name": "LayoutModel",
          "state": {
            "_view_name": "LayoutView",
            "grid_template_rows": null,
            "right": null,
            "justify_content": null,
            "_view_module": "@jupyter-widgets/base",
            "overflow": null,
            "_model_module_version": "1.2.0",
            "_view_count": null,
            "flex_flow": null,
            "width": null,
            "min_width": null,
            "border": null,
            "align_items": null,
            "bottom": null,
            "_model_module": "@jupyter-widgets/base",
            "top": null,
            "grid_column": null,
            "overflow_y": null,
            "overflow_x": null,
            "grid_auto_flow": null,
            "grid_area": null,
            "grid_template_columns": null,
            "flex": null,
            "_model_name": "LayoutModel",
            "justify_items": null,
            "grid_row": null,
            "max_height": null,
            "align_content": null,
            "visibility": null,
            "align_self": null,
            "height": null,
            "min_height": null,
            "padding": null,
            "grid_auto_rows": null,
            "grid_gap": null,
            "max_width": null,
            "order": null,
            "_view_module_version": "1.2.0",
            "grid_template_areas": null,
            "object_position": null,
            "object_fit": null,
            "grid_auto_columns": null,
            "margin": null,
            "display": null,
            "left": null
          }
        },
        "529dfe88a3b54273881a3d9a6d926afd": {
          "model_module": "@jupyter-widgets/controls",
          "model_name": "VBoxModel",
          "state": {
            "_view_name": "VBoxView",
            "_dom_classes": [],
            "_model_name": "VBoxModel",
            "_view_module": "@jupyter-widgets/controls",
            "_model_module_version": "1.5.0",
            "_view_count": null,
            "_view_module_version": "1.5.0",
            "box_style": "",
            "layout": "IPY_MODEL_1f0078230416424890c70de5accdeebd",
            "_model_module": "@jupyter-widgets/controls",
            "children": [
              "IPY_MODEL_c2c505a5c688465b8a4022e3562701de",
              "IPY_MODEL_db225f3bc6df490486b30afd0db3a4a3"
            ]
          }
        },
        "1f0078230416424890c70de5accdeebd": {
          "model_module": "@jupyter-widgets/base",
          "model_name": "LayoutModel",
          "state": {
            "_view_name": "LayoutView",
            "grid_template_rows": null,
            "right": null,
            "justify_content": null,
            "_view_module": "@jupyter-widgets/base",
            "overflow": null,
            "_model_module_version": "1.2.0",
            "_view_count": null,
            "flex_flow": null,
            "width": null,
            "min_width": null,
            "border": null,
            "align_items": null,
            "bottom": null,
            "_model_module": "@jupyter-widgets/base",
            "top": null,
            "grid_column": null,
            "overflow_y": null,
            "overflow_x": null,
            "grid_auto_flow": null,
            "grid_area": null,
            "grid_template_columns": null,
            "flex": null,
            "_model_name": "LayoutModel",
            "justify_items": null,
            "grid_row": null,
            "max_height": null,
            "align_content": null,
            "visibility": null,
            "align_self": null,
            "height": null,
            "min_height": null,
            "padding": null,
            "grid_auto_rows": null,
            "grid_gap": null,
            "max_width": null,
            "order": null,
            "_view_module_version": "1.2.0",
            "grid_template_areas": null,
            "object_position": null,
            "object_fit": null,
            "grid_auto_columns": null,
            "margin": null,
            "display": null,
            "left": null
          }
        },
        "c2c505a5c688465b8a4022e3562701de": {
          "model_module": "@jupyter-widgets/controls",
          "model_name": "LabelModel",
          "state": {
            "_view_name": "LabelView",
            "style": "IPY_MODEL_50b69a64376240dbba362396a9286ef3",
            "_dom_classes": [],
            "description": "",
            "_model_name": "LabelModel",
            "placeholder": "​",
            "_view_module": "@jupyter-widgets/controls",
            "_model_module_version": "1.5.0",
            "value": " 0.99MB of 0.99MB uploaded (0.00MB deduped)\r",
            "_view_count": null,
            "_view_module_version": "1.5.0",
            "description_tooltip": null,
            "_model_module": "@jupyter-widgets/controls",
            "layout": "IPY_MODEL_99d13a245c4f41098480ae06932519e0"
          }
        },
        "db225f3bc6df490486b30afd0db3a4a3": {
          "model_module": "@jupyter-widgets/controls",
          "model_name": "FloatProgressModel",
          "state": {
            "_view_name": "ProgressView",
            "style": "IPY_MODEL_e31a0a6b3a1b4fc4a0f4485591a0d608",
            "_dom_classes": [],
            "description": "",
            "_model_name": "FloatProgressModel",
            "bar_style": "",
            "max": 1,
            "_view_module": "@jupyter-widgets/controls",
            "_model_module_version": "1.5.0",
            "value": 1,
            "_view_count": null,
            "_view_module_version": "1.5.0",
            "orientation": "horizontal",
            "min": 0,
            "description_tooltip": null,
            "_model_module": "@jupyter-widgets/controls",
            "layout": "IPY_MODEL_d01030b203f746c693ff61a29276b426"
          }
        },
        "50b69a64376240dbba362396a9286ef3": {
          "model_module": "@jupyter-widgets/controls",
          "model_name": "DescriptionStyleModel",
          "state": {
            "_view_name": "StyleView",
            "_model_name": "DescriptionStyleModel",
            "description_width": "",
            "_view_module": "@jupyter-widgets/base",
            "_model_module_version": "1.5.0",
            "_view_count": null,
            "_view_module_version": "1.2.0",
            "_model_module": "@jupyter-widgets/controls"
          }
        },
        "99d13a245c4f41098480ae06932519e0": {
          "model_module": "@jupyter-widgets/base",
          "model_name": "LayoutModel",
          "state": {
            "_view_name": "LayoutView",
            "grid_template_rows": null,
            "right": null,
            "justify_content": null,
            "_view_module": "@jupyter-widgets/base",
            "overflow": null,
            "_model_module_version": "1.2.0",
            "_view_count": null,
            "flex_flow": null,
            "width": null,
            "min_width": null,
            "border": null,
            "align_items": null,
            "bottom": null,
            "_model_module": "@jupyter-widgets/base",
            "top": null,
            "grid_column": null,
            "overflow_y": null,
            "overflow_x": null,
            "grid_auto_flow": null,
            "grid_area": null,
            "grid_template_columns": null,
            "flex": null,
            "_model_name": "LayoutModel",
            "justify_items": null,
            "grid_row": null,
            "max_height": null,
            "align_content": null,
            "visibility": null,
            "align_self": null,
            "height": null,
            "min_height": null,
            "padding": null,
            "grid_auto_rows": null,
            "grid_gap": null,
            "max_width": null,
            "order": null,
            "_view_module_version": "1.2.0",
            "grid_template_areas": null,
            "object_position": null,
            "object_fit": null,
            "grid_auto_columns": null,
            "margin": null,
            "display": null,
            "left": null
          }
        },
        "e31a0a6b3a1b4fc4a0f4485591a0d608": {
          "model_module": "@jupyter-widgets/controls",
          "model_name": "ProgressStyleModel",
          "state": {
            "_view_name": "StyleView",
            "_model_name": "ProgressStyleModel",
            "description_width": "",
            "_view_module": "@jupyter-widgets/base",
            "_model_module_version": "1.5.0",
            "_view_count": null,
            "_view_module_version": "1.2.0",
            "bar_color": null,
            "_model_module": "@jupyter-widgets/controls"
          }
        },
        "d01030b203f746c693ff61a29276b426": {
          "model_module": "@jupyter-widgets/base",
          "model_name": "LayoutModel",
          "state": {
            "_view_name": "LayoutView",
            "grid_template_rows": null,
            "right": null,
            "justify_content": null,
            "_view_module": "@jupyter-widgets/base",
            "overflow": null,
            "_model_module_version": "1.2.0",
            "_view_count": null,
            "flex_flow": null,
            "width": null,
            "min_width": null,
            "border": null,
            "align_items": null,
            "bottom": null,
            "_model_module": "@jupyter-widgets/base",
            "top": null,
            "grid_column": null,
            "overflow_y": null,
            "overflow_x": null,
            "grid_auto_flow": null,
            "grid_area": null,
            "grid_template_columns": null,
            "flex": null,
            "_model_name": "LayoutModel",
            "justify_items": null,
            "grid_row": null,
            "max_height": null,
            "align_content": null,
            "visibility": null,
            "align_self": null,
            "height": null,
            "min_height": null,
            "padding": null,
            "grid_auto_rows": null,
            "grid_gap": null,
            "max_width": null,
            "order": null,
            "_view_module_version": "1.2.0",
            "grid_template_areas": null,
            "object_position": null,
            "object_fit": null,
            "grid_auto_columns": null,
            "margin": null,
            "display": null,
            "left": null
          }
        },
        "687a525fb38747deaea5cead4360b024": {
          "model_module": "@jupyter-widgets/controls",
          "model_name": "VBoxModel",
          "state": {
            "_view_name": "VBoxView",
            "_dom_classes": [],
            "_model_name": "VBoxModel",
            "_view_module": "@jupyter-widgets/controls",
            "_model_module_version": "1.5.0",
            "_view_count": null,
            "_view_module_version": "1.5.0",
            "box_style": "",
            "layout": "IPY_MODEL_34387446a550406a9e32168aefe44ce5",
            "_model_module": "@jupyter-widgets/controls",
            "children": [
              "IPY_MODEL_f8c2cc2168d14511877523e127d56610",
              "IPY_MODEL_a05409ead9f14d188b4a00aafc7bacec"
            ]
          }
        },
        "34387446a550406a9e32168aefe44ce5": {
          "model_module": "@jupyter-widgets/base",
          "model_name": "LayoutModel",
          "state": {
            "_view_name": "LayoutView",
            "grid_template_rows": null,
            "right": null,
            "justify_content": null,
            "_view_module": "@jupyter-widgets/base",
            "overflow": null,
            "_model_module_version": "1.2.0",
            "_view_count": null,
            "flex_flow": null,
            "width": null,
            "min_width": null,
            "border": null,
            "align_items": null,
            "bottom": null,
            "_model_module": "@jupyter-widgets/base",
            "top": null,
            "grid_column": null,
            "overflow_y": null,
            "overflow_x": null,
            "grid_auto_flow": null,
            "grid_area": null,
            "grid_template_columns": null,
            "flex": null,
            "_model_name": "LayoutModel",
            "justify_items": null,
            "grid_row": null,
            "max_height": null,
            "align_content": null,
            "visibility": null,
            "align_self": null,
            "height": null,
            "min_height": null,
            "padding": null,
            "grid_auto_rows": null,
            "grid_gap": null,
            "max_width": null,
            "order": null,
            "_view_module_version": "1.2.0",
            "grid_template_areas": null,
            "object_position": null,
            "object_fit": null,
            "grid_auto_columns": null,
            "margin": null,
            "display": null,
            "left": null
          }
        },
        "f8c2cc2168d14511877523e127d56610": {
          "model_module": "@jupyter-widgets/controls",
          "model_name": "LabelModel",
          "state": {
            "_view_name": "LabelView",
            "style": "IPY_MODEL_8d6e45d562234adc82a4fa74115c4033",
            "_dom_classes": [],
            "description": "",
            "_model_name": "LabelModel",
            "placeholder": "​",
            "_view_module": "@jupyter-widgets/controls",
            "_model_module_version": "1.5.0",
            "value": " 0.86MB of 0.86MB uploaded (0.00MB deduped)\r",
            "_view_count": null,
            "_view_module_version": "1.5.0",
            "description_tooltip": null,
            "_model_module": "@jupyter-widgets/controls",
            "layout": "IPY_MODEL_fd87a656a25e40f899e794108c576551"
          }
        },
        "a05409ead9f14d188b4a00aafc7bacec": {
          "model_module": "@jupyter-widgets/controls",
          "model_name": "FloatProgressModel",
          "state": {
            "_view_name": "ProgressView",
            "style": "IPY_MODEL_98e2ff9cbe6c426b89f1f3cf710f85a1",
            "_dom_classes": [],
            "description": "",
            "_model_name": "FloatProgressModel",
            "bar_style": "",
            "max": 1,
            "_view_module": "@jupyter-widgets/controls",
            "_model_module_version": "1.5.0",
            "value": 1,
            "_view_count": null,
            "_view_module_version": "1.5.0",
            "orientation": "horizontal",
            "min": 0,
            "description_tooltip": null,
            "_model_module": "@jupyter-widgets/controls",
            "layout": "IPY_MODEL_a2efdbc826a7414fb169f4a5d72fae44"
          }
        },
        "8d6e45d562234adc82a4fa74115c4033": {
          "model_module": "@jupyter-widgets/controls",
          "model_name": "DescriptionStyleModel",
          "state": {
            "_view_name": "StyleView",
            "_model_name": "DescriptionStyleModel",
            "description_width": "",
            "_view_module": "@jupyter-widgets/base",
            "_model_module_version": "1.5.0",
            "_view_count": null,
            "_view_module_version": "1.2.0",
            "_model_module": "@jupyter-widgets/controls"
          }
        },
        "fd87a656a25e40f899e794108c576551": {
          "model_module": "@jupyter-widgets/base",
          "model_name": "LayoutModel",
          "state": {
            "_view_name": "LayoutView",
            "grid_template_rows": null,
            "right": null,
            "justify_content": null,
            "_view_module": "@jupyter-widgets/base",
            "overflow": null,
            "_model_module_version": "1.2.0",
            "_view_count": null,
            "flex_flow": null,
            "width": null,
            "min_width": null,
            "border": null,
            "align_items": null,
            "bottom": null,
            "_model_module": "@jupyter-widgets/base",
            "top": null,
            "grid_column": null,
            "overflow_y": null,
            "overflow_x": null,
            "grid_auto_flow": null,
            "grid_area": null,
            "grid_template_columns": null,
            "flex": null,
            "_model_name": "LayoutModel",
            "justify_items": null,
            "grid_row": null,
            "max_height": null,
            "align_content": null,
            "visibility": null,
            "align_self": null,
            "height": null,
            "min_height": null,
            "padding": null,
            "grid_auto_rows": null,
            "grid_gap": null,
            "max_width": null,
            "order": null,
            "_view_module_version": "1.2.0",
            "grid_template_areas": null,
            "object_position": null,
            "object_fit": null,
            "grid_auto_columns": null,
            "margin": null,
            "display": null,
            "left": null
          }
        },
        "98e2ff9cbe6c426b89f1f3cf710f85a1": {
          "model_module": "@jupyter-widgets/controls",
          "model_name": "ProgressStyleModel",
          "state": {
            "_view_name": "StyleView",
            "_model_name": "ProgressStyleModel",
            "description_width": "",
            "_view_module": "@jupyter-widgets/base",
            "_model_module_version": "1.5.0",
            "_view_count": null,
            "_view_module_version": "1.2.0",
            "bar_color": null,
            "_model_module": "@jupyter-widgets/controls"
          }
        },
        "a2efdbc826a7414fb169f4a5d72fae44": {
          "model_module": "@jupyter-widgets/base",
          "model_name": "LayoutModel",
          "state": {
            "_view_name": "LayoutView",
            "grid_template_rows": null,
            "right": null,
            "justify_content": null,
            "_view_module": "@jupyter-widgets/base",
            "overflow": null,
            "_model_module_version": "1.2.0",
            "_view_count": null,
            "flex_flow": null,
            "width": null,
            "min_width": null,
            "border": null,
            "align_items": null,
            "bottom": null,
            "_model_module": "@jupyter-widgets/base",
            "top": null,
            "grid_column": null,
            "overflow_y": null,
            "overflow_x": null,
            "grid_auto_flow": null,
            "grid_area": null,
            "grid_template_columns": null,
            "flex": null,
            "_model_name": "LayoutModel",
            "justify_items": null,
            "grid_row": null,
            "max_height": null,
            "align_content": null,
            "visibility": null,
            "align_self": null,
            "height": null,
            "min_height": null,
            "padding": null,
            "grid_auto_rows": null,
            "grid_gap": null,
            "max_width": null,
            "order": null,
            "_view_module_version": "1.2.0",
            "grid_template_areas": null,
            "object_position": null,
            "object_fit": null,
            "grid_auto_columns": null,
            "margin": null,
            "display": null,
            "left": null
          }
        },
        "cb1f427697c8415786912057f5f176b7": {
          "model_module": "@jupyter-widgets/controls",
          "model_name": "VBoxModel",
          "state": {
            "_view_name": "VBoxView",
            "_dom_classes": [],
            "_model_name": "VBoxModel",
            "_view_module": "@jupyter-widgets/controls",
            "_model_module_version": "1.5.0",
            "_view_count": null,
            "_view_module_version": "1.5.0",
            "box_style": "",
            "layout": "IPY_MODEL_416764338c7844db9bc6de48651a5d00",
            "_model_module": "@jupyter-widgets/controls",
            "children": [
              "IPY_MODEL_fe69327b29c64c3a8c64daa480e78f43",
              "IPY_MODEL_f6e24f53d09d417eb211e4806de20cad"
            ]
          }
        },
        "416764338c7844db9bc6de48651a5d00": {
          "model_module": "@jupyter-widgets/base",
          "model_name": "LayoutModel",
          "state": {
            "_view_name": "LayoutView",
            "grid_template_rows": null,
            "right": null,
            "justify_content": null,
            "_view_module": "@jupyter-widgets/base",
            "overflow": null,
            "_model_module_version": "1.2.0",
            "_view_count": null,
            "flex_flow": null,
            "width": null,
            "min_width": null,
            "border": null,
            "align_items": null,
            "bottom": null,
            "_model_module": "@jupyter-widgets/base",
            "top": null,
            "grid_column": null,
            "overflow_y": null,
            "overflow_x": null,
            "grid_auto_flow": null,
            "grid_area": null,
            "grid_template_columns": null,
            "flex": null,
            "_model_name": "LayoutModel",
            "justify_items": null,
            "grid_row": null,
            "max_height": null,
            "align_content": null,
            "visibility": null,
            "align_self": null,
            "height": null,
            "min_height": null,
            "padding": null,
            "grid_auto_rows": null,
            "grid_gap": null,
            "max_width": null,
            "order": null,
            "_view_module_version": "1.2.0",
            "grid_template_areas": null,
            "object_position": null,
            "object_fit": null,
            "grid_auto_columns": null,
            "margin": null,
            "display": null,
            "left": null
          }
        },
        "fe69327b29c64c3a8c64daa480e78f43": {
          "model_module": "@jupyter-widgets/controls",
          "model_name": "LabelModel",
          "state": {
            "_view_name": "LabelView",
            "style": "IPY_MODEL_9ad81293f9264ee98d3f6c71f4285920",
            "_dom_classes": [],
            "description": "",
            "_model_name": "LabelModel",
            "placeholder": "​",
            "_view_module": "@jupyter-widgets/controls",
            "_model_module_version": "1.5.0",
            "value": " 0.87MB of 0.87MB uploaded (0.00MB deduped)\r",
            "_view_count": null,
            "_view_module_version": "1.5.0",
            "description_tooltip": null,
            "_model_module": "@jupyter-widgets/controls",
            "layout": "IPY_MODEL_79a7ff2ba5f54e1cab00340e3e9d6355"
          }
        },
        "f6e24f53d09d417eb211e4806de20cad": {
          "model_module": "@jupyter-widgets/controls",
          "model_name": "FloatProgressModel",
          "state": {
            "_view_name": "ProgressView",
            "style": "IPY_MODEL_fe930148cc8944158b8a41ef592d9153",
            "_dom_classes": [],
            "description": "",
            "_model_name": "FloatProgressModel",
            "bar_style": "",
            "max": 1,
            "_view_module": "@jupyter-widgets/controls",
            "_model_module_version": "1.5.0",
            "value": 1,
            "_view_count": null,
            "_view_module_version": "1.5.0",
            "orientation": "horizontal",
            "min": 0,
            "description_tooltip": null,
            "_model_module": "@jupyter-widgets/controls",
            "layout": "IPY_MODEL_d9b3c1cdcc41475c9a8c2de3cf7eee08"
          }
        },
        "9ad81293f9264ee98d3f6c71f4285920": {
          "model_module": "@jupyter-widgets/controls",
          "model_name": "DescriptionStyleModel",
          "state": {
            "_view_name": "StyleView",
            "_model_name": "DescriptionStyleModel",
            "description_width": "",
            "_view_module": "@jupyter-widgets/base",
            "_model_module_version": "1.5.0",
            "_view_count": null,
            "_view_module_version": "1.2.0",
            "_model_module": "@jupyter-widgets/controls"
          }
        },
        "79a7ff2ba5f54e1cab00340e3e9d6355": {
          "model_module": "@jupyter-widgets/base",
          "model_name": "LayoutModel",
          "state": {
            "_view_name": "LayoutView",
            "grid_template_rows": null,
            "right": null,
            "justify_content": null,
            "_view_module": "@jupyter-widgets/base",
            "overflow": null,
            "_model_module_version": "1.2.0",
            "_view_count": null,
            "flex_flow": null,
            "width": null,
            "min_width": null,
            "border": null,
            "align_items": null,
            "bottom": null,
            "_model_module": "@jupyter-widgets/base",
            "top": null,
            "grid_column": null,
            "overflow_y": null,
            "overflow_x": null,
            "grid_auto_flow": null,
            "grid_area": null,
            "grid_template_columns": null,
            "flex": null,
            "_model_name": "LayoutModel",
            "justify_items": null,
            "grid_row": null,
            "max_height": null,
            "align_content": null,
            "visibility": null,
            "align_self": null,
            "height": null,
            "min_height": null,
            "padding": null,
            "grid_auto_rows": null,
            "grid_gap": null,
            "max_width": null,
            "order": null,
            "_view_module_version": "1.2.0",
            "grid_template_areas": null,
            "object_position": null,
            "object_fit": null,
            "grid_auto_columns": null,
            "margin": null,
            "display": null,
            "left": null
          }
        },
        "fe930148cc8944158b8a41ef592d9153": {
          "model_module": "@jupyter-widgets/controls",
          "model_name": "ProgressStyleModel",
          "state": {
            "_view_name": "StyleView",
            "_model_name": "ProgressStyleModel",
            "description_width": "",
            "_view_module": "@jupyter-widgets/base",
            "_model_module_version": "1.5.0",
            "_view_count": null,
            "_view_module_version": "1.2.0",
            "bar_color": null,
            "_model_module": "@jupyter-widgets/controls"
          }
        },
        "d9b3c1cdcc41475c9a8c2de3cf7eee08": {
          "model_module": "@jupyter-widgets/base",
          "model_name": "LayoutModel",
          "state": {
            "_view_name": "LayoutView",
            "grid_template_rows": null,
            "right": null,
            "justify_content": null,
            "_view_module": "@jupyter-widgets/base",
            "overflow": null,
            "_model_module_version": "1.2.0",
            "_view_count": null,
            "flex_flow": null,
            "width": null,
            "min_width": null,
            "border": null,
            "align_items": null,
            "bottom": null,
            "_model_module": "@jupyter-widgets/base",
            "top": null,
            "grid_column": null,
            "overflow_y": null,
            "overflow_x": null,
            "grid_auto_flow": null,
            "grid_area": null,
            "grid_template_columns": null,
            "flex": null,
            "_model_name": "LayoutModel",
            "justify_items": null,
            "grid_row": null,
            "max_height": null,
            "align_content": null,
            "visibility": null,
            "align_self": null,
            "height": null,
            "min_height": null,
            "padding": null,
            "grid_auto_rows": null,
            "grid_gap": null,
            "max_width": null,
            "order": null,
            "_view_module_version": "1.2.0",
            "grid_template_areas": null,
            "object_position": null,
            "object_fit": null,
            "grid_auto_columns": null,
            "margin": null,
            "display": null,
            "left": null
          }
        },
        "9d47b7677a444675832375ef5ff2ad37": {
          "model_module": "@jupyter-widgets/controls",
          "model_name": "VBoxModel",
          "state": {
            "_view_name": "VBoxView",
            "_dom_classes": [],
            "_model_name": "VBoxModel",
            "_view_module": "@jupyter-widgets/controls",
            "_model_module_version": "1.5.0",
            "_view_count": null,
            "_view_module_version": "1.5.0",
            "box_style": "",
            "layout": "IPY_MODEL_377a900a4e914e7ba27a04eb8166147f",
            "_model_module": "@jupyter-widgets/controls",
            "children": [
              "IPY_MODEL_2ecf22e94f06443fbf42822548301713",
              "IPY_MODEL_524f1f82fdac440f9c928acba31022ff"
            ]
          }
        },
        "377a900a4e914e7ba27a04eb8166147f": {
          "model_module": "@jupyter-widgets/base",
          "model_name": "LayoutModel",
          "state": {
            "_view_name": "LayoutView",
            "grid_template_rows": null,
            "right": null,
            "justify_content": null,
            "_view_module": "@jupyter-widgets/base",
            "overflow": null,
            "_model_module_version": "1.2.0",
            "_view_count": null,
            "flex_flow": null,
            "width": null,
            "min_width": null,
            "border": null,
            "align_items": null,
            "bottom": null,
            "_model_module": "@jupyter-widgets/base",
            "top": null,
            "grid_column": null,
            "overflow_y": null,
            "overflow_x": null,
            "grid_auto_flow": null,
            "grid_area": null,
            "grid_template_columns": null,
            "flex": null,
            "_model_name": "LayoutModel",
            "justify_items": null,
            "grid_row": null,
            "max_height": null,
            "align_content": null,
            "visibility": null,
            "align_self": null,
            "height": null,
            "min_height": null,
            "padding": null,
            "grid_auto_rows": null,
            "grid_gap": null,
            "max_width": null,
            "order": null,
            "_view_module_version": "1.2.0",
            "grid_template_areas": null,
            "object_position": null,
            "object_fit": null,
            "grid_auto_columns": null,
            "margin": null,
            "display": null,
            "left": null
          }
        },
        "2ecf22e94f06443fbf42822548301713": {
          "model_module": "@jupyter-widgets/controls",
          "model_name": "LabelModel",
          "state": {
            "_view_name": "LabelView",
            "style": "IPY_MODEL_24444d9b443345ac8e685e1c0c82dc4c",
            "_dom_classes": [],
            "description": "",
            "_model_name": "LabelModel",
            "placeholder": "​",
            "_view_module": "@jupyter-widgets/controls",
            "_model_module_version": "1.5.0",
            "value": " 1.48MB of 1.48MB uploaded (0.00MB deduped)\r",
            "_view_count": null,
            "_view_module_version": "1.5.0",
            "description_tooltip": null,
            "_model_module": "@jupyter-widgets/controls",
            "layout": "IPY_MODEL_b261d65933084bdc886bfa56ac2e94fd"
          }
        },
        "524f1f82fdac440f9c928acba31022ff": {
          "model_module": "@jupyter-widgets/controls",
          "model_name": "FloatProgressModel",
          "state": {
            "_view_name": "ProgressView",
            "style": "IPY_MODEL_bf779d6ec22c400aa4c358c62460361a",
            "_dom_classes": [],
            "description": "",
            "_model_name": "FloatProgressModel",
            "bar_style": "",
            "max": 1,
            "_view_module": "@jupyter-widgets/controls",
            "_model_module_version": "1.5.0",
            "value": 1,
            "_view_count": null,
            "_view_module_version": "1.5.0",
            "orientation": "horizontal",
            "min": 0,
            "description_tooltip": null,
            "_model_module": "@jupyter-widgets/controls",
            "layout": "IPY_MODEL_7a71a5723c1a41c989fd4879144e3f57"
          }
        },
        "24444d9b443345ac8e685e1c0c82dc4c": {
          "model_module": "@jupyter-widgets/controls",
          "model_name": "DescriptionStyleModel",
          "state": {
            "_view_name": "StyleView",
            "_model_name": "DescriptionStyleModel",
            "description_width": "",
            "_view_module": "@jupyter-widgets/base",
            "_model_module_version": "1.5.0",
            "_view_count": null,
            "_view_module_version": "1.2.0",
            "_model_module": "@jupyter-widgets/controls"
          }
        },
        "b261d65933084bdc886bfa56ac2e94fd": {
          "model_module": "@jupyter-widgets/base",
          "model_name": "LayoutModel",
          "state": {
            "_view_name": "LayoutView",
            "grid_template_rows": null,
            "right": null,
            "justify_content": null,
            "_view_module": "@jupyter-widgets/base",
            "overflow": null,
            "_model_module_version": "1.2.0",
            "_view_count": null,
            "flex_flow": null,
            "width": null,
            "min_width": null,
            "border": null,
            "align_items": null,
            "bottom": null,
            "_model_module": "@jupyter-widgets/base",
            "top": null,
            "grid_column": null,
            "overflow_y": null,
            "overflow_x": null,
            "grid_auto_flow": null,
            "grid_area": null,
            "grid_template_columns": null,
            "flex": null,
            "_model_name": "LayoutModel",
            "justify_items": null,
            "grid_row": null,
            "max_height": null,
            "align_content": null,
            "visibility": null,
            "align_self": null,
            "height": null,
            "min_height": null,
            "padding": null,
            "grid_auto_rows": null,
            "grid_gap": null,
            "max_width": null,
            "order": null,
            "_view_module_version": "1.2.0",
            "grid_template_areas": null,
            "object_position": null,
            "object_fit": null,
            "grid_auto_columns": null,
            "margin": null,
            "display": null,
            "left": null
          }
        },
        "bf779d6ec22c400aa4c358c62460361a": {
          "model_module": "@jupyter-widgets/controls",
          "model_name": "ProgressStyleModel",
          "state": {
            "_view_name": "StyleView",
            "_model_name": "ProgressStyleModel",
            "description_width": "",
            "_view_module": "@jupyter-widgets/base",
            "_model_module_version": "1.5.0",
            "_view_count": null,
            "_view_module_version": "1.2.0",
            "bar_color": null,
            "_model_module": "@jupyter-widgets/controls"
          }
        },
        "7a71a5723c1a41c989fd4879144e3f57": {
          "model_module": "@jupyter-widgets/base",
          "model_name": "LayoutModel",
          "state": {
            "_view_name": "LayoutView",
            "grid_template_rows": null,
            "right": null,
            "justify_content": null,
            "_view_module": "@jupyter-widgets/base",
            "overflow": null,
            "_model_module_version": "1.2.0",
            "_view_count": null,
            "flex_flow": null,
            "width": null,
            "min_width": null,
            "border": null,
            "align_items": null,
            "bottom": null,
            "_model_module": "@jupyter-widgets/base",
            "top": null,
            "grid_column": null,
            "overflow_y": null,
            "overflow_x": null,
            "grid_auto_flow": null,
            "grid_area": null,
            "grid_template_columns": null,
            "flex": null,
            "_model_name": "LayoutModel",
            "justify_items": null,
            "grid_row": null,
            "max_height": null,
            "align_content": null,
            "visibility": null,
            "align_self": null,
            "height": null,
            "min_height": null,
            "padding": null,
            "grid_auto_rows": null,
            "grid_gap": null,
            "max_width": null,
            "order": null,
            "_view_module_version": "1.2.0",
            "grid_template_areas": null,
            "object_position": null,
            "object_fit": null,
            "grid_auto_columns": null,
            "margin": null,
            "display": null,
            "left": null
          }
        },
        "0cdee6a616ed46a89546c628c7e5b6e9": {
          "model_module": "@jupyter-widgets/controls",
          "model_name": "VBoxModel",
          "state": {
            "_view_name": "VBoxView",
            "_dom_classes": [],
            "_model_name": "VBoxModel",
            "_view_module": "@jupyter-widgets/controls",
            "_model_module_version": "1.5.0",
            "_view_count": null,
            "_view_module_version": "1.5.0",
            "box_style": "",
            "layout": "IPY_MODEL_c567a8530a9b4fc78d6a710ce0667ed2",
            "_model_module": "@jupyter-widgets/controls",
            "children": [
              "IPY_MODEL_bf69247400104eb2a104504492f35701",
              "IPY_MODEL_1332da57a17e49efa776ea97cfb49ddb"
            ]
          }
        },
        "c567a8530a9b4fc78d6a710ce0667ed2": {
          "model_module": "@jupyter-widgets/base",
          "model_name": "LayoutModel",
          "state": {
            "_view_name": "LayoutView",
            "grid_template_rows": null,
            "right": null,
            "justify_content": null,
            "_view_module": "@jupyter-widgets/base",
            "overflow": null,
            "_model_module_version": "1.2.0",
            "_view_count": null,
            "flex_flow": null,
            "width": null,
            "min_width": null,
            "border": null,
            "align_items": null,
            "bottom": null,
            "_model_module": "@jupyter-widgets/base",
            "top": null,
            "grid_column": null,
            "overflow_y": null,
            "overflow_x": null,
            "grid_auto_flow": null,
            "grid_area": null,
            "grid_template_columns": null,
            "flex": null,
            "_model_name": "LayoutModel",
            "justify_items": null,
            "grid_row": null,
            "max_height": null,
            "align_content": null,
            "visibility": null,
            "align_self": null,
            "height": null,
            "min_height": null,
            "padding": null,
            "grid_auto_rows": null,
            "grid_gap": null,
            "max_width": null,
            "order": null,
            "_view_module_version": "1.2.0",
            "grid_template_areas": null,
            "object_position": null,
            "object_fit": null,
            "grid_auto_columns": null,
            "margin": null,
            "display": null,
            "left": null
          }
        },
        "bf69247400104eb2a104504492f35701": {
          "model_module": "@jupyter-widgets/controls",
          "model_name": "LabelModel",
          "state": {
            "_view_name": "LabelView",
            "style": "IPY_MODEL_af6730d567a74d8caf3fc575a3215eef",
            "_dom_classes": [],
            "description": "",
            "_model_name": "LabelModel",
            "placeholder": "​",
            "_view_module": "@jupyter-widgets/controls",
            "_model_module_version": "1.5.0",
            "value": " 0.61MB of 0.61MB uploaded (0.00MB deduped)\r",
            "_view_count": null,
            "_view_module_version": "1.5.0",
            "description_tooltip": null,
            "_model_module": "@jupyter-widgets/controls",
            "layout": "IPY_MODEL_3a4d0c5c78274cdcbe4b89b8e06c1659"
          }
        },
        "1332da57a17e49efa776ea97cfb49ddb": {
          "model_module": "@jupyter-widgets/controls",
          "model_name": "FloatProgressModel",
          "state": {
            "_view_name": "ProgressView",
            "style": "IPY_MODEL_1906b1276cbd4d619a2328c0def3235c",
            "_dom_classes": [],
            "description": "",
            "_model_name": "FloatProgressModel",
            "bar_style": "",
            "max": 1,
            "_view_module": "@jupyter-widgets/controls",
            "_model_module_version": "1.5.0",
            "value": 1,
            "_view_count": null,
            "_view_module_version": "1.5.0",
            "orientation": "horizontal",
            "min": 0,
            "description_tooltip": null,
            "_model_module": "@jupyter-widgets/controls",
            "layout": "IPY_MODEL_91087f1555404c0b9a2eb0931103268c"
          }
        },
        "af6730d567a74d8caf3fc575a3215eef": {
          "model_module": "@jupyter-widgets/controls",
          "model_name": "DescriptionStyleModel",
          "state": {
            "_view_name": "StyleView",
            "_model_name": "DescriptionStyleModel",
            "description_width": "",
            "_view_module": "@jupyter-widgets/base",
            "_model_module_version": "1.5.0",
            "_view_count": null,
            "_view_module_version": "1.2.0",
            "_model_module": "@jupyter-widgets/controls"
          }
        },
        "3a4d0c5c78274cdcbe4b89b8e06c1659": {
          "model_module": "@jupyter-widgets/base",
          "model_name": "LayoutModel",
          "state": {
            "_view_name": "LayoutView",
            "grid_template_rows": null,
            "right": null,
            "justify_content": null,
            "_view_module": "@jupyter-widgets/base",
            "overflow": null,
            "_model_module_version": "1.2.0",
            "_view_count": null,
            "flex_flow": null,
            "width": null,
            "min_width": null,
            "border": null,
            "align_items": null,
            "bottom": null,
            "_model_module": "@jupyter-widgets/base",
            "top": null,
            "grid_column": null,
            "overflow_y": null,
            "overflow_x": null,
            "grid_auto_flow": null,
            "grid_area": null,
            "grid_template_columns": null,
            "flex": null,
            "_model_name": "LayoutModel",
            "justify_items": null,
            "grid_row": null,
            "max_height": null,
            "align_content": null,
            "visibility": null,
            "align_self": null,
            "height": null,
            "min_height": null,
            "padding": null,
            "grid_auto_rows": null,
            "grid_gap": null,
            "max_width": null,
            "order": null,
            "_view_module_version": "1.2.0",
            "grid_template_areas": null,
            "object_position": null,
            "object_fit": null,
            "grid_auto_columns": null,
            "margin": null,
            "display": null,
            "left": null
          }
        },
        "1906b1276cbd4d619a2328c0def3235c": {
          "model_module": "@jupyter-widgets/controls",
          "model_name": "ProgressStyleModel",
          "state": {
            "_view_name": "StyleView",
            "_model_name": "ProgressStyleModel",
            "description_width": "",
            "_view_module": "@jupyter-widgets/base",
            "_model_module_version": "1.5.0",
            "_view_count": null,
            "_view_module_version": "1.2.0",
            "bar_color": null,
            "_model_module": "@jupyter-widgets/controls"
          }
        },
        "91087f1555404c0b9a2eb0931103268c": {
          "model_module": "@jupyter-widgets/base",
          "model_name": "LayoutModel",
          "state": {
            "_view_name": "LayoutView",
            "grid_template_rows": null,
            "right": null,
            "justify_content": null,
            "_view_module": "@jupyter-widgets/base",
            "overflow": null,
            "_model_module_version": "1.2.0",
            "_view_count": null,
            "flex_flow": null,
            "width": null,
            "min_width": null,
            "border": null,
            "align_items": null,
            "bottom": null,
            "_model_module": "@jupyter-widgets/base",
            "top": null,
            "grid_column": null,
            "overflow_y": null,
            "overflow_x": null,
            "grid_auto_flow": null,
            "grid_area": null,
            "grid_template_columns": null,
            "flex": null,
            "_model_name": "LayoutModel",
            "justify_items": null,
            "grid_row": null,
            "max_height": null,
            "align_content": null,
            "visibility": null,
            "align_self": null,
            "height": null,
            "min_height": null,
            "padding": null,
            "grid_auto_rows": null,
            "grid_gap": null,
            "max_width": null,
            "order": null,
            "_view_module_version": "1.2.0",
            "grid_template_areas": null,
            "object_position": null,
            "object_fit": null,
            "grid_auto_columns": null,
            "margin": null,
            "display": null,
            "left": null
          }
        },
        "41db82c7c58c4781a0fa3636d41fb945": {
          "model_module": "@jupyter-widgets/controls",
          "model_name": "VBoxModel",
          "state": {
            "_view_name": "VBoxView",
            "_dom_classes": [],
            "_model_name": "VBoxModel",
            "_view_module": "@jupyter-widgets/controls",
            "_model_module_version": "1.5.0",
            "_view_count": null,
            "_view_module_version": "1.5.0",
            "box_style": "",
            "layout": "IPY_MODEL_00c60bb14a1942598fb83cea5eca6eb5",
            "_model_module": "@jupyter-widgets/controls",
            "children": [
              "IPY_MODEL_353fcbc44d41426a9ade765a89921917",
              "IPY_MODEL_696c84f022a649f7b841f2dab124d62a"
            ]
          }
        },
        "00c60bb14a1942598fb83cea5eca6eb5": {
          "model_module": "@jupyter-widgets/base",
          "model_name": "LayoutModel",
          "state": {
            "_view_name": "LayoutView",
            "grid_template_rows": null,
            "right": null,
            "justify_content": null,
            "_view_module": "@jupyter-widgets/base",
            "overflow": null,
            "_model_module_version": "1.2.0",
            "_view_count": null,
            "flex_flow": null,
            "width": null,
            "min_width": null,
            "border": null,
            "align_items": null,
            "bottom": null,
            "_model_module": "@jupyter-widgets/base",
            "top": null,
            "grid_column": null,
            "overflow_y": null,
            "overflow_x": null,
            "grid_auto_flow": null,
            "grid_area": null,
            "grid_template_columns": null,
            "flex": null,
            "_model_name": "LayoutModel",
            "justify_items": null,
            "grid_row": null,
            "max_height": null,
            "align_content": null,
            "visibility": null,
            "align_self": null,
            "height": null,
            "min_height": null,
            "padding": null,
            "grid_auto_rows": null,
            "grid_gap": null,
            "max_width": null,
            "order": null,
            "_view_module_version": "1.2.0",
            "grid_template_areas": null,
            "object_position": null,
            "object_fit": null,
            "grid_auto_columns": null,
            "margin": null,
            "display": null,
            "left": null
          }
        },
        "353fcbc44d41426a9ade765a89921917": {
          "model_module": "@jupyter-widgets/controls",
          "model_name": "LabelModel",
          "state": {
            "_view_name": "LabelView",
            "style": "IPY_MODEL_1de5318b2d3d4aa6a90218a40ab3e331",
            "_dom_classes": [],
            "description": "",
            "_model_name": "LabelModel",
            "placeholder": "​",
            "_view_module": "@jupyter-widgets/controls",
            "_model_module_version": "1.5.0",
            "value": " 1.54MB of 1.54MB uploaded (0.00MB deduped)\r",
            "_view_count": null,
            "_view_module_version": "1.5.0",
            "description_tooltip": null,
            "_model_module": "@jupyter-widgets/controls",
            "layout": "IPY_MODEL_e89264d3346e499ba89d1a0dd4c42162"
          }
        },
        "696c84f022a649f7b841f2dab124d62a": {
          "model_module": "@jupyter-widgets/controls",
          "model_name": "FloatProgressModel",
          "state": {
            "_view_name": "ProgressView",
            "style": "IPY_MODEL_0d836e35b9df40f884b9dcfe31fcda25",
            "_dom_classes": [],
            "description": "",
            "_model_name": "FloatProgressModel",
            "bar_style": "",
            "max": 1,
            "_view_module": "@jupyter-widgets/controls",
            "_model_module_version": "1.5.0",
            "value": 1,
            "_view_count": null,
            "_view_module_version": "1.5.0",
            "orientation": "horizontal",
            "min": 0,
            "description_tooltip": null,
            "_model_module": "@jupyter-widgets/controls",
            "layout": "IPY_MODEL_62e69f787ad84e2fb9b837db26b07ae4"
          }
        },
        "1de5318b2d3d4aa6a90218a40ab3e331": {
          "model_module": "@jupyter-widgets/controls",
          "model_name": "DescriptionStyleModel",
          "state": {
            "_view_name": "StyleView",
            "_model_name": "DescriptionStyleModel",
            "description_width": "",
            "_view_module": "@jupyter-widgets/base",
            "_model_module_version": "1.5.0",
            "_view_count": null,
            "_view_module_version": "1.2.0",
            "_model_module": "@jupyter-widgets/controls"
          }
        },
        "e89264d3346e499ba89d1a0dd4c42162": {
          "model_module": "@jupyter-widgets/base",
          "model_name": "LayoutModel",
          "state": {
            "_view_name": "LayoutView",
            "grid_template_rows": null,
            "right": null,
            "justify_content": null,
            "_view_module": "@jupyter-widgets/base",
            "overflow": null,
            "_model_module_version": "1.2.0",
            "_view_count": null,
            "flex_flow": null,
            "width": null,
            "min_width": null,
            "border": null,
            "align_items": null,
            "bottom": null,
            "_model_module": "@jupyter-widgets/base",
            "top": null,
            "grid_column": null,
            "overflow_y": null,
            "overflow_x": null,
            "grid_auto_flow": null,
            "grid_area": null,
            "grid_template_columns": null,
            "flex": null,
            "_model_name": "LayoutModel",
            "justify_items": null,
            "grid_row": null,
            "max_height": null,
            "align_content": null,
            "visibility": null,
            "align_self": null,
            "height": null,
            "min_height": null,
            "padding": null,
            "grid_auto_rows": null,
            "grid_gap": null,
            "max_width": null,
            "order": null,
            "_view_module_version": "1.2.0",
            "grid_template_areas": null,
            "object_position": null,
            "object_fit": null,
            "grid_auto_columns": null,
            "margin": null,
            "display": null,
            "left": null
          }
        },
        "0d836e35b9df40f884b9dcfe31fcda25": {
          "model_module": "@jupyter-widgets/controls",
          "model_name": "ProgressStyleModel",
          "state": {
            "_view_name": "StyleView",
            "_model_name": "ProgressStyleModel",
            "description_width": "",
            "_view_module": "@jupyter-widgets/base",
            "_model_module_version": "1.5.0",
            "_view_count": null,
            "_view_module_version": "1.2.0",
            "bar_color": null,
            "_model_module": "@jupyter-widgets/controls"
          }
        },
        "62e69f787ad84e2fb9b837db26b07ae4": {
          "model_module": "@jupyter-widgets/base",
          "model_name": "LayoutModel",
          "state": {
            "_view_name": "LayoutView",
            "grid_template_rows": null,
            "right": null,
            "justify_content": null,
            "_view_module": "@jupyter-widgets/base",
            "overflow": null,
            "_model_module_version": "1.2.0",
            "_view_count": null,
            "flex_flow": null,
            "width": null,
            "min_width": null,
            "border": null,
            "align_items": null,
            "bottom": null,
            "_model_module": "@jupyter-widgets/base",
            "top": null,
            "grid_column": null,
            "overflow_y": null,
            "overflow_x": null,
            "grid_auto_flow": null,
            "grid_area": null,
            "grid_template_columns": null,
            "flex": null,
            "_model_name": "LayoutModel",
            "justify_items": null,
            "grid_row": null,
            "max_height": null,
            "align_content": null,
            "visibility": null,
            "align_self": null,
            "height": null,
            "min_height": null,
            "padding": null,
            "grid_auto_rows": null,
            "grid_gap": null,
            "max_width": null,
            "order": null,
            "_view_module_version": "1.2.0",
            "grid_template_areas": null,
            "object_position": null,
            "object_fit": null,
            "grid_auto_columns": null,
            "margin": null,
            "display": null,
            "left": null
          }
        },
        "1870da03713d45cbbecf45848713f368": {
          "model_module": "@jupyter-widgets/controls",
          "model_name": "VBoxModel",
          "state": {
            "_view_name": "VBoxView",
            "_dom_classes": [],
            "_model_name": "VBoxModel",
            "_view_module": "@jupyter-widgets/controls",
            "_model_module_version": "1.5.0",
            "_view_count": null,
            "_view_module_version": "1.5.0",
            "box_style": "",
            "layout": "IPY_MODEL_006b0178b6414f91966b432a63913620",
            "_model_module": "@jupyter-widgets/controls",
            "children": [
              "IPY_MODEL_44b510e8ac6844488d7488e1b8d2ba95",
              "IPY_MODEL_86571f53d84a4caebcf78970cb4c9a5d"
            ]
          }
        },
        "006b0178b6414f91966b432a63913620": {
          "model_module": "@jupyter-widgets/base",
          "model_name": "LayoutModel",
          "state": {
            "_view_name": "LayoutView",
            "grid_template_rows": null,
            "right": null,
            "justify_content": null,
            "_view_module": "@jupyter-widgets/base",
            "overflow": null,
            "_model_module_version": "1.2.0",
            "_view_count": null,
            "flex_flow": null,
            "width": null,
            "min_width": null,
            "border": null,
            "align_items": null,
            "bottom": null,
            "_model_module": "@jupyter-widgets/base",
            "top": null,
            "grid_column": null,
            "overflow_y": null,
            "overflow_x": null,
            "grid_auto_flow": null,
            "grid_area": null,
            "grid_template_columns": null,
            "flex": null,
            "_model_name": "LayoutModel",
            "justify_items": null,
            "grid_row": null,
            "max_height": null,
            "align_content": null,
            "visibility": null,
            "align_self": null,
            "height": null,
            "min_height": null,
            "padding": null,
            "grid_auto_rows": null,
            "grid_gap": null,
            "max_width": null,
            "order": null,
            "_view_module_version": "1.2.0",
            "grid_template_areas": null,
            "object_position": null,
            "object_fit": null,
            "grid_auto_columns": null,
            "margin": null,
            "display": null,
            "left": null
          }
        },
        "44b510e8ac6844488d7488e1b8d2ba95": {
          "model_module": "@jupyter-widgets/controls",
          "model_name": "LabelModel",
          "state": {
            "_view_name": "LabelView",
            "style": "IPY_MODEL_f78664eaaf944925a751c109bd9b7dc1",
            "_dom_classes": [],
            "description": "",
            "_model_name": "LabelModel",
            "placeholder": "​",
            "_view_module": "@jupyter-widgets/controls",
            "_model_module_version": "1.5.0",
            "value": " 0.80MB of 0.80MB uploaded (0.00MB deduped)\r",
            "_view_count": null,
            "_view_module_version": "1.5.0",
            "description_tooltip": null,
            "_model_module": "@jupyter-widgets/controls",
            "layout": "IPY_MODEL_de67d86b7ae048d48f12d0fcc2a46141"
          }
        },
        "86571f53d84a4caebcf78970cb4c9a5d": {
          "model_module": "@jupyter-widgets/controls",
          "model_name": "FloatProgressModel",
          "state": {
            "_view_name": "ProgressView",
            "style": "IPY_MODEL_efa0110b8fde4c6b9fa48f2b8d53d36e",
            "_dom_classes": [],
            "description": "",
            "_model_name": "FloatProgressModel",
            "bar_style": "",
            "max": 1,
            "_view_module": "@jupyter-widgets/controls",
            "_model_module_version": "1.5.0",
            "value": 1,
            "_view_count": null,
            "_view_module_version": "1.5.0",
            "orientation": "horizontal",
            "min": 0,
            "description_tooltip": null,
            "_model_module": "@jupyter-widgets/controls",
            "layout": "IPY_MODEL_d8eafa5dd0434914bdb6fa40d37b58bb"
          }
        },
        "f78664eaaf944925a751c109bd9b7dc1": {
          "model_module": "@jupyter-widgets/controls",
          "model_name": "DescriptionStyleModel",
          "state": {
            "_view_name": "StyleView",
            "_model_name": "DescriptionStyleModel",
            "description_width": "",
            "_view_module": "@jupyter-widgets/base",
            "_model_module_version": "1.5.0",
            "_view_count": null,
            "_view_module_version": "1.2.0",
            "_model_module": "@jupyter-widgets/controls"
          }
        },
        "de67d86b7ae048d48f12d0fcc2a46141": {
          "model_module": "@jupyter-widgets/base",
          "model_name": "LayoutModel",
          "state": {
            "_view_name": "LayoutView",
            "grid_template_rows": null,
            "right": null,
            "justify_content": null,
            "_view_module": "@jupyter-widgets/base",
            "overflow": null,
            "_model_module_version": "1.2.0",
            "_view_count": null,
            "flex_flow": null,
            "width": null,
            "min_width": null,
            "border": null,
            "align_items": null,
            "bottom": null,
            "_model_module": "@jupyter-widgets/base",
            "top": null,
            "grid_column": null,
            "overflow_y": null,
            "overflow_x": null,
            "grid_auto_flow": null,
            "grid_area": null,
            "grid_template_columns": null,
            "flex": null,
            "_model_name": "LayoutModel",
            "justify_items": null,
            "grid_row": null,
            "max_height": null,
            "align_content": null,
            "visibility": null,
            "align_self": null,
            "height": null,
            "min_height": null,
            "padding": null,
            "grid_auto_rows": null,
            "grid_gap": null,
            "max_width": null,
            "order": null,
            "_view_module_version": "1.2.0",
            "grid_template_areas": null,
            "object_position": null,
            "object_fit": null,
            "grid_auto_columns": null,
            "margin": null,
            "display": null,
            "left": null
          }
        },
        "efa0110b8fde4c6b9fa48f2b8d53d36e": {
          "model_module": "@jupyter-widgets/controls",
          "model_name": "ProgressStyleModel",
          "state": {
            "_view_name": "StyleView",
            "_model_name": "ProgressStyleModel",
            "description_width": "",
            "_view_module": "@jupyter-widgets/base",
            "_model_module_version": "1.5.0",
            "_view_count": null,
            "_view_module_version": "1.2.0",
            "bar_color": null,
            "_model_module": "@jupyter-widgets/controls"
          }
        },
        "d8eafa5dd0434914bdb6fa40d37b58bb": {
          "model_module": "@jupyter-widgets/base",
          "model_name": "LayoutModel",
          "state": {
            "_view_name": "LayoutView",
            "grid_template_rows": null,
            "right": null,
            "justify_content": null,
            "_view_module": "@jupyter-widgets/base",
            "overflow": null,
            "_model_module_version": "1.2.0",
            "_view_count": null,
            "flex_flow": null,
            "width": null,
            "min_width": null,
            "border": null,
            "align_items": null,
            "bottom": null,
            "_model_module": "@jupyter-widgets/base",
            "top": null,
            "grid_column": null,
            "overflow_y": null,
            "overflow_x": null,
            "grid_auto_flow": null,
            "grid_area": null,
            "grid_template_columns": null,
            "flex": null,
            "_model_name": "LayoutModel",
            "justify_items": null,
            "grid_row": null,
            "max_height": null,
            "align_content": null,
            "visibility": null,
            "align_self": null,
            "height": null,
            "min_height": null,
            "padding": null,
            "grid_auto_rows": null,
            "grid_gap": null,
            "max_width": null,
            "order": null,
            "_view_module_version": "1.2.0",
            "grid_template_areas": null,
            "object_position": null,
            "object_fit": null,
            "grid_auto_columns": null,
            "margin": null,
            "display": null,
            "left": null
          }
        },
        "33cf0a3449b34baea8d95f53d6b9546b": {
          "model_module": "@jupyter-widgets/controls",
          "model_name": "VBoxModel",
          "state": {
            "_view_name": "VBoxView",
            "_dom_classes": [],
            "_model_name": "VBoxModel",
            "_view_module": "@jupyter-widgets/controls",
            "_model_module_version": "1.5.0",
            "_view_count": null,
            "_view_module_version": "1.5.0",
            "box_style": "",
            "layout": "IPY_MODEL_4fde9282d1064887a65030e19a2ec550",
            "_model_module": "@jupyter-widgets/controls",
            "children": [
              "IPY_MODEL_194d663b02974f4ebfb045d80ad4ee8b",
              "IPY_MODEL_cdf31267b7d940e0b6a83044c204c9ac"
            ]
          }
        },
        "4fde9282d1064887a65030e19a2ec550": {
          "model_module": "@jupyter-widgets/base",
          "model_name": "LayoutModel",
          "state": {
            "_view_name": "LayoutView",
            "grid_template_rows": null,
            "right": null,
            "justify_content": null,
            "_view_module": "@jupyter-widgets/base",
            "overflow": null,
            "_model_module_version": "1.2.0",
            "_view_count": null,
            "flex_flow": null,
            "width": null,
            "min_width": null,
            "border": null,
            "align_items": null,
            "bottom": null,
            "_model_module": "@jupyter-widgets/base",
            "top": null,
            "grid_column": null,
            "overflow_y": null,
            "overflow_x": null,
            "grid_auto_flow": null,
            "grid_area": null,
            "grid_template_columns": null,
            "flex": null,
            "_model_name": "LayoutModel",
            "justify_items": null,
            "grid_row": null,
            "max_height": null,
            "align_content": null,
            "visibility": null,
            "align_self": null,
            "height": null,
            "min_height": null,
            "padding": null,
            "grid_auto_rows": null,
            "grid_gap": null,
            "max_width": null,
            "order": null,
            "_view_module_version": "1.2.0",
            "grid_template_areas": null,
            "object_position": null,
            "object_fit": null,
            "grid_auto_columns": null,
            "margin": null,
            "display": null,
            "left": null
          }
        },
        "194d663b02974f4ebfb045d80ad4ee8b": {
          "model_module": "@jupyter-widgets/controls",
          "model_name": "LabelModel",
          "state": {
            "_view_name": "LabelView",
            "style": "IPY_MODEL_f916c8020bf44911b01ca7d1c6af14a9",
            "_dom_classes": [],
            "description": "",
            "_model_name": "LabelModel",
            "placeholder": "​",
            "_view_module": "@jupyter-widgets/controls",
            "_model_module_version": "1.5.0",
            "value": " 1.60MB of 1.60MB uploaded (0.00MB deduped)\r",
            "_view_count": null,
            "_view_module_version": "1.5.0",
            "description_tooltip": null,
            "_model_module": "@jupyter-widgets/controls",
            "layout": "IPY_MODEL_2597b1f3460f4a50ba8a23a2a6f4ca38"
          }
        },
        "cdf31267b7d940e0b6a83044c204c9ac": {
          "model_module": "@jupyter-widgets/controls",
          "model_name": "FloatProgressModel",
          "state": {
            "_view_name": "ProgressView",
            "style": "IPY_MODEL_1d31f0299d0a45f598df25ed076700fc",
            "_dom_classes": [],
            "description": "",
            "_model_name": "FloatProgressModel",
            "bar_style": "",
            "max": 1,
            "_view_module": "@jupyter-widgets/controls",
            "_model_module_version": "1.5.0",
            "value": 1,
            "_view_count": null,
            "_view_module_version": "1.5.0",
            "orientation": "horizontal",
            "min": 0,
            "description_tooltip": null,
            "_model_module": "@jupyter-widgets/controls",
            "layout": "IPY_MODEL_e680cdecef214386a13b9dae13dde477"
          }
        },
        "f916c8020bf44911b01ca7d1c6af14a9": {
          "model_module": "@jupyter-widgets/controls",
          "model_name": "DescriptionStyleModel",
          "state": {
            "_view_name": "StyleView",
            "_model_name": "DescriptionStyleModel",
            "description_width": "",
            "_view_module": "@jupyter-widgets/base",
            "_model_module_version": "1.5.0",
            "_view_count": null,
            "_view_module_version": "1.2.0",
            "_model_module": "@jupyter-widgets/controls"
          }
        },
        "2597b1f3460f4a50ba8a23a2a6f4ca38": {
          "model_module": "@jupyter-widgets/base",
          "model_name": "LayoutModel",
          "state": {
            "_view_name": "LayoutView",
            "grid_template_rows": null,
            "right": null,
            "justify_content": null,
            "_view_module": "@jupyter-widgets/base",
            "overflow": null,
            "_model_module_version": "1.2.0",
            "_view_count": null,
            "flex_flow": null,
            "width": null,
            "min_width": null,
            "border": null,
            "align_items": null,
            "bottom": null,
            "_model_module": "@jupyter-widgets/base",
            "top": null,
            "grid_column": null,
            "overflow_y": null,
            "overflow_x": null,
            "grid_auto_flow": null,
            "grid_area": null,
            "grid_template_columns": null,
            "flex": null,
            "_model_name": "LayoutModel",
            "justify_items": null,
            "grid_row": null,
            "max_height": null,
            "align_content": null,
            "visibility": null,
            "align_self": null,
            "height": null,
            "min_height": null,
            "padding": null,
            "grid_auto_rows": null,
            "grid_gap": null,
            "max_width": null,
            "order": null,
            "_view_module_version": "1.2.0",
            "grid_template_areas": null,
            "object_position": null,
            "object_fit": null,
            "grid_auto_columns": null,
            "margin": null,
            "display": null,
            "left": null
          }
        },
        "1d31f0299d0a45f598df25ed076700fc": {
          "model_module": "@jupyter-widgets/controls",
          "model_name": "ProgressStyleModel",
          "state": {
            "_view_name": "StyleView",
            "_model_name": "ProgressStyleModel",
            "description_width": "",
            "_view_module": "@jupyter-widgets/base",
            "_model_module_version": "1.5.0",
            "_view_count": null,
            "_view_module_version": "1.2.0",
            "bar_color": null,
            "_model_module": "@jupyter-widgets/controls"
          }
        },
        "e680cdecef214386a13b9dae13dde477": {
          "model_module": "@jupyter-widgets/base",
          "model_name": "LayoutModel",
          "state": {
            "_view_name": "LayoutView",
            "grid_template_rows": null,
            "right": null,
            "justify_content": null,
            "_view_module": "@jupyter-widgets/base",
            "overflow": null,
            "_model_module_version": "1.2.0",
            "_view_count": null,
            "flex_flow": null,
            "width": null,
            "min_width": null,
            "border": null,
            "align_items": null,
            "bottom": null,
            "_model_module": "@jupyter-widgets/base",
            "top": null,
            "grid_column": null,
            "overflow_y": null,
            "overflow_x": null,
            "grid_auto_flow": null,
            "grid_area": null,
            "grid_template_columns": null,
            "flex": null,
            "_model_name": "LayoutModel",
            "justify_items": null,
            "grid_row": null,
            "max_height": null,
            "align_content": null,
            "visibility": null,
            "align_self": null,
            "height": null,
            "min_height": null,
            "padding": null,
            "grid_auto_rows": null,
            "grid_gap": null,
            "max_width": null,
            "order": null,
            "_view_module_version": "1.2.0",
            "grid_template_areas": null,
            "object_position": null,
            "object_fit": null,
            "grid_auto_columns": null,
            "margin": null,
            "display": null,
            "left": null
          }
        },
        "064e005e70684a2fa46941f762979bd3": {
          "model_module": "@jupyter-widgets/controls",
          "model_name": "VBoxModel",
          "state": {
            "_view_name": "VBoxView",
            "_dom_classes": [],
            "_model_name": "VBoxModel",
            "_view_module": "@jupyter-widgets/controls",
            "_model_module_version": "1.5.0",
            "_view_count": null,
            "_view_module_version": "1.5.0",
            "box_style": "",
            "layout": "IPY_MODEL_d5c4040b6bbe48b3baa6257e70cbdf1b",
            "_model_module": "@jupyter-widgets/controls",
            "children": [
              "IPY_MODEL_b815c574616c4fc7a57963f0d4506cb6",
              "IPY_MODEL_a28af822c5064cdc94b779d0dbdd1efe"
            ]
          }
        },
        "d5c4040b6bbe48b3baa6257e70cbdf1b": {
          "model_module": "@jupyter-widgets/base",
          "model_name": "LayoutModel",
          "state": {
            "_view_name": "LayoutView",
            "grid_template_rows": null,
            "right": null,
            "justify_content": null,
            "_view_module": "@jupyter-widgets/base",
            "overflow": null,
            "_model_module_version": "1.2.0",
            "_view_count": null,
            "flex_flow": null,
            "width": null,
            "min_width": null,
            "border": null,
            "align_items": null,
            "bottom": null,
            "_model_module": "@jupyter-widgets/base",
            "top": null,
            "grid_column": null,
            "overflow_y": null,
            "overflow_x": null,
            "grid_auto_flow": null,
            "grid_area": null,
            "grid_template_columns": null,
            "flex": null,
            "_model_name": "LayoutModel",
            "justify_items": null,
            "grid_row": null,
            "max_height": null,
            "align_content": null,
            "visibility": null,
            "align_self": null,
            "height": null,
            "min_height": null,
            "padding": null,
            "grid_auto_rows": null,
            "grid_gap": null,
            "max_width": null,
            "order": null,
            "_view_module_version": "1.2.0",
            "grid_template_areas": null,
            "object_position": null,
            "object_fit": null,
            "grid_auto_columns": null,
            "margin": null,
            "display": null,
            "left": null
          }
        },
        "b815c574616c4fc7a57963f0d4506cb6": {
          "model_module": "@jupyter-widgets/controls",
          "model_name": "LabelModel",
          "state": {
            "_view_name": "LabelView",
            "style": "IPY_MODEL_97c4b704a9754fcea3d9fa5590bde3cc",
            "_dom_classes": [],
            "description": "",
            "_model_name": "LabelModel",
            "placeholder": "​",
            "_view_module": "@jupyter-widgets/controls",
            "_model_module_version": "1.5.0",
            "value": " 0.64MB of 0.64MB uploaded (0.00MB deduped)\r",
            "_view_count": null,
            "_view_module_version": "1.5.0",
            "description_tooltip": null,
            "_model_module": "@jupyter-widgets/controls",
            "layout": "IPY_MODEL_3595c9a5349645af92bba08aeb939e23"
          }
        },
        "a28af822c5064cdc94b779d0dbdd1efe": {
          "model_module": "@jupyter-widgets/controls",
          "model_name": "FloatProgressModel",
          "state": {
            "_view_name": "ProgressView",
            "style": "IPY_MODEL_f61a380f2d3c4912be14e259024b299d",
            "_dom_classes": [],
            "description": "",
            "_model_name": "FloatProgressModel",
            "bar_style": "",
            "max": 1,
            "_view_module": "@jupyter-widgets/controls",
            "_model_module_version": "1.5.0",
            "value": 1,
            "_view_count": null,
            "_view_module_version": "1.5.0",
            "orientation": "horizontal",
            "min": 0,
            "description_tooltip": null,
            "_model_module": "@jupyter-widgets/controls",
            "layout": "IPY_MODEL_7f4f2beb4f6646c6a3899045181bc591"
          }
        },
        "97c4b704a9754fcea3d9fa5590bde3cc": {
          "model_module": "@jupyter-widgets/controls",
          "model_name": "DescriptionStyleModel",
          "state": {
            "_view_name": "StyleView",
            "_model_name": "DescriptionStyleModel",
            "description_width": "",
            "_view_module": "@jupyter-widgets/base",
            "_model_module_version": "1.5.0",
            "_view_count": null,
            "_view_module_version": "1.2.0",
            "_model_module": "@jupyter-widgets/controls"
          }
        },
        "3595c9a5349645af92bba08aeb939e23": {
          "model_module": "@jupyter-widgets/base",
          "model_name": "LayoutModel",
          "state": {
            "_view_name": "LayoutView",
            "grid_template_rows": null,
            "right": null,
            "justify_content": null,
            "_view_module": "@jupyter-widgets/base",
            "overflow": null,
            "_model_module_version": "1.2.0",
            "_view_count": null,
            "flex_flow": null,
            "width": null,
            "min_width": null,
            "border": null,
            "align_items": null,
            "bottom": null,
            "_model_module": "@jupyter-widgets/base",
            "top": null,
            "grid_column": null,
            "overflow_y": null,
            "overflow_x": null,
            "grid_auto_flow": null,
            "grid_area": null,
            "grid_template_columns": null,
            "flex": null,
            "_model_name": "LayoutModel",
            "justify_items": null,
            "grid_row": null,
            "max_height": null,
            "align_content": null,
            "visibility": null,
            "align_self": null,
            "height": null,
            "min_height": null,
            "padding": null,
            "grid_auto_rows": null,
            "grid_gap": null,
            "max_width": null,
            "order": null,
            "_view_module_version": "1.2.0",
            "grid_template_areas": null,
            "object_position": null,
            "object_fit": null,
            "grid_auto_columns": null,
            "margin": null,
            "display": null,
            "left": null
          }
        },
        "f61a380f2d3c4912be14e259024b299d": {
          "model_module": "@jupyter-widgets/controls",
          "model_name": "ProgressStyleModel",
          "state": {
            "_view_name": "StyleView",
            "_model_name": "ProgressStyleModel",
            "description_width": "",
            "_view_module": "@jupyter-widgets/base",
            "_model_module_version": "1.5.0",
            "_view_count": null,
            "_view_module_version": "1.2.0",
            "bar_color": null,
            "_model_module": "@jupyter-widgets/controls"
          }
        },
        "7f4f2beb4f6646c6a3899045181bc591": {
          "model_module": "@jupyter-widgets/base",
          "model_name": "LayoutModel",
          "state": {
            "_view_name": "LayoutView",
            "grid_template_rows": null,
            "right": null,
            "justify_content": null,
            "_view_module": "@jupyter-widgets/base",
            "overflow": null,
            "_model_module_version": "1.2.0",
            "_view_count": null,
            "flex_flow": null,
            "width": null,
            "min_width": null,
            "border": null,
            "align_items": null,
            "bottom": null,
            "_model_module": "@jupyter-widgets/base",
            "top": null,
            "grid_column": null,
            "overflow_y": null,
            "overflow_x": null,
            "grid_auto_flow": null,
            "grid_area": null,
            "grid_template_columns": null,
            "flex": null,
            "_model_name": "LayoutModel",
            "justify_items": null,
            "grid_row": null,
            "max_height": null,
            "align_content": null,
            "visibility": null,
            "align_self": null,
            "height": null,
            "min_height": null,
            "padding": null,
            "grid_auto_rows": null,
            "grid_gap": null,
            "max_width": null,
            "order": null,
            "_view_module_version": "1.2.0",
            "grid_template_areas": null,
            "object_position": null,
            "object_fit": null,
            "grid_auto_columns": null,
            "margin": null,
            "display": null,
            "left": null
          }
        },
        "aebe71a9652f47048cd5bf0ee128a160": {
          "model_module": "@jupyter-widgets/controls",
          "model_name": "VBoxModel",
          "state": {
            "_view_name": "VBoxView",
            "_dom_classes": [],
            "_model_name": "VBoxModel",
            "_view_module": "@jupyter-widgets/controls",
            "_model_module_version": "1.5.0",
            "_view_count": null,
            "_view_module_version": "1.5.0",
            "box_style": "",
            "layout": "IPY_MODEL_dcb512e1e0c246de9b9b7f52d76789ea",
            "_model_module": "@jupyter-widgets/controls",
            "children": [
              "IPY_MODEL_7843e36487834f35b984d9abce1e5d15",
              "IPY_MODEL_4d5940452b024418818c0766ae330428"
            ]
          }
        },
        "dcb512e1e0c246de9b9b7f52d76789ea": {
          "model_module": "@jupyter-widgets/base",
          "model_name": "LayoutModel",
          "state": {
            "_view_name": "LayoutView",
            "grid_template_rows": null,
            "right": null,
            "justify_content": null,
            "_view_module": "@jupyter-widgets/base",
            "overflow": null,
            "_model_module_version": "1.2.0",
            "_view_count": null,
            "flex_flow": null,
            "width": null,
            "min_width": null,
            "border": null,
            "align_items": null,
            "bottom": null,
            "_model_module": "@jupyter-widgets/base",
            "top": null,
            "grid_column": null,
            "overflow_y": null,
            "overflow_x": null,
            "grid_auto_flow": null,
            "grid_area": null,
            "grid_template_columns": null,
            "flex": null,
            "_model_name": "LayoutModel",
            "justify_items": null,
            "grid_row": null,
            "max_height": null,
            "align_content": null,
            "visibility": null,
            "align_self": null,
            "height": null,
            "min_height": null,
            "padding": null,
            "grid_auto_rows": null,
            "grid_gap": null,
            "max_width": null,
            "order": null,
            "_view_module_version": "1.2.0",
            "grid_template_areas": null,
            "object_position": null,
            "object_fit": null,
            "grid_auto_columns": null,
            "margin": null,
            "display": null,
            "left": null
          }
        },
        "7843e36487834f35b984d9abce1e5d15": {
          "model_module": "@jupyter-widgets/controls",
          "model_name": "LabelModel",
          "state": {
            "_view_name": "LabelView",
            "style": "IPY_MODEL_5d0cf52a806342ff974c02d8940ab606",
            "_dom_classes": [],
            "description": "",
            "_model_name": "LabelModel",
            "placeholder": "​",
            "_view_module": "@jupyter-widgets/controls",
            "_model_module_version": "1.5.0",
            "value": " 0.77MB of 0.77MB uploaded (0.00MB deduped)\r",
            "_view_count": null,
            "_view_module_version": "1.5.0",
            "description_tooltip": null,
            "_model_module": "@jupyter-widgets/controls",
            "layout": "IPY_MODEL_a5a3303100c14e4ea8a64743371c7ea7"
          }
        },
        "4d5940452b024418818c0766ae330428": {
          "model_module": "@jupyter-widgets/controls",
          "model_name": "FloatProgressModel",
          "state": {
            "_view_name": "ProgressView",
            "style": "IPY_MODEL_4338ac9a79744f91b93e835098353e6d",
            "_dom_classes": [],
            "description": "",
            "_model_name": "FloatProgressModel",
            "bar_style": "",
            "max": 1,
            "_view_module": "@jupyter-widgets/controls",
            "_model_module_version": "1.5.0",
            "value": 1,
            "_view_count": null,
            "_view_module_version": "1.5.0",
            "orientation": "horizontal",
            "min": 0,
            "description_tooltip": null,
            "_model_module": "@jupyter-widgets/controls",
            "layout": "IPY_MODEL_ffa29da342d64ba88a76da0939d6d010"
          }
        },
        "5d0cf52a806342ff974c02d8940ab606": {
          "model_module": "@jupyter-widgets/controls",
          "model_name": "DescriptionStyleModel",
          "state": {
            "_view_name": "StyleView",
            "_model_name": "DescriptionStyleModel",
            "description_width": "",
            "_view_module": "@jupyter-widgets/base",
            "_model_module_version": "1.5.0",
            "_view_count": null,
            "_view_module_version": "1.2.0",
            "_model_module": "@jupyter-widgets/controls"
          }
        },
        "a5a3303100c14e4ea8a64743371c7ea7": {
          "model_module": "@jupyter-widgets/base",
          "model_name": "LayoutModel",
          "state": {
            "_view_name": "LayoutView",
            "grid_template_rows": null,
            "right": null,
            "justify_content": null,
            "_view_module": "@jupyter-widgets/base",
            "overflow": null,
            "_model_module_version": "1.2.0",
            "_view_count": null,
            "flex_flow": null,
            "width": null,
            "min_width": null,
            "border": null,
            "align_items": null,
            "bottom": null,
            "_model_module": "@jupyter-widgets/base",
            "top": null,
            "grid_column": null,
            "overflow_y": null,
            "overflow_x": null,
            "grid_auto_flow": null,
            "grid_area": null,
            "grid_template_columns": null,
            "flex": null,
            "_model_name": "LayoutModel",
            "justify_items": null,
            "grid_row": null,
            "max_height": null,
            "align_content": null,
            "visibility": null,
            "align_self": null,
            "height": null,
            "min_height": null,
            "padding": null,
            "grid_auto_rows": null,
            "grid_gap": null,
            "max_width": null,
            "order": null,
            "_view_module_version": "1.2.0",
            "grid_template_areas": null,
            "object_position": null,
            "object_fit": null,
            "grid_auto_columns": null,
            "margin": null,
            "display": null,
            "left": null
          }
        },
        "4338ac9a79744f91b93e835098353e6d": {
          "model_module": "@jupyter-widgets/controls",
          "model_name": "ProgressStyleModel",
          "state": {
            "_view_name": "StyleView",
            "_model_name": "ProgressStyleModel",
            "description_width": "",
            "_view_module": "@jupyter-widgets/base",
            "_model_module_version": "1.5.0",
            "_view_count": null,
            "_view_module_version": "1.2.0",
            "bar_color": null,
            "_model_module": "@jupyter-widgets/controls"
          }
        },
        "ffa29da342d64ba88a76da0939d6d010": {
          "model_module": "@jupyter-widgets/base",
          "model_name": "LayoutModel",
          "state": {
            "_view_name": "LayoutView",
            "grid_template_rows": null,
            "right": null,
            "justify_content": null,
            "_view_module": "@jupyter-widgets/base",
            "overflow": null,
            "_model_module_version": "1.2.0",
            "_view_count": null,
            "flex_flow": null,
            "width": null,
            "min_width": null,
            "border": null,
            "align_items": null,
            "bottom": null,
            "_model_module": "@jupyter-widgets/base",
            "top": null,
            "grid_column": null,
            "overflow_y": null,
            "overflow_x": null,
            "grid_auto_flow": null,
            "grid_area": null,
            "grid_template_columns": null,
            "flex": null,
            "_model_name": "LayoutModel",
            "justify_items": null,
            "grid_row": null,
            "max_height": null,
            "align_content": null,
            "visibility": null,
            "align_self": null,
            "height": null,
            "min_height": null,
            "padding": null,
            "grid_auto_rows": null,
            "grid_gap": null,
            "max_width": null,
            "order": null,
            "_view_module_version": "1.2.0",
            "grid_template_areas": null,
            "object_position": null,
            "object_fit": null,
            "grid_auto_columns": null,
            "margin": null,
            "display": null,
            "left": null
          }
        },
        "8acf6a4158bb48a888642534354acb60": {
          "model_module": "@jupyter-widgets/controls",
          "model_name": "VBoxModel",
          "state": {
            "_view_name": "VBoxView",
            "_dom_classes": [],
            "_model_name": "VBoxModel",
            "_view_module": "@jupyter-widgets/controls",
            "_model_module_version": "1.5.0",
            "_view_count": null,
            "_view_module_version": "1.5.0",
            "box_style": "",
            "layout": "IPY_MODEL_36218ecacf964c8ea57d126390eac9e6",
            "_model_module": "@jupyter-widgets/controls",
            "children": [
              "IPY_MODEL_d13b54f5e65445d4b64f104a340b137c",
              "IPY_MODEL_40ccaa28652c49c78ae3645985b12b3d"
            ]
          }
        },
        "36218ecacf964c8ea57d126390eac9e6": {
          "model_module": "@jupyter-widgets/base",
          "model_name": "LayoutModel",
          "state": {
            "_view_name": "LayoutView",
            "grid_template_rows": null,
            "right": null,
            "justify_content": null,
            "_view_module": "@jupyter-widgets/base",
            "overflow": null,
            "_model_module_version": "1.2.0",
            "_view_count": null,
            "flex_flow": null,
            "width": null,
            "min_width": null,
            "border": null,
            "align_items": null,
            "bottom": null,
            "_model_module": "@jupyter-widgets/base",
            "top": null,
            "grid_column": null,
            "overflow_y": null,
            "overflow_x": null,
            "grid_auto_flow": null,
            "grid_area": null,
            "grid_template_columns": null,
            "flex": null,
            "_model_name": "LayoutModel",
            "justify_items": null,
            "grid_row": null,
            "max_height": null,
            "align_content": null,
            "visibility": null,
            "align_self": null,
            "height": null,
            "min_height": null,
            "padding": null,
            "grid_auto_rows": null,
            "grid_gap": null,
            "max_width": null,
            "order": null,
            "_view_module_version": "1.2.0",
            "grid_template_areas": null,
            "object_position": null,
            "object_fit": null,
            "grid_auto_columns": null,
            "margin": null,
            "display": null,
            "left": null
          }
        },
        "d13b54f5e65445d4b64f104a340b137c": {
          "model_module": "@jupyter-widgets/controls",
          "model_name": "LabelModel",
          "state": {
            "_view_name": "LabelView",
            "style": "IPY_MODEL_bc3401364e704ee1bad0720e4c8e8770",
            "_dom_classes": [],
            "description": "",
            "_model_name": "LabelModel",
            "placeholder": "​",
            "_view_module": "@jupyter-widgets/controls",
            "_model_module_version": "1.5.0",
            "value": " 1.10MB of 1.10MB uploaded (0.00MB deduped)\r",
            "_view_count": null,
            "_view_module_version": "1.5.0",
            "description_tooltip": null,
            "_model_module": "@jupyter-widgets/controls",
            "layout": "IPY_MODEL_1967c8cc2c5e4c778eb3f3dafeb9b1ef"
          }
        },
        "40ccaa28652c49c78ae3645985b12b3d": {
          "model_module": "@jupyter-widgets/controls",
          "model_name": "FloatProgressModel",
          "state": {
            "_view_name": "ProgressView",
            "style": "IPY_MODEL_c034c4f3d3084ac5ac5f8adebc276ee6",
            "_dom_classes": [],
            "description": "",
            "_model_name": "FloatProgressModel",
            "bar_style": "",
            "max": 1,
            "_view_module": "@jupyter-widgets/controls",
            "_model_module_version": "1.5.0",
            "value": 1,
            "_view_count": null,
            "_view_module_version": "1.5.0",
            "orientation": "horizontal",
            "min": 0,
            "description_tooltip": null,
            "_model_module": "@jupyter-widgets/controls",
            "layout": "IPY_MODEL_64af9e4fd79143f59322cf45319a58d3"
          }
        },
        "bc3401364e704ee1bad0720e4c8e8770": {
          "model_module": "@jupyter-widgets/controls",
          "model_name": "DescriptionStyleModel",
          "state": {
            "_view_name": "StyleView",
            "_model_name": "DescriptionStyleModel",
            "description_width": "",
            "_view_module": "@jupyter-widgets/base",
            "_model_module_version": "1.5.0",
            "_view_count": null,
            "_view_module_version": "1.2.0",
            "_model_module": "@jupyter-widgets/controls"
          }
        },
        "1967c8cc2c5e4c778eb3f3dafeb9b1ef": {
          "model_module": "@jupyter-widgets/base",
          "model_name": "LayoutModel",
          "state": {
            "_view_name": "LayoutView",
            "grid_template_rows": null,
            "right": null,
            "justify_content": null,
            "_view_module": "@jupyter-widgets/base",
            "overflow": null,
            "_model_module_version": "1.2.0",
            "_view_count": null,
            "flex_flow": null,
            "width": null,
            "min_width": null,
            "border": null,
            "align_items": null,
            "bottom": null,
            "_model_module": "@jupyter-widgets/base",
            "top": null,
            "grid_column": null,
            "overflow_y": null,
            "overflow_x": null,
            "grid_auto_flow": null,
            "grid_area": null,
            "grid_template_columns": null,
            "flex": null,
            "_model_name": "LayoutModel",
            "justify_items": null,
            "grid_row": null,
            "max_height": null,
            "align_content": null,
            "visibility": null,
            "align_self": null,
            "height": null,
            "min_height": null,
            "padding": null,
            "grid_auto_rows": null,
            "grid_gap": null,
            "max_width": null,
            "order": null,
            "_view_module_version": "1.2.0",
            "grid_template_areas": null,
            "object_position": null,
            "object_fit": null,
            "grid_auto_columns": null,
            "margin": null,
            "display": null,
            "left": null
          }
        },
        "c034c4f3d3084ac5ac5f8adebc276ee6": {
          "model_module": "@jupyter-widgets/controls",
          "model_name": "ProgressStyleModel",
          "state": {
            "_view_name": "StyleView",
            "_model_name": "ProgressStyleModel",
            "description_width": "",
            "_view_module": "@jupyter-widgets/base",
            "_model_module_version": "1.5.0",
            "_view_count": null,
            "_view_module_version": "1.2.0",
            "bar_color": null,
            "_model_module": "@jupyter-widgets/controls"
          }
        },
        "64af9e4fd79143f59322cf45319a58d3": {
          "model_module": "@jupyter-widgets/base",
          "model_name": "LayoutModel",
          "state": {
            "_view_name": "LayoutView",
            "grid_template_rows": null,
            "right": null,
            "justify_content": null,
            "_view_module": "@jupyter-widgets/base",
            "overflow": null,
            "_model_module_version": "1.2.0",
            "_view_count": null,
            "flex_flow": null,
            "width": null,
            "min_width": null,
            "border": null,
            "align_items": null,
            "bottom": null,
            "_model_module": "@jupyter-widgets/base",
            "top": null,
            "grid_column": null,
            "overflow_y": null,
            "overflow_x": null,
            "grid_auto_flow": null,
            "grid_area": null,
            "grid_template_columns": null,
            "flex": null,
            "_model_name": "LayoutModel",
            "justify_items": null,
            "grid_row": null,
            "max_height": null,
            "align_content": null,
            "visibility": null,
            "align_self": null,
            "height": null,
            "min_height": null,
            "padding": null,
            "grid_auto_rows": null,
            "grid_gap": null,
            "max_width": null,
            "order": null,
            "_view_module_version": "1.2.0",
            "grid_template_areas": null,
            "object_position": null,
            "object_fit": null,
            "grid_auto_columns": null,
            "margin": null,
            "display": null,
            "left": null
          }
        },
        "68dbf621adeb474881023bc17ef2e18c": {
          "model_module": "@jupyter-widgets/controls",
          "model_name": "VBoxModel",
          "state": {
            "_view_name": "VBoxView",
            "_dom_classes": [],
            "_model_name": "VBoxModel",
            "_view_module": "@jupyter-widgets/controls",
            "_model_module_version": "1.5.0",
            "_view_count": null,
            "_view_module_version": "1.5.0",
            "box_style": "",
            "layout": "IPY_MODEL_a5d0b9c70e3d442e85ddb02027cb2c82",
            "_model_module": "@jupyter-widgets/controls",
            "children": [
              "IPY_MODEL_f00ff64efd654422957c8f6dbe3b933c",
              "IPY_MODEL_10e9125e6d834632bb5f5a25718cafa2"
            ]
          }
        },
        "a5d0b9c70e3d442e85ddb02027cb2c82": {
          "model_module": "@jupyter-widgets/base",
          "model_name": "LayoutModel",
          "state": {
            "_view_name": "LayoutView",
            "grid_template_rows": null,
            "right": null,
            "justify_content": null,
            "_view_module": "@jupyter-widgets/base",
            "overflow": null,
            "_model_module_version": "1.2.0",
            "_view_count": null,
            "flex_flow": null,
            "width": null,
            "min_width": null,
            "border": null,
            "align_items": null,
            "bottom": null,
            "_model_module": "@jupyter-widgets/base",
            "top": null,
            "grid_column": null,
            "overflow_y": null,
            "overflow_x": null,
            "grid_auto_flow": null,
            "grid_area": null,
            "grid_template_columns": null,
            "flex": null,
            "_model_name": "LayoutModel",
            "justify_items": null,
            "grid_row": null,
            "max_height": null,
            "align_content": null,
            "visibility": null,
            "align_self": null,
            "height": null,
            "min_height": null,
            "padding": null,
            "grid_auto_rows": null,
            "grid_gap": null,
            "max_width": null,
            "order": null,
            "_view_module_version": "1.2.0",
            "grid_template_areas": null,
            "object_position": null,
            "object_fit": null,
            "grid_auto_columns": null,
            "margin": null,
            "display": null,
            "left": null
          }
        },
        "f00ff64efd654422957c8f6dbe3b933c": {
          "model_module": "@jupyter-widgets/controls",
          "model_name": "LabelModel",
          "state": {
            "_view_name": "LabelView",
            "style": "IPY_MODEL_6178c6e8eaee4738a4544b70578eba8e",
            "_dom_classes": [],
            "description": "",
            "_model_name": "LabelModel",
            "placeholder": "​",
            "_view_module": "@jupyter-widgets/controls",
            "_model_module_version": "1.5.0",
            "value": " 1.10MB of 1.10MB uploaded (0.00MB deduped)\r",
            "_view_count": null,
            "_view_module_version": "1.5.0",
            "description_tooltip": null,
            "_model_module": "@jupyter-widgets/controls",
            "layout": "IPY_MODEL_ff1104014e754ad285c8c7bb0283f870"
          }
        },
        "10e9125e6d834632bb5f5a25718cafa2": {
          "model_module": "@jupyter-widgets/controls",
          "model_name": "FloatProgressModel",
          "state": {
            "_view_name": "ProgressView",
            "style": "IPY_MODEL_55d25e7e6e4f4783b5ebba9a4dbfc524",
            "_dom_classes": [],
            "description": "",
            "_model_name": "FloatProgressModel",
            "bar_style": "",
            "max": 1,
            "_view_module": "@jupyter-widgets/controls",
            "_model_module_version": "1.5.0",
            "value": 1,
            "_view_count": null,
            "_view_module_version": "1.5.0",
            "orientation": "horizontal",
            "min": 0,
            "description_tooltip": null,
            "_model_module": "@jupyter-widgets/controls",
            "layout": "IPY_MODEL_a09ed5c438f84617b7fe73d89aaf2799"
          }
        },
        "6178c6e8eaee4738a4544b70578eba8e": {
          "model_module": "@jupyter-widgets/controls",
          "model_name": "DescriptionStyleModel",
          "state": {
            "_view_name": "StyleView",
            "_model_name": "DescriptionStyleModel",
            "description_width": "",
            "_view_module": "@jupyter-widgets/base",
            "_model_module_version": "1.5.0",
            "_view_count": null,
            "_view_module_version": "1.2.0",
            "_model_module": "@jupyter-widgets/controls"
          }
        },
        "ff1104014e754ad285c8c7bb0283f870": {
          "model_module": "@jupyter-widgets/base",
          "model_name": "LayoutModel",
          "state": {
            "_view_name": "LayoutView",
            "grid_template_rows": null,
            "right": null,
            "justify_content": null,
            "_view_module": "@jupyter-widgets/base",
            "overflow": null,
            "_model_module_version": "1.2.0",
            "_view_count": null,
            "flex_flow": null,
            "width": null,
            "min_width": null,
            "border": null,
            "align_items": null,
            "bottom": null,
            "_model_module": "@jupyter-widgets/base",
            "top": null,
            "grid_column": null,
            "overflow_y": null,
            "overflow_x": null,
            "grid_auto_flow": null,
            "grid_area": null,
            "grid_template_columns": null,
            "flex": null,
            "_model_name": "LayoutModel",
            "justify_items": null,
            "grid_row": null,
            "max_height": null,
            "align_content": null,
            "visibility": null,
            "align_self": null,
            "height": null,
            "min_height": null,
            "padding": null,
            "grid_auto_rows": null,
            "grid_gap": null,
            "max_width": null,
            "order": null,
            "_view_module_version": "1.2.0",
            "grid_template_areas": null,
            "object_position": null,
            "object_fit": null,
            "grid_auto_columns": null,
            "margin": null,
            "display": null,
            "left": null
          }
        },
        "55d25e7e6e4f4783b5ebba9a4dbfc524": {
          "model_module": "@jupyter-widgets/controls",
          "model_name": "ProgressStyleModel",
          "state": {
            "_view_name": "StyleView",
            "_model_name": "ProgressStyleModel",
            "description_width": "",
            "_view_module": "@jupyter-widgets/base",
            "_model_module_version": "1.5.0",
            "_view_count": null,
            "_view_module_version": "1.2.0",
            "bar_color": null,
            "_model_module": "@jupyter-widgets/controls"
          }
        },
        "a09ed5c438f84617b7fe73d89aaf2799": {
          "model_module": "@jupyter-widgets/base",
          "model_name": "LayoutModel",
          "state": {
            "_view_name": "LayoutView",
            "grid_template_rows": null,
            "right": null,
            "justify_content": null,
            "_view_module": "@jupyter-widgets/base",
            "overflow": null,
            "_model_module_version": "1.2.0",
            "_view_count": null,
            "flex_flow": null,
            "width": null,
            "min_width": null,
            "border": null,
            "align_items": null,
            "bottom": null,
            "_model_module": "@jupyter-widgets/base",
            "top": null,
            "grid_column": null,
            "overflow_y": null,
            "overflow_x": null,
            "grid_auto_flow": null,
            "grid_area": null,
            "grid_template_columns": null,
            "flex": null,
            "_model_name": "LayoutModel",
            "justify_items": null,
            "grid_row": null,
            "max_height": null,
            "align_content": null,
            "visibility": null,
            "align_self": null,
            "height": null,
            "min_height": null,
            "padding": null,
            "grid_auto_rows": null,
            "grid_gap": null,
            "max_width": null,
            "order": null,
            "_view_module_version": "1.2.0",
            "grid_template_areas": null,
            "object_position": null,
            "object_fit": null,
            "grid_auto_columns": null,
            "margin": null,
            "display": null,
            "left": null
          }
        },
        "3e5f6c34c28140e7bb9191af9f81c879": {
          "model_module": "@jupyter-widgets/controls",
          "model_name": "VBoxModel",
          "state": {
            "_view_name": "VBoxView",
            "_dom_classes": [],
            "_model_name": "VBoxModel",
            "_view_module": "@jupyter-widgets/controls",
            "_model_module_version": "1.5.0",
            "_view_count": null,
            "_view_module_version": "1.5.0",
            "box_style": "",
            "layout": "IPY_MODEL_9af9b737d49647a9a0d38ea62dbe1346",
            "_model_module": "@jupyter-widgets/controls",
            "children": [
              "IPY_MODEL_1bb386e32a324a678f9842716fd3befa",
              "IPY_MODEL_1955ee7873834b6792d9f04d4d3b62d5"
            ]
          }
        },
        "9af9b737d49647a9a0d38ea62dbe1346": {
          "model_module": "@jupyter-widgets/base",
          "model_name": "LayoutModel",
          "state": {
            "_view_name": "LayoutView",
            "grid_template_rows": null,
            "right": null,
            "justify_content": null,
            "_view_module": "@jupyter-widgets/base",
            "overflow": null,
            "_model_module_version": "1.2.0",
            "_view_count": null,
            "flex_flow": null,
            "width": null,
            "min_width": null,
            "border": null,
            "align_items": null,
            "bottom": null,
            "_model_module": "@jupyter-widgets/base",
            "top": null,
            "grid_column": null,
            "overflow_y": null,
            "overflow_x": null,
            "grid_auto_flow": null,
            "grid_area": null,
            "grid_template_columns": null,
            "flex": null,
            "_model_name": "LayoutModel",
            "justify_items": null,
            "grid_row": null,
            "max_height": null,
            "align_content": null,
            "visibility": null,
            "align_self": null,
            "height": null,
            "min_height": null,
            "padding": null,
            "grid_auto_rows": null,
            "grid_gap": null,
            "max_width": null,
            "order": null,
            "_view_module_version": "1.2.0",
            "grid_template_areas": null,
            "object_position": null,
            "object_fit": null,
            "grid_auto_columns": null,
            "margin": null,
            "display": null,
            "left": null
          }
        },
        "1bb386e32a324a678f9842716fd3befa": {
          "model_module": "@jupyter-widgets/controls",
          "model_name": "LabelModel",
          "state": {
            "_view_name": "LabelView",
            "style": "IPY_MODEL_6c187a0da42e4f4b8c2aecf4efb4529f",
            "_dom_classes": [],
            "description": "",
            "_model_name": "LabelModel",
            "placeholder": "​",
            "_view_module": "@jupyter-widgets/controls",
            "_model_module_version": "1.5.0",
            "value": " 0.72MB of 0.72MB uploaded (0.00MB deduped)\r",
            "_view_count": null,
            "_view_module_version": "1.5.0",
            "description_tooltip": null,
            "_model_module": "@jupyter-widgets/controls",
            "layout": "IPY_MODEL_4ab54b4acad44860a48c69c0ecf457e3"
          }
        },
        "1955ee7873834b6792d9f04d4d3b62d5": {
          "model_module": "@jupyter-widgets/controls",
          "model_name": "FloatProgressModel",
          "state": {
            "_view_name": "ProgressView",
            "style": "IPY_MODEL_7aea80c2bfdd4674b14fb002831abe0f",
            "_dom_classes": [],
            "description": "",
            "_model_name": "FloatProgressModel",
            "bar_style": "",
            "max": 1,
            "_view_module": "@jupyter-widgets/controls",
            "_model_module_version": "1.5.0",
            "value": 1,
            "_view_count": null,
            "_view_module_version": "1.5.0",
            "orientation": "horizontal",
            "min": 0,
            "description_tooltip": null,
            "_model_module": "@jupyter-widgets/controls",
            "layout": "IPY_MODEL_0ee115c6c5b243918a9efb8afa0a93b7"
          }
        },
        "6c187a0da42e4f4b8c2aecf4efb4529f": {
          "model_module": "@jupyter-widgets/controls",
          "model_name": "DescriptionStyleModel",
          "state": {
            "_view_name": "StyleView",
            "_model_name": "DescriptionStyleModel",
            "description_width": "",
            "_view_module": "@jupyter-widgets/base",
            "_model_module_version": "1.5.0",
            "_view_count": null,
            "_view_module_version": "1.2.0",
            "_model_module": "@jupyter-widgets/controls"
          }
        },
        "4ab54b4acad44860a48c69c0ecf457e3": {
          "model_module": "@jupyter-widgets/base",
          "model_name": "LayoutModel",
          "state": {
            "_view_name": "LayoutView",
            "grid_template_rows": null,
            "right": null,
            "justify_content": null,
            "_view_module": "@jupyter-widgets/base",
            "overflow": null,
            "_model_module_version": "1.2.0",
            "_view_count": null,
            "flex_flow": null,
            "width": null,
            "min_width": null,
            "border": null,
            "align_items": null,
            "bottom": null,
            "_model_module": "@jupyter-widgets/base",
            "top": null,
            "grid_column": null,
            "overflow_y": null,
            "overflow_x": null,
            "grid_auto_flow": null,
            "grid_area": null,
            "grid_template_columns": null,
            "flex": null,
            "_model_name": "LayoutModel",
            "justify_items": null,
            "grid_row": null,
            "max_height": null,
            "align_content": null,
            "visibility": null,
            "align_self": null,
            "height": null,
            "min_height": null,
            "padding": null,
            "grid_auto_rows": null,
            "grid_gap": null,
            "max_width": null,
            "order": null,
            "_view_module_version": "1.2.0",
            "grid_template_areas": null,
            "object_position": null,
            "object_fit": null,
            "grid_auto_columns": null,
            "margin": null,
            "display": null,
            "left": null
          }
        },
        "7aea80c2bfdd4674b14fb002831abe0f": {
          "model_module": "@jupyter-widgets/controls",
          "model_name": "ProgressStyleModel",
          "state": {
            "_view_name": "StyleView",
            "_model_name": "ProgressStyleModel",
            "description_width": "",
            "_view_module": "@jupyter-widgets/base",
            "_model_module_version": "1.5.0",
            "_view_count": null,
            "_view_module_version": "1.2.0",
            "bar_color": null,
            "_model_module": "@jupyter-widgets/controls"
          }
        },
        "0ee115c6c5b243918a9efb8afa0a93b7": {
          "model_module": "@jupyter-widgets/base",
          "model_name": "LayoutModel",
          "state": {
            "_view_name": "LayoutView",
            "grid_template_rows": null,
            "right": null,
            "justify_content": null,
            "_view_module": "@jupyter-widgets/base",
            "overflow": null,
            "_model_module_version": "1.2.0",
            "_view_count": null,
            "flex_flow": null,
            "width": null,
            "min_width": null,
            "border": null,
            "align_items": null,
            "bottom": null,
            "_model_module": "@jupyter-widgets/base",
            "top": null,
            "grid_column": null,
            "overflow_y": null,
            "overflow_x": null,
            "grid_auto_flow": null,
            "grid_area": null,
            "grid_template_columns": null,
            "flex": null,
            "_model_name": "LayoutModel",
            "justify_items": null,
            "grid_row": null,
            "max_height": null,
            "align_content": null,
            "visibility": null,
            "align_self": null,
            "height": null,
            "min_height": null,
            "padding": null,
            "grid_auto_rows": null,
            "grid_gap": null,
            "max_width": null,
            "order": null,
            "_view_module_version": "1.2.0",
            "grid_template_areas": null,
            "object_position": null,
            "object_fit": null,
            "grid_auto_columns": null,
            "margin": null,
            "display": null,
            "left": null
          }
        },
        "67624506fc0646939930ef372a2f9902": {
          "model_module": "@jupyter-widgets/controls",
          "model_name": "VBoxModel",
          "state": {
            "_view_name": "VBoxView",
            "_dom_classes": [],
            "_model_name": "VBoxModel",
            "_view_module": "@jupyter-widgets/controls",
            "_model_module_version": "1.5.0",
            "_view_count": null,
            "_view_module_version": "1.5.0",
            "box_style": "",
            "layout": "IPY_MODEL_8977d9934cc94d5b90f977f12ea11034",
            "_model_module": "@jupyter-widgets/controls",
            "children": [
              "IPY_MODEL_5713156c5b8e4d5eaaa83cdab253c4ca",
              "IPY_MODEL_3b1cbf92e3aa4722b70c815bf96c2864"
            ]
          }
        },
        "8977d9934cc94d5b90f977f12ea11034": {
          "model_module": "@jupyter-widgets/base",
          "model_name": "LayoutModel",
          "state": {
            "_view_name": "LayoutView",
            "grid_template_rows": null,
            "right": null,
            "justify_content": null,
            "_view_module": "@jupyter-widgets/base",
            "overflow": null,
            "_model_module_version": "1.2.0",
            "_view_count": null,
            "flex_flow": null,
            "width": null,
            "min_width": null,
            "border": null,
            "align_items": null,
            "bottom": null,
            "_model_module": "@jupyter-widgets/base",
            "top": null,
            "grid_column": null,
            "overflow_y": null,
            "overflow_x": null,
            "grid_auto_flow": null,
            "grid_area": null,
            "grid_template_columns": null,
            "flex": null,
            "_model_name": "LayoutModel",
            "justify_items": null,
            "grid_row": null,
            "max_height": null,
            "align_content": null,
            "visibility": null,
            "align_self": null,
            "height": null,
            "min_height": null,
            "padding": null,
            "grid_auto_rows": null,
            "grid_gap": null,
            "max_width": null,
            "order": null,
            "_view_module_version": "1.2.0",
            "grid_template_areas": null,
            "object_position": null,
            "object_fit": null,
            "grid_auto_columns": null,
            "margin": null,
            "display": null,
            "left": null
          }
        },
        "5713156c5b8e4d5eaaa83cdab253c4ca": {
          "model_module": "@jupyter-widgets/controls",
          "model_name": "LabelModel",
          "state": {
            "_view_name": "LabelView",
            "style": "IPY_MODEL_9738b71e186c48a4a9bbb51057a881f2",
            "_dom_classes": [],
            "description": "",
            "_model_name": "LabelModel",
            "placeholder": "​",
            "_view_module": "@jupyter-widgets/controls",
            "_model_module_version": "1.5.0",
            "value": " 1.73MB of 1.73MB uploaded (0.00MB deduped)\r",
            "_view_count": null,
            "_view_module_version": "1.5.0",
            "description_tooltip": null,
            "_model_module": "@jupyter-widgets/controls",
            "layout": "IPY_MODEL_84666d289db048bda9f876bc1a9b992e"
          }
        },
        "3b1cbf92e3aa4722b70c815bf96c2864": {
          "model_module": "@jupyter-widgets/controls",
          "model_name": "FloatProgressModel",
          "state": {
            "_view_name": "ProgressView",
            "style": "IPY_MODEL_5aa764a771b34feda461418a4d94619e",
            "_dom_classes": [],
            "description": "",
            "_model_name": "FloatProgressModel",
            "bar_style": "",
            "max": 1,
            "_view_module": "@jupyter-widgets/controls",
            "_model_module_version": "1.5.0",
            "value": 1,
            "_view_count": null,
            "_view_module_version": "1.5.0",
            "orientation": "horizontal",
            "min": 0,
            "description_tooltip": null,
            "_model_module": "@jupyter-widgets/controls",
            "layout": "IPY_MODEL_dff55e4181bd451e8cec33437c957da6"
          }
        },
        "9738b71e186c48a4a9bbb51057a881f2": {
          "model_module": "@jupyter-widgets/controls",
          "model_name": "DescriptionStyleModel",
          "state": {
            "_view_name": "StyleView",
            "_model_name": "DescriptionStyleModel",
            "description_width": "",
            "_view_module": "@jupyter-widgets/base",
            "_model_module_version": "1.5.0",
            "_view_count": null,
            "_view_module_version": "1.2.0",
            "_model_module": "@jupyter-widgets/controls"
          }
        },
        "84666d289db048bda9f876bc1a9b992e": {
          "model_module": "@jupyter-widgets/base",
          "model_name": "LayoutModel",
          "state": {
            "_view_name": "LayoutView",
            "grid_template_rows": null,
            "right": null,
            "justify_content": null,
            "_view_module": "@jupyter-widgets/base",
            "overflow": null,
            "_model_module_version": "1.2.0",
            "_view_count": null,
            "flex_flow": null,
            "width": null,
            "min_width": null,
            "border": null,
            "align_items": null,
            "bottom": null,
            "_model_module": "@jupyter-widgets/base",
            "top": null,
            "grid_column": null,
            "overflow_y": null,
            "overflow_x": null,
            "grid_auto_flow": null,
            "grid_area": null,
            "grid_template_columns": null,
            "flex": null,
            "_model_name": "LayoutModel",
            "justify_items": null,
            "grid_row": null,
            "max_height": null,
            "align_content": null,
            "visibility": null,
            "align_self": null,
            "height": null,
            "min_height": null,
            "padding": null,
            "grid_auto_rows": null,
            "grid_gap": null,
            "max_width": null,
            "order": null,
            "_view_module_version": "1.2.0",
            "grid_template_areas": null,
            "object_position": null,
            "object_fit": null,
            "grid_auto_columns": null,
            "margin": null,
            "display": null,
            "left": null
          }
        },
        "5aa764a771b34feda461418a4d94619e": {
          "model_module": "@jupyter-widgets/controls",
          "model_name": "ProgressStyleModel",
          "state": {
            "_view_name": "StyleView",
            "_model_name": "ProgressStyleModel",
            "description_width": "",
            "_view_module": "@jupyter-widgets/base",
            "_model_module_version": "1.5.0",
            "_view_count": null,
            "_view_module_version": "1.2.0",
            "bar_color": null,
            "_model_module": "@jupyter-widgets/controls"
          }
        },
        "dff55e4181bd451e8cec33437c957da6": {
          "model_module": "@jupyter-widgets/base",
          "model_name": "LayoutModel",
          "state": {
            "_view_name": "LayoutView",
            "grid_template_rows": null,
            "right": null,
            "justify_content": null,
            "_view_module": "@jupyter-widgets/base",
            "overflow": null,
            "_model_module_version": "1.2.0",
            "_view_count": null,
            "flex_flow": null,
            "width": null,
            "min_width": null,
            "border": null,
            "align_items": null,
            "bottom": null,
            "_model_module": "@jupyter-widgets/base",
            "top": null,
            "grid_column": null,
            "overflow_y": null,
            "overflow_x": null,
            "grid_auto_flow": null,
            "grid_area": null,
            "grid_template_columns": null,
            "flex": null,
            "_model_name": "LayoutModel",
            "justify_items": null,
            "grid_row": null,
            "max_height": null,
            "align_content": null,
            "visibility": null,
            "align_self": null,
            "height": null,
            "min_height": null,
            "padding": null,
            "grid_auto_rows": null,
            "grid_gap": null,
            "max_width": null,
            "order": null,
            "_view_module_version": "1.2.0",
            "grid_template_areas": null,
            "object_position": null,
            "object_fit": null,
            "grid_auto_columns": null,
            "margin": null,
            "display": null,
            "left": null
          }
        },
        "5ef63350376146aab049f9ffd2c15999": {
          "model_module": "@jupyter-widgets/controls",
          "model_name": "VBoxModel",
          "state": {
            "_view_name": "VBoxView",
            "_dom_classes": [],
            "_model_name": "VBoxModel",
            "_view_module": "@jupyter-widgets/controls",
            "_model_module_version": "1.5.0",
            "_view_count": null,
            "_view_module_version": "1.5.0",
            "box_style": "",
            "layout": "IPY_MODEL_75368c1090b94816bb71bf5701b9e290",
            "_model_module": "@jupyter-widgets/controls",
            "children": [
              "IPY_MODEL_b681111c04c34f2a9b79bc14d8dfc8d9",
              "IPY_MODEL_9a047ced9a274ba1b22d04253c8cdedc"
            ]
          }
        },
        "75368c1090b94816bb71bf5701b9e290": {
          "model_module": "@jupyter-widgets/base",
          "model_name": "LayoutModel",
          "state": {
            "_view_name": "LayoutView",
            "grid_template_rows": null,
            "right": null,
            "justify_content": null,
            "_view_module": "@jupyter-widgets/base",
            "overflow": null,
            "_model_module_version": "1.2.0",
            "_view_count": null,
            "flex_flow": null,
            "width": null,
            "min_width": null,
            "border": null,
            "align_items": null,
            "bottom": null,
            "_model_module": "@jupyter-widgets/base",
            "top": null,
            "grid_column": null,
            "overflow_y": null,
            "overflow_x": null,
            "grid_auto_flow": null,
            "grid_area": null,
            "grid_template_columns": null,
            "flex": null,
            "_model_name": "LayoutModel",
            "justify_items": null,
            "grid_row": null,
            "max_height": null,
            "align_content": null,
            "visibility": null,
            "align_self": null,
            "height": null,
            "min_height": null,
            "padding": null,
            "grid_auto_rows": null,
            "grid_gap": null,
            "max_width": null,
            "order": null,
            "_view_module_version": "1.2.0",
            "grid_template_areas": null,
            "object_position": null,
            "object_fit": null,
            "grid_auto_columns": null,
            "margin": null,
            "display": null,
            "left": null
          }
        },
        "b681111c04c34f2a9b79bc14d8dfc8d9": {
          "model_module": "@jupyter-widgets/controls",
          "model_name": "LabelModel",
          "state": {
            "_view_name": "LabelView",
            "style": "IPY_MODEL_f504be301e3f4cce870c71c0e33848ac",
            "_dom_classes": [],
            "description": "",
            "_model_name": "LabelModel",
            "placeholder": "​",
            "_view_module": "@jupyter-widgets/controls",
            "_model_module_version": "1.5.0",
            "value": " 1.16MB of 1.16MB uploaded (0.00MB deduped)\r",
            "_view_count": null,
            "_view_module_version": "1.5.0",
            "description_tooltip": null,
            "_model_module": "@jupyter-widgets/controls",
            "layout": "IPY_MODEL_bc2966e509a545898ed46a5325e0a244"
          }
        },
        "9a047ced9a274ba1b22d04253c8cdedc": {
          "model_module": "@jupyter-widgets/controls",
          "model_name": "FloatProgressModel",
          "state": {
            "_view_name": "ProgressView",
            "style": "IPY_MODEL_6c9a361b6fad4de692702dbda45ba03b",
            "_dom_classes": [],
            "description": "",
            "_model_name": "FloatProgressModel",
            "bar_style": "",
            "max": 1,
            "_view_module": "@jupyter-widgets/controls",
            "_model_module_version": "1.5.0",
            "value": 1,
            "_view_count": null,
            "_view_module_version": "1.5.0",
            "orientation": "horizontal",
            "min": 0,
            "description_tooltip": null,
            "_model_module": "@jupyter-widgets/controls",
            "layout": "IPY_MODEL_072d87451c7a496ebf1fee6563e7643f"
          }
        },
        "f504be301e3f4cce870c71c0e33848ac": {
          "model_module": "@jupyter-widgets/controls",
          "model_name": "DescriptionStyleModel",
          "state": {
            "_view_name": "StyleView",
            "_model_name": "DescriptionStyleModel",
            "description_width": "",
            "_view_module": "@jupyter-widgets/base",
            "_model_module_version": "1.5.0",
            "_view_count": null,
            "_view_module_version": "1.2.0",
            "_model_module": "@jupyter-widgets/controls"
          }
        },
        "bc2966e509a545898ed46a5325e0a244": {
          "model_module": "@jupyter-widgets/base",
          "model_name": "LayoutModel",
          "state": {
            "_view_name": "LayoutView",
            "grid_template_rows": null,
            "right": null,
            "justify_content": null,
            "_view_module": "@jupyter-widgets/base",
            "overflow": null,
            "_model_module_version": "1.2.0",
            "_view_count": null,
            "flex_flow": null,
            "width": null,
            "min_width": null,
            "border": null,
            "align_items": null,
            "bottom": null,
            "_model_module": "@jupyter-widgets/base",
            "top": null,
            "grid_column": null,
            "overflow_y": null,
            "overflow_x": null,
            "grid_auto_flow": null,
            "grid_area": null,
            "grid_template_columns": null,
            "flex": null,
            "_model_name": "LayoutModel",
            "justify_items": null,
            "grid_row": null,
            "max_height": null,
            "align_content": null,
            "visibility": null,
            "align_self": null,
            "height": null,
            "min_height": null,
            "padding": null,
            "grid_auto_rows": null,
            "grid_gap": null,
            "max_width": null,
            "order": null,
            "_view_module_version": "1.2.0",
            "grid_template_areas": null,
            "object_position": null,
            "object_fit": null,
            "grid_auto_columns": null,
            "margin": null,
            "display": null,
            "left": null
          }
        },
        "6c9a361b6fad4de692702dbda45ba03b": {
          "model_module": "@jupyter-widgets/controls",
          "model_name": "ProgressStyleModel",
          "state": {
            "_view_name": "StyleView",
            "_model_name": "ProgressStyleModel",
            "description_width": "",
            "_view_module": "@jupyter-widgets/base",
            "_model_module_version": "1.5.0",
            "_view_count": null,
            "_view_module_version": "1.2.0",
            "bar_color": null,
            "_model_module": "@jupyter-widgets/controls"
          }
        },
        "072d87451c7a496ebf1fee6563e7643f": {
          "model_module": "@jupyter-widgets/base",
          "model_name": "LayoutModel",
          "state": {
            "_view_name": "LayoutView",
            "grid_template_rows": null,
            "right": null,
            "justify_content": null,
            "_view_module": "@jupyter-widgets/base",
            "overflow": null,
            "_model_module_version": "1.2.0",
            "_view_count": null,
            "flex_flow": null,
            "width": null,
            "min_width": null,
            "border": null,
            "align_items": null,
            "bottom": null,
            "_model_module": "@jupyter-widgets/base",
            "top": null,
            "grid_column": null,
            "overflow_y": null,
            "overflow_x": null,
            "grid_auto_flow": null,
            "grid_area": null,
            "grid_template_columns": null,
            "flex": null,
            "_model_name": "LayoutModel",
            "justify_items": null,
            "grid_row": null,
            "max_height": null,
            "align_content": null,
            "visibility": null,
            "align_self": null,
            "height": null,
            "min_height": null,
            "padding": null,
            "grid_auto_rows": null,
            "grid_gap": null,
            "max_width": null,
            "order": null,
            "_view_module_version": "1.2.0",
            "grid_template_areas": null,
            "object_position": null,
            "object_fit": null,
            "grid_auto_columns": null,
            "margin": null,
            "display": null,
            "left": null
          }
        },
        "3623655579e14c019424c18ce513a960": {
          "model_module": "@jupyter-widgets/controls",
          "model_name": "VBoxModel",
          "state": {
            "_view_name": "VBoxView",
            "_dom_classes": [],
            "_model_name": "VBoxModel",
            "_view_module": "@jupyter-widgets/controls",
            "_model_module_version": "1.5.0",
            "_view_count": null,
            "_view_module_version": "1.5.0",
            "box_style": "",
            "layout": "IPY_MODEL_cabd60e9c664493fa67b5780bbcfc6e3",
            "_model_module": "@jupyter-widgets/controls",
            "children": [
              "IPY_MODEL_114040e3eea843cd9896cd2572a60a70",
              "IPY_MODEL_9b1a93c33da14815bce6bf18c92f1dff"
            ]
          }
        },
        "cabd60e9c664493fa67b5780bbcfc6e3": {
          "model_module": "@jupyter-widgets/base",
          "model_name": "LayoutModel",
          "state": {
            "_view_name": "LayoutView",
            "grid_template_rows": null,
            "right": null,
            "justify_content": null,
            "_view_module": "@jupyter-widgets/base",
            "overflow": null,
            "_model_module_version": "1.2.0",
            "_view_count": null,
            "flex_flow": null,
            "width": null,
            "min_width": null,
            "border": null,
            "align_items": null,
            "bottom": null,
            "_model_module": "@jupyter-widgets/base",
            "top": null,
            "grid_column": null,
            "overflow_y": null,
            "overflow_x": null,
            "grid_auto_flow": null,
            "grid_area": null,
            "grid_template_columns": null,
            "flex": null,
            "_model_name": "LayoutModel",
            "justify_items": null,
            "grid_row": null,
            "max_height": null,
            "align_content": null,
            "visibility": null,
            "align_self": null,
            "height": null,
            "min_height": null,
            "padding": null,
            "grid_auto_rows": null,
            "grid_gap": null,
            "max_width": null,
            "order": null,
            "_view_module_version": "1.2.0",
            "grid_template_areas": null,
            "object_position": null,
            "object_fit": null,
            "grid_auto_columns": null,
            "margin": null,
            "display": null,
            "left": null
          }
        },
        "114040e3eea843cd9896cd2572a60a70": {
          "model_module": "@jupyter-widgets/controls",
          "model_name": "LabelModel",
          "state": {
            "_view_name": "LabelView",
            "style": "IPY_MODEL_959c9addea854c1eb1b5fa7356a0759a",
            "_dom_classes": [],
            "description": "",
            "_model_name": "LabelModel",
            "placeholder": "​",
            "_view_module": "@jupyter-widgets/controls",
            "_model_module_version": "1.5.0",
            "value": " 0.92MB of 0.92MB uploaded (0.00MB deduped)\r",
            "_view_count": null,
            "_view_module_version": "1.5.0",
            "description_tooltip": null,
            "_model_module": "@jupyter-widgets/controls",
            "layout": "IPY_MODEL_a13dfd4b65994793942e4cd697322894"
          }
        },
        "9b1a93c33da14815bce6bf18c92f1dff": {
          "model_module": "@jupyter-widgets/controls",
          "model_name": "FloatProgressModel",
          "state": {
            "_view_name": "ProgressView",
            "style": "IPY_MODEL_aade75ee02004e6986772cc64f71be50",
            "_dom_classes": [],
            "description": "",
            "_model_name": "FloatProgressModel",
            "bar_style": "",
            "max": 1,
            "_view_module": "@jupyter-widgets/controls",
            "_model_module_version": "1.5.0",
            "value": 1,
            "_view_count": null,
            "_view_module_version": "1.5.0",
            "orientation": "horizontal",
            "min": 0,
            "description_tooltip": null,
            "_model_module": "@jupyter-widgets/controls",
            "layout": "IPY_MODEL_b776e5a4cc2f49c68956db87a661280b"
          }
        },
        "959c9addea854c1eb1b5fa7356a0759a": {
          "model_module": "@jupyter-widgets/controls",
          "model_name": "DescriptionStyleModel",
          "state": {
            "_view_name": "StyleView",
            "_model_name": "DescriptionStyleModel",
            "description_width": "",
            "_view_module": "@jupyter-widgets/base",
            "_model_module_version": "1.5.0",
            "_view_count": null,
            "_view_module_version": "1.2.0",
            "_model_module": "@jupyter-widgets/controls"
          }
        },
        "a13dfd4b65994793942e4cd697322894": {
          "model_module": "@jupyter-widgets/base",
          "model_name": "LayoutModel",
          "state": {
            "_view_name": "LayoutView",
            "grid_template_rows": null,
            "right": null,
            "justify_content": null,
            "_view_module": "@jupyter-widgets/base",
            "overflow": null,
            "_model_module_version": "1.2.0",
            "_view_count": null,
            "flex_flow": null,
            "width": null,
            "min_width": null,
            "border": null,
            "align_items": null,
            "bottom": null,
            "_model_module": "@jupyter-widgets/base",
            "top": null,
            "grid_column": null,
            "overflow_y": null,
            "overflow_x": null,
            "grid_auto_flow": null,
            "grid_area": null,
            "grid_template_columns": null,
            "flex": null,
            "_model_name": "LayoutModel",
            "justify_items": null,
            "grid_row": null,
            "max_height": null,
            "align_content": null,
            "visibility": null,
            "align_self": null,
            "height": null,
            "min_height": null,
            "padding": null,
            "grid_auto_rows": null,
            "grid_gap": null,
            "max_width": null,
            "order": null,
            "_view_module_version": "1.2.0",
            "grid_template_areas": null,
            "object_position": null,
            "object_fit": null,
            "grid_auto_columns": null,
            "margin": null,
            "display": null,
            "left": null
          }
        },
        "aade75ee02004e6986772cc64f71be50": {
          "model_module": "@jupyter-widgets/controls",
          "model_name": "ProgressStyleModel",
          "state": {
            "_view_name": "StyleView",
            "_model_name": "ProgressStyleModel",
            "description_width": "",
            "_view_module": "@jupyter-widgets/base",
            "_model_module_version": "1.5.0",
            "_view_count": null,
            "_view_module_version": "1.2.0",
            "bar_color": null,
            "_model_module": "@jupyter-widgets/controls"
          }
        },
        "b776e5a4cc2f49c68956db87a661280b": {
          "model_module": "@jupyter-widgets/base",
          "model_name": "LayoutModel",
          "state": {
            "_view_name": "LayoutView",
            "grid_template_rows": null,
            "right": null,
            "justify_content": null,
            "_view_module": "@jupyter-widgets/base",
            "overflow": null,
            "_model_module_version": "1.2.0",
            "_view_count": null,
            "flex_flow": null,
            "width": null,
            "min_width": null,
            "border": null,
            "align_items": null,
            "bottom": null,
            "_model_module": "@jupyter-widgets/base",
            "top": null,
            "grid_column": null,
            "overflow_y": null,
            "overflow_x": null,
            "grid_auto_flow": null,
            "grid_area": null,
            "grid_template_columns": null,
            "flex": null,
            "_model_name": "LayoutModel",
            "justify_items": null,
            "grid_row": null,
            "max_height": null,
            "align_content": null,
            "visibility": null,
            "align_self": null,
            "height": null,
            "min_height": null,
            "padding": null,
            "grid_auto_rows": null,
            "grid_gap": null,
            "max_width": null,
            "order": null,
            "_view_module_version": "1.2.0",
            "grid_template_areas": null,
            "object_position": null,
            "object_fit": null,
            "grid_auto_columns": null,
            "margin": null,
            "display": null,
            "left": null
          }
        },
        "23193067a233489ebb683c349f11ab6b": {
          "model_module": "@jupyter-widgets/controls",
          "model_name": "VBoxModel",
          "state": {
            "_view_name": "VBoxView",
            "_dom_classes": [],
            "_model_name": "VBoxModel",
            "_view_module": "@jupyter-widgets/controls",
            "_model_module_version": "1.5.0",
            "_view_count": null,
            "_view_module_version": "1.5.0",
            "box_style": "",
            "layout": "IPY_MODEL_164f81d60ead46a98a53bbaec1a6f101",
            "_model_module": "@jupyter-widgets/controls",
            "children": [
              "IPY_MODEL_f85a3349ebd44a8e9ae3a2d1cef74283",
              "IPY_MODEL_f72bbf3af1a9439e95c930b221143a78"
            ]
          }
        },
        "164f81d60ead46a98a53bbaec1a6f101": {
          "model_module": "@jupyter-widgets/base",
          "model_name": "LayoutModel",
          "state": {
            "_view_name": "LayoutView",
            "grid_template_rows": null,
            "right": null,
            "justify_content": null,
            "_view_module": "@jupyter-widgets/base",
            "overflow": null,
            "_model_module_version": "1.2.0",
            "_view_count": null,
            "flex_flow": null,
            "width": null,
            "min_width": null,
            "border": null,
            "align_items": null,
            "bottom": null,
            "_model_module": "@jupyter-widgets/base",
            "top": null,
            "grid_column": null,
            "overflow_y": null,
            "overflow_x": null,
            "grid_auto_flow": null,
            "grid_area": null,
            "grid_template_columns": null,
            "flex": null,
            "_model_name": "LayoutModel",
            "justify_items": null,
            "grid_row": null,
            "max_height": null,
            "align_content": null,
            "visibility": null,
            "align_self": null,
            "height": null,
            "min_height": null,
            "padding": null,
            "grid_auto_rows": null,
            "grid_gap": null,
            "max_width": null,
            "order": null,
            "_view_module_version": "1.2.0",
            "grid_template_areas": null,
            "object_position": null,
            "object_fit": null,
            "grid_auto_columns": null,
            "margin": null,
            "display": null,
            "left": null
          }
        },
        "f85a3349ebd44a8e9ae3a2d1cef74283": {
          "model_module": "@jupyter-widgets/controls",
          "model_name": "LabelModel",
          "state": {
            "_view_name": "LabelView",
            "style": "IPY_MODEL_c7b47d0c352045f1b4d68a2cd99cd572",
            "_dom_classes": [],
            "description": "",
            "_model_name": "LabelModel",
            "placeholder": "​",
            "_view_module": "@jupyter-widgets/controls",
            "_model_module_version": "1.5.0",
            "value": " 1.39MB of 1.39MB uploaded (0.00MB deduped)\r",
            "_view_count": null,
            "_view_module_version": "1.5.0",
            "description_tooltip": null,
            "_model_module": "@jupyter-widgets/controls",
            "layout": "IPY_MODEL_da82be683eb540b2910c592409507a60"
          }
        },
        "f72bbf3af1a9439e95c930b221143a78": {
          "model_module": "@jupyter-widgets/controls",
          "model_name": "FloatProgressModel",
          "state": {
            "_view_name": "ProgressView",
            "style": "IPY_MODEL_754fd86e6315487fb173717d784dbbcc",
            "_dom_classes": [],
            "description": "",
            "_model_name": "FloatProgressModel",
            "bar_style": "",
            "max": 1,
            "_view_module": "@jupyter-widgets/controls",
            "_model_module_version": "1.5.0",
            "value": 1,
            "_view_count": null,
            "_view_module_version": "1.5.0",
            "orientation": "horizontal",
            "min": 0,
            "description_tooltip": null,
            "_model_module": "@jupyter-widgets/controls",
            "layout": "IPY_MODEL_78e2070de8ca4276b0bc8b4e509ba4c7"
          }
        },
        "c7b47d0c352045f1b4d68a2cd99cd572": {
          "model_module": "@jupyter-widgets/controls",
          "model_name": "DescriptionStyleModel",
          "state": {
            "_view_name": "StyleView",
            "_model_name": "DescriptionStyleModel",
            "description_width": "",
            "_view_module": "@jupyter-widgets/base",
            "_model_module_version": "1.5.0",
            "_view_count": null,
            "_view_module_version": "1.2.0",
            "_model_module": "@jupyter-widgets/controls"
          }
        },
        "da82be683eb540b2910c592409507a60": {
          "model_module": "@jupyter-widgets/base",
          "model_name": "LayoutModel",
          "state": {
            "_view_name": "LayoutView",
            "grid_template_rows": null,
            "right": null,
            "justify_content": null,
            "_view_module": "@jupyter-widgets/base",
            "overflow": null,
            "_model_module_version": "1.2.0",
            "_view_count": null,
            "flex_flow": null,
            "width": null,
            "min_width": null,
            "border": null,
            "align_items": null,
            "bottom": null,
            "_model_module": "@jupyter-widgets/base",
            "top": null,
            "grid_column": null,
            "overflow_y": null,
            "overflow_x": null,
            "grid_auto_flow": null,
            "grid_area": null,
            "grid_template_columns": null,
            "flex": null,
            "_model_name": "LayoutModel",
            "justify_items": null,
            "grid_row": null,
            "max_height": null,
            "align_content": null,
            "visibility": null,
            "align_self": null,
            "height": null,
            "min_height": null,
            "padding": null,
            "grid_auto_rows": null,
            "grid_gap": null,
            "max_width": null,
            "order": null,
            "_view_module_version": "1.2.0",
            "grid_template_areas": null,
            "object_position": null,
            "object_fit": null,
            "grid_auto_columns": null,
            "margin": null,
            "display": null,
            "left": null
          }
        },
        "754fd86e6315487fb173717d784dbbcc": {
          "model_module": "@jupyter-widgets/controls",
          "model_name": "ProgressStyleModel",
          "state": {
            "_view_name": "StyleView",
            "_model_name": "ProgressStyleModel",
            "description_width": "",
            "_view_module": "@jupyter-widgets/base",
            "_model_module_version": "1.5.0",
            "_view_count": null,
            "_view_module_version": "1.2.0",
            "bar_color": null,
            "_model_module": "@jupyter-widgets/controls"
          }
        },
        "78e2070de8ca4276b0bc8b4e509ba4c7": {
          "model_module": "@jupyter-widgets/base",
          "model_name": "LayoutModel",
          "state": {
            "_view_name": "LayoutView",
            "grid_template_rows": null,
            "right": null,
            "justify_content": null,
            "_view_module": "@jupyter-widgets/base",
            "overflow": null,
            "_model_module_version": "1.2.0",
            "_view_count": null,
            "flex_flow": null,
            "width": null,
            "min_width": null,
            "border": null,
            "align_items": null,
            "bottom": null,
            "_model_module": "@jupyter-widgets/base",
            "top": null,
            "grid_column": null,
            "overflow_y": null,
            "overflow_x": null,
            "grid_auto_flow": null,
            "grid_area": null,
            "grid_template_columns": null,
            "flex": null,
            "_model_name": "LayoutModel",
            "justify_items": null,
            "grid_row": null,
            "max_height": null,
            "align_content": null,
            "visibility": null,
            "align_self": null,
            "height": null,
            "min_height": null,
            "padding": null,
            "grid_auto_rows": null,
            "grid_gap": null,
            "max_width": null,
            "order": null,
            "_view_module_version": "1.2.0",
            "grid_template_areas": null,
            "object_position": null,
            "object_fit": null,
            "grid_auto_columns": null,
            "margin": null,
            "display": null,
            "left": null
          }
        },
        "ebdcc4a762d246119de87fa4f53e09ed": {
          "model_module": "@jupyter-widgets/controls",
          "model_name": "VBoxModel",
          "state": {
            "_view_name": "VBoxView",
            "_dom_classes": [],
            "_model_name": "VBoxModel",
            "_view_module": "@jupyter-widgets/controls",
            "_model_module_version": "1.5.0",
            "_view_count": null,
            "_view_module_version": "1.5.0",
            "box_style": "",
            "layout": "IPY_MODEL_665b71f1c66749bf96175239265dacc4",
            "_model_module": "@jupyter-widgets/controls",
            "children": [
              "IPY_MODEL_0d19458b7bf54dcb9459bd7a104189d0",
              "IPY_MODEL_213ca92b6e474b5a90bc2542921cb832"
            ]
          }
        },
        "665b71f1c66749bf96175239265dacc4": {
          "model_module": "@jupyter-widgets/base",
          "model_name": "LayoutModel",
          "state": {
            "_view_name": "LayoutView",
            "grid_template_rows": null,
            "right": null,
            "justify_content": null,
            "_view_module": "@jupyter-widgets/base",
            "overflow": null,
            "_model_module_version": "1.2.0",
            "_view_count": null,
            "flex_flow": null,
            "width": null,
            "min_width": null,
            "border": null,
            "align_items": null,
            "bottom": null,
            "_model_module": "@jupyter-widgets/base",
            "top": null,
            "grid_column": null,
            "overflow_y": null,
            "overflow_x": null,
            "grid_auto_flow": null,
            "grid_area": null,
            "grid_template_columns": null,
            "flex": null,
            "_model_name": "LayoutModel",
            "justify_items": null,
            "grid_row": null,
            "max_height": null,
            "align_content": null,
            "visibility": null,
            "align_self": null,
            "height": null,
            "min_height": null,
            "padding": null,
            "grid_auto_rows": null,
            "grid_gap": null,
            "max_width": null,
            "order": null,
            "_view_module_version": "1.2.0",
            "grid_template_areas": null,
            "object_position": null,
            "object_fit": null,
            "grid_auto_columns": null,
            "margin": null,
            "display": null,
            "left": null
          }
        },
        "0d19458b7bf54dcb9459bd7a104189d0": {
          "model_module": "@jupyter-widgets/controls",
          "model_name": "LabelModel",
          "state": {
            "_view_name": "LabelView",
            "style": "IPY_MODEL_c680d927673c42638c18f141e29513a6",
            "_dom_classes": [],
            "description": "",
            "_model_name": "LabelModel",
            "placeholder": "​",
            "_view_module": "@jupyter-widgets/controls",
            "_model_module_version": "1.5.0",
            "value": " 0.94MB of 0.94MB uploaded (0.00MB deduped)\r",
            "_view_count": null,
            "_view_module_version": "1.5.0",
            "description_tooltip": null,
            "_model_module": "@jupyter-widgets/controls",
            "layout": "IPY_MODEL_7d4c3dc0867945c4b3fbb7a392328c0a"
          }
        },
        "213ca92b6e474b5a90bc2542921cb832": {
          "model_module": "@jupyter-widgets/controls",
          "model_name": "FloatProgressModel",
          "state": {
            "_view_name": "ProgressView",
            "style": "IPY_MODEL_7fe45a00ab2145558d1eed3cb71f1a8c",
            "_dom_classes": [],
            "description": "",
            "_model_name": "FloatProgressModel",
            "bar_style": "",
            "max": 1,
            "_view_module": "@jupyter-widgets/controls",
            "_model_module_version": "1.5.0",
            "value": 1,
            "_view_count": null,
            "_view_module_version": "1.5.0",
            "orientation": "horizontal",
            "min": 0,
            "description_tooltip": null,
            "_model_module": "@jupyter-widgets/controls",
            "layout": "IPY_MODEL_fa15f766221842d48b9d6687d9164e70"
          }
        },
        "c680d927673c42638c18f141e29513a6": {
          "model_module": "@jupyter-widgets/controls",
          "model_name": "DescriptionStyleModel",
          "state": {
            "_view_name": "StyleView",
            "_model_name": "DescriptionStyleModel",
            "description_width": "",
            "_view_module": "@jupyter-widgets/base",
            "_model_module_version": "1.5.0",
            "_view_count": null,
            "_view_module_version": "1.2.0",
            "_model_module": "@jupyter-widgets/controls"
          }
        },
        "7d4c3dc0867945c4b3fbb7a392328c0a": {
          "model_module": "@jupyter-widgets/base",
          "model_name": "LayoutModel",
          "state": {
            "_view_name": "LayoutView",
            "grid_template_rows": null,
            "right": null,
            "justify_content": null,
            "_view_module": "@jupyter-widgets/base",
            "overflow": null,
            "_model_module_version": "1.2.0",
            "_view_count": null,
            "flex_flow": null,
            "width": null,
            "min_width": null,
            "border": null,
            "align_items": null,
            "bottom": null,
            "_model_module": "@jupyter-widgets/base",
            "top": null,
            "grid_column": null,
            "overflow_y": null,
            "overflow_x": null,
            "grid_auto_flow": null,
            "grid_area": null,
            "grid_template_columns": null,
            "flex": null,
            "_model_name": "LayoutModel",
            "justify_items": null,
            "grid_row": null,
            "max_height": null,
            "align_content": null,
            "visibility": null,
            "align_self": null,
            "height": null,
            "min_height": null,
            "padding": null,
            "grid_auto_rows": null,
            "grid_gap": null,
            "max_width": null,
            "order": null,
            "_view_module_version": "1.2.0",
            "grid_template_areas": null,
            "object_position": null,
            "object_fit": null,
            "grid_auto_columns": null,
            "margin": null,
            "display": null,
            "left": null
          }
        },
        "7fe45a00ab2145558d1eed3cb71f1a8c": {
          "model_module": "@jupyter-widgets/controls",
          "model_name": "ProgressStyleModel",
          "state": {
            "_view_name": "StyleView",
            "_model_name": "ProgressStyleModel",
            "description_width": "",
            "_view_module": "@jupyter-widgets/base",
            "_model_module_version": "1.5.0",
            "_view_count": null,
            "_view_module_version": "1.2.0",
            "bar_color": null,
            "_model_module": "@jupyter-widgets/controls"
          }
        },
        "fa15f766221842d48b9d6687d9164e70": {
          "model_module": "@jupyter-widgets/base",
          "model_name": "LayoutModel",
          "state": {
            "_view_name": "LayoutView",
            "grid_template_rows": null,
            "right": null,
            "justify_content": null,
            "_view_module": "@jupyter-widgets/base",
            "overflow": null,
            "_model_module_version": "1.2.0",
            "_view_count": null,
            "flex_flow": null,
            "width": null,
            "min_width": null,
            "border": null,
            "align_items": null,
            "bottom": null,
            "_model_module": "@jupyter-widgets/base",
            "top": null,
            "grid_column": null,
            "overflow_y": null,
            "overflow_x": null,
            "grid_auto_flow": null,
            "grid_area": null,
            "grid_template_columns": null,
            "flex": null,
            "_model_name": "LayoutModel",
            "justify_items": null,
            "grid_row": null,
            "max_height": null,
            "align_content": null,
            "visibility": null,
            "align_self": null,
            "height": null,
            "min_height": null,
            "padding": null,
            "grid_auto_rows": null,
            "grid_gap": null,
            "max_width": null,
            "order": null,
            "_view_module_version": "1.2.0",
            "grid_template_areas": null,
            "object_position": null,
            "object_fit": null,
            "grid_auto_columns": null,
            "margin": null,
            "display": null,
            "left": null
          }
        },
        "03152a6b069847d180a1104421c98a22": {
          "model_module": "@jupyter-widgets/controls",
          "model_name": "VBoxModel",
          "state": {
            "_view_name": "VBoxView",
            "_dom_classes": [],
            "_model_name": "VBoxModel",
            "_view_module": "@jupyter-widgets/controls",
            "_model_module_version": "1.5.0",
            "_view_count": null,
            "_view_module_version": "1.5.0",
            "box_style": "",
            "layout": "IPY_MODEL_3349723fdf7b4bb78ae0a1adddc20aec",
            "_model_module": "@jupyter-widgets/controls",
            "children": [
              "IPY_MODEL_ebf4a1542ff34adb990062f48f343b39",
              "IPY_MODEL_9ade9fbc4c6a4b8a9915bc597a9198c5"
            ]
          }
        },
        "3349723fdf7b4bb78ae0a1adddc20aec": {
          "model_module": "@jupyter-widgets/base",
          "model_name": "LayoutModel",
          "state": {
            "_view_name": "LayoutView",
            "grid_template_rows": null,
            "right": null,
            "justify_content": null,
            "_view_module": "@jupyter-widgets/base",
            "overflow": null,
            "_model_module_version": "1.2.0",
            "_view_count": null,
            "flex_flow": null,
            "width": null,
            "min_width": null,
            "border": null,
            "align_items": null,
            "bottom": null,
            "_model_module": "@jupyter-widgets/base",
            "top": null,
            "grid_column": null,
            "overflow_y": null,
            "overflow_x": null,
            "grid_auto_flow": null,
            "grid_area": null,
            "grid_template_columns": null,
            "flex": null,
            "_model_name": "LayoutModel",
            "justify_items": null,
            "grid_row": null,
            "max_height": null,
            "align_content": null,
            "visibility": null,
            "align_self": null,
            "height": null,
            "min_height": null,
            "padding": null,
            "grid_auto_rows": null,
            "grid_gap": null,
            "max_width": null,
            "order": null,
            "_view_module_version": "1.2.0",
            "grid_template_areas": null,
            "object_position": null,
            "object_fit": null,
            "grid_auto_columns": null,
            "margin": null,
            "display": null,
            "left": null
          }
        },
        "ebf4a1542ff34adb990062f48f343b39": {
          "model_module": "@jupyter-widgets/controls",
          "model_name": "LabelModel",
          "state": {
            "_view_name": "LabelView",
            "style": "IPY_MODEL_5998c1ca9ed447a28963029b8a33fb56",
            "_dom_classes": [],
            "description": "",
            "_model_name": "LabelModel",
            "placeholder": "​",
            "_view_module": "@jupyter-widgets/controls",
            "_model_module_version": "1.5.0",
            "value": " 1.27MB of 1.27MB uploaded (0.00MB deduped)\r",
            "_view_count": null,
            "_view_module_version": "1.5.0",
            "description_tooltip": null,
            "_model_module": "@jupyter-widgets/controls",
            "layout": "IPY_MODEL_0d3950e88c27464ca3d49c5352ad8313"
          }
        },
        "9ade9fbc4c6a4b8a9915bc597a9198c5": {
          "model_module": "@jupyter-widgets/controls",
          "model_name": "FloatProgressModel",
          "state": {
            "_view_name": "ProgressView",
            "style": "IPY_MODEL_39204c17f39a44279988a73f7df3dfe8",
            "_dom_classes": [],
            "description": "",
            "_model_name": "FloatProgressModel",
            "bar_style": "",
            "max": 1,
            "_view_module": "@jupyter-widgets/controls",
            "_model_module_version": "1.5.0",
            "value": 1,
            "_view_count": null,
            "_view_module_version": "1.5.0",
            "orientation": "horizontal",
            "min": 0,
            "description_tooltip": null,
            "_model_module": "@jupyter-widgets/controls",
            "layout": "IPY_MODEL_81a6be2fc4e84c00b8149beef1aa0c1a"
          }
        },
        "5998c1ca9ed447a28963029b8a33fb56": {
          "model_module": "@jupyter-widgets/controls",
          "model_name": "DescriptionStyleModel",
          "state": {
            "_view_name": "StyleView",
            "_model_name": "DescriptionStyleModel",
            "description_width": "",
            "_view_module": "@jupyter-widgets/base",
            "_model_module_version": "1.5.0",
            "_view_count": null,
            "_view_module_version": "1.2.0",
            "_model_module": "@jupyter-widgets/controls"
          }
        },
        "0d3950e88c27464ca3d49c5352ad8313": {
          "model_module": "@jupyter-widgets/base",
          "model_name": "LayoutModel",
          "state": {
            "_view_name": "LayoutView",
            "grid_template_rows": null,
            "right": null,
            "justify_content": null,
            "_view_module": "@jupyter-widgets/base",
            "overflow": null,
            "_model_module_version": "1.2.0",
            "_view_count": null,
            "flex_flow": null,
            "width": null,
            "min_width": null,
            "border": null,
            "align_items": null,
            "bottom": null,
            "_model_module": "@jupyter-widgets/base",
            "top": null,
            "grid_column": null,
            "overflow_y": null,
            "overflow_x": null,
            "grid_auto_flow": null,
            "grid_area": null,
            "grid_template_columns": null,
            "flex": null,
            "_model_name": "LayoutModel",
            "justify_items": null,
            "grid_row": null,
            "max_height": null,
            "align_content": null,
            "visibility": null,
            "align_self": null,
            "height": null,
            "min_height": null,
            "padding": null,
            "grid_auto_rows": null,
            "grid_gap": null,
            "max_width": null,
            "order": null,
            "_view_module_version": "1.2.0",
            "grid_template_areas": null,
            "object_position": null,
            "object_fit": null,
            "grid_auto_columns": null,
            "margin": null,
            "display": null,
            "left": null
          }
        },
        "39204c17f39a44279988a73f7df3dfe8": {
          "model_module": "@jupyter-widgets/controls",
          "model_name": "ProgressStyleModel",
          "state": {
            "_view_name": "StyleView",
            "_model_name": "ProgressStyleModel",
            "description_width": "",
            "_view_module": "@jupyter-widgets/base",
            "_model_module_version": "1.5.0",
            "_view_count": null,
            "_view_module_version": "1.2.0",
            "bar_color": null,
            "_model_module": "@jupyter-widgets/controls"
          }
        },
        "81a6be2fc4e84c00b8149beef1aa0c1a": {
          "model_module": "@jupyter-widgets/base",
          "model_name": "LayoutModel",
          "state": {
            "_view_name": "LayoutView",
            "grid_template_rows": null,
            "right": null,
            "justify_content": null,
            "_view_module": "@jupyter-widgets/base",
            "overflow": null,
            "_model_module_version": "1.2.0",
            "_view_count": null,
            "flex_flow": null,
            "width": null,
            "min_width": null,
            "border": null,
            "align_items": null,
            "bottom": null,
            "_model_module": "@jupyter-widgets/base",
            "top": null,
            "grid_column": null,
            "overflow_y": null,
            "overflow_x": null,
            "grid_auto_flow": null,
            "grid_area": null,
            "grid_template_columns": null,
            "flex": null,
            "_model_name": "LayoutModel",
            "justify_items": null,
            "grid_row": null,
            "max_height": null,
            "align_content": null,
            "visibility": null,
            "align_self": null,
            "height": null,
            "min_height": null,
            "padding": null,
            "grid_auto_rows": null,
            "grid_gap": null,
            "max_width": null,
            "order": null,
            "_view_module_version": "1.2.0",
            "grid_template_areas": null,
            "object_position": null,
            "object_fit": null,
            "grid_auto_columns": null,
            "margin": null,
            "display": null,
            "left": null
          }
        },
        "140492744dc64644ae19d74994c2c0fb": {
          "model_module": "@jupyter-widgets/controls",
          "model_name": "VBoxModel",
          "state": {
            "_view_name": "VBoxView",
            "_dom_classes": [],
            "_model_name": "VBoxModel",
            "_view_module": "@jupyter-widgets/controls",
            "_model_module_version": "1.5.0",
            "_view_count": null,
            "_view_module_version": "1.5.0",
            "box_style": "",
            "layout": "IPY_MODEL_6b1b5f8abea8456c8dd82954d1c61a7e",
            "_model_module": "@jupyter-widgets/controls",
            "children": [
              "IPY_MODEL_4bdcaaaf19044234b36663f1c63face0",
              "IPY_MODEL_6d4550e085bf4975b475eb2f43cbefdf"
            ]
          }
        },
        "6b1b5f8abea8456c8dd82954d1c61a7e": {
          "model_module": "@jupyter-widgets/base",
          "model_name": "LayoutModel",
          "state": {
            "_view_name": "LayoutView",
            "grid_template_rows": null,
            "right": null,
            "justify_content": null,
            "_view_module": "@jupyter-widgets/base",
            "overflow": null,
            "_model_module_version": "1.2.0",
            "_view_count": null,
            "flex_flow": null,
            "width": null,
            "min_width": null,
            "border": null,
            "align_items": null,
            "bottom": null,
            "_model_module": "@jupyter-widgets/base",
            "top": null,
            "grid_column": null,
            "overflow_y": null,
            "overflow_x": null,
            "grid_auto_flow": null,
            "grid_area": null,
            "grid_template_columns": null,
            "flex": null,
            "_model_name": "LayoutModel",
            "justify_items": null,
            "grid_row": null,
            "max_height": null,
            "align_content": null,
            "visibility": null,
            "align_self": null,
            "height": null,
            "min_height": null,
            "padding": null,
            "grid_auto_rows": null,
            "grid_gap": null,
            "max_width": null,
            "order": null,
            "_view_module_version": "1.2.0",
            "grid_template_areas": null,
            "object_position": null,
            "object_fit": null,
            "grid_auto_columns": null,
            "margin": null,
            "display": null,
            "left": null
          }
        },
        "4bdcaaaf19044234b36663f1c63face0": {
          "model_module": "@jupyter-widgets/controls",
          "model_name": "LabelModel",
          "state": {
            "_view_name": "LabelView",
            "style": "IPY_MODEL_764c65c2683148359cff6659bd5c5945",
            "_dom_classes": [],
            "description": "",
            "_model_name": "LabelModel",
            "placeholder": "​",
            "_view_module": "@jupyter-widgets/controls",
            "_model_module_version": "1.5.0",
            "value": " 1.28MB of 1.28MB uploaded (0.00MB deduped)\r",
            "_view_count": null,
            "_view_module_version": "1.5.0",
            "description_tooltip": null,
            "_model_module": "@jupyter-widgets/controls",
            "layout": "IPY_MODEL_4ab201c7a7264c7cbe9ecf33e246e5b0"
          }
        },
        "6d4550e085bf4975b475eb2f43cbefdf": {
          "model_module": "@jupyter-widgets/controls",
          "model_name": "FloatProgressModel",
          "state": {
            "_view_name": "ProgressView",
            "style": "IPY_MODEL_b9e1551f52af459e9561437185fe802f",
            "_dom_classes": [],
            "description": "",
            "_model_name": "FloatProgressModel",
            "bar_style": "",
            "max": 1,
            "_view_module": "@jupyter-widgets/controls",
            "_model_module_version": "1.5.0",
            "value": 1,
            "_view_count": null,
            "_view_module_version": "1.5.0",
            "orientation": "horizontal",
            "min": 0,
            "description_tooltip": null,
            "_model_module": "@jupyter-widgets/controls",
            "layout": "IPY_MODEL_1b9dbe153cdf4ef2a4e01329abef7d08"
          }
        },
        "764c65c2683148359cff6659bd5c5945": {
          "model_module": "@jupyter-widgets/controls",
          "model_name": "DescriptionStyleModel",
          "state": {
            "_view_name": "StyleView",
            "_model_name": "DescriptionStyleModel",
            "description_width": "",
            "_view_module": "@jupyter-widgets/base",
            "_model_module_version": "1.5.0",
            "_view_count": null,
            "_view_module_version": "1.2.0",
            "_model_module": "@jupyter-widgets/controls"
          }
        },
        "4ab201c7a7264c7cbe9ecf33e246e5b0": {
          "model_module": "@jupyter-widgets/base",
          "model_name": "LayoutModel",
          "state": {
            "_view_name": "LayoutView",
            "grid_template_rows": null,
            "right": null,
            "justify_content": null,
            "_view_module": "@jupyter-widgets/base",
            "overflow": null,
            "_model_module_version": "1.2.0",
            "_view_count": null,
            "flex_flow": null,
            "width": null,
            "min_width": null,
            "border": null,
            "align_items": null,
            "bottom": null,
            "_model_module": "@jupyter-widgets/base",
            "top": null,
            "grid_column": null,
            "overflow_y": null,
            "overflow_x": null,
            "grid_auto_flow": null,
            "grid_area": null,
            "grid_template_columns": null,
            "flex": null,
            "_model_name": "LayoutModel",
            "justify_items": null,
            "grid_row": null,
            "max_height": null,
            "align_content": null,
            "visibility": null,
            "align_self": null,
            "height": null,
            "min_height": null,
            "padding": null,
            "grid_auto_rows": null,
            "grid_gap": null,
            "max_width": null,
            "order": null,
            "_view_module_version": "1.2.0",
            "grid_template_areas": null,
            "object_position": null,
            "object_fit": null,
            "grid_auto_columns": null,
            "margin": null,
            "display": null,
            "left": null
          }
        },
        "b9e1551f52af459e9561437185fe802f": {
          "model_module": "@jupyter-widgets/controls",
          "model_name": "ProgressStyleModel",
          "state": {
            "_view_name": "StyleView",
            "_model_name": "ProgressStyleModel",
            "description_width": "",
            "_view_module": "@jupyter-widgets/base",
            "_model_module_version": "1.5.0",
            "_view_count": null,
            "_view_module_version": "1.2.0",
            "bar_color": null,
            "_model_module": "@jupyter-widgets/controls"
          }
        },
        "1b9dbe153cdf4ef2a4e01329abef7d08": {
          "model_module": "@jupyter-widgets/base",
          "model_name": "LayoutModel",
          "state": {
            "_view_name": "LayoutView",
            "grid_template_rows": null,
            "right": null,
            "justify_content": null,
            "_view_module": "@jupyter-widgets/base",
            "overflow": null,
            "_model_module_version": "1.2.0",
            "_view_count": null,
            "flex_flow": null,
            "width": null,
            "min_width": null,
            "border": null,
            "align_items": null,
            "bottom": null,
            "_model_module": "@jupyter-widgets/base",
            "top": null,
            "grid_column": null,
            "overflow_y": null,
            "overflow_x": null,
            "grid_auto_flow": null,
            "grid_area": null,
            "grid_template_columns": null,
            "flex": null,
            "_model_name": "LayoutModel",
            "justify_items": null,
            "grid_row": null,
            "max_height": null,
            "align_content": null,
            "visibility": null,
            "align_self": null,
            "height": null,
            "min_height": null,
            "padding": null,
            "grid_auto_rows": null,
            "grid_gap": null,
            "max_width": null,
            "order": null,
            "_view_module_version": "1.2.0",
            "grid_template_areas": null,
            "object_position": null,
            "object_fit": null,
            "grid_auto_columns": null,
            "margin": null,
            "display": null,
            "left": null
          }
        }
      }
    }
  },
  "cells": [
    {
      "cell_type": "markdown",
      "source": [
        "<a href=\"https://colab.research.google.com/github/acse-2020/acse2020-acse9-finalreport-acse-jaq15/blob/main/notebooks/GRU/GRU_GBPUSD.ipynb\" target=\"_parent\"><img src=\"https://colab.research.google.com/assets/colab-badge.svg\" alt=\"Open In Colab\"/></a>"
      ],
      "metadata": {
        "id": "view-in-github",
        "colab_type": "text"
      }
    },
    {
      "cell_type": "markdown",
      "source": [
        "# Imports\n",
        "\n",
        "The cells below handle all the necessary imports to run our models, making use of the public repo feeder_repo, linked <!-- [Text](link) -->\n",
        "[here](https://github.com/acse-jaq15/feeder_repo)."
      ],
      "metadata": {
        "id": "z5F7GfFTgUo3"
      }
    },
    {
      "cell_type": "code",
      "execution_count": 1,
      "source": [
        "# clone the feeder repo to get data_reader module and financial time series data\n",
        "!git clone https://github.com/acse-jaq15/feeder_repo.git"
      ],
      "outputs": [
        {
          "output_type": "stream",
          "name": "stdout",
          "text": [
            "Cloning into 'feeder_repo'...\n",
            "remote: Enumerating objects: 119, done.\u001b[K\n",
            "remote: Counting objects: 100% (119/119), done.\u001b[K\n",
            "remote: Compressing objects: 100% (114/114), done.\u001b[K\n",
            "remote: Total 119 (delta 53), reused 6 (delta 2), pack-reused 0\u001b[K\n",
            "Receiving objects: 100% (119/119), 107.55 KiB | 4.14 MiB/s, done.\n",
            "Resolving deltas: 100% (53/53), done.\n"
          ]
        }
      ],
      "metadata": {
        "id": "HWy9Ay1SGzWa",
        "colab": {
          "base_uri": "https://localhost:8080/"
        },
        "outputId": "c58d250f-3359-4ce9-fab9-9ff4647f3474"
      }
    },
    {
      "cell_type": "code",
      "execution_count": 2,
      "source": [
        "# using '%' to enforce a permanent change of directory\n",
        "%cd feeder_repo/"
      ],
      "outputs": [
        {
          "output_type": "stream",
          "name": "stdout",
          "text": [
            "/content/feeder_repo\n"
          ]
        }
      ],
      "metadata": {
        "id": "ChlUNYaiHGM2",
        "colab": {
          "base_uri": "https://localhost:8080/"
        },
        "outputId": "079b4ecd-df7f-4199-d430-f462533ef036"
      }
    },
    {
      "cell_type": "code",
      "execution_count": 3,
      "source": [
        "# checking contents listed correctly, should read:\n",
        "# baseline_model.py data data_reader.py LICENSE README.md security_plotter.py\n",
        "!ls"
      ],
      "outputs": [
        {
          "output_type": "stream",
          "name": "stdout",
          "text": [
            "base_model.py  data  data_reader.py  LICENSE  README.md  security_plotter.py\n"
          ]
        }
      ],
      "metadata": {
        "id": "saD-jpvPIfZ8",
        "colab": {
          "base_uri": "https://localhost:8080/"
        },
        "outputId": "0b501297-74be-419e-b3d2-1074ab85de08"
      }
    },
    {
      "cell_type": "code",
      "execution_count": 4,
      "source": [
        "import math\n",
        "import sys\n",
        "import keras\n",
        "import os\n",
        "import matplotlib.dates as mdates\n",
        "import matplotlib.pyplot as plt\n",
        "import pandas as pd\n",
        "import numpy as np\n",
        "from keras.models import Sequential\n",
        "from keras.layers import Dense\n",
        "from keras.layers import LSTM\n",
        "from keras.layers import GRU\n",
        "from keras.layers import Dropout\n",
        "from keras.layers import *\n",
        "from keras.utils.layer_utils import count_params\n",
        "from keras.utils.vis_utils import plot_model\n",
        "from sklearn.preprocessing import MinMaxScaler\n",
        "from sklearn.metrics import mean_squared_error\n",
        "from sklearn.metrics import mean_absolute_error\n",
        "from sklearn.model_selection import train_test_split\n",
        "from keras.callbacks import EarlyStopping, Callback\n",
        "from keras.optimizers import RMSprop, SGD, Adam, Nadam\n",
        "from keras.initializers import random_normal"
      ],
      "outputs": [],
      "metadata": {
        "id": "fRqkwo6kZUz_"
      }
    },
    {
      "cell_type": "code",
      "execution_count": 5,
      "source": [
        "# appending path with 'feeder_repo' string\n",
        "sys.path.append('feeder_repo')\n",
        "\n",
        "# import Data_Reader class from data_reader module\n",
        "from feeder_repo.data_reader import Data_Reader\n",
        "# import Baseline_Model class from base_model module\n",
        "from feeder_repo.base_model import Base_Model\n",
        "# import Security_Plotter class from security_plotter module\n",
        "from feeder_repo.security_plotter import Security_Plotter"
      ],
      "outputs": [],
      "metadata": {
        "id": "hzVhwND1HAlw"
      }
    },
    {
      "cell_type": "code",
      "execution_count": 6,
      "source": [
        "# checking if the notebook is running on a GPU\n",
        "gpu_info = !nvidia-smi\n",
        "gpu_info = '\\n'.join(gpu_info)\n",
        "if gpu_info.find('failed') >= 0:\n",
        "    print('Select the Runtime > \"Change runtime type\" menu to enable a GPU accelerator, ')\n",
        "    print('and then re-execute this cell.')\n",
        "else:\n",
        "    print(gpu_info)"
      ],
      "outputs": [
        {
          "output_type": "stream",
          "name": "stdout",
          "text": [
            "Tue Jul 13 14:06:30 2021       \n",
            "+-----------------------------------------------------------------------------+\n",
            "| NVIDIA-SMI 470.42.01    Driver Version: 460.32.03    CUDA Version: 11.2     |\n",
            "|-------------------------------+----------------------+----------------------+\n",
            "| GPU  Name        Persistence-M| Bus-Id        Disp.A | Volatile Uncorr. ECC |\n",
            "| Fan  Temp  Perf  Pwr:Usage/Cap|         Memory-Usage | GPU-Util  Compute M. |\n",
            "|                               |                      |               MIG M. |\n",
            "|===============================+======================+======================|\n",
            "|   0  Tesla P100-PCIE...  Off  | 00000000:00:04.0 Off |                    0 |\n",
            "| N/A   37C    P0    26W / 250W |      0MiB / 16280MiB |      0%      Default |\n",
            "|                               |                      |                  N/A |\n",
            "+-------------------------------+----------------------+----------------------+\n",
            "                                                                               \n",
            "+-----------------------------------------------------------------------------+\n",
            "| Processes:                                                                  |\n",
            "|  GPU   GI   CI        PID   Type   Process name                  GPU Memory |\n",
            "|        ID   ID                                                   Usage      |\n",
            "|=============================================================================|\n",
            "|  No running processes found                                                 |\n",
            "+-----------------------------------------------------------------------------+\n"
          ]
        }
      ],
      "metadata": {
        "colab": {
          "base_uri": "https://localhost:8080/"
        },
        "id": "6-tNDlXuhiCU",
        "outputId": "da9fdb0f-d6a2-4a15-d61e-831e877d985e"
      }
    },
    {
      "cell_type": "markdown",
      "source": [
        "# Handling the data\n",
        "Here the Data_Reader class is used to read the time series data and extract training, test and validation sets, along with the relevant X and y values."
      ],
      "metadata": {
        "id": "WB9wD4Aahs8_"
      }
    },
    {
      "cell_type": "code",
      "execution_count": 7,
      "source": [
        "# storing the file to be read as a string\n",
        "in_str = 'GBPUSD'\n",
        "# storing the year of the time series to be used as test data\n",
        "in_yr = 2019\n",
        "# creating a variable to store the model name\n",
        "model_str = 'GRU'\n",
        "# setting our window_length to be 30 days\n",
        "window_len = 30"
      ],
      "outputs": [],
      "metadata": {
        "id": "vBlKerL-c4-3"
      }
    },
    {
      "cell_type": "code",
      "execution_count": 8,
      "source": [
        "# creating an instance of Data_Reader class\n",
        "in_data = Data_Reader(in_str, in_yr)\n",
        "# calling class method extract_train_test to generate training and test datasets\n",
        "in_data.extract_train_test()\n",
        "# calling class method extract_xy to generate X and y training and test datasets\n",
        "in_data.extract_xy(window_len)\n",
        "\n",
        "# assigning X_train and y_train\n",
        "X_train = in_data.X_train\n",
        "y_train = in_data.y_train\n",
        "\n",
        "# assigning X_test and y_test\n",
        "X_test = in_data.X_test\n",
        "y_test = in_data.y_test\n",
        "\n",
        "# assigning X_val_train and y_val_train\n",
        "X_val_train = in_data.X_val_train\n",
        "y_val_train = in_data.y_val_train\n",
        "\n",
        "# assigning X_val_test and y_val_test\n",
        "X_val_test = in_data.X_val_test\n",
        "y_val_test = in_data.y_val_test"
      ],
      "outputs": [],
      "metadata": {
        "id": "hfQJbuBk0vW0"
      }
    },
    {
      "cell_type": "markdown",
      "source": [
        "# Setting up wandb itegration\n",
        "Here wandb is used to perform hyperparameter tuning."
      ],
      "metadata": {
        "id": "X53Fp1Gwh88_"
      }
    },
    {
      "cell_type": "code",
      "execution_count": 9,
      "source": [
        "# installing the wandb library and importing\n",
        "%pip install wandb -q\n",
        "import wandb\n",
        "from wandb.keras import WandbCallback"
      ],
      "outputs": [
        {
          "output_type": "stream",
          "name": "stdout",
          "text": [
            "\u001b[K     |████████████████████████████████| 1.8MB 16.1MB/s \n",
            "\u001b[K     |████████████████████████████████| 102kB 14.1MB/s \n",
            "\u001b[K     |████████████████████████████████| 174kB 53.0MB/s \n",
            "\u001b[K     |████████████████████████████████| 143kB 52.3MB/s \n",
            "\u001b[K     |████████████████████████████████| 71kB 10.8MB/s \n",
            "\u001b[?25h  Building wheel for subprocess32 (setup.py) ... \u001b[?25l\u001b[?25hdone\n",
            "  Building wheel for pathtools (setup.py) ... \u001b[?25l\u001b[?25hdone\n"
          ]
        }
      ],
      "metadata": {
        "colab": {
          "base_uri": "https://localhost:8080/"
        },
        "id": "aE6cdrSDiHhq",
        "outputId": "8b233c42-4f55-419d-efd3-00383ad7061e"
      }
    },
    {
      "cell_type": "code",
      "execution_count": 10,
      "source": [
        "!pip install wandb -qq"
      ],
      "outputs": [],
      "metadata": {
        "id": "pbgZaoQDiIKX"
      }
    },
    {
      "cell_type": "code",
      "execution_count": 11,
      "source": [
        "# logging in so the hyperparameter tunings sweeps can be saved\n",
        "!wandb login"
      ],
      "outputs": [
        {
          "output_type": "stream",
          "name": "stdout",
          "text": [
            "\u001b[34m\u001b[1mwandb\u001b[0m: You can find your API key in your browser here: https://wandb.ai/authorize\n",
            "\u001b[34m\u001b[1mwandb\u001b[0m: Paste an API key from your profile and hit enter: \n",
            "\u001b[34m\u001b[1mwandb\u001b[0m: Appending key for api.wandb.ai to your netrc file: /root/.netrc\n"
          ]
        }
      ],
      "metadata": {
        "colab": {
          "base_uri": "https://localhost:8080/"
        },
        "id": "1WHkW0XyiKVL",
        "outputId": "f5b38bee-e50a-472f-b809-54810ffe5c08"
      }
    },
    {
      "cell_type": "code",
      "execution_count": 12,
      "source": [
        "# configuring the sweep, making use of a random search methodology\n",
        "sweep_config = {\n",
        "    'method': 'random', #grid, random\n",
        "    'metric': {\n",
        "      'name': 'mse',\n",
        "      'goal': 'minimize'   \n",
        "    },\n",
        "    'parameters': {\n",
        "        'epochs': {\n",
        "            'values': [50, 100, 200]\n",
        "        },\n",
        "        'batch_size': {\n",
        "            'values': [128, 64, 32]\n",
        "        },\n",
        "        'dropout': {\n",
        "            'values': [0.2, 0.3, 0.4]\n",
        "        },\n",
        "        'input_size': {\n",
        "            'values': [25, 50, 100]\n",
        "        },\n",
        "        'hidden_size': {\n",
        "            'values': [25, 50, 100]\n",
        "        },\n",
        "        'learning_rate': {\n",
        "            'values': [0.005, 0.001, 0.0005]\n",
        "        },\n",
        "        'optimizer': {\n",
        "            'values': ['adam', 'nadam', 'sgd']\n",
        "        },\n",
        "        'activation': {\n",
        "            'values': ['tanh', 'relu', 'selu']\n",
        "        }\n",
        "    }\n",
        "}"
      ],
      "outputs": [],
      "metadata": {
        "id": "j91IBGuSid5w"
      }
    },
    {
      "cell_type": "code",
      "execution_count": 13,
      "source": [
        "# The sweep calls this function with each set of hyperparameters\n",
        "def train():\n",
        "    # Default values for hyper-parameters we're going to sweep over\n",
        "    config_defaults = {\n",
        "        'epochs': 100,\n",
        "        'batch_size': 32,\n",
        "        'dropout': 0.2,\n",
        "        'input_size': 50,\n",
        "        'hidden_size': 50,\n",
        "        'learning_rate': 0.005,\n",
        "        'optimizer': 'adam',\n",
        "        'activation': 'tanh',\n",
        "        'momentum': 0.9,\n",
        "        'seed': 42\n",
        "    }\n",
        "\n",
        "    # Initialize a new wandb run\n",
        "    wandb.init(config=config_defaults)\n",
        "    \n",
        "    # Config is a variable that holds and saves hyperparameters and inputs\n",
        "    config = wandb.config\n",
        "    \n",
        "    # Define the model architecture - This is a simplified version of the VGG19 architecture\n",
        "    model = Sequential()\n",
        "    \n",
        "    # input layer\n",
        "    model.add(GRU(units=config.input_size,\n",
        "                  activation=config.activation,\n",
        "                  return_sequences=True,\n",
        "                  input_shape=(window_len, 1)))\n",
        "    model.add(Dropout(config.dropout))\n",
        "    # hidden layer\n",
        "    model.add(GRU(units=config.hidden_size))\n",
        "    model.add(Dropout(config.dropout))\n",
        "    model.add(Dense(units=1))\n",
        "\n",
        "    # Define the optimizer\n",
        "    if config.optimizer=='sgd':\n",
        "      optimizer = SGD(learning_rate=config.learning_rate, decay=1e-5, momentum=config.momentum, nesterov=True)\n",
        "    elif config.optimizer=='rmsprop':\n",
        "      optimizer = RMSprop(learning_rate=config.learning_rate, decay=1e-5)\n",
        "    elif config.optimizer=='adam':\n",
        "      optimizer = Adam(learning_rate=config.learning_rate, beta_1=0.9, beta_2=0.999, clipnorm=1.0)\n",
        "    elif config.optimizer=='nadam':\n",
        "      optimizer = Nadam(learning_rate=config.learning_rate, beta_1=0.9, beta_2=0.999, clipnorm=1.0)\n",
        "\n",
        "    model.compile(loss = \"mean_squared_error\", optimizer=optimizer, metrics=['mean_squared_error', 'mean_absolute_error'])\n",
        "\n",
        "    model.fit(X_val_train, y_val_train, batch_size=config.batch_size,\n",
        "              epochs=config.epochs,\n",
        "              validation_data=(X_val_test, y_val_test),\n",
        "              callbacks=[WandbCallback(validation_data=(X_val_test, y_val_test)),\n",
        "                          EarlyStopping(patience=10, restore_best_weights=True)])"
      ],
      "outputs": [],
      "metadata": {
        "id": "V0Sr9HsorH4E"
      }
    },
    {
      "cell_type": "code",
      "execution_count": 14,
      "source": [
        "# setting up our sweep_id\n",
        "sweep_id = wandb.sweep(sweep_config, project='ACSE_9_GRU')"
      ],
      "outputs": [
        {
          "output_type": "stream",
          "name": "stdout",
          "text": [
            "Create sweep with ID: znsj9bl4\n",
            "Sweep URL: https://wandb.ai/acse-jaq15/ACSE_9_GRU/sweeps/znsj9bl4\n"
          ]
        }
      ],
      "metadata": {
        "colab": {
          "base_uri": "https://localhost:8080/"
        },
        "id": "JwZO6oAFU1LN",
        "outputId": "7e49ebd0-02fd-4d5c-dc87-8f11e0e16a2e"
      }
    },
    {
      "cell_type": "code",
      "execution_count": 15,
      "source": [
        "# initialising a new sweep\n",
        "wandb.agent(sweep_id, train, project='ACSE_9_GRU')"
      ],
      "outputs": [
        {
          "output_type": "stream",
          "name": "stderr",
          "text": [
            "\u001b[34m\u001b[1mwandb\u001b[0m: Agent Starting Run: 0vf3278s with config:\n",
            "\u001b[34m\u001b[1mwandb\u001b[0m: \tactivation: relu\n",
            "\u001b[34m\u001b[1mwandb\u001b[0m: \tbatch_size: 64\n",
            "\u001b[34m\u001b[1mwandb\u001b[0m: \tdropout: 0.2\n",
            "\u001b[34m\u001b[1mwandb\u001b[0m: \tepochs: 100\n",
            "\u001b[34m\u001b[1mwandb\u001b[0m: \thidden_size: 25\n",
            "\u001b[34m\u001b[1mwandb\u001b[0m: \tinput_size: 100\n",
            "\u001b[34m\u001b[1mwandb\u001b[0m: \tlearning_rate: 0.0005\n",
            "\u001b[34m\u001b[1mwandb\u001b[0m: \toptimizer: sgd\n",
            "\u001b[34m\u001b[1mwandb\u001b[0m: Currently logged in as: \u001b[33macse-jaq15\u001b[0m (use `wandb login --relogin` to force relogin)\n"
          ]
        },
        {
          "output_type": "display_data",
          "data": {
            "text/plain": [
              "<IPython.core.display.HTML object>"
            ],
            "text/html": [
              "\n",
              "                Tracking run with wandb version 0.10.33<br/>\n",
              "                Syncing run <strong style=\"color:#cdcd00\">giddy-sweep-1</strong> to <a href=\"https://wandb.ai\" target=\"_blank\">Weights & Biases</a> <a href=\"https://docs.wandb.com/integrations/jupyter.html\" target=\"_blank\">(Documentation)</a>.<br/>\n",
              "                Project page: <a href=\"https://wandb.ai/acse-jaq15/ACSE_9_GRU\" target=\"_blank\">https://wandb.ai/acse-jaq15/ACSE_9_GRU</a><br/>\n",
              "                Sweep page: <a href=\"https://wandb.ai/acse-jaq15/ACSE_9_GRU/sweeps/znsj9bl4\" target=\"_blank\">https://wandb.ai/acse-jaq15/ACSE_9_GRU/sweeps/znsj9bl4</a><br/>\n",
              "Run page: <a href=\"https://wandb.ai/acse-jaq15/ACSE_9_GRU/runs/0vf3278s\" target=\"_blank\">https://wandb.ai/acse-jaq15/ACSE_9_GRU/runs/0vf3278s</a><br/>\n",
              "                Run data is saved locally in <code>/content/feeder_repo/wandb/run-20210713_140734-0vf3278s</code><br/><br/>\n",
              "            "
            ]
          },
          "metadata": {
            "tags": []
          }
        },
        {
          "output_type": "stream",
          "name": "stdout",
          "text": [
            "WARNING:tensorflow:Layer gru will not use cuDNN kernels since it doesn't meet the criteria. It will use a generic GPU kernel as fallback when running on GPU.\n",
            "Epoch 1/100\n",
            "16/16 [==============================] - 25s 127ms/step - loss: 0.2585 - mean_squared_error: 0.2585 - mean_absolute_error: 0.4279 - val_loss: 0.0964 - val_mean_squared_error: 0.0964 - val_mean_absolute_error: 0.2349\n",
            "Epoch 2/100\n",
            "16/16 [==============================] - 1s 69ms/step - loss: 0.1054 - mean_squared_error: 0.1054 - mean_absolute_error: 0.2553 - val_loss: 0.0440 - val_mean_squared_error: 0.0440 - val_mean_absolute_error: 0.1652\n",
            "Epoch 3/100\n",
            "16/16 [==============================] - 1s 60ms/step - loss: 0.0555 - mean_squared_error: 0.0555 - mean_absolute_error: 0.2053 - val_loss: 0.0395 - val_mean_squared_error: 0.0395 - val_mean_absolute_error: 0.1734\n",
            "Epoch 4/100\n",
            "16/16 [==============================] - 1s 64ms/step - loss: 0.0544 - mean_squared_error: 0.0544 - mean_absolute_error: 0.2016 - val_loss: 0.0380 - val_mean_squared_error: 0.0380 - val_mean_absolute_error: 0.1720\n",
            "Epoch 5/100\n",
            "16/16 [==============================] - 1s 63ms/step - loss: 0.0498 - mean_squared_error: 0.0498 - mean_absolute_error: 0.1911 - val_loss: 0.0352 - val_mean_squared_error: 0.0352 - val_mean_absolute_error: 0.1645\n",
            "Epoch 6/100\n",
            "16/16 [==============================] - 1s 65ms/step - loss: 0.0439 - mean_squared_error: 0.0439 - mean_absolute_error: 0.1784 - val_loss: 0.0327 - val_mean_squared_error: 0.0327 - val_mean_absolute_error: 0.1573\n",
            "Epoch 7/100\n",
            "16/16 [==============================] - 1s 64ms/step - loss: 0.0430 - mean_squared_error: 0.0430 - mean_absolute_error: 0.1769 - val_loss: 0.0307 - val_mean_squared_error: 0.0307 - val_mean_absolute_error: 0.1519\n",
            "Epoch 8/100\n",
            "16/16 [==============================] - 1s 64ms/step - loss: 0.0396 - mean_squared_error: 0.0396 - mean_absolute_error: 0.1725 - val_loss: 0.0290 - val_mean_squared_error: 0.0290 - val_mean_absolute_error: 0.1471\n",
            "Epoch 9/100\n",
            "16/16 [==============================] - 1s 66ms/step - loss: 0.0390 - mean_squared_error: 0.0390 - mean_absolute_error: 0.1699 - val_loss: 0.0277 - val_mean_squared_error: 0.0277 - val_mean_absolute_error: 0.1438\n",
            "Epoch 10/100\n",
            "16/16 [==============================] - 1s 66ms/step - loss: 0.0374 - mean_squared_error: 0.0374 - mean_absolute_error: 0.1662 - val_loss: 0.0261 - val_mean_squared_error: 0.0261 - val_mean_absolute_error: 0.1388\n",
            "Epoch 11/100\n",
            "16/16 [==============================] - 1s 64ms/step - loss: 0.0358 - mean_squared_error: 0.0358 - mean_absolute_error: 0.1612 - val_loss: 0.0247 - val_mean_squared_error: 0.0247 - val_mean_absolute_error: 0.1347\n",
            "Epoch 12/100\n",
            "16/16 [==============================] - 1s 65ms/step - loss: 0.0361 - mean_squared_error: 0.0361 - mean_absolute_error: 0.1614 - val_loss: 0.0235 - val_mean_squared_error: 0.0235 - val_mean_absolute_error: 0.1313\n",
            "Epoch 13/100\n",
            "16/16 [==============================] - 1s 67ms/step - loss: 0.0307 - mean_squared_error: 0.0307 - mean_absolute_error: 0.1502 - val_loss: 0.0222 - val_mean_squared_error: 0.0222 - val_mean_absolute_error: 0.1275\n",
            "Epoch 14/100\n",
            "16/16 [==============================] - 1s 63ms/step - loss: 0.0288 - mean_squared_error: 0.0288 - mean_absolute_error: 0.1448 - val_loss: 0.0210 - val_mean_squared_error: 0.0210 - val_mean_absolute_error: 0.1234\n",
            "Epoch 15/100\n",
            "16/16 [==============================] - 1s 65ms/step - loss: 0.0290 - mean_squared_error: 0.0290 - mean_absolute_error: 0.1449 - val_loss: 0.0198 - val_mean_squared_error: 0.0198 - val_mean_absolute_error: 0.1193\n",
            "Epoch 16/100\n",
            "16/16 [==============================] - 1s 66ms/step - loss: 0.0274 - mean_squared_error: 0.0274 - mean_absolute_error: 0.1407 - val_loss: 0.0187 - val_mean_squared_error: 0.0187 - val_mean_absolute_error: 0.1155\n",
            "Epoch 17/100\n",
            "16/16 [==============================] - 1s 63ms/step - loss: 0.0254 - mean_squared_error: 0.0254 - mean_absolute_error: 0.1371 - val_loss: 0.0177 - val_mean_squared_error: 0.0177 - val_mean_absolute_error: 0.1125\n",
            "Epoch 18/100\n",
            "16/16 [==============================] - 1s 65ms/step - loss: 0.0241 - mean_squared_error: 0.0241 - mean_absolute_error: 0.1310 - val_loss: 0.0168 - val_mean_squared_error: 0.0168 - val_mean_absolute_error: 0.1094\n",
            "Epoch 19/100\n",
            "16/16 [==============================] - 1s 65ms/step - loss: 0.0229 - mean_squared_error: 0.0229 - mean_absolute_error: 0.1266 - val_loss: 0.0160 - val_mean_squared_error: 0.0160 - val_mean_absolute_error: 0.1064\n",
            "Epoch 20/100\n",
            "16/16 [==============================] - 1s 68ms/step - loss: 0.0222 - mean_squared_error: 0.0222 - mean_absolute_error: 0.1258 - val_loss: 0.0151 - val_mean_squared_error: 0.0151 - val_mean_absolute_error: 0.1031\n",
            "Epoch 21/100\n",
            "16/16 [==============================] - 1s 63ms/step - loss: 0.0227 - mean_squared_error: 0.0227 - mean_absolute_error: 0.1249 - val_loss: 0.0144 - val_mean_squared_error: 0.0144 - val_mean_absolute_error: 0.1006\n",
            "Epoch 22/100\n",
            "16/16 [==============================] - 1s 65ms/step - loss: 0.0221 - mean_squared_error: 0.0221 - mean_absolute_error: 0.1220 - val_loss: 0.0136 - val_mean_squared_error: 0.0136 - val_mean_absolute_error: 0.0977\n",
            "Epoch 23/100\n",
            "16/16 [==============================] - 1s 66ms/step - loss: 0.0176 - mean_squared_error: 0.0176 - mean_absolute_error: 0.1107 - val_loss: 0.0128 - val_mean_squared_error: 0.0128 - val_mean_absolute_error: 0.0946\n",
            "Epoch 24/100\n",
            "16/16 [==============================] - 1s 64ms/step - loss: 0.0177 - mean_squared_error: 0.0177 - mean_absolute_error: 0.1116 - val_loss: 0.0120 - val_mean_squared_error: 0.0120 - val_mean_absolute_error: 0.0910\n",
            "Epoch 25/100\n",
            "16/16 [==============================] - 1s 71ms/step - loss: 0.0165 - mean_squared_error: 0.0165 - mean_absolute_error: 0.1055 - val_loss: 0.0113 - val_mean_squared_error: 0.0113 - val_mean_absolute_error: 0.0879\n",
            "Epoch 26/100\n",
            "16/16 [==============================] - 1s 65ms/step - loss: 0.0150 - mean_squared_error: 0.0150 - mean_absolute_error: 0.1027 - val_loss: 0.0107 - val_mean_squared_error: 0.0107 - val_mean_absolute_error: 0.0847\n",
            "Epoch 27/100\n",
            "16/16 [==============================] - 1s 64ms/step - loss: 0.0147 - mean_squared_error: 0.0147 - mean_absolute_error: 0.1010 - val_loss: 0.0101 - val_mean_squared_error: 0.0101 - val_mean_absolute_error: 0.0821\n",
            "Epoch 28/100\n",
            "16/16 [==============================] - 1s 60ms/step - loss: 0.0142 - mean_squared_error: 0.0142 - mean_absolute_error: 0.0972 - val_loss: 0.0096 - val_mean_squared_error: 0.0096 - val_mean_absolute_error: 0.0800\n",
            "Epoch 29/100\n",
            "16/16 [==============================] - 1s 65ms/step - loss: 0.0148 - mean_squared_error: 0.0148 - mean_absolute_error: 0.1016 - val_loss: 0.0090 - val_mean_squared_error: 0.0090 - val_mean_absolute_error: 0.0773\n",
            "Epoch 30/100\n",
            "16/16 [==============================] - 1s 61ms/step - loss: 0.0133 - mean_squared_error: 0.0133 - mean_absolute_error: 0.0950 - val_loss: 0.0085 - val_mean_squared_error: 0.0085 - val_mean_absolute_error: 0.0748\n",
            "Epoch 31/100\n",
            "16/16 [==============================] - 1s 67ms/step - loss: 0.0117 - mean_squared_error: 0.0117 - mean_absolute_error: 0.0884 - val_loss: 0.0080 - val_mean_squared_error: 0.0080 - val_mean_absolute_error: 0.0729\n",
            "Epoch 32/100\n",
            "16/16 [==============================] - 1s 63ms/step - loss: 0.0116 - mean_squared_error: 0.0116 - mean_absolute_error: 0.0866 - val_loss: 0.0076 - val_mean_squared_error: 0.0076 - val_mean_absolute_error: 0.0709\n",
            "Epoch 33/100\n",
            "16/16 [==============================] - 1s 70ms/step - loss: 0.0109 - mean_squared_error: 0.0109 - mean_absolute_error: 0.0858 - val_loss: 0.0072 - val_mean_squared_error: 0.0072 - val_mean_absolute_error: 0.0687\n",
            "Epoch 34/100\n",
            "16/16 [==============================] - 1s 69ms/step - loss: 0.0100 - mean_squared_error: 0.0100 - mean_absolute_error: 0.0818 - val_loss: 0.0067 - val_mean_squared_error: 0.0067 - val_mean_absolute_error: 0.0662\n",
            "Epoch 35/100\n",
            "16/16 [==============================] - 1s 66ms/step - loss: 0.0103 - mean_squared_error: 0.0103 - mean_absolute_error: 0.0824 - val_loss: 0.0064 - val_mean_squared_error: 0.0064 - val_mean_absolute_error: 0.0643\n",
            "Epoch 36/100\n",
            "16/16 [==============================] - 1s 63ms/step - loss: 0.0093 - mean_squared_error: 0.0093 - mean_absolute_error: 0.0786 - val_loss: 0.0061 - val_mean_squared_error: 0.0061 - val_mean_absolute_error: 0.0632\n",
            "Epoch 37/100\n",
            "16/16 [==============================] - 1s 66ms/step - loss: 0.0103 - mean_squared_error: 0.0103 - mean_absolute_error: 0.0779 - val_loss: 0.0058 - val_mean_squared_error: 0.0058 - val_mean_absolute_error: 0.0617\n",
            "Epoch 38/100\n",
            "16/16 [==============================] - 1s 65ms/step - loss: 0.0091 - mean_squared_error: 0.0091 - mean_absolute_error: 0.0773 - val_loss: 0.0056 - val_mean_squared_error: 0.0056 - val_mean_absolute_error: 0.0607\n",
            "Epoch 39/100\n",
            "16/16 [==============================] - 1s 65ms/step - loss: 0.0082 - mean_squared_error: 0.0082 - mean_absolute_error: 0.0713 - val_loss: 0.0053 - val_mean_squared_error: 0.0053 - val_mean_absolute_error: 0.0591\n",
            "Epoch 40/100\n",
            "16/16 [==============================] - 1s 68ms/step - loss: 0.0094 - mean_squared_error: 0.0094 - mean_absolute_error: 0.0752 - val_loss: 0.0050 - val_mean_squared_error: 0.0050 - val_mean_absolute_error: 0.0576\n",
            "Epoch 41/100\n",
            "16/16 [==============================] - 1s 68ms/step - loss: 0.0079 - mean_squared_error: 0.0079 - mean_absolute_error: 0.0696 - val_loss: 0.0048 - val_mean_squared_error: 0.0048 - val_mean_absolute_error: 0.0560\n",
            "Epoch 42/100\n",
            "16/16 [==============================] - 1s 63ms/step - loss: 0.0080 - mean_squared_error: 0.0080 - mean_absolute_error: 0.0684 - val_loss: 0.0046 - val_mean_squared_error: 0.0046 - val_mean_absolute_error: 0.0546\n",
            "Epoch 43/100\n",
            "16/16 [==============================] - 1s 66ms/step - loss: 0.0077 - mean_squared_error: 0.0077 - mean_absolute_error: 0.0665 - val_loss: 0.0044 - val_mean_squared_error: 0.0044 - val_mean_absolute_error: 0.0536\n",
            "Epoch 44/100\n",
            "16/16 [==============================] - 1s 66ms/step - loss: 0.0074 - mean_squared_error: 0.0074 - mean_absolute_error: 0.0662 - val_loss: 0.0042 - val_mean_squared_error: 0.0042 - val_mean_absolute_error: 0.0524\n",
            "Epoch 45/100\n",
            "16/16 [==============================] - 1s 68ms/step - loss: 0.0076 - mean_squared_error: 0.0076 - mean_absolute_error: 0.0637 - val_loss: 0.0040 - val_mean_squared_error: 0.0040 - val_mean_absolute_error: 0.0511\n",
            "Epoch 46/100\n",
            "16/16 [==============================] - 1s 66ms/step - loss: 0.0072 - mean_squared_error: 0.0072 - mean_absolute_error: 0.0632 - val_loss: 0.0039 - val_mean_squared_error: 0.0039 - val_mean_absolute_error: 0.0502\n",
            "Epoch 47/100\n",
            "16/16 [==============================] - 1s 69ms/step - loss: 0.0063 - mean_squared_error: 0.0063 - mean_absolute_error: 0.0597 - val_loss: 0.0038 - val_mean_squared_error: 0.0038 - val_mean_absolute_error: 0.0498\n",
            "Epoch 48/100\n",
            "16/16 [==============================] - 1s 69ms/step - loss: 0.0064 - mean_squared_error: 0.0064 - mean_absolute_error: 0.0608 - val_loss: 0.0037 - val_mean_squared_error: 0.0037 - val_mean_absolute_error: 0.0492\n",
            "Epoch 49/100\n",
            "16/16 [==============================] - 1s 68ms/step - loss: 0.0081 - mean_squared_error: 0.0081 - mean_absolute_error: 0.0674 - val_loss: 0.0036 - val_mean_squared_error: 0.0036 - val_mean_absolute_error: 0.0487\n",
            "Epoch 50/100\n",
            "16/16 [==============================] - 1s 70ms/step - loss: 0.0074 - mean_squared_error: 0.0074 - mean_absolute_error: 0.0636 - val_loss: 0.0036 - val_mean_squared_error: 0.0036 - val_mean_absolute_error: 0.0482\n",
            "Epoch 51/100\n",
            "16/16 [==============================] - 1s 67ms/step - loss: 0.0060 - mean_squared_error: 0.0060 - mean_absolute_error: 0.0578 - val_loss: 0.0034 - val_mean_squared_error: 0.0034 - val_mean_absolute_error: 0.0473\n",
            "Epoch 52/100\n",
            "16/16 [==============================] - 1s 70ms/step - loss: 0.0070 - mean_squared_error: 0.0070 - mean_absolute_error: 0.0614 - val_loss: 0.0034 - val_mean_squared_error: 0.0034 - val_mean_absolute_error: 0.0469\n",
            "Epoch 53/100\n",
            "16/16 [==============================] - 1s 61ms/step - loss: 0.0065 - mean_squared_error: 0.0065 - mean_absolute_error: 0.0597 - val_loss: 0.0033 - val_mean_squared_error: 0.0033 - val_mean_absolute_error: 0.0460\n",
            "Epoch 54/100\n",
            "16/16 [==============================] - 1s 63ms/step - loss: 0.0059 - mean_squared_error: 0.0059 - mean_absolute_error: 0.0560 - val_loss: 0.0032 - val_mean_squared_error: 0.0032 - val_mean_absolute_error: 0.0456\n",
            "Epoch 55/100\n",
            "16/16 [==============================] - 1s 67ms/step - loss: 0.0063 - mean_squared_error: 0.0063 - mean_absolute_error: 0.0587 - val_loss: 0.0032 - val_mean_squared_error: 0.0032 - val_mean_absolute_error: 0.0453\n",
            "Epoch 56/100\n",
            "16/16 [==============================] - 1s 66ms/step - loss: 0.0062 - mean_squared_error: 0.0062 - mean_absolute_error: 0.0576 - val_loss: 0.0031 - val_mean_squared_error: 0.0031 - val_mean_absolute_error: 0.0452\n",
            "Epoch 57/100\n",
            "16/16 [==============================] - 1s 65ms/step - loss: 0.0068 - mean_squared_error: 0.0068 - mean_absolute_error: 0.0592 - val_loss: 0.0031 - val_mean_squared_error: 0.0031 - val_mean_absolute_error: 0.0448\n",
            "Epoch 58/100\n",
            "16/16 [==============================] - 1s 64ms/step - loss: 0.0056 - mean_squared_error: 0.0056 - mean_absolute_error: 0.0554 - val_loss: 0.0030 - val_mean_squared_error: 0.0030 - val_mean_absolute_error: 0.0440\n",
            "Epoch 59/100\n",
            "16/16 [==============================] - 1s 67ms/step - loss: 0.0059 - mean_squared_error: 0.0059 - mean_absolute_error: 0.0566 - val_loss: 0.0030 - val_mean_squared_error: 0.0030 - val_mean_absolute_error: 0.0437\n",
            "Epoch 60/100\n",
            "16/16 [==============================] - 1s 63ms/step - loss: 0.0053 - mean_squared_error: 0.0053 - mean_absolute_error: 0.0531 - val_loss: 0.0029 - val_mean_squared_error: 0.0029 - val_mean_absolute_error: 0.0434\n",
            "Epoch 61/100\n",
            "16/16 [==============================] - 1s 70ms/step - loss: 0.0052 - mean_squared_error: 0.0052 - mean_absolute_error: 0.0524 - val_loss: 0.0029 - val_mean_squared_error: 0.0029 - val_mean_absolute_error: 0.0432\n",
            "Epoch 62/100\n",
            "16/16 [==============================] - 1s 67ms/step - loss: 0.0056 - mean_squared_error: 0.0056 - mean_absolute_error: 0.0537 - val_loss: 0.0029 - val_mean_squared_error: 0.0029 - val_mean_absolute_error: 0.0431\n",
            "Epoch 63/100\n",
            "16/16 [==============================] - 1s 64ms/step - loss: 0.0056 - mean_squared_error: 0.0056 - mean_absolute_error: 0.0534 - val_loss: 0.0029 - val_mean_squared_error: 0.0029 - val_mean_absolute_error: 0.0430\n",
            "Epoch 64/100\n",
            "16/16 [==============================] - 1s 68ms/step - loss: 0.0058 - mean_squared_error: 0.0058 - mean_absolute_error: 0.0557 - val_loss: 0.0028 - val_mean_squared_error: 0.0028 - val_mean_absolute_error: 0.0430\n",
            "Epoch 65/100\n",
            "16/16 [==============================] - 1s 63ms/step - loss: 0.0054 - mean_squared_error: 0.0054 - mean_absolute_error: 0.0540 - val_loss: 0.0028 - val_mean_squared_error: 0.0028 - val_mean_absolute_error: 0.0427\n",
            "Epoch 66/100\n",
            "16/16 [==============================] - 1s 68ms/step - loss: 0.0053 - mean_squared_error: 0.0053 - mean_absolute_error: 0.0512 - val_loss: 0.0028 - val_mean_squared_error: 0.0028 - val_mean_absolute_error: 0.0424\n",
            "Epoch 67/100\n",
            "16/16 [==============================] - 1s 66ms/step - loss: 0.0054 - mean_squared_error: 0.0054 - mean_absolute_error: 0.0546 - val_loss: 0.0028 - val_mean_squared_error: 0.0028 - val_mean_absolute_error: 0.0423\n",
            "Epoch 68/100\n",
            "16/16 [==============================] - 1s 65ms/step - loss: 0.0053 - mean_squared_error: 0.0053 - mean_absolute_error: 0.0521 - val_loss: 0.0028 - val_mean_squared_error: 0.0028 - val_mean_absolute_error: 0.0422\n",
            "Epoch 69/100\n",
            "16/16 [==============================] - 1s 68ms/step - loss: 0.0053 - mean_squared_error: 0.0053 - mean_absolute_error: 0.0522 - val_loss: 0.0027 - val_mean_squared_error: 0.0027 - val_mean_absolute_error: 0.0420\n",
            "Epoch 70/100\n",
            "16/16 [==============================] - 1s 65ms/step - loss: 0.0064 - mean_squared_error: 0.0064 - mean_absolute_error: 0.0557 - val_loss: 0.0027 - val_mean_squared_error: 0.0027 - val_mean_absolute_error: 0.0419\n",
            "Epoch 71/100\n",
            "16/16 [==============================] - 1s 67ms/step - loss: 0.0053 - mean_squared_error: 0.0053 - mean_absolute_error: 0.0525 - val_loss: 0.0027 - val_mean_squared_error: 0.0027 - val_mean_absolute_error: 0.0418\n",
            "Epoch 72/100\n",
            "16/16 [==============================] - 1s 62ms/step - loss: 0.0053 - mean_squared_error: 0.0053 - mean_absolute_error: 0.0520 - val_loss: 0.0027 - val_mean_squared_error: 0.0027 - val_mean_absolute_error: 0.0419\n",
            "Epoch 73/100\n",
            "16/16 [==============================] - 1s 65ms/step - loss: 0.0048 - mean_squared_error: 0.0048 - mean_absolute_error: 0.0520 - val_loss: 0.0027 - val_mean_squared_error: 0.0027 - val_mean_absolute_error: 0.0418\n",
            "Epoch 74/100\n",
            "16/16 [==============================] - 1s 68ms/step - loss: 0.0052 - mean_squared_error: 0.0052 - mean_absolute_error: 0.0509 - val_loss: 0.0027 - val_mean_squared_error: 0.0027 - val_mean_absolute_error: 0.0418\n",
            "Epoch 75/100\n",
            "16/16 [==============================] - 1s 65ms/step - loss: 0.0050 - mean_squared_error: 0.0050 - mean_absolute_error: 0.0512 - val_loss: 0.0027 - val_mean_squared_error: 0.0027 - val_mean_absolute_error: 0.0418\n",
            "Epoch 76/100\n",
            "16/16 [==============================] - 1s 67ms/step - loss: 0.0054 - mean_squared_error: 0.0054 - mean_absolute_error: 0.0525 - val_loss: 0.0027 - val_mean_squared_error: 0.0027 - val_mean_absolute_error: 0.0416\n",
            "Epoch 77/100\n",
            "16/16 [==============================] - 1s 67ms/step - loss: 0.0051 - mean_squared_error: 0.0051 - mean_absolute_error: 0.0525 - val_loss: 0.0026 - val_mean_squared_error: 0.0026 - val_mean_absolute_error: 0.0414\n",
            "Epoch 78/100\n",
            "16/16 [==============================] - 1s 64ms/step - loss: 0.0061 - mean_squared_error: 0.0061 - mean_absolute_error: 0.0543 - val_loss: 0.0027 - val_mean_squared_error: 0.0027 - val_mean_absolute_error: 0.0414\n",
            "Epoch 79/100\n",
            "16/16 [==============================] - 1s 64ms/step - loss: 0.0057 - mean_squared_error: 0.0057 - mean_absolute_error: 0.0547 - val_loss: 0.0026 - val_mean_squared_error: 0.0026 - val_mean_absolute_error: 0.0414\n",
            "Epoch 80/100\n",
            "16/16 [==============================] - 1s 68ms/step - loss: 0.0059 - mean_squared_error: 0.0059 - mean_absolute_error: 0.0547 - val_loss: 0.0026 - val_mean_squared_error: 0.0026 - val_mean_absolute_error: 0.0414\n",
            "Epoch 81/100\n",
            "16/16 [==============================] - 1s 67ms/step - loss: 0.0051 - mean_squared_error: 0.0051 - mean_absolute_error: 0.0519 - val_loss: 0.0026 - val_mean_squared_error: 0.0026 - val_mean_absolute_error: 0.0413\n",
            "Epoch 82/100\n",
            "16/16 [==============================] - 1s 63ms/step - loss: 0.0049 - mean_squared_error: 0.0049 - mean_absolute_error: 0.0500 - val_loss: 0.0026 - val_mean_squared_error: 0.0026 - val_mean_absolute_error: 0.0413\n",
            "Epoch 83/100\n",
            "16/16 [==============================] - 1s 67ms/step - loss: 0.0049 - mean_squared_error: 0.0049 - mean_absolute_error: 0.0497 - val_loss: 0.0026 - val_mean_squared_error: 0.0026 - val_mean_absolute_error: 0.0412\n",
            "Epoch 84/100\n",
            "16/16 [==============================] - 1s 65ms/step - loss: 0.0052 - mean_squared_error: 0.0052 - mean_absolute_error: 0.0526 - val_loss: 0.0026 - val_mean_squared_error: 0.0026 - val_mean_absolute_error: 0.0412\n",
            "Epoch 85/100\n",
            "16/16 [==============================] - 1s 69ms/step - loss: 0.0051 - mean_squared_error: 0.0051 - mean_absolute_error: 0.0515 - val_loss: 0.0026 - val_mean_squared_error: 0.0026 - val_mean_absolute_error: 0.0412\n",
            "Epoch 86/100\n",
            "16/16 [==============================] - 1s 71ms/step - loss: 0.0051 - mean_squared_error: 0.0051 - mean_absolute_error: 0.0518 - val_loss: 0.0026 - val_mean_squared_error: 0.0026 - val_mean_absolute_error: 0.0412\n",
            "Epoch 87/100\n",
            "16/16 [==============================] - 1s 64ms/step - loss: 0.0058 - mean_squared_error: 0.0058 - mean_absolute_error: 0.0541 - val_loss: 0.0026 - val_mean_squared_error: 0.0026 - val_mean_absolute_error: 0.0411\n",
            "Epoch 88/100\n",
            "16/16 [==============================] - 1s 66ms/step - loss: 0.0052 - mean_squared_error: 0.0052 - mean_absolute_error: 0.0523 - val_loss: 0.0026 - val_mean_squared_error: 0.0026 - val_mean_absolute_error: 0.0411\n",
            "Epoch 89/100\n",
            "16/16 [==============================] - 1s 69ms/step - loss: 0.0046 - mean_squared_error: 0.0046 - mean_absolute_error: 0.0482 - val_loss: 0.0026 - val_mean_squared_error: 0.0026 - val_mean_absolute_error: 0.0411\n",
            "Epoch 90/100\n",
            "16/16 [==============================] - 1s 70ms/step - loss: 0.0045 - mean_squared_error: 0.0045 - mean_absolute_error: 0.0491 - val_loss: 0.0026 - val_mean_squared_error: 0.0026 - val_mean_absolute_error: 0.0411\n",
            "Epoch 91/100\n",
            "16/16 [==============================] - 1s 70ms/step - loss: 0.0047 - mean_squared_error: 0.0047 - mean_absolute_error: 0.0480 - val_loss: 0.0026 - val_mean_squared_error: 0.0026 - val_mean_absolute_error: 0.0413\n",
            "Epoch 92/100\n",
            "16/16 [==============================] - 1s 65ms/step - loss: 0.0048 - mean_squared_error: 0.0048 - mean_absolute_error: 0.0499 - val_loss: 0.0026 - val_mean_squared_error: 0.0026 - val_mean_absolute_error: 0.0411\n",
            "Epoch 93/100\n",
            "16/16 [==============================] - 1s 69ms/step - loss: 0.0050 - mean_squared_error: 0.0050 - mean_absolute_error: 0.0509 - val_loss: 0.0026 - val_mean_squared_error: 0.0026 - val_mean_absolute_error: 0.0410\n",
            "Epoch 94/100\n",
            "16/16 [==============================] - 1s 70ms/step - loss: 0.0044 - mean_squared_error: 0.0044 - mean_absolute_error: 0.0484 - val_loss: 0.0026 - val_mean_squared_error: 0.0026 - val_mean_absolute_error: 0.0410\n",
            "Epoch 95/100\n",
            "16/16 [==============================] - 1s 63ms/step - loss: 0.0054 - mean_squared_error: 0.0054 - mean_absolute_error: 0.0527 - val_loss: 0.0026 - val_mean_squared_error: 0.0026 - val_mean_absolute_error: 0.0410\n",
            "Epoch 96/100\n",
            "16/16 [==============================] - 1s 69ms/step - loss: 0.0052 - mean_squared_error: 0.0052 - mean_absolute_error: 0.0524 - val_loss: 0.0026 - val_mean_squared_error: 0.0026 - val_mean_absolute_error: 0.0411\n",
            "Epoch 97/100\n",
            "16/16 [==============================] - 1s 73ms/step - loss: 0.0052 - mean_squared_error: 0.0052 - mean_absolute_error: 0.0508 - val_loss: 0.0026 - val_mean_squared_error: 0.0026 - val_mean_absolute_error: 0.0411\n",
            "Epoch 98/100\n",
            "16/16 [==============================] - 1s 69ms/step - loss: 0.0048 - mean_squared_error: 0.0048 - mean_absolute_error: 0.0503 - val_loss: 0.0026 - val_mean_squared_error: 0.0026 - val_mean_absolute_error: 0.0410\n",
            "Epoch 99/100\n",
            "16/16 [==============================] - 1s 71ms/step - loss: 0.0057 - mean_squared_error: 0.0057 - mean_absolute_error: 0.0546 - val_loss: 0.0026 - val_mean_squared_error: 0.0026 - val_mean_absolute_error: 0.0409\n",
            "Epoch 100/100\n",
            "16/16 [==============================] - 1s 68ms/step - loss: 0.0052 - mean_squared_error: 0.0052 - mean_absolute_error: 0.0509 - val_loss: 0.0026 - val_mean_squared_error: 0.0026 - val_mean_absolute_error: 0.0409\n"
          ]
        },
        {
          "output_type": "display_data",
          "data": {
            "text/plain": [
              "<IPython.core.display.HTML object>"
            ],
            "text/html": [
              "<br/>Waiting for W&B process to finish, PID 182<br/>Program ended successfully."
            ]
          },
          "metadata": {
            "tags": []
          }
        },
        {
          "output_type": "display_data",
          "data": {
            "text/plain": [
              "VBox(children=(Label(value=' 0.58MB of 0.58MB uploaded (0.00MB deduped)\\r'), FloatProgress(value=1.0, max=1.0)…"
            ],
            "application/vnd.jupyter.widget-view+json": {
              "model_id": "6229d3662ef549839990f37d1ab07031",
              "version_minor": 0,
              "version_major": 2
            }
          },
          "metadata": {
            "tags": []
          }
        },
        {
          "output_type": "display_data",
          "data": {
            "text/plain": [
              "<IPython.core.display.HTML object>"
            ],
            "text/html": [
              "Find user logs for this run at: <code>/content/feeder_repo/wandb/run-20210713_140734-0vf3278s/logs/debug.log</code>"
            ]
          },
          "metadata": {
            "tags": []
          }
        },
        {
          "output_type": "display_data",
          "data": {
            "text/plain": [
              "<IPython.core.display.HTML object>"
            ],
            "text/html": [
              "Find internal logs for this run at: <code>/content/feeder_repo/wandb/run-20210713_140734-0vf3278s/logs/debug-internal.log</code>"
            ]
          },
          "metadata": {
            "tags": []
          }
        },
        {
          "output_type": "display_data",
          "data": {
            "text/plain": [
              "<IPython.core.display.HTML object>"
            ],
            "text/html": [
              "<h3>Run summary:</h3><br/><style>\n",
              "    table.wandb td:nth-child(1) { padding: 0 10px; text-align: right }\n",
              "    </style><table class=\"wandb\">\n",
              "<tr><td>epoch</td><td>99</td></tr><tr><td>loss</td><td>0.00487</td></tr><tr><td>mean_squared_error</td><td>0.00487</td></tr><tr><td>mean_absolute_error</td><td>0.04927</td></tr><tr><td>val_loss</td><td>0.00259</td></tr><tr><td>val_mean_squared_error</td><td>0.00259</td></tr><tr><td>val_mean_absolute_error</td><td>0.04095</td></tr><tr><td>_runtime</td><td>140</td></tr><tr><td>_timestamp</td><td>1626185394</td></tr><tr><td>_step</td><td>99</td></tr><tr><td>best_val_loss</td><td>0.00258</td></tr><tr><td>best_epoch</td><td>98</td></tr></table>"
            ]
          },
          "metadata": {
            "tags": []
          }
        },
        {
          "output_type": "display_data",
          "data": {
            "text/plain": [
              "<IPython.core.display.HTML object>"
            ],
            "text/html": [
              "<h3>Run history:</h3><br/><style>\n",
              "    table.wandb td:nth-child(1) { padding: 0 10px; text-align: right }\n",
              "    </style><table class=\"wandb\">\n",
              "<tr><td>epoch</td><td>▁▁▁▁▂▂▂▂▂▃▃▃▃▃▃▄▄▄▄▄▅▅▅▅▅▅▆▆▆▆▆▇▇▇▇▇▇███</td></tr><tr><td>loss</td><td>█▃▂▂▂▂▂▂▂▁▁▁▁▁▁▁▁▁▁▁▁▁▁▁▁▁▁▁▁▁▁▁▁▁▁▁▁▁▁▁</td></tr><tr><td>mean_squared_error</td><td>█▃▂▂▂▂▂▂▂▁▁▁▁▁▁▁▁▁▁▁▁▁▁▁▁▁▁▁▁▁▁▁▁▁▁▁▁▁▁▁</td></tr><tr><td>mean_absolute_error</td><td>█▄▄▄▃▃▃▃▃▂▂▂▂▂▂▂▁▁▁▁▁▁▁▁▁▁▁▁▁▁▁▁▁▁▁▁▁▁▁▁</td></tr><tr><td>val_loss</td><td>█▄▃▃▃▂▂▂▂▂▂▂▁▁▁▁▁▁▁▁▁▁▁▁▁▁▁▁▁▁▁▁▁▁▁▁▁▁▁▁</td></tr><tr><td>val_mean_squared_error</td><td>█▄▃▃▃▂▂▂▂▂▂▂▁▁▁▁▁▁▁▁▁▁▁▁▁▁▁▁▁▁▁▁▁▁▁▁▁▁▁▁</td></tr><tr><td>val_mean_absolute_error</td><td>█▆▅▅▄▄▄▃▃▃▃▂▂▂▂▂▂▁▁▁▁▁▁▁▁▁▁▁▁▁▁▁▁▁▁▁▁▁▁▁</td></tr><tr><td>_runtime</td><td>▁▁▁▂▂▂▂▂▂▃▃▃▃▃▃▄▄▄▄▄▅▅▅▅▅▅▆▆▆▆▆▇▇▇▇▇▇███</td></tr><tr><td>_timestamp</td><td>▁▁▁▂▂▂▂▂▂▃▃▃▃▃▃▄▄▄▄▄▅▅▅▅▅▅▆▆▆▆▆▇▇▇▇▇▇███</td></tr><tr><td>_step</td><td>▁▁▁▁▂▂▂▂▂▃▃▃▃▃▃▄▄▄▄▄▅▅▅▅▅▅▆▆▆▆▆▇▇▇▇▇▇███</td></tr></table><br/>"
            ]
          },
          "metadata": {
            "tags": []
          }
        },
        {
          "output_type": "display_data",
          "data": {
            "text/plain": [
              "<IPython.core.display.HTML object>"
            ],
            "text/html": [
              "Synced 5 W&B file(s), 1 media file(s), 2 artifact file(s) and 2 other file(s)"
            ]
          },
          "metadata": {
            "tags": []
          }
        },
        {
          "output_type": "display_data",
          "data": {
            "text/plain": [
              "<IPython.core.display.HTML object>"
            ],
            "text/html": [
              "\n",
              "                    <br/>Synced <strong style=\"color:#cdcd00\">giddy-sweep-1</strong>: <a href=\"https://wandb.ai/acse-jaq15/ACSE_9_GRU/runs/0vf3278s\" target=\"_blank\">https://wandb.ai/acse-jaq15/ACSE_9_GRU/runs/0vf3278s</a><br/>\n",
              "                "
            ]
          },
          "metadata": {
            "tags": []
          }
        },
        {
          "output_type": "stream",
          "name": "stderr",
          "text": [
            "\u001b[34m\u001b[1mwandb\u001b[0m: Agent Starting Run: 4f8fw0i9 with config:\n",
            "\u001b[34m\u001b[1mwandb\u001b[0m: \tactivation: selu\n",
            "\u001b[34m\u001b[1mwandb\u001b[0m: \tbatch_size: 64\n",
            "\u001b[34m\u001b[1mwandb\u001b[0m: \tdropout: 0.2\n",
            "\u001b[34m\u001b[1mwandb\u001b[0m: \tepochs: 200\n",
            "\u001b[34m\u001b[1mwandb\u001b[0m: \thidden_size: 50\n",
            "\u001b[34m\u001b[1mwandb\u001b[0m: \tinput_size: 100\n",
            "\u001b[34m\u001b[1mwandb\u001b[0m: \tlearning_rate: 0.001\n",
            "\u001b[34m\u001b[1mwandb\u001b[0m: \toptimizer: adam\n"
          ]
        },
        {
          "output_type": "display_data",
          "data": {
            "text/plain": [
              "<IPython.core.display.HTML object>"
            ],
            "text/html": [
              "\n",
              "                Tracking run with wandb version 0.10.33<br/>\n",
              "                Syncing run <strong style=\"color:#cdcd00\">eager-sweep-2</strong> to <a href=\"https://wandb.ai\" target=\"_blank\">Weights & Biases</a> <a href=\"https://docs.wandb.com/integrations/jupyter.html\" target=\"_blank\">(Documentation)</a>.<br/>\n",
              "                Project page: <a href=\"https://wandb.ai/acse-jaq15/ACSE_9_GRU\" target=\"_blank\">https://wandb.ai/acse-jaq15/ACSE_9_GRU</a><br/>\n",
              "                Sweep page: <a href=\"https://wandb.ai/acse-jaq15/ACSE_9_GRU/sweeps/znsj9bl4\" target=\"_blank\">https://wandb.ai/acse-jaq15/ACSE_9_GRU/sweeps/znsj9bl4</a><br/>\n",
              "Run page: <a href=\"https://wandb.ai/acse-jaq15/ACSE_9_GRU/runs/4f8fw0i9\" target=\"_blank\">https://wandb.ai/acse-jaq15/ACSE_9_GRU/runs/4f8fw0i9</a><br/>\n",
              "                Run data is saved locally in <code>/content/feeder_repo/wandb/run-20210713_141033-4f8fw0i9</code><br/><br/>\n",
              "            "
            ]
          },
          "metadata": {
            "tags": []
          }
        },
        {
          "output_type": "stream",
          "name": "stdout",
          "text": [
            "WARNING:tensorflow:Layer gru will not use cuDNN kernels since it doesn't meet the criteria. It will use a generic GPU kernel as fallback when running on GPU.\n",
            "Epoch 1/200\n",
            "16/16 [==============================] - 5s 123ms/step - loss: 0.1893 - mean_squared_error: 0.1893 - mean_absolute_error: 0.3227 - val_loss: 0.0059 - val_mean_squared_error: 0.0059 - val_mean_absolute_error: 0.0599\n",
            "Epoch 2/200\n",
            "16/16 [==============================] - 1s 70ms/step - loss: 0.0110 - mean_squared_error: 0.0110 - mean_absolute_error: 0.0753 - val_loss: 0.0060 - val_mean_squared_error: 0.0060 - val_mean_absolute_error: 0.0642\n",
            "Epoch 3/200\n",
            "16/16 [==============================] - 1s 66ms/step - loss: 0.0055 - mean_squared_error: 0.0055 - mean_absolute_error: 0.0559 - val_loss: 0.0025 - val_mean_squared_error: 0.0025 - val_mean_absolute_error: 0.0406\n",
            "Epoch 4/200\n",
            "16/16 [==============================] - 1s 68ms/step - loss: 0.0037 - mean_squared_error: 0.0037 - mean_absolute_error: 0.0445 - val_loss: 0.0025 - val_mean_squared_error: 0.0025 - val_mean_absolute_error: 0.0405\n",
            "Epoch 5/200\n",
            "16/16 [==============================] - 1s 67ms/step - loss: 0.0043 - mean_squared_error: 0.0043 - mean_absolute_error: 0.0477 - val_loss: 0.0025 - val_mean_squared_error: 0.0025 - val_mean_absolute_error: 0.0401\n",
            "Epoch 6/200\n",
            "16/16 [==============================] - 1s 66ms/step - loss: 0.0038 - mean_squared_error: 0.0038 - mean_absolute_error: 0.0437 - val_loss: 0.0025 - val_mean_squared_error: 0.0025 - val_mean_absolute_error: 0.0397\n",
            "Epoch 7/200\n",
            "16/16 [==============================] - 1s 65ms/step - loss: 0.0037 - mean_squared_error: 0.0037 - mean_absolute_error: 0.0445 - val_loss: 0.0025 - val_mean_squared_error: 0.0025 - val_mean_absolute_error: 0.0398\n",
            "Epoch 8/200\n",
            "16/16 [==============================] - 1s 66ms/step - loss: 0.0031 - mean_squared_error: 0.0031 - mean_absolute_error: 0.0406 - val_loss: 0.0024 - val_mean_squared_error: 0.0024 - val_mean_absolute_error: 0.0394\n",
            "Epoch 9/200\n",
            "16/16 [==============================] - 1s 64ms/step - loss: 0.0029 - mean_squared_error: 0.0029 - mean_absolute_error: 0.0391 - val_loss: 0.0024 - val_mean_squared_error: 0.0024 - val_mean_absolute_error: 0.0394\n",
            "Epoch 10/200\n",
            "16/16 [==============================] - 1s 67ms/step - loss: 0.0031 - mean_squared_error: 0.0031 - mean_absolute_error: 0.0422 - val_loss: 0.0024 - val_mean_squared_error: 0.0024 - val_mean_absolute_error: 0.0390\n",
            "Epoch 11/200\n",
            "16/16 [==============================] - 1s 68ms/step - loss: 0.0024 - mean_squared_error: 0.0024 - mean_absolute_error: 0.0362 - val_loss: 0.0023 - val_mean_squared_error: 0.0023 - val_mean_absolute_error: 0.0389\n",
            "Epoch 12/200\n",
            "16/16 [==============================] - 1s 64ms/step - loss: 0.0029 - mean_squared_error: 0.0029 - mean_absolute_error: 0.0395 - val_loss: 0.0023 - val_mean_squared_error: 0.0023 - val_mean_absolute_error: 0.0387\n",
            "Epoch 13/200\n",
            "16/16 [==============================] - 1s 71ms/step - loss: 0.0027 - mean_squared_error: 0.0027 - mean_absolute_error: 0.0373 - val_loss: 0.0023 - val_mean_squared_error: 0.0023 - val_mean_absolute_error: 0.0385\n",
            "Epoch 14/200\n",
            "16/16 [==============================] - 1s 65ms/step - loss: 0.0030 - mean_squared_error: 0.0030 - mean_absolute_error: 0.0409 - val_loss: 0.0023 - val_mean_squared_error: 0.0023 - val_mean_absolute_error: 0.0384\n",
            "Epoch 15/200\n",
            "16/16 [==============================] - 1s 67ms/step - loss: 0.0029 - mean_squared_error: 0.0029 - mean_absolute_error: 0.0394 - val_loss: 0.0023 - val_mean_squared_error: 0.0023 - val_mean_absolute_error: 0.0384\n",
            "Epoch 16/200\n",
            "16/16 [==============================] - 1s 64ms/step - loss: 0.0023 - mean_squared_error: 0.0023 - mean_absolute_error: 0.0347 - val_loss: 0.0023 - val_mean_squared_error: 0.0023 - val_mean_absolute_error: 0.0384\n",
            "Epoch 17/200\n",
            "16/16 [==============================] - 1s 71ms/step - loss: 0.0028 - mean_squared_error: 0.0028 - mean_absolute_error: 0.0387 - val_loss: 0.0023 - val_mean_squared_error: 0.0023 - val_mean_absolute_error: 0.0386\n",
            "Epoch 18/200\n",
            "16/16 [==============================] - 1s 69ms/step - loss: 0.0029 - mean_squared_error: 0.0029 - mean_absolute_error: 0.0393 - val_loss: 0.0024 - val_mean_squared_error: 0.0024 - val_mean_absolute_error: 0.0388\n",
            "Epoch 19/200\n",
            "16/16 [==============================] - 1s 67ms/step - loss: 0.0026 - mean_squared_error: 0.0026 - mean_absolute_error: 0.0375 - val_loss: 0.0024 - val_mean_squared_error: 0.0024 - val_mean_absolute_error: 0.0390\n",
            "Epoch 20/200\n",
            "16/16 [==============================] - 1s 68ms/step - loss: 0.0025 - mean_squared_error: 0.0025 - mean_absolute_error: 0.0376 - val_loss: 0.0025 - val_mean_squared_error: 0.0025 - val_mean_absolute_error: 0.0396\n",
            "Epoch 21/200\n",
            "16/16 [==============================] - 1s 63ms/step - loss: 0.0028 - mean_squared_error: 0.0028 - mean_absolute_error: 0.0377 - val_loss: 0.0022 - val_mean_squared_error: 0.0022 - val_mean_absolute_error: 0.0378\n",
            "Epoch 22/200\n",
            "16/16 [==============================] - 1s 68ms/step - loss: 0.0027 - mean_squared_error: 0.0027 - mean_absolute_error: 0.0370 - val_loss: 0.0024 - val_mean_squared_error: 0.0024 - val_mean_absolute_error: 0.0387\n",
            "Epoch 23/200\n",
            "16/16 [==============================] - 1s 68ms/step - loss: 0.0028 - mean_squared_error: 0.0028 - mean_absolute_error: 0.0383 - val_loss: 0.0022 - val_mean_squared_error: 0.0022 - val_mean_absolute_error: 0.0373\n",
            "Epoch 24/200\n",
            "16/16 [==============================] - 1s 67ms/step - loss: 0.0025 - mean_squared_error: 0.0025 - mean_absolute_error: 0.0372 - val_loss: 0.0022 - val_mean_squared_error: 0.0022 - val_mean_absolute_error: 0.0373\n",
            "Epoch 25/200\n",
            "16/16 [==============================] - 1s 69ms/step - loss: 0.0027 - mean_squared_error: 0.0027 - mean_absolute_error: 0.0383 - val_loss: 0.0022 - val_mean_squared_error: 0.0022 - val_mean_absolute_error: 0.0374\n",
            "Epoch 26/200\n",
            "16/16 [==============================] - 1s 66ms/step - loss: 0.0024 - mean_squared_error: 0.0024 - mean_absolute_error: 0.0369 - val_loss: 0.0023 - val_mean_squared_error: 0.0023 - val_mean_absolute_error: 0.0385\n",
            "Epoch 27/200\n",
            "16/16 [==============================] - 1s 63ms/step - loss: 0.0031 - mean_squared_error: 0.0031 - mean_absolute_error: 0.0394 - val_loss: 0.0026 - val_mean_squared_error: 0.0026 - val_mean_absolute_error: 0.0402\n",
            "Epoch 28/200\n",
            "16/16 [==============================] - 1s 70ms/step - loss: 0.0023 - mean_squared_error: 0.0023 - mean_absolute_error: 0.0354 - val_loss: 0.0021 - val_mean_squared_error: 0.0021 - val_mean_absolute_error: 0.0366\n",
            "Epoch 29/200\n",
            "16/16 [==============================] - 1s 64ms/step - loss: 0.0024 - mean_squared_error: 0.0024 - mean_absolute_error: 0.0352 - val_loss: 0.0021 - val_mean_squared_error: 0.0021 - val_mean_absolute_error: 0.0370\n",
            "Epoch 30/200\n",
            "16/16 [==============================] - 1s 66ms/step - loss: 0.0025 - mean_squared_error: 0.0025 - mean_absolute_error: 0.0366 - val_loss: 0.0022 - val_mean_squared_error: 0.0022 - val_mean_absolute_error: 0.0372\n",
            "Epoch 31/200\n",
            "16/16 [==============================] - 1s 67ms/step - loss: 0.0024 - mean_squared_error: 0.0024 - mean_absolute_error: 0.0366 - val_loss: 0.0020 - val_mean_squared_error: 0.0020 - val_mean_absolute_error: 0.0362\n",
            "Epoch 32/200\n",
            "16/16 [==============================] - 1s 72ms/step - loss: 0.0021 - mean_squared_error: 0.0021 - mean_absolute_error: 0.0339 - val_loss: 0.0021 - val_mean_squared_error: 0.0021 - val_mean_absolute_error: 0.0364\n",
            "Epoch 33/200\n",
            "16/16 [==============================] - 1s 69ms/step - loss: 0.0022 - mean_squared_error: 0.0022 - mean_absolute_error: 0.0346 - val_loss: 0.0021 - val_mean_squared_error: 0.0021 - val_mean_absolute_error: 0.0362\n",
            "Epoch 34/200\n",
            "16/16 [==============================] - 1s 68ms/step - loss: 0.0021 - mean_squared_error: 0.0021 - mean_absolute_error: 0.0337 - val_loss: 0.0021 - val_mean_squared_error: 0.0021 - val_mean_absolute_error: 0.0364\n",
            "Epoch 35/200\n",
            "16/16 [==============================] - 1s 71ms/step - loss: 0.0025 - mean_squared_error: 0.0025 - mean_absolute_error: 0.0352 - val_loss: 0.0022 - val_mean_squared_error: 0.0022 - val_mean_absolute_error: 0.0378\n",
            "Epoch 36/200\n",
            "16/16 [==============================] - 1s 64ms/step - loss: 0.0021 - mean_squared_error: 0.0021 - mean_absolute_error: 0.0338 - val_loss: 0.0023 - val_mean_squared_error: 0.0023 - val_mean_absolute_error: 0.0381\n",
            "Epoch 37/200\n",
            "16/16 [==============================] - 1s 66ms/step - loss: 0.0025 - mean_squared_error: 0.0025 - mean_absolute_error: 0.0355 - val_loss: 0.0022 - val_mean_squared_error: 0.0022 - val_mean_absolute_error: 0.0371\n",
            "Epoch 38/200\n",
            "16/16 [==============================] - 1s 65ms/step - loss: 0.0026 - mean_squared_error: 0.0026 - mean_absolute_error: 0.0360 - val_loss: 0.0020 - val_mean_squared_error: 0.0020 - val_mean_absolute_error: 0.0358\n",
            "Epoch 39/200\n",
            "16/16 [==============================] - 1s 69ms/step - loss: 0.0022 - mean_squared_error: 0.0022 - mean_absolute_error: 0.0341 - val_loss: 0.0021 - val_mean_squared_error: 0.0021 - val_mean_absolute_error: 0.0364\n",
            "Epoch 40/200\n",
            "16/16 [==============================] - 1s 67ms/step - loss: 0.0023 - mean_squared_error: 0.0023 - mean_absolute_error: 0.0358 - val_loss: 0.0020 - val_mean_squared_error: 0.0020 - val_mean_absolute_error: 0.0357\n",
            "Epoch 41/200\n",
            "16/16 [==============================] - 1s 70ms/step - loss: 0.0023 - mean_squared_error: 0.0023 - mean_absolute_error: 0.0347 - val_loss: 0.0020 - val_mean_squared_error: 0.0020 - val_mean_absolute_error: 0.0354\n",
            "Epoch 42/200\n",
            "16/16 [==============================] - 1s 68ms/step - loss: 0.0020 - mean_squared_error: 0.0020 - mean_absolute_error: 0.0332 - val_loss: 0.0019 - val_mean_squared_error: 0.0019 - val_mean_absolute_error: 0.0353\n",
            "Epoch 43/200\n",
            "16/16 [==============================] - 1s 72ms/step - loss: 0.0020 - mean_squared_error: 0.0020 - mean_absolute_error: 0.0320 - val_loss: 0.0022 - val_mean_squared_error: 0.0022 - val_mean_absolute_error: 0.0377\n",
            "Epoch 44/200\n",
            "16/16 [==============================] - 1s 68ms/step - loss: 0.0024 - mean_squared_error: 0.0024 - mean_absolute_error: 0.0351 - val_loss: 0.0020 - val_mean_squared_error: 0.0020 - val_mean_absolute_error: 0.0359\n",
            "Epoch 45/200\n",
            "16/16 [==============================] - 1s 69ms/step - loss: 0.0022 - mean_squared_error: 0.0022 - mean_absolute_error: 0.0339 - val_loss: 0.0020 - val_mean_squared_error: 0.0020 - val_mean_absolute_error: 0.0356\n",
            "Epoch 46/200\n",
            "16/16 [==============================] - 1s 72ms/step - loss: 0.0020 - mean_squared_error: 0.0020 - mean_absolute_error: 0.0332 - val_loss: 0.0019 - val_mean_squared_error: 0.0019 - val_mean_absolute_error: 0.0352\n",
            "Epoch 47/200\n",
            "16/16 [==============================] - 1s 67ms/step - loss: 0.0021 - mean_squared_error: 0.0021 - mean_absolute_error: 0.0331 - val_loss: 0.0019 - val_mean_squared_error: 0.0019 - val_mean_absolute_error: 0.0352\n",
            "Epoch 48/200\n",
            "16/16 [==============================] - 1s 72ms/step - loss: 0.0020 - mean_squared_error: 0.0020 - mean_absolute_error: 0.0315 - val_loss: 0.0019 - val_mean_squared_error: 0.0019 - val_mean_absolute_error: 0.0353\n",
            "Epoch 49/200\n",
            "16/16 [==============================] - 1s 71ms/step - loss: 0.0022 - mean_squared_error: 0.0022 - mean_absolute_error: 0.0341 - val_loss: 0.0020 - val_mean_squared_error: 0.0020 - val_mean_absolute_error: 0.0351\n",
            "Epoch 50/200\n",
            "16/16 [==============================] - 1s 71ms/step - loss: 0.0020 - mean_squared_error: 0.0020 - mean_absolute_error: 0.0325 - val_loss: 0.0021 - val_mean_squared_error: 0.0021 - val_mean_absolute_error: 0.0365\n",
            "Epoch 51/200\n",
            "16/16 [==============================] - 1s 72ms/step - loss: 0.0022 - mean_squared_error: 0.0022 - mean_absolute_error: 0.0341 - val_loss: 0.0022 - val_mean_squared_error: 0.0022 - val_mean_absolute_error: 0.0369\n",
            "Epoch 52/200\n",
            "16/16 [==============================] - 1s 66ms/step - loss: 0.0022 - mean_squared_error: 0.0022 - mean_absolute_error: 0.0333 - val_loss: 0.0019 - val_mean_squared_error: 0.0019 - val_mean_absolute_error: 0.0348\n",
            "Epoch 53/200\n",
            "16/16 [==============================] - 1s 68ms/step - loss: 0.0020 - mean_squared_error: 0.0020 - mean_absolute_error: 0.0316 - val_loss: 0.0018 - val_mean_squared_error: 0.0018 - val_mean_absolute_error: 0.0346\n",
            "Epoch 54/200\n",
            "16/16 [==============================] - 1s 65ms/step - loss: 0.0022 - mean_squared_error: 0.0022 - mean_absolute_error: 0.0337 - val_loss: 0.0020 - val_mean_squared_error: 0.0020 - val_mean_absolute_error: 0.0354\n",
            "Epoch 55/200\n",
            "16/16 [==============================] - 1s 69ms/step - loss: 0.0020 - mean_squared_error: 0.0020 - mean_absolute_error: 0.0315 - val_loss: 0.0018 - val_mean_squared_error: 0.0018 - val_mean_absolute_error: 0.0343\n",
            "Epoch 56/200\n",
            "16/16 [==============================] - 1s 65ms/step - loss: 0.0018 - mean_squared_error: 0.0018 - mean_absolute_error: 0.0316 - val_loss: 0.0018 - val_mean_squared_error: 0.0018 - val_mean_absolute_error: 0.0345\n",
            "Epoch 57/200\n",
            "16/16 [==============================] - 1s 66ms/step - loss: 0.0022 - mean_squared_error: 0.0022 - mean_absolute_error: 0.0331 - val_loss: 0.0018 - val_mean_squared_error: 0.0018 - val_mean_absolute_error: 0.0342\n",
            "Epoch 58/200\n",
            "16/16 [==============================] - 1s 68ms/step - loss: 0.0018 - mean_squared_error: 0.0018 - mean_absolute_error: 0.0311 - val_loss: 0.0018 - val_mean_squared_error: 0.0018 - val_mean_absolute_error: 0.0341\n",
            "Epoch 59/200\n",
            "16/16 [==============================] - 1s 68ms/step - loss: 0.0020 - mean_squared_error: 0.0020 - mean_absolute_error: 0.0316 - val_loss: 0.0019 - val_mean_squared_error: 0.0019 - val_mean_absolute_error: 0.0348\n",
            "Epoch 60/200\n",
            "16/16 [==============================] - 1s 66ms/step - loss: 0.0018 - mean_squared_error: 0.0018 - mean_absolute_error: 0.0304 - val_loss: 0.0018 - val_mean_squared_error: 0.0018 - val_mean_absolute_error: 0.0345\n",
            "Epoch 61/200\n",
            "16/16 [==============================] - 1s 71ms/step - loss: 0.0019 - mean_squared_error: 0.0019 - mean_absolute_error: 0.0309 - val_loss: 0.0018 - val_mean_squared_error: 0.0018 - val_mean_absolute_error: 0.0340\n",
            "Epoch 62/200\n",
            "16/16 [==============================] - 1s 67ms/step - loss: 0.0020 - mean_squared_error: 0.0020 - mean_absolute_error: 0.0325 - val_loss: 0.0019 - val_mean_squared_error: 0.0019 - val_mean_absolute_error: 0.0347\n",
            "Epoch 63/200\n",
            "16/16 [==============================] - 1s 68ms/step - loss: 0.0020 - mean_squared_error: 0.0020 - mean_absolute_error: 0.0316 - val_loss: 0.0021 - val_mean_squared_error: 0.0021 - val_mean_absolute_error: 0.0361\n",
            "Epoch 64/200\n",
            "16/16 [==============================] - 1s 66ms/step - loss: 0.0020 - mean_squared_error: 0.0020 - mean_absolute_error: 0.0323 - val_loss: 0.0018 - val_mean_squared_error: 0.0018 - val_mean_absolute_error: 0.0340\n",
            "Epoch 65/200\n",
            "16/16 [==============================] - 1s 66ms/step - loss: 0.0018 - mean_squared_error: 0.0018 - mean_absolute_error: 0.0314 - val_loss: 0.0017 - val_mean_squared_error: 0.0017 - val_mean_absolute_error: 0.0334\n",
            "Epoch 66/200\n",
            "16/16 [==============================] - 1s 70ms/step - loss: 0.0020 - mean_squared_error: 0.0020 - mean_absolute_error: 0.0313 - val_loss: 0.0021 - val_mean_squared_error: 0.0021 - val_mean_absolute_error: 0.0356\n",
            "Epoch 67/200\n",
            "16/16 [==============================] - 1s 70ms/step - loss: 0.0020 - mean_squared_error: 0.0020 - mean_absolute_error: 0.0319 - val_loss: 0.0018 - val_mean_squared_error: 0.0018 - val_mean_absolute_error: 0.0334\n",
            "Epoch 68/200\n",
            "16/16 [==============================] - 1s 70ms/step - loss: 0.0020 - mean_squared_error: 0.0020 - mean_absolute_error: 0.0318 - val_loss: 0.0018 - val_mean_squared_error: 0.0018 - val_mean_absolute_error: 0.0337\n",
            "Epoch 69/200\n",
            "16/16 [==============================] - 1s 70ms/step - loss: 0.0017 - mean_squared_error: 0.0017 - mean_absolute_error: 0.0300 - val_loss: 0.0020 - val_mean_squared_error: 0.0020 - val_mean_absolute_error: 0.0352\n",
            "Epoch 70/200\n",
            "16/16 [==============================] - 1s 72ms/step - loss: 0.0022 - mean_squared_error: 0.0022 - mean_absolute_error: 0.0343 - val_loss: 0.0017 - val_mean_squared_error: 0.0017 - val_mean_absolute_error: 0.0336\n",
            "Epoch 71/200\n",
            "16/16 [==============================] - 1s 72ms/step - loss: 0.0020 - mean_squared_error: 0.0020 - mean_absolute_error: 0.0315 - val_loss: 0.0017 - val_mean_squared_error: 0.0017 - val_mean_absolute_error: 0.0334\n",
            "Epoch 72/200\n",
            "16/16 [==============================] - 1s 69ms/step - loss: 0.0020 - mean_squared_error: 0.0020 - mean_absolute_error: 0.0318 - val_loss: 0.0019 - val_mean_squared_error: 0.0019 - val_mean_absolute_error: 0.0344\n",
            "Epoch 73/200\n",
            "16/16 [==============================] - 1s 72ms/step - loss: 0.0016 - mean_squared_error: 0.0016 - mean_absolute_error: 0.0297 - val_loss: 0.0017 - val_mean_squared_error: 0.0017 - val_mean_absolute_error: 0.0330\n",
            "Epoch 74/200\n",
            "16/16 [==============================] - 1s 69ms/step - loss: 0.0020 - mean_squared_error: 0.0020 - mean_absolute_error: 0.0332 - val_loss: 0.0020 - val_mean_squared_error: 0.0020 - val_mean_absolute_error: 0.0356\n",
            "Epoch 75/200\n",
            "16/16 [==============================] - 1s 75ms/step - loss: 0.0021 - mean_squared_error: 0.0021 - mean_absolute_error: 0.0340 - val_loss: 0.0019 - val_mean_squared_error: 0.0019 - val_mean_absolute_error: 0.0345\n",
            "Epoch 76/200\n",
            "16/16 [==============================] - 1s 69ms/step - loss: 0.0020 - mean_squared_error: 0.0020 - mean_absolute_error: 0.0325 - val_loss: 0.0017 - val_mean_squared_error: 0.0017 - val_mean_absolute_error: 0.0328\n",
            "Epoch 77/200\n",
            "16/16 [==============================] - 1s 69ms/step - loss: 0.0020 - mean_squared_error: 0.0020 - mean_absolute_error: 0.0309 - val_loss: 0.0017 - val_mean_squared_error: 0.0017 - val_mean_absolute_error: 0.0329\n",
            "Epoch 78/200\n",
            "16/16 [==============================] - 1s 71ms/step - loss: 0.0017 - mean_squared_error: 0.0017 - mean_absolute_error: 0.0297 - val_loss: 0.0017 - val_mean_squared_error: 0.0017 - val_mean_absolute_error: 0.0328\n",
            "Epoch 79/200\n",
            "16/16 [==============================] - 1s 72ms/step - loss: 0.0017 - mean_squared_error: 0.0017 - mean_absolute_error: 0.0301 - val_loss: 0.0017 - val_mean_squared_error: 0.0017 - val_mean_absolute_error: 0.0332\n",
            "Epoch 80/200\n",
            "16/16 [==============================] - 1s 70ms/step - loss: 0.0018 - mean_squared_error: 0.0018 - mean_absolute_error: 0.0307 - val_loss: 0.0018 - val_mean_squared_error: 0.0018 - val_mean_absolute_error: 0.0336\n",
            "Epoch 81/200\n",
            "16/16 [==============================] - 1s 69ms/step - loss: 0.0019 - mean_squared_error: 0.0019 - mean_absolute_error: 0.0304 - val_loss: 0.0017 - val_mean_squared_error: 0.0017 - val_mean_absolute_error: 0.0330\n",
            "Epoch 82/200\n",
            "16/16 [==============================] - 1s 69ms/step - loss: 0.0021 - mean_squared_error: 0.0021 - mean_absolute_error: 0.0327 - val_loss: 0.0017 - val_mean_squared_error: 0.0017 - val_mean_absolute_error: 0.0327\n",
            "Epoch 83/200\n",
            "16/16 [==============================] - 1s 68ms/step - loss: 0.0019 - mean_squared_error: 0.0019 - mean_absolute_error: 0.0307 - val_loss: 0.0016 - val_mean_squared_error: 0.0016 - val_mean_absolute_error: 0.0322\n",
            "Epoch 84/200\n",
            "16/16 [==============================] - 1s 69ms/step - loss: 0.0017 - mean_squared_error: 0.0017 - mean_absolute_error: 0.0295 - val_loss: 0.0018 - val_mean_squared_error: 0.0018 - val_mean_absolute_error: 0.0336\n",
            "Epoch 85/200\n",
            "16/16 [==============================] - 1s 71ms/step - loss: 0.0019 - mean_squared_error: 0.0019 - mean_absolute_error: 0.0308 - val_loss: 0.0016 - val_mean_squared_error: 0.0016 - val_mean_absolute_error: 0.0324\n",
            "Epoch 86/200\n",
            "16/16 [==============================] - 1s 69ms/step - loss: 0.0015 - mean_squared_error: 0.0015 - mean_absolute_error: 0.0280 - val_loss: 0.0016 - val_mean_squared_error: 0.0016 - val_mean_absolute_error: 0.0319\n",
            "Epoch 87/200\n",
            "16/16 [==============================] - 1s 67ms/step - loss: 0.0017 - mean_squared_error: 0.0017 - mean_absolute_error: 0.0293 - val_loss: 0.0016 - val_mean_squared_error: 0.0016 - val_mean_absolute_error: 0.0319\n",
            "Epoch 88/200\n",
            "16/16 [==============================] - 1s 72ms/step - loss: 0.0018 - mean_squared_error: 0.0018 - mean_absolute_error: 0.0301 - val_loss: 0.0016 - val_mean_squared_error: 0.0016 - val_mean_absolute_error: 0.0317\n",
            "Epoch 89/200\n",
            "16/16 [==============================] - 1s 68ms/step - loss: 0.0022 - mean_squared_error: 0.0022 - mean_absolute_error: 0.0319 - val_loss: 0.0016 - val_mean_squared_error: 0.0016 - val_mean_absolute_error: 0.0317\n",
            "Epoch 90/200\n",
            "16/16 [==============================] - 1s 66ms/step - loss: 0.0018 - mean_squared_error: 0.0018 - mean_absolute_error: 0.0309 - val_loss: 0.0017 - val_mean_squared_error: 0.0017 - val_mean_absolute_error: 0.0325\n",
            "Epoch 91/200\n",
            "16/16 [==============================] - 1s 67ms/step - loss: 0.0017 - mean_squared_error: 0.0017 - mean_absolute_error: 0.0296 - val_loss: 0.0017 - val_mean_squared_error: 0.0017 - val_mean_absolute_error: 0.0327\n",
            "Epoch 92/200\n",
            "16/16 [==============================] - 1s 68ms/step - loss: 0.0017 - mean_squared_error: 0.0017 - mean_absolute_error: 0.0296 - val_loss: 0.0017 - val_mean_squared_error: 0.0017 - val_mean_absolute_error: 0.0326\n",
            "Epoch 93/200\n",
            "16/16 [==============================] - 1s 65ms/step - loss: 0.0017 - mean_squared_error: 0.0017 - mean_absolute_error: 0.0297 - val_loss: 0.0016 - val_mean_squared_error: 0.0016 - val_mean_absolute_error: 0.0319\n",
            "Epoch 94/200\n",
            "16/16 [==============================] - 1s 67ms/step - loss: 0.0015 - mean_squared_error: 0.0015 - mean_absolute_error: 0.0278 - val_loss: 0.0019 - val_mean_squared_error: 0.0019 - val_mean_absolute_error: 0.0344\n",
            "Epoch 95/200\n",
            "16/16 [==============================] - 1s 69ms/step - loss: 0.0019 - mean_squared_error: 0.0019 - mean_absolute_error: 0.0303 - val_loss: 0.0016 - val_mean_squared_error: 0.0016 - val_mean_absolute_error: 0.0319\n",
            "Epoch 96/200\n",
            "16/16 [==============================] - 1s 72ms/step - loss: 0.0017 - mean_squared_error: 0.0017 - mean_absolute_error: 0.0296 - val_loss: 0.0017 - val_mean_squared_error: 0.0017 - val_mean_absolute_error: 0.0325\n",
            "Epoch 97/200\n",
            "16/16 [==============================] - 1s 72ms/step - loss: 0.0016 - mean_squared_error: 0.0016 - mean_absolute_error: 0.0289 - val_loss: 0.0017 - val_mean_squared_error: 0.0017 - val_mean_absolute_error: 0.0321\n",
            "Epoch 98/200\n",
            "16/16 [==============================] - 1s 68ms/step - loss: 0.0018 - mean_squared_error: 0.0018 - mean_absolute_error: 0.0299 - val_loss: 0.0016 - val_mean_squared_error: 0.0016 - val_mean_absolute_error: 0.0316\n",
            "Epoch 99/200\n",
            "16/16 [==============================] - 1s 66ms/step - loss: 0.0016 - mean_squared_error: 0.0016 - mean_absolute_error: 0.0287 - val_loss: 0.0016 - val_mean_squared_error: 0.0016 - val_mean_absolute_error: 0.0315\n",
            "Epoch 100/200\n",
            "16/16 [==============================] - 1s 72ms/step - loss: 0.0019 - mean_squared_error: 0.0019 - mean_absolute_error: 0.0310 - val_loss: 0.0016 - val_mean_squared_error: 0.0016 - val_mean_absolute_error: 0.0317\n",
            "Epoch 101/200\n",
            "16/16 [==============================] - 1s 70ms/step - loss: 0.0015 - mean_squared_error: 0.0015 - mean_absolute_error: 0.0287 - val_loss: 0.0017 - val_mean_squared_error: 0.0017 - val_mean_absolute_error: 0.0319\n",
            "Epoch 102/200\n",
            "16/16 [==============================] - 1s 69ms/step - loss: 0.0017 - mean_squared_error: 0.0017 - mean_absolute_error: 0.0295 - val_loss: 0.0015 - val_mean_squared_error: 0.0015 - val_mean_absolute_error: 0.0312\n",
            "Epoch 103/200\n",
            "16/16 [==============================] - 1s 69ms/step - loss: 0.0017 - mean_squared_error: 0.0017 - mean_absolute_error: 0.0291 - val_loss: 0.0015 - val_mean_squared_error: 0.0015 - val_mean_absolute_error: 0.0312\n",
            "Epoch 104/200\n",
            "16/16 [==============================] - 1s 70ms/step - loss: 0.0016 - mean_squared_error: 0.0016 - mean_absolute_error: 0.0288 - val_loss: 0.0017 - val_mean_squared_error: 0.0017 - val_mean_absolute_error: 0.0318\n",
            "Epoch 105/200\n",
            "16/16 [==============================] - 1s 67ms/step - loss: 0.0014 - mean_squared_error: 0.0014 - mean_absolute_error: 0.0274 - val_loss: 0.0015 - val_mean_squared_error: 0.0015 - val_mean_absolute_error: 0.0309\n",
            "Epoch 106/200\n",
            "16/16 [==============================] - 1s 71ms/step - loss: 0.0015 - mean_squared_error: 0.0015 - mean_absolute_error: 0.0274 - val_loss: 0.0015 - val_mean_squared_error: 0.0015 - val_mean_absolute_error: 0.0309\n",
            "Epoch 107/200\n",
            "16/16 [==============================] - 1s 68ms/step - loss: 0.0015 - mean_squared_error: 0.0015 - mean_absolute_error: 0.0271 - val_loss: 0.0015 - val_mean_squared_error: 0.0015 - val_mean_absolute_error: 0.0307\n",
            "Epoch 108/200\n",
            "16/16 [==============================] - 1s 70ms/step - loss: 0.0015 - mean_squared_error: 0.0015 - mean_absolute_error: 0.0282 - val_loss: 0.0015 - val_mean_squared_error: 0.0015 - val_mean_absolute_error: 0.0314\n",
            "Epoch 109/200\n",
            "16/16 [==============================] - 1s 66ms/step - loss: 0.0014 - mean_squared_error: 0.0014 - mean_absolute_error: 0.0271 - val_loss: 0.0015 - val_mean_squared_error: 0.0015 - val_mean_absolute_error: 0.0305\n",
            "Epoch 110/200\n",
            "16/16 [==============================] - 1s 67ms/step - loss: 0.0016 - mean_squared_error: 0.0016 - mean_absolute_error: 0.0292 - val_loss: 0.0015 - val_mean_squared_error: 0.0015 - val_mean_absolute_error: 0.0307\n",
            "Epoch 111/200\n",
            "16/16 [==============================] - 1s 69ms/step - loss: 0.0018 - mean_squared_error: 0.0018 - mean_absolute_error: 0.0294 - val_loss: 0.0016 - val_mean_squared_error: 0.0016 - val_mean_absolute_error: 0.0316\n",
            "Epoch 112/200\n",
            "16/16 [==============================] - 1s 70ms/step - loss: 0.0014 - mean_squared_error: 0.0014 - mean_absolute_error: 0.0274 - val_loss: 0.0015 - val_mean_squared_error: 0.0015 - val_mean_absolute_error: 0.0308\n",
            "Epoch 113/200\n",
            "16/16 [==============================] - 1s 72ms/step - loss: 0.0015 - mean_squared_error: 0.0015 - mean_absolute_error: 0.0275 - val_loss: 0.0015 - val_mean_squared_error: 0.0015 - val_mean_absolute_error: 0.0307\n",
            "Epoch 114/200\n",
            "16/16 [==============================] - 1s 70ms/step - loss: 0.0016 - mean_squared_error: 0.0016 - mean_absolute_error: 0.0295 - val_loss: 0.0015 - val_mean_squared_error: 0.0015 - val_mean_absolute_error: 0.0303\n",
            "Epoch 115/200\n",
            "16/16 [==============================] - 1s 70ms/step - loss: 0.0014 - mean_squared_error: 0.0014 - mean_absolute_error: 0.0270 - val_loss: 0.0015 - val_mean_squared_error: 0.0015 - val_mean_absolute_error: 0.0306\n",
            "Epoch 116/200\n",
            "16/16 [==============================] - 1s 72ms/step - loss: 0.0015 - mean_squared_error: 0.0015 - mean_absolute_error: 0.0283 - val_loss: 0.0015 - val_mean_squared_error: 0.0015 - val_mean_absolute_error: 0.0307\n",
            "Epoch 117/200\n",
            "16/16 [==============================] - 1s 68ms/step - loss: 0.0016 - mean_squared_error: 0.0016 - mean_absolute_error: 0.0289 - val_loss: 0.0015 - val_mean_squared_error: 0.0015 - val_mean_absolute_error: 0.0304\n",
            "Epoch 118/200\n",
            "16/16 [==============================] - 1s 67ms/step - loss: 0.0013 - mean_squared_error: 0.0013 - mean_absolute_error: 0.0250 - val_loss: 0.0015 - val_mean_squared_error: 0.0015 - val_mean_absolute_error: 0.0304\n",
            "Epoch 119/200\n",
            "16/16 [==============================] - 1s 72ms/step - loss: 0.0015 - mean_squared_error: 0.0015 - mean_absolute_error: 0.0279 - val_loss: 0.0016 - val_mean_squared_error: 0.0016 - val_mean_absolute_error: 0.0322\n",
            "Epoch 120/200\n",
            "16/16 [==============================] - 1s 67ms/step - loss: 0.0016 - mean_squared_error: 0.0016 - mean_absolute_error: 0.0284 - val_loss: 0.0015 - val_mean_squared_error: 0.0015 - val_mean_absolute_error: 0.0305\n",
            "Epoch 121/200\n",
            "16/16 [==============================] - 1s 70ms/step - loss: 0.0015 - mean_squared_error: 0.0015 - mean_absolute_error: 0.0286 - val_loss: 0.0015 - val_mean_squared_error: 0.0015 - val_mean_absolute_error: 0.0301\n",
            "Epoch 122/200\n",
            "16/16 [==============================] - 1s 72ms/step - loss: 0.0014 - mean_squared_error: 0.0014 - mean_absolute_error: 0.0268 - val_loss: 0.0015 - val_mean_squared_error: 0.0015 - val_mean_absolute_error: 0.0302\n",
            "Epoch 123/200\n",
            "16/16 [==============================] - 1s 68ms/step - loss: 0.0014 - mean_squared_error: 0.0014 - mean_absolute_error: 0.0266 - val_loss: 0.0015 - val_mean_squared_error: 0.0015 - val_mean_absolute_error: 0.0301\n",
            "Epoch 124/200\n",
            "16/16 [==============================] - 1s 71ms/step - loss: 0.0012 - mean_squared_error: 0.0012 - mean_absolute_error: 0.0250 - val_loss: 0.0015 - val_mean_squared_error: 0.0015 - val_mean_absolute_error: 0.0304\n",
            "Epoch 125/200\n",
            "16/16 [==============================] - 1s 72ms/step - loss: 0.0014 - mean_squared_error: 0.0014 - mean_absolute_error: 0.0265 - val_loss: 0.0015 - val_mean_squared_error: 0.0015 - val_mean_absolute_error: 0.0300\n",
            "Epoch 126/200\n",
            "16/16 [==============================] - 1s 72ms/step - loss: 0.0016 - mean_squared_error: 0.0016 - mean_absolute_error: 0.0292 - val_loss: 0.0014 - val_mean_squared_error: 0.0014 - val_mean_absolute_error: 0.0298\n",
            "Epoch 127/200\n",
            "16/16 [==============================] - 1s 67ms/step - loss: 0.0013 - mean_squared_error: 0.0013 - mean_absolute_error: 0.0266 - val_loss: 0.0016 - val_mean_squared_error: 0.0016 - val_mean_absolute_error: 0.0306\n",
            "Epoch 128/200\n",
            "16/16 [==============================] - 1s 68ms/step - loss: 0.0015 - mean_squared_error: 0.0015 - mean_absolute_error: 0.0279 - val_loss: 0.0014 - val_mean_squared_error: 0.0014 - val_mean_absolute_error: 0.0300\n",
            "Epoch 129/200\n",
            "16/16 [==============================] - 1s 73ms/step - loss: 0.0013 - mean_squared_error: 0.0013 - mean_absolute_error: 0.0264 - val_loss: 0.0014 - val_mean_squared_error: 0.0014 - val_mean_absolute_error: 0.0298\n",
            "Epoch 130/200\n",
            "16/16 [==============================] - 1s 66ms/step - loss: 0.0014 - mean_squared_error: 0.0014 - mean_absolute_error: 0.0267 - val_loss: 0.0014 - val_mean_squared_error: 0.0014 - val_mean_absolute_error: 0.0298\n",
            "Epoch 131/200\n",
            "16/16 [==============================] - 1s 68ms/step - loss: 0.0014 - mean_squared_error: 0.0014 - mean_absolute_error: 0.0275 - val_loss: 0.0015 - val_mean_squared_error: 0.0015 - val_mean_absolute_error: 0.0300\n",
            "Epoch 132/200\n",
            "16/16 [==============================] - 1s 68ms/step - loss: 0.0013 - mean_squared_error: 0.0013 - mean_absolute_error: 0.0270 - val_loss: 0.0014 - val_mean_squared_error: 0.0014 - val_mean_absolute_error: 0.0298\n",
            "Epoch 133/200\n",
            "16/16 [==============================] - 1s 72ms/step - loss: 0.0013 - mean_squared_error: 0.0013 - mean_absolute_error: 0.0263 - val_loss: 0.0014 - val_mean_squared_error: 0.0014 - val_mean_absolute_error: 0.0296\n",
            "Epoch 134/200\n",
            "16/16 [==============================] - 1s 73ms/step - loss: 0.0013 - mean_squared_error: 0.0013 - mean_absolute_error: 0.0260 - val_loss: 0.0016 - val_mean_squared_error: 0.0016 - val_mean_absolute_error: 0.0318\n",
            "Epoch 135/200\n",
            "16/16 [==============================] - 1s 70ms/step - loss: 0.0015 - mean_squared_error: 0.0015 - mean_absolute_error: 0.0276 - val_loss: 0.0015 - val_mean_squared_error: 0.0015 - val_mean_absolute_error: 0.0297\n",
            "Epoch 136/200\n",
            "16/16 [==============================] - 1s 73ms/step - loss: 0.0013 - mean_squared_error: 0.0013 - mean_absolute_error: 0.0264 - val_loss: 0.0015 - val_mean_squared_error: 0.0015 - val_mean_absolute_error: 0.0303\n",
            "Epoch 137/200\n",
            "16/16 [==============================] - 1s 66ms/step - loss: 0.0012 - mean_squared_error: 0.0012 - mean_absolute_error: 0.0255 - val_loss: 0.0014 - val_mean_squared_error: 0.0014 - val_mean_absolute_error: 0.0295\n",
            "Epoch 138/200\n",
            "16/16 [==============================] - 1s 68ms/step - loss: 0.0014 - mean_squared_error: 0.0014 - mean_absolute_error: 0.0283 - val_loss: 0.0014 - val_mean_squared_error: 0.0014 - val_mean_absolute_error: 0.0294\n",
            "Epoch 139/200\n",
            "16/16 [==============================] - 1s 69ms/step - loss: 0.0011 - mean_squared_error: 0.0011 - mean_absolute_error: 0.0245 - val_loss: 0.0014 - val_mean_squared_error: 0.0014 - val_mean_absolute_error: 0.0292\n",
            "Epoch 140/200\n",
            "16/16 [==============================] - 1s 70ms/step - loss: 0.0013 - mean_squared_error: 0.0013 - mean_absolute_error: 0.0258 - val_loss: 0.0014 - val_mean_squared_error: 0.0014 - val_mean_absolute_error: 0.0294\n",
            "Epoch 141/200\n",
            "16/16 [==============================] - 1s 69ms/step - loss: 0.0014 - mean_squared_error: 0.0014 - mean_absolute_error: 0.0268 - val_loss: 0.0014 - val_mean_squared_error: 0.0014 - val_mean_absolute_error: 0.0292\n",
            "Epoch 142/200\n",
            "16/16 [==============================] - 1s 67ms/step - loss: 0.0014 - mean_squared_error: 0.0014 - mean_absolute_error: 0.0270 - val_loss: 0.0014 - val_mean_squared_error: 0.0014 - val_mean_absolute_error: 0.0292\n",
            "Epoch 143/200\n",
            "16/16 [==============================] - 1s 70ms/step - loss: 0.0014 - mean_squared_error: 0.0014 - mean_absolute_error: 0.0269 - val_loss: 0.0014 - val_mean_squared_error: 0.0014 - val_mean_absolute_error: 0.0293\n",
            "Epoch 144/200\n",
            "16/16 [==============================] - 1s 73ms/step - loss: 0.0013 - mean_squared_error: 0.0013 - mean_absolute_error: 0.0259 - val_loss: 0.0015 - val_mean_squared_error: 0.0015 - val_mean_absolute_error: 0.0300\n",
            "Epoch 145/200\n",
            "16/16 [==============================] - 1s 66ms/step - loss: 0.0014 - mean_squared_error: 0.0014 - mean_absolute_error: 0.0276 - val_loss: 0.0014 - val_mean_squared_error: 0.0014 - val_mean_absolute_error: 0.0298\n",
            "Epoch 146/200\n",
            "16/16 [==============================] - 1s 71ms/step - loss: 0.0012 - mean_squared_error: 0.0012 - mean_absolute_error: 0.0257 - val_loss: 0.0014 - val_mean_squared_error: 0.0014 - val_mean_absolute_error: 0.0300\n",
            "Epoch 147/200\n",
            "16/16 [==============================] - 1s 71ms/step - loss: 0.0014 - mean_squared_error: 0.0014 - mean_absolute_error: 0.0277 - val_loss: 0.0014 - val_mean_squared_error: 0.0014 - val_mean_absolute_error: 0.0292\n",
            "Epoch 148/200\n",
            "16/16 [==============================] - 1s 71ms/step - loss: 0.0011 - mean_squared_error: 0.0011 - mean_absolute_error: 0.0249 - val_loss: 0.0014 - val_mean_squared_error: 0.0014 - val_mean_absolute_error: 0.0290\n",
            "Epoch 149/200\n",
            "16/16 [==============================] - 1s 67ms/step - loss: 0.0012 - mean_squared_error: 0.0012 - mean_absolute_error: 0.0258 - val_loss: 0.0014 - val_mean_squared_error: 0.0014 - val_mean_absolute_error: 0.0299\n",
            "Epoch 150/200\n",
            "16/16 [==============================] - 1s 69ms/step - loss: 0.0012 - mean_squared_error: 0.0012 - mean_absolute_error: 0.0257 - val_loss: 0.0014 - val_mean_squared_error: 0.0014 - val_mean_absolute_error: 0.0288\n",
            "Epoch 151/200\n",
            "16/16 [==============================] - 1s 74ms/step - loss: 0.0013 - mean_squared_error: 0.0013 - mean_absolute_error: 0.0256 - val_loss: 0.0014 - val_mean_squared_error: 0.0014 - val_mean_absolute_error: 0.0289\n",
            "Epoch 152/200\n",
            "16/16 [==============================] - 1s 68ms/step - loss: 0.0012 - mean_squared_error: 0.0012 - mean_absolute_error: 0.0253 - val_loss: 0.0014 - val_mean_squared_error: 0.0014 - val_mean_absolute_error: 0.0297\n",
            "Epoch 153/200\n",
            "16/16 [==============================] - 1s 70ms/step - loss: 0.0011 - mean_squared_error: 0.0011 - mean_absolute_error: 0.0240 - val_loss: 0.0014 - val_mean_squared_error: 0.0014 - val_mean_absolute_error: 0.0290\n",
            "Epoch 154/200\n",
            "16/16 [==============================] - 1s 72ms/step - loss: 0.0013 - mean_squared_error: 0.0013 - mean_absolute_error: 0.0265 - val_loss: 0.0014 - val_mean_squared_error: 0.0014 - val_mean_absolute_error: 0.0290\n",
            "Epoch 155/200\n",
            "16/16 [==============================] - 1s 70ms/step - loss: 0.0012 - mean_squared_error: 0.0012 - mean_absolute_error: 0.0254 - val_loss: 0.0019 - val_mean_squared_error: 0.0019 - val_mean_absolute_error: 0.0340\n",
            "Epoch 156/200\n",
            "16/16 [==============================] - 1s 73ms/step - loss: 0.0013 - mean_squared_error: 0.0013 - mean_absolute_error: 0.0268 - val_loss: 0.0015 - val_mean_squared_error: 0.0015 - val_mean_absolute_error: 0.0311\n",
            "Epoch 157/200\n",
            "16/16 [==============================] - 1s 69ms/step - loss: 0.0014 - mean_squared_error: 0.0014 - mean_absolute_error: 0.0277 - val_loss: 0.0015 - val_mean_squared_error: 0.0015 - val_mean_absolute_error: 0.0294\n",
            "Epoch 158/200\n",
            "16/16 [==============================] - 1s 69ms/step - loss: 0.0013 - mean_squared_error: 0.0013 - mean_absolute_error: 0.0260 - val_loss: 0.0014 - val_mean_squared_error: 0.0014 - val_mean_absolute_error: 0.0287\n",
            "Epoch 159/200\n",
            "16/16 [==============================] - 1s 76ms/step - loss: 0.0012 - mean_squared_error: 0.0012 - mean_absolute_error: 0.0261 - val_loss: 0.0013 - val_mean_squared_error: 0.0013 - val_mean_absolute_error: 0.0285\n",
            "Epoch 160/200\n",
            "16/16 [==============================] - 1s 72ms/step - loss: 0.0011 - mean_squared_error: 0.0011 - mean_absolute_error: 0.0238 - val_loss: 0.0014 - val_mean_squared_error: 0.0014 - val_mean_absolute_error: 0.0289\n",
            "Epoch 161/200\n",
            "16/16 [==============================] - 1s 73ms/step - loss: 0.0016 - mean_squared_error: 0.0016 - mean_absolute_error: 0.0286 - val_loss: 0.0016 - val_mean_squared_error: 0.0016 - val_mean_absolute_error: 0.0325\n",
            "Epoch 162/200\n",
            "16/16 [==============================] - 1s 72ms/step - loss: 0.0012 - mean_squared_error: 0.0012 - mean_absolute_error: 0.0253 - val_loss: 0.0013 - val_mean_squared_error: 0.0013 - val_mean_absolute_error: 0.0286\n",
            "Epoch 163/200\n",
            "16/16 [==============================] - 1s 71ms/step - loss: 0.0011 - mean_squared_error: 0.0011 - mean_absolute_error: 0.0243 - val_loss: 0.0014 - val_mean_squared_error: 0.0014 - val_mean_absolute_error: 0.0286\n",
            "Epoch 164/200\n",
            "16/16 [==============================] - 1s 79ms/step - loss: 0.0013 - mean_squared_error: 0.0013 - mean_absolute_error: 0.0265 - val_loss: 0.0014 - val_mean_squared_error: 0.0014 - val_mean_absolute_error: 0.0288\n",
            "Epoch 165/200\n",
            "16/16 [==============================] - 1s 71ms/step - loss: 0.0012 - mean_squared_error: 0.0012 - mean_absolute_error: 0.0254 - val_loss: 0.0014 - val_mean_squared_error: 0.0014 - val_mean_absolute_error: 0.0288\n",
            "Epoch 166/200\n",
            "16/16 [==============================] - 1s 70ms/step - loss: 9.8036e-04 - mean_squared_error: 9.8036e-04 - mean_absolute_error: 0.0234 - val_loss: 0.0014 - val_mean_squared_error: 0.0014 - val_mean_absolute_error: 0.0291\n",
            "Epoch 167/200\n",
            "16/16 [==============================] - 1s 74ms/step - loss: 0.0015 - mean_squared_error: 0.0015 - mean_absolute_error: 0.0270 - val_loss: 0.0015 - val_mean_squared_error: 0.0015 - val_mean_absolute_error: 0.0302\n",
            "Epoch 168/200\n",
            "16/16 [==============================] - 1s 72ms/step - loss: 0.0013 - mean_squared_error: 0.0013 - mean_absolute_error: 0.0256 - val_loss: 0.0014 - val_mean_squared_error: 0.0014 - val_mean_absolute_error: 0.0292\n",
            "Epoch 169/200\n",
            "16/16 [==============================] - 1s 70ms/step - loss: 0.0011 - mean_squared_error: 0.0011 - mean_absolute_error: 0.0236 - val_loss: 0.0014 - val_mean_squared_error: 0.0014 - val_mean_absolute_error: 0.0295\n"
          ]
        },
        {
          "output_type": "display_data",
          "data": {
            "text/plain": [
              "<IPython.core.display.HTML object>"
            ],
            "text/html": [
              "<br/>Waiting for W&B process to finish, PID 582<br/>Program ended successfully."
            ]
          },
          "metadata": {
            "tags": []
          }
        },
        {
          "output_type": "display_data",
          "data": {
            "text/plain": [
              "VBox(children=(Label(value=' 0.94MB of 0.94MB uploaded (0.00MB deduped)\\r'), FloatProgress(value=1.0, max=1.0)…"
            ],
            "application/vnd.jupyter.widget-view+json": {
              "model_id": "529dfe88a3b54273881a3d9a6d926afd",
              "version_minor": 0,
              "version_major": 2
            }
          },
          "metadata": {
            "tags": []
          }
        },
        {
          "output_type": "display_data",
          "data": {
            "text/plain": [
              "<IPython.core.display.HTML object>"
            ],
            "text/html": [
              "Find user logs for this run at: <code>/content/feeder_repo/wandb/run-20210713_141033-4f8fw0i9/logs/debug.log</code>"
            ]
          },
          "metadata": {
            "tags": []
          }
        },
        {
          "output_type": "display_data",
          "data": {
            "text/plain": [
              "<IPython.core.display.HTML object>"
            ],
            "text/html": [
              "Find internal logs for this run at: <code>/content/feeder_repo/wandb/run-20210713_141033-4f8fw0i9/logs/debug-internal.log</code>"
            ]
          },
          "metadata": {
            "tags": []
          }
        },
        {
          "output_type": "display_data",
          "data": {
            "text/plain": [
              "<IPython.core.display.HTML object>"
            ],
            "text/html": [
              "<h3>Run summary:</h3><br/><style>\n",
              "    table.wandb td:nth-child(1) { padding: 0 10px; text-align: right }\n",
              "    </style><table class=\"wandb\">\n",
              "<tr><td>epoch</td><td>168</td></tr><tr><td>loss</td><td>0.00121</td></tr><tr><td>mean_squared_error</td><td>0.00121</td></tr><tr><td>mean_absolute_error</td><td>0.02501</td></tr><tr><td>val_loss</td><td>0.00138</td></tr><tr><td>val_mean_squared_error</td><td>0.00138</td></tr><tr><td>val_mean_absolute_error</td><td>0.02948</td></tr><tr><td>_runtime</td><td>197</td></tr><tr><td>_timestamp</td><td>1626185630</td></tr><tr><td>_step</td><td>168</td></tr><tr><td>best_val_loss</td><td>0.00134</td></tr><tr><td>best_epoch</td><td>158</td></tr></table>"
            ]
          },
          "metadata": {
            "tags": []
          }
        },
        {
          "output_type": "display_data",
          "data": {
            "text/plain": [
              "<IPython.core.display.HTML object>"
            ],
            "text/html": [
              "<h3>Run history:</h3><br/><style>\n",
              "    table.wandb td:nth-child(1) { padding: 0 10px; text-align: right }\n",
              "    </style><table class=\"wandb\">\n",
              "<tr><td>epoch</td><td>▁▁▁▂▂▂▂▂▂▃▃▃▃▃▃▄▄▄▄▄▅▅▅▅▅▅▆▆▆▆▆▆▇▇▇▇▇███</td></tr><tr><td>loss</td><td>█▃▃▂▂▂▂▂▂▂▂▂▂▁▂▂▂▂▁▂▁▂▁▁▁▁▁▁▁▁▁▁▁▁▁▁▁▁▁▁</td></tr><tr><td>mean_squared_error</td><td>█▃▃▂▂▂▂▂▂▂▂▂▂▁▂▂▂▂▁▂▁▂▁▁▁▁▁▁▁▁▁▁▁▁▁▁▁▁▁▁</td></tr><tr><td>mean_absolute_error</td><td>█▄▃▃▃▃▃▃▂▂▂▂▂▂▂▂▂▂▂▂▂▂▁▂▂▁▁▁▁▁▁▁▁▁▁▁▁▁▁▁</td></tr><tr><td>val_loss</td><td>█▃▃▂▃▃▂▂▂▂▂▂▂▂▂▂▂▂▂▂▁▂▂▁▁▁▁▁▁▁▁▁▁▁▁▁▁▁▁▁</td></tr><tr><td>val_mean_squared_error</td><td>█▃▃▂▃▃▂▂▂▂▂▂▂▂▂▂▂▂▂▂▁▂▂▁▁▁▁▁▁▁▁▁▁▁▁▁▁▁▁▁</td></tr><tr><td>val_mean_absolute_error</td><td>█▃▃▃▃▃▃▃▃▂▂▂▂▂▂▂▂▂▂▂▂▂▂▂▂▂▁▁▁▁▁▁▁▁▁▁▁▁▁▁</td></tr><tr><td>_runtime</td><td>▁▁▁▁▂▂▂▂▂▃▃▃▃▃▃▄▄▄▄▄▅▅▅▅▅▅▆▆▆▆▆▆▇▇▇▇▇███</td></tr><tr><td>_timestamp</td><td>▁▁▁▁▂▂▂▂▂▃▃▃▃▃▃▄▄▄▄▄▅▅▅▅▅▅▆▆▆▆▆▆▇▇▇▇▇███</td></tr><tr><td>_step</td><td>▁▁▁▂▂▂▂▂▂▃▃▃▃▃▃▄▄▄▄▄▅▅▅▅▅▅▆▆▆▆▆▆▇▇▇▇▇███</td></tr></table><br/>"
            ]
          },
          "metadata": {
            "tags": []
          }
        },
        {
          "output_type": "display_data",
          "data": {
            "text/plain": [
              "<IPython.core.display.HTML object>"
            ],
            "text/html": [
              "Synced 5 W&B file(s), 1 media file(s), 2 artifact file(s) and 2 other file(s)"
            ]
          },
          "metadata": {
            "tags": []
          }
        },
        {
          "output_type": "display_data",
          "data": {
            "text/plain": [
              "<IPython.core.display.HTML object>"
            ],
            "text/html": [
              "\n",
              "                    <br/>Synced <strong style=\"color:#cdcd00\">eager-sweep-2</strong>: <a href=\"https://wandb.ai/acse-jaq15/ACSE_9_GRU/runs/4f8fw0i9\" target=\"_blank\">https://wandb.ai/acse-jaq15/ACSE_9_GRU/runs/4f8fw0i9</a><br/>\n",
              "                "
            ]
          },
          "metadata": {
            "tags": []
          }
        },
        {
          "output_type": "stream",
          "name": "stderr",
          "text": [
            "\u001b[34m\u001b[1mwandb\u001b[0m: Agent Starting Run: ju4s2yg6 with config:\n",
            "\u001b[34m\u001b[1mwandb\u001b[0m: \tactivation: selu\n",
            "\u001b[34m\u001b[1mwandb\u001b[0m: \tbatch_size: 128\n",
            "\u001b[34m\u001b[1mwandb\u001b[0m: \tdropout: 0.4\n",
            "\u001b[34m\u001b[1mwandb\u001b[0m: \tepochs: 100\n",
            "\u001b[34m\u001b[1mwandb\u001b[0m: \thidden_size: 25\n",
            "\u001b[34m\u001b[1mwandb\u001b[0m: \tinput_size: 100\n",
            "\u001b[34m\u001b[1mwandb\u001b[0m: \tlearning_rate: 0.005\n",
            "\u001b[34m\u001b[1mwandb\u001b[0m: \toptimizer: nadam\n"
          ]
        },
        {
          "output_type": "display_data",
          "data": {
            "text/plain": [
              "<IPython.core.display.HTML object>"
            ],
            "text/html": [
              "\n",
              "                Tracking run with wandb version 0.10.33<br/>\n",
              "                Syncing run <strong style=\"color:#cdcd00\">earnest-sweep-3</strong> to <a href=\"https://wandb.ai\" target=\"_blank\">Weights & Biases</a> <a href=\"https://docs.wandb.com/integrations/jupyter.html\" target=\"_blank\">(Documentation)</a>.<br/>\n",
              "                Project page: <a href=\"https://wandb.ai/acse-jaq15/ACSE_9_GRU\" target=\"_blank\">https://wandb.ai/acse-jaq15/ACSE_9_GRU</a><br/>\n",
              "                Sweep page: <a href=\"https://wandb.ai/acse-jaq15/ACSE_9_GRU/sweeps/znsj9bl4\" target=\"_blank\">https://wandb.ai/acse-jaq15/ACSE_9_GRU/sweeps/znsj9bl4</a><br/>\n",
              "Run page: <a href=\"https://wandb.ai/acse-jaq15/ACSE_9_GRU/runs/ju4s2yg6\" target=\"_blank\">https://wandb.ai/acse-jaq15/ACSE_9_GRU/runs/ju4s2yg6</a><br/>\n",
              "                Run data is saved locally in <code>/content/feeder_repo/wandb/run-20210713_141359-ju4s2yg6</code><br/><br/>\n",
              "            "
            ]
          },
          "metadata": {
            "tags": []
          }
        },
        {
          "output_type": "stream",
          "name": "stdout",
          "text": [
            "WARNING:tensorflow:Layer gru will not use cuDNN kernels since it doesn't meet the criteria. It will use a generic GPU kernel as fallback when running on GPU.\n",
            "Epoch 1/100\n",
            "8/8 [==============================] - 5s 183ms/step - loss: 0.1291 - mean_squared_error: 0.1291 - mean_absolute_error: 0.2496 - val_loss: 0.0069 - val_mean_squared_error: 0.0069 - val_mean_absolute_error: 0.0696\n",
            "Epoch 2/100\n",
            "8/8 [==============================] - 1s 70ms/step - loss: 0.0189 - mean_squared_error: 0.0189 - mean_absolute_error: 0.0992 - val_loss: 0.0231 - val_mean_squared_error: 0.0231 - val_mean_absolute_error: 0.1347\n",
            "Epoch 3/100\n",
            "8/8 [==============================] - 1s 70ms/step - loss: 0.0283 - mean_squared_error: 0.0283 - mean_absolute_error: 0.1251 - val_loss: 0.0029 - val_mean_squared_error: 0.0029 - val_mean_absolute_error: 0.0432\n",
            "Epoch 4/100\n",
            "8/8 [==============================] - 1s 69ms/step - loss: 0.0128 - mean_squared_error: 0.0128 - mean_absolute_error: 0.0795 - val_loss: 0.0027 - val_mean_squared_error: 0.0027 - val_mean_absolute_error: 0.0422\n",
            "Epoch 5/100\n",
            "8/8 [==============================] - 1s 77ms/step - loss: 0.0130 - mean_squared_error: 0.0130 - mean_absolute_error: 0.0821 - val_loss: 0.0043 - val_mean_squared_error: 0.0043 - val_mean_absolute_error: 0.0525\n",
            "Epoch 6/100\n",
            "8/8 [==============================] - 1s 68ms/step - loss: 0.0140 - mean_squared_error: 0.0140 - mean_absolute_error: 0.0852 - val_loss: 0.0027 - val_mean_squared_error: 0.0027 - val_mean_absolute_error: 0.0414\n",
            "Epoch 7/100\n",
            "8/8 [==============================] - 1s 74ms/step - loss: 0.0098 - mean_squared_error: 0.0098 - mean_absolute_error: 0.0702 - val_loss: 0.0045 - val_mean_squared_error: 0.0045 - val_mean_absolute_error: 0.0540\n",
            "Epoch 8/100\n",
            "8/8 [==============================] - 1s 70ms/step - loss: 0.0106 - mean_squared_error: 0.0106 - mean_absolute_error: 0.0722 - val_loss: 0.0089 - val_mean_squared_error: 0.0089 - val_mean_absolute_error: 0.0777\n",
            "Epoch 9/100\n",
            "8/8 [==============================] - 1s 67ms/step - loss: 0.0116 - mean_squared_error: 0.0116 - mean_absolute_error: 0.0764 - val_loss: 0.0072 - val_mean_squared_error: 0.0072 - val_mean_absolute_error: 0.0715\n",
            "Epoch 10/100\n",
            "8/8 [==============================] - 1s 70ms/step - loss: 0.0161 - mean_squared_error: 0.0161 - mean_absolute_error: 0.0957 - val_loss: 0.0047 - val_mean_squared_error: 0.0047 - val_mean_absolute_error: 0.0561\n",
            "Epoch 11/100\n",
            "8/8 [==============================] - 1s 70ms/step - loss: 0.0135 - mean_squared_error: 0.0135 - mean_absolute_error: 0.0879 - val_loss: 0.0028 - val_mean_squared_error: 0.0028 - val_mean_absolute_error: 0.0421\n",
            "Epoch 12/100\n",
            "8/8 [==============================] - 1s 71ms/step - loss: 0.0082 - mean_squared_error: 0.0082 - mean_absolute_error: 0.0634 - val_loss: 0.0024 - val_mean_squared_error: 0.0024 - val_mean_absolute_error: 0.0397\n",
            "Epoch 13/100\n",
            "8/8 [==============================] - 1s 73ms/step - loss: 0.0083 - mean_squared_error: 0.0083 - mean_absolute_error: 0.0650 - val_loss: 0.0025 - val_mean_squared_error: 0.0025 - val_mean_absolute_error: 0.0404\n",
            "Epoch 14/100\n",
            "8/8 [==============================] - 1s 68ms/step - loss: 0.0089 - mean_squared_error: 0.0089 - mean_absolute_error: 0.0656 - val_loss: 0.0024 - val_mean_squared_error: 0.0024 - val_mean_absolute_error: 0.0395\n",
            "Epoch 15/100\n",
            "8/8 [==============================] - 1s 70ms/step - loss: 0.0077 - mean_squared_error: 0.0077 - mean_absolute_error: 0.0605 - val_loss: 0.0026 - val_mean_squared_error: 0.0026 - val_mean_absolute_error: 0.0403\n",
            "Epoch 16/100\n",
            "8/8 [==============================] - 1s 76ms/step - loss: 0.0063 - mean_squared_error: 0.0063 - mean_absolute_error: 0.0555 - val_loss: 0.0029 - val_mean_squared_error: 0.0029 - val_mean_absolute_error: 0.0430\n",
            "Epoch 17/100\n",
            "8/8 [==============================] - 1s 70ms/step - loss: 0.0068 - mean_squared_error: 0.0068 - mean_absolute_error: 0.0575 - val_loss: 0.0043 - val_mean_squared_error: 0.0043 - val_mean_absolute_error: 0.0522\n",
            "Epoch 18/100\n",
            "8/8 [==============================] - 1s 74ms/step - loss: 0.0081 - mean_squared_error: 0.0081 - mean_absolute_error: 0.0633 - val_loss: 0.0023 - val_mean_squared_error: 0.0023 - val_mean_absolute_error: 0.0384\n",
            "Epoch 19/100\n",
            "8/8 [==============================] - 1s 73ms/step - loss: 0.0072 - mean_squared_error: 0.0072 - mean_absolute_error: 0.0596 - val_loss: 0.0045 - val_mean_squared_error: 0.0045 - val_mean_absolute_error: 0.0535\n",
            "Epoch 20/100\n",
            "8/8 [==============================] - 1s 77ms/step - loss: 0.0088 - mean_squared_error: 0.0088 - mean_absolute_error: 0.0679 - val_loss: 0.0024 - val_mean_squared_error: 0.0024 - val_mean_absolute_error: 0.0393\n",
            "Epoch 21/100\n",
            "8/8 [==============================] - 1s 75ms/step - loss: 0.0069 - mean_squared_error: 0.0069 - mean_absolute_error: 0.0581 - val_loss: 0.0027 - val_mean_squared_error: 0.0027 - val_mean_absolute_error: 0.0408\n",
            "Epoch 22/100\n",
            "8/8 [==============================] - 1s 65ms/step - loss: 0.0060 - mean_squared_error: 0.0060 - mean_absolute_error: 0.0549 - val_loss: 0.0037 - val_mean_squared_error: 0.0037 - val_mean_absolute_error: 0.0486\n",
            "Epoch 23/100\n",
            "8/8 [==============================] - 1s 74ms/step - loss: 0.0077 - mean_squared_error: 0.0077 - mean_absolute_error: 0.0627 - val_loss: 0.0034 - val_mean_squared_error: 0.0034 - val_mean_absolute_error: 0.0467\n",
            "Epoch 24/100\n",
            "8/8 [==============================] - 1s 67ms/step - loss: 0.0066 - mean_squared_error: 0.0066 - mean_absolute_error: 0.0593 - val_loss: 0.0023 - val_mean_squared_error: 0.0023 - val_mean_absolute_error: 0.0384\n",
            "Epoch 25/100\n",
            "8/8 [==============================] - 1s 71ms/step - loss: 0.0064 - mean_squared_error: 0.0064 - mean_absolute_error: 0.0546 - val_loss: 0.0022 - val_mean_squared_error: 0.0022 - val_mean_absolute_error: 0.0378\n",
            "Epoch 26/100\n",
            "8/8 [==============================] - 1s 73ms/step - loss: 0.0054 - mean_squared_error: 0.0054 - mean_absolute_error: 0.0510 - val_loss: 0.0022 - val_mean_squared_error: 0.0022 - val_mean_absolute_error: 0.0376\n",
            "Epoch 27/100\n",
            "8/8 [==============================] - 1s 71ms/step - loss: 0.0068 - mean_squared_error: 0.0068 - mean_absolute_error: 0.0574 - val_loss: 0.0022 - val_mean_squared_error: 0.0022 - val_mean_absolute_error: 0.0376\n",
            "Epoch 28/100\n",
            "8/8 [==============================] - 1s 72ms/step - loss: 0.0065 - mean_squared_error: 0.0065 - mean_absolute_error: 0.0565 - val_loss: 0.0045 - val_mean_squared_error: 0.0045 - val_mean_absolute_error: 0.0559\n",
            "Epoch 29/100\n",
            "8/8 [==============================] - 1s 74ms/step - loss: 0.0061 - mean_squared_error: 0.0061 - mean_absolute_error: 0.0566 - val_loss: 0.0026 - val_mean_squared_error: 0.0026 - val_mean_absolute_error: 0.0407\n",
            "Epoch 30/100\n",
            "8/8 [==============================] - 1s 74ms/step - loss: 0.0055 - mean_squared_error: 0.0055 - mean_absolute_error: 0.0526 - val_loss: 0.0040 - val_mean_squared_error: 0.0040 - val_mean_absolute_error: 0.0502\n",
            "Epoch 31/100\n",
            "8/8 [==============================] - 1s 71ms/step - loss: 0.0065 - mean_squared_error: 0.0065 - mean_absolute_error: 0.0591 - val_loss: 0.0024 - val_mean_squared_error: 0.0024 - val_mean_absolute_error: 0.0391\n",
            "Epoch 32/100\n",
            "8/8 [==============================] - 1s 70ms/step - loss: 0.0058 - mean_squared_error: 0.0058 - mean_absolute_error: 0.0534 - val_loss: 0.0040 - val_mean_squared_error: 0.0040 - val_mean_absolute_error: 0.0489\n",
            "Epoch 33/100\n",
            "8/8 [==============================] - 1s 71ms/step - loss: 0.0069 - mean_squared_error: 0.0069 - mean_absolute_error: 0.0604 - val_loss: 0.0028 - val_mean_squared_error: 0.0028 - val_mean_absolute_error: 0.0413\n",
            "Epoch 34/100\n",
            "8/8 [==============================] - 1s 73ms/step - loss: 0.0064 - mean_squared_error: 0.0064 - mean_absolute_error: 0.0589 - val_loss: 0.0020 - val_mean_squared_error: 0.0020 - val_mean_absolute_error: 0.0361\n",
            "Epoch 35/100\n",
            "8/8 [==============================] - 1s 73ms/step - loss: 0.0052 - mean_squared_error: 0.0052 - mean_absolute_error: 0.0509 - val_loss: 0.0020 - val_mean_squared_error: 0.0020 - val_mean_absolute_error: 0.0359\n",
            "Epoch 36/100\n",
            "8/8 [==============================] - 1s 69ms/step - loss: 0.0052 - mean_squared_error: 0.0052 - mean_absolute_error: 0.0511 - val_loss: 0.0030 - val_mean_squared_error: 0.0030 - val_mean_absolute_error: 0.0430\n",
            "Epoch 37/100\n",
            "8/8 [==============================] - 1s 76ms/step - loss: 0.0056 - mean_squared_error: 0.0056 - mean_absolute_error: 0.0539 - val_loss: 0.0020 - val_mean_squared_error: 0.0020 - val_mean_absolute_error: 0.0358\n",
            "Epoch 38/100\n",
            "8/8 [==============================] - 1s 64ms/step - loss: 0.0052 - mean_squared_error: 0.0052 - mean_absolute_error: 0.0509 - val_loss: 0.0027 - val_mean_squared_error: 0.0027 - val_mean_absolute_error: 0.0413\n",
            "Epoch 39/100\n",
            "8/8 [==============================] - 1s 70ms/step - loss: 0.0058 - mean_squared_error: 0.0058 - mean_absolute_error: 0.0558 - val_loss: 0.0030 - val_mean_squared_error: 0.0030 - val_mean_absolute_error: 0.0436\n",
            "Epoch 40/100\n",
            "8/8 [==============================] - 1s 74ms/step - loss: 0.0055 - mean_squared_error: 0.0055 - mean_absolute_error: 0.0531 - val_loss: 0.0021 - val_mean_squared_error: 0.0021 - val_mean_absolute_error: 0.0363\n",
            "Epoch 41/100\n",
            "8/8 [==============================] - 1s 70ms/step - loss: 0.0046 - mean_squared_error: 0.0046 - mean_absolute_error: 0.0479 - val_loss: 0.0021 - val_mean_squared_error: 0.0021 - val_mean_absolute_error: 0.0367\n",
            "Epoch 42/100\n",
            "8/8 [==============================] - 1s 74ms/step - loss: 0.0048 - mean_squared_error: 0.0048 - mean_absolute_error: 0.0506 - val_loss: 0.0032 - val_mean_squared_error: 0.0032 - val_mean_absolute_error: 0.0451\n",
            "Epoch 43/100\n",
            "8/8 [==============================] - 1s 69ms/step - loss: 0.0050 - mean_squared_error: 0.0050 - mean_absolute_error: 0.0512 - val_loss: 0.0019 - val_mean_squared_error: 0.0019 - val_mean_absolute_error: 0.0349\n",
            "Epoch 44/100\n",
            "8/8 [==============================] - 1s 69ms/step - loss: 0.0038 - mean_squared_error: 0.0038 - mean_absolute_error: 0.0442 - val_loss: 0.0018 - val_mean_squared_error: 0.0018 - val_mean_absolute_error: 0.0343\n",
            "Epoch 45/100\n",
            "8/8 [==============================] - 1s 66ms/step - loss: 0.0046 - mean_squared_error: 0.0046 - mean_absolute_error: 0.0485 - val_loss: 0.0032 - val_mean_squared_error: 0.0032 - val_mean_absolute_error: 0.0447\n",
            "Epoch 46/100\n",
            "8/8 [==============================] - 1s 70ms/step - loss: 0.0043 - mean_squared_error: 0.0043 - mean_absolute_error: 0.0477 - val_loss: 0.0018 - val_mean_squared_error: 0.0018 - val_mean_absolute_error: 0.0341\n",
            "Epoch 47/100\n",
            "8/8 [==============================] - 1s 75ms/step - loss: 0.0038 - mean_squared_error: 0.0038 - mean_absolute_error: 0.0448 - val_loss: 0.0023 - val_mean_squared_error: 0.0023 - val_mean_absolute_error: 0.0373\n",
            "Epoch 48/100\n",
            "8/8 [==============================] - 1s 70ms/step - loss: 0.0053 - mean_squared_error: 0.0053 - mean_absolute_error: 0.0532 - val_loss: 0.0040 - val_mean_squared_error: 0.0040 - val_mean_absolute_error: 0.0504\n",
            "Epoch 49/100\n",
            "8/8 [==============================] - 1s 66ms/step - loss: 0.0052 - mean_squared_error: 0.0052 - mean_absolute_error: 0.0537 - val_loss: 0.0019 - val_mean_squared_error: 0.0019 - val_mean_absolute_error: 0.0345\n",
            "Epoch 50/100\n",
            "8/8 [==============================] - 1s 68ms/step - loss: 0.0035 - mean_squared_error: 0.0035 - mean_absolute_error: 0.0427 - val_loss: 0.0020 - val_mean_squared_error: 0.0020 - val_mean_absolute_error: 0.0356\n",
            "Epoch 51/100\n",
            "8/8 [==============================] - 1s 67ms/step - loss: 0.0044 - mean_squared_error: 0.0044 - mean_absolute_error: 0.0470 - val_loss: 0.0019 - val_mean_squared_error: 0.0019 - val_mean_absolute_error: 0.0349\n",
            "Epoch 52/100\n",
            "8/8 [==============================] - 1s 67ms/step - loss: 0.0039 - mean_squared_error: 0.0039 - mean_absolute_error: 0.0462 - val_loss: 0.0021 - val_mean_squared_error: 0.0021 - val_mean_absolute_error: 0.0365\n",
            "Epoch 53/100\n",
            "8/8 [==============================] - 1s 79ms/step - loss: 0.0042 - mean_squared_error: 0.0042 - mean_absolute_error: 0.0476 - val_loss: 0.0022 - val_mean_squared_error: 0.0022 - val_mean_absolute_error: 0.0373\n",
            "Epoch 54/100\n",
            "8/8 [==============================] - 1s 69ms/step - loss: 0.0037 - mean_squared_error: 0.0037 - mean_absolute_error: 0.0449 - val_loss: 0.0018 - val_mean_squared_error: 0.0018 - val_mean_absolute_error: 0.0337\n",
            "Epoch 55/100\n",
            "8/8 [==============================] - 1s 74ms/step - loss: 0.0038 - mean_squared_error: 0.0038 - mean_absolute_error: 0.0453 - val_loss: 0.0026 - val_mean_squared_error: 0.0026 - val_mean_absolute_error: 0.0400\n",
            "Epoch 56/100\n",
            "8/8 [==============================] - 1s 67ms/step - loss: 0.0044 - mean_squared_error: 0.0044 - mean_absolute_error: 0.0508 - val_loss: 0.0019 - val_mean_squared_error: 0.0019 - val_mean_absolute_error: 0.0345\n",
            "Epoch 57/100\n",
            "8/8 [==============================] - 1s 72ms/step - loss: 0.0037 - mean_squared_error: 0.0037 - mean_absolute_error: 0.0450 - val_loss: 0.0019 - val_mean_squared_error: 0.0019 - val_mean_absolute_error: 0.0341\n",
            "Epoch 58/100\n",
            "8/8 [==============================] - 1s 75ms/step - loss: 0.0036 - mean_squared_error: 0.0036 - mean_absolute_error: 0.0442 - val_loss: 0.0018 - val_mean_squared_error: 0.0018 - val_mean_absolute_error: 0.0336\n",
            "Epoch 59/100\n",
            "8/8 [==============================] - 1s 67ms/step - loss: 0.0037 - mean_squared_error: 0.0037 - mean_absolute_error: 0.0445 - val_loss: 0.0018 - val_mean_squared_error: 0.0018 - val_mean_absolute_error: 0.0338\n",
            "Epoch 60/100\n",
            "8/8 [==============================] - 1s 69ms/step - loss: 0.0036 - mean_squared_error: 0.0036 - mean_absolute_error: 0.0430 - val_loss: 0.0019 - val_mean_squared_error: 0.0019 - val_mean_absolute_error: 0.0338\n",
            "Epoch 61/100\n",
            "8/8 [==============================] - 1s 82ms/step - loss: 0.0037 - mean_squared_error: 0.0037 - mean_absolute_error: 0.0446 - val_loss: 0.0017 - val_mean_squared_error: 0.0017 - val_mean_absolute_error: 0.0333\n",
            "Epoch 62/100\n",
            "8/8 [==============================] - 1s 69ms/step - loss: 0.0035 - mean_squared_error: 0.0035 - mean_absolute_error: 0.0446 - val_loss: 0.0017 - val_mean_squared_error: 0.0017 - val_mean_absolute_error: 0.0332\n",
            "Epoch 63/100\n",
            "8/8 [==============================] - 1s 74ms/step - loss: 0.0034 - mean_squared_error: 0.0034 - mean_absolute_error: 0.0433 - val_loss: 0.0021 - val_mean_squared_error: 0.0021 - val_mean_absolute_error: 0.0362\n",
            "Epoch 64/100\n",
            "8/8 [==============================] - 1s 77ms/step - loss: 0.0033 - mean_squared_error: 0.0033 - mean_absolute_error: 0.0431 - val_loss: 0.0027 - val_mean_squared_error: 0.0027 - val_mean_absolute_error: 0.0410\n",
            "Epoch 65/100\n",
            "8/8 [==============================] - 1s 70ms/step - loss: 0.0034 - mean_squared_error: 0.0034 - mean_absolute_error: 0.0426 - val_loss: 0.0025 - val_mean_squared_error: 0.0025 - val_mean_absolute_error: 0.0395\n",
            "Epoch 66/100\n",
            "8/8 [==============================] - 1s 70ms/step - loss: 0.0043 - mean_squared_error: 0.0043 - mean_absolute_error: 0.0464 - val_loss: 0.0018 - val_mean_squared_error: 0.0018 - val_mean_absolute_error: 0.0342\n",
            "Epoch 67/100\n",
            "8/8 [==============================] - 1s 71ms/step - loss: 0.0035 - mean_squared_error: 0.0035 - mean_absolute_error: 0.0430 - val_loss: 0.0020 - val_mean_squared_error: 0.0020 - val_mean_absolute_error: 0.0353\n",
            "Epoch 68/100\n",
            "8/8 [==============================] - 1s 72ms/step - loss: 0.0030 - mean_squared_error: 0.0030 - mean_absolute_error: 0.0417 - val_loss: 0.0017 - val_mean_squared_error: 0.0017 - val_mean_absolute_error: 0.0332\n",
            "Epoch 69/100\n",
            "8/8 [==============================] - 1s 75ms/step - loss: 0.0037 - mean_squared_error: 0.0037 - mean_absolute_error: 0.0449 - val_loss: 0.0023 - val_mean_squared_error: 0.0023 - val_mean_absolute_error: 0.0377\n",
            "Epoch 70/100\n",
            "8/8 [==============================] - 1s 72ms/step - loss: 0.0031 - mean_squared_error: 0.0031 - mean_absolute_error: 0.0426 - val_loss: 0.0018 - val_mean_squared_error: 0.0018 - val_mean_absolute_error: 0.0339\n",
            "Epoch 71/100\n",
            "8/8 [==============================] - 1s 79ms/step - loss: 0.0035 - mean_squared_error: 0.0035 - mean_absolute_error: 0.0443 - val_loss: 0.0018 - val_mean_squared_error: 0.0018 - val_mean_absolute_error: 0.0339\n",
            "Epoch 72/100\n",
            "8/8 [==============================] - 1s 72ms/step - loss: 0.0033 - mean_squared_error: 0.0033 - mean_absolute_error: 0.0433 - val_loss: 0.0021 - val_mean_squared_error: 0.0021 - val_mean_absolute_error: 0.0363\n",
            "Epoch 73/100\n",
            "8/8 [==============================] - 1s 71ms/step - loss: 0.0037 - mean_squared_error: 0.0037 - mean_absolute_error: 0.0455 - val_loss: 0.0020 - val_mean_squared_error: 0.0020 - val_mean_absolute_error: 0.0351\n",
            "Epoch 74/100\n",
            "8/8 [==============================] - 1s 73ms/step - loss: 0.0034 - mean_squared_error: 0.0034 - mean_absolute_error: 0.0445 - val_loss: 0.0022 - val_mean_squared_error: 0.0022 - val_mean_absolute_error: 0.0378\n",
            "Epoch 75/100\n",
            "8/8 [==============================] - 1s 70ms/step - loss: 0.0035 - mean_squared_error: 0.0035 - mean_absolute_error: 0.0460 - val_loss: 0.0020 - val_mean_squared_error: 0.0020 - val_mean_absolute_error: 0.0355\n",
            "Epoch 76/100\n",
            "8/8 [==============================] - 1s 73ms/step - loss: 0.0032 - mean_squared_error: 0.0032 - mean_absolute_error: 0.0424 - val_loss: 0.0017 - val_mean_squared_error: 0.0017 - val_mean_absolute_error: 0.0324\n",
            "Epoch 77/100\n",
            "8/8 [==============================] - 1s 75ms/step - loss: 0.0032 - mean_squared_error: 0.0032 - mean_absolute_error: 0.0428 - val_loss: 0.0021 - val_mean_squared_error: 0.0021 - val_mean_absolute_error: 0.0366\n",
            "Epoch 78/100\n",
            "8/8 [==============================] - 1s 79ms/step - loss: 0.0036 - mean_squared_error: 0.0036 - mean_absolute_error: 0.0450 - val_loss: 0.0025 - val_mean_squared_error: 0.0025 - val_mean_absolute_error: 0.0395\n",
            "Epoch 79/100\n",
            "8/8 [==============================] - 1s 73ms/step - loss: 0.0039 - mean_squared_error: 0.0039 - mean_absolute_error: 0.0477 - val_loss: 0.0029 - val_mean_squared_error: 0.0029 - val_mean_absolute_error: 0.0440\n",
            "Epoch 80/100\n",
            "8/8 [==============================] - 1s 77ms/step - loss: 0.0038 - mean_squared_error: 0.0038 - mean_absolute_error: 0.0477 - val_loss: 0.0028 - val_mean_squared_error: 0.0028 - val_mean_absolute_error: 0.0423\n",
            "Epoch 81/100\n",
            "8/8 [==============================] - 1s 72ms/step - loss: 0.0038 - mean_squared_error: 0.0038 - mean_absolute_error: 0.0469 - val_loss: 0.0019 - val_mean_squared_error: 0.0019 - val_mean_absolute_error: 0.0343\n",
            "Epoch 82/100\n",
            "8/8 [==============================] - 1s 72ms/step - loss: 0.0033 - mean_squared_error: 0.0033 - mean_absolute_error: 0.0429 - val_loss: 0.0018 - val_mean_squared_error: 0.0018 - val_mean_absolute_error: 0.0336\n",
            "Epoch 83/100\n",
            "8/8 [==============================] - 1s 74ms/step - loss: 0.0032 - mean_squared_error: 0.0032 - mean_absolute_error: 0.0415 - val_loss: 0.0016 - val_mean_squared_error: 0.0016 - val_mean_absolute_error: 0.0322\n",
            "Epoch 84/100\n",
            "8/8 [==============================] - 1s 73ms/step - loss: 0.0033 - mean_squared_error: 0.0033 - mean_absolute_error: 0.0429 - val_loss: 0.0033 - val_mean_squared_error: 0.0033 - val_mean_absolute_error: 0.0465\n",
            "Epoch 85/100\n",
            "8/8 [==============================] - 1s 79ms/step - loss: 0.0036 - mean_squared_error: 0.0036 - mean_absolute_error: 0.0473 - val_loss: 0.0018 - val_mean_squared_error: 0.0018 - val_mean_absolute_error: 0.0336\n",
            "Epoch 86/100\n",
            "8/8 [==============================] - 1s 72ms/step - loss: 0.0033 - mean_squared_error: 0.0033 - mean_absolute_error: 0.0426 - val_loss: 0.0017 - val_mean_squared_error: 0.0017 - val_mean_absolute_error: 0.0329\n",
            "Epoch 87/100\n",
            "8/8 [==============================] - 1s 80ms/step - loss: 0.0031 - mean_squared_error: 0.0031 - mean_absolute_error: 0.0427 - val_loss: 0.0021 - val_mean_squared_error: 0.0021 - val_mean_absolute_error: 0.0362\n",
            "Epoch 88/100\n",
            "8/8 [==============================] - 1s 74ms/step - loss: 0.0030 - mean_squared_error: 0.0030 - mean_absolute_error: 0.0418 - val_loss: 0.0016 - val_mean_squared_error: 0.0016 - val_mean_absolute_error: 0.0319\n",
            "Epoch 89/100\n",
            "8/8 [==============================] - 1s 72ms/step - loss: 0.0028 - mean_squared_error: 0.0028 - mean_absolute_error: 0.0395 - val_loss: 0.0019 - val_mean_squared_error: 0.0019 - val_mean_absolute_error: 0.0351\n",
            "Epoch 90/100\n",
            "8/8 [==============================] - 1s 75ms/step - loss: 0.0035 - mean_squared_error: 0.0035 - mean_absolute_error: 0.0457 - val_loss: 0.0018 - val_mean_squared_error: 0.0018 - val_mean_absolute_error: 0.0332\n",
            "Epoch 91/100\n",
            "8/8 [==============================] - 1s 71ms/step - loss: 0.0026 - mean_squared_error: 0.0026 - mean_absolute_error: 0.0387 - val_loss: 0.0019 - val_mean_squared_error: 0.0019 - val_mean_absolute_error: 0.0344\n",
            "Epoch 92/100\n",
            "8/8 [==============================] - 1s 74ms/step - loss: 0.0030 - mean_squared_error: 0.0030 - mean_absolute_error: 0.0417 - val_loss: 0.0016 - val_mean_squared_error: 0.0016 - val_mean_absolute_error: 0.0322\n",
            "Epoch 93/100\n",
            "8/8 [==============================] - 1s 80ms/step - loss: 0.0030 - mean_squared_error: 0.0030 - mean_absolute_error: 0.0411 - val_loss: 0.0016 - val_mean_squared_error: 0.0016 - val_mean_absolute_error: 0.0318\n",
            "Epoch 94/100\n",
            "8/8 [==============================] - 1s 77ms/step - loss: 0.0030 - mean_squared_error: 0.0030 - mean_absolute_error: 0.0422 - val_loss: 0.0023 - val_mean_squared_error: 0.0023 - val_mean_absolute_error: 0.0381\n",
            "Epoch 95/100\n",
            "8/8 [==============================] - 1s 80ms/step - loss: 0.0038 - mean_squared_error: 0.0038 - mean_absolute_error: 0.0466 - val_loss: 0.0016 - val_mean_squared_error: 0.0016 - val_mean_absolute_error: 0.0315\n",
            "Epoch 96/100\n",
            "8/8 [==============================] - 1s 74ms/step - loss: 0.0034 - mean_squared_error: 0.0034 - mean_absolute_error: 0.0441 - val_loss: 0.0023 - val_mean_squared_error: 0.0023 - val_mean_absolute_error: 0.0387\n",
            "Epoch 97/100\n",
            "8/8 [==============================] - 1s 80ms/step - loss: 0.0029 - mean_squared_error: 0.0029 - mean_absolute_error: 0.0410 - val_loss: 0.0020 - val_mean_squared_error: 0.0020 - val_mean_absolute_error: 0.0355\n",
            "Epoch 98/100\n",
            "8/8 [==============================] - 1s 75ms/step - loss: 0.0030 - mean_squared_error: 0.0030 - mean_absolute_error: 0.0415 - val_loss: 0.0018 - val_mean_squared_error: 0.0018 - val_mean_absolute_error: 0.0333\n",
            "Epoch 99/100\n",
            "8/8 [==============================] - 1s 72ms/step - loss: 0.0032 - mean_squared_error: 0.0032 - mean_absolute_error: 0.0429 - val_loss: 0.0023 - val_mean_squared_error: 0.0023 - val_mean_absolute_error: 0.0385\n",
            "Epoch 100/100\n",
            "8/8 [==============================] - 1s 74ms/step - loss: 0.0030 - mean_squared_error: 0.0030 - mean_absolute_error: 0.0413 - val_loss: 0.0016 - val_mean_squared_error: 0.0016 - val_mean_absolute_error: 0.0312\n"
          ]
        },
        {
          "output_type": "display_data",
          "data": {
            "text/plain": [
              "<IPython.core.display.HTML object>"
            ],
            "text/html": [
              "<br/>Waiting for W&B process to finish, PID 1184<br/>Program ended successfully."
            ]
          },
          "metadata": {
            "tags": []
          }
        },
        {
          "output_type": "display_data",
          "data": {
            "text/plain": [
              "VBox(children=(Label(value=' 0.82MB of 0.82MB uploaded (0.00MB deduped)\\r'), FloatProgress(value=1.0, max=1.0)…"
            ],
            "application/vnd.jupyter.widget-view+json": {
              "model_id": "687a525fb38747deaea5cead4360b024",
              "version_minor": 0,
              "version_major": 2
            }
          },
          "metadata": {
            "tags": []
          }
        },
        {
          "output_type": "display_data",
          "data": {
            "text/plain": [
              "<IPython.core.display.HTML object>"
            ],
            "text/html": [
              "Find user logs for this run at: <code>/content/feeder_repo/wandb/run-20210713_141359-ju4s2yg6/logs/debug.log</code>"
            ]
          },
          "metadata": {
            "tags": []
          }
        },
        {
          "output_type": "display_data",
          "data": {
            "text/plain": [
              "<IPython.core.display.HTML object>"
            ],
            "text/html": [
              "Find internal logs for this run at: <code>/content/feeder_repo/wandb/run-20210713_141359-ju4s2yg6/logs/debug-internal.log</code>"
            ]
          },
          "metadata": {
            "tags": []
          }
        },
        {
          "output_type": "display_data",
          "data": {
            "text/plain": [
              "<IPython.core.display.HTML object>"
            ],
            "text/html": [
              "<h3>Run summary:</h3><br/><style>\n",
              "    table.wandb td:nth-child(1) { padding: 0 10px; text-align: right }\n",
              "    </style><table class=\"wandb\">\n",
              "<tr><td>epoch</td><td>99</td></tr><tr><td>loss</td><td>0.00286</td></tr><tr><td>mean_squared_error</td><td>0.00286</td></tr><tr><td>mean_absolute_error</td><td>0.03997</td></tr><tr><td>val_loss</td><td>0.00157</td></tr><tr><td>val_mean_squared_error</td><td>0.00157</td></tr><tr><td>val_mean_absolute_error</td><td>0.03125</td></tr><tr><td>_runtime</td><td>68</td></tr><tr><td>_timestamp</td><td>1626185707</td></tr><tr><td>_step</td><td>99</td></tr><tr><td>best_val_loss</td><td>0.00157</td></tr><tr><td>best_epoch</td><td>99</td></tr></table>"
            ]
          },
          "metadata": {
            "tags": []
          }
        },
        {
          "output_type": "display_data",
          "data": {
            "text/plain": [
              "<IPython.core.display.HTML object>"
            ],
            "text/html": [
              "<h3>Run history:</h3><br/><style>\n",
              "    table.wandb td:nth-child(1) { padding: 0 10px; text-align: right }\n",
              "    </style><table class=\"wandb\">\n",
              "<tr><td>epoch</td><td>▁▁▁▁▂▂▂▂▂▃▃▃▃▃▃▄▄▄▄▄▅▅▅▅▅▅▆▆▆▆▆▇▇▇▇▇▇███</td></tr><tr><td>loss</td><td>█▃▂▂▂▂▁▂▁▂▁▁▁▁▁▁▁▁▁▁▁▁▁▁▁▁▁▁▁▁▁▁▁▁▁▁▁▁▁▁</td></tr><tr><td>mean_squared_error</td><td>█▃▂▂▂▂▁▂▁▂▁▁▁▁▁▁▁▁▁▁▁▁▁▁▁▁▁▁▁▁▁▁▁▁▁▁▁▁▁▁</td></tr><tr><td>mean_absolute_error</td><td>█▄▄▃▃▂▂▂▂▂▂▂▂▂▂▂▁▁▁▂▁▁▂▁▁▁▁▁▁▁▁▁▁▁▁▁▁▁▁▁</td></tr><tr><td>val_loss</td><td>▆▂▂█▂▂▂▂▂▃▂▄▂▁▂▂▂▁▁▁▁▁▁▁▁▂▁▂▁▂▂▂▁▃▂▁▁▂▁▁</td></tr><tr><td>val_mean_squared_error</td><td>▆▂▂█▂▂▂▂▂▃▂▄▂▁▂▂▂▁▁▁▁▁▁▁▁▂▁▂▁▂▂▂▁▃▂▁▁▂▁▁</td></tr><tr><td>val_mean_absolute_error</td><td>▇▃▃█▃▂▃▂▂▃▂▅▂▂▃▃▂▁▁▁▂▁▁▁▁▂▂▂▂▂▂▃▁▃▂▂▁▂▂▁</td></tr><tr><td>_runtime</td><td>▁▁▁▁▂▂▂▂▂▃▃▃▃▃▃▄▄▄▄▄▅▅▅▅▅▅▆▆▆▆▆▆▇▇▇▇▇███</td></tr><tr><td>_timestamp</td><td>▁▁▁▁▂▂▂▂▂▃▃▃▃▃▃▄▄▄▄▄▅▅▅▅▅▅▆▆▆▆▆▆▇▇▇▇▇███</td></tr><tr><td>_step</td><td>▁▁▁▁▂▂▂▂▂▃▃▃▃▃▃▄▄▄▄▄▅▅▅▅▅▅▆▆▆▆▆▇▇▇▇▇▇███</td></tr></table><br/>"
            ]
          },
          "metadata": {
            "tags": []
          }
        },
        {
          "output_type": "display_data",
          "data": {
            "text/plain": [
              "<IPython.core.display.HTML object>"
            ],
            "text/html": [
              "Synced 5 W&B file(s), 1 media file(s), 2 artifact file(s) and 2 other file(s)"
            ]
          },
          "metadata": {
            "tags": []
          }
        },
        {
          "output_type": "display_data",
          "data": {
            "text/plain": [
              "<IPython.core.display.HTML object>"
            ],
            "text/html": [
              "\n",
              "                    <br/>Synced <strong style=\"color:#cdcd00\">earnest-sweep-3</strong>: <a href=\"https://wandb.ai/acse-jaq15/ACSE_9_GRU/runs/ju4s2yg6\" target=\"_blank\">https://wandb.ai/acse-jaq15/ACSE_9_GRU/runs/ju4s2yg6</a><br/>\n",
              "                "
            ]
          },
          "metadata": {
            "tags": []
          }
        },
        {
          "output_type": "stream",
          "name": "stderr",
          "text": [
            "\u001b[34m\u001b[1mwandb\u001b[0m: Agent Starting Run: e1j3z0rx with config:\n",
            "\u001b[34m\u001b[1mwandb\u001b[0m: \tactivation: tanh\n",
            "\u001b[34m\u001b[1mwandb\u001b[0m: \tbatch_size: 128\n",
            "\u001b[34m\u001b[1mwandb\u001b[0m: \tdropout: 0.2\n",
            "\u001b[34m\u001b[1mwandb\u001b[0m: \tepochs: 50\n",
            "\u001b[34m\u001b[1mwandb\u001b[0m: \thidden_size: 100\n",
            "\u001b[34m\u001b[1mwandb\u001b[0m: \tinput_size: 25\n",
            "\u001b[34m\u001b[1mwandb\u001b[0m: \tlearning_rate: 0.0005\n",
            "\u001b[34m\u001b[1mwandb\u001b[0m: \toptimizer: nadam\n"
          ]
        },
        {
          "output_type": "display_data",
          "data": {
            "text/plain": [
              "<IPython.core.display.HTML object>"
            ],
            "text/html": [
              "\n",
              "                Tracking run with wandb version 0.10.33<br/>\n",
              "                Syncing run <strong style=\"color:#cdcd00\">playful-sweep-4</strong> to <a href=\"https://wandb.ai\" target=\"_blank\">Weights & Biases</a> <a href=\"https://docs.wandb.com/integrations/jupyter.html\" target=\"_blank\">(Documentation)</a>.<br/>\n",
              "                Project page: <a href=\"https://wandb.ai/acse-jaq15/ACSE_9_GRU\" target=\"_blank\">https://wandb.ai/acse-jaq15/ACSE_9_GRU</a><br/>\n",
              "                Sweep page: <a href=\"https://wandb.ai/acse-jaq15/ACSE_9_GRU/sweeps/znsj9bl4\" target=\"_blank\">https://wandb.ai/acse-jaq15/ACSE_9_GRU/sweeps/znsj9bl4</a><br/>\n",
              "Run page: <a href=\"https://wandb.ai/acse-jaq15/ACSE_9_GRU/runs/e1j3z0rx\" target=\"_blank\">https://wandb.ai/acse-jaq15/ACSE_9_GRU/runs/e1j3z0rx</a><br/>\n",
              "                Run data is saved locally in <code>/content/feeder_repo/wandb/run-20210713_141517-e1j3z0rx</code><br/><br/>\n",
              "            "
            ]
          },
          "metadata": {
            "tags": []
          }
        },
        {
          "output_type": "stream",
          "name": "stdout",
          "text": [
            "Epoch 1/50\n",
            "8/8 [==============================] - 5s 116ms/step - loss: 0.2427 - mean_squared_error: 0.2427 - mean_absolute_error: 0.4137 - val_loss: 0.0750 - val_mean_squared_error: 0.0750 - val_mean_absolute_error: 0.2139\n",
            "Epoch 2/50\n",
            "8/8 [==============================] - 0s 11ms/step - loss: 0.0677 - mean_squared_error: 0.0677 - mean_absolute_error: 0.2037 - val_loss: 0.0119 - val_mean_squared_error: 0.0119 - val_mean_absolute_error: 0.0897\n",
            "Epoch 3/50\n",
            "8/8 [==============================] - 0s 11ms/step - loss: 0.0143 - mean_squared_error: 0.0143 - mean_absolute_error: 0.1009 - val_loss: 0.0125 - val_mean_squared_error: 0.0125 - val_mean_absolute_error: 0.0961\n",
            "Epoch 4/50\n",
            "8/8 [==============================] - 0s 13ms/step - loss: 0.0104 - mean_squared_error: 0.0104 - mean_absolute_error: 0.0863 - val_loss: 0.0088 - val_mean_squared_error: 0.0088 - val_mean_absolute_error: 0.0788\n",
            "Epoch 5/50\n",
            "8/8 [==============================] - 0s 13ms/step - loss: 0.0080 - mean_squared_error: 0.0080 - mean_absolute_error: 0.0754 - val_loss: 0.0064 - val_mean_squared_error: 0.0064 - val_mean_absolute_error: 0.0656\n",
            "Epoch 6/50\n",
            "8/8 [==============================] - 0s 14ms/step - loss: 0.0067 - mean_squared_error: 0.0067 - mean_absolute_error: 0.0670 - val_loss: 0.0051 - val_mean_squared_error: 0.0051 - val_mean_absolute_error: 0.0587\n",
            "Epoch 7/50\n",
            "8/8 [==============================] - 0s 12ms/step - loss: 0.0050 - mean_squared_error: 0.0050 - mean_absolute_error: 0.0573 - val_loss: 0.0043 - val_mean_squared_error: 0.0043 - val_mean_absolute_error: 0.0535\n",
            "Epoch 8/50\n",
            "8/8 [==============================] - 0s 12ms/step - loss: 0.0038 - mean_squared_error: 0.0038 - mean_absolute_error: 0.0475 - val_loss: 0.0038 - val_mean_squared_error: 0.0038 - val_mean_absolute_error: 0.0497\n",
            "Epoch 9/50\n",
            "8/8 [==============================] - 0s 14ms/step - loss: 0.0033 - mean_squared_error: 0.0033 - mean_absolute_error: 0.0424 - val_loss: 0.0037 - val_mean_squared_error: 0.0037 - val_mean_absolute_error: 0.0488\n",
            "Epoch 10/50\n",
            "8/8 [==============================] - 0s 14ms/step - loss: 0.0038 - mean_squared_error: 0.0038 - mean_absolute_error: 0.0458 - val_loss: 0.0036 - val_mean_squared_error: 0.0036 - val_mean_absolute_error: 0.0481\n",
            "Epoch 11/50\n",
            "8/8 [==============================] - 0s 13ms/step - loss: 0.0031 - mean_squared_error: 0.0031 - mean_absolute_error: 0.0415 - val_loss: 0.0035 - val_mean_squared_error: 0.0035 - val_mean_absolute_error: 0.0477\n",
            "Epoch 12/50\n",
            "8/8 [==============================] - 0s 13ms/step - loss: 0.0040 - mean_squared_error: 0.0040 - mean_absolute_error: 0.0463 - val_loss: 0.0034 - val_mean_squared_error: 0.0034 - val_mean_absolute_error: 0.0474\n",
            "Epoch 13/50\n",
            "8/8 [==============================] - 0s 12ms/step - loss: 0.0038 - mean_squared_error: 0.0038 - mean_absolute_error: 0.0439 - val_loss: 0.0037 - val_mean_squared_error: 0.0037 - val_mean_absolute_error: 0.0483\n",
            "Epoch 14/50\n",
            "8/8 [==============================] - 0s 11ms/step - loss: 0.0033 - mean_squared_error: 0.0033 - mean_absolute_error: 0.0416 - val_loss: 0.0037 - val_mean_squared_error: 0.0037 - val_mean_absolute_error: 0.0482\n",
            "Epoch 15/50\n",
            "8/8 [==============================] - 0s 13ms/step - loss: 0.0032 - mean_squared_error: 0.0032 - mean_absolute_error: 0.0415 - val_loss: 0.0036 - val_mean_squared_error: 0.0036 - val_mean_absolute_error: 0.0480\n",
            "Epoch 16/50\n",
            "8/8 [==============================] - 0s 12ms/step - loss: 0.0032 - mean_squared_error: 0.0032 - mean_absolute_error: 0.0420 - val_loss: 0.0035 - val_mean_squared_error: 0.0035 - val_mean_absolute_error: 0.0475\n",
            "Epoch 17/50\n",
            "8/8 [==============================] - 0s 12ms/step - loss: 0.0033 - mean_squared_error: 0.0033 - mean_absolute_error: 0.0412 - val_loss: 0.0035 - val_mean_squared_error: 0.0035 - val_mean_absolute_error: 0.0476\n",
            "Epoch 18/50\n",
            "8/8 [==============================] - 0s 13ms/step - loss: 0.0033 - mean_squared_error: 0.0033 - mean_absolute_error: 0.0405 - val_loss: 0.0034 - val_mean_squared_error: 0.0034 - val_mean_absolute_error: 0.0471\n",
            "Epoch 19/50\n",
            "8/8 [==============================] - 0s 12ms/step - loss: 0.0032 - mean_squared_error: 0.0032 - mean_absolute_error: 0.0401 - val_loss: 0.0034 - val_mean_squared_error: 0.0034 - val_mean_absolute_error: 0.0472\n",
            "Epoch 20/50\n",
            "8/8 [==============================] - 0s 12ms/step - loss: 0.0034 - mean_squared_error: 0.0034 - mean_absolute_error: 0.0415 - val_loss: 0.0037 - val_mean_squared_error: 0.0037 - val_mean_absolute_error: 0.0485\n",
            "Epoch 21/50\n",
            "8/8 [==============================] - 0s 14ms/step - loss: 0.0029 - mean_squared_error: 0.0029 - mean_absolute_error: 0.0397 - val_loss: 0.0037 - val_mean_squared_error: 0.0037 - val_mean_absolute_error: 0.0482\n",
            "Epoch 22/50\n",
            "8/8 [==============================] - 0s 13ms/step - loss: 0.0032 - mean_squared_error: 0.0032 - mean_absolute_error: 0.0414 - val_loss: 0.0034 - val_mean_squared_error: 0.0034 - val_mean_absolute_error: 0.0470\n",
            "Epoch 23/50\n",
            "8/8 [==============================] - 0s 12ms/step - loss: 0.0027 - mean_squared_error: 0.0027 - mean_absolute_error: 0.0382 - val_loss: 0.0038 - val_mean_squared_error: 0.0038 - val_mean_absolute_error: 0.0490\n",
            "Epoch 24/50\n",
            "8/8 [==============================] - 0s 12ms/step - loss: 0.0030 - mean_squared_error: 0.0030 - mean_absolute_error: 0.0406 - val_loss: 0.0035 - val_mean_squared_error: 0.0035 - val_mean_absolute_error: 0.0471\n",
            "Epoch 25/50\n",
            "8/8 [==============================] - 0s 12ms/step - loss: 0.0029 - mean_squared_error: 0.0029 - mean_absolute_error: 0.0392 - val_loss: 0.0034 - val_mean_squared_error: 0.0034 - val_mean_absolute_error: 0.0468\n",
            "Epoch 26/50\n",
            "8/8 [==============================] - 0s 13ms/step - loss: 0.0029 - mean_squared_error: 0.0029 - mean_absolute_error: 0.0408 - val_loss: 0.0036 - val_mean_squared_error: 0.0036 - val_mean_absolute_error: 0.0475\n",
            "Epoch 27/50\n",
            "8/8 [==============================] - 0s 15ms/step - loss: 0.0026 - mean_squared_error: 0.0026 - mean_absolute_error: 0.0387 - val_loss: 0.0034 - val_mean_squared_error: 0.0034 - val_mean_absolute_error: 0.0470\n",
            "Epoch 28/50\n",
            "8/8 [==============================] - 0s 12ms/step - loss: 0.0027 - mean_squared_error: 0.0027 - mean_absolute_error: 0.0382 - val_loss: 0.0035 - val_mean_squared_error: 0.0035 - val_mean_absolute_error: 0.0475\n",
            "Epoch 29/50\n",
            "8/8 [==============================] - 0s 12ms/step - loss: 0.0027 - mean_squared_error: 0.0027 - mean_absolute_error: 0.0390 - val_loss: 0.0036 - val_mean_squared_error: 0.0036 - val_mean_absolute_error: 0.0477\n",
            "Epoch 30/50\n",
            "8/8 [==============================] - 0s 13ms/step - loss: 0.0029 - mean_squared_error: 0.0029 - mean_absolute_error: 0.0395 - val_loss: 0.0035 - val_mean_squared_error: 0.0035 - val_mean_absolute_error: 0.0471\n",
            "Epoch 31/50\n",
            "8/8 [==============================] - 0s 14ms/step - loss: 0.0024 - mean_squared_error: 0.0024 - mean_absolute_error: 0.0360 - val_loss: 0.0035 - val_mean_squared_error: 0.0035 - val_mean_absolute_error: 0.0470\n",
            "Epoch 32/50\n",
            "8/8 [==============================] - 0s 13ms/step - loss: 0.0026 - mean_squared_error: 0.0026 - mean_absolute_error: 0.0373 - val_loss: 0.0035 - val_mean_squared_error: 0.0035 - val_mean_absolute_error: 0.0474\n",
            "Epoch 33/50\n",
            "8/8 [==============================] - 0s 12ms/step - loss: 0.0025 - mean_squared_error: 0.0025 - mean_absolute_error: 0.0373 - val_loss: 0.0034 - val_mean_squared_error: 0.0034 - val_mean_absolute_error: 0.0467\n",
            "Epoch 34/50\n",
            "8/8 [==============================] - 0s 11ms/step - loss: 0.0025 - mean_squared_error: 0.0025 - mean_absolute_error: 0.0370 - val_loss: 0.0034 - val_mean_squared_error: 0.0034 - val_mean_absolute_error: 0.0467\n",
            "Epoch 35/50\n",
            "8/8 [==============================] - 0s 13ms/step - loss: 0.0025 - mean_squared_error: 0.0025 - mean_absolute_error: 0.0366 - val_loss: 0.0036 - val_mean_squared_error: 0.0036 - val_mean_absolute_error: 0.0475\n"
          ]
        },
        {
          "output_type": "display_data",
          "data": {
            "text/plain": [
              "<IPython.core.display.HTML object>"
            ],
            "text/html": [
              "<br/>Waiting for W&B process to finish, PID 1555<br/>Program ended successfully."
            ]
          },
          "metadata": {
            "tags": []
          }
        },
        {
          "output_type": "display_data",
          "data": {
            "text/plain": [
              "VBox(children=(Label(value=' 0.84MB of 0.84MB uploaded (0.00MB deduped)\\r'), FloatProgress(value=1.0, max=1.0)…"
            ],
            "application/vnd.jupyter.widget-view+json": {
              "model_id": "cb1f427697c8415786912057f5f176b7",
              "version_minor": 0,
              "version_major": 2
            }
          },
          "metadata": {
            "tags": []
          }
        },
        {
          "output_type": "display_data",
          "data": {
            "text/plain": [
              "<IPython.core.display.HTML object>"
            ],
            "text/html": [
              "Find user logs for this run at: <code>/content/feeder_repo/wandb/run-20210713_141517-e1j3z0rx/logs/debug.log</code>"
            ]
          },
          "metadata": {
            "tags": []
          }
        },
        {
          "output_type": "display_data",
          "data": {
            "text/plain": [
              "<IPython.core.display.HTML object>"
            ],
            "text/html": [
              "Find internal logs for this run at: <code>/content/feeder_repo/wandb/run-20210713_141517-e1j3z0rx/logs/debug-internal.log</code>"
            ]
          },
          "metadata": {
            "tags": []
          }
        },
        {
          "output_type": "display_data",
          "data": {
            "text/plain": [
              "<IPython.core.display.HTML object>"
            ],
            "text/html": [
              "<h3>Run summary:</h3><br/><style>\n",
              "    table.wandb td:nth-child(1) { padding: 0 10px; text-align: right }\n",
              "    </style><table class=\"wandb\">\n",
              "<tr><td>epoch</td><td>34</td></tr><tr><td>loss</td><td>0.00257</td></tr><tr><td>mean_squared_error</td><td>0.00257</td></tr><tr><td>mean_absolute_error</td><td>0.03694</td></tr><tr><td>val_loss</td><td>0.00356</td></tr><tr><td>val_mean_squared_error</td><td>0.00356</td></tr><tr><td>val_mean_absolute_error</td><td>0.04749</td></tr><tr><td>_runtime</td><td>13</td></tr><tr><td>_timestamp</td><td>1626185730</td></tr><tr><td>_step</td><td>34</td></tr><tr><td>best_val_loss</td><td>0.00338</td></tr><tr><td>best_epoch</td><td>24</td></tr></table>"
            ]
          },
          "metadata": {
            "tags": []
          }
        },
        {
          "output_type": "display_data",
          "data": {
            "text/plain": [
              "<IPython.core.display.HTML object>"
            ],
            "text/html": [
              "<h3>Run history:</h3><br/><style>\n",
              "    table.wandb td:nth-child(1) { padding: 0 10px; text-align: right }\n",
              "    </style><table class=\"wandb\">\n",
              "<tr><td>epoch</td><td>▁▁▁▂▂▂▂▂▃▃▃▃▃▄▄▄▄▅▅▅▅▅▆▆▆▆▆▇▇▇▇▇███</td></tr><tr><td>loss</td><td>█▃▁▁▁▁▁▁▁▁▁▁▁▁▁▁▁▁▁▁▁▁▁▁▁▁▁▁▁▁▁▁▁▁▁</td></tr><tr><td>mean_squared_error</td><td>█▃▁▁▁▁▁▁▁▁▁▁▁▁▁▁▁▁▁▁▁▁▁▁▁▁▁▁▁▁▁▁▁▁▁</td></tr><tr><td>mean_absolute_error</td><td>█▄▂▂▂▂▁▁▁▁▁▁▁▁▁▁▁▁▁▁▁▁▁▁▁▁▁▁▁▁▁▁▁▁▁</td></tr><tr><td>val_loss</td><td>█▂▂▂▁▁▁▁▁▁▁▁▁▁▁▁▁▁▁▁▁▁▁▁▁▁▁▁▁▁▁▁▁▁▁</td></tr><tr><td>val_mean_squared_error</td><td>█▂▂▂▁▁▁▁▁▁▁▁▁▁▁▁▁▁▁▁▁▁▁▁▁▁▁▁▁▁▁▁▁▁▁</td></tr><tr><td>val_mean_absolute_error</td><td>█▃▃▂▂▂▁▁▁▁▁▁▁▁▁▁▁▁▁▁▁▁▁▁▁▁▁▁▁▁▁▁▁▁▁</td></tr><tr><td>_runtime</td><td>▁▁▁▁▃▃▃▃▃▃▃▅▅▅▅▅▅▅▅▅▆▆▆▆▆▆▆▆███████</td></tr><tr><td>_timestamp</td><td>▁▁▁▁▃▃▃▃▃▃▃▅▅▅▅▅▅▅▅▅▆▆▆▆▆▆▆▆███████</td></tr><tr><td>_step</td><td>▁▁▁▂▂▂▂▂▃▃▃▃▃▄▄▄▄▅▅▅▅▅▆▆▆▆▆▇▇▇▇▇███</td></tr></table><br/>"
            ]
          },
          "metadata": {
            "tags": []
          }
        },
        {
          "output_type": "display_data",
          "data": {
            "text/plain": [
              "<IPython.core.display.HTML object>"
            ],
            "text/html": [
              "Synced 5 W&B file(s), 1 media file(s), 2 artifact file(s) and 2 other file(s)"
            ]
          },
          "metadata": {
            "tags": []
          }
        },
        {
          "output_type": "display_data",
          "data": {
            "text/plain": [
              "<IPython.core.display.HTML object>"
            ],
            "text/html": [
              "\n",
              "                    <br/>Synced <strong style=\"color:#cdcd00\">playful-sweep-4</strong>: <a href=\"https://wandb.ai/acse-jaq15/ACSE_9_GRU/runs/e1j3z0rx\" target=\"_blank\">https://wandb.ai/acse-jaq15/ACSE_9_GRU/runs/e1j3z0rx</a><br/>\n",
              "                "
            ]
          },
          "metadata": {
            "tags": []
          }
        },
        {
          "output_type": "stream",
          "name": "stderr",
          "text": [
            "\u001b[34m\u001b[1mwandb\u001b[0m: Agent Starting Run: 4szchuw2 with config:\n",
            "\u001b[34m\u001b[1mwandb\u001b[0m: \tactivation: selu\n",
            "\u001b[34m\u001b[1mwandb\u001b[0m: \tbatch_size: 128\n",
            "\u001b[34m\u001b[1mwandb\u001b[0m: \tdropout: 0.3\n",
            "\u001b[34m\u001b[1mwandb\u001b[0m: \tepochs: 50\n",
            "\u001b[34m\u001b[1mwandb\u001b[0m: \thidden_size: 100\n",
            "\u001b[34m\u001b[1mwandb\u001b[0m: \tinput_size: 100\n",
            "\u001b[34m\u001b[1mwandb\u001b[0m: \tlearning_rate: 0.0005\n",
            "\u001b[34m\u001b[1mwandb\u001b[0m: \toptimizer: nadam\n"
          ]
        },
        {
          "output_type": "display_data",
          "data": {
            "text/plain": [
              "<IPython.core.display.HTML object>"
            ],
            "text/html": [
              "\n",
              "                Tracking run with wandb version 0.10.33<br/>\n",
              "                Syncing run <strong style=\"color:#cdcd00\">stellar-sweep-5</strong> to <a href=\"https://wandb.ai\" target=\"_blank\">Weights & Biases</a> <a href=\"https://docs.wandb.com/integrations/jupyter.html\" target=\"_blank\">(Documentation)</a>.<br/>\n",
              "                Project page: <a href=\"https://wandb.ai/acse-jaq15/ACSE_9_GRU\" target=\"_blank\">https://wandb.ai/acse-jaq15/ACSE_9_GRU</a><br/>\n",
              "                Sweep page: <a href=\"https://wandb.ai/acse-jaq15/ACSE_9_GRU/sweeps/znsj9bl4\" target=\"_blank\">https://wandb.ai/acse-jaq15/ACSE_9_GRU/sweeps/znsj9bl4</a><br/>\n",
              "Run page: <a href=\"https://wandb.ai/acse-jaq15/ACSE_9_GRU/runs/4szchuw2\" target=\"_blank\">https://wandb.ai/acse-jaq15/ACSE_9_GRU/runs/4szchuw2</a><br/>\n",
              "                Run data is saved locally in <code>/content/feeder_repo/wandb/run-20210713_141540-4szchuw2</code><br/><br/>\n",
              "            "
            ]
          },
          "metadata": {
            "tags": []
          }
        },
        {
          "output_type": "stream",
          "name": "stdout",
          "text": [
            "WARNING:tensorflow:Layer gru will not use cuDNN kernels since it doesn't meet the criteria. It will use a generic GPU kernel as fallback when running on GPU.\n",
            "Epoch 1/50\n",
            "8/8 [==============================] - 5s 181ms/step - loss: 0.2608 - mean_squared_error: 0.2608 - mean_absolute_error: 0.4169 - val_loss: 0.0176 - val_mean_squared_error: 0.0176 - val_mean_absolute_error: 0.1007\n",
            "Epoch 2/50\n",
            "8/8 [==============================] - 1s 80ms/step - loss: 0.0212 - mean_squared_error: 0.0212 - mean_absolute_error: 0.1165 - val_loss: 0.0110 - val_mean_squared_error: 0.0110 - val_mean_absolute_error: 0.0893\n",
            "Epoch 3/50\n",
            "8/8 [==============================] - 1s 73ms/step - loss: 0.0107 - mean_squared_error: 0.0107 - mean_absolute_error: 0.0869 - val_loss: 0.0066 - val_mean_squared_error: 0.0066 - val_mean_absolute_error: 0.0672\n",
            "Epoch 4/50\n",
            "8/8 [==============================] - 1s 67ms/step - loss: 0.0084 - mean_squared_error: 0.0084 - mean_absolute_error: 0.0721 - val_loss: 0.0049 - val_mean_squared_error: 0.0049 - val_mean_absolute_error: 0.0573\n",
            "Epoch 5/50\n",
            "8/8 [==============================] - 1s 73ms/step - loss: 0.0069 - mean_squared_error: 0.0069 - mean_absolute_error: 0.0618 - val_loss: 0.0042 - val_mean_squared_error: 0.0042 - val_mean_absolute_error: 0.0521\n",
            "Epoch 6/50\n",
            "8/8 [==============================] - 1s 73ms/step - loss: 0.0058 - mean_squared_error: 0.0058 - mean_absolute_error: 0.0532 - val_loss: 0.0040 - val_mean_squared_error: 0.0040 - val_mean_absolute_error: 0.0508\n",
            "Epoch 7/50\n",
            "8/8 [==============================] - 1s 66ms/step - loss: 0.0040 - mean_squared_error: 0.0040 - mean_absolute_error: 0.0470 - val_loss: 0.0039 - val_mean_squared_error: 0.0039 - val_mean_absolute_error: 0.0500\n",
            "Epoch 8/50\n",
            "8/8 [==============================] - 1s 70ms/step - loss: 0.0051 - mean_squared_error: 0.0051 - mean_absolute_error: 0.0517 - val_loss: 0.0043 - val_mean_squared_error: 0.0043 - val_mean_absolute_error: 0.0519\n",
            "Epoch 9/50\n",
            "8/8 [==============================] - 1s 74ms/step - loss: 0.0057 - mean_squared_error: 0.0057 - mean_absolute_error: 0.0540 - val_loss: 0.0038 - val_mean_squared_error: 0.0038 - val_mean_absolute_error: 0.0494\n",
            "Epoch 10/50\n",
            "8/8 [==============================] - 1s 78ms/step - loss: 0.0047 - mean_squared_error: 0.0047 - mean_absolute_error: 0.0507 - val_loss: 0.0037 - val_mean_squared_error: 0.0037 - val_mean_absolute_error: 0.0490\n",
            "Epoch 11/50\n",
            "8/8 [==============================] - 1s 71ms/step - loss: 0.0046 - mean_squared_error: 0.0046 - mean_absolute_error: 0.0492 - val_loss: 0.0037 - val_mean_squared_error: 0.0037 - val_mean_absolute_error: 0.0487\n",
            "Epoch 12/50\n",
            "8/8 [==============================] - 1s 70ms/step - loss: 0.0044 - mean_squared_error: 0.0044 - mean_absolute_error: 0.0485 - val_loss: 0.0036 - val_mean_squared_error: 0.0036 - val_mean_absolute_error: 0.0485\n",
            "Epoch 13/50\n",
            "8/8 [==============================] - 1s 73ms/step - loss: 0.0047 - mean_squared_error: 0.0047 - mean_absolute_error: 0.0495 - val_loss: 0.0038 - val_mean_squared_error: 0.0038 - val_mean_absolute_error: 0.0495\n",
            "Epoch 14/50\n",
            "8/8 [==============================] - 1s 73ms/step - loss: 0.0044 - mean_squared_error: 0.0044 - mean_absolute_error: 0.0481 - val_loss: 0.0036 - val_mean_squared_error: 0.0036 - val_mean_absolute_error: 0.0482\n",
            "Epoch 15/50\n",
            "8/8 [==============================] - 1s 73ms/step - loss: 0.0042 - mean_squared_error: 0.0042 - mean_absolute_error: 0.0475 - val_loss: 0.0036 - val_mean_squared_error: 0.0036 - val_mean_absolute_error: 0.0480\n",
            "Epoch 16/50\n",
            "8/8 [==============================] - 1s 72ms/step - loss: 0.0042 - mean_squared_error: 0.0042 - mean_absolute_error: 0.0474 - val_loss: 0.0036 - val_mean_squared_error: 0.0036 - val_mean_absolute_error: 0.0481\n",
            "Epoch 17/50\n",
            "8/8 [==============================] - 1s 74ms/step - loss: 0.0041 - mean_squared_error: 0.0041 - mean_absolute_error: 0.0465 - val_loss: 0.0034 - val_mean_squared_error: 0.0034 - val_mean_absolute_error: 0.0473\n",
            "Epoch 18/50\n",
            "8/8 [==============================] - 1s 73ms/step - loss: 0.0038 - mean_squared_error: 0.0038 - mean_absolute_error: 0.0444 - val_loss: 0.0036 - val_mean_squared_error: 0.0036 - val_mean_absolute_error: 0.0480\n",
            "Epoch 19/50\n",
            "8/8 [==============================] - 1s 73ms/step - loss: 0.0037 - mean_squared_error: 0.0037 - mean_absolute_error: 0.0439 - val_loss: 0.0036 - val_mean_squared_error: 0.0036 - val_mean_absolute_error: 0.0483\n",
            "Epoch 20/50\n",
            "8/8 [==============================] - 1s 75ms/step - loss: 0.0034 - mean_squared_error: 0.0034 - mean_absolute_error: 0.0432 - val_loss: 0.0035 - val_mean_squared_error: 0.0035 - val_mean_absolute_error: 0.0475\n",
            "Epoch 21/50\n",
            "8/8 [==============================] - 1s 69ms/step - loss: 0.0035 - mean_squared_error: 0.0035 - mean_absolute_error: 0.0425 - val_loss: 0.0035 - val_mean_squared_error: 0.0035 - val_mean_absolute_error: 0.0474\n",
            "Epoch 22/50\n",
            "8/8 [==============================] - 1s 73ms/step - loss: 0.0037 - mean_squared_error: 0.0037 - mean_absolute_error: 0.0445 - val_loss: 0.0040 - val_mean_squared_error: 0.0040 - val_mean_absolute_error: 0.0511\n",
            "Epoch 23/50\n",
            "8/8 [==============================] - 1s 71ms/step - loss: 0.0041 - mean_squared_error: 0.0041 - mean_absolute_error: 0.0466 - val_loss: 0.0033 - val_mean_squared_error: 0.0033 - val_mean_absolute_error: 0.0464\n",
            "Epoch 24/50\n",
            "8/8 [==============================] - 1s 75ms/step - loss: 0.0037 - mean_squared_error: 0.0037 - mean_absolute_error: 0.0444 - val_loss: 0.0033 - val_mean_squared_error: 0.0033 - val_mean_absolute_error: 0.0464\n",
            "Epoch 25/50\n",
            "8/8 [==============================] - 1s 75ms/step - loss: 0.0034 - mean_squared_error: 0.0034 - mean_absolute_error: 0.0426 - val_loss: 0.0035 - val_mean_squared_error: 0.0035 - val_mean_absolute_error: 0.0473\n",
            "Epoch 26/50\n",
            "8/8 [==============================] - 1s 74ms/step - loss: 0.0028 - mean_squared_error: 0.0028 - mean_absolute_error: 0.0396 - val_loss: 0.0036 - val_mean_squared_error: 0.0036 - val_mean_absolute_error: 0.0478\n",
            "Epoch 27/50\n",
            "8/8 [==============================] - 1s 76ms/step - loss: 0.0032 - mean_squared_error: 0.0032 - mean_absolute_error: 0.0419 - val_loss: 0.0036 - val_mean_squared_error: 0.0036 - val_mean_absolute_error: 0.0488\n",
            "Epoch 28/50\n",
            "8/8 [==============================] - 1s 62ms/step - loss: 0.0033 - mean_squared_error: 0.0033 - mean_absolute_error: 0.0429 - val_loss: 0.0032 - val_mean_squared_error: 0.0032 - val_mean_absolute_error: 0.0455\n",
            "Epoch 29/50\n",
            "8/8 [==============================] - 1s 72ms/step - loss: 0.0032 - mean_squared_error: 0.0032 - mean_absolute_error: 0.0419 - val_loss: 0.0035 - val_mean_squared_error: 0.0035 - val_mean_absolute_error: 0.0475\n",
            "Epoch 30/50\n",
            "8/8 [==============================] - 1s 68ms/step - loss: 0.0031 - mean_squared_error: 0.0031 - mean_absolute_error: 0.0405 - val_loss: 0.0032 - val_mean_squared_error: 0.0032 - val_mean_absolute_error: 0.0453\n",
            "Epoch 31/50\n",
            "8/8 [==============================] - 1s 73ms/step - loss: 0.0032 - mean_squared_error: 0.0032 - mean_absolute_error: 0.0416 - val_loss: 0.0031 - val_mean_squared_error: 0.0031 - val_mean_absolute_error: 0.0451\n",
            "Epoch 32/50\n",
            "8/8 [==============================] - 1s 73ms/step - loss: 0.0031 - mean_squared_error: 0.0031 - mean_absolute_error: 0.0407 - val_loss: 0.0031 - val_mean_squared_error: 0.0031 - val_mean_absolute_error: 0.0450\n",
            "Epoch 33/50\n",
            "8/8 [==============================] - 1s 75ms/step - loss: 0.0033 - mean_squared_error: 0.0033 - mean_absolute_error: 0.0429 - val_loss: 0.0032 - val_mean_squared_error: 0.0032 - val_mean_absolute_error: 0.0453\n",
            "Epoch 34/50\n",
            "8/8 [==============================] - 1s 76ms/step - loss: 0.0033 - mean_squared_error: 0.0033 - mean_absolute_error: 0.0417 - val_loss: 0.0036 - val_mean_squared_error: 0.0036 - val_mean_absolute_error: 0.0475\n",
            "Epoch 35/50\n",
            "8/8 [==============================] - 1s 72ms/step - loss: 0.0035 - mean_squared_error: 0.0035 - mean_absolute_error: 0.0442 - val_loss: 0.0032 - val_mean_squared_error: 0.0032 - val_mean_absolute_error: 0.0454\n",
            "Epoch 36/50\n",
            "8/8 [==============================] - 1s 74ms/step - loss: 0.0031 - mean_squared_error: 0.0031 - mean_absolute_error: 0.0414 - val_loss: 0.0037 - val_mean_squared_error: 0.0037 - val_mean_absolute_error: 0.0488\n",
            "Epoch 37/50\n",
            "8/8 [==============================] - 1s 67ms/step - loss: 0.0032 - mean_squared_error: 0.0032 - mean_absolute_error: 0.0416 - val_loss: 0.0032 - val_mean_squared_error: 0.0032 - val_mean_absolute_error: 0.0452\n",
            "Epoch 38/50\n",
            "8/8 [==============================] - 1s 72ms/step - loss: 0.0025 - mean_squared_error: 0.0025 - mean_absolute_error: 0.0370 - val_loss: 0.0030 - val_mean_squared_error: 0.0030 - val_mean_absolute_error: 0.0443\n",
            "Epoch 39/50\n",
            "8/8 [==============================] - 1s 69ms/step - loss: 0.0029 - mean_squared_error: 0.0029 - mean_absolute_error: 0.0406 - val_loss: 0.0033 - val_mean_squared_error: 0.0033 - val_mean_absolute_error: 0.0458\n",
            "Epoch 40/50\n",
            "8/8 [==============================] - 1s 74ms/step - loss: 0.0029 - mean_squared_error: 0.0029 - mean_absolute_error: 0.0397 - val_loss: 0.0036 - val_mean_squared_error: 0.0036 - val_mean_absolute_error: 0.0477\n",
            "Epoch 41/50\n",
            "8/8 [==============================] - 1s 70ms/step - loss: 0.0034 - mean_squared_error: 0.0034 - mean_absolute_error: 0.0429 - val_loss: 0.0034 - val_mean_squared_error: 0.0034 - val_mean_absolute_error: 0.0464\n",
            "Epoch 42/50\n",
            "8/8 [==============================] - 1s 73ms/step - loss: 0.0028 - mean_squared_error: 0.0028 - mean_absolute_error: 0.0397 - val_loss: 0.0031 - val_mean_squared_error: 0.0031 - val_mean_absolute_error: 0.0449\n",
            "Epoch 43/50\n",
            "8/8 [==============================] - 1s 73ms/step - loss: 0.0029 - mean_squared_error: 0.0029 - mean_absolute_error: 0.0397 - val_loss: 0.0036 - val_mean_squared_error: 0.0036 - val_mean_absolute_error: 0.0479\n",
            "Epoch 44/50\n",
            "8/8 [==============================] - 1s 73ms/step - loss: 0.0032 - mean_squared_error: 0.0032 - mean_absolute_error: 0.0414 - val_loss: 0.0030 - val_mean_squared_error: 0.0030 - val_mean_absolute_error: 0.0438\n",
            "Epoch 45/50\n",
            "8/8 [==============================] - 1s 75ms/step - loss: 0.0028 - mean_squared_error: 0.0028 - mean_absolute_error: 0.0384 - val_loss: 0.0033 - val_mean_squared_error: 0.0033 - val_mean_absolute_error: 0.0455\n",
            "Epoch 46/50\n",
            "8/8 [==============================] - 1s 68ms/step - loss: 0.0029 - mean_squared_error: 0.0029 - mean_absolute_error: 0.0399 - val_loss: 0.0032 - val_mean_squared_error: 0.0032 - val_mean_absolute_error: 0.0454\n",
            "Epoch 47/50\n",
            "8/8 [==============================] - 1s 71ms/step - loss: 0.0033 - mean_squared_error: 0.0033 - mean_absolute_error: 0.0431 - val_loss: 0.0029 - val_mean_squared_error: 0.0029 - val_mean_absolute_error: 0.0434\n",
            "Epoch 48/50\n",
            "8/8 [==============================] - 1s 72ms/step - loss: 0.0028 - mean_squared_error: 0.0028 - mean_absolute_error: 0.0391 - val_loss: 0.0034 - val_mean_squared_error: 0.0034 - val_mean_absolute_error: 0.0462\n",
            "Epoch 49/50\n",
            "8/8 [==============================] - 1s 77ms/step - loss: 0.0030 - mean_squared_error: 0.0030 - mean_absolute_error: 0.0398 - val_loss: 0.0032 - val_mean_squared_error: 0.0032 - val_mean_absolute_error: 0.0452\n",
            "Epoch 50/50\n",
            "8/8 [==============================] - 1s 72ms/step - loss: 0.0028 - mean_squared_error: 0.0028 - mean_absolute_error: 0.0386 - val_loss: 0.0029 - val_mean_squared_error: 0.0029 - val_mean_absolute_error: 0.0430\n"
          ]
        },
        {
          "output_type": "display_data",
          "data": {
            "text/plain": [
              "<IPython.core.display.HTML object>"
            ],
            "text/html": [
              "<br/>Waiting for W&B process to finish, PID 1719<br/>Program ended successfully."
            ]
          },
          "metadata": {
            "tags": []
          }
        },
        {
          "output_type": "display_data",
          "data": {
            "text/plain": [
              "VBox(children=(Label(value=' 1.45MB of 1.45MB uploaded (0.00MB deduped)\\r'), FloatProgress(value=1.0, max=1.0)…"
            ],
            "application/vnd.jupyter.widget-view+json": {
              "model_id": "9d47b7677a444675832375ef5ff2ad37",
              "version_minor": 0,
              "version_major": 2
            }
          },
          "metadata": {
            "tags": []
          }
        },
        {
          "output_type": "display_data",
          "data": {
            "text/plain": [
              "<IPython.core.display.HTML object>"
            ],
            "text/html": [
              "Find user logs for this run at: <code>/content/feeder_repo/wandb/run-20210713_141540-4szchuw2/logs/debug.log</code>"
            ]
          },
          "metadata": {
            "tags": []
          }
        },
        {
          "output_type": "display_data",
          "data": {
            "text/plain": [
              "<IPython.core.display.HTML object>"
            ],
            "text/html": [
              "Find internal logs for this run at: <code>/content/feeder_repo/wandb/run-20210713_141540-4szchuw2/logs/debug-internal.log</code>"
            ]
          },
          "metadata": {
            "tags": []
          }
        },
        {
          "output_type": "display_data",
          "data": {
            "text/plain": [
              "<IPython.core.display.HTML object>"
            ],
            "text/html": [
              "<h3>Run summary:</h3><br/><style>\n",
              "    table.wandb td:nth-child(1) { padding: 0 10px; text-align: right }\n",
              "    </style><table class=\"wandb\">\n",
              "<tr><td>epoch</td><td>49</td></tr><tr><td>loss</td><td>0.0027</td></tr><tr><td>mean_squared_error</td><td>0.0027</td></tr><tr><td>mean_absolute_error</td><td>0.03842</td></tr><tr><td>val_loss</td><td>0.00287</td></tr><tr><td>val_mean_squared_error</td><td>0.00287</td></tr><tr><td>val_mean_absolute_error</td><td>0.043</td></tr><tr><td>_runtime</td><td>38</td></tr><tr><td>_timestamp</td><td>1626185778</td></tr><tr><td>_step</td><td>49</td></tr><tr><td>best_val_loss</td><td>0.00287</td></tr><tr><td>best_epoch</td><td>49</td></tr></table>"
            ]
          },
          "metadata": {
            "tags": []
          }
        },
        {
          "output_type": "display_data",
          "data": {
            "text/plain": [
              "<IPython.core.display.HTML object>"
            ],
            "text/html": [
              "<h3>Run history:</h3><br/><style>\n",
              "    table.wandb td:nth-child(1) { padding: 0 10px; text-align: right }\n",
              "    </style><table class=\"wandb\">\n",
              "<tr><td>epoch</td><td>▁▁▁▁▂▂▂▂▂▃▃▃▃▃▃▄▄▄▄▄▅▅▅▅▅▅▆▆▆▆▆▆▇▇▇▇▇███</td></tr><tr><td>loss</td><td>█▂▁▁▁▁▁▁▁▁▁▁▁▁▁▁▁▁▁▁▁▁▁▁▁▁▁▁▁▁▁▁▁▁▁▁▁▁▁▁</td></tr><tr><td>mean_squared_error</td><td>█▂▁▁▁▁▁▁▁▁▁▁▁▁▁▁▁▁▁▁▁▁▁▁▁▁▁▁▁▁▁▁▁▁▁▁▁▁▁▁</td></tr><tr><td>mean_absolute_error</td><td>█▃▂▂▁▁▁▁▁▁▁▁▁▁▁▁▁▁▁▁▁▁▁▁▁▁▁▁▁▁▁▁▁▁▁▁▁▁▁▁</td></tr><tr><td>val_loss</td><td>█▅▃▂▂▁▂▁▁▁▁▁▁▁▁▁▁▂▁▁▁▁▁▁▁▁▁▁▁▁▁▁▁▁▁▁▁▁▁▁</td></tr><tr><td>val_mean_squared_error</td><td>█▅▃▂▂▁▂▁▁▁▁▁▁▁▁▁▁▂▁▁▁▁▁▁▁▁▁▁▁▁▁▁▁▁▁▁▁▁▁▁</td></tr><tr><td>val_mean_absolute_error</td><td>█▇▄▃▂▂▂▂▂▂▂▂▂▂▂▂▂▂▁▁▂▂▁▂▁▁▁▂▂▁▁▁▁▁▂▁▁▁▁▁</td></tr><tr><td>_runtime</td><td>▁▁▁▁▂▂▂▂▂▃▃▃▃▃▃▄▄▄▄▄▅▅▅▅▅▆▆▆▆▆▆▇▇▇▇▇████</td></tr><tr><td>_timestamp</td><td>▁▁▁▁▂▂▂▂▂▃▃▃▃▃▃▄▄▄▄▄▅▅▅▅▅▆▆▆▆▆▆▇▇▇▇▇████</td></tr><tr><td>_step</td><td>▁▁▁▁▂▂▂▂▂▃▃▃▃▃▃▄▄▄▄▄▅▅▅▅▅▅▆▆▆▆▆▆▇▇▇▇▇███</td></tr></table><br/>"
            ]
          },
          "metadata": {
            "tags": []
          }
        },
        {
          "output_type": "display_data",
          "data": {
            "text/plain": [
              "<IPython.core.display.HTML object>"
            ],
            "text/html": [
              "Synced 5 W&B file(s), 1 media file(s), 2 artifact file(s) and 2 other file(s)"
            ]
          },
          "metadata": {
            "tags": []
          }
        },
        {
          "output_type": "display_data",
          "data": {
            "text/plain": [
              "<IPython.core.display.HTML object>"
            ],
            "text/html": [
              "\n",
              "                    <br/>Synced <strong style=\"color:#cdcd00\">stellar-sweep-5</strong>: <a href=\"https://wandb.ai/acse-jaq15/ACSE_9_GRU/runs/4szchuw2\" target=\"_blank\">https://wandb.ai/acse-jaq15/ACSE_9_GRU/runs/4szchuw2</a><br/>\n",
              "                "
            ]
          },
          "metadata": {
            "tags": []
          }
        },
        {
          "output_type": "stream",
          "name": "stderr",
          "text": [
            "\u001b[34m\u001b[1mwandb\u001b[0m: Agent Starting Run: tqhqv2qs with config:\n",
            "\u001b[34m\u001b[1mwandb\u001b[0m: \tactivation: selu\n",
            "\u001b[34m\u001b[1mwandb\u001b[0m: \tbatch_size: 128\n",
            "\u001b[34m\u001b[1mwandb\u001b[0m: \tdropout: 0.4\n",
            "\u001b[34m\u001b[1mwandb\u001b[0m: \tepochs: 100\n",
            "\u001b[34m\u001b[1mwandb\u001b[0m: \thidden_size: 25\n",
            "\u001b[34m\u001b[1mwandb\u001b[0m: \tinput_size: 50\n",
            "\u001b[34m\u001b[1mwandb\u001b[0m: \tlearning_rate: 0.001\n",
            "\u001b[34m\u001b[1mwandb\u001b[0m: \toptimizer: nadam\n"
          ]
        },
        {
          "output_type": "display_data",
          "data": {
            "text/plain": [
              "<IPython.core.display.HTML object>"
            ],
            "text/html": [
              "\n",
              "                Tracking run with wandb version 0.10.33<br/>\n",
              "                Syncing run <strong style=\"color:#cdcd00\">lucky-sweep-6</strong> to <a href=\"https://wandb.ai\" target=\"_blank\">Weights & Biases</a> <a href=\"https://docs.wandb.com/integrations/jupyter.html\" target=\"_blank\">(Documentation)</a>.<br/>\n",
              "                Project page: <a href=\"https://wandb.ai/acse-jaq15/ACSE_9_GRU\" target=\"_blank\">https://wandb.ai/acse-jaq15/ACSE_9_GRU</a><br/>\n",
              "                Sweep page: <a href=\"https://wandb.ai/acse-jaq15/ACSE_9_GRU/sweeps/znsj9bl4\" target=\"_blank\">https://wandb.ai/acse-jaq15/ACSE_9_GRU/sweeps/znsj9bl4</a><br/>\n",
              "Run page: <a href=\"https://wandb.ai/acse-jaq15/ACSE_9_GRU/runs/tqhqv2qs\" target=\"_blank\">https://wandb.ai/acse-jaq15/ACSE_9_GRU/runs/tqhqv2qs</a><br/>\n",
              "                Run data is saved locally in <code>/content/feeder_repo/wandb/run-20210713_141629-tqhqv2qs</code><br/><br/>\n",
              "            "
            ]
          },
          "metadata": {
            "tags": []
          }
        },
        {
          "output_type": "stream",
          "name": "stdout",
          "text": [
            "WARNING:tensorflow:Layer gru will not use cuDNN kernels since it doesn't meet the criteria. It will use a generic GPU kernel as fallback when running on GPU.\n",
            "Epoch 1/100\n",
            "8/8 [==============================] - 5s 186ms/step - loss: 0.1008 - mean_squared_error: 0.1008 - mean_absolute_error: 0.2405 - val_loss: 0.0072 - val_mean_squared_error: 0.0072 - val_mean_absolute_error: 0.0703\n",
            "Epoch 2/100\n",
            "8/8 [==============================] - 1s 75ms/step - loss: 0.0288 - mean_squared_error: 0.0288 - mean_absolute_error: 0.1296 - val_loss: 0.0051 - val_mean_squared_error: 0.0051 - val_mean_absolute_error: 0.0571\n",
            "Epoch 3/100\n",
            "8/8 [==============================] - 1s 72ms/step - loss: 0.0222 - mean_squared_error: 0.0222 - mean_absolute_error: 0.1093 - val_loss: 0.0036 - val_mean_squared_error: 0.0036 - val_mean_absolute_error: 0.0484\n",
            "Epoch 4/100\n",
            "8/8 [==============================] - 1s 75ms/step - loss: 0.0176 - mean_squared_error: 0.0176 - mean_absolute_error: 0.0928 - val_loss: 0.0033 - val_mean_squared_error: 0.0033 - val_mean_absolute_error: 0.0460\n",
            "Epoch 5/100\n",
            "8/8 [==============================] - 1s 74ms/step - loss: 0.0156 - mean_squared_error: 0.0156 - mean_absolute_error: 0.0865 - val_loss: 0.0031 - val_mean_squared_error: 0.0031 - val_mean_absolute_error: 0.0444\n",
            "Epoch 6/100\n",
            "8/8 [==============================] - 1s 71ms/step - loss: 0.0173 - mean_squared_error: 0.0173 - mean_absolute_error: 0.0924 - val_loss: 0.0029 - val_mean_squared_error: 0.0029 - val_mean_absolute_error: 0.0427\n",
            "Epoch 7/100\n",
            "8/8 [==============================] - 1s 67ms/step - loss: 0.0131 - mean_squared_error: 0.0131 - mean_absolute_error: 0.0809 - val_loss: 0.0032 - val_mean_squared_error: 0.0032 - val_mean_absolute_error: 0.0456\n",
            "Epoch 8/100\n",
            "8/8 [==============================] - 1s 68ms/step - loss: 0.0141 - mean_squared_error: 0.0141 - mean_absolute_error: 0.0854 - val_loss: 0.0028 - val_mean_squared_error: 0.0028 - val_mean_absolute_error: 0.0427\n",
            "Epoch 9/100\n",
            "8/8 [==============================] - 1s 73ms/step - loss: 0.0118 - mean_squared_error: 0.0118 - mean_absolute_error: 0.0794 - val_loss: 0.0036 - val_mean_squared_error: 0.0036 - val_mean_absolute_error: 0.0480\n",
            "Epoch 10/100\n",
            "8/8 [==============================] - 1s 78ms/step - loss: 0.0124 - mean_squared_error: 0.0124 - mean_absolute_error: 0.0791 - val_loss: 0.0028 - val_mean_squared_error: 0.0028 - val_mean_absolute_error: 0.0427\n",
            "Epoch 11/100\n",
            "8/8 [==============================] - 1s 72ms/step - loss: 0.0128 - mean_squared_error: 0.0128 - mean_absolute_error: 0.0805 - val_loss: 0.0027 - val_mean_squared_error: 0.0027 - val_mean_absolute_error: 0.0418\n",
            "Epoch 12/100\n",
            "8/8 [==============================] - 1s 78ms/step - loss: 0.0116 - mean_squared_error: 0.0116 - mean_absolute_error: 0.0782 - val_loss: 0.0027 - val_mean_squared_error: 0.0027 - val_mean_absolute_error: 0.0419\n",
            "Epoch 13/100\n",
            "8/8 [==============================] - 1s 71ms/step - loss: 0.0115 - mean_squared_error: 0.0115 - mean_absolute_error: 0.0758 - val_loss: 0.0027 - val_mean_squared_error: 0.0027 - val_mean_absolute_error: 0.0419\n",
            "Epoch 14/100\n",
            "8/8 [==============================] - 1s 72ms/step - loss: 0.0101 - mean_squared_error: 0.0101 - mean_absolute_error: 0.0712 - val_loss: 0.0027 - val_mean_squared_error: 0.0027 - val_mean_absolute_error: 0.0417\n",
            "Epoch 15/100\n",
            "8/8 [==============================] - 1s 74ms/step - loss: 0.0114 - mean_squared_error: 0.0114 - mean_absolute_error: 0.0732 - val_loss: 0.0027 - val_mean_squared_error: 0.0027 - val_mean_absolute_error: 0.0419\n",
            "Epoch 16/100\n",
            "8/8 [==============================] - 1s 71ms/step - loss: 0.0105 - mean_squared_error: 0.0105 - mean_absolute_error: 0.0724 - val_loss: 0.0027 - val_mean_squared_error: 0.0027 - val_mean_absolute_error: 0.0417\n",
            "Epoch 17/100\n",
            "8/8 [==============================] - 1s 72ms/step - loss: 0.0099 - mean_squared_error: 0.0099 - mean_absolute_error: 0.0721 - val_loss: 0.0027 - val_mean_squared_error: 0.0027 - val_mean_absolute_error: 0.0416\n",
            "Epoch 18/100\n",
            "8/8 [==============================] - 1s 76ms/step - loss: 0.0104 - mean_squared_error: 0.0104 - mean_absolute_error: 0.0719 - val_loss: 0.0027 - val_mean_squared_error: 0.0027 - val_mean_absolute_error: 0.0415\n",
            "Epoch 19/100\n",
            "8/8 [==============================] - 1s 66ms/step - loss: 0.0094 - mean_squared_error: 0.0094 - mean_absolute_error: 0.0694 - val_loss: 0.0028 - val_mean_squared_error: 0.0028 - val_mean_absolute_error: 0.0428\n",
            "Epoch 20/100\n",
            "8/8 [==============================] - 1s 75ms/step - loss: 0.0087 - mean_squared_error: 0.0087 - mean_absolute_error: 0.0668 - val_loss: 0.0030 - val_mean_squared_error: 0.0030 - val_mean_absolute_error: 0.0445\n",
            "Epoch 21/100\n",
            "8/8 [==============================] - 1s 72ms/step - loss: 0.0104 - mean_squared_error: 0.0104 - mean_absolute_error: 0.0716 - val_loss: 0.0027 - val_mean_squared_error: 0.0027 - val_mean_absolute_error: 0.0418\n",
            "Epoch 22/100\n",
            "8/8 [==============================] - 1s 73ms/step - loss: 0.0102 - mean_squared_error: 0.0102 - mean_absolute_error: 0.0702 - val_loss: 0.0027 - val_mean_squared_error: 0.0027 - val_mean_absolute_error: 0.0418\n",
            "Epoch 23/100\n",
            "8/8 [==============================] - 1s 74ms/step - loss: 0.0089 - mean_squared_error: 0.0089 - mean_absolute_error: 0.0666 - val_loss: 0.0032 - val_mean_squared_error: 0.0032 - val_mean_absolute_error: 0.0453\n",
            "Epoch 24/100\n",
            "8/8 [==============================] - 1s 73ms/step - loss: 0.0090 - mean_squared_error: 0.0090 - mean_absolute_error: 0.0673 - val_loss: 0.0027 - val_mean_squared_error: 0.0027 - val_mean_absolute_error: 0.0417\n",
            "Epoch 25/100\n",
            "8/8 [==============================] - 1s 74ms/step - loss: 0.0097 - mean_squared_error: 0.0097 - mean_absolute_error: 0.0704 - val_loss: 0.0027 - val_mean_squared_error: 0.0027 - val_mean_absolute_error: 0.0413\n",
            "Epoch 26/100\n",
            "8/8 [==============================] - 1s 76ms/step - loss: 0.0094 - mean_squared_error: 0.0094 - mean_absolute_error: 0.0689 - val_loss: 0.0027 - val_mean_squared_error: 0.0027 - val_mean_absolute_error: 0.0416\n",
            "Epoch 27/100\n",
            "8/8 [==============================] - 1s 75ms/step - loss: 0.0092 - mean_squared_error: 0.0092 - mean_absolute_error: 0.0682 - val_loss: 0.0026 - val_mean_squared_error: 0.0026 - val_mean_absolute_error: 0.0415\n",
            "Epoch 28/100\n",
            "8/8 [==============================] - 1s 75ms/step - loss: 0.0087 - mean_squared_error: 0.0087 - mean_absolute_error: 0.0646 - val_loss: 0.0026 - val_mean_squared_error: 0.0026 - val_mean_absolute_error: 0.0413\n",
            "Epoch 29/100\n",
            "8/8 [==============================] - 1s 76ms/step - loss: 0.0083 - mean_squared_error: 0.0083 - mean_absolute_error: 0.0627 - val_loss: 0.0026 - val_mean_squared_error: 0.0026 - val_mean_absolute_error: 0.0413\n",
            "Epoch 30/100\n",
            "8/8 [==============================] - 1s 83ms/step - loss: 0.0085 - mean_squared_error: 0.0085 - mean_absolute_error: 0.0658 - val_loss: 0.0027 - val_mean_squared_error: 0.0027 - val_mean_absolute_error: 0.0415\n",
            "Epoch 31/100\n",
            "8/8 [==============================] - 1s 69ms/step - loss: 0.0089 - mean_squared_error: 0.0089 - mean_absolute_error: 0.0660 - val_loss: 0.0028 - val_mean_squared_error: 0.0028 - val_mean_absolute_error: 0.0422\n",
            "Epoch 32/100\n",
            "8/8 [==============================] - 1s 69ms/step - loss: 0.0087 - mean_squared_error: 0.0087 - mean_absolute_error: 0.0665 - val_loss: 0.0027 - val_mean_squared_error: 0.0027 - val_mean_absolute_error: 0.0415\n",
            "Epoch 33/100\n",
            "8/8 [==============================] - 1s 74ms/step - loss: 0.0083 - mean_squared_error: 0.0083 - mean_absolute_error: 0.0626 - val_loss: 0.0030 - val_mean_squared_error: 0.0030 - val_mean_absolute_error: 0.0435\n",
            "Epoch 34/100\n",
            "8/8 [==============================] - 1s 72ms/step - loss: 0.0082 - mean_squared_error: 0.0082 - mean_absolute_error: 0.0632 - val_loss: 0.0031 - val_mean_squared_error: 0.0031 - val_mean_absolute_error: 0.0451\n",
            "Epoch 35/100\n",
            "8/8 [==============================] - 1s 74ms/step - loss: 0.0083 - mean_squared_error: 0.0083 - mean_absolute_error: 0.0652 - val_loss: 0.0026 - val_mean_squared_error: 0.0026 - val_mean_absolute_error: 0.0409\n",
            "Epoch 36/100\n",
            "8/8 [==============================] - 1s 76ms/step - loss: 0.0086 - mean_squared_error: 0.0086 - mean_absolute_error: 0.0652 - val_loss: 0.0030 - val_mean_squared_error: 0.0030 - val_mean_absolute_error: 0.0439\n",
            "Epoch 37/100\n",
            "8/8 [==============================] - 1s 70ms/step - loss: 0.0080 - mean_squared_error: 0.0080 - mean_absolute_error: 0.0630 - val_loss: 0.0028 - val_mean_squared_error: 0.0028 - val_mean_absolute_error: 0.0418\n",
            "Epoch 38/100\n",
            "8/8 [==============================] - 1s 71ms/step - loss: 0.0074 - mean_squared_error: 0.0074 - mean_absolute_error: 0.0617 - val_loss: 0.0026 - val_mean_squared_error: 0.0026 - val_mean_absolute_error: 0.0406\n",
            "Epoch 39/100\n",
            "8/8 [==============================] - 1s 73ms/step - loss: 0.0074 - mean_squared_error: 0.0074 - mean_absolute_error: 0.0599 - val_loss: 0.0028 - val_mean_squared_error: 0.0028 - val_mean_absolute_error: 0.0417\n",
            "Epoch 40/100\n",
            "8/8 [==============================] - 1s 79ms/step - loss: 0.0081 - mean_squared_error: 0.0081 - mean_absolute_error: 0.0629 - val_loss: 0.0026 - val_mean_squared_error: 0.0026 - val_mean_absolute_error: 0.0413\n",
            "Epoch 41/100\n",
            "8/8 [==============================] - 1s 71ms/step - loss: 0.0084 - mean_squared_error: 0.0084 - mean_absolute_error: 0.0669 - val_loss: 0.0026 - val_mean_squared_error: 0.0026 - val_mean_absolute_error: 0.0411\n",
            "Epoch 42/100\n",
            "8/8 [==============================] - 1s 79ms/step - loss: 0.0083 - mean_squared_error: 0.0083 - mean_absolute_error: 0.0643 - val_loss: 0.0026 - val_mean_squared_error: 0.0026 - val_mean_absolute_error: 0.0410\n",
            "Epoch 43/100\n",
            "8/8 [==============================] - 1s 73ms/step - loss: 0.0077 - mean_squared_error: 0.0077 - mean_absolute_error: 0.0619 - val_loss: 0.0026 - val_mean_squared_error: 0.0026 - val_mean_absolute_error: 0.0408\n",
            "Epoch 44/100\n",
            "8/8 [==============================] - 1s 80ms/step - loss: 0.0082 - mean_squared_error: 0.0082 - mean_absolute_error: 0.0627 - val_loss: 0.0027 - val_mean_squared_error: 0.0027 - val_mean_absolute_error: 0.0414\n",
            "Epoch 45/100\n",
            "8/8 [==============================] - 1s 70ms/step - loss: 0.0066 - mean_squared_error: 0.0066 - mean_absolute_error: 0.0577 - val_loss: 0.0027 - val_mean_squared_error: 0.0027 - val_mean_absolute_error: 0.0417\n",
            "Epoch 46/100\n",
            "8/8 [==============================] - 1s 71ms/step - loss: 0.0068 - mean_squared_error: 0.0068 - mean_absolute_error: 0.0591 - val_loss: 0.0028 - val_mean_squared_error: 0.0028 - val_mean_absolute_error: 0.0422\n",
            "Epoch 47/100\n",
            "8/8 [==============================] - 1s 71ms/step - loss: 0.0083 - mean_squared_error: 0.0083 - mean_absolute_error: 0.0634 - val_loss: 0.0029 - val_mean_squared_error: 0.0029 - val_mean_absolute_error: 0.0434\n",
            "Epoch 48/100\n",
            "8/8 [==============================] - 1s 82ms/step - loss: 0.0075 - mean_squared_error: 0.0075 - mean_absolute_error: 0.0611 - val_loss: 0.0027 - val_mean_squared_error: 0.0027 - val_mean_absolute_error: 0.0412\n"
          ]
        },
        {
          "output_type": "display_data",
          "data": {
            "text/plain": [
              "<IPython.core.display.HTML object>"
            ],
            "text/html": [
              "<br/>Waiting for W&B process to finish, PID 1934<br/>Program ended successfully."
            ]
          },
          "metadata": {
            "tags": []
          }
        },
        {
          "output_type": "display_data",
          "data": {
            "text/plain": [
              "VBox(children=(Label(value=' 0.59MB of 0.59MB uploaded (0.00MB deduped)\\r'), FloatProgress(value=1.0, max=1.0)…"
            ],
            "application/vnd.jupyter.widget-view+json": {
              "model_id": "0cdee6a616ed46a89546c628c7e5b6e9",
              "version_minor": 0,
              "version_major": 2
            }
          },
          "metadata": {
            "tags": []
          }
        },
        {
          "output_type": "display_data",
          "data": {
            "text/plain": [
              "<IPython.core.display.HTML object>"
            ],
            "text/html": [
              "Find user logs for this run at: <code>/content/feeder_repo/wandb/run-20210713_141629-tqhqv2qs/logs/debug.log</code>"
            ]
          },
          "metadata": {
            "tags": []
          }
        },
        {
          "output_type": "display_data",
          "data": {
            "text/plain": [
              "<IPython.core.display.HTML object>"
            ],
            "text/html": [
              "Find internal logs for this run at: <code>/content/feeder_repo/wandb/run-20210713_141629-tqhqv2qs/logs/debug-internal.log</code>"
            ]
          },
          "metadata": {
            "tags": []
          }
        },
        {
          "output_type": "display_data",
          "data": {
            "text/plain": [
              "<IPython.core.display.HTML object>"
            ],
            "text/html": [
              "<h3>Run summary:</h3><br/><style>\n",
              "    table.wandb td:nth-child(1) { padding: 0 10px; text-align: right }\n",
              "    </style><table class=\"wandb\">\n",
              "<tr><td>epoch</td><td>47</td></tr><tr><td>loss</td><td>0.00744</td></tr><tr><td>mean_squared_error</td><td>0.00744</td></tr><tr><td>mean_absolute_error</td><td>0.0607</td></tr><tr><td>val_loss</td><td>0.00269</td></tr><tr><td>val_mean_squared_error</td><td>0.00269</td></tr><tr><td>val_mean_absolute_error</td><td>0.04118</td></tr><tr><td>_runtime</td><td>38</td></tr><tr><td>_timestamp</td><td>1626185827</td></tr><tr><td>_step</td><td>47</td></tr><tr><td>best_val_loss</td><td>0.00257</td></tr><tr><td>best_epoch</td><td>37</td></tr></table>"
            ]
          },
          "metadata": {
            "tags": []
          }
        },
        {
          "output_type": "display_data",
          "data": {
            "text/plain": [
              "<IPython.core.display.HTML object>"
            ],
            "text/html": [
              "<h3>Run history:</h3><br/><style>\n",
              "    table.wandb td:nth-child(1) { padding: 0 10px; text-align: right }\n",
              "    </style><table class=\"wandb\">\n",
              "<tr><td>epoch</td><td>▁▁▁▁▂▂▂▂▂▂▃▃▃▃▃▄▄▄▄▄▅▅▅▅▅▅▆▆▆▆▆▇▇▇▇▇▇███</td></tr><tr><td>loss</td><td>█▃▂▂▂▂▂▂▂▂▂▁▂▁▁▁▁▁▁▁▁▁▁▁▁▁▁▁▁▁▁▁▁▁▁▁▁▁▁▁</td></tr><tr><td>mean_squared_error</td><td>█▃▂▂▂▂▂▂▂▂▂▁▂▁▁▁▁▁▁▁▁▁▁▁▁▁▁▁▁▁▁▁▁▁▁▁▁▁▁▁</td></tr><tr><td>mean_absolute_error</td><td>█▄▃▃▂▂▂▂▂▂▂▂▂▂▂▂▁▂▂▁▁▁▁▁▁▁▁▁▁▁▁▁▁▁▁▁▁▁▁▁</td></tr><tr><td>val_loss</td><td>█▅▃▂▂▂▁▂▁▁▁▁▁▁▁▁▂▁▁▂▁▁▁▁▁▁▁▂▂▁▁▁▁▁▁▁▁▁▁▁</td></tr><tr><td>val_mean_squared_error</td><td>█▅▃▂▂▂▁▂▁▁▁▁▁▁▁▁▂▁▁▂▁▁▁▁▁▁▁▂▂▁▁▁▁▁▁▁▁▁▁▁</td></tr><tr><td>val_mean_absolute_error</td><td>█▅▃▂▂▂▁▃▁▁▁▁▁▁▁▂▂▁▁▂▁▁▁▁▁▁▁▂▂▁▁▁▁▁▁▁▁▁▁▁</td></tr><tr><td>_runtime</td><td>▁▁▁▁▁▂▂▂▂▃▃▃▃▃▃▃▄▄▄▄▅▅▅▅▅▅▅▆▆▆▆▇▇▇▇▇▇▇██</td></tr><tr><td>_timestamp</td><td>▁▁▁▁▁▂▂▂▂▃▃▃▃▃▃▃▄▄▄▄▅▅▅▅▅▅▅▆▆▆▆▇▇▇▇▇▇▇██</td></tr><tr><td>_step</td><td>▁▁▁▁▂▂▂▂▂▂▃▃▃▃▃▄▄▄▄▄▅▅▅▅▅▅▆▆▆▆▆▇▇▇▇▇▇███</td></tr></table><br/>"
            ]
          },
          "metadata": {
            "tags": []
          }
        },
        {
          "output_type": "display_data",
          "data": {
            "text/plain": [
              "<IPython.core.display.HTML object>"
            ],
            "text/html": [
              "Synced 5 W&B file(s), 1 media file(s), 2 artifact file(s) and 2 other file(s)"
            ]
          },
          "metadata": {
            "tags": []
          }
        },
        {
          "output_type": "display_data",
          "data": {
            "text/plain": [
              "<IPython.core.display.HTML object>"
            ],
            "text/html": [
              "\n",
              "                    <br/>Synced <strong style=\"color:#cdcd00\">lucky-sweep-6</strong>: <a href=\"https://wandb.ai/acse-jaq15/ACSE_9_GRU/runs/tqhqv2qs\" target=\"_blank\">https://wandb.ai/acse-jaq15/ACSE_9_GRU/runs/tqhqv2qs</a><br/>\n",
              "                "
            ]
          },
          "metadata": {
            "tags": []
          }
        },
        {
          "output_type": "stream",
          "name": "stderr",
          "text": [
            "\u001b[34m\u001b[1mwandb\u001b[0m: Agent Starting Run: 1f3i3u8j with config:\n",
            "\u001b[34m\u001b[1mwandb\u001b[0m: \tactivation: relu\n",
            "\u001b[34m\u001b[1mwandb\u001b[0m: \tbatch_size: 64\n",
            "\u001b[34m\u001b[1mwandb\u001b[0m: \tdropout: 0.2\n",
            "\u001b[34m\u001b[1mwandb\u001b[0m: \tepochs: 200\n",
            "\u001b[34m\u001b[1mwandb\u001b[0m: \thidden_size: 100\n",
            "\u001b[34m\u001b[1mwandb\u001b[0m: \tinput_size: 100\n",
            "\u001b[34m\u001b[1mwandb\u001b[0m: \tlearning_rate: 0.0005\n",
            "\u001b[34m\u001b[1mwandb\u001b[0m: \toptimizer: nadam\n"
          ]
        },
        {
          "output_type": "display_data",
          "data": {
            "text/plain": [
              "<IPython.core.display.HTML object>"
            ],
            "text/html": [
              "\n",
              "                Tracking run with wandb version 0.10.33<br/>\n",
              "                Syncing run <strong style=\"color:#cdcd00\">still-sweep-7</strong> to <a href=\"https://wandb.ai\" target=\"_blank\">Weights & Biases</a> <a href=\"https://docs.wandb.com/integrations/jupyter.html\" target=\"_blank\">(Documentation)</a>.<br/>\n",
              "                Project page: <a href=\"https://wandb.ai/acse-jaq15/ACSE_9_GRU\" target=\"_blank\">https://wandb.ai/acse-jaq15/ACSE_9_GRU</a><br/>\n",
              "                Sweep page: <a href=\"https://wandb.ai/acse-jaq15/ACSE_9_GRU/sweeps/znsj9bl4\" target=\"_blank\">https://wandb.ai/acse-jaq15/ACSE_9_GRU/sweeps/znsj9bl4</a><br/>\n",
              "Run page: <a href=\"https://wandb.ai/acse-jaq15/ACSE_9_GRU/runs/1f3i3u8j\" target=\"_blank\">https://wandb.ai/acse-jaq15/ACSE_9_GRU/runs/1f3i3u8j</a><br/>\n",
              "                Run data is saved locally in <code>/content/feeder_repo/wandb/run-20210713_141726-1f3i3u8j</code><br/><br/>\n",
              "            "
            ]
          },
          "metadata": {
            "tags": []
          }
        },
        {
          "output_type": "stream",
          "name": "stdout",
          "text": [
            "WARNING:tensorflow:Layer gru will not use cuDNN kernels since it doesn't meet the criteria. It will use a generic GPU kernel as fallback when running on GPU.\n",
            "Epoch 1/200\n",
            "16/16 [==============================] - 6s 126ms/step - loss: 0.1359 - mean_squared_error: 0.1359 - mean_absolute_error: 0.2893 - val_loss: 0.0111 - val_mean_squared_error: 0.0111 - val_mean_absolute_error: 0.0905\n",
            "Epoch 2/200\n",
            "16/16 [==============================] - 1s 73ms/step - loss: 0.0069 - mean_squared_error: 0.0069 - mean_absolute_error: 0.0694 - val_loss: 0.0035 - val_mean_squared_error: 0.0035 - val_mean_absolute_error: 0.0474\n",
            "Epoch 3/200\n",
            "16/16 [==============================] - 1s 72ms/step - loss: 0.0033 - mean_squared_error: 0.0033 - mean_absolute_error: 0.0423 - val_loss: 0.0031 - val_mean_squared_error: 0.0031 - val_mean_absolute_error: 0.0445\n",
            "Epoch 4/200\n",
            "16/16 [==============================] - 1s 69ms/step - loss: 0.0028 - mean_squared_error: 0.0028 - mean_absolute_error: 0.0389 - val_loss: 0.0034 - val_mean_squared_error: 0.0034 - val_mean_absolute_error: 0.0462\n",
            "Epoch 5/200\n",
            "16/16 [==============================] - 1s 69ms/step - loss: 0.0026 - mean_squared_error: 0.0026 - mean_absolute_error: 0.0372 - val_loss: 0.0030 - val_mean_squared_error: 0.0030 - val_mean_absolute_error: 0.0442\n",
            "Epoch 6/200\n",
            "16/16 [==============================] - 1s 71ms/step - loss: 0.0024 - mean_squared_error: 0.0024 - mean_absolute_error: 0.0355 - val_loss: 0.0030 - val_mean_squared_error: 0.0030 - val_mean_absolute_error: 0.0440\n",
            "Epoch 7/200\n",
            "16/16 [==============================] - 1s 75ms/step - loss: 0.0030 - mean_squared_error: 0.0030 - mean_absolute_error: 0.0401 - val_loss: 0.0030 - val_mean_squared_error: 0.0030 - val_mean_absolute_error: 0.0441\n",
            "Epoch 8/200\n",
            "16/16 [==============================] - 1s 68ms/step - loss: 0.0028 - mean_squared_error: 0.0028 - mean_absolute_error: 0.0388 - val_loss: 0.0029 - val_mean_squared_error: 0.0029 - val_mean_absolute_error: 0.0433\n",
            "Epoch 9/200\n",
            "16/16 [==============================] - 1s 72ms/step - loss: 0.0027 - mean_squared_error: 0.0027 - mean_absolute_error: 0.0378 - val_loss: 0.0031 - val_mean_squared_error: 0.0031 - val_mean_absolute_error: 0.0446\n",
            "Epoch 10/200\n",
            "16/16 [==============================] - 1s 72ms/step - loss: 0.0025 - mean_squared_error: 0.0025 - mean_absolute_error: 0.0365 - val_loss: 0.0037 - val_mean_squared_error: 0.0037 - val_mean_absolute_error: 0.0481\n",
            "Epoch 11/200\n",
            "16/16 [==============================] - 1s 71ms/step - loss: 0.0024 - mean_squared_error: 0.0024 - mean_absolute_error: 0.0366 - val_loss: 0.0028 - val_mean_squared_error: 0.0028 - val_mean_absolute_error: 0.0427\n",
            "Epoch 12/200\n",
            "16/16 [==============================] - 1s 72ms/step - loss: 0.0023 - mean_squared_error: 0.0023 - mean_absolute_error: 0.0360 - val_loss: 0.0033 - val_mean_squared_error: 0.0033 - val_mean_absolute_error: 0.0454\n",
            "Epoch 13/200\n",
            "16/16 [==============================] - 1s 71ms/step - loss: 0.0024 - mean_squared_error: 0.0024 - mean_absolute_error: 0.0353 - val_loss: 0.0029 - val_mean_squared_error: 0.0029 - val_mean_absolute_error: 0.0432\n",
            "Epoch 14/200\n",
            "16/16 [==============================] - 1s 71ms/step - loss: 0.0020 - mean_squared_error: 0.0020 - mean_absolute_error: 0.0341 - val_loss: 0.0028 - val_mean_squared_error: 0.0028 - val_mean_absolute_error: 0.0424\n",
            "Epoch 15/200\n",
            "16/16 [==============================] - 1s 75ms/step - loss: 0.0023 - mean_squared_error: 0.0023 - mean_absolute_error: 0.0359 - val_loss: 0.0027 - val_mean_squared_error: 0.0027 - val_mean_absolute_error: 0.0419\n",
            "Epoch 16/200\n",
            "16/16 [==============================] - 1s 71ms/step - loss: 0.0022 - mean_squared_error: 0.0022 - mean_absolute_error: 0.0354 - val_loss: 0.0027 - val_mean_squared_error: 0.0027 - val_mean_absolute_error: 0.0423\n",
            "Epoch 17/200\n",
            "16/16 [==============================] - 1s 69ms/step - loss: 0.0024 - mean_squared_error: 0.0024 - mean_absolute_error: 0.0355 - val_loss: 0.0035 - val_mean_squared_error: 0.0035 - val_mean_absolute_error: 0.0468\n",
            "Epoch 18/200\n",
            "16/16 [==============================] - 1s 69ms/step - loss: 0.0020 - mean_squared_error: 0.0020 - mean_absolute_error: 0.0337 - val_loss: 0.0027 - val_mean_squared_error: 0.0027 - val_mean_absolute_error: 0.0418\n",
            "Epoch 19/200\n",
            "16/16 [==============================] - 1s 70ms/step - loss: 0.0022 - mean_squared_error: 0.0022 - mean_absolute_error: 0.0347 - val_loss: 0.0027 - val_mean_squared_error: 0.0027 - val_mean_absolute_error: 0.0412\n",
            "Epoch 20/200\n",
            "16/16 [==============================] - 1s 68ms/step - loss: 0.0018 - mean_squared_error: 0.0018 - mean_absolute_error: 0.0311 - val_loss: 0.0025 - val_mean_squared_error: 0.0025 - val_mean_absolute_error: 0.0404\n",
            "Epoch 21/200\n",
            "16/16 [==============================] - 1s 70ms/step - loss: 0.0022 - mean_squared_error: 0.0022 - mean_absolute_error: 0.0347 - val_loss: 0.0026 - val_mean_squared_error: 0.0026 - val_mean_absolute_error: 0.0405\n",
            "Epoch 22/200\n",
            "16/16 [==============================] - 1s 73ms/step - loss: 0.0018 - mean_squared_error: 0.0018 - mean_absolute_error: 0.0316 - val_loss: 0.0025 - val_mean_squared_error: 0.0025 - val_mean_absolute_error: 0.0400\n",
            "Epoch 23/200\n",
            "16/16 [==============================] - 1s 70ms/step - loss: 0.0021 - mean_squared_error: 0.0021 - mean_absolute_error: 0.0343 - val_loss: 0.0036 - val_mean_squared_error: 0.0036 - val_mean_absolute_error: 0.0471\n",
            "Epoch 24/200\n",
            "16/16 [==============================] - 1s 78ms/step - loss: 0.0027 - mean_squared_error: 0.0027 - mean_absolute_error: 0.0376 - val_loss: 0.0033 - val_mean_squared_error: 0.0033 - val_mean_absolute_error: 0.0450\n",
            "Epoch 25/200\n",
            "16/16 [==============================] - 1s 75ms/step - loss: 0.0021 - mean_squared_error: 0.0021 - mean_absolute_error: 0.0337 - val_loss: 0.0027 - val_mean_squared_error: 0.0027 - val_mean_absolute_error: 0.0412\n",
            "Epoch 26/200\n",
            "16/16 [==============================] - 1s 68ms/step - loss: 0.0018 - mean_squared_error: 0.0018 - mean_absolute_error: 0.0323 - val_loss: 0.0033 - val_mean_squared_error: 0.0033 - val_mean_absolute_error: 0.0449\n",
            "Epoch 27/200\n",
            "16/16 [==============================] - 1s 69ms/step - loss: 0.0021 - mean_squared_error: 0.0021 - mean_absolute_error: 0.0328 - val_loss: 0.0027 - val_mean_squared_error: 0.0027 - val_mean_absolute_error: 0.0413\n",
            "Epoch 28/200\n",
            "16/16 [==============================] - 1s 74ms/step - loss: 0.0018 - mean_squared_error: 0.0018 - mean_absolute_error: 0.0316 - val_loss: 0.0023 - val_mean_squared_error: 0.0023 - val_mean_absolute_error: 0.0385\n",
            "Epoch 29/200\n",
            "16/16 [==============================] - 1s 74ms/step - loss: 0.0021 - mean_squared_error: 0.0021 - mean_absolute_error: 0.0333 - val_loss: 0.0024 - val_mean_squared_error: 0.0024 - val_mean_absolute_error: 0.0392\n",
            "Epoch 30/200\n",
            "16/16 [==============================] - 1s 75ms/step - loss: 0.0019 - mean_squared_error: 0.0019 - mean_absolute_error: 0.0319 - val_loss: 0.0023 - val_mean_squared_error: 0.0023 - val_mean_absolute_error: 0.0385\n",
            "Epoch 31/200\n",
            "16/16 [==============================] - 1s 76ms/step - loss: 0.0018 - mean_squared_error: 0.0018 - mean_absolute_error: 0.0315 - val_loss: 0.0023 - val_mean_squared_error: 0.0023 - val_mean_absolute_error: 0.0384\n",
            "Epoch 32/200\n",
            "16/16 [==============================] - 1s 73ms/step - loss: 0.0020 - mean_squared_error: 0.0020 - mean_absolute_error: 0.0336 - val_loss: 0.0023 - val_mean_squared_error: 0.0023 - val_mean_absolute_error: 0.0381\n",
            "Epoch 33/200\n",
            "16/16 [==============================] - 1s 73ms/step - loss: 0.0020 - mean_squared_error: 0.0020 - mean_absolute_error: 0.0329 - val_loss: 0.0024 - val_mean_squared_error: 0.0024 - val_mean_absolute_error: 0.0390\n",
            "Epoch 34/200\n",
            "16/16 [==============================] - 1s 70ms/step - loss: 0.0018 - mean_squared_error: 0.0018 - mean_absolute_error: 0.0319 - val_loss: 0.0024 - val_mean_squared_error: 0.0024 - val_mean_absolute_error: 0.0389\n",
            "Epoch 35/200\n",
            "16/16 [==============================] - 1s 71ms/step - loss: 0.0025 - mean_squared_error: 0.0025 - mean_absolute_error: 0.0369 - val_loss: 0.0024 - val_mean_squared_error: 0.0024 - val_mean_absolute_error: 0.0389\n",
            "Epoch 36/200\n",
            "16/16 [==============================] - 1s 71ms/step - loss: 0.0020 - mean_squared_error: 0.0020 - mean_absolute_error: 0.0318 - val_loss: 0.0022 - val_mean_squared_error: 0.0022 - val_mean_absolute_error: 0.0372\n",
            "Epoch 37/200\n",
            "16/16 [==============================] - 1s 71ms/step - loss: 0.0018 - mean_squared_error: 0.0018 - mean_absolute_error: 0.0316 - val_loss: 0.0022 - val_mean_squared_error: 0.0022 - val_mean_absolute_error: 0.0378\n",
            "Epoch 38/200\n",
            "16/16 [==============================] - 1s 71ms/step - loss: 0.0021 - mean_squared_error: 0.0021 - mean_absolute_error: 0.0330 - val_loss: 0.0021 - val_mean_squared_error: 0.0021 - val_mean_absolute_error: 0.0369\n",
            "Epoch 39/200\n",
            "16/16 [==============================] - 1s 76ms/step - loss: 0.0014 - mean_squared_error: 0.0014 - mean_absolute_error: 0.0280 - val_loss: 0.0027 - val_mean_squared_error: 0.0027 - val_mean_absolute_error: 0.0410\n",
            "Epoch 40/200\n",
            "16/16 [==============================] - 1s 71ms/step - loss: 0.0017 - mean_squared_error: 0.0017 - mean_absolute_error: 0.0314 - val_loss: 0.0022 - val_mean_squared_error: 0.0022 - val_mean_absolute_error: 0.0375\n",
            "Epoch 41/200\n",
            "16/16 [==============================] - 1s 72ms/step - loss: 0.0018 - mean_squared_error: 0.0018 - mean_absolute_error: 0.0315 - val_loss: 0.0021 - val_mean_squared_error: 0.0021 - val_mean_absolute_error: 0.0362\n",
            "Epoch 42/200\n",
            "16/16 [==============================] - 1s 71ms/step - loss: 0.0017 - mean_squared_error: 0.0017 - mean_absolute_error: 0.0306 - val_loss: 0.0025 - val_mean_squared_error: 0.0025 - val_mean_absolute_error: 0.0394\n",
            "Epoch 43/200\n",
            "16/16 [==============================] - 1s 74ms/step - loss: 0.0017 - mean_squared_error: 0.0017 - mean_absolute_error: 0.0312 - val_loss: 0.0023 - val_mean_squared_error: 0.0023 - val_mean_absolute_error: 0.0387\n",
            "Epoch 44/200\n",
            "16/16 [==============================] - 1s 69ms/step - loss: 0.0018 - mean_squared_error: 0.0018 - mean_absolute_error: 0.0307 - val_loss: 0.0020 - val_mean_squared_error: 0.0020 - val_mean_absolute_error: 0.0361\n",
            "Epoch 45/200\n",
            "16/16 [==============================] - 1s 71ms/step - loss: 0.0019 - mean_squared_error: 0.0019 - mean_absolute_error: 0.0325 - val_loss: 0.0020 - val_mean_squared_error: 0.0020 - val_mean_absolute_error: 0.0361\n",
            "Epoch 46/200\n",
            "16/16 [==============================] - 1s 75ms/step - loss: 0.0019 - mean_squared_error: 0.0019 - mean_absolute_error: 0.0328 - val_loss: 0.0021 - val_mean_squared_error: 0.0021 - val_mean_absolute_error: 0.0366\n",
            "Epoch 47/200\n",
            "16/16 [==============================] - 1s 73ms/step - loss: 0.0016 - mean_squared_error: 0.0016 - mean_absolute_error: 0.0298 - val_loss: 0.0019 - val_mean_squared_error: 0.0019 - val_mean_absolute_error: 0.0353\n",
            "Epoch 48/200\n",
            "16/16 [==============================] - 1s 77ms/step - loss: 0.0015 - mean_squared_error: 0.0015 - mean_absolute_error: 0.0291 - val_loss: 0.0021 - val_mean_squared_error: 0.0021 - val_mean_absolute_error: 0.0365\n",
            "Epoch 49/200\n",
            "16/16 [==============================] - 1s 69ms/step - loss: 0.0015 - mean_squared_error: 0.0015 - mean_absolute_error: 0.0289 - val_loss: 0.0019 - val_mean_squared_error: 0.0019 - val_mean_absolute_error: 0.0348\n",
            "Epoch 50/200\n",
            "16/16 [==============================] - 1s 72ms/step - loss: 0.0018 - mean_squared_error: 0.0018 - mean_absolute_error: 0.0304 - val_loss: 0.0021 - val_mean_squared_error: 0.0021 - val_mean_absolute_error: 0.0371\n",
            "Epoch 51/200\n",
            "16/16 [==============================] - 1s 75ms/step - loss: 0.0015 - mean_squared_error: 0.0015 - mean_absolute_error: 0.0292 - val_loss: 0.0023 - val_mean_squared_error: 0.0023 - val_mean_absolute_error: 0.0377\n",
            "Epoch 52/200\n",
            "16/16 [==============================] - 1s 74ms/step - loss: 0.0016 - mean_squared_error: 0.0016 - mean_absolute_error: 0.0289 - val_loss: 0.0019 - val_mean_squared_error: 0.0019 - val_mean_absolute_error: 0.0351\n",
            "Epoch 53/200\n",
            "16/16 [==============================] - 1s 72ms/step - loss: 0.0017 - mean_squared_error: 0.0017 - mean_absolute_error: 0.0304 - val_loss: 0.0020 - val_mean_squared_error: 0.0020 - val_mean_absolute_error: 0.0352\n",
            "Epoch 54/200\n",
            "16/16 [==============================] - 1s 70ms/step - loss: 0.0016 - mean_squared_error: 0.0016 - mean_absolute_error: 0.0299 - val_loss: 0.0021 - val_mean_squared_error: 0.0021 - val_mean_absolute_error: 0.0366\n",
            "Epoch 55/200\n",
            "16/16 [==============================] - 1s 71ms/step - loss: 0.0017 - mean_squared_error: 0.0017 - mean_absolute_error: 0.0296 - val_loss: 0.0020 - val_mean_squared_error: 0.0020 - val_mean_absolute_error: 0.0360\n",
            "Epoch 56/200\n",
            "16/16 [==============================] - 1s 74ms/step - loss: 0.0017 - mean_squared_error: 0.0017 - mean_absolute_error: 0.0300 - val_loss: 0.0019 - val_mean_squared_error: 0.0019 - val_mean_absolute_error: 0.0347\n",
            "Epoch 57/200\n",
            "16/16 [==============================] - 1s 75ms/step - loss: 0.0019 - mean_squared_error: 0.0019 - mean_absolute_error: 0.0320 - val_loss: 0.0019 - val_mean_squared_error: 0.0019 - val_mean_absolute_error: 0.0348\n",
            "Epoch 58/200\n",
            "16/16 [==============================] - 1s 74ms/step - loss: 0.0016 - mean_squared_error: 0.0016 - mean_absolute_error: 0.0286 - val_loss: 0.0018 - val_mean_squared_error: 0.0018 - val_mean_absolute_error: 0.0341\n",
            "Epoch 59/200\n",
            "16/16 [==============================] - 1s 74ms/step - loss: 0.0020 - mean_squared_error: 0.0020 - mean_absolute_error: 0.0329 - val_loss: 0.0027 - val_mean_squared_error: 0.0027 - val_mean_absolute_error: 0.0409\n",
            "Epoch 60/200\n",
            "16/16 [==============================] - 1s 71ms/step - loss: 0.0016 - mean_squared_error: 0.0016 - mean_absolute_error: 0.0301 - val_loss: 0.0026 - val_mean_squared_error: 0.0026 - val_mean_absolute_error: 0.0403\n",
            "Epoch 61/200\n",
            "16/16 [==============================] - 1s 69ms/step - loss: 0.0017 - mean_squared_error: 0.0017 - mean_absolute_error: 0.0305 - val_loss: 0.0024 - val_mean_squared_error: 0.0024 - val_mean_absolute_error: 0.0386\n",
            "Epoch 62/200\n",
            "16/16 [==============================] - 1s 70ms/step - loss: 0.0017 - mean_squared_error: 0.0017 - mean_absolute_error: 0.0304 - val_loss: 0.0019 - val_mean_squared_error: 0.0019 - val_mean_absolute_error: 0.0346\n",
            "Epoch 63/200\n",
            "16/16 [==============================] - 1s 73ms/step - loss: 0.0017 - mean_squared_error: 0.0017 - mean_absolute_error: 0.0307 - val_loss: 0.0023 - val_mean_squared_error: 0.0023 - val_mean_absolute_error: 0.0380\n",
            "Epoch 64/200\n",
            "16/16 [==============================] - 1s 70ms/step - loss: 0.0017 - mean_squared_error: 0.0017 - mean_absolute_error: 0.0314 - val_loss: 0.0019 - val_mean_squared_error: 0.0019 - val_mean_absolute_error: 0.0346\n",
            "Epoch 65/200\n",
            "16/16 [==============================] - 1s 72ms/step - loss: 0.0018 - mean_squared_error: 0.0018 - mean_absolute_error: 0.0315 - val_loss: 0.0019 - val_mean_squared_error: 0.0019 - val_mean_absolute_error: 0.0350\n",
            "Epoch 66/200\n",
            "16/16 [==============================] - 1s 73ms/step - loss: 0.0014 - mean_squared_error: 0.0014 - mean_absolute_error: 0.0286 - val_loss: 0.0017 - val_mean_squared_error: 0.0017 - val_mean_absolute_error: 0.0332\n",
            "Epoch 67/200\n",
            "16/16 [==============================] - 1s 71ms/step - loss: 0.0016 - mean_squared_error: 0.0016 - mean_absolute_error: 0.0290 - val_loss: 0.0018 - val_mean_squared_error: 0.0018 - val_mean_absolute_error: 0.0339\n",
            "Epoch 68/200\n",
            "16/16 [==============================] - 1s 71ms/step - loss: 0.0016 - mean_squared_error: 0.0016 - mean_absolute_error: 0.0303 - val_loss: 0.0020 - val_mean_squared_error: 0.0020 - val_mean_absolute_error: 0.0358\n",
            "Epoch 69/200\n",
            "16/16 [==============================] - 1s 71ms/step - loss: 0.0023 - mean_squared_error: 0.0023 - mean_absolute_error: 0.0345 - val_loss: 0.0020 - val_mean_squared_error: 0.0020 - val_mean_absolute_error: 0.0354\n",
            "Epoch 70/200\n",
            "16/16 [==============================] - 1s 72ms/step - loss: 0.0018 - mean_squared_error: 0.0018 - mean_absolute_error: 0.0320 - val_loss: 0.0035 - val_mean_squared_error: 0.0035 - val_mean_absolute_error: 0.0469\n",
            "Epoch 71/200\n",
            "16/16 [==============================] - 1s 74ms/step - loss: 0.0019 - mean_squared_error: 0.0019 - mean_absolute_error: 0.0326 - val_loss: 0.0026 - val_mean_squared_error: 0.0026 - val_mean_absolute_error: 0.0398\n",
            "Epoch 72/200\n",
            "16/16 [==============================] - 1s 75ms/step - loss: 0.0019 - mean_squared_error: 0.0019 - mean_absolute_error: 0.0317 - val_loss: 0.0018 - val_mean_squared_error: 0.0018 - val_mean_absolute_error: 0.0340\n",
            "Epoch 73/200\n",
            "16/16 [==============================] - 1s 69ms/step - loss: 0.0015 - mean_squared_error: 0.0015 - mean_absolute_error: 0.0291 - val_loss: 0.0017 - val_mean_squared_error: 0.0017 - val_mean_absolute_error: 0.0330\n",
            "Epoch 74/200\n",
            "16/16 [==============================] - 1s 76ms/step - loss: 0.0016 - mean_squared_error: 0.0016 - mean_absolute_error: 0.0300 - val_loss: 0.0017 - val_mean_squared_error: 0.0017 - val_mean_absolute_error: 0.0336\n",
            "Epoch 75/200\n",
            "16/16 [==============================] - 1s 73ms/step - loss: 0.0014 - mean_squared_error: 0.0014 - mean_absolute_error: 0.0278 - val_loss: 0.0019 - val_mean_squared_error: 0.0019 - val_mean_absolute_error: 0.0343\n",
            "Epoch 76/200\n",
            "16/16 [==============================] - 1s 70ms/step - loss: 0.0015 - mean_squared_error: 0.0015 - mean_absolute_error: 0.0277 - val_loss: 0.0017 - val_mean_squared_error: 0.0017 - val_mean_absolute_error: 0.0332\n",
            "Epoch 77/200\n",
            "16/16 [==============================] - 1s 74ms/step - loss: 0.0014 - mean_squared_error: 0.0014 - mean_absolute_error: 0.0275 - val_loss: 0.0018 - val_mean_squared_error: 0.0018 - val_mean_absolute_error: 0.0339\n",
            "Epoch 78/200\n",
            "16/16 [==============================] - 1s 71ms/step - loss: 0.0016 - mean_squared_error: 0.0016 - mean_absolute_error: 0.0294 - val_loss: 0.0017 - val_mean_squared_error: 0.0017 - val_mean_absolute_error: 0.0329\n",
            "Epoch 79/200\n",
            "16/16 [==============================] - 1s 71ms/step - loss: 0.0016 - mean_squared_error: 0.0016 - mean_absolute_error: 0.0295 - val_loss: 0.0019 - val_mean_squared_error: 0.0019 - val_mean_absolute_error: 0.0349\n",
            "Epoch 80/200\n",
            "16/16 [==============================] - 1s 74ms/step - loss: 0.0015 - mean_squared_error: 0.0015 - mean_absolute_error: 0.0292 - val_loss: 0.0019 - val_mean_squared_error: 0.0019 - val_mean_absolute_error: 0.0347\n",
            "Epoch 81/200\n",
            "16/16 [==============================] - 1s 75ms/step - loss: 0.0016 - mean_squared_error: 0.0016 - mean_absolute_error: 0.0293 - val_loss: 0.0017 - val_mean_squared_error: 0.0017 - val_mean_absolute_error: 0.0332\n",
            "Epoch 82/200\n",
            "16/16 [==============================] - 1s 73ms/step - loss: 0.0014 - mean_squared_error: 0.0014 - mean_absolute_error: 0.0271 - val_loss: 0.0018 - val_mean_squared_error: 0.0018 - val_mean_absolute_error: 0.0336\n",
            "Epoch 83/200\n",
            "16/16 [==============================] - 1s 78ms/step - loss: 0.0015 - mean_squared_error: 0.0015 - mean_absolute_error: 0.0298 - val_loss: 0.0018 - val_mean_squared_error: 0.0018 - val_mean_absolute_error: 0.0339\n"
          ]
        },
        {
          "output_type": "display_data",
          "data": {
            "text/plain": [
              "<IPython.core.display.HTML object>"
            ],
            "text/html": [
              "<br/>Waiting for W&B process to finish, PID 2143<br/>Program ended successfully."
            ]
          },
          "metadata": {
            "tags": []
          }
        },
        {
          "output_type": "display_data",
          "data": {
            "text/plain": [
              "VBox(children=(Label(value=' 1.51MB of 1.51MB uploaded (0.00MB deduped)\\r'), FloatProgress(value=1.0, max=1.0)…"
            ],
            "application/vnd.jupyter.widget-view+json": {
              "model_id": "41db82c7c58c4781a0fa3636d41fb945",
              "version_minor": 0,
              "version_major": 2
            }
          },
          "metadata": {
            "tags": []
          }
        },
        {
          "output_type": "display_data",
          "data": {
            "text/plain": [
              "<IPython.core.display.HTML object>"
            ],
            "text/html": [
              "Find user logs for this run at: <code>/content/feeder_repo/wandb/run-20210713_141726-1f3i3u8j/logs/debug.log</code>"
            ]
          },
          "metadata": {
            "tags": []
          }
        },
        {
          "output_type": "display_data",
          "data": {
            "text/plain": [
              "<IPython.core.display.HTML object>"
            ],
            "text/html": [
              "Find internal logs for this run at: <code>/content/feeder_repo/wandb/run-20210713_141726-1f3i3u8j/logs/debug-internal.log</code>"
            ]
          },
          "metadata": {
            "tags": []
          }
        },
        {
          "output_type": "display_data",
          "data": {
            "text/plain": [
              "<IPython.core.display.HTML object>"
            ],
            "text/html": [
              "<h3>Run summary:</h3><br/><style>\n",
              "    table.wandb td:nth-child(1) { padding: 0 10px; text-align: right }\n",
              "    </style><table class=\"wandb\">\n",
              "<tr><td>epoch</td><td>82</td></tr><tr><td>loss</td><td>0.00167</td></tr><tr><td>mean_squared_error</td><td>0.00167</td></tr><tr><td>mean_absolute_error</td><td>0.03022</td></tr><tr><td>val_loss</td><td>0.00179</td></tr><tr><td>val_mean_squared_error</td><td>0.00179</td></tr><tr><td>val_mean_absolute_error</td><td>0.03387</td></tr><tr><td>_runtime</td><td>106</td></tr><tr><td>_timestamp</td><td>1626185952</td></tr><tr><td>_step</td><td>82</td></tr><tr><td>best_val_loss</td><td>0.0017</td></tr><tr><td>best_epoch</td><td>72</td></tr></table>"
            ]
          },
          "metadata": {
            "tags": []
          }
        },
        {
          "output_type": "display_data",
          "data": {
            "text/plain": [
              "<IPython.core.display.HTML object>"
            ],
            "text/html": [
              "<h3>Run history:</h3><br/><style>\n",
              "    table.wandb td:nth-child(1) { padding: 0 10px; text-align: right }\n",
              "    </style><table class=\"wandb\">\n",
              "<tr><td>epoch</td><td>▁▁▁▂▂▂▂▂▂▃▃▃▃▃▃▄▄▄▄▄▅▅▅▅▅▅▆▆▆▆▆▇▇▇▇▇▇███</td></tr><tr><td>loss</td><td>█▁▁▁▁▁▁▁▁▁▁▁▁▁▁▁▁▁▁▁▁▁▁▁▁▁▁▁▁▁▁▁▁▁▁▁▁▁▁▁</td></tr><tr><td>mean_squared_error</td><td>█▁▁▁▁▁▁▁▁▁▁▁▁▁▁▁▁▁▁▁▁▁▁▁▁▁▁▁▁▁▁▁▁▁▁▁▁▁▁▁</td></tr><tr><td>mean_absolute_error</td><td>█▂▁▁▁▁▁▁▁▁▁▁▁▁▁▁▁▁▁▁▁▁▁▁▁▁▁▁▁▁▁▁▁▁▁▁▁▁▁▁</td></tr><tr><td>val_loss</td><td>█▂▂▂▂▂▂▂▂▂▂▂▂▁▁▁▂▁▁▁▁▁▁▁▁▁▁▁▂▂▁▁▁▂▁▁▁▁▁▁</td></tr><tr><td>val_mean_squared_error</td><td>█▂▂▂▂▂▂▂▂▂▂▂▂▁▁▁▂▁▁▁▁▁▁▁▁▁▁▁▂▂▁▁▁▂▁▁▁▁▁▁</td></tr><tr><td>val_mean_absolute_error</td><td>█▂▂▂▂▂▂▂▃▂▂▂▂▂▂▂▂▂▁▂▂▁▁▁▂▁▁▁▂▂▁▁▁▃▁▁▁▁▁▁</td></tr><tr><td>_runtime</td><td>▁▁▁▂▂▂▂▂▂▃▃▃▃▃▃▄▄▄▄▄▅▅▅▅▅▅▆▆▆▆▆▇▇▇▇▇▇███</td></tr><tr><td>_timestamp</td><td>▁▁▁▂▂▂▂▂▂▃▃▃▃▃▃▄▄▄▄▄▅▅▅▅▅▅▆▆▆▆▆▇▇▇▇▇▇███</td></tr><tr><td>_step</td><td>▁▁▁▂▂▂▂▂▂▃▃▃▃▃▃▄▄▄▄▄▅▅▅▅▅▅▆▆▆▆▆▇▇▇▇▇▇███</td></tr></table><br/>"
            ]
          },
          "metadata": {
            "tags": []
          }
        },
        {
          "output_type": "display_data",
          "data": {
            "text/plain": [
              "<IPython.core.display.HTML object>"
            ],
            "text/html": [
              "Synced 5 W&B file(s), 1 media file(s), 2 artifact file(s) and 2 other file(s)"
            ]
          },
          "metadata": {
            "tags": []
          }
        },
        {
          "output_type": "display_data",
          "data": {
            "text/plain": [
              "<IPython.core.display.HTML object>"
            ],
            "text/html": [
              "\n",
              "                    <br/>Synced <strong style=\"color:#cdcd00\">still-sweep-7</strong>: <a href=\"https://wandb.ai/acse-jaq15/ACSE_9_GRU/runs/1f3i3u8j\" target=\"_blank\">https://wandb.ai/acse-jaq15/ACSE_9_GRU/runs/1f3i3u8j</a><br/>\n",
              "                "
            ]
          },
          "metadata": {
            "tags": []
          }
        },
        {
          "output_type": "stream",
          "name": "stderr",
          "text": [
            "\u001b[34m\u001b[1mwandb\u001b[0m: Agent Starting Run: 5cu18drl with config:\n",
            "\u001b[34m\u001b[1mwandb\u001b[0m: \tactivation: relu\n",
            "\u001b[34m\u001b[1mwandb\u001b[0m: \tbatch_size: 32\n",
            "\u001b[34m\u001b[1mwandb\u001b[0m: \tdropout: 0.2\n",
            "\u001b[34m\u001b[1mwandb\u001b[0m: \tepochs: 100\n",
            "\u001b[34m\u001b[1mwandb\u001b[0m: \thidden_size: 50\n",
            "\u001b[34m\u001b[1mwandb\u001b[0m: \tinput_size: 50\n",
            "\u001b[34m\u001b[1mwandb\u001b[0m: \tlearning_rate: 0.0005\n",
            "\u001b[34m\u001b[1mwandb\u001b[0m: \toptimizer: adam\n"
          ]
        },
        {
          "output_type": "display_data",
          "data": {
            "text/plain": [
              "<IPython.core.display.HTML object>"
            ],
            "text/html": [
              "\n",
              "                Tracking run with wandb version 0.10.33<br/>\n",
              "                Syncing run <strong style=\"color:#cdcd00\">vocal-sweep-8</strong> to <a href=\"https://wandb.ai\" target=\"_blank\">Weights & Biases</a> <a href=\"https://docs.wandb.com/integrations/jupyter.html\" target=\"_blank\">(Documentation)</a>.<br/>\n",
              "                Project page: <a href=\"https://wandb.ai/acse-jaq15/ACSE_9_GRU\" target=\"_blank\">https://wandb.ai/acse-jaq15/ACSE_9_GRU</a><br/>\n",
              "                Sweep page: <a href=\"https://wandb.ai/acse-jaq15/ACSE_9_GRU/sweeps/znsj9bl4\" target=\"_blank\">https://wandb.ai/acse-jaq15/ACSE_9_GRU/sweeps/znsj9bl4</a><br/>\n",
              "Run page: <a href=\"https://wandb.ai/acse-jaq15/ACSE_9_GRU/runs/5cu18drl\" target=\"_blank\">https://wandb.ai/acse-jaq15/ACSE_9_GRU/runs/5cu18drl</a><br/>\n",
              "                Run data is saved locally in <code>/content/feeder_repo/wandb/run-20210713_142004-5cu18drl</code><br/><br/>\n",
              "            "
            ]
          },
          "metadata": {
            "tags": []
          }
        },
        {
          "output_type": "stream",
          "name": "stdout",
          "text": [
            "WARNING:tensorflow:Layer gru will not use cuDNN kernels since it doesn't meet the criteria. It will use a generic GPU kernel as fallback when running on GPU.\n",
            "Epoch 1/100\n",
            "32/32 [==============================] - 6s 99ms/step - loss: 0.1394 - mean_squared_error: 0.1394 - mean_absolute_error: 0.2873 - val_loss: 0.0157 - val_mean_squared_error: 0.0157 - val_mean_absolute_error: 0.1093\n",
            "Epoch 2/100\n",
            "32/32 [==============================] - 2s 68ms/step - loss: 0.0137 - mean_squared_error: 0.0137 - mean_absolute_error: 0.0972 - val_loss: 0.0055 - val_mean_squared_error: 0.0055 - val_mean_absolute_error: 0.0614\n",
            "Epoch 3/100\n",
            "32/32 [==============================] - 2s 68ms/step - loss: 0.0063 - mean_squared_error: 0.0063 - mean_absolute_error: 0.0604 - val_loss: 0.0033 - val_mean_squared_error: 0.0033 - val_mean_absolute_error: 0.0458\n",
            "Epoch 4/100\n",
            "32/32 [==============================] - 2s 70ms/step - loss: 0.0050 - mean_squared_error: 0.0050 - mean_absolute_error: 0.0503 - val_loss: 0.0033 - val_mean_squared_error: 0.0033 - val_mean_absolute_error: 0.0462\n",
            "Epoch 5/100\n",
            "32/32 [==============================] - 2s 69ms/step - loss: 0.0047 - mean_squared_error: 0.0047 - mean_absolute_error: 0.0508 - val_loss: 0.0033 - val_mean_squared_error: 0.0033 - val_mean_absolute_error: 0.0458\n",
            "Epoch 6/100\n",
            "32/32 [==============================] - 2s 68ms/step - loss: 0.0047 - mean_squared_error: 0.0047 - mean_absolute_error: 0.0484 - val_loss: 0.0032 - val_mean_squared_error: 0.0032 - val_mean_absolute_error: 0.0450\n",
            "Epoch 7/100\n",
            "32/32 [==============================] - 2s 67ms/step - loss: 0.0039 - mean_squared_error: 0.0039 - mean_absolute_error: 0.0455 - val_loss: 0.0033 - val_mean_squared_error: 0.0033 - val_mean_absolute_error: 0.0456\n",
            "Epoch 8/100\n",
            "32/32 [==============================] - 2s 69ms/step - loss: 0.0044 - mean_squared_error: 0.0044 - mean_absolute_error: 0.0480 - val_loss: 0.0034 - val_mean_squared_error: 0.0034 - val_mean_absolute_error: 0.0468\n",
            "Epoch 9/100\n",
            "32/32 [==============================] - 2s 71ms/step - loss: 0.0041 - mean_squared_error: 0.0041 - mean_absolute_error: 0.0472 - val_loss: 0.0033 - val_mean_squared_error: 0.0033 - val_mean_absolute_error: 0.0460\n",
            "Epoch 10/100\n",
            "32/32 [==============================] - 2s 70ms/step - loss: 0.0041 - mean_squared_error: 0.0041 - mean_absolute_error: 0.0479 - val_loss: 0.0031 - val_mean_squared_error: 0.0031 - val_mean_absolute_error: 0.0447\n",
            "Epoch 11/100\n",
            "32/32 [==============================] - 2s 67ms/step - loss: 0.0040 - mean_squared_error: 0.0040 - mean_absolute_error: 0.0458 - val_loss: 0.0032 - val_mean_squared_error: 0.0032 - val_mean_absolute_error: 0.0451\n",
            "Epoch 12/100\n",
            "32/32 [==============================] - 2s 70ms/step - loss: 0.0040 - mean_squared_error: 0.0040 - mean_absolute_error: 0.0464 - val_loss: 0.0031 - val_mean_squared_error: 0.0031 - val_mean_absolute_error: 0.0444\n",
            "Epoch 13/100\n",
            "32/32 [==============================] - 2s 68ms/step - loss: 0.0031 - mean_squared_error: 0.0031 - mean_absolute_error: 0.0417 - val_loss: 0.0031 - val_mean_squared_error: 0.0031 - val_mean_absolute_error: 0.0445\n",
            "Epoch 14/100\n",
            "32/32 [==============================] - 2s 69ms/step - loss: 0.0034 - mean_squared_error: 0.0034 - mean_absolute_error: 0.0416 - val_loss: 0.0037 - val_mean_squared_error: 0.0037 - val_mean_absolute_error: 0.0482\n",
            "Epoch 15/100\n",
            "32/32 [==============================] - 2s 67ms/step - loss: 0.0030 - mean_squared_error: 0.0030 - mean_absolute_error: 0.0413 - val_loss: 0.0031 - val_mean_squared_error: 0.0031 - val_mean_absolute_error: 0.0445\n",
            "Epoch 16/100\n",
            "32/32 [==============================] - 2s 70ms/step - loss: 0.0038 - mean_squared_error: 0.0038 - mean_absolute_error: 0.0463 - val_loss: 0.0030 - val_mean_squared_error: 0.0030 - val_mean_absolute_error: 0.0439\n",
            "Epoch 17/100\n",
            "32/32 [==============================] - 2s 70ms/step - loss: 0.0031 - mean_squared_error: 0.0031 - mean_absolute_error: 0.0413 - val_loss: 0.0032 - val_mean_squared_error: 0.0032 - val_mean_absolute_error: 0.0448\n",
            "Epoch 18/100\n",
            "32/32 [==============================] - 2s 69ms/step - loss: 0.0030 - mean_squared_error: 0.0030 - mean_absolute_error: 0.0403 - val_loss: 0.0032 - val_mean_squared_error: 0.0032 - val_mean_absolute_error: 0.0447\n",
            "Epoch 19/100\n",
            "32/32 [==============================] - 2s 71ms/step - loss: 0.0038 - mean_squared_error: 0.0038 - mean_absolute_error: 0.0444 - val_loss: 0.0030 - val_mean_squared_error: 0.0030 - val_mean_absolute_error: 0.0436\n",
            "Epoch 20/100\n",
            "32/32 [==============================] - 2s 70ms/step - loss: 0.0028 - mean_squared_error: 0.0028 - mean_absolute_error: 0.0387 - val_loss: 0.0031 - val_mean_squared_error: 0.0031 - val_mean_absolute_error: 0.0444\n",
            "Epoch 21/100\n",
            "32/32 [==============================] - 2s 77ms/step - loss: 0.0026 - mean_squared_error: 0.0026 - mean_absolute_error: 0.0380 - val_loss: 0.0033 - val_mean_squared_error: 0.0033 - val_mean_absolute_error: 0.0458\n",
            "Epoch 22/100\n",
            "32/32 [==============================] - 2s 71ms/step - loss: 0.0034 - mean_squared_error: 0.0034 - mean_absolute_error: 0.0430 - val_loss: 0.0034 - val_mean_squared_error: 0.0034 - val_mean_absolute_error: 0.0473\n",
            "Epoch 23/100\n",
            "32/32 [==============================] - 2s 71ms/step - loss: 0.0031 - mean_squared_error: 0.0031 - mean_absolute_error: 0.0417 - val_loss: 0.0029 - val_mean_squared_error: 0.0029 - val_mean_absolute_error: 0.0433\n",
            "Epoch 24/100\n",
            "32/32 [==============================] - 2s 69ms/step - loss: 0.0034 - mean_squared_error: 0.0034 - mean_absolute_error: 0.0435 - val_loss: 0.0030 - val_mean_squared_error: 0.0030 - val_mean_absolute_error: 0.0433\n",
            "Epoch 25/100\n",
            "32/32 [==============================] - 2s 71ms/step - loss: 0.0024 - mean_squared_error: 0.0024 - mean_absolute_error: 0.0377 - val_loss: 0.0035 - val_mean_squared_error: 0.0035 - val_mean_absolute_error: 0.0465\n",
            "Epoch 26/100\n",
            "32/32 [==============================] - 2s 70ms/step - loss: 0.0030 - mean_squared_error: 0.0030 - mean_absolute_error: 0.0402 - val_loss: 0.0029 - val_mean_squared_error: 0.0029 - val_mean_absolute_error: 0.0431\n",
            "Epoch 27/100\n",
            "32/32 [==============================] - 2s 69ms/step - loss: 0.0028 - mean_squared_error: 0.0028 - mean_absolute_error: 0.0392 - val_loss: 0.0028 - val_mean_squared_error: 0.0028 - val_mean_absolute_error: 0.0426\n",
            "Epoch 28/100\n",
            "32/32 [==============================] - 2s 71ms/step - loss: 0.0027 - mean_squared_error: 0.0027 - mean_absolute_error: 0.0389 - val_loss: 0.0030 - val_mean_squared_error: 0.0030 - val_mean_absolute_error: 0.0432\n",
            "Epoch 29/100\n",
            "32/32 [==============================] - 2s 70ms/step - loss: 0.0028 - mean_squared_error: 0.0028 - mean_absolute_error: 0.0392 - val_loss: 0.0028 - val_mean_squared_error: 0.0028 - val_mean_absolute_error: 0.0428\n",
            "Epoch 30/100\n",
            "32/32 [==============================] - 2s 70ms/step - loss: 0.0026 - mean_squared_error: 0.0026 - mean_absolute_error: 0.0379 - val_loss: 0.0028 - val_mean_squared_error: 0.0028 - val_mean_absolute_error: 0.0422\n",
            "Epoch 31/100\n",
            "32/32 [==============================] - 2s 71ms/step - loss: 0.0025 - mean_squared_error: 0.0025 - mean_absolute_error: 0.0376 - val_loss: 0.0028 - val_mean_squared_error: 0.0028 - val_mean_absolute_error: 0.0425\n",
            "Epoch 32/100\n",
            "32/32 [==============================] - 2s 71ms/step - loss: 0.0027 - mean_squared_error: 0.0027 - mean_absolute_error: 0.0395 - val_loss: 0.0031 - val_mean_squared_error: 0.0031 - val_mean_absolute_error: 0.0447\n",
            "Epoch 33/100\n",
            "32/32 [==============================] - 2s 73ms/step - loss: 0.0031 - mean_squared_error: 0.0031 - mean_absolute_error: 0.0411 - val_loss: 0.0028 - val_mean_squared_error: 0.0028 - val_mean_absolute_error: 0.0421\n",
            "Epoch 34/100\n",
            "32/32 [==============================] - 2s 71ms/step - loss: 0.0026 - mean_squared_error: 0.0026 - mean_absolute_error: 0.0382 - val_loss: 0.0028 - val_mean_squared_error: 0.0028 - val_mean_absolute_error: 0.0421\n",
            "Epoch 35/100\n",
            "32/32 [==============================] - 2s 72ms/step - loss: 0.0025 - mean_squared_error: 0.0025 - mean_absolute_error: 0.0374 - val_loss: 0.0028 - val_mean_squared_error: 0.0028 - val_mean_absolute_error: 0.0420\n",
            "Epoch 36/100\n",
            "32/32 [==============================] - 2s 72ms/step - loss: 0.0026 - mean_squared_error: 0.0026 - mean_absolute_error: 0.0375 - val_loss: 0.0028 - val_mean_squared_error: 0.0028 - val_mean_absolute_error: 0.0421\n",
            "Epoch 37/100\n",
            "32/32 [==============================] - 2s 71ms/step - loss: 0.0024 - mean_squared_error: 0.0024 - mean_absolute_error: 0.0366 - val_loss: 0.0028 - val_mean_squared_error: 0.0028 - val_mean_absolute_error: 0.0420\n",
            "Epoch 38/100\n",
            "32/32 [==============================] - 2s 70ms/step - loss: 0.0025 - mean_squared_error: 0.0025 - mean_absolute_error: 0.0378 - val_loss: 0.0029 - val_mean_squared_error: 0.0029 - val_mean_absolute_error: 0.0424\n",
            "Epoch 39/100\n",
            "32/32 [==============================] - 2s 71ms/step - loss: 0.0024 - mean_squared_error: 0.0024 - mean_absolute_error: 0.0368 - val_loss: 0.0028 - val_mean_squared_error: 0.0028 - val_mean_absolute_error: 0.0428\n",
            "Epoch 40/100\n",
            "32/32 [==============================] - 2s 74ms/step - loss: 0.0027 - mean_squared_error: 0.0027 - mean_absolute_error: 0.0380 - val_loss: 0.0027 - val_mean_squared_error: 0.0027 - val_mean_absolute_error: 0.0418\n",
            "Epoch 41/100\n",
            "32/32 [==============================] - 2s 68ms/step - loss: 0.0028 - mean_squared_error: 0.0028 - mean_absolute_error: 0.0392 - val_loss: 0.0027 - val_mean_squared_error: 0.0027 - val_mean_absolute_error: 0.0416\n",
            "Epoch 42/100\n",
            "32/32 [==============================] - 2s 70ms/step - loss: 0.0029 - mean_squared_error: 0.0029 - mean_absolute_error: 0.0386 - val_loss: 0.0029 - val_mean_squared_error: 0.0029 - val_mean_absolute_error: 0.0427\n",
            "Epoch 43/100\n",
            "32/32 [==============================] - 2s 69ms/step - loss: 0.0022 - mean_squared_error: 0.0022 - mean_absolute_error: 0.0344 - val_loss: 0.0027 - val_mean_squared_error: 0.0027 - val_mean_absolute_error: 0.0417\n",
            "Epoch 44/100\n",
            "32/32 [==============================] - 2s 70ms/step - loss: 0.0026 - mean_squared_error: 0.0026 - mean_absolute_error: 0.0381 - val_loss: 0.0029 - val_mean_squared_error: 0.0029 - val_mean_absolute_error: 0.0423\n",
            "Epoch 45/100\n",
            "32/32 [==============================] - 2s 73ms/step - loss: 0.0025 - mean_squared_error: 0.0025 - mean_absolute_error: 0.0374 - val_loss: 0.0032 - val_mean_squared_error: 0.0032 - val_mean_absolute_error: 0.0441\n",
            "Epoch 46/100\n",
            "32/32 [==============================] - 2s 72ms/step - loss: 0.0023 - mean_squared_error: 0.0023 - mean_absolute_error: 0.0354 - val_loss: 0.0027 - val_mean_squared_error: 0.0027 - val_mean_absolute_error: 0.0413\n",
            "Epoch 47/100\n",
            "32/32 [==============================] - 2s 71ms/step - loss: 0.0020 - mean_squared_error: 0.0020 - mean_absolute_error: 0.0332 - val_loss: 0.0027 - val_mean_squared_error: 0.0027 - val_mean_absolute_error: 0.0413\n",
            "Epoch 48/100\n",
            "32/32 [==============================] - 2s 71ms/step - loss: 0.0029 - mean_squared_error: 0.0029 - mean_absolute_error: 0.0395 - val_loss: 0.0028 - val_mean_squared_error: 0.0028 - val_mean_absolute_error: 0.0419\n",
            "Epoch 49/100\n",
            "32/32 [==============================] - 2s 74ms/step - loss: 0.0022 - mean_squared_error: 0.0022 - mean_absolute_error: 0.0347 - val_loss: 0.0027 - val_mean_squared_error: 0.0027 - val_mean_absolute_error: 0.0412\n",
            "Epoch 50/100\n",
            "32/32 [==============================] - 2s 70ms/step - loss: 0.0024 - mean_squared_error: 0.0024 - mean_absolute_error: 0.0366 - val_loss: 0.0026 - val_mean_squared_error: 0.0026 - val_mean_absolute_error: 0.0408\n",
            "Epoch 51/100\n",
            "32/32 [==============================] - 2s 70ms/step - loss: 0.0021 - mean_squared_error: 0.0021 - mean_absolute_error: 0.0346 - val_loss: 0.0028 - val_mean_squared_error: 0.0028 - val_mean_absolute_error: 0.0417\n",
            "Epoch 52/100\n",
            "32/32 [==============================] - 2s 69ms/step - loss: 0.0022 - mean_squared_error: 0.0022 - mean_absolute_error: 0.0344 - val_loss: 0.0027 - val_mean_squared_error: 0.0027 - val_mean_absolute_error: 0.0409\n",
            "Epoch 53/100\n",
            "32/32 [==============================] - 2s 69ms/step - loss: 0.0025 - mean_squared_error: 0.0025 - mean_absolute_error: 0.0370 - val_loss: 0.0026 - val_mean_squared_error: 0.0026 - val_mean_absolute_error: 0.0404\n",
            "Epoch 54/100\n",
            "32/32 [==============================] - 2s 71ms/step - loss: 0.0025 - mean_squared_error: 0.0025 - mean_absolute_error: 0.0370 - val_loss: 0.0027 - val_mean_squared_error: 0.0027 - val_mean_absolute_error: 0.0416\n",
            "Epoch 55/100\n",
            "32/32 [==============================] - 2s 70ms/step - loss: 0.0024 - mean_squared_error: 0.0024 - mean_absolute_error: 0.0365 - val_loss: 0.0027 - val_mean_squared_error: 0.0027 - val_mean_absolute_error: 0.0409\n",
            "Epoch 56/100\n",
            "32/32 [==============================] - 2s 72ms/step - loss: 0.0021 - mean_squared_error: 0.0021 - mean_absolute_error: 0.0343 - val_loss: 0.0027 - val_mean_squared_error: 0.0027 - val_mean_absolute_error: 0.0409\n",
            "Epoch 57/100\n",
            "32/32 [==============================] - 2s 68ms/step - loss: 0.0023 - mean_squared_error: 0.0023 - mean_absolute_error: 0.0355 - val_loss: 0.0025 - val_mean_squared_error: 0.0025 - val_mean_absolute_error: 0.0400\n",
            "Epoch 58/100\n",
            "32/32 [==============================] - 2s 70ms/step - loss: 0.0024 - mean_squared_error: 0.0024 - mean_absolute_error: 0.0359 - val_loss: 0.0025 - val_mean_squared_error: 0.0025 - val_mean_absolute_error: 0.0403\n",
            "Epoch 59/100\n",
            "32/32 [==============================] - 2s 72ms/step - loss: 0.0023 - mean_squared_error: 0.0023 - mean_absolute_error: 0.0359 - val_loss: 0.0028 - val_mean_squared_error: 0.0028 - val_mean_absolute_error: 0.0416\n",
            "Epoch 60/100\n",
            "32/32 [==============================] - 2s 68ms/step - loss: 0.0027 - mean_squared_error: 0.0027 - mean_absolute_error: 0.0389 - val_loss: 0.0025 - val_mean_squared_error: 0.0025 - val_mean_absolute_error: 0.0398\n",
            "Epoch 61/100\n",
            "32/32 [==============================] - 2s 70ms/step - loss: 0.0022 - mean_squared_error: 0.0022 - mean_absolute_error: 0.0345 - val_loss: 0.0024 - val_mean_squared_error: 0.0024 - val_mean_absolute_error: 0.0397\n",
            "Epoch 62/100\n",
            "32/32 [==============================] - 2s 72ms/step - loss: 0.0024 - mean_squared_error: 0.0024 - mean_absolute_error: 0.0347 - val_loss: 0.0024 - val_mean_squared_error: 0.0024 - val_mean_absolute_error: 0.0394\n",
            "Epoch 63/100\n",
            "32/32 [==============================] - 2s 66ms/step - loss: 0.0022 - mean_squared_error: 0.0022 - mean_absolute_error: 0.0349 - val_loss: 0.0025 - val_mean_squared_error: 0.0025 - val_mean_absolute_error: 0.0395\n",
            "Epoch 64/100\n",
            "32/32 [==============================] - 2s 70ms/step - loss: 0.0021 - mean_squared_error: 0.0021 - mean_absolute_error: 0.0340 - val_loss: 0.0024 - val_mean_squared_error: 0.0024 - val_mean_absolute_error: 0.0394\n",
            "Epoch 65/100\n",
            "32/32 [==============================] - 2s 71ms/step - loss: 0.0022 - mean_squared_error: 0.0022 - mean_absolute_error: 0.0342 - val_loss: 0.0025 - val_mean_squared_error: 0.0025 - val_mean_absolute_error: 0.0398\n",
            "Epoch 66/100\n",
            "32/32 [==============================] - 2s 71ms/step - loss: 0.0021 - mean_squared_error: 0.0021 - mean_absolute_error: 0.0332 - val_loss: 0.0024 - val_mean_squared_error: 0.0024 - val_mean_absolute_error: 0.0397\n",
            "Epoch 67/100\n",
            "32/32 [==============================] - 2s 70ms/step - loss: 0.0022 - mean_squared_error: 0.0022 - mean_absolute_error: 0.0351 - val_loss: 0.0026 - val_mean_squared_error: 0.0026 - val_mean_absolute_error: 0.0402\n",
            "Epoch 68/100\n",
            "32/32 [==============================] - 2s 71ms/step - loss: 0.0021 - mean_squared_error: 0.0021 - mean_absolute_error: 0.0346 - val_loss: 0.0027 - val_mean_squared_error: 0.0027 - val_mean_absolute_error: 0.0406\n",
            "Epoch 69/100\n",
            "32/32 [==============================] - 2s 71ms/step - loss: 0.0021 - mean_squared_error: 0.0021 - mean_absolute_error: 0.0331 - val_loss: 0.0024 - val_mean_squared_error: 0.0024 - val_mean_absolute_error: 0.0393\n",
            "Epoch 70/100\n",
            "32/32 [==============================] - 2s 71ms/step - loss: 0.0019 - mean_squared_error: 0.0019 - mean_absolute_error: 0.0318 - val_loss: 0.0025 - val_mean_squared_error: 0.0025 - val_mean_absolute_error: 0.0395\n",
            "Epoch 71/100\n",
            "32/32 [==============================] - 2s 72ms/step - loss: 0.0023 - mean_squared_error: 0.0023 - mean_absolute_error: 0.0350 - val_loss: 0.0028 - val_mean_squared_error: 0.0028 - val_mean_absolute_error: 0.0419\n",
            "Epoch 72/100\n",
            "32/32 [==============================] - 2s 70ms/step - loss: 0.0022 - mean_squared_error: 0.0022 - mean_absolute_error: 0.0353 - val_loss: 0.0026 - val_mean_squared_error: 0.0026 - val_mean_absolute_error: 0.0399\n",
            "Epoch 73/100\n",
            "32/32 [==============================] - 2s 72ms/step - loss: 0.0022 - mean_squared_error: 0.0022 - mean_absolute_error: 0.0351 - val_loss: 0.0024 - val_mean_squared_error: 0.0024 - val_mean_absolute_error: 0.0394\n",
            "Epoch 74/100\n",
            "32/32 [==============================] - 2s 73ms/step - loss: 0.0019 - mean_squared_error: 0.0019 - mean_absolute_error: 0.0316 - val_loss: 0.0025 - val_mean_squared_error: 0.0025 - val_mean_absolute_error: 0.0394\n",
            "Epoch 75/100\n",
            "32/32 [==============================] - 2s 71ms/step - loss: 0.0019 - mean_squared_error: 0.0019 - mean_absolute_error: 0.0316 - val_loss: 0.0023 - val_mean_squared_error: 0.0023 - val_mean_absolute_error: 0.0387\n",
            "Epoch 76/100\n",
            "32/32 [==============================] - 2s 71ms/step - loss: 0.0021 - mean_squared_error: 0.0021 - mean_absolute_error: 0.0338 - val_loss: 0.0024 - val_mean_squared_error: 0.0024 - val_mean_absolute_error: 0.0389\n",
            "Epoch 77/100\n",
            "32/32 [==============================] - 2s 71ms/step - loss: 0.0024 - mean_squared_error: 0.0024 - mean_absolute_error: 0.0349 - val_loss: 0.0029 - val_mean_squared_error: 0.0029 - val_mean_absolute_error: 0.0432\n",
            "Epoch 78/100\n",
            "32/32 [==============================] - 2s 70ms/step - loss: 0.0023 - mean_squared_error: 0.0023 - mean_absolute_error: 0.0357 - val_loss: 0.0023 - val_mean_squared_error: 0.0023 - val_mean_absolute_error: 0.0386\n",
            "Epoch 79/100\n",
            "32/32 [==============================] - 2s 71ms/step - loss: 0.0017 - mean_squared_error: 0.0017 - mean_absolute_error: 0.0307 - val_loss: 0.0023 - val_mean_squared_error: 0.0023 - val_mean_absolute_error: 0.0389\n",
            "Epoch 80/100\n",
            "32/32 [==============================] - 2s 71ms/step - loss: 0.0020 - mean_squared_error: 0.0020 - mean_absolute_error: 0.0326 - val_loss: 0.0023 - val_mean_squared_error: 0.0023 - val_mean_absolute_error: 0.0384\n",
            "Epoch 81/100\n",
            "32/32 [==============================] - 2s 69ms/step - loss: 0.0019 - mean_squared_error: 0.0019 - mean_absolute_error: 0.0323 - val_loss: 0.0023 - val_mean_squared_error: 0.0023 - val_mean_absolute_error: 0.0383\n",
            "Epoch 82/100\n",
            "32/32 [==============================] - 2s 70ms/step - loss: 0.0023 - mean_squared_error: 0.0023 - mean_absolute_error: 0.0347 - val_loss: 0.0024 - val_mean_squared_error: 0.0024 - val_mean_absolute_error: 0.0384\n",
            "Epoch 83/100\n",
            "32/32 [==============================] - 2s 74ms/step - loss: 0.0023 - mean_squared_error: 0.0023 - mean_absolute_error: 0.0358 - val_loss: 0.0023 - val_mean_squared_error: 0.0023 - val_mean_absolute_error: 0.0388\n",
            "Epoch 84/100\n",
            "32/32 [==============================] - 2s 72ms/step - loss: 0.0020 - mean_squared_error: 0.0020 - mean_absolute_error: 0.0327 - val_loss: 0.0023 - val_mean_squared_error: 0.0023 - val_mean_absolute_error: 0.0381\n",
            "Epoch 85/100\n",
            "32/32 [==============================] - 2s 70ms/step - loss: 0.0019 - mean_squared_error: 0.0019 - mean_absolute_error: 0.0326 - val_loss: 0.0028 - val_mean_squared_error: 0.0028 - val_mean_absolute_error: 0.0411\n",
            "Epoch 86/100\n",
            "32/32 [==============================] - 2s 73ms/step - loss: 0.0020 - mean_squared_error: 0.0020 - mean_absolute_error: 0.0329 - val_loss: 0.0023 - val_mean_squared_error: 0.0023 - val_mean_absolute_error: 0.0383\n",
            "Epoch 87/100\n",
            "32/32 [==============================] - 2s 70ms/step - loss: 0.0017 - mean_squared_error: 0.0017 - mean_absolute_error: 0.0300 - val_loss: 0.0023 - val_mean_squared_error: 0.0023 - val_mean_absolute_error: 0.0386\n",
            "Epoch 88/100\n",
            "32/32 [==============================] - 2s 72ms/step - loss: 0.0021 - mean_squared_error: 0.0021 - mean_absolute_error: 0.0328 - val_loss: 0.0026 - val_mean_squared_error: 0.0026 - val_mean_absolute_error: 0.0398\n",
            "Epoch 89/100\n",
            "32/32 [==============================] - 2s 70ms/step - loss: 0.0020 - mean_squared_error: 0.0020 - mean_absolute_error: 0.0323 - val_loss: 0.0027 - val_mean_squared_error: 0.0027 - val_mean_absolute_error: 0.0407\n",
            "Epoch 90/100\n",
            "32/32 [==============================] - 2s 71ms/step - loss: 0.0020 - mean_squared_error: 0.0020 - mean_absolute_error: 0.0324 - val_loss: 0.0023 - val_mean_squared_error: 0.0023 - val_mean_absolute_error: 0.0380\n",
            "Epoch 91/100\n",
            "32/32 [==============================] - 2s 72ms/step - loss: 0.0021 - mean_squared_error: 0.0021 - mean_absolute_error: 0.0335 - val_loss: 0.0023 - val_mean_squared_error: 0.0023 - val_mean_absolute_error: 0.0379\n",
            "Epoch 92/100\n",
            "32/32 [==============================] - 2s 71ms/step - loss: 0.0019 - mean_squared_error: 0.0019 - mean_absolute_error: 0.0322 - val_loss: 0.0023 - val_mean_squared_error: 0.0023 - val_mean_absolute_error: 0.0379\n",
            "Epoch 93/100\n",
            "32/32 [==============================] - 2s 72ms/step - loss: 0.0021 - mean_squared_error: 0.0021 - mean_absolute_error: 0.0339 - val_loss: 0.0024 - val_mean_squared_error: 0.0024 - val_mean_absolute_error: 0.0384\n",
            "Epoch 94/100\n",
            "32/32 [==============================] - 2s 71ms/step - loss: 0.0018 - mean_squared_error: 0.0018 - mean_absolute_error: 0.0306 - val_loss: 0.0023 - val_mean_squared_error: 0.0023 - val_mean_absolute_error: 0.0379\n",
            "Epoch 95/100\n",
            "32/32 [==============================] - 2s 72ms/step - loss: 0.0017 - mean_squared_error: 0.0017 - mean_absolute_error: 0.0304 - val_loss: 0.0024 - val_mean_squared_error: 0.0024 - val_mean_absolute_error: 0.0396\n",
            "Epoch 96/100\n",
            "32/32 [==============================] - 2s 70ms/step - loss: 0.0023 - mean_squared_error: 0.0023 - mean_absolute_error: 0.0358 - val_loss: 0.0022 - val_mean_squared_error: 0.0022 - val_mean_absolute_error: 0.0376\n",
            "Epoch 97/100\n",
            "32/32 [==============================] - 2s 69ms/step - loss: 0.0017 - mean_squared_error: 0.0017 - mean_absolute_error: 0.0305 - val_loss: 0.0022 - val_mean_squared_error: 0.0022 - val_mean_absolute_error: 0.0376\n",
            "Epoch 98/100\n",
            "32/32 [==============================] - 2s 71ms/step - loss: 0.0021 - mean_squared_error: 0.0021 - mean_absolute_error: 0.0318 - val_loss: 0.0023 - val_mean_squared_error: 0.0023 - val_mean_absolute_error: 0.0381\n",
            "Epoch 99/100\n",
            "32/32 [==============================] - 2s 70ms/step - loss: 0.0019 - mean_squared_error: 0.0019 - mean_absolute_error: 0.0321 - val_loss: 0.0022 - val_mean_squared_error: 0.0022 - val_mean_absolute_error: 0.0377\n",
            "Epoch 100/100\n",
            "32/32 [==============================] - 2s 71ms/step - loss: 0.0018 - mean_squared_error: 0.0018 - mean_absolute_error: 0.0316 - val_loss: 0.0023 - val_mean_squared_error: 0.0023 - val_mean_absolute_error: 0.0383\n"
          ]
        },
        {
          "output_type": "display_data",
          "data": {
            "text/plain": [
              "<IPython.core.display.HTML object>"
            ],
            "text/html": [
              "<br/>Waiting for W&B process to finish, PID 2479<br/>Program ended successfully."
            ]
          },
          "metadata": {
            "tags": []
          }
        },
        {
          "output_type": "display_data",
          "data": {
            "text/plain": [
              "VBox(children=(Label(value=' 0.76MB of 0.76MB uploaded (0.00MB deduped)\\r'), FloatProgress(value=1.0, max=1.0)…"
            ],
            "application/vnd.jupyter.widget-view+json": {
              "model_id": "1870da03713d45cbbecf45848713f368",
              "version_minor": 0,
              "version_major": 2
            }
          },
          "metadata": {
            "tags": []
          }
        },
        {
          "output_type": "display_data",
          "data": {
            "text/plain": [
              "<IPython.core.display.HTML object>"
            ],
            "text/html": [
              "Find user logs for this run at: <code>/content/feeder_repo/wandb/run-20210713_142004-5cu18drl/logs/debug.log</code>"
            ]
          },
          "metadata": {
            "tags": []
          }
        },
        {
          "output_type": "display_data",
          "data": {
            "text/plain": [
              "<IPython.core.display.HTML object>"
            ],
            "text/html": [
              "Find internal logs for this run at: <code>/content/feeder_repo/wandb/run-20210713_142004-5cu18drl/logs/debug-internal.log</code>"
            ]
          },
          "metadata": {
            "tags": []
          }
        },
        {
          "output_type": "display_data",
          "data": {
            "text/plain": [
              "<IPython.core.display.HTML object>"
            ],
            "text/html": [
              "<h3>Run summary:</h3><br/><style>\n",
              "    table.wandb td:nth-child(1) { padding: 0 10px; text-align: right }\n",
              "    </style><table class=\"wandb\">\n",
              "<tr><td>epoch</td><td>99</td></tr><tr><td>loss</td><td>0.00185</td></tr><tr><td>mean_squared_error</td><td>0.00185</td></tr><tr><td>mean_absolute_error</td><td>0.03142</td></tr><tr><td>val_loss</td><td>0.00227</td></tr><tr><td>val_mean_squared_error</td><td>0.00227</td></tr><tr><td>val_mean_absolute_error</td><td>0.0383</td></tr><tr><td>_runtime</td><td>236</td></tr><tr><td>_timestamp</td><td>1626186240</td></tr><tr><td>_step</td><td>99</td></tr><tr><td>best_val_loss</td><td>0.00221</td></tr><tr><td>best_epoch</td><td>96</td></tr></table>"
            ]
          },
          "metadata": {
            "tags": []
          }
        },
        {
          "output_type": "display_data",
          "data": {
            "text/plain": [
              "<IPython.core.display.HTML object>"
            ],
            "text/html": [
              "<h3>Run history:</h3><br/><style>\n",
              "    table.wandb td:nth-child(1) { padding: 0 10px; text-align: right }\n",
              "    </style><table class=\"wandb\">\n",
              "<tr><td>epoch</td><td>▁▁▁▁▂▂▂▂▂▃▃▃▃▃▃▄▄▄▄▄▅▅▅▅▅▅▆▆▆▆▆▇▇▇▇▇▇███</td></tr><tr><td>loss</td><td>█▁▁▁▁▁▁▁▁▁▁▁▁▁▁▁▁▁▁▁▁▁▁▁▁▁▁▁▁▁▁▁▁▁▁▁▁▁▁▁</td></tr><tr><td>mean_squared_error</td><td>█▁▁▁▁▁▁▁▁▁▁▁▁▁▁▁▁▁▁▁▁▁▁▁▁▁▁▁▁▁▁▁▁▁▁▁▁▁▁▁</td></tr><tr><td>mean_absolute_error</td><td>█▂▂▂▂▂▂▁▁▁▁▁▁▁▁▁▁▁▁▁▁▁▁▁▁▁▁▁▁▁▁▁▁▁▁▁▁▁▁▁</td></tr><tr><td>val_loss</td><td>█▂▁▂▂▁▁▁▂▁▁▁▁▁▁▁▁▁▁▁▁▁▁▁▁▁▁▁▁▁▁▁▁▁▁▁▁▁▁▁</td></tr><tr><td>val_mean_squared_error</td><td>█▂▁▂▂▁▁▁▂▁▁▁▁▁▁▁▁▁▁▁▁▁▁▁▁▁▁▁▁▁▁▁▁▁▁▁▁▁▁▁</td></tr><tr><td>val_mean_absolute_error</td><td>█▂▂▂▂▂▂▂▂▂▂▂▁▁▁▂▁▁▁▁▁▁▁▁▁▁▁▁▁▁▂▁▁▁▁▁▁▁▁▁</td></tr><tr><td>_runtime</td><td>▁▁▁▁▂▂▂▂▂▃▃▃▃▃▃▄▄▄▄▄▅▅▅▅▅▅▆▆▆▆▆▇▇▇▇▇▇███</td></tr><tr><td>_timestamp</td><td>▁▁▁▁▂▂▂▂▂▃▃▃▃▃▃▄▄▄▄▄▅▅▅▅▅▅▆▆▆▆▆▇▇▇▇▇▇███</td></tr><tr><td>_step</td><td>▁▁▁▁▂▂▂▂▂▃▃▃▃▃▃▄▄▄▄▄▅▅▅▅▅▅▆▆▆▆▆▇▇▇▇▇▇███</td></tr></table><br/>"
            ]
          },
          "metadata": {
            "tags": []
          }
        },
        {
          "output_type": "display_data",
          "data": {
            "text/plain": [
              "<IPython.core.display.HTML object>"
            ],
            "text/html": [
              "Synced 5 W&B file(s), 1 media file(s), 2 artifact file(s) and 2 other file(s)"
            ]
          },
          "metadata": {
            "tags": []
          }
        },
        {
          "output_type": "display_data",
          "data": {
            "text/plain": [
              "<IPython.core.display.HTML object>"
            ],
            "text/html": [
              "\n",
              "                    <br/>Synced <strong style=\"color:#cdcd00\">vocal-sweep-8</strong>: <a href=\"https://wandb.ai/acse-jaq15/ACSE_9_GRU/runs/5cu18drl\" target=\"_blank\">https://wandb.ai/acse-jaq15/ACSE_9_GRU/runs/5cu18drl</a><br/>\n",
              "                "
            ]
          },
          "metadata": {
            "tags": []
          }
        },
        {
          "output_type": "stream",
          "name": "stderr",
          "text": [
            "\u001b[34m\u001b[1mwandb\u001b[0m: Agent Starting Run: iyboamfj with config:\n",
            "\u001b[34m\u001b[1mwandb\u001b[0m: \tactivation: tanh\n",
            "\u001b[34m\u001b[1mwandb\u001b[0m: \tbatch_size: 32\n",
            "\u001b[34m\u001b[1mwandb\u001b[0m: \tdropout: 0.2\n",
            "\u001b[34m\u001b[1mwandb\u001b[0m: \tepochs: 50\n",
            "\u001b[34m\u001b[1mwandb\u001b[0m: \thidden_size: 100\n",
            "\u001b[34m\u001b[1mwandb\u001b[0m: \tinput_size: 100\n",
            "\u001b[34m\u001b[1mwandb\u001b[0m: \tlearning_rate: 0.005\n",
            "\u001b[34m\u001b[1mwandb\u001b[0m: \toptimizer: nadam\n"
          ]
        },
        {
          "output_type": "display_data",
          "data": {
            "text/plain": [
              "<IPython.core.display.HTML object>"
            ],
            "text/html": [
              "\n",
              "                Tracking run with wandb version 0.10.33<br/>\n",
              "                Syncing run <strong style=\"color:#cdcd00\">denim-sweep-9</strong> to <a href=\"https://wandb.ai\" target=\"_blank\">Weights & Biases</a> <a href=\"https://docs.wandb.com/integrations/jupyter.html\" target=\"_blank\">(Documentation)</a>.<br/>\n",
              "                Project page: <a href=\"https://wandb.ai/acse-jaq15/ACSE_9_GRU\" target=\"_blank\">https://wandb.ai/acse-jaq15/ACSE_9_GRU</a><br/>\n",
              "                Sweep page: <a href=\"https://wandb.ai/acse-jaq15/ACSE_9_GRU/sweeps/znsj9bl4\" target=\"_blank\">https://wandb.ai/acse-jaq15/ACSE_9_GRU/sweeps/znsj9bl4</a><br/>\n",
              "Run page: <a href=\"https://wandb.ai/acse-jaq15/ACSE_9_GRU/runs/iyboamfj\" target=\"_blank\">https://wandb.ai/acse-jaq15/ACSE_9_GRU/runs/iyboamfj</a><br/>\n",
              "                Run data is saved locally in <code>/content/feeder_repo/wandb/run-20210713_142445-iyboamfj</code><br/><br/>\n",
              "            "
            ]
          },
          "metadata": {
            "tags": []
          }
        },
        {
          "output_type": "stream",
          "name": "stdout",
          "text": [
            "Epoch 1/50\n",
            "32/32 [==============================] - 4s 34ms/step - loss: 0.0564 - mean_squared_error: 0.0564 - mean_absolute_error: 0.1475 - val_loss: 0.0106 - val_mean_squared_error: 0.0106 - val_mean_absolute_error: 0.0878\n",
            "Epoch 2/50\n",
            "32/32 [==============================] - 0s 10ms/step - loss: 0.0062 - mean_squared_error: 0.0062 - mean_absolute_error: 0.0611 - val_loss: 0.0056 - val_mean_squared_error: 0.0056 - val_mean_absolute_error: 0.0623\n",
            "Epoch 3/50\n",
            "32/32 [==============================] - 0s 11ms/step - loss: 0.0079 - mean_squared_error: 0.0079 - mean_absolute_error: 0.0689 - val_loss: 0.0105 - val_mean_squared_error: 0.0105 - val_mean_absolute_error: 0.0935\n",
            "Epoch 4/50\n",
            "32/32 [==============================] - 0s 11ms/step - loss: 0.0055 - mean_squared_error: 0.0055 - mean_absolute_error: 0.0556 - val_loss: 0.0041 - val_mean_squared_error: 0.0041 - val_mean_absolute_error: 0.0522\n",
            "Epoch 5/50\n",
            "32/32 [==============================] - 0s 10ms/step - loss: 0.0031 - mean_squared_error: 0.0031 - mean_absolute_error: 0.0419 - val_loss: 0.0139 - val_mean_squared_error: 0.0139 - val_mean_absolute_error: 0.1046\n",
            "Epoch 6/50\n",
            "32/32 [==============================] - 0s 10ms/step - loss: 0.0058 - mean_squared_error: 0.0058 - mean_absolute_error: 0.0576 - val_loss: 0.0023 - val_mean_squared_error: 0.0023 - val_mean_absolute_error: 0.0378\n",
            "Epoch 7/50\n",
            "32/32 [==============================] - 0s 11ms/step - loss: 0.0039 - mean_squared_error: 0.0039 - mean_absolute_error: 0.0480 - val_loss: 0.0023 - val_mean_squared_error: 0.0023 - val_mean_absolute_error: 0.0375\n",
            "Epoch 8/50\n",
            "32/32 [==============================] - 0s 10ms/step - loss: 0.0032 - mean_squared_error: 0.0032 - mean_absolute_error: 0.0418 - val_loss: 0.0016 - val_mean_squared_error: 0.0016 - val_mean_absolute_error: 0.0312\n",
            "Epoch 9/50\n",
            "32/32 [==============================] - 0s 12ms/step - loss: 0.0035 - mean_squared_error: 0.0035 - mean_absolute_error: 0.0424 - val_loss: 0.0015 - val_mean_squared_error: 0.0015 - val_mean_absolute_error: 0.0309\n",
            "Epoch 10/50\n",
            "32/32 [==============================] - 0s 10ms/step - loss: 0.0015 - mean_squared_error: 0.0015 - mean_absolute_error: 0.0291 - val_loss: 0.0041 - val_mean_squared_error: 0.0041 - val_mean_absolute_error: 0.0541\n",
            "Epoch 11/50\n",
            "32/32 [==============================] - 0s 9ms/step - loss: 0.0033 - mean_squared_error: 0.0033 - mean_absolute_error: 0.0439 - val_loss: 0.0025 - val_mean_squared_error: 0.0025 - val_mean_absolute_error: 0.0400\n",
            "Epoch 12/50\n",
            "32/32 [==============================] - 0s 10ms/step - loss: 0.0025 - mean_squared_error: 0.0025 - mean_absolute_error: 0.0370 - val_loss: 0.0015 - val_mean_squared_error: 0.0015 - val_mean_absolute_error: 0.0303\n",
            "Epoch 13/50\n",
            "32/32 [==============================] - 0s 10ms/step - loss: 0.0016 - mean_squared_error: 0.0016 - mean_absolute_error: 0.0303 - val_loss: 0.0024 - val_mean_squared_error: 0.0024 - val_mean_absolute_error: 0.0393\n",
            "Epoch 14/50\n",
            "32/32 [==============================] - 0s 10ms/step - loss: 0.0025 - mean_squared_error: 0.0025 - mean_absolute_error: 0.0367 - val_loss: 0.0016 - val_mean_squared_error: 0.0016 - val_mean_absolute_error: 0.0312\n",
            "Epoch 15/50\n",
            "32/32 [==============================] - 0s 10ms/step - loss: 0.0015 - mean_squared_error: 0.0015 - mean_absolute_error: 0.0289 - val_loss: 0.0028 - val_mean_squared_error: 0.0028 - val_mean_absolute_error: 0.0431\n",
            "Epoch 16/50\n",
            "32/32 [==============================] - 0s 11ms/step - loss: 0.0030 - mean_squared_error: 0.0030 - mean_absolute_error: 0.0404 - val_loss: 0.0014 - val_mean_squared_error: 0.0014 - val_mean_absolute_error: 0.0293\n",
            "Epoch 17/50\n",
            "32/32 [==============================] - 0s 10ms/step - loss: 0.0016 - mean_squared_error: 0.0016 - mean_absolute_error: 0.0289 - val_loss: 0.0016 - val_mean_squared_error: 0.0016 - val_mean_absolute_error: 0.0308\n",
            "Epoch 18/50\n",
            "32/32 [==============================] - 0s 10ms/step - loss: 0.0015 - mean_squared_error: 0.0015 - mean_absolute_error: 0.0293 - val_loss: 0.0019 - val_mean_squared_error: 0.0019 - val_mean_absolute_error: 0.0338\n",
            "Epoch 19/50\n",
            "32/32 [==============================] - 0s 10ms/step - loss: 0.0016 - mean_squared_error: 0.0016 - mean_absolute_error: 0.0289 - val_loss: 0.0018 - val_mean_squared_error: 0.0018 - val_mean_absolute_error: 0.0330\n",
            "Epoch 20/50\n",
            "32/32 [==============================] - 0s 10ms/step - loss: 0.0012 - mean_squared_error: 0.0012 - mean_absolute_error: 0.0262 - val_loss: 0.0041 - val_mean_squared_error: 0.0041 - val_mean_absolute_error: 0.0530\n",
            "Epoch 21/50\n",
            "32/32 [==============================] - 0s 10ms/step - loss: 0.0034 - mean_squared_error: 0.0034 - mean_absolute_error: 0.0441 - val_loss: 0.0015 - val_mean_squared_error: 0.0015 - val_mean_absolute_error: 0.0305\n",
            "Epoch 22/50\n",
            "32/32 [==============================] - 0s 11ms/step - loss: 0.0012 - mean_squared_error: 0.0012 - mean_absolute_error: 0.0263 - val_loss: 0.0014 - val_mean_squared_error: 0.0014 - val_mean_absolute_error: 0.0285\n",
            "Epoch 23/50\n",
            "32/32 [==============================] - 0s 10ms/step - loss: 0.0014 - mean_squared_error: 0.0014 - mean_absolute_error: 0.0276 - val_loss: 0.0044 - val_mean_squared_error: 0.0044 - val_mean_absolute_error: 0.0540\n",
            "Epoch 24/50\n",
            "32/32 [==============================] - 0s 10ms/step - loss: 0.0028 - mean_squared_error: 0.0028 - mean_absolute_error: 0.0385 - val_loss: 0.0015 - val_mean_squared_error: 0.0015 - val_mean_absolute_error: 0.0312\n",
            "Epoch 25/50\n",
            "32/32 [==============================] - 0s 10ms/step - loss: 0.0013 - mean_squared_error: 0.0013 - mean_absolute_error: 0.0263 - val_loss: 0.0018 - val_mean_squared_error: 0.0018 - val_mean_absolute_error: 0.0332\n",
            "Epoch 26/50\n",
            "32/32 [==============================] - 0s 10ms/step - loss: 0.0013 - mean_squared_error: 0.0013 - mean_absolute_error: 0.0272 - val_loss: 0.0013 - val_mean_squared_error: 0.0013 - val_mean_absolute_error: 0.0285\n",
            "Epoch 27/50\n",
            "32/32 [==============================] - 0s 11ms/step - loss: 0.0010 - mean_squared_error: 0.0010 - mean_absolute_error: 0.0236 - val_loss: 0.0021 - val_mean_squared_error: 0.0021 - val_mean_absolute_error: 0.0365\n",
            "Epoch 28/50\n",
            "32/32 [==============================] - 0s 12ms/step - loss: 0.0016 - mean_squared_error: 0.0016 - mean_absolute_error: 0.0296 - val_loss: 0.0017 - val_mean_squared_error: 0.0017 - val_mean_absolute_error: 0.0323\n",
            "Epoch 29/50\n",
            "32/32 [==============================] - 0s 10ms/step - loss: 0.0017 - mean_squared_error: 0.0017 - mean_absolute_error: 0.0312 - val_loss: 0.0018 - val_mean_squared_error: 0.0018 - val_mean_absolute_error: 0.0338\n",
            "Epoch 30/50\n",
            "32/32 [==============================] - 0s 10ms/step - loss: 0.0018 - mean_squared_error: 0.0018 - mean_absolute_error: 0.0318 - val_loss: 0.0014 - val_mean_squared_error: 0.0014 - val_mean_absolute_error: 0.0286\n",
            "Epoch 31/50\n",
            "32/32 [==============================] - 0s 10ms/step - loss: 0.0014 - mean_squared_error: 0.0014 - mean_absolute_error: 0.0290 - val_loss: 0.0014 - val_mean_squared_error: 0.0014 - val_mean_absolute_error: 0.0292\n",
            "Epoch 32/50\n",
            "32/32 [==============================] - 0s 11ms/step - loss: 0.0020 - mean_squared_error: 0.0020 - mean_absolute_error: 0.0327 - val_loss: 0.0014 - val_mean_squared_error: 0.0014 - val_mean_absolute_error: 0.0289\n",
            "Epoch 33/50\n",
            "32/32 [==============================] - 0s 11ms/step - loss: 0.0012 - mean_squared_error: 0.0012 - mean_absolute_error: 0.0253 - val_loss: 0.0016 - val_mean_squared_error: 0.0016 - val_mean_absolute_error: 0.0307\n",
            "Epoch 34/50\n",
            "32/32 [==============================] - 0s 10ms/step - loss: 0.0014 - mean_squared_error: 0.0014 - mean_absolute_error: 0.0282 - val_loss: 0.0014 - val_mean_squared_error: 0.0014 - val_mean_absolute_error: 0.0286\n",
            "Epoch 35/50\n",
            "32/32 [==============================] - 0s 10ms/step - loss: 0.0015 - mean_squared_error: 0.0015 - mean_absolute_error: 0.0292 - val_loss: 0.0019 - val_mean_squared_error: 0.0019 - val_mean_absolute_error: 0.0351\n",
            "Epoch 36/50\n",
            "32/32 [==============================] - 0s 11ms/step - loss: 0.0011 - mean_squared_error: 0.0011 - mean_absolute_error: 0.0249 - val_loss: 0.0013 - val_mean_squared_error: 0.0013 - val_mean_absolute_error: 0.0280\n",
            "Epoch 37/50\n",
            "32/32 [==============================] - 0s 10ms/step - loss: 9.5701e-04 - mean_squared_error: 9.5701e-04 - mean_absolute_error: 0.0236 - val_loss: 0.0018 - val_mean_squared_error: 0.0018 - val_mean_absolute_error: 0.0341\n",
            "Epoch 38/50\n",
            "32/32 [==============================] - 0s 10ms/step - loss: 0.0017 - mean_squared_error: 0.0017 - mean_absolute_error: 0.0312 - val_loss: 0.0020 - val_mean_squared_error: 0.0020 - val_mean_absolute_error: 0.0347\n",
            "Epoch 39/50\n",
            "32/32 [==============================] - 0s 11ms/step - loss: 0.0014 - mean_squared_error: 0.0014 - mean_absolute_error: 0.0285 - val_loss: 0.0016 - val_mean_squared_error: 0.0016 - val_mean_absolute_error: 0.0314\n",
            "Epoch 40/50\n",
            "32/32 [==============================] - 0s 10ms/step - loss: 0.0013 - mean_squared_error: 0.0013 - mean_absolute_error: 0.0268 - val_loss: 0.0013 - val_mean_squared_error: 0.0013 - val_mean_absolute_error: 0.0279\n",
            "Epoch 41/50\n",
            "32/32 [==============================] - 0s 11ms/step - loss: 0.0012 - mean_squared_error: 0.0012 - mean_absolute_error: 0.0267 - val_loss: 0.0024 - val_mean_squared_error: 0.0024 - val_mean_absolute_error: 0.0386\n",
            "Epoch 42/50\n",
            "32/32 [==============================] - 0s 10ms/step - loss: 0.0014 - mean_squared_error: 0.0014 - mean_absolute_error: 0.0294 - val_loss: 0.0017 - val_mean_squared_error: 0.0017 - val_mean_absolute_error: 0.0325\n",
            "Epoch 43/50\n",
            "32/32 [==============================] - 0s 10ms/step - loss: 0.0013 - mean_squared_error: 0.0013 - mean_absolute_error: 0.0268 - val_loss: 0.0014 - val_mean_squared_error: 0.0014 - val_mean_absolute_error: 0.0290\n",
            "Epoch 44/50\n",
            "32/32 [==============================] - 0s 10ms/step - loss: 8.3083e-04 - mean_squared_error: 8.3083e-04 - mean_absolute_error: 0.0215 - val_loss: 0.0016 - val_mean_squared_error: 0.0016 - val_mean_absolute_error: 0.0318\n",
            "Epoch 45/50\n",
            "32/32 [==============================] - 0s 12ms/step - loss: 9.9822e-04 - mean_squared_error: 9.9822e-04 - mean_absolute_error: 0.0238 - val_loss: 0.0013 - val_mean_squared_error: 0.0013 - val_mean_absolute_error: 0.0285\n",
            "Epoch 46/50\n",
            "32/32 [==============================] - 0s 12ms/step - loss: 9.5193e-04 - mean_squared_error: 9.5193e-04 - mean_absolute_error: 0.0231 - val_loss: 0.0015 - val_mean_squared_error: 0.0015 - val_mean_absolute_error: 0.0308\n",
            "Epoch 47/50\n",
            "32/32 [==============================] - 0s 10ms/step - loss: 0.0013 - mean_squared_error: 0.0013 - mean_absolute_error: 0.0261 - val_loss: 0.0016 - val_mean_squared_error: 0.0016 - val_mean_absolute_error: 0.0319\n",
            "Epoch 48/50\n",
            "32/32 [==============================] - 0s 11ms/step - loss: 0.0010 - mean_squared_error: 0.0010 - mean_absolute_error: 0.0239 - val_loss: 0.0019 - val_mean_squared_error: 0.0019 - val_mean_absolute_error: 0.0354\n",
            "Epoch 49/50\n",
            "32/32 [==============================] - 0s 10ms/step - loss: 0.0011 - mean_squared_error: 0.0011 - mean_absolute_error: 0.0255 - val_loss: 0.0021 - val_mean_squared_error: 0.0021 - val_mean_absolute_error: 0.0366\n",
            "Epoch 50/50\n",
            "32/32 [==============================] - 0s 11ms/step - loss: 9.9797e-04 - mean_squared_error: 9.9797e-04 - mean_absolute_error: 0.0244 - val_loss: 0.0014 - val_mean_squared_error: 0.0014 - val_mean_absolute_error: 0.0286\n"
          ]
        },
        {
          "output_type": "display_data",
          "data": {
            "text/plain": [
              "<IPython.core.display.HTML object>"
            ],
            "text/html": [
              "<br/>Waiting for W&B process to finish, PID 2888<br/>Program ended successfully."
            ]
          },
          "metadata": {
            "tags": []
          }
        },
        {
          "output_type": "display_data",
          "data": {
            "text/plain": [
              "VBox(children=(Label(value=' 1.57MB of 1.57MB uploaded (0.00MB deduped)\\r'), FloatProgress(value=1.0, max=1.0)…"
            ],
            "application/vnd.jupyter.widget-view+json": {
              "model_id": "33cf0a3449b34baea8d95f53d6b9546b",
              "version_minor": 0,
              "version_major": 2
            }
          },
          "metadata": {
            "tags": []
          }
        },
        {
          "output_type": "display_data",
          "data": {
            "text/plain": [
              "<IPython.core.display.HTML object>"
            ],
            "text/html": [
              "Find user logs for this run at: <code>/content/feeder_repo/wandb/run-20210713_142445-iyboamfj/logs/debug.log</code>"
            ]
          },
          "metadata": {
            "tags": []
          }
        },
        {
          "output_type": "display_data",
          "data": {
            "text/plain": [
              "<IPython.core.display.HTML object>"
            ],
            "text/html": [
              "Find internal logs for this run at: <code>/content/feeder_repo/wandb/run-20210713_142445-iyboamfj/logs/debug-internal.log</code>"
            ]
          },
          "metadata": {
            "tags": []
          }
        },
        {
          "output_type": "display_data",
          "data": {
            "text/plain": [
              "<IPython.core.display.HTML object>"
            ],
            "text/html": [
              "<h3>Run summary:</h3><br/><style>\n",
              "    table.wandb td:nth-child(1) { padding: 0 10px; text-align: right }\n",
              "    </style><table class=\"wandb\">\n",
              "<tr><td>epoch</td><td>49</td></tr><tr><td>loss</td><td>0.00094</td></tr><tr><td>mean_squared_error</td><td>0.00094</td></tr><tr><td>mean_absolute_error</td><td>0.02348</td></tr><tr><td>val_loss</td><td>0.00135</td></tr><tr><td>val_mean_squared_error</td><td>0.00135</td></tr><tr><td>val_mean_absolute_error</td><td>0.02857</td></tr><tr><td>_runtime</td><td>26</td></tr><tr><td>_timestamp</td><td>1626186311</td></tr><tr><td>_step</td><td>49</td></tr><tr><td>best_val_loss</td><td>0.00129</td></tr><tr><td>best_epoch</td><td>39</td></tr></table>"
            ]
          },
          "metadata": {
            "tags": []
          }
        },
        {
          "output_type": "display_data",
          "data": {
            "text/plain": [
              "<IPython.core.display.HTML object>"
            ],
            "text/html": [
              "<h3>Run history:</h3><br/><style>\n",
              "    table.wandb td:nth-child(1) { padding: 0 10px; text-align: right }\n",
              "    </style><table class=\"wandb\">\n",
              "<tr><td>epoch</td><td>▁▁▁▁▂▂▂▂▂▃▃▃▃▃▃▄▄▄▄▄▅▅▅▅▅▅▆▆▆▆▆▆▇▇▇▇▇███</td></tr><tr><td>loss</td><td>█▃▃▂▂▂▂▂▂▁▁▂▂▂▁▁▁▁▁▁▁▁▁▁▁▁▁▁▁▁▁▁▁▁▁▁▁▁▁▁</td></tr><tr><td>mean_squared_error</td><td>█▃▃▂▂▂▂▂▂▁▁▂▂▂▁▁▁▁▁▁▁▁▁▁▁▁▁▁▁▁▁▁▁▁▁▁▁▁▁▁</td></tr><tr><td>mean_absolute_error</td><td>█▅▅▄▃▃▃▃▃▂▂▃▃▂▂▂▂▁▂▂▂▁▂▂▂▂▁▂▁▁▂▁▂▂▁▁▁▁▁▁</td></tr><tr><td>val_loss</td><td>█▄█▃▂▂▁▁▂▁▂▁▁▁▁▁▁▁▃▁▁▂▁▁▁▁▁▁▁▁▁▁▂▁▁▁▁▁▁▁</td></tr><tr><td>val_mean_squared_error</td><td>█▄█▃▂▂▁▁▂▁▂▁▁▁▁▁▁▁▃▁▁▂▁▁▁▁▁▁▁▁▁▁▂▁▁▁▁▁▁▁</td></tr><tr><td>val_mean_absolute_error</td><td>▇▅█▄▂▂▁▁▂▁▂▁▁▁▂▂▁▁▄▁▁▂▁▂▁▁▁▁▁▂▂▁▂▁▁▁▁▁▂▁</td></tr><tr><td>_runtime</td><td>▁▁▁▁▂▂▂▂▃▃▃▃▃▃▃▃▄▄▄▄▅▅▅▅▆▆▆▆▆▆▆▆▇▇▇▇████</td></tr><tr><td>_timestamp</td><td>▁▁▁▁▂▂▂▂▃▃▃▃▃▃▃▃▄▄▄▄▅▅▅▅▆▆▆▆▆▆▆▆▇▇▇▇████</td></tr><tr><td>_step</td><td>▁▁▁▁▂▂▂▂▂▃▃▃▃▃▃▄▄▄▄▄▅▅▅▅▅▅▆▆▆▆▆▆▇▇▇▇▇███</td></tr></table><br/>"
            ]
          },
          "metadata": {
            "tags": []
          }
        },
        {
          "output_type": "display_data",
          "data": {
            "text/plain": [
              "<IPython.core.display.HTML object>"
            ],
            "text/html": [
              "Synced 5 W&B file(s), 1 media file(s), 2 artifact file(s) and 2 other file(s)"
            ]
          },
          "metadata": {
            "tags": []
          }
        },
        {
          "output_type": "display_data",
          "data": {
            "text/plain": [
              "<IPython.core.display.HTML object>"
            ],
            "text/html": [
              "\n",
              "                    <br/>Synced <strong style=\"color:#cdcd00\">denim-sweep-9</strong>: <a href=\"https://wandb.ai/acse-jaq15/ACSE_9_GRU/runs/iyboamfj\" target=\"_blank\">https://wandb.ai/acse-jaq15/ACSE_9_GRU/runs/iyboamfj</a><br/>\n",
              "                "
            ]
          },
          "metadata": {
            "tags": []
          }
        },
        {
          "output_type": "stream",
          "name": "stderr",
          "text": [
            "\u001b[34m\u001b[1mwandb\u001b[0m: Agent Starting Run: p6cr2tvy with config:\n",
            "\u001b[34m\u001b[1mwandb\u001b[0m: \tactivation: tanh\n",
            "\u001b[34m\u001b[1mwandb\u001b[0m: \tbatch_size: 128\n",
            "\u001b[34m\u001b[1mwandb\u001b[0m: \tdropout: 0.3\n",
            "\u001b[34m\u001b[1mwandb\u001b[0m: \tepochs: 50\n",
            "\u001b[34m\u001b[1mwandb\u001b[0m: \thidden_size: 25\n",
            "\u001b[34m\u001b[1mwandb\u001b[0m: \tinput_size: 25\n",
            "\u001b[34m\u001b[1mwandb\u001b[0m: \tlearning_rate: 0.0005\n",
            "\u001b[34m\u001b[1mwandb\u001b[0m: \toptimizer: nadam\n"
          ]
        },
        {
          "output_type": "display_data",
          "data": {
            "text/plain": [
              "<IPython.core.display.HTML object>"
            ],
            "text/html": [
              "\n",
              "                Tracking run with wandb version 0.10.33<br/>\n",
              "                Syncing run <strong style=\"color:#cdcd00\">absurd-sweep-10</strong> to <a href=\"https://wandb.ai\" target=\"_blank\">Weights & Biases</a> <a href=\"https://docs.wandb.com/integrations/jupyter.html\" target=\"_blank\">(Documentation)</a>.<br/>\n",
              "                Project page: <a href=\"https://wandb.ai/acse-jaq15/ACSE_9_GRU\" target=\"_blank\">https://wandb.ai/acse-jaq15/ACSE_9_GRU</a><br/>\n",
              "                Sweep page: <a href=\"https://wandb.ai/acse-jaq15/ACSE_9_GRU/sweeps/znsj9bl4\" target=\"_blank\">https://wandb.ai/acse-jaq15/ACSE_9_GRU/sweeps/znsj9bl4</a><br/>\n",
              "Run page: <a href=\"https://wandb.ai/acse-jaq15/ACSE_9_GRU/runs/p6cr2tvy\" target=\"_blank\">https://wandb.ai/acse-jaq15/ACSE_9_GRU/runs/p6cr2tvy</a><br/>\n",
              "                Run data is saved locally in <code>/content/feeder_repo/wandb/run-20210713_142543-p6cr2tvy</code><br/><br/>\n",
              "            "
            ]
          },
          "metadata": {
            "tags": []
          }
        },
        {
          "output_type": "stream",
          "name": "stdout",
          "text": [
            "Epoch 1/50\n",
            "8/8 [==============================] - 5s 120ms/step - loss: 0.3326 - mean_squared_error: 0.3326 - mean_absolute_error: 0.4828 - val_loss: 0.1678 - val_mean_squared_error: 0.1678 - val_mean_absolute_error: 0.3377\n",
            "Epoch 2/50\n",
            "8/8 [==============================] - 0s 13ms/step - loss: 0.1998 - mean_squared_error: 0.1998 - mean_absolute_error: 0.3588 - val_loss: 0.0769 - val_mean_squared_error: 0.0769 - val_mean_absolute_error: 0.2127\n",
            "Epoch 3/50\n",
            "8/8 [==============================] - 0s 13ms/step - loss: 0.0924 - mean_squared_error: 0.0924 - mean_absolute_error: 0.2334 - val_loss: 0.0278 - val_mean_squared_error: 0.0278 - val_mean_absolute_error: 0.1261\n",
            "Epoch 4/50\n",
            "8/8 [==============================] - 0s 12ms/step - loss: 0.0465 - mean_squared_error: 0.0465 - mean_absolute_error: 0.1670 - val_loss: 0.0151 - val_mean_squared_error: 0.0151 - val_mean_absolute_error: 0.1013\n",
            "Epoch 5/50\n",
            "8/8 [==============================] - 0s 14ms/step - loss: 0.0319 - mean_squared_error: 0.0319 - mean_absolute_error: 0.1440 - val_loss: 0.0141 - val_mean_squared_error: 0.0141 - val_mean_absolute_error: 0.1026\n",
            "Epoch 6/50\n",
            "8/8 [==============================] - 0s 13ms/step - loss: 0.0248 - mean_squared_error: 0.0248 - mean_absolute_error: 0.1329 - val_loss: 0.0120 - val_mean_squared_error: 0.0120 - val_mean_absolute_error: 0.0939\n",
            "Epoch 7/50\n",
            "8/8 [==============================] - 0s 14ms/step - loss: 0.0250 - mean_squared_error: 0.0250 - mean_absolute_error: 0.1286 - val_loss: 0.0099 - val_mean_squared_error: 0.0099 - val_mean_absolute_error: 0.0832\n",
            "Epoch 8/50\n",
            "8/8 [==============================] - 0s 13ms/step - loss: 0.0213 - mean_squared_error: 0.0213 - mean_absolute_error: 0.1187 - val_loss: 0.0083 - val_mean_squared_error: 0.0083 - val_mean_absolute_error: 0.0756\n",
            "Epoch 9/50\n",
            "8/8 [==============================] - 0s 13ms/step - loss: 0.0184 - mean_squared_error: 0.0184 - mean_absolute_error: 0.1069 - val_loss: 0.0068 - val_mean_squared_error: 0.0068 - val_mean_absolute_error: 0.0672\n",
            "Epoch 10/50\n",
            "8/8 [==============================] - 0s 13ms/step - loss: 0.0162 - mean_squared_error: 0.0162 - mean_absolute_error: 0.1021 - val_loss: 0.0058 - val_mean_squared_error: 0.0058 - val_mean_absolute_error: 0.0615\n",
            "Epoch 11/50\n",
            "8/8 [==============================] - 0s 12ms/step - loss: 0.0135 - mean_squared_error: 0.0135 - mean_absolute_error: 0.0892 - val_loss: 0.0051 - val_mean_squared_error: 0.0051 - val_mean_absolute_error: 0.0579\n",
            "Epoch 12/50\n",
            "8/8 [==============================] - 0s 14ms/step - loss: 0.0149 - mean_squared_error: 0.0149 - mean_absolute_error: 0.0923 - val_loss: 0.0044 - val_mean_squared_error: 0.0044 - val_mean_absolute_error: 0.0536\n",
            "Epoch 13/50\n",
            "8/8 [==============================] - 0s 13ms/step - loss: 0.0162 - mean_squared_error: 0.0162 - mean_absolute_error: 0.0908 - val_loss: 0.0040 - val_mean_squared_error: 0.0040 - val_mean_absolute_error: 0.0511\n",
            "Epoch 14/50\n",
            "8/8 [==============================] - 0s 12ms/step - loss: 0.0137 - mean_squared_error: 0.0137 - mean_absolute_error: 0.0865 - val_loss: 0.0037 - val_mean_squared_error: 0.0037 - val_mean_absolute_error: 0.0491\n",
            "Epoch 15/50\n",
            "8/8 [==============================] - 0s 12ms/step - loss: 0.0148 - mean_squared_error: 0.0148 - mean_absolute_error: 0.0882 - val_loss: 0.0035 - val_mean_squared_error: 0.0035 - val_mean_absolute_error: 0.0477\n",
            "Epoch 16/50\n",
            "8/8 [==============================] - 0s 12ms/step - loss: 0.0110 - mean_squared_error: 0.0110 - mean_absolute_error: 0.0770 - val_loss: 0.0034 - val_mean_squared_error: 0.0034 - val_mean_absolute_error: 0.0467\n",
            "Epoch 17/50\n",
            "8/8 [==============================] - 0s 12ms/step - loss: 0.0114 - mean_squared_error: 0.0114 - mean_absolute_error: 0.0773 - val_loss: 0.0033 - val_mean_squared_error: 0.0033 - val_mean_absolute_error: 0.0461\n",
            "Epoch 18/50\n",
            "8/8 [==============================] - 0s 12ms/step - loss: 0.0107 - mean_squared_error: 0.0107 - mean_absolute_error: 0.0756 - val_loss: 0.0032 - val_mean_squared_error: 0.0032 - val_mean_absolute_error: 0.0456\n",
            "Epoch 19/50\n",
            "8/8 [==============================] - 0s 11ms/step - loss: 0.0126 - mean_squared_error: 0.0126 - mean_absolute_error: 0.0814 - val_loss: 0.0032 - val_mean_squared_error: 0.0032 - val_mean_absolute_error: 0.0455\n",
            "Epoch 20/50\n",
            "8/8 [==============================] - 0s 12ms/step - loss: 0.0105 - mean_squared_error: 0.0105 - mean_absolute_error: 0.0762 - val_loss: 0.0033 - val_mean_squared_error: 0.0033 - val_mean_absolute_error: 0.0461\n",
            "Epoch 21/50\n",
            "8/8 [==============================] - 0s 14ms/step - loss: 0.0113 - mean_squared_error: 0.0113 - mean_absolute_error: 0.0761 - val_loss: 0.0031 - val_mean_squared_error: 0.0031 - val_mean_absolute_error: 0.0450\n",
            "Epoch 22/50\n",
            "8/8 [==============================] - 0s 13ms/step - loss: 0.0099 - mean_squared_error: 0.0099 - mean_absolute_error: 0.0728 - val_loss: 0.0031 - val_mean_squared_error: 0.0031 - val_mean_absolute_error: 0.0448\n",
            "Epoch 23/50\n",
            "8/8 [==============================] - 0s 14ms/step - loss: 0.0105 - mean_squared_error: 0.0105 - mean_absolute_error: 0.0767 - val_loss: 0.0031 - val_mean_squared_error: 0.0031 - val_mean_absolute_error: 0.0448\n",
            "Epoch 24/50\n",
            "8/8 [==============================] - 0s 13ms/step - loss: 0.0115 - mean_squared_error: 0.0115 - mean_absolute_error: 0.0762 - val_loss: 0.0031 - val_mean_squared_error: 0.0031 - val_mean_absolute_error: 0.0447\n",
            "Epoch 25/50\n",
            "8/8 [==============================] - 0s 12ms/step - loss: 0.0107 - mean_squared_error: 0.0107 - mean_absolute_error: 0.0738 - val_loss: 0.0031 - val_mean_squared_error: 0.0031 - val_mean_absolute_error: 0.0447\n",
            "Epoch 26/50\n",
            "8/8 [==============================] - 0s 12ms/step - loss: 0.0102 - mean_squared_error: 0.0102 - mean_absolute_error: 0.0734 - val_loss: 0.0031 - val_mean_squared_error: 0.0031 - val_mean_absolute_error: 0.0448\n",
            "Epoch 27/50\n",
            "8/8 [==============================] - 0s 12ms/step - loss: 0.0100 - mean_squared_error: 0.0100 - mean_absolute_error: 0.0725 - val_loss: 0.0031 - val_mean_squared_error: 0.0031 - val_mean_absolute_error: 0.0448\n",
            "Epoch 28/50\n",
            "8/8 [==============================] - 0s 13ms/step - loss: 0.0104 - mean_squared_error: 0.0104 - mean_absolute_error: 0.0731 - val_loss: 0.0031 - val_mean_squared_error: 0.0031 - val_mean_absolute_error: 0.0447\n",
            "Epoch 29/50\n",
            "8/8 [==============================] - 0s 12ms/step - loss: 0.0090 - mean_squared_error: 0.0090 - mean_absolute_error: 0.0682 - val_loss: 0.0031 - val_mean_squared_error: 0.0031 - val_mean_absolute_error: 0.0446\n",
            "Epoch 30/50\n",
            "8/8 [==============================] - 0s 12ms/step - loss: 0.0095 - mean_squared_error: 0.0095 - mean_absolute_error: 0.0699 - val_loss: 0.0031 - val_mean_squared_error: 0.0031 - val_mean_absolute_error: 0.0446\n",
            "Epoch 31/50\n",
            "8/8 [==============================] - 0s 12ms/step - loss: 0.0093 - mean_squared_error: 0.0093 - mean_absolute_error: 0.0693 - val_loss: 0.0031 - val_mean_squared_error: 0.0031 - val_mean_absolute_error: 0.0446\n",
            "Epoch 32/50\n",
            "8/8 [==============================] - 0s 13ms/step - loss: 0.0105 - mean_squared_error: 0.0105 - mean_absolute_error: 0.0727 - val_loss: 0.0031 - val_mean_squared_error: 0.0031 - val_mean_absolute_error: 0.0447\n",
            "Epoch 33/50\n",
            "8/8 [==============================] - 0s 14ms/step - loss: 0.0099 - mean_squared_error: 0.0099 - mean_absolute_error: 0.0722 - val_loss: 0.0031 - val_mean_squared_error: 0.0031 - val_mean_absolute_error: 0.0447\n",
            "Epoch 34/50\n",
            "8/8 [==============================] - 0s 11ms/step - loss: 0.0095 - mean_squared_error: 0.0095 - mean_absolute_error: 0.0678 - val_loss: 0.0031 - val_mean_squared_error: 0.0031 - val_mean_absolute_error: 0.0447\n",
            "Epoch 35/50\n",
            "8/8 [==============================] - 0s 13ms/step - loss: 0.0097 - mean_squared_error: 0.0097 - mean_absolute_error: 0.0712 - val_loss: 0.0031 - val_mean_squared_error: 0.0031 - val_mean_absolute_error: 0.0447\n",
            "Epoch 36/50\n",
            "8/8 [==============================] - 0s 14ms/step - loss: 0.0088 - mean_squared_error: 0.0088 - mean_absolute_error: 0.0678 - val_loss: 0.0031 - val_mean_squared_error: 0.0031 - val_mean_absolute_error: 0.0446\n",
            "Epoch 37/50\n",
            "8/8 [==============================] - 0s 12ms/step - loss: 0.0087 - mean_squared_error: 0.0087 - mean_absolute_error: 0.0676 - val_loss: 0.0031 - val_mean_squared_error: 0.0031 - val_mean_absolute_error: 0.0446\n",
            "Epoch 38/50\n",
            "8/8 [==============================] - 0s 13ms/step - loss: 0.0093 - mean_squared_error: 0.0093 - mean_absolute_error: 0.0677 - val_loss: 0.0031 - val_mean_squared_error: 0.0031 - val_mean_absolute_error: 0.0446\n",
            "Epoch 39/50\n",
            "8/8 [==============================] - 0s 13ms/step - loss: 0.0085 - mean_squared_error: 0.0085 - mean_absolute_error: 0.0659 - val_loss: 0.0031 - val_mean_squared_error: 0.0031 - val_mean_absolute_error: 0.0446\n",
            "Epoch 40/50\n",
            "8/8 [==============================] - 0s 16ms/step - loss: 0.0091 - mean_squared_error: 0.0091 - mean_absolute_error: 0.0696 - val_loss: 0.0031 - val_mean_squared_error: 0.0031 - val_mean_absolute_error: 0.0445\n",
            "Epoch 41/50\n",
            "8/8 [==============================] - 0s 12ms/step - loss: 0.0085 - mean_squared_error: 0.0085 - mean_absolute_error: 0.0673 - val_loss: 0.0031 - val_mean_squared_error: 0.0031 - val_mean_absolute_error: 0.0446\n",
            "Epoch 42/50\n",
            "8/8 [==============================] - 0s 13ms/step - loss: 0.0093 - mean_squared_error: 0.0093 - mean_absolute_error: 0.0692 - val_loss: 0.0031 - val_mean_squared_error: 0.0031 - val_mean_absolute_error: 0.0449\n",
            "Epoch 43/50\n",
            "8/8 [==============================] - 0s 13ms/step - loss: 0.0081 - mean_squared_error: 0.0081 - mean_absolute_error: 0.0652 - val_loss: 0.0030 - val_mean_squared_error: 0.0030 - val_mean_absolute_error: 0.0445\n",
            "Epoch 44/50\n",
            "8/8 [==============================] - 0s 11ms/step - loss: 0.0086 - mean_squared_error: 0.0086 - mean_absolute_error: 0.0653 - val_loss: 0.0030 - val_mean_squared_error: 0.0030 - val_mean_absolute_error: 0.0444\n",
            "Epoch 45/50\n",
            "8/8 [==============================] - 0s 13ms/step - loss: 0.0083 - mean_squared_error: 0.0083 - mean_absolute_error: 0.0665 - val_loss: 0.0031 - val_mean_squared_error: 0.0031 - val_mean_absolute_error: 0.0445\n",
            "Epoch 46/50\n",
            "8/8 [==============================] - 0s 12ms/step - loss: 0.0083 - mean_squared_error: 0.0083 - mean_absolute_error: 0.0666 - val_loss: 0.0031 - val_mean_squared_error: 0.0031 - val_mean_absolute_error: 0.0444\n",
            "Epoch 47/50\n",
            "8/8 [==============================] - 0s 13ms/step - loss: 0.0073 - mean_squared_error: 0.0073 - mean_absolute_error: 0.0616 - val_loss: 0.0030 - val_mean_squared_error: 0.0030 - val_mean_absolute_error: 0.0443\n",
            "Epoch 48/50\n",
            "8/8 [==============================] - 0s 14ms/step - loss: 0.0084 - mean_squared_error: 0.0084 - mean_absolute_error: 0.0647 - val_loss: 0.0030 - val_mean_squared_error: 0.0030 - val_mean_absolute_error: 0.0444\n",
            "Epoch 49/50\n",
            "8/8 [==============================] - 0s 12ms/step - loss: 0.0080 - mean_squared_error: 0.0080 - mean_absolute_error: 0.0653 - val_loss: 0.0030 - val_mean_squared_error: 0.0030 - val_mean_absolute_error: 0.0443\n",
            "Epoch 50/50\n",
            "8/8 [==============================] - 0s 12ms/step - loss: 0.0080 - mean_squared_error: 0.0080 - mean_absolute_error: 0.0626 - val_loss: 0.0030 - val_mean_squared_error: 0.0030 - val_mean_absolute_error: 0.0444\n"
          ]
        },
        {
          "output_type": "display_data",
          "data": {
            "text/plain": [
              "<IPython.core.display.HTML object>"
            ],
            "text/html": [
              "<br/>Waiting for W&B process to finish, PID 3103<br/>Program ended successfully."
            ]
          },
          "metadata": {
            "tags": []
          }
        },
        {
          "output_type": "display_data",
          "data": {
            "text/plain": [
              "VBox(children=(Label(value=' 0.61MB of 0.61MB uploaded (0.00MB deduped)\\r'), FloatProgress(value=1.0, max=1.0)…"
            ],
            "application/vnd.jupyter.widget-view+json": {
              "model_id": "064e005e70684a2fa46941f762979bd3",
              "version_minor": 0,
              "version_major": 2
            }
          },
          "metadata": {
            "tags": []
          }
        },
        {
          "output_type": "display_data",
          "data": {
            "text/plain": [
              "<IPython.core.display.HTML object>"
            ],
            "text/html": [
              "Find user logs for this run at: <code>/content/feeder_repo/wandb/run-20210713_142543-p6cr2tvy/logs/debug.log</code>"
            ]
          },
          "metadata": {
            "tags": []
          }
        },
        {
          "output_type": "display_data",
          "data": {
            "text/plain": [
              "<IPython.core.display.HTML object>"
            ],
            "text/html": [
              "Find internal logs for this run at: <code>/content/feeder_repo/wandb/run-20210713_142543-p6cr2tvy/logs/debug-internal.log</code>"
            ]
          },
          "metadata": {
            "tags": []
          }
        },
        {
          "output_type": "display_data",
          "data": {
            "text/plain": [
              "<IPython.core.display.HTML object>"
            ],
            "text/html": [
              "<h3>Run summary:</h3><br/><style>\n",
              "    table.wandb td:nth-child(1) { padding: 0 10px; text-align: right }\n",
              "    </style><table class=\"wandb\">\n",
              "<tr><td>epoch</td><td>49</td></tr><tr><td>loss</td><td>0.00822</td></tr><tr><td>mean_squared_error</td><td>0.00822</td></tr><tr><td>mean_absolute_error</td><td>0.06461</td></tr><tr><td>val_loss</td><td>0.00304</td></tr><tr><td>val_mean_squared_error</td><td>0.00304</td></tr><tr><td>val_mean_absolute_error</td><td>0.04436</td></tr><tr><td>_runtime</td><td>16</td></tr><tr><td>_timestamp</td><td>1626186359</td></tr><tr><td>_step</td><td>49</td></tr><tr><td>best_val_loss</td><td>0.00303</td></tr><tr><td>best_epoch</td><td>47</td></tr></table>"
            ]
          },
          "metadata": {
            "tags": []
          }
        },
        {
          "output_type": "display_data",
          "data": {
            "text/plain": [
              "<IPython.core.display.HTML object>"
            ],
            "text/html": [
              "<h3>Run history:</h3><br/><style>\n",
              "    table.wandb td:nth-child(1) { padding: 0 10px; text-align: right }\n",
              "    </style><table class=\"wandb\">\n",
              "<tr><td>epoch</td><td>▁▁▁▁▂▂▂▂▂▃▃▃▃▃▃▄▄▄▄▄▅▅▅▅▅▅▆▆▆▆▆▆▇▇▇▇▇███</td></tr><tr><td>loss</td><td>█▅▃▂▁▁▁▁▁▁▁▁▁▁▁▁▁▁▁▁▁▁▁▁▁▁▁▁▁▁▁▁▁▁▁▁▁▁▁▁</td></tr><tr><td>mean_squared_error</td><td>█▅▃▂▁▁▁▁▁▁▁▁▁▁▁▁▁▁▁▁▁▁▁▁▁▁▁▁▁▁▁▁▁▁▁▁▁▁▁▁</td></tr><tr><td>mean_absolute_error</td><td>█▆▄▃▂▂▂▂▁▂▁▁▁▁▁▁▁▁▁▁▁▁▁▁▁▁▁▁▁▁▁▁▁▁▁▁▁▁▁▁</td></tr><tr><td>val_loss</td><td>█▄▂▂▁▁▁▁▁▁▁▁▁▁▁▁▁▁▁▁▁▁▁▁▁▁▁▁▁▁▁▁▁▁▁▁▁▁▁▁</td></tr><tr><td>val_mean_squared_error</td><td>█▄▂▂▁▁▁▁▁▁▁▁▁▁▁▁▁▁▁▁▁▁▁▁▁▁▁▁▁▁▁▁▁▁▁▁▁▁▁▁</td></tr><tr><td>val_mean_absolute_error</td><td>█▅▃▂▂▂▂▂▁▁▁▁▁▁▁▁▁▁▁▁▁▁▁▁▁▁▁▁▁▁▁▁▁▁▁▁▁▁▁▁</td></tr><tr><td>_runtime</td><td>▁▁▁▁▁▁▁▂▂▂▂▂▃▃▃▃▃▃▅▅▅▅▅▅▆▆▆▆▆▆▆▆▇▇▇▇▇▇██</td></tr><tr><td>_timestamp</td><td>▁▁▁▁▁▁▁▂▂▂▂▂▃▃▃▃▃▃▅▅▅▅▅▅▆▆▆▆▆▆▆▆▇▇▇▇▇▇██</td></tr><tr><td>_step</td><td>▁▁▁▁▂▂▂▂▂▃▃▃▃▃▃▄▄▄▄▄▅▅▅▅▅▅▆▆▆▆▆▆▇▇▇▇▇███</td></tr></table><br/>"
            ]
          },
          "metadata": {
            "tags": []
          }
        },
        {
          "output_type": "display_data",
          "data": {
            "text/plain": [
              "<IPython.core.display.HTML object>"
            ],
            "text/html": [
              "Synced 5 W&B file(s), 1 media file(s), 2 artifact file(s) and 2 other file(s)"
            ]
          },
          "metadata": {
            "tags": []
          }
        },
        {
          "output_type": "display_data",
          "data": {
            "text/plain": [
              "<IPython.core.display.HTML object>"
            ],
            "text/html": [
              "\n",
              "                    <br/>Synced <strong style=\"color:#cdcd00\">absurd-sweep-10</strong>: <a href=\"https://wandb.ai/acse-jaq15/ACSE_9_GRU/runs/p6cr2tvy\" target=\"_blank\">https://wandb.ai/acse-jaq15/ACSE_9_GRU/runs/p6cr2tvy</a><br/>\n",
              "                "
            ]
          },
          "metadata": {
            "tags": []
          }
        },
        {
          "output_type": "stream",
          "name": "stderr",
          "text": [
            "\u001b[34m\u001b[1mwandb\u001b[0m: Agent Starting Run: nadautkx with config:\n",
            "\u001b[34m\u001b[1mwandb\u001b[0m: \tactivation: selu\n",
            "\u001b[34m\u001b[1mwandb\u001b[0m: \tbatch_size: 128\n",
            "\u001b[34m\u001b[1mwandb\u001b[0m: \tdropout: 0.2\n",
            "\u001b[34m\u001b[1mwandb\u001b[0m: \tepochs: 50\n",
            "\u001b[34m\u001b[1mwandb\u001b[0m: \thidden_size: 50\n",
            "\u001b[34m\u001b[1mwandb\u001b[0m: \tinput_size: 50\n",
            "\u001b[34m\u001b[1mwandb\u001b[0m: \tlearning_rate: 0.005\n",
            "\u001b[34m\u001b[1mwandb\u001b[0m: \toptimizer: sgd\n"
          ]
        },
        {
          "output_type": "display_data",
          "data": {
            "text/plain": [
              "<IPython.core.display.HTML object>"
            ],
            "text/html": [
              "\n",
              "                Tracking run with wandb version 0.10.33<br/>\n",
              "                Syncing run <strong style=\"color:#cdcd00\">swept-sweep-11</strong> to <a href=\"https://wandb.ai\" target=\"_blank\">Weights & Biases</a> <a href=\"https://docs.wandb.com/integrations/jupyter.html\" target=\"_blank\">(Documentation)</a>.<br/>\n",
              "                Project page: <a href=\"https://wandb.ai/acse-jaq15/ACSE_9_GRU\" target=\"_blank\">https://wandb.ai/acse-jaq15/ACSE_9_GRU</a><br/>\n",
              "                Sweep page: <a href=\"https://wandb.ai/acse-jaq15/ACSE_9_GRU/sweeps/znsj9bl4\" target=\"_blank\">https://wandb.ai/acse-jaq15/ACSE_9_GRU/sweeps/znsj9bl4</a><br/>\n",
              "Run page: <a href=\"https://wandb.ai/acse-jaq15/ACSE_9_GRU/runs/nadautkx\" target=\"_blank\">https://wandb.ai/acse-jaq15/ACSE_9_GRU/runs/nadautkx</a><br/>\n",
              "                Run data is saved locally in <code>/content/feeder_repo/wandb/run-20210713_142613-nadautkx</code><br/><br/>\n",
              "            "
            ]
          },
          "metadata": {
            "tags": []
          }
        },
        {
          "output_type": "stream",
          "name": "stdout",
          "text": [
            "WARNING:tensorflow:Layer gru will not use cuDNN kernels since it doesn't meet the criteria. It will use a generic GPU kernel as fallback when running on GPU.\n",
            "Epoch 1/50\n",
            "8/8 [==============================] - 5s 241ms/step - loss: 0.1698 - mean_squared_error: 0.1698 - mean_absolute_error: 0.3313 - val_loss: 0.0575 - val_mean_squared_error: 0.0575 - val_mean_absolute_error: 0.2106\n",
            "Epoch 2/50\n",
            "8/8 [==============================] - 1s 70ms/step - loss: 0.0579 - mean_squared_error: 0.0579 - mean_absolute_error: 0.2032 - val_loss: 0.0208 - val_mean_squared_error: 0.0208 - val_mean_absolute_error: 0.1272\n",
            "Epoch 3/50\n",
            "8/8 [==============================] - 1s 75ms/step - loss: 0.0226 - mean_squared_error: 0.0226 - mean_absolute_error: 0.1251 - val_loss: 0.0112 - val_mean_squared_error: 0.0112 - val_mean_absolute_error: 0.0818\n",
            "Epoch 4/50\n",
            "8/8 [==============================] - 1s 77ms/step - loss: 0.0157 - mean_squared_error: 0.0157 - mean_absolute_error: 0.1012 - val_loss: 0.0072 - val_mean_squared_error: 0.0072 - val_mean_absolute_error: 0.0713\n",
            "Epoch 5/50\n",
            "8/8 [==============================] - 1s 76ms/step - loss: 0.0092 - mean_squared_error: 0.0092 - mean_absolute_error: 0.0802 - val_loss: 0.0036 - val_mean_squared_error: 0.0036 - val_mean_absolute_error: 0.0488\n",
            "Epoch 6/50\n",
            "8/8 [==============================] - 1s 76ms/step - loss: 0.0051 - mean_squared_error: 0.0051 - mean_absolute_error: 0.0533 - val_loss: 0.0028 - val_mean_squared_error: 0.0028 - val_mean_absolute_error: 0.0428\n",
            "Epoch 7/50\n",
            "8/8 [==============================] - 1s 76ms/step - loss: 0.0052 - mean_squared_error: 0.0052 - mean_absolute_error: 0.0516 - val_loss: 0.0028 - val_mean_squared_error: 0.0028 - val_mean_absolute_error: 0.0421\n",
            "Epoch 8/50\n",
            "8/8 [==============================] - 1s 81ms/step - loss: 0.0049 - mean_squared_error: 0.0049 - mean_absolute_error: 0.0498 - val_loss: 0.0027 - val_mean_squared_error: 0.0027 - val_mean_absolute_error: 0.0418\n",
            "Epoch 9/50\n",
            "8/8 [==============================] - 1s 67ms/step - loss: 0.0046 - mean_squared_error: 0.0046 - mean_absolute_error: 0.0497 - val_loss: 0.0027 - val_mean_squared_error: 0.0027 - val_mean_absolute_error: 0.0418\n",
            "Epoch 10/50\n",
            "8/8 [==============================] - 1s 77ms/step - loss: 0.0043 - mean_squared_error: 0.0043 - mean_absolute_error: 0.0476 - val_loss: 0.0027 - val_mean_squared_error: 0.0027 - val_mean_absolute_error: 0.0419\n",
            "Epoch 11/50\n",
            "8/8 [==============================] - 1s 81ms/step - loss: 0.0041 - mean_squared_error: 0.0041 - mean_absolute_error: 0.0451 - val_loss: 0.0028 - val_mean_squared_error: 0.0028 - val_mean_absolute_error: 0.0422\n",
            "Epoch 12/50\n",
            "8/8 [==============================] - 1s 70ms/step - loss: 0.0044 - mean_squared_error: 0.0044 - mean_absolute_error: 0.0486 - val_loss: 0.0027 - val_mean_squared_error: 0.0027 - val_mean_absolute_error: 0.0418\n",
            "Epoch 13/50\n",
            "8/8 [==============================] - 1s 73ms/step - loss: 0.0045 - mean_squared_error: 0.0045 - mean_absolute_error: 0.0483 - val_loss: 0.0027 - val_mean_squared_error: 0.0027 - val_mean_absolute_error: 0.0416\n",
            "Epoch 14/50\n",
            "8/8 [==============================] - 1s 66ms/step - loss: 0.0042 - mean_squared_error: 0.0042 - mean_absolute_error: 0.0473 - val_loss: 0.0027 - val_mean_squared_error: 0.0027 - val_mean_absolute_error: 0.0417\n",
            "Epoch 15/50\n",
            "8/8 [==============================] - 1s 75ms/step - loss: 0.0041 - mean_squared_error: 0.0041 - mean_absolute_error: 0.0465 - val_loss: 0.0027 - val_mean_squared_error: 0.0027 - val_mean_absolute_error: 0.0416\n",
            "Epoch 16/50\n",
            "8/8 [==============================] - 1s 73ms/step - loss: 0.0041 - mean_squared_error: 0.0041 - mean_absolute_error: 0.0469 - val_loss: 0.0027 - val_mean_squared_error: 0.0027 - val_mean_absolute_error: 0.0415\n",
            "Epoch 17/50\n",
            "8/8 [==============================] - 1s 71ms/step - loss: 0.0035 - mean_squared_error: 0.0035 - mean_absolute_error: 0.0432 - val_loss: 0.0027 - val_mean_squared_error: 0.0027 - val_mean_absolute_error: 0.0418\n",
            "Epoch 18/50\n",
            "8/8 [==============================] - 1s 77ms/step - loss: 0.0038 - mean_squared_error: 0.0038 - mean_absolute_error: 0.0456 - val_loss: 0.0027 - val_mean_squared_error: 0.0027 - val_mean_absolute_error: 0.0417\n",
            "Epoch 19/50\n",
            "8/8 [==============================] - 1s 72ms/step - loss: 0.0041 - mean_squared_error: 0.0041 - mean_absolute_error: 0.0463 - val_loss: 0.0027 - val_mean_squared_error: 0.0027 - val_mean_absolute_error: 0.0415\n",
            "Epoch 20/50\n",
            "8/8 [==============================] - 1s 71ms/step - loss: 0.0043 - mean_squared_error: 0.0043 - mean_absolute_error: 0.0470 - val_loss: 0.0027 - val_mean_squared_error: 0.0027 - val_mean_absolute_error: 0.0416\n",
            "Epoch 21/50\n",
            "8/8 [==============================] - 1s 70ms/step - loss: 0.0036 - mean_squared_error: 0.0036 - mean_absolute_error: 0.0444 - val_loss: 0.0027 - val_mean_squared_error: 0.0027 - val_mean_absolute_error: 0.0419\n",
            "Epoch 22/50\n",
            "8/8 [==============================] - 1s 67ms/step - loss: 0.0040 - mean_squared_error: 0.0040 - mean_absolute_error: 0.0452 - val_loss: 0.0027 - val_mean_squared_error: 0.0027 - val_mean_absolute_error: 0.0418\n",
            "Epoch 23/50\n",
            "8/8 [==============================] - 1s 73ms/step - loss: 0.0034 - mean_squared_error: 0.0034 - mean_absolute_error: 0.0439 - val_loss: 0.0027 - val_mean_squared_error: 0.0027 - val_mean_absolute_error: 0.0417\n",
            "Epoch 24/50\n",
            "8/8 [==============================] - 1s 74ms/step - loss: 0.0037 - mean_squared_error: 0.0037 - mean_absolute_error: 0.0439 - val_loss: 0.0027 - val_mean_squared_error: 0.0027 - val_mean_absolute_error: 0.0417\n",
            "Epoch 25/50\n",
            "8/8 [==============================] - 1s 73ms/step - loss: 0.0034 - mean_squared_error: 0.0034 - mean_absolute_error: 0.0424 - val_loss: 0.0027 - val_mean_squared_error: 0.0027 - val_mean_absolute_error: 0.0417\n",
            "Epoch 26/50\n",
            "8/8 [==============================] - 1s 68ms/step - loss: 0.0031 - mean_squared_error: 0.0031 - mean_absolute_error: 0.0397 - val_loss: 0.0027 - val_mean_squared_error: 0.0027 - val_mean_absolute_error: 0.0419\n",
            "Epoch 27/50\n",
            "8/8 [==============================] - 1s 71ms/step - loss: 0.0034 - mean_squared_error: 0.0034 - mean_absolute_error: 0.0432 - val_loss: 0.0027 - val_mean_squared_error: 0.0027 - val_mean_absolute_error: 0.0416\n",
            "Epoch 28/50\n",
            "8/8 [==============================] - 1s 66ms/step - loss: 0.0033 - mean_squared_error: 0.0033 - mean_absolute_error: 0.0418 - val_loss: 0.0027 - val_mean_squared_error: 0.0027 - val_mean_absolute_error: 0.0416\n",
            "Epoch 29/50\n",
            "8/8 [==============================] - 1s 68ms/step - loss: 0.0031 - mean_squared_error: 0.0031 - mean_absolute_error: 0.0400 - val_loss: 0.0027 - val_mean_squared_error: 0.0027 - val_mean_absolute_error: 0.0416\n",
            "Epoch 30/50\n",
            "8/8 [==============================] - 1s 68ms/step - loss: 0.0036 - mean_squared_error: 0.0036 - mean_absolute_error: 0.0436 - val_loss: 0.0027 - val_mean_squared_error: 0.0027 - val_mean_absolute_error: 0.0417\n",
            "Epoch 31/50\n",
            "8/8 [==============================] - 1s 74ms/step - loss: 0.0035 - mean_squared_error: 0.0035 - mean_absolute_error: 0.0432 - val_loss: 0.0027 - val_mean_squared_error: 0.0027 - val_mean_absolute_error: 0.0415\n",
            "Epoch 32/50\n",
            "8/8 [==============================] - 1s 70ms/step - loss: 0.0035 - mean_squared_error: 0.0035 - mean_absolute_error: 0.0427 - val_loss: 0.0026 - val_mean_squared_error: 0.0026 - val_mean_absolute_error: 0.0416\n",
            "Epoch 33/50\n",
            "8/8 [==============================] - 1s 68ms/step - loss: 0.0033 - mean_squared_error: 0.0033 - mean_absolute_error: 0.0424 - val_loss: 0.0027 - val_mean_squared_error: 0.0027 - val_mean_absolute_error: 0.0419\n",
            "Epoch 34/50\n",
            "8/8 [==============================] - 1s 74ms/step - loss: 0.0034 - mean_squared_error: 0.0034 - mean_absolute_error: 0.0422 - val_loss: 0.0027 - val_mean_squared_error: 0.0027 - val_mean_absolute_error: 0.0416\n",
            "Epoch 35/50\n",
            "8/8 [==============================] - 1s 78ms/step - loss: 0.0028 - mean_squared_error: 0.0028 - mean_absolute_error: 0.0387 - val_loss: 0.0026 - val_mean_squared_error: 0.0026 - val_mean_absolute_error: 0.0416\n",
            "Epoch 36/50\n",
            "8/8 [==============================] - 1s 71ms/step - loss: 0.0029 - mean_squared_error: 0.0029 - mean_absolute_error: 0.0397 - val_loss: 0.0027 - val_mean_squared_error: 0.0027 - val_mean_absolute_error: 0.0416\n",
            "Epoch 37/50\n",
            "8/8 [==============================] - 1s 71ms/step - loss: 0.0031 - mean_squared_error: 0.0031 - mean_absolute_error: 0.0407 - val_loss: 0.0027 - val_mean_squared_error: 0.0027 - val_mean_absolute_error: 0.0417\n",
            "Epoch 38/50\n",
            "8/8 [==============================] - 1s 67ms/step - loss: 0.0030 - mean_squared_error: 0.0030 - mean_absolute_error: 0.0400 - val_loss: 0.0028 - val_mean_squared_error: 0.0028 - val_mean_absolute_error: 0.0426\n",
            "Epoch 39/50\n",
            "8/8 [==============================] - 1s 69ms/step - loss: 0.0031 - mean_squared_error: 0.0031 - mean_absolute_error: 0.0411 - val_loss: 0.0026 - val_mean_squared_error: 0.0026 - val_mean_absolute_error: 0.0416\n",
            "Epoch 40/50\n",
            "8/8 [==============================] - 1s 74ms/step - loss: 0.0028 - mean_squared_error: 0.0028 - mean_absolute_error: 0.0390 - val_loss: 0.0027 - val_mean_squared_error: 0.0027 - val_mean_absolute_error: 0.0416\n",
            "Epoch 41/50\n",
            "8/8 [==============================] - 1s 82ms/step - loss: 0.0029 - mean_squared_error: 0.0029 - mean_absolute_error: 0.0396 - val_loss: 0.0027 - val_mean_squared_error: 0.0027 - val_mean_absolute_error: 0.0415\n",
            "Epoch 42/50\n",
            "8/8 [==============================] - 1s 75ms/step - loss: 0.0033 - mean_squared_error: 0.0033 - mean_absolute_error: 0.0419 - val_loss: 0.0027 - val_mean_squared_error: 0.0027 - val_mean_absolute_error: 0.0416\n",
            "Epoch 43/50\n",
            "8/8 [==============================] - 1s 74ms/step - loss: 0.0032 - mean_squared_error: 0.0032 - mean_absolute_error: 0.0419 - val_loss: 0.0027 - val_mean_squared_error: 0.0027 - val_mean_absolute_error: 0.0419\n",
            "Epoch 44/50\n",
            "8/8 [==============================] - 1s 78ms/step - loss: 0.0029 - mean_squared_error: 0.0029 - mean_absolute_error: 0.0397 - val_loss: 0.0026 - val_mean_squared_error: 0.0026 - val_mean_absolute_error: 0.0415\n",
            "Epoch 45/50\n",
            "8/8 [==============================] - 1s 75ms/step - loss: 0.0031 - mean_squared_error: 0.0031 - mean_absolute_error: 0.0411 - val_loss: 0.0027 - val_mean_squared_error: 0.0027 - val_mean_absolute_error: 0.0415\n",
            "Epoch 46/50\n",
            "8/8 [==============================] - 1s 74ms/step - loss: 0.0028 - mean_squared_error: 0.0028 - mean_absolute_error: 0.0399 - val_loss: 0.0027 - val_mean_squared_error: 0.0027 - val_mean_absolute_error: 0.0415\n",
            "Epoch 47/50\n",
            "8/8 [==============================] - 1s 70ms/step - loss: 0.0028 - mean_squared_error: 0.0028 - mean_absolute_error: 0.0388 - val_loss: 0.0027 - val_mean_squared_error: 0.0027 - val_mean_absolute_error: 0.0416\n",
            "Epoch 48/50\n",
            "8/8 [==============================] - 1s 79ms/step - loss: 0.0025 - mean_squared_error: 0.0025 - mean_absolute_error: 0.0365 - val_loss: 0.0027 - val_mean_squared_error: 0.0027 - val_mean_absolute_error: 0.0415\n",
            "Epoch 49/50\n",
            "8/8 [==============================] - 1s 72ms/step - loss: 0.0027 - mean_squared_error: 0.0027 - mean_absolute_error: 0.0390 - val_loss: 0.0026 - val_mean_squared_error: 0.0026 - val_mean_absolute_error: 0.0415\n"
          ]
        },
        {
          "output_type": "display_data",
          "data": {
            "text/plain": [
              "<IPython.core.display.HTML object>"
            ],
            "text/html": [
              "<br/>Waiting for W&B process to finish, PID 3314<br/>Program ended successfully."
            ]
          },
          "metadata": {
            "tags": []
          }
        },
        {
          "output_type": "display_data",
          "data": {
            "text/plain": [
              "VBox(children=(Label(value=' 0.74MB of 0.74MB uploaded (0.00MB deduped)\\r'), FloatProgress(value=1.0, max=1.0)…"
            ],
            "application/vnd.jupyter.widget-view+json": {
              "model_id": "aebe71a9652f47048cd5bf0ee128a160",
              "version_minor": 0,
              "version_major": 2
            }
          },
          "metadata": {
            "tags": []
          }
        },
        {
          "output_type": "display_data",
          "data": {
            "text/plain": [
              "<IPython.core.display.HTML object>"
            ],
            "text/html": [
              "Find user logs for this run at: <code>/content/feeder_repo/wandb/run-20210713_142613-nadautkx/logs/debug.log</code>"
            ]
          },
          "metadata": {
            "tags": []
          }
        },
        {
          "output_type": "display_data",
          "data": {
            "text/plain": [
              "<IPython.core.display.HTML object>"
            ],
            "text/html": [
              "Find internal logs for this run at: <code>/content/feeder_repo/wandb/run-20210713_142613-nadautkx/logs/debug-internal.log</code>"
            ]
          },
          "metadata": {
            "tags": []
          }
        },
        {
          "output_type": "display_data",
          "data": {
            "text/plain": [
              "<IPython.core.display.HTML object>"
            ],
            "text/html": [
              "<h3>Run summary:</h3><br/><style>\n",
              "    table.wandb td:nth-child(1) { padding: 0 10px; text-align: right }\n",
              "    </style><table class=\"wandb\">\n",
              "<tr><td>epoch</td><td>48</td></tr><tr><td>loss</td><td>0.00285</td></tr><tr><td>mean_squared_error</td><td>0.00285</td></tr><tr><td>mean_absolute_error</td><td>0.04005</td></tr><tr><td>val_loss</td><td>0.00264</td></tr><tr><td>val_mean_squared_error</td><td>0.00264</td></tr><tr><td>val_mean_absolute_error</td><td>0.04149</td></tr><tr><td>_runtime</td><td>38</td></tr><tr><td>_timestamp</td><td>1626186411</td></tr><tr><td>_step</td><td>48</td></tr><tr><td>best_val_loss</td><td>0.00264</td></tr><tr><td>best_epoch</td><td>38</td></tr></table>"
            ]
          },
          "metadata": {
            "tags": []
          }
        },
        {
          "output_type": "display_data",
          "data": {
            "text/plain": [
              "<IPython.core.display.HTML object>"
            ],
            "text/html": [
              "<h3>Run history:</h3><br/><style>\n",
              "    table.wandb td:nth-child(1) { padding: 0 10px; text-align: right }\n",
              "    </style><table class=\"wandb\">\n",
              "<tr><td>epoch</td><td>▁▁▁▁▂▂▂▂▂▃▃▃▃▃▃▄▄▄▄▄▅▅▅▅▅▅▆▆▆▆▆▇▇▇▇▇▇███</td></tr><tr><td>loss</td><td>█▄▂▂▁▁▁▁▁▁▁▁▁▁▁▁▁▁▁▁▁▁▁▁▁▁▁▁▁▁▁▁▁▁▁▁▁▁▁▁</td></tr><tr><td>mean_squared_error</td><td>█▄▂▂▁▁▁▁▁▁▁▁▁▁▁▁▁▁▁▁▁▁▁▁▁▁▁▁▁▁▁▁▁▁▁▁▁▁▁▁</td></tr><tr><td>mean_absolute_error</td><td>█▆▄▃▂▁▁▁▁▁▁▁▁▁▁▁▁▁▁▁▁▁▁▁▁▁▁▁▁▁▁▁▁▁▁▁▁▁▁▁</td></tr><tr><td>val_loss</td><td>█▃▂▂▁▁▁▁▁▁▁▁▁▁▁▁▁▁▁▁▁▁▁▁▁▁▁▁▁▁▁▁▁▁▁▁▁▁▁▁</td></tr><tr><td>val_mean_squared_error</td><td>█▃▂▂▁▁▁▁▁▁▁▁▁▁▁▁▁▁▁▁▁▁▁▁▁▁▁▁▁▁▁▁▁▁▁▁▁▁▁▁</td></tr><tr><td>val_mean_absolute_error</td><td>█▅▃▂▁▁▁▁▁▁▁▁▁▁▁▁▁▁▁▁▁▁▁▁▁▁▁▁▁▁▁▁▁▁▁▁▁▁▁▁</td></tr><tr><td>_runtime</td><td>▁▁▁▁▂▂▂▂▂▃▃▃▃▃▄▄▄▄▄▄▅▅▅▅▅▅▆▆▆▆▆▇▇▇▇▇▇███</td></tr><tr><td>_timestamp</td><td>▁▁▁▁▂▂▂▂▂▃▃▃▃▃▄▄▄▄▄▄▅▅▅▅▅▅▆▆▆▆▆▇▇▇▇▇▇███</td></tr><tr><td>_step</td><td>▁▁▁▁▂▂▂▂▂▃▃▃▃▃▃▄▄▄▄▄▅▅▅▅▅▅▆▆▆▆▆▇▇▇▇▇▇███</td></tr></table><br/>"
            ]
          },
          "metadata": {
            "tags": []
          }
        },
        {
          "output_type": "display_data",
          "data": {
            "text/plain": [
              "<IPython.core.display.HTML object>"
            ],
            "text/html": [
              "Synced 5 W&B file(s), 1 media file(s), 2 artifact file(s) and 2 other file(s)"
            ]
          },
          "metadata": {
            "tags": []
          }
        },
        {
          "output_type": "display_data",
          "data": {
            "text/plain": [
              "<IPython.core.display.HTML object>"
            ],
            "text/html": [
              "\n",
              "                    <br/>Synced <strong style=\"color:#cdcd00\">swept-sweep-11</strong>: <a href=\"https://wandb.ai/acse-jaq15/ACSE_9_GRU/runs/nadautkx\" target=\"_blank\">https://wandb.ai/acse-jaq15/ACSE_9_GRU/runs/nadautkx</a><br/>\n",
              "                "
            ]
          },
          "metadata": {
            "tags": []
          }
        },
        {
          "output_type": "stream",
          "name": "stderr",
          "text": [
            "\u001b[34m\u001b[1mwandb\u001b[0m: Agent Starting Run: ie29uel5 with config:\n",
            "\u001b[34m\u001b[1mwandb\u001b[0m: \tactivation: relu\n",
            "\u001b[34m\u001b[1mwandb\u001b[0m: \tbatch_size: 32\n",
            "\u001b[34m\u001b[1mwandb\u001b[0m: \tdropout: 0.3\n",
            "\u001b[34m\u001b[1mwandb\u001b[0m: \tepochs: 200\n",
            "\u001b[34m\u001b[1mwandb\u001b[0m: \thidden_size: 25\n",
            "\u001b[34m\u001b[1mwandb\u001b[0m: \tinput_size: 100\n",
            "\u001b[34m\u001b[1mwandb\u001b[0m: \tlearning_rate: 0.001\n",
            "\u001b[34m\u001b[1mwandb\u001b[0m: \toptimizer: adam\n"
          ]
        },
        {
          "output_type": "display_data",
          "data": {
            "text/plain": [
              "<IPython.core.display.HTML object>"
            ],
            "text/html": [
              "\n",
              "                Tracking run with wandb version 0.10.33<br/>\n",
              "                Syncing run <strong style=\"color:#cdcd00\">jolly-sweep-12</strong> to <a href=\"https://wandb.ai\" target=\"_blank\">Weights & Biases</a> <a href=\"https://docs.wandb.com/integrations/jupyter.html\" target=\"_blank\">(Documentation)</a>.<br/>\n",
              "                Project page: <a href=\"https://wandb.ai/acse-jaq15/ACSE_9_GRU\" target=\"_blank\">https://wandb.ai/acse-jaq15/ACSE_9_GRU</a><br/>\n",
              "                Sweep page: <a href=\"https://wandb.ai/acse-jaq15/ACSE_9_GRU/sweeps/znsj9bl4\" target=\"_blank\">https://wandb.ai/acse-jaq15/ACSE_9_GRU/sweeps/znsj9bl4</a><br/>\n",
              "Run page: <a href=\"https://wandb.ai/acse-jaq15/ACSE_9_GRU/runs/ie29uel5\" target=\"_blank\">https://wandb.ai/acse-jaq15/ACSE_9_GRU/runs/ie29uel5</a><br/>\n",
              "                Run data is saved locally in <code>/content/feeder_repo/wandb/run-20210713_142702-ie29uel5</code><br/><br/>\n",
              "            "
            ]
          },
          "metadata": {
            "tags": []
          }
        },
        {
          "output_type": "stream",
          "name": "stdout",
          "text": [
            "WARNING:tensorflow:Layer gru will not use cuDNN kernels since it doesn't meet the criteria. It will use a generic GPU kernel as fallback when running on GPU.\n",
            "Epoch 1/200\n",
            "32/32 [==============================] - 6s 97ms/step - loss: 0.1563 - mean_squared_error: 0.1563 - mean_absolute_error: 0.2993 - val_loss: 0.0094 - val_mean_squared_error: 0.0094 - val_mean_absolute_error: 0.0743\n",
            "Epoch 2/200\n",
            "32/32 [==============================] - 2s 70ms/step - loss: 0.0156 - mean_squared_error: 0.0156 - mean_absolute_error: 0.0927 - val_loss: 0.0029 - val_mean_squared_error: 0.0029 - val_mean_absolute_error: 0.0430\n",
            "Epoch 3/200\n",
            "32/32 [==============================] - 2s 70ms/step - loss: 0.0123 - mean_squared_error: 0.0123 - mean_absolute_error: 0.0780 - val_loss: 0.0030 - val_mean_squared_error: 0.0030 - val_mean_absolute_error: 0.0441\n",
            "Epoch 4/200\n",
            "32/32 [==============================] - 2s 69ms/step - loss: 0.0088 - mean_squared_error: 0.0088 - mean_absolute_error: 0.0670 - val_loss: 0.0028 - val_mean_squared_error: 0.0028 - val_mean_absolute_error: 0.0425\n",
            "Epoch 5/200\n",
            "32/32 [==============================] - 2s 71ms/step - loss: 0.0081 - mean_squared_error: 0.0081 - mean_absolute_error: 0.0622 - val_loss: 0.0029 - val_mean_squared_error: 0.0029 - val_mean_absolute_error: 0.0437\n",
            "Epoch 6/200\n",
            "32/32 [==============================] - 2s 70ms/step - loss: 0.0082 - mean_squared_error: 0.0082 - mean_absolute_error: 0.0639 - val_loss: 0.0031 - val_mean_squared_error: 0.0031 - val_mean_absolute_error: 0.0451\n",
            "Epoch 7/200\n",
            "32/32 [==============================] - 2s 69ms/step - loss: 0.0075 - mean_squared_error: 0.0075 - mean_absolute_error: 0.0626 - val_loss: 0.0030 - val_mean_squared_error: 0.0030 - val_mean_absolute_error: 0.0445\n",
            "Epoch 8/200\n",
            "32/32 [==============================] - 2s 70ms/step - loss: 0.0085 - mean_squared_error: 0.0085 - mean_absolute_error: 0.0663 - val_loss: 0.0028 - val_mean_squared_error: 0.0028 - val_mean_absolute_error: 0.0422\n",
            "Epoch 9/200\n",
            "32/32 [==============================] - 2s 71ms/step - loss: 0.0076 - mean_squared_error: 0.0076 - mean_absolute_error: 0.0627 - val_loss: 0.0028 - val_mean_squared_error: 0.0028 - val_mean_absolute_error: 0.0428\n",
            "Epoch 10/200\n",
            "32/32 [==============================] - 2s 71ms/step - loss: 0.0074 - mean_squared_error: 0.0074 - mean_absolute_error: 0.0623 - val_loss: 0.0034 - val_mean_squared_error: 0.0034 - val_mean_absolute_error: 0.0467\n",
            "Epoch 11/200\n",
            "32/32 [==============================] - 2s 71ms/step - loss: 0.0076 - mean_squared_error: 0.0076 - mean_absolute_error: 0.0667 - val_loss: 0.0030 - val_mean_squared_error: 0.0030 - val_mean_absolute_error: 0.0444\n",
            "Epoch 12/200\n",
            "32/32 [==============================] - 2s 70ms/step - loss: 0.0070 - mean_squared_error: 0.0070 - mean_absolute_error: 0.0616 - val_loss: 0.0028 - val_mean_squared_error: 0.0028 - val_mean_absolute_error: 0.0428\n",
            "Epoch 13/200\n",
            "32/32 [==============================] - 2s 69ms/step - loss: 0.0077 - mean_squared_error: 0.0077 - mean_absolute_error: 0.0618 - val_loss: 0.0028 - val_mean_squared_error: 0.0028 - val_mean_absolute_error: 0.0427\n",
            "Epoch 14/200\n",
            "32/32 [==============================] - 2s 70ms/step - loss: 0.0072 - mean_squared_error: 0.0072 - mean_absolute_error: 0.0602 - val_loss: 0.0034 - val_mean_squared_error: 0.0034 - val_mean_absolute_error: 0.0465\n",
            "Epoch 15/200\n",
            "32/32 [==============================] - 2s 70ms/step - loss: 0.0064 - mean_squared_error: 0.0064 - mean_absolute_error: 0.0583 - val_loss: 0.0028 - val_mean_squared_error: 0.0028 - val_mean_absolute_error: 0.0425\n",
            "Epoch 16/200\n",
            "32/32 [==============================] - 2s 75ms/step - loss: 0.0069 - mean_squared_error: 0.0069 - mean_absolute_error: 0.0600 - val_loss: 0.0037 - val_mean_squared_error: 0.0037 - val_mean_absolute_error: 0.0493\n",
            "Epoch 17/200\n",
            "32/32 [==============================] - 2s 72ms/step - loss: 0.0058 - mean_squared_error: 0.0058 - mean_absolute_error: 0.0562 - val_loss: 0.0032 - val_mean_squared_error: 0.0032 - val_mean_absolute_error: 0.0454\n",
            "Epoch 18/200\n",
            "32/32 [==============================] - 2s 70ms/step - loss: 0.0061 - mean_squared_error: 0.0061 - mean_absolute_error: 0.0563 - val_loss: 0.0028 - val_mean_squared_error: 0.0028 - val_mean_absolute_error: 0.0418\n",
            "Epoch 19/200\n",
            "32/32 [==============================] - 2s 70ms/step - loss: 0.0063 - mean_squared_error: 0.0063 - mean_absolute_error: 0.0577 - val_loss: 0.0030 - val_mean_squared_error: 0.0030 - val_mean_absolute_error: 0.0439\n",
            "Epoch 20/200\n",
            "32/32 [==============================] - 2s 71ms/step - loss: 0.0054 - mean_squared_error: 0.0054 - mean_absolute_error: 0.0525 - val_loss: 0.0027 - val_mean_squared_error: 0.0027 - val_mean_absolute_error: 0.0416\n",
            "Epoch 21/200\n",
            "32/32 [==============================] - 2s 71ms/step - loss: 0.0059 - mean_squared_error: 0.0059 - mean_absolute_error: 0.0550 - val_loss: 0.0032 - val_mean_squared_error: 0.0032 - val_mean_absolute_error: 0.0452\n",
            "Epoch 22/200\n",
            "32/32 [==============================] - 2s 71ms/step - loss: 0.0053 - mean_squared_error: 0.0053 - mean_absolute_error: 0.0523 - val_loss: 0.0034 - val_mean_squared_error: 0.0034 - val_mean_absolute_error: 0.0464\n",
            "Epoch 23/200\n",
            "32/32 [==============================] - 2s 73ms/step - loss: 0.0057 - mean_squared_error: 0.0057 - mean_absolute_error: 0.0537 - val_loss: 0.0027 - val_mean_squared_error: 0.0027 - val_mean_absolute_error: 0.0415\n",
            "Epoch 24/200\n",
            "32/32 [==============================] - 2s 71ms/step - loss: 0.0050 - mean_squared_error: 0.0050 - mean_absolute_error: 0.0520 - val_loss: 0.0026 - val_mean_squared_error: 0.0026 - val_mean_absolute_error: 0.0409\n",
            "Epoch 25/200\n",
            "32/32 [==============================] - 2s 70ms/step - loss: 0.0058 - mean_squared_error: 0.0058 - mean_absolute_error: 0.0538 - val_loss: 0.0027 - val_mean_squared_error: 0.0027 - val_mean_absolute_error: 0.0409\n",
            "Epoch 26/200\n",
            "32/32 [==============================] - 2s 71ms/step - loss: 0.0062 - mean_squared_error: 0.0062 - mean_absolute_error: 0.0555 - val_loss: 0.0025 - val_mean_squared_error: 0.0025 - val_mean_absolute_error: 0.0404\n",
            "Epoch 27/200\n",
            "32/32 [==============================] - 2s 68ms/step - loss: 0.0047 - mean_squared_error: 0.0047 - mean_absolute_error: 0.0503 - val_loss: 0.0026 - val_mean_squared_error: 0.0026 - val_mean_absolute_error: 0.0413\n",
            "Epoch 28/200\n",
            "32/32 [==============================] - 2s 71ms/step - loss: 0.0050 - mean_squared_error: 0.0050 - mean_absolute_error: 0.0509 - val_loss: 0.0028 - val_mean_squared_error: 0.0028 - val_mean_absolute_error: 0.0426\n",
            "Epoch 29/200\n",
            "32/32 [==============================] - 2s 69ms/step - loss: 0.0053 - mean_squared_error: 0.0053 - mean_absolute_error: 0.0527 - val_loss: 0.0030 - val_mean_squared_error: 0.0030 - val_mean_absolute_error: 0.0442\n",
            "Epoch 30/200\n",
            "32/32 [==============================] - 2s 70ms/step - loss: 0.0049 - mean_squared_error: 0.0049 - mean_absolute_error: 0.0499 - val_loss: 0.0032 - val_mean_squared_error: 0.0032 - val_mean_absolute_error: 0.0454\n",
            "Epoch 31/200\n",
            "32/32 [==============================] - 2s 71ms/step - loss: 0.0053 - mean_squared_error: 0.0053 - mean_absolute_error: 0.0525 - val_loss: 0.0026 - val_mean_squared_error: 0.0026 - val_mean_absolute_error: 0.0409\n",
            "Epoch 32/200\n",
            "32/32 [==============================] - 2s 70ms/step - loss: 0.0048 - mean_squared_error: 0.0048 - mean_absolute_error: 0.0483 - val_loss: 0.0028 - val_mean_squared_error: 0.0028 - val_mean_absolute_error: 0.0424\n",
            "Epoch 33/200\n",
            "32/32 [==============================] - 2s 70ms/step - loss: 0.0047 - mean_squared_error: 0.0047 - mean_absolute_error: 0.0502 - val_loss: 0.0028 - val_mean_squared_error: 0.0028 - val_mean_absolute_error: 0.0419\n",
            "Epoch 34/200\n",
            "32/32 [==============================] - 2s 69ms/step - loss: 0.0045 - mean_squared_error: 0.0045 - mean_absolute_error: 0.0494 - val_loss: 0.0025 - val_mean_squared_error: 0.0025 - val_mean_absolute_error: 0.0401\n",
            "Epoch 35/200\n",
            "32/32 [==============================] - 2s 72ms/step - loss: 0.0043 - mean_squared_error: 0.0043 - mean_absolute_error: 0.0468 - val_loss: 0.0037 - val_mean_squared_error: 0.0037 - val_mean_absolute_error: 0.0484\n",
            "Epoch 36/200\n",
            "32/32 [==============================] - 2s 70ms/step - loss: 0.0047 - mean_squared_error: 0.0047 - mean_absolute_error: 0.0500 - val_loss: 0.0025 - val_mean_squared_error: 0.0025 - val_mean_absolute_error: 0.0402\n",
            "Epoch 37/200\n",
            "32/32 [==============================] - 2s 73ms/step - loss: 0.0034 - mean_squared_error: 0.0034 - mean_absolute_error: 0.0428 - val_loss: 0.0027 - val_mean_squared_error: 0.0027 - val_mean_absolute_error: 0.0413\n",
            "Epoch 38/200\n",
            "32/32 [==============================] - 2s 70ms/step - loss: 0.0049 - mean_squared_error: 0.0049 - mean_absolute_error: 0.0490 - val_loss: 0.0024 - val_mean_squared_error: 0.0024 - val_mean_absolute_error: 0.0395\n",
            "Epoch 39/200\n",
            "32/32 [==============================] - 2s 74ms/step - loss: 0.0042 - mean_squared_error: 0.0042 - mean_absolute_error: 0.0462 - val_loss: 0.0025 - val_mean_squared_error: 0.0025 - val_mean_absolute_error: 0.0400\n",
            "Epoch 40/200\n",
            "32/32 [==============================] - 2s 71ms/step - loss: 0.0040 - mean_squared_error: 0.0040 - mean_absolute_error: 0.0458 - val_loss: 0.0024 - val_mean_squared_error: 0.0024 - val_mean_absolute_error: 0.0394\n",
            "Epoch 41/200\n",
            "32/32 [==============================] - 2s 74ms/step - loss: 0.0036 - mean_squared_error: 0.0036 - mean_absolute_error: 0.0430 - val_loss: 0.0025 - val_mean_squared_error: 0.0025 - val_mean_absolute_error: 0.0401\n",
            "Epoch 42/200\n",
            "32/32 [==============================] - 2s 69ms/step - loss: 0.0043 - mean_squared_error: 0.0043 - mean_absolute_error: 0.0472 - val_loss: 0.0026 - val_mean_squared_error: 0.0026 - val_mean_absolute_error: 0.0406\n",
            "Epoch 43/200\n",
            "32/32 [==============================] - 2s 70ms/step - loss: 0.0040 - mean_squared_error: 0.0040 - mean_absolute_error: 0.0457 - val_loss: 0.0024 - val_mean_squared_error: 0.0024 - val_mean_absolute_error: 0.0392\n",
            "Epoch 44/200\n",
            "32/32 [==============================] - 2s 73ms/step - loss: 0.0038 - mean_squared_error: 0.0038 - mean_absolute_error: 0.0442 - val_loss: 0.0025 - val_mean_squared_error: 0.0025 - val_mean_absolute_error: 0.0395\n",
            "Epoch 45/200\n",
            "32/32 [==============================] - 2s 71ms/step - loss: 0.0034 - mean_squared_error: 0.0034 - mean_absolute_error: 0.0426 - val_loss: 0.0024 - val_mean_squared_error: 0.0024 - val_mean_absolute_error: 0.0388\n",
            "Epoch 46/200\n",
            "32/32 [==============================] - 2s 69ms/step - loss: 0.0043 - mean_squared_error: 0.0043 - mean_absolute_error: 0.0470 - val_loss: 0.0024 - val_mean_squared_error: 0.0024 - val_mean_absolute_error: 0.0390\n",
            "Epoch 47/200\n",
            "32/32 [==============================] - 2s 71ms/step - loss: 0.0037 - mean_squared_error: 0.0037 - mean_absolute_error: 0.0435 - val_loss: 0.0024 - val_mean_squared_error: 0.0024 - val_mean_absolute_error: 0.0391\n",
            "Epoch 48/200\n",
            "32/32 [==============================] - 2s 71ms/step - loss: 0.0035 - mean_squared_error: 0.0035 - mean_absolute_error: 0.0434 - val_loss: 0.0033 - val_mean_squared_error: 0.0033 - val_mean_absolute_error: 0.0452\n",
            "Epoch 49/200\n",
            "32/32 [==============================] - 2s 72ms/step - loss: 0.0039 - mean_squared_error: 0.0039 - mean_absolute_error: 0.0459 - val_loss: 0.0024 - val_mean_squared_error: 0.0024 - val_mean_absolute_error: 0.0395\n",
            "Epoch 50/200\n",
            "32/32 [==============================] - 2s 72ms/step - loss: 0.0034 - mean_squared_error: 0.0034 - mean_absolute_error: 0.0426 - val_loss: 0.0024 - val_mean_squared_error: 0.0024 - val_mean_absolute_error: 0.0393\n",
            "Epoch 51/200\n",
            "32/32 [==============================] - 2s 70ms/step - loss: 0.0036 - mean_squared_error: 0.0036 - mean_absolute_error: 0.0438 - val_loss: 0.0024 - val_mean_squared_error: 0.0024 - val_mean_absolute_error: 0.0392\n",
            "Epoch 52/200\n",
            "32/32 [==============================] - 2s 70ms/step - loss: 0.0033 - mean_squared_error: 0.0033 - mean_absolute_error: 0.0428 - val_loss: 0.0029 - val_mean_squared_error: 0.0029 - val_mean_absolute_error: 0.0428\n",
            "Epoch 53/200\n",
            "32/32 [==============================] - 2s 72ms/step - loss: 0.0035 - mean_squared_error: 0.0035 - mean_absolute_error: 0.0427 - val_loss: 0.0023 - val_mean_squared_error: 0.0023 - val_mean_absolute_error: 0.0384\n",
            "Epoch 54/200\n",
            "32/32 [==============================] - 2s 68ms/step - loss: 0.0034 - mean_squared_error: 0.0034 - mean_absolute_error: 0.0438 - val_loss: 0.0024 - val_mean_squared_error: 0.0024 - val_mean_absolute_error: 0.0392\n",
            "Epoch 55/200\n",
            "32/32 [==============================] - 2s 71ms/step - loss: 0.0036 - mean_squared_error: 0.0036 - mean_absolute_error: 0.0434 - val_loss: 0.0026 - val_mean_squared_error: 0.0026 - val_mean_absolute_error: 0.0407\n",
            "Epoch 56/200\n",
            "32/32 [==============================] - 2s 70ms/step - loss: 0.0030 - mean_squared_error: 0.0030 - mean_absolute_error: 0.0411 - val_loss: 0.0025 - val_mean_squared_error: 0.0025 - val_mean_absolute_error: 0.0393\n",
            "Epoch 57/200\n",
            "32/32 [==============================] - 2s 73ms/step - loss: 0.0034 - mean_squared_error: 0.0034 - mean_absolute_error: 0.0430 - val_loss: 0.0025 - val_mean_squared_error: 0.0025 - val_mean_absolute_error: 0.0398\n",
            "Epoch 58/200\n",
            "32/32 [==============================] - 2s 72ms/step - loss: 0.0034 - mean_squared_error: 0.0034 - mean_absolute_error: 0.0424 - val_loss: 0.0023 - val_mean_squared_error: 0.0023 - val_mean_absolute_error: 0.0382\n",
            "Epoch 59/200\n",
            "32/32 [==============================] - 2s 73ms/step - loss: 0.0039 - mean_squared_error: 0.0039 - mean_absolute_error: 0.0449 - val_loss: 0.0026 - val_mean_squared_error: 0.0026 - val_mean_absolute_error: 0.0406\n",
            "Epoch 60/200\n",
            "32/32 [==============================] - 2s 75ms/step - loss: 0.0031 - mean_squared_error: 0.0031 - mean_absolute_error: 0.0406 - val_loss: 0.0024 - val_mean_squared_error: 0.0024 - val_mean_absolute_error: 0.0384\n",
            "Epoch 61/200\n",
            "32/32 [==============================] - 2s 69ms/step - loss: 0.0026 - mean_squared_error: 0.0026 - mean_absolute_error: 0.0380 - val_loss: 0.0022 - val_mean_squared_error: 0.0022 - val_mean_absolute_error: 0.0376\n",
            "Epoch 62/200\n",
            "32/32 [==============================] - 2s 71ms/step - loss: 0.0031 - mean_squared_error: 0.0031 - mean_absolute_error: 0.0398 - val_loss: 0.0023 - val_mean_squared_error: 0.0023 - val_mean_absolute_error: 0.0380\n",
            "Epoch 63/200\n",
            "32/32 [==============================] - 2s 70ms/step - loss: 0.0029 - mean_squared_error: 0.0029 - mean_absolute_error: 0.0397 - val_loss: 0.0023 - val_mean_squared_error: 0.0023 - val_mean_absolute_error: 0.0381\n",
            "Epoch 64/200\n",
            "32/32 [==============================] - 2s 72ms/step - loss: 0.0026 - mean_squared_error: 0.0026 - mean_absolute_error: 0.0374 - val_loss: 0.0022 - val_mean_squared_error: 0.0022 - val_mean_absolute_error: 0.0377\n",
            "Epoch 65/200\n",
            "32/32 [==============================] - 2s 74ms/step - loss: 0.0029 - mean_squared_error: 0.0029 - mean_absolute_error: 0.0390 - val_loss: 0.0024 - val_mean_squared_error: 0.0024 - val_mean_absolute_error: 0.0384\n",
            "Epoch 66/200\n",
            "32/32 [==============================] - 2s 71ms/step - loss: 0.0033 - mean_squared_error: 0.0033 - mean_absolute_error: 0.0412 - val_loss: 0.0023 - val_mean_squared_error: 0.0023 - val_mean_absolute_error: 0.0384\n",
            "Epoch 67/200\n",
            "32/32 [==============================] - 2s 74ms/step - loss: 0.0033 - mean_squared_error: 0.0033 - mean_absolute_error: 0.0417 - val_loss: 0.0023 - val_mean_squared_error: 0.0023 - val_mean_absolute_error: 0.0382\n",
            "Epoch 68/200\n",
            "32/32 [==============================] - 2s 71ms/step - loss: 0.0028 - mean_squared_error: 0.0028 - mean_absolute_error: 0.0385 - val_loss: 0.0024 - val_mean_squared_error: 0.0024 - val_mean_absolute_error: 0.0386\n",
            "Epoch 69/200\n",
            "32/32 [==============================] - 2s 70ms/step - loss: 0.0033 - mean_squared_error: 0.0033 - mean_absolute_error: 0.0400 - val_loss: 0.0022 - val_mean_squared_error: 0.0022 - val_mean_absolute_error: 0.0380\n",
            "Epoch 70/200\n",
            "32/32 [==============================] - 2s 71ms/step - loss: 0.0026 - mean_squared_error: 0.0026 - mean_absolute_error: 0.0375 - val_loss: 0.0023 - val_mean_squared_error: 0.0023 - val_mean_absolute_error: 0.0383\n",
            "Epoch 71/200\n",
            "32/32 [==============================] - 2s 73ms/step - loss: 0.0029 - mean_squared_error: 0.0029 - mean_absolute_error: 0.0405 - val_loss: 0.0022 - val_mean_squared_error: 0.0022 - val_mean_absolute_error: 0.0375\n",
            "Epoch 72/200\n",
            "32/32 [==============================] - 2s 70ms/step - loss: 0.0034 - mean_squared_error: 0.0034 - mean_absolute_error: 0.0429 - val_loss: 0.0022 - val_mean_squared_error: 0.0022 - val_mean_absolute_error: 0.0374\n",
            "Epoch 73/200\n",
            "32/32 [==============================] - 2s 72ms/step - loss: 0.0028 - mean_squared_error: 0.0028 - mean_absolute_error: 0.0390 - val_loss: 0.0026 - val_mean_squared_error: 0.0026 - val_mean_absolute_error: 0.0404\n",
            "Epoch 74/200\n",
            "32/32 [==============================] - 2s 70ms/step - loss: 0.0030 - mean_squared_error: 0.0030 - mean_absolute_error: 0.0399 - val_loss: 0.0022 - val_mean_squared_error: 0.0022 - val_mean_absolute_error: 0.0368\n",
            "Epoch 75/200\n",
            "32/32 [==============================] - 2s 73ms/step - loss: 0.0027 - mean_squared_error: 0.0027 - mean_absolute_error: 0.0395 - val_loss: 0.0023 - val_mean_squared_error: 0.0023 - val_mean_absolute_error: 0.0378\n",
            "Epoch 76/200\n",
            "32/32 [==============================] - 2s 70ms/step - loss: 0.0029 - mean_squared_error: 0.0029 - mean_absolute_error: 0.0400 - val_loss: 0.0023 - val_mean_squared_error: 0.0023 - val_mean_absolute_error: 0.0381\n",
            "Epoch 77/200\n",
            "32/32 [==============================] - 2s 70ms/step - loss: 0.0023 - mean_squared_error: 0.0023 - mean_absolute_error: 0.0373 - val_loss: 0.0024 - val_mean_squared_error: 0.0024 - val_mean_absolute_error: 0.0388\n",
            "Epoch 78/200\n",
            "32/32 [==============================] - 2s 69ms/step - loss: 0.0029 - mean_squared_error: 0.0029 - mean_absolute_error: 0.0409 - val_loss: 0.0022 - val_mean_squared_error: 0.0022 - val_mean_absolute_error: 0.0371\n",
            "Epoch 79/200\n",
            "32/32 [==============================] - 2s 76ms/step - loss: 0.0028 - mean_squared_error: 0.0028 - mean_absolute_error: 0.0389 - val_loss: 0.0023 - val_mean_squared_error: 0.0023 - val_mean_absolute_error: 0.0388\n",
            "Epoch 80/200\n",
            "32/32 [==============================] - 2s 72ms/step - loss: 0.0024 - mean_squared_error: 0.0024 - mean_absolute_error: 0.0369 - val_loss: 0.0021 - val_mean_squared_error: 0.0021 - val_mean_absolute_error: 0.0369\n",
            "Epoch 81/200\n",
            "32/32 [==============================] - 2s 71ms/step - loss: 0.0026 - mean_squared_error: 0.0026 - mean_absolute_error: 0.0382 - val_loss: 0.0022 - val_mean_squared_error: 0.0022 - val_mean_absolute_error: 0.0376\n",
            "Epoch 82/200\n",
            "32/32 [==============================] - 2s 72ms/step - loss: 0.0024 - mean_squared_error: 0.0024 - mean_absolute_error: 0.0369 - val_loss: 0.0026 - val_mean_squared_error: 0.0026 - val_mean_absolute_error: 0.0407\n",
            "Epoch 83/200\n",
            "32/32 [==============================] - 2s 72ms/step - loss: 0.0028 - mean_squared_error: 0.0028 - mean_absolute_error: 0.0394 - val_loss: 0.0023 - val_mean_squared_error: 0.0023 - val_mean_absolute_error: 0.0380\n",
            "Epoch 84/200\n",
            "32/32 [==============================] - 2s 72ms/step - loss: 0.0027 - mean_squared_error: 0.0027 - mean_absolute_error: 0.0400 - val_loss: 0.0025 - val_mean_squared_error: 0.0025 - val_mean_absolute_error: 0.0393\n",
            "Epoch 85/200\n",
            "32/32 [==============================] - 2s 71ms/step - loss: 0.0027 - mean_squared_error: 0.0027 - mean_absolute_error: 0.0392 - val_loss: 0.0026 - val_mean_squared_error: 0.0026 - val_mean_absolute_error: 0.0403\n",
            "Epoch 86/200\n",
            "32/32 [==============================] - 2s 72ms/step - loss: 0.0027 - mean_squared_error: 0.0027 - mean_absolute_error: 0.0385 - val_loss: 0.0022 - val_mean_squared_error: 0.0022 - val_mean_absolute_error: 0.0372\n",
            "Epoch 87/200\n",
            "32/32 [==============================] - 2s 72ms/step - loss: 0.0031 - mean_squared_error: 0.0031 - mean_absolute_error: 0.0404 - val_loss: 0.0022 - val_mean_squared_error: 0.0022 - val_mean_absolute_error: 0.0374\n",
            "Epoch 88/200\n",
            "32/32 [==============================] - 2s 73ms/step - loss: 0.0024 - mean_squared_error: 0.0024 - mean_absolute_error: 0.0367 - val_loss: 0.0022 - val_mean_squared_error: 0.0022 - val_mean_absolute_error: 0.0372\n",
            "Epoch 89/200\n",
            "32/32 [==============================] - 2s 72ms/step - loss: 0.0026 - mean_squared_error: 0.0026 - mean_absolute_error: 0.0378 - val_loss: 0.0022 - val_mean_squared_error: 0.0022 - val_mean_absolute_error: 0.0379\n",
            "Epoch 90/200\n",
            "32/32 [==============================] - 2s 72ms/step - loss: 0.0028 - mean_squared_error: 0.0028 - mean_absolute_error: 0.0387 - val_loss: 0.0022 - val_mean_squared_error: 0.0022 - val_mean_absolute_error: 0.0378\n"
          ]
        },
        {
          "output_type": "display_data",
          "data": {
            "text/plain": [
              "<IPython.core.display.HTML object>"
            ],
            "text/html": [
              "<br/>Waiting for W&B process to finish, PID 3526<br/>Program ended successfully."
            ]
          },
          "metadata": {
            "tags": []
          }
        },
        {
          "output_type": "display_data",
          "data": {
            "text/plain": [
              "VBox(children=(Label(value=' 1.06MB of 1.06MB uploaded (0.00MB deduped)\\r'), FloatProgress(value=1.0, max=1.0)…"
            ],
            "application/vnd.jupyter.widget-view+json": {
              "model_id": "8acf6a4158bb48a888642534354acb60",
              "version_minor": 0,
              "version_major": 2
            }
          },
          "metadata": {
            "tags": []
          }
        },
        {
          "output_type": "display_data",
          "data": {
            "text/plain": [
              "<IPython.core.display.HTML object>"
            ],
            "text/html": [
              "Find user logs for this run at: <code>/content/feeder_repo/wandb/run-20210713_142702-ie29uel5/logs/debug.log</code>"
            ]
          },
          "metadata": {
            "tags": []
          }
        },
        {
          "output_type": "display_data",
          "data": {
            "text/plain": [
              "<IPython.core.display.HTML object>"
            ],
            "text/html": [
              "Find internal logs for this run at: <code>/content/feeder_repo/wandb/run-20210713_142702-ie29uel5/logs/debug-internal.log</code>"
            ]
          },
          "metadata": {
            "tags": []
          }
        },
        {
          "output_type": "display_data",
          "data": {
            "text/plain": [
              "<IPython.core.display.HTML object>"
            ],
            "text/html": [
              "<h3>Run summary:</h3><br/><style>\n",
              "    table.wandb td:nth-child(1) { padding: 0 10px; text-align: right }\n",
              "    </style><table class=\"wandb\">\n",
              "<tr><td>epoch</td><td>89</td></tr><tr><td>loss</td><td>0.00259</td></tr><tr><td>mean_squared_error</td><td>0.00259</td></tr><tr><td>mean_absolute_error</td><td>0.03709</td></tr><tr><td>val_loss</td><td>0.00221</td></tr><tr><td>val_mean_squared_error</td><td>0.00221</td></tr><tr><td>val_mean_absolute_error</td><td>0.03778</td></tr><tr><td>_runtime</td><td>214</td></tr><tr><td>_timestamp</td><td>1626186636</td></tr><tr><td>_step</td><td>89</td></tr><tr><td>best_val_loss</td><td>0.0021</td></tr><tr><td>best_epoch</td><td>79</td></tr></table>"
            ]
          },
          "metadata": {
            "tags": []
          }
        },
        {
          "output_type": "display_data",
          "data": {
            "text/plain": [
              "<IPython.core.display.HTML object>"
            ],
            "text/html": [
              "<h3>Run history:</h3><br/><style>\n",
              "    table.wandb td:nth-child(1) { padding: 0 10px; text-align: right }\n",
              "    </style><table class=\"wandb\">\n",
              "<tr><td>epoch</td><td>▁▁▁▁▂▂▂▂▂▃▃▃▃▃▃▄▄▄▄▄▅▅▅▅▅▅▆▆▆▆▆▇▇▇▇▇▇███</td></tr><tr><td>loss</td><td>█▂▂▂▁▁▁▁▁▁▁▁▁▁▁▁▁▁▁▁▁▁▁▁▁▁▁▁▁▁▁▁▁▁▁▁▁▁▁▁</td></tr><tr><td>mean_squared_error</td><td>█▂▂▂▁▁▁▁▁▁▁▁▁▁▁▁▁▁▁▁▁▁▁▁▁▁▁▁▁▁▁▁▁▁▁▁▁▁▁▁</td></tr><tr><td>mean_absolute_error</td><td>█▂▂▂▂▂▂▂▂▂▂▂▂▂▂▁▁▁▁▁▁▁▁▁▁▁▁▁▁▁▁▁▁▁▁▁▁▁▁▁</td></tr><tr><td>val_loss</td><td>█▂▂▂▂▂▂▃▂▂▂▁▂▂▂▃▂▁▁▁▁▂▁▁▂▁▁▁▁▁▁▁▁▁▁▁▁▁▁▁</td></tr><tr><td>val_mean_squared_error</td><td>█▂▂▂▂▂▂▃▂▂▂▁▂▂▂▃▂▁▁▁▁▂▁▁▂▁▁▁▁▁▁▁▁▁▁▁▁▁▁▁</td></tr><tr><td>val_mean_absolute_error</td><td>█▂▂▂▃▂▃▃▂▃▂▂▂▃▂▃▂▂▂▁▁▃▁▁▂▁▁▁▁▁▁▁▁▁▁▁▁▂▁▁</td></tr><tr><td>_runtime</td><td>▁▁▁▁▂▂▂▂▂▃▃▃▃▃▃▄▄▄▄▄▅▅▅▅▅▅▆▆▆▆▆▇▇▇▇▇▇███</td></tr><tr><td>_timestamp</td><td>▁▁▁▁▂▂▂▂▂▃▃▃▃▃▃▄▄▄▄▄▅▅▅▅▅▅▆▆▆▆▆▇▇▇▇▇▇███</td></tr><tr><td>_step</td><td>▁▁▁▁▂▂▂▂▂▃▃▃▃▃▃▄▄▄▄▄▅▅▅▅▅▅▆▆▆▆▆▇▇▇▇▇▇███</td></tr></table><br/>"
            ]
          },
          "metadata": {
            "tags": []
          }
        },
        {
          "output_type": "display_data",
          "data": {
            "text/plain": [
              "<IPython.core.display.HTML object>"
            ],
            "text/html": [
              "Synced 5 W&B file(s), 1 media file(s), 2 artifact file(s) and 2 other file(s)"
            ]
          },
          "metadata": {
            "tags": []
          }
        },
        {
          "output_type": "display_data",
          "data": {
            "text/plain": [
              "<IPython.core.display.HTML object>"
            ],
            "text/html": [
              "\n",
              "                    <br/>Synced <strong style=\"color:#cdcd00\">jolly-sweep-12</strong>: <a href=\"https://wandb.ai/acse-jaq15/ACSE_9_GRU/runs/ie29uel5\" target=\"_blank\">https://wandb.ai/acse-jaq15/ACSE_9_GRU/runs/ie29uel5</a><br/>\n",
              "                "
            ]
          },
          "metadata": {
            "tags": []
          }
        },
        {
          "output_type": "stream",
          "name": "stderr",
          "text": [
            "\u001b[34m\u001b[1mwandb\u001b[0m: Agent Starting Run: 77x9hl1w with config:\n",
            "\u001b[34m\u001b[1mwandb\u001b[0m: \tactivation: tanh\n",
            "\u001b[34m\u001b[1mwandb\u001b[0m: \tbatch_size: 128\n",
            "\u001b[34m\u001b[1mwandb\u001b[0m: \tdropout: 0.2\n",
            "\u001b[34m\u001b[1mwandb\u001b[0m: \tepochs: 200\n",
            "\u001b[34m\u001b[1mwandb\u001b[0m: \thidden_size: 100\n",
            "\u001b[34m\u001b[1mwandb\u001b[0m: \tinput_size: 25\n",
            "\u001b[34m\u001b[1mwandb\u001b[0m: \tlearning_rate: 0.005\n",
            "\u001b[34m\u001b[1mwandb\u001b[0m: \toptimizer: adam\n"
          ]
        },
        {
          "output_type": "display_data",
          "data": {
            "text/plain": [
              "<IPython.core.display.HTML object>"
            ],
            "text/html": [
              "\n",
              "                Tracking run with wandb version 0.10.33<br/>\n",
              "                Syncing run <strong style=\"color:#cdcd00\">wild-sweep-13</strong> to <a href=\"https://wandb.ai\" target=\"_blank\">Weights & Biases</a> <a href=\"https://docs.wandb.com/integrations/jupyter.html\" target=\"_blank\">(Documentation)</a>.<br/>\n",
              "                Project page: <a href=\"https://wandb.ai/acse-jaq15/ACSE_9_GRU\" target=\"_blank\">https://wandb.ai/acse-jaq15/ACSE_9_GRU</a><br/>\n",
              "                Sweep page: <a href=\"https://wandb.ai/acse-jaq15/ACSE_9_GRU/sweeps/znsj9bl4\" target=\"_blank\">https://wandb.ai/acse-jaq15/ACSE_9_GRU/sweeps/znsj9bl4</a><br/>\n",
              "Run page: <a href=\"https://wandb.ai/acse-jaq15/ACSE_9_GRU/runs/77x9hl1w\" target=\"_blank\">https://wandb.ai/acse-jaq15/ACSE_9_GRU/runs/77x9hl1w</a><br/>\n",
              "                Run data is saved locally in <code>/content/feeder_repo/wandb/run-20210713_143048-77x9hl1w</code><br/><br/>\n",
              "            "
            ]
          },
          "metadata": {
            "tags": []
          }
        },
        {
          "output_type": "stream",
          "name": "stdout",
          "text": [
            "Epoch 1/200\n",
            "8/8 [==============================] - 4s 121ms/step - loss: 0.1147 - mean_squared_error: 0.1147 - mean_absolute_error: 0.2514 - val_loss: 0.0148 - val_mean_squared_error: 0.0148 - val_mean_absolute_error: 0.0947\n",
            "Epoch 2/200\n",
            "8/8 [==============================] - 0s 10ms/step - loss: 0.0128 - mean_squared_error: 0.0128 - mean_absolute_error: 0.0878 - val_loss: 0.0027 - val_mean_squared_error: 0.0027 - val_mean_absolute_error: 0.0422\n",
            "Epoch 3/200\n",
            "8/8 [==============================] - 0s 9ms/step - loss: 0.0060 - mean_squared_error: 0.0060 - mean_absolute_error: 0.0593 - val_loss: 0.0050 - val_mean_squared_error: 0.0050 - val_mean_absolute_error: 0.0568\n",
            "Epoch 4/200\n",
            "8/8 [==============================] - 0s 12ms/step - loss: 0.0054 - mean_squared_error: 0.0054 - mean_absolute_error: 0.0540 - val_loss: 0.0028 - val_mean_squared_error: 0.0028 - val_mean_absolute_error: 0.0425\n",
            "Epoch 5/200\n",
            "8/8 [==============================] - 0s 12ms/step - loss: 0.0033 - mean_squared_error: 0.0033 - mean_absolute_error: 0.0424 - val_loss: 0.0023 - val_mean_squared_error: 0.0023 - val_mean_absolute_error: 0.0383\n",
            "Epoch 6/200\n",
            "8/8 [==============================] - 0s 13ms/step - loss: 0.0028 - mean_squared_error: 0.0028 - mean_absolute_error: 0.0381 - val_loss: 0.0027 - val_mean_squared_error: 0.0027 - val_mean_absolute_error: 0.0408\n",
            "Epoch 7/200\n",
            "8/8 [==============================] - 0s 9ms/step - loss: 0.0029 - mean_squared_error: 0.0029 - mean_absolute_error: 0.0397 - val_loss: 0.0023 - val_mean_squared_error: 0.0023 - val_mean_absolute_error: 0.0388\n",
            "Epoch 8/200\n",
            "8/8 [==============================] - 0s 11ms/step - loss: 0.0027 - mean_squared_error: 0.0027 - mean_absolute_error: 0.0380 - val_loss: 0.0026 - val_mean_squared_error: 0.0026 - val_mean_absolute_error: 0.0410\n",
            "Epoch 9/200\n",
            "8/8 [==============================] - 0s 11ms/step - loss: 0.0026 - mean_squared_error: 0.0026 - mean_absolute_error: 0.0382 - val_loss: 0.0024 - val_mean_squared_error: 0.0024 - val_mean_absolute_error: 0.0392\n",
            "Epoch 10/200\n",
            "8/8 [==============================] - 0s 9ms/step - loss: 0.0020 - mean_squared_error: 0.0020 - mean_absolute_error: 0.0338 - val_loss: 0.0025 - val_mean_squared_error: 0.0025 - val_mean_absolute_error: 0.0395\n",
            "Epoch 11/200\n",
            "8/8 [==============================] - 0s 14ms/step - loss: 0.0019 - mean_squared_error: 0.0019 - mean_absolute_error: 0.0318 - val_loss: 0.0024 - val_mean_squared_error: 0.0024 - val_mean_absolute_error: 0.0395\n",
            "Epoch 12/200\n",
            "8/8 [==============================] - 0s 12ms/step - loss: 0.0022 - mean_squared_error: 0.0022 - mean_absolute_error: 0.0336 - val_loss: 0.0025 - val_mean_squared_error: 0.0025 - val_mean_absolute_error: 0.0396\n",
            "Epoch 13/200\n",
            "8/8 [==============================] - 0s 10ms/step - loss: 0.0021 - mean_squared_error: 0.0021 - mean_absolute_error: 0.0335 - val_loss: 0.0026 - val_mean_squared_error: 0.0026 - val_mean_absolute_error: 0.0401\n",
            "Epoch 14/200\n",
            "8/8 [==============================] - 0s 12ms/step - loss: 0.0020 - mean_squared_error: 0.0020 - mean_absolute_error: 0.0330 - val_loss: 0.0025 - val_mean_squared_error: 0.0025 - val_mean_absolute_error: 0.0396\n",
            "Epoch 15/200\n",
            "8/8 [==============================] - 0s 11ms/step - loss: 0.0018 - mean_squared_error: 0.0018 - mean_absolute_error: 0.0312 - val_loss: 0.0025 - val_mean_squared_error: 0.0025 - val_mean_absolute_error: 0.0397\n"
          ]
        },
        {
          "output_type": "display_data",
          "data": {
            "text/plain": [
              "<IPython.core.display.HTML object>"
            ],
            "text/html": [
              "<br/>Waiting for W&B process to finish, PID 3895<br/>Program ended successfully."
            ]
          },
          "metadata": {
            "tags": []
          }
        },
        {
          "output_type": "display_data",
          "data": {
            "text/plain": [
              "VBox(children=(Label(value=' 1.08MB of 1.08MB uploaded (0.00MB deduped)\\r'), FloatProgress(value=1.0, max=1.0)…"
            ],
            "application/vnd.jupyter.widget-view+json": {
              "model_id": "68dbf621adeb474881023bc17ef2e18c",
              "version_minor": 0,
              "version_major": 2
            }
          },
          "metadata": {
            "tags": []
          }
        },
        {
          "output_type": "display_data",
          "data": {
            "text/plain": [
              "<IPython.core.display.HTML object>"
            ],
            "text/html": [
              "Find user logs for this run at: <code>/content/feeder_repo/wandb/run-20210713_143048-77x9hl1w/logs/debug.log</code>"
            ]
          },
          "metadata": {
            "tags": []
          }
        },
        {
          "output_type": "display_data",
          "data": {
            "text/plain": [
              "<IPython.core.display.HTML object>"
            ],
            "text/html": [
              "Find internal logs for this run at: <code>/content/feeder_repo/wandb/run-20210713_143048-77x9hl1w/logs/debug-internal.log</code>"
            ]
          },
          "metadata": {
            "tags": []
          }
        },
        {
          "output_type": "display_data",
          "data": {
            "text/plain": [
              "<IPython.core.display.HTML object>"
            ],
            "text/html": [
              "<h3>Run summary:</h3><br/><style>\n",
              "    table.wandb td:nth-child(1) { padding: 0 10px; text-align: right }\n",
              "    </style><table class=\"wandb\">\n",
              "<tr><td>epoch</td><td>14</td></tr><tr><td>loss</td><td>0.00177</td></tr><tr><td>mean_squared_error</td><td>0.00177</td></tr><tr><td>mean_absolute_error</td><td>0.03105</td></tr><tr><td>val_loss</td><td>0.00251</td></tr><tr><td>val_mean_squared_error</td><td>0.00251</td></tr><tr><td>val_mean_absolute_error</td><td>0.03973</td></tr><tr><td>_runtime</td><td>11</td></tr><tr><td>_timestamp</td><td>1626186659</td></tr><tr><td>_step</td><td>14</td></tr><tr><td>best_val_loss</td><td>0.0023</td></tr><tr><td>best_epoch</td><td>4</td></tr></table>"
            ]
          },
          "metadata": {
            "tags": []
          }
        },
        {
          "output_type": "display_data",
          "data": {
            "text/plain": [
              "<IPython.core.display.HTML object>"
            ],
            "text/html": [
              "<h3>Run history:</h3><br/><style>\n",
              "    table.wandb td:nth-child(1) { padding: 0 10px; text-align: right }\n",
              "    </style><table class=\"wandb\">\n",
              "<tr><td>epoch</td><td>▁▁▂▃▃▃▄▅▅▅▆▇▇▇█</td></tr><tr><td>loss</td><td>█▂▁▁▁▁▁▁▁▁▁▁▁▁▁</td></tr><tr><td>mean_squared_error</td><td>█▂▁▁▁▁▁▁▁▁▁▁▁▁▁</td></tr><tr><td>mean_absolute_error</td><td>█▃▂▂▂▁▁▁▁▁▁▁▁▁▁</td></tr><tr><td>val_loss</td><td>█▁▂▁▁▁▁▁▁▁▁▁▁▁▁</td></tr><tr><td>val_mean_squared_error</td><td>█▁▂▁▁▁▁▁▁▁▁▁▁▁▁</td></tr><tr><td>val_mean_absolute_error</td><td>█▁▃▂▁▁▁▁▁▁▁▁▁▁▁</td></tr><tr><td>_runtime</td><td>▁▁▁▅▅▅▅▅▅▅▅▅▅██</td></tr><tr><td>_timestamp</td><td>▁▁▁▅▅▅▅▅▅▅▅▅▅██</td></tr><tr><td>_step</td><td>▁▁▂▃▃▃▄▅▅▅▆▇▇▇█</td></tr></table><br/>"
            ]
          },
          "metadata": {
            "tags": []
          }
        },
        {
          "output_type": "display_data",
          "data": {
            "text/plain": [
              "<IPython.core.display.HTML object>"
            ],
            "text/html": [
              "Synced 5 W&B file(s), 1 media file(s), 2 artifact file(s) and 2 other file(s)"
            ]
          },
          "metadata": {
            "tags": []
          }
        },
        {
          "output_type": "display_data",
          "data": {
            "text/plain": [
              "<IPython.core.display.HTML object>"
            ],
            "text/html": [
              "\n",
              "                    <br/>Synced <strong style=\"color:#cdcd00\">wild-sweep-13</strong>: <a href=\"https://wandb.ai/acse-jaq15/ACSE_9_GRU/runs/77x9hl1w\" target=\"_blank\">https://wandb.ai/acse-jaq15/ACSE_9_GRU/runs/77x9hl1w</a><br/>\n",
              "                "
            ]
          },
          "metadata": {
            "tags": []
          }
        },
        {
          "output_type": "stream",
          "name": "stderr",
          "text": [
            "\u001b[34m\u001b[1mwandb\u001b[0m: Agent Starting Run: h2kum113 with config:\n",
            "\u001b[34m\u001b[1mwandb\u001b[0m: \tactivation: relu\n",
            "\u001b[34m\u001b[1mwandb\u001b[0m: \tbatch_size: 32\n",
            "\u001b[34m\u001b[1mwandb\u001b[0m: \tdropout: 0.3\n",
            "\u001b[34m\u001b[1mwandb\u001b[0m: \tepochs: 100\n",
            "\u001b[34m\u001b[1mwandb\u001b[0m: \thidden_size: 25\n",
            "\u001b[34m\u001b[1mwandb\u001b[0m: \tinput_size: 25\n",
            "\u001b[34m\u001b[1mwandb\u001b[0m: \tlearning_rate: 0.005\n",
            "\u001b[34m\u001b[1mwandb\u001b[0m: \toptimizer: nadam\n"
          ]
        },
        {
          "output_type": "display_data",
          "data": {
            "text/plain": [
              "<IPython.core.display.HTML object>"
            ],
            "text/html": [
              "\n",
              "                Tracking run with wandb version 0.10.33<br/>\n",
              "                Syncing run <strong style=\"color:#cdcd00\">rose-sweep-14</strong> to <a href=\"https://wandb.ai\" target=\"_blank\">Weights & Biases</a> <a href=\"https://docs.wandb.com/integrations/jupyter.html\" target=\"_blank\">(Documentation)</a>.<br/>\n",
              "                Project page: <a href=\"https://wandb.ai/acse-jaq15/ACSE_9_GRU\" target=\"_blank\">https://wandb.ai/acse-jaq15/ACSE_9_GRU</a><br/>\n",
              "                Sweep page: <a href=\"https://wandb.ai/acse-jaq15/ACSE_9_GRU/sweeps/znsj9bl4\" target=\"_blank\">https://wandb.ai/acse-jaq15/ACSE_9_GRU/sweeps/znsj9bl4</a><br/>\n",
              "Run page: <a href=\"https://wandb.ai/acse-jaq15/ACSE_9_GRU/runs/h2kum113\" target=\"_blank\">https://wandb.ai/acse-jaq15/ACSE_9_GRU/runs/h2kum113</a><br/>\n",
              "                Run data is saved locally in <code>/content/feeder_repo/wandb/run-20210713_143112-h2kum113</code><br/><br/>\n",
              "            "
            ]
          },
          "metadata": {
            "tags": []
          }
        },
        {
          "output_type": "stream",
          "name": "stdout",
          "text": [
            "WARNING:tensorflow:Layer gru will not use cuDNN kernels since it doesn't meet the criteria. It will use a generic GPU kernel as fallback when running on GPU.\n",
            "Epoch 1/100\n",
            "32/32 [==============================] - 7s 99ms/step - loss: 0.0843 - mean_squared_error: 0.0843 - mean_absolute_error: 0.2036 - val_loss: 0.0033 - val_mean_squared_error: 0.0033 - val_mean_absolute_error: 0.0460\n",
            "Epoch 2/100\n",
            "32/32 [==============================] - 2s 70ms/step - loss: 0.0096 - mean_squared_error: 0.0096 - mean_absolute_error: 0.0718 - val_loss: 0.0190 - val_mean_squared_error: 0.0190 - val_mean_absolute_error: 0.1213\n",
            "Epoch 3/100\n",
            "32/32 [==============================] - 2s 72ms/step - loss: 0.0108 - mean_squared_error: 0.0108 - mean_absolute_error: 0.0787 - val_loss: 0.0035 - val_mean_squared_error: 0.0035 - val_mean_absolute_error: 0.0474\n",
            "Epoch 4/100\n",
            "32/32 [==============================] - 2s 70ms/step - loss: 0.0098 - mean_squared_error: 0.0098 - mean_absolute_error: 0.0759 - val_loss: 0.0038 - val_mean_squared_error: 0.0038 - val_mean_absolute_error: 0.0494\n",
            "Epoch 5/100\n",
            "32/32 [==============================] - 2s 73ms/step - loss: 0.0077 - mean_squared_error: 0.0077 - mean_absolute_error: 0.0638 - val_loss: 0.0040 - val_mean_squared_error: 0.0040 - val_mean_absolute_error: 0.0499\n",
            "Epoch 6/100\n",
            "32/32 [==============================] - 2s 74ms/step - loss: 0.0061 - mean_squared_error: 0.0061 - mean_absolute_error: 0.0593 - val_loss: 0.0037 - val_mean_squared_error: 0.0037 - val_mean_absolute_error: 0.0479\n",
            "Epoch 7/100\n",
            "32/32 [==============================] - 2s 71ms/step - loss: 0.0059 - mean_squared_error: 0.0059 - mean_absolute_error: 0.0586 - val_loss: 0.0041 - val_mean_squared_error: 0.0041 - val_mean_absolute_error: 0.0509\n",
            "Epoch 8/100\n",
            "32/32 [==============================] - 2s 70ms/step - loss: 0.0061 - mean_squared_error: 0.0061 - mean_absolute_error: 0.0579 - val_loss: 0.0040 - val_mean_squared_error: 0.0040 - val_mean_absolute_error: 0.0509\n",
            "Epoch 9/100\n",
            "32/32 [==============================] - 2s 71ms/step - loss: 0.0065 - mean_squared_error: 0.0065 - mean_absolute_error: 0.0613 - val_loss: 0.0035 - val_mean_squared_error: 0.0035 - val_mean_absolute_error: 0.0476\n",
            "Epoch 10/100\n",
            "32/32 [==============================] - 2s 73ms/step - loss: 0.0051 - mean_squared_error: 0.0051 - mean_absolute_error: 0.0529 - val_loss: 0.0041 - val_mean_squared_error: 0.0041 - val_mean_absolute_error: 0.0491\n",
            "Epoch 11/100\n",
            "32/32 [==============================] - 2s 74ms/step - loss: 0.0051 - mean_squared_error: 0.0051 - mean_absolute_error: 0.0541 - val_loss: 0.0036 - val_mean_squared_error: 0.0036 - val_mean_absolute_error: 0.0483\n"
          ]
        },
        {
          "output_type": "display_data",
          "data": {
            "text/plain": [
              "<IPython.core.display.HTML object>"
            ],
            "text/html": [
              "<br/>Waiting for W&B process to finish, PID 3998<br/>Program ended successfully."
            ]
          },
          "metadata": {
            "tags": []
          }
        },
        {
          "output_type": "display_data",
          "data": {
            "text/plain": [
              "VBox(children=(Label(value=' 0.70MB of 0.70MB uploaded (0.00MB deduped)\\r'), FloatProgress(value=1.0, max=1.0)…"
            ],
            "application/vnd.jupyter.widget-view+json": {
              "model_id": "3e5f6c34c28140e7bb9191af9f81c879",
              "version_minor": 0,
              "version_major": 2
            }
          },
          "metadata": {
            "tags": []
          }
        },
        {
          "output_type": "display_data",
          "data": {
            "text/plain": [
              "<IPython.core.display.HTML object>"
            ],
            "text/html": [
              "Find user logs for this run at: <code>/content/feeder_repo/wandb/run-20210713_143112-h2kum113/logs/debug.log</code>"
            ]
          },
          "metadata": {
            "tags": []
          }
        },
        {
          "output_type": "display_data",
          "data": {
            "text/plain": [
              "<IPython.core.display.HTML object>"
            ],
            "text/html": [
              "Find internal logs for this run at: <code>/content/feeder_repo/wandb/run-20210713_143112-h2kum113/logs/debug-internal.log</code>"
            ]
          },
          "metadata": {
            "tags": []
          }
        },
        {
          "output_type": "display_data",
          "data": {
            "text/plain": [
              "<IPython.core.display.HTML object>"
            ],
            "text/html": [
              "<h3>Run summary:</h3><br/><style>\n",
              "    table.wandb td:nth-child(1) { padding: 0 10px; text-align: right }\n",
              "    </style><table class=\"wandb\">\n",
              "<tr><td>epoch</td><td>10</td></tr><tr><td>loss</td><td>0.00513</td></tr><tr><td>mean_squared_error</td><td>0.00513</td></tr><tr><td>mean_absolute_error</td><td>0.05398</td></tr><tr><td>val_loss</td><td>0.00359</td></tr><tr><td>val_mean_squared_error</td><td>0.00359</td></tr><tr><td>val_mean_absolute_error</td><td>0.04829</td></tr><tr><td>_runtime</td><td>35</td></tr><tr><td>_timestamp</td><td>1626186707</td></tr><tr><td>_step</td><td>10</td></tr><tr><td>best_val_loss</td><td>0.00325</td></tr><tr><td>best_epoch</td><td>0</td></tr></table>"
            ]
          },
          "metadata": {
            "tags": []
          }
        },
        {
          "output_type": "display_data",
          "data": {
            "text/plain": [
              "<IPython.core.display.HTML object>"
            ],
            "text/html": [
              "<h3>Run history:</h3><br/><style>\n",
              "    table.wandb td:nth-child(1) { padding: 0 10px; text-align: right }\n",
              "    </style><table class=\"wandb\">\n",
              "<tr><td>epoch</td><td>▁▂▂▃▄▅▅▆▇▇█</td></tr><tr><td>loss</td><td>█▂▂▂▁▁▁▁▁▁▁</td></tr><tr><td>mean_squared_error</td><td>█▂▂▂▁▁▁▁▁▁▁</td></tr><tr><td>mean_absolute_error</td><td>█▃▃▃▂▂▂▁▂▁▁</td></tr><tr><td>val_loss</td><td>▁█▁▁▁▁▁▁▁▁▁</td></tr><tr><td>val_mean_squared_error</td><td>▁█▁▁▁▁▁▁▁▁▁</td></tr><tr><td>val_mean_absolute_error</td><td>▁█▁▁▁▁▁▁▁▁▁</td></tr><tr><td>_runtime</td><td>▁▂▂▃▄▄▅▆▆▇█</td></tr><tr><td>_timestamp</td><td>▁▂▂▃▄▄▅▆▆▇█</td></tr><tr><td>_step</td><td>▁▂▂▃▄▅▅▆▇▇█</td></tr></table><br/>"
            ]
          },
          "metadata": {
            "tags": []
          }
        },
        {
          "output_type": "display_data",
          "data": {
            "text/plain": [
              "<IPython.core.display.HTML object>"
            ],
            "text/html": [
              "Synced 5 W&B file(s), 1 media file(s), 2 artifact file(s) and 2 other file(s)"
            ]
          },
          "metadata": {
            "tags": []
          }
        },
        {
          "output_type": "display_data",
          "data": {
            "text/plain": [
              "<IPython.core.display.HTML object>"
            ],
            "text/html": [
              "\n",
              "                    <br/>Synced <strong style=\"color:#cdcd00\">rose-sweep-14</strong>: <a href=\"https://wandb.ai/acse-jaq15/ACSE_9_GRU/runs/h2kum113\" target=\"_blank\">https://wandb.ai/acse-jaq15/ACSE_9_GRU/runs/h2kum113</a><br/>\n",
              "                "
            ]
          },
          "metadata": {
            "tags": []
          }
        },
        {
          "output_type": "stream",
          "name": "stderr",
          "text": [
            "\u001b[34m\u001b[1mwandb\u001b[0m: Agent Starting Run: xrx2ocgl with config:\n",
            "\u001b[34m\u001b[1mwandb\u001b[0m: \tactivation: selu\n",
            "\u001b[34m\u001b[1mwandb\u001b[0m: \tbatch_size: 128\n",
            "\u001b[34m\u001b[1mwandb\u001b[0m: \tdropout: 0.2\n",
            "\u001b[34m\u001b[1mwandb\u001b[0m: \tepochs: 50\n",
            "\u001b[34m\u001b[1mwandb\u001b[0m: \thidden_size: 100\n",
            "\u001b[34m\u001b[1mwandb\u001b[0m: \tinput_size: 100\n",
            "\u001b[34m\u001b[1mwandb\u001b[0m: \tlearning_rate: 0.0005\n",
            "\u001b[34m\u001b[1mwandb\u001b[0m: \toptimizer: nadam\n"
          ]
        },
        {
          "output_type": "display_data",
          "data": {
            "text/plain": [
              "<IPython.core.display.HTML object>"
            ],
            "text/html": [
              "\n",
              "                Tracking run with wandb version 0.10.33<br/>\n",
              "                Syncing run <strong style=\"color:#cdcd00\">woven-sweep-15</strong> to <a href=\"https://wandb.ai\" target=\"_blank\">Weights & Biases</a> <a href=\"https://docs.wandb.com/integrations/jupyter.html\" target=\"_blank\">(Documentation)</a>.<br/>\n",
              "                Project page: <a href=\"https://wandb.ai/acse-jaq15/ACSE_9_GRU\" target=\"_blank\">https://wandb.ai/acse-jaq15/ACSE_9_GRU</a><br/>\n",
              "                Sweep page: <a href=\"https://wandb.ai/acse-jaq15/ACSE_9_GRU/sweeps/znsj9bl4\" target=\"_blank\">https://wandb.ai/acse-jaq15/ACSE_9_GRU/sweeps/znsj9bl4</a><br/>\n",
              "Run page: <a href=\"https://wandb.ai/acse-jaq15/ACSE_9_GRU/runs/xrx2ocgl\" target=\"_blank\">https://wandb.ai/acse-jaq15/ACSE_9_GRU/runs/xrx2ocgl</a><br/>\n",
              "                Run data is saved locally in <code>/content/feeder_repo/wandb/run-20210713_143158-xrx2ocgl</code><br/><br/>\n",
              "            "
            ]
          },
          "metadata": {
            "tags": []
          }
        },
        {
          "output_type": "stream",
          "name": "stdout",
          "text": [
            "WARNING:tensorflow:Layer gru will not use cuDNN kernels since it doesn't meet the criteria. It will use a generic GPU kernel as fallback when running on GPU.\n",
            "Epoch 1/50\n",
            "8/8 [==============================] - 5s 191ms/step - loss: 0.2416 - mean_squared_error: 0.2416 - mean_absolute_error: 0.3982 - val_loss: 0.0142 - val_mean_squared_error: 0.0142 - val_mean_absolute_error: 0.0908\n",
            "Epoch 2/50\n",
            "8/8 [==============================] - 1s 75ms/step - loss: 0.0146 - mean_squared_error: 0.0146 - mean_absolute_error: 0.0993 - val_loss: 0.0105 - val_mean_squared_error: 0.0105 - val_mean_absolute_error: 0.0874\n",
            "Epoch 3/50\n",
            "8/8 [==============================] - 1s 70ms/step - loss: 0.0092 - mean_squared_error: 0.0092 - mean_absolute_error: 0.0815 - val_loss: 0.0058 - val_mean_squared_error: 0.0058 - val_mean_absolute_error: 0.0625\n",
            "Epoch 4/50\n",
            "8/8 [==============================] - 1s 79ms/step - loss: 0.0061 - mean_squared_error: 0.0061 - mean_absolute_error: 0.0616 - val_loss: 0.0048 - val_mean_squared_error: 0.0048 - val_mean_absolute_error: 0.0566\n",
            "Epoch 5/50\n",
            "8/8 [==============================] - 1s 71ms/step - loss: 0.0049 - mean_squared_error: 0.0049 - mean_absolute_error: 0.0528 - val_loss: 0.0037 - val_mean_squared_error: 0.0037 - val_mean_absolute_error: 0.0494\n",
            "Epoch 6/50\n",
            "8/8 [==============================] - 1s 72ms/step - loss: 0.0044 - mean_squared_error: 0.0044 - mean_absolute_error: 0.0483 - val_loss: 0.0037 - val_mean_squared_error: 0.0037 - val_mean_absolute_error: 0.0488\n",
            "Epoch 7/50\n",
            "8/8 [==============================] - 1s 76ms/step - loss: 0.0041 - mean_squared_error: 0.0041 - mean_absolute_error: 0.0473 - val_loss: 0.0037 - val_mean_squared_error: 0.0037 - val_mean_absolute_error: 0.0486\n",
            "Epoch 8/50\n",
            "8/8 [==============================] - 1s 73ms/step - loss: 0.0038 - mean_squared_error: 0.0038 - mean_absolute_error: 0.0457 - val_loss: 0.0034 - val_mean_squared_error: 0.0034 - val_mean_absolute_error: 0.0468\n",
            "Epoch 9/50\n",
            "8/8 [==============================] - 1s 74ms/step - loss: 0.0039 - mean_squared_error: 0.0039 - mean_absolute_error: 0.0455 - val_loss: 0.0037 - val_mean_squared_error: 0.0037 - val_mean_absolute_error: 0.0484\n",
            "Epoch 10/50\n",
            "8/8 [==============================] - 1s 74ms/step - loss: 0.0033 - mean_squared_error: 0.0033 - mean_absolute_error: 0.0412 - val_loss: 0.0032 - val_mean_squared_error: 0.0032 - val_mean_absolute_error: 0.0460\n",
            "Epoch 11/50\n",
            "8/8 [==============================] - 1s 72ms/step - loss: 0.0035 - mean_squared_error: 0.0035 - mean_absolute_error: 0.0434 - val_loss: 0.0032 - val_mean_squared_error: 0.0032 - val_mean_absolute_error: 0.0457\n",
            "Epoch 12/50\n",
            "8/8 [==============================] - 1s 75ms/step - loss: 0.0035 - mean_squared_error: 0.0035 - mean_absolute_error: 0.0418 - val_loss: 0.0032 - val_mean_squared_error: 0.0032 - val_mean_absolute_error: 0.0456\n",
            "Epoch 13/50\n",
            "8/8 [==============================] - 1s 76ms/step - loss: 0.0031 - mean_squared_error: 0.0031 - mean_absolute_error: 0.0412 - val_loss: 0.0031 - val_mean_squared_error: 0.0031 - val_mean_absolute_error: 0.0452\n",
            "Epoch 14/50\n",
            "8/8 [==============================] - 1s 76ms/step - loss: 0.0033 - mean_squared_error: 0.0033 - mean_absolute_error: 0.0416 - val_loss: 0.0032 - val_mean_squared_error: 0.0032 - val_mean_absolute_error: 0.0455\n",
            "Epoch 15/50\n",
            "8/8 [==============================] - 1s 72ms/step - loss: 0.0033 - mean_squared_error: 0.0033 - mean_absolute_error: 0.0420 - val_loss: 0.0031 - val_mean_squared_error: 0.0031 - val_mean_absolute_error: 0.0446\n",
            "Epoch 16/50\n",
            "8/8 [==============================] - 1s 81ms/step - loss: 0.0036 - mean_squared_error: 0.0036 - mean_absolute_error: 0.0432 - val_loss: 0.0032 - val_mean_squared_error: 0.0032 - val_mean_absolute_error: 0.0453\n",
            "Epoch 17/50\n",
            "8/8 [==============================] - 1s 70ms/step - loss: 0.0031 - mean_squared_error: 0.0031 - mean_absolute_error: 0.0417 - val_loss: 0.0031 - val_mean_squared_error: 0.0031 - val_mean_absolute_error: 0.0446\n",
            "Epoch 18/50\n",
            "8/8 [==============================] - 1s 75ms/step - loss: 0.0028 - mean_squared_error: 0.0028 - mean_absolute_error: 0.0390 - val_loss: 0.0031 - val_mean_squared_error: 0.0031 - val_mean_absolute_error: 0.0447\n",
            "Epoch 19/50\n",
            "8/8 [==============================] - 1s 74ms/step - loss: 0.0029 - mean_squared_error: 0.0029 - mean_absolute_error: 0.0407 - val_loss: 0.0038 - val_mean_squared_error: 0.0038 - val_mean_absolute_error: 0.0488\n",
            "Epoch 20/50\n",
            "8/8 [==============================] - 1s 72ms/step - loss: 0.0032 - mean_squared_error: 0.0032 - mean_absolute_error: 0.0407 - val_loss: 0.0031 - val_mean_squared_error: 0.0031 - val_mean_absolute_error: 0.0443\n",
            "Epoch 21/50\n",
            "8/8 [==============================] - 1s 72ms/step - loss: 0.0025 - mean_squared_error: 0.0025 - mean_absolute_error: 0.0369 - val_loss: 0.0030 - val_mean_squared_error: 0.0030 - val_mean_absolute_error: 0.0439\n",
            "Epoch 22/50\n",
            "8/8 [==============================] - 1s 75ms/step - loss: 0.0026 - mean_squared_error: 0.0026 - mean_absolute_error: 0.0367 - val_loss: 0.0029 - val_mean_squared_error: 0.0029 - val_mean_absolute_error: 0.0431\n",
            "Epoch 23/50\n",
            "8/8 [==============================] - 1s 75ms/step - loss: 0.0025 - mean_squared_error: 0.0025 - mean_absolute_error: 0.0366 - val_loss: 0.0029 - val_mean_squared_error: 0.0029 - val_mean_absolute_error: 0.0430\n",
            "Epoch 24/50\n",
            "8/8 [==============================] - 1s 78ms/step - loss: 0.0026 - mean_squared_error: 0.0026 - mean_absolute_error: 0.0378 - val_loss: 0.0030 - val_mean_squared_error: 0.0030 - val_mean_absolute_error: 0.0443\n",
            "Epoch 25/50\n",
            "8/8 [==============================] - 1s 71ms/step - loss: 0.0031 - mean_squared_error: 0.0031 - mean_absolute_error: 0.0411 - val_loss: 0.0030 - val_mean_squared_error: 0.0030 - val_mean_absolute_error: 0.0441\n",
            "Epoch 26/50\n",
            "8/8 [==============================] - 1s 78ms/step - loss: 0.0024 - mean_squared_error: 0.0024 - mean_absolute_error: 0.0355 - val_loss: 0.0028 - val_mean_squared_error: 0.0028 - val_mean_absolute_error: 0.0427\n",
            "Epoch 27/50\n",
            "8/8 [==============================] - 1s 73ms/step - loss: 0.0024 - mean_squared_error: 0.0024 - mean_absolute_error: 0.0361 - val_loss: 0.0031 - val_mean_squared_error: 0.0031 - val_mean_absolute_error: 0.0445\n",
            "Epoch 28/50\n",
            "8/8 [==============================] - 1s 84ms/step - loss: 0.0024 - mean_squared_error: 0.0024 - mean_absolute_error: 0.0371 - val_loss: 0.0028 - val_mean_squared_error: 0.0028 - val_mean_absolute_error: 0.0428\n",
            "Epoch 29/50\n",
            "8/8 [==============================] - 1s 71ms/step - loss: 0.0025 - mean_squared_error: 0.0025 - mean_absolute_error: 0.0370 - val_loss: 0.0027 - val_mean_squared_error: 0.0027 - val_mean_absolute_error: 0.0420\n",
            "Epoch 30/50\n",
            "8/8 [==============================] - 1s 82ms/step - loss: 0.0023 - mean_squared_error: 0.0023 - mean_absolute_error: 0.0352 - val_loss: 0.0027 - val_mean_squared_error: 0.0027 - val_mean_absolute_error: 0.0419\n",
            "Epoch 31/50\n",
            "8/8 [==============================] - 1s 76ms/step - loss: 0.0024 - mean_squared_error: 0.0024 - mean_absolute_error: 0.0361 - val_loss: 0.0027 - val_mean_squared_error: 0.0027 - val_mean_absolute_error: 0.0417\n",
            "Epoch 32/50\n",
            "8/8 [==============================] - 1s 76ms/step - loss: 0.0026 - mean_squared_error: 0.0026 - mean_absolute_error: 0.0362 - val_loss: 0.0027 - val_mean_squared_error: 0.0027 - val_mean_absolute_error: 0.0417\n",
            "Epoch 33/50\n",
            "8/8 [==============================] - 1s 69ms/step - loss: 0.0021 - mean_squared_error: 0.0021 - mean_absolute_error: 0.0328 - val_loss: 0.0027 - val_mean_squared_error: 0.0027 - val_mean_absolute_error: 0.0417\n",
            "Epoch 34/50\n",
            "8/8 [==============================] - 1s 70ms/step - loss: 0.0022 - mean_squared_error: 0.0022 - mean_absolute_error: 0.0343 - val_loss: 0.0027 - val_mean_squared_error: 0.0027 - val_mean_absolute_error: 0.0415\n",
            "Epoch 35/50\n",
            "8/8 [==============================] - 1s 73ms/step - loss: 0.0019 - mean_squared_error: 0.0019 - mean_absolute_error: 0.0330 - val_loss: 0.0028 - val_mean_squared_error: 0.0028 - val_mean_absolute_error: 0.0430\n",
            "Epoch 36/50\n",
            "8/8 [==============================] - 1s 74ms/step - loss: 0.0025 - mean_squared_error: 0.0025 - mean_absolute_error: 0.0367 - val_loss: 0.0028 - val_mean_squared_error: 0.0028 - val_mean_absolute_error: 0.0420\n",
            "Epoch 37/50\n",
            "8/8 [==============================] - 1s 77ms/step - loss: 0.0022 - mean_squared_error: 0.0022 - mean_absolute_error: 0.0345 - val_loss: 0.0026 - val_mean_squared_error: 0.0026 - val_mean_absolute_error: 0.0413\n",
            "Epoch 38/50\n",
            "8/8 [==============================] - 1s 73ms/step - loss: 0.0021 - mean_squared_error: 0.0021 - mean_absolute_error: 0.0346 - val_loss: 0.0028 - val_mean_squared_error: 0.0028 - val_mean_absolute_error: 0.0420\n",
            "Epoch 39/50\n",
            "8/8 [==============================] - 1s 76ms/step - loss: 0.0020 - mean_squared_error: 0.0020 - mean_absolute_error: 0.0323 - val_loss: 0.0026 - val_mean_squared_error: 0.0026 - val_mean_absolute_error: 0.0409\n",
            "Epoch 40/50\n",
            "8/8 [==============================] - 1s 78ms/step - loss: 0.0021 - mean_squared_error: 0.0021 - mean_absolute_error: 0.0334 - val_loss: 0.0028 - val_mean_squared_error: 0.0028 - val_mean_absolute_error: 0.0419\n",
            "Epoch 41/50\n",
            "8/8 [==============================] - 1s 80ms/step - loss: 0.0019 - mean_squared_error: 0.0019 - mean_absolute_error: 0.0320 - val_loss: 0.0026 - val_mean_squared_error: 0.0026 - val_mean_absolute_error: 0.0407\n",
            "Epoch 42/50\n",
            "8/8 [==============================] - 1s 70ms/step - loss: 0.0021 - mean_squared_error: 0.0021 - mean_absolute_error: 0.0329 - val_loss: 0.0029 - val_mean_squared_error: 0.0029 - val_mean_absolute_error: 0.0429\n",
            "Epoch 43/50\n",
            "8/8 [==============================] - 1s 73ms/step - loss: 0.0020 - mean_squared_error: 0.0020 - mean_absolute_error: 0.0340 - val_loss: 0.0029 - val_mean_squared_error: 0.0029 - val_mean_absolute_error: 0.0427\n",
            "Epoch 44/50\n",
            "8/8 [==============================] - 1s 78ms/step - loss: 0.0023 - mean_squared_error: 0.0023 - mean_absolute_error: 0.0345 - val_loss: 0.0027 - val_mean_squared_error: 0.0027 - val_mean_absolute_error: 0.0416\n",
            "Epoch 45/50\n",
            "8/8 [==============================] - 1s 74ms/step - loss: 0.0018 - mean_squared_error: 0.0018 - mean_absolute_error: 0.0318 - val_loss: 0.0028 - val_mean_squared_error: 0.0028 - val_mean_absolute_error: 0.0420\n",
            "Epoch 46/50\n",
            "8/8 [==============================] - 1s 74ms/step - loss: 0.0021 - mean_squared_error: 0.0021 - mean_absolute_error: 0.0345 - val_loss: 0.0030 - val_mean_squared_error: 0.0030 - val_mean_absolute_error: 0.0434\n",
            "Epoch 47/50\n",
            "8/8 [==============================] - 1s 79ms/step - loss: 0.0021 - mean_squared_error: 0.0021 - mean_absolute_error: 0.0334 - val_loss: 0.0027 - val_mean_squared_error: 0.0027 - val_mean_absolute_error: 0.0412\n",
            "Epoch 48/50\n",
            "8/8 [==============================] - 1s 73ms/step - loss: 0.0019 - mean_squared_error: 0.0019 - mean_absolute_error: 0.0323 - val_loss: 0.0025 - val_mean_squared_error: 0.0025 - val_mean_absolute_error: 0.0401\n",
            "Epoch 49/50\n",
            "8/8 [==============================] - 1s 72ms/step - loss: 0.0021 - mean_squared_error: 0.0021 - mean_absolute_error: 0.0335 - val_loss: 0.0025 - val_mean_squared_error: 0.0025 - val_mean_absolute_error: 0.0400\n",
            "Epoch 50/50\n",
            "8/8 [==============================] - 1s 77ms/step - loss: 0.0020 - mean_squared_error: 0.0020 - mean_absolute_error: 0.0333 - val_loss: 0.0028 - val_mean_squared_error: 0.0028 - val_mean_absolute_error: 0.0416\n"
          ]
        },
        {
          "output_type": "display_data",
          "data": {
            "text/plain": [
              "<IPython.core.display.HTML object>"
            ],
            "text/html": [
              "<br/>Waiting for W&B process to finish, PID 4095<br/>Program ended successfully."
            ]
          },
          "metadata": {
            "tags": []
          }
        },
        {
          "output_type": "display_data",
          "data": {
            "text/plain": [
              "VBox(children=(Label(value=' 1.70MB of 1.70MB uploaded (0.00MB deduped)\\r'), FloatProgress(value=1.0, max=1.0)…"
            ],
            "application/vnd.jupyter.widget-view+json": {
              "model_id": "67624506fc0646939930ef372a2f9902",
              "version_minor": 0,
              "version_major": 2
            }
          },
          "metadata": {
            "tags": []
          }
        },
        {
          "output_type": "display_data",
          "data": {
            "text/plain": [
              "<IPython.core.display.HTML object>"
            ],
            "text/html": [
              "Find user logs for this run at: <code>/content/feeder_repo/wandb/run-20210713_143158-xrx2ocgl/logs/debug.log</code>"
            ]
          },
          "metadata": {
            "tags": []
          }
        },
        {
          "output_type": "display_data",
          "data": {
            "text/plain": [
              "<IPython.core.display.HTML object>"
            ],
            "text/html": [
              "Find internal logs for this run at: <code>/content/feeder_repo/wandb/run-20210713_143158-xrx2ocgl/logs/debug-internal.log</code>"
            ]
          },
          "metadata": {
            "tags": []
          }
        },
        {
          "output_type": "display_data",
          "data": {
            "text/plain": [
              "<IPython.core.display.HTML object>"
            ],
            "text/html": [
              "<h3>Run summary:</h3><br/><style>\n",
              "    table.wandb td:nth-child(1) { padding: 0 10px; text-align: right }\n",
              "    </style><table class=\"wandb\">\n",
              "<tr><td>epoch</td><td>49</td></tr><tr><td>loss</td><td>0.002</td></tr><tr><td>mean_squared_error</td><td>0.002</td></tr><tr><td>mean_absolute_error</td><td>0.03326</td></tr><tr><td>val_loss</td><td>0.00276</td></tr><tr><td>val_mean_squared_error</td><td>0.00276</td></tr><tr><td>val_mean_absolute_error</td><td>0.04165</td></tr><tr><td>_runtime</td><td>41</td></tr><tr><td>_timestamp</td><td>1626186759</td></tr><tr><td>_step</td><td>49</td></tr><tr><td>best_val_loss</td><td>0.00247</td></tr><tr><td>best_epoch</td><td>48</td></tr></table>"
            ]
          },
          "metadata": {
            "tags": []
          }
        },
        {
          "output_type": "display_data",
          "data": {
            "text/plain": [
              "<IPython.core.display.HTML object>"
            ],
            "text/html": [
              "<h3>Run history:</h3><br/><style>\n",
              "    table.wandb td:nth-child(1) { padding: 0 10px; text-align: right }\n",
              "    </style><table class=\"wandb\">\n",
              "<tr><td>epoch</td><td>▁▁▁▁▂▂▂▂▂▃▃▃▃▃▃▄▄▄▄▄▅▅▅▅▅▅▆▆▆▆▆▆▇▇▇▇▇███</td></tr><tr><td>loss</td><td>█▁▁▁▁▁▁▁▁▁▁▁▁▁▁▁▁▁▁▁▁▁▁▁▁▁▁▁▁▁▁▁▁▁▁▁▁▁▁▁</td></tr><tr><td>mean_squared_error</td><td>█▁▁▁▁▁▁▁▁▁▁▁▁▁▁▁▁▁▁▁▁▁▁▁▁▁▁▁▁▁▁▁▁▁▁▁▁▁▁▁</td></tr><tr><td>mean_absolute_error</td><td>█▃▂▂▁▁▁▁▁▁▁▁▁▁▁▁▁▁▁▁▁▁▁▁▁▁▁▁▁▁▁▁▁▁▁▁▁▁▁▁</td></tr><tr><td>val_loss</td><td>█▆▃▂▂▂▂▂▁▁▁▁▁▁▁▂▁▁▁▁▁▁▁▁▁▁▁▁▁▁▁▁▁▁▁▁▁▁▁▁</td></tr><tr><td>val_mean_squared_error</td><td>█▆▃▂▂▂▂▂▁▁▁▁▁▁▁▂▁▁▁▁▁▁▁▁▁▁▁▁▁▁▁▁▁▁▁▁▁▁▁▁</td></tr><tr><td>val_mean_absolute_error</td><td>██▄▃▂▂▂▂▂▂▂▂▂▂▂▂▂▁▁▂▁▂▁▁▁▁▁▁▁▁▁▁▁▁▁▁▁▁▁▁</td></tr><tr><td>_runtime</td><td>▁▁▁▁▂▂▂▂▂▃▃▃▃▃▃▄▄▄▄▄▅▅▅▅▅▅▆▆▆▆▆▆▇▇▇▇████</td></tr><tr><td>_timestamp</td><td>▁▁▁▁▂▂▂▂▂▃▃▃▃▃▃▄▄▄▄▄▅▅▅▅▅▅▆▆▆▆▆▆▇▇▇▇████</td></tr><tr><td>_step</td><td>▁▁▁▁▂▂▂▂▂▃▃▃▃▃▃▄▄▄▄▄▅▅▅▅▅▅▆▆▆▆▆▆▇▇▇▇▇███</td></tr></table><br/>"
            ]
          },
          "metadata": {
            "tags": []
          }
        },
        {
          "output_type": "display_data",
          "data": {
            "text/plain": [
              "<IPython.core.display.HTML object>"
            ],
            "text/html": [
              "Synced 5 W&B file(s), 1 media file(s), 2 artifact file(s) and 2 other file(s)"
            ]
          },
          "metadata": {
            "tags": []
          }
        },
        {
          "output_type": "display_data",
          "data": {
            "text/plain": [
              "<IPython.core.display.HTML object>"
            ],
            "text/html": [
              "\n",
              "                    <br/>Synced <strong style=\"color:#cdcd00\">woven-sweep-15</strong>: <a href=\"https://wandb.ai/acse-jaq15/ACSE_9_GRU/runs/xrx2ocgl\" target=\"_blank\">https://wandb.ai/acse-jaq15/ACSE_9_GRU/runs/xrx2ocgl</a><br/>\n",
              "                "
            ]
          },
          "metadata": {
            "tags": []
          }
        },
        {
          "output_type": "stream",
          "name": "stderr",
          "text": [
            "\u001b[34m\u001b[1mwandb\u001b[0m: Agent Starting Run: j9l7837t with config:\n",
            "\u001b[34m\u001b[1mwandb\u001b[0m: \tactivation: selu\n",
            "\u001b[34m\u001b[1mwandb\u001b[0m: \tbatch_size: 128\n",
            "\u001b[34m\u001b[1mwandb\u001b[0m: \tdropout: 0.3\n",
            "\u001b[34m\u001b[1mwandb\u001b[0m: \tepochs: 50\n",
            "\u001b[34m\u001b[1mwandb\u001b[0m: \thidden_size: 25\n",
            "\u001b[34m\u001b[1mwandb\u001b[0m: \tinput_size: 100\n",
            "\u001b[34m\u001b[1mwandb\u001b[0m: \tlearning_rate: 0.005\n",
            "\u001b[34m\u001b[1mwandb\u001b[0m: \toptimizer: adam\n"
          ]
        },
        {
          "output_type": "display_data",
          "data": {
            "text/plain": [
              "<IPython.core.display.HTML object>"
            ],
            "text/html": [
              "\n",
              "                Tracking run with wandb version 0.10.33<br/>\n",
              "                Syncing run <strong style=\"color:#cdcd00\">likely-sweep-16</strong> to <a href=\"https://wandb.ai\" target=\"_blank\">Weights & Biases</a> <a href=\"https://docs.wandb.com/integrations/jupyter.html\" target=\"_blank\">(Documentation)</a>.<br/>\n",
              "                Project page: <a href=\"https://wandb.ai/acse-jaq15/ACSE_9_GRU\" target=\"_blank\">https://wandb.ai/acse-jaq15/ACSE_9_GRU</a><br/>\n",
              "                Sweep page: <a href=\"https://wandb.ai/acse-jaq15/ACSE_9_GRU/sweeps/znsj9bl4\" target=\"_blank\">https://wandb.ai/acse-jaq15/ACSE_9_GRU/sweeps/znsj9bl4</a><br/>\n",
              "Run page: <a href=\"https://wandb.ai/acse-jaq15/ACSE_9_GRU/runs/j9l7837t\" target=\"_blank\">https://wandb.ai/acse-jaq15/ACSE_9_GRU/runs/j9l7837t</a><br/>\n",
              "                Run data is saved locally in <code>/content/feeder_repo/wandb/run-20210713_143251-j9l7837t</code><br/><br/>\n",
              "            "
            ]
          },
          "metadata": {
            "tags": []
          }
        },
        {
          "output_type": "stream",
          "name": "stdout",
          "text": [
            "WARNING:tensorflow:Layer gru will not use cuDNN kernels since it doesn't meet the criteria. It will use a generic GPU kernel as fallback when running on GPU.\n",
            "Epoch 1/50\n",
            "8/8 [==============================] - 4s 191ms/step - loss: 0.2052 - mean_squared_error: 0.2052 - mean_absolute_error: 0.3358 - val_loss: 0.0290 - val_mean_squared_error: 0.0290 - val_mean_absolute_error: 0.1313\n",
            "Epoch 2/50\n",
            "8/8 [==============================] - 1s 73ms/step - loss: 0.0296 - mean_squared_error: 0.0296 - mean_absolute_error: 0.1334 - val_loss: 0.0049 - val_mean_squared_error: 0.0049 - val_mean_absolute_error: 0.0541\n",
            "Epoch 3/50\n",
            "8/8 [==============================] - 1s 78ms/step - loss: 0.0139 - mean_squared_error: 0.0139 - mean_absolute_error: 0.0874 - val_loss: 0.0044 - val_mean_squared_error: 0.0044 - val_mean_absolute_error: 0.0536\n",
            "Epoch 4/50\n",
            "8/8 [==============================] - 1s 75ms/step - loss: 0.0103 - mean_squared_error: 0.0103 - mean_absolute_error: 0.0768 - val_loss: 0.0025 - val_mean_squared_error: 0.0025 - val_mean_absolute_error: 0.0399\n",
            "Epoch 5/50\n",
            "8/8 [==============================] - 1s 79ms/step - loss: 0.0093 - mean_squared_error: 0.0093 - mean_absolute_error: 0.0695 - val_loss: 0.0022 - val_mean_squared_error: 0.0022 - val_mean_absolute_error: 0.0374\n",
            "Epoch 6/50\n",
            "8/8 [==============================] - 1s 77ms/step - loss: 0.0084 - mean_squared_error: 0.0084 - mean_absolute_error: 0.0628 - val_loss: 0.0023 - val_mean_squared_error: 0.0023 - val_mean_absolute_error: 0.0387\n",
            "Epoch 7/50\n",
            "8/8 [==============================] - 1s 75ms/step - loss: 0.0073 - mean_squared_error: 0.0073 - mean_absolute_error: 0.0607 - val_loss: 0.0021 - val_mean_squared_error: 0.0021 - val_mean_absolute_error: 0.0369\n",
            "Epoch 8/50\n",
            "8/8 [==============================] - 1s 71ms/step - loss: 0.0061 - mean_squared_error: 0.0061 - mean_absolute_error: 0.0563 - val_loss: 0.0024 - val_mean_squared_error: 0.0024 - val_mean_absolute_error: 0.0390\n",
            "Epoch 9/50\n",
            "8/8 [==============================] - 1s 74ms/step - loss: 0.0074 - mean_squared_error: 0.0074 - mean_absolute_error: 0.0608 - val_loss: 0.0024 - val_mean_squared_error: 0.0024 - val_mean_absolute_error: 0.0392\n",
            "Epoch 10/50\n",
            "8/8 [==============================] - 1s 76ms/step - loss: 0.0057 - mean_squared_error: 0.0057 - mean_absolute_error: 0.0554 - val_loss: 0.0021 - val_mean_squared_error: 0.0021 - val_mean_absolute_error: 0.0372\n",
            "Epoch 11/50\n",
            "8/8 [==============================] - 1s 73ms/step - loss: 0.0060 - mean_squared_error: 0.0060 - mean_absolute_error: 0.0556 - val_loss: 0.0022 - val_mean_squared_error: 0.0022 - val_mean_absolute_error: 0.0374\n",
            "Epoch 12/50\n",
            "8/8 [==============================] - 1s 72ms/step - loss: 0.0068 - mean_squared_error: 0.0068 - mean_absolute_error: 0.0598 - val_loss: 0.0022 - val_mean_squared_error: 0.0022 - val_mean_absolute_error: 0.0375\n",
            "Epoch 13/50\n",
            "8/8 [==============================] - 1s 73ms/step - loss: 0.0060 - mean_squared_error: 0.0060 - mean_absolute_error: 0.0568 - val_loss: 0.0022 - val_mean_squared_error: 0.0022 - val_mean_absolute_error: 0.0380\n",
            "Epoch 14/50\n",
            "8/8 [==============================] - 1s 70ms/step - loss: 0.0052 - mean_squared_error: 0.0052 - mean_absolute_error: 0.0514 - val_loss: 0.0025 - val_mean_squared_error: 0.0025 - val_mean_absolute_error: 0.0404\n",
            "Epoch 15/50\n",
            "8/8 [==============================] - 1s 68ms/step - loss: 0.0058 - mean_squared_error: 0.0058 - mean_absolute_error: 0.0543 - val_loss: 0.0022 - val_mean_squared_error: 0.0022 - val_mean_absolute_error: 0.0375\n",
            "Epoch 16/50\n",
            "8/8 [==============================] - 1s 78ms/step - loss: 0.0056 - mean_squared_error: 0.0056 - mean_absolute_error: 0.0531 - val_loss: 0.0025 - val_mean_squared_error: 0.0025 - val_mean_absolute_error: 0.0402\n",
            "Epoch 17/50\n",
            "8/8 [==============================] - 1s 70ms/step - loss: 0.0057 - mean_squared_error: 0.0057 - mean_absolute_error: 0.0550 - val_loss: 0.0023 - val_mean_squared_error: 0.0023 - val_mean_absolute_error: 0.0386\n"
          ]
        },
        {
          "output_type": "display_data",
          "data": {
            "text/plain": [
              "<IPython.core.display.HTML object>"
            ],
            "text/html": [
              "<br/>Waiting for W&B process to finish, PID 4310<br/>Program ended successfully."
            ]
          },
          "metadata": {
            "tags": []
          }
        },
        {
          "output_type": "display_data",
          "data": {
            "text/plain": [
              "VBox(children=(Label(value=' 1.13MB of 1.13MB uploaded (0.00MB deduped)\\r'), FloatProgress(value=1.0, max=1.0)…"
            ],
            "application/vnd.jupyter.widget-view+json": {
              "model_id": "5ef63350376146aab049f9ffd2c15999",
              "version_minor": 0,
              "version_major": 2
            }
          },
          "metadata": {
            "tags": []
          }
        },
        {
          "output_type": "display_data",
          "data": {
            "text/plain": [
              "<IPython.core.display.HTML object>"
            ],
            "text/html": [
              "Find user logs for this run at: <code>/content/feeder_repo/wandb/run-20210713_143251-j9l7837t/logs/debug.log</code>"
            ]
          },
          "metadata": {
            "tags": []
          }
        },
        {
          "output_type": "display_data",
          "data": {
            "text/plain": [
              "<IPython.core.display.HTML object>"
            ],
            "text/html": [
              "Find internal logs for this run at: <code>/content/feeder_repo/wandb/run-20210713_143251-j9l7837t/logs/debug-internal.log</code>"
            ]
          },
          "metadata": {
            "tags": []
          }
        },
        {
          "output_type": "display_data",
          "data": {
            "text/plain": [
              "<IPython.core.display.HTML object>"
            ],
            "text/html": [
              "<h3>Run summary:</h3><br/><style>\n",
              "    table.wandb td:nth-child(1) { padding: 0 10px; text-align: right }\n",
              "    </style><table class=\"wandb\">\n",
              "<tr><td>epoch</td><td>16</td></tr><tr><td>loss</td><td>0.00575</td></tr><tr><td>mean_squared_error</td><td>0.00575</td></tr><tr><td>mean_absolute_error</td><td>0.0543</td></tr><tr><td>val_loss</td><td>0.00232</td></tr><tr><td>val_mean_squared_error</td><td>0.00232</td></tr><tr><td>val_mean_absolute_error</td><td>0.03864</td></tr><tr><td>_runtime</td><td>19</td></tr><tr><td>_timestamp</td><td>1626186790</td></tr><tr><td>_step</td><td>16</td></tr><tr><td>best_val_loss</td><td>0.00211</td></tr><tr><td>best_epoch</td><td>6</td></tr></table>"
            ]
          },
          "metadata": {
            "tags": []
          }
        },
        {
          "output_type": "display_data",
          "data": {
            "text/plain": [
              "<IPython.core.display.HTML object>"
            ],
            "text/html": [
              "<h3>Run history:</h3><br/><style>\n",
              "    table.wandb td:nth-child(1) { padding: 0 10px; text-align: right }\n",
              "    </style><table class=\"wandb\">\n",
              "<tr><td>epoch</td><td>▁▁▂▂▃▃▄▄▅▅▅▆▆▇▇██</td></tr><tr><td>loss</td><td>█▂▁▁▁▁▁▁▁▁▁▁▁▁▁▁▁</td></tr><tr><td>mean_squared_error</td><td>█▂▁▁▁▁▁▁▁▁▁▁▁▁▁▁▁</td></tr><tr><td>mean_absolute_error</td><td>█▃▂▂▂▁▁▁▁▁▁▁▁▁▁▁▁</td></tr><tr><td>val_loss</td><td>█▂▂▁▁▁▁▁▁▁▁▁▁▁▁▁▁</td></tr><tr><td>val_mean_squared_error</td><td>█▂▂▁▁▁▁▁▁▁▁▁▁▁▁▁▁</td></tr><tr><td>val_mean_absolute_error</td><td>█▂▂▁▁▁▁▁▁▁▁▁▁▁▁▁▁</td></tr><tr><td>_runtime</td><td>▁▂▂▂▃▄▄▅▅▅▆▆▇▇▇██</td></tr><tr><td>_timestamp</td><td>▁▂▂▂▃▄▄▅▅▅▆▆▇▇▇██</td></tr><tr><td>_step</td><td>▁▁▂▂▃▃▄▄▅▅▅▆▆▇▇██</td></tr></table><br/>"
            ]
          },
          "metadata": {
            "tags": []
          }
        },
        {
          "output_type": "display_data",
          "data": {
            "text/plain": [
              "<IPython.core.display.HTML object>"
            ],
            "text/html": [
              "Synced 5 W&B file(s), 1 media file(s), 2 artifact file(s) and 2 other file(s)"
            ]
          },
          "metadata": {
            "tags": []
          }
        },
        {
          "output_type": "display_data",
          "data": {
            "text/plain": [
              "<IPython.core.display.HTML object>"
            ],
            "text/html": [
              "\n",
              "                    <br/>Synced <strong style=\"color:#cdcd00\">likely-sweep-16</strong>: <a href=\"https://wandb.ai/acse-jaq15/ACSE_9_GRU/runs/j9l7837t\" target=\"_blank\">https://wandb.ai/acse-jaq15/ACSE_9_GRU/runs/j9l7837t</a><br/>\n",
              "                "
            ]
          },
          "metadata": {
            "tags": []
          }
        },
        {
          "output_type": "stream",
          "name": "stderr",
          "text": [
            "\u001b[34m\u001b[1mwandb\u001b[0m: Agent Starting Run: ountqic1 with config:\n",
            "\u001b[34m\u001b[1mwandb\u001b[0m: \tactivation: tanh\n",
            "\u001b[34m\u001b[1mwandb\u001b[0m: \tbatch_size: 64\n",
            "\u001b[34m\u001b[1mwandb\u001b[0m: \tdropout: 0.3\n",
            "\u001b[34m\u001b[1mwandb\u001b[0m: \tepochs: 100\n",
            "\u001b[34m\u001b[1mwandb\u001b[0m: \thidden_size: 50\n",
            "\u001b[34m\u001b[1mwandb\u001b[0m: \tinput_size: 50\n",
            "\u001b[34m\u001b[1mwandb\u001b[0m: \tlearning_rate: 0.0005\n",
            "\u001b[34m\u001b[1mwandb\u001b[0m: \toptimizer: sgd\n"
          ]
        },
        {
          "output_type": "display_data",
          "data": {
            "text/plain": [
              "<IPython.core.display.HTML object>"
            ],
            "text/html": [
              "\n",
              "                Tracking run with wandb version 0.10.33<br/>\n",
              "                Syncing run <strong style=\"color:#cdcd00\">clean-sweep-17</strong> to <a href=\"https://wandb.ai\" target=\"_blank\">Weights & Biases</a> <a href=\"https://docs.wandb.com/integrations/jupyter.html\" target=\"_blank\">(Documentation)</a>.<br/>\n",
              "                Project page: <a href=\"https://wandb.ai/acse-jaq15/ACSE_9_GRU\" target=\"_blank\">https://wandb.ai/acse-jaq15/ACSE_9_GRU</a><br/>\n",
              "                Sweep page: <a href=\"https://wandb.ai/acse-jaq15/ACSE_9_GRU/sweeps/znsj9bl4\" target=\"_blank\">https://wandb.ai/acse-jaq15/ACSE_9_GRU/sweeps/znsj9bl4</a><br/>\n",
              "Run page: <a href=\"https://wandb.ai/acse-jaq15/ACSE_9_GRU/runs/ountqic1\" target=\"_blank\">https://wandb.ai/acse-jaq15/ACSE_9_GRU/runs/ountqic1</a><br/>\n",
              "                Run data is saved locally in <code>/content/feeder_repo/wandb/run-20210713_143332-ountqic1</code><br/><br/>\n",
              "            "
            ]
          },
          "metadata": {
            "tags": []
          }
        },
        {
          "output_type": "stream",
          "name": "stdout",
          "text": [
            "Epoch 1/100\n",
            "16/16 [==============================] - 4s 60ms/step - loss: 0.2560 - mean_squared_error: 0.2560 - mean_absolute_error: 0.4212 - val_loss: 0.0978 - val_mean_squared_error: 0.0978 - val_mean_absolute_error: 0.2364\n",
            "Epoch 2/100\n",
            "16/16 [==============================] - 0s 10ms/step - loss: 0.1126 - mean_squared_error: 0.1126 - mean_absolute_error: 0.2724 - val_loss: 0.0452 - val_mean_squared_error: 0.0452 - val_mean_absolute_error: 0.1721\n",
            "Epoch 3/100\n",
            "16/16 [==============================] - 0s 10ms/step - loss: 0.0630 - mean_squared_error: 0.0630 - mean_absolute_error: 0.2147 - val_loss: 0.0439 - val_mean_squared_error: 0.0439 - val_mean_absolute_error: 0.1841\n",
            "Epoch 4/100\n",
            "16/16 [==============================] - 0s 10ms/step - loss: 0.0599 - mean_squared_error: 0.0599 - mean_absolute_error: 0.2126 - val_loss: 0.0419 - val_mean_squared_error: 0.0419 - val_mean_absolute_error: 0.1806\n",
            "Epoch 5/100\n",
            "16/16 [==============================] - 0s 10ms/step - loss: 0.0554 - mean_squared_error: 0.0554 - mean_absolute_error: 0.2024 - val_loss: 0.0388 - val_mean_squared_error: 0.0388 - val_mean_absolute_error: 0.1729\n",
            "Epoch 6/100\n",
            "16/16 [==============================] - 0s 10ms/step - loss: 0.0508 - mean_squared_error: 0.0508 - mean_absolute_error: 0.1928 - val_loss: 0.0358 - val_mean_squared_error: 0.0358 - val_mean_absolute_error: 0.1647\n",
            "Epoch 7/100\n",
            "16/16 [==============================] - 0s 10ms/step - loss: 0.0486 - mean_squared_error: 0.0486 - mean_absolute_error: 0.1878 - val_loss: 0.0334 - val_mean_squared_error: 0.0334 - val_mean_absolute_error: 0.1586\n",
            "Epoch 8/100\n",
            "16/16 [==============================] - 0s 10ms/step - loss: 0.0439 - mean_squared_error: 0.0439 - mean_absolute_error: 0.1800 - val_loss: 0.0315 - val_mean_squared_error: 0.0315 - val_mean_absolute_error: 0.1541\n",
            "Epoch 9/100\n",
            "16/16 [==============================] - 0s 10ms/step - loss: 0.0438 - mean_squared_error: 0.0438 - mean_absolute_error: 0.1792 - val_loss: 0.0298 - val_mean_squared_error: 0.0298 - val_mean_absolute_error: 0.1497\n",
            "Epoch 10/100\n",
            "16/16 [==============================] - 0s 10ms/step - loss: 0.0397 - mean_squared_error: 0.0397 - mean_absolute_error: 0.1706 - val_loss: 0.0278 - val_mean_squared_error: 0.0278 - val_mean_absolute_error: 0.1442\n",
            "Epoch 11/100\n",
            "16/16 [==============================] - 0s 11ms/step - loss: 0.0383 - mean_squared_error: 0.0383 - mean_absolute_error: 0.1670 - val_loss: 0.0258 - val_mean_squared_error: 0.0258 - val_mean_absolute_error: 0.1379\n",
            "Epoch 12/100\n",
            "16/16 [==============================] - 0s 11ms/step - loss: 0.0365 - mean_squared_error: 0.0365 - mean_absolute_error: 0.1624 - val_loss: 0.0241 - val_mean_squared_error: 0.0241 - val_mean_absolute_error: 0.1331\n",
            "Epoch 13/100\n",
            "16/16 [==============================] - 0s 10ms/step - loss: 0.0321 - mean_squared_error: 0.0321 - mean_absolute_error: 0.1558 - val_loss: 0.0225 - val_mean_squared_error: 0.0225 - val_mean_absolute_error: 0.1282\n",
            "Epoch 14/100\n",
            "16/16 [==============================] - 0s 10ms/step - loss: 0.0318 - mean_squared_error: 0.0318 - mean_absolute_error: 0.1523 - val_loss: 0.0210 - val_mean_squared_error: 0.0210 - val_mean_absolute_error: 0.1237\n",
            "Epoch 15/100\n",
            "16/16 [==============================] - 0s 10ms/step - loss: 0.0292 - mean_squared_error: 0.0292 - mean_absolute_error: 0.1466 - val_loss: 0.0198 - val_mean_squared_error: 0.0198 - val_mean_absolute_error: 0.1201\n",
            "Epoch 16/100\n",
            "16/16 [==============================] - 0s 11ms/step - loss: 0.0283 - mean_squared_error: 0.0283 - mean_absolute_error: 0.1412 - val_loss: 0.0183 - val_mean_squared_error: 0.0183 - val_mean_absolute_error: 0.1145\n",
            "Epoch 17/100\n",
            "16/16 [==============================] - 0s 10ms/step - loss: 0.0262 - mean_squared_error: 0.0262 - mean_absolute_error: 0.1338 - val_loss: 0.0171 - val_mean_squared_error: 0.0171 - val_mean_absolute_error: 0.1108\n",
            "Epoch 18/100\n",
            "16/16 [==============================] - 0s 10ms/step - loss: 0.0233 - mean_squared_error: 0.0233 - mean_absolute_error: 0.1283 - val_loss: 0.0159 - val_mean_squared_error: 0.0159 - val_mean_absolute_error: 0.1062\n",
            "Epoch 19/100\n",
            "16/16 [==============================] - 0s 10ms/step - loss: 0.0229 - mean_squared_error: 0.0229 - mean_absolute_error: 0.1303 - val_loss: 0.0149 - val_mean_squared_error: 0.0149 - val_mean_absolute_error: 0.1025\n",
            "Epoch 20/100\n",
            "16/16 [==============================] - 0s 10ms/step - loss: 0.0209 - mean_squared_error: 0.0209 - mean_absolute_error: 0.1225 - val_loss: 0.0139 - val_mean_squared_error: 0.0139 - val_mean_absolute_error: 0.0990\n",
            "Epoch 21/100\n",
            "16/16 [==============================] - 0s 10ms/step - loss: 0.0200 - mean_squared_error: 0.0200 - mean_absolute_error: 0.1196 - val_loss: 0.0130 - val_mean_squared_error: 0.0130 - val_mean_absolute_error: 0.0956\n",
            "Epoch 22/100\n",
            "16/16 [==============================] - 0s 10ms/step - loss: 0.0178 - mean_squared_error: 0.0178 - mean_absolute_error: 0.1147 - val_loss: 0.0121 - val_mean_squared_error: 0.0121 - val_mean_absolute_error: 0.0914\n",
            "Epoch 23/100\n",
            "16/16 [==============================] - 0s 10ms/step - loss: 0.0191 - mean_squared_error: 0.0191 - mean_absolute_error: 0.1145 - val_loss: 0.0113 - val_mean_squared_error: 0.0113 - val_mean_absolute_error: 0.0881\n",
            "Epoch 24/100\n",
            "16/16 [==============================] - 0s 10ms/step - loss: 0.0173 - mean_squared_error: 0.0173 - mean_absolute_error: 0.1096 - val_loss: 0.0105 - val_mean_squared_error: 0.0105 - val_mean_absolute_error: 0.0846\n",
            "Epoch 25/100\n",
            "16/16 [==============================] - 0s 11ms/step - loss: 0.0166 - mean_squared_error: 0.0166 - mean_absolute_error: 0.1061 - val_loss: 0.0097 - val_mean_squared_error: 0.0097 - val_mean_absolute_error: 0.0810\n",
            "Epoch 26/100\n",
            "16/16 [==============================] - 0s 11ms/step - loss: 0.0137 - mean_squared_error: 0.0137 - mean_absolute_error: 0.0969 - val_loss: 0.0090 - val_mean_squared_error: 0.0090 - val_mean_absolute_error: 0.0773\n",
            "Epoch 27/100\n",
            "16/16 [==============================] - 0s 10ms/step - loss: 0.0134 - mean_squared_error: 0.0134 - mean_absolute_error: 0.0942 - val_loss: 0.0084 - val_mean_squared_error: 0.0084 - val_mean_absolute_error: 0.0743\n",
            "Epoch 28/100\n",
            "16/16 [==============================] - 0s 10ms/step - loss: 0.0147 - mean_squared_error: 0.0147 - mean_absolute_error: 0.0986 - val_loss: 0.0079 - val_mean_squared_error: 0.0079 - val_mean_absolute_error: 0.0719\n",
            "Epoch 29/100\n",
            "16/16 [==============================] - 0s 10ms/step - loss: 0.0116 - mean_squared_error: 0.0116 - mean_absolute_error: 0.0878 - val_loss: 0.0074 - val_mean_squared_error: 0.0074 - val_mean_absolute_error: 0.0696\n",
            "Epoch 30/100\n",
            "16/16 [==============================] - 0s 11ms/step - loss: 0.0118 - mean_squared_error: 0.0118 - mean_absolute_error: 0.0876 - val_loss: 0.0070 - val_mean_squared_error: 0.0070 - val_mean_absolute_error: 0.0677\n",
            "Epoch 31/100\n",
            "16/16 [==============================] - 0s 10ms/step - loss: 0.0120 - mean_squared_error: 0.0120 - mean_absolute_error: 0.0885 - val_loss: 0.0065 - val_mean_squared_error: 0.0065 - val_mean_absolute_error: 0.0653\n",
            "Epoch 32/100\n",
            "16/16 [==============================] - 0s 10ms/step - loss: 0.0101 - mean_squared_error: 0.0101 - mean_absolute_error: 0.0822 - val_loss: 0.0061 - val_mean_squared_error: 0.0061 - val_mean_absolute_error: 0.0627\n",
            "Epoch 33/100\n",
            "16/16 [==============================] - 0s 10ms/step - loss: 0.0101 - mean_squared_error: 0.0101 - mean_absolute_error: 0.0800 - val_loss: 0.0057 - val_mean_squared_error: 0.0057 - val_mean_absolute_error: 0.0611\n",
            "Epoch 34/100\n",
            "16/16 [==============================] - 0s 10ms/step - loss: 0.0095 - mean_squared_error: 0.0095 - mean_absolute_error: 0.0774 - val_loss: 0.0055 - val_mean_squared_error: 0.0055 - val_mean_absolute_error: 0.0595\n",
            "Epoch 35/100\n",
            "16/16 [==============================] - 0s 10ms/step - loss: 0.0106 - mean_squared_error: 0.0106 - mean_absolute_error: 0.0803 - val_loss: 0.0052 - val_mean_squared_error: 0.0052 - val_mean_absolute_error: 0.0586\n",
            "Epoch 36/100\n",
            "16/16 [==============================] - 0s 10ms/step - loss: 0.0104 - mean_squared_error: 0.0104 - mean_absolute_error: 0.0796 - val_loss: 0.0050 - val_mean_squared_error: 0.0050 - val_mean_absolute_error: 0.0576\n",
            "Epoch 37/100\n",
            "16/16 [==============================] - 0s 10ms/step - loss: 0.0079 - mean_squared_error: 0.0079 - mean_absolute_error: 0.0706 - val_loss: 0.0047 - val_mean_squared_error: 0.0047 - val_mean_absolute_error: 0.0554\n",
            "Epoch 38/100\n",
            "16/16 [==============================] - 0s 10ms/step - loss: 0.0091 - mean_squared_error: 0.0091 - mean_absolute_error: 0.0741 - val_loss: 0.0045 - val_mean_squared_error: 0.0045 - val_mean_absolute_error: 0.0540\n",
            "Epoch 39/100\n",
            "16/16 [==============================] - 0s 10ms/step - loss: 0.0091 - mean_squared_error: 0.0091 - mean_absolute_error: 0.0743 - val_loss: 0.0043 - val_mean_squared_error: 0.0043 - val_mean_absolute_error: 0.0528\n",
            "Epoch 40/100\n",
            "16/16 [==============================] - 0s 10ms/step - loss: 0.0076 - mean_squared_error: 0.0076 - mean_absolute_error: 0.0662 - val_loss: 0.0041 - val_mean_squared_error: 0.0041 - val_mean_absolute_error: 0.0516\n",
            "Epoch 41/100\n",
            "16/16 [==============================] - 0s 10ms/step - loss: 0.0077 - mean_squared_error: 0.0077 - mean_absolute_error: 0.0659 - val_loss: 0.0040 - val_mean_squared_error: 0.0040 - val_mean_absolute_error: 0.0512\n",
            "Epoch 42/100\n",
            "16/16 [==============================] - 0s 10ms/step - loss: 0.0085 - mean_squared_error: 0.0085 - mean_absolute_error: 0.0707 - val_loss: 0.0039 - val_mean_squared_error: 0.0039 - val_mean_absolute_error: 0.0504\n",
            "Epoch 43/100\n",
            "16/16 [==============================] - 0s 11ms/step - loss: 0.0087 - mean_squared_error: 0.0087 - mean_absolute_error: 0.0709 - val_loss: 0.0037 - val_mean_squared_error: 0.0037 - val_mean_absolute_error: 0.0491\n",
            "Epoch 44/100\n",
            "16/16 [==============================] - 0s 11ms/step - loss: 0.0080 - mean_squared_error: 0.0080 - mean_absolute_error: 0.0645 - val_loss: 0.0036 - val_mean_squared_error: 0.0036 - val_mean_absolute_error: 0.0481\n",
            "Epoch 45/100\n",
            "16/16 [==============================] - 0s 10ms/step - loss: 0.0065 - mean_squared_error: 0.0065 - mean_absolute_error: 0.0620 - val_loss: 0.0035 - val_mean_squared_error: 0.0035 - val_mean_absolute_error: 0.0474\n",
            "Epoch 46/100\n",
            "16/16 [==============================] - 0s 10ms/step - loss: 0.0067 - mean_squared_error: 0.0067 - mean_absolute_error: 0.0605 - val_loss: 0.0034 - val_mean_squared_error: 0.0034 - val_mean_absolute_error: 0.0471\n",
            "Epoch 47/100\n",
            "16/16 [==============================] - 0s 10ms/step - loss: 0.0071 - mean_squared_error: 0.0071 - mean_absolute_error: 0.0612 - val_loss: 0.0034 - val_mean_squared_error: 0.0034 - val_mean_absolute_error: 0.0467\n",
            "Epoch 48/100\n",
            "16/16 [==============================] - 0s 10ms/step - loss: 0.0072 - mean_squared_error: 0.0072 - mean_absolute_error: 0.0619 - val_loss: 0.0033 - val_mean_squared_error: 0.0033 - val_mean_absolute_error: 0.0464\n",
            "Epoch 49/100\n",
            "16/16 [==============================] - 0s 11ms/step - loss: 0.0067 - mean_squared_error: 0.0067 - mean_absolute_error: 0.0616 - val_loss: 0.0032 - val_mean_squared_error: 0.0032 - val_mean_absolute_error: 0.0460\n",
            "Epoch 50/100\n",
            "16/16 [==============================] - 0s 11ms/step - loss: 0.0059 - mean_squared_error: 0.0059 - mean_absolute_error: 0.0563 - val_loss: 0.0032 - val_mean_squared_error: 0.0032 - val_mean_absolute_error: 0.0453\n",
            "Epoch 51/100\n",
            "16/16 [==============================] - 0s 11ms/step - loss: 0.0068 - mean_squared_error: 0.0068 - mean_absolute_error: 0.0608 - val_loss: 0.0031 - val_mean_squared_error: 0.0031 - val_mean_absolute_error: 0.0451\n",
            "Epoch 52/100\n",
            "16/16 [==============================] - 0s 9ms/step - loss: 0.0066 - mean_squared_error: 0.0066 - mean_absolute_error: 0.0583 - val_loss: 0.0031 - val_mean_squared_error: 0.0031 - val_mean_absolute_error: 0.0447\n",
            "Epoch 53/100\n",
            "16/16 [==============================] - 0s 10ms/step - loss: 0.0071 - mean_squared_error: 0.0071 - mean_absolute_error: 0.0599 - val_loss: 0.0031 - val_mean_squared_error: 0.0031 - val_mean_absolute_error: 0.0445\n",
            "Epoch 54/100\n",
            "16/16 [==============================] - 0s 10ms/step - loss: 0.0061 - mean_squared_error: 0.0061 - mean_absolute_error: 0.0571 - val_loss: 0.0030 - val_mean_squared_error: 0.0030 - val_mean_absolute_error: 0.0440\n",
            "Epoch 55/100\n",
            "16/16 [==============================] - 0s 11ms/step - loss: 0.0065 - mean_squared_error: 0.0065 - mean_absolute_error: 0.0583 - val_loss: 0.0029 - val_mean_squared_error: 0.0029 - val_mean_absolute_error: 0.0434\n",
            "Epoch 56/100\n",
            "16/16 [==============================] - 0s 11ms/step - loss: 0.0056 - mean_squared_error: 0.0056 - mean_absolute_error: 0.0530 - val_loss: 0.0029 - val_mean_squared_error: 0.0029 - val_mean_absolute_error: 0.0432\n",
            "Epoch 57/100\n",
            "16/16 [==============================] - 0s 9ms/step - loss: 0.0073 - mean_squared_error: 0.0073 - mean_absolute_error: 0.0614 - val_loss: 0.0029 - val_mean_squared_error: 0.0029 - val_mean_absolute_error: 0.0434\n",
            "Epoch 58/100\n",
            "16/16 [==============================] - 0s 11ms/step - loss: 0.0064 - mean_squared_error: 0.0064 - mean_absolute_error: 0.0569 - val_loss: 0.0029 - val_mean_squared_error: 0.0029 - val_mean_absolute_error: 0.0431\n",
            "Epoch 59/100\n",
            "16/16 [==============================] - 0s 11ms/step - loss: 0.0066 - mean_squared_error: 0.0066 - mean_absolute_error: 0.0575 - val_loss: 0.0029 - val_mean_squared_error: 0.0029 - val_mean_absolute_error: 0.0431\n",
            "Epoch 60/100\n",
            "16/16 [==============================] - 0s 10ms/step - loss: 0.0067 - mean_squared_error: 0.0067 - mean_absolute_error: 0.0583 - val_loss: 0.0029 - val_mean_squared_error: 0.0029 - val_mean_absolute_error: 0.0431\n",
            "Epoch 61/100\n",
            "16/16 [==============================] - 0s 11ms/step - loss: 0.0057 - mean_squared_error: 0.0057 - mean_absolute_error: 0.0546 - val_loss: 0.0028 - val_mean_squared_error: 0.0028 - val_mean_absolute_error: 0.0428\n",
            "Epoch 62/100\n",
            "16/16 [==============================] - 0s 10ms/step - loss: 0.0062 - mean_squared_error: 0.0062 - mean_absolute_error: 0.0547 - val_loss: 0.0028 - val_mean_squared_error: 0.0028 - val_mean_absolute_error: 0.0425\n",
            "Epoch 63/100\n",
            "16/16 [==============================] - 0s 9ms/step - loss: 0.0070 - mean_squared_error: 0.0070 - mean_absolute_error: 0.0607 - val_loss: 0.0028 - val_mean_squared_error: 0.0028 - val_mean_absolute_error: 0.0425\n",
            "Epoch 64/100\n",
            "16/16 [==============================] - 0s 11ms/step - loss: 0.0061 - mean_squared_error: 0.0061 - mean_absolute_error: 0.0553 - val_loss: 0.0028 - val_mean_squared_error: 0.0028 - val_mean_absolute_error: 0.0421\n",
            "Epoch 65/100\n",
            "16/16 [==============================] - 0s 10ms/step - loss: 0.0052 - mean_squared_error: 0.0052 - mean_absolute_error: 0.0519 - val_loss: 0.0028 - val_mean_squared_error: 0.0028 - val_mean_absolute_error: 0.0422\n",
            "Epoch 66/100\n",
            "16/16 [==============================] - 0s 11ms/step - loss: 0.0056 - mean_squared_error: 0.0056 - mean_absolute_error: 0.0534 - val_loss: 0.0028 - val_mean_squared_error: 0.0028 - val_mean_absolute_error: 0.0424\n",
            "Epoch 67/100\n",
            "16/16 [==============================] - 0s 12ms/step - loss: 0.0067 - mean_squared_error: 0.0067 - mean_absolute_error: 0.0580 - val_loss: 0.0028 - val_mean_squared_error: 0.0028 - val_mean_absolute_error: 0.0425\n",
            "Epoch 68/100\n",
            "16/16 [==============================] - 0s 10ms/step - loss: 0.0062 - mean_squared_error: 0.0062 - mean_absolute_error: 0.0555 - val_loss: 0.0028 - val_mean_squared_error: 0.0028 - val_mean_absolute_error: 0.0423\n",
            "Epoch 69/100\n",
            "16/16 [==============================] - 0s 10ms/step - loss: 0.0061 - mean_squared_error: 0.0061 - mean_absolute_error: 0.0556 - val_loss: 0.0027 - val_mean_squared_error: 0.0027 - val_mean_absolute_error: 0.0418\n",
            "Epoch 70/100\n",
            "16/16 [==============================] - 0s 10ms/step - loss: 0.0069 - mean_squared_error: 0.0069 - mean_absolute_error: 0.0587 - val_loss: 0.0027 - val_mean_squared_error: 0.0027 - val_mean_absolute_error: 0.0417\n",
            "Epoch 71/100\n",
            "16/16 [==============================] - 0s 10ms/step - loss: 0.0058 - mean_squared_error: 0.0058 - mean_absolute_error: 0.0539 - val_loss: 0.0027 - val_mean_squared_error: 0.0027 - val_mean_absolute_error: 0.0419\n",
            "Epoch 72/100\n",
            "16/16 [==============================] - 0s 10ms/step - loss: 0.0054 - mean_squared_error: 0.0054 - mean_absolute_error: 0.0537 - val_loss: 0.0027 - val_mean_squared_error: 0.0027 - val_mean_absolute_error: 0.0420\n",
            "Epoch 73/100\n",
            "16/16 [==============================] - 0s 10ms/step - loss: 0.0063 - mean_squared_error: 0.0063 - mean_absolute_error: 0.0575 - val_loss: 0.0027 - val_mean_squared_error: 0.0027 - val_mean_absolute_error: 0.0417\n",
            "Epoch 74/100\n",
            "16/16 [==============================] - 0s 10ms/step - loss: 0.0056 - mean_squared_error: 0.0056 - mean_absolute_error: 0.0519 - val_loss: 0.0027 - val_mean_squared_error: 0.0027 - val_mean_absolute_error: 0.0416\n",
            "Epoch 75/100\n",
            "16/16 [==============================] - 0s 11ms/step - loss: 0.0057 - mean_squared_error: 0.0057 - mean_absolute_error: 0.0521 - val_loss: 0.0027 - val_mean_squared_error: 0.0027 - val_mean_absolute_error: 0.0416\n",
            "Epoch 76/100\n",
            "16/16 [==============================] - 0s 10ms/step - loss: 0.0054 - mean_squared_error: 0.0054 - mean_absolute_error: 0.0522 - val_loss: 0.0027 - val_mean_squared_error: 0.0027 - val_mean_absolute_error: 0.0415\n",
            "Epoch 77/100\n",
            "16/16 [==============================] - 0s 10ms/step - loss: 0.0050 - mean_squared_error: 0.0050 - mean_absolute_error: 0.0511 - val_loss: 0.0027 - val_mean_squared_error: 0.0027 - val_mean_absolute_error: 0.0416\n",
            "Epoch 78/100\n",
            "16/16 [==============================] - 0s 10ms/step - loss: 0.0054 - mean_squared_error: 0.0054 - mean_absolute_error: 0.0520 - val_loss: 0.0027 - val_mean_squared_error: 0.0027 - val_mean_absolute_error: 0.0416\n",
            "Epoch 79/100\n",
            "16/16 [==============================] - 0s 10ms/step - loss: 0.0053 - mean_squared_error: 0.0053 - mean_absolute_error: 0.0535 - val_loss: 0.0027 - val_mean_squared_error: 0.0027 - val_mean_absolute_error: 0.0415\n",
            "Epoch 80/100\n",
            "16/16 [==============================] - 0s 10ms/step - loss: 0.0053 - mean_squared_error: 0.0053 - mean_absolute_error: 0.0519 - val_loss: 0.0027 - val_mean_squared_error: 0.0027 - val_mean_absolute_error: 0.0415\n",
            "Epoch 81/100\n",
            "16/16 [==============================] - 0s 10ms/step - loss: 0.0045 - mean_squared_error: 0.0045 - mean_absolute_error: 0.0486 - val_loss: 0.0027 - val_mean_squared_error: 0.0027 - val_mean_absolute_error: 0.0415\n",
            "Epoch 82/100\n",
            "16/16 [==============================] - 0s 10ms/step - loss: 0.0056 - mean_squared_error: 0.0056 - mean_absolute_error: 0.0536 - val_loss: 0.0027 - val_mean_squared_error: 0.0027 - val_mean_absolute_error: 0.0415\n",
            "Epoch 83/100\n",
            "16/16 [==============================] - 0s 11ms/step - loss: 0.0057 - mean_squared_error: 0.0057 - mean_absolute_error: 0.0548 - val_loss: 0.0027 - val_mean_squared_error: 0.0027 - val_mean_absolute_error: 0.0415\n",
            "Epoch 84/100\n",
            "16/16 [==============================] - 0s 9ms/step - loss: 0.0055 - mean_squared_error: 0.0055 - mean_absolute_error: 0.0530 - val_loss: 0.0027 - val_mean_squared_error: 0.0027 - val_mean_absolute_error: 0.0415\n",
            "Epoch 85/100\n",
            "16/16 [==============================] - 0s 10ms/step - loss: 0.0056 - mean_squared_error: 0.0056 - mean_absolute_error: 0.0534 - val_loss: 0.0027 - val_mean_squared_error: 0.0027 - val_mean_absolute_error: 0.0414\n",
            "Epoch 86/100\n",
            "16/16 [==============================] - 0s 14ms/step - loss: 0.0053 - mean_squared_error: 0.0053 - mean_absolute_error: 0.0531 - val_loss: 0.0027 - val_mean_squared_error: 0.0027 - val_mean_absolute_error: 0.0415\n",
            "Epoch 87/100\n",
            "16/16 [==============================] - 0s 11ms/step - loss: 0.0053 - mean_squared_error: 0.0053 - mean_absolute_error: 0.0523 - val_loss: 0.0027 - val_mean_squared_error: 0.0027 - val_mean_absolute_error: 0.0415\n",
            "Epoch 88/100\n",
            "16/16 [==============================] - 0s 11ms/step - loss: 0.0055 - mean_squared_error: 0.0055 - mean_absolute_error: 0.0537 - val_loss: 0.0027 - val_mean_squared_error: 0.0027 - val_mean_absolute_error: 0.0414\n",
            "Epoch 89/100\n",
            "16/16 [==============================] - 0s 10ms/step - loss: 0.0056 - mean_squared_error: 0.0056 - mean_absolute_error: 0.0551 - val_loss: 0.0027 - val_mean_squared_error: 0.0027 - val_mean_absolute_error: 0.0414\n",
            "Epoch 90/100\n",
            "16/16 [==============================] - 0s 10ms/step - loss: 0.0051 - mean_squared_error: 0.0051 - mean_absolute_error: 0.0506 - val_loss: 0.0027 - val_mean_squared_error: 0.0027 - val_mean_absolute_error: 0.0415\n",
            "Epoch 91/100\n",
            "16/16 [==============================] - 0s 10ms/step - loss: 0.0058 - mean_squared_error: 0.0058 - mean_absolute_error: 0.0542 - val_loss: 0.0027 - val_mean_squared_error: 0.0027 - val_mean_absolute_error: 0.0414\n",
            "Epoch 92/100\n",
            "16/16 [==============================] - 0s 12ms/step - loss: 0.0056 - mean_squared_error: 0.0056 - mean_absolute_error: 0.0524 - val_loss: 0.0026 - val_mean_squared_error: 0.0026 - val_mean_absolute_error: 0.0413\n",
            "Epoch 93/100\n",
            "16/16 [==============================] - 0s 10ms/step - loss: 0.0048 - mean_squared_error: 0.0048 - mean_absolute_error: 0.0502 - val_loss: 0.0026 - val_mean_squared_error: 0.0026 - val_mean_absolute_error: 0.0413\n",
            "Epoch 94/100\n",
            "16/16 [==============================] - 0s 11ms/step - loss: 0.0065 - mean_squared_error: 0.0065 - mean_absolute_error: 0.0560 - val_loss: 0.0027 - val_mean_squared_error: 0.0027 - val_mean_absolute_error: 0.0414\n",
            "Epoch 95/100\n",
            "16/16 [==============================] - 0s 11ms/step - loss: 0.0048 - mean_squared_error: 0.0048 - mean_absolute_error: 0.0497 - val_loss: 0.0027 - val_mean_squared_error: 0.0027 - val_mean_absolute_error: 0.0414\n",
            "Epoch 96/100\n",
            "16/16 [==============================] - 0s 11ms/step - loss: 0.0053 - mean_squared_error: 0.0053 - mean_absolute_error: 0.0520 - val_loss: 0.0026 - val_mean_squared_error: 0.0026 - val_mean_absolute_error: 0.0414\n",
            "Epoch 97/100\n",
            "16/16 [==============================] - 0s 11ms/step - loss: 0.0054 - mean_squared_error: 0.0054 - mean_absolute_error: 0.0519 - val_loss: 0.0027 - val_mean_squared_error: 0.0027 - val_mean_absolute_error: 0.0415\n",
            "Epoch 98/100\n",
            "16/16 [==============================] - 0s 11ms/step - loss: 0.0057 - mean_squared_error: 0.0057 - mean_absolute_error: 0.0539 - val_loss: 0.0027 - val_mean_squared_error: 0.0027 - val_mean_absolute_error: 0.0416\n",
            "Epoch 99/100\n",
            "16/16 [==============================] - 0s 11ms/step - loss: 0.0055 - mean_squared_error: 0.0055 - mean_absolute_error: 0.0534 - val_loss: 0.0027 - val_mean_squared_error: 0.0027 - val_mean_absolute_error: 0.0414\n",
            "Epoch 100/100\n",
            "16/16 [==============================] - 0s 10ms/step - loss: 0.0044 - mean_squared_error: 0.0044 - mean_absolute_error: 0.0485 - val_loss: 0.0026 - val_mean_squared_error: 0.0026 - val_mean_absolute_error: 0.0413\n"
          ]
        },
        {
          "output_type": "display_data",
          "data": {
            "text/plain": [
              "<IPython.core.display.HTML object>"
            ],
            "text/html": [
              "<br/>Waiting for W&B process to finish, PID 4424<br/>Program ended successfully."
            ]
          },
          "metadata": {
            "tags": []
          }
        },
        {
          "output_type": "display_data",
          "data": {
            "text/plain": [
              "VBox(children=(Label(value=' 0.71MB of 0.71MB uploaded (0.00MB deduped)\\r'), FloatProgress(value=1.0, max=1.0)…"
            ],
            "application/vnd.jupyter.widget-view+json": {
              "model_id": "3623655579e14c019424c18ce513a960",
              "version_minor": 0,
              "version_major": 2
            }
          },
          "metadata": {
            "tags": []
          }
        },
        {
          "output_type": "display_data",
          "data": {
            "text/plain": [
              "<IPython.core.display.HTML object>"
            ],
            "text/html": [
              "Find user logs for this run at: <code>/content/feeder_repo/wandb/run-20210713_143332-ountqic1/logs/debug.log</code>"
            ]
          },
          "metadata": {
            "tags": []
          }
        },
        {
          "output_type": "display_data",
          "data": {
            "text/plain": [
              "<IPython.core.display.HTML object>"
            ],
            "text/html": [
              "Find internal logs for this run at: <code>/content/feeder_repo/wandb/run-20210713_143332-ountqic1/logs/debug-internal.log</code>"
            ]
          },
          "metadata": {
            "tags": []
          }
        },
        {
          "output_type": "display_data",
          "data": {
            "text/plain": [
              "<IPython.core.display.HTML object>"
            ],
            "text/html": [
              "<h3>Run summary:</h3><br/><style>\n",
              "    table.wandb td:nth-child(1) { padding: 0 10px; text-align: right }\n",
              "    </style><table class=\"wandb\">\n",
              "<tr><td>epoch</td><td>99</td></tr><tr><td>loss</td><td>0.00453</td></tr><tr><td>mean_squared_error</td><td>0.00453</td></tr><tr><td>mean_absolute_error</td><td>0.04822</td></tr><tr><td>val_loss</td><td>0.00265</td></tr><tr><td>val_mean_squared_error</td><td>0.00265</td></tr><tr><td>val_mean_absolute_error</td><td>0.04134</td></tr><tr><td>_runtime</td><td>28</td></tr><tr><td>_timestamp</td><td>1626186840</td></tr><tr><td>_step</td><td>99</td></tr><tr><td>best_val_loss</td><td>0.00264</td></tr><tr><td>best_epoch</td><td>91</td></tr></table>"
            ]
          },
          "metadata": {
            "tags": []
          }
        },
        {
          "output_type": "display_data",
          "data": {
            "text/plain": [
              "<IPython.core.display.HTML object>"
            ],
            "text/html": [
              "<h3>Run history:</h3><br/><style>\n",
              "    table.wandb td:nth-child(1) { padding: 0 10px; text-align: right }\n",
              "    </style><table class=\"wandb\">\n",
              "<tr><td>epoch</td><td>▁▁▁▁▂▂▂▂▂▃▃▃▃▃▃▄▄▄▄▄▅▅▅▅▅▅▆▆▆▆▆▇▇▇▇▇▇███</td></tr><tr><td>loss</td><td>█▃▂▂▂▂▂▂▁▁▁▁▁▁▁▁▁▁▁▁▁▁▁▁▁▁▁▁▁▁▁▁▁▁▁▁▁▁▁▁</td></tr><tr><td>mean_squared_error</td><td>█▃▂▂▂▂▂▂▁▁▁▁▁▁▁▁▁▁▁▁▁▁▁▁▁▁▁▁▁▁▁▁▁▁▁▁▁▁▁▁</td></tr><tr><td>mean_absolute_error</td><td>█▄▄▄▃▃▃▃▂▂▂▂▂▂▂▂▁▁▁▁▁▁▁▁▁▁▁▁▁▁▁▁▁▁▁▁▁▁▁▁</td></tr><tr><td>val_loss</td><td>█▄▃▃▃▂▂▂▂▂▁▁▁▁▁▁▁▁▁▁▁▁▁▁▁▁▁▁▁▁▁▁▁▁▁▁▁▁▁▁</td></tr><tr><td>val_mean_squared_error</td><td>█▄▃▃▃▂▂▂▂▂▁▁▁▁▁▁▁▁▁▁▁▁▁▁▁▁▁▁▁▁▁▁▁▁▁▁▁▁▁▁</td></tr><tr><td>val_mean_absolute_error</td><td>█▆▅▅▄▄▄▃▃▃▂▂▂▂▂▁▁▁▁▁▁▁▁▁▁▁▁▁▁▁▁▁▁▁▁▁▁▁▁▁</td></tr><tr><td>_runtime</td><td>▁▁▁▁▂▂▂▂▂▂▃▃▃▃▄▄▄▄▄▄▅▅▅▅▅▅▆▆▆▆▇▇▇▇▇▇▇███</td></tr><tr><td>_timestamp</td><td>▁▁▁▁▂▂▂▂▂▂▃▃▃▃▄▄▄▄▄▄▅▅▅▅▅▅▆▆▆▆▇▇▇▇▇▇▇███</td></tr><tr><td>_step</td><td>▁▁▁▁▂▂▂▂▂▃▃▃▃▃▃▄▄▄▄▄▅▅▅▅▅▅▆▆▆▆▆▇▇▇▇▇▇███</td></tr></table><br/>"
            ]
          },
          "metadata": {
            "tags": []
          }
        },
        {
          "output_type": "display_data",
          "data": {
            "text/plain": [
              "<IPython.core.display.HTML object>"
            ],
            "text/html": [
              "Synced 5 W&B file(s), 1 media file(s), 2 artifact file(s) and 2 other file(s)"
            ]
          },
          "metadata": {
            "tags": []
          }
        },
        {
          "output_type": "display_data",
          "data": {
            "text/plain": [
              "<IPython.core.display.HTML object>"
            ],
            "text/html": [
              "\n",
              "                    <br/>Synced <strong style=\"color:#cdcd00\">clean-sweep-17</strong>: <a href=\"https://wandb.ai/acse-jaq15/ACSE_9_GRU/runs/ountqic1\" target=\"_blank\">https://wandb.ai/acse-jaq15/ACSE_9_GRU/runs/ountqic1</a><br/>\n",
              "                "
            ]
          },
          "metadata": {
            "tags": []
          }
        },
        {
          "output_type": "stream",
          "name": "stderr",
          "text": [
            "\u001b[34m\u001b[1mwandb\u001b[0m: Agent Starting Run: ksl8wi1j with config:\n",
            "\u001b[34m\u001b[1mwandb\u001b[0m: \tactivation: tanh\n",
            "\u001b[34m\u001b[1mwandb\u001b[0m: \tbatch_size: 32\n",
            "\u001b[34m\u001b[1mwandb\u001b[0m: \tdropout: 0.2\n",
            "\u001b[34m\u001b[1mwandb\u001b[0m: \tepochs: 100\n",
            "\u001b[34m\u001b[1mwandb\u001b[0m: \thidden_size: 100\n",
            "\u001b[34m\u001b[1mwandb\u001b[0m: \tinput_size: 50\n",
            "\u001b[34m\u001b[1mwandb\u001b[0m: \tlearning_rate: 0.0005\n",
            "\u001b[34m\u001b[1mwandb\u001b[0m: \toptimizer: adam\n"
          ]
        },
        {
          "output_type": "display_data",
          "data": {
            "text/plain": [
              "<IPython.core.display.HTML object>"
            ],
            "text/html": [
              "\n",
              "                Tracking run with wandb version 0.10.33<br/>\n",
              "                Syncing run <strong style=\"color:#cdcd00\">warm-sweep-18</strong> to <a href=\"https://wandb.ai\" target=\"_blank\">Weights & Biases</a> <a href=\"https://docs.wandb.com/integrations/jupyter.html\" target=\"_blank\">(Documentation)</a>.<br/>\n",
              "                Project page: <a href=\"https://wandb.ai/acse-jaq15/ACSE_9_GRU\" target=\"_blank\">https://wandb.ai/acse-jaq15/ACSE_9_GRU</a><br/>\n",
              "                Sweep page: <a href=\"https://wandb.ai/acse-jaq15/ACSE_9_GRU/sweeps/znsj9bl4\" target=\"_blank\">https://wandb.ai/acse-jaq15/ACSE_9_GRU/sweeps/znsj9bl4</a><br/>\n",
              "Run page: <a href=\"https://wandb.ai/acse-jaq15/ACSE_9_GRU/runs/ksl8wi1j\" target=\"_blank\">https://wandb.ai/acse-jaq15/ACSE_9_GRU/runs/ksl8wi1j</a><br/>\n",
              "                Run data is saved locally in <code>/content/feeder_repo/wandb/run-20210713_143413-ksl8wi1j</code><br/><br/>\n",
              "            "
            ]
          },
          "metadata": {
            "tags": []
          }
        },
        {
          "output_type": "stream",
          "name": "stdout",
          "text": [
            "Epoch 1/100\n",
            "32/32 [==============================] - 4s 34ms/step - loss: 0.1130 - mean_squared_error: 0.1130 - mean_absolute_error: 0.2544 - val_loss: 0.0075 - val_mean_squared_error: 0.0075 - val_mean_absolute_error: 0.0685\n",
            "Epoch 2/100\n",
            "32/32 [==============================] - 0s 9ms/step - loss: 0.0078 - mean_squared_error: 0.0078 - mean_absolute_error: 0.0709 - val_loss: 0.0034 - val_mean_squared_error: 0.0034 - val_mean_absolute_error: 0.0467\n",
            "Epoch 3/100\n",
            "32/32 [==============================] - 0s 8ms/step - loss: 0.0030 - mean_squared_error: 0.0030 - mean_absolute_error: 0.0413 - val_loss: 0.0031 - val_mean_squared_error: 0.0031 - val_mean_absolute_error: 0.0445\n",
            "Epoch 4/100\n",
            "32/32 [==============================] - 0s 10ms/step - loss: 0.0031 - mean_squared_error: 0.0031 - mean_absolute_error: 0.0407 - val_loss: 0.0030 - val_mean_squared_error: 0.0030 - val_mean_absolute_error: 0.0440\n",
            "Epoch 5/100\n",
            "32/32 [==============================] - 0s 9ms/step - loss: 0.0034 - mean_squared_error: 0.0034 - mean_absolute_error: 0.0420 - val_loss: 0.0030 - val_mean_squared_error: 0.0030 - val_mean_absolute_error: 0.0440\n",
            "Epoch 6/100\n",
            "32/32 [==============================] - 0s 10ms/step - loss: 0.0026 - mean_squared_error: 0.0026 - mean_absolute_error: 0.0372 - val_loss: 0.0029 - val_mean_squared_error: 0.0029 - val_mean_absolute_error: 0.0437\n",
            "Epoch 7/100\n",
            "32/32 [==============================] - 0s 9ms/step - loss: 0.0027 - mean_squared_error: 0.0027 - mean_absolute_error: 0.0376 - val_loss: 0.0029 - val_mean_squared_error: 0.0029 - val_mean_absolute_error: 0.0434\n",
            "Epoch 8/100\n",
            "32/32 [==============================] - 0s 10ms/step - loss: 0.0026 - mean_squared_error: 0.0026 - mean_absolute_error: 0.0368 - val_loss: 0.0030 - val_mean_squared_error: 0.0030 - val_mean_absolute_error: 0.0441\n",
            "Epoch 9/100\n",
            "32/32 [==============================] - 0s 9ms/step - loss: 0.0029 - mean_squared_error: 0.0029 - mean_absolute_error: 0.0395 - val_loss: 0.0032 - val_mean_squared_error: 0.0032 - val_mean_absolute_error: 0.0451\n",
            "Epoch 10/100\n",
            "32/32 [==============================] - 0s 9ms/step - loss: 0.0024 - mean_squared_error: 0.0024 - mean_absolute_error: 0.0374 - val_loss: 0.0029 - val_mean_squared_error: 0.0029 - val_mean_absolute_error: 0.0430\n",
            "Epoch 11/100\n",
            "32/32 [==============================] - 0s 9ms/step - loss: 0.0023 - mean_squared_error: 0.0023 - mean_absolute_error: 0.0347 - val_loss: 0.0028 - val_mean_squared_error: 0.0028 - val_mean_absolute_error: 0.0426\n",
            "Epoch 12/100\n",
            "32/32 [==============================] - 0s 9ms/step - loss: 0.0028 - mean_squared_error: 0.0028 - mean_absolute_error: 0.0394 - val_loss: 0.0036 - val_mean_squared_error: 0.0036 - val_mean_absolute_error: 0.0475\n",
            "Epoch 13/100\n",
            "32/32 [==============================] - 0s 10ms/step - loss: 0.0025 - mean_squared_error: 0.0025 - mean_absolute_error: 0.0364 - val_loss: 0.0034 - val_mean_squared_error: 0.0034 - val_mean_absolute_error: 0.0465\n",
            "Epoch 14/100\n",
            "32/32 [==============================] - 0s 10ms/step - loss: 0.0022 - mean_squared_error: 0.0022 - mean_absolute_error: 0.0354 - val_loss: 0.0028 - val_mean_squared_error: 0.0028 - val_mean_absolute_error: 0.0425\n",
            "Epoch 15/100\n",
            "32/32 [==============================] - 0s 8ms/step - loss: 0.0021 - mean_squared_error: 0.0021 - mean_absolute_error: 0.0333 - val_loss: 0.0027 - val_mean_squared_error: 0.0027 - val_mean_absolute_error: 0.0416\n",
            "Epoch 16/100\n",
            "32/32 [==============================] - 0s 9ms/step - loss: 0.0018 - mean_squared_error: 0.0018 - mean_absolute_error: 0.0320 - val_loss: 0.0027 - val_mean_squared_error: 0.0027 - val_mean_absolute_error: 0.0417\n",
            "Epoch 17/100\n",
            "32/32 [==============================] - 0s 9ms/step - loss: 0.0021 - mean_squared_error: 0.0021 - mean_absolute_error: 0.0344 - val_loss: 0.0028 - val_mean_squared_error: 0.0028 - val_mean_absolute_error: 0.0425\n",
            "Epoch 18/100\n",
            "32/32 [==============================] - 0s 9ms/step - loss: 0.0022 - mean_squared_error: 0.0022 - mean_absolute_error: 0.0339 - val_loss: 0.0027 - val_mean_squared_error: 0.0027 - val_mean_absolute_error: 0.0414\n",
            "Epoch 19/100\n",
            "32/32 [==============================] - 0s 8ms/step - loss: 0.0018 - mean_squared_error: 0.0018 - mean_absolute_error: 0.0307 - val_loss: 0.0030 - val_mean_squared_error: 0.0030 - val_mean_absolute_error: 0.0434\n",
            "Epoch 20/100\n",
            "32/32 [==============================] - 0s 9ms/step - loss: 0.0020 - mean_squared_error: 0.0020 - mean_absolute_error: 0.0322 - val_loss: 0.0026 - val_mean_squared_error: 0.0026 - val_mean_absolute_error: 0.0413\n",
            "Epoch 21/100\n",
            "32/32 [==============================] - 0s 9ms/step - loss: 0.0021 - mean_squared_error: 0.0021 - mean_absolute_error: 0.0323 - val_loss: 0.0026 - val_mean_squared_error: 0.0026 - val_mean_absolute_error: 0.0408\n",
            "Epoch 22/100\n",
            "32/32 [==============================] - 0s 9ms/step - loss: 0.0019 - mean_squared_error: 0.0019 - mean_absolute_error: 0.0325 - val_loss: 0.0026 - val_mean_squared_error: 0.0026 - val_mean_absolute_error: 0.0407\n",
            "Epoch 23/100\n",
            "32/32 [==============================] - 0s 9ms/step - loss: 0.0018 - mean_squared_error: 0.0018 - mean_absolute_error: 0.0318 - val_loss: 0.0026 - val_mean_squared_error: 0.0026 - val_mean_absolute_error: 0.0407\n",
            "Epoch 24/100\n",
            "32/32 [==============================] - 0s 9ms/step - loss: 0.0019 - mean_squared_error: 0.0019 - mean_absolute_error: 0.0327 - val_loss: 0.0026 - val_mean_squared_error: 0.0026 - val_mean_absolute_error: 0.0409\n",
            "Epoch 25/100\n",
            "32/32 [==============================] - 0s 9ms/step - loss: 0.0020 - mean_squared_error: 0.0020 - mean_absolute_error: 0.0330 - val_loss: 0.0031 - val_mean_squared_error: 0.0031 - val_mean_absolute_error: 0.0444\n",
            "Epoch 26/100\n",
            "32/32 [==============================] - 0s 9ms/step - loss: 0.0021 - mean_squared_error: 0.0021 - mean_absolute_error: 0.0330 - val_loss: 0.0026 - val_mean_squared_error: 0.0026 - val_mean_absolute_error: 0.0403\n",
            "Epoch 27/100\n",
            "32/32 [==============================] - 0s 9ms/step - loss: 0.0015 - mean_squared_error: 0.0015 - mean_absolute_error: 0.0296 - val_loss: 0.0025 - val_mean_squared_error: 0.0025 - val_mean_absolute_error: 0.0400\n",
            "Epoch 28/100\n",
            "32/32 [==============================] - 0s 9ms/step - loss: 0.0018 - mean_squared_error: 0.0018 - mean_absolute_error: 0.0311 - val_loss: 0.0027 - val_mean_squared_error: 0.0027 - val_mean_absolute_error: 0.0413\n",
            "Epoch 29/100\n",
            "32/32 [==============================] - 0s 9ms/step - loss: 0.0019 - mean_squared_error: 0.0019 - mean_absolute_error: 0.0328 - val_loss: 0.0024 - val_mean_squared_error: 0.0024 - val_mean_absolute_error: 0.0398\n",
            "Epoch 30/100\n",
            "32/32 [==============================] - 0s 8ms/step - loss: 0.0016 - mean_squared_error: 0.0016 - mean_absolute_error: 0.0307 - val_loss: 0.0024 - val_mean_squared_error: 0.0024 - val_mean_absolute_error: 0.0395\n",
            "Epoch 31/100\n",
            "32/32 [==============================] - 0s 9ms/step - loss: 0.0018 - mean_squared_error: 0.0018 - mean_absolute_error: 0.0315 - val_loss: 0.0030 - val_mean_squared_error: 0.0030 - val_mean_absolute_error: 0.0433\n",
            "Epoch 32/100\n",
            "32/32 [==============================] - 0s 10ms/step - loss: 0.0018 - mean_squared_error: 0.0018 - mean_absolute_error: 0.0309 - val_loss: 0.0024 - val_mean_squared_error: 0.0024 - val_mean_absolute_error: 0.0394\n",
            "Epoch 33/100\n",
            "32/32 [==============================] - 0s 9ms/step - loss: 0.0016 - mean_squared_error: 0.0016 - mean_absolute_error: 0.0296 - val_loss: 0.0034 - val_mean_squared_error: 0.0034 - val_mean_absolute_error: 0.0457\n",
            "Epoch 34/100\n",
            "32/32 [==============================] - 0s 9ms/step - loss: 0.0021 - mean_squared_error: 0.0021 - mean_absolute_error: 0.0337 - val_loss: 0.0023 - val_mean_squared_error: 0.0023 - val_mean_absolute_error: 0.0389\n",
            "Epoch 35/100\n",
            "32/32 [==============================] - 0s 10ms/step - loss: 0.0018 - mean_squared_error: 0.0018 - mean_absolute_error: 0.0312 - val_loss: 0.0026 - val_mean_squared_error: 0.0026 - val_mean_absolute_error: 0.0412\n",
            "Epoch 36/100\n",
            "32/32 [==============================] - 0s 9ms/step - loss: 0.0019 - mean_squared_error: 0.0019 - mean_absolute_error: 0.0319 - val_loss: 0.0023 - val_mean_squared_error: 0.0023 - val_mean_absolute_error: 0.0385\n",
            "Epoch 37/100\n",
            "32/32 [==============================] - 0s 9ms/step - loss: 0.0017 - mean_squared_error: 0.0017 - mean_absolute_error: 0.0304 - val_loss: 0.0029 - val_mean_squared_error: 0.0029 - val_mean_absolute_error: 0.0428\n",
            "Epoch 38/100\n",
            "32/32 [==============================] - 0s 9ms/step - loss: 0.0016 - mean_squared_error: 0.0016 - mean_absolute_error: 0.0296 - val_loss: 0.0024 - val_mean_squared_error: 0.0024 - val_mean_absolute_error: 0.0391\n",
            "Epoch 39/100\n",
            "32/32 [==============================] - 0s 9ms/step - loss: 0.0015 - mean_squared_error: 0.0015 - mean_absolute_error: 0.0293 - val_loss: 0.0024 - val_mean_squared_error: 0.0024 - val_mean_absolute_error: 0.0394\n",
            "Epoch 40/100\n",
            "32/32 [==============================] - 0s 9ms/step - loss: 0.0016 - mean_squared_error: 0.0016 - mean_absolute_error: 0.0301 - val_loss: 0.0026 - val_mean_squared_error: 0.0026 - val_mean_absolute_error: 0.0403\n",
            "Epoch 41/100\n",
            "32/32 [==============================] - 0s 9ms/step - loss: 0.0019 - mean_squared_error: 0.0019 - mean_absolute_error: 0.0315 - val_loss: 0.0022 - val_mean_squared_error: 0.0022 - val_mean_absolute_error: 0.0379\n",
            "Epoch 42/100\n",
            "32/32 [==============================] - 0s 8ms/step - loss: 0.0016 - mean_squared_error: 0.0016 - mean_absolute_error: 0.0292 - val_loss: 0.0022 - val_mean_squared_error: 0.0022 - val_mean_absolute_error: 0.0376\n",
            "Epoch 43/100\n",
            "32/32 [==============================] - 0s 9ms/step - loss: 0.0017 - mean_squared_error: 0.0017 - mean_absolute_error: 0.0290 - val_loss: 0.0022 - val_mean_squared_error: 0.0022 - val_mean_absolute_error: 0.0377\n",
            "Epoch 44/100\n",
            "32/32 [==============================] - 0s 10ms/step - loss: 0.0017 - mean_squared_error: 0.0017 - mean_absolute_error: 0.0298 - val_loss: 0.0023 - val_mean_squared_error: 0.0023 - val_mean_absolute_error: 0.0377\n",
            "Epoch 45/100\n",
            "32/32 [==============================] - 0s 10ms/step - loss: 0.0015 - mean_squared_error: 0.0015 - mean_absolute_error: 0.0290 - val_loss: 0.0022 - val_mean_squared_error: 0.0022 - val_mean_absolute_error: 0.0374\n",
            "Epoch 46/100\n",
            "32/32 [==============================] - 0s 9ms/step - loss: 0.0016 - mean_squared_error: 0.0016 - mean_absolute_error: 0.0297 - val_loss: 0.0021 - val_mean_squared_error: 0.0021 - val_mean_absolute_error: 0.0373\n",
            "Epoch 47/100\n",
            "32/32 [==============================] - 0s 9ms/step - loss: 0.0018 - mean_squared_error: 0.0018 - mean_absolute_error: 0.0290 - val_loss: 0.0022 - val_mean_squared_error: 0.0022 - val_mean_absolute_error: 0.0371\n",
            "Epoch 48/100\n",
            "32/32 [==============================] - 0s 8ms/step - loss: 0.0014 - mean_squared_error: 0.0014 - mean_absolute_error: 0.0271 - val_loss: 0.0022 - val_mean_squared_error: 0.0022 - val_mean_absolute_error: 0.0373\n",
            "Epoch 49/100\n",
            "32/32 [==============================] - 0s 9ms/step - loss: 0.0014 - mean_squared_error: 0.0014 - mean_absolute_error: 0.0271 - val_loss: 0.0023 - val_mean_squared_error: 0.0023 - val_mean_absolute_error: 0.0383\n",
            "Epoch 50/100\n",
            "32/32 [==============================] - 0s 8ms/step - loss: 0.0015 - mean_squared_error: 0.0015 - mean_absolute_error: 0.0281 - val_loss: 0.0023 - val_mean_squared_error: 0.0023 - val_mean_absolute_error: 0.0383\n",
            "Epoch 51/100\n",
            "32/32 [==============================] - 0s 9ms/step - loss: 0.0017 - mean_squared_error: 0.0017 - mean_absolute_error: 0.0299 - val_loss: 0.0027 - val_mean_squared_error: 0.0027 - val_mean_absolute_error: 0.0406\n",
            "Epoch 52/100\n",
            "32/32 [==============================] - 0s 10ms/step - loss: 0.0017 - mean_squared_error: 0.0017 - mean_absolute_error: 0.0309 - val_loss: 0.0021 - val_mean_squared_error: 0.0021 - val_mean_absolute_error: 0.0366\n",
            "Epoch 53/100\n",
            "32/32 [==============================] - 0s 9ms/step - loss: 0.0014 - mean_squared_error: 0.0014 - mean_absolute_error: 0.0277 - val_loss: 0.0024 - val_mean_squared_error: 0.0024 - val_mean_absolute_error: 0.0385\n",
            "Epoch 54/100\n",
            "32/32 [==============================] - 0s 8ms/step - loss: 0.0015 - mean_squared_error: 0.0015 - mean_absolute_error: 0.0283 - val_loss: 0.0023 - val_mean_squared_error: 0.0023 - val_mean_absolute_error: 0.0376\n",
            "Epoch 55/100\n",
            "32/32 [==============================] - 0s 8ms/step - loss: 0.0016 - mean_squared_error: 0.0016 - mean_absolute_error: 0.0303 - val_loss: 0.0020 - val_mean_squared_error: 0.0020 - val_mean_absolute_error: 0.0363\n",
            "Epoch 56/100\n",
            "32/32 [==============================] - 0s 8ms/step - loss: 0.0015 - mean_squared_error: 0.0015 - mean_absolute_error: 0.0273 - val_loss: 0.0020 - val_mean_squared_error: 0.0020 - val_mean_absolute_error: 0.0361\n",
            "Epoch 57/100\n",
            "32/32 [==============================] - 0s 9ms/step - loss: 0.0014 - mean_squared_error: 0.0014 - mean_absolute_error: 0.0270 - val_loss: 0.0020 - val_mean_squared_error: 0.0020 - val_mean_absolute_error: 0.0359\n",
            "Epoch 58/100\n",
            "32/32 [==============================] - 0s 8ms/step - loss: 0.0015 - mean_squared_error: 0.0015 - mean_absolute_error: 0.0276 - val_loss: 0.0020 - val_mean_squared_error: 0.0020 - val_mean_absolute_error: 0.0360\n",
            "Epoch 59/100\n",
            "32/32 [==============================] - 0s 8ms/step - loss: 0.0016 - mean_squared_error: 0.0016 - mean_absolute_error: 0.0283 - val_loss: 0.0021 - val_mean_squared_error: 0.0021 - val_mean_absolute_error: 0.0362\n",
            "Epoch 60/100\n",
            "32/32 [==============================] - 0s 9ms/step - loss: 0.0012 - mean_squared_error: 0.0012 - mean_absolute_error: 0.0254 - val_loss: 0.0021 - val_mean_squared_error: 0.0021 - val_mean_absolute_error: 0.0362\n",
            "Epoch 61/100\n",
            "32/32 [==============================] - 0s 9ms/step - loss: 0.0016 - mean_squared_error: 0.0016 - mean_absolute_error: 0.0286 - val_loss: 0.0020 - val_mean_squared_error: 0.0020 - val_mean_absolute_error: 0.0357\n",
            "Epoch 62/100\n",
            "32/32 [==============================] - 0s 9ms/step - loss: 0.0014 - mean_squared_error: 0.0014 - mean_absolute_error: 0.0275 - val_loss: 0.0020 - val_mean_squared_error: 0.0020 - val_mean_absolute_error: 0.0358\n",
            "Epoch 63/100\n",
            "32/32 [==============================] - 0s 9ms/step - loss: 0.0013 - mean_squared_error: 0.0013 - mean_absolute_error: 0.0270 - val_loss: 0.0019 - val_mean_squared_error: 0.0019 - val_mean_absolute_error: 0.0352\n",
            "Epoch 64/100\n",
            "32/32 [==============================] - 0s 8ms/step - loss: 0.0014 - mean_squared_error: 0.0014 - mean_absolute_error: 0.0274 - val_loss: 0.0021 - val_mean_squared_error: 0.0021 - val_mean_absolute_error: 0.0364\n",
            "Epoch 65/100\n",
            "32/32 [==============================] - 0s 8ms/step - loss: 0.0015 - mean_squared_error: 0.0015 - mean_absolute_error: 0.0276 - val_loss: 0.0019 - val_mean_squared_error: 0.0019 - val_mean_absolute_error: 0.0352\n",
            "Epoch 66/100\n",
            "32/32 [==============================] - 0s 9ms/step - loss: 0.0014 - mean_squared_error: 0.0014 - mean_absolute_error: 0.0271 - val_loss: 0.0019 - val_mean_squared_error: 0.0019 - val_mean_absolute_error: 0.0350\n",
            "Epoch 67/100\n",
            "32/32 [==============================] - 0s 9ms/step - loss: 0.0013 - mean_squared_error: 0.0013 - mean_absolute_error: 0.0260 - val_loss: 0.0019 - val_mean_squared_error: 0.0019 - val_mean_absolute_error: 0.0349\n",
            "Epoch 68/100\n",
            "32/32 [==============================] - 0s 9ms/step - loss: 0.0013 - mean_squared_error: 0.0013 - mean_absolute_error: 0.0264 - val_loss: 0.0019 - val_mean_squared_error: 0.0019 - val_mean_absolute_error: 0.0346\n",
            "Epoch 69/100\n",
            "32/32 [==============================] - 0s 11ms/step - loss: 0.0014 - mean_squared_error: 0.0014 - mean_absolute_error: 0.0277 - val_loss: 0.0019 - val_mean_squared_error: 0.0019 - val_mean_absolute_error: 0.0347\n",
            "Epoch 70/100\n",
            "32/32 [==============================] - 0s 10ms/step - loss: 0.0014 - mean_squared_error: 0.0014 - mean_absolute_error: 0.0273 - val_loss: 0.0019 - val_mean_squared_error: 0.0019 - val_mean_absolute_error: 0.0345\n",
            "Epoch 71/100\n",
            "32/32 [==============================] - 0s 9ms/step - loss: 0.0012 - mean_squared_error: 0.0012 - mean_absolute_error: 0.0257 - val_loss: 0.0019 - val_mean_squared_error: 0.0019 - val_mean_absolute_error: 0.0345\n",
            "Epoch 72/100\n",
            "32/32 [==============================] - 0s 10ms/step - loss: 0.0017 - mean_squared_error: 0.0017 - mean_absolute_error: 0.0294 - val_loss: 0.0018 - val_mean_squared_error: 0.0018 - val_mean_absolute_error: 0.0343\n",
            "Epoch 73/100\n",
            "32/32 [==============================] - 0s 10ms/step - loss: 0.0012 - mean_squared_error: 0.0012 - mean_absolute_error: 0.0261 - val_loss: 0.0018 - val_mean_squared_error: 0.0018 - val_mean_absolute_error: 0.0342\n",
            "Epoch 74/100\n",
            "32/32 [==============================] - 0s 9ms/step - loss: 0.0013 - mean_squared_error: 0.0013 - mean_absolute_error: 0.0255 - val_loss: 0.0018 - val_mean_squared_error: 0.0018 - val_mean_absolute_error: 0.0342\n",
            "Epoch 75/100\n",
            "32/32 [==============================] - 0s 9ms/step - loss: 0.0013 - mean_squared_error: 0.0013 - mean_absolute_error: 0.0266 - val_loss: 0.0019 - val_mean_squared_error: 0.0019 - val_mean_absolute_error: 0.0351\n",
            "Epoch 76/100\n",
            "32/32 [==============================] - 0s 11ms/step - loss: 0.0014 - mean_squared_error: 0.0014 - mean_absolute_error: 0.0276 - val_loss: 0.0018 - val_mean_squared_error: 0.0018 - val_mean_absolute_error: 0.0339\n",
            "Epoch 77/100\n",
            "32/32 [==============================] - 0s 9ms/step - loss: 0.0013 - mean_squared_error: 0.0013 - mean_absolute_error: 0.0272 - val_loss: 0.0018 - val_mean_squared_error: 0.0018 - val_mean_absolute_error: 0.0337\n",
            "Epoch 78/100\n",
            "32/32 [==============================] - 0s 9ms/step - loss: 0.0012 - mean_squared_error: 0.0012 - mean_absolute_error: 0.0253 - val_loss: 0.0018 - val_mean_squared_error: 0.0018 - val_mean_absolute_error: 0.0342\n",
            "Epoch 79/100\n",
            "32/32 [==============================] - 0s 8ms/step - loss: 0.0012 - mean_squared_error: 0.0012 - mean_absolute_error: 0.0254 - val_loss: 0.0018 - val_mean_squared_error: 0.0018 - val_mean_absolute_error: 0.0339\n",
            "Epoch 80/100\n",
            "32/32 [==============================] - 0s 10ms/step - loss: 0.0012 - mean_squared_error: 0.0012 - mean_absolute_error: 0.0255 - val_loss: 0.0019 - val_mean_squared_error: 0.0019 - val_mean_absolute_error: 0.0344\n",
            "Epoch 81/100\n",
            "32/32 [==============================] - 0s 10ms/step - loss: 0.0015 - mean_squared_error: 0.0015 - mean_absolute_error: 0.0273 - val_loss: 0.0018 - val_mean_squared_error: 0.0018 - val_mean_absolute_error: 0.0347\n",
            "Epoch 82/100\n",
            "32/32 [==============================] - 0s 9ms/step - loss: 0.0014 - mean_squared_error: 0.0014 - mean_absolute_error: 0.0284 - val_loss: 0.0018 - val_mean_squared_error: 0.0018 - val_mean_absolute_error: 0.0334\n",
            "Epoch 83/100\n",
            "32/32 [==============================] - 0s 11ms/step - loss: 0.0014 - mean_squared_error: 0.0014 - mean_absolute_error: 0.0272 - val_loss: 0.0017 - val_mean_squared_error: 0.0017 - val_mean_absolute_error: 0.0330\n",
            "Epoch 84/100\n",
            "32/32 [==============================] - 0s 9ms/step - loss: 0.0013 - mean_squared_error: 0.0013 - mean_absolute_error: 0.0267 - val_loss: 0.0018 - val_mean_squared_error: 0.0018 - val_mean_absolute_error: 0.0334\n",
            "Epoch 85/100\n",
            "32/32 [==============================] - 0s 9ms/step - loss: 0.0011 - mean_squared_error: 0.0011 - mean_absolute_error: 0.0250 - val_loss: 0.0017 - val_mean_squared_error: 0.0017 - val_mean_absolute_error: 0.0333\n",
            "Epoch 86/100\n",
            "32/32 [==============================] - 0s 10ms/step - loss: 0.0012 - mean_squared_error: 0.0012 - mean_absolute_error: 0.0246 - val_loss: 0.0017 - val_mean_squared_error: 0.0017 - val_mean_absolute_error: 0.0329\n",
            "Epoch 87/100\n",
            "32/32 [==============================] - 0s 9ms/step - loss: 0.0012 - mean_squared_error: 0.0012 - mean_absolute_error: 0.0257 - val_loss: 0.0017 - val_mean_squared_error: 0.0017 - val_mean_absolute_error: 0.0328\n",
            "Epoch 88/100\n",
            "32/32 [==============================] - 0s 9ms/step - loss: 0.0012 - mean_squared_error: 0.0012 - mean_absolute_error: 0.0254 - val_loss: 0.0018 - val_mean_squared_error: 0.0018 - val_mean_absolute_error: 0.0335\n",
            "Epoch 89/100\n",
            "32/32 [==============================] - 0s 8ms/step - loss: 0.0012 - mean_squared_error: 0.0012 - mean_absolute_error: 0.0264 - val_loss: 0.0017 - val_mean_squared_error: 0.0017 - val_mean_absolute_error: 0.0327\n",
            "Epoch 90/100\n",
            "32/32 [==============================] - 0s 10ms/step - loss: 0.0012 - mean_squared_error: 0.0012 - mean_absolute_error: 0.0249 - val_loss: 0.0017 - val_mean_squared_error: 0.0017 - val_mean_absolute_error: 0.0324\n",
            "Epoch 91/100\n",
            "32/32 [==============================] - 0s 9ms/step - loss: 0.0011 - mean_squared_error: 0.0011 - mean_absolute_error: 0.0246 - val_loss: 0.0017 - val_mean_squared_error: 0.0017 - val_mean_absolute_error: 0.0323\n",
            "Epoch 92/100\n",
            "32/32 [==============================] - 0s 10ms/step - loss: 0.0011 - mean_squared_error: 0.0011 - mean_absolute_error: 0.0252 - val_loss: 0.0016 - val_mean_squared_error: 0.0016 - val_mean_absolute_error: 0.0323\n",
            "Epoch 93/100\n",
            "32/32 [==============================] - 0s 9ms/step - loss: 0.0011 - mean_squared_error: 0.0011 - mean_absolute_error: 0.0247 - val_loss: 0.0016 - val_mean_squared_error: 0.0016 - val_mean_absolute_error: 0.0322\n",
            "Epoch 94/100\n",
            "32/32 [==============================] - 0s 9ms/step - loss: 0.0012 - mean_squared_error: 0.0012 - mean_absolute_error: 0.0252 - val_loss: 0.0016 - val_mean_squared_error: 0.0016 - val_mean_absolute_error: 0.0321\n",
            "Epoch 95/100\n",
            "32/32 [==============================] - 0s 9ms/step - loss: 0.0010 - mean_squared_error: 0.0010 - mean_absolute_error: 0.0235 - val_loss: 0.0016 - val_mean_squared_error: 0.0016 - val_mean_absolute_error: 0.0321\n",
            "Epoch 96/100\n",
            "32/32 [==============================] - 0s 10ms/step - loss: 0.0012 - mean_squared_error: 0.0012 - mean_absolute_error: 0.0258 - val_loss: 0.0016 - val_mean_squared_error: 0.0016 - val_mean_absolute_error: 0.0321\n",
            "Epoch 97/100\n",
            "32/32 [==============================] - 0s 8ms/step - loss: 0.0012 - mean_squared_error: 0.0012 - mean_absolute_error: 0.0258 - val_loss: 0.0016 - val_mean_squared_error: 0.0016 - val_mean_absolute_error: 0.0321\n",
            "Epoch 98/100\n",
            "32/32 [==============================] - 0s 9ms/step - loss: 0.0012 - mean_squared_error: 0.0012 - mean_absolute_error: 0.0257 - val_loss: 0.0020 - val_mean_squared_error: 0.0020 - val_mean_absolute_error: 0.0351\n",
            "Epoch 99/100\n",
            "32/32 [==============================] - 0s 9ms/step - loss: 0.0013 - mean_squared_error: 0.0013 - mean_absolute_error: 0.0270 - val_loss: 0.0017 - val_mean_squared_error: 0.0017 - val_mean_absolute_error: 0.0320\n",
            "Epoch 100/100\n",
            "32/32 [==============================] - 0s 8ms/step - loss: 0.0013 - mean_squared_error: 0.0013 - mean_absolute_error: 0.0256 - val_loss: 0.0016 - val_mean_squared_error: 0.0016 - val_mean_absolute_error: 0.0316\n"
          ]
        },
        {
          "output_type": "display_data",
          "data": {
            "text/plain": [
              "<IPython.core.display.HTML object>"
            ],
            "text/html": [
              "<br/>Waiting for W&B process to finish, PID 4787<br/>Program ended successfully."
            ]
          },
          "metadata": {
            "tags": []
          }
        },
        {
          "output_type": "display_data",
          "data": {
            "text/plain": [
              "VBox(children=(Label(value=' 1.36MB of 1.36MB uploaded (0.00MB deduped)\\r'), FloatProgress(value=1.0, max=1.0)…"
            ],
            "application/vnd.jupyter.widget-view+json": {
              "model_id": "23193067a233489ebb683c349f11ab6b",
              "version_minor": 0,
              "version_major": 2
            }
          },
          "metadata": {
            "tags": []
          }
        },
        {
          "output_type": "display_data",
          "data": {
            "text/plain": [
              "<IPython.core.display.HTML object>"
            ],
            "text/html": [
              "Find user logs for this run at: <code>/content/feeder_repo/wandb/run-20210713_143413-ksl8wi1j/logs/debug.log</code>"
            ]
          },
          "metadata": {
            "tags": []
          }
        },
        {
          "output_type": "display_data",
          "data": {
            "text/plain": [
              "<IPython.core.display.HTML object>"
            ],
            "text/html": [
              "Find internal logs for this run at: <code>/content/feeder_repo/wandb/run-20210713_143413-ksl8wi1j/logs/debug-internal.log</code>"
            ]
          },
          "metadata": {
            "tags": []
          }
        },
        {
          "output_type": "display_data",
          "data": {
            "text/plain": [
              "<IPython.core.display.HTML object>"
            ],
            "text/html": [
              "<h3>Run summary:</h3><br/><style>\n",
              "    table.wandb td:nth-child(1) { padding: 0 10px; text-align: right }\n",
              "    </style><table class=\"wandb\">\n",
              "<tr><td>epoch</td><td>99</td></tr><tr><td>loss</td><td>0.00127</td></tr><tr><td>mean_squared_error</td><td>0.00127</td></tr><tr><td>mean_absolute_error</td><td>0.02588</td></tr><tr><td>val_loss</td><td>0.00156</td></tr><tr><td>val_mean_squared_error</td><td>0.00156</td></tr><tr><td>val_mean_absolute_error</td><td>0.0316</td></tr><tr><td>_runtime</td><td>41</td></tr><tr><td>_timestamp</td><td>1626186894</td></tr><tr><td>_step</td><td>99</td></tr><tr><td>best_val_loss</td><td>0.00156</td></tr><tr><td>best_epoch</td><td>99</td></tr></table>"
            ]
          },
          "metadata": {
            "tags": []
          }
        },
        {
          "output_type": "display_data",
          "data": {
            "text/plain": [
              "<IPython.core.display.HTML object>"
            ],
            "text/html": [
              "<h3>Run history:</h3><br/><style>\n",
              "    table.wandb td:nth-child(1) { padding: 0 10px; text-align: right }\n",
              "    </style><table class=\"wandb\">\n",
              "<tr><td>epoch</td><td>▁▁▁▁▂▂▂▂▂▃▃▃▃▃▃▄▄▄▄▄▅▅▅▅▅▅▆▆▆▆▆▇▇▇▇▇▇███</td></tr><tr><td>loss</td><td>█▁▁▁▁▁▁▁▁▁▁▁▁▁▁▁▁▁▁▁▁▁▁▁▁▁▁▁▁▁▁▁▁▁▁▁▁▁▁▁</td></tr><tr><td>mean_squared_error</td><td>█▁▁▁▁▁▁▁▁▁▁▁▁▁▁▁▁▁▁▁▁▁▁▁▁▁▁▁▁▁▁▁▁▁▁▁▁▁▁▁</td></tr><tr><td>mean_absolute_error</td><td>█▂▂▂▂▁▁▁▁▁▁▁▁▁▁▁▁▁▁▁▁▁▁▁▁▁▁▁▁▁▁▁▁▁▁▁▁▁▁▁</td></tr><tr><td>val_loss</td><td>█▃▃▃▂▃▂▂▂▂▂▂▃▂▂▂▂▂▂▂▂▂▂▂▂▂▁▁▁▁▁▁▁▁▁▁▁▁▁▁</td></tr><tr><td>val_mean_squared_error</td><td>█▃▃▃▂▃▂▂▂▂▂▂▃▂▂▂▂▂▂▂▂▂▂▂▂▂▁▁▁▁▁▁▁▁▁▁▁▁▁▁</td></tr><tr><td>val_mean_absolute_error</td><td>█▃▃▃▃▄▃▃▃▃▃▃▃▂▂▂▂▂▂▂▃▂▂▂▂▂▂▂▂▁▁▁▁▁▁▁▁▁▁▁</td></tr><tr><td>_runtime</td><td>▁▁▁▂▂▂▂▂▃▃▃▃▃▃▃▄▄▄▄▄▅▅▅▅▅▅▆▆▆▆▆▆▇▇▇▇▇███</td></tr><tr><td>_timestamp</td><td>▁▁▁▂▂▂▂▂▃▃▃▃▃▃▃▄▄▄▄▄▅▅▅▅▅▅▆▆▆▆▆▆▇▇▇▇▇███</td></tr><tr><td>_step</td><td>▁▁▁▁▂▂▂▂▂▃▃▃▃▃▃▄▄▄▄▄▅▅▅▅▅▅▆▆▆▆▆▇▇▇▇▇▇███</td></tr></table><br/>"
            ]
          },
          "metadata": {
            "tags": []
          }
        },
        {
          "output_type": "display_data",
          "data": {
            "text/plain": [
              "<IPython.core.display.HTML object>"
            ],
            "text/html": [
              "Synced 5 W&B file(s), 1 media file(s), 2 artifact file(s) and 2 other file(s)"
            ]
          },
          "metadata": {
            "tags": []
          }
        },
        {
          "output_type": "display_data",
          "data": {
            "text/plain": [
              "<IPython.core.display.HTML object>"
            ],
            "text/html": [
              "\n",
              "                    <br/>Synced <strong style=\"color:#cdcd00\">warm-sweep-18</strong>: <a href=\"https://wandb.ai/acse-jaq15/ACSE_9_GRU/runs/ksl8wi1j\" target=\"_blank\">https://wandb.ai/acse-jaq15/ACSE_9_GRU/runs/ksl8wi1j</a><br/>\n",
              "                "
            ]
          },
          "metadata": {
            "tags": []
          }
        },
        {
          "output_type": "stream",
          "name": "stderr",
          "text": [
            "\u001b[34m\u001b[1mwandb\u001b[0m: Agent Starting Run: nbq9a25c with config:\n",
            "\u001b[34m\u001b[1mwandb\u001b[0m: \tactivation: tanh\n",
            "\u001b[34m\u001b[1mwandb\u001b[0m: \tbatch_size: 64\n",
            "\u001b[34m\u001b[1mwandb\u001b[0m: \tdropout: 0.4\n",
            "\u001b[34m\u001b[1mwandb\u001b[0m: \tepochs: 200\n",
            "\u001b[34m\u001b[1mwandb\u001b[0m: \thidden_size: 50\n",
            "\u001b[34m\u001b[1mwandb\u001b[0m: \tinput_size: 25\n",
            "\u001b[34m\u001b[1mwandb\u001b[0m: \tlearning_rate: 0.0005\n",
            "\u001b[34m\u001b[1mwandb\u001b[0m: \toptimizer: nadam\n"
          ]
        },
        {
          "output_type": "display_data",
          "data": {
            "text/plain": [
              "<IPython.core.display.HTML object>"
            ],
            "text/html": [
              "\n",
              "                Tracking run with wandb version 0.10.33<br/>\n",
              "                Syncing run <strong style=\"color:#cdcd00\">summer-sweep-19</strong> to <a href=\"https://wandb.ai\" target=\"_blank\">Weights & Biases</a> <a href=\"https://docs.wandb.com/integrations/jupyter.html\" target=\"_blank\">(Documentation)</a>.<br/>\n",
              "                Project page: <a href=\"https://wandb.ai/acse-jaq15/ACSE_9_GRU\" target=\"_blank\">https://wandb.ai/acse-jaq15/ACSE_9_GRU</a><br/>\n",
              "                Sweep page: <a href=\"https://wandb.ai/acse-jaq15/ACSE_9_GRU/sweeps/znsj9bl4\" target=\"_blank\">https://wandb.ai/acse-jaq15/ACSE_9_GRU/sweeps/znsj9bl4</a><br/>\n",
              "Run page: <a href=\"https://wandb.ai/acse-jaq15/ACSE_9_GRU/runs/nbq9a25c\" target=\"_blank\">https://wandb.ai/acse-jaq15/ACSE_9_GRU/runs/nbq9a25c</a><br/>\n",
              "                Run data is saved locally in <code>/content/feeder_repo/wandb/run-20210713_143506-nbq9a25c</code><br/><br/>\n",
              "            "
            ]
          },
          "metadata": {
            "tags": []
          }
        },
        {
          "output_type": "stream",
          "name": "stdout",
          "text": [
            "Epoch 1/200\n",
            "16/16 [==============================] - 4s 64ms/step - loss: 0.1589 - mean_squared_error: 0.1589 - mean_absolute_error: 0.3231 - val_loss: 0.0190 - val_mean_squared_error: 0.0190 - val_mean_absolute_error: 0.1054\n",
            "Epoch 2/200\n",
            "16/16 [==============================] - 0s 12ms/step - loss: 0.0265 - mean_squared_error: 0.0265 - mean_absolute_error: 0.1272 - val_loss: 0.0087 - val_mean_squared_error: 0.0087 - val_mean_absolute_error: 0.0785\n",
            "Epoch 3/200\n",
            "16/16 [==============================] - 0s 12ms/step - loss: 0.0180 - mean_squared_error: 0.0180 - mean_absolute_error: 0.1064 - val_loss: 0.0060 - val_mean_squared_error: 0.0060 - val_mean_absolute_error: 0.0632\n",
            "Epoch 4/200\n",
            "16/16 [==============================] - 0s 11ms/step - loss: 0.0129 - mean_squared_error: 0.0129 - mean_absolute_error: 0.0883 - val_loss: 0.0042 - val_mean_squared_error: 0.0042 - val_mean_absolute_error: 0.0525\n",
            "Epoch 5/200\n",
            "16/16 [==============================] - 0s 12ms/step - loss: 0.0123 - mean_squared_error: 0.0123 - mean_absolute_error: 0.0824 - val_loss: 0.0033 - val_mean_squared_error: 0.0033 - val_mean_absolute_error: 0.0465\n",
            "Epoch 6/200\n",
            "16/16 [==============================] - 0s 13ms/step - loss: 0.0102 - mean_squared_error: 0.0102 - mean_absolute_error: 0.0707 - val_loss: 0.0030 - val_mean_squared_error: 0.0030 - val_mean_absolute_error: 0.0440\n",
            "Epoch 7/200\n",
            "16/16 [==============================] - 0s 12ms/step - loss: 0.0101 - mean_squared_error: 0.0101 - mean_absolute_error: 0.0722 - val_loss: 0.0029 - val_mean_squared_error: 0.0029 - val_mean_absolute_error: 0.0435\n",
            "Epoch 8/200\n",
            "16/16 [==============================] - 0s 13ms/step - loss: 0.0115 - mean_squared_error: 0.0115 - mean_absolute_error: 0.0751 - val_loss: 0.0029 - val_mean_squared_error: 0.0029 - val_mean_absolute_error: 0.0434\n",
            "Epoch 9/200\n",
            "16/16 [==============================] - 0s 17ms/step - loss: 0.0081 - mean_squared_error: 0.0081 - mean_absolute_error: 0.0648 - val_loss: 0.0029 - val_mean_squared_error: 0.0029 - val_mean_absolute_error: 0.0431\n",
            "Epoch 10/200\n",
            "16/16 [==============================] - 0s 11ms/step - loss: 0.0099 - mean_squared_error: 0.0099 - mean_absolute_error: 0.0707 - val_loss: 0.0030 - val_mean_squared_error: 0.0030 - val_mean_absolute_error: 0.0436\n",
            "Epoch 11/200\n",
            "16/16 [==============================] - 0s 11ms/step - loss: 0.0102 - mean_squared_error: 0.0102 - mean_absolute_error: 0.0733 - val_loss: 0.0029 - val_mean_squared_error: 0.0029 - val_mean_absolute_error: 0.0434\n",
            "Epoch 12/200\n",
            "16/16 [==============================] - 0s 12ms/step - loss: 0.0079 - mean_squared_error: 0.0079 - mean_absolute_error: 0.0628 - val_loss: 0.0029 - val_mean_squared_error: 0.0029 - val_mean_absolute_error: 0.0436\n",
            "Epoch 13/200\n",
            "16/16 [==============================] - 0s 12ms/step - loss: 0.0097 - mean_squared_error: 0.0097 - mean_absolute_error: 0.0714 - val_loss: 0.0029 - val_mean_squared_error: 0.0029 - val_mean_absolute_error: 0.0434\n",
            "Epoch 14/200\n",
            "16/16 [==============================] - 0s 12ms/step - loss: 0.0078 - mean_squared_error: 0.0078 - mean_absolute_error: 0.0631 - val_loss: 0.0029 - val_mean_squared_error: 0.0029 - val_mean_absolute_error: 0.0433\n",
            "Epoch 15/200\n",
            "16/16 [==============================] - 0s 11ms/step - loss: 0.0089 - mean_squared_error: 0.0089 - mean_absolute_error: 0.0659 - val_loss: 0.0029 - val_mean_squared_error: 0.0029 - val_mean_absolute_error: 0.0435\n",
            "Epoch 16/200\n",
            "16/16 [==============================] - 0s 11ms/step - loss: 0.0074 - mean_squared_error: 0.0074 - mean_absolute_error: 0.0606 - val_loss: 0.0030 - val_mean_squared_error: 0.0030 - val_mean_absolute_error: 0.0435\n",
            "Epoch 17/200\n",
            "16/16 [==============================] - 0s 13ms/step - loss: 0.0086 - mean_squared_error: 0.0086 - mean_absolute_error: 0.0635 - val_loss: 0.0029 - val_mean_squared_error: 0.0029 - val_mean_absolute_error: 0.0431\n",
            "Epoch 18/200\n",
            "16/16 [==============================] - 0s 11ms/step - loss: 0.0077 - mean_squared_error: 0.0077 - mean_absolute_error: 0.0647 - val_loss: 0.0029 - val_mean_squared_error: 0.0029 - val_mean_absolute_error: 0.0436\n",
            "Epoch 19/200\n",
            "16/16 [==============================] - 0s 12ms/step - loss: 0.0074 - mean_squared_error: 0.0074 - mean_absolute_error: 0.0623 - val_loss: 0.0029 - val_mean_squared_error: 0.0029 - val_mean_absolute_error: 0.0432\n",
            "Epoch 20/200\n",
            "16/16 [==============================] - 0s 11ms/step - loss: 0.0065 - mean_squared_error: 0.0065 - mean_absolute_error: 0.0587 - val_loss: 0.0029 - val_mean_squared_error: 0.0029 - val_mean_absolute_error: 0.0435\n",
            "Epoch 21/200\n",
            "16/16 [==============================] - 0s 11ms/step - loss: 0.0067 - mean_squared_error: 0.0067 - mean_absolute_error: 0.0585 - val_loss: 0.0030 - val_mean_squared_error: 0.0030 - val_mean_absolute_error: 0.0437\n",
            "Epoch 22/200\n",
            "16/16 [==============================] - 0s 11ms/step - loss: 0.0066 - mean_squared_error: 0.0066 - mean_absolute_error: 0.0579 - val_loss: 0.0029 - val_mean_squared_error: 0.0029 - val_mean_absolute_error: 0.0435\n",
            "Epoch 23/200\n",
            "16/16 [==============================] - 0s 12ms/step - loss: 0.0066 - mean_squared_error: 0.0066 - mean_absolute_error: 0.0583 - val_loss: 0.0029 - val_mean_squared_error: 0.0029 - val_mean_absolute_error: 0.0436\n",
            "Epoch 24/200\n",
            "16/16 [==============================] - 0s 14ms/step - loss: 0.0056 - mean_squared_error: 0.0056 - mean_absolute_error: 0.0535 - val_loss: 0.0030 - val_mean_squared_error: 0.0030 - val_mean_absolute_error: 0.0438\n",
            "Epoch 25/200\n",
            "16/16 [==============================] - 0s 11ms/step - loss: 0.0071 - mean_squared_error: 0.0071 - mean_absolute_error: 0.0585 - val_loss: 0.0030 - val_mean_squared_error: 0.0030 - val_mean_absolute_error: 0.0439\n",
            "Epoch 26/200\n",
            "16/16 [==============================] - 0s 12ms/step - loss: 0.0054 - mean_squared_error: 0.0054 - mean_absolute_error: 0.0519 - val_loss: 0.0030 - val_mean_squared_error: 0.0030 - val_mean_absolute_error: 0.0439\n",
            "Epoch 27/200\n",
            "16/16 [==============================] - 0s 12ms/step - loss: 0.0062 - mean_squared_error: 0.0062 - mean_absolute_error: 0.0557 - val_loss: 0.0030 - val_mean_squared_error: 0.0030 - val_mean_absolute_error: 0.0441\n"
          ]
        },
        {
          "output_type": "display_data",
          "data": {
            "text/plain": [
              "<IPython.core.display.HTML object>"
            ],
            "text/html": [
              "<br/>Waiting for W&B process to finish, PID 5152<br/>Program ended successfully."
            ]
          },
          "metadata": {
            "tags": []
          }
        },
        {
          "output_type": "display_data",
          "data": {
            "text/plain": [
              "VBox(children=(Label(value=' 0.92MB of 0.92MB uploaded (0.00MB deduped)\\r'), FloatProgress(value=1.0, max=1.0)…"
            ],
            "application/vnd.jupyter.widget-view+json": {
              "model_id": "ebdcc4a762d246119de87fa4f53e09ed",
              "version_minor": 0,
              "version_major": 2
            }
          },
          "metadata": {
            "tags": []
          }
        },
        {
          "output_type": "display_data",
          "data": {
            "text/plain": [
              "<IPython.core.display.HTML object>"
            ],
            "text/html": [
              "Find user logs for this run at: <code>/content/feeder_repo/wandb/run-20210713_143506-nbq9a25c/logs/debug.log</code>"
            ]
          },
          "metadata": {
            "tags": []
          }
        },
        {
          "output_type": "display_data",
          "data": {
            "text/plain": [
              "<IPython.core.display.HTML object>"
            ],
            "text/html": [
              "Find internal logs for this run at: <code>/content/feeder_repo/wandb/run-20210713_143506-nbq9a25c/logs/debug-internal.log</code>"
            ]
          },
          "metadata": {
            "tags": []
          }
        },
        {
          "output_type": "display_data",
          "data": {
            "text/plain": [
              "<IPython.core.display.HTML object>"
            ],
            "text/html": [
              "<h3>Run summary:</h3><br/><style>\n",
              "    table.wandb td:nth-child(1) { padding: 0 10px; text-align: right }\n",
              "    </style><table class=\"wandb\">\n",
              "<tr><td>epoch</td><td>26</td></tr><tr><td>loss</td><td>0.00624</td></tr><tr><td>mean_squared_error</td><td>0.00624</td></tr><tr><td>mean_absolute_error</td><td>0.05609</td></tr><tr><td>val_loss</td><td>0.00302</td></tr><tr><td>val_mean_squared_error</td><td>0.00302</td></tr><tr><td>val_mean_absolute_error</td><td>0.04407</td></tr><tr><td>_runtime</td><td>16</td></tr><tr><td>_timestamp</td><td>1626186922</td></tr><tr><td>_step</td><td>26</td></tr><tr><td>best_val_loss</td><td>0.00287</td></tr><tr><td>best_epoch</td><td>16</td></tr></table>"
            ]
          },
          "metadata": {
            "tags": []
          }
        },
        {
          "output_type": "display_data",
          "data": {
            "text/plain": [
              "<IPython.core.display.HTML object>"
            ],
            "text/html": [
              "<h3>Run history:</h3><br/><style>\n",
              "    table.wandb td:nth-child(1) { padding: 0 10px; text-align: right }\n",
              "    </style><table class=\"wandb\">\n",
              "<tr><td>epoch</td><td>▁▁▂▂▂▂▃▃▃▃▄▄▄▅▅▅▅▆▆▆▆▇▇▇▇██</td></tr><tr><td>loss</td><td>█▂▂▁▁▁▁▁▁▁▁▁▁▁▁▁▁▁▁▁▁▁▁▁▁▁▁</td></tr><tr><td>mean_squared_error</td><td>█▂▂▁▁▁▁▁▁▁▁▁▁▁▁▁▁▁▁▁▁▁▁▁▁▁▁</td></tr><tr><td>mean_absolute_error</td><td>█▃▃▂▂▂▂▂▁▁▂▁▂▁▁▁▁▁▁▁▁▁▁▁▁▁▁</td></tr><tr><td>val_loss</td><td>█▄▂▂▁▁▁▁▁▁▁▁▁▁▁▁▁▁▁▁▁▁▁▁▁▁▁</td></tr><tr><td>val_mean_squared_error</td><td>█▄▂▂▁▁▁▁▁▁▁▁▁▁▁▁▁▁▁▁▁▁▁▁▁▁▁</td></tr><tr><td>val_mean_absolute_error</td><td>█▅▃▂▁▁▁▁▁▁▁▁▁▁▁▁▁▁▁▁▁▁▁▁▁▁▁</td></tr><tr><td>_runtime</td><td>▁▁▁▂▂▂▂▂▃▃▃▅▅▅▅▅▆▆▆▆▆▇▇▇▇██</td></tr><tr><td>_timestamp</td><td>▁▁▁▂▂▂▂▂▃▃▃▅▅▅▅▅▆▆▆▆▆▇▇▇▇██</td></tr><tr><td>_step</td><td>▁▁▂▂▂▂▃▃▃▃▄▄▄▅▅▅▅▆▆▆▆▇▇▇▇██</td></tr></table><br/>"
            ]
          },
          "metadata": {
            "tags": []
          }
        },
        {
          "output_type": "display_data",
          "data": {
            "text/plain": [
              "<IPython.core.display.HTML object>"
            ],
            "text/html": [
              "Synced 5 W&B file(s), 1 media file(s), 2 artifact file(s) and 2 other file(s)"
            ]
          },
          "metadata": {
            "tags": []
          }
        },
        {
          "output_type": "display_data",
          "data": {
            "text/plain": [
              "<IPython.core.display.HTML object>"
            ],
            "text/html": [
              "\n",
              "                    <br/>Synced <strong style=\"color:#cdcd00\">summer-sweep-19</strong>: <a href=\"https://wandb.ai/acse-jaq15/ACSE_9_GRU/runs/nbq9a25c\" target=\"_blank\">https://wandb.ai/acse-jaq15/ACSE_9_GRU/runs/nbq9a25c</a><br/>\n",
              "                "
            ]
          },
          "metadata": {
            "tags": []
          }
        },
        {
          "output_type": "stream",
          "name": "stderr",
          "text": [
            "\u001b[34m\u001b[1mwandb\u001b[0m: Agent Starting Run: pfn6h7jz with config:\n",
            "\u001b[34m\u001b[1mwandb\u001b[0m: \tactivation: selu\n",
            "\u001b[34m\u001b[1mwandb\u001b[0m: \tbatch_size: 128\n",
            "\u001b[34m\u001b[1mwandb\u001b[0m: \tdropout: 0.4\n",
            "\u001b[34m\u001b[1mwandb\u001b[0m: \tepochs: 200\n",
            "\u001b[34m\u001b[1mwandb\u001b[0m: \thidden_size: 100\n",
            "\u001b[34m\u001b[1mwandb\u001b[0m: \tinput_size: 50\n",
            "\u001b[34m\u001b[1mwandb\u001b[0m: \tlearning_rate: 0.001\n",
            "\u001b[34m\u001b[1mwandb\u001b[0m: \toptimizer: sgd\n"
          ]
        },
        {
          "output_type": "display_data",
          "data": {
            "text/plain": [
              "<IPython.core.display.HTML object>"
            ],
            "text/html": [
              "\n",
              "                Tracking run with wandb version 0.10.33<br/>\n",
              "                Syncing run <strong style=\"color:#cdcd00\">fiery-sweep-20</strong> to <a href=\"https://wandb.ai\" target=\"_blank\">Weights & Biases</a> <a href=\"https://docs.wandb.com/integrations/jupyter.html\" target=\"_blank\">(Documentation)</a>.<br/>\n",
              "                Project page: <a href=\"https://wandb.ai/acse-jaq15/ACSE_9_GRU\" target=\"_blank\">https://wandb.ai/acse-jaq15/ACSE_9_GRU</a><br/>\n",
              "                Sweep page: <a href=\"https://wandb.ai/acse-jaq15/ACSE_9_GRU/sweeps/znsj9bl4\" target=\"_blank\">https://wandb.ai/acse-jaq15/ACSE_9_GRU/sweeps/znsj9bl4</a><br/>\n",
              "Run page: <a href=\"https://wandb.ai/acse-jaq15/ACSE_9_GRU/runs/pfn6h7jz\" target=\"_blank\">https://wandb.ai/acse-jaq15/ACSE_9_GRU/runs/pfn6h7jz</a><br/>\n",
              "                Run data is saved locally in <code>/content/feeder_repo/wandb/run-20210713_143535-pfn6h7jz</code><br/><br/>\n",
              "            "
            ]
          },
          "metadata": {
            "tags": []
          }
        },
        {
          "output_type": "stream",
          "name": "stdout",
          "text": [
            "WARNING:tensorflow:Layer gru will not use cuDNN kernels since it doesn't meet the criteria. It will use a generic GPU kernel as fallback when running on GPU.\n",
            "Epoch 1/200\n",
            "8/8 [==============================] - 5s 213ms/step - loss: 0.3331 - mean_squared_error: 0.3331 - mean_absolute_error: 0.4784 - val_loss: 0.0987 - val_mean_squared_error: 0.0987 - val_mean_absolute_error: 0.2365\n",
            "Epoch 2/200\n",
            "8/8 [==============================] - 1s 81ms/step - loss: 0.1216 - mean_squared_error: 0.1216 - mean_absolute_error: 0.2774 - val_loss: 0.0427 - val_mean_squared_error: 0.0427 - val_mean_absolute_error: 0.1829\n",
            "Epoch 3/200\n",
            "8/8 [==============================] - 1s 80ms/step - loss: 0.0606 - mean_squared_error: 0.0606 - mean_absolute_error: 0.2089 - val_loss: 0.0549 - val_mean_squared_error: 0.0549 - val_mean_absolute_error: 0.2095\n",
            "Epoch 4/200\n",
            "8/8 [==============================] - 1s 77ms/step - loss: 0.0612 - mean_squared_error: 0.0612 - mean_absolute_error: 0.2087 - val_loss: 0.0391 - val_mean_squared_error: 0.0391 - val_mean_absolute_error: 0.1777\n",
            "Epoch 5/200\n",
            "8/8 [==============================] - 1s 82ms/step - loss: 0.0437 - mean_squared_error: 0.0437 - mean_absolute_error: 0.1770 - val_loss: 0.0263 - val_mean_squared_error: 0.0263 - val_mean_absolute_error: 0.1409\n",
            "Epoch 6/200\n",
            "8/8 [==============================] - 1s 78ms/step - loss: 0.0394 - mean_squared_error: 0.0394 - mean_absolute_error: 0.1676 - val_loss: 0.0213 - val_mean_squared_error: 0.0213 - val_mean_absolute_error: 0.1216\n",
            "Epoch 7/200\n",
            "8/8 [==============================] - 1s 70ms/step - loss: 0.0324 - mean_squared_error: 0.0324 - mean_absolute_error: 0.1511 - val_loss: 0.0181 - val_mean_squared_error: 0.0181 - val_mean_absolute_error: 0.1116\n",
            "Epoch 8/200\n",
            "8/8 [==============================] - 1s 86ms/step - loss: 0.0293 - mean_squared_error: 0.0293 - mean_absolute_error: 0.1414 - val_loss: 0.0156 - val_mean_squared_error: 0.0156 - val_mean_absolute_error: 0.1044\n",
            "Epoch 9/200\n",
            "8/8 [==============================] - 1s 83ms/step - loss: 0.0256 - mean_squared_error: 0.0256 - mean_absolute_error: 0.1324 - val_loss: 0.0135 - val_mean_squared_error: 0.0135 - val_mean_absolute_error: 0.0981\n",
            "Epoch 10/200\n",
            "8/8 [==============================] - 1s 83ms/step - loss: 0.0222 - mean_squared_error: 0.0222 - mean_absolute_error: 0.1243 - val_loss: 0.0117 - val_mean_squared_error: 0.0117 - val_mean_absolute_error: 0.0909\n",
            "Epoch 11/200\n",
            "8/8 [==============================] - 1s 70ms/step - loss: 0.0201 - mean_squared_error: 0.0201 - mean_absolute_error: 0.1154 - val_loss: 0.0098 - val_mean_squared_error: 0.0098 - val_mean_absolute_error: 0.0822\n",
            "Epoch 12/200\n",
            "8/8 [==============================] - 1s 77ms/step - loss: 0.0170 - mean_squared_error: 0.0170 - mean_absolute_error: 0.1067 - val_loss: 0.0081 - val_mean_squared_error: 0.0081 - val_mean_absolute_error: 0.0730\n",
            "Epoch 13/200\n",
            "8/8 [==============================] - 1s 75ms/step - loss: 0.0139 - mean_squared_error: 0.0139 - mean_absolute_error: 0.0950 - val_loss: 0.0071 - val_mean_squared_error: 0.0071 - val_mean_absolute_error: 0.0678\n",
            "Epoch 14/200\n",
            "8/8 [==============================] - 1s 80ms/step - loss: 0.0139 - mean_squared_error: 0.0139 - mean_absolute_error: 0.0931 - val_loss: 0.0063 - val_mean_squared_error: 0.0063 - val_mean_absolute_error: 0.0645\n",
            "Epoch 15/200\n",
            "8/8 [==============================] - 1s 70ms/step - loss: 0.0134 - mean_squared_error: 0.0134 - mean_absolute_error: 0.0923 - val_loss: 0.0056 - val_mean_squared_error: 0.0056 - val_mean_absolute_error: 0.0611\n",
            "Epoch 16/200\n",
            "8/8 [==============================] - 1s 75ms/step - loss: 0.0126 - mean_squared_error: 0.0126 - mean_absolute_error: 0.0874 - val_loss: 0.0050 - val_mean_squared_error: 0.0050 - val_mean_absolute_error: 0.0580\n",
            "Epoch 17/200\n",
            "8/8 [==============================] - 1s 81ms/step - loss: 0.0116 - mean_squared_error: 0.0116 - mean_absolute_error: 0.0820 - val_loss: 0.0045 - val_mean_squared_error: 0.0045 - val_mean_absolute_error: 0.0547\n",
            "Epoch 18/200\n",
            "8/8 [==============================] - 1s 74ms/step - loss: 0.0103 - mean_squared_error: 0.0103 - mean_absolute_error: 0.0758 - val_loss: 0.0042 - val_mean_squared_error: 0.0042 - val_mean_absolute_error: 0.0528\n",
            "Epoch 19/200\n",
            "8/8 [==============================] - 1s 80ms/step - loss: 0.0102 - mean_squared_error: 0.0102 - mean_absolute_error: 0.0752 - val_loss: 0.0040 - val_mean_squared_error: 0.0040 - val_mean_absolute_error: 0.0516\n",
            "Epoch 20/200\n",
            "8/8 [==============================] - 1s 76ms/step - loss: 0.0096 - mean_squared_error: 0.0096 - mean_absolute_error: 0.0724 - val_loss: 0.0038 - val_mean_squared_error: 0.0038 - val_mean_absolute_error: 0.0502\n",
            "Epoch 21/200\n",
            "8/8 [==============================] - 1s 75ms/step - loss: 0.0095 - mean_squared_error: 0.0095 - mean_absolute_error: 0.0727 - val_loss: 0.0036 - val_mean_squared_error: 0.0036 - val_mean_absolute_error: 0.0491\n",
            "Epoch 22/200\n",
            "8/8 [==============================] - 1s 79ms/step - loss: 0.0091 - mean_squared_error: 0.0091 - mean_absolute_error: 0.0691 - val_loss: 0.0035 - val_mean_squared_error: 0.0035 - val_mean_absolute_error: 0.0479\n",
            "Epoch 23/200\n",
            "8/8 [==============================] - 1s 77ms/step - loss: 0.0089 - mean_squared_error: 0.0089 - mean_absolute_error: 0.0670 - val_loss: 0.0033 - val_mean_squared_error: 0.0033 - val_mean_absolute_error: 0.0470\n",
            "Epoch 24/200\n",
            "8/8 [==============================] - 1s 72ms/step - loss: 0.0088 - mean_squared_error: 0.0088 - mean_absolute_error: 0.0660 - val_loss: 0.0033 - val_mean_squared_error: 0.0033 - val_mean_absolute_error: 0.0463\n",
            "Epoch 25/200\n",
            "8/8 [==============================] - 1s 85ms/step - loss: 0.0099 - mean_squared_error: 0.0099 - mean_absolute_error: 0.0700 - val_loss: 0.0032 - val_mean_squared_error: 0.0032 - val_mean_absolute_error: 0.0463\n",
            "Epoch 26/200\n",
            "8/8 [==============================] - 1s 90ms/step - loss: 0.0080 - mean_squared_error: 0.0080 - mean_absolute_error: 0.0632 - val_loss: 0.0032 - val_mean_squared_error: 0.0032 - val_mean_absolute_error: 0.0457\n",
            "Epoch 27/200\n",
            "8/8 [==============================] - 1s 78ms/step - loss: 0.0075 - mean_squared_error: 0.0075 - mean_absolute_error: 0.0620 - val_loss: 0.0031 - val_mean_squared_error: 0.0031 - val_mean_absolute_error: 0.0453\n",
            "Epoch 28/200\n",
            "8/8 [==============================] - 1s 77ms/step - loss: 0.0086 - mean_squared_error: 0.0086 - mean_absolute_error: 0.0646 - val_loss: 0.0031 - val_mean_squared_error: 0.0031 - val_mean_absolute_error: 0.0451\n",
            "Epoch 29/200\n",
            "8/8 [==============================] - 1s 83ms/step - loss: 0.0080 - mean_squared_error: 0.0080 - mean_absolute_error: 0.0629 - val_loss: 0.0031 - val_mean_squared_error: 0.0031 - val_mean_absolute_error: 0.0451\n",
            "Epoch 30/200\n",
            "8/8 [==============================] - 1s 86ms/step - loss: 0.0080 - mean_squared_error: 0.0080 - mean_absolute_error: 0.0627 - val_loss: 0.0031 - val_mean_squared_error: 0.0031 - val_mean_absolute_error: 0.0452\n",
            "Epoch 31/200\n",
            "8/8 [==============================] - 1s 78ms/step - loss: 0.0070 - mean_squared_error: 0.0070 - mean_absolute_error: 0.0615 - val_loss: 0.0031 - val_mean_squared_error: 0.0031 - val_mean_absolute_error: 0.0452\n",
            "Epoch 32/200\n",
            "8/8 [==============================] - 1s 82ms/step - loss: 0.0077 - mean_squared_error: 0.0077 - mean_absolute_error: 0.0627 - val_loss: 0.0030 - val_mean_squared_error: 0.0030 - val_mean_absolute_error: 0.0447\n",
            "Epoch 33/200\n",
            "8/8 [==============================] - 1s 75ms/step - loss: 0.0072 - mean_squared_error: 0.0072 - mean_absolute_error: 0.0610 - val_loss: 0.0030 - val_mean_squared_error: 0.0030 - val_mean_absolute_error: 0.0446\n",
            "Epoch 34/200\n",
            "8/8 [==============================] - 1s 78ms/step - loss: 0.0087 - mean_squared_error: 0.0087 - mean_absolute_error: 0.0645 - val_loss: 0.0030 - val_mean_squared_error: 0.0030 - val_mean_absolute_error: 0.0444\n",
            "Epoch 35/200\n",
            "8/8 [==============================] - 1s 95ms/step - loss: 0.0076 - mean_squared_error: 0.0076 - mean_absolute_error: 0.0630 - val_loss: 0.0030 - val_mean_squared_error: 0.0030 - val_mean_absolute_error: 0.0443\n",
            "Epoch 36/200\n",
            "8/8 [==============================] - 1s 77ms/step - loss: 0.0078 - mean_squared_error: 0.0078 - mean_absolute_error: 0.0623 - val_loss: 0.0030 - val_mean_squared_error: 0.0030 - val_mean_absolute_error: 0.0443\n",
            "Epoch 37/200\n",
            "8/8 [==============================] - 1s 74ms/step - loss: 0.0075 - mean_squared_error: 0.0075 - mean_absolute_error: 0.0621 - val_loss: 0.0030 - val_mean_squared_error: 0.0030 - val_mean_absolute_error: 0.0443\n",
            "Epoch 38/200\n",
            "8/8 [==============================] - 1s 79ms/step - loss: 0.0073 - mean_squared_error: 0.0073 - mean_absolute_error: 0.0600 - val_loss: 0.0030 - val_mean_squared_error: 0.0030 - val_mean_absolute_error: 0.0444\n",
            "Epoch 39/200\n",
            "8/8 [==============================] - 1s 82ms/step - loss: 0.0062 - mean_squared_error: 0.0062 - mean_absolute_error: 0.0562 - val_loss: 0.0030 - val_mean_squared_error: 0.0030 - val_mean_absolute_error: 0.0441\n",
            "Epoch 40/200\n",
            "8/8 [==============================] - 1s 80ms/step - loss: 0.0080 - mean_squared_error: 0.0080 - mean_absolute_error: 0.0642 - val_loss: 0.0030 - val_mean_squared_error: 0.0030 - val_mean_absolute_error: 0.0442\n",
            "Epoch 41/200\n",
            "8/8 [==============================] - 1s 78ms/step - loss: 0.0065 - mean_squared_error: 0.0065 - mean_absolute_error: 0.0586 - val_loss: 0.0030 - val_mean_squared_error: 0.0030 - val_mean_absolute_error: 0.0443\n",
            "Epoch 42/200\n",
            "8/8 [==============================] - 1s 79ms/step - loss: 0.0073 - mean_squared_error: 0.0073 - mean_absolute_error: 0.0605 - val_loss: 0.0030 - val_mean_squared_error: 0.0030 - val_mean_absolute_error: 0.0442\n",
            "Epoch 43/200\n",
            "8/8 [==============================] - 1s 82ms/step - loss: 0.0066 - mean_squared_error: 0.0066 - mean_absolute_error: 0.0573 - val_loss: 0.0030 - val_mean_squared_error: 0.0030 - val_mean_absolute_error: 0.0441\n",
            "Epoch 44/200\n",
            "8/8 [==============================] - 1s 75ms/step - loss: 0.0071 - mean_squared_error: 0.0071 - mean_absolute_error: 0.0593 - val_loss: 0.0030 - val_mean_squared_error: 0.0030 - val_mean_absolute_error: 0.0441\n",
            "Epoch 45/200\n",
            "8/8 [==============================] - 1s 85ms/step - loss: 0.0070 - mean_squared_error: 0.0070 - mean_absolute_error: 0.0595 - val_loss: 0.0030 - val_mean_squared_error: 0.0030 - val_mean_absolute_error: 0.0441\n",
            "Epoch 46/200\n",
            "8/8 [==============================] - 1s 82ms/step - loss: 0.0071 - mean_squared_error: 0.0071 - mean_absolute_error: 0.0613 - val_loss: 0.0030 - val_mean_squared_error: 0.0030 - val_mean_absolute_error: 0.0441\n",
            "Epoch 47/200\n",
            "8/8 [==============================] - 1s 79ms/step - loss: 0.0073 - mean_squared_error: 0.0073 - mean_absolute_error: 0.0605 - val_loss: 0.0030 - val_mean_squared_error: 0.0030 - val_mean_absolute_error: 0.0442\n",
            "Epoch 48/200\n",
            "8/8 [==============================] - 1s 80ms/step - loss: 0.0066 - mean_squared_error: 0.0066 - mean_absolute_error: 0.0586 - val_loss: 0.0030 - val_mean_squared_error: 0.0030 - val_mean_absolute_error: 0.0441\n",
            "Epoch 49/200\n",
            "8/8 [==============================] - 1s 78ms/step - loss: 0.0060 - mean_squared_error: 0.0060 - mean_absolute_error: 0.0548 - val_loss: 0.0030 - val_mean_squared_error: 0.0030 - val_mean_absolute_error: 0.0442\n",
            "Epoch 50/200\n",
            "8/8 [==============================] - 1s 77ms/step - loss: 0.0068 - mean_squared_error: 0.0068 - mean_absolute_error: 0.0583 - val_loss: 0.0030 - val_mean_squared_error: 0.0030 - val_mean_absolute_error: 0.0442\n",
            "Epoch 51/200\n",
            "8/8 [==============================] - 1s 81ms/step - loss: 0.0067 - mean_squared_error: 0.0067 - mean_absolute_error: 0.0587 - val_loss: 0.0030 - val_mean_squared_error: 0.0030 - val_mean_absolute_error: 0.0441\n",
            "Epoch 52/200\n",
            "8/8 [==============================] - 1s 79ms/step - loss: 0.0071 - mean_squared_error: 0.0071 - mean_absolute_error: 0.0613 - val_loss: 0.0030 - val_mean_squared_error: 0.0030 - val_mean_absolute_error: 0.0441\n",
            "Epoch 53/200\n",
            "8/8 [==============================] - 1s 76ms/step - loss: 0.0063 - mean_squared_error: 0.0063 - mean_absolute_error: 0.0579 - val_loss: 0.0030 - val_mean_squared_error: 0.0030 - val_mean_absolute_error: 0.0441\n",
            "Epoch 54/200\n",
            "8/8 [==============================] - 1s 77ms/step - loss: 0.0064 - mean_squared_error: 0.0064 - mean_absolute_error: 0.0574 - val_loss: 0.0029 - val_mean_squared_error: 0.0029 - val_mean_absolute_error: 0.0441\n",
            "Epoch 55/200\n",
            "8/8 [==============================] - 1s 79ms/step - loss: 0.0061 - mean_squared_error: 0.0061 - mean_absolute_error: 0.0554 - val_loss: 0.0030 - val_mean_squared_error: 0.0030 - val_mean_absolute_error: 0.0445\n",
            "Epoch 56/200\n",
            "8/8 [==============================] - 1s 78ms/step - loss: 0.0078 - mean_squared_error: 0.0078 - mean_absolute_error: 0.0625 - val_loss: 0.0029 - val_mean_squared_error: 0.0029 - val_mean_absolute_error: 0.0443\n",
            "Epoch 57/200\n",
            "8/8 [==============================] - 1s 76ms/step - loss: 0.0062 - mean_squared_error: 0.0062 - mean_absolute_error: 0.0573 - val_loss: 0.0029 - val_mean_squared_error: 0.0029 - val_mean_absolute_error: 0.0442\n",
            "Epoch 58/200\n",
            "8/8 [==============================] - 1s 77ms/step - loss: 0.0060 - mean_squared_error: 0.0060 - mean_absolute_error: 0.0563 - val_loss: 0.0029 - val_mean_squared_error: 0.0029 - val_mean_absolute_error: 0.0442\n",
            "Epoch 59/200\n",
            "8/8 [==============================] - 1s 75ms/step - loss: 0.0062 - mean_squared_error: 0.0062 - mean_absolute_error: 0.0582 - val_loss: 0.0030 - val_mean_squared_error: 0.0030 - val_mean_absolute_error: 0.0444\n",
            "Epoch 60/200\n",
            "8/8 [==============================] - 1s 73ms/step - loss: 0.0063 - mean_squared_error: 0.0063 - mean_absolute_error: 0.0571 - val_loss: 0.0030 - val_mean_squared_error: 0.0030 - val_mean_absolute_error: 0.0444\n",
            "Epoch 61/200\n",
            "8/8 [==============================] - 1s 76ms/step - loss: 0.0072 - mean_squared_error: 0.0072 - mean_absolute_error: 0.0617 - val_loss: 0.0030 - val_mean_squared_error: 0.0030 - val_mean_absolute_error: 0.0445\n",
            "Epoch 62/200\n",
            "8/8 [==============================] - 1s 70ms/step - loss: 0.0065 - mean_squared_error: 0.0065 - mean_absolute_error: 0.0581 - val_loss: 0.0029 - val_mean_squared_error: 0.0029 - val_mean_absolute_error: 0.0443\n",
            "Epoch 63/200\n",
            "8/8 [==============================] - 1s 77ms/step - loss: 0.0069 - mean_squared_error: 0.0069 - mean_absolute_error: 0.0601 - val_loss: 0.0029 - val_mean_squared_error: 0.0029 - val_mean_absolute_error: 0.0442\n",
            "Epoch 64/200\n",
            "8/8 [==============================] - 1s 78ms/step - loss: 0.0067 - mean_squared_error: 0.0067 - mean_absolute_error: 0.0594 - val_loss: 0.0029 - val_mean_squared_error: 0.0029 - val_mean_absolute_error: 0.0443\n",
            "Epoch 65/200\n",
            "8/8 [==============================] - 1s 78ms/step - loss: 0.0062 - mean_squared_error: 0.0062 - mean_absolute_error: 0.0567 - val_loss: 0.0029 - val_mean_squared_error: 0.0029 - val_mean_absolute_error: 0.0443\n",
            "Epoch 66/200\n",
            "8/8 [==============================] - 1s 76ms/step - loss: 0.0068 - mean_squared_error: 0.0068 - mean_absolute_error: 0.0584 - val_loss: 0.0030 - val_mean_squared_error: 0.0030 - val_mean_absolute_error: 0.0444\n",
            "Epoch 67/200\n",
            "8/8 [==============================] - 1s 77ms/step - loss: 0.0060 - mean_squared_error: 0.0060 - mean_absolute_error: 0.0564 - val_loss: 0.0029 - val_mean_squared_error: 0.0029 - val_mean_absolute_error: 0.0444\n",
            "Epoch 68/200\n",
            "8/8 [==============================] - 1s 76ms/step - loss: 0.0064 - mean_squared_error: 0.0064 - mean_absolute_error: 0.0592 - val_loss: 0.0030 - val_mean_squared_error: 0.0030 - val_mean_absolute_error: 0.0442\n",
            "Epoch 69/200\n",
            "8/8 [==============================] - 1s 75ms/step - loss: 0.0063 - mean_squared_error: 0.0063 - mean_absolute_error: 0.0586 - val_loss: 0.0030 - val_mean_squared_error: 0.0030 - val_mean_absolute_error: 0.0442\n",
            "Epoch 70/200\n",
            "8/8 [==============================] - 1s 77ms/step - loss: 0.0061 - mean_squared_error: 0.0061 - mean_absolute_error: 0.0570 - val_loss: 0.0029 - val_mean_squared_error: 0.0029 - val_mean_absolute_error: 0.0443\n",
            "Epoch 71/200\n",
            "8/8 [==============================] - 1s 76ms/step - loss: 0.0064 - mean_squared_error: 0.0064 - mean_absolute_error: 0.0583 - val_loss: 0.0029 - val_mean_squared_error: 0.0029 - val_mean_absolute_error: 0.0442\n",
            "Epoch 72/200\n",
            "8/8 [==============================] - 1s 78ms/step - loss: 0.0060 - mean_squared_error: 0.0060 - mean_absolute_error: 0.0559 - val_loss: 0.0029 - val_mean_squared_error: 0.0029 - val_mean_absolute_error: 0.0443\n",
            "Epoch 73/200\n",
            "8/8 [==============================] - 1s 76ms/step - loss: 0.0058 - mean_squared_error: 0.0058 - mean_absolute_error: 0.0558 - val_loss: 0.0029 - val_mean_squared_error: 0.0029 - val_mean_absolute_error: 0.0442\n",
            "Epoch 74/200\n",
            "8/8 [==============================] - 1s 86ms/step - loss: 0.0064 - mean_squared_error: 0.0064 - mean_absolute_error: 0.0584 - val_loss: 0.0030 - val_mean_squared_error: 0.0030 - val_mean_absolute_error: 0.0442\n",
            "Epoch 75/200\n",
            "8/8 [==============================] - 1s 74ms/step - loss: 0.0054 - mean_squared_error: 0.0054 - mean_absolute_error: 0.0540 - val_loss: 0.0029 - val_mean_squared_error: 0.0029 - val_mean_absolute_error: 0.0442\n",
            "Epoch 76/200\n",
            "8/8 [==============================] - 1s 84ms/step - loss: 0.0065 - mean_squared_error: 0.0065 - mean_absolute_error: 0.0569 - val_loss: 0.0029 - val_mean_squared_error: 0.0029 - val_mean_absolute_error: 0.0444\n",
            "Epoch 77/200\n",
            "8/8 [==============================] - 1s 75ms/step - loss: 0.0057 - mean_squared_error: 0.0057 - mean_absolute_error: 0.0552 - val_loss: 0.0029 - val_mean_squared_error: 0.0029 - val_mean_absolute_error: 0.0443\n",
            "Epoch 78/200\n",
            "8/8 [==============================] - 1s 77ms/step - loss: 0.0062 - mean_squared_error: 0.0062 - mean_absolute_error: 0.0573 - val_loss: 0.0029 - val_mean_squared_error: 0.0029 - val_mean_absolute_error: 0.0443\n",
            "Epoch 79/200\n",
            "8/8 [==============================] - 1s 77ms/step - loss: 0.0063 - mean_squared_error: 0.0063 - mean_absolute_error: 0.0566 - val_loss: 0.0029 - val_mean_squared_error: 0.0029 - val_mean_absolute_error: 0.0442\n",
            "Epoch 80/200\n",
            "8/8 [==============================] - 1s 81ms/step - loss: 0.0064 - mean_squared_error: 0.0064 - mean_absolute_error: 0.0580 - val_loss: 0.0029 - val_mean_squared_error: 0.0029 - val_mean_absolute_error: 0.0442\n",
            "Epoch 81/200\n",
            "8/8 [==============================] - 1s 74ms/step - loss: 0.0054 - mean_squared_error: 0.0054 - mean_absolute_error: 0.0541 - val_loss: 0.0029 - val_mean_squared_error: 0.0029 - val_mean_absolute_error: 0.0442\n",
            "Epoch 82/200\n",
            "8/8 [==============================] - 1s 78ms/step - loss: 0.0057 - mean_squared_error: 0.0057 - mean_absolute_error: 0.0556 - val_loss: 0.0030 - val_mean_squared_error: 0.0030 - val_mean_absolute_error: 0.0445\n",
            "Epoch 83/200\n",
            "8/8 [==============================] - 1s 74ms/step - loss: 0.0060 - mean_squared_error: 0.0060 - mean_absolute_error: 0.0570 - val_loss: 0.0030 - val_mean_squared_error: 0.0030 - val_mean_absolute_error: 0.0447\n",
            "Epoch 84/200\n",
            "8/8 [==============================] - 1s 80ms/step - loss: 0.0057 - mean_squared_error: 0.0057 - mean_absolute_error: 0.0562 - val_loss: 0.0030 - val_mean_squared_error: 0.0030 - val_mean_absolute_error: 0.0445\n",
            "Epoch 85/200\n",
            "8/8 [==============================] - 1s 80ms/step - loss: 0.0058 - mean_squared_error: 0.0058 - mean_absolute_error: 0.0569 - val_loss: 0.0029 - val_mean_squared_error: 0.0029 - val_mean_absolute_error: 0.0444\n",
            "Epoch 86/200\n",
            "8/8 [==============================] - 1s 78ms/step - loss: 0.0057 - mean_squared_error: 0.0057 - mean_absolute_error: 0.0550 - val_loss: 0.0029 - val_mean_squared_error: 0.0029 - val_mean_absolute_error: 0.0443\n",
            "Epoch 87/200\n",
            "8/8 [==============================] - 1s 74ms/step - loss: 0.0056 - mean_squared_error: 0.0056 - mean_absolute_error: 0.0566 - val_loss: 0.0029 - val_mean_squared_error: 0.0029 - val_mean_absolute_error: 0.0442\n",
            "Epoch 88/200\n",
            "8/8 [==============================] - 1s 77ms/step - loss: 0.0061 - mean_squared_error: 0.0061 - mean_absolute_error: 0.0573 - val_loss: 0.0029 - val_mean_squared_error: 0.0029 - val_mean_absolute_error: 0.0442\n",
            "Epoch 89/200\n",
            "8/8 [==============================] - 1s 77ms/step - loss: 0.0059 - mean_squared_error: 0.0059 - mean_absolute_error: 0.0575 - val_loss: 0.0029 - val_mean_squared_error: 0.0029 - val_mean_absolute_error: 0.0443\n",
            "Epoch 90/200\n",
            "8/8 [==============================] - 1s 74ms/step - loss: 0.0058 - mean_squared_error: 0.0058 - mean_absolute_error: 0.0567 - val_loss: 0.0029 - val_mean_squared_error: 0.0029 - val_mean_absolute_error: 0.0443\n",
            "Epoch 91/200\n",
            "8/8 [==============================] - 1s 84ms/step - loss: 0.0062 - mean_squared_error: 0.0062 - mean_absolute_error: 0.0580 - val_loss: 0.0029 - val_mean_squared_error: 0.0029 - val_mean_absolute_error: 0.0444\n",
            "Epoch 92/200\n",
            "8/8 [==============================] - 1s 77ms/step - loss: 0.0062 - mean_squared_error: 0.0062 - mean_absolute_error: 0.0579 - val_loss: 0.0029 - val_mean_squared_error: 0.0029 - val_mean_absolute_error: 0.0443\n",
            "Epoch 93/200\n",
            "8/8 [==============================] - 1s 82ms/step - loss: 0.0058 - mean_squared_error: 0.0058 - mean_absolute_error: 0.0560 - val_loss: 0.0029 - val_mean_squared_error: 0.0029 - val_mean_absolute_error: 0.0442\n",
            "Epoch 94/200\n",
            "8/8 [==============================] - 1s 79ms/step - loss: 0.0058 - mean_squared_error: 0.0058 - mean_absolute_error: 0.0560 - val_loss: 0.0029 - val_mean_squared_error: 0.0029 - val_mean_absolute_error: 0.0442\n",
            "Epoch 95/200\n",
            "8/8 [==============================] - 1s 85ms/step - loss: 0.0047 - mean_squared_error: 0.0047 - mean_absolute_error: 0.0502 - val_loss: 0.0029 - val_mean_squared_error: 0.0029 - val_mean_absolute_error: 0.0442\n",
            "Epoch 96/200\n",
            "8/8 [==============================] - 1s 81ms/step - loss: 0.0048 - mean_squared_error: 0.0048 - mean_absolute_error: 0.0513 - val_loss: 0.0029 - val_mean_squared_error: 0.0029 - val_mean_absolute_error: 0.0442\n",
            "Epoch 97/200\n",
            "8/8 [==============================] - 1s 87ms/step - loss: 0.0058 - mean_squared_error: 0.0058 - mean_absolute_error: 0.0562 - val_loss: 0.0029 - val_mean_squared_error: 0.0029 - val_mean_absolute_error: 0.0442\n",
            "Epoch 98/200\n",
            "8/8 [==============================] - 1s 79ms/step - loss: 0.0055 - mean_squared_error: 0.0055 - mean_absolute_error: 0.0544 - val_loss: 0.0029 - val_mean_squared_error: 0.0029 - val_mean_absolute_error: 0.0442\n",
            "Epoch 99/200\n",
            "8/8 [==============================] - 1s 74ms/step - loss: 0.0060 - mean_squared_error: 0.0060 - mean_absolute_error: 0.0556 - val_loss: 0.0029 - val_mean_squared_error: 0.0029 - val_mean_absolute_error: 0.0442\n",
            "Epoch 100/200\n",
            "8/8 [==============================] - 1s 73ms/step - loss: 0.0053 - mean_squared_error: 0.0053 - mean_absolute_error: 0.0527 - val_loss: 0.0029 - val_mean_squared_error: 0.0029 - val_mean_absolute_error: 0.0442\n",
            "Epoch 101/200\n",
            "8/8 [==============================] - 1s 81ms/step - loss: 0.0061 - mean_squared_error: 0.0061 - mean_absolute_error: 0.0575 - val_loss: 0.0029 - val_mean_squared_error: 0.0029 - val_mean_absolute_error: 0.0443\n",
            "Epoch 102/200\n",
            "8/8 [==============================] - 1s 79ms/step - loss: 0.0057 - mean_squared_error: 0.0057 - mean_absolute_error: 0.0552 - val_loss: 0.0029 - val_mean_squared_error: 0.0029 - val_mean_absolute_error: 0.0442\n",
            "Epoch 103/200\n",
            "8/8 [==============================] - 1s 76ms/step - loss: 0.0053 - mean_squared_error: 0.0053 - mean_absolute_error: 0.0535 - val_loss: 0.0029 - val_mean_squared_error: 0.0029 - val_mean_absolute_error: 0.0442\n",
            "Epoch 104/200\n",
            "8/8 [==============================] - 1s 83ms/step - loss: 0.0056 - mean_squared_error: 0.0056 - mean_absolute_error: 0.0558 - val_loss: 0.0029 - val_mean_squared_error: 0.0029 - val_mean_absolute_error: 0.0441\n",
            "Epoch 105/200\n",
            "8/8 [==============================] - 1s 79ms/step - loss: 0.0050 - mean_squared_error: 0.0050 - mean_absolute_error: 0.0515 - val_loss: 0.0029 - val_mean_squared_error: 0.0029 - val_mean_absolute_error: 0.0442\n",
            "Epoch 106/200\n",
            "8/8 [==============================] - 1s 82ms/step - loss: 0.0053 - mean_squared_error: 0.0053 - mean_absolute_error: 0.0536 - val_loss: 0.0029 - val_mean_squared_error: 0.0029 - val_mean_absolute_error: 0.0441\n",
            "Epoch 107/200\n",
            "8/8 [==============================] - 1s 77ms/step - loss: 0.0048 - mean_squared_error: 0.0048 - mean_absolute_error: 0.0530 - val_loss: 0.0029 - val_mean_squared_error: 0.0029 - val_mean_absolute_error: 0.0441\n",
            "Epoch 108/200\n",
            "8/8 [==============================] - 1s 78ms/step - loss: 0.0053 - mean_squared_error: 0.0053 - mean_absolute_error: 0.0539 - val_loss: 0.0029 - val_mean_squared_error: 0.0029 - val_mean_absolute_error: 0.0441\n",
            "Epoch 109/200\n",
            "8/8 [==============================] - 1s 73ms/step - loss: 0.0052 - mean_squared_error: 0.0052 - mean_absolute_error: 0.0537 - val_loss: 0.0029 - val_mean_squared_error: 0.0029 - val_mean_absolute_error: 0.0441\n",
            "Epoch 110/200\n",
            "8/8 [==============================] - 1s 79ms/step - loss: 0.0054 - mean_squared_error: 0.0054 - mean_absolute_error: 0.0532 - val_loss: 0.0029 - val_mean_squared_error: 0.0029 - val_mean_absolute_error: 0.0443\n",
            "Epoch 111/200\n",
            "8/8 [==============================] - 1s 81ms/step - loss: 0.0053 - mean_squared_error: 0.0053 - mean_absolute_error: 0.0542 - val_loss: 0.0029 - val_mean_squared_error: 0.0029 - val_mean_absolute_error: 0.0442\n",
            "Epoch 112/200\n",
            "8/8 [==============================] - 1s 77ms/step - loss: 0.0058 - mean_squared_error: 0.0058 - mean_absolute_error: 0.0555 - val_loss: 0.0029 - val_mean_squared_error: 0.0029 - val_mean_absolute_error: 0.0442\n",
            "Epoch 113/200\n",
            "8/8 [==============================] - 1s 82ms/step - loss: 0.0048 - mean_squared_error: 0.0048 - mean_absolute_error: 0.0524 - val_loss: 0.0029 - val_mean_squared_error: 0.0029 - val_mean_absolute_error: 0.0443\n",
            "Epoch 114/200\n",
            "8/8 [==============================] - 1s 76ms/step - loss: 0.0058 - mean_squared_error: 0.0058 - mean_absolute_error: 0.0562 - val_loss: 0.0029 - val_mean_squared_error: 0.0029 - val_mean_absolute_error: 0.0442\n",
            "Epoch 115/200\n",
            "8/8 [==============================] - 1s 77ms/step - loss: 0.0058 - mean_squared_error: 0.0058 - mean_absolute_error: 0.0562 - val_loss: 0.0029 - val_mean_squared_error: 0.0029 - val_mean_absolute_error: 0.0442\n",
            "Epoch 116/200\n",
            "8/8 [==============================] - 1s 73ms/step - loss: 0.0053 - mean_squared_error: 0.0053 - mean_absolute_error: 0.0540 - val_loss: 0.0029 - val_mean_squared_error: 0.0029 - val_mean_absolute_error: 0.0442\n",
            "Epoch 117/200\n",
            "8/8 [==============================] - 1s 80ms/step - loss: 0.0056 - mean_squared_error: 0.0056 - mean_absolute_error: 0.0533 - val_loss: 0.0029 - val_mean_squared_error: 0.0029 - val_mean_absolute_error: 0.0441\n",
            "Epoch 118/200\n",
            "8/8 [==============================] - 1s 77ms/step - loss: 0.0055 - mean_squared_error: 0.0055 - mean_absolute_error: 0.0549 - val_loss: 0.0029 - val_mean_squared_error: 0.0029 - val_mean_absolute_error: 0.0441\n",
            "Epoch 119/200\n",
            "8/8 [==============================] - 1s 73ms/step - loss: 0.0051 - mean_squared_error: 0.0051 - mean_absolute_error: 0.0546 - val_loss: 0.0029 - val_mean_squared_error: 0.0029 - val_mean_absolute_error: 0.0441\n",
            "Epoch 120/200\n",
            "8/8 [==============================] - 1s 73ms/step - loss: 0.0050 - mean_squared_error: 0.0050 - mean_absolute_error: 0.0525 - val_loss: 0.0029 - val_mean_squared_error: 0.0029 - val_mean_absolute_error: 0.0441\n",
            "Epoch 121/200\n",
            "8/8 [==============================] - 1s 77ms/step - loss: 0.0057 - mean_squared_error: 0.0057 - mean_absolute_error: 0.0553 - val_loss: 0.0029 - val_mean_squared_error: 0.0029 - val_mean_absolute_error: 0.0441\n",
            "Epoch 122/200\n",
            "8/8 [==============================] - 1s 82ms/step - loss: 0.0054 - mean_squared_error: 0.0054 - mean_absolute_error: 0.0545 - val_loss: 0.0029 - val_mean_squared_error: 0.0029 - val_mean_absolute_error: 0.0441\n",
            "Epoch 123/200\n",
            "8/8 [==============================] - 1s 81ms/step - loss: 0.0054 - mean_squared_error: 0.0054 - mean_absolute_error: 0.0543 - val_loss: 0.0029 - val_mean_squared_error: 0.0029 - val_mean_absolute_error: 0.0441\n",
            "Epoch 124/200\n",
            "8/8 [==============================] - 1s 76ms/step - loss: 0.0050 - mean_squared_error: 0.0050 - mean_absolute_error: 0.0514 - val_loss: 0.0029 - val_mean_squared_error: 0.0029 - val_mean_absolute_error: 0.0441\n",
            "Epoch 125/200\n",
            "8/8 [==============================] - 1s 70ms/step - loss: 0.0055 - mean_squared_error: 0.0055 - mean_absolute_error: 0.0556 - val_loss: 0.0029 - val_mean_squared_error: 0.0029 - val_mean_absolute_error: 0.0441\n",
            "Epoch 126/200\n",
            "8/8 [==============================] - 1s 77ms/step - loss: 0.0049 - mean_squared_error: 0.0049 - mean_absolute_error: 0.0509 - val_loss: 0.0029 - val_mean_squared_error: 0.0029 - val_mean_absolute_error: 0.0441\n",
            "Epoch 127/200\n",
            "8/8 [==============================] - 1s 82ms/step - loss: 0.0050 - mean_squared_error: 0.0050 - mean_absolute_error: 0.0510 - val_loss: 0.0029 - val_mean_squared_error: 0.0029 - val_mean_absolute_error: 0.0440\n",
            "Epoch 128/200\n",
            "8/8 [==============================] - 1s 81ms/step - loss: 0.0052 - mean_squared_error: 0.0052 - mean_absolute_error: 0.0541 - val_loss: 0.0029 - val_mean_squared_error: 0.0029 - val_mean_absolute_error: 0.0440\n",
            "Epoch 129/200\n",
            "8/8 [==============================] - 1s 79ms/step - loss: 0.0050 - mean_squared_error: 0.0050 - mean_absolute_error: 0.0510 - val_loss: 0.0029 - val_mean_squared_error: 0.0029 - val_mean_absolute_error: 0.0441\n",
            "Epoch 130/200\n",
            "8/8 [==============================] - 1s 81ms/step - loss: 0.0047 - mean_squared_error: 0.0047 - mean_absolute_error: 0.0509 - val_loss: 0.0029 - val_mean_squared_error: 0.0029 - val_mean_absolute_error: 0.0441\n",
            "Epoch 131/200\n",
            "8/8 [==============================] - 1s 77ms/step - loss: 0.0048 - mean_squared_error: 0.0048 - mean_absolute_error: 0.0505 - val_loss: 0.0029 - val_mean_squared_error: 0.0029 - val_mean_absolute_error: 0.0440\n",
            "Epoch 132/200\n",
            "8/8 [==============================] - 1s 76ms/step - loss: 0.0050 - mean_squared_error: 0.0050 - mean_absolute_error: 0.0522 - val_loss: 0.0029 - val_mean_squared_error: 0.0029 - val_mean_absolute_error: 0.0441\n",
            "Epoch 133/200\n",
            "8/8 [==============================] - 1s 79ms/step - loss: 0.0053 - mean_squared_error: 0.0053 - mean_absolute_error: 0.0534 - val_loss: 0.0029 - val_mean_squared_error: 0.0029 - val_mean_absolute_error: 0.0440\n",
            "Epoch 134/200\n",
            "8/8 [==============================] - 1s 80ms/step - loss: 0.0056 - mean_squared_error: 0.0056 - mean_absolute_error: 0.0533 - val_loss: 0.0029 - val_mean_squared_error: 0.0029 - val_mean_absolute_error: 0.0440\n",
            "Epoch 135/200\n",
            "8/8 [==============================] - 1s 78ms/step - loss: 0.0047 - mean_squared_error: 0.0047 - mean_absolute_error: 0.0513 - val_loss: 0.0029 - val_mean_squared_error: 0.0029 - val_mean_absolute_error: 0.0440\n",
            "Epoch 136/200\n",
            "8/8 [==============================] - 1s 76ms/step - loss: 0.0043 - mean_squared_error: 0.0043 - mean_absolute_error: 0.0493 - val_loss: 0.0029 - val_mean_squared_error: 0.0029 - val_mean_absolute_error: 0.0440\n",
            "Epoch 137/200\n",
            "8/8 [==============================] - 1s 77ms/step - loss: 0.0043 - mean_squared_error: 0.0043 - mean_absolute_error: 0.0493 - val_loss: 0.0029 - val_mean_squared_error: 0.0029 - val_mean_absolute_error: 0.0440\n",
            "Epoch 138/200\n",
            "8/8 [==============================] - 1s 75ms/step - loss: 0.0050 - mean_squared_error: 0.0050 - mean_absolute_error: 0.0523 - val_loss: 0.0029 - val_mean_squared_error: 0.0029 - val_mean_absolute_error: 0.0440\n",
            "Epoch 139/200\n",
            "8/8 [==============================] - 1s 79ms/step - loss: 0.0045 - mean_squared_error: 0.0045 - mean_absolute_error: 0.0490 - val_loss: 0.0029 - val_mean_squared_error: 0.0029 - val_mean_absolute_error: 0.0440\n",
            "Epoch 140/200\n",
            "8/8 [==============================] - 1s 79ms/step - loss: 0.0051 - mean_squared_error: 0.0051 - mean_absolute_error: 0.0523 - val_loss: 0.0029 - val_mean_squared_error: 0.0029 - val_mean_absolute_error: 0.0440\n",
            "Epoch 141/200\n",
            "8/8 [==============================] - 1s 79ms/step - loss: 0.0050 - mean_squared_error: 0.0050 - mean_absolute_error: 0.0528 - val_loss: 0.0029 - val_mean_squared_error: 0.0029 - val_mean_absolute_error: 0.0440\n",
            "Epoch 142/200\n",
            "8/8 [==============================] - 1s 75ms/step - loss: 0.0044 - mean_squared_error: 0.0044 - mean_absolute_error: 0.0482 - val_loss: 0.0029 - val_mean_squared_error: 0.0029 - val_mean_absolute_error: 0.0439\n",
            "Epoch 143/200\n",
            "8/8 [==============================] - 1s 84ms/step - loss: 0.0053 - mean_squared_error: 0.0053 - mean_absolute_error: 0.0529 - val_loss: 0.0029 - val_mean_squared_error: 0.0029 - val_mean_absolute_error: 0.0440\n",
            "Epoch 144/200\n",
            "8/8 [==============================] - 1s 73ms/step - loss: 0.0052 - mean_squared_error: 0.0052 - mean_absolute_error: 0.0535 - val_loss: 0.0029 - val_mean_squared_error: 0.0029 - val_mean_absolute_error: 0.0440\n",
            "Epoch 145/200\n",
            "8/8 [==============================] - 1s 84ms/step - loss: 0.0047 - mean_squared_error: 0.0047 - mean_absolute_error: 0.0507 - val_loss: 0.0029 - val_mean_squared_error: 0.0029 - val_mean_absolute_error: 0.0439\n",
            "Epoch 146/200\n",
            "8/8 [==============================] - 1s 82ms/step - loss: 0.0052 - mean_squared_error: 0.0052 - mean_absolute_error: 0.0548 - val_loss: 0.0029 - val_mean_squared_error: 0.0029 - val_mean_absolute_error: 0.0439\n",
            "Epoch 147/200\n",
            "8/8 [==============================] - 1s 76ms/step - loss: 0.0051 - mean_squared_error: 0.0051 - mean_absolute_error: 0.0519 - val_loss: 0.0029 - val_mean_squared_error: 0.0029 - val_mean_absolute_error: 0.0439\n",
            "Epoch 148/200\n",
            "8/8 [==============================] - 1s 78ms/step - loss: 0.0045 - mean_squared_error: 0.0045 - mean_absolute_error: 0.0500 - val_loss: 0.0029 - val_mean_squared_error: 0.0029 - val_mean_absolute_error: 0.0440\n",
            "Epoch 149/200\n",
            "8/8 [==============================] - 1s 72ms/step - loss: 0.0050 - mean_squared_error: 0.0050 - mean_absolute_error: 0.0527 - val_loss: 0.0029 - val_mean_squared_error: 0.0029 - val_mean_absolute_error: 0.0439\n",
            "Epoch 150/200\n",
            "8/8 [==============================] - 1s 82ms/step - loss: 0.0054 - mean_squared_error: 0.0054 - mean_absolute_error: 0.0543 - val_loss: 0.0029 - val_mean_squared_error: 0.0029 - val_mean_absolute_error: 0.0439\n",
            "Epoch 151/200\n",
            "8/8 [==============================] - 1s 84ms/step - loss: 0.0044 - mean_squared_error: 0.0044 - mean_absolute_error: 0.0492 - val_loss: 0.0029 - val_mean_squared_error: 0.0029 - val_mean_absolute_error: 0.0440\n",
            "Epoch 152/200\n",
            "8/8 [==============================] - 1s 84ms/step - loss: 0.0048 - mean_squared_error: 0.0048 - mean_absolute_error: 0.0518 - val_loss: 0.0029 - val_mean_squared_error: 0.0029 - val_mean_absolute_error: 0.0439\n",
            "Epoch 153/200\n",
            "8/8 [==============================] - 1s 76ms/step - loss: 0.0050 - mean_squared_error: 0.0050 - mean_absolute_error: 0.0523 - val_loss: 0.0029 - val_mean_squared_error: 0.0029 - val_mean_absolute_error: 0.0439\n",
            "Epoch 154/200\n",
            "8/8 [==============================] - 1s 76ms/step - loss: 0.0047 - mean_squared_error: 0.0047 - mean_absolute_error: 0.0506 - val_loss: 0.0029 - val_mean_squared_error: 0.0029 - val_mean_absolute_error: 0.0439\n",
            "Epoch 155/200\n",
            "8/8 [==============================] - 1s 82ms/step - loss: 0.0047 - mean_squared_error: 0.0047 - mean_absolute_error: 0.0497 - val_loss: 0.0029 - val_mean_squared_error: 0.0029 - val_mean_absolute_error: 0.0438\n",
            "Epoch 156/200\n",
            "8/8 [==============================] - 1s 83ms/step - loss: 0.0044 - mean_squared_error: 0.0044 - mean_absolute_error: 0.0500 - val_loss: 0.0029 - val_mean_squared_error: 0.0029 - val_mean_absolute_error: 0.0439\n",
            "Epoch 157/200\n",
            "8/8 [==============================] - 1s 87ms/step - loss: 0.0046 - mean_squared_error: 0.0046 - mean_absolute_error: 0.0504 - val_loss: 0.0029 - val_mean_squared_error: 0.0029 - val_mean_absolute_error: 0.0438\n",
            "Epoch 158/200\n",
            "8/8 [==============================] - 1s 84ms/step - loss: 0.0042 - mean_squared_error: 0.0042 - mean_absolute_error: 0.0487 - val_loss: 0.0029 - val_mean_squared_error: 0.0029 - val_mean_absolute_error: 0.0439\n",
            "Epoch 159/200\n",
            "8/8 [==============================] - 1s 81ms/step - loss: 0.0044 - mean_squared_error: 0.0044 - mean_absolute_error: 0.0484 - val_loss: 0.0029 - val_mean_squared_error: 0.0029 - val_mean_absolute_error: 0.0438\n",
            "Epoch 160/200\n",
            "8/8 [==============================] - 1s 76ms/step - loss: 0.0040 - mean_squared_error: 0.0040 - mean_absolute_error: 0.0464 - val_loss: 0.0029 - val_mean_squared_error: 0.0029 - val_mean_absolute_error: 0.0439\n",
            "Epoch 161/200\n",
            "8/8 [==============================] - 1s 78ms/step - loss: 0.0046 - mean_squared_error: 0.0046 - mean_absolute_error: 0.0509 - val_loss: 0.0029 - val_mean_squared_error: 0.0029 - val_mean_absolute_error: 0.0439\n",
            "Epoch 162/200\n",
            "8/8 [==============================] - 1s 72ms/step - loss: 0.0043 - mean_squared_error: 0.0043 - mean_absolute_error: 0.0488 - val_loss: 0.0029 - val_mean_squared_error: 0.0029 - val_mean_absolute_error: 0.0438\n",
            "Epoch 163/200\n",
            "8/8 [==============================] - 1s 79ms/step - loss: 0.0044 - mean_squared_error: 0.0044 - mean_absolute_error: 0.0500 - val_loss: 0.0029 - val_mean_squared_error: 0.0029 - val_mean_absolute_error: 0.0439\n",
            "Epoch 164/200\n",
            "8/8 [==============================] - 1s 81ms/step - loss: 0.0052 - mean_squared_error: 0.0052 - mean_absolute_error: 0.0544 - val_loss: 0.0029 - val_mean_squared_error: 0.0029 - val_mean_absolute_error: 0.0439\n",
            "Epoch 165/200\n",
            "8/8 [==============================] - 1s 81ms/step - loss: 0.0045 - mean_squared_error: 0.0045 - mean_absolute_error: 0.0507 - val_loss: 0.0029 - val_mean_squared_error: 0.0029 - val_mean_absolute_error: 0.0439\n",
            "Epoch 166/200\n",
            "8/8 [==============================] - 1s 82ms/step - loss: 0.0051 - mean_squared_error: 0.0051 - mean_absolute_error: 0.0520 - val_loss: 0.0029 - val_mean_squared_error: 0.0029 - val_mean_absolute_error: 0.0438\n",
            "Epoch 167/200\n",
            "8/8 [==============================] - 1s 78ms/step - loss: 0.0047 - mean_squared_error: 0.0047 - mean_absolute_error: 0.0516 - val_loss: 0.0029 - val_mean_squared_error: 0.0029 - val_mean_absolute_error: 0.0439\n",
            "Epoch 168/200\n",
            "8/8 [==============================] - 1s 78ms/step - loss: 0.0040 - mean_squared_error: 0.0040 - mean_absolute_error: 0.0477 - val_loss: 0.0029 - val_mean_squared_error: 0.0029 - val_mean_absolute_error: 0.0438\n",
            "Epoch 169/200\n",
            "8/8 [==============================] - 1s 83ms/step - loss: 0.0049 - mean_squared_error: 0.0049 - mean_absolute_error: 0.0531 - val_loss: 0.0029 - val_mean_squared_error: 0.0029 - val_mean_absolute_error: 0.0438\n",
            "Epoch 170/200\n",
            "8/8 [==============================] - 1s 75ms/step - loss: 0.0049 - mean_squared_error: 0.0049 - mean_absolute_error: 0.0515 - val_loss: 0.0029 - val_mean_squared_error: 0.0029 - val_mean_absolute_error: 0.0438\n",
            "Epoch 171/200\n",
            "8/8 [==============================] - 1s 81ms/step - loss: 0.0041 - mean_squared_error: 0.0041 - mean_absolute_error: 0.0479 - val_loss: 0.0029 - val_mean_squared_error: 0.0029 - val_mean_absolute_error: 0.0438\n",
            "Epoch 172/200\n",
            "8/8 [==============================] - 1s 77ms/step - loss: 0.0045 - mean_squared_error: 0.0045 - mean_absolute_error: 0.0494 - val_loss: 0.0029 - val_mean_squared_error: 0.0029 - val_mean_absolute_error: 0.0438\n",
            "Epoch 173/200\n",
            "8/8 [==============================] - 1s 79ms/step - loss: 0.0048 - mean_squared_error: 0.0048 - mean_absolute_error: 0.0514 - val_loss: 0.0029 - val_mean_squared_error: 0.0029 - val_mean_absolute_error: 0.0438\n",
            "Epoch 174/200\n",
            "8/8 [==============================] - 1s 84ms/step - loss: 0.0048 - mean_squared_error: 0.0048 - mean_absolute_error: 0.0497 - val_loss: 0.0029 - val_mean_squared_error: 0.0029 - val_mean_absolute_error: 0.0438\n",
            "Epoch 175/200\n",
            "8/8 [==============================] - 1s 81ms/step - loss: 0.0047 - mean_squared_error: 0.0047 - mean_absolute_error: 0.0498 - val_loss: 0.0029 - val_mean_squared_error: 0.0029 - val_mean_absolute_error: 0.0438\n",
            "Epoch 176/200\n",
            "8/8 [==============================] - 1s 79ms/step - loss: 0.0045 - mean_squared_error: 0.0045 - mean_absolute_error: 0.0511 - val_loss: 0.0029 - val_mean_squared_error: 0.0029 - val_mean_absolute_error: 0.0437\n",
            "Epoch 177/200\n",
            "8/8 [==============================] - 1s 81ms/step - loss: 0.0045 - mean_squared_error: 0.0045 - mean_absolute_error: 0.0493 - val_loss: 0.0029 - val_mean_squared_error: 0.0029 - val_mean_absolute_error: 0.0437\n",
            "Epoch 178/200\n",
            "8/8 [==============================] - 1s 74ms/step - loss: 0.0045 - mean_squared_error: 0.0045 - mean_absolute_error: 0.0508 - val_loss: 0.0029 - val_mean_squared_error: 0.0029 - val_mean_absolute_error: 0.0437\n",
            "Epoch 179/200\n",
            "8/8 [==============================] - 1s 80ms/step - loss: 0.0049 - mean_squared_error: 0.0049 - mean_absolute_error: 0.0522 - val_loss: 0.0029 - val_mean_squared_error: 0.0029 - val_mean_absolute_error: 0.0437\n",
            "Epoch 180/200\n",
            "8/8 [==============================] - 1s 86ms/step - loss: 0.0048 - mean_squared_error: 0.0048 - mean_absolute_error: 0.0512 - val_loss: 0.0029 - val_mean_squared_error: 0.0029 - val_mean_absolute_error: 0.0437\n",
            "Epoch 181/200\n",
            "8/8 [==============================] - 1s 82ms/step - loss: 0.0046 - mean_squared_error: 0.0046 - mean_absolute_error: 0.0515 - val_loss: 0.0029 - val_mean_squared_error: 0.0029 - val_mean_absolute_error: 0.0437\n",
            "Epoch 182/200\n",
            "8/8 [==============================] - 1s 78ms/step - loss: 0.0042 - mean_squared_error: 0.0042 - mean_absolute_error: 0.0493 - val_loss: 0.0029 - val_mean_squared_error: 0.0029 - val_mean_absolute_error: 0.0437\n",
            "Epoch 183/200\n",
            "8/8 [==============================] - 1s 84ms/step - loss: 0.0043 - mean_squared_error: 0.0043 - mean_absolute_error: 0.0483 - val_loss: 0.0029 - val_mean_squared_error: 0.0029 - val_mean_absolute_error: 0.0437\n",
            "Epoch 184/200\n",
            "8/8 [==============================] - 1s 83ms/step - loss: 0.0045 - mean_squared_error: 0.0045 - mean_absolute_error: 0.0506 - val_loss: 0.0029 - val_mean_squared_error: 0.0029 - val_mean_absolute_error: 0.0437\n",
            "Epoch 185/200\n",
            "8/8 [==============================] - 1s 76ms/step - loss: 0.0048 - mean_squared_error: 0.0048 - mean_absolute_error: 0.0516 - val_loss: 0.0029 - val_mean_squared_error: 0.0029 - val_mean_absolute_error: 0.0437\n",
            "Epoch 186/200\n",
            "8/8 [==============================] - 1s 77ms/step - loss: 0.0044 - mean_squared_error: 0.0044 - mean_absolute_error: 0.0501 - val_loss: 0.0029 - val_mean_squared_error: 0.0029 - val_mean_absolute_error: 0.0437\n",
            "Epoch 187/200\n",
            "8/8 [==============================] - 1s 76ms/step - loss: 0.0042 - mean_squared_error: 0.0042 - mean_absolute_error: 0.0496 - val_loss: 0.0029 - val_mean_squared_error: 0.0029 - val_mean_absolute_error: 0.0437\n",
            "Epoch 188/200\n",
            "8/8 [==============================] - 1s 79ms/step - loss: 0.0042 - mean_squared_error: 0.0042 - mean_absolute_error: 0.0490 - val_loss: 0.0029 - val_mean_squared_error: 0.0029 - val_mean_absolute_error: 0.0438\n",
            "Epoch 189/200\n",
            "8/8 [==============================] - 1s 80ms/step - loss: 0.0050 - mean_squared_error: 0.0050 - mean_absolute_error: 0.0506 - val_loss: 0.0029 - val_mean_squared_error: 0.0029 - val_mean_absolute_error: 0.0438\n",
            "Epoch 190/200\n",
            "8/8 [==============================] - 1s 80ms/step - loss: 0.0047 - mean_squared_error: 0.0047 - mean_absolute_error: 0.0508 - val_loss: 0.0029 - val_mean_squared_error: 0.0029 - val_mean_absolute_error: 0.0437\n",
            "Epoch 191/200\n",
            "8/8 [==============================] - 1s 74ms/step - loss: 0.0045 - mean_squared_error: 0.0045 - mean_absolute_error: 0.0506 - val_loss: 0.0029 - val_mean_squared_error: 0.0029 - val_mean_absolute_error: 0.0437\n",
            "Epoch 192/200\n",
            "8/8 [==============================] - 1s 84ms/step - loss: 0.0043 - mean_squared_error: 0.0043 - mean_absolute_error: 0.0492 - val_loss: 0.0029 - val_mean_squared_error: 0.0029 - val_mean_absolute_error: 0.0437\n",
            "Epoch 193/200\n",
            "8/8 [==============================] - 1s 80ms/step - loss: 0.0045 - mean_squared_error: 0.0045 - mean_absolute_error: 0.0501 - val_loss: 0.0029 - val_mean_squared_error: 0.0029 - val_mean_absolute_error: 0.0437\n",
            "Epoch 194/200\n",
            "8/8 [==============================] - 1s 77ms/step - loss: 0.0045 - mean_squared_error: 0.0045 - mean_absolute_error: 0.0505 - val_loss: 0.0029 - val_mean_squared_error: 0.0029 - val_mean_absolute_error: 0.0437\n",
            "Epoch 195/200\n",
            "8/8 [==============================] - 1s 88ms/step - loss: 0.0042 - mean_squared_error: 0.0042 - mean_absolute_error: 0.0485 - val_loss: 0.0029 - val_mean_squared_error: 0.0029 - val_mean_absolute_error: 0.0437\n",
            "Epoch 196/200\n",
            "8/8 [==============================] - 1s 79ms/step - loss: 0.0043 - mean_squared_error: 0.0043 - mean_absolute_error: 0.0481 - val_loss: 0.0029 - val_mean_squared_error: 0.0029 - val_mean_absolute_error: 0.0437\n",
            "Epoch 197/200\n",
            "8/8 [==============================] - 1s 78ms/step - loss: 0.0047 - mean_squared_error: 0.0047 - mean_absolute_error: 0.0507 - val_loss: 0.0029 - val_mean_squared_error: 0.0029 - val_mean_absolute_error: 0.0436\n",
            "Epoch 198/200\n",
            "8/8 [==============================] - 1s 85ms/step - loss: 0.0044 - mean_squared_error: 0.0044 - mean_absolute_error: 0.0490 - val_loss: 0.0029 - val_mean_squared_error: 0.0029 - val_mean_absolute_error: 0.0436\n",
            "Epoch 199/200\n",
            "8/8 [==============================] - 1s 81ms/step - loss: 0.0043 - mean_squared_error: 0.0043 - mean_absolute_error: 0.0496 - val_loss: 0.0029 - val_mean_squared_error: 0.0029 - val_mean_absolute_error: 0.0436\n",
            "Epoch 200/200\n",
            "8/8 [==============================] - 1s 72ms/step - loss: 0.0044 - mean_squared_error: 0.0044 - mean_absolute_error: 0.0505 - val_loss: 0.0029 - val_mean_squared_error: 0.0029 - val_mean_absolute_error: 0.0436\n"
          ]
        },
        {
          "output_type": "display_data",
          "data": {
            "text/plain": [
              "<IPython.core.display.HTML object>"
            ],
            "text/html": [
              "<br/>Waiting for W&B process to finish, PID 5294<br/>Program ended successfully."
            ]
          },
          "metadata": {
            "tags": []
          }
        },
        {
          "output_type": "display_data",
          "data": {
            "text/plain": [
              "VBox(children=(Label(value=' 1.23MB of 1.23MB uploaded (0.00MB deduped)\\r'), FloatProgress(value=1.0, max=1.0)…"
            ],
            "application/vnd.jupyter.widget-view+json": {
              "model_id": "03152a6b069847d180a1104421c98a22",
              "version_minor": 0,
              "version_major": 2
            }
          },
          "metadata": {
            "tags": []
          }
        },
        {
          "output_type": "display_data",
          "data": {
            "text/plain": [
              "<IPython.core.display.HTML object>"
            ],
            "text/html": [
              "Find user logs for this run at: <code>/content/feeder_repo/wandb/run-20210713_143535-pfn6h7jz/logs/debug.log</code>"
            ]
          },
          "metadata": {
            "tags": []
          }
        },
        {
          "output_type": "display_data",
          "data": {
            "text/plain": [
              "<IPython.core.display.HTML object>"
            ],
            "text/html": [
              "Find internal logs for this run at: <code>/content/feeder_repo/wandb/run-20210713_143535-pfn6h7jz/logs/debug-internal.log</code>"
            ]
          },
          "metadata": {
            "tags": []
          }
        },
        {
          "output_type": "display_data",
          "data": {
            "text/plain": [
              "<IPython.core.display.HTML object>"
            ],
            "text/html": [
              "<h3>Run summary:</h3><br/><style>\n",
              "    table.wandb td:nth-child(1) { padding: 0 10px; text-align: right }\n",
              "    </style><table class=\"wandb\">\n",
              "<tr><td>epoch</td><td>199</td></tr><tr><td>loss</td><td>0.00419</td></tr><tr><td>mean_squared_error</td><td>0.00419</td></tr><tr><td>mean_absolute_error</td><td>0.04881</td></tr><tr><td>val_loss</td><td>0.00289</td></tr><tr><td>val_mean_squared_error</td><td>0.00289</td></tr><tr><td>val_mean_absolute_error</td><td>0.04356</td></tr><tr><td>_runtime</td><td>139</td></tr><tr><td>_timestamp</td><td>1626187074</td></tr><tr><td>_step</td><td>199</td></tr><tr><td>best_val_loss</td><td>0.00288</td></tr><tr><td>best_epoch</td><td>191</td></tr></table>"
            ]
          },
          "metadata": {
            "tags": []
          }
        },
        {
          "output_type": "display_data",
          "data": {
            "text/plain": [
              "<IPython.core.display.HTML object>"
            ],
            "text/html": [
              "<h3>Run history:</h3><br/><style>\n",
              "    table.wandb td:nth-child(1) { padding: 0 10px; text-align: right }\n",
              "    </style><table class=\"wandb\">\n",
              "<tr><td>epoch</td><td>▁▁▁▁▂▂▂▂▂▃▃▃▃▃▃▄▄▄▄▄▅▅▅▅▅▅▆▆▆▆▆▇▇▇▇▇▇███</td></tr><tr><td>loss</td><td>█▃▂▂▁▁▁▁▁▁▁▁▁▁▁▁▁▁▁▁▁▁▁▁▁▁▁▁▁▁▁▁▁▁▁▁▁▁▁▁</td></tr><tr><td>mean_squared_error</td><td>█▃▂▂▁▁▁▁▁▁▁▁▁▁▁▁▁▁▁▁▁▁▁▁▁▁▁▁▁▁▁▁▁▁▁▁▁▁▁▁</td></tr><tr><td>mean_absolute_error</td><td>█▅▃▂▂▂▁▁▁▁▁▁▁▁▁▁▁▁▁▁▁▁▁▁▁▁▁▁▁▁▁▁▁▁▁▁▁▁▁▁</td></tr><tr><td>val_loss</td><td>█▄▂▁▁▁▁▁▁▁▁▁▁▁▁▁▁▁▁▁▁▁▁▁▁▁▁▁▁▁▁▁▁▁▁▁▁▁▁▁</td></tr><tr><td>val_mean_squared_error</td><td>█▄▂▁▁▁▁▁▁▁▁▁▁▁▁▁▁▁▁▁▁▁▁▁▁▁▁▁▁▁▁▁▁▁▁▁▁▁▁▁</td></tr><tr><td>val_mean_absolute_error</td><td>█▅▂▂▁▁▁▁▁▁▁▁▁▁▁▁▁▁▁▁▁▁▁▁▁▁▁▁▁▁▁▁▁▁▁▁▁▁▁▁</td></tr><tr><td>_runtime</td><td>▁▁▁▁▂▂▂▂▂▃▃▃▃▃▃▄▄▄▄▄▅▅▅▅▅▅▆▆▆▆▆▆▇▇▇▇▇███</td></tr><tr><td>_timestamp</td><td>▁▁▁▁▂▂▂▂▂▃▃▃▃▃▃▄▄▄▄▄▅▅▅▅▅▅▆▆▆▆▆▆▇▇▇▇▇███</td></tr><tr><td>_step</td><td>▁▁▁▁▂▂▂▂▂▃▃▃▃▃▃▄▄▄▄▄▅▅▅▅▅▅▆▆▆▆▆▇▇▇▇▇▇███</td></tr></table><br/>"
            ]
          },
          "metadata": {
            "tags": []
          }
        },
        {
          "output_type": "display_data",
          "data": {
            "text/plain": [
              "<IPython.core.display.HTML object>"
            ],
            "text/html": [
              "Synced 5 W&B file(s), 1 media file(s), 2 artifact file(s) and 2 other file(s)"
            ]
          },
          "metadata": {
            "tags": []
          }
        },
        {
          "output_type": "display_data",
          "data": {
            "text/plain": [
              "<IPython.core.display.HTML object>"
            ],
            "text/html": [
              "\n",
              "                    <br/>Synced <strong style=\"color:#cdcd00\">fiery-sweep-20</strong>: <a href=\"https://wandb.ai/acse-jaq15/ACSE_9_GRU/runs/pfn6h7jz\" target=\"_blank\">https://wandb.ai/acse-jaq15/ACSE_9_GRU/runs/pfn6h7jz</a><br/>\n",
              "                "
            ]
          },
          "metadata": {
            "tags": []
          }
        },
        {
          "output_type": "stream",
          "name": "stderr",
          "text": [
            "\u001b[34m\u001b[1mwandb\u001b[0m: Agent Starting Run: a64dnwmg with config:\n",
            "\u001b[34m\u001b[1mwandb\u001b[0m: \tactivation: selu\n",
            "\u001b[34m\u001b[1mwandb\u001b[0m: \tbatch_size: 128\n",
            "\u001b[34m\u001b[1mwandb\u001b[0m: \tdropout: 0.2\n",
            "\u001b[34m\u001b[1mwandb\u001b[0m: \tepochs: 50\n",
            "\u001b[34m\u001b[1mwandb\u001b[0m: \thidden_size: 100\n",
            "\u001b[34m\u001b[1mwandb\u001b[0m: \tinput_size: 50\n",
            "\u001b[34m\u001b[1mwandb\u001b[0m: \tlearning_rate: 0.0005\n",
            "\u001b[34m\u001b[1mwandb\u001b[0m: \toptimizer: sgd\n"
          ]
        },
        {
          "output_type": "display_data",
          "data": {
            "text/plain": [
              "<IPython.core.display.HTML object>"
            ],
            "text/html": [
              "\n",
              "                Tracking run with wandb version 0.10.33<br/>\n",
              "                Syncing run <strong style=\"color:#cdcd00\">olive-sweep-21</strong> to <a href=\"https://wandb.ai\" target=\"_blank\">Weights & Biases</a> <a href=\"https://docs.wandb.com/integrations/jupyter.html\" target=\"_blank\">(Documentation)</a>.<br/>\n",
              "                Project page: <a href=\"https://wandb.ai/acse-jaq15/ACSE_9_GRU\" target=\"_blank\">https://wandb.ai/acse-jaq15/ACSE_9_GRU</a><br/>\n",
              "                Sweep page: <a href=\"https://wandb.ai/acse-jaq15/ACSE_9_GRU/sweeps/znsj9bl4\" target=\"_blank\">https://wandb.ai/acse-jaq15/ACSE_9_GRU/sweeps/znsj9bl4</a><br/>\n",
              "Run page: <a href=\"https://wandb.ai/acse-jaq15/ACSE_9_GRU/runs/a64dnwmg\" target=\"_blank\">https://wandb.ai/acse-jaq15/ACSE_9_GRU/runs/a64dnwmg</a><br/>\n",
              "                Run data is saved locally in <code>/content/feeder_repo/wandb/run-20210713_143807-a64dnwmg</code><br/><br/>\n",
              "            "
            ]
          },
          "metadata": {
            "tags": []
          }
        },
        {
          "output_type": "stream",
          "name": "stdout",
          "text": [
            "WARNING:tensorflow:Layer gru will not use cuDNN kernels since it doesn't meet the criteria. It will use a generic GPU kernel as fallback when running on GPU.\n",
            "Epoch 1/50\n",
            "8/8 [==============================] - 5s 200ms/step - loss: 0.2868 - mean_squared_error: 0.2868 - mean_absolute_error: 0.4567 - val_loss: 0.1467 - val_mean_squared_error: 0.1467 - val_mean_absolute_error: 0.3069\n",
            "Epoch 2/50\n",
            "8/8 [==============================] - 1s 75ms/step - loss: 0.1689 - mean_squared_error: 0.1689 - mean_absolute_error: 0.3275 - val_loss: 0.0638 - val_mean_squared_error: 0.0638 - val_mean_absolute_error: 0.1888\n",
            "Epoch 3/50\n",
            "8/8 [==============================] - 1s 74ms/step - loss: 0.0792 - mean_squared_error: 0.0792 - mean_absolute_error: 0.2300 - val_loss: 0.0358 - val_mean_squared_error: 0.0358 - val_mean_absolute_error: 0.1530\n",
            "Epoch 4/50\n",
            "8/8 [==============================] - 1s 74ms/step - loss: 0.0479 - mean_squared_error: 0.0479 - mean_absolute_error: 0.1900 - val_loss: 0.0347 - val_mean_squared_error: 0.0347 - val_mean_absolute_error: 0.1636\n",
            "Epoch 5/50\n",
            "8/8 [==============================] - 1s 75ms/step - loss: 0.0461 - mean_squared_error: 0.0461 - mean_absolute_error: 0.1844 - val_loss: 0.0357 - val_mean_squared_error: 0.0357 - val_mean_absolute_error: 0.1687\n",
            "Epoch 6/50\n",
            "8/8 [==============================] - 1s 76ms/step - loss: 0.0415 - mean_squared_error: 0.0415 - mean_absolute_error: 0.1734 - val_loss: 0.0337 - val_mean_squared_error: 0.0337 - val_mean_absolute_error: 0.1641\n",
            "Epoch 7/50\n",
            "8/8 [==============================] - 1s 80ms/step - loss: 0.0366 - mean_squared_error: 0.0366 - mean_absolute_error: 0.1617 - val_loss: 0.0302 - val_mean_squared_error: 0.0302 - val_mean_absolute_error: 0.1543\n",
            "Epoch 8/50\n",
            "8/8 [==============================] - 1s 78ms/step - loss: 0.0363 - mean_squared_error: 0.0363 - mean_absolute_error: 0.1637 - val_loss: 0.0271 - val_mean_squared_error: 0.0271 - val_mean_absolute_error: 0.1444\n",
            "Epoch 9/50\n",
            "8/8 [==============================] - 1s 83ms/step - loss: 0.0338 - mean_squared_error: 0.0338 - mean_absolute_error: 0.1576 - val_loss: 0.0247 - val_mean_squared_error: 0.0247 - val_mean_absolute_error: 0.1364\n",
            "Epoch 10/50\n",
            "8/8 [==============================] - 1s 84ms/step - loss: 0.0307 - mean_squared_error: 0.0307 - mean_absolute_error: 0.1488 - val_loss: 0.0228 - val_mean_squared_error: 0.0228 - val_mean_absolute_error: 0.1304\n",
            "Epoch 11/50\n",
            "8/8 [==============================] - 1s 77ms/step - loss: 0.0283 - mean_squared_error: 0.0283 - mean_absolute_error: 0.1454 - val_loss: 0.0213 - val_mean_squared_error: 0.0213 - val_mean_absolute_error: 0.1255\n",
            "Epoch 12/50\n",
            "8/8 [==============================] - 1s 84ms/step - loss: 0.0264 - mean_squared_error: 0.0264 - mean_absolute_error: 0.1391 - val_loss: 0.0200 - val_mean_squared_error: 0.0200 - val_mean_absolute_error: 0.1216\n",
            "Epoch 13/50\n",
            "8/8 [==============================] - 1s 83ms/step - loss: 0.0254 - mean_squared_error: 0.0254 - mean_absolute_error: 0.1365 - val_loss: 0.0187 - val_mean_squared_error: 0.0187 - val_mean_absolute_error: 0.1175\n",
            "Epoch 14/50\n",
            "8/8 [==============================] - 1s 76ms/step - loss: 0.0233 - mean_squared_error: 0.0233 - mean_absolute_error: 0.1292 - val_loss: 0.0175 - val_mean_squared_error: 0.0175 - val_mean_absolute_error: 0.1134\n",
            "Epoch 15/50\n",
            "8/8 [==============================] - 1s 80ms/step - loss: 0.0212 - mean_squared_error: 0.0212 - mean_absolute_error: 0.1239 - val_loss: 0.0163 - val_mean_squared_error: 0.0163 - val_mean_absolute_error: 0.1092\n",
            "Epoch 16/50\n",
            "8/8 [==============================] - 1s 77ms/step - loss: 0.0197 - mean_squared_error: 0.0197 - mean_absolute_error: 0.1195 - val_loss: 0.0152 - val_mean_squared_error: 0.0152 - val_mean_absolute_error: 0.1048\n",
            "Epoch 17/50\n",
            "8/8 [==============================] - 1s 80ms/step - loss: 0.0185 - mean_squared_error: 0.0185 - mean_absolute_error: 0.1169 - val_loss: 0.0141 - val_mean_squared_error: 0.0141 - val_mean_absolute_error: 0.1007\n",
            "Epoch 18/50\n",
            "8/8 [==============================] - 1s 80ms/step - loss: 0.0166 - mean_squared_error: 0.0166 - mean_absolute_error: 0.1082 - val_loss: 0.0132 - val_mean_squared_error: 0.0132 - val_mean_absolute_error: 0.0971\n",
            "Epoch 19/50\n",
            "8/8 [==============================] - 1s 76ms/step - loss: 0.0169 - mean_squared_error: 0.0169 - mean_absolute_error: 0.1072 - val_loss: 0.0123 - val_mean_squared_error: 0.0123 - val_mean_absolute_error: 0.0932\n",
            "Epoch 20/50\n",
            "8/8 [==============================] - 1s 77ms/step - loss: 0.0174 - mean_squared_error: 0.0174 - mean_absolute_error: 0.1100 - val_loss: 0.0115 - val_mean_squared_error: 0.0115 - val_mean_absolute_error: 0.0899\n",
            "Epoch 21/50\n",
            "8/8 [==============================] - 1s 83ms/step - loss: 0.0139 - mean_squared_error: 0.0139 - mean_absolute_error: 0.0993 - val_loss: 0.0107 - val_mean_squared_error: 0.0107 - val_mean_absolute_error: 0.0865\n",
            "Epoch 22/50\n",
            "8/8 [==============================] - 1s 77ms/step - loss: 0.0146 - mean_squared_error: 0.0146 - mean_absolute_error: 0.1008 - val_loss: 0.0101 - val_mean_squared_error: 0.0101 - val_mean_absolute_error: 0.0835\n",
            "Epoch 23/50\n",
            "8/8 [==============================] - 1s 73ms/step - loss: 0.0129 - mean_squared_error: 0.0129 - mean_absolute_error: 0.0961 - val_loss: 0.0094 - val_mean_squared_error: 0.0094 - val_mean_absolute_error: 0.0806\n",
            "Epoch 24/50\n",
            "8/8 [==============================] - 1s 77ms/step - loss: 0.0119 - mean_squared_error: 0.0119 - mean_absolute_error: 0.0909 - val_loss: 0.0089 - val_mean_squared_error: 0.0089 - val_mean_absolute_error: 0.0781\n",
            "Epoch 25/50\n",
            "8/8 [==============================] - 1s 75ms/step - loss: 0.0108 - mean_squared_error: 0.0108 - mean_absolute_error: 0.0868 - val_loss: 0.0084 - val_mean_squared_error: 0.0084 - val_mean_absolute_error: 0.0759\n",
            "Epoch 26/50\n",
            "8/8 [==============================] - 1s 78ms/step - loss: 0.0110 - mean_squared_error: 0.0110 - mean_absolute_error: 0.0875 - val_loss: 0.0079 - val_mean_squared_error: 0.0079 - val_mean_absolute_error: 0.0733\n",
            "Epoch 27/50\n",
            "8/8 [==============================] - 1s 76ms/step - loss: 0.0105 - mean_squared_error: 0.0105 - mean_absolute_error: 0.0845 - val_loss: 0.0074 - val_mean_squared_error: 0.0074 - val_mean_absolute_error: 0.0710\n",
            "Epoch 28/50\n",
            "8/8 [==============================] - 1s 80ms/step - loss: 0.0099 - mean_squared_error: 0.0099 - mean_absolute_error: 0.0815 - val_loss: 0.0070 - val_mean_squared_error: 0.0070 - val_mean_absolute_error: 0.0689\n",
            "Epoch 29/50\n",
            "8/8 [==============================] - 1s 76ms/step - loss: 0.0093 - mean_squared_error: 0.0093 - mean_absolute_error: 0.0800 - val_loss: 0.0067 - val_mean_squared_error: 0.0067 - val_mean_absolute_error: 0.0669\n",
            "Epoch 30/50\n",
            "8/8 [==============================] - 1s 77ms/step - loss: 0.0096 - mean_squared_error: 0.0096 - mean_absolute_error: 0.0787 - val_loss: 0.0063 - val_mean_squared_error: 0.0063 - val_mean_absolute_error: 0.0652\n",
            "Epoch 31/50\n",
            "8/8 [==============================] - 1s 74ms/step - loss: 0.0087 - mean_squared_error: 0.0087 - mean_absolute_error: 0.0744 - val_loss: 0.0060 - val_mean_squared_error: 0.0060 - val_mean_absolute_error: 0.0637\n",
            "Epoch 32/50\n",
            "8/8 [==============================] - 1s 77ms/step - loss: 0.0072 - mean_squared_error: 0.0072 - mean_absolute_error: 0.0688 - val_loss: 0.0057 - val_mean_squared_error: 0.0057 - val_mean_absolute_error: 0.0618\n",
            "Epoch 33/50\n",
            "8/8 [==============================] - 1s 73ms/step - loss: 0.0075 - mean_squared_error: 0.0075 - mean_absolute_error: 0.0671 - val_loss: 0.0054 - val_mean_squared_error: 0.0054 - val_mean_absolute_error: 0.0601\n",
            "Epoch 34/50\n",
            "8/8 [==============================] - 1s 74ms/step - loss: 0.0069 - mean_squared_error: 0.0069 - mean_absolute_error: 0.0651 - val_loss: 0.0051 - val_mean_squared_error: 0.0051 - val_mean_absolute_error: 0.0586\n",
            "Epoch 35/50\n",
            "8/8 [==============================] - 1s 76ms/step - loss: 0.0069 - mean_squared_error: 0.0069 - mean_absolute_error: 0.0652 - val_loss: 0.0050 - val_mean_squared_error: 0.0050 - val_mean_absolute_error: 0.0575\n",
            "Epoch 36/50\n",
            "8/8 [==============================] - 1s 76ms/step - loss: 0.0076 - mean_squared_error: 0.0076 - mean_absolute_error: 0.0688 - val_loss: 0.0048 - val_mean_squared_error: 0.0048 - val_mean_absolute_error: 0.0565\n",
            "Epoch 37/50\n",
            "8/8 [==============================] - 1s 76ms/step - loss: 0.0068 - mean_squared_error: 0.0068 - mean_absolute_error: 0.0643 - val_loss: 0.0046 - val_mean_squared_error: 0.0046 - val_mean_absolute_error: 0.0556\n",
            "Epoch 38/50\n",
            "8/8 [==============================] - 1s 80ms/step - loss: 0.0064 - mean_squared_error: 0.0064 - mean_absolute_error: 0.0633 - val_loss: 0.0045 - val_mean_squared_error: 0.0045 - val_mean_absolute_error: 0.0548\n",
            "Epoch 39/50\n",
            "8/8 [==============================] - 1s 74ms/step - loss: 0.0059 - mean_squared_error: 0.0059 - mean_absolute_error: 0.0609 - val_loss: 0.0043 - val_mean_squared_error: 0.0043 - val_mean_absolute_error: 0.0538\n",
            "Epoch 40/50\n",
            "8/8 [==============================] - 1s 91ms/step - loss: 0.0065 - mean_squared_error: 0.0065 - mean_absolute_error: 0.0614 - val_loss: 0.0042 - val_mean_squared_error: 0.0042 - val_mean_absolute_error: 0.0528\n",
            "Epoch 41/50\n",
            "8/8 [==============================] - 1s 82ms/step - loss: 0.0063 - mean_squared_error: 0.0063 - mean_absolute_error: 0.0607 - val_loss: 0.0040 - val_mean_squared_error: 0.0040 - val_mean_absolute_error: 0.0519\n",
            "Epoch 42/50\n",
            "8/8 [==============================] - 1s 77ms/step - loss: 0.0059 - mean_squared_error: 0.0059 - mean_absolute_error: 0.0578 - val_loss: 0.0039 - val_mean_squared_error: 0.0039 - val_mean_absolute_error: 0.0513\n",
            "Epoch 43/50\n",
            "8/8 [==============================] - 1s 79ms/step - loss: 0.0056 - mean_squared_error: 0.0056 - mean_absolute_error: 0.0565 - val_loss: 0.0038 - val_mean_squared_error: 0.0038 - val_mean_absolute_error: 0.0505\n",
            "Epoch 44/50\n",
            "8/8 [==============================] - 1s 71ms/step - loss: 0.0055 - mean_squared_error: 0.0055 - mean_absolute_error: 0.0560 - val_loss: 0.0037 - val_mean_squared_error: 0.0037 - val_mean_absolute_error: 0.0497\n",
            "Epoch 45/50\n",
            "8/8 [==============================] - 1s 76ms/step - loss: 0.0050 - mean_squared_error: 0.0050 - mean_absolute_error: 0.0538 - val_loss: 0.0036 - val_mean_squared_error: 0.0036 - val_mean_absolute_error: 0.0490\n",
            "Epoch 46/50\n",
            "8/8 [==============================] - 1s 77ms/step - loss: 0.0057 - mean_squared_error: 0.0057 - mean_absolute_error: 0.0549 - val_loss: 0.0036 - val_mean_squared_error: 0.0036 - val_mean_absolute_error: 0.0484\n",
            "Epoch 47/50\n",
            "8/8 [==============================] - 1s 72ms/step - loss: 0.0055 - mean_squared_error: 0.0055 - mean_absolute_error: 0.0546 - val_loss: 0.0035 - val_mean_squared_error: 0.0035 - val_mean_absolute_error: 0.0480\n",
            "Epoch 48/50\n",
            "8/8 [==============================] - 1s 77ms/step - loss: 0.0054 - mean_squared_error: 0.0054 - mean_absolute_error: 0.0550 - val_loss: 0.0035 - val_mean_squared_error: 0.0035 - val_mean_absolute_error: 0.0478\n",
            "Epoch 49/50\n",
            "8/8 [==============================] - 1s 77ms/step - loss: 0.0054 - mean_squared_error: 0.0054 - mean_absolute_error: 0.0535 - val_loss: 0.0034 - val_mean_squared_error: 0.0034 - val_mean_absolute_error: 0.0474\n",
            "Epoch 50/50\n",
            "8/8 [==============================] - 1s 74ms/step - loss: 0.0049 - mean_squared_error: 0.0049 - mean_absolute_error: 0.0499 - val_loss: 0.0034 - val_mean_squared_error: 0.0034 - val_mean_absolute_error: 0.0470\n"
          ]
        },
        {
          "output_type": "display_data",
          "data": {
            "text/plain": [
              "<IPython.core.display.HTML object>"
            ],
            "text/html": [
              "<br/>Waiting for W&B process to finish, PID 5977<br/>Program ended successfully."
            ]
          },
          "metadata": {
            "tags": []
          }
        },
        {
          "output_type": "display_data",
          "data": {
            "text/plain": [
              "VBox(children=(Label(value=' 1.25MB of 1.25MB uploaded (0.00MB deduped)\\r'), FloatProgress(value=1.0, max=1.0)…"
            ],
            "application/vnd.jupyter.widget-view+json": {
              "model_id": "140492744dc64644ae19d74994c2c0fb",
              "version_minor": 0,
              "version_major": 2
            }
          },
          "metadata": {
            "tags": []
          }
        },
        {
          "output_type": "display_data",
          "data": {
            "text/plain": [
              "<IPython.core.display.HTML object>"
            ],
            "text/html": [
              "Find user logs for this run at: <code>/content/feeder_repo/wandb/run-20210713_143807-a64dnwmg/logs/debug.log</code>"
            ]
          },
          "metadata": {
            "tags": []
          }
        },
        {
          "output_type": "display_data",
          "data": {
            "text/plain": [
              "<IPython.core.display.HTML object>"
            ],
            "text/html": [
              "Find internal logs for this run at: <code>/content/feeder_repo/wandb/run-20210713_143807-a64dnwmg/logs/debug-internal.log</code>"
            ]
          },
          "metadata": {
            "tags": []
          }
        },
        {
          "output_type": "display_data",
          "data": {
            "text/plain": [
              "<IPython.core.display.HTML object>"
            ],
            "text/html": [
              "<h3>Run summary:</h3><br/><style>\n",
              "    table.wandb td:nth-child(1) { padding: 0 10px; text-align: right }\n",
              "    </style><table class=\"wandb\">\n",
              "<tr><td>epoch</td><td>49</td></tr><tr><td>loss</td><td>0.00504</td></tr><tr><td>mean_squared_error</td><td>0.00504</td></tr><tr><td>mean_absolute_error</td><td>0.05052</td></tr><tr><td>val_loss</td><td>0.00337</td></tr><tr><td>val_mean_squared_error</td><td>0.00337</td></tr><tr><td>val_mean_absolute_error</td><td>0.04703</td></tr><tr><td>_runtime</td><td>43</td></tr><tr><td>_timestamp</td><td>1626187130</td></tr><tr><td>_step</td><td>49</td></tr><tr><td>best_val_loss</td><td>0.00337</td></tr><tr><td>best_epoch</td><td>49</td></tr></table>"
            ]
          },
          "metadata": {
            "tags": []
          }
        },
        {
          "output_type": "display_data",
          "data": {
            "text/plain": [
              "<IPython.core.display.HTML object>"
            ],
            "text/html": [
              "<h3>Run history:</h3><br/><style>\n",
              "    table.wandb td:nth-child(1) { padding: 0 10px; text-align: right }\n",
              "    </style><table class=\"wandb\">\n",
              "<tr><td>epoch</td><td>▁▁▁▁▂▂▂▂▂▃▃▃▃▃▃▄▄▄▄▄▅▅▅▅▅▅▆▆▆▆▆▆▇▇▇▇▇███</td></tr><tr><td>loss</td><td>█▅▃▂▂▂▂▂▂▂▂▁▁▁▁▁▁▁▁▁▁▁▁▁▁▁▁▁▁▁▁▁▁▁▁▁▁▁▁▁</td></tr><tr><td>mean_squared_error</td><td>█▅▃▂▂▂▂▂▂▂▂▁▁▁▁▁▁▁▁▁▁▁▁▁▁▁▁▁▁▁▁▁▁▁▁▁▁▁▁▁</td></tr><tr><td>mean_absolute_error</td><td>█▆▄▃▃▃▃▃▃▃▃▂▂▂▂▂▂▂▂▂▂▂▂▂▁▁▁▁▁▁▁▁▁▁▁▁▁▁▁▁</td></tr><tr><td>val_loss</td><td>█▄▃▃▂▂▂▂▂▂▂▂▂▂▁▁▁▁▁▁▁▁▁▁▁▁▁▁▁▁▁▁▁▁▁▁▁▁▁▁</td></tr><tr><td>val_mean_squared_error</td><td>█▄▃▃▂▂▂▂▂▂▂▂▂▂▁▁▁▁▁▁▁▁▁▁▁▁▁▁▁▁▁▁▁▁▁▁▁▁▁▁</td></tr><tr><td>val_mean_absolute_error</td><td>█▅▄▄▄▄▄▃▃▃▃▃▃▂▂▂▂▂▂▂▂▂▂▂▁▁▁▁▁▁▁▁▁▁▁▁▁▁▁▁</td></tr><tr><td>_runtime</td><td>▁▁▁▁▂▂▂▂▂▃▃▃▃▃▃▄▄▄▄▄▅▅▅▅▅▅▆▆▆▆▆▆▇▇▇▇▇███</td></tr><tr><td>_timestamp</td><td>▁▁▁▁▂▂▂▂▂▃▃▃▃▃▃▄▄▄▄▄▅▅▅▅▅▅▆▆▆▆▆▆▇▇▇▇▇███</td></tr><tr><td>_step</td><td>▁▁▁▁▂▂▂▂▂▃▃▃▃▃▃▄▄▄▄▄▅▅▅▅▅▅▆▆▆▆▆▆▇▇▇▇▇███</td></tr></table><br/>"
            ]
          },
          "metadata": {
            "tags": []
          }
        },
        {
          "output_type": "display_data",
          "data": {
            "text/plain": [
              "<IPython.core.display.HTML object>"
            ],
            "text/html": [
              "Synced 5 W&B file(s), 1 media file(s), 2 artifact file(s) and 2 other file(s)"
            ]
          },
          "metadata": {
            "tags": []
          }
        },
        {
          "output_type": "display_data",
          "data": {
            "text/plain": [
              "<IPython.core.display.HTML object>"
            ],
            "text/html": [
              "\n",
              "                    <br/>Synced <strong style=\"color:#cdcd00\">olive-sweep-21</strong>: <a href=\"https://wandb.ai/acse-jaq15/ACSE_9_GRU/runs/a64dnwmg\" target=\"_blank\">https://wandb.ai/acse-jaq15/ACSE_9_GRU/runs/a64dnwmg</a><br/>\n",
              "                "
            ]
          },
          "metadata": {
            "tags": []
          }
        },
        {
          "output_type": "stream",
          "name": "stderr",
          "text": [
            "\u001b[34m\u001b[1mwandb\u001b[0m: Agent Starting Run: lli5m95a with config:\n",
            "\u001b[34m\u001b[1mwandb\u001b[0m: \tactivation: tanh\n",
            "\u001b[34m\u001b[1mwandb\u001b[0m: \tbatch_size: 128\n",
            "\u001b[34m\u001b[1mwandb\u001b[0m: \tdropout: 0.2\n",
            "\u001b[34m\u001b[1mwandb\u001b[0m: \tepochs: 200\n",
            "\u001b[34m\u001b[1mwandb\u001b[0m: \thidden_size: 100\n",
            "\u001b[34m\u001b[1mwandb\u001b[0m: \tinput_size: 100\n",
            "\u001b[34m\u001b[1mwandb\u001b[0m: \tlearning_rate: 0.0005\n",
            "\u001b[34m\u001b[1mwandb\u001b[0m: \toptimizer: nadam\n"
          ]
        },
        {
          "output_type": "display_data",
          "data": {
            "text/plain": [
              "<IPython.core.display.HTML object>"
            ],
            "text/html": [
              "\n",
              "                Tracking run with wandb version 0.10.33<br/>\n",
              "                Syncing run <strong style=\"color:#cdcd00\">vibrant-sweep-22</strong> to <a href=\"https://wandb.ai\" target=\"_blank\">Weights & Biases</a> <a href=\"https://docs.wandb.com/integrations/jupyter.html\" target=\"_blank\">(Documentation)</a>.<br/>\n",
              "                Project page: <a href=\"https://wandb.ai/acse-jaq15/ACSE_9_GRU\" target=\"_blank\">https://wandb.ai/acse-jaq15/ACSE_9_GRU</a><br/>\n",
              "                Sweep page: <a href=\"https://wandb.ai/acse-jaq15/ACSE_9_GRU/sweeps/znsj9bl4\" target=\"_blank\">https://wandb.ai/acse-jaq15/ACSE_9_GRU/sweeps/znsj9bl4</a><br/>\n",
              "Run page: <a href=\"https://wandb.ai/acse-jaq15/ACSE_9_GRU/runs/lli5m95a\" target=\"_blank\">https://wandb.ai/acse-jaq15/ACSE_9_GRU/runs/lli5m95a</a><br/>\n",
              "                Run data is saved locally in <code>/content/feeder_repo/wandb/run-20210713_143910-lli5m95a</code><br/><br/>\n",
              "            "
            ]
          },
          "metadata": {
            "tags": []
          }
        },
        {
          "output_type": "stream",
          "name": "stdout",
          "text": [
            "Epoch 1/200\n",
            "8/8 [==============================] - 4s 123ms/step - loss: 0.2496 - mean_squared_error: 0.2496 - mean_absolute_error: 0.4110 - val_loss: 0.0370 - val_mean_squared_error: 0.0370 - val_mean_absolute_error: 0.1465\n",
            "Epoch 2/200\n",
            "8/8 [==============================] - 0s 15ms/step - loss: 0.0325 - mean_squared_error: 0.0325 - mean_absolute_error: 0.1411 - val_loss: 0.0118 - val_mean_squared_error: 0.0118 - val_mean_absolute_error: 0.0938\n",
            "Epoch 3/200\n",
            "8/8 [==============================] - 0s 13ms/step - loss: 0.0100 - mean_squared_error: 0.0100 - mean_absolute_error: 0.0854 - val_loss: 0.0075 - val_mean_squared_error: 0.0075 - val_mean_absolute_error: 0.0725\n",
            "Epoch 4/200\n",
            "8/8 [==============================] - 0s 14ms/step - loss: 0.0067 - mean_squared_error: 0.0067 - mean_absolute_error: 0.0685 - val_loss: 0.0053 - val_mean_squared_error: 0.0053 - val_mean_absolute_error: 0.0603\n",
            "Epoch 5/200\n",
            "8/8 [==============================] - 0s 13ms/step - loss: 0.0047 - mean_squared_error: 0.0047 - mean_absolute_error: 0.0566 - val_loss: 0.0040 - val_mean_squared_error: 0.0040 - val_mean_absolute_error: 0.0515\n",
            "Epoch 6/200\n",
            "8/8 [==============================] - 0s 15ms/step - loss: 0.0039 - mean_squared_error: 0.0039 - mean_absolute_error: 0.0478 - val_loss: 0.0034 - val_mean_squared_error: 0.0034 - val_mean_absolute_error: 0.0473\n",
            "Epoch 7/200\n",
            "8/8 [==============================] - 0s 13ms/step - loss: 0.0033 - mean_squared_error: 0.0033 - mean_absolute_error: 0.0426 - val_loss: 0.0033 - val_mean_squared_error: 0.0033 - val_mean_absolute_error: 0.0458\n",
            "Epoch 8/200\n",
            "8/8 [==============================] - 0s 14ms/step - loss: 0.0030 - mean_squared_error: 0.0030 - mean_absolute_error: 0.0409 - val_loss: 0.0032 - val_mean_squared_error: 0.0032 - val_mean_absolute_error: 0.0451\n",
            "Epoch 9/200\n",
            "8/8 [==============================] - 0s 16ms/step - loss: 0.0029 - mean_squared_error: 0.0029 - mean_absolute_error: 0.0391 - val_loss: 0.0032 - val_mean_squared_error: 0.0032 - val_mean_absolute_error: 0.0452\n",
            "Epoch 10/200\n",
            "8/8 [==============================] - 0s 14ms/step - loss: 0.0027 - mean_squared_error: 0.0027 - mean_absolute_error: 0.0387 - val_loss: 0.0031 - val_mean_squared_error: 0.0031 - val_mean_absolute_error: 0.0449\n",
            "Epoch 11/200\n",
            "8/8 [==============================] - 0s 15ms/step - loss: 0.0030 - mean_squared_error: 0.0030 - mean_absolute_error: 0.0393 - val_loss: 0.0030 - val_mean_squared_error: 0.0030 - val_mean_absolute_error: 0.0444\n",
            "Epoch 12/200\n",
            "8/8 [==============================] - 0s 13ms/step - loss: 0.0028 - mean_squared_error: 0.0028 - mean_absolute_error: 0.0394 - val_loss: 0.0030 - val_mean_squared_error: 0.0030 - val_mean_absolute_error: 0.0444\n",
            "Epoch 13/200\n",
            "8/8 [==============================] - 0s 15ms/step - loss: 0.0028 - mean_squared_error: 0.0028 - mean_absolute_error: 0.0391 - val_loss: 0.0030 - val_mean_squared_error: 0.0030 - val_mean_absolute_error: 0.0441\n",
            "Epoch 14/200\n",
            "8/8 [==============================] - 0s 14ms/step - loss: 0.0025 - mean_squared_error: 0.0025 - mean_absolute_error: 0.0364 - val_loss: 0.0030 - val_mean_squared_error: 0.0030 - val_mean_absolute_error: 0.0441\n",
            "Epoch 15/200\n",
            "8/8 [==============================] - 0s 13ms/step - loss: 0.0026 - mean_squared_error: 0.0026 - mean_absolute_error: 0.0374 - val_loss: 0.0030 - val_mean_squared_error: 0.0030 - val_mean_absolute_error: 0.0440\n",
            "Epoch 16/200\n",
            "8/8 [==============================] - 0s 14ms/step - loss: 0.0026 - mean_squared_error: 0.0026 - mean_absolute_error: 0.0377 - val_loss: 0.0030 - val_mean_squared_error: 0.0030 - val_mean_absolute_error: 0.0438\n",
            "Epoch 17/200\n",
            "8/8 [==============================] - 0s 13ms/step - loss: 0.0026 - mean_squared_error: 0.0026 - mean_absolute_error: 0.0376 - val_loss: 0.0029 - val_mean_squared_error: 0.0029 - val_mean_absolute_error: 0.0436\n",
            "Epoch 18/200\n",
            "8/8 [==============================] - 0s 13ms/step - loss: 0.0025 - mean_squared_error: 0.0025 - mean_absolute_error: 0.0368 - val_loss: 0.0030 - val_mean_squared_error: 0.0030 - val_mean_absolute_error: 0.0440\n",
            "Epoch 19/200\n",
            "8/8 [==============================] - 0s 15ms/step - loss: 0.0027 - mean_squared_error: 0.0027 - mean_absolute_error: 0.0381 - val_loss: 0.0031 - val_mean_squared_error: 0.0031 - val_mean_absolute_error: 0.0444\n",
            "Epoch 20/200\n",
            "8/8 [==============================] - 0s 15ms/step - loss: 0.0028 - mean_squared_error: 0.0028 - mean_absolute_error: 0.0390 - val_loss: 0.0029 - val_mean_squared_error: 0.0029 - val_mean_absolute_error: 0.0433\n",
            "Epoch 21/200\n",
            "8/8 [==============================] - 0s 14ms/step - loss: 0.0027 - mean_squared_error: 0.0027 - mean_absolute_error: 0.0377 - val_loss: 0.0029 - val_mean_squared_error: 0.0029 - val_mean_absolute_error: 0.0431\n",
            "Epoch 22/200\n",
            "8/8 [==============================] - 0s 13ms/step - loss: 0.0025 - mean_squared_error: 0.0025 - mean_absolute_error: 0.0381 - val_loss: 0.0029 - val_mean_squared_error: 0.0029 - val_mean_absolute_error: 0.0432\n",
            "Epoch 23/200\n",
            "8/8 [==============================] - 0s 18ms/step - loss: 0.0021 - mean_squared_error: 0.0021 - mean_absolute_error: 0.0342 - val_loss: 0.0029 - val_mean_squared_error: 0.0029 - val_mean_absolute_error: 0.0430\n",
            "Epoch 24/200\n",
            "8/8 [==============================] - 0s 13ms/step - loss: 0.0028 - mean_squared_error: 0.0028 - mean_absolute_error: 0.0395 - val_loss: 0.0028 - val_mean_squared_error: 0.0028 - val_mean_absolute_error: 0.0428\n",
            "Epoch 25/200\n",
            "8/8 [==============================] - 0s 15ms/step - loss: 0.0023 - mean_squared_error: 0.0023 - mean_absolute_error: 0.0357 - val_loss: 0.0029 - val_mean_squared_error: 0.0029 - val_mean_absolute_error: 0.0429\n",
            "Epoch 26/200\n",
            "8/8 [==============================] - 0s 15ms/step - loss: 0.0024 - mean_squared_error: 0.0024 - mean_absolute_error: 0.0359 - val_loss: 0.0031 - val_mean_squared_error: 0.0031 - val_mean_absolute_error: 0.0442\n",
            "Epoch 27/200\n",
            "8/8 [==============================] - 0s 15ms/step - loss: 0.0022 - mean_squared_error: 0.0022 - mean_absolute_error: 0.0338 - val_loss: 0.0031 - val_mean_squared_error: 0.0031 - val_mean_absolute_error: 0.0445\n",
            "Epoch 28/200\n",
            "8/8 [==============================] - 0s 13ms/step - loss: 0.0025 - mean_squared_error: 0.0025 - mean_absolute_error: 0.0360 - val_loss: 0.0029 - val_mean_squared_error: 0.0029 - val_mean_absolute_error: 0.0433\n",
            "Epoch 29/200\n",
            "8/8 [==============================] - 0s 14ms/step - loss: 0.0022 - mean_squared_error: 0.0022 - mean_absolute_error: 0.0345 - val_loss: 0.0033 - val_mean_squared_error: 0.0033 - val_mean_absolute_error: 0.0454\n",
            "Epoch 30/200\n",
            "8/8 [==============================] - 0s 14ms/step - loss: 0.0025 - mean_squared_error: 0.0025 - mean_absolute_error: 0.0361 - val_loss: 0.0027 - val_mean_squared_error: 0.0027 - val_mean_absolute_error: 0.0422\n",
            "Epoch 31/200\n",
            "8/8 [==============================] - 0s 15ms/step - loss: 0.0021 - mean_squared_error: 0.0021 - mean_absolute_error: 0.0338 - val_loss: 0.0028 - val_mean_squared_error: 0.0028 - val_mean_absolute_error: 0.0426\n",
            "Epoch 32/200\n",
            "8/8 [==============================] - 0s 13ms/step - loss: 0.0022 - mean_squared_error: 0.0022 - mean_absolute_error: 0.0354 - val_loss: 0.0027 - val_mean_squared_error: 0.0027 - val_mean_absolute_error: 0.0421\n",
            "Epoch 33/200\n",
            "8/8 [==============================] - 0s 13ms/step - loss: 0.0025 - mean_squared_error: 0.0025 - mean_absolute_error: 0.0357 - val_loss: 0.0031 - val_mean_squared_error: 0.0031 - val_mean_absolute_error: 0.0444\n",
            "Epoch 34/200\n",
            "8/8 [==============================] - 0s 12ms/step - loss: 0.0020 - mean_squared_error: 0.0020 - mean_absolute_error: 0.0333 - val_loss: 0.0027 - val_mean_squared_error: 0.0027 - val_mean_absolute_error: 0.0418\n",
            "Epoch 35/200\n",
            "8/8 [==============================] - 0s 15ms/step - loss: 0.0019 - mean_squared_error: 0.0019 - mean_absolute_error: 0.0320 - val_loss: 0.0028 - val_mean_squared_error: 0.0028 - val_mean_absolute_error: 0.0422\n",
            "Epoch 36/200\n",
            "8/8 [==============================] - 0s 13ms/step - loss: 0.0020 - mean_squared_error: 0.0020 - mean_absolute_error: 0.0332 - val_loss: 0.0027 - val_mean_squared_error: 0.0027 - val_mean_absolute_error: 0.0417\n",
            "Epoch 37/200\n",
            "8/8 [==============================] - 0s 14ms/step - loss: 0.0019 - mean_squared_error: 0.0019 - mean_absolute_error: 0.0322 - val_loss: 0.0027 - val_mean_squared_error: 0.0027 - val_mean_absolute_error: 0.0416\n",
            "Epoch 38/200\n",
            "8/8 [==============================] - 0s 13ms/step - loss: 0.0020 - mean_squared_error: 0.0020 - mean_absolute_error: 0.0332 - val_loss: 0.0027 - val_mean_squared_error: 0.0027 - val_mean_absolute_error: 0.0418\n",
            "Epoch 39/200\n",
            "8/8 [==============================] - 0s 13ms/step - loss: 0.0020 - mean_squared_error: 0.0020 - mean_absolute_error: 0.0328 - val_loss: 0.0027 - val_mean_squared_error: 0.0027 - val_mean_absolute_error: 0.0416\n",
            "Epoch 40/200\n",
            "8/8 [==============================] - 0s 14ms/step - loss: 0.0021 - mean_squared_error: 0.0021 - mean_absolute_error: 0.0341 - val_loss: 0.0026 - val_mean_squared_error: 0.0026 - val_mean_absolute_error: 0.0414\n",
            "Epoch 41/200\n",
            "8/8 [==============================] - 0s 14ms/step - loss: 0.0020 - mean_squared_error: 0.0020 - mean_absolute_error: 0.0338 - val_loss: 0.0028 - val_mean_squared_error: 0.0028 - val_mean_absolute_error: 0.0426\n",
            "Epoch 42/200\n",
            "8/8 [==============================] - 0s 16ms/step - loss: 0.0021 - mean_squared_error: 0.0021 - mean_absolute_error: 0.0336 - val_loss: 0.0026 - val_mean_squared_error: 0.0026 - val_mean_absolute_error: 0.0413\n",
            "Epoch 43/200\n",
            "8/8 [==============================] - 0s 13ms/step - loss: 0.0019 - mean_squared_error: 0.0019 - mean_absolute_error: 0.0316 - val_loss: 0.0027 - val_mean_squared_error: 0.0027 - val_mean_absolute_error: 0.0415\n",
            "Epoch 44/200\n",
            "8/8 [==============================] - 0s 15ms/step - loss: 0.0021 - mean_squared_error: 0.0021 - mean_absolute_error: 0.0328 - val_loss: 0.0027 - val_mean_squared_error: 0.0027 - val_mean_absolute_error: 0.0413\n",
            "Epoch 45/200\n",
            "8/8 [==============================] - 0s 13ms/step - loss: 0.0021 - mean_squared_error: 0.0021 - mean_absolute_error: 0.0346 - val_loss: 0.0026 - val_mean_squared_error: 0.0026 - val_mean_absolute_error: 0.0409\n",
            "Epoch 46/200\n",
            "8/8 [==============================] - 0s 16ms/step - loss: 0.0022 - mean_squared_error: 0.0022 - mean_absolute_error: 0.0333 - val_loss: 0.0026 - val_mean_squared_error: 0.0026 - val_mean_absolute_error: 0.0409\n",
            "Epoch 47/200\n",
            "8/8 [==============================] - 0s 14ms/step - loss: 0.0017 - mean_squared_error: 0.0017 - mean_absolute_error: 0.0303 - val_loss: 0.0026 - val_mean_squared_error: 0.0026 - val_mean_absolute_error: 0.0408\n",
            "Epoch 48/200\n",
            "8/8 [==============================] - 0s 14ms/step - loss: 0.0020 - mean_squared_error: 0.0020 - mean_absolute_error: 0.0326 - val_loss: 0.0026 - val_mean_squared_error: 0.0026 - val_mean_absolute_error: 0.0414\n",
            "Epoch 49/200\n",
            "8/8 [==============================] - 0s 13ms/step - loss: 0.0019 - mean_squared_error: 0.0019 - mean_absolute_error: 0.0321 - val_loss: 0.0029 - val_mean_squared_error: 0.0029 - val_mean_absolute_error: 0.0429\n",
            "Epoch 50/200\n",
            "8/8 [==============================] - 0s 13ms/step - loss: 0.0021 - mean_squared_error: 0.0021 - mean_absolute_error: 0.0340 - val_loss: 0.0026 - val_mean_squared_error: 0.0026 - val_mean_absolute_error: 0.0410\n",
            "Epoch 51/200\n",
            "8/8 [==============================] - 0s 13ms/step - loss: 0.0018 - mean_squared_error: 0.0018 - mean_absolute_error: 0.0315 - val_loss: 0.0026 - val_mean_squared_error: 0.0026 - val_mean_absolute_error: 0.0407\n",
            "Epoch 52/200\n",
            "8/8 [==============================] - 0s 15ms/step - loss: 0.0018 - mean_squared_error: 0.0018 - mean_absolute_error: 0.0315 - val_loss: 0.0026 - val_mean_squared_error: 0.0026 - val_mean_absolute_error: 0.0406\n",
            "Epoch 53/200\n",
            "8/8 [==============================] - 0s 14ms/step - loss: 0.0018 - mean_squared_error: 0.0018 - mean_absolute_error: 0.0316 - val_loss: 0.0025 - val_mean_squared_error: 0.0025 - val_mean_absolute_error: 0.0406\n",
            "Epoch 54/200\n",
            "8/8 [==============================] - 0s 14ms/step - loss: 0.0018 - mean_squared_error: 0.0018 - mean_absolute_error: 0.0311 - val_loss: 0.0026 - val_mean_squared_error: 0.0026 - val_mean_absolute_error: 0.0407\n",
            "Epoch 55/200\n",
            "8/8 [==============================] - 0s 14ms/step - loss: 0.0020 - mean_squared_error: 0.0020 - mean_absolute_error: 0.0325 - val_loss: 0.0028 - val_mean_squared_error: 0.0028 - val_mean_absolute_error: 0.0423\n",
            "Epoch 56/200\n",
            "8/8 [==============================] - 0s 13ms/step - loss: 0.0021 - mean_squared_error: 0.0021 - mean_absolute_error: 0.0342 - val_loss: 0.0029 - val_mean_squared_error: 0.0029 - val_mean_absolute_error: 0.0426\n",
            "Epoch 57/200\n",
            "8/8 [==============================] - 0s 14ms/step - loss: 0.0020 - mean_squared_error: 0.0020 - mean_absolute_error: 0.0330 - val_loss: 0.0026 - val_mean_squared_error: 0.0026 - val_mean_absolute_error: 0.0405\n",
            "Epoch 58/200\n",
            "8/8 [==============================] - 0s 13ms/step - loss: 0.0020 - mean_squared_error: 0.0020 - mean_absolute_error: 0.0322 - val_loss: 0.0026 - val_mean_squared_error: 0.0026 - val_mean_absolute_error: 0.0413\n",
            "Epoch 59/200\n",
            "8/8 [==============================] - 0s 13ms/step - loss: 0.0019 - mean_squared_error: 0.0019 - mean_absolute_error: 0.0329 - val_loss: 0.0025 - val_mean_squared_error: 0.0025 - val_mean_absolute_error: 0.0402\n",
            "Epoch 60/200\n",
            "8/8 [==============================] - 0s 13ms/step - loss: 0.0019 - mean_squared_error: 0.0019 - mean_absolute_error: 0.0322 - val_loss: 0.0025 - val_mean_squared_error: 0.0025 - val_mean_absolute_error: 0.0401\n",
            "Epoch 61/200\n",
            "8/8 [==============================] - 0s 14ms/step - loss: 0.0015 - mean_squared_error: 0.0015 - mean_absolute_error: 0.0292 - val_loss: 0.0025 - val_mean_squared_error: 0.0025 - val_mean_absolute_error: 0.0401\n",
            "Epoch 62/200\n",
            "8/8 [==============================] - 0s 13ms/step - loss: 0.0017 - mean_squared_error: 0.0017 - mean_absolute_error: 0.0313 - val_loss: 0.0025 - val_mean_squared_error: 0.0025 - val_mean_absolute_error: 0.0400\n",
            "Epoch 63/200\n",
            "8/8 [==============================] - 0s 14ms/step - loss: 0.0018 - mean_squared_error: 0.0018 - mean_absolute_error: 0.0315 - val_loss: 0.0026 - val_mean_squared_error: 0.0026 - val_mean_absolute_error: 0.0403\n",
            "Epoch 64/200\n",
            "1/8 [==>...........................] - ETA: 0s - loss: 0.0015 - mean_squared_error: 0.0015 - mean_absolute_error: 0.0305"
          ]
        },
        {
          "output_type": "stream",
          "name": "stderr",
          "text": [
            "\u001b[34m\u001b[1mwandb\u001b[0m: Ctrl + C detected. Stopping sweep.\n"
          ]
        }
      ],
      "metadata": {
        "colab": {
          "base_uri": "https://localhost:8080/",
          "height": 1000,
          "referenced_widgets": [
            "6229d3662ef549839990f37d1ab07031",
            "a1206d6e473c4ee6abe71c04f7399e35",
            "6551f36e063f4805b0c4915daac70cb7",
            "2a0ad99c83384ce1a5ac35dd445961fd",
            "a496f2ac65b5496e8ea1199646c12210",
            "10ae33e16a2e4097ba74fd616df362cc",
            "f30e75a87b6e4bce94fd77ad5611ced0",
            "c1e203d2413741879959506293db7ae3",
            "529dfe88a3b54273881a3d9a6d926afd",
            "1f0078230416424890c70de5accdeebd",
            "c2c505a5c688465b8a4022e3562701de",
            "db225f3bc6df490486b30afd0db3a4a3",
            "50b69a64376240dbba362396a9286ef3",
            "99d13a245c4f41098480ae06932519e0",
            "e31a0a6b3a1b4fc4a0f4485591a0d608",
            "d01030b203f746c693ff61a29276b426",
            "687a525fb38747deaea5cead4360b024",
            "34387446a550406a9e32168aefe44ce5",
            "f8c2cc2168d14511877523e127d56610",
            "a05409ead9f14d188b4a00aafc7bacec",
            "8d6e45d562234adc82a4fa74115c4033",
            "fd87a656a25e40f899e794108c576551",
            "98e2ff9cbe6c426b89f1f3cf710f85a1",
            "a2efdbc826a7414fb169f4a5d72fae44",
            "cb1f427697c8415786912057f5f176b7",
            "416764338c7844db9bc6de48651a5d00",
            "fe69327b29c64c3a8c64daa480e78f43",
            "f6e24f53d09d417eb211e4806de20cad",
            "9ad81293f9264ee98d3f6c71f4285920",
            "79a7ff2ba5f54e1cab00340e3e9d6355",
            "fe930148cc8944158b8a41ef592d9153",
            "d9b3c1cdcc41475c9a8c2de3cf7eee08",
            "9d47b7677a444675832375ef5ff2ad37",
            "377a900a4e914e7ba27a04eb8166147f",
            "2ecf22e94f06443fbf42822548301713",
            "524f1f82fdac440f9c928acba31022ff",
            "24444d9b443345ac8e685e1c0c82dc4c",
            "b261d65933084bdc886bfa56ac2e94fd",
            "bf779d6ec22c400aa4c358c62460361a",
            "7a71a5723c1a41c989fd4879144e3f57",
            "0cdee6a616ed46a89546c628c7e5b6e9",
            "c567a8530a9b4fc78d6a710ce0667ed2",
            "bf69247400104eb2a104504492f35701",
            "1332da57a17e49efa776ea97cfb49ddb",
            "af6730d567a74d8caf3fc575a3215eef",
            "3a4d0c5c78274cdcbe4b89b8e06c1659",
            "1906b1276cbd4d619a2328c0def3235c",
            "91087f1555404c0b9a2eb0931103268c",
            "41db82c7c58c4781a0fa3636d41fb945",
            "00c60bb14a1942598fb83cea5eca6eb5",
            "353fcbc44d41426a9ade765a89921917",
            "696c84f022a649f7b841f2dab124d62a",
            "1de5318b2d3d4aa6a90218a40ab3e331",
            "e89264d3346e499ba89d1a0dd4c42162",
            "0d836e35b9df40f884b9dcfe31fcda25",
            "62e69f787ad84e2fb9b837db26b07ae4",
            "1870da03713d45cbbecf45848713f368",
            "006b0178b6414f91966b432a63913620",
            "44b510e8ac6844488d7488e1b8d2ba95",
            "86571f53d84a4caebcf78970cb4c9a5d",
            "f78664eaaf944925a751c109bd9b7dc1",
            "de67d86b7ae048d48f12d0fcc2a46141",
            "efa0110b8fde4c6b9fa48f2b8d53d36e",
            "d8eafa5dd0434914bdb6fa40d37b58bb",
            "33cf0a3449b34baea8d95f53d6b9546b",
            "4fde9282d1064887a65030e19a2ec550",
            "194d663b02974f4ebfb045d80ad4ee8b",
            "cdf31267b7d940e0b6a83044c204c9ac",
            "f916c8020bf44911b01ca7d1c6af14a9",
            "2597b1f3460f4a50ba8a23a2a6f4ca38",
            "1d31f0299d0a45f598df25ed076700fc",
            "e680cdecef214386a13b9dae13dde477",
            "064e005e70684a2fa46941f762979bd3",
            "d5c4040b6bbe48b3baa6257e70cbdf1b",
            "b815c574616c4fc7a57963f0d4506cb6",
            "a28af822c5064cdc94b779d0dbdd1efe",
            "97c4b704a9754fcea3d9fa5590bde3cc",
            "3595c9a5349645af92bba08aeb939e23",
            "f61a380f2d3c4912be14e259024b299d",
            "7f4f2beb4f6646c6a3899045181bc591",
            "aebe71a9652f47048cd5bf0ee128a160",
            "dcb512e1e0c246de9b9b7f52d76789ea",
            "7843e36487834f35b984d9abce1e5d15",
            "4d5940452b024418818c0766ae330428",
            "5d0cf52a806342ff974c02d8940ab606",
            "a5a3303100c14e4ea8a64743371c7ea7",
            "4338ac9a79744f91b93e835098353e6d",
            "ffa29da342d64ba88a76da0939d6d010",
            "8acf6a4158bb48a888642534354acb60",
            "36218ecacf964c8ea57d126390eac9e6",
            "d13b54f5e65445d4b64f104a340b137c",
            "40ccaa28652c49c78ae3645985b12b3d",
            "bc3401364e704ee1bad0720e4c8e8770",
            "1967c8cc2c5e4c778eb3f3dafeb9b1ef",
            "c034c4f3d3084ac5ac5f8adebc276ee6",
            "64af9e4fd79143f59322cf45319a58d3",
            "68dbf621adeb474881023bc17ef2e18c",
            "a5d0b9c70e3d442e85ddb02027cb2c82",
            "f00ff64efd654422957c8f6dbe3b933c",
            "10e9125e6d834632bb5f5a25718cafa2",
            "6178c6e8eaee4738a4544b70578eba8e",
            "ff1104014e754ad285c8c7bb0283f870",
            "55d25e7e6e4f4783b5ebba9a4dbfc524",
            "a09ed5c438f84617b7fe73d89aaf2799",
            "3e5f6c34c28140e7bb9191af9f81c879",
            "9af9b737d49647a9a0d38ea62dbe1346",
            "1bb386e32a324a678f9842716fd3befa",
            "1955ee7873834b6792d9f04d4d3b62d5",
            "6c187a0da42e4f4b8c2aecf4efb4529f",
            "4ab54b4acad44860a48c69c0ecf457e3",
            "7aea80c2bfdd4674b14fb002831abe0f",
            "0ee115c6c5b243918a9efb8afa0a93b7",
            "67624506fc0646939930ef372a2f9902",
            "8977d9934cc94d5b90f977f12ea11034",
            "5713156c5b8e4d5eaaa83cdab253c4ca",
            "3b1cbf92e3aa4722b70c815bf96c2864",
            "9738b71e186c48a4a9bbb51057a881f2",
            "84666d289db048bda9f876bc1a9b992e",
            "5aa764a771b34feda461418a4d94619e",
            "dff55e4181bd451e8cec33437c957da6",
            "5ef63350376146aab049f9ffd2c15999",
            "75368c1090b94816bb71bf5701b9e290",
            "b681111c04c34f2a9b79bc14d8dfc8d9",
            "9a047ced9a274ba1b22d04253c8cdedc",
            "f504be301e3f4cce870c71c0e33848ac",
            "bc2966e509a545898ed46a5325e0a244",
            "6c9a361b6fad4de692702dbda45ba03b",
            "072d87451c7a496ebf1fee6563e7643f",
            "3623655579e14c019424c18ce513a960",
            "cabd60e9c664493fa67b5780bbcfc6e3",
            "114040e3eea843cd9896cd2572a60a70",
            "9b1a93c33da14815bce6bf18c92f1dff",
            "959c9addea854c1eb1b5fa7356a0759a",
            "a13dfd4b65994793942e4cd697322894",
            "aade75ee02004e6986772cc64f71be50",
            "b776e5a4cc2f49c68956db87a661280b",
            "23193067a233489ebb683c349f11ab6b",
            "164f81d60ead46a98a53bbaec1a6f101",
            "f85a3349ebd44a8e9ae3a2d1cef74283",
            "f72bbf3af1a9439e95c930b221143a78",
            "c7b47d0c352045f1b4d68a2cd99cd572",
            "da82be683eb540b2910c592409507a60",
            "754fd86e6315487fb173717d784dbbcc",
            "78e2070de8ca4276b0bc8b4e509ba4c7",
            "ebdcc4a762d246119de87fa4f53e09ed",
            "665b71f1c66749bf96175239265dacc4",
            "0d19458b7bf54dcb9459bd7a104189d0",
            "213ca92b6e474b5a90bc2542921cb832",
            "c680d927673c42638c18f141e29513a6",
            "7d4c3dc0867945c4b3fbb7a392328c0a",
            "7fe45a00ab2145558d1eed3cb71f1a8c",
            "fa15f766221842d48b9d6687d9164e70",
            "03152a6b069847d180a1104421c98a22",
            "3349723fdf7b4bb78ae0a1adddc20aec",
            "ebf4a1542ff34adb990062f48f343b39",
            "9ade9fbc4c6a4b8a9915bc597a9198c5",
            "5998c1ca9ed447a28963029b8a33fb56",
            "0d3950e88c27464ca3d49c5352ad8313",
            "39204c17f39a44279988a73f7df3dfe8",
            "81a6be2fc4e84c00b8149beef1aa0c1a",
            "140492744dc64644ae19d74994c2c0fb",
            "6b1b5f8abea8456c8dd82954d1c61a7e",
            "4bdcaaaf19044234b36663f1c63face0",
            "6d4550e085bf4975b475eb2f43cbefdf",
            "764c65c2683148359cff6659bd5c5945",
            "4ab201c7a7264c7cbe9ecf33e246e5b0",
            "b9e1551f52af459e9561437185fe802f",
            "1b9dbe153cdf4ef2a4e01329abef7d08"
          ]
        },
        "id": "ZfSCGWfluFw0",
        "outputId": "0d78d443-8241-46f4-f585-d0dcd2fe8f2e"
      }
    },
    {
      "cell_type": "markdown",
      "source": [
        "# Setting up the best model\n",
        "Using the best values from the hyperparamter search with wandb, the most optimal model configuration is used."
      ],
      "metadata": {
        "id": "gFTu29dbi18i"
      }
    },
    {
      "cell_type": "code",
      "execution_count": null,
      "source": [
        "best_config = {\n",
        "        'epochs': 50,\n",
        "        'batch_size': 32,\n",
        "        'dropout': 0.2,\n",
        "        'input_size': 100,\n",
        "        'hidden_size': 100,\n",
        "        'learning_rate': 0.005,\n",
        "        'optimizer': 'Nadam',\n",
        "        'activation': 'tanh',\n",
        "    }"
      ],
      "outputs": [],
      "metadata": {}
    },
    {
      "cell_type": "code",
      "execution_count": 16,
      "source": [
        "# clearing the settings on the keras backend\n",
        "keras.backend.clear_session()\n",
        "\n",
        "# setting keras model to sequential mode\n",
        "model = Sequential()\n",
        "\n",
        "# input layer\n",
        "model.add(GRU(units=100, return_sequences=True, input_shape=(window_len, 1), activation='tanh'))\n",
        "model.add(Dropout(0.2))\n",
        "# hidden layer\n",
        "model.add(GRU(units=100))\n",
        "model.add(Dropout(0.2))\n",
        "model.add(Dense(units=1))\n",
        "\n",
        "# defining the optimiser\n",
        "optimizer = keras.optimizers.Nadam(learning_rate=0.005)\n",
        "\n",
        "# compile the model\n",
        "model.compile(optimizer, loss='mean_squared_error')\n",
        "\n",
        "# counting the number of trainable parameters\n",
        "trainable_count = count_params(model.trainable_weights)\n",
        "print('Total number of trainable parameters: ', trainable_count)"
      ],
      "outputs": [
        {
          "output_type": "stream",
          "name": "stdout",
          "text": [
            "Total number of trainable parameters:  91601\n"
          ]
        }
      ],
      "metadata": {
        "colab": {
          "base_uri": "https://localhost:8080/"
        },
        "id": "OU7NXYBg1T4r",
        "outputId": "8b1a1e5b-dfb1-4435-933c-e633f4df116e"
      }
    },
    {
      "cell_type": "code",
      "execution_count": 17,
      "source": [
        "# fitting the model to the training dataset\n",
        "model.fit(X_train, y_train, epochs=50, batch_size=32)"
      ],
      "outputs": [
        {
          "output_type": "stream",
          "name": "stdout",
          "text": [
            "Epoch 1/50\n",
            "40/40 [==============================] - 4s 6ms/step - loss: 0.0476\n",
            "Epoch 2/50\n",
            "40/40 [==============================] - 0s 6ms/step - loss: 0.0037\n",
            "Epoch 3/50\n",
            "40/40 [==============================] - 0s 6ms/step - loss: 0.0043\n",
            "Epoch 4/50\n",
            "40/40 [==============================] - 0s 6ms/step - loss: 0.0039\n",
            "Epoch 5/50\n",
            "40/40 [==============================] - 0s 6ms/step - loss: 0.0025\n",
            "Epoch 6/50\n",
            "40/40 [==============================] - 0s 6ms/step - loss: 0.0021\n",
            "Epoch 7/50\n",
            "40/40 [==============================] - 0s 6ms/step - loss: 0.0033\n",
            "Epoch 8/50\n",
            "40/40 [==============================] - 0s 6ms/step - loss: 0.0023\n",
            "Epoch 9/50\n",
            "40/40 [==============================] - 0s 6ms/step - loss: 0.0020\n",
            "Epoch 10/50\n",
            "40/40 [==============================] - 0s 6ms/step - loss: 0.0018\n",
            "Epoch 11/50\n",
            "40/40 [==============================] - 0s 7ms/step - loss: 0.0022\n",
            "Epoch 12/50\n",
            "40/40 [==============================] - 0s 6ms/step - loss: 0.0024\n",
            "Epoch 13/50\n",
            "40/40 [==============================] - 0s 6ms/step - loss: 0.0016\n",
            "Epoch 14/50\n",
            "40/40 [==============================] - 0s 6ms/step - loss: 0.0016\n",
            "Epoch 15/50\n",
            "40/40 [==============================] - 0s 7ms/step - loss: 0.0023\n",
            "Epoch 16/50\n",
            "40/40 [==============================] - 0s 6ms/step - loss: 0.0020\n",
            "Epoch 17/50\n",
            "40/40 [==============================] - 0s 6ms/step - loss: 0.0015\n",
            "Epoch 18/50\n",
            "40/40 [==============================] - 0s 6ms/step - loss: 0.0011\n",
            "Epoch 19/50\n",
            "40/40 [==============================] - 0s 6ms/step - loss: 0.0013\n",
            "Epoch 20/50\n",
            "40/40 [==============================] - 0s 6ms/step - loss: 0.0017\n",
            "Epoch 21/50\n",
            "40/40 [==============================] - 0s 6ms/step - loss: 0.0013\n",
            "Epoch 22/50\n",
            "40/40 [==============================] - 0s 6ms/step - loss: 0.0011\n",
            "Epoch 23/50\n",
            "40/40 [==============================] - 0s 6ms/step - loss: 0.0012\n",
            "Epoch 24/50\n",
            "40/40 [==============================] - 0s 6ms/step - loss: 0.0018\n",
            "Epoch 25/50\n",
            "40/40 [==============================] - 0s 6ms/step - loss: 0.0011\n",
            "Epoch 26/50\n",
            "40/40 [==============================] - 0s 6ms/step - loss: 0.0016\n",
            "Epoch 27/50\n",
            "40/40 [==============================] - 0s 6ms/step - loss: 0.0012\n",
            "Epoch 28/50\n",
            "40/40 [==============================] - 0s 6ms/step - loss: 0.0010\n",
            "Epoch 29/50\n",
            "40/40 [==============================] - 0s 6ms/step - loss: 0.0011\n",
            "Epoch 30/50\n",
            "40/40 [==============================] - 0s 6ms/step - loss: 0.0016\n",
            "Epoch 31/50\n",
            "40/40 [==============================] - 0s 6ms/step - loss: 0.0014\n",
            "Epoch 32/50\n",
            "40/40 [==============================] - 0s 6ms/step - loss: 0.0011\n",
            "Epoch 33/50\n",
            "40/40 [==============================] - 0s 6ms/step - loss: 0.0011\n",
            "Epoch 34/50\n",
            "40/40 [==============================] - 0s 6ms/step - loss: 0.0010\n",
            "Epoch 35/50\n",
            "40/40 [==============================] - 0s 6ms/step - loss: 9.8201e-04\n",
            "Epoch 36/50\n",
            "40/40 [==============================] - 0s 6ms/step - loss: 9.4675e-04\n",
            "Epoch 37/50\n",
            "40/40 [==============================] - 0s 6ms/step - loss: 0.0011\n",
            "Epoch 38/50\n",
            "40/40 [==============================] - 0s 6ms/step - loss: 8.5191e-04\n",
            "Epoch 39/50\n",
            "40/40 [==============================] - 0s 6ms/step - loss: 9.8578e-04\n",
            "Epoch 40/50\n",
            "40/40 [==============================] - 0s 6ms/step - loss: 8.9041e-04\n",
            "Epoch 41/50\n",
            "40/40 [==============================] - 0s 6ms/step - loss: 8.0483e-04\n",
            "Epoch 42/50\n",
            "40/40 [==============================] - 0s 6ms/step - loss: 8.8816e-04\n",
            "Epoch 43/50\n",
            "40/40 [==============================] - 0s 6ms/step - loss: 9.2073e-04\n",
            "Epoch 44/50\n",
            "40/40 [==============================] - 0s 6ms/step - loss: 0.0011\n",
            "Epoch 45/50\n",
            "40/40 [==============================] - 0s 6ms/step - loss: 8.2050e-04\n",
            "Epoch 46/50\n",
            "40/40 [==============================] - 0s 6ms/step - loss: 0.0012\n",
            "Epoch 47/50\n",
            "40/40 [==============================] - 0s 6ms/step - loss: 9.2596e-04\n",
            "Epoch 48/50\n",
            "40/40 [==============================] - 0s 6ms/step - loss: 8.2934e-04\n",
            "Epoch 49/50\n",
            "40/40 [==============================] - 0s 6ms/step - loss: 0.0014\n",
            "Epoch 50/50\n",
            "40/40 [==============================] - 0s 7ms/step - loss: 8.8172e-04\n"
          ]
        },
        {
          "output_type": "execute_result",
          "data": {
            "text/plain": [
              "<keras.callbacks.History at 0x7ff4ddbaaed0>"
            ]
          },
          "metadata": {
            "tags": []
          },
          "execution_count": 17
        }
      ],
      "metadata": {
        "colab": {
          "base_uri": "https://localhost:8080/"
        },
        "id": "W3v718GcE39o",
        "outputId": "2d12d3cf-695c-4c70-c59f-5a0785767092"
      }
    },
    {
      "cell_type": "code",
      "execution_count": 18,
      "source": [
        "# creating an instance of Baseline_Model class using X_test\n",
        "base_model = Base_Model(X_test, window_len)\n",
        "# calling predict_y method\n",
        "base_model.predict_y(in_data.test_len - window_len)\n",
        "\n",
        "# using the model to predict y from X_test\n",
        "y_pred = model.predict(X_test)\n",
        "# assigning y_dummy variable to .y_pred class attribute\n",
        "y_dummy = base_model.y_pred\n",
        "\n",
        "# calling class method extract_real_price to generate unnormalised prices\n",
        "in_data.extract_real_prices(y_pred, y_dummy)\n",
        "\n",
        "# assinging y_true variable\n",
        "y_true = in_data.y_true\n",
        "\n",
        "# assigning actual_price, predicted_price and dummy_price\n",
        "actual_price = in_data.actual_price\n",
        "predicted_price = in_data.predicted_price\n",
        "dummy_price = in_data.dummy_price"
      ],
      "outputs": [],
      "metadata": {
        "id": "rTXJN51l9Y-F"
      }
    },
    {
      "cell_type": "markdown",
      "source": [
        "# Plotting the prediction results and getting errors\n",
        "The cells below plot the actual, predicted and dummy prices using the Security_Plotter class before finally saving the model and plot."
      ],
      "metadata": {
        "id": "H-D-XHyRjFMp"
      }
    },
    {
      "cell_type": "code",
      "execution_count": 19,
      "source": [
        "plotter = Security_Plotter(in_data, actual_price, predicted_price,\n",
        "                            dummy_price, in_data.train_len, window_len, in_str)\n",
        "\n",
        "plotter.single_plot()"
      ],
      "outputs": [
        {
          "output_type": "display_data",
          "data": {
            "text/plain": [
              "<Figure size 864x432 with 1 Axes>"
            ],
            "image/png": "[encoded data removed]"
          },
          "metadata": {
            "tags": [],
            "needs_background": "light"
          }
        }
      ],
      "metadata": {
        "colab": {
          "base_uri": "https://localhost:8080/",
          "height": 395
        },
        "id": "PgjvooOD3jq3",
        "outputId": "5b438225-445f-4c53-d916-4b67569028b9"
      }
    },
    {
      "cell_type": "code",
      "execution_count": 20,
      "source": [
        "plot_model(model, show_shapes=True, expand_nested=True)"
      ],
      "outputs": [
        {
          "output_type": "execute_result",
          "data": {
            "text/plain": [
              "<IPython.core.display.Image object>"
            ],
            "image/png": "[encoded data removed]"
          },
          "metadata": {
            "tags": []
          },
          "execution_count": 20
        }
      ],
      "metadata": {
        "id": "AxaH7IUCxSXw",
        "colab": {
          "base_uri": "https://localhost:8080/",
          "height": 644
        },
        "outputId": "cf5022de-7ab9-4f46-cd04-a60dd87b6ffb"
      }
    },
    {
      "cell_type": "code",
      "execution_count": 21,
      "source": [
        "# calculating mean squared error\n",
        "mse = mean_squared_error(y_true, y_pred)\n",
        "\n",
        "# calculating root mean squared error\n",
        "rmse = mean_squared_error(y_true, y_pred, squared=False)\n",
        "\n",
        "# calculating mean absolute error\n",
        "mae = mean_absolute_error(y_true, y_pred)\n",
        "\n",
        "print('MSE: ', mse)\n",
        "print('RMSE: ', rmse)\n",
        "print('MAE: ', mae)"
      ],
      "outputs": [
        {
          "output_type": "stream",
          "name": "stdout",
          "text": [
            "MSE:  0.0029093731890651106\n",
            "RMSE:  0.05393860573897986\n",
            "MAE:  0.041625422901083085\n"
          ]
        }
      ],
      "metadata": {
        "colab": {
          "base_uri": "https://localhost:8080/"
        },
        "id": "bFfQGfb79SJS",
        "outputId": "ecd54d96-cd1d-4b7b-d73e-43c65e66c414"
      }
    },
    {
      "cell_type": "code",
      "execution_count": 22,
      "source": [
        "# creating a string to save the model based on model name\n",
        "save_path = '/content/gdrive/My Drive/models/'+model_str+'_'+in_str+'/'\n",
        "# mounting google drive for easy storage of model\n",
        "from google.colab import drive\n",
        "# mounting the drive\n",
        "drive.mount('/content/gdrive/')\n",
        "# making the relevant directory to store the model\n",
        "os.mkdir(save_path)\n",
        "# saving the model\n",
        "keras.models.save_model(model, save_path)\n",
        "# saving the model graph\n",
        "model_graph = plot_model(model, to_file=save_path+model_str+'_'+in_str+'_graph_.png', show_shapes=True, expand_nested=True)\n",
        "# saving the matplotlib plot\n",
        "plotter.fig.savefig(save_path+model_str+'_'+in_str+'_plot.png', bbox_inches='tight')\n",
        "# saving the error metrics as a text file\n",
        "error_file = open(save_path+model_str+'_'+in_str+'_metrics.txt', 'w+')\n",
        "error_file.write('MSE:'+str(mse)+'\\n'+'RMSE: '+str(rmse)+'\\n'+'MAE: '+str(mae)+'\\n')\n",
        "error_file.close()"
      ],
      "outputs": [
        {
          "output_type": "stream",
          "name": "stdout",
          "text": [
            "Mounted at /content/gdrive/\n"
          ]
        },
        {
          "output_type": "stream",
          "name": "stderr",
          "text": [
            "WARNING:absl:Found untraced functions such as gru_cell_layer_call_fn, gru_cell_layer_call_and_return_conditional_losses, gru_cell_1_layer_call_fn, gru_cell_1_layer_call_and_return_conditional_losses, gru_cell_layer_call_fn while saving (showing 5 of 10). These functions will not be directly callable after loading.\n"
          ]
        },
        {
          "output_type": "stream",
          "name": "stdout",
          "text": [
            "INFO:tensorflow:Assets written to: /content/gdrive/My Drive/models/GRU_GBPUSD/assets\n"
          ]
        },
        {
          "output_type": "stream",
          "name": "stderr",
          "text": [
            "INFO:tensorflow:Assets written to: /content/gdrive/My Drive/models/GRU_GBPUSD/assets\n"
          ]
        }
      ],
      "metadata": {
        "id": "4YttzJHHU4-s",
        "colab": {
          "base_uri": "https://localhost:8080/"
        },
        "outputId": "1d5cccf6-82ee-4b19-b14c-3eae21289c1b"
      }
    }
  ]
}