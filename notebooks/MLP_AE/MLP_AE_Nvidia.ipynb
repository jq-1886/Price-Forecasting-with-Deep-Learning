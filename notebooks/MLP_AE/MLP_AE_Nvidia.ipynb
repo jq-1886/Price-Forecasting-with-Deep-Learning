{
  "nbformat": 4,
  "nbformat_minor": 0,
  "metadata": {
    "accelerator": "GPU",
    "colab": {
      "name": "MLP_AE_Nvidia.ipynb",
      "provenance": [],
      "collapsed_sections": [],
      "authorship_tag": "ABX9TyPioeY1hO70f/atnK9Dur0J",
      "include_colab_link": true
    },
    "kernelspec": {
      "display_name": "Python 3",
      "name": "python3"
    },
    "language_info": {
      "name": "python"
    },
    "widgets": {
      "application/vnd.jupyter.widget-state+json": {
        "e2fc8d5399b84e9d93eddfa5aa9b6f6e": {
          "model_module": "@jupyter-widgets/controls",
          "model_name": "VBoxModel",
          "state": {
            "_view_name": "VBoxView",
            "_dom_classes": [],
            "_model_name": "VBoxModel",
            "_view_module": "@jupyter-widgets/controls",
            "_model_module_version": "1.5.0",
            "_view_count": null,
            "_view_module_version": "1.5.0",
            "box_style": "",
            "layout": "IPY_MODEL_bfc3db6f8aca4f628b6e61e32cd74c08",
            "_model_module": "@jupyter-widgets/controls",
            "children": [
              "IPY_MODEL_003969277f7c48cda772d8b84550732f",
              "IPY_MODEL_b025367e372343238b669e7d7cfec20c"
            ]
          }
        },
        "bfc3db6f8aca4f628b6e61e32cd74c08": {
          "model_module": "@jupyter-widgets/base",
          "model_name": "LayoutModel",
          "state": {
            "_view_name": "LayoutView",
            "grid_template_rows": null,
            "right": null,
            "justify_content": null,
            "_view_module": "@jupyter-widgets/base",
            "overflow": null,
            "_model_module_version": "1.2.0",
            "_view_count": null,
            "flex_flow": null,
            "width": null,
            "min_width": null,
            "border": null,
            "align_items": null,
            "bottom": null,
            "_model_module": "@jupyter-widgets/base",
            "top": null,
            "grid_column": null,
            "overflow_y": null,
            "overflow_x": null,
            "grid_auto_flow": null,
            "grid_area": null,
            "grid_template_columns": null,
            "flex": null,
            "_model_name": "LayoutModel",
            "justify_items": null,
            "grid_row": null,
            "max_height": null,
            "align_content": null,
            "visibility": null,
            "align_self": null,
            "height": null,
            "min_height": null,
            "padding": null,
            "grid_auto_rows": null,
            "grid_gap": null,
            "max_width": null,
            "order": null,
            "_view_module_version": "1.2.0",
            "grid_template_areas": null,
            "object_position": null,
            "object_fit": null,
            "grid_auto_columns": null,
            "margin": null,
            "display": null,
            "left": null
          }
        },
        "003969277f7c48cda772d8b84550732f": {
          "model_module": "@jupyter-widgets/controls",
          "model_name": "LabelModel",
          "state": {
            "_view_name": "LabelView",
            "style": "IPY_MODEL_5c921ef440a44d6cad8ca636e8f1540b",
            "_dom_classes": [],
            "description": "",
            "_model_name": "LabelModel",
            "placeholder": "​",
            "_view_module": "@jupyter-widgets/controls",
            "_model_module_version": "1.5.0",
            "value": " 1.01MB of 1.01MB uploaded (0.00MB deduped)\r",
            "_view_count": null,
            "_view_module_version": "1.5.0",
            "description_tooltip": null,
            "_model_module": "@jupyter-widgets/controls",
            "layout": "IPY_MODEL_8b4484563c4e4fbd9662268e2f4acf20"
          }
        },
        "b025367e372343238b669e7d7cfec20c": {
          "model_module": "@jupyter-widgets/controls",
          "model_name": "FloatProgressModel",
          "state": {
            "_view_name": "ProgressView",
            "style": "IPY_MODEL_aad0cf2f560e4f0981df40370c65e89e",
            "_dom_classes": [],
            "description": "",
            "_model_name": "FloatProgressModel",
            "bar_style": "",
            "max": 1,
            "_view_module": "@jupyter-widgets/controls",
            "_model_module_version": "1.5.0",
            "value": 1,
            "_view_count": null,
            "_view_module_version": "1.5.0",
            "orientation": "horizontal",
            "min": 0,
            "description_tooltip": null,
            "_model_module": "@jupyter-widgets/controls",
            "layout": "IPY_MODEL_260bb0fcc7214bb882aa6f55177d18f1"
          }
        },
        "5c921ef440a44d6cad8ca636e8f1540b": {
          "model_module": "@jupyter-widgets/controls",
          "model_name": "DescriptionStyleModel",
          "state": {
            "_view_name": "StyleView",
            "_model_name": "DescriptionStyleModel",
            "description_width": "",
            "_view_module": "@jupyter-widgets/base",
            "_model_module_version": "1.5.0",
            "_view_count": null,
            "_view_module_version": "1.2.0",
            "_model_module": "@jupyter-widgets/controls"
          }
        },
        "8b4484563c4e4fbd9662268e2f4acf20": {
          "model_module": "@jupyter-widgets/base",
          "model_name": "LayoutModel",
          "state": {
            "_view_name": "LayoutView",
            "grid_template_rows": null,
            "right": null,
            "justify_content": null,
            "_view_module": "@jupyter-widgets/base",
            "overflow": null,
            "_model_module_version": "1.2.0",
            "_view_count": null,
            "flex_flow": null,
            "width": null,
            "min_width": null,
            "border": null,
            "align_items": null,
            "bottom": null,
            "_model_module": "@jupyter-widgets/base",
            "top": null,
            "grid_column": null,
            "overflow_y": null,
            "overflow_x": null,
            "grid_auto_flow": null,
            "grid_area": null,
            "grid_template_columns": null,
            "flex": null,
            "_model_name": "LayoutModel",
            "justify_items": null,
            "grid_row": null,
            "max_height": null,
            "align_content": null,
            "visibility": null,
            "align_self": null,
            "height": null,
            "min_height": null,
            "padding": null,
            "grid_auto_rows": null,
            "grid_gap": null,
            "max_width": null,
            "order": null,
            "_view_module_version": "1.2.0",
            "grid_template_areas": null,
            "object_position": null,
            "object_fit": null,
            "grid_auto_columns": null,
            "margin": null,
            "display": null,
            "left": null
          }
        },
        "aad0cf2f560e4f0981df40370c65e89e": {
          "model_module": "@jupyter-widgets/controls",
          "model_name": "ProgressStyleModel",
          "state": {
            "_view_name": "StyleView",
            "_model_name": "ProgressStyleModel",
            "description_width": "",
            "_view_module": "@jupyter-widgets/base",
            "_model_module_version": "1.5.0",
            "_view_count": null,
            "_view_module_version": "1.2.0",
            "bar_color": null,
            "_model_module": "@jupyter-widgets/controls"
          }
        },
        "260bb0fcc7214bb882aa6f55177d18f1": {
          "model_module": "@jupyter-widgets/base",
          "model_name": "LayoutModel",
          "state": {
            "_view_name": "LayoutView",
            "grid_template_rows": null,
            "right": null,
            "justify_content": null,
            "_view_module": "@jupyter-widgets/base",
            "overflow": null,
            "_model_module_version": "1.2.0",
            "_view_count": null,
            "flex_flow": null,
            "width": null,
            "min_width": null,
            "border": null,
            "align_items": null,
            "bottom": null,
            "_model_module": "@jupyter-widgets/base",
            "top": null,
            "grid_column": null,
            "overflow_y": null,
            "overflow_x": null,
            "grid_auto_flow": null,
            "grid_area": null,
            "grid_template_columns": null,
            "flex": null,
            "_model_name": "LayoutModel",
            "justify_items": null,
            "grid_row": null,
            "max_height": null,
            "align_content": null,
            "visibility": null,
            "align_self": null,
            "height": null,
            "min_height": null,
            "padding": null,
            "grid_auto_rows": null,
            "grid_gap": null,
            "max_width": null,
            "order": null,
            "_view_module_version": "1.2.0",
            "grid_template_areas": null,
            "object_position": null,
            "object_fit": null,
            "grid_auto_columns": null,
            "margin": null,
            "display": null,
            "left": null
          }
        },
        "0adb9641e1c5411db50b641c8759d20c": {
          "model_module": "@jupyter-widgets/controls",
          "model_name": "VBoxModel",
          "state": {
            "_view_name": "VBoxView",
            "_dom_classes": [],
            "_model_name": "VBoxModel",
            "_view_module": "@jupyter-widgets/controls",
            "_model_module_version": "1.5.0",
            "_view_count": null,
            "_view_module_version": "1.5.0",
            "box_style": "",
            "layout": "IPY_MODEL_9ce42a104feb4b1f929a7388f4dec748",
            "_model_module": "@jupyter-widgets/controls",
            "children": [
              "IPY_MODEL_d00242df64dd41248d628f750f6c3f2d",
              "IPY_MODEL_366df57dfe2c4877a73a2eeb1fdce734"
            ]
          }
        },
        "9ce42a104feb4b1f929a7388f4dec748": {
          "model_module": "@jupyter-widgets/base",
          "model_name": "LayoutModel",
          "state": {
            "_view_name": "LayoutView",
            "grid_template_rows": null,
            "right": null,
            "justify_content": null,
            "_view_module": "@jupyter-widgets/base",
            "overflow": null,
            "_model_module_version": "1.2.0",
            "_view_count": null,
            "flex_flow": null,
            "width": null,
            "min_width": null,
            "border": null,
            "align_items": null,
            "bottom": null,
            "_model_module": "@jupyter-widgets/base",
            "top": null,
            "grid_column": null,
            "overflow_y": null,
            "overflow_x": null,
            "grid_auto_flow": null,
            "grid_area": null,
            "grid_template_columns": null,
            "flex": null,
            "_model_name": "LayoutModel",
            "justify_items": null,
            "grid_row": null,
            "max_height": null,
            "align_content": null,
            "visibility": null,
            "align_self": null,
            "height": null,
            "min_height": null,
            "padding": null,
            "grid_auto_rows": null,
            "grid_gap": null,
            "max_width": null,
            "order": null,
            "_view_module_version": "1.2.0",
            "grid_template_areas": null,
            "object_position": null,
            "object_fit": null,
            "grid_auto_columns": null,
            "margin": null,
            "display": null,
            "left": null
          }
        },
        "d00242df64dd41248d628f750f6c3f2d": {
          "model_module": "@jupyter-widgets/controls",
          "model_name": "LabelModel",
          "state": {
            "_view_name": "LabelView",
            "style": "IPY_MODEL_0f1b178fdc784261b029ab56d60e8ed6",
            "_dom_classes": [],
            "description": "",
            "_model_name": "LabelModel",
            "placeholder": "​",
            "_view_module": "@jupyter-widgets/controls",
            "_model_module_version": "1.5.0",
            "value": " 1.39MB of 1.39MB uploaded (0.00MB deduped)\r",
            "_view_count": null,
            "_view_module_version": "1.5.0",
            "description_tooltip": null,
            "_model_module": "@jupyter-widgets/controls",
            "layout": "IPY_MODEL_3c811c28394645f9b17c96bffdbc356e"
          }
        },
        "366df57dfe2c4877a73a2eeb1fdce734": {
          "model_module": "@jupyter-widgets/controls",
          "model_name": "FloatProgressModel",
          "state": {
            "_view_name": "ProgressView",
            "style": "IPY_MODEL_e1e70c4737f047a2824f9fd57a9aa1b0",
            "_dom_classes": [],
            "description": "",
            "_model_name": "FloatProgressModel",
            "bar_style": "",
            "max": 1,
            "_view_module": "@jupyter-widgets/controls",
            "_model_module_version": "1.5.0",
            "value": 1,
            "_view_count": null,
            "_view_module_version": "1.5.0",
            "orientation": "horizontal",
            "min": 0,
            "description_tooltip": null,
            "_model_module": "@jupyter-widgets/controls",
            "layout": "IPY_MODEL_2d91e78916724809973b91a266f3e96b"
          }
        },
        "0f1b178fdc784261b029ab56d60e8ed6": {
          "model_module": "@jupyter-widgets/controls",
          "model_name": "DescriptionStyleModel",
          "state": {
            "_view_name": "StyleView",
            "_model_name": "DescriptionStyleModel",
            "description_width": "",
            "_view_module": "@jupyter-widgets/base",
            "_model_module_version": "1.5.0",
            "_view_count": null,
            "_view_module_version": "1.2.0",
            "_model_module": "@jupyter-widgets/controls"
          }
        },
        "3c811c28394645f9b17c96bffdbc356e": {
          "model_module": "@jupyter-widgets/base",
          "model_name": "LayoutModel",
          "state": {
            "_view_name": "LayoutView",
            "grid_template_rows": null,
            "right": null,
            "justify_content": null,
            "_view_module": "@jupyter-widgets/base",
            "overflow": null,
            "_model_module_version": "1.2.0",
            "_view_count": null,
            "flex_flow": null,
            "width": null,
            "min_width": null,
            "border": null,
            "align_items": null,
            "bottom": null,
            "_model_module": "@jupyter-widgets/base",
            "top": null,
            "grid_column": null,
            "overflow_y": null,
            "overflow_x": null,
            "grid_auto_flow": null,
            "grid_area": null,
            "grid_template_columns": null,
            "flex": null,
            "_model_name": "LayoutModel",
            "justify_items": null,
            "grid_row": null,
            "max_height": null,
            "align_content": null,
            "visibility": null,
            "align_self": null,
            "height": null,
            "min_height": null,
            "padding": null,
            "grid_auto_rows": null,
            "grid_gap": null,
            "max_width": null,
            "order": null,
            "_view_module_version": "1.2.0",
            "grid_template_areas": null,
            "object_position": null,
            "object_fit": null,
            "grid_auto_columns": null,
            "margin": null,
            "display": null,
            "left": null
          }
        },
        "e1e70c4737f047a2824f9fd57a9aa1b0": {
          "model_module": "@jupyter-widgets/controls",
          "model_name": "ProgressStyleModel",
          "state": {
            "_view_name": "StyleView",
            "_model_name": "ProgressStyleModel",
            "description_width": "",
            "_view_module": "@jupyter-widgets/base",
            "_model_module_version": "1.5.0",
            "_view_count": null,
            "_view_module_version": "1.2.0",
            "bar_color": null,
            "_model_module": "@jupyter-widgets/controls"
          }
        },
        "2d91e78916724809973b91a266f3e96b": {
          "model_module": "@jupyter-widgets/base",
          "model_name": "LayoutModel",
          "state": {
            "_view_name": "LayoutView",
            "grid_template_rows": null,
            "right": null,
            "justify_content": null,
            "_view_module": "@jupyter-widgets/base",
            "overflow": null,
            "_model_module_version": "1.2.0",
            "_view_count": null,
            "flex_flow": null,
            "width": null,
            "min_width": null,
            "border": null,
            "align_items": null,
            "bottom": null,
            "_model_module": "@jupyter-widgets/base",
            "top": null,
            "grid_column": null,
            "overflow_y": null,
            "overflow_x": null,
            "grid_auto_flow": null,
            "grid_area": null,
            "grid_template_columns": null,
            "flex": null,
            "_model_name": "LayoutModel",
            "justify_items": null,
            "grid_row": null,
            "max_height": null,
            "align_content": null,
            "visibility": null,
            "align_self": null,
            "height": null,
            "min_height": null,
            "padding": null,
            "grid_auto_rows": null,
            "grid_gap": null,
            "max_width": null,
            "order": null,
            "_view_module_version": "1.2.0",
            "grid_template_areas": null,
            "object_position": null,
            "object_fit": null,
            "grid_auto_columns": null,
            "margin": null,
            "display": null,
            "left": null
          }
        },
        "1ea9e0e4019a42d1b920ea4dc6663786": {
          "model_module": "@jupyter-widgets/controls",
          "model_name": "VBoxModel",
          "state": {
            "_view_name": "VBoxView",
            "_dom_classes": [],
            "_model_name": "VBoxModel",
            "_view_module": "@jupyter-widgets/controls",
            "_model_module_version": "1.5.0",
            "_view_count": null,
            "_view_module_version": "1.5.0",
            "box_style": "",
            "layout": "IPY_MODEL_b948ea8d43464b99a3fc1ba620399fa9",
            "_model_module": "@jupyter-widgets/controls",
            "children": [
              "IPY_MODEL_dcba424201e74501b7e14a98b6f9b569",
              "IPY_MODEL_aba91569bc484bbf95f28b6bc74f1f2c"
            ]
          }
        },
        "b948ea8d43464b99a3fc1ba620399fa9": {
          "model_module": "@jupyter-widgets/base",
          "model_name": "LayoutModel",
          "state": {
            "_view_name": "LayoutView",
            "grid_template_rows": null,
            "right": null,
            "justify_content": null,
            "_view_module": "@jupyter-widgets/base",
            "overflow": null,
            "_model_module_version": "1.2.0",
            "_view_count": null,
            "flex_flow": null,
            "width": null,
            "min_width": null,
            "border": null,
            "align_items": null,
            "bottom": null,
            "_model_module": "@jupyter-widgets/base",
            "top": null,
            "grid_column": null,
            "overflow_y": null,
            "overflow_x": null,
            "grid_auto_flow": null,
            "grid_area": null,
            "grid_template_columns": null,
            "flex": null,
            "_model_name": "LayoutModel",
            "justify_items": null,
            "grid_row": null,
            "max_height": null,
            "align_content": null,
            "visibility": null,
            "align_self": null,
            "height": null,
            "min_height": null,
            "padding": null,
            "grid_auto_rows": null,
            "grid_gap": null,
            "max_width": null,
            "order": null,
            "_view_module_version": "1.2.0",
            "grid_template_areas": null,
            "object_position": null,
            "object_fit": null,
            "grid_auto_columns": null,
            "margin": null,
            "display": null,
            "left": null
          }
        },
        "dcba424201e74501b7e14a98b6f9b569": {
          "model_module": "@jupyter-widgets/controls",
          "model_name": "LabelModel",
          "state": {
            "_view_name": "LabelView",
            "style": "IPY_MODEL_a4afad05121c4f4a9244e3ffe40342a8",
            "_dom_classes": [],
            "description": "",
            "_model_name": "LabelModel",
            "placeholder": "​",
            "_view_module": "@jupyter-widgets/controls",
            "_model_module_version": "1.5.0",
            "value": " 1.07MB of 1.07MB uploaded (0.00MB deduped)\r",
            "_view_count": null,
            "_view_module_version": "1.5.0",
            "description_tooltip": null,
            "_model_module": "@jupyter-widgets/controls",
            "layout": "IPY_MODEL_002f23bad15249fd8851c23f80f11cd5"
          }
        },
        "aba91569bc484bbf95f28b6bc74f1f2c": {
          "model_module": "@jupyter-widgets/controls",
          "model_name": "FloatProgressModel",
          "state": {
            "_view_name": "ProgressView",
            "style": "IPY_MODEL_9610bcc01d8e48f485ef74c2436d3934",
            "_dom_classes": [],
            "description": "",
            "_model_name": "FloatProgressModel",
            "bar_style": "",
            "max": 1,
            "_view_module": "@jupyter-widgets/controls",
            "_model_module_version": "1.5.0",
            "value": 1,
            "_view_count": null,
            "_view_module_version": "1.5.0",
            "orientation": "horizontal",
            "min": 0,
            "description_tooltip": null,
            "_model_module": "@jupyter-widgets/controls",
            "layout": "IPY_MODEL_b608e9c7fd544b279db8bd73cf63c9d4"
          }
        },
        "a4afad05121c4f4a9244e3ffe40342a8": {
          "model_module": "@jupyter-widgets/controls",
          "model_name": "DescriptionStyleModel",
          "state": {
            "_view_name": "StyleView",
            "_model_name": "DescriptionStyleModel",
            "description_width": "",
            "_view_module": "@jupyter-widgets/base",
            "_model_module_version": "1.5.0",
            "_view_count": null,
            "_view_module_version": "1.2.0",
            "_model_module": "@jupyter-widgets/controls"
          }
        },
        "002f23bad15249fd8851c23f80f11cd5": {
          "model_module": "@jupyter-widgets/base",
          "model_name": "LayoutModel",
          "state": {
            "_view_name": "LayoutView",
            "grid_template_rows": null,
            "right": null,
            "justify_content": null,
            "_view_module": "@jupyter-widgets/base",
            "overflow": null,
            "_model_module_version": "1.2.0",
            "_view_count": null,
            "flex_flow": null,
            "width": null,
            "min_width": null,
            "border": null,
            "align_items": null,
            "bottom": null,
            "_model_module": "@jupyter-widgets/base",
            "top": null,
            "grid_column": null,
            "overflow_y": null,
            "overflow_x": null,
            "grid_auto_flow": null,
            "grid_area": null,
            "grid_template_columns": null,
            "flex": null,
            "_model_name": "LayoutModel",
            "justify_items": null,
            "grid_row": null,
            "max_height": null,
            "align_content": null,
            "visibility": null,
            "align_self": null,
            "height": null,
            "min_height": null,
            "padding": null,
            "grid_auto_rows": null,
            "grid_gap": null,
            "max_width": null,
            "order": null,
            "_view_module_version": "1.2.0",
            "grid_template_areas": null,
            "object_position": null,
            "object_fit": null,
            "grid_auto_columns": null,
            "margin": null,
            "display": null,
            "left": null
          }
        },
        "9610bcc01d8e48f485ef74c2436d3934": {
          "model_module": "@jupyter-widgets/controls",
          "model_name": "ProgressStyleModel",
          "state": {
            "_view_name": "StyleView",
            "_model_name": "ProgressStyleModel",
            "description_width": "",
            "_view_module": "@jupyter-widgets/base",
            "_model_module_version": "1.5.0",
            "_view_count": null,
            "_view_module_version": "1.2.0",
            "bar_color": null,
            "_model_module": "@jupyter-widgets/controls"
          }
        },
        "b608e9c7fd544b279db8bd73cf63c9d4": {
          "model_module": "@jupyter-widgets/base",
          "model_name": "LayoutModel",
          "state": {
            "_view_name": "LayoutView",
            "grid_template_rows": null,
            "right": null,
            "justify_content": null,
            "_view_module": "@jupyter-widgets/base",
            "overflow": null,
            "_model_module_version": "1.2.0",
            "_view_count": null,
            "flex_flow": null,
            "width": null,
            "min_width": null,
            "border": null,
            "align_items": null,
            "bottom": null,
            "_model_module": "@jupyter-widgets/base",
            "top": null,
            "grid_column": null,
            "overflow_y": null,
            "overflow_x": null,
            "grid_auto_flow": null,
            "grid_area": null,
            "grid_template_columns": null,
            "flex": null,
            "_model_name": "LayoutModel",
            "justify_items": null,
            "grid_row": null,
            "max_height": null,
            "align_content": null,
            "visibility": null,
            "align_self": null,
            "height": null,
            "min_height": null,
            "padding": null,
            "grid_auto_rows": null,
            "grid_gap": null,
            "max_width": null,
            "order": null,
            "_view_module_version": "1.2.0",
            "grid_template_areas": null,
            "object_position": null,
            "object_fit": null,
            "grid_auto_columns": null,
            "margin": null,
            "display": null,
            "left": null
          }
        },
        "96272f8f66cc498dad952fec4b112026": {
          "model_module": "@jupyter-widgets/controls",
          "model_name": "VBoxModel",
          "state": {
            "_view_name": "VBoxView",
            "_dom_classes": [],
            "_model_name": "VBoxModel",
            "_view_module": "@jupyter-widgets/controls",
            "_model_module_version": "1.5.0",
            "_view_count": null,
            "_view_module_version": "1.5.0",
            "box_style": "",
            "layout": "IPY_MODEL_4e7c462e6d13401aad2c31b46721c111",
            "_model_module": "@jupyter-widgets/controls",
            "children": [
              "IPY_MODEL_97718df657f14452a711c433d1aaa35a",
              "IPY_MODEL_edc299bbdafc4a4e82e6ee1d600e916b"
            ]
          }
        },
        "4e7c462e6d13401aad2c31b46721c111": {
          "model_module": "@jupyter-widgets/base",
          "model_name": "LayoutModel",
          "state": {
            "_view_name": "LayoutView",
            "grid_template_rows": null,
            "right": null,
            "justify_content": null,
            "_view_module": "@jupyter-widgets/base",
            "overflow": null,
            "_model_module_version": "1.2.0",
            "_view_count": null,
            "flex_flow": null,
            "width": null,
            "min_width": null,
            "border": null,
            "align_items": null,
            "bottom": null,
            "_model_module": "@jupyter-widgets/base",
            "top": null,
            "grid_column": null,
            "overflow_y": null,
            "overflow_x": null,
            "grid_auto_flow": null,
            "grid_area": null,
            "grid_template_columns": null,
            "flex": null,
            "_model_name": "LayoutModel",
            "justify_items": null,
            "grid_row": null,
            "max_height": null,
            "align_content": null,
            "visibility": null,
            "align_self": null,
            "height": null,
            "min_height": null,
            "padding": null,
            "grid_auto_rows": null,
            "grid_gap": null,
            "max_width": null,
            "order": null,
            "_view_module_version": "1.2.0",
            "grid_template_areas": null,
            "object_position": null,
            "object_fit": null,
            "grid_auto_columns": null,
            "margin": null,
            "display": null,
            "left": null
          }
        },
        "97718df657f14452a711c433d1aaa35a": {
          "model_module": "@jupyter-widgets/controls",
          "model_name": "LabelModel",
          "state": {
            "_view_name": "LabelView",
            "style": "IPY_MODEL_bfc03d9eabed49059c6e38d46a763da1",
            "_dom_classes": [],
            "description": "",
            "_model_name": "LabelModel",
            "placeholder": "​",
            "_view_module": "@jupyter-widgets/controls",
            "_model_module_version": "1.5.0",
            "value": " 1.43MB of 1.43MB uploaded (0.00MB deduped)\r",
            "_view_count": null,
            "_view_module_version": "1.5.0",
            "description_tooltip": null,
            "_model_module": "@jupyter-widgets/controls",
            "layout": "IPY_MODEL_621b742e810a4c8ca17e00142eb9aa68"
          }
        },
        "edc299bbdafc4a4e82e6ee1d600e916b": {
          "model_module": "@jupyter-widgets/controls",
          "model_name": "FloatProgressModel",
          "state": {
            "_view_name": "ProgressView",
            "style": "IPY_MODEL_7414b4873b6e4137801f99d9094cc181",
            "_dom_classes": [],
            "description": "",
            "_model_name": "FloatProgressModel",
            "bar_style": "",
            "max": 1,
            "_view_module": "@jupyter-widgets/controls",
            "_model_module_version": "1.5.0",
            "value": 1,
            "_view_count": null,
            "_view_module_version": "1.5.0",
            "orientation": "horizontal",
            "min": 0,
            "description_tooltip": null,
            "_model_module": "@jupyter-widgets/controls",
            "layout": "IPY_MODEL_8ec69a883c734c6a8911997b12bc965c"
          }
        },
        "bfc03d9eabed49059c6e38d46a763da1": {
          "model_module": "@jupyter-widgets/controls",
          "model_name": "DescriptionStyleModel",
          "state": {
            "_view_name": "StyleView",
            "_model_name": "DescriptionStyleModel",
            "description_width": "",
            "_view_module": "@jupyter-widgets/base",
            "_model_module_version": "1.5.0",
            "_view_count": null,
            "_view_module_version": "1.2.0",
            "_model_module": "@jupyter-widgets/controls"
          }
        },
        "621b742e810a4c8ca17e00142eb9aa68": {
          "model_module": "@jupyter-widgets/base",
          "model_name": "LayoutModel",
          "state": {
            "_view_name": "LayoutView",
            "grid_template_rows": null,
            "right": null,
            "justify_content": null,
            "_view_module": "@jupyter-widgets/base",
            "overflow": null,
            "_model_module_version": "1.2.0",
            "_view_count": null,
            "flex_flow": null,
            "width": null,
            "min_width": null,
            "border": null,
            "align_items": null,
            "bottom": null,
            "_model_module": "@jupyter-widgets/base",
            "top": null,
            "grid_column": null,
            "overflow_y": null,
            "overflow_x": null,
            "grid_auto_flow": null,
            "grid_area": null,
            "grid_template_columns": null,
            "flex": null,
            "_model_name": "LayoutModel",
            "justify_items": null,
            "grid_row": null,
            "max_height": null,
            "align_content": null,
            "visibility": null,
            "align_self": null,
            "height": null,
            "min_height": null,
            "padding": null,
            "grid_auto_rows": null,
            "grid_gap": null,
            "max_width": null,
            "order": null,
            "_view_module_version": "1.2.0",
            "grid_template_areas": null,
            "object_position": null,
            "object_fit": null,
            "grid_auto_columns": null,
            "margin": null,
            "display": null,
            "left": null
          }
        },
        "7414b4873b6e4137801f99d9094cc181": {
          "model_module": "@jupyter-widgets/controls",
          "model_name": "ProgressStyleModel",
          "state": {
            "_view_name": "StyleView",
            "_model_name": "ProgressStyleModel",
            "description_width": "",
            "_view_module": "@jupyter-widgets/base",
            "_model_module_version": "1.5.0",
            "_view_count": null,
            "_view_module_version": "1.2.0",
            "bar_color": null,
            "_model_module": "@jupyter-widgets/controls"
          }
        },
        "8ec69a883c734c6a8911997b12bc965c": {
          "model_module": "@jupyter-widgets/base",
          "model_name": "LayoutModel",
          "state": {
            "_view_name": "LayoutView",
            "grid_template_rows": null,
            "right": null,
            "justify_content": null,
            "_view_module": "@jupyter-widgets/base",
            "overflow": null,
            "_model_module_version": "1.2.0",
            "_view_count": null,
            "flex_flow": null,
            "width": null,
            "min_width": null,
            "border": null,
            "align_items": null,
            "bottom": null,
            "_model_module": "@jupyter-widgets/base",
            "top": null,
            "grid_column": null,
            "overflow_y": null,
            "overflow_x": null,
            "grid_auto_flow": null,
            "grid_area": null,
            "grid_template_columns": null,
            "flex": null,
            "_model_name": "LayoutModel",
            "justify_items": null,
            "grid_row": null,
            "max_height": null,
            "align_content": null,
            "visibility": null,
            "align_self": null,
            "height": null,
            "min_height": null,
            "padding": null,
            "grid_auto_rows": null,
            "grid_gap": null,
            "max_width": null,
            "order": null,
            "_view_module_version": "1.2.0",
            "grid_template_areas": null,
            "object_position": null,
            "object_fit": null,
            "grid_auto_columns": null,
            "margin": null,
            "display": null,
            "left": null
          }
        },
        "5ab2e6b7450541708d4afd23e818e4ae": {
          "model_module": "@jupyter-widgets/controls",
          "model_name": "VBoxModel",
          "state": {
            "_view_name": "VBoxView",
            "_dom_classes": [],
            "_model_name": "VBoxModel",
            "_view_module": "@jupyter-widgets/controls",
            "_model_module_version": "1.5.0",
            "_view_count": null,
            "_view_module_version": "1.5.0",
            "box_style": "",
            "layout": "IPY_MODEL_f87c0d9380a740fe8a28ce7f2a30354a",
            "_model_module": "@jupyter-widgets/controls",
            "children": [
              "IPY_MODEL_3da16b60cc1d42bc89271f9da3b0d491",
              "IPY_MODEL_1386ec18d05346da8bb1d38316091796"
            ]
          }
        },
        "f87c0d9380a740fe8a28ce7f2a30354a": {
          "model_module": "@jupyter-widgets/base",
          "model_name": "LayoutModel",
          "state": {
            "_view_name": "LayoutView",
            "grid_template_rows": null,
            "right": null,
            "justify_content": null,
            "_view_module": "@jupyter-widgets/base",
            "overflow": null,
            "_model_module_version": "1.2.0",
            "_view_count": null,
            "flex_flow": null,
            "width": null,
            "min_width": null,
            "border": null,
            "align_items": null,
            "bottom": null,
            "_model_module": "@jupyter-widgets/base",
            "top": null,
            "grid_column": null,
            "overflow_y": null,
            "overflow_x": null,
            "grid_auto_flow": null,
            "grid_area": null,
            "grid_template_columns": null,
            "flex": null,
            "_model_name": "LayoutModel",
            "justify_items": null,
            "grid_row": null,
            "max_height": null,
            "align_content": null,
            "visibility": null,
            "align_self": null,
            "height": null,
            "min_height": null,
            "padding": null,
            "grid_auto_rows": null,
            "grid_gap": null,
            "max_width": null,
            "order": null,
            "_view_module_version": "1.2.0",
            "grid_template_areas": null,
            "object_position": null,
            "object_fit": null,
            "grid_auto_columns": null,
            "margin": null,
            "display": null,
            "left": null
          }
        },
        "3da16b60cc1d42bc89271f9da3b0d491": {
          "model_module": "@jupyter-widgets/controls",
          "model_name": "LabelModel",
          "state": {
            "_view_name": "LabelView",
            "style": "IPY_MODEL_9c2b728dd7374ee9b9f3b250d23f1077",
            "_dom_classes": [],
            "description": "",
            "_model_name": "LabelModel",
            "placeholder": "​",
            "_view_module": "@jupyter-widgets/controls",
            "_model_module_version": "1.5.0",
            "value": " 1.12MB of 1.12MB uploaded (0.00MB deduped)\r",
            "_view_count": null,
            "_view_module_version": "1.5.0",
            "description_tooltip": null,
            "_model_module": "@jupyter-widgets/controls",
            "layout": "IPY_MODEL_fbe40bdc6ef6437180bc0ad4a12917f9"
          }
        },
        "1386ec18d05346da8bb1d38316091796": {
          "model_module": "@jupyter-widgets/controls",
          "model_name": "FloatProgressModel",
          "state": {
            "_view_name": "ProgressView",
            "style": "IPY_MODEL_974209692fee4848b22c18c30501657c",
            "_dom_classes": [],
            "description": "",
            "_model_name": "FloatProgressModel",
            "bar_style": "",
            "max": 1,
            "_view_module": "@jupyter-widgets/controls",
            "_model_module_version": "1.5.0",
            "value": 1,
            "_view_count": null,
            "_view_module_version": "1.5.0",
            "orientation": "horizontal",
            "min": 0,
            "description_tooltip": null,
            "_model_module": "@jupyter-widgets/controls",
            "layout": "IPY_MODEL_bf41a02310cf4802a901cef16fb566c0"
          }
        },
        "9c2b728dd7374ee9b9f3b250d23f1077": {
          "model_module": "@jupyter-widgets/controls",
          "model_name": "DescriptionStyleModel",
          "state": {
            "_view_name": "StyleView",
            "_model_name": "DescriptionStyleModel",
            "description_width": "",
            "_view_module": "@jupyter-widgets/base",
            "_model_module_version": "1.5.0",
            "_view_count": null,
            "_view_module_version": "1.2.0",
            "_model_module": "@jupyter-widgets/controls"
          }
        },
        "fbe40bdc6ef6437180bc0ad4a12917f9": {
          "model_module": "@jupyter-widgets/base",
          "model_name": "LayoutModel",
          "state": {
            "_view_name": "LayoutView",
            "grid_template_rows": null,
            "right": null,
            "justify_content": null,
            "_view_module": "@jupyter-widgets/base",
            "overflow": null,
            "_model_module_version": "1.2.0",
            "_view_count": null,
            "flex_flow": null,
            "width": null,
            "min_width": null,
            "border": null,
            "align_items": null,
            "bottom": null,
            "_model_module": "@jupyter-widgets/base",
            "top": null,
            "grid_column": null,
            "overflow_y": null,
            "overflow_x": null,
            "grid_auto_flow": null,
            "grid_area": null,
            "grid_template_columns": null,
            "flex": null,
            "_model_name": "LayoutModel",
            "justify_items": null,
            "grid_row": null,
            "max_height": null,
            "align_content": null,
            "visibility": null,
            "align_self": null,
            "height": null,
            "min_height": null,
            "padding": null,
            "grid_auto_rows": null,
            "grid_gap": null,
            "max_width": null,
            "order": null,
            "_view_module_version": "1.2.0",
            "grid_template_areas": null,
            "object_position": null,
            "object_fit": null,
            "grid_auto_columns": null,
            "margin": null,
            "display": null,
            "left": null
          }
        },
        "974209692fee4848b22c18c30501657c": {
          "model_module": "@jupyter-widgets/controls",
          "model_name": "ProgressStyleModel",
          "state": {
            "_view_name": "StyleView",
            "_model_name": "ProgressStyleModel",
            "description_width": "",
            "_view_module": "@jupyter-widgets/base",
            "_model_module_version": "1.5.0",
            "_view_count": null,
            "_view_module_version": "1.2.0",
            "bar_color": null,
            "_model_module": "@jupyter-widgets/controls"
          }
        },
        "bf41a02310cf4802a901cef16fb566c0": {
          "model_module": "@jupyter-widgets/base",
          "model_name": "LayoutModel",
          "state": {
            "_view_name": "LayoutView",
            "grid_template_rows": null,
            "right": null,
            "justify_content": null,
            "_view_module": "@jupyter-widgets/base",
            "overflow": null,
            "_model_module_version": "1.2.0",
            "_view_count": null,
            "flex_flow": null,
            "width": null,
            "min_width": null,
            "border": null,
            "align_items": null,
            "bottom": null,
            "_model_module": "@jupyter-widgets/base",
            "top": null,
            "grid_column": null,
            "overflow_y": null,
            "overflow_x": null,
            "grid_auto_flow": null,
            "grid_area": null,
            "grid_template_columns": null,
            "flex": null,
            "_model_name": "LayoutModel",
            "justify_items": null,
            "grid_row": null,
            "max_height": null,
            "align_content": null,
            "visibility": null,
            "align_self": null,
            "height": null,
            "min_height": null,
            "padding": null,
            "grid_auto_rows": null,
            "grid_gap": null,
            "max_width": null,
            "order": null,
            "_view_module_version": "1.2.0",
            "grid_template_areas": null,
            "object_position": null,
            "object_fit": null,
            "grid_auto_columns": null,
            "margin": null,
            "display": null,
            "left": null
          }
        },
        "1a2b85f79503462b9ddeb6bfee33b370": {
          "model_module": "@jupyter-widgets/controls",
          "model_name": "VBoxModel",
          "state": {
            "_view_name": "VBoxView",
            "_dom_classes": [],
            "_model_name": "VBoxModel",
            "_view_module": "@jupyter-widgets/controls",
            "_model_module_version": "1.5.0",
            "_view_count": null,
            "_view_module_version": "1.5.0",
            "box_style": "",
            "layout": "IPY_MODEL_18cf98d4de8e4f7dafc410a1d5b941df",
            "_model_module": "@jupyter-widgets/controls",
            "children": [
              "IPY_MODEL_a590c87b3d6f492f9a966a66f619f919",
              "IPY_MODEL_86de98ddc63747a4940a94f178769f87"
            ]
          }
        },
        "18cf98d4de8e4f7dafc410a1d5b941df": {
          "model_module": "@jupyter-widgets/base",
          "model_name": "LayoutModel",
          "state": {
            "_view_name": "LayoutView",
            "grid_template_rows": null,
            "right": null,
            "justify_content": null,
            "_view_module": "@jupyter-widgets/base",
            "overflow": null,
            "_model_module_version": "1.2.0",
            "_view_count": null,
            "flex_flow": null,
            "width": null,
            "min_width": null,
            "border": null,
            "align_items": null,
            "bottom": null,
            "_model_module": "@jupyter-widgets/base",
            "top": null,
            "grid_column": null,
            "overflow_y": null,
            "overflow_x": null,
            "grid_auto_flow": null,
            "grid_area": null,
            "grid_template_columns": null,
            "flex": null,
            "_model_name": "LayoutModel",
            "justify_items": null,
            "grid_row": null,
            "max_height": null,
            "align_content": null,
            "visibility": null,
            "align_self": null,
            "height": null,
            "min_height": null,
            "padding": null,
            "grid_auto_rows": null,
            "grid_gap": null,
            "max_width": null,
            "order": null,
            "_view_module_version": "1.2.0",
            "grid_template_areas": null,
            "object_position": null,
            "object_fit": null,
            "grid_auto_columns": null,
            "margin": null,
            "display": null,
            "left": null
          }
        },
        "a590c87b3d6f492f9a966a66f619f919": {
          "model_module": "@jupyter-widgets/controls",
          "model_name": "LabelModel",
          "state": {
            "_view_name": "LabelView",
            "style": "IPY_MODEL_80fbfac3a9e44810bbd4f951f67b6be6",
            "_dom_classes": [],
            "description": "",
            "_model_name": "LabelModel",
            "placeholder": "​",
            "_view_module": "@jupyter-widgets/controls",
            "_model_module_version": "1.5.0",
            "value": " 1.13MB of 1.13MB uploaded (0.00MB deduped)\r",
            "_view_count": null,
            "_view_module_version": "1.5.0",
            "description_tooltip": null,
            "_model_module": "@jupyter-widgets/controls",
            "layout": "IPY_MODEL_89923fb822e84450b20b1109ea73d358"
          }
        },
        "86de98ddc63747a4940a94f178769f87": {
          "model_module": "@jupyter-widgets/controls",
          "model_name": "FloatProgressModel",
          "state": {
            "_view_name": "ProgressView",
            "style": "IPY_MODEL_25bee72bf15f4ed38655a0c3678f6a1a",
            "_dom_classes": [],
            "description": "",
            "_model_name": "FloatProgressModel",
            "bar_style": "",
            "max": 1,
            "_view_module": "@jupyter-widgets/controls",
            "_model_module_version": "1.5.0",
            "value": 1,
            "_view_count": null,
            "_view_module_version": "1.5.0",
            "orientation": "horizontal",
            "min": 0,
            "description_tooltip": null,
            "_model_module": "@jupyter-widgets/controls",
            "layout": "IPY_MODEL_5029ec945a304b03843227e719a8d918"
          }
        },
        "80fbfac3a9e44810bbd4f951f67b6be6": {
          "model_module": "@jupyter-widgets/controls",
          "model_name": "DescriptionStyleModel",
          "state": {
            "_view_name": "StyleView",
            "_model_name": "DescriptionStyleModel",
            "description_width": "",
            "_view_module": "@jupyter-widgets/base",
            "_model_module_version": "1.5.0",
            "_view_count": null,
            "_view_module_version": "1.2.0",
            "_model_module": "@jupyter-widgets/controls"
          }
        },
        "89923fb822e84450b20b1109ea73d358": {
          "model_module": "@jupyter-widgets/base",
          "model_name": "LayoutModel",
          "state": {
            "_view_name": "LayoutView",
            "grid_template_rows": null,
            "right": null,
            "justify_content": null,
            "_view_module": "@jupyter-widgets/base",
            "overflow": null,
            "_model_module_version": "1.2.0",
            "_view_count": null,
            "flex_flow": null,
            "width": null,
            "min_width": null,
            "border": null,
            "align_items": null,
            "bottom": null,
            "_model_module": "@jupyter-widgets/base",
            "top": null,
            "grid_column": null,
            "overflow_y": null,
            "overflow_x": null,
            "grid_auto_flow": null,
            "grid_area": null,
            "grid_template_columns": null,
            "flex": null,
            "_model_name": "LayoutModel",
            "justify_items": null,
            "grid_row": null,
            "max_height": null,
            "align_content": null,
            "visibility": null,
            "align_self": null,
            "height": null,
            "min_height": null,
            "padding": null,
            "grid_auto_rows": null,
            "grid_gap": null,
            "max_width": null,
            "order": null,
            "_view_module_version": "1.2.0",
            "grid_template_areas": null,
            "object_position": null,
            "object_fit": null,
            "grid_auto_columns": null,
            "margin": null,
            "display": null,
            "left": null
          }
        },
        "25bee72bf15f4ed38655a0c3678f6a1a": {
          "model_module": "@jupyter-widgets/controls",
          "model_name": "ProgressStyleModel",
          "state": {
            "_view_name": "StyleView",
            "_model_name": "ProgressStyleModel",
            "description_width": "",
            "_view_module": "@jupyter-widgets/base",
            "_model_module_version": "1.5.0",
            "_view_count": null,
            "_view_module_version": "1.2.0",
            "bar_color": null,
            "_model_module": "@jupyter-widgets/controls"
          }
        },
        "5029ec945a304b03843227e719a8d918": {
          "model_module": "@jupyter-widgets/base",
          "model_name": "LayoutModel",
          "state": {
            "_view_name": "LayoutView",
            "grid_template_rows": null,
            "right": null,
            "justify_content": null,
            "_view_module": "@jupyter-widgets/base",
            "overflow": null,
            "_model_module_version": "1.2.0",
            "_view_count": null,
            "flex_flow": null,
            "width": null,
            "min_width": null,
            "border": null,
            "align_items": null,
            "bottom": null,
            "_model_module": "@jupyter-widgets/base",
            "top": null,
            "grid_column": null,
            "overflow_y": null,
            "overflow_x": null,
            "grid_auto_flow": null,
            "grid_area": null,
            "grid_template_columns": null,
            "flex": null,
            "_model_name": "LayoutModel",
            "justify_items": null,
            "grid_row": null,
            "max_height": null,
            "align_content": null,
            "visibility": null,
            "align_self": null,
            "height": null,
            "min_height": null,
            "padding": null,
            "grid_auto_rows": null,
            "grid_gap": null,
            "max_width": null,
            "order": null,
            "_view_module_version": "1.2.0",
            "grid_template_areas": null,
            "object_position": null,
            "object_fit": null,
            "grid_auto_columns": null,
            "margin": null,
            "display": null,
            "left": null
          }
        },
        "49755b854790449faa065f523560df9b": {
          "model_module": "@jupyter-widgets/controls",
          "model_name": "VBoxModel",
          "state": {
            "_view_name": "VBoxView",
            "_dom_classes": [],
            "_model_name": "VBoxModel",
            "_view_module": "@jupyter-widgets/controls",
            "_model_module_version": "1.5.0",
            "_view_count": null,
            "_view_module_version": "1.5.0",
            "box_style": "",
            "layout": "IPY_MODEL_49513503451d4eaf8c6d8a07d38e4fc3",
            "_model_module": "@jupyter-widgets/controls",
            "children": [
              "IPY_MODEL_c3a86bc4a7314ab3a4167cc19ceb149d",
              "IPY_MODEL_670f5c736a5e4eefa1beb949708402af"
            ]
          }
        },
        "49513503451d4eaf8c6d8a07d38e4fc3": {
          "model_module": "@jupyter-widgets/base",
          "model_name": "LayoutModel",
          "state": {
            "_view_name": "LayoutView",
            "grid_template_rows": null,
            "right": null,
            "justify_content": null,
            "_view_module": "@jupyter-widgets/base",
            "overflow": null,
            "_model_module_version": "1.2.0",
            "_view_count": null,
            "flex_flow": null,
            "width": null,
            "min_width": null,
            "border": null,
            "align_items": null,
            "bottom": null,
            "_model_module": "@jupyter-widgets/base",
            "top": null,
            "grid_column": null,
            "overflow_y": null,
            "overflow_x": null,
            "grid_auto_flow": null,
            "grid_area": null,
            "grid_template_columns": null,
            "flex": null,
            "_model_name": "LayoutModel",
            "justify_items": null,
            "grid_row": null,
            "max_height": null,
            "align_content": null,
            "visibility": null,
            "align_self": null,
            "height": null,
            "min_height": null,
            "padding": null,
            "grid_auto_rows": null,
            "grid_gap": null,
            "max_width": null,
            "order": null,
            "_view_module_version": "1.2.0",
            "grid_template_areas": null,
            "object_position": null,
            "object_fit": null,
            "grid_auto_columns": null,
            "margin": null,
            "display": null,
            "left": null
          }
        },
        "c3a86bc4a7314ab3a4167cc19ceb149d": {
          "model_module": "@jupyter-widgets/controls",
          "model_name": "LabelModel",
          "state": {
            "_view_name": "LabelView",
            "style": "IPY_MODEL_4c04f425846d46dc8b9e17752dd61d8f",
            "_dom_classes": [],
            "description": "",
            "_model_name": "LabelModel",
            "placeholder": "​",
            "_view_module": "@jupyter-widgets/controls",
            "_model_module_version": "1.5.0",
            "value": " 1.49MB of 1.49MB uploaded (0.00MB deduped)\r",
            "_view_count": null,
            "_view_module_version": "1.5.0",
            "description_tooltip": null,
            "_model_module": "@jupyter-widgets/controls",
            "layout": "IPY_MODEL_ee376cbc91884f03be57bf328d8d9843"
          }
        },
        "670f5c736a5e4eefa1beb949708402af": {
          "model_module": "@jupyter-widgets/controls",
          "model_name": "FloatProgressModel",
          "state": {
            "_view_name": "ProgressView",
            "style": "IPY_MODEL_0d147c807d434732a1790f48d5d6abae",
            "_dom_classes": [],
            "description": "",
            "_model_name": "FloatProgressModel",
            "bar_style": "",
            "max": 1,
            "_view_module": "@jupyter-widgets/controls",
            "_model_module_version": "1.5.0",
            "value": 1,
            "_view_count": null,
            "_view_module_version": "1.5.0",
            "orientation": "horizontal",
            "min": 0,
            "description_tooltip": null,
            "_model_module": "@jupyter-widgets/controls",
            "layout": "IPY_MODEL_09a9fb3821bd448f9466c54db61b2264"
          }
        },
        "4c04f425846d46dc8b9e17752dd61d8f": {
          "model_module": "@jupyter-widgets/controls",
          "model_name": "DescriptionStyleModel",
          "state": {
            "_view_name": "StyleView",
            "_model_name": "DescriptionStyleModel",
            "description_width": "",
            "_view_module": "@jupyter-widgets/base",
            "_model_module_version": "1.5.0",
            "_view_count": null,
            "_view_module_version": "1.2.0",
            "_model_module": "@jupyter-widgets/controls"
          }
        },
        "ee376cbc91884f03be57bf328d8d9843": {
          "model_module": "@jupyter-widgets/base",
          "model_name": "LayoutModel",
          "state": {
            "_view_name": "LayoutView",
            "grid_template_rows": null,
            "right": null,
            "justify_content": null,
            "_view_module": "@jupyter-widgets/base",
            "overflow": null,
            "_model_module_version": "1.2.0",
            "_view_count": null,
            "flex_flow": null,
            "width": null,
            "min_width": null,
            "border": null,
            "align_items": null,
            "bottom": null,
            "_model_module": "@jupyter-widgets/base",
            "top": null,
            "grid_column": null,
            "overflow_y": null,
            "overflow_x": null,
            "grid_auto_flow": null,
            "grid_area": null,
            "grid_template_columns": null,
            "flex": null,
            "_model_name": "LayoutModel",
            "justify_items": null,
            "grid_row": null,
            "max_height": null,
            "align_content": null,
            "visibility": null,
            "align_self": null,
            "height": null,
            "min_height": null,
            "padding": null,
            "grid_auto_rows": null,
            "grid_gap": null,
            "max_width": null,
            "order": null,
            "_view_module_version": "1.2.0",
            "grid_template_areas": null,
            "object_position": null,
            "object_fit": null,
            "grid_auto_columns": null,
            "margin": null,
            "display": null,
            "left": null
          }
        },
        "0d147c807d434732a1790f48d5d6abae": {
          "model_module": "@jupyter-widgets/controls",
          "model_name": "ProgressStyleModel",
          "state": {
            "_view_name": "StyleView",
            "_model_name": "ProgressStyleModel",
            "description_width": "",
            "_view_module": "@jupyter-widgets/base",
            "_model_module_version": "1.5.0",
            "_view_count": null,
            "_view_module_version": "1.2.0",
            "bar_color": null,
            "_model_module": "@jupyter-widgets/controls"
          }
        },
        "09a9fb3821bd448f9466c54db61b2264": {
          "model_module": "@jupyter-widgets/base",
          "model_name": "LayoutModel",
          "state": {
            "_view_name": "LayoutView",
            "grid_template_rows": null,
            "right": null,
            "justify_content": null,
            "_view_module": "@jupyter-widgets/base",
            "overflow": null,
            "_model_module_version": "1.2.0",
            "_view_count": null,
            "flex_flow": null,
            "width": null,
            "min_width": null,
            "border": null,
            "align_items": null,
            "bottom": null,
            "_model_module": "@jupyter-widgets/base",
            "top": null,
            "grid_column": null,
            "overflow_y": null,
            "overflow_x": null,
            "grid_auto_flow": null,
            "grid_area": null,
            "grid_template_columns": null,
            "flex": null,
            "_model_name": "LayoutModel",
            "justify_items": null,
            "grid_row": null,
            "max_height": null,
            "align_content": null,
            "visibility": null,
            "align_self": null,
            "height": null,
            "min_height": null,
            "padding": null,
            "grid_auto_rows": null,
            "grid_gap": null,
            "max_width": null,
            "order": null,
            "_view_module_version": "1.2.0",
            "grid_template_areas": null,
            "object_position": null,
            "object_fit": null,
            "grid_auto_columns": null,
            "margin": null,
            "display": null,
            "left": null
          }
        },
        "a62b6646844e458f8fead57a0945a8a7": {
          "model_module": "@jupyter-widgets/controls",
          "model_name": "VBoxModel",
          "state": {
            "_view_name": "VBoxView",
            "_dom_classes": [],
            "_model_name": "VBoxModel",
            "_view_module": "@jupyter-widgets/controls",
            "_model_module_version": "1.5.0",
            "_view_count": null,
            "_view_module_version": "1.5.0",
            "box_style": "",
            "layout": "IPY_MODEL_09a45fd1144b4bd583341f166733c69d",
            "_model_module": "@jupyter-widgets/controls",
            "children": [
              "IPY_MODEL_4794cfefb821422a957ba1bba08001f2",
              "IPY_MODEL_28d1d6be25d14c89a82bc34de1d87012"
            ]
          }
        },
        "09a45fd1144b4bd583341f166733c69d": {
          "model_module": "@jupyter-widgets/base",
          "model_name": "LayoutModel",
          "state": {
            "_view_name": "LayoutView",
            "grid_template_rows": null,
            "right": null,
            "justify_content": null,
            "_view_module": "@jupyter-widgets/base",
            "overflow": null,
            "_model_module_version": "1.2.0",
            "_view_count": null,
            "flex_flow": null,
            "width": null,
            "min_width": null,
            "border": null,
            "align_items": null,
            "bottom": null,
            "_model_module": "@jupyter-widgets/base",
            "top": null,
            "grid_column": null,
            "overflow_y": null,
            "overflow_x": null,
            "grid_auto_flow": null,
            "grid_area": null,
            "grid_template_columns": null,
            "flex": null,
            "_model_name": "LayoutModel",
            "justify_items": null,
            "grid_row": null,
            "max_height": null,
            "align_content": null,
            "visibility": null,
            "align_self": null,
            "height": null,
            "min_height": null,
            "padding": null,
            "grid_auto_rows": null,
            "grid_gap": null,
            "max_width": null,
            "order": null,
            "_view_module_version": "1.2.0",
            "grid_template_areas": null,
            "object_position": null,
            "object_fit": null,
            "grid_auto_columns": null,
            "margin": null,
            "display": null,
            "left": null
          }
        },
        "4794cfefb821422a957ba1bba08001f2": {
          "model_module": "@jupyter-widgets/controls",
          "model_name": "LabelModel",
          "state": {
            "_view_name": "LabelView",
            "style": "IPY_MODEL_a39a9f18027048c39332d6d514903f35",
            "_dom_classes": [],
            "description": "",
            "_model_name": "LabelModel",
            "placeholder": "​",
            "_view_module": "@jupyter-widgets/controls",
            "_model_module_version": "1.5.0",
            "value": " 1.51MB of 1.51MB uploaded (0.00MB deduped)\r",
            "_view_count": null,
            "_view_module_version": "1.5.0",
            "description_tooltip": null,
            "_model_module": "@jupyter-widgets/controls",
            "layout": "IPY_MODEL_f21d5fe5e57e4287918587b7cbfc9606"
          }
        },
        "28d1d6be25d14c89a82bc34de1d87012": {
          "model_module": "@jupyter-widgets/controls",
          "model_name": "FloatProgressModel",
          "state": {
            "_view_name": "ProgressView",
            "style": "IPY_MODEL_a4a4249403b64c93abbacd4d0def1886",
            "_dom_classes": [],
            "description": "",
            "_model_name": "FloatProgressModel",
            "bar_style": "",
            "max": 1,
            "_view_module": "@jupyter-widgets/controls",
            "_model_module_version": "1.5.0",
            "value": 1,
            "_view_count": null,
            "_view_module_version": "1.5.0",
            "orientation": "horizontal",
            "min": 0,
            "description_tooltip": null,
            "_model_module": "@jupyter-widgets/controls",
            "layout": "IPY_MODEL_65a91d2d52f94f629e36aef1fde7152f"
          }
        },
        "a39a9f18027048c39332d6d514903f35": {
          "model_module": "@jupyter-widgets/controls",
          "model_name": "DescriptionStyleModel",
          "state": {
            "_view_name": "StyleView",
            "_model_name": "DescriptionStyleModel",
            "description_width": "",
            "_view_module": "@jupyter-widgets/base",
            "_model_module_version": "1.5.0",
            "_view_count": null,
            "_view_module_version": "1.2.0",
            "_model_module": "@jupyter-widgets/controls"
          }
        },
        "f21d5fe5e57e4287918587b7cbfc9606": {
          "model_module": "@jupyter-widgets/base",
          "model_name": "LayoutModel",
          "state": {
            "_view_name": "LayoutView",
            "grid_template_rows": null,
            "right": null,
            "justify_content": null,
            "_view_module": "@jupyter-widgets/base",
            "overflow": null,
            "_model_module_version": "1.2.0",
            "_view_count": null,
            "flex_flow": null,
            "width": null,
            "min_width": null,
            "border": null,
            "align_items": null,
            "bottom": null,
            "_model_module": "@jupyter-widgets/base",
            "top": null,
            "grid_column": null,
            "overflow_y": null,
            "overflow_x": null,
            "grid_auto_flow": null,
            "grid_area": null,
            "grid_template_columns": null,
            "flex": null,
            "_model_name": "LayoutModel",
            "justify_items": null,
            "grid_row": null,
            "max_height": null,
            "align_content": null,
            "visibility": null,
            "align_self": null,
            "height": null,
            "min_height": null,
            "padding": null,
            "grid_auto_rows": null,
            "grid_gap": null,
            "max_width": null,
            "order": null,
            "_view_module_version": "1.2.0",
            "grid_template_areas": null,
            "object_position": null,
            "object_fit": null,
            "grid_auto_columns": null,
            "margin": null,
            "display": null,
            "left": null
          }
        },
        "a4a4249403b64c93abbacd4d0def1886": {
          "model_module": "@jupyter-widgets/controls",
          "model_name": "ProgressStyleModel",
          "state": {
            "_view_name": "StyleView",
            "_model_name": "ProgressStyleModel",
            "description_width": "",
            "_view_module": "@jupyter-widgets/base",
            "_model_module_version": "1.5.0",
            "_view_count": null,
            "_view_module_version": "1.2.0",
            "bar_color": null,
            "_model_module": "@jupyter-widgets/controls"
          }
        },
        "65a91d2d52f94f629e36aef1fde7152f": {
          "model_module": "@jupyter-widgets/base",
          "model_name": "LayoutModel",
          "state": {
            "_view_name": "LayoutView",
            "grid_template_rows": null,
            "right": null,
            "justify_content": null,
            "_view_module": "@jupyter-widgets/base",
            "overflow": null,
            "_model_module_version": "1.2.0",
            "_view_count": null,
            "flex_flow": null,
            "width": null,
            "min_width": null,
            "border": null,
            "align_items": null,
            "bottom": null,
            "_model_module": "@jupyter-widgets/base",
            "top": null,
            "grid_column": null,
            "overflow_y": null,
            "overflow_x": null,
            "grid_auto_flow": null,
            "grid_area": null,
            "grid_template_columns": null,
            "flex": null,
            "_model_name": "LayoutModel",
            "justify_items": null,
            "grid_row": null,
            "max_height": null,
            "align_content": null,
            "visibility": null,
            "align_self": null,
            "height": null,
            "min_height": null,
            "padding": null,
            "grid_auto_rows": null,
            "grid_gap": null,
            "max_width": null,
            "order": null,
            "_view_module_version": "1.2.0",
            "grid_template_areas": null,
            "object_position": null,
            "object_fit": null,
            "grid_auto_columns": null,
            "margin": null,
            "display": null,
            "left": null
          }
        },
        "514e6bc466134d5c9e133c13cfc5c31d": {
          "model_module": "@jupyter-widgets/controls",
          "model_name": "VBoxModel",
          "state": {
            "_view_name": "VBoxView",
            "_dom_classes": [],
            "_model_name": "VBoxModel",
            "_view_module": "@jupyter-widgets/controls",
            "_model_module_version": "1.5.0",
            "_view_count": null,
            "_view_module_version": "1.5.0",
            "box_style": "",
            "layout": "IPY_MODEL_90122922f9ec46ed84fbbb2605c03d0f",
            "_model_module": "@jupyter-widgets/controls",
            "children": [
              "IPY_MODEL_79db4b2819d7438b93709e8fb80495e1",
              "IPY_MODEL_b7acf72e5ab2466c89d179aae38264aa"
            ]
          }
        },
        "90122922f9ec46ed84fbbb2605c03d0f": {
          "model_module": "@jupyter-widgets/base",
          "model_name": "LayoutModel",
          "state": {
            "_view_name": "LayoutView",
            "grid_template_rows": null,
            "right": null,
            "justify_content": null,
            "_view_module": "@jupyter-widgets/base",
            "overflow": null,
            "_model_module_version": "1.2.0",
            "_view_count": null,
            "flex_flow": null,
            "width": null,
            "min_width": null,
            "border": null,
            "align_items": null,
            "bottom": null,
            "_model_module": "@jupyter-widgets/base",
            "top": null,
            "grid_column": null,
            "overflow_y": null,
            "overflow_x": null,
            "grid_auto_flow": null,
            "grid_area": null,
            "grid_template_columns": null,
            "flex": null,
            "_model_name": "LayoutModel",
            "justify_items": null,
            "grid_row": null,
            "max_height": null,
            "align_content": null,
            "visibility": null,
            "align_self": null,
            "height": null,
            "min_height": null,
            "padding": null,
            "grid_auto_rows": null,
            "grid_gap": null,
            "max_width": null,
            "order": null,
            "_view_module_version": "1.2.0",
            "grid_template_areas": null,
            "object_position": null,
            "object_fit": null,
            "grid_auto_columns": null,
            "margin": null,
            "display": null,
            "left": null
          }
        },
        "79db4b2819d7438b93709e8fb80495e1": {
          "model_module": "@jupyter-widgets/controls",
          "model_name": "LabelModel",
          "state": {
            "_view_name": "LabelView",
            "style": "IPY_MODEL_a92e22fd68474eafb8076dc62e29a9ed",
            "_dom_classes": [],
            "description": "",
            "_model_name": "LabelModel",
            "placeholder": "​",
            "_view_module": "@jupyter-widgets/controls",
            "_model_module_version": "1.5.0",
            "value": " 1.54MB of 1.54MB uploaded (0.00MB deduped)\r",
            "_view_count": null,
            "_view_module_version": "1.5.0",
            "description_tooltip": null,
            "_model_module": "@jupyter-widgets/controls",
            "layout": "IPY_MODEL_4bab22a878ad47d38d1c128a0812f4fa"
          }
        },
        "b7acf72e5ab2466c89d179aae38264aa": {
          "model_module": "@jupyter-widgets/controls",
          "model_name": "FloatProgressModel",
          "state": {
            "_view_name": "ProgressView",
            "style": "IPY_MODEL_859228c8f55449828d69cb2f64761cea",
            "_dom_classes": [],
            "description": "",
            "_model_name": "FloatProgressModel",
            "bar_style": "",
            "max": 1,
            "_view_module": "@jupyter-widgets/controls",
            "_model_module_version": "1.5.0",
            "value": 1,
            "_view_count": null,
            "_view_module_version": "1.5.0",
            "orientation": "horizontal",
            "min": 0,
            "description_tooltip": null,
            "_model_module": "@jupyter-widgets/controls",
            "layout": "IPY_MODEL_571d5562b0a8455984ea4dabd491ad5f"
          }
        },
        "a92e22fd68474eafb8076dc62e29a9ed": {
          "model_module": "@jupyter-widgets/controls",
          "model_name": "DescriptionStyleModel",
          "state": {
            "_view_name": "StyleView",
            "_model_name": "DescriptionStyleModel",
            "description_width": "",
            "_view_module": "@jupyter-widgets/base",
            "_model_module_version": "1.5.0",
            "_view_count": null,
            "_view_module_version": "1.2.0",
            "_model_module": "@jupyter-widgets/controls"
          }
        },
        "4bab22a878ad47d38d1c128a0812f4fa": {
          "model_module": "@jupyter-widgets/base",
          "model_name": "LayoutModel",
          "state": {
            "_view_name": "LayoutView",
            "grid_template_rows": null,
            "right": null,
            "justify_content": null,
            "_view_module": "@jupyter-widgets/base",
            "overflow": null,
            "_model_module_version": "1.2.0",
            "_view_count": null,
            "flex_flow": null,
            "width": null,
            "min_width": null,
            "border": null,
            "align_items": null,
            "bottom": null,
            "_model_module": "@jupyter-widgets/base",
            "top": null,
            "grid_column": null,
            "overflow_y": null,
            "overflow_x": null,
            "grid_auto_flow": null,
            "grid_area": null,
            "grid_template_columns": null,
            "flex": null,
            "_model_name": "LayoutModel",
            "justify_items": null,
            "grid_row": null,
            "max_height": null,
            "align_content": null,
            "visibility": null,
            "align_self": null,
            "height": null,
            "min_height": null,
            "padding": null,
            "grid_auto_rows": null,
            "grid_gap": null,
            "max_width": null,
            "order": null,
            "_view_module_version": "1.2.0",
            "grid_template_areas": null,
            "object_position": null,
            "object_fit": null,
            "grid_auto_columns": null,
            "margin": null,
            "display": null,
            "left": null
          }
        },
        "859228c8f55449828d69cb2f64761cea": {
          "model_module": "@jupyter-widgets/controls",
          "model_name": "ProgressStyleModel",
          "state": {
            "_view_name": "StyleView",
            "_model_name": "ProgressStyleModel",
            "description_width": "",
            "_view_module": "@jupyter-widgets/base",
            "_model_module_version": "1.5.0",
            "_view_count": null,
            "_view_module_version": "1.2.0",
            "bar_color": null,
            "_model_module": "@jupyter-widgets/controls"
          }
        },
        "571d5562b0a8455984ea4dabd491ad5f": {
          "model_module": "@jupyter-widgets/base",
          "model_name": "LayoutModel",
          "state": {
            "_view_name": "LayoutView",
            "grid_template_rows": null,
            "right": null,
            "justify_content": null,
            "_view_module": "@jupyter-widgets/base",
            "overflow": null,
            "_model_module_version": "1.2.0",
            "_view_count": null,
            "flex_flow": null,
            "width": null,
            "min_width": null,
            "border": null,
            "align_items": null,
            "bottom": null,
            "_model_module": "@jupyter-widgets/base",
            "top": null,
            "grid_column": null,
            "overflow_y": null,
            "overflow_x": null,
            "grid_auto_flow": null,
            "grid_area": null,
            "grid_template_columns": null,
            "flex": null,
            "_model_name": "LayoutModel",
            "justify_items": null,
            "grid_row": null,
            "max_height": null,
            "align_content": null,
            "visibility": null,
            "align_self": null,
            "height": null,
            "min_height": null,
            "padding": null,
            "grid_auto_rows": null,
            "grid_gap": null,
            "max_width": null,
            "order": null,
            "_view_module_version": "1.2.0",
            "grid_template_areas": null,
            "object_position": null,
            "object_fit": null,
            "grid_auto_columns": null,
            "margin": null,
            "display": null,
            "left": null
          }
        },
        "9de6a47529c74b5d8478c75430459857": {
          "model_module": "@jupyter-widgets/controls",
          "model_name": "VBoxModel",
          "state": {
            "_view_name": "VBoxView",
            "_dom_classes": [],
            "_model_name": "VBoxModel",
            "_view_module": "@jupyter-widgets/controls",
            "_model_module_version": "1.5.0",
            "_view_count": null,
            "_view_module_version": "1.5.0",
            "box_style": "",
            "layout": "IPY_MODEL_2b7a4878c3a445b2b9dacf940d6c4c1a",
            "_model_module": "@jupyter-widgets/controls",
            "children": [
              "IPY_MODEL_2cdb6b68d137468f90c031911eed04b4",
              "IPY_MODEL_6fe5f57613054240a18d0607de1437b4"
            ]
          }
        },
        "2b7a4878c3a445b2b9dacf940d6c4c1a": {
          "model_module": "@jupyter-widgets/base",
          "model_name": "LayoutModel",
          "state": {
            "_view_name": "LayoutView",
            "grid_template_rows": null,
            "right": null,
            "justify_content": null,
            "_view_module": "@jupyter-widgets/base",
            "overflow": null,
            "_model_module_version": "1.2.0",
            "_view_count": null,
            "flex_flow": null,
            "width": null,
            "min_width": null,
            "border": null,
            "align_items": null,
            "bottom": null,
            "_model_module": "@jupyter-widgets/base",
            "top": null,
            "grid_column": null,
            "overflow_y": null,
            "overflow_x": null,
            "grid_auto_flow": null,
            "grid_area": null,
            "grid_template_columns": null,
            "flex": null,
            "_model_name": "LayoutModel",
            "justify_items": null,
            "grid_row": null,
            "max_height": null,
            "align_content": null,
            "visibility": null,
            "align_self": null,
            "height": null,
            "min_height": null,
            "padding": null,
            "grid_auto_rows": null,
            "grid_gap": null,
            "max_width": null,
            "order": null,
            "_view_module_version": "1.2.0",
            "grid_template_areas": null,
            "object_position": null,
            "object_fit": null,
            "grid_auto_columns": null,
            "margin": null,
            "display": null,
            "left": null
          }
        },
        "2cdb6b68d137468f90c031911eed04b4": {
          "model_module": "@jupyter-widgets/controls",
          "model_name": "LabelModel",
          "state": {
            "_view_name": "LabelView",
            "style": "IPY_MODEL_ad17acb1d22743609e0bd2303251a308",
            "_dom_classes": [],
            "description": "",
            "_model_name": "LabelModel",
            "placeholder": "​",
            "_view_module": "@jupyter-widgets/controls",
            "_model_module_version": "1.5.0",
            "value": " 1.56MB of 1.56MB uploaded (0.00MB deduped)\r",
            "_view_count": null,
            "_view_module_version": "1.5.0",
            "description_tooltip": null,
            "_model_module": "@jupyter-widgets/controls",
            "layout": "IPY_MODEL_6ad6d049390f42bfb06d5b71babca21d"
          }
        },
        "6fe5f57613054240a18d0607de1437b4": {
          "model_module": "@jupyter-widgets/controls",
          "model_name": "FloatProgressModel",
          "state": {
            "_view_name": "ProgressView",
            "style": "IPY_MODEL_fc6612ba56cd4cebb5ea885cdd31a750",
            "_dom_classes": [],
            "description": "",
            "_model_name": "FloatProgressModel",
            "bar_style": "",
            "max": 1,
            "_view_module": "@jupyter-widgets/controls",
            "_model_module_version": "1.5.0",
            "value": 1,
            "_view_count": null,
            "_view_module_version": "1.5.0",
            "orientation": "horizontal",
            "min": 0,
            "description_tooltip": null,
            "_model_module": "@jupyter-widgets/controls",
            "layout": "IPY_MODEL_6a4f3bbb1b504b2bb71611960366af62"
          }
        },
        "ad17acb1d22743609e0bd2303251a308": {
          "model_module": "@jupyter-widgets/controls",
          "model_name": "DescriptionStyleModel",
          "state": {
            "_view_name": "StyleView",
            "_model_name": "DescriptionStyleModel",
            "description_width": "",
            "_view_module": "@jupyter-widgets/base",
            "_model_module_version": "1.5.0",
            "_view_count": null,
            "_view_module_version": "1.2.0",
            "_model_module": "@jupyter-widgets/controls"
          }
        },
        "6ad6d049390f42bfb06d5b71babca21d": {
          "model_module": "@jupyter-widgets/base",
          "model_name": "LayoutModel",
          "state": {
            "_view_name": "LayoutView",
            "grid_template_rows": null,
            "right": null,
            "justify_content": null,
            "_view_module": "@jupyter-widgets/base",
            "overflow": null,
            "_model_module_version": "1.2.0",
            "_view_count": null,
            "flex_flow": null,
            "width": null,
            "min_width": null,
            "border": null,
            "align_items": null,
            "bottom": null,
            "_model_module": "@jupyter-widgets/base",
            "top": null,
            "grid_column": null,
            "overflow_y": null,
            "overflow_x": null,
            "grid_auto_flow": null,
            "grid_area": null,
            "grid_template_columns": null,
            "flex": null,
            "_model_name": "LayoutModel",
            "justify_items": null,
            "grid_row": null,
            "max_height": null,
            "align_content": null,
            "visibility": null,
            "align_self": null,
            "height": null,
            "min_height": null,
            "padding": null,
            "grid_auto_rows": null,
            "grid_gap": null,
            "max_width": null,
            "order": null,
            "_view_module_version": "1.2.0",
            "grid_template_areas": null,
            "object_position": null,
            "object_fit": null,
            "grid_auto_columns": null,
            "margin": null,
            "display": null,
            "left": null
          }
        },
        "fc6612ba56cd4cebb5ea885cdd31a750": {
          "model_module": "@jupyter-widgets/controls",
          "model_name": "ProgressStyleModel",
          "state": {
            "_view_name": "StyleView",
            "_model_name": "ProgressStyleModel",
            "description_width": "",
            "_view_module": "@jupyter-widgets/base",
            "_model_module_version": "1.5.0",
            "_view_count": null,
            "_view_module_version": "1.2.0",
            "bar_color": null,
            "_model_module": "@jupyter-widgets/controls"
          }
        },
        "6a4f3bbb1b504b2bb71611960366af62": {
          "model_module": "@jupyter-widgets/base",
          "model_name": "LayoutModel",
          "state": {
            "_view_name": "LayoutView",
            "grid_template_rows": null,
            "right": null,
            "justify_content": null,
            "_view_module": "@jupyter-widgets/base",
            "overflow": null,
            "_model_module_version": "1.2.0",
            "_view_count": null,
            "flex_flow": null,
            "width": null,
            "min_width": null,
            "border": null,
            "align_items": null,
            "bottom": null,
            "_model_module": "@jupyter-widgets/base",
            "top": null,
            "grid_column": null,
            "overflow_y": null,
            "overflow_x": null,
            "grid_auto_flow": null,
            "grid_area": null,
            "grid_template_columns": null,
            "flex": null,
            "_model_name": "LayoutModel",
            "justify_items": null,
            "grid_row": null,
            "max_height": null,
            "align_content": null,
            "visibility": null,
            "align_self": null,
            "height": null,
            "min_height": null,
            "padding": null,
            "grid_auto_rows": null,
            "grid_gap": null,
            "max_width": null,
            "order": null,
            "_view_module_version": "1.2.0",
            "grid_template_areas": null,
            "object_position": null,
            "object_fit": null,
            "grid_auto_columns": null,
            "margin": null,
            "display": null,
            "left": null
          }
        },
        "37abd89a9cbc4563b0db60b76e9440fe": {
          "model_module": "@jupyter-widgets/controls",
          "model_name": "VBoxModel",
          "state": {
            "_view_name": "VBoxView",
            "_dom_classes": [],
            "_model_name": "VBoxModel",
            "_view_module": "@jupyter-widgets/controls",
            "_model_module_version": "1.5.0",
            "_view_count": null,
            "_view_module_version": "1.5.0",
            "box_style": "",
            "layout": "IPY_MODEL_f59fb83a86cd4f6188accf0e2514d349",
            "_model_module": "@jupyter-widgets/controls",
            "children": [
              "IPY_MODEL_ff4a91fe9dcf4b769fea9810301f2b67",
              "IPY_MODEL_6b922ec82db643c9b5318a13023f57f5"
            ]
          }
        },
        "f59fb83a86cd4f6188accf0e2514d349": {
          "model_module": "@jupyter-widgets/base",
          "model_name": "LayoutModel",
          "state": {
            "_view_name": "LayoutView",
            "grid_template_rows": null,
            "right": null,
            "justify_content": null,
            "_view_module": "@jupyter-widgets/base",
            "overflow": null,
            "_model_module_version": "1.2.0",
            "_view_count": null,
            "flex_flow": null,
            "width": null,
            "min_width": null,
            "border": null,
            "align_items": null,
            "bottom": null,
            "_model_module": "@jupyter-widgets/base",
            "top": null,
            "grid_column": null,
            "overflow_y": null,
            "overflow_x": null,
            "grid_auto_flow": null,
            "grid_area": null,
            "grid_template_columns": null,
            "flex": null,
            "_model_name": "LayoutModel",
            "justify_items": null,
            "grid_row": null,
            "max_height": null,
            "align_content": null,
            "visibility": null,
            "align_self": null,
            "height": null,
            "min_height": null,
            "padding": null,
            "grid_auto_rows": null,
            "grid_gap": null,
            "max_width": null,
            "order": null,
            "_view_module_version": "1.2.0",
            "grid_template_areas": null,
            "object_position": null,
            "object_fit": null,
            "grid_auto_columns": null,
            "margin": null,
            "display": null,
            "left": null
          }
        },
        "ff4a91fe9dcf4b769fea9810301f2b67": {
          "model_module": "@jupyter-widgets/controls",
          "model_name": "LabelModel",
          "state": {
            "_view_name": "LabelView",
            "style": "IPY_MODEL_c012470b3fe94dc3a8c120e78a4a8f82",
            "_dom_classes": [],
            "description": "",
            "_model_name": "LabelModel",
            "placeholder": "​",
            "_view_module": "@jupyter-widgets/controls",
            "_model_module_version": "1.5.0",
            "value": " 0.48MB of 0.48MB uploaded (0.00MB deduped)\r",
            "_view_count": null,
            "_view_module_version": "1.5.0",
            "description_tooltip": null,
            "_model_module": "@jupyter-widgets/controls",
            "layout": "IPY_MODEL_2132d8c6cfde4bfdab02c03e3be5eb74"
          }
        },
        "6b922ec82db643c9b5318a13023f57f5": {
          "model_module": "@jupyter-widgets/controls",
          "model_name": "FloatProgressModel",
          "state": {
            "_view_name": "ProgressView",
            "style": "IPY_MODEL_3853fd614b4e4424ba4507e7ed114ca0",
            "_dom_classes": [],
            "description": "",
            "_model_name": "FloatProgressModel",
            "bar_style": "",
            "max": 1,
            "_view_module": "@jupyter-widgets/controls",
            "_model_module_version": "1.5.0",
            "value": 1,
            "_view_count": null,
            "_view_module_version": "1.5.0",
            "orientation": "horizontal",
            "min": 0,
            "description_tooltip": null,
            "_model_module": "@jupyter-widgets/controls",
            "layout": "IPY_MODEL_ef4cc2c43b814e38aae3c20392aea17a"
          }
        },
        "c012470b3fe94dc3a8c120e78a4a8f82": {
          "model_module": "@jupyter-widgets/controls",
          "model_name": "DescriptionStyleModel",
          "state": {
            "_view_name": "StyleView",
            "_model_name": "DescriptionStyleModel",
            "description_width": "",
            "_view_module": "@jupyter-widgets/base",
            "_model_module_version": "1.5.0",
            "_view_count": null,
            "_view_module_version": "1.2.0",
            "_model_module": "@jupyter-widgets/controls"
          }
        },
        "2132d8c6cfde4bfdab02c03e3be5eb74": {
          "model_module": "@jupyter-widgets/base",
          "model_name": "LayoutModel",
          "state": {
            "_view_name": "LayoutView",
            "grid_template_rows": null,
            "right": null,
            "justify_content": null,
            "_view_module": "@jupyter-widgets/base",
            "overflow": null,
            "_model_module_version": "1.2.0",
            "_view_count": null,
            "flex_flow": null,
            "width": null,
            "min_width": null,
            "border": null,
            "align_items": null,
            "bottom": null,
            "_model_module": "@jupyter-widgets/base",
            "top": null,
            "grid_column": null,
            "overflow_y": null,
            "overflow_x": null,
            "grid_auto_flow": null,
            "grid_area": null,
            "grid_template_columns": null,
            "flex": null,
            "_model_name": "LayoutModel",
            "justify_items": null,
            "grid_row": null,
            "max_height": null,
            "align_content": null,
            "visibility": null,
            "align_self": null,
            "height": null,
            "min_height": null,
            "padding": null,
            "grid_auto_rows": null,
            "grid_gap": null,
            "max_width": null,
            "order": null,
            "_view_module_version": "1.2.0",
            "grid_template_areas": null,
            "object_position": null,
            "object_fit": null,
            "grid_auto_columns": null,
            "margin": null,
            "display": null,
            "left": null
          }
        },
        "3853fd614b4e4424ba4507e7ed114ca0": {
          "model_module": "@jupyter-widgets/controls",
          "model_name": "ProgressStyleModel",
          "state": {
            "_view_name": "StyleView",
            "_model_name": "ProgressStyleModel",
            "description_width": "",
            "_view_module": "@jupyter-widgets/base",
            "_model_module_version": "1.5.0",
            "_view_count": null,
            "_view_module_version": "1.2.0",
            "bar_color": null,
            "_model_module": "@jupyter-widgets/controls"
          }
        },
        "ef4cc2c43b814e38aae3c20392aea17a": {
          "model_module": "@jupyter-widgets/base",
          "model_name": "LayoutModel",
          "state": {
            "_view_name": "LayoutView",
            "grid_template_rows": null,
            "right": null,
            "justify_content": null,
            "_view_module": "@jupyter-widgets/base",
            "overflow": null,
            "_model_module_version": "1.2.0",
            "_view_count": null,
            "flex_flow": null,
            "width": null,
            "min_width": null,
            "border": null,
            "align_items": null,
            "bottom": null,
            "_model_module": "@jupyter-widgets/base",
            "top": null,
            "grid_column": null,
            "overflow_y": null,
            "overflow_x": null,
            "grid_auto_flow": null,
            "grid_area": null,
            "grid_template_columns": null,
            "flex": null,
            "_model_name": "LayoutModel",
            "justify_items": null,
            "grid_row": null,
            "max_height": null,
            "align_content": null,
            "visibility": null,
            "align_self": null,
            "height": null,
            "min_height": null,
            "padding": null,
            "grid_auto_rows": null,
            "grid_gap": null,
            "max_width": null,
            "order": null,
            "_view_module_version": "1.2.0",
            "grid_template_areas": null,
            "object_position": null,
            "object_fit": null,
            "grid_auto_columns": null,
            "margin": null,
            "display": null,
            "left": null
          }
        },
        "0369ff7ba8e34ac09654492a836afbd3": {
          "model_module": "@jupyter-widgets/controls",
          "model_name": "VBoxModel",
          "state": {
            "_view_name": "VBoxView",
            "_dom_classes": [],
            "_model_name": "VBoxModel",
            "_view_module": "@jupyter-widgets/controls",
            "_model_module_version": "1.5.0",
            "_view_count": null,
            "_view_module_version": "1.5.0",
            "box_style": "",
            "layout": "IPY_MODEL_1606e77627b74b948cd89dee31e39f4e",
            "_model_module": "@jupyter-widgets/controls",
            "children": [
              "IPY_MODEL_d0e0d1c45fa54d2eb0ffb9873b7a933d",
              "IPY_MODEL_c2b3723f608b45c3a650f26caa7ba4ee"
            ]
          }
        },
        "1606e77627b74b948cd89dee31e39f4e": {
          "model_module": "@jupyter-widgets/base",
          "model_name": "LayoutModel",
          "state": {
            "_view_name": "LayoutView",
            "grid_template_rows": null,
            "right": null,
            "justify_content": null,
            "_view_module": "@jupyter-widgets/base",
            "overflow": null,
            "_model_module_version": "1.2.0",
            "_view_count": null,
            "flex_flow": null,
            "width": null,
            "min_width": null,
            "border": null,
            "align_items": null,
            "bottom": null,
            "_model_module": "@jupyter-widgets/base",
            "top": null,
            "grid_column": null,
            "overflow_y": null,
            "overflow_x": null,
            "grid_auto_flow": null,
            "grid_area": null,
            "grid_template_columns": null,
            "flex": null,
            "_model_name": "LayoutModel",
            "justify_items": null,
            "grid_row": null,
            "max_height": null,
            "align_content": null,
            "visibility": null,
            "align_self": null,
            "height": null,
            "min_height": null,
            "padding": null,
            "grid_auto_rows": null,
            "grid_gap": null,
            "max_width": null,
            "order": null,
            "_view_module_version": "1.2.0",
            "grid_template_areas": null,
            "object_position": null,
            "object_fit": null,
            "grid_auto_columns": null,
            "margin": null,
            "display": null,
            "left": null
          }
        },
        "d0e0d1c45fa54d2eb0ffb9873b7a933d": {
          "model_module": "@jupyter-widgets/controls",
          "model_name": "LabelModel",
          "state": {
            "_view_name": "LabelView",
            "style": "IPY_MODEL_44d16344cb924496a8aa55f57e7609e1",
            "_dom_classes": [],
            "description": "",
            "_model_name": "LabelModel",
            "placeholder": "​",
            "_view_module": "@jupyter-widgets/controls",
            "_model_module_version": "1.5.0",
            "value": " 1.25MB of 1.25MB uploaded (0.00MB deduped)\r",
            "_view_count": null,
            "_view_module_version": "1.5.0",
            "description_tooltip": null,
            "_model_module": "@jupyter-widgets/controls",
            "layout": "IPY_MODEL_9c070ce1c41442f4ae454a4311c3b1bd"
          }
        },
        "c2b3723f608b45c3a650f26caa7ba4ee": {
          "model_module": "@jupyter-widgets/controls",
          "model_name": "FloatProgressModel",
          "state": {
            "_view_name": "ProgressView",
            "style": "IPY_MODEL_9316fb1903994f1a991eaedc0cd99838",
            "_dom_classes": [],
            "description": "",
            "_model_name": "FloatProgressModel",
            "bar_style": "",
            "max": 1,
            "_view_module": "@jupyter-widgets/controls",
            "_model_module_version": "1.5.0",
            "value": 1,
            "_view_count": null,
            "_view_module_version": "1.5.0",
            "orientation": "horizontal",
            "min": 0,
            "description_tooltip": null,
            "_model_module": "@jupyter-widgets/controls",
            "layout": "IPY_MODEL_4939e152aa89414d8e589c9cd8b3339d"
          }
        },
        "44d16344cb924496a8aa55f57e7609e1": {
          "model_module": "@jupyter-widgets/controls",
          "model_name": "DescriptionStyleModel",
          "state": {
            "_view_name": "StyleView",
            "_model_name": "DescriptionStyleModel",
            "description_width": "",
            "_view_module": "@jupyter-widgets/base",
            "_model_module_version": "1.5.0",
            "_view_count": null,
            "_view_module_version": "1.2.0",
            "_model_module": "@jupyter-widgets/controls"
          }
        },
        "9c070ce1c41442f4ae454a4311c3b1bd": {
          "model_module": "@jupyter-widgets/base",
          "model_name": "LayoutModel",
          "state": {
            "_view_name": "LayoutView",
            "grid_template_rows": null,
            "right": null,
            "justify_content": null,
            "_view_module": "@jupyter-widgets/base",
            "overflow": null,
            "_model_module_version": "1.2.0",
            "_view_count": null,
            "flex_flow": null,
            "width": null,
            "min_width": null,
            "border": null,
            "align_items": null,
            "bottom": null,
            "_model_module": "@jupyter-widgets/base",
            "top": null,
            "grid_column": null,
            "overflow_y": null,
            "overflow_x": null,
            "grid_auto_flow": null,
            "grid_area": null,
            "grid_template_columns": null,
            "flex": null,
            "_model_name": "LayoutModel",
            "justify_items": null,
            "grid_row": null,
            "max_height": null,
            "align_content": null,
            "visibility": null,
            "align_self": null,
            "height": null,
            "min_height": null,
            "padding": null,
            "grid_auto_rows": null,
            "grid_gap": null,
            "max_width": null,
            "order": null,
            "_view_module_version": "1.2.0",
            "grid_template_areas": null,
            "object_position": null,
            "object_fit": null,
            "grid_auto_columns": null,
            "margin": null,
            "display": null,
            "left": null
          }
        },
        "9316fb1903994f1a991eaedc0cd99838": {
          "model_module": "@jupyter-widgets/controls",
          "model_name": "ProgressStyleModel",
          "state": {
            "_view_name": "StyleView",
            "_model_name": "ProgressStyleModel",
            "description_width": "",
            "_view_module": "@jupyter-widgets/base",
            "_model_module_version": "1.5.0",
            "_view_count": null,
            "_view_module_version": "1.2.0",
            "bar_color": null,
            "_model_module": "@jupyter-widgets/controls"
          }
        },
        "4939e152aa89414d8e589c9cd8b3339d": {
          "model_module": "@jupyter-widgets/base",
          "model_name": "LayoutModel",
          "state": {
            "_view_name": "LayoutView",
            "grid_template_rows": null,
            "right": null,
            "justify_content": null,
            "_view_module": "@jupyter-widgets/base",
            "overflow": null,
            "_model_module_version": "1.2.0",
            "_view_count": null,
            "flex_flow": null,
            "width": null,
            "min_width": null,
            "border": null,
            "align_items": null,
            "bottom": null,
            "_model_module": "@jupyter-widgets/base",
            "top": null,
            "grid_column": null,
            "overflow_y": null,
            "overflow_x": null,
            "grid_auto_flow": null,
            "grid_area": null,
            "grid_template_columns": null,
            "flex": null,
            "_model_name": "LayoutModel",
            "justify_items": null,
            "grid_row": null,
            "max_height": null,
            "align_content": null,
            "visibility": null,
            "align_self": null,
            "height": null,
            "min_height": null,
            "padding": null,
            "grid_auto_rows": null,
            "grid_gap": null,
            "max_width": null,
            "order": null,
            "_view_module_version": "1.2.0",
            "grid_template_areas": null,
            "object_position": null,
            "object_fit": null,
            "grid_auto_columns": null,
            "margin": null,
            "display": null,
            "left": null
          }
        },
        "4b8a67b9b255435fb6696ea04e507fdf": {
          "model_module": "@jupyter-widgets/controls",
          "model_name": "VBoxModel",
          "state": {
            "_view_name": "VBoxView",
            "_dom_classes": [],
            "_model_name": "VBoxModel",
            "_view_module": "@jupyter-widgets/controls",
            "_model_module_version": "1.5.0",
            "_view_count": null,
            "_view_module_version": "1.5.0",
            "box_style": "",
            "layout": "IPY_MODEL_8eb18129fea544bdbad90e9996ef3be3",
            "_model_module": "@jupyter-widgets/controls",
            "children": [
              "IPY_MODEL_a3cfbb840ce94de79564c2533308d790",
              "IPY_MODEL_ecf5af4ca51946279e51f34197953907"
            ]
          }
        },
        "8eb18129fea544bdbad90e9996ef3be3": {
          "model_module": "@jupyter-widgets/base",
          "model_name": "LayoutModel",
          "state": {
            "_view_name": "LayoutView",
            "grid_template_rows": null,
            "right": null,
            "justify_content": null,
            "_view_module": "@jupyter-widgets/base",
            "overflow": null,
            "_model_module_version": "1.2.0",
            "_view_count": null,
            "flex_flow": null,
            "width": null,
            "min_width": null,
            "border": null,
            "align_items": null,
            "bottom": null,
            "_model_module": "@jupyter-widgets/base",
            "top": null,
            "grid_column": null,
            "overflow_y": null,
            "overflow_x": null,
            "grid_auto_flow": null,
            "grid_area": null,
            "grid_template_columns": null,
            "flex": null,
            "_model_name": "LayoutModel",
            "justify_items": null,
            "grid_row": null,
            "max_height": null,
            "align_content": null,
            "visibility": null,
            "align_self": null,
            "height": null,
            "min_height": null,
            "padding": null,
            "grid_auto_rows": null,
            "grid_gap": null,
            "max_width": null,
            "order": null,
            "_view_module_version": "1.2.0",
            "grid_template_areas": null,
            "object_position": null,
            "object_fit": null,
            "grid_auto_columns": null,
            "margin": null,
            "display": null,
            "left": null
          }
        },
        "a3cfbb840ce94de79564c2533308d790": {
          "model_module": "@jupyter-widgets/controls",
          "model_name": "LabelModel",
          "state": {
            "_view_name": "LabelView",
            "style": "IPY_MODEL_5608b0c6c1854d90a114a734023f58ec",
            "_dom_classes": [],
            "description": "",
            "_model_name": "LabelModel",
            "placeholder": "​",
            "_view_module": "@jupyter-widgets/controls",
            "_model_module_version": "1.5.0",
            "value": " 1.26MB of 1.26MB uploaded (0.00MB deduped)\r",
            "_view_count": null,
            "_view_module_version": "1.5.0",
            "description_tooltip": null,
            "_model_module": "@jupyter-widgets/controls",
            "layout": "IPY_MODEL_64941fa6a044404a863b0c03b7261b33"
          }
        },
        "ecf5af4ca51946279e51f34197953907": {
          "model_module": "@jupyter-widgets/controls",
          "model_name": "FloatProgressModel",
          "state": {
            "_view_name": "ProgressView",
            "style": "IPY_MODEL_67483c97f9d14cafafa025d19b8742ce",
            "_dom_classes": [],
            "description": "",
            "_model_name": "FloatProgressModel",
            "bar_style": "",
            "max": 1,
            "_view_module": "@jupyter-widgets/controls",
            "_model_module_version": "1.5.0",
            "value": 1,
            "_view_count": null,
            "_view_module_version": "1.5.0",
            "orientation": "horizontal",
            "min": 0,
            "description_tooltip": null,
            "_model_module": "@jupyter-widgets/controls",
            "layout": "IPY_MODEL_bb7a34f330064ed29a896407dfb7866d"
          }
        },
        "5608b0c6c1854d90a114a734023f58ec": {
          "model_module": "@jupyter-widgets/controls",
          "model_name": "DescriptionStyleModel",
          "state": {
            "_view_name": "StyleView",
            "_model_name": "DescriptionStyleModel",
            "description_width": "",
            "_view_module": "@jupyter-widgets/base",
            "_model_module_version": "1.5.0",
            "_view_count": null,
            "_view_module_version": "1.2.0",
            "_model_module": "@jupyter-widgets/controls"
          }
        },
        "64941fa6a044404a863b0c03b7261b33": {
          "model_module": "@jupyter-widgets/base",
          "model_name": "LayoutModel",
          "state": {
            "_view_name": "LayoutView",
            "grid_template_rows": null,
            "right": null,
            "justify_content": null,
            "_view_module": "@jupyter-widgets/base",
            "overflow": null,
            "_model_module_version": "1.2.0",
            "_view_count": null,
            "flex_flow": null,
            "width": null,
            "min_width": null,
            "border": null,
            "align_items": null,
            "bottom": null,
            "_model_module": "@jupyter-widgets/base",
            "top": null,
            "grid_column": null,
            "overflow_y": null,
            "overflow_x": null,
            "grid_auto_flow": null,
            "grid_area": null,
            "grid_template_columns": null,
            "flex": null,
            "_model_name": "LayoutModel",
            "justify_items": null,
            "grid_row": null,
            "max_height": null,
            "align_content": null,
            "visibility": null,
            "align_self": null,
            "height": null,
            "min_height": null,
            "padding": null,
            "grid_auto_rows": null,
            "grid_gap": null,
            "max_width": null,
            "order": null,
            "_view_module_version": "1.2.0",
            "grid_template_areas": null,
            "object_position": null,
            "object_fit": null,
            "grid_auto_columns": null,
            "margin": null,
            "display": null,
            "left": null
          }
        },
        "67483c97f9d14cafafa025d19b8742ce": {
          "model_module": "@jupyter-widgets/controls",
          "model_name": "ProgressStyleModel",
          "state": {
            "_view_name": "StyleView",
            "_model_name": "ProgressStyleModel",
            "description_width": "",
            "_view_module": "@jupyter-widgets/base",
            "_model_module_version": "1.5.0",
            "_view_count": null,
            "_view_module_version": "1.2.0",
            "bar_color": null,
            "_model_module": "@jupyter-widgets/controls"
          }
        },
        "bb7a34f330064ed29a896407dfb7866d": {
          "model_module": "@jupyter-widgets/base",
          "model_name": "LayoutModel",
          "state": {
            "_view_name": "LayoutView",
            "grid_template_rows": null,
            "right": null,
            "justify_content": null,
            "_view_module": "@jupyter-widgets/base",
            "overflow": null,
            "_model_module_version": "1.2.0",
            "_view_count": null,
            "flex_flow": null,
            "width": null,
            "min_width": null,
            "border": null,
            "align_items": null,
            "bottom": null,
            "_model_module": "@jupyter-widgets/base",
            "top": null,
            "grid_column": null,
            "overflow_y": null,
            "overflow_x": null,
            "grid_auto_flow": null,
            "grid_area": null,
            "grid_template_columns": null,
            "flex": null,
            "_model_name": "LayoutModel",
            "justify_items": null,
            "grid_row": null,
            "max_height": null,
            "align_content": null,
            "visibility": null,
            "align_self": null,
            "height": null,
            "min_height": null,
            "padding": null,
            "grid_auto_rows": null,
            "grid_gap": null,
            "max_width": null,
            "order": null,
            "_view_module_version": "1.2.0",
            "grid_template_areas": null,
            "object_position": null,
            "object_fit": null,
            "grid_auto_columns": null,
            "margin": null,
            "display": null,
            "left": null
          }
        }
      }
    }
  },
  "cells": [
    {
      "cell_type": "markdown",
      "metadata": {
        "id": "view-in-github",
        "colab_type": "text"
      },
      "source": [
        "<a href=\"https://colab.research.google.com/github/acse-2020/acse2020-acse9-finalreport-acse-jaq15/blob/main/notebooks/MLP_AE/MLP_AE_Nvidia.ipynb\" target=\"_parent\"><img src=\"https://colab.research.google.com/assets/colab-badge.svg\" alt=\"Open In Colab\"/></a>"
      ]
    },
    {
      "cell_type": "markdown",
      "metadata": {
        "id": "z5F7GfFTgUo3"
      },
      "source": [
        "# Imports\n",
        "\n",
        "The cells below handle all the necessary imports to run our models, making use of the public repo feeder_repo, linked <!-- [Text](link) -->\n",
        "[here](https://github.com/acse-jaq15/feeder_repo)."
      ]
    },
    {
      "cell_type": "code",
      "metadata": {
        "colab": {
          "base_uri": "https://localhost:8080/"
        },
        "id": "HWy9Ay1SGzWa",
        "outputId": "6776d310-6819-49de-bd32-0f4f0c41293e"
      },
      "source": [
        "# clone the feeder repo to get data_reader module and financial time series data\n",
        "!git clone https://github.com/acse-jaq15/feeder_repo.git"
      ],
      "execution_count": 1,
      "outputs": [
        {
          "output_type": "stream",
          "text": [
            "Cloning into 'feeder_repo'...\n",
            "remote: Enumerating objects: 150, done.\u001b[K\n",
            "remote: Counting objects: 100% (150/150), done.\u001b[K\n",
            "remote: Compressing objects: 100% (145/145), done.\u001b[K\n",
            "remote: Total 150 (delta 73), reused 6 (delta 2), pack-reused 0\u001b[K\n",
            "Receiving objects: 100% (150/150), 121.14 KiB | 6.06 MiB/s, done.\n",
            "Resolving deltas: 100% (73/73), done.\n"
          ],
          "name": "stdout"
        }
      ]
    },
    {
      "cell_type": "code",
      "metadata": {
        "colab": {
          "base_uri": "https://localhost:8080/"
        },
        "id": "ChlUNYaiHGM2",
        "outputId": "b7c116e3-0404-4a1c-bbbf-082526340291"
      },
      "source": [
        "# using '%' to enforce a permanent change of directory\n",
        "%cd feeder_repo/"
      ],
      "execution_count": 2,
      "outputs": [
        {
          "output_type": "stream",
          "text": [
            "/content/feeder_repo\n"
          ],
          "name": "stdout"
        }
      ]
    },
    {
      "cell_type": "code",
      "metadata": {
        "colab": {
          "base_uri": "https://localhost:8080/"
        },
        "id": "saD-jpvPIfZ8",
        "outputId": "8276cd29-079b-4543-a455-b34b6b95a61e"
      },
      "source": [
        "# checking contents listed correctly, should read:\n",
        "# baseline_model.py data data_reader.py LICENSE README.md security_plotter.py\n",
        "!ls"
      ],
      "execution_count": 3,
      "outputs": [
        {
          "output_type": "stream",
          "text": [
            "base_model.py  data  data_reader.py  LICENSE  README.md  security_plotter.py\n"
          ],
          "name": "stdout"
        }
      ]
    },
    {
      "cell_type": "code",
      "metadata": {
        "id": "fRqkwo6kZUz_"
      },
      "source": [
        "import math\n",
        "import sys\n",
        "import keras\n",
        "import os\n",
        "import matplotlib.dates as mdates\n",
        "import matplotlib.pyplot as plt\n",
        "import pandas as pd\n",
        "import numpy as np\n",
        "from keras.models import Sequential\n",
        "from keras.layers import Dense\n",
        "from keras.layers import LSTM\n",
        "from keras.layers import GRU\n",
        "from keras.layers import Dropout\n",
        "from keras.layers import *\n",
        "from keras.utils.layer_utils import count_params\n",
        "from keras.utils.vis_utils import plot_model\n",
        "from sklearn.preprocessing import MinMaxScaler\n",
        "from sklearn.metrics import mean_squared_error\n",
        "from sklearn.metrics import mean_absolute_error\n",
        "from sklearn.model_selection import train_test_split\n",
        "from keras.callbacks import EarlyStopping, Callback\n",
        "from keras.optimizers import RMSprop, SGD, Adam, Nadam\n",
        "from keras.initializers import random_normal"
      ],
      "execution_count": 4,
      "outputs": []
    },
    {
      "cell_type": "code",
      "metadata": {
        "id": "hzVhwND1HAlw"
      },
      "source": [
        "# appending path with 'feeder_repo' string\n",
        "sys.path.append('feeder_repo')\n",
        "\n",
        "# import Data_Reader class from data_reader module\n",
        "from feeder_repo.data_reader import Data_Reader\n",
        "# import Baseline_Model class from base_model module\n",
        "from feeder_repo.base_model import Base_Model\n",
        "# import Security_Plotter class from security_plotter module\n",
        "from feeder_repo.security_plotter import Security_Plotter"
      ],
      "execution_count": 5,
      "outputs": []
    },
    {
      "cell_type": "code",
      "metadata": {
        "colab": {
          "base_uri": "https://localhost:8080/"
        },
        "id": "6-tNDlXuhiCU",
        "outputId": "1e204dc0-6eaa-4b5a-e3f9-6683f4f63d88"
      },
      "source": [
        "# checking if the notebook is running on a GPU\n",
        "gpu_info = !nvidia-smi\n",
        "gpu_info = '\\n'.join(gpu_info)\n",
        "if gpu_info.find('failed') >= 0:\n",
        "    print('Select the Runtime > \"Change runtime type\" menu to enable a GPU accelerator, ')\n",
        "    print('and then re-execute this cell.')\n",
        "else:\n",
        "    print(gpu_info)"
      ],
      "execution_count": 6,
      "outputs": [
        {
          "output_type": "stream",
          "text": [
            "Fri Jul 23 15:38:39 2021       \n",
            "+-----------------------------------------------------------------------------+\n",
            "| NVIDIA-SMI 470.42.01    Driver Version: 460.32.03    CUDA Version: 11.2     |\n",
            "|-------------------------------+----------------------+----------------------+\n",
            "| GPU  Name        Persistence-M| Bus-Id        Disp.A | Volatile Uncorr. ECC |\n",
            "| Fan  Temp  Perf  Pwr:Usage/Cap|         Memory-Usage | GPU-Util  Compute M. |\n",
            "|                               |                      |               MIG M. |\n",
            "|===============================+======================+======================|\n",
            "|   0  Tesla P100-PCIE...  Off  | 00000000:00:04.0 Off |                    0 |\n",
            "| N/A   40C    P0    28W / 250W |      0MiB / 16280MiB |      0%      Default |\n",
            "|                               |                      |                  N/A |\n",
            "+-------------------------------+----------------------+----------------------+\n",
            "                                                                               \n",
            "+-----------------------------------------------------------------------------+\n",
            "| Processes:                                                                  |\n",
            "|  GPU   GI   CI        PID   Type   Process name                  GPU Memory |\n",
            "|        ID   ID                                                   Usage      |\n",
            "|=============================================================================|\n",
            "|  No running processes found                                                 |\n",
            "+-----------------------------------------------------------------------------+\n"
          ],
          "name": "stdout"
        }
      ]
    },
    {
      "cell_type": "markdown",
      "metadata": {
        "id": "WB9wD4Aahs8_"
      },
      "source": [
        "# Handling the data\n",
        "Here the Data_Reader class is used to read the time series data and extract training, test and validation sets, along with the relevant X and y values."
      ]
    },
    {
      "cell_type": "code",
      "metadata": {
        "id": "vBlKerL-c4-3"
      },
      "source": [
        "# storing the file to be read as a string\n",
        "in_str = 'Nvidia'\n",
        "# storing the year of the time series to be used as test data\n",
        "in_yr = 2019\n",
        "# creating a variable to store the model name\n",
        "model_str = 'MLP_AE'\n",
        "# setting our window_length to be 30 days\n",
        "window_len = 30"
      ],
      "execution_count": 7,
      "outputs": []
    },
    {
      "cell_type": "code",
      "metadata": {
        "id": "hfQJbuBk0vW0"
      },
      "source": [
        "# creating an instance of Data_Reader class\n",
        "in_data = Data_Reader(in_str, in_yr)\n",
        "# calling class method extract_train_test to generate training and test datasets\n",
        "in_data.extract_train_test()\n",
        "# calling class method extract_xy to generate X and y training and test datasets\n",
        "in_data.extract_xy(window_len)\n",
        "\n",
        "# assigning X_train and y_train\n",
        "X_train = in_data.X_train\n",
        "y_train = in_data.y_train\n",
        "\n",
        "# assigning X_test and y_test\n",
        "X_test = in_data.X_test\n",
        "y_test = in_data.y_test\n",
        "\n",
        "# assigning X_val_train and y_val_train\n",
        "X_val_train = in_data.X_val_train\n",
        "y_val_train = in_data.y_val_train\n",
        "\n",
        "# assigning X_val_test and y_val_test\n",
        "X_val_test = in_data.X_val_test\n",
        "y_val_test = in_data.y_val_test"
      ],
      "execution_count": 8,
      "outputs": []
    },
    {
      "cell_type": "markdown",
      "metadata": {
        "id": "X53Fp1Gwh88_"
      },
      "source": [
        "# Setting up wandb itegration\n",
        "Here wandb is used to perform hyperparameter tuning."
      ]
    },
    {
      "cell_type": "code",
      "metadata": {
        "colab": {
          "base_uri": "https://localhost:8080/"
        },
        "id": "aE6cdrSDiHhq",
        "outputId": "2464148b-f83c-444b-f786-bf6de01ca9be"
      },
      "source": [
        "# installing the wandb library and importing\n",
        "%pip install wandb -q\n",
        "import wandb\n",
        "from wandb.keras import WandbCallback"
      ],
      "execution_count": 9,
      "outputs": [
        {
          "output_type": "stream",
          "text": [
            "\u001b[K     |████████████████████████████████| 1.8 MB 9.7 MB/s \n",
            "\u001b[K     |████████████████████████████████| 138 kB 48.2 MB/s \n",
            "\u001b[K     |████████████████████████████████| 133 kB 47.2 MB/s \n",
            "\u001b[K     |████████████████████████████████| 170 kB 50.8 MB/s \n",
            "\u001b[K     |████████████████████████████████| 97 kB 6.8 MB/s \n",
            "\u001b[K     |████████████████████████████████| 63 kB 1.7 MB/s \n",
            "\u001b[K     |████████████████████████████████| 62 kB 789 kB/s \n",
            "\u001b[?25h  Building wheel for subprocess32 (setup.py) ... \u001b[?25l\u001b[?25hdone\n",
            "  Building wheel for pathtools (setup.py) ... \u001b[?25l\u001b[?25hdone\n",
            "\u001b[31mERROR: pip's dependency resolver does not currently take into account all the packages that are installed. This behaviour is the source of the following dependency conflicts.\n",
            "google-colab 1.0.0 requires requests~=2.23.0, but you have requests 2.26.0 which is incompatible.\n",
            "datascience 0.10.6 requires folium==0.2.1, but you have folium 0.8.3 which is incompatible.\u001b[0m\n"
          ],
          "name": "stdout"
        }
      ]
    },
    {
      "cell_type": "code",
      "metadata": {
        "id": "pbgZaoQDiIKX"
      },
      "source": [
        "!pip install wandb -qq"
      ],
      "execution_count": 10,
      "outputs": []
    },
    {
      "cell_type": "code",
      "metadata": {
        "colab": {
          "base_uri": "https://localhost:8080/"
        },
        "id": "1WHkW0XyiKVL",
        "outputId": "e40a2f55-d56d-4676-80a0-1f0c3893a33f"
      },
      "source": [
        "# logging in so the hyperparameter tunings sweeps can be saved\n",
        "!wandb login"
      ],
      "execution_count": 11,
      "outputs": [
        {
          "output_type": "stream",
          "text": [
            "\u001b[34m\u001b[1mwandb\u001b[0m: You can find your API key in your browser here: https://wandb.ai/authorize\n",
            "\u001b[34m\u001b[1mwandb\u001b[0m: Paste an API key from your profile and hit enter: \n",
            "\u001b[34m\u001b[1mwandb\u001b[0m: Appending key for api.wandb.ai to your netrc file: /root/.netrc\n"
          ],
          "name": "stdout"
        }
      ]
    },
    {
      "cell_type": "code",
      "metadata": {
        "id": "j91IBGuSid5w"
      },
      "source": [
        "# configuring the sweep, making use of a random search methodology\n",
        "sweep_config = {\n",
        "    'method': 'random', #grid, random\n",
        "    'metric': {\n",
        "      'name': 'mse',\n",
        "      'goal': 'minimize'   \n",
        "    },\n",
        "    'parameters': {\n",
        "        'epochs': {\n",
        "            'values': [50, 100]\n",
        "        },\n",
        "        'batch_size': {\n",
        "            'values': [128, 64, 32]\n",
        "        },\n",
        "        'learning_rate': {\n",
        "            'values': [0.005, 0.001, 0.0005]\n",
        "        },\n",
        "        'optimizer': {\n",
        "            'values': ['adam', 'nadam', 'rmsprop', 'sgd']\n",
        "        },\n",
        "        'activation': {\n",
        "            'values': ['relu', 'selu']\n",
        "        }\n",
        "    }\n",
        "}"
      ],
      "execution_count": 12,
      "outputs": []
    },
    {
      "cell_type": "code",
      "metadata": {
        "id": "V0Sr9HsorH4E"
      },
      "source": [
        "# wandb calls this training function to run through the hyperparameter search\n",
        "def train():\n",
        "    # default values for searching\n",
        "    config_defaults = {\n",
        "        'epochs': 100,\n",
        "        'batch_size': 32,\n",
        "        'learning_rate': 0.005,\n",
        "        'optimizer': 'adam',\n",
        "        'activation': 'tanh',\n",
        "        'momentum': 0.9,\n",
        "        'seed': 42\n",
        "    }\n",
        "\n",
        "    # Initialize a new wandb run\n",
        "    wandb.init(config=config_defaults)\n",
        "    \n",
        "    # Config is a variable that holds and saves hyperparameters and inputs\n",
        "    config = wandb.config\n",
        "\n",
        "    # setting keras model to sequential mode\n",
        "    model = Sequential()\n",
        "\n",
        "    # layer 1\n",
        "    model.add(Dense(256, activation=config.activation, input_shape=(window_len, 1)))\n",
        "    # layer 2\n",
        "    model.add(Dense(128, activation=config.activation))\n",
        "    # layer 3\n",
        "    model.add(Dense(64, activation=config.activation))\n",
        "    # layer 4\n",
        "    model.add(Dense(32, activation=config.activation))\n",
        "    # layer 5\n",
        "    model.add(Flatten())\n",
        "    # layer 6\n",
        "    model.add(RepeatVector(window_len))\n",
        "    # layer 7\n",
        "    model.add(Dense(32, activation=config.activation))\n",
        "    # layer 8\n",
        "    model.add(Dense(64, activation=config.activation))\n",
        "    # layer 9\n",
        "    model.add(Dense(128, activation=config.activation))\n",
        "    # layer 10\n",
        "    model.add(Flatten())\n",
        "    # layer 11\n",
        "    model.add(Dense(1))\n",
        "\n",
        "    # Define the optimizer\n",
        "    if config.optimizer=='sgd':\n",
        "      optimizer = SGD(learning_rate=config.learning_rate, decay=1e-5, momentum=config.momentum, nesterov=True)\n",
        "    elif config.optimizer=='rmsprop':\n",
        "      optimizer = RMSprop(learning_rate=config.learning_rate, decay=1e-5)\n",
        "    elif config.optimizer=='adam':\n",
        "      optimizer = Adam(learning_rate=config.learning_rate, beta_1=0.9, beta_2=0.999, clipnorm=1.0)\n",
        "    elif config.optimizer=='nadam':\n",
        "      optimizer = Nadam(learning_rate=config.learning_rate, beta_1=0.9, beta_2=0.999, clipnorm=1.0)\n",
        "\n",
        "    model.compile(loss = \"mean_squared_error\", optimizer=optimizer, metrics=['mean_squared_error', 'mean_absolute_error'])\n",
        "\n",
        "    model.fit(X_val_train, y_val_train, batch_size=config.batch_size,\n",
        "              epochs=config.epochs,\n",
        "              validation_data=(X_val_test, y_val_test),\n",
        "              callbacks=[WandbCallback(validation_data=(X_val_test, y_val_test)),\n",
        "                          EarlyStopping(patience=10, restore_best_weights=True)])"
      ],
      "execution_count": 13,
      "outputs": []
    },
    {
      "cell_type": "code",
      "metadata": {
        "colab": {
          "base_uri": "https://localhost:8080/"
        },
        "id": "JwZO6oAFU1LN",
        "outputId": "16bde802-6d87-4950-fc14-c7e524f1d7da"
      },
      "source": [
        "# setting up our sweep_id\n",
        "sweep_id = wandb.sweep(sweep_config, project='ACSE_9_'+model_str)"
      ],
      "execution_count": 14,
      "outputs": [
        {
          "output_type": "stream",
          "text": [
            "Create sweep with ID: 6wgndl46\n",
            "Sweep URL: https://wandb.ai/acse-jaq15/ACSE_9_MLP_AE/sweeps/6wgndl46\n"
          ],
          "name": "stdout"
        }
      ]
    },
    {
      "cell_type": "code",
      "metadata": {
        "colab": {
          "base_uri": "https://localhost:8080/",
          "height": 1000,
          "referenced_widgets": [
            "e2fc8d5399b84e9d93eddfa5aa9b6f6e",
            "bfc3db6f8aca4f628b6e61e32cd74c08",
            "003969277f7c48cda772d8b84550732f",
            "b025367e372343238b669e7d7cfec20c",
            "5c921ef440a44d6cad8ca636e8f1540b",
            "8b4484563c4e4fbd9662268e2f4acf20",
            "aad0cf2f560e4f0981df40370c65e89e",
            "260bb0fcc7214bb882aa6f55177d18f1",
            "0adb9641e1c5411db50b641c8759d20c",
            "9ce42a104feb4b1f929a7388f4dec748",
            "d00242df64dd41248d628f750f6c3f2d",
            "366df57dfe2c4877a73a2eeb1fdce734",
            "0f1b178fdc784261b029ab56d60e8ed6",
            "3c811c28394645f9b17c96bffdbc356e",
            "e1e70c4737f047a2824f9fd57a9aa1b0",
            "2d91e78916724809973b91a266f3e96b",
            "1ea9e0e4019a42d1b920ea4dc6663786",
            "b948ea8d43464b99a3fc1ba620399fa9",
            "dcba424201e74501b7e14a98b6f9b569",
            "aba91569bc484bbf95f28b6bc74f1f2c",
            "a4afad05121c4f4a9244e3ffe40342a8",
            "002f23bad15249fd8851c23f80f11cd5",
            "9610bcc01d8e48f485ef74c2436d3934",
            "b608e9c7fd544b279db8bd73cf63c9d4",
            "96272f8f66cc498dad952fec4b112026",
            "4e7c462e6d13401aad2c31b46721c111",
            "97718df657f14452a711c433d1aaa35a",
            "edc299bbdafc4a4e82e6ee1d600e916b",
            "bfc03d9eabed49059c6e38d46a763da1",
            "621b742e810a4c8ca17e00142eb9aa68",
            "7414b4873b6e4137801f99d9094cc181",
            "8ec69a883c734c6a8911997b12bc965c",
            "5ab2e6b7450541708d4afd23e818e4ae",
            "f87c0d9380a740fe8a28ce7f2a30354a",
            "3da16b60cc1d42bc89271f9da3b0d491",
            "1386ec18d05346da8bb1d38316091796",
            "9c2b728dd7374ee9b9f3b250d23f1077",
            "fbe40bdc6ef6437180bc0ad4a12917f9",
            "974209692fee4848b22c18c30501657c",
            "bf41a02310cf4802a901cef16fb566c0",
            "1a2b85f79503462b9ddeb6bfee33b370",
            "18cf98d4de8e4f7dafc410a1d5b941df",
            "a590c87b3d6f492f9a966a66f619f919",
            "86de98ddc63747a4940a94f178769f87",
            "80fbfac3a9e44810bbd4f951f67b6be6",
            "89923fb822e84450b20b1109ea73d358",
            "25bee72bf15f4ed38655a0c3678f6a1a",
            "5029ec945a304b03843227e719a8d918",
            "49755b854790449faa065f523560df9b",
            "49513503451d4eaf8c6d8a07d38e4fc3",
            "c3a86bc4a7314ab3a4167cc19ceb149d",
            "670f5c736a5e4eefa1beb949708402af",
            "4c04f425846d46dc8b9e17752dd61d8f",
            "ee376cbc91884f03be57bf328d8d9843",
            "0d147c807d434732a1790f48d5d6abae",
            "09a9fb3821bd448f9466c54db61b2264",
            "a62b6646844e458f8fead57a0945a8a7",
            "09a45fd1144b4bd583341f166733c69d",
            "4794cfefb821422a957ba1bba08001f2",
            "28d1d6be25d14c89a82bc34de1d87012",
            "a39a9f18027048c39332d6d514903f35",
            "f21d5fe5e57e4287918587b7cbfc9606",
            "a4a4249403b64c93abbacd4d0def1886",
            "65a91d2d52f94f629e36aef1fde7152f",
            "514e6bc466134d5c9e133c13cfc5c31d",
            "90122922f9ec46ed84fbbb2605c03d0f",
            "79db4b2819d7438b93709e8fb80495e1",
            "b7acf72e5ab2466c89d179aae38264aa",
            "a92e22fd68474eafb8076dc62e29a9ed",
            "4bab22a878ad47d38d1c128a0812f4fa",
            "859228c8f55449828d69cb2f64761cea",
            "571d5562b0a8455984ea4dabd491ad5f",
            "9de6a47529c74b5d8478c75430459857",
            "2b7a4878c3a445b2b9dacf940d6c4c1a",
            "2cdb6b68d137468f90c031911eed04b4",
            "6fe5f57613054240a18d0607de1437b4",
            "ad17acb1d22743609e0bd2303251a308",
            "6ad6d049390f42bfb06d5b71babca21d",
            "fc6612ba56cd4cebb5ea885cdd31a750",
            "6a4f3bbb1b504b2bb71611960366af62",
            "37abd89a9cbc4563b0db60b76e9440fe",
            "f59fb83a86cd4f6188accf0e2514d349",
            "ff4a91fe9dcf4b769fea9810301f2b67",
            "6b922ec82db643c9b5318a13023f57f5",
            "c012470b3fe94dc3a8c120e78a4a8f82",
            "2132d8c6cfde4bfdab02c03e3be5eb74",
            "3853fd614b4e4424ba4507e7ed114ca0",
            "ef4cc2c43b814e38aae3c20392aea17a",
            "0369ff7ba8e34ac09654492a836afbd3",
            "1606e77627b74b948cd89dee31e39f4e",
            "d0e0d1c45fa54d2eb0ffb9873b7a933d",
            "c2b3723f608b45c3a650f26caa7ba4ee",
            "44d16344cb924496a8aa55f57e7609e1",
            "9c070ce1c41442f4ae454a4311c3b1bd",
            "9316fb1903994f1a991eaedc0cd99838",
            "4939e152aa89414d8e589c9cd8b3339d",
            "4b8a67b9b255435fb6696ea04e507fdf",
            "8eb18129fea544bdbad90e9996ef3be3",
            "a3cfbb840ce94de79564c2533308d790",
            "ecf5af4ca51946279e51f34197953907",
            "5608b0c6c1854d90a114a734023f58ec",
            "64941fa6a044404a863b0c03b7261b33",
            "67483c97f9d14cafafa025d19b8742ce",
            "bb7a34f330064ed29a896407dfb7866d"
          ]
        },
        "id": "ZfSCGWfluFw0",
        "outputId": "f31e5b95-12d2-47ed-a53b-3798656fa0bd"
      },
      "source": [
        "# initialising a new sweep\n",
        "wandb.agent(sweep_id, train, project='ACSE_9_'+model_str)"
      ],
      "execution_count": 16,
      "outputs": [
        {
          "output_type": "stream",
          "text": [
            "\u001b[34m\u001b[1mwandb\u001b[0m: Agent Starting Run: 74wlkpbt with config:\n",
            "\u001b[34m\u001b[1mwandb\u001b[0m: \tactivation: selu\n",
            "\u001b[34m\u001b[1mwandb\u001b[0m: \tbatch_size: 64\n",
            "\u001b[34m\u001b[1mwandb\u001b[0m: \tepochs: 100\n",
            "\u001b[34m\u001b[1mwandb\u001b[0m: \tlearning_rate: 0.0005\n",
            "\u001b[34m\u001b[1mwandb\u001b[0m: \toptimizer: rmsprop\n"
          ],
          "name": "stderr"
        },
        {
          "output_type": "display_data",
          "data": {
            "text/html": [
              "\n",
              "                Tracking run with wandb version 0.11.0<br/>\n",
              "                Syncing run <strong style=\"color:#cdcd00\">autumn-sweep-37</strong> to <a href=\"https://wandb.ai\" target=\"_blank\">Weights & Biases</a> <a href=\"https://docs.wandb.com/integrations/jupyter.html\" target=\"_blank\">(Documentation)</a>.<br/>\n",
              "                Project page: <a href=\"https://wandb.ai/acse-jaq15/ACSE_9_MLP_AE\" target=\"_blank\">https://wandb.ai/acse-jaq15/ACSE_9_MLP_AE</a><br/>\n",
              "                Sweep page: <a href=\"https://wandb.ai/acse-jaq15/ACSE_9_MLP_AE/sweeps/6wgndl46\" target=\"_blank\">https://wandb.ai/acse-jaq15/ACSE_9_MLP_AE/sweeps/6wgndl46</a><br/>\n",
              "Run page: <a href=\"https://wandb.ai/acse-jaq15/ACSE_9_MLP_AE/runs/74wlkpbt\" target=\"_blank\">https://wandb.ai/acse-jaq15/ACSE_9_MLP_AE/runs/74wlkpbt</a><br/>\n",
              "                Run data is saved locally in <code>/content/feeder_repo/wandb/run-20210723_162505-74wlkpbt</code><br/><br/>\n",
              "            "
            ],
            "text/plain": [
              "<IPython.core.display.HTML object>"
            ]
          },
          "metadata": {
            "tags": []
          }
        },
        {
          "output_type": "stream",
          "text": [
            "Epoch 1/100\n",
            "16/16 [==============================] - 3s 58ms/step - loss: 1.5742 - mean_squared_error: 1.5742 - mean_absolute_error: 0.6678 - val_loss: 0.0116 - val_mean_squared_error: 0.0116 - val_mean_absolute_error: 0.0907\n",
            "Epoch 2/100\n",
            "16/16 [==============================] - 0s 13ms/step - loss: 0.0297 - mean_squared_error: 0.0297 - mean_absolute_error: 0.1057 - val_loss: 0.0160 - val_mean_squared_error: 0.0160 - val_mean_absolute_error: 0.0922\n",
            "Epoch 3/100\n",
            "16/16 [==============================] - 0s 12ms/step - loss: 0.0283 - mean_squared_error: 0.0283 - mean_absolute_error: 0.0602 - val_loss: 0.0592 - val_mean_squared_error: 0.0592 - val_mean_absolute_error: 0.2172\n",
            "Epoch 4/100\n",
            "16/16 [==============================] - 0s 12ms/step - loss: 0.1990 - mean_squared_error: 0.1990 - mean_absolute_error: 0.2118 - val_loss: 0.0178 - val_mean_squared_error: 0.0178 - val_mean_absolute_error: 0.1091\n",
            "Epoch 5/100\n",
            "16/16 [==============================] - 0s 12ms/step - loss: 0.0129 - mean_squared_error: 0.0129 - mean_absolute_error: 0.0530 - val_loss: 0.4478 - val_mean_squared_error: 0.4478 - val_mean_absolute_error: 0.6594\n",
            "Epoch 6/100\n",
            "16/16 [==============================] - 0s 12ms/step - loss: 0.1369 - mean_squared_error: 0.1369 - mean_absolute_error: 0.2333 - val_loss: 0.0155 - val_mean_squared_error: 0.0155 - val_mean_absolute_error: 0.1062\n",
            "Epoch 7/100\n",
            "16/16 [==============================] - 0s 12ms/step - loss: 0.0082 - mean_squared_error: 0.0082 - mean_absolute_error: 0.0542 - val_loss: 0.3990 - val_mean_squared_error: 0.3990 - val_mean_absolute_error: 0.6113\n",
            "Epoch 8/100\n",
            "16/16 [==============================] - 0s 10ms/step - loss: 0.2259 - mean_squared_error: 0.2259 - mean_absolute_error: 0.2791 - val_loss: 0.0197 - val_mean_squared_error: 0.0197 - val_mean_absolute_error: 0.1191\n",
            "Epoch 9/100\n",
            "16/16 [==============================] - 0s 14ms/step - loss: 0.0060 - mean_squared_error: 0.0060 - mean_absolute_error: 0.0358 - val_loss: 0.7873 - val_mean_squared_error: 0.7873 - val_mean_absolute_error: 0.8372\n",
            "Epoch 10/100\n",
            "16/16 [==============================] - 0s 12ms/step - loss: 0.0814 - mean_squared_error: 0.0814 - mean_absolute_error: 0.1727 - val_loss: 0.0307 - val_mean_squared_error: 0.0307 - val_mean_absolute_error: 0.1340\n",
            "Epoch 11/100\n",
            "16/16 [==============================] - 0s 12ms/step - loss: 0.0231 - mean_squared_error: 0.0231 - mean_absolute_error: 0.0652 - val_loss: 0.2884 - val_mean_squared_error: 0.2884 - val_mean_absolute_error: 0.5214\n"
          ],
          "name": "stdout"
        },
        {
          "output_type": "display_data",
          "data": {
            "text/html": [
              "<br/>Waiting for W&B process to finish, PID 6444<br/>Program ended successfully."
            ],
            "text/plain": [
              "<IPython.core.display.HTML object>"
            ]
          },
          "metadata": {
            "tags": []
          }
        },
        {
          "output_type": "display_data",
          "data": {
            "application/vnd.jupyter.widget-view+json": {
              "model_id": "e2fc8d5399b84e9d93eddfa5aa9b6f6e",
              "version_minor": 0,
              "version_major": 2
            },
            "text/plain": [
              "VBox(children=(Label(value=' 0.62MB of 0.62MB uploaded (0.00MB deduped)\\r'), FloatProgress(value=1.0, max=1.0)…"
            ]
          },
          "metadata": {
            "tags": []
          }
        },
        {
          "output_type": "display_data",
          "data": {
            "text/html": [
              "Find user logs for this run at: <code>/content/feeder_repo/wandb/run-20210723_162505-74wlkpbt/logs/debug.log</code>"
            ],
            "text/plain": [
              "<IPython.core.display.HTML object>"
            ]
          },
          "metadata": {
            "tags": []
          }
        },
        {
          "output_type": "display_data",
          "data": {
            "text/html": [
              "Find internal logs for this run at: <code>/content/feeder_repo/wandb/run-20210723_162505-74wlkpbt/logs/debug-internal.log</code>"
            ],
            "text/plain": [
              "<IPython.core.display.HTML object>"
            ]
          },
          "metadata": {
            "tags": []
          }
        },
        {
          "output_type": "display_data",
          "data": {
            "text/html": [
              "<h3>Run summary:</h3><br/><style>\n",
              "    table.wandb td:nth-child(1) { padding: 0 10px; text-align: right }\n",
              "    </style><table class=\"wandb\">\n",
              "<tr><td>epoch</td><td>10</td></tr><tr><td>loss</td><td>0.08007</td></tr><tr><td>mean_squared_error</td><td>0.08007</td></tr><tr><td>mean_absolute_error</td><td>0.14553</td></tr><tr><td>val_loss</td><td>0.28837</td></tr><tr><td>val_mean_squared_error</td><td>0.28837</td></tr><tr><td>val_mean_absolute_error</td><td>0.5214</td></tr><tr><td>_runtime</td><td>8</td></tr><tr><td>_timestamp</td><td>1627057513</td></tr><tr><td>_step</td><td>10</td></tr><tr><td>best_val_loss</td><td>0.0116</td></tr><tr><td>best_epoch</td><td>0</td></tr></table>"
            ],
            "text/plain": [
              "<IPython.core.display.HTML object>"
            ]
          },
          "metadata": {
            "tags": []
          }
        },
        {
          "output_type": "display_data",
          "data": {
            "text/html": [
              "<h3>Run history:</h3><br/><style>\n",
              "    table.wandb td:nth-child(1) { padding: 0 10px; text-align: right }\n",
              "    </style><table class=\"wandb\">\n",
              "<tr><td>epoch</td><td>▁▂▂▃▄▅▅▆▇▇█</td></tr><tr><td>loss</td><td>█▁▂▂▁▁▁▂▁▁▂</td></tr><tr><td>mean_squared_error</td><td>█▁▂▂▁▁▁▂▁▁▂</td></tr><tr><td>mean_absolute_error</td><td>█▃▃▃▂▃▁▃▁▂▃</td></tr><tr><td>val_loss</td><td>▁▁▁▁▅▁▄▁█▁▃</td></tr><tr><td>val_mean_squared_error</td><td>▁▁▁▁▅▁▄▁█▁▃</td></tr><tr><td>val_mean_absolute_error</td><td>▁▁▂▁▆▁▆▁█▁▅</td></tr><tr><td>_runtime</td><td>▁▁▁▅▅▅▅▅███</td></tr><tr><td>_timestamp</td><td>▁▁▁▅▅▅▅▅███</td></tr><tr><td>_step</td><td>▁▂▂▃▄▅▅▆▇▇█</td></tr></table><br/>"
            ],
            "text/plain": [
              "<IPython.core.display.HTML object>"
            ]
          },
          "metadata": {
            "tags": []
          }
        },
        {
          "output_type": "display_data",
          "data": {
            "text/html": [
              "Synced 5 W&B file(s), 1 media file(s), 2 artifact file(s) and 2 other file(s)"
            ],
            "text/plain": [
              "<IPython.core.display.HTML object>"
            ]
          },
          "metadata": {
            "tags": []
          }
        },
        {
          "output_type": "display_data",
          "data": {
            "text/html": [
              "\n",
              "                    <br/>Synced <strong style=\"color:#cdcd00\">autumn-sweep-37</strong>: <a href=\"https://wandb.ai/acse-jaq15/ACSE_9_MLP_AE/runs/74wlkpbt\" target=\"_blank\">https://wandb.ai/acse-jaq15/ACSE_9_MLP_AE/runs/74wlkpbt</a><br/>\n",
              "                "
            ],
            "text/plain": [
              "<IPython.core.display.HTML object>"
            ]
          },
          "metadata": {
            "tags": []
          }
        },
        {
          "output_type": "stream",
          "text": [
            "\u001b[34m\u001b[1mwandb\u001b[0m: Agent Starting Run: dxikpy7b with config:\n",
            "\u001b[34m\u001b[1mwandb\u001b[0m: \tactivation: relu\n",
            "\u001b[34m\u001b[1mwandb\u001b[0m: \tbatch_size: 64\n",
            "\u001b[34m\u001b[1mwandb\u001b[0m: \tepochs: 50\n",
            "\u001b[34m\u001b[1mwandb\u001b[0m: \tlearning_rate: 0.005\n",
            "\u001b[34m\u001b[1mwandb\u001b[0m: \toptimizer: adam\n"
          ],
          "name": "stderr"
        },
        {
          "output_type": "display_data",
          "data": {
            "text/html": [
              "\n",
              "                Tracking run with wandb version 0.11.0<br/>\n",
              "                Syncing run <strong style=\"color:#cdcd00\">vivid-sweep-38</strong> to <a href=\"https://wandb.ai\" target=\"_blank\">Weights & Biases</a> <a href=\"https://docs.wandb.com/integrations/jupyter.html\" target=\"_blank\">(Documentation)</a>.<br/>\n",
              "                Project page: <a href=\"https://wandb.ai/acse-jaq15/ACSE_9_MLP_AE\" target=\"_blank\">https://wandb.ai/acse-jaq15/ACSE_9_MLP_AE</a><br/>\n",
              "                Sweep page: <a href=\"https://wandb.ai/acse-jaq15/ACSE_9_MLP_AE/sweeps/6wgndl46\" target=\"_blank\">https://wandb.ai/acse-jaq15/ACSE_9_MLP_AE/sweeps/6wgndl46</a><br/>\n",
              "Run page: <a href=\"https://wandb.ai/acse-jaq15/ACSE_9_MLP_AE/runs/dxikpy7b\" target=\"_blank\">https://wandb.ai/acse-jaq15/ACSE_9_MLP_AE/runs/dxikpy7b</a><br/>\n",
              "                Run data is saved locally in <code>/content/feeder_repo/wandb/run-20210723_162521-dxikpy7b</code><br/><br/>\n",
              "            "
            ],
            "text/plain": [
              "<IPython.core.display.HTML object>"
            ]
          },
          "metadata": {
            "tags": []
          }
        },
        {
          "output_type": "stream",
          "text": [
            "Epoch 1/50\n",
            "16/16 [==============================] - 3s 61ms/step - loss: 0.1336 - mean_squared_error: 0.1336 - mean_absolute_error: 0.2414 - val_loss: 0.0414 - val_mean_squared_error: 0.0414 - val_mean_absolute_error: 0.1612\n",
            "Epoch 2/50\n",
            "16/16 [==============================] - 0s 12ms/step - loss: 0.0074 - mean_squared_error: 0.0074 - mean_absolute_error: 0.0655 - val_loss: 0.0237 - val_mean_squared_error: 0.0237 - val_mean_absolute_error: 0.1352\n",
            "Epoch 3/50\n",
            "16/16 [==============================] - 0s 17ms/step - loss: 0.0034 - mean_squared_error: 0.0034 - mean_absolute_error: 0.0443 - val_loss: 0.0240 - val_mean_squared_error: 0.0240 - val_mean_absolute_error: 0.1129\n",
            "Epoch 4/50\n",
            "16/16 [==============================] - 0s 13ms/step - loss: 0.0013 - mean_squared_error: 0.0013 - mean_absolute_error: 0.0242 - val_loss: 0.0259 - val_mean_squared_error: 0.0259 - val_mean_absolute_error: 0.1167\n",
            "Epoch 5/50\n",
            "16/16 [==============================] - 0s 12ms/step - loss: 0.0012 - mean_squared_error: 0.0012 - mean_absolute_error: 0.0211 - val_loss: 0.0182 - val_mean_squared_error: 0.0182 - val_mean_absolute_error: 0.0996\n",
            "Epoch 6/50\n",
            "16/16 [==============================] - 0s 12ms/step - loss: 9.0072e-04 - mean_squared_error: 9.0072e-04 - mean_absolute_error: 0.0193 - val_loss: 0.0185 - val_mean_squared_error: 0.0185 - val_mean_absolute_error: 0.0993\n",
            "Epoch 7/50\n",
            "16/16 [==============================] - 0s 13ms/step - loss: 8.7957e-04 - mean_squared_error: 8.7957e-04 - mean_absolute_error: 0.0187 - val_loss: 0.0153 - val_mean_squared_error: 0.0153 - val_mean_absolute_error: 0.0943\n",
            "Epoch 8/50\n",
            "16/16 [==============================] - 0s 13ms/step - loss: 0.0012 - mean_squared_error: 0.0012 - mean_absolute_error: 0.0204 - val_loss: 0.0203 - val_mean_squared_error: 0.0203 - val_mean_absolute_error: 0.1043\n",
            "Epoch 9/50\n",
            "16/16 [==============================] - 0s 13ms/step - loss: 8.3107e-04 - mean_squared_error: 8.3107e-04 - mean_absolute_error: 0.0177 - val_loss: 0.0176 - val_mean_squared_error: 0.0176 - val_mean_absolute_error: 0.0958\n",
            "Epoch 10/50\n",
            "16/16 [==============================] - 0s 13ms/step - loss: 8.6613e-04 - mean_squared_error: 8.6613e-04 - mean_absolute_error: 0.0178 - val_loss: 0.0126 - val_mean_squared_error: 0.0126 - val_mean_absolute_error: 0.0828\n",
            "Epoch 11/50\n",
            "16/16 [==============================] - 0s 16ms/step - loss: 0.0010 - mean_squared_error: 0.0010 - mean_absolute_error: 0.0194 - val_loss: 0.0188 - val_mean_squared_error: 0.0188 - val_mean_absolute_error: 0.1058\n",
            "Epoch 12/50\n",
            "16/16 [==============================] - 0s 13ms/step - loss: 0.0010 - mean_squared_error: 0.0010 - mean_absolute_error: 0.0198 - val_loss: 0.0108 - val_mean_squared_error: 0.0108 - val_mean_absolute_error: 0.0743\n",
            "Epoch 13/50\n",
            "16/16 [==============================] - 0s 16ms/step - loss: 5.9523e-04 - mean_squared_error: 5.9523e-04 - mean_absolute_error: 0.0157 - val_loss: 0.0085 - val_mean_squared_error: 0.0085 - val_mean_absolute_error: 0.0698\n",
            "Epoch 14/50\n",
            "16/16 [==============================] - 0s 13ms/step - loss: 7.8872e-04 - mean_squared_error: 7.8872e-04 - mean_absolute_error: 0.0177 - val_loss: 0.0091 - val_mean_squared_error: 0.0091 - val_mean_absolute_error: 0.0684\n",
            "Epoch 15/50\n",
            "16/16 [==============================] - 0s 13ms/step - loss: 4.3079e-04 - mean_squared_error: 4.3079e-04 - mean_absolute_error: 0.0127 - val_loss: 0.0071 - val_mean_squared_error: 0.0071 - val_mean_absolute_error: 0.0609\n",
            "Epoch 16/50\n",
            "16/16 [==============================] - 0s 15ms/step - loss: 4.1536e-04 - mean_squared_error: 4.1536e-04 - mean_absolute_error: 0.0130 - val_loss: 0.0070 - val_mean_squared_error: 0.0070 - val_mean_absolute_error: 0.0670\n",
            "Epoch 17/50\n",
            "16/16 [==============================] - 0s 13ms/step - loss: 8.1355e-04 - mean_squared_error: 8.1355e-04 - mean_absolute_error: 0.0177 - val_loss: 0.0068 - val_mean_squared_error: 0.0068 - val_mean_absolute_error: 0.0647\n",
            "Epoch 18/50\n",
            "16/16 [==============================] - 0s 14ms/step - loss: 8.0670e-04 - mean_squared_error: 8.0670e-04 - mean_absolute_error: 0.0179 - val_loss: 0.0073 - val_mean_squared_error: 0.0073 - val_mean_absolute_error: 0.0608\n",
            "Epoch 19/50\n",
            "16/16 [==============================] - 0s 14ms/step - loss: 4.2072e-04 - mean_squared_error: 4.2072e-04 - mean_absolute_error: 0.0139 - val_loss: 0.0086 - val_mean_squared_error: 0.0086 - val_mean_absolute_error: 0.0701\n",
            "Epoch 20/50\n",
            "16/16 [==============================] - 0s 13ms/step - loss: 6.8766e-04 - mean_squared_error: 6.8766e-04 - mean_absolute_error: 0.0166 - val_loss: 0.0076 - val_mean_squared_error: 0.0076 - val_mean_absolute_error: 0.0635\n",
            "Epoch 21/50\n",
            "16/16 [==============================] - 0s 14ms/step - loss: 7.5852e-04 - mean_squared_error: 7.5852e-04 - mean_absolute_error: 0.0196 - val_loss: 0.0160 - val_mean_squared_error: 0.0160 - val_mean_absolute_error: 0.1077\n",
            "Epoch 22/50\n",
            "16/16 [==============================] - 0s 13ms/step - loss: 0.0014 - mean_squared_error: 0.0014 - mean_absolute_error: 0.0244 - val_loss: 0.0066 - val_mean_squared_error: 0.0066 - val_mean_absolute_error: 0.0579\n",
            "Epoch 23/50\n",
            "16/16 [==============================] - 0s 14ms/step - loss: 3.8683e-04 - mean_squared_error: 3.8683e-04 - mean_absolute_error: 0.0134 - val_loss: 0.0155 - val_mean_squared_error: 0.0155 - val_mean_absolute_error: 0.1062\n",
            "Epoch 24/50\n",
            "16/16 [==============================] - 0s 12ms/step - loss: 0.0015 - mean_squared_error: 0.0015 - mean_absolute_error: 0.0253 - val_loss: 0.0068 - val_mean_squared_error: 0.0068 - val_mean_absolute_error: 0.0600\n",
            "Epoch 25/50\n",
            "16/16 [==============================] - 0s 13ms/step - loss: 3.7808e-04 - mean_squared_error: 3.7808e-04 - mean_absolute_error: 0.0129 - val_loss: 0.0054 - val_mean_squared_error: 0.0054 - val_mean_absolute_error: 0.0562\n",
            "Epoch 26/50\n",
            "16/16 [==============================] - 0s 12ms/step - loss: 9.6612e-04 - mean_squared_error: 9.6612e-04 - mean_absolute_error: 0.0204 - val_loss: 0.0058 - val_mean_squared_error: 0.0058 - val_mean_absolute_error: 0.0539\n",
            "Epoch 27/50\n",
            "16/16 [==============================] - 0s 13ms/step - loss: 8.9050e-04 - mean_squared_error: 8.9050e-04 - mean_absolute_error: 0.0211 - val_loss: 0.0059 - val_mean_squared_error: 0.0059 - val_mean_absolute_error: 0.0589\n",
            "Epoch 28/50\n",
            "16/16 [==============================] - 0s 12ms/step - loss: 4.7491e-04 - mean_squared_error: 4.7491e-04 - mean_absolute_error: 0.0135 - val_loss: 0.0053 - val_mean_squared_error: 0.0053 - val_mean_absolute_error: 0.0549\n",
            "Epoch 29/50\n",
            "16/16 [==============================] - 0s 13ms/step - loss: 7.1518e-04 - mean_squared_error: 7.1518e-04 - mean_absolute_error: 0.0175 - val_loss: 0.0065 - val_mean_squared_error: 0.0065 - val_mean_absolute_error: 0.0565\n",
            "Epoch 30/50\n",
            "16/16 [==============================] - 0s 15ms/step - loss: 9.4119e-04 - mean_squared_error: 9.4119e-04 - mean_absolute_error: 0.0225 - val_loss: 0.0053 - val_mean_squared_error: 0.0053 - val_mean_absolute_error: 0.0570\n",
            "Epoch 31/50\n",
            "16/16 [==============================] - 0s 12ms/step - loss: 7.3498e-04 - mean_squared_error: 7.3498e-04 - mean_absolute_error: 0.0188 - val_loss: 0.0049 - val_mean_squared_error: 0.0049 - val_mean_absolute_error: 0.0518\n",
            "Epoch 32/50\n",
            "16/16 [==============================] - 0s 12ms/step - loss: 6.2523e-04 - mean_squared_error: 6.2523e-04 - mean_absolute_error: 0.0163 - val_loss: 0.0146 - val_mean_squared_error: 0.0146 - val_mean_absolute_error: 0.1039\n",
            "Epoch 33/50\n",
            "16/16 [==============================] - 0s 12ms/step - loss: 0.0013 - mean_squared_error: 0.0013 - mean_absolute_error: 0.0225 - val_loss: 0.0056 - val_mean_squared_error: 0.0056 - val_mean_absolute_error: 0.0582\n",
            "Epoch 34/50\n",
            "16/16 [==============================] - 0s 14ms/step - loss: 5.0827e-04 - mean_squared_error: 5.0827e-04 - mean_absolute_error: 0.0153 - val_loss: 0.0095 - val_mean_squared_error: 0.0095 - val_mean_absolute_error: 0.0781\n",
            "Epoch 35/50\n",
            "16/16 [==============================] - 0s 16ms/step - loss: 6.6444e-04 - mean_squared_error: 6.6444e-04 - mean_absolute_error: 0.0169 - val_loss: 0.0051 - val_mean_squared_error: 0.0051 - val_mean_absolute_error: 0.0512\n",
            "Epoch 36/50\n",
            "16/16 [==============================] - 0s 13ms/step - loss: 6.2637e-04 - mean_squared_error: 6.2637e-04 - mean_absolute_error: 0.0155 - val_loss: 0.0060 - val_mean_squared_error: 0.0060 - val_mean_absolute_error: 0.0554\n",
            "Epoch 37/50\n",
            "16/16 [==============================] - 0s 12ms/step - loss: 4.3787e-04 - mean_squared_error: 4.3787e-04 - mean_absolute_error: 0.0143 - val_loss: 0.0047 - val_mean_squared_error: 0.0047 - val_mean_absolute_error: 0.0483\n",
            "Epoch 38/50\n",
            "16/16 [==============================] - 0s 15ms/step - loss: 3.0202e-04 - mean_squared_error: 3.0202e-04 - mean_absolute_error: 0.0114 - val_loss: 0.0047 - val_mean_squared_error: 0.0047 - val_mean_absolute_error: 0.0486\n",
            "Epoch 39/50\n",
            "16/16 [==============================] - 0s 12ms/step - loss: 2.2406e-04 - mean_squared_error: 2.2406e-04 - mean_absolute_error: 0.0097 - val_loss: 0.0048 - val_mean_squared_error: 0.0048 - val_mean_absolute_error: 0.0543\n",
            "Epoch 40/50\n",
            "16/16 [==============================] - 0s 13ms/step - loss: 4.1492e-04 - mean_squared_error: 4.1492e-04 - mean_absolute_error: 0.0133 - val_loss: 0.0048 - val_mean_squared_error: 0.0048 - val_mean_absolute_error: 0.0489\n",
            "Epoch 41/50\n",
            "16/16 [==============================] - 0s 12ms/step - loss: 2.8096e-04 - mean_squared_error: 2.8096e-04 - mean_absolute_error: 0.0104 - val_loss: 0.0069 - val_mean_squared_error: 0.0069 - val_mean_absolute_error: 0.0638\n",
            "Epoch 42/50\n",
            "16/16 [==============================] - 0s 12ms/step - loss: 3.0436e-04 - mean_squared_error: 3.0436e-04 - mean_absolute_error: 0.0113 - val_loss: 0.0057 - val_mean_squared_error: 0.0057 - val_mean_absolute_error: 0.0546\n",
            "Epoch 43/50\n",
            "16/16 [==============================] - 0s 14ms/step - loss: 3.7721e-04 - mean_squared_error: 3.7721e-04 - mean_absolute_error: 0.0128 - val_loss: 0.0060 - val_mean_squared_error: 0.0060 - val_mean_absolute_error: 0.0654\n",
            "Epoch 44/50\n",
            "16/16 [==============================] - 0s 12ms/step - loss: 5.2966e-04 - mean_squared_error: 5.2966e-04 - mean_absolute_error: 0.0165 - val_loss: 0.0107 - val_mean_squared_error: 0.0107 - val_mean_absolute_error: 0.0868\n",
            "Epoch 45/50\n",
            "16/16 [==============================] - 0s 17ms/step - loss: 4.7738e-04 - mean_squared_error: 4.7738e-04 - mean_absolute_error: 0.0138 - val_loss: 0.0051 - val_mean_squared_error: 0.0051 - val_mean_absolute_error: 0.0510\n",
            "Epoch 46/50\n",
            "16/16 [==============================] - 0s 12ms/step - loss: 2.2125e-04 - mean_squared_error: 2.2125e-04 - mean_absolute_error: 0.0091 - val_loss: 0.0048 - val_mean_squared_error: 0.0048 - val_mean_absolute_error: 0.0484\n",
            "Epoch 47/50\n",
            "16/16 [==============================] - 0s 13ms/step - loss: 2.7372e-04 - mean_squared_error: 2.7372e-04 - mean_absolute_error: 0.0102 - val_loss: 0.0043 - val_mean_squared_error: 0.0043 - val_mean_absolute_error: 0.0487\n",
            "Epoch 48/50\n",
            "16/16 [==============================] - 0s 12ms/step - loss: 4.7181e-04 - mean_squared_error: 4.7181e-04 - mean_absolute_error: 0.0137 - val_loss: 0.0098 - val_mean_squared_error: 0.0098 - val_mean_absolute_error: 0.0819\n",
            "Epoch 49/50\n",
            "16/16 [==============================] - 0s 12ms/step - loss: 0.0011 - mean_squared_error: 0.0011 - mean_absolute_error: 0.0214 - val_loss: 0.0097 - val_mean_squared_error: 0.0097 - val_mean_absolute_error: 0.0876\n",
            "Epoch 50/50\n",
            "16/16 [==============================] - 0s 13ms/step - loss: 0.0011 - mean_squared_error: 0.0011 - mean_absolute_error: 0.0228 - val_loss: 0.0046 - val_mean_squared_error: 0.0046 - val_mean_absolute_error: 0.0507\n"
          ],
          "name": "stdout"
        },
        {
          "output_type": "display_data",
          "data": {
            "text/html": [
              "<br/>Waiting for W&B process to finish, PID 6532<br/>Program ended successfully."
            ],
            "text/plain": [
              "<IPython.core.display.HTML object>"
            ]
          },
          "metadata": {
            "tags": []
          }
        },
        {
          "output_type": "display_data",
          "data": {
            "application/vnd.jupyter.widget-view+json": {
              "model_id": "0adb9641e1c5411db50b641c8759d20c",
              "version_minor": 0,
              "version_major": 2
            },
            "text/plain": [
              "VBox(children=(Label(value=' 1.36MB of 1.36MB uploaded (0.00MB deduped)\\r'), FloatProgress(value=1.0, max=1.0)…"
            ]
          },
          "metadata": {
            "tags": []
          }
        },
        {
          "output_type": "display_data",
          "data": {
            "text/html": [
              "Find user logs for this run at: <code>/content/feeder_repo/wandb/run-20210723_162521-dxikpy7b/logs/debug.log</code>"
            ],
            "text/plain": [
              "<IPython.core.display.HTML object>"
            ]
          },
          "metadata": {
            "tags": []
          }
        },
        {
          "output_type": "display_data",
          "data": {
            "text/html": [
              "Find internal logs for this run at: <code>/content/feeder_repo/wandb/run-20210723_162521-dxikpy7b/logs/debug-internal.log</code>"
            ],
            "text/plain": [
              "<IPython.core.display.HTML object>"
            ]
          },
          "metadata": {
            "tags": []
          }
        },
        {
          "output_type": "display_data",
          "data": {
            "text/html": [
              "<h3>Run summary:</h3><br/><style>\n",
              "    table.wandb td:nth-child(1) { padding: 0 10px; text-align: right }\n",
              "    </style><table class=\"wandb\">\n",
              "<tr><td>epoch</td><td>49</td></tr><tr><td>loss</td><td>0.00096</td></tr><tr><td>mean_squared_error</td><td>0.00096</td></tr><tr><td>mean_absolute_error</td><td>0.02162</td></tr><tr><td>val_loss</td><td>0.00457</td></tr><tr><td>val_mean_squared_error</td><td>0.00457</td></tr><tr><td>val_mean_absolute_error</td><td>0.05068</td></tr><tr><td>_runtime</td><td>18</td></tr><tr><td>_timestamp</td><td>1627057539</td></tr><tr><td>_step</td><td>49</td></tr><tr><td>best_val_loss</td><td>0.00435</td></tr><tr><td>best_epoch</td><td>46</td></tr></table>"
            ],
            "text/plain": [
              "<IPython.core.display.HTML object>"
            ]
          },
          "metadata": {
            "tags": []
          }
        },
        {
          "output_type": "display_data",
          "data": {
            "text/html": [
              "<h3>Run history:</h3><br/><style>\n",
              "    table.wandb td:nth-child(1) { padding: 0 10px; text-align: right }\n",
              "    </style><table class=\"wandb\">\n",
              "<tr><td>epoch</td><td>▁▁▁▁▂▂▂▂▂▃▃▃▃▃▃▄▄▄▄▄▅▅▅▅▅▅▆▆▆▆▆▆▇▇▇▇▇███</td></tr><tr><td>loss</td><td>█▂▁▁▁▁▁▁▁▁▁▁▁▁▁▁▁▁▁▁▁▁▁▁▁▁▁▁▁▁▁▁▁▁▁▁▁▁▁▁</td></tr><tr><td>mean_squared_error</td><td>█▂▁▁▁▁▁▁▁▁▁▁▁▁▁▁▁▁▁▁▁▁▁▁▁▁▁▁▁▁▁▁▁▁▁▁▁▁▁▁</td></tr><tr><td>mean_absolute_error</td><td>█▃▂▂▁▁▁▁▁▁▁▁▁▁▁▁▁▁▁▁▂▁▁▁▁▁▁▁▁▁▁▁▁▁▁▁▁▁▁▁</td></tr><tr><td>val_loss</td><td>█▅▅▅▄▃▄▄▄▂▂▂▂▁▂▂▃▁▃▁▁▁▁▁▁▃▁▂▁▁▁▁▁▁▁▂▁▁▂▁</td></tr><tr><td>val_mean_squared_error</td><td>█▅▅▅▄▃▄▄▄▂▂▂▂▁▂▂▃▁▃▁▁▁▁▁▁▃▁▂▁▁▁▁▁▁▁▂▁▁▂▁</td></tr><tr><td>val_mean_absolute_error</td><td>█▆▅▅▄▄▄▄▅▃▂▂▂▂▂▂▅▂▅▂▁▂▁▂▁▄▂▃▁▁▁▁▂▁▂▃▁▁▃▁</td></tr><tr><td>_runtime</td><td>▁▂▂▂▂▂▂▂▃▃▃▃▃▄▄▄▅▅▅▅▅▅▅▆▆▆▆▆▆▆▇▇▇▇▇▇████</td></tr><tr><td>_timestamp</td><td>▁▂▂▂▂▂▂▂▃▃▃▃▃▄▄▄▅▅▅▅▅▅▅▆▆▆▆▆▆▆▇▇▇▇▇▇████</td></tr><tr><td>_step</td><td>▁▁▁▁▂▂▂▂▂▃▃▃▃▃▃▄▄▄▄▄▅▅▅▅▅▅▆▆▆▆▆▆▇▇▇▇▇███</td></tr></table><br/>"
            ],
            "text/plain": [
              "<IPython.core.display.HTML object>"
            ]
          },
          "metadata": {
            "tags": []
          }
        },
        {
          "output_type": "display_data",
          "data": {
            "text/html": [
              "Synced 5 W&B file(s), 1 media file(s), 2 artifact file(s) and 2 other file(s)"
            ],
            "text/plain": [
              "<IPython.core.display.HTML object>"
            ]
          },
          "metadata": {
            "tags": []
          }
        },
        {
          "output_type": "display_data",
          "data": {
            "text/html": [
              "\n",
              "                    <br/>Synced <strong style=\"color:#cdcd00\">vivid-sweep-38</strong>: <a href=\"https://wandb.ai/acse-jaq15/ACSE_9_MLP_AE/runs/dxikpy7b\" target=\"_blank\">https://wandb.ai/acse-jaq15/ACSE_9_MLP_AE/runs/dxikpy7b</a><br/>\n",
              "                "
            ],
            "text/plain": [
              "<IPython.core.display.HTML object>"
            ]
          },
          "metadata": {
            "tags": []
          }
        },
        {
          "output_type": "stream",
          "text": [
            "\u001b[34m\u001b[1mwandb\u001b[0m: Agent Starting Run: e2rn8ip9 with config:\n",
            "\u001b[34m\u001b[1mwandb\u001b[0m: \tactivation: selu\n",
            "\u001b[34m\u001b[1mwandb\u001b[0m: \tbatch_size: 128\n",
            "\u001b[34m\u001b[1mwandb\u001b[0m: \tepochs: 50\n",
            "\u001b[34m\u001b[1mwandb\u001b[0m: \tlearning_rate: 0.0005\n",
            "\u001b[34m\u001b[1mwandb\u001b[0m: \toptimizer: sgd\n"
          ],
          "name": "stderr"
        },
        {
          "output_type": "display_data",
          "data": {
            "text/html": [
              "\n",
              "                Tracking run with wandb version 0.11.0<br/>\n",
              "                Syncing run <strong style=\"color:#cdcd00\">smart-sweep-39</strong> to <a href=\"https://wandb.ai\" target=\"_blank\">Weights & Biases</a> <a href=\"https://docs.wandb.com/integrations/jupyter.html\" target=\"_blank\">(Documentation)</a>.<br/>\n",
              "                Project page: <a href=\"https://wandb.ai/acse-jaq15/ACSE_9_MLP_AE\" target=\"_blank\">https://wandb.ai/acse-jaq15/ACSE_9_MLP_AE</a><br/>\n",
              "                Sweep page: <a href=\"https://wandb.ai/acse-jaq15/ACSE_9_MLP_AE/sweeps/6wgndl46\" target=\"_blank\">https://wandb.ai/acse-jaq15/ACSE_9_MLP_AE/sweeps/6wgndl46</a><br/>\n",
              "Run page: <a href=\"https://wandb.ai/acse-jaq15/ACSE_9_MLP_AE/runs/e2rn8ip9\" target=\"_blank\">https://wandb.ai/acse-jaq15/ACSE_9_MLP_AE/runs/e2rn8ip9</a><br/>\n",
              "                Run data is saved locally in <code>/content/feeder_repo/wandb/run-20210723_162555-e2rn8ip9</code><br/><br/>\n",
              "            "
            ],
            "text/plain": [
              "<IPython.core.display.HTML object>"
            ]
          },
          "metadata": {
            "tags": []
          }
        },
        {
          "output_type": "stream",
          "text": [
            "Epoch 1/50\n",
            "8/8 [==============================] - 3s 112ms/step - loss: 0.0485 - mean_squared_error: 0.0485 - mean_absolute_error: 0.1401 - val_loss: 0.0481 - val_mean_squared_error: 0.0481 - val_mean_absolute_error: 0.1619\n",
            "Epoch 2/50\n",
            "8/8 [==============================] - 0s 13ms/step - loss: 0.0036 - mean_squared_error: 0.0036 - mean_absolute_error: 0.0458 - val_loss: 0.0510 - val_mean_squared_error: 0.0510 - val_mean_absolute_error: 0.1634\n",
            "Epoch 3/50\n",
            "8/8 [==============================] - 0s 13ms/step - loss: 0.0022 - mean_squared_error: 0.0022 - mean_absolute_error: 0.0327 - val_loss: 0.0491 - val_mean_squared_error: 0.0491 - val_mean_absolute_error: 0.1594\n",
            "Epoch 4/50\n",
            "8/8 [==============================] - 0s 13ms/step - loss: 0.0020 - mean_squared_error: 0.0020 - mean_absolute_error: 0.0299 - val_loss: 0.0457 - val_mean_squared_error: 0.0457 - val_mean_absolute_error: 0.1546\n",
            "Epoch 5/50\n",
            "8/8 [==============================] - 0s 14ms/step - loss: 0.0016 - mean_squared_error: 0.0016 - mean_absolute_error: 0.0269 - val_loss: 0.0446 - val_mean_squared_error: 0.0446 - val_mean_absolute_error: 0.1521\n",
            "Epoch 6/50\n",
            "8/8 [==============================] - 0s 16ms/step - loss: 0.0016 - mean_squared_error: 0.0016 - mean_absolute_error: 0.0263 - val_loss: 0.0436 - val_mean_squared_error: 0.0436 - val_mean_absolute_error: 0.1503\n",
            "Epoch 7/50\n",
            "8/8 [==============================] - 0s 13ms/step - loss: 0.0015 - mean_squared_error: 0.0015 - mean_absolute_error: 0.0248 - val_loss: 0.0389 - val_mean_squared_error: 0.0389 - val_mean_absolute_error: 0.1432\n",
            "Epoch 8/50\n",
            "8/8 [==============================] - 0s 13ms/step - loss: 0.0015 - mean_squared_error: 0.0015 - mean_absolute_error: 0.0244 - val_loss: 0.0365 - val_mean_squared_error: 0.0365 - val_mean_absolute_error: 0.1393\n",
            "Epoch 9/50\n",
            "8/8 [==============================] - 0s 14ms/step - loss: 0.0015 - mean_squared_error: 0.0015 - mean_absolute_error: 0.0244 - val_loss: 0.0359 - val_mean_squared_error: 0.0359 - val_mean_absolute_error: 0.1374\n",
            "Epoch 10/50\n",
            "8/8 [==============================] - 0s 14ms/step - loss: 0.0012 - mean_squared_error: 0.0012 - mean_absolute_error: 0.0224 - val_loss: 0.0361 - val_mean_squared_error: 0.0361 - val_mean_absolute_error: 0.1371\n",
            "Epoch 11/50\n",
            "8/8 [==============================] - 0s 16ms/step - loss: 0.0012 - mean_squared_error: 0.0012 - mean_absolute_error: 0.0224 - val_loss: 0.0332 - val_mean_squared_error: 0.0332 - val_mean_absolute_error: 0.1322\n",
            "Epoch 12/50\n",
            "8/8 [==============================] - 0s 14ms/step - loss: 0.0011 - mean_squared_error: 0.0011 - mean_absolute_error: 0.0212 - val_loss: 0.0314 - val_mean_squared_error: 0.0314 - val_mean_absolute_error: 0.1289\n",
            "Epoch 13/50\n",
            "8/8 [==============================] - 0s 14ms/step - loss: 0.0012 - mean_squared_error: 0.0012 - mean_absolute_error: 0.0216 - val_loss: 0.0312 - val_mean_squared_error: 0.0312 - val_mean_absolute_error: 0.1280\n",
            "Epoch 14/50\n",
            "8/8 [==============================] - 0s 13ms/step - loss: 0.0011 - mean_squared_error: 0.0011 - mean_absolute_error: 0.0209 - val_loss: 0.0304 - val_mean_squared_error: 0.0304 - val_mean_absolute_error: 0.1262\n",
            "Epoch 15/50\n",
            "8/8 [==============================] - 0s 16ms/step - loss: 0.0011 - mean_squared_error: 0.0011 - mean_absolute_error: 0.0208 - val_loss: 0.0320 - val_mean_squared_error: 0.0320 - val_mean_absolute_error: 0.1289\n",
            "Epoch 16/50\n",
            "8/8 [==============================] - 0s 14ms/step - loss: 9.2402e-04 - mean_squared_error: 9.2402e-04 - mean_absolute_error: 0.0196 - val_loss: 0.0276 - val_mean_squared_error: 0.0276 - val_mean_absolute_error: 0.1206\n",
            "Epoch 17/50\n",
            "8/8 [==============================] - 0s 13ms/step - loss: 0.0010 - mean_squared_error: 0.0010 - mean_absolute_error: 0.0202 - val_loss: 0.0257 - val_mean_squared_error: 0.0257 - val_mean_absolute_error: 0.1169\n",
            "Epoch 18/50\n",
            "8/8 [==============================] - 0s 14ms/step - loss: 0.0011 - mean_squared_error: 0.0011 - mean_absolute_error: 0.0200 - val_loss: 0.0276 - val_mean_squared_error: 0.0276 - val_mean_absolute_error: 0.1198\n",
            "Epoch 19/50\n",
            "8/8 [==============================] - 0s 13ms/step - loss: 9.3874e-04 - mean_squared_error: 9.3874e-04 - mean_absolute_error: 0.0195 - val_loss: 0.0265 - val_mean_squared_error: 0.0265 - val_mean_absolute_error: 0.1175\n",
            "Epoch 20/50\n",
            "8/8 [==============================] - 0s 13ms/step - loss: 8.8847e-04 - mean_squared_error: 8.8847e-04 - mean_absolute_error: 0.0191 - val_loss: 0.0237 - val_mean_squared_error: 0.0237 - val_mean_absolute_error: 0.1118\n",
            "Epoch 21/50\n",
            "8/8 [==============================] - 0s 15ms/step - loss: 8.7880e-04 - mean_squared_error: 8.7880e-04 - mean_absolute_error: 0.0184 - val_loss: 0.0226 - val_mean_squared_error: 0.0226 - val_mean_absolute_error: 0.1091\n",
            "Epoch 22/50\n",
            "8/8 [==============================] - 0s 17ms/step - loss: 8.6448e-04 - mean_squared_error: 8.6448e-04 - mean_absolute_error: 0.0183 - val_loss: 0.0226 - val_mean_squared_error: 0.0226 - val_mean_absolute_error: 0.1086\n",
            "Epoch 23/50\n",
            "8/8 [==============================] - 0s 16ms/step - loss: 8.6433e-04 - mean_squared_error: 8.6433e-04 - mean_absolute_error: 0.0181 - val_loss: 0.0226 - val_mean_squared_error: 0.0226 - val_mean_absolute_error: 0.1083\n",
            "Epoch 24/50\n",
            "8/8 [==============================] - 0s 14ms/step - loss: 7.6909e-04 - mean_squared_error: 7.6909e-04 - mean_absolute_error: 0.0170 - val_loss: 0.0213 - val_mean_squared_error: 0.0213 - val_mean_absolute_error: 0.1053\n",
            "Epoch 25/50\n",
            "8/8 [==============================] - 0s 16ms/step - loss: 7.2240e-04 - mean_squared_error: 7.2240e-04 - mean_absolute_error: 0.0165 - val_loss: 0.0216 - val_mean_squared_error: 0.0216 - val_mean_absolute_error: 0.1055\n",
            "Epoch 26/50\n",
            "8/8 [==============================] - 0s 13ms/step - loss: 7.8069e-04 - mean_squared_error: 7.8069e-04 - mean_absolute_error: 0.0173 - val_loss: 0.0204 - val_mean_squared_error: 0.0204 - val_mean_absolute_error: 0.1027\n",
            "Epoch 27/50\n",
            "8/8 [==============================] - 0s 13ms/step - loss: 7.2757e-04 - mean_squared_error: 7.2757e-04 - mean_absolute_error: 0.0165 - val_loss: 0.0203 - val_mean_squared_error: 0.0203 - val_mean_absolute_error: 0.1020\n",
            "Epoch 28/50\n",
            "8/8 [==============================] - 0s 13ms/step - loss: 7.1692e-04 - mean_squared_error: 7.1692e-04 - mean_absolute_error: 0.0167 - val_loss: 0.0204 - val_mean_squared_error: 0.0204 - val_mean_absolute_error: 0.1022\n",
            "Epoch 29/50\n",
            "8/8 [==============================] - 0s 16ms/step - loss: 7.3781e-04 - mean_squared_error: 7.3781e-04 - mean_absolute_error: 0.0169 - val_loss: 0.0190 - val_mean_squared_error: 0.0190 - val_mean_absolute_error: 0.0986\n",
            "Epoch 30/50\n",
            "8/8 [==============================] - 0s 14ms/step - loss: 7.3686e-04 - mean_squared_error: 7.3686e-04 - mean_absolute_error: 0.0166 - val_loss: 0.0202 - val_mean_squared_error: 0.0202 - val_mean_absolute_error: 0.1019\n",
            "Epoch 31/50\n",
            "8/8 [==============================] - 0s 15ms/step - loss: 6.7964e-04 - mean_squared_error: 6.7964e-04 - mean_absolute_error: 0.0165 - val_loss: 0.0181 - val_mean_squared_error: 0.0181 - val_mean_absolute_error: 0.0960\n",
            "Epoch 32/50\n",
            "8/8 [==============================] - 0s 16ms/step - loss: 6.9325e-04 - mean_squared_error: 6.9325e-04 - mean_absolute_error: 0.0162 - val_loss: 0.0176 - val_mean_squared_error: 0.0176 - val_mean_absolute_error: 0.0945\n",
            "Epoch 33/50\n",
            "8/8 [==============================] - 0s 15ms/step - loss: 6.4574e-04 - mean_squared_error: 6.4574e-04 - mean_absolute_error: 0.0153 - val_loss: 0.0178 - val_mean_squared_error: 0.0178 - val_mean_absolute_error: 0.0950\n",
            "Epoch 34/50\n",
            "8/8 [==============================] - 0s 14ms/step - loss: 5.8959e-04 - mean_squared_error: 5.8959e-04 - mean_absolute_error: 0.0148 - val_loss: 0.0175 - val_mean_squared_error: 0.0175 - val_mean_absolute_error: 0.0941\n",
            "Epoch 35/50\n",
            "8/8 [==============================] - 0s 15ms/step - loss: 6.0471e-04 - mean_squared_error: 6.0471e-04 - mean_absolute_error: 0.0150 - val_loss: 0.0164 - val_mean_squared_error: 0.0164 - val_mean_absolute_error: 0.0907\n",
            "Epoch 36/50\n",
            "8/8 [==============================] - 0s 15ms/step - loss: 6.3650e-04 - mean_squared_error: 6.3650e-04 - mean_absolute_error: 0.0152 - val_loss: 0.0153 - val_mean_squared_error: 0.0153 - val_mean_absolute_error: 0.0876\n",
            "Epoch 37/50\n",
            "8/8 [==============================] - 0s 16ms/step - loss: 6.1797e-04 - mean_squared_error: 6.1797e-04 - mean_absolute_error: 0.0149 - val_loss: 0.0148 - val_mean_squared_error: 0.0148 - val_mean_absolute_error: 0.0862\n",
            "Epoch 38/50\n",
            "8/8 [==============================] - 0s 17ms/step - loss: 5.7722e-04 - mean_squared_error: 5.7722e-04 - mean_absolute_error: 0.0143 - val_loss: 0.0157 - val_mean_squared_error: 0.0157 - val_mean_absolute_error: 0.0889\n",
            "Epoch 39/50\n",
            "8/8 [==============================] - 0s 15ms/step - loss: 5.5083e-04 - mean_squared_error: 5.5083e-04 - mean_absolute_error: 0.0140 - val_loss: 0.0144 - val_mean_squared_error: 0.0144 - val_mean_absolute_error: 0.0849\n",
            "Epoch 40/50\n",
            "8/8 [==============================] - 0s 15ms/step - loss: 5.6387e-04 - mean_squared_error: 5.6387e-04 - mean_absolute_error: 0.0141 - val_loss: 0.0151 - val_mean_squared_error: 0.0151 - val_mean_absolute_error: 0.0871\n",
            "Epoch 41/50\n",
            "8/8 [==============================] - 0s 13ms/step - loss: 5.5557e-04 - mean_squared_error: 5.5557e-04 - mean_absolute_error: 0.0139 - val_loss: 0.0144 - val_mean_squared_error: 0.0144 - val_mean_absolute_error: 0.0851\n",
            "Epoch 42/50\n",
            "8/8 [==============================] - 0s 15ms/step - loss: 4.7087e-04 - mean_squared_error: 4.7087e-04 - mean_absolute_error: 0.0127 - val_loss: 0.0138 - val_mean_squared_error: 0.0138 - val_mean_absolute_error: 0.0832\n",
            "Epoch 43/50\n",
            "8/8 [==============================] - 0s 13ms/step - loss: 5.2526e-04 - mean_squared_error: 5.2526e-04 - mean_absolute_error: 0.0137 - val_loss: 0.0130 - val_mean_squared_error: 0.0130 - val_mean_absolute_error: 0.0808\n",
            "Epoch 44/50\n",
            "8/8 [==============================] - 0s 16ms/step - loss: 5.1578e-04 - mean_squared_error: 5.1578e-04 - mean_absolute_error: 0.0138 - val_loss: 0.0132 - val_mean_squared_error: 0.0132 - val_mean_absolute_error: 0.0812\n",
            "Epoch 45/50\n",
            "8/8 [==============================] - 0s 14ms/step - loss: 5.6489e-04 - mean_squared_error: 5.6489e-04 - mean_absolute_error: 0.0141 - val_loss: 0.0124 - val_mean_squared_error: 0.0124 - val_mean_absolute_error: 0.0790\n",
            "Epoch 46/50\n",
            "8/8 [==============================] - 0s 14ms/step - loss: 5.3469e-04 - mean_squared_error: 5.3469e-04 - mean_absolute_error: 0.0133 - val_loss: 0.0136 - val_mean_squared_error: 0.0136 - val_mean_absolute_error: 0.0829\n",
            "Epoch 47/50\n",
            "8/8 [==============================] - 0s 14ms/step - loss: 5.0671e-04 - mean_squared_error: 5.0671e-04 - mean_absolute_error: 0.0133 - val_loss: 0.0124 - val_mean_squared_error: 0.0124 - val_mean_absolute_error: 0.0788\n",
            "Epoch 48/50\n",
            "8/8 [==============================] - 0s 16ms/step - loss: 5.4527e-04 - mean_squared_error: 5.4527e-04 - mean_absolute_error: 0.0140 - val_loss: 0.0127 - val_mean_squared_error: 0.0127 - val_mean_absolute_error: 0.0799\n",
            "Epoch 49/50\n",
            "8/8 [==============================] - 0s 15ms/step - loss: 5.4636e-04 - mean_squared_error: 5.4636e-04 - mean_absolute_error: 0.0136 - val_loss: 0.0133 - val_mean_squared_error: 0.0133 - val_mean_absolute_error: 0.0826\n",
            "Epoch 50/50\n",
            "8/8 [==============================] - 0s 14ms/step - loss: 4.9476e-04 - mean_squared_error: 4.9476e-04 - mean_absolute_error: 0.0133 - val_loss: 0.0117 - val_mean_squared_error: 0.0117 - val_mean_absolute_error: 0.0765\n"
          ],
          "name": "stdout"
        },
        {
          "output_type": "display_data",
          "data": {
            "text/html": [
              "<br/>Waiting for W&B process to finish, PID 6737<br/>Program ended successfully."
            ],
            "text/plain": [
              "<IPython.core.display.HTML object>"
            ]
          },
          "metadata": {
            "tags": []
          }
        },
        {
          "output_type": "display_data",
          "data": {
            "application/vnd.jupyter.widget-view+json": {
              "model_id": "1ea9e0e4019a42d1b920ea4dc6663786",
              "version_minor": 0,
              "version_major": 2
            },
            "text/plain": [
              "VBox(children=(Label(value=' 1.04MB of 1.04MB uploaded (0.00MB deduped)\\r'), FloatProgress(value=1.0, max=1.0)…"
            ]
          },
          "metadata": {
            "tags": []
          }
        },
        {
          "output_type": "display_data",
          "data": {
            "text/html": [
              "Find user logs for this run at: <code>/content/feeder_repo/wandb/run-20210723_162555-e2rn8ip9/logs/debug.log</code>"
            ],
            "text/plain": [
              "<IPython.core.display.HTML object>"
            ]
          },
          "metadata": {
            "tags": []
          }
        },
        {
          "output_type": "display_data",
          "data": {
            "text/html": [
              "Find internal logs for this run at: <code>/content/feeder_repo/wandb/run-20210723_162555-e2rn8ip9/logs/debug-internal.log</code>"
            ],
            "text/plain": [
              "<IPython.core.display.HTML object>"
            ]
          },
          "metadata": {
            "tags": []
          }
        },
        {
          "output_type": "display_data",
          "data": {
            "text/html": [
              "<h3>Run summary:</h3><br/><style>\n",
              "    table.wandb td:nth-child(1) { padding: 0 10px; text-align: right }\n",
              "    </style><table class=\"wandb\">\n",
              "<tr><td>epoch</td><td>49</td></tr><tr><td>loss</td><td>0.0005</td></tr><tr><td>mean_squared_error</td><td>0.0005</td></tr><tr><td>mean_absolute_error</td><td>0.01324</td></tr><tr><td>val_loss</td><td>0.01168</td></tr><tr><td>val_mean_squared_error</td><td>0.01168</td></tr><tr><td>val_mean_absolute_error</td><td>0.07652</td></tr><tr><td>_runtime</td><td>15</td></tr><tr><td>_timestamp</td><td>1627057570</td></tr><tr><td>_step</td><td>49</td></tr><tr><td>best_val_loss</td><td>0.01168</td></tr><tr><td>best_epoch</td><td>49</td></tr></table>"
            ],
            "text/plain": [
              "<IPython.core.display.HTML object>"
            ]
          },
          "metadata": {
            "tags": []
          }
        },
        {
          "output_type": "display_data",
          "data": {
            "text/html": [
              "<h3>Run history:</h3><br/><style>\n",
              "    table.wandb td:nth-child(1) { padding: 0 10px; text-align: right }\n",
              "    </style><table class=\"wandb\">\n",
              "<tr><td>epoch</td><td>▁▁▁▁▂▂▂▂▂▃▃▃▃▃▃▄▄▄▄▄▅▅▅▅▅▅▆▆▆▆▆▆▇▇▇▇▇███</td></tr><tr><td>loss</td><td>█▂▁▁▁▁▁▁▁▁▁▁▁▁▁▁▁▁▁▁▁▁▁▁▁▁▁▁▁▁▁▁▁▁▁▁▁▁▁▁</td></tr><tr><td>mean_squared_error</td><td>█▂▁▁▁▁▁▁▁▁▁▁▁▁▁▁▁▁▁▁▁▁▁▁▁▁▁▁▁▁▁▁▁▁▁▁▁▁▁▁</td></tr><tr><td>mean_absolute_error</td><td>█▃▂▂▂▂▂▂▂▂▂▂▂▁▁▁▁▁▁▁▁▁▁▁▁▁▁▁▁▁▁▁▁▁▁▁▁▁▁▁</td></tr><tr><td>val_loss</td><td>▇██▇▇▆▅▅▅▅▄▄▄▃▄▄▃▃▃▃▃▃▃▂▂▂▂▂▂▂▂▁▁▁▁▁▁▁▁▁</td></tr><tr><td>val_mean_squared_error</td><td>▇██▇▇▆▅▅▅▅▄▄▄▃▄▄▃▃▃▃▃▃▃▂▂▂▂▂▂▂▂▁▁▁▁▁▁▁▁▁</td></tr><tr><td>val_mean_absolute_error</td><td>███▇▇▆▆▆▅▅▅▅▅▄▄▄▄▄▄▃▃▃▃▃▃▂▂▂▂▂▂▂▂▂▁▁▂▁▁▁</td></tr><tr><td>_runtime</td><td>▁▂▂▂▂▂▃▃▃▃▃▃▄▄▄▄▅▅▅▅▅▅▅▅▅▅▅▆▆▆▆▆▇▇▇▇▇███</td></tr><tr><td>_timestamp</td><td>▁▂▂▂▂▂▃▃▃▃▃▃▄▄▄▄▅▅▅▅▅▅▅▅▅▅▅▆▆▆▆▆▇▇▇▇▇███</td></tr><tr><td>_step</td><td>▁▁▁▁▂▂▂▂▂▃▃▃▃▃▃▄▄▄▄▄▅▅▅▅▅▅▆▆▆▆▆▆▇▇▇▇▇███</td></tr></table><br/>"
            ],
            "text/plain": [
              "<IPython.core.display.HTML object>"
            ]
          },
          "metadata": {
            "tags": []
          }
        },
        {
          "output_type": "display_data",
          "data": {
            "text/html": [
              "Synced 5 W&B file(s), 1 media file(s), 2 artifact file(s) and 2 other file(s)"
            ],
            "text/plain": [
              "<IPython.core.display.HTML object>"
            ]
          },
          "metadata": {
            "tags": []
          }
        },
        {
          "output_type": "display_data",
          "data": {
            "text/html": [
              "\n",
              "                    <br/>Synced <strong style=\"color:#cdcd00\">smart-sweep-39</strong>: <a href=\"https://wandb.ai/acse-jaq15/ACSE_9_MLP_AE/runs/e2rn8ip9\" target=\"_blank\">https://wandb.ai/acse-jaq15/ACSE_9_MLP_AE/runs/e2rn8ip9</a><br/>\n",
              "                "
            ],
            "text/plain": [
              "<IPython.core.display.HTML object>"
            ]
          },
          "metadata": {
            "tags": []
          }
        },
        {
          "output_type": "stream",
          "text": [
            "\u001b[34m\u001b[1mwandb\u001b[0m: Agent Starting Run: gssg58iu with config:\n",
            "\u001b[34m\u001b[1mwandb\u001b[0m: \tactivation: selu\n",
            "\u001b[34m\u001b[1mwandb\u001b[0m: \tbatch_size: 128\n",
            "\u001b[34m\u001b[1mwandb\u001b[0m: \tepochs: 50\n",
            "\u001b[34m\u001b[1mwandb\u001b[0m: \tlearning_rate: 0.001\n",
            "\u001b[34m\u001b[1mwandb\u001b[0m: \toptimizer: adam\n"
          ],
          "name": "stderr"
        },
        {
          "output_type": "display_data",
          "data": {
            "text/html": [
              "\n",
              "                Tracking run with wandb version 0.11.0<br/>\n",
              "                Syncing run <strong style=\"color:#cdcd00\">silver-sweep-40</strong> to <a href=\"https://wandb.ai\" target=\"_blank\">Weights & Biases</a> <a href=\"https://docs.wandb.com/integrations/jupyter.html\" target=\"_blank\">(Documentation)</a>.<br/>\n",
              "                Project page: <a href=\"https://wandb.ai/acse-jaq15/ACSE_9_MLP_AE\" target=\"_blank\">https://wandb.ai/acse-jaq15/ACSE_9_MLP_AE</a><br/>\n",
              "                Sweep page: <a href=\"https://wandb.ai/acse-jaq15/ACSE_9_MLP_AE/sweeps/6wgndl46\" target=\"_blank\">https://wandb.ai/acse-jaq15/ACSE_9_MLP_AE/sweeps/6wgndl46</a><br/>\n",
              "Run page: <a href=\"https://wandb.ai/acse-jaq15/ACSE_9_MLP_AE/runs/gssg58iu\" target=\"_blank\">https://wandb.ai/acse-jaq15/ACSE_9_MLP_AE/runs/gssg58iu</a><br/>\n",
              "                Run data is saved locally in <code>/content/feeder_repo/wandb/run-20210723_162619-gssg58iu</code><br/><br/>\n",
              "            "
            ],
            "text/plain": [
              "<IPython.core.display.HTML object>"
            ]
          },
          "metadata": {
            "tags": []
          }
        },
        {
          "output_type": "stream",
          "text": [
            "Epoch 1/50\n",
            "8/8 [==============================] - 3s 113ms/step - loss: 2.9019 - mean_squared_error: 2.9019 - mean_absolute_error: 1.1407 - val_loss: 0.0496 - val_mean_squared_error: 0.0496 - val_mean_absolute_error: 0.1591\n",
            "Epoch 2/50\n",
            "8/8 [==============================] - 0s 19ms/step - loss: 0.1080 - mean_squared_error: 0.1080 - mean_absolute_error: 0.2202 - val_loss: 0.4328 - val_mean_squared_error: 0.4328 - val_mean_absolute_error: 0.6147\n",
            "Epoch 3/50\n",
            "8/8 [==============================] - 0s 17ms/step - loss: 0.0585 - mean_squared_error: 0.0585 - mean_absolute_error: 0.1699 - val_loss: 0.1186 - val_mean_squared_error: 0.1186 - val_mean_absolute_error: 0.3163\n",
            "Epoch 4/50\n",
            "8/8 [==============================] - 0s 13ms/step - loss: 0.0299 - mean_squared_error: 0.0299 - mean_absolute_error: 0.1319 - val_loss: 0.0431 - val_mean_squared_error: 0.0431 - val_mean_absolute_error: 0.1837\n",
            "Epoch 5/50\n",
            "8/8 [==============================] - 0s 18ms/step - loss: 0.0092 - mean_squared_error: 0.0092 - mean_absolute_error: 0.0663 - val_loss: 0.0186 - val_mean_squared_error: 0.0186 - val_mean_absolute_error: 0.1173\n",
            "Epoch 6/50\n",
            "8/8 [==============================] - 0s 15ms/step - loss: 0.0042 - mean_squared_error: 0.0042 - mean_absolute_error: 0.0462 - val_loss: 0.0109 - val_mean_squared_error: 0.0109 - val_mean_absolute_error: 0.0822\n",
            "Epoch 7/50\n",
            "8/8 [==============================] - 0s 15ms/step - loss: 0.0017 - mean_squared_error: 0.0017 - mean_absolute_error: 0.0262 - val_loss: 0.0172 - val_mean_squared_error: 0.0172 - val_mean_absolute_error: 0.1007\n",
            "Epoch 8/50\n",
            "8/8 [==============================] - 0s 18ms/step - loss: 8.5684e-04 - mean_squared_error: 8.5684e-04 - mean_absolute_error: 0.0186 - val_loss: 0.0094 - val_mean_squared_error: 0.0094 - val_mean_absolute_error: 0.0682\n",
            "Epoch 9/50\n",
            "8/8 [==============================] - 0s 15ms/step - loss: 6.1639e-04 - mean_squared_error: 6.1639e-04 - mean_absolute_error: 0.0152 - val_loss: 0.0059 - val_mean_squared_error: 0.0059 - val_mean_absolute_error: 0.0531\n",
            "Epoch 10/50\n",
            "8/8 [==============================] - 0s 17ms/step - loss: 4.1133e-04 - mean_squared_error: 4.1133e-04 - mean_absolute_error: 0.0130 - val_loss: 0.0056 - val_mean_squared_error: 0.0056 - val_mean_absolute_error: 0.0601\n",
            "Epoch 11/50\n",
            "8/8 [==============================] - 0s 15ms/step - loss: 6.2920e-04 - mean_squared_error: 6.2920e-04 - mean_absolute_error: 0.0147 - val_loss: 0.0043 - val_mean_squared_error: 0.0043 - val_mean_absolute_error: 0.0482\n",
            "Epoch 12/50\n",
            "8/8 [==============================] - 0s 15ms/step - loss: 4.8208e-04 - mean_squared_error: 4.8208e-04 - mean_absolute_error: 0.0132 - val_loss: 0.0044 - val_mean_squared_error: 0.0044 - val_mean_absolute_error: 0.0510\n",
            "Epoch 13/50\n",
            "8/8 [==============================] - 0s 15ms/step - loss: 4.9533e-04 - mean_squared_error: 4.9533e-04 - mean_absolute_error: 0.0145 - val_loss: 0.0043 - val_mean_squared_error: 0.0043 - val_mean_absolute_error: 0.0461\n",
            "Epoch 14/50\n",
            "8/8 [==============================] - 0s 15ms/step - loss: 3.4054e-04 - mean_squared_error: 3.4054e-04 - mean_absolute_error: 0.0124 - val_loss: 0.0057 - val_mean_squared_error: 0.0057 - val_mean_absolute_error: 0.0551\n",
            "Epoch 15/50\n",
            "8/8 [==============================] - 0s 14ms/step - loss: 5.8888e-04 - mean_squared_error: 5.8888e-04 - mean_absolute_error: 0.0150 - val_loss: 0.0116 - val_mean_squared_error: 0.0116 - val_mean_absolute_error: 0.0872\n",
            "Epoch 16/50\n",
            "8/8 [==============================] - 0s 22ms/step - loss: 0.0010 - mean_squared_error: 0.0010 - mean_absolute_error: 0.0195 - val_loss: 0.0096 - val_mean_squared_error: 0.0096 - val_mean_absolute_error: 0.0770\n",
            "Epoch 17/50\n",
            "8/8 [==============================] - 0s 15ms/step - loss: 7.1078e-04 - mean_squared_error: 7.1078e-04 - mean_absolute_error: 0.0170 - val_loss: 0.0054 - val_mean_squared_error: 0.0054 - val_mean_absolute_error: 0.0514\n",
            "Epoch 18/50\n",
            "8/8 [==============================] - 0s 17ms/step - loss: 3.7523e-04 - mean_squared_error: 3.7523e-04 - mean_absolute_error: 0.0111 - val_loss: 0.0046 - val_mean_squared_error: 0.0046 - val_mean_absolute_error: 0.0525\n",
            "Epoch 19/50\n",
            "8/8 [==============================] - 0s 15ms/step - loss: 5.0877e-04 - mean_squared_error: 5.0877e-04 - mean_absolute_error: 0.0149 - val_loss: 0.0044 - val_mean_squared_error: 0.0044 - val_mean_absolute_error: 0.0505\n",
            "Epoch 20/50\n",
            "8/8 [==============================] - 0s 16ms/step - loss: 4.6337e-04 - mean_squared_error: 4.6337e-04 - mean_absolute_error: 0.0138 - val_loss: 0.0042 - val_mean_squared_error: 0.0042 - val_mean_absolute_error: 0.0470\n",
            "Epoch 21/50\n",
            "8/8 [==============================] - 0s 15ms/step - loss: 4.7417e-04 - mean_squared_error: 4.7417e-04 - mean_absolute_error: 0.0119 - val_loss: 0.0040 - val_mean_squared_error: 0.0040 - val_mean_absolute_error: 0.0461\n",
            "Epoch 22/50\n",
            "8/8 [==============================] - 0s 17ms/step - loss: 5.4418e-04 - mean_squared_error: 5.4418e-04 - mean_absolute_error: 0.0131 - val_loss: 0.0065 - val_mean_squared_error: 0.0065 - val_mean_absolute_error: 0.0594\n",
            "Epoch 23/50\n",
            "8/8 [==============================] - 0s 15ms/step - loss: 2.9965e-04 - mean_squared_error: 2.9965e-04 - mean_absolute_error: 0.0111 - val_loss: 0.0059 - val_mean_squared_error: 0.0059 - val_mean_absolute_error: 0.0570\n",
            "Epoch 24/50\n",
            "8/8 [==============================] - 0s 14ms/step - loss: 4.3669e-04 - mean_squared_error: 4.3669e-04 - mean_absolute_error: 0.0124 - val_loss: 0.0053 - val_mean_squared_error: 0.0053 - val_mean_absolute_error: 0.0535\n",
            "Epoch 25/50\n",
            "8/8 [==============================] - 0s 16ms/step - loss: 3.2512e-04 - mean_squared_error: 3.2512e-04 - mean_absolute_error: 0.0110 - val_loss: 0.0042 - val_mean_squared_error: 0.0042 - val_mean_absolute_error: 0.0464\n",
            "Epoch 26/50\n",
            "8/8 [==============================] - 0s 16ms/step - loss: 2.0285e-04 - mean_squared_error: 2.0285e-04 - mean_absolute_error: 0.0083 - val_loss: 0.0041 - val_mean_squared_error: 0.0041 - val_mean_absolute_error: 0.0455\n",
            "Epoch 27/50\n",
            "8/8 [==============================] - 0s 18ms/step - loss: 2.4457e-04 - mean_squared_error: 2.4457e-04 - mean_absolute_error: 0.0093 - val_loss: 0.0044 - val_mean_squared_error: 0.0044 - val_mean_absolute_error: 0.0484\n",
            "Epoch 28/50\n",
            "8/8 [==============================] - 0s 15ms/step - loss: 2.1178e-04 - mean_squared_error: 2.1178e-04 - mean_absolute_error: 0.0087 - val_loss: 0.0047 - val_mean_squared_error: 0.0047 - val_mean_absolute_error: 0.0497\n",
            "Epoch 29/50\n",
            "8/8 [==============================] - 0s 14ms/step - loss: 2.9741e-04 - mean_squared_error: 2.9741e-04 - mean_absolute_error: 0.0099 - val_loss: 0.0052 - val_mean_squared_error: 0.0052 - val_mean_absolute_error: 0.0532\n",
            "Epoch 30/50\n",
            "8/8 [==============================] - 0s 19ms/step - loss: 2.5261e-04 - mean_squared_error: 2.5261e-04 - mean_absolute_error: 0.0103 - val_loss: 0.0037 - val_mean_squared_error: 0.0037 - val_mean_absolute_error: 0.0441\n",
            "Epoch 31/50\n",
            "8/8 [==============================] - 0s 15ms/step - loss: 2.0412e-04 - mean_squared_error: 2.0412e-04 - mean_absolute_error: 0.0084 - val_loss: 0.0037 - val_mean_squared_error: 0.0037 - val_mean_absolute_error: 0.0469\n",
            "Epoch 32/50\n",
            "8/8 [==============================] - 0s 17ms/step - loss: 2.5096e-04 - mean_squared_error: 2.5096e-04 - mean_absolute_error: 0.0100 - val_loss: 0.0036 - val_mean_squared_error: 0.0036 - val_mean_absolute_error: 0.0435\n",
            "Epoch 33/50\n",
            "8/8 [==============================] - 0s 17ms/step - loss: 2.2544e-04 - mean_squared_error: 2.2544e-04 - mean_absolute_error: 0.0099 - val_loss: 0.0043 - val_mean_squared_error: 0.0043 - val_mean_absolute_error: 0.0477\n",
            "Epoch 34/50\n",
            "8/8 [==============================] - 0s 14ms/step - loss: 2.7813e-04 - mean_squared_error: 2.7813e-04 - mean_absolute_error: 0.0107 - val_loss: 0.0039 - val_mean_squared_error: 0.0039 - val_mean_absolute_error: 0.0498\n",
            "Epoch 35/50\n",
            "8/8 [==============================] - 0s 14ms/step - loss: 4.9419e-04 - mean_squared_error: 4.9419e-04 - mean_absolute_error: 0.0130 - val_loss: 0.0044 - val_mean_squared_error: 0.0044 - val_mean_absolute_error: 0.0522\n",
            "Epoch 36/50\n",
            "8/8 [==============================] - 0s 15ms/step - loss: 6.3153e-04 - mean_squared_error: 6.3153e-04 - mean_absolute_error: 0.0153 - val_loss: 0.0054 - val_mean_squared_error: 0.0054 - val_mean_absolute_error: 0.0530\n",
            "Epoch 37/50\n",
            "8/8 [==============================] - 0s 16ms/step - loss: 2.4147e-04 - mean_squared_error: 2.4147e-04 - mean_absolute_error: 0.0105 - val_loss: 0.0040 - val_mean_squared_error: 0.0040 - val_mean_absolute_error: 0.0484\n",
            "Epoch 38/50\n",
            "8/8 [==============================] - 0s 16ms/step - loss: 2.4577e-04 - mean_squared_error: 2.4577e-04 - mean_absolute_error: 0.0092 - val_loss: 0.0036 - val_mean_squared_error: 0.0036 - val_mean_absolute_error: 0.0435\n",
            "Epoch 39/50\n",
            "8/8 [==============================] - 0s 15ms/step - loss: 1.8681e-04 - mean_squared_error: 1.8681e-04 - mean_absolute_error: 0.0078 - val_loss: 0.0038 - val_mean_squared_error: 0.0038 - val_mean_absolute_error: 0.0445\n",
            "Epoch 40/50\n",
            "8/8 [==============================] - 0s 15ms/step - loss: 2.9139e-04 - mean_squared_error: 2.9139e-04 - mean_absolute_error: 0.0093 - val_loss: 0.0080 - val_mean_squared_error: 0.0080 - val_mean_absolute_error: 0.0722\n",
            "Epoch 41/50\n",
            "8/8 [==============================] - 0s 18ms/step - loss: 8.5502e-04 - mean_squared_error: 8.5502e-04 - mean_absolute_error: 0.0171 - val_loss: 0.0045 - val_mean_squared_error: 0.0045 - val_mean_absolute_error: 0.0481\n",
            "Epoch 42/50\n",
            "8/8 [==============================] - 0s 14ms/step - loss: 5.7688e-04 - mean_squared_error: 5.7688e-04 - mean_absolute_error: 0.0145 - val_loss: 0.0057 - val_mean_squared_error: 0.0057 - val_mean_absolute_error: 0.0610\n"
          ],
          "name": "stdout"
        },
        {
          "output_type": "display_data",
          "data": {
            "text/html": [
              "<br/>Waiting for W&B process to finish, PID 6942<br/>Program ended successfully."
            ],
            "text/plain": [
              "<IPython.core.display.HTML object>"
            ]
          },
          "metadata": {
            "tags": []
          }
        },
        {
          "output_type": "display_data",
          "data": {
            "application/vnd.jupyter.widget-view+json": {
              "model_id": "96272f8f66cc498dad952fec4b112026",
              "version_minor": 0,
              "version_major": 2
            },
            "text/plain": [
              "VBox(children=(Label(value=' 1.40MB of 1.40MB uploaded (0.00MB deduped)\\r'), FloatProgress(value=1.0, max=1.0)…"
            ]
          },
          "metadata": {
            "tags": []
          }
        },
        {
          "output_type": "display_data",
          "data": {
            "text/html": [
              "Find user logs for this run at: <code>/content/feeder_repo/wandb/run-20210723_162619-gssg58iu/logs/debug.log</code>"
            ],
            "text/plain": [
              "<IPython.core.display.HTML object>"
            ]
          },
          "metadata": {
            "tags": []
          }
        },
        {
          "output_type": "display_data",
          "data": {
            "text/html": [
              "Find internal logs for this run at: <code>/content/feeder_repo/wandb/run-20210723_162619-gssg58iu/logs/debug-internal.log</code>"
            ],
            "text/plain": [
              "<IPython.core.display.HTML object>"
            ]
          },
          "metadata": {
            "tags": []
          }
        },
        {
          "output_type": "display_data",
          "data": {
            "text/html": [
              "<h3>Run summary:</h3><br/><style>\n",
              "    table.wandb td:nth-child(1) { padding: 0 10px; text-align: right }\n",
              "    </style><table class=\"wandb\">\n",
              "<tr><td>epoch</td><td>41</td></tr><tr><td>loss</td><td>0.00059</td></tr><tr><td>mean_squared_error</td><td>0.00059</td></tr><tr><td>mean_absolute_error</td><td>0.01407</td></tr><tr><td>val_loss</td><td>0.00571</td></tr><tr><td>val_mean_squared_error</td><td>0.00571</td></tr><tr><td>val_mean_absolute_error</td><td>0.06104</td></tr><tr><td>_runtime</td><td>14</td></tr><tr><td>_timestamp</td><td>1627057593</td></tr><tr><td>_step</td><td>41</td></tr><tr><td>best_val_loss</td><td>0.00362</td></tr><tr><td>best_epoch</td><td>31</td></tr></table>"
            ],
            "text/plain": [
              "<IPython.core.display.HTML object>"
            ]
          },
          "metadata": {
            "tags": []
          }
        },
        {
          "output_type": "display_data",
          "data": {
            "text/html": [
              "<h3>Run history:</h3><br/><style>\n",
              "    table.wandb td:nth-child(1) { padding: 0 10px; text-align: right }\n",
              "    </style><table class=\"wandb\">\n",
              "<tr><td>epoch</td><td>▁▁▁▂▂▂▂▂▂▃▃▃▃▃▃▄▄▄▄▄▅▅▅▅▅▅▆▆▆▆▆▆▇▇▇▇▇▇██</td></tr><tr><td>loss</td><td>█▁▁▁▁▁▁▁▁▁▁▁▁▁▁▁▁▁▁▁▁▁▁▁▁▁▁▁▁▁▁▁▁▁▁▁▁▁▁▁</td></tr><tr><td>mean_squared_error</td><td>█▁▁▁▁▁▁▁▁▁▁▁▁▁▁▁▁▁▁▁▁▁▁▁▁▁▁▁▁▁▁▁▁▁▁▁▁▁▁▁</td></tr><tr><td>mean_absolute_error</td><td>█▃▂▂▁▁▁▁▁▁▁▁▁▁▁▁▁▁▁▁▁▁▁▁▁▁▁▁▁▁▁▁▁▁▁▁▁▁▁▁</td></tr><tr><td>val_loss</td><td>▂█▃▂▁▁▁▁▁▁▁▁▁▁▁▁▁▁▁▁▁▁▁▁▁▁▁▁▁▁▁▁▁▁▁▁▁▁▁▁</td></tr><tr><td>val_mean_squared_error</td><td>▂█▃▂▁▁▁▁▁▁▁▁▁▁▁▁▁▁▁▁▁▁▁▁▁▁▁▁▁▁▁▁▁▁▁▁▁▁▁▁</td></tr><tr><td>val_mean_absolute_error</td><td>▂█▄▃▂▁▂▁▁▁▁▁▁▁▂▁▁▁▁▁▁▁▁▁▁▁▁▁▁▁▁▁▁▁▁▁▁▁▁▁</td></tr><tr><td>_runtime</td><td>▁▁▁▂▂▂▂▂▂▃▃▃▃▃▄▄▄▄▄▄▅▅▅▅▅▅▆▆▆▆▆▆▆▇▇▇▇▇▇█</td></tr><tr><td>_timestamp</td><td>▁▁▁▂▂▂▂▂▂▃▃▃▃▃▄▄▄▄▄▄▅▅▅▅▅▅▆▆▆▆▆▆▆▇▇▇▇▇▇█</td></tr><tr><td>_step</td><td>▁▁▁▂▂▂▂▂▂▃▃▃▃▃▃▄▄▄▄▄▅▅▅▅▅▅▆▆▆▆▆▆▇▇▇▇▇▇██</td></tr></table><br/>"
            ],
            "text/plain": [
              "<IPython.core.display.HTML object>"
            ]
          },
          "metadata": {
            "tags": []
          }
        },
        {
          "output_type": "display_data",
          "data": {
            "text/html": [
              "Synced 5 W&B file(s), 1 media file(s), 2 artifact file(s) and 2 other file(s)"
            ],
            "text/plain": [
              "<IPython.core.display.HTML object>"
            ]
          },
          "metadata": {
            "tags": []
          }
        },
        {
          "output_type": "display_data",
          "data": {
            "text/html": [
              "\n",
              "                    <br/>Synced <strong style=\"color:#cdcd00\">silver-sweep-40</strong>: <a href=\"https://wandb.ai/acse-jaq15/ACSE_9_MLP_AE/runs/gssg58iu\" target=\"_blank\">https://wandb.ai/acse-jaq15/ACSE_9_MLP_AE/runs/gssg58iu</a><br/>\n",
              "                "
            ],
            "text/plain": [
              "<IPython.core.display.HTML object>"
            ]
          },
          "metadata": {
            "tags": []
          }
        },
        {
          "output_type": "stream",
          "text": [
            "\u001b[34m\u001b[1mwandb\u001b[0m: Agent Starting Run: k45zufub with config:\n",
            "\u001b[34m\u001b[1mwandb\u001b[0m: \tactivation: selu\n",
            "\u001b[34m\u001b[1mwandb\u001b[0m: \tbatch_size: 64\n",
            "\u001b[34m\u001b[1mwandb\u001b[0m: \tepochs: 50\n",
            "\u001b[34m\u001b[1mwandb\u001b[0m: \tlearning_rate: 0.0005\n",
            "\u001b[34m\u001b[1mwandb\u001b[0m: \toptimizer: sgd\n"
          ],
          "name": "stderr"
        },
        {
          "output_type": "display_data",
          "data": {
            "text/html": [
              "\n",
              "                Tracking run with wandb version 0.11.0<br/>\n",
              "                Syncing run <strong style=\"color:#cdcd00\">confused-sweep-41</strong> to <a href=\"https://wandb.ai\" target=\"_blank\">Weights & Biases</a> <a href=\"https://docs.wandb.com/integrations/jupyter.html\" target=\"_blank\">(Documentation)</a>.<br/>\n",
              "                Project page: <a href=\"https://wandb.ai/acse-jaq15/ACSE_9_MLP_AE\" target=\"_blank\">https://wandb.ai/acse-jaq15/ACSE_9_MLP_AE</a><br/>\n",
              "                Sweep page: <a href=\"https://wandb.ai/acse-jaq15/ACSE_9_MLP_AE/sweeps/6wgndl46\" target=\"_blank\">https://wandb.ai/acse-jaq15/ACSE_9_MLP_AE/sweeps/6wgndl46</a><br/>\n",
              "Run page: <a href=\"https://wandb.ai/acse-jaq15/ACSE_9_MLP_AE/runs/k45zufub\" target=\"_blank\">https://wandb.ai/acse-jaq15/ACSE_9_MLP_AE/runs/k45zufub</a><br/>\n",
              "                Run data is saved locally in <code>/content/feeder_repo/wandb/run-20210723_162644-k45zufub</code><br/><br/>\n",
              "            "
            ],
            "text/plain": [
              "<IPython.core.display.HTML object>"
            ]
          },
          "metadata": {
            "tags": []
          }
        },
        {
          "output_type": "stream",
          "text": [
            "Epoch 1/50\n",
            "16/16 [==============================] - 3s 56ms/step - loss: 0.3131 - mean_squared_error: 0.3131 - mean_absolute_error: 0.3612 - val_loss: 0.0274 - val_mean_squared_error: 0.0274 - val_mean_absolute_error: 0.1211\n",
            "Epoch 2/50\n",
            "16/16 [==============================] - 0s 11ms/step - loss: 0.0015 - mean_squared_error: 0.0015 - mean_absolute_error: 0.0299 - val_loss: 0.0321 - val_mean_squared_error: 0.0321 - val_mean_absolute_error: 0.1281\n",
            "Epoch 3/50\n",
            "16/16 [==============================] - 0s 12ms/step - loss: 0.0011 - mean_squared_error: 0.0011 - mean_absolute_error: 0.0223 - val_loss: 0.0281 - val_mean_squared_error: 0.0281 - val_mean_absolute_error: 0.1209\n",
            "Epoch 4/50\n",
            "16/16 [==============================] - 0s 10ms/step - loss: 9.3958e-04 - mean_squared_error: 9.3958e-04 - mean_absolute_error: 0.0193 - val_loss: 0.0280 - val_mean_squared_error: 0.0280 - val_mean_absolute_error: 0.1198\n",
            "Epoch 5/50\n",
            "16/16 [==============================] - 0s 13ms/step - loss: 8.0739e-04 - mean_squared_error: 8.0739e-04 - mean_absolute_error: 0.0176 - val_loss: 0.0250 - val_mean_squared_error: 0.0250 - val_mean_absolute_error: 0.1134\n",
            "Epoch 6/50\n",
            "16/16 [==============================] - 0s 12ms/step - loss: 8.4478e-04 - mean_squared_error: 8.4478e-04 - mean_absolute_error: 0.0178 - val_loss: 0.0249 - val_mean_squared_error: 0.0249 - val_mean_absolute_error: 0.1125\n",
            "Epoch 7/50\n",
            "16/16 [==============================] - 0s 14ms/step - loss: 7.4167e-04 - mean_squared_error: 7.4167e-04 - mean_absolute_error: 0.0179 - val_loss: 0.0216 - val_mean_squared_error: 0.0216 - val_mean_absolute_error: 0.1055\n",
            "Epoch 8/50\n",
            "16/16 [==============================] - 0s 12ms/step - loss: 7.6556e-04 - mean_squared_error: 7.6556e-04 - mean_absolute_error: 0.0175 - val_loss: 0.0205 - val_mean_squared_error: 0.0205 - val_mean_absolute_error: 0.1026\n",
            "Epoch 9/50\n",
            "16/16 [==============================] - 0s 13ms/step - loss: 6.6032e-04 - mean_squared_error: 6.6032e-04 - mean_absolute_error: 0.0164 - val_loss: 0.0203 - val_mean_squared_error: 0.0203 - val_mean_absolute_error: 0.1017\n",
            "Epoch 10/50\n",
            "16/16 [==============================] - 0s 11ms/step - loss: 6.3538e-04 - mean_squared_error: 6.3538e-04 - mean_absolute_error: 0.0160 - val_loss: 0.0196 - val_mean_squared_error: 0.0196 - val_mean_absolute_error: 0.0999\n",
            "Epoch 11/50\n",
            "16/16 [==============================] - 0s 12ms/step - loss: 5.9934e-04 - mean_squared_error: 5.9934e-04 - mean_absolute_error: 0.0153 - val_loss: 0.0184 - val_mean_squared_error: 0.0184 - val_mean_absolute_error: 0.0968\n",
            "Epoch 12/50\n",
            "16/16 [==============================] - 0s 11ms/step - loss: 6.0757e-04 - mean_squared_error: 6.0757e-04 - mean_absolute_error: 0.0155 - val_loss: 0.0191 - val_mean_squared_error: 0.0191 - val_mean_absolute_error: 0.0981\n",
            "Epoch 13/50\n",
            "16/16 [==============================] - 0s 12ms/step - loss: 5.6415e-04 - mean_squared_error: 5.6415e-04 - mean_absolute_error: 0.0147 - val_loss: 0.0163 - val_mean_squared_error: 0.0163 - val_mean_absolute_error: 0.0915\n",
            "Epoch 14/50\n",
            "16/16 [==============================] - 0s 12ms/step - loss: 5.5569e-04 - mean_squared_error: 5.5569e-04 - mean_absolute_error: 0.0147 - val_loss: 0.0192 - val_mean_squared_error: 0.0192 - val_mean_absolute_error: 0.0996\n",
            "Epoch 15/50\n",
            "16/16 [==============================] - 0s 12ms/step - loss: 5.7151e-04 - mean_squared_error: 5.7151e-04 - mean_absolute_error: 0.0149 - val_loss: 0.0150 - val_mean_squared_error: 0.0150 - val_mean_absolute_error: 0.0875\n",
            "Epoch 16/50\n",
            "16/16 [==============================] - 0s 11ms/step - loss: 5.4750e-04 - mean_squared_error: 5.4750e-04 - mean_absolute_error: 0.0144 - val_loss: 0.0158 - val_mean_squared_error: 0.0158 - val_mean_absolute_error: 0.0891\n",
            "Epoch 17/50\n",
            "16/16 [==============================] - 0s 13ms/step - loss: 5.2912e-04 - mean_squared_error: 5.2912e-04 - mean_absolute_error: 0.0137 - val_loss: 0.0152 - val_mean_squared_error: 0.0152 - val_mean_absolute_error: 0.0872\n",
            "Epoch 18/50\n",
            "16/16 [==============================] - 0s 13ms/step - loss: 4.8684e-04 - mean_squared_error: 4.8684e-04 - mean_absolute_error: 0.0136 - val_loss: 0.0151 - val_mean_squared_error: 0.0151 - val_mean_absolute_error: 0.0870\n",
            "Epoch 19/50\n",
            "16/16 [==============================] - 0s 14ms/step - loss: 4.4892e-04 - mean_squared_error: 4.4892e-04 - mean_absolute_error: 0.0134 - val_loss: 0.0143 - val_mean_squared_error: 0.0143 - val_mean_absolute_error: 0.0844\n",
            "Epoch 20/50\n",
            "16/16 [==============================] - 0s 12ms/step - loss: 4.7498e-04 - mean_squared_error: 4.7498e-04 - mean_absolute_error: 0.0141 - val_loss: 0.0136 - val_mean_squared_error: 0.0136 - val_mean_absolute_error: 0.0823\n",
            "Epoch 21/50\n",
            "16/16 [==============================] - 0s 14ms/step - loss: 4.1310e-04 - mean_squared_error: 4.1310e-04 - mean_absolute_error: 0.0125 - val_loss: 0.0118 - val_mean_squared_error: 0.0118 - val_mean_absolute_error: 0.0776\n",
            "Epoch 22/50\n",
            "16/16 [==============================] - 0s 11ms/step - loss: 5.5912e-04 - mean_squared_error: 5.5912e-04 - mean_absolute_error: 0.0142 - val_loss: 0.0123 - val_mean_squared_error: 0.0123 - val_mean_absolute_error: 0.0783\n",
            "Epoch 23/50\n",
            "16/16 [==============================] - 0s 11ms/step - loss: 4.5636e-04 - mean_squared_error: 4.5636e-04 - mean_absolute_error: 0.0136 - val_loss: 0.0125 - val_mean_squared_error: 0.0125 - val_mean_absolute_error: 0.0787\n",
            "Epoch 24/50\n",
            "16/16 [==============================] - 0s 12ms/step - loss: 3.8914e-04 - mean_squared_error: 3.8914e-04 - mean_absolute_error: 0.0123 - val_loss: 0.0119 - val_mean_squared_error: 0.0119 - val_mean_absolute_error: 0.0767\n",
            "Epoch 25/50\n",
            "16/16 [==============================] - 0s 12ms/step - loss: 3.8150e-04 - mean_squared_error: 3.8150e-04 - mean_absolute_error: 0.0122 - val_loss: 0.0118 - val_mean_squared_error: 0.0118 - val_mean_absolute_error: 0.0761\n",
            "Epoch 26/50\n",
            "16/16 [==============================] - 0s 11ms/step - loss: 4.0889e-04 - mean_squared_error: 4.0889e-04 - mean_absolute_error: 0.0131 - val_loss: 0.0110 - val_mean_squared_error: 0.0110 - val_mean_absolute_error: 0.0735\n",
            "Epoch 27/50\n",
            "16/16 [==============================] - 0s 12ms/step - loss: 4.3795e-04 - mean_squared_error: 4.3795e-04 - mean_absolute_error: 0.0127 - val_loss: 0.0099 - val_mean_squared_error: 0.0099 - val_mean_absolute_error: 0.0711\n",
            "Epoch 28/50\n",
            "16/16 [==============================] - 0s 12ms/step - loss: 4.4782e-04 - mean_squared_error: 4.4782e-04 - mean_absolute_error: 0.0131 - val_loss: 0.0111 - val_mean_squared_error: 0.0111 - val_mean_absolute_error: 0.0740\n",
            "Epoch 29/50\n",
            "16/16 [==============================] - 0s 11ms/step - loss: 3.7276e-04 - mean_squared_error: 3.7276e-04 - mean_absolute_error: 0.0117 - val_loss: 0.0117 - val_mean_squared_error: 0.0117 - val_mean_absolute_error: 0.0768\n",
            "Epoch 30/50\n",
            "16/16 [==============================] - 0s 11ms/step - loss: 4.0745e-04 - mean_squared_error: 4.0745e-04 - mean_absolute_error: 0.0126 - val_loss: 0.0105 - val_mean_squared_error: 0.0105 - val_mean_absolute_error: 0.0720\n",
            "Epoch 31/50\n",
            "16/16 [==============================] - 0s 13ms/step - loss: 4.0823e-04 - mean_squared_error: 4.0823e-04 - mean_absolute_error: 0.0121 - val_loss: 0.0101 - val_mean_squared_error: 0.0101 - val_mean_absolute_error: 0.0704\n",
            "Epoch 32/50\n",
            "16/16 [==============================] - 0s 12ms/step - loss: 3.4974e-04 - mean_squared_error: 3.4974e-04 - mean_absolute_error: 0.0115 - val_loss: 0.0103 - val_mean_squared_error: 0.0103 - val_mean_absolute_error: 0.0714\n",
            "Epoch 33/50\n",
            "16/16 [==============================] - 0s 14ms/step - loss: 3.3476e-04 - mean_squared_error: 3.3476e-04 - mean_absolute_error: 0.0111 - val_loss: 0.0084 - val_mean_squared_error: 0.0084 - val_mean_absolute_error: 0.0662\n",
            "Epoch 34/50\n",
            "16/16 [==============================] - 0s 11ms/step - loss: 3.1915e-04 - mean_squared_error: 3.1915e-04 - mean_absolute_error: 0.0108 - val_loss: 0.0090 - val_mean_squared_error: 0.0090 - val_mean_absolute_error: 0.0665\n",
            "Epoch 35/50\n",
            "16/16 [==============================] - 0s 12ms/step - loss: 3.6958e-04 - mean_squared_error: 3.6958e-04 - mean_absolute_error: 0.0117 - val_loss: 0.0087 - val_mean_squared_error: 0.0087 - val_mean_absolute_error: 0.0654\n",
            "Epoch 36/50\n",
            "16/16 [==============================] - 0s 12ms/step - loss: 3.0380e-04 - mean_squared_error: 3.0380e-04 - mean_absolute_error: 0.0107 - val_loss: 0.0090 - val_mean_squared_error: 0.0090 - val_mean_absolute_error: 0.0664\n",
            "Epoch 37/50\n",
            "16/16 [==============================] - 0s 11ms/step - loss: 3.2070e-04 - mean_squared_error: 3.2070e-04 - mean_absolute_error: 0.0109 - val_loss: 0.0093 - val_mean_squared_error: 0.0093 - val_mean_absolute_error: 0.0681\n",
            "Epoch 38/50\n",
            "16/16 [==============================] - 0s 11ms/step - loss: 3.8040e-04 - mean_squared_error: 3.8040e-04 - mean_absolute_error: 0.0118 - val_loss: 0.0081 - val_mean_squared_error: 0.0081 - val_mean_absolute_error: 0.0632\n",
            "Epoch 39/50\n",
            "16/16 [==============================] - 0s 11ms/step - loss: 3.4871e-04 - mean_squared_error: 3.4871e-04 - mean_absolute_error: 0.0112 - val_loss: 0.0082 - val_mean_squared_error: 0.0082 - val_mean_absolute_error: 0.0633\n",
            "Epoch 40/50\n",
            "16/16 [==============================] - 0s 12ms/step - loss: 3.9080e-04 - mean_squared_error: 3.9080e-04 - mean_absolute_error: 0.0118 - val_loss: 0.0084 - val_mean_squared_error: 0.0084 - val_mean_absolute_error: 0.0644\n",
            "Epoch 41/50\n",
            "16/16 [==============================] - 0s 15ms/step - loss: 2.9825e-04 - mean_squared_error: 2.9825e-04 - mean_absolute_error: 0.0105 - val_loss: 0.0080 - val_mean_squared_error: 0.0080 - val_mean_absolute_error: 0.0627\n",
            "Epoch 42/50\n",
            "16/16 [==============================] - 0s 14ms/step - loss: 3.0801e-04 - mean_squared_error: 3.0801e-04 - mean_absolute_error: 0.0107 - val_loss: 0.0075 - val_mean_squared_error: 0.0075 - val_mean_absolute_error: 0.0610\n",
            "Epoch 43/50\n",
            "16/16 [==============================] - 0s 12ms/step - loss: 3.8419e-04 - mean_squared_error: 3.8419e-04 - mean_absolute_error: 0.0119 - val_loss: 0.0078 - val_mean_squared_error: 0.0078 - val_mean_absolute_error: 0.0617\n",
            "Epoch 44/50\n",
            "16/16 [==============================] - 0s 12ms/step - loss: 3.3418e-04 - mean_squared_error: 3.3418e-04 - mean_absolute_error: 0.0108 - val_loss: 0.0086 - val_mean_squared_error: 0.0086 - val_mean_absolute_error: 0.0656\n",
            "Epoch 45/50\n",
            "16/16 [==============================] - 0s 13ms/step - loss: 3.2155e-04 - mean_squared_error: 3.2155e-04 - mean_absolute_error: 0.0108 - val_loss: 0.0074 - val_mean_squared_error: 0.0074 - val_mean_absolute_error: 0.0604\n",
            "Epoch 46/50\n",
            "16/16 [==============================] - 0s 12ms/step - loss: 3.1082e-04 - mean_squared_error: 3.1082e-04 - mean_absolute_error: 0.0105 - val_loss: 0.0081 - val_mean_squared_error: 0.0081 - val_mean_absolute_error: 0.0637\n",
            "Epoch 47/50\n",
            "16/16 [==============================] - 0s 12ms/step - loss: 2.8534e-04 - mean_squared_error: 2.8534e-04 - mean_absolute_error: 0.0102 - val_loss: 0.0072 - val_mean_squared_error: 0.0072 - val_mean_absolute_error: 0.0594\n",
            "Epoch 48/50\n",
            "16/16 [==============================] - 0s 12ms/step - loss: 3.5698e-04 - mean_squared_error: 3.5698e-04 - mean_absolute_error: 0.0109 - val_loss: 0.0073 - val_mean_squared_error: 0.0073 - val_mean_absolute_error: 0.0597\n",
            "Epoch 49/50\n",
            "16/16 [==============================] - 0s 12ms/step - loss: 2.7337e-04 - mean_squared_error: 2.7337e-04 - mean_absolute_error: 0.0101 - val_loss: 0.0070 - val_mean_squared_error: 0.0070 - val_mean_absolute_error: 0.0585\n",
            "Epoch 50/50\n",
            "16/16 [==============================] - 0s 12ms/step - loss: 2.6445e-04 - mean_squared_error: 2.6445e-04 - mean_absolute_error: 0.0100 - val_loss: 0.0074 - val_mean_squared_error: 0.0074 - val_mean_absolute_error: 0.0603\n"
          ],
          "name": "stdout"
        },
        {
          "output_type": "display_data",
          "data": {
            "text/html": [
              "<br/>Waiting for W&B process to finish, PID 7123<br/>Program ended successfully."
            ],
            "text/plain": [
              "<IPython.core.display.HTML object>"
            ]
          },
          "metadata": {
            "tags": []
          }
        },
        {
          "output_type": "display_data",
          "data": {
            "application/vnd.jupyter.widget-view+json": {
              "model_id": "5ab2e6b7450541708d4afd23e818e4ae",
              "version_minor": 0,
              "version_major": 2
            },
            "text/plain": [
              "VBox(children=(Label(value=' 1.08MB of 1.08MB uploaded (0.00MB deduped)\\r'), FloatProgress(value=1.0, max=1.0)…"
            ]
          },
          "metadata": {
            "tags": []
          }
        },
        {
          "output_type": "display_data",
          "data": {
            "text/html": [
              "Find user logs for this run at: <code>/content/feeder_repo/wandb/run-20210723_162644-k45zufub/logs/debug.log</code>"
            ],
            "text/plain": [
              "<IPython.core.display.HTML object>"
            ]
          },
          "metadata": {
            "tags": []
          }
        },
        {
          "output_type": "display_data",
          "data": {
            "text/html": [
              "Find internal logs for this run at: <code>/content/feeder_repo/wandb/run-20210723_162644-k45zufub/logs/debug-internal.log</code>"
            ],
            "text/plain": [
              "<IPython.core.display.HTML object>"
            ]
          },
          "metadata": {
            "tags": []
          }
        },
        {
          "output_type": "display_data",
          "data": {
            "text/html": [
              "<h3>Run summary:</h3><br/><style>\n",
              "    table.wandb td:nth-child(1) { padding: 0 10px; text-align: right }\n",
              "    </style><table class=\"wandb\">\n",
              "<tr><td>epoch</td><td>49</td></tr><tr><td>loss</td><td>0.0003</td></tr><tr><td>mean_squared_error</td><td>0.0003</td></tr><tr><td>mean_absolute_error</td><td>0.01036</td></tr><tr><td>val_loss</td><td>0.00739</td></tr><tr><td>val_mean_squared_error</td><td>0.00739</td></tr><tr><td>val_mean_absolute_error</td><td>0.06033</td></tr><tr><td>_runtime</td><td>17</td></tr><tr><td>_timestamp</td><td>1627057621</td></tr><tr><td>_step</td><td>49</td></tr><tr><td>best_val_loss</td><td>0.00698</td></tr><tr><td>best_epoch</td><td>48</td></tr></table>"
            ],
            "text/plain": [
              "<IPython.core.display.HTML object>"
            ]
          },
          "metadata": {
            "tags": []
          }
        },
        {
          "output_type": "display_data",
          "data": {
            "text/html": [
              "<h3>Run history:</h3><br/><style>\n",
              "    table.wandb td:nth-child(1) { padding: 0 10px; text-align: right }\n",
              "    </style><table class=\"wandb\">\n",
              "<tr><td>epoch</td><td>▁▁▁▁▂▂▂▂▂▃▃▃▃▃▃▄▄▄▄▄▅▅▅▅▅▅▆▆▆▆▆▆▇▇▇▇▇███</td></tr><tr><td>loss</td><td>█▁▁▁▁▁▁▁▁▁▁▁▁▁▁▁▁▁▁▁▁▁▁▁▁▁▁▁▁▁▁▁▁▁▁▁▁▁▁▁</td></tr><tr><td>mean_squared_error</td><td>█▁▁▁▁▁▁▁▁▁▁▁▁▁▁▁▁▁▁▁▁▁▁▁▁▁▁▁▁▁▁▁▁▁▁▁▁▁▁▁</td></tr><tr><td>mean_absolute_error</td><td>█▂▁▁▁▁▁▁▁▁▁▁▁▁▁▁▁▁▁▁▁▁▁▁▁▁▁▁▁▁▁▁▁▁▁▁▁▁▁▁</td></tr><tr><td>val_loss</td><td>▇█▇▇▆▅▅▅▄▄▄▄▃▃▃▃▂▂▃▂▂▂▂▂▂▂▁▁▂▂▁▁▁▁▁▁▁▁▁▁</td></tr><tr><td>val_mean_squared_error</td><td>▇█▇▇▆▅▅▅▄▄▄▄▃▃▃▃▂▂▃▂▂▂▂▂▂▂▁▁▂▂▁▁▁▁▁▁▁▁▁▁</td></tr><tr><td>val_mean_absolute_error</td><td>▇█▇▇▆▆▅▅▅▅▄▅▄▄▄▄▃▃▃▃▂▂▂▃▂▂▂▂▂▂▁▁▁▁▁▂▁▁▁▁</td></tr><tr><td>_runtime</td><td>▁▁▁▁▂▂▂▂▂▂▃▃▃▄▄▄▄▄▄▄▅▅▅▅▅▅▅▅▆▆▆▆▇▇▇▇▇▇██</td></tr><tr><td>_timestamp</td><td>▁▁▁▁▂▂▂▂▂▂▃▃▃▄▄▄▄▄▄▄▅▅▅▅▅▅▅▅▆▆▆▆▇▇▇▇▇▇██</td></tr><tr><td>_step</td><td>▁▁▁▁▂▂▂▂▂▃▃▃▃▃▃▄▄▄▄▄▅▅▅▅▅▅▆▆▆▆▆▆▇▇▇▇▇███</td></tr></table><br/>"
            ],
            "text/plain": [
              "<IPython.core.display.HTML object>"
            ]
          },
          "metadata": {
            "tags": []
          }
        },
        {
          "output_type": "display_data",
          "data": {
            "text/html": [
              "Synced 5 W&B file(s), 1 media file(s), 2 artifact file(s) and 2 other file(s)"
            ],
            "text/plain": [
              "<IPython.core.display.HTML object>"
            ]
          },
          "metadata": {
            "tags": []
          }
        },
        {
          "output_type": "display_data",
          "data": {
            "text/html": [
              "\n",
              "                    <br/>Synced <strong style=\"color:#cdcd00\">confused-sweep-41</strong>: <a href=\"https://wandb.ai/acse-jaq15/ACSE_9_MLP_AE/runs/k45zufub\" target=\"_blank\">https://wandb.ai/acse-jaq15/ACSE_9_MLP_AE/runs/k45zufub</a><br/>\n",
              "                "
            ],
            "text/plain": [
              "<IPython.core.display.HTML object>"
            ]
          },
          "metadata": {
            "tags": []
          }
        },
        {
          "output_type": "stream",
          "text": [
            "\u001b[34m\u001b[1mwandb\u001b[0m: Agent Starting Run: agq98jzw with config:\n",
            "\u001b[34m\u001b[1mwandb\u001b[0m: \tactivation: selu\n",
            "\u001b[34m\u001b[1mwandb\u001b[0m: \tbatch_size: 64\n",
            "\u001b[34m\u001b[1mwandb\u001b[0m: \tepochs: 100\n",
            "\u001b[34m\u001b[1mwandb\u001b[0m: \tlearning_rate: 0.005\n",
            "\u001b[34m\u001b[1mwandb\u001b[0m: \toptimizer: rmsprop\n"
          ],
          "name": "stderr"
        },
        {
          "output_type": "display_data",
          "data": {
            "text/html": [
              "\n",
              "                Tracking run with wandb version 0.11.0<br/>\n",
              "                Syncing run <strong style=\"color:#cdcd00\">light-sweep-42</strong> to <a href=\"https://wandb.ai\" target=\"_blank\">Weights & Biases</a> <a href=\"https://docs.wandb.com/integrations/jupyter.html\" target=\"_blank\">(Documentation)</a>.<br/>\n",
              "                Project page: <a href=\"https://wandb.ai/acse-jaq15/ACSE_9_MLP_AE\" target=\"_blank\">https://wandb.ai/acse-jaq15/ACSE_9_MLP_AE</a><br/>\n",
              "                Sweep page: <a href=\"https://wandb.ai/acse-jaq15/ACSE_9_MLP_AE/sweeps/6wgndl46\" target=\"_blank\">https://wandb.ai/acse-jaq15/ACSE_9_MLP_AE/sweeps/6wgndl46</a><br/>\n",
              "Run page: <a href=\"https://wandb.ai/acse-jaq15/ACSE_9_MLP_AE/runs/agq98jzw\" target=\"_blank\">https://wandb.ai/acse-jaq15/ACSE_9_MLP_AE/runs/agq98jzw</a><br/>\n",
              "                Run data is saved locally in <code>/content/feeder_repo/wandb/run-20210723_162709-agq98jzw</code><br/><br/>\n",
              "            "
            ],
            "text/plain": [
              "<IPython.core.display.HTML object>"
            ]
          },
          "metadata": {
            "tags": []
          }
        },
        {
          "output_type": "stream",
          "text": [
            "Epoch 1/100\n",
            "16/16 [==============================] - 3s 60ms/step - loss: 6445.2173 - mean_squared_error: 6445.2173 - mean_absolute_error: 42.5362 - val_loss: 1.4011 - val_mean_squared_error: 1.4011 - val_mean_absolute_error: 0.6901\n",
            "Epoch 2/100\n",
            "16/16 [==============================] - 0s 13ms/step - loss: 0.5240 - mean_squared_error: 0.5240 - mean_absolute_error: 0.4691 - val_loss: 2.3196 - val_mean_squared_error: 2.3196 - val_mean_absolute_error: 1.2363\n",
            "Epoch 3/100\n",
            "16/16 [==============================] - 0s 12ms/step - loss: 134.7558 - mean_squared_error: 134.7558 - mean_absolute_error: 9.1962 - val_loss: 0.2081 - val_mean_squared_error: 0.2081 - val_mean_absolute_error: 0.3261\n",
            "Epoch 4/100\n",
            "16/16 [==============================] - 0s 12ms/step - loss: 0.9995 - mean_squared_error: 0.9995 - mean_absolute_error: 0.4021 - val_loss: 20.6222 - val_mean_squared_error: 20.6222 - val_mean_absolute_error: 4.3561\n",
            "Epoch 5/100\n",
            "16/16 [==============================] - 0s 13ms/step - loss: 479.8590 - mean_squared_error: 479.8590 - mean_absolute_error: 15.8552 - val_loss: 0.6317 - val_mean_squared_error: 0.6317 - val_mean_absolute_error: 0.7779\n",
            "Epoch 6/100\n",
            "16/16 [==============================] - 0s 13ms/step - loss: 8.9549 - mean_squared_error: 8.9549 - mean_absolute_error: 2.1490 - val_loss: 0.4204 - val_mean_squared_error: 0.4204 - val_mean_absolute_error: 0.6088\n",
            "Epoch 7/100\n",
            "16/16 [==============================] - 0s 12ms/step - loss: 2.0317 - mean_squared_error: 2.0317 - mean_absolute_error: 0.5509 - val_loss: 35.2560 - val_mean_squared_error: 35.2560 - val_mean_absolute_error: 5.9326\n",
            "Epoch 8/100\n",
            "16/16 [==============================] - 0s 13ms/step - loss: 12.3409 - mean_squared_error: 12.3409 - mean_absolute_error: 2.5256 - val_loss: 0.2592 - val_mean_squared_error: 0.2592 - val_mean_absolute_error: 0.4707\n",
            "Epoch 9/100\n",
            "16/16 [==============================] - 0s 13ms/step - loss: 1.0338 - mean_squared_error: 1.0338 - mean_absolute_error: 0.6902 - val_loss: 0.1861 - val_mean_squared_error: 0.1861 - val_mean_absolute_error: 0.4044\n",
            "Epoch 10/100\n",
            "16/16 [==============================] - 0s 12ms/step - loss: 92.2344 - mean_squared_error: 92.2344 - mean_absolute_error: 1.6392 - val_loss: 10747.0420 - val_mean_squared_error: 10747.0420 - val_mean_absolute_error: 103.5059\n",
            "Epoch 11/100\n",
            "16/16 [==============================] - 0s 13ms/step - loss: 3108.7151 - mean_squared_error: 3108.7151 - mean_absolute_error: 33.4257 - val_loss: 0.0633 - val_mean_squared_error: 0.0633 - val_mean_absolute_error: 0.2234\n",
            "Epoch 12/100\n",
            "16/16 [==============================] - 0s 13ms/step - loss: 6.0566 - mean_squared_error: 6.0566 - mean_absolute_error: 1.3409 - val_loss: 0.4767 - val_mean_squared_error: 0.4767 - val_mean_absolute_error: 0.6409\n",
            "Epoch 13/100\n",
            "16/16 [==============================] - 0s 13ms/step - loss: 4.0673 - mean_squared_error: 4.0673 - mean_absolute_error: 1.0528 - val_loss: 403.5794 - val_mean_squared_error: 403.5794 - val_mean_absolute_error: 19.8162\n",
            "Epoch 14/100\n",
            "16/16 [==============================] - 0s 11ms/step - loss: 242.8901 - mean_squared_error: 242.8901 - mean_absolute_error: 12.2730 - val_loss: 12.2262 - val_mean_squared_error: 12.2262 - val_mean_absolute_error: 3.4957\n",
            "Epoch 15/100\n",
            "16/16 [==============================] - 0s 13ms/step - loss: 4.3884 - mean_squared_error: 4.3884 - mean_absolute_error: 1.6989 - val_loss: 48.7875 - val_mean_squared_error: 48.7875 - val_mean_absolute_error: 6.9836\n",
            "Epoch 16/100\n",
            "16/16 [==============================] - 0s 14ms/step - loss: 10.8589 - mean_squared_error: 10.8589 - mean_absolute_error: 1.9649 - val_loss: 0.0377 - val_mean_squared_error: 0.0377 - val_mean_absolute_error: 0.1519\n",
            "Epoch 17/100\n",
            "16/16 [==============================] - 0s 12ms/step - loss: 253.6044 - mean_squared_error: 253.6044 - mean_absolute_error: 4.3857 - val_loss: 380.1632 - val_mean_squared_error: 380.1632 - val_mean_absolute_error: 19.4956\n",
            "Epoch 18/100\n",
            "16/16 [==============================] - 0s 13ms/step - loss: 82.6102 - mean_squared_error: 82.6102 - mean_absolute_error: 4.3291 - val_loss: 0.2184 - val_mean_squared_error: 0.2184 - val_mean_absolute_error: 0.4240\n",
            "Epoch 19/100\n",
            "16/16 [==============================] - 0s 13ms/step - loss: 12.9575 - mean_squared_error: 12.9575 - mean_absolute_error: 2.5204 - val_loss: 1.2011 - val_mean_squared_error: 1.2011 - val_mean_absolute_error: 1.0712\n",
            "Epoch 20/100\n",
            "16/16 [==============================] - 0s 13ms/step - loss: 11.8855 - mean_squared_error: 11.8855 - mean_absolute_error: 2.2849 - val_loss: 0.3303 - val_mean_squared_error: 0.3303 - val_mean_absolute_error: 0.5312\n",
            "Epoch 21/100\n",
            "16/16 [==============================] - 0s 15ms/step - loss: 0.7354 - mean_squared_error: 0.7354 - mean_absolute_error: 0.3736 - val_loss: 106.4539 - val_mean_squared_error: 106.4539 - val_mean_absolute_error: 10.3150\n",
            "Epoch 22/100\n",
            "16/16 [==============================] - 0s 13ms/step - loss: 23448.0723 - mean_squared_error: 23448.0723 - mean_absolute_error: 51.5746 - val_loss: 0.8025 - val_mean_squared_error: 0.8025 - val_mean_absolute_error: 0.5146\n",
            "Epoch 23/100\n",
            "16/16 [==============================] - 0s 13ms/step - loss: 4.3842 - mean_squared_error: 4.3842 - mean_absolute_error: 1.3128 - val_loss: 10.1927 - val_mean_squared_error: 10.1927 - val_mean_absolute_error: 3.0832\n",
            "Epoch 24/100\n",
            "16/16 [==============================] - 0s 14ms/step - loss: 7.4952 - mean_squared_error: 7.4952 - mean_absolute_error: 1.7093 - val_loss: 5.4213 - val_mean_squared_error: 5.4213 - val_mean_absolute_error: 1.0788\n",
            "Epoch 25/100\n",
            "16/16 [==============================] - 0s 13ms/step - loss: 590.3628 - mean_squared_error: 590.3628 - mean_absolute_error: 13.3762 - val_loss: 0.2859 - val_mean_squared_error: 0.2859 - val_mean_absolute_error: 0.4203\n",
            "Epoch 26/100\n",
            "16/16 [==============================] - 0s 11ms/step - loss: 2.2069 - mean_squared_error: 2.2069 - mean_absolute_error: 0.6345 - val_loss: 6.2857 - val_mean_squared_error: 6.2857 - val_mean_absolute_error: 1.6808\n"
          ],
          "name": "stdout"
        },
        {
          "output_type": "display_data",
          "data": {
            "text/html": [
              "<br/>Waiting for W&B process to finish, PID 7328<br/>Program ended successfully."
            ],
            "text/plain": [
              "<IPython.core.display.HTML object>"
            ]
          },
          "metadata": {
            "tags": []
          }
        },
        {
          "output_type": "display_data",
          "data": {
            "application/vnd.jupyter.widget-view+json": {
              "model_id": "1a2b85f79503462b9ddeb6bfee33b370",
              "version_minor": 0,
              "version_major": 2
            },
            "text/plain": [
              "VBox(children=(Label(value=' 0.36MB of 0.36MB uploaded (0.00MB deduped)\\r'), FloatProgress(value=1.0, max=1.0)…"
            ]
          },
          "metadata": {
            "tags": []
          }
        },
        {
          "output_type": "display_data",
          "data": {
            "text/html": [
              "Find user logs for this run at: <code>/content/feeder_repo/wandb/run-20210723_162709-agq98jzw/logs/debug.log</code>"
            ],
            "text/plain": [
              "<IPython.core.display.HTML object>"
            ]
          },
          "metadata": {
            "tags": []
          }
        },
        {
          "output_type": "display_data",
          "data": {
            "text/html": [
              "Find internal logs for this run at: <code>/content/feeder_repo/wandb/run-20210723_162709-agq98jzw/logs/debug-internal.log</code>"
            ],
            "text/plain": [
              "<IPython.core.display.HTML object>"
            ]
          },
          "metadata": {
            "tags": []
          }
        },
        {
          "output_type": "display_data",
          "data": {
            "text/html": [
              "<h3>Run summary:</h3><br/><style>\n",
              "    table.wandb td:nth-child(1) { padding: 0 10px; text-align: right }\n",
              "    </style><table class=\"wandb\">\n",
              "<tr><td>epoch</td><td>25</td></tr><tr><td>loss</td><td>9.86333</td></tr><tr><td>mean_squared_error</td><td>9.86333</td></tr><tr><td>mean_absolute_error</td><td>1.71743</td></tr><tr><td>val_loss</td><td>6.28572</td></tr><tr><td>val_mean_squared_error</td><td>6.28572</td></tr><tr><td>val_mean_absolute_error</td><td>1.68082</td></tr><tr><td>_runtime</td><td>12</td></tr><tr><td>_timestamp</td><td>1627057641</td></tr><tr><td>_step</td><td>25</td></tr><tr><td>best_val_loss</td><td>0.03772</td></tr><tr><td>best_epoch</td><td>15</td></tr></table>"
            ],
            "text/plain": [
              "<IPython.core.display.HTML object>"
            ]
          },
          "metadata": {
            "tags": []
          }
        },
        {
          "output_type": "display_data",
          "data": {
            "text/html": [
              "<h3>Run history:</h3><br/><style>\n",
              "    table.wandb td:nth-child(1) { padding: 0 10px; text-align: right }\n",
              "    </style><table class=\"wandb\">\n",
              "<tr><td>epoch</td><td>▁▁▂▂▂▂▃▃▃▄▄▄▄▅▅▅▅▆▆▆▇▇▇▇██</td></tr><tr><td>loss</td><td>▂▁▁▁▁▁▁▁▁▁▁▁▁▁▁▁▁▁▁▁▁█▁▁▁▁</td></tr><tr><td>mean_squared_error</td><td>▂▁▁▁▁▁▁▁▁▁▁▁▁▁▁▁▁▁▁▁▁█▁▁▁▁</td></tr><tr><td>mean_absolute_error</td><td>▆▁▂▁▃▁▁▁▁▂▃▁▁▃▁▁▃▁▁▁▁█▁▁▃▁</td></tr><tr><td>val_loss</td><td>▁▁▁▁▁▁▁▁▁█▁▁▁▁▁▁▁▁▁▁▁▁▁▁▁▁</td></tr><tr><td>val_mean_squared_error</td><td>▁▁▁▁▁▁▁▁▁█▁▁▁▁▁▁▁▁▁▁▁▁▁▁▁▁</td></tr><tr><td>val_mean_absolute_error</td><td>▁▁▁▁▁▁▁▁▁█▁▁▂▁▁▁▂▁▁▁▂▁▁▁▁▁</td></tr><tr><td>_runtime</td><td>▁▁▁▁▂▂▂▂▂▄▄▄▄▅▅▅▅▇▇▇▇▇████</td></tr><tr><td>_timestamp</td><td>▁▁▁▁▂▂▂▂▂▄▄▄▄▅▅▅▅▇▇▇▇▇████</td></tr><tr><td>_step</td><td>▁▁▂▂▂▂▃▃▃▄▄▄▄▅▅▅▅▆▆▆▇▇▇▇██</td></tr></table><br/>"
            ],
            "text/plain": [
              "<IPython.core.display.HTML object>"
            ]
          },
          "metadata": {
            "tags": []
          }
        },
        {
          "output_type": "display_data",
          "data": {
            "text/html": [
              "Synced 5 W&B file(s), 1 media file(s), 2 artifact file(s) and 2 other file(s)"
            ],
            "text/plain": [
              "<IPython.core.display.HTML object>"
            ]
          },
          "metadata": {
            "tags": []
          }
        },
        {
          "output_type": "display_data",
          "data": {
            "text/html": [
              "\n",
              "                    <br/>Synced <strong style=\"color:#cdcd00\">light-sweep-42</strong>: <a href=\"https://wandb.ai/acse-jaq15/ACSE_9_MLP_AE/runs/agq98jzw\" target=\"_blank\">https://wandb.ai/acse-jaq15/ACSE_9_MLP_AE/runs/agq98jzw</a><br/>\n",
              "                "
            ],
            "text/plain": [
              "<IPython.core.display.HTML object>"
            ]
          },
          "metadata": {
            "tags": []
          }
        },
        {
          "output_type": "stream",
          "text": [
            "\u001b[34m\u001b[1mwandb\u001b[0m: Agent Starting Run: 9f208j1i with config:\n",
            "\u001b[34m\u001b[1mwandb\u001b[0m: \tactivation: selu\n",
            "\u001b[34m\u001b[1mwandb\u001b[0m: \tbatch_size: 32\n",
            "\u001b[34m\u001b[1mwandb\u001b[0m: \tepochs: 100\n",
            "\u001b[34m\u001b[1mwandb\u001b[0m: \tlearning_rate: 0.005\n",
            "\u001b[34m\u001b[1mwandb\u001b[0m: \toptimizer: adam\n"
          ],
          "name": "stderr"
        },
        {
          "output_type": "display_data",
          "data": {
            "text/html": [
              "\n",
              "                Tracking run with wandb version 0.11.0<br/>\n",
              "                Syncing run <strong style=\"color:#cdcd00\">morning-sweep-43</strong> to <a href=\"https://wandb.ai\" target=\"_blank\">Weights & Biases</a> <a href=\"https://docs.wandb.com/integrations/jupyter.html\" target=\"_blank\">(Documentation)</a>.<br/>\n",
              "                Project page: <a href=\"https://wandb.ai/acse-jaq15/ACSE_9_MLP_AE\" target=\"_blank\">https://wandb.ai/acse-jaq15/ACSE_9_MLP_AE</a><br/>\n",
              "                Sweep page: <a href=\"https://wandb.ai/acse-jaq15/ACSE_9_MLP_AE/sweeps/6wgndl46\" target=\"_blank\">https://wandb.ai/acse-jaq15/ACSE_9_MLP_AE/sweeps/6wgndl46</a><br/>\n",
              "Run page: <a href=\"https://wandb.ai/acse-jaq15/ACSE_9_MLP_AE/runs/9f208j1i\" target=\"_blank\">https://wandb.ai/acse-jaq15/ACSE_9_MLP_AE/runs/9f208j1i</a><br/>\n",
              "                Run data is saved locally in <code>/content/feeder_repo/wandb/run-20210723_162729-9f208j1i</code><br/><br/>\n",
              "            "
            ],
            "text/plain": [
              "<IPython.core.display.HTML object>"
            ]
          },
          "metadata": {
            "tags": []
          }
        },
        {
          "output_type": "stream",
          "text": [
            "Epoch 1/100\n",
            "31/31 [==============================] - 3s 37ms/step - loss: 98.2046 - mean_squared_error: 98.2046 - mean_absolute_error: 6.6109 - val_loss: 0.6764 - val_mean_squared_error: 0.6764 - val_mean_absolute_error: 0.8058\n",
            "Epoch 2/100\n",
            "31/31 [==============================] - 0s 13ms/step - loss: 2.7394 - mean_squared_error: 2.7394 - mean_absolute_error: 1.2043 - val_loss: 5.4715 - val_mean_squared_error: 5.4715 - val_mean_absolute_error: 2.3338\n",
            "Epoch 3/100\n",
            "31/31 [==============================] - 0s 14ms/step - loss: 1.9288 - mean_squared_error: 1.9288 - mean_absolute_error: 1.0753 - val_loss: 0.0820 - val_mean_squared_error: 0.0820 - val_mean_absolute_error: 0.2621\n",
            "Epoch 4/100\n",
            "31/31 [==============================] - 0s 13ms/step - loss: 0.3100 - mean_squared_error: 0.3100 - mean_absolute_error: 0.4332 - val_loss: 0.1101 - val_mean_squared_error: 0.1101 - val_mean_absolute_error: 0.3108\n",
            "Epoch 5/100\n",
            "31/31 [==============================] - 0s 12ms/step - loss: 0.2416 - mean_squared_error: 0.2416 - mean_absolute_error: 0.4004 - val_loss: 0.1132 - val_mean_squared_error: 0.1132 - val_mean_absolute_error: 0.3154\n",
            "Epoch 6/100\n",
            "31/31 [==============================] - 0s 13ms/step - loss: 0.2356 - mean_squared_error: 0.2356 - mean_absolute_error: 0.3714 - val_loss: 0.1213 - val_mean_squared_error: 0.1213 - val_mean_absolute_error: 0.3273\n",
            "Epoch 7/100\n",
            "31/31 [==============================] - 0s 13ms/step - loss: 0.1150 - mean_squared_error: 0.1150 - mean_absolute_error: 0.2670 - val_loss: 0.3600 - val_mean_squared_error: 0.3600 - val_mean_absolute_error: 0.5558\n",
            "Epoch 8/100\n",
            "31/31 [==============================] - 0s 13ms/step - loss: 0.1373 - mean_squared_error: 0.1373 - mean_absolute_error: 0.3018 - val_loss: 0.3207 - val_mean_squared_error: 0.3207 - val_mean_absolute_error: 0.5234\n",
            "Epoch 9/100\n",
            "31/31 [==============================] - 0s 13ms/step - loss: 0.1470 - mean_squared_error: 0.1470 - mean_absolute_error: 0.3080 - val_loss: 0.1307 - val_mean_squared_error: 0.1307 - val_mean_absolute_error: 0.3401\n",
            "Epoch 10/100\n",
            "31/31 [==============================] - 0s 12ms/step - loss: 0.1752 - mean_squared_error: 0.1752 - mean_absolute_error: 0.3475 - val_loss: 0.4822 - val_mean_squared_error: 0.4822 - val_mean_absolute_error: 0.6525\n",
            "Epoch 11/100\n",
            "31/31 [==============================] - 0s 13ms/step - loss: 0.1770 - mean_squared_error: 0.1770 - mean_absolute_error: 0.3355 - val_loss: 0.0565 - val_mean_squared_error: 0.0565 - val_mean_absolute_error: 0.1790\n",
            "Epoch 12/100\n",
            "31/31 [==============================] - 0s 13ms/step - loss: 0.2057 - mean_squared_error: 0.2057 - mean_absolute_error: 0.3588 - val_loss: 0.7043 - val_mean_squared_error: 0.7043 - val_mean_absolute_error: 0.8049\n",
            "Epoch 13/100\n",
            "31/31 [==============================] - 0s 13ms/step - loss: 1.8923 - mean_squared_error: 1.8923 - mean_absolute_error: 1.0956 - val_loss: 0.0657 - val_mean_squared_error: 0.0657 - val_mean_absolute_error: 0.1647\n",
            "Epoch 14/100\n",
            "31/31 [==============================] - 0s 13ms/step - loss: 0.1487 - mean_squared_error: 0.1487 - mean_absolute_error: 0.3050 - val_loss: 0.3721 - val_mean_squared_error: 0.3721 - val_mean_absolute_error: 0.5658\n",
            "Epoch 15/100\n",
            "31/31 [==============================] - 0s 13ms/step - loss: 0.1360 - mean_squared_error: 0.1360 - mean_absolute_error: 0.2907 - val_loss: 0.9321 - val_mean_squared_error: 0.9321 - val_mean_absolute_error: 0.9357\n",
            "Epoch 16/100\n",
            "31/31 [==============================] - 0s 14ms/step - loss: 0.1335 - mean_squared_error: 0.1335 - mean_absolute_error: 0.2923 - val_loss: 0.2183 - val_mean_squared_error: 0.2183 - val_mean_absolute_error: 0.4358\n",
            "Epoch 17/100\n",
            "31/31 [==============================] - 0s 12ms/step - loss: 0.1192 - mean_squared_error: 0.1192 - mean_absolute_error: 0.2702 - val_loss: 0.2287 - val_mean_squared_error: 0.2287 - val_mean_absolute_error: 0.4454\n",
            "Epoch 18/100\n",
            "31/31 [==============================] - 0s 13ms/step - loss: 0.0989 - mean_squared_error: 0.0989 - mean_absolute_error: 0.2463 - val_loss: 0.0623 - val_mean_squared_error: 0.0623 - val_mean_absolute_error: 0.2116\n",
            "Epoch 19/100\n",
            "31/31 [==============================] - 0s 13ms/step - loss: 0.2181 - mean_squared_error: 0.2181 - mean_absolute_error: 0.3882 - val_loss: 0.1296 - val_mean_squared_error: 0.1296 - val_mean_absolute_error: 0.3386\n",
            "Epoch 20/100\n",
            "31/31 [==============================] - 0s 13ms/step - loss: 0.1013 - mean_squared_error: 0.1013 - mean_absolute_error: 0.2608 - val_loss: 0.3268 - val_mean_squared_error: 0.3268 - val_mean_absolute_error: 0.5283\n",
            "Epoch 21/100\n",
            "31/31 [==============================] - 0s 12ms/step - loss: 0.1134 - mean_squared_error: 0.1134 - mean_absolute_error: 0.2713 - val_loss: 0.1302 - val_mean_squared_error: 0.1302 - val_mean_absolute_error: 0.3394\n"
          ],
          "name": "stdout"
        },
        {
          "output_type": "display_data",
          "data": {
            "text/html": [
              "<br/>Waiting for W&B process to finish, PID 7461<br/>Program ended successfully."
            ],
            "text/plain": [
              "<IPython.core.display.HTML object>"
            ]
          },
          "metadata": {
            "tags": []
          }
        },
        {
          "output_type": "display_data",
          "data": {
            "application/vnd.jupyter.widget-view+json": {
              "model_id": "49755b854790449faa065f523560df9b",
              "version_minor": 0,
              "version_major": 2
            },
            "text/plain": [
              "VBox(children=(Label(value=' 1.46MB of 1.46MB uploaded (0.00MB deduped)\\r'), FloatProgress(value=1.0, max=1.0)…"
            ]
          },
          "metadata": {
            "tags": []
          }
        },
        {
          "output_type": "display_data",
          "data": {
            "text/html": [
              "Find user logs for this run at: <code>/content/feeder_repo/wandb/run-20210723_162729-9f208j1i/logs/debug.log</code>"
            ],
            "text/plain": [
              "<IPython.core.display.HTML object>"
            ]
          },
          "metadata": {
            "tags": []
          }
        },
        {
          "output_type": "display_data",
          "data": {
            "text/html": [
              "Find internal logs for this run at: <code>/content/feeder_repo/wandb/run-20210723_162729-9f208j1i/logs/debug-internal.log</code>"
            ],
            "text/plain": [
              "<IPython.core.display.HTML object>"
            ]
          },
          "metadata": {
            "tags": []
          }
        },
        {
          "output_type": "display_data",
          "data": {
            "text/html": [
              "<h3>Run summary:</h3><br/><style>\n",
              "    table.wandb td:nth-child(1) { padding: 0 10px; text-align: right }\n",
              "    </style><table class=\"wandb\">\n",
              "<tr><td>epoch</td><td>20</td></tr><tr><td>loss</td><td>0.10863</td></tr><tr><td>mean_squared_error</td><td>0.10863</td></tr><tr><td>mean_absolute_error</td><td>0.26618</td></tr><tr><td>val_loss</td><td>0.13018</td></tr><tr><td>val_mean_squared_error</td><td>0.13018</td></tr><tr><td>val_mean_absolute_error</td><td>0.33941</td></tr><tr><td>_runtime</td><td>16</td></tr><tr><td>_timestamp</td><td>1627057665</td></tr><tr><td>_step</td><td>20</td></tr><tr><td>best_val_loss</td><td>0.05649</td></tr><tr><td>best_epoch</td><td>10</td></tr></table>"
            ],
            "text/plain": [
              "<IPython.core.display.HTML object>"
            ]
          },
          "metadata": {
            "tags": []
          }
        },
        {
          "output_type": "display_data",
          "data": {
            "text/html": [
              "<h3>Run history:</h3><br/><style>\n",
              "    table.wandb td:nth-child(1) { padding: 0 10px; text-align: right }\n",
              "    </style><table class=\"wandb\">\n",
              "<tr><td>epoch</td><td>▁▁▂▂▂▃▃▃▄▄▅▅▅▆▆▆▇▇▇██</td></tr><tr><td>loss</td><td>█▂▁▁▁▁▁▁▁▁▁▁▁▁▁▁▁▁▁▁▁</td></tr><tr><td>mean_squared_error</td><td>█▂▁▁▁▁▁▁▁▁▁▁▁▁▁▁▁▁▁▁▁</td></tr><tr><td>mean_absolute_error</td><td>█▃▂▁▁▁▁▁▁▁▁▁▂▁▁▁▁▁▁▁▁</td></tr><tr><td>val_loss</td><td>▂█▁▁▁▁▁▁▁▂▁▂▁▁▂▁▁▁▁▁▁</td></tr><tr><td>val_mean_squared_error</td><td>▂█▁▁▁▁▁▁▁▂▁▂▁▁▂▁▁▁▁▁▁</td></tr><tr><td>val_mean_absolute_error</td><td>▃█▁▁▁▂▂▂▂▃▁▃▁▂▃▂▂▁▂▂▂</td></tr><tr><td>_runtime</td><td>▁▂▂▃▃▃▃▃▄▄▄▅▅▆▆▆▆▆▇▇█</td></tr><tr><td>_timestamp</td><td>▁▂▂▃▃▃▃▃▄▄▄▅▅▆▆▆▆▆▇▇█</td></tr><tr><td>_step</td><td>▁▁▂▂▂▃▃▃▄▄▅▅▅▆▆▆▇▇▇██</td></tr></table><br/>"
            ],
            "text/plain": [
              "<IPython.core.display.HTML object>"
            ]
          },
          "metadata": {
            "tags": []
          }
        },
        {
          "output_type": "display_data",
          "data": {
            "text/html": [
              "Synced 5 W&B file(s), 1 media file(s), 2 artifact file(s) and 2 other file(s)"
            ],
            "text/plain": [
              "<IPython.core.display.HTML object>"
            ]
          },
          "metadata": {
            "tags": []
          }
        },
        {
          "output_type": "display_data",
          "data": {
            "text/html": [
              "\n",
              "                    <br/>Synced <strong style=\"color:#cdcd00\">morning-sweep-43</strong>: <a href=\"https://wandb.ai/acse-jaq15/ACSE_9_MLP_AE/runs/9f208j1i\" target=\"_blank\">https://wandb.ai/acse-jaq15/ACSE_9_MLP_AE/runs/9f208j1i</a><br/>\n",
              "                "
            ],
            "text/plain": [
              "<IPython.core.display.HTML object>"
            ]
          },
          "metadata": {
            "tags": []
          }
        },
        {
          "output_type": "stream",
          "text": [
            "\u001b[34m\u001b[1mwandb\u001b[0m: Agent Starting Run: g57qgc3i with config:\n",
            "\u001b[34m\u001b[1mwandb\u001b[0m: \tactivation: selu\n",
            "\u001b[34m\u001b[1mwandb\u001b[0m: \tbatch_size: 128\n",
            "\u001b[34m\u001b[1mwandb\u001b[0m: \tepochs: 50\n",
            "\u001b[34m\u001b[1mwandb\u001b[0m: \tlearning_rate: 0.001\n",
            "\u001b[34m\u001b[1mwandb\u001b[0m: \toptimizer: adam\n"
          ],
          "name": "stderr"
        },
        {
          "output_type": "display_data",
          "data": {
            "text/html": [
              "\n",
              "                Tracking run with wandb version 0.11.0<br/>\n",
              "                Syncing run <strong style=\"color:#cdcd00\">good-sweep-44</strong> to <a href=\"https://wandb.ai\" target=\"_blank\">Weights & Biases</a> <a href=\"https://docs.wandb.com/integrations/jupyter.html\" target=\"_blank\">(Documentation)</a>.<br/>\n",
              "                Project page: <a href=\"https://wandb.ai/acse-jaq15/ACSE_9_MLP_AE\" target=\"_blank\">https://wandb.ai/acse-jaq15/ACSE_9_MLP_AE</a><br/>\n",
              "                Sweep page: <a href=\"https://wandb.ai/acse-jaq15/ACSE_9_MLP_AE/sweeps/6wgndl46\" target=\"_blank\">https://wandb.ai/acse-jaq15/ACSE_9_MLP_AE/sweeps/6wgndl46</a><br/>\n",
              "Run page: <a href=\"https://wandb.ai/acse-jaq15/ACSE_9_MLP_AE/runs/g57qgc3i\" target=\"_blank\">https://wandb.ai/acse-jaq15/ACSE_9_MLP_AE/runs/g57qgc3i</a><br/>\n",
              "                Run data is saved locally in <code>/content/feeder_repo/wandb/run-20210723_162803-g57qgc3i</code><br/><br/>\n",
              "            "
            ],
            "text/plain": [
              "<IPython.core.display.HTML object>"
            ]
          },
          "metadata": {
            "tags": []
          }
        },
        {
          "output_type": "stream",
          "text": [
            "Epoch 1/50\n",
            "8/8 [==============================] - 4s 193ms/step - loss: 0.7129 - mean_squared_error: 0.7129 - mean_absolute_error: 0.5912 - val_loss: 0.1748 - val_mean_squared_error: 0.1748 - val_mean_absolute_error: 0.3844\n",
            "Epoch 2/50\n",
            "8/8 [==============================] - 0s 15ms/step - loss: 0.0761 - mean_squared_error: 0.0761 - mean_absolute_error: 0.2166 - val_loss: 0.0340 - val_mean_squared_error: 0.0340 - val_mean_absolute_error: 0.1363\n",
            "Epoch 3/50\n",
            "8/8 [==============================] - 0s 16ms/step - loss: 0.0691 - mean_squared_error: 0.0691 - mean_absolute_error: 0.1793 - val_loss: 0.1798 - val_mean_squared_error: 0.1798 - val_mean_absolute_error: 0.3887\n",
            "Epoch 4/50\n",
            "8/8 [==============================] - 0s 19ms/step - loss: 0.0280 - mean_squared_error: 0.0280 - mean_absolute_error: 0.1000 - val_loss: 0.0835 - val_mean_squared_error: 0.0835 - val_mean_absolute_error: 0.2561\n",
            "Epoch 5/50\n",
            "8/8 [==============================] - 0s 18ms/step - loss: 0.0121 - mean_squared_error: 0.0121 - mean_absolute_error: 0.0709 - val_loss: 0.0460 - val_mean_squared_error: 0.0460 - val_mean_absolute_error: 0.1584\n",
            "Epoch 6/50\n",
            "8/8 [==============================] - 0s 15ms/step - loss: 0.0051 - mean_squared_error: 0.0051 - mean_absolute_error: 0.0532 - val_loss: 0.0303 - val_mean_squared_error: 0.0303 - val_mean_absolute_error: 0.1251\n",
            "Epoch 7/50\n",
            "8/8 [==============================] - 0s 17ms/step - loss: 0.0030 - mean_squared_error: 0.0030 - mean_absolute_error: 0.0430 - val_loss: 0.0308 - val_mean_squared_error: 0.0308 - val_mean_absolute_error: 0.1316\n",
            "Epoch 8/50\n",
            "8/8 [==============================] - 0s 18ms/step - loss: 0.0014 - mean_squared_error: 0.0014 - mean_absolute_error: 0.0246 - val_loss: 0.0237 - val_mean_squared_error: 0.0237 - val_mean_absolute_error: 0.1176\n",
            "Epoch 9/50\n",
            "8/8 [==============================] - 0s 16ms/step - loss: 0.0015 - mean_squared_error: 0.0015 - mean_absolute_error: 0.0261 - val_loss: 0.0118 - val_mean_squared_error: 0.0118 - val_mean_absolute_error: 0.0781\n",
            "Epoch 10/50\n",
            "8/8 [==============================] - 0s 16ms/step - loss: 9.4762e-04 - mean_squared_error: 9.4762e-04 - mean_absolute_error: 0.0199 - val_loss: 0.0114 - val_mean_squared_error: 0.0114 - val_mean_absolute_error: 0.0928\n",
            "Epoch 11/50\n",
            "8/8 [==============================] - 0s 15ms/step - loss: 0.0015 - mean_squared_error: 0.0015 - mean_absolute_error: 0.0244 - val_loss: 0.0115 - val_mean_squared_error: 0.0115 - val_mean_absolute_error: 0.0932\n",
            "Epoch 12/50\n",
            "8/8 [==============================] - 0s 16ms/step - loss: 0.0022 - mean_squared_error: 0.0022 - mean_absolute_error: 0.0296 - val_loss: 0.0149 - val_mean_squared_error: 0.0149 - val_mean_absolute_error: 0.1076\n",
            "Epoch 13/50\n",
            "8/8 [==============================] - 0s 15ms/step - loss: 0.0025 - mean_squared_error: 0.0025 - mean_absolute_error: 0.0312 - val_loss: 0.0124 - val_mean_squared_error: 0.0124 - val_mean_absolute_error: 0.0795\n",
            "Epoch 14/50\n",
            "8/8 [==============================] - 0s 21ms/step - loss: 8.7209e-04 - mean_squared_error: 8.7209e-04 - mean_absolute_error: 0.0188 - val_loss: 0.0094 - val_mean_squared_error: 0.0094 - val_mean_absolute_error: 0.0735\n",
            "Epoch 15/50\n",
            "8/8 [==============================] - 0s 16ms/step - loss: 8.6493e-04 - mean_squared_error: 8.6493e-04 - mean_absolute_error: 0.0190 - val_loss: 0.0116 - val_mean_squared_error: 0.0116 - val_mean_absolute_error: 0.0772\n",
            "Epoch 16/50\n",
            "8/8 [==============================] - 0s 15ms/step - loss: 5.4512e-04 - mean_squared_error: 5.4512e-04 - mean_absolute_error: 0.0159 - val_loss: 0.0073 - val_mean_squared_error: 0.0073 - val_mean_absolute_error: 0.0606\n",
            "Epoch 17/50\n",
            "8/8 [==============================] - 0s 17ms/step - loss: 3.2587e-04 - mean_squared_error: 3.2587e-04 - mean_absolute_error: 0.0119 - val_loss: 0.0078 - val_mean_squared_error: 0.0078 - val_mean_absolute_error: 0.0650\n",
            "Epoch 18/50\n",
            "8/8 [==============================] - 0s 15ms/step - loss: 3.3885e-04 - mean_squared_error: 3.3885e-04 - mean_absolute_error: 0.0110 - val_loss: 0.0045 - val_mean_squared_error: 0.0045 - val_mean_absolute_error: 0.0484\n",
            "Epoch 19/50\n",
            "8/8 [==============================] - 0s 17ms/step - loss: 3.7008e-04 - mean_squared_error: 3.7008e-04 - mean_absolute_error: 0.0111 - val_loss: 0.0045 - val_mean_squared_error: 0.0045 - val_mean_absolute_error: 0.0514\n",
            "Epoch 20/50\n",
            "8/8 [==============================] - 0s 16ms/step - loss: 3.7335e-04 - mean_squared_error: 3.7335e-04 - mean_absolute_error: 0.0110 - val_loss: 0.0046 - val_mean_squared_error: 0.0046 - val_mean_absolute_error: 0.0473\n",
            "Epoch 21/50\n",
            "8/8 [==============================] - 0s 15ms/step - loss: 2.6380e-04 - mean_squared_error: 2.6380e-04 - mean_absolute_error: 0.0094 - val_loss: 0.0086 - val_mean_squared_error: 0.0086 - val_mean_absolute_error: 0.0735\n",
            "Epoch 22/50\n",
            "8/8 [==============================] - 0s 18ms/step - loss: 4.8739e-04 - mean_squared_error: 4.8739e-04 - mean_absolute_error: 0.0129 - val_loss: 0.0053 - val_mean_squared_error: 0.0053 - val_mean_absolute_error: 0.0506\n",
            "Epoch 23/50\n",
            "8/8 [==============================] - 0s 14ms/step - loss: 2.5826e-04 - mean_squared_error: 2.5826e-04 - mean_absolute_error: 0.0092 - val_loss: 0.0048 - val_mean_squared_error: 0.0048 - val_mean_absolute_error: 0.0551\n",
            "Epoch 24/50\n",
            "8/8 [==============================] - 0s 18ms/step - loss: 4.4377e-04 - mean_squared_error: 4.4377e-04 - mean_absolute_error: 0.0121 - val_loss: 0.0046 - val_mean_squared_error: 0.0046 - val_mean_absolute_error: 0.0469\n",
            "Epoch 25/50\n",
            "8/8 [==============================] - 0s 15ms/step - loss: 2.1249e-04 - mean_squared_error: 2.1249e-04 - mean_absolute_error: 0.0084 - val_loss: 0.0060 - val_mean_squared_error: 0.0060 - val_mean_absolute_error: 0.0568\n",
            "Epoch 26/50\n",
            "8/8 [==============================] - 0s 15ms/step - loss: 2.5287e-04 - mean_squared_error: 2.5287e-04 - mean_absolute_error: 0.0086 - val_loss: 0.0050 - val_mean_squared_error: 0.0050 - val_mean_absolute_error: 0.0503\n",
            "Epoch 27/50\n",
            "8/8 [==============================] - 0s 20ms/step - loss: 2.1160e-04 - mean_squared_error: 2.1160e-04 - mean_absolute_error: 0.0085 - val_loss: 0.0058 - val_mean_squared_error: 0.0058 - val_mean_absolute_error: 0.0562\n",
            "Epoch 28/50\n",
            "8/8 [==============================] - 0s 15ms/step - loss: 2.6414e-04 - mean_squared_error: 2.6414e-04 - mean_absolute_error: 0.0093 - val_loss: 0.0064 - val_mean_squared_error: 0.0064 - val_mean_absolute_error: 0.0611\n"
          ],
          "name": "stdout"
        },
        {
          "output_type": "display_data",
          "data": {
            "text/html": [
              "<br/>Waiting for W&B process to finish, PID 7579<br/>Program ended successfully."
            ],
            "text/plain": [
              "<IPython.core.display.HTML object>"
            ]
          },
          "metadata": {
            "tags": []
          }
        },
        {
          "output_type": "display_data",
          "data": {
            "application/vnd.jupyter.widget-view+json": {
              "model_id": "a62b6646844e458f8fead57a0945a8a7",
              "version_minor": 0,
              "version_major": 2
            },
            "text/plain": [
              "VBox(children=(Label(value=' 1.48MB of 1.48MB uploaded (0.00MB deduped)\\r'), FloatProgress(value=1.0, max=1.0)…"
            ]
          },
          "metadata": {
            "tags": []
          }
        },
        {
          "output_type": "display_data",
          "data": {
            "text/html": [
              "Find user logs for this run at: <code>/content/feeder_repo/wandb/run-20210723_162803-g57qgc3i/logs/debug.log</code>"
            ],
            "text/plain": [
              "<IPython.core.display.HTML object>"
            ]
          },
          "metadata": {
            "tags": []
          }
        },
        {
          "output_type": "display_data",
          "data": {
            "text/html": [
              "Find internal logs for this run at: <code>/content/feeder_repo/wandb/run-20210723_162803-g57qgc3i/logs/debug-internal.log</code>"
            ],
            "text/plain": [
              "<IPython.core.display.HTML object>"
            ]
          },
          "metadata": {
            "tags": []
          }
        },
        {
          "output_type": "display_data",
          "data": {
            "text/html": [
              "<h3>Run summary:</h3><br/><style>\n",
              "    table.wandb td:nth-child(1) { padding: 0 10px; text-align: right }\n",
              "    </style><table class=\"wandb\">\n",
              "<tr><td>epoch</td><td>27</td></tr><tr><td>loss</td><td>0.00027</td></tr><tr><td>mean_squared_error</td><td>0.00027</td></tr><tr><td>mean_absolute_error</td><td>0.00937</td></tr><tr><td>val_loss</td><td>0.00644</td></tr><tr><td>val_mean_squared_error</td><td>0.00644</td></tr><tr><td>val_mean_absolute_error</td><td>0.06112</td></tr><tr><td>_runtime</td><td>12</td></tr><tr><td>_timestamp</td><td>1627057695</td></tr><tr><td>_step</td><td>27</td></tr><tr><td>best_val_loss</td><td>0.00452</td></tr><tr><td>best_epoch</td><td>17</td></tr></table>"
            ],
            "text/plain": [
              "<IPython.core.display.HTML object>"
            ]
          },
          "metadata": {
            "tags": []
          }
        },
        {
          "output_type": "display_data",
          "data": {
            "text/html": [
              "<h3>Run history:</h3><br/><style>\n",
              "    table.wandb td:nth-child(1) { padding: 0 10px; text-align: right }\n",
              "    </style><table class=\"wandb\">\n",
              "<tr><td>epoch</td><td>▁▁▂▂▂▂▃▃▃▃▄▄▄▄▅▅▅▅▆▆▆▆▇▇▇▇██</td></tr><tr><td>loss</td><td>█▂▂▁▁▁▁▁▁▁▁▁▁▁▁▁▁▁▁▁▁▁▁▁▁▁▁▁</td></tr><tr><td>mean_squared_error</td><td>█▂▂▁▁▁▁▁▁▁▁▁▁▁▁▁▁▁▁▁▁▁▁▁▁▁▁▁</td></tr><tr><td>mean_absolute_error</td><td>█▄▃▂▂▂▁▁▁▁▁▁▁▁▁▁▁▁▁▁▁▁▁▁▁▁▁▁</td></tr><tr><td>val_loss</td><td>█▂█▄▃▂▂▂▁▁▁▁▁▁▁▁▁▁▁▁▁▁▁▁▁▁▁▁</td></tr><tr><td>val_mean_squared_error</td><td>█▂█▄▃▂▂▂▁▁▁▁▁▁▁▁▁▁▁▁▁▁▁▁▁▁▁▁</td></tr><tr><td>val_mean_absolute_error</td><td>█▃█▅▃▃▃▂▂▂▂▂▂▂▂▁▁▁▁▁▂▁▁▁▁▁▁▁</td></tr><tr><td>_runtime</td><td>▁▁▁▁▁▁▃▃▃▃▃▅▅▅▅▅▅▆▆▆▆▆▆▆████</td></tr><tr><td>_timestamp</td><td>▁▁▁▁▁▁▃▃▃▃▃▅▅▅▅▅▅▆▆▆▆▆▆▆████</td></tr><tr><td>_step</td><td>▁▁▂▂▂▂▃▃▃▃▄▄▄▄▅▅▅▅▆▆▆▆▇▇▇▇██</td></tr></table><br/>"
            ],
            "text/plain": [
              "<IPython.core.display.HTML object>"
            ]
          },
          "metadata": {
            "tags": []
          }
        },
        {
          "output_type": "display_data",
          "data": {
            "text/html": [
              "Synced 5 W&B file(s), 1 media file(s), 2 artifact file(s) and 2 other file(s)"
            ],
            "text/plain": [
              "<IPython.core.display.HTML object>"
            ]
          },
          "metadata": {
            "tags": []
          }
        },
        {
          "output_type": "display_data",
          "data": {
            "text/html": [
              "\n",
              "                    <br/>Synced <strong style=\"color:#cdcd00\">good-sweep-44</strong>: <a href=\"https://wandb.ai/acse-jaq15/ACSE_9_MLP_AE/runs/g57qgc3i\" target=\"_blank\">https://wandb.ai/acse-jaq15/ACSE_9_MLP_AE/runs/g57qgc3i</a><br/>\n",
              "                "
            ],
            "text/plain": [
              "<IPython.core.display.HTML object>"
            ]
          },
          "metadata": {
            "tags": []
          }
        },
        {
          "output_type": "stream",
          "text": [
            "\u001b[34m\u001b[1mwandb\u001b[0m: Agent Starting Run: 9gqk6r4s with config:\n",
            "\u001b[34m\u001b[1mwandb\u001b[0m: \tactivation: relu\n",
            "\u001b[34m\u001b[1mwandb\u001b[0m: \tbatch_size: 64\n",
            "\u001b[34m\u001b[1mwandb\u001b[0m: \tepochs: 50\n",
            "\u001b[34m\u001b[1mwandb\u001b[0m: \tlearning_rate: 0.0005\n",
            "\u001b[34m\u001b[1mwandb\u001b[0m: \toptimizer: nadam\n"
          ],
          "name": "stderr"
        },
        {
          "output_type": "display_data",
          "data": {
            "text/html": [
              "\n",
              "                Tracking run with wandb version 0.11.0<br/>\n",
              "                Syncing run <strong style=\"color:#cdcd00\">helpful-sweep-45</strong> to <a href=\"https://wandb.ai\" target=\"_blank\">Weights & Biases</a> <a href=\"https://docs.wandb.com/integrations/jupyter.html\" target=\"_blank\">(Documentation)</a>.<br/>\n",
              "                Project page: <a href=\"https://wandb.ai/acse-jaq15/ACSE_9_MLP_AE\" target=\"_blank\">https://wandb.ai/acse-jaq15/ACSE_9_MLP_AE</a><br/>\n",
              "                Sweep page: <a href=\"https://wandb.ai/acse-jaq15/ACSE_9_MLP_AE/sweeps/6wgndl46\" target=\"_blank\">https://wandb.ai/acse-jaq15/ACSE_9_MLP_AE/sweeps/6wgndl46</a><br/>\n",
              "Run page: <a href=\"https://wandb.ai/acse-jaq15/ACSE_9_MLP_AE/runs/9gqk6r4s\" target=\"_blank\">https://wandb.ai/acse-jaq15/ACSE_9_MLP_AE/runs/9gqk6r4s</a><br/>\n",
              "                Run data is saved locally in <code>/content/feeder_repo/wandb/run-20210723_162828-9gqk6r4s</code><br/><br/>\n",
              "            "
            ],
            "text/plain": [
              "<IPython.core.display.HTML object>"
            ]
          },
          "metadata": {
            "tags": []
          }
        },
        {
          "output_type": "stream",
          "text": [
            "Epoch 1/50\n",
            "16/16 [==============================] - 4s 64ms/step - loss: 0.1048 - mean_squared_error: 0.1048 - mean_absolute_error: 0.1984 - val_loss: 0.0224 - val_mean_squared_error: 0.0224 - val_mean_absolute_error: 0.1085\n",
            "Epoch 2/50\n",
            "16/16 [==============================] - 0s 16ms/step - loss: 0.0020 - mean_squared_error: 0.0020 - mean_absolute_error: 0.0287 - val_loss: 0.0192 - val_mean_squared_error: 0.0192 - val_mean_absolute_error: 0.1032\n",
            "Epoch 3/50\n",
            "16/16 [==============================] - 0s 16ms/step - loss: 0.0012 - mean_squared_error: 0.0012 - mean_absolute_error: 0.0200 - val_loss: 0.0219 - val_mean_squared_error: 0.0219 - val_mean_absolute_error: 0.1069\n",
            "Epoch 4/50\n",
            "16/16 [==============================] - 0s 16ms/step - loss: 0.0014 - mean_squared_error: 0.0014 - mean_absolute_error: 0.0227 - val_loss: 0.0211 - val_mean_squared_error: 0.0211 - val_mean_absolute_error: 0.1049\n",
            "Epoch 5/50\n",
            "16/16 [==============================] - 0s 19ms/step - loss: 8.9298e-04 - mean_squared_error: 8.9298e-04 - mean_absolute_error: 0.0180 - val_loss: 0.0192 - val_mean_squared_error: 0.0192 - val_mean_absolute_error: 0.1009\n",
            "Epoch 6/50\n",
            "16/16 [==============================] - 0s 18ms/step - loss: 0.0016 - mean_squared_error: 0.0016 - mean_absolute_error: 0.0232 - val_loss: 0.0177 - val_mean_squared_error: 0.0177 - val_mean_absolute_error: 0.0978\n",
            "Epoch 7/50\n",
            "16/16 [==============================] - 0s 16ms/step - loss: 9.5914e-04 - mean_squared_error: 9.5914e-04 - mean_absolute_error: 0.0185 - val_loss: 0.0174 - val_mean_squared_error: 0.0174 - val_mean_absolute_error: 0.0964\n",
            "Epoch 8/50\n",
            "16/16 [==============================] - 0s 17ms/step - loss: 0.0015 - mean_squared_error: 0.0015 - mean_absolute_error: 0.0241 - val_loss: 0.1099 - val_mean_squared_error: 0.1099 - val_mean_absolute_error: 0.3013\n",
            "Epoch 9/50\n",
            "16/16 [==============================] - 0s 16ms/step - loss: 0.0085 - mean_squared_error: 0.0085 - mean_absolute_error: 0.0452 - val_loss: 0.0157 - val_mean_squared_error: 0.0157 - val_mean_absolute_error: 0.0937\n",
            "Epoch 10/50\n",
            "16/16 [==============================] - 0s 16ms/step - loss: 0.0016 - mean_squared_error: 0.0016 - mean_absolute_error: 0.0247 - val_loss: 0.0185 - val_mean_squared_error: 0.0185 - val_mean_absolute_error: 0.0975\n",
            "Epoch 11/50\n",
            "16/16 [==============================] - 0s 18ms/step - loss: 8.3540e-04 - mean_squared_error: 8.3540e-04 - mean_absolute_error: 0.0170 - val_loss: 0.0188 - val_mean_squared_error: 0.0188 - val_mean_absolute_error: 0.0983\n",
            "Epoch 12/50\n",
            "16/16 [==============================] - 0s 16ms/step - loss: 8.1439e-04 - mean_squared_error: 8.1439e-04 - mean_absolute_error: 0.0175 - val_loss: 0.0282 - val_mean_squared_error: 0.0282 - val_mean_absolute_error: 0.1330\n",
            "Epoch 13/50\n",
            "16/16 [==============================] - 0s 17ms/step - loss: 0.0021 - mean_squared_error: 0.0021 - mean_absolute_error: 0.0294 - val_loss: 0.0137 - val_mean_squared_error: 0.0137 - val_mean_absolute_error: 0.0880\n",
            "Epoch 14/50\n",
            "16/16 [==============================] - 0s 19ms/step - loss: 7.8729e-04 - mean_squared_error: 7.8729e-04 - mean_absolute_error: 0.0173 - val_loss: 0.0132 - val_mean_squared_error: 0.0132 - val_mean_absolute_error: 0.0869\n",
            "Epoch 15/50\n",
            "16/16 [==============================] - 0s 16ms/step - loss: 0.0016 - mean_squared_error: 0.0016 - mean_absolute_error: 0.0230 - val_loss: 0.0208 - val_mean_squared_error: 0.0208 - val_mean_absolute_error: 0.1082\n",
            "Epoch 16/50\n",
            "16/16 [==============================] - 0s 17ms/step - loss: 9.1139e-04 - mean_squared_error: 9.1139e-04 - mean_absolute_error: 0.0177 - val_loss: 0.0165 - val_mean_squared_error: 0.0165 - val_mean_absolute_error: 0.0921\n",
            "Epoch 17/50\n",
            "16/16 [==============================] - 0s 16ms/step - loss: 7.7838e-04 - mean_squared_error: 7.7838e-04 - mean_absolute_error: 0.0167 - val_loss: 0.0130 - val_mean_squared_error: 0.0130 - val_mean_absolute_error: 0.0827\n",
            "Epoch 18/50\n",
            "16/16 [==============================] - 0s 18ms/step - loss: 8.6164e-04 - mean_squared_error: 8.6164e-04 - mean_absolute_error: 0.0183 - val_loss: 0.0262 - val_mean_squared_error: 0.0262 - val_mean_absolute_error: 0.1312\n",
            "Epoch 19/50\n",
            "16/16 [==============================] - 0s 18ms/step - loss: 0.0013 - mean_squared_error: 0.0013 - mean_absolute_error: 0.0219 - val_loss: 0.0119 - val_mean_squared_error: 0.0119 - val_mean_absolute_error: 0.0792\n",
            "Epoch 20/50\n",
            "16/16 [==============================] - 0s 18ms/step - loss: 5.6778e-04 - mean_squared_error: 5.6778e-04 - mean_absolute_error: 0.0140 - val_loss: 0.0122 - val_mean_squared_error: 0.0122 - val_mean_absolute_error: 0.0782\n",
            "Epoch 21/50\n",
            "16/16 [==============================] - 0s 21ms/step - loss: 7.0411e-04 - mean_squared_error: 7.0411e-04 - mean_absolute_error: 0.0164 - val_loss: 0.0103 - val_mean_squared_error: 0.0103 - val_mean_absolute_error: 0.0804\n",
            "Epoch 22/50\n",
            "16/16 [==============================] - 0s 18ms/step - loss: 0.0013 - mean_squared_error: 0.0013 - mean_absolute_error: 0.0213 - val_loss: 0.0102 - val_mean_squared_error: 0.0102 - val_mean_absolute_error: 0.0761\n",
            "Epoch 23/50\n",
            "16/16 [==============================] - 0s 16ms/step - loss: 8.6400e-04 - mean_squared_error: 8.6400e-04 - mean_absolute_error: 0.0181 - val_loss: 0.0106 - val_mean_squared_error: 0.0106 - val_mean_absolute_error: 0.0853\n",
            "Epoch 24/50\n",
            "16/16 [==============================] - 0s 20ms/step - loss: 0.0012 - mean_squared_error: 0.0012 - mean_absolute_error: 0.0210 - val_loss: 0.0103 - val_mean_squared_error: 0.0103 - val_mean_absolute_error: 0.0716\n",
            "Epoch 25/50\n",
            "16/16 [==============================] - 0s 17ms/step - loss: 6.8403e-04 - mean_squared_error: 6.8403e-04 - mean_absolute_error: 0.0143 - val_loss: 0.0093 - val_mean_squared_error: 0.0093 - val_mean_absolute_error: 0.0764\n",
            "Epoch 26/50\n",
            "16/16 [==============================] - 0s 18ms/step - loss: 9.7949e-04 - mean_squared_error: 9.7949e-04 - mean_absolute_error: 0.0191 - val_loss: 0.0088 - val_mean_squared_error: 0.0088 - val_mean_absolute_error: 0.0731\n",
            "Epoch 27/50\n",
            "16/16 [==============================] - 0s 18ms/step - loss: 0.0010 - mean_squared_error: 0.0010 - mean_absolute_error: 0.0199 - val_loss: 0.0088 - val_mean_squared_error: 0.0088 - val_mean_absolute_error: 0.0667\n",
            "Epoch 28/50\n",
            "16/16 [==============================] - 0s 16ms/step - loss: 7.5304e-04 - mean_squared_error: 7.5304e-04 - mean_absolute_error: 0.0160 - val_loss: 0.0082 - val_mean_squared_error: 0.0082 - val_mean_absolute_error: 0.0649\n",
            "Epoch 29/50\n",
            "16/16 [==============================] - 0s 16ms/step - loss: 7.0288e-04 - mean_squared_error: 7.0288e-04 - mean_absolute_error: 0.0159 - val_loss: 0.0109 - val_mean_squared_error: 0.0109 - val_mean_absolute_error: 0.0878\n",
            "Epoch 30/50\n",
            "16/16 [==============================] - 0s 17ms/step - loss: 0.0016 - mean_squared_error: 0.0016 - mean_absolute_error: 0.0245 - val_loss: 0.0086 - val_mean_squared_error: 0.0086 - val_mean_absolute_error: 0.0644\n",
            "Epoch 31/50\n",
            "16/16 [==============================] - 0s 16ms/step - loss: 6.7053e-04 - mean_squared_error: 6.7053e-04 - mean_absolute_error: 0.0144 - val_loss: 0.0845 - val_mean_squared_error: 0.0845 - val_mean_absolute_error: 0.2768\n",
            "Epoch 32/50\n",
            "16/16 [==============================] - 0s 20ms/step - loss: 0.0060 - mean_squared_error: 0.0060 - mean_absolute_error: 0.0420 - val_loss: 0.0082 - val_mean_squared_error: 0.0082 - val_mean_absolute_error: 0.0709\n",
            "Epoch 33/50\n",
            "16/16 [==============================] - 0s 18ms/step - loss: 6.2582e-04 - mean_squared_error: 6.2582e-04 - mean_absolute_error: 0.0153 - val_loss: 0.0167 - val_mean_squared_error: 0.0167 - val_mean_absolute_error: 0.1045\n",
            "Epoch 34/50\n",
            "16/16 [==============================] - 0s 18ms/step - loss: 9.0817e-04 - mean_squared_error: 9.0817e-04 - mean_absolute_error: 0.0182 - val_loss: 0.0234 - val_mean_squared_error: 0.0234 - val_mean_absolute_error: 0.1327\n",
            "Epoch 35/50\n",
            "16/16 [==============================] - 0s 18ms/step - loss: 0.0012 - mean_squared_error: 0.0012 - mean_absolute_error: 0.0204 - val_loss: 0.0068 - val_mean_squared_error: 0.0068 - val_mean_absolute_error: 0.0567\n",
            "Epoch 36/50\n",
            "16/16 [==============================] - 0s 21ms/step - loss: 5.6584e-04 - mean_squared_error: 5.6584e-04 - mean_absolute_error: 0.0140 - val_loss: 0.0075 - val_mean_squared_error: 0.0075 - val_mean_absolute_error: 0.0606\n",
            "Epoch 37/50\n",
            "16/16 [==============================] - 0s 19ms/step - loss: 4.0566e-04 - mean_squared_error: 4.0566e-04 - mean_absolute_error: 0.0118 - val_loss: 0.0168 - val_mean_squared_error: 0.0168 - val_mean_absolute_error: 0.1084\n",
            "Epoch 38/50\n",
            "16/16 [==============================] - 0s 17ms/step - loss: 0.0014 - mean_squared_error: 0.0014 - mean_absolute_error: 0.0230 - val_loss: 0.0059 - val_mean_squared_error: 0.0059 - val_mean_absolute_error: 0.0527\n",
            "Epoch 39/50\n",
            "16/16 [==============================] - 0s 18ms/step - loss: 4.7902e-04 - mean_squared_error: 4.7902e-04 - mean_absolute_error: 0.0129 - val_loss: 0.0096 - val_mean_squared_error: 0.0096 - val_mean_absolute_error: 0.0744\n",
            "Epoch 40/50\n",
            "16/16 [==============================] - 0s 20ms/step - loss: 7.1347e-04 - mean_squared_error: 7.1347e-04 - mean_absolute_error: 0.0164 - val_loss: 0.0082 - val_mean_squared_error: 0.0082 - val_mean_absolute_error: 0.0670\n",
            "Epoch 41/50\n",
            "16/16 [==============================] - 0s 16ms/step - loss: 4.9331e-04 - mean_squared_error: 4.9331e-04 - mean_absolute_error: 0.0141 - val_loss: 0.0182 - val_mean_squared_error: 0.0182 - val_mean_absolute_error: 0.1155\n",
            "Epoch 42/50\n",
            "16/16 [==============================] - 0s 18ms/step - loss: 0.0011 - mean_squared_error: 0.0011 - mean_absolute_error: 0.0213 - val_loss: 0.0053 - val_mean_squared_error: 0.0053 - val_mean_absolute_error: 0.0503\n",
            "Epoch 43/50\n",
            "16/16 [==============================] - 0s 19ms/step - loss: 5.9448e-04 - mean_squared_error: 5.9448e-04 - mean_absolute_error: 0.0141 - val_loss: 0.0086 - val_mean_squared_error: 0.0086 - val_mean_absolute_error: 0.0691\n",
            "Epoch 44/50\n",
            "16/16 [==============================] - 0s 16ms/step - loss: 5.3217e-04 - mean_squared_error: 5.3217e-04 - mean_absolute_error: 0.0140 - val_loss: 0.0051 - val_mean_squared_error: 0.0051 - val_mean_absolute_error: 0.0487\n",
            "Epoch 45/50\n",
            "16/16 [==============================] - 0s 17ms/step - loss: 3.0986e-04 - mean_squared_error: 3.0986e-04 - mean_absolute_error: 0.0106 - val_loss: 0.0048 - val_mean_squared_error: 0.0048 - val_mean_absolute_error: 0.0480\n",
            "Epoch 46/50\n",
            "16/16 [==============================] - 0s 18ms/step - loss: 5.2182e-04 - mean_squared_error: 5.2182e-04 - mean_absolute_error: 0.0117 - val_loss: 0.0054 - val_mean_squared_error: 0.0054 - val_mean_absolute_error: 0.0560\n",
            "Epoch 47/50\n",
            "16/16 [==============================] - 0s 19ms/step - loss: 4.9398e-04 - mean_squared_error: 4.9398e-04 - mean_absolute_error: 0.0135 - val_loss: 0.0069 - val_mean_squared_error: 0.0069 - val_mean_absolute_error: 0.0680\n",
            "Epoch 48/50\n",
            "16/16 [==============================] - 0s 17ms/step - loss: 6.1350e-04 - mean_squared_error: 6.1350e-04 - mean_absolute_error: 0.0143 - val_loss: 0.0049 - val_mean_squared_error: 0.0049 - val_mean_absolute_error: 0.0493\n",
            "Epoch 49/50\n",
            "16/16 [==============================] - 0s 17ms/step - loss: 3.6534e-04 - mean_squared_error: 3.6534e-04 - mean_absolute_error: 0.0112 - val_loss: 0.0059 - val_mean_squared_error: 0.0059 - val_mean_absolute_error: 0.0540\n",
            "Epoch 50/50\n",
            "16/16 [==============================] - 0s 19ms/step - loss: 3.2999e-04 - mean_squared_error: 3.2999e-04 - mean_absolute_error: 0.0104 - val_loss: 0.0046 - val_mean_squared_error: 0.0046 - val_mean_absolute_error: 0.0499\n"
          ],
          "name": "stdout"
        },
        {
          "output_type": "display_data",
          "data": {
            "text/html": [
              "<br/>Waiting for W&B process to finish, PID 7718<br/>Program ended successfully."
            ],
            "text/plain": [
              "<IPython.core.display.HTML object>"
            ]
          },
          "metadata": {
            "tags": []
          }
        },
        {
          "output_type": "display_data",
          "data": {
            "application/vnd.jupyter.widget-view+json": {
              "model_id": "514e6bc466134d5c9e133c13cfc5c31d",
              "version_minor": 0,
              "version_major": 2
            },
            "text/plain": [
              "VBox(children=(Label(value=' 1.51MB of 1.51MB uploaded (0.00MB deduped)\\r'), FloatProgress(value=1.0, max=1.0)…"
            ]
          },
          "metadata": {
            "tags": []
          }
        },
        {
          "output_type": "display_data",
          "data": {
            "text/html": [
              "Find user logs for this run at: <code>/content/feeder_repo/wandb/run-20210723_162828-9gqk6r4s/logs/debug.log</code>"
            ],
            "text/plain": [
              "<IPython.core.display.HTML object>"
            ]
          },
          "metadata": {
            "tags": []
          }
        },
        {
          "output_type": "display_data",
          "data": {
            "text/html": [
              "Find internal logs for this run at: <code>/content/feeder_repo/wandb/run-20210723_162828-9gqk6r4s/logs/debug-internal.log</code>"
            ],
            "text/plain": [
              "<IPython.core.display.HTML object>"
            ]
          },
          "metadata": {
            "tags": []
          }
        },
        {
          "output_type": "display_data",
          "data": {
            "text/html": [
              "<h3>Run summary:</h3><br/><style>\n",
              "    table.wandb td:nth-child(1) { padding: 0 10px; text-align: right }\n",
              "    </style><table class=\"wandb\">\n",
              "<tr><td>epoch</td><td>49</td></tr><tr><td>loss</td><td>0.0003</td></tr><tr><td>mean_squared_error</td><td>0.0003</td></tr><tr><td>mean_absolute_error</td><td>0.00988</td></tr><tr><td>val_loss</td><td>0.00463</td></tr><tr><td>val_mean_squared_error</td><td>0.00463</td></tr><tr><td>val_mean_absolute_error</td><td>0.04988</td></tr><tr><td>_runtime</td><td>24</td></tr><tr><td>_timestamp</td><td>1627057732</td></tr><tr><td>_step</td><td>49</td></tr><tr><td>best_val_loss</td><td>0.00463</td></tr><tr><td>best_epoch</td><td>49</td></tr></table>"
            ],
            "text/plain": [
              "<IPython.core.display.HTML object>"
            ]
          },
          "metadata": {
            "tags": []
          }
        },
        {
          "output_type": "display_data",
          "data": {
            "text/html": [
              "<h3>Run history:</h3><br/><style>\n",
              "    table.wandb td:nth-child(1) { padding: 0 10px; text-align: right }\n",
              "    </style><table class=\"wandb\">\n",
              "<tr><td>epoch</td><td>▁▁▁▁▂▂▂▂▂▃▃▃▃▃▃▄▄▄▄▄▅▅▅▅▅▅▆▆▆▆▆▆▇▇▇▇▇███</td></tr><tr><td>loss</td><td>█▁▁▁▁▁▁▁▁▁▁▁▁▁▁▁▁▁▁▁▁▁▁▁▁▁▁▁▁▁▁▁▁▁▁▁▁▁▁▁</td></tr><tr><td>mean_squared_error</td><td>█▁▁▁▁▁▁▁▁▁▁▁▁▁▁▁▁▁▁▁▁▁▁▁▁▁▁▁▁▁▁▁▁▁▁▁▁▁▁▁</td></tr><tr><td>mean_absolute_error</td><td>█▂▂▂▂▁▂▂▁▁▂▁▁▁▂▁▁▂▁▁▁▁▁▁▂▂▁▁▁▁▂▁▁▁▁▁▁▁▁▁</td></tr><tr><td>val_loss</td><td>▂▂▂▂▂▂█▂▂▃▂▂▂▂▂▁▁▁▁▁▁▁▁▁▆▁▂▂▁▂▁▁▂▁▁▁▁▁▁▁</td></tr><tr><td>val_mean_squared_error</td><td>▂▂▂▂▂▂█▂▂▃▂▂▂▂▂▁▁▁▁▁▁▁▁▁▆▁▂▂▁▂▁▁▂▁▁▁▁▁▁▁</td></tr><tr><td>val_mean_absolute_error</td><td>▃▃▃▃▂▂█▂▂▃▂▂▂▂▃▂▂▂▂▂▂▁▁▂▇▂▃▃▁▃▁▂▃▁▂▁▁▂▁▁</td></tr><tr><td>_runtime</td><td>▁▁▁▁▂▂▂▂▂▂▃▃▃▃▃▄▄▄▄▄▅▅▅▅▅▅▅▅▆▆▆▆▇▇▇▇▇███</td></tr><tr><td>_timestamp</td><td>▁▁▁▁▂▂▂▂▂▂▃▃▃▃▃▄▄▄▄▄▅▅▅▅▅▅▅▅▆▆▆▆▇▇▇▇▇███</td></tr><tr><td>_step</td><td>▁▁▁▁▂▂▂▂▂▃▃▃▃▃▃▄▄▄▄▄▅▅▅▅▅▅▆▆▆▆▆▆▇▇▇▇▇███</td></tr></table><br/>"
            ],
            "text/plain": [
              "<IPython.core.display.HTML object>"
            ]
          },
          "metadata": {
            "tags": []
          }
        },
        {
          "output_type": "display_data",
          "data": {
            "text/html": [
              "Synced 5 W&B file(s), 1 media file(s), 2 artifact file(s) and 2 other file(s)"
            ],
            "text/plain": [
              "<IPython.core.display.HTML object>"
            ]
          },
          "metadata": {
            "tags": []
          }
        },
        {
          "output_type": "display_data",
          "data": {
            "text/html": [
              "\n",
              "                    <br/>Synced <strong style=\"color:#cdcd00\">helpful-sweep-45</strong>: <a href=\"https://wandb.ai/acse-jaq15/ACSE_9_MLP_AE/runs/9gqk6r4s\" target=\"_blank\">https://wandb.ai/acse-jaq15/ACSE_9_MLP_AE/runs/9gqk6r4s</a><br/>\n",
              "                "
            ],
            "text/plain": [
              "<IPython.core.display.HTML object>"
            ]
          },
          "metadata": {
            "tags": []
          }
        },
        {
          "output_type": "stream",
          "text": [
            "\u001b[34m\u001b[1mwandb\u001b[0m: Agent Starting Run: rnv304os with config:\n",
            "\u001b[34m\u001b[1mwandb\u001b[0m: \tactivation: relu\n",
            "\u001b[34m\u001b[1mwandb\u001b[0m: \tbatch_size: 32\n",
            "\u001b[34m\u001b[1mwandb\u001b[0m: \tepochs: 50\n",
            "\u001b[34m\u001b[1mwandb\u001b[0m: \tlearning_rate: 0.005\n",
            "\u001b[34m\u001b[1mwandb\u001b[0m: \toptimizer: adam\n"
          ],
          "name": "stderr"
        },
        {
          "output_type": "display_data",
          "data": {
            "text/html": [
              "\n",
              "                Tracking run with wandb version 0.11.0<br/>\n",
              "                Syncing run <strong style=\"color:#cdcd00\">vivid-sweep-46</strong> to <a href=\"https://wandb.ai\" target=\"_blank\">Weights & Biases</a> <a href=\"https://docs.wandb.com/integrations/jupyter.html\" target=\"_blank\">(Documentation)</a>.<br/>\n",
              "                Project page: <a href=\"https://wandb.ai/acse-jaq15/ACSE_9_MLP_AE\" target=\"_blank\">https://wandb.ai/acse-jaq15/ACSE_9_MLP_AE</a><br/>\n",
              "                Sweep page: <a href=\"https://wandb.ai/acse-jaq15/ACSE_9_MLP_AE/sweeps/6wgndl46\" target=\"_blank\">https://wandb.ai/acse-jaq15/ACSE_9_MLP_AE/sweeps/6wgndl46</a><br/>\n",
              "Run page: <a href=\"https://wandb.ai/acse-jaq15/ACSE_9_MLP_AE/runs/rnv304os\" target=\"_blank\">https://wandb.ai/acse-jaq15/ACSE_9_MLP_AE/runs/rnv304os</a><br/>\n",
              "                Run data is saved locally in <code>/content/feeder_repo/wandb/run-20210723_162904-rnv304os</code><br/><br/>\n",
              "            "
            ],
            "text/plain": [
              "<IPython.core.display.HTML object>"
            ]
          },
          "metadata": {
            "tags": []
          }
        },
        {
          "output_type": "stream",
          "text": [
            "Epoch 1/50\n",
            "31/31 [==============================] - 3s 37ms/step - loss: 0.0828 - mean_squared_error: 0.0828 - mean_absolute_error: 0.1735 - val_loss: 0.0286 - val_mean_squared_error: 0.0286 - val_mean_absolute_error: 0.1255\n",
            "Epoch 2/50\n",
            "31/31 [==============================] - 0s 14ms/step - loss: 0.0031 - mean_squared_error: 0.0031 - mean_absolute_error: 0.0370 - val_loss: 0.0182 - val_mean_squared_error: 0.0182 - val_mean_absolute_error: 0.1011\n",
            "Epoch 3/50\n",
            "31/31 [==============================] - 0s 14ms/step - loss: 0.0016 - mean_squared_error: 0.0016 - mean_absolute_error: 0.0273 - val_loss: 0.0205 - val_mean_squared_error: 0.0205 - val_mean_absolute_error: 0.1034\n",
            "Epoch 4/50\n",
            "31/31 [==============================] - 0s 14ms/step - loss: 7.9166e-04 - mean_squared_error: 7.9166e-04 - mean_absolute_error: 0.0177 - val_loss: 0.0130 - val_mean_squared_error: 0.0130 - val_mean_absolute_error: 0.0845\n",
            "Epoch 5/50\n",
            "31/31 [==============================] - 0s 12ms/step - loss: 0.0012 - mean_squared_error: 0.0012 - mean_absolute_error: 0.0224 - val_loss: 0.0180 - val_mean_squared_error: 0.0180 - val_mean_absolute_error: 0.1036\n",
            "Epoch 6/50\n",
            "31/31 [==============================] - 0s 14ms/step - loss: 8.6093e-04 - mean_squared_error: 8.6093e-04 - mean_absolute_error: 0.0199 - val_loss: 0.0103 - val_mean_squared_error: 0.0103 - val_mean_absolute_error: 0.0723\n",
            "Epoch 7/50\n",
            "31/31 [==============================] - 0s 13ms/step - loss: 8.8340e-04 - mean_squared_error: 8.8340e-04 - mean_absolute_error: 0.0193 - val_loss: 0.0105 - val_mean_squared_error: 0.0105 - val_mean_absolute_error: 0.0764\n",
            "Epoch 8/50\n",
            "31/31 [==============================] - 0s 13ms/step - loss: 0.0024 - mean_squared_error: 0.0024 - mean_absolute_error: 0.0304 - val_loss: 0.0192 - val_mean_squared_error: 0.0192 - val_mean_absolute_error: 0.1099\n",
            "Epoch 9/50\n",
            "31/31 [==============================] - 0s 13ms/step - loss: 0.0011 - mean_squared_error: 0.0011 - mean_absolute_error: 0.0236 - val_loss: 0.0063 - val_mean_squared_error: 0.0063 - val_mean_absolute_error: 0.0566\n",
            "Epoch 10/50\n",
            "31/31 [==============================] - 0s 13ms/step - loss: 8.0651e-04 - mean_squared_error: 8.0651e-04 - mean_absolute_error: 0.0189 - val_loss: 0.0056 - val_mean_squared_error: 0.0056 - val_mean_absolute_error: 0.0543\n",
            "Epoch 11/50\n",
            "31/31 [==============================] - 0s 13ms/step - loss: 0.0012 - mean_squared_error: 0.0012 - mean_absolute_error: 0.0253 - val_loss: 0.0192 - val_mean_squared_error: 0.0192 - val_mean_absolute_error: 0.1215\n",
            "Epoch 12/50\n",
            "31/31 [==============================] - 0s 13ms/step - loss: 0.0020 - mean_squared_error: 0.0020 - mean_absolute_error: 0.0309 - val_loss: 0.0062 - val_mean_squared_error: 0.0062 - val_mean_absolute_error: 0.0560\n",
            "Epoch 13/50\n",
            "31/31 [==============================] - 0s 13ms/step - loss: 4.9268e-04 - mean_squared_error: 4.9268e-04 - mean_absolute_error: 0.0146 - val_loss: 0.0058 - val_mean_squared_error: 0.0058 - val_mean_absolute_error: 0.0556\n",
            "Epoch 14/50\n",
            "31/31 [==============================] - 0s 13ms/step - loss: 3.5006e-04 - mean_squared_error: 3.5006e-04 - mean_absolute_error: 0.0124 - val_loss: 0.0052 - val_mean_squared_error: 0.0052 - val_mean_absolute_error: 0.0536\n",
            "Epoch 15/50\n",
            "31/31 [==============================] - 0s 13ms/step - loss: 4.0501e-04 - mean_squared_error: 4.0501e-04 - mean_absolute_error: 0.0133 - val_loss: 0.0047 - val_mean_squared_error: 0.0047 - val_mean_absolute_error: 0.0500\n",
            "Epoch 16/50\n",
            "31/31 [==============================] - 0s 13ms/step - loss: 4.3442e-04 - mean_squared_error: 4.3442e-04 - mean_absolute_error: 0.0144 - val_loss: 0.0055 - val_mean_squared_error: 0.0055 - val_mean_absolute_error: 0.0531\n",
            "Epoch 17/50\n",
            "31/31 [==============================] - 0s 12ms/step - loss: 4.3335e-04 - mean_squared_error: 4.3335e-04 - mean_absolute_error: 0.0140 - val_loss: 0.0096 - val_mean_squared_error: 0.0096 - val_mean_absolute_error: 0.0791\n",
            "Epoch 18/50\n",
            "31/31 [==============================] - 0s 12ms/step - loss: 6.2929e-04 - mean_squared_error: 6.2929e-04 - mean_absolute_error: 0.0154 - val_loss: 0.0045 - val_mean_squared_error: 0.0045 - val_mean_absolute_error: 0.0507\n",
            "Epoch 19/50\n",
            "31/31 [==============================] - 0s 12ms/step - loss: 3.2469e-04 - mean_squared_error: 3.2469e-04 - mean_absolute_error: 0.0106 - val_loss: 0.0047 - val_mean_squared_error: 0.0047 - val_mean_absolute_error: 0.0534\n",
            "Epoch 20/50\n",
            "31/31 [==============================] - 0s 12ms/step - loss: 8.2586e-04 - mean_squared_error: 8.2586e-04 - mean_absolute_error: 0.0179 - val_loss: 0.0066 - val_mean_squared_error: 0.0066 - val_mean_absolute_error: 0.0587\n",
            "Epoch 21/50\n",
            "31/31 [==============================] - 0s 11ms/step - loss: 2.9653e-04 - mean_squared_error: 2.9653e-04 - mean_absolute_error: 0.0110 - val_loss: 0.0046 - val_mean_squared_error: 0.0046 - val_mean_absolute_error: 0.0482\n",
            "Epoch 22/50\n",
            "31/31 [==============================] - 0s 13ms/step - loss: 2.7429e-04 - mean_squared_error: 2.7429e-04 - mean_absolute_error: 0.0100 - val_loss: 0.0044 - val_mean_squared_error: 0.0044 - val_mean_absolute_error: 0.0475\n",
            "Epoch 23/50\n",
            "31/31 [==============================] - 0s 13ms/step - loss: 3.8011e-04 - mean_squared_error: 3.8011e-04 - mean_absolute_error: 0.0122 - val_loss: 0.0047 - val_mean_squared_error: 0.0047 - val_mean_absolute_error: 0.0486\n",
            "Epoch 24/50\n",
            "31/31 [==============================] - 0s 12ms/step - loss: 0.0015 - mean_squared_error: 0.0015 - mean_absolute_error: 0.0239 - val_loss: 0.0065 - val_mean_squared_error: 0.0065 - val_mean_absolute_error: 0.0603\n",
            "Epoch 25/50\n",
            "31/31 [==============================] - 0s 13ms/step - loss: 3.7609e-04 - mean_squared_error: 3.7609e-04 - mean_absolute_error: 0.0129 - val_loss: 0.0040 - val_mean_squared_error: 0.0040 - val_mean_absolute_error: 0.0462\n",
            "Epoch 26/50\n",
            "31/31 [==============================] - 0s 13ms/step - loss: 2.6456e-04 - mean_squared_error: 2.6456e-04 - mean_absolute_error: 0.0102 - val_loss: 0.0041 - val_mean_squared_error: 0.0041 - val_mean_absolute_error: 0.0468\n",
            "Epoch 27/50\n",
            "31/31 [==============================] - 0s 13ms/step - loss: 5.7567e-04 - mean_squared_error: 5.7567e-04 - mean_absolute_error: 0.0160 - val_loss: 0.0060 - val_mean_squared_error: 0.0060 - val_mean_absolute_error: 0.0628\n",
            "Epoch 28/50\n",
            "31/31 [==============================] - 0s 13ms/step - loss: 7.6061e-04 - mean_squared_error: 7.6061e-04 - mean_absolute_error: 0.0188 - val_loss: 0.0048 - val_mean_squared_error: 0.0048 - val_mean_absolute_error: 0.0489\n",
            "Epoch 29/50\n",
            "31/31 [==============================] - 0s 14ms/step - loss: 3.0204e-04 - mean_squared_error: 3.0204e-04 - mean_absolute_error: 0.0118 - val_loss: 0.0039 - val_mean_squared_error: 0.0039 - val_mean_absolute_error: 0.0462\n",
            "Epoch 30/50\n",
            "31/31 [==============================] - 0s 13ms/step - loss: 2.4674e-04 - mean_squared_error: 2.4674e-04 - mean_absolute_error: 0.0105 - val_loss: 0.0054 - val_mean_squared_error: 0.0054 - val_mean_absolute_error: 0.0549\n",
            "Epoch 31/50\n",
            "31/31 [==============================] - 0s 13ms/step - loss: 5.2874e-04 - mean_squared_error: 5.2874e-04 - mean_absolute_error: 0.0148 - val_loss: 0.0072 - val_mean_squared_error: 0.0072 - val_mean_absolute_error: 0.0722\n",
            "Epoch 32/50\n",
            "31/31 [==============================] - 0s 14ms/step - loss: 0.0029 - mean_squared_error: 0.0029 - mean_absolute_error: 0.0351 - val_loss: 0.0082 - val_mean_squared_error: 0.0082 - val_mean_absolute_error: 0.0708\n",
            "Epoch 33/50\n",
            "31/31 [==============================] - 0s 12ms/step - loss: 4.0774e-04 - mean_squared_error: 4.0774e-04 - mean_absolute_error: 0.0129 - val_loss: 0.0031 - val_mean_squared_error: 0.0031 - val_mean_absolute_error: 0.0396\n",
            "Epoch 34/50\n",
            "31/31 [==============================] - 0s 13ms/step - loss: 5.5768e-04 - mean_squared_error: 5.5768e-04 - mean_absolute_error: 0.0151 - val_loss: 0.0073 - val_mean_squared_error: 0.0073 - val_mean_absolute_error: 0.0693\n",
            "Epoch 35/50\n",
            "31/31 [==============================] - 0s 13ms/step - loss: 6.2390e-04 - mean_squared_error: 6.2390e-04 - mean_absolute_error: 0.0159 - val_loss: 0.0087 - val_mean_squared_error: 0.0087 - val_mean_absolute_error: 0.0772\n",
            "Epoch 36/50\n",
            "31/31 [==============================] - 0s 13ms/step - loss: 6.4152e-04 - mean_squared_error: 6.4152e-04 - mean_absolute_error: 0.0167 - val_loss: 0.0032 - val_mean_squared_error: 0.0032 - val_mean_absolute_error: 0.0408\n",
            "Epoch 37/50\n",
            "31/31 [==============================] - 0s 13ms/step - loss: 2.1427e-04 - mean_squared_error: 2.1427e-04 - mean_absolute_error: 0.0098 - val_loss: 0.0037 - val_mean_squared_error: 0.0037 - val_mean_absolute_error: 0.0437\n",
            "Epoch 38/50\n",
            "31/31 [==============================] - 0s 13ms/step - loss: 2.8336e-04 - mean_squared_error: 2.8336e-04 - mean_absolute_error: 0.0113 - val_loss: 0.0034 - val_mean_squared_error: 0.0034 - val_mean_absolute_error: 0.0416\n",
            "Epoch 39/50\n",
            "31/31 [==============================] - 0s 13ms/step - loss: 6.1401e-04 - mean_squared_error: 6.1401e-04 - mean_absolute_error: 0.0154 - val_loss: 0.0167 - val_mean_squared_error: 0.0167 - val_mean_absolute_error: 0.1163\n",
            "Epoch 40/50\n",
            "31/31 [==============================] - 0s 13ms/step - loss: 0.0039 - mean_squared_error: 0.0039 - mean_absolute_error: 0.0419 - val_loss: 0.0177 - val_mean_squared_error: 0.0177 - val_mean_absolute_error: 0.1167\n",
            "Epoch 41/50\n",
            "31/31 [==============================] - 0s 13ms/step - loss: 0.0032 - mean_squared_error: 0.0032 - mean_absolute_error: 0.0391 - val_loss: 0.0035 - val_mean_squared_error: 0.0035 - val_mean_absolute_error: 0.0398\n",
            "Epoch 42/50\n",
            "31/31 [==============================] - 0s 13ms/step - loss: 5.1682e-04 - mean_squared_error: 5.1682e-04 - mean_absolute_error: 0.0176 - val_loss: 0.0035 - val_mean_squared_error: 0.0035 - val_mean_absolute_error: 0.0407\n",
            "Epoch 43/50\n",
            "31/31 [==============================] - 0s 13ms/step - loss: 3.1985e-04 - mean_squared_error: 3.1985e-04 - mean_absolute_error: 0.0118 - val_loss: 0.0037 - val_mean_squared_error: 0.0037 - val_mean_absolute_error: 0.0421\n"
          ],
          "name": "stdout"
        },
        {
          "output_type": "display_data",
          "data": {
            "text/html": [
              "<br/>Waiting for W&B process to finish, PID 7923<br/>Program ended successfully."
            ],
            "text/plain": [
              "<IPython.core.display.HTML object>"
            ]
          },
          "metadata": {
            "tags": []
          }
        },
        {
          "output_type": "display_data",
          "data": {
            "application/vnd.jupyter.widget-view+json": {
              "model_id": "9de6a47529c74b5d8478c75430459857",
              "version_minor": 0,
              "version_major": 2
            },
            "text/plain": [
              "VBox(children=(Label(value=' 1.53MB of 1.53MB uploaded (0.00MB deduped)\\r'), FloatProgress(value=1.0, max=1.0)…"
            ]
          },
          "metadata": {
            "tags": []
          }
        },
        {
          "output_type": "display_data",
          "data": {
            "text/html": [
              "Find user logs for this run at: <code>/content/feeder_repo/wandb/run-20210723_162904-rnv304os/logs/debug.log</code>"
            ],
            "text/plain": [
              "<IPython.core.display.HTML object>"
            ]
          },
          "metadata": {
            "tags": []
          }
        },
        {
          "output_type": "display_data",
          "data": {
            "text/html": [
              "Find internal logs for this run at: <code>/content/feeder_repo/wandb/run-20210723_162904-rnv304os/logs/debug-internal.log</code>"
            ],
            "text/plain": [
              "<IPython.core.display.HTML object>"
            ]
          },
          "metadata": {
            "tags": []
          }
        },
        {
          "output_type": "display_data",
          "data": {
            "text/html": [
              "<h3>Run summary:</h3><br/><style>\n",
              "    table.wandb td:nth-child(1) { padding: 0 10px; text-align: right }\n",
              "    </style><table class=\"wandb\">\n",
              "<tr><td>epoch</td><td>42</td></tr><tr><td>loss</td><td>0.00028</td></tr><tr><td>mean_squared_error</td><td>0.00028</td></tr><tr><td>mean_absolute_error</td><td>0.01104</td></tr><tr><td>val_loss</td><td>0.00369</td></tr><tr><td>val_mean_squared_error</td><td>0.00369</td></tr><tr><td>val_mean_absolute_error</td><td>0.04214</td></tr><tr><td>_runtime</td><td>25</td></tr><tr><td>_timestamp</td><td>1627057769</td></tr><tr><td>_step</td><td>42</td></tr><tr><td>best_val_loss</td><td>0.00315</td></tr><tr><td>best_epoch</td><td>32</td></tr></table>"
            ],
            "text/plain": [
              "<IPython.core.display.HTML object>"
            ]
          },
          "metadata": {
            "tags": []
          }
        },
        {
          "output_type": "display_data",
          "data": {
            "text/html": [
              "<h3>Run history:</h3><br/><style>\n",
              "    table.wandb td:nth-child(1) { padding: 0 10px; text-align: right }\n",
              "    </style><table class=\"wandb\">\n",
              "<tr><td>epoch</td><td>▁▁▁▁▂▂▂▂▂▃▃▃▃▃▃▄▄▄▄▄▅▅▅▅▅▅▆▆▆▆▆▇▇▇▇▇▇▇██</td></tr><tr><td>loss</td><td>█▂▁▁▁▁▁▂▁▁▁▁▁▁▁▁▁▁▁▁▁▁▁▁▁▁▁▁▁▁▁▁▁▁▁▁▁▂▁▁</td></tr><tr><td>mean_squared_error</td><td>█▂▁▁▁▁▁▂▁▁▁▁▁▁▁▁▁▁▁▁▁▁▁▁▁▁▁▁▁▁▁▁▁▁▁▁▁▂▁▁</td></tr><tr><td>mean_absolute_error</td><td>█▃▂▂▂▂▂▃▂▂▂▂▁▁▁▁▁▁▂▁▁▁▂▁▁▂▁▁▂▃▁▁▂▁▁▁▂▃▃▁</td></tr><tr><td>val_loss</td><td>█▅▆▄▅▃▃▅▂▂▅▂▂▁▂▃▁▁▂▁▁▁▂▁▁▂▁▂▂▂▁▂▃▁▁▁▅▅▁▁</td></tr><tr><td>val_mean_squared_error</td><td>█▅▆▄▅▃▃▅▂▂▅▂▂▁▂▃▁▁▂▁▁▁▂▁▁▂▁▂▂▂▁▂▃▁▁▁▅▅▁▁</td></tr><tr><td>val_mean_absolute_error</td><td>█▆▆▅▆▄▄▇▂▂█▂▂▂▂▄▂▂▃▂▂▂▃▂▂▃▂▂▄▄▁▃▄▁▁▁▇▇▁▁</td></tr><tr><td>_runtime</td><td>▁▁▁▂▂▂▂▂▃▃▃▃▃▄▄▄▄▄▅▅▅▅▅▅▅▆▆▆▆▆▆▇▇▇▇▇████</td></tr><tr><td>_timestamp</td><td>▁▁▁▂▂▂▂▂▃▃▃▃▃▄▄▄▄▄▅▅▅▅▅▅▅▆▆▆▆▆▆▇▇▇▇▇████</td></tr><tr><td>_step</td><td>▁▁▁▁▂▂▂▂▂▃▃▃▃▃▃▄▄▄▄▄▅▅▅▅▅▅▆▆▆▆▆▇▇▇▇▇▇▇██</td></tr></table><br/>"
            ],
            "text/plain": [
              "<IPython.core.display.HTML object>"
            ]
          },
          "metadata": {
            "tags": []
          }
        },
        {
          "output_type": "display_data",
          "data": {
            "text/html": [
              "Synced 5 W&B file(s), 1 media file(s), 2 artifact file(s) and 2 other file(s)"
            ],
            "text/plain": [
              "<IPython.core.display.HTML object>"
            ]
          },
          "metadata": {
            "tags": []
          }
        },
        {
          "output_type": "display_data",
          "data": {
            "text/html": [
              "\n",
              "                    <br/>Synced <strong style=\"color:#cdcd00\">vivid-sweep-46</strong>: <a href=\"https://wandb.ai/acse-jaq15/ACSE_9_MLP_AE/runs/rnv304os\" target=\"_blank\">https://wandb.ai/acse-jaq15/ACSE_9_MLP_AE/runs/rnv304os</a><br/>\n",
              "                "
            ],
            "text/plain": [
              "<IPython.core.display.HTML object>"
            ]
          },
          "metadata": {
            "tags": []
          }
        },
        {
          "output_type": "stream",
          "text": [
            "\u001b[34m\u001b[1mwandb\u001b[0m: Agent Starting Run: h3xjte9d with config:\n",
            "\u001b[34m\u001b[1mwandb\u001b[0m: \tactivation: selu\n",
            "\u001b[34m\u001b[1mwandb\u001b[0m: \tbatch_size: 64\n",
            "\u001b[34m\u001b[1mwandb\u001b[0m: \tepochs: 100\n",
            "\u001b[34m\u001b[1mwandb\u001b[0m: \tlearning_rate: 0.005\n",
            "\u001b[34m\u001b[1mwandb\u001b[0m: \toptimizer: sgd\n"
          ],
          "name": "stderr"
        },
        {
          "output_type": "display_data",
          "data": {
            "text/html": [
              "\n",
              "                Tracking run with wandb version 0.11.0<br/>\n",
              "                Syncing run <strong style=\"color:#cdcd00\">sandy-sweep-47</strong> to <a href=\"https://wandb.ai\" target=\"_blank\">Weights & Biases</a> <a href=\"https://docs.wandb.com/integrations/jupyter.html\" target=\"_blank\">(Documentation)</a>.<br/>\n",
              "                Project page: <a href=\"https://wandb.ai/acse-jaq15/ACSE_9_MLP_AE\" target=\"_blank\">https://wandb.ai/acse-jaq15/ACSE_9_MLP_AE</a><br/>\n",
              "                Sweep page: <a href=\"https://wandb.ai/acse-jaq15/ACSE_9_MLP_AE/sweeps/6wgndl46\" target=\"_blank\">https://wandb.ai/acse-jaq15/ACSE_9_MLP_AE/sweeps/6wgndl46</a><br/>\n",
              "Run page: <a href=\"https://wandb.ai/acse-jaq15/ACSE_9_MLP_AE/runs/h3xjte9d\" target=\"_blank\">https://wandb.ai/acse-jaq15/ACSE_9_MLP_AE/runs/h3xjte9d</a><br/>\n",
              "                Run data is saved locally in <code>/content/feeder_repo/wandb/run-20210723_162957-h3xjte9d</code><br/><br/>\n",
              "            "
            ],
            "text/plain": [
              "<IPython.core.display.HTML object>"
            ]
          },
          "metadata": {
            "tags": []
          }
        },
        {
          "output_type": "stream",
          "text": [
            "Epoch 1/100\n",
            "16/16 [==============================] - 3s 56ms/step - loss: nan - mean_squared_error: nan - mean_absolute_error: nan - val_loss: nan - val_mean_squared_error: nan - val_mean_absolute_error: nan\n",
            "Epoch 2/100\n",
            "16/16 [==============================] - 0s 13ms/step - loss: nan - mean_squared_error: nan - mean_absolute_error: nan - val_loss: nan - val_mean_squared_error: nan - val_mean_absolute_error: nan\n",
            "Epoch 3/100\n",
            "16/16 [==============================] - 0s 11ms/step - loss: nan - mean_squared_error: nan - mean_absolute_error: nan - val_loss: nan - val_mean_squared_error: nan - val_mean_absolute_error: nan\n",
            "Epoch 4/100\n",
            "16/16 [==============================] - 0s 11ms/step - loss: nan - mean_squared_error: nan - mean_absolute_error: nan - val_loss: nan - val_mean_squared_error: nan - val_mean_absolute_error: nan\n",
            "Epoch 5/100\n",
            "16/16 [==============================] - 0s 12ms/step - loss: nan - mean_squared_error: nan - mean_absolute_error: nan - val_loss: nan - val_mean_squared_error: nan - val_mean_absolute_error: nan\n",
            "Epoch 6/100\n",
            "16/16 [==============================] - 0s 12ms/step - loss: nan - mean_squared_error: nan - mean_absolute_error: nan - val_loss: nan - val_mean_squared_error: nan - val_mean_absolute_error: nan\n",
            "Epoch 7/100\n",
            "16/16 [==============================] - 0s 13ms/step - loss: nan - mean_squared_error: nan - mean_absolute_error: nan - val_loss: nan - val_mean_squared_error: nan - val_mean_absolute_error: nan\n",
            "Epoch 8/100\n",
            "16/16 [==============================] - 0s 12ms/step - loss: nan - mean_squared_error: nan - mean_absolute_error: nan - val_loss: nan - val_mean_squared_error: nan - val_mean_absolute_error: nan\n",
            "Epoch 9/100\n",
            "16/16 [==============================] - 0s 12ms/step - loss: nan - mean_squared_error: nan - mean_absolute_error: nan - val_loss: nan - val_mean_squared_error: nan - val_mean_absolute_error: nan\n",
            "Epoch 10/100\n",
            "16/16 [==============================] - 0s 12ms/step - loss: nan - mean_squared_error: nan - mean_absolute_error: nan - val_loss: nan - val_mean_squared_error: nan - val_mean_absolute_error: nan\n"
          ],
          "name": "stdout"
        },
        {
          "output_type": "display_data",
          "data": {
            "text/html": [
              "<br/>Waiting for W&B process to finish, PID 8107<br/>Program ended successfully."
            ],
            "text/plain": [
              "<IPython.core.display.HTML object>"
            ]
          },
          "metadata": {
            "tags": []
          }
        },
        {
          "output_type": "display_data",
          "data": {
            "application/vnd.jupyter.widget-view+json": {
              "model_id": "37abd89a9cbc4563b0db60b76e9440fe",
              "version_minor": 0,
              "version_major": 2
            },
            "text/plain": [
              "VBox(children=(Label(value=' 0.46MB of 0.46MB uploaded (0.00MB deduped)\\r'), FloatProgress(value=1.0, max=1.0)…"
            ]
          },
          "metadata": {
            "tags": []
          }
        },
        {
          "output_type": "display_data",
          "data": {
            "text/html": [
              "Find user logs for this run at: <code>/content/feeder_repo/wandb/run-20210723_162957-h3xjte9d/logs/debug.log</code>"
            ],
            "text/plain": [
              "<IPython.core.display.HTML object>"
            ]
          },
          "metadata": {
            "tags": []
          }
        },
        {
          "output_type": "display_data",
          "data": {
            "text/html": [
              "Find internal logs for this run at: <code>/content/feeder_repo/wandb/run-20210723_162957-h3xjte9d/logs/debug-internal.log</code>"
            ],
            "text/plain": [
              "<IPython.core.display.HTML object>"
            ]
          },
          "metadata": {
            "tags": []
          }
        },
        {
          "output_type": "display_data",
          "data": {
            "text/html": [
              "<h3>Run summary:</h3><br/><style>\n",
              "    table.wandb td:nth-child(1) { padding: 0 10px; text-align: right }\n",
              "    </style><table class=\"wandb\">\n",
              "<tr><td>epoch</td><td>9</td></tr><tr><td>loss</td><td>nan</td></tr><tr><td>mean_squared_error</td><td>nan</td></tr><tr><td>mean_absolute_error</td><td>nan</td></tr><tr><td>val_loss</td><td>nan</td></tr><tr><td>val_mean_squared_error</td><td>nan</td></tr><tr><td>val_mean_absolute_error</td><td>nan</td></tr><tr><td>_runtime</td><td>9</td></tr><tr><td>_timestamp</td><td>1627057806</td></tr><tr><td>_step</td><td>9</td></tr></table>"
            ],
            "text/plain": [
              "<IPython.core.display.HTML object>"
            ]
          },
          "metadata": {
            "tags": []
          }
        },
        {
          "output_type": "display_data",
          "data": {
            "text/html": [
              "<h3>Run history:</h3><br/><style>\n",
              "    table.wandb td:nth-child(1) { padding: 0 10px; text-align: right }\n",
              "    </style><table class=\"wandb\">\n",
              "<tr><td>epoch</td><td>▁▂▃▃▄▅▆▆▇█</td></tr><tr><td>loss</td><td></td></tr><tr><td>mean_squared_error</td><td></td></tr><tr><td>mean_absolute_error</td><td></td></tr><tr><td>val_loss</td><td></td></tr><tr><td>val_mean_squared_error</td><td></td></tr><tr><td>val_mean_absolute_error</td><td></td></tr><tr><td>_runtime</td><td>▁▁▁▅▅▅▅███</td></tr><tr><td>_timestamp</td><td>▁▁▁▅▅▅▅███</td></tr><tr><td>_step</td><td>▁▂▃▃▄▅▆▆▇█</td></tr></table><br/>"
            ],
            "text/plain": [
              "<IPython.core.display.HTML object>"
            ]
          },
          "metadata": {
            "tags": []
          }
        },
        {
          "output_type": "display_data",
          "data": {
            "text/html": [
              "Synced 5 W&B file(s), 1 media file(s), 2 artifact file(s) and 1 other file(s)"
            ],
            "text/plain": [
              "<IPython.core.display.HTML object>"
            ]
          },
          "metadata": {
            "tags": []
          }
        },
        {
          "output_type": "display_data",
          "data": {
            "text/html": [
              "\n",
              "                    <br/>Synced <strong style=\"color:#cdcd00\">sandy-sweep-47</strong>: <a href=\"https://wandb.ai/acse-jaq15/ACSE_9_MLP_AE/runs/h3xjte9d\" target=\"_blank\">https://wandb.ai/acse-jaq15/ACSE_9_MLP_AE/runs/h3xjte9d</a><br/>\n",
              "                "
            ],
            "text/plain": [
              "<IPython.core.display.HTML object>"
            ]
          },
          "metadata": {
            "tags": []
          }
        },
        {
          "output_type": "stream",
          "text": [
            "\u001b[34m\u001b[1mwandb\u001b[0m: Agent Starting Run: egoxmsmb with config:\n",
            "\u001b[34m\u001b[1mwandb\u001b[0m: \tactivation: selu\n",
            "\u001b[34m\u001b[1mwandb\u001b[0m: \tbatch_size: 32\n",
            "\u001b[34m\u001b[1mwandb\u001b[0m: \tepochs: 50\n",
            "\u001b[34m\u001b[1mwandb\u001b[0m: \tlearning_rate: 0.001\n",
            "\u001b[34m\u001b[1mwandb\u001b[0m: \toptimizer: sgd\n"
          ],
          "name": "stderr"
        },
        {
          "output_type": "display_data",
          "data": {
            "text/html": [
              "\n",
              "                Tracking run with wandb version 0.11.0<br/>\n",
              "                Syncing run <strong style=\"color:#cdcd00\">lunar-sweep-48</strong> to <a href=\"https://wandb.ai\" target=\"_blank\">Weights & Biases</a> <a href=\"https://docs.wandb.com/integrations/jupyter.html\" target=\"_blank\">(Documentation)</a>.<br/>\n",
              "                Project page: <a href=\"https://wandb.ai/acse-jaq15/ACSE_9_MLP_AE\" target=\"_blank\">https://wandb.ai/acse-jaq15/ACSE_9_MLP_AE</a><br/>\n",
              "                Sweep page: <a href=\"https://wandb.ai/acse-jaq15/ACSE_9_MLP_AE/sweeps/6wgndl46\" target=\"_blank\">https://wandb.ai/acse-jaq15/ACSE_9_MLP_AE/sweeps/6wgndl46</a><br/>\n",
              "Run page: <a href=\"https://wandb.ai/acse-jaq15/ACSE_9_MLP_AE/runs/egoxmsmb\" target=\"_blank\">https://wandb.ai/acse-jaq15/ACSE_9_MLP_AE/runs/egoxmsmb</a><br/>\n",
              "                Run data is saved locally in <code>/content/feeder_repo/wandb/run-20210723_163014-egoxmsmb</code><br/><br/>\n",
              "            "
            ],
            "text/plain": [
              "<IPython.core.display.HTML object>"
            ]
          },
          "metadata": {
            "tags": []
          }
        },
        {
          "output_type": "stream",
          "text": [
            "Epoch 1/50\n",
            "31/31 [==============================] - 3s 35ms/step - loss: 0.0413 - mean_squared_error: 0.0413 - mean_absolute_error: 0.1038 - val_loss: 0.0112 - val_mean_squared_error: 0.0112 - val_mean_absolute_error: 0.0772\n",
            "Epoch 2/50\n",
            "31/31 [==============================] - 0s 13ms/step - loss: 5.6244e-04 - mean_squared_error: 5.6244e-04 - mean_absolute_error: 0.0148 - val_loss: 0.0082 - val_mean_squared_error: 0.0082 - val_mean_absolute_error: 0.0654\n",
            "Epoch 3/50\n",
            "31/31 [==============================] - 0s 12ms/step - loss: 4.7933e-04 - mean_squared_error: 4.7933e-04 - mean_absolute_error: 0.0137 - val_loss: 0.0057 - val_mean_squared_error: 0.0057 - val_mean_absolute_error: 0.0553\n",
            "Epoch 4/50\n",
            "31/31 [==============================] - 0s 11ms/step - loss: 5.8234e-04 - mean_squared_error: 5.8234e-04 - mean_absolute_error: 0.0162 - val_loss: 0.0053 - val_mean_squared_error: 0.0053 - val_mean_absolute_error: 0.0530\n",
            "Epoch 5/50\n",
            "31/31 [==============================] - 0s 11ms/step - loss: 3.7109e-04 - mean_squared_error: 3.7109e-04 - mean_absolute_error: 0.0119 - val_loss: 0.0053 - val_mean_squared_error: 0.0053 - val_mean_absolute_error: 0.0528\n",
            "Epoch 6/50\n",
            "31/31 [==============================] - 0s 10ms/step - loss: 3.2257e-04 - mean_squared_error: 3.2257e-04 - mean_absolute_error: 0.0110 - val_loss: 0.0056 - val_mean_squared_error: 0.0056 - val_mean_absolute_error: 0.0542\n",
            "Epoch 7/50\n",
            "31/31 [==============================] - 0s 11ms/step - loss: 3.3178e-04 - mean_squared_error: 3.3178e-04 - mean_absolute_error: 0.0115 - val_loss: 0.0048 - val_mean_squared_error: 0.0048 - val_mean_absolute_error: 0.0500\n",
            "Epoch 8/50\n",
            "31/31 [==============================] - 0s 10ms/step - loss: 3.5376e-04 - mean_squared_error: 3.5376e-04 - mean_absolute_error: 0.0116 - val_loss: 0.0047 - val_mean_squared_error: 0.0047 - val_mean_absolute_error: 0.0494\n",
            "Epoch 9/50\n",
            "31/31 [==============================] - 0s 11ms/step - loss: 3.0183e-04 - mean_squared_error: 3.0183e-04 - mean_absolute_error: 0.0108 - val_loss: 0.0055 - val_mean_squared_error: 0.0055 - val_mean_absolute_error: 0.0547\n",
            "Epoch 10/50\n",
            "31/31 [==============================] - 0s 12ms/step - loss: 3.4971e-04 - mean_squared_error: 3.4971e-04 - mean_absolute_error: 0.0119 - val_loss: 0.0042 - val_mean_squared_error: 0.0042 - val_mean_absolute_error: 0.0505\n",
            "Epoch 11/50\n",
            "31/31 [==============================] - 0s 11ms/step - loss: 3.2734e-04 - mean_squared_error: 3.2734e-04 - mean_absolute_error: 0.0119 - val_loss: 0.0041 - val_mean_squared_error: 0.0041 - val_mean_absolute_error: 0.0467\n",
            "Epoch 12/50\n",
            "31/31 [==============================] - 0s 11ms/step - loss: 2.5988e-04 - mean_squared_error: 2.5988e-04 - mean_absolute_error: 0.0098 - val_loss: 0.0039 - val_mean_squared_error: 0.0039 - val_mean_absolute_error: 0.0458\n",
            "Epoch 13/50\n",
            "31/31 [==============================] - 0s 13ms/step - loss: 3.1211e-04 - mean_squared_error: 3.1211e-04 - mean_absolute_error: 0.0105 - val_loss: 0.0038 - val_mean_squared_error: 0.0038 - val_mean_absolute_error: 0.0457\n",
            "Epoch 14/50\n",
            "31/31 [==============================] - 0s 11ms/step - loss: 3.0266e-04 - mean_squared_error: 3.0266e-04 - mean_absolute_error: 0.0108 - val_loss: 0.0039 - val_mean_squared_error: 0.0039 - val_mean_absolute_error: 0.0452\n",
            "Epoch 15/50\n",
            "31/31 [==============================] - 0s 11ms/step - loss: 2.6047e-04 - mean_squared_error: 2.6047e-04 - mean_absolute_error: 0.0103 - val_loss: 0.0041 - val_mean_squared_error: 0.0041 - val_mean_absolute_error: 0.0463\n",
            "Epoch 16/50\n",
            "31/31 [==============================] - 0s 12ms/step - loss: 2.5173e-04 - mean_squared_error: 2.5173e-04 - mean_absolute_error: 0.0100 - val_loss: 0.0037 - val_mean_squared_error: 0.0037 - val_mean_absolute_error: 0.0446\n",
            "Epoch 17/50\n",
            "31/31 [==============================] - 0s 11ms/step - loss: 2.5801e-04 - mean_squared_error: 2.5801e-04 - mean_absolute_error: 0.0100 - val_loss: 0.0043 - val_mean_squared_error: 0.0043 - val_mean_absolute_error: 0.0479\n",
            "Epoch 18/50\n",
            "31/31 [==============================] - 0s 11ms/step - loss: 2.7128e-04 - mean_squared_error: 2.7128e-04 - mean_absolute_error: 0.0100 - val_loss: 0.0039 - val_mean_squared_error: 0.0039 - val_mean_absolute_error: 0.0449\n",
            "Epoch 19/50\n",
            "31/31 [==============================] - 0s 12ms/step - loss: 2.4084e-04 - mean_squared_error: 2.4084e-04 - mean_absolute_error: 0.0094 - val_loss: 0.0047 - val_mean_squared_error: 0.0047 - val_mean_absolute_error: 0.0501\n",
            "Epoch 20/50\n",
            "31/31 [==============================] - 0s 11ms/step - loss: 2.1126e-04 - mean_squared_error: 2.1126e-04 - mean_absolute_error: 0.0091 - val_loss: 0.0040 - val_mean_squared_error: 0.0040 - val_mean_absolute_error: 0.0456\n",
            "Epoch 21/50\n",
            "31/31 [==============================] - 0s 11ms/step - loss: 2.4733e-04 - mean_squared_error: 2.4733e-04 - mean_absolute_error: 0.0098 - val_loss: 0.0039 - val_mean_squared_error: 0.0039 - val_mean_absolute_error: 0.0450\n",
            "Epoch 22/50\n",
            "31/31 [==============================] - 0s 11ms/step - loss: 2.2020e-04 - mean_squared_error: 2.2020e-04 - mean_absolute_error: 0.0087 - val_loss: 0.0035 - val_mean_squared_error: 0.0035 - val_mean_absolute_error: 0.0432\n",
            "Epoch 23/50\n",
            "31/31 [==============================] - 0s 10ms/step - loss: 2.1831e-04 - mean_squared_error: 2.1831e-04 - mean_absolute_error: 0.0087 - val_loss: 0.0036 - val_mean_squared_error: 0.0036 - val_mean_absolute_error: 0.0437\n",
            "Epoch 24/50\n",
            "31/31 [==============================] - 0s 12ms/step - loss: 2.2631e-04 - mean_squared_error: 2.2631e-04 - mean_absolute_error: 0.0091 - val_loss: 0.0034 - val_mean_squared_error: 0.0034 - val_mean_absolute_error: 0.0434\n",
            "Epoch 25/50\n",
            "31/31 [==============================] - 0s 11ms/step - loss: 2.1869e-04 - mean_squared_error: 2.1869e-04 - mean_absolute_error: 0.0093 - val_loss: 0.0034 - val_mean_squared_error: 0.0034 - val_mean_absolute_error: 0.0433\n",
            "Epoch 26/50\n",
            "31/31 [==============================] - 0s 12ms/step - loss: 2.4486e-04 - mean_squared_error: 2.4486e-04 - mean_absolute_error: 0.0098 - val_loss: 0.0035 - val_mean_squared_error: 0.0035 - val_mean_absolute_error: 0.0450\n",
            "Epoch 27/50\n",
            "31/31 [==============================] - 0s 11ms/step - loss: 2.2969e-04 - mean_squared_error: 2.2969e-04 - mean_absolute_error: 0.0093 - val_loss: 0.0036 - val_mean_squared_error: 0.0036 - val_mean_absolute_error: 0.0433\n",
            "Epoch 28/50\n",
            "31/31 [==============================] - 0s 12ms/step - loss: 1.9741e-04 - mean_squared_error: 1.9741e-04 - mean_absolute_error: 0.0084 - val_loss: 0.0034 - val_mean_squared_error: 0.0034 - val_mean_absolute_error: 0.0426\n",
            "Epoch 29/50\n",
            "31/31 [==============================] - 0s 13ms/step - loss: 2.3270e-04 - mean_squared_error: 2.3270e-04 - mean_absolute_error: 0.0092 - val_loss: 0.0036 - val_mean_squared_error: 0.0036 - val_mean_absolute_error: 0.0434\n",
            "Epoch 30/50\n",
            "31/31 [==============================] - 0s 12ms/step - loss: 2.2692e-04 - mean_squared_error: 2.2692e-04 - mean_absolute_error: 0.0089 - val_loss: 0.0034 - val_mean_squared_error: 0.0034 - val_mean_absolute_error: 0.0425\n",
            "Epoch 31/50\n",
            "31/31 [==============================] - 0s 11ms/step - loss: 1.9940e-04 - mean_squared_error: 1.9940e-04 - mean_absolute_error: 0.0085 - val_loss: 0.0036 - val_mean_squared_error: 0.0036 - val_mean_absolute_error: 0.0435\n",
            "Epoch 32/50\n",
            "31/31 [==============================] - 0s 13ms/step - loss: 2.2389e-04 - mean_squared_error: 2.2389e-04 - mean_absolute_error: 0.0090 - val_loss: 0.0033 - val_mean_squared_error: 0.0033 - val_mean_absolute_error: 0.0430\n",
            "Epoch 33/50\n",
            "31/31 [==============================] - 0s 11ms/step - loss: 2.8834e-04 - mean_squared_error: 2.8834e-04 - mean_absolute_error: 0.0105 - val_loss: 0.0036 - val_mean_squared_error: 0.0036 - val_mean_absolute_error: 0.0434\n",
            "Epoch 34/50\n",
            "31/31 [==============================] - 0s 12ms/step - loss: 1.9380e-04 - mean_squared_error: 1.9380e-04 - mean_absolute_error: 0.0087 - val_loss: 0.0042 - val_mean_squared_error: 0.0042 - val_mean_absolute_error: 0.0533\n",
            "Epoch 35/50\n",
            "31/31 [==============================] - 0s 11ms/step - loss: 4.3056e-04 - mean_squared_error: 4.3056e-04 - mean_absolute_error: 0.0124 - val_loss: 0.0032 - val_mean_squared_error: 0.0032 - val_mean_absolute_error: 0.0417\n",
            "Epoch 36/50\n",
            "31/31 [==============================] - 0s 11ms/step - loss: 1.9329e-04 - mean_squared_error: 1.9329e-04 - mean_absolute_error: 0.0084 - val_loss: 0.0033 - val_mean_squared_error: 0.0033 - val_mean_absolute_error: 0.0422\n",
            "Epoch 37/50\n",
            "31/31 [==============================] - 0s 11ms/step - loss: 1.8754e-04 - mean_squared_error: 1.8754e-04 - mean_absolute_error: 0.0081 - val_loss: 0.0033 - val_mean_squared_error: 0.0033 - val_mean_absolute_error: 0.0422\n",
            "Epoch 38/50\n",
            "31/31 [==============================] - 0s 11ms/step - loss: 2.0249e-04 - mean_squared_error: 2.0249e-04 - mean_absolute_error: 0.0086 - val_loss: 0.0033 - val_mean_squared_error: 0.0033 - val_mean_absolute_error: 0.0418\n",
            "Epoch 39/50\n",
            "31/31 [==============================] - 0s 13ms/step - loss: 2.0618e-04 - mean_squared_error: 2.0618e-04 - mean_absolute_error: 0.0088 - val_loss: 0.0035 - val_mean_squared_error: 0.0035 - val_mean_absolute_error: 0.0430\n",
            "Epoch 40/50\n",
            "31/31 [==============================] - 0s 11ms/step - loss: 2.2140e-04 - mean_squared_error: 2.2140e-04 - mean_absolute_error: 0.0088 - val_loss: 0.0036 - val_mean_squared_error: 0.0036 - val_mean_absolute_error: 0.0436\n",
            "Epoch 41/50\n",
            "31/31 [==============================] - 0s 11ms/step - loss: 1.9760e-04 - mean_squared_error: 1.9760e-04 - mean_absolute_error: 0.0083 - val_loss: 0.0036 - val_mean_squared_error: 0.0036 - val_mean_absolute_error: 0.0435\n",
            "Epoch 42/50\n",
            "31/31 [==============================] - 0s 12ms/step - loss: 1.9971e-04 - mean_squared_error: 1.9971e-04 - mean_absolute_error: 0.0084 - val_loss: 0.0042 - val_mean_squared_error: 0.0042 - val_mean_absolute_error: 0.0482\n",
            "Epoch 43/50\n",
            "31/31 [==============================] - 0s 12ms/step - loss: 2.2342e-04 - mean_squared_error: 2.2342e-04 - mean_absolute_error: 0.0091 - val_loss: 0.0039 - val_mean_squared_error: 0.0039 - val_mean_absolute_error: 0.0457\n",
            "Epoch 44/50\n",
            "31/31 [==============================] - 0s 10ms/step - loss: 2.1378e-04 - mean_squared_error: 2.1378e-04 - mean_absolute_error: 0.0089 - val_loss: 0.0034 - val_mean_squared_error: 0.0034 - val_mean_absolute_error: 0.0425\n",
            "Epoch 45/50\n",
            "31/31 [==============================] - 0s 11ms/step - loss: 2.4850e-04 - mean_squared_error: 2.4850e-04 - mean_absolute_error: 0.0095 - val_loss: 0.0032 - val_mean_squared_error: 0.0032 - val_mean_absolute_error: 0.0422\n",
            "Epoch 46/50\n",
            "31/31 [==============================] - 0s 11ms/step - loss: 2.1941e-04 - mean_squared_error: 2.1941e-04 - mean_absolute_error: 0.0088 - val_loss: 0.0039 - val_mean_squared_error: 0.0039 - val_mean_absolute_error: 0.0460\n",
            "Epoch 47/50\n",
            "31/31 [==============================] - 0s 12ms/step - loss: 2.1461e-04 - mean_squared_error: 2.1461e-04 - mean_absolute_error: 0.0090 - val_loss: 0.0033 - val_mean_squared_error: 0.0033 - val_mean_absolute_error: 0.0420\n",
            "Epoch 48/50\n",
            "31/31 [==============================] - 0s 11ms/step - loss: 1.7553e-04 - mean_squared_error: 1.7553e-04 - mean_absolute_error: 0.0081 - val_loss: 0.0031 - val_mean_squared_error: 0.0031 - val_mean_absolute_error: 0.0418\n",
            "Epoch 49/50\n",
            "31/31 [==============================] - 0s 11ms/step - loss: 2.3324e-04 - mean_squared_error: 2.3324e-04 - mean_absolute_error: 0.0090 - val_loss: 0.0032 - val_mean_squared_error: 0.0032 - val_mean_absolute_error: 0.0414\n",
            "Epoch 50/50\n",
            "31/31 [==============================] - 0s 12ms/step - loss: 1.8354e-04 - mean_squared_error: 1.8354e-04 - mean_absolute_error: 0.0082 - val_loss: 0.0034 - val_mean_squared_error: 0.0034 - val_mean_absolute_error: 0.0424\n"
          ],
          "name": "stdout"
        },
        {
          "output_type": "display_data",
          "data": {
            "text/html": [
              "<br/>Waiting for W&B process to finish, PID 8190<br/>Program ended successfully."
            ],
            "text/plain": [
              "<IPython.core.display.HTML object>"
            ]
          },
          "metadata": {
            "tags": []
          }
        },
        {
          "output_type": "display_data",
          "data": {
            "application/vnd.jupyter.widget-view+json": {
              "model_id": "0369ff7ba8e34ac09654492a836afbd3",
              "version_minor": 0,
              "version_major": 2
            },
            "text/plain": [
              "VBox(children=(Label(value=' 1.22MB of 1.22MB uploaded (0.00MB deduped)\\r'), FloatProgress(value=1.0, max=1.0)…"
            ]
          },
          "metadata": {
            "tags": []
          }
        },
        {
          "output_type": "display_data",
          "data": {
            "text/html": [
              "Find user logs for this run at: <code>/content/feeder_repo/wandb/run-20210723_163014-egoxmsmb/logs/debug.log</code>"
            ],
            "text/plain": [
              "<IPython.core.display.HTML object>"
            ]
          },
          "metadata": {
            "tags": []
          }
        },
        {
          "output_type": "display_data",
          "data": {
            "text/html": [
              "Find internal logs for this run at: <code>/content/feeder_repo/wandb/run-20210723_163014-egoxmsmb/logs/debug-internal.log</code>"
            ],
            "text/plain": [
              "<IPython.core.display.HTML object>"
            ]
          },
          "metadata": {
            "tags": []
          }
        },
        {
          "output_type": "display_data",
          "data": {
            "text/html": [
              "<h3>Run summary:</h3><br/><style>\n",
              "    table.wandb td:nth-child(1) { padding: 0 10px; text-align: right }\n",
              "    </style><table class=\"wandb\">\n",
              "<tr><td>epoch</td><td>49</td></tr><tr><td>loss</td><td>0.0002</td></tr><tr><td>mean_squared_error</td><td>0.0002</td></tr><tr><td>mean_absolute_error</td><td>0.00853</td></tr><tr><td>val_loss</td><td>0.00342</td></tr><tr><td>val_mean_squared_error</td><td>0.00342</td></tr><tr><td>val_mean_absolute_error</td><td>0.04235</td></tr><tr><td>_runtime</td><td>26</td></tr><tr><td>_timestamp</td><td>1627057840</td></tr><tr><td>_step</td><td>49</td></tr><tr><td>best_val_loss</td><td>0.00314</td></tr><tr><td>best_epoch</td><td>47</td></tr></table>"
            ],
            "text/plain": [
              "<IPython.core.display.HTML object>"
            ]
          },
          "metadata": {
            "tags": []
          }
        },
        {
          "output_type": "display_data",
          "data": {
            "text/html": [
              "<h3>Run history:</h3><br/><style>\n",
              "    table.wandb td:nth-child(1) { padding: 0 10px; text-align: right }\n",
              "    </style><table class=\"wandb\">\n",
              "<tr><td>epoch</td><td>▁▁▁▁▂▂▂▂▂▃▃▃▃▃▃▄▄▄▄▄▅▅▅▅▅▅▆▆▆▆▆▆▇▇▇▇▇███</td></tr><tr><td>loss</td><td>█▁▁▁▁▁▁▁▁▁▁▁▁▁▁▁▁▁▁▁▁▁▁▁▁▁▁▁▁▁▁▁▁▁▁▁▁▁▁▁</td></tr><tr><td>mean_squared_error</td><td>█▁▁▁▁▁▁▁▁▁▁▁▁▁▁▁▁▁▁▁▁▁▁▁▁▁▁▁▁▁▁▁▁▁▁▁▁▁▁▁</td></tr><tr><td>mean_absolute_error</td><td>█▂▂▂▂▂▂▂▁▁▁▁▁▁▁▁▁▁▁▁▁▁▁▁▁▁▁▁▁▁▁▁▁▁▁▁▁▁▁▁</td></tr><tr><td>val_loss</td><td>█▅▃▃▃▂▂▃▂▂▂▂▁▂▂▂▂▁▁▁▁▁▁▁▁▁▁▂▁▁▁▁▁▂▂▁▂▁▁▁</td></tr><tr><td>val_mean_squared_error</td><td>█▅▃▃▃▂▂▃▂▂▂▂▁▂▂▂▂▁▁▁▁▁▁▁▁▁▁▂▁▁▁▁▁▂▂▁▂▁▁▁</td></tr><tr><td>val_mean_absolute_error</td><td>█▆▄▃▃▃▂▄▂▂▂▂▂▂▂▃▂▁▁▁▂▁▁▁▁▁▁▃▁▁▁▁▁▂▂▁▂▁▁▁</td></tr><tr><td>_runtime</td><td>▁▁▁▁▂▂▂▂▂▂▃▃▃▃▄▄▄▄▄▄▅▅▅▅▅▅▆▆▆▆▆▇▇▇▇▇▇███</td></tr><tr><td>_timestamp</td><td>▁▁▁▁▂▂▂▂▂▂▃▃▃▃▄▄▄▄▄▄▅▅▅▅▅▅▆▆▆▆▆▇▇▇▇▇▇███</td></tr><tr><td>_step</td><td>▁▁▁▁▂▂▂▂▂▃▃▃▃▃▃▄▄▄▄▄▅▅▅▅▅▅▆▆▆▆▆▆▇▇▇▇▇███</td></tr></table><br/>"
            ],
            "text/plain": [
              "<IPython.core.display.HTML object>"
            ]
          },
          "metadata": {
            "tags": []
          }
        },
        {
          "output_type": "display_data",
          "data": {
            "text/html": [
              "Synced 5 W&B file(s), 1 media file(s), 2 artifact file(s) and 2 other file(s)"
            ],
            "text/plain": [
              "<IPython.core.display.HTML object>"
            ]
          },
          "metadata": {
            "tags": []
          }
        },
        {
          "output_type": "display_data",
          "data": {
            "text/html": [
              "\n",
              "                    <br/>Synced <strong style=\"color:#cdcd00\">lunar-sweep-48</strong>: <a href=\"https://wandb.ai/acse-jaq15/ACSE_9_MLP_AE/runs/egoxmsmb\" target=\"_blank\">https://wandb.ai/acse-jaq15/ACSE_9_MLP_AE/runs/egoxmsmb</a><br/>\n",
              "                "
            ],
            "text/plain": [
              "<IPython.core.display.HTML object>"
            ]
          },
          "metadata": {
            "tags": []
          }
        },
        {
          "output_type": "stream",
          "text": [
            "\u001b[34m\u001b[1mwandb\u001b[0m: Agent Starting Run: xxl63s8n with config:\n",
            "\u001b[34m\u001b[1mwandb\u001b[0m: \tactivation: selu\n",
            "\u001b[34m\u001b[1mwandb\u001b[0m: \tbatch_size: 128\n",
            "\u001b[34m\u001b[1mwandb\u001b[0m: \tepochs: 50\n",
            "\u001b[34m\u001b[1mwandb\u001b[0m: \tlearning_rate: 0.0005\n",
            "\u001b[34m\u001b[1mwandb\u001b[0m: \toptimizer: rmsprop\n"
          ],
          "name": "stderr"
        },
        {
          "output_type": "display_data",
          "data": {
            "text/html": [
              "\n",
              "                Tracking run with wandb version 0.11.0<br/>\n",
              "                Syncing run <strong style=\"color:#cdcd00\">usual-sweep-49</strong> to <a href=\"https://wandb.ai\" target=\"_blank\">Weights & Biases</a> <a href=\"https://docs.wandb.com/integrations/jupyter.html\" target=\"_blank\">(Documentation)</a>.<br/>\n",
              "                Project page: <a href=\"https://wandb.ai/acse-jaq15/ACSE_9_MLP_AE\" target=\"_blank\">https://wandb.ai/acse-jaq15/ACSE_9_MLP_AE</a><br/>\n",
              "                Sweep page: <a href=\"https://wandb.ai/acse-jaq15/ACSE_9_MLP_AE/sweeps/6wgndl46\" target=\"_blank\">https://wandb.ai/acse-jaq15/ACSE_9_MLP_AE/sweeps/6wgndl46</a><br/>\n",
              "Run page: <a href=\"https://wandb.ai/acse-jaq15/ACSE_9_MLP_AE/runs/xxl63s8n\" target=\"_blank\">https://wandb.ai/acse-jaq15/ACSE_9_MLP_AE/runs/xxl63s8n</a><br/>\n",
              "                Run data is saved locally in <code>/content/feeder_repo/wandb/run-20210723_163051-xxl63s8n</code><br/><br/>\n",
              "            "
            ],
            "text/plain": [
              "<IPython.core.display.HTML object>"
            ]
          },
          "metadata": {
            "tags": []
          }
        },
        {
          "output_type": "stream",
          "text": [
            "Epoch 1/50\n",
            "8/8 [==============================] - 3s 115ms/step - loss: 4.3301 - mean_squared_error: 4.3301 - mean_absolute_error: 1.0484 - val_loss: 0.0149 - val_mean_squared_error: 0.0149 - val_mean_absolute_error: 0.0910\n",
            "Epoch 2/50\n",
            "8/8 [==============================] - 0s 14ms/step - loss: 0.0041 - mean_squared_error: 0.0041 - mean_absolute_error: 0.0537 - val_loss: 0.0249 - val_mean_squared_error: 0.0249 - val_mean_absolute_error: 0.1358\n",
            "Epoch 3/50\n",
            "8/8 [==============================] - 0s 16ms/step - loss: 0.0053 - mean_squared_error: 0.0053 - mean_absolute_error: 0.0485 - val_loss: 0.0200 - val_mean_squared_error: 0.0200 - val_mean_absolute_error: 0.1206\n",
            "Epoch 4/50\n",
            "8/8 [==============================] - 0s 16ms/step - loss: 0.0471 - mean_squared_error: 0.0471 - mean_absolute_error: 0.1434 - val_loss: 0.0210 - val_mean_squared_error: 0.0210 - val_mean_absolute_error: 0.1213\n",
            "Epoch 5/50\n",
            "8/8 [==============================] - 0s 15ms/step - loss: 0.0026 - mean_squared_error: 0.0026 - mean_absolute_error: 0.0329 - val_loss: 0.0166 - val_mean_squared_error: 0.0166 - val_mean_absolute_error: 0.0994\n",
            "Epoch 6/50\n",
            "8/8 [==============================] - 0s 18ms/step - loss: 0.0040 - mean_squared_error: 0.0040 - mean_absolute_error: 0.0346 - val_loss: 0.2866 - val_mean_squared_error: 0.2866 - val_mean_absolute_error: 0.5227\n",
            "Epoch 7/50\n",
            "8/8 [==============================] - 0s 14ms/step - loss: 0.2304 - mean_squared_error: 0.2304 - mean_absolute_error: 0.2998 - val_loss: 0.0267 - val_mean_squared_error: 0.0267 - val_mean_absolute_error: 0.1160\n",
            "Epoch 8/50\n",
            "8/8 [==============================] - 0s 17ms/step - loss: 0.0020 - mean_squared_error: 0.0020 - mean_absolute_error: 0.0294 - val_loss: 0.0336 - val_mean_squared_error: 0.0336 - val_mean_absolute_error: 0.1631\n",
            "Epoch 9/50\n",
            "8/8 [==============================] - 0s 18ms/step - loss: 0.0190 - mean_squared_error: 0.0190 - mean_absolute_error: 0.0942 - val_loss: 0.0428 - val_mean_squared_error: 0.0428 - val_mean_absolute_error: 0.1884\n",
            "Epoch 10/50\n",
            "8/8 [==============================] - 0s 16ms/step - loss: 0.0083 - mean_squared_error: 0.0083 - mean_absolute_error: 0.0579 - val_loss: 0.0278 - val_mean_squared_error: 0.0278 - val_mean_absolute_error: 0.1482\n",
            "Epoch 11/50\n",
            "8/8 [==============================] - 0s 19ms/step - loss: 0.0822 - mean_squared_error: 0.0822 - mean_absolute_error: 0.1210 - val_loss: 2.5832 - val_mean_squared_error: 2.5832 - val_mean_absolute_error: 1.5646\n"
          ],
          "name": "stdout"
        },
        {
          "output_type": "display_data",
          "data": {
            "text/html": [
              "<br/>Waiting for W&B process to finish, PID 8397<br/>Program ended successfully."
            ],
            "text/plain": [
              "<IPython.core.display.HTML object>"
            ]
          },
          "metadata": {
            "tags": []
          }
        },
        {
          "output_type": "display_data",
          "data": {
            "application/vnd.jupyter.widget-view+json": {
              "model_id": "4b8a67b9b255435fb6696ea04e507fdf",
              "version_minor": 0,
              "version_major": 2
            },
            "text/plain": [
              "VBox(children=(Label(value=' 1.24MB of 1.24MB uploaded (0.00MB deduped)\\r'), FloatProgress(value=1.0, max=1.0)…"
            ]
          },
          "metadata": {
            "tags": []
          }
        },
        {
          "output_type": "display_data",
          "data": {
            "text/html": [
              "Find user logs for this run at: <code>/content/feeder_repo/wandb/run-20210723_163051-xxl63s8n/logs/debug.log</code>"
            ],
            "text/plain": [
              "<IPython.core.display.HTML object>"
            ]
          },
          "metadata": {
            "tags": []
          }
        },
        {
          "output_type": "display_data",
          "data": {
            "text/html": [
              "Find internal logs for this run at: <code>/content/feeder_repo/wandb/run-20210723_163051-xxl63s8n/logs/debug-internal.log</code>"
            ],
            "text/plain": [
              "<IPython.core.display.HTML object>"
            ]
          },
          "metadata": {
            "tags": []
          }
        },
        {
          "output_type": "display_data",
          "data": {
            "text/html": [
              "<h3>Run summary:</h3><br/><style>\n",
              "    table.wandb td:nth-child(1) { padding: 0 10px; text-align: right }\n",
              "    </style><table class=\"wandb\">\n",
              "<tr><td>epoch</td><td>10</td></tr><tr><td>loss</td><td>0.21385</td></tr><tr><td>mean_squared_error</td><td>0.21385</td></tr><tr><td>mean_absolute_error</td><td>0.21675</td></tr><tr><td>val_loss</td><td>2.58316</td></tr><tr><td>val_mean_squared_error</td><td>2.58316</td></tr><tr><td>val_mean_absolute_error</td><td>1.56458</td></tr><tr><td>_runtime</td><td>9</td></tr><tr><td>_timestamp</td><td>1627057860</td></tr><tr><td>_step</td><td>10</td></tr><tr><td>best_val_loss</td><td>0.01493</td></tr><tr><td>best_epoch</td><td>0</td></tr></table>"
            ],
            "text/plain": [
              "<IPython.core.display.HTML object>"
            ]
          },
          "metadata": {
            "tags": []
          }
        },
        {
          "output_type": "display_data",
          "data": {
            "text/html": [
              "<h3>Run history:</h3><br/><style>\n",
              "    table.wandb td:nth-child(1) { padding: 0 10px; text-align: right }\n",
              "    </style><table class=\"wandb\">\n",
              "<tr><td>epoch</td><td>▁▂▂▃▄▅▅▆▇▇█</td></tr><tr><td>loss</td><td>█▁▁▁▁▁▂▁▁▁▂</td></tr><tr><td>mean_squared_error</td><td>█▁▁▁▁▁▂▁▁▁▂</td></tr><tr><td>mean_absolute_error</td><td>█▁▁▃▁▁▄▁▂▁▃</td></tr><tr><td>val_loss</td><td>▁▁▁▁▁▂▁▁▁▁█</td></tr><tr><td>val_mean_squared_error</td><td>▁▁▁▁▁▂▁▁▁▁█</td></tr><tr><td>val_mean_absolute_error</td><td>▁▁▁▁▁▃▁▁▁▁█</td></tr><tr><td>_runtime</td><td>▁▅▅▅▅▅▅▅███</td></tr><tr><td>_timestamp</td><td>▁▅▅▅▅▅▅▅███</td></tr><tr><td>_step</td><td>▁▂▂▃▄▅▅▆▇▇█</td></tr></table><br/>"
            ],
            "text/plain": [
              "<IPython.core.display.HTML object>"
            ]
          },
          "metadata": {
            "tags": []
          }
        },
        {
          "output_type": "display_data",
          "data": {
            "text/html": [
              "Synced 5 W&B file(s), 1 media file(s), 2 artifact file(s) and 2 other file(s)"
            ],
            "text/plain": [
              "<IPython.core.display.HTML object>"
            ]
          },
          "metadata": {
            "tags": []
          }
        },
        {
          "output_type": "display_data",
          "data": {
            "text/html": [
              "\n",
              "                    <br/>Synced <strong style=\"color:#cdcd00\">usual-sweep-49</strong>: <a href=\"https://wandb.ai/acse-jaq15/ACSE_9_MLP_AE/runs/xxl63s8n\" target=\"_blank\">https://wandb.ai/acse-jaq15/ACSE_9_MLP_AE/runs/xxl63s8n</a><br/>\n",
              "                "
            ],
            "text/plain": [
              "<IPython.core.display.HTML object>"
            ]
          },
          "metadata": {
            "tags": []
          }
        },
        {
          "output_type": "stream",
          "text": [
            "\u001b[34m\u001b[1mwandb\u001b[0m: Agent Starting Run: p7fo844g with config:\n",
            "\u001b[34m\u001b[1mwandb\u001b[0m: \tactivation: selu\n",
            "\u001b[34m\u001b[1mwandb\u001b[0m: \tbatch_size: 64\n",
            "\u001b[34m\u001b[1mwandb\u001b[0m: \tepochs: 100\n",
            "\u001b[34m\u001b[1mwandb\u001b[0m: \tlearning_rate: 0.0005\n",
            "\u001b[34m\u001b[1mwandb\u001b[0m: \toptimizer: adam\n"
          ],
          "name": "stderr"
        },
        {
          "output_type": "display_data",
          "data": {
            "text/html": [
              "\n",
              "                Tracking run with wandb version 0.11.0<br/>\n",
              "                Syncing run <strong style=\"color:#cdcd00\">bumbling-sweep-50</strong> to <a href=\"https://wandb.ai\" target=\"_blank\">Weights & Biases</a> <a href=\"https://docs.wandb.com/integrations/jupyter.html\" target=\"_blank\">(Documentation)</a>.<br/>\n",
              "                Project page: <a href=\"https://wandb.ai/acse-jaq15/ACSE_9_MLP_AE\" target=\"_blank\">https://wandb.ai/acse-jaq15/ACSE_9_MLP_AE</a><br/>\n",
              "                Sweep page: <a href=\"https://wandb.ai/acse-jaq15/ACSE_9_MLP_AE/sweeps/6wgndl46\" target=\"_blank\">https://wandb.ai/acse-jaq15/ACSE_9_MLP_AE/sweeps/6wgndl46</a><br/>\n",
              "Run page: <a href=\"https://wandb.ai/acse-jaq15/ACSE_9_MLP_AE/runs/p7fo844g\" target=\"_blank\">https://wandb.ai/acse-jaq15/ACSE_9_MLP_AE/runs/p7fo844g</a><br/>\n",
              "                Run data is saved locally in <code>/content/feeder_repo/wandb/run-20210723_163109-p7fo844g</code><br/><br/>\n",
              "            "
            ],
            "text/plain": [
              "<IPython.core.display.HTML object>"
            ]
          },
          "metadata": {
            "tags": []
          }
        },
        {
          "output_type": "stream",
          "text": [
            "\u001b[34m\u001b[1mwandb\u001b[0m: Ctrl + C detected. Stopping sweep.\n"
          ],
          "name": "stderr"
        }
      ]
    },
    {
      "cell_type": "markdown",
      "metadata": {
        "id": "gFTu29dbi18i"
      },
      "source": [
        "# Setting up the best model\n",
        "Using the best values from the hyperparamter search with wandb, the most optimal model configuration is used."
      ]
    },
    {
      "cell_type": "code",
      "metadata": {
        "id": "NwsO8cDJPMdj"
      },
      "source": [
        "# picking the best values\n",
        "best_config = {\n",
        "    'epochs': 100,\n",
        "    'batch_size': 64,\n",
        "    'learning_rate': 0.001,\n",
        "    'optimizer': 'adam',\n",
        "    'activation': 'selu'\n",
        "}"
      ],
      "execution_count": 17,
      "outputs": []
    },
    {
      "cell_type": "code",
      "metadata": {
        "colab": {
          "base_uri": "https://localhost:8080/"
        },
        "id": "iryNMYspuU2I",
        "outputId": "19c1673d-e86b-402e-ca91-43581b0d25ae"
      },
      "source": [
        "# clearing the settings on the keras backend\n",
        "keras.backend.clear_session()\n",
        "\n",
        "# setting keras model to sequential mode\n",
        "model = Sequential()\n",
        "\n",
        "# layer 1\n",
        "model.add(Dense(256, activation=best_config['activation'], input_shape=(window_len, 1)))\n",
        "# layer 2\n",
        "model.add(Dense(128, activation=best_config['activation']))\n",
        "# layer 3\n",
        "model.add(Dense(64, activation=best_config['activation']))\n",
        "# layer 4\n",
        "model.add(Dense(32, activation=best_config['activation']))\n",
        "# layer 5\n",
        "model.add(Flatten())\n",
        "# layer 6\n",
        "model.add(RepeatVector(window_len))\n",
        "# layer 7\n",
        "model.add(Dense(32, activation=best_config['activation']))\n",
        "# layer 8\n",
        "model.add(Dense(64, activation=best_config['activation']))\n",
        "# layer 9\n",
        "model.add(Dense(128, activation=best_config['activation']))\n",
        "# layer 10\n",
        "model.add(Flatten())\n",
        "# layer 11\n",
        "model.add(Dense(1))\n",
        "\n",
        "# defining the optimiser\n",
        "if best_config['optimizer'] == 'sgd':\n",
        "  optimizer = SGD(learning_rate=best_config['learning_rate'], decay=1e-5, momentum=0.9, nesterov=True)\n",
        "elif best_config['optimizer'] == 'rmsprop':\n",
        "  optimizer = RMSprop(learning_rate=best_config['learning_rate'], decay=1e-5)\n",
        "elif best_config['optimizer'] == 'adam':\n",
        "  optimizer = Adam(learning_rate=best_config['learning_rate'], beta_1=0.9, beta_2=0.999, clipnorm=1.0)\n",
        "elif best_config['optimizer'] == 'nadam':\n",
        "  optimizer = Nadam(learning_rate=best_config['learning_rate'], beta_1=0.9, beta_2=0.999, clipnorm=1.0)\n",
        "\n",
        "# compile the model\n",
        "model.compile(optimizer, loss='mean_squared_error')\n",
        "\n",
        "# counting the number of trainable parameters\n",
        "trainable_count = count_params(model.trainable_weights)\n",
        "print('Total number of trainable parameters: ', trainable_count)"
      ],
      "execution_count": 18,
      "outputs": [
        {
          "output_type": "stream",
          "text": [
            "Total number of trainable parameters:  88769\n"
          ],
          "name": "stdout"
        }
      ]
    },
    {
      "cell_type": "code",
      "metadata": {
        "colab": {
          "base_uri": "https://localhost:8080/"
        },
        "id": "5UG8j_4r7kSu",
        "outputId": "ce32cbb3-9f08-4f63-8841-3fd92c105392"
      },
      "source": [
        "model.summary()"
      ],
      "execution_count": 19,
      "outputs": [
        {
          "output_type": "stream",
          "text": [
            "Model: \"sequential\"\n",
            "_________________________________________________________________\n",
            "Layer (type)                 Output Shape              Param #   \n",
            "=================================================================\n",
            "dense (Dense)                (None, 30, 256)           512       \n",
            "_________________________________________________________________\n",
            "dense_1 (Dense)              (None, 30, 128)           32896     \n",
            "_________________________________________________________________\n",
            "dense_2 (Dense)              (None, 30, 64)            8256      \n",
            "_________________________________________________________________\n",
            "dense_3 (Dense)              (None, 30, 32)            2080      \n",
            "_________________________________________________________________\n",
            "flatten (Flatten)            (None, 960)               0         \n",
            "_________________________________________________________________\n",
            "repeat_vector (RepeatVector) (None, 30, 960)           0         \n",
            "_________________________________________________________________\n",
            "dense_4 (Dense)              (None, 30, 32)            30752     \n",
            "_________________________________________________________________\n",
            "dense_5 (Dense)              (None, 30, 64)            2112      \n",
            "_________________________________________________________________\n",
            "dense_6 (Dense)              (None, 30, 128)           8320      \n",
            "_________________________________________________________________\n",
            "flatten_1 (Flatten)          (None, 3840)              0         \n",
            "_________________________________________________________________\n",
            "dense_7 (Dense)              (None, 1)                 3841      \n",
            "=================================================================\n",
            "Total params: 88,769\n",
            "Trainable params: 88,769\n",
            "Non-trainable params: 0\n",
            "_________________________________________________________________\n"
          ],
          "name": "stdout"
        }
      ]
    },
    {
      "cell_type": "code",
      "metadata": {
        "colab": {
          "base_uri": "https://localhost:8080/"
        },
        "id": "W3v718GcE39o",
        "outputId": "5b2eaf19-5067-4748-a158-430647255c18"
      },
      "source": [
        "# fitting the model to the training dataset\n",
        "model.fit(X_train, y_train, epochs=best_config['epochs'], batch_size=best_config['batch_size'])"
      ],
      "execution_count": 20,
      "outputs": [
        {
          "output_type": "stream",
          "text": [
            "Epoch 1/100\n",
            "20/20 [==============================] - 3s 8ms/step - loss: 2.2518\n",
            "Epoch 2/100\n",
            "20/20 [==============================] - 0s 7ms/step - loss: 0.0108\n",
            "Epoch 3/100\n",
            "20/20 [==============================] - 0s 8ms/step - loss: 0.0077\n",
            "Epoch 4/100\n",
            "20/20 [==============================] - 0s 7ms/step - loss: 0.0038\n",
            "Epoch 5/100\n",
            "20/20 [==============================] - 0s 7ms/step - loss: 0.0022\n",
            "Epoch 6/100\n",
            "20/20 [==============================] - 0s 7ms/step - loss: 0.0024\n",
            "Epoch 7/100\n",
            "20/20 [==============================] - 0s 7ms/step - loss: 0.0015\n",
            "Epoch 8/100\n",
            "20/20 [==============================] - 0s 7ms/step - loss: 7.3112e-04\n",
            "Epoch 9/100\n",
            "20/20 [==============================] - 0s 7ms/step - loss: 5.7132e-04\n",
            "Epoch 10/100\n",
            "20/20 [==============================] - 0s 7ms/step - loss: 8.3071e-04\n",
            "Epoch 11/100\n",
            "20/20 [==============================] - 0s 7ms/step - loss: 5.0310e-04\n",
            "Epoch 12/100\n",
            "20/20 [==============================] - 0s 7ms/step - loss: 9.8563e-04\n",
            "Epoch 13/100\n",
            "20/20 [==============================] - 0s 7ms/step - loss: 0.0013\n",
            "Epoch 14/100\n",
            "20/20 [==============================] - 0s 7ms/step - loss: 0.0017\n",
            "Epoch 15/100\n",
            "20/20 [==============================] - 0s 8ms/step - loss: 6.0172e-04\n",
            "Epoch 16/100\n",
            "20/20 [==============================] - 0s 7ms/step - loss: 8.7937e-04\n",
            "Epoch 17/100\n",
            "20/20 [==============================] - 0s 7ms/step - loss: 7.8103e-04\n",
            "Epoch 18/100\n",
            "20/20 [==============================] - 0s 7ms/step - loss: 0.0024\n",
            "Epoch 19/100\n",
            "20/20 [==============================] - 0s 8ms/step - loss: 0.0016\n",
            "Epoch 20/100\n",
            "20/20 [==============================] - 0s 7ms/step - loss: 9.0745e-04\n",
            "Epoch 21/100\n",
            "20/20 [==============================] - 0s 8ms/step - loss: 8.3844e-04\n",
            "Epoch 22/100\n",
            "20/20 [==============================] - 0s 7ms/step - loss: 8.8643e-04\n",
            "Epoch 23/100\n",
            "20/20 [==============================] - 0s 7ms/step - loss: 0.0011\n",
            "Epoch 24/100\n",
            "20/20 [==============================] - 0s 8ms/step - loss: 4.5465e-04\n",
            "Epoch 25/100\n",
            "20/20 [==============================] - 0s 7ms/step - loss: 2.9005e-04\n",
            "Epoch 26/100\n",
            "20/20 [==============================] - 0s 7ms/step - loss: 8.5487e-04\n",
            "Epoch 27/100\n",
            "20/20 [==============================] - 0s 7ms/step - loss: 4.3567e-04\n",
            "Epoch 28/100\n",
            "20/20 [==============================] - 0s 8ms/step - loss: 6.3752e-04\n",
            "Epoch 29/100\n",
            "20/20 [==============================] - 0s 7ms/step - loss: 0.0010\n",
            "Epoch 30/100\n",
            "20/20 [==============================] - 0s 8ms/step - loss: 3.9922e-04\n",
            "Epoch 31/100\n",
            "20/20 [==============================] - 0s 8ms/step - loss: 2.7839e-04\n",
            "Epoch 32/100\n",
            "20/20 [==============================] - 0s 7ms/step - loss: 4.7473e-04\n",
            "Epoch 33/100\n",
            "20/20 [==============================] - 0s 8ms/step - loss: 7.4886e-04\n",
            "Epoch 34/100\n",
            "20/20 [==============================] - 0s 8ms/step - loss: 4.8414e-04\n",
            "Epoch 35/100\n",
            "20/20 [==============================] - 0s 7ms/step - loss: 6.0693e-04\n",
            "Epoch 36/100\n",
            "20/20 [==============================] - 0s 7ms/step - loss: 0.0012\n",
            "Epoch 37/100\n",
            "20/20 [==============================] - 0s 7ms/step - loss: 0.0016\n",
            "Epoch 38/100\n",
            "20/20 [==============================] - 0s 7ms/step - loss: 0.0027\n",
            "Epoch 39/100\n",
            "20/20 [==============================] - 0s 7ms/step - loss: 0.1688\n",
            "Epoch 40/100\n",
            "20/20 [==============================] - 0s 7ms/step - loss: 0.4356\n",
            "Epoch 41/100\n",
            "20/20 [==============================] - 0s 8ms/step - loss: 0.2511\n",
            "Epoch 42/100\n",
            "20/20 [==============================] - 0s 8ms/step - loss: 0.0166\n",
            "Epoch 43/100\n",
            "20/20 [==============================] - 0s 7ms/step - loss: 0.0054\n",
            "Epoch 44/100\n",
            "20/20 [==============================] - 0s 8ms/step - loss: 0.0013\n",
            "Epoch 45/100\n",
            "20/20 [==============================] - 0s 7ms/step - loss: 0.0019\n",
            "Epoch 46/100\n",
            "20/20 [==============================] - 0s 7ms/step - loss: 0.0012\n",
            "Epoch 47/100\n",
            "20/20 [==============================] - 0s 7ms/step - loss: 5.2741e-04\n",
            "Epoch 48/100\n",
            "20/20 [==============================] - 0s 8ms/step - loss: 8.1837e-04\n",
            "Epoch 49/100\n",
            "20/20 [==============================] - 0s 7ms/step - loss: 0.0011\n",
            "Epoch 50/100\n",
            "20/20 [==============================] - 0s 7ms/step - loss: 0.0014\n",
            "Epoch 51/100\n",
            "20/20 [==============================] - 0s 7ms/step - loss: 4.7441e-04\n",
            "Epoch 52/100\n",
            "20/20 [==============================] - 0s 7ms/step - loss: 6.2962e-04\n",
            "Epoch 53/100\n",
            "20/20 [==============================] - 0s 7ms/step - loss: 4.4564e-04\n",
            "Epoch 54/100\n",
            "20/20 [==============================] - 0s 8ms/step - loss: 3.1539e-04\n",
            "Epoch 55/100\n",
            "20/20 [==============================] - 0s 7ms/step - loss: 3.0053e-04\n",
            "Epoch 56/100\n",
            "20/20 [==============================] - 0s 8ms/step - loss: 5.4729e-04\n",
            "Epoch 57/100\n",
            "20/20 [==============================] - 0s 7ms/step - loss: 7.7262e-04\n",
            "Epoch 58/100\n",
            "20/20 [==============================] - 0s 7ms/step - loss: 8.1796e-04\n",
            "Epoch 59/100\n",
            "20/20 [==============================] - 0s 7ms/step - loss: 0.0012\n",
            "Epoch 60/100\n",
            "20/20 [==============================] - 0s 7ms/step - loss: 4.8624e-04\n",
            "Epoch 61/100\n",
            "20/20 [==============================] - 0s 7ms/step - loss: 4.6337e-04\n",
            "Epoch 62/100\n",
            "20/20 [==============================] - 0s 8ms/step - loss: 2.7965e-04\n",
            "Epoch 63/100\n",
            "20/20 [==============================] - 0s 7ms/step - loss: 3.5089e-04\n",
            "Epoch 64/100\n",
            "20/20 [==============================] - 0s 7ms/step - loss: 3.7035e-04\n",
            "Epoch 65/100\n",
            "20/20 [==============================] - 0s 7ms/step - loss: 2.6883e-04\n",
            "Epoch 66/100\n",
            "20/20 [==============================] - 0s 7ms/step - loss: 2.7683e-04\n",
            "Epoch 67/100\n",
            "20/20 [==============================] - 0s 7ms/step - loss: 3.0225e-04\n",
            "Epoch 68/100\n",
            "20/20 [==============================] - 0s 8ms/step - loss: 3.0516e-04\n",
            "Epoch 69/100\n",
            "20/20 [==============================] - 0s 7ms/step - loss: 3.7489e-04\n",
            "Epoch 70/100\n",
            "20/20 [==============================] - 0s 7ms/step - loss: 4.2822e-04\n",
            "Epoch 71/100\n",
            "20/20 [==============================] - 0s 7ms/step - loss: 3.3439e-04\n",
            "Epoch 72/100\n",
            "20/20 [==============================] - 0s 7ms/step - loss: 6.8510e-04\n",
            "Epoch 73/100\n",
            "20/20 [==============================] - 0s 7ms/step - loss: 2.4140e-04\n",
            "Epoch 74/100\n",
            "20/20 [==============================] - 0s 8ms/step - loss: 4.4230e-04\n",
            "Epoch 75/100\n",
            "20/20 [==============================] - 0s 7ms/step - loss: 4.4326e-04\n",
            "Epoch 76/100\n",
            "20/20 [==============================] - 0s 7ms/step - loss: 3.6167e-04\n",
            "Epoch 77/100\n",
            "20/20 [==============================] - 0s 8ms/step - loss: 3.7229e-04\n",
            "Epoch 78/100\n",
            "20/20 [==============================] - 0s 7ms/step - loss: 2.6057e-04\n",
            "Epoch 79/100\n",
            "20/20 [==============================] - 0s 8ms/step - loss: 4.7224e-04\n",
            "Epoch 80/100\n",
            "20/20 [==============================] - 0s 7ms/step - loss: 4.3538e-04\n",
            "Epoch 81/100\n",
            "20/20 [==============================] - 0s 8ms/step - loss: 2.5959e-04\n",
            "Epoch 82/100\n",
            "20/20 [==============================] - 0s 8ms/step - loss: 2.9729e-04\n",
            "Epoch 83/100\n",
            "20/20 [==============================] - 0s 7ms/step - loss: 3.0748e-04\n",
            "Epoch 84/100\n",
            "20/20 [==============================] - 0s 8ms/step - loss: 9.4620e-04\n",
            "Epoch 85/100\n",
            "20/20 [==============================] - 0s 8ms/step - loss: 7.6337e-04\n",
            "Epoch 86/100\n",
            "20/20 [==============================] - 0s 7ms/step - loss: 3.7134e-04\n",
            "Epoch 87/100\n",
            "20/20 [==============================] - 0s 8ms/step - loss: 6.3099e-04\n",
            "Epoch 88/100\n",
            "20/20 [==============================] - 0s 8ms/step - loss: 4.7155e-04\n",
            "Epoch 89/100\n",
            "20/20 [==============================] - 0s 7ms/step - loss: 2.9723e-04\n",
            "Epoch 90/100\n",
            "20/20 [==============================] - 0s 7ms/step - loss: 2.7041e-04\n",
            "Epoch 91/100\n",
            "20/20 [==============================] - 0s 7ms/step - loss: 3.1082e-04\n",
            "Epoch 92/100\n",
            "20/20 [==============================] - 0s 8ms/step - loss: 2.8457e-04\n",
            "Epoch 93/100\n",
            "20/20 [==============================] - 0s 7ms/step - loss: 4.7296e-04\n",
            "Epoch 94/100\n",
            "20/20 [==============================] - 0s 8ms/step - loss: 2.5970e-04\n",
            "Epoch 95/100\n",
            "20/20 [==============================] - 0s 8ms/step - loss: 3.0349e-04\n",
            "Epoch 96/100\n",
            "20/20 [==============================] - 0s 7ms/step - loss: 3.9433e-04\n",
            "Epoch 97/100\n",
            "20/20 [==============================] - 0s 7ms/step - loss: 3.3265e-04\n",
            "Epoch 98/100\n",
            "20/20 [==============================] - 0s 7ms/step - loss: 3.0706e-04\n",
            "Epoch 99/100\n",
            "20/20 [==============================] - 0s 8ms/step - loss: 2.3830e-04\n",
            "Epoch 100/100\n",
            "20/20 [==============================] - 0s 8ms/step - loss: 2.6357e-04\n"
          ],
          "name": "stdout"
        },
        {
          "output_type": "execute_result",
          "data": {
            "text/plain": [
              "<keras.callbacks.History at 0x7f1657a950d0>"
            ]
          },
          "metadata": {
            "tags": []
          },
          "execution_count": 20
        }
      ]
    },
    {
      "cell_type": "code",
      "metadata": {
        "id": "rTXJN51l9Y-F"
      },
      "source": [
        "# creating an instance of Baseline_Model class using X_test\n",
        "base_model = Base_Model(X_test, window_len)\n",
        "# calling predict_y method\n",
        "base_model.predict_y(in_data.test_len - window_len)\n",
        "\n",
        "# using the model to predict y from X_test\n",
        "y_pred = model.predict(X_test)\n",
        "# assigning y_dummy variable to .y_pred class attribute\n",
        "y_dummy = base_model.y_pred\n",
        "\n",
        "# calling class method extract_real_price to generate unnormalised prices\n",
        "in_data.extract_real_prices(y_pred, y_dummy)\n",
        "\n",
        "# assinging y_true variable\n",
        "y_true = in_data.y_true\n",
        "\n",
        "# assigning actual_price, predicted_price and dummy_price\n",
        "actual_price = in_data.actual_price\n",
        "predicted_price = in_data.predicted_price\n",
        "dummy_price = in_data.dummy_price"
      ],
      "execution_count": 21,
      "outputs": []
    },
    {
      "cell_type": "markdown",
      "metadata": {
        "id": "H-D-XHyRjFMp"
      },
      "source": [
        "# Plotting the prediction results and getting errors\n",
        "The cells below plot the actual, predicted and dummy prices using the Security_Plotter class before finally saving the model and plot."
      ]
    },
    {
      "cell_type": "code",
      "metadata": {
        "colab": {
          "base_uri": "https://localhost:8080/",
          "height": 395
        },
        "id": "PgjvooOD3jq3",
        "outputId": "7ab24998-d43c-4b59-fa52-91b78de0ed16"
      },
      "source": [
        "plotter = Security_Plotter(in_data, actual_price, predicted_price,\n",
        "                            dummy_price, in_data.train_len, window_len, in_str, model_str)\n",
        "\n",
        "plotter.single_plot()"
      ],
      "execution_count": 22,
      "outputs": [
        {
          "output_type": "display_data",
          "data": {
            "image/png": "[encoded data removed]",
            "text/plain": [
              "<Figure size 864x432 with 1 Axes>"
            ]
          },
          "metadata": {
            "tags": [],
            "needs_background": "light"
          }
        }
      ]
    },
    {
      "cell_type": "code",
      "metadata": {
        "colab": {
          "base_uri": "https://localhost:8080/",
          "height": 1000
        },
        "id": "AxaH7IUCxSXw",
        "outputId": "9b5c6395-abe4-4ede-97b0-e98ca7f5ce7c"
      },
      "source": [
        "plot_model(model, show_shapes=True, expand_nested=True)"
      ],
      "execution_count": 23,
      "outputs": [
        {
          "output_type": "execute_result",
          "data": {
            "image/png": "[encoded data removed]",
            "text/plain": [
              "<IPython.core.display.Image object>"
            ]
          },
          "metadata": {
            "tags": []
          },
          "execution_count": 23
        }
      ]
    },
    {
      "cell_type": "code",
      "metadata": {
        "colab": {
          "base_uri": "https://localhost:8080/"
        },
        "id": "bFfQGfb79SJS",
        "outputId": "4bc9f16a-e834-404f-abbc-278675fbf7a0"
      },
      "source": [
        "# calculating mean squared error\n",
        "mse = mean_squared_error(y_true, y_pred)\n",
        "d_mse = mean_squared_error(y_true, y_dummy)\n",
        "\n",
        "# calculating root mean squared error\n",
        "rmse = mean_squared_error(y_true, y_pred, squared=False)\n",
        "d_rmse = mean_squared_error(y_true, y_dummy, squared=False)\n",
        "\n",
        "# calculating mean absolute error\n",
        "mae = mean_absolute_error(y_true, y_pred)\n",
        "d_mae = mean_absolute_error(y_true, y_dummy)\n",
        "\n",
        "print('MSE: ', mse)\n",
        "print('RMSE: ', rmse)\n",
        "print('MAE: ', mae)\n",
        "print('Dummy MSE: ', d_mse)\n",
        "print('Dummy RMSE: ', d_rmse)\n",
        "print('Dummy MAE: ', d_mae)"
      ],
      "execution_count": 24,
      "outputs": [
        {
          "output_type": "stream",
          "text": [
            "MSE:  0.0027683331155588563\n",
            "RMSE:  0.05261495144499191\n",
            "MAE:  0.04116167519140989\n",
            "Dummy MSE:  0.01623808785220405\n",
            "Dummy RMSE:  0.12742875598625314\n",
            "Dummy MAE:  0.10320580289003882\n"
          ],
          "name": "stdout"
        }
      ]
    },
    {
      "cell_type": "code",
      "metadata": {
        "colab": {
          "base_uri": "https://localhost:8080/"
        },
        "id": "4YttzJHHU4-s",
        "outputId": "817fab05-9ec4-4ad1-addc-107721e07047"
      },
      "source": [
        "# creating a string to save the model based on model name\n",
        "save_path = '/content/gdrive/My Drive/models/'+model_str+'_'+in_str+'/'\n",
        "# mounting google drive for easy storage of model\n",
        "from google.colab import drive\n",
        "# mounting the drive\n",
        "drive.mount('/content/gdrive/')\n",
        "# making the relevant directory to store the model\n",
        "os.mkdir(save_path)\n",
        "# saving the model\n",
        "keras.models.save_model(model, save_path)\n",
        "# saving the model graph\n",
        "model_graph = plot_model(model, to_file=save_path+model_str+'_'+in_str+'_graph_.png', show_shapes=True, expand_nested=True)\n",
        "# saving the matplotlib plot\n",
        "plotter.fig.savefig(save_path+model_str+'_'+in_str+'_plot.png', bbox_inches='tight')\n",
        "# saving the error metrics as a text file\n",
        "error_file = open(save_path+model_str+'_'+in_str+'_metrics.txt', 'w+')\n",
        "error_file.write('MSE: '+str(mse)+'\\n'+'RMSE: '+str(rmse)+'\\n'+'MAE: '+str(mae)+'\\n'+\n",
        "                 'Dummy MSE: '+str(d_mse)+'\\n'+'Dummy RMSE: '+str(d_rmse)+'\\n'+'Dummy MAE: '+str(d_mae))\n",
        "error_file.close()"
      ],
      "execution_count": 25,
      "outputs": [
        {
          "output_type": "stream",
          "text": [
            "Mounted at /content/gdrive/\n",
            "INFO:tensorflow:Assets written to: /content/gdrive/My Drive/models/MLP_AE_Nvidia/assets\n"
          ],
          "name": "stdout"
        }
      ]
    }
  ]
}