{
  "nbformat": 4,
  "nbformat_minor": 0,
  "metadata": {
    "accelerator": "GPU",
    "colab": {
      "name": "MLP_AE_Corn.ipynb",
      "provenance": [],
      "collapsed_sections": [],
      "authorship_tag": "ABX9TyNCB2NO4mcgx3+cAtYSAK3h",
      "include_colab_link": true
    },
    "kernelspec": {
      "display_name": "Python 3",
      "name": "python3"
    },
    "language_info": {
      "name": "python"
    },
    "widgets": {
      "application/vnd.jupyter.widget-state+json": {
        "defb6881052046b5b4fd404971e848b6": {
          "model_module": "@jupyter-widgets/controls",
          "model_name": "VBoxModel",
          "state": {
            "_view_name": "VBoxView",
            "_dom_classes": [],
            "_model_name": "VBoxModel",
            "_view_module": "@jupyter-widgets/controls",
            "_model_module_version": "1.5.0",
            "_view_count": null,
            "_view_module_version": "1.5.0",
            "box_style": "",
            "layout": "IPY_MODEL_9bda4266a98244729a0d7e41cbc3519f",
            "_model_module": "@jupyter-widgets/controls",
            "children": [
              "IPY_MODEL_8fa9fc4ba994493785de79861442044c",
              "IPY_MODEL_a0533f30a19d48f48edef721887d322b"
            ]
          }
        },
        "9bda4266a98244729a0d7e41cbc3519f": {
          "model_module": "@jupyter-widgets/base",
          "model_name": "LayoutModel",
          "state": {
            "_view_name": "LayoutView",
            "grid_template_rows": null,
            "right": null,
            "justify_content": null,
            "_view_module": "@jupyter-widgets/base",
            "overflow": null,
            "_model_module_version": "1.2.0",
            "_view_count": null,
            "flex_flow": null,
            "width": null,
            "min_width": null,
            "border": null,
            "align_items": null,
            "bottom": null,
            "_model_module": "@jupyter-widgets/base",
            "top": null,
            "grid_column": null,
            "overflow_y": null,
            "overflow_x": null,
            "grid_auto_flow": null,
            "grid_area": null,
            "grid_template_columns": null,
            "flex": null,
            "_model_name": "LayoutModel",
            "justify_items": null,
            "grid_row": null,
            "max_height": null,
            "align_content": null,
            "visibility": null,
            "align_self": null,
            "height": null,
            "min_height": null,
            "padding": null,
            "grid_auto_rows": null,
            "grid_gap": null,
            "max_width": null,
            "order": null,
            "_view_module_version": "1.2.0",
            "grid_template_areas": null,
            "object_position": null,
            "object_fit": null,
            "grid_auto_columns": null,
            "margin": null,
            "display": null,
            "left": null
          }
        },
        "8fa9fc4ba994493785de79861442044c": {
          "model_module": "@jupyter-widgets/controls",
          "model_name": "LabelModel",
          "state": {
            "_view_name": "LabelView",
            "style": "IPY_MODEL_11d5ed04642b413191a63874c8ee3332",
            "_dom_classes": [],
            "description": "",
            "_model_name": "LabelModel",
            "placeholder": "​",
            "_view_module": "@jupyter-widgets/controls",
            "_model_module_version": "1.5.0",
            "value": " 0.98MB of 0.98MB uploaded (0.00MB deduped)\r",
            "_view_count": null,
            "_view_module_version": "1.5.0",
            "description_tooltip": null,
            "_model_module": "@jupyter-widgets/controls",
            "layout": "IPY_MODEL_4c1b941024c54c50b9bf3bbbeb5867bc"
          }
        },
        "a0533f30a19d48f48edef721887d322b": {
          "model_module": "@jupyter-widgets/controls",
          "model_name": "FloatProgressModel",
          "state": {
            "_view_name": "ProgressView",
            "style": "IPY_MODEL_3353608d1a1f4fb4883a504bae154fc0",
            "_dom_classes": [],
            "description": "",
            "_model_name": "FloatProgressModel",
            "bar_style": "",
            "max": 1,
            "_view_module": "@jupyter-widgets/controls",
            "_model_module_version": "1.5.0",
            "value": 1,
            "_view_count": null,
            "_view_module_version": "1.5.0",
            "orientation": "horizontal",
            "min": 0,
            "description_tooltip": null,
            "_model_module": "@jupyter-widgets/controls",
            "layout": "IPY_MODEL_8e26a259bafa4dc7a805c4b707a01e5e"
          }
        },
        "11d5ed04642b413191a63874c8ee3332": {
          "model_module": "@jupyter-widgets/controls",
          "model_name": "DescriptionStyleModel",
          "state": {
            "_view_name": "StyleView",
            "_model_name": "DescriptionStyleModel",
            "description_width": "",
            "_view_module": "@jupyter-widgets/base",
            "_model_module_version": "1.5.0",
            "_view_count": null,
            "_view_module_version": "1.2.0",
            "_model_module": "@jupyter-widgets/controls"
          }
        },
        "4c1b941024c54c50b9bf3bbbeb5867bc": {
          "model_module": "@jupyter-widgets/base",
          "model_name": "LayoutModel",
          "state": {
            "_view_name": "LayoutView",
            "grid_template_rows": null,
            "right": null,
            "justify_content": null,
            "_view_module": "@jupyter-widgets/base",
            "overflow": null,
            "_model_module_version": "1.2.0",
            "_view_count": null,
            "flex_flow": null,
            "width": null,
            "min_width": null,
            "border": null,
            "align_items": null,
            "bottom": null,
            "_model_module": "@jupyter-widgets/base",
            "top": null,
            "grid_column": null,
            "overflow_y": null,
            "overflow_x": null,
            "grid_auto_flow": null,
            "grid_area": null,
            "grid_template_columns": null,
            "flex": null,
            "_model_name": "LayoutModel",
            "justify_items": null,
            "grid_row": null,
            "max_height": null,
            "align_content": null,
            "visibility": null,
            "align_self": null,
            "height": null,
            "min_height": null,
            "padding": null,
            "grid_auto_rows": null,
            "grid_gap": null,
            "max_width": null,
            "order": null,
            "_view_module_version": "1.2.0",
            "grid_template_areas": null,
            "object_position": null,
            "object_fit": null,
            "grid_auto_columns": null,
            "margin": null,
            "display": null,
            "left": null
          }
        },
        "3353608d1a1f4fb4883a504bae154fc0": {
          "model_module": "@jupyter-widgets/controls",
          "model_name": "ProgressStyleModel",
          "state": {
            "_view_name": "StyleView",
            "_model_name": "ProgressStyleModel",
            "description_width": "",
            "_view_module": "@jupyter-widgets/base",
            "_model_module_version": "1.5.0",
            "_view_count": null,
            "_view_module_version": "1.2.0",
            "bar_color": null,
            "_model_module": "@jupyter-widgets/controls"
          }
        },
        "8e26a259bafa4dc7a805c4b707a01e5e": {
          "model_module": "@jupyter-widgets/base",
          "model_name": "LayoutModel",
          "state": {
            "_view_name": "LayoutView",
            "grid_template_rows": null,
            "right": null,
            "justify_content": null,
            "_view_module": "@jupyter-widgets/base",
            "overflow": null,
            "_model_module_version": "1.2.0",
            "_view_count": null,
            "flex_flow": null,
            "width": null,
            "min_width": null,
            "border": null,
            "align_items": null,
            "bottom": null,
            "_model_module": "@jupyter-widgets/base",
            "top": null,
            "grid_column": null,
            "overflow_y": null,
            "overflow_x": null,
            "grid_auto_flow": null,
            "grid_area": null,
            "grid_template_columns": null,
            "flex": null,
            "_model_name": "LayoutModel",
            "justify_items": null,
            "grid_row": null,
            "max_height": null,
            "align_content": null,
            "visibility": null,
            "align_self": null,
            "height": null,
            "min_height": null,
            "padding": null,
            "grid_auto_rows": null,
            "grid_gap": null,
            "max_width": null,
            "order": null,
            "_view_module_version": "1.2.0",
            "grid_template_areas": null,
            "object_position": null,
            "object_fit": null,
            "grid_auto_columns": null,
            "margin": null,
            "display": null,
            "left": null
          }
        },
        "c715f3cc8f0c4364a6c4154845232c30": {
          "model_module": "@jupyter-widgets/controls",
          "model_name": "VBoxModel",
          "state": {
            "_view_name": "VBoxView",
            "_dom_classes": [],
            "_model_name": "VBoxModel",
            "_view_module": "@jupyter-widgets/controls",
            "_model_module_version": "1.5.0",
            "_view_count": null,
            "_view_module_version": "1.5.0",
            "box_style": "",
            "layout": "IPY_MODEL_f59744716b284650b9b7c89621768ee5",
            "_model_module": "@jupyter-widgets/controls",
            "children": [
              "IPY_MODEL_7029b6be6d7348d7bc32d0136f6b40bb",
              "IPY_MODEL_6abfe0aa78cd42d29ef7e422551419a2"
            ]
          }
        },
        "f59744716b284650b9b7c89621768ee5": {
          "model_module": "@jupyter-widgets/base",
          "model_name": "LayoutModel",
          "state": {
            "_view_name": "LayoutView",
            "grid_template_rows": null,
            "right": null,
            "justify_content": null,
            "_view_module": "@jupyter-widgets/base",
            "overflow": null,
            "_model_module_version": "1.2.0",
            "_view_count": null,
            "flex_flow": null,
            "width": null,
            "min_width": null,
            "border": null,
            "align_items": null,
            "bottom": null,
            "_model_module": "@jupyter-widgets/base",
            "top": null,
            "grid_column": null,
            "overflow_y": null,
            "overflow_x": null,
            "grid_auto_flow": null,
            "grid_area": null,
            "grid_template_columns": null,
            "flex": null,
            "_model_name": "LayoutModel",
            "justify_items": null,
            "grid_row": null,
            "max_height": null,
            "align_content": null,
            "visibility": null,
            "align_self": null,
            "height": null,
            "min_height": null,
            "padding": null,
            "grid_auto_rows": null,
            "grid_gap": null,
            "max_width": null,
            "order": null,
            "_view_module_version": "1.2.0",
            "grid_template_areas": null,
            "object_position": null,
            "object_fit": null,
            "grid_auto_columns": null,
            "margin": null,
            "display": null,
            "left": null
          }
        },
        "7029b6be6d7348d7bc32d0136f6b40bb": {
          "model_module": "@jupyter-widgets/controls",
          "model_name": "LabelModel",
          "state": {
            "_view_name": "LabelView",
            "style": "IPY_MODEL_58b5ec373af64d4ebaaabf7a81651872",
            "_dom_classes": [],
            "description": "",
            "_model_name": "LabelModel",
            "placeholder": "​",
            "_view_module": "@jupyter-widgets/controls",
            "_model_module_version": "1.5.0",
            "value": " 1.00MB of 1.00MB uploaded (0.00MB deduped)\r",
            "_view_count": null,
            "_view_module_version": "1.5.0",
            "description_tooltip": null,
            "_model_module": "@jupyter-widgets/controls",
            "layout": "IPY_MODEL_acf0d32f1a9042459d8d1aae13dbf609"
          }
        },
        "6abfe0aa78cd42d29ef7e422551419a2": {
          "model_module": "@jupyter-widgets/controls",
          "model_name": "FloatProgressModel",
          "state": {
            "_view_name": "ProgressView",
            "style": "IPY_MODEL_6c8cf7c724bf461cacb59ed2135e4f82",
            "_dom_classes": [],
            "description": "",
            "_model_name": "FloatProgressModel",
            "bar_style": "",
            "max": 1,
            "_view_module": "@jupyter-widgets/controls",
            "_model_module_version": "1.5.0",
            "value": 1,
            "_view_count": null,
            "_view_module_version": "1.5.0",
            "orientation": "horizontal",
            "min": 0,
            "description_tooltip": null,
            "_model_module": "@jupyter-widgets/controls",
            "layout": "IPY_MODEL_910f8f63fb0844438f0f13b7dbcd16f8"
          }
        },
        "58b5ec373af64d4ebaaabf7a81651872": {
          "model_module": "@jupyter-widgets/controls",
          "model_name": "DescriptionStyleModel",
          "state": {
            "_view_name": "StyleView",
            "_model_name": "DescriptionStyleModel",
            "description_width": "",
            "_view_module": "@jupyter-widgets/base",
            "_model_module_version": "1.5.0",
            "_view_count": null,
            "_view_module_version": "1.2.0",
            "_model_module": "@jupyter-widgets/controls"
          }
        },
        "acf0d32f1a9042459d8d1aae13dbf609": {
          "model_module": "@jupyter-widgets/base",
          "model_name": "LayoutModel",
          "state": {
            "_view_name": "LayoutView",
            "grid_template_rows": null,
            "right": null,
            "justify_content": null,
            "_view_module": "@jupyter-widgets/base",
            "overflow": null,
            "_model_module_version": "1.2.0",
            "_view_count": null,
            "flex_flow": null,
            "width": null,
            "min_width": null,
            "border": null,
            "align_items": null,
            "bottom": null,
            "_model_module": "@jupyter-widgets/base",
            "top": null,
            "grid_column": null,
            "overflow_y": null,
            "overflow_x": null,
            "grid_auto_flow": null,
            "grid_area": null,
            "grid_template_columns": null,
            "flex": null,
            "_model_name": "LayoutModel",
            "justify_items": null,
            "grid_row": null,
            "max_height": null,
            "align_content": null,
            "visibility": null,
            "align_self": null,
            "height": null,
            "min_height": null,
            "padding": null,
            "grid_auto_rows": null,
            "grid_gap": null,
            "max_width": null,
            "order": null,
            "_view_module_version": "1.2.0",
            "grid_template_areas": null,
            "object_position": null,
            "object_fit": null,
            "grid_auto_columns": null,
            "margin": null,
            "display": null,
            "left": null
          }
        },
        "6c8cf7c724bf461cacb59ed2135e4f82": {
          "model_module": "@jupyter-widgets/controls",
          "model_name": "ProgressStyleModel",
          "state": {
            "_view_name": "StyleView",
            "_model_name": "ProgressStyleModel",
            "description_width": "",
            "_view_module": "@jupyter-widgets/base",
            "_model_module_version": "1.5.0",
            "_view_count": null,
            "_view_module_version": "1.2.0",
            "bar_color": null,
            "_model_module": "@jupyter-widgets/controls"
          }
        },
        "910f8f63fb0844438f0f13b7dbcd16f8": {
          "model_module": "@jupyter-widgets/base",
          "model_name": "LayoutModel",
          "state": {
            "_view_name": "LayoutView",
            "grid_template_rows": null,
            "right": null,
            "justify_content": null,
            "_view_module": "@jupyter-widgets/base",
            "overflow": null,
            "_model_module_version": "1.2.0",
            "_view_count": null,
            "flex_flow": null,
            "width": null,
            "min_width": null,
            "border": null,
            "align_items": null,
            "bottom": null,
            "_model_module": "@jupyter-widgets/base",
            "top": null,
            "grid_column": null,
            "overflow_y": null,
            "overflow_x": null,
            "grid_auto_flow": null,
            "grid_area": null,
            "grid_template_columns": null,
            "flex": null,
            "_model_name": "LayoutModel",
            "justify_items": null,
            "grid_row": null,
            "max_height": null,
            "align_content": null,
            "visibility": null,
            "align_self": null,
            "height": null,
            "min_height": null,
            "padding": null,
            "grid_auto_rows": null,
            "grid_gap": null,
            "max_width": null,
            "order": null,
            "_view_module_version": "1.2.0",
            "grid_template_areas": null,
            "object_position": null,
            "object_fit": null,
            "grid_auto_columns": null,
            "margin": null,
            "display": null,
            "left": null
          }
        },
        "aa3a402efaa3410d9980a23870cd2a06": {
          "model_module": "@jupyter-widgets/controls",
          "model_name": "VBoxModel",
          "state": {
            "_view_name": "VBoxView",
            "_dom_classes": [],
            "_model_name": "VBoxModel",
            "_view_module": "@jupyter-widgets/controls",
            "_model_module_version": "1.5.0",
            "_view_count": null,
            "_view_module_version": "1.5.0",
            "box_style": "",
            "layout": "IPY_MODEL_297b8a7971e7451fbaf09dae000d202f",
            "_model_module": "@jupyter-widgets/controls",
            "children": [
              "IPY_MODEL_dbaa99ecc92041b98763aa788733e65e",
              "IPY_MODEL_ad887b94a2a54035bf3244d1b5c3c9d6"
            ]
          }
        },
        "297b8a7971e7451fbaf09dae000d202f": {
          "model_module": "@jupyter-widgets/base",
          "model_name": "LayoutModel",
          "state": {
            "_view_name": "LayoutView",
            "grid_template_rows": null,
            "right": null,
            "justify_content": null,
            "_view_module": "@jupyter-widgets/base",
            "overflow": null,
            "_model_module_version": "1.2.0",
            "_view_count": null,
            "flex_flow": null,
            "width": null,
            "min_width": null,
            "border": null,
            "align_items": null,
            "bottom": null,
            "_model_module": "@jupyter-widgets/base",
            "top": null,
            "grid_column": null,
            "overflow_y": null,
            "overflow_x": null,
            "grid_auto_flow": null,
            "grid_area": null,
            "grid_template_columns": null,
            "flex": null,
            "_model_name": "LayoutModel",
            "justify_items": null,
            "grid_row": null,
            "max_height": null,
            "align_content": null,
            "visibility": null,
            "align_self": null,
            "height": null,
            "min_height": null,
            "padding": null,
            "grid_auto_rows": null,
            "grid_gap": null,
            "max_width": null,
            "order": null,
            "_view_module_version": "1.2.0",
            "grid_template_areas": null,
            "object_position": null,
            "object_fit": null,
            "grid_auto_columns": null,
            "margin": null,
            "display": null,
            "left": null
          }
        },
        "dbaa99ecc92041b98763aa788733e65e": {
          "model_module": "@jupyter-widgets/controls",
          "model_name": "LabelModel",
          "state": {
            "_view_name": "LabelView",
            "style": "IPY_MODEL_a81160be001544e298bdbdd09ecf513e",
            "_dom_classes": [],
            "description": "",
            "_model_name": "LabelModel",
            "placeholder": "​",
            "_view_module": "@jupyter-widgets/controls",
            "_model_module_version": "1.5.0",
            "value": " 0.27MB of 0.27MB uploaded (0.00MB deduped)\r",
            "_view_count": null,
            "_view_module_version": "1.5.0",
            "description_tooltip": null,
            "_model_module": "@jupyter-widgets/controls",
            "layout": "IPY_MODEL_2b1fa6855423479b875d6256dc04f7b8"
          }
        },
        "ad887b94a2a54035bf3244d1b5c3c9d6": {
          "model_module": "@jupyter-widgets/controls",
          "model_name": "FloatProgressModel",
          "state": {
            "_view_name": "ProgressView",
            "style": "IPY_MODEL_5186837c6aa04afeaeafb11d35bcdddb",
            "_dom_classes": [],
            "description": "",
            "_model_name": "FloatProgressModel",
            "bar_style": "",
            "max": 1,
            "_view_module": "@jupyter-widgets/controls",
            "_model_module_version": "1.5.0",
            "value": 1,
            "_view_count": null,
            "_view_module_version": "1.5.0",
            "orientation": "horizontal",
            "min": 0,
            "description_tooltip": null,
            "_model_module": "@jupyter-widgets/controls",
            "layout": "IPY_MODEL_28e72a6d42484af8a86937f88908cbe2"
          }
        },
        "a81160be001544e298bdbdd09ecf513e": {
          "model_module": "@jupyter-widgets/controls",
          "model_name": "DescriptionStyleModel",
          "state": {
            "_view_name": "StyleView",
            "_model_name": "DescriptionStyleModel",
            "description_width": "",
            "_view_module": "@jupyter-widgets/base",
            "_model_module_version": "1.5.0",
            "_view_count": null,
            "_view_module_version": "1.2.0",
            "_model_module": "@jupyter-widgets/controls"
          }
        },
        "2b1fa6855423479b875d6256dc04f7b8": {
          "model_module": "@jupyter-widgets/base",
          "model_name": "LayoutModel",
          "state": {
            "_view_name": "LayoutView",
            "grid_template_rows": null,
            "right": null,
            "justify_content": null,
            "_view_module": "@jupyter-widgets/base",
            "overflow": null,
            "_model_module_version": "1.2.0",
            "_view_count": null,
            "flex_flow": null,
            "width": null,
            "min_width": null,
            "border": null,
            "align_items": null,
            "bottom": null,
            "_model_module": "@jupyter-widgets/base",
            "top": null,
            "grid_column": null,
            "overflow_y": null,
            "overflow_x": null,
            "grid_auto_flow": null,
            "grid_area": null,
            "grid_template_columns": null,
            "flex": null,
            "_model_name": "LayoutModel",
            "justify_items": null,
            "grid_row": null,
            "max_height": null,
            "align_content": null,
            "visibility": null,
            "align_self": null,
            "height": null,
            "min_height": null,
            "padding": null,
            "grid_auto_rows": null,
            "grid_gap": null,
            "max_width": null,
            "order": null,
            "_view_module_version": "1.2.0",
            "grid_template_areas": null,
            "object_position": null,
            "object_fit": null,
            "grid_auto_columns": null,
            "margin": null,
            "display": null,
            "left": null
          }
        },
        "5186837c6aa04afeaeafb11d35bcdddb": {
          "model_module": "@jupyter-widgets/controls",
          "model_name": "ProgressStyleModel",
          "state": {
            "_view_name": "StyleView",
            "_model_name": "ProgressStyleModel",
            "description_width": "",
            "_view_module": "@jupyter-widgets/base",
            "_model_module_version": "1.5.0",
            "_view_count": null,
            "_view_module_version": "1.2.0",
            "bar_color": null,
            "_model_module": "@jupyter-widgets/controls"
          }
        },
        "28e72a6d42484af8a86937f88908cbe2": {
          "model_module": "@jupyter-widgets/base",
          "model_name": "LayoutModel",
          "state": {
            "_view_name": "LayoutView",
            "grid_template_rows": null,
            "right": null,
            "justify_content": null,
            "_view_module": "@jupyter-widgets/base",
            "overflow": null,
            "_model_module_version": "1.2.0",
            "_view_count": null,
            "flex_flow": null,
            "width": null,
            "min_width": null,
            "border": null,
            "align_items": null,
            "bottom": null,
            "_model_module": "@jupyter-widgets/base",
            "top": null,
            "grid_column": null,
            "overflow_y": null,
            "overflow_x": null,
            "grid_auto_flow": null,
            "grid_area": null,
            "grid_template_columns": null,
            "flex": null,
            "_model_name": "LayoutModel",
            "justify_items": null,
            "grid_row": null,
            "max_height": null,
            "align_content": null,
            "visibility": null,
            "align_self": null,
            "height": null,
            "min_height": null,
            "padding": null,
            "grid_auto_rows": null,
            "grid_gap": null,
            "max_width": null,
            "order": null,
            "_view_module_version": "1.2.0",
            "grid_template_areas": null,
            "object_position": null,
            "object_fit": null,
            "grid_auto_columns": null,
            "margin": null,
            "display": null,
            "left": null
          }
        },
        "e7763321863d4a77a63b42d3538b531f": {
          "model_module": "@jupyter-widgets/controls",
          "model_name": "VBoxModel",
          "state": {
            "_view_name": "VBoxView",
            "_dom_classes": [],
            "_model_name": "VBoxModel",
            "_view_module": "@jupyter-widgets/controls",
            "_model_module_version": "1.5.0",
            "_view_count": null,
            "_view_module_version": "1.5.0",
            "box_style": "",
            "layout": "IPY_MODEL_4e114728ab514637b8ae11e7fbede1bb",
            "_model_module": "@jupyter-widgets/controls",
            "children": [
              "IPY_MODEL_654daaee00634184986e882fe145ed65",
              "IPY_MODEL_e0f9801ae5ef43bf985ce91d165dd73d"
            ]
          }
        },
        "4e114728ab514637b8ae11e7fbede1bb": {
          "model_module": "@jupyter-widgets/base",
          "model_name": "LayoutModel",
          "state": {
            "_view_name": "LayoutView",
            "grid_template_rows": null,
            "right": null,
            "justify_content": null,
            "_view_module": "@jupyter-widgets/base",
            "overflow": null,
            "_model_module_version": "1.2.0",
            "_view_count": null,
            "flex_flow": null,
            "width": null,
            "min_width": null,
            "border": null,
            "align_items": null,
            "bottom": null,
            "_model_module": "@jupyter-widgets/base",
            "top": null,
            "grid_column": null,
            "overflow_y": null,
            "overflow_x": null,
            "grid_auto_flow": null,
            "grid_area": null,
            "grid_template_columns": null,
            "flex": null,
            "_model_name": "LayoutModel",
            "justify_items": null,
            "grid_row": null,
            "max_height": null,
            "align_content": null,
            "visibility": null,
            "align_self": null,
            "height": null,
            "min_height": null,
            "padding": null,
            "grid_auto_rows": null,
            "grid_gap": null,
            "max_width": null,
            "order": null,
            "_view_module_version": "1.2.0",
            "grid_template_areas": null,
            "object_position": null,
            "object_fit": null,
            "grid_auto_columns": null,
            "margin": null,
            "display": null,
            "left": null
          }
        },
        "654daaee00634184986e882fe145ed65": {
          "model_module": "@jupyter-widgets/controls",
          "model_name": "LabelModel",
          "state": {
            "_view_name": "LabelView",
            "style": "IPY_MODEL_0af32363f4044f90bc9e2875200484d1",
            "_dom_classes": [],
            "description": "",
            "_model_name": "LabelModel",
            "placeholder": "​",
            "_view_module": "@jupyter-widgets/controls",
            "_model_module_version": "1.5.0",
            "value": " 1.06MB of 1.06MB uploaded (0.00MB deduped)\r",
            "_view_count": null,
            "_view_module_version": "1.5.0",
            "description_tooltip": null,
            "_model_module": "@jupyter-widgets/controls",
            "layout": "IPY_MODEL_c00deb8999a4473f8c65678f9a802d05"
          }
        },
        "e0f9801ae5ef43bf985ce91d165dd73d": {
          "model_module": "@jupyter-widgets/controls",
          "model_name": "FloatProgressModel",
          "state": {
            "_view_name": "ProgressView",
            "style": "IPY_MODEL_2defad2cc1664eed962bb40265c228fd",
            "_dom_classes": [],
            "description": "",
            "_model_name": "FloatProgressModel",
            "bar_style": "",
            "max": 1,
            "_view_module": "@jupyter-widgets/controls",
            "_model_module_version": "1.5.0",
            "value": 1,
            "_view_count": null,
            "_view_module_version": "1.5.0",
            "orientation": "horizontal",
            "min": 0,
            "description_tooltip": null,
            "_model_module": "@jupyter-widgets/controls",
            "layout": "IPY_MODEL_230f5d7a6efd48bbab028fe5c88e8cd4"
          }
        },
        "0af32363f4044f90bc9e2875200484d1": {
          "model_module": "@jupyter-widgets/controls",
          "model_name": "DescriptionStyleModel",
          "state": {
            "_view_name": "StyleView",
            "_model_name": "DescriptionStyleModel",
            "description_width": "",
            "_view_module": "@jupyter-widgets/base",
            "_model_module_version": "1.5.0",
            "_view_count": null,
            "_view_module_version": "1.2.0",
            "_model_module": "@jupyter-widgets/controls"
          }
        },
        "c00deb8999a4473f8c65678f9a802d05": {
          "model_module": "@jupyter-widgets/base",
          "model_name": "LayoutModel",
          "state": {
            "_view_name": "LayoutView",
            "grid_template_rows": null,
            "right": null,
            "justify_content": null,
            "_view_module": "@jupyter-widgets/base",
            "overflow": null,
            "_model_module_version": "1.2.0",
            "_view_count": null,
            "flex_flow": null,
            "width": null,
            "min_width": null,
            "border": null,
            "align_items": null,
            "bottom": null,
            "_model_module": "@jupyter-widgets/base",
            "top": null,
            "grid_column": null,
            "overflow_y": null,
            "overflow_x": null,
            "grid_auto_flow": null,
            "grid_area": null,
            "grid_template_columns": null,
            "flex": null,
            "_model_name": "LayoutModel",
            "justify_items": null,
            "grid_row": null,
            "max_height": null,
            "align_content": null,
            "visibility": null,
            "align_self": null,
            "height": null,
            "min_height": null,
            "padding": null,
            "grid_auto_rows": null,
            "grid_gap": null,
            "max_width": null,
            "order": null,
            "_view_module_version": "1.2.0",
            "grid_template_areas": null,
            "object_position": null,
            "object_fit": null,
            "grid_auto_columns": null,
            "margin": null,
            "display": null,
            "left": null
          }
        },
        "2defad2cc1664eed962bb40265c228fd": {
          "model_module": "@jupyter-widgets/controls",
          "model_name": "ProgressStyleModel",
          "state": {
            "_view_name": "StyleView",
            "_model_name": "ProgressStyleModel",
            "description_width": "",
            "_view_module": "@jupyter-widgets/base",
            "_model_module_version": "1.5.0",
            "_view_count": null,
            "_view_module_version": "1.2.0",
            "bar_color": null,
            "_model_module": "@jupyter-widgets/controls"
          }
        },
        "230f5d7a6efd48bbab028fe5c88e8cd4": {
          "model_module": "@jupyter-widgets/base",
          "model_name": "LayoutModel",
          "state": {
            "_view_name": "LayoutView",
            "grid_template_rows": null,
            "right": null,
            "justify_content": null,
            "_view_module": "@jupyter-widgets/base",
            "overflow": null,
            "_model_module_version": "1.2.0",
            "_view_count": null,
            "flex_flow": null,
            "width": null,
            "min_width": null,
            "border": null,
            "align_items": null,
            "bottom": null,
            "_model_module": "@jupyter-widgets/base",
            "top": null,
            "grid_column": null,
            "overflow_y": null,
            "overflow_x": null,
            "grid_auto_flow": null,
            "grid_area": null,
            "grid_template_columns": null,
            "flex": null,
            "_model_name": "LayoutModel",
            "justify_items": null,
            "grid_row": null,
            "max_height": null,
            "align_content": null,
            "visibility": null,
            "align_self": null,
            "height": null,
            "min_height": null,
            "padding": null,
            "grid_auto_rows": null,
            "grid_gap": null,
            "max_width": null,
            "order": null,
            "_view_module_version": "1.2.0",
            "grid_template_areas": null,
            "object_position": null,
            "object_fit": null,
            "grid_auto_columns": null,
            "margin": null,
            "display": null,
            "left": null
          }
        },
        "1cb6f37cb46546aca760a8a7550b02ff": {
          "model_module": "@jupyter-widgets/controls",
          "model_name": "VBoxModel",
          "state": {
            "_view_name": "VBoxView",
            "_dom_classes": [],
            "_model_name": "VBoxModel",
            "_view_module": "@jupyter-widgets/controls",
            "_model_module_version": "1.5.0",
            "_view_count": null,
            "_view_module_version": "1.5.0",
            "box_style": "",
            "layout": "IPY_MODEL_865d3bdea2304e7da8327aaf71b18aaf",
            "_model_module": "@jupyter-widgets/controls",
            "children": [
              "IPY_MODEL_2f6fe4f8b2a84fb8b54ebb35346c0483",
              "IPY_MODEL_479b6b2a96e548f78af05d172c5d9f94"
            ]
          }
        },
        "865d3bdea2304e7da8327aaf71b18aaf": {
          "model_module": "@jupyter-widgets/base",
          "model_name": "LayoutModel",
          "state": {
            "_view_name": "LayoutView",
            "grid_template_rows": null,
            "right": null,
            "justify_content": null,
            "_view_module": "@jupyter-widgets/base",
            "overflow": null,
            "_model_module_version": "1.2.0",
            "_view_count": null,
            "flex_flow": null,
            "width": null,
            "min_width": null,
            "border": null,
            "align_items": null,
            "bottom": null,
            "_model_module": "@jupyter-widgets/base",
            "top": null,
            "grid_column": null,
            "overflow_y": null,
            "overflow_x": null,
            "grid_auto_flow": null,
            "grid_area": null,
            "grid_template_columns": null,
            "flex": null,
            "_model_name": "LayoutModel",
            "justify_items": null,
            "grid_row": null,
            "max_height": null,
            "align_content": null,
            "visibility": null,
            "align_self": null,
            "height": null,
            "min_height": null,
            "padding": null,
            "grid_auto_rows": null,
            "grid_gap": null,
            "max_width": null,
            "order": null,
            "_view_module_version": "1.2.0",
            "grid_template_areas": null,
            "object_position": null,
            "object_fit": null,
            "grid_auto_columns": null,
            "margin": null,
            "display": null,
            "left": null
          }
        },
        "2f6fe4f8b2a84fb8b54ebb35346c0483": {
          "model_module": "@jupyter-widgets/controls",
          "model_name": "LabelModel",
          "state": {
            "_view_name": "LabelView",
            "style": "IPY_MODEL_e011b69a7c1e4a73a128acd570d44a9b",
            "_dom_classes": [],
            "description": "",
            "_model_name": "LabelModel",
            "placeholder": "​",
            "_view_module": "@jupyter-widgets/controls",
            "_model_module_version": "1.5.0",
            "value": " 1.43MB of 1.43MB uploaded (0.00MB deduped)\r",
            "_view_count": null,
            "_view_module_version": "1.5.0",
            "description_tooltip": null,
            "_model_module": "@jupyter-widgets/controls",
            "layout": "IPY_MODEL_fcf71a175ae14ec58456e2bfef49fbcf"
          }
        },
        "479b6b2a96e548f78af05d172c5d9f94": {
          "model_module": "@jupyter-widgets/controls",
          "model_name": "FloatProgressModel",
          "state": {
            "_view_name": "ProgressView",
            "style": "IPY_MODEL_92d3f06aa90346a59b18893c99dd83ac",
            "_dom_classes": [],
            "description": "",
            "_model_name": "FloatProgressModel",
            "bar_style": "",
            "max": 1,
            "_view_module": "@jupyter-widgets/controls",
            "_model_module_version": "1.5.0",
            "value": 1,
            "_view_count": null,
            "_view_module_version": "1.5.0",
            "orientation": "horizontal",
            "min": 0,
            "description_tooltip": null,
            "_model_module": "@jupyter-widgets/controls",
            "layout": "IPY_MODEL_5f6a18d7e88f4b00b270def6637e4261"
          }
        },
        "e011b69a7c1e4a73a128acd570d44a9b": {
          "model_module": "@jupyter-widgets/controls",
          "model_name": "DescriptionStyleModel",
          "state": {
            "_view_name": "StyleView",
            "_model_name": "DescriptionStyleModel",
            "description_width": "",
            "_view_module": "@jupyter-widgets/base",
            "_model_module_version": "1.5.0",
            "_view_count": null,
            "_view_module_version": "1.2.0",
            "_model_module": "@jupyter-widgets/controls"
          }
        },
        "fcf71a175ae14ec58456e2bfef49fbcf": {
          "model_module": "@jupyter-widgets/base",
          "model_name": "LayoutModel",
          "state": {
            "_view_name": "LayoutView",
            "grid_template_rows": null,
            "right": null,
            "justify_content": null,
            "_view_module": "@jupyter-widgets/base",
            "overflow": null,
            "_model_module_version": "1.2.0",
            "_view_count": null,
            "flex_flow": null,
            "width": null,
            "min_width": null,
            "border": null,
            "align_items": null,
            "bottom": null,
            "_model_module": "@jupyter-widgets/base",
            "top": null,
            "grid_column": null,
            "overflow_y": null,
            "overflow_x": null,
            "grid_auto_flow": null,
            "grid_area": null,
            "grid_template_columns": null,
            "flex": null,
            "_model_name": "LayoutModel",
            "justify_items": null,
            "grid_row": null,
            "max_height": null,
            "align_content": null,
            "visibility": null,
            "align_self": null,
            "height": null,
            "min_height": null,
            "padding": null,
            "grid_auto_rows": null,
            "grid_gap": null,
            "max_width": null,
            "order": null,
            "_view_module_version": "1.2.0",
            "grid_template_areas": null,
            "object_position": null,
            "object_fit": null,
            "grid_auto_columns": null,
            "margin": null,
            "display": null,
            "left": null
          }
        },
        "92d3f06aa90346a59b18893c99dd83ac": {
          "model_module": "@jupyter-widgets/controls",
          "model_name": "ProgressStyleModel",
          "state": {
            "_view_name": "StyleView",
            "_model_name": "ProgressStyleModel",
            "description_width": "",
            "_view_module": "@jupyter-widgets/base",
            "_model_module_version": "1.5.0",
            "_view_count": null,
            "_view_module_version": "1.2.0",
            "bar_color": null,
            "_model_module": "@jupyter-widgets/controls"
          }
        },
        "5f6a18d7e88f4b00b270def6637e4261": {
          "model_module": "@jupyter-widgets/base",
          "model_name": "LayoutModel",
          "state": {
            "_view_name": "LayoutView",
            "grid_template_rows": null,
            "right": null,
            "justify_content": null,
            "_view_module": "@jupyter-widgets/base",
            "overflow": null,
            "_model_module_version": "1.2.0",
            "_view_count": null,
            "flex_flow": null,
            "width": null,
            "min_width": null,
            "border": null,
            "align_items": null,
            "bottom": null,
            "_model_module": "@jupyter-widgets/base",
            "top": null,
            "grid_column": null,
            "overflow_y": null,
            "overflow_x": null,
            "grid_auto_flow": null,
            "grid_area": null,
            "grid_template_columns": null,
            "flex": null,
            "_model_name": "LayoutModel",
            "justify_items": null,
            "grid_row": null,
            "max_height": null,
            "align_content": null,
            "visibility": null,
            "align_self": null,
            "height": null,
            "min_height": null,
            "padding": null,
            "grid_auto_rows": null,
            "grid_gap": null,
            "max_width": null,
            "order": null,
            "_view_module_version": "1.2.0",
            "grid_template_areas": null,
            "object_position": null,
            "object_fit": null,
            "grid_auto_columns": null,
            "margin": null,
            "display": null,
            "left": null
          }
        },
        "4fcddb4e904847ca9afe1b735d5e930e": {
          "model_module": "@jupyter-widgets/controls",
          "model_name": "VBoxModel",
          "state": {
            "_view_name": "VBoxView",
            "_dom_classes": [],
            "_model_name": "VBoxModel",
            "_view_module": "@jupyter-widgets/controls",
            "_model_module_version": "1.5.0",
            "_view_count": null,
            "_view_module_version": "1.5.0",
            "box_style": "",
            "layout": "IPY_MODEL_a2ace711186141e792676e54f11d99e8",
            "_model_module": "@jupyter-widgets/controls",
            "children": [
              "IPY_MODEL_7c43460cd559465795db1694e6dd4818",
              "IPY_MODEL_c64ba83c95f842afa1fd2e0cf505241c"
            ]
          }
        },
        "a2ace711186141e792676e54f11d99e8": {
          "model_module": "@jupyter-widgets/base",
          "model_name": "LayoutModel",
          "state": {
            "_view_name": "LayoutView",
            "grid_template_rows": null,
            "right": null,
            "justify_content": null,
            "_view_module": "@jupyter-widgets/base",
            "overflow": null,
            "_model_module_version": "1.2.0",
            "_view_count": null,
            "flex_flow": null,
            "width": null,
            "min_width": null,
            "border": null,
            "align_items": null,
            "bottom": null,
            "_model_module": "@jupyter-widgets/base",
            "top": null,
            "grid_column": null,
            "overflow_y": null,
            "overflow_x": null,
            "grid_auto_flow": null,
            "grid_area": null,
            "grid_template_columns": null,
            "flex": null,
            "_model_name": "LayoutModel",
            "justify_items": null,
            "grid_row": null,
            "max_height": null,
            "align_content": null,
            "visibility": null,
            "align_self": null,
            "height": null,
            "min_height": null,
            "padding": null,
            "grid_auto_rows": null,
            "grid_gap": null,
            "max_width": null,
            "order": null,
            "_view_module_version": "1.2.0",
            "grid_template_areas": null,
            "object_position": null,
            "object_fit": null,
            "grid_auto_columns": null,
            "margin": null,
            "display": null,
            "left": null
          }
        },
        "7c43460cd559465795db1694e6dd4818": {
          "model_module": "@jupyter-widgets/controls",
          "model_name": "LabelModel",
          "state": {
            "_view_name": "LabelView",
            "style": "IPY_MODEL_9497b9e97fd4498297fa86131272ebc7",
            "_dom_classes": [],
            "description": "",
            "_model_name": "LabelModel",
            "placeholder": "​",
            "_view_module": "@jupyter-widgets/controls",
            "_model_module_version": "1.5.0",
            "value": " 1.45MB of 1.45MB uploaded (0.00MB deduped)\r",
            "_view_count": null,
            "_view_module_version": "1.5.0",
            "description_tooltip": null,
            "_model_module": "@jupyter-widgets/controls",
            "layout": "IPY_MODEL_c874c7ad86f842da8a9d17d4eb5e52e1"
          }
        },
        "c64ba83c95f842afa1fd2e0cf505241c": {
          "model_module": "@jupyter-widgets/controls",
          "model_name": "FloatProgressModel",
          "state": {
            "_view_name": "ProgressView",
            "style": "IPY_MODEL_a73f7281c67e41a38a3da8671093bff2",
            "_dom_classes": [],
            "description": "",
            "_model_name": "FloatProgressModel",
            "bar_style": "",
            "max": 1,
            "_view_module": "@jupyter-widgets/controls",
            "_model_module_version": "1.5.0",
            "value": 1,
            "_view_count": null,
            "_view_module_version": "1.5.0",
            "orientation": "horizontal",
            "min": 0,
            "description_tooltip": null,
            "_model_module": "@jupyter-widgets/controls",
            "layout": "IPY_MODEL_c0912ac6e9eb4de5b0f02f2077bc5c87"
          }
        },
        "9497b9e97fd4498297fa86131272ebc7": {
          "model_module": "@jupyter-widgets/controls",
          "model_name": "DescriptionStyleModel",
          "state": {
            "_view_name": "StyleView",
            "_model_name": "DescriptionStyleModel",
            "description_width": "",
            "_view_module": "@jupyter-widgets/base",
            "_model_module_version": "1.5.0",
            "_view_count": null,
            "_view_module_version": "1.2.0",
            "_model_module": "@jupyter-widgets/controls"
          }
        },
        "c874c7ad86f842da8a9d17d4eb5e52e1": {
          "model_module": "@jupyter-widgets/base",
          "model_name": "LayoutModel",
          "state": {
            "_view_name": "LayoutView",
            "grid_template_rows": null,
            "right": null,
            "justify_content": null,
            "_view_module": "@jupyter-widgets/base",
            "overflow": null,
            "_model_module_version": "1.2.0",
            "_view_count": null,
            "flex_flow": null,
            "width": null,
            "min_width": null,
            "border": null,
            "align_items": null,
            "bottom": null,
            "_model_module": "@jupyter-widgets/base",
            "top": null,
            "grid_column": null,
            "overflow_y": null,
            "overflow_x": null,
            "grid_auto_flow": null,
            "grid_area": null,
            "grid_template_columns": null,
            "flex": null,
            "_model_name": "LayoutModel",
            "justify_items": null,
            "grid_row": null,
            "max_height": null,
            "align_content": null,
            "visibility": null,
            "align_self": null,
            "height": null,
            "min_height": null,
            "padding": null,
            "grid_auto_rows": null,
            "grid_gap": null,
            "max_width": null,
            "order": null,
            "_view_module_version": "1.2.0",
            "grid_template_areas": null,
            "object_position": null,
            "object_fit": null,
            "grid_auto_columns": null,
            "margin": null,
            "display": null,
            "left": null
          }
        },
        "a73f7281c67e41a38a3da8671093bff2": {
          "model_module": "@jupyter-widgets/controls",
          "model_name": "ProgressStyleModel",
          "state": {
            "_view_name": "StyleView",
            "_model_name": "ProgressStyleModel",
            "description_width": "",
            "_view_module": "@jupyter-widgets/base",
            "_model_module_version": "1.5.0",
            "_view_count": null,
            "_view_module_version": "1.2.0",
            "bar_color": null,
            "_model_module": "@jupyter-widgets/controls"
          }
        },
        "c0912ac6e9eb4de5b0f02f2077bc5c87": {
          "model_module": "@jupyter-widgets/base",
          "model_name": "LayoutModel",
          "state": {
            "_view_name": "LayoutView",
            "grid_template_rows": null,
            "right": null,
            "justify_content": null,
            "_view_module": "@jupyter-widgets/base",
            "overflow": null,
            "_model_module_version": "1.2.0",
            "_view_count": null,
            "flex_flow": null,
            "width": null,
            "min_width": null,
            "border": null,
            "align_items": null,
            "bottom": null,
            "_model_module": "@jupyter-widgets/base",
            "top": null,
            "grid_column": null,
            "overflow_y": null,
            "overflow_x": null,
            "grid_auto_flow": null,
            "grid_area": null,
            "grid_template_columns": null,
            "flex": null,
            "_model_name": "LayoutModel",
            "justify_items": null,
            "grid_row": null,
            "max_height": null,
            "align_content": null,
            "visibility": null,
            "align_self": null,
            "height": null,
            "min_height": null,
            "padding": null,
            "grid_auto_rows": null,
            "grid_gap": null,
            "max_width": null,
            "order": null,
            "_view_module_version": "1.2.0",
            "grid_template_areas": null,
            "object_position": null,
            "object_fit": null,
            "grid_auto_columns": null,
            "margin": null,
            "display": null,
            "left": null
          }
        },
        "8a57356a012d4e4c89cfaf8e6a0006ce": {
          "model_module": "@jupyter-widgets/controls",
          "model_name": "VBoxModel",
          "state": {
            "_view_name": "VBoxView",
            "_dom_classes": [],
            "_model_name": "VBoxModel",
            "_view_module": "@jupyter-widgets/controls",
            "_model_module_version": "1.5.0",
            "_view_count": null,
            "_view_module_version": "1.5.0",
            "box_style": "",
            "layout": "IPY_MODEL_61c79dba438142408028cbc4945a3b6b",
            "_model_module": "@jupyter-widgets/controls",
            "children": [
              "IPY_MODEL_55f56828ad284cdd93bcd8018dc6973c",
              "IPY_MODEL_5bbeff69b97e4075a4c6f31e83cf331d"
            ]
          }
        },
        "61c79dba438142408028cbc4945a3b6b": {
          "model_module": "@jupyter-widgets/base",
          "model_name": "LayoutModel",
          "state": {
            "_view_name": "LayoutView",
            "grid_template_rows": null,
            "right": null,
            "justify_content": null,
            "_view_module": "@jupyter-widgets/base",
            "overflow": null,
            "_model_module_version": "1.2.0",
            "_view_count": null,
            "flex_flow": null,
            "width": null,
            "min_width": null,
            "border": null,
            "align_items": null,
            "bottom": null,
            "_model_module": "@jupyter-widgets/base",
            "top": null,
            "grid_column": null,
            "overflow_y": null,
            "overflow_x": null,
            "grid_auto_flow": null,
            "grid_area": null,
            "grid_template_columns": null,
            "flex": null,
            "_model_name": "LayoutModel",
            "justify_items": null,
            "grid_row": null,
            "max_height": null,
            "align_content": null,
            "visibility": null,
            "align_self": null,
            "height": null,
            "min_height": null,
            "padding": null,
            "grid_auto_rows": null,
            "grid_gap": null,
            "max_width": null,
            "order": null,
            "_view_module_version": "1.2.0",
            "grid_template_areas": null,
            "object_position": null,
            "object_fit": null,
            "grid_auto_columns": null,
            "margin": null,
            "display": null,
            "left": null
          }
        },
        "55f56828ad284cdd93bcd8018dc6973c": {
          "model_module": "@jupyter-widgets/controls",
          "model_name": "LabelModel",
          "state": {
            "_view_name": "LabelView",
            "style": "IPY_MODEL_5a3e2e00c0664aa5b716067a76db6f7c",
            "_dom_classes": [],
            "description": "",
            "_model_name": "LabelModel",
            "placeholder": "​",
            "_view_module": "@jupyter-widgets/controls",
            "_model_module_version": "1.5.0",
            "value": " 1.13MB of 1.13MB uploaded (0.00MB deduped)\r",
            "_view_count": null,
            "_view_module_version": "1.5.0",
            "description_tooltip": null,
            "_model_module": "@jupyter-widgets/controls",
            "layout": "IPY_MODEL_fc4275d94cbb4ed4bdf86963a22dfc1e"
          }
        },
        "5bbeff69b97e4075a4c6f31e83cf331d": {
          "model_module": "@jupyter-widgets/controls",
          "model_name": "FloatProgressModel",
          "state": {
            "_view_name": "ProgressView",
            "style": "IPY_MODEL_c8ca59c56956497b812e06771dd81476",
            "_dom_classes": [],
            "description": "",
            "_model_name": "FloatProgressModel",
            "bar_style": "",
            "max": 1,
            "_view_module": "@jupyter-widgets/controls",
            "_model_module_version": "1.5.0",
            "value": 1,
            "_view_count": null,
            "_view_module_version": "1.5.0",
            "orientation": "horizontal",
            "min": 0,
            "description_tooltip": null,
            "_model_module": "@jupyter-widgets/controls",
            "layout": "IPY_MODEL_9ee3b18bd45541259ee637f802e613aa"
          }
        },
        "5a3e2e00c0664aa5b716067a76db6f7c": {
          "model_module": "@jupyter-widgets/controls",
          "model_name": "DescriptionStyleModel",
          "state": {
            "_view_name": "StyleView",
            "_model_name": "DescriptionStyleModel",
            "description_width": "",
            "_view_module": "@jupyter-widgets/base",
            "_model_module_version": "1.5.0",
            "_view_count": null,
            "_view_module_version": "1.2.0",
            "_model_module": "@jupyter-widgets/controls"
          }
        },
        "fc4275d94cbb4ed4bdf86963a22dfc1e": {
          "model_module": "@jupyter-widgets/base",
          "model_name": "LayoutModel",
          "state": {
            "_view_name": "LayoutView",
            "grid_template_rows": null,
            "right": null,
            "justify_content": null,
            "_view_module": "@jupyter-widgets/base",
            "overflow": null,
            "_model_module_version": "1.2.0",
            "_view_count": null,
            "flex_flow": null,
            "width": null,
            "min_width": null,
            "border": null,
            "align_items": null,
            "bottom": null,
            "_model_module": "@jupyter-widgets/base",
            "top": null,
            "grid_column": null,
            "overflow_y": null,
            "overflow_x": null,
            "grid_auto_flow": null,
            "grid_area": null,
            "grid_template_columns": null,
            "flex": null,
            "_model_name": "LayoutModel",
            "justify_items": null,
            "grid_row": null,
            "max_height": null,
            "align_content": null,
            "visibility": null,
            "align_self": null,
            "height": null,
            "min_height": null,
            "padding": null,
            "grid_auto_rows": null,
            "grid_gap": null,
            "max_width": null,
            "order": null,
            "_view_module_version": "1.2.0",
            "grid_template_areas": null,
            "object_position": null,
            "object_fit": null,
            "grid_auto_columns": null,
            "margin": null,
            "display": null,
            "left": null
          }
        },
        "c8ca59c56956497b812e06771dd81476": {
          "model_module": "@jupyter-widgets/controls",
          "model_name": "ProgressStyleModel",
          "state": {
            "_view_name": "StyleView",
            "_model_name": "ProgressStyleModel",
            "description_width": "",
            "_view_module": "@jupyter-widgets/base",
            "_model_module_version": "1.5.0",
            "_view_count": null,
            "_view_module_version": "1.2.0",
            "bar_color": null,
            "_model_module": "@jupyter-widgets/controls"
          }
        },
        "9ee3b18bd45541259ee637f802e613aa": {
          "model_module": "@jupyter-widgets/base",
          "model_name": "LayoutModel",
          "state": {
            "_view_name": "LayoutView",
            "grid_template_rows": null,
            "right": null,
            "justify_content": null,
            "_view_module": "@jupyter-widgets/base",
            "overflow": null,
            "_model_module_version": "1.2.0",
            "_view_count": null,
            "flex_flow": null,
            "width": null,
            "min_width": null,
            "border": null,
            "align_items": null,
            "bottom": null,
            "_model_module": "@jupyter-widgets/base",
            "top": null,
            "grid_column": null,
            "overflow_y": null,
            "overflow_x": null,
            "grid_auto_flow": null,
            "grid_area": null,
            "grid_template_columns": null,
            "flex": null,
            "_model_name": "LayoutModel",
            "justify_items": null,
            "grid_row": null,
            "max_height": null,
            "align_content": null,
            "visibility": null,
            "align_self": null,
            "height": null,
            "min_height": null,
            "padding": null,
            "grid_auto_rows": null,
            "grid_gap": null,
            "max_width": null,
            "order": null,
            "_view_module_version": "1.2.0",
            "grid_template_areas": null,
            "object_position": null,
            "object_fit": null,
            "grid_auto_columns": null,
            "margin": null,
            "display": null,
            "left": null
          }
        },
        "cd766f6639bf4b27aeb7ce413ba74a9b": {
          "model_module": "@jupyter-widgets/controls",
          "model_name": "VBoxModel",
          "state": {
            "_view_name": "VBoxView",
            "_dom_classes": [],
            "_model_name": "VBoxModel",
            "_view_module": "@jupyter-widgets/controls",
            "_model_module_version": "1.5.0",
            "_view_count": null,
            "_view_module_version": "1.5.0",
            "box_style": "",
            "layout": "IPY_MODEL_190bfdf0575d4004865a6d32b6a21966",
            "_model_module": "@jupyter-widgets/controls",
            "children": [
              "IPY_MODEL_8a8b528bc4d841a0b2cfcd87482cbb2f",
              "IPY_MODEL_74519ecb40104570a70dbbe6caa855aa"
            ]
          }
        },
        "190bfdf0575d4004865a6d32b6a21966": {
          "model_module": "@jupyter-widgets/base",
          "model_name": "LayoutModel",
          "state": {
            "_view_name": "LayoutView",
            "grid_template_rows": null,
            "right": null,
            "justify_content": null,
            "_view_module": "@jupyter-widgets/base",
            "overflow": null,
            "_model_module_version": "1.2.0",
            "_view_count": null,
            "flex_flow": null,
            "width": null,
            "min_width": null,
            "border": null,
            "align_items": null,
            "bottom": null,
            "_model_module": "@jupyter-widgets/base",
            "top": null,
            "grid_column": null,
            "overflow_y": null,
            "overflow_x": null,
            "grid_auto_flow": null,
            "grid_area": null,
            "grid_template_columns": null,
            "flex": null,
            "_model_name": "LayoutModel",
            "justify_items": null,
            "grid_row": null,
            "max_height": null,
            "align_content": null,
            "visibility": null,
            "align_self": null,
            "height": null,
            "min_height": null,
            "padding": null,
            "grid_auto_rows": null,
            "grid_gap": null,
            "max_width": null,
            "order": null,
            "_view_module_version": "1.2.0",
            "grid_template_areas": null,
            "object_position": null,
            "object_fit": null,
            "grid_auto_columns": null,
            "margin": null,
            "display": null,
            "left": null
          }
        },
        "8a8b528bc4d841a0b2cfcd87482cbb2f": {
          "model_module": "@jupyter-widgets/controls",
          "model_name": "LabelModel",
          "state": {
            "_view_name": "LabelView",
            "style": "IPY_MODEL_9045be2075fa4bdfbacfb6eb7a9faf6d",
            "_dom_classes": [],
            "description": "",
            "_model_name": "LabelModel",
            "placeholder": "​",
            "_view_module": "@jupyter-widgets/controls",
            "_model_module_version": "1.5.0",
            "value": " 1.13MB of 1.13MB uploaded (0.00MB deduped)\r",
            "_view_count": null,
            "_view_module_version": "1.5.0",
            "description_tooltip": null,
            "_model_module": "@jupyter-widgets/controls",
            "layout": "IPY_MODEL_19298aca45d143e2bcb806ba0b016f56"
          }
        },
        "74519ecb40104570a70dbbe6caa855aa": {
          "model_module": "@jupyter-widgets/controls",
          "model_name": "FloatProgressModel",
          "state": {
            "_view_name": "ProgressView",
            "style": "IPY_MODEL_60a3bf5268564b43b4e7df0bcf1dbb61",
            "_dom_classes": [],
            "description": "",
            "_model_name": "FloatProgressModel",
            "bar_style": "",
            "max": 1,
            "_view_module": "@jupyter-widgets/controls",
            "_model_module_version": "1.5.0",
            "value": 1,
            "_view_count": null,
            "_view_module_version": "1.5.0",
            "orientation": "horizontal",
            "min": 0,
            "description_tooltip": null,
            "_model_module": "@jupyter-widgets/controls",
            "layout": "IPY_MODEL_f1ecf0071c9c4e819017174d67f9df30"
          }
        },
        "9045be2075fa4bdfbacfb6eb7a9faf6d": {
          "model_module": "@jupyter-widgets/controls",
          "model_name": "DescriptionStyleModel",
          "state": {
            "_view_name": "StyleView",
            "_model_name": "DescriptionStyleModel",
            "description_width": "",
            "_view_module": "@jupyter-widgets/base",
            "_model_module_version": "1.5.0",
            "_view_count": null,
            "_view_module_version": "1.2.0",
            "_model_module": "@jupyter-widgets/controls"
          }
        },
        "19298aca45d143e2bcb806ba0b016f56": {
          "model_module": "@jupyter-widgets/base",
          "model_name": "LayoutModel",
          "state": {
            "_view_name": "LayoutView",
            "grid_template_rows": null,
            "right": null,
            "justify_content": null,
            "_view_module": "@jupyter-widgets/base",
            "overflow": null,
            "_model_module_version": "1.2.0",
            "_view_count": null,
            "flex_flow": null,
            "width": null,
            "min_width": null,
            "border": null,
            "align_items": null,
            "bottom": null,
            "_model_module": "@jupyter-widgets/base",
            "top": null,
            "grid_column": null,
            "overflow_y": null,
            "overflow_x": null,
            "grid_auto_flow": null,
            "grid_area": null,
            "grid_template_columns": null,
            "flex": null,
            "_model_name": "LayoutModel",
            "justify_items": null,
            "grid_row": null,
            "max_height": null,
            "align_content": null,
            "visibility": null,
            "align_self": null,
            "height": null,
            "min_height": null,
            "padding": null,
            "grid_auto_rows": null,
            "grid_gap": null,
            "max_width": null,
            "order": null,
            "_view_module_version": "1.2.0",
            "grid_template_areas": null,
            "object_position": null,
            "object_fit": null,
            "grid_auto_columns": null,
            "margin": null,
            "display": null,
            "left": null
          }
        },
        "60a3bf5268564b43b4e7df0bcf1dbb61": {
          "model_module": "@jupyter-widgets/controls",
          "model_name": "ProgressStyleModel",
          "state": {
            "_view_name": "StyleView",
            "_model_name": "ProgressStyleModel",
            "description_width": "",
            "_view_module": "@jupyter-widgets/base",
            "_model_module_version": "1.5.0",
            "_view_count": null,
            "_view_module_version": "1.2.0",
            "bar_color": null,
            "_model_module": "@jupyter-widgets/controls"
          }
        },
        "f1ecf0071c9c4e819017174d67f9df30": {
          "model_module": "@jupyter-widgets/base",
          "model_name": "LayoutModel",
          "state": {
            "_view_name": "LayoutView",
            "grid_template_rows": null,
            "right": null,
            "justify_content": null,
            "_view_module": "@jupyter-widgets/base",
            "overflow": null,
            "_model_module_version": "1.2.0",
            "_view_count": null,
            "flex_flow": null,
            "width": null,
            "min_width": null,
            "border": null,
            "align_items": null,
            "bottom": null,
            "_model_module": "@jupyter-widgets/base",
            "top": null,
            "grid_column": null,
            "overflow_y": null,
            "overflow_x": null,
            "grid_auto_flow": null,
            "grid_area": null,
            "grid_template_columns": null,
            "flex": null,
            "_model_name": "LayoutModel",
            "justify_items": null,
            "grid_row": null,
            "max_height": null,
            "align_content": null,
            "visibility": null,
            "align_self": null,
            "height": null,
            "min_height": null,
            "padding": null,
            "grid_auto_rows": null,
            "grid_gap": null,
            "max_width": null,
            "order": null,
            "_view_module_version": "1.2.0",
            "grid_template_areas": null,
            "object_position": null,
            "object_fit": null,
            "grid_auto_columns": null,
            "margin": null,
            "display": null,
            "left": null
          }
        },
        "393ac7b5414c4af1a355ffe72b6b45e5": {
          "model_module": "@jupyter-widgets/controls",
          "model_name": "VBoxModel",
          "state": {
            "_view_name": "VBoxView",
            "_dom_classes": [],
            "_model_name": "VBoxModel",
            "_view_module": "@jupyter-widgets/controls",
            "_model_module_version": "1.5.0",
            "_view_count": null,
            "_view_module_version": "1.5.0",
            "box_style": "",
            "layout": "IPY_MODEL_7a9018c3d14f4cc49018aec1ca9ec7d2",
            "_model_module": "@jupyter-widgets/controls",
            "children": [
              "IPY_MODEL_e2f409f269ea45bc9b1f256e363ab573",
              "IPY_MODEL_ffc9140e650f40aeaeea15d8894ef2c6"
            ]
          }
        },
        "7a9018c3d14f4cc49018aec1ca9ec7d2": {
          "model_module": "@jupyter-widgets/base",
          "model_name": "LayoutModel",
          "state": {
            "_view_name": "LayoutView",
            "grid_template_rows": null,
            "right": null,
            "justify_content": null,
            "_view_module": "@jupyter-widgets/base",
            "overflow": null,
            "_model_module_version": "1.2.0",
            "_view_count": null,
            "flex_flow": null,
            "width": null,
            "min_width": null,
            "border": null,
            "align_items": null,
            "bottom": null,
            "_model_module": "@jupyter-widgets/base",
            "top": null,
            "grid_column": null,
            "overflow_y": null,
            "overflow_x": null,
            "grid_auto_flow": null,
            "grid_area": null,
            "grid_template_columns": null,
            "flex": null,
            "_model_name": "LayoutModel",
            "justify_items": null,
            "grid_row": null,
            "max_height": null,
            "align_content": null,
            "visibility": null,
            "align_self": null,
            "height": null,
            "min_height": null,
            "padding": null,
            "grid_auto_rows": null,
            "grid_gap": null,
            "max_width": null,
            "order": null,
            "_view_module_version": "1.2.0",
            "grid_template_areas": null,
            "object_position": null,
            "object_fit": null,
            "grid_auto_columns": null,
            "margin": null,
            "display": null,
            "left": null
          }
        },
        "e2f409f269ea45bc9b1f256e363ab573": {
          "model_module": "@jupyter-widgets/controls",
          "model_name": "LabelModel",
          "state": {
            "_view_name": "LabelView",
            "style": "IPY_MODEL_03dd38341a004cf1af16440dbf6dd279",
            "_dom_classes": [],
            "description": "",
            "_model_name": "LabelModel",
            "placeholder": "​",
            "_view_module": "@jupyter-widgets/controls",
            "_model_module_version": "1.5.0",
            "value": " 1.52MB of 1.52MB uploaded (0.00MB deduped)\r",
            "_view_count": null,
            "_view_module_version": "1.5.0",
            "description_tooltip": null,
            "_model_module": "@jupyter-widgets/controls",
            "layout": "IPY_MODEL_a1cf7b4fd209476dab0313fa8bd99b07"
          }
        },
        "ffc9140e650f40aeaeea15d8894ef2c6": {
          "model_module": "@jupyter-widgets/controls",
          "model_name": "FloatProgressModel",
          "state": {
            "_view_name": "ProgressView",
            "style": "IPY_MODEL_7cc251f0e8004403bf2c544993e3afc1",
            "_dom_classes": [],
            "description": "",
            "_model_name": "FloatProgressModel",
            "bar_style": "",
            "max": 1,
            "_view_module": "@jupyter-widgets/controls",
            "_model_module_version": "1.5.0",
            "value": 1,
            "_view_count": null,
            "_view_module_version": "1.5.0",
            "orientation": "horizontal",
            "min": 0,
            "description_tooltip": null,
            "_model_module": "@jupyter-widgets/controls",
            "layout": "IPY_MODEL_f94bd771e86e4bf3bb1b9f196b9fa2f9"
          }
        },
        "03dd38341a004cf1af16440dbf6dd279": {
          "model_module": "@jupyter-widgets/controls",
          "model_name": "DescriptionStyleModel",
          "state": {
            "_view_name": "StyleView",
            "_model_name": "DescriptionStyleModel",
            "description_width": "",
            "_view_module": "@jupyter-widgets/base",
            "_model_module_version": "1.5.0",
            "_view_count": null,
            "_view_module_version": "1.2.0",
            "_model_module": "@jupyter-widgets/controls"
          }
        },
        "a1cf7b4fd209476dab0313fa8bd99b07": {
          "model_module": "@jupyter-widgets/base",
          "model_name": "LayoutModel",
          "state": {
            "_view_name": "LayoutView",
            "grid_template_rows": null,
            "right": null,
            "justify_content": null,
            "_view_module": "@jupyter-widgets/base",
            "overflow": null,
            "_model_module_version": "1.2.0",
            "_view_count": null,
            "flex_flow": null,
            "width": null,
            "min_width": null,
            "border": null,
            "align_items": null,
            "bottom": null,
            "_model_module": "@jupyter-widgets/base",
            "top": null,
            "grid_column": null,
            "overflow_y": null,
            "overflow_x": null,
            "grid_auto_flow": null,
            "grid_area": null,
            "grid_template_columns": null,
            "flex": null,
            "_model_name": "LayoutModel",
            "justify_items": null,
            "grid_row": null,
            "max_height": null,
            "align_content": null,
            "visibility": null,
            "align_self": null,
            "height": null,
            "min_height": null,
            "padding": null,
            "grid_auto_rows": null,
            "grid_gap": null,
            "max_width": null,
            "order": null,
            "_view_module_version": "1.2.0",
            "grid_template_areas": null,
            "object_position": null,
            "object_fit": null,
            "grid_auto_columns": null,
            "margin": null,
            "display": null,
            "left": null
          }
        },
        "7cc251f0e8004403bf2c544993e3afc1": {
          "model_module": "@jupyter-widgets/controls",
          "model_name": "ProgressStyleModel",
          "state": {
            "_view_name": "StyleView",
            "_model_name": "ProgressStyleModel",
            "description_width": "",
            "_view_module": "@jupyter-widgets/base",
            "_model_module_version": "1.5.0",
            "_view_count": null,
            "_view_module_version": "1.2.0",
            "bar_color": null,
            "_model_module": "@jupyter-widgets/controls"
          }
        },
        "f94bd771e86e4bf3bb1b9f196b9fa2f9": {
          "model_module": "@jupyter-widgets/base",
          "model_name": "LayoutModel",
          "state": {
            "_view_name": "LayoutView",
            "grid_template_rows": null,
            "right": null,
            "justify_content": null,
            "_view_module": "@jupyter-widgets/base",
            "overflow": null,
            "_model_module_version": "1.2.0",
            "_view_count": null,
            "flex_flow": null,
            "width": null,
            "min_width": null,
            "border": null,
            "align_items": null,
            "bottom": null,
            "_model_module": "@jupyter-widgets/base",
            "top": null,
            "grid_column": null,
            "overflow_y": null,
            "overflow_x": null,
            "grid_auto_flow": null,
            "grid_area": null,
            "grid_template_columns": null,
            "flex": null,
            "_model_name": "LayoutModel",
            "justify_items": null,
            "grid_row": null,
            "max_height": null,
            "align_content": null,
            "visibility": null,
            "align_self": null,
            "height": null,
            "min_height": null,
            "padding": null,
            "grid_auto_rows": null,
            "grid_gap": null,
            "max_width": null,
            "order": null,
            "_view_module_version": "1.2.0",
            "grid_template_areas": null,
            "object_position": null,
            "object_fit": null,
            "grid_auto_columns": null,
            "margin": null,
            "display": null,
            "left": null
          }
        },
        "56536bd0113c4787bfc4998a990cea8a": {
          "model_module": "@jupyter-widgets/controls",
          "model_name": "VBoxModel",
          "state": {
            "_view_name": "VBoxView",
            "_dom_classes": [],
            "_model_name": "VBoxModel",
            "_view_module": "@jupyter-widgets/controls",
            "_model_module_version": "1.5.0",
            "_view_count": null,
            "_view_module_version": "1.5.0",
            "box_style": "",
            "layout": "IPY_MODEL_1f69a07e2a7945a6bb91de2dd192fabf",
            "_model_module": "@jupyter-widgets/controls",
            "children": [
              "IPY_MODEL_435b4c795e9643e895990d6f18aeb7ea",
              "IPY_MODEL_b3bc5073088848228384c40b9f59cbed"
            ]
          }
        },
        "1f69a07e2a7945a6bb91de2dd192fabf": {
          "model_module": "@jupyter-widgets/base",
          "model_name": "LayoutModel",
          "state": {
            "_view_name": "LayoutView",
            "grid_template_rows": null,
            "right": null,
            "justify_content": null,
            "_view_module": "@jupyter-widgets/base",
            "overflow": null,
            "_model_module_version": "1.2.0",
            "_view_count": null,
            "flex_flow": null,
            "width": null,
            "min_width": null,
            "border": null,
            "align_items": null,
            "bottom": null,
            "_model_module": "@jupyter-widgets/base",
            "top": null,
            "grid_column": null,
            "overflow_y": null,
            "overflow_x": null,
            "grid_auto_flow": null,
            "grid_area": null,
            "grid_template_columns": null,
            "flex": null,
            "_model_name": "LayoutModel",
            "justify_items": null,
            "grid_row": null,
            "max_height": null,
            "align_content": null,
            "visibility": null,
            "align_self": null,
            "height": null,
            "min_height": null,
            "padding": null,
            "grid_auto_rows": null,
            "grid_gap": null,
            "max_width": null,
            "order": null,
            "_view_module_version": "1.2.0",
            "grid_template_areas": null,
            "object_position": null,
            "object_fit": null,
            "grid_auto_columns": null,
            "margin": null,
            "display": null,
            "left": null
          }
        },
        "435b4c795e9643e895990d6f18aeb7ea": {
          "model_module": "@jupyter-widgets/controls",
          "model_name": "LabelModel",
          "state": {
            "_view_name": "LabelView",
            "style": "IPY_MODEL_381c6d51424a4ab3860f707d2ded53e8",
            "_dom_classes": [],
            "description": "",
            "_model_name": "LabelModel",
            "placeholder": "​",
            "_view_module": "@jupyter-widgets/controls",
            "_model_module_version": "1.5.0",
            "value": " 1.19MB of 1.19MB uploaded (0.00MB deduped)\r",
            "_view_count": null,
            "_view_module_version": "1.5.0",
            "description_tooltip": null,
            "_model_module": "@jupyter-widgets/controls",
            "layout": "IPY_MODEL_039cf0b4c99846198e092556eabbf4e5"
          }
        },
        "b3bc5073088848228384c40b9f59cbed": {
          "model_module": "@jupyter-widgets/controls",
          "model_name": "FloatProgressModel",
          "state": {
            "_view_name": "ProgressView",
            "style": "IPY_MODEL_6923f36dc6f547c2b9bf1eff88d4ead3",
            "_dom_classes": [],
            "description": "",
            "_model_name": "FloatProgressModel",
            "bar_style": "",
            "max": 1,
            "_view_module": "@jupyter-widgets/controls",
            "_model_module_version": "1.5.0",
            "value": 1,
            "_view_count": null,
            "_view_module_version": "1.5.0",
            "orientation": "horizontal",
            "min": 0,
            "description_tooltip": null,
            "_model_module": "@jupyter-widgets/controls",
            "layout": "IPY_MODEL_058c5e1e231940358abda38b986356f2"
          }
        },
        "381c6d51424a4ab3860f707d2ded53e8": {
          "model_module": "@jupyter-widgets/controls",
          "model_name": "DescriptionStyleModel",
          "state": {
            "_view_name": "StyleView",
            "_model_name": "DescriptionStyleModel",
            "description_width": "",
            "_view_module": "@jupyter-widgets/base",
            "_model_module_version": "1.5.0",
            "_view_count": null,
            "_view_module_version": "1.2.0",
            "_model_module": "@jupyter-widgets/controls"
          }
        },
        "039cf0b4c99846198e092556eabbf4e5": {
          "model_module": "@jupyter-widgets/base",
          "model_name": "LayoutModel",
          "state": {
            "_view_name": "LayoutView",
            "grid_template_rows": null,
            "right": null,
            "justify_content": null,
            "_view_module": "@jupyter-widgets/base",
            "overflow": null,
            "_model_module_version": "1.2.0",
            "_view_count": null,
            "flex_flow": null,
            "width": null,
            "min_width": null,
            "border": null,
            "align_items": null,
            "bottom": null,
            "_model_module": "@jupyter-widgets/base",
            "top": null,
            "grid_column": null,
            "overflow_y": null,
            "overflow_x": null,
            "grid_auto_flow": null,
            "grid_area": null,
            "grid_template_columns": null,
            "flex": null,
            "_model_name": "LayoutModel",
            "justify_items": null,
            "grid_row": null,
            "max_height": null,
            "align_content": null,
            "visibility": null,
            "align_self": null,
            "height": null,
            "min_height": null,
            "padding": null,
            "grid_auto_rows": null,
            "grid_gap": null,
            "max_width": null,
            "order": null,
            "_view_module_version": "1.2.0",
            "grid_template_areas": null,
            "object_position": null,
            "object_fit": null,
            "grid_auto_columns": null,
            "margin": null,
            "display": null,
            "left": null
          }
        },
        "6923f36dc6f547c2b9bf1eff88d4ead3": {
          "model_module": "@jupyter-widgets/controls",
          "model_name": "ProgressStyleModel",
          "state": {
            "_view_name": "StyleView",
            "_model_name": "ProgressStyleModel",
            "description_width": "",
            "_view_module": "@jupyter-widgets/base",
            "_model_module_version": "1.5.0",
            "_view_count": null,
            "_view_module_version": "1.2.0",
            "bar_color": null,
            "_model_module": "@jupyter-widgets/controls"
          }
        },
        "058c5e1e231940358abda38b986356f2": {
          "model_module": "@jupyter-widgets/base",
          "model_name": "LayoutModel",
          "state": {
            "_view_name": "LayoutView",
            "grid_template_rows": null,
            "right": null,
            "justify_content": null,
            "_view_module": "@jupyter-widgets/base",
            "overflow": null,
            "_model_module_version": "1.2.0",
            "_view_count": null,
            "flex_flow": null,
            "width": null,
            "min_width": null,
            "border": null,
            "align_items": null,
            "bottom": null,
            "_model_module": "@jupyter-widgets/base",
            "top": null,
            "grid_column": null,
            "overflow_y": null,
            "overflow_x": null,
            "grid_auto_flow": null,
            "grid_area": null,
            "grid_template_columns": null,
            "flex": null,
            "_model_name": "LayoutModel",
            "justify_items": null,
            "grid_row": null,
            "max_height": null,
            "align_content": null,
            "visibility": null,
            "align_self": null,
            "height": null,
            "min_height": null,
            "padding": null,
            "grid_auto_rows": null,
            "grid_gap": null,
            "max_width": null,
            "order": null,
            "_view_module_version": "1.2.0",
            "grid_template_areas": null,
            "object_position": null,
            "object_fit": null,
            "grid_auto_columns": null,
            "margin": null,
            "display": null,
            "left": null
          }
        },
        "5ff7b3d190db4854941eb0c45984caf5": {
          "model_module": "@jupyter-widgets/controls",
          "model_name": "VBoxModel",
          "state": {
            "_view_name": "VBoxView",
            "_dom_classes": [],
            "_model_name": "VBoxModel",
            "_view_module": "@jupyter-widgets/controls",
            "_model_module_version": "1.5.0",
            "_view_count": null,
            "_view_module_version": "1.5.0",
            "box_style": "",
            "layout": "IPY_MODEL_ec5eccccf17547d88b2016ef10935764",
            "_model_module": "@jupyter-widgets/controls",
            "children": [
              "IPY_MODEL_b7991f2e0eab43a6ae221ec248f421f4",
              "IPY_MODEL_6c8c179c481440c19aa30c0992e8a539"
            ]
          }
        },
        "ec5eccccf17547d88b2016ef10935764": {
          "model_module": "@jupyter-widgets/base",
          "model_name": "LayoutModel",
          "state": {
            "_view_name": "LayoutView",
            "grid_template_rows": null,
            "right": null,
            "justify_content": null,
            "_view_module": "@jupyter-widgets/base",
            "overflow": null,
            "_model_module_version": "1.2.0",
            "_view_count": null,
            "flex_flow": null,
            "width": null,
            "min_width": null,
            "border": null,
            "align_items": null,
            "bottom": null,
            "_model_module": "@jupyter-widgets/base",
            "top": null,
            "grid_column": null,
            "overflow_y": null,
            "overflow_x": null,
            "grid_auto_flow": null,
            "grid_area": null,
            "grid_template_columns": null,
            "flex": null,
            "_model_name": "LayoutModel",
            "justify_items": null,
            "grid_row": null,
            "max_height": null,
            "align_content": null,
            "visibility": null,
            "align_self": null,
            "height": null,
            "min_height": null,
            "padding": null,
            "grid_auto_rows": null,
            "grid_gap": null,
            "max_width": null,
            "order": null,
            "_view_module_version": "1.2.0",
            "grid_template_areas": null,
            "object_position": null,
            "object_fit": null,
            "grid_auto_columns": null,
            "margin": null,
            "display": null,
            "left": null
          }
        },
        "b7991f2e0eab43a6ae221ec248f421f4": {
          "model_module": "@jupyter-widgets/controls",
          "model_name": "LabelModel",
          "state": {
            "_view_name": "LabelView",
            "style": "IPY_MODEL_2125d6dcb55f4fcc9fc57ecf7333ab55",
            "_dom_classes": [],
            "description": "",
            "_model_name": "LabelModel",
            "placeholder": "​",
            "_view_module": "@jupyter-widgets/controls",
            "_model_module_version": "1.5.0",
            "value": " 1.56MB of 1.56MB uploaded (0.00MB deduped)\r",
            "_view_count": null,
            "_view_module_version": "1.5.0",
            "description_tooltip": null,
            "_model_module": "@jupyter-widgets/controls",
            "layout": "IPY_MODEL_871a0002887d4ece96cb7efd05044abd"
          }
        },
        "6c8c179c481440c19aa30c0992e8a539": {
          "model_module": "@jupyter-widgets/controls",
          "model_name": "FloatProgressModel",
          "state": {
            "_view_name": "ProgressView",
            "style": "IPY_MODEL_aa73f90ea6964227ab362ee03c400fae",
            "_dom_classes": [],
            "description": "",
            "_model_name": "FloatProgressModel",
            "bar_style": "",
            "max": 1,
            "_view_module": "@jupyter-widgets/controls",
            "_model_module_version": "1.5.0",
            "value": 1,
            "_view_count": null,
            "_view_module_version": "1.5.0",
            "orientation": "horizontal",
            "min": 0,
            "description_tooltip": null,
            "_model_module": "@jupyter-widgets/controls",
            "layout": "IPY_MODEL_285c67d7bd264f80b4e65cd52f483457"
          }
        },
        "2125d6dcb55f4fcc9fc57ecf7333ab55": {
          "model_module": "@jupyter-widgets/controls",
          "model_name": "DescriptionStyleModel",
          "state": {
            "_view_name": "StyleView",
            "_model_name": "DescriptionStyleModel",
            "description_width": "",
            "_view_module": "@jupyter-widgets/base",
            "_model_module_version": "1.5.0",
            "_view_count": null,
            "_view_module_version": "1.2.0",
            "_model_module": "@jupyter-widgets/controls"
          }
        },
        "871a0002887d4ece96cb7efd05044abd": {
          "model_module": "@jupyter-widgets/base",
          "model_name": "LayoutModel",
          "state": {
            "_view_name": "LayoutView",
            "grid_template_rows": null,
            "right": null,
            "justify_content": null,
            "_view_module": "@jupyter-widgets/base",
            "overflow": null,
            "_model_module_version": "1.2.0",
            "_view_count": null,
            "flex_flow": null,
            "width": null,
            "min_width": null,
            "border": null,
            "align_items": null,
            "bottom": null,
            "_model_module": "@jupyter-widgets/base",
            "top": null,
            "grid_column": null,
            "overflow_y": null,
            "overflow_x": null,
            "grid_auto_flow": null,
            "grid_area": null,
            "grid_template_columns": null,
            "flex": null,
            "_model_name": "LayoutModel",
            "justify_items": null,
            "grid_row": null,
            "max_height": null,
            "align_content": null,
            "visibility": null,
            "align_self": null,
            "height": null,
            "min_height": null,
            "padding": null,
            "grid_auto_rows": null,
            "grid_gap": null,
            "max_width": null,
            "order": null,
            "_view_module_version": "1.2.0",
            "grid_template_areas": null,
            "object_position": null,
            "object_fit": null,
            "grid_auto_columns": null,
            "margin": null,
            "display": null,
            "left": null
          }
        },
        "aa73f90ea6964227ab362ee03c400fae": {
          "model_module": "@jupyter-widgets/controls",
          "model_name": "ProgressStyleModel",
          "state": {
            "_view_name": "StyleView",
            "_model_name": "ProgressStyleModel",
            "description_width": "",
            "_view_module": "@jupyter-widgets/base",
            "_model_module_version": "1.5.0",
            "_view_count": null,
            "_view_module_version": "1.2.0",
            "bar_color": null,
            "_model_module": "@jupyter-widgets/controls"
          }
        },
        "285c67d7bd264f80b4e65cd52f483457": {
          "model_module": "@jupyter-widgets/base",
          "model_name": "LayoutModel",
          "state": {
            "_view_name": "LayoutView",
            "grid_template_rows": null,
            "right": null,
            "justify_content": null,
            "_view_module": "@jupyter-widgets/base",
            "overflow": null,
            "_model_module_version": "1.2.0",
            "_view_count": null,
            "flex_flow": null,
            "width": null,
            "min_width": null,
            "border": null,
            "align_items": null,
            "bottom": null,
            "_model_module": "@jupyter-widgets/base",
            "top": null,
            "grid_column": null,
            "overflow_y": null,
            "overflow_x": null,
            "grid_auto_flow": null,
            "grid_area": null,
            "grid_template_columns": null,
            "flex": null,
            "_model_name": "LayoutModel",
            "justify_items": null,
            "grid_row": null,
            "max_height": null,
            "align_content": null,
            "visibility": null,
            "align_self": null,
            "height": null,
            "min_height": null,
            "padding": null,
            "grid_auto_rows": null,
            "grid_gap": null,
            "max_width": null,
            "order": null,
            "_view_module_version": "1.2.0",
            "grid_template_areas": null,
            "object_position": null,
            "object_fit": null,
            "grid_auto_columns": null,
            "margin": null,
            "display": null,
            "left": null
          }
        },
        "9f86bbeb531748cb847b83302f5c3b85": {
          "model_module": "@jupyter-widgets/controls",
          "model_name": "VBoxModel",
          "state": {
            "_view_name": "VBoxView",
            "_dom_classes": [],
            "_model_name": "VBoxModel",
            "_view_module": "@jupyter-widgets/controls",
            "_model_module_version": "1.5.0",
            "_view_count": null,
            "_view_module_version": "1.5.0",
            "box_style": "",
            "layout": "IPY_MODEL_7263b9b7ee9c4094870a3850b3c2574c",
            "_model_module": "@jupyter-widgets/controls",
            "children": [
              "IPY_MODEL_ffb93953ed8047e398422d769cbff7e1",
              "IPY_MODEL_859043b74e7a4168956e615190ed00fd"
            ]
          }
        },
        "7263b9b7ee9c4094870a3850b3c2574c": {
          "model_module": "@jupyter-widgets/base",
          "model_name": "LayoutModel",
          "state": {
            "_view_name": "LayoutView",
            "grid_template_rows": null,
            "right": null,
            "justify_content": null,
            "_view_module": "@jupyter-widgets/base",
            "overflow": null,
            "_model_module_version": "1.2.0",
            "_view_count": null,
            "flex_flow": null,
            "width": null,
            "min_width": null,
            "border": null,
            "align_items": null,
            "bottom": null,
            "_model_module": "@jupyter-widgets/base",
            "top": null,
            "grid_column": null,
            "overflow_y": null,
            "overflow_x": null,
            "grid_auto_flow": null,
            "grid_area": null,
            "grid_template_columns": null,
            "flex": null,
            "_model_name": "LayoutModel",
            "justify_items": null,
            "grid_row": null,
            "max_height": null,
            "align_content": null,
            "visibility": null,
            "align_self": null,
            "height": null,
            "min_height": null,
            "padding": null,
            "grid_auto_rows": null,
            "grid_gap": null,
            "max_width": null,
            "order": null,
            "_view_module_version": "1.2.0",
            "grid_template_areas": null,
            "object_position": null,
            "object_fit": null,
            "grid_auto_columns": null,
            "margin": null,
            "display": null,
            "left": null
          }
        },
        "ffb93953ed8047e398422d769cbff7e1": {
          "model_module": "@jupyter-widgets/controls",
          "model_name": "LabelModel",
          "state": {
            "_view_name": "LabelView",
            "style": "IPY_MODEL_2cb6e4fcc2344f31bfb339f99d0af134",
            "_dom_classes": [],
            "description": "",
            "_model_name": "LabelModel",
            "placeholder": "​",
            "_view_module": "@jupyter-widgets/controls",
            "_model_module_version": "1.5.0",
            "value": " 1.57MB of 1.57MB uploaded (0.00MB deduped)\r",
            "_view_count": null,
            "_view_module_version": "1.5.0",
            "description_tooltip": null,
            "_model_module": "@jupyter-widgets/controls",
            "layout": "IPY_MODEL_90fd71e1c3ef431f84e03be3c5329cb9"
          }
        },
        "859043b74e7a4168956e615190ed00fd": {
          "model_module": "@jupyter-widgets/controls",
          "model_name": "FloatProgressModel",
          "state": {
            "_view_name": "ProgressView",
            "style": "IPY_MODEL_dfa0849db3d44465b202748f38c79543",
            "_dom_classes": [],
            "description": "",
            "_model_name": "FloatProgressModel",
            "bar_style": "",
            "max": 1,
            "_view_module": "@jupyter-widgets/controls",
            "_model_module_version": "1.5.0",
            "value": 1,
            "_view_count": null,
            "_view_module_version": "1.5.0",
            "orientation": "horizontal",
            "min": 0,
            "description_tooltip": null,
            "_model_module": "@jupyter-widgets/controls",
            "layout": "IPY_MODEL_1e7621441ed346408d8a9d601679fe76"
          }
        },
        "2cb6e4fcc2344f31bfb339f99d0af134": {
          "model_module": "@jupyter-widgets/controls",
          "model_name": "DescriptionStyleModel",
          "state": {
            "_view_name": "StyleView",
            "_model_name": "DescriptionStyleModel",
            "description_width": "",
            "_view_module": "@jupyter-widgets/base",
            "_model_module_version": "1.5.0",
            "_view_count": null,
            "_view_module_version": "1.2.0",
            "_model_module": "@jupyter-widgets/controls"
          }
        },
        "90fd71e1c3ef431f84e03be3c5329cb9": {
          "model_module": "@jupyter-widgets/base",
          "model_name": "LayoutModel",
          "state": {
            "_view_name": "LayoutView",
            "grid_template_rows": null,
            "right": null,
            "justify_content": null,
            "_view_module": "@jupyter-widgets/base",
            "overflow": null,
            "_model_module_version": "1.2.0",
            "_view_count": null,
            "flex_flow": null,
            "width": null,
            "min_width": null,
            "border": null,
            "align_items": null,
            "bottom": null,
            "_model_module": "@jupyter-widgets/base",
            "top": null,
            "grid_column": null,
            "overflow_y": null,
            "overflow_x": null,
            "grid_auto_flow": null,
            "grid_area": null,
            "grid_template_columns": null,
            "flex": null,
            "_model_name": "LayoutModel",
            "justify_items": null,
            "grid_row": null,
            "max_height": null,
            "align_content": null,
            "visibility": null,
            "align_self": null,
            "height": null,
            "min_height": null,
            "padding": null,
            "grid_auto_rows": null,
            "grid_gap": null,
            "max_width": null,
            "order": null,
            "_view_module_version": "1.2.0",
            "grid_template_areas": null,
            "object_position": null,
            "object_fit": null,
            "grid_auto_columns": null,
            "margin": null,
            "display": null,
            "left": null
          }
        },
        "dfa0849db3d44465b202748f38c79543": {
          "model_module": "@jupyter-widgets/controls",
          "model_name": "ProgressStyleModel",
          "state": {
            "_view_name": "StyleView",
            "_model_name": "ProgressStyleModel",
            "description_width": "",
            "_view_module": "@jupyter-widgets/base",
            "_model_module_version": "1.5.0",
            "_view_count": null,
            "_view_module_version": "1.2.0",
            "bar_color": null,
            "_model_module": "@jupyter-widgets/controls"
          }
        },
        "1e7621441ed346408d8a9d601679fe76": {
          "model_module": "@jupyter-widgets/base",
          "model_name": "LayoutModel",
          "state": {
            "_view_name": "LayoutView",
            "grid_template_rows": null,
            "right": null,
            "justify_content": null,
            "_view_module": "@jupyter-widgets/base",
            "overflow": null,
            "_model_module_version": "1.2.0",
            "_view_count": null,
            "flex_flow": null,
            "width": null,
            "min_width": null,
            "border": null,
            "align_items": null,
            "bottom": null,
            "_model_module": "@jupyter-widgets/base",
            "top": null,
            "grid_column": null,
            "overflow_y": null,
            "overflow_x": null,
            "grid_auto_flow": null,
            "grid_area": null,
            "grid_template_columns": null,
            "flex": null,
            "_model_name": "LayoutModel",
            "justify_items": null,
            "grid_row": null,
            "max_height": null,
            "align_content": null,
            "visibility": null,
            "align_self": null,
            "height": null,
            "min_height": null,
            "padding": null,
            "grid_auto_rows": null,
            "grid_gap": null,
            "max_width": null,
            "order": null,
            "_view_module_version": "1.2.0",
            "grid_template_areas": null,
            "object_position": null,
            "object_fit": null,
            "grid_auto_columns": null,
            "margin": null,
            "display": null,
            "left": null
          }
        }
      }
    }
  },
  "cells": [
    {
      "cell_type": "markdown",
      "metadata": {
        "id": "view-in-github",
        "colab_type": "text"
      },
      "source": [
        "<a href=\"https://colab.research.google.com/github/acse-2020/acse2020-acse9-finalreport-acse-jaq15/blob/main/notebooks/MLP_AE/MLP_AE_Corn.ipynb\" target=\"_parent\"><img src=\"https://colab.research.google.com/assets/colab-badge.svg\" alt=\"Open In Colab\"/></a>"
      ]
    },
    {
      "cell_type": "markdown",
      "metadata": {
        "id": "z5F7GfFTgUo3"
      },
      "source": [
        "# Imports\n",
        "\n",
        "The cells below handle all the necessary imports to run our models, making use of the public repo feeder_repo, linked <!-- [Text](link) -->\n",
        "[here](https://github.com/acse-jaq15/feeder_repo)."
      ]
    },
    {
      "cell_type": "code",
      "metadata": {
        "colab": {
          "base_uri": "https://localhost:8080/"
        },
        "id": "HWy9Ay1SGzWa",
        "outputId": "498634a0-28e0-4d7a-c5a8-ce8a0357f2d7"
      },
      "source": [
        "# clone the feeder repo to get data_reader module and financial time series data\n",
        "!git clone https://github.com/acse-jaq15/feeder_repo.git"
      ],
      "execution_count": 1,
      "outputs": [
        {
          "output_type": "stream",
          "text": [
            "Cloning into 'feeder_repo'...\n",
            "remote: Enumerating objects: 150, done.\u001b[K\n",
            "remote: Counting objects: 100% (150/150), done.\u001b[K\n",
            "remote: Compressing objects: 100% (145/145), done.\u001b[K\n",
            "remote: Total 150 (delta 73), reused 6 (delta 2), pack-reused 0\u001b[K\n",
            "Receiving objects: 100% (150/150), 121.14 KiB | 5.77 MiB/s, done.\n",
            "Resolving deltas: 100% (73/73), done.\n"
          ],
          "name": "stdout"
        }
      ]
    },
    {
      "cell_type": "code",
      "metadata": {
        "colab": {
          "base_uri": "https://localhost:8080/"
        },
        "id": "ChlUNYaiHGM2",
        "outputId": "64b6e4c4-c95d-47c2-d964-91a11ef166fc"
      },
      "source": [
        "# using '%' to enforce a permanent change of directory\n",
        "%cd feeder_repo/"
      ],
      "execution_count": 2,
      "outputs": [
        {
          "output_type": "stream",
          "text": [
            "/content/feeder_repo\n"
          ],
          "name": "stdout"
        }
      ]
    },
    {
      "cell_type": "code",
      "metadata": {
        "colab": {
          "base_uri": "https://localhost:8080/"
        },
        "id": "saD-jpvPIfZ8",
        "outputId": "79d20203-f3a3-45eb-b81b-b09cd2ad808c"
      },
      "source": [
        "# checking contents listed correctly, should read:\n",
        "# baseline_model.py data data_reader.py LICENSE README.md security_plotter.py\n",
        "!ls"
      ],
      "execution_count": 3,
      "outputs": [
        {
          "output_type": "stream",
          "text": [
            "base_model.py  data  data_reader.py  LICENSE  README.md  security_plotter.py\n"
          ],
          "name": "stdout"
        }
      ]
    },
    {
      "cell_type": "code",
      "metadata": {
        "id": "fRqkwo6kZUz_"
      },
      "source": [
        "import math\n",
        "import sys\n",
        "import keras\n",
        "import os\n",
        "import matplotlib.dates as mdates\n",
        "import matplotlib.pyplot as plt\n",
        "import pandas as pd\n",
        "import numpy as np\n",
        "from keras.models import Sequential\n",
        "from keras.layers import Dense\n",
        "from keras.layers import LSTM\n",
        "from keras.layers import GRU\n",
        "from keras.layers import Dropout\n",
        "from keras.layers import *\n",
        "from keras.utils.layer_utils import count_params\n",
        "from keras.utils.vis_utils import plot_model\n",
        "from sklearn.preprocessing import MinMaxScaler\n",
        "from sklearn.metrics import mean_squared_error\n",
        "from sklearn.metrics import mean_absolute_error\n",
        "from sklearn.model_selection import train_test_split\n",
        "from keras.callbacks import EarlyStopping, Callback\n",
        "from keras.optimizers import RMSprop, SGD, Adam, Nadam\n",
        "from keras.initializers import random_normal"
      ],
      "execution_count": 4,
      "outputs": []
    },
    {
      "cell_type": "code",
      "metadata": {
        "id": "hzVhwND1HAlw"
      },
      "source": [
        "# appending path with 'feeder_repo' string\n",
        "sys.path.append('feeder_repo')\n",
        "\n",
        "# import Data_Reader class from data_reader module\n",
        "from feeder_repo.data_reader import Data_Reader\n",
        "# import Baseline_Model class from base_model module\n",
        "from feeder_repo.base_model import Base_Model\n",
        "# import Security_Plotter class from security_plotter module\n",
        "from feeder_repo.security_plotter import Security_Plotter"
      ],
      "execution_count": 5,
      "outputs": []
    },
    {
      "cell_type": "code",
      "metadata": {
        "colab": {
          "base_uri": "https://localhost:8080/"
        },
        "id": "6-tNDlXuhiCU",
        "outputId": "c4bf95d3-59ad-4e66-daef-2e80a2dbb650"
      },
      "source": [
        "# checking if the notebook is running on a GPU\n",
        "gpu_info = !nvidia-smi\n",
        "gpu_info = '\\n'.join(gpu_info)\n",
        "if gpu_info.find('failed') >= 0:\n",
        "    print('Select the Runtime > \"Change runtime type\" menu to enable a GPU accelerator, ')\n",
        "    print('and then re-execute this cell.')\n",
        "else:\n",
        "    print(gpu_info)"
      ],
      "execution_count": 6,
      "outputs": [
        {
          "output_type": "stream",
          "text": [
            "Fri Jul 23 14:00:54 2021       \n",
            "+-----------------------------------------------------------------------------+\n",
            "| NVIDIA-SMI 470.42.01    Driver Version: 460.32.03    CUDA Version: 11.2     |\n",
            "|-------------------------------+----------------------+----------------------+\n",
            "| GPU  Name        Persistence-M| Bus-Id        Disp.A | Volatile Uncorr. ECC |\n",
            "| Fan  Temp  Perf  Pwr:Usage/Cap|         Memory-Usage | GPU-Util  Compute M. |\n",
            "|                               |                      |               MIG M. |\n",
            "|===============================+======================+======================|\n",
            "|   0  Tesla P100-PCIE...  Off  | 00000000:00:04.0 Off |                    0 |\n",
            "| N/A   40C    P0    28W / 250W |      0MiB / 16280MiB |      0%      Default |\n",
            "|                               |                      |                  N/A |\n",
            "+-------------------------------+----------------------+----------------------+\n",
            "                                                                               \n",
            "+-----------------------------------------------------------------------------+\n",
            "| Processes:                                                                  |\n",
            "|  GPU   GI   CI        PID   Type   Process name                  GPU Memory |\n",
            "|        ID   ID                                                   Usage      |\n",
            "|=============================================================================|\n",
            "|  No running processes found                                                 |\n",
            "+-----------------------------------------------------------------------------+\n"
          ],
          "name": "stdout"
        }
      ]
    },
    {
      "cell_type": "markdown",
      "metadata": {
        "id": "WB9wD4Aahs8_"
      },
      "source": [
        "# Handling the data\n",
        "Here the Data_Reader class is used to read the time series data and extract training, test and validation sets, along with the relevant X and y values."
      ]
    },
    {
      "cell_type": "code",
      "metadata": {
        "id": "vBlKerL-c4-3"
      },
      "source": [
        "# storing the file to be read as a string\n",
        "in_str = 'Corn'\n",
        "# storing the year of the time series to be used as test data\n",
        "in_yr = 2019\n",
        "# creating a variable to store the model name\n",
        "model_str = 'MLP_AE'\n",
        "# setting our window_length to be 30 days\n",
        "window_len = 30"
      ],
      "execution_count": 7,
      "outputs": []
    },
    {
      "cell_type": "code",
      "metadata": {
        "id": "hfQJbuBk0vW0"
      },
      "source": [
        "# creating an instance of Data_Reader class\n",
        "in_data = Data_Reader(in_str, in_yr)\n",
        "# calling class method extract_train_test to generate training and test datasets\n",
        "in_data.extract_train_test()\n",
        "# calling class method extract_xy to generate X and y training and test datasets\n",
        "in_data.extract_xy(window_len)\n",
        "\n",
        "# assigning X_train and y_train\n",
        "X_train = in_data.X_train\n",
        "y_train = in_data.y_train\n",
        "\n",
        "# assigning X_test and y_test\n",
        "X_test = in_data.X_test\n",
        "y_test = in_data.y_test\n",
        "\n",
        "# assigning X_val_train and y_val_train\n",
        "X_val_train = in_data.X_val_train\n",
        "y_val_train = in_data.y_val_train\n",
        "\n",
        "# assigning X_val_test and y_val_test\n",
        "X_val_test = in_data.X_val_test\n",
        "y_val_test = in_data.y_val_test"
      ],
      "execution_count": 8,
      "outputs": []
    },
    {
      "cell_type": "markdown",
      "metadata": {
        "id": "X53Fp1Gwh88_"
      },
      "source": [
        "# Setting up wandb itegration\n",
        "Here wandb is used to perform hyperparameter tuning."
      ]
    },
    {
      "cell_type": "code",
      "metadata": {
        "colab": {
          "base_uri": "https://localhost:8080/"
        },
        "id": "aE6cdrSDiHhq",
        "outputId": "f1194833-7a2f-462a-b094-bdcd2270cd22"
      },
      "source": [
        "# installing the wandb library and importing\n",
        "%pip install wandb -q\n",
        "import wandb\n",
        "from wandb.keras import WandbCallback"
      ],
      "execution_count": 9,
      "outputs": [
        {
          "output_type": "stream",
          "text": [
            "\u001b[K     |████████████████████████████████| 1.8 MB 9.3 MB/s \n",
            "\u001b[K     |████████████████████████████████| 133 kB 51.2 MB/s \n",
            "\u001b[K     |████████████████████████████████| 97 kB 7.5 MB/s \n",
            "\u001b[K     |████████████████████████████████| 138 kB 42.8 MB/s \n",
            "\u001b[K     |████████████████████████████████| 170 kB 50.6 MB/s \n",
            "\u001b[K     |████████████████████████████████| 63 kB 1.5 MB/s \n",
            "\u001b[K     |████████████████████████████████| 62 kB 909 kB/s \n",
            "\u001b[?25h  Building wheel for subprocess32 (setup.py) ... \u001b[?25l\u001b[?25hdone\n",
            "  Building wheel for pathtools (setup.py) ... \u001b[?25l\u001b[?25hdone\n",
            "\u001b[31mERROR: pip's dependency resolver does not currently take into account all the packages that are installed. This behaviour is the source of the following dependency conflicts.\n",
            "google-colab 1.0.0 requires requests~=2.23.0, but you have requests 2.26.0 which is incompatible.\n",
            "datascience 0.10.6 requires folium==0.2.1, but you have folium 0.8.3 which is incompatible.\u001b[0m\n"
          ],
          "name": "stdout"
        }
      ]
    },
    {
      "cell_type": "code",
      "metadata": {
        "id": "pbgZaoQDiIKX"
      },
      "source": [
        "!pip install wandb -qq"
      ],
      "execution_count": 10,
      "outputs": []
    },
    {
      "cell_type": "code",
      "metadata": {
        "colab": {
          "base_uri": "https://localhost:8080/"
        },
        "id": "1WHkW0XyiKVL",
        "outputId": "1f92b56e-d40c-4df1-d8c7-39959a2482b8"
      },
      "source": [
        "# logging in so the hyperparameter tunings sweeps can be saved\n",
        "!wandb login"
      ],
      "execution_count": 11,
      "outputs": [
        {
          "output_type": "stream",
          "text": [
            "\u001b[34m\u001b[1mwandb\u001b[0m: You can find your API key in your browser here: https://wandb.ai/authorize\n",
            "\u001b[34m\u001b[1mwandb\u001b[0m: Paste an API key from your profile and hit enter: \n",
            "\u001b[34m\u001b[1mwandb\u001b[0m: Appending key for api.wandb.ai to your netrc file: /root/.netrc\n"
          ],
          "name": "stdout"
        }
      ]
    },
    {
      "cell_type": "code",
      "metadata": {
        "id": "j91IBGuSid5w"
      },
      "source": [
        "# configuring the sweep, making use of a random search methodology\n",
        "sweep_config = {\n",
        "    'method': 'random', #grid, random\n",
        "    'metric': {\n",
        "      'name': 'mse',\n",
        "      'goal': 'minimize'   \n",
        "    },\n",
        "    'parameters': {\n",
        "        'epochs': {\n",
        "            'values': [50, 100]\n",
        "        },\n",
        "        'batch_size': {\n",
        "            'values': [128, 64, 32]\n",
        "        },\n",
        "        'learning_rate': {\n",
        "            'values': [0.005, 0.001, 0.0005]\n",
        "        },\n",
        "        'optimizer': {\n",
        "            'values': ['adam', 'nadam', 'rmsprop', 'sgd']\n",
        "        },\n",
        "        'activation': {\n",
        "            'values': ['relu', 'selu']\n",
        "        }\n",
        "    }\n",
        "}"
      ],
      "execution_count": 12,
      "outputs": []
    },
    {
      "cell_type": "code",
      "metadata": {
        "id": "V0Sr9HsorH4E"
      },
      "source": [
        "# wandb calls this training function to run through the hyperparameter search\n",
        "def train():\n",
        "    # default values for searching\n",
        "    config_defaults = {\n",
        "        'epochs': 100,\n",
        "        'batch_size': 32,\n",
        "        'learning_rate': 0.005,\n",
        "        'optimizer': 'adam',\n",
        "        'activation': 'tanh',\n",
        "        'momentum': 0.9,\n",
        "        'seed': 42\n",
        "    }\n",
        "\n",
        "    # Initialize a new wandb run\n",
        "    wandb.init(config=config_defaults)\n",
        "    \n",
        "    # Config is a variable that holds and saves hyperparameters and inputs\n",
        "    config = wandb.config\n",
        "\n",
        "    # setting keras model to sequential mode\n",
        "    model = Sequential()\n",
        "\n",
        "    # layer 1\n",
        "    model.add(Dense(256, activation=config.activation, input_shape=(window_len, 1)))\n",
        "    # layer 2\n",
        "    model.add(Dense(128, activation=config.activation))\n",
        "    # layer 3\n",
        "    model.add(Dense(64, activation=config.activation))\n",
        "    # layer 4\n",
        "    model.add(Dense(32, activation=config.activation))\n",
        "    # layer 5\n",
        "    model.add(Flatten())\n",
        "    # layer 6\n",
        "    model.add(RepeatVector(window_len))\n",
        "    # layer 7\n",
        "    model.add(Dense(32, activation=config.activation))\n",
        "    # layer 8\n",
        "    model.add(Dense(64, activation=config.activation))\n",
        "    # layer 9\n",
        "    model.add(Dense(128, activation=config.activation))\n",
        "    # layer 10\n",
        "    model.add(Flatten())\n",
        "    # layer 11\n",
        "    model.add(Dense(1))\n",
        "\n",
        "    # Define the optimizer\n",
        "    if config.optimizer=='sgd':\n",
        "      optimizer = SGD(learning_rate=config.learning_rate, decay=1e-5, momentum=config.momentum, nesterov=True)\n",
        "    elif config.optimizer=='rmsprop':\n",
        "      optimizer = RMSprop(learning_rate=config.learning_rate, decay=1e-5)\n",
        "    elif config.optimizer=='adam':\n",
        "      optimizer = Adam(learning_rate=config.learning_rate, beta_1=0.9, beta_2=0.999, clipnorm=1.0)\n",
        "    elif config.optimizer=='nadam':\n",
        "      optimizer = Nadam(learning_rate=config.learning_rate, beta_1=0.9, beta_2=0.999, clipnorm=1.0)\n",
        "\n",
        "    model.compile(loss = \"mean_squared_error\", optimizer=optimizer, metrics=['mean_squared_error', 'mean_absolute_error'])\n",
        "\n",
        "    model.fit(X_val_train, y_val_train, batch_size=config.batch_size,\n",
        "              epochs=config.epochs,\n",
        "              validation_data=(X_val_test, y_val_test),\n",
        "              callbacks=[WandbCallback(validation_data=(X_val_test, y_val_test)),\n",
        "                          EarlyStopping(patience=10, restore_best_weights=True)])"
      ],
      "execution_count": 13,
      "outputs": []
    },
    {
      "cell_type": "code",
      "metadata": {
        "colab": {
          "base_uri": "https://localhost:8080/"
        },
        "id": "JwZO6oAFU1LN",
        "outputId": "40774b78-3518-4638-ae2b-7cd8b154034e"
      },
      "source": [
        "# setting up our sweep_id\n",
        "sweep_id = wandb.sweep(sweep_config, project='ACSE_9_'+model_str)"
      ],
      "execution_count": 14,
      "outputs": [
        {
          "output_type": "stream",
          "text": [
            "Create sweep with ID: ucphf2s3\n",
            "Sweep URL: https://wandb.ai/acse-jaq15/ACSE_9_MLP_AE/sweeps/ucphf2s3\n"
          ],
          "name": "stdout"
        }
      ]
    },
    {
      "cell_type": "code",
      "metadata": {
        "colab": {
          "base_uri": "https://localhost:8080/",
          "height": 1000,
          "referenced_widgets": [
            "defb6881052046b5b4fd404971e848b6",
            "9bda4266a98244729a0d7e41cbc3519f",
            "8fa9fc4ba994493785de79861442044c",
            "a0533f30a19d48f48edef721887d322b",
            "11d5ed04642b413191a63874c8ee3332",
            "4c1b941024c54c50b9bf3bbbeb5867bc",
            "3353608d1a1f4fb4883a504bae154fc0",
            "8e26a259bafa4dc7a805c4b707a01e5e",
            "c715f3cc8f0c4364a6c4154845232c30",
            "f59744716b284650b9b7c89621768ee5",
            "7029b6be6d7348d7bc32d0136f6b40bb",
            "6abfe0aa78cd42d29ef7e422551419a2",
            "58b5ec373af64d4ebaaabf7a81651872",
            "acf0d32f1a9042459d8d1aae13dbf609",
            "6c8cf7c724bf461cacb59ed2135e4f82",
            "910f8f63fb0844438f0f13b7dbcd16f8",
            "aa3a402efaa3410d9980a23870cd2a06",
            "297b8a7971e7451fbaf09dae000d202f",
            "dbaa99ecc92041b98763aa788733e65e",
            "ad887b94a2a54035bf3244d1b5c3c9d6",
            "a81160be001544e298bdbdd09ecf513e",
            "2b1fa6855423479b875d6256dc04f7b8",
            "5186837c6aa04afeaeafb11d35bcdddb",
            "28e72a6d42484af8a86937f88908cbe2",
            "e7763321863d4a77a63b42d3538b531f",
            "4e114728ab514637b8ae11e7fbede1bb",
            "654daaee00634184986e882fe145ed65",
            "e0f9801ae5ef43bf985ce91d165dd73d",
            "0af32363f4044f90bc9e2875200484d1",
            "c00deb8999a4473f8c65678f9a802d05",
            "2defad2cc1664eed962bb40265c228fd",
            "230f5d7a6efd48bbab028fe5c88e8cd4",
            "1cb6f37cb46546aca760a8a7550b02ff",
            "865d3bdea2304e7da8327aaf71b18aaf",
            "2f6fe4f8b2a84fb8b54ebb35346c0483",
            "479b6b2a96e548f78af05d172c5d9f94",
            "e011b69a7c1e4a73a128acd570d44a9b",
            "fcf71a175ae14ec58456e2bfef49fbcf",
            "92d3f06aa90346a59b18893c99dd83ac",
            "5f6a18d7e88f4b00b270def6637e4261",
            "4fcddb4e904847ca9afe1b735d5e930e",
            "a2ace711186141e792676e54f11d99e8",
            "7c43460cd559465795db1694e6dd4818",
            "c64ba83c95f842afa1fd2e0cf505241c",
            "9497b9e97fd4498297fa86131272ebc7",
            "c874c7ad86f842da8a9d17d4eb5e52e1",
            "a73f7281c67e41a38a3da8671093bff2",
            "c0912ac6e9eb4de5b0f02f2077bc5c87",
            "8a57356a012d4e4c89cfaf8e6a0006ce",
            "61c79dba438142408028cbc4945a3b6b",
            "55f56828ad284cdd93bcd8018dc6973c",
            "5bbeff69b97e4075a4c6f31e83cf331d",
            "5a3e2e00c0664aa5b716067a76db6f7c",
            "fc4275d94cbb4ed4bdf86963a22dfc1e",
            "c8ca59c56956497b812e06771dd81476",
            "9ee3b18bd45541259ee637f802e613aa",
            "cd766f6639bf4b27aeb7ce413ba74a9b",
            "190bfdf0575d4004865a6d32b6a21966",
            "8a8b528bc4d841a0b2cfcd87482cbb2f",
            "74519ecb40104570a70dbbe6caa855aa",
            "9045be2075fa4bdfbacfb6eb7a9faf6d",
            "19298aca45d143e2bcb806ba0b016f56",
            "60a3bf5268564b43b4e7df0bcf1dbb61",
            "f1ecf0071c9c4e819017174d67f9df30",
            "393ac7b5414c4af1a355ffe72b6b45e5",
            "7a9018c3d14f4cc49018aec1ca9ec7d2",
            "e2f409f269ea45bc9b1f256e363ab573",
            "ffc9140e650f40aeaeea15d8894ef2c6",
            "03dd38341a004cf1af16440dbf6dd279",
            "a1cf7b4fd209476dab0313fa8bd99b07",
            "7cc251f0e8004403bf2c544993e3afc1",
            "f94bd771e86e4bf3bb1b9f196b9fa2f9",
            "56536bd0113c4787bfc4998a990cea8a",
            "1f69a07e2a7945a6bb91de2dd192fabf",
            "435b4c795e9643e895990d6f18aeb7ea",
            "b3bc5073088848228384c40b9f59cbed",
            "381c6d51424a4ab3860f707d2ded53e8",
            "039cf0b4c99846198e092556eabbf4e5",
            "6923f36dc6f547c2b9bf1eff88d4ead3",
            "058c5e1e231940358abda38b986356f2",
            "5ff7b3d190db4854941eb0c45984caf5",
            "ec5eccccf17547d88b2016ef10935764",
            "b7991f2e0eab43a6ae221ec248f421f4",
            "6c8c179c481440c19aa30c0992e8a539",
            "2125d6dcb55f4fcc9fc57ecf7333ab55",
            "871a0002887d4ece96cb7efd05044abd",
            "aa73f90ea6964227ab362ee03c400fae",
            "285c67d7bd264f80b4e65cd52f483457",
            "9f86bbeb531748cb847b83302f5c3b85",
            "7263b9b7ee9c4094870a3850b3c2574c",
            "ffb93953ed8047e398422d769cbff7e1",
            "859043b74e7a4168956e615190ed00fd",
            "2cb6e4fcc2344f31bfb339f99d0af134",
            "90fd71e1c3ef431f84e03be3c5329cb9",
            "dfa0849db3d44465b202748f38c79543",
            "1e7621441ed346408d8a9d601679fe76"
          ]
        },
        "id": "ZfSCGWfluFw0",
        "outputId": "bc020158-1746-4e92-f7e2-faa5dbb48e02"
      },
      "source": [
        "# initialising a new sweep\n",
        "wandb.agent(sweep_id, train, project='ACSE_9_'+model_str)"
      ],
      "execution_count": 16,
      "outputs": [
        {
          "output_type": "stream",
          "text": [
            "\u001b[34m\u001b[1mwandb\u001b[0m: Agent Starting Run: qzxjkbh5 with config:\n",
            "\u001b[34m\u001b[1mwandb\u001b[0m: \tactivation: relu\n",
            "\u001b[34m\u001b[1mwandb\u001b[0m: \tbatch_size: 32\n",
            "\u001b[34m\u001b[1mwandb\u001b[0m: \tepochs: 50\n",
            "\u001b[34m\u001b[1mwandb\u001b[0m: \tlearning_rate: 0.0005\n",
            "\u001b[34m\u001b[1mwandb\u001b[0m: \toptimizer: rmsprop\n"
          ],
          "name": "stderr"
        },
        {
          "output_type": "display_data",
          "data": {
            "text/html": [
              "\n",
              "                Tracking run with wandb version 0.11.0<br/>\n",
              "                Syncing run <strong style=\"color:#cdcd00\">serene-sweep-25</strong> to <a href=\"https://wandb.ai\" target=\"_blank\">Weights & Biases</a> <a href=\"https://docs.wandb.com/integrations/jupyter.html\" target=\"_blank\">(Documentation)</a>.<br/>\n",
              "                Project page: <a href=\"https://wandb.ai/acse-jaq15/ACSE_9_MLP_AE\" target=\"_blank\">https://wandb.ai/acse-jaq15/ACSE_9_MLP_AE</a><br/>\n",
              "                Sweep page: <a href=\"https://wandb.ai/acse-jaq15/ACSE_9_MLP_AE/sweeps/ucphf2s3\" target=\"_blank\">https://wandb.ai/acse-jaq15/ACSE_9_MLP_AE/sweeps/ucphf2s3</a><br/>\n",
              "Run page: <a href=\"https://wandb.ai/acse-jaq15/ACSE_9_MLP_AE/runs/qzxjkbh5\" target=\"_blank\">https://wandb.ai/acse-jaq15/ACSE_9_MLP_AE/runs/qzxjkbh5</a><br/>\n",
              "                Run data is saved locally in <code>/content/feeder_repo/wandb/run-20210723_142435-qzxjkbh5</code><br/><br/>\n",
              "            "
            ],
            "text/plain": [
              "<IPython.core.display.HTML object>"
            ]
          },
          "metadata": {
            "tags": []
          }
        },
        {
          "output_type": "stream",
          "text": [
            "Epoch 1/50\n",
            "31/31 [==============================] - 3s 35ms/step - loss: 0.0482 - mean_squared_error: 0.0482 - mean_absolute_error: 0.1570 - val_loss: 0.0406 - val_mean_squared_error: 0.0406 - val_mean_absolute_error: 0.1720\n",
            "Epoch 2/50\n",
            "31/31 [==============================] - 0s 10ms/step - loss: 0.0095 - mean_squared_error: 0.0095 - mean_absolute_error: 0.0744 - val_loss: 0.0241 - val_mean_squared_error: 0.0241 - val_mean_absolute_error: 0.1285\n",
            "Epoch 3/50\n",
            "31/31 [==============================] - 0s 12ms/step - loss: 0.0060 - mean_squared_error: 0.0060 - mean_absolute_error: 0.0583 - val_loss: 0.0389 - val_mean_squared_error: 0.0389 - val_mean_absolute_error: 0.1588\n",
            "Epoch 4/50\n",
            "31/31 [==============================] - 0s 13ms/step - loss: 0.0071 - mean_squared_error: 0.0071 - mean_absolute_error: 0.0595 - val_loss: 0.0280 - val_mean_squared_error: 0.0280 - val_mean_absolute_error: 0.1372\n",
            "Epoch 5/50\n",
            "31/31 [==============================] - 0s 12ms/step - loss: 0.0045 - mean_squared_error: 0.0045 - mean_absolute_error: 0.0483 - val_loss: 0.0138 - val_mean_squared_error: 0.0138 - val_mean_absolute_error: 0.0949\n",
            "Epoch 6/50\n",
            "31/31 [==============================] - 0s 12ms/step - loss: 0.0048 - mean_squared_error: 0.0048 - mean_absolute_error: 0.0535 - val_loss: 0.0159 - val_mean_squared_error: 0.0159 - val_mean_absolute_error: 0.1011\n",
            "Epoch 7/50\n",
            "31/31 [==============================] - 0s 11ms/step - loss: 0.0033 - mean_squared_error: 0.0033 - mean_absolute_error: 0.0421 - val_loss: 0.0123 - val_mean_squared_error: 0.0123 - val_mean_absolute_error: 0.0884\n",
            "Epoch 8/50\n",
            "31/31 [==============================] - 0s 12ms/step - loss: 0.0031 - mean_squared_error: 0.0031 - mean_absolute_error: 0.0415 - val_loss: 0.0142 - val_mean_squared_error: 0.0142 - val_mean_absolute_error: 0.0953\n",
            "Epoch 9/50\n",
            "31/31 [==============================] - 0s 12ms/step - loss: 0.0035 - mean_squared_error: 0.0035 - mean_absolute_error: 0.0415 - val_loss: 0.0146 - val_mean_squared_error: 0.0146 - val_mean_absolute_error: 0.0971\n",
            "Epoch 10/50\n",
            "31/31 [==============================] - 0s 12ms/step - loss: 0.0029 - mean_squared_error: 0.0029 - mean_absolute_error: 0.0404 - val_loss: 0.0115 - val_mean_squared_error: 0.0115 - val_mean_absolute_error: 0.0837\n",
            "Epoch 11/50\n",
            "31/31 [==============================] - 0s 11ms/step - loss: 0.0044 - mean_squared_error: 0.0044 - mean_absolute_error: 0.0494 - val_loss: 0.0101 - val_mean_squared_error: 0.0101 - val_mean_absolute_error: 0.0789\n",
            "Epoch 12/50\n",
            "31/31 [==============================] - 0s 11ms/step - loss: 0.0029 - mean_squared_error: 0.0029 - mean_absolute_error: 0.0406 - val_loss: 0.0102 - val_mean_squared_error: 0.0102 - val_mean_absolute_error: 0.0791\n",
            "Epoch 13/50\n",
            "31/31 [==============================] - 0s 12ms/step - loss: 0.0028 - mean_squared_error: 0.0028 - mean_absolute_error: 0.0383 - val_loss: 0.0154 - val_mean_squared_error: 0.0154 - val_mean_absolute_error: 0.1013\n",
            "Epoch 14/50\n",
            "31/31 [==============================] - 0s 12ms/step - loss: 0.0027 - mean_squared_error: 0.0027 - mean_absolute_error: 0.0392 - val_loss: 0.0091 - val_mean_squared_error: 0.0091 - val_mean_absolute_error: 0.0734\n",
            "Epoch 15/50\n",
            "31/31 [==============================] - 0s 11ms/step - loss: 0.0026 - mean_squared_error: 0.0026 - mean_absolute_error: 0.0346 - val_loss: 0.0111 - val_mean_squared_error: 0.0111 - val_mean_absolute_error: 0.0846\n",
            "Epoch 16/50\n",
            "31/31 [==============================] - 0s 13ms/step - loss: 0.0034 - mean_squared_error: 0.0034 - mean_absolute_error: 0.0439 - val_loss: 0.0112 - val_mean_squared_error: 0.0112 - val_mean_absolute_error: 0.0846\n",
            "Epoch 17/50\n",
            "31/31 [==============================] - 0s 12ms/step - loss: 0.0022 - mean_squared_error: 0.0022 - mean_absolute_error: 0.0343 - val_loss: 0.0119 - val_mean_squared_error: 0.0119 - val_mean_absolute_error: 0.0865\n",
            "Epoch 18/50\n",
            "31/31 [==============================] - 0s 12ms/step - loss: 0.0021 - mean_squared_error: 0.0021 - mean_absolute_error: 0.0340 - val_loss: 0.0092 - val_mean_squared_error: 0.0092 - val_mean_absolute_error: 0.0759\n",
            "Epoch 19/50\n",
            "31/31 [==============================] - 0s 11ms/step - loss: 0.0032 - mean_squared_error: 0.0032 - mean_absolute_error: 0.0403 - val_loss: 0.0085 - val_mean_squared_error: 0.0085 - val_mean_absolute_error: 0.0718\n",
            "Epoch 20/50\n",
            "31/31 [==============================] - 0s 11ms/step - loss: 0.0025 - mean_squared_error: 0.0025 - mean_absolute_error: 0.0349 - val_loss: 0.0105 - val_mean_squared_error: 0.0105 - val_mean_absolute_error: 0.0820\n",
            "Epoch 21/50\n",
            "31/31 [==============================] - 0s 13ms/step - loss: 0.0031 - mean_squared_error: 0.0031 - mean_absolute_error: 0.0423 - val_loss: 0.0082 - val_mean_squared_error: 0.0082 - val_mean_absolute_error: 0.0699\n",
            "Epoch 22/50\n",
            "31/31 [==============================] - 0s 12ms/step - loss: 0.0021 - mean_squared_error: 0.0021 - mean_absolute_error: 0.0349 - val_loss: 0.0128 - val_mean_squared_error: 0.0128 - val_mean_absolute_error: 0.0908\n",
            "Epoch 23/50\n",
            "31/31 [==============================] - 0s 12ms/step - loss: 0.0023 - mean_squared_error: 0.0023 - mean_absolute_error: 0.0365 - val_loss: 0.0086 - val_mean_squared_error: 0.0086 - val_mean_absolute_error: 0.0723\n",
            "Epoch 24/50\n",
            "31/31 [==============================] - 0s 11ms/step - loss: 0.0017 - mean_squared_error: 0.0017 - mean_absolute_error: 0.0308 - val_loss: 0.0081 - val_mean_squared_error: 0.0081 - val_mean_absolute_error: 0.0677\n",
            "Epoch 25/50\n",
            "31/31 [==============================] - 0s 12ms/step - loss: 0.0035 - mean_squared_error: 0.0035 - mean_absolute_error: 0.0416 - val_loss: 0.0201 - val_mean_squared_error: 0.0201 - val_mean_absolute_error: 0.1155\n",
            "Epoch 26/50\n",
            "31/31 [==============================] - 0s 11ms/step - loss: 0.0031 - mean_squared_error: 0.0031 - mean_absolute_error: 0.0377 - val_loss: 0.0088 - val_mean_squared_error: 0.0088 - val_mean_absolute_error: 0.0742\n",
            "Epoch 27/50\n",
            "31/31 [==============================] - 0s 11ms/step - loss: 0.0024 - mean_squared_error: 0.0024 - mean_absolute_error: 0.0377 - val_loss: 0.0093 - val_mean_squared_error: 0.0093 - val_mean_absolute_error: 0.0756\n",
            "Epoch 28/50\n",
            "31/31 [==============================] - 0s 12ms/step - loss: 0.0022 - mean_squared_error: 0.0022 - mean_absolute_error: 0.0358 - val_loss: 0.0152 - val_mean_squared_error: 0.0152 - val_mean_absolute_error: 0.1009\n",
            "Epoch 29/50\n",
            "31/31 [==============================] - 0s 12ms/step - loss: 0.0018 - mean_squared_error: 0.0018 - mean_absolute_error: 0.0318 - val_loss: 0.0088 - val_mean_squared_error: 0.0088 - val_mean_absolute_error: 0.0717\n",
            "Epoch 30/50\n",
            "31/31 [==============================] - 0s 12ms/step - loss: 0.0015 - mean_squared_error: 0.0015 - mean_absolute_error: 0.0298 - val_loss: 0.0080 - val_mean_squared_error: 0.0080 - val_mean_absolute_error: 0.0701\n",
            "Epoch 31/50\n",
            "31/31 [==============================] - 0s 12ms/step - loss: 0.0020 - mean_squared_error: 0.0020 - mean_absolute_error: 0.0319 - val_loss: 0.0194 - val_mean_squared_error: 0.0194 - val_mean_absolute_error: 0.1163\n",
            "Epoch 32/50\n",
            "31/31 [==============================] - 0s 12ms/step - loss: 0.0026 - mean_squared_error: 0.0026 - mean_absolute_error: 0.0385 - val_loss: 0.0161 - val_mean_squared_error: 0.0161 - val_mean_absolute_error: 0.1043\n",
            "Epoch 33/50\n",
            "31/31 [==============================] - 0s 12ms/step - loss: 0.0021 - mean_squared_error: 0.0021 - mean_absolute_error: 0.0334 - val_loss: 0.0122 - val_mean_squared_error: 0.0122 - val_mean_absolute_error: 0.0896\n",
            "Epoch 34/50\n",
            "31/31 [==============================] - 0s 12ms/step - loss: 0.0023 - mean_squared_error: 0.0023 - mean_absolute_error: 0.0363 - val_loss: 0.0084 - val_mean_squared_error: 0.0084 - val_mean_absolute_error: 0.0710\n",
            "Epoch 35/50\n",
            "31/31 [==============================] - 0s 13ms/step - loss: 0.0012 - mean_squared_error: 0.0012 - mean_absolute_error: 0.0252 - val_loss: 0.0076 - val_mean_squared_error: 0.0076 - val_mean_absolute_error: 0.0674\n",
            "Epoch 36/50\n",
            "31/31 [==============================] - 0s 12ms/step - loss: 0.0016 - mean_squared_error: 0.0016 - mean_absolute_error: 0.0294 - val_loss: 0.0097 - val_mean_squared_error: 0.0097 - val_mean_absolute_error: 0.0779\n",
            "Epoch 37/50\n",
            "31/31 [==============================] - 0s 12ms/step - loss: 0.0024 - mean_squared_error: 0.0024 - mean_absolute_error: 0.0350 - val_loss: 0.0089 - val_mean_squared_error: 0.0089 - val_mean_absolute_error: 0.0718\n",
            "Epoch 38/50\n",
            "31/31 [==============================] - 0s 12ms/step - loss: 0.0012 - mean_squared_error: 0.0012 - mean_absolute_error: 0.0247 - val_loss: 0.0087 - val_mean_squared_error: 0.0087 - val_mean_absolute_error: 0.0724\n",
            "Epoch 39/50\n",
            "31/31 [==============================] - 0s 12ms/step - loss: 0.0015 - mean_squared_error: 0.0015 - mean_absolute_error: 0.0283 - val_loss: 0.0079 - val_mean_squared_error: 0.0079 - val_mean_absolute_error: 0.0694\n",
            "Epoch 40/50\n",
            "31/31 [==============================] - 0s 11ms/step - loss: 0.0018 - mean_squared_error: 0.0018 - mean_absolute_error: 0.0301 - val_loss: 0.0072 - val_mean_squared_error: 0.0072 - val_mean_absolute_error: 0.0660\n",
            "Epoch 41/50\n",
            "31/31 [==============================] - 0s 12ms/step - loss: 0.0015 - mean_squared_error: 0.0015 - mean_absolute_error: 0.0282 - val_loss: 0.0085 - val_mean_squared_error: 0.0085 - val_mean_absolute_error: 0.0724\n",
            "Epoch 42/50\n",
            "31/31 [==============================] - 0s 12ms/step - loss: 0.0013 - mean_squared_error: 0.0013 - mean_absolute_error: 0.0256 - val_loss: 0.0080 - val_mean_squared_error: 0.0080 - val_mean_absolute_error: 0.0712\n",
            "Epoch 43/50\n",
            "31/31 [==============================] - 0s 13ms/step - loss: 0.0014 - mean_squared_error: 0.0014 - mean_absolute_error: 0.0283 - val_loss: 0.0090 - val_mean_squared_error: 0.0090 - val_mean_absolute_error: 0.0744\n",
            "Epoch 44/50\n",
            "31/31 [==============================] - 0s 12ms/step - loss: 0.0014 - mean_squared_error: 0.0014 - mean_absolute_error: 0.0285 - val_loss: 0.0076 - val_mean_squared_error: 0.0076 - val_mean_absolute_error: 0.0685\n",
            "Epoch 45/50\n",
            "31/31 [==============================] - 0s 11ms/step - loss: 0.0015 - mean_squared_error: 0.0015 - mean_absolute_error: 0.0284 - val_loss: 0.0082 - val_mean_squared_error: 0.0082 - val_mean_absolute_error: 0.0729\n",
            "Epoch 46/50\n",
            "31/31 [==============================] - 0s 11ms/step - loss: 0.0014 - mean_squared_error: 0.0014 - mean_absolute_error: 0.0281 - val_loss: 0.0081 - val_mean_squared_error: 0.0081 - val_mean_absolute_error: 0.0720\n",
            "Epoch 47/50\n",
            "31/31 [==============================] - 0s 12ms/step - loss: 0.0013 - mean_squared_error: 0.0013 - mean_absolute_error: 0.0268 - val_loss: 0.0086 - val_mean_squared_error: 0.0086 - val_mean_absolute_error: 0.0729\n",
            "Epoch 48/50\n",
            "31/31 [==============================] - 0s 12ms/step - loss: 0.0014 - mean_squared_error: 0.0014 - mean_absolute_error: 0.0277 - val_loss: 0.0080 - val_mean_squared_error: 0.0080 - val_mean_absolute_error: 0.0708\n",
            "Epoch 49/50\n",
            "31/31 [==============================] - 0s 12ms/step - loss: 0.0013 - mean_squared_error: 0.0013 - mean_absolute_error: 0.0260 - val_loss: 0.0081 - val_mean_squared_error: 0.0081 - val_mean_absolute_error: 0.0709\n",
            "Epoch 50/50\n",
            "31/31 [==============================] - 0s 12ms/step - loss: 0.0014 - mean_squared_error: 0.0014 - mean_absolute_error: 0.0265 - val_loss: 0.0078 - val_mean_squared_error: 0.0078 - val_mean_absolute_error: 0.0687\n"
          ],
          "name": "stdout"
        },
        {
          "output_type": "display_data",
          "data": {
            "text/html": [
              "<br/>Waiting for W&B process to finish, PID 5047<br/>Program ended successfully."
            ],
            "text/plain": [
              "<IPython.core.display.HTML object>"
            ]
          },
          "metadata": {
            "tags": []
          }
        },
        {
          "output_type": "display_data",
          "data": {
            "application/vnd.jupyter.widget-view+json": {
              "model_id": "defb6881052046b5b4fd404971e848b6",
              "version_minor": 0,
              "version_major": 2
            },
            "text/plain": [
              "VBox(children=(Label(value=' 0.95MB of 0.95MB uploaded (0.00MB deduped)\\r'), FloatProgress(value=1.0, max=1.0)…"
            ]
          },
          "metadata": {
            "tags": []
          }
        },
        {
          "output_type": "display_data",
          "data": {
            "text/html": [
              "Find user logs for this run at: <code>/content/feeder_repo/wandb/run-20210723_142435-qzxjkbh5/logs/debug.log</code>"
            ],
            "text/plain": [
              "<IPython.core.display.HTML object>"
            ]
          },
          "metadata": {
            "tags": []
          }
        },
        {
          "output_type": "display_data",
          "data": {
            "text/html": [
              "Find internal logs for this run at: <code>/content/feeder_repo/wandb/run-20210723_142435-qzxjkbh5/logs/debug-internal.log</code>"
            ],
            "text/plain": [
              "<IPython.core.display.HTML object>"
            ]
          },
          "metadata": {
            "tags": []
          }
        },
        {
          "output_type": "display_data",
          "data": {
            "text/html": [
              "<h3>Run summary:</h3><br/><style>\n",
              "    table.wandb td:nth-child(1) { padding: 0 10px; text-align: right }\n",
              "    </style><table class=\"wandb\">\n",
              "<tr><td>epoch</td><td>49</td></tr><tr><td>loss</td><td>0.00149</td></tr><tr><td>mean_squared_error</td><td>0.00149</td></tr><tr><td>mean_absolute_error</td><td>0.02824</td></tr><tr><td>val_loss</td><td>0.00781</td></tr><tr><td>val_mean_squared_error</td><td>0.00781</td></tr><tr><td>val_mean_absolute_error</td><td>0.06871</td></tr><tr><td>_runtime</td><td>26</td></tr><tr><td>_timestamp</td><td>1627050301</td></tr><tr><td>_step</td><td>49</td></tr><tr><td>best_val_loss</td><td>0.00724</td></tr><tr><td>best_epoch</td><td>39</td></tr></table>"
            ],
            "text/plain": [
              "<IPython.core.display.HTML object>"
            ]
          },
          "metadata": {
            "tags": []
          }
        },
        {
          "output_type": "display_data",
          "data": {
            "text/html": [
              "<h3>Run history:</h3><br/><style>\n",
              "    table.wandb td:nth-child(1) { padding: 0 10px; text-align: right }\n",
              "    </style><table class=\"wandb\">\n",
              "<tr><td>epoch</td><td>▁▁▁▁▂▂▂▂▂▃▃▃▃▃▃▄▄▄▄▄▅▅▅▅▅▅▆▆▆▆▆▆▇▇▇▇▇███</td></tr><tr><td>loss</td><td>█▃▂▂▂▂▂▂▂▂▂▁▂▁▁▂▁▁▁▁▁▁▁▁▁▁▁▁▁▁▁▁▁▁▁▁▁▁▁▁</td></tr><tr><td>mean_squared_error</td><td>█▃▂▂▂▂▂▂▂▂▂▁▂▁▁▂▁▁▁▁▁▁▁▁▁▁▁▁▁▁▁▁▁▁▁▁▁▁▁▁</td></tr><tr><td>mean_absolute_error</td><td>█▅▄▃▄▃▃▃▃▂▂▂▂▂▂▂▂▂▂▁▂▂▂▂▁▂▁▂▁▂▁▁▁▁▁▁▁▁▁▁</td></tr><tr><td>val_loss</td><td>█▄█▅▃▂▂▂▂▂▃▁▂▂▁▁▁▂▁▁▁▁▃▁▃▃▂▁▁▁▁▁▁▁▁▁▁▁▁▁</td></tr><tr><td>val_mean_squared_error</td><td>█▄█▅▃▂▂▂▂▂▃▁▂▂▁▁▁▂▁▁▁▁▃▁▃▃▂▁▁▁▁▁▁▁▁▁▁▁▁▁</td></tr><tr><td>val_mean_absolute_error</td><td>█▅▇▆▃▂▃▃▂▂▃▁▂▂▂▁▁▃▁▁▁▂▃▁▄▃▂▁▂▁▁▁▁▁▁▁▁▁▁▁</td></tr><tr><td>_runtime</td><td>▁▁▁▁▂▂▂▂▂▂▃▃▃▃▄▄▄▄▄▄▅▅▅▅▅▅▅▆▆▆▆▇▇▇▇▇████</td></tr><tr><td>_timestamp</td><td>▁▁▁▁▂▂▂▂▂▂▃▃▃▃▄▄▄▄▄▄▅▅▅▅▅▅▅▆▆▆▆▇▇▇▇▇████</td></tr><tr><td>_step</td><td>▁▁▁▁▂▂▂▂▂▃▃▃▃▃▃▄▄▄▄▄▅▅▅▅▅▅▆▆▆▆▆▆▇▇▇▇▇███</td></tr></table><br/>"
            ],
            "text/plain": [
              "<IPython.core.display.HTML object>"
            ]
          },
          "metadata": {
            "tags": []
          }
        },
        {
          "output_type": "display_data",
          "data": {
            "text/html": [
              "Synced 5 W&B file(s), 1 media file(s), 2 artifact file(s) and 2 other file(s)"
            ],
            "text/plain": [
              "<IPython.core.display.HTML object>"
            ]
          },
          "metadata": {
            "tags": []
          }
        },
        {
          "output_type": "display_data",
          "data": {
            "text/html": [
              "\n",
              "                    <br/>Synced <strong style=\"color:#cdcd00\">serene-sweep-25</strong>: <a href=\"https://wandb.ai/acse-jaq15/ACSE_9_MLP_AE/runs/qzxjkbh5\" target=\"_blank\">https://wandb.ai/acse-jaq15/ACSE_9_MLP_AE/runs/qzxjkbh5</a><br/>\n",
              "                "
            ],
            "text/plain": [
              "<IPython.core.display.HTML object>"
            ]
          },
          "metadata": {
            "tags": []
          }
        },
        {
          "output_type": "stream",
          "text": [
            "\u001b[34m\u001b[1mwandb\u001b[0m: Agent Starting Run: jpaj0dmq with config:\n",
            "\u001b[34m\u001b[1mwandb\u001b[0m: \tactivation: selu\n",
            "\u001b[34m\u001b[1mwandb\u001b[0m: \tbatch_size: 64\n",
            "\u001b[34m\u001b[1mwandb\u001b[0m: \tepochs: 50\n",
            "\u001b[34m\u001b[1mwandb\u001b[0m: \tlearning_rate: 0.0005\n",
            "\u001b[34m\u001b[1mwandb\u001b[0m: \toptimizer: sgd\n"
          ],
          "name": "stderr"
        },
        {
          "output_type": "display_data",
          "data": {
            "text/html": [
              "\n",
              "                Tracking run with wandb version 0.11.0<br/>\n",
              "                Syncing run <strong style=\"color:#cdcd00\">polished-sweep-26</strong> to <a href=\"https://wandb.ai\" target=\"_blank\">Weights & Biases</a> <a href=\"https://docs.wandb.com/integrations/jupyter.html\" target=\"_blank\">(Documentation)</a>.<br/>\n",
              "                Project page: <a href=\"https://wandb.ai/acse-jaq15/ACSE_9_MLP_AE\" target=\"_blank\">https://wandb.ai/acse-jaq15/ACSE_9_MLP_AE</a><br/>\n",
              "                Sweep page: <a href=\"https://wandb.ai/acse-jaq15/ACSE_9_MLP_AE/sweeps/ucphf2s3\" target=\"_blank\">https://wandb.ai/acse-jaq15/ACSE_9_MLP_AE/sweeps/ucphf2s3</a><br/>\n",
              "Run page: <a href=\"https://wandb.ai/acse-jaq15/ACSE_9_MLP_AE/runs/jpaj0dmq\" target=\"_blank\">https://wandb.ai/acse-jaq15/ACSE_9_MLP_AE/runs/jpaj0dmq</a><br/>\n",
              "                Run data is saved locally in <code>/content/feeder_repo/wandb/run-20210723_142508-jpaj0dmq</code><br/><br/>\n",
              "            "
            ],
            "text/plain": [
              "<IPython.core.display.HTML object>"
            ]
          },
          "metadata": {
            "tags": []
          }
        },
        {
          "output_type": "stream",
          "text": [
            "Epoch 1/50\n",
            "16/16 [==============================] - 3s 56ms/step - loss: 0.0322 - mean_squared_error: 0.0322 - mean_absolute_error: 0.1275 - val_loss: 0.0259 - val_mean_squared_error: 0.0259 - val_mean_absolute_error: 0.1328\n",
            "Epoch 2/50\n",
            "16/16 [==============================] - 0s 11ms/step - loss: 0.0044 - mean_squared_error: 0.0044 - mean_absolute_error: 0.0507 - val_loss: 0.0220 - val_mean_squared_error: 0.0220 - val_mean_absolute_error: 0.1198\n",
            "Epoch 3/50\n",
            "16/16 [==============================] - 0s 14ms/step - loss: 0.0034 - mean_squared_error: 0.0034 - mean_absolute_error: 0.0457 - val_loss: 0.0210 - val_mean_squared_error: 0.0210 - val_mean_absolute_error: 0.1133\n",
            "Epoch 4/50\n",
            "16/16 [==============================] - 0s 14ms/step - loss: 0.0031 - mean_squared_error: 0.0031 - mean_absolute_error: 0.0428 - val_loss: 0.0194 - val_mean_squared_error: 0.0194 - val_mean_absolute_error: 0.1112\n",
            "Epoch 5/50\n",
            "16/16 [==============================] - 0s 11ms/step - loss: 0.0029 - mean_squared_error: 0.0029 - mean_absolute_error: 0.0424 - val_loss: 0.0182 - val_mean_squared_error: 0.0182 - val_mean_absolute_error: 0.1069\n",
            "Epoch 6/50\n",
            "16/16 [==============================] - 0s 12ms/step - loss: 0.0028 - mean_squared_error: 0.0028 - mean_absolute_error: 0.0410 - val_loss: 0.0185 - val_mean_squared_error: 0.0185 - val_mean_absolute_error: 0.1050\n",
            "Epoch 7/50\n",
            "16/16 [==============================] - 0s 11ms/step - loss: 0.0028 - mean_squared_error: 0.0028 - mean_absolute_error: 0.0410 - val_loss: 0.0170 - val_mean_squared_error: 0.0170 - val_mean_absolute_error: 0.1016\n",
            "Epoch 8/50\n",
            "16/16 [==============================] - 0s 12ms/step - loss: 0.0025 - mean_squared_error: 0.0025 - mean_absolute_error: 0.0380 - val_loss: 0.0160 - val_mean_squared_error: 0.0160 - val_mean_absolute_error: 0.0995\n",
            "Epoch 9/50\n",
            "16/16 [==============================] - 0s 11ms/step - loss: 0.0022 - mean_squared_error: 0.0022 - mean_absolute_error: 0.0359 - val_loss: 0.0154 - val_mean_squared_error: 0.0154 - val_mean_absolute_error: 0.0969\n",
            "Epoch 10/50\n",
            "16/16 [==============================] - 0s 11ms/step - loss: 0.0021 - mean_squared_error: 0.0021 - mean_absolute_error: 0.0354 - val_loss: 0.0150 - val_mean_squared_error: 0.0150 - val_mean_absolute_error: 0.0959\n",
            "Epoch 11/50\n",
            "16/16 [==============================] - 0s 10ms/step - loss: 0.0019 - mean_squared_error: 0.0019 - mean_absolute_error: 0.0338 - val_loss: 0.0148 - val_mean_squared_error: 0.0148 - val_mean_absolute_error: 0.0941\n",
            "Epoch 12/50\n",
            "16/16 [==============================] - 0s 12ms/step - loss: 0.0020 - mean_squared_error: 0.0020 - mean_absolute_error: 0.0345 - val_loss: 0.0146 - val_mean_squared_error: 0.0146 - val_mean_absolute_error: 0.0933\n",
            "Epoch 13/50\n",
            "16/16 [==============================] - 0s 13ms/step - loss: 0.0019 - mean_squared_error: 0.0019 - mean_absolute_error: 0.0334 - val_loss: 0.0142 - val_mean_squared_error: 0.0142 - val_mean_absolute_error: 0.0917\n",
            "Epoch 14/50\n",
            "16/16 [==============================] - 0s 14ms/step - loss: 0.0017 - mean_squared_error: 0.0017 - mean_absolute_error: 0.0318 - val_loss: 0.0136 - val_mean_squared_error: 0.0136 - val_mean_absolute_error: 0.0902\n",
            "Epoch 15/50\n",
            "16/16 [==============================] - 0s 12ms/step - loss: 0.0018 - mean_squared_error: 0.0018 - mean_absolute_error: 0.0324 - val_loss: 0.0136 - val_mean_squared_error: 0.0136 - val_mean_absolute_error: 0.0892\n",
            "Epoch 16/50\n",
            "16/16 [==============================] - 0s 13ms/step - loss: 0.0016 - mean_squared_error: 0.0016 - mean_absolute_error: 0.0312 - val_loss: 0.0131 - val_mean_squared_error: 0.0131 - val_mean_absolute_error: 0.0876\n",
            "Epoch 17/50\n",
            "16/16 [==============================] - 0s 12ms/step - loss: 0.0016 - mean_squared_error: 0.0016 - mean_absolute_error: 0.0301 - val_loss: 0.0130 - val_mean_squared_error: 0.0130 - val_mean_absolute_error: 0.0870\n",
            "Epoch 18/50\n",
            "16/16 [==============================] - 0s 11ms/step - loss: 0.0016 - mean_squared_error: 0.0016 - mean_absolute_error: 0.0307 - val_loss: 0.0124 - val_mean_squared_error: 0.0124 - val_mean_absolute_error: 0.0858\n",
            "Epoch 19/50\n",
            "16/16 [==============================] - 0s 12ms/step - loss: 0.0015 - mean_squared_error: 0.0015 - mean_absolute_error: 0.0296 - val_loss: 0.0121 - val_mean_squared_error: 0.0121 - val_mean_absolute_error: 0.0852\n",
            "Epoch 20/50\n",
            "16/16 [==============================] - 0s 11ms/step - loss: 0.0015 - mean_squared_error: 0.0015 - mean_absolute_error: 0.0298 - val_loss: 0.0127 - val_mean_squared_error: 0.0127 - val_mean_absolute_error: 0.0859\n",
            "Epoch 21/50\n",
            "16/16 [==============================] - 0s 15ms/step - loss: 0.0016 - mean_squared_error: 0.0016 - mean_absolute_error: 0.0309 - val_loss: 0.0119 - val_mean_squared_error: 0.0119 - val_mean_absolute_error: 0.0834\n",
            "Epoch 22/50\n",
            "16/16 [==============================] - 0s 12ms/step - loss: 0.0014 - mean_squared_error: 0.0014 - mean_absolute_error: 0.0284 - val_loss: 0.0119 - val_mean_squared_error: 0.0119 - val_mean_absolute_error: 0.0849\n",
            "Epoch 23/50\n",
            "16/16 [==============================] - 0s 11ms/step - loss: 0.0014 - mean_squared_error: 0.0014 - mean_absolute_error: 0.0291 - val_loss: 0.0118 - val_mean_squared_error: 0.0118 - val_mean_absolute_error: 0.0826\n",
            "Epoch 24/50\n",
            "16/16 [==============================] - 0s 11ms/step - loss: 0.0015 - mean_squared_error: 0.0015 - mean_absolute_error: 0.0291 - val_loss: 0.0112 - val_mean_squared_error: 0.0112 - val_mean_absolute_error: 0.0805\n",
            "Epoch 25/50\n",
            "16/16 [==============================] - 0s 13ms/step - loss: 0.0013 - mean_squared_error: 0.0013 - mean_absolute_error: 0.0273 - val_loss: 0.0112 - val_mean_squared_error: 0.0112 - val_mean_absolute_error: 0.0802\n",
            "Epoch 26/50\n",
            "16/16 [==============================] - 0s 13ms/step - loss: 0.0013 - mean_squared_error: 0.0013 - mean_absolute_error: 0.0273 - val_loss: 0.0116 - val_mean_squared_error: 0.0116 - val_mean_absolute_error: 0.0816\n",
            "Epoch 27/50\n",
            "16/16 [==============================] - 0s 11ms/step - loss: 0.0013 - mean_squared_error: 0.0013 - mean_absolute_error: 0.0285 - val_loss: 0.0112 - val_mean_squared_error: 0.0112 - val_mean_absolute_error: 0.0801\n",
            "Epoch 28/50\n",
            "16/16 [==============================] - 0s 12ms/step - loss: 0.0013 - mean_squared_error: 0.0013 - mean_absolute_error: 0.0282 - val_loss: 0.0107 - val_mean_squared_error: 0.0107 - val_mean_absolute_error: 0.0786\n",
            "Epoch 29/50\n",
            "16/16 [==============================] - 0s 12ms/step - loss: 0.0012 - mean_squared_error: 0.0012 - mean_absolute_error: 0.0265 - val_loss: 0.0107 - val_mean_squared_error: 0.0107 - val_mean_absolute_error: 0.0794\n",
            "Epoch 30/50\n",
            "16/16 [==============================] - 0s 11ms/step - loss: 0.0013 - mean_squared_error: 0.0013 - mean_absolute_error: 0.0269 - val_loss: 0.0105 - val_mean_squared_error: 0.0105 - val_mean_absolute_error: 0.0771\n",
            "Epoch 31/50\n",
            "16/16 [==============================] - 0s 13ms/step - loss: 0.0011 - mean_squared_error: 0.0011 - mean_absolute_error: 0.0248 - val_loss: 0.0104 - val_mean_squared_error: 0.0104 - val_mean_absolute_error: 0.0774\n",
            "Epoch 32/50\n",
            "16/16 [==============================] - 0s 11ms/step - loss: 0.0012 - mean_squared_error: 0.0012 - mean_absolute_error: 0.0257 - val_loss: 0.0103 - val_mean_squared_error: 0.0103 - val_mean_absolute_error: 0.0766\n",
            "Epoch 33/50\n",
            "16/16 [==============================] - 0s 11ms/step - loss: 0.0012 - mean_squared_error: 0.0012 - mean_absolute_error: 0.0267 - val_loss: 0.0112 - val_mean_squared_error: 0.0112 - val_mean_absolute_error: 0.0802\n",
            "Epoch 34/50\n",
            "16/16 [==============================] - 0s 11ms/step - loss: 0.0014 - mean_squared_error: 0.0014 - mean_absolute_error: 0.0286 - val_loss: 0.0102 - val_mean_squared_error: 0.0102 - val_mean_absolute_error: 0.0772\n",
            "Epoch 35/50\n",
            "16/16 [==============================] - 0s 12ms/step - loss: 0.0013 - mean_squared_error: 0.0013 - mean_absolute_error: 0.0274 - val_loss: 0.0100 - val_mean_squared_error: 0.0100 - val_mean_absolute_error: 0.0749\n",
            "Epoch 36/50\n",
            "16/16 [==============================] - 0s 12ms/step - loss: 0.0012 - mean_squared_error: 0.0012 - mean_absolute_error: 0.0268 - val_loss: 0.0099 - val_mean_squared_error: 0.0099 - val_mean_absolute_error: 0.0748\n",
            "Epoch 37/50\n",
            "16/16 [==============================] - 0s 11ms/step - loss: 0.0012 - mean_squared_error: 0.0012 - mean_absolute_error: 0.0260 - val_loss: 0.0105 - val_mean_squared_error: 0.0105 - val_mean_absolute_error: 0.0773\n",
            "Epoch 38/50\n",
            "16/16 [==============================] - 0s 14ms/step - loss: 0.0013 - mean_squared_error: 0.0013 - mean_absolute_error: 0.0269 - val_loss: 0.0099 - val_mean_squared_error: 0.0099 - val_mean_absolute_error: 0.0753\n",
            "Epoch 39/50\n",
            "16/16 [==============================] - 0s 14ms/step - loss: 0.0011 - mean_squared_error: 0.0011 - mean_absolute_error: 0.0248 - val_loss: 0.0097 - val_mean_squared_error: 0.0097 - val_mean_absolute_error: 0.0734\n",
            "Epoch 40/50\n",
            "16/16 [==============================] - 0s 12ms/step - loss: 0.0012 - mean_squared_error: 0.0012 - mean_absolute_error: 0.0268 - val_loss: 0.0096 - val_mean_squared_error: 0.0096 - val_mean_absolute_error: 0.0731\n",
            "Epoch 41/50\n",
            "16/16 [==============================] - 0s 11ms/step - loss: 0.0012 - mean_squared_error: 0.0012 - mean_absolute_error: 0.0266 - val_loss: 0.0095 - val_mean_squared_error: 0.0095 - val_mean_absolute_error: 0.0729\n",
            "Epoch 42/50\n",
            "16/16 [==============================] - 0s 11ms/step - loss: 0.0012 - mean_squared_error: 0.0012 - mean_absolute_error: 0.0257 - val_loss: 0.0095 - val_mean_squared_error: 0.0095 - val_mean_absolute_error: 0.0727\n",
            "Epoch 43/50\n",
            "16/16 [==============================] - 0s 12ms/step - loss: 0.0012 - mean_squared_error: 0.0012 - mean_absolute_error: 0.0254 - val_loss: 0.0094 - val_mean_squared_error: 0.0094 - val_mean_absolute_error: 0.0729\n",
            "Epoch 44/50\n",
            "16/16 [==============================] - 0s 12ms/step - loss: 0.0011 - mean_squared_error: 0.0011 - mean_absolute_error: 0.0250 - val_loss: 0.0094 - val_mean_squared_error: 0.0094 - val_mean_absolute_error: 0.0737\n",
            "Epoch 45/50\n",
            "16/16 [==============================] - 0s 11ms/step - loss: 0.0011 - mean_squared_error: 0.0011 - mean_absolute_error: 0.0257 - val_loss: 0.0097 - val_mean_squared_error: 0.0097 - val_mean_absolute_error: 0.0733\n",
            "Epoch 46/50\n",
            "16/16 [==============================] - 0s 11ms/step - loss: 0.0011 - mean_squared_error: 0.0011 - mean_absolute_error: 0.0256 - val_loss: 0.0092 - val_mean_squared_error: 0.0092 - val_mean_absolute_error: 0.0718\n",
            "Epoch 47/50\n",
            "16/16 [==============================] - 0s 11ms/step - loss: 9.8197e-04 - mean_squared_error: 9.8197e-04 - mean_absolute_error: 0.0239 - val_loss: 0.0092 - val_mean_squared_error: 0.0092 - val_mean_absolute_error: 0.0714\n",
            "Epoch 48/50\n",
            "16/16 [==============================] - 0s 11ms/step - loss: 0.0011 - mean_squared_error: 0.0011 - mean_absolute_error: 0.0251 - val_loss: 0.0092 - val_mean_squared_error: 0.0092 - val_mean_absolute_error: 0.0726\n",
            "Epoch 49/50\n",
            "16/16 [==============================] - 0s 11ms/step - loss: 0.0011 - mean_squared_error: 0.0011 - mean_absolute_error: 0.0255 - val_loss: 0.0090 - val_mean_squared_error: 0.0090 - val_mean_absolute_error: 0.0711\n",
            "Epoch 50/50\n",
            "16/16 [==============================] - 0s 12ms/step - loss: 0.0011 - mean_squared_error: 0.0011 - mean_absolute_error: 0.0252 - val_loss: 0.0090 - val_mean_squared_error: 0.0090 - val_mean_absolute_error: 0.0706\n"
          ],
          "name": "stdout"
        },
        {
          "output_type": "display_data",
          "data": {
            "text/html": [
              "<br/>Waiting for W&B process to finish, PID 5252<br/>Program ended successfully."
            ],
            "text/plain": [
              "<IPython.core.display.HTML object>"
            ]
          },
          "metadata": {
            "tags": []
          }
        },
        {
          "output_type": "display_data",
          "data": {
            "application/vnd.jupyter.widget-view+json": {
              "model_id": "c715f3cc8f0c4364a6c4154845232c30",
              "version_minor": 0,
              "version_major": 2
            },
            "text/plain": [
              "VBox(children=(Label(value=' 0.97MB of 0.97MB uploaded (0.00MB deduped)\\r'), FloatProgress(value=1.0, max=1.0)…"
            ]
          },
          "metadata": {
            "tags": []
          }
        },
        {
          "output_type": "display_data",
          "data": {
            "text/html": [
              "Find user logs for this run at: <code>/content/feeder_repo/wandb/run-20210723_142508-jpaj0dmq/logs/debug.log</code>"
            ],
            "text/plain": [
              "<IPython.core.display.HTML object>"
            ]
          },
          "metadata": {
            "tags": []
          }
        },
        {
          "output_type": "display_data",
          "data": {
            "text/html": [
              "Find internal logs for this run at: <code>/content/feeder_repo/wandb/run-20210723_142508-jpaj0dmq/logs/debug-internal.log</code>"
            ],
            "text/plain": [
              "<IPython.core.display.HTML object>"
            ]
          },
          "metadata": {
            "tags": []
          }
        },
        {
          "output_type": "display_data",
          "data": {
            "text/html": [
              "<h3>Run summary:</h3><br/><style>\n",
              "    table.wandb td:nth-child(1) { padding: 0 10px; text-align: right }\n",
              "    </style><table class=\"wandb\">\n",
              "<tr><td>epoch</td><td>49</td></tr><tr><td>loss</td><td>0.00106</td></tr><tr><td>mean_squared_error</td><td>0.00106</td></tr><tr><td>mean_absolute_error</td><td>0.02463</td></tr><tr><td>val_loss</td><td>0.00902</td></tr><tr><td>val_mean_squared_error</td><td>0.00902</td></tr><tr><td>val_mean_absolute_error</td><td>0.07061</td></tr><tr><td>_runtime</td><td>18</td></tr><tr><td>_timestamp</td><td>1627050326</td></tr><tr><td>_step</td><td>49</td></tr><tr><td>best_val_loss</td><td>0.00902</td></tr><tr><td>best_epoch</td><td>49</td></tr></table>"
            ],
            "text/plain": [
              "<IPython.core.display.HTML object>"
            ]
          },
          "metadata": {
            "tags": []
          }
        },
        {
          "output_type": "display_data",
          "data": {
            "text/html": [
              "<h3>Run history:</h3><br/><style>\n",
              "    table.wandb td:nth-child(1) { padding: 0 10px; text-align: right }\n",
              "    </style><table class=\"wandb\">\n",
              "<tr><td>epoch</td><td>▁▁▁▁▂▂▂▂▂▃▃▃▃▃▃▄▄▄▄▄▅▅▅▅▅▅▆▆▆▆▆▆▇▇▇▇▇███</td></tr><tr><td>loss</td><td>█▃▂▂▂▂▂▂▁▁▁▁▁▁▁▁▁▁▁▁▁▁▁▁▁▁▁▁▁▁▁▁▁▁▁▁▁▁▁▁</td></tr><tr><td>mean_squared_error</td><td>█▃▂▂▂▂▂▂▁▁▁▁▁▁▁▁▁▁▁▁▁▁▁▁▁▁▁▁▁▁▁▁▁▁▁▁▁▁▁▁</td></tr><tr><td>mean_absolute_error</td><td>█▄▄▃▃▃▂▂▂▂▂▂▂▂▂▂▂▁▁▁▁▁▁▁▁▁▁▁▁▁▁▁▁▁▁▁▁▁▁▁</td></tr><tr><td>val_loss</td><td>█▆▆▅▅▄▄▄▃▃▃▃▃▃▂▂▂▂▂▂▂▂▂▂▂▂▂▂▁▂▁▁▁▁▁▁▁▁▁▁</td></tr><tr><td>val_mean_squared_error</td><td>█▆▆▅▅▄▄▄▃▃▃▃▃▃▂▂▂▂▂▂▂▂▂▂▂▂▂▂▁▂▁▁▁▁▁▁▁▁▁▁</td></tr><tr><td>val_mean_absolute_error</td><td>█▇▆▆▅▄▄▄▄▄▃▃▃▃▃▃▂▃▂▂▂▂▂▂▂▂▂▂▁▂▂▁▁▁▁▁▁▁▁▁</td></tr><tr><td>_runtime</td><td>▁▁▂▂▂▂▂▂▂▃▃▃▃▃▃▄▄▄▅▅▅▅▅▅▅▆▆▆▆▆▆▆▇▇▇▇▇▇▇█</td></tr><tr><td>_timestamp</td><td>▁▁▂▂▂▂▂▂▂▃▃▃▃▃▃▄▄▄▅▅▅▅▅▅▅▆▆▆▆▆▆▆▇▇▇▇▇▇▇█</td></tr><tr><td>_step</td><td>▁▁▁▁▂▂▂▂▂▃▃▃▃▃▃▄▄▄▄▄▅▅▅▅▅▅▆▆▆▆▆▆▇▇▇▇▇███</td></tr></table><br/>"
            ],
            "text/plain": [
              "<IPython.core.display.HTML object>"
            ]
          },
          "metadata": {
            "tags": []
          }
        },
        {
          "output_type": "display_data",
          "data": {
            "text/html": [
              "Synced 5 W&B file(s), 1 media file(s), 2 artifact file(s) and 2 other file(s)"
            ],
            "text/plain": [
              "<IPython.core.display.HTML object>"
            ]
          },
          "metadata": {
            "tags": []
          }
        },
        {
          "output_type": "display_data",
          "data": {
            "text/html": [
              "\n",
              "                    <br/>Synced <strong style=\"color:#cdcd00\">polished-sweep-26</strong>: <a href=\"https://wandb.ai/acse-jaq15/ACSE_9_MLP_AE/runs/jpaj0dmq\" target=\"_blank\">https://wandb.ai/acse-jaq15/ACSE_9_MLP_AE/runs/jpaj0dmq</a><br/>\n",
              "                "
            ],
            "text/plain": [
              "<IPython.core.display.HTML object>"
            ]
          },
          "metadata": {
            "tags": []
          }
        },
        {
          "output_type": "stream",
          "text": [
            "\u001b[34m\u001b[1mwandb\u001b[0m: Agent Starting Run: j7ude7n7 with config:\n",
            "\u001b[34m\u001b[1mwandb\u001b[0m: \tactivation: selu\n",
            "\u001b[34m\u001b[1mwandb\u001b[0m: \tbatch_size: 64\n",
            "\u001b[34m\u001b[1mwandb\u001b[0m: \tepochs: 50\n",
            "\u001b[34m\u001b[1mwandb\u001b[0m: \tlearning_rate: 0.005\n",
            "\u001b[34m\u001b[1mwandb\u001b[0m: \toptimizer: sgd\n"
          ],
          "name": "stderr"
        },
        {
          "output_type": "display_data",
          "data": {
            "text/html": [
              "\n",
              "                Tracking run with wandb version 0.11.0<br/>\n",
              "                Syncing run <strong style=\"color:#cdcd00\">classic-sweep-27</strong> to <a href=\"https://wandb.ai\" target=\"_blank\">Weights & Biases</a> <a href=\"https://docs.wandb.com/integrations/jupyter.html\" target=\"_blank\">(Documentation)</a>.<br/>\n",
              "                Project page: <a href=\"https://wandb.ai/acse-jaq15/ACSE_9_MLP_AE\" target=\"_blank\">https://wandb.ai/acse-jaq15/ACSE_9_MLP_AE</a><br/>\n",
              "                Sweep page: <a href=\"https://wandb.ai/acse-jaq15/ACSE_9_MLP_AE/sweeps/ucphf2s3\" target=\"_blank\">https://wandb.ai/acse-jaq15/ACSE_9_MLP_AE/sweeps/ucphf2s3</a><br/>\n",
              "Run page: <a href=\"https://wandb.ai/acse-jaq15/ACSE_9_MLP_AE/runs/j7ude7n7\" target=\"_blank\">https://wandb.ai/acse-jaq15/ACSE_9_MLP_AE/runs/j7ude7n7</a><br/>\n",
              "                Run data is saved locally in <code>/content/feeder_repo/wandb/run-20210723_142545-j7ude7n7</code><br/><br/>\n",
              "            "
            ],
            "text/plain": [
              "<IPython.core.display.HTML object>"
            ]
          },
          "metadata": {
            "tags": []
          }
        },
        {
          "output_type": "stream",
          "text": [
            "Epoch 1/50\n",
            "16/16 [==============================] - 3s 58ms/step - loss: nan - mean_squared_error: nan - mean_absolute_error: nan - val_loss: nan - val_mean_squared_error: nan - val_mean_absolute_error: nan\n",
            "Epoch 2/50\n",
            "16/16 [==============================] - 0s 11ms/step - loss: nan - mean_squared_error: nan - mean_absolute_error: nan - val_loss: nan - val_mean_squared_error: nan - val_mean_absolute_error: nan\n",
            "Epoch 3/50\n",
            "16/16 [==============================] - 0s 11ms/step - loss: nan - mean_squared_error: nan - mean_absolute_error: nan - val_loss: nan - val_mean_squared_error: nan - val_mean_absolute_error: nan\n",
            "Epoch 4/50\n",
            "16/16 [==============================] - 0s 12ms/step - loss: nan - mean_squared_error: nan - mean_absolute_error: nan - val_loss: nan - val_mean_squared_error: nan - val_mean_absolute_error: nan\n",
            "Epoch 5/50\n",
            "16/16 [==============================] - 0s 12ms/step - loss: nan - mean_squared_error: nan - mean_absolute_error: nan - val_loss: nan - val_mean_squared_error: nan - val_mean_absolute_error: nan\n",
            "Epoch 6/50\n",
            "16/16 [==============================] - 0s 11ms/step - loss: nan - mean_squared_error: nan - mean_absolute_error: nan - val_loss: nan - val_mean_squared_error: nan - val_mean_absolute_error: nan\n",
            "Epoch 7/50\n",
            "16/16 [==============================] - 0s 11ms/step - loss: nan - mean_squared_error: nan - mean_absolute_error: nan - val_loss: nan - val_mean_squared_error: nan - val_mean_absolute_error: nan\n",
            "Epoch 8/50\n",
            "16/16 [==============================] - 0s 12ms/step - loss: nan - mean_squared_error: nan - mean_absolute_error: nan - val_loss: nan - val_mean_squared_error: nan - val_mean_absolute_error: nan\n",
            "Epoch 9/50\n",
            "16/16 [==============================] - 0s 11ms/step - loss: nan - mean_squared_error: nan - mean_absolute_error: nan - val_loss: nan - val_mean_squared_error: nan - val_mean_absolute_error: nan\n",
            "Epoch 10/50\n",
            "16/16 [==============================] - 0s 11ms/step - loss: nan - mean_squared_error: nan - mean_absolute_error: nan - val_loss: nan - val_mean_squared_error: nan - val_mean_absolute_error: nan\n"
          ],
          "name": "stdout"
        },
        {
          "output_type": "display_data",
          "data": {
            "text/html": [
              "<br/>Waiting for W&B process to finish, PID 5457<br/>Program ended successfully."
            ],
            "text/plain": [
              "<IPython.core.display.HTML object>"
            ]
          },
          "metadata": {
            "tags": []
          }
        },
        {
          "output_type": "display_data",
          "data": {
            "application/vnd.jupyter.widget-view+json": {
              "model_id": "aa3a402efaa3410d9980a23870cd2a06",
              "version_minor": 0,
              "version_major": 2
            },
            "text/plain": [
              "VBox(children=(Label(value=' 0.25MB of 0.25MB uploaded (0.00MB deduped)\\r'), FloatProgress(value=1.0, max=1.0)…"
            ]
          },
          "metadata": {
            "tags": []
          }
        },
        {
          "output_type": "display_data",
          "data": {
            "text/html": [
              "Find user logs for this run at: <code>/content/feeder_repo/wandb/run-20210723_142545-j7ude7n7/logs/debug.log</code>"
            ],
            "text/plain": [
              "<IPython.core.display.HTML object>"
            ]
          },
          "metadata": {
            "tags": []
          }
        },
        {
          "output_type": "display_data",
          "data": {
            "text/html": [
              "Find internal logs for this run at: <code>/content/feeder_repo/wandb/run-20210723_142545-j7ude7n7/logs/debug-internal.log</code>"
            ],
            "text/plain": [
              "<IPython.core.display.HTML object>"
            ]
          },
          "metadata": {
            "tags": []
          }
        },
        {
          "output_type": "display_data",
          "data": {
            "text/html": [
              "<h3>Run summary:</h3><br/><style>\n",
              "    table.wandb td:nth-child(1) { padding: 0 10px; text-align: right }\n",
              "    </style><table class=\"wandb\">\n",
              "<tr><td>epoch</td><td>9</td></tr><tr><td>loss</td><td>nan</td></tr><tr><td>mean_squared_error</td><td>nan</td></tr><tr><td>mean_absolute_error</td><td>nan</td></tr><tr><td>val_loss</td><td>nan</td></tr><tr><td>val_mean_squared_error</td><td>nan</td></tr><tr><td>val_mean_absolute_error</td><td>nan</td></tr><tr><td>_runtime</td><td>10</td></tr><tr><td>_timestamp</td><td>1627050355</td></tr><tr><td>_step</td><td>9</td></tr></table>"
            ],
            "text/plain": [
              "<IPython.core.display.HTML object>"
            ]
          },
          "metadata": {
            "tags": []
          }
        },
        {
          "output_type": "display_data",
          "data": {
            "text/html": [
              "<h3>Run history:</h3><br/><style>\n",
              "    table.wandb td:nth-child(1) { padding: 0 10px; text-align: right }\n",
              "    </style><table class=\"wandb\">\n",
              "<tr><td>epoch</td><td>▁▂▃▃▄▅▆▆▇█</td></tr><tr><td>loss</td><td></td></tr><tr><td>mean_squared_error</td><td></td></tr><tr><td>mean_absolute_error</td><td></td></tr><tr><td>val_loss</td><td></td></tr><tr><td>val_mean_squared_error</td><td></td></tr><tr><td>val_mean_absolute_error</td><td></td></tr><tr><td>_runtime</td><td>▁▁▁▁▅▅▅▅▅█</td></tr><tr><td>_timestamp</td><td>▁▁▁▁▅▅▅▅▅█</td></tr><tr><td>_step</td><td>▁▂▃▃▄▅▆▆▇█</td></tr></table><br/>"
            ],
            "text/plain": [
              "<IPython.core.display.HTML object>"
            ]
          },
          "metadata": {
            "tags": []
          }
        },
        {
          "output_type": "display_data",
          "data": {
            "text/html": [
              "Synced 5 W&B file(s), 1 media file(s), 2 artifact file(s) and 1 other file(s)"
            ],
            "text/plain": [
              "<IPython.core.display.HTML object>"
            ]
          },
          "metadata": {
            "tags": []
          }
        },
        {
          "output_type": "display_data",
          "data": {
            "text/html": [
              "\n",
              "                    <br/>Synced <strong style=\"color:#cdcd00\">classic-sweep-27</strong>: <a href=\"https://wandb.ai/acse-jaq15/ACSE_9_MLP_AE/runs/j7ude7n7\" target=\"_blank\">https://wandb.ai/acse-jaq15/ACSE_9_MLP_AE/runs/j7ude7n7</a><br/>\n",
              "                "
            ],
            "text/plain": [
              "<IPython.core.display.HTML object>"
            ]
          },
          "metadata": {
            "tags": []
          }
        },
        {
          "output_type": "stream",
          "text": [
            "\u001b[34m\u001b[1mwandb\u001b[0m: Agent Starting Run: 4y0crih4 with config:\n",
            "\u001b[34m\u001b[1mwandb\u001b[0m: \tactivation: relu\n",
            "\u001b[34m\u001b[1mwandb\u001b[0m: \tbatch_size: 64\n",
            "\u001b[34m\u001b[1mwandb\u001b[0m: \tepochs: 100\n",
            "\u001b[34m\u001b[1mwandb\u001b[0m: \tlearning_rate: 0.0005\n",
            "\u001b[34m\u001b[1mwandb\u001b[0m: \toptimizer: sgd\n"
          ],
          "name": "stderr"
        },
        {
          "output_type": "display_data",
          "data": {
            "text/html": [
              "\n",
              "                Tracking run with wandb version 0.11.0<br/>\n",
              "                Syncing run <strong style=\"color:#cdcd00\">crisp-sweep-28</strong> to <a href=\"https://wandb.ai\" target=\"_blank\">Weights & Biases</a> <a href=\"https://docs.wandb.com/integrations/jupyter.html\" target=\"_blank\">(Documentation)</a>.<br/>\n",
              "                Project page: <a href=\"https://wandb.ai/acse-jaq15/ACSE_9_MLP_AE\" target=\"_blank\">https://wandb.ai/acse-jaq15/ACSE_9_MLP_AE</a><br/>\n",
              "                Sweep page: <a href=\"https://wandb.ai/acse-jaq15/ACSE_9_MLP_AE/sweeps/ucphf2s3\" target=\"_blank\">https://wandb.ai/acse-jaq15/ACSE_9_MLP_AE/sweeps/ucphf2s3</a><br/>\n",
              "Run page: <a href=\"https://wandb.ai/acse-jaq15/ACSE_9_MLP_AE/runs/4y0crih4\" target=\"_blank\">https://wandb.ai/acse-jaq15/ACSE_9_MLP_AE/runs/4y0crih4</a><br/>\n",
              "                Run data is saved locally in <code>/content/feeder_repo/wandb/run-20210723_142602-4y0crih4</code><br/><br/>\n",
              "            "
            ],
            "text/plain": [
              "<IPython.core.display.HTML object>"
            ]
          },
          "metadata": {
            "tags": []
          }
        },
        {
          "output_type": "stream",
          "text": [
            "Epoch 1/100\n",
            "16/16 [==============================] - 3s 58ms/step - loss: 0.1417 - mean_squared_error: 0.1417 - mean_absolute_error: 0.3322 - val_loss: 0.2167 - val_mean_squared_error: 0.2167 - val_mean_absolute_error: 0.4059\n",
            "Epoch 2/100\n",
            "16/16 [==============================] - 0s 14ms/step - loss: 0.1078 - mean_squared_error: 0.1078 - mean_absolute_error: 0.2721 - val_loss: 0.1519 - val_mean_squared_error: 0.1519 - val_mean_absolute_error: 0.3270\n",
            "Epoch 3/100\n",
            "16/16 [==============================] - 0s 13ms/step - loss: 0.0607 - mean_squared_error: 0.0607 - mean_absolute_error: 0.1810 - val_loss: 0.1017 - val_mean_squared_error: 0.1017 - val_mean_absolute_error: 0.2601\n",
            "Epoch 4/100\n",
            "16/16 [==============================] - 0s 14ms/step - loss: 0.0436 - mean_squared_error: 0.0436 - mean_absolute_error: 0.1302 - val_loss: 0.0726 - val_mean_squared_error: 0.0726 - val_mean_absolute_error: 0.2157\n",
            "Epoch 5/100\n",
            "16/16 [==============================] - 0s 12ms/step - loss: 0.0313 - mean_squared_error: 0.0313 - mean_absolute_error: 0.1157 - val_loss: 0.0626 - val_mean_squared_error: 0.0626 - val_mean_absolute_error: 0.1989\n",
            "Epoch 6/100\n",
            "16/16 [==============================] - 0s 11ms/step - loss: 0.0277 - mean_squared_error: 0.0277 - mean_absolute_error: 0.1166 - val_loss: 0.0611 - val_mean_squared_error: 0.0611 - val_mean_absolute_error: 0.1965\n",
            "Epoch 7/100\n",
            "16/16 [==============================] - 0s 12ms/step - loss: 0.0271 - mean_squared_error: 0.0271 - mean_absolute_error: 0.1143 - val_loss: 0.0604 - val_mean_squared_error: 0.0604 - val_mean_absolute_error: 0.1955\n",
            "Epoch 8/100\n",
            "16/16 [==============================] - 0s 12ms/step - loss: 0.0258 - mean_squared_error: 0.0258 - mean_absolute_error: 0.1119 - val_loss: 0.0600 - val_mean_squared_error: 0.0600 - val_mean_absolute_error: 0.1952\n",
            "Epoch 9/100\n",
            "16/16 [==============================] - 0s 11ms/step - loss: 0.0239 - mean_squared_error: 0.0239 - mean_absolute_error: 0.1075 - val_loss: 0.0586 - val_mean_squared_error: 0.0586 - val_mean_absolute_error: 0.1930\n",
            "Epoch 10/100\n",
            "16/16 [==============================] - 0s 11ms/step - loss: 0.0276 - mean_squared_error: 0.0276 - mean_absolute_error: 0.1174 - val_loss: 0.0571 - val_mean_squared_error: 0.0571 - val_mean_absolute_error: 0.1907\n",
            "Epoch 11/100\n",
            "16/16 [==============================] - 0s 11ms/step - loss: 0.0291 - mean_squared_error: 0.0291 - mean_absolute_error: 0.1188 - val_loss: 0.0572 - val_mean_squared_error: 0.0572 - val_mean_absolute_error: 0.1915\n",
            "Epoch 12/100\n",
            "16/16 [==============================] - 0s 12ms/step - loss: 0.0265 - mean_squared_error: 0.0265 - mean_absolute_error: 0.1121 - val_loss: 0.0562 - val_mean_squared_error: 0.0562 - val_mean_absolute_error: 0.1902\n",
            "Epoch 13/100\n",
            "16/16 [==============================] - 0s 12ms/step - loss: 0.0257 - mean_squared_error: 0.0257 - mean_absolute_error: 0.1112 - val_loss: 0.0548 - val_mean_squared_error: 0.0548 - val_mean_absolute_error: 0.1882\n",
            "Epoch 14/100\n",
            "16/16 [==============================] - 0s 13ms/step - loss: 0.0212 - mean_squared_error: 0.0212 - mean_absolute_error: 0.1013 - val_loss: 0.0532 - val_mean_squared_error: 0.0532 - val_mean_absolute_error: 0.1854\n",
            "Epoch 15/100\n",
            "16/16 [==============================] - 0s 11ms/step - loss: 0.0205 - mean_squared_error: 0.0205 - mean_absolute_error: 0.1011 - val_loss: 0.0519 - val_mean_squared_error: 0.0519 - val_mean_absolute_error: 0.1835\n",
            "Epoch 16/100\n",
            "16/16 [==============================] - 0s 13ms/step - loss: 0.0235 - mean_squared_error: 0.0235 - mean_absolute_error: 0.1081 - val_loss: 0.0504 - val_mean_squared_error: 0.0504 - val_mean_absolute_error: 0.1811\n",
            "Epoch 17/100\n",
            "16/16 [==============================] - 0s 11ms/step - loss: 0.0213 - mean_squared_error: 0.0213 - mean_absolute_error: 0.1028 - val_loss: 0.0498 - val_mean_squared_error: 0.0498 - val_mean_absolute_error: 0.1804\n",
            "Epoch 18/100\n",
            "16/16 [==============================] - 0s 12ms/step - loss: 0.0211 - mean_squared_error: 0.0211 - mean_absolute_error: 0.1007 - val_loss: 0.0486 - val_mean_squared_error: 0.0486 - val_mean_absolute_error: 0.1786\n",
            "Epoch 19/100\n",
            "16/16 [==============================] - 0s 11ms/step - loss: 0.0221 - mean_squared_error: 0.0221 - mean_absolute_error: 0.1054 - val_loss: 0.0475 - val_mean_squared_error: 0.0475 - val_mean_absolute_error: 0.1767\n",
            "Epoch 20/100\n",
            "16/16 [==============================] - 0s 12ms/step - loss: 0.0190 - mean_squared_error: 0.0190 - mean_absolute_error: 0.0973 - val_loss: 0.0465 - val_mean_squared_error: 0.0465 - val_mean_absolute_error: 0.1751\n",
            "Epoch 21/100\n",
            "16/16 [==============================] - 0s 12ms/step - loss: 0.0166 - mean_squared_error: 0.0166 - mean_absolute_error: 0.0935 - val_loss: 0.0453 - val_mean_squared_error: 0.0453 - val_mean_absolute_error: 0.1728\n",
            "Epoch 22/100\n",
            "16/16 [==============================] - 0s 12ms/step - loss: 0.0175 - mean_squared_error: 0.0175 - mean_absolute_error: 0.0945 - val_loss: 0.0442 - val_mean_squared_error: 0.0442 - val_mean_absolute_error: 0.1710\n",
            "Epoch 23/100\n",
            "16/16 [==============================] - 0s 12ms/step - loss: 0.0163 - mean_squared_error: 0.0163 - mean_absolute_error: 0.0909 - val_loss: 0.0431 - val_mean_squared_error: 0.0431 - val_mean_absolute_error: 0.1690\n",
            "Epoch 24/100\n",
            "16/16 [==============================] - 0s 12ms/step - loss: 0.0159 - mean_squared_error: 0.0159 - mean_absolute_error: 0.0895 - val_loss: 0.0422 - val_mean_squared_error: 0.0422 - val_mean_absolute_error: 0.1676\n",
            "Epoch 25/100\n",
            "16/16 [==============================] - 0s 12ms/step - loss: 0.0135 - mean_squared_error: 0.0135 - mean_absolute_error: 0.0831 - val_loss: 0.0409 - val_mean_squared_error: 0.0409 - val_mean_absolute_error: 0.1652\n",
            "Epoch 26/100\n",
            "16/16 [==============================] - 0s 15ms/step - loss: 0.0131 - mean_squared_error: 0.0131 - mean_absolute_error: 0.0832 - val_loss: 0.0402 - val_mean_squared_error: 0.0402 - val_mean_absolute_error: 0.1645\n",
            "Epoch 27/100\n",
            "16/16 [==============================] - 0s 11ms/step - loss: 0.0127 - mean_squared_error: 0.0127 - mean_absolute_error: 0.0817 - val_loss: 0.0387 - val_mean_squared_error: 0.0387 - val_mean_absolute_error: 0.1615\n",
            "Epoch 28/100\n",
            "16/16 [==============================] - 0s 11ms/step - loss: 0.0110 - mean_squared_error: 0.0110 - mean_absolute_error: 0.0755 - val_loss: 0.0380 - val_mean_squared_error: 0.0380 - val_mean_absolute_error: 0.1606\n",
            "Epoch 29/100\n",
            "16/16 [==============================] - 0s 11ms/step - loss: 0.0101 - mean_squared_error: 0.0101 - mean_absolute_error: 0.0734 - val_loss: 0.0370 - val_mean_squared_error: 0.0370 - val_mean_absolute_error: 0.1583\n",
            "Epoch 30/100\n",
            "16/16 [==============================] - 0s 14ms/step - loss: 0.0108 - mean_squared_error: 0.0108 - mean_absolute_error: 0.0763 - val_loss: 0.0362 - val_mean_squared_error: 0.0362 - val_mean_absolute_error: 0.1570\n",
            "Epoch 31/100\n",
            "16/16 [==============================] - 0s 11ms/step - loss: 0.0094 - mean_squared_error: 0.0094 - mean_absolute_error: 0.0701 - val_loss: 0.0354 - val_mean_squared_error: 0.0354 - val_mean_absolute_error: 0.1553\n",
            "Epoch 32/100\n",
            "16/16 [==============================] - 0s 12ms/step - loss: 0.0089 - mean_squared_error: 0.0089 - mean_absolute_error: 0.0686 - val_loss: 0.0348 - val_mean_squared_error: 0.0348 - val_mean_absolute_error: 0.1541\n",
            "Epoch 33/100\n",
            "16/16 [==============================] - 0s 12ms/step - loss: 0.0082 - mean_squared_error: 0.0082 - mean_absolute_error: 0.0667 - val_loss: 0.0343 - val_mean_squared_error: 0.0343 - val_mean_absolute_error: 0.1532\n",
            "Epoch 34/100\n",
            "16/16 [==============================] - 0s 12ms/step - loss: 0.0083 - mean_squared_error: 0.0083 - mean_absolute_error: 0.0665 - val_loss: 0.0335 - val_mean_squared_error: 0.0335 - val_mean_absolute_error: 0.1506\n",
            "Epoch 35/100\n",
            "16/16 [==============================] - 0s 11ms/step - loss: 0.0078 - mean_squared_error: 0.0078 - mean_absolute_error: 0.0639 - val_loss: 0.0332 - val_mean_squared_error: 0.0332 - val_mean_absolute_error: 0.1501\n",
            "Epoch 36/100\n",
            "16/16 [==============================] - 0s 11ms/step - loss: 0.0075 - mean_squared_error: 0.0075 - mean_absolute_error: 0.0632 - val_loss: 0.0326 - val_mean_squared_error: 0.0326 - val_mean_absolute_error: 0.1483\n",
            "Epoch 37/100\n",
            "16/16 [==============================] - 0s 12ms/step - loss: 0.0068 - mean_squared_error: 0.0068 - mean_absolute_error: 0.0606 - val_loss: 0.0323 - val_mean_squared_error: 0.0323 - val_mean_absolute_error: 0.1472\n",
            "Epoch 38/100\n",
            "16/16 [==============================] - 0s 15ms/step - loss: 0.0068 - mean_squared_error: 0.0068 - mean_absolute_error: 0.0596 - val_loss: 0.0322 - val_mean_squared_error: 0.0322 - val_mean_absolute_error: 0.1473\n",
            "Epoch 39/100\n",
            "16/16 [==============================] - 0s 11ms/step - loss: 0.0061 - mean_squared_error: 0.0061 - mean_absolute_error: 0.0574 - val_loss: 0.0317 - val_mean_squared_error: 0.0317 - val_mean_absolute_error: 0.1456\n",
            "Epoch 40/100\n",
            "16/16 [==============================] - 0s 12ms/step - loss: 0.0061 - mean_squared_error: 0.0061 - mean_absolute_error: 0.0570 - val_loss: 0.0316 - val_mean_squared_error: 0.0316 - val_mean_absolute_error: 0.1456\n",
            "Epoch 41/100\n",
            "16/16 [==============================] - 0s 12ms/step - loss: 0.0061 - mean_squared_error: 0.0061 - mean_absolute_error: 0.0580 - val_loss: 0.0309 - val_mean_squared_error: 0.0309 - val_mean_absolute_error: 0.1430\n",
            "Epoch 42/100\n",
            "16/16 [==============================] - 0s 13ms/step - loss: 0.0057 - mean_squared_error: 0.0057 - mean_absolute_error: 0.0564 - val_loss: 0.0309 - val_mean_squared_error: 0.0309 - val_mean_absolute_error: 0.1430\n",
            "Epoch 43/100\n",
            "16/16 [==============================] - 0s 12ms/step - loss: 0.0060 - mean_squared_error: 0.0060 - mean_absolute_error: 0.0577 - val_loss: 0.0305 - val_mean_squared_error: 0.0305 - val_mean_absolute_error: 0.1416\n",
            "Epoch 44/100\n",
            "16/16 [==============================] - 0s 13ms/step - loss: 0.0057 - mean_squared_error: 0.0057 - mean_absolute_error: 0.0555 - val_loss: 0.0305 - val_mean_squared_error: 0.0305 - val_mean_absolute_error: 0.1420\n",
            "Epoch 45/100\n",
            "16/16 [==============================] - 0s 13ms/step - loss: 0.0059 - mean_squared_error: 0.0059 - mean_absolute_error: 0.0572 - val_loss: 0.0303 - val_mean_squared_error: 0.0303 - val_mean_absolute_error: 0.1417\n",
            "Epoch 46/100\n",
            "16/16 [==============================] - 0s 13ms/step - loss: 0.0056 - mean_squared_error: 0.0056 - mean_absolute_error: 0.0555 - val_loss: 0.0300 - val_mean_squared_error: 0.0300 - val_mean_absolute_error: 0.1408\n",
            "Epoch 47/100\n",
            "16/16 [==============================] - 0s 12ms/step - loss: 0.0056 - mean_squared_error: 0.0056 - mean_absolute_error: 0.0556 - val_loss: 0.0300 - val_mean_squared_error: 0.0300 - val_mean_absolute_error: 0.1410\n",
            "Epoch 48/100\n",
            "16/16 [==============================] - 0s 11ms/step - loss: 0.0054 - mean_squared_error: 0.0054 - mean_absolute_error: 0.0538 - val_loss: 0.0294 - val_mean_squared_error: 0.0294 - val_mean_absolute_error: 0.1387\n",
            "Epoch 49/100\n",
            "16/16 [==============================] - 0s 13ms/step - loss: 0.0055 - mean_squared_error: 0.0055 - mean_absolute_error: 0.0548 - val_loss: 0.0295 - val_mean_squared_error: 0.0295 - val_mean_absolute_error: 0.1401\n",
            "Epoch 50/100\n",
            "16/16 [==============================] - 0s 12ms/step - loss: 0.0051 - mean_squared_error: 0.0051 - mean_absolute_error: 0.0534 - val_loss: 0.0290 - val_mean_squared_error: 0.0290 - val_mean_absolute_error: 0.1383\n",
            "Epoch 51/100\n",
            "16/16 [==============================] - 0s 14ms/step - loss: 0.0055 - mean_squared_error: 0.0055 - mean_absolute_error: 0.0544 - val_loss: 0.0288 - val_mean_squared_error: 0.0288 - val_mean_absolute_error: 0.1376\n",
            "Epoch 52/100\n",
            "16/16 [==============================] - 0s 13ms/step - loss: 0.0050 - mean_squared_error: 0.0050 - mean_absolute_error: 0.0514 - val_loss: 0.0285 - val_mean_squared_error: 0.0285 - val_mean_absolute_error: 0.1368\n",
            "Epoch 53/100\n",
            "16/16 [==============================] - 0s 15ms/step - loss: 0.0050 - mean_squared_error: 0.0050 - mean_absolute_error: 0.0519 - val_loss: 0.0285 - val_mean_squared_error: 0.0285 - val_mean_absolute_error: 0.1374\n",
            "Epoch 54/100\n",
            "16/16 [==============================] - 0s 13ms/step - loss: 0.0048 - mean_squared_error: 0.0048 - mean_absolute_error: 0.0513 - val_loss: 0.0282 - val_mean_squared_error: 0.0282 - val_mean_absolute_error: 0.1368\n",
            "Epoch 55/100\n",
            "16/16 [==============================] - 0s 11ms/step - loss: 0.0050 - mean_squared_error: 0.0050 - mean_absolute_error: 0.0532 - val_loss: 0.0281 - val_mean_squared_error: 0.0281 - val_mean_absolute_error: 0.1365\n",
            "Epoch 56/100\n",
            "16/16 [==============================] - 0s 12ms/step - loss: 0.0052 - mean_squared_error: 0.0052 - mean_absolute_error: 0.0542 - val_loss: 0.0276 - val_mean_squared_error: 0.0276 - val_mean_absolute_error: 0.1350\n",
            "Epoch 57/100\n",
            "16/16 [==============================] - 0s 11ms/step - loss: 0.0051 - mean_squared_error: 0.0051 - mean_absolute_error: 0.0538 - val_loss: 0.0275 - val_mean_squared_error: 0.0275 - val_mean_absolute_error: 0.1348\n",
            "Epoch 58/100\n",
            "16/16 [==============================] - 0s 13ms/step - loss: 0.0049 - mean_squared_error: 0.0049 - mean_absolute_error: 0.0513 - val_loss: 0.0273 - val_mean_squared_error: 0.0273 - val_mean_absolute_error: 0.1344\n",
            "Epoch 59/100\n",
            "16/16 [==============================] - 0s 11ms/step - loss: 0.0048 - mean_squared_error: 0.0048 - mean_absolute_error: 0.0508 - val_loss: 0.0271 - val_mean_squared_error: 0.0271 - val_mean_absolute_error: 0.1337\n",
            "Epoch 60/100\n",
            "16/16 [==============================] - 0s 12ms/step - loss: 0.0050 - mean_squared_error: 0.0050 - mean_absolute_error: 0.0516 - val_loss: 0.0268 - val_mean_squared_error: 0.0268 - val_mean_absolute_error: 0.1331\n",
            "Epoch 61/100\n",
            "16/16 [==============================] - 0s 13ms/step - loss: 0.0050 - mean_squared_error: 0.0050 - mean_absolute_error: 0.0523 - val_loss: 0.0268 - val_mean_squared_error: 0.0268 - val_mean_absolute_error: 0.1333\n",
            "Epoch 62/100\n",
            "16/16 [==============================] - 0s 15ms/step - loss: 0.0050 - mean_squared_error: 0.0050 - mean_absolute_error: 0.0514 - val_loss: 0.0266 - val_mean_squared_error: 0.0266 - val_mean_absolute_error: 0.1329\n",
            "Epoch 63/100\n",
            "16/16 [==============================] - 0s 13ms/step - loss: 0.0045 - mean_squared_error: 0.0045 - mean_absolute_error: 0.0497 - val_loss: 0.0262 - val_mean_squared_error: 0.0262 - val_mean_absolute_error: 0.1317\n",
            "Epoch 64/100\n",
            "16/16 [==============================] - 0s 12ms/step - loss: 0.0046 - mean_squared_error: 0.0046 - mean_absolute_error: 0.0498 - val_loss: 0.0261 - val_mean_squared_error: 0.0261 - val_mean_absolute_error: 0.1314\n",
            "Epoch 65/100\n",
            "16/16 [==============================] - 0s 12ms/step - loss: 0.0043 - mean_squared_error: 0.0043 - mean_absolute_error: 0.0479 - val_loss: 0.0259 - val_mean_squared_error: 0.0259 - val_mean_absolute_error: 0.1311\n",
            "Epoch 66/100\n",
            "16/16 [==============================] - 0s 12ms/step - loss: 0.0042 - mean_squared_error: 0.0042 - mean_absolute_error: 0.0483 - val_loss: 0.0256 - val_mean_squared_error: 0.0256 - val_mean_absolute_error: 0.1304\n",
            "Epoch 67/100\n",
            "16/16 [==============================] - 0s 12ms/step - loss: 0.0048 - mean_squared_error: 0.0048 - mean_absolute_error: 0.0502 - val_loss: 0.0255 - val_mean_squared_error: 0.0255 - val_mean_absolute_error: 0.1304\n",
            "Epoch 68/100\n",
            "16/16 [==============================] - 0s 12ms/step - loss: 0.0043 - mean_squared_error: 0.0043 - mean_absolute_error: 0.0493 - val_loss: 0.0254 - val_mean_squared_error: 0.0254 - val_mean_absolute_error: 0.1301\n",
            "Epoch 69/100\n",
            "16/16 [==============================] - 0s 12ms/step - loss: 0.0043 - mean_squared_error: 0.0043 - mean_absolute_error: 0.0474 - val_loss: 0.0252 - val_mean_squared_error: 0.0252 - val_mean_absolute_error: 0.1295\n",
            "Epoch 70/100\n",
            "16/16 [==============================] - 0s 11ms/step - loss: 0.0042 - mean_squared_error: 0.0042 - mean_absolute_error: 0.0478 - val_loss: 0.0248 - val_mean_squared_error: 0.0248 - val_mean_absolute_error: 0.1283\n",
            "Epoch 71/100\n",
            "16/16 [==============================] - 0s 12ms/step - loss: 0.0042 - mean_squared_error: 0.0042 - mean_absolute_error: 0.0475 - val_loss: 0.0247 - val_mean_squared_error: 0.0247 - val_mean_absolute_error: 0.1281\n",
            "Epoch 72/100\n",
            "16/16 [==============================] - 0s 12ms/step - loss: 0.0041 - mean_squared_error: 0.0041 - mean_absolute_error: 0.0474 - val_loss: 0.0246 - val_mean_squared_error: 0.0246 - val_mean_absolute_error: 0.1282\n",
            "Epoch 73/100\n",
            "16/16 [==============================] - 0s 12ms/step - loss: 0.0041 - mean_squared_error: 0.0041 - mean_absolute_error: 0.0475 - val_loss: 0.0243 - val_mean_squared_error: 0.0243 - val_mean_absolute_error: 0.1271\n",
            "Epoch 74/100\n",
            "16/16 [==============================] - 0s 12ms/step - loss: 0.0039 - mean_squared_error: 0.0039 - mean_absolute_error: 0.0460 - val_loss: 0.0242 - val_mean_squared_error: 0.0242 - val_mean_absolute_error: 0.1272\n",
            "Epoch 75/100\n",
            "16/16 [==============================] - 0s 14ms/step - loss: 0.0042 - mean_squared_error: 0.0042 - mean_absolute_error: 0.0484 - val_loss: 0.0239 - val_mean_squared_error: 0.0239 - val_mean_absolute_error: 0.1257\n",
            "Epoch 76/100\n",
            "16/16 [==============================] - 0s 13ms/step - loss: 0.0042 - mean_squared_error: 0.0042 - mean_absolute_error: 0.0476 - val_loss: 0.0238 - val_mean_squared_error: 0.0238 - val_mean_absolute_error: 0.1259\n",
            "Epoch 77/100\n",
            "16/16 [==============================] - 0s 12ms/step - loss: 0.0041 - mean_squared_error: 0.0041 - mean_absolute_error: 0.0477 - val_loss: 0.0236 - val_mean_squared_error: 0.0236 - val_mean_absolute_error: 0.1255\n",
            "Epoch 78/100\n",
            "16/16 [==============================] - 0s 11ms/step - loss: 0.0041 - mean_squared_error: 0.0041 - mean_absolute_error: 0.0468 - val_loss: 0.0235 - val_mean_squared_error: 0.0235 - val_mean_absolute_error: 0.1252\n",
            "Epoch 79/100\n",
            "16/16 [==============================] - 0s 12ms/step - loss: 0.0035 - mean_squared_error: 0.0035 - mean_absolute_error: 0.0436 - val_loss: 0.0232 - val_mean_squared_error: 0.0232 - val_mean_absolute_error: 0.1244\n",
            "Epoch 80/100\n",
            "16/16 [==============================] - 0s 12ms/step - loss: 0.0036 - mean_squared_error: 0.0036 - mean_absolute_error: 0.0452 - val_loss: 0.0231 - val_mean_squared_error: 0.0231 - val_mean_absolute_error: 0.1239\n",
            "Epoch 81/100\n",
            "16/16 [==============================] - 0s 12ms/step - loss: 0.0040 - mean_squared_error: 0.0040 - mean_absolute_error: 0.0472 - val_loss: 0.0229 - val_mean_squared_error: 0.0229 - val_mean_absolute_error: 0.1235\n",
            "Epoch 82/100\n",
            "16/16 [==============================] - 0s 12ms/step - loss: 0.0042 - mean_squared_error: 0.0042 - mean_absolute_error: 0.0478 - val_loss: 0.0227 - val_mean_squared_error: 0.0227 - val_mean_absolute_error: 0.1233\n",
            "Epoch 83/100\n",
            "16/16 [==============================] - 0s 11ms/step - loss: 0.0039 - mean_squared_error: 0.0039 - mean_absolute_error: 0.0456 - val_loss: 0.0225 - val_mean_squared_error: 0.0225 - val_mean_absolute_error: 0.1224\n",
            "Epoch 84/100\n",
            "16/16 [==============================] - 0s 13ms/step - loss: 0.0035 - mean_squared_error: 0.0035 - mean_absolute_error: 0.0445 - val_loss: 0.0225 - val_mean_squared_error: 0.0225 - val_mean_absolute_error: 0.1228\n",
            "Epoch 85/100\n",
            "16/16 [==============================] - 0s 12ms/step - loss: 0.0034 - mean_squared_error: 0.0034 - mean_absolute_error: 0.0438 - val_loss: 0.0222 - val_mean_squared_error: 0.0222 - val_mean_absolute_error: 0.1214\n",
            "Epoch 86/100\n",
            "16/16 [==============================] - 0s 12ms/step - loss: 0.0034 - mean_squared_error: 0.0034 - mean_absolute_error: 0.0425 - val_loss: 0.0221 - val_mean_squared_error: 0.0221 - val_mean_absolute_error: 0.1217\n",
            "Epoch 87/100\n",
            "16/16 [==============================] - 0s 11ms/step - loss: 0.0038 - mean_squared_error: 0.0038 - mean_absolute_error: 0.0459 - val_loss: 0.0218 - val_mean_squared_error: 0.0218 - val_mean_absolute_error: 0.1200\n",
            "Epoch 88/100\n",
            "16/16 [==============================] - 0s 12ms/step - loss: 0.0036 - mean_squared_error: 0.0036 - mean_absolute_error: 0.0448 - val_loss: 0.0217 - val_mean_squared_error: 0.0217 - val_mean_absolute_error: 0.1204\n",
            "Epoch 89/100\n",
            "16/16 [==============================] - 0s 15ms/step - loss: 0.0036 - mean_squared_error: 0.0036 - mean_absolute_error: 0.0449 - val_loss: 0.0215 - val_mean_squared_error: 0.0215 - val_mean_absolute_error: 0.1198\n",
            "Epoch 90/100\n",
            "16/16 [==============================] - 0s 12ms/step - loss: 0.0037 - mean_squared_error: 0.0037 - mean_absolute_error: 0.0447 - val_loss: 0.0214 - val_mean_squared_error: 0.0214 - val_mean_absolute_error: 0.1194\n",
            "Epoch 91/100\n",
            "16/16 [==============================] - 0s 13ms/step - loss: 0.0036 - mean_squared_error: 0.0036 - mean_absolute_error: 0.0440 - val_loss: 0.0213 - val_mean_squared_error: 0.0213 - val_mean_absolute_error: 0.1196\n",
            "Epoch 92/100\n",
            "16/16 [==============================] - 0s 11ms/step - loss: 0.0035 - mean_squared_error: 0.0035 - mean_absolute_error: 0.0437 - val_loss: 0.0212 - val_mean_squared_error: 0.0212 - val_mean_absolute_error: 0.1195\n",
            "Epoch 93/100\n",
            "16/16 [==============================] - 0s 12ms/step - loss: 0.0033 - mean_squared_error: 0.0033 - mean_absolute_error: 0.0429 - val_loss: 0.0210 - val_mean_squared_error: 0.0210 - val_mean_absolute_error: 0.1183\n",
            "Epoch 94/100\n",
            "16/16 [==============================] - 0s 11ms/step - loss: 0.0034 - mean_squared_error: 0.0034 - mean_absolute_error: 0.0432 - val_loss: 0.0209 - val_mean_squared_error: 0.0209 - val_mean_absolute_error: 0.1184\n",
            "Epoch 95/100\n",
            "16/16 [==============================] - 0s 12ms/step - loss: 0.0033 - mean_squared_error: 0.0033 - mean_absolute_error: 0.0430 - val_loss: 0.0206 - val_mean_squared_error: 0.0206 - val_mean_absolute_error: 0.1172\n",
            "Epoch 96/100\n",
            "16/16 [==============================] - 0s 12ms/step - loss: 0.0036 - mean_squared_error: 0.0036 - mean_absolute_error: 0.0444 - val_loss: 0.0205 - val_mean_squared_error: 0.0205 - val_mean_absolute_error: 0.1170\n",
            "Epoch 97/100\n",
            "16/16 [==============================] - 0s 11ms/step - loss: 0.0036 - mean_squared_error: 0.0036 - mean_absolute_error: 0.0439 - val_loss: 0.0204 - val_mean_squared_error: 0.0204 - val_mean_absolute_error: 0.1167\n",
            "Epoch 98/100\n",
            "16/16 [==============================] - 0s 14ms/step - loss: 0.0034 - mean_squared_error: 0.0034 - mean_absolute_error: 0.0434 - val_loss: 0.0203 - val_mean_squared_error: 0.0203 - val_mean_absolute_error: 0.1166\n",
            "Epoch 99/100\n",
            "16/16 [==============================] - 0s 17ms/step - loss: 0.0033 - mean_squared_error: 0.0033 - mean_absolute_error: 0.0423 - val_loss: 0.0204 - val_mean_squared_error: 0.0204 - val_mean_absolute_error: 0.1173\n",
            "Epoch 100/100\n",
            "16/16 [==============================] - 0s 12ms/step - loss: 0.0035 - mean_squared_error: 0.0035 - mean_absolute_error: 0.0440 - val_loss: 0.0199 - val_mean_squared_error: 0.0199 - val_mean_absolute_error: 0.1153\n"
          ],
          "name": "stdout"
        },
        {
          "output_type": "display_data",
          "data": {
            "text/html": [
              "<br/>Waiting for W&B process to finish, PID 5540<br/>Program ended successfully."
            ],
            "text/plain": [
              "<IPython.core.display.HTML object>"
            ]
          },
          "metadata": {
            "tags": []
          }
        },
        {
          "output_type": "display_data",
          "data": {
            "application/vnd.jupyter.widget-view+json": {
              "model_id": "e7763321863d4a77a63b42d3538b531f",
              "version_minor": 0,
              "version_major": 2
            },
            "text/plain": [
              "VBox(children=(Label(value=' 1.02MB of 1.02MB uploaded (0.00MB deduped)\\r'), FloatProgress(value=1.0, max=1.0)…"
            ]
          },
          "metadata": {
            "tags": []
          }
        },
        {
          "output_type": "display_data",
          "data": {
            "text/html": [
              "Find user logs for this run at: <code>/content/feeder_repo/wandb/run-20210723_142602-4y0crih4/logs/debug.log</code>"
            ],
            "text/plain": [
              "<IPython.core.display.HTML object>"
            ]
          },
          "metadata": {
            "tags": []
          }
        },
        {
          "output_type": "display_data",
          "data": {
            "text/html": [
              "Find internal logs for this run at: <code>/content/feeder_repo/wandb/run-20210723_142602-4y0crih4/logs/debug-internal.log</code>"
            ],
            "text/plain": [
              "<IPython.core.display.HTML object>"
            ]
          },
          "metadata": {
            "tags": []
          }
        },
        {
          "output_type": "display_data",
          "data": {
            "text/html": [
              "<h3>Run summary:</h3><br/><style>\n",
              "    table.wandb td:nth-child(1) { padding: 0 10px; text-align: right }\n",
              "    </style><table class=\"wandb\">\n",
              "<tr><td>epoch</td><td>99</td></tr><tr><td>loss</td><td>0.00325</td></tr><tr><td>mean_squared_error</td><td>0.00325</td></tr><tr><td>mean_absolute_error</td><td>0.04273</td></tr><tr><td>val_loss</td><td>0.01988</td></tr><tr><td>val_mean_squared_error</td><td>0.01988</td></tr><tr><td>val_mean_absolute_error</td><td>0.11535</td></tr><tr><td>_runtime</td><td>32</td></tr><tr><td>_timestamp</td><td>1627050394</td></tr><tr><td>_step</td><td>99</td></tr><tr><td>best_val_loss</td><td>0.01988</td></tr><tr><td>best_epoch</td><td>99</td></tr></table>"
            ],
            "text/plain": [
              "<IPython.core.display.HTML object>"
            ]
          },
          "metadata": {
            "tags": []
          }
        },
        {
          "output_type": "display_data",
          "data": {
            "text/html": [
              "<h3>Run history:</h3><br/><style>\n",
              "    table.wandb td:nth-child(1) { padding: 0 10px; text-align: right }\n",
              "    </style><table class=\"wandb\">\n",
              "<tr><td>epoch</td><td>▁▁▁▁▂▂▂▂▂▃▃▃▃▃▃▄▄▄▄▄▅▅▅▅▅▅▆▆▆▆▆▇▇▇▇▇▇███</td></tr><tr><td>loss</td><td>█▄▂▂▂▂▂▂▂▂▂▁▁▁▁▁▁▁▁▁▁▁▁▁▁▁▁▁▁▁▁▁▁▁▁▁▁▁▁▁</td></tr><tr><td>mean_squared_error</td><td>█▄▂▂▂▂▂▂▂▂▂▁▁▁▁▁▁▁▁▁▁▁▁▁▁▁▁▁▁▁▁▁▁▁▁▁▁▁▁▁</td></tr><tr><td>mean_absolute_error</td><td>█▄▃▃▃▃▃▂▂▂▂▂▂▂▁▁▁▁▁▁▁▁▁▁▁▁▁▁▁▁▁▁▁▁▁▁▁▁▁▁</td></tr><tr><td>val_loss</td><td>█▄▂▂▂▂▂▂▂▂▂▂▂▁▁▁▁▁▁▁▁▁▁▁▁▁▁▁▁▁▁▁▁▁▁▁▁▁▁▁</td></tr><tr><td>val_mean_squared_error</td><td>█▄▂▂▂▂▂▂▂▂▂▂▂▁▁▁▁▁▁▁▁▁▁▁▁▁▁▁▁▁▁▁▁▁▁▁▁▁▁▁</td></tr><tr><td>val_mean_absolute_error</td><td>█▄▃▃▃▃▃▃▂▂▂▂▂▂▂▂▂▂▂▂▂▂▁▁▁▁▁▁▁▁▁▁▁▁▁▁▁▁▁▁</td></tr><tr><td>_runtime</td><td>▁▁▁▂▂▂▂▂▂▂▃▃▃▃▄▄▄▄▄▄▄▅▅▅▅▅▅▆▆▆▆▇▇▇▇▇▇███</td></tr><tr><td>_timestamp</td><td>▁▁▁▂▂▂▂▂▂▂▃▃▃▃▄▄▄▄▄▄▄▅▅▅▅▅▅▆▆▆▆▇▇▇▇▇▇███</td></tr><tr><td>_step</td><td>▁▁▁▁▂▂▂▂▂▃▃▃▃▃▃▄▄▄▄▄▅▅▅▅▅▅▆▆▆▆▆▇▇▇▇▇▇███</td></tr></table><br/>"
            ],
            "text/plain": [
              "<IPython.core.display.HTML object>"
            ]
          },
          "metadata": {
            "tags": []
          }
        },
        {
          "output_type": "display_data",
          "data": {
            "text/html": [
              "Synced 5 W&B file(s), 1 media file(s), 2 artifact file(s) and 2 other file(s)"
            ],
            "text/plain": [
              "<IPython.core.display.HTML object>"
            ]
          },
          "metadata": {
            "tags": []
          }
        },
        {
          "output_type": "display_data",
          "data": {
            "text/html": [
              "\n",
              "                    <br/>Synced <strong style=\"color:#cdcd00\">crisp-sweep-28</strong>: <a href=\"https://wandb.ai/acse-jaq15/ACSE_9_MLP_AE/runs/4y0crih4\" target=\"_blank\">https://wandb.ai/acse-jaq15/ACSE_9_MLP_AE/runs/4y0crih4</a><br/>\n",
              "                "
            ],
            "text/plain": [
              "<IPython.core.display.HTML object>"
            ]
          },
          "metadata": {
            "tags": []
          }
        },
        {
          "output_type": "stream",
          "text": [
            "\u001b[34m\u001b[1mwandb\u001b[0m: Agent Starting Run: 0fhou8r8 with config:\n",
            "\u001b[34m\u001b[1mwandb\u001b[0m: \tactivation: relu\n",
            "\u001b[34m\u001b[1mwandb\u001b[0m: \tbatch_size: 64\n",
            "\u001b[34m\u001b[1mwandb\u001b[0m: \tepochs: 100\n",
            "\u001b[34m\u001b[1mwandb\u001b[0m: \tlearning_rate: 0.001\n",
            "\u001b[34m\u001b[1mwandb\u001b[0m: \toptimizer: adam\n"
          ],
          "name": "stderr"
        },
        {
          "output_type": "display_data",
          "data": {
            "text/html": [
              "\n",
              "                Tracking run with wandb version 0.11.0<br/>\n",
              "                Syncing run <strong style=\"color:#cdcd00\">rural-sweep-29</strong> to <a href=\"https://wandb.ai\" target=\"_blank\">Weights & Biases</a> <a href=\"https://docs.wandb.com/integrations/jupyter.html\" target=\"_blank\">(Documentation)</a>.<br/>\n",
              "                Project page: <a href=\"https://wandb.ai/acse-jaq15/ACSE_9_MLP_AE\" target=\"_blank\">https://wandb.ai/acse-jaq15/ACSE_9_MLP_AE</a><br/>\n",
              "                Sweep page: <a href=\"https://wandb.ai/acse-jaq15/ACSE_9_MLP_AE/sweeps/ucphf2s3\" target=\"_blank\">https://wandb.ai/acse-jaq15/ACSE_9_MLP_AE/sweeps/ucphf2s3</a><br/>\n",
              "Run page: <a href=\"https://wandb.ai/acse-jaq15/ACSE_9_MLP_AE/runs/0fhou8r8\" target=\"_blank\">https://wandb.ai/acse-jaq15/ACSE_9_MLP_AE/runs/0fhou8r8</a><br/>\n",
              "                Run data is saved locally in <code>/content/feeder_repo/wandb/run-20210723_142641-0fhou8r8</code><br/><br/>\n",
              "            "
            ],
            "text/plain": [
              "<IPython.core.display.HTML object>"
            ]
          },
          "metadata": {
            "tags": []
          }
        },
        {
          "output_type": "stream",
          "text": [
            "Epoch 1/100\n",
            "16/16 [==============================] - 3s 61ms/step - loss: 0.0629 - mean_squared_error: 0.0629 - mean_absolute_error: 0.1943 - val_loss: 0.0347 - val_mean_squared_error: 0.0347 - val_mean_absolute_error: 0.1425\n",
            "Epoch 2/100\n",
            "16/16 [==============================] - 0s 15ms/step - loss: 0.0088 - mean_squared_error: 0.0088 - mean_absolute_error: 0.0723 - val_loss: 0.0317 - val_mean_squared_error: 0.0317 - val_mean_absolute_error: 0.1492\n",
            "Epoch 3/100\n",
            "16/16 [==============================] - 0s 13ms/step - loss: 0.0052 - mean_squared_error: 0.0052 - mean_absolute_error: 0.0533 - val_loss: 0.0206 - val_mean_squared_error: 0.0206 - val_mean_absolute_error: 0.1183\n",
            "Epoch 4/100\n",
            "16/16 [==============================] - 0s 13ms/step - loss: 0.0035 - mean_squared_error: 0.0035 - mean_absolute_error: 0.0435 - val_loss: 0.0154 - val_mean_squared_error: 0.0154 - val_mean_absolute_error: 0.1021\n",
            "Epoch 5/100\n",
            "16/16 [==============================] - 0s 14ms/step - loss: 0.0021 - mean_squared_error: 0.0021 - mean_absolute_error: 0.0340 - val_loss: 0.0134 - val_mean_squared_error: 0.0134 - val_mean_absolute_error: 0.0931\n",
            "Epoch 6/100\n",
            "16/16 [==============================] - 0s 12ms/step - loss: 0.0019 - mean_squared_error: 0.0019 - mean_absolute_error: 0.0323 - val_loss: 0.0128 - val_mean_squared_error: 0.0128 - val_mean_absolute_error: 0.0885\n",
            "Epoch 7/100\n",
            "16/16 [==============================] - 0s 14ms/step - loss: 0.0018 - mean_squared_error: 0.0018 - mean_absolute_error: 0.0318 - val_loss: 0.0115 - val_mean_squared_error: 0.0115 - val_mean_absolute_error: 0.0843\n",
            "Epoch 8/100\n",
            "16/16 [==============================] - 0s 14ms/step - loss: 0.0016 - mean_squared_error: 0.0016 - mean_absolute_error: 0.0304 - val_loss: 0.0115 - val_mean_squared_error: 0.0115 - val_mean_absolute_error: 0.0851\n",
            "Epoch 9/100\n",
            "16/16 [==============================] - 0s 12ms/step - loss: 0.0015 - mean_squared_error: 0.0015 - mean_absolute_error: 0.0298 - val_loss: 0.0100 - val_mean_squared_error: 0.0100 - val_mean_absolute_error: 0.0784\n",
            "Epoch 10/100\n",
            "16/16 [==============================] - 0s 16ms/step - loss: 0.0012 - mean_squared_error: 0.0012 - mean_absolute_error: 0.0259 - val_loss: 0.0094 - val_mean_squared_error: 0.0094 - val_mean_absolute_error: 0.0756\n",
            "Epoch 11/100\n",
            "16/16 [==============================] - 0s 12ms/step - loss: 0.0013 - mean_squared_error: 0.0013 - mean_absolute_error: 0.0272 - val_loss: 0.0091 - val_mean_squared_error: 0.0091 - val_mean_absolute_error: 0.0725\n",
            "Epoch 12/100\n",
            "16/16 [==============================] - 0s 15ms/step - loss: 0.0012 - mean_squared_error: 0.0012 - mean_absolute_error: 0.0264 - val_loss: 0.0090 - val_mean_squared_error: 0.0090 - val_mean_absolute_error: 0.0726\n",
            "Epoch 13/100\n",
            "16/16 [==============================] - 0s 13ms/step - loss: 0.0012 - mean_squared_error: 0.0012 - mean_absolute_error: 0.0257 - val_loss: 0.0084 - val_mean_squared_error: 0.0084 - val_mean_absolute_error: 0.0700\n",
            "Epoch 14/100\n",
            "16/16 [==============================] - 0s 15ms/step - loss: 0.0011 - mean_squared_error: 0.0011 - mean_absolute_error: 0.0243 - val_loss: 0.0076 - val_mean_squared_error: 0.0076 - val_mean_absolute_error: 0.0670\n",
            "Epoch 15/100\n",
            "16/16 [==============================] - 0s 14ms/step - loss: 0.0011 - mean_squared_error: 0.0011 - mean_absolute_error: 0.0248 - val_loss: 0.0074 - val_mean_squared_error: 0.0074 - val_mean_absolute_error: 0.0658\n",
            "Epoch 16/100\n",
            "16/16 [==============================] - 0s 14ms/step - loss: 0.0012 - mean_squared_error: 0.0012 - mean_absolute_error: 0.0268 - val_loss: 0.0083 - val_mean_squared_error: 0.0083 - val_mean_absolute_error: 0.0701\n",
            "Epoch 17/100\n",
            "16/16 [==============================] - 0s 15ms/step - loss: 0.0012 - mean_squared_error: 0.0012 - mean_absolute_error: 0.0263 - val_loss: 0.0070 - val_mean_squared_error: 0.0070 - val_mean_absolute_error: 0.0641\n",
            "Epoch 18/100\n",
            "16/16 [==============================] - 0s 13ms/step - loss: 8.3654e-04 - mean_squared_error: 8.3654e-04 - mean_absolute_error: 0.0214 - val_loss: 0.0071 - val_mean_squared_error: 0.0071 - val_mean_absolute_error: 0.0657\n",
            "Epoch 19/100\n",
            "16/16 [==============================] - 0s 15ms/step - loss: 0.0010 - mean_squared_error: 0.0010 - mean_absolute_error: 0.0241 - val_loss: 0.0078 - val_mean_squared_error: 0.0078 - val_mean_absolute_error: 0.0695\n",
            "Epoch 20/100\n",
            "16/16 [==============================] - 0s 12ms/step - loss: 0.0015 - mean_squared_error: 0.0015 - mean_absolute_error: 0.0294 - val_loss: 0.0065 - val_mean_squared_error: 0.0065 - val_mean_absolute_error: 0.0615\n",
            "Epoch 21/100\n",
            "16/16 [==============================] - 0s 15ms/step - loss: 9.3025e-04 - mean_squared_error: 9.3025e-04 - mean_absolute_error: 0.0223 - val_loss: 0.0065 - val_mean_squared_error: 0.0065 - val_mean_absolute_error: 0.0621\n",
            "Epoch 22/100\n",
            "16/16 [==============================] - 0s 13ms/step - loss: 8.0255e-04 - mean_squared_error: 8.0255e-04 - mean_absolute_error: 0.0213 - val_loss: 0.0061 - val_mean_squared_error: 0.0061 - val_mean_absolute_error: 0.0590\n",
            "Epoch 23/100\n",
            "16/16 [==============================] - 0s 14ms/step - loss: 7.6812e-04 - mean_squared_error: 7.6812e-04 - mean_absolute_error: 0.0208 - val_loss: 0.0061 - val_mean_squared_error: 0.0061 - val_mean_absolute_error: 0.0594\n",
            "Epoch 24/100\n",
            "16/16 [==============================] - 0s 15ms/step - loss: 8.9400e-04 - mean_squared_error: 8.9400e-04 - mean_absolute_error: 0.0221 - val_loss: 0.0078 - val_mean_squared_error: 0.0078 - val_mean_absolute_error: 0.0695\n",
            "Epoch 25/100\n",
            "16/16 [==============================] - 0s 15ms/step - loss: 0.0013 - mean_squared_error: 0.0013 - mean_absolute_error: 0.0275 - val_loss: 0.0062 - val_mean_squared_error: 0.0062 - val_mean_absolute_error: 0.0605\n",
            "Epoch 26/100\n",
            "16/16 [==============================] - 0s 15ms/step - loss: 8.8940e-04 - mean_squared_error: 8.8940e-04 - mean_absolute_error: 0.0219 - val_loss: 0.0058 - val_mean_squared_error: 0.0058 - val_mean_absolute_error: 0.0570\n",
            "Epoch 27/100\n",
            "16/16 [==============================] - 0s 12ms/step - loss: 0.0011 - mean_squared_error: 0.0011 - mean_absolute_error: 0.0241 - val_loss: 0.0057 - val_mean_squared_error: 0.0057 - val_mean_absolute_error: 0.0562\n",
            "Epoch 28/100\n",
            "16/16 [==============================] - 0s 14ms/step - loss: 9.0086e-04 - mean_squared_error: 9.0086e-04 - mean_absolute_error: 0.0230 - val_loss: 0.0059 - val_mean_squared_error: 0.0059 - val_mean_absolute_error: 0.0590\n",
            "Epoch 29/100\n",
            "16/16 [==============================] - 0s 13ms/step - loss: 8.1304e-04 - mean_squared_error: 8.1304e-04 - mean_absolute_error: 0.0215 - val_loss: 0.0061 - val_mean_squared_error: 0.0061 - val_mean_absolute_error: 0.0600\n",
            "Epoch 30/100\n",
            "16/16 [==============================] - 0s 14ms/step - loss: 8.4598e-04 - mean_squared_error: 8.4598e-04 - mean_absolute_error: 0.0216 - val_loss: 0.0056 - val_mean_squared_error: 0.0056 - val_mean_absolute_error: 0.0571\n",
            "Epoch 31/100\n",
            "16/16 [==============================] - 0s 15ms/step - loss: 7.1882e-04 - mean_squared_error: 7.1882e-04 - mean_absolute_error: 0.0201 - val_loss: 0.0055 - val_mean_squared_error: 0.0055 - val_mean_absolute_error: 0.0569\n",
            "Epoch 32/100\n",
            "16/16 [==============================] - 0s 14ms/step - loss: 9.3073e-04 - mean_squared_error: 9.3073e-04 - mean_absolute_error: 0.0229 - val_loss: 0.0055 - val_mean_squared_error: 0.0055 - val_mean_absolute_error: 0.0556\n",
            "Epoch 33/100\n",
            "16/16 [==============================] - 0s 13ms/step - loss: 6.6350e-04 - mean_squared_error: 6.6350e-04 - mean_absolute_error: 0.0199 - val_loss: 0.0060 - val_mean_squared_error: 0.0060 - val_mean_absolute_error: 0.0593\n",
            "Epoch 34/100\n",
            "16/16 [==============================] - 0s 15ms/step - loss: 0.0012 - mean_squared_error: 0.0012 - mean_absolute_error: 0.0266 - val_loss: 0.0055 - val_mean_squared_error: 0.0055 - val_mean_absolute_error: 0.0554\n",
            "Epoch 35/100\n",
            "16/16 [==============================] - 0s 14ms/step - loss: 8.7380e-04 - mean_squared_error: 8.7380e-04 - mean_absolute_error: 0.0219 - val_loss: 0.0057 - val_mean_squared_error: 0.0057 - val_mean_absolute_error: 0.0569\n",
            "Epoch 36/100\n",
            "16/16 [==============================] - 0s 12ms/step - loss: 8.3484e-04 - mean_squared_error: 8.3484e-04 - mean_absolute_error: 0.0219 - val_loss: 0.0061 - val_mean_squared_error: 0.0061 - val_mean_absolute_error: 0.0596\n",
            "Epoch 37/100\n",
            "16/16 [==============================] - 0s 13ms/step - loss: 0.0011 - mean_squared_error: 0.0011 - mean_absolute_error: 0.0248 - val_loss: 0.0059 - val_mean_squared_error: 0.0059 - val_mean_absolute_error: 0.0585\n",
            "Epoch 38/100\n",
            "16/16 [==============================] - 0s 14ms/step - loss: 7.3798e-04 - mean_squared_error: 7.3798e-04 - mean_absolute_error: 0.0203 - val_loss: 0.0053 - val_mean_squared_error: 0.0053 - val_mean_absolute_error: 0.0551\n",
            "Epoch 39/100\n",
            "16/16 [==============================] - 0s 14ms/step - loss: 7.0180e-04 - mean_squared_error: 7.0180e-04 - mean_absolute_error: 0.0201 - val_loss: 0.0055 - val_mean_squared_error: 0.0055 - val_mean_absolute_error: 0.0568\n",
            "Epoch 40/100\n",
            "16/16 [==============================] - 0s 14ms/step - loss: 8.3649e-04 - mean_squared_error: 8.3649e-04 - mean_absolute_error: 0.0223 - val_loss: 0.0058 - val_mean_squared_error: 0.0058 - val_mean_absolute_error: 0.0576\n",
            "Epoch 41/100\n",
            "16/16 [==============================] - 0s 14ms/step - loss: 9.3716e-04 - mean_squared_error: 9.3716e-04 - mean_absolute_error: 0.0233 - val_loss: 0.0072 - val_mean_squared_error: 0.0072 - val_mean_absolute_error: 0.0663\n",
            "Epoch 42/100\n",
            "16/16 [==============================] - 0s 15ms/step - loss: 0.0010 - mean_squared_error: 0.0010 - mean_absolute_error: 0.0241 - val_loss: 0.0061 - val_mean_squared_error: 0.0061 - val_mean_absolute_error: 0.0597\n",
            "Epoch 43/100\n",
            "16/16 [==============================] - 0s 17ms/step - loss: 8.3196e-04 - mean_squared_error: 8.3196e-04 - mean_absolute_error: 0.0222 - val_loss: 0.0054 - val_mean_squared_error: 0.0054 - val_mean_absolute_error: 0.0554\n",
            "Epoch 44/100\n",
            "16/16 [==============================] - 0s 15ms/step - loss: 6.4413e-04 - mean_squared_error: 6.4413e-04 - mean_absolute_error: 0.0191 - val_loss: 0.0054 - val_mean_squared_error: 0.0054 - val_mean_absolute_error: 0.0563\n",
            "Epoch 45/100\n",
            "16/16 [==============================] - 0s 13ms/step - loss: 7.3780e-04 - mean_squared_error: 7.3780e-04 - mean_absolute_error: 0.0206 - val_loss: 0.0077 - val_mean_squared_error: 0.0077 - val_mean_absolute_error: 0.0688\n",
            "Epoch 46/100\n",
            "16/16 [==============================] - 0s 15ms/step - loss: 0.0014 - mean_squared_error: 0.0014 - mean_absolute_error: 0.0284 - val_loss: 0.0058 - val_mean_squared_error: 0.0058 - val_mean_absolute_error: 0.0570\n",
            "Epoch 47/100\n",
            "16/16 [==============================] - 0s 16ms/step - loss: 9.2339e-04 - mean_squared_error: 9.2339e-04 - mean_absolute_error: 0.0231 - val_loss: 0.0052 - val_mean_squared_error: 0.0052 - val_mean_absolute_error: 0.0537\n",
            "Epoch 48/100\n",
            "16/16 [==============================] - 0s 15ms/step - loss: 6.9357e-04 - mean_squared_error: 6.9357e-04 - mean_absolute_error: 0.0198 - val_loss: 0.0054 - val_mean_squared_error: 0.0054 - val_mean_absolute_error: 0.0559\n",
            "Epoch 49/100\n",
            "16/16 [==============================] - 0s 15ms/step - loss: 7.5002e-04 - mean_squared_error: 7.5002e-04 - mean_absolute_error: 0.0202 - val_loss: 0.0053 - val_mean_squared_error: 0.0053 - val_mean_absolute_error: 0.0549\n",
            "Epoch 50/100\n",
            "16/16 [==============================] - 0s 17ms/step - loss: 7.7802e-04 - mean_squared_error: 7.7802e-04 - mean_absolute_error: 0.0210 - val_loss: 0.0054 - val_mean_squared_error: 0.0054 - val_mean_absolute_error: 0.0556\n",
            "Epoch 51/100\n",
            "16/16 [==============================] - 0s 14ms/step - loss: 7.7616e-04 - mean_squared_error: 7.7616e-04 - mean_absolute_error: 0.0212 - val_loss: 0.0054 - val_mean_squared_error: 0.0054 - val_mean_absolute_error: 0.0551\n",
            "Epoch 52/100\n",
            "16/16 [==============================] - 0s 16ms/step - loss: 7.8541e-04 - mean_squared_error: 7.8541e-04 - mean_absolute_error: 0.0214 - val_loss: 0.0050 - val_mean_squared_error: 0.0050 - val_mean_absolute_error: 0.0527\n",
            "Epoch 53/100\n",
            "16/16 [==============================] - 0s 12ms/step - loss: 6.0446e-04 - mean_squared_error: 6.0446e-04 - mean_absolute_error: 0.0187 - val_loss: 0.0054 - val_mean_squared_error: 0.0054 - val_mean_absolute_error: 0.0549\n",
            "Epoch 54/100\n",
            "16/16 [==============================] - 0s 18ms/step - loss: 7.0269e-04 - mean_squared_error: 7.0269e-04 - mean_absolute_error: 0.0202 - val_loss: 0.0054 - val_mean_squared_error: 0.0054 - val_mean_absolute_error: 0.0557\n",
            "Epoch 55/100\n",
            "16/16 [==============================] - 0s 14ms/step - loss: 7.5559e-04 - mean_squared_error: 7.5559e-04 - mean_absolute_error: 0.0207 - val_loss: 0.0061 - val_mean_squared_error: 0.0061 - val_mean_absolute_error: 0.0597\n",
            "Epoch 56/100\n",
            "16/16 [==============================] - 0s 15ms/step - loss: 9.4730e-04 - mean_squared_error: 9.4730e-04 - mean_absolute_error: 0.0233 - val_loss: 0.0061 - val_mean_squared_error: 0.0061 - val_mean_absolute_error: 0.0605\n",
            "Epoch 57/100\n",
            "16/16 [==============================] - 0s 13ms/step - loss: 9.6550e-04 - mean_squared_error: 9.6550e-04 - mean_absolute_error: 0.0241 - val_loss: 0.0055 - val_mean_squared_error: 0.0055 - val_mean_absolute_error: 0.0564\n",
            "Epoch 58/100\n",
            "16/16 [==============================] - 0s 15ms/step - loss: 6.9191e-04 - mean_squared_error: 6.9191e-04 - mean_absolute_error: 0.0201 - val_loss: 0.0053 - val_mean_squared_error: 0.0053 - val_mean_absolute_error: 0.0547\n",
            "Epoch 59/100\n",
            "16/16 [==============================] - 0s 14ms/step - loss: 7.7517e-04 - mean_squared_error: 7.7517e-04 - mean_absolute_error: 0.0214 - val_loss: 0.0053 - val_mean_squared_error: 0.0053 - val_mean_absolute_error: 0.0548\n",
            "Epoch 60/100\n",
            "16/16 [==============================] - 0s 15ms/step - loss: 0.0011 - mean_squared_error: 0.0011 - mean_absolute_error: 0.0251 - val_loss: 0.0053 - val_mean_squared_error: 0.0053 - val_mean_absolute_error: 0.0546\n",
            "Epoch 61/100\n",
            "16/16 [==============================] - 0s 14ms/step - loss: 6.5916e-04 - mean_squared_error: 6.5916e-04 - mean_absolute_error: 0.0190 - val_loss: 0.0056 - val_mean_squared_error: 0.0056 - val_mean_absolute_error: 0.0569\n",
            "Epoch 62/100\n",
            "16/16 [==============================] - 0s 14ms/step - loss: 6.6251e-04 - mean_squared_error: 6.6251e-04 - mean_absolute_error: 0.0193 - val_loss: 0.0055 - val_mean_squared_error: 0.0055 - val_mean_absolute_error: 0.0563\n"
          ],
          "name": "stdout"
        },
        {
          "output_type": "display_data",
          "data": {
            "text/html": [
              "<br/>Waiting for W&B process to finish, PID 5895<br/>Program ended successfully."
            ],
            "text/plain": [
              "<IPython.core.display.HTML object>"
            ]
          },
          "metadata": {
            "tags": []
          }
        },
        {
          "output_type": "display_data",
          "data": {
            "application/vnd.jupyter.widget-view+json": {
              "model_id": "1cb6f37cb46546aca760a8a7550b02ff",
              "version_minor": 0,
              "version_major": 2
            },
            "text/plain": [
              "VBox(children=(Label(value=' 0.61MB of 0.61MB uploaded (0.00MB deduped)\\r'), FloatProgress(value=1.0, max=1.0)…"
            ]
          },
          "metadata": {
            "tags": []
          }
        },
        {
          "output_type": "display_data",
          "data": {
            "text/html": [
              "Find user logs for this run at: <code>/content/feeder_repo/wandb/run-20210723_142641-0fhou8r8/logs/debug.log</code>"
            ],
            "text/plain": [
              "<IPython.core.display.HTML object>"
            ]
          },
          "metadata": {
            "tags": []
          }
        },
        {
          "output_type": "display_data",
          "data": {
            "text/html": [
              "Find internal logs for this run at: <code>/content/feeder_repo/wandb/run-20210723_142641-0fhou8r8/logs/debug-internal.log</code>"
            ],
            "text/plain": [
              "<IPython.core.display.HTML object>"
            ]
          },
          "metadata": {
            "tags": []
          }
        },
        {
          "output_type": "display_data",
          "data": {
            "text/html": [
              "<h3>Run summary:</h3><br/><style>\n",
              "    table.wandb td:nth-child(1) { padding: 0 10px; text-align: right }\n",
              "    </style><table class=\"wandb\">\n",
              "<tr><td>epoch</td><td>61</td></tr><tr><td>loss</td><td>0.00069</td></tr><tr><td>mean_squared_error</td><td>0.00069</td></tr><tr><td>mean_absolute_error</td><td>0.01995</td></tr><tr><td>val_loss</td><td>0.0055</td></tr><tr><td>val_mean_squared_error</td><td>0.0055</td></tr><tr><td>val_mean_absolute_error</td><td>0.05629</td></tr><tr><td>_runtime</td><td>23</td></tr><tr><td>_timestamp</td><td>1627050424</td></tr><tr><td>_step</td><td>61</td></tr><tr><td>best_val_loss</td><td>0.005</td></tr><tr><td>best_epoch</td><td>51</td></tr></table>"
            ],
            "text/plain": [
              "<IPython.core.display.HTML object>"
            ]
          },
          "metadata": {
            "tags": []
          }
        },
        {
          "output_type": "display_data",
          "data": {
            "text/html": [
              "<h3>Run history:</h3><br/><style>\n",
              "    table.wandb td:nth-child(1) { padding: 0 10px; text-align: right }\n",
              "    </style><table class=\"wandb\">\n",
              "<tr><td>epoch</td><td>▁▁▁▁▂▂▂▂▂▃▃▃▃▃▃▄▄▄▄▄▅▅▅▅▅▅▆▆▆▆▆▇▇▇▇▇▇███</td></tr><tr><td>loss</td><td>█▂▁▁▁▁▁▁▁▁▁▁▁▁▁▁▁▁▁▁▁▁▁▁▁▁▁▁▁▁▁▁▁▁▁▁▁▁▁▁</td></tr><tr><td>mean_squared_error</td><td>█▂▁▁▁▁▁▁▁▁▁▁▁▁▁▁▁▁▁▁▁▁▁▁▁▁▁▁▁▁▁▁▁▁▁▁▁▁▁▁</td></tr><tr><td>mean_absolute_error</td><td>█▄▂▂▂▂▁▁▁▁▁▁▁▁▁▁▁▁▁▁▁▁▁▁▁▁▁▁▁▂▁▁▁▁▁▁▁▁▁▁</td></tr><tr><td>val_loss</td><td>█▇▃▃▃▃▂▂▂▂▂▁▂▁▁▂▁▁▁▁▁▁▁▁▁▁▂▁▁▁▁▁▁▁▁▁▁▁▁▁</td></tr><tr><td>val_mean_squared_error</td><td>█▇▃▃▃▃▂▂▂▂▂▁▂▁▁▂▁▁▁▁▁▁▁▁▁▁▂▁▁▁▁▁▁▁▁▁▁▁▁▁</td></tr><tr><td>val_mean_absolute_error</td><td>██▅▄▃▃▃▂▂▂▂▂▂▂▁▂▁▁▂▁▁▁▁▂▁▁▂▁▁▁▁▁▁▁▁▂▁▁▁▁</td></tr><tr><td>_runtime</td><td>▁▁▁▁▂▂▂▂▂▃▃▃▃▄▄▄▄▄▅▅▅▅▅▅▅▆▆▆▆▆▆▇▇▇▇█████</td></tr><tr><td>_timestamp</td><td>▁▁▁▁▂▂▂▂▂▃▃▃▃▄▄▄▄▄▅▅▅▅▅▅▅▆▆▆▆▆▆▇▇▇▇█████</td></tr><tr><td>_step</td><td>▁▁▁▁▂▂▂▂▂▃▃▃▃▃▃▄▄▄▄▄▅▅▅▅▅▅▆▆▆▆▆▇▇▇▇▇▇███</td></tr></table><br/>"
            ],
            "text/plain": [
              "<IPython.core.display.HTML object>"
            ]
          },
          "metadata": {
            "tags": []
          }
        },
        {
          "output_type": "display_data",
          "data": {
            "text/html": [
              "Synced 5 W&B file(s), 1 media file(s), 2 artifact file(s) and 2 other file(s)"
            ],
            "text/plain": [
              "<IPython.core.display.HTML object>"
            ]
          },
          "metadata": {
            "tags": []
          }
        },
        {
          "output_type": "display_data",
          "data": {
            "text/html": [
              "\n",
              "                    <br/>Synced <strong style=\"color:#cdcd00\">rural-sweep-29</strong>: <a href=\"https://wandb.ai/acse-jaq15/ACSE_9_MLP_AE/runs/0fhou8r8\" target=\"_blank\">https://wandb.ai/acse-jaq15/ACSE_9_MLP_AE/runs/0fhou8r8</a><br/>\n",
              "                "
            ],
            "text/plain": [
              "<IPython.core.display.HTML object>"
            ]
          },
          "metadata": {
            "tags": []
          }
        },
        {
          "output_type": "stream",
          "text": [
            "\u001b[34m\u001b[1mwandb\u001b[0m: Agent Starting Run: geal9u4i with config:\n",
            "\u001b[34m\u001b[1mwandb\u001b[0m: \tactivation: relu\n",
            "\u001b[34m\u001b[1mwandb\u001b[0m: \tbatch_size: 128\n",
            "\u001b[34m\u001b[1mwandb\u001b[0m: \tepochs: 100\n",
            "\u001b[34m\u001b[1mwandb\u001b[0m: \tlearning_rate: 0.005\n",
            "\u001b[34m\u001b[1mwandb\u001b[0m: \toptimizer: nadam\n"
          ],
          "name": "stderr"
        },
        {
          "output_type": "display_data",
          "data": {
            "text/html": [
              "\n",
              "                Tracking run with wandb version 0.11.0<br/>\n",
              "                Syncing run <strong style=\"color:#cdcd00\">apricot-sweep-30</strong> to <a href=\"https://wandb.ai\" target=\"_blank\">Weights & Biases</a> <a href=\"https://docs.wandb.com/integrations/jupyter.html\" target=\"_blank\">(Documentation)</a>.<br/>\n",
              "                Project page: <a href=\"https://wandb.ai/acse-jaq15/ACSE_9_MLP_AE\" target=\"_blank\">https://wandb.ai/acse-jaq15/ACSE_9_MLP_AE</a><br/>\n",
              "                Sweep page: <a href=\"https://wandb.ai/acse-jaq15/ACSE_9_MLP_AE/sweeps/ucphf2s3\" target=\"_blank\">https://wandb.ai/acse-jaq15/ACSE_9_MLP_AE/sweeps/ucphf2s3</a><br/>\n",
              "Run page: <a href=\"https://wandb.ai/acse-jaq15/ACSE_9_MLP_AE/runs/geal9u4i\" target=\"_blank\">https://wandb.ai/acse-jaq15/ACSE_9_MLP_AE/runs/geal9u4i</a><br/>\n",
              "                Run data is saved locally in <code>/content/feeder_repo/wandb/run-20210723_142714-geal9u4i</code><br/><br/>\n",
              "            "
            ],
            "text/plain": [
              "<IPython.core.display.HTML object>"
            ]
          },
          "metadata": {
            "tags": []
          }
        },
        {
          "output_type": "stream",
          "text": [
            "Epoch 1/100\n",
            "8/8 [==============================] - 4s 116ms/step - loss: 0.1240 - mean_squared_error: 0.1240 - mean_absolute_error: 0.2778 - val_loss: 0.0387 - val_mean_squared_error: 0.0387 - val_mean_absolute_error: 0.1503\n",
            "Epoch 2/100\n",
            "8/8 [==============================] - 0s 19ms/step - loss: 0.0215 - mean_squared_error: 0.0215 - mean_absolute_error: 0.1167 - val_loss: 0.0347 - val_mean_squared_error: 0.0347 - val_mean_absolute_error: 0.1445\n",
            "Epoch 3/100\n",
            "8/8 [==============================] - 0s 17ms/step - loss: 0.0155 - mean_squared_error: 0.0155 - mean_absolute_error: 0.0952 - val_loss: 0.0316 - val_mean_squared_error: 0.0316 - val_mean_absolute_error: 0.1366\n",
            "Epoch 4/100\n",
            "8/8 [==============================] - 0s 18ms/step - loss: 0.0119 - mean_squared_error: 0.0119 - mean_absolute_error: 0.0813 - val_loss: 0.0416 - val_mean_squared_error: 0.0416 - val_mean_absolute_error: 0.1740\n",
            "Epoch 5/100\n",
            "8/8 [==============================] - 0s 17ms/step - loss: 0.0202 - mean_squared_error: 0.0202 - mean_absolute_error: 0.1057 - val_loss: 0.0319 - val_mean_squared_error: 0.0319 - val_mean_absolute_error: 0.1469\n",
            "Epoch 6/100\n",
            "8/8 [==============================] - 0s 18ms/step - loss: 0.0291 - mean_squared_error: 0.0291 - mean_absolute_error: 0.1283 - val_loss: 0.1183 - val_mean_squared_error: 0.1183 - val_mean_absolute_error: 0.2890\n",
            "Epoch 7/100\n",
            "8/8 [==============================] - 0s 16ms/step - loss: 0.0270 - mean_squared_error: 0.0270 - mean_absolute_error: 0.1135 - val_loss: 0.0220 - val_mean_squared_error: 0.0220 - val_mean_absolute_error: 0.1201\n",
            "Epoch 8/100\n",
            "8/8 [==============================] - 0s 16ms/step - loss: 0.0116 - mean_squared_error: 0.0116 - mean_absolute_error: 0.0751 - val_loss: 0.0231 - val_mean_squared_error: 0.0231 - val_mean_absolute_error: 0.1243\n",
            "Epoch 9/100\n",
            "8/8 [==============================] - 0s 17ms/step - loss: 0.0104 - mean_squared_error: 0.0104 - mean_absolute_error: 0.0797 - val_loss: 0.0307 - val_mean_squared_error: 0.0307 - val_mean_absolute_error: 0.1476\n",
            "Epoch 10/100\n",
            "8/8 [==============================] - 0s 16ms/step - loss: 0.0101 - mean_squared_error: 0.0101 - mean_absolute_error: 0.0786 - val_loss: 0.0293 - val_mean_squared_error: 0.0293 - val_mean_absolute_error: 0.1427\n",
            "Epoch 11/100\n",
            "8/8 [==============================] - 0s 21ms/step - loss: 0.0082 - mean_squared_error: 0.0082 - mean_absolute_error: 0.0706 - val_loss: 0.0418 - val_mean_squared_error: 0.0418 - val_mean_absolute_error: 0.1725\n",
            "Epoch 12/100\n",
            "8/8 [==============================] - 0s 17ms/step - loss: 0.0122 - mean_squared_error: 0.0122 - mean_absolute_error: 0.0866 - val_loss: 0.0133 - val_mean_squared_error: 0.0133 - val_mean_absolute_error: 0.0908\n",
            "Epoch 13/100\n",
            "8/8 [==============================] - 0s 17ms/step - loss: 0.0032 - mean_squared_error: 0.0032 - mean_absolute_error: 0.0422 - val_loss: 0.0247 - val_mean_squared_error: 0.0247 - val_mean_absolute_error: 0.1300\n",
            "Epoch 14/100\n",
            "8/8 [==============================] - 0s 16ms/step - loss: 0.0104 - mean_squared_error: 0.0104 - mean_absolute_error: 0.0805 - val_loss: 0.0146 - val_mean_squared_error: 0.0146 - val_mean_absolute_error: 0.0959\n",
            "Epoch 15/100\n",
            "8/8 [==============================] - 0s 17ms/step - loss: 0.0029 - mean_squared_error: 0.0029 - mean_absolute_error: 0.0399 - val_loss: 0.0192 - val_mean_squared_error: 0.0192 - val_mean_absolute_error: 0.1138\n",
            "Epoch 16/100\n",
            "8/8 [==============================] - 0s 19ms/step - loss: 0.0092 - mean_squared_error: 0.0092 - mean_absolute_error: 0.0746 - val_loss: 0.0143 - val_mean_squared_error: 0.0143 - val_mean_absolute_error: 0.0950\n",
            "Epoch 17/100\n",
            "8/8 [==============================] - 0s 18ms/step - loss: 0.0058 - mean_squared_error: 0.0058 - mean_absolute_error: 0.0581 - val_loss: 0.0142 - val_mean_squared_error: 0.0142 - val_mean_absolute_error: 0.0950\n",
            "Epoch 18/100\n",
            "8/8 [==============================] - 0s 14ms/step - loss: 0.0048 - mean_squared_error: 0.0048 - mean_absolute_error: 0.0522 - val_loss: 0.0385 - val_mean_squared_error: 0.0385 - val_mean_absolute_error: 0.1658\n",
            "Epoch 19/100\n",
            "8/8 [==============================] - 0s 15ms/step - loss: 0.0121 - mean_squared_error: 0.0121 - mean_absolute_error: 0.0796 - val_loss: 0.0118 - val_mean_squared_error: 0.0118 - val_mean_absolute_error: 0.0842\n",
            "Epoch 20/100\n",
            "8/8 [==============================] - 0s 21ms/step - loss: 0.0025 - mean_squared_error: 0.0025 - mean_absolute_error: 0.0377 - val_loss: 0.0121 - val_mean_squared_error: 0.0121 - val_mean_absolute_error: 0.0857\n",
            "Epoch 21/100\n",
            "8/8 [==============================] - 0s 18ms/step - loss: 0.0023 - mean_squared_error: 0.0023 - mean_absolute_error: 0.0359 - val_loss: 0.0368 - val_mean_squared_error: 0.0368 - val_mean_absolute_error: 0.1630\n",
            "Epoch 22/100\n",
            "8/8 [==============================] - 0s 18ms/step - loss: 0.0148 - mean_squared_error: 0.0148 - mean_absolute_error: 0.0930 - val_loss: 0.0131 - val_mean_squared_error: 0.0131 - val_mean_absolute_error: 0.0915\n",
            "Epoch 23/100\n",
            "8/8 [==============================] - 0s 21ms/step - loss: 0.0031 - mean_squared_error: 0.0031 - mean_absolute_error: 0.0427 - val_loss: 0.0142 - val_mean_squared_error: 0.0142 - val_mean_absolute_error: 0.0968\n",
            "Epoch 24/100\n",
            "8/8 [==============================] - 0s 18ms/step - loss: 0.0063 - mean_squared_error: 0.0063 - mean_absolute_error: 0.0609 - val_loss: 0.0166 - val_mean_squared_error: 0.0166 - val_mean_absolute_error: 0.1069\n",
            "Epoch 25/100\n",
            "8/8 [==============================] - 0s 17ms/step - loss: 0.0042 - mean_squared_error: 0.0042 - mean_absolute_error: 0.0514 - val_loss: 0.0108 - val_mean_squared_error: 0.0108 - val_mean_absolute_error: 0.0807\n",
            "Epoch 26/100\n",
            "8/8 [==============================] - 0s 20ms/step - loss: 0.0034 - mean_squared_error: 0.0034 - mean_absolute_error: 0.0420 - val_loss: 0.0299 - val_mean_squared_error: 0.0299 - val_mean_absolute_error: 0.1478\n",
            "Epoch 27/100\n",
            "8/8 [==============================] - 0s 18ms/step - loss: 0.0085 - mean_squared_error: 0.0085 - mean_absolute_error: 0.0710 - val_loss: 0.0125 - val_mean_squared_error: 0.0125 - val_mean_absolute_error: 0.0890\n",
            "Epoch 28/100\n",
            "8/8 [==============================] - 0s 18ms/step - loss: 0.0085 - mean_squared_error: 0.0085 - mean_absolute_error: 0.0699 - val_loss: 0.0176 - val_mean_squared_error: 0.0176 - val_mean_absolute_error: 0.1087\n",
            "Epoch 29/100\n",
            "8/8 [==============================] - 0s 17ms/step - loss: 0.0053 - mean_squared_error: 0.0053 - mean_absolute_error: 0.0564 - val_loss: 0.0103 - val_mean_squared_error: 0.0103 - val_mean_absolute_error: 0.0780\n",
            "Epoch 30/100\n",
            "8/8 [==============================] - 0s 18ms/step - loss: 0.0019 - mean_squared_error: 0.0019 - mean_absolute_error: 0.0319 - val_loss: 0.0114 - val_mean_squared_error: 0.0114 - val_mean_absolute_error: 0.0843\n",
            "Epoch 31/100\n",
            "8/8 [==============================] - 0s 18ms/step - loss: 0.0036 - mean_squared_error: 0.0036 - mean_absolute_error: 0.0483 - val_loss: 0.0317 - val_mean_squared_error: 0.0317 - val_mean_absolute_error: 0.1505\n",
            "Epoch 32/100\n",
            "8/8 [==============================] - 0s 22ms/step - loss: 0.0097 - mean_squared_error: 0.0097 - mean_absolute_error: 0.0801 - val_loss: 0.0099 - val_mean_squared_error: 0.0099 - val_mean_absolute_error: 0.0773\n",
            "Epoch 33/100\n",
            "8/8 [==============================] - 0s 18ms/step - loss: 0.0020 - mean_squared_error: 0.0020 - mean_absolute_error: 0.0337 - val_loss: 0.0118 - val_mean_squared_error: 0.0118 - val_mean_absolute_error: 0.0866\n",
            "Epoch 34/100\n",
            "8/8 [==============================] - 0s 18ms/step - loss: 0.0039 - mean_squared_error: 0.0039 - mean_absolute_error: 0.0500 - val_loss: 0.0251 - val_mean_squared_error: 0.0251 - val_mean_absolute_error: 0.1347\n",
            "Epoch 35/100\n",
            "8/8 [==============================] - 0s 18ms/step - loss: 0.0068 - mean_squared_error: 0.0068 - mean_absolute_error: 0.0650 - val_loss: 0.0176 - val_mean_squared_error: 0.0176 - val_mean_absolute_error: 0.1100\n",
            "Epoch 36/100\n",
            "8/8 [==============================] - 0s 17ms/step - loss: 0.0044 - mean_squared_error: 0.0044 - mean_absolute_error: 0.0528 - val_loss: 0.0125 - val_mean_squared_error: 0.0125 - val_mean_absolute_error: 0.0896\n",
            "Epoch 37/100\n",
            "8/8 [==============================] - 0s 20ms/step - loss: 0.0036 - mean_squared_error: 0.0036 - mean_absolute_error: 0.0476 - val_loss: 0.0143 - val_mean_squared_error: 0.0143 - val_mean_absolute_error: 0.0979\n",
            "Epoch 38/100\n",
            "8/8 [==============================] - 0s 19ms/step - loss: 0.0043 - mean_squared_error: 0.0043 - mean_absolute_error: 0.0535 - val_loss: 0.0091 - val_mean_squared_error: 0.0091 - val_mean_absolute_error: 0.0728\n",
            "Epoch 39/100\n",
            "8/8 [==============================] - 0s 17ms/step - loss: 0.0018 - mean_squared_error: 0.0018 - mean_absolute_error: 0.0330 - val_loss: 0.0106 - val_mean_squared_error: 0.0106 - val_mean_absolute_error: 0.0806\n",
            "Epoch 40/100\n",
            "8/8 [==============================] - 0s 20ms/step - loss: 0.0057 - mean_squared_error: 0.0057 - mean_absolute_error: 0.0603 - val_loss: 0.0089 - val_mean_squared_error: 0.0089 - val_mean_absolute_error: 0.0718\n",
            "Epoch 41/100\n",
            "8/8 [==============================] - 0s 18ms/step - loss: 0.0018 - mean_squared_error: 0.0018 - mean_absolute_error: 0.0323 - val_loss: 0.0100 - val_mean_squared_error: 0.0100 - val_mean_absolute_error: 0.0773\n",
            "Epoch 42/100\n",
            "8/8 [==============================] - 0s 18ms/step - loss: 0.0129 - mean_squared_error: 0.0129 - mean_absolute_error: 0.0545 - val_loss: 0.0179 - val_mean_squared_error: 0.0179 - val_mean_absolute_error: 0.1056\n",
            "Epoch 43/100\n",
            "8/8 [==============================] - 0s 18ms/step - loss: 0.0625 - mean_squared_error: 0.0625 - mean_absolute_error: 0.1744 - val_loss: 0.0699 - val_mean_squared_error: 0.0699 - val_mean_absolute_error: 0.2083\n",
            "Epoch 44/100\n",
            "8/8 [==============================] - 0s 22ms/step - loss: 0.0381 - mean_squared_error: 0.0381 - mean_absolute_error: 0.1353 - val_loss: 0.0677 - val_mean_squared_error: 0.0677 - val_mean_absolute_error: 0.2047\n",
            "Epoch 45/100\n",
            "8/8 [==============================] - 0s 18ms/step - loss: 0.0318 - mean_squared_error: 0.0318 - mean_absolute_error: 0.1238 - val_loss: 0.0685 - val_mean_squared_error: 0.0685 - val_mean_absolute_error: 0.2061\n",
            "Epoch 46/100\n",
            "8/8 [==============================] - 0s 19ms/step - loss: 0.0358 - mean_squared_error: 0.0358 - mean_absolute_error: 0.1307 - val_loss: 0.0738 - val_mean_squared_error: 0.0738 - val_mean_absolute_error: 0.2145\n",
            "Epoch 47/100\n",
            "8/8 [==============================] - 0s 18ms/step - loss: 0.0340 - mean_squared_error: 0.0340 - mean_absolute_error: 0.1248 - val_loss: 0.0748 - val_mean_squared_error: 0.0748 - val_mean_absolute_error: 0.2161\n",
            "Epoch 48/100\n",
            "8/8 [==============================] - 0s 18ms/step - loss: 0.0324 - mean_squared_error: 0.0324 - mean_absolute_error: 0.1209 - val_loss: 0.0634 - val_mean_squared_error: 0.0634 - val_mean_absolute_error: 0.1975\n",
            "Epoch 49/100\n",
            "8/8 [==============================] - 0s 19ms/step - loss: 0.0319 - mean_squared_error: 0.0319 - mean_absolute_error: 0.1244 - val_loss: 0.0650 - val_mean_squared_error: 0.0650 - val_mean_absolute_error: 0.2001\n",
            "Epoch 50/100\n",
            "8/8 [==============================] - 0s 19ms/step - loss: 0.0324 - mean_squared_error: 0.0324 - mean_absolute_error: 0.1243 - val_loss: 0.0655 - val_mean_squared_error: 0.0655 - val_mean_absolute_error: 0.2010\n"
          ],
          "name": "stdout"
        },
        {
          "output_type": "display_data",
          "data": {
            "text/html": [
              "<br/>Waiting for W&B process to finish, PID 6136<br/>Program ended successfully."
            ],
            "text/plain": [
              "<IPython.core.display.HTML object>"
            ]
          },
          "metadata": {
            "tags": []
          }
        },
        {
          "output_type": "display_data",
          "data": {
            "application/vnd.jupyter.widget-view+json": {
              "model_id": "4fcddb4e904847ca9afe1b735d5e930e",
              "version_minor": 0,
              "version_major": 2
            },
            "text/plain": [
              "VBox(children=(Label(value=' 0.33MB of 0.33MB uploaded (0.00MB deduped)\\r'), FloatProgress(value=1.0, max=1.0)…"
            ]
          },
          "metadata": {
            "tags": []
          }
        },
        {
          "output_type": "display_data",
          "data": {
            "text/html": [
              "Find user logs for this run at: <code>/content/feeder_repo/wandb/run-20210723_142714-geal9u4i/logs/debug.log</code>"
            ],
            "text/plain": [
              "<IPython.core.display.HTML object>"
            ]
          },
          "metadata": {
            "tags": []
          }
        },
        {
          "output_type": "display_data",
          "data": {
            "text/html": [
              "Find internal logs for this run at: <code>/content/feeder_repo/wandb/run-20210723_142714-geal9u4i/logs/debug-internal.log</code>"
            ],
            "text/plain": [
              "<IPython.core.display.HTML object>"
            ]
          },
          "metadata": {
            "tags": []
          }
        },
        {
          "output_type": "display_data",
          "data": {
            "text/html": [
              "<h3>Run summary:</h3><br/><style>\n",
              "    table.wandb td:nth-child(1) { padding: 0 10px; text-align: right }\n",
              "    </style><table class=\"wandb\">\n",
              "<tr><td>epoch</td><td>49</td></tr><tr><td>loss</td><td>0.03354</td></tr><tr><td>mean_squared_error</td><td>0.03354</td></tr><tr><td>mean_absolute_error</td><td>0.12605</td></tr><tr><td>val_loss</td><td>0.06555</td></tr><tr><td>val_mean_squared_error</td><td>0.06555</td></tr><tr><td>val_mean_absolute_error</td><td>0.201</td></tr><tr><td>_runtime</td><td>16</td></tr><tr><td>_timestamp</td><td>1627050450</td></tr><tr><td>_step</td><td>49</td></tr><tr><td>best_val_loss</td><td>0.00889</td></tr><tr><td>best_epoch</td><td>39</td></tr></table>"
            ],
            "text/plain": [
              "<IPython.core.display.HTML object>"
            ]
          },
          "metadata": {
            "tags": []
          }
        },
        {
          "output_type": "display_data",
          "data": {
            "text/html": [
              "<h3>Run history:</h3><br/><style>\n",
              "    table.wandb td:nth-child(1) { padding: 0 10px; text-align: right }\n",
              "    </style><table class=\"wandb\">\n",
              "<tr><td>epoch</td><td>▁▁▁▁▂▂▂▂▂▃▃▃▃▃▃▄▄▄▄▄▅▅▅▅▅▅▆▆▆▆▆▆▇▇▇▇▇███</td></tr><tr><td>loss</td><td>█▂▂▂▃▂▂▂▁▂▁▂▂▁▁▁▁▂▁▁▁▁▁▁▁▁▁▁▁▁▁▁▁▂▅▃▃▃▃▃</td></tr><tr><td>mean_squared_error</td><td>█▂▂▂▃▂▂▂▁▂▁▂▂▁▁▁▁▂▁▁▁▁▁▁▁▁▁▁▁▁▁▁▁▂▅▃▃▃▃▃</td></tr><tr><td>mean_absolute_error</td><td>█▄▃▂▄▃▃▂▂▂▁▂▂▂▂▂▁▂▁▂▂▂▂▁▂▂▁▂▁▂▁▁▁▃▅▄▄▄▄▄</td></tr><tr><td>val_loss</td><td>▃▃▂▃█▂▂▂▃▁▂▁▁▁▃▁▃▁▁▁▂▁▂▁▂▁▁▂▁▁▁▁▁▂▅▅▅▅▄▅</td></tr><tr><td>val_mean_squared_error</td><td>▃▃▂▃█▂▂▂▃▁▂▁▁▁▃▁▃▁▁▁▂▁▂▁▂▁▁▂▁▁▁▁▁▂▅▅▅▅▄▅</td></tr><tr><td>val_mean_absolute_error</td><td>▄▃▃▄█▃▃▃▄▂▃▂▂▂▄▁▄▂▂▂▃▂▂▁▄▁▁▃▂▂▁▁▁▂▅▅▆▆▅▅</td></tr><tr><td>_runtime</td><td>▁▁▁▁▂▂▂▂▂▃▃▃▃▃▄▄▄▄▄▅▅▅▅▅▅▅▅▅▆▆▆▆▇▇▇▇▇▇██</td></tr><tr><td>_timestamp</td><td>▁▁▁▁▂▂▂▂▂▃▃▃▃▃▄▄▄▄▄▅▅▅▅▅▅▅▅▅▆▆▆▆▇▇▇▇▇▇██</td></tr><tr><td>_step</td><td>▁▁▁▁▂▂▂▂▂▃▃▃▃▃▃▄▄▄▄▄▅▅▅▅▅▅▆▆▆▆▆▆▇▇▇▇▇███</td></tr></table><br/>"
            ],
            "text/plain": [
              "<IPython.core.display.HTML object>"
            ]
          },
          "metadata": {
            "tags": []
          }
        },
        {
          "output_type": "display_data",
          "data": {
            "text/html": [
              "Synced 5 W&B file(s), 1 media file(s), 2 artifact file(s) and 2 other file(s)"
            ],
            "text/plain": [
              "<IPython.core.display.HTML object>"
            ]
          },
          "metadata": {
            "tags": []
          }
        },
        {
          "output_type": "display_data",
          "data": {
            "text/html": [
              "\n",
              "                    <br/>Synced <strong style=\"color:#cdcd00\">apricot-sweep-30</strong>: <a href=\"https://wandb.ai/acse-jaq15/ACSE_9_MLP_AE/runs/geal9u4i\" target=\"_blank\">https://wandb.ai/acse-jaq15/ACSE_9_MLP_AE/runs/geal9u4i</a><br/>\n",
              "                "
            ],
            "text/plain": [
              "<IPython.core.display.HTML object>"
            ]
          },
          "metadata": {
            "tags": []
          }
        },
        {
          "output_type": "stream",
          "text": [
            "\u001b[34m\u001b[1mwandb\u001b[0m: Agent Starting Run: eo6adf79 with config:\n",
            "\u001b[34m\u001b[1mwandb\u001b[0m: \tactivation: relu\n",
            "\u001b[34m\u001b[1mwandb\u001b[0m: \tbatch_size: 128\n",
            "\u001b[34m\u001b[1mwandb\u001b[0m: \tepochs: 50\n",
            "\u001b[34m\u001b[1mwandb\u001b[0m: \tlearning_rate: 0.005\n",
            "\u001b[34m\u001b[1mwandb\u001b[0m: \toptimizer: sgd\n"
          ],
          "name": "stderr"
        },
        {
          "output_type": "display_data",
          "data": {
            "text/html": [
              "\n",
              "                Tracking run with wandb version 0.11.0<br/>\n",
              "                Syncing run <strong style=\"color:#cdcd00\">deft-sweep-31</strong> to <a href=\"https://wandb.ai\" target=\"_blank\">Weights & Biases</a> <a href=\"https://docs.wandb.com/integrations/jupyter.html\" target=\"_blank\">(Documentation)</a>.<br/>\n",
              "                Project page: <a href=\"https://wandb.ai/acse-jaq15/ACSE_9_MLP_AE\" target=\"_blank\">https://wandb.ai/acse-jaq15/ACSE_9_MLP_AE</a><br/>\n",
              "                Sweep page: <a href=\"https://wandb.ai/acse-jaq15/ACSE_9_MLP_AE/sweeps/ucphf2s3\" target=\"_blank\">https://wandb.ai/acse-jaq15/ACSE_9_MLP_AE/sweeps/ucphf2s3</a><br/>\n",
              "Run page: <a href=\"https://wandb.ai/acse-jaq15/ACSE_9_MLP_AE/runs/eo6adf79\" target=\"_blank\">https://wandb.ai/acse-jaq15/ACSE_9_MLP_AE/runs/eo6adf79</a><br/>\n",
              "                Run data is saved locally in <code>/content/feeder_repo/wandb/run-20210723_142738-eo6adf79</code><br/><br/>\n",
              "            "
            ],
            "text/plain": [
              "<IPython.core.display.HTML object>"
            ]
          },
          "metadata": {
            "tags": []
          }
        },
        {
          "output_type": "stream",
          "text": [
            "Epoch 1/50\n",
            "8/8 [==============================] - 3s 117ms/step - loss: 0.1271 - mean_squared_error: 0.1271 - mean_absolute_error: 0.3105 - val_loss: 0.1240 - val_mean_squared_error: 0.1240 - val_mean_absolute_error: 0.2900\n",
            "Epoch 2/50\n",
            "8/8 [==============================] - 0s 19ms/step - loss: 0.0391 - mean_squared_error: 0.0391 - mean_absolute_error: 0.1316 - val_loss: 0.0521 - val_mean_squared_error: 0.0521 - val_mean_absolute_error: 0.1827\n",
            "Epoch 3/50\n",
            "8/8 [==============================] - 0s 16ms/step - loss: 0.0383 - mean_squared_error: 0.0383 - mean_absolute_error: 0.1663 - val_loss: 0.0582 - val_mean_squared_error: 0.0582 - val_mean_absolute_error: 0.1904\n",
            "Epoch 4/50\n",
            "8/8 [==============================] - 0s 18ms/step - loss: 0.0305 - mean_squared_error: 0.0305 - mean_absolute_error: 0.1226 - val_loss: 0.0694 - val_mean_squared_error: 0.0694 - val_mean_absolute_error: 0.2105\n",
            "Epoch 5/50\n",
            "8/8 [==============================] - 0s 16ms/step - loss: 0.0305 - mean_squared_error: 0.0305 - mean_absolute_error: 0.1147 - val_loss: 0.0607 - val_mean_squared_error: 0.0607 - val_mean_absolute_error: 0.1962\n",
            "Epoch 6/50\n",
            "8/8 [==============================] - 0s 17ms/step - loss: 0.0305 - mean_squared_error: 0.0305 - mean_absolute_error: 0.1225 - val_loss: 0.0574 - val_mean_squared_error: 0.0574 - val_mean_absolute_error: 0.1911\n",
            "Epoch 7/50\n",
            "8/8 [==============================] - 0s 14ms/step - loss: 0.0272 - mean_squared_error: 0.0272 - mean_absolute_error: 0.1162 - val_loss: 0.0575 - val_mean_squared_error: 0.0575 - val_mean_absolute_error: 0.1925\n",
            "Epoch 8/50\n",
            "8/8 [==============================] - 0s 18ms/step - loss: 0.0251 - mean_squared_error: 0.0251 - mean_absolute_error: 0.1115 - val_loss: 0.0533 - val_mean_squared_error: 0.0533 - val_mean_absolute_error: 0.1858\n",
            "Epoch 9/50\n",
            "8/8 [==============================] - 0s 16ms/step - loss: 0.0242 - mean_squared_error: 0.0242 - mean_absolute_error: 0.1111 - val_loss: 0.0513 - val_mean_squared_error: 0.0513 - val_mean_absolute_error: 0.1836\n",
            "Epoch 10/50\n",
            "8/8 [==============================] - 0s 15ms/step - loss: 0.0202 - mean_squared_error: 0.0202 - mean_absolute_error: 0.0994 - val_loss: 0.0473 - val_mean_squared_error: 0.0473 - val_mean_absolute_error: 0.1770\n",
            "Epoch 11/50\n",
            "8/8 [==============================] - 0s 18ms/step - loss: 0.0158 - mean_squared_error: 0.0158 - mean_absolute_error: 0.0907 - val_loss: 0.0420 - val_mean_squared_error: 0.0420 - val_mean_absolute_error: 0.1657\n",
            "Epoch 12/50\n",
            "8/8 [==============================] - 0s 15ms/step - loss: 0.0142 - mean_squared_error: 0.0142 - mean_absolute_error: 0.0892 - val_loss: 0.0415 - val_mean_squared_error: 0.0415 - val_mean_absolute_error: 0.1686\n",
            "Epoch 13/50\n",
            "8/8 [==============================] - 0s 14ms/step - loss: 0.0123 - mean_squared_error: 0.0123 - mean_absolute_error: 0.0801 - val_loss: 0.0366 - val_mean_squared_error: 0.0366 - val_mean_absolute_error: 0.1568\n",
            "Epoch 14/50\n",
            "8/8 [==============================] - 0s 16ms/step - loss: 0.0096 - mean_squared_error: 0.0096 - mean_absolute_error: 0.0729 - val_loss: 0.0353 - val_mean_squared_error: 0.0353 - val_mean_absolute_error: 0.1546\n",
            "Epoch 15/50\n",
            "8/8 [==============================] - 0s 14ms/step - loss: 0.0079 - mean_squared_error: 0.0079 - mean_absolute_error: 0.0660 - val_loss: 0.0345 - val_mean_squared_error: 0.0345 - val_mean_absolute_error: 0.1524\n",
            "Epoch 16/50\n",
            "8/8 [==============================] - 0s 16ms/step - loss: 0.0066 - mean_squared_error: 0.0066 - mean_absolute_error: 0.0607 - val_loss: 0.0335 - val_mean_squared_error: 0.0335 - val_mean_absolute_error: 0.1488\n",
            "Epoch 17/50\n",
            "8/8 [==============================] - 0s 16ms/step - loss: 0.0067 - mean_squared_error: 0.0067 - mean_absolute_error: 0.0603 - val_loss: 0.0322 - val_mean_squared_error: 0.0322 - val_mean_absolute_error: 0.1442\n",
            "Epoch 18/50\n",
            "8/8 [==============================] - 0s 14ms/step - loss: 0.0059 - mean_squared_error: 0.0059 - mean_absolute_error: 0.0567 - val_loss: 0.0312 - val_mean_squared_error: 0.0312 - val_mean_absolute_error: 0.1412\n",
            "Epoch 19/50\n",
            "8/8 [==============================] - 0s 14ms/step - loss: 0.0056 - mean_squared_error: 0.0056 - mean_absolute_error: 0.0556 - val_loss: 0.0310 - val_mean_squared_error: 0.0310 - val_mean_absolute_error: 0.1434\n",
            "Epoch 20/50\n",
            "8/8 [==============================] - 0s 15ms/step - loss: 0.0054 - mean_squared_error: 0.0054 - mean_absolute_error: 0.0538 - val_loss: 0.0296 - val_mean_squared_error: 0.0296 - val_mean_absolute_error: 0.1386\n",
            "Epoch 21/50\n",
            "8/8 [==============================] - 0s 15ms/step - loss: 0.0057 - mean_squared_error: 0.0057 - mean_absolute_error: 0.0556 - val_loss: 0.0288 - val_mean_squared_error: 0.0288 - val_mean_absolute_error: 0.1375\n",
            "Epoch 22/50\n",
            "8/8 [==============================] - 0s 17ms/step - loss: 0.0051 - mean_squared_error: 0.0051 - mean_absolute_error: 0.0523 - val_loss: 0.0275 - val_mean_squared_error: 0.0275 - val_mean_absolute_error: 0.1324\n",
            "Epoch 23/50\n",
            "8/8 [==============================] - 0s 14ms/step - loss: 0.0053 - mean_squared_error: 0.0053 - mean_absolute_error: 0.0539 - val_loss: 0.0272 - val_mean_squared_error: 0.0272 - val_mean_absolute_error: 0.1345\n",
            "Epoch 24/50\n",
            "8/8 [==============================] - 0s 14ms/step - loss: 0.0052 - mean_squared_error: 0.0052 - mean_absolute_error: 0.0531 - val_loss: 0.0261 - val_mean_squared_error: 0.0261 - val_mean_absolute_error: 0.1310\n",
            "Epoch 25/50\n",
            "8/8 [==============================] - 0s 15ms/step - loss: 0.0042 - mean_squared_error: 0.0042 - mean_absolute_error: 0.0475 - val_loss: 0.0257 - val_mean_squared_error: 0.0257 - val_mean_absolute_error: 0.1304\n",
            "Epoch 26/50\n",
            "8/8 [==============================] - 0s 15ms/step - loss: 0.0043 - mean_squared_error: 0.0043 - mean_absolute_error: 0.0490 - val_loss: 0.0246 - val_mean_squared_error: 0.0246 - val_mean_absolute_error: 0.1271\n",
            "Epoch 27/50\n",
            "8/8 [==============================] - 0s 14ms/step - loss: 0.0038 - mean_squared_error: 0.0038 - mean_absolute_error: 0.0457 - val_loss: 0.0242 - val_mean_squared_error: 0.0242 - val_mean_absolute_error: 0.1261\n",
            "Epoch 28/50\n",
            "8/8 [==============================] - 0s 15ms/step - loss: 0.0036 - mean_squared_error: 0.0036 - mean_absolute_error: 0.0448 - val_loss: 0.0235 - val_mean_squared_error: 0.0235 - val_mean_absolute_error: 0.1242\n",
            "Epoch 29/50\n",
            "8/8 [==============================] - 0s 15ms/step - loss: 0.0038 - mean_squared_error: 0.0038 - mean_absolute_error: 0.0457 - val_loss: 0.0229 - val_mean_squared_error: 0.0229 - val_mean_absolute_error: 0.1225\n",
            "Epoch 30/50\n",
            "8/8 [==============================] - 0s 14ms/step - loss: 0.0035 - mean_squared_error: 0.0035 - mean_absolute_error: 0.0437 - val_loss: 0.0225 - val_mean_squared_error: 0.0225 - val_mean_absolute_error: 0.1224\n",
            "Epoch 31/50\n",
            "8/8 [==============================] - 0s 14ms/step - loss: 0.0035 - mean_squared_error: 0.0035 - mean_absolute_error: 0.0440 - val_loss: 0.0218 - val_mean_squared_error: 0.0218 - val_mean_absolute_error: 0.1201\n",
            "Epoch 32/50\n",
            "8/8 [==============================] - 0s 18ms/step - loss: 0.0034 - mean_squared_error: 0.0034 - mean_absolute_error: 0.0434 - val_loss: 0.0216 - val_mean_squared_error: 0.0216 - val_mean_absolute_error: 0.1202\n",
            "Epoch 33/50\n",
            "8/8 [==============================] - 0s 17ms/step - loss: 0.0034 - mean_squared_error: 0.0034 - mean_absolute_error: 0.0430 - val_loss: 0.0208 - val_mean_squared_error: 0.0208 - val_mean_absolute_error: 0.1170\n",
            "Epoch 34/50\n",
            "8/8 [==============================] - 0s 14ms/step - loss: 0.0030 - mean_squared_error: 0.0030 - mean_absolute_error: 0.0409 - val_loss: 0.0205 - val_mean_squared_error: 0.0205 - val_mean_absolute_error: 0.1165\n",
            "Epoch 35/50\n",
            "8/8 [==============================] - 0s 15ms/step - loss: 0.0031 - mean_squared_error: 0.0031 - mean_absolute_error: 0.0413 - val_loss: 0.0199 - val_mean_squared_error: 0.0199 - val_mean_absolute_error: 0.1148\n",
            "Epoch 36/50\n",
            "8/8 [==============================] - 0s 15ms/step - loss: 0.0030 - mean_squared_error: 0.0030 - mean_absolute_error: 0.0412 - val_loss: 0.0196 - val_mean_squared_error: 0.0196 - val_mean_absolute_error: 0.1144\n",
            "Epoch 37/50\n",
            "8/8 [==============================] - 0s 16ms/step - loss: 0.0029 - mean_squared_error: 0.0029 - mean_absolute_error: 0.0406 - val_loss: 0.0191 - val_mean_squared_error: 0.0191 - val_mean_absolute_error: 0.1123\n",
            "Epoch 38/50\n",
            "8/8 [==============================] - 0s 13ms/step - loss: 0.0030 - mean_squared_error: 0.0030 - mean_absolute_error: 0.0402 - val_loss: 0.0187 - val_mean_squared_error: 0.0187 - val_mean_absolute_error: 0.1113\n",
            "Epoch 39/50\n",
            "8/8 [==============================] - 0s 16ms/step - loss: 0.0028 - mean_squared_error: 0.0028 - mean_absolute_error: 0.0397 - val_loss: 0.0184 - val_mean_squared_error: 0.0184 - val_mean_absolute_error: 0.1108\n",
            "Epoch 40/50\n",
            "8/8 [==============================] - 0s 17ms/step - loss: 0.0028 - mean_squared_error: 0.0028 - mean_absolute_error: 0.0396 - val_loss: 0.0181 - val_mean_squared_error: 0.0181 - val_mean_absolute_error: 0.1096\n",
            "Epoch 41/50\n",
            "8/8 [==============================] - 0s 15ms/step - loss: 0.0026 - mean_squared_error: 0.0026 - mean_absolute_error: 0.0381 - val_loss: 0.0176 - val_mean_squared_error: 0.0176 - val_mean_absolute_error: 0.1083\n",
            "Epoch 42/50\n",
            "8/8 [==============================] - 0s 16ms/step - loss: 0.0026 - mean_squared_error: 0.0026 - mean_absolute_error: 0.0379 - val_loss: 0.0173 - val_mean_squared_error: 0.0173 - val_mean_absolute_error: 0.1073\n",
            "Epoch 43/50\n",
            "8/8 [==============================] - 0s 16ms/step - loss: 0.0023 - mean_squared_error: 0.0023 - mean_absolute_error: 0.0362 - val_loss: 0.0171 - val_mean_squared_error: 0.0171 - val_mean_absolute_error: 0.1066\n",
            "Epoch 44/50\n",
            "8/8 [==============================] - 0s 16ms/step - loss: 0.0023 - mean_squared_error: 0.0023 - mean_absolute_error: 0.0364 - val_loss: 0.0169 - val_mean_squared_error: 0.0169 - val_mean_absolute_error: 0.1059\n",
            "Epoch 45/50\n",
            "8/8 [==============================] - 0s 14ms/step - loss: 0.0025 - mean_squared_error: 0.0025 - mean_absolute_error: 0.0367 - val_loss: 0.0165 - val_mean_squared_error: 0.0165 - val_mean_absolute_error: 0.1049\n",
            "Epoch 46/50\n",
            "8/8 [==============================] - 0s 13ms/step - loss: 0.0022 - mean_squared_error: 0.0022 - mean_absolute_error: 0.0356 - val_loss: 0.0165 - val_mean_squared_error: 0.0165 - val_mean_absolute_error: 0.1047\n",
            "Epoch 47/50\n",
            "8/8 [==============================] - 0s 12ms/step - loss: 0.0022 - mean_squared_error: 0.0022 - mean_absolute_error: 0.0351 - val_loss: 0.0162 - val_mean_squared_error: 0.0162 - val_mean_absolute_error: 0.1036\n",
            "Epoch 48/50\n",
            "8/8 [==============================] - 0s 13ms/step - loss: 0.0022 - mean_squared_error: 0.0022 - mean_absolute_error: 0.0358 - val_loss: 0.0159 - val_mean_squared_error: 0.0159 - val_mean_absolute_error: 0.1027\n",
            "Epoch 49/50\n",
            "8/8 [==============================] - 0s 13ms/step - loss: 0.0021 - mean_squared_error: 0.0021 - mean_absolute_error: 0.0348 - val_loss: 0.0157 - val_mean_squared_error: 0.0157 - val_mean_absolute_error: 0.1021\n",
            "Epoch 50/50\n",
            "8/8 [==============================] - 0s 18ms/step - loss: 0.0021 - mean_squared_error: 0.0021 - mean_absolute_error: 0.0342 - val_loss: 0.0155 - val_mean_squared_error: 0.0155 - val_mean_absolute_error: 0.1015\n"
          ],
          "name": "stdout"
        },
        {
          "output_type": "display_data",
          "data": {
            "text/html": [
              "<br/>Waiting for W&B process to finish, PID 6341<br/>Program ended successfully."
            ],
            "text/plain": [
              "<IPython.core.display.HTML object>"
            ]
          },
          "metadata": {
            "tags": []
          }
        },
        {
          "output_type": "display_data",
          "data": {
            "application/vnd.jupyter.widget-view+json": {
              "model_id": "8a57356a012d4e4c89cfaf8e6a0006ce",
              "version_minor": 0,
              "version_major": 2
            },
            "text/plain": [
              "VBox(children=(Label(value=' 1.10MB of 1.10MB uploaded (0.00MB deduped)\\r'), FloatProgress(value=1.0, max=1.0)…"
            ]
          },
          "metadata": {
            "tags": []
          }
        },
        {
          "output_type": "display_data",
          "data": {
            "text/html": [
              "Find user logs for this run at: <code>/content/feeder_repo/wandb/run-20210723_142738-eo6adf79/logs/debug.log</code>"
            ],
            "text/plain": [
              "<IPython.core.display.HTML object>"
            ]
          },
          "metadata": {
            "tags": []
          }
        },
        {
          "output_type": "display_data",
          "data": {
            "text/html": [
              "Find internal logs for this run at: <code>/content/feeder_repo/wandb/run-20210723_142738-eo6adf79/logs/debug-internal.log</code>"
            ],
            "text/plain": [
              "<IPython.core.display.HTML object>"
            ]
          },
          "metadata": {
            "tags": []
          }
        },
        {
          "output_type": "display_data",
          "data": {
            "text/html": [
              "<h3>Run summary:</h3><br/><style>\n",
              "    table.wandb td:nth-child(1) { padding: 0 10px; text-align: right }\n",
              "    </style><table class=\"wandb\">\n",
              "<tr><td>epoch</td><td>49</td></tr><tr><td>loss</td><td>0.00214</td></tr><tr><td>mean_squared_error</td><td>0.00214</td></tr><tr><td>mean_absolute_error</td><td>0.03473</td></tr><tr><td>val_loss</td><td>0.01547</td></tr><tr><td>val_mean_squared_error</td><td>0.01547</td></tr><tr><td>val_mean_absolute_error</td><td>0.10149</td></tr><tr><td>_runtime</td><td>15</td></tr><tr><td>_timestamp</td><td>1627050473</td></tr><tr><td>_step</td><td>49</td></tr><tr><td>best_val_loss</td><td>0.01547</td></tr><tr><td>best_epoch</td><td>49</td></tr></table>"
            ],
            "text/plain": [
              "<IPython.core.display.HTML object>"
            ]
          },
          "metadata": {
            "tags": []
          }
        },
        {
          "output_type": "display_data",
          "data": {
            "text/html": [
              "<h3>Run history:</h3><br/><style>\n",
              "    table.wandb td:nth-child(1) { padding: 0 10px; text-align: right }\n",
              "    </style><table class=\"wandb\">\n",
              "<tr><td>epoch</td><td>▁▁▁▁▂▂▂▂▂▃▃▃▃▃▃▄▄▄▄▄▅▅▅▅▅▅▆▆▆▆▆▆▇▇▇▇▇███</td></tr><tr><td>loss</td><td>█▃▃▃▃▂▂▂▂▂▂▁▁▁▁▁▁▁▁▁▁▁▁▁▁▁▁▁▁▁▁▁▁▁▁▁▁▁▁▁</td></tr><tr><td>mean_squared_error</td><td>█▃▃▃▃▂▂▂▂▂▂▁▁▁▁▁▁▁▁▁▁▁▁▁▁▁▁▁▁▁▁▁▁▁▁▁▁▁▁▁</td></tr><tr><td>mean_absolute_error</td><td>█▄▄▃▃▃▃▃▃▂▂▂▂▂▂▂▂▁▁▁▁▁▁▁▁▁▁▁▁▁▁▁▁▁▁▁▁▁▁▁</td></tr><tr><td>val_loss</td><td>█▃▄▄▄▄▃▃▃▃▂▂▂▂▂▂▂▂▂▂▂▂▂▁▁▁▁▁▁▁▁▁▁▁▁▁▁▁▁▁</td></tr><tr><td>val_mean_squared_error</td><td>█▃▄▄▄▄▃▃▃▃▂▂▂▂▂▂▂▂▂▂▂▂▂▁▁▁▁▁▁▁▁▁▁▁▁▁▁▁▁▁</td></tr><tr><td>val_mean_absolute_error</td><td>█▄▄▅▄▄▄▄▃▃▃▃▃▃▂▃▂▂▂▂▂▂▂▂▂▂▂▂▁▁▁▁▁▁▁▁▁▁▁▁</td></tr><tr><td>_runtime</td><td>▁▁▁▁▂▂▂▂▂▂▃▃▃▃▄▄▄▄▄▅▅▅▅▅▅▅▅▆▆▆▆▆▇▇▇▇████</td></tr><tr><td>_timestamp</td><td>▁▁▁▁▂▂▂▂▂▂▃▃▃▃▄▄▄▄▄▅▅▅▅▅▅▅▅▆▆▆▆▆▇▇▇▇████</td></tr><tr><td>_step</td><td>▁▁▁▁▂▂▂▂▂▃▃▃▃▃▃▄▄▄▄▄▅▅▅▅▅▅▆▆▆▆▆▆▇▇▇▇▇███</td></tr></table><br/>"
            ],
            "text/plain": [
              "<IPython.core.display.HTML object>"
            ]
          },
          "metadata": {
            "tags": []
          }
        },
        {
          "output_type": "display_data",
          "data": {
            "text/html": [
              "Synced 5 W&B file(s), 1 media file(s), 2 artifact file(s) and 2 other file(s)"
            ],
            "text/plain": [
              "<IPython.core.display.HTML object>"
            ]
          },
          "metadata": {
            "tags": []
          }
        },
        {
          "output_type": "display_data",
          "data": {
            "text/html": [
              "\n",
              "                    <br/>Synced <strong style=\"color:#cdcd00\">deft-sweep-31</strong>: <a href=\"https://wandb.ai/acse-jaq15/ACSE_9_MLP_AE/runs/eo6adf79\" target=\"_blank\">https://wandb.ai/acse-jaq15/ACSE_9_MLP_AE/runs/eo6adf79</a><br/>\n",
              "                "
            ],
            "text/plain": [
              "<IPython.core.display.HTML object>"
            ]
          },
          "metadata": {
            "tags": []
          }
        },
        {
          "output_type": "stream",
          "text": [
            "\u001b[34m\u001b[1mwandb\u001b[0m: Agent Starting Run: g4dyvrm3 with config:\n",
            "\u001b[34m\u001b[1mwandb\u001b[0m: \tactivation: selu\n",
            "\u001b[34m\u001b[1mwandb\u001b[0m: \tbatch_size: 64\n",
            "\u001b[34m\u001b[1mwandb\u001b[0m: \tepochs: 100\n",
            "\u001b[34m\u001b[1mwandb\u001b[0m: \tlearning_rate: 0.001\n",
            "\u001b[34m\u001b[1mwandb\u001b[0m: \toptimizer: sgd\n"
          ],
          "name": "stderr"
        },
        {
          "output_type": "display_data",
          "data": {
            "text/html": [
              "\n",
              "                Tracking run with wandb version 0.11.0<br/>\n",
              "                Syncing run <strong style=\"color:#cdcd00\">worthy-sweep-32</strong> to <a href=\"https://wandb.ai\" target=\"_blank\">Weights & Biases</a> <a href=\"https://docs.wandb.com/integrations/jupyter.html\" target=\"_blank\">(Documentation)</a>.<br/>\n",
              "                Project page: <a href=\"https://wandb.ai/acse-jaq15/ACSE_9_MLP_AE\" target=\"_blank\">https://wandb.ai/acse-jaq15/ACSE_9_MLP_AE</a><br/>\n",
              "                Sweep page: <a href=\"https://wandb.ai/acse-jaq15/ACSE_9_MLP_AE/sweeps/ucphf2s3\" target=\"_blank\">https://wandb.ai/acse-jaq15/ACSE_9_MLP_AE/sweeps/ucphf2s3</a><br/>\n",
              "Run page: <a href=\"https://wandb.ai/acse-jaq15/ACSE_9_MLP_AE/runs/g4dyvrm3\" target=\"_blank\">https://wandb.ai/acse-jaq15/ACSE_9_MLP_AE/runs/g4dyvrm3</a><br/>\n",
              "                Run data is saved locally in <code>/content/feeder_repo/wandb/run-20210723_142801-g4dyvrm3</code><br/><br/>\n",
              "            "
            ],
            "text/plain": [
              "<IPython.core.display.HTML object>"
            ]
          },
          "metadata": {
            "tags": []
          }
        },
        {
          "output_type": "stream",
          "text": [
            "Epoch 1/100\n",
            "16/16 [==============================] - 3s 61ms/step - loss: 0.2133 - mean_squared_error: 0.2133 - mean_absolute_error: 0.3235 - val_loss: 0.5833 - val_mean_squared_error: 0.5833 - val_mean_absolute_error: 0.7311\n",
            "Epoch 2/100\n",
            "16/16 [==============================] - 0s 12ms/step - loss: 1894868859981.5750 - mean_squared_error: 1894868859981.5750 - mean_absolute_error: 62282.8603 - val_loss: nan - val_mean_squared_error: nan - val_mean_absolute_error: nan\n",
            "Epoch 3/100\n",
            "16/16 [==============================] - 0s 12ms/step - loss: nan - mean_squared_error: nan - mean_absolute_error: nan - val_loss: nan - val_mean_squared_error: nan - val_mean_absolute_error: nan\n",
            "Epoch 4/100\n",
            "16/16 [==============================] - 0s 13ms/step - loss: nan - mean_squared_error: nan - mean_absolute_error: nan - val_loss: nan - val_mean_squared_error: nan - val_mean_absolute_error: nan\n",
            "Epoch 5/100\n",
            "16/16 [==============================] - 0s 13ms/step - loss: nan - mean_squared_error: nan - mean_absolute_error: nan - val_loss: nan - val_mean_squared_error: nan - val_mean_absolute_error: nan\n",
            "Epoch 6/100\n",
            "16/16 [==============================] - 0s 12ms/step - loss: nan - mean_squared_error: nan - mean_absolute_error: nan - val_loss: nan - val_mean_squared_error: nan - val_mean_absolute_error: nan\n",
            "Epoch 7/100\n",
            "16/16 [==============================] - 0s 11ms/step - loss: nan - mean_squared_error: nan - mean_absolute_error: nan - val_loss: nan - val_mean_squared_error: nan - val_mean_absolute_error: nan\n",
            "Epoch 8/100\n",
            "16/16 [==============================] - 0s 12ms/step - loss: nan - mean_squared_error: nan - mean_absolute_error: nan - val_loss: nan - val_mean_squared_error: nan - val_mean_absolute_error: nan\n",
            "Epoch 9/100\n",
            "16/16 [==============================] - 0s 13ms/step - loss: nan - mean_squared_error: nan - mean_absolute_error: nan - val_loss: nan - val_mean_squared_error: nan - val_mean_absolute_error: nan\n",
            "Epoch 10/100\n",
            "16/16 [==============================] - 0s 15ms/step - loss: nan - mean_squared_error: nan - mean_absolute_error: nan - val_loss: nan - val_mean_squared_error: nan - val_mean_absolute_error: nan\n",
            "Epoch 11/100\n",
            "16/16 [==============================] - 0s 16ms/step - loss: nan - mean_squared_error: nan - mean_absolute_error: nan - val_loss: nan - val_mean_squared_error: nan - val_mean_absolute_error: nan\n"
          ],
          "name": "stdout"
        },
        {
          "output_type": "display_data",
          "data": {
            "text/html": [
              "<br/>Waiting for W&B process to finish, PID 6546<br/>Program ended successfully."
            ],
            "text/plain": [
              "<IPython.core.display.HTML object>"
            ]
          },
          "metadata": {
            "tags": []
          }
        },
        {
          "output_type": "display_data",
          "data": {
            "application/vnd.jupyter.widget-view+json": {
              "model_id": "cd766f6639bf4b27aeb7ce413ba74a9b",
              "version_minor": 0,
              "version_major": 2
            },
            "text/plain": [
              "VBox(children=(Label(value=' 1.11MB of 1.11MB uploaded (0.00MB deduped)\\r'), FloatProgress(value=1.0, max=1.0)…"
            ]
          },
          "metadata": {
            "tags": []
          }
        },
        {
          "output_type": "display_data",
          "data": {
            "text/html": [
              "Find user logs for this run at: <code>/content/feeder_repo/wandb/run-20210723_142801-g4dyvrm3/logs/debug.log</code>"
            ],
            "text/plain": [
              "<IPython.core.display.HTML object>"
            ]
          },
          "metadata": {
            "tags": []
          }
        },
        {
          "output_type": "display_data",
          "data": {
            "text/html": [
              "Find internal logs for this run at: <code>/content/feeder_repo/wandb/run-20210723_142801-g4dyvrm3/logs/debug-internal.log</code>"
            ],
            "text/plain": [
              "<IPython.core.display.HTML object>"
            ]
          },
          "metadata": {
            "tags": []
          }
        },
        {
          "output_type": "display_data",
          "data": {
            "text/html": [
              "<h3>Run summary:</h3><br/><style>\n",
              "    table.wandb td:nth-child(1) { padding: 0 10px; text-align: right }\n",
              "    </style><table class=\"wandb\">\n",
              "<tr><td>epoch</td><td>10</td></tr><tr><td>loss</td><td>nan</td></tr><tr><td>mean_squared_error</td><td>nan</td></tr><tr><td>mean_absolute_error</td><td>nan</td></tr><tr><td>val_loss</td><td>nan</td></tr><tr><td>val_mean_squared_error</td><td>nan</td></tr><tr><td>val_mean_absolute_error</td><td>nan</td></tr><tr><td>_runtime</td><td>9</td></tr><tr><td>_timestamp</td><td>1627050490</td></tr><tr><td>_step</td><td>10</td></tr><tr><td>best_val_loss</td><td>0.58332</td></tr><tr><td>best_epoch</td><td>0</td></tr></table>"
            ],
            "text/plain": [
              "<IPython.core.display.HTML object>"
            ]
          },
          "metadata": {
            "tags": []
          }
        },
        {
          "output_type": "display_data",
          "data": {
            "text/html": [
              "<h3>Run history:</h3><br/><style>\n",
              "    table.wandb td:nth-child(1) { padding: 0 10px; text-align: right }\n",
              "    </style><table class=\"wandb\">\n",
              "<tr><td>epoch</td><td>▁▂▂▃▄▅▅▆▇▇█</td></tr><tr><td>loss</td><td>▁█         </td></tr><tr><td>mean_squared_error</td><td>▁█         </td></tr><tr><td>mean_absolute_error</td><td>▁█         </td></tr><tr><td>val_loss</td><td>▁          </td></tr><tr><td>val_mean_squared_error</td><td>▁          </td></tr><tr><td>val_mean_absolute_error</td><td>▁          </td></tr><tr><td>_runtime</td><td>▁▃▃▃▃▃▆▆▆▆█</td></tr><tr><td>_timestamp</td><td>▁▃▃▃▃▃▆▆▆▆█</td></tr><tr><td>_step</td><td>▁▂▂▃▄▅▅▆▇▇█</td></tr></table><br/>"
            ],
            "text/plain": [
              "<IPython.core.display.HTML object>"
            ]
          },
          "metadata": {
            "tags": []
          }
        },
        {
          "output_type": "display_data",
          "data": {
            "text/html": [
              "Synced 5 W&B file(s), 1 media file(s), 2 artifact file(s) and 2 other file(s)"
            ],
            "text/plain": [
              "<IPython.core.display.HTML object>"
            ]
          },
          "metadata": {
            "tags": []
          }
        },
        {
          "output_type": "display_data",
          "data": {
            "text/html": [
              "\n",
              "                    <br/>Synced <strong style=\"color:#cdcd00\">worthy-sweep-32</strong>: <a href=\"https://wandb.ai/acse-jaq15/ACSE_9_MLP_AE/runs/g4dyvrm3\" target=\"_blank\">https://wandb.ai/acse-jaq15/ACSE_9_MLP_AE/runs/g4dyvrm3</a><br/>\n",
              "                "
            ],
            "text/plain": [
              "<IPython.core.display.HTML object>"
            ]
          },
          "metadata": {
            "tags": []
          }
        },
        {
          "output_type": "stream",
          "text": [
            "\u001b[34m\u001b[1mwandb\u001b[0m: Agent Starting Run: eyb7b6ls with config:\n",
            "\u001b[34m\u001b[1mwandb\u001b[0m: \tactivation: relu\n",
            "\u001b[34m\u001b[1mwandb\u001b[0m: \tbatch_size: 32\n",
            "\u001b[34m\u001b[1mwandb\u001b[0m: \tepochs: 100\n",
            "\u001b[34m\u001b[1mwandb\u001b[0m: \tlearning_rate: 0.0005\n",
            "\u001b[34m\u001b[1mwandb\u001b[0m: \toptimizer: adam\n"
          ],
          "name": "stderr"
        },
        {
          "output_type": "display_data",
          "data": {
            "text/html": [
              "\n",
              "                Tracking run with wandb version 0.11.0<br/>\n",
              "                Syncing run <strong style=\"color:#cdcd00\">absurd-sweep-33</strong> to <a href=\"https://wandb.ai\" target=\"_blank\">Weights & Biases</a> <a href=\"https://docs.wandb.com/integrations/jupyter.html\" target=\"_blank\">(Documentation)</a>.<br/>\n",
              "                Project page: <a href=\"https://wandb.ai/acse-jaq15/ACSE_9_MLP_AE\" target=\"_blank\">https://wandb.ai/acse-jaq15/ACSE_9_MLP_AE</a><br/>\n",
              "                Sweep page: <a href=\"https://wandb.ai/acse-jaq15/ACSE_9_MLP_AE/sweeps/ucphf2s3\" target=\"_blank\">https://wandb.ai/acse-jaq15/ACSE_9_MLP_AE/sweeps/ucphf2s3</a><br/>\n",
              "Run page: <a href=\"https://wandb.ai/acse-jaq15/ACSE_9_MLP_AE/runs/eyb7b6ls\" target=\"_blank\">https://wandb.ai/acse-jaq15/ACSE_9_MLP_AE/runs/eyb7b6ls</a><br/>\n",
              "                Run data is saved locally in <code>/content/feeder_repo/wandb/run-20210723_142817-eyb7b6ls</code><br/><br/>\n",
              "            "
            ],
            "text/plain": [
              "<IPython.core.display.HTML object>"
            ]
          },
          "metadata": {
            "tags": []
          }
        },
        {
          "output_type": "stream",
          "text": [
            "Epoch 1/100\n",
            "31/31 [==============================] - 3s 36ms/step - loss: 0.0879 - mean_squared_error: 0.0879 - mean_absolute_error: 0.2208 - val_loss: 0.0323 - val_mean_squared_error: 0.0323 - val_mean_absolute_error: 0.1453\n",
            "Epoch 2/100\n",
            "31/31 [==============================] - 0s 14ms/step - loss: 0.0068 - mean_squared_error: 0.0068 - mean_absolute_error: 0.0600 - val_loss: 0.0263 - val_mean_squared_error: 0.0263 - val_mean_absolute_error: 0.1353\n",
            "Epoch 3/100\n",
            "31/31 [==============================] - 0s 14ms/step - loss: 0.0039 - mean_squared_error: 0.0039 - mean_absolute_error: 0.0463 - val_loss: 0.0172 - val_mean_squared_error: 0.0172 - val_mean_absolute_error: 0.1082\n",
            "Epoch 4/100\n",
            "31/31 [==============================] - 0s 14ms/step - loss: 0.0023 - mean_squared_error: 0.0023 - mean_absolute_error: 0.0361 - val_loss: 0.0135 - val_mean_squared_error: 0.0135 - val_mean_absolute_error: 0.0948\n",
            "Epoch 5/100\n",
            "31/31 [==============================] - 0s 12ms/step - loss: 0.0019 - mean_squared_error: 0.0019 - mean_absolute_error: 0.0326 - val_loss: 0.0112 - val_mean_squared_error: 0.0112 - val_mean_absolute_error: 0.0846\n",
            "Epoch 6/100\n",
            "31/31 [==============================] - 0s 14ms/step - loss: 0.0016 - mean_squared_error: 0.0016 - mean_absolute_error: 0.0299 - val_loss: 0.0102 - val_mean_squared_error: 0.0102 - val_mean_absolute_error: 0.0792\n",
            "Epoch 7/100\n",
            "31/31 [==============================] - 0s 14ms/step - loss: 0.0018 - mean_squared_error: 0.0018 - mean_absolute_error: 0.0327 - val_loss: 0.0091 - val_mean_squared_error: 0.0091 - val_mean_absolute_error: 0.0742\n",
            "Epoch 8/100\n",
            "31/31 [==============================] - 0s 14ms/step - loss: 0.0013 - mean_squared_error: 0.0013 - mean_absolute_error: 0.0276 - val_loss: 0.0090 - val_mean_squared_error: 0.0090 - val_mean_absolute_error: 0.0733\n",
            "Epoch 9/100\n",
            "31/31 [==============================] - 0s 13ms/step - loss: 0.0013 - mean_squared_error: 0.0013 - mean_absolute_error: 0.0266 - val_loss: 0.0085 - val_mean_squared_error: 0.0085 - val_mean_absolute_error: 0.0704\n",
            "Epoch 10/100\n",
            "31/31 [==============================] - 0s 14ms/step - loss: 0.0010 - mean_squared_error: 0.0010 - mean_absolute_error: 0.0239 - val_loss: 0.0082 - val_mean_squared_error: 0.0082 - val_mean_absolute_error: 0.0698\n",
            "Epoch 11/100\n",
            "31/31 [==============================] - 0s 13ms/step - loss: 0.0011 - mean_squared_error: 0.0011 - mean_absolute_error: 0.0255 - val_loss: 0.0078 - val_mean_squared_error: 0.0078 - val_mean_absolute_error: 0.0673\n",
            "Epoch 12/100\n",
            "31/31 [==============================] - 0s 13ms/step - loss: 0.0011 - mean_squared_error: 0.0011 - mean_absolute_error: 0.0247 - val_loss: 0.0077 - val_mean_squared_error: 0.0077 - val_mean_absolute_error: 0.0670\n",
            "Epoch 13/100\n",
            "31/31 [==============================] - 0s 13ms/step - loss: 0.0010 - mean_squared_error: 0.0010 - mean_absolute_error: 0.0242 - val_loss: 0.0072 - val_mean_squared_error: 0.0072 - val_mean_absolute_error: 0.0645\n",
            "Epoch 14/100\n",
            "31/31 [==============================] - 0s 14ms/step - loss: 8.5426e-04 - mean_squared_error: 8.5426e-04 - mean_absolute_error: 0.0221 - val_loss: 0.0073 - val_mean_squared_error: 0.0073 - val_mean_absolute_error: 0.0656\n",
            "Epoch 15/100\n",
            "31/31 [==============================] - 0s 13ms/step - loss: 0.0010 - mean_squared_error: 0.0010 - mean_absolute_error: 0.0245 - val_loss: 0.0070 - val_mean_squared_error: 0.0070 - val_mean_absolute_error: 0.0633\n",
            "Epoch 16/100\n",
            "31/31 [==============================] - 0s 13ms/step - loss: 9.9065e-04 - mean_squared_error: 9.9065e-04 - mean_absolute_error: 0.0241 - val_loss: 0.0067 - val_mean_squared_error: 0.0067 - val_mean_absolute_error: 0.0620\n",
            "Epoch 17/100\n",
            "31/31 [==============================] - 0s 13ms/step - loss: 9.9970e-04 - mean_squared_error: 9.9970e-04 - mean_absolute_error: 0.0241 - val_loss: 0.0067 - val_mean_squared_error: 0.0067 - val_mean_absolute_error: 0.0613\n",
            "Epoch 18/100\n",
            "31/31 [==============================] - 0s 13ms/step - loss: 7.5386e-04 - mean_squared_error: 7.5386e-04 - mean_absolute_error: 0.0203 - val_loss: 0.0068 - val_mean_squared_error: 0.0068 - val_mean_absolute_error: 0.0632\n",
            "Epoch 19/100\n",
            "31/31 [==============================] - 0s 13ms/step - loss: 0.0011 - mean_squared_error: 0.0011 - mean_absolute_error: 0.0251 - val_loss: 0.0068 - val_mean_squared_error: 0.0068 - val_mean_absolute_error: 0.0631\n",
            "Epoch 20/100\n",
            "31/31 [==============================] - 0s 14ms/step - loss: 0.0010 - mean_squared_error: 0.0010 - mean_absolute_error: 0.0239 - val_loss: 0.0065 - val_mean_squared_error: 0.0065 - val_mean_absolute_error: 0.0610\n",
            "Epoch 21/100\n",
            "31/31 [==============================] - 0s 12ms/step - loss: 9.2967e-04 - mean_squared_error: 9.2967e-04 - mean_absolute_error: 0.0226 - val_loss: 0.0068 - val_mean_squared_error: 0.0068 - val_mean_absolute_error: 0.0630\n",
            "Epoch 22/100\n",
            "31/31 [==============================] - 0s 12ms/step - loss: 9.5155e-04 - mean_squared_error: 9.5155e-04 - mean_absolute_error: 0.0227 - val_loss: 0.0063 - val_mean_squared_error: 0.0063 - val_mean_absolute_error: 0.0595\n",
            "Epoch 23/100\n",
            "31/31 [==============================] - 0s 13ms/step - loss: 8.2404e-04 - mean_squared_error: 8.2404e-04 - mean_absolute_error: 0.0213 - val_loss: 0.0062 - val_mean_squared_error: 0.0062 - val_mean_absolute_error: 0.0590\n",
            "Epoch 24/100\n",
            "31/31 [==============================] - 0s 13ms/step - loss: 8.3897e-04 - mean_squared_error: 8.3897e-04 - mean_absolute_error: 0.0215 - val_loss: 0.0061 - val_mean_squared_error: 0.0061 - val_mean_absolute_error: 0.0585\n",
            "Epoch 25/100\n",
            "31/31 [==============================] - 0s 14ms/step - loss: 7.4231e-04 - mean_squared_error: 7.4231e-04 - mean_absolute_error: 0.0202 - val_loss: 0.0060 - val_mean_squared_error: 0.0060 - val_mean_absolute_error: 0.0583\n",
            "Epoch 26/100\n",
            "31/31 [==============================] - 0s 13ms/step - loss: 0.0010 - mean_squared_error: 0.0010 - mean_absolute_error: 0.0245 - val_loss: 0.0065 - val_mean_squared_error: 0.0065 - val_mean_absolute_error: 0.0605\n",
            "Epoch 27/100\n",
            "31/31 [==============================] - 0s 13ms/step - loss: 9.9192e-04 - mean_squared_error: 9.9192e-04 - mean_absolute_error: 0.0237 - val_loss: 0.0063 - val_mean_squared_error: 0.0063 - val_mean_absolute_error: 0.0613\n",
            "Epoch 28/100\n",
            "31/31 [==============================] - 0s 14ms/step - loss: 9.0841e-04 - mean_squared_error: 9.0841e-04 - mean_absolute_error: 0.0233 - val_loss: 0.0060 - val_mean_squared_error: 0.0060 - val_mean_absolute_error: 0.0585\n",
            "Epoch 29/100\n",
            "31/31 [==============================] - 0s 13ms/step - loss: 8.0293e-04 - mean_squared_error: 8.0293e-04 - mean_absolute_error: 0.0213 - val_loss: 0.0058 - val_mean_squared_error: 0.0058 - val_mean_absolute_error: 0.0575\n",
            "Epoch 30/100\n",
            "31/31 [==============================] - 0s 13ms/step - loss: 8.8703e-04 - mean_squared_error: 8.8703e-04 - mean_absolute_error: 0.0218 - val_loss: 0.0067 - val_mean_squared_error: 0.0067 - val_mean_absolute_error: 0.0624\n",
            "Epoch 31/100\n",
            "31/31 [==============================] - 0s 15ms/step - loss: 9.5481e-04 - mean_squared_error: 9.5481e-04 - mean_absolute_error: 0.0230 - val_loss: 0.0056 - val_mean_squared_error: 0.0056 - val_mean_absolute_error: 0.0563\n",
            "Epoch 32/100\n",
            "31/31 [==============================] - 0s 13ms/step - loss: 8.5848e-04 - mean_squared_error: 8.5848e-04 - mean_absolute_error: 0.0224 - val_loss: 0.0062 - val_mean_squared_error: 0.0062 - val_mean_absolute_error: 0.0596\n",
            "Epoch 33/100\n",
            "31/31 [==============================] - 0s 14ms/step - loss: 8.1304e-04 - mean_squared_error: 8.1304e-04 - mean_absolute_error: 0.0215 - val_loss: 0.0058 - val_mean_squared_error: 0.0058 - val_mean_absolute_error: 0.0569\n",
            "Epoch 34/100\n",
            "31/31 [==============================] - 0s 14ms/step - loss: 7.4770e-04 - mean_squared_error: 7.4770e-04 - mean_absolute_error: 0.0209 - val_loss: 0.0055 - val_mean_squared_error: 0.0055 - val_mean_absolute_error: 0.0560\n",
            "Epoch 35/100\n",
            "31/31 [==============================] - 0s 13ms/step - loss: 8.0020e-04 - mean_squared_error: 8.0020e-04 - mean_absolute_error: 0.0206 - val_loss: 0.0056 - val_mean_squared_error: 0.0056 - val_mean_absolute_error: 0.0557\n",
            "Epoch 36/100\n",
            "31/31 [==============================] - 0s 15ms/step - loss: 7.2990e-04 - mean_squared_error: 7.2990e-04 - mean_absolute_error: 0.0204 - val_loss: 0.0056 - val_mean_squared_error: 0.0056 - val_mean_absolute_error: 0.0559\n",
            "Epoch 37/100\n",
            "31/31 [==============================] - 0s 14ms/step - loss: 6.8684e-04 - mean_squared_error: 6.8684e-04 - mean_absolute_error: 0.0193 - val_loss: 0.0059 - val_mean_squared_error: 0.0059 - val_mean_absolute_error: 0.0576\n",
            "Epoch 38/100\n",
            "31/31 [==============================] - 0s 13ms/step - loss: 9.9029e-04 - mean_squared_error: 9.9029e-04 - mean_absolute_error: 0.0236 - val_loss: 0.0055 - val_mean_squared_error: 0.0055 - val_mean_absolute_error: 0.0555\n",
            "Epoch 39/100\n",
            "31/31 [==============================] - 0s 13ms/step - loss: 6.4304e-04 - mean_squared_error: 6.4304e-04 - mean_absolute_error: 0.0190 - val_loss: 0.0056 - val_mean_squared_error: 0.0056 - val_mean_absolute_error: 0.0563\n",
            "Epoch 40/100\n",
            "31/31 [==============================] - 0s 14ms/step - loss: 7.4141e-04 - mean_squared_error: 7.4141e-04 - mean_absolute_error: 0.0204 - val_loss: 0.0056 - val_mean_squared_error: 0.0056 - val_mean_absolute_error: 0.0570\n",
            "Epoch 41/100\n",
            "31/31 [==============================] - 0s 14ms/step - loss: 8.4955e-04 - mean_squared_error: 8.4955e-04 - mean_absolute_error: 0.0220 - val_loss: 0.0055 - val_mean_squared_error: 0.0055 - val_mean_absolute_error: 0.0553\n",
            "Epoch 42/100\n",
            "31/31 [==============================] - 0s 13ms/step - loss: 8.5124e-04 - mean_squared_error: 8.5124e-04 - mean_absolute_error: 0.0219 - val_loss: 0.0056 - val_mean_squared_error: 0.0056 - val_mean_absolute_error: 0.0564\n",
            "Epoch 43/100\n",
            "31/31 [==============================] - 0s 13ms/step - loss: 9.6912e-04 - mean_squared_error: 9.6912e-04 - mean_absolute_error: 0.0237 - val_loss: 0.0059 - val_mean_squared_error: 0.0059 - val_mean_absolute_error: 0.0577\n",
            "Epoch 44/100\n",
            "31/31 [==============================] - 0s 14ms/step - loss: 8.4761e-04 - mean_squared_error: 8.4761e-04 - mean_absolute_error: 0.0218 - val_loss: 0.0053 - val_mean_squared_error: 0.0053 - val_mean_absolute_error: 0.0548\n",
            "Epoch 45/100\n",
            "31/31 [==============================] - 1s 18ms/step - loss: 7.5702e-04 - mean_squared_error: 7.5702e-04 - mean_absolute_error: 0.0208 - val_loss: 0.0057 - val_mean_squared_error: 0.0057 - val_mean_absolute_error: 0.0565\n",
            "Epoch 46/100\n",
            "31/31 [==============================] - 0s 15ms/step - loss: 6.8696e-04 - mean_squared_error: 6.8696e-04 - mean_absolute_error: 0.0201 - val_loss: 0.0053 - val_mean_squared_error: 0.0053 - val_mean_absolute_error: 0.0552\n",
            "Epoch 47/100\n",
            "31/31 [==============================] - 0s 14ms/step - loss: 6.0581e-04 - mean_squared_error: 6.0581e-04 - mean_absolute_error: 0.0183 - val_loss: 0.0059 - val_mean_squared_error: 0.0059 - val_mean_absolute_error: 0.0586\n",
            "Epoch 48/100\n",
            "31/31 [==============================] - 0s 14ms/step - loss: 9.0379e-04 - mean_squared_error: 9.0379e-04 - mean_absolute_error: 0.0228 - val_loss: 0.0054 - val_mean_squared_error: 0.0054 - val_mean_absolute_error: 0.0550\n",
            "Epoch 49/100\n",
            "31/31 [==============================] - 0s 14ms/step - loss: 6.5454e-04 - mean_squared_error: 6.5454e-04 - mean_absolute_error: 0.0190 - val_loss: 0.0053 - val_mean_squared_error: 0.0053 - val_mean_absolute_error: 0.0543\n",
            "Epoch 50/100\n",
            "31/31 [==============================] - 0s 14ms/step - loss: 6.4434e-04 - mean_squared_error: 6.4434e-04 - mean_absolute_error: 0.0190 - val_loss: 0.0055 - val_mean_squared_error: 0.0055 - val_mean_absolute_error: 0.0555\n",
            "Epoch 51/100\n",
            "31/31 [==============================] - 0s 14ms/step - loss: 6.4476e-04 - mean_squared_error: 6.4476e-04 - mean_absolute_error: 0.0192 - val_loss: 0.0053 - val_mean_squared_error: 0.0053 - val_mean_absolute_error: 0.0545\n",
            "Epoch 52/100\n",
            "31/31 [==============================] - 0s 13ms/step - loss: 6.6160e-04 - mean_squared_error: 6.6160e-04 - mean_absolute_error: 0.0194 - val_loss: 0.0056 - val_mean_squared_error: 0.0056 - val_mean_absolute_error: 0.0559\n",
            "Epoch 53/100\n",
            "31/31 [==============================] - 0s 14ms/step - loss: 7.4056e-04 - mean_squared_error: 7.4056e-04 - mean_absolute_error: 0.0204 - val_loss: 0.0055 - val_mean_squared_error: 0.0055 - val_mean_absolute_error: 0.0570\n",
            "Epoch 54/100\n",
            "31/31 [==============================] - 0s 13ms/step - loss: 7.6293e-04 - mean_squared_error: 7.6293e-04 - mean_absolute_error: 0.0210 - val_loss: 0.0053 - val_mean_squared_error: 0.0053 - val_mean_absolute_error: 0.0542\n",
            "Epoch 55/100\n",
            "31/31 [==============================] - 0s 14ms/step - loss: 6.4155e-04 - mean_squared_error: 6.4155e-04 - mean_absolute_error: 0.0187 - val_loss: 0.0056 - val_mean_squared_error: 0.0056 - val_mean_absolute_error: 0.0557\n",
            "Epoch 56/100\n",
            "31/31 [==============================] - 0s 15ms/step - loss: 6.2306e-04 - mean_squared_error: 6.2306e-04 - mean_absolute_error: 0.0190 - val_loss: 0.0052 - val_mean_squared_error: 0.0052 - val_mean_absolute_error: 0.0541\n",
            "Epoch 57/100\n",
            "31/31 [==============================] - 0s 13ms/step - loss: 6.9643e-04 - mean_squared_error: 6.9643e-04 - mean_absolute_error: 0.0191 - val_loss: 0.0065 - val_mean_squared_error: 0.0065 - val_mean_absolute_error: 0.0616\n",
            "Epoch 58/100\n",
            "31/31 [==============================] - 0s 14ms/step - loss: 0.0011 - mean_squared_error: 0.0011 - mean_absolute_error: 0.0252 - val_loss: 0.0053 - val_mean_squared_error: 0.0053 - val_mean_absolute_error: 0.0547\n",
            "Epoch 59/100\n",
            "31/31 [==============================] - 0s 14ms/step - loss: 9.1613e-04 - mean_squared_error: 9.1613e-04 - mean_absolute_error: 0.0231 - val_loss: 0.0058 - val_mean_squared_error: 0.0058 - val_mean_absolute_error: 0.0568\n",
            "Epoch 60/100\n",
            "31/31 [==============================] - 0s 13ms/step - loss: 9.3232e-04 - mean_squared_error: 9.3232e-04 - mean_absolute_error: 0.0237 - val_loss: 0.0054 - val_mean_squared_error: 0.0054 - val_mean_absolute_error: 0.0548\n",
            "Epoch 61/100\n",
            "31/31 [==============================] - 0s 14ms/step - loss: 7.4108e-04 - mean_squared_error: 7.4108e-04 - mean_absolute_error: 0.0199 - val_loss: 0.0053 - val_mean_squared_error: 0.0053 - val_mean_absolute_error: 0.0545\n",
            "Epoch 62/100\n",
            "31/31 [==============================] - 0s 14ms/step - loss: 6.0245e-04 - mean_squared_error: 6.0245e-04 - mean_absolute_error: 0.0181 - val_loss: 0.0065 - val_mean_squared_error: 0.0065 - val_mean_absolute_error: 0.0613\n",
            "Epoch 63/100\n",
            "31/31 [==============================] - 0s 14ms/step - loss: 9.9776e-04 - mean_squared_error: 9.9776e-04 - mean_absolute_error: 0.0239 - val_loss: 0.0057 - val_mean_squared_error: 0.0057 - val_mean_absolute_error: 0.0576\n",
            "Epoch 64/100\n",
            "31/31 [==============================] - 0s 14ms/step - loss: 7.0002e-04 - mean_squared_error: 7.0002e-04 - mean_absolute_error: 0.0204 - val_loss: 0.0054 - val_mean_squared_error: 0.0054 - val_mean_absolute_error: 0.0549\n",
            "Epoch 65/100\n",
            "31/31 [==============================] - 0s 15ms/step - loss: 7.2885e-04 - mean_squared_error: 7.2885e-04 - mean_absolute_error: 0.0206 - val_loss: 0.0054 - val_mean_squared_error: 0.0054 - val_mean_absolute_error: 0.0551\n",
            "Epoch 66/100\n",
            "31/31 [==============================] - 0s 14ms/step - loss: 6.7603e-04 - mean_squared_error: 6.7603e-04 - mean_absolute_error: 0.0196 - val_loss: 0.0070 - val_mean_squared_error: 0.0070 - val_mean_absolute_error: 0.0644\n"
          ],
          "name": "stdout"
        },
        {
          "output_type": "display_data",
          "data": {
            "text/html": [
              "<br/>Waiting for W&B process to finish, PID 6633<br/>Program ended successfully."
            ],
            "text/plain": [
              "<IPython.core.display.HTML object>"
            ]
          },
          "metadata": {
            "tags": []
          }
        },
        {
          "output_type": "display_data",
          "data": {
            "application/vnd.jupyter.widget-view+json": {
              "model_id": "393ac7b5414c4af1a355ffe72b6b45e5",
              "version_minor": 0,
              "version_major": 2
            },
            "text/plain": [
              "VBox(children=(Label(value=' 1.48MB of 1.48MB uploaded (0.00MB deduped)\\r'), FloatProgress(value=1.0, max=1.0)…"
            ]
          },
          "metadata": {
            "tags": []
          }
        },
        {
          "output_type": "display_data",
          "data": {
            "text/html": [
              "Find user logs for this run at: <code>/content/feeder_repo/wandb/run-20210723_142817-eyb7b6ls/logs/debug.log</code>"
            ],
            "text/plain": [
              "<IPython.core.display.HTML object>"
            ]
          },
          "metadata": {
            "tags": []
          }
        },
        {
          "output_type": "display_data",
          "data": {
            "text/html": [
              "Find internal logs for this run at: <code>/content/feeder_repo/wandb/run-20210723_142817-eyb7b6ls/logs/debug-internal.log</code>"
            ],
            "text/plain": [
              "<IPython.core.display.HTML object>"
            ]
          },
          "metadata": {
            "tags": []
          }
        },
        {
          "output_type": "display_data",
          "data": {
            "text/html": [
              "<h3>Run summary:</h3><br/><style>\n",
              "    table.wandb td:nth-child(1) { padding: 0 10px; text-align: right }\n",
              "    </style><table class=\"wandb\">\n",
              "<tr><td>epoch</td><td>65</td></tr><tr><td>loss</td><td>0.00071</td></tr><tr><td>mean_squared_error</td><td>0.00071</td></tr><tr><td>mean_absolute_error</td><td>0.01992</td></tr><tr><td>val_loss</td><td>0.00703</td></tr><tr><td>val_mean_squared_error</td><td>0.00703</td></tr><tr><td>val_mean_absolute_error</td><td>0.06437</td></tr><tr><td>_runtime</td><td>38</td></tr><tr><td>_timestamp</td><td>1627050535</td></tr><tr><td>_step</td><td>65</td></tr><tr><td>best_val_loss</td><td>0.00517</td></tr><tr><td>best_epoch</td><td>55</td></tr></table>"
            ],
            "text/plain": [
              "<IPython.core.display.HTML object>"
            ]
          },
          "metadata": {
            "tags": []
          }
        },
        {
          "output_type": "display_data",
          "data": {
            "text/html": [
              "<h3>Run history:</h3><br/><style>\n",
              "    table.wandb td:nth-child(1) { padding: 0 10px; text-align: right }\n",
              "    </style><table class=\"wandb\">\n",
              "<tr><td>epoch</td><td>▁▁▁▂▂▂▂▂▂▃▃▃▃▃▃▄▄▄▄▄▅▅▅▅▅▅▆▆▆▆▆▆▇▇▇▇▇███</td></tr><tr><td>loss</td><td>█▂▁▁▁▁▁▁▁▁▁▁▁▁▁▁▁▁▁▁▁▁▁▁▁▁▁▁▁▁▁▁▁▁▁▁▁▁▁▁</td></tr><tr><td>mean_squared_error</td><td>█▂▁▁▁▁▁▁▁▁▁▁▁▁▁▁▁▁▁▁▁▁▁▁▁▁▁▁▁▁▁▁▁▁▁▁▁▁▁▁</td></tr><tr><td>mean_absolute_error</td><td>█▃▂▂▂▁▁▁▁▁▁▁▁▁▁▁▁▁▁▁▁▁▁▁▁▁▁▁▁▁▁▁▁▁▁▁▁▁▁▁</td></tr><tr><td>val_loss</td><td>█▆▃▂▂▂▂▂▂▁▁▁▁▁▁▁▁▁▁▁▁▁▁▁▁▁▁▁▁▁▁▁▁▁▁▁▁▁▁▁</td></tr><tr><td>val_mean_squared_error</td><td>█▆▃▂▂▂▂▂▂▁▁▁▁▁▁▁▁▁▁▁▁▁▁▁▁▁▁▁▁▁▁▁▁▁▁▁▁▁▁▁</td></tr><tr><td>val_mean_absolute_error</td><td>█▇▄▃▃▂▂▂▂▂▂▂▂▁▁▁▂▁▁▁▁▁▁▁▁▁▁▁▁▁▁▁▁▁▂▁▁▂▁▂</td></tr><tr><td>_runtime</td><td>▁▁▁▁▂▂▂▂▂▃▃▃▃▃▄▄▄▄▄▄▅▅▅▅▅▅▆▆▆▆▆▇▇▇▇▇████</td></tr><tr><td>_timestamp</td><td>▁▁▁▁▂▂▂▂▂▃▃▃▃▃▄▄▄▄▄▄▅▅▅▅▅▅▆▆▆▆▆▇▇▇▇▇████</td></tr><tr><td>_step</td><td>▁▁▁▂▂▂▂▂▂▃▃▃▃▃▃▄▄▄▄▄▅▅▅▅▅▅▆▆▆▆▆▆▇▇▇▇▇███</td></tr></table><br/>"
            ],
            "text/plain": [
              "<IPython.core.display.HTML object>"
            ]
          },
          "metadata": {
            "tags": []
          }
        },
        {
          "output_type": "display_data",
          "data": {
            "text/html": [
              "Synced 5 W&B file(s), 1 media file(s), 2 artifact file(s) and 2 other file(s)"
            ],
            "text/plain": [
              "<IPython.core.display.HTML object>"
            ]
          },
          "metadata": {
            "tags": []
          }
        },
        {
          "output_type": "display_data",
          "data": {
            "text/html": [
              "\n",
              "                    <br/>Synced <strong style=\"color:#cdcd00\">absurd-sweep-33</strong>: <a href=\"https://wandb.ai/acse-jaq15/ACSE_9_MLP_AE/runs/eyb7b6ls\" target=\"_blank\">https://wandb.ai/acse-jaq15/ACSE_9_MLP_AE/runs/eyb7b6ls</a><br/>\n",
              "                "
            ],
            "text/plain": [
              "<IPython.core.display.HTML object>"
            ]
          },
          "metadata": {
            "tags": []
          }
        },
        {
          "output_type": "stream",
          "text": [
            "\u001b[34m\u001b[1mwandb\u001b[0m: Agent Starting Run: gtgb42oy with config:\n",
            "\u001b[34m\u001b[1mwandb\u001b[0m: \tactivation: selu\n",
            "\u001b[34m\u001b[1mwandb\u001b[0m: \tbatch_size: 64\n",
            "\u001b[34m\u001b[1mwandb\u001b[0m: \tepochs: 50\n",
            "\u001b[34m\u001b[1mwandb\u001b[0m: \tlearning_rate: 0.0005\n",
            "\u001b[34m\u001b[1mwandb\u001b[0m: \toptimizer: rmsprop\n"
          ],
          "name": "stderr"
        },
        {
          "output_type": "display_data",
          "data": {
            "text/html": [
              "\n",
              "                Tracking run with wandb version 0.11.0<br/>\n",
              "                Syncing run <strong style=\"color:#cdcd00\">glowing-sweep-34</strong> to <a href=\"https://wandb.ai\" target=\"_blank\">Weights & Biases</a> <a href=\"https://docs.wandb.com/integrations/jupyter.html\" target=\"_blank\">(Documentation)</a>.<br/>\n",
              "                Project page: <a href=\"https://wandb.ai/acse-jaq15/ACSE_9_MLP_AE\" target=\"_blank\">https://wandb.ai/acse-jaq15/ACSE_9_MLP_AE</a><br/>\n",
              "                Sweep page: <a href=\"https://wandb.ai/acse-jaq15/ACSE_9_MLP_AE/sweeps/ucphf2s3\" target=\"_blank\">https://wandb.ai/acse-jaq15/ACSE_9_MLP_AE/sweeps/ucphf2s3</a><br/>\n",
              "Run page: <a href=\"https://wandb.ai/acse-jaq15/ACSE_9_MLP_AE/runs/gtgb42oy\" target=\"_blank\">https://wandb.ai/acse-jaq15/ACSE_9_MLP_AE/runs/gtgb42oy</a><br/>\n",
              "                Run data is saved locally in <code>/content/feeder_repo/wandb/run-20210723_142911-gtgb42oy</code><br/><br/>\n",
              "            "
            ],
            "text/plain": [
              "<IPython.core.display.HTML object>"
            ]
          },
          "metadata": {
            "tags": []
          }
        },
        {
          "output_type": "stream",
          "text": [
            "Epoch 1/50\n",
            "16/16 [==============================] - 3s 64ms/step - loss: 1.8861 - mean_squared_error: 1.8861 - mean_absolute_error: 1.0310 - val_loss: 0.0399 - val_mean_squared_error: 0.0399 - val_mean_absolute_error: 0.1642\n",
            "Epoch 2/50\n",
            "16/16 [==============================] - 0s 15ms/step - loss: 0.0163 - mean_squared_error: 0.0163 - mean_absolute_error: 0.0962 - val_loss: 0.0295 - val_mean_squared_error: 0.0295 - val_mean_absolute_error: 0.1395\n",
            "Epoch 3/50\n",
            "16/16 [==============================] - 0s 15ms/step - loss: 0.0186 - mean_squared_error: 0.0186 - mean_absolute_error: 0.1039 - val_loss: 0.0668 - val_mean_squared_error: 0.0668 - val_mean_absolute_error: 0.2194\n",
            "Epoch 4/50\n",
            "16/16 [==============================] - 0s 19ms/step - loss: 0.2105 - mean_squared_error: 0.2105 - mean_absolute_error: 0.2829 - val_loss: 0.0366 - val_mean_squared_error: 0.0366 - val_mean_absolute_error: 0.1621\n",
            "Epoch 5/50\n",
            "16/16 [==============================] - 0s 16ms/step - loss: 0.0111 - mean_squared_error: 0.0111 - mean_absolute_error: 0.0756 - val_loss: 0.0170 - val_mean_squared_error: 0.0170 - val_mean_absolute_error: 0.1065\n",
            "Epoch 6/50\n",
            "16/16 [==============================] - 0s 16ms/step - loss: 0.0301 - mean_squared_error: 0.0301 - mean_absolute_error: 0.1099 - val_loss: 0.2944 - val_mean_squared_error: 0.2944 - val_mean_absolute_error: 0.4655\n",
            "Epoch 7/50\n",
            "16/16 [==============================] - 0s 17ms/step - loss: 0.0915 - mean_squared_error: 0.0915 - mean_absolute_error: 0.2173 - val_loss: 0.0174 - val_mean_squared_error: 0.0174 - val_mean_absolute_error: 0.1085\n",
            "Epoch 8/50\n",
            "16/16 [==============================] - 0s 15ms/step - loss: 0.0167 - mean_squared_error: 0.0167 - mean_absolute_error: 0.0928 - val_loss: 0.1102 - val_mean_squared_error: 0.1102 - val_mean_absolute_error: 0.2566\n",
            "Epoch 9/50\n",
            "16/16 [==============================] - 0s 14ms/step - loss: 0.1171 - mean_squared_error: 0.1171 - mean_absolute_error: 0.2612 - val_loss: 0.0157 - val_mean_squared_error: 0.0157 - val_mean_absolute_error: 0.1002\n",
            "Epoch 10/50\n",
            "16/16 [==============================] - 0s 15ms/step - loss: 0.0127 - mean_squared_error: 0.0127 - mean_absolute_error: 0.0825 - val_loss: 0.1625 - val_mean_squared_error: 0.1625 - val_mean_absolute_error: 0.3588\n",
            "Epoch 11/50\n",
            "16/16 [==============================] - 0s 13ms/step - loss: 0.1496 - mean_squared_error: 0.1496 - mean_absolute_error: 0.3049 - val_loss: 0.0178 - val_mean_squared_error: 0.0178 - val_mean_absolute_error: 0.1094\n",
            "Epoch 12/50\n",
            "16/16 [==============================] - 0s 14ms/step - loss: 0.0061 - mean_squared_error: 0.0061 - mean_absolute_error: 0.0556 - val_loss: 0.0172 - val_mean_squared_error: 0.0172 - val_mean_absolute_error: 0.1034\n",
            "Epoch 13/50\n",
            "16/16 [==============================] - 0s 13ms/step - loss: 0.0260 - mean_squared_error: 0.0260 - mean_absolute_error: 0.0908 - val_loss: 0.2561 - val_mean_squared_error: 0.2561 - val_mean_absolute_error: 0.4739\n",
            "Epoch 14/50\n",
            "16/16 [==============================] - 0s 15ms/step - loss: 0.0978 - mean_squared_error: 0.0978 - mean_absolute_error: 0.2102 - val_loss: 0.0178 - val_mean_squared_error: 0.0178 - val_mean_absolute_error: 0.1078\n",
            "Epoch 15/50\n",
            "16/16 [==============================] - 0s 15ms/step - loss: 0.0096 - mean_squared_error: 0.0096 - mean_absolute_error: 0.0734 - val_loss: 0.0136 - val_mean_squared_error: 0.0136 - val_mean_absolute_error: 0.0946\n",
            "Epoch 16/50\n",
            "16/16 [==============================] - 0s 14ms/step - loss: 0.0105 - mean_squared_error: 0.0105 - mean_absolute_error: 0.0722 - val_loss: 1.4599 - val_mean_squared_error: 1.4599 - val_mean_absolute_error: 1.1224\n",
            "Epoch 17/50\n",
            "16/16 [==============================] - 0s 14ms/step - loss: 0.2114 - mean_squared_error: 0.2114 - mean_absolute_error: 0.2318 - val_loss: 0.0128 - val_mean_squared_error: 0.0128 - val_mean_absolute_error: 0.0902\n",
            "Epoch 18/50\n",
            "16/16 [==============================] - 0s 18ms/step - loss: 0.0050 - mean_squared_error: 0.0050 - mean_absolute_error: 0.0529 - val_loss: 0.0370 - val_mean_squared_error: 0.0370 - val_mean_absolute_error: 0.1548\n",
            "Epoch 19/50\n",
            "16/16 [==============================] - 0s 13ms/step - loss: 0.0409 - mean_squared_error: 0.0409 - mean_absolute_error: 0.1546 - val_loss: 0.0276 - val_mean_squared_error: 0.0276 - val_mean_absolute_error: 0.1403\n",
            "Epoch 20/50\n",
            "16/16 [==============================] - 0s 14ms/step - loss: 0.0091 - mean_squared_error: 0.0091 - mean_absolute_error: 0.0746 - val_loss: 0.0233 - val_mean_squared_error: 0.0233 - val_mean_absolute_error: 0.1261\n",
            "Epoch 21/50\n",
            "16/16 [==============================] - 0s 14ms/step - loss: 0.0339 - mean_squared_error: 0.0339 - mean_absolute_error: 0.1243 - val_loss: 0.1021 - val_mean_squared_error: 0.1021 - val_mean_absolute_error: 0.2794\n",
            "Epoch 22/50\n",
            "16/16 [==============================] - 0s 19ms/step - loss: 0.0136 - mean_squared_error: 0.0136 - mean_absolute_error: 0.0805 - val_loss: 0.0173 - val_mean_squared_error: 0.0173 - val_mean_absolute_error: 0.1056\n",
            "Epoch 23/50\n",
            "16/16 [==============================] - 0s 14ms/step - loss: 0.0190 - mean_squared_error: 0.0190 - mean_absolute_error: 0.0911 - val_loss: 0.0847 - val_mean_squared_error: 0.0847 - val_mean_absolute_error: 0.2556\n",
            "Epoch 24/50\n",
            "16/16 [==============================] - 0s 13ms/step - loss: 0.0150 - mean_squared_error: 0.0150 - mean_absolute_error: 0.0848 - val_loss: 0.0143 - val_mean_squared_error: 0.0143 - val_mean_absolute_error: 0.0961\n",
            "Epoch 25/50\n",
            "16/16 [==============================] - 0s 16ms/step - loss: 0.0276 - mean_squared_error: 0.0276 - mean_absolute_error: 0.1162 - val_loss: 0.0115 - val_mean_squared_error: 0.0115 - val_mean_absolute_error: 0.0868\n",
            "Epoch 26/50\n",
            "16/16 [==============================] - 0s 16ms/step - loss: 0.0028 - mean_squared_error: 0.0028 - mean_absolute_error: 0.0387 - val_loss: 0.0183 - val_mean_squared_error: 0.0183 - val_mean_absolute_error: 0.1143\n",
            "Epoch 27/50\n",
            "16/16 [==============================] - 0s 16ms/step - loss: 0.0088 - mean_squared_error: 0.0088 - mean_absolute_error: 0.0683 - val_loss: 0.0268 - val_mean_squared_error: 0.0268 - val_mean_absolute_error: 0.1407\n",
            "Epoch 28/50\n",
            "16/16 [==============================] - 0s 18ms/step - loss: 0.1453 - mean_squared_error: 0.1453 - mean_absolute_error: 0.2628 - val_loss: 0.0151 - val_mean_squared_error: 0.0151 - val_mean_absolute_error: 0.0987\n",
            "Epoch 29/50\n",
            "16/16 [==============================] - 0s 15ms/step - loss: 0.0055 - mean_squared_error: 0.0055 - mean_absolute_error: 0.0524 - val_loss: 0.0290 - val_mean_squared_error: 0.0290 - val_mean_absolute_error: 0.1380\n",
            "Epoch 30/50\n",
            "16/16 [==============================] - 0s 15ms/step - loss: 0.0091 - mean_squared_error: 0.0091 - mean_absolute_error: 0.0709 - val_loss: 0.0137 - val_mean_squared_error: 0.0137 - val_mean_absolute_error: 0.0928\n",
            "Epoch 31/50\n",
            "16/16 [==============================] - 0s 12ms/step - loss: 0.0043 - mean_squared_error: 0.0043 - mean_absolute_error: 0.0477 - val_loss: 0.0179 - val_mean_squared_error: 0.0179 - val_mean_absolute_error: 0.1046\n",
            "Epoch 32/50\n",
            "16/16 [==============================] - 0s 14ms/step - loss: 0.0738 - mean_squared_error: 0.0738 - mean_absolute_error: 0.1408 - val_loss: 0.0159 - val_mean_squared_error: 0.0159 - val_mean_absolute_error: 0.1026\n",
            "Epoch 33/50\n",
            "16/16 [==============================] - 0s 16ms/step - loss: 0.0022 - mean_squared_error: 0.0022 - mean_absolute_error: 0.0365 - val_loss: 0.0311 - val_mean_squared_error: 0.0311 - val_mean_absolute_error: 0.1463\n",
            "Epoch 34/50\n",
            "16/16 [==============================] - 0s 15ms/step - loss: 0.0084 - mean_squared_error: 0.0084 - mean_absolute_error: 0.0707 - val_loss: 0.0242 - val_mean_squared_error: 0.0242 - val_mean_absolute_error: 0.1262\n",
            "Epoch 35/50\n",
            "16/16 [==============================] - 0s 16ms/step - loss: 0.0148 - mean_squared_error: 0.0148 - mean_absolute_error: 0.0894 - val_loss: 0.0126 - val_mean_squared_error: 0.0126 - val_mean_absolute_error: 0.0884\n"
          ],
          "name": "stdout"
        },
        {
          "output_type": "display_data",
          "data": {
            "text/html": [
              "<br/>Waiting for W&B process to finish, PID 6886<br/>Program ended successfully."
            ],
            "text/plain": [
              "<IPython.core.display.HTML object>"
            ]
          },
          "metadata": {
            "tags": []
          }
        },
        {
          "output_type": "display_data",
          "data": {
            "application/vnd.jupyter.widget-view+json": {
              "model_id": "56536bd0113c4787bfc4998a990cea8a",
              "version_minor": 0,
              "version_major": 2
            },
            "text/plain": [
              "VBox(children=(Label(value=' 1.16MB of 1.16MB uploaded (0.00MB deduped)\\r'), FloatProgress(value=1.0, max=1.0)…"
            ]
          },
          "metadata": {
            "tags": []
          }
        },
        {
          "output_type": "display_data",
          "data": {
            "text/html": [
              "Find user logs for this run at: <code>/content/feeder_repo/wandb/run-20210723_142911-gtgb42oy/logs/debug.log</code>"
            ],
            "text/plain": [
              "<IPython.core.display.HTML object>"
            ]
          },
          "metadata": {
            "tags": []
          }
        },
        {
          "output_type": "display_data",
          "data": {
            "text/html": [
              "Find internal logs for this run at: <code>/content/feeder_repo/wandb/run-20210723_142911-gtgb42oy/logs/debug-internal.log</code>"
            ],
            "text/plain": [
              "<IPython.core.display.HTML object>"
            ]
          },
          "metadata": {
            "tags": []
          }
        },
        {
          "output_type": "display_data",
          "data": {
            "text/html": [
              "<h3>Run summary:</h3><br/><style>\n",
              "    table.wandb td:nth-child(1) { padding: 0 10px; text-align: right }\n",
              "    </style><table class=\"wandb\">\n",
              "<tr><td>epoch</td><td>34</td></tr><tr><td>loss</td><td>0.0176</td></tr><tr><td>mean_squared_error</td><td>0.0176</td></tr><tr><td>mean_absolute_error</td><td>0.09524</td></tr><tr><td>val_loss</td><td>0.01265</td></tr><tr><td>val_mean_squared_error</td><td>0.01265</td></tr><tr><td>val_mean_absolute_error</td><td>0.08839</td></tr><tr><td>_runtime</td><td>16</td></tr><tr><td>_timestamp</td><td>1627050567</td></tr><tr><td>_step</td><td>34</td></tr><tr><td>best_val_loss</td><td>0.01154</td></tr><tr><td>best_epoch</td><td>24</td></tr></table>"
            ],
            "text/plain": [
              "<IPython.core.display.HTML object>"
            ]
          },
          "metadata": {
            "tags": []
          }
        },
        {
          "output_type": "display_data",
          "data": {
            "text/html": [
              "<h3>Run history:</h3><br/><style>\n",
              "    table.wandb td:nth-child(1) { padding: 0 10px; text-align: right }\n",
              "    </style><table class=\"wandb\">\n",
              "<tr><td>epoch</td><td>▁▁▁▂▂▂▂▂▃▃▃▃▃▄▄▄▄▅▅▅▅▅▆▆▆▆▆▇▇▇▇▇███</td></tr><tr><td>loss</td><td>█▁▁▃▁▁▁▁▁▁▂▁▂▁▁▁▂▁▁▁▁▁▁▁▁▁▁▂▁▁▁▂▁▁▁</td></tr><tr><td>mean_squared_error</td><td>█▁▁▃▁▁▁▁▁▁▂▁▂▁▁▁▂▁▁▁▁▁▁▁▁▁▁▂▁▁▁▂▁▁▁</td></tr><tr><td>mean_absolute_error</td><td>█▂▂▅▂▃▂▂▃▂▄▁▃▂▁▂▂▁▂▁▂▁▂▁▃▁▁▃▁▁▁▃▁▁▂</td></tr><tr><td>val_loss</td><td>▁▁▁▁▁▂▁▁▁▂▁▁▂▁▁█▁▁▁▁▁▁▁▁▁▁▁▁▁▁▁▁▁▁▁</td></tr><tr><td>val_mean_squared_error</td><td>▁▁▁▁▁▂▁▁▁▂▁▁▂▁▁█▁▁▁▁▁▁▁▁▁▁▁▁▁▁▁▁▁▁▁</td></tr><tr><td>val_mean_absolute_error</td><td>▂▁▂▂▁▄▁▂▁▃▁▁▄▁▁█▁▁▁▁▂▁▂▁▁▁▁▁▁▁▁▁▁▁▁</td></tr><tr><td>_runtime</td><td>▁▁▂▂▂▃▃▃▃▃▃▃▃▄▄▄▄▅▅▅▅▆▆▆▆▆▆▆▇▇▇▇███</td></tr><tr><td>_timestamp</td><td>▁▁▂▂▂▃▃▃▃▃▃▃▃▄▄▄▄▅▅▅▅▆▆▆▆▆▆▆▇▇▇▇███</td></tr><tr><td>_step</td><td>▁▁▁▂▂▂▂▂▃▃▃▃▃▄▄▄▄▅▅▅▅▅▆▆▆▆▆▇▇▇▇▇███</td></tr></table><br/>"
            ],
            "text/plain": [
              "<IPython.core.display.HTML object>"
            ]
          },
          "metadata": {
            "tags": []
          }
        },
        {
          "output_type": "display_data",
          "data": {
            "text/html": [
              "Synced 5 W&B file(s), 1 media file(s), 2 artifact file(s) and 2 other file(s)"
            ],
            "text/plain": [
              "<IPython.core.display.HTML object>"
            ]
          },
          "metadata": {
            "tags": []
          }
        },
        {
          "output_type": "display_data",
          "data": {
            "text/html": [
              "\n",
              "                    <br/>Synced <strong style=\"color:#cdcd00\">glowing-sweep-34</strong>: <a href=\"https://wandb.ai/acse-jaq15/ACSE_9_MLP_AE/runs/gtgb42oy\" target=\"_blank\">https://wandb.ai/acse-jaq15/ACSE_9_MLP_AE/runs/gtgb42oy</a><br/>\n",
              "                "
            ],
            "text/plain": [
              "<IPython.core.display.HTML object>"
            ]
          },
          "metadata": {
            "tags": []
          }
        },
        {
          "output_type": "stream",
          "text": [
            "\u001b[34m\u001b[1mwandb\u001b[0m: Agent Starting Run: 2mb1avxi with config:\n",
            "\u001b[34m\u001b[1mwandb\u001b[0m: \tactivation: relu\n",
            "\u001b[34m\u001b[1mwandb\u001b[0m: \tbatch_size: 64\n",
            "\u001b[34m\u001b[1mwandb\u001b[0m: \tepochs: 50\n",
            "\u001b[34m\u001b[1mwandb\u001b[0m: \tlearning_rate: 0.001\n",
            "\u001b[34m\u001b[1mwandb\u001b[0m: \toptimizer: nadam\n"
          ],
          "name": "stderr"
        },
        {
          "output_type": "display_data",
          "data": {
            "text/html": [
              "\n",
              "                Tracking run with wandb version 0.11.0<br/>\n",
              "                Syncing run <strong style=\"color:#cdcd00\">tough-sweep-35</strong> to <a href=\"https://wandb.ai\" target=\"_blank\">Weights & Biases</a> <a href=\"https://docs.wandb.com/integrations/jupyter.html\" target=\"_blank\">(Documentation)</a>.<br/>\n",
              "                Project page: <a href=\"https://wandb.ai/acse-jaq15/ACSE_9_MLP_AE\" target=\"_blank\">https://wandb.ai/acse-jaq15/ACSE_9_MLP_AE</a><br/>\n",
              "                Sweep page: <a href=\"https://wandb.ai/acse-jaq15/ACSE_9_MLP_AE/sweeps/ucphf2s3\" target=\"_blank\">https://wandb.ai/acse-jaq15/ACSE_9_MLP_AE/sweeps/ucphf2s3</a><br/>\n",
              "Run page: <a href=\"https://wandb.ai/acse-jaq15/ACSE_9_MLP_AE/runs/2mb1avxi\" target=\"_blank\">https://wandb.ai/acse-jaq15/ACSE_9_MLP_AE/runs/2mb1avxi</a><br/>\n",
              "                Run data is saved locally in <code>/content/feeder_repo/wandb/run-20210723_142935-2mb1avxi</code><br/><br/>\n",
              "            "
            ],
            "text/plain": [
              "<IPython.core.display.HTML object>"
            ]
          },
          "metadata": {
            "tags": []
          }
        },
        {
          "output_type": "stream",
          "text": [
            "Epoch 1/50\n",
            "16/16 [==============================] - 4s 68ms/step - loss: 0.0738 - mean_squared_error: 0.0738 - mean_absolute_error: 0.2101 - val_loss: 0.0399 - val_mean_squared_error: 0.0399 - val_mean_absolute_error: 0.1698\n",
            "Epoch 2/50\n",
            "16/16 [==============================] - 0s 16ms/step - loss: 0.0119 - mean_squared_error: 0.0119 - mean_absolute_error: 0.0813 - val_loss: 0.0274 - val_mean_squared_error: 0.0274 - val_mean_absolute_error: 0.1371\n",
            "Epoch 3/50\n",
            "16/16 [==============================] - 0s 18ms/step - loss: 0.0065 - mean_squared_error: 0.0065 - mean_absolute_error: 0.0601 - val_loss: 0.0228 - val_mean_squared_error: 0.0228 - val_mean_absolute_error: 0.1193\n",
            "Epoch 4/50\n",
            "16/16 [==============================] - 0s 21ms/step - loss: 0.0051 - mean_squared_error: 0.0051 - mean_absolute_error: 0.0550 - val_loss: 0.0157 - val_mean_squared_error: 0.0157 - val_mean_absolute_error: 0.1030\n",
            "Epoch 5/50\n",
            "16/16 [==============================] - 0s 18ms/step - loss: 0.0052 - mean_squared_error: 0.0052 - mean_absolute_error: 0.0545 - val_loss: 0.0141 - val_mean_squared_error: 0.0141 - val_mean_absolute_error: 0.0975\n",
            "Epoch 6/50\n",
            "16/16 [==============================] - 0s 19ms/step - loss: 0.0047 - mean_squared_error: 0.0047 - mean_absolute_error: 0.0515 - val_loss: 0.0138 - val_mean_squared_error: 0.0138 - val_mean_absolute_error: 0.0958\n",
            "Epoch 7/50\n",
            "16/16 [==============================] - 0s 17ms/step - loss: 0.0031 - mean_squared_error: 0.0031 - mean_absolute_error: 0.0417 - val_loss: 0.0157 - val_mean_squared_error: 0.0157 - val_mean_absolute_error: 0.0996\n",
            "Epoch 8/50\n",
            "16/16 [==============================] - 0s 21ms/step - loss: 0.0025 - mean_squared_error: 0.0025 - mean_absolute_error: 0.0384 - val_loss: 0.0128 - val_mean_squared_error: 0.0128 - val_mean_absolute_error: 0.0887\n",
            "Epoch 9/50\n",
            "16/16 [==============================] - 0s 19ms/step - loss: 0.0051 - mean_squared_error: 0.0051 - mean_absolute_error: 0.0552 - val_loss: 0.0122 - val_mean_squared_error: 0.0122 - val_mean_absolute_error: 0.0891\n",
            "Epoch 10/50\n",
            "16/16 [==============================] - 0s 16ms/step - loss: 0.0035 - mean_squared_error: 0.0035 - mean_absolute_error: 0.0423 - val_loss: 0.0115 - val_mean_squared_error: 0.0115 - val_mean_absolute_error: 0.0854\n",
            "Epoch 11/50\n",
            "16/16 [==============================] - 0s 17ms/step - loss: 0.0017 - mean_squared_error: 0.0017 - mean_absolute_error: 0.0311 - val_loss: 0.0158 - val_mean_squared_error: 0.0158 - val_mean_absolute_error: 0.1036\n",
            "Epoch 12/50\n",
            "16/16 [==============================] - 0s 18ms/step - loss: 0.0048 - mean_squared_error: 0.0048 - mean_absolute_error: 0.0540 - val_loss: 0.0113 - val_mean_squared_error: 0.0113 - val_mean_absolute_error: 0.0825\n",
            "Epoch 13/50\n",
            "16/16 [==============================] - 0s 17ms/step - loss: 0.0015 - mean_squared_error: 0.0015 - mean_absolute_error: 0.0289 - val_loss: 0.0107 - val_mean_squared_error: 0.0107 - val_mean_absolute_error: 0.0787\n",
            "Epoch 14/50\n",
            "16/16 [==============================] - 0s 17ms/step - loss: 0.0015 - mean_squared_error: 0.0015 - mean_absolute_error: 0.0286 - val_loss: 0.0099 - val_mean_squared_error: 0.0099 - val_mean_absolute_error: 0.0783\n",
            "Epoch 15/50\n",
            "16/16 [==============================] - 0s 17ms/step - loss: 0.0022 - mean_squared_error: 0.0022 - mean_absolute_error: 0.0348 - val_loss: 0.0103 - val_mean_squared_error: 0.0103 - val_mean_absolute_error: 0.0803\n",
            "Epoch 16/50\n",
            "16/16 [==============================] - 0s 18ms/step - loss: 0.0020 - mean_squared_error: 0.0020 - mean_absolute_error: 0.0337 - val_loss: 0.0098 - val_mean_squared_error: 0.0098 - val_mean_absolute_error: 0.0784\n",
            "Epoch 17/50\n",
            "16/16 [==============================] - 0s 17ms/step - loss: 0.0018 - mean_squared_error: 0.0018 - mean_absolute_error: 0.0328 - val_loss: 0.0123 - val_mean_squared_error: 0.0123 - val_mean_absolute_error: 0.0904\n",
            "Epoch 18/50\n",
            "16/16 [==============================] - 0s 16ms/step - loss: 0.0021 - mean_squared_error: 0.0021 - mean_absolute_error: 0.0352 - val_loss: 0.0084 - val_mean_squared_error: 0.0084 - val_mean_absolute_error: 0.0698\n",
            "Epoch 19/50\n",
            "16/16 [==============================] - 0s 19ms/step - loss: 0.0015 - mean_squared_error: 0.0015 - mean_absolute_error: 0.0283 - val_loss: 0.0093 - val_mean_squared_error: 0.0093 - val_mean_absolute_error: 0.0735\n",
            "Epoch 20/50\n",
            "16/16 [==============================] - 0s 20ms/step - loss: 0.0026 - mean_squared_error: 0.0026 - mean_absolute_error: 0.0394 - val_loss: 0.0095 - val_mean_squared_error: 0.0095 - val_mean_absolute_error: 0.0745\n",
            "Epoch 21/50\n",
            "16/16 [==============================] - 0s 18ms/step - loss: 0.0018 - mean_squared_error: 0.0018 - mean_absolute_error: 0.0318 - val_loss: 0.0121 - val_mean_squared_error: 0.0121 - val_mean_absolute_error: 0.0878\n",
            "Epoch 22/50\n",
            "16/16 [==============================] - 0s 20ms/step - loss: 0.0043 - mean_squared_error: 0.0043 - mean_absolute_error: 0.0516 - val_loss: 0.0100 - val_mean_squared_error: 0.0100 - val_mean_absolute_error: 0.0794\n",
            "Epoch 23/50\n",
            "16/16 [==============================] - 0s 18ms/step - loss: 0.0014 - mean_squared_error: 0.0014 - mean_absolute_error: 0.0290 - val_loss: 0.0130 - val_mean_squared_error: 0.0130 - val_mean_absolute_error: 0.0914\n",
            "Epoch 24/50\n",
            "16/16 [==============================] - 0s 20ms/step - loss: 0.0021 - mean_squared_error: 0.0021 - mean_absolute_error: 0.0346 - val_loss: 0.0114 - val_mean_squared_error: 0.0114 - val_mean_absolute_error: 0.0852\n",
            "Epoch 25/50\n",
            "16/16 [==============================] - 0s 19ms/step - loss: 0.0025 - mean_squared_error: 0.0025 - mean_absolute_error: 0.0396 - val_loss: 0.0083 - val_mean_squared_error: 0.0083 - val_mean_absolute_error: 0.0702\n",
            "Epoch 26/50\n",
            "16/16 [==============================] - 0s 17ms/step - loss: 0.0012 - mean_squared_error: 0.0012 - mean_absolute_error: 0.0263 - val_loss: 0.0085 - val_mean_squared_error: 0.0085 - val_mean_absolute_error: 0.0719\n",
            "Epoch 27/50\n",
            "16/16 [==============================] - 0s 17ms/step - loss: 0.0018 - mean_squared_error: 0.0018 - mean_absolute_error: 0.0318 - val_loss: 0.0098 - val_mean_squared_error: 0.0098 - val_mean_absolute_error: 0.0768\n",
            "Epoch 28/50\n",
            "16/16 [==============================] - 0s 19ms/step - loss: 0.0017 - mean_squared_error: 0.0017 - mean_absolute_error: 0.0321 - val_loss: 0.0134 - val_mean_squared_error: 0.0134 - val_mean_absolute_error: 0.0953\n",
            "Epoch 29/50\n",
            "16/16 [==============================] - 0s 18ms/step - loss: 0.0036 - mean_squared_error: 0.0036 - mean_absolute_error: 0.0487 - val_loss: 0.0089 - val_mean_squared_error: 0.0089 - val_mean_absolute_error: 0.0729\n",
            "Epoch 30/50\n",
            "16/16 [==============================] - 0s 17ms/step - loss: 0.0016 - mean_squared_error: 0.0016 - mean_absolute_error: 0.0289 - val_loss: 0.0080 - val_mean_squared_error: 0.0080 - val_mean_absolute_error: 0.0703\n",
            "Epoch 31/50\n",
            "16/16 [==============================] - 0s 17ms/step - loss: 9.8451e-04 - mean_squared_error: 9.8451e-04 - mean_absolute_error: 0.0238 - val_loss: 0.0163 - val_mean_squared_error: 0.0163 - val_mean_absolute_error: 0.1017\n",
            "Epoch 32/50\n",
            "16/16 [==============================] - 0s 18ms/step - loss: 0.0039 - mean_squared_error: 0.0039 - mean_absolute_error: 0.0473 - val_loss: 0.0073 - val_mean_squared_error: 0.0073 - val_mean_absolute_error: 0.0656\n",
            "Epoch 33/50\n",
            "16/16 [==============================] - 0s 21ms/step - loss: 0.0013 - mean_squared_error: 0.0013 - mean_absolute_error: 0.0262 - val_loss: 0.0073 - val_mean_squared_error: 0.0073 - val_mean_absolute_error: 0.0651\n",
            "Epoch 34/50\n",
            "16/16 [==============================] - 0s 19ms/step - loss: 0.0015 - mean_squared_error: 0.0015 - mean_absolute_error: 0.0281 - val_loss: 0.0075 - val_mean_squared_error: 0.0075 - val_mean_absolute_error: 0.0666\n",
            "Epoch 35/50\n",
            "16/16 [==============================] - 0s 17ms/step - loss: 0.0015 - mean_squared_error: 0.0015 - mean_absolute_error: 0.0286 - val_loss: 0.0073 - val_mean_squared_error: 0.0073 - val_mean_absolute_error: 0.0660\n",
            "Epoch 36/50\n",
            "16/16 [==============================] - 0s 18ms/step - loss: 0.0010 - mean_squared_error: 0.0010 - mean_absolute_error: 0.0238 - val_loss: 0.0111 - val_mean_squared_error: 0.0111 - val_mean_absolute_error: 0.0834\n",
            "Epoch 37/50\n",
            "16/16 [==============================] - 0s 17ms/step - loss: 0.0032 - mean_squared_error: 0.0032 - mean_absolute_error: 0.0454 - val_loss: 0.0072 - val_mean_squared_error: 0.0072 - val_mean_absolute_error: 0.0652\n",
            "Epoch 38/50\n",
            "16/16 [==============================] - 0s 20ms/step - loss: 0.0011 - mean_squared_error: 0.0011 - mean_absolute_error: 0.0243 - val_loss: 0.0084 - val_mean_squared_error: 0.0084 - val_mean_absolute_error: 0.0721\n",
            "Epoch 39/50\n",
            "16/16 [==============================] - 0s 17ms/step - loss: 0.0012 - mean_squared_error: 0.0012 - mean_absolute_error: 0.0260 - val_loss: 0.0077 - val_mean_squared_error: 0.0077 - val_mean_absolute_error: 0.0675\n",
            "Epoch 40/50\n",
            "16/16 [==============================] - 0s 18ms/step - loss: 0.0020 - mean_squared_error: 0.0020 - mean_absolute_error: 0.0350 - val_loss: 0.0072 - val_mean_squared_error: 0.0072 - val_mean_absolute_error: 0.0654\n",
            "Epoch 41/50\n",
            "16/16 [==============================] - 0s 18ms/step - loss: 0.0014 - mean_squared_error: 0.0014 - mean_absolute_error: 0.0289 - val_loss: 0.0073 - val_mean_squared_error: 0.0073 - val_mean_absolute_error: 0.0664\n",
            "Epoch 42/50\n",
            "16/16 [==============================] - 0s 20ms/step - loss: 0.0010 - mean_squared_error: 0.0010 - mean_absolute_error: 0.0240 - val_loss: 0.0081 - val_mean_squared_error: 0.0081 - val_mean_absolute_error: 0.0708\n",
            "Epoch 43/50\n",
            "16/16 [==============================] - 0s 17ms/step - loss: 0.0012 - mean_squared_error: 0.0012 - mean_absolute_error: 0.0268 - val_loss: 0.0254 - val_mean_squared_error: 0.0254 - val_mean_absolute_error: 0.1341\n",
            "Epoch 44/50\n",
            "16/16 [==============================] - 0s 18ms/step - loss: 0.0039 - mean_squared_error: 0.0039 - mean_absolute_error: 0.0475 - val_loss: 0.0069 - val_mean_squared_error: 0.0069 - val_mean_absolute_error: 0.0634\n",
            "Epoch 45/50\n",
            "16/16 [==============================] - 0s 18ms/step - loss: 0.0012 - mean_squared_error: 0.0012 - mean_absolute_error: 0.0256 - val_loss: 0.0093 - val_mean_squared_error: 0.0093 - val_mean_absolute_error: 0.0762\n",
            "Epoch 46/50\n",
            "16/16 [==============================] - 0s 19ms/step - loss: 0.0011 - mean_squared_error: 0.0011 - mean_absolute_error: 0.0258 - val_loss: 0.0073 - val_mean_squared_error: 0.0073 - val_mean_absolute_error: 0.0645\n",
            "Epoch 47/50\n",
            "16/16 [==============================] - 0s 18ms/step - loss: 9.4221e-04 - mean_squared_error: 9.4221e-04 - mean_absolute_error: 0.0231 - val_loss: 0.0066 - val_mean_squared_error: 0.0066 - val_mean_absolute_error: 0.0633\n",
            "Epoch 48/50\n",
            "16/16 [==============================] - 0s 18ms/step - loss: 0.0012 - mean_squared_error: 0.0012 - mean_absolute_error: 0.0255 - val_loss: 0.0064 - val_mean_squared_error: 0.0064 - val_mean_absolute_error: 0.0615\n",
            "Epoch 49/50\n",
            "16/16 [==============================] - 0s 16ms/step - loss: 7.0597e-04 - mean_squared_error: 7.0597e-04 - mean_absolute_error: 0.0198 - val_loss: 0.0065 - val_mean_squared_error: 0.0065 - val_mean_absolute_error: 0.0624\n",
            "Epoch 50/50\n",
            "16/16 [==============================] - 0s 18ms/step - loss: 7.6029e-04 - mean_squared_error: 7.6029e-04 - mean_absolute_error: 0.0205 - val_loss: 0.0065 - val_mean_squared_error: 0.0065 - val_mean_absolute_error: 0.0630\n"
          ],
          "name": "stdout"
        },
        {
          "output_type": "display_data",
          "data": {
            "text/html": [
              "<br/>Waiting for W&B process to finish, PID 7046<br/>Program ended successfully."
            ],
            "text/plain": [
              "<IPython.core.display.HTML object>"
            ]
          },
          "metadata": {
            "tags": []
          }
        },
        {
          "output_type": "display_data",
          "data": {
            "application/vnd.jupyter.widget-view+json": {
              "model_id": "5ff7b3d190db4854941eb0c45984caf5",
              "version_minor": 0,
              "version_major": 2
            },
            "text/plain": [
              "VBox(children=(Label(value=' 1.53MB of 1.53MB uploaded (0.00MB deduped)\\r'), FloatProgress(value=1.0, max=1.0)…"
            ]
          },
          "metadata": {
            "tags": []
          }
        },
        {
          "output_type": "display_data",
          "data": {
            "text/html": [
              "Find user logs for this run at: <code>/content/feeder_repo/wandb/run-20210723_142935-2mb1avxi/logs/debug.log</code>"
            ],
            "text/plain": [
              "<IPython.core.display.HTML object>"
            ]
          },
          "metadata": {
            "tags": []
          }
        },
        {
          "output_type": "display_data",
          "data": {
            "text/html": [
              "Find internal logs for this run at: <code>/content/feeder_repo/wandb/run-20210723_142935-2mb1avxi/logs/debug-internal.log</code>"
            ],
            "text/plain": [
              "<IPython.core.display.HTML object>"
            ]
          },
          "metadata": {
            "tags": []
          }
        },
        {
          "output_type": "display_data",
          "data": {
            "text/html": [
              "<h3>Run summary:</h3><br/><style>\n",
              "    table.wandb td:nth-child(1) { padding: 0 10px; text-align: right }\n",
              "    </style><table class=\"wandb\">\n",
              "<tr><td>epoch</td><td>49</td></tr><tr><td>loss</td><td>0.00072</td></tr><tr><td>mean_squared_error</td><td>0.00072</td></tr><tr><td>mean_absolute_error</td><td>0.02023</td></tr><tr><td>val_loss</td><td>0.00652</td></tr><tr><td>val_mean_squared_error</td><td>0.00652</td></tr><tr><td>val_mean_absolute_error</td><td>0.06299</td></tr><tr><td>_runtime</td><td>26</td></tr><tr><td>_timestamp</td><td>1627050601</td></tr><tr><td>_step</td><td>49</td></tr><tr><td>best_val_loss</td><td>0.00641</td></tr><tr><td>best_epoch</td><td>47</td></tr></table>"
            ],
            "text/plain": [
              "<IPython.core.display.HTML object>"
            ]
          },
          "metadata": {
            "tags": []
          }
        },
        {
          "output_type": "display_data",
          "data": {
            "text/html": [
              "<h3>Run history:</h3><br/><style>\n",
              "    table.wandb td:nth-child(1) { padding: 0 10px; text-align: right }\n",
              "    </style><table class=\"wandb\">\n",
              "<tr><td>epoch</td><td>▁▁▁▁▂▂▂▂▂▃▃▃▃▃▃▄▄▄▄▄▅▅▅▅▅▅▆▆▆▆▆▆▇▇▇▇▇███</td></tr><tr><td>loss</td><td>█▃▂▂▂▁▁▂▁▂▁▁▁▁▁▁▁▂▁▁▁▁▁▁▁▁▁▁▁▁▁▁▁▁▁▁▁▁▁▁</td></tr><tr><td>mean_squared_error</td><td>█▃▂▂▂▁▁▂▁▂▁▁▁▁▁▁▁▂▁▁▁▁▁▁▁▁▁▁▁▁▁▁▁▁▁▁▁▁▁▁</td></tr><tr><td>mean_absolute_error</td><td>█▄▃▃▃▂▂▃▂▃▁▂▂▂▁▂▂▃▂▂▁▂▂▂▁▂▁▂▁▂▁▁▂▁▂▂▁▁▂▁</td></tr><tr><td>val_loss</td><td>█▅▄▃▃▃▂▂▃▂▂▂▂▂▁▂▂▂▂▂▁▂▂▂▃▁▁▁▂▁▁▁▁▁▅▁▁▁▁▁</td></tr><tr><td>val_mean_squared_error</td><td>█▅▄▃▃▃▂▂▃▂▂▂▂▂▁▂▂▂▂▂▁▂▂▂▃▁▁▁▂▁▁▁▁▁▅▁▁▁▁▁</td></tr><tr><td>val_mean_absolute_error</td><td>█▆▅▄▃▃▃▃▄▂▂▂▂▃▂▂▃▂▃▃▂▂▃▂▄▁▁▁▂▁▂▁▁▂▆▁▁▁▁▁</td></tr><tr><td>_runtime</td><td>▁▁▁▁▂▂▂▂▃▃▃▃▃▃▃▄▄▄▄▄▅▅▅▅▆▆▆▆▆▆▆▆▇▇▇▇████</td></tr><tr><td>_timestamp</td><td>▁▁▁▁▂▂▂▂▃▃▃▃▃▃▃▄▄▄▄▄▅▅▅▅▆▆▆▆▆▆▆▆▇▇▇▇████</td></tr><tr><td>_step</td><td>▁▁▁▁▂▂▂▂▂▃▃▃▃▃▃▄▄▄▄▄▅▅▅▅▅▅▆▆▆▆▆▆▇▇▇▇▇███</td></tr></table><br/>"
            ],
            "text/plain": [
              "<IPython.core.display.HTML object>"
            ]
          },
          "metadata": {
            "tags": []
          }
        },
        {
          "output_type": "display_data",
          "data": {
            "text/html": [
              "Synced 5 W&B file(s), 1 media file(s), 2 artifact file(s) and 2 other file(s)"
            ],
            "text/plain": [
              "<IPython.core.display.HTML object>"
            ]
          },
          "metadata": {
            "tags": []
          }
        },
        {
          "output_type": "display_data",
          "data": {
            "text/html": [
              "\n",
              "                    <br/>Synced <strong style=\"color:#cdcd00\">tough-sweep-35</strong>: <a href=\"https://wandb.ai/acse-jaq15/ACSE_9_MLP_AE/runs/2mb1avxi\" target=\"_blank\">https://wandb.ai/acse-jaq15/ACSE_9_MLP_AE/runs/2mb1avxi</a><br/>\n",
              "                "
            ],
            "text/plain": [
              "<IPython.core.display.HTML object>"
            ]
          },
          "metadata": {
            "tags": []
          }
        },
        {
          "output_type": "stream",
          "text": [
            "\u001b[34m\u001b[1mwandb\u001b[0m: Agent Starting Run: k2k5ojpg with config:\n",
            "\u001b[34m\u001b[1mwandb\u001b[0m: \tactivation: selu\n",
            "\u001b[34m\u001b[1mwandb\u001b[0m: \tbatch_size: 64\n",
            "\u001b[34m\u001b[1mwandb\u001b[0m: \tepochs: 50\n",
            "\u001b[34m\u001b[1mwandb\u001b[0m: \tlearning_rate: 0.005\n",
            "\u001b[34m\u001b[1mwandb\u001b[0m: \toptimizer: nadam\n"
          ],
          "name": "stderr"
        },
        {
          "output_type": "display_data",
          "data": {
            "text/html": [
              "\n",
              "                Tracking run with wandb version 0.11.0<br/>\n",
              "                Syncing run <strong style=\"color:#cdcd00\">fine-sweep-36</strong> to <a href=\"https://wandb.ai\" target=\"_blank\">Weights & Biases</a> <a href=\"https://docs.wandb.com/integrations/jupyter.html\" target=\"_blank\">(Documentation)</a>.<br/>\n",
              "                Project page: <a href=\"https://wandb.ai/acse-jaq15/ACSE_9_MLP_AE\" target=\"_blank\">https://wandb.ai/acse-jaq15/ACSE_9_MLP_AE</a><br/>\n",
              "                Sweep page: <a href=\"https://wandb.ai/acse-jaq15/ACSE_9_MLP_AE/sweeps/ucphf2s3\" target=\"_blank\">https://wandb.ai/acse-jaq15/ACSE_9_MLP_AE/sweeps/ucphf2s3</a><br/>\n",
              "Run page: <a href=\"https://wandb.ai/acse-jaq15/ACSE_9_MLP_AE/runs/k2k5ojpg\" target=\"_blank\">https://wandb.ai/acse-jaq15/ACSE_9_MLP_AE/runs/k2k5ojpg</a><br/>\n",
              "                Run data is saved locally in <code>/content/feeder_repo/wandb/run-20210723_143009-k2k5ojpg</code><br/><br/>\n",
              "            "
            ],
            "text/plain": [
              "<IPython.core.display.HTML object>"
            ]
          },
          "metadata": {
            "tags": []
          }
        },
        {
          "output_type": "stream",
          "text": [
            "Epoch 1/50\n",
            "16/16 [==============================] - 4s 65ms/step - loss: 121.8942 - mean_squared_error: 121.8942 - mean_absolute_error: 7.8975 - val_loss: 85.4604 - val_mean_squared_error: 85.4604 - val_mean_absolute_error: 9.2141\n",
            "Epoch 2/50\n",
            "16/16 [==============================] - 0s 17ms/step - loss: 51.7742 - mean_squared_error: 51.7742 - mean_absolute_error: 6.1160 - val_loss: 25.1967 - val_mean_squared_error: 25.1967 - val_mean_absolute_error: 4.4944\n",
            "Epoch 3/50\n",
            "16/16 [==============================] - 0s 16ms/step - loss: 36.0067 - mean_squared_error: 36.0067 - mean_absolute_error: 4.7108 - val_loss: 9.0799 - val_mean_squared_error: 9.0799 - val_mean_absolute_error: 2.8407\n",
            "Epoch 4/50\n",
            "16/16 [==============================] - 0s 18ms/step - loss: 21.6189 - mean_squared_error: 21.6189 - mean_absolute_error: 3.9264 - val_loss: 34.5647 - val_mean_squared_error: 34.5647 - val_mean_absolute_error: 5.3642\n",
            "Epoch 5/50\n",
            "16/16 [==============================] - 0s 17ms/step - loss: 31.5467 - mean_squared_error: 31.5467 - mean_absolute_error: 4.5650 - val_loss: 40.0939 - val_mean_squared_error: 40.0939 - val_mean_absolute_error: 6.3223\n",
            "Epoch 6/50\n",
            "16/16 [==============================] - 0s 17ms/step - loss: 33.4293 - mean_squared_error: 33.4293 - mean_absolute_error: 4.8005 - val_loss: 37.7387 - val_mean_squared_error: 37.7387 - val_mean_absolute_error: 6.1014\n",
            "Epoch 7/50\n",
            "16/16 [==============================] - 0s 16ms/step - loss: 34.1887 - mean_squared_error: 34.1887 - mean_absolute_error: 4.9093 - val_loss: 0.9127 - val_mean_squared_error: 0.9127 - val_mean_absolute_error: 0.8559\n",
            "Epoch 8/50\n",
            "16/16 [==============================] - 0s 17ms/step - loss: 30.8520 - mean_squared_error: 30.8520 - mean_absolute_error: 4.4322 - val_loss: 69.7300 - val_mean_squared_error: 69.7300 - val_mean_absolute_error: 7.9632\n",
            "Epoch 9/50\n",
            "16/16 [==============================] - 0s 18ms/step - loss: 37.3897 - mean_squared_error: 37.3897 - mean_absolute_error: 4.9532 - val_loss: 13.9501 - val_mean_squared_error: 13.9501 - val_mean_absolute_error: 3.7043\n",
            "Epoch 10/50\n",
            "16/16 [==============================] - 0s 18ms/step - loss: 25.6962 - mean_squared_error: 25.6962 - mean_absolute_error: 4.1814 - val_loss: 4.4031 - val_mean_squared_error: 4.4031 - val_mean_absolute_error: 1.9444\n",
            "Epoch 11/50\n",
            "16/16 [==============================] - 0s 16ms/step - loss: 24.1735 - mean_squared_error: 24.1735 - mean_absolute_error: 3.7128 - val_loss: 2.6103 - val_mean_squared_error: 2.6103 - val_mean_absolute_error: 1.3880\n",
            "Epoch 12/50\n",
            "16/16 [==============================] - 0s 18ms/step - loss: 17.5717 - mean_squared_error: 17.5717 - mean_absolute_error: 3.6679 - val_loss: 2.7734 - val_mean_squared_error: 2.7734 - val_mean_absolute_error: 1.3136\n",
            "Epoch 13/50\n",
            "16/16 [==============================] - 0s 16ms/step - loss: 14.4567 - mean_squared_error: 14.4567 - mean_absolute_error: 2.8937 - val_loss: 10.9867 - val_mean_squared_error: 10.9867 - val_mean_absolute_error: 3.3092\n",
            "Epoch 14/50\n",
            "16/16 [==============================] - 0s 18ms/step - loss: 7.6892 - mean_squared_error: 7.6892 - mean_absolute_error: 2.4187 - val_loss: 0.8303 - val_mean_squared_error: 0.8303 - val_mean_absolute_error: 0.7528\n",
            "Epoch 15/50\n",
            "16/16 [==============================] - 0s 19ms/step - loss: 6.8963 - mean_squared_error: 6.8963 - mean_absolute_error: 2.1877 - val_loss: 21.7097 - val_mean_squared_error: 21.7097 - val_mean_absolute_error: 4.2594\n",
            "Epoch 16/50\n",
            "16/16 [==============================] - 0s 17ms/step - loss: 20.1636 - mean_squared_error: 20.1636 - mean_absolute_error: 3.6862 - val_loss: 12.8715 - val_mean_squared_error: 12.8715 - val_mean_absolute_error: 3.5822\n",
            "Epoch 17/50\n",
            "16/16 [==============================] - 0s 17ms/step - loss: 10.5157 - mean_squared_error: 10.5157 - mean_absolute_error: 2.8388 - val_loss: 8.9607 - val_mean_squared_error: 8.9607 - val_mean_absolute_error: 2.8510\n",
            "Epoch 18/50\n",
            "16/16 [==============================] - 0s 18ms/step - loss: 8.1917 - mean_squared_error: 8.1917 - mean_absolute_error: 2.3470 - val_loss: 0.3318 - val_mean_squared_error: 0.3318 - val_mean_absolute_error: 0.5334\n",
            "Epoch 19/50\n",
            "16/16 [==============================] - 0s 17ms/step - loss: 4.5657 - mean_squared_error: 4.5657 - mean_absolute_error: 1.6685 - val_loss: 1.7990 - val_mean_squared_error: 1.7990 - val_mean_absolute_error: 1.3214\n",
            "Epoch 20/50\n",
            "16/16 [==============================] - 0s 16ms/step - loss: 3.6002 - mean_squared_error: 3.6002 - mean_absolute_error: 1.5027 - val_loss: 26.6894 - val_mean_squared_error: 26.6894 - val_mean_absolute_error: 4.3807\n",
            "Epoch 21/50\n",
            "16/16 [==============================] - 0s 18ms/step - loss: 12.1906 - mean_squared_error: 12.1906 - mean_absolute_error: 2.5538 - val_loss: 1.6682 - val_mean_squared_error: 1.6682 - val_mean_absolute_error: 1.2606\n",
            "Epoch 22/50\n",
            "16/16 [==============================] - 0s 16ms/step - loss: 3.9958 - mean_squared_error: 3.9958 - mean_absolute_error: 1.4652 - val_loss: 1.5400 - val_mean_squared_error: 1.5400 - val_mean_absolute_error: 1.2176\n",
            "Epoch 23/50\n",
            "16/16 [==============================] - 0s 17ms/step - loss: 3.7634 - mean_squared_error: 3.7634 - mean_absolute_error: 1.6423 - val_loss: 7.9209 - val_mean_squared_error: 7.9209 - val_mean_absolute_error: 2.8041\n",
            "Epoch 24/50\n",
            "16/16 [==============================] - 0s 20ms/step - loss: 3.4551 - mean_squared_error: 3.4551 - mean_absolute_error: 1.3997 - val_loss: 2.1466 - val_mean_squared_error: 2.1466 - val_mean_absolute_error: 1.4430\n",
            "Epoch 25/50\n",
            "16/16 [==============================] - 0s 17ms/step - loss: 1.4156 - mean_squared_error: 1.4156 - mean_absolute_error: 1.0401 - val_loss: 1.3589 - val_mean_squared_error: 1.3589 - val_mean_absolute_error: 1.1472\n",
            "Epoch 26/50\n",
            "16/16 [==============================] - 0s 19ms/step - loss: 1.7488 - mean_squared_error: 1.7488 - mean_absolute_error: 1.0904 - val_loss: 2.5298 - val_mean_squared_error: 2.5298 - val_mean_absolute_error: 1.5665\n",
            "Epoch 27/50\n",
            "16/16 [==============================] - 0s 17ms/step - loss: 2.0961 - mean_squared_error: 2.0961 - mean_absolute_error: 1.0761 - val_loss: 3.8109 - val_mean_squared_error: 3.8109 - val_mean_absolute_error: 1.9431\n",
            "Epoch 28/50\n",
            "16/16 [==============================] - 0s 17ms/step - loss: 1.9865 - mean_squared_error: 1.9865 - mean_absolute_error: 1.1501 - val_loss: 1.1861 - val_mean_squared_error: 1.1861 - val_mean_absolute_error: 1.0570\n"
          ],
          "name": "stdout"
        },
        {
          "output_type": "display_data",
          "data": {
            "text/html": [
              "<br/>Waiting for W&B process to finish, PID 7251<br/>Program ended successfully."
            ],
            "text/plain": [
              "<IPython.core.display.HTML object>"
            ]
          },
          "metadata": {
            "tags": []
          }
        },
        {
          "output_type": "display_data",
          "data": {
            "application/vnd.jupyter.widget-view+json": {
              "model_id": "9f86bbeb531748cb847b83302f5c3b85",
              "version_minor": 0,
              "version_major": 2
            },
            "text/plain": [
              "VBox(children=(Label(value=' 1.55MB of 1.55MB uploaded (0.00MB deduped)\\r'), FloatProgress(value=1.0, max=1.0)…"
            ]
          },
          "metadata": {
            "tags": []
          }
        },
        {
          "output_type": "display_data",
          "data": {
            "text/html": [
              "Find user logs for this run at: <code>/content/feeder_repo/wandb/run-20210723_143009-k2k5ojpg/logs/debug.log</code>"
            ],
            "text/plain": [
              "<IPython.core.display.HTML object>"
            ]
          },
          "metadata": {
            "tags": []
          }
        },
        {
          "output_type": "display_data",
          "data": {
            "text/html": [
              "Find internal logs for this run at: <code>/content/feeder_repo/wandb/run-20210723_143009-k2k5ojpg/logs/debug-internal.log</code>"
            ],
            "text/plain": [
              "<IPython.core.display.HTML object>"
            ]
          },
          "metadata": {
            "tags": []
          }
        },
        {
          "output_type": "display_data",
          "data": {
            "text/html": [
              "<h3>Run summary:</h3><br/><style>\n",
              "    table.wandb td:nth-child(1) { padding: 0 10px; text-align: right }\n",
              "    </style><table class=\"wandb\">\n",
              "<tr><td>epoch</td><td>27</td></tr><tr><td>loss</td><td>1.42442</td></tr><tr><td>mean_squared_error</td><td>1.42442</td></tr><tr><td>mean_absolute_error</td><td>0.96671</td></tr><tr><td>val_loss</td><td>1.18608</td></tr><tr><td>val_mean_squared_error</td><td>1.18608</td></tr><tr><td>val_mean_absolute_error</td><td>1.05698</td></tr><tr><td>_runtime</td><td>17</td></tr><tr><td>_timestamp</td><td>1627050626</td></tr><tr><td>_step</td><td>27</td></tr><tr><td>best_val_loss</td><td>0.33176</td></tr><tr><td>best_epoch</td><td>17</td></tr></table>"
            ],
            "text/plain": [
              "<IPython.core.display.HTML object>"
            ]
          },
          "metadata": {
            "tags": []
          }
        },
        {
          "output_type": "display_data",
          "data": {
            "text/html": [
              "<h3>Run history:</h3><br/><style>\n",
              "    table.wandb td:nth-child(1) { padding: 0 10px; text-align: right }\n",
              "    </style><table class=\"wandb\">\n",
              "<tr><td>epoch</td><td>▁▁▂▂▂▂▃▃▃▃▄▄▄▄▅▅▅▅▆▆▆▆▇▇▇▇██</td></tr><tr><td>loss</td><td>█▄▃▂▃▃▃▃▄▃▂▂▂▂▁▂▂▂▁▁▁▁▁▁▁▁▁▁</td></tr><tr><td>mean_squared_error</td><td>█▄▃▂▃▃▃▃▄▃▂▂▂▂▁▂▂▂▁▁▁▁▁▁▁▁▁▁</td></tr><tr><td>mean_absolute_error</td><td>█▅▄▄▅▅▅▅▅▅▄▃▃▃▂▃▃▃▂▂▂▁▁▁▁▁▁▁</td></tr><tr><td>val_loss</td><td>█▃▂▄▄▄▁▇▂▁▁▁▂▁▃▂▂▁▁▃▁▁▂▁▁▁▁▁</td></tr><tr><td>val_mean_squared_error</td><td>█▃▂▄▄▄▁▇▂▁▁▁▂▁▃▂▂▁▁▃▁▁▂▁▁▁▁▁</td></tr><tr><td>val_mean_absolute_error</td><td>█▄▃▅▆▅▁▇▄▂▂▂▃▁▄▃▃▁▂▄▂▂▃▂▁▂▂▁</td></tr><tr><td>_runtime</td><td>▁▁▁▂▂▂▃▃▃▃▄▄▄▅▅▅▅▅▅▆▆▆▆▇▇▇██</td></tr><tr><td>_timestamp</td><td>▁▁▁▂▂▂▃▃▃▃▄▄▄▅▅▅▅▅▅▆▆▆▆▇▇▇██</td></tr><tr><td>_step</td><td>▁▁▂▂▂▂▃▃▃▃▄▄▄▄▅▅▅▅▆▆▆▆▇▇▇▇██</td></tr></table><br/>"
            ],
            "text/plain": [
              "<IPython.core.display.HTML object>"
            ]
          },
          "metadata": {
            "tags": []
          }
        },
        {
          "output_type": "display_data",
          "data": {
            "text/html": [
              "Synced 5 W&B file(s), 1 media file(s), 2 artifact file(s) and 2 other file(s)"
            ],
            "text/plain": [
              "<IPython.core.display.HTML object>"
            ]
          },
          "metadata": {
            "tags": []
          }
        },
        {
          "output_type": "display_data",
          "data": {
            "text/html": [
              "\n",
              "                    <br/>Synced <strong style=\"color:#cdcd00\">fine-sweep-36</strong>: <a href=\"https://wandb.ai/acse-jaq15/ACSE_9_MLP_AE/runs/k2k5ojpg\" target=\"_blank\">https://wandb.ai/acse-jaq15/ACSE_9_MLP_AE/runs/k2k5ojpg</a><br/>\n",
              "                "
            ],
            "text/plain": [
              "<IPython.core.display.HTML object>"
            ]
          },
          "metadata": {
            "tags": []
          }
        },
        {
          "output_type": "stream",
          "text": [
            "\u001b[34m\u001b[1mwandb\u001b[0m: Agent Starting Run: nhgzwsi5 with config:\n",
            "\u001b[34m\u001b[1mwandb\u001b[0m: \tactivation: relu\n",
            "\u001b[34m\u001b[1mwandb\u001b[0m: \tbatch_size: 128\n",
            "\u001b[34m\u001b[1mwandb\u001b[0m: \tepochs: 100\n",
            "\u001b[34m\u001b[1mwandb\u001b[0m: \tlearning_rate: 0.001\n",
            "\u001b[34m\u001b[1mwandb\u001b[0m: \toptimizer: nadam\n"
          ],
          "name": "stderr"
        },
        {
          "output_type": "display_data",
          "data": {
            "text/html": [
              "\n",
              "                Tracking run with wandb version 0.11.0<br/>\n",
              "                Syncing run <strong style=\"color:#cdcd00\">serene-sweep-37</strong> to <a href=\"https://wandb.ai\" target=\"_blank\">Weights & Biases</a> <a href=\"https://docs.wandb.com/integrations/jupyter.html\" target=\"_blank\">(Documentation)</a>.<br/>\n",
              "                Project page: <a href=\"https://wandb.ai/acse-jaq15/ACSE_9_MLP_AE\" target=\"_blank\">https://wandb.ai/acse-jaq15/ACSE_9_MLP_AE</a><br/>\n",
              "                Sweep page: <a href=\"https://wandb.ai/acse-jaq15/ACSE_9_MLP_AE/sweeps/ucphf2s3\" target=\"_blank\">https://wandb.ai/acse-jaq15/ACSE_9_MLP_AE/sweeps/ucphf2s3</a><br/>\n",
              "Run page: <a href=\"https://wandb.ai/acse-jaq15/ACSE_9_MLP_AE/runs/nhgzwsi5\" target=\"_blank\">https://wandb.ai/acse-jaq15/ACSE_9_MLP_AE/runs/nhgzwsi5</a><br/>\n",
              "                Run data is saved locally in <code>/content/feeder_repo/wandb/run-20210723_143036-nhgzwsi5</code><br/><br/>\n",
              "            "
            ],
            "text/plain": [
              "<IPython.core.display.HTML object>"
            ]
          },
          "metadata": {
            "tags": []
          }
        },
        {
          "output_type": "stream",
          "text": [
            "Epoch 1/100\n"
          ],
          "name": "stdout"
        },
        {
          "output_type": "stream",
          "text": [
            "\u001b[34m\u001b[1mwandb\u001b[0m: Ctrl + C detected. Stopping sweep.\n"
          ],
          "name": "stderr"
        }
      ]
    },
    {
      "cell_type": "markdown",
      "metadata": {
        "id": "gFTu29dbi18i"
      },
      "source": [
        "# Setting up the best model\n",
        "Using the best values from the hyperparamter search with wandb, the most optimal model configuration is used."
      ]
    },
    {
      "cell_type": "code",
      "metadata": {
        "id": "NwsO8cDJPMdj"
      },
      "source": [
        "# picking the best values\n",
        "best_config = {\n",
        "    'epochs': 50,\n",
        "    'batch_size': 64,\n",
        "    'learning_rate': 0.0005,\n",
        "    'optimizer': 'adam',\n",
        "    'activation': 'selu'\n",
        "}"
      ],
      "execution_count": 17,
      "outputs": []
    },
    {
      "cell_type": "code",
      "metadata": {
        "colab": {
          "base_uri": "https://localhost:8080/"
        },
        "id": "iryNMYspuU2I",
        "outputId": "94a4c39a-e52c-47a1-80af-7d500c84c75c"
      },
      "source": [
        "# clearing the settings on the keras backend\n",
        "keras.backend.clear_session()\n",
        "\n",
        "# setting keras model to sequential mode\n",
        "model = Sequential()\n",
        "\n",
        "# layer 1\n",
        "model.add(Dense(256, activation=best_config['activation'], input_shape=(window_len, 1)))\n",
        "# layer 2\n",
        "model.add(Dense(128, activation=best_config['activation']))\n",
        "# layer 3\n",
        "model.add(Dense(64, activation=best_config['activation']))\n",
        "# layer 4\n",
        "model.add(Dense(32, activation=best_config['activation']))\n",
        "# layer 5\n",
        "model.add(Flatten())\n",
        "# layer 6\n",
        "model.add(RepeatVector(window_len))\n",
        "# layer 7\n",
        "model.add(Dense(32, activation=best_config['activation']))\n",
        "# layer 8\n",
        "model.add(Dense(64, activation=best_config['activation']))\n",
        "# layer 9\n",
        "model.add(Dense(128, activation=best_config['activation']))\n",
        "# layer 10\n",
        "model.add(Flatten())\n",
        "# layer 11\n",
        "model.add(Dense(1))\n",
        "\n",
        "# defining the optimiser\n",
        "if best_config['optimizer'] == 'sgd':\n",
        "  optimizer = SGD(learning_rate=best_config['learning_rate'], decay=1e-5, momentum=0.9, nesterov=True)\n",
        "elif best_config['optimizer'] == 'rmsprop':\n",
        "  optimizer = RMSprop(learning_rate=best_config['learning_rate'], decay=1e-5)\n",
        "elif best_config['optimizer'] == 'adam':\n",
        "  optimizer = Adam(learning_rate=best_config['learning_rate'], beta_1=0.9, beta_2=0.999, clipnorm=1.0)\n",
        "elif best_config['optimizer'] == 'nadam':\n",
        "  optimizer = Nadam(learning_rate=best_config['learning_rate'], beta_1=0.9, beta_2=0.999, clipnorm=1.0)\n",
        "\n",
        "# compile the model\n",
        "model.compile(optimizer, loss='mean_squared_error')\n",
        "\n",
        "# counting the number of trainable parameters\n",
        "trainable_count = count_params(model.trainable_weights)\n",
        "print('Total number of trainable parameters: ', trainable_count)"
      ],
      "execution_count": 18,
      "outputs": [
        {
          "output_type": "stream",
          "text": [
            "Total number of trainable parameters:  88769\n"
          ],
          "name": "stdout"
        }
      ]
    },
    {
      "cell_type": "code",
      "metadata": {
        "colab": {
          "base_uri": "https://localhost:8080/"
        },
        "id": "5UG8j_4r7kSu",
        "outputId": "b14e3165-d576-40d5-a61b-3aa95e5e9ddd"
      },
      "source": [
        "model.summary()"
      ],
      "execution_count": 19,
      "outputs": [
        {
          "output_type": "stream",
          "text": [
            "Model: \"sequential\"\n",
            "_________________________________________________________________\n",
            "Layer (type)                 Output Shape              Param #   \n",
            "=================================================================\n",
            "dense (Dense)                (None, 30, 256)           512       \n",
            "_________________________________________________________________\n",
            "dense_1 (Dense)              (None, 30, 128)           32896     \n",
            "_________________________________________________________________\n",
            "dense_2 (Dense)              (None, 30, 64)            8256      \n",
            "_________________________________________________________________\n",
            "dense_3 (Dense)              (None, 30, 32)            2080      \n",
            "_________________________________________________________________\n",
            "flatten (Flatten)            (None, 960)               0         \n",
            "_________________________________________________________________\n",
            "repeat_vector (RepeatVector) (None, 30, 960)           0         \n",
            "_________________________________________________________________\n",
            "dense_4 (Dense)              (None, 30, 32)            30752     \n",
            "_________________________________________________________________\n",
            "dense_5 (Dense)              (None, 30, 64)            2112      \n",
            "_________________________________________________________________\n",
            "dense_6 (Dense)              (None, 30, 128)           8320      \n",
            "_________________________________________________________________\n",
            "flatten_1 (Flatten)          (None, 3840)              0         \n",
            "_________________________________________________________________\n",
            "dense_7 (Dense)              (None, 1)                 3841      \n",
            "=================================================================\n",
            "Total params: 88,769\n",
            "Trainable params: 88,769\n",
            "Non-trainable params: 0\n",
            "_________________________________________________________________\n"
          ],
          "name": "stdout"
        }
      ]
    },
    {
      "cell_type": "code",
      "metadata": {
        "colab": {
          "base_uri": "https://localhost:8080/"
        },
        "id": "W3v718GcE39o",
        "outputId": "3acc310f-d9be-48fb-a305-b97dadf43cfc"
      },
      "source": [
        "# fitting the model to the training dataset\n",
        "model.fit(X_train, y_train, epochs=best_config['epochs'], batch_size=best_config['batch_size'])"
      ],
      "execution_count": 20,
      "outputs": [
        {
          "output_type": "stream",
          "text": [
            "Epoch 1/50\n",
            "20/20 [==============================] - 2s 7ms/step - loss: 0.3995\n",
            "Epoch 2/50\n",
            "20/20 [==============================] - 0s 7ms/step - loss: 0.0072\n",
            "Epoch 3/50\n",
            "20/20 [==============================] - 0s 7ms/step - loss: 0.0045\n",
            "Epoch 4/50\n",
            "20/20 [==============================] - 0s 7ms/step - loss: 0.0024\n",
            "Epoch 5/50\n",
            "20/20 [==============================] - 0s 7ms/step - loss: 0.0015\n",
            "Epoch 6/50\n",
            "20/20 [==============================] - 0s 7ms/step - loss: 0.0017\n",
            "Epoch 7/50\n",
            "20/20 [==============================] - 0s 7ms/step - loss: 0.0011\n",
            "Epoch 8/50\n",
            "20/20 [==============================] - 0s 7ms/step - loss: 0.0013\n",
            "Epoch 9/50\n",
            "20/20 [==============================] - 0s 8ms/step - loss: 9.0841e-04\n",
            "Epoch 10/50\n",
            "20/20 [==============================] - 0s 8ms/step - loss: 8.9005e-04\n",
            "Epoch 11/50\n",
            "20/20 [==============================] - 0s 8ms/step - loss: 0.0014\n",
            "Epoch 12/50\n",
            "20/20 [==============================] - 0s 7ms/step - loss: 9.0757e-04\n",
            "Epoch 13/50\n",
            "20/20 [==============================] - 0s 7ms/step - loss: 0.0018\n",
            "Epoch 14/50\n",
            "20/20 [==============================] - 0s 7ms/step - loss: 0.0011\n",
            "Epoch 15/50\n",
            "20/20 [==============================] - 0s 8ms/step - loss: 7.3249e-04\n",
            "Epoch 16/50\n",
            "20/20 [==============================] - 0s 8ms/step - loss: 8.2722e-04\n",
            "Epoch 17/50\n",
            "20/20 [==============================] - 0s 7ms/step - loss: 0.0014\n",
            "Epoch 18/50\n",
            "20/20 [==============================] - 0s 7ms/step - loss: 8.9781e-04\n",
            "Epoch 19/50\n",
            "20/20 [==============================] - 0s 7ms/step - loss: 0.0013\n",
            "Epoch 20/50\n",
            "20/20 [==============================] - 0s 7ms/step - loss: 0.0010\n",
            "Epoch 21/50\n",
            "20/20 [==============================] - 0s 7ms/step - loss: 6.8070e-04\n",
            "Epoch 22/50\n",
            "20/20 [==============================] - 0s 7ms/step - loss: 8.8721e-04\n",
            "Epoch 23/50\n",
            "20/20 [==============================] - 0s 7ms/step - loss: 7.7246e-04\n",
            "Epoch 24/50\n",
            "20/20 [==============================] - 0s 7ms/step - loss: 7.3928e-04\n",
            "Epoch 25/50\n",
            "20/20 [==============================] - 0s 7ms/step - loss: 9.8795e-04\n",
            "Epoch 26/50\n",
            "20/20 [==============================] - 0s 7ms/step - loss: 8.1081e-04\n",
            "Epoch 27/50\n",
            "20/20 [==============================] - 0s 7ms/step - loss: 7.2518e-04\n",
            "Epoch 28/50\n",
            "20/20 [==============================] - 0s 7ms/step - loss: 7.3630e-04\n",
            "Epoch 29/50\n",
            "20/20 [==============================] - 0s 8ms/step - loss: 7.7797e-04\n",
            "Epoch 30/50\n",
            "20/20 [==============================] - 0s 7ms/step - loss: 7.2292e-04\n",
            "Epoch 31/50\n",
            "20/20 [==============================] - 0s 7ms/step - loss: 7.6218e-04\n",
            "Epoch 32/50\n",
            "20/20 [==============================] - 0s 8ms/step - loss: 7.4609e-04\n",
            "Epoch 33/50\n",
            "20/20 [==============================] - 0s 7ms/step - loss: 6.8273e-04\n",
            "Epoch 34/50\n",
            "20/20 [==============================] - 0s 8ms/step - loss: 0.0012\n",
            "Epoch 35/50\n",
            "20/20 [==============================] - 0s 7ms/step - loss: 0.0011\n",
            "Epoch 36/50\n",
            "20/20 [==============================] - 0s 8ms/step - loss: 0.0018\n",
            "Epoch 37/50\n",
            "20/20 [==============================] - 0s 7ms/step - loss: 7.5412e-04\n",
            "Epoch 38/50\n",
            "20/20 [==============================] - 0s 7ms/step - loss: 6.8030e-04\n",
            "Epoch 39/50\n",
            "20/20 [==============================] - 0s 7ms/step - loss: 6.4813e-04\n",
            "Epoch 40/50\n",
            "20/20 [==============================] - 0s 8ms/step - loss: 6.6069e-04\n",
            "Epoch 41/50\n",
            "20/20 [==============================] - 0s 7ms/step - loss: 7.8331e-04\n",
            "Epoch 42/50\n",
            "20/20 [==============================] - 0s 8ms/step - loss: 0.0015\n",
            "Epoch 43/50\n",
            "20/20 [==============================] - 0s 8ms/step - loss: 0.0011\n",
            "Epoch 44/50\n",
            "20/20 [==============================] - 0s 7ms/step - loss: 0.0014\n",
            "Epoch 45/50\n",
            "20/20 [==============================] - 0s 7ms/step - loss: 0.0011\n",
            "Epoch 46/50\n",
            "20/20 [==============================] - 0s 7ms/step - loss: 7.3099e-04\n",
            "Epoch 47/50\n",
            "20/20 [==============================] - 0s 8ms/step - loss: 0.0011\n",
            "Epoch 48/50\n",
            "20/20 [==============================] - 0s 8ms/step - loss: 6.8998e-04\n",
            "Epoch 49/50\n",
            "20/20 [==============================] - 0s 7ms/step - loss: 7.5876e-04\n",
            "Epoch 50/50\n",
            "20/20 [==============================] - 0s 7ms/step - loss: 6.8237e-04\n"
          ],
          "name": "stdout"
        },
        {
          "output_type": "execute_result",
          "data": {
            "text/plain": [
              "<keras.callbacks.History at 0x7ffac04f35d0>"
            ]
          },
          "metadata": {
            "tags": []
          },
          "execution_count": 20
        }
      ]
    },
    {
      "cell_type": "code",
      "metadata": {
        "id": "rTXJN51l9Y-F"
      },
      "source": [
        "# creating an instance of Baseline_Model class using X_test\n",
        "base_model = Base_Model(X_test, window_len)\n",
        "# calling predict_y method\n",
        "base_model.predict_y(in_data.test_len - window_len)\n",
        "\n",
        "# using the model to predict y from X_test\n",
        "y_pred = model.predict(X_test)\n",
        "# assigning y_dummy variable to .y_pred class attribute\n",
        "y_dummy = base_model.y_pred\n",
        "\n",
        "# calling class method extract_real_price to generate unnormalised prices\n",
        "in_data.extract_real_prices(y_pred, y_dummy)\n",
        "\n",
        "# assinging y_true variable\n",
        "y_true = in_data.y_true\n",
        "\n",
        "# assigning actual_price, predicted_price and dummy_price\n",
        "actual_price = in_data.actual_price\n",
        "predicted_price = in_data.predicted_price\n",
        "dummy_price = in_data.dummy_price"
      ],
      "execution_count": 21,
      "outputs": []
    },
    {
      "cell_type": "markdown",
      "metadata": {
        "id": "H-D-XHyRjFMp"
      },
      "source": [
        "# Plotting the prediction results and getting errors\n",
        "The cells below plot the actual, predicted and dummy prices using the Security_Plotter class before finally saving the model and plot."
      ]
    },
    {
      "cell_type": "code",
      "metadata": {
        "colab": {
          "base_uri": "https://localhost:8080/",
          "height": 395
        },
        "id": "PgjvooOD3jq3",
        "outputId": "d7dc63ce-741e-4876-8a7d-cc1f77976c7c"
      },
      "source": [
        "plotter = Security_Plotter(in_data, actual_price, predicted_price,\n",
        "                            dummy_price, in_data.train_len, window_len, in_str, model_str)\n",
        "\n",
        "plotter.single_plot()"
      ],
      "execution_count": 22,
      "outputs": [
        {
          "output_type": "display_data",
          "data": {
            "image/png": "[encoded data removed]",
            "text/plain": [
              "<Figure size 864x432 with 1 Axes>"
            ]
          },
          "metadata": {
            "tags": [],
            "needs_background": "light"
          }
        }
      ]
    },
    {
      "cell_type": "code",
      "metadata": {
        "colab": {
          "base_uri": "https://localhost:8080/",
          "height": 1000
        },
        "id": "AxaH7IUCxSXw",
        "outputId": "cbb8c8b6-0a65-405a-efac-7becc608ea63"
      },
      "source": [
        "plot_model(model, show_shapes=True, expand_nested=True)"
      ],
      "execution_count": 23,
      "outputs": [
        {
          "output_type": "execute_result",
          "data": {
            "image/png": "[encoded data removed]",
            "text/plain": [
              "<IPython.core.display.Image object>"
            ]
          },
          "metadata": {
            "tags": []
          },
          "execution_count": 23
        }
      ]
    },
    {
      "cell_type": "code",
      "metadata": {
        "colab": {
          "base_uri": "https://localhost:8080/"
        },
        "id": "bFfQGfb79SJS",
        "outputId": "184eeaf6-e382-4ca9-918f-610f152c6cac"
      },
      "source": [
        "# calculating mean squared error\n",
        "mse = mean_squared_error(y_true, y_pred)\n",
        "d_mse = mean_squared_error(y_true, y_dummy)\n",
        "\n",
        "# calculating root mean squared error\n",
        "rmse = mean_squared_error(y_true, y_pred, squared=False)\n",
        "d_rmse = mean_squared_error(y_true, y_dummy, squared=False)\n",
        "\n",
        "# calculating mean absolute error\n",
        "mae = mean_absolute_error(y_true, y_pred)\n",
        "d_mae = mean_absolute_error(y_true, y_dummy)\n",
        "\n",
        "print('MSE: ', mse)\n",
        "print('RMSE: ', rmse)\n",
        "print('MAE: ', mae)\n",
        "print('Dummy MSE: ', d_mse)\n",
        "print('Dummy RMSE: ', d_rmse)\n",
        "print('Dummy MAE: ', d_mae)"
      ],
      "execution_count": 24,
      "outputs": [
        {
          "output_type": "stream",
          "text": [
            "MSE:  0.0035708881121975303\n",
            "RMSE:  0.059756908489291265\n",
            "MAE:  0.04311835992679529\n",
            "Dummy MSE:  0.041446864361575214\n",
            "Dummy RMSE:  0.20358502980714277\n",
            "Dummy MAE:  0.15160472972972977\n"
          ],
          "name": "stdout"
        }
      ]
    },
    {
      "cell_type": "code",
      "metadata": {
        "colab": {
          "base_uri": "https://localhost:8080/"
        },
        "id": "4YttzJHHU4-s",
        "outputId": "d3415330-dc0e-4845-fb7e-fada9df98e51"
      },
      "source": [
        "# creating a string to save the model based on model name\n",
        "save_path = '/content/gdrive/My Drive/models/'+model_str+'_'+in_str+'/'\n",
        "# mounting google drive for easy storage of model\n",
        "from google.colab import drive\n",
        "# mounting the drive\n",
        "drive.mount('/content/gdrive/')\n",
        "# making the relevant directory to store the model\n",
        "os.mkdir(save_path)\n",
        "# saving the model\n",
        "keras.models.save_model(model, save_path)\n",
        "# saving the model graph\n",
        "model_graph = plot_model(model, to_file=save_path+model_str+'_'+in_str+'_graph_.png', show_shapes=True, expand_nested=True)\n",
        "# saving the matplotlib plot\n",
        "plotter.fig.savefig(save_path+model_str+'_'+in_str+'_plot.png', bbox_inches='tight')\n",
        "# saving the error metrics as a text file\n",
        "error_file = open(save_path+model_str+'_'+in_str+'_metrics.txt', 'w+')\n",
        "error_file.write('MSE: '+str(mse)+'\\n'+'RMSE: '+str(rmse)+'\\n'+'MAE: '+str(mae)+'\\n'+\n",
        "                 'Dummy MSE: '+str(d_mse)+'\\n'+'Dummy RMSE: '+str(d_rmse)+'\\n'+'Dummy MAE: '+str(d_mae))\n",
        "error_file.close()"
      ],
      "execution_count": 25,
      "outputs": [
        {
          "output_type": "stream",
          "text": [
            "Mounted at /content/gdrive/\n",
            "INFO:tensorflow:Assets written to: /content/gdrive/My Drive/models/MLP_AE_Corn/assets\n"
          ],
          "name": "stdout"
        }
      ]
    }
  ]
}