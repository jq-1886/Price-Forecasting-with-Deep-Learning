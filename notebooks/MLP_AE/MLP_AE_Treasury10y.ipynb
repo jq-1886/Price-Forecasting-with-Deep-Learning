{
  "nbformat": 4,
  "nbformat_minor": 0,
  "metadata": {
    "accelerator": "GPU",
    "colab": {
      "name": "MLP_AE_Treasury10y.ipynb",
      "provenance": [],
      "collapsed_sections": [],
      "authorship_tag": "ABX9TyMjXpV5XKkJHQbuBo/uQxSC",
      "include_colab_link": true
    },
    "kernelspec": {
      "display_name": "Python 3",
      "name": "python3"
    },
    "language_info": {
      "name": "python"
    },
    "widgets": {
      "application/vnd.jupyter.widget-state+json": {
        "a983ea43792b4e7099794b2a49859ff2": {
          "model_module": "@jupyter-widgets/controls",
          "model_name": "VBoxModel",
          "state": {
            "_view_name": "VBoxView",
            "_dom_classes": [],
            "_model_name": "VBoxModel",
            "_view_module": "@jupyter-widgets/controls",
            "_model_module_version": "1.5.0",
            "_view_count": null,
            "_view_module_version": "1.5.0",
            "box_style": "",
            "layout": "IPY_MODEL_637aeba8bc2f463bba53d93b11042b75",
            "_model_module": "@jupyter-widgets/controls",
            "children": [
              "IPY_MODEL_bbb881cd3e2f46a19cd887584df5eef7",
              "IPY_MODEL_22b8493ce909426a87f4c232160cc0cb"
            ]
          }
        },
        "637aeba8bc2f463bba53d93b11042b75": {
          "model_module": "@jupyter-widgets/base",
          "model_name": "LayoutModel",
          "state": {
            "_view_name": "LayoutView",
            "grid_template_rows": null,
            "right": null,
            "justify_content": null,
            "_view_module": "@jupyter-widgets/base",
            "overflow": null,
            "_model_module_version": "1.2.0",
            "_view_count": null,
            "flex_flow": null,
            "width": null,
            "min_width": null,
            "border": null,
            "align_items": null,
            "bottom": null,
            "_model_module": "@jupyter-widgets/base",
            "top": null,
            "grid_column": null,
            "overflow_y": null,
            "overflow_x": null,
            "grid_auto_flow": null,
            "grid_area": null,
            "grid_template_columns": null,
            "flex": null,
            "_model_name": "LayoutModel",
            "justify_items": null,
            "grid_row": null,
            "max_height": null,
            "align_content": null,
            "visibility": null,
            "align_self": null,
            "height": null,
            "min_height": null,
            "padding": null,
            "grid_auto_rows": null,
            "grid_gap": null,
            "max_width": null,
            "order": null,
            "_view_module_version": "1.2.0",
            "grid_template_areas": null,
            "object_position": null,
            "object_fit": null,
            "grid_auto_columns": null,
            "margin": null,
            "display": null,
            "left": null
          }
        },
        "bbb881cd3e2f46a19cd887584df5eef7": {
          "model_module": "@jupyter-widgets/controls",
          "model_name": "LabelModel",
          "state": {
            "_view_name": "LabelView",
            "style": "IPY_MODEL_3ff7b7e6da4043bc9e1058df55d78d75",
            "_dom_classes": [],
            "description": "",
            "_model_name": "LabelModel",
            "placeholder": "​",
            "_view_module": "@jupyter-widgets/controls",
            "_model_module_version": "1.5.0",
            "value": " 1.37MB of 1.37MB uploaded (0.00MB deduped)\r",
            "_view_count": null,
            "_view_module_version": "1.5.0",
            "description_tooltip": null,
            "_model_module": "@jupyter-widgets/controls",
            "layout": "IPY_MODEL_555a45840e044199a5e77ce75c1f9cee"
          }
        },
        "22b8493ce909426a87f4c232160cc0cb": {
          "model_module": "@jupyter-widgets/controls",
          "model_name": "FloatProgressModel",
          "state": {
            "_view_name": "ProgressView",
            "style": "IPY_MODEL_71b050a839d24611a888fb828c3563dc",
            "_dom_classes": [],
            "description": "",
            "_model_name": "FloatProgressModel",
            "bar_style": "",
            "max": 1,
            "_view_module": "@jupyter-widgets/controls",
            "_model_module_version": "1.5.0",
            "value": 1,
            "_view_count": null,
            "_view_module_version": "1.5.0",
            "orientation": "horizontal",
            "min": 0,
            "description_tooltip": null,
            "_model_module": "@jupyter-widgets/controls",
            "layout": "IPY_MODEL_8948f4a3514b4247b1ddc049922171ee"
          }
        },
        "3ff7b7e6da4043bc9e1058df55d78d75": {
          "model_module": "@jupyter-widgets/controls",
          "model_name": "DescriptionStyleModel",
          "state": {
            "_view_name": "StyleView",
            "_model_name": "DescriptionStyleModel",
            "description_width": "",
            "_view_module": "@jupyter-widgets/base",
            "_model_module_version": "1.5.0",
            "_view_count": null,
            "_view_module_version": "1.2.0",
            "_model_module": "@jupyter-widgets/controls"
          }
        },
        "555a45840e044199a5e77ce75c1f9cee": {
          "model_module": "@jupyter-widgets/base",
          "model_name": "LayoutModel",
          "state": {
            "_view_name": "LayoutView",
            "grid_template_rows": null,
            "right": null,
            "justify_content": null,
            "_view_module": "@jupyter-widgets/base",
            "overflow": null,
            "_model_module_version": "1.2.0",
            "_view_count": null,
            "flex_flow": null,
            "width": null,
            "min_width": null,
            "border": null,
            "align_items": null,
            "bottom": null,
            "_model_module": "@jupyter-widgets/base",
            "top": null,
            "grid_column": null,
            "overflow_y": null,
            "overflow_x": null,
            "grid_auto_flow": null,
            "grid_area": null,
            "grid_template_columns": null,
            "flex": null,
            "_model_name": "LayoutModel",
            "justify_items": null,
            "grid_row": null,
            "max_height": null,
            "align_content": null,
            "visibility": null,
            "align_self": null,
            "height": null,
            "min_height": null,
            "padding": null,
            "grid_auto_rows": null,
            "grid_gap": null,
            "max_width": null,
            "order": null,
            "_view_module_version": "1.2.0",
            "grid_template_areas": null,
            "object_position": null,
            "object_fit": null,
            "grid_auto_columns": null,
            "margin": null,
            "display": null,
            "left": null
          }
        },
        "71b050a839d24611a888fb828c3563dc": {
          "model_module": "@jupyter-widgets/controls",
          "model_name": "ProgressStyleModel",
          "state": {
            "_view_name": "StyleView",
            "_model_name": "ProgressStyleModel",
            "description_width": "",
            "_view_module": "@jupyter-widgets/base",
            "_model_module_version": "1.5.0",
            "_view_count": null,
            "_view_module_version": "1.2.0",
            "bar_color": null,
            "_model_module": "@jupyter-widgets/controls"
          }
        },
        "8948f4a3514b4247b1ddc049922171ee": {
          "model_module": "@jupyter-widgets/base",
          "model_name": "LayoutModel",
          "state": {
            "_view_name": "LayoutView",
            "grid_template_rows": null,
            "right": null,
            "justify_content": null,
            "_view_module": "@jupyter-widgets/base",
            "overflow": null,
            "_model_module_version": "1.2.0",
            "_view_count": null,
            "flex_flow": null,
            "width": null,
            "min_width": null,
            "border": null,
            "align_items": null,
            "bottom": null,
            "_model_module": "@jupyter-widgets/base",
            "top": null,
            "grid_column": null,
            "overflow_y": null,
            "overflow_x": null,
            "grid_auto_flow": null,
            "grid_area": null,
            "grid_template_columns": null,
            "flex": null,
            "_model_name": "LayoutModel",
            "justify_items": null,
            "grid_row": null,
            "max_height": null,
            "align_content": null,
            "visibility": null,
            "align_self": null,
            "height": null,
            "min_height": null,
            "padding": null,
            "grid_auto_rows": null,
            "grid_gap": null,
            "max_width": null,
            "order": null,
            "_view_module_version": "1.2.0",
            "grid_template_areas": null,
            "object_position": null,
            "object_fit": null,
            "grid_auto_columns": null,
            "margin": null,
            "display": null,
            "left": null
          }
        },
        "16703f901288449092d7cb136aa4017b": {
          "model_module": "@jupyter-widgets/controls",
          "model_name": "VBoxModel",
          "state": {
            "_view_name": "VBoxView",
            "_dom_classes": [],
            "_model_name": "VBoxModel",
            "_view_module": "@jupyter-widgets/controls",
            "_model_module_version": "1.5.0",
            "_view_count": null,
            "_view_module_version": "1.5.0",
            "box_style": "",
            "layout": "IPY_MODEL_61c8f6c83a454b17abcfc61569dcb713",
            "_model_module": "@jupyter-widgets/controls",
            "children": [
              "IPY_MODEL_92d8bf00891b42de92427acd0209a8e9",
              "IPY_MODEL_cccb3e5f596d4c299dd5d345b35ec0d0"
            ]
          }
        },
        "61c8f6c83a454b17abcfc61569dcb713": {
          "model_module": "@jupyter-widgets/base",
          "model_name": "LayoutModel",
          "state": {
            "_view_name": "LayoutView",
            "grid_template_rows": null,
            "right": null,
            "justify_content": null,
            "_view_module": "@jupyter-widgets/base",
            "overflow": null,
            "_model_module_version": "1.2.0",
            "_view_count": null,
            "flex_flow": null,
            "width": null,
            "min_width": null,
            "border": null,
            "align_items": null,
            "bottom": null,
            "_model_module": "@jupyter-widgets/base",
            "top": null,
            "grid_column": null,
            "overflow_y": null,
            "overflow_x": null,
            "grid_auto_flow": null,
            "grid_area": null,
            "grid_template_columns": null,
            "flex": null,
            "_model_name": "LayoutModel",
            "justify_items": null,
            "grid_row": null,
            "max_height": null,
            "align_content": null,
            "visibility": null,
            "align_self": null,
            "height": null,
            "min_height": null,
            "padding": null,
            "grid_auto_rows": null,
            "grid_gap": null,
            "max_width": null,
            "order": null,
            "_view_module_version": "1.2.0",
            "grid_template_areas": null,
            "object_position": null,
            "object_fit": null,
            "grid_auto_columns": null,
            "margin": null,
            "display": null,
            "left": null
          }
        },
        "92d8bf00891b42de92427acd0209a8e9": {
          "model_module": "@jupyter-widgets/controls",
          "model_name": "LabelModel",
          "state": {
            "_view_name": "LabelView",
            "style": "IPY_MODEL_45033ace54e04a9493207878c95e17e8",
            "_dom_classes": [],
            "description": "",
            "_model_name": "LabelModel",
            "placeholder": "​",
            "_view_module": "@jupyter-widgets/controls",
            "_model_module_version": "1.5.0",
            "value": " 1.39MB of 1.39MB uploaded (0.00MB deduped)\r",
            "_view_count": null,
            "_view_module_version": "1.5.0",
            "description_tooltip": null,
            "_model_module": "@jupyter-widgets/controls",
            "layout": "IPY_MODEL_2d0d77ad499746b4b97e9d236a20a342"
          }
        },
        "cccb3e5f596d4c299dd5d345b35ec0d0": {
          "model_module": "@jupyter-widgets/controls",
          "model_name": "FloatProgressModel",
          "state": {
            "_view_name": "ProgressView",
            "style": "IPY_MODEL_208fc35ab3c94a9c8bf801cf693035e0",
            "_dom_classes": [],
            "description": "",
            "_model_name": "FloatProgressModel",
            "bar_style": "",
            "max": 1,
            "_view_module": "@jupyter-widgets/controls",
            "_model_module_version": "1.5.0",
            "value": 1,
            "_view_count": null,
            "_view_module_version": "1.5.0",
            "orientation": "horizontal",
            "min": 0,
            "description_tooltip": null,
            "_model_module": "@jupyter-widgets/controls",
            "layout": "IPY_MODEL_06425002b1bb40ac8e1e571f480447d9"
          }
        },
        "45033ace54e04a9493207878c95e17e8": {
          "model_module": "@jupyter-widgets/controls",
          "model_name": "DescriptionStyleModel",
          "state": {
            "_view_name": "StyleView",
            "_model_name": "DescriptionStyleModel",
            "description_width": "",
            "_view_module": "@jupyter-widgets/base",
            "_model_module_version": "1.5.0",
            "_view_count": null,
            "_view_module_version": "1.2.0",
            "_model_module": "@jupyter-widgets/controls"
          }
        },
        "2d0d77ad499746b4b97e9d236a20a342": {
          "model_module": "@jupyter-widgets/base",
          "model_name": "LayoutModel",
          "state": {
            "_view_name": "LayoutView",
            "grid_template_rows": null,
            "right": null,
            "justify_content": null,
            "_view_module": "@jupyter-widgets/base",
            "overflow": null,
            "_model_module_version": "1.2.0",
            "_view_count": null,
            "flex_flow": null,
            "width": null,
            "min_width": null,
            "border": null,
            "align_items": null,
            "bottom": null,
            "_model_module": "@jupyter-widgets/base",
            "top": null,
            "grid_column": null,
            "overflow_y": null,
            "overflow_x": null,
            "grid_auto_flow": null,
            "grid_area": null,
            "grid_template_columns": null,
            "flex": null,
            "_model_name": "LayoutModel",
            "justify_items": null,
            "grid_row": null,
            "max_height": null,
            "align_content": null,
            "visibility": null,
            "align_self": null,
            "height": null,
            "min_height": null,
            "padding": null,
            "grid_auto_rows": null,
            "grid_gap": null,
            "max_width": null,
            "order": null,
            "_view_module_version": "1.2.0",
            "grid_template_areas": null,
            "object_position": null,
            "object_fit": null,
            "grid_auto_columns": null,
            "margin": null,
            "display": null,
            "left": null
          }
        },
        "208fc35ab3c94a9c8bf801cf693035e0": {
          "model_module": "@jupyter-widgets/controls",
          "model_name": "ProgressStyleModel",
          "state": {
            "_view_name": "StyleView",
            "_model_name": "ProgressStyleModel",
            "description_width": "",
            "_view_module": "@jupyter-widgets/base",
            "_model_module_version": "1.5.0",
            "_view_count": null,
            "_view_module_version": "1.2.0",
            "bar_color": null,
            "_model_module": "@jupyter-widgets/controls"
          }
        },
        "06425002b1bb40ac8e1e571f480447d9": {
          "model_module": "@jupyter-widgets/base",
          "model_name": "LayoutModel",
          "state": {
            "_view_name": "LayoutView",
            "grid_template_rows": null,
            "right": null,
            "justify_content": null,
            "_view_module": "@jupyter-widgets/base",
            "overflow": null,
            "_model_module_version": "1.2.0",
            "_view_count": null,
            "flex_flow": null,
            "width": null,
            "min_width": null,
            "border": null,
            "align_items": null,
            "bottom": null,
            "_model_module": "@jupyter-widgets/base",
            "top": null,
            "grid_column": null,
            "overflow_y": null,
            "overflow_x": null,
            "grid_auto_flow": null,
            "grid_area": null,
            "grid_template_columns": null,
            "flex": null,
            "_model_name": "LayoutModel",
            "justify_items": null,
            "grid_row": null,
            "max_height": null,
            "align_content": null,
            "visibility": null,
            "align_self": null,
            "height": null,
            "min_height": null,
            "padding": null,
            "grid_auto_rows": null,
            "grid_gap": null,
            "max_width": null,
            "order": null,
            "_view_module_version": "1.2.0",
            "grid_template_areas": null,
            "object_position": null,
            "object_fit": null,
            "grid_auto_columns": null,
            "margin": null,
            "display": null,
            "left": null
          }
        }
      }
    }
  },
  "cells": [
    {
      "cell_type": "markdown",
      "metadata": {
        "id": "view-in-github",
        "colab_type": "text"
      },
      "source": [
        "<a href=\"https://colab.research.google.com/github/acse-2020/acse2020-acse9-finalreport-acse-jaq15/blob/main/notebooks/MLP_AE/MLP_AE_Treasury10y.ipynb\" target=\"_parent\"><img src=\"https://colab.research.google.com/assets/colab-badge.svg\" alt=\"Open In Colab\"/></a>"
      ]
    },
    {
      "cell_type": "markdown",
      "metadata": {
        "id": "z5F7GfFTgUo3"
      },
      "source": [
        "# Imports\n",
        "\n",
        "The cells below handle all the necessary imports to run our models, making use of the public repo feeder_repo, linked <!-- [Text](link) -->\n",
        "[here](https://github.com/acse-jaq15/feeder_repo)."
      ]
    },
    {
      "cell_type": "code",
      "metadata": {
        "colab": {
          "base_uri": "https://localhost:8080/"
        },
        "id": "HWy9Ay1SGzWa",
        "outputId": "2d636129-09c4-44da-bde0-ff077c74ef25"
      },
      "source": [
        "# clone the feeder repo to get data_reader module and financial time series data\n",
        "!git clone https://github.com/acse-jaq15/feeder_repo.git"
      ],
      "execution_count": 1,
      "outputs": [
        {
          "output_type": "stream",
          "text": [
            "Cloning into 'feeder_repo'...\n",
            "remote: Enumerating objects: 150, done.\u001b[K\n",
            "remote: Counting objects: 100% (150/150), done.\u001b[K\n",
            "remote: Compressing objects: 100% (145/145), done.\u001b[K\n",
            "remote: Total 150 (delta 73), reused 6 (delta 2), pack-reused 0\u001b[K\n",
            "Receiving objects: 100% (150/150), 121.14 KiB | 6.38 MiB/s, done.\n",
            "Resolving deltas: 100% (73/73), done.\n"
          ],
          "name": "stdout"
        }
      ]
    },
    {
      "cell_type": "code",
      "metadata": {
        "colab": {
          "base_uri": "https://localhost:8080/"
        },
        "id": "ChlUNYaiHGM2",
        "outputId": "04cf9bcf-9309-4031-825d-9a82853c4f97"
      },
      "source": [
        "# using '%' to enforce a permanent change of directory\n",
        "%cd feeder_repo/"
      ],
      "execution_count": 2,
      "outputs": [
        {
          "output_type": "stream",
          "text": [
            "/content/feeder_repo\n"
          ],
          "name": "stdout"
        }
      ]
    },
    {
      "cell_type": "code",
      "metadata": {
        "colab": {
          "base_uri": "https://localhost:8080/"
        },
        "id": "saD-jpvPIfZ8",
        "outputId": "b0b8b995-9bd2-4b7f-9a63-cac5cb3e66c7"
      },
      "source": [
        "# checking contents listed correctly, should read:\n",
        "# baseline_model.py data data_reader.py LICENSE README.md security_plotter.py\n",
        "!ls"
      ],
      "execution_count": 3,
      "outputs": [
        {
          "output_type": "stream",
          "text": [
            "base_model.py  data  data_reader.py  LICENSE  README.md  security_plotter.py\n"
          ],
          "name": "stdout"
        }
      ]
    },
    {
      "cell_type": "code",
      "metadata": {
        "id": "fRqkwo6kZUz_"
      },
      "source": [
        "import math\n",
        "import sys\n",
        "import keras\n",
        "import os\n",
        "import matplotlib.dates as mdates\n",
        "import matplotlib.pyplot as plt\n",
        "import pandas as pd\n",
        "import numpy as np\n",
        "from keras.models import Sequential\n",
        "from keras.layers import Dense\n",
        "from keras.layers import LSTM\n",
        "from keras.layers import GRU\n",
        "from keras.layers import Dropout\n",
        "from keras.layers import *\n",
        "from keras.utils.layer_utils import count_params\n",
        "from keras.utils.vis_utils import plot_model\n",
        "from sklearn.preprocessing import MinMaxScaler\n",
        "from sklearn.metrics import mean_squared_error\n",
        "from sklearn.metrics import mean_absolute_error\n",
        "from sklearn.model_selection import train_test_split\n",
        "from keras.callbacks import EarlyStopping, Callback\n",
        "from keras.optimizers import RMSprop, SGD, Adam, Nadam\n",
        "from keras.initializers import random_normal"
      ],
      "execution_count": 4,
      "outputs": []
    },
    {
      "cell_type": "code",
      "metadata": {
        "id": "hzVhwND1HAlw"
      },
      "source": [
        "# appending path with 'feeder_repo' string\n",
        "sys.path.append('feeder_repo')\n",
        "\n",
        "# import Data_Reader class from data_reader module\n",
        "from feeder_repo.data_reader import Data_Reader\n",
        "# import Baseline_Model class from base_model module\n",
        "from feeder_repo.base_model import Base_Model\n",
        "# import Security_Plotter class from security_plotter module\n",
        "from feeder_repo.security_plotter import Security_Plotter"
      ],
      "execution_count": 5,
      "outputs": []
    },
    {
      "cell_type": "code",
      "metadata": {
        "colab": {
          "base_uri": "https://localhost:8080/"
        },
        "id": "6-tNDlXuhiCU",
        "outputId": "d9d25e35-6103-479c-dd38-284fab51a923"
      },
      "source": [
        "# checking if the notebook is running on a GPU\n",
        "gpu_info = !nvidia-smi\n",
        "gpu_info = '\\n'.join(gpu_info)\n",
        "if gpu_info.find('failed') >= 0:\n",
        "    print('Select the Runtime > \"Change runtime type\" menu to enable a GPU accelerator, ')\n",
        "    print('and then re-execute this cell.')\n",
        "else:\n",
        "    print(gpu_info)"
      ],
      "execution_count": 6,
      "outputs": [
        {
          "output_type": "stream",
          "text": [
            "Fri Jul 23 15:05:22 2021       \n",
            "+-----------------------------------------------------------------------------+\n",
            "| NVIDIA-SMI 470.42.01    Driver Version: 460.32.03    CUDA Version: 11.2     |\n",
            "|-------------------------------+----------------------+----------------------+\n",
            "| GPU  Name        Persistence-M| Bus-Id        Disp.A | Volatile Uncorr. ECC |\n",
            "| Fan  Temp  Perf  Pwr:Usage/Cap|         Memory-Usage | GPU-Util  Compute M. |\n",
            "|                               |                      |               MIG M. |\n",
            "|===============================+======================+======================|\n",
            "|   0  Tesla P100-PCIE...  Off  | 00000000:00:04.0 Off |                    0 |\n",
            "| N/A   42C    P0    26W / 250W |      0MiB / 16280MiB |      0%      Default |\n",
            "|                               |                      |                  N/A |\n",
            "+-------------------------------+----------------------+----------------------+\n",
            "                                                                               \n",
            "+-----------------------------------------------------------------------------+\n",
            "| Processes:                                                                  |\n",
            "|  GPU   GI   CI        PID   Type   Process name                  GPU Memory |\n",
            "|        ID   ID                                                   Usage      |\n",
            "|=============================================================================|\n",
            "|  No running processes found                                                 |\n",
            "+-----------------------------------------------------------------------------+\n"
          ],
          "name": "stdout"
        }
      ]
    },
    {
      "cell_type": "markdown",
      "metadata": {
        "id": "WB9wD4Aahs8_"
      },
      "source": [
        "# Handling the data\n",
        "Here the Data_Reader class is used to read the time series data and extract training, test and validation sets, along with the relevant X and y values."
      ]
    },
    {
      "cell_type": "code",
      "metadata": {
        "id": "vBlKerL-c4-3"
      },
      "source": [
        "# storing the file to be read as a string\n",
        "in_str = 'Treasury10y'\n",
        "# storing the year of the time series to be used as test data\n",
        "in_yr = 2019\n",
        "# creating a variable to store the model name\n",
        "model_str = 'MLP_AE'\n",
        "# setting our window_length to be 30 days\n",
        "window_len = 30"
      ],
      "execution_count": 7,
      "outputs": []
    },
    {
      "cell_type": "code",
      "metadata": {
        "id": "hfQJbuBk0vW0"
      },
      "source": [
        "# creating an instance of Data_Reader class\n",
        "in_data = Data_Reader(in_str, in_yr)\n",
        "# calling class method extract_train_test to generate training and test datasets\n",
        "in_data.extract_train_test()\n",
        "# calling class method extract_xy to generate X and y training and test datasets\n",
        "in_data.extract_xy(window_len)\n",
        "\n",
        "# assigning X_train and y_train\n",
        "X_train = in_data.X_train\n",
        "y_train = in_data.y_train\n",
        "\n",
        "# assigning X_test and y_test\n",
        "X_test = in_data.X_test\n",
        "y_test = in_data.y_test\n",
        "\n",
        "# assigning X_val_train and y_val_train\n",
        "X_val_train = in_data.X_val_train\n",
        "y_val_train = in_data.y_val_train\n",
        "\n",
        "# assigning X_val_test and y_val_test\n",
        "X_val_test = in_data.X_val_test\n",
        "y_val_test = in_data.y_val_test"
      ],
      "execution_count": 8,
      "outputs": []
    },
    {
      "cell_type": "markdown",
      "metadata": {
        "id": "X53Fp1Gwh88_"
      },
      "source": [
        "# Setting up wandb itegration\n",
        "Here wandb is used to perform hyperparameter tuning."
      ]
    },
    {
      "cell_type": "code",
      "metadata": {
        "colab": {
          "base_uri": "https://localhost:8080/"
        },
        "id": "aE6cdrSDiHhq",
        "outputId": "72b31e21-3110-4faa-dbac-6aa0dd797a41"
      },
      "source": [
        "# installing the wandb library and importing\n",
        "%pip install wandb -q\n",
        "import wandb\n",
        "from wandb.keras import WandbCallback"
      ],
      "execution_count": 9,
      "outputs": [
        {
          "output_type": "stream",
          "text": [
            "\u001b[K     |████████████████████████████████| 1.8 MB 7.6 MB/s \n",
            "\u001b[K     |████████████████████████████████| 170 kB 40.5 MB/s \n",
            "\u001b[K     |████████████████████████████████| 97 kB 2.0 MB/s \n",
            "\u001b[K     |████████████████████████████████| 133 kB 41.4 MB/s \n",
            "\u001b[K     |████████████████████████████████| 138 kB 46.4 MB/s \n",
            "\u001b[K     |████████████████████████████████| 63 kB 1.4 MB/s \n",
            "\u001b[K     |████████████████████████████████| 62 kB 817 kB/s \n",
            "\u001b[?25h  Building wheel for subprocess32 (setup.py) ... \u001b[?25l\u001b[?25hdone\n",
            "  Building wheel for pathtools (setup.py) ... \u001b[?25l\u001b[?25hdone\n",
            "\u001b[31mERROR: pip's dependency resolver does not currently take into account all the packages that are installed. This behaviour is the source of the following dependency conflicts.\n",
            "google-colab 1.0.0 requires requests~=2.23.0, but you have requests 2.26.0 which is incompatible.\n",
            "datascience 0.10.6 requires folium==0.2.1, but you have folium 0.8.3 which is incompatible.\u001b[0m\n"
          ],
          "name": "stdout"
        }
      ]
    },
    {
      "cell_type": "code",
      "metadata": {
        "id": "pbgZaoQDiIKX"
      },
      "source": [
        "!pip install wandb -qq"
      ],
      "execution_count": 10,
      "outputs": []
    },
    {
      "cell_type": "code",
      "metadata": {
        "colab": {
          "base_uri": "https://localhost:8080/"
        },
        "id": "1WHkW0XyiKVL",
        "outputId": "e36ba7a3-6a62-452d-b343-5cf53aa66ca2"
      },
      "source": [
        "# logging in so the hyperparameter tunings sweeps can be saved\n",
        "!wandb login"
      ],
      "execution_count": 11,
      "outputs": [
        {
          "output_type": "stream",
          "text": [
            "\u001b[34m\u001b[1mwandb\u001b[0m: You can find your API key in your browser here: https://wandb.ai/authorize\n",
            "\u001b[34m\u001b[1mwandb\u001b[0m: Paste an API key from your profile and hit enter: \n",
            "\u001b[34m\u001b[1mwandb\u001b[0m: Appending key for api.wandb.ai to your netrc file: /root/.netrc\n"
          ],
          "name": "stdout"
        }
      ]
    },
    {
      "cell_type": "code",
      "metadata": {
        "id": "j91IBGuSid5w"
      },
      "source": [
        "# configuring the sweep, making use of a random search methodology\n",
        "sweep_config = {\n",
        "    'method': 'random', #grid, random\n",
        "    'metric': {\n",
        "      'name': 'mse',\n",
        "      'goal': 'minimize'   \n",
        "    },\n",
        "    'parameters': {\n",
        "        'epochs': {\n",
        "            'values': [50, 100]\n",
        "        },\n",
        "        'batch_size': {\n",
        "            'values': [128, 64, 32]\n",
        "        },\n",
        "        'learning_rate': {\n",
        "            'values': [0.005, 0.001, 0.0005]\n",
        "        },\n",
        "        'optimizer': {\n",
        "            'values': ['adam', 'nadam', 'rmsprop', 'sgd']\n",
        "        },\n",
        "        'activation': {\n",
        "            'values': ['relu', 'selu']\n",
        "        }\n",
        "    }\n",
        "}"
      ],
      "execution_count": 12,
      "outputs": []
    },
    {
      "cell_type": "code",
      "metadata": {
        "id": "V0Sr9HsorH4E"
      },
      "source": [
        "# wandb calls this training function to run through the hyperparameter search\n",
        "def train():\n",
        "    # default values for searching\n",
        "    config_defaults = {\n",
        "        'epochs': 100,\n",
        "        'batch_size': 32,\n",
        "        'learning_rate': 0.005,\n",
        "        'optimizer': 'adam',\n",
        "        'activation': 'tanh',\n",
        "        'momentum': 0.9,\n",
        "        'seed': 42\n",
        "    }\n",
        "\n",
        "    # Initialize a new wandb run\n",
        "    wandb.init(config=config_defaults)\n",
        "    \n",
        "    # Config is a variable that holds and saves hyperparameters and inputs\n",
        "    config = wandb.config\n",
        "\n",
        "    # setting keras model to sequential mode\n",
        "    model = Sequential()\n",
        "\n",
        "    # layer 1\n",
        "    model.add(Dense(256, activation=config.activation, input_shape=(window_len, 1)))\n",
        "    # layer 2\n",
        "    model.add(Dense(128, activation=config.activation))\n",
        "    # layer 3\n",
        "    model.add(Dense(64, activation=config.activation))\n",
        "    # layer 4\n",
        "    model.add(Dense(32, activation=config.activation))\n",
        "    # layer 5\n",
        "    model.add(Flatten())\n",
        "    # layer 6\n",
        "    model.add(RepeatVector(window_len))\n",
        "    # layer 7\n",
        "    model.add(Dense(32, activation=config.activation))\n",
        "    # layer 8\n",
        "    model.add(Dense(64, activation=config.activation))\n",
        "    # layer 9\n",
        "    model.add(Dense(128, activation=config.activation))\n",
        "    # layer 10\n",
        "    model.add(Flatten())\n",
        "    # layer 11\n",
        "    model.add(Dense(1))\n",
        "\n",
        "    # Define the optimizer\n",
        "    if config.optimizer=='sgd':\n",
        "      optimizer = SGD(learning_rate=config.learning_rate, decay=1e-5, momentum=config.momentum, nesterov=True)\n",
        "    elif config.optimizer=='rmsprop':\n",
        "      optimizer = RMSprop(learning_rate=config.learning_rate, decay=1e-5)\n",
        "    elif config.optimizer=='adam':\n",
        "      optimizer = Adam(learning_rate=config.learning_rate, beta_1=0.9, beta_2=0.999, clipnorm=1.0)\n",
        "    elif config.optimizer=='nadam':\n",
        "      optimizer = Nadam(learning_rate=config.learning_rate, beta_1=0.9, beta_2=0.999, clipnorm=1.0)\n",
        "\n",
        "    model.compile(loss = \"mean_squared_error\", optimizer=optimizer, metrics=['mean_squared_error', 'mean_absolute_error'])\n",
        "\n",
        "    model.fit(X_val_train, y_val_train, batch_size=config.batch_size,\n",
        "              epochs=config.epochs,\n",
        "              validation_data=(X_val_test, y_val_test),\n",
        "              callbacks=[WandbCallback(validation_data=(X_val_test, y_val_test)),\n",
        "                          EarlyStopping(patience=10, restore_best_weights=True)])"
      ],
      "execution_count": 13,
      "outputs": []
    },
    {
      "cell_type": "code",
      "metadata": {
        "colab": {
          "base_uri": "https://localhost:8080/"
        },
        "id": "JwZO6oAFU1LN",
        "outputId": "98150429-3a35-4598-98bb-1df58394f40d"
      },
      "source": [
        "# setting up our sweep_id\n",
        "sweep_id = wandb.sweep(sweep_config, project='ACSE_9_'+model_str)"
      ],
      "execution_count": 14,
      "outputs": [
        {
          "output_type": "stream",
          "text": [
            "Create sweep with ID: due8fgzn\n",
            "Sweep URL: https://wandb.ai/acse-jaq15/ACSE_9_MLP_AE/sweeps/due8fgzn\n"
          ],
          "name": "stdout"
        }
      ]
    },
    {
      "cell_type": "code",
      "metadata": {
        "colab": {
          "base_uri": "https://localhost:8080/",
          "height": 1000,
          "referenced_widgets": [
            "a983ea43792b4e7099794b2a49859ff2",
            "637aeba8bc2f463bba53d93b11042b75",
            "bbb881cd3e2f46a19cd887584df5eef7",
            "22b8493ce909426a87f4c232160cc0cb",
            "3ff7b7e6da4043bc9e1058df55d78d75",
            "555a45840e044199a5e77ce75c1f9cee",
            "71b050a839d24611a888fb828c3563dc",
            "8948f4a3514b4247b1ddc049922171ee",
            "16703f901288449092d7cb136aa4017b",
            "61c8f6c83a454b17abcfc61569dcb713",
            "92d8bf00891b42de92427acd0209a8e9",
            "cccb3e5f596d4c299dd5d345b35ec0d0",
            "45033ace54e04a9493207878c95e17e8",
            "2d0d77ad499746b4b97e9d236a20a342",
            "208fc35ab3c94a9c8bf801cf693035e0",
            "06425002b1bb40ac8e1e571f480447d9"
          ]
        },
        "id": "ZfSCGWfluFw0",
        "outputId": "ed676a7e-2760-453d-e3d9-4f14126ddbc8"
      },
      "source": [
        "# initialising a new sweep\n",
        "wandb.agent(sweep_id, train, project='ACSE_9_'+model_str)"
      ],
      "execution_count": 16,
      "outputs": [
        {
          "output_type": "stream",
          "text": [
            "\u001b[34m\u001b[1mwandb\u001b[0m: Agent Starting Run: vugrgd9f with config:\n",
            "\u001b[34m\u001b[1mwandb\u001b[0m: \tactivation: relu\n",
            "\u001b[34m\u001b[1mwandb\u001b[0m: \tbatch_size: 128\n",
            "\u001b[34m\u001b[1mwandb\u001b[0m: \tepochs: 100\n",
            "\u001b[34m\u001b[1mwandb\u001b[0m: \tlearning_rate: 0.005\n",
            "\u001b[34m\u001b[1mwandb\u001b[0m: \toptimizer: nadam\n"
          ],
          "name": "stderr"
        },
        {
          "output_type": "display_data",
          "data": {
            "text/html": [
              "\n",
              "                Tracking run with wandb version 0.11.0<br/>\n",
              "                Syncing run <strong style=\"color:#cdcd00\">stilted-sweep-34</strong> to <a href=\"https://wandb.ai\" target=\"_blank\">Weights & Biases</a> <a href=\"https://docs.wandb.com/integrations/jupyter.html\" target=\"_blank\">(Documentation)</a>.<br/>\n",
              "                Project page: <a href=\"https://wandb.ai/acse-jaq15/ACSE_9_MLP_AE\" target=\"_blank\">https://wandb.ai/acse-jaq15/ACSE_9_MLP_AE</a><br/>\n",
              "                Sweep page: <a href=\"https://wandb.ai/acse-jaq15/ACSE_9_MLP_AE/sweeps/due8fgzn\" target=\"_blank\">https://wandb.ai/acse-jaq15/ACSE_9_MLP_AE/sweeps/due8fgzn</a><br/>\n",
              "Run page: <a href=\"https://wandb.ai/acse-jaq15/ACSE_9_MLP_AE/runs/vugrgd9f\" target=\"_blank\">https://wandb.ai/acse-jaq15/ACSE_9_MLP_AE/runs/vugrgd9f</a><br/>\n",
              "                Run data is saved locally in <code>/content/feeder_repo/wandb/run-20210723_153346-vugrgd9f</code><br/><br/>\n",
              "            "
            ],
            "text/plain": [
              "<IPython.core.display.HTML object>"
            ]
          },
          "metadata": {
            "tags": []
          }
        },
        {
          "output_type": "stream",
          "text": [
            "Epoch 1/100\n",
            "8/8 [==============================] - 5s 132ms/step - loss: 0.2566 - mean_squared_error: 0.2566 - mean_absolute_error: 0.3896 - val_loss: 0.2449 - val_mean_squared_error: 0.2449 - val_mean_absolute_error: 0.4727\n",
            "Epoch 2/100\n",
            "8/8 [==============================] - 0s 19ms/step - loss: 0.0773 - mean_squared_error: 0.0773 - mean_absolute_error: 0.2322 - val_loss: 0.0537 - val_mean_squared_error: 0.0537 - val_mean_absolute_error: 0.1937\n",
            "Epoch 3/100\n",
            "8/8 [==============================] - 0s 23ms/step - loss: 0.0391 - mean_squared_error: 0.0391 - mean_absolute_error: 0.1635 - val_loss: 0.0202 - val_mean_squared_error: 0.0202 - val_mean_absolute_error: 0.1182\n",
            "Epoch 4/100\n",
            "8/8 [==============================] - 0s 19ms/step - loss: 0.0261 - mean_squared_error: 0.0261 - mean_absolute_error: 0.1277 - val_loss: 0.1783 - val_mean_squared_error: 0.1783 - val_mean_absolute_error: 0.3975\n",
            "Epoch 5/100\n",
            "8/8 [==============================] - 0s 20ms/step - loss: 0.0489 - mean_squared_error: 0.0489 - mean_absolute_error: 0.1734 - val_loss: 0.0179 - val_mean_squared_error: 0.0179 - val_mean_absolute_error: 0.1110\n",
            "Epoch 6/100\n",
            "8/8 [==============================] - 0s 20ms/step - loss: 0.0475 - mean_squared_error: 0.0475 - mean_absolute_error: 0.1766 - val_loss: 0.0209 - val_mean_squared_error: 0.0209 - val_mean_absolute_error: 0.1145\n",
            "Epoch 7/100\n",
            "8/8 [==============================] - 0s 19ms/step - loss: 0.0178 - mean_squared_error: 0.0178 - mean_absolute_error: 0.1074 - val_loss: 0.0181 - val_mean_squared_error: 0.0181 - val_mean_absolute_error: 0.1084\n",
            "Epoch 8/100\n",
            "8/8 [==============================] - 0s 21ms/step - loss: 0.0096 - mean_squared_error: 0.0096 - mean_absolute_error: 0.0804 - val_loss: 0.0160 - val_mean_squared_error: 0.0160 - val_mean_absolute_error: 0.1055\n",
            "Epoch 9/100\n",
            "8/8 [==============================] - 0s 19ms/step - loss: 0.0125 - mean_squared_error: 0.0125 - mean_absolute_error: 0.0945 - val_loss: 0.0148 - val_mean_squared_error: 0.0148 - val_mean_absolute_error: 0.1018\n",
            "Epoch 10/100\n",
            "8/8 [==============================] - 0s 21ms/step - loss: 0.0098 - mean_squared_error: 0.0098 - mean_absolute_error: 0.0833 - val_loss: 0.0103 - val_mean_squared_error: 0.0103 - val_mean_absolute_error: 0.0823\n",
            "Epoch 11/100\n",
            "8/8 [==============================] - 0s 20ms/step - loss: 0.0093 - mean_squared_error: 0.0093 - mean_absolute_error: 0.0782 - val_loss: 0.0145 - val_mean_squared_error: 0.0145 - val_mean_absolute_error: 0.0999\n",
            "Epoch 12/100\n",
            "8/8 [==============================] - 0s 20ms/step - loss: 0.0086 - mean_squared_error: 0.0086 - mean_absolute_error: 0.0763 - val_loss: 0.0163 - val_mean_squared_error: 0.0163 - val_mean_absolute_error: 0.1076\n",
            "Epoch 13/100\n",
            "8/8 [==============================] - 0s 20ms/step - loss: 0.0079 - mean_squared_error: 0.0079 - mean_absolute_error: 0.0719 - val_loss: 0.0159 - val_mean_squared_error: 0.0159 - val_mean_absolute_error: 0.1062\n",
            "Epoch 14/100\n",
            "8/8 [==============================] - 0s 20ms/step - loss: 0.0100 - mean_squared_error: 0.0100 - mean_absolute_error: 0.0866 - val_loss: 0.0145 - val_mean_squared_error: 0.0145 - val_mean_absolute_error: 0.1008\n",
            "Epoch 15/100\n",
            "8/8 [==============================] - 0s 20ms/step - loss: 0.0077 - mean_squared_error: 0.0077 - mean_absolute_error: 0.0743 - val_loss: 0.0127 - val_mean_squared_error: 0.0127 - val_mean_absolute_error: 0.0938\n",
            "Epoch 16/100\n",
            "8/8 [==============================] - 0s 26ms/step - loss: 0.0091 - mean_squared_error: 0.0091 - mean_absolute_error: 0.0824 - val_loss: 0.0127 - val_mean_squared_error: 0.0127 - val_mean_absolute_error: 0.0942\n",
            "Epoch 17/100\n",
            "8/8 [==============================] - 0s 21ms/step - loss: 0.0091 - mean_squared_error: 0.0091 - mean_absolute_error: 0.0819 - val_loss: 0.0139 - val_mean_squared_error: 0.0139 - val_mean_absolute_error: 0.0991\n",
            "Epoch 18/100\n",
            "8/8 [==============================] - 0s 22ms/step - loss: 0.0076 - mean_squared_error: 0.0076 - mean_absolute_error: 0.0732 - val_loss: 0.0105 - val_mean_squared_error: 0.0105 - val_mean_absolute_error: 0.0841\n",
            "Epoch 19/100\n",
            "8/8 [==============================] - 0s 22ms/step - loss: 0.0074 - mean_squared_error: 0.0074 - mean_absolute_error: 0.0744 - val_loss: 0.0141 - val_mean_squared_error: 0.0141 - val_mean_absolute_error: 0.0997\n",
            "Epoch 20/100\n",
            "8/8 [==============================] - 0s 18ms/step - loss: 0.0103 - mean_squared_error: 0.0103 - mean_absolute_error: 0.0891 - val_loss: 0.0120 - val_mean_squared_error: 0.0120 - val_mean_absolute_error: 0.0914\n"
          ],
          "name": "stdout"
        },
        {
          "output_type": "display_data",
          "data": {
            "text/html": [
              "<br/>Waiting for W&B process to finish, PID 5528<br/>Program ended successfully."
            ],
            "text/plain": [
              "<IPython.core.display.HTML object>"
            ]
          },
          "metadata": {
            "tags": []
          }
        },
        {
          "output_type": "display_data",
          "data": {
            "application/vnd.jupyter.widget-view+json": {
              "model_id": "a983ea43792b4e7099794b2a49859ff2",
              "version_minor": 0,
              "version_major": 2
            },
            "text/plain": [
              "VBox(children=(Label(value=' 1.35MB of 1.35MB uploaded (0.00MB deduped)\\r'), FloatProgress(value=1.0, max=1.0)…"
            ]
          },
          "metadata": {
            "tags": []
          }
        },
        {
          "output_type": "display_data",
          "data": {
            "text/html": [
              "Find user logs for this run at: <code>/content/feeder_repo/wandb/run-20210723_153346-vugrgd9f/logs/debug.log</code>"
            ],
            "text/plain": [
              "<IPython.core.display.HTML object>"
            ]
          },
          "metadata": {
            "tags": []
          }
        },
        {
          "output_type": "display_data",
          "data": {
            "text/html": [
              "Find internal logs for this run at: <code>/content/feeder_repo/wandb/run-20210723_153346-vugrgd9f/logs/debug-internal.log</code>"
            ],
            "text/plain": [
              "<IPython.core.display.HTML object>"
            ]
          },
          "metadata": {
            "tags": []
          }
        },
        {
          "output_type": "display_data",
          "data": {
            "text/html": [
              "<h3>Run summary:</h3><br/><style>\n",
              "    table.wandb td:nth-child(1) { padding: 0 10px; text-align: right }\n",
              "    </style><table class=\"wandb\">\n",
              "<tr><td>epoch</td><td>19</td></tr><tr><td>loss</td><td>0.00941</td></tr><tr><td>mean_squared_error</td><td>0.00941</td></tr><tr><td>mean_absolute_error</td><td>0.08465</td></tr><tr><td>val_loss</td><td>0.01204</td></tr><tr><td>val_mean_squared_error</td><td>0.01204</td></tr><tr><td>val_mean_absolute_error</td><td>0.09145</td></tr><tr><td>_runtime</td><td>12</td></tr><tr><td>_timestamp</td><td>1627054438</td></tr><tr><td>_step</td><td>19</td></tr><tr><td>best_val_loss</td><td>0.01033</td></tr><tr><td>best_epoch</td><td>9</td></tr></table>"
            ],
            "text/plain": [
              "<IPython.core.display.HTML object>"
            ]
          },
          "metadata": {
            "tags": []
          }
        },
        {
          "output_type": "display_data",
          "data": {
            "text/html": [
              "<h3>Run history:</h3><br/><style>\n",
              "    table.wandb td:nth-child(1) { padding: 0 10px; text-align: right }\n",
              "    </style><table class=\"wandb\">\n",
              "<tr><td>epoch</td><td>▁▁▂▂▂▃▃▄▄▄▅▅▅▆▆▇▇▇██</td></tr><tr><td>loss</td><td>█▂▂▂▁▂▁▁▁▁▁▁▁▁▁▁▁▁▁▁</td></tr><tr><td>mean_squared_error</td><td>█▂▂▂▁▂▁▁▁▁▁▁▁▁▁▁▁▁▁▁</td></tr><tr><td>mean_absolute_error</td><td>█▃▃▂▂▃▂▁▂▁▁▁▁▁▁▁▁▁▁▁</td></tr><tr><td>val_loss</td><td>█▂▁▆▁▁▁▁▁▁▁▁▁▁▁▁▁▁▁▁</td></tr><tr><td>val_mean_squared_error</td><td>█▂▁▆▁▁▁▁▁▁▁▁▁▁▁▁▁▁▁▁</td></tr><tr><td>val_mean_absolute_error</td><td>█▃▂▇▂▂▁▁▁▁▁▁▁▁▁▁▁▁▁▁</td></tr><tr><td>_runtime</td><td>▁▁▃▃▃▃▅▅▅▅▅▆▆▆▆▆▆███</td></tr><tr><td>_timestamp</td><td>▁▁▃▃▃▃▅▅▅▅▅▆▆▆▆▆▆███</td></tr><tr><td>_step</td><td>▁▁▂▂▂▃▃▄▄▄▅▅▅▆▆▇▇▇██</td></tr></table><br/>"
            ],
            "text/plain": [
              "<IPython.core.display.HTML object>"
            ]
          },
          "metadata": {
            "tags": []
          }
        },
        {
          "output_type": "display_data",
          "data": {
            "text/html": [
              "Synced 5 W&B file(s), 1 media file(s), 2 artifact file(s) and 2 other file(s)"
            ],
            "text/plain": [
              "<IPython.core.display.HTML object>"
            ]
          },
          "metadata": {
            "tags": []
          }
        },
        {
          "output_type": "display_data",
          "data": {
            "text/html": [
              "\n",
              "                    <br/>Synced <strong style=\"color:#cdcd00\">stilted-sweep-34</strong>: <a href=\"https://wandb.ai/acse-jaq15/ACSE_9_MLP_AE/runs/vugrgd9f\" target=\"_blank\">https://wandb.ai/acse-jaq15/ACSE_9_MLP_AE/runs/vugrgd9f</a><br/>\n",
              "                "
            ],
            "text/plain": [
              "<IPython.core.display.HTML object>"
            ]
          },
          "metadata": {
            "tags": []
          }
        },
        {
          "output_type": "stream",
          "text": [
            "\u001b[34m\u001b[1mwandb\u001b[0m: Agent Starting Run: amjk8trg with config:\n",
            "\u001b[34m\u001b[1mwandb\u001b[0m: \tactivation: selu\n",
            "\u001b[34m\u001b[1mwandb\u001b[0m: \tbatch_size: 64\n",
            "\u001b[34m\u001b[1mwandb\u001b[0m: \tepochs: 100\n",
            "\u001b[34m\u001b[1mwandb\u001b[0m: \tlearning_rate: 0.005\n",
            "\u001b[34m\u001b[1mwandb\u001b[0m: \toptimizer: nadam\n"
          ],
          "name": "stderr"
        },
        {
          "output_type": "display_data",
          "data": {
            "text/html": [
              "\n",
              "                Tracking run with wandb version 0.11.0<br/>\n",
              "                Syncing run <strong style=\"color:#cdcd00\">upbeat-sweep-35</strong> to <a href=\"https://wandb.ai\" target=\"_blank\">Weights & Biases</a> <a href=\"https://docs.wandb.com/integrations/jupyter.html\" target=\"_blank\">(Documentation)</a>.<br/>\n",
              "                Project page: <a href=\"https://wandb.ai/acse-jaq15/ACSE_9_MLP_AE\" target=\"_blank\">https://wandb.ai/acse-jaq15/ACSE_9_MLP_AE</a><br/>\n",
              "                Sweep page: <a href=\"https://wandb.ai/acse-jaq15/ACSE_9_MLP_AE/sweeps/due8fgzn\" target=\"_blank\">https://wandb.ai/acse-jaq15/ACSE_9_MLP_AE/sweeps/due8fgzn</a><br/>\n",
              "Run page: <a href=\"https://wandb.ai/acse-jaq15/ACSE_9_MLP_AE/runs/amjk8trg\" target=\"_blank\">https://wandb.ai/acse-jaq15/ACSE_9_MLP_AE/runs/amjk8trg</a><br/>\n",
              "                Run data is saved locally in <code>/content/feeder_repo/wandb/run-20210723_153406-amjk8trg</code><br/><br/>\n",
              "            "
            ],
            "text/plain": [
              "<IPython.core.display.HTML object>"
            ]
          },
          "metadata": {
            "tags": []
          }
        },
        {
          "output_type": "stream",
          "text": [
            "Epoch 1/100\n",
            "16/16 [==============================] - 5s 70ms/step - loss: 127.1115 - mean_squared_error: 127.1115 - mean_absolute_error: 8.9818 - val_loss: 11.9518 - val_mean_squared_error: 11.9518 - val_mean_absolute_error: 3.4555\n",
            "Epoch 2/100\n",
            "16/16 [==============================] - 0s 18ms/step - loss: 58.9203 - mean_squared_error: 58.9203 - mean_absolute_error: 6.2861 - val_loss: 23.6547 - val_mean_squared_error: 23.6547 - val_mean_absolute_error: 4.8451\n",
            "Epoch 3/100\n",
            "16/16 [==============================] - 0s 19ms/step - loss: 47.8985 - mean_squared_error: 47.8985 - mean_absolute_error: 5.5391 - val_loss: 34.9510 - val_mean_squared_error: 34.9510 - val_mean_absolute_error: 5.9061\n",
            "Epoch 4/100\n",
            "16/16 [==============================] - 0s 17ms/step - loss: 47.8099 - mean_squared_error: 47.8099 - mean_absolute_error: 5.5970 - val_loss: 65.0592 - val_mean_squared_error: 65.0592 - val_mean_absolute_error: 8.0554\n",
            "Epoch 5/100\n",
            "16/16 [==============================] - 0s 19ms/step - loss: 77.1560 - mean_squared_error: 77.1560 - mean_absolute_error: 6.7373 - val_loss: 193.8908 - val_mean_squared_error: 193.8908 - val_mean_absolute_error: 13.7662\n",
            "Epoch 6/100\n",
            "16/16 [==============================] - 0s 21ms/step - loss: 56.1914 - mean_squared_error: 56.1914 - mean_absolute_error: 5.6657 - val_loss: 19.5654 - val_mean_squared_error: 19.5654 - val_mean_absolute_error: 4.3766\n",
            "Epoch 7/100\n",
            "16/16 [==============================] - 0s 16ms/step - loss: 26.0742 - mean_squared_error: 26.0742 - mean_absolute_error: 4.7280 - val_loss: 210.6423 - val_mean_squared_error: 210.6423 - val_mean_absolute_error: 14.5124\n",
            "Epoch 8/100\n",
            "16/16 [==============================] - 0s 18ms/step - loss: 85.9101 - mean_squared_error: 85.9101 - mean_absolute_error: 7.3033 - val_loss: 30.6596 - val_mean_squared_error: 30.6596 - val_mean_absolute_error: 5.5256\n",
            "Epoch 9/100\n",
            "16/16 [==============================] - 0s 17ms/step - loss: 54.5928 - mean_squared_error: 54.5928 - mean_absolute_error: 5.4798 - val_loss: 24.1824 - val_mean_squared_error: 24.1824 - val_mean_absolute_error: 4.9061\n",
            "Epoch 10/100\n",
            "16/16 [==============================] - 0s 17ms/step - loss: 32.0182 - mean_squared_error: 32.0182 - mean_absolute_error: 4.5600 - val_loss: 15.2184 - val_mean_squared_error: 15.2184 - val_mean_absolute_error: 3.7531\n",
            "Epoch 11/100\n",
            "16/16 [==============================] - 0s 18ms/step - loss: 21.2821 - mean_squared_error: 21.2821 - mean_absolute_error: 3.4764 - val_loss: 12.0157 - val_mean_squared_error: 12.0157 - val_mean_absolute_error: 3.2364\n"
          ],
          "name": "stdout"
        },
        {
          "output_type": "display_data",
          "data": {
            "text/html": [
              "<br/>Waiting for W&B process to finish, PID 5643<br/>Program ended successfully."
            ],
            "text/plain": [
              "<IPython.core.display.HTML object>"
            ]
          },
          "metadata": {
            "tags": []
          }
        },
        {
          "output_type": "display_data",
          "data": {
            "application/vnd.jupyter.widget-view+json": {
              "model_id": "16703f901288449092d7cb136aa4017b",
              "version_minor": 0,
              "version_major": 2
            },
            "text/plain": [
              "VBox(children=(Label(value=' 1.36MB of 1.36MB uploaded (0.00MB deduped)\\r'), FloatProgress(value=1.0, max=1.0)…"
            ]
          },
          "metadata": {
            "tags": []
          }
        },
        {
          "output_type": "display_data",
          "data": {
            "text/html": [
              "Find user logs for this run at: <code>/content/feeder_repo/wandb/run-20210723_153406-amjk8trg/logs/debug.log</code>"
            ],
            "text/plain": [
              "<IPython.core.display.HTML object>"
            ]
          },
          "metadata": {
            "tags": []
          }
        },
        {
          "output_type": "display_data",
          "data": {
            "text/html": [
              "Find internal logs for this run at: <code>/content/feeder_repo/wandb/run-20210723_153406-amjk8trg/logs/debug-internal.log</code>"
            ],
            "text/plain": [
              "<IPython.core.display.HTML object>"
            ]
          },
          "metadata": {
            "tags": []
          }
        },
        {
          "output_type": "display_data",
          "data": {
            "text/html": [
              "<h3>Run summary:</h3><br/><style>\n",
              "    table.wandb td:nth-child(1) { padding: 0 10px; text-align: right }\n",
              "    </style><table class=\"wandb\">\n",
              "<tr><td>epoch</td><td>10</td></tr><tr><td>loss</td><td>31.00597</td></tr><tr><td>mean_squared_error</td><td>31.00597</td></tr><tr><td>mean_absolute_error</td><td>4.4228</td></tr><tr><td>val_loss</td><td>12.01566</td></tr><tr><td>val_mean_squared_error</td><td>12.01566</td></tr><tr><td>val_mean_absolute_error</td><td>3.2364</td></tr><tr><td>_runtime</td><td>11</td></tr><tr><td>_timestamp</td><td>1627054457</td></tr><tr><td>_step</td><td>10</td></tr><tr><td>best_val_loss</td><td>11.95182</td></tr><tr><td>best_epoch</td><td>0</td></tr></table>"
            ],
            "text/plain": [
              "<IPython.core.display.HTML object>"
            ]
          },
          "metadata": {
            "tags": []
          }
        },
        {
          "output_type": "display_data",
          "data": {
            "text/html": [
              "<h3>Run history:</h3><br/><style>\n",
              "    table.wandb td:nth-child(1) { padding: 0 10px; text-align: right }\n",
              "    </style><table class=\"wandb\">\n",
              "<tr><td>epoch</td><td>▁▂▂▃▄▅▅▆▇▇█</td></tr><tr><td>loss</td><td>█▃▂▃▄▃▁▃▃▁▁</td></tr><tr><td>mean_squared_error</td><td>█▃▂▃▄▃▁▃▃▁▁</td></tr><tr><td>mean_absolute_error</td><td>█▄▂▃▄▃▂▃▂▁▁</td></tr><tr><td>val_loss</td><td>▁▁▂▃▇▁█▂▁▁▁</td></tr><tr><td>val_mean_squared_error</td><td>▁▁▂▃▇▁█▂▁▁▁</td></tr><tr><td>val_mean_absolute_error</td><td>▁▂▃▄█▂█▂▂▁▁</td></tr><tr><td>_runtime</td><td>▁▃▃▃▆▆▆████</td></tr><tr><td>_timestamp</td><td>▁▃▃▃▆▆▆████</td></tr><tr><td>_step</td><td>▁▂▂▃▄▅▅▆▇▇█</td></tr></table><br/>"
            ],
            "text/plain": [
              "<IPython.core.display.HTML object>"
            ]
          },
          "metadata": {
            "tags": []
          }
        },
        {
          "output_type": "display_data",
          "data": {
            "text/html": [
              "Synced 5 W&B file(s), 1 media file(s), 2 artifact file(s) and 2 other file(s)"
            ],
            "text/plain": [
              "<IPython.core.display.HTML object>"
            ]
          },
          "metadata": {
            "tags": []
          }
        },
        {
          "output_type": "display_data",
          "data": {
            "text/html": [
              "\n",
              "                    <br/>Synced <strong style=\"color:#cdcd00\">upbeat-sweep-35</strong>: <a href=\"https://wandb.ai/acse-jaq15/ACSE_9_MLP_AE/runs/amjk8trg\" target=\"_blank\">https://wandb.ai/acse-jaq15/ACSE_9_MLP_AE/runs/amjk8trg</a><br/>\n",
              "                "
            ],
            "text/plain": [
              "<IPython.core.display.HTML object>"
            ]
          },
          "metadata": {
            "tags": []
          }
        },
        {
          "output_type": "stream",
          "text": [
            "\u001b[34m\u001b[1mwandb\u001b[0m: Agent Starting Run: 12fgl6qj with config:\n",
            "\u001b[34m\u001b[1mwandb\u001b[0m: \tactivation: selu\n",
            "\u001b[34m\u001b[1mwandb\u001b[0m: \tbatch_size: 32\n",
            "\u001b[34m\u001b[1mwandb\u001b[0m: \tepochs: 100\n",
            "\u001b[34m\u001b[1mwandb\u001b[0m: \tlearning_rate: 0.0005\n",
            "\u001b[34m\u001b[1mwandb\u001b[0m: \toptimizer: rmsprop\n"
          ],
          "name": "stderr"
        },
        {
          "output_type": "display_data",
          "data": {
            "text/html": [
              "\n",
              "                Tracking run with wandb version 0.11.0<br/>\n",
              "                Syncing run <strong style=\"color:#cdcd00\">worldly-sweep-36</strong> to <a href=\"https://wandb.ai\" target=\"_blank\">Weights & Biases</a> <a href=\"https://docs.wandb.com/integrations/jupyter.html\" target=\"_blank\">(Documentation)</a>.<br/>\n",
              "                Project page: <a href=\"https://wandb.ai/acse-jaq15/ACSE_9_MLP_AE\" target=\"_blank\">https://wandb.ai/acse-jaq15/ACSE_9_MLP_AE</a><br/>\n",
              "                Sweep page: <a href=\"https://wandb.ai/acse-jaq15/ACSE_9_MLP_AE/sweeps/due8fgzn\" target=\"_blank\">https://wandb.ai/acse-jaq15/ACSE_9_MLP_AE/sweeps/due8fgzn</a><br/>\n",
              "Run page: <a href=\"https://wandb.ai/acse-jaq15/ACSE_9_MLP_AE/runs/12fgl6qj\" target=\"_blank\">https://wandb.ai/acse-jaq15/ACSE_9_MLP_AE/runs/12fgl6qj</a><br/>\n",
              "                Run data is saved locally in <code>/content/feeder_repo/wandb/run-20210723_153425-12fgl6qj</code><br/><br/>\n",
              "            "
            ],
            "text/plain": [
              "<IPython.core.display.HTML object>"
            ]
          },
          "metadata": {
            "tags": []
          }
        },
        {
          "output_type": "stream",
          "text": [
            "Epoch 1/100\n",
            "32/32 [==============================] - 4s 38ms/step - loss: 2.6226 - mean_squared_error: 2.6226 - mean_absolute_error: 0.8345 - val_loss: 0.0718 - val_mean_squared_error: 0.0718 - val_mean_absolute_error: 0.2433\n",
            "Epoch 2/100\n",
            "32/32 [==============================] - 0s 14ms/step - loss: 0.1325 - mean_squared_error: 0.1325 - mean_absolute_error: 0.2794 - val_loss: 0.0161 - val_mean_squared_error: 0.0161 - val_mean_absolute_error: 0.1008\n",
            "Epoch 3/100\n",
            "32/32 [==============================] - 0s 13ms/step - loss: 0.1278 - mean_squared_error: 0.1278 - mean_absolute_error: 0.1578 - val_loss: 0.0495 - val_mean_squared_error: 0.0495 - val_mean_absolute_error: 0.1890\n",
            "Epoch 4/100\n",
            "32/32 [==============================] - 0s 13ms/step - loss: 0.0223 - mean_squared_error: 0.0223 - mean_absolute_error: 0.1289 - val_loss: 0.0389 - val_mean_squared_error: 0.0389 - val_mean_absolute_error: 0.1712\n",
            "Epoch 5/100\n",
            "32/32 [==============================] - 0s 13ms/step - loss: 0.2318 - mean_squared_error: 0.2318 - mean_absolute_error: 0.3201 - val_loss: 0.0849 - val_mean_squared_error: 0.0849 - val_mean_absolute_error: 0.2629\n",
            "Epoch 6/100\n",
            "32/32 [==============================] - 0s 12ms/step - loss: 0.3061 - mean_squared_error: 0.3061 - mean_absolute_error: 0.3436 - val_loss: 0.0553 - val_mean_squared_error: 0.0553 - val_mean_absolute_error: 0.2081\n",
            "Epoch 7/100\n",
            "32/32 [==============================] - 0s 13ms/step - loss: 0.1220 - mean_squared_error: 0.1220 - mean_absolute_error: 0.2032 - val_loss: 0.0146 - val_mean_squared_error: 0.0146 - val_mean_absolute_error: 0.0992\n",
            "Epoch 8/100\n",
            "32/32 [==============================] - 1s 16ms/step - loss: 0.0397 - mean_squared_error: 0.0397 - mean_absolute_error: 0.1205 - val_loss: 0.0113 - val_mean_squared_error: 0.0113 - val_mean_absolute_error: 0.0861\n",
            "Epoch 9/100\n",
            "32/32 [==============================] - 0s 12ms/step - loss: 0.0194 - mean_squared_error: 0.0194 - mean_absolute_error: 0.0862 - val_loss: 0.0166 - val_mean_squared_error: 0.0166 - val_mean_absolute_error: 0.1012\n",
            "Epoch 10/100\n",
            "32/32 [==============================] - 0s 13ms/step - loss: 0.0343 - mean_squared_error: 0.0343 - mean_absolute_error: 0.1029 - val_loss: 0.0099 - val_mean_squared_error: 0.0099 - val_mean_absolute_error: 0.0822\n",
            "Epoch 11/100\n",
            "32/32 [==============================] - 0s 13ms/step - loss: 0.0299 - mean_squared_error: 0.0299 - mean_absolute_error: 0.1106 - val_loss: 0.0251 - val_mean_squared_error: 0.0251 - val_mean_absolute_error: 0.1261\n",
            "Epoch 12/100\n",
            "32/32 [==============================] - 0s 14ms/step - loss: 0.0104 - mean_squared_error: 0.0104 - mean_absolute_error: 0.0827 - val_loss: 0.0318 - val_mean_squared_error: 0.0318 - val_mean_absolute_error: 0.1547\n",
            "Epoch 13/100\n",
            "32/32 [==============================] - 0s 12ms/step - loss: 0.0655 - mean_squared_error: 0.0655 - mean_absolute_error: 0.2028 - val_loss: 0.0452 - val_mean_squared_error: 0.0452 - val_mean_absolute_error: 0.1899\n",
            "Epoch 14/100\n",
            "32/32 [==============================] - 0s 13ms/step - loss: 0.0590 - mean_squared_error: 0.0590 - mean_absolute_error: 0.1506 - val_loss: 0.0073 - val_mean_squared_error: 0.0073 - val_mean_absolute_error: 0.0684\n",
            "Epoch 15/100\n",
            "32/32 [==============================] - 0s 15ms/step - loss: 0.0206 - mean_squared_error: 0.0206 - mean_absolute_error: 0.1093 - val_loss: 0.0085 - val_mean_squared_error: 0.0085 - val_mean_absolute_error: 0.0712\n",
            "Epoch 16/100\n",
            "32/32 [==============================] - 0s 13ms/step - loss: 0.0486 - mean_squared_error: 0.0486 - mean_absolute_error: 0.1564 - val_loss: 0.0065 - val_mean_squared_error: 0.0065 - val_mean_absolute_error: 0.0640\n",
            "Epoch 17/100\n",
            "32/32 [==============================] - 0s 14ms/step - loss: 0.0483 - mean_squared_error: 0.0483 - mean_absolute_error: 0.1240 - val_loss: 0.0059 - val_mean_squared_error: 0.0059 - val_mean_absolute_error: 0.0602\n",
            "Epoch 18/100\n",
            "32/32 [==============================] - 0s 13ms/step - loss: 0.0116 - mean_squared_error: 0.0116 - mean_absolute_error: 0.0727 - val_loss: 0.0097 - val_mean_squared_error: 0.0097 - val_mean_absolute_error: 0.0780\n",
            "Epoch 19/100\n",
            "32/32 [==============================] - 0s 14ms/step - loss: 0.0070 - mean_squared_error: 0.0070 - mean_absolute_error: 0.0658 - val_loss: 0.0065 - val_mean_squared_error: 0.0065 - val_mean_absolute_error: 0.0636\n",
            "Epoch 20/100\n",
            "32/32 [==============================] - 0s 13ms/step - loss: 0.0464 - mean_squared_error: 0.0464 - mean_absolute_error: 0.1548 - val_loss: 0.0048 - val_mean_squared_error: 0.0048 - val_mean_absolute_error: 0.0548\n",
            "Epoch 21/100\n",
            "32/32 [==============================] - 0s 13ms/step - loss: 0.0239 - mean_squared_error: 0.0239 - mean_absolute_error: 0.0930 - val_loss: 0.0133 - val_mean_squared_error: 0.0133 - val_mean_absolute_error: 0.0933\n",
            "Epoch 22/100\n",
            "32/32 [==============================] - 0s 13ms/step - loss: 0.0078 - mean_squared_error: 0.0078 - mean_absolute_error: 0.0675 - val_loss: 0.1653 - val_mean_squared_error: 0.1653 - val_mean_absolute_error: 0.3640\n",
            "Epoch 23/100\n",
            "32/32 [==============================] - 0s 14ms/step - loss: 0.1756 - mean_squared_error: 0.1756 - mean_absolute_error: 0.2614 - val_loss: 0.0046 - val_mean_squared_error: 0.0046 - val_mean_absolute_error: 0.0533\n",
            "Epoch 24/100\n",
            "32/32 [==============================] - 0s 13ms/step - loss: 0.0062 - mean_squared_error: 0.0062 - mean_absolute_error: 0.0507 - val_loss: 0.0159 - val_mean_squared_error: 0.0159 - val_mean_absolute_error: 0.0965\n",
            "Epoch 25/100\n",
            "32/32 [==============================] - 0s 12ms/step - loss: 0.0144 - mean_squared_error: 0.0144 - mean_absolute_error: 0.0710 - val_loss: 0.0051 - val_mean_squared_error: 0.0051 - val_mean_absolute_error: 0.0571\n",
            "Epoch 26/100\n",
            "32/32 [==============================] - 0s 13ms/step - loss: 0.0304 - mean_squared_error: 0.0304 - mean_absolute_error: 0.0826 - val_loss: 0.0079 - val_mean_squared_error: 0.0079 - val_mean_absolute_error: 0.0705\n",
            "Epoch 27/100\n",
            "32/32 [==============================] - 0s 14ms/step - loss: 0.0021 - mean_squared_error: 0.0021 - mean_absolute_error: 0.0357 - val_loss: 0.0045 - val_mean_squared_error: 0.0045 - val_mean_absolute_error: 0.0528\n",
            "Epoch 28/100\n",
            "32/32 [==============================] - 0s 15ms/step - loss: 0.0482 - mean_squared_error: 0.0482 - mean_absolute_error: 0.1163 - val_loss: 0.0060 - val_mean_squared_error: 0.0060 - val_mean_absolute_error: 0.0601\n",
            "Epoch 29/100\n",
            "32/32 [==============================] - 0s 13ms/step - loss: 0.0023 - mean_squared_error: 0.0023 - mean_absolute_error: 0.0374 - val_loss: 0.0694 - val_mean_squared_error: 0.0694 - val_mean_absolute_error: 0.2349\n",
            "Epoch 30/100\n",
            "32/32 [==============================] - 0s 15ms/step - loss: 0.0231 - mean_squared_error: 0.0231 - mean_absolute_error: 0.1107 - val_loss: 0.0095 - val_mean_squared_error: 0.0095 - val_mean_absolute_error: 0.0778\n",
            "Epoch 31/100\n",
            "32/32 [==============================] - 0s 14ms/step - loss: 0.0526 - mean_squared_error: 0.0526 - mean_absolute_error: 0.1412 - val_loss: 0.0052 - val_mean_squared_error: 0.0052 - val_mean_absolute_error: 0.0540\n",
            "Epoch 32/100\n",
            "32/32 [==============================] - 0s 15ms/step - loss: 0.0059 - mean_squared_error: 0.0059 - mean_absolute_error: 0.0569 - val_loss: 0.1380 - val_mean_squared_error: 0.1380 - val_mean_absolute_error: 0.3393\n",
            "Epoch 33/100\n",
            "11/32 [=========>....................] - ETA: 0s - loss: 0.0252 - mean_squared_error: 0.0252 - mean_absolute_error: 0.1036"
          ],
          "name": "stdout"
        },
        {
          "output_type": "stream",
          "text": [
            "\u001b[34m\u001b[1mwandb\u001b[0m: Ctrl + C detected. Stopping sweep.\n"
          ],
          "name": "stderr"
        }
      ]
    },
    {
      "cell_type": "markdown",
      "metadata": {
        "id": "gFTu29dbi18i"
      },
      "source": [
        "# Setting up the best model\n",
        "Using the best values from the hyperparamter search with wandb, the most optimal model configuration is used."
      ]
    },
    {
      "cell_type": "code",
      "metadata": {
        "id": "NwsO8cDJPMdj"
      },
      "source": [
        "# picking the best values\n",
        "best_config = {\n",
        "    'epochs': 100,\n",
        "    'batch_size': 64,\n",
        "    'learning_rate': 0.0005,\n",
        "    'optimizer': 'adam',\n",
        "    'activation': 'selu'\n",
        "}"
      ],
      "execution_count": 17,
      "outputs": []
    },
    {
      "cell_type": "code",
      "metadata": {
        "colab": {
          "base_uri": "https://localhost:8080/"
        },
        "id": "iryNMYspuU2I",
        "outputId": "66f49952-7a96-46bf-abea-ced789efd426"
      },
      "source": [
        "# clearing the settings on the keras backend\n",
        "keras.backend.clear_session()\n",
        "\n",
        "# setting keras model to sequential mode\n",
        "model = Sequential()\n",
        "\n",
        "# layer 1\n",
        "model.add(Dense(256, activation=best_config['activation'], input_shape=(window_len, 1)))\n",
        "# layer 2\n",
        "model.add(Dense(128, activation=best_config['activation']))\n",
        "# layer 3\n",
        "model.add(Dense(64, activation=best_config['activation']))\n",
        "# layer 4\n",
        "model.add(Dense(32, activation=best_config['activation']))\n",
        "# layer 5\n",
        "model.add(Flatten())\n",
        "# layer 6\n",
        "model.add(RepeatVector(window_len))\n",
        "# layer 7\n",
        "model.add(Dense(32, activation=best_config['activation']))\n",
        "# layer 8\n",
        "model.add(Dense(64, activation=best_config['activation']))\n",
        "# layer 9\n",
        "model.add(Dense(128, activation=best_config['activation']))\n",
        "# layer 10\n",
        "model.add(Flatten())\n",
        "# layer 11\n",
        "model.add(Dense(1))\n",
        "\n",
        "# defining the optimiser\n",
        "if best_config['optimizer'] == 'sgd':\n",
        "  optimizer = SGD(learning_rate=best_config['learning_rate'], decay=1e-5, momentum=0.9, nesterov=True)\n",
        "elif best_config['optimizer'] == 'rmsprop':\n",
        "  optimizer = RMSprop(learning_rate=best_config['learning_rate'], decay=1e-5)\n",
        "elif best_config['optimizer'] == 'adam':\n",
        "  optimizer = Adam(learning_rate=best_config['learning_rate'], beta_1=0.9, beta_2=0.999, clipnorm=1.0)\n",
        "elif best_config['optimizer'] == 'nadam':\n",
        "  optimizer = Nadam(learning_rate=best_config['learning_rate'], beta_1=0.9, beta_2=0.999, clipnorm=1.0)\n",
        "\n",
        "# compile the model\n",
        "model.compile(optimizer, loss='mean_squared_error')\n",
        "\n",
        "# counting the number of trainable parameters\n",
        "trainable_count = count_params(model.trainable_weights)\n",
        "print('Total number of trainable parameters: ', trainable_count)"
      ],
      "execution_count": 18,
      "outputs": [
        {
          "output_type": "stream",
          "text": [
            "Total number of trainable parameters:  88769\n"
          ],
          "name": "stdout"
        }
      ]
    },
    {
      "cell_type": "code",
      "metadata": {
        "colab": {
          "base_uri": "https://localhost:8080/"
        },
        "id": "5UG8j_4r7kSu",
        "outputId": "9963ca14-e551-45ee-baaa-22bafcc20857"
      },
      "source": [
        "model.summary()"
      ],
      "execution_count": 19,
      "outputs": [
        {
          "output_type": "stream",
          "text": [
            "Model: \"sequential\"\n",
            "_________________________________________________________________\n",
            "Layer (type)                 Output Shape              Param #   \n",
            "=================================================================\n",
            "dense (Dense)                (None, 30, 256)           512       \n",
            "_________________________________________________________________\n",
            "dense_1 (Dense)              (None, 30, 128)           32896     \n",
            "_________________________________________________________________\n",
            "dense_2 (Dense)              (None, 30, 64)            8256      \n",
            "_________________________________________________________________\n",
            "dense_3 (Dense)              (None, 30, 32)            2080      \n",
            "_________________________________________________________________\n",
            "flatten (Flatten)            (None, 960)               0         \n",
            "_________________________________________________________________\n",
            "repeat_vector (RepeatVector) (None, 30, 960)           0         \n",
            "_________________________________________________________________\n",
            "dense_4 (Dense)              (None, 30, 32)            30752     \n",
            "_________________________________________________________________\n",
            "dense_5 (Dense)              (None, 30, 64)            2112      \n",
            "_________________________________________________________________\n",
            "dense_6 (Dense)              (None, 30, 128)           8320      \n",
            "_________________________________________________________________\n",
            "flatten_1 (Flatten)          (None, 3840)              0         \n",
            "_________________________________________________________________\n",
            "dense_7 (Dense)              (None, 1)                 3841      \n",
            "=================================================================\n",
            "Total params: 88,769\n",
            "Trainable params: 88,769\n",
            "Non-trainable params: 0\n",
            "_________________________________________________________________\n"
          ],
          "name": "stdout"
        }
      ]
    },
    {
      "cell_type": "code",
      "metadata": {
        "colab": {
          "base_uri": "https://localhost:8080/"
        },
        "id": "W3v718GcE39o",
        "outputId": "6ffbb1c6-7d0f-4655-9c1b-4ef22b716730"
      },
      "source": [
        "# fitting the model to the training dataset\n",
        "model.fit(X_train, y_train, epochs=best_config['epochs'], batch_size=best_config['batch_size'])"
      ],
      "execution_count": 20,
      "outputs": [
        {
          "output_type": "stream",
          "text": [
            "Epoch 1/100\n",
            "20/20 [==============================] - 2s 7ms/step - loss: 0.4550\n",
            "Epoch 2/100\n",
            "20/20 [==============================] - 0s 8ms/step - loss: 0.0044\n",
            "Epoch 3/100\n",
            "20/20 [==============================] - 0s 9ms/step - loss: 0.0020\n",
            "Epoch 4/100\n",
            "20/20 [==============================] - 0s 8ms/step - loss: 0.0014\n",
            "Epoch 5/100\n",
            "20/20 [==============================] - 0s 8ms/step - loss: 0.0013\n",
            "Epoch 6/100\n",
            "20/20 [==============================] - 0s 8ms/step - loss: 0.0014\n",
            "Epoch 7/100\n",
            "20/20 [==============================] - 0s 8ms/step - loss: 0.0011\n",
            "Epoch 8/100\n",
            "20/20 [==============================] - 0s 8ms/step - loss: 8.6411e-04\n",
            "Epoch 9/100\n",
            "20/20 [==============================] - 0s 9ms/step - loss: 9.5798e-04\n",
            "Epoch 10/100\n",
            "20/20 [==============================] - 0s 8ms/step - loss: 0.0015\n",
            "Epoch 11/100\n",
            "20/20 [==============================] - 0s 8ms/step - loss: 0.0012\n",
            "Epoch 12/100\n",
            "20/20 [==============================] - 0s 9ms/step - loss: 0.0023\n",
            "Epoch 13/100\n",
            "20/20 [==============================] - 0s 9ms/step - loss: 0.0015\n",
            "Epoch 14/100\n",
            "20/20 [==============================] - 0s 8ms/step - loss: 8.2805e-04\n",
            "Epoch 15/100\n",
            "20/20 [==============================] - 0s 8ms/step - loss: 0.0011\n",
            "Epoch 16/100\n",
            "20/20 [==============================] - 0s 9ms/step - loss: 9.3398e-04\n",
            "Epoch 17/100\n",
            "20/20 [==============================] - 0s 7ms/step - loss: 7.3201e-04\n",
            "Epoch 18/100\n",
            "20/20 [==============================] - 0s 8ms/step - loss: 8.4540e-04\n",
            "Epoch 19/100\n",
            "20/20 [==============================] - 0s 9ms/step - loss: 0.0011\n",
            "Epoch 20/100\n",
            "20/20 [==============================] - 0s 9ms/step - loss: 0.0010\n",
            "Epoch 21/100\n",
            "20/20 [==============================] - 0s 9ms/step - loss: 8.2707e-04\n",
            "Epoch 22/100\n",
            "20/20 [==============================] - 0s 8ms/step - loss: 7.3410e-04\n",
            "Epoch 23/100\n",
            "20/20 [==============================] - 0s 8ms/step - loss: 6.4753e-04\n",
            "Epoch 24/100\n",
            "20/20 [==============================] - 0s 8ms/step - loss: 7.5285e-04\n",
            "Epoch 25/100\n",
            "20/20 [==============================] - 0s 8ms/step - loss: 8.7018e-04\n",
            "Epoch 26/100\n",
            "20/20 [==============================] - 0s 9ms/step - loss: 0.0017\n",
            "Epoch 27/100\n",
            "20/20 [==============================] - 0s 9ms/step - loss: 0.0012\n",
            "Epoch 28/100\n",
            "20/20 [==============================] - 0s 8ms/step - loss: 7.7304e-04\n",
            "Epoch 29/100\n",
            "20/20 [==============================] - 0s 8ms/step - loss: 8.0459e-04\n",
            "Epoch 30/100\n",
            "20/20 [==============================] - 0s 8ms/step - loss: 6.3621e-04\n",
            "Epoch 31/100\n",
            "20/20 [==============================] - 0s 8ms/step - loss: 8.8782e-04\n",
            "Epoch 32/100\n",
            "20/20 [==============================] - 0s 9ms/step - loss: 6.7178e-04\n",
            "Epoch 33/100\n",
            "20/20 [==============================] - 0s 8ms/step - loss: 6.1521e-04\n",
            "Epoch 34/100\n",
            "20/20 [==============================] - 0s 8ms/step - loss: 6.0236e-04\n",
            "Epoch 35/100\n",
            "20/20 [==============================] - 0s 9ms/step - loss: 6.7019e-04\n",
            "Epoch 36/100\n",
            "20/20 [==============================] - 0s 8ms/step - loss: 6.3895e-04\n",
            "Epoch 37/100\n",
            "20/20 [==============================] - 0s 8ms/step - loss: 9.2189e-04\n",
            "Epoch 38/100\n",
            "20/20 [==============================] - 0s 8ms/step - loss: 8.4576e-04\n",
            "Epoch 39/100\n",
            "20/20 [==============================] - 0s 7ms/step - loss: 0.0011\n",
            "Epoch 40/100\n",
            "20/20 [==============================] - 0s 8ms/step - loss: 0.0012\n",
            "Epoch 41/100\n",
            "20/20 [==============================] - 0s 8ms/step - loss: 0.0011\n",
            "Epoch 42/100\n",
            "20/20 [==============================] - 0s 8ms/step - loss: 0.0010\n",
            "Epoch 43/100\n",
            "20/20 [==============================] - 0s 7ms/step - loss: 0.0010\n",
            "Epoch 44/100\n",
            "20/20 [==============================] - 0s 8ms/step - loss: 6.8736e-04\n",
            "Epoch 45/100\n",
            "20/20 [==============================] - 0s 8ms/step - loss: 6.6274e-04\n",
            "Epoch 46/100\n",
            "20/20 [==============================] - 0s 8ms/step - loss: 6.0990e-04\n",
            "Epoch 47/100\n",
            "20/20 [==============================] - 0s 8ms/step - loss: 7.5826e-04\n",
            "Epoch 48/100\n",
            "20/20 [==============================] - 0s 8ms/step - loss: 6.3392e-04\n",
            "Epoch 49/100\n",
            "20/20 [==============================] - 0s 8ms/step - loss: 7.3318e-04\n",
            "Epoch 50/100\n",
            "20/20 [==============================] - 0s 8ms/step - loss: 6.7536e-04\n",
            "Epoch 51/100\n",
            "20/20 [==============================] - 0s 8ms/step - loss: 5.4216e-04\n",
            "Epoch 52/100\n",
            "20/20 [==============================] - 0s 8ms/step - loss: 6.7414e-04\n",
            "Epoch 53/100\n",
            "20/20 [==============================] - 0s 8ms/step - loss: 6.1677e-04\n",
            "Epoch 54/100\n",
            "20/20 [==============================] - 0s 8ms/step - loss: 6.4045e-04\n",
            "Epoch 55/100\n",
            "20/20 [==============================] - 0s 8ms/step - loss: 6.1173e-04\n",
            "Epoch 56/100\n",
            "20/20 [==============================] - 0s 10ms/step - loss: 6.3778e-04\n",
            "Epoch 57/100\n",
            "20/20 [==============================] - 0s 8ms/step - loss: 9.4185e-04\n",
            "Epoch 58/100\n",
            "20/20 [==============================] - 0s 8ms/step - loss: 6.5211e-04\n",
            "Epoch 59/100\n",
            "20/20 [==============================] - 0s 8ms/step - loss: 9.9879e-04\n",
            "Epoch 60/100\n",
            "20/20 [==============================] - 0s 8ms/step - loss: 9.2486e-04\n",
            "Epoch 61/100\n",
            "20/20 [==============================] - 0s 8ms/step - loss: 8.3114e-04\n",
            "Epoch 62/100\n",
            "20/20 [==============================] - 0s 8ms/step - loss: 7.4759e-04\n",
            "Epoch 63/100\n",
            "20/20 [==============================] - 0s 9ms/step - loss: 6.5465e-04\n",
            "Epoch 64/100\n",
            "20/20 [==============================] - 0s 8ms/step - loss: 7.9001e-04\n",
            "Epoch 65/100\n",
            "20/20 [==============================] - 0s 8ms/step - loss: 5.5763e-04\n",
            "Epoch 66/100\n",
            "20/20 [==============================] - 0s 8ms/step - loss: 6.0270e-04\n",
            "Epoch 67/100\n",
            "20/20 [==============================] - 0s 8ms/step - loss: 5.9273e-04\n",
            "Epoch 68/100\n",
            "20/20 [==============================] - 0s 8ms/step - loss: 0.0012\n",
            "Epoch 69/100\n",
            "20/20 [==============================] - 0s 9ms/step - loss: 0.0011\n",
            "Epoch 70/100\n",
            "20/20 [==============================] - 0s 8ms/step - loss: 8.0022e-04\n",
            "Epoch 71/100\n",
            "20/20 [==============================] - 0s 9ms/step - loss: 6.4733e-04\n",
            "Epoch 72/100\n",
            "20/20 [==============================] - 0s 8ms/step - loss: 8.7514e-04\n",
            "Epoch 73/100\n",
            "20/20 [==============================] - 0s 8ms/step - loss: 6.3606e-04\n",
            "Epoch 74/100\n",
            "20/20 [==============================] - 0s 9ms/step - loss: 7.7218e-04\n",
            "Epoch 75/100\n",
            "20/20 [==============================] - 0s 8ms/step - loss: 8.2277e-04\n",
            "Epoch 76/100\n",
            "20/20 [==============================] - 0s 9ms/step - loss: 7.1881e-04\n",
            "Epoch 77/100\n",
            "20/20 [==============================] - 0s 8ms/step - loss: 8.9837e-04\n",
            "Epoch 78/100\n",
            "20/20 [==============================] - 0s 8ms/step - loss: 7.7585e-04\n",
            "Epoch 79/100\n",
            "20/20 [==============================] - 0s 8ms/step - loss: 0.0013\n",
            "Epoch 80/100\n",
            "20/20 [==============================] - 0s 8ms/step - loss: 6.7475e-04\n",
            "Epoch 81/100\n",
            "20/20 [==============================] - 0s 8ms/step - loss: 6.1298e-04\n",
            "Epoch 82/100\n",
            "20/20 [==============================] - 0s 8ms/step - loss: 6.0521e-04\n",
            "Epoch 83/100\n",
            "20/20 [==============================] - 0s 8ms/step - loss: 5.5499e-04\n",
            "Epoch 84/100\n",
            "20/20 [==============================] - 0s 8ms/step - loss: 5.9287e-04\n",
            "Epoch 85/100\n",
            "20/20 [==============================] - 0s 9ms/step - loss: 6.5636e-04\n",
            "Epoch 86/100\n",
            "20/20 [==============================] - 0s 9ms/step - loss: 8.0720e-04\n",
            "Epoch 87/100\n",
            "20/20 [==============================] - 0s 8ms/step - loss: 0.0013\n",
            "Epoch 88/100\n",
            "20/20 [==============================] - 0s 8ms/step - loss: 8.3451e-04\n",
            "Epoch 89/100\n",
            "20/20 [==============================] - 0s 8ms/step - loss: 6.6862e-04\n",
            "Epoch 90/100\n",
            "20/20 [==============================] - 0s 8ms/step - loss: 0.0010\n",
            "Epoch 91/100\n",
            "20/20 [==============================] - 0s 9ms/step - loss: 8.2548e-04\n",
            "Epoch 92/100\n",
            "20/20 [==============================] - 0s 9ms/step - loss: 5.4307e-04\n",
            "Epoch 93/100\n",
            "20/20 [==============================] - 0s 9ms/step - loss: 6.4591e-04\n",
            "Epoch 94/100\n",
            "20/20 [==============================] - 0s 9ms/step - loss: 8.3631e-04\n",
            "Epoch 95/100\n",
            "20/20 [==============================] - 0s 8ms/step - loss: 6.5474e-04\n",
            "Epoch 96/100\n",
            "20/20 [==============================] - 0s 8ms/step - loss: 6.7236e-04\n",
            "Epoch 97/100\n",
            "20/20 [==============================] - 0s 9ms/step - loss: 9.9699e-04\n",
            "Epoch 98/100\n",
            "20/20 [==============================] - 0s 9ms/step - loss: 7.1342e-04\n",
            "Epoch 99/100\n",
            "20/20 [==============================] - 0s 8ms/step - loss: 5.7797e-04\n",
            "Epoch 100/100\n",
            "20/20 [==============================] - 0s 8ms/step - loss: 7.9610e-04\n"
          ],
          "name": "stdout"
        },
        {
          "output_type": "execute_result",
          "data": {
            "text/plain": [
              "<keras.callbacks.History at 0x7f053c899f50>"
            ]
          },
          "metadata": {
            "tags": []
          },
          "execution_count": 20
        }
      ]
    },
    {
      "cell_type": "code",
      "metadata": {
        "id": "rTXJN51l9Y-F"
      },
      "source": [
        "# creating an instance of Baseline_Model class using X_test\n",
        "base_model = Base_Model(X_test, window_len)\n",
        "# calling predict_y method\n",
        "base_model.predict_y(in_data.test_len - window_len)\n",
        "\n",
        "# using the model to predict y from X_test\n",
        "y_pred = model.predict(X_test)\n",
        "# assigning y_dummy variable to .y_pred class attribute\n",
        "y_dummy = base_model.y_pred\n",
        "\n",
        "# calling class method extract_real_price to generate unnormalised prices\n",
        "in_data.extract_real_prices(y_pred, y_dummy)\n",
        "\n",
        "# assinging y_true variable\n",
        "y_true = in_data.y_true\n",
        "\n",
        "# assigning actual_price, predicted_price and dummy_price\n",
        "actual_price = in_data.actual_price\n",
        "predicted_price = in_data.predicted_price\n",
        "dummy_price = in_data.dummy_price"
      ],
      "execution_count": 21,
      "outputs": []
    },
    {
      "cell_type": "markdown",
      "metadata": {
        "id": "H-D-XHyRjFMp"
      },
      "source": [
        "# Plotting the prediction results and getting errors\n",
        "The cells below plot the actual, predicted and dummy prices using the Security_Plotter class before finally saving the model and plot."
      ]
    },
    {
      "cell_type": "code",
      "metadata": {
        "colab": {
          "base_uri": "https://localhost:8080/",
          "height": 395
        },
        "id": "PgjvooOD3jq3",
        "outputId": "333e092d-4ea9-4bb8-cee9-e4b681133a93"
      },
      "source": [
        "plotter = Security_Plotter(in_data, actual_price, predicted_price,\n",
        "                            dummy_price, in_data.train_len, window_len, in_str, model_str)\n",
        "\n",
        "plotter.single_plot()"
      ],
      "execution_count": 22,
      "outputs": [
        {
          "output_type": "display_data",
          "data": {
            "image/png": "[encoded data removed]",
            "text/plain": [
              "<Figure size 864x432 with 1 Axes>"
            ]
          },
          "metadata": {
            "tags": [],
            "needs_background": "light"
          }
        }
      ]
    },
    {
      "cell_type": "code",
      "metadata": {
        "colab": {
          "base_uri": "https://localhost:8080/",
          "height": 1000
        },
        "id": "AxaH7IUCxSXw",
        "outputId": "ebda0c54-6daf-486e-b7e1-83552a32f5b8"
      },
      "source": [
        "plot_model(model, show_shapes=True, expand_nested=True)"
      ],
      "execution_count": 23,
      "outputs": [
        {
          "output_type": "execute_result",
          "data": {
            "image/png": "[encoded data removed]",
            "text/plain": [
              "<IPython.core.display.Image object>"
            ]
          },
          "metadata": {
            "tags": []
          },
          "execution_count": 23
        }
      ]
    },
    {
      "cell_type": "code",
      "metadata": {
        "colab": {
          "base_uri": "https://localhost:8080/"
        },
        "id": "bFfQGfb79SJS",
        "outputId": "9f38b9fb-af2d-4fa1-c877-3a7d4d366d3b"
      },
      "source": [
        "# calculating mean squared error\n",
        "mse = mean_squared_error(y_true, y_pred)\n",
        "d_mse = mean_squared_error(y_true, y_dummy)\n",
        "\n",
        "# calculating root mean squared error\n",
        "rmse = mean_squared_error(y_true, y_pred, squared=False)\n",
        "d_rmse = mean_squared_error(y_true, y_dummy, squared=False)\n",
        "\n",
        "# calculating mean absolute error\n",
        "mae = mean_absolute_error(y_true, y_pred)\n",
        "d_mae = mean_absolute_error(y_true, y_dummy)\n",
        "\n",
        "print('MSE: ', mse)\n",
        "print('RMSE: ', rmse)\n",
        "print('MAE: ', mae)\n",
        "print('Dummy MSE: ', d_mse)\n",
        "print('Dummy RMSE: ', d_rmse)\n",
        "print('Dummy MAE: ', d_mae)"
      ],
      "execution_count": 24,
      "outputs": [
        {
          "output_type": "stream",
          "text": [
            "MSE:  0.0021226679407225823\n",
            "RMSE:  0.0460724206084571\n",
            "MAE:  0.037024374049720955\n",
            "Dummy MSE:  0.011907945328582062\n",
            "Dummy RMSE:  0.10912353242349727\n",
            "Dummy MAE:  0.08287353397503001\n"
          ],
          "name": "stdout"
        }
      ]
    },
    {
      "cell_type": "code",
      "metadata": {
        "colab": {
          "base_uri": "https://localhost:8080/"
        },
        "id": "4YttzJHHU4-s",
        "outputId": "d5cf14c5-bf12-43b1-9e91-87ecfb110573"
      },
      "source": [
        "# creating a string to save the model based on model name\n",
        "save_path = '/content/gdrive/My Drive/models/'+model_str+'_'+in_str+'/'\n",
        "# mounting google drive for easy storage of model\n",
        "from google.colab import drive\n",
        "# mounting the drive\n",
        "drive.mount('/content/gdrive/')\n",
        "# making the relevant directory to store the model\n",
        "os.mkdir(save_path)\n",
        "# saving the model\n",
        "keras.models.save_model(model, save_path)\n",
        "# saving the model graph\n",
        "model_graph = plot_model(model, to_file=save_path+model_str+'_'+in_str+'_graph_.png', show_shapes=True, expand_nested=True)\n",
        "# saving the matplotlib plot\n",
        "plotter.fig.savefig(save_path+model_str+'_'+in_str+'_plot.png', bbox_inches='tight')\n",
        "# saving the error metrics as a text file\n",
        "error_file = open(save_path+model_str+'_'+in_str+'_metrics.txt', 'w+')\n",
        "error_file.write('MSE: '+str(mse)+'\\n'+'RMSE: '+str(rmse)+'\\n'+'MAE: '+str(mae)+'\\n'+\n",
        "                 'Dummy MSE: '+str(d_mse)+'\\n'+'Dummy RMSE: '+str(d_rmse)+'\\n'+'Dummy MAE: '+str(d_mae))\n",
        "error_file.close()"
      ],
      "execution_count": 25,
      "outputs": [
        {
          "output_type": "stream",
          "text": [
            "Mounted at /content/gdrive/\n",
            "INFO:tensorflow:Assets written to: /content/gdrive/My Drive/models/MLP_AE_Treasury10y/assets\n"
          ],
          "name": "stdout"
        }
      ]
    }
  ]
}