{
  "nbformat": 4,
  "nbformat_minor": 0,
  "metadata": {
    "colab": {
      "name": "LSTM_GRU_Corn.ipynb",
      "provenance": [],
      "collapsed_sections": [],
      "authorship_tag": "ABX9TyNRojIAScmRAPWdtnZg1cpd",
      "include_colab_link": true
    },
    "kernelspec": {
      "name": "python3",
      "display_name": "Python 3"
    },
    "language_info": {
      "name": "python"
    },
    "accelerator": "GPU",
    "widgets": {
      "application/vnd.jupyter.widget-state+json": {
        "7f74dc319d6c40cb8dd0bef791763215": {
          "model_module": "@jupyter-widgets/controls",
          "model_name": "VBoxModel",
          "state": {
            "_view_name": "VBoxView",
            "_dom_classes": [],
            "_model_name": "VBoxModel",
            "_view_module": "@jupyter-widgets/controls",
            "_model_module_version": "1.5.0",
            "_view_count": null,
            "_view_module_version": "1.5.0",
            "box_style": "",
            "layout": "IPY_MODEL_248b770acace42b99336a5cce6244106",
            "_model_module": "@jupyter-widgets/controls",
            "children": [
              "IPY_MODEL_82cd85cf5e0c4a48830a465ea2e27408",
              "IPY_MODEL_0581b6f067c94a1cb2d11968c17c2124"
            ]
          }
        },
        "248b770acace42b99336a5cce6244106": {
          "model_module": "@jupyter-widgets/base",
          "model_name": "LayoutModel",
          "state": {
            "_view_name": "LayoutView",
            "grid_template_rows": null,
            "right": null,
            "justify_content": null,
            "_view_module": "@jupyter-widgets/base",
            "overflow": null,
            "_model_module_version": "1.2.0",
            "_view_count": null,
            "flex_flow": null,
            "width": null,
            "min_width": null,
            "border": null,
            "align_items": null,
            "bottom": null,
            "_model_module": "@jupyter-widgets/base",
            "top": null,
            "grid_column": null,
            "overflow_y": null,
            "overflow_x": null,
            "grid_auto_flow": null,
            "grid_area": null,
            "grid_template_columns": null,
            "flex": null,
            "_model_name": "LayoutModel",
            "justify_items": null,
            "grid_row": null,
            "max_height": null,
            "align_content": null,
            "visibility": null,
            "align_self": null,
            "height": null,
            "min_height": null,
            "padding": null,
            "grid_auto_rows": null,
            "grid_gap": null,
            "max_width": null,
            "order": null,
            "_view_module_version": "1.2.0",
            "grid_template_areas": null,
            "object_position": null,
            "object_fit": null,
            "grid_auto_columns": null,
            "margin": null,
            "display": null,
            "left": null
          }
        },
        "82cd85cf5e0c4a48830a465ea2e27408": {
          "model_module": "@jupyter-widgets/controls",
          "model_name": "LabelModel",
          "state": {
            "_view_name": "LabelView",
            "style": "IPY_MODEL_13b76f32068a4b2fb5da03338e1afaf6",
            "_dom_classes": [],
            "description": "",
            "_model_name": "LabelModel",
            "placeholder": "​",
            "_view_module": "@jupyter-widgets/controls",
            "_model_module_version": "1.5.0",
            "value": " 0.77MB of 0.77MB uploaded (0.00MB deduped)\r",
            "_view_count": null,
            "_view_module_version": "1.5.0",
            "description_tooltip": null,
            "_model_module": "@jupyter-widgets/controls",
            "layout": "IPY_MODEL_a9b67dd26f004c6fb605fafcd533980d"
          }
        },
        "0581b6f067c94a1cb2d11968c17c2124": {
          "model_module": "@jupyter-widgets/controls",
          "model_name": "FloatProgressModel",
          "state": {
            "_view_name": "ProgressView",
            "style": "IPY_MODEL_2e0330c9bd33403396926bfd67d03433",
            "_dom_classes": [],
            "description": "",
            "_model_name": "FloatProgressModel",
            "bar_style": "",
            "max": 1,
            "_view_module": "@jupyter-widgets/controls",
            "_model_module_version": "1.5.0",
            "value": 1,
            "_view_count": null,
            "_view_module_version": "1.5.0",
            "orientation": "horizontal",
            "min": 0,
            "description_tooltip": null,
            "_model_module": "@jupyter-widgets/controls",
            "layout": "IPY_MODEL_59642af2006f41d79506cd6449ece1d3"
          }
        },
        "13b76f32068a4b2fb5da03338e1afaf6": {
          "model_module": "@jupyter-widgets/controls",
          "model_name": "DescriptionStyleModel",
          "state": {
            "_view_name": "StyleView",
            "_model_name": "DescriptionStyleModel",
            "description_width": "",
            "_view_module": "@jupyter-widgets/base",
            "_model_module_version": "1.5.0",
            "_view_count": null,
            "_view_module_version": "1.2.0",
            "_model_module": "@jupyter-widgets/controls"
          }
        },
        "a9b67dd26f004c6fb605fafcd533980d": {
          "model_module": "@jupyter-widgets/base",
          "model_name": "LayoutModel",
          "state": {
            "_view_name": "LayoutView",
            "grid_template_rows": null,
            "right": null,
            "justify_content": null,
            "_view_module": "@jupyter-widgets/base",
            "overflow": null,
            "_model_module_version": "1.2.0",
            "_view_count": null,
            "flex_flow": null,
            "width": null,
            "min_width": null,
            "border": null,
            "align_items": null,
            "bottom": null,
            "_model_module": "@jupyter-widgets/base",
            "top": null,
            "grid_column": null,
            "overflow_y": null,
            "overflow_x": null,
            "grid_auto_flow": null,
            "grid_area": null,
            "grid_template_columns": null,
            "flex": null,
            "_model_name": "LayoutModel",
            "justify_items": null,
            "grid_row": null,
            "max_height": null,
            "align_content": null,
            "visibility": null,
            "align_self": null,
            "height": null,
            "min_height": null,
            "padding": null,
            "grid_auto_rows": null,
            "grid_gap": null,
            "max_width": null,
            "order": null,
            "_view_module_version": "1.2.0",
            "grid_template_areas": null,
            "object_position": null,
            "object_fit": null,
            "grid_auto_columns": null,
            "margin": null,
            "display": null,
            "left": null
          }
        },
        "2e0330c9bd33403396926bfd67d03433": {
          "model_module": "@jupyter-widgets/controls",
          "model_name": "ProgressStyleModel",
          "state": {
            "_view_name": "StyleView",
            "_model_name": "ProgressStyleModel",
            "description_width": "",
            "_view_module": "@jupyter-widgets/base",
            "_model_module_version": "1.5.0",
            "_view_count": null,
            "_view_module_version": "1.2.0",
            "bar_color": null,
            "_model_module": "@jupyter-widgets/controls"
          }
        },
        "59642af2006f41d79506cd6449ece1d3": {
          "model_module": "@jupyter-widgets/base",
          "model_name": "LayoutModel",
          "state": {
            "_view_name": "LayoutView",
            "grid_template_rows": null,
            "right": null,
            "justify_content": null,
            "_view_module": "@jupyter-widgets/base",
            "overflow": null,
            "_model_module_version": "1.2.0",
            "_view_count": null,
            "flex_flow": null,
            "width": null,
            "min_width": null,
            "border": null,
            "align_items": null,
            "bottom": null,
            "_model_module": "@jupyter-widgets/base",
            "top": null,
            "grid_column": null,
            "overflow_y": null,
            "overflow_x": null,
            "grid_auto_flow": null,
            "grid_area": null,
            "grid_template_columns": null,
            "flex": null,
            "_model_name": "LayoutModel",
            "justify_items": null,
            "grid_row": null,
            "max_height": null,
            "align_content": null,
            "visibility": null,
            "align_self": null,
            "height": null,
            "min_height": null,
            "padding": null,
            "grid_auto_rows": null,
            "grid_gap": null,
            "max_width": null,
            "order": null,
            "_view_module_version": "1.2.0",
            "grid_template_areas": null,
            "object_position": null,
            "object_fit": null,
            "grid_auto_columns": null,
            "margin": null,
            "display": null,
            "left": null
          }
        },
        "11d7d5c5b174481fa108f55c3bc3d76e": {
          "model_module": "@jupyter-widgets/controls",
          "model_name": "VBoxModel",
          "state": {
            "_view_name": "VBoxView",
            "_dom_classes": [],
            "_model_name": "VBoxModel",
            "_view_module": "@jupyter-widgets/controls",
            "_model_module_version": "1.5.0",
            "_view_count": null,
            "_view_module_version": "1.5.0",
            "box_style": "",
            "layout": "IPY_MODEL_5004af3ee1d34cd8a2b7f737cb263883",
            "_model_module": "@jupyter-widgets/controls",
            "children": [
              "IPY_MODEL_325b9c115eee4be1914e41ad5056b8f1",
              "IPY_MODEL_17e89914ad4643a58ca2c8ea2402d7f1"
            ]
          }
        },
        "5004af3ee1d34cd8a2b7f737cb263883": {
          "model_module": "@jupyter-widgets/base",
          "model_name": "LayoutModel",
          "state": {
            "_view_name": "LayoutView",
            "grid_template_rows": null,
            "right": null,
            "justify_content": null,
            "_view_module": "@jupyter-widgets/base",
            "overflow": null,
            "_model_module_version": "1.2.0",
            "_view_count": null,
            "flex_flow": null,
            "width": null,
            "min_width": null,
            "border": null,
            "align_items": null,
            "bottom": null,
            "_model_module": "@jupyter-widgets/base",
            "top": null,
            "grid_column": null,
            "overflow_y": null,
            "overflow_x": null,
            "grid_auto_flow": null,
            "grid_area": null,
            "grid_template_columns": null,
            "flex": null,
            "_model_name": "LayoutModel",
            "justify_items": null,
            "grid_row": null,
            "max_height": null,
            "align_content": null,
            "visibility": null,
            "align_self": null,
            "height": null,
            "min_height": null,
            "padding": null,
            "grid_auto_rows": null,
            "grid_gap": null,
            "max_width": null,
            "order": null,
            "_view_module_version": "1.2.0",
            "grid_template_areas": null,
            "object_position": null,
            "object_fit": null,
            "grid_auto_columns": null,
            "margin": null,
            "display": null,
            "left": null
          }
        },
        "325b9c115eee4be1914e41ad5056b8f1": {
          "model_module": "@jupyter-widgets/controls",
          "model_name": "LabelModel",
          "state": {
            "_view_name": "LabelView",
            "style": "IPY_MODEL_f1fe5eeee53c42178559c3bdeddace22",
            "_dom_classes": [],
            "description": "",
            "_model_name": "LabelModel",
            "placeholder": "​",
            "_view_module": "@jupyter-widgets/controls",
            "_model_module_version": "1.5.0",
            "value": " 0.79MB of 0.79MB uploaded (0.00MB deduped)\r",
            "_view_count": null,
            "_view_module_version": "1.5.0",
            "description_tooltip": null,
            "_model_module": "@jupyter-widgets/controls",
            "layout": "IPY_MODEL_0260e9920fe64780ade3fa31ef22a8be"
          }
        },
        "17e89914ad4643a58ca2c8ea2402d7f1": {
          "model_module": "@jupyter-widgets/controls",
          "model_name": "FloatProgressModel",
          "state": {
            "_view_name": "ProgressView",
            "style": "IPY_MODEL_d2fcad4afc624e7b99c5b42fb0ebd2d6",
            "_dom_classes": [],
            "description": "",
            "_model_name": "FloatProgressModel",
            "bar_style": "",
            "max": 1,
            "_view_module": "@jupyter-widgets/controls",
            "_model_module_version": "1.5.0",
            "value": 1,
            "_view_count": null,
            "_view_module_version": "1.5.0",
            "orientation": "horizontal",
            "min": 0,
            "description_tooltip": null,
            "_model_module": "@jupyter-widgets/controls",
            "layout": "IPY_MODEL_4c4c063fa724403cb3a4ab826a2aa8cf"
          }
        },
        "f1fe5eeee53c42178559c3bdeddace22": {
          "model_module": "@jupyter-widgets/controls",
          "model_name": "DescriptionStyleModel",
          "state": {
            "_view_name": "StyleView",
            "_model_name": "DescriptionStyleModel",
            "description_width": "",
            "_view_module": "@jupyter-widgets/base",
            "_model_module_version": "1.5.0",
            "_view_count": null,
            "_view_module_version": "1.2.0",
            "_model_module": "@jupyter-widgets/controls"
          }
        },
        "0260e9920fe64780ade3fa31ef22a8be": {
          "model_module": "@jupyter-widgets/base",
          "model_name": "LayoutModel",
          "state": {
            "_view_name": "LayoutView",
            "grid_template_rows": null,
            "right": null,
            "justify_content": null,
            "_view_module": "@jupyter-widgets/base",
            "overflow": null,
            "_model_module_version": "1.2.0",
            "_view_count": null,
            "flex_flow": null,
            "width": null,
            "min_width": null,
            "border": null,
            "align_items": null,
            "bottom": null,
            "_model_module": "@jupyter-widgets/base",
            "top": null,
            "grid_column": null,
            "overflow_y": null,
            "overflow_x": null,
            "grid_auto_flow": null,
            "grid_area": null,
            "grid_template_columns": null,
            "flex": null,
            "_model_name": "LayoutModel",
            "justify_items": null,
            "grid_row": null,
            "max_height": null,
            "align_content": null,
            "visibility": null,
            "align_self": null,
            "height": null,
            "min_height": null,
            "padding": null,
            "grid_auto_rows": null,
            "grid_gap": null,
            "max_width": null,
            "order": null,
            "_view_module_version": "1.2.0",
            "grid_template_areas": null,
            "object_position": null,
            "object_fit": null,
            "grid_auto_columns": null,
            "margin": null,
            "display": null,
            "left": null
          }
        },
        "d2fcad4afc624e7b99c5b42fb0ebd2d6": {
          "model_module": "@jupyter-widgets/controls",
          "model_name": "ProgressStyleModel",
          "state": {
            "_view_name": "StyleView",
            "_model_name": "ProgressStyleModel",
            "description_width": "",
            "_view_module": "@jupyter-widgets/base",
            "_model_module_version": "1.5.0",
            "_view_count": null,
            "_view_module_version": "1.2.0",
            "bar_color": null,
            "_model_module": "@jupyter-widgets/controls"
          }
        },
        "4c4c063fa724403cb3a4ab826a2aa8cf": {
          "model_module": "@jupyter-widgets/base",
          "model_name": "LayoutModel",
          "state": {
            "_view_name": "LayoutView",
            "grid_template_rows": null,
            "right": null,
            "justify_content": null,
            "_view_module": "@jupyter-widgets/base",
            "overflow": null,
            "_model_module_version": "1.2.0",
            "_view_count": null,
            "flex_flow": null,
            "width": null,
            "min_width": null,
            "border": null,
            "align_items": null,
            "bottom": null,
            "_model_module": "@jupyter-widgets/base",
            "top": null,
            "grid_column": null,
            "overflow_y": null,
            "overflow_x": null,
            "grid_auto_flow": null,
            "grid_area": null,
            "grid_template_columns": null,
            "flex": null,
            "_model_name": "LayoutModel",
            "justify_items": null,
            "grid_row": null,
            "max_height": null,
            "align_content": null,
            "visibility": null,
            "align_self": null,
            "height": null,
            "min_height": null,
            "padding": null,
            "grid_auto_rows": null,
            "grid_gap": null,
            "max_width": null,
            "order": null,
            "_view_module_version": "1.2.0",
            "grid_template_areas": null,
            "object_position": null,
            "object_fit": null,
            "grid_auto_columns": null,
            "margin": null,
            "display": null,
            "left": null
          }
        },
        "c9fb8a19313e44a29563acb12378e2ba": {
          "model_module": "@jupyter-widgets/controls",
          "model_name": "VBoxModel",
          "state": {
            "_view_name": "VBoxView",
            "_dom_classes": [],
            "_model_name": "VBoxModel",
            "_view_module": "@jupyter-widgets/controls",
            "_model_module_version": "1.5.0",
            "_view_count": null,
            "_view_module_version": "1.5.0",
            "box_style": "",
            "layout": "IPY_MODEL_bcea93fe552a45b7b32887962967f849",
            "_model_module": "@jupyter-widgets/controls",
            "children": [
              "IPY_MODEL_f9ab46a6dc964303a2ae5bb90f70b14d",
              "IPY_MODEL_9672ee3d1a8f4ac7a812d710151a96b5"
            ]
          }
        },
        "bcea93fe552a45b7b32887962967f849": {
          "model_module": "@jupyter-widgets/base",
          "model_name": "LayoutModel",
          "state": {
            "_view_name": "LayoutView",
            "grid_template_rows": null,
            "right": null,
            "justify_content": null,
            "_view_module": "@jupyter-widgets/base",
            "overflow": null,
            "_model_module_version": "1.2.0",
            "_view_count": null,
            "flex_flow": null,
            "width": null,
            "min_width": null,
            "border": null,
            "align_items": null,
            "bottom": null,
            "_model_module": "@jupyter-widgets/base",
            "top": null,
            "grid_column": null,
            "overflow_y": null,
            "overflow_x": null,
            "grid_auto_flow": null,
            "grid_area": null,
            "grid_template_columns": null,
            "flex": null,
            "_model_name": "LayoutModel",
            "justify_items": null,
            "grid_row": null,
            "max_height": null,
            "align_content": null,
            "visibility": null,
            "align_self": null,
            "height": null,
            "min_height": null,
            "padding": null,
            "grid_auto_rows": null,
            "grid_gap": null,
            "max_width": null,
            "order": null,
            "_view_module_version": "1.2.0",
            "grid_template_areas": null,
            "object_position": null,
            "object_fit": null,
            "grid_auto_columns": null,
            "margin": null,
            "display": null,
            "left": null
          }
        },
        "f9ab46a6dc964303a2ae5bb90f70b14d": {
          "model_module": "@jupyter-widgets/controls",
          "model_name": "LabelModel",
          "state": {
            "_view_name": "LabelView",
            "style": "IPY_MODEL_d4643e25d1c246f3b2ffbf4d65f7fa28",
            "_dom_classes": [],
            "description": "",
            "_model_name": "LabelModel",
            "placeholder": "​",
            "_view_module": "@jupyter-widgets/controls",
            "_model_module_version": "1.5.0",
            "value": " 0.82MB of 0.82MB uploaded (0.00MB deduped)\r",
            "_view_count": null,
            "_view_module_version": "1.5.0",
            "description_tooltip": null,
            "_model_module": "@jupyter-widgets/controls",
            "layout": "IPY_MODEL_da9e73c226db441ebecc6a4a50cbd543"
          }
        },
        "9672ee3d1a8f4ac7a812d710151a96b5": {
          "model_module": "@jupyter-widgets/controls",
          "model_name": "FloatProgressModel",
          "state": {
            "_view_name": "ProgressView",
            "style": "IPY_MODEL_3d6b1f6577e34b0d85f6d024f0136f1c",
            "_dom_classes": [],
            "description": "",
            "_model_name": "FloatProgressModel",
            "bar_style": "",
            "max": 1,
            "_view_module": "@jupyter-widgets/controls",
            "_model_module_version": "1.5.0",
            "value": 1,
            "_view_count": null,
            "_view_module_version": "1.5.0",
            "orientation": "horizontal",
            "min": 0,
            "description_tooltip": null,
            "_model_module": "@jupyter-widgets/controls",
            "layout": "IPY_MODEL_3be8f3a188fc4895a77fd3a9acd396d4"
          }
        },
        "d4643e25d1c246f3b2ffbf4d65f7fa28": {
          "model_module": "@jupyter-widgets/controls",
          "model_name": "DescriptionStyleModel",
          "state": {
            "_view_name": "StyleView",
            "_model_name": "DescriptionStyleModel",
            "description_width": "",
            "_view_module": "@jupyter-widgets/base",
            "_model_module_version": "1.5.0",
            "_view_count": null,
            "_view_module_version": "1.2.0",
            "_model_module": "@jupyter-widgets/controls"
          }
        },
        "da9e73c226db441ebecc6a4a50cbd543": {
          "model_module": "@jupyter-widgets/base",
          "model_name": "LayoutModel",
          "state": {
            "_view_name": "LayoutView",
            "grid_template_rows": null,
            "right": null,
            "justify_content": null,
            "_view_module": "@jupyter-widgets/base",
            "overflow": null,
            "_model_module_version": "1.2.0",
            "_view_count": null,
            "flex_flow": null,
            "width": null,
            "min_width": null,
            "border": null,
            "align_items": null,
            "bottom": null,
            "_model_module": "@jupyter-widgets/base",
            "top": null,
            "grid_column": null,
            "overflow_y": null,
            "overflow_x": null,
            "grid_auto_flow": null,
            "grid_area": null,
            "grid_template_columns": null,
            "flex": null,
            "_model_name": "LayoutModel",
            "justify_items": null,
            "grid_row": null,
            "max_height": null,
            "align_content": null,
            "visibility": null,
            "align_self": null,
            "height": null,
            "min_height": null,
            "padding": null,
            "grid_auto_rows": null,
            "grid_gap": null,
            "max_width": null,
            "order": null,
            "_view_module_version": "1.2.0",
            "grid_template_areas": null,
            "object_position": null,
            "object_fit": null,
            "grid_auto_columns": null,
            "margin": null,
            "display": null,
            "left": null
          }
        },
        "3d6b1f6577e34b0d85f6d024f0136f1c": {
          "model_module": "@jupyter-widgets/controls",
          "model_name": "ProgressStyleModel",
          "state": {
            "_view_name": "StyleView",
            "_model_name": "ProgressStyleModel",
            "description_width": "",
            "_view_module": "@jupyter-widgets/base",
            "_model_module_version": "1.5.0",
            "_view_count": null,
            "_view_module_version": "1.2.0",
            "bar_color": null,
            "_model_module": "@jupyter-widgets/controls"
          }
        },
        "3be8f3a188fc4895a77fd3a9acd396d4": {
          "model_module": "@jupyter-widgets/base",
          "model_name": "LayoutModel",
          "state": {
            "_view_name": "LayoutView",
            "grid_template_rows": null,
            "right": null,
            "justify_content": null,
            "_view_module": "@jupyter-widgets/base",
            "overflow": null,
            "_model_module_version": "1.2.0",
            "_view_count": null,
            "flex_flow": null,
            "width": null,
            "min_width": null,
            "border": null,
            "align_items": null,
            "bottom": null,
            "_model_module": "@jupyter-widgets/base",
            "top": null,
            "grid_column": null,
            "overflow_y": null,
            "overflow_x": null,
            "grid_auto_flow": null,
            "grid_area": null,
            "grid_template_columns": null,
            "flex": null,
            "_model_name": "LayoutModel",
            "justify_items": null,
            "grid_row": null,
            "max_height": null,
            "align_content": null,
            "visibility": null,
            "align_self": null,
            "height": null,
            "min_height": null,
            "padding": null,
            "grid_auto_rows": null,
            "grid_gap": null,
            "max_width": null,
            "order": null,
            "_view_module_version": "1.2.0",
            "grid_template_areas": null,
            "object_position": null,
            "object_fit": null,
            "grid_auto_columns": null,
            "margin": null,
            "display": null,
            "left": null
          }
        },
        "5a895d5f029b4a65a3659a56fc3052cf": {
          "model_module": "@jupyter-widgets/controls",
          "model_name": "VBoxModel",
          "state": {
            "_view_name": "VBoxView",
            "_dom_classes": [],
            "_model_name": "VBoxModel",
            "_view_module": "@jupyter-widgets/controls",
            "_model_module_version": "1.5.0",
            "_view_count": null,
            "_view_module_version": "1.5.0",
            "box_style": "",
            "layout": "IPY_MODEL_6dd1a5a10ab840368d46de09a0538a52",
            "_model_module": "@jupyter-widgets/controls",
            "children": [
              "IPY_MODEL_e6aee29d3dc241228acc6eba8a18c82e",
              "IPY_MODEL_e694367311e2478c93b9696887d1b0e4"
            ]
          }
        },
        "6dd1a5a10ab840368d46de09a0538a52": {
          "model_module": "@jupyter-widgets/base",
          "model_name": "LayoutModel",
          "state": {
            "_view_name": "LayoutView",
            "grid_template_rows": null,
            "right": null,
            "justify_content": null,
            "_view_module": "@jupyter-widgets/base",
            "overflow": null,
            "_model_module_version": "1.2.0",
            "_view_count": null,
            "flex_flow": null,
            "width": null,
            "min_width": null,
            "border": null,
            "align_items": null,
            "bottom": null,
            "_model_module": "@jupyter-widgets/base",
            "top": null,
            "grid_column": null,
            "overflow_y": null,
            "overflow_x": null,
            "grid_auto_flow": null,
            "grid_area": null,
            "grid_template_columns": null,
            "flex": null,
            "_model_name": "LayoutModel",
            "justify_items": null,
            "grid_row": null,
            "max_height": null,
            "align_content": null,
            "visibility": null,
            "align_self": null,
            "height": null,
            "min_height": null,
            "padding": null,
            "grid_auto_rows": null,
            "grid_gap": null,
            "max_width": null,
            "order": null,
            "_view_module_version": "1.2.0",
            "grid_template_areas": null,
            "object_position": null,
            "object_fit": null,
            "grid_auto_columns": null,
            "margin": null,
            "display": null,
            "left": null
          }
        },
        "e6aee29d3dc241228acc6eba8a18c82e": {
          "model_module": "@jupyter-widgets/controls",
          "model_name": "LabelModel",
          "state": {
            "_view_name": "LabelView",
            "style": "IPY_MODEL_1b60780554ab45d1be81feff0626fd6f",
            "_dom_classes": [],
            "description": "",
            "_model_name": "LabelModel",
            "placeholder": "​",
            "_view_module": "@jupyter-widgets/controls",
            "_model_module_version": "1.5.0",
            "value": " 0.88MB of 0.88MB uploaded (0.00MB deduped)\r",
            "_view_count": null,
            "_view_module_version": "1.5.0",
            "description_tooltip": null,
            "_model_module": "@jupyter-widgets/controls",
            "layout": "IPY_MODEL_3106c74f9e174af5af26ca76104d4ce4"
          }
        },
        "e694367311e2478c93b9696887d1b0e4": {
          "model_module": "@jupyter-widgets/controls",
          "model_name": "FloatProgressModel",
          "state": {
            "_view_name": "ProgressView",
            "style": "IPY_MODEL_b9caa0064a784f7d82b3c7c108c97213",
            "_dom_classes": [],
            "description": "",
            "_model_name": "FloatProgressModel",
            "bar_style": "",
            "max": 1,
            "_view_module": "@jupyter-widgets/controls",
            "_model_module_version": "1.5.0",
            "value": 1,
            "_view_count": null,
            "_view_module_version": "1.5.0",
            "orientation": "horizontal",
            "min": 0,
            "description_tooltip": null,
            "_model_module": "@jupyter-widgets/controls",
            "layout": "IPY_MODEL_c4fe793eadaf4b7e97285a7624ee107a"
          }
        },
        "1b60780554ab45d1be81feff0626fd6f": {
          "model_module": "@jupyter-widgets/controls",
          "model_name": "DescriptionStyleModel",
          "state": {
            "_view_name": "StyleView",
            "_model_name": "DescriptionStyleModel",
            "description_width": "",
            "_view_module": "@jupyter-widgets/base",
            "_model_module_version": "1.5.0",
            "_view_count": null,
            "_view_module_version": "1.2.0",
            "_model_module": "@jupyter-widgets/controls"
          }
        },
        "3106c74f9e174af5af26ca76104d4ce4": {
          "model_module": "@jupyter-widgets/base",
          "model_name": "LayoutModel",
          "state": {
            "_view_name": "LayoutView",
            "grid_template_rows": null,
            "right": null,
            "justify_content": null,
            "_view_module": "@jupyter-widgets/base",
            "overflow": null,
            "_model_module_version": "1.2.0",
            "_view_count": null,
            "flex_flow": null,
            "width": null,
            "min_width": null,
            "border": null,
            "align_items": null,
            "bottom": null,
            "_model_module": "@jupyter-widgets/base",
            "top": null,
            "grid_column": null,
            "overflow_y": null,
            "overflow_x": null,
            "grid_auto_flow": null,
            "grid_area": null,
            "grid_template_columns": null,
            "flex": null,
            "_model_name": "LayoutModel",
            "justify_items": null,
            "grid_row": null,
            "max_height": null,
            "align_content": null,
            "visibility": null,
            "align_self": null,
            "height": null,
            "min_height": null,
            "padding": null,
            "grid_auto_rows": null,
            "grid_gap": null,
            "max_width": null,
            "order": null,
            "_view_module_version": "1.2.0",
            "grid_template_areas": null,
            "object_position": null,
            "object_fit": null,
            "grid_auto_columns": null,
            "margin": null,
            "display": null,
            "left": null
          }
        },
        "b9caa0064a784f7d82b3c7c108c97213": {
          "model_module": "@jupyter-widgets/controls",
          "model_name": "ProgressStyleModel",
          "state": {
            "_view_name": "StyleView",
            "_model_name": "ProgressStyleModel",
            "description_width": "",
            "_view_module": "@jupyter-widgets/base",
            "_model_module_version": "1.5.0",
            "_view_count": null,
            "_view_module_version": "1.2.0",
            "bar_color": null,
            "_model_module": "@jupyter-widgets/controls"
          }
        },
        "c4fe793eadaf4b7e97285a7624ee107a": {
          "model_module": "@jupyter-widgets/base",
          "model_name": "LayoutModel",
          "state": {
            "_view_name": "LayoutView",
            "grid_template_rows": null,
            "right": null,
            "justify_content": null,
            "_view_module": "@jupyter-widgets/base",
            "overflow": null,
            "_model_module_version": "1.2.0",
            "_view_count": null,
            "flex_flow": null,
            "width": null,
            "min_width": null,
            "border": null,
            "align_items": null,
            "bottom": null,
            "_model_module": "@jupyter-widgets/base",
            "top": null,
            "grid_column": null,
            "overflow_y": null,
            "overflow_x": null,
            "grid_auto_flow": null,
            "grid_area": null,
            "grid_template_columns": null,
            "flex": null,
            "_model_name": "LayoutModel",
            "justify_items": null,
            "grid_row": null,
            "max_height": null,
            "align_content": null,
            "visibility": null,
            "align_self": null,
            "height": null,
            "min_height": null,
            "padding": null,
            "grid_auto_rows": null,
            "grid_gap": null,
            "max_width": null,
            "order": null,
            "_view_module_version": "1.2.0",
            "grid_template_areas": null,
            "object_position": null,
            "object_fit": null,
            "grid_auto_columns": null,
            "margin": null,
            "display": null,
            "left": null
          }
        },
        "e3b01ef1637240bc835452df2ef37435": {
          "model_module": "@jupyter-widgets/controls",
          "model_name": "VBoxModel",
          "state": {
            "_view_name": "VBoxView",
            "_dom_classes": [],
            "_model_name": "VBoxModel",
            "_view_module": "@jupyter-widgets/controls",
            "_model_module_version": "1.5.0",
            "_view_count": null,
            "_view_module_version": "1.5.0",
            "box_style": "",
            "layout": "IPY_MODEL_da08bc8cb20448d982a66de151014f7c",
            "_model_module": "@jupyter-widgets/controls",
            "children": [
              "IPY_MODEL_15e65f84e1434a4fbe3e499777211d06",
              "IPY_MODEL_6fcad09ad5c24a17ac446a12bb92abe3"
            ]
          }
        },
        "da08bc8cb20448d982a66de151014f7c": {
          "model_module": "@jupyter-widgets/base",
          "model_name": "LayoutModel",
          "state": {
            "_view_name": "LayoutView",
            "grid_template_rows": null,
            "right": null,
            "justify_content": null,
            "_view_module": "@jupyter-widgets/base",
            "overflow": null,
            "_model_module_version": "1.2.0",
            "_view_count": null,
            "flex_flow": null,
            "width": null,
            "min_width": null,
            "border": null,
            "align_items": null,
            "bottom": null,
            "_model_module": "@jupyter-widgets/base",
            "top": null,
            "grid_column": null,
            "overflow_y": null,
            "overflow_x": null,
            "grid_auto_flow": null,
            "grid_area": null,
            "grid_template_columns": null,
            "flex": null,
            "_model_name": "LayoutModel",
            "justify_items": null,
            "grid_row": null,
            "max_height": null,
            "align_content": null,
            "visibility": null,
            "align_self": null,
            "height": null,
            "min_height": null,
            "padding": null,
            "grid_auto_rows": null,
            "grid_gap": null,
            "max_width": null,
            "order": null,
            "_view_module_version": "1.2.0",
            "grid_template_areas": null,
            "object_position": null,
            "object_fit": null,
            "grid_auto_columns": null,
            "margin": null,
            "display": null,
            "left": null
          }
        },
        "15e65f84e1434a4fbe3e499777211d06": {
          "model_module": "@jupyter-widgets/controls",
          "model_name": "LabelModel",
          "state": {
            "_view_name": "LabelView",
            "style": "IPY_MODEL_fa7fd2e77deb42cba1a281f9948679e0",
            "_dom_classes": [],
            "description": "",
            "_model_name": "LabelModel",
            "placeholder": "​",
            "_view_module": "@jupyter-widgets/controls",
            "_model_module_version": "1.5.0",
            "value": " 0.90MB of 0.90MB uploaded (0.00MB deduped)\r",
            "_view_count": null,
            "_view_module_version": "1.5.0",
            "description_tooltip": null,
            "_model_module": "@jupyter-widgets/controls",
            "layout": "IPY_MODEL_b28637dca9974cb6bb0638776c306196"
          }
        },
        "6fcad09ad5c24a17ac446a12bb92abe3": {
          "model_module": "@jupyter-widgets/controls",
          "model_name": "FloatProgressModel",
          "state": {
            "_view_name": "ProgressView",
            "style": "IPY_MODEL_a79a4d803b464e03893694820dba03f9",
            "_dom_classes": [],
            "description": "",
            "_model_name": "FloatProgressModel",
            "bar_style": "",
            "max": 1,
            "_view_module": "@jupyter-widgets/controls",
            "_model_module_version": "1.5.0",
            "value": 1,
            "_view_count": null,
            "_view_module_version": "1.5.0",
            "orientation": "horizontal",
            "min": 0,
            "description_tooltip": null,
            "_model_module": "@jupyter-widgets/controls",
            "layout": "IPY_MODEL_ace1428bacab4532ae7852faf7c6a0f7"
          }
        },
        "fa7fd2e77deb42cba1a281f9948679e0": {
          "model_module": "@jupyter-widgets/controls",
          "model_name": "DescriptionStyleModel",
          "state": {
            "_view_name": "StyleView",
            "_model_name": "DescriptionStyleModel",
            "description_width": "",
            "_view_module": "@jupyter-widgets/base",
            "_model_module_version": "1.5.0",
            "_view_count": null,
            "_view_module_version": "1.2.0",
            "_model_module": "@jupyter-widgets/controls"
          }
        },
        "b28637dca9974cb6bb0638776c306196": {
          "model_module": "@jupyter-widgets/base",
          "model_name": "LayoutModel",
          "state": {
            "_view_name": "LayoutView",
            "grid_template_rows": null,
            "right": null,
            "justify_content": null,
            "_view_module": "@jupyter-widgets/base",
            "overflow": null,
            "_model_module_version": "1.2.0",
            "_view_count": null,
            "flex_flow": null,
            "width": null,
            "min_width": null,
            "border": null,
            "align_items": null,
            "bottom": null,
            "_model_module": "@jupyter-widgets/base",
            "top": null,
            "grid_column": null,
            "overflow_y": null,
            "overflow_x": null,
            "grid_auto_flow": null,
            "grid_area": null,
            "grid_template_columns": null,
            "flex": null,
            "_model_name": "LayoutModel",
            "justify_items": null,
            "grid_row": null,
            "max_height": null,
            "align_content": null,
            "visibility": null,
            "align_self": null,
            "height": null,
            "min_height": null,
            "padding": null,
            "grid_auto_rows": null,
            "grid_gap": null,
            "max_width": null,
            "order": null,
            "_view_module_version": "1.2.0",
            "grid_template_areas": null,
            "object_position": null,
            "object_fit": null,
            "grid_auto_columns": null,
            "margin": null,
            "display": null,
            "left": null
          }
        },
        "a79a4d803b464e03893694820dba03f9": {
          "model_module": "@jupyter-widgets/controls",
          "model_name": "ProgressStyleModel",
          "state": {
            "_view_name": "StyleView",
            "_model_name": "ProgressStyleModel",
            "description_width": "",
            "_view_module": "@jupyter-widgets/base",
            "_model_module_version": "1.5.0",
            "_view_count": null,
            "_view_module_version": "1.2.0",
            "bar_color": null,
            "_model_module": "@jupyter-widgets/controls"
          }
        },
        "ace1428bacab4532ae7852faf7c6a0f7": {
          "model_module": "@jupyter-widgets/base",
          "model_name": "LayoutModel",
          "state": {
            "_view_name": "LayoutView",
            "grid_template_rows": null,
            "right": null,
            "justify_content": null,
            "_view_module": "@jupyter-widgets/base",
            "overflow": null,
            "_model_module_version": "1.2.0",
            "_view_count": null,
            "flex_flow": null,
            "width": null,
            "min_width": null,
            "border": null,
            "align_items": null,
            "bottom": null,
            "_model_module": "@jupyter-widgets/base",
            "top": null,
            "grid_column": null,
            "overflow_y": null,
            "overflow_x": null,
            "grid_auto_flow": null,
            "grid_area": null,
            "grid_template_columns": null,
            "flex": null,
            "_model_name": "LayoutModel",
            "justify_items": null,
            "grid_row": null,
            "max_height": null,
            "align_content": null,
            "visibility": null,
            "align_self": null,
            "height": null,
            "min_height": null,
            "padding": null,
            "grid_auto_rows": null,
            "grid_gap": null,
            "max_width": null,
            "order": null,
            "_view_module_version": "1.2.0",
            "grid_template_areas": null,
            "object_position": null,
            "object_fit": null,
            "grid_auto_columns": null,
            "margin": null,
            "display": null,
            "left": null
          }
        },
        "34d60f5809e04080a5a1ce87a4c27f2a": {
          "model_module": "@jupyter-widgets/controls",
          "model_name": "VBoxModel",
          "state": {
            "_view_name": "VBoxView",
            "_dom_classes": [],
            "_model_name": "VBoxModel",
            "_view_module": "@jupyter-widgets/controls",
            "_model_module_version": "1.5.0",
            "_view_count": null,
            "_view_module_version": "1.5.0",
            "box_style": "",
            "layout": "IPY_MODEL_82b46e0a8cc54a8aab134b37da93b2cf",
            "_model_module": "@jupyter-widgets/controls",
            "children": [
              "IPY_MODEL_0dc2e6173d7e422ead7221862a9b3edd",
              "IPY_MODEL_2888392aee2f43d68ca5f6fe6559b30b"
            ]
          }
        },
        "82b46e0a8cc54a8aab134b37da93b2cf": {
          "model_module": "@jupyter-widgets/base",
          "model_name": "LayoutModel",
          "state": {
            "_view_name": "LayoutView",
            "grid_template_rows": null,
            "right": null,
            "justify_content": null,
            "_view_module": "@jupyter-widgets/base",
            "overflow": null,
            "_model_module_version": "1.2.0",
            "_view_count": null,
            "flex_flow": null,
            "width": null,
            "min_width": null,
            "border": null,
            "align_items": null,
            "bottom": null,
            "_model_module": "@jupyter-widgets/base",
            "top": null,
            "grid_column": null,
            "overflow_y": null,
            "overflow_x": null,
            "grid_auto_flow": null,
            "grid_area": null,
            "grid_template_columns": null,
            "flex": null,
            "_model_name": "LayoutModel",
            "justify_items": null,
            "grid_row": null,
            "max_height": null,
            "align_content": null,
            "visibility": null,
            "align_self": null,
            "height": null,
            "min_height": null,
            "padding": null,
            "grid_auto_rows": null,
            "grid_gap": null,
            "max_width": null,
            "order": null,
            "_view_module_version": "1.2.0",
            "grid_template_areas": null,
            "object_position": null,
            "object_fit": null,
            "grid_auto_columns": null,
            "margin": null,
            "display": null,
            "left": null
          }
        },
        "0dc2e6173d7e422ead7221862a9b3edd": {
          "model_module": "@jupyter-widgets/controls",
          "model_name": "LabelModel",
          "state": {
            "_view_name": "LabelView",
            "style": "IPY_MODEL_5ffde04a49114b69b3319bb655447026",
            "_dom_classes": [],
            "description": "",
            "_model_name": "LabelModel",
            "placeholder": "​",
            "_view_module": "@jupyter-widgets/controls",
            "_model_module_version": "1.5.0",
            "value": " 0.91MB of 0.91MB uploaded (0.00MB deduped)\r",
            "_view_count": null,
            "_view_module_version": "1.5.0",
            "description_tooltip": null,
            "_model_module": "@jupyter-widgets/controls",
            "layout": "IPY_MODEL_eae0e7b970d54528b3f212560755985e"
          }
        },
        "2888392aee2f43d68ca5f6fe6559b30b": {
          "model_module": "@jupyter-widgets/controls",
          "model_name": "FloatProgressModel",
          "state": {
            "_view_name": "ProgressView",
            "style": "IPY_MODEL_79b5816bab5e438591fa248fb80d5043",
            "_dom_classes": [],
            "description": "",
            "_model_name": "FloatProgressModel",
            "bar_style": "",
            "max": 1,
            "_view_module": "@jupyter-widgets/controls",
            "_model_module_version": "1.5.0",
            "value": 1,
            "_view_count": null,
            "_view_module_version": "1.5.0",
            "orientation": "horizontal",
            "min": 0,
            "description_tooltip": null,
            "_model_module": "@jupyter-widgets/controls",
            "layout": "IPY_MODEL_2d63ce55c28e4a3abc08d6ae40372092"
          }
        },
        "5ffde04a49114b69b3319bb655447026": {
          "model_module": "@jupyter-widgets/controls",
          "model_name": "DescriptionStyleModel",
          "state": {
            "_view_name": "StyleView",
            "_model_name": "DescriptionStyleModel",
            "description_width": "",
            "_view_module": "@jupyter-widgets/base",
            "_model_module_version": "1.5.0",
            "_view_count": null,
            "_view_module_version": "1.2.0",
            "_model_module": "@jupyter-widgets/controls"
          }
        },
        "eae0e7b970d54528b3f212560755985e": {
          "model_module": "@jupyter-widgets/base",
          "model_name": "LayoutModel",
          "state": {
            "_view_name": "LayoutView",
            "grid_template_rows": null,
            "right": null,
            "justify_content": null,
            "_view_module": "@jupyter-widgets/base",
            "overflow": null,
            "_model_module_version": "1.2.0",
            "_view_count": null,
            "flex_flow": null,
            "width": null,
            "min_width": null,
            "border": null,
            "align_items": null,
            "bottom": null,
            "_model_module": "@jupyter-widgets/base",
            "top": null,
            "grid_column": null,
            "overflow_y": null,
            "overflow_x": null,
            "grid_auto_flow": null,
            "grid_area": null,
            "grid_template_columns": null,
            "flex": null,
            "_model_name": "LayoutModel",
            "justify_items": null,
            "grid_row": null,
            "max_height": null,
            "align_content": null,
            "visibility": null,
            "align_self": null,
            "height": null,
            "min_height": null,
            "padding": null,
            "grid_auto_rows": null,
            "grid_gap": null,
            "max_width": null,
            "order": null,
            "_view_module_version": "1.2.0",
            "grid_template_areas": null,
            "object_position": null,
            "object_fit": null,
            "grid_auto_columns": null,
            "margin": null,
            "display": null,
            "left": null
          }
        },
        "79b5816bab5e438591fa248fb80d5043": {
          "model_module": "@jupyter-widgets/controls",
          "model_name": "ProgressStyleModel",
          "state": {
            "_view_name": "StyleView",
            "_model_name": "ProgressStyleModel",
            "description_width": "",
            "_view_module": "@jupyter-widgets/base",
            "_model_module_version": "1.5.0",
            "_view_count": null,
            "_view_module_version": "1.2.0",
            "bar_color": null,
            "_model_module": "@jupyter-widgets/controls"
          }
        },
        "2d63ce55c28e4a3abc08d6ae40372092": {
          "model_module": "@jupyter-widgets/base",
          "model_name": "LayoutModel",
          "state": {
            "_view_name": "LayoutView",
            "grid_template_rows": null,
            "right": null,
            "justify_content": null,
            "_view_module": "@jupyter-widgets/base",
            "overflow": null,
            "_model_module_version": "1.2.0",
            "_view_count": null,
            "flex_flow": null,
            "width": null,
            "min_width": null,
            "border": null,
            "align_items": null,
            "bottom": null,
            "_model_module": "@jupyter-widgets/base",
            "top": null,
            "grid_column": null,
            "overflow_y": null,
            "overflow_x": null,
            "grid_auto_flow": null,
            "grid_area": null,
            "grid_template_columns": null,
            "flex": null,
            "_model_name": "LayoutModel",
            "justify_items": null,
            "grid_row": null,
            "max_height": null,
            "align_content": null,
            "visibility": null,
            "align_self": null,
            "height": null,
            "min_height": null,
            "padding": null,
            "grid_auto_rows": null,
            "grid_gap": null,
            "max_width": null,
            "order": null,
            "_view_module_version": "1.2.0",
            "grid_template_areas": null,
            "object_position": null,
            "object_fit": null,
            "grid_auto_columns": null,
            "margin": null,
            "display": null,
            "left": null
          }
        },
        "17e2c29a718746008412a226b33b901b": {
          "model_module": "@jupyter-widgets/controls",
          "model_name": "VBoxModel",
          "state": {
            "_view_name": "VBoxView",
            "_dom_classes": [],
            "_model_name": "VBoxModel",
            "_view_module": "@jupyter-widgets/controls",
            "_model_module_version": "1.5.0",
            "_view_count": null,
            "_view_module_version": "1.5.0",
            "box_style": "",
            "layout": "IPY_MODEL_0fe69f39f0d2489f8c485a640728ce0e",
            "_model_module": "@jupyter-widgets/controls",
            "children": [
              "IPY_MODEL_67155524d69c430a8e94c00043255dad",
              "IPY_MODEL_51a2d74763d147df890317340ab93fc9"
            ]
          }
        },
        "0fe69f39f0d2489f8c485a640728ce0e": {
          "model_module": "@jupyter-widgets/base",
          "model_name": "LayoutModel",
          "state": {
            "_view_name": "LayoutView",
            "grid_template_rows": null,
            "right": null,
            "justify_content": null,
            "_view_module": "@jupyter-widgets/base",
            "overflow": null,
            "_model_module_version": "1.2.0",
            "_view_count": null,
            "flex_flow": null,
            "width": null,
            "min_width": null,
            "border": null,
            "align_items": null,
            "bottom": null,
            "_model_module": "@jupyter-widgets/base",
            "top": null,
            "grid_column": null,
            "overflow_y": null,
            "overflow_x": null,
            "grid_auto_flow": null,
            "grid_area": null,
            "grid_template_columns": null,
            "flex": null,
            "_model_name": "LayoutModel",
            "justify_items": null,
            "grid_row": null,
            "max_height": null,
            "align_content": null,
            "visibility": null,
            "align_self": null,
            "height": null,
            "min_height": null,
            "padding": null,
            "grid_auto_rows": null,
            "grid_gap": null,
            "max_width": null,
            "order": null,
            "_view_module_version": "1.2.0",
            "grid_template_areas": null,
            "object_position": null,
            "object_fit": null,
            "grid_auto_columns": null,
            "margin": null,
            "display": null,
            "left": null
          }
        },
        "67155524d69c430a8e94c00043255dad": {
          "model_module": "@jupyter-widgets/controls",
          "model_name": "LabelModel",
          "state": {
            "_view_name": "LabelView",
            "style": "IPY_MODEL_8206e3e5cd97417084ddc45385025dbc",
            "_dom_classes": [],
            "description": "",
            "_model_name": "LabelModel",
            "placeholder": "​",
            "_view_module": "@jupyter-widgets/controls",
            "_model_module_version": "1.5.0",
            "value": " 0.96MB of 0.96MB uploaded (0.00MB deduped)\r",
            "_view_count": null,
            "_view_module_version": "1.5.0",
            "description_tooltip": null,
            "_model_module": "@jupyter-widgets/controls",
            "layout": "IPY_MODEL_ab25ab23bcd949ee9abcb71036306166"
          }
        },
        "51a2d74763d147df890317340ab93fc9": {
          "model_module": "@jupyter-widgets/controls",
          "model_name": "FloatProgressModel",
          "state": {
            "_view_name": "ProgressView",
            "style": "IPY_MODEL_7c05158393cb41879d1c4ce3990a5c40",
            "_dom_classes": [],
            "description": "",
            "_model_name": "FloatProgressModel",
            "bar_style": "",
            "max": 1,
            "_view_module": "@jupyter-widgets/controls",
            "_model_module_version": "1.5.0",
            "value": 1,
            "_view_count": null,
            "_view_module_version": "1.5.0",
            "orientation": "horizontal",
            "min": 0,
            "description_tooltip": null,
            "_model_module": "@jupyter-widgets/controls",
            "layout": "IPY_MODEL_7af580ad51614b30be2046d51a840e90"
          }
        },
        "8206e3e5cd97417084ddc45385025dbc": {
          "model_module": "@jupyter-widgets/controls",
          "model_name": "DescriptionStyleModel",
          "state": {
            "_view_name": "StyleView",
            "_model_name": "DescriptionStyleModel",
            "description_width": "",
            "_view_module": "@jupyter-widgets/base",
            "_model_module_version": "1.5.0",
            "_view_count": null,
            "_view_module_version": "1.2.0",
            "_model_module": "@jupyter-widgets/controls"
          }
        },
        "ab25ab23bcd949ee9abcb71036306166": {
          "model_module": "@jupyter-widgets/base",
          "model_name": "LayoutModel",
          "state": {
            "_view_name": "LayoutView",
            "grid_template_rows": null,
            "right": null,
            "justify_content": null,
            "_view_module": "@jupyter-widgets/base",
            "overflow": null,
            "_model_module_version": "1.2.0",
            "_view_count": null,
            "flex_flow": null,
            "width": null,
            "min_width": null,
            "border": null,
            "align_items": null,
            "bottom": null,
            "_model_module": "@jupyter-widgets/base",
            "top": null,
            "grid_column": null,
            "overflow_y": null,
            "overflow_x": null,
            "grid_auto_flow": null,
            "grid_area": null,
            "grid_template_columns": null,
            "flex": null,
            "_model_name": "LayoutModel",
            "justify_items": null,
            "grid_row": null,
            "max_height": null,
            "align_content": null,
            "visibility": null,
            "align_self": null,
            "height": null,
            "min_height": null,
            "padding": null,
            "grid_auto_rows": null,
            "grid_gap": null,
            "max_width": null,
            "order": null,
            "_view_module_version": "1.2.0",
            "grid_template_areas": null,
            "object_position": null,
            "object_fit": null,
            "grid_auto_columns": null,
            "margin": null,
            "display": null,
            "left": null
          }
        },
        "7c05158393cb41879d1c4ce3990a5c40": {
          "model_module": "@jupyter-widgets/controls",
          "model_name": "ProgressStyleModel",
          "state": {
            "_view_name": "StyleView",
            "_model_name": "ProgressStyleModel",
            "description_width": "",
            "_view_module": "@jupyter-widgets/base",
            "_model_module_version": "1.5.0",
            "_view_count": null,
            "_view_module_version": "1.2.0",
            "bar_color": null,
            "_model_module": "@jupyter-widgets/controls"
          }
        },
        "7af580ad51614b30be2046d51a840e90": {
          "model_module": "@jupyter-widgets/base",
          "model_name": "LayoutModel",
          "state": {
            "_view_name": "LayoutView",
            "grid_template_rows": null,
            "right": null,
            "justify_content": null,
            "_view_module": "@jupyter-widgets/base",
            "overflow": null,
            "_model_module_version": "1.2.0",
            "_view_count": null,
            "flex_flow": null,
            "width": null,
            "min_width": null,
            "border": null,
            "align_items": null,
            "bottom": null,
            "_model_module": "@jupyter-widgets/base",
            "top": null,
            "grid_column": null,
            "overflow_y": null,
            "overflow_x": null,
            "grid_auto_flow": null,
            "grid_area": null,
            "grid_template_columns": null,
            "flex": null,
            "_model_name": "LayoutModel",
            "justify_items": null,
            "grid_row": null,
            "max_height": null,
            "align_content": null,
            "visibility": null,
            "align_self": null,
            "height": null,
            "min_height": null,
            "padding": null,
            "grid_auto_rows": null,
            "grid_gap": null,
            "max_width": null,
            "order": null,
            "_view_module_version": "1.2.0",
            "grid_template_areas": null,
            "object_position": null,
            "object_fit": null,
            "grid_auto_columns": null,
            "margin": null,
            "display": null,
            "left": null
          }
        },
        "02c29b535ed9422fb8d1234a8e8417ff": {
          "model_module": "@jupyter-widgets/controls",
          "model_name": "VBoxModel",
          "state": {
            "_view_name": "VBoxView",
            "_dom_classes": [],
            "_model_name": "VBoxModel",
            "_view_module": "@jupyter-widgets/controls",
            "_model_module_version": "1.5.0",
            "_view_count": null,
            "_view_module_version": "1.5.0",
            "box_style": "",
            "layout": "IPY_MODEL_55eb896e4adb454cb30939384a1c12ea",
            "_model_module": "@jupyter-widgets/controls",
            "children": [
              "IPY_MODEL_6e8023ab6d894c98aca2e0b6746909c3",
              "IPY_MODEL_a0fb0fef52f345a9ad34a2fa141d7401"
            ]
          }
        },
        "55eb896e4adb454cb30939384a1c12ea": {
          "model_module": "@jupyter-widgets/base",
          "model_name": "LayoutModel",
          "state": {
            "_view_name": "LayoutView",
            "grid_template_rows": null,
            "right": null,
            "justify_content": null,
            "_view_module": "@jupyter-widgets/base",
            "overflow": null,
            "_model_module_version": "1.2.0",
            "_view_count": null,
            "flex_flow": null,
            "width": null,
            "min_width": null,
            "border": null,
            "align_items": null,
            "bottom": null,
            "_model_module": "@jupyter-widgets/base",
            "top": null,
            "grid_column": null,
            "overflow_y": null,
            "overflow_x": null,
            "grid_auto_flow": null,
            "grid_area": null,
            "grid_template_columns": null,
            "flex": null,
            "_model_name": "LayoutModel",
            "justify_items": null,
            "grid_row": null,
            "max_height": null,
            "align_content": null,
            "visibility": null,
            "align_self": null,
            "height": null,
            "min_height": null,
            "padding": null,
            "grid_auto_rows": null,
            "grid_gap": null,
            "max_width": null,
            "order": null,
            "_view_module_version": "1.2.0",
            "grid_template_areas": null,
            "object_position": null,
            "object_fit": null,
            "grid_auto_columns": null,
            "margin": null,
            "display": null,
            "left": null
          }
        },
        "6e8023ab6d894c98aca2e0b6746909c3": {
          "model_module": "@jupyter-widgets/controls",
          "model_name": "LabelModel",
          "state": {
            "_view_name": "LabelView",
            "style": "IPY_MODEL_3965ec40f1f74340ac3a9edff98c2afa",
            "_dom_classes": [],
            "description": "",
            "_model_name": "LabelModel",
            "placeholder": "​",
            "_view_module": "@jupyter-widgets/controls",
            "_model_module_version": "1.5.0",
            "value": " 0.80MB of 0.80MB uploaded (0.00MB deduped)\r",
            "_view_count": null,
            "_view_module_version": "1.5.0",
            "description_tooltip": null,
            "_model_module": "@jupyter-widgets/controls",
            "layout": "IPY_MODEL_f11a675b9bc8456ab747e22a67daa339"
          }
        },
        "a0fb0fef52f345a9ad34a2fa141d7401": {
          "model_module": "@jupyter-widgets/controls",
          "model_name": "FloatProgressModel",
          "state": {
            "_view_name": "ProgressView",
            "style": "IPY_MODEL_6a0433c91a7441c4aefcbffeeb581ecb",
            "_dom_classes": [],
            "description": "",
            "_model_name": "FloatProgressModel",
            "bar_style": "",
            "max": 1,
            "_view_module": "@jupyter-widgets/controls",
            "_model_module_version": "1.5.0",
            "value": 1,
            "_view_count": null,
            "_view_module_version": "1.5.0",
            "orientation": "horizontal",
            "min": 0,
            "description_tooltip": null,
            "_model_module": "@jupyter-widgets/controls",
            "layout": "IPY_MODEL_cf54f5f5ca8f4da0adec69af0540e268"
          }
        },
        "3965ec40f1f74340ac3a9edff98c2afa": {
          "model_module": "@jupyter-widgets/controls",
          "model_name": "DescriptionStyleModel",
          "state": {
            "_view_name": "StyleView",
            "_model_name": "DescriptionStyleModel",
            "description_width": "",
            "_view_module": "@jupyter-widgets/base",
            "_model_module_version": "1.5.0",
            "_view_count": null,
            "_view_module_version": "1.2.0",
            "_model_module": "@jupyter-widgets/controls"
          }
        },
        "f11a675b9bc8456ab747e22a67daa339": {
          "model_module": "@jupyter-widgets/base",
          "model_name": "LayoutModel",
          "state": {
            "_view_name": "LayoutView",
            "grid_template_rows": null,
            "right": null,
            "justify_content": null,
            "_view_module": "@jupyter-widgets/base",
            "overflow": null,
            "_model_module_version": "1.2.0",
            "_view_count": null,
            "flex_flow": null,
            "width": null,
            "min_width": null,
            "border": null,
            "align_items": null,
            "bottom": null,
            "_model_module": "@jupyter-widgets/base",
            "top": null,
            "grid_column": null,
            "overflow_y": null,
            "overflow_x": null,
            "grid_auto_flow": null,
            "grid_area": null,
            "grid_template_columns": null,
            "flex": null,
            "_model_name": "LayoutModel",
            "justify_items": null,
            "grid_row": null,
            "max_height": null,
            "align_content": null,
            "visibility": null,
            "align_self": null,
            "height": null,
            "min_height": null,
            "padding": null,
            "grid_auto_rows": null,
            "grid_gap": null,
            "max_width": null,
            "order": null,
            "_view_module_version": "1.2.0",
            "grid_template_areas": null,
            "object_position": null,
            "object_fit": null,
            "grid_auto_columns": null,
            "margin": null,
            "display": null,
            "left": null
          }
        },
        "6a0433c91a7441c4aefcbffeeb581ecb": {
          "model_module": "@jupyter-widgets/controls",
          "model_name": "ProgressStyleModel",
          "state": {
            "_view_name": "StyleView",
            "_model_name": "ProgressStyleModel",
            "description_width": "",
            "_view_module": "@jupyter-widgets/base",
            "_model_module_version": "1.5.0",
            "_view_count": null,
            "_view_module_version": "1.2.0",
            "bar_color": null,
            "_model_module": "@jupyter-widgets/controls"
          }
        },
        "cf54f5f5ca8f4da0adec69af0540e268": {
          "model_module": "@jupyter-widgets/base",
          "model_name": "LayoutModel",
          "state": {
            "_view_name": "LayoutView",
            "grid_template_rows": null,
            "right": null,
            "justify_content": null,
            "_view_module": "@jupyter-widgets/base",
            "overflow": null,
            "_model_module_version": "1.2.0",
            "_view_count": null,
            "flex_flow": null,
            "width": null,
            "min_width": null,
            "border": null,
            "align_items": null,
            "bottom": null,
            "_model_module": "@jupyter-widgets/base",
            "top": null,
            "grid_column": null,
            "overflow_y": null,
            "overflow_x": null,
            "grid_auto_flow": null,
            "grid_area": null,
            "grid_template_columns": null,
            "flex": null,
            "_model_name": "LayoutModel",
            "justify_items": null,
            "grid_row": null,
            "max_height": null,
            "align_content": null,
            "visibility": null,
            "align_self": null,
            "height": null,
            "min_height": null,
            "padding": null,
            "grid_auto_rows": null,
            "grid_gap": null,
            "max_width": null,
            "order": null,
            "_view_module_version": "1.2.0",
            "grid_template_areas": null,
            "object_position": null,
            "object_fit": null,
            "grid_auto_columns": null,
            "margin": null,
            "display": null,
            "left": null
          }
        },
        "aaea61287be04228b28ea21a713617ed": {
          "model_module": "@jupyter-widgets/controls",
          "model_name": "VBoxModel",
          "state": {
            "_view_name": "VBoxView",
            "_dom_classes": [],
            "_model_name": "VBoxModel",
            "_view_module": "@jupyter-widgets/controls",
            "_model_module_version": "1.5.0",
            "_view_count": null,
            "_view_module_version": "1.5.0",
            "box_style": "",
            "layout": "IPY_MODEL_aac7d915855b4c7e98ff2637c3299a6d",
            "_model_module": "@jupyter-widgets/controls",
            "children": [
              "IPY_MODEL_2f9eef5a02824f7f933e3c97f80f7f69",
              "IPY_MODEL_5e87af6d31e9439fa1e69087d0c0ebe3"
            ]
          }
        },
        "aac7d915855b4c7e98ff2637c3299a6d": {
          "model_module": "@jupyter-widgets/base",
          "model_name": "LayoutModel",
          "state": {
            "_view_name": "LayoutView",
            "grid_template_rows": null,
            "right": null,
            "justify_content": null,
            "_view_module": "@jupyter-widgets/base",
            "overflow": null,
            "_model_module_version": "1.2.0",
            "_view_count": null,
            "flex_flow": null,
            "width": null,
            "min_width": null,
            "border": null,
            "align_items": null,
            "bottom": null,
            "_model_module": "@jupyter-widgets/base",
            "top": null,
            "grid_column": null,
            "overflow_y": null,
            "overflow_x": null,
            "grid_auto_flow": null,
            "grid_area": null,
            "grid_template_columns": null,
            "flex": null,
            "_model_name": "LayoutModel",
            "justify_items": null,
            "grid_row": null,
            "max_height": null,
            "align_content": null,
            "visibility": null,
            "align_self": null,
            "height": null,
            "min_height": null,
            "padding": null,
            "grid_auto_rows": null,
            "grid_gap": null,
            "max_width": null,
            "order": null,
            "_view_module_version": "1.2.0",
            "grid_template_areas": null,
            "object_position": null,
            "object_fit": null,
            "grid_auto_columns": null,
            "margin": null,
            "display": null,
            "left": null
          }
        },
        "2f9eef5a02824f7f933e3c97f80f7f69": {
          "model_module": "@jupyter-widgets/controls",
          "model_name": "LabelModel",
          "state": {
            "_view_name": "LabelView",
            "style": "IPY_MODEL_76cada6be43f4c7984c74f30e623c375",
            "_dom_classes": [],
            "description": "",
            "_model_name": "LabelModel",
            "placeholder": "​",
            "_view_module": "@jupyter-widgets/controls",
            "_model_module_version": "1.5.0",
            "value": " 0.87MB of 0.87MB uploaded (0.00MB deduped)\r",
            "_view_count": null,
            "_view_module_version": "1.5.0",
            "description_tooltip": null,
            "_model_module": "@jupyter-widgets/controls",
            "layout": "IPY_MODEL_74af74dc6e30432198409803d28f5c25"
          }
        },
        "5e87af6d31e9439fa1e69087d0c0ebe3": {
          "model_module": "@jupyter-widgets/controls",
          "model_name": "FloatProgressModel",
          "state": {
            "_view_name": "ProgressView",
            "style": "IPY_MODEL_babb6e216a944aafb823af7fb4cfdce6",
            "_dom_classes": [],
            "description": "",
            "_model_name": "FloatProgressModel",
            "bar_style": "",
            "max": 1,
            "_view_module": "@jupyter-widgets/controls",
            "_model_module_version": "1.5.0",
            "value": 1,
            "_view_count": null,
            "_view_module_version": "1.5.0",
            "orientation": "horizontal",
            "min": 0,
            "description_tooltip": null,
            "_model_module": "@jupyter-widgets/controls",
            "layout": "IPY_MODEL_acecea9f9450475fadfaa65c76d9fcd5"
          }
        },
        "76cada6be43f4c7984c74f30e623c375": {
          "model_module": "@jupyter-widgets/controls",
          "model_name": "DescriptionStyleModel",
          "state": {
            "_view_name": "StyleView",
            "_model_name": "DescriptionStyleModel",
            "description_width": "",
            "_view_module": "@jupyter-widgets/base",
            "_model_module_version": "1.5.0",
            "_view_count": null,
            "_view_module_version": "1.2.0",
            "_model_module": "@jupyter-widgets/controls"
          }
        },
        "74af74dc6e30432198409803d28f5c25": {
          "model_module": "@jupyter-widgets/base",
          "model_name": "LayoutModel",
          "state": {
            "_view_name": "LayoutView",
            "grid_template_rows": null,
            "right": null,
            "justify_content": null,
            "_view_module": "@jupyter-widgets/base",
            "overflow": null,
            "_model_module_version": "1.2.0",
            "_view_count": null,
            "flex_flow": null,
            "width": null,
            "min_width": null,
            "border": null,
            "align_items": null,
            "bottom": null,
            "_model_module": "@jupyter-widgets/base",
            "top": null,
            "grid_column": null,
            "overflow_y": null,
            "overflow_x": null,
            "grid_auto_flow": null,
            "grid_area": null,
            "grid_template_columns": null,
            "flex": null,
            "_model_name": "LayoutModel",
            "justify_items": null,
            "grid_row": null,
            "max_height": null,
            "align_content": null,
            "visibility": null,
            "align_self": null,
            "height": null,
            "min_height": null,
            "padding": null,
            "grid_auto_rows": null,
            "grid_gap": null,
            "max_width": null,
            "order": null,
            "_view_module_version": "1.2.0",
            "grid_template_areas": null,
            "object_position": null,
            "object_fit": null,
            "grid_auto_columns": null,
            "margin": null,
            "display": null,
            "left": null
          }
        },
        "babb6e216a944aafb823af7fb4cfdce6": {
          "model_module": "@jupyter-widgets/controls",
          "model_name": "ProgressStyleModel",
          "state": {
            "_view_name": "StyleView",
            "_model_name": "ProgressStyleModel",
            "description_width": "",
            "_view_module": "@jupyter-widgets/base",
            "_model_module_version": "1.5.0",
            "_view_count": null,
            "_view_module_version": "1.2.0",
            "bar_color": null,
            "_model_module": "@jupyter-widgets/controls"
          }
        },
        "acecea9f9450475fadfaa65c76d9fcd5": {
          "model_module": "@jupyter-widgets/base",
          "model_name": "LayoutModel",
          "state": {
            "_view_name": "LayoutView",
            "grid_template_rows": null,
            "right": null,
            "justify_content": null,
            "_view_module": "@jupyter-widgets/base",
            "overflow": null,
            "_model_module_version": "1.2.0",
            "_view_count": null,
            "flex_flow": null,
            "width": null,
            "min_width": null,
            "border": null,
            "align_items": null,
            "bottom": null,
            "_model_module": "@jupyter-widgets/base",
            "top": null,
            "grid_column": null,
            "overflow_y": null,
            "overflow_x": null,
            "grid_auto_flow": null,
            "grid_area": null,
            "grid_template_columns": null,
            "flex": null,
            "_model_name": "LayoutModel",
            "justify_items": null,
            "grid_row": null,
            "max_height": null,
            "align_content": null,
            "visibility": null,
            "align_self": null,
            "height": null,
            "min_height": null,
            "padding": null,
            "grid_auto_rows": null,
            "grid_gap": null,
            "max_width": null,
            "order": null,
            "_view_module_version": "1.2.0",
            "grid_template_areas": null,
            "object_position": null,
            "object_fit": null,
            "grid_auto_columns": null,
            "margin": null,
            "display": null,
            "left": null
          }
        },
        "83c51ead2a1c40529122005882e2d201": {
          "model_module": "@jupyter-widgets/controls",
          "model_name": "VBoxModel",
          "state": {
            "_view_name": "VBoxView",
            "_dom_classes": [],
            "_model_name": "VBoxModel",
            "_view_module": "@jupyter-widgets/controls",
            "_model_module_version": "1.5.0",
            "_view_count": null,
            "_view_module_version": "1.5.0",
            "box_style": "",
            "layout": "IPY_MODEL_471e7eb76b364015acfe476c608fbfbf",
            "_model_module": "@jupyter-widgets/controls",
            "children": [
              "IPY_MODEL_09d3e7f29c704fb7ae93b439ac63c486",
              "IPY_MODEL_0cc16527e1d8482fa8346059b2a94e0f"
            ]
          }
        },
        "471e7eb76b364015acfe476c608fbfbf": {
          "model_module": "@jupyter-widgets/base",
          "model_name": "LayoutModel",
          "state": {
            "_view_name": "LayoutView",
            "grid_template_rows": null,
            "right": null,
            "justify_content": null,
            "_view_module": "@jupyter-widgets/base",
            "overflow": null,
            "_model_module_version": "1.2.0",
            "_view_count": null,
            "flex_flow": null,
            "width": null,
            "min_width": null,
            "border": null,
            "align_items": null,
            "bottom": null,
            "_model_module": "@jupyter-widgets/base",
            "top": null,
            "grid_column": null,
            "overflow_y": null,
            "overflow_x": null,
            "grid_auto_flow": null,
            "grid_area": null,
            "grid_template_columns": null,
            "flex": null,
            "_model_name": "LayoutModel",
            "justify_items": null,
            "grid_row": null,
            "max_height": null,
            "align_content": null,
            "visibility": null,
            "align_self": null,
            "height": null,
            "min_height": null,
            "padding": null,
            "grid_auto_rows": null,
            "grid_gap": null,
            "max_width": null,
            "order": null,
            "_view_module_version": "1.2.0",
            "grid_template_areas": null,
            "object_position": null,
            "object_fit": null,
            "grid_auto_columns": null,
            "margin": null,
            "display": null,
            "left": null
          }
        },
        "09d3e7f29c704fb7ae93b439ac63c486": {
          "model_module": "@jupyter-widgets/controls",
          "model_name": "LabelModel",
          "state": {
            "_view_name": "LabelView",
            "style": "IPY_MODEL_e77eaea69ce044e5bda0d3b753c823f4",
            "_dom_classes": [],
            "description": "",
            "_model_name": "LabelModel",
            "placeholder": "​",
            "_view_module": "@jupyter-widgets/controls",
            "_model_module_version": "1.5.0",
            "value": " 1.04MB of 1.04MB uploaded (0.00MB deduped)\r",
            "_view_count": null,
            "_view_module_version": "1.5.0",
            "description_tooltip": null,
            "_model_module": "@jupyter-widgets/controls",
            "layout": "IPY_MODEL_2ea30264475848a6925888616f42bf13"
          }
        },
        "0cc16527e1d8482fa8346059b2a94e0f": {
          "model_module": "@jupyter-widgets/controls",
          "model_name": "FloatProgressModel",
          "state": {
            "_view_name": "ProgressView",
            "style": "IPY_MODEL_d8e925a2fd48440199611659f7afa012",
            "_dom_classes": [],
            "description": "",
            "_model_name": "FloatProgressModel",
            "bar_style": "",
            "max": 1,
            "_view_module": "@jupyter-widgets/controls",
            "_model_module_version": "1.5.0",
            "value": 1,
            "_view_count": null,
            "_view_module_version": "1.5.0",
            "orientation": "horizontal",
            "min": 0,
            "description_tooltip": null,
            "_model_module": "@jupyter-widgets/controls",
            "layout": "IPY_MODEL_b62789d431a048febe0cd90b06bc1c50"
          }
        },
        "e77eaea69ce044e5bda0d3b753c823f4": {
          "model_module": "@jupyter-widgets/controls",
          "model_name": "DescriptionStyleModel",
          "state": {
            "_view_name": "StyleView",
            "_model_name": "DescriptionStyleModel",
            "description_width": "",
            "_view_module": "@jupyter-widgets/base",
            "_model_module_version": "1.5.0",
            "_view_count": null,
            "_view_module_version": "1.2.0",
            "_model_module": "@jupyter-widgets/controls"
          }
        },
        "2ea30264475848a6925888616f42bf13": {
          "model_module": "@jupyter-widgets/base",
          "model_name": "LayoutModel",
          "state": {
            "_view_name": "LayoutView",
            "grid_template_rows": null,
            "right": null,
            "justify_content": null,
            "_view_module": "@jupyter-widgets/base",
            "overflow": null,
            "_model_module_version": "1.2.0",
            "_view_count": null,
            "flex_flow": null,
            "width": null,
            "min_width": null,
            "border": null,
            "align_items": null,
            "bottom": null,
            "_model_module": "@jupyter-widgets/base",
            "top": null,
            "grid_column": null,
            "overflow_y": null,
            "overflow_x": null,
            "grid_auto_flow": null,
            "grid_area": null,
            "grid_template_columns": null,
            "flex": null,
            "_model_name": "LayoutModel",
            "justify_items": null,
            "grid_row": null,
            "max_height": null,
            "align_content": null,
            "visibility": null,
            "align_self": null,
            "height": null,
            "min_height": null,
            "padding": null,
            "grid_auto_rows": null,
            "grid_gap": null,
            "max_width": null,
            "order": null,
            "_view_module_version": "1.2.0",
            "grid_template_areas": null,
            "object_position": null,
            "object_fit": null,
            "grid_auto_columns": null,
            "margin": null,
            "display": null,
            "left": null
          }
        },
        "d8e925a2fd48440199611659f7afa012": {
          "model_module": "@jupyter-widgets/controls",
          "model_name": "ProgressStyleModel",
          "state": {
            "_view_name": "StyleView",
            "_model_name": "ProgressStyleModel",
            "description_width": "",
            "_view_module": "@jupyter-widgets/base",
            "_model_module_version": "1.5.0",
            "_view_count": null,
            "_view_module_version": "1.2.0",
            "bar_color": null,
            "_model_module": "@jupyter-widgets/controls"
          }
        },
        "b62789d431a048febe0cd90b06bc1c50": {
          "model_module": "@jupyter-widgets/base",
          "model_name": "LayoutModel",
          "state": {
            "_view_name": "LayoutView",
            "grid_template_rows": null,
            "right": null,
            "justify_content": null,
            "_view_module": "@jupyter-widgets/base",
            "overflow": null,
            "_model_module_version": "1.2.0",
            "_view_count": null,
            "flex_flow": null,
            "width": null,
            "min_width": null,
            "border": null,
            "align_items": null,
            "bottom": null,
            "_model_module": "@jupyter-widgets/base",
            "top": null,
            "grid_column": null,
            "overflow_y": null,
            "overflow_x": null,
            "grid_auto_flow": null,
            "grid_area": null,
            "grid_template_columns": null,
            "flex": null,
            "_model_name": "LayoutModel",
            "justify_items": null,
            "grid_row": null,
            "max_height": null,
            "align_content": null,
            "visibility": null,
            "align_self": null,
            "height": null,
            "min_height": null,
            "padding": null,
            "grid_auto_rows": null,
            "grid_gap": null,
            "max_width": null,
            "order": null,
            "_view_module_version": "1.2.0",
            "grid_template_areas": null,
            "object_position": null,
            "object_fit": null,
            "grid_auto_columns": null,
            "margin": null,
            "display": null,
            "left": null
          }
        },
        "8eefb09a2bd5410c8d2704611af6e550": {
          "model_module": "@jupyter-widgets/controls",
          "model_name": "VBoxModel",
          "state": {
            "_view_name": "VBoxView",
            "_dom_classes": [],
            "_model_name": "VBoxModel",
            "_view_module": "@jupyter-widgets/controls",
            "_model_module_version": "1.5.0",
            "_view_count": null,
            "_view_module_version": "1.5.0",
            "box_style": "",
            "layout": "IPY_MODEL_bf5580f2b8e14b11922cd4436e042896",
            "_model_module": "@jupyter-widgets/controls",
            "children": [
              "IPY_MODEL_f2213530d09d4beb99d89e76a7119848",
              "IPY_MODEL_099009f5cb3f4be8b72bebf3abaaee77"
            ]
          }
        },
        "bf5580f2b8e14b11922cd4436e042896": {
          "model_module": "@jupyter-widgets/base",
          "model_name": "LayoutModel",
          "state": {
            "_view_name": "LayoutView",
            "grid_template_rows": null,
            "right": null,
            "justify_content": null,
            "_view_module": "@jupyter-widgets/base",
            "overflow": null,
            "_model_module_version": "1.2.0",
            "_view_count": null,
            "flex_flow": null,
            "width": null,
            "min_width": null,
            "border": null,
            "align_items": null,
            "bottom": null,
            "_model_module": "@jupyter-widgets/base",
            "top": null,
            "grid_column": null,
            "overflow_y": null,
            "overflow_x": null,
            "grid_auto_flow": null,
            "grid_area": null,
            "grid_template_columns": null,
            "flex": null,
            "_model_name": "LayoutModel",
            "justify_items": null,
            "grid_row": null,
            "max_height": null,
            "align_content": null,
            "visibility": null,
            "align_self": null,
            "height": null,
            "min_height": null,
            "padding": null,
            "grid_auto_rows": null,
            "grid_gap": null,
            "max_width": null,
            "order": null,
            "_view_module_version": "1.2.0",
            "grid_template_areas": null,
            "object_position": null,
            "object_fit": null,
            "grid_auto_columns": null,
            "margin": null,
            "display": null,
            "left": null
          }
        },
        "f2213530d09d4beb99d89e76a7119848": {
          "model_module": "@jupyter-widgets/controls",
          "model_name": "LabelModel",
          "state": {
            "_view_name": "LabelView",
            "style": "IPY_MODEL_f964c675ab8c417cb706db5a8283d516",
            "_dom_classes": [],
            "description": "",
            "_model_name": "LabelModel",
            "placeholder": "​",
            "_view_module": "@jupyter-widgets/controls",
            "_model_module_version": "1.5.0",
            "value": " 1.08MB of 1.08MB uploaded (0.00MB deduped)\r",
            "_view_count": null,
            "_view_module_version": "1.5.0",
            "description_tooltip": null,
            "_model_module": "@jupyter-widgets/controls",
            "layout": "IPY_MODEL_6b9dc3f8e3f34d109f19a5105b6faff0"
          }
        },
        "099009f5cb3f4be8b72bebf3abaaee77": {
          "model_module": "@jupyter-widgets/controls",
          "model_name": "FloatProgressModel",
          "state": {
            "_view_name": "ProgressView",
            "style": "IPY_MODEL_48572aaa025b4633b041da626b87f97e",
            "_dom_classes": [],
            "description": "",
            "_model_name": "FloatProgressModel",
            "bar_style": "",
            "max": 1,
            "_view_module": "@jupyter-widgets/controls",
            "_model_module_version": "1.5.0",
            "value": 1,
            "_view_count": null,
            "_view_module_version": "1.5.0",
            "orientation": "horizontal",
            "min": 0,
            "description_tooltip": null,
            "_model_module": "@jupyter-widgets/controls",
            "layout": "IPY_MODEL_8226c48f279942d4838147f33c9da383"
          }
        },
        "f964c675ab8c417cb706db5a8283d516": {
          "model_module": "@jupyter-widgets/controls",
          "model_name": "DescriptionStyleModel",
          "state": {
            "_view_name": "StyleView",
            "_model_name": "DescriptionStyleModel",
            "description_width": "",
            "_view_module": "@jupyter-widgets/base",
            "_model_module_version": "1.5.0",
            "_view_count": null,
            "_view_module_version": "1.2.0",
            "_model_module": "@jupyter-widgets/controls"
          }
        },
        "6b9dc3f8e3f34d109f19a5105b6faff0": {
          "model_module": "@jupyter-widgets/base",
          "model_name": "LayoutModel",
          "state": {
            "_view_name": "LayoutView",
            "grid_template_rows": null,
            "right": null,
            "justify_content": null,
            "_view_module": "@jupyter-widgets/base",
            "overflow": null,
            "_model_module_version": "1.2.0",
            "_view_count": null,
            "flex_flow": null,
            "width": null,
            "min_width": null,
            "border": null,
            "align_items": null,
            "bottom": null,
            "_model_module": "@jupyter-widgets/base",
            "top": null,
            "grid_column": null,
            "overflow_y": null,
            "overflow_x": null,
            "grid_auto_flow": null,
            "grid_area": null,
            "grid_template_columns": null,
            "flex": null,
            "_model_name": "LayoutModel",
            "justify_items": null,
            "grid_row": null,
            "max_height": null,
            "align_content": null,
            "visibility": null,
            "align_self": null,
            "height": null,
            "min_height": null,
            "padding": null,
            "grid_auto_rows": null,
            "grid_gap": null,
            "max_width": null,
            "order": null,
            "_view_module_version": "1.2.0",
            "grid_template_areas": null,
            "object_position": null,
            "object_fit": null,
            "grid_auto_columns": null,
            "margin": null,
            "display": null,
            "left": null
          }
        },
        "48572aaa025b4633b041da626b87f97e": {
          "model_module": "@jupyter-widgets/controls",
          "model_name": "ProgressStyleModel",
          "state": {
            "_view_name": "StyleView",
            "_model_name": "ProgressStyleModel",
            "description_width": "",
            "_view_module": "@jupyter-widgets/base",
            "_model_module_version": "1.5.0",
            "_view_count": null,
            "_view_module_version": "1.2.0",
            "bar_color": null,
            "_model_module": "@jupyter-widgets/controls"
          }
        },
        "8226c48f279942d4838147f33c9da383": {
          "model_module": "@jupyter-widgets/base",
          "model_name": "LayoutModel",
          "state": {
            "_view_name": "LayoutView",
            "grid_template_rows": null,
            "right": null,
            "justify_content": null,
            "_view_module": "@jupyter-widgets/base",
            "overflow": null,
            "_model_module_version": "1.2.0",
            "_view_count": null,
            "flex_flow": null,
            "width": null,
            "min_width": null,
            "border": null,
            "align_items": null,
            "bottom": null,
            "_model_module": "@jupyter-widgets/base",
            "top": null,
            "grid_column": null,
            "overflow_y": null,
            "overflow_x": null,
            "grid_auto_flow": null,
            "grid_area": null,
            "grid_template_columns": null,
            "flex": null,
            "_model_name": "LayoutModel",
            "justify_items": null,
            "grid_row": null,
            "max_height": null,
            "align_content": null,
            "visibility": null,
            "align_self": null,
            "height": null,
            "min_height": null,
            "padding": null,
            "grid_auto_rows": null,
            "grid_gap": null,
            "max_width": null,
            "order": null,
            "_view_module_version": "1.2.0",
            "grid_template_areas": null,
            "object_position": null,
            "object_fit": null,
            "grid_auto_columns": null,
            "margin": null,
            "display": null,
            "left": null
          }
        },
        "0092e9dd36f94be69f5a12924fd15cee": {
          "model_module": "@jupyter-widgets/controls",
          "model_name": "VBoxModel",
          "state": {
            "_view_name": "VBoxView",
            "_dom_classes": [],
            "_model_name": "VBoxModel",
            "_view_module": "@jupyter-widgets/controls",
            "_model_module_version": "1.5.0",
            "_view_count": null,
            "_view_module_version": "1.5.0",
            "box_style": "",
            "layout": "IPY_MODEL_6fdb7538311d4f6a8897d7d661214734",
            "_model_module": "@jupyter-widgets/controls",
            "children": [
              "IPY_MODEL_a6fc0da0cb004f21abd8eb3d9ba9a9aa",
              "IPY_MODEL_79b825b1c2754b7c8c2e331e2ba28f41"
            ]
          }
        },
        "6fdb7538311d4f6a8897d7d661214734": {
          "model_module": "@jupyter-widgets/base",
          "model_name": "LayoutModel",
          "state": {
            "_view_name": "LayoutView",
            "grid_template_rows": null,
            "right": null,
            "justify_content": null,
            "_view_module": "@jupyter-widgets/base",
            "overflow": null,
            "_model_module_version": "1.2.0",
            "_view_count": null,
            "flex_flow": null,
            "width": null,
            "min_width": null,
            "border": null,
            "align_items": null,
            "bottom": null,
            "_model_module": "@jupyter-widgets/base",
            "top": null,
            "grid_column": null,
            "overflow_y": null,
            "overflow_x": null,
            "grid_auto_flow": null,
            "grid_area": null,
            "grid_template_columns": null,
            "flex": null,
            "_model_name": "LayoutModel",
            "justify_items": null,
            "grid_row": null,
            "max_height": null,
            "align_content": null,
            "visibility": null,
            "align_self": null,
            "height": null,
            "min_height": null,
            "padding": null,
            "grid_auto_rows": null,
            "grid_gap": null,
            "max_width": null,
            "order": null,
            "_view_module_version": "1.2.0",
            "grid_template_areas": null,
            "object_position": null,
            "object_fit": null,
            "grid_auto_columns": null,
            "margin": null,
            "display": null,
            "left": null
          }
        },
        "a6fc0da0cb004f21abd8eb3d9ba9a9aa": {
          "model_module": "@jupyter-widgets/controls",
          "model_name": "LabelModel",
          "state": {
            "_view_name": "LabelView",
            "style": "IPY_MODEL_7055faad7ab94474a574773393d68785",
            "_dom_classes": [],
            "description": "",
            "_model_name": "LabelModel",
            "placeholder": "​",
            "_view_module": "@jupyter-widgets/controls",
            "_model_module_version": "1.5.0",
            "value": " 1.09MB of 1.09MB uploaded (0.00MB deduped)\r",
            "_view_count": null,
            "_view_module_version": "1.5.0",
            "description_tooltip": null,
            "_model_module": "@jupyter-widgets/controls",
            "layout": "IPY_MODEL_8418420e01ed460a9e62db7e49893acd"
          }
        },
        "79b825b1c2754b7c8c2e331e2ba28f41": {
          "model_module": "@jupyter-widgets/controls",
          "model_name": "FloatProgressModel",
          "state": {
            "_view_name": "ProgressView",
            "style": "IPY_MODEL_520dd225671d4c0996f98030224a3bcd",
            "_dom_classes": [],
            "description": "",
            "_model_name": "FloatProgressModel",
            "bar_style": "",
            "max": 1,
            "_view_module": "@jupyter-widgets/controls",
            "_model_module_version": "1.5.0",
            "value": 1,
            "_view_count": null,
            "_view_module_version": "1.5.0",
            "orientation": "horizontal",
            "min": 0,
            "description_tooltip": null,
            "_model_module": "@jupyter-widgets/controls",
            "layout": "IPY_MODEL_271c693868284a87b91b6d9c0e99b313"
          }
        },
        "7055faad7ab94474a574773393d68785": {
          "model_module": "@jupyter-widgets/controls",
          "model_name": "DescriptionStyleModel",
          "state": {
            "_view_name": "StyleView",
            "_model_name": "DescriptionStyleModel",
            "description_width": "",
            "_view_module": "@jupyter-widgets/base",
            "_model_module_version": "1.5.0",
            "_view_count": null,
            "_view_module_version": "1.2.0",
            "_model_module": "@jupyter-widgets/controls"
          }
        },
        "8418420e01ed460a9e62db7e49893acd": {
          "model_module": "@jupyter-widgets/base",
          "model_name": "LayoutModel",
          "state": {
            "_view_name": "LayoutView",
            "grid_template_rows": null,
            "right": null,
            "justify_content": null,
            "_view_module": "@jupyter-widgets/base",
            "overflow": null,
            "_model_module_version": "1.2.0",
            "_view_count": null,
            "flex_flow": null,
            "width": null,
            "min_width": null,
            "border": null,
            "align_items": null,
            "bottom": null,
            "_model_module": "@jupyter-widgets/base",
            "top": null,
            "grid_column": null,
            "overflow_y": null,
            "overflow_x": null,
            "grid_auto_flow": null,
            "grid_area": null,
            "grid_template_columns": null,
            "flex": null,
            "_model_name": "LayoutModel",
            "justify_items": null,
            "grid_row": null,
            "max_height": null,
            "align_content": null,
            "visibility": null,
            "align_self": null,
            "height": null,
            "min_height": null,
            "padding": null,
            "grid_auto_rows": null,
            "grid_gap": null,
            "max_width": null,
            "order": null,
            "_view_module_version": "1.2.0",
            "grid_template_areas": null,
            "object_position": null,
            "object_fit": null,
            "grid_auto_columns": null,
            "margin": null,
            "display": null,
            "left": null
          }
        },
        "520dd225671d4c0996f98030224a3bcd": {
          "model_module": "@jupyter-widgets/controls",
          "model_name": "ProgressStyleModel",
          "state": {
            "_view_name": "StyleView",
            "_model_name": "ProgressStyleModel",
            "description_width": "",
            "_view_module": "@jupyter-widgets/base",
            "_model_module_version": "1.5.0",
            "_view_count": null,
            "_view_module_version": "1.2.0",
            "bar_color": null,
            "_model_module": "@jupyter-widgets/controls"
          }
        },
        "271c693868284a87b91b6d9c0e99b313": {
          "model_module": "@jupyter-widgets/base",
          "model_name": "LayoutModel",
          "state": {
            "_view_name": "LayoutView",
            "grid_template_rows": null,
            "right": null,
            "justify_content": null,
            "_view_module": "@jupyter-widgets/base",
            "overflow": null,
            "_model_module_version": "1.2.0",
            "_view_count": null,
            "flex_flow": null,
            "width": null,
            "min_width": null,
            "border": null,
            "align_items": null,
            "bottom": null,
            "_model_module": "@jupyter-widgets/base",
            "top": null,
            "grid_column": null,
            "overflow_y": null,
            "overflow_x": null,
            "grid_auto_flow": null,
            "grid_area": null,
            "grid_template_columns": null,
            "flex": null,
            "_model_name": "LayoutModel",
            "justify_items": null,
            "grid_row": null,
            "max_height": null,
            "align_content": null,
            "visibility": null,
            "align_self": null,
            "height": null,
            "min_height": null,
            "padding": null,
            "grid_auto_rows": null,
            "grid_gap": null,
            "max_width": null,
            "order": null,
            "_view_module_version": "1.2.0",
            "grid_template_areas": null,
            "object_position": null,
            "object_fit": null,
            "grid_auto_columns": null,
            "margin": null,
            "display": null,
            "left": null
          }
        },
        "196fcbdc423c42b2a9ddc43b1aff6acb": {
          "model_module": "@jupyter-widgets/controls",
          "model_name": "VBoxModel",
          "state": {
            "_view_name": "VBoxView",
            "_dom_classes": [],
            "_model_name": "VBoxModel",
            "_view_module": "@jupyter-widgets/controls",
            "_model_module_version": "1.5.0",
            "_view_count": null,
            "_view_module_version": "1.5.0",
            "box_style": "",
            "layout": "IPY_MODEL_686dea192df64801990dce630bde6ec2",
            "_model_module": "@jupyter-widgets/controls",
            "children": [
              "IPY_MODEL_9bfb09d0ce7f46d293c8706b1a1016a1",
              "IPY_MODEL_6ac2b271167844be9e974cd2df953a97"
            ]
          }
        },
        "686dea192df64801990dce630bde6ec2": {
          "model_module": "@jupyter-widgets/base",
          "model_name": "LayoutModel",
          "state": {
            "_view_name": "LayoutView",
            "grid_template_rows": null,
            "right": null,
            "justify_content": null,
            "_view_module": "@jupyter-widgets/base",
            "overflow": null,
            "_model_module_version": "1.2.0",
            "_view_count": null,
            "flex_flow": null,
            "width": null,
            "min_width": null,
            "border": null,
            "align_items": null,
            "bottom": null,
            "_model_module": "@jupyter-widgets/base",
            "top": null,
            "grid_column": null,
            "overflow_y": null,
            "overflow_x": null,
            "grid_auto_flow": null,
            "grid_area": null,
            "grid_template_columns": null,
            "flex": null,
            "_model_name": "LayoutModel",
            "justify_items": null,
            "grid_row": null,
            "max_height": null,
            "align_content": null,
            "visibility": null,
            "align_self": null,
            "height": null,
            "min_height": null,
            "padding": null,
            "grid_auto_rows": null,
            "grid_gap": null,
            "max_width": null,
            "order": null,
            "_view_module_version": "1.2.0",
            "grid_template_areas": null,
            "object_position": null,
            "object_fit": null,
            "grid_auto_columns": null,
            "margin": null,
            "display": null,
            "left": null
          }
        },
        "9bfb09d0ce7f46d293c8706b1a1016a1": {
          "model_module": "@jupyter-widgets/controls",
          "model_name": "LabelModel",
          "state": {
            "_view_name": "LabelView",
            "style": "IPY_MODEL_bf2b02fdd2cc4f71b9a761e984ca9e67",
            "_dom_classes": [],
            "description": "",
            "_model_name": "LabelModel",
            "placeholder": "​",
            "_view_module": "@jupyter-widgets/controls",
            "_model_module_version": "1.5.0",
            "value": " 1.14MB of 1.14MB uploaded (0.00MB deduped)\r",
            "_view_count": null,
            "_view_module_version": "1.5.0",
            "description_tooltip": null,
            "_model_module": "@jupyter-widgets/controls",
            "layout": "IPY_MODEL_18286668419f4436b3b12ac27fb2ab18"
          }
        },
        "6ac2b271167844be9e974cd2df953a97": {
          "model_module": "@jupyter-widgets/controls",
          "model_name": "FloatProgressModel",
          "state": {
            "_view_name": "ProgressView",
            "style": "IPY_MODEL_950db6ddd792427f876c7e115398fb55",
            "_dom_classes": [],
            "description": "",
            "_model_name": "FloatProgressModel",
            "bar_style": "",
            "max": 1,
            "_view_module": "@jupyter-widgets/controls",
            "_model_module_version": "1.5.0",
            "value": 1,
            "_view_count": null,
            "_view_module_version": "1.5.0",
            "orientation": "horizontal",
            "min": 0,
            "description_tooltip": null,
            "_model_module": "@jupyter-widgets/controls",
            "layout": "IPY_MODEL_0a4dad349f3e43308f9d74d404d89cd1"
          }
        },
        "bf2b02fdd2cc4f71b9a761e984ca9e67": {
          "model_module": "@jupyter-widgets/controls",
          "model_name": "DescriptionStyleModel",
          "state": {
            "_view_name": "StyleView",
            "_model_name": "DescriptionStyleModel",
            "description_width": "",
            "_view_module": "@jupyter-widgets/base",
            "_model_module_version": "1.5.0",
            "_view_count": null,
            "_view_module_version": "1.2.0",
            "_model_module": "@jupyter-widgets/controls"
          }
        },
        "18286668419f4436b3b12ac27fb2ab18": {
          "model_module": "@jupyter-widgets/base",
          "model_name": "LayoutModel",
          "state": {
            "_view_name": "LayoutView",
            "grid_template_rows": null,
            "right": null,
            "justify_content": null,
            "_view_module": "@jupyter-widgets/base",
            "overflow": null,
            "_model_module_version": "1.2.0",
            "_view_count": null,
            "flex_flow": null,
            "width": null,
            "min_width": null,
            "border": null,
            "align_items": null,
            "bottom": null,
            "_model_module": "@jupyter-widgets/base",
            "top": null,
            "grid_column": null,
            "overflow_y": null,
            "overflow_x": null,
            "grid_auto_flow": null,
            "grid_area": null,
            "grid_template_columns": null,
            "flex": null,
            "_model_name": "LayoutModel",
            "justify_items": null,
            "grid_row": null,
            "max_height": null,
            "align_content": null,
            "visibility": null,
            "align_self": null,
            "height": null,
            "min_height": null,
            "padding": null,
            "grid_auto_rows": null,
            "grid_gap": null,
            "max_width": null,
            "order": null,
            "_view_module_version": "1.2.0",
            "grid_template_areas": null,
            "object_position": null,
            "object_fit": null,
            "grid_auto_columns": null,
            "margin": null,
            "display": null,
            "left": null
          }
        },
        "950db6ddd792427f876c7e115398fb55": {
          "model_module": "@jupyter-widgets/controls",
          "model_name": "ProgressStyleModel",
          "state": {
            "_view_name": "StyleView",
            "_model_name": "ProgressStyleModel",
            "description_width": "",
            "_view_module": "@jupyter-widgets/base",
            "_model_module_version": "1.5.0",
            "_view_count": null,
            "_view_module_version": "1.2.0",
            "bar_color": null,
            "_model_module": "@jupyter-widgets/controls"
          }
        },
        "0a4dad349f3e43308f9d74d404d89cd1": {
          "model_module": "@jupyter-widgets/base",
          "model_name": "LayoutModel",
          "state": {
            "_view_name": "LayoutView",
            "grid_template_rows": null,
            "right": null,
            "justify_content": null,
            "_view_module": "@jupyter-widgets/base",
            "overflow": null,
            "_model_module_version": "1.2.0",
            "_view_count": null,
            "flex_flow": null,
            "width": null,
            "min_width": null,
            "border": null,
            "align_items": null,
            "bottom": null,
            "_model_module": "@jupyter-widgets/base",
            "top": null,
            "grid_column": null,
            "overflow_y": null,
            "overflow_x": null,
            "grid_auto_flow": null,
            "grid_area": null,
            "grid_template_columns": null,
            "flex": null,
            "_model_name": "LayoutModel",
            "justify_items": null,
            "grid_row": null,
            "max_height": null,
            "align_content": null,
            "visibility": null,
            "align_self": null,
            "height": null,
            "min_height": null,
            "padding": null,
            "grid_auto_rows": null,
            "grid_gap": null,
            "max_width": null,
            "order": null,
            "_view_module_version": "1.2.0",
            "grid_template_areas": null,
            "object_position": null,
            "object_fit": null,
            "grid_auto_columns": null,
            "margin": null,
            "display": null,
            "left": null
          }
        },
        "686bd22c629546149fcb6fb5a21cd799": {
          "model_module": "@jupyter-widgets/controls",
          "model_name": "VBoxModel",
          "state": {
            "_view_name": "VBoxView",
            "_dom_classes": [],
            "_model_name": "VBoxModel",
            "_view_module": "@jupyter-widgets/controls",
            "_model_module_version": "1.5.0",
            "_view_count": null,
            "_view_module_version": "1.5.0",
            "box_style": "",
            "layout": "IPY_MODEL_43240ed441a74e33a9cb0271af069c1b",
            "_model_module": "@jupyter-widgets/controls",
            "children": [
              "IPY_MODEL_c0d4893bf8f9463e98ab24538435e1e9",
              "IPY_MODEL_a684ef7455f2440c9a1a5491483d0d35"
            ]
          }
        },
        "43240ed441a74e33a9cb0271af069c1b": {
          "model_module": "@jupyter-widgets/base",
          "model_name": "LayoutModel",
          "state": {
            "_view_name": "LayoutView",
            "grid_template_rows": null,
            "right": null,
            "justify_content": null,
            "_view_module": "@jupyter-widgets/base",
            "overflow": null,
            "_model_module_version": "1.2.0",
            "_view_count": null,
            "flex_flow": null,
            "width": null,
            "min_width": null,
            "border": null,
            "align_items": null,
            "bottom": null,
            "_model_module": "@jupyter-widgets/base",
            "top": null,
            "grid_column": null,
            "overflow_y": null,
            "overflow_x": null,
            "grid_auto_flow": null,
            "grid_area": null,
            "grid_template_columns": null,
            "flex": null,
            "_model_name": "LayoutModel",
            "justify_items": null,
            "grid_row": null,
            "max_height": null,
            "align_content": null,
            "visibility": null,
            "align_self": null,
            "height": null,
            "min_height": null,
            "padding": null,
            "grid_auto_rows": null,
            "grid_gap": null,
            "max_width": null,
            "order": null,
            "_view_module_version": "1.2.0",
            "grid_template_areas": null,
            "object_position": null,
            "object_fit": null,
            "grid_auto_columns": null,
            "margin": null,
            "display": null,
            "left": null
          }
        },
        "c0d4893bf8f9463e98ab24538435e1e9": {
          "model_module": "@jupyter-widgets/controls",
          "model_name": "LabelModel",
          "state": {
            "_view_name": "LabelView",
            "style": "IPY_MODEL_15dedb6a078b4468b005d60e63fe3f16",
            "_dom_classes": [],
            "description": "",
            "_model_name": "LabelModel",
            "placeholder": "​",
            "_view_module": "@jupyter-widgets/controls",
            "_model_module_version": "1.5.0",
            "value": " 0.99MB of 0.99MB uploaded (0.00MB deduped)\r",
            "_view_count": null,
            "_view_module_version": "1.5.0",
            "description_tooltip": null,
            "_model_module": "@jupyter-widgets/controls",
            "layout": "IPY_MODEL_a5030a62d5d64bf79627e20a81ebf246"
          }
        },
        "a684ef7455f2440c9a1a5491483d0d35": {
          "model_module": "@jupyter-widgets/controls",
          "model_name": "FloatProgressModel",
          "state": {
            "_view_name": "ProgressView",
            "style": "IPY_MODEL_b8a69b26058f432e896b7743f11c12c2",
            "_dom_classes": [],
            "description": "",
            "_model_name": "FloatProgressModel",
            "bar_style": "",
            "max": 1,
            "_view_module": "@jupyter-widgets/controls",
            "_model_module_version": "1.5.0",
            "value": 1,
            "_view_count": null,
            "_view_module_version": "1.5.0",
            "orientation": "horizontal",
            "min": 0,
            "description_tooltip": null,
            "_model_module": "@jupyter-widgets/controls",
            "layout": "IPY_MODEL_dd14d520f98a4ac4843149d6fdb70010"
          }
        },
        "15dedb6a078b4468b005d60e63fe3f16": {
          "model_module": "@jupyter-widgets/controls",
          "model_name": "DescriptionStyleModel",
          "state": {
            "_view_name": "StyleView",
            "_model_name": "DescriptionStyleModel",
            "description_width": "",
            "_view_module": "@jupyter-widgets/base",
            "_model_module_version": "1.5.0",
            "_view_count": null,
            "_view_module_version": "1.2.0",
            "_model_module": "@jupyter-widgets/controls"
          }
        },
        "a5030a62d5d64bf79627e20a81ebf246": {
          "model_module": "@jupyter-widgets/base",
          "model_name": "LayoutModel",
          "state": {
            "_view_name": "LayoutView",
            "grid_template_rows": null,
            "right": null,
            "justify_content": null,
            "_view_module": "@jupyter-widgets/base",
            "overflow": null,
            "_model_module_version": "1.2.0",
            "_view_count": null,
            "flex_flow": null,
            "width": null,
            "min_width": null,
            "border": null,
            "align_items": null,
            "bottom": null,
            "_model_module": "@jupyter-widgets/base",
            "top": null,
            "grid_column": null,
            "overflow_y": null,
            "overflow_x": null,
            "grid_auto_flow": null,
            "grid_area": null,
            "grid_template_columns": null,
            "flex": null,
            "_model_name": "LayoutModel",
            "justify_items": null,
            "grid_row": null,
            "max_height": null,
            "align_content": null,
            "visibility": null,
            "align_self": null,
            "height": null,
            "min_height": null,
            "padding": null,
            "grid_auto_rows": null,
            "grid_gap": null,
            "max_width": null,
            "order": null,
            "_view_module_version": "1.2.0",
            "grid_template_areas": null,
            "object_position": null,
            "object_fit": null,
            "grid_auto_columns": null,
            "margin": null,
            "display": null,
            "left": null
          }
        },
        "b8a69b26058f432e896b7743f11c12c2": {
          "model_module": "@jupyter-widgets/controls",
          "model_name": "ProgressStyleModel",
          "state": {
            "_view_name": "StyleView",
            "_model_name": "ProgressStyleModel",
            "description_width": "",
            "_view_module": "@jupyter-widgets/base",
            "_model_module_version": "1.5.0",
            "_view_count": null,
            "_view_module_version": "1.2.0",
            "bar_color": null,
            "_model_module": "@jupyter-widgets/controls"
          }
        },
        "dd14d520f98a4ac4843149d6fdb70010": {
          "model_module": "@jupyter-widgets/base",
          "model_name": "LayoutModel",
          "state": {
            "_view_name": "LayoutView",
            "grid_template_rows": null,
            "right": null,
            "justify_content": null,
            "_view_module": "@jupyter-widgets/base",
            "overflow": null,
            "_model_module_version": "1.2.0",
            "_view_count": null,
            "flex_flow": null,
            "width": null,
            "min_width": null,
            "border": null,
            "align_items": null,
            "bottom": null,
            "_model_module": "@jupyter-widgets/base",
            "top": null,
            "grid_column": null,
            "overflow_y": null,
            "overflow_x": null,
            "grid_auto_flow": null,
            "grid_area": null,
            "grid_template_columns": null,
            "flex": null,
            "_model_name": "LayoutModel",
            "justify_items": null,
            "grid_row": null,
            "max_height": null,
            "align_content": null,
            "visibility": null,
            "align_self": null,
            "height": null,
            "min_height": null,
            "padding": null,
            "grid_auto_rows": null,
            "grid_gap": null,
            "max_width": null,
            "order": null,
            "_view_module_version": "1.2.0",
            "grid_template_areas": null,
            "object_position": null,
            "object_fit": null,
            "grid_auto_columns": null,
            "margin": null,
            "display": null,
            "left": null
          }
        },
        "14b9056f3e7b42deb550943cfe71b468": {
          "model_module": "@jupyter-widgets/controls",
          "model_name": "VBoxModel",
          "state": {
            "_view_name": "VBoxView",
            "_dom_classes": [],
            "_model_name": "VBoxModel",
            "_view_module": "@jupyter-widgets/controls",
            "_model_module_version": "1.5.0",
            "_view_count": null,
            "_view_module_version": "1.5.0",
            "box_style": "",
            "layout": "IPY_MODEL_f161110d2e904d4e9dfb93e5f72204ea",
            "_model_module": "@jupyter-widgets/controls",
            "children": [
              "IPY_MODEL_0014d849e6ce4747919bf7891c034ef2",
              "IPY_MODEL_2df975cd7ad442e09203255885d4622a"
            ]
          }
        },
        "f161110d2e904d4e9dfb93e5f72204ea": {
          "model_module": "@jupyter-widgets/base",
          "model_name": "LayoutModel",
          "state": {
            "_view_name": "LayoutView",
            "grid_template_rows": null,
            "right": null,
            "justify_content": null,
            "_view_module": "@jupyter-widgets/base",
            "overflow": null,
            "_model_module_version": "1.2.0",
            "_view_count": null,
            "flex_flow": null,
            "width": null,
            "min_width": null,
            "border": null,
            "align_items": null,
            "bottom": null,
            "_model_module": "@jupyter-widgets/base",
            "top": null,
            "grid_column": null,
            "overflow_y": null,
            "overflow_x": null,
            "grid_auto_flow": null,
            "grid_area": null,
            "grid_template_columns": null,
            "flex": null,
            "_model_name": "LayoutModel",
            "justify_items": null,
            "grid_row": null,
            "max_height": null,
            "align_content": null,
            "visibility": null,
            "align_self": null,
            "height": null,
            "min_height": null,
            "padding": null,
            "grid_auto_rows": null,
            "grid_gap": null,
            "max_width": null,
            "order": null,
            "_view_module_version": "1.2.0",
            "grid_template_areas": null,
            "object_position": null,
            "object_fit": null,
            "grid_auto_columns": null,
            "margin": null,
            "display": null,
            "left": null
          }
        },
        "0014d849e6ce4747919bf7891c034ef2": {
          "model_module": "@jupyter-widgets/controls",
          "model_name": "LabelModel",
          "state": {
            "_view_name": "LabelView",
            "style": "IPY_MODEL_98f69882ca2c424ea46cfce397d82b50",
            "_dom_classes": [],
            "description": "",
            "_model_name": "LabelModel",
            "placeholder": "​",
            "_view_module": "@jupyter-widgets/controls",
            "_model_module_version": "1.5.0",
            "value": " 1.20MB of 1.20MB uploaded (0.00MB deduped)\r",
            "_view_count": null,
            "_view_module_version": "1.5.0",
            "description_tooltip": null,
            "_model_module": "@jupyter-widgets/controls",
            "layout": "IPY_MODEL_d0dab36ff7594c15b7c38b6e630fc8ca"
          }
        },
        "2df975cd7ad442e09203255885d4622a": {
          "model_module": "@jupyter-widgets/controls",
          "model_name": "FloatProgressModel",
          "state": {
            "_view_name": "ProgressView",
            "style": "IPY_MODEL_6e244ccb47dd4d448c0c81ae4446084b",
            "_dom_classes": [],
            "description": "",
            "_model_name": "FloatProgressModel",
            "bar_style": "",
            "max": 1,
            "_view_module": "@jupyter-widgets/controls",
            "_model_module_version": "1.5.0",
            "value": 1,
            "_view_count": null,
            "_view_module_version": "1.5.0",
            "orientation": "horizontal",
            "min": 0,
            "description_tooltip": null,
            "_model_module": "@jupyter-widgets/controls",
            "layout": "IPY_MODEL_c48e9798be434d49a1b122b9a3389062"
          }
        },
        "98f69882ca2c424ea46cfce397d82b50": {
          "model_module": "@jupyter-widgets/controls",
          "model_name": "DescriptionStyleModel",
          "state": {
            "_view_name": "StyleView",
            "_model_name": "DescriptionStyleModel",
            "description_width": "",
            "_view_module": "@jupyter-widgets/base",
            "_model_module_version": "1.5.0",
            "_view_count": null,
            "_view_module_version": "1.2.0",
            "_model_module": "@jupyter-widgets/controls"
          }
        },
        "d0dab36ff7594c15b7c38b6e630fc8ca": {
          "model_module": "@jupyter-widgets/base",
          "model_name": "LayoutModel",
          "state": {
            "_view_name": "LayoutView",
            "grid_template_rows": null,
            "right": null,
            "justify_content": null,
            "_view_module": "@jupyter-widgets/base",
            "overflow": null,
            "_model_module_version": "1.2.0",
            "_view_count": null,
            "flex_flow": null,
            "width": null,
            "min_width": null,
            "border": null,
            "align_items": null,
            "bottom": null,
            "_model_module": "@jupyter-widgets/base",
            "top": null,
            "grid_column": null,
            "overflow_y": null,
            "overflow_x": null,
            "grid_auto_flow": null,
            "grid_area": null,
            "grid_template_columns": null,
            "flex": null,
            "_model_name": "LayoutModel",
            "justify_items": null,
            "grid_row": null,
            "max_height": null,
            "align_content": null,
            "visibility": null,
            "align_self": null,
            "height": null,
            "min_height": null,
            "padding": null,
            "grid_auto_rows": null,
            "grid_gap": null,
            "max_width": null,
            "order": null,
            "_view_module_version": "1.2.0",
            "grid_template_areas": null,
            "object_position": null,
            "object_fit": null,
            "grid_auto_columns": null,
            "margin": null,
            "display": null,
            "left": null
          }
        },
        "6e244ccb47dd4d448c0c81ae4446084b": {
          "model_module": "@jupyter-widgets/controls",
          "model_name": "ProgressStyleModel",
          "state": {
            "_view_name": "StyleView",
            "_model_name": "ProgressStyleModel",
            "description_width": "",
            "_view_module": "@jupyter-widgets/base",
            "_model_module_version": "1.5.0",
            "_view_count": null,
            "_view_module_version": "1.2.0",
            "bar_color": null,
            "_model_module": "@jupyter-widgets/controls"
          }
        },
        "c48e9798be434d49a1b122b9a3389062": {
          "model_module": "@jupyter-widgets/base",
          "model_name": "LayoutModel",
          "state": {
            "_view_name": "LayoutView",
            "grid_template_rows": null,
            "right": null,
            "justify_content": null,
            "_view_module": "@jupyter-widgets/base",
            "overflow": null,
            "_model_module_version": "1.2.0",
            "_view_count": null,
            "flex_flow": null,
            "width": null,
            "min_width": null,
            "border": null,
            "align_items": null,
            "bottom": null,
            "_model_module": "@jupyter-widgets/base",
            "top": null,
            "grid_column": null,
            "overflow_y": null,
            "overflow_x": null,
            "grid_auto_flow": null,
            "grid_area": null,
            "grid_template_columns": null,
            "flex": null,
            "_model_name": "LayoutModel",
            "justify_items": null,
            "grid_row": null,
            "max_height": null,
            "align_content": null,
            "visibility": null,
            "align_self": null,
            "height": null,
            "min_height": null,
            "padding": null,
            "grid_auto_rows": null,
            "grid_gap": null,
            "max_width": null,
            "order": null,
            "_view_module_version": "1.2.0",
            "grid_template_areas": null,
            "object_position": null,
            "object_fit": null,
            "grid_auto_columns": null,
            "margin": null,
            "display": null,
            "left": null
          }
        },
        "311037e22578440996cc3e21bfd45130": {
          "model_module": "@jupyter-widgets/controls",
          "model_name": "VBoxModel",
          "state": {
            "_view_name": "VBoxView",
            "_dom_classes": [],
            "_model_name": "VBoxModel",
            "_view_module": "@jupyter-widgets/controls",
            "_model_module_version": "1.5.0",
            "_view_count": null,
            "_view_module_version": "1.5.0",
            "box_style": "",
            "layout": "IPY_MODEL_9dee843a196c4ac59310244b2d3777c1",
            "_model_module": "@jupyter-widgets/controls",
            "children": [
              "IPY_MODEL_59972230ee01438abb831c38859d57e5",
              "IPY_MODEL_1ed78ca8704947fbbca444adf3410f5d"
            ]
          }
        },
        "9dee843a196c4ac59310244b2d3777c1": {
          "model_module": "@jupyter-widgets/base",
          "model_name": "LayoutModel",
          "state": {
            "_view_name": "LayoutView",
            "grid_template_rows": null,
            "right": null,
            "justify_content": null,
            "_view_module": "@jupyter-widgets/base",
            "overflow": null,
            "_model_module_version": "1.2.0",
            "_view_count": null,
            "flex_flow": null,
            "width": null,
            "min_width": null,
            "border": null,
            "align_items": null,
            "bottom": null,
            "_model_module": "@jupyter-widgets/base",
            "top": null,
            "grid_column": null,
            "overflow_y": null,
            "overflow_x": null,
            "grid_auto_flow": null,
            "grid_area": null,
            "grid_template_columns": null,
            "flex": null,
            "_model_name": "LayoutModel",
            "justify_items": null,
            "grid_row": null,
            "max_height": null,
            "align_content": null,
            "visibility": null,
            "align_self": null,
            "height": null,
            "min_height": null,
            "padding": null,
            "grid_auto_rows": null,
            "grid_gap": null,
            "max_width": null,
            "order": null,
            "_view_module_version": "1.2.0",
            "grid_template_areas": null,
            "object_position": null,
            "object_fit": null,
            "grid_auto_columns": null,
            "margin": null,
            "display": null,
            "left": null
          }
        },
        "59972230ee01438abb831c38859d57e5": {
          "model_module": "@jupyter-widgets/controls",
          "model_name": "LabelModel",
          "state": {
            "_view_name": "LabelView",
            "style": "IPY_MODEL_a72e5d22c99b4a748d3ba6fe3ae0ab17",
            "_dom_classes": [],
            "description": "",
            "_model_name": "LabelModel",
            "placeholder": "​",
            "_view_module": "@jupyter-widgets/controls",
            "_model_module_version": "1.5.0",
            "value": " 1.21MB of 1.21MB uploaded (0.00MB deduped)\r",
            "_view_count": null,
            "_view_module_version": "1.5.0",
            "description_tooltip": null,
            "_model_module": "@jupyter-widgets/controls",
            "layout": "IPY_MODEL_f00245077c2441ea9eb58ae0e36989fd"
          }
        },
        "1ed78ca8704947fbbca444adf3410f5d": {
          "model_module": "@jupyter-widgets/controls",
          "model_name": "FloatProgressModel",
          "state": {
            "_view_name": "ProgressView",
            "style": "IPY_MODEL_48d9697742634a66a6f8e78f7d1d98c3",
            "_dom_classes": [],
            "description": "",
            "_model_name": "FloatProgressModel",
            "bar_style": "",
            "max": 1,
            "_view_module": "@jupyter-widgets/controls",
            "_model_module_version": "1.5.0",
            "value": 1,
            "_view_count": null,
            "_view_module_version": "1.5.0",
            "orientation": "horizontal",
            "min": 0,
            "description_tooltip": null,
            "_model_module": "@jupyter-widgets/controls",
            "layout": "IPY_MODEL_d1cb881699964b8ebcc269e3fd83a7f4"
          }
        },
        "a72e5d22c99b4a748d3ba6fe3ae0ab17": {
          "model_module": "@jupyter-widgets/controls",
          "model_name": "DescriptionStyleModel",
          "state": {
            "_view_name": "StyleView",
            "_model_name": "DescriptionStyleModel",
            "description_width": "",
            "_view_module": "@jupyter-widgets/base",
            "_model_module_version": "1.5.0",
            "_view_count": null,
            "_view_module_version": "1.2.0",
            "_model_module": "@jupyter-widgets/controls"
          }
        },
        "f00245077c2441ea9eb58ae0e36989fd": {
          "model_module": "@jupyter-widgets/base",
          "model_name": "LayoutModel",
          "state": {
            "_view_name": "LayoutView",
            "grid_template_rows": null,
            "right": null,
            "justify_content": null,
            "_view_module": "@jupyter-widgets/base",
            "overflow": null,
            "_model_module_version": "1.2.0",
            "_view_count": null,
            "flex_flow": null,
            "width": null,
            "min_width": null,
            "border": null,
            "align_items": null,
            "bottom": null,
            "_model_module": "@jupyter-widgets/base",
            "top": null,
            "grid_column": null,
            "overflow_y": null,
            "overflow_x": null,
            "grid_auto_flow": null,
            "grid_area": null,
            "grid_template_columns": null,
            "flex": null,
            "_model_name": "LayoutModel",
            "justify_items": null,
            "grid_row": null,
            "max_height": null,
            "align_content": null,
            "visibility": null,
            "align_self": null,
            "height": null,
            "min_height": null,
            "padding": null,
            "grid_auto_rows": null,
            "grid_gap": null,
            "max_width": null,
            "order": null,
            "_view_module_version": "1.2.0",
            "grid_template_areas": null,
            "object_position": null,
            "object_fit": null,
            "grid_auto_columns": null,
            "margin": null,
            "display": null,
            "left": null
          }
        },
        "48d9697742634a66a6f8e78f7d1d98c3": {
          "model_module": "@jupyter-widgets/controls",
          "model_name": "ProgressStyleModel",
          "state": {
            "_view_name": "StyleView",
            "_model_name": "ProgressStyleModel",
            "description_width": "",
            "_view_module": "@jupyter-widgets/base",
            "_model_module_version": "1.5.0",
            "_view_count": null,
            "_view_module_version": "1.2.0",
            "bar_color": null,
            "_model_module": "@jupyter-widgets/controls"
          }
        },
        "d1cb881699964b8ebcc269e3fd83a7f4": {
          "model_module": "@jupyter-widgets/base",
          "model_name": "LayoutModel",
          "state": {
            "_view_name": "LayoutView",
            "grid_template_rows": null,
            "right": null,
            "justify_content": null,
            "_view_module": "@jupyter-widgets/base",
            "overflow": null,
            "_model_module_version": "1.2.0",
            "_view_count": null,
            "flex_flow": null,
            "width": null,
            "min_width": null,
            "border": null,
            "align_items": null,
            "bottom": null,
            "_model_module": "@jupyter-widgets/base",
            "top": null,
            "grid_column": null,
            "overflow_y": null,
            "overflow_x": null,
            "grid_auto_flow": null,
            "grid_area": null,
            "grid_template_columns": null,
            "flex": null,
            "_model_name": "LayoutModel",
            "justify_items": null,
            "grid_row": null,
            "max_height": null,
            "align_content": null,
            "visibility": null,
            "align_self": null,
            "height": null,
            "min_height": null,
            "padding": null,
            "grid_auto_rows": null,
            "grid_gap": null,
            "max_width": null,
            "order": null,
            "_view_module_version": "1.2.0",
            "grid_template_areas": null,
            "object_position": null,
            "object_fit": null,
            "grid_auto_columns": null,
            "margin": null,
            "display": null,
            "left": null
          }
        },
        "9fc676377a3c48d39657bc9ef55e9116": {
          "model_module": "@jupyter-widgets/controls",
          "model_name": "VBoxModel",
          "state": {
            "_view_name": "VBoxView",
            "_dom_classes": [],
            "_model_name": "VBoxModel",
            "_view_module": "@jupyter-widgets/controls",
            "_model_module_version": "1.5.0",
            "_view_count": null,
            "_view_module_version": "1.5.0",
            "box_style": "",
            "layout": "IPY_MODEL_cf0de6dddb9e4e009d23b1b6adf47b3c",
            "_model_module": "@jupyter-widgets/controls",
            "children": [
              "IPY_MODEL_2d0fe7dd055c4417a641fa88b378800e",
              "IPY_MODEL_0fd3b663ae5b4c7591ca5bf27943ea6a"
            ]
          }
        },
        "cf0de6dddb9e4e009d23b1b6adf47b3c": {
          "model_module": "@jupyter-widgets/base",
          "model_name": "LayoutModel",
          "state": {
            "_view_name": "LayoutView",
            "grid_template_rows": null,
            "right": null,
            "justify_content": null,
            "_view_module": "@jupyter-widgets/base",
            "overflow": null,
            "_model_module_version": "1.2.0",
            "_view_count": null,
            "flex_flow": null,
            "width": null,
            "min_width": null,
            "border": null,
            "align_items": null,
            "bottom": null,
            "_model_module": "@jupyter-widgets/base",
            "top": null,
            "grid_column": null,
            "overflow_y": null,
            "overflow_x": null,
            "grid_auto_flow": null,
            "grid_area": null,
            "grid_template_columns": null,
            "flex": null,
            "_model_name": "LayoutModel",
            "justify_items": null,
            "grid_row": null,
            "max_height": null,
            "align_content": null,
            "visibility": null,
            "align_self": null,
            "height": null,
            "min_height": null,
            "padding": null,
            "grid_auto_rows": null,
            "grid_gap": null,
            "max_width": null,
            "order": null,
            "_view_module_version": "1.2.0",
            "grid_template_areas": null,
            "object_position": null,
            "object_fit": null,
            "grid_auto_columns": null,
            "margin": null,
            "display": null,
            "left": null
          }
        },
        "2d0fe7dd055c4417a641fa88b378800e": {
          "model_module": "@jupyter-widgets/controls",
          "model_name": "LabelModel",
          "state": {
            "_view_name": "LabelView",
            "style": "IPY_MODEL_d721930bf95b4c1a8d8e4c5f731d9a7c",
            "_dom_classes": [],
            "description": "",
            "_model_name": "LabelModel",
            "placeholder": "​",
            "_view_module": "@jupyter-widgets/controls",
            "_model_module_version": "1.5.0",
            "value": " 1.25MB of 1.25MB uploaded (0.00MB deduped)\r",
            "_view_count": null,
            "_view_module_version": "1.5.0",
            "description_tooltip": null,
            "_model_module": "@jupyter-widgets/controls",
            "layout": "IPY_MODEL_22e08acdb7cf482faae5fc1d17f22279"
          }
        },
        "0fd3b663ae5b4c7591ca5bf27943ea6a": {
          "model_module": "@jupyter-widgets/controls",
          "model_name": "FloatProgressModel",
          "state": {
            "_view_name": "ProgressView",
            "style": "IPY_MODEL_13d8f4fdf7aa485cbfa4711b61cc3357",
            "_dom_classes": [],
            "description": "",
            "_model_name": "FloatProgressModel",
            "bar_style": "",
            "max": 1,
            "_view_module": "@jupyter-widgets/controls",
            "_model_module_version": "1.5.0",
            "value": 1,
            "_view_count": null,
            "_view_module_version": "1.5.0",
            "orientation": "horizontal",
            "min": 0,
            "description_tooltip": null,
            "_model_module": "@jupyter-widgets/controls",
            "layout": "IPY_MODEL_5942f2e6cafa4d33b7cbb03e2aed76e5"
          }
        },
        "d721930bf95b4c1a8d8e4c5f731d9a7c": {
          "model_module": "@jupyter-widgets/controls",
          "model_name": "DescriptionStyleModel",
          "state": {
            "_view_name": "StyleView",
            "_model_name": "DescriptionStyleModel",
            "description_width": "",
            "_view_module": "@jupyter-widgets/base",
            "_model_module_version": "1.5.0",
            "_view_count": null,
            "_view_module_version": "1.2.0",
            "_model_module": "@jupyter-widgets/controls"
          }
        },
        "22e08acdb7cf482faae5fc1d17f22279": {
          "model_module": "@jupyter-widgets/base",
          "model_name": "LayoutModel",
          "state": {
            "_view_name": "LayoutView",
            "grid_template_rows": null,
            "right": null,
            "justify_content": null,
            "_view_module": "@jupyter-widgets/base",
            "overflow": null,
            "_model_module_version": "1.2.0",
            "_view_count": null,
            "flex_flow": null,
            "width": null,
            "min_width": null,
            "border": null,
            "align_items": null,
            "bottom": null,
            "_model_module": "@jupyter-widgets/base",
            "top": null,
            "grid_column": null,
            "overflow_y": null,
            "overflow_x": null,
            "grid_auto_flow": null,
            "grid_area": null,
            "grid_template_columns": null,
            "flex": null,
            "_model_name": "LayoutModel",
            "justify_items": null,
            "grid_row": null,
            "max_height": null,
            "align_content": null,
            "visibility": null,
            "align_self": null,
            "height": null,
            "min_height": null,
            "padding": null,
            "grid_auto_rows": null,
            "grid_gap": null,
            "max_width": null,
            "order": null,
            "_view_module_version": "1.2.0",
            "grid_template_areas": null,
            "object_position": null,
            "object_fit": null,
            "grid_auto_columns": null,
            "margin": null,
            "display": null,
            "left": null
          }
        },
        "13d8f4fdf7aa485cbfa4711b61cc3357": {
          "model_module": "@jupyter-widgets/controls",
          "model_name": "ProgressStyleModel",
          "state": {
            "_view_name": "StyleView",
            "_model_name": "ProgressStyleModel",
            "description_width": "",
            "_view_module": "@jupyter-widgets/base",
            "_model_module_version": "1.5.0",
            "_view_count": null,
            "_view_module_version": "1.2.0",
            "bar_color": null,
            "_model_module": "@jupyter-widgets/controls"
          }
        },
        "5942f2e6cafa4d33b7cbb03e2aed76e5": {
          "model_module": "@jupyter-widgets/base",
          "model_name": "LayoutModel",
          "state": {
            "_view_name": "LayoutView",
            "grid_template_rows": null,
            "right": null,
            "justify_content": null,
            "_view_module": "@jupyter-widgets/base",
            "overflow": null,
            "_model_module_version": "1.2.0",
            "_view_count": null,
            "flex_flow": null,
            "width": null,
            "min_width": null,
            "border": null,
            "align_items": null,
            "bottom": null,
            "_model_module": "@jupyter-widgets/base",
            "top": null,
            "grid_column": null,
            "overflow_y": null,
            "overflow_x": null,
            "grid_auto_flow": null,
            "grid_area": null,
            "grid_template_columns": null,
            "flex": null,
            "_model_name": "LayoutModel",
            "justify_items": null,
            "grid_row": null,
            "max_height": null,
            "align_content": null,
            "visibility": null,
            "align_self": null,
            "height": null,
            "min_height": null,
            "padding": null,
            "grid_auto_rows": null,
            "grid_gap": null,
            "max_width": null,
            "order": null,
            "_view_module_version": "1.2.0",
            "grid_template_areas": null,
            "object_position": null,
            "object_fit": null,
            "grid_auto_columns": null,
            "margin": null,
            "display": null,
            "left": null
          }
        },
        "bcd85493da434a3089f59a4567e7f44a": {
          "model_module": "@jupyter-widgets/controls",
          "model_name": "VBoxModel",
          "state": {
            "_view_name": "VBoxView",
            "_dom_classes": [],
            "_model_name": "VBoxModel",
            "_view_module": "@jupyter-widgets/controls",
            "_model_module_version": "1.5.0",
            "_view_count": null,
            "_view_module_version": "1.5.0",
            "box_style": "",
            "layout": "IPY_MODEL_50ee7e29bb064bf9a8dc1ef9d04f716a",
            "_model_module": "@jupyter-widgets/controls",
            "children": [
              "IPY_MODEL_8d3276b9ec324b1bbe8894d2f703480b",
              "IPY_MODEL_34823e311e3048f9b6498220bdf0e011"
            ]
          }
        },
        "50ee7e29bb064bf9a8dc1ef9d04f716a": {
          "model_module": "@jupyter-widgets/base",
          "model_name": "LayoutModel",
          "state": {
            "_view_name": "LayoutView",
            "grid_template_rows": null,
            "right": null,
            "justify_content": null,
            "_view_module": "@jupyter-widgets/base",
            "overflow": null,
            "_model_module_version": "1.2.0",
            "_view_count": null,
            "flex_flow": null,
            "width": null,
            "min_width": null,
            "border": null,
            "align_items": null,
            "bottom": null,
            "_model_module": "@jupyter-widgets/base",
            "top": null,
            "grid_column": null,
            "overflow_y": null,
            "overflow_x": null,
            "grid_auto_flow": null,
            "grid_area": null,
            "grid_template_columns": null,
            "flex": null,
            "_model_name": "LayoutModel",
            "justify_items": null,
            "grid_row": null,
            "max_height": null,
            "align_content": null,
            "visibility": null,
            "align_self": null,
            "height": null,
            "min_height": null,
            "padding": null,
            "grid_auto_rows": null,
            "grid_gap": null,
            "max_width": null,
            "order": null,
            "_view_module_version": "1.2.0",
            "grid_template_areas": null,
            "object_position": null,
            "object_fit": null,
            "grid_auto_columns": null,
            "margin": null,
            "display": null,
            "left": null
          }
        },
        "8d3276b9ec324b1bbe8894d2f703480b": {
          "model_module": "@jupyter-widgets/controls",
          "model_name": "LabelModel",
          "state": {
            "_view_name": "LabelView",
            "style": "IPY_MODEL_976e5b8c35a442c7a9748d4965fcb154",
            "_dom_classes": [],
            "description": "",
            "_model_name": "LabelModel",
            "placeholder": "​",
            "_view_module": "@jupyter-widgets/controls",
            "_model_module_version": "1.5.0",
            "value": " 1.13MB of 1.13MB uploaded (0.00MB deduped)\r",
            "_view_count": null,
            "_view_module_version": "1.5.0",
            "description_tooltip": null,
            "_model_module": "@jupyter-widgets/controls",
            "layout": "IPY_MODEL_2860c39a1ff44e878eab5bcd9f41192a"
          }
        },
        "34823e311e3048f9b6498220bdf0e011": {
          "model_module": "@jupyter-widgets/controls",
          "model_name": "FloatProgressModel",
          "state": {
            "_view_name": "ProgressView",
            "style": "IPY_MODEL_3f35471752994dff9cda51448c8da495",
            "_dom_classes": [],
            "description": "",
            "_model_name": "FloatProgressModel",
            "bar_style": "",
            "max": 1,
            "_view_module": "@jupyter-widgets/controls",
            "_model_module_version": "1.5.0",
            "value": 1,
            "_view_count": null,
            "_view_module_version": "1.5.0",
            "orientation": "horizontal",
            "min": 0,
            "description_tooltip": null,
            "_model_module": "@jupyter-widgets/controls",
            "layout": "IPY_MODEL_ac0c6e73e093481e83eb65f6db45bf24"
          }
        },
        "976e5b8c35a442c7a9748d4965fcb154": {
          "model_module": "@jupyter-widgets/controls",
          "model_name": "DescriptionStyleModel",
          "state": {
            "_view_name": "StyleView",
            "_model_name": "DescriptionStyleModel",
            "description_width": "",
            "_view_module": "@jupyter-widgets/base",
            "_model_module_version": "1.5.0",
            "_view_count": null,
            "_view_module_version": "1.2.0",
            "_model_module": "@jupyter-widgets/controls"
          }
        },
        "2860c39a1ff44e878eab5bcd9f41192a": {
          "model_module": "@jupyter-widgets/base",
          "model_name": "LayoutModel",
          "state": {
            "_view_name": "LayoutView",
            "grid_template_rows": null,
            "right": null,
            "justify_content": null,
            "_view_module": "@jupyter-widgets/base",
            "overflow": null,
            "_model_module_version": "1.2.0",
            "_view_count": null,
            "flex_flow": null,
            "width": null,
            "min_width": null,
            "border": null,
            "align_items": null,
            "bottom": null,
            "_model_module": "@jupyter-widgets/base",
            "top": null,
            "grid_column": null,
            "overflow_y": null,
            "overflow_x": null,
            "grid_auto_flow": null,
            "grid_area": null,
            "grid_template_columns": null,
            "flex": null,
            "_model_name": "LayoutModel",
            "justify_items": null,
            "grid_row": null,
            "max_height": null,
            "align_content": null,
            "visibility": null,
            "align_self": null,
            "height": null,
            "min_height": null,
            "padding": null,
            "grid_auto_rows": null,
            "grid_gap": null,
            "max_width": null,
            "order": null,
            "_view_module_version": "1.2.0",
            "grid_template_areas": null,
            "object_position": null,
            "object_fit": null,
            "grid_auto_columns": null,
            "margin": null,
            "display": null,
            "left": null
          }
        },
        "3f35471752994dff9cda51448c8da495": {
          "model_module": "@jupyter-widgets/controls",
          "model_name": "ProgressStyleModel",
          "state": {
            "_view_name": "StyleView",
            "_model_name": "ProgressStyleModel",
            "description_width": "",
            "_view_module": "@jupyter-widgets/base",
            "_model_module_version": "1.5.0",
            "_view_count": null,
            "_view_module_version": "1.2.0",
            "bar_color": null,
            "_model_module": "@jupyter-widgets/controls"
          }
        },
        "ac0c6e73e093481e83eb65f6db45bf24": {
          "model_module": "@jupyter-widgets/base",
          "model_name": "LayoutModel",
          "state": {
            "_view_name": "LayoutView",
            "grid_template_rows": null,
            "right": null,
            "justify_content": null,
            "_view_module": "@jupyter-widgets/base",
            "overflow": null,
            "_model_module_version": "1.2.0",
            "_view_count": null,
            "flex_flow": null,
            "width": null,
            "min_width": null,
            "border": null,
            "align_items": null,
            "bottom": null,
            "_model_module": "@jupyter-widgets/base",
            "top": null,
            "grid_column": null,
            "overflow_y": null,
            "overflow_x": null,
            "grid_auto_flow": null,
            "grid_area": null,
            "grid_template_columns": null,
            "flex": null,
            "_model_name": "LayoutModel",
            "justify_items": null,
            "grid_row": null,
            "max_height": null,
            "align_content": null,
            "visibility": null,
            "align_self": null,
            "height": null,
            "min_height": null,
            "padding": null,
            "grid_auto_rows": null,
            "grid_gap": null,
            "max_width": null,
            "order": null,
            "_view_module_version": "1.2.0",
            "grid_template_areas": null,
            "object_position": null,
            "object_fit": null,
            "grid_auto_columns": null,
            "margin": null,
            "display": null,
            "left": null
          }
        }
      }
    }
  },
  "cells": [
    {
      "cell_type": "markdown",
      "metadata": {
        "id": "view-in-github",
        "colab_type": "text"
      },
      "source": [
        "<a href=\"https://colab.research.google.com/github/acse-2020/acse2020-acse9-finalreport-acse-jaq15/blob/main/notebooks/LSTM_GRU/LSTM_GRU_Corn.ipynb\" target=\"_parent\"><img src=\"https://colab.research.google.com/assets/colab-badge.svg\" alt=\"Open In Colab\"/></a>"
      ]
    },
    {
      "cell_type": "markdown",
      "metadata": {
        "id": "z5F7GfFTgUo3"
      },
      "source": [
        "# Imports\n",
        "\n",
        "The cells below handle all the necessary imports to run our models, making use of the public repo feeder_repo, linked <!-- [Text](link) -->\n",
        "[here](https://github.com/acse-jaq15/feeder_repo)."
      ]
    },
    {
      "cell_type": "code",
      "metadata": {
        "id": "HWy9Ay1SGzWa",
        "colab": {
          "base_uri": "https://localhost:8080/"
        },
        "outputId": "e59f458d-479e-4a39-b9a5-0f4abe18ca16"
      },
      "source": [
        "# clone the feeder repo to get data_reader module and financial time series data\n",
        "!git clone https://github.com/acse-jaq15/feeder_repo.git"
      ],
      "execution_count": 1,
      "outputs": [
        {
          "output_type": "stream",
          "text": [
            "Cloning into 'feeder_repo'...\n",
            "remote: Enumerating objects: 147, done.\u001b[K\n",
            "remote: Counting objects: 100% (147/147), done.\u001b[K\n",
            "remote: Compressing objects: 100% (142/142), done.\u001b[K\n",
            "remote: Total 147 (delta 71), reused 6 (delta 2), pack-reused 0\u001b[K\n",
            "Receiving objects: 100% (147/147), 120.19 KiB | 5.72 MiB/s, done.\n",
            "Resolving deltas: 100% (71/71), done.\n"
          ],
          "name": "stdout"
        }
      ]
    },
    {
      "cell_type": "code",
      "metadata": {
        "id": "ChlUNYaiHGM2",
        "colab": {
          "base_uri": "https://localhost:8080/"
        },
        "outputId": "2127e03b-5698-40b3-ed4a-52f1e127a557"
      },
      "source": [
        "# using '%' to enforce a permanent change of directory\n",
        "%cd feeder_repo/"
      ],
      "execution_count": 2,
      "outputs": [
        {
          "output_type": "stream",
          "text": [
            "/content/feeder_repo\n"
          ],
          "name": "stdout"
        }
      ]
    },
    {
      "cell_type": "code",
      "metadata": {
        "id": "saD-jpvPIfZ8",
        "colab": {
          "base_uri": "https://localhost:8080/"
        },
        "outputId": "ec321ed5-d81c-4608-a610-06b6de46e1dd"
      },
      "source": [
        "# checking contents listed correctly, should read:\n",
        "# baseline_model.py data data_reader.py LICENSE README.md security_plotter.py\n",
        "!ls"
      ],
      "execution_count": 3,
      "outputs": [
        {
          "output_type": "stream",
          "text": [
            "base_model.py  data  data_reader.py  LICENSE  README.md  security_plotter.py\n"
          ],
          "name": "stdout"
        }
      ]
    },
    {
      "cell_type": "code",
      "metadata": {
        "id": "fRqkwo6kZUz_"
      },
      "source": [
        "import math\n",
        "import sys\n",
        "import keras\n",
        "import os\n",
        "import matplotlib.dates as mdates\n",
        "import matplotlib.pyplot as plt\n",
        "import pandas as pd\n",
        "import numpy as np\n",
        "from keras.models import Sequential\n",
        "from keras.layers import Dense\n",
        "from keras.layers import LSTM\n",
        "from keras.layers import GRU\n",
        "from keras.layers import Dropout\n",
        "from keras.layers import *\n",
        "from keras.utils.layer_utils import count_params\n",
        "from keras.utils.vis_utils import plot_model\n",
        "from sklearn.preprocessing import MinMaxScaler\n",
        "from sklearn.metrics import mean_squared_error\n",
        "from sklearn.metrics import mean_absolute_error\n",
        "from sklearn.model_selection import train_test_split\n",
        "from keras.callbacks import EarlyStopping, Callback\n",
        "from keras.optimizers import RMSprop, SGD, Adam, Nadam\n",
        "from keras.initializers import random_normal"
      ],
      "execution_count": 4,
      "outputs": []
    },
    {
      "cell_type": "code",
      "metadata": {
        "id": "hzVhwND1HAlw"
      },
      "source": [
        "# appending path with 'feeder_repo' string\n",
        "sys.path.append('feeder_repo')\n",
        "\n",
        "# import Data_Reader class from data_reader module\n",
        "from feeder_repo.data_reader import Data_Reader\n",
        "# import Baseline_Model class from base_model module\n",
        "from feeder_repo.base_model import Base_Model\n",
        "# import Security_Plotter class from security_plotter module\n",
        "from feeder_repo.security_plotter import Security_Plotter"
      ],
      "execution_count": 5,
      "outputs": []
    },
    {
      "cell_type": "code",
      "metadata": {
        "colab": {
          "base_uri": "https://localhost:8080/"
        },
        "id": "6-tNDlXuhiCU",
        "outputId": "28c4b038-694a-4f4c-97d3-9cb9000aa5af"
      },
      "source": [
        "# checking if the notebook is running on a GPU\n",
        "gpu_info = !nvidia-smi\n",
        "gpu_info = '\\n'.join(gpu_info)\n",
        "if gpu_info.find('failed') >= 0:\n",
        "    print('Select the Runtime > \"Change runtime type\" menu to enable a GPU accelerator, ')\n",
        "    print('and then re-execute this cell.')\n",
        "else:\n",
        "    print(gpu_info)"
      ],
      "execution_count": 6,
      "outputs": [
        {
          "output_type": "stream",
          "text": [
            "Mon Jul 19 10:54:56 2021       \n",
            "+-----------------------------------------------------------------------------+\n",
            "| NVIDIA-SMI 470.42.01    Driver Version: 460.32.03    CUDA Version: 11.2     |\n",
            "|-------------------------------+----------------------+----------------------+\n",
            "| GPU  Name        Persistence-M| Bus-Id        Disp.A | Volatile Uncorr. ECC |\n",
            "| Fan  Temp  Perf  Pwr:Usage/Cap|         Memory-Usage | GPU-Util  Compute M. |\n",
            "|                               |                      |               MIG M. |\n",
            "|===============================+======================+======================|\n",
            "|   0  Tesla P100-PCIE...  Off  | 00000000:00:04.0 Off |                    0 |\n",
            "| N/A   43C    P0    28W / 250W |      0MiB / 16280MiB |      0%      Default |\n",
            "|                               |                      |                  N/A |\n",
            "+-------------------------------+----------------------+----------------------+\n",
            "                                                                               \n",
            "+-----------------------------------------------------------------------------+\n",
            "| Processes:                                                                  |\n",
            "|  GPU   GI   CI        PID   Type   Process name                  GPU Memory |\n",
            "|        ID   ID                                                   Usage      |\n",
            "|=============================================================================|\n",
            "|  No running processes found                                                 |\n",
            "+-----------------------------------------------------------------------------+\n"
          ],
          "name": "stdout"
        }
      ]
    },
    {
      "cell_type": "markdown",
      "metadata": {
        "id": "WB9wD4Aahs8_"
      },
      "source": [
        "# Handling the data\n",
        "Here the Data_Reader class is used to read the time series data and extract training, test and validation sets, along with the relevant X and y values."
      ]
    },
    {
      "cell_type": "code",
      "metadata": {
        "id": "vBlKerL-c4-3"
      },
      "source": [
        "# storing the file to be read as a string\n",
        "in_str = 'Corn'\n",
        "# storing the year of the time series to be used as test data\n",
        "in_yr = 2019\n",
        "# creating a variable to store the model name\n",
        "model_str = 'LSTM_GRU'\n",
        "# setting our window_length to be 30 days\n",
        "window_len = 30"
      ],
      "execution_count": 7,
      "outputs": []
    },
    {
      "cell_type": "code",
      "metadata": {
        "id": "hfQJbuBk0vW0"
      },
      "source": [
        "# creating an instance of Data_Reader class\n",
        "in_data = Data_Reader(in_str, in_yr)\n",
        "# calling class method extract_train_test to generate training and test datasets\n",
        "in_data.extract_train_test()\n",
        "# calling class method extract_xy to generate X and y training and test datasets\n",
        "in_data.extract_xy(window_len)\n",
        "\n",
        "# assigning X_train and y_train\n",
        "X_train = in_data.X_train\n",
        "y_train = in_data.y_train\n",
        "\n",
        "# assigning X_test and y_test\n",
        "X_test = in_data.X_test\n",
        "y_test = in_data.y_test\n",
        "\n",
        "# assigning X_val_train and y_val_train\n",
        "X_val_train = in_data.X_val_train\n",
        "y_val_train = in_data.y_val_train\n",
        "\n",
        "# assigning X_val_test and y_val_test\n",
        "X_val_test = in_data.X_val_test\n",
        "y_val_test = in_data.y_val_test"
      ],
      "execution_count": 8,
      "outputs": []
    },
    {
      "cell_type": "markdown",
      "metadata": {
        "id": "X53Fp1Gwh88_"
      },
      "source": [
        "# Setting up wandb itegration\n",
        "Here wandb is used to perform hyperparameter tuning."
      ]
    },
    {
      "cell_type": "code",
      "metadata": {
        "colab": {
          "base_uri": "https://localhost:8080/"
        },
        "id": "aE6cdrSDiHhq",
        "outputId": "268de3b2-bc55-4774-cf02-b33c19418607"
      },
      "source": [
        "# installing the wandb library and importing\n",
        "%pip install wandb -q\n",
        "import wandb\n",
        "from wandb.keras import WandbCallback"
      ],
      "execution_count": 9,
      "outputs": [
        {
          "output_type": "stream",
          "text": [
            "\u001b[K     |████████████████████████████████| 1.8MB 4.3MB/s \n",
            "\u001b[K     |████████████████████████████████| 143kB 42.2MB/s \n",
            "\u001b[K     |████████████████████████████████| 143kB 41.1MB/s \n",
            "\u001b[K     |████████████████████████████████| 174kB 30.3MB/s \n",
            "\u001b[K     |████████████████████████████████| 102kB 9.1MB/s \n",
            "\u001b[K     |████████████████████████████████| 71kB 7.9MB/s \n",
            "\u001b[?25h  Building wheel for pathtools (setup.py) ... \u001b[?25l\u001b[?25hdone\n",
            "  Building wheel for subprocess32 (setup.py) ... \u001b[?25l\u001b[?25hdone\n",
            "\u001b[31mERROR: requests 2.23.0 has requirement urllib3!=1.25.0,!=1.25.1,<1.26,>=1.21.1, but you'll have urllib3 1.26.6 which is incompatible.\u001b[0m\n",
            "\u001b[31mERROR: datascience 0.10.6 has requirement folium==0.2.1, but you'll have folium 0.8.3 which is incompatible.\u001b[0m\n"
          ],
          "name": "stdout"
        }
      ]
    },
    {
      "cell_type": "code",
      "metadata": {
        "id": "pbgZaoQDiIKX"
      },
      "source": [
        "!pip install wandb -qq"
      ],
      "execution_count": 10,
      "outputs": []
    },
    {
      "cell_type": "code",
      "metadata": {
        "colab": {
          "base_uri": "https://localhost:8080/"
        },
        "id": "1WHkW0XyiKVL",
        "outputId": "acf4b1bc-f02c-4c63-e13a-73e2701724ab"
      },
      "source": [
        "# logging in so the hyperparameter tunings sweeps can be saved\n",
        "!wandb login"
      ],
      "execution_count": 11,
      "outputs": [
        {
          "output_type": "stream",
          "text": [
            "/usr/local/lib/python3.7/dist-packages/requests/__init__.py:91: RequestsDependencyWarning: urllib3 (1.26.6) or chardet (3.0.4) doesn't match a supported version!\n",
            "  RequestsDependencyWarning)\n",
            "\u001b[34m\u001b[1mwandb\u001b[0m: You can find your API key in your browser here: https://wandb.ai/authorize\n",
            "\u001b[34m\u001b[1mwandb\u001b[0m: Paste an API key from your profile and hit enter: \n",
            "\u001b[34m\u001b[1mwandb\u001b[0m: Appending key for api.wandb.ai to your netrc file: /root/.netrc\n"
          ],
          "name": "stdout"
        }
      ]
    },
    {
      "cell_type": "code",
      "metadata": {
        "id": "j91IBGuSid5w"
      },
      "source": [
        "# configuring the sweep, making use of a random search methodology\n",
        "sweep_config = {\n",
        "    'method': 'random', #grid, random\n",
        "    'metric': {\n",
        "      'name': 'mse',\n",
        "      'goal': 'minimize'   \n",
        "    },\n",
        "    'parameters': {\n",
        "        'epochs': {\n",
        "            'values': [50, 100, 200]\n",
        "        },\n",
        "        'batch_size': {\n",
        "            'values': [128, 64, 32]\n",
        "        },\n",
        "        'learning_rate': {\n",
        "            'values': [0.005, 0.001, 0.0005]\n",
        "        },\n",
        "        'dropout': {\n",
        "            'values': [0.1, 0.2, 0.3]\n",
        "        },\n",
        "        'optimizer': {\n",
        "            'values': ['adam', 'nadam', 'rmsprop']\n",
        "        },\n",
        "        'activation': {\n",
        "            'values': ['tanh', 'relu', 'selu']\n",
        "        }\n",
        "    }\n",
        "}"
      ],
      "execution_count": 12,
      "outputs": []
    },
    {
      "cell_type": "code",
      "metadata": {
        "id": "V0Sr9HsorH4E"
      },
      "source": [
        "# wandb calls this training function to run through the hyperparameter search\n",
        "def train():\n",
        "    # default values for searching\n",
        "    config_defaults = {\n",
        "        'epochs': 100,\n",
        "        'batch_size': 32,\n",
        "        'learning_rate': 0.005,\n",
        "        'dropout': 0.2,\n",
        "        'optimizer': 'adam',\n",
        "        'activation': 'tanh',\n",
        "        'momentum': 0.9,\n",
        "        'seed': 42\n",
        "    }\n",
        "\n",
        "    # Initialize a new wandb run\n",
        "    wandb.init(config=config_defaults)\n",
        "    \n",
        "    # Config is a variable that holds and saves hyperparameters and inputs\n",
        "    config = wandb.config\n",
        "\n",
        "    # setting keras model to sequential mode\n",
        "    model = Sequential()\n",
        "\n",
        "    # layer 1\n",
        "    model.add(LSTM(units=64, activation=config.activation, return_sequences=True, input_shape=(window_len, 1)))\n",
        "    model.add(Dropout(config.dropout))\n",
        "    # layer 2\n",
        "    model.add(GRU(units=64, activation=config.activation))\n",
        "    model.add(Dropout(0.1))\n",
        "    # layer 3\n",
        "    model.add(Dense(1))\n",
        "\n",
        "    # Define the optimizer\n",
        "    if config.optimizer=='sgd':\n",
        "      optimizer = SGD(learning_rate=config.learning_rate, decay=1e-5, momentum=config.momentum, nesterov=True)\n",
        "    elif config.optimizer=='rmsprop':\n",
        "      optimizer = RMSprop(learning_rate=config.learning_rate, decay=1e-5)\n",
        "    elif config.optimizer=='adam':\n",
        "      optimizer = Adam(learning_rate=config.learning_rate, beta_1=0.9, beta_2=0.999, clipnorm=1.0)\n",
        "    elif config.optimizer=='nadam':\n",
        "      optimizer = Nadam(learning_rate=config.learning_rate, beta_1=0.9, beta_2=0.999, clipnorm=1.0)\n",
        "\n",
        "    model.compile(loss = \"mean_squared_error\", optimizer=optimizer, metrics=['mean_squared_error', 'mean_absolute_error'])\n",
        "\n",
        "    model.fit(X_val_train, y_val_train, batch_size=config.batch_size,\n",
        "              epochs=config.epochs,\n",
        "              validation_data=(X_val_test, y_val_test),\n",
        "              callbacks=[WandbCallback(validation_data=(X_val_test, y_val_test)),\n",
        "                          EarlyStopping(patience=10, restore_best_weights=True)])"
      ],
      "execution_count": 13,
      "outputs": []
    },
    {
      "cell_type": "code",
      "metadata": {
        "colab": {
          "base_uri": "https://localhost:8080/"
        },
        "id": "JwZO6oAFU1LN",
        "outputId": "d2e41051-47d3-4f5d-e85c-5bc227c9ae1d"
      },
      "source": [
        "# setting up our sweep_id\n",
        "sweep_id = wandb.sweep(sweep_config, project='ACSE_9_'+model_str)"
      ],
      "execution_count": 14,
      "outputs": [
        {
          "output_type": "stream",
          "text": [
            "Create sweep with ID: amj4ayh1\n",
            "Sweep URL: https://wandb.ai/acse-jaq15/ACSE_9_LSTM_GRU/sweeps/amj4ayh1\n"
          ],
          "name": "stdout"
        }
      ]
    },
    {
      "cell_type": "code",
      "metadata": {
        "colab": {
          "base_uri": "https://localhost:8080/",
          "height": 1000,
          "referenced_widgets": [
            "7f74dc319d6c40cb8dd0bef791763215",
            "248b770acace42b99336a5cce6244106",
            "82cd85cf5e0c4a48830a465ea2e27408",
            "0581b6f067c94a1cb2d11968c17c2124",
            "13b76f32068a4b2fb5da03338e1afaf6",
            "a9b67dd26f004c6fb605fafcd533980d",
            "2e0330c9bd33403396926bfd67d03433",
            "59642af2006f41d79506cd6449ece1d3",
            "11d7d5c5b174481fa108f55c3bc3d76e",
            "5004af3ee1d34cd8a2b7f737cb263883",
            "325b9c115eee4be1914e41ad5056b8f1",
            "17e89914ad4643a58ca2c8ea2402d7f1",
            "f1fe5eeee53c42178559c3bdeddace22",
            "0260e9920fe64780ade3fa31ef22a8be",
            "d2fcad4afc624e7b99c5b42fb0ebd2d6",
            "4c4c063fa724403cb3a4ab826a2aa8cf",
            "c9fb8a19313e44a29563acb12378e2ba",
            "bcea93fe552a45b7b32887962967f849",
            "f9ab46a6dc964303a2ae5bb90f70b14d",
            "9672ee3d1a8f4ac7a812d710151a96b5",
            "d4643e25d1c246f3b2ffbf4d65f7fa28",
            "da9e73c226db441ebecc6a4a50cbd543",
            "3d6b1f6577e34b0d85f6d024f0136f1c",
            "3be8f3a188fc4895a77fd3a9acd396d4",
            "5a895d5f029b4a65a3659a56fc3052cf",
            "6dd1a5a10ab840368d46de09a0538a52",
            "e6aee29d3dc241228acc6eba8a18c82e",
            "e694367311e2478c93b9696887d1b0e4",
            "1b60780554ab45d1be81feff0626fd6f",
            "3106c74f9e174af5af26ca76104d4ce4",
            "b9caa0064a784f7d82b3c7c108c97213",
            "c4fe793eadaf4b7e97285a7624ee107a",
            "e3b01ef1637240bc835452df2ef37435",
            "da08bc8cb20448d982a66de151014f7c",
            "15e65f84e1434a4fbe3e499777211d06",
            "6fcad09ad5c24a17ac446a12bb92abe3",
            "fa7fd2e77deb42cba1a281f9948679e0",
            "b28637dca9974cb6bb0638776c306196",
            "a79a4d803b464e03893694820dba03f9",
            "ace1428bacab4532ae7852faf7c6a0f7",
            "34d60f5809e04080a5a1ce87a4c27f2a",
            "82b46e0a8cc54a8aab134b37da93b2cf",
            "0dc2e6173d7e422ead7221862a9b3edd",
            "2888392aee2f43d68ca5f6fe6559b30b",
            "5ffde04a49114b69b3319bb655447026",
            "eae0e7b970d54528b3f212560755985e",
            "79b5816bab5e438591fa248fb80d5043",
            "2d63ce55c28e4a3abc08d6ae40372092",
            "17e2c29a718746008412a226b33b901b",
            "0fe69f39f0d2489f8c485a640728ce0e",
            "67155524d69c430a8e94c00043255dad",
            "51a2d74763d147df890317340ab93fc9",
            "8206e3e5cd97417084ddc45385025dbc",
            "ab25ab23bcd949ee9abcb71036306166",
            "7c05158393cb41879d1c4ce3990a5c40",
            "7af580ad51614b30be2046d51a840e90",
            "02c29b535ed9422fb8d1234a8e8417ff",
            "55eb896e4adb454cb30939384a1c12ea",
            "6e8023ab6d894c98aca2e0b6746909c3",
            "a0fb0fef52f345a9ad34a2fa141d7401",
            "3965ec40f1f74340ac3a9edff98c2afa",
            "f11a675b9bc8456ab747e22a67daa339",
            "6a0433c91a7441c4aefcbffeeb581ecb",
            "cf54f5f5ca8f4da0adec69af0540e268",
            "aaea61287be04228b28ea21a713617ed",
            "aac7d915855b4c7e98ff2637c3299a6d",
            "2f9eef5a02824f7f933e3c97f80f7f69",
            "5e87af6d31e9439fa1e69087d0c0ebe3",
            "76cada6be43f4c7984c74f30e623c375",
            "74af74dc6e30432198409803d28f5c25",
            "babb6e216a944aafb823af7fb4cfdce6",
            "acecea9f9450475fadfaa65c76d9fcd5",
            "83c51ead2a1c40529122005882e2d201",
            "471e7eb76b364015acfe476c608fbfbf",
            "09d3e7f29c704fb7ae93b439ac63c486",
            "0cc16527e1d8482fa8346059b2a94e0f",
            "e77eaea69ce044e5bda0d3b753c823f4",
            "2ea30264475848a6925888616f42bf13",
            "d8e925a2fd48440199611659f7afa012",
            "b62789d431a048febe0cd90b06bc1c50",
            "8eefb09a2bd5410c8d2704611af6e550",
            "bf5580f2b8e14b11922cd4436e042896",
            "f2213530d09d4beb99d89e76a7119848",
            "099009f5cb3f4be8b72bebf3abaaee77",
            "f964c675ab8c417cb706db5a8283d516",
            "6b9dc3f8e3f34d109f19a5105b6faff0",
            "48572aaa025b4633b041da626b87f97e",
            "8226c48f279942d4838147f33c9da383",
            "0092e9dd36f94be69f5a12924fd15cee",
            "6fdb7538311d4f6a8897d7d661214734",
            "a6fc0da0cb004f21abd8eb3d9ba9a9aa",
            "79b825b1c2754b7c8c2e331e2ba28f41",
            "7055faad7ab94474a574773393d68785",
            "8418420e01ed460a9e62db7e49893acd",
            "520dd225671d4c0996f98030224a3bcd",
            "271c693868284a87b91b6d9c0e99b313",
            "196fcbdc423c42b2a9ddc43b1aff6acb",
            "686dea192df64801990dce630bde6ec2",
            "9bfb09d0ce7f46d293c8706b1a1016a1",
            "6ac2b271167844be9e974cd2df953a97",
            "bf2b02fdd2cc4f71b9a761e984ca9e67",
            "18286668419f4436b3b12ac27fb2ab18",
            "950db6ddd792427f876c7e115398fb55",
            "0a4dad349f3e43308f9d74d404d89cd1",
            "686bd22c629546149fcb6fb5a21cd799",
            "43240ed441a74e33a9cb0271af069c1b",
            "c0d4893bf8f9463e98ab24538435e1e9",
            "a684ef7455f2440c9a1a5491483d0d35",
            "15dedb6a078b4468b005d60e63fe3f16",
            "a5030a62d5d64bf79627e20a81ebf246",
            "b8a69b26058f432e896b7743f11c12c2",
            "dd14d520f98a4ac4843149d6fdb70010",
            "14b9056f3e7b42deb550943cfe71b468",
            "f161110d2e904d4e9dfb93e5f72204ea",
            "0014d849e6ce4747919bf7891c034ef2",
            "2df975cd7ad442e09203255885d4622a",
            "98f69882ca2c424ea46cfce397d82b50",
            "d0dab36ff7594c15b7c38b6e630fc8ca",
            "6e244ccb47dd4d448c0c81ae4446084b",
            "c48e9798be434d49a1b122b9a3389062",
            "311037e22578440996cc3e21bfd45130",
            "9dee843a196c4ac59310244b2d3777c1",
            "59972230ee01438abb831c38859d57e5",
            "1ed78ca8704947fbbca444adf3410f5d",
            "a72e5d22c99b4a748d3ba6fe3ae0ab17",
            "f00245077c2441ea9eb58ae0e36989fd",
            "48d9697742634a66a6f8e78f7d1d98c3",
            "d1cb881699964b8ebcc269e3fd83a7f4",
            "9fc676377a3c48d39657bc9ef55e9116",
            "cf0de6dddb9e4e009d23b1b6adf47b3c",
            "2d0fe7dd055c4417a641fa88b378800e",
            "0fd3b663ae5b4c7591ca5bf27943ea6a",
            "d721930bf95b4c1a8d8e4c5f731d9a7c",
            "22e08acdb7cf482faae5fc1d17f22279",
            "13d8f4fdf7aa485cbfa4711b61cc3357",
            "5942f2e6cafa4d33b7cbb03e2aed76e5",
            "bcd85493da434a3089f59a4567e7f44a",
            "50ee7e29bb064bf9a8dc1ef9d04f716a",
            "8d3276b9ec324b1bbe8894d2f703480b",
            "34823e311e3048f9b6498220bdf0e011",
            "976e5b8c35a442c7a9748d4965fcb154",
            "2860c39a1ff44e878eab5bcd9f41192a",
            "3f35471752994dff9cda51448c8da495",
            "ac0c6e73e093481e83eb65f6db45bf24"
          ]
        },
        "id": "ZfSCGWfluFw0",
        "outputId": "ad4351f9-e8a5-43ff-c6be-bb3d63bc770c"
      },
      "source": [
        "# initialising a new sweep\n",
        "wandb.agent(sweep_id, train, project='ACSE_9_'+model_str)"
      ],
      "execution_count": 16,
      "outputs": [
        {
          "output_type": "stream",
          "text": [
            "\u001b[34m\u001b[1mwandb\u001b[0m: Agent Starting Run: jkrj1mgh with config:\n",
            "\u001b[34m\u001b[1mwandb\u001b[0m: \tactivation: selu\n",
            "\u001b[34m\u001b[1mwandb\u001b[0m: \tbatch_size: 32\n",
            "\u001b[34m\u001b[1mwandb\u001b[0m: \tdropout: 0.3\n",
            "\u001b[34m\u001b[1mwandb\u001b[0m: \tepochs: 50\n",
            "\u001b[34m\u001b[1mwandb\u001b[0m: \tlearning_rate: 0.005\n",
            "\u001b[34m\u001b[1mwandb\u001b[0m: \toptimizer: adam\n"
          ],
          "name": "stderr"
        },
        {
          "output_type": "display_data",
          "data": {
            "text/html": [
              "\n",
              "                Tracking run with wandb version 0.11.0<br/>\n",
              "                Syncing run <strong style=\"color:#cdcd00\">charmed-sweep-17</strong> to <a href=\"https://wandb.ai\" target=\"_blank\">Weights & Biases</a> <a href=\"https://docs.wandb.com/integrations/jupyter.html\" target=\"_blank\">(Documentation)</a>.<br/>\n",
              "                Project page: <a href=\"https://wandb.ai/acse-jaq15/ACSE_9_LSTM_GRU\" target=\"_blank\">https://wandb.ai/acse-jaq15/ACSE_9_LSTM_GRU</a><br/>\n",
              "                Sweep page: <a href=\"https://wandb.ai/acse-jaq15/ACSE_9_LSTM_GRU/sweeps/amj4ayh1\" target=\"_blank\">https://wandb.ai/acse-jaq15/ACSE_9_LSTM_GRU/sweeps/amj4ayh1</a><br/>\n",
              "Run page: <a href=\"https://wandb.ai/acse-jaq15/ACSE_9_LSTM_GRU/runs/jkrj1mgh\" target=\"_blank\">https://wandb.ai/acse-jaq15/ACSE_9_LSTM_GRU/runs/jkrj1mgh</a><br/>\n",
              "                Run data is saved locally in <code>/content/feeder_repo/wandb/run-20210718_195602-jkrj1mgh</code><br/><br/>\n",
              "            "
            ],
            "text/plain": [
              "<IPython.core.display.HTML object>"
            ]
          },
          "metadata": {
            "tags": []
          }
        },
        {
          "output_type": "stream",
          "text": [
            "WARNING:tensorflow:Layer lstm will not use cuDNN kernels since it doesn't meet the criteria. It will use a generic GPU kernel as fallback when running on GPU.\n",
            "WARNING:tensorflow:Layer gru will not use cuDNN kernels since it doesn't meet the criteria. It will use a generic GPU kernel as fallback when running on GPU.\n",
            "Epoch 1/50\n",
            "32/32 [==============================] - 11s 205ms/step - loss: 0.4524 - mean_squared_error: 0.4524 - mean_absolute_error: 0.3862 - val_loss: 0.0058 - val_mean_squared_error: 0.0058 - val_mean_absolute_error: 0.0597\n",
            "Epoch 2/50\n",
            "32/32 [==============================] - 6s 174ms/step - loss: 0.0042 - mean_squared_error: 0.0042 - mean_absolute_error: 0.0509 - val_loss: 0.0039 - val_mean_squared_error: 0.0039 - val_mean_absolute_error: 0.0486\n",
            "Epoch 3/50\n",
            "32/32 [==============================] - 5s 172ms/step - loss: 0.0034 - mean_squared_error: 0.0034 - mean_absolute_error: 0.0474 - val_loss: 0.0039 - val_mean_squared_error: 0.0039 - val_mean_absolute_error: 0.0481\n",
            "Epoch 4/50\n",
            "32/32 [==============================] - 5s 169ms/step - loss: 0.0028 - mean_squared_error: 0.0028 - mean_absolute_error: 0.0423 - val_loss: 0.0040 - val_mean_squared_error: 0.0040 - val_mean_absolute_error: 0.0490\n",
            "Epoch 5/50\n",
            "32/32 [==============================] - 5s 169ms/step - loss: 0.0029 - mean_squared_error: 0.0029 - mean_absolute_error: 0.0431 - val_loss: 0.0037 - val_mean_squared_error: 0.0037 - val_mean_absolute_error: 0.0463\n",
            "Epoch 6/50\n",
            "32/32 [==============================] - 5s 167ms/step - loss: 0.0028 - mean_squared_error: 0.0028 - mean_absolute_error: 0.0414 - val_loss: 0.0034 - val_mean_squared_error: 0.0034 - val_mean_absolute_error: 0.0452\n",
            "Epoch 7/50\n",
            "32/32 [==============================] - 5s 171ms/step - loss: 0.0023 - mean_squared_error: 0.0023 - mean_absolute_error: 0.0377 - val_loss: 0.0034 - val_mean_squared_error: 0.0034 - val_mean_absolute_error: 0.0453\n",
            "Epoch 8/50\n",
            "32/32 [==============================] - 6s 175ms/step - loss: 0.0024 - mean_squared_error: 0.0024 - mean_absolute_error: 0.0383 - val_loss: 0.0036 - val_mean_squared_error: 0.0036 - val_mean_absolute_error: 0.0464\n",
            "Epoch 9/50\n",
            "32/32 [==============================] - 6s 172ms/step - loss: 0.0024 - mean_squared_error: 0.0024 - mean_absolute_error: 0.0383 - val_loss: 0.0030 - val_mean_squared_error: 0.0030 - val_mean_absolute_error: 0.0433\n",
            "Epoch 10/50\n",
            "32/32 [==============================] - 5s 170ms/step - loss: 0.0023 - mean_squared_error: 0.0023 - mean_absolute_error: 0.0380 - val_loss: 0.0051 - val_mean_squared_error: 0.0051 - val_mean_absolute_error: 0.0572\n",
            "Epoch 11/50\n",
            "32/32 [==============================] - 6s 177ms/step - loss: 0.0022 - mean_squared_error: 0.0022 - mean_absolute_error: 0.0376 - val_loss: 0.0029 - val_mean_squared_error: 0.0029 - val_mean_absolute_error: 0.0427\n",
            "Epoch 12/50\n",
            "32/32 [==============================] - 6s 171ms/step - loss: 0.0022 - mean_squared_error: 0.0022 - mean_absolute_error: 0.0372 - val_loss: 0.0033 - val_mean_squared_error: 0.0033 - val_mean_absolute_error: 0.0439\n",
            "Epoch 13/50\n",
            "32/32 [==============================] - 5s 172ms/step - loss: 0.0021 - mean_squared_error: 0.0021 - mean_absolute_error: 0.0349 - val_loss: 0.0038 - val_mean_squared_error: 0.0038 - val_mean_absolute_error: 0.0500\n",
            "Epoch 14/50\n",
            "32/32 [==============================] - 5s 172ms/step - loss: 0.0019 - mean_squared_error: 0.0019 - mean_absolute_error: 0.0348 - val_loss: 0.0027 - val_mean_squared_error: 0.0027 - val_mean_absolute_error: 0.0422\n",
            "Epoch 15/50\n",
            "32/32 [==============================] - 5s 171ms/step - loss: 0.0021 - mean_squared_error: 0.0021 - mean_absolute_error: 0.0358 - val_loss: 0.0031 - val_mean_squared_error: 0.0031 - val_mean_absolute_error: 0.0429\n",
            "Epoch 16/50\n",
            "32/32 [==============================] - 6s 176ms/step - loss: 0.0019 - mean_squared_error: 0.0019 - mean_absolute_error: 0.0349 - val_loss: 0.0026 - val_mean_squared_error: 0.0026 - val_mean_absolute_error: 0.0406\n",
            "Epoch 17/50\n",
            "32/32 [==============================] - 5s 166ms/step - loss: 0.0017 - mean_squared_error: 0.0017 - mean_absolute_error: 0.0318 - val_loss: 0.0029 - val_mean_squared_error: 0.0029 - val_mean_absolute_error: 0.0415\n",
            "Epoch 18/50\n",
            "32/32 [==============================] - 5s 171ms/step - loss: 0.0022 - mean_squared_error: 0.0022 - mean_absolute_error: 0.0370 - val_loss: 0.0025 - val_mean_squared_error: 0.0025 - val_mean_absolute_error: 0.0397\n",
            "Epoch 19/50\n",
            "32/32 [==============================] - 5s 166ms/step - loss: 0.0021 - mean_squared_error: 0.0021 - mean_absolute_error: 0.0366 - val_loss: 0.0036 - val_mean_squared_error: 0.0036 - val_mean_absolute_error: 0.0465\n",
            "Epoch 20/50\n",
            "32/32 [==============================] - 5s 167ms/step - loss: 0.0023 - mean_squared_error: 0.0023 - mean_absolute_error: 0.0373 - val_loss: 0.0025 - val_mean_squared_error: 0.0025 - val_mean_absolute_error: 0.0393\n",
            "Epoch 21/50\n",
            "32/32 [==============================] - 6s 172ms/step - loss: 0.0019 - mean_squared_error: 0.0019 - mean_absolute_error: 0.0344 - val_loss: 0.0027 - val_mean_squared_error: 0.0027 - val_mean_absolute_error: 0.0403\n",
            "Epoch 22/50\n",
            "32/32 [==============================] - 5s 164ms/step - loss: 0.0017 - mean_squared_error: 0.0017 - mean_absolute_error: 0.0321 - val_loss: 0.0026 - val_mean_squared_error: 0.0026 - val_mean_absolute_error: 0.0395\n",
            "Epoch 23/50\n",
            "32/32 [==============================] - 5s 167ms/step - loss: 0.0020 - mean_squared_error: 0.0020 - mean_absolute_error: 0.0348 - val_loss: 0.0023 - val_mean_squared_error: 0.0023 - val_mean_absolute_error: 0.0379\n",
            "Epoch 24/50\n",
            "32/32 [==============================] - 6s 177ms/step - loss: 0.0019 - mean_squared_error: 0.0019 - mean_absolute_error: 0.0344 - val_loss: 0.0035 - val_mean_squared_error: 0.0035 - val_mean_absolute_error: 0.0465\n",
            "Epoch 25/50\n",
            "32/32 [==============================] - 6s 174ms/step - loss: 0.0018 - mean_squared_error: 0.0018 - mean_absolute_error: 0.0340 - val_loss: 0.0038 - val_mean_squared_error: 0.0038 - val_mean_absolute_error: 0.0497\n",
            "Epoch 26/50\n",
            "32/32 [==============================] - 6s 174ms/step - loss: 0.0019 - mean_squared_error: 0.0019 - mean_absolute_error: 0.0339 - val_loss: 0.0027 - val_mean_squared_error: 0.0027 - val_mean_absolute_error: 0.0402\n",
            "Epoch 27/50\n",
            "32/32 [==============================] - 5s 169ms/step - loss: 0.0016 - mean_squared_error: 0.0016 - mean_absolute_error: 0.0315 - val_loss: 0.0023 - val_mean_squared_error: 0.0023 - val_mean_absolute_error: 0.0379\n",
            "Epoch 28/50\n",
            "32/32 [==============================] - 5s 171ms/step - loss: 0.0017 - mean_squared_error: 0.0017 - mean_absolute_error: 0.0327 - val_loss: 0.0021 - val_mean_squared_error: 0.0021 - val_mean_absolute_error: 0.0367\n",
            "Epoch 29/50\n",
            "32/32 [==============================] - 6s 176ms/step - loss: 0.0016 - mean_squared_error: 0.0016 - mean_absolute_error: 0.0323 - val_loss: 0.0021 - val_mean_squared_error: 0.0021 - val_mean_absolute_error: 0.0362\n",
            "Epoch 30/50\n",
            "32/32 [==============================] - 6s 179ms/step - loss: 0.0016 - mean_squared_error: 0.0016 - mean_absolute_error: 0.0317 - val_loss: 0.0021 - val_mean_squared_error: 0.0021 - val_mean_absolute_error: 0.0368\n",
            "Epoch 31/50\n",
            "32/32 [==============================] - 5s 170ms/step - loss: 0.0014 - mean_squared_error: 0.0014 - mean_absolute_error: 0.0298 - val_loss: 0.0027 - val_mean_squared_error: 0.0027 - val_mean_absolute_error: 0.0404\n",
            "Epoch 32/50\n",
            "32/32 [==============================] - 6s 174ms/step - loss: 0.0018 - mean_squared_error: 0.0018 - mean_absolute_error: 0.0333 - val_loss: 0.0020 - val_mean_squared_error: 0.0020 - val_mean_absolute_error: 0.0357\n",
            "Epoch 33/50\n",
            "32/32 [==============================] - 5s 171ms/step - loss: 0.0015 - mean_squared_error: 0.0015 - mean_absolute_error: 0.0302 - val_loss: 0.0020 - val_mean_squared_error: 0.0020 - val_mean_absolute_error: 0.0358\n",
            "Epoch 34/50\n",
            "32/32 [==============================] - 5s 169ms/step - loss: 0.0014 - mean_squared_error: 0.0014 - mean_absolute_error: 0.0293 - val_loss: 0.0024 - val_mean_squared_error: 0.0024 - val_mean_absolute_error: 0.0385\n",
            "Epoch 35/50\n",
            "32/32 [==============================] - 6s 174ms/step - loss: 0.0014 - mean_squared_error: 0.0014 - mean_absolute_error: 0.0301 - val_loss: 0.0020 - val_mean_squared_error: 0.0020 - val_mean_absolute_error: 0.0354\n",
            "Epoch 36/50\n",
            "32/32 [==============================] - 6s 176ms/step - loss: 0.0014 - mean_squared_error: 0.0014 - mean_absolute_error: 0.0291 - val_loss: 0.0019 - val_mean_squared_error: 0.0019 - val_mean_absolute_error: 0.0350\n",
            "Epoch 37/50\n",
            "32/32 [==============================] - 6s 174ms/step - loss: 0.0013 - mean_squared_error: 0.0013 - mean_absolute_error: 0.0279 - val_loss: 0.0024 - val_mean_squared_error: 0.0024 - val_mean_absolute_error: 0.0381\n",
            "Epoch 38/50\n",
            "32/32 [==============================] - 5s 168ms/step - loss: 0.0016 - mean_squared_error: 0.0016 - mean_absolute_error: 0.0320 - val_loss: 0.0021 - val_mean_squared_error: 0.0021 - val_mean_absolute_error: 0.0366\n",
            "Epoch 39/50\n",
            "32/32 [==============================] - 5s 168ms/step - loss: 0.0015 - mean_squared_error: 0.0015 - mean_absolute_error: 0.0298 - val_loss: 0.0027 - val_mean_squared_error: 0.0027 - val_mean_absolute_error: 0.0409\n",
            "Epoch 40/50\n",
            "32/32 [==============================] - 5s 169ms/step - loss: 0.0017 - mean_squared_error: 0.0017 - mean_absolute_error: 0.0327 - val_loss: 0.0028 - val_mean_squared_error: 0.0028 - val_mean_absolute_error: 0.0412\n",
            "Epoch 41/50\n",
            "32/32 [==============================] - 6s 174ms/step - loss: 0.0015 - mean_squared_error: 0.0015 - mean_absolute_error: 0.0308 - val_loss: 0.0020 - val_mean_squared_error: 0.0020 - val_mean_absolute_error: 0.0354\n",
            "Epoch 42/50\n",
            "32/32 [==============================] - 5s 166ms/step - loss: 0.0015 - mean_squared_error: 0.0015 - mean_absolute_error: 0.0304 - val_loss: 0.0021 - val_mean_squared_error: 0.0021 - val_mean_absolute_error: 0.0358\n",
            "Epoch 43/50\n",
            "32/32 [==============================] - 5s 169ms/step - loss: 0.0015 - mean_squared_error: 0.0015 - mean_absolute_error: 0.0303 - val_loss: 0.0021 - val_mean_squared_error: 0.0021 - val_mean_absolute_error: 0.0362\n",
            "Epoch 44/50\n",
            "32/32 [==============================] - 5s 171ms/step - loss: 0.0014 - mean_squared_error: 0.0014 - mean_absolute_error: 0.0300 - val_loss: 0.0021 - val_mean_squared_error: 0.0021 - val_mean_absolute_error: 0.0357\n",
            "Epoch 45/50\n",
            "32/32 [==============================] - 5s 164ms/step - loss: 0.0014 - mean_squared_error: 0.0014 - mean_absolute_error: 0.0289 - val_loss: 0.0019 - val_mean_squared_error: 0.0019 - val_mean_absolute_error: 0.0346\n",
            "Epoch 46/50\n",
            "32/32 [==============================] - 6s 173ms/step - loss: 0.0013 - mean_squared_error: 0.0013 - mean_absolute_error: 0.0283 - val_loss: 0.0019 - val_mean_squared_error: 0.0019 - val_mean_absolute_error: 0.0341\n",
            "Epoch 47/50\n",
            "32/32 [==============================] - 5s 170ms/step - loss: 0.0014 - mean_squared_error: 0.0014 - mean_absolute_error: 0.0284 - val_loss: 0.0019 - val_mean_squared_error: 0.0019 - val_mean_absolute_error: 0.0344\n",
            "Epoch 48/50\n",
            "32/32 [==============================] - 6s 173ms/step - loss: 0.0013 - mean_squared_error: 0.0013 - mean_absolute_error: 0.0275 - val_loss: 0.0020 - val_mean_squared_error: 0.0020 - val_mean_absolute_error: 0.0352\n",
            "Epoch 49/50\n",
            "32/32 [==============================] - 6s 174ms/step - loss: 0.0015 - mean_squared_error: 0.0015 - mean_absolute_error: 0.0304 - val_loss: 0.0019 - val_mean_squared_error: 0.0019 - val_mean_absolute_error: 0.0343\n",
            "Epoch 50/50\n",
            "32/32 [==============================] - 5s 170ms/step - loss: 0.0013 - mean_squared_error: 0.0013 - mean_absolute_error: 0.0276 - val_loss: 0.0020 - val_mean_squared_error: 0.0020 - val_mean_absolute_error: 0.0356\n"
          ],
          "name": "stdout"
        },
        {
          "output_type": "display_data",
          "data": {
            "text/html": [
              "<br/>Waiting for W&B process to finish, PID 4450<br/>Program ended successfully."
            ],
            "text/plain": [
              "<IPython.core.display.HTML object>"
            ]
          },
          "metadata": {
            "tags": []
          }
        },
        {
          "output_type": "display_data",
          "data": {
            "application/vnd.jupyter.widget-view+json": {
              "model_id": "7f74dc319d6c40cb8dd0bef791763215",
              "version_minor": 0,
              "version_major": 2
            },
            "text/plain": [
              "VBox(children=(Label(value=' 0.74MB of 0.74MB uploaded (0.00MB deduped)\\r'), FloatProgress(value=1.0, max=1.0)…"
            ]
          },
          "metadata": {
            "tags": []
          }
        },
        {
          "output_type": "display_data",
          "data": {
            "text/html": [
              "Find user logs for this run at: <code>/content/feeder_repo/wandb/run-20210718_195602-jkrj1mgh/logs/debug.log</code>"
            ],
            "text/plain": [
              "<IPython.core.display.HTML object>"
            ]
          },
          "metadata": {
            "tags": []
          }
        },
        {
          "output_type": "display_data",
          "data": {
            "text/html": [
              "Find internal logs for this run at: <code>/content/feeder_repo/wandb/run-20210718_195602-jkrj1mgh/logs/debug-internal.log</code>"
            ],
            "text/plain": [
              "<IPython.core.display.HTML object>"
            ]
          },
          "metadata": {
            "tags": []
          }
        },
        {
          "output_type": "display_data",
          "data": {
            "text/html": [
              "<h3>Run summary:</h3><br/><style>\n",
              "    table.wandb td:nth-child(1) { padding: 0 10px; text-align: right }\n",
              "    </style><table class=\"wandb\">\n",
              "<tr><td>epoch</td><td>49</td></tr><tr><td>loss</td><td>0.00132</td></tr><tr><td>mean_squared_error</td><td>0.00132</td></tr><tr><td>mean_absolute_error</td><td>0.02854</td></tr><tr><td>val_loss</td><td>0.00205</td></tr><tr><td>val_mean_squared_error</td><td>0.00205</td></tr><tr><td>val_mean_absolute_error</td><td>0.03562</td></tr><tr><td>_runtime</td><td>285</td></tr><tr><td>_timestamp</td><td>1626638447</td></tr><tr><td>_step</td><td>49</td></tr><tr><td>best_val_loss</td><td>0.00187</td></tr><tr><td>best_epoch</td><td>45</td></tr></table>"
            ],
            "text/plain": [
              "<IPython.core.display.HTML object>"
            ]
          },
          "metadata": {
            "tags": []
          }
        },
        {
          "output_type": "display_data",
          "data": {
            "text/html": [
              "<h3>Run history:</h3><br/><style>\n",
              "    table.wandb td:nth-child(1) { padding: 0 10px; text-align: right }\n",
              "    </style><table class=\"wandb\">\n",
              "<tr><td>epoch</td><td>▁▁▁▁▂▂▂▂▂▃▃▃▃▃▃▄▄▄▄▄▅▅▅▅▅▅▆▆▆▆▆▆▇▇▇▇▇███</td></tr><tr><td>loss</td><td>█▁▁▁▁▁▁▁▁▁▁▁▁▁▁▁▁▁▁▁▁▁▁▁▁▁▁▁▁▁▁▁▁▁▁▁▁▁▁▁</td></tr><tr><td>mean_squared_error</td><td>█▁▁▁▁▁▁▁▁▁▁▁▁▁▁▁▁▁▁▁▁▁▁▁▁▁▁▁▁▁▁▁▁▁▁▁▁▁▁▁</td></tr><tr><td>mean_absolute_error</td><td>█▂▂▂▁▁▁▁▁▁▁▁▁▁▁▁▁▁▁▁▁▁▁▁▁▁▁▁▁▁▁▁▁▁▁▁▁▁▁▁</td></tr><tr><td>val_loss</td><td>█▅▅▅▄▄▄▃▃▃▄▃▂▃▂▄▂▂▂▄▂▂▁▁▂▁▁▂▁▂▁▃▁▁▁▁▁▁▁▁</td></tr><tr><td>val_mean_squared_error</td><td>█▅▅▅▄▄▄▃▃▃▄▃▂▃▂▄▂▂▂▄▂▂▁▁▂▁▁▂▁▂▁▃▁▁▁▁▁▁▁▁</td></tr><tr><td>val_mean_absolute_error</td><td>█▅▅▅▄▄▄▄▃▄▅▃▃▃▃▄▃▂▂▄▃▂▂▂▃▁▁▂▁▂▂▃▁▁▂▁▁▁▁▁</td></tr><tr><td>_runtime</td><td>▁▁▁▁▂▂▂▂▂▃▃▃▃▃▃▄▄▄▄▄▅▅▅▅▅▅▆▆▆▆▆▆▇▇▇▇▇███</td></tr><tr><td>_timestamp</td><td>▁▁▁▁▂▂▂▂▂▃▃▃▃▃▃▄▄▄▄▄▅▅▅▅▅▅▆▆▆▆▆▆▇▇▇▇▇███</td></tr><tr><td>_step</td><td>▁▁▁▁▂▂▂▂▂▃▃▃▃▃▃▄▄▄▄▄▅▅▅▅▅▅▆▆▆▆▆▆▇▇▇▇▇███</td></tr></table><br/>"
            ],
            "text/plain": [
              "<IPython.core.display.HTML object>"
            ]
          },
          "metadata": {
            "tags": []
          }
        },
        {
          "output_type": "display_data",
          "data": {
            "text/html": [
              "Synced 5 W&B file(s), 1 media file(s), 2 artifact file(s) and 2 other file(s)"
            ],
            "text/plain": [
              "<IPython.core.display.HTML object>"
            ]
          },
          "metadata": {
            "tags": []
          }
        },
        {
          "output_type": "display_data",
          "data": {
            "text/html": [
              "\n",
              "                    <br/>Synced <strong style=\"color:#cdcd00\">charmed-sweep-17</strong>: <a href=\"https://wandb.ai/acse-jaq15/ACSE_9_LSTM_GRU/runs/jkrj1mgh\" target=\"_blank\">https://wandb.ai/acse-jaq15/ACSE_9_LSTM_GRU/runs/jkrj1mgh</a><br/>\n",
              "                "
            ],
            "text/plain": [
              "<IPython.core.display.HTML object>"
            ]
          },
          "metadata": {
            "tags": []
          }
        },
        {
          "output_type": "stream",
          "text": [
            "\u001b[34m\u001b[1mwandb\u001b[0m: Agent Starting Run: ww9egcvl with config:\n",
            "\u001b[34m\u001b[1mwandb\u001b[0m: \tactivation: relu\n",
            "\u001b[34m\u001b[1mwandb\u001b[0m: \tbatch_size: 128\n",
            "\u001b[34m\u001b[1mwandb\u001b[0m: \tdropout: 0.1\n",
            "\u001b[34m\u001b[1mwandb\u001b[0m: \tepochs: 200\n",
            "\u001b[34m\u001b[1mwandb\u001b[0m: \tlearning_rate: 0.005\n",
            "\u001b[34m\u001b[1mwandb\u001b[0m: \toptimizer: nadam\n"
          ],
          "name": "stderr"
        },
        {
          "output_type": "display_data",
          "data": {
            "text/html": [
              "\n",
              "                Tracking run with wandb version 0.11.0<br/>\n",
              "                Syncing run <strong style=\"color:#cdcd00\">robust-sweep-18</strong> to <a href=\"https://wandb.ai\" target=\"_blank\">Weights & Biases</a> <a href=\"https://docs.wandb.com/integrations/jupyter.html\" target=\"_blank\">(Documentation)</a>.<br/>\n",
              "                Project page: <a href=\"https://wandb.ai/acse-jaq15/ACSE_9_LSTM_GRU\" target=\"_blank\">https://wandb.ai/acse-jaq15/ACSE_9_LSTM_GRU</a><br/>\n",
              "                Sweep page: <a href=\"https://wandb.ai/acse-jaq15/ACSE_9_LSTM_GRU/sweeps/amj4ayh1\" target=\"_blank\">https://wandb.ai/acse-jaq15/ACSE_9_LSTM_GRU/sweeps/amj4ayh1</a><br/>\n",
              "Run page: <a href=\"https://wandb.ai/acse-jaq15/ACSE_9_LSTM_GRU/runs/ww9egcvl\" target=\"_blank\">https://wandb.ai/acse-jaq15/ACSE_9_LSTM_GRU/runs/ww9egcvl</a><br/>\n",
              "                Run data is saved locally in <code>/content/feeder_repo/wandb/run-20210718_200144-ww9egcvl</code><br/><br/>\n",
              "            "
            ],
            "text/plain": [
              "<IPython.core.display.HTML object>"
            ]
          },
          "metadata": {
            "tags": []
          }
        },
        {
          "output_type": "stream",
          "text": [
            "WARNING:tensorflow:Layer lstm will not use cuDNN kernels since it doesn't meet the criteria. It will use a generic GPU kernel as fallback when running on GPU.\n",
            "WARNING:tensorflow:Layer gru will not use cuDNN kernels since it doesn't meet the criteria. It will use a generic GPU kernel as fallback when running on GPU.\n",
            "Epoch 1/200\n",
            "8/8 [==============================] - 7s 347ms/step - loss: 0.1343 - mean_squared_error: 0.1343 - mean_absolute_error: 0.3109 - val_loss: 0.0078 - val_mean_squared_error: 0.0078 - val_mean_absolute_error: 0.0718\n",
            "Epoch 2/200\n",
            "8/8 [==============================] - 1s 180ms/step - loss: 0.0121 - mean_squared_error: 0.0121 - mean_absolute_error: 0.0911 - val_loss: 0.0087 - val_mean_squared_error: 0.0087 - val_mean_absolute_error: 0.0735\n",
            "Epoch 3/200\n",
            "8/8 [==============================] - 1s 170ms/step - loss: 0.0065 - mean_squared_error: 0.0065 - mean_absolute_error: 0.0637 - val_loss: 0.0063 - val_mean_squared_error: 0.0063 - val_mean_absolute_error: 0.0629\n",
            "Epoch 4/200\n",
            "8/8 [==============================] - 1s 177ms/step - loss: 0.0058 - mean_squared_error: 0.0058 - mean_absolute_error: 0.0607 - val_loss: 0.0069 - val_mean_squared_error: 0.0069 - val_mean_absolute_error: 0.0657\n",
            "Epoch 5/200\n",
            "8/8 [==============================] - 1s 183ms/step - loss: 0.0050 - mean_squared_error: 0.0050 - mean_absolute_error: 0.0560 - val_loss: 0.0074 - val_mean_squared_error: 0.0074 - val_mean_absolute_error: 0.0690\n",
            "Epoch 6/200\n",
            "8/8 [==============================] - 1s 166ms/step - loss: 0.0071 - mean_squared_error: 0.0071 - mean_absolute_error: 0.0686 - val_loss: 0.0061 - val_mean_squared_error: 0.0061 - val_mean_absolute_error: 0.0630\n",
            "Epoch 7/200\n",
            "8/8 [==============================] - 1s 175ms/step - loss: 0.0053 - mean_squared_error: 0.0053 - mean_absolute_error: 0.0582 - val_loss: 0.0054 - val_mean_squared_error: 0.0054 - val_mean_absolute_error: 0.0579\n",
            "Epoch 8/200\n",
            "8/8 [==============================] - 1s 177ms/step - loss: 0.0045 - mean_squared_error: 0.0045 - mean_absolute_error: 0.0529 - val_loss: 0.0056 - val_mean_squared_error: 0.0056 - val_mean_absolute_error: 0.0597\n",
            "Epoch 9/200\n",
            "8/8 [==============================] - 1s 180ms/step - loss: 0.0050 - mean_squared_error: 0.0050 - mean_absolute_error: 0.0561 - val_loss: 0.0050 - val_mean_squared_error: 0.0050 - val_mean_absolute_error: 0.0560\n",
            "Epoch 10/200\n",
            "8/8 [==============================] - 1s 171ms/step - loss: 0.0044 - mean_squared_error: 0.0044 - mean_absolute_error: 0.0526 - val_loss: 0.0064 - val_mean_squared_error: 0.0064 - val_mean_absolute_error: 0.0640\n",
            "Epoch 11/200\n",
            "8/8 [==============================] - 2s 188ms/step - loss: 0.0056 - mean_squared_error: 0.0056 - mean_absolute_error: 0.0588 - val_loss: 0.0046 - val_mean_squared_error: 0.0046 - val_mean_absolute_error: 0.0537\n",
            "Epoch 12/200\n",
            "8/8 [==============================] - 1s 167ms/step - loss: 0.0049 - mean_squared_error: 0.0049 - mean_absolute_error: 0.0550 - val_loss: 0.0056 - val_mean_squared_error: 0.0056 - val_mean_absolute_error: 0.0598\n",
            "Epoch 13/200\n",
            "8/8 [==============================] - 1s 177ms/step - loss: 0.0057 - mean_squared_error: 0.0057 - mean_absolute_error: 0.0623 - val_loss: 0.0057 - val_mean_squared_error: 0.0057 - val_mean_absolute_error: 0.0602\n",
            "Epoch 14/200\n",
            "8/8 [==============================] - 1s 170ms/step - loss: 0.0036 - mean_squared_error: 0.0036 - mean_absolute_error: 0.0473 - val_loss: 0.0125 - val_mean_squared_error: 0.0125 - val_mean_absolute_error: 0.0959\n",
            "Epoch 15/200\n",
            "8/8 [==============================] - 1s 180ms/step - loss: 0.0067 - mean_squared_error: 0.0067 - mean_absolute_error: 0.0663 - val_loss: 0.0054 - val_mean_squared_error: 0.0054 - val_mean_absolute_error: 0.0575\n",
            "Epoch 16/200\n",
            "8/8 [==============================] - 1s 172ms/step - loss: 0.0035 - mean_squared_error: 0.0035 - mean_absolute_error: 0.0462 - val_loss: 0.0073 - val_mean_squared_error: 0.0073 - val_mean_absolute_error: 0.0691\n",
            "Epoch 17/200\n",
            "8/8 [==============================] - 1s 183ms/step - loss: 0.0051 - mean_squared_error: 0.0051 - mean_absolute_error: 0.0575 - val_loss: 0.0056 - val_mean_squared_error: 0.0056 - val_mean_absolute_error: 0.0586\n",
            "Epoch 18/200\n",
            "8/8 [==============================] - 1s 176ms/step - loss: 0.0052 - mean_squared_error: 0.0052 - mean_absolute_error: 0.0563 - val_loss: 0.0083 - val_mean_squared_error: 0.0083 - val_mean_absolute_error: 0.0720\n",
            "Epoch 19/200\n",
            "8/8 [==============================] - 1s 174ms/step - loss: 0.0039 - mean_squared_error: 0.0039 - mean_absolute_error: 0.0490 - val_loss: 0.0046 - val_mean_squared_error: 0.0046 - val_mean_absolute_error: 0.0529\n",
            "Epoch 20/200\n",
            "8/8 [==============================] - 1s 168ms/step - loss: 0.0032 - mean_squared_error: 0.0032 - mean_absolute_error: 0.0439 - val_loss: 0.0034 - val_mean_squared_error: 0.0034 - val_mean_absolute_error: 0.0456\n",
            "Epoch 21/200\n",
            "8/8 [==============================] - 1s 176ms/step - loss: 0.0038 - mean_squared_error: 0.0038 - mean_absolute_error: 0.0488 - val_loss: 0.0159 - val_mean_squared_error: 0.0159 - val_mean_absolute_error: 0.1071\n",
            "Epoch 22/200\n",
            "8/8 [==============================] - 1s 182ms/step - loss: 0.0052 - mean_squared_error: 0.0052 - mean_absolute_error: 0.0567 - val_loss: 0.0057 - val_mean_squared_error: 0.0057 - val_mean_absolute_error: 0.0596\n",
            "Epoch 23/200\n",
            "8/8 [==============================] - 1s 175ms/step - loss: 0.0028 - mean_squared_error: 0.0028 - mean_absolute_error: 0.0416 - val_loss: 0.0040 - val_mean_squared_error: 0.0040 - val_mean_absolute_error: 0.0493\n",
            "Epoch 24/200\n",
            "8/8 [==============================] - 1s 181ms/step - loss: 0.0035 - mean_squared_error: 0.0035 - mean_absolute_error: 0.0474 - val_loss: 0.0095 - val_mean_squared_error: 0.0095 - val_mean_absolute_error: 0.0797\n",
            "Epoch 25/200\n",
            "8/8 [==============================] - 1s 183ms/step - loss: 0.0040 - mean_squared_error: 0.0040 - mean_absolute_error: 0.0495 - val_loss: 0.0046 - val_mean_squared_error: 0.0046 - val_mean_absolute_error: 0.0523\n",
            "Epoch 26/200\n",
            "8/8 [==============================] - 1s 181ms/step - loss: 0.0028 - mean_squared_error: 0.0028 - mean_absolute_error: 0.0414 - val_loss: 0.0056 - val_mean_squared_error: 0.0056 - val_mean_absolute_error: 0.0594\n",
            "Epoch 27/200\n",
            "8/8 [==============================] - 1s 161ms/step - loss: 0.0044 - mean_squared_error: 0.0044 - mean_absolute_error: 0.0527 - val_loss: 0.0042 - val_mean_squared_error: 0.0042 - val_mean_absolute_error: 0.0501\n",
            "Epoch 28/200\n",
            "8/8 [==============================] - 1s 185ms/step - loss: 0.0032 - mean_squared_error: 0.0032 - mean_absolute_error: 0.0439 - val_loss: 0.0035 - val_mean_squared_error: 0.0035 - val_mean_absolute_error: 0.0466\n",
            "Epoch 29/200\n",
            "8/8 [==============================] - 1s 175ms/step - loss: 0.0031 - mean_squared_error: 0.0031 - mean_absolute_error: 0.0439 - val_loss: 0.0043 - val_mean_squared_error: 0.0043 - val_mean_absolute_error: 0.0527\n",
            "Epoch 30/200\n",
            "8/8 [==============================] - 1s 169ms/step - loss: 0.0043 - mean_squared_error: 0.0043 - mean_absolute_error: 0.0530 - val_loss: 0.0040 - val_mean_squared_error: 0.0040 - val_mean_absolute_error: 0.0502\n"
          ],
          "name": "stdout"
        },
        {
          "output_type": "display_data",
          "data": {
            "text/html": [
              "<br/>Waiting for W&B process to finish, PID 4721<br/>Program ended successfully."
            ],
            "text/plain": [
              "<IPython.core.display.HTML object>"
            ]
          },
          "metadata": {
            "tags": []
          }
        },
        {
          "output_type": "display_data",
          "data": {
            "application/vnd.jupyter.widget-view+json": {
              "model_id": "11d7d5c5b174481fa108f55c3bc3d76e",
              "version_minor": 0,
              "version_major": 2
            },
            "text/plain": [
              "VBox(children=(Label(value=' 0.76MB of 0.76MB uploaded (0.00MB deduped)\\r'), FloatProgress(value=1.0, max=1.0)…"
            ]
          },
          "metadata": {
            "tags": []
          }
        },
        {
          "output_type": "display_data",
          "data": {
            "text/html": [
              "Find user logs for this run at: <code>/content/feeder_repo/wandb/run-20210718_200144-ww9egcvl/logs/debug.log</code>"
            ],
            "text/plain": [
              "<IPython.core.display.HTML object>"
            ]
          },
          "metadata": {
            "tags": []
          }
        },
        {
          "output_type": "display_data",
          "data": {
            "text/html": [
              "Find internal logs for this run at: <code>/content/feeder_repo/wandb/run-20210718_200144-ww9egcvl/logs/debug-internal.log</code>"
            ],
            "text/plain": [
              "<IPython.core.display.HTML object>"
            ]
          },
          "metadata": {
            "tags": []
          }
        },
        {
          "output_type": "display_data",
          "data": {
            "text/html": [
              "<h3>Run summary:</h3><br/><style>\n",
              "    table.wandb td:nth-child(1) { padding: 0 10px; text-align: right }\n",
              "    </style><table class=\"wandb\">\n",
              "<tr><td>epoch</td><td>29</td></tr><tr><td>loss</td><td>0.00427</td></tr><tr><td>mean_squared_error</td><td>0.00427</td></tr><tr><td>mean_absolute_error</td><td>0.05282</td></tr><tr><td>val_loss</td><td>0.00397</td></tr><tr><td>val_mean_squared_error</td><td>0.00397</td></tr><tr><td>val_mean_absolute_error</td><td>0.05015</td></tr><tr><td>_runtime</td><td>53</td></tr><tr><td>_timestamp</td><td>1626638557</td></tr><tr><td>_step</td><td>29</td></tr><tr><td>best_val_loss</td><td>0.00343</td></tr><tr><td>best_epoch</td><td>19</td></tr></table>"
            ],
            "text/plain": [
              "<IPython.core.display.HTML object>"
            ]
          },
          "metadata": {
            "tags": []
          }
        },
        {
          "output_type": "display_data",
          "data": {
            "text/html": [
              "<h3>Run history:</h3><br/><style>\n",
              "    table.wandb td:nth-child(1) { padding: 0 10px; text-align: right }\n",
              "    </style><table class=\"wandb\">\n",
              "<tr><td>epoch</td><td>▁▁▁▂▂▂▂▃▃▃▃▄▄▄▄▅▅▅▅▆▆▆▆▇▇▇▇███</td></tr><tr><td>loss</td><td>█▂▁▁▁▁▁▁▁▁▁▁▁▁▁▁▁▁▁▁▁▁▁▁▁▁▁▁▁▁</td></tr><tr><td>mean_squared_error</td><td>█▂▁▁▁▁▁▁▁▁▁▁▁▁▁▁▁▁▁▁▁▁▁▁▁▁▁▁▁▁</td></tr><tr><td>mean_absolute_error</td><td>█▃▂▂▂▂▂▁▁▂▁▂▂▁▂▁▂▂▁▁▂▁▁▁▁▁▁▁▁▁</td></tr><tr><td>val_loss</td><td>▃▄▃▃▃▂▂▂▂▃▂▂▂▆▂▃▂▄▂▁█▂▁▄▂▂▁▁▁▁</td></tr><tr><td>val_mean_squared_error</td><td>▃▄▃▃▃▂▂▂▂▃▂▂▂▆▂▃▂▄▂▁█▂▁▄▂▂▁▁▁▁</td></tr><tr><td>val_mean_absolute_error</td><td>▄▄▃▃▄▃▂▃▂▃▂▃▃▇▂▄▂▄▂▁█▃▁▅▂▃▂▁▂▂</td></tr><tr><td>_runtime</td><td>▁▁▂▂▂▂▂▃▃▃▃▄▄▄▄▅▅▅▅▆▆▆▆▇▇▇▇▇██</td></tr><tr><td>_timestamp</td><td>▁▁▂▂▂▂▂▃▃▃▃▄▄▄▄▅▅▅▅▆▆▆▆▇▇▇▇▇██</td></tr><tr><td>_step</td><td>▁▁▁▂▂▂▂▃▃▃▃▄▄▄▄▅▅▅▅▆▆▆▆▇▇▇▇███</td></tr></table><br/>"
            ],
            "text/plain": [
              "<IPython.core.display.HTML object>"
            ]
          },
          "metadata": {
            "tags": []
          }
        },
        {
          "output_type": "display_data",
          "data": {
            "text/html": [
              "Synced 5 W&B file(s), 1 media file(s), 2 artifact file(s) and 2 other file(s)"
            ],
            "text/plain": [
              "<IPython.core.display.HTML object>"
            ]
          },
          "metadata": {
            "tags": []
          }
        },
        {
          "output_type": "display_data",
          "data": {
            "text/html": [
              "\n",
              "                    <br/>Synced <strong style=\"color:#cdcd00\">robust-sweep-18</strong>: <a href=\"https://wandb.ai/acse-jaq15/ACSE_9_LSTM_GRU/runs/ww9egcvl\" target=\"_blank\">https://wandb.ai/acse-jaq15/ACSE_9_LSTM_GRU/runs/ww9egcvl</a><br/>\n",
              "                "
            ],
            "text/plain": [
              "<IPython.core.display.HTML object>"
            ]
          },
          "metadata": {
            "tags": []
          }
        },
        {
          "output_type": "stream",
          "text": [
            "\u001b[34m\u001b[1mwandb\u001b[0m: Agent Starting Run: z1tvodg4 with config:\n",
            "\u001b[34m\u001b[1mwandb\u001b[0m: \tactivation: selu\n",
            "\u001b[34m\u001b[1mwandb\u001b[0m: \tbatch_size: 32\n",
            "\u001b[34m\u001b[1mwandb\u001b[0m: \tdropout: 0.1\n",
            "\u001b[34m\u001b[1mwandb\u001b[0m: \tepochs: 200\n",
            "\u001b[34m\u001b[1mwandb\u001b[0m: \tlearning_rate: 0.005\n",
            "\u001b[34m\u001b[1mwandb\u001b[0m: \toptimizer: adam\n"
          ],
          "name": "stderr"
        },
        {
          "output_type": "display_data",
          "data": {
            "text/html": [
              "\n",
              "                Tracking run with wandb version 0.11.0<br/>\n",
              "                Syncing run <strong style=\"color:#cdcd00\">ancient-sweep-19</strong> to <a href=\"https://wandb.ai\" target=\"_blank\">Weights & Biases</a> <a href=\"https://docs.wandb.com/integrations/jupyter.html\" target=\"_blank\">(Documentation)</a>.<br/>\n",
              "                Project page: <a href=\"https://wandb.ai/acse-jaq15/ACSE_9_LSTM_GRU\" target=\"_blank\">https://wandb.ai/acse-jaq15/ACSE_9_LSTM_GRU</a><br/>\n",
              "                Sweep page: <a href=\"https://wandb.ai/acse-jaq15/ACSE_9_LSTM_GRU/sweeps/amj4ayh1\" target=\"_blank\">https://wandb.ai/acse-jaq15/ACSE_9_LSTM_GRU/sweeps/amj4ayh1</a><br/>\n",
              "Run page: <a href=\"https://wandb.ai/acse-jaq15/ACSE_9_LSTM_GRU/runs/z1tvodg4\" target=\"_blank\">https://wandb.ai/acse-jaq15/ACSE_9_LSTM_GRU/runs/z1tvodg4</a><br/>\n",
              "                Run data is saved locally in <code>/content/feeder_repo/wandb/run-20210718_200325-z1tvodg4</code><br/><br/>\n",
              "            "
            ],
            "text/plain": [
              "<IPython.core.display.HTML object>"
            ]
          },
          "metadata": {
            "tags": []
          }
        },
        {
          "output_type": "stream",
          "text": [
            "WARNING:tensorflow:Layer lstm will not use cuDNN kernels since it doesn't meet the criteria. It will use a generic GPU kernel as fallback when running on GPU.\n",
            "WARNING:tensorflow:Layer gru will not use cuDNN kernels since it doesn't meet the criteria. It will use a generic GPU kernel as fallback when running on GPU.\n",
            "Epoch 1/200\n",
            "32/32 [==============================] - 11s 205ms/step - loss: 0.6192 - mean_squared_error: 0.6192 - mean_absolute_error: 0.4075 - val_loss: 0.0056 - val_mean_squared_error: 0.0056 - val_mean_absolute_error: 0.0593\n",
            "Epoch 2/200\n",
            "32/32 [==============================] - 5s 171ms/step - loss: 0.0033 - mean_squared_error: 0.0033 - mean_absolute_error: 0.0447 - val_loss: 0.0037 - val_mean_squared_error: 0.0037 - val_mean_absolute_error: 0.0478\n",
            "Epoch 3/200\n",
            "32/32 [==============================] - 6s 173ms/step - loss: 0.0028 - mean_squared_error: 0.0028 - mean_absolute_error: 0.0417 - val_loss: 0.0038 - val_mean_squared_error: 0.0038 - val_mean_absolute_error: 0.0482\n",
            "Epoch 4/200\n",
            "32/32 [==============================] - 5s 167ms/step - loss: 0.0027 - mean_squared_error: 0.0027 - mean_absolute_error: 0.0411 - val_loss: 0.0035 - val_mean_squared_error: 0.0035 - val_mean_absolute_error: 0.0460\n",
            "Epoch 5/200\n",
            "32/32 [==============================] - 5s 168ms/step - loss: 0.0026 - mean_squared_error: 0.0026 - mean_absolute_error: 0.0396 - val_loss: 0.0031 - val_mean_squared_error: 0.0031 - val_mean_absolute_error: 0.0429\n",
            "Epoch 6/200\n",
            "32/32 [==============================] - 5s 172ms/step - loss: 0.0023 - mean_squared_error: 0.0023 - mean_absolute_error: 0.0372 - val_loss: 0.0030 - val_mean_squared_error: 0.0030 - val_mean_absolute_error: 0.0423\n",
            "Epoch 7/200\n",
            "32/32 [==============================] - 5s 167ms/step - loss: 0.0023 - mean_squared_error: 0.0023 - mean_absolute_error: 0.0372 - val_loss: 0.0035 - val_mean_squared_error: 0.0035 - val_mean_absolute_error: 0.0452\n",
            "Epoch 8/200\n",
            "32/32 [==============================] - 5s 168ms/step - loss: 0.0021 - mean_squared_error: 0.0021 - mean_absolute_error: 0.0355 - val_loss: 0.0027 - val_mean_squared_error: 0.0027 - val_mean_absolute_error: 0.0407\n",
            "Epoch 9/200\n",
            "32/32 [==============================] - 6s 175ms/step - loss: 0.0019 - mean_squared_error: 0.0019 - mean_absolute_error: 0.0346 - val_loss: 0.0030 - val_mean_squared_error: 0.0030 - val_mean_absolute_error: 0.0423\n",
            "Epoch 10/200\n",
            "32/32 [==============================] - 6s 174ms/step - loss: 0.0025 - mean_squared_error: 0.0025 - mean_absolute_error: 0.0392 - val_loss: 0.0030 - val_mean_squared_error: 0.0030 - val_mean_absolute_error: 0.0424\n",
            "Epoch 11/200\n",
            "32/32 [==============================] - 6s 178ms/step - loss: 0.0019 - mean_squared_error: 0.0019 - mean_absolute_error: 0.0336 - val_loss: 0.0025 - val_mean_squared_error: 0.0025 - val_mean_absolute_error: 0.0401\n",
            "Epoch 12/200\n",
            "32/32 [==============================] - 5s 170ms/step - loss: 0.0021 - mean_squared_error: 0.0021 - mean_absolute_error: 0.0364 - val_loss: 0.0024 - val_mean_squared_error: 0.0024 - val_mean_absolute_error: 0.0391\n",
            "Epoch 13/200\n",
            "32/32 [==============================] - 6s 174ms/step - loss: 0.0017 - mean_squared_error: 0.0017 - mean_absolute_error: 0.0326 - val_loss: 0.0022 - val_mean_squared_error: 0.0022 - val_mean_absolute_error: 0.0375\n",
            "Epoch 14/200\n",
            "32/32 [==============================] - 5s 169ms/step - loss: 0.0018 - mean_squared_error: 0.0018 - mean_absolute_error: 0.0338 - val_loss: 0.0021 - val_mean_squared_error: 0.0021 - val_mean_absolute_error: 0.0368\n",
            "Epoch 15/200\n",
            "32/32 [==============================] - 6s 175ms/step - loss: 0.0016 - mean_squared_error: 0.0016 - mean_absolute_error: 0.0315 - val_loss: 0.0021 - val_mean_squared_error: 0.0021 - val_mean_absolute_error: 0.0368\n",
            "Epoch 16/200\n",
            "32/32 [==============================] - 6s 173ms/step - loss: 0.0018 - mean_squared_error: 0.0018 - mean_absolute_error: 0.0342 - val_loss: 0.0021 - val_mean_squared_error: 0.0021 - val_mean_absolute_error: 0.0368\n",
            "Epoch 17/200\n",
            "32/32 [==============================] - 5s 170ms/step - loss: 0.0015 - mean_squared_error: 0.0015 - mean_absolute_error: 0.0306 - val_loss: 0.0020 - val_mean_squared_error: 0.0020 - val_mean_absolute_error: 0.0353\n",
            "Epoch 18/200\n",
            "32/32 [==============================] - 5s 164ms/step - loss: 0.0014 - mean_squared_error: 0.0014 - mean_absolute_error: 0.0306 - val_loss: 0.0020 - val_mean_squared_error: 0.0020 - val_mean_absolute_error: 0.0355\n",
            "Epoch 19/200\n",
            "32/32 [==============================] - 6s 174ms/step - loss: 0.0016 - mean_squared_error: 0.0016 - mean_absolute_error: 0.0310 - val_loss: 0.0019 - val_mean_squared_error: 0.0019 - val_mean_absolute_error: 0.0349\n",
            "Epoch 20/200\n",
            "32/32 [==============================] - 6s 173ms/step - loss: 0.0015 - mean_squared_error: 0.0015 - mean_absolute_error: 0.0311 - val_loss: 0.0019 - val_mean_squared_error: 0.0019 - val_mean_absolute_error: 0.0346\n",
            "Epoch 21/200\n",
            "32/32 [==============================] - 6s 174ms/step - loss: 0.0017 - mean_squared_error: 0.0017 - mean_absolute_error: 0.0319 - val_loss: 0.0019 - val_mean_squared_error: 0.0019 - val_mean_absolute_error: 0.0347\n",
            "Epoch 22/200\n",
            "32/32 [==============================] - 6s 174ms/step - loss: 0.0015 - mean_squared_error: 0.0015 - mean_absolute_error: 0.0301 - val_loss: 0.0022 - val_mean_squared_error: 0.0022 - val_mean_absolute_error: 0.0367\n",
            "Epoch 23/200\n",
            "32/32 [==============================] - 5s 168ms/step - loss: 0.0016 - mean_squared_error: 0.0016 - mean_absolute_error: 0.0313 - val_loss: 0.0025 - val_mean_squared_error: 0.0025 - val_mean_absolute_error: 0.0398\n",
            "Epoch 24/200\n",
            "32/32 [==============================] - 5s 167ms/step - loss: 0.0018 - mean_squared_error: 0.0018 - mean_absolute_error: 0.0333 - val_loss: 0.0026 - val_mean_squared_error: 0.0026 - val_mean_absolute_error: 0.0407\n",
            "Epoch 25/200\n",
            "32/32 [==============================] - 5s 170ms/step - loss: 0.0015 - mean_squared_error: 0.0015 - mean_absolute_error: 0.0298 - val_loss: 0.0018 - val_mean_squared_error: 0.0018 - val_mean_absolute_error: 0.0337\n",
            "Epoch 26/200\n",
            "32/32 [==============================] - 5s 172ms/step - loss: 0.0014 - mean_squared_error: 0.0014 - mean_absolute_error: 0.0284 - val_loss: 0.0018 - val_mean_squared_error: 0.0018 - val_mean_absolute_error: 0.0333\n",
            "Epoch 27/200\n",
            "32/32 [==============================] - 6s 178ms/step - loss: 0.0013 - mean_squared_error: 0.0013 - mean_absolute_error: 0.0282 - val_loss: 0.0018 - val_mean_squared_error: 0.0018 - val_mean_absolute_error: 0.0333\n",
            "Epoch 28/200\n",
            "32/32 [==============================] - 6s 174ms/step - loss: 0.0012 - mean_squared_error: 0.0012 - mean_absolute_error: 0.0275 - val_loss: 0.0022 - val_mean_squared_error: 0.0022 - val_mean_absolute_error: 0.0372\n",
            "Epoch 29/200\n",
            "32/32 [==============================] - 6s 178ms/step - loss: 0.0015 - mean_squared_error: 0.0015 - mean_absolute_error: 0.0301 - val_loss: 0.0018 - val_mean_squared_error: 0.0018 - val_mean_absolute_error: 0.0336\n",
            "Epoch 30/200\n",
            "32/32 [==============================] - 5s 171ms/step - loss: 0.0013 - mean_squared_error: 0.0013 - mean_absolute_error: 0.0286 - val_loss: 0.0022 - val_mean_squared_error: 0.0022 - val_mean_absolute_error: 0.0372\n",
            "Epoch 31/200\n",
            "32/32 [==============================] - 5s 168ms/step - loss: 0.0016 - mean_squared_error: 0.0016 - mean_absolute_error: 0.0319 - val_loss: 0.0022 - val_mean_squared_error: 0.0022 - val_mean_absolute_error: 0.0370\n",
            "Epoch 32/200\n",
            "32/32 [==============================] - 6s 173ms/step - loss: 0.0016 - mean_squared_error: 0.0016 - mean_absolute_error: 0.0321 - val_loss: 0.0020 - val_mean_squared_error: 0.0020 - val_mean_absolute_error: 0.0347\n",
            "Epoch 33/200\n",
            "32/32 [==============================] - 6s 180ms/step - loss: 0.0013 - mean_squared_error: 0.0013 - mean_absolute_error: 0.0291 - val_loss: 0.0017 - val_mean_squared_error: 0.0017 - val_mean_absolute_error: 0.0328\n",
            "Epoch 34/200\n",
            "32/32 [==============================] - 6s 179ms/step - loss: 0.0012 - mean_squared_error: 0.0012 - mean_absolute_error: 0.0277 - val_loss: 0.0017 - val_mean_squared_error: 0.0017 - val_mean_absolute_error: 0.0327\n",
            "Epoch 35/200\n",
            "32/32 [==============================] - 6s 176ms/step - loss: 0.0013 - mean_squared_error: 0.0013 - mean_absolute_error: 0.0285 - val_loss: 0.0018 - val_mean_squared_error: 0.0018 - val_mean_absolute_error: 0.0331\n",
            "Epoch 36/200\n",
            "32/32 [==============================] - 5s 168ms/step - loss: 0.0014 - mean_squared_error: 0.0014 - mean_absolute_error: 0.0288 - val_loss: 0.0017 - val_mean_squared_error: 0.0017 - val_mean_absolute_error: 0.0322\n",
            "Epoch 37/200\n",
            "32/32 [==============================] - 5s 168ms/step - loss: 0.0011 - mean_squared_error: 0.0011 - mean_absolute_error: 0.0258 - val_loss: 0.0018 - val_mean_squared_error: 0.0018 - val_mean_absolute_error: 0.0329\n",
            "Epoch 38/200\n",
            "32/32 [==============================] - 5s 167ms/step - loss: 0.0013 - mean_squared_error: 0.0013 - mean_absolute_error: 0.0288 - val_loss: 0.0018 - val_mean_squared_error: 0.0018 - val_mean_absolute_error: 0.0329\n",
            "Epoch 39/200\n",
            "32/32 [==============================] - 6s 173ms/step - loss: 0.0012 - mean_squared_error: 0.0012 - mean_absolute_error: 0.0270 - val_loss: 0.0026 - val_mean_squared_error: 0.0026 - val_mean_absolute_error: 0.0409\n",
            "Epoch 40/200\n",
            "32/32 [==============================] - 6s 170ms/step - loss: 0.0012 - mean_squared_error: 0.0012 - mean_absolute_error: 0.0276 - val_loss: 0.0019 - val_mean_squared_error: 0.0019 - val_mean_absolute_error: 0.0342\n",
            "Epoch 41/200\n",
            "32/32 [==============================] - 5s 171ms/step - loss: 0.0012 - mean_squared_error: 0.0012 - mean_absolute_error: 0.0277 - val_loss: 0.0020 - val_mean_squared_error: 0.0020 - val_mean_absolute_error: 0.0350\n",
            "Epoch 42/200\n",
            "32/32 [==============================] - 6s 172ms/step - loss: 0.0012 - mean_squared_error: 0.0012 - mean_absolute_error: 0.0270 - val_loss: 0.0017 - val_mean_squared_error: 0.0017 - val_mean_absolute_error: 0.0318\n",
            "Epoch 43/200\n",
            "32/32 [==============================] - 5s 169ms/step - loss: 0.0012 - mean_squared_error: 0.0012 - mean_absolute_error: 0.0274 - val_loss: 0.0018 - val_mean_squared_error: 0.0018 - val_mean_absolute_error: 0.0332\n",
            "Epoch 44/200\n",
            "32/32 [==============================] - 5s 169ms/step - loss: 0.0013 - mean_squared_error: 0.0013 - mean_absolute_error: 0.0278 - val_loss: 0.0017 - val_mean_squared_error: 0.0017 - val_mean_absolute_error: 0.0323\n",
            "Epoch 45/200\n",
            "32/32 [==============================] - 6s 178ms/step - loss: 0.0012 - mean_squared_error: 0.0012 - mean_absolute_error: 0.0274 - val_loss: 0.0024 - val_mean_squared_error: 0.0024 - val_mean_absolute_error: 0.0385\n",
            "Epoch 46/200\n",
            "32/32 [==============================] - 6s 183ms/step - loss: 0.0012 - mean_squared_error: 0.0012 - mean_absolute_error: 0.0278 - val_loss: 0.0017 - val_mean_squared_error: 0.0017 - val_mean_absolute_error: 0.0322\n",
            "Epoch 47/200\n",
            "32/32 [==============================] - 5s 172ms/step - loss: 0.0012 - mean_squared_error: 0.0012 - mean_absolute_error: 0.0275 - val_loss: 0.0019 - val_mean_squared_error: 0.0019 - val_mean_absolute_error: 0.0338\n",
            "Epoch 48/200\n",
            "32/32 [==============================] - 5s 170ms/step - loss: 0.0014 - mean_squared_error: 0.0014 - mean_absolute_error: 0.0294 - val_loss: 0.0021 - val_mean_squared_error: 0.0021 - val_mean_absolute_error: 0.0360\n",
            "Epoch 49/200\n",
            "32/32 [==============================] - 5s 169ms/step - loss: 0.0014 - mean_squared_error: 0.0014 - mean_absolute_error: 0.0288 - val_loss: 0.0018 - val_mean_squared_error: 0.0018 - val_mean_absolute_error: 0.0334\n",
            "Epoch 50/200\n",
            "32/32 [==============================] - 5s 167ms/step - loss: 0.0012 - mean_squared_error: 0.0012 - mean_absolute_error: 0.0274 - val_loss: 0.0025 - val_mean_squared_error: 0.0025 - val_mean_absolute_error: 0.0402\n",
            "Epoch 51/200\n",
            "32/32 [==============================] - 6s 177ms/step - loss: 0.0015 - mean_squared_error: 0.0015 - mean_absolute_error: 0.0305 - val_loss: 0.0018 - val_mean_squared_error: 0.0018 - val_mean_absolute_error: 0.0329\n",
            "Epoch 52/200\n",
            "32/32 [==============================] - 5s 171ms/step - loss: 0.0015 - mean_squared_error: 0.0015 - mean_absolute_error: 0.0309 - val_loss: 0.0019 - val_mean_squared_error: 0.0019 - val_mean_absolute_error: 0.0341\n"
          ],
          "name": "stdout"
        },
        {
          "output_type": "display_data",
          "data": {
            "text/html": [
              "<br/>Waiting for W&B process to finish, PID 4886<br/>Program ended successfully."
            ],
            "text/plain": [
              "<IPython.core.display.HTML object>"
            ]
          },
          "metadata": {
            "tags": []
          }
        },
        {
          "output_type": "display_data",
          "data": {
            "application/vnd.jupyter.widget-view+json": {
              "model_id": "c9fb8a19313e44a29563acb12378e2ba",
              "version_minor": 0,
              "version_major": 2
            },
            "text/plain": [
              "VBox(children=(Label(value=' 0.78MB of 0.78MB uploaded (0.00MB deduped)\\r'), FloatProgress(value=1.0, max=1.0)…"
            ]
          },
          "metadata": {
            "tags": []
          }
        },
        {
          "output_type": "display_data",
          "data": {
            "text/html": [
              "Find user logs for this run at: <code>/content/feeder_repo/wandb/run-20210718_200325-z1tvodg4/logs/debug.log</code>"
            ],
            "text/plain": [
              "<IPython.core.display.HTML object>"
            ]
          },
          "metadata": {
            "tags": []
          }
        },
        {
          "output_type": "display_data",
          "data": {
            "text/html": [
              "Find internal logs for this run at: <code>/content/feeder_repo/wandb/run-20210718_200325-z1tvodg4/logs/debug-internal.log</code>"
            ],
            "text/plain": [
              "<IPython.core.display.HTML object>"
            ]
          },
          "metadata": {
            "tags": []
          }
        },
        {
          "output_type": "display_data",
          "data": {
            "text/html": [
              "<h3>Run summary:</h3><br/><style>\n",
              "    table.wandb td:nth-child(1) { padding: 0 10px; text-align: right }\n",
              "    </style><table class=\"wandb\">\n",
              "<tr><td>epoch</td><td>51</td></tr><tr><td>loss</td><td>0.00149</td></tr><tr><td>mean_squared_error</td><td>0.00149</td></tr><tr><td>mean_absolute_error</td><td>0.03037</td></tr><tr><td>val_loss</td><td>0.00192</td></tr><tr><td>val_mean_squared_error</td><td>0.00192</td></tr><tr><td>val_mean_absolute_error</td><td>0.03412</td></tr><tr><td>_runtime</td><td>298</td></tr><tr><td>_timestamp</td><td>1626638903</td></tr><tr><td>_step</td><td>51</td></tr><tr><td>best_val_loss</td><td>0.0017</td></tr><tr><td>best_epoch</td><td>41</td></tr></table>"
            ],
            "text/plain": [
              "<IPython.core.display.HTML object>"
            ]
          },
          "metadata": {
            "tags": []
          }
        },
        {
          "output_type": "display_data",
          "data": {
            "text/html": [
              "<h3>Run history:</h3><br/><style>\n",
              "    table.wandb td:nth-child(1) { padding: 0 10px; text-align: right }\n",
              "    </style><table class=\"wandb\">\n",
              "<tr><td>epoch</td><td>▁▁▁▁▂▂▂▂▂▃▃▃▃▃▃▄▄▄▄▄▅▅▅▅▅▅▆▆▆▆▆▆▇▇▇▇▇███</td></tr><tr><td>loss</td><td>█▁▁▁▁▁▁▁▁▁▁▁▁▁▁▁▁▁▁▁▁▁▁▁▁▁▁▁▁▁▁▁▁▁▁▁▁▁▁▁</td></tr><tr><td>mean_squared_error</td><td>█▁▁▁▁▁▁▁▁▁▁▁▁▁▁▁▁▁▁▁▁▁▁▁▁▁▁▁▁▁▁▁▁▁▁▁▁▁▁▁</td></tr><tr><td>mean_absolute_error</td><td>█▂▂▂▁▁▁▁▁▁▁▁▁▁▁▁▁▁▁▁▁▁▁▁▁▁▁▁▁▁▁▁▁▁▁▁▁▁▁▁</td></tr><tr><td>val_loss</td><td>█▅▅▄▃▄▃▃▂▂▂▂▂▂▁▁▁▂▃▁▁▂▁▂▁▁▁▁▁▁▁▂▁▁▂▁▂▁▂▁</td></tr><tr><td>val_mean_squared_error</td><td>█▅▅▄▃▄▃▃▂▂▂▂▂▂▁▁▁▂▃▁▁▂▁▂▁▁▁▁▁▁▁▂▁▁▂▁▂▁▂▁</td></tr><tr><td>val_mean_absolute_error</td><td>█▅▅▅▄▄▃▄▃▃▂▂▂▂▂▂▂▃▃▁▁▂▁▂▂▁▁▁▁▁▂▂▁▁▃▁▂▁▃▂</td></tr><tr><td>_runtime</td><td>▁▁▁▁▂▂▂▂▂▃▃▃▃▃▃▄▄▄▄▄▅▅▅▅▅▅▆▆▆▆▆▆▇▇▇▇▇███</td></tr><tr><td>_timestamp</td><td>▁▁▁▁▂▂▂▂▂▃▃▃▃▃▃▄▄▄▄▄▅▅▅▅▅▅▆▆▆▆▆▆▇▇▇▇▇███</td></tr><tr><td>_step</td><td>▁▁▁▁▂▂▂▂▂▃▃▃▃▃▃▄▄▄▄▄▅▅▅▅▅▅▆▆▆▆▆▆▇▇▇▇▇███</td></tr></table><br/>"
            ],
            "text/plain": [
              "<IPython.core.display.HTML object>"
            ]
          },
          "metadata": {
            "tags": []
          }
        },
        {
          "output_type": "display_data",
          "data": {
            "text/html": [
              "Synced 5 W&B file(s), 1 media file(s), 2 artifact file(s) and 2 other file(s)"
            ],
            "text/plain": [
              "<IPython.core.display.HTML object>"
            ]
          },
          "metadata": {
            "tags": []
          }
        },
        {
          "output_type": "display_data",
          "data": {
            "text/html": [
              "\n",
              "                    <br/>Synced <strong style=\"color:#cdcd00\">ancient-sweep-19</strong>: <a href=\"https://wandb.ai/acse-jaq15/ACSE_9_LSTM_GRU/runs/z1tvodg4\" target=\"_blank\">https://wandb.ai/acse-jaq15/ACSE_9_LSTM_GRU/runs/z1tvodg4</a><br/>\n",
              "                "
            ],
            "text/plain": [
              "<IPython.core.display.HTML object>"
            ]
          },
          "metadata": {
            "tags": []
          }
        },
        {
          "output_type": "stream",
          "text": [
            "\u001b[34m\u001b[1mwandb\u001b[0m: Agent Starting Run: ehismzwz with config:\n",
            "\u001b[34m\u001b[1mwandb\u001b[0m: \tactivation: selu\n",
            "\u001b[34m\u001b[1mwandb\u001b[0m: \tbatch_size: 32\n",
            "\u001b[34m\u001b[1mwandb\u001b[0m: \tdropout: 0.2\n",
            "\u001b[34m\u001b[1mwandb\u001b[0m: \tepochs: 100\n",
            "\u001b[34m\u001b[1mwandb\u001b[0m: \tlearning_rate: 0.0005\n",
            "\u001b[34m\u001b[1mwandb\u001b[0m: \toptimizer: adam\n"
          ],
          "name": "stderr"
        },
        {
          "output_type": "display_data",
          "data": {
            "text/html": [
              "\n",
              "                Tracking run with wandb version 0.11.0<br/>\n",
              "                Syncing run <strong style=\"color:#cdcd00\">trim-sweep-20</strong> to <a href=\"https://wandb.ai\" target=\"_blank\">Weights & Biases</a> <a href=\"https://docs.wandb.com/integrations/jupyter.html\" target=\"_blank\">(Documentation)</a>.<br/>\n",
              "                Project page: <a href=\"https://wandb.ai/acse-jaq15/ACSE_9_LSTM_GRU\" target=\"_blank\">https://wandb.ai/acse-jaq15/ACSE_9_LSTM_GRU</a><br/>\n",
              "                Sweep page: <a href=\"https://wandb.ai/acse-jaq15/ACSE_9_LSTM_GRU/sweeps/amj4ayh1\" target=\"_blank\">https://wandb.ai/acse-jaq15/ACSE_9_LSTM_GRU/sweeps/amj4ayh1</a><br/>\n",
              "Run page: <a href=\"https://wandb.ai/acse-jaq15/ACSE_9_LSTM_GRU/runs/ehismzwz\" target=\"_blank\">https://wandb.ai/acse-jaq15/ACSE_9_LSTM_GRU/runs/ehismzwz</a><br/>\n",
              "                Run data is saved locally in <code>/content/feeder_repo/wandb/run-20210718_200834-ehismzwz</code><br/><br/>\n",
              "            "
            ],
            "text/plain": [
              "<IPython.core.display.HTML object>"
            ]
          },
          "metadata": {
            "tags": []
          }
        },
        {
          "output_type": "stream",
          "text": [
            "WARNING:tensorflow:Layer lstm will not use cuDNN kernels since it doesn't meet the criteria. It will use a generic GPU kernel as fallback when running on GPU.\n",
            "WARNING:tensorflow:Layer gru will not use cuDNN kernels since it doesn't meet the criteria. It will use a generic GPU kernel as fallback when running on GPU.\n",
            "Epoch 1/100\n",
            "32/32 [==============================] - 11s 206ms/step - loss: 0.0401 - mean_squared_error: 0.0401 - mean_absolute_error: 0.1504 - val_loss: 0.0092 - val_mean_squared_error: 0.0092 - val_mean_absolute_error: 0.0787\n",
            "Epoch 2/100\n",
            "32/32 [==============================] - 5s 170ms/step - loss: 0.0073 - mean_squared_error: 0.0073 - mean_absolute_error: 0.0677 - val_loss: 0.0073 - val_mean_squared_error: 0.0073 - val_mean_absolute_error: 0.0684\n",
            "Epoch 3/100\n",
            "32/32 [==============================] - 5s 172ms/step - loss: 0.0061 - mean_squared_error: 0.0061 - mean_absolute_error: 0.0613 - val_loss: 0.0077 - val_mean_squared_error: 0.0077 - val_mean_absolute_error: 0.0698\n",
            "Epoch 4/100\n",
            "32/32 [==============================] - 6s 175ms/step - loss: 0.0044 - mean_squared_error: 0.0044 - mean_absolute_error: 0.0517 - val_loss: 0.0052 - val_mean_squared_error: 0.0052 - val_mean_absolute_error: 0.0573\n",
            "Epoch 5/100\n",
            "32/32 [==============================] - 6s 179ms/step - loss: 0.0040 - mean_squared_error: 0.0040 - mean_absolute_error: 0.0502 - val_loss: 0.0048 - val_mean_squared_error: 0.0048 - val_mean_absolute_error: 0.0540\n",
            "Epoch 6/100\n",
            "32/32 [==============================] - 5s 168ms/step - loss: 0.0037 - mean_squared_error: 0.0037 - mean_absolute_error: 0.0479 - val_loss: 0.0050 - val_mean_squared_error: 0.0050 - val_mean_absolute_error: 0.0559\n",
            "Epoch 7/100\n",
            "32/32 [==============================] - 6s 171ms/step - loss: 0.0034 - mean_squared_error: 0.0034 - mean_absolute_error: 0.0458 - val_loss: 0.0043 - val_mean_squared_error: 0.0043 - val_mean_absolute_error: 0.0515\n",
            "Epoch 8/100\n",
            "32/32 [==============================] - 5s 166ms/step - loss: 0.0031 - mean_squared_error: 0.0031 - mean_absolute_error: 0.0431 - val_loss: 0.0042 - val_mean_squared_error: 0.0042 - val_mean_absolute_error: 0.0507\n",
            "Epoch 9/100\n",
            "32/32 [==============================] - 5s 166ms/step - loss: 0.0030 - mean_squared_error: 0.0030 - mean_absolute_error: 0.0433 - val_loss: 0.0040 - val_mean_squared_error: 0.0040 - val_mean_absolute_error: 0.0498\n",
            "Epoch 10/100\n",
            "32/32 [==============================] - 6s 176ms/step - loss: 0.0030 - mean_squared_error: 0.0030 - mean_absolute_error: 0.0436 - val_loss: 0.0039 - val_mean_squared_error: 0.0039 - val_mean_absolute_error: 0.0492\n",
            "Epoch 11/100\n",
            "32/32 [==============================] - 5s 167ms/step - loss: 0.0028 - mean_squared_error: 0.0028 - mean_absolute_error: 0.0422 - val_loss: 0.0039 - val_mean_squared_error: 0.0039 - val_mean_absolute_error: 0.0490\n",
            "Epoch 12/100\n",
            "32/32 [==============================] - 5s 169ms/step - loss: 0.0027 - mean_squared_error: 0.0027 - mean_absolute_error: 0.0403 - val_loss: 0.0041 - val_mean_squared_error: 0.0041 - val_mean_absolute_error: 0.0502\n",
            "Epoch 13/100\n",
            "32/32 [==============================] - 6s 172ms/step - loss: 0.0028 - mean_squared_error: 0.0028 - mean_absolute_error: 0.0417 - val_loss: 0.0037 - val_mean_squared_error: 0.0037 - val_mean_absolute_error: 0.0474\n",
            "Epoch 14/100\n",
            "32/32 [==============================] - 5s 170ms/step - loss: 0.0029 - mean_squared_error: 0.0029 - mean_absolute_error: 0.0422 - val_loss: 0.0035 - val_mean_squared_error: 0.0035 - val_mean_absolute_error: 0.0468\n",
            "Epoch 15/100\n",
            "32/32 [==============================] - 5s 171ms/step - loss: 0.0024 - mean_squared_error: 0.0024 - mean_absolute_error: 0.0384 - val_loss: 0.0038 - val_mean_squared_error: 0.0038 - val_mean_absolute_error: 0.0490\n",
            "Epoch 16/100\n",
            "32/32 [==============================] - 5s 171ms/step - loss: 0.0026 - mean_squared_error: 0.0026 - mean_absolute_error: 0.0405 - val_loss: 0.0036 - val_mean_squared_error: 0.0036 - val_mean_absolute_error: 0.0470\n",
            "Epoch 17/100\n",
            "32/32 [==============================] - 6s 178ms/step - loss: 0.0024 - mean_squared_error: 0.0024 - mean_absolute_error: 0.0382 - val_loss: 0.0033 - val_mean_squared_error: 0.0033 - val_mean_absolute_error: 0.0452\n",
            "Epoch 18/100\n",
            "32/32 [==============================] - 6s 171ms/step - loss: 0.0023 - mean_squared_error: 0.0023 - mean_absolute_error: 0.0379 - val_loss: 0.0035 - val_mean_squared_error: 0.0035 - val_mean_absolute_error: 0.0459\n",
            "Epoch 19/100\n",
            "32/32 [==============================] - 5s 169ms/step - loss: 0.0025 - mean_squared_error: 0.0025 - mean_absolute_error: 0.0404 - val_loss: 0.0041 - val_mean_squared_error: 0.0041 - val_mean_absolute_error: 0.0499\n",
            "Epoch 20/100\n",
            "32/32 [==============================] - 5s 170ms/step - loss: 0.0025 - mean_squared_error: 0.0025 - mean_absolute_error: 0.0394 - val_loss: 0.0035 - val_mean_squared_error: 0.0035 - val_mean_absolute_error: 0.0462\n",
            "Epoch 21/100\n",
            "32/32 [==============================] - 6s 175ms/step - loss: 0.0026 - mean_squared_error: 0.0026 - mean_absolute_error: 0.0400 - val_loss: 0.0033 - val_mean_squared_error: 0.0033 - val_mean_absolute_error: 0.0451\n",
            "Epoch 22/100\n",
            "32/32 [==============================] - 5s 169ms/step - loss: 0.0020 - mean_squared_error: 0.0020 - mean_absolute_error: 0.0358 - val_loss: 0.0034 - val_mean_squared_error: 0.0034 - val_mean_absolute_error: 0.0456\n",
            "Epoch 23/100\n",
            "32/32 [==============================] - 5s 171ms/step - loss: 0.0023 - mean_squared_error: 0.0023 - mean_absolute_error: 0.0379 - val_loss: 0.0031 - val_mean_squared_error: 0.0031 - val_mean_absolute_error: 0.0440\n",
            "Epoch 24/100\n",
            "32/32 [==============================] - 6s 173ms/step - loss: 0.0022 - mean_squared_error: 0.0022 - mean_absolute_error: 0.0379 - val_loss: 0.0031 - val_mean_squared_error: 0.0031 - val_mean_absolute_error: 0.0434\n",
            "Epoch 25/100\n",
            "32/32 [==============================] - 5s 166ms/step - loss: 0.0022 - mean_squared_error: 0.0022 - mean_absolute_error: 0.0369 - val_loss: 0.0031 - val_mean_squared_error: 0.0031 - val_mean_absolute_error: 0.0431\n",
            "Epoch 26/100\n",
            "32/32 [==============================] - 5s 168ms/step - loss: 0.0022 - mean_squared_error: 0.0022 - mean_absolute_error: 0.0369 - val_loss: 0.0031 - val_mean_squared_error: 0.0031 - val_mean_absolute_error: 0.0445\n",
            "Epoch 27/100\n",
            "32/32 [==============================] - 6s 175ms/step - loss: 0.0022 - mean_squared_error: 0.0022 - mean_absolute_error: 0.0368 - val_loss: 0.0031 - val_mean_squared_error: 0.0031 - val_mean_absolute_error: 0.0432\n",
            "Epoch 28/100\n",
            "32/32 [==============================] - 6s 175ms/step - loss: 0.0021 - mean_squared_error: 0.0021 - mean_absolute_error: 0.0358 - val_loss: 0.0032 - val_mean_squared_error: 0.0032 - val_mean_absolute_error: 0.0441\n",
            "Epoch 29/100\n",
            "32/32 [==============================] - 5s 168ms/step - loss: 0.0021 - mean_squared_error: 0.0021 - mean_absolute_error: 0.0350 - val_loss: 0.0029 - val_mean_squared_error: 0.0029 - val_mean_absolute_error: 0.0420\n",
            "Epoch 30/100\n",
            "32/32 [==============================] - 5s 170ms/step - loss: 0.0019 - mean_squared_error: 0.0019 - mean_absolute_error: 0.0340 - val_loss: 0.0031 - val_mean_squared_error: 0.0031 - val_mean_absolute_error: 0.0433\n",
            "Epoch 31/100\n",
            "32/32 [==============================] - 5s 169ms/step - loss: 0.0022 - mean_squared_error: 0.0022 - mean_absolute_error: 0.0376 - val_loss: 0.0028 - val_mean_squared_error: 0.0028 - val_mean_absolute_error: 0.0417\n",
            "Epoch 32/100\n",
            "32/32 [==============================] - 5s 168ms/step - loss: 0.0020 - mean_squared_error: 0.0020 - mean_absolute_error: 0.0354 - val_loss: 0.0029 - val_mean_squared_error: 0.0029 - val_mean_absolute_error: 0.0421\n",
            "Epoch 33/100\n",
            "32/32 [==============================] - 5s 172ms/step - loss: 0.0020 - mean_squared_error: 0.0020 - mean_absolute_error: 0.0350 - val_loss: 0.0028 - val_mean_squared_error: 0.0028 - val_mean_absolute_error: 0.0418\n",
            "Epoch 34/100\n",
            "32/32 [==============================] - 5s 164ms/step - loss: 0.0021 - mean_squared_error: 0.0021 - mean_absolute_error: 0.0356 - val_loss: 0.0028 - val_mean_squared_error: 0.0028 - val_mean_absolute_error: 0.0412\n",
            "Epoch 35/100\n",
            "32/32 [==============================] - 5s 170ms/step - loss: 0.0020 - mean_squared_error: 0.0020 - mean_absolute_error: 0.0352 - val_loss: 0.0029 - val_mean_squared_error: 0.0029 - val_mean_absolute_error: 0.0416\n",
            "Epoch 36/100\n",
            "32/32 [==============================] - 5s 167ms/step - loss: 0.0019 - mean_squared_error: 0.0019 - mean_absolute_error: 0.0342 - val_loss: 0.0026 - val_mean_squared_error: 0.0026 - val_mean_absolute_error: 0.0404\n",
            "Epoch 37/100\n",
            "32/32 [==============================] - 6s 173ms/step - loss: 0.0021 - mean_squared_error: 0.0021 - mean_absolute_error: 0.0361 - val_loss: 0.0026 - val_mean_squared_error: 0.0026 - val_mean_absolute_error: 0.0401\n",
            "Epoch 38/100\n",
            "32/32 [==============================] - 5s 166ms/step - loss: 0.0020 - mean_squared_error: 0.0020 - mean_absolute_error: 0.0353 - val_loss: 0.0027 - val_mean_squared_error: 0.0027 - val_mean_absolute_error: 0.0405\n",
            "Epoch 39/100\n",
            "32/32 [==============================] - 5s 170ms/step - loss: 0.0019 - mean_squared_error: 0.0019 - mean_absolute_error: 0.0345 - val_loss: 0.0026 - val_mean_squared_error: 0.0026 - val_mean_absolute_error: 0.0403\n",
            "Epoch 40/100\n",
            "32/32 [==============================] - 6s 170ms/step - loss: 0.0019 - mean_squared_error: 0.0019 - mean_absolute_error: 0.0345 - val_loss: 0.0028 - val_mean_squared_error: 0.0028 - val_mean_absolute_error: 0.0410\n",
            "Epoch 41/100\n",
            "32/32 [==============================] - 6s 180ms/step - loss: 0.0019 - mean_squared_error: 0.0019 - mean_absolute_error: 0.0346 - val_loss: 0.0027 - val_mean_squared_error: 0.0027 - val_mean_absolute_error: 0.0407\n",
            "Epoch 42/100\n",
            "32/32 [==============================] - 5s 172ms/step - loss: 0.0019 - mean_squared_error: 0.0019 - mean_absolute_error: 0.0337 - val_loss: 0.0025 - val_mean_squared_error: 0.0025 - val_mean_absolute_error: 0.0398\n",
            "Epoch 43/100\n",
            "32/32 [==============================] - 5s 170ms/step - loss: 0.0016 - mean_squared_error: 0.0016 - mean_absolute_error: 0.0320 - val_loss: 0.0025 - val_mean_squared_error: 0.0025 - val_mean_absolute_error: 0.0395\n",
            "Epoch 44/100\n",
            "32/32 [==============================] - 5s 166ms/step - loss: 0.0019 - mean_squared_error: 0.0019 - mean_absolute_error: 0.0341 - val_loss: 0.0026 - val_mean_squared_error: 0.0026 - val_mean_absolute_error: 0.0408\n",
            "Epoch 45/100\n",
            "32/32 [==============================] - 5s 167ms/step - loss: 0.0018 - mean_squared_error: 0.0018 - mean_absolute_error: 0.0330 - val_loss: 0.0030 - val_mean_squared_error: 0.0030 - val_mean_absolute_error: 0.0438\n",
            "Epoch 46/100\n",
            "32/32 [==============================] - 6s 173ms/step - loss: 0.0017 - mean_squared_error: 0.0017 - mean_absolute_error: 0.0325 - val_loss: 0.0024 - val_mean_squared_error: 0.0024 - val_mean_absolute_error: 0.0390\n",
            "Epoch 47/100\n",
            "32/32 [==============================] - 5s 171ms/step - loss: 0.0018 - mean_squared_error: 0.0018 - mean_absolute_error: 0.0332 - val_loss: 0.0026 - val_mean_squared_error: 0.0026 - val_mean_absolute_error: 0.0407\n",
            "Epoch 48/100\n",
            "32/32 [==============================] - 5s 170ms/step - loss: 0.0020 - mean_squared_error: 0.0020 - mean_absolute_error: 0.0346 - val_loss: 0.0025 - val_mean_squared_error: 0.0025 - val_mean_absolute_error: 0.0403\n",
            "Epoch 49/100\n",
            "32/32 [==============================] - 6s 175ms/step - loss: 0.0017 - mean_squared_error: 0.0017 - mean_absolute_error: 0.0324 - val_loss: 0.0026 - val_mean_squared_error: 0.0026 - val_mean_absolute_error: 0.0396\n",
            "Epoch 50/100\n",
            "32/32 [==============================] - 5s 162ms/step - loss: 0.0017 - mean_squared_error: 0.0017 - mean_absolute_error: 0.0324 - val_loss: 0.0025 - val_mean_squared_error: 0.0025 - val_mean_absolute_error: 0.0393\n",
            "Epoch 51/100\n",
            "32/32 [==============================] - 6s 177ms/step - loss: 0.0020 - mean_squared_error: 0.0020 - mean_absolute_error: 0.0350 - val_loss: 0.0026 - val_mean_squared_error: 0.0026 - val_mean_absolute_error: 0.0396\n",
            "Epoch 52/100\n",
            "32/32 [==============================] - 5s 172ms/step - loss: 0.0019 - mean_squared_error: 0.0019 - mean_absolute_error: 0.0349 - val_loss: 0.0024 - val_mean_squared_error: 0.0024 - val_mean_absolute_error: 0.0385\n",
            "Epoch 53/100\n",
            "32/32 [==============================] - 6s 179ms/step - loss: 0.0018 - mean_squared_error: 0.0018 - mean_absolute_error: 0.0335 - val_loss: 0.0023 - val_mean_squared_error: 0.0023 - val_mean_absolute_error: 0.0382\n",
            "Epoch 54/100\n",
            "32/32 [==============================] - 6s 175ms/step - loss: 0.0019 - mean_squared_error: 0.0019 - mean_absolute_error: 0.0343 - val_loss: 0.0024 - val_mean_squared_error: 0.0024 - val_mean_absolute_error: 0.0386\n",
            "Epoch 55/100\n",
            "32/32 [==============================] - 5s 169ms/step - loss: 0.0017 - mean_squared_error: 0.0017 - mean_absolute_error: 0.0328 - val_loss: 0.0023 - val_mean_squared_error: 0.0023 - val_mean_absolute_error: 0.0379\n",
            "Epoch 56/100\n",
            "32/32 [==============================] - 5s 163ms/step - loss: 0.0015 - mean_squared_error: 0.0015 - mean_absolute_error: 0.0306 - val_loss: 0.0024 - val_mean_squared_error: 0.0024 - val_mean_absolute_error: 0.0384\n",
            "Epoch 57/100\n",
            "32/32 [==============================] - 5s 168ms/step - loss: 0.0017 - mean_squared_error: 0.0017 - mean_absolute_error: 0.0318 - val_loss: 0.0022 - val_mean_squared_error: 0.0022 - val_mean_absolute_error: 0.0377\n",
            "Epoch 58/100\n",
            "32/32 [==============================] - 6s 176ms/step - loss: 0.0016 - mean_squared_error: 0.0016 - mean_absolute_error: 0.0314 - val_loss: 0.0024 - val_mean_squared_error: 0.0024 - val_mean_absolute_error: 0.0387\n",
            "Epoch 59/100\n",
            "32/32 [==============================] - 5s 171ms/step - loss: 0.0015 - mean_squared_error: 0.0015 - mean_absolute_error: 0.0311 - val_loss: 0.0023 - val_mean_squared_error: 0.0023 - val_mean_absolute_error: 0.0379\n",
            "Epoch 60/100\n",
            "32/32 [==============================] - 6s 175ms/step - loss: 0.0016 - mean_squared_error: 0.0016 - mean_absolute_error: 0.0313 - val_loss: 0.0022 - val_mean_squared_error: 0.0022 - val_mean_absolute_error: 0.0374\n",
            "Epoch 61/100\n",
            "32/32 [==============================] - 5s 163ms/step - loss: 0.0013 - mean_squared_error: 0.0013 - mean_absolute_error: 0.0291 - val_loss: 0.0022 - val_mean_squared_error: 0.0022 - val_mean_absolute_error: 0.0375\n",
            "Epoch 62/100\n",
            "32/32 [==============================] - 5s 169ms/step - loss: 0.0017 - mean_squared_error: 0.0017 - mean_absolute_error: 0.0321 - val_loss: 0.0024 - val_mean_squared_error: 0.0024 - val_mean_absolute_error: 0.0383\n",
            "Epoch 63/100\n",
            "32/32 [==============================] - 5s 172ms/step - loss: 0.0017 - mean_squared_error: 0.0017 - mean_absolute_error: 0.0328 - val_loss: 0.0025 - val_mean_squared_error: 0.0025 - val_mean_absolute_error: 0.0398\n",
            "Epoch 64/100\n",
            "32/32 [==============================] - 5s 170ms/step - loss: 0.0018 - mean_squared_error: 0.0018 - mean_absolute_error: 0.0335 - val_loss: 0.0021 - val_mean_squared_error: 0.0021 - val_mean_absolute_error: 0.0367\n",
            "Epoch 65/100\n",
            "32/32 [==============================] - 5s 163ms/step - loss: 0.0017 - mean_squared_error: 0.0017 - mean_absolute_error: 0.0324 - val_loss: 0.0021 - val_mean_squared_error: 0.0021 - val_mean_absolute_error: 0.0367\n",
            "Epoch 66/100\n",
            "32/32 [==============================] - 5s 168ms/step - loss: 0.0015 - mean_squared_error: 0.0015 - mean_absolute_error: 0.0298 - val_loss: 0.0021 - val_mean_squared_error: 0.0021 - val_mean_absolute_error: 0.0362\n",
            "Epoch 67/100\n",
            "32/32 [==============================] - 5s 168ms/step - loss: 0.0014 - mean_squared_error: 0.0014 - mean_absolute_error: 0.0292 - val_loss: 0.0022 - val_mean_squared_error: 0.0022 - val_mean_absolute_error: 0.0370\n",
            "Epoch 68/100\n",
            "32/32 [==============================] - 5s 168ms/step - loss: 0.0013 - mean_squared_error: 0.0013 - mean_absolute_error: 0.0277 - val_loss: 0.0021 - val_mean_squared_error: 0.0021 - val_mean_absolute_error: 0.0366\n",
            "Epoch 69/100\n",
            "32/32 [==============================] - 5s 171ms/step - loss: 0.0015 - mean_squared_error: 0.0015 - mean_absolute_error: 0.0299 - val_loss: 0.0022 - val_mean_squared_error: 0.0022 - val_mean_absolute_error: 0.0373\n",
            "Epoch 70/100\n",
            "32/32 [==============================] - 6s 175ms/step - loss: 0.0016 - mean_squared_error: 0.0016 - mean_absolute_error: 0.0316 - val_loss: 0.0022 - val_mean_squared_error: 0.0022 - val_mean_absolute_error: 0.0373\n",
            "Epoch 71/100\n",
            "32/32 [==============================] - 6s 179ms/step - loss: 0.0015 - mean_squared_error: 0.0015 - mean_absolute_error: 0.0312 - val_loss: 0.0021 - val_mean_squared_error: 0.0021 - val_mean_absolute_error: 0.0365\n",
            "Epoch 72/100\n",
            "32/32 [==============================] - 6s 176ms/step - loss: 0.0016 - mean_squared_error: 0.0016 - mean_absolute_error: 0.0313 - val_loss: 0.0020 - val_mean_squared_error: 0.0020 - val_mean_absolute_error: 0.0362\n",
            "Epoch 73/100\n",
            "32/32 [==============================] - 5s 170ms/step - loss: 0.0015 - mean_squared_error: 0.0015 - mean_absolute_error: 0.0300 - val_loss: 0.0032 - val_mean_squared_error: 0.0032 - val_mean_absolute_error: 0.0446\n",
            "Epoch 74/100\n",
            "32/32 [==============================] - 6s 173ms/step - loss: 0.0016 - mean_squared_error: 0.0016 - mean_absolute_error: 0.0313 - val_loss: 0.0021 - val_mean_squared_error: 0.0021 - val_mean_absolute_error: 0.0367\n",
            "Epoch 75/100\n",
            "32/32 [==============================] - 6s 174ms/step - loss: 0.0015 - mean_squared_error: 0.0015 - mean_absolute_error: 0.0302 - val_loss: 0.0023 - val_mean_squared_error: 0.0023 - val_mean_absolute_error: 0.0379\n",
            "Epoch 76/100\n",
            "32/32 [==============================] - 6s 176ms/step - loss: 0.0016 - mean_squared_error: 0.0016 - mean_absolute_error: 0.0310 - val_loss: 0.0020 - val_mean_squared_error: 0.0020 - val_mean_absolute_error: 0.0351\n",
            "Epoch 77/100\n",
            "32/32 [==============================] - 5s 169ms/step - loss: 0.0015 - mean_squared_error: 0.0015 - mean_absolute_error: 0.0304 - val_loss: 0.0020 - val_mean_squared_error: 0.0020 - val_mean_absolute_error: 0.0357\n",
            "Epoch 78/100\n",
            "32/32 [==============================] - 5s 168ms/step - loss: 0.0015 - mean_squared_error: 0.0015 - mean_absolute_error: 0.0312 - val_loss: 0.0020 - val_mean_squared_error: 0.0020 - val_mean_absolute_error: 0.0355\n",
            "Epoch 79/100\n",
            "32/32 [==============================] - 6s 175ms/step - loss: 0.0014 - mean_squared_error: 0.0014 - mean_absolute_error: 0.0291 - val_loss: 0.0021 - val_mean_squared_error: 0.0021 - val_mean_absolute_error: 0.0361\n",
            "Epoch 80/100\n",
            "32/32 [==============================] - 5s 168ms/step - loss: 0.0014 - mean_squared_error: 0.0014 - mean_absolute_error: 0.0295 - val_loss: 0.0021 - val_mean_squared_error: 0.0021 - val_mean_absolute_error: 0.0361\n",
            "Epoch 81/100\n",
            "32/32 [==============================] - 5s 166ms/step - loss: 0.0014 - mean_squared_error: 0.0014 - mean_absolute_error: 0.0296 - val_loss: 0.0019 - val_mean_squared_error: 0.0019 - val_mean_absolute_error: 0.0346\n",
            "Epoch 82/100\n",
            "32/32 [==============================] - 6s 172ms/step - loss: 0.0013 - mean_squared_error: 0.0013 - mean_absolute_error: 0.0290 - val_loss: 0.0022 - val_mean_squared_error: 0.0022 - val_mean_absolute_error: 0.0370\n",
            "Epoch 83/100\n",
            "32/32 [==============================] - 6s 174ms/step - loss: 0.0013 - mean_squared_error: 0.0013 - mean_absolute_error: 0.0289 - val_loss: 0.0020 - val_mean_squared_error: 0.0020 - val_mean_absolute_error: 0.0351\n",
            "Epoch 84/100\n",
            "32/32 [==============================] - 5s 170ms/step - loss: 0.0016 - mean_squared_error: 0.0016 - mean_absolute_error: 0.0311 - val_loss: 0.0019 - val_mean_squared_error: 0.0019 - val_mean_absolute_error: 0.0343\n",
            "Epoch 85/100\n",
            "32/32 [==============================] - 6s 171ms/step - loss: 0.0014 - mean_squared_error: 0.0014 - mean_absolute_error: 0.0292 - val_loss: 0.0019 - val_mean_squared_error: 0.0019 - val_mean_absolute_error: 0.0346\n",
            "Epoch 86/100\n",
            "32/32 [==============================] - 5s 167ms/step - loss: 0.0015 - mean_squared_error: 0.0015 - mean_absolute_error: 0.0294 - val_loss: 0.0021 - val_mean_squared_error: 0.0021 - val_mean_absolute_error: 0.0361\n",
            "Epoch 87/100\n",
            "32/32 [==============================] - 6s 181ms/step - loss: 0.0013 - mean_squared_error: 0.0013 - mean_absolute_error: 0.0283 - val_loss: 0.0020 - val_mean_squared_error: 0.0020 - val_mean_absolute_error: 0.0352\n",
            "Epoch 88/100\n",
            "32/32 [==============================] - 6s 175ms/step - loss: 0.0013 - mean_squared_error: 0.0013 - mean_absolute_error: 0.0280 - val_loss: 0.0019 - val_mean_squared_error: 0.0019 - val_mean_absolute_error: 0.0343\n",
            "Epoch 89/100\n",
            "32/32 [==============================] - 5s 167ms/step - loss: 0.0013 - mean_squared_error: 0.0013 - mean_absolute_error: 0.0289 - val_loss: 0.0018 - val_mean_squared_error: 0.0018 - val_mean_absolute_error: 0.0336\n",
            "Epoch 90/100\n",
            "32/32 [==============================] - 5s 170ms/step - loss: 0.0013 - mean_squared_error: 0.0013 - mean_absolute_error: 0.0284 - val_loss: 0.0019 - val_mean_squared_error: 0.0019 - val_mean_absolute_error: 0.0343\n",
            "Epoch 91/100\n",
            "32/32 [==============================] - 5s 170ms/step - loss: 0.0012 - mean_squared_error: 0.0012 - mean_absolute_error: 0.0278 - val_loss: 0.0020 - val_mean_squared_error: 0.0020 - val_mean_absolute_error: 0.0356\n",
            "Epoch 92/100\n",
            "32/32 [==============================] - 5s 172ms/step - loss: 0.0014 - mean_squared_error: 0.0014 - mean_absolute_error: 0.0296 - val_loss: 0.0020 - val_mean_squared_error: 0.0020 - val_mean_absolute_error: 0.0350\n",
            "Epoch 93/100\n",
            "32/32 [==============================] - 6s 173ms/step - loss: 0.0014 - mean_squared_error: 0.0014 - mean_absolute_error: 0.0286 - val_loss: 0.0020 - val_mean_squared_error: 0.0020 - val_mean_absolute_error: 0.0356\n",
            "Epoch 94/100\n",
            "32/32 [==============================] - 6s 178ms/step - loss: 0.0015 - mean_squared_error: 0.0015 - mean_absolute_error: 0.0298 - val_loss: 0.0018 - val_mean_squared_error: 0.0018 - val_mean_absolute_error: 0.0338\n",
            "Epoch 95/100\n",
            "32/32 [==============================] - 6s 174ms/step - loss: 0.0015 - mean_squared_error: 0.0015 - mean_absolute_error: 0.0292 - val_loss: 0.0019 - val_mean_squared_error: 0.0019 - val_mean_absolute_error: 0.0341\n",
            "Epoch 96/100\n",
            "32/32 [==============================] - 6s 180ms/step - loss: 0.0013 - mean_squared_error: 0.0013 - mean_absolute_error: 0.0282 - val_loss: 0.0019 - val_mean_squared_error: 0.0019 - val_mean_absolute_error: 0.0341\n",
            "Epoch 97/100\n",
            "32/32 [==============================] - 5s 166ms/step - loss: 0.0013 - mean_squared_error: 0.0013 - mean_absolute_error: 0.0285 - val_loss: 0.0019 - val_mean_squared_error: 0.0019 - val_mean_absolute_error: 0.0343\n",
            "Epoch 98/100\n",
            "32/32 [==============================] - 5s 169ms/step - loss: 0.0013 - mean_squared_error: 0.0013 - mean_absolute_error: 0.0285 - val_loss: 0.0018 - val_mean_squared_error: 0.0018 - val_mean_absolute_error: 0.0335\n",
            "Epoch 99/100\n",
            "32/32 [==============================] - 5s 168ms/step - loss: 0.0013 - mean_squared_error: 0.0013 - mean_absolute_error: 0.0282 - val_loss: 0.0020 - val_mean_squared_error: 0.0020 - val_mean_absolute_error: 0.0354\n"
          ],
          "name": "stdout"
        },
        {
          "output_type": "display_data",
          "data": {
            "text/html": [
              "<br/>Waiting for W&B process to finish, PID 5155<br/>Program ended successfully."
            ],
            "text/plain": [
              "<IPython.core.display.HTML object>"
            ]
          },
          "metadata": {
            "tags": []
          }
        },
        {
          "output_type": "display_data",
          "data": {
            "application/vnd.jupyter.widget-view+json": {
              "model_id": "5a895d5f029b4a65a3659a56fc3052cf",
              "version_minor": 0,
              "version_major": 2
            },
            "text/plain": [
              "VBox(children=(Label(value=' 0.82MB of 0.82MB uploaded (0.00MB deduped)\\r'), FloatProgress(value=1.0, max=1.0)…"
            ]
          },
          "metadata": {
            "tags": []
          }
        },
        {
          "output_type": "display_data",
          "data": {
            "text/html": [
              "Find user logs for this run at: <code>/content/feeder_repo/wandb/run-20210718_200834-ehismzwz/logs/debug.log</code>"
            ],
            "text/plain": [
              "<IPython.core.display.HTML object>"
            ]
          },
          "metadata": {
            "tags": []
          }
        },
        {
          "output_type": "display_data",
          "data": {
            "text/html": [
              "Find internal logs for this run at: <code>/content/feeder_repo/wandb/run-20210718_200834-ehismzwz/logs/debug-internal.log</code>"
            ],
            "text/plain": [
              "<IPython.core.display.HTML object>"
            ]
          },
          "metadata": {
            "tags": []
          }
        },
        {
          "output_type": "display_data",
          "data": {
            "text/html": [
              "<h3>Run summary:</h3><br/><style>\n",
              "    table.wandb td:nth-child(1) { padding: 0 10px; text-align: right }\n",
              "    </style><table class=\"wandb\">\n",
              "<tr><td>epoch</td><td>98</td></tr><tr><td>loss</td><td>0.00132</td></tr><tr><td>mean_squared_error</td><td>0.00132</td></tr><tr><td>mean_absolute_error</td><td>0.02839</td></tr><tr><td>val_loss</td><td>0.00202</td></tr><tr><td>val_mean_squared_error</td><td>0.00202</td></tr><tr><td>val_mean_absolute_error</td><td>0.03541</td></tr><tr><td>_runtime</td><td>574</td></tr><tr><td>_timestamp</td><td>1626639488</td></tr><tr><td>_step</td><td>98</td></tr><tr><td>best_val_loss</td><td>0.00179</td></tr><tr><td>best_epoch</td><td>88</td></tr></table>"
            ],
            "text/plain": [
              "<IPython.core.display.HTML object>"
            ]
          },
          "metadata": {
            "tags": []
          }
        },
        {
          "output_type": "display_data",
          "data": {
            "text/html": [
              "<h3>Run history:</h3><br/><style>\n",
              "    table.wandb td:nth-child(1) { padding: 0 10px; text-align: right }\n",
              "    </style><table class=\"wandb\">\n",
              "<tr><td>epoch</td><td>▁▁▁▁▂▂▂▂▂▃▃▃▃▃▃▄▄▄▄▄▅▅▅▅▅▅▆▆▆▆▆▇▇▇▇▇▇███</td></tr><tr><td>loss</td><td>█▃▂▂▂▂▁▁▁▁▁▁▁▁▁▁▁▁▁▁▁▁▁▁▁▁▁▁▁▁▁▁▁▁▁▁▁▁▁▁</td></tr><tr><td>mean_squared_error</td><td>█▃▂▂▂▂▁▁▁▁▁▁▁▁▁▁▁▁▁▁▁▁▁▁▁▁▁▁▁▁▁▁▁▁▁▁▁▁▁▁</td></tr><tr><td>mean_absolute_error</td><td>█▄▃▂▂▂▂▂▂▂▂▂▂▂▂▂▁▁▁▂▁▁▁▁▁▁▁▁▁▁▁▁▁▁▁▁▁▁▁▁</td></tr><tr><td>val_loss</td><td>█▇▄▃▃▃▃▃▂▂▂▂▂▂▂▂▂▂▂▂▂▁▁▂▁▂▁▁▁▂▁▁▁▁▁▁▁▁▁▁</td></tr><tr><td>val_mean_squared_error</td><td>█▇▄▃▃▃▃▃▂▂▂▂▂▂▂▂▂▂▂▂▂▁▁▂▁▂▁▁▁▂▁▁▁▁▁▁▁▁▁▁</td></tr><tr><td>val_mean_absolute_error</td><td>█▇▄▄▃▃▃▃▃▃▃▃▂▂▂▂▂▂▂▂▂▂▂▂▂▂▁▁▁▃▁▁▁▁▁▁▁▁▁▁</td></tr><tr><td>_runtime</td><td>▁▁▁▂▂▂▂▂▂▃▃▃▃▃▃▄▄▄▄▄▅▅▅▅▅▅▆▆▆▆▆▆▇▇▇▇▇███</td></tr><tr><td>_timestamp</td><td>▁▁▁▂▂▂▂▂▂▃▃▃▃▃▃▄▄▄▄▄▅▅▅▅▅▅▆▆▆▆▆▆▇▇▇▇▇███</td></tr><tr><td>_step</td><td>▁▁▁▁▂▂▂▂▂▃▃▃▃▃▃▄▄▄▄▄▅▅▅▅▅▅▆▆▆▆▆▇▇▇▇▇▇███</td></tr></table><br/>"
            ],
            "text/plain": [
              "<IPython.core.display.HTML object>"
            ]
          },
          "metadata": {
            "tags": []
          }
        },
        {
          "output_type": "display_data",
          "data": {
            "text/html": [
              "Synced 5 W&B file(s), 1 media file(s), 2 artifact file(s) and 2 other file(s)"
            ],
            "text/plain": [
              "<IPython.core.display.HTML object>"
            ]
          },
          "metadata": {
            "tags": []
          }
        },
        {
          "output_type": "display_data",
          "data": {
            "text/html": [
              "\n",
              "                    <br/>Synced <strong style=\"color:#cdcd00\">trim-sweep-20</strong>: <a href=\"https://wandb.ai/acse-jaq15/ACSE_9_LSTM_GRU/runs/ehismzwz\" target=\"_blank\">https://wandb.ai/acse-jaq15/ACSE_9_LSTM_GRU/runs/ehismzwz</a><br/>\n",
              "                "
            ],
            "text/plain": [
              "<IPython.core.display.HTML object>"
            ]
          },
          "metadata": {
            "tags": []
          }
        },
        {
          "output_type": "stream",
          "text": [
            "\u001b[34m\u001b[1mwandb\u001b[0m: Agent Starting Run: tdgt2kmf with config:\n",
            "\u001b[34m\u001b[1mwandb\u001b[0m: \tactivation: tanh\n",
            "\u001b[34m\u001b[1mwandb\u001b[0m: \tbatch_size: 128\n",
            "\u001b[34m\u001b[1mwandb\u001b[0m: \tdropout: 0.3\n",
            "\u001b[34m\u001b[1mwandb\u001b[0m: \tepochs: 100\n",
            "\u001b[34m\u001b[1mwandb\u001b[0m: \tlearning_rate: 0.005\n",
            "\u001b[34m\u001b[1mwandb\u001b[0m: \toptimizer: nadam\n"
          ],
          "name": "stderr"
        },
        {
          "output_type": "display_data",
          "data": {
            "text/html": [
              "\n",
              "                Tracking run with wandb version 0.11.0<br/>\n",
              "                Syncing run <strong style=\"color:#cdcd00\">jolly-sweep-21</strong> to <a href=\"https://wandb.ai\" target=\"_blank\">Weights & Biases</a> <a href=\"https://docs.wandb.com/integrations/jupyter.html\" target=\"_blank\">(Documentation)</a>.<br/>\n",
              "                Project page: <a href=\"https://wandb.ai/acse-jaq15/ACSE_9_LSTM_GRU\" target=\"_blank\">https://wandb.ai/acse-jaq15/ACSE_9_LSTM_GRU</a><br/>\n",
              "                Sweep page: <a href=\"https://wandb.ai/acse-jaq15/ACSE_9_LSTM_GRU/sweeps/amj4ayh1\" target=\"_blank\">https://wandb.ai/acse-jaq15/ACSE_9_LSTM_GRU/sweeps/amj4ayh1</a><br/>\n",
              "Run page: <a href=\"https://wandb.ai/acse-jaq15/ACSE_9_LSTM_GRU/runs/tdgt2kmf\" target=\"_blank\">https://wandb.ai/acse-jaq15/ACSE_9_LSTM_GRU/runs/tdgt2kmf</a><br/>\n",
              "                Run data is saved locally in <code>/content/feeder_repo/wandb/run-20210718_201819-tdgt2kmf</code><br/><br/>\n",
              "            "
            ],
            "text/plain": [
              "<IPython.core.display.HTML object>"
            ]
          },
          "metadata": {
            "tags": []
          }
        },
        {
          "output_type": "stream",
          "text": [
            "Epoch 1/100\n",
            "8/8 [==============================] - 6s 171ms/step - loss: 0.1320 - mean_squared_error: 0.1320 - mean_absolute_error: 0.2783 - val_loss: 0.0091 - val_mean_squared_error: 0.0091 - val_mean_absolute_error: 0.0749\n",
            "Epoch 2/100\n",
            "8/8 [==============================] - 0s 14ms/step - loss: 0.0060 - mean_squared_error: 0.0060 - mean_absolute_error: 0.0628 - val_loss: 0.0092 - val_mean_squared_error: 0.0092 - val_mean_absolute_error: 0.0760\n",
            "Epoch 3/100\n",
            "8/8 [==============================] - 0s 16ms/step - loss: 0.0088 - mean_squared_error: 0.0088 - mean_absolute_error: 0.0765 - val_loss: 0.0165 - val_mean_squared_error: 0.0165 - val_mean_absolute_error: 0.1085\n",
            "Epoch 4/100\n",
            "8/8 [==============================] - 0s 15ms/step - loss: 0.0070 - mean_squared_error: 0.0070 - mean_absolute_error: 0.0675 - val_loss: 0.0055 - val_mean_squared_error: 0.0055 - val_mean_absolute_error: 0.0585\n",
            "Epoch 5/100\n",
            "8/8 [==============================] - 0s 15ms/step - loss: 0.0055 - mean_squared_error: 0.0055 - mean_absolute_error: 0.0593 - val_loss: 0.0149 - val_mean_squared_error: 0.0149 - val_mean_absolute_error: 0.1032\n",
            "Epoch 6/100\n",
            "8/8 [==============================] - 0s 16ms/step - loss: 0.0128 - mean_squared_error: 0.0128 - mean_absolute_error: 0.0934 - val_loss: 0.0057 - val_mean_squared_error: 0.0057 - val_mean_absolute_error: 0.0600\n",
            "Epoch 7/100\n",
            "8/8 [==============================] - 0s 18ms/step - loss: 0.0046 - mean_squared_error: 0.0046 - mean_absolute_error: 0.0551 - val_loss: 0.0050 - val_mean_squared_error: 0.0050 - val_mean_absolute_error: 0.0553\n",
            "Epoch 8/100\n",
            "8/8 [==============================] - 0s 16ms/step - loss: 0.0044 - mean_squared_error: 0.0044 - mean_absolute_error: 0.0526 - val_loss: 0.0111 - val_mean_squared_error: 0.0111 - val_mean_absolute_error: 0.0877\n",
            "Epoch 9/100\n",
            "8/8 [==============================] - 0s 18ms/step - loss: 0.0085 - mean_squared_error: 0.0085 - mean_absolute_error: 0.0766 - val_loss: 0.0060 - val_mean_squared_error: 0.0060 - val_mean_absolute_error: 0.0617\n",
            "Epoch 10/100\n",
            "8/8 [==============================] - 0s 16ms/step - loss: 0.0041 - mean_squared_error: 0.0041 - mean_absolute_error: 0.0510 - val_loss: 0.0047 - val_mean_squared_error: 0.0047 - val_mean_absolute_error: 0.0536\n",
            "Epoch 11/100\n",
            "8/8 [==============================] - 0s 14ms/step - loss: 0.0031 - mean_squared_error: 0.0031 - mean_absolute_error: 0.0427 - val_loss: 0.0062 - val_mean_squared_error: 0.0062 - val_mean_absolute_error: 0.0631\n",
            "Epoch 12/100\n",
            "8/8 [==============================] - 0s 19ms/step - loss: 0.0071 - mean_squared_error: 0.0071 - mean_absolute_error: 0.0689 - val_loss: 0.0090 - val_mean_squared_error: 0.0090 - val_mean_absolute_error: 0.0787\n",
            "Epoch 13/100\n",
            "8/8 [==============================] - 0s 16ms/step - loss: 0.0072 - mean_squared_error: 0.0072 - mean_absolute_error: 0.0698 - val_loss: 0.0050 - val_mean_squared_error: 0.0050 - val_mean_absolute_error: 0.0562\n",
            "Epoch 14/100\n",
            "8/8 [==============================] - 0s 15ms/step - loss: 0.0035 - mean_squared_error: 0.0035 - mean_absolute_error: 0.0471 - val_loss: 0.0045 - val_mean_squared_error: 0.0045 - val_mean_absolute_error: 0.0528\n",
            "Epoch 15/100\n",
            "8/8 [==============================] - 0s 17ms/step - loss: 0.0030 - mean_squared_error: 0.0030 - mean_absolute_error: 0.0438 - val_loss: 0.0042 - val_mean_squared_error: 0.0042 - val_mean_absolute_error: 0.0505\n",
            "Epoch 16/100\n",
            "8/8 [==============================] - 0s 16ms/step - loss: 0.0025 - mean_squared_error: 0.0025 - mean_absolute_error: 0.0392 - val_loss: 0.0043 - val_mean_squared_error: 0.0043 - val_mean_absolute_error: 0.0514\n",
            "Epoch 17/100\n",
            "8/8 [==============================] - 0s 17ms/step - loss: 0.0034 - mean_squared_error: 0.0034 - mean_absolute_error: 0.0460 - val_loss: 0.0238 - val_mean_squared_error: 0.0238 - val_mean_absolute_error: 0.1403\n",
            "Epoch 18/100\n",
            "8/8 [==============================] - 0s 16ms/step - loss: 0.0097 - mean_squared_error: 0.0097 - mean_absolute_error: 0.0845 - val_loss: 0.0069 - val_mean_squared_error: 0.0069 - val_mean_absolute_error: 0.0666\n",
            "Epoch 19/100\n",
            "8/8 [==============================] - 0s 17ms/step - loss: 0.0039 - mean_squared_error: 0.0039 - mean_absolute_error: 0.0501 - val_loss: 0.0051 - val_mean_squared_error: 0.0051 - val_mean_absolute_error: 0.0562\n",
            "Epoch 20/100\n",
            "8/8 [==============================] - 0s 17ms/step - loss: 0.0034 - mean_squared_error: 0.0034 - mean_absolute_error: 0.0468 - val_loss: 0.0096 - val_mean_squared_error: 0.0096 - val_mean_absolute_error: 0.0823\n",
            "Epoch 21/100\n",
            "8/8 [==============================] - 0s 15ms/step - loss: 0.0051 - mean_squared_error: 0.0051 - mean_absolute_error: 0.0579 - val_loss: 0.0044 - val_mean_squared_error: 0.0044 - val_mean_absolute_error: 0.0524\n",
            "Epoch 22/100\n",
            "8/8 [==============================] - 0s 18ms/step - loss: 0.0028 - mean_squared_error: 0.0028 - mean_absolute_error: 0.0414 - val_loss: 0.0037 - val_mean_squared_error: 0.0037 - val_mean_absolute_error: 0.0474\n",
            "Epoch 23/100\n",
            "8/8 [==============================] - 0s 18ms/step - loss: 0.0024 - mean_squared_error: 0.0024 - mean_absolute_error: 0.0389 - val_loss: 0.0036 - val_mean_squared_error: 0.0036 - val_mean_absolute_error: 0.0472\n",
            "Epoch 24/100\n",
            "8/8 [==============================] - 0s 18ms/step - loss: 0.0022 - mean_squared_error: 0.0022 - mean_absolute_error: 0.0378 - val_loss: 0.0055 - val_mean_squared_error: 0.0055 - val_mean_absolute_error: 0.0591\n",
            "Epoch 25/100\n",
            "8/8 [==============================] - 0s 17ms/step - loss: 0.0047 - mean_squared_error: 0.0047 - mean_absolute_error: 0.0557 - val_loss: 0.0054 - val_mean_squared_error: 0.0054 - val_mean_absolute_error: 0.0581\n",
            "Epoch 26/100\n",
            "8/8 [==============================] - 0s 15ms/step - loss: 0.0030 - mean_squared_error: 0.0030 - mean_absolute_error: 0.0433 - val_loss: 0.0040 - val_mean_squared_error: 0.0040 - val_mean_absolute_error: 0.0494\n",
            "Epoch 27/100\n",
            "8/8 [==============================] - 0s 18ms/step - loss: 0.0031 - mean_squared_error: 0.0031 - mean_absolute_error: 0.0437 - val_loss: 0.0060 - val_mean_squared_error: 0.0060 - val_mean_absolute_error: 0.0624\n",
            "Epoch 28/100\n",
            "8/8 [==============================] - 0s 16ms/step - loss: 0.0043 - mean_squared_error: 0.0043 - mean_absolute_error: 0.0526 - val_loss: 0.0040 - val_mean_squared_error: 0.0040 - val_mean_absolute_error: 0.0495\n",
            "Epoch 29/100\n",
            "8/8 [==============================] - 0s 17ms/step - loss: 0.0023 - mean_squared_error: 0.0023 - mean_absolute_error: 0.0382 - val_loss: 0.0035 - val_mean_squared_error: 0.0035 - val_mean_absolute_error: 0.0465\n",
            "Epoch 30/100\n",
            "8/8 [==============================] - 0s 15ms/step - loss: 0.0021 - mean_squared_error: 0.0021 - mean_absolute_error: 0.0363 - val_loss: 0.0043 - val_mean_squared_error: 0.0043 - val_mean_absolute_error: 0.0531\n",
            "Epoch 31/100\n",
            "8/8 [==============================] - 0s 19ms/step - loss: 0.0025 - mean_squared_error: 0.0025 - mean_absolute_error: 0.0397 - val_loss: 0.0047 - val_mean_squared_error: 0.0047 - val_mean_absolute_error: 0.0554\n",
            "Epoch 32/100\n",
            "8/8 [==============================] - 0s 16ms/step - loss: 0.0043 - mean_squared_error: 0.0043 - mean_absolute_error: 0.0540 - val_loss: 0.0054 - val_mean_squared_error: 0.0054 - val_mean_absolute_error: 0.0606\n",
            "Epoch 33/100\n",
            "8/8 [==============================] - 0s 15ms/step - loss: 0.0061 - mean_squared_error: 0.0061 - mean_absolute_error: 0.0637 - val_loss: 0.0039 - val_mean_squared_error: 0.0039 - val_mean_absolute_error: 0.0499\n",
            "Epoch 34/100\n",
            "8/8 [==============================] - 0s 17ms/step - loss: 0.0025 - mean_squared_error: 0.0025 - mean_absolute_error: 0.0401 - val_loss: 0.0031 - val_mean_squared_error: 0.0031 - val_mean_absolute_error: 0.0441\n",
            "Epoch 35/100\n",
            "8/8 [==============================] - 0s 18ms/step - loss: 0.0024 - mean_squared_error: 0.0024 - mean_absolute_error: 0.0377 - val_loss: 0.0033 - val_mean_squared_error: 0.0033 - val_mean_absolute_error: 0.0460\n",
            "Epoch 36/100\n",
            "8/8 [==============================] - 0s 20ms/step - loss: 0.0024 - mean_squared_error: 0.0024 - mean_absolute_error: 0.0389 - val_loss: 0.0035 - val_mean_squared_error: 0.0035 - val_mean_absolute_error: 0.0461\n",
            "Epoch 37/100\n",
            "8/8 [==============================] - 0s 17ms/step - loss: 0.0022 - mean_squared_error: 0.0022 - mean_absolute_error: 0.0373 - val_loss: 0.0041 - val_mean_squared_error: 0.0041 - val_mean_absolute_error: 0.0499\n",
            "Epoch 38/100\n",
            "8/8 [==============================] - 0s 15ms/step - loss: 0.0029 - mean_squared_error: 0.0029 - mean_absolute_error: 0.0430 - val_loss: 0.0043 - val_mean_squared_error: 0.0043 - val_mean_absolute_error: 0.0517\n",
            "Epoch 39/100\n",
            "8/8 [==============================] - 0s 18ms/step - loss: 0.0025 - mean_squared_error: 0.0025 - mean_absolute_error: 0.0396 - val_loss: 0.0035 - val_mean_squared_error: 0.0035 - val_mean_absolute_error: 0.0460\n",
            "Epoch 40/100\n",
            "8/8 [==============================] - 0s 17ms/step - loss: 0.0020 - mean_squared_error: 0.0020 - mean_absolute_error: 0.0358 - val_loss: 0.0048 - val_mean_squared_error: 0.0048 - val_mean_absolute_error: 0.0558\n",
            "Epoch 41/100\n",
            "8/8 [==============================] - 0s 16ms/step - loss: 0.0034 - mean_squared_error: 0.0034 - mean_absolute_error: 0.0470 - val_loss: 0.0061 - val_mean_squared_error: 0.0061 - val_mean_absolute_error: 0.0643\n",
            "Epoch 42/100\n",
            "8/8 [==============================] - 0s 15ms/step - loss: 0.0038 - mean_squared_error: 0.0038 - mean_absolute_error: 0.0499 - val_loss: 0.0063 - val_mean_squared_error: 0.0063 - val_mean_absolute_error: 0.0656\n",
            "Epoch 43/100\n",
            "8/8 [==============================] - 0s 19ms/step - loss: 0.0035 - mean_squared_error: 0.0035 - mean_absolute_error: 0.0482 - val_loss: 0.0031 - val_mean_squared_error: 0.0031 - val_mean_absolute_error: 0.0432\n",
            "Epoch 44/100\n",
            "8/8 [==============================] - 0s 17ms/step - loss: 0.0023 - mean_squared_error: 0.0023 - mean_absolute_error: 0.0385 - val_loss: 0.0037 - val_mean_squared_error: 0.0037 - val_mean_absolute_error: 0.0473\n",
            "Epoch 45/100\n",
            "8/8 [==============================] - 0s 16ms/step - loss: 0.0022 - mean_squared_error: 0.0022 - mean_absolute_error: 0.0372 - val_loss: 0.0037 - val_mean_squared_error: 0.0037 - val_mean_absolute_error: 0.0471\n",
            "Epoch 46/100\n",
            "8/8 [==============================] - 0s 20ms/step - loss: 0.0019 - mean_squared_error: 0.0019 - mean_absolute_error: 0.0351 - val_loss: 0.0032 - val_mean_squared_error: 0.0032 - val_mean_absolute_error: 0.0440\n",
            "Epoch 47/100\n",
            "8/8 [==============================] - 0s 19ms/step - loss: 0.0024 - mean_squared_error: 0.0024 - mean_absolute_error: 0.0392 - val_loss: 0.0057 - val_mean_squared_error: 0.0057 - val_mean_absolute_error: 0.0625\n",
            "Epoch 48/100\n",
            "8/8 [==============================] - 0s 17ms/step - loss: 0.0031 - mean_squared_error: 0.0031 - mean_absolute_error: 0.0453 - val_loss: 0.0042 - val_mean_squared_error: 0.0042 - val_mean_absolute_error: 0.0515\n",
            "Epoch 49/100\n",
            "8/8 [==============================] - 0s 16ms/step - loss: 0.0020 - mean_squared_error: 0.0020 - mean_absolute_error: 0.0354 - val_loss: 0.0025 - val_mean_squared_error: 0.0025 - val_mean_absolute_error: 0.0395\n",
            "Epoch 50/100\n",
            "8/8 [==============================] - 0s 15ms/step - loss: 0.0018 - mean_squared_error: 0.0018 - mean_absolute_error: 0.0339 - val_loss: 0.0024 - val_mean_squared_error: 0.0024 - val_mean_absolute_error: 0.0390\n",
            "Epoch 51/100\n",
            "8/8 [==============================] - 0s 15ms/step - loss: 0.0017 - mean_squared_error: 0.0017 - mean_absolute_error: 0.0325 - val_loss: 0.0028 - val_mean_squared_error: 0.0028 - val_mean_absolute_error: 0.0422\n",
            "Epoch 52/100\n",
            "8/8 [==============================] - 0s 18ms/step - loss: 0.0019 - mean_squared_error: 0.0019 - mean_absolute_error: 0.0344 - val_loss: 0.0030 - val_mean_squared_error: 0.0030 - val_mean_absolute_error: 0.0441\n",
            "Epoch 53/100\n",
            "8/8 [==============================] - 0s 17ms/step - loss: 0.0022 - mean_squared_error: 0.0022 - mean_absolute_error: 0.0379 - val_loss: 0.0024 - val_mean_squared_error: 0.0024 - val_mean_absolute_error: 0.0388\n",
            "Epoch 54/100\n",
            "8/8 [==============================] - 0s 15ms/step - loss: 0.0024 - mean_squared_error: 0.0024 - mean_absolute_error: 0.0392 - val_loss: 0.0034 - val_mean_squared_error: 0.0034 - val_mean_absolute_error: 0.0470\n",
            "Epoch 55/100\n",
            "8/8 [==============================] - 0s 17ms/step - loss: 0.0028 - mean_squared_error: 0.0028 - mean_absolute_error: 0.0431 - val_loss: 0.0026 - val_mean_squared_error: 0.0026 - val_mean_absolute_error: 0.0410\n",
            "Epoch 56/100\n",
            "8/8 [==============================] - 0s 21ms/step - loss: 0.0017 - mean_squared_error: 0.0017 - mean_absolute_error: 0.0325 - val_loss: 0.0025 - val_mean_squared_error: 0.0025 - val_mean_absolute_error: 0.0390\n",
            "Epoch 57/100\n",
            "8/8 [==============================] - 0s 18ms/step - loss: 0.0015 - mean_squared_error: 0.0015 - mean_absolute_error: 0.0309 - val_loss: 0.0022 - val_mean_squared_error: 0.0022 - val_mean_absolute_error: 0.0375\n",
            "Epoch 58/100\n",
            "8/8 [==============================] - 0s 17ms/step - loss: 0.0017 - mean_squared_error: 0.0017 - mean_absolute_error: 0.0321 - val_loss: 0.0030 - val_mean_squared_error: 0.0030 - val_mean_absolute_error: 0.0442\n",
            "Epoch 59/100\n",
            "8/8 [==============================] - 0s 16ms/step - loss: 0.0029 - mean_squared_error: 0.0029 - mean_absolute_error: 0.0439 - val_loss: 0.0030 - val_mean_squared_error: 0.0030 - val_mean_absolute_error: 0.0444\n",
            "Epoch 60/100\n",
            "8/8 [==============================] - 0s 20ms/step - loss: 0.0020 - mean_squared_error: 0.0020 - mean_absolute_error: 0.0359 - val_loss: 0.0022 - val_mean_squared_error: 0.0022 - val_mean_absolute_error: 0.0373\n",
            "Epoch 61/100\n",
            "8/8 [==============================] - 0s 17ms/step - loss: 0.0016 - mean_squared_error: 0.0016 - mean_absolute_error: 0.0312 - val_loss: 0.0025 - val_mean_squared_error: 0.0025 - val_mean_absolute_error: 0.0389\n",
            "Epoch 62/100\n",
            "8/8 [==============================] - 0s 19ms/step - loss: 0.0016 - mean_squared_error: 0.0016 - mean_absolute_error: 0.0314 - val_loss: 0.0035 - val_mean_squared_error: 0.0035 - val_mean_absolute_error: 0.0466\n",
            "Epoch 63/100\n",
            "8/8 [==============================] - 0s 17ms/step - loss: 0.0018 - mean_squared_error: 0.0018 - mean_absolute_error: 0.0337 - val_loss: 0.0022 - val_mean_squared_error: 0.0022 - val_mean_absolute_error: 0.0374\n",
            "Epoch 64/100\n",
            "8/8 [==============================] - 0s 19ms/step - loss: 0.0019 - mean_squared_error: 0.0019 - mean_absolute_error: 0.0350 - val_loss: 0.0032 - val_mean_squared_error: 0.0032 - val_mean_absolute_error: 0.0444\n",
            "Epoch 65/100\n",
            "8/8 [==============================] - 0s 16ms/step - loss: 0.0027 - mean_squared_error: 0.0027 - mean_absolute_error: 0.0420 - val_loss: 0.0031 - val_mean_squared_error: 0.0031 - val_mean_absolute_error: 0.0436\n",
            "Epoch 66/100\n",
            "8/8 [==============================] - 0s 19ms/step - loss: 0.0020 - mean_squared_error: 0.0020 - mean_absolute_error: 0.0338 - val_loss: 0.0035 - val_mean_squared_error: 0.0035 - val_mean_absolute_error: 0.0468\n",
            "Epoch 67/100\n",
            "8/8 [==============================] - 0s 15ms/step - loss: 0.0024 - mean_squared_error: 0.0024 - mean_absolute_error: 0.0392 - val_loss: 0.0062 - val_mean_squared_error: 0.0062 - val_mean_absolute_error: 0.0673\n",
            "Epoch 68/100\n",
            "8/8 [==============================] - 0s 18ms/step - loss: 0.0029 - mean_squared_error: 0.0029 - mean_absolute_error: 0.0433 - val_loss: 0.0033 - val_mean_squared_error: 0.0033 - val_mean_absolute_error: 0.0454\n",
            "Epoch 69/100\n",
            "8/8 [==============================] - 0s 19ms/step - loss: 0.0021 - mean_squared_error: 0.0021 - mean_absolute_error: 0.0366 - val_loss: 0.0028 - val_mean_squared_error: 0.0028 - val_mean_absolute_error: 0.0413\n",
            "Epoch 70/100\n",
            "8/8 [==============================] - 0s 17ms/step - loss: 0.0016 - mean_squared_error: 0.0016 - mean_absolute_error: 0.0309 - val_loss: 0.0020 - val_mean_squared_error: 0.0020 - val_mean_absolute_error: 0.0356\n",
            "Epoch 71/100\n",
            "8/8 [==============================] - 0s 16ms/step - loss: 0.0016 - mean_squared_error: 0.0016 - mean_absolute_error: 0.0308 - val_loss: 0.0022 - val_mean_squared_error: 0.0022 - val_mean_absolute_error: 0.0374\n",
            "Epoch 72/100\n",
            "8/8 [==============================] - 0s 17ms/step - loss: 0.0018 - mean_squared_error: 0.0018 - mean_absolute_error: 0.0331 - val_loss: 0.0028 - val_mean_squared_error: 0.0028 - val_mean_absolute_error: 0.0421\n",
            "Epoch 73/100\n",
            "8/8 [==============================] - 0s 18ms/step - loss: 0.0020 - mean_squared_error: 0.0020 - mean_absolute_error: 0.0364 - val_loss: 0.0020 - val_mean_squared_error: 0.0020 - val_mean_absolute_error: 0.0357\n",
            "Epoch 74/100\n",
            "8/8 [==============================] - 0s 17ms/step - loss: 0.0019 - mean_squared_error: 0.0019 - mean_absolute_error: 0.0343 - val_loss: 0.0020 - val_mean_squared_error: 0.0020 - val_mean_absolute_error: 0.0353\n",
            "Epoch 75/100\n",
            "8/8 [==============================] - 0s 17ms/step - loss: 0.0013 - mean_squared_error: 0.0013 - mean_absolute_error: 0.0283 - val_loss: 0.0022 - val_mean_squared_error: 0.0022 - val_mean_absolute_error: 0.0371\n",
            "Epoch 76/100\n",
            "8/8 [==============================] - 0s 18ms/step - loss: 0.0014 - mean_squared_error: 0.0014 - mean_absolute_error: 0.0295 - val_loss: 0.0021 - val_mean_squared_error: 0.0021 - val_mean_absolute_error: 0.0366\n",
            "Epoch 77/100\n",
            "8/8 [==============================] - 0s 17ms/step - loss: 0.0014 - mean_squared_error: 0.0014 - mean_absolute_error: 0.0286 - val_loss: 0.0019 - val_mean_squared_error: 0.0019 - val_mean_absolute_error: 0.0348\n",
            "Epoch 78/100\n",
            "8/8 [==============================] - 0s 17ms/step - loss: 0.0015 - mean_squared_error: 0.0015 - mean_absolute_error: 0.0306 - val_loss: 0.0025 - val_mean_squared_error: 0.0025 - val_mean_absolute_error: 0.0395\n",
            "Epoch 79/100\n",
            "8/8 [==============================] - 0s 19ms/step - loss: 0.0017 - mean_squared_error: 0.0017 - mean_absolute_error: 0.0331 - val_loss: 0.0024 - val_mean_squared_error: 0.0024 - val_mean_absolute_error: 0.0390\n",
            "Epoch 80/100\n",
            "8/8 [==============================] - 0s 17ms/step - loss: 0.0032 - mean_squared_error: 0.0032 - mean_absolute_error: 0.0463 - val_loss: 0.0021 - val_mean_squared_error: 0.0021 - val_mean_absolute_error: 0.0359\n",
            "Epoch 81/100\n",
            "8/8 [==============================] - 0s 17ms/step - loss: 0.0013 - mean_squared_error: 0.0013 - mean_absolute_error: 0.0281 - val_loss: 0.0019 - val_mean_squared_error: 0.0019 - val_mean_absolute_error: 0.0348\n",
            "Epoch 82/100\n",
            "8/8 [==============================] - 0s 17ms/step - loss: 0.0014 - mean_squared_error: 0.0014 - mean_absolute_error: 0.0294 - val_loss: 0.0022 - val_mean_squared_error: 0.0022 - val_mean_absolute_error: 0.0367\n",
            "Epoch 83/100\n",
            "8/8 [==============================] - 0s 17ms/step - loss: 0.0015 - mean_squared_error: 0.0015 - mean_absolute_error: 0.0299 - val_loss: 0.0025 - val_mean_squared_error: 0.0025 - val_mean_absolute_error: 0.0395\n",
            "Epoch 84/100\n",
            "8/8 [==============================] - 0s 16ms/step - loss: 0.0020 - mean_squared_error: 0.0020 - mean_absolute_error: 0.0354 - val_loss: 0.0025 - val_mean_squared_error: 0.0025 - val_mean_absolute_error: 0.0397\n",
            "Epoch 85/100\n",
            "8/8 [==============================] - 0s 17ms/step - loss: 0.0018 - mean_squared_error: 0.0018 - mean_absolute_error: 0.0343 - val_loss: 0.0019 - val_mean_squared_error: 0.0019 - val_mean_absolute_error: 0.0344\n",
            "Epoch 86/100\n",
            "8/8 [==============================] - 0s 19ms/step - loss: 0.0014 - mean_squared_error: 0.0014 - mean_absolute_error: 0.0291 - val_loss: 0.0025 - val_mean_squared_error: 0.0025 - val_mean_absolute_error: 0.0395\n",
            "Epoch 87/100\n",
            "8/8 [==============================] - 0s 19ms/step - loss: 0.0015 - mean_squared_error: 0.0015 - mean_absolute_error: 0.0313 - val_loss: 0.0021 - val_mean_squared_error: 0.0021 - val_mean_absolute_error: 0.0360\n",
            "Epoch 88/100\n",
            "8/8 [==============================] - 0s 17ms/step - loss: 0.0017 - mean_squared_error: 0.0017 - mean_absolute_error: 0.0321 - val_loss: 0.0060 - val_mean_squared_error: 0.0060 - val_mean_absolute_error: 0.0661\n",
            "Epoch 89/100\n",
            "8/8 [==============================] - 0s 18ms/step - loss: 0.0025 - mean_squared_error: 0.0025 - mean_absolute_error: 0.0411 - val_loss: 0.0034 - val_mean_squared_error: 0.0034 - val_mean_absolute_error: 0.0465\n",
            "Epoch 90/100\n",
            "8/8 [==============================] - 0s 16ms/step - loss: 0.0020 - mean_squared_error: 0.0020 - mean_absolute_error: 0.0364 - val_loss: 0.0034 - val_mean_squared_error: 0.0034 - val_mean_absolute_error: 0.0469\n",
            "Epoch 91/100\n",
            "8/8 [==============================] - 0s 16ms/step - loss: 0.0018 - mean_squared_error: 0.0018 - mean_absolute_error: 0.0332 - val_loss: 0.0020 - val_mean_squared_error: 0.0020 - val_mean_absolute_error: 0.0355\n",
            "Epoch 92/100\n",
            "8/8 [==============================] - 0s 17ms/step - loss: 0.0014 - mean_squared_error: 0.0014 - mean_absolute_error: 0.0295 - val_loss: 0.0045 - val_mean_squared_error: 0.0045 - val_mean_absolute_error: 0.0559\n",
            "Epoch 93/100\n",
            "8/8 [==============================] - 0s 20ms/step - loss: 0.0031 - mean_squared_error: 0.0031 - mean_absolute_error: 0.0466 - val_loss: 0.0035 - val_mean_squared_error: 0.0035 - val_mean_absolute_error: 0.0476\n",
            "Epoch 94/100\n",
            "8/8 [==============================] - 0s 16ms/step - loss: 0.0019 - mean_squared_error: 0.0019 - mean_absolute_error: 0.0351 - val_loss: 0.0024 - val_mean_squared_error: 0.0024 - val_mean_absolute_error: 0.0385\n",
            "Epoch 95/100\n",
            "8/8 [==============================] - 0s 17ms/step - loss: 0.0014 - mean_squared_error: 0.0014 - mean_absolute_error: 0.0301 - val_loss: 0.0019 - val_mean_squared_error: 0.0019 - val_mean_absolute_error: 0.0337\n",
            "Epoch 96/100\n",
            "8/8 [==============================] - 0s 19ms/step - loss: 0.0013 - mean_squared_error: 0.0013 - mean_absolute_error: 0.0280 - val_loss: 0.0021 - val_mean_squared_error: 0.0021 - val_mean_absolute_error: 0.0359\n",
            "Epoch 97/100\n",
            "8/8 [==============================] - 0s 17ms/step - loss: 0.0014 - mean_squared_error: 0.0014 - mean_absolute_error: 0.0288 - val_loss: 0.0019 - val_mean_squared_error: 0.0019 - val_mean_absolute_error: 0.0337\n",
            "Epoch 98/100\n",
            "8/8 [==============================] - 0s 17ms/step - loss: 0.0012 - mean_squared_error: 0.0012 - mean_absolute_error: 0.0275 - val_loss: 0.0020 - val_mean_squared_error: 0.0020 - val_mean_absolute_error: 0.0347\n",
            "Epoch 99/100\n",
            "8/8 [==============================] - 0s 17ms/step - loss: 0.0012 - mean_squared_error: 0.0012 - mean_absolute_error: 0.0275 - val_loss: 0.0027 - val_mean_squared_error: 0.0027 - val_mean_absolute_error: 0.0412\n",
            "Epoch 100/100\n",
            "8/8 [==============================] - 0s 18ms/step - loss: 0.0021 - mean_squared_error: 0.0021 - mean_absolute_error: 0.0367 - val_loss: 0.0033 - val_mean_squared_error: 0.0033 - val_mean_absolute_error: 0.0463\n"
          ],
          "name": "stdout"
        },
        {
          "output_type": "display_data",
          "data": {
            "text/html": [
              "<br/>Waiting for W&B process to finish, PID 5619<br/>Program ended successfully."
            ],
            "text/plain": [
              "<IPython.core.display.HTML object>"
            ]
          },
          "metadata": {
            "tags": []
          }
        },
        {
          "output_type": "display_data",
          "data": {
            "application/vnd.jupyter.widget-view+json": {
              "model_id": "e3b01ef1637240bc835452df2ef37435",
              "version_minor": 0,
              "version_major": 2
            },
            "text/plain": [
              "VBox(children=(Label(value=' 0.44MB of 0.44MB uploaded (0.00MB deduped)\\r'), FloatProgress(value=1.0, max=1.0)…"
            ]
          },
          "metadata": {
            "tags": []
          }
        },
        {
          "output_type": "display_data",
          "data": {
            "text/html": [
              "Find user logs for this run at: <code>/content/feeder_repo/wandb/run-20210718_201819-tdgt2kmf/logs/debug.log</code>"
            ],
            "text/plain": [
              "<IPython.core.display.HTML object>"
            ]
          },
          "metadata": {
            "tags": []
          }
        },
        {
          "output_type": "display_data",
          "data": {
            "text/html": [
              "Find internal logs for this run at: <code>/content/feeder_repo/wandb/run-20210718_201819-tdgt2kmf/logs/debug-internal.log</code>"
            ],
            "text/plain": [
              "<IPython.core.display.HTML object>"
            ]
          },
          "metadata": {
            "tags": []
          }
        },
        {
          "output_type": "display_data",
          "data": {
            "text/html": [
              "<h3>Run summary:</h3><br/><style>\n",
              "    table.wandb td:nth-child(1) { padding: 0 10px; text-align: right }\n",
              "    </style><table class=\"wandb\">\n",
              "<tr><td>epoch</td><td>99</td></tr><tr><td>loss</td><td>0.00207</td></tr><tr><td>mean_squared_error</td><td>0.00207</td></tr><tr><td>mean_absolute_error</td><td>0.03669</td></tr><tr><td>val_loss</td><td>0.00327</td></tr><tr><td>val_mean_squared_error</td><td>0.00327</td></tr><tr><td>val_mean_absolute_error</td><td>0.04628</td></tr><tr><td>_runtime</td><td>29</td></tr><tr><td>_timestamp</td><td>1626639528</td></tr><tr><td>_step</td><td>99</td></tr><tr><td>best_val_loss</td><td>0.00186</td></tr><tr><td>best_epoch</td><td>96</td></tr></table>"
            ],
            "text/plain": [
              "<IPython.core.display.HTML object>"
            ]
          },
          "metadata": {
            "tags": []
          }
        },
        {
          "output_type": "display_data",
          "data": {
            "text/html": [
              "<h3>Run history:</h3><br/><style>\n",
              "    table.wandb td:nth-child(1) { padding: 0 10px; text-align: right }\n",
              "    </style><table class=\"wandb\">\n",
              "<tr><td>epoch</td><td>▁▁▁▁▂▂▂▂▂▃▃▃▃▃▃▄▄▄▄▄▅▅▅▅▅▅▆▆▆▆▆▇▇▇▇▇▇███</td></tr><tr><td>loss</td><td>█▂▂▁▁▂▁▂▁▁▁▁▁▁▁▁▁▁▁▁▁▁▁▁▁▁▁▁▁▁▁▁▁▁▁▁▁▁▁▁</td></tr><tr><td>mean_squared_error</td><td>█▂▂▁▁▂▁▂▁▁▁▁▁▁▁▁▁▁▁▁▁▁▁▁▁▁▁▁▁▁▁▁▁▁▁▁▁▁▁▁</td></tr><tr><td>mean_absolute_error</td><td>█▄▃▂▂▃▂▃▂▁▂▂▂▁▁▁▂▁▁▁▁▂▁▂▁▁▂▁▁▁▁▁▁▁▁▂▁▁▁▁</td></tr><tr><td>val_loss</td><td>▄█▃▅▃▃▂▃▂▂▂▂▂▂▂▂▃▂▂▁▁▂▁▂▁▂▃▁▁▁▁▁▁▁▁▂▂▁▁▂</td></tr><tr><td>val_mean_squared_error</td><td>▄█▃▅▃▃▂▃▂▂▂▂▂▂▂▂▃▂▂▁▁▂▁▂▁▂▃▁▁▁▁▁▁▁▁▂▂▁▁▂</td></tr><tr><td>val_mean_absolute_error</td><td>▅█▃▆▄▃▃▄▃▂▂▂▃▂▂▂▄▂▂▂▂▂▁▂▁▂▄▂▂▁▁▁▁▂▁▂▃▁▁▂</td></tr><tr><td>_runtime</td><td>▁▁▁▁▂▂▂▂▂▃▃▃▃▃▄▄▄▄▄▅▅▅▅▅▆▆▆▆▆▆▇▇▇▇██████</td></tr><tr><td>_timestamp</td><td>▁▁▁▁▂▂▂▂▂▃▃▃▃▃▄▄▄▄▄▅▅▅▅▅▆▆▆▆▆▆▇▇▇▇██████</td></tr><tr><td>_step</td><td>▁▁▁▁▂▂▂▂▂▃▃▃▃▃▃▄▄▄▄▄▅▅▅▅▅▅▆▆▆▆▆▇▇▇▇▇▇███</td></tr></table><br/>"
            ],
            "text/plain": [
              "<IPython.core.display.HTML object>"
            ]
          },
          "metadata": {
            "tags": []
          }
        },
        {
          "output_type": "display_data",
          "data": {
            "text/html": [
              "Synced 5 W&B file(s), 1 media file(s), 2 artifact file(s) and 2 other file(s)"
            ],
            "text/plain": [
              "<IPython.core.display.HTML object>"
            ]
          },
          "metadata": {
            "tags": []
          }
        },
        {
          "output_type": "display_data",
          "data": {
            "text/html": [
              "\n",
              "                    <br/>Synced <strong style=\"color:#cdcd00\">jolly-sweep-21</strong>: <a href=\"https://wandb.ai/acse-jaq15/ACSE_9_LSTM_GRU/runs/tdgt2kmf\" target=\"_blank\">https://wandb.ai/acse-jaq15/ACSE_9_LSTM_GRU/runs/tdgt2kmf</a><br/>\n",
              "                "
            ],
            "text/plain": [
              "<IPython.core.display.HTML object>"
            ]
          },
          "metadata": {
            "tags": []
          }
        },
        {
          "output_type": "stream",
          "text": [
            "\u001b[34m\u001b[1mwandb\u001b[0m: Agent Starting Run: ahek1nqn with config:\n",
            "\u001b[34m\u001b[1mwandb\u001b[0m: \tactivation: tanh\n",
            "\u001b[34m\u001b[1mwandb\u001b[0m: \tbatch_size: 64\n",
            "\u001b[34m\u001b[1mwandb\u001b[0m: \tdropout: 0.3\n",
            "\u001b[34m\u001b[1mwandb\u001b[0m: \tepochs: 50\n",
            "\u001b[34m\u001b[1mwandb\u001b[0m: \tlearning_rate: 0.001\n",
            "\u001b[34m\u001b[1mwandb\u001b[0m: \toptimizer: nadam\n"
          ],
          "name": "stderr"
        },
        {
          "output_type": "display_data",
          "data": {
            "text/html": [
              "\n",
              "                Tracking run with wandb version 0.11.0<br/>\n",
              "                Syncing run <strong style=\"color:#cdcd00\">pious-sweep-22</strong> to <a href=\"https://wandb.ai\" target=\"_blank\">Weights & Biases</a> <a href=\"https://docs.wandb.com/integrations/jupyter.html\" target=\"_blank\">(Documentation)</a>.<br/>\n",
              "                Project page: <a href=\"https://wandb.ai/acse-jaq15/ACSE_9_LSTM_GRU\" target=\"_blank\">https://wandb.ai/acse-jaq15/ACSE_9_LSTM_GRU</a><br/>\n",
              "                Sweep page: <a href=\"https://wandb.ai/acse-jaq15/ACSE_9_LSTM_GRU/sweeps/amj4ayh1\" target=\"_blank\">https://wandb.ai/acse-jaq15/ACSE_9_LSTM_GRU/sweeps/amj4ayh1</a><br/>\n",
              "Run page: <a href=\"https://wandb.ai/acse-jaq15/ACSE_9_LSTM_GRU/runs/ahek1nqn\" target=\"_blank\">https://wandb.ai/acse-jaq15/ACSE_9_LSTM_GRU/runs/ahek1nqn</a><br/>\n",
              "                Run data is saved locally in <code>/content/feeder_repo/wandb/run-20210718_201904-ahek1nqn</code><br/><br/>\n",
              "            "
            ],
            "text/plain": [
              "<IPython.core.display.HTML object>"
            ]
          },
          "metadata": {
            "tags": []
          }
        },
        {
          "output_type": "stream",
          "text": [
            "Epoch 1/50\n",
            "16/16 [==============================] - 6s 117ms/step - loss: 0.1174 - mean_squared_error: 0.1174 - mean_absolute_error: 0.2728 - val_loss: 0.0091 - val_mean_squared_error: 0.0091 - val_mean_absolute_error: 0.0767\n",
            "Epoch 2/50\n",
            "16/16 [==============================] - 0s 14ms/step - loss: 0.0067 - mean_squared_error: 0.0067 - mean_absolute_error: 0.0662 - val_loss: 0.0081 - val_mean_squared_error: 0.0081 - val_mean_absolute_error: 0.0733\n",
            "Epoch 3/50\n",
            "16/16 [==============================] - 0s 15ms/step - loss: 0.0056 - mean_squared_error: 0.0056 - mean_absolute_error: 0.0597 - val_loss: 0.0079 - val_mean_squared_error: 0.0079 - val_mean_absolute_error: 0.0723\n",
            "Epoch 4/50\n",
            "16/16 [==============================] - 0s 14ms/step - loss: 0.0049 - mean_squared_error: 0.0049 - mean_absolute_error: 0.0547 - val_loss: 0.0079 - val_mean_squared_error: 0.0079 - val_mean_absolute_error: 0.0717\n",
            "Epoch 5/50\n",
            "16/16 [==============================] - 0s 16ms/step - loss: 0.0048 - mean_squared_error: 0.0048 - mean_absolute_error: 0.0549 - val_loss: 0.0073 - val_mean_squared_error: 0.0073 - val_mean_absolute_error: 0.0689\n",
            "Epoch 6/50\n",
            "16/16 [==============================] - 0s 15ms/step - loss: 0.0047 - mean_squared_error: 0.0047 - mean_absolute_error: 0.0532 - val_loss: 0.0074 - val_mean_squared_error: 0.0074 - val_mean_absolute_error: 0.0692\n",
            "Epoch 7/50\n",
            "16/16 [==============================] - 0s 15ms/step - loss: 0.0043 - mean_squared_error: 0.0043 - mean_absolute_error: 0.0536 - val_loss: 0.0067 - val_mean_squared_error: 0.0067 - val_mean_absolute_error: 0.0653\n",
            "Epoch 8/50\n",
            "16/16 [==============================] - 0s 14ms/step - loss: 0.0044 - mean_squared_error: 0.0044 - mean_absolute_error: 0.0525 - val_loss: 0.0064 - val_mean_squared_error: 0.0064 - val_mean_absolute_error: 0.0640\n",
            "Epoch 9/50\n",
            "16/16 [==============================] - 0s 15ms/step - loss: 0.0041 - mean_squared_error: 0.0041 - mean_absolute_error: 0.0502 - val_loss: 0.0062 - val_mean_squared_error: 0.0062 - val_mean_absolute_error: 0.0630\n",
            "Epoch 10/50\n",
            "16/16 [==============================] - 0s 15ms/step - loss: 0.0045 - mean_squared_error: 0.0045 - mean_absolute_error: 0.0531 - val_loss: 0.0061 - val_mean_squared_error: 0.0061 - val_mean_absolute_error: 0.0615\n",
            "Epoch 11/50\n",
            "16/16 [==============================] - 0s 15ms/step - loss: 0.0038 - mean_squared_error: 0.0038 - mean_absolute_error: 0.0485 - val_loss: 0.0066 - val_mean_squared_error: 0.0066 - val_mean_absolute_error: 0.0651\n",
            "Epoch 12/50\n",
            "16/16 [==============================] - 0s 16ms/step - loss: 0.0041 - mean_squared_error: 0.0041 - mean_absolute_error: 0.0509 - val_loss: 0.0056 - val_mean_squared_error: 0.0056 - val_mean_absolute_error: 0.0591\n",
            "Epoch 13/50\n",
            "16/16 [==============================] - 0s 15ms/step - loss: 0.0037 - mean_squared_error: 0.0037 - mean_absolute_error: 0.0483 - val_loss: 0.0060 - val_mean_squared_error: 0.0060 - val_mean_absolute_error: 0.0612\n",
            "Epoch 14/50\n",
            "16/16 [==============================] - 0s 15ms/step - loss: 0.0038 - mean_squared_error: 0.0038 - mean_absolute_error: 0.0493 - val_loss: 0.0066 - val_mean_squared_error: 0.0066 - val_mean_absolute_error: 0.0651\n",
            "Epoch 15/50\n",
            "16/16 [==============================] - 0s 16ms/step - loss: 0.0035 - mean_squared_error: 0.0035 - mean_absolute_error: 0.0455 - val_loss: 0.0068 - val_mean_squared_error: 0.0068 - val_mean_absolute_error: 0.0659\n",
            "Epoch 16/50\n",
            "16/16 [==============================] - 0s 15ms/step - loss: 0.0034 - mean_squared_error: 0.0034 - mean_absolute_error: 0.0461 - val_loss: 0.0050 - val_mean_squared_error: 0.0050 - val_mean_absolute_error: 0.0557\n",
            "Epoch 17/50\n",
            "16/16 [==============================] - 0s 15ms/step - loss: 0.0030 - mean_squared_error: 0.0030 - mean_absolute_error: 0.0443 - val_loss: 0.0053 - val_mean_squared_error: 0.0053 - val_mean_absolute_error: 0.0578\n",
            "Epoch 18/50\n",
            "16/16 [==============================] - 0s 16ms/step - loss: 0.0037 - mean_squared_error: 0.0037 - mean_absolute_error: 0.0477 - val_loss: 0.0049 - val_mean_squared_error: 0.0049 - val_mean_absolute_error: 0.0549\n",
            "Epoch 19/50\n",
            "16/16 [==============================] - 0s 16ms/step - loss: 0.0031 - mean_squared_error: 0.0031 - mean_absolute_error: 0.0435 - val_loss: 0.0065 - val_mean_squared_error: 0.0065 - val_mean_absolute_error: 0.0643\n",
            "Epoch 20/50\n",
            "16/16 [==============================] - 0s 15ms/step - loss: 0.0046 - mean_squared_error: 0.0046 - mean_absolute_error: 0.0539 - val_loss: 0.0047 - val_mean_squared_error: 0.0047 - val_mean_absolute_error: 0.0537\n",
            "Epoch 21/50\n",
            "16/16 [==============================] - 0s 15ms/step - loss: 0.0026 - mean_squared_error: 0.0026 - mean_absolute_error: 0.0394 - val_loss: 0.0045 - val_mean_squared_error: 0.0045 - val_mean_absolute_error: 0.0529\n",
            "Epoch 22/50\n",
            "16/16 [==============================] - 0s 14ms/step - loss: 0.0027 - mean_squared_error: 0.0027 - mean_absolute_error: 0.0410 - val_loss: 0.0048 - val_mean_squared_error: 0.0048 - val_mean_absolute_error: 0.0547\n",
            "Epoch 23/50\n",
            "16/16 [==============================] - 0s 16ms/step - loss: 0.0026 - mean_squared_error: 0.0026 - mean_absolute_error: 0.0409 - val_loss: 0.0057 - val_mean_squared_error: 0.0057 - val_mean_absolute_error: 0.0598\n",
            "Epoch 24/50\n",
            "16/16 [==============================] - 0s 16ms/step - loss: 0.0030 - mean_squared_error: 0.0030 - mean_absolute_error: 0.0431 - val_loss: 0.0045 - val_mean_squared_error: 0.0045 - val_mean_absolute_error: 0.0528\n",
            "Epoch 25/50\n",
            "16/16 [==============================] - 0s 14ms/step - loss: 0.0033 - mean_squared_error: 0.0033 - mean_absolute_error: 0.0456 - val_loss: 0.0047 - val_mean_squared_error: 0.0047 - val_mean_absolute_error: 0.0541\n",
            "Epoch 26/50\n",
            "16/16 [==============================] - 0s 15ms/step - loss: 0.0029 - mean_squared_error: 0.0029 - mean_absolute_error: 0.0427 - val_loss: 0.0042 - val_mean_squared_error: 0.0042 - val_mean_absolute_error: 0.0512\n",
            "Epoch 27/50\n",
            "16/16 [==============================] - 0s 16ms/step - loss: 0.0028 - mean_squared_error: 0.0028 - mean_absolute_error: 0.0413 - val_loss: 0.0042 - val_mean_squared_error: 0.0042 - val_mean_absolute_error: 0.0510\n",
            "Epoch 28/50\n",
            "16/16 [==============================] - 0s 14ms/step - loss: 0.0026 - mean_squared_error: 0.0026 - mean_absolute_error: 0.0401 - val_loss: 0.0059 - val_mean_squared_error: 0.0059 - val_mean_absolute_error: 0.0618\n",
            "Epoch 29/50\n",
            "16/16 [==============================] - 0s 16ms/step - loss: 0.0039 - mean_squared_error: 0.0039 - mean_absolute_error: 0.0485 - val_loss: 0.0040 - val_mean_squared_error: 0.0040 - val_mean_absolute_error: 0.0498\n",
            "Epoch 30/50\n",
            "16/16 [==============================] - 0s 15ms/step - loss: 0.0028 - mean_squared_error: 0.0028 - mean_absolute_error: 0.0420 - val_loss: 0.0044 - val_mean_squared_error: 0.0044 - val_mean_absolute_error: 0.0528\n",
            "Epoch 31/50\n",
            "16/16 [==============================] - 0s 16ms/step - loss: 0.0025 - mean_squared_error: 0.0025 - mean_absolute_error: 0.0404 - val_loss: 0.0039 - val_mean_squared_error: 0.0039 - val_mean_absolute_error: 0.0494\n",
            "Epoch 32/50\n",
            "16/16 [==============================] - 0s 15ms/step - loss: 0.0026 - mean_squared_error: 0.0026 - mean_absolute_error: 0.0401 - val_loss: 0.0047 - val_mean_squared_error: 0.0047 - val_mean_absolute_error: 0.0543\n",
            "Epoch 33/50\n",
            "16/16 [==============================] - 0s 15ms/step - loss: 0.0028 - mean_squared_error: 0.0028 - mean_absolute_error: 0.0427 - val_loss: 0.0039 - val_mean_squared_error: 0.0039 - val_mean_absolute_error: 0.0490\n",
            "Epoch 34/50\n",
            "16/16 [==============================] - 0s 16ms/step - loss: 0.0024 - mean_squared_error: 0.0024 - mean_absolute_error: 0.0390 - val_loss: 0.0043 - val_mean_squared_error: 0.0043 - val_mean_absolute_error: 0.0513\n",
            "Epoch 35/50\n",
            "16/16 [==============================] - 0s 15ms/step - loss: 0.0030 - mean_squared_error: 0.0030 - mean_absolute_error: 0.0433 - val_loss: 0.0053 - val_mean_squared_error: 0.0053 - val_mean_absolute_error: 0.0575\n",
            "Epoch 36/50\n",
            "16/16 [==============================] - 0s 15ms/step - loss: 0.0034 - mean_squared_error: 0.0034 - mean_absolute_error: 0.0463 - val_loss: 0.0047 - val_mean_squared_error: 0.0047 - val_mean_absolute_error: 0.0542\n",
            "Epoch 37/50\n",
            "16/16 [==============================] - 0s 15ms/step - loss: 0.0027 - mean_squared_error: 0.0027 - mean_absolute_error: 0.0410 - val_loss: 0.0036 - val_mean_squared_error: 0.0036 - val_mean_absolute_error: 0.0479\n",
            "Epoch 38/50\n",
            "16/16 [==============================] - 0s 15ms/step - loss: 0.0026 - mean_squared_error: 0.0026 - mean_absolute_error: 0.0412 - val_loss: 0.0036 - val_mean_squared_error: 0.0036 - val_mean_absolute_error: 0.0474\n",
            "Epoch 39/50\n",
            "16/16 [==============================] - 0s 15ms/step - loss: 0.0024 - mean_squared_error: 0.0024 - mean_absolute_error: 0.0391 - val_loss: 0.0036 - val_mean_squared_error: 0.0036 - val_mean_absolute_error: 0.0473\n",
            "Epoch 40/50\n",
            "16/16 [==============================] - 0s 15ms/step - loss: 0.0024 - mean_squared_error: 0.0024 - mean_absolute_error: 0.0384 - val_loss: 0.0037 - val_mean_squared_error: 0.0037 - val_mean_absolute_error: 0.0480\n",
            "Epoch 41/50\n",
            "16/16 [==============================] - 0s 16ms/step - loss: 0.0026 - mean_squared_error: 0.0026 - mean_absolute_error: 0.0407 - val_loss: 0.0038 - val_mean_squared_error: 0.0038 - val_mean_absolute_error: 0.0492\n",
            "Epoch 42/50\n",
            "16/16 [==============================] - 0s 15ms/step - loss: 0.0027 - mean_squared_error: 0.0027 - mean_absolute_error: 0.0423 - val_loss: 0.0036 - val_mean_squared_error: 0.0036 - val_mean_absolute_error: 0.0478\n",
            "Epoch 43/50\n",
            "16/16 [==============================] - 0s 15ms/step - loss: 0.0023 - mean_squared_error: 0.0023 - mean_absolute_error: 0.0375 - val_loss: 0.0038 - val_mean_squared_error: 0.0038 - val_mean_absolute_error: 0.0481\n",
            "Epoch 44/50\n",
            "16/16 [==============================] - 0s 15ms/step - loss: 0.0023 - mean_squared_error: 0.0023 - mean_absolute_error: 0.0382 - val_loss: 0.0037 - val_mean_squared_error: 0.0037 - val_mean_absolute_error: 0.0482\n",
            "Epoch 45/50\n",
            "16/16 [==============================] - 0s 15ms/step - loss: 0.0025 - mean_squared_error: 0.0025 - mean_absolute_error: 0.0401 - val_loss: 0.0038 - val_mean_squared_error: 0.0038 - val_mean_absolute_error: 0.0492\n",
            "Epoch 46/50\n",
            "16/16 [==============================] - 0s 15ms/step - loss: 0.0023 - mean_squared_error: 0.0023 - mean_absolute_error: 0.0387 - val_loss: 0.0033 - val_mean_squared_error: 0.0033 - val_mean_absolute_error: 0.0452\n",
            "Epoch 47/50\n",
            "16/16 [==============================] - 0s 15ms/step - loss: 0.0022 - mean_squared_error: 0.0022 - mean_absolute_error: 0.0375 - val_loss: 0.0037 - val_mean_squared_error: 0.0037 - val_mean_absolute_error: 0.0476\n",
            "Epoch 48/50\n",
            "16/16 [==============================] - 0s 16ms/step - loss: 0.0023 - mean_squared_error: 0.0023 - mean_absolute_error: 0.0381 - val_loss: 0.0038 - val_mean_squared_error: 0.0038 - val_mean_absolute_error: 0.0490\n",
            "Epoch 49/50\n",
            "16/16 [==============================] - 0s 16ms/step - loss: 0.0027 - mean_squared_error: 0.0027 - mean_absolute_error: 0.0396 - val_loss: 0.0032 - val_mean_squared_error: 0.0032 - val_mean_absolute_error: 0.0449\n",
            "Epoch 50/50\n",
            "16/16 [==============================] - 0s 16ms/step - loss: 0.0022 - mean_squared_error: 0.0022 - mean_absolute_error: 0.0366 - val_loss: 0.0033 - val_mean_squared_error: 0.0033 - val_mean_absolute_error: 0.0448\n"
          ],
          "name": "stdout"
        },
        {
          "output_type": "display_data",
          "data": {
            "text/html": [
              "<br/>Waiting for W&B process to finish, PID 5984<br/>Program ended successfully."
            ],
            "text/plain": [
              "<IPython.core.display.HTML object>"
            ]
          },
          "metadata": {
            "tags": []
          }
        },
        {
          "output_type": "display_data",
          "data": {
            "application/vnd.jupyter.widget-view+json": {
              "model_id": "34d60f5809e04080a5a1ce87a4c27f2a",
              "version_minor": 0,
              "version_major": 2
            },
            "text/plain": [
              "VBox(children=(Label(value=' 0.88MB of 0.88MB uploaded (0.00MB deduped)\\r'), FloatProgress(value=1.0, max=1.0)…"
            ]
          },
          "metadata": {
            "tags": []
          }
        },
        {
          "output_type": "display_data",
          "data": {
            "text/html": [
              "Find user logs for this run at: <code>/content/feeder_repo/wandb/run-20210718_201904-ahek1nqn/logs/debug.log</code>"
            ],
            "text/plain": [
              "<IPython.core.display.HTML object>"
            ]
          },
          "metadata": {
            "tags": []
          }
        },
        {
          "output_type": "display_data",
          "data": {
            "text/html": [
              "Find internal logs for this run at: <code>/content/feeder_repo/wandb/run-20210718_201904-ahek1nqn/logs/debug-internal.log</code>"
            ],
            "text/plain": [
              "<IPython.core.display.HTML object>"
            ]
          },
          "metadata": {
            "tags": []
          }
        },
        {
          "output_type": "display_data",
          "data": {
            "text/html": [
              "<h3>Run summary:</h3><br/><style>\n",
              "    table.wandb td:nth-child(1) { padding: 0 10px; text-align: right }\n",
              "    </style><table class=\"wandb\">\n",
              "<tr><td>epoch</td><td>49</td></tr><tr><td>loss</td><td>0.00209</td></tr><tr><td>mean_squared_error</td><td>0.00209</td></tr><tr><td>mean_absolute_error</td><td>0.03611</td></tr><tr><td>val_loss</td><td>0.00328</td></tr><tr><td>val_mean_squared_error</td><td>0.00328</td></tr><tr><td>val_mean_absolute_error</td><td>0.04483</td></tr><tr><td>_runtime</td><td>25</td></tr><tr><td>_timestamp</td><td>1626639569</td></tr><tr><td>_step</td><td>49</td></tr><tr><td>best_val_loss</td><td>0.0032</td></tr><tr><td>best_epoch</td><td>48</td></tr></table>"
            ],
            "text/plain": [
              "<IPython.core.display.HTML object>"
            ]
          },
          "metadata": {
            "tags": []
          }
        },
        {
          "output_type": "display_data",
          "data": {
            "text/html": [
              "<h3>Run history:</h3><br/><style>\n",
              "    table.wandb td:nth-child(1) { padding: 0 10px; text-align: right }\n",
              "    </style><table class=\"wandb\">\n",
              "<tr><td>epoch</td><td>▁▁▁▁▂▂▂▂▂▃▃▃▃▃▃▄▄▄▄▄▅▅▅▅▅▅▆▆▆▆▆▆▇▇▇▇▇███</td></tr><tr><td>loss</td><td>█▂▁▁▁▁▁▁▁▁▁▁▁▁▁▁▁▁▁▁▁▁▁▁▁▁▁▁▁▁▁▁▁▁▁▁▁▁▁▁</td></tr><tr><td>mean_squared_error</td><td>█▂▁▁▁▁▁▁▁▁▁▁▁▁▁▁▁▁▁▁▁▁▁▁▁▁▁▁▁▁▁▁▁▁▁▁▁▁▁▁</td></tr><tr><td>mean_absolute_error</td><td>█▃▂▂▂▂▂▂▂▂▂▂▂▁▂▁▁▁▁▁▁▁▁▁▁▁▁▁▁▁▁▁▁▁▁▁▁▁▁▁</td></tr><tr><td>val_loss</td><td>█▇▇▇▆▅▅▅▅▄▄▅▃▄▃▅▃▃▄▂▂▂▄▂▂▃▂▂▃▁▁▁▂▁▂▁▁▂▂▁</td></tr><tr><td>val_mean_squared_error</td><td>█▇▇▇▆▅▅▅▅▄▄▅▃▄▃▅▃▃▄▂▂▂▄▂▂▃▂▂▃▁▁▁▂▁▂▁▁▂▂▁</td></tr><tr><td>val_mean_absolute_error</td><td>█▇▇▇▆▅▅▅▅▄▅▅▃▄▃▅▃▃▄▃▂▂▅▂▂▃▂▂▃▂▂▂▂▂▂▂▁▂▂▁</td></tr><tr><td>_runtime</td><td>▁▁▁▂▂▂▂▂▃▃▃▃▃▃▄▄▄▄▄▄▅▅▅▅▅▅▆▆▆▆▆▆▇▇▇▇▇▇██</td></tr><tr><td>_timestamp</td><td>▁▁▁▂▂▂▂▂▃▃▃▃▃▃▄▄▄▄▄▄▅▅▅▅▅▅▆▆▆▆▆▆▇▇▇▇▇▇██</td></tr><tr><td>_step</td><td>▁▁▁▁▂▂▂▂▂▃▃▃▃▃▃▄▄▄▄▄▅▅▅▅▅▅▆▆▆▆▆▆▇▇▇▇▇███</td></tr></table><br/>"
            ],
            "text/plain": [
              "<IPython.core.display.HTML object>"
            ]
          },
          "metadata": {
            "tags": []
          }
        },
        {
          "output_type": "display_data",
          "data": {
            "text/html": [
              "Synced 5 W&B file(s), 1 media file(s), 2 artifact file(s) and 2 other file(s)"
            ],
            "text/plain": [
              "<IPython.core.display.HTML object>"
            ]
          },
          "metadata": {
            "tags": []
          }
        },
        {
          "output_type": "display_data",
          "data": {
            "text/html": [
              "\n",
              "                    <br/>Synced <strong style=\"color:#cdcd00\">pious-sweep-22</strong>: <a href=\"https://wandb.ai/acse-jaq15/ACSE_9_LSTM_GRU/runs/ahek1nqn\" target=\"_blank\">https://wandb.ai/acse-jaq15/ACSE_9_LSTM_GRU/runs/ahek1nqn</a><br/>\n",
              "                "
            ],
            "text/plain": [
              "<IPython.core.display.HTML object>"
            ]
          },
          "metadata": {
            "tags": []
          }
        },
        {
          "output_type": "stream",
          "text": [
            "\u001b[34m\u001b[1mwandb\u001b[0m: Agent Starting Run: k0z21ny3 with config:\n",
            "\u001b[34m\u001b[1mwandb\u001b[0m: \tactivation: relu\n",
            "\u001b[34m\u001b[1mwandb\u001b[0m: \tbatch_size: 64\n",
            "\u001b[34m\u001b[1mwandb\u001b[0m: \tdropout: 0.3\n",
            "\u001b[34m\u001b[1mwandb\u001b[0m: \tepochs: 100\n",
            "\u001b[34m\u001b[1mwandb\u001b[0m: \tlearning_rate: 0.001\n",
            "\u001b[34m\u001b[1mwandb\u001b[0m: \toptimizer: adam\n"
          ],
          "name": "stderr"
        },
        {
          "output_type": "display_data",
          "data": {
            "text/html": [
              "\n",
              "                Tracking run with wandb version 0.11.0<br/>\n",
              "                Syncing run <strong style=\"color:#cdcd00\">summer-sweep-23</strong> to <a href=\"https://wandb.ai\" target=\"_blank\">Weights & Biases</a> <a href=\"https://docs.wandb.com/integrations/jupyter.html\" target=\"_blank\">(Documentation)</a>.<br/>\n",
              "                Project page: <a href=\"https://wandb.ai/acse-jaq15/ACSE_9_LSTM_GRU\" target=\"_blank\">https://wandb.ai/acse-jaq15/ACSE_9_LSTM_GRU</a><br/>\n",
              "                Sweep page: <a href=\"https://wandb.ai/acse-jaq15/ACSE_9_LSTM_GRU/sweeps/amj4ayh1\" target=\"_blank\">https://wandb.ai/acse-jaq15/ACSE_9_LSTM_GRU/sweeps/amj4ayh1</a><br/>\n",
              "Run page: <a href=\"https://wandb.ai/acse-jaq15/ACSE_9_LSTM_GRU/runs/k0z21ny3\" target=\"_blank\">https://wandb.ai/acse-jaq15/ACSE_9_LSTM_GRU/runs/k0z21ny3</a><br/>\n",
              "                Run data is saved locally in <code>/content/feeder_repo/wandb/run-20210718_201946-k0z21ny3</code><br/><br/>\n",
              "            "
            ],
            "text/plain": [
              "<IPython.core.display.HTML object>"
            ]
          },
          "metadata": {
            "tags": []
          }
        },
        {
          "output_type": "stream",
          "text": [
            "WARNING:tensorflow:Layer lstm will not use cuDNN kernels since it doesn't meet the criteria. It will use a generic GPU kernel as fallback when running on GPU.\n",
            "WARNING:tensorflow:Layer gru will not use cuDNN kernels since it doesn't meet the criteria. It will use a generic GPU kernel as fallback when running on GPU.\n",
            "Epoch 1/100\n",
            "16/16 [==============================] - 8s 251ms/step - loss: 0.2125 - mean_squared_error: 0.2125 - mean_absolute_error: 0.4162 - val_loss: 0.0102 - val_mean_squared_error: 0.0102 - val_mean_absolute_error: 0.0802\n",
            "Epoch 2/100\n",
            "16/16 [==============================] - 3s 166ms/step - loss: 0.0207 - mean_squared_error: 0.0207 - mean_absolute_error: 0.1214 - val_loss: 0.0264 - val_mean_squared_error: 0.0264 - val_mean_absolute_error: 0.1352\n",
            "Epoch 3/100\n",
            "16/16 [==============================] - 3s 167ms/step - loss: 0.0142 - mean_squared_error: 0.0142 - mean_absolute_error: 0.0954 - val_loss: 0.0088 - val_mean_squared_error: 0.0088 - val_mean_absolute_error: 0.0738\n",
            "Epoch 4/100\n",
            "16/16 [==============================] - 3s 168ms/step - loss: 0.0086 - mean_squared_error: 0.0086 - mean_absolute_error: 0.0751 - val_loss: 0.0079 - val_mean_squared_error: 0.0079 - val_mean_absolute_error: 0.0708\n",
            "Epoch 5/100\n",
            "16/16 [==============================] - 3s 176ms/step - loss: 0.0067 - mean_squared_error: 0.0067 - mean_absolute_error: 0.0662 - val_loss: 0.0082 - val_mean_squared_error: 0.0082 - val_mean_absolute_error: 0.0738\n",
            "Epoch 6/100\n",
            "16/16 [==============================] - 3s 176ms/step - loss: 0.0061 - mean_squared_error: 0.0061 - mean_absolute_error: 0.0613 - val_loss: 0.0081 - val_mean_squared_error: 0.0081 - val_mean_absolute_error: 0.0731\n",
            "Epoch 7/100\n",
            "16/16 [==============================] - 3s 171ms/step - loss: 0.0050 - mean_squared_error: 0.0050 - mean_absolute_error: 0.0551 - val_loss: 0.0082 - val_mean_squared_error: 0.0082 - val_mean_absolute_error: 0.0734\n",
            "Epoch 8/100\n",
            "16/16 [==============================] - 3s 169ms/step - loss: 0.0056 - mean_squared_error: 0.0056 - mean_absolute_error: 0.0591 - val_loss: 0.0083 - val_mean_squared_error: 0.0083 - val_mean_absolute_error: 0.0730\n",
            "Epoch 9/100\n",
            "16/16 [==============================] - 3s 181ms/step - loss: 0.0053 - mean_squared_error: 0.0053 - mean_absolute_error: 0.0582 - val_loss: 0.0083 - val_mean_squared_error: 0.0083 - val_mean_absolute_error: 0.0728\n",
            "Epoch 10/100\n",
            "16/16 [==============================] - 3s 172ms/step - loss: 0.0048 - mean_squared_error: 0.0048 - mean_absolute_error: 0.0547 - val_loss: 0.0088 - val_mean_squared_error: 0.0088 - val_mean_absolute_error: 0.0754\n",
            "Epoch 11/100\n",
            "16/16 [==============================] - 3s 172ms/step - loss: 0.0047 - mean_squared_error: 0.0047 - mean_absolute_error: 0.0539 - val_loss: 0.0075 - val_mean_squared_error: 0.0075 - val_mean_absolute_error: 0.0696\n",
            "Epoch 12/100\n",
            "16/16 [==============================] - 3s 169ms/step - loss: 0.0053 - mean_squared_error: 0.0053 - mean_absolute_error: 0.0574 - val_loss: 0.0071 - val_mean_squared_error: 0.0071 - val_mean_absolute_error: 0.0679\n",
            "Epoch 13/100\n",
            "16/16 [==============================] - 3s 169ms/step - loss: 0.0045 - mean_squared_error: 0.0045 - mean_absolute_error: 0.0519 - val_loss: 0.0074 - val_mean_squared_error: 0.0074 - val_mean_absolute_error: 0.0690\n",
            "Epoch 14/100\n",
            "16/16 [==============================] - 3s 174ms/step - loss: 0.0045 - mean_squared_error: 0.0045 - mean_absolute_error: 0.0531 - val_loss: 0.0066 - val_mean_squared_error: 0.0066 - val_mean_absolute_error: 0.0650\n",
            "Epoch 15/100\n",
            "16/16 [==============================] - 3s 176ms/step - loss: 0.0048 - mean_squared_error: 0.0048 - mean_absolute_error: 0.0544 - val_loss: 0.0068 - val_mean_squared_error: 0.0068 - val_mean_absolute_error: 0.0660\n",
            "Epoch 16/100\n",
            "16/16 [==============================] - 3s 172ms/step - loss: 0.0044 - mean_squared_error: 0.0044 - mean_absolute_error: 0.0518 - val_loss: 0.0064 - val_mean_squared_error: 0.0064 - val_mean_absolute_error: 0.0641\n",
            "Epoch 17/100\n",
            "16/16 [==============================] - 3s 171ms/step - loss: 0.0042 - mean_squared_error: 0.0042 - mean_absolute_error: 0.0513 - val_loss: 0.0063 - val_mean_squared_error: 0.0063 - val_mean_absolute_error: 0.0637\n",
            "Epoch 18/100\n",
            "16/16 [==============================] - 3s 179ms/step - loss: 0.0039 - mean_squared_error: 0.0039 - mean_absolute_error: 0.0495 - val_loss: 0.0058 - val_mean_squared_error: 0.0058 - val_mean_absolute_error: 0.0610\n",
            "Epoch 19/100\n",
            "16/16 [==============================] - 3s 174ms/step - loss: 0.0040 - mean_squared_error: 0.0040 - mean_absolute_error: 0.0503 - val_loss: 0.0057 - val_mean_squared_error: 0.0057 - val_mean_absolute_error: 0.0604\n",
            "Epoch 20/100\n",
            "16/16 [==============================] - 3s 179ms/step - loss: 0.0041 - mean_squared_error: 0.0041 - mean_absolute_error: 0.0504 - val_loss: 0.0058 - val_mean_squared_error: 0.0058 - val_mean_absolute_error: 0.0609\n",
            "Epoch 21/100\n",
            "16/16 [==============================] - 3s 172ms/step - loss: 0.0043 - mean_squared_error: 0.0043 - mean_absolute_error: 0.0513 - val_loss: 0.0058 - val_mean_squared_error: 0.0058 - val_mean_absolute_error: 0.0608\n",
            "Epoch 22/100\n",
            "16/16 [==============================] - 3s 171ms/step - loss: 0.0039 - mean_squared_error: 0.0039 - mean_absolute_error: 0.0501 - val_loss: 0.0055 - val_mean_squared_error: 0.0055 - val_mean_absolute_error: 0.0589\n",
            "Epoch 23/100\n",
            "16/16 [==============================] - 3s 166ms/step - loss: 0.0043 - mean_squared_error: 0.0043 - mean_absolute_error: 0.0522 - val_loss: 0.0056 - val_mean_squared_error: 0.0056 - val_mean_absolute_error: 0.0594\n",
            "Epoch 24/100\n",
            "16/16 [==============================] - 3s 172ms/step - loss: 0.0040 - mean_squared_error: 0.0040 - mean_absolute_error: 0.0491 - val_loss: 0.0052 - val_mean_squared_error: 0.0052 - val_mean_absolute_error: 0.0577\n",
            "Epoch 25/100\n",
            "16/16 [==============================] - 3s 174ms/step - loss: 0.0036 - mean_squared_error: 0.0036 - mean_absolute_error: 0.0475 - val_loss: 0.0056 - val_mean_squared_error: 0.0056 - val_mean_absolute_error: 0.0594\n",
            "Epoch 26/100\n",
            "16/16 [==============================] - 3s 174ms/step - loss: 0.0036 - mean_squared_error: 0.0036 - mean_absolute_error: 0.0470 - val_loss: 0.0054 - val_mean_squared_error: 0.0054 - val_mean_absolute_error: 0.0582\n",
            "Epoch 27/100\n",
            "16/16 [==============================] - 3s 169ms/step - loss: 0.0037 - mean_squared_error: 0.0037 - mean_absolute_error: 0.0484 - val_loss: 0.0061 - val_mean_squared_error: 0.0061 - val_mean_absolute_error: 0.0615\n",
            "Epoch 28/100\n",
            "16/16 [==============================] - 3s 186ms/step - loss: 0.0038 - mean_squared_error: 0.0038 - mean_absolute_error: 0.0481 - val_loss: 0.0048 - val_mean_squared_error: 0.0048 - val_mean_absolute_error: 0.0548\n",
            "Epoch 29/100\n",
            "16/16 [==============================] - 3s 180ms/step - loss: 0.0036 - mean_squared_error: 0.0036 - mean_absolute_error: 0.0475 - val_loss: 0.0055 - val_mean_squared_error: 0.0055 - val_mean_absolute_error: 0.0587\n",
            "Epoch 30/100\n",
            "16/16 [==============================] - 3s 165ms/step - loss: 0.0036 - mean_squared_error: 0.0036 - mean_absolute_error: 0.0468 - val_loss: 0.0052 - val_mean_squared_error: 0.0052 - val_mean_absolute_error: 0.0569\n",
            "Epoch 31/100\n",
            "16/16 [==============================] - 3s 172ms/step - loss: 0.0035 - mean_squared_error: 0.0035 - mean_absolute_error: 0.0471 - val_loss: 0.0049 - val_mean_squared_error: 0.0049 - val_mean_absolute_error: 0.0555\n",
            "Epoch 32/100\n",
            "16/16 [==============================] - 3s 181ms/step - loss: 0.0031 - mean_squared_error: 0.0031 - mean_absolute_error: 0.0442 - val_loss: 0.0047 - val_mean_squared_error: 0.0047 - val_mean_absolute_error: 0.0542\n",
            "Epoch 33/100\n",
            "16/16 [==============================] - 3s 179ms/step - loss: 0.0035 - mean_squared_error: 0.0035 - mean_absolute_error: 0.0467 - val_loss: 0.0066 - val_mean_squared_error: 0.0066 - val_mean_absolute_error: 0.0646\n",
            "Epoch 34/100\n",
            "16/16 [==============================] - 3s 179ms/step - loss: 0.0041 - mean_squared_error: 0.0041 - mean_absolute_error: 0.0507 - val_loss: 0.0048 - val_mean_squared_error: 0.0048 - val_mean_absolute_error: 0.0546\n",
            "Epoch 35/100\n",
            "16/16 [==============================] - 3s 177ms/step - loss: 0.0038 - mean_squared_error: 0.0038 - mean_absolute_error: 0.0489 - val_loss: 0.0058 - val_mean_squared_error: 0.0058 - val_mean_absolute_error: 0.0601\n",
            "Epoch 36/100\n",
            "16/16 [==============================] - 3s 186ms/step - loss: 0.0036 - mean_squared_error: 0.0036 - mean_absolute_error: 0.0468 - val_loss: 0.0046 - val_mean_squared_error: 0.0046 - val_mean_absolute_error: 0.0537\n",
            "Epoch 37/100\n",
            "16/16 [==============================] - 3s 179ms/step - loss: 0.0032 - mean_squared_error: 0.0032 - mean_absolute_error: 0.0453 - val_loss: 0.0058 - val_mean_squared_error: 0.0058 - val_mean_absolute_error: 0.0603\n",
            "Epoch 38/100\n",
            "16/16 [==============================] - 3s 179ms/step - loss: 0.0034 - mean_squared_error: 0.0034 - mean_absolute_error: 0.0456 - val_loss: 0.0045 - val_mean_squared_error: 0.0045 - val_mean_absolute_error: 0.0530\n",
            "Epoch 39/100\n",
            "16/16 [==============================] - 3s 174ms/step - loss: 0.0029 - mean_squared_error: 0.0029 - mean_absolute_error: 0.0431 - val_loss: 0.0045 - val_mean_squared_error: 0.0045 - val_mean_absolute_error: 0.0527\n",
            "Epoch 40/100\n",
            "16/16 [==============================] - 3s 174ms/step - loss: 0.0030 - mean_squared_error: 0.0030 - mean_absolute_error: 0.0429 - val_loss: 0.0047 - val_mean_squared_error: 0.0047 - val_mean_absolute_error: 0.0540\n",
            "Epoch 41/100\n",
            "16/16 [==============================] - 3s 172ms/step - loss: 0.0031 - mean_squared_error: 0.0031 - mean_absolute_error: 0.0447 - val_loss: 0.0045 - val_mean_squared_error: 0.0045 - val_mean_absolute_error: 0.0525\n",
            "Epoch 42/100\n",
            "16/16 [==============================] - 3s 176ms/step - loss: 0.0031 - mean_squared_error: 0.0031 - mean_absolute_error: 0.0442 - val_loss: 0.0048 - val_mean_squared_error: 0.0048 - val_mean_absolute_error: 0.0543\n",
            "Epoch 43/100\n",
            "16/16 [==============================] - 3s 179ms/step - loss: 0.0034 - mean_squared_error: 0.0034 - mean_absolute_error: 0.0459 - val_loss: 0.0042 - val_mean_squared_error: 0.0042 - val_mean_absolute_error: 0.0509\n",
            "Epoch 44/100\n",
            "16/16 [==============================] - 3s 179ms/step - loss: 0.0031 - mean_squared_error: 0.0031 - mean_absolute_error: 0.0437 - val_loss: 0.0046 - val_mean_squared_error: 0.0046 - val_mean_absolute_error: 0.0534\n",
            "Epoch 45/100\n",
            "16/16 [==============================] - 3s 170ms/step - loss: 0.0032 - mean_squared_error: 0.0032 - mean_absolute_error: 0.0438 - val_loss: 0.0048 - val_mean_squared_error: 0.0048 - val_mean_absolute_error: 0.0546\n",
            "Epoch 46/100\n",
            "16/16 [==============================] - 3s 171ms/step - loss: 0.0031 - mean_squared_error: 0.0031 - mean_absolute_error: 0.0434 - val_loss: 0.0041 - val_mean_squared_error: 0.0041 - val_mean_absolute_error: 0.0502\n",
            "Epoch 47/100\n",
            "16/16 [==============================] - 3s 170ms/step - loss: 0.0031 - mean_squared_error: 0.0031 - mean_absolute_error: 0.0450 - val_loss: 0.0046 - val_mean_squared_error: 0.0046 - val_mean_absolute_error: 0.0528\n",
            "Epoch 48/100\n",
            "16/16 [==============================] - 3s 171ms/step - loss: 0.0031 - mean_squared_error: 0.0031 - mean_absolute_error: 0.0438 - val_loss: 0.0043 - val_mean_squared_error: 0.0043 - val_mean_absolute_error: 0.0511\n",
            "Epoch 49/100\n",
            "16/16 [==============================] - 3s 185ms/step - loss: 0.0028 - mean_squared_error: 0.0028 - mean_absolute_error: 0.0422 - val_loss: 0.0038 - val_mean_squared_error: 0.0038 - val_mean_absolute_error: 0.0481\n",
            "Epoch 50/100\n",
            "16/16 [==============================] - 3s 182ms/step - loss: 0.0028 - mean_squared_error: 0.0028 - mean_absolute_error: 0.0424 - val_loss: 0.0039 - val_mean_squared_error: 0.0039 - val_mean_absolute_error: 0.0487\n",
            "Epoch 51/100\n",
            "16/16 [==============================] - 3s 171ms/step - loss: 0.0028 - mean_squared_error: 0.0028 - mean_absolute_error: 0.0427 - val_loss: 0.0044 - val_mean_squared_error: 0.0044 - val_mean_absolute_error: 0.0517\n",
            "Epoch 52/100\n",
            "16/16 [==============================] - 3s 175ms/step - loss: 0.0029 - mean_squared_error: 0.0029 - mean_absolute_error: 0.0426 - val_loss: 0.0039 - val_mean_squared_error: 0.0039 - val_mean_absolute_error: 0.0485\n",
            "Epoch 53/100\n",
            "16/16 [==============================] - 3s 186ms/step - loss: 0.0027 - mean_squared_error: 0.0027 - mean_absolute_error: 0.0408 - val_loss: 0.0039 - val_mean_squared_error: 0.0039 - val_mean_absolute_error: 0.0489\n",
            "Epoch 54/100\n",
            "16/16 [==============================] - 3s 179ms/step - loss: 0.0030 - mean_squared_error: 0.0030 - mean_absolute_error: 0.0441 - val_loss: 0.0038 - val_mean_squared_error: 0.0038 - val_mean_absolute_error: 0.0485\n",
            "Epoch 55/100\n",
            "16/16 [==============================] - 3s 173ms/step - loss: 0.0027 - mean_squared_error: 0.0027 - mean_absolute_error: 0.0401 - val_loss: 0.0038 - val_mean_squared_error: 0.0038 - val_mean_absolute_error: 0.0480\n",
            "Epoch 56/100\n",
            "16/16 [==============================] - 3s 179ms/step - loss: 0.0027 - mean_squared_error: 0.0027 - mean_absolute_error: 0.0419 - val_loss: 0.0037 - val_mean_squared_error: 0.0037 - val_mean_absolute_error: 0.0477\n",
            "Epoch 57/100\n",
            "16/16 [==============================] - 3s 182ms/step - loss: 0.0031 - mean_squared_error: 0.0031 - mean_absolute_error: 0.0446 - val_loss: 0.0040 - val_mean_squared_error: 0.0040 - val_mean_absolute_error: 0.0491\n",
            "Epoch 58/100\n",
            "16/16 [==============================] - 3s 182ms/step - loss: 0.0028 - mean_squared_error: 0.0028 - mean_absolute_error: 0.0421 - val_loss: 0.0038 - val_mean_squared_error: 0.0038 - val_mean_absolute_error: 0.0477\n",
            "Epoch 59/100\n",
            "16/16 [==============================] - 3s 178ms/step - loss: 0.0022 - mean_squared_error: 0.0022 - mean_absolute_error: 0.0372 - val_loss: 0.0041 - val_mean_squared_error: 0.0041 - val_mean_absolute_error: 0.0496\n",
            "Epoch 60/100\n",
            "16/16 [==============================] - 3s 173ms/step - loss: 0.0026 - mean_squared_error: 0.0026 - mean_absolute_error: 0.0396 - val_loss: 0.0043 - val_mean_squared_error: 0.0043 - val_mean_absolute_error: 0.0509\n",
            "Epoch 61/100\n",
            "16/16 [==============================] - 3s 178ms/step - loss: 0.0028 - mean_squared_error: 0.0028 - mean_absolute_error: 0.0408 - val_loss: 0.0037 - val_mean_squared_error: 0.0037 - val_mean_absolute_error: 0.0470\n",
            "Epoch 62/100\n",
            "16/16 [==============================] - 3s 172ms/step - loss: 0.0028 - mean_squared_error: 0.0028 - mean_absolute_error: 0.0422 - val_loss: 0.0039 - val_mean_squared_error: 0.0039 - val_mean_absolute_error: 0.0489\n",
            "Epoch 63/100\n",
            "16/16 [==============================] - 3s 178ms/step - loss: 0.0028 - mean_squared_error: 0.0028 - mean_absolute_error: 0.0416 - val_loss: 0.0035 - val_mean_squared_error: 0.0035 - val_mean_absolute_error: 0.0454\n",
            "Epoch 64/100\n",
            "16/16 [==============================] - 3s 169ms/step - loss: 0.0029 - mean_squared_error: 0.0029 - mean_absolute_error: 0.0426 - val_loss: 0.0037 - val_mean_squared_error: 0.0037 - val_mean_absolute_error: 0.0474\n",
            "Epoch 65/100\n",
            "16/16 [==============================] - 3s 171ms/step - loss: 0.0027 - mean_squared_error: 0.0027 - mean_absolute_error: 0.0402 - val_loss: 0.0040 - val_mean_squared_error: 0.0040 - val_mean_absolute_error: 0.0491\n",
            "Epoch 66/100\n",
            "16/16 [==============================] - 3s 178ms/step - loss: 0.0029 - mean_squared_error: 0.0029 - mean_absolute_error: 0.0423 - val_loss: 0.0039 - val_mean_squared_error: 0.0039 - val_mean_absolute_error: 0.0484\n",
            "Epoch 67/100\n",
            "16/16 [==============================] - 3s 171ms/step - loss: 0.0029 - mean_squared_error: 0.0029 - mean_absolute_error: 0.0422 - val_loss: 0.0036 - val_mean_squared_error: 0.0036 - val_mean_absolute_error: 0.0463\n",
            "Epoch 68/100\n",
            "16/16 [==============================] - 3s 170ms/step - loss: 0.0027 - mean_squared_error: 0.0027 - mean_absolute_error: 0.0408 - val_loss: 0.0036 - val_mean_squared_error: 0.0036 - val_mean_absolute_error: 0.0464\n",
            "Epoch 69/100\n",
            "16/16 [==============================] - 3s 169ms/step - loss: 0.0026 - mean_squared_error: 0.0026 - mean_absolute_error: 0.0406 - val_loss: 0.0034 - val_mean_squared_error: 0.0034 - val_mean_absolute_error: 0.0451\n",
            "Epoch 70/100\n",
            "16/16 [==============================] - 3s 176ms/step - loss: 0.0028 - mean_squared_error: 0.0028 - mean_absolute_error: 0.0417 - val_loss: 0.0035 - val_mean_squared_error: 0.0035 - val_mean_absolute_error: 0.0461\n",
            "Epoch 71/100\n",
            "16/16 [==============================] - 3s 176ms/step - loss: 0.0024 - mean_squared_error: 0.0024 - mean_absolute_error: 0.0392 - val_loss: 0.0037 - val_mean_squared_error: 0.0037 - val_mean_absolute_error: 0.0469\n",
            "Epoch 72/100\n",
            "16/16 [==============================] - 3s 176ms/step - loss: 0.0027 - mean_squared_error: 0.0027 - mean_absolute_error: 0.0407 - val_loss: 0.0038 - val_mean_squared_error: 0.0038 - val_mean_absolute_error: 0.0480\n",
            "Epoch 73/100\n",
            "16/16 [==============================] - 3s 176ms/step - loss: 0.0025 - mean_squared_error: 0.0025 - mean_absolute_error: 0.0397 - val_loss: 0.0033 - val_mean_squared_error: 0.0033 - val_mean_absolute_error: 0.0447\n",
            "Epoch 74/100\n",
            "16/16 [==============================] - 3s 165ms/step - loss: 0.0024 - mean_squared_error: 0.0024 - mean_absolute_error: 0.0391 - val_loss: 0.0037 - val_mean_squared_error: 0.0037 - val_mean_absolute_error: 0.0472\n",
            "Epoch 75/100\n",
            "16/16 [==============================] - 3s 174ms/step - loss: 0.0026 - mean_squared_error: 0.0026 - mean_absolute_error: 0.0401 - val_loss: 0.0034 - val_mean_squared_error: 0.0034 - val_mean_absolute_error: 0.0449\n",
            "Epoch 76/100\n",
            "16/16 [==============================] - 3s 172ms/step - loss: 0.0026 - mean_squared_error: 0.0026 - mean_absolute_error: 0.0398 - val_loss: 0.0034 - val_mean_squared_error: 0.0034 - val_mean_absolute_error: 0.0450\n",
            "Epoch 77/100\n",
            "16/16 [==============================] - 3s 169ms/step - loss: 0.0024 - mean_squared_error: 0.0024 - mean_absolute_error: 0.0382 - val_loss: 0.0035 - val_mean_squared_error: 0.0035 - val_mean_absolute_error: 0.0459\n",
            "Epoch 78/100\n",
            "16/16 [==============================] - 3s 182ms/step - loss: 0.0022 - mean_squared_error: 0.0022 - mean_absolute_error: 0.0371 - val_loss: 0.0033 - val_mean_squared_error: 0.0033 - val_mean_absolute_error: 0.0444\n",
            "Epoch 79/100\n",
            "16/16 [==============================] - 3s 182ms/step - loss: 0.0023 - mean_squared_error: 0.0023 - mean_absolute_error: 0.0377 - val_loss: 0.0035 - val_mean_squared_error: 0.0035 - val_mean_absolute_error: 0.0457\n",
            "Epoch 80/100\n",
            "16/16 [==============================] - 3s 182ms/step - loss: 0.0023 - mean_squared_error: 0.0023 - mean_absolute_error: 0.0374 - val_loss: 0.0038 - val_mean_squared_error: 0.0038 - val_mean_absolute_error: 0.0476\n",
            "Epoch 81/100\n",
            "16/16 [==============================] - 3s 175ms/step - loss: 0.0026 - mean_squared_error: 0.0026 - mean_absolute_error: 0.0400 - val_loss: 0.0033 - val_mean_squared_error: 0.0033 - val_mean_absolute_error: 0.0442\n",
            "Epoch 82/100\n",
            "16/16 [==============================] - 3s 174ms/step - loss: 0.0025 - mean_squared_error: 0.0025 - mean_absolute_error: 0.0393 - val_loss: 0.0032 - val_mean_squared_error: 0.0032 - val_mean_absolute_error: 0.0446\n",
            "Epoch 83/100\n",
            "16/16 [==============================] - 3s 183ms/step - loss: 0.0024 - mean_squared_error: 0.0024 - mean_absolute_error: 0.0384 - val_loss: 0.0032 - val_mean_squared_error: 0.0032 - val_mean_absolute_error: 0.0441\n",
            "Epoch 84/100\n",
            "16/16 [==============================] - 3s 173ms/step - loss: 0.0025 - mean_squared_error: 0.0025 - mean_absolute_error: 0.0390 - val_loss: 0.0034 - val_mean_squared_error: 0.0034 - val_mean_absolute_error: 0.0451\n",
            "Epoch 85/100\n",
            "16/16 [==============================] - 3s 175ms/step - loss: 0.0024 - mean_squared_error: 0.0024 - mean_absolute_error: 0.0380 - val_loss: 0.0033 - val_mean_squared_error: 0.0033 - val_mean_absolute_error: 0.0448\n",
            "Epoch 86/100\n",
            "16/16 [==============================] - 3s 171ms/step - loss: 0.0029 - mean_squared_error: 0.0029 - mean_absolute_error: 0.0426 - val_loss: 0.0031 - val_mean_squared_error: 0.0031 - val_mean_absolute_error: 0.0438\n",
            "Epoch 87/100\n",
            "16/16 [==============================] - 3s 174ms/step - loss: 0.0026 - mean_squared_error: 0.0026 - mean_absolute_error: 0.0407 - val_loss: 0.0037 - val_mean_squared_error: 0.0037 - val_mean_absolute_error: 0.0471\n",
            "Epoch 88/100\n",
            "16/16 [==============================] - 3s 174ms/step - loss: 0.0026 - mean_squared_error: 0.0026 - mean_absolute_error: 0.0402 - val_loss: 0.0048 - val_mean_squared_error: 0.0048 - val_mean_absolute_error: 0.0544\n",
            "Epoch 89/100\n",
            "16/16 [==============================] - 3s 179ms/step - loss: 0.0028 - mean_squared_error: 0.0028 - mean_absolute_error: 0.0419 - val_loss: 0.0032 - val_mean_squared_error: 0.0032 - val_mean_absolute_error: 0.0440\n",
            "Epoch 90/100\n",
            "16/16 [==============================] - 3s 170ms/step - loss: 0.0027 - mean_squared_error: 0.0027 - mean_absolute_error: 0.0408 - val_loss: 0.0043 - val_mean_squared_error: 0.0043 - val_mean_absolute_error: 0.0507\n",
            "Epoch 91/100\n",
            "16/16 [==============================] - 3s 179ms/step - loss: 0.0026 - mean_squared_error: 0.0026 - mean_absolute_error: 0.0408 - val_loss: 0.0031 - val_mean_squared_error: 0.0031 - val_mean_absolute_error: 0.0432\n",
            "Epoch 92/100\n",
            "16/16 [==============================] - 3s 182ms/step - loss: 0.0023 - mean_squared_error: 0.0023 - mean_absolute_error: 0.0375 - val_loss: 0.0031 - val_mean_squared_error: 0.0031 - val_mean_absolute_error: 0.0431\n",
            "Epoch 93/100\n",
            "16/16 [==============================] - 3s 179ms/step - loss: 0.0025 - mean_squared_error: 0.0025 - mean_absolute_error: 0.0396 - val_loss: 0.0035 - val_mean_squared_error: 0.0035 - val_mean_absolute_error: 0.0460\n",
            "Epoch 94/100\n",
            "16/16 [==============================] - 3s 176ms/step - loss: 0.0022 - mean_squared_error: 0.0022 - mean_absolute_error: 0.0371 - val_loss: 0.0032 - val_mean_squared_error: 0.0032 - val_mean_absolute_error: 0.0440\n",
            "Epoch 95/100\n",
            "16/16 [==============================] - 3s 183ms/step - loss: 0.0023 - mean_squared_error: 0.0023 - mean_absolute_error: 0.0379 - val_loss: 0.0031 - val_mean_squared_error: 0.0031 - val_mean_absolute_error: 0.0431\n",
            "Epoch 96/100\n",
            "16/16 [==============================] - 3s 179ms/step - loss: 0.0023 - mean_squared_error: 0.0023 - mean_absolute_error: 0.0384 - val_loss: 0.0032 - val_mean_squared_error: 0.0032 - val_mean_absolute_error: 0.0436\n",
            "Epoch 97/100\n",
            "16/16 [==============================] - 3s 170ms/step - loss: 0.0024 - mean_squared_error: 0.0024 - mean_absolute_error: 0.0391 - val_loss: 0.0036 - val_mean_squared_error: 0.0036 - val_mean_absolute_error: 0.0464\n",
            "Epoch 98/100\n",
            "16/16 [==============================] - 3s 171ms/step - loss: 0.0022 - mean_squared_error: 0.0022 - mean_absolute_error: 0.0364 - val_loss: 0.0030 - val_mean_squared_error: 0.0030 - val_mean_absolute_error: 0.0428\n",
            "Epoch 99/100\n",
            "16/16 [==============================] - 3s 176ms/step - loss: 0.0021 - mean_squared_error: 0.0021 - mean_absolute_error: 0.0366 - val_loss: 0.0034 - val_mean_squared_error: 0.0034 - val_mean_absolute_error: 0.0450\n",
            "Epoch 100/100\n",
            "16/16 [==============================] - 3s 172ms/step - loss: 0.0022 - mean_squared_error: 0.0022 - mean_absolute_error: 0.0373 - val_loss: 0.0034 - val_mean_squared_error: 0.0034 - val_mean_absolute_error: 0.0451\n"
          ],
          "name": "stdout"
        },
        {
          "output_type": "display_data",
          "data": {
            "text/html": [
              "<br/>Waiting for W&B process to finish, PID 6197<br/>Program ended successfully."
            ],
            "text/plain": [
              "<IPython.core.display.HTML object>"
            ]
          },
          "metadata": {
            "tags": []
          }
        },
        {
          "output_type": "display_data",
          "data": {
            "application/vnd.jupyter.widget-view+json": {
              "model_id": "17e2c29a718746008412a226b33b901b",
              "version_minor": 0,
              "version_major": 2
            },
            "text/plain": [
              "VBox(children=(Label(value=' 0.92MB of 0.92MB uploaded (0.00MB deduped)\\r'), FloatProgress(value=1.0, max=1.0)…"
            ]
          },
          "metadata": {
            "tags": []
          }
        },
        {
          "output_type": "display_data",
          "data": {
            "text/html": [
              "Find user logs for this run at: <code>/content/feeder_repo/wandb/run-20210718_201946-k0z21ny3/logs/debug.log</code>"
            ],
            "text/plain": [
              "<IPython.core.display.HTML object>"
            ]
          },
          "metadata": {
            "tags": []
          }
        },
        {
          "output_type": "display_data",
          "data": {
            "text/html": [
              "Find internal logs for this run at: <code>/content/feeder_repo/wandb/run-20210718_201946-k0z21ny3/logs/debug-internal.log</code>"
            ],
            "text/plain": [
              "<IPython.core.display.HTML object>"
            ]
          },
          "metadata": {
            "tags": []
          }
        },
        {
          "output_type": "display_data",
          "data": {
            "text/html": [
              "<h3>Run summary:</h3><br/><style>\n",
              "    table.wandb td:nth-child(1) { padding: 0 10px; text-align: right }\n",
              "    </style><table class=\"wandb\">\n",
              "<tr><td>epoch</td><td>99</td></tr><tr><td>loss</td><td>0.00223</td></tr><tr><td>mean_squared_error</td><td>0.00223</td></tr><tr><td>mean_absolute_error</td><td>0.03709</td></tr><tr><td>val_loss</td><td>0.00339</td></tr><tr><td>val_mean_squared_error</td><td>0.00339</td></tr><tr><td>val_mean_absolute_error</td><td>0.04512</td></tr><tr><td>_runtime</td><td>292</td></tr><tr><td>_timestamp</td><td>1626639878</td></tr><tr><td>_step</td><td>99</td></tr><tr><td>best_val_loss</td><td>0.00304</td></tr><tr><td>best_epoch</td><td>97</td></tr></table>"
            ],
            "text/plain": [
              "<IPython.core.display.HTML object>"
            ]
          },
          "metadata": {
            "tags": []
          }
        },
        {
          "output_type": "display_data",
          "data": {
            "text/html": [
              "<h3>Run history:</h3><br/><style>\n",
              "    table.wandb td:nth-child(1) { padding: 0 10px; text-align: right }\n",
              "    </style><table class=\"wandb\">\n",
              "<tr><td>epoch</td><td>▁▁▁▁▂▂▂▂▂▃▃▃▃▃▃▄▄▄▄▄▅▅▅▅▅▅▆▆▆▆▆▇▇▇▇▇▇███</td></tr><tr><td>loss</td><td>█▂▁▁▁▁▁▁▁▁▁▁▁▁▁▁▁▁▁▁▁▁▁▁▁▁▁▁▁▁▁▁▁▁▁▁▁▁▁▁</td></tr><tr><td>mean_squared_error</td><td>█▂▁▁▁▁▁▁▁▁▁▁▁▁▁▁▁▁▁▁▁▁▁▁▁▁▁▁▁▁▁▁▁▁▁▁▁▁▁▁</td></tr><tr><td>mean_absolute_error</td><td>█▂▂▂▁▁▁▁▁▁▁▁▁▁▁▁▁▁▁▁▁▁▁▁▁▁▁▁▁▁▁▁▁▁▁▁▁▁▁▁</td></tr><tr><td>val_loss</td><td>█▇▆▆▅▅▄▄▄▃▃▃▃▃▃▂▂▂▂▂▂▂▂▂▂▂▁▁▂▂▁▁▁▁▂▁▁▁▂▁</td></tr><tr><td>val_mean_squared_error</td><td>█▇▆▆▅▅▄▄▄▃▃▃▃▃▃▂▂▂▂▂▂▂▂▂▂▂▁▁▂▂▁▁▁▁▂▁▁▁▂▁</td></tr><tr><td>val_mean_absolute_error</td><td>█▇▇▇▆▆▅▄▄▄▄▃▃▃▃▃▃▃▂▂▃▂▂▂▂▂▂▁▂▂▂▁▁▁▂▁▁▁▂▁</td></tr><tr><td>_runtime</td><td>▁▁▁▂▂▂▂▂▂▃▃▃▃▃▃▄▄▄▄▄▅▅▅▅▅▅▆▆▆▆▆▇▇▇▇▇▇███</td></tr><tr><td>_timestamp</td><td>▁▁▁▂▂▂▂▂▂▃▃▃▃▃▃▄▄▄▄▄▅▅▅▅▅▅▆▆▆▆▆▇▇▇▇▇▇███</td></tr><tr><td>_step</td><td>▁▁▁▁▂▂▂▂▂▃▃▃▃▃▃▄▄▄▄▄▅▅▅▅▅▅▆▆▆▆▆▇▇▇▇▇▇███</td></tr></table><br/>"
            ],
            "text/plain": [
              "<IPython.core.display.HTML object>"
            ]
          },
          "metadata": {
            "tags": []
          }
        },
        {
          "output_type": "display_data",
          "data": {
            "text/html": [
              "Synced 5 W&B file(s), 1 media file(s), 2 artifact file(s) and 2 other file(s)"
            ],
            "text/plain": [
              "<IPython.core.display.HTML object>"
            ]
          },
          "metadata": {
            "tags": []
          }
        },
        {
          "output_type": "display_data",
          "data": {
            "text/html": [
              "\n",
              "                    <br/>Synced <strong style=\"color:#cdcd00\">summer-sweep-23</strong>: <a href=\"https://wandb.ai/acse-jaq15/ACSE_9_LSTM_GRU/runs/k0z21ny3\" target=\"_blank\">https://wandb.ai/acse-jaq15/ACSE_9_LSTM_GRU/runs/k0z21ny3</a><br/>\n",
              "                "
            ],
            "text/plain": [
              "<IPython.core.display.HTML object>"
            ]
          },
          "metadata": {
            "tags": []
          }
        },
        {
          "output_type": "stream",
          "text": [
            "\u001b[34m\u001b[1mwandb\u001b[0m: Agent Starting Run: pldn5ujs with config:\n",
            "\u001b[34m\u001b[1mwandb\u001b[0m: \tactivation: relu\n",
            "\u001b[34m\u001b[1mwandb\u001b[0m: \tbatch_size: 32\n",
            "\u001b[34m\u001b[1mwandb\u001b[0m: \tdropout: 0.3\n",
            "\u001b[34m\u001b[1mwandb\u001b[0m: \tepochs: 50\n",
            "\u001b[34m\u001b[1mwandb\u001b[0m: \tlearning_rate: 0.005\n",
            "\u001b[34m\u001b[1mwandb\u001b[0m: \toptimizer: rmsprop\n"
          ],
          "name": "stderr"
        },
        {
          "output_type": "display_data",
          "data": {
            "text/html": [
              "\n",
              "                Tracking run with wandb version 0.11.0<br/>\n",
              "                Syncing run <strong style=\"color:#cdcd00\">gentle-sweep-24</strong> to <a href=\"https://wandb.ai\" target=\"_blank\">Weights & Biases</a> <a href=\"https://docs.wandb.com/integrations/jupyter.html\" target=\"_blank\">(Documentation)</a>.<br/>\n",
              "                Project page: <a href=\"https://wandb.ai/acse-jaq15/ACSE_9_LSTM_GRU\" target=\"_blank\">https://wandb.ai/acse-jaq15/ACSE_9_LSTM_GRU</a><br/>\n",
              "                Sweep page: <a href=\"https://wandb.ai/acse-jaq15/ACSE_9_LSTM_GRU/sweeps/amj4ayh1\" target=\"_blank\">https://wandb.ai/acse-jaq15/ACSE_9_LSTM_GRU/sweeps/amj4ayh1</a><br/>\n",
              "Run page: <a href=\"https://wandb.ai/acse-jaq15/ACSE_9_LSTM_GRU/runs/pldn5ujs\" target=\"_blank\">https://wandb.ai/acse-jaq15/ACSE_9_LSTM_GRU/runs/pldn5ujs</a><br/>\n",
              "                Run data is saved locally in <code>/content/feeder_repo/wandb/run-20210718_202451-pldn5ujs</code><br/><br/>\n",
              "            "
            ],
            "text/plain": [
              "<IPython.core.display.HTML object>"
            ]
          },
          "metadata": {
            "tags": []
          }
        },
        {
          "output_type": "stream",
          "text": [
            "WARNING:tensorflow:Layer lstm will not use cuDNN kernels since it doesn't meet the criteria. It will use a generic GPU kernel as fallback when running on GPU.\n",
            "WARNING:tensorflow:Layer gru will not use cuDNN kernels since it doesn't meet the criteria. It will use a generic GPU kernel as fallback when running on GPU.\n",
            "Epoch 1/50\n",
            "32/32 [==============================] - 11s 212ms/step - loss: 0.1384 - mean_squared_error: 0.1384 - mean_absolute_error: 0.2537 - val_loss: 0.0081 - val_mean_squared_error: 0.0081 - val_mean_absolute_error: 0.0733\n",
            "Epoch 2/50\n",
            "32/32 [==============================] - 6s 173ms/step - loss: 0.0104 - mean_squared_error: 0.0104 - mean_absolute_error: 0.0812 - val_loss: 0.0092 - val_mean_squared_error: 0.0092 - val_mean_absolute_error: 0.0790\n",
            "Epoch 3/50\n",
            "32/32 [==============================] - 6s 175ms/step - loss: 0.0112 - mean_squared_error: 0.0112 - mean_absolute_error: 0.0814 - val_loss: 0.0097 - val_mean_squared_error: 0.0097 - val_mean_absolute_error: 0.0792\n",
            "Epoch 4/50\n",
            "32/32 [==============================] - 6s 177ms/step - loss: 0.0110 - mean_squared_error: 0.0110 - mean_absolute_error: 0.0834 - val_loss: 0.0062 - val_mean_squared_error: 0.0062 - val_mean_absolute_error: 0.0634\n",
            "Epoch 5/50\n",
            "32/32 [==============================] - 6s 173ms/step - loss: 0.0095 - mean_squared_error: 0.0095 - mean_absolute_error: 0.0762 - val_loss: 0.0060 - val_mean_squared_error: 0.0060 - val_mean_absolute_error: 0.0616\n",
            "Epoch 6/50\n",
            "32/32 [==============================] - 6s 174ms/step - loss: 0.0071 - mean_squared_error: 0.0071 - mean_absolute_error: 0.0660 - val_loss: 0.0082 - val_mean_squared_error: 0.0082 - val_mean_absolute_error: 0.0709\n",
            "Epoch 7/50\n",
            "32/32 [==============================] - 6s 172ms/step - loss: 0.0078 - mean_squared_error: 0.0078 - mean_absolute_error: 0.0723 - val_loss: 0.0086 - val_mean_squared_error: 0.0086 - val_mean_absolute_error: 0.0779\n",
            "Epoch 8/50\n",
            "32/32 [==============================] - 5s 171ms/step - loss: 0.0073 - mean_squared_error: 0.0073 - mean_absolute_error: 0.0707 - val_loss: 0.0073 - val_mean_squared_error: 0.0073 - val_mean_absolute_error: 0.0672\n",
            "Epoch 9/50\n",
            "32/32 [==============================] - 5s 169ms/step - loss: 0.0061 - mean_squared_error: 0.0061 - mean_absolute_error: 0.0620 - val_loss: 0.0106 - val_mean_squared_error: 0.0106 - val_mean_absolute_error: 0.0874\n",
            "Epoch 10/50\n",
            "32/32 [==============================] - 5s 166ms/step - loss: 0.0064 - mean_squared_error: 0.0064 - mean_absolute_error: 0.0624 - val_loss: 0.0043 - val_mean_squared_error: 0.0043 - val_mean_absolute_error: 0.0528\n",
            "Epoch 11/50\n",
            "32/32 [==============================] - 6s 178ms/step - loss: 0.0043 - mean_squared_error: 0.0043 - mean_absolute_error: 0.0510 - val_loss: 0.0130 - val_mean_squared_error: 0.0130 - val_mean_absolute_error: 0.0971\n",
            "Epoch 12/50\n",
            "32/32 [==============================] - 5s 167ms/step - loss: 0.0061 - mean_squared_error: 0.0061 - mean_absolute_error: 0.0638 - val_loss: 0.0035 - val_mean_squared_error: 0.0035 - val_mean_absolute_error: 0.0458\n",
            "Epoch 13/50\n",
            "32/32 [==============================] - 5s 169ms/step - loss: 0.0047 - mean_squared_error: 0.0047 - mean_absolute_error: 0.0537 - val_loss: 0.0055 - val_mean_squared_error: 0.0055 - val_mean_absolute_error: 0.0573\n",
            "Epoch 14/50\n",
            "32/32 [==============================] - 5s 169ms/step - loss: 0.0049 - mean_squared_error: 0.0049 - mean_absolute_error: 0.0552 - val_loss: 0.0091 - val_mean_squared_error: 0.0091 - val_mean_absolute_error: 0.0778\n",
            "Epoch 15/50\n",
            "32/32 [==============================] - 5s 166ms/step - loss: 0.0040 - mean_squared_error: 0.0040 - mean_absolute_error: 0.0501 - val_loss: 0.0031 - val_mean_squared_error: 0.0031 - val_mean_absolute_error: 0.0434\n",
            "Epoch 16/50\n",
            "32/32 [==============================] - 6s 180ms/step - loss: 0.0045 - mean_squared_error: 0.0045 - mean_absolute_error: 0.0523 - val_loss: 0.0203 - val_mean_squared_error: 0.0203 - val_mean_absolute_error: 0.1270\n",
            "Epoch 17/50\n",
            "32/32 [==============================] - 6s 180ms/step - loss: 0.0047 - mean_squared_error: 0.0047 - mean_absolute_error: 0.0547 - val_loss: 0.0068 - val_mean_squared_error: 0.0068 - val_mean_absolute_error: 0.0647\n",
            "Epoch 18/50\n",
            "32/32 [==============================] - 5s 170ms/step - loss: 0.0043 - mean_squared_error: 0.0043 - mean_absolute_error: 0.0525 - val_loss: 0.0027 - val_mean_squared_error: 0.0027 - val_mean_absolute_error: 0.0408\n",
            "Epoch 19/50\n",
            "32/32 [==============================] - 6s 178ms/step - loss: 0.0037 - mean_squared_error: 0.0037 - mean_absolute_error: 0.0481 - val_loss: 0.0029 - val_mean_squared_error: 0.0029 - val_mean_absolute_error: 0.0422\n",
            "Epoch 20/50\n",
            "32/32 [==============================] - 5s 168ms/step - loss: 0.0042 - mean_squared_error: 0.0042 - mean_absolute_error: 0.0503 - val_loss: 0.0032 - val_mean_squared_error: 0.0032 - val_mean_absolute_error: 0.0456\n",
            "Epoch 21/50\n",
            "32/32 [==============================] - 6s 177ms/step - loss: 0.0033 - mean_squared_error: 0.0033 - mean_absolute_error: 0.0463 - val_loss: 0.0055 - val_mean_squared_error: 0.0055 - val_mean_absolute_error: 0.0612\n",
            "Epoch 22/50\n",
            "32/32 [==============================] - 5s 171ms/step - loss: 0.0044 - mean_squared_error: 0.0044 - mean_absolute_error: 0.0536 - val_loss: 0.0060 - val_mean_squared_error: 0.0060 - val_mean_absolute_error: 0.0653\n",
            "Epoch 23/50\n",
            "32/32 [==============================] - 6s 172ms/step - loss: 0.0038 - mean_squared_error: 0.0038 - mean_absolute_error: 0.0500 - val_loss: 0.0032 - val_mean_squared_error: 0.0032 - val_mean_absolute_error: 0.0444\n",
            "Epoch 24/50\n",
            "32/32 [==============================] - 5s 169ms/step - loss: 0.0035 - mean_squared_error: 0.0035 - mean_absolute_error: 0.0473 - val_loss: 0.0075 - val_mean_squared_error: 0.0075 - val_mean_absolute_error: 0.0734\n",
            "Epoch 25/50\n",
            "32/32 [==============================] - 6s 174ms/step - loss: 0.0037 - mean_squared_error: 0.0037 - mean_absolute_error: 0.0495 - val_loss: 0.0037 - val_mean_squared_error: 0.0037 - val_mean_absolute_error: 0.0496\n",
            "Epoch 26/50\n",
            "32/32 [==============================] - 5s 167ms/step - loss: 0.0030 - mean_squared_error: 0.0030 - mean_absolute_error: 0.0440 - val_loss: 0.0033 - val_mean_squared_error: 0.0033 - val_mean_absolute_error: 0.0443\n",
            "Epoch 27/50\n",
            "32/32 [==============================] - 6s 178ms/step - loss: 0.0032 - mean_squared_error: 0.0032 - mean_absolute_error: 0.0448 - val_loss: 0.0023 - val_mean_squared_error: 0.0023 - val_mean_absolute_error: 0.0378\n",
            "Epoch 28/50\n",
            "32/32 [==============================] - 6s 174ms/step - loss: 0.0025 - mean_squared_error: 0.0025 - mean_absolute_error: 0.0392 - val_loss: 0.0026 - val_mean_squared_error: 0.0026 - val_mean_absolute_error: 0.0402\n",
            "Epoch 29/50\n",
            "32/32 [==============================] - 6s 176ms/step - loss: 0.0025 - mean_squared_error: 0.0025 - mean_absolute_error: 0.0398 - val_loss: 0.0053 - val_mean_squared_error: 0.0053 - val_mean_absolute_error: 0.0598\n",
            "Epoch 30/50\n",
            "32/32 [==============================] - 5s 171ms/step - loss: 0.0024 - mean_squared_error: 0.0024 - mean_absolute_error: 0.0390 - val_loss: 0.0027 - val_mean_squared_error: 0.0027 - val_mean_absolute_error: 0.0413\n",
            "Epoch 31/50\n",
            "32/32 [==============================] - 5s 172ms/step - loss: 0.0028 - mean_squared_error: 0.0028 - mean_absolute_error: 0.0420 - val_loss: 0.0081 - val_mean_squared_error: 0.0081 - val_mean_absolute_error: 0.0741\n",
            "Epoch 32/50\n",
            "32/32 [==============================] - 5s 170ms/step - loss: 0.0027 - mean_squared_error: 0.0027 - mean_absolute_error: 0.0410 - val_loss: 0.0041 - val_mean_squared_error: 0.0041 - val_mean_absolute_error: 0.0508\n",
            "Epoch 33/50\n",
            "32/32 [==============================] - 6s 171ms/step - loss: 0.0030 - mean_squared_error: 0.0030 - mean_absolute_error: 0.0436 - val_loss: 0.0026 - val_mean_squared_error: 0.0026 - val_mean_absolute_error: 0.0398\n",
            "Epoch 34/50\n",
            "32/32 [==============================] - 5s 166ms/step - loss: 0.0023 - mean_squared_error: 0.0023 - mean_absolute_error: 0.0378 - val_loss: 0.0024 - val_mean_squared_error: 0.0024 - val_mean_absolute_error: 0.0386\n",
            "Epoch 35/50\n",
            "32/32 [==============================] - 6s 174ms/step - loss: 0.0026 - mean_squared_error: 0.0026 - mean_absolute_error: 0.0405 - val_loss: 0.0026 - val_mean_squared_error: 0.0026 - val_mean_absolute_error: 0.0398\n",
            "Epoch 36/50\n",
            "32/32 [==============================] - 6s 176ms/step - loss: 0.0023 - mean_squared_error: 0.0023 - mean_absolute_error: 0.0374 - val_loss: 0.0025 - val_mean_squared_error: 0.0025 - val_mean_absolute_error: 0.0393\n",
            "Epoch 37/50\n",
            "32/32 [==============================] - 5s 167ms/step - loss: 0.0021 - mean_squared_error: 0.0021 - mean_absolute_error: 0.0361 - val_loss: 0.0031 - val_mean_squared_error: 0.0031 - val_mean_absolute_error: 0.0434\n"
          ],
          "name": "stdout"
        },
        {
          "output_type": "display_data",
          "data": {
            "text/html": [
              "<br/>Waiting for W&B process to finish, PID 6610<br/>Program ended successfully."
            ],
            "text/plain": [
              "<IPython.core.display.HTML object>"
            ]
          },
          "metadata": {
            "tags": []
          }
        },
        {
          "output_type": "display_data",
          "data": {
            "application/vnd.jupyter.widget-view+json": {
              "model_id": "02c29b535ed9422fb8d1234a8e8417ff",
              "version_minor": 0,
              "version_major": 2
            },
            "text/plain": [
              "VBox(children=(Label(value=' 0.77MB of 0.77MB uploaded (0.00MB deduped)\\r'), FloatProgress(value=1.0, max=1.0)…"
            ]
          },
          "metadata": {
            "tags": []
          }
        },
        {
          "output_type": "display_data",
          "data": {
            "text/html": [
              "Find user logs for this run at: <code>/content/feeder_repo/wandb/run-20210718_202451-pldn5ujs/logs/debug.log</code>"
            ],
            "text/plain": [
              "<IPython.core.display.HTML object>"
            ]
          },
          "metadata": {
            "tags": []
          }
        },
        {
          "output_type": "display_data",
          "data": {
            "text/html": [
              "Find internal logs for this run at: <code>/content/feeder_repo/wandb/run-20210718_202451-pldn5ujs/logs/debug-internal.log</code>"
            ],
            "text/plain": [
              "<IPython.core.display.HTML object>"
            ]
          },
          "metadata": {
            "tags": []
          }
        },
        {
          "output_type": "display_data",
          "data": {
            "text/html": [
              "<h3>Run summary:</h3><br/><style>\n",
              "    table.wandb td:nth-child(1) { padding: 0 10px; text-align: right }\n",
              "    </style><table class=\"wandb\">\n",
              "<tr><td>epoch</td><td>36</td></tr><tr><td>loss</td><td>0.00247</td></tr><tr><td>mean_squared_error</td><td>0.00247</td></tr><tr><td>mean_absolute_error</td><td>0.03878</td></tr><tr><td>val_loss</td><td>0.00309</td></tr><tr><td>val_mean_squared_error</td><td>0.00309</td></tr><tr><td>val_mean_absolute_error</td><td>0.04338</td></tr><tr><td>_runtime</td><td>215</td></tr><tr><td>_timestamp</td><td>1626640106</td></tr><tr><td>_step</td><td>36</td></tr><tr><td>best_val_loss</td><td>0.00232</td></tr><tr><td>best_epoch</td><td>26</td></tr></table>"
            ],
            "text/plain": [
              "<IPython.core.display.HTML object>"
            ]
          },
          "metadata": {
            "tags": []
          }
        },
        {
          "output_type": "display_data",
          "data": {
            "text/html": [
              "<h3>Run history:</h3><br/><style>\n",
              "    table.wandb td:nth-child(1) { padding: 0 10px; text-align: right }\n",
              "    </style><table class=\"wandb\">\n",
              "<tr><td>epoch</td><td>▁▁▁▂▂▂▂▂▃▃▃▃▃▄▄▄▄▄▅▅▅▅▅▅▆▆▆▆▆▇▇▇▇▇███</td></tr><tr><td>loss</td><td>█▂▂▂▂▂▂▂▁▁▁▁▁▁▁▁▁▁▁▁▁▁▁▁▁▁▁▁▁▁▁▁▁▁▁▁▁</td></tr><tr><td>mean_squared_error</td><td>█▂▂▂▂▂▂▂▁▁▁▁▁▁▁▁▁▁▁▁▁▁▁▁▁▁▁▁▁▁▁▁▁▁▁▁▁</td></tr><tr><td>mean_absolute_error</td><td>█▄▄▄▃▃▃▃▂▂▂▂▂▂▂▂▂▂▂▂▁▂▂▁▂▁▁▁▁▁▁▁▁▁▁▁▁</td></tr><tr><td>val_loss</td><td>▃▄▄▃▂▃▃▃▄▂▅▁▂▄▁█▃▁▁▁▂▂▁▃▂▁▁▁▂▁▃▂▁▁▁▁▁</td></tr><tr><td>val_mean_squared_error</td><td>▃▄▄▃▂▃▃▃▄▂▅▁▂▄▁█▃▁▁▁▂▂▁▃▂▁▁▁▂▁▃▂▁▁▁▁▁</td></tr><tr><td>val_mean_absolute_error</td><td>▄▄▄▃▃▄▄▃▅▂▆▂▃▄▁█▃▁▁▂▃▃▂▄▂▂▁▁▃▁▄▂▁▁▁▁▁</td></tr><tr><td>_runtime</td><td>▁▁▁▂▂▂▂▂▃▃▃▃▃▄▄▄▄▄▅▅▅▅▅▅▆▆▆▆▆▇▇▇▇▇███</td></tr><tr><td>_timestamp</td><td>▁▁▁▂▂▂▂▂▃▃▃▃▃▄▄▄▄▄▅▅▅▅▅▅▆▆▆▆▆▇▇▇▇▇███</td></tr><tr><td>_step</td><td>▁▁▁▂▂▂▂▂▃▃▃▃▃▄▄▄▄▄▅▅▅▅▅▅▆▆▆▆▆▇▇▇▇▇███</td></tr></table><br/>"
            ],
            "text/plain": [
              "<IPython.core.display.HTML object>"
            ]
          },
          "metadata": {
            "tags": []
          }
        },
        {
          "output_type": "display_data",
          "data": {
            "text/html": [
              "Synced 5 W&B file(s), 1 media file(s), 2 artifact file(s) and 2 other file(s)"
            ],
            "text/plain": [
              "<IPython.core.display.HTML object>"
            ]
          },
          "metadata": {
            "tags": []
          }
        },
        {
          "output_type": "display_data",
          "data": {
            "text/html": [
              "\n",
              "                    <br/>Synced <strong style=\"color:#cdcd00\">gentle-sweep-24</strong>: <a href=\"https://wandb.ai/acse-jaq15/ACSE_9_LSTM_GRU/runs/pldn5ujs\" target=\"_blank\">https://wandb.ai/acse-jaq15/ACSE_9_LSTM_GRU/runs/pldn5ujs</a><br/>\n",
              "                "
            ],
            "text/plain": [
              "<IPython.core.display.HTML object>"
            ]
          },
          "metadata": {
            "tags": []
          }
        },
        {
          "output_type": "stream",
          "text": [
            "\u001b[34m\u001b[1mwandb\u001b[0m: Agent Starting Run: 6tm31j40 with config:\n",
            "\u001b[34m\u001b[1mwandb\u001b[0m: \tactivation: relu\n",
            "\u001b[34m\u001b[1mwandb\u001b[0m: \tbatch_size: 32\n",
            "\u001b[34m\u001b[1mwandb\u001b[0m: \tdropout: 0.2\n",
            "\u001b[34m\u001b[1mwandb\u001b[0m: \tepochs: 100\n",
            "\u001b[34m\u001b[1mwandb\u001b[0m: \tlearning_rate: 0.0005\n",
            "\u001b[34m\u001b[1mwandb\u001b[0m: \toptimizer: rmsprop\n"
          ],
          "name": "stderr"
        },
        {
          "output_type": "display_data",
          "data": {
            "text/html": [
              "\n",
              "                Tracking run with wandb version 0.11.0<br/>\n",
              "                Syncing run <strong style=\"color:#cdcd00\">ethereal-sweep-25</strong> to <a href=\"https://wandb.ai\" target=\"_blank\">Weights & Biases</a> <a href=\"https://docs.wandb.com/integrations/jupyter.html\" target=\"_blank\">(Documentation)</a>.<br/>\n",
              "                Project page: <a href=\"https://wandb.ai/acse-jaq15/ACSE_9_LSTM_GRU\" target=\"_blank\">https://wandb.ai/acse-jaq15/ACSE_9_LSTM_GRU</a><br/>\n",
              "                Sweep page: <a href=\"https://wandb.ai/acse-jaq15/ACSE_9_LSTM_GRU/sweeps/amj4ayh1\" target=\"_blank\">https://wandb.ai/acse-jaq15/ACSE_9_LSTM_GRU/sweeps/amj4ayh1</a><br/>\n",
              "Run page: <a href=\"https://wandb.ai/acse-jaq15/ACSE_9_LSTM_GRU/runs/6tm31j40\" target=\"_blank\">https://wandb.ai/acse-jaq15/ACSE_9_LSTM_GRU/runs/6tm31j40</a><br/>\n",
              "                Run data is saved locally in <code>/content/feeder_repo/wandb/run-20210718_202932-6tm31j40</code><br/><br/>\n",
              "            "
            ],
            "text/plain": [
              "<IPython.core.display.HTML object>"
            ]
          },
          "metadata": {
            "tags": []
          }
        },
        {
          "output_type": "stream",
          "text": [
            "WARNING:tensorflow:Layer lstm will not use cuDNN kernels since it doesn't meet the criteria. It will use a generic GPU kernel as fallback when running on GPU.\n",
            "WARNING:tensorflow:Layer gru will not use cuDNN kernels since it doesn't meet the criteria. It will use a generic GPU kernel as fallback when running on GPU.\n",
            "Epoch 1/100\n",
            "32/32 [==============================] - 12s 217ms/step - loss: 0.1424 - mean_squared_error: 0.1424 - mean_absolute_error: 0.3104 - val_loss: 0.0096 - val_mean_squared_error: 0.0096 - val_mean_absolute_error: 0.0776\n",
            "Epoch 2/100\n",
            "32/32 [==============================] - 6s 176ms/step - loss: 0.0059 - mean_squared_error: 0.0059 - mean_absolute_error: 0.0619 - val_loss: 0.0086 - val_mean_squared_error: 0.0086 - val_mean_absolute_error: 0.0743\n",
            "Epoch 3/100\n",
            "32/32 [==============================] - 6s 173ms/step - loss: 0.0048 - mean_squared_error: 0.0048 - mean_absolute_error: 0.0539 - val_loss: 0.0074 - val_mean_squared_error: 0.0074 - val_mean_absolute_error: 0.0698\n",
            "Epoch 4/100\n",
            "32/32 [==============================] - 6s 176ms/step - loss: 0.0047 - mean_squared_error: 0.0047 - mean_absolute_error: 0.0532 - val_loss: 0.0069 - val_mean_squared_error: 0.0069 - val_mean_absolute_error: 0.0667\n",
            "Epoch 5/100\n",
            "32/32 [==============================] - 6s 180ms/step - loss: 0.0046 - mean_squared_error: 0.0046 - mean_absolute_error: 0.0537 - val_loss: 0.0065 - val_mean_squared_error: 0.0065 - val_mean_absolute_error: 0.0650\n",
            "Epoch 6/100\n",
            "32/32 [==============================] - 6s 177ms/step - loss: 0.0042 - mean_squared_error: 0.0042 - mean_absolute_error: 0.0501 - val_loss: 0.0057 - val_mean_squared_error: 0.0057 - val_mean_absolute_error: 0.0606\n",
            "Epoch 7/100\n",
            "32/32 [==============================] - 6s 179ms/step - loss: 0.0042 - mean_squared_error: 0.0042 - mean_absolute_error: 0.0508 - val_loss: 0.0065 - val_mean_squared_error: 0.0065 - val_mean_absolute_error: 0.0643\n",
            "Epoch 8/100\n",
            "32/32 [==============================] - 6s 183ms/step - loss: 0.0044 - mean_squared_error: 0.0044 - mean_absolute_error: 0.0528 - val_loss: 0.0054 - val_mean_squared_error: 0.0054 - val_mean_absolute_error: 0.0585\n",
            "Epoch 9/100\n",
            "32/32 [==============================] - 6s 178ms/step - loss: 0.0042 - mean_squared_error: 0.0042 - mean_absolute_error: 0.0505 - val_loss: 0.0070 - val_mean_squared_error: 0.0070 - val_mean_absolute_error: 0.0667\n",
            "Epoch 10/100\n",
            "32/32 [==============================] - 6s 175ms/step - loss: 0.0039 - mean_squared_error: 0.0039 - mean_absolute_error: 0.0496 - val_loss: 0.0051 - val_mean_squared_error: 0.0051 - val_mean_absolute_error: 0.0567\n",
            "Epoch 11/100\n",
            "32/32 [==============================] - 6s 180ms/step - loss: 0.0038 - mean_squared_error: 0.0038 - mean_absolute_error: 0.0490 - val_loss: 0.0050 - val_mean_squared_error: 0.0050 - val_mean_absolute_error: 0.0558\n",
            "Epoch 12/100\n",
            "32/32 [==============================] - 6s 182ms/step - loss: 0.0036 - mean_squared_error: 0.0036 - mean_absolute_error: 0.0470 - val_loss: 0.0045 - val_mean_squared_error: 0.0045 - val_mean_absolute_error: 0.0527\n",
            "Epoch 13/100\n",
            "32/32 [==============================] - 6s 177ms/step - loss: 0.0038 - mean_squared_error: 0.0038 - mean_absolute_error: 0.0491 - val_loss: 0.0079 - val_mean_squared_error: 0.0079 - val_mean_absolute_error: 0.0724\n",
            "Epoch 14/100\n",
            "32/32 [==============================] - 5s 172ms/step - loss: 0.0040 - mean_squared_error: 0.0040 - mean_absolute_error: 0.0504 - val_loss: 0.0051 - val_mean_squared_error: 0.0051 - val_mean_absolute_error: 0.0567\n",
            "Epoch 15/100\n",
            "32/32 [==============================] - 6s 177ms/step - loss: 0.0035 - mean_squared_error: 0.0035 - mean_absolute_error: 0.0470 - val_loss: 0.0058 - val_mean_squared_error: 0.0058 - val_mean_absolute_error: 0.0600\n",
            "Epoch 16/100\n",
            "32/32 [==============================] - 6s 176ms/step - loss: 0.0034 - mean_squared_error: 0.0034 - mean_absolute_error: 0.0447 - val_loss: 0.0051 - val_mean_squared_error: 0.0051 - val_mean_absolute_error: 0.0567\n",
            "Epoch 17/100\n",
            "32/32 [==============================] - 6s 180ms/step - loss: 0.0036 - mean_squared_error: 0.0036 - mean_absolute_error: 0.0479 - val_loss: 0.0046 - val_mean_squared_error: 0.0046 - val_mean_absolute_error: 0.0531\n",
            "Epoch 18/100\n",
            "32/32 [==============================] - 6s 176ms/step - loss: 0.0030 - mean_squared_error: 0.0030 - mean_absolute_error: 0.0435 - val_loss: 0.0065 - val_mean_squared_error: 0.0065 - val_mean_absolute_error: 0.0643\n",
            "Epoch 19/100\n",
            "32/32 [==============================] - 6s 176ms/step - loss: 0.0034 - mean_squared_error: 0.0034 - mean_absolute_error: 0.0465 - val_loss: 0.0042 - val_mean_squared_error: 0.0042 - val_mean_absolute_error: 0.0510\n",
            "Epoch 20/100\n",
            "32/32 [==============================] - 6s 180ms/step - loss: 0.0031 - mean_squared_error: 0.0031 - mean_absolute_error: 0.0444 - val_loss: 0.0040 - val_mean_squared_error: 0.0040 - val_mean_absolute_error: 0.0498\n",
            "Epoch 21/100\n",
            "32/32 [==============================] - 6s 180ms/step - loss: 0.0029 - mean_squared_error: 0.0029 - mean_absolute_error: 0.0427 - val_loss: 0.0043 - val_mean_squared_error: 0.0043 - val_mean_absolute_error: 0.0514\n",
            "Epoch 22/100\n",
            "32/32 [==============================] - 6s 182ms/step - loss: 0.0030 - mean_squared_error: 0.0030 - mean_absolute_error: 0.0440 - val_loss: 0.0061 - val_mean_squared_error: 0.0061 - val_mean_absolute_error: 0.0633\n",
            "Epoch 23/100\n",
            "32/32 [==============================] - 6s 186ms/step - loss: 0.0031 - mean_squared_error: 0.0031 - mean_absolute_error: 0.0443 - val_loss: 0.0038 - val_mean_squared_error: 0.0038 - val_mean_absolute_error: 0.0484\n",
            "Epoch 24/100\n",
            "32/32 [==============================] - 6s 176ms/step - loss: 0.0032 - mean_squared_error: 0.0032 - mean_absolute_error: 0.0454 - val_loss: 0.0057 - val_mean_squared_error: 0.0057 - val_mean_absolute_error: 0.0599\n",
            "Epoch 25/100\n",
            "32/32 [==============================] - 6s 182ms/step - loss: 0.0034 - mean_squared_error: 0.0034 - mean_absolute_error: 0.0461 - val_loss: 0.0040 - val_mean_squared_error: 0.0040 - val_mean_absolute_error: 0.0494\n",
            "Epoch 26/100\n",
            "32/32 [==============================] - 6s 174ms/step - loss: 0.0030 - mean_squared_error: 0.0030 - mean_absolute_error: 0.0435 - val_loss: 0.0070 - val_mean_squared_error: 0.0070 - val_mean_absolute_error: 0.0672\n",
            "Epoch 27/100\n",
            "32/32 [==============================] - 6s 173ms/step - loss: 0.0032 - mean_squared_error: 0.0032 - mean_absolute_error: 0.0448 - val_loss: 0.0049 - val_mean_squared_error: 0.0049 - val_mean_absolute_error: 0.0548\n",
            "Epoch 28/100\n",
            "32/32 [==============================] - 6s 176ms/step - loss: 0.0028 - mean_squared_error: 0.0028 - mean_absolute_error: 0.0426 - val_loss: 0.0053 - val_mean_squared_error: 0.0053 - val_mean_absolute_error: 0.0590\n",
            "Epoch 29/100\n",
            "32/32 [==============================] - 6s 180ms/step - loss: 0.0029 - mean_squared_error: 0.0029 - mean_absolute_error: 0.0426 - val_loss: 0.0049 - val_mean_squared_error: 0.0049 - val_mean_absolute_error: 0.0545\n",
            "Epoch 30/100\n",
            "32/32 [==============================] - 6s 179ms/step - loss: 0.0029 - mean_squared_error: 0.0029 - mean_absolute_error: 0.0419 - val_loss: 0.0039 - val_mean_squared_error: 0.0039 - val_mean_absolute_error: 0.0495\n",
            "Epoch 31/100\n",
            "32/32 [==============================] - 6s 175ms/step - loss: 0.0029 - mean_squared_error: 0.0029 - mean_absolute_error: 0.0422 - val_loss: 0.0037 - val_mean_squared_error: 0.0037 - val_mean_absolute_error: 0.0473\n",
            "Epoch 32/100\n",
            "32/32 [==============================] - 5s 168ms/step - loss: 0.0026 - mean_squared_error: 0.0026 - mean_absolute_error: 0.0405 - val_loss: 0.0037 - val_mean_squared_error: 0.0037 - val_mean_absolute_error: 0.0471\n",
            "Epoch 33/100\n",
            "32/32 [==============================] - 5s 171ms/step - loss: 0.0024 - mean_squared_error: 0.0024 - mean_absolute_error: 0.0387 - val_loss: 0.0035 - val_mean_squared_error: 0.0035 - val_mean_absolute_error: 0.0459\n",
            "Epoch 34/100\n",
            "32/32 [==============================] - 5s 170ms/step - loss: 0.0025 - mean_squared_error: 0.0025 - mean_absolute_error: 0.0398 - val_loss: 0.0035 - val_mean_squared_error: 0.0035 - val_mean_absolute_error: 0.0466\n",
            "Epoch 35/100\n",
            "32/32 [==============================] - 6s 175ms/step - loss: 0.0029 - mean_squared_error: 0.0029 - mean_absolute_error: 0.0423 - val_loss: 0.0051 - val_mean_squared_error: 0.0051 - val_mean_absolute_error: 0.0556\n",
            "Epoch 36/100\n",
            "32/32 [==============================] - 6s 173ms/step - loss: 0.0026 - mean_squared_error: 0.0026 - mean_absolute_error: 0.0402 - val_loss: 0.0040 - val_mean_squared_error: 0.0040 - val_mean_absolute_error: 0.0506\n",
            "Epoch 37/100\n",
            "32/32 [==============================] - 6s 176ms/step - loss: 0.0027 - mean_squared_error: 0.0027 - mean_absolute_error: 0.0408 - val_loss: 0.0042 - val_mean_squared_error: 0.0042 - val_mean_absolute_error: 0.0497\n",
            "Epoch 38/100\n",
            "32/32 [==============================] - 6s 172ms/step - loss: 0.0027 - mean_squared_error: 0.0027 - mean_absolute_error: 0.0400 - val_loss: 0.0033 - val_mean_squared_error: 0.0033 - val_mean_absolute_error: 0.0443\n",
            "Epoch 39/100\n",
            "32/32 [==============================] - 6s 177ms/step - loss: 0.0024 - mean_squared_error: 0.0024 - mean_absolute_error: 0.0391 - val_loss: 0.0046 - val_mean_squared_error: 0.0046 - val_mean_absolute_error: 0.0523\n",
            "Epoch 40/100\n",
            "32/32 [==============================] - 6s 175ms/step - loss: 0.0025 - mean_squared_error: 0.0025 - mean_absolute_error: 0.0401 - val_loss: 0.0050 - val_mean_squared_error: 0.0050 - val_mean_absolute_error: 0.0555\n",
            "Epoch 41/100\n",
            "32/32 [==============================] - 6s 174ms/step - loss: 0.0027 - mean_squared_error: 0.0027 - mean_absolute_error: 0.0418 - val_loss: 0.0034 - val_mean_squared_error: 0.0034 - val_mean_absolute_error: 0.0452\n",
            "Epoch 42/100\n",
            "32/32 [==============================] - 6s 177ms/step - loss: 0.0025 - mean_squared_error: 0.0025 - mean_absolute_error: 0.0399 - val_loss: 0.0069 - val_mean_squared_error: 0.0069 - val_mean_absolute_error: 0.0681\n",
            "Epoch 43/100\n",
            "32/32 [==============================] - 6s 186ms/step - loss: 0.0025 - mean_squared_error: 0.0025 - mean_absolute_error: 0.0394 - val_loss: 0.0032 - val_mean_squared_error: 0.0032 - val_mean_absolute_error: 0.0451\n",
            "Epoch 44/100\n",
            "32/32 [==============================] - 6s 179ms/step - loss: 0.0023 - mean_squared_error: 0.0023 - mean_absolute_error: 0.0382 - val_loss: 0.0033 - val_mean_squared_error: 0.0033 - val_mean_absolute_error: 0.0441\n",
            "Epoch 45/100\n",
            "32/32 [==============================] - 6s 175ms/step - loss: 0.0025 - mean_squared_error: 0.0025 - mean_absolute_error: 0.0388 - val_loss: 0.0034 - val_mean_squared_error: 0.0034 - val_mean_absolute_error: 0.0471\n",
            "Epoch 46/100\n",
            "32/32 [==============================] - 6s 174ms/step - loss: 0.0026 - mean_squared_error: 0.0026 - mean_absolute_error: 0.0402 - val_loss: 0.0049 - val_mean_squared_error: 0.0049 - val_mean_absolute_error: 0.0550\n",
            "Epoch 47/100\n",
            "32/32 [==============================] - 6s 174ms/step - loss: 0.0025 - mean_squared_error: 0.0025 - mean_absolute_error: 0.0391 - val_loss: 0.0031 - val_mean_squared_error: 0.0031 - val_mean_absolute_error: 0.0431\n",
            "Epoch 48/100\n",
            "32/32 [==============================] - 6s 178ms/step - loss: 0.0022 - mean_squared_error: 0.0022 - mean_absolute_error: 0.0373 - val_loss: 0.0032 - val_mean_squared_error: 0.0032 - val_mean_absolute_error: 0.0437\n",
            "Epoch 49/100\n",
            "32/32 [==============================] - 6s 178ms/step - loss: 0.0024 - mean_squared_error: 0.0024 - mean_absolute_error: 0.0381 - val_loss: 0.0031 - val_mean_squared_error: 0.0031 - val_mean_absolute_error: 0.0429\n",
            "Epoch 50/100\n",
            "32/32 [==============================] - 5s 168ms/step - loss: 0.0022 - mean_squared_error: 0.0022 - mean_absolute_error: 0.0372 - val_loss: 0.0030 - val_mean_squared_error: 0.0030 - val_mean_absolute_error: 0.0426\n",
            "Epoch 51/100\n",
            "32/32 [==============================] - 6s 174ms/step - loss: 0.0023 - mean_squared_error: 0.0023 - mean_absolute_error: 0.0380 - val_loss: 0.0042 - val_mean_squared_error: 0.0042 - val_mean_absolute_error: 0.0503\n",
            "Epoch 52/100\n",
            "32/32 [==============================] - 6s 176ms/step - loss: 0.0023 - mean_squared_error: 0.0023 - mean_absolute_error: 0.0388 - val_loss: 0.0029 - val_mean_squared_error: 0.0029 - val_mean_absolute_error: 0.0420\n",
            "Epoch 53/100\n",
            "32/32 [==============================] - 6s 175ms/step - loss: 0.0023 - mean_squared_error: 0.0023 - mean_absolute_error: 0.0381 - val_loss: 0.0032 - val_mean_squared_error: 0.0032 - val_mean_absolute_error: 0.0436\n",
            "Epoch 54/100\n",
            "32/32 [==============================] - 6s 181ms/step - loss: 0.0022 - mean_squared_error: 0.0022 - mean_absolute_error: 0.0366 - val_loss: 0.0032 - val_mean_squared_error: 0.0032 - val_mean_absolute_error: 0.0434\n",
            "Epoch 55/100\n",
            "32/32 [==============================] - 6s 183ms/step - loss: 0.0022 - mean_squared_error: 0.0022 - mean_absolute_error: 0.0365 - val_loss: 0.0040 - val_mean_squared_error: 0.0040 - val_mean_absolute_error: 0.0487\n",
            "Epoch 56/100\n",
            "32/32 [==============================] - 5s 171ms/step - loss: 0.0022 - mean_squared_error: 0.0022 - mean_absolute_error: 0.0375 - val_loss: 0.0029 - val_mean_squared_error: 0.0029 - val_mean_absolute_error: 0.0418\n",
            "Epoch 57/100\n",
            "32/32 [==============================] - 6s 176ms/step - loss: 0.0022 - mean_squared_error: 0.0022 - mean_absolute_error: 0.0373 - val_loss: 0.0029 - val_mean_squared_error: 0.0029 - val_mean_absolute_error: 0.0417\n",
            "Epoch 58/100\n",
            "32/32 [==============================] - 6s 184ms/step - loss: 0.0022 - mean_squared_error: 0.0022 - mean_absolute_error: 0.0367 - val_loss: 0.0036 - val_mean_squared_error: 0.0036 - val_mean_absolute_error: 0.0462\n",
            "Epoch 59/100\n",
            "32/32 [==============================] - 6s 181ms/step - loss: 0.0022 - mean_squared_error: 0.0022 - mean_absolute_error: 0.0363 - val_loss: 0.0029 - val_mean_squared_error: 0.0029 - val_mean_absolute_error: 0.0422\n",
            "Epoch 60/100\n",
            "32/32 [==============================] - 6s 174ms/step - loss: 0.0020 - mean_squared_error: 0.0020 - mean_absolute_error: 0.0356 - val_loss: 0.0056 - val_mean_squared_error: 0.0056 - val_mean_absolute_error: 0.0598\n",
            "Epoch 61/100\n",
            "32/32 [==============================] - 6s 172ms/step - loss: 0.0023 - mean_squared_error: 0.0023 - mean_absolute_error: 0.0370 - val_loss: 0.0044 - val_mean_squared_error: 0.0044 - val_mean_absolute_error: 0.0517\n",
            "Epoch 62/100\n",
            "32/32 [==============================] - 6s 177ms/step - loss: 0.0021 - mean_squared_error: 0.0021 - mean_absolute_error: 0.0366 - val_loss: 0.0051 - val_mean_squared_error: 0.0051 - val_mean_absolute_error: 0.0575\n",
            "Epoch 63/100\n",
            "32/32 [==============================] - 6s 175ms/step - loss: 0.0022 - mean_squared_error: 0.0022 - mean_absolute_error: 0.0367 - val_loss: 0.0029 - val_mean_squared_error: 0.0029 - val_mean_absolute_error: 0.0417\n",
            "Epoch 64/100\n",
            "32/32 [==============================] - 6s 174ms/step - loss: 0.0022 - mean_squared_error: 0.0022 - mean_absolute_error: 0.0371 - val_loss: 0.0028 - val_mean_squared_error: 0.0028 - val_mean_absolute_error: 0.0409\n",
            "Epoch 65/100\n",
            "32/32 [==============================] - 5s 172ms/step - loss: 0.0023 - mean_squared_error: 0.0023 - mean_absolute_error: 0.0376 - val_loss: 0.0027 - val_mean_squared_error: 0.0027 - val_mean_absolute_error: 0.0403\n",
            "Epoch 66/100\n",
            "32/32 [==============================] - 6s 179ms/step - loss: 0.0020 - mean_squared_error: 0.0020 - mean_absolute_error: 0.0353 - val_loss: 0.0039 - val_mean_squared_error: 0.0039 - val_mean_absolute_error: 0.0485\n",
            "Epoch 67/100\n",
            "32/32 [==============================] - 6s 179ms/step - loss: 0.0024 - mean_squared_error: 0.0024 - mean_absolute_error: 0.0378 - val_loss: 0.0026 - val_mean_squared_error: 0.0026 - val_mean_absolute_error: 0.0400\n",
            "Epoch 68/100\n",
            "32/32 [==============================] - 6s 176ms/step - loss: 0.0021 - mean_squared_error: 0.0021 - mean_absolute_error: 0.0357 - val_loss: 0.0028 - val_mean_squared_error: 0.0028 - val_mean_absolute_error: 0.0407\n",
            "Epoch 69/100\n",
            "32/32 [==============================] - 6s 176ms/step - loss: 0.0019 - mean_squared_error: 0.0019 - mean_absolute_error: 0.0350 - val_loss: 0.0029 - val_mean_squared_error: 0.0029 - val_mean_absolute_error: 0.0414\n",
            "Epoch 70/100\n",
            "32/32 [==============================] - 6s 176ms/step - loss: 0.0020 - mean_squared_error: 0.0020 - mean_absolute_error: 0.0356 - val_loss: 0.0032 - val_mean_squared_error: 0.0032 - val_mean_absolute_error: 0.0435\n",
            "Epoch 71/100\n",
            "32/32 [==============================] - 6s 180ms/step - loss: 0.0021 - mean_squared_error: 0.0021 - mean_absolute_error: 0.0357 - val_loss: 0.0032 - val_mean_squared_error: 0.0032 - val_mean_absolute_error: 0.0437\n",
            "Epoch 72/100\n",
            "32/32 [==============================] - 6s 182ms/step - loss: 0.0020 - mean_squared_error: 0.0020 - mean_absolute_error: 0.0354 - val_loss: 0.0026 - val_mean_squared_error: 0.0026 - val_mean_absolute_error: 0.0394\n",
            "Epoch 73/100\n",
            "32/32 [==============================] - 6s 176ms/step - loss: 0.0019 - mean_squared_error: 0.0019 - mean_absolute_error: 0.0344 - val_loss: 0.0028 - val_mean_squared_error: 0.0028 - val_mean_absolute_error: 0.0420\n",
            "Epoch 74/100\n",
            "32/32 [==============================] - 6s 177ms/step - loss: 0.0019 - mean_squared_error: 0.0019 - mean_absolute_error: 0.0344 - val_loss: 0.0028 - val_mean_squared_error: 0.0028 - val_mean_absolute_error: 0.0408\n",
            "Epoch 75/100\n",
            "32/32 [==============================] - 6s 175ms/step - loss: 0.0018 - mean_squared_error: 0.0018 - mean_absolute_error: 0.0348 - val_loss: 0.0029 - val_mean_squared_error: 0.0029 - val_mean_absolute_error: 0.0431\n",
            "Epoch 76/100\n",
            "32/32 [==============================] - 6s 183ms/step - loss: 0.0019 - mean_squared_error: 0.0019 - mean_absolute_error: 0.0345 - val_loss: 0.0027 - val_mean_squared_error: 0.0027 - val_mean_absolute_error: 0.0401\n",
            "Epoch 77/100\n",
            "32/32 [==============================] - 6s 174ms/step - loss: 0.0020 - mean_squared_error: 0.0020 - mean_absolute_error: 0.0350 - val_loss: 0.0027 - val_mean_squared_error: 0.0027 - val_mean_absolute_error: 0.0401\n",
            "Epoch 78/100\n",
            "32/32 [==============================] - 5s 172ms/step - loss: 0.0019 - mean_squared_error: 0.0019 - mean_absolute_error: 0.0348 - val_loss: 0.0050 - val_mean_squared_error: 0.0050 - val_mean_absolute_error: 0.0573\n",
            "Epoch 79/100\n",
            "32/32 [==============================] - 6s 173ms/step - loss: 0.0020 - mean_squared_error: 0.0020 - mean_absolute_error: 0.0353 - val_loss: 0.0032 - val_mean_squared_error: 0.0032 - val_mean_absolute_error: 0.0432\n",
            "Epoch 80/100\n",
            "32/32 [==============================] - 6s 177ms/step - loss: 0.0019 - mean_squared_error: 0.0019 - mean_absolute_error: 0.0334 - val_loss: 0.0032 - val_mean_squared_error: 0.0032 - val_mean_absolute_error: 0.0465\n",
            "Epoch 81/100\n",
            "32/32 [==============================] - 6s 179ms/step - loss: 0.0019 - mean_squared_error: 0.0019 - mean_absolute_error: 0.0338 - val_loss: 0.0025 - val_mean_squared_error: 0.0025 - val_mean_absolute_error: 0.0387\n",
            "Epoch 82/100\n",
            "32/32 [==============================] - 6s 179ms/step - loss: 0.0017 - mean_squared_error: 0.0017 - mean_absolute_error: 0.0331 - val_loss: 0.0024 - val_mean_squared_error: 0.0024 - val_mean_absolute_error: 0.0383\n",
            "Epoch 83/100\n",
            "32/32 [==============================] - 6s 181ms/step - loss: 0.0017 - mean_squared_error: 0.0017 - mean_absolute_error: 0.0330 - val_loss: 0.0028 - val_mean_squared_error: 0.0028 - val_mean_absolute_error: 0.0410\n",
            "Epoch 84/100\n",
            "32/32 [==============================] - 6s 181ms/step - loss: 0.0019 - mean_squared_error: 0.0019 - mean_absolute_error: 0.0342 - val_loss: 0.0026 - val_mean_squared_error: 0.0026 - val_mean_absolute_error: 0.0396\n",
            "Epoch 85/100\n",
            "32/32 [==============================] - 6s 175ms/step - loss: 0.0018 - mean_squared_error: 0.0018 - mean_absolute_error: 0.0337 - val_loss: 0.0024 - val_mean_squared_error: 0.0024 - val_mean_absolute_error: 0.0386\n",
            "Epoch 86/100\n",
            "32/32 [==============================] - 5s 169ms/step - loss: 0.0018 - mean_squared_error: 0.0018 - mean_absolute_error: 0.0332 - val_loss: 0.0023 - val_mean_squared_error: 0.0023 - val_mean_absolute_error: 0.0381\n",
            "Epoch 87/100\n",
            "32/32 [==============================] - 6s 174ms/step - loss: 0.0020 - mean_squared_error: 0.0020 - mean_absolute_error: 0.0351 - val_loss: 0.0025 - val_mean_squared_error: 0.0025 - val_mean_absolute_error: 0.0395\n",
            "Epoch 88/100\n",
            "32/32 [==============================] - 5s 170ms/step - loss: 0.0018 - mean_squared_error: 0.0018 - mean_absolute_error: 0.0341 - val_loss: 0.0024 - val_mean_squared_error: 0.0024 - val_mean_absolute_error: 0.0382\n",
            "Epoch 89/100\n",
            "32/32 [==============================] - 5s 167ms/step - loss: 0.0021 - mean_squared_error: 0.0021 - mean_absolute_error: 0.0361 - val_loss: 0.0027 - val_mean_squared_error: 0.0027 - val_mean_absolute_error: 0.0401\n",
            "Epoch 90/100\n",
            "32/32 [==============================] - 5s 172ms/step - loss: 0.0017 - mean_squared_error: 0.0017 - mean_absolute_error: 0.0320 - val_loss: 0.0023 - val_mean_squared_error: 0.0023 - val_mean_absolute_error: 0.0379\n",
            "Epoch 91/100\n",
            "32/32 [==============================] - 6s 176ms/step - loss: 0.0018 - mean_squared_error: 0.0018 - mean_absolute_error: 0.0329 - val_loss: 0.0025 - val_mean_squared_error: 0.0025 - val_mean_absolute_error: 0.0397\n",
            "Epoch 92/100\n",
            "32/32 [==============================] - 5s 173ms/step - loss: 0.0017 - mean_squared_error: 0.0017 - mean_absolute_error: 0.0325 - val_loss: 0.0037 - val_mean_squared_error: 0.0037 - val_mean_absolute_error: 0.0475\n",
            "Epoch 93/100\n",
            "32/32 [==============================] - 6s 181ms/step - loss: 0.0017 - mean_squared_error: 0.0017 - mean_absolute_error: 0.0321 - val_loss: 0.0026 - val_mean_squared_error: 0.0026 - val_mean_absolute_error: 0.0403\n",
            "Epoch 94/100\n",
            "32/32 [==============================] - 6s 179ms/step - loss: 0.0020 - mean_squared_error: 0.0020 - mean_absolute_error: 0.0353 - val_loss: 0.0029 - val_mean_squared_error: 0.0029 - val_mean_absolute_error: 0.0415\n",
            "Epoch 95/100\n",
            "32/32 [==============================] - 6s 175ms/step - loss: 0.0017 - mean_squared_error: 0.0017 - mean_absolute_error: 0.0325 - val_loss: 0.0026 - val_mean_squared_error: 0.0026 - val_mean_absolute_error: 0.0392\n",
            "Epoch 96/100\n",
            "32/32 [==============================] - 6s 178ms/step - loss: 0.0017 - mean_squared_error: 0.0017 - mean_absolute_error: 0.0320 - val_loss: 0.0023 - val_mean_squared_error: 0.0023 - val_mean_absolute_error: 0.0378\n",
            "Epoch 97/100\n",
            "32/32 [==============================] - 6s 179ms/step - loss: 0.0017 - mean_squared_error: 0.0017 - mean_absolute_error: 0.0336 - val_loss: 0.0023 - val_mean_squared_error: 0.0023 - val_mean_absolute_error: 0.0375\n",
            "Epoch 98/100\n",
            "32/32 [==============================] - 5s 171ms/step - loss: 0.0017 - mean_squared_error: 0.0017 - mean_absolute_error: 0.0320 - val_loss: 0.0023 - val_mean_squared_error: 0.0023 - val_mean_absolute_error: 0.0376\n",
            "Epoch 99/100\n",
            "32/32 [==============================] - 6s 172ms/step - loss: 0.0016 - mean_squared_error: 0.0016 - mean_absolute_error: 0.0309 - val_loss: 0.0023 - val_mean_squared_error: 0.0023 - val_mean_absolute_error: 0.0381\n",
            "Epoch 100/100\n",
            "32/32 [==============================] - 6s 174ms/step - loss: 0.0019 - mean_squared_error: 0.0019 - mean_absolute_error: 0.0339 - val_loss: 0.0022 - val_mean_squared_error: 0.0022 - val_mean_absolute_error: 0.0372\n"
          ],
          "name": "stdout"
        },
        {
          "output_type": "display_data",
          "data": {
            "text/html": [
              "<br/>Waiting for W&B process to finish, PID 6830<br/>Program ended successfully."
            ],
            "text/plain": [
              "<IPython.core.display.HTML object>"
            ]
          },
          "metadata": {
            "tags": []
          }
        },
        {
          "output_type": "display_data",
          "data": {
            "application/vnd.jupyter.widget-view+json": {
              "model_id": "aaea61287be04228b28ea21a713617ed",
              "version_minor": 0,
              "version_major": 2
            },
            "text/plain": [
              "VBox(children=(Label(value=' 0.81MB of 0.81MB uploaded (0.00MB deduped)\\r'), FloatProgress(value=1.0, max=1.0)…"
            ]
          },
          "metadata": {
            "tags": []
          }
        },
        {
          "output_type": "display_data",
          "data": {
            "text/html": [
              "Find user logs for this run at: <code>/content/feeder_repo/wandb/run-20210718_202932-6tm31j40/logs/debug.log</code>"
            ],
            "text/plain": [
              "<IPython.core.display.HTML object>"
            ]
          },
          "metadata": {
            "tags": []
          }
        },
        {
          "output_type": "display_data",
          "data": {
            "text/html": [
              "Find internal logs for this run at: <code>/content/feeder_repo/wandb/run-20210718_202932-6tm31j40/logs/debug-internal.log</code>"
            ],
            "text/plain": [
              "<IPython.core.display.HTML object>"
            ]
          },
          "metadata": {
            "tags": []
          }
        },
        {
          "output_type": "display_data",
          "data": {
            "text/html": [
              "<h3>Run summary:</h3><br/><style>\n",
              "    table.wandb td:nth-child(1) { padding: 0 10px; text-align: right }\n",
              "    </style><table class=\"wandb\">\n",
              "<tr><td>epoch</td><td>99</td></tr><tr><td>loss</td><td>0.00171</td></tr><tr><td>mean_squared_error</td><td>0.00171</td></tr><tr><td>mean_absolute_error</td><td>0.03239</td></tr><tr><td>val_loss</td><td>0.00223</td></tr><tr><td>val_mean_squared_error</td><td>0.00223</td></tr><tr><td>val_mean_absolute_error</td><td>0.03718</td></tr><tr><td>_runtime</td><td>577</td></tr><tr><td>_timestamp</td><td>1626640749</td></tr><tr><td>_step</td><td>99</td></tr><tr><td>best_val_loss</td><td>0.00223</td></tr><tr><td>best_epoch</td><td>99</td></tr></table>"
            ],
            "text/plain": [
              "<IPython.core.display.HTML object>"
            ]
          },
          "metadata": {
            "tags": []
          }
        },
        {
          "output_type": "display_data",
          "data": {
            "text/html": [
              "<h3>Run history:</h3><br/><style>\n",
              "    table.wandb td:nth-child(1) { padding: 0 10px; text-align: right }\n",
              "    </style><table class=\"wandb\">\n",
              "<tr><td>epoch</td><td>▁▁▁▁▂▂▂▂▂▃▃▃▃▃▃▄▄▄▄▄▅▅▅▅▅▅▆▆▆▆▆▇▇▇▇▇▇███</td></tr><tr><td>loss</td><td>█▁▁▁▁▁▁▁▁▁▁▁▁▁▁▁▁▁▁▁▁▁▁▁▁▁▁▁▁▁▁▁▁▁▁▁▁▁▁▁</td></tr><tr><td>mean_squared_error</td><td>█▁▁▁▁▁▁▁▁▁▁▁▁▁▁▁▁▁▁▁▁▁▁▁▁▁▁▁▁▁▁▁▁▁▁▁▁▁▁▁</td></tr><tr><td>mean_absolute_error</td><td>█▂▂▂▂▂▂▂▂▁▁▁▁▁▁▁▁▁▁▁▁▁▁▁▁▁▁▁▁▁▁▁▁▁▁▁▁▁▁▁</td></tr><tr><td>val_loss</td><td>█▆▄▄▄▆▄▅▃▃▆▄▂▂▃▃▂▂▄▂▃▂▂▂▃▂▁▂▁▂▁▂▁▁▁▁▂▂▁▁</td></tr><tr><td>val_mean_squared_error</td><td>█▆▄▄▄▆▄▅▃▃▆▄▂▂▃▃▂▂▄▂▃▂▂▂▃▂▁▂▁▂▁▂▁▁▁▁▂▂▁▁</td></tr><tr><td>val_mean_absolute_error</td><td>█▇▅▅▄▇▄▆▃▃▆▅▃▃▃▄▂▂▄▂▃▂▂▂▄▂▁▂▁▂▂▂▁▁▁▂▃▂▁▁</td></tr><tr><td>_runtime</td><td>▁▁▁▁▂▂▂▂▂▃▃▃▃▃▃▄▄▄▄▄▅▅▅▅▅▅▆▆▆▆▆▇▇▇▇▇▇███</td></tr><tr><td>_timestamp</td><td>▁▁▁▁▂▂▂▂▂▃▃▃▃▃▃▄▄▄▄▄▅▅▅▅▅▅▆▆▆▆▆▇▇▇▇▇▇███</td></tr><tr><td>_step</td><td>▁▁▁▁▂▂▂▂▂▃▃▃▃▃▃▄▄▄▄▄▅▅▅▅▅▅▆▆▆▆▆▇▇▇▇▇▇███</td></tr></table><br/>"
            ],
            "text/plain": [
              "<IPython.core.display.HTML object>"
            ]
          },
          "metadata": {
            "tags": []
          }
        },
        {
          "output_type": "display_data",
          "data": {
            "text/html": [
              "Synced 5 W&B file(s), 1 media file(s), 2 artifact file(s) and 2 other file(s)"
            ],
            "text/plain": [
              "<IPython.core.display.HTML object>"
            ]
          },
          "metadata": {
            "tags": []
          }
        },
        {
          "output_type": "display_data",
          "data": {
            "text/html": [
              "\n",
              "                    <br/>Synced <strong style=\"color:#cdcd00\">ethereal-sweep-25</strong>: <a href=\"https://wandb.ai/acse-jaq15/ACSE_9_LSTM_GRU/runs/6tm31j40\" target=\"_blank\">https://wandb.ai/acse-jaq15/ACSE_9_LSTM_GRU/runs/6tm31j40</a><br/>\n",
              "                "
            ],
            "text/plain": [
              "<IPython.core.display.HTML object>"
            ]
          },
          "metadata": {
            "tags": []
          }
        },
        {
          "output_type": "stream",
          "text": [
            "\u001b[34m\u001b[1mwandb\u001b[0m: Agent Starting Run: jfkbsbwl with config:\n",
            "\u001b[34m\u001b[1mwandb\u001b[0m: \tactivation: selu\n",
            "\u001b[34m\u001b[1mwandb\u001b[0m: \tbatch_size: 128\n",
            "\u001b[34m\u001b[1mwandb\u001b[0m: \tdropout: 0.1\n",
            "\u001b[34m\u001b[1mwandb\u001b[0m: \tepochs: 200\n",
            "\u001b[34m\u001b[1mwandb\u001b[0m: \tlearning_rate: 0.005\n",
            "\u001b[34m\u001b[1mwandb\u001b[0m: \toptimizer: adam\n"
          ],
          "name": "stderr"
        },
        {
          "output_type": "display_data",
          "data": {
            "text/html": [
              "\n",
              "                Tracking run with wandb version 0.11.0<br/>\n",
              "                Syncing run <strong style=\"color:#cdcd00\">fancy-sweep-26</strong> to <a href=\"https://wandb.ai\" target=\"_blank\">Weights & Biases</a> <a href=\"https://docs.wandb.com/integrations/jupyter.html\" target=\"_blank\">(Documentation)</a>.<br/>\n",
              "                Project page: <a href=\"https://wandb.ai/acse-jaq15/ACSE_9_LSTM_GRU\" target=\"_blank\">https://wandb.ai/acse-jaq15/ACSE_9_LSTM_GRU</a><br/>\n",
              "                Sweep page: <a href=\"https://wandb.ai/acse-jaq15/ACSE_9_LSTM_GRU/sweeps/amj4ayh1\" target=\"_blank\">https://wandb.ai/acse-jaq15/ACSE_9_LSTM_GRU/sweeps/amj4ayh1</a><br/>\n",
              "Run page: <a href=\"https://wandb.ai/acse-jaq15/ACSE_9_LSTM_GRU/runs/jfkbsbwl\" target=\"_blank\">https://wandb.ai/acse-jaq15/ACSE_9_LSTM_GRU/runs/jfkbsbwl</a><br/>\n",
              "                Run data is saved locally in <code>/content/feeder_repo/wandb/run-20210718_203922-jfkbsbwl</code><br/><br/>\n",
              "            "
            ],
            "text/plain": [
              "<IPython.core.display.HTML object>"
            ]
          },
          "metadata": {
            "tags": []
          }
        },
        {
          "output_type": "stream",
          "text": [
            "WARNING:tensorflow:Layer lstm will not use cuDNN kernels since it doesn't meet the criteria. It will use a generic GPU kernel as fallback when running on GPU.\n",
            "WARNING:tensorflow:Layer gru will not use cuDNN kernels since it doesn't meet the criteria. It will use a generic GPU kernel as fallback when running on GPU.\n",
            "Epoch 1/200\n",
            "8/8 [==============================] - 7s 333ms/step - loss: 0.3945 - mean_squared_error: 0.3945 - mean_absolute_error: 0.4834 - val_loss: 0.0930 - val_mean_squared_error: 0.0930 - val_mean_absolute_error: 0.2900\n",
            "Epoch 2/200\n",
            "8/8 [==============================] - 1s 187ms/step - loss: 0.0296 - mean_squared_error: 0.0296 - mean_absolute_error: 0.1408 - val_loss: 0.0240 - val_mean_squared_error: 0.0240 - val_mean_absolute_error: 0.1368\n",
            "Epoch 3/200\n",
            "8/8 [==============================] - 1s 181ms/step - loss: 0.0093 - mean_squared_error: 0.0093 - mean_absolute_error: 0.0773 - val_loss: 0.0133 - val_mean_squared_error: 0.0133 - val_mean_absolute_error: 0.0971\n",
            "Epoch 4/200\n",
            "8/8 [==============================] - 1s 184ms/step - loss: 0.0064 - mean_squared_error: 0.0064 - mean_absolute_error: 0.0642 - val_loss: 0.0048 - val_mean_squared_error: 0.0048 - val_mean_absolute_error: 0.0538\n",
            "Epoch 5/200\n",
            "8/8 [==============================] - 1s 179ms/step - loss: 0.0035 - mean_squared_error: 0.0035 - mean_absolute_error: 0.0469 - val_loss: 0.0042 - val_mean_squared_error: 0.0042 - val_mean_absolute_error: 0.0503\n",
            "Epoch 6/200\n",
            "8/8 [==============================] - 1s 188ms/step - loss: 0.0032 - mean_squared_error: 0.0032 - mean_absolute_error: 0.0453 - val_loss: 0.0040 - val_mean_squared_error: 0.0040 - val_mean_absolute_error: 0.0495\n",
            "Epoch 7/200\n",
            "8/8 [==============================] - 2s 200ms/step - loss: 0.0028 - mean_squared_error: 0.0028 - mean_absolute_error: 0.0426 - val_loss: 0.0040 - val_mean_squared_error: 0.0040 - val_mean_absolute_error: 0.0494\n",
            "Epoch 8/200\n",
            "8/8 [==============================] - 1s 186ms/step - loss: 0.0023 - mean_squared_error: 0.0023 - mean_absolute_error: 0.0377 - val_loss: 0.0038 - val_mean_squared_error: 0.0038 - val_mean_absolute_error: 0.0476\n",
            "Epoch 9/200\n",
            "8/8 [==============================] - 1s 178ms/step - loss: 0.0026 - mean_squared_error: 0.0026 - mean_absolute_error: 0.0409 - val_loss: 0.0036 - val_mean_squared_error: 0.0036 - val_mean_absolute_error: 0.0470\n",
            "Epoch 10/200\n",
            "8/8 [==============================] - 1s 182ms/step - loss: 0.0025 - mean_squared_error: 0.0025 - mean_absolute_error: 0.0400 - val_loss: 0.0037 - val_mean_squared_error: 0.0037 - val_mean_absolute_error: 0.0468\n",
            "Epoch 11/200\n",
            "8/8 [==============================] - 1s 182ms/step - loss: 0.0025 - mean_squared_error: 0.0025 - mean_absolute_error: 0.0389 - val_loss: 0.0038 - val_mean_squared_error: 0.0038 - val_mean_absolute_error: 0.0480\n",
            "Epoch 12/200\n",
            "8/8 [==============================] - 2s 191ms/step - loss: 0.0024 - mean_squared_error: 0.0024 - mean_absolute_error: 0.0377 - val_loss: 0.0035 - val_mean_squared_error: 0.0035 - val_mean_absolute_error: 0.0460\n",
            "Epoch 13/200\n",
            "8/8 [==============================] - 1s 182ms/step - loss: 0.0023 - mean_squared_error: 0.0023 - mean_absolute_error: 0.0374 - val_loss: 0.0036 - val_mean_squared_error: 0.0036 - val_mean_absolute_error: 0.0463\n",
            "Epoch 14/200\n",
            "8/8 [==============================] - 1s 172ms/step - loss: 0.0022 - mean_squared_error: 0.0022 - mean_absolute_error: 0.0368 - val_loss: 0.0035 - val_mean_squared_error: 0.0035 - val_mean_absolute_error: 0.0460\n",
            "Epoch 15/200\n",
            "8/8 [==============================] - 1s 168ms/step - loss: 0.0023 - mean_squared_error: 0.0023 - mean_absolute_error: 0.0368 - val_loss: 0.0035 - val_mean_squared_error: 0.0035 - val_mean_absolute_error: 0.0454\n",
            "Epoch 16/200\n",
            "8/8 [==============================] - 1s 182ms/step - loss: 0.0023 - mean_squared_error: 0.0023 - mean_absolute_error: 0.0382 - val_loss: 0.0033 - val_mean_squared_error: 0.0033 - val_mean_absolute_error: 0.0446\n",
            "Epoch 17/200\n",
            "8/8 [==============================] - 1s 169ms/step - loss: 0.0022 - mean_squared_error: 0.0022 - mean_absolute_error: 0.0366 - val_loss: 0.0033 - val_mean_squared_error: 0.0033 - val_mean_absolute_error: 0.0451\n",
            "Epoch 18/200\n",
            "8/8 [==============================] - 1s 170ms/step - loss: 0.0021 - mean_squared_error: 0.0021 - mean_absolute_error: 0.0370 - val_loss: 0.0033 - val_mean_squared_error: 0.0033 - val_mean_absolute_error: 0.0443\n",
            "Epoch 19/200\n",
            "8/8 [==============================] - 1s 183ms/step - loss: 0.0020 - mean_squared_error: 0.0020 - mean_absolute_error: 0.0361 - val_loss: 0.0034 - val_mean_squared_error: 0.0034 - val_mean_absolute_error: 0.0450\n",
            "Epoch 20/200\n",
            "8/8 [==============================] - 2s 198ms/step - loss: 0.0021 - mean_squared_error: 0.0021 - mean_absolute_error: 0.0360 - val_loss: 0.0031 - val_mean_squared_error: 0.0031 - val_mean_absolute_error: 0.0432\n",
            "Epoch 21/200\n",
            "8/8 [==============================] - 1s 183ms/step - loss: 0.0023 - mean_squared_error: 0.0023 - mean_absolute_error: 0.0376 - val_loss: 0.0030 - val_mean_squared_error: 0.0030 - val_mean_absolute_error: 0.0430\n",
            "Epoch 22/200\n",
            "8/8 [==============================] - 1s 173ms/step - loss: 0.0020 - mean_squared_error: 0.0020 - mean_absolute_error: 0.0353 - val_loss: 0.0031 - val_mean_squared_error: 0.0031 - val_mean_absolute_error: 0.0428\n",
            "Epoch 23/200\n",
            "8/8 [==============================] - 1s 178ms/step - loss: 0.0021 - mean_squared_error: 0.0021 - mean_absolute_error: 0.0370 - val_loss: 0.0030 - val_mean_squared_error: 0.0030 - val_mean_absolute_error: 0.0426\n",
            "Epoch 24/200\n",
            "8/8 [==============================] - 1s 173ms/step - loss: 0.0020 - mean_squared_error: 0.0020 - mean_absolute_error: 0.0343 - val_loss: 0.0029 - val_mean_squared_error: 0.0029 - val_mean_absolute_error: 0.0421\n",
            "Epoch 25/200\n",
            "8/8 [==============================] - 1s 176ms/step - loss: 0.0019 - mean_squared_error: 0.0019 - mean_absolute_error: 0.0346 - val_loss: 0.0028 - val_mean_squared_error: 0.0028 - val_mean_absolute_error: 0.0417\n",
            "Epoch 26/200\n",
            "8/8 [==============================] - 1s 176ms/step - loss: 0.0020 - mean_squared_error: 0.0020 - mean_absolute_error: 0.0348 - val_loss: 0.0030 - val_mean_squared_error: 0.0030 - val_mean_absolute_error: 0.0421\n",
            "Epoch 27/200\n",
            "8/8 [==============================] - 1s 176ms/step - loss: 0.0018 - mean_squared_error: 0.0018 - mean_absolute_error: 0.0338 - val_loss: 0.0028 - val_mean_squared_error: 0.0028 - val_mean_absolute_error: 0.0411\n",
            "Epoch 28/200\n",
            "8/8 [==============================] - 1s 184ms/step - loss: 0.0018 - mean_squared_error: 0.0018 - mean_absolute_error: 0.0339 - val_loss: 0.0028 - val_mean_squared_error: 0.0028 - val_mean_absolute_error: 0.0418\n",
            "Epoch 29/200\n",
            "8/8 [==============================] - 1s 180ms/step - loss: 0.0019 - mean_squared_error: 0.0019 - mean_absolute_error: 0.0342 - val_loss: 0.0029 - val_mean_squared_error: 0.0029 - val_mean_absolute_error: 0.0416\n",
            "Epoch 30/200\n",
            "8/8 [==============================] - 1s 183ms/step - loss: 0.0019 - mean_squared_error: 0.0019 - mean_absolute_error: 0.0348 - val_loss: 0.0028 - val_mean_squared_error: 0.0028 - val_mean_absolute_error: 0.0411\n",
            "Epoch 31/200\n",
            "8/8 [==============================] - 1s 190ms/step - loss: 0.0018 - mean_squared_error: 0.0018 - mean_absolute_error: 0.0330 - val_loss: 0.0027 - val_mean_squared_error: 0.0027 - val_mean_absolute_error: 0.0413\n",
            "Epoch 32/200\n",
            "8/8 [==============================] - 1s 167ms/step - loss: 0.0019 - mean_squared_error: 0.0019 - mean_absolute_error: 0.0343 - val_loss: 0.0028 - val_mean_squared_error: 0.0028 - val_mean_absolute_error: 0.0409\n",
            "Epoch 33/200\n",
            "8/8 [==============================] - 1s 162ms/step - loss: 0.0017 - mean_squared_error: 0.0017 - mean_absolute_error: 0.0331 - val_loss: 0.0026 - val_mean_squared_error: 0.0026 - val_mean_absolute_error: 0.0402\n",
            "Epoch 34/200\n",
            "8/8 [==============================] - 1s 170ms/step - loss: 0.0018 - mean_squared_error: 0.0018 - mean_absolute_error: 0.0336 - val_loss: 0.0025 - val_mean_squared_error: 0.0025 - val_mean_absolute_error: 0.0400\n",
            "Epoch 35/200\n",
            "8/8 [==============================] - 1s 176ms/step - loss: 0.0017 - mean_squared_error: 0.0017 - mean_absolute_error: 0.0331 - val_loss: 0.0025 - val_mean_squared_error: 0.0025 - val_mean_absolute_error: 0.0396\n",
            "Epoch 36/200\n",
            "8/8 [==============================] - 1s 170ms/step - loss: 0.0018 - mean_squared_error: 0.0018 - mean_absolute_error: 0.0335 - val_loss: 0.0026 - val_mean_squared_error: 0.0026 - val_mean_absolute_error: 0.0399\n",
            "Epoch 37/200\n",
            "8/8 [==============================] - 1s 183ms/step - loss: 0.0019 - mean_squared_error: 0.0019 - mean_absolute_error: 0.0340 - val_loss: 0.0026 - val_mean_squared_error: 0.0026 - val_mean_absolute_error: 0.0401\n",
            "Epoch 38/200\n",
            "8/8 [==============================] - 1s 179ms/step - loss: 0.0018 - mean_squared_error: 0.0018 - mean_absolute_error: 0.0335 - val_loss: 0.0025 - val_mean_squared_error: 0.0025 - val_mean_absolute_error: 0.0396\n",
            "Epoch 39/200\n",
            "8/8 [==============================] - 1s 169ms/step - loss: 0.0017 - mean_squared_error: 0.0017 - mean_absolute_error: 0.0323 - val_loss: 0.0025 - val_mean_squared_error: 0.0025 - val_mean_absolute_error: 0.0395\n",
            "Epoch 40/200\n",
            "8/8 [==============================] - 1s 177ms/step - loss: 0.0018 - mean_squared_error: 0.0018 - mean_absolute_error: 0.0330 - val_loss: 0.0025 - val_mean_squared_error: 0.0025 - val_mean_absolute_error: 0.0393\n",
            "Epoch 41/200\n",
            "8/8 [==============================] - 1s 176ms/step - loss: 0.0017 - mean_squared_error: 0.0017 - mean_absolute_error: 0.0326 - val_loss: 0.0024 - val_mean_squared_error: 0.0024 - val_mean_absolute_error: 0.0390\n",
            "Epoch 42/200\n",
            "8/8 [==============================] - 1s 191ms/step - loss: 0.0017 - mean_squared_error: 0.0017 - mean_absolute_error: 0.0320 - val_loss: 0.0024 - val_mean_squared_error: 0.0024 - val_mean_absolute_error: 0.0391\n",
            "Epoch 43/200\n",
            "8/8 [==============================] - 2s 187ms/step - loss: 0.0014 - mean_squared_error: 0.0014 - mean_absolute_error: 0.0294 - val_loss: 0.0028 - val_mean_squared_error: 0.0028 - val_mean_absolute_error: 0.0409\n",
            "Epoch 44/200\n",
            "8/8 [==============================] - 1s 177ms/step - loss: 0.0016 - mean_squared_error: 0.0016 - mean_absolute_error: 0.0320 - val_loss: 0.0024 - val_mean_squared_error: 0.0024 - val_mean_absolute_error: 0.0388\n",
            "Epoch 45/200\n",
            "8/8 [==============================] - 1s 181ms/step - loss: 0.0016 - mean_squared_error: 0.0016 - mean_absolute_error: 0.0307 - val_loss: 0.0024 - val_mean_squared_error: 0.0024 - val_mean_absolute_error: 0.0389\n",
            "Epoch 46/200\n",
            "8/8 [==============================] - 1s 167ms/step - loss: 0.0015 - mean_squared_error: 0.0015 - mean_absolute_error: 0.0311 - val_loss: 0.0024 - val_mean_squared_error: 0.0024 - val_mean_absolute_error: 0.0387\n",
            "Epoch 47/200\n",
            "8/8 [==============================] - 2s 193ms/step - loss: 0.0018 - mean_squared_error: 0.0018 - mean_absolute_error: 0.0328 - val_loss: 0.0032 - val_mean_squared_error: 0.0032 - val_mean_absolute_error: 0.0438\n",
            "Epoch 48/200\n",
            "8/8 [==============================] - 1s 178ms/step - loss: 0.0019 - mean_squared_error: 0.0019 - mean_absolute_error: 0.0343 - val_loss: 0.0023 - val_mean_squared_error: 0.0023 - val_mean_absolute_error: 0.0382\n",
            "Epoch 49/200\n",
            "8/8 [==============================] - 2s 199ms/step - loss: 0.0016 - mean_squared_error: 0.0016 - mean_absolute_error: 0.0318 - val_loss: 0.0023 - val_mean_squared_error: 0.0023 - val_mean_absolute_error: 0.0380\n",
            "Epoch 50/200\n",
            "8/8 [==============================] - 2s 185ms/step - loss: 0.0015 - mean_squared_error: 0.0015 - mean_absolute_error: 0.0302 - val_loss: 0.0023 - val_mean_squared_error: 0.0023 - val_mean_absolute_error: 0.0382\n",
            "Epoch 51/200\n",
            "8/8 [==============================] - 1s 186ms/step - loss: 0.0015 - mean_squared_error: 0.0015 - mean_absolute_error: 0.0307 - val_loss: 0.0022 - val_mean_squared_error: 0.0022 - val_mean_absolute_error: 0.0375\n",
            "Epoch 52/200\n",
            "8/8 [==============================] - 2s 189ms/step - loss: 0.0014 - mean_squared_error: 0.0014 - mean_absolute_error: 0.0301 - val_loss: 0.0022 - val_mean_squared_error: 0.0022 - val_mean_absolute_error: 0.0373\n",
            "Epoch 53/200\n",
            "8/8 [==============================] - 1s 174ms/step - loss: 0.0015 - mean_squared_error: 0.0015 - mean_absolute_error: 0.0295 - val_loss: 0.0022 - val_mean_squared_error: 0.0022 - val_mean_absolute_error: 0.0370\n",
            "Epoch 54/200\n",
            "8/8 [==============================] - 1s 173ms/step - loss: 0.0017 - mean_squared_error: 0.0017 - mean_absolute_error: 0.0326 - val_loss: 0.0026 - val_mean_squared_error: 0.0026 - val_mean_absolute_error: 0.0397\n",
            "Epoch 55/200\n",
            "8/8 [==============================] - 1s 180ms/step - loss: 0.0016 - mean_squared_error: 0.0016 - mean_absolute_error: 0.0312 - val_loss: 0.0022 - val_mean_squared_error: 0.0022 - val_mean_absolute_error: 0.0374\n",
            "Epoch 56/200\n",
            "8/8 [==============================] - 1s 171ms/step - loss: 0.0016 - mean_squared_error: 0.0016 - mean_absolute_error: 0.0315 - val_loss: 0.0023 - val_mean_squared_error: 0.0023 - val_mean_absolute_error: 0.0378\n",
            "Epoch 57/200\n",
            "8/8 [==============================] - 2s 195ms/step - loss: 0.0014 - mean_squared_error: 0.0014 - mean_absolute_error: 0.0296 - val_loss: 0.0021 - val_mean_squared_error: 0.0021 - val_mean_absolute_error: 0.0366\n",
            "Epoch 58/200\n",
            "8/8 [==============================] - 1s 181ms/step - loss: 0.0015 - mean_squared_error: 0.0015 - mean_absolute_error: 0.0294 - val_loss: 0.0021 - val_mean_squared_error: 0.0021 - val_mean_absolute_error: 0.0365\n",
            "Epoch 59/200\n",
            "8/8 [==============================] - 1s 170ms/step - loss: 0.0015 - mean_squared_error: 0.0015 - mean_absolute_error: 0.0306 - val_loss: 0.0021 - val_mean_squared_error: 0.0021 - val_mean_absolute_error: 0.0363\n",
            "Epoch 60/200\n",
            "8/8 [==============================] - 1s 174ms/step - loss: 0.0016 - mean_squared_error: 0.0016 - mean_absolute_error: 0.0309 - val_loss: 0.0021 - val_mean_squared_error: 0.0021 - val_mean_absolute_error: 0.0365\n",
            "Epoch 61/200\n",
            "8/8 [==============================] - 1s 179ms/step - loss: 0.0015 - mean_squared_error: 0.0015 - mean_absolute_error: 0.0305 - val_loss: 0.0021 - val_mean_squared_error: 0.0021 - val_mean_absolute_error: 0.0362\n",
            "Epoch 62/200\n",
            "8/8 [==============================] - 1s 170ms/step - loss: 0.0016 - mean_squared_error: 0.0016 - mean_absolute_error: 0.0313 - val_loss: 0.0020 - val_mean_squared_error: 0.0020 - val_mean_absolute_error: 0.0359\n",
            "Epoch 63/200\n",
            "8/8 [==============================] - 1s 173ms/step - loss: 0.0015 - mean_squared_error: 0.0015 - mean_absolute_error: 0.0299 - val_loss: 0.0022 - val_mean_squared_error: 0.0022 - val_mean_absolute_error: 0.0370\n",
            "Epoch 64/200\n",
            "8/8 [==============================] - 1s 174ms/step - loss: 0.0014 - mean_squared_error: 0.0014 - mean_absolute_error: 0.0289 - val_loss: 0.0021 - val_mean_squared_error: 0.0021 - val_mean_absolute_error: 0.0365\n",
            "Epoch 65/200\n",
            "8/8 [==============================] - 1s 174ms/step - loss: 0.0015 - mean_squared_error: 0.0015 - mean_absolute_error: 0.0301 - val_loss: 0.0020 - val_mean_squared_error: 0.0020 - val_mean_absolute_error: 0.0351\n",
            "Epoch 66/200\n",
            "8/8 [==============================] - 1s 181ms/step - loss: 0.0014 - mean_squared_error: 0.0014 - mean_absolute_error: 0.0287 - val_loss: 0.0022 - val_mean_squared_error: 0.0022 - val_mean_absolute_error: 0.0366\n",
            "Epoch 67/200\n",
            "8/8 [==============================] - 1s 187ms/step - loss: 0.0014 - mean_squared_error: 0.0014 - mean_absolute_error: 0.0298 - val_loss: 0.0020 - val_mean_squared_error: 0.0020 - val_mean_absolute_error: 0.0357\n",
            "Epoch 68/200\n",
            "8/8 [==============================] - 1s 174ms/step - loss: 0.0014 - mean_squared_error: 0.0014 - mean_absolute_error: 0.0293 - val_loss: 0.0021 - val_mean_squared_error: 0.0021 - val_mean_absolute_error: 0.0362\n",
            "Epoch 69/200\n",
            "8/8 [==============================] - 1s 187ms/step - loss: 0.0014 - mean_squared_error: 0.0014 - mean_absolute_error: 0.0290 - val_loss: 0.0020 - val_mean_squared_error: 0.0020 - val_mean_absolute_error: 0.0355\n",
            "Epoch 70/200\n",
            "8/8 [==============================] - 1s 179ms/step - loss: 0.0013 - mean_squared_error: 0.0013 - mean_absolute_error: 0.0285 - val_loss: 0.0020 - val_mean_squared_error: 0.0020 - val_mean_absolute_error: 0.0354\n",
            "Epoch 71/200\n",
            "8/8 [==============================] - 1s 174ms/step - loss: 0.0013 - mean_squared_error: 0.0013 - mean_absolute_error: 0.0290 - val_loss: 0.0020 - val_mean_squared_error: 0.0020 - val_mean_absolute_error: 0.0352\n",
            "Epoch 72/200\n",
            "8/8 [==============================] - 1s 179ms/step - loss: 0.0015 - mean_squared_error: 0.0015 - mean_absolute_error: 0.0302 - val_loss: 0.0024 - val_mean_squared_error: 0.0024 - val_mean_absolute_error: 0.0383\n",
            "Epoch 73/200\n",
            "8/8 [==============================] - 1s 186ms/step - loss: 0.0018 - mean_squared_error: 0.0018 - mean_absolute_error: 0.0332 - val_loss: 0.0021 - val_mean_squared_error: 0.0021 - val_mean_absolute_error: 0.0360\n",
            "Epoch 74/200\n",
            "8/8 [==============================] - 1s 174ms/step - loss: 0.0015 - mean_squared_error: 0.0015 - mean_absolute_error: 0.0307 - val_loss: 0.0021 - val_mean_squared_error: 0.0021 - val_mean_absolute_error: 0.0363\n",
            "Epoch 75/200\n",
            "8/8 [==============================] - 2s 191ms/step - loss: 0.0012 - mean_squared_error: 0.0012 - mean_absolute_error: 0.0273 - val_loss: 0.0020 - val_mean_squared_error: 0.0020 - val_mean_absolute_error: 0.0353\n"
          ],
          "name": "stdout"
        },
        {
          "output_type": "display_data",
          "data": {
            "text/html": [
              "<br/>Waiting for W&B process to finish, PID 7299<br/>Program ended successfully."
            ],
            "text/plain": [
              "<IPython.core.display.HTML object>"
            ]
          },
          "metadata": {
            "tags": []
          }
        },
        {
          "output_type": "display_data",
          "data": {
            "application/vnd.jupyter.widget-view+json": {
              "model_id": "83c51ead2a1c40529122005882e2d201",
              "version_minor": 0,
              "version_major": 2
            },
            "text/plain": [
              "VBox(children=(Label(value=' 1.00MB of 1.00MB uploaded (0.00MB deduped)\\r'), FloatProgress(value=1.0, max=1.0)…"
            ]
          },
          "metadata": {
            "tags": []
          }
        },
        {
          "output_type": "display_data",
          "data": {
            "text/html": [
              "Find user logs for this run at: <code>/content/feeder_repo/wandb/run-20210718_203922-jfkbsbwl/logs/debug.log</code>"
            ],
            "text/plain": [
              "<IPython.core.display.HTML object>"
            ]
          },
          "metadata": {
            "tags": []
          }
        },
        {
          "output_type": "display_data",
          "data": {
            "text/html": [
              "Find internal logs for this run at: <code>/content/feeder_repo/wandb/run-20210718_203922-jfkbsbwl/logs/debug-internal.log</code>"
            ],
            "text/plain": [
              "<IPython.core.display.HTML object>"
            ]
          },
          "metadata": {
            "tags": []
          }
        },
        {
          "output_type": "display_data",
          "data": {
            "text/html": [
              "<h3>Run summary:</h3><br/><style>\n",
              "    table.wandb td:nth-child(1) { padding: 0 10px; text-align: right }\n",
              "    </style><table class=\"wandb\">\n",
              "<tr><td>epoch</td><td>74</td></tr><tr><td>loss</td><td>0.00138</td></tr><tr><td>mean_squared_error</td><td>0.00138</td></tr><tr><td>mean_absolute_error</td><td>0.02867</td></tr><tr><td>val_loss</td><td>0.00197</td></tr><tr><td>val_mean_squared_error</td><td>0.00197</td></tr><tr><td>val_mean_absolute_error</td><td>0.03526</td></tr><tr><td>_runtime</td><td>120</td></tr><tr><td>_timestamp</td><td>1626640882</td></tr><tr><td>_step</td><td>74</td></tr><tr><td>best_val_loss</td><td>0.00196</td></tr><tr><td>best_epoch</td><td>64</td></tr></table>"
            ],
            "text/plain": [
              "<IPython.core.display.HTML object>"
            ]
          },
          "metadata": {
            "tags": []
          }
        },
        {
          "output_type": "display_data",
          "data": {
            "text/html": [
              "<h3>Run history:</h3><br/><style>\n",
              "    table.wandb td:nth-child(1) { padding: 0 10px; text-align: right }\n",
              "    </style><table class=\"wandb\">\n",
              "<tr><td>epoch</td><td>▁▁▁▁▂▂▂▂▂▃▃▃▃▃▃▄▄▄▄▄▅▅▅▅▅▅▆▆▆▆▆▆▇▇▇▇▇███</td></tr><tr><td>loss</td><td>█▁▁▁▁▁▁▁▁▁▁▁▁▁▁▁▁▁▁▁▁▁▁▁▁▁▁▁▁▁▁▁▁▁▁▁▁▁▁▁</td></tr><tr><td>mean_squared_error</td><td>█▁▁▁▁▁▁▁▁▁▁▁▁▁▁▁▁▁▁▁▁▁▁▁▁▁▁▁▁▁▁▁▁▁▁▁▁▁▁▁</td></tr><tr><td>mean_absolute_error</td><td>█▃▂▁▁▁▁▁▁▁▁▁▁▁▁▁▁▁▁▁▁▁▁▁▁▁▁▁▁▁▁▁▁▁▁▁▁▁▁▁</td></tr><tr><td>val_loss</td><td>█▃▁▁▁▁▁▁▁▁▁▁▁▁▁▁▁▁▁▁▁▁▁▁▁▁▁▁▁▁▁▁▁▁▁▁▁▁▁▁</td></tr><tr><td>val_mean_squared_error</td><td>█▃▁▁▁▁▁▁▁▁▁▁▁▁▁▁▁▁▁▁▁▁▁▁▁▁▁▁▁▁▁▁▁▁▁▁▁▁▁▁</td></tr><tr><td>val_mean_absolute_error</td><td>█▄▂▁▁▁▁▁▁▁▁▁▁▁▁▁▁▁▁▁▁▁▁▁▁▁▁▁▁▁▁▁▁▁▁▁▁▁▁▁</td></tr><tr><td>_runtime</td><td>▁▁▁▂▂▂▂▂▂▃▃▃▃▃▄▄▄▄▄▄▄▅▅▅▅▅▆▆▆▆▆▇▇▇▇▇▇███</td></tr><tr><td>_timestamp</td><td>▁▁▁▂▂▂▂▂▂▃▃▃▃▃▄▄▄▄▄▄▄▅▅▅▅▅▆▆▆▆▆▇▇▇▇▇▇███</td></tr><tr><td>_step</td><td>▁▁▁▁▂▂▂▂▂▃▃▃▃▃▃▄▄▄▄▄▅▅▅▅▅▅▆▆▆▆▆▆▇▇▇▇▇███</td></tr></table><br/>"
            ],
            "text/plain": [
              "<IPython.core.display.HTML object>"
            ]
          },
          "metadata": {
            "tags": []
          }
        },
        {
          "output_type": "display_data",
          "data": {
            "text/html": [
              "Synced 5 W&B file(s), 1 media file(s), 2 artifact file(s) and 2 other file(s)"
            ],
            "text/plain": [
              "<IPython.core.display.HTML object>"
            ]
          },
          "metadata": {
            "tags": []
          }
        },
        {
          "output_type": "display_data",
          "data": {
            "text/html": [
              "\n",
              "                    <br/>Synced <strong style=\"color:#cdcd00\">fancy-sweep-26</strong>: <a href=\"https://wandb.ai/acse-jaq15/ACSE_9_LSTM_GRU/runs/jfkbsbwl\" target=\"_blank\">https://wandb.ai/acse-jaq15/ACSE_9_LSTM_GRU/runs/jfkbsbwl</a><br/>\n",
              "                "
            ],
            "text/plain": [
              "<IPython.core.display.HTML object>"
            ]
          },
          "metadata": {
            "tags": []
          }
        },
        {
          "output_type": "stream",
          "text": [
            "\u001b[34m\u001b[1mwandb\u001b[0m: Sweep Agent: Waiting for job.\n",
            "\u001b[34m\u001b[1mwandb\u001b[0m: Job received.\n",
            "\u001b[34m\u001b[1mwandb\u001b[0m: Agent Starting Run: qdnyhyhd with config:\n",
            "\u001b[34m\u001b[1mwandb\u001b[0m: \tactivation: tanh\n",
            "\u001b[34m\u001b[1mwandb\u001b[0m: \tbatch_size: 32\n",
            "\u001b[34m\u001b[1mwandb\u001b[0m: \tdropout: 0.1\n",
            "\u001b[34m\u001b[1mwandb\u001b[0m: \tepochs: 100\n",
            "\u001b[34m\u001b[1mwandb\u001b[0m: \tlearning_rate: 0.001\n",
            "\u001b[34m\u001b[1mwandb\u001b[0m: \toptimizer: adam\n"
          ],
          "name": "stderr"
        },
        {
          "output_type": "display_data",
          "data": {
            "text/html": [
              "\n",
              "                Tracking run with wandb version 0.11.0<br/>\n",
              "                Syncing run <strong style=\"color:#cdcd00\">flowing-sweep-27</strong> to <a href=\"https://wandb.ai\" target=\"_blank\">Weights & Biases</a> <a href=\"https://docs.wandb.com/integrations/jupyter.html\" target=\"_blank\">(Documentation)</a>.<br/>\n",
              "                Project page: <a href=\"https://wandb.ai/acse-jaq15/ACSE_9_LSTM_GRU\" target=\"_blank\">https://wandb.ai/acse-jaq15/ACSE_9_LSTM_GRU</a><br/>\n",
              "                Sweep page: <a href=\"https://wandb.ai/acse-jaq15/ACSE_9_LSTM_GRU/sweeps/amj4ayh1\" target=\"_blank\">https://wandb.ai/acse-jaq15/ACSE_9_LSTM_GRU/sweeps/amj4ayh1</a><br/>\n",
              "Run page: <a href=\"https://wandb.ai/acse-jaq15/ACSE_9_LSTM_GRU/runs/qdnyhyhd\" target=\"_blank\">https://wandb.ai/acse-jaq15/ACSE_9_LSTM_GRU/runs/qdnyhyhd</a><br/>\n",
              "                Run data is saved locally in <code>/content/feeder_repo/wandb/run-20210718_204224-qdnyhyhd</code><br/><br/>\n",
              "            "
            ],
            "text/plain": [
              "<IPython.core.display.HTML object>"
            ]
          },
          "metadata": {
            "tags": []
          }
        },
        {
          "output_type": "stream",
          "text": [
            "Epoch 1/100\n",
            "32/32 [==============================] - 6s 49ms/step - loss: 0.0757 - mean_squared_error: 0.0757 - mean_absolute_error: 0.2112 - val_loss: 0.0079 - val_mean_squared_error: 0.0079 - val_mean_absolute_error: 0.0727\n",
            "Epoch 2/100\n",
            "32/32 [==============================] - 0s 12ms/step - loss: 0.0065 - mean_squared_error: 0.0065 - mean_absolute_error: 0.0651 - val_loss: 0.0069 - val_mean_squared_error: 0.0069 - val_mean_absolute_error: 0.0656\n",
            "Epoch 3/100\n",
            "32/32 [==============================] - 0s 13ms/step - loss: 0.0038 - mean_squared_error: 0.0038 - mean_absolute_error: 0.0475 - val_loss: 0.0064 - val_mean_squared_error: 0.0064 - val_mean_absolute_error: 0.0641\n",
            "Epoch 4/100\n",
            "32/32 [==============================] - 0s 11ms/step - loss: 0.0039 - mean_squared_error: 0.0039 - mean_absolute_error: 0.0486 - val_loss: 0.0060 - val_mean_squared_error: 0.0060 - val_mean_absolute_error: 0.0619\n",
            "Epoch 5/100\n",
            "32/32 [==============================] - 0s 12ms/step - loss: 0.0033 - mean_squared_error: 0.0033 - mean_absolute_error: 0.0462 - val_loss: 0.0057 - val_mean_squared_error: 0.0057 - val_mean_absolute_error: 0.0598\n",
            "Epoch 6/100\n",
            "32/32 [==============================] - 0s 12ms/step - loss: 0.0032 - mean_squared_error: 0.0032 - mean_absolute_error: 0.0442 - val_loss: 0.0055 - val_mean_squared_error: 0.0055 - val_mean_absolute_error: 0.0581\n",
            "Epoch 7/100\n",
            "32/32 [==============================] - 0s 11ms/step - loss: 0.0032 - mean_squared_error: 0.0032 - mean_absolute_error: 0.0440 - val_loss: 0.0051 - val_mean_squared_error: 0.0051 - val_mean_absolute_error: 0.0564\n",
            "Epoch 8/100\n",
            "32/32 [==============================] - 0s 11ms/step - loss: 0.0032 - mean_squared_error: 0.0032 - mean_absolute_error: 0.0447 - val_loss: 0.0050 - val_mean_squared_error: 0.0050 - val_mean_absolute_error: 0.0563\n",
            "Epoch 9/100\n",
            "32/32 [==============================] - 0s 12ms/step - loss: 0.0031 - mean_squared_error: 0.0031 - mean_absolute_error: 0.0438 - val_loss: 0.0046 - val_mean_squared_error: 0.0046 - val_mean_absolute_error: 0.0528\n",
            "Epoch 10/100\n",
            "32/32 [==============================] - 0s 12ms/step - loss: 0.0030 - mean_squared_error: 0.0030 - mean_absolute_error: 0.0426 - val_loss: 0.0049 - val_mean_squared_error: 0.0049 - val_mean_absolute_error: 0.0553\n",
            "Epoch 11/100\n",
            "32/32 [==============================] - 0s 12ms/step - loss: 0.0027 - mean_squared_error: 0.0027 - mean_absolute_error: 0.0424 - val_loss: 0.0046 - val_mean_squared_error: 0.0046 - val_mean_absolute_error: 0.0534\n",
            "Epoch 12/100\n",
            "32/32 [==============================] - 0s 12ms/step - loss: 0.0026 - mean_squared_error: 0.0026 - mean_absolute_error: 0.0402 - val_loss: 0.0043 - val_mean_squared_error: 0.0043 - val_mean_absolute_error: 0.0515\n",
            "Epoch 13/100\n",
            "32/32 [==============================] - 0s 12ms/step - loss: 0.0024 - mean_squared_error: 0.0024 - mean_absolute_error: 0.0393 - val_loss: 0.0040 - val_mean_squared_error: 0.0040 - val_mean_absolute_error: 0.0503\n",
            "Epoch 14/100\n",
            "32/32 [==============================] - 0s 11ms/step - loss: 0.0027 - mean_squared_error: 0.0027 - mean_absolute_error: 0.0400 - val_loss: 0.0046 - val_mean_squared_error: 0.0046 - val_mean_absolute_error: 0.0532\n",
            "Epoch 15/100\n",
            "32/32 [==============================] - 0s 11ms/step - loss: 0.0023 - mean_squared_error: 0.0023 - mean_absolute_error: 0.0389 - val_loss: 0.0038 - val_mean_squared_error: 0.0038 - val_mean_absolute_error: 0.0489\n",
            "Epoch 16/100\n",
            "32/32 [==============================] - 0s 12ms/step - loss: 0.0024 - mean_squared_error: 0.0024 - mean_absolute_error: 0.0396 - val_loss: 0.0036 - val_mean_squared_error: 0.0036 - val_mean_absolute_error: 0.0475\n",
            "Epoch 17/100\n",
            "32/32 [==============================] - 0s 12ms/step - loss: 0.0025 - mean_squared_error: 0.0025 - mean_absolute_error: 0.0389 - val_loss: 0.0035 - val_mean_squared_error: 0.0035 - val_mean_absolute_error: 0.0471\n",
            "Epoch 18/100\n",
            "32/32 [==============================] - 0s 13ms/step - loss: 0.0025 - mean_squared_error: 0.0025 - mean_absolute_error: 0.0398 - val_loss: 0.0038 - val_mean_squared_error: 0.0038 - val_mean_absolute_error: 0.0485\n",
            "Epoch 19/100\n",
            "32/32 [==============================] - 0s 11ms/step - loss: 0.0023 - mean_squared_error: 0.0023 - mean_absolute_error: 0.0382 - val_loss: 0.0036 - val_mean_squared_error: 0.0036 - val_mean_absolute_error: 0.0470\n",
            "Epoch 20/100\n",
            "32/32 [==============================] - 0s 10ms/step - loss: 0.0022 - mean_squared_error: 0.0022 - mean_absolute_error: 0.0369 - val_loss: 0.0033 - val_mean_squared_error: 0.0033 - val_mean_absolute_error: 0.0453\n",
            "Epoch 21/100\n",
            "32/32 [==============================] - 0s 11ms/step - loss: 0.0019 - mean_squared_error: 0.0019 - mean_absolute_error: 0.0348 - val_loss: 0.0033 - val_mean_squared_error: 0.0033 - val_mean_absolute_error: 0.0453\n",
            "Epoch 22/100\n",
            "32/32 [==============================] - 0s 11ms/step - loss: 0.0021 - mean_squared_error: 0.0021 - mean_absolute_error: 0.0370 - val_loss: 0.0032 - val_mean_squared_error: 0.0032 - val_mean_absolute_error: 0.0453\n",
            "Epoch 23/100\n",
            "32/32 [==============================] - 0s 11ms/step - loss: 0.0023 - mean_squared_error: 0.0023 - mean_absolute_error: 0.0374 - val_loss: 0.0039 - val_mean_squared_error: 0.0039 - val_mean_absolute_error: 0.0490\n",
            "Epoch 24/100\n",
            "32/32 [==============================] - 0s 12ms/step - loss: 0.0026 - mean_squared_error: 0.0026 - mean_absolute_error: 0.0400 - val_loss: 0.0043 - val_mean_squared_error: 0.0043 - val_mean_absolute_error: 0.0515\n",
            "Epoch 25/100\n",
            "32/32 [==============================] - 0s 11ms/step - loss: 0.0021 - mean_squared_error: 0.0021 - mean_absolute_error: 0.0365 - val_loss: 0.0030 - val_mean_squared_error: 0.0030 - val_mean_absolute_error: 0.0432\n",
            "Epoch 26/100\n",
            "32/32 [==============================] - 0s 12ms/step - loss: 0.0020 - mean_squared_error: 0.0020 - mean_absolute_error: 0.0352 - val_loss: 0.0029 - val_mean_squared_error: 0.0029 - val_mean_absolute_error: 0.0426\n",
            "Epoch 27/100\n",
            "32/32 [==============================] - 0s 12ms/step - loss: 0.0019 - mean_squared_error: 0.0019 - mean_absolute_error: 0.0354 - val_loss: 0.0030 - val_mean_squared_error: 0.0030 - val_mean_absolute_error: 0.0425\n",
            "Epoch 28/100\n",
            "32/32 [==============================] - 0s 12ms/step - loss: 0.0022 - mean_squared_error: 0.0022 - mean_absolute_error: 0.0371 - val_loss: 0.0040 - val_mean_squared_error: 0.0040 - val_mean_absolute_error: 0.0499\n",
            "Epoch 29/100\n",
            "32/32 [==============================] - 0s 11ms/step - loss: 0.0022 - mean_squared_error: 0.0022 - mean_absolute_error: 0.0367 - val_loss: 0.0028 - val_mean_squared_error: 0.0028 - val_mean_absolute_error: 0.0417\n",
            "Epoch 30/100\n",
            "32/32 [==============================] - 0s 12ms/step - loss: 0.0021 - mean_squared_error: 0.0021 - mean_absolute_error: 0.0362 - val_loss: 0.0029 - val_mean_squared_error: 0.0029 - val_mean_absolute_error: 0.0420\n",
            "Epoch 31/100\n",
            "32/32 [==============================] - 0s 12ms/step - loss: 0.0019 - mean_squared_error: 0.0019 - mean_absolute_error: 0.0351 - val_loss: 0.0029 - val_mean_squared_error: 0.0029 - val_mean_absolute_error: 0.0419\n",
            "Epoch 32/100\n",
            "32/32 [==============================] - 0s 12ms/step - loss: 0.0020 - mean_squared_error: 0.0020 - mean_absolute_error: 0.0354 - val_loss: 0.0027 - val_mean_squared_error: 0.0027 - val_mean_absolute_error: 0.0410\n",
            "Epoch 33/100\n",
            "32/32 [==============================] - 0s 12ms/step - loss: 0.0018 - mean_squared_error: 0.0018 - mean_absolute_error: 0.0328 - val_loss: 0.0026 - val_mean_squared_error: 0.0026 - val_mean_absolute_error: 0.0404\n",
            "Epoch 34/100\n",
            "32/32 [==============================] - 0s 12ms/step - loss: 0.0017 - mean_squared_error: 0.0017 - mean_absolute_error: 0.0320 - val_loss: 0.0025 - val_mean_squared_error: 0.0025 - val_mean_absolute_error: 0.0399\n",
            "Epoch 35/100\n",
            "32/32 [==============================] - 0s 11ms/step - loss: 0.0017 - mean_squared_error: 0.0017 - mean_absolute_error: 0.0333 - val_loss: 0.0027 - val_mean_squared_error: 0.0027 - val_mean_absolute_error: 0.0416\n",
            "Epoch 36/100\n",
            "32/32 [==============================] - 0s 13ms/step - loss: 0.0017 - mean_squared_error: 0.0017 - mean_absolute_error: 0.0321 - val_loss: 0.0025 - val_mean_squared_error: 0.0025 - val_mean_absolute_error: 0.0401\n",
            "Epoch 37/100\n",
            "32/32 [==============================] - 0s 11ms/step - loss: 0.0017 - mean_squared_error: 0.0017 - mean_absolute_error: 0.0336 - val_loss: 0.0027 - val_mean_squared_error: 0.0027 - val_mean_absolute_error: 0.0415\n",
            "Epoch 38/100\n",
            "32/32 [==============================] - 0s 13ms/step - loss: 0.0019 - mean_squared_error: 0.0019 - mean_absolute_error: 0.0340 - val_loss: 0.0024 - val_mean_squared_error: 0.0024 - val_mean_absolute_error: 0.0387\n",
            "Epoch 39/100\n",
            "32/32 [==============================] - 0s 12ms/step - loss: 0.0016 - mean_squared_error: 0.0016 - mean_absolute_error: 0.0318 - val_loss: 0.0024 - val_mean_squared_error: 0.0024 - val_mean_absolute_error: 0.0387\n",
            "Epoch 40/100\n",
            "32/32 [==============================] - 0s 11ms/step - loss: 0.0016 - mean_squared_error: 0.0016 - mean_absolute_error: 0.0318 - val_loss: 0.0026 - val_mean_squared_error: 0.0026 - val_mean_absolute_error: 0.0395\n",
            "Epoch 41/100\n",
            "32/32 [==============================] - 0s 11ms/step - loss: 0.0016 - mean_squared_error: 0.0016 - mean_absolute_error: 0.0318 - val_loss: 0.0023 - val_mean_squared_error: 0.0023 - val_mean_absolute_error: 0.0379\n",
            "Epoch 42/100\n",
            "32/32 [==============================] - 0s 11ms/step - loss: 0.0017 - mean_squared_error: 0.0017 - mean_absolute_error: 0.0334 - val_loss: 0.0024 - val_mean_squared_error: 0.0024 - val_mean_absolute_error: 0.0385\n",
            "Epoch 43/100\n",
            "32/32 [==============================] - 0s 11ms/step - loss: 0.0018 - mean_squared_error: 0.0018 - mean_absolute_error: 0.0334 - val_loss: 0.0026 - val_mean_squared_error: 0.0026 - val_mean_absolute_error: 0.0396\n",
            "Epoch 44/100\n",
            "32/32 [==============================] - 0s 13ms/step - loss: 0.0016 - mean_squared_error: 0.0016 - mean_absolute_error: 0.0316 - val_loss: 0.0022 - val_mean_squared_error: 0.0022 - val_mean_absolute_error: 0.0373\n",
            "Epoch 45/100\n",
            "32/32 [==============================] - 0s 11ms/step - loss: 0.0016 - mean_squared_error: 0.0016 - mean_absolute_error: 0.0309 - val_loss: 0.0022 - val_mean_squared_error: 0.0022 - val_mean_absolute_error: 0.0372\n",
            "Epoch 46/100\n",
            "32/32 [==============================] - 0s 11ms/step - loss: 0.0017 - mean_squared_error: 0.0017 - mean_absolute_error: 0.0324 - val_loss: 0.0022 - val_mean_squared_error: 0.0022 - val_mean_absolute_error: 0.0369\n",
            "Epoch 47/100\n",
            "32/32 [==============================] - 0s 11ms/step - loss: 0.0015 - mean_squared_error: 0.0015 - mean_absolute_error: 0.0309 - val_loss: 0.0021 - val_mean_squared_error: 0.0021 - val_mean_absolute_error: 0.0363\n",
            "Epoch 48/100\n",
            "32/32 [==============================] - 0s 11ms/step - loss: 0.0014 - mean_squared_error: 0.0014 - mean_absolute_error: 0.0296 - val_loss: 0.0025 - val_mean_squared_error: 0.0025 - val_mean_absolute_error: 0.0402\n",
            "Epoch 49/100\n",
            "32/32 [==============================] - 0s 12ms/step - loss: 0.0018 - mean_squared_error: 0.0018 - mean_absolute_error: 0.0345 - val_loss: 0.0024 - val_mean_squared_error: 0.0024 - val_mean_absolute_error: 0.0382\n",
            "Epoch 50/100\n",
            "32/32 [==============================] - 0s 11ms/step - loss: 0.0015 - mean_squared_error: 0.0015 - mean_absolute_error: 0.0307 - val_loss: 0.0021 - val_mean_squared_error: 0.0021 - val_mean_absolute_error: 0.0365\n",
            "Epoch 51/100\n",
            "32/32 [==============================] - 0s 11ms/step - loss: 0.0014 - mean_squared_error: 0.0014 - mean_absolute_error: 0.0292 - val_loss: 0.0020 - val_mean_squared_error: 0.0020 - val_mean_absolute_error: 0.0359\n",
            "Epoch 52/100\n",
            "32/32 [==============================] - 0s 11ms/step - loss: 0.0015 - mean_squared_error: 0.0015 - mean_absolute_error: 0.0300 - val_loss: 0.0022 - val_mean_squared_error: 0.0022 - val_mean_absolute_error: 0.0368\n",
            "Epoch 53/100\n",
            "32/32 [==============================] - 0s 11ms/step - loss: 0.0015 - mean_squared_error: 0.0015 - mean_absolute_error: 0.0307 - val_loss: 0.0020 - val_mean_squared_error: 0.0020 - val_mean_absolute_error: 0.0352\n",
            "Epoch 54/100\n",
            "32/32 [==============================] - 0s 12ms/step - loss: 0.0014 - mean_squared_error: 0.0014 - mean_absolute_error: 0.0290 - val_loss: 0.0020 - val_mean_squared_error: 0.0020 - val_mean_absolute_error: 0.0354\n",
            "Epoch 55/100\n",
            "32/32 [==============================] - 0s 12ms/step - loss: 0.0014 - mean_squared_error: 0.0014 - mean_absolute_error: 0.0296 - val_loss: 0.0019 - val_mean_squared_error: 0.0019 - val_mean_absolute_error: 0.0350\n",
            "Epoch 56/100\n",
            "32/32 [==============================] - 0s 13ms/step - loss: 0.0014 - mean_squared_error: 0.0014 - mean_absolute_error: 0.0288 - val_loss: 0.0021 - val_mean_squared_error: 0.0021 - val_mean_absolute_error: 0.0362\n",
            "Epoch 57/100\n",
            "32/32 [==============================] - 0s 11ms/step - loss: 0.0015 - mean_squared_error: 0.0015 - mean_absolute_error: 0.0309 - val_loss: 0.0020 - val_mean_squared_error: 0.0020 - val_mean_absolute_error: 0.0355\n",
            "Epoch 58/100\n",
            "32/32 [==============================] - 0s 13ms/step - loss: 0.0015 - mean_squared_error: 0.0015 - mean_absolute_error: 0.0307 - val_loss: 0.0019 - val_mean_squared_error: 0.0019 - val_mean_absolute_error: 0.0345\n",
            "Epoch 59/100\n",
            "32/32 [==============================] - 0s 12ms/step - loss: 0.0015 - mean_squared_error: 0.0015 - mean_absolute_error: 0.0300 - val_loss: 0.0020 - val_mean_squared_error: 0.0020 - val_mean_absolute_error: 0.0352\n",
            "Epoch 60/100\n",
            "32/32 [==============================] - 0s 12ms/step - loss: 0.0014 - mean_squared_error: 0.0014 - mean_absolute_error: 0.0294 - val_loss: 0.0018 - val_mean_squared_error: 0.0018 - val_mean_absolute_error: 0.0340\n",
            "Epoch 61/100\n",
            "32/32 [==============================] - 0s 12ms/step - loss: 0.0013 - mean_squared_error: 0.0013 - mean_absolute_error: 0.0280 - val_loss: 0.0018 - val_mean_squared_error: 0.0018 - val_mean_absolute_error: 0.0335\n",
            "Epoch 62/100\n",
            "32/32 [==============================] - 0s 12ms/step - loss: 0.0013 - mean_squared_error: 0.0013 - mean_absolute_error: 0.0280 - val_loss: 0.0022 - val_mean_squared_error: 0.0022 - val_mean_absolute_error: 0.0370\n",
            "Epoch 63/100\n",
            "32/32 [==============================] - 0s 13ms/step - loss: 0.0013 - mean_squared_error: 0.0013 - mean_absolute_error: 0.0288 - val_loss: 0.0018 - val_mean_squared_error: 0.0018 - val_mean_absolute_error: 0.0333\n",
            "Epoch 64/100\n",
            "32/32 [==============================] - 0s 11ms/step - loss: 0.0014 - mean_squared_error: 0.0014 - mean_absolute_error: 0.0292 - val_loss: 0.0021 - val_mean_squared_error: 0.0021 - val_mean_absolute_error: 0.0358\n",
            "Epoch 65/100\n",
            "32/32 [==============================] - 0s 12ms/step - loss: 0.0015 - mean_squared_error: 0.0015 - mean_absolute_error: 0.0300 - val_loss: 0.0018 - val_mean_squared_error: 0.0018 - val_mean_absolute_error: 0.0332\n",
            "Epoch 66/100\n",
            "32/32 [==============================] - 0s 12ms/step - loss: 0.0012 - mean_squared_error: 0.0012 - mean_absolute_error: 0.0267 - val_loss: 0.0019 - val_mean_squared_error: 0.0019 - val_mean_absolute_error: 0.0341\n",
            "Epoch 67/100\n",
            "32/32 [==============================] - 0s 12ms/step - loss: 0.0014 - mean_squared_error: 0.0014 - mean_absolute_error: 0.0288 - val_loss: 0.0022 - val_mean_squared_error: 0.0022 - val_mean_absolute_error: 0.0374\n",
            "Epoch 68/100\n",
            "32/32 [==============================] - 0s 11ms/step - loss: 0.0014 - mean_squared_error: 0.0014 - mean_absolute_error: 0.0291 - val_loss: 0.0017 - val_mean_squared_error: 0.0017 - val_mean_absolute_error: 0.0328\n",
            "Epoch 69/100\n",
            "32/32 [==============================] - 0s 11ms/step - loss: 0.0012 - mean_squared_error: 0.0012 - mean_absolute_error: 0.0276 - val_loss: 0.0021 - val_mean_squared_error: 0.0021 - val_mean_absolute_error: 0.0362\n",
            "Epoch 70/100\n",
            "32/32 [==============================] - 0s 13ms/step - loss: 0.0014 - mean_squared_error: 0.0014 - mean_absolute_error: 0.0288 - val_loss: 0.0017 - val_mean_squared_error: 0.0017 - val_mean_absolute_error: 0.0326\n",
            "Epoch 71/100\n",
            "32/32 [==============================] - 0s 11ms/step - loss: 0.0013 - mean_squared_error: 0.0013 - mean_absolute_error: 0.0276 - val_loss: 0.0017 - val_mean_squared_error: 0.0017 - val_mean_absolute_error: 0.0324\n",
            "Epoch 72/100\n",
            "32/32 [==============================] - 0s 12ms/step - loss: 0.0013 - mean_squared_error: 0.0013 - mean_absolute_error: 0.0277 - val_loss: 0.0017 - val_mean_squared_error: 0.0017 - val_mean_absolute_error: 0.0325\n",
            "Epoch 73/100\n",
            "32/32 [==============================] - 0s 12ms/step - loss: 0.0012 - mean_squared_error: 0.0012 - mean_absolute_error: 0.0274 - val_loss: 0.0018 - val_mean_squared_error: 0.0018 - val_mean_absolute_error: 0.0334\n",
            "Epoch 74/100\n",
            "32/32 [==============================] - 0s 13ms/step - loss: 0.0012 - mean_squared_error: 0.0012 - mean_absolute_error: 0.0275 - val_loss: 0.0017 - val_mean_squared_error: 0.0017 - val_mean_absolute_error: 0.0325\n",
            "Epoch 75/100\n",
            "32/32 [==============================] - 0s 12ms/step - loss: 0.0013 - mean_squared_error: 0.0013 - mean_absolute_error: 0.0282 - val_loss: 0.0022 - val_mean_squared_error: 0.0022 - val_mean_absolute_error: 0.0377\n",
            "Epoch 76/100\n",
            "32/32 [==============================] - 0s 12ms/step - loss: 0.0013 - mean_squared_error: 0.0013 - mean_absolute_error: 0.0279 - val_loss: 0.0017 - val_mean_squared_error: 0.0017 - val_mean_absolute_error: 0.0323\n",
            "Epoch 77/100\n",
            "32/32 [==============================] - 0s 11ms/step - loss: 0.0014 - mean_squared_error: 0.0014 - mean_absolute_error: 0.0292 - val_loss: 0.0019 - val_mean_squared_error: 0.0019 - val_mean_absolute_error: 0.0346\n",
            "Epoch 78/100\n",
            "32/32 [==============================] - 0s 12ms/step - loss: 0.0014 - mean_squared_error: 0.0014 - mean_absolute_error: 0.0299 - val_loss: 0.0017 - val_mean_squared_error: 0.0017 - val_mean_absolute_error: 0.0318\n",
            "Epoch 79/100\n",
            "32/32 [==============================] - 0s 11ms/step - loss: 0.0012 - mean_squared_error: 0.0012 - mean_absolute_error: 0.0277 - val_loss: 0.0017 - val_mean_squared_error: 0.0017 - val_mean_absolute_error: 0.0318\n",
            "Epoch 80/100\n",
            "32/32 [==============================] - 0s 12ms/step - loss: 0.0012 - mean_squared_error: 0.0012 - mean_absolute_error: 0.0271 - val_loss: 0.0018 - val_mean_squared_error: 0.0018 - val_mean_absolute_error: 0.0328\n",
            "Epoch 81/100\n",
            "32/32 [==============================] - 0s 12ms/step - loss: 0.0011 - mean_squared_error: 0.0011 - mean_absolute_error: 0.0262 - val_loss: 0.0018 - val_mean_squared_error: 0.0018 - val_mean_absolute_error: 0.0330\n",
            "Epoch 82/100\n",
            "32/32 [==============================] - 0s 11ms/step - loss: 0.0012 - mean_squared_error: 0.0012 - mean_absolute_error: 0.0263 - val_loss: 0.0020 - val_mean_squared_error: 0.0020 - val_mean_absolute_error: 0.0351\n",
            "Epoch 83/100\n",
            "32/32 [==============================] - 0s 13ms/step - loss: 0.0013 - mean_squared_error: 0.0013 - mean_absolute_error: 0.0284 - val_loss: 0.0017 - val_mean_squared_error: 0.0017 - val_mean_absolute_error: 0.0320\n",
            "Epoch 84/100\n",
            "32/32 [==============================] - 0s 12ms/step - loss: 0.0012 - mean_squared_error: 0.0012 - mean_absolute_error: 0.0265 - val_loss: 0.0018 - val_mean_squared_error: 0.0018 - val_mean_absolute_error: 0.0331\n",
            "Epoch 85/100\n",
            "32/32 [==============================] - 0s 13ms/step - loss: 0.0012 - mean_squared_error: 0.0012 - mean_absolute_error: 0.0265 - val_loss: 0.0018 - val_mean_squared_error: 0.0018 - val_mean_absolute_error: 0.0327\n",
            "Epoch 86/100\n",
            "32/32 [==============================] - 0s 12ms/step - loss: 0.0013 - mean_squared_error: 0.0013 - mean_absolute_error: 0.0276 - val_loss: 0.0017 - val_mean_squared_error: 0.0017 - val_mean_absolute_error: 0.0316\n",
            "Epoch 87/100\n",
            "32/32 [==============================] - 0s 13ms/step - loss: 0.0013 - mean_squared_error: 0.0013 - mean_absolute_error: 0.0281 - val_loss: 0.0017 - val_mean_squared_error: 0.0017 - val_mean_absolute_error: 0.0320\n",
            "Epoch 88/100\n",
            "32/32 [==============================] - 0s 12ms/step - loss: 0.0011 - mean_squared_error: 0.0011 - mean_absolute_error: 0.0254 - val_loss: 0.0017 - val_mean_squared_error: 0.0017 - val_mean_absolute_error: 0.0322\n",
            "Epoch 89/100\n",
            "32/32 [==============================] - 0s 12ms/step - loss: 0.0013 - mean_squared_error: 0.0013 - mean_absolute_error: 0.0278 - val_loss: 0.0017 - val_mean_squared_error: 0.0017 - val_mean_absolute_error: 0.0318\n",
            "Epoch 90/100\n",
            "32/32 [==============================] - 0s 13ms/step - loss: 0.0013 - mean_squared_error: 0.0013 - mean_absolute_error: 0.0282 - val_loss: 0.0017 - val_mean_squared_error: 0.0017 - val_mean_absolute_error: 0.0314\n",
            "Epoch 91/100\n",
            "32/32 [==============================] - 0s 12ms/step - loss: 0.0011 - mean_squared_error: 0.0011 - mean_absolute_error: 0.0258 - val_loss: 0.0017 - val_mean_squared_error: 0.0017 - val_mean_absolute_error: 0.0321\n",
            "Epoch 92/100\n",
            "32/32 [==============================] - 0s 12ms/step - loss: 0.0011 - mean_squared_error: 0.0011 - mean_absolute_error: 0.0267 - val_loss: 0.0019 - val_mean_squared_error: 0.0019 - val_mean_absolute_error: 0.0336\n",
            "Epoch 93/100\n",
            "32/32 [==============================] - 0s 12ms/step - loss: 0.0012 - mean_squared_error: 0.0012 - mean_absolute_error: 0.0270 - val_loss: 0.0016 - val_mean_squared_error: 0.0016 - val_mean_absolute_error: 0.0313\n",
            "Epoch 94/100\n",
            "32/32 [==============================] - 0s 12ms/step - loss: 0.0012 - mean_squared_error: 0.0012 - mean_absolute_error: 0.0271 - val_loss: 0.0021 - val_mean_squared_error: 0.0021 - val_mean_absolute_error: 0.0362\n",
            "Epoch 95/100\n",
            "32/32 [==============================] - 0s 13ms/step - loss: 0.0013 - mean_squared_error: 0.0013 - mean_absolute_error: 0.0277 - val_loss: 0.0017 - val_mean_squared_error: 0.0017 - val_mean_absolute_error: 0.0313\n",
            "Epoch 96/100\n",
            "32/32 [==============================] - 0s 12ms/step - loss: 0.0010 - mean_squared_error: 0.0010 - mean_absolute_error: 0.0255 - val_loss: 0.0016 - val_mean_squared_error: 0.0016 - val_mean_absolute_error: 0.0311\n",
            "Epoch 97/100\n",
            "32/32 [==============================] - 0s 13ms/step - loss: 0.0012 - mean_squared_error: 0.0012 - mean_absolute_error: 0.0267 - val_loss: 0.0016 - val_mean_squared_error: 0.0016 - val_mean_absolute_error: 0.0310\n",
            "Epoch 98/100\n",
            "32/32 [==============================] - 0s 12ms/step - loss: 0.0011 - mean_squared_error: 0.0011 - mean_absolute_error: 0.0261 - val_loss: 0.0017 - val_mean_squared_error: 0.0017 - val_mean_absolute_error: 0.0321\n",
            "Epoch 99/100\n",
            "32/32 [==============================] - 0s 12ms/step - loss: 0.0011 - mean_squared_error: 0.0011 - mean_absolute_error: 0.0256 - val_loss: 0.0018 - val_mean_squared_error: 0.0018 - val_mean_absolute_error: 0.0327\n",
            "Epoch 100/100\n",
            "32/32 [==============================] - 0s 11ms/step - loss: 0.0011 - mean_squared_error: 0.0011 - mean_absolute_error: 0.0259 - val_loss: 0.0018 - val_mean_squared_error: 0.0018 - val_mean_absolute_error: 0.0329\n"
          ],
          "name": "stdout"
        },
        {
          "output_type": "display_data",
          "data": {
            "text/html": [
              "<br/>Waiting for W&B process to finish, PID 7613<br/>Program ended successfully."
            ],
            "text/plain": [
              "<IPython.core.display.HTML object>"
            ]
          },
          "metadata": {
            "tags": []
          }
        },
        {
          "output_type": "display_data",
          "data": {
            "application/vnd.jupyter.widget-view+json": {
              "model_id": "8eefb09a2bd5410c8d2704611af6e550",
              "version_minor": 0,
              "version_major": 2
            },
            "text/plain": [
              "VBox(children=(Label(value=' 1.04MB of 1.04MB uploaded (0.00MB deduped)\\r'), FloatProgress(value=1.0, max=1.0)…"
            ]
          },
          "metadata": {
            "tags": []
          }
        },
        {
          "output_type": "display_data",
          "data": {
            "text/html": [
              "Find user logs for this run at: <code>/content/feeder_repo/wandb/run-20210718_204224-qdnyhyhd/logs/debug.log</code>"
            ],
            "text/plain": [
              "<IPython.core.display.HTML object>"
            ]
          },
          "metadata": {
            "tags": []
          }
        },
        {
          "output_type": "display_data",
          "data": {
            "text/html": [
              "Find internal logs for this run at: <code>/content/feeder_repo/wandb/run-20210718_204224-qdnyhyhd/logs/debug-internal.log</code>"
            ],
            "text/plain": [
              "<IPython.core.display.HTML object>"
            ]
          },
          "metadata": {
            "tags": []
          }
        },
        {
          "output_type": "display_data",
          "data": {
            "text/html": [
              "<h3>Run summary:</h3><br/><style>\n",
              "    table.wandb td:nth-child(1) { padding: 0 10px; text-align: right }\n",
              "    </style><table class=\"wandb\">\n",
              "<tr><td>epoch</td><td>99</td></tr><tr><td>loss</td><td>0.00112</td></tr><tr><td>mean_squared_error</td><td>0.00112</td></tr><tr><td>mean_absolute_error</td><td>0.02631</td></tr><tr><td>val_loss</td><td>0.00178</td></tr><tr><td>val_mean_squared_error</td><td>0.00178</td></tr><tr><td>val_mean_absolute_error</td><td>0.03288</td></tr><tr><td>_runtime</td><td>52</td></tr><tr><td>_timestamp</td><td>1626640996</td></tr><tr><td>_step</td><td>99</td></tr><tr><td>best_val_loss</td><td>0.00164</td></tr><tr><td>best_epoch</td><td>96</td></tr></table>"
            ],
            "text/plain": [
              "<IPython.core.display.HTML object>"
            ]
          },
          "metadata": {
            "tags": []
          }
        },
        {
          "output_type": "display_data",
          "data": {
            "text/html": [
              "<h3>Run history:</h3><br/><style>\n",
              "    table.wandb td:nth-child(1) { padding: 0 10px; text-align: right }\n",
              "    </style><table class=\"wandb\">\n",
              "<tr><td>epoch</td><td>▁▁▁▁▂▂▂▂▂▃▃▃▃▃▃▄▄▄▄▄▅▅▅▅▅▅▆▆▆▆▆▇▇▇▇▇▇███</td></tr><tr><td>loss</td><td>█▂▁▁▁▁▁▁▁▁▁▁▁▁▁▁▁▁▁▁▁▁▁▁▁▁▁▁▁▁▁▁▁▁▁▁▁▁▁▁</td></tr><tr><td>mean_squared_error</td><td>█▂▁▁▁▁▁▁▁▁▁▁▁▁▁▁▁▁▁▁▁▁▁▁▁▁▁▁▁▁▁▁▁▁▁▁▁▁▁▁</td></tr><tr><td>mean_absolute_error</td><td>█▂▂▂▂▂▂▂▂▂▂▂▂▁▁▁▁▁▁▁▁▁▁▁▁▁▁▁▁▁▁▁▁▁▁▁▁▁▁▁</td></tr><tr><td>val_loss</td><td>█▆▅▅▄▄▃▃▃▄▂▄▂▂▂▂▂▂▂▂▁▁▂▁▁▁▂▁▁▁▁▁▁▁▁▁▁▁▁▁</td></tr><tr><td>val_mean_squared_error</td><td>█▆▅▅▄▄▃▃▃▄▂▄▂▂▂▂▂▂▂▂▁▁▂▁▁▁▂▁▁▁▁▁▁▁▁▁▁▁▁▁</td></tr><tr><td>val_mean_absolute_error</td><td>█▇▆▅▅▄▄▄▃▄▃▄▃▂▃▂▂▂▂▂▂▂▂▂▁▂▂▂▁▁▂▁▂▁▁▁▁▂▁▁</td></tr><tr><td>_runtime</td><td>▁▁▁▂▂▂▂▂▂▃▃▃▃▃▃▄▄▄▄▄▅▅▅▅▅▆▆▆▆▆▆▇▇▇▇▇▇███</td></tr><tr><td>_timestamp</td><td>▁▁▁▂▂▂▂▂▂▃▃▃▃▃▃▄▄▄▄▄▅▅▅▅▅▆▆▆▆▆▆▇▇▇▇▇▇███</td></tr><tr><td>_step</td><td>▁▁▁▁▂▂▂▂▂▃▃▃▃▃▃▄▄▄▄▄▅▅▅▅▅▅▆▆▆▆▆▇▇▇▇▇▇███</td></tr></table><br/>"
            ],
            "text/plain": [
              "<IPython.core.display.HTML object>"
            ]
          },
          "metadata": {
            "tags": []
          }
        },
        {
          "output_type": "display_data",
          "data": {
            "text/html": [
              "Synced 5 W&B file(s), 1 media file(s), 2 artifact file(s) and 2 other file(s)"
            ],
            "text/plain": [
              "<IPython.core.display.HTML object>"
            ]
          },
          "metadata": {
            "tags": []
          }
        },
        {
          "output_type": "display_data",
          "data": {
            "text/html": [
              "\n",
              "                    <br/>Synced <strong style=\"color:#cdcd00\">flowing-sweep-27</strong>: <a href=\"https://wandb.ai/acse-jaq15/ACSE_9_LSTM_GRU/runs/qdnyhyhd\" target=\"_blank\">https://wandb.ai/acse-jaq15/ACSE_9_LSTM_GRU/runs/qdnyhyhd</a><br/>\n",
              "                "
            ],
            "text/plain": [
              "<IPython.core.display.HTML object>"
            ]
          },
          "metadata": {
            "tags": []
          }
        },
        {
          "output_type": "stream",
          "text": [
            "\u001b[34m\u001b[1mwandb\u001b[0m: Agent Starting Run: k8m8e7go with config:\n",
            "\u001b[34m\u001b[1mwandb\u001b[0m: \tactivation: relu\n",
            "\u001b[34m\u001b[1mwandb\u001b[0m: \tbatch_size: 128\n",
            "\u001b[34m\u001b[1mwandb\u001b[0m: \tdropout: 0.1\n",
            "\u001b[34m\u001b[1mwandb\u001b[0m: \tepochs: 50\n",
            "\u001b[34m\u001b[1mwandb\u001b[0m: \tlearning_rate: 0.0005\n",
            "\u001b[34m\u001b[1mwandb\u001b[0m: \toptimizer: adam\n"
          ],
          "name": "stderr"
        },
        {
          "output_type": "display_data",
          "data": {
            "text/html": [
              "\n",
              "                Tracking run with wandb version 0.11.0<br/>\n",
              "                Syncing run <strong style=\"color:#cdcd00\">radiant-sweep-28</strong> to <a href=\"https://wandb.ai\" target=\"_blank\">Weights & Biases</a> <a href=\"https://docs.wandb.com/integrations/jupyter.html\" target=\"_blank\">(Documentation)</a>.<br/>\n",
              "                Project page: <a href=\"https://wandb.ai/acse-jaq15/ACSE_9_LSTM_GRU\" target=\"_blank\">https://wandb.ai/acse-jaq15/ACSE_9_LSTM_GRU</a><br/>\n",
              "                Sweep page: <a href=\"https://wandb.ai/acse-jaq15/ACSE_9_LSTM_GRU/sweeps/amj4ayh1\" target=\"_blank\">https://wandb.ai/acse-jaq15/ACSE_9_LSTM_GRU/sweeps/amj4ayh1</a><br/>\n",
              "Run page: <a href=\"https://wandb.ai/acse-jaq15/ACSE_9_LSTM_GRU/runs/k8m8e7go\" target=\"_blank\">https://wandb.ai/acse-jaq15/ACSE_9_LSTM_GRU/runs/k8m8e7go</a><br/>\n",
              "                Run data is saved locally in <code>/content/feeder_repo/wandb/run-20210718_204332-k8m8e7go</code><br/><br/>\n",
              "            "
            ],
            "text/plain": [
              "<IPython.core.display.HTML object>"
            ]
          },
          "metadata": {
            "tags": []
          }
        },
        {
          "output_type": "stream",
          "text": [
            "WARNING:tensorflow:Layer lstm will not use cuDNN kernels since it doesn't meet the criteria. It will use a generic GPU kernel as fallback when running on GPU.\n",
            "WARNING:tensorflow:Layer gru will not use cuDNN kernels since it doesn't meet the criteria. It will use a generic GPU kernel as fallback when running on GPU.\n",
            "Epoch 1/50\n",
            "8/8 [==============================] - 7s 333ms/step - loss: 0.2719 - mean_squared_error: 0.2719 - mean_absolute_error: 0.4857 - val_loss: 0.3374 - val_mean_squared_error: 0.3374 - val_mean_absolute_error: 0.5638\n",
            "Epoch 2/50\n",
            "8/8 [==============================] - 1s 182ms/step - loss: 0.1911 - mean_squared_error: 0.1911 - mean_absolute_error: 0.4033 - val_loss: 0.2227 - val_mean_squared_error: 0.2227 - val_mean_absolute_error: 0.4546\n",
            "Epoch 3/50\n",
            "8/8 [==============================] - 1s 182ms/step - loss: 0.1168 - mean_squared_error: 0.1168 - mean_absolute_error: 0.3067 - val_loss: 0.0954 - val_mean_squared_error: 0.0954 - val_mean_absolute_error: 0.2879\n",
            "Epoch 4/50\n",
            "8/8 [==============================] - 1s 172ms/step - loss: 0.0348 - mean_squared_error: 0.0348 - mean_absolute_error: 0.1588 - val_loss: 0.0091 - val_mean_squared_error: 0.0091 - val_mean_absolute_error: 0.0784\n",
            "Epoch 5/50\n",
            "8/8 [==============================] - 1s 177ms/step - loss: 0.0156 - mean_squared_error: 0.0156 - mean_absolute_error: 0.1034 - val_loss: 0.0096 - val_mean_squared_error: 0.0096 - val_mean_absolute_error: 0.0812\n",
            "Epoch 6/50\n",
            "8/8 [==============================] - 2s 190ms/step - loss: 0.0107 - mean_squared_error: 0.0107 - mean_absolute_error: 0.0834 - val_loss: 0.0169 - val_mean_squared_error: 0.0169 - val_mean_absolute_error: 0.1045\n",
            "Epoch 7/50\n",
            "8/8 [==============================] - 1s 183ms/step - loss: 0.0109 - mean_squared_error: 0.0109 - mean_absolute_error: 0.0857 - val_loss: 0.0138 - val_mean_squared_error: 0.0138 - val_mean_absolute_error: 0.0936\n",
            "Epoch 8/50\n",
            "8/8 [==============================] - 1s 187ms/step - loss: 0.0090 - mean_squared_error: 0.0090 - mean_absolute_error: 0.0763 - val_loss: 0.0085 - val_mean_squared_error: 0.0085 - val_mean_absolute_error: 0.0730\n",
            "Epoch 9/50\n",
            "8/8 [==============================] - 1s 180ms/step - loss: 0.0079 - mean_squared_error: 0.0079 - mean_absolute_error: 0.0705 - val_loss: 0.0087 - val_mean_squared_error: 0.0087 - val_mean_absolute_error: 0.0733\n",
            "Epoch 10/50\n",
            "8/8 [==============================] - 2s 188ms/step - loss: 0.0062 - mean_squared_error: 0.0062 - mean_absolute_error: 0.0633 - val_loss: 0.0079 - val_mean_squared_error: 0.0079 - val_mean_absolute_error: 0.0704\n",
            "Epoch 11/50\n",
            "8/8 [==============================] - 1s 169ms/step - loss: 0.0058 - mean_squared_error: 0.0058 - mean_absolute_error: 0.0615 - val_loss: 0.0075 - val_mean_squared_error: 0.0075 - val_mean_absolute_error: 0.0696\n",
            "Epoch 12/50\n",
            "8/8 [==============================] - 2s 191ms/step - loss: 0.0051 - mean_squared_error: 0.0051 - mean_absolute_error: 0.0567 - val_loss: 0.0071 - val_mean_squared_error: 0.0071 - val_mean_absolute_error: 0.0680\n",
            "Epoch 13/50\n",
            "8/8 [==============================] - 1s 178ms/step - loss: 0.0044 - mean_squared_error: 0.0044 - mean_absolute_error: 0.0533 - val_loss: 0.0072 - val_mean_squared_error: 0.0072 - val_mean_absolute_error: 0.0686\n",
            "Epoch 14/50\n",
            "8/8 [==============================] - 1s 170ms/step - loss: 0.0044 - mean_squared_error: 0.0044 - mean_absolute_error: 0.0519 - val_loss: 0.0071 - val_mean_squared_error: 0.0071 - val_mean_absolute_error: 0.0673\n",
            "Epoch 15/50\n",
            "8/8 [==============================] - 1s 175ms/step - loss: 0.0044 - mean_squared_error: 0.0044 - mean_absolute_error: 0.0533 - val_loss: 0.0068 - val_mean_squared_error: 0.0068 - val_mean_absolute_error: 0.0664\n",
            "Epoch 16/50\n",
            "8/8 [==============================] - 1s 187ms/step - loss: 0.0045 - mean_squared_error: 0.0045 - mean_absolute_error: 0.0527 - val_loss: 0.0066 - val_mean_squared_error: 0.0066 - val_mean_absolute_error: 0.0653\n",
            "Epoch 17/50\n",
            "8/8 [==============================] - 1s 180ms/step - loss: 0.0044 - mean_squared_error: 0.0044 - mean_absolute_error: 0.0520 - val_loss: 0.0064 - val_mean_squared_error: 0.0064 - val_mean_absolute_error: 0.0645\n",
            "Epoch 18/50\n",
            "8/8 [==============================] - 1s 172ms/step - loss: 0.0042 - mean_squared_error: 0.0042 - mean_absolute_error: 0.0514 - val_loss: 0.0063 - val_mean_squared_error: 0.0063 - val_mean_absolute_error: 0.0634\n",
            "Epoch 19/50\n",
            "8/8 [==============================] - 1s 177ms/step - loss: 0.0040 - mean_squared_error: 0.0040 - mean_absolute_error: 0.0503 - val_loss: 0.0063 - val_mean_squared_error: 0.0063 - val_mean_absolute_error: 0.0637\n",
            "Epoch 20/50\n",
            "8/8 [==============================] - 2s 185ms/step - loss: 0.0042 - mean_squared_error: 0.0042 - mean_absolute_error: 0.0509 - val_loss: 0.0061 - val_mean_squared_error: 0.0061 - val_mean_absolute_error: 0.0621\n",
            "Epoch 21/50\n",
            "8/8 [==============================] - 1s 172ms/step - loss: 0.0042 - mean_squared_error: 0.0042 - mean_absolute_error: 0.0507 - val_loss: 0.0060 - val_mean_squared_error: 0.0060 - val_mean_absolute_error: 0.0619\n",
            "Epoch 22/50\n",
            "8/8 [==============================] - 1s 171ms/step - loss: 0.0041 - mean_squared_error: 0.0041 - mean_absolute_error: 0.0506 - val_loss: 0.0058 - val_mean_squared_error: 0.0058 - val_mean_absolute_error: 0.0610\n",
            "Epoch 23/50\n",
            "8/8 [==============================] - 1s 181ms/step - loss: 0.0043 - mean_squared_error: 0.0043 - mean_absolute_error: 0.0509 - val_loss: 0.0056 - val_mean_squared_error: 0.0056 - val_mean_absolute_error: 0.0598\n",
            "Epoch 24/50\n",
            "8/8 [==============================] - 1s 177ms/step - loss: 0.0039 - mean_squared_error: 0.0039 - mean_absolute_error: 0.0492 - val_loss: 0.0056 - val_mean_squared_error: 0.0056 - val_mean_absolute_error: 0.0599\n",
            "Epoch 25/50\n",
            "8/8 [==============================] - 1s 184ms/step - loss: 0.0041 - mean_squared_error: 0.0041 - mean_absolute_error: 0.0502 - val_loss: 0.0055 - val_mean_squared_error: 0.0055 - val_mean_absolute_error: 0.0587\n",
            "Epoch 26/50\n",
            "8/8 [==============================] - 1s 170ms/step - loss: 0.0037 - mean_squared_error: 0.0037 - mean_absolute_error: 0.0485 - val_loss: 0.0055 - val_mean_squared_error: 0.0055 - val_mean_absolute_error: 0.0596\n",
            "Epoch 27/50\n",
            "8/8 [==============================] - 1s 180ms/step - loss: 0.0036 - mean_squared_error: 0.0036 - mean_absolute_error: 0.0474 - val_loss: 0.0053 - val_mean_squared_error: 0.0053 - val_mean_absolute_error: 0.0580\n",
            "Epoch 28/50\n",
            "8/8 [==============================] - 1s 171ms/step - loss: 0.0039 - mean_squared_error: 0.0039 - mean_absolute_error: 0.0491 - val_loss: 0.0053 - val_mean_squared_error: 0.0053 - val_mean_absolute_error: 0.0583\n",
            "Epoch 29/50\n",
            "8/8 [==============================] - 2s 194ms/step - loss: 0.0034 - mean_squared_error: 0.0034 - mean_absolute_error: 0.0464 - val_loss: 0.0053 - val_mean_squared_error: 0.0053 - val_mean_absolute_error: 0.0574\n",
            "Epoch 30/50\n",
            "8/8 [==============================] - 1s 177ms/step - loss: 0.0038 - mean_squared_error: 0.0038 - mean_absolute_error: 0.0481 - val_loss: 0.0055 - val_mean_squared_error: 0.0055 - val_mean_absolute_error: 0.0596\n",
            "Epoch 31/50\n",
            "8/8 [==============================] - 1s 170ms/step - loss: 0.0034 - mean_squared_error: 0.0034 - mean_absolute_error: 0.0457 - val_loss: 0.0053 - val_mean_squared_error: 0.0053 - val_mean_absolute_error: 0.0580\n",
            "Epoch 32/50\n",
            "8/8 [==============================] - 1s 170ms/step - loss: 0.0042 - mean_squared_error: 0.0042 - mean_absolute_error: 0.0508 - val_loss: 0.0052 - val_mean_squared_error: 0.0052 - val_mean_absolute_error: 0.0568\n",
            "Epoch 33/50\n",
            "8/8 [==============================] - 1s 178ms/step - loss: 0.0037 - mean_squared_error: 0.0037 - mean_absolute_error: 0.0488 - val_loss: 0.0055 - val_mean_squared_error: 0.0055 - val_mean_absolute_error: 0.0592\n",
            "Epoch 34/50\n",
            "8/8 [==============================] - 1s 173ms/step - loss: 0.0038 - mean_squared_error: 0.0038 - mean_absolute_error: 0.0483 - val_loss: 0.0051 - val_mean_squared_error: 0.0051 - val_mean_absolute_error: 0.0567\n",
            "Epoch 35/50\n",
            "8/8 [==============================] - 1s 184ms/step - loss: 0.0040 - mean_squared_error: 0.0040 - mean_absolute_error: 0.0493 - val_loss: 0.0049 - val_mean_squared_error: 0.0049 - val_mean_absolute_error: 0.0557\n",
            "Epoch 36/50\n",
            "8/8 [==============================] - 1s 183ms/step - loss: 0.0034 - mean_squared_error: 0.0034 - mean_absolute_error: 0.0462 - val_loss: 0.0050 - val_mean_squared_error: 0.0050 - val_mean_absolute_error: 0.0563\n",
            "Epoch 37/50\n",
            "8/8 [==============================] - 1s 181ms/step - loss: 0.0038 - mean_squared_error: 0.0038 - mean_absolute_error: 0.0488 - val_loss: 0.0048 - val_mean_squared_error: 0.0048 - val_mean_absolute_error: 0.0551\n",
            "Epoch 38/50\n",
            "8/8 [==============================] - 1s 178ms/step - loss: 0.0037 - mean_squared_error: 0.0037 - mean_absolute_error: 0.0476 - val_loss: 0.0048 - val_mean_squared_error: 0.0048 - val_mean_absolute_error: 0.0549\n",
            "Epoch 39/50\n",
            "8/8 [==============================] - 1s 191ms/step - loss: 0.0035 - mean_squared_error: 0.0035 - mean_absolute_error: 0.0476 - val_loss: 0.0048 - val_mean_squared_error: 0.0048 - val_mean_absolute_error: 0.0549\n",
            "Epoch 40/50\n",
            "8/8 [==============================] - 1s 176ms/step - loss: 0.0035 - mean_squared_error: 0.0035 - mean_absolute_error: 0.0463 - val_loss: 0.0048 - val_mean_squared_error: 0.0048 - val_mean_absolute_error: 0.0546\n",
            "Epoch 41/50\n",
            "8/8 [==============================] - 1s 185ms/step - loss: 0.0034 - mean_squared_error: 0.0034 - mean_absolute_error: 0.0457 - val_loss: 0.0049 - val_mean_squared_error: 0.0049 - val_mean_absolute_error: 0.0557\n",
            "Epoch 42/50\n",
            "8/8 [==============================] - 1s 175ms/step - loss: 0.0034 - mean_squared_error: 0.0034 - mean_absolute_error: 0.0467 - val_loss: 0.0046 - val_mean_squared_error: 0.0046 - val_mean_absolute_error: 0.0537\n",
            "Epoch 43/50\n",
            "8/8 [==============================] - 2s 193ms/step - loss: 0.0036 - mean_squared_error: 0.0036 - mean_absolute_error: 0.0466 - val_loss: 0.0047 - val_mean_squared_error: 0.0047 - val_mean_absolute_error: 0.0542\n",
            "Epoch 44/50\n",
            "8/8 [==============================] - 2s 192ms/step - loss: 0.0034 - mean_squared_error: 0.0034 - mean_absolute_error: 0.0457 - val_loss: 0.0046 - val_mean_squared_error: 0.0046 - val_mean_absolute_error: 0.0539\n",
            "Epoch 45/50\n",
            "8/8 [==============================] - 2s 202ms/step - loss: 0.0033 - mean_squared_error: 0.0033 - mean_absolute_error: 0.0450 - val_loss: 0.0045 - val_mean_squared_error: 0.0045 - val_mean_absolute_error: 0.0530\n",
            "Epoch 46/50\n",
            "8/8 [==============================] - 1s 187ms/step - loss: 0.0032 - mean_squared_error: 0.0032 - mean_absolute_error: 0.0454 - val_loss: 0.0045 - val_mean_squared_error: 0.0045 - val_mean_absolute_error: 0.0530\n",
            "Epoch 47/50\n",
            "8/8 [==============================] - 1s 170ms/step - loss: 0.0034 - mean_squared_error: 0.0034 - mean_absolute_error: 0.0458 - val_loss: 0.0049 - val_mean_squared_error: 0.0049 - val_mean_absolute_error: 0.0557\n",
            "Epoch 48/50\n",
            "8/8 [==============================] - 1s 185ms/step - loss: 0.0032 - mean_squared_error: 0.0032 - mean_absolute_error: 0.0446 - val_loss: 0.0044 - val_mean_squared_error: 0.0044 - val_mean_absolute_error: 0.0521\n",
            "Epoch 49/50\n",
            "8/8 [==============================] - 1s 176ms/step - loss: 0.0034 - mean_squared_error: 0.0034 - mean_absolute_error: 0.0465 - val_loss: 0.0044 - val_mean_squared_error: 0.0044 - val_mean_absolute_error: 0.0521\n",
            "Epoch 50/50\n",
            "8/8 [==============================] - 2s 196ms/step - loss: 0.0035 - mean_squared_error: 0.0035 - mean_absolute_error: 0.0474 - val_loss: 0.0052 - val_mean_squared_error: 0.0052 - val_mean_absolute_error: 0.0574\n"
          ],
          "name": "stdout"
        },
        {
          "output_type": "display_data",
          "data": {
            "text/html": [
              "<br/>Waiting for W&B process to finish, PID 7980<br/>Program ended successfully."
            ],
            "text/plain": [
              "<IPython.core.display.HTML object>"
            ]
          },
          "metadata": {
            "tags": []
          }
        },
        {
          "output_type": "display_data",
          "data": {
            "application/vnd.jupyter.widget-view+json": {
              "model_id": "0092e9dd36f94be69f5a12924fd15cee",
              "version_minor": 0,
              "version_major": 2
            },
            "text/plain": [
              "VBox(children=(Label(value=' 1.06MB of 1.06MB uploaded (0.00MB deduped)\\r'), FloatProgress(value=1.0, max=1.0)…"
            ]
          },
          "metadata": {
            "tags": []
          }
        },
        {
          "output_type": "display_data",
          "data": {
            "text/html": [
              "Find user logs for this run at: <code>/content/feeder_repo/wandb/run-20210718_204332-k8m8e7go/logs/debug.log</code>"
            ],
            "text/plain": [
              "<IPython.core.display.HTML object>"
            ]
          },
          "metadata": {
            "tags": []
          }
        },
        {
          "output_type": "display_data",
          "data": {
            "text/html": [
              "Find internal logs for this run at: <code>/content/feeder_repo/wandb/run-20210718_204332-k8m8e7go/logs/debug-internal.log</code>"
            ],
            "text/plain": [
              "<IPython.core.display.HTML object>"
            ]
          },
          "metadata": {
            "tags": []
          }
        },
        {
          "output_type": "display_data",
          "data": {
            "text/html": [
              "<h3>Run summary:</h3><br/><style>\n",
              "    table.wandb td:nth-child(1) { padding: 0 10px; text-align: right }\n",
              "    </style><table class=\"wandb\">\n",
              "<tr><td>epoch</td><td>49</td></tr><tr><td>loss</td><td>0.00353</td></tr><tr><td>mean_squared_error</td><td>0.00353</td></tr><tr><td>mean_absolute_error</td><td>0.04773</td></tr><tr><td>val_loss</td><td>0.00523</td></tr><tr><td>val_mean_squared_error</td><td>0.00523</td></tr><tr><td>val_mean_absolute_error</td><td>0.0574</td></tr><tr><td>_runtime</td><td>84</td></tr><tr><td>_timestamp</td><td>1626641096</td></tr><tr><td>_step</td><td>49</td></tr><tr><td>best_val_loss</td><td>0.0044</td></tr><tr><td>best_epoch</td><td>48</td></tr></table>"
            ],
            "text/plain": [
              "<IPython.core.display.HTML object>"
            ]
          },
          "metadata": {
            "tags": []
          }
        },
        {
          "output_type": "display_data",
          "data": {
            "text/html": [
              "<h3>Run history:</h3><br/><style>\n",
              "    table.wandb td:nth-child(1) { padding: 0 10px; text-align: right }\n",
              "    </style><table class=\"wandb\">\n",
              "<tr><td>epoch</td><td>▁▁▁▁▂▂▂▂▂▃▃▃▃▃▃▄▄▄▄▄▅▅▅▅▅▅▆▆▆▆▆▆▇▇▇▇▇███</td></tr><tr><td>loss</td><td>█▆▄▂▁▁▁▁▁▁▁▁▁▁▁▁▁▁▁▁▁▁▁▁▁▁▁▁▁▁▁▁▁▁▁▁▁▁▁▁</td></tr><tr><td>mean_squared_error</td><td>█▆▄▂▁▁▁▁▁▁▁▁▁▁▁▁▁▁▁▁▁▁▁▁▁▁▁▁▁▁▁▁▁▁▁▁▁▁▁▁</td></tr><tr><td>mean_absolute_error</td><td>█▇▅▂▂▂▁▁▁▁▁▁▁▁▁▁▁▁▁▁▁▁▁▁▁▁▁▁▁▁▁▁▁▁▁▁▁▁▁▁</td></tr><tr><td>val_loss</td><td>█▆▃▁▁▁▁▁▁▁▁▁▁▁▁▁▁▁▁▁▁▁▁▁▁▁▁▁▁▁▁▁▁▁▁▁▁▁▁▁</td></tr><tr><td>val_mean_squared_error</td><td>█▆▃▁▁▁▁▁▁▁▁▁▁▁▁▁▁▁▁▁▁▁▁▁▁▁▁▁▁▁▁▁▁▁▁▁▁▁▁▁</td></tr><tr><td>val_mean_absolute_error</td><td>█▇▄▁▂▂▁▁▁▁▁▁▁▁▁▁▁▁▁▁▁▁▁▁▁▁▁▁▁▁▁▁▁▁▁▁▁▁▁▁</td></tr><tr><td>_runtime</td><td>▁▁▁▁▂▂▂▂▂▃▃▃▃▃▃▄▄▄▄▄▅▅▅▅▅▅▆▆▆▆▆▆▇▇▇▇▇███</td></tr><tr><td>_timestamp</td><td>▁▁▁▁▂▂▂▂▂▃▃▃▃▃▃▄▄▄▄▄▅▅▅▅▅▅▆▆▆▆▆▆▇▇▇▇▇███</td></tr><tr><td>_step</td><td>▁▁▁▁▂▂▂▂▂▃▃▃▃▃▃▄▄▄▄▄▅▅▅▅▅▅▆▆▆▆▆▆▇▇▇▇▇███</td></tr></table><br/>"
            ],
            "text/plain": [
              "<IPython.core.display.HTML object>"
            ]
          },
          "metadata": {
            "tags": []
          }
        },
        {
          "output_type": "display_data",
          "data": {
            "text/html": [
              "Synced 5 W&B file(s), 1 media file(s), 2 artifact file(s) and 2 other file(s)"
            ],
            "text/plain": [
              "<IPython.core.display.HTML object>"
            ]
          },
          "metadata": {
            "tags": []
          }
        },
        {
          "output_type": "display_data",
          "data": {
            "text/html": [
              "\n",
              "                    <br/>Synced <strong style=\"color:#cdcd00\">radiant-sweep-28</strong>: <a href=\"https://wandb.ai/acse-jaq15/ACSE_9_LSTM_GRU/runs/k8m8e7go\" target=\"_blank\">https://wandb.ai/acse-jaq15/ACSE_9_LSTM_GRU/runs/k8m8e7go</a><br/>\n",
              "                "
            ],
            "text/plain": [
              "<IPython.core.display.HTML object>"
            ]
          },
          "metadata": {
            "tags": []
          }
        },
        {
          "output_type": "stream",
          "text": [
            "\u001b[34m\u001b[1mwandb\u001b[0m: Sweep Agent: Waiting for job.\n",
            "\u001b[34m\u001b[1mwandb\u001b[0m: Job received.\n",
            "\u001b[34m\u001b[1mwandb\u001b[0m: Agent Starting Run: ebwkhryt with config:\n",
            "\u001b[34m\u001b[1mwandb\u001b[0m: \tactivation: selu\n",
            "\u001b[34m\u001b[1mwandb\u001b[0m: \tbatch_size: 64\n",
            "\u001b[34m\u001b[1mwandb\u001b[0m: \tdropout: 0.1\n",
            "\u001b[34m\u001b[1mwandb\u001b[0m: \tepochs: 100\n",
            "\u001b[34m\u001b[1mwandb\u001b[0m: \tlearning_rate: 0.005\n",
            "\u001b[34m\u001b[1mwandb\u001b[0m: \toptimizer: adam\n"
          ],
          "name": "stderr"
        },
        {
          "output_type": "display_data",
          "data": {
            "text/html": [
              "\n",
              "                Tracking run with wandb version 0.11.0<br/>\n",
              "                Syncing run <strong style=\"color:#cdcd00\">divine-sweep-29</strong> to <a href=\"https://wandb.ai\" target=\"_blank\">Weights & Biases</a> <a href=\"https://docs.wandb.com/integrations/jupyter.html\" target=\"_blank\">(Documentation)</a>.<br/>\n",
              "                Project page: <a href=\"https://wandb.ai/acse-jaq15/ACSE_9_LSTM_GRU\" target=\"_blank\">https://wandb.ai/acse-jaq15/ACSE_9_LSTM_GRU</a><br/>\n",
              "                Sweep page: <a href=\"https://wandb.ai/acse-jaq15/ACSE_9_LSTM_GRU/sweeps/amj4ayh1\" target=\"_blank\">https://wandb.ai/acse-jaq15/ACSE_9_LSTM_GRU/sweeps/amj4ayh1</a><br/>\n",
              "Run page: <a href=\"https://wandb.ai/acse-jaq15/ACSE_9_LSTM_GRU/runs/ebwkhryt\" target=\"_blank\">https://wandb.ai/acse-jaq15/ACSE_9_LSTM_GRU/runs/ebwkhryt</a><br/>\n",
              "                Run data is saved locally in <code>/content/feeder_repo/wandb/run-20210718_204533-ebwkhryt</code><br/><br/>\n",
              "            "
            ],
            "text/plain": [
              "<IPython.core.display.HTML object>"
            ]
          },
          "metadata": {
            "tags": []
          }
        },
        {
          "output_type": "stream",
          "text": [
            "WARNING:tensorflow:Layer lstm will not use cuDNN kernels since it doesn't meet the criteria. It will use a generic GPU kernel as fallback when running on GPU.\n",
            "WARNING:tensorflow:Layer gru will not use cuDNN kernels since it doesn't meet the criteria. It will use a generic GPU kernel as fallback when running on GPU.\n",
            "Epoch 1/100\n",
            "16/16 [==============================] - 8s 256ms/step - loss: 0.4830 - mean_squared_error: 0.4830 - mean_absolute_error: 0.4460 - val_loss: 0.0051 - val_mean_squared_error: 0.0051 - val_mean_absolute_error: 0.0566\n",
            "Epoch 2/100\n",
            "16/16 [==============================] - 3s 193ms/step - loss: 0.0070 - mean_squared_error: 0.0070 - mean_absolute_error: 0.0669 - val_loss: 0.0061 - val_mean_squared_error: 0.0061 - val_mean_absolute_error: 0.0622\n",
            "Epoch 3/100\n",
            "16/16 [==============================] - 3s 176ms/step - loss: 0.0032 - mean_squared_error: 0.0032 - mean_absolute_error: 0.0443 - val_loss: 0.0036 - val_mean_squared_error: 0.0036 - val_mean_absolute_error: 0.0465\n",
            "Epoch 4/100\n",
            "16/16 [==============================] - 3s 169ms/step - loss: 0.0026 - mean_squared_error: 0.0026 - mean_absolute_error: 0.0396 - val_loss: 0.0035 - val_mean_squared_error: 0.0035 - val_mean_absolute_error: 0.0456\n",
            "Epoch 5/100\n",
            "16/16 [==============================] - 3s 181ms/step - loss: 0.0027 - mean_squared_error: 0.0027 - mean_absolute_error: 0.0409 - val_loss: 0.0040 - val_mean_squared_error: 0.0040 - val_mean_absolute_error: 0.0491\n",
            "Epoch 6/100\n",
            "16/16 [==============================] - 3s 179ms/step - loss: 0.0025 - mean_squared_error: 0.0025 - mean_absolute_error: 0.0393 - val_loss: 0.0035 - val_mean_squared_error: 0.0035 - val_mean_absolute_error: 0.0479\n",
            "Epoch 7/100\n",
            "16/16 [==============================] - 3s 173ms/step - loss: 0.0025 - mean_squared_error: 0.0025 - mean_absolute_error: 0.0393 - val_loss: 0.0031 - val_mean_squared_error: 0.0031 - val_mean_absolute_error: 0.0439\n",
            "Epoch 8/100\n",
            "16/16 [==============================] - 3s 187ms/step - loss: 0.0023 - mean_squared_error: 0.0023 - mean_absolute_error: 0.0378 - val_loss: 0.0030 - val_mean_squared_error: 0.0030 - val_mean_absolute_error: 0.0434\n",
            "Epoch 9/100\n",
            "16/16 [==============================] - 3s 188ms/step - loss: 0.0021 - mean_squared_error: 0.0021 - mean_absolute_error: 0.0362 - val_loss: 0.0029 - val_mean_squared_error: 0.0029 - val_mean_absolute_error: 0.0420\n",
            "Epoch 10/100\n",
            "16/16 [==============================] - 3s 173ms/step - loss: 0.0020 - mean_squared_error: 0.0020 - mean_absolute_error: 0.0348 - val_loss: 0.0028 - val_mean_squared_error: 0.0028 - val_mean_absolute_error: 0.0418\n",
            "Epoch 11/100\n",
            "16/16 [==============================] - 3s 176ms/step - loss: 0.0020 - mean_squared_error: 0.0020 - mean_absolute_error: 0.0350 - val_loss: 0.0029 - val_mean_squared_error: 0.0029 - val_mean_absolute_error: 0.0417\n",
            "Epoch 12/100\n",
            "16/16 [==============================] - 3s 178ms/step - loss: 0.0021 - mean_squared_error: 0.0021 - mean_absolute_error: 0.0361 - val_loss: 0.0027 - val_mean_squared_error: 0.0027 - val_mean_absolute_error: 0.0408\n",
            "Epoch 13/100\n",
            "16/16 [==============================] - 3s 173ms/step - loss: 0.0019 - mean_squared_error: 0.0019 - mean_absolute_error: 0.0348 - val_loss: 0.0027 - val_mean_squared_error: 0.0027 - val_mean_absolute_error: 0.0407\n",
            "Epoch 14/100\n",
            "16/16 [==============================] - 3s 176ms/step - loss: 0.0020 - mean_squared_error: 0.0020 - mean_absolute_error: 0.0351 - val_loss: 0.0040 - val_mean_squared_error: 0.0040 - val_mean_absolute_error: 0.0491\n",
            "Epoch 15/100\n",
            "16/16 [==============================] - 3s 184ms/step - loss: 0.0024 - mean_squared_error: 0.0024 - mean_absolute_error: 0.0390 - val_loss: 0.0026 - val_mean_squared_error: 0.0026 - val_mean_absolute_error: 0.0415\n",
            "Epoch 16/100\n",
            "16/16 [==============================] - 3s 175ms/step - loss: 0.0021 - mean_squared_error: 0.0021 - mean_absolute_error: 0.0356 - val_loss: 0.0025 - val_mean_squared_error: 0.0025 - val_mean_absolute_error: 0.0400\n",
            "Epoch 17/100\n",
            "16/16 [==============================] - 3s 179ms/step - loss: 0.0017 - mean_squared_error: 0.0017 - mean_absolute_error: 0.0320 - val_loss: 0.0024 - val_mean_squared_error: 0.0024 - val_mean_absolute_error: 0.0393\n",
            "Epoch 18/100\n",
            "16/16 [==============================] - 3s 172ms/step - loss: 0.0019 - mean_squared_error: 0.0019 - mean_absolute_error: 0.0344 - val_loss: 0.0024 - val_mean_squared_error: 0.0024 - val_mean_absolute_error: 0.0391\n",
            "Epoch 19/100\n",
            "16/16 [==============================] - 3s 176ms/step - loss: 0.0017 - mean_squared_error: 0.0017 - mean_absolute_error: 0.0323 - val_loss: 0.0024 - val_mean_squared_error: 0.0024 - val_mean_absolute_error: 0.0392\n",
            "Epoch 20/100\n",
            "16/16 [==============================] - 3s 181ms/step - loss: 0.0020 - mean_squared_error: 0.0020 - mean_absolute_error: 0.0355 - val_loss: 0.0024 - val_mean_squared_error: 0.0024 - val_mean_absolute_error: 0.0388\n",
            "Epoch 21/100\n",
            "16/16 [==============================] - 3s 185ms/step - loss: 0.0018 - mean_squared_error: 0.0018 - mean_absolute_error: 0.0335 - val_loss: 0.0023 - val_mean_squared_error: 0.0023 - val_mean_absolute_error: 0.0380\n",
            "Epoch 22/100\n",
            "16/16 [==============================] - 3s 183ms/step - loss: 0.0019 - mean_squared_error: 0.0019 - mean_absolute_error: 0.0337 - val_loss: 0.0024 - val_mean_squared_error: 0.0024 - val_mean_absolute_error: 0.0383\n",
            "Epoch 23/100\n",
            "16/16 [==============================] - 3s 185ms/step - loss: 0.0019 - mean_squared_error: 0.0019 - mean_absolute_error: 0.0343 - val_loss: 0.0024 - val_mean_squared_error: 0.0024 - val_mean_absolute_error: 0.0385\n",
            "Epoch 24/100\n",
            "16/16 [==============================] - 3s 175ms/step - loss: 0.0016 - mean_squared_error: 0.0016 - mean_absolute_error: 0.0322 - val_loss: 0.0022 - val_mean_squared_error: 0.0022 - val_mean_absolute_error: 0.0371\n",
            "Epoch 25/100\n",
            "16/16 [==============================] - 3s 185ms/step - loss: 0.0017 - mean_squared_error: 0.0017 - mean_absolute_error: 0.0328 - val_loss: 0.0022 - val_mean_squared_error: 0.0022 - val_mean_absolute_error: 0.0370\n",
            "Epoch 26/100\n",
            "16/16 [==============================] - 3s 186ms/step - loss: 0.0015 - mean_squared_error: 0.0015 - mean_absolute_error: 0.0301 - val_loss: 0.0022 - val_mean_squared_error: 0.0022 - val_mean_absolute_error: 0.0368\n",
            "Epoch 27/100\n",
            "16/16 [==============================] - 3s 178ms/step - loss: 0.0017 - mean_squared_error: 0.0017 - mean_absolute_error: 0.0327 - val_loss: 0.0021 - val_mean_squared_error: 0.0021 - val_mean_absolute_error: 0.0362\n",
            "Epoch 28/100\n",
            "16/16 [==============================] - 3s 173ms/step - loss: 0.0015 - mean_squared_error: 0.0015 - mean_absolute_error: 0.0299 - val_loss: 0.0021 - val_mean_squared_error: 0.0021 - val_mean_absolute_error: 0.0363\n",
            "Epoch 29/100\n",
            "16/16 [==============================] - 3s 177ms/step - loss: 0.0014 - mean_squared_error: 0.0014 - mean_absolute_error: 0.0301 - val_loss: 0.0022 - val_mean_squared_error: 0.0022 - val_mean_absolute_error: 0.0369\n",
            "Epoch 30/100\n",
            "16/16 [==============================] - 3s 175ms/step - loss: 0.0015 - mean_squared_error: 0.0015 - mean_absolute_error: 0.0301 - val_loss: 0.0020 - val_mean_squared_error: 0.0020 - val_mean_absolute_error: 0.0359\n",
            "Epoch 31/100\n",
            "16/16 [==============================] - 3s 174ms/step - loss: 0.0016 - mean_squared_error: 0.0016 - mean_absolute_error: 0.0310 - val_loss: 0.0022 - val_mean_squared_error: 0.0022 - val_mean_absolute_error: 0.0370\n",
            "Epoch 32/100\n",
            "16/16 [==============================] - 3s 185ms/step - loss: 0.0015 - mean_squared_error: 0.0015 - mean_absolute_error: 0.0308 - val_loss: 0.0021 - val_mean_squared_error: 0.0021 - val_mean_absolute_error: 0.0363\n",
            "Epoch 33/100\n",
            "16/16 [==============================] - 3s 177ms/step - loss: 0.0014 - mean_squared_error: 0.0014 - mean_absolute_error: 0.0300 - val_loss: 0.0019 - val_mean_squared_error: 0.0019 - val_mean_absolute_error: 0.0350\n",
            "Epoch 34/100\n",
            "16/16 [==============================] - 3s 180ms/step - loss: 0.0014 - mean_squared_error: 0.0014 - mean_absolute_error: 0.0290 - val_loss: 0.0020 - val_mean_squared_error: 0.0020 - val_mean_absolute_error: 0.0352\n",
            "Epoch 35/100\n",
            "16/16 [==============================] - 3s 178ms/step - loss: 0.0015 - mean_squared_error: 0.0015 - mean_absolute_error: 0.0308 - val_loss: 0.0020 - val_mean_squared_error: 0.0020 - val_mean_absolute_error: 0.0356\n",
            "Epoch 36/100\n",
            "16/16 [==============================] - 3s 186ms/step - loss: 0.0013 - mean_squared_error: 0.0013 - mean_absolute_error: 0.0283 - val_loss: 0.0020 - val_mean_squared_error: 0.0020 - val_mean_absolute_error: 0.0360\n",
            "Epoch 37/100\n",
            "16/16 [==============================] - 3s 185ms/step - loss: 0.0016 - mean_squared_error: 0.0016 - mean_absolute_error: 0.0316 - val_loss: 0.0019 - val_mean_squared_error: 0.0019 - val_mean_absolute_error: 0.0349\n",
            "Epoch 38/100\n",
            "16/16 [==============================] - 3s 178ms/step - loss: 0.0013 - mean_squared_error: 0.0013 - mean_absolute_error: 0.0287 - val_loss: 0.0019 - val_mean_squared_error: 0.0019 - val_mean_absolute_error: 0.0347\n",
            "Epoch 39/100\n",
            "16/16 [==============================] - 3s 175ms/step - loss: 0.0014 - mean_squared_error: 0.0014 - mean_absolute_error: 0.0293 - val_loss: 0.0019 - val_mean_squared_error: 0.0019 - val_mean_absolute_error: 0.0344\n",
            "Epoch 40/100\n",
            "16/16 [==============================] - 3s 181ms/step - loss: 0.0015 - mean_squared_error: 0.0015 - mean_absolute_error: 0.0306 - val_loss: 0.0019 - val_mean_squared_error: 0.0019 - val_mean_absolute_error: 0.0349\n",
            "Epoch 41/100\n",
            "16/16 [==============================] - 3s 182ms/step - loss: 0.0014 - mean_squared_error: 0.0014 - mean_absolute_error: 0.0289 - val_loss: 0.0019 - val_mean_squared_error: 0.0019 - val_mean_absolute_error: 0.0345\n",
            "Epoch 42/100\n",
            "16/16 [==============================] - 3s 177ms/step - loss: 0.0013 - mean_squared_error: 0.0013 - mean_absolute_error: 0.0281 - val_loss: 0.0018 - val_mean_squared_error: 0.0018 - val_mean_absolute_error: 0.0336\n",
            "Epoch 43/100\n",
            "16/16 [==============================] - 3s 173ms/step - loss: 0.0015 - mean_squared_error: 0.0015 - mean_absolute_error: 0.0299 - val_loss: 0.0018 - val_mean_squared_error: 0.0018 - val_mean_absolute_error: 0.0337\n",
            "Epoch 44/100\n",
            "16/16 [==============================] - 3s 179ms/step - loss: 0.0016 - mean_squared_error: 0.0016 - mean_absolute_error: 0.0312 - val_loss: 0.0019 - val_mean_squared_error: 0.0019 - val_mean_absolute_error: 0.0348\n",
            "Epoch 45/100\n",
            "16/16 [==============================] - 3s 186ms/step - loss: 0.0014 - mean_squared_error: 0.0014 - mean_absolute_error: 0.0300 - val_loss: 0.0019 - val_mean_squared_error: 0.0019 - val_mean_absolute_error: 0.0345\n",
            "Epoch 46/100\n",
            "16/16 [==============================] - 3s 179ms/step - loss: 0.0015 - mean_squared_error: 0.0015 - mean_absolute_error: 0.0304 - val_loss: 0.0023 - val_mean_squared_error: 0.0023 - val_mean_absolute_error: 0.0376\n",
            "Epoch 47/100\n",
            "16/16 [==============================] - 3s 179ms/step - loss: 0.0016 - mean_squared_error: 0.0016 - mean_absolute_error: 0.0316 - val_loss: 0.0020 - val_mean_squared_error: 0.0020 - val_mean_absolute_error: 0.0355\n",
            "Epoch 48/100\n",
            "16/16 [==============================] - 3s 173ms/step - loss: 0.0016 - mean_squared_error: 0.0016 - mean_absolute_error: 0.0312 - val_loss: 0.0022 - val_mean_squared_error: 0.0022 - val_mean_absolute_error: 0.0367\n",
            "Epoch 49/100\n",
            "16/16 [==============================] - 3s 183ms/step - loss: 0.0016 - mean_squared_error: 0.0016 - mean_absolute_error: 0.0311 - val_loss: 0.0018 - val_mean_squared_error: 0.0018 - val_mean_absolute_error: 0.0340\n",
            "Epoch 50/100\n",
            "16/16 [==============================] - 3s 177ms/step - loss: 0.0014 - mean_squared_error: 0.0014 - mean_absolute_error: 0.0294 - val_loss: 0.0019 - val_mean_squared_error: 0.0019 - val_mean_absolute_error: 0.0338\n",
            "Epoch 51/100\n",
            "16/16 [==============================] - 3s 178ms/step - loss: 0.0013 - mean_squared_error: 0.0013 - mean_absolute_error: 0.0286 - val_loss: 0.0018 - val_mean_squared_error: 0.0018 - val_mean_absolute_error: 0.0329\n",
            "Epoch 52/100\n",
            "16/16 [==============================] - 3s 177ms/step - loss: 0.0012 - mean_squared_error: 0.0012 - mean_absolute_error: 0.0278 - val_loss: 0.0020 - val_mean_squared_error: 0.0020 - val_mean_absolute_error: 0.0355\n",
            "Epoch 53/100\n",
            "16/16 [==============================] - 3s 181ms/step - loss: 0.0012 - mean_squared_error: 0.0012 - mean_absolute_error: 0.0272 - val_loss: 0.0018 - val_mean_squared_error: 0.0018 - val_mean_absolute_error: 0.0328\n",
            "Epoch 54/100\n",
            "16/16 [==============================] - 3s 189ms/step - loss: 0.0013 - mean_squared_error: 0.0013 - mean_absolute_error: 0.0282 - val_loss: 0.0018 - val_mean_squared_error: 0.0018 - val_mean_absolute_error: 0.0330\n",
            "Epoch 55/100\n",
            "16/16 [==============================] - 3s 181ms/step - loss: 0.0012 - mean_squared_error: 0.0012 - mean_absolute_error: 0.0280 - val_loss: 0.0019 - val_mean_squared_error: 0.0019 - val_mean_absolute_error: 0.0338\n",
            "Epoch 56/100\n",
            "16/16 [==============================] - 3s 185ms/step - loss: 0.0012 - mean_squared_error: 0.0012 - mean_absolute_error: 0.0270 - val_loss: 0.0018 - val_mean_squared_error: 0.0018 - val_mean_absolute_error: 0.0332\n",
            "Epoch 57/100\n",
            "16/16 [==============================] - 3s 184ms/step - loss: 0.0014 - mean_squared_error: 0.0014 - mean_absolute_error: 0.0288 - val_loss: 0.0018 - val_mean_squared_error: 0.0018 - val_mean_absolute_error: 0.0328\n",
            "Epoch 58/100\n",
            "16/16 [==============================] - 3s 185ms/step - loss: 0.0013 - mean_squared_error: 0.0013 - mean_absolute_error: 0.0285 - val_loss: 0.0018 - val_mean_squared_error: 0.0018 - val_mean_absolute_error: 0.0332\n",
            "Epoch 59/100\n",
            "16/16 [==============================] - 3s 185ms/step - loss: 0.0013 - mean_squared_error: 0.0013 - mean_absolute_error: 0.0290 - val_loss: 0.0018 - val_mean_squared_error: 0.0018 - val_mean_absolute_error: 0.0329\n",
            "Epoch 60/100\n",
            "16/16 [==============================] - 3s 180ms/step - loss: 0.0013 - mean_squared_error: 0.0013 - mean_absolute_error: 0.0278 - val_loss: 0.0018 - val_mean_squared_error: 0.0018 - val_mean_absolute_error: 0.0332\n",
            "Epoch 61/100\n",
            "16/16 [==============================] - 3s 185ms/step - loss: 0.0012 - mean_squared_error: 0.0012 - mean_absolute_error: 0.0277 - val_loss: 0.0017 - val_mean_squared_error: 0.0017 - val_mean_absolute_error: 0.0328\n",
            "Epoch 62/100\n",
            "16/16 [==============================] - 3s 172ms/step - loss: 0.0013 - mean_squared_error: 0.0013 - mean_absolute_error: 0.0278 - val_loss: 0.0018 - val_mean_squared_error: 0.0018 - val_mean_absolute_error: 0.0327\n",
            "Epoch 63/100\n",
            "16/16 [==============================] - 3s 187ms/step - loss: 0.0014 - mean_squared_error: 0.0014 - mean_absolute_error: 0.0298 - val_loss: 0.0017 - val_mean_squared_error: 0.0017 - val_mean_absolute_error: 0.0325\n",
            "Epoch 64/100\n",
            "16/16 [==============================] - 3s 188ms/step - loss: 0.0012 - mean_squared_error: 0.0012 - mean_absolute_error: 0.0276 - val_loss: 0.0018 - val_mean_squared_error: 0.0018 - val_mean_absolute_error: 0.0325\n",
            "Epoch 65/100\n",
            "16/16 [==============================] - 3s 183ms/step - loss: 0.0012 - mean_squared_error: 0.0012 - mean_absolute_error: 0.0267 - val_loss: 0.0023 - val_mean_squared_error: 0.0023 - val_mean_absolute_error: 0.0381\n",
            "Epoch 66/100\n",
            "16/16 [==============================] - 3s 173ms/step - loss: 0.0014 - mean_squared_error: 0.0014 - mean_absolute_error: 0.0296 - val_loss: 0.0018 - val_mean_squared_error: 0.0018 - val_mean_absolute_error: 0.0336\n",
            "Epoch 67/100\n",
            "16/16 [==============================] - 3s 196ms/step - loss: 0.0013 - mean_squared_error: 0.0013 - mean_absolute_error: 0.0280 - val_loss: 0.0017 - val_mean_squared_error: 0.0017 - val_mean_absolute_error: 0.0324\n",
            "Epoch 68/100\n",
            "16/16 [==============================] - 3s 179ms/step - loss: 0.0013 - mean_squared_error: 0.0013 - mean_absolute_error: 0.0282 - val_loss: 0.0018 - val_mean_squared_error: 0.0018 - val_mean_absolute_error: 0.0336\n",
            "Epoch 69/100\n",
            "16/16 [==============================] - 3s 177ms/step - loss: 0.0013 - mean_squared_error: 0.0013 - mean_absolute_error: 0.0283 - val_loss: 0.0017 - val_mean_squared_error: 0.0017 - val_mean_absolute_error: 0.0326\n",
            "Epoch 70/100\n",
            "16/16 [==============================] - 3s 181ms/step - loss: 0.0011 - mean_squared_error: 0.0011 - mean_absolute_error: 0.0261 - val_loss: 0.0017 - val_mean_squared_error: 0.0017 - val_mean_absolute_error: 0.0322\n",
            "Epoch 71/100\n",
            "16/16 [==============================] - 3s 175ms/step - loss: 0.0012 - mean_squared_error: 0.0012 - mean_absolute_error: 0.0267 - val_loss: 0.0018 - val_mean_squared_error: 0.0018 - val_mean_absolute_error: 0.0329\n",
            "Epoch 72/100\n",
            "16/16 [==============================] - 3s 190ms/step - loss: 0.0012 - mean_squared_error: 0.0012 - mean_absolute_error: 0.0266 - val_loss: 0.0017 - val_mean_squared_error: 0.0017 - val_mean_absolute_error: 0.0320\n",
            "Epoch 73/100\n",
            "16/16 [==============================] - 3s 180ms/step - loss: 0.0013 - mean_squared_error: 0.0013 - mean_absolute_error: 0.0277 - val_loss: 0.0017 - val_mean_squared_error: 0.0017 - val_mean_absolute_error: 0.0318\n",
            "Epoch 74/100\n",
            "16/16 [==============================] - 3s 180ms/step - loss: 0.0011 - mean_squared_error: 0.0011 - mean_absolute_error: 0.0260 - val_loss: 0.0019 - val_mean_squared_error: 0.0019 - val_mean_absolute_error: 0.0341\n",
            "Epoch 75/100\n",
            "16/16 [==============================] - 3s 174ms/step - loss: 0.0014 - mean_squared_error: 0.0014 - mean_absolute_error: 0.0289 - val_loss: 0.0017 - val_mean_squared_error: 0.0017 - val_mean_absolute_error: 0.0322\n",
            "Epoch 76/100\n",
            "16/16 [==============================] - 3s 182ms/step - loss: 0.0011 - mean_squared_error: 0.0011 - mean_absolute_error: 0.0268 - val_loss: 0.0017 - val_mean_squared_error: 0.0017 - val_mean_absolute_error: 0.0320\n",
            "Epoch 77/100\n",
            "16/16 [==============================] - 3s 181ms/step - loss: 0.0011 - mean_squared_error: 0.0011 - mean_absolute_error: 0.0260 - val_loss: 0.0021 - val_mean_squared_error: 0.0021 - val_mean_absolute_error: 0.0365\n",
            "Epoch 78/100\n",
            "16/16 [==============================] - 3s 179ms/step - loss: 0.0012 - mean_squared_error: 0.0012 - mean_absolute_error: 0.0268 - val_loss: 0.0017 - val_mean_squared_error: 0.0017 - val_mean_absolute_error: 0.0316\n",
            "Epoch 79/100\n",
            "16/16 [==============================] - 3s 181ms/step - loss: 0.0011 - mean_squared_error: 0.0011 - mean_absolute_error: 0.0256 - val_loss: 0.0017 - val_mean_squared_error: 0.0017 - val_mean_absolute_error: 0.0315\n",
            "Epoch 80/100\n",
            "16/16 [==============================] - 3s 187ms/step - loss: 0.0012 - mean_squared_error: 0.0012 - mean_absolute_error: 0.0271 - val_loss: 0.0017 - val_mean_squared_error: 0.0017 - val_mean_absolute_error: 0.0320\n",
            "Epoch 81/100\n",
            "16/16 [==============================] - 3s 179ms/step - loss: 0.0011 - mean_squared_error: 0.0011 - mean_absolute_error: 0.0262 - val_loss: 0.0017 - val_mean_squared_error: 0.0017 - val_mean_absolute_error: 0.0320\n",
            "Epoch 82/100\n",
            "16/16 [==============================] - 3s 183ms/step - loss: 0.0011 - mean_squared_error: 0.0011 - mean_absolute_error: 0.0272 - val_loss: 0.0018 - val_mean_squared_error: 0.0018 - val_mean_absolute_error: 0.0333\n",
            "Epoch 83/100\n",
            "16/16 [==============================] - 3s 186ms/step - loss: 0.0011 - mean_squared_error: 0.0011 - mean_absolute_error: 0.0263 - val_loss: 0.0018 - val_mean_squared_error: 0.0018 - val_mean_absolute_error: 0.0331\n",
            "Epoch 84/100\n",
            "16/16 [==============================] - 3s 175ms/step - loss: 0.0013 - mean_squared_error: 0.0013 - mean_absolute_error: 0.0284 - val_loss: 0.0021 - val_mean_squared_error: 0.0021 - val_mean_absolute_error: 0.0363\n",
            "Epoch 85/100\n",
            "16/16 [==============================] - 3s 180ms/step - loss: 0.0014 - mean_squared_error: 0.0014 - mean_absolute_error: 0.0298 - val_loss: 0.0020 - val_mean_squared_error: 0.0020 - val_mean_absolute_error: 0.0349\n",
            "Epoch 86/100\n",
            "16/16 [==============================] - 3s 183ms/step - loss: 0.0012 - mean_squared_error: 0.0012 - mean_absolute_error: 0.0264 - val_loss: 0.0017 - val_mean_squared_error: 0.0017 - val_mean_absolute_error: 0.0317\n",
            "Epoch 87/100\n",
            "16/16 [==============================] - 3s 176ms/step - loss: 0.0011 - mean_squared_error: 0.0011 - mean_absolute_error: 0.0258 - val_loss: 0.0018 - val_mean_squared_error: 0.0018 - val_mean_absolute_error: 0.0328\n",
            "Epoch 88/100\n",
            "16/16 [==============================] - 3s 183ms/step - loss: 0.0011 - mean_squared_error: 0.0011 - mean_absolute_error: 0.0267 - val_loss: 0.0016 - val_mean_squared_error: 0.0016 - val_mean_absolute_error: 0.0314\n",
            "Epoch 89/100\n",
            "16/16 [==============================] - 3s 218ms/step - loss: 0.0011 - mean_squared_error: 0.0011 - mean_absolute_error: 0.0254 - val_loss: 0.0017 - val_mean_squared_error: 0.0017 - val_mean_absolute_error: 0.0315\n",
            "Epoch 90/100\n",
            "16/16 [==============================] - 3s 178ms/step - loss: 0.0011 - mean_squared_error: 0.0011 - mean_absolute_error: 0.0260 - val_loss: 0.0017 - val_mean_squared_error: 0.0017 - val_mean_absolute_error: 0.0325\n",
            "Epoch 91/100\n",
            "16/16 [==============================] - 3s 178ms/step - loss: 0.0013 - mean_squared_error: 0.0013 - mean_absolute_error: 0.0280 - val_loss: 0.0020 - val_mean_squared_error: 0.0020 - val_mean_absolute_error: 0.0357\n",
            "Epoch 92/100\n",
            "16/16 [==============================] - 3s 178ms/step - loss: 0.0012 - mean_squared_error: 0.0012 - mean_absolute_error: 0.0278 - val_loss: 0.0017 - val_mean_squared_error: 0.0017 - val_mean_absolute_error: 0.0326\n",
            "Epoch 93/100\n",
            "16/16 [==============================] - 3s 182ms/step - loss: 0.0013 - mean_squared_error: 0.0013 - mean_absolute_error: 0.0288 - val_loss: 0.0017 - val_mean_squared_error: 0.0017 - val_mean_absolute_error: 0.0323\n",
            "Epoch 94/100\n",
            "16/16 [==============================] - 3s 180ms/step - loss: 0.0011 - mean_squared_error: 0.0011 - mean_absolute_error: 0.0262 - val_loss: 0.0017 - val_mean_squared_error: 0.0017 - val_mean_absolute_error: 0.0322\n",
            "Epoch 95/100\n",
            "16/16 [==============================] - 3s 187ms/step - loss: 0.0012 - mean_squared_error: 0.0012 - mean_absolute_error: 0.0269 - val_loss: 0.0017 - val_mean_squared_error: 0.0017 - val_mean_absolute_error: 0.0323\n",
            "Epoch 96/100\n",
            "16/16 [==============================] - 3s 175ms/step - loss: 0.0011 - mean_squared_error: 0.0011 - mean_absolute_error: 0.0265 - val_loss: 0.0016 - val_mean_squared_error: 0.0016 - val_mean_absolute_error: 0.0313\n",
            "Epoch 97/100\n",
            "16/16 [==============================] - 3s 172ms/step - loss: 0.0011 - mean_squared_error: 0.0011 - mean_absolute_error: 0.0264 - val_loss: 0.0017 - val_mean_squared_error: 0.0017 - val_mean_absolute_error: 0.0318\n",
            "Epoch 98/100\n",
            "16/16 [==============================] - 3s 170ms/step - loss: 0.0011 - mean_squared_error: 0.0011 - mean_absolute_error: 0.0256 - val_loss: 0.0017 - val_mean_squared_error: 0.0017 - val_mean_absolute_error: 0.0314\n",
            "Epoch 99/100\n",
            "16/16 [==============================] - 3s 168ms/step - loss: 0.0010 - mean_squared_error: 0.0010 - mean_absolute_error: 0.0249 - val_loss: 0.0017 - val_mean_squared_error: 0.0017 - val_mean_absolute_error: 0.0318\n",
            "Epoch 100/100\n",
            "16/16 [==============================] - 3s 186ms/step - loss: 0.0012 - mean_squared_error: 0.0012 - mean_absolute_error: 0.0267 - val_loss: 0.0017 - val_mean_squared_error: 0.0017 - val_mean_absolute_error: 0.0315\n"
          ],
          "name": "stdout"
        },
        {
          "output_type": "display_data",
          "data": {
            "text/html": [
              "<br/>Waiting for W&B process to finish, PID 8209<br/>Program ended successfully."
            ],
            "text/plain": [
              "<IPython.core.display.HTML object>"
            ]
          },
          "metadata": {
            "tags": []
          }
        },
        {
          "output_type": "display_data",
          "data": {
            "application/vnd.jupyter.widget-view+json": {
              "model_id": "196fcbdc423c42b2a9ddc43b1aff6acb",
              "version_minor": 0,
              "version_major": 2
            },
            "text/plain": [
              "VBox(children=(Label(value=' 1.10MB of 1.10MB uploaded (0.00MB deduped)\\r'), FloatProgress(value=1.0, max=1.0)…"
            ]
          },
          "metadata": {
            "tags": []
          }
        },
        {
          "output_type": "display_data",
          "data": {
            "text/html": [
              "Find user logs for this run at: <code>/content/feeder_repo/wandb/run-20210718_204533-ebwkhryt/logs/debug.log</code>"
            ],
            "text/plain": [
              "<IPython.core.display.HTML object>"
            ]
          },
          "metadata": {
            "tags": []
          }
        },
        {
          "output_type": "display_data",
          "data": {
            "text/html": [
              "Find internal logs for this run at: <code>/content/feeder_repo/wandb/run-20210718_204533-ebwkhryt/logs/debug-internal.log</code>"
            ],
            "text/plain": [
              "<IPython.core.display.HTML object>"
            ]
          },
          "metadata": {
            "tags": []
          }
        },
        {
          "output_type": "display_data",
          "data": {
            "text/html": [
              "<h3>Run summary:</h3><br/><style>\n",
              "    table.wandb td:nth-child(1) { padding: 0 10px; text-align: right }\n",
              "    </style><table class=\"wandb\">\n",
              "<tr><td>epoch</td><td>99</td></tr><tr><td>loss</td><td>0.00107</td></tr><tr><td>mean_squared_error</td><td>0.00107</td></tr><tr><td>mean_absolute_error</td><td>0.02578</td></tr><tr><td>val_loss</td><td>0.00167</td></tr><tr><td>val_mean_squared_error</td><td>0.00167</td></tr><tr><td>val_mean_absolute_error</td><td>0.03151</td></tr><tr><td>_runtime</td><td>301</td></tr><tr><td>_timestamp</td><td>1626641434</td></tr><tr><td>_step</td><td>99</td></tr><tr><td>best_val_loss</td><td>0.00164</td></tr><tr><td>best_epoch</td><td>95</td></tr></table>"
            ],
            "text/plain": [
              "<IPython.core.display.HTML object>"
            ]
          },
          "metadata": {
            "tags": []
          }
        },
        {
          "output_type": "display_data",
          "data": {
            "text/html": [
              "<h3>Run history:</h3><br/><style>\n",
              "    table.wandb td:nth-child(1) { padding: 0 10px; text-align: right }\n",
              "    </style><table class=\"wandb\">\n",
              "<tr><td>epoch</td><td>▁▁▁▁▂▂▂▂▂▃▃▃▃▃▃▄▄▄▄▄▅▅▅▅▅▅▆▆▆▆▆▇▇▇▇▇▇███</td></tr><tr><td>loss</td><td>█▁▁▁▁▁▁▁▁▁▁▁▁▁▁▁▁▁▁▁▁▁▁▁▁▁▁▁▁▁▁▁▁▁▁▁▁▁▁▁</td></tr><tr><td>mean_squared_error</td><td>█▁▁▁▁▁▁▁▁▁▁▁▁▁▁▁▁▁▁▁▁▁▁▁▁▁▁▁▁▁▁▁▁▁▁▁▁▁▁▁</td></tr><tr><td>mean_absolute_error</td><td>█▁▁▁▁▁▁▁▁▁▁▁▁▁▁▁▁▁▁▁▁▁▁▁▁▁▁▁▁▁▁▁▁▁▁▁▁▁▁▁</td></tr><tr><td>val_loss</td><td>█▅▅▄▄▃▃▃▂▂▂▂▂▂▂▁▂▂▂▁▁▁▁▁▁▁▁▁▁▁▂▁▁▂▁▁▁▁▁▁</td></tr><tr><td>val_mean_squared_error</td><td>█▅▅▄▄▃▃▃▂▂▂▂▂▂▂▁▂▂▂▁▁▁▁▁▁▁▁▁▁▁▂▁▁▂▁▁▁▁▁▁</td></tr><tr><td>val_mean_absolute_error</td><td>█▅▆▄▄▄▃▃▃▃▂▂▃▂▂▂▂▂▃▂▁▁▁▁▁▁▁▁▁▂▂▁▁▂▁▁▁▁▁▁</td></tr><tr><td>_runtime</td><td>▁▁▁▁▂▂▂▂▂▃▃▃▃▃▃▄▄▄▄▄▅▅▅▅▅▅▆▆▆▆▆▇▇▇▇▇▇███</td></tr><tr><td>_timestamp</td><td>▁▁▁▁▂▂▂▂▂▃▃▃▃▃▃▄▄▄▄▄▅▅▅▅▅▅▆▆▆▆▆▇▇▇▇▇▇███</td></tr><tr><td>_step</td><td>▁▁▁▁▂▂▂▂▂▃▃▃▃▃▃▄▄▄▄▄▅▅▅▅▅▅▆▆▆▆▆▇▇▇▇▇▇███</td></tr></table><br/>"
            ],
            "text/plain": [
              "<IPython.core.display.HTML object>"
            ]
          },
          "metadata": {
            "tags": []
          }
        },
        {
          "output_type": "display_data",
          "data": {
            "text/html": [
              "Synced 5 W&B file(s), 1 media file(s), 2 artifact file(s) and 2 other file(s)"
            ],
            "text/plain": [
              "<IPython.core.display.HTML object>"
            ]
          },
          "metadata": {
            "tags": []
          }
        },
        {
          "output_type": "display_data",
          "data": {
            "text/html": [
              "\n",
              "                    <br/>Synced <strong style=\"color:#cdcd00\">divine-sweep-29</strong>: <a href=\"https://wandb.ai/acse-jaq15/ACSE_9_LSTM_GRU/runs/ebwkhryt\" target=\"_blank\">https://wandb.ai/acse-jaq15/ACSE_9_LSTM_GRU/runs/ebwkhryt</a><br/>\n",
              "                "
            ],
            "text/plain": [
              "<IPython.core.display.HTML object>"
            ]
          },
          "metadata": {
            "tags": []
          }
        },
        {
          "output_type": "stream",
          "text": [
            "\u001b[34m\u001b[1mwandb\u001b[0m: Agent Starting Run: 38vl9bw9 with config:\n",
            "\u001b[34m\u001b[1mwandb\u001b[0m: \tactivation: selu\n",
            "\u001b[34m\u001b[1mwandb\u001b[0m: \tbatch_size: 128\n",
            "\u001b[34m\u001b[1mwandb\u001b[0m: \tdropout: 0.2\n",
            "\u001b[34m\u001b[1mwandb\u001b[0m: \tepochs: 100\n",
            "\u001b[34m\u001b[1mwandb\u001b[0m: \tlearning_rate: 0.005\n",
            "\u001b[34m\u001b[1mwandb\u001b[0m: \toptimizer: rmsprop\n"
          ],
          "name": "stderr"
        },
        {
          "output_type": "display_data",
          "data": {
            "text/html": [
              "\n",
              "                Tracking run with wandb version 0.11.0<br/>\n",
              "                Syncing run <strong style=\"color:#cdcd00\">curious-sweep-30</strong> to <a href=\"https://wandb.ai\" target=\"_blank\">Weights & Biases</a> <a href=\"https://docs.wandb.com/integrations/jupyter.html\" target=\"_blank\">(Documentation)</a>.<br/>\n",
              "                Project page: <a href=\"https://wandb.ai/acse-jaq15/ACSE_9_LSTM_GRU\" target=\"_blank\">https://wandb.ai/acse-jaq15/ACSE_9_LSTM_GRU</a><br/>\n",
              "                Sweep page: <a href=\"https://wandb.ai/acse-jaq15/ACSE_9_LSTM_GRU/sweeps/amj4ayh1\" target=\"_blank\">https://wandb.ai/acse-jaq15/ACSE_9_LSTM_GRU/sweeps/amj4ayh1</a><br/>\n",
              "Run page: <a href=\"https://wandb.ai/acse-jaq15/ACSE_9_LSTM_GRU/runs/38vl9bw9\" target=\"_blank\">https://wandb.ai/acse-jaq15/ACSE_9_LSTM_GRU/runs/38vl9bw9</a><br/>\n",
              "                Run data is saved locally in <code>/content/feeder_repo/wandb/run-20210718_205118-38vl9bw9</code><br/><br/>\n",
              "            "
            ],
            "text/plain": [
              "<IPython.core.display.HTML object>"
            ]
          },
          "metadata": {
            "tags": []
          }
        },
        {
          "output_type": "stream",
          "text": [
            "WARNING:tensorflow:Layer lstm will not use cuDNN kernels since it doesn't meet the criteria. It will use a generic GPU kernel as fallback when running on GPU.\n",
            "WARNING:tensorflow:Layer gru will not use cuDNN kernels since it doesn't meet the criteria. It will use a generic GPU kernel as fallback when running on GPU.\n",
            "Epoch 1/100\n",
            "8/8 [==============================] - 7s 333ms/step - loss: 10.4620 - mean_squared_error: 10.4620 - mean_absolute_error: 1.6475 - val_loss: 0.0430 - val_mean_squared_error: 0.0430 - val_mean_absolute_error: 0.1634\n",
            "Epoch 2/100\n",
            "8/8 [==============================] - 2s 199ms/step - loss: 0.0347 - mean_squared_error: 0.0347 - mean_absolute_error: 0.1438 - val_loss: 0.0606 - val_mean_squared_error: 0.0606 - val_mean_absolute_error: 0.2022\n",
            "Epoch 3/100\n",
            "8/8 [==============================] - 1s 183ms/step - loss: 0.0357 - mean_squared_error: 0.0357 - mean_absolute_error: 0.1526 - val_loss: 0.0666 - val_mean_squared_error: 0.0666 - val_mean_absolute_error: 0.2186\n",
            "Epoch 4/100\n",
            "8/8 [==============================] - 1s 186ms/step - loss: 0.0336 - mean_squared_error: 0.0336 - mean_absolute_error: 0.1485 - val_loss: 0.0755 - val_mean_squared_error: 0.0755 - val_mean_absolute_error: 0.2415\n",
            "Epoch 5/100\n",
            "8/8 [==============================] - 1s 183ms/step - loss: 0.0455 - mean_squared_error: 0.0455 - mean_absolute_error: 0.1805 - val_loss: 0.0370 - val_mean_squared_error: 0.0370 - val_mean_absolute_error: 0.1603\n",
            "Epoch 6/100\n",
            "8/8 [==============================] - 1s 173ms/step - loss: 0.0165 - mean_squared_error: 0.0165 - mean_absolute_error: 0.1007 - val_loss: 0.1024 - val_mean_squared_error: 0.1024 - val_mean_absolute_error: 0.2995\n",
            "Epoch 7/100\n",
            "8/8 [==============================] - 2s 194ms/step - loss: 0.0404 - mean_squared_error: 0.0404 - mean_absolute_error: 0.1747 - val_loss: 0.0179 - val_mean_squared_error: 0.0179 - val_mean_absolute_error: 0.1087\n",
            "Epoch 8/100\n",
            "8/8 [==============================] - 2s 189ms/step - loss: 0.0129 - mean_squared_error: 0.0129 - mean_absolute_error: 0.0881 - val_loss: 0.1069 - val_mean_squared_error: 0.1069 - val_mean_absolute_error: 0.3109\n",
            "Epoch 9/100\n",
            "8/8 [==============================] - 1s 184ms/step - loss: 0.0394 - mean_squared_error: 0.0394 - mean_absolute_error: 0.1739 - val_loss: 0.0157 - val_mean_squared_error: 0.0157 - val_mean_absolute_error: 0.1032\n",
            "Epoch 10/100\n",
            "8/8 [==============================] - 2s 191ms/step - loss: 0.0070 - mean_squared_error: 0.0070 - mean_absolute_error: 0.0664 - val_loss: 0.0403 - val_mean_squared_error: 0.0403 - val_mean_absolute_error: 0.1843\n",
            "Epoch 11/100\n",
            "8/8 [==============================] - 1s 188ms/step - loss: 0.0296 - mean_squared_error: 0.0296 - mean_absolute_error: 0.1509 - val_loss: 0.0560 - val_mean_squared_error: 0.0560 - val_mean_absolute_error: 0.2215\n",
            "Epoch 12/100\n",
            "8/8 [==============================] - 1s 175ms/step - loss: 0.0213 - mean_squared_error: 0.0213 - mean_absolute_error: 0.1227 - val_loss: 0.0138 - val_mean_squared_error: 0.0138 - val_mean_absolute_error: 0.0994\n",
            "Epoch 13/100\n",
            "8/8 [==============================] - 2s 190ms/step - loss: 0.0089 - mean_squared_error: 0.0089 - mean_absolute_error: 0.0770 - val_loss: 0.0571 - val_mean_squared_error: 0.0571 - val_mean_absolute_error: 0.2255\n",
            "Epoch 14/100\n",
            "8/8 [==============================] - 2s 211ms/step - loss: 0.0286 - mean_squared_error: 0.0286 - mean_absolute_error: 0.1431 - val_loss: 0.2769 - val_mean_squared_error: 0.2769 - val_mean_absolute_error: 0.5095\n",
            "Epoch 15/100\n",
            "8/8 [==============================] - 1s 185ms/step - loss: 0.0670 - mean_squared_error: 0.0670 - mean_absolute_error: 0.2015 - val_loss: 0.0055 - val_mean_squared_error: 0.0055 - val_mean_absolute_error: 0.0568\n",
            "Epoch 16/100\n",
            "8/8 [==============================] - 1s 182ms/step - loss: 0.0062 - mean_squared_error: 0.0062 - mean_absolute_error: 0.0622 - val_loss: 0.0043 - val_mean_squared_error: 0.0043 - val_mean_absolute_error: 0.0523\n",
            "Epoch 17/100\n",
            "8/8 [==============================] - 1s 188ms/step - loss: 0.0058 - mean_squared_error: 0.0058 - mean_absolute_error: 0.0599 - val_loss: 0.0192 - val_mean_squared_error: 0.0192 - val_mean_absolute_error: 0.1266\n",
            "Epoch 18/100\n",
            "8/8 [==============================] - 1s 181ms/step - loss: 0.0295 - mean_squared_error: 0.0295 - mean_absolute_error: 0.1528 - val_loss: 0.0050 - val_mean_squared_error: 0.0050 - val_mean_absolute_error: 0.0543\n",
            "Epoch 19/100\n",
            "8/8 [==============================] - 1s 175ms/step - loss: 0.0063 - mean_squared_error: 0.0063 - mean_absolute_error: 0.0629 - val_loss: 0.0062 - val_mean_squared_error: 0.0062 - val_mean_absolute_error: 0.0662\n",
            "Epoch 20/100\n",
            "8/8 [==============================] - 1s 178ms/step - loss: 0.0101 - mean_squared_error: 0.0101 - mean_absolute_error: 0.0850 - val_loss: 0.0086 - val_mean_squared_error: 0.0086 - val_mean_absolute_error: 0.0796\n",
            "Epoch 21/100\n",
            "8/8 [==============================] - 1s 171ms/step - loss: 0.0117 - mean_squared_error: 0.0117 - mean_absolute_error: 0.0930 - val_loss: 0.0068 - val_mean_squared_error: 0.0068 - val_mean_absolute_error: 0.0692\n",
            "Epoch 22/100\n",
            "8/8 [==============================] - 1s 184ms/step - loss: 0.0152 - mean_squared_error: 0.0152 - mean_absolute_error: 0.1074 - val_loss: 0.0048 - val_mean_squared_error: 0.0048 - val_mean_absolute_error: 0.0557\n",
            "Epoch 23/100\n",
            "8/8 [==============================] - 1s 191ms/step - loss: 0.0051 - mean_squared_error: 0.0051 - mean_absolute_error: 0.0576 - val_loss: 0.0054 - val_mean_squared_error: 0.0054 - val_mean_absolute_error: 0.0611\n",
            "Epoch 24/100\n",
            "8/8 [==============================] - 1s 176ms/step - loss: 0.0092 - mean_squared_error: 0.0092 - mean_absolute_error: 0.0805 - val_loss: 0.0099 - val_mean_squared_error: 0.0099 - val_mean_absolute_error: 0.0869\n",
            "Epoch 25/100\n",
            "8/8 [==============================] - 1s 192ms/step - loss: 0.0148 - mean_squared_error: 0.0148 - mean_absolute_error: 0.1055 - val_loss: 0.0034 - val_mean_squared_error: 0.0034 - val_mean_absolute_error: 0.0451\n",
            "Epoch 26/100\n",
            "8/8 [==============================] - 1s 182ms/step - loss: 0.0033 - mean_squared_error: 0.0033 - mean_absolute_error: 0.0462 - val_loss: 0.0075 - val_mean_squared_error: 0.0075 - val_mean_absolute_error: 0.0741\n",
            "Epoch 27/100\n",
            "8/8 [==============================] - 1s 183ms/step - loss: 0.0094 - mean_squared_error: 0.0094 - mean_absolute_error: 0.0795 - val_loss: 0.0120 - val_mean_squared_error: 0.0120 - val_mean_absolute_error: 0.0977\n",
            "Epoch 28/100\n",
            "8/8 [==============================] - 1s 174ms/step - loss: 0.0177 - mean_squared_error: 0.0177 - mean_absolute_error: 0.1169 - val_loss: 0.0039 - val_mean_squared_error: 0.0039 - val_mean_absolute_error: 0.0485\n",
            "Epoch 29/100\n",
            "8/8 [==============================] - 1s 184ms/step - loss: 0.0025 - mean_squared_error: 0.0025 - mean_absolute_error: 0.0407 - val_loss: 0.0179 - val_mean_squared_error: 0.0179 - val_mean_absolute_error: 0.1204\n",
            "Epoch 30/100\n",
            "8/8 [==============================] - 1s 179ms/step - loss: 0.0136 - mean_squared_error: 0.0136 - mean_absolute_error: 0.0999 - val_loss: 0.0164 - val_mean_squared_error: 0.0164 - val_mean_absolute_error: 0.1112\n",
            "Epoch 31/100\n",
            "8/8 [==============================] - 2s 194ms/step - loss: 0.0057 - mean_squared_error: 0.0057 - mean_absolute_error: 0.0608 - val_loss: 0.0062 - val_mean_squared_error: 0.0062 - val_mean_absolute_error: 0.0640\n",
            "Epoch 32/100\n",
            "8/8 [==============================] - 1s 192ms/step - loss: 0.0074 - mean_squared_error: 0.0074 - mean_absolute_error: 0.0704 - val_loss: 0.0229 - val_mean_squared_error: 0.0229 - val_mean_absolute_error: 0.1366\n",
            "Epoch 33/100\n",
            "8/8 [==============================] - 1s 177ms/step - loss: 0.0087 - mean_squared_error: 0.0087 - mean_absolute_error: 0.0780 - val_loss: 0.0024 - val_mean_squared_error: 0.0024 - val_mean_absolute_error: 0.0382\n",
            "Epoch 34/100\n",
            "8/8 [==============================] - 2s 196ms/step - loss: 0.0026 - mean_squared_error: 0.0026 - mean_absolute_error: 0.0383 - val_loss: 0.0100 - val_mean_squared_error: 0.0100 - val_mean_absolute_error: 0.0882\n",
            "Epoch 35/100\n",
            "8/8 [==============================] - 2s 206ms/step - loss: 0.0120 - mean_squared_error: 0.0120 - mean_absolute_error: 0.0934 - val_loss: 0.0028 - val_mean_squared_error: 0.0028 - val_mean_absolute_error: 0.0413\n",
            "Epoch 36/100\n",
            "8/8 [==============================] - 1s 177ms/step - loss: 0.0033 - mean_squared_error: 0.0033 - mean_absolute_error: 0.0456 - val_loss: 0.0064 - val_mean_squared_error: 0.0064 - val_mean_absolute_error: 0.0684\n",
            "Epoch 37/100\n",
            "8/8 [==============================] - 1s 182ms/step - loss: 0.0085 - mean_squared_error: 0.0085 - mean_absolute_error: 0.0786 - val_loss: 0.0042 - val_mean_squared_error: 0.0042 - val_mean_absolute_error: 0.0537\n",
            "Epoch 38/100\n",
            "8/8 [==============================] - 1s 175ms/step - loss: 0.0038 - mean_squared_error: 0.0038 - mean_absolute_error: 0.0504 - val_loss: 0.0060 - val_mean_squared_error: 0.0060 - val_mean_absolute_error: 0.0662\n",
            "Epoch 39/100\n",
            "8/8 [==============================] - 1s 182ms/step - loss: 0.0067 - mean_squared_error: 0.0067 - mean_absolute_error: 0.0690 - val_loss: 0.0035 - val_mean_squared_error: 0.0035 - val_mean_absolute_error: 0.0480\n",
            "Epoch 40/100\n",
            "8/8 [==============================] - 1s 189ms/step - loss: 0.0047 - mean_squared_error: 0.0047 - mean_absolute_error: 0.0569 - val_loss: 0.0039 - val_mean_squared_error: 0.0039 - val_mean_absolute_error: 0.0511\n",
            "Epoch 41/100\n",
            "8/8 [==============================] - 1s 186ms/step - loss: 0.0059 - mean_squared_error: 0.0059 - mean_absolute_error: 0.0632 - val_loss: 0.0067 - val_mean_squared_error: 0.0067 - val_mean_absolute_error: 0.0693\n",
            "Epoch 42/100\n",
            "8/8 [==============================] - 1s 184ms/step - loss: 0.0076 - mean_squared_error: 0.0076 - mean_absolute_error: 0.0713 - val_loss: 0.0040 - val_mean_squared_error: 0.0040 - val_mean_absolute_error: 0.0500\n",
            "Epoch 43/100\n",
            "8/8 [==============================] - 1s 190ms/step - loss: 0.0039 - mean_squared_error: 0.0039 - mean_absolute_error: 0.0495 - val_loss: 0.0101 - val_mean_squared_error: 0.0101 - val_mean_absolute_error: 0.0874\n"
          ],
          "name": "stdout"
        },
        {
          "output_type": "display_data",
          "data": {
            "text/html": [
              "<br/>Waiting for W&B process to finish, PID 8630<br/>Program ended successfully."
            ],
            "text/plain": [
              "<IPython.core.display.HTML object>"
            ]
          },
          "metadata": {
            "tags": []
          }
        },
        {
          "output_type": "display_data",
          "data": {
            "application/vnd.jupyter.widget-view+json": {
              "model_id": "686bd22c629546149fcb6fb5a21cd799",
              "version_minor": 0,
              "version_major": 2
            },
            "text/plain": [
              "VBox(children=(Label(value=' 0.96MB of 0.96MB uploaded (0.00MB deduped)\\r'), FloatProgress(value=1.0, max=1.0)…"
            ]
          },
          "metadata": {
            "tags": []
          }
        },
        {
          "output_type": "display_data",
          "data": {
            "text/html": [
              "Find user logs for this run at: <code>/content/feeder_repo/wandb/run-20210718_205118-38vl9bw9/logs/debug.log</code>"
            ],
            "text/plain": [
              "<IPython.core.display.HTML object>"
            ]
          },
          "metadata": {
            "tags": []
          }
        },
        {
          "output_type": "display_data",
          "data": {
            "text/html": [
              "Find internal logs for this run at: <code>/content/feeder_repo/wandb/run-20210718_205118-38vl9bw9/logs/debug-internal.log</code>"
            ],
            "text/plain": [
              "<IPython.core.display.HTML object>"
            ]
          },
          "metadata": {
            "tags": []
          }
        },
        {
          "output_type": "display_data",
          "data": {
            "text/html": [
              "<h3>Run summary:</h3><br/><style>\n",
              "    table.wandb td:nth-child(1) { padding: 0 10px; text-align: right }\n",
              "    </style><table class=\"wandb\">\n",
              "<tr><td>epoch</td><td>42</td></tr><tr><td>loss</td><td>0.00475</td></tr><tr><td>mean_squared_error</td><td>0.00475</td></tr><tr><td>mean_absolute_error</td><td>0.05583</td></tr><tr><td>val_loss</td><td>0.01012</td></tr><tr><td>val_mean_squared_error</td><td>0.01012</td></tr><tr><td>val_mean_absolute_error</td><td>0.08735</td></tr><tr><td>_runtime</td><td>75</td></tr><tr><td>_timestamp</td><td>1626641553</td></tr><tr><td>_step</td><td>42</td></tr><tr><td>best_val_loss</td><td>0.00237</td></tr><tr><td>best_epoch</td><td>32</td></tr></table>"
            ],
            "text/plain": [
              "<IPython.core.display.HTML object>"
            ]
          },
          "metadata": {
            "tags": []
          }
        },
        {
          "output_type": "display_data",
          "data": {
            "text/html": [
              "<h3>Run history:</h3><br/><style>\n",
              "    table.wandb td:nth-child(1) { padding: 0 10px; text-align: right }\n",
              "    </style><table class=\"wandb\">\n",
              "<tr><td>epoch</td><td>▁▁▁▁▂▂▂▂▂▃▃▃▃▃▃▄▄▄▄▄▅▅▅▅▅▅▆▆▆▆▆▇▇▇▇▇▇▇██</td></tr><tr><td>loss</td><td>█▁▁▁▁▁▁▁▁▁▁▁▁▁▁▁▁▁▁▁▁▁▁▁▁▁▁▁▁▁▁▁▁▁▁▁▁▁▁▁</td></tr><tr><td>mean_squared_error</td><td>█▁▁▁▁▁▁▁▁▁▁▁▁▁▁▁▁▁▁▁▁▁▁▁▁▁▁▁▁▁▁▁▁▁▁▁▁▁▁▁</td></tr><tr><td>mean_absolute_error</td><td>█▂▂▂▂▁▂▁▂▁▂▁▁▂▁▁▂▁▁▁▂▁▁▁▁▁▁▁▁▁▁▁▁▁▁▁▁▁▁▁</td></tr><tr><td>val_loss</td><td>▄▅▅▆▃█▂█▂▄▅▂▅▁▁▂▁▁▁▁▁▁▂▁▁▂▂▂▁▂▁▂▁▁▁▁▁▁▁▂</td></tr><tr><td>val_mean_squared_error</td><td>▄▅▅▆▃█▂█▂▄▅▂▅▁▁▂▁▁▁▁▁▁▂▁▁▂▂▂▁▂▁▂▁▁▁▁▁▁▁▂</td></tr><tr><td>val_mean_absolute_error</td><td>▄▅▆▆▄█▃█▃▅▆▃▆▁▁▃▁▂▂▂▁▂▂▁▂▃▃▃▂▄▁▂▁▂▁▂▁▁▂▂</td></tr><tr><td>_runtime</td><td>▁▁▁▂▂▂▂▂▂▃▃▃▃▃▄▄▄▄▄▄▅▅▅▅▅▅▆▆▆▆▆▇▇▇▇▇▇███</td></tr><tr><td>_timestamp</td><td>▁▁▁▂▂▂▂▂▂▃▃▃▃▃▄▄▄▄▄▄▅▅▅▅▅▅▆▆▆▆▆▇▇▇▇▇▇███</td></tr><tr><td>_step</td><td>▁▁▁▁▂▂▂▂▂▃▃▃▃▃▃▄▄▄▄▄▅▅▅▅▅▅▆▆▆▆▆▇▇▇▇▇▇▇██</td></tr></table><br/>"
            ],
            "text/plain": [
              "<IPython.core.display.HTML object>"
            ]
          },
          "metadata": {
            "tags": []
          }
        },
        {
          "output_type": "display_data",
          "data": {
            "text/html": [
              "Synced 5 W&B file(s), 1 media file(s), 2 artifact file(s) and 2 other file(s)"
            ],
            "text/plain": [
              "<IPython.core.display.HTML object>"
            ]
          },
          "metadata": {
            "tags": []
          }
        },
        {
          "output_type": "display_data",
          "data": {
            "text/html": [
              "\n",
              "                    <br/>Synced <strong style=\"color:#cdcd00\">curious-sweep-30</strong>: <a href=\"https://wandb.ai/acse-jaq15/ACSE_9_LSTM_GRU/runs/38vl9bw9\" target=\"_blank\">https://wandb.ai/acse-jaq15/ACSE_9_LSTM_GRU/runs/38vl9bw9</a><br/>\n",
              "                "
            ],
            "text/plain": [
              "<IPython.core.display.HTML object>"
            ]
          },
          "metadata": {
            "tags": []
          }
        },
        {
          "output_type": "stream",
          "text": [
            "\u001b[34m\u001b[1mwandb\u001b[0m: Agent Starting Run: jahq7dfh with config:\n",
            "\u001b[34m\u001b[1mwandb\u001b[0m: \tactivation: tanh\n",
            "\u001b[34m\u001b[1mwandb\u001b[0m: \tbatch_size: 32\n",
            "\u001b[34m\u001b[1mwandb\u001b[0m: \tdropout: 0.1\n",
            "\u001b[34m\u001b[1mwandb\u001b[0m: \tepochs: 200\n",
            "\u001b[34m\u001b[1mwandb\u001b[0m: \tlearning_rate: 0.001\n",
            "\u001b[34m\u001b[1mwandb\u001b[0m: \toptimizer: adam\n"
          ],
          "name": "stderr"
        },
        {
          "output_type": "display_data",
          "data": {
            "text/html": [
              "\n",
              "                Tracking run with wandb version 0.11.0<br/>\n",
              "                Syncing run <strong style=\"color:#cdcd00\">fancy-sweep-31</strong> to <a href=\"https://wandb.ai\" target=\"_blank\">Weights & Biases</a> <a href=\"https://docs.wandb.com/integrations/jupyter.html\" target=\"_blank\">(Documentation)</a>.<br/>\n",
              "                Project page: <a href=\"https://wandb.ai/acse-jaq15/ACSE_9_LSTM_GRU\" target=\"_blank\">https://wandb.ai/acse-jaq15/ACSE_9_LSTM_GRU</a><br/>\n",
              "                Sweep page: <a href=\"https://wandb.ai/acse-jaq15/ACSE_9_LSTM_GRU/sweeps/amj4ayh1\" target=\"_blank\">https://wandb.ai/acse-jaq15/ACSE_9_LSTM_GRU/sweeps/amj4ayh1</a><br/>\n",
              "Run page: <a href=\"https://wandb.ai/acse-jaq15/ACSE_9_LSTM_GRU/runs/jahq7dfh\" target=\"_blank\">https://wandb.ai/acse-jaq15/ACSE_9_LSTM_GRU/runs/jahq7dfh</a><br/>\n",
              "                Run data is saved locally in <code>/content/feeder_repo/wandb/run-20210718_205303-jahq7dfh</code><br/><br/>\n",
              "            "
            ],
            "text/plain": [
              "<IPython.core.display.HTML object>"
            ]
          },
          "metadata": {
            "tags": []
          }
        },
        {
          "output_type": "stream",
          "text": [
            "Epoch 1/200\n",
            "32/32 [==============================] - 6s 48ms/step - loss: 0.0703 - mean_squared_error: 0.0703 - mean_absolute_error: 0.1990 - val_loss: 0.0066 - val_mean_squared_error: 0.0066 - val_mean_absolute_error: 0.0652\n",
            "Epoch 2/200\n",
            "32/32 [==============================] - 0s 14ms/step - loss: 0.0055 - mean_squared_error: 0.0055 - mean_absolute_error: 0.0605 - val_loss: 0.0060 - val_mean_squared_error: 0.0060 - val_mean_absolute_error: 0.0615\n",
            "Epoch 3/200\n",
            "32/32 [==============================] - 0s 11ms/step - loss: 0.0037 - mean_squared_error: 0.0037 - mean_absolute_error: 0.0486 - val_loss: 0.0056 - val_mean_squared_error: 0.0056 - val_mean_absolute_error: 0.0592\n",
            "Epoch 4/200\n",
            "32/32 [==============================] - 0s 12ms/step - loss: 0.0035 - mean_squared_error: 0.0035 - mean_absolute_error: 0.0463 - val_loss: 0.0053 - val_mean_squared_error: 0.0053 - val_mean_absolute_error: 0.0572\n",
            "Epoch 5/200\n",
            "32/32 [==============================] - 0s 12ms/step - loss: 0.0038 - mean_squared_error: 0.0038 - mean_absolute_error: 0.0482 - val_loss: 0.0049 - val_mean_squared_error: 0.0049 - val_mean_absolute_error: 0.0552\n",
            "Epoch 6/200\n",
            "32/32 [==============================] - 0s 12ms/step - loss: 0.0030 - mean_squared_error: 0.0030 - mean_absolute_error: 0.0428 - val_loss: 0.0051 - val_mean_squared_error: 0.0051 - val_mean_absolute_error: 0.0568\n",
            "Epoch 7/200\n",
            "32/32 [==============================] - 0s 11ms/step - loss: 0.0027 - mean_squared_error: 0.0027 - mean_absolute_error: 0.0404 - val_loss: 0.0045 - val_mean_squared_error: 0.0045 - val_mean_absolute_error: 0.0525\n",
            "Epoch 8/200\n",
            "32/32 [==============================] - 0s 11ms/step - loss: 0.0029 - mean_squared_error: 0.0029 - mean_absolute_error: 0.0423 - val_loss: 0.0043 - val_mean_squared_error: 0.0043 - val_mean_absolute_error: 0.0512\n",
            "Epoch 9/200\n",
            "32/32 [==============================] - 0s 12ms/step - loss: 0.0027 - mean_squared_error: 0.0027 - mean_absolute_error: 0.0414 - val_loss: 0.0047 - val_mean_squared_error: 0.0047 - val_mean_absolute_error: 0.0544\n",
            "Epoch 10/200\n",
            "32/32 [==============================] - 0s 11ms/step - loss: 0.0027 - mean_squared_error: 0.0027 - mean_absolute_error: 0.0415 - val_loss: 0.0040 - val_mean_squared_error: 0.0040 - val_mean_absolute_error: 0.0502\n",
            "Epoch 11/200\n",
            "32/32 [==============================] - 0s 11ms/step - loss: 0.0026 - mean_squared_error: 0.0026 - mean_absolute_error: 0.0420 - val_loss: 0.0038 - val_mean_squared_error: 0.0038 - val_mean_absolute_error: 0.0487\n",
            "Epoch 12/200\n",
            "32/32 [==============================] - 0s 12ms/step - loss: 0.0026 - mean_squared_error: 0.0026 - mean_absolute_error: 0.0404 - val_loss: 0.0037 - val_mean_squared_error: 0.0037 - val_mean_absolute_error: 0.0481\n",
            "Epoch 13/200\n",
            "32/32 [==============================] - 0s 11ms/step - loss: 0.0025 - mean_squared_error: 0.0025 - mean_absolute_error: 0.0401 - val_loss: 0.0039 - val_mean_squared_error: 0.0039 - val_mean_absolute_error: 0.0493\n",
            "Epoch 14/200\n",
            "32/32 [==============================] - 0s 11ms/step - loss: 0.0025 - mean_squared_error: 0.0025 - mean_absolute_error: 0.0393 - val_loss: 0.0040 - val_mean_squared_error: 0.0040 - val_mean_absolute_error: 0.0493\n",
            "Epoch 15/200\n",
            "32/32 [==============================] - 0s 12ms/step - loss: 0.0021 - mean_squared_error: 0.0021 - mean_absolute_error: 0.0369 - val_loss: 0.0040 - val_mean_squared_error: 0.0040 - val_mean_absolute_error: 0.0493\n",
            "Epoch 16/200\n",
            "32/32 [==============================] - 0s 12ms/step - loss: 0.0023 - mean_squared_error: 0.0023 - mean_absolute_error: 0.0375 - val_loss: 0.0036 - val_mean_squared_error: 0.0036 - val_mean_absolute_error: 0.0476\n",
            "Epoch 17/200\n",
            "32/32 [==============================] - 0s 12ms/step - loss: 0.0022 - mean_squared_error: 0.0022 - mean_absolute_error: 0.0374 - val_loss: 0.0039 - val_mean_squared_error: 0.0039 - val_mean_absolute_error: 0.0492\n",
            "Epoch 18/200\n",
            "32/32 [==============================] - 0s 13ms/step - loss: 0.0024 - mean_squared_error: 0.0024 - mean_absolute_error: 0.0386 - val_loss: 0.0032 - val_mean_squared_error: 0.0032 - val_mean_absolute_error: 0.0443\n",
            "Epoch 19/200\n",
            "32/32 [==============================] - 0s 12ms/step - loss: 0.0022 - mean_squared_error: 0.0022 - mean_absolute_error: 0.0363 - val_loss: 0.0040 - val_mean_squared_error: 0.0040 - val_mean_absolute_error: 0.0495\n",
            "Epoch 20/200\n",
            "32/32 [==============================] - 0s 12ms/step - loss: 0.0021 - mean_squared_error: 0.0021 - mean_absolute_error: 0.0362 - val_loss: 0.0032 - val_mean_squared_error: 0.0032 - val_mean_absolute_error: 0.0450\n",
            "Epoch 21/200\n",
            "32/32 [==============================] - 0s 12ms/step - loss: 0.0022 - mean_squared_error: 0.0022 - mean_absolute_error: 0.0377 - val_loss: 0.0036 - val_mean_squared_error: 0.0036 - val_mean_absolute_error: 0.0479\n",
            "Epoch 22/200\n",
            "32/32 [==============================] - 0s 12ms/step - loss: 0.0023 - mean_squared_error: 0.0023 - mean_absolute_error: 0.0396 - val_loss: 0.0029 - val_mean_squared_error: 0.0029 - val_mean_absolute_error: 0.0426\n",
            "Epoch 23/200\n",
            "32/32 [==============================] - 0s 12ms/step - loss: 0.0020 - mean_squared_error: 0.0020 - mean_absolute_error: 0.0354 - val_loss: 0.0035 - val_mean_squared_error: 0.0035 - val_mean_absolute_error: 0.0459\n",
            "Epoch 24/200\n",
            "32/32 [==============================] - 0s 12ms/step - loss: 0.0020 - mean_squared_error: 0.0020 - mean_absolute_error: 0.0344 - val_loss: 0.0030 - val_mean_squared_error: 0.0030 - val_mean_absolute_error: 0.0426\n",
            "Epoch 25/200\n",
            "32/32 [==============================] - 0s 12ms/step - loss: 0.0018 - mean_squared_error: 0.0018 - mean_absolute_error: 0.0335 - val_loss: 0.0028 - val_mean_squared_error: 0.0028 - val_mean_absolute_error: 0.0417\n",
            "Epoch 26/200\n",
            "32/32 [==============================] - 0s 12ms/step - loss: 0.0021 - mean_squared_error: 0.0021 - mean_absolute_error: 0.0361 - val_loss: 0.0034 - val_mean_squared_error: 0.0034 - val_mean_absolute_error: 0.0453\n",
            "Epoch 27/200\n",
            "32/32 [==============================] - 0s 13ms/step - loss: 0.0021 - mean_squared_error: 0.0021 - mean_absolute_error: 0.0349 - val_loss: 0.0028 - val_mean_squared_error: 0.0028 - val_mean_absolute_error: 0.0412\n",
            "Epoch 28/200\n",
            "32/32 [==============================] - 0s 12ms/step - loss: 0.0019 - mean_squared_error: 0.0019 - mean_absolute_error: 0.0335 - val_loss: 0.0031 - val_mean_squared_error: 0.0031 - val_mean_absolute_error: 0.0429\n",
            "Epoch 29/200\n",
            "32/32 [==============================] - 0s 12ms/step - loss: 0.0021 - mean_squared_error: 0.0021 - mean_absolute_error: 0.0352 - val_loss: 0.0025 - val_mean_squared_error: 0.0025 - val_mean_absolute_error: 0.0400\n",
            "Epoch 30/200\n",
            "32/32 [==============================] - 0s 12ms/step - loss: 0.0018 - mean_squared_error: 0.0018 - mean_absolute_error: 0.0333 - val_loss: 0.0026 - val_mean_squared_error: 0.0026 - val_mean_absolute_error: 0.0401\n",
            "Epoch 31/200\n",
            "32/32 [==============================] - 0s 12ms/step - loss: 0.0017 - mean_squared_error: 0.0017 - mean_absolute_error: 0.0329 - val_loss: 0.0027 - val_mean_squared_error: 0.0027 - val_mean_absolute_error: 0.0405\n",
            "Epoch 32/200\n",
            "32/32 [==============================] - 0s 12ms/step - loss: 0.0017 - mean_squared_error: 0.0017 - mean_absolute_error: 0.0335 - val_loss: 0.0025 - val_mean_squared_error: 0.0025 - val_mean_absolute_error: 0.0394\n",
            "Epoch 33/200\n",
            "32/32 [==============================] - 0s 12ms/step - loss: 0.0016 - mean_squared_error: 0.0016 - mean_absolute_error: 0.0313 - val_loss: 0.0024 - val_mean_squared_error: 0.0024 - val_mean_absolute_error: 0.0394\n",
            "Epoch 34/200\n",
            "32/32 [==============================] - 0s 13ms/step - loss: 0.0019 - mean_squared_error: 0.0019 - mean_absolute_error: 0.0345 - val_loss: 0.0032 - val_mean_squared_error: 0.0032 - val_mean_absolute_error: 0.0455\n",
            "Epoch 35/200\n",
            "32/32 [==============================] - 0s 12ms/step - loss: 0.0020 - mean_squared_error: 0.0020 - mean_absolute_error: 0.0359 - val_loss: 0.0027 - val_mean_squared_error: 0.0027 - val_mean_absolute_error: 0.0406\n",
            "Epoch 36/200\n",
            "32/32 [==============================] - 0s 13ms/step - loss: 0.0019 - mean_squared_error: 0.0019 - mean_absolute_error: 0.0348 - val_loss: 0.0023 - val_mean_squared_error: 0.0023 - val_mean_absolute_error: 0.0382\n",
            "Epoch 37/200\n",
            "32/32 [==============================] - 0s 12ms/step - loss: 0.0016 - mean_squared_error: 0.0016 - mean_absolute_error: 0.0318 - val_loss: 0.0023 - val_mean_squared_error: 0.0023 - val_mean_absolute_error: 0.0383\n",
            "Epoch 38/200\n",
            "32/32 [==============================] - 0s 13ms/step - loss: 0.0017 - mean_squared_error: 0.0017 - mean_absolute_error: 0.0328 - val_loss: 0.0028 - val_mean_squared_error: 0.0028 - val_mean_absolute_error: 0.0410\n",
            "Epoch 39/200\n",
            "32/32 [==============================] - 0s 13ms/step - loss: 0.0020 - mean_squared_error: 0.0020 - mean_absolute_error: 0.0352 - val_loss: 0.0026 - val_mean_squared_error: 0.0026 - val_mean_absolute_error: 0.0411\n",
            "Epoch 40/200\n",
            "32/32 [==============================] - 0s 12ms/step - loss: 0.0019 - mean_squared_error: 0.0019 - mean_absolute_error: 0.0347 - val_loss: 0.0022 - val_mean_squared_error: 0.0022 - val_mean_absolute_error: 0.0372\n",
            "Epoch 41/200\n",
            "32/32 [==============================] - 0s 13ms/step - loss: 0.0016 - mean_squared_error: 0.0016 - mean_absolute_error: 0.0310 - val_loss: 0.0023 - val_mean_squared_error: 0.0023 - val_mean_absolute_error: 0.0379\n",
            "Epoch 42/200\n",
            "32/32 [==============================] - 0s 14ms/step - loss: 0.0016 - mean_squared_error: 0.0016 - mean_absolute_error: 0.0312 - val_loss: 0.0023 - val_mean_squared_error: 0.0023 - val_mean_absolute_error: 0.0378\n",
            "Epoch 43/200\n",
            "32/32 [==============================] - 0s 13ms/step - loss: 0.0016 - mean_squared_error: 0.0016 - mean_absolute_error: 0.0316 - val_loss: 0.0022 - val_mean_squared_error: 0.0022 - val_mean_absolute_error: 0.0374\n",
            "Epoch 44/200\n",
            "32/32 [==============================] - 0s 13ms/step - loss: 0.0016 - mean_squared_error: 0.0016 - mean_absolute_error: 0.0313 - val_loss: 0.0021 - val_mean_squared_error: 0.0021 - val_mean_absolute_error: 0.0360\n",
            "Epoch 45/200\n",
            "32/32 [==============================] - 0s 13ms/step - loss: 0.0016 - mean_squared_error: 0.0016 - mean_absolute_error: 0.0304 - val_loss: 0.0027 - val_mean_squared_error: 0.0027 - val_mean_absolute_error: 0.0407\n",
            "Epoch 46/200\n",
            "32/32 [==============================] - 0s 12ms/step - loss: 0.0016 - mean_squared_error: 0.0016 - mean_absolute_error: 0.0315 - val_loss: 0.0022 - val_mean_squared_error: 0.0022 - val_mean_absolute_error: 0.0368\n",
            "Epoch 47/200\n",
            "32/32 [==============================] - 0s 13ms/step - loss: 0.0014 - mean_squared_error: 0.0014 - mean_absolute_error: 0.0295 - val_loss: 0.0023 - val_mean_squared_error: 0.0023 - val_mean_absolute_error: 0.0374\n",
            "Epoch 48/200\n",
            "32/32 [==============================] - 0s 13ms/step - loss: 0.0014 - mean_squared_error: 0.0014 - mean_absolute_error: 0.0294 - val_loss: 0.0026 - val_mean_squared_error: 0.0026 - val_mean_absolute_error: 0.0411\n",
            "Epoch 49/200\n",
            "32/32 [==============================] - 0s 14ms/step - loss: 0.0016 - mean_squared_error: 0.0016 - mean_absolute_error: 0.0312 - val_loss: 0.0020 - val_mean_squared_error: 0.0020 - val_mean_absolute_error: 0.0351\n",
            "Epoch 50/200\n",
            "32/32 [==============================] - 0s 12ms/step - loss: 0.0015 - mean_squared_error: 0.0015 - mean_absolute_error: 0.0294 - val_loss: 0.0024 - val_mean_squared_error: 0.0024 - val_mean_absolute_error: 0.0386\n",
            "Epoch 51/200\n",
            "32/32 [==============================] - 0s 12ms/step - loss: 0.0014 - mean_squared_error: 0.0014 - mean_absolute_error: 0.0290 - val_loss: 0.0021 - val_mean_squared_error: 0.0021 - val_mean_absolute_error: 0.0359\n",
            "Epoch 52/200\n",
            "32/32 [==============================] - 0s 12ms/step - loss: 0.0015 - mean_squared_error: 0.0015 - mean_absolute_error: 0.0307 - val_loss: 0.0020 - val_mean_squared_error: 0.0020 - val_mean_absolute_error: 0.0350\n",
            "Epoch 53/200\n",
            "32/32 [==============================] - 0s 14ms/step - loss: 0.0015 - mean_squared_error: 0.0015 - mean_absolute_error: 0.0305 - val_loss: 0.0019 - val_mean_squared_error: 0.0019 - val_mean_absolute_error: 0.0342\n",
            "Epoch 54/200\n",
            "32/32 [==============================] - 0s 13ms/step - loss: 0.0014 - mean_squared_error: 0.0014 - mean_absolute_error: 0.0299 - val_loss: 0.0019 - val_mean_squared_error: 0.0019 - val_mean_absolute_error: 0.0340\n",
            "Epoch 55/200\n",
            "32/32 [==============================] - 0s 12ms/step - loss: 0.0014 - mean_squared_error: 0.0014 - mean_absolute_error: 0.0293 - val_loss: 0.0018 - val_mean_squared_error: 0.0018 - val_mean_absolute_error: 0.0338\n",
            "Epoch 56/200\n",
            "32/32 [==============================] - 0s 13ms/step - loss: 0.0013 - mean_squared_error: 0.0013 - mean_absolute_error: 0.0279 - val_loss: 0.0019 - val_mean_squared_error: 0.0019 - val_mean_absolute_error: 0.0349\n",
            "Epoch 57/200\n",
            "32/32 [==============================] - 0s 12ms/step - loss: 0.0015 - mean_squared_error: 0.0015 - mean_absolute_error: 0.0301 - val_loss: 0.0021 - val_mean_squared_error: 0.0021 - val_mean_absolute_error: 0.0361\n",
            "Epoch 58/200\n",
            "32/32 [==============================] - 0s 13ms/step - loss: 0.0015 - mean_squared_error: 0.0015 - mean_absolute_error: 0.0296 - val_loss: 0.0018 - val_mean_squared_error: 0.0018 - val_mean_absolute_error: 0.0339\n",
            "Epoch 59/200\n",
            "32/32 [==============================] - 0s 13ms/step - loss: 0.0015 - mean_squared_error: 0.0015 - mean_absolute_error: 0.0305 - val_loss: 0.0018 - val_mean_squared_error: 0.0018 - val_mean_absolute_error: 0.0336\n",
            "Epoch 60/200\n",
            "32/32 [==============================] - 0s 13ms/step - loss: 0.0013 - mean_squared_error: 0.0013 - mean_absolute_error: 0.0290 - val_loss: 0.0018 - val_mean_squared_error: 0.0018 - val_mean_absolute_error: 0.0334\n",
            "Epoch 61/200\n",
            "32/32 [==============================] - 0s 12ms/step - loss: 0.0012 - mean_squared_error: 0.0012 - mean_absolute_error: 0.0271 - val_loss: 0.0018 - val_mean_squared_error: 0.0018 - val_mean_absolute_error: 0.0332\n",
            "Epoch 62/200\n",
            "32/32 [==============================] - 0s 12ms/step - loss: 0.0014 - mean_squared_error: 0.0014 - mean_absolute_error: 0.0297 - val_loss: 0.0018 - val_mean_squared_error: 0.0018 - val_mean_absolute_error: 0.0331\n",
            "Epoch 63/200\n",
            "32/32 [==============================] - 0s 11ms/step - loss: 0.0014 - mean_squared_error: 0.0014 - mean_absolute_error: 0.0292 - val_loss: 0.0021 - val_mean_squared_error: 0.0021 - val_mean_absolute_error: 0.0363\n",
            "Epoch 64/200\n",
            "32/32 [==============================] - 0s 13ms/step - loss: 0.0014 - mean_squared_error: 0.0014 - mean_absolute_error: 0.0292 - val_loss: 0.0022 - val_mean_squared_error: 0.0022 - val_mean_absolute_error: 0.0374\n",
            "Epoch 65/200\n",
            "32/32 [==============================] - 0s 12ms/step - loss: 0.0013 - mean_squared_error: 0.0013 - mean_absolute_error: 0.0283 - val_loss: 0.0018 - val_mean_squared_error: 0.0018 - val_mean_absolute_error: 0.0331\n",
            "Epoch 66/200\n",
            "32/32 [==============================] - 0s 12ms/step - loss: 0.0013 - mean_squared_error: 0.0013 - mean_absolute_error: 0.0279 - val_loss: 0.0022 - val_mean_squared_error: 0.0022 - val_mean_absolute_error: 0.0372\n",
            "Epoch 67/200\n",
            "32/32 [==============================] - 0s 14ms/step - loss: 0.0014 - mean_squared_error: 0.0014 - mean_absolute_error: 0.0291 - val_loss: 0.0017 - val_mean_squared_error: 0.0017 - val_mean_absolute_error: 0.0328\n",
            "Epoch 68/200\n",
            "32/32 [==============================] - 0s 11ms/step - loss: 0.0012 - mean_squared_error: 0.0012 - mean_absolute_error: 0.0265 - val_loss: 0.0018 - val_mean_squared_error: 0.0018 - val_mean_absolute_error: 0.0333\n",
            "Epoch 69/200\n",
            "32/32 [==============================] - 0s 12ms/step - loss: 0.0013 - mean_squared_error: 0.0013 - mean_absolute_error: 0.0286 - val_loss: 0.0018 - val_mean_squared_error: 0.0018 - val_mean_absolute_error: 0.0332\n",
            "Epoch 70/200\n",
            "32/32 [==============================] - 0s 11ms/step - loss: 0.0013 - mean_squared_error: 0.0013 - mean_absolute_error: 0.0289 - val_loss: 0.0018 - val_mean_squared_error: 0.0018 - val_mean_absolute_error: 0.0336\n",
            "Epoch 71/200\n",
            "32/32 [==============================] - 0s 12ms/step - loss: 0.0014 - mean_squared_error: 0.0014 - mean_absolute_error: 0.0304 - val_loss: 0.0017 - val_mean_squared_error: 0.0017 - val_mean_absolute_error: 0.0323\n",
            "Epoch 72/200\n",
            "32/32 [==============================] - 0s 12ms/step - loss: 0.0013 - mean_squared_error: 0.0013 - mean_absolute_error: 0.0281 - val_loss: 0.0018 - val_mean_squared_error: 0.0018 - val_mean_absolute_error: 0.0335\n",
            "Epoch 73/200\n",
            "32/32 [==============================] - 0s 12ms/step - loss: 0.0012 - mean_squared_error: 0.0012 - mean_absolute_error: 0.0268 - val_loss: 0.0017 - val_mean_squared_error: 0.0017 - val_mean_absolute_error: 0.0324\n",
            "Epoch 74/200\n",
            "32/32 [==============================] - 0s 12ms/step - loss: 0.0013 - mean_squared_error: 0.0013 - mean_absolute_error: 0.0281 - val_loss: 0.0020 - val_mean_squared_error: 0.0020 - val_mean_absolute_error: 0.0358\n",
            "Epoch 75/200\n",
            "32/32 [==============================] - 0s 13ms/step - loss: 0.0011 - mean_squared_error: 0.0011 - mean_absolute_error: 0.0264 - val_loss: 0.0017 - val_mean_squared_error: 0.0017 - val_mean_absolute_error: 0.0324\n",
            "Epoch 76/200\n",
            "32/32 [==============================] - 0s 12ms/step - loss: 0.0012 - mean_squared_error: 0.0012 - mean_absolute_error: 0.0267 - val_loss: 0.0017 - val_mean_squared_error: 0.0017 - val_mean_absolute_error: 0.0321\n",
            "Epoch 77/200\n",
            "32/32 [==============================] - 0s 12ms/step - loss: 0.0014 - mean_squared_error: 0.0014 - mean_absolute_error: 0.0293 - val_loss: 0.0021 - val_mean_squared_error: 0.0021 - val_mean_absolute_error: 0.0369\n",
            "Epoch 78/200\n",
            "32/32 [==============================] - 0s 13ms/step - loss: 0.0013 - mean_squared_error: 0.0013 - mean_absolute_error: 0.0284 - val_loss: 0.0017 - val_mean_squared_error: 0.0017 - val_mean_absolute_error: 0.0318\n",
            "Epoch 79/200\n",
            "32/32 [==============================] - 0s 12ms/step - loss: 0.0014 - mean_squared_error: 0.0014 - mean_absolute_error: 0.0282 - val_loss: 0.0017 - val_mean_squared_error: 0.0017 - val_mean_absolute_error: 0.0327\n",
            "Epoch 80/200\n",
            "32/32 [==============================] - 0s 11ms/step - loss: 0.0011 - mean_squared_error: 0.0011 - mean_absolute_error: 0.0260 - val_loss: 0.0018 - val_mean_squared_error: 0.0018 - val_mean_absolute_error: 0.0329\n",
            "Epoch 81/200\n",
            "32/32 [==============================] - 0s 12ms/step - loss: 0.0011 - mean_squared_error: 0.0011 - mean_absolute_error: 0.0269 - val_loss: 0.0018 - val_mean_squared_error: 0.0018 - val_mean_absolute_error: 0.0328\n",
            "Epoch 82/200\n",
            "32/32 [==============================] - 0s 12ms/step - loss: 0.0011 - mean_squared_error: 0.0011 - mean_absolute_error: 0.0264 - val_loss: 0.0017 - val_mean_squared_error: 0.0017 - val_mean_absolute_error: 0.0318\n",
            "Epoch 83/200\n",
            "32/32 [==============================] - 0s 12ms/step - loss: 0.0012 - mean_squared_error: 0.0012 - mean_absolute_error: 0.0278 - val_loss: 0.0016 - val_mean_squared_error: 0.0016 - val_mean_absolute_error: 0.0315\n",
            "Epoch 84/200\n",
            "32/32 [==============================] - 0s 13ms/step - loss: 0.0011 - mean_squared_error: 0.0011 - mean_absolute_error: 0.0265 - val_loss: 0.0017 - val_mean_squared_error: 0.0017 - val_mean_absolute_error: 0.0317\n",
            "Epoch 85/200\n",
            "32/32 [==============================] - 0s 13ms/step - loss: 0.0012 - mean_squared_error: 0.0012 - mean_absolute_error: 0.0259 - val_loss: 0.0017 - val_mean_squared_error: 0.0017 - val_mean_absolute_error: 0.0315\n",
            "Epoch 86/200\n",
            "32/32 [==============================] - 0s 12ms/step - loss: 0.0013 - mean_squared_error: 0.0013 - mean_absolute_error: 0.0286 - val_loss: 0.0018 - val_mean_squared_error: 0.0018 - val_mean_absolute_error: 0.0333\n",
            "Epoch 87/200\n",
            "32/32 [==============================] - 0s 14ms/step - loss: 0.0011 - mean_squared_error: 0.0011 - mean_absolute_error: 0.0262 - val_loss: 0.0018 - val_mean_squared_error: 0.0018 - val_mean_absolute_error: 0.0331\n",
            "Epoch 88/200\n",
            "32/32 [==============================] - 0s 12ms/step - loss: 0.0012 - mean_squared_error: 0.0012 - mean_absolute_error: 0.0271 - val_loss: 0.0019 - val_mean_squared_error: 0.0019 - val_mean_absolute_error: 0.0343\n",
            "Epoch 89/200\n",
            "32/32 [==============================] - 0s 12ms/step - loss: 0.0012 - mean_squared_error: 0.0012 - mean_absolute_error: 0.0271 - val_loss: 0.0017 - val_mean_squared_error: 0.0017 - val_mean_absolute_error: 0.0317\n",
            "Epoch 90/200\n",
            "32/32 [==============================] - 0s 12ms/step - loss: 0.0012 - mean_squared_error: 0.0012 - mean_absolute_error: 0.0269 - val_loss: 0.0017 - val_mean_squared_error: 0.0017 - val_mean_absolute_error: 0.0322\n",
            "Epoch 91/200\n",
            "32/32 [==============================] - 0s 12ms/step - loss: 0.0013 - mean_squared_error: 0.0013 - mean_absolute_error: 0.0282 - val_loss: 0.0017 - val_mean_squared_error: 0.0017 - val_mean_absolute_error: 0.0317\n",
            "Epoch 92/200\n",
            "32/32 [==============================] - 0s 13ms/step - loss: 0.0012 - mean_squared_error: 0.0012 - mean_absolute_error: 0.0273 - val_loss: 0.0017 - val_mean_squared_error: 0.0017 - val_mean_absolute_error: 0.0314\n",
            "Epoch 93/200\n",
            "32/32 [==============================] - 0s 12ms/step - loss: 0.0012 - mean_squared_error: 0.0012 - mean_absolute_error: 0.0271 - val_loss: 0.0016 - val_mean_squared_error: 0.0016 - val_mean_absolute_error: 0.0312\n",
            "Epoch 94/200\n",
            "32/32 [==============================] - 0s 11ms/step - loss: 0.0011 - mean_squared_error: 0.0011 - mean_absolute_error: 0.0254 - val_loss: 0.0017 - val_mean_squared_error: 0.0017 - val_mean_absolute_error: 0.0323\n",
            "Epoch 95/200\n",
            "32/32 [==============================] - 0s 12ms/step - loss: 0.0012 - mean_squared_error: 0.0012 - mean_absolute_error: 0.0269 - val_loss: 0.0016 - val_mean_squared_error: 0.0016 - val_mean_absolute_error: 0.0312\n",
            "Epoch 96/200\n",
            "32/32 [==============================] - 0s 12ms/step - loss: 0.0011 - mean_squared_error: 0.0011 - mean_absolute_error: 0.0256 - val_loss: 0.0017 - val_mean_squared_error: 0.0017 - val_mean_absolute_error: 0.0324\n",
            "Epoch 97/200\n",
            "32/32 [==============================] - 0s 12ms/step - loss: 0.0011 - mean_squared_error: 0.0011 - mean_absolute_error: 0.0265 - val_loss: 0.0017 - val_mean_squared_error: 0.0017 - val_mean_absolute_error: 0.0321\n",
            "Epoch 98/200\n",
            "32/32 [==============================] - 0s 12ms/step - loss: 0.0012 - mean_squared_error: 0.0012 - mean_absolute_error: 0.0272 - val_loss: 0.0016 - val_mean_squared_error: 0.0016 - val_mean_absolute_error: 0.0312\n",
            "Epoch 99/200\n",
            "32/32 [==============================] - 0s 12ms/step - loss: 0.0010 - mean_squared_error: 0.0010 - mean_absolute_error: 0.0252 - val_loss: 0.0017 - val_mean_squared_error: 0.0017 - val_mean_absolute_error: 0.0318\n",
            "Epoch 100/200\n",
            "32/32 [==============================] - 0s 12ms/step - loss: 0.0011 - mean_squared_error: 0.0011 - mean_absolute_error: 0.0255 - val_loss: 0.0017 - val_mean_squared_error: 0.0017 - val_mean_absolute_error: 0.0316\n",
            "Epoch 101/200\n",
            "32/32 [==============================] - 0s 13ms/step - loss: 0.0011 - mean_squared_error: 0.0011 - mean_absolute_error: 0.0270 - val_loss: 0.0017 - val_mean_squared_error: 0.0017 - val_mean_absolute_error: 0.0318\n",
            "Epoch 102/200\n",
            "32/32 [==============================] - 0s 13ms/step - loss: 0.0011 - mean_squared_error: 0.0011 - mean_absolute_error: 0.0255 - val_loss: 0.0019 - val_mean_squared_error: 0.0019 - val_mean_absolute_error: 0.0338\n",
            "Epoch 103/200\n",
            "32/32 [==============================] - 0s 14ms/step - loss: 0.0012 - mean_squared_error: 0.0012 - mean_absolute_error: 0.0274 - val_loss: 0.0016 - val_mean_squared_error: 0.0016 - val_mean_absolute_error: 0.0311\n"
          ],
          "name": "stdout"
        },
        {
          "output_type": "display_data",
          "data": {
            "text/html": [
              "<br/>Waiting for W&B process to finish, PID 8834<br/>Program ended successfully."
            ],
            "text/plain": [
              "<IPython.core.display.HTML object>"
            ]
          },
          "metadata": {
            "tags": []
          }
        },
        {
          "output_type": "display_data",
          "data": {
            "application/vnd.jupyter.widget-view+json": {
              "model_id": "14b9056f3e7b42deb550943cfe71b468",
              "version_minor": 0,
              "version_major": 2
            },
            "text/plain": [
              "VBox(children=(Label(value=' 1.16MB of 1.16MB uploaded (0.00MB deduped)\\r'), FloatProgress(value=1.0, max=1.0)…"
            ]
          },
          "metadata": {
            "tags": []
          }
        },
        {
          "output_type": "display_data",
          "data": {
            "text/html": [
              "Find user logs for this run at: <code>/content/feeder_repo/wandb/run-20210718_205303-jahq7dfh/logs/debug.log</code>"
            ],
            "text/plain": [
              "<IPython.core.display.HTML object>"
            ]
          },
          "metadata": {
            "tags": []
          }
        },
        {
          "output_type": "display_data",
          "data": {
            "text/html": [
              "Find internal logs for this run at: <code>/content/feeder_repo/wandb/run-20210718_205303-jahq7dfh/logs/debug-internal.log</code>"
            ],
            "text/plain": [
              "<IPython.core.display.HTML object>"
            ]
          },
          "metadata": {
            "tags": []
          }
        },
        {
          "output_type": "display_data",
          "data": {
            "text/html": [
              "<h3>Run summary:</h3><br/><style>\n",
              "    table.wandb td:nth-child(1) { padding: 0 10px; text-align: right }\n",
              "    </style><table class=\"wandb\">\n",
              "<tr><td>epoch</td><td>102</td></tr><tr><td>loss</td><td>0.00112</td></tr><tr><td>mean_squared_error</td><td>0.00112</td></tr><tr><td>mean_absolute_error</td><td>0.02664</td></tr><tr><td>val_loss</td><td>0.00164</td></tr><tr><td>val_mean_squared_error</td><td>0.00164</td></tr><tr><td>val_mean_absolute_error</td><td>0.0311</td></tr><tr><td>_runtime</td><td>54</td></tr><tr><td>_timestamp</td><td>1626641637</td></tr><tr><td>_step</td><td>102</td></tr><tr><td>best_val_loss</td><td>0.00164</td></tr><tr><td>best_epoch</td><td>92</td></tr></table>"
            ],
            "text/plain": [
              "<IPython.core.display.HTML object>"
            ]
          },
          "metadata": {
            "tags": []
          }
        },
        {
          "output_type": "display_data",
          "data": {
            "text/html": [
              "<h3>Run history:</h3><br/><style>\n",
              "    table.wandb td:nth-child(1) { padding: 0 10px; text-align: right }\n",
              "    </style><table class=\"wandb\">\n",
              "<tr><td>epoch</td><td>▁▁▁▁▂▂▂▂▂▃▃▃▃▃▃▄▄▄▄▄▅▅▅▅▅▅▆▆▆▆▆▇▇▇▇▇▇███</td></tr><tr><td>loss</td><td>█▂▂▁▁▁▁▁▁▁▁▁▁▁▁▁▁▁▁▁▁▁▁▁▁▁▁▁▁▁▁▁▁▁▁▁▁▁▁▁</td></tr><tr><td>mean_squared_error</td><td>█▂▂▁▁▁▁▁▁▁▁▁▁▁▁▁▁▁▁▁▁▁▁▁▁▁▁▁▁▁▁▁▁▁▁▁▁▁▁▁</td></tr><tr><td>mean_absolute_error</td><td>█▃▂▂▂▂▂▂▂▂▂▂▂▂▁▂▁▁▁▁▁▁▁▁▁▁▁▁▁▁▁▁▁▁▁▁▁▁▁▁</td></tr><tr><td>val_loss</td><td>█▇▆▅▄▄▄▄▄▃▃▂▂▃▂▂▂▃▂▂▁▁▁▁▂▂▁▁▂▁▁▁▁▁▁▁▁▁▁▁</td></tr><tr><td>val_mean_squared_error</td><td>█▇▆▅▄▄▄▄▄▃▃▂▂▃▂▂▂▃▂▂▁▁▁▁▂▂▁▁▂▁▁▁▁▁▁▁▁▁▁▁</td></tr><tr><td>val_mean_absolute_error</td><td>█▇▆▅▅▅▄▅▄▃▃▃▃▃▂▂▂▃▃▃▂▂▂▁▂▂▁▁▂▁▁▁▁▁▁▁▁▁▁▁</td></tr><tr><td>_runtime</td><td>▁▁▁▁▂▂▂▂▂▃▃▃▃▃▃▄▄▄▄▄▅▅▅▅▅▆▆▆▆▆▆▇▇▇▇▇████</td></tr><tr><td>_timestamp</td><td>▁▁▁▁▂▂▂▂▂▃▃▃▃▃▃▄▄▄▄▄▅▅▅▅▅▆▆▆▆▆▆▇▇▇▇▇████</td></tr><tr><td>_step</td><td>▁▁▁▁▂▂▂▂▂▃▃▃▃▃▃▄▄▄▄▄▅▅▅▅▅▅▆▆▆▆▆▇▇▇▇▇▇███</td></tr></table><br/>"
            ],
            "text/plain": [
              "<IPython.core.display.HTML object>"
            ]
          },
          "metadata": {
            "tags": []
          }
        },
        {
          "output_type": "display_data",
          "data": {
            "text/html": [
              "Synced 5 W&B file(s), 1 media file(s), 2 artifact file(s) and 2 other file(s)"
            ],
            "text/plain": [
              "<IPython.core.display.HTML object>"
            ]
          },
          "metadata": {
            "tags": []
          }
        },
        {
          "output_type": "display_data",
          "data": {
            "text/html": [
              "\n",
              "                    <br/>Synced <strong style=\"color:#cdcd00\">fancy-sweep-31</strong>: <a href=\"https://wandb.ai/acse-jaq15/ACSE_9_LSTM_GRU/runs/jahq7dfh\" target=\"_blank\">https://wandb.ai/acse-jaq15/ACSE_9_LSTM_GRU/runs/jahq7dfh</a><br/>\n",
              "                "
            ],
            "text/plain": [
              "<IPython.core.display.HTML object>"
            ]
          },
          "metadata": {
            "tags": []
          }
        },
        {
          "output_type": "stream",
          "text": [
            "\u001b[34m\u001b[1mwandb\u001b[0m: Agent Starting Run: qnqgvv22 with config:\n",
            "\u001b[34m\u001b[1mwandb\u001b[0m: \tactivation: relu\n",
            "\u001b[34m\u001b[1mwandb\u001b[0m: \tbatch_size: 64\n",
            "\u001b[34m\u001b[1mwandb\u001b[0m: \tdropout: 0.2\n",
            "\u001b[34m\u001b[1mwandb\u001b[0m: \tepochs: 50\n",
            "\u001b[34m\u001b[1mwandb\u001b[0m: \tlearning_rate: 0.005\n",
            "\u001b[34m\u001b[1mwandb\u001b[0m: \toptimizer: adam\n"
          ],
          "name": "stderr"
        },
        {
          "output_type": "display_data",
          "data": {
            "text/html": [
              "\n",
              "                Tracking run with wandb version 0.11.0<br/>\n",
              "                Syncing run <strong style=\"color:#cdcd00\">exalted-sweep-32</strong> to <a href=\"https://wandb.ai\" target=\"_blank\">Weights & Biases</a> <a href=\"https://docs.wandb.com/integrations/jupyter.html\" target=\"_blank\">(Documentation)</a>.<br/>\n",
              "                Project page: <a href=\"https://wandb.ai/acse-jaq15/ACSE_9_LSTM_GRU\" target=\"_blank\">https://wandb.ai/acse-jaq15/ACSE_9_LSTM_GRU</a><br/>\n",
              "                Sweep page: <a href=\"https://wandb.ai/acse-jaq15/ACSE_9_LSTM_GRU/sweeps/amj4ayh1\" target=\"_blank\">https://wandb.ai/acse-jaq15/ACSE_9_LSTM_GRU/sweeps/amj4ayh1</a><br/>\n",
              "Run page: <a href=\"https://wandb.ai/acse-jaq15/ACSE_9_LSTM_GRU/runs/qnqgvv22\" target=\"_blank\">https://wandb.ai/acse-jaq15/ACSE_9_LSTM_GRU/runs/qnqgvv22</a><br/>\n",
              "                Run data is saved locally in <code>/content/feeder_repo/wandb/run-20210718_205450-qnqgvv22</code><br/><br/>\n",
              "            "
            ],
            "text/plain": [
              "<IPython.core.display.HTML object>"
            ]
          },
          "metadata": {
            "tags": []
          }
        },
        {
          "output_type": "stream",
          "text": [
            "WARNING:tensorflow:Layer lstm will not use cuDNN kernels since it doesn't meet the criteria. It will use a generic GPU kernel as fallback when running on GPU.\n",
            "WARNING:tensorflow:Layer gru will not use cuDNN kernels since it doesn't meet the criteria. It will use a generic GPU kernel as fallback when running on GPU.\n",
            "Epoch 1/50\n",
            "16/16 [==============================] - 9s 258ms/step - loss: 0.1244 - mean_squared_error: 0.1244 - mean_absolute_error: 0.2849 - val_loss: 0.0150 - val_mean_squared_error: 0.0150 - val_mean_absolute_error: 0.0943\n",
            "Epoch 2/50\n",
            "16/16 [==============================] - 3s 190ms/step - loss: 0.0085 - mean_squared_error: 0.0085 - mean_absolute_error: 0.0722 - val_loss: 0.0055 - val_mean_squared_error: 0.0055 - val_mean_absolute_error: 0.0584\n",
            "Epoch 3/50\n",
            "16/16 [==============================] - 3s 178ms/step - loss: 0.0039 - mean_squared_error: 0.0039 - mean_absolute_error: 0.0488 - val_loss: 0.0051 - val_mean_squared_error: 0.0051 - val_mean_absolute_error: 0.0567\n",
            "Epoch 4/50\n",
            "16/16 [==============================] - 3s 181ms/step - loss: 0.0038 - mean_squared_error: 0.0038 - mean_absolute_error: 0.0482 - val_loss: 0.0047 - val_mean_squared_error: 0.0047 - val_mean_absolute_error: 0.0543\n",
            "Epoch 5/50\n",
            "16/16 [==============================] - 3s 183ms/step - loss: 0.0035 - mean_squared_error: 0.0035 - mean_absolute_error: 0.0475 - val_loss: 0.0046 - val_mean_squared_error: 0.0046 - val_mean_absolute_error: 0.0537\n",
            "Epoch 6/50\n",
            "16/16 [==============================] - 3s 182ms/step - loss: 0.0037 - mean_squared_error: 0.0037 - mean_absolute_error: 0.0489 - val_loss: 0.0048 - val_mean_squared_error: 0.0048 - val_mean_absolute_error: 0.0543\n",
            "Epoch 7/50\n",
            "16/16 [==============================] - 3s 179ms/step - loss: 0.0040 - mean_squared_error: 0.0040 - mean_absolute_error: 0.0491 - val_loss: 0.0048 - val_mean_squared_error: 0.0048 - val_mean_absolute_error: 0.0543\n",
            "Epoch 8/50\n",
            "16/16 [==============================] - 3s 184ms/step - loss: 0.0034 - mean_squared_error: 0.0034 - mean_absolute_error: 0.0448 - val_loss: 0.0047 - val_mean_squared_error: 0.0047 - val_mean_absolute_error: 0.0536\n",
            "Epoch 9/50\n",
            "16/16 [==============================] - 3s 185ms/step - loss: 0.0032 - mean_squared_error: 0.0032 - mean_absolute_error: 0.0456 - val_loss: 0.0042 - val_mean_squared_error: 0.0042 - val_mean_absolute_error: 0.0508\n",
            "Epoch 10/50\n",
            "16/16 [==============================] - 3s 178ms/step - loss: 0.0030 - mean_squared_error: 0.0030 - mean_absolute_error: 0.0438 - val_loss: 0.0053 - val_mean_squared_error: 0.0053 - val_mean_absolute_error: 0.0572\n",
            "Epoch 11/50\n",
            "16/16 [==============================] - 3s 184ms/step - loss: 0.0027 - mean_squared_error: 0.0027 - mean_absolute_error: 0.0415 - val_loss: 0.0039 - val_mean_squared_error: 0.0039 - val_mean_absolute_error: 0.0494\n",
            "Epoch 12/50\n",
            "16/16 [==============================] - 3s 181ms/step - loss: 0.0027 - mean_squared_error: 0.0027 - mean_absolute_error: 0.0413 - val_loss: 0.0038 - val_mean_squared_error: 0.0038 - val_mean_absolute_error: 0.0483\n",
            "Epoch 13/50\n",
            "16/16 [==============================] - 3s 185ms/step - loss: 0.0028 - mean_squared_error: 0.0028 - mean_absolute_error: 0.0408 - val_loss: 0.0039 - val_mean_squared_error: 0.0039 - val_mean_absolute_error: 0.0487\n",
            "Epoch 14/50\n",
            "16/16 [==============================] - 3s 183ms/step - loss: 0.0031 - mean_squared_error: 0.0031 - mean_absolute_error: 0.0442 - val_loss: 0.0039 - val_mean_squared_error: 0.0039 - val_mean_absolute_error: 0.0483\n",
            "Epoch 15/50\n",
            "16/16 [==============================] - 3s 184ms/step - loss: 0.0026 - mean_squared_error: 0.0026 - mean_absolute_error: 0.0404 - val_loss: 0.0040 - val_mean_squared_error: 0.0040 - val_mean_absolute_error: 0.0496\n",
            "Epoch 16/50\n",
            "16/16 [==============================] - 3s 184ms/step - loss: 0.0028 - mean_squared_error: 0.0028 - mean_absolute_error: 0.0420 - val_loss: 0.0041 - val_mean_squared_error: 0.0041 - val_mean_absolute_error: 0.0493\n",
            "Epoch 17/50\n",
            "16/16 [==============================] - 3s 166ms/step - loss: 0.0027 - mean_squared_error: 0.0027 - mean_absolute_error: 0.0419 - val_loss: 0.0035 - val_mean_squared_error: 0.0035 - val_mean_absolute_error: 0.0457\n",
            "Epoch 18/50\n",
            "16/16 [==============================] - 3s 184ms/step - loss: 0.0028 - mean_squared_error: 0.0028 - mean_absolute_error: 0.0412 - val_loss: 0.0043 - val_mean_squared_error: 0.0043 - val_mean_absolute_error: 0.0505\n",
            "Epoch 19/50\n",
            "16/16 [==============================] - 3s 177ms/step - loss: 0.0024 - mean_squared_error: 0.0024 - mean_absolute_error: 0.0384 - val_loss: 0.0038 - val_mean_squared_error: 0.0038 - val_mean_absolute_error: 0.0475\n",
            "Epoch 20/50\n",
            "16/16 [==============================] - 3s 185ms/step - loss: 0.0025 - mean_squared_error: 0.0025 - mean_absolute_error: 0.0382 - val_loss: 0.0033 - val_mean_squared_error: 0.0033 - val_mean_absolute_error: 0.0448\n",
            "Epoch 21/50\n",
            "16/16 [==============================] - 3s 182ms/step - loss: 0.0027 - mean_squared_error: 0.0027 - mean_absolute_error: 0.0414 - val_loss: 0.0034 - val_mean_squared_error: 0.0034 - val_mean_absolute_error: 0.0452\n",
            "Epoch 22/50\n",
            "16/16 [==============================] - 3s 190ms/step - loss: 0.0024 - mean_squared_error: 0.0024 - mean_absolute_error: 0.0381 - val_loss: 0.0047 - val_mean_squared_error: 0.0047 - val_mean_absolute_error: 0.0534\n",
            "Epoch 23/50\n",
            "16/16 [==============================] - 3s 186ms/step - loss: 0.0026 - mean_squared_error: 0.0026 - mean_absolute_error: 0.0398 - val_loss: 0.0034 - val_mean_squared_error: 0.0034 - val_mean_absolute_error: 0.0452\n",
            "Epoch 24/50\n",
            "16/16 [==============================] - 3s 182ms/step - loss: 0.0027 - mean_squared_error: 0.0027 - mean_absolute_error: 0.0414 - val_loss: 0.0038 - val_mean_squared_error: 0.0038 - val_mean_absolute_error: 0.0474\n",
            "Epoch 25/50\n",
            "16/16 [==============================] - 3s 179ms/step - loss: 0.0026 - mean_squared_error: 0.0026 - mean_absolute_error: 0.0400 - val_loss: 0.0035 - val_mean_squared_error: 0.0035 - val_mean_absolute_error: 0.0466\n",
            "Epoch 26/50\n",
            "16/16 [==============================] - 3s 183ms/step - loss: 0.0027 - mean_squared_error: 0.0027 - mean_absolute_error: 0.0415 - val_loss: 0.0040 - val_mean_squared_error: 0.0040 - val_mean_absolute_error: 0.0486\n",
            "Epoch 27/50\n",
            "16/16 [==============================] - 3s 171ms/step - loss: 0.0024 - mean_squared_error: 0.0024 - mean_absolute_error: 0.0389 - val_loss: 0.0032 - val_mean_squared_error: 0.0032 - val_mean_absolute_error: 0.0443\n",
            "Epoch 28/50\n",
            "16/16 [==============================] - 3s 181ms/step - loss: 0.0023 - mean_squared_error: 0.0023 - mean_absolute_error: 0.0384 - val_loss: 0.0032 - val_mean_squared_error: 0.0032 - val_mean_absolute_error: 0.0436\n",
            "Epoch 29/50\n",
            "16/16 [==============================] - 3s 177ms/step - loss: 0.0022 - mean_squared_error: 0.0022 - mean_absolute_error: 0.0371 - val_loss: 0.0031 - val_mean_squared_error: 0.0031 - val_mean_absolute_error: 0.0430\n",
            "Epoch 30/50\n",
            "16/16 [==============================] - 3s 182ms/step - loss: 0.0023 - mean_squared_error: 0.0023 - mean_absolute_error: 0.0378 - val_loss: 0.0039 - val_mean_squared_error: 0.0039 - val_mean_absolute_error: 0.0479\n",
            "Epoch 31/50\n",
            "16/16 [==============================] - 3s 175ms/step - loss: 0.0021 - mean_squared_error: 0.0021 - mean_absolute_error: 0.0363 - val_loss: 0.0038 - val_mean_squared_error: 0.0038 - val_mean_absolute_error: 0.0472\n",
            "Epoch 32/50\n",
            "16/16 [==============================] - 3s 182ms/step - loss: 0.0022 - mean_squared_error: 0.0022 - mean_absolute_error: 0.0363 - val_loss: 0.0031 - val_mean_squared_error: 0.0031 - val_mean_absolute_error: 0.0434\n",
            "Epoch 33/50\n",
            "16/16 [==============================] - 3s 180ms/step - loss: 0.0023 - mean_squared_error: 0.0023 - mean_absolute_error: 0.0373 - val_loss: 0.0031 - val_mean_squared_error: 0.0031 - val_mean_absolute_error: 0.0435\n",
            "Epoch 34/50\n",
            "16/16 [==============================] - 3s 185ms/step - loss: 0.0021 - mean_squared_error: 0.0021 - mean_absolute_error: 0.0365 - val_loss: 0.0033 - val_mean_squared_error: 0.0033 - val_mean_absolute_error: 0.0439\n",
            "Epoch 35/50\n",
            "16/16 [==============================] - 3s 194ms/step - loss: 0.0022 - mean_squared_error: 0.0022 - mean_absolute_error: 0.0372 - val_loss: 0.0029 - val_mean_squared_error: 0.0029 - val_mean_absolute_error: 0.0425\n",
            "Epoch 36/50\n",
            "16/16 [==============================] - 3s 185ms/step - loss: 0.0021 - mean_squared_error: 0.0021 - mean_absolute_error: 0.0370 - val_loss: 0.0029 - val_mean_squared_error: 0.0029 - val_mean_absolute_error: 0.0421\n",
            "Epoch 37/50\n",
            "16/16 [==============================] - 3s 186ms/step - loss: 0.0021 - mean_squared_error: 0.0021 - mean_absolute_error: 0.0361 - val_loss: 0.0039 - val_mean_squared_error: 0.0039 - val_mean_absolute_error: 0.0479\n",
            "Epoch 38/50\n",
            "16/16 [==============================] - 3s 179ms/step - loss: 0.0022 - mean_squared_error: 0.0022 - mean_absolute_error: 0.0373 - val_loss: 0.0041 - val_mean_squared_error: 0.0041 - val_mean_absolute_error: 0.0497\n",
            "Epoch 39/50\n",
            "16/16 [==============================] - 3s 173ms/step - loss: 0.0021 - mean_squared_error: 0.0021 - mean_absolute_error: 0.0367 - val_loss: 0.0028 - val_mean_squared_error: 0.0028 - val_mean_absolute_error: 0.0419\n",
            "Epoch 40/50\n",
            "16/16 [==============================] - 3s 178ms/step - loss: 0.0022 - mean_squared_error: 0.0022 - mean_absolute_error: 0.0374 - val_loss: 0.0031 - val_mean_squared_error: 0.0031 - val_mean_absolute_error: 0.0435\n",
            "Epoch 41/50\n",
            "16/16 [==============================] - 3s 174ms/step - loss: 0.0021 - mean_squared_error: 0.0021 - mean_absolute_error: 0.0355 - val_loss: 0.0035 - val_mean_squared_error: 0.0035 - val_mean_absolute_error: 0.0453\n",
            "Epoch 42/50\n",
            "16/16 [==============================] - 3s 180ms/step - loss: 0.0022 - mean_squared_error: 0.0022 - mean_absolute_error: 0.0373 - val_loss: 0.0028 - val_mean_squared_error: 0.0028 - val_mean_absolute_error: 0.0415\n",
            "Epoch 43/50\n",
            "16/16 [==============================] - 3s 188ms/step - loss: 0.0020 - mean_squared_error: 0.0020 - mean_absolute_error: 0.0345 - val_loss: 0.0028 - val_mean_squared_error: 0.0028 - val_mean_absolute_error: 0.0414\n",
            "Epoch 44/50\n",
            "16/16 [==============================] - 3s 174ms/step - loss: 0.0021 - mean_squared_error: 0.0021 - mean_absolute_error: 0.0357 - val_loss: 0.0031 - val_mean_squared_error: 0.0031 - val_mean_absolute_error: 0.0429\n",
            "Epoch 45/50\n",
            "16/16 [==============================] - 3s 185ms/step - loss: 0.0021 - mean_squared_error: 0.0021 - mean_absolute_error: 0.0362 - val_loss: 0.0028 - val_mean_squared_error: 0.0028 - val_mean_absolute_error: 0.0415\n",
            "Epoch 46/50\n",
            "16/16 [==============================] - 3s 185ms/step - loss: 0.0019 - mean_squared_error: 0.0019 - mean_absolute_error: 0.0339 - val_loss: 0.0032 - val_mean_squared_error: 0.0032 - val_mean_absolute_error: 0.0436\n",
            "Epoch 47/50\n",
            "16/16 [==============================] - 3s 196ms/step - loss: 0.0023 - mean_squared_error: 0.0023 - mean_absolute_error: 0.0372 - val_loss: 0.0032 - val_mean_squared_error: 0.0032 - val_mean_absolute_error: 0.0451\n",
            "Epoch 48/50\n",
            "16/16 [==============================] - 3s 190ms/step - loss: 0.0026 - mean_squared_error: 0.0026 - mean_absolute_error: 0.0402 - val_loss: 0.0027 - val_mean_squared_error: 0.0027 - val_mean_absolute_error: 0.0408\n",
            "Epoch 49/50\n",
            "16/16 [==============================] - 3s 184ms/step - loss: 0.0022 - mean_squared_error: 0.0022 - mean_absolute_error: 0.0377 - val_loss: 0.0029 - val_mean_squared_error: 0.0029 - val_mean_absolute_error: 0.0426\n",
            "Epoch 50/50\n",
            "16/16 [==============================] - 3s 185ms/step - loss: 0.0021 - mean_squared_error: 0.0021 - mean_absolute_error: 0.0352 - val_loss: 0.0042 - val_mean_squared_error: 0.0042 - val_mean_absolute_error: 0.0504\n"
          ],
          "name": "stdout"
        },
        {
          "output_type": "display_data",
          "data": {
            "text/html": [
              "<br/>Waiting for W&B process to finish, PID 9218<br/>Program ended successfully."
            ],
            "text/plain": [
              "<IPython.core.display.HTML object>"
            ]
          },
          "metadata": {
            "tags": []
          }
        },
        {
          "output_type": "display_data",
          "data": {
            "application/vnd.jupyter.widget-view+json": {
              "model_id": "311037e22578440996cc3e21bfd45130",
              "version_minor": 0,
              "version_major": 2
            },
            "text/plain": [
              "VBox(children=(Label(value=' 1.18MB of 1.18MB uploaded (0.00MB deduped)\\r'), FloatProgress(value=1.0, max=1.0)…"
            ]
          },
          "metadata": {
            "tags": []
          }
        },
        {
          "output_type": "display_data",
          "data": {
            "text/html": [
              "Find user logs for this run at: <code>/content/feeder_repo/wandb/run-20210718_205450-qnqgvv22/logs/debug.log</code>"
            ],
            "text/plain": [
              "<IPython.core.display.HTML object>"
            ]
          },
          "metadata": {
            "tags": []
          }
        },
        {
          "output_type": "display_data",
          "data": {
            "text/html": [
              "Find internal logs for this run at: <code>/content/feeder_repo/wandb/run-20210718_205450-qnqgvv22/logs/debug-internal.log</code>"
            ],
            "text/plain": [
              "<IPython.core.display.HTML object>"
            ]
          },
          "metadata": {
            "tags": []
          }
        },
        {
          "output_type": "display_data",
          "data": {
            "text/html": [
              "<h3>Run summary:</h3><br/><style>\n",
              "    table.wandb td:nth-child(1) { padding: 0 10px; text-align: right }\n",
              "    </style><table class=\"wandb\">\n",
              "<tr><td>epoch</td><td>49</td></tr><tr><td>loss</td><td>0.00199</td></tr><tr><td>mean_squared_error</td><td>0.00199</td></tr><tr><td>mean_absolute_error</td><td>0.03485</td></tr><tr><td>val_loss</td><td>0.00423</td></tr><tr><td>val_mean_squared_error</td><td>0.00423</td></tr><tr><td>val_mean_absolute_error</td><td>0.05041</td></tr><tr><td>_runtime</td><td>159</td></tr><tr><td>_timestamp</td><td>1626641849</td></tr><tr><td>_step</td><td>49</td></tr><tr><td>best_val_loss</td><td>0.00269</td></tr><tr><td>best_epoch</td><td>47</td></tr></table>"
            ],
            "text/plain": [
              "<IPython.core.display.HTML object>"
            ]
          },
          "metadata": {
            "tags": []
          }
        },
        {
          "output_type": "display_data",
          "data": {
            "text/html": [
              "<h3>Run history:</h3><br/><style>\n",
              "    table.wandb td:nth-child(1) { padding: 0 10px; text-align: right }\n",
              "    </style><table class=\"wandb\">\n",
              "<tr><td>epoch</td><td>▁▁▁▁▂▂▂▂▂▃▃▃▃▃▃▄▄▄▄▄▅▅▅▅▅▅▆▆▆▆▆▆▇▇▇▇▇███</td></tr><tr><td>loss</td><td>█▂▁▁▁▁▁▁▁▁▁▁▁▁▁▁▁▁▁▁▁▁▁▁▁▁▁▁▁▁▁▁▁▁▁▁▁▁▁▁</td></tr><tr><td>mean_squared_error</td><td>█▂▁▁▁▁▁▁▁▁▁▁▁▁▁▁▁▁▁▁▁▁▁▁▁▁▁▁▁▁▁▁▁▁▁▁▁▁▁▁</td></tr><tr><td>mean_absolute_error</td><td>█▂▂▂▂▂▁▂▁▁▁▁▁▁▁▁▁▁▁▁▁▁▁▁▁▁▁▁▁▁▁▁▁▁▁▁▁▁▁▁</td></tr><tr><td>val_loss</td><td>█▃▂▂▂▂▂▂▂▂▂▂▂▁▂▂▁▂▁▂▂▁▁▁▂▁▁▁▁▂▂▁▁▁▁▁▁▁▁▂</td></tr><tr><td>val_mean_squared_error</td><td>█▃▂▂▂▂▂▂▂▂▂▂▂▁▂▂▁▂▁▂▂▁▁▁▂▁▁▁▁▂▂▁▁▁▁▁▁▁▁▂</td></tr><tr><td>val_mean_absolute_error</td><td>█▃▃▃▃▃▃▂▂▂▂▂▂▂▂▂▂▃▂▂▂▁▁▁▂▁▁▁▁▂▂▁▂▁▁▁▁▂▁▂</td></tr><tr><td>_runtime</td><td>▁▁▁▁▂▂▂▂▂▃▃▃▃▃▃▄▄▄▄▄▅▅▅▅▅▅▆▆▆▆▆▆▇▇▇▇▇███</td></tr><tr><td>_timestamp</td><td>▁▁▁▁▂▂▂▂▂▃▃▃▃▃▃▄▄▄▄▄▅▅▅▅▅▅▆▆▆▆▆▆▇▇▇▇▇███</td></tr><tr><td>_step</td><td>▁▁▁▁▂▂▂▂▂▃▃▃▃▃▃▄▄▄▄▄▅▅▅▅▅▅▆▆▆▆▆▆▇▇▇▇▇███</td></tr></table><br/>"
            ],
            "text/plain": [
              "<IPython.core.display.HTML object>"
            ]
          },
          "metadata": {
            "tags": []
          }
        },
        {
          "output_type": "display_data",
          "data": {
            "text/html": [
              "Synced 5 W&B file(s), 1 media file(s), 2 artifact file(s) and 2 other file(s)"
            ],
            "text/plain": [
              "<IPython.core.display.HTML object>"
            ]
          },
          "metadata": {
            "tags": []
          }
        },
        {
          "output_type": "display_data",
          "data": {
            "text/html": [
              "\n",
              "                    <br/>Synced <strong style=\"color:#cdcd00\">exalted-sweep-32</strong>: <a href=\"https://wandb.ai/acse-jaq15/ACSE_9_LSTM_GRU/runs/qnqgvv22\" target=\"_blank\">https://wandb.ai/acse-jaq15/ACSE_9_LSTM_GRU/runs/qnqgvv22</a><br/>\n",
              "                "
            ],
            "text/plain": [
              "<IPython.core.display.HTML object>"
            ]
          },
          "metadata": {
            "tags": []
          }
        },
        {
          "output_type": "stream",
          "text": [
            "\u001b[34m\u001b[1mwandb\u001b[0m: Agent Starting Run: 0s6tx62x with config:\n",
            "\u001b[34m\u001b[1mwandb\u001b[0m: \tactivation: relu\n",
            "\u001b[34m\u001b[1mwandb\u001b[0m: \tbatch_size: 128\n",
            "\u001b[34m\u001b[1mwandb\u001b[0m: \tdropout: 0.3\n",
            "\u001b[34m\u001b[1mwandb\u001b[0m: \tepochs: 200\n",
            "\u001b[34m\u001b[1mwandb\u001b[0m: \tlearning_rate: 0.0005\n",
            "\u001b[34m\u001b[1mwandb\u001b[0m: \toptimizer: nadam\n"
          ],
          "name": "stderr"
        },
        {
          "output_type": "display_data",
          "data": {
            "text/html": [
              "\n",
              "                Tracking run with wandb version 0.11.0<br/>\n",
              "                Syncing run <strong style=\"color:#cdcd00\">sleek-sweep-33</strong> to <a href=\"https://wandb.ai\" target=\"_blank\">Weights & Biases</a> <a href=\"https://docs.wandb.com/integrations/jupyter.html\" target=\"_blank\">(Documentation)</a>.<br/>\n",
              "                Project page: <a href=\"https://wandb.ai/acse-jaq15/ACSE_9_LSTM_GRU\" target=\"_blank\">https://wandb.ai/acse-jaq15/ACSE_9_LSTM_GRU</a><br/>\n",
              "                Sweep page: <a href=\"https://wandb.ai/acse-jaq15/ACSE_9_LSTM_GRU/sweeps/amj4ayh1\" target=\"_blank\">https://wandb.ai/acse-jaq15/ACSE_9_LSTM_GRU/sweeps/amj4ayh1</a><br/>\n",
              "Run page: <a href=\"https://wandb.ai/acse-jaq15/ACSE_9_LSTM_GRU/runs/0s6tx62x\" target=\"_blank\">https://wandb.ai/acse-jaq15/ACSE_9_LSTM_GRU/runs/0s6tx62x</a><br/>\n",
              "                Run data is saved locally in <code>/content/feeder_repo/wandb/run-20210718_205743-0s6tx62x</code><br/><br/>\n",
              "            "
            ],
            "text/plain": [
              "<IPython.core.display.HTML object>"
            ]
          },
          "metadata": {
            "tags": []
          }
        },
        {
          "output_type": "stream",
          "text": [
            "WARNING:tensorflow:Layer lstm will not use cuDNN kernels since it doesn't meet the criteria. It will use a generic GPU kernel as fallback when running on GPU.\n",
            "WARNING:tensorflow:Layer gru will not use cuDNN kernels since it doesn't meet the criteria. It will use a generic GPU kernel as fallback when running on GPU.\n",
            "Epoch 1/200\n",
            "8/8 [==============================] - 7s 352ms/step - loss: 0.2647 - mean_squared_error: 0.2647 - mean_absolute_error: 0.4784 - val_loss: 0.3504 - val_mean_squared_error: 0.3504 - val_mean_absolute_error: 0.5744\n",
            "Epoch 2/200\n",
            "8/8 [==============================] - 1s 183ms/step - loss: 0.1993 - mean_squared_error: 0.1993 - mean_absolute_error: 0.4102 - val_loss: 0.2215 - val_mean_squared_error: 0.2215 - val_mean_absolute_error: 0.4520\n",
            "Epoch 3/200\n",
            "8/8 [==============================] - 1s 182ms/step - loss: 0.1088 - mean_squared_error: 0.1088 - mean_absolute_error: 0.2930 - val_loss: 0.0565 - val_mean_squared_error: 0.0565 - val_mean_absolute_error: 0.2116\n",
            "Epoch 4/200\n",
            "8/8 [==============================] - 1s 179ms/step - loss: 0.0200 - mean_squared_error: 0.0200 - mean_absolute_error: 0.1159 - val_loss: 0.0105 - val_mean_squared_error: 0.0105 - val_mean_absolute_error: 0.0812\n",
            "Epoch 5/200\n",
            "8/8 [==============================] - 1s 182ms/step - loss: 0.0091 - mean_squared_error: 0.0091 - mean_absolute_error: 0.0772 - val_loss: 0.0095 - val_mean_squared_error: 0.0095 - val_mean_absolute_error: 0.0772\n",
            "Epoch 6/200\n",
            "8/8 [==============================] - 2s 202ms/step - loss: 0.0077 - mean_squared_error: 0.0077 - mean_absolute_error: 0.0714 - val_loss: 0.0078 - val_mean_squared_error: 0.0078 - val_mean_absolute_error: 0.0718\n",
            "Epoch 7/200\n",
            "8/8 [==============================] - 1s 177ms/step - loss: 0.0065 - mean_squared_error: 0.0065 - mean_absolute_error: 0.0642 - val_loss: 0.0077 - val_mean_squared_error: 0.0077 - val_mean_absolute_error: 0.0708\n",
            "Epoch 8/200\n",
            "8/8 [==============================] - 1s 185ms/step - loss: 0.0067 - mean_squared_error: 0.0067 - mean_absolute_error: 0.0657 - val_loss: 0.0081 - val_mean_squared_error: 0.0081 - val_mean_absolute_error: 0.0721\n",
            "Epoch 9/200\n",
            "8/8 [==============================] - 1s 175ms/step - loss: 0.0056 - mean_squared_error: 0.0056 - mean_absolute_error: 0.0593 - val_loss: 0.0077 - val_mean_squared_error: 0.0077 - val_mean_absolute_error: 0.0708\n",
            "Epoch 10/200\n",
            "8/8 [==============================] - 1s 181ms/step - loss: 0.0050 - mean_squared_error: 0.0050 - mean_absolute_error: 0.0565 - val_loss: 0.0077 - val_mean_squared_error: 0.0077 - val_mean_absolute_error: 0.0712\n",
            "Epoch 11/200\n",
            "8/8 [==============================] - 1s 185ms/step - loss: 0.0055 - mean_squared_error: 0.0055 - mean_absolute_error: 0.0589 - val_loss: 0.0076 - val_mean_squared_error: 0.0076 - val_mean_absolute_error: 0.0704\n",
            "Epoch 12/200\n",
            "8/8 [==============================] - 1s 178ms/step - loss: 0.0048 - mean_squared_error: 0.0048 - mean_absolute_error: 0.0544 - val_loss: 0.0074 - val_mean_squared_error: 0.0074 - val_mean_absolute_error: 0.0696\n",
            "Epoch 13/200\n",
            "8/8 [==============================] - 1s 189ms/step - loss: 0.0052 - mean_squared_error: 0.0052 - mean_absolute_error: 0.0576 - val_loss: 0.0075 - val_mean_squared_error: 0.0075 - val_mean_absolute_error: 0.0695\n",
            "Epoch 14/200\n",
            "8/8 [==============================] - 1s 185ms/step - loss: 0.0052 - mean_squared_error: 0.0052 - mean_absolute_error: 0.0567 - val_loss: 0.0073 - val_mean_squared_error: 0.0073 - val_mean_absolute_error: 0.0690\n",
            "Epoch 15/200\n",
            "8/8 [==============================] - 2s 195ms/step - loss: 0.0055 - mean_squared_error: 0.0055 - mean_absolute_error: 0.0577 - val_loss: 0.0071 - val_mean_squared_error: 0.0071 - val_mean_absolute_error: 0.0683\n",
            "Epoch 16/200\n",
            "8/8 [==============================] - 2s 192ms/step - loss: 0.0055 - mean_squared_error: 0.0055 - mean_absolute_error: 0.0583 - val_loss: 0.0071 - val_mean_squared_error: 0.0071 - val_mean_absolute_error: 0.0683\n",
            "Epoch 17/200\n",
            "8/8 [==============================] - 2s 191ms/step - loss: 0.0053 - mean_squared_error: 0.0053 - mean_absolute_error: 0.0572 - val_loss: 0.0070 - val_mean_squared_error: 0.0070 - val_mean_absolute_error: 0.0675\n",
            "Epoch 18/200\n",
            "8/8 [==============================] - 2s 190ms/step - loss: 0.0046 - mean_squared_error: 0.0046 - mean_absolute_error: 0.0532 - val_loss: 0.0071 - val_mean_squared_error: 0.0071 - val_mean_absolute_error: 0.0682\n",
            "Epoch 19/200\n",
            "8/8 [==============================] - 2s 210ms/step - loss: 0.0048 - mean_squared_error: 0.0048 - mean_absolute_error: 0.0547 - val_loss: 0.0068 - val_mean_squared_error: 0.0068 - val_mean_absolute_error: 0.0666\n",
            "Epoch 20/200\n",
            "8/8 [==============================] - 1s 179ms/step - loss: 0.0054 - mean_squared_error: 0.0054 - mean_absolute_error: 0.0582 - val_loss: 0.0072 - val_mean_squared_error: 0.0072 - val_mean_absolute_error: 0.0688\n",
            "Epoch 21/200\n",
            "8/8 [==============================] - 1s 179ms/step - loss: 0.0043 - mean_squared_error: 0.0043 - mean_absolute_error: 0.0519 - val_loss: 0.0066 - val_mean_squared_error: 0.0066 - val_mean_absolute_error: 0.0657\n",
            "Epoch 22/200\n",
            "8/8 [==============================] - 1s 188ms/step - loss: 0.0044 - mean_squared_error: 0.0044 - mean_absolute_error: 0.0533 - val_loss: 0.0065 - val_mean_squared_error: 0.0065 - val_mean_absolute_error: 0.0653\n",
            "Epoch 23/200\n",
            "8/8 [==============================] - 1s 180ms/step - loss: 0.0045 - mean_squared_error: 0.0045 - mean_absolute_error: 0.0539 - val_loss: 0.0068 - val_mean_squared_error: 0.0068 - val_mean_absolute_error: 0.0665\n",
            "Epoch 24/200\n",
            "8/8 [==============================] - 2s 186ms/step - loss: 0.0045 - mean_squared_error: 0.0045 - mean_absolute_error: 0.0534 - val_loss: 0.0067 - val_mean_squared_error: 0.0067 - val_mean_absolute_error: 0.0660\n",
            "Epoch 25/200\n",
            "8/8 [==============================] - 2s 190ms/step - loss: 0.0047 - mean_squared_error: 0.0047 - mean_absolute_error: 0.0546 - val_loss: 0.0068 - val_mean_squared_error: 0.0068 - val_mean_absolute_error: 0.0669\n",
            "Epoch 26/200\n",
            "8/8 [==============================] - 1s 188ms/step - loss: 0.0043 - mean_squared_error: 0.0043 - mean_absolute_error: 0.0515 - val_loss: 0.0074 - val_mean_squared_error: 0.0074 - val_mean_absolute_error: 0.0693\n",
            "Epoch 27/200\n",
            "8/8 [==============================] - 1s 177ms/step - loss: 0.0050 - mean_squared_error: 0.0050 - mean_absolute_error: 0.0556 - val_loss: 0.0067 - val_mean_squared_error: 0.0067 - val_mean_absolute_error: 0.0661\n",
            "Epoch 28/200\n",
            "8/8 [==============================] - 1s 181ms/step - loss: 0.0043 - mean_squared_error: 0.0043 - mean_absolute_error: 0.0508 - val_loss: 0.0062 - val_mean_squared_error: 0.0062 - val_mean_absolute_error: 0.0634\n",
            "Epoch 29/200\n",
            "8/8 [==============================] - 1s 179ms/step - loss: 0.0043 - mean_squared_error: 0.0043 - mean_absolute_error: 0.0531 - val_loss: 0.0061 - val_mean_squared_error: 0.0061 - val_mean_absolute_error: 0.0632\n",
            "Epoch 30/200\n",
            "8/8 [==============================] - 1s 185ms/step - loss: 0.0046 - mean_squared_error: 0.0046 - mean_absolute_error: 0.0540 - val_loss: 0.0062 - val_mean_squared_error: 0.0062 - val_mean_absolute_error: 0.0636\n",
            "Epoch 31/200\n",
            "8/8 [==============================] - 1s 177ms/step - loss: 0.0043 - mean_squared_error: 0.0043 - mean_absolute_error: 0.0516 - val_loss: 0.0062 - val_mean_squared_error: 0.0062 - val_mean_absolute_error: 0.0633\n",
            "Epoch 32/200\n",
            "8/8 [==============================] - 1s 181ms/step - loss: 0.0044 - mean_squared_error: 0.0044 - mean_absolute_error: 0.0510 - val_loss: 0.0061 - val_mean_squared_error: 0.0061 - val_mean_absolute_error: 0.0627\n",
            "Epoch 33/200\n",
            "8/8 [==============================] - 1s 177ms/step - loss: 0.0046 - mean_squared_error: 0.0046 - mean_absolute_error: 0.0535 - val_loss: 0.0061 - val_mean_squared_error: 0.0061 - val_mean_absolute_error: 0.0629\n",
            "Epoch 34/200\n",
            "8/8 [==============================] - 1s 189ms/step - loss: 0.0043 - mean_squared_error: 0.0043 - mean_absolute_error: 0.0519 - val_loss: 0.0062 - val_mean_squared_error: 0.0062 - val_mean_absolute_error: 0.0633\n",
            "Epoch 35/200\n",
            "8/8 [==============================] - 1s 179ms/step - loss: 0.0038 - mean_squared_error: 0.0038 - mean_absolute_error: 0.0482 - val_loss: 0.0059 - val_mean_squared_error: 0.0059 - val_mean_absolute_error: 0.0619\n",
            "Epoch 36/200\n",
            "8/8 [==============================] - 1s 188ms/step - loss: 0.0044 - mean_squared_error: 0.0044 - mean_absolute_error: 0.0524 - val_loss: 0.0059 - val_mean_squared_error: 0.0059 - val_mean_absolute_error: 0.0619\n",
            "Epoch 37/200\n",
            "8/8 [==============================] - 2s 197ms/step - loss: 0.0042 - mean_squared_error: 0.0042 - mean_absolute_error: 0.0509 - val_loss: 0.0057 - val_mean_squared_error: 0.0057 - val_mean_absolute_error: 0.0608\n",
            "Epoch 38/200\n",
            "8/8 [==============================] - 2s 191ms/step - loss: 0.0039 - mean_squared_error: 0.0039 - mean_absolute_error: 0.0498 - val_loss: 0.0059 - val_mean_squared_error: 0.0059 - val_mean_absolute_error: 0.0619\n",
            "Epoch 39/200\n",
            "8/8 [==============================] - 1s 180ms/step - loss: 0.0038 - mean_squared_error: 0.0038 - mean_absolute_error: 0.0493 - val_loss: 0.0057 - val_mean_squared_error: 0.0057 - val_mean_absolute_error: 0.0609\n",
            "Epoch 40/200\n",
            "8/8 [==============================] - 1s 171ms/step - loss: 0.0041 - mean_squared_error: 0.0041 - mean_absolute_error: 0.0517 - val_loss: 0.0056 - val_mean_squared_error: 0.0056 - val_mean_absolute_error: 0.0599\n",
            "Epoch 41/200\n",
            "8/8 [==============================] - 1s 176ms/step - loss: 0.0040 - mean_squared_error: 0.0040 - mean_absolute_error: 0.0502 - val_loss: 0.0056 - val_mean_squared_error: 0.0056 - val_mean_absolute_error: 0.0601\n",
            "Epoch 42/200\n",
            "8/8 [==============================] - 1s 181ms/step - loss: 0.0036 - mean_squared_error: 0.0036 - mean_absolute_error: 0.0489 - val_loss: 0.0057 - val_mean_squared_error: 0.0057 - val_mean_absolute_error: 0.0608\n",
            "Epoch 43/200\n",
            "8/8 [==============================] - 1s 181ms/step - loss: 0.0038 - mean_squared_error: 0.0038 - mean_absolute_error: 0.0493 - val_loss: 0.0054 - val_mean_squared_error: 0.0054 - val_mean_absolute_error: 0.0591\n",
            "Epoch 44/200\n",
            "8/8 [==============================] - 1s 181ms/step - loss: 0.0039 - mean_squared_error: 0.0039 - mean_absolute_error: 0.0490 - val_loss: 0.0053 - val_mean_squared_error: 0.0053 - val_mean_absolute_error: 0.0587\n",
            "Epoch 45/200\n",
            "8/8 [==============================] - 2s 187ms/step - loss: 0.0036 - mean_squared_error: 0.0036 - mean_absolute_error: 0.0468 - val_loss: 0.0055 - val_mean_squared_error: 0.0055 - val_mean_absolute_error: 0.0595\n",
            "Epoch 46/200\n",
            "8/8 [==============================] - 2s 199ms/step - loss: 0.0036 - mean_squared_error: 0.0036 - mean_absolute_error: 0.0482 - val_loss: 0.0054 - val_mean_squared_error: 0.0054 - val_mean_absolute_error: 0.0589\n",
            "Epoch 47/200\n",
            "8/8 [==============================] - 2s 201ms/step - loss: 0.0041 - mean_squared_error: 0.0041 - mean_absolute_error: 0.0507 - val_loss: 0.0056 - val_mean_squared_error: 0.0056 - val_mean_absolute_error: 0.0600\n",
            "Epoch 48/200\n",
            "8/8 [==============================] - 2s 184ms/step - loss: 0.0035 - mean_squared_error: 0.0035 - mean_absolute_error: 0.0463 - val_loss: 0.0056 - val_mean_squared_error: 0.0056 - val_mean_absolute_error: 0.0599\n",
            "Epoch 49/200\n",
            "8/8 [==============================] - 2s 192ms/step - loss: 0.0041 - mean_squared_error: 0.0041 - mean_absolute_error: 0.0505 - val_loss: 0.0052 - val_mean_squared_error: 0.0052 - val_mean_absolute_error: 0.0577\n",
            "Epoch 50/200\n",
            "8/8 [==============================] - 1s 178ms/step - loss: 0.0036 - mean_squared_error: 0.0036 - mean_absolute_error: 0.0481 - val_loss: 0.0053 - val_mean_squared_error: 0.0053 - val_mean_absolute_error: 0.0580\n",
            "Epoch 51/200\n",
            "8/8 [==============================] - 1s 187ms/step - loss: 0.0040 - mean_squared_error: 0.0040 - mean_absolute_error: 0.0502 - val_loss: 0.0052 - val_mean_squared_error: 0.0052 - val_mean_absolute_error: 0.0578\n",
            "Epoch 52/200\n",
            "8/8 [==============================] - 1s 189ms/step - loss: 0.0037 - mean_squared_error: 0.0037 - mean_absolute_error: 0.0483 - val_loss: 0.0052 - val_mean_squared_error: 0.0052 - val_mean_absolute_error: 0.0579\n",
            "Epoch 53/200\n",
            "8/8 [==============================] - 1s 178ms/step - loss: 0.0036 - mean_squared_error: 0.0036 - mean_absolute_error: 0.0479 - val_loss: 0.0053 - val_mean_squared_error: 0.0053 - val_mean_absolute_error: 0.0580\n",
            "Epoch 54/200\n",
            "8/8 [==============================] - 1s 171ms/step - loss: 0.0035 - mean_squared_error: 0.0035 - mean_absolute_error: 0.0470 - val_loss: 0.0052 - val_mean_squared_error: 0.0052 - val_mean_absolute_error: 0.0575\n",
            "Epoch 55/200\n",
            "8/8 [==============================] - 2s 198ms/step - loss: 0.0035 - mean_squared_error: 0.0035 - mean_absolute_error: 0.0472 - val_loss: 0.0050 - val_mean_squared_error: 0.0050 - val_mean_absolute_error: 0.0564\n",
            "Epoch 56/200\n",
            "8/8 [==============================] - 1s 183ms/step - loss: 0.0036 - mean_squared_error: 0.0036 - mean_absolute_error: 0.0476 - val_loss: 0.0049 - val_mean_squared_error: 0.0049 - val_mean_absolute_error: 0.0558\n",
            "Epoch 57/200\n",
            "8/8 [==============================] - 1s 168ms/step - loss: 0.0035 - mean_squared_error: 0.0035 - mean_absolute_error: 0.0467 - val_loss: 0.0049 - val_mean_squared_error: 0.0049 - val_mean_absolute_error: 0.0556\n",
            "Epoch 58/200\n",
            "8/8 [==============================] - 1s 182ms/step - loss: 0.0038 - mean_squared_error: 0.0038 - mean_absolute_error: 0.0487 - val_loss: 0.0060 - val_mean_squared_error: 0.0060 - val_mean_absolute_error: 0.0617\n",
            "Epoch 59/200\n",
            "8/8 [==============================] - 1s 184ms/step - loss: 0.0036 - mean_squared_error: 0.0036 - mean_absolute_error: 0.0479 - val_loss: 0.0051 - val_mean_squared_error: 0.0051 - val_mean_absolute_error: 0.0569\n",
            "Epoch 60/200\n",
            "8/8 [==============================] - 1s 188ms/step - loss: 0.0036 - mean_squared_error: 0.0036 - mean_absolute_error: 0.0478 - val_loss: 0.0049 - val_mean_squared_error: 0.0049 - val_mean_absolute_error: 0.0557\n",
            "Epoch 61/200\n",
            "8/8 [==============================] - 1s 186ms/step - loss: 0.0033 - mean_squared_error: 0.0033 - mean_absolute_error: 0.0460 - val_loss: 0.0049 - val_mean_squared_error: 0.0049 - val_mean_absolute_error: 0.0559\n",
            "Epoch 62/200\n",
            "8/8 [==============================] - 2s 192ms/step - loss: 0.0038 - mean_squared_error: 0.0038 - mean_absolute_error: 0.0476 - val_loss: 0.0049 - val_mean_squared_error: 0.0049 - val_mean_absolute_error: 0.0556\n",
            "Epoch 63/200\n",
            "8/8 [==============================] - 1s 186ms/step - loss: 0.0032 - mean_squared_error: 0.0032 - mean_absolute_error: 0.0453 - val_loss: 0.0048 - val_mean_squared_error: 0.0048 - val_mean_absolute_error: 0.0551\n",
            "Epoch 64/200\n",
            "8/8 [==============================] - 1s 177ms/step - loss: 0.0036 - mean_squared_error: 0.0036 - mean_absolute_error: 0.0476 - val_loss: 0.0054 - val_mean_squared_error: 0.0054 - val_mean_absolute_error: 0.0581\n",
            "Epoch 65/200\n",
            "8/8 [==============================] - 2s 204ms/step - loss: 0.0032 - mean_squared_error: 0.0032 - mean_absolute_error: 0.0447 - val_loss: 0.0052 - val_mean_squared_error: 0.0052 - val_mean_absolute_error: 0.0571\n",
            "Epoch 66/200\n",
            "8/8 [==============================] - 2s 186ms/step - loss: 0.0032 - mean_squared_error: 0.0032 - mean_absolute_error: 0.0445 - val_loss: 0.0048 - val_mean_squared_error: 0.0048 - val_mean_absolute_error: 0.0552\n",
            "Epoch 67/200\n",
            "8/8 [==============================] - 1s 188ms/step - loss: 0.0032 - mean_squared_error: 0.0032 - mean_absolute_error: 0.0443 - val_loss: 0.0053 - val_mean_squared_error: 0.0053 - val_mean_absolute_error: 0.0577\n",
            "Epoch 68/200\n",
            "8/8 [==============================] - 2s 192ms/step - loss: 0.0032 - mean_squared_error: 0.0032 - mean_absolute_error: 0.0445 - val_loss: 0.0051 - val_mean_squared_error: 0.0051 - val_mean_absolute_error: 0.0566\n",
            "Epoch 69/200\n",
            "8/8 [==============================] - 1s 184ms/step - loss: 0.0035 - mean_squared_error: 0.0035 - mean_absolute_error: 0.0471 - val_loss: 0.0053 - val_mean_squared_error: 0.0053 - val_mean_absolute_error: 0.0577\n",
            "Epoch 70/200\n",
            "8/8 [==============================] - 1s 182ms/step - loss: 0.0033 - mean_squared_error: 0.0033 - mean_absolute_error: 0.0442 - val_loss: 0.0049 - val_mean_squared_error: 0.0049 - val_mean_absolute_error: 0.0554\n",
            "Epoch 71/200\n",
            "8/8 [==============================] - 2s 188ms/step - loss: 0.0031 - mean_squared_error: 0.0031 - mean_absolute_error: 0.0450 - val_loss: 0.0054 - val_mean_squared_error: 0.0054 - val_mean_absolute_error: 0.0579\n",
            "Epoch 72/200\n",
            "8/8 [==============================] - 1s 185ms/step - loss: 0.0033 - mean_squared_error: 0.0033 - mean_absolute_error: 0.0464 - val_loss: 0.0059 - val_mean_squared_error: 0.0059 - val_mean_absolute_error: 0.0610\n",
            "Epoch 73/200\n",
            "8/8 [==============================] - 1s 190ms/step - loss: 0.0034 - mean_squared_error: 0.0034 - mean_absolute_error: 0.0464 - val_loss: 0.0049 - val_mean_squared_error: 0.0049 - val_mean_absolute_error: 0.0557\n"
          ],
          "name": "stdout"
        },
        {
          "output_type": "display_data",
          "data": {
            "text/html": [
              "<br/>Waiting for W&B process to finish, PID 9458<br/>Program ended successfully."
            ],
            "text/plain": [
              "<IPython.core.display.HTML object>"
            ]
          },
          "metadata": {
            "tags": []
          }
        },
        {
          "output_type": "display_data",
          "data": {
            "application/vnd.jupyter.widget-view+json": {
              "model_id": "9fc676377a3c48d39657bc9ef55e9116",
              "version_minor": 0,
              "version_major": 2
            },
            "text/plain": [
              "VBox(children=(Label(value=' 1.21MB of 1.21MB uploaded (0.00MB deduped)\\r'), FloatProgress(value=1.0, max=1.0)…"
            ]
          },
          "metadata": {
            "tags": []
          }
        },
        {
          "output_type": "display_data",
          "data": {
            "text/html": [
              "Find user logs for this run at: <code>/content/feeder_repo/wandb/run-20210718_205743-0s6tx62x/logs/debug.log</code>"
            ],
            "text/plain": [
              "<IPython.core.display.HTML object>"
            ]
          },
          "metadata": {
            "tags": []
          }
        },
        {
          "output_type": "display_data",
          "data": {
            "text/html": [
              "Find internal logs for this run at: <code>/content/feeder_repo/wandb/run-20210718_205743-0s6tx62x/logs/debug-internal.log</code>"
            ],
            "text/plain": [
              "<IPython.core.display.HTML object>"
            ]
          },
          "metadata": {
            "tags": []
          }
        },
        {
          "output_type": "display_data",
          "data": {
            "text/html": [
              "<h3>Run summary:</h3><br/><style>\n",
              "    table.wandb td:nth-child(1) { padding: 0 10px; text-align: right }\n",
              "    </style><table class=\"wandb\">\n",
              "<tr><td>epoch</td><td>72</td></tr><tr><td>loss</td><td>0.00337</td></tr><tr><td>mean_squared_error</td><td>0.00337</td></tr><tr><td>mean_absolute_error</td><td>0.04638</td></tr><tr><td>val_loss</td><td>0.00494</td></tr><tr><td>val_mean_squared_error</td><td>0.00494</td></tr><tr><td>val_mean_absolute_error</td><td>0.05566</td></tr><tr><td>_runtime</td><td>122</td></tr><tr><td>_timestamp</td><td>1626641985</td></tr><tr><td>_step</td><td>72</td></tr><tr><td>best_val_loss</td><td>0.00481</td></tr><tr><td>best_epoch</td><td>62</td></tr></table>"
            ],
            "text/plain": [
              "<IPython.core.display.HTML object>"
            ]
          },
          "metadata": {
            "tags": []
          }
        },
        {
          "output_type": "display_data",
          "data": {
            "text/html": [
              "<h3>Run history:</h3><br/><style>\n",
              "    table.wandb td:nth-child(1) { padding: 0 10px; text-align: right }\n",
              "    </style><table class=\"wandb\">\n",
              "<tr><td>epoch</td><td>▁▁▁▁▂▂▂▂▂▃▃▃▃▃▃▄▄▄▄▄▅▅▅▅▅▅▆▆▆▆▆▇▇▇▇▇▇███</td></tr><tr><td>loss</td><td>█▆▁▁▁▁▁▁▁▁▁▁▁▁▁▁▁▁▁▁▁▁▁▁▁▁▁▁▁▁▁▁▁▁▁▁▁▁▁▁</td></tr><tr><td>mean_squared_error</td><td>█▆▁▁▁▁▁▁▁▁▁▁▁▁▁▁▁▁▁▁▁▁▁▁▁▁▁▁▁▁▁▁▁▁▁▁▁▁▁▁</td></tr><tr><td>mean_absolute_error</td><td>█▇▂▁▁▁▁▁▁▁▁▁▁▁▁▁▁▁▁▁▁▁▁▁▁▁▁▁▁▁▁▁▁▁▁▁▁▁▁▁</td></tr><tr><td>val_loss</td><td>█▅▁▁▁▁▁▁▁▁▁▁▁▁▁▁▁▁▁▁▁▁▁▁▁▁▁▁▁▁▁▁▁▁▁▁▁▁▁▁</td></tr><tr><td>val_mean_squared_error</td><td>█▅▁▁▁▁▁▁▁▁▁▁▁▁▁▁▁▁▁▁▁▁▁▁▁▁▁▁▁▁▁▁▁▁▁▁▁▁▁▁</td></tr><tr><td>val_mean_absolute_error</td><td>█▆▁▁▁▁▁▁▁▁▁▁▁▁▁▁▁▁▁▁▁▁▁▁▁▁▁▁▁▁▁▁▁▁▁▁▁▁▁▁</td></tr><tr><td>_runtime</td><td>▁▁▁▁▂▂▂▂▂▃▃▃▃▃▃▄▄▄▄▄▅▅▅▅▅▅▆▆▆▆▆▇▇▇▇▇▇███</td></tr><tr><td>_timestamp</td><td>▁▁▁▁▂▂▂▂▂▃▃▃▃▃▃▄▄▄▄▄▅▅▅▅▅▅▆▆▆▆▆▇▇▇▇▇▇███</td></tr><tr><td>_step</td><td>▁▁▁▁▂▂▂▂▂▃▃▃▃▃▃▄▄▄▄▄▅▅▅▅▅▅▆▆▆▆▆▇▇▇▇▇▇███</td></tr></table><br/>"
            ],
            "text/plain": [
              "<IPython.core.display.HTML object>"
            ]
          },
          "metadata": {
            "tags": []
          }
        },
        {
          "output_type": "display_data",
          "data": {
            "text/html": [
              "Synced 5 W&B file(s), 1 media file(s), 2 artifact file(s) and 2 other file(s)"
            ],
            "text/plain": [
              "<IPython.core.display.HTML object>"
            ]
          },
          "metadata": {
            "tags": []
          }
        },
        {
          "output_type": "display_data",
          "data": {
            "text/html": [
              "\n",
              "                    <br/>Synced <strong style=\"color:#cdcd00\">sleek-sweep-33</strong>: <a href=\"https://wandb.ai/acse-jaq15/ACSE_9_LSTM_GRU/runs/0s6tx62x\" target=\"_blank\">https://wandb.ai/acse-jaq15/ACSE_9_LSTM_GRU/runs/0s6tx62x</a><br/>\n",
              "                "
            ],
            "text/plain": [
              "<IPython.core.display.HTML object>"
            ]
          },
          "metadata": {
            "tags": []
          }
        },
        {
          "output_type": "stream",
          "text": [
            "\u001b[34m\u001b[1mwandb\u001b[0m: Agent Starting Run: levvg7ay with config:\n",
            "\u001b[34m\u001b[1mwandb\u001b[0m: \tactivation: relu\n",
            "\u001b[34m\u001b[1mwandb\u001b[0m: \tbatch_size: 128\n",
            "\u001b[34m\u001b[1mwandb\u001b[0m: \tdropout: 0.1\n",
            "\u001b[34m\u001b[1mwandb\u001b[0m: \tepochs: 200\n",
            "\u001b[34m\u001b[1mwandb\u001b[0m: \tlearning_rate: 0.001\n",
            "\u001b[34m\u001b[1mwandb\u001b[0m: \toptimizer: rmsprop\n"
          ],
          "name": "stderr"
        },
        {
          "output_type": "display_data",
          "data": {
            "text/html": [
              "\n",
              "                Tracking run with wandb version 0.11.0<br/>\n",
              "                Syncing run <strong style=\"color:#cdcd00\">legendary-sweep-34</strong> to <a href=\"https://wandb.ai\" target=\"_blank\">Weights & Biases</a> <a href=\"https://docs.wandb.com/integrations/jupyter.html\" target=\"_blank\">(Documentation)</a>.<br/>\n",
              "                Project page: <a href=\"https://wandb.ai/acse-jaq15/ACSE_9_LSTM_GRU\" target=\"_blank\">https://wandb.ai/acse-jaq15/ACSE_9_LSTM_GRU</a><br/>\n",
              "                Sweep page: <a href=\"https://wandb.ai/acse-jaq15/ACSE_9_LSTM_GRU/sweeps/amj4ayh1\" target=\"_blank\">https://wandb.ai/acse-jaq15/ACSE_9_LSTM_GRU/sweeps/amj4ayh1</a><br/>\n",
              "Run page: <a href=\"https://wandb.ai/acse-jaq15/ACSE_9_LSTM_GRU/runs/levvg7ay\" target=\"_blank\">https://wandb.ai/acse-jaq15/ACSE_9_LSTM_GRU/runs/levvg7ay</a><br/>\n",
              "                Run data is saved locally in <code>/content/feeder_repo/wandb/run-20210718_210001-levvg7ay</code><br/><br/>\n",
              "            "
            ],
            "text/plain": [
              "<IPython.core.display.HTML object>"
            ]
          },
          "metadata": {
            "tags": []
          }
        },
        {
          "output_type": "stream",
          "text": [
            "WARNING:tensorflow:Layer lstm will not use cuDNN kernels since it doesn't meet the criteria. It will use a generic GPU kernel as fallback when running on GPU.\n",
            "WARNING:tensorflow:Layer gru will not use cuDNN kernels since it doesn't meet the criteria. It will use a generic GPU kernel as fallback when running on GPU.\n",
            "Epoch 1/200\n",
            "8/8 [==============================] - 7s 337ms/step - loss: 0.1394 - mean_squared_error: 0.1394 - mean_absolute_error: 0.3169 - val_loss: 0.0105 - val_mean_squared_error: 0.0105 - val_mean_absolute_error: 0.0815\n",
            "Epoch 2/200\n",
            "8/8 [==============================] - 2s 200ms/step - loss: 0.0078 - mean_squared_error: 0.0078 - mean_absolute_error: 0.0704 - val_loss: 0.0178 - val_mean_squared_error: 0.0178 - val_mean_absolute_error: 0.1100\n",
            "Epoch 3/200\n",
            "8/8 [==============================] - 2s 205ms/step - loss: 0.0082 - mean_squared_error: 0.0082 - mean_absolute_error: 0.0736 - val_loss: 0.0084 - val_mean_squared_error: 0.0084 - val_mean_absolute_error: 0.0744\n",
            "Epoch 4/200\n",
            "8/8 [==============================] - 1s 176ms/step - loss: 0.0080 - mean_squared_error: 0.0080 - mean_absolute_error: 0.0719 - val_loss: 0.0075 - val_mean_squared_error: 0.0075 - val_mean_absolute_error: 0.0701\n",
            "Epoch 5/200\n",
            "8/8 [==============================] - 2s 203ms/step - loss: 0.0050 - mean_squared_error: 0.0050 - mean_absolute_error: 0.0567 - val_loss: 0.0089 - val_mean_squared_error: 0.0089 - val_mean_absolute_error: 0.0759\n",
            "Epoch 6/200\n",
            "8/8 [==============================] - 1s 175ms/step - loss: 0.0055 - mean_squared_error: 0.0055 - mean_absolute_error: 0.0590 - val_loss: 0.0091 - val_mean_squared_error: 0.0091 - val_mean_absolute_error: 0.0767\n",
            "Epoch 7/200\n",
            "8/8 [==============================] - 1s 182ms/step - loss: 0.0063 - mean_squared_error: 0.0063 - mean_absolute_error: 0.0644 - val_loss: 0.0067 - val_mean_squared_error: 0.0067 - val_mean_absolute_error: 0.0656\n",
            "Epoch 8/200\n",
            "8/8 [==============================] - 1s 176ms/step - loss: 0.0054 - mean_squared_error: 0.0054 - mean_absolute_error: 0.0581 - val_loss: 0.0073 - val_mean_squared_error: 0.0073 - val_mean_absolute_error: 0.0686\n",
            "Epoch 9/200\n",
            "8/8 [==============================] - 1s 190ms/step - loss: 0.0048 - mean_squared_error: 0.0048 - mean_absolute_error: 0.0556 - val_loss: 0.0074 - val_mean_squared_error: 0.0074 - val_mean_absolute_error: 0.0688\n",
            "Epoch 10/200\n",
            "8/8 [==============================] - 1s 189ms/step - loss: 0.0048 - mean_squared_error: 0.0048 - mean_absolute_error: 0.0539 - val_loss: 0.0069 - val_mean_squared_error: 0.0069 - val_mean_absolute_error: 0.0666\n",
            "Epoch 11/200\n",
            "8/8 [==============================] - 2s 194ms/step - loss: 0.0050 - mean_squared_error: 0.0050 - mean_absolute_error: 0.0560 - val_loss: 0.0072 - val_mean_squared_error: 0.0072 - val_mean_absolute_error: 0.0679\n",
            "Epoch 12/200\n",
            "8/8 [==============================] - 1s 185ms/step - loss: 0.0062 - mean_squared_error: 0.0062 - mean_absolute_error: 0.0625 - val_loss: 0.0056 - val_mean_squared_error: 0.0056 - val_mean_absolute_error: 0.0594\n",
            "Epoch 13/200\n",
            "8/8 [==============================] - 2s 199ms/step - loss: 0.0054 - mean_squared_error: 0.0054 - mean_absolute_error: 0.0586 - val_loss: 0.0056 - val_mean_squared_error: 0.0056 - val_mean_absolute_error: 0.0597\n",
            "Epoch 14/200\n",
            "8/8 [==============================] - 1s 178ms/step - loss: 0.0033 - mean_squared_error: 0.0033 - mean_absolute_error: 0.0458 - val_loss: 0.0053 - val_mean_squared_error: 0.0053 - val_mean_absolute_error: 0.0579\n",
            "Epoch 15/200\n",
            "8/8 [==============================] - 1s 185ms/step - loss: 0.0053 - mean_squared_error: 0.0053 - mean_absolute_error: 0.0571 - val_loss: 0.0056 - val_mean_squared_error: 0.0056 - val_mean_absolute_error: 0.0601\n",
            "Epoch 16/200\n",
            "8/8 [==============================] - 2s 232ms/step - loss: 0.0037 - mean_squared_error: 0.0037 - mean_absolute_error: 0.0466 - val_loss: 0.0068 - val_mean_squared_error: 0.0068 - val_mean_absolute_error: 0.0658\n",
            "Epoch 17/200\n",
            "8/8 [==============================] - 1s 184ms/step - loss: 0.0052 - mean_squared_error: 0.0052 - mean_absolute_error: 0.0576 - val_loss: 0.0056 - val_mean_squared_error: 0.0056 - val_mean_absolute_error: 0.0593\n",
            "Epoch 18/200\n",
            "8/8 [==============================] - 1s 178ms/step - loss: 0.0047 - mean_squared_error: 0.0047 - mean_absolute_error: 0.0545 - val_loss: 0.0064 - val_mean_squared_error: 0.0064 - val_mean_absolute_error: 0.0641\n",
            "Epoch 19/200\n",
            "8/8 [==============================] - 1s 180ms/step - loss: 0.0050 - mean_squared_error: 0.0050 - mean_absolute_error: 0.0573 - val_loss: 0.0051 - val_mean_squared_error: 0.0051 - val_mean_absolute_error: 0.0565\n",
            "Epoch 20/200\n",
            "8/8 [==============================] - 1s 181ms/step - loss: 0.0042 - mean_squared_error: 0.0042 - mean_absolute_error: 0.0509 - val_loss: 0.0059 - val_mean_squared_error: 0.0059 - val_mean_absolute_error: 0.0614\n",
            "Epoch 21/200\n",
            "8/8 [==============================] - 2s 189ms/step - loss: 0.0054 - mean_squared_error: 0.0054 - mean_absolute_error: 0.0583 - val_loss: 0.0050 - val_mean_squared_error: 0.0050 - val_mean_absolute_error: 0.0561\n",
            "Epoch 22/200\n",
            "8/8 [==============================] - 1s 180ms/step - loss: 0.0039 - mean_squared_error: 0.0039 - mean_absolute_error: 0.0495 - val_loss: 0.0047 - val_mean_squared_error: 0.0047 - val_mean_absolute_error: 0.0537\n",
            "Epoch 23/200\n",
            "8/8 [==============================] - 1s 192ms/step - loss: 0.0044 - mean_squared_error: 0.0044 - mean_absolute_error: 0.0515 - val_loss: 0.0049 - val_mean_squared_error: 0.0049 - val_mean_absolute_error: 0.0550\n",
            "Epoch 24/200\n",
            "8/8 [==============================] - 1s 180ms/step - loss: 0.0042 - mean_squared_error: 0.0042 - mean_absolute_error: 0.0521 - val_loss: 0.0053 - val_mean_squared_error: 0.0053 - val_mean_absolute_error: 0.0579\n",
            "Epoch 25/200\n",
            "8/8 [==============================] - 2s 194ms/step - loss: 0.0046 - mean_squared_error: 0.0046 - mean_absolute_error: 0.0550 - val_loss: 0.0044 - val_mean_squared_error: 0.0044 - val_mean_absolute_error: 0.0517\n",
            "Epoch 26/200\n",
            "8/8 [==============================] - 1s 175ms/step - loss: 0.0040 - mean_squared_error: 0.0040 - mean_absolute_error: 0.0501 - val_loss: 0.0049 - val_mean_squared_error: 0.0049 - val_mean_absolute_error: 0.0551\n",
            "Epoch 27/200\n",
            "8/8 [==============================] - 1s 174ms/step - loss: 0.0039 - mean_squared_error: 0.0039 - mean_absolute_error: 0.0496 - val_loss: 0.0042 - val_mean_squared_error: 0.0042 - val_mean_absolute_error: 0.0512\n",
            "Epoch 28/200\n",
            "8/8 [==============================] - 1s 183ms/step - loss: 0.0044 - mean_squared_error: 0.0044 - mean_absolute_error: 0.0515 - val_loss: 0.0043 - val_mean_squared_error: 0.0043 - val_mean_absolute_error: 0.0512\n",
            "Epoch 29/200\n",
            "8/8 [==============================] - 1s 181ms/step - loss: 0.0041 - mean_squared_error: 0.0041 - mean_absolute_error: 0.0504 - val_loss: 0.0043 - val_mean_squared_error: 0.0043 - val_mean_absolute_error: 0.0513\n",
            "Epoch 30/200\n",
            "8/8 [==============================] - 1s 171ms/step - loss: 0.0036 - mean_squared_error: 0.0036 - mean_absolute_error: 0.0473 - val_loss: 0.0043 - val_mean_squared_error: 0.0043 - val_mean_absolute_error: 0.0515\n",
            "Epoch 31/200\n",
            "8/8 [==============================] - 1s 178ms/step - loss: 0.0038 - mean_squared_error: 0.0038 - mean_absolute_error: 0.0498 - val_loss: 0.0042 - val_mean_squared_error: 0.0042 - val_mean_absolute_error: 0.0506\n",
            "Epoch 32/200\n",
            "8/8 [==============================] - 1s 172ms/step - loss: 0.0041 - mean_squared_error: 0.0041 - mean_absolute_error: 0.0509 - val_loss: 0.0040 - val_mean_squared_error: 0.0040 - val_mean_absolute_error: 0.0494\n",
            "Epoch 33/200\n",
            "8/8 [==============================] - 1s 183ms/step - loss: 0.0031 - mean_squared_error: 0.0031 - mean_absolute_error: 0.0437 - val_loss: 0.0042 - val_mean_squared_error: 0.0042 - val_mean_absolute_error: 0.0510\n",
            "Epoch 34/200\n",
            "8/8 [==============================] - 2s 200ms/step - loss: 0.0039 - mean_squared_error: 0.0039 - mean_absolute_error: 0.0491 - val_loss: 0.0040 - val_mean_squared_error: 0.0040 - val_mean_absolute_error: 0.0491\n",
            "Epoch 35/200\n",
            "8/8 [==============================] - 1s 182ms/step - loss: 0.0035 - mean_squared_error: 0.0035 - mean_absolute_error: 0.0469 - val_loss: 0.0042 - val_mean_squared_error: 0.0042 - val_mean_absolute_error: 0.0504\n",
            "Epoch 36/200\n",
            "8/8 [==============================] - 2s 193ms/step - loss: 0.0031 - mean_squared_error: 0.0031 - mean_absolute_error: 0.0434 - val_loss: 0.0046 - val_mean_squared_error: 0.0046 - val_mean_absolute_error: 0.0536\n",
            "Epoch 37/200\n",
            "8/8 [==============================] - 2s 196ms/step - loss: 0.0041 - mean_squared_error: 0.0041 - mean_absolute_error: 0.0507 - val_loss: 0.0057 - val_mean_squared_error: 0.0057 - val_mean_absolute_error: 0.0596\n",
            "Epoch 38/200\n",
            "8/8 [==============================] - 1s 185ms/step - loss: 0.0032 - mean_squared_error: 0.0032 - mean_absolute_error: 0.0448 - val_loss: 0.0056 - val_mean_squared_error: 0.0056 - val_mean_absolute_error: 0.0597\n",
            "Epoch 39/200\n",
            "8/8 [==============================] - 1s 185ms/step - loss: 0.0040 - mean_squared_error: 0.0040 - mean_absolute_error: 0.0507 - val_loss: 0.0040 - val_mean_squared_error: 0.0040 - val_mean_absolute_error: 0.0495\n",
            "Epoch 40/200\n",
            "8/8 [==============================] - 1s 183ms/step - loss: 0.0035 - mean_squared_error: 0.0035 - mean_absolute_error: 0.0467 - val_loss: 0.0039 - val_mean_squared_error: 0.0039 - val_mean_absolute_error: 0.0490\n",
            "Epoch 41/200\n",
            "8/8 [==============================] - 1s 181ms/step - loss: 0.0027 - mean_squared_error: 0.0027 - mean_absolute_error: 0.0412 - val_loss: 0.0045 - val_mean_squared_error: 0.0045 - val_mean_absolute_error: 0.0534\n",
            "Epoch 42/200\n",
            "8/8 [==============================] - 1s 177ms/step - loss: 0.0041 - mean_squared_error: 0.0041 - mean_absolute_error: 0.0520 - val_loss: 0.0039 - val_mean_squared_error: 0.0039 - val_mean_absolute_error: 0.0494\n",
            "Epoch 43/200\n",
            "8/8 [==============================] - 1s 188ms/step - loss: 0.0034 - mean_squared_error: 0.0034 - mean_absolute_error: 0.0457 - val_loss: 0.0044 - val_mean_squared_error: 0.0044 - val_mean_absolute_error: 0.0529\n",
            "Epoch 44/200\n",
            "8/8 [==============================] - 1s 181ms/step - loss: 0.0035 - mean_squared_error: 0.0035 - mean_absolute_error: 0.0467 - val_loss: 0.0036 - val_mean_squared_error: 0.0036 - val_mean_absolute_error: 0.0469\n",
            "Epoch 45/200\n",
            "8/8 [==============================] - 1s 179ms/step - loss: 0.0035 - mean_squared_error: 0.0035 - mean_absolute_error: 0.0465 - val_loss: 0.0035 - val_mean_squared_error: 0.0035 - val_mean_absolute_error: 0.0464\n",
            "Epoch 46/200\n",
            "8/8 [==============================] - 1s 169ms/step - loss: 0.0028 - mean_squared_error: 0.0028 - mean_absolute_error: 0.0414 - val_loss: 0.0076 - val_mean_squared_error: 0.0076 - val_mean_absolute_error: 0.0733\n",
            "Epoch 47/200\n",
            "8/8 [==============================] - 1s 184ms/step - loss: 0.0052 - mean_squared_error: 0.0052 - mean_absolute_error: 0.0578 - val_loss: 0.0034 - val_mean_squared_error: 0.0034 - val_mean_absolute_error: 0.0455\n",
            "Epoch 48/200\n",
            "8/8 [==============================] - 1s 170ms/step - loss: 0.0029 - mean_squared_error: 0.0029 - mean_absolute_error: 0.0418 - val_loss: 0.0089 - val_mean_squared_error: 0.0089 - val_mean_absolute_error: 0.0781\n",
            "Epoch 49/200\n",
            "8/8 [==============================] - 1s 176ms/step - loss: 0.0041 - mean_squared_error: 0.0041 - mean_absolute_error: 0.0513 - val_loss: 0.0046 - val_mean_squared_error: 0.0046 - val_mean_absolute_error: 0.0528\n",
            "Epoch 50/200\n",
            "8/8 [==============================] - 1s 185ms/step - loss: 0.0028 - mean_squared_error: 0.0028 - mean_absolute_error: 0.0418 - val_loss: 0.0090 - val_mean_squared_error: 0.0090 - val_mean_absolute_error: 0.0779\n",
            "Epoch 51/200\n",
            "8/8 [==============================] - 2s 196ms/step - loss: 0.0038 - mean_squared_error: 0.0038 - mean_absolute_error: 0.0477 - val_loss: 0.0040 - val_mean_squared_error: 0.0040 - val_mean_absolute_error: 0.0506\n",
            "Epoch 52/200\n",
            "8/8 [==============================] - 1s 189ms/step - loss: 0.0042 - mean_squared_error: 0.0042 - mean_absolute_error: 0.0511 - val_loss: 0.0034 - val_mean_squared_error: 0.0034 - val_mean_absolute_error: 0.0456\n",
            "Epoch 53/200\n",
            "8/8 [==============================] - 2s 193ms/step - loss: 0.0028 - mean_squared_error: 0.0028 - mean_absolute_error: 0.0417 - val_loss: 0.0033 - val_mean_squared_error: 0.0033 - val_mean_absolute_error: 0.0453\n",
            "Epoch 54/200\n",
            "8/8 [==============================] - 1s 181ms/step - loss: 0.0033 - mean_squared_error: 0.0033 - mean_absolute_error: 0.0458 - val_loss: 0.0038 - val_mean_squared_error: 0.0038 - val_mean_absolute_error: 0.0494\n",
            "Epoch 55/200\n",
            "8/8 [==============================] - 1s 183ms/step - loss: 0.0025 - mean_squared_error: 0.0025 - mean_absolute_error: 0.0398 - val_loss: 0.0060 - val_mean_squared_error: 0.0060 - val_mean_absolute_error: 0.0626\n",
            "Epoch 56/200\n",
            "8/8 [==============================] - 2s 208ms/step - loss: 0.0038 - mean_squared_error: 0.0038 - mean_absolute_error: 0.0493 - val_loss: 0.0033 - val_mean_squared_error: 0.0033 - val_mean_absolute_error: 0.0444\n",
            "Epoch 57/200\n",
            "8/8 [==============================] - 2s 208ms/step - loss: 0.0029 - mean_squared_error: 0.0029 - mean_absolute_error: 0.0432 - val_loss: 0.0044 - val_mean_squared_error: 0.0044 - val_mean_absolute_error: 0.0517\n",
            "Epoch 58/200\n",
            "8/8 [==============================] - 2s 200ms/step - loss: 0.0030 - mean_squared_error: 0.0030 - mean_absolute_error: 0.0436 - val_loss: 0.0048 - val_mean_squared_error: 0.0048 - val_mean_absolute_error: 0.0542\n",
            "Epoch 59/200\n",
            "8/8 [==============================] - 2s 192ms/step - loss: 0.0032 - mean_squared_error: 0.0032 - mean_absolute_error: 0.0453 - val_loss: 0.0036 - val_mean_squared_error: 0.0036 - val_mean_absolute_error: 0.0465\n",
            "Epoch 60/200\n",
            "8/8 [==============================] - 1s 181ms/step - loss: 0.0029 - mean_squared_error: 0.0029 - mean_absolute_error: 0.0424 - val_loss: 0.0053 - val_mean_squared_error: 0.0053 - val_mean_absolute_error: 0.0573\n",
            "Epoch 61/200\n",
            "8/8 [==============================] - 1s 186ms/step - loss: 0.0026 - mean_squared_error: 0.0026 - mean_absolute_error: 0.0399 - val_loss: 0.0038 - val_mean_squared_error: 0.0038 - val_mean_absolute_error: 0.0496\n",
            "Epoch 62/200\n",
            "8/8 [==============================] - 1s 182ms/step - loss: 0.0035 - mean_squared_error: 0.0035 - mean_absolute_error: 0.0470 - val_loss: 0.0037 - val_mean_squared_error: 0.0037 - val_mean_absolute_error: 0.0490\n",
            "Epoch 63/200\n",
            "8/8 [==============================] - 1s 177ms/step - loss: 0.0029 - mean_squared_error: 0.0029 - mean_absolute_error: 0.0430 - val_loss: 0.0036 - val_mean_squared_error: 0.0036 - val_mean_absolute_error: 0.0485\n",
            "Epoch 64/200\n",
            "8/8 [==============================] - 2s 196ms/step - loss: 0.0027 - mean_squared_error: 0.0027 - mean_absolute_error: 0.0408 - val_loss: 0.0047 - val_mean_squared_error: 0.0047 - val_mean_absolute_error: 0.0539\n",
            "Epoch 65/200\n",
            "8/8 [==============================] - 1s 187ms/step - loss: 0.0029 - mean_squared_error: 0.0029 - mean_absolute_error: 0.0427 - val_loss: 0.0036 - val_mean_squared_error: 0.0036 - val_mean_absolute_error: 0.0462\n",
            "Epoch 66/200\n",
            "8/8 [==============================] - 1s 188ms/step - loss: 0.0028 - mean_squared_error: 0.0028 - mean_absolute_error: 0.0416 - val_loss: 0.0030 - val_mean_squared_error: 0.0030 - val_mean_absolute_error: 0.0427\n",
            "Epoch 67/200\n",
            "8/8 [==============================] - 1s 174ms/step - loss: 0.0030 - mean_squared_error: 0.0030 - mean_absolute_error: 0.0433 - val_loss: 0.0032 - val_mean_squared_error: 0.0032 - val_mean_absolute_error: 0.0447\n",
            "Epoch 68/200\n",
            "8/8 [==============================] - 1s 186ms/step - loss: 0.0030 - mean_squared_error: 0.0030 - mean_absolute_error: 0.0440 - val_loss: 0.0035 - val_mean_squared_error: 0.0035 - val_mean_absolute_error: 0.0472\n",
            "Epoch 69/200\n",
            "8/8 [==============================] - 1s 177ms/step - loss: 0.0026 - mean_squared_error: 0.0026 - mean_absolute_error: 0.0396 - val_loss: 0.0045 - val_mean_squared_error: 0.0045 - val_mean_absolute_error: 0.0552\n",
            "Epoch 70/200\n",
            "8/8 [==============================] - 1s 172ms/step - loss: 0.0041 - mean_squared_error: 0.0041 - mean_absolute_error: 0.0507 - val_loss: 0.0031 - val_mean_squared_error: 0.0031 - val_mean_absolute_error: 0.0443\n",
            "Epoch 71/200\n",
            "8/8 [==============================] - 1s 173ms/step - loss: 0.0027 - mean_squared_error: 0.0027 - mean_absolute_error: 0.0407 - val_loss: 0.0030 - val_mean_squared_error: 0.0030 - val_mean_absolute_error: 0.0430\n",
            "Epoch 72/200\n",
            "8/8 [==============================] - 2s 188ms/step - loss: 0.0027 - mean_squared_error: 0.0027 - mean_absolute_error: 0.0413 - val_loss: 0.0031 - val_mean_squared_error: 0.0031 - val_mean_absolute_error: 0.0439\n",
            "Epoch 73/200\n",
            "8/8 [==============================] - 1s 179ms/step - loss: 0.0029 - mean_squared_error: 0.0029 - mean_absolute_error: 0.0420 - val_loss: 0.0032 - val_mean_squared_error: 0.0032 - val_mean_absolute_error: 0.0450\n",
            "Epoch 74/200\n",
            "8/8 [==============================] - 1s 176ms/step - loss: 0.0028 - mean_squared_error: 0.0028 - mean_absolute_error: 0.0424 - val_loss: 0.0029 - val_mean_squared_error: 0.0029 - val_mean_absolute_error: 0.0419\n",
            "Epoch 75/200\n",
            "8/8 [==============================] - 1s 184ms/step - loss: 0.0029 - mean_squared_error: 0.0029 - mean_absolute_error: 0.0420 - val_loss: 0.0029 - val_mean_squared_error: 0.0029 - val_mean_absolute_error: 0.0422\n",
            "Epoch 76/200\n",
            "8/8 [==============================] - 1s 181ms/step - loss: 0.0026 - mean_squared_error: 0.0026 - mean_absolute_error: 0.0400 - val_loss: 0.0031 - val_mean_squared_error: 0.0031 - val_mean_absolute_error: 0.0442\n",
            "Epoch 77/200\n",
            "8/8 [==============================] - 1s 188ms/step - loss: 0.0028 - mean_squared_error: 0.0028 - mean_absolute_error: 0.0416 - val_loss: 0.0034 - val_mean_squared_error: 0.0034 - val_mean_absolute_error: 0.0477\n",
            "Epoch 78/200\n",
            "8/8 [==============================] - 1s 185ms/step - loss: 0.0034 - mean_squared_error: 0.0034 - mean_absolute_error: 0.0462 - val_loss: 0.0028 - val_mean_squared_error: 0.0028 - val_mean_absolute_error: 0.0411\n",
            "Epoch 79/200\n",
            "8/8 [==============================] - 1s 185ms/step - loss: 0.0025 - mean_squared_error: 0.0025 - mean_absolute_error: 0.0398 - val_loss: 0.0029 - val_mean_squared_error: 0.0029 - val_mean_absolute_error: 0.0414\n",
            "Epoch 80/200\n",
            "8/8 [==============================] - 1s 186ms/step - loss: 0.0022 - mean_squared_error: 0.0022 - mean_absolute_error: 0.0366 - val_loss: 0.0028 - val_mean_squared_error: 0.0028 - val_mean_absolute_error: 0.0418\n",
            "Epoch 81/200\n",
            "8/8 [==============================] - 1s 190ms/step - loss: 0.0036 - mean_squared_error: 0.0036 - mean_absolute_error: 0.0482 - val_loss: 0.0030 - val_mean_squared_error: 0.0030 - val_mean_absolute_error: 0.0434\n",
            "Epoch 82/200\n",
            "8/8 [==============================] - 1s 187ms/step - loss: 0.0026 - mean_squared_error: 0.0026 - mean_absolute_error: 0.0403 - val_loss: 0.0028 - val_mean_squared_error: 0.0028 - val_mean_absolute_error: 0.0410\n",
            "Epoch 83/200\n",
            "8/8 [==============================] - 1s 183ms/step - loss: 0.0024 - mean_squared_error: 0.0024 - mean_absolute_error: 0.0381 - val_loss: 0.0027 - val_mean_squared_error: 0.0027 - val_mean_absolute_error: 0.0404\n",
            "Epoch 84/200\n",
            "8/8 [==============================] - 1s 186ms/step - loss: 0.0027 - mean_squared_error: 0.0027 - mean_absolute_error: 0.0406 - val_loss: 0.0029 - val_mean_squared_error: 0.0029 - val_mean_absolute_error: 0.0430\n",
            "Epoch 85/200\n",
            "8/8 [==============================] - 1s 184ms/step - loss: 0.0024 - mean_squared_error: 0.0024 - mean_absolute_error: 0.0388 - val_loss: 0.0032 - val_mean_squared_error: 0.0032 - val_mean_absolute_error: 0.0460\n",
            "Epoch 86/200\n",
            "8/8 [==============================] - 1s 174ms/step - loss: 0.0028 - mean_squared_error: 0.0028 - mean_absolute_error: 0.0421 - val_loss: 0.0031 - val_mean_squared_error: 0.0031 - val_mean_absolute_error: 0.0447\n",
            "Epoch 87/200\n",
            "8/8 [==============================] - 2s 193ms/step - loss: 0.0023 - mean_squared_error: 0.0023 - mean_absolute_error: 0.0383 - val_loss: 0.0034 - val_mean_squared_error: 0.0034 - val_mean_absolute_error: 0.0474\n",
            "Epoch 88/200\n",
            "8/8 [==============================] - 1s 184ms/step - loss: 0.0032 - mean_squared_error: 0.0032 - mean_absolute_error: 0.0433 - val_loss: 0.0028 - val_mean_squared_error: 0.0028 - val_mean_absolute_error: 0.0406\n",
            "Epoch 89/200\n",
            "8/8 [==============================] - 1s 175ms/step - loss: 0.0021 - mean_squared_error: 0.0021 - mean_absolute_error: 0.0368 - val_loss: 0.0031 - val_mean_squared_error: 0.0031 - val_mean_absolute_error: 0.0429\n",
            "Epoch 90/200\n",
            "8/8 [==============================] - 1s 185ms/step - loss: 0.0038 - mean_squared_error: 0.0038 - mean_absolute_error: 0.0487 - val_loss: 0.0028 - val_mean_squared_error: 0.0028 - val_mean_absolute_error: 0.0409\n",
            "Epoch 91/200\n",
            "8/8 [==============================] - 1s 176ms/step - loss: 0.0023 - mean_squared_error: 0.0023 - mean_absolute_error: 0.0380 - val_loss: 0.0028 - val_mean_squared_error: 0.0028 - val_mean_absolute_error: 0.0426\n",
            "Epoch 92/200\n",
            "8/8 [==============================] - 1s 185ms/step - loss: 0.0030 - mean_squared_error: 0.0030 - mean_absolute_error: 0.0433 - val_loss: 0.0026 - val_mean_squared_error: 0.0026 - val_mean_absolute_error: 0.0395\n",
            "Epoch 93/200\n",
            "8/8 [==============================] - 1s 183ms/step - loss: 0.0024 - mean_squared_error: 0.0024 - mean_absolute_error: 0.0392 - val_loss: 0.0027 - val_mean_squared_error: 0.0027 - val_mean_absolute_error: 0.0404\n",
            "Epoch 94/200\n",
            "8/8 [==============================] - 1s 183ms/step - loss: 0.0022 - mean_squared_error: 0.0022 - mean_absolute_error: 0.0364 - val_loss: 0.0027 - val_mean_squared_error: 0.0027 - val_mean_absolute_error: 0.0412\n",
            "Epoch 95/200\n",
            "8/8 [==============================] - 1s 175ms/step - loss: 0.0025 - mean_squared_error: 0.0025 - mean_absolute_error: 0.0397 - val_loss: 0.0027 - val_mean_squared_error: 0.0027 - val_mean_absolute_error: 0.0399\n",
            "Epoch 96/200\n",
            "8/8 [==============================] - 1s 176ms/step - loss: 0.0022 - mean_squared_error: 0.0022 - mean_absolute_error: 0.0378 - val_loss: 0.0054 - val_mean_squared_error: 0.0054 - val_mean_absolute_error: 0.0596\n",
            "Epoch 97/200\n",
            "8/8 [==============================] - 1s 188ms/step - loss: 0.0027 - mean_squared_error: 0.0027 - mean_absolute_error: 0.0410 - val_loss: 0.0041 - val_mean_squared_error: 0.0041 - val_mean_absolute_error: 0.0498\n",
            "Epoch 98/200\n",
            "8/8 [==============================] - 1s 175ms/step - loss: 0.0025 - mean_squared_error: 0.0025 - mean_absolute_error: 0.0401 - val_loss: 0.0034 - val_mean_squared_error: 0.0034 - val_mean_absolute_error: 0.0473\n",
            "Epoch 99/200\n",
            "8/8 [==============================] - 1s 181ms/step - loss: 0.0029 - mean_squared_error: 0.0029 - mean_absolute_error: 0.0424 - val_loss: 0.0026 - val_mean_squared_error: 0.0026 - val_mean_absolute_error: 0.0407\n",
            "Epoch 100/200\n",
            "8/8 [==============================] - 1s 186ms/step - loss: 0.0024 - mean_squared_error: 0.0024 - mean_absolute_error: 0.0386 - val_loss: 0.0030 - val_mean_squared_error: 0.0030 - val_mean_absolute_error: 0.0448\n",
            "Epoch 101/200\n",
            "8/8 [==============================] - 2s 189ms/step - loss: 0.0036 - mean_squared_error: 0.0036 - mean_absolute_error: 0.0483 - val_loss: 0.0025 - val_mean_squared_error: 0.0025 - val_mean_absolute_error: 0.0395\n",
            "Epoch 102/200\n",
            "8/8 [==============================] - 1s 187ms/step - loss: 0.0021 - mean_squared_error: 0.0021 - mean_absolute_error: 0.0357 - val_loss: 0.0037 - val_mean_squared_error: 0.0037 - val_mean_absolute_error: 0.0502\n",
            "Epoch 103/200\n",
            "8/8 [==============================] - 1s 184ms/step - loss: 0.0029 - mean_squared_error: 0.0029 - mean_absolute_error: 0.0434 - val_loss: 0.0026 - val_mean_squared_error: 0.0026 - val_mean_absolute_error: 0.0395\n",
            "Epoch 104/200\n",
            "8/8 [==============================] - 1s 175ms/step - loss: 0.0022 - mean_squared_error: 0.0022 - mean_absolute_error: 0.0371 - val_loss: 0.0056 - val_mean_squared_error: 0.0056 - val_mean_absolute_error: 0.0597\n",
            "Epoch 105/200\n",
            "8/8 [==============================] - 1s 174ms/step - loss: 0.0027 - mean_squared_error: 0.0027 - mean_absolute_error: 0.0407 - val_loss: 0.0033 - val_mean_squared_error: 0.0033 - val_mean_absolute_error: 0.0439\n",
            "Epoch 106/200\n",
            "8/8 [==============================] - 2s 188ms/step - loss: 0.0022 - mean_squared_error: 0.0022 - mean_absolute_error: 0.0365 - val_loss: 0.0039 - val_mean_squared_error: 0.0039 - val_mean_absolute_error: 0.0487\n",
            "Epoch 107/200\n",
            "8/8 [==============================] - 1s 186ms/step - loss: 0.0026 - mean_squared_error: 0.0026 - mean_absolute_error: 0.0399 - val_loss: 0.0028 - val_mean_squared_error: 0.0028 - val_mean_absolute_error: 0.0407\n",
            "Epoch 108/200\n",
            "8/8 [==============================] - 2s 195ms/step - loss: 0.0020 - mean_squared_error: 0.0020 - mean_absolute_error: 0.0349 - val_loss: 0.0036 - val_mean_squared_error: 0.0036 - val_mean_absolute_error: 0.0471\n",
            "Epoch 109/200\n",
            "8/8 [==============================] - 2s 195ms/step - loss: 0.0027 - mean_squared_error: 0.0027 - mean_absolute_error: 0.0412 - val_loss: 0.0027 - val_mean_squared_error: 0.0027 - val_mean_absolute_error: 0.0401\n",
            "Epoch 110/200\n",
            "8/8 [==============================] - 2s 196ms/step - loss: 0.0018 - mean_squared_error: 0.0018 - mean_absolute_error: 0.0331 - val_loss: 0.0034 - val_mean_squared_error: 0.0034 - val_mean_absolute_error: 0.0456\n",
            "Epoch 111/200\n",
            "8/8 [==============================] - 2s 191ms/step - loss: 0.0031 - mean_squared_error: 0.0031 - mean_absolute_error: 0.0447 - val_loss: 0.0039 - val_mean_squared_error: 0.0039 - val_mean_absolute_error: 0.0491\n"
          ],
          "name": "stdout"
        },
        {
          "output_type": "display_data",
          "data": {
            "text/html": [
              "<br/>Waiting for W&B process to finish, PID 9758<br/>Program ended successfully."
            ],
            "text/plain": [
              "<IPython.core.display.HTML object>"
            ]
          },
          "metadata": {
            "tags": []
          }
        },
        {
          "output_type": "display_data",
          "data": {
            "application/vnd.jupyter.widget-view+json": {
              "model_id": "bcd85493da434a3089f59a4567e7f44a",
              "version_minor": 0,
              "version_major": 2
            },
            "text/plain": [
              "VBox(children=(Label(value=' 1.09MB of 1.09MB uploaded (0.00MB deduped)\\r'), FloatProgress(value=1.0, max=1.0)…"
            ]
          },
          "metadata": {
            "tags": []
          }
        },
        {
          "output_type": "display_data",
          "data": {
            "text/html": [
              "Find user logs for this run at: <code>/content/feeder_repo/wandb/run-20210718_210001-levvg7ay/logs/debug.log</code>"
            ],
            "text/plain": [
              "<IPython.core.display.HTML object>"
            ]
          },
          "metadata": {
            "tags": []
          }
        },
        {
          "output_type": "display_data",
          "data": {
            "text/html": [
              "Find internal logs for this run at: <code>/content/feeder_repo/wandb/run-20210718_210001-levvg7ay/logs/debug-internal.log</code>"
            ],
            "text/plain": [
              "<IPython.core.display.HTML object>"
            ]
          },
          "metadata": {
            "tags": []
          }
        },
        {
          "output_type": "display_data",
          "data": {
            "text/html": [
              "<h3>Run summary:</h3><br/><style>\n",
              "    table.wandb td:nth-child(1) { padding: 0 10px; text-align: right }\n",
              "    </style><table class=\"wandb\">\n",
              "<tr><td>epoch</td><td>110</td></tr><tr><td>loss</td><td>0.00284</td></tr><tr><td>mean_squared_error</td><td>0.00284</td></tr><tr><td>mean_absolute_error</td><td>0.04238</td></tr><tr><td>val_loss</td><td>0.00394</td></tr><tr><td>val_mean_squared_error</td><td>0.00394</td></tr><tr><td>val_mean_absolute_error</td><td>0.04913</td></tr><tr><td>_runtime</td><td>177</td></tr><tr><td>_timestamp</td><td>1626642178</td></tr><tr><td>_step</td><td>110</td></tr><tr><td>best_val_loss</td><td>0.0025</td></tr><tr><td>best_epoch</td><td>100</td></tr></table>"
            ],
            "text/plain": [
              "<IPython.core.display.HTML object>"
            ]
          },
          "metadata": {
            "tags": []
          }
        },
        {
          "output_type": "display_data",
          "data": {
            "text/html": [
              "<h3>Run history:</h3><br/><style>\n",
              "    table.wandb td:nth-child(1) { padding: 0 10px; text-align: right }\n",
              "    </style><table class=\"wandb\">\n",
              "<tr><td>epoch</td><td>▁▁▁▂▂▂▂▂▂▃▃▃▃▃▃▄▄▄▄▄▅▅▅▅▅▅▆▆▆▆▆▇▇▇▇▇▇███</td></tr><tr><td>loss</td><td>█▁▁▁▁▁▁▁▁▁▁▁▁▁▁▁▁▁▁▁▁▁▁▁▁▁▁▁▁▁▁▁▁▁▁▁▁▁▁▁</td></tr><tr><td>mean_squared_error</td><td>█▁▁▁▁▁▁▁▁▁▁▁▁▁▁▁▁▁▁▁▁▁▁▁▁▁▁▁▁▁▁▁▁▁▁▁▁▁▁▁</td></tr><tr><td>mean_absolute_error</td><td>█▂▂▂▂▂▂▂▂▂▂▂▂▂▂▁▁▁▁▁▁▁▁▁▁▁▁▁▁▁▁▁▁▁▁▁▁▁▁▁</td></tr><tr><td>val_loss</td><td>█▆▇▅▄▄▄▄▃▃▂▂▂▄▂▃▅▇▂▂▃▃▂▂▂▁▁▂▁▁▂▁▁▁▃▁▂▂▂▂</td></tr><tr><td>val_mean_squared_error</td><td>█▆▇▅▄▄▄▄▃▃▂▂▂▄▂▃▅▇▂▂▃▃▂▂▂▁▁▂▁▁▂▁▁▁▃▁▂▂▂▂</td></tr><tr><td>val_mean_absolute_error</td><td>█▇▇▆▄▄▄▅▃▃▃▂▂▄▂▃▇▇▃▃▃▄▂▂▂▁▁▂▁▁▂▁▁▁▄▁▃▂▂▂</td></tr><tr><td>_runtime</td><td>▁▁▁▂▂▂▂▂▂▃▃▃▃▃▄▄▄▄▄▄▅▅▅▅▅▅▆▆▆▆▆▇▇▇▇▇▇███</td></tr><tr><td>_timestamp</td><td>▁▁▁▂▂▂▂▂▂▃▃▃▃▃▄▄▄▄▄▄▅▅▅▅▅▅▆▆▆▆▆▇▇▇▇▇▇███</td></tr><tr><td>_step</td><td>▁▁▁▂▂▂▂▂▂▃▃▃▃▃▃▄▄▄▄▄▅▅▅▅▅▅▆▆▆▆▆▇▇▇▇▇▇███</td></tr></table><br/>"
            ],
            "text/plain": [
              "<IPython.core.display.HTML object>"
            ]
          },
          "metadata": {
            "tags": []
          }
        },
        {
          "output_type": "display_data",
          "data": {
            "text/html": [
              "Synced 5 W&B file(s), 1 media file(s), 2 artifact file(s) and 2 other file(s)"
            ],
            "text/plain": [
              "<IPython.core.display.HTML object>"
            ]
          },
          "metadata": {
            "tags": []
          }
        },
        {
          "output_type": "display_data",
          "data": {
            "text/html": [
              "\n",
              "                    <br/>Synced <strong style=\"color:#cdcd00\">legendary-sweep-34</strong>: <a href=\"https://wandb.ai/acse-jaq15/ACSE_9_LSTM_GRU/runs/levvg7ay\" target=\"_blank\">https://wandb.ai/acse-jaq15/ACSE_9_LSTM_GRU/runs/levvg7ay</a><br/>\n",
              "                "
            ],
            "text/plain": [
              "<IPython.core.display.HTML object>"
            ]
          },
          "metadata": {
            "tags": []
          }
        },
        {
          "output_type": "stream",
          "text": [
            "\u001b[34m\u001b[1mwandb\u001b[0m: Sweep Agent: Waiting for job.\n",
            "500 response executing GraphQL.\n",
            "{\"errors\":[{\"message\":\"Post \\\"http://anaconda.default.svc.cluster.local/search\\\": context deadline exceeded\",\"path\":[\"agentHeartbeat\"]}],\"data\":{\"agentHeartbeat\":null}}\n",
            "\u001b[34m\u001b[1mwandb\u001b[0m: \u001b[32m\u001b[41mERROR\u001b[0m Error while calling W&B API: Post \"http://anaconda.default.svc.cluster.local/search\": context deadline exceeded (<Response [500]>)\n",
            "\u001b[34m\u001b[1mwandb\u001b[0m: Job received.\n",
            "\u001b[34m\u001b[1mwandb\u001b[0m: Agent Starting Run: dbosu691 with config:\n",
            "\u001b[34m\u001b[1mwandb\u001b[0m: \tactivation: relu\n",
            "\u001b[34m\u001b[1mwandb\u001b[0m: \tbatch_size: 32\n",
            "\u001b[34m\u001b[1mwandb\u001b[0m: \tdropout: 0.3\n",
            "\u001b[34m\u001b[1mwandb\u001b[0m: \tepochs: 200\n",
            "\u001b[34m\u001b[1mwandb\u001b[0m: \tlearning_rate: 0.005\n",
            "\u001b[34m\u001b[1mwandb\u001b[0m: \toptimizer: nadam\n"
          ],
          "name": "stderr"
        },
        {
          "output_type": "display_data",
          "data": {
            "text/html": [
              "\n",
              "                Tracking run with wandb version 0.11.0<br/>\n",
              "                Syncing run <strong style=\"color:#cdcd00\">dulcet-sweep-35</strong> to <a href=\"https://wandb.ai\" target=\"_blank\">Weights & Biases</a> <a href=\"https://docs.wandb.com/integrations/jupyter.html\" target=\"_blank\">(Documentation)</a>.<br/>\n",
              "                Project page: <a href=\"https://wandb.ai/acse-jaq15/ACSE_9_LSTM_GRU\" target=\"_blank\">https://wandb.ai/acse-jaq15/ACSE_9_LSTM_GRU</a><br/>\n",
              "                Sweep page: <a href=\"https://wandb.ai/acse-jaq15/ACSE_9_LSTM_GRU/sweeps/amj4ayh1\" target=\"_blank\">https://wandb.ai/acse-jaq15/ACSE_9_LSTM_GRU/sweeps/amj4ayh1</a><br/>\n",
              "Run page: <a href=\"https://wandb.ai/acse-jaq15/ACSE_9_LSTM_GRU/runs/dbosu691\" target=\"_blank\">https://wandb.ai/acse-jaq15/ACSE_9_LSTM_GRU/runs/dbosu691</a><br/>\n",
              "                Run data is saved locally in <code>/content/feeder_repo/wandb/run-20210718_210353-dbosu691</code><br/><br/>\n",
              "            "
            ],
            "text/plain": [
              "<IPython.core.display.HTML object>"
            ]
          },
          "metadata": {
            "tags": []
          }
        },
        {
          "output_type": "stream",
          "text": [
            "WARNING:tensorflow:Layer lstm will not use cuDNN kernels since it doesn't meet the criteria. It will use a generic GPU kernel as fallback when running on GPU.\n",
            "WARNING:tensorflow:Layer gru will not use cuDNN kernels since it doesn't meet the criteria. It will use a generic GPU kernel as fallback when running on GPU.\n",
            "Epoch 1/200\n",
            "32/32 [==============================] - 12s 215ms/step - loss: 0.0408 - mean_squared_error: 0.0408 - mean_absolute_error: 0.1433 - val_loss: 0.0071 - val_mean_squared_error: 0.0071 - val_mean_absolute_error: 0.0665\n",
            "Epoch 2/200\n",
            "32/32 [==============================] - 6s 186ms/step - loss: 0.0071 - mean_squared_error: 0.0071 - mean_absolute_error: 0.0657 - val_loss: 0.0080 - val_mean_squared_error: 0.0080 - val_mean_absolute_error: 0.0710\n",
            "Epoch 3/200\n",
            "32/32 [==============================] - 6s 182ms/step - loss: 0.0054 - mean_squared_error: 0.0054 - mean_absolute_error: 0.0576 - val_loss: 0.0253 - val_mean_squared_error: 0.0253 - val_mean_absolute_error: 0.1380\n",
            "Epoch 4/200\n",
            "32/32 [==============================] - 6s 181ms/step - loss: 0.0067 - mean_squared_error: 0.0067 - mean_absolute_error: 0.0636 - val_loss: 0.0096 - val_mean_squared_error: 0.0096 - val_mean_absolute_error: 0.0815\n",
            "Epoch 5/200\n",
            "32/32 [==============================] - 6s 185ms/step - loss: 0.0052 - mean_squared_error: 0.0052 - mean_absolute_error: 0.0580 - val_loss: 0.0049 - val_mean_squared_error: 0.0049 - val_mean_absolute_error: 0.0549\n",
            "Epoch 6/200\n",
            "32/32 [==============================] - 6s 180ms/step - loss: 0.0041 - mean_squared_error: 0.0041 - mean_absolute_error: 0.0520 - val_loss: 0.0046 - val_mean_squared_error: 0.0046 - val_mean_absolute_error: 0.0529\n",
            "Epoch 7/200\n",
            "32/32 [==============================] - 6s 181ms/step - loss: 0.0048 - mean_squared_error: 0.0048 - mean_absolute_error: 0.0553 - val_loss: 0.0040 - val_mean_squared_error: 0.0040 - val_mean_absolute_error: 0.0497\n",
            "Epoch 8/200\n",
            "32/32 [==============================] - 6s 180ms/step - loss: 0.0038 - mean_squared_error: 0.0038 - mean_absolute_error: 0.0489 - val_loss: 0.0042 - val_mean_squared_error: 0.0042 - val_mean_absolute_error: 0.0506\n",
            "Epoch 9/200\n",
            "32/32 [==============================] - 6s 189ms/step - loss: 0.0040 - mean_squared_error: 0.0040 - mean_absolute_error: 0.0509 - val_loss: 0.0049 - val_mean_squared_error: 0.0049 - val_mean_absolute_error: 0.0545\n",
            "Epoch 10/200\n",
            "32/32 [==============================] - 6s 182ms/step - loss: 0.0030 - mean_squared_error: 0.0030 - mean_absolute_error: 0.0422 - val_loss: 0.0063 - val_mean_squared_error: 0.0063 - val_mean_absolute_error: 0.0654\n",
            "Epoch 11/200\n",
            "32/32 [==============================] - 6s 172ms/step - loss: 0.0039 - mean_squared_error: 0.0039 - mean_absolute_error: 0.0492 - val_loss: 0.0037 - val_mean_squared_error: 0.0037 - val_mean_absolute_error: 0.0480\n",
            "Epoch 12/200\n",
            "32/32 [==============================] - 6s 174ms/step - loss: 0.0034 - mean_squared_error: 0.0034 - mean_absolute_error: 0.0460 - val_loss: 0.0064 - val_mean_squared_error: 0.0064 - val_mean_absolute_error: 0.0635\n",
            "Epoch 13/200\n",
            "32/32 [==============================] - 6s 184ms/step - loss: 0.0028 - mean_squared_error: 0.0028 - mean_absolute_error: 0.0417 - val_loss: 0.0033 - val_mean_squared_error: 0.0033 - val_mean_absolute_error: 0.0444\n",
            "Epoch 14/200\n",
            "32/32 [==============================] - 6s 185ms/step - loss: 0.0025 - mean_squared_error: 0.0025 - mean_absolute_error: 0.0398 - val_loss: 0.0062 - val_mean_squared_error: 0.0062 - val_mean_absolute_error: 0.0633\n",
            "Epoch 15/200\n",
            "32/32 [==============================] - 6s 182ms/step - loss: 0.0026 - mean_squared_error: 0.0026 - mean_absolute_error: 0.0406 - val_loss: 0.0031 - val_mean_squared_error: 0.0031 - val_mean_absolute_error: 0.0432\n",
            "Epoch 16/200\n",
            "32/32 [==============================] - 6s 186ms/step - loss: 0.0039 - mean_squared_error: 0.0039 - mean_absolute_error: 0.0490 - val_loss: 0.0032 - val_mean_squared_error: 0.0032 - val_mean_absolute_error: 0.0437\n",
            "Epoch 17/200\n",
            "32/32 [==============================] - 6s 190ms/step - loss: 0.0030 - mean_squared_error: 0.0030 - mean_absolute_error: 0.0444 - val_loss: 0.0035 - val_mean_squared_error: 0.0035 - val_mean_absolute_error: 0.0456\n",
            "Epoch 18/200\n",
            "32/32 [==============================] - 6s 179ms/step - loss: 0.0027 - mean_squared_error: 0.0027 - mean_absolute_error: 0.0400 - val_loss: 0.0036 - val_mean_squared_error: 0.0036 - val_mean_absolute_error: 0.0472\n",
            "Epoch 19/200\n",
            "32/32 [==============================] - 6s 178ms/step - loss: 0.0024 - mean_squared_error: 0.0024 - mean_absolute_error: 0.0378 - val_loss: 0.0031 - val_mean_squared_error: 0.0031 - val_mean_absolute_error: 0.0433\n",
            "Epoch 20/200\n",
            "32/32 [==============================] - 6s 186ms/step - loss: 0.0025 - mean_squared_error: 0.0025 - mean_absolute_error: 0.0390 - val_loss: 0.0032 - val_mean_squared_error: 0.0032 - val_mean_absolute_error: 0.0439\n",
            "Epoch 21/200\n",
            "32/32 [==============================] - 6s 180ms/step - loss: 0.0031 - mean_squared_error: 0.0031 - mean_absolute_error: 0.0439 - val_loss: 0.0032 - val_mean_squared_error: 0.0032 - val_mean_absolute_error: 0.0452\n",
            "Epoch 22/200\n",
            "32/32 [==============================] - 6s 177ms/step - loss: 0.0031 - mean_squared_error: 0.0031 - mean_absolute_error: 0.0451 - val_loss: 0.0033 - val_mean_squared_error: 0.0033 - val_mean_absolute_error: 0.0447\n",
            "Epoch 23/200\n",
            "32/32 [==============================] - 6s 173ms/step - loss: 0.0025 - mean_squared_error: 0.0025 - mean_absolute_error: 0.0395 - val_loss: 0.0032 - val_mean_squared_error: 0.0032 - val_mean_absolute_error: 0.0442\n",
            "Epoch 24/200\n",
            "32/32 [==============================] - 6s 185ms/step - loss: 0.0023 - mean_squared_error: 0.0023 - mean_absolute_error: 0.0379 - val_loss: 0.0030 - val_mean_squared_error: 0.0030 - val_mean_absolute_error: 0.0432\n",
            "Epoch 25/200\n",
            "32/32 [==============================] - 6s 174ms/step - loss: 0.0022 - mean_squared_error: 0.0022 - mean_absolute_error: 0.0367 - val_loss: 0.0028 - val_mean_squared_error: 0.0028 - val_mean_absolute_error: 0.0416\n",
            "Epoch 26/200\n",
            "32/32 [==============================] - 6s 184ms/step - loss: 0.0021 - mean_squared_error: 0.0021 - mean_absolute_error: 0.0369 - val_loss: 0.0035 - val_mean_squared_error: 0.0035 - val_mean_absolute_error: 0.0474\n",
            "Epoch 27/200\n",
            "32/32 [==============================] - 6s 177ms/step - loss: 0.0024 - mean_squared_error: 0.0024 - mean_absolute_error: 0.0391 - val_loss: 0.0027 - val_mean_squared_error: 0.0027 - val_mean_absolute_error: 0.0407\n",
            "Epoch 28/200\n",
            "32/32 [==============================] - 6s 185ms/step - loss: 0.0020 - mean_squared_error: 0.0020 - mean_absolute_error: 0.0348 - val_loss: 0.0032 - val_mean_squared_error: 0.0032 - val_mean_absolute_error: 0.0443\n",
            "Epoch 29/200\n",
            "32/32 [==============================] - 6s 186ms/step - loss: 0.0020 - mean_squared_error: 0.0020 - mean_absolute_error: 0.0353 - val_loss: 0.0028 - val_mean_squared_error: 0.0028 - val_mean_absolute_error: 0.0420\n",
            "Epoch 30/200\n",
            "32/32 [==============================] - 6s 176ms/step - loss: 0.0019 - mean_squared_error: 0.0019 - mean_absolute_error: 0.0349 - val_loss: 0.0029 - val_mean_squared_error: 0.0029 - val_mean_absolute_error: 0.0423\n",
            "Epoch 31/200\n",
            "32/32 [==============================] - 6s 178ms/step - loss: 0.0019 - mean_squared_error: 0.0019 - mean_absolute_error: 0.0342 - val_loss: 0.0033 - val_mean_squared_error: 0.0033 - val_mean_absolute_error: 0.0457\n",
            "Epoch 32/200\n",
            "32/32 [==============================] - 6s 181ms/step - loss: 0.0019 - mean_squared_error: 0.0019 - mean_absolute_error: 0.0351 - val_loss: 0.0029 - val_mean_squared_error: 0.0029 - val_mean_absolute_error: 0.0424\n",
            "Epoch 33/200\n",
            "32/32 [==============================] - 6s 184ms/step - loss: 0.0020 - mean_squared_error: 0.0020 - mean_absolute_error: 0.0355 - val_loss: 0.0026 - val_mean_squared_error: 0.0026 - val_mean_absolute_error: 0.0403\n",
            "Epoch 34/200\n",
            "32/32 [==============================] - 6s 175ms/step - loss: 0.0019 - mean_squared_error: 0.0019 - mean_absolute_error: 0.0348 - val_loss: 0.0026 - val_mean_squared_error: 0.0026 - val_mean_absolute_error: 0.0401\n",
            "Epoch 35/200\n",
            "32/32 [==============================] - 6s 183ms/step - loss: 0.0019 - mean_squared_error: 0.0019 - mean_absolute_error: 0.0346 - val_loss: 0.0030 - val_mean_squared_error: 0.0030 - val_mean_absolute_error: 0.0425\n",
            "Epoch 36/200\n",
            "32/32 [==============================] - 6s 175ms/step - loss: 0.0019 - mean_squared_error: 0.0019 - mean_absolute_error: 0.0349 - val_loss: 0.0028 - val_mean_squared_error: 0.0028 - val_mean_absolute_error: 0.0421\n",
            "Epoch 37/200\n",
            "32/32 [==============================] - 6s 184ms/step - loss: 0.0018 - mean_squared_error: 0.0018 - mean_absolute_error: 0.0326 - val_loss: 0.0055 - val_mean_squared_error: 0.0055 - val_mean_absolute_error: 0.0593\n",
            "Epoch 38/200\n",
            "32/32 [==============================] - 6s 181ms/step - loss: 0.0022 - mean_squared_error: 0.0022 - mean_absolute_error: 0.0361 - val_loss: 0.0027 - val_mean_squared_error: 0.0027 - val_mean_absolute_error: 0.0410\n",
            "Epoch 39/200\n",
            "32/32 [==============================] - 6s 180ms/step - loss: 0.0020 - mean_squared_error: 0.0020 - mean_absolute_error: 0.0349 - val_loss: 0.0026 - val_mean_squared_error: 0.0026 - val_mean_absolute_error: 0.0399\n",
            "Epoch 40/200\n",
            "32/32 [==============================] - 6s 174ms/step - loss: 0.0017 - mean_squared_error: 0.0017 - mean_absolute_error: 0.0325 - val_loss: 0.0024 - val_mean_squared_error: 0.0024 - val_mean_absolute_error: 0.0384\n",
            "Epoch 41/200\n",
            "32/32 [==============================] - 6s 179ms/step - loss: 0.0016 - mean_squared_error: 0.0016 - mean_absolute_error: 0.0325 - val_loss: 0.0031 - val_mean_squared_error: 0.0031 - val_mean_absolute_error: 0.0433\n",
            "Epoch 42/200\n",
            "32/32 [==============================] - 6s 185ms/step - loss: 0.0019 - mean_squared_error: 0.0019 - mean_absolute_error: 0.0348 - val_loss: 0.0029 - val_mean_squared_error: 0.0029 - val_mean_absolute_error: 0.0418\n",
            "Epoch 43/200\n",
            "32/32 [==============================] - 6s 180ms/step - loss: 0.0016 - mean_squared_error: 0.0016 - mean_absolute_error: 0.0322 - val_loss: 0.0028 - val_mean_squared_error: 0.0028 - val_mean_absolute_error: 0.0416\n",
            "Epoch 44/200\n",
            "32/32 [==============================] - 6s 190ms/step - loss: 0.0016 - mean_squared_error: 0.0016 - mean_absolute_error: 0.0308 - val_loss: 0.0025 - val_mean_squared_error: 0.0025 - val_mean_absolute_error: 0.0400\n",
            "Epoch 45/200\n",
            "32/32 [==============================] - 6s 181ms/step - loss: 0.0016 - mean_squared_error: 0.0016 - mean_absolute_error: 0.0313 - val_loss: 0.0042 - val_mean_squared_error: 0.0042 - val_mean_absolute_error: 0.0500\n",
            "Epoch 46/200\n",
            "32/32 [==============================] - 6s 180ms/step - loss: 0.0017 - mean_squared_error: 0.0017 - mean_absolute_error: 0.0323 - val_loss: 0.0032 - val_mean_squared_error: 0.0032 - val_mean_absolute_error: 0.0434\n",
            "Epoch 47/200\n",
            "32/32 [==============================] - 6s 175ms/step - loss: 0.0015 - mean_squared_error: 0.0015 - mean_absolute_error: 0.0301 - val_loss: 0.0026 - val_mean_squared_error: 0.0026 - val_mean_absolute_error: 0.0401\n",
            "Epoch 48/200\n",
            "32/32 [==============================] - 6s 182ms/step - loss: 0.0016 - mean_squared_error: 0.0016 - mean_absolute_error: 0.0311 - val_loss: 0.0026 - val_mean_squared_error: 0.0026 - val_mean_absolute_error: 0.0399\n",
            "Epoch 49/200\n",
            "32/32 [==============================] - 6s 178ms/step - loss: 0.0015 - mean_squared_error: 0.0015 - mean_absolute_error: 0.0306 - val_loss: 0.0042 - val_mean_squared_error: 0.0042 - val_mean_absolute_error: 0.0530\n",
            "Epoch 50/200\n",
            "32/32 [==============================] - 6s 181ms/step - loss: 0.0019 - mean_squared_error: 0.0019 - mean_absolute_error: 0.0345 - val_loss: 0.0030 - val_mean_squared_error: 0.0030 - val_mean_absolute_error: 0.0424\n"
          ],
          "name": "stdout"
        },
        {
          "output_type": "stream",
          "text": [
            "\u001b[34m\u001b[1mwandb\u001b[0m: Ctrl + C detected. Stopping sweep.\n"
          ],
          "name": "stderr"
        }
      ]
    },
    {
      "cell_type": "markdown",
      "metadata": {
        "id": "gFTu29dbi18i"
      },
      "source": [
        "# Setting up the best model\n",
        "Using the best values from the hyperparamter search with wandb, the most optimal model configuration is used."
      ]
    },
    {
      "cell_type": "code",
      "metadata": {
        "id": "NwsO8cDJPMdj"
      },
      "source": [
        "# picking the best values\n",
        "best_config = {\n",
        "    'epochs': 100,\n",
        "    'batch_size': 32,\n",
        "    'learning_rate': 0.005,\n",
        "    'dropout': 0.1,\n",
        "    'optimizer': 'nadam',\n",
        "    'activation': 'tanh'\n",
        "}"
      ],
      "execution_count": 15,
      "outputs": []
    },
    {
      "cell_type": "code",
      "metadata": {
        "colab": {
          "base_uri": "https://localhost:8080/"
        },
        "id": "OU7NXYBg1T4r",
        "outputId": "a0886385-44ca-44e1-fe3e-d9a443a3fc23"
      },
      "source": [
        "# clearing the settings on the keras backend\n",
        "keras.backend.clear_session()\n",
        "\n",
        "# setting keras model to sequential mode\n",
        "model = Sequential()\n",
        "\n",
        "# layer 1\n",
        "model.add(LSTM(units=64, activation=best_config['activation'], return_sequences=True, input_shape=(window_len, 1)))\n",
        "model.add(Dropout(best_config['dropout']))\n",
        "# layer 2\n",
        "model.add(GRU(units=64, activation=best_config['activation']))\n",
        "model.add(Dropout(0.1))\n",
        "# layer 3\n",
        "model.add(Dense(1))\n",
        "\n",
        "# defining the optimiser\n",
        "if best_config['optimizer'] == 'sgd':\n",
        "  optimizer = SGD(learning_rate=best_config['learning_rate'], decay=1e-5, momentum=0.9, nesterov=True)\n",
        "elif best_config['optimizer'] == 'rmsprop':\n",
        "  optimizer = RMSprop(learning_rate=best_config['learning_rate'], decay=1e-5)\n",
        "elif best_config['optimizer'] == 'adam':\n",
        "  optimizer = Adam(learning_rate=best_config['learning_rate'], beta_1=0.9, beta_2=0.999, clipnorm=1.0)\n",
        "elif best_config['optimizer'] == 'nadam':\n",
        "  optimizer = Nadam(learning_rate=best_config['learning_rate'], beta_1=0.9, beta_2=0.999, clipnorm=1.0)\n",
        "\n",
        "# compile the model\n",
        "model.compile(optimizer, loss='mean_squared_error')\n",
        "\n",
        "# counting the number of trainable parameters\n",
        "trainable_count = count_params(model.trainable_weights)\n",
        "print('Total number of trainable parameters: ', trainable_count)"
      ],
      "execution_count": 16,
      "outputs": [
        {
          "output_type": "stream",
          "text": [
            "Total number of trainable parameters:  41921\n"
          ],
          "name": "stdout"
        }
      ]
    },
    {
      "cell_type": "code",
      "metadata": {
        "colab": {
          "base_uri": "https://localhost:8080/"
        },
        "id": "5UG8j_4r7kSu",
        "outputId": "7fda56a6-a3b2-4b41-dd3a-6828e3891951"
      },
      "source": [
        "model.summary()"
      ],
      "execution_count": 17,
      "outputs": [
        {
          "output_type": "stream",
          "text": [
            "Model: \"sequential\"\n",
            "_________________________________________________________________\n",
            "Layer (type)                 Output Shape              Param #   \n",
            "=================================================================\n",
            "lstm (LSTM)                  (None, 30, 64)            16896     \n",
            "_________________________________________________________________\n",
            "dropout (Dropout)            (None, 30, 64)            0         \n",
            "_________________________________________________________________\n",
            "gru (GRU)                    (None, 64)                24960     \n",
            "_________________________________________________________________\n",
            "dropout_1 (Dropout)          (None, 64)                0         \n",
            "_________________________________________________________________\n",
            "dense (Dense)                (None, 1)                 65        \n",
            "=================================================================\n",
            "Total params: 41,921\n",
            "Trainable params: 41,921\n",
            "Non-trainable params: 0\n",
            "_________________________________________________________________\n"
          ],
          "name": "stdout"
        }
      ]
    },
    {
      "cell_type": "code",
      "metadata": {
        "colab": {
          "base_uri": "https://localhost:8080/"
        },
        "id": "W3v718GcE39o",
        "outputId": "d1066783-f4a0-4d7d-dde4-7d288ac02ad3"
      },
      "source": [
        "# fitting the model to the training dataset\n",
        "model.fit(X_train, y_train, epochs=best_config['epochs'], batch_size=best_config['batch_size'])"
      ],
      "execution_count": 18,
      "outputs": [
        {
          "output_type": "stream",
          "text": [
            "Epoch 1/100\n",
            "39/39 [==============================] - 14s 7ms/step - loss: 0.0219\n",
            "Epoch 2/100\n",
            "39/39 [==============================] - 0s 7ms/step - loss: 0.0027\n",
            "Epoch 3/100\n",
            "39/39 [==============================] - 0s 7ms/step - loss: 0.0042\n",
            "Epoch 4/100\n",
            "39/39 [==============================] - 0s 7ms/step - loss: 0.0022\n",
            "Epoch 5/100\n",
            "39/39 [==============================] - 0s 7ms/step - loss: 0.0020\n",
            "Epoch 6/100\n",
            "39/39 [==============================] - 0s 7ms/step - loss: 0.0023\n",
            "Epoch 7/100\n",
            "39/39 [==============================] - 0s 7ms/step - loss: 0.0016\n",
            "Epoch 8/100\n",
            "39/39 [==============================] - 0s 7ms/step - loss: 0.0016\n",
            "Epoch 9/100\n",
            "39/39 [==============================] - 0s 7ms/step - loss: 0.0015\n",
            "Epoch 10/100\n",
            "39/39 [==============================] - 0s 8ms/step - loss: 0.0018\n",
            "Epoch 11/100\n",
            "39/39 [==============================] - 0s 8ms/step - loss: 0.0015\n",
            "Epoch 12/100\n",
            "39/39 [==============================] - 0s 8ms/step - loss: 0.0023\n",
            "Epoch 13/100\n",
            "39/39 [==============================] - 0s 7ms/step - loss: 0.0011\n",
            "Epoch 14/100\n",
            "39/39 [==============================] - 0s 7ms/step - loss: 0.0010\n",
            "Epoch 15/100\n",
            "39/39 [==============================] - 0s 7ms/step - loss: 0.0025\n",
            "Epoch 16/100\n",
            "39/39 [==============================] - 0s 7ms/step - loss: 0.0013\n",
            "Epoch 17/100\n",
            "39/39 [==============================] - 0s 7ms/step - loss: 0.0010\n",
            "Epoch 18/100\n",
            "39/39 [==============================] - 0s 7ms/step - loss: 0.0018\n",
            "Epoch 19/100\n",
            "39/39 [==============================] - 0s 7ms/step - loss: 0.0011\n",
            "Epoch 20/100\n",
            "39/39 [==============================] - 0s 7ms/step - loss: 0.0012\n",
            "Epoch 21/100\n",
            "39/39 [==============================] - 0s 7ms/step - loss: 0.0012\n",
            "Epoch 22/100\n",
            "39/39 [==============================] - 0s 7ms/step - loss: 0.0012\n",
            "Epoch 23/100\n",
            "39/39 [==============================] - 0s 7ms/step - loss: 0.0011\n",
            "Epoch 24/100\n",
            "39/39 [==============================] - 0s 7ms/step - loss: 0.0010\n",
            "Epoch 25/100\n",
            "39/39 [==============================] - 0s 7ms/step - loss: 0.0013\n",
            "Epoch 26/100\n",
            "39/39 [==============================] - 0s 7ms/step - loss: 0.0016\n",
            "Epoch 27/100\n",
            "39/39 [==============================] - 0s 7ms/step - loss: 9.2493e-04\n",
            "Epoch 28/100\n",
            "39/39 [==============================] - 0s 7ms/step - loss: 0.0011\n",
            "Epoch 29/100\n",
            "39/39 [==============================] - 0s 7ms/step - loss: 9.6917e-04\n",
            "Epoch 30/100\n",
            "39/39 [==============================] - 0s 7ms/step - loss: 0.0013\n",
            "Epoch 31/100\n",
            "39/39 [==============================] - 0s 7ms/step - loss: 0.0011\n",
            "Epoch 32/100\n",
            "39/39 [==============================] - 0s 7ms/step - loss: 8.9114e-04\n",
            "Epoch 33/100\n",
            "39/39 [==============================] - 0s 7ms/step - loss: 0.0010\n",
            "Epoch 34/100\n",
            "39/39 [==============================] - 0s 7ms/step - loss: 0.0011\n",
            "Epoch 35/100\n",
            "39/39 [==============================] - 0s 8ms/step - loss: 0.0013\n",
            "Epoch 36/100\n",
            "39/39 [==============================] - 0s 7ms/step - loss: 0.0011\n",
            "Epoch 37/100\n",
            "39/39 [==============================] - 0s 7ms/step - loss: 8.9681e-04\n",
            "Epoch 38/100\n",
            "39/39 [==============================] - 0s 7ms/step - loss: 8.3766e-04\n",
            "Epoch 39/100\n",
            "39/39 [==============================] - 0s 7ms/step - loss: 0.0011\n",
            "Epoch 40/100\n",
            "39/39 [==============================] - 0s 7ms/step - loss: 8.2128e-04\n",
            "Epoch 41/100\n",
            "39/39 [==============================] - 0s 7ms/step - loss: 8.8831e-04\n",
            "Epoch 42/100\n",
            "39/39 [==============================] - 0s 7ms/step - loss: 8.4452e-04\n",
            "Epoch 43/100\n",
            "39/39 [==============================] - 0s 7ms/step - loss: 9.1042e-04\n",
            "Epoch 44/100\n",
            "39/39 [==============================] - 0s 7ms/step - loss: 7.7016e-04\n",
            "Epoch 45/100\n",
            "39/39 [==============================] - 0s 7ms/step - loss: 8.8561e-04\n",
            "Epoch 46/100\n",
            "39/39 [==============================] - 0s 7ms/step - loss: 8.9518e-04\n",
            "Epoch 47/100\n",
            "39/39 [==============================] - 0s 7ms/step - loss: 0.0010\n",
            "Epoch 48/100\n",
            "39/39 [==============================] - 0s 7ms/step - loss: 7.9672e-04\n",
            "Epoch 49/100\n",
            "39/39 [==============================] - 0s 7ms/step - loss: 8.0410e-04\n",
            "Epoch 50/100\n",
            "39/39 [==============================] - 0s 7ms/step - loss: 8.9731e-04\n",
            "Epoch 51/100\n",
            "39/39 [==============================] - 0s 7ms/step - loss: 7.8778e-04\n",
            "Epoch 52/100\n",
            "39/39 [==============================] - 0s 7ms/step - loss: 8.1968e-04\n",
            "Epoch 53/100\n",
            "39/39 [==============================] - 0s 7ms/step - loss: 8.9849e-04\n",
            "Epoch 54/100\n",
            "39/39 [==============================] - 0s 7ms/step - loss: 8.3274e-04\n",
            "Epoch 55/100\n",
            "39/39 [==============================] - 0s 8ms/step - loss: 0.0011\n",
            "Epoch 56/100\n",
            "39/39 [==============================] - 0s 8ms/step - loss: 9.8486e-04\n",
            "Epoch 57/100\n",
            "39/39 [==============================] - 0s 8ms/step - loss: 9.2290e-04\n",
            "Epoch 58/100\n",
            "39/39 [==============================] - 0s 8ms/step - loss: 8.3053e-04\n",
            "Epoch 59/100\n",
            "39/39 [==============================] - 0s 8ms/step - loss: 0.0011\n",
            "Epoch 60/100\n",
            "39/39 [==============================] - 0s 8ms/step - loss: 7.1181e-04\n",
            "Epoch 61/100\n",
            "39/39 [==============================] - 0s 8ms/step - loss: 8.0379e-04\n",
            "Epoch 62/100\n",
            "39/39 [==============================] - 0s 8ms/step - loss: 6.8011e-04\n",
            "Epoch 63/100\n",
            "39/39 [==============================] - 0s 8ms/step - loss: 7.5165e-04\n",
            "Epoch 64/100\n",
            "39/39 [==============================] - 0s 8ms/step - loss: 6.9222e-04\n",
            "Epoch 65/100\n",
            "39/39 [==============================] - 0s 8ms/step - loss: 8.2032e-04\n",
            "Epoch 66/100\n",
            "39/39 [==============================] - 0s 8ms/step - loss: 7.0132e-04\n",
            "Epoch 67/100\n",
            "39/39 [==============================] - 0s 8ms/step - loss: 9.1271e-04\n",
            "Epoch 68/100\n",
            "39/39 [==============================] - 0s 8ms/step - loss: 7.9504e-04\n",
            "Epoch 69/100\n",
            "39/39 [==============================] - 0s 8ms/step - loss: 7.9593e-04\n",
            "Epoch 70/100\n",
            "39/39 [==============================] - 0s 8ms/step - loss: 9.1356e-04\n",
            "Epoch 71/100\n",
            "39/39 [==============================] - 0s 8ms/step - loss: 9.4989e-04\n",
            "Epoch 72/100\n",
            "39/39 [==============================] - 0s 8ms/step - loss: 7.9177e-04\n",
            "Epoch 73/100\n",
            "39/39 [==============================] - 0s 8ms/step - loss: 9.8627e-04\n",
            "Epoch 74/100\n",
            "39/39 [==============================] - 0s 8ms/step - loss: 7.4041e-04\n",
            "Epoch 75/100\n",
            "39/39 [==============================] - 0s 8ms/step - loss: 7.7146e-04\n",
            "Epoch 76/100\n",
            "39/39 [==============================] - 0s 8ms/step - loss: 9.1947e-04\n",
            "Epoch 77/100\n",
            "39/39 [==============================] - 0s 8ms/step - loss: 8.4995e-04\n",
            "Epoch 78/100\n",
            "39/39 [==============================] - 0s 8ms/step - loss: 8.0097e-04\n",
            "Epoch 79/100\n",
            "39/39 [==============================] - 0s 8ms/step - loss: 6.7382e-04\n",
            "Epoch 80/100\n",
            "39/39 [==============================] - 0s 8ms/step - loss: 8.1028e-04\n",
            "Epoch 81/100\n",
            "39/39 [==============================] - 0s 8ms/step - loss: 8.0344e-04\n",
            "Epoch 82/100\n",
            "39/39 [==============================] - 0s 8ms/step - loss: 8.0115e-04\n",
            "Epoch 83/100\n",
            "39/39 [==============================] - 0s 8ms/step - loss: 9.2792e-04\n",
            "Epoch 84/100\n",
            "39/39 [==============================] - 0s 8ms/step - loss: 8.8557e-04\n",
            "Epoch 85/100\n",
            "39/39 [==============================] - 0s 8ms/step - loss: 7.9576e-04\n",
            "Epoch 86/100\n",
            "39/39 [==============================] - 0s 8ms/step - loss: 8.1958e-04\n",
            "Epoch 87/100\n",
            "39/39 [==============================] - 0s 8ms/step - loss: 9.0739e-04\n",
            "Epoch 88/100\n",
            "39/39 [==============================] - 0s 8ms/step - loss: 7.9735e-04\n",
            "Epoch 89/100\n",
            "39/39 [==============================] - 0s 8ms/step - loss: 6.9554e-04\n",
            "Epoch 90/100\n",
            "39/39 [==============================] - 0s 8ms/step - loss: 6.9612e-04\n",
            "Epoch 91/100\n",
            "39/39 [==============================] - 0s 8ms/step - loss: 7.7170e-04\n",
            "Epoch 92/100\n",
            "39/39 [==============================] - 0s 8ms/step - loss: 7.4596e-04\n",
            "Epoch 93/100\n",
            "39/39 [==============================] - 0s 8ms/step - loss: 7.5570e-04\n",
            "Epoch 94/100\n",
            "39/39 [==============================] - 0s 8ms/step - loss: 8.4061e-04\n",
            "Epoch 95/100\n",
            "39/39 [==============================] - 0s 8ms/step - loss: 8.5923e-04\n",
            "Epoch 96/100\n",
            "39/39 [==============================] - 0s 8ms/step - loss: 6.7118e-04\n",
            "Epoch 97/100\n",
            "39/39 [==============================] - 0s 8ms/step - loss: 7.3516e-04\n",
            "Epoch 98/100\n",
            "39/39 [==============================] - 0s 8ms/step - loss: 8.0786e-04\n",
            "Epoch 99/100\n",
            "39/39 [==============================] - 0s 8ms/step - loss: 7.6333e-04\n",
            "Epoch 100/100\n",
            "39/39 [==============================] - 0s 8ms/step - loss: 7.5590e-04\n"
          ],
          "name": "stdout"
        },
        {
          "output_type": "execute_result",
          "data": {
            "text/plain": [
              "<keras.callbacks.History at 0x7fadbec1ee10>"
            ]
          },
          "metadata": {
            "tags": []
          },
          "execution_count": 18
        }
      ]
    },
    {
      "cell_type": "code",
      "metadata": {
        "id": "rTXJN51l9Y-F"
      },
      "source": [
        "# creating an instance of Baseline_Model class using X_test\n",
        "base_model = Base_Model(X_test, window_len)\n",
        "# calling predict_y method\n",
        "base_model.predict_y(in_data.test_len - window_len)\n",
        "\n",
        "# using the model to predict y from X_test\n",
        "y_pred = model.predict(X_test)\n",
        "# assigning y_dummy variable to .y_pred class attribute\n",
        "y_dummy = base_model.y_pred\n",
        "\n",
        "# calling class method extract_real_price to generate unnormalised prices\n",
        "in_data.extract_real_prices(y_pred, y_dummy)\n",
        "\n",
        "# assinging y_true variable\n",
        "y_true = in_data.y_true\n",
        "\n",
        "# assigning actual_price, predicted_price and dummy_price\n",
        "actual_price = in_data.actual_price\n",
        "predicted_price = in_data.predicted_price\n",
        "dummy_price = in_data.dummy_price"
      ],
      "execution_count": 19,
      "outputs": []
    },
    {
      "cell_type": "markdown",
      "metadata": {
        "id": "H-D-XHyRjFMp"
      },
      "source": [
        "# Plotting the prediction results and getting errors\n",
        "The cells below plot the actual, predicted and dummy prices using the Security_Plotter class before finally saving the model and plot."
      ]
    },
    {
      "cell_type": "code",
      "metadata": {
        "colab": {
          "base_uri": "https://localhost:8080/",
          "height": 395
        },
        "id": "PgjvooOD3jq3",
        "outputId": "0989f385-7172-4a55-8776-b59b4766127f"
      },
      "source": [
        "plotter = Security_Plotter(in_data, actual_price, predicted_price,\n",
        "                            dummy_price, in_data.train_len, window_len, in_str, model_str)\n",
        "\n",
        "plotter.single_plot()"
      ],
      "execution_count": 20,
      "outputs": [
        {
          "output_type": "display_data",
          "data": {
            "image/png": "[encoded data removed]",
            "text/plain": [
              "<Figure size 864x432 with 1 Axes>"
            ]
          },
          "metadata": {
            "tags": [],
            "needs_background": "light"
          }
        }
      ]
    },
    {
      "cell_type": "code",
      "metadata": {
        "id": "AxaH7IUCxSXw",
        "colab": {
          "base_uri": "https://localhost:8080/",
          "height": 644
        },
        "outputId": "e59b3a89-e3bb-4985-800c-29a073d0cfaf"
      },
      "source": [
        "plot_model(model, show_shapes=True, expand_nested=True)"
      ],
      "execution_count": 21,
      "outputs": [
        {
          "output_type": "execute_result",
          "data": {
            "image/png": "[encoded data removed]",
            "text/plain": [
              "<IPython.core.display.Image object>"
            ]
          },
          "metadata": {
            "tags": []
          },
          "execution_count": 21
        }
      ]
    },
    {
      "cell_type": "code",
      "metadata": {
        "colab": {
          "base_uri": "https://localhost:8080/"
        },
        "id": "bFfQGfb79SJS",
        "outputId": "f80cfc52-f663-4f71-874d-184d1d32661d"
      },
      "source": [
        "# calculating mean squared error\n",
        "mse = mean_squared_error(y_true, y_pred)\n",
        "d_mse = mean_squared_error(y_true, y_dummy)\n",
        "\n",
        "# calculating root mean squared error\n",
        "rmse = mean_squared_error(y_true, y_pred, squared=False)\n",
        "d_rmse = mean_squared_error(y_true, y_dummy, squared=False)\n",
        "\n",
        "# calculating mean absolute error\n",
        "mae = mean_absolute_error(y_true, y_pred)\n",
        "d_mae = mean_absolute_error(y_true, y_dummy)\n",
        "\n",
        "print('MSE: ', mse)\n",
        "print('RMSE: ', rmse)\n",
        "print('MAE: ', mae)\n",
        "print('Dummy MSE: ', d_mse)\n",
        "print('Dummy RMSE: ', d_rmse)\n",
        "print('Dummy MAE: ', d_mae)"
      ],
      "execution_count": 22,
      "outputs": [
        {
          "output_type": "stream",
          "text": [
            "MSE:  0.003416574009912131\n",
            "RMSE:  0.058451467132246825\n",
            "MAE:  0.041209567070981855\n",
            "Dummy MSE:  0.041446864361575214\n",
            "Dummy RMSE:  0.20358502980714277\n",
            "Dummy MAE:  0.15160472972972977\n"
          ],
          "name": "stdout"
        }
      ]
    },
    {
      "cell_type": "code",
      "metadata": {
        "id": "4YttzJHHU4-s",
        "colab": {
          "base_uri": "https://localhost:8080/"
        },
        "outputId": "321ce298-12c9-4b5f-87fa-fb5f16151c7d"
      },
      "source": [
        "# creating a string to save the model based on model name\n",
        "save_path = '/content/gdrive/My Drive/models/'+model_str+'_'+in_str+'/'\n",
        "# mounting google drive for easy storage of model\n",
        "from google.colab import drive\n",
        "# mounting the drive\n",
        "drive.mount('/content/gdrive/')\n",
        "# making the relevant directory to store the model\n",
        "os.mkdir(save_path)\n",
        "# saving the model\n",
        "keras.models.save_model(model, save_path)\n",
        "# saving the model graph\n",
        "model_graph = plot_model(model, to_file=save_path+model_str+'_'+in_str+'_graph_.png', show_shapes=True, expand_nested=True)\n",
        "# saving the matplotlib plot\n",
        "plotter.fig.savefig(save_path+model_str+'_'+in_str+'_plot.png', bbox_inches='tight')\n",
        "# saving the error metrics as a text file\n",
        "error_file = open(save_path+model_str+'_'+in_str+'_metrics.txt', 'w+')\n",
        "error_file.write('MSE: '+str(mse)+'\\n'+'RMSE: '+str(rmse)+'\\n'+'MAE: '+str(mae)+'\\n'+\n",
        "                 'Dummy MSE: '+str(d_mse)+'\\n'+'Dummy RMSE: '+str(d_rmse)+'\\n'+'Dummy MAE: '+str(d_mae))\n",
        "error_file.close()"
      ],
      "execution_count": 23,
      "outputs": [
        {
          "output_type": "stream",
          "text": [
            "Mounted at /content/gdrive/\n"
          ],
          "name": "stdout"
        },
        {
          "output_type": "stream",
          "text": [
            "WARNING:absl:Found untraced functions such as lstm_cell_layer_call_fn, lstm_cell_layer_call_and_return_conditional_losses, gru_cell_layer_call_fn, gru_cell_layer_call_and_return_conditional_losses, lstm_cell_layer_call_fn while saving (showing 5 of 10). These functions will not be directly callable after loading.\n"
          ],
          "name": "stderr"
        },
        {
          "output_type": "stream",
          "text": [
            "INFO:tensorflow:Assets written to: /content/gdrive/My Drive/models/LSTM_GRU_Corn/assets\n"
          ],
          "name": "stdout"
        },
        {
          "output_type": "stream",
          "text": [
            "INFO:tensorflow:Assets written to: /content/gdrive/My Drive/models/LSTM_GRU_Corn/assets\n"
          ],
          "name": "stderr"
        }
      ]
    }
  ]
}