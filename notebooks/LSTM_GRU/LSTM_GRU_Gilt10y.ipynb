{
  "nbformat": 4,
  "nbformat_minor": 0,
  "metadata": {
    "colab": {
      "name": "LSTM_GRU_Gilt10y.ipynb",
      "provenance": [],
      "collapsed_sections": [],
      "authorship_tag": "ABX9TyNqgeHBs6Svgfvm1rFp6d0G",
      "include_colab_link": true
    },
    "kernelspec": {
      "name": "python3",
      "display_name": "Python 3"
    },
    "language_info": {
      "name": "python"
    },
    "accelerator": "GPU",
    "widgets": {
      "application/vnd.jupyter.widget-state+json": {
        "33e21649d89e44f49ac5128586c12e00": {
          "model_module": "@jupyter-widgets/controls",
          "model_name": "VBoxModel",
          "state": {
            "_view_name": "VBoxView",
            "_dom_classes": [],
            "_model_name": "VBoxModel",
            "_view_module": "@jupyter-widgets/controls",
            "_model_module_version": "1.5.0",
            "_view_count": null,
            "_view_module_version": "1.5.0",
            "box_style": "",
            "layout": "IPY_MODEL_a66790e497a94be986567dc92b5c960d",
            "_model_module": "@jupyter-widgets/controls",
            "children": [
              "IPY_MODEL_ce732c8fb93a4b3592a6c1eb9fb2b5e2",
              "IPY_MODEL_74b8766c1d6144589d5ab23d70cd985b"
            ]
          }
        },
        "a66790e497a94be986567dc92b5c960d": {
          "model_module": "@jupyter-widgets/base",
          "model_name": "LayoutModel",
          "state": {
            "_view_name": "LayoutView",
            "grid_template_rows": null,
            "right": null,
            "justify_content": null,
            "_view_module": "@jupyter-widgets/base",
            "overflow": null,
            "_model_module_version": "1.2.0",
            "_view_count": null,
            "flex_flow": null,
            "width": null,
            "min_width": null,
            "border": null,
            "align_items": null,
            "bottom": null,
            "_model_module": "@jupyter-widgets/base",
            "top": null,
            "grid_column": null,
            "overflow_y": null,
            "overflow_x": null,
            "grid_auto_flow": null,
            "grid_area": null,
            "grid_template_columns": null,
            "flex": null,
            "_model_name": "LayoutModel",
            "justify_items": null,
            "grid_row": null,
            "max_height": null,
            "align_content": null,
            "visibility": null,
            "align_self": null,
            "height": null,
            "min_height": null,
            "padding": null,
            "grid_auto_rows": null,
            "grid_gap": null,
            "max_width": null,
            "order": null,
            "_view_module_version": "1.2.0",
            "grid_template_areas": null,
            "object_position": null,
            "object_fit": null,
            "grid_auto_columns": null,
            "margin": null,
            "display": null,
            "left": null
          }
        },
        "ce732c8fb93a4b3592a6c1eb9fb2b5e2": {
          "model_module": "@jupyter-widgets/controls",
          "model_name": "LabelModel",
          "state": {
            "_view_name": "LabelView",
            "style": "IPY_MODEL_d6d2e7b4b858479bb43a60d97dc687de",
            "_dom_classes": [],
            "description": "",
            "_model_name": "LabelModel",
            "placeholder": "​",
            "_view_module": "@jupyter-widgets/controls",
            "_model_module_version": "1.5.0",
            "value": " 0.57MB of 0.57MB uploaded (0.00MB deduped)\r",
            "_view_count": null,
            "_view_module_version": "1.5.0",
            "description_tooltip": null,
            "_model_module": "@jupyter-widgets/controls",
            "layout": "IPY_MODEL_88c45d69fe6146c08c719f8ca7c6cc9a"
          }
        },
        "74b8766c1d6144589d5ab23d70cd985b": {
          "model_module": "@jupyter-widgets/controls",
          "model_name": "FloatProgressModel",
          "state": {
            "_view_name": "ProgressView",
            "style": "IPY_MODEL_e8bc5565230b4a218674b384e87cc30d",
            "_dom_classes": [],
            "description": "",
            "_model_name": "FloatProgressModel",
            "bar_style": "",
            "max": 1,
            "_view_module": "@jupyter-widgets/controls",
            "_model_module_version": "1.5.0",
            "value": 1,
            "_view_count": null,
            "_view_module_version": "1.5.0",
            "orientation": "horizontal",
            "min": 0,
            "description_tooltip": null,
            "_model_module": "@jupyter-widgets/controls",
            "layout": "IPY_MODEL_5ed9623aa025450f9d3422f431a3ceba"
          }
        },
        "d6d2e7b4b858479bb43a60d97dc687de": {
          "model_module": "@jupyter-widgets/controls",
          "model_name": "DescriptionStyleModel",
          "state": {
            "_view_name": "StyleView",
            "_model_name": "DescriptionStyleModel",
            "description_width": "",
            "_view_module": "@jupyter-widgets/base",
            "_model_module_version": "1.5.0",
            "_view_count": null,
            "_view_module_version": "1.2.0",
            "_model_module": "@jupyter-widgets/controls"
          }
        },
        "88c45d69fe6146c08c719f8ca7c6cc9a": {
          "model_module": "@jupyter-widgets/base",
          "model_name": "LayoutModel",
          "state": {
            "_view_name": "LayoutView",
            "grid_template_rows": null,
            "right": null,
            "justify_content": null,
            "_view_module": "@jupyter-widgets/base",
            "overflow": null,
            "_model_module_version": "1.2.0",
            "_view_count": null,
            "flex_flow": null,
            "width": null,
            "min_width": null,
            "border": null,
            "align_items": null,
            "bottom": null,
            "_model_module": "@jupyter-widgets/base",
            "top": null,
            "grid_column": null,
            "overflow_y": null,
            "overflow_x": null,
            "grid_auto_flow": null,
            "grid_area": null,
            "grid_template_columns": null,
            "flex": null,
            "_model_name": "LayoutModel",
            "justify_items": null,
            "grid_row": null,
            "max_height": null,
            "align_content": null,
            "visibility": null,
            "align_self": null,
            "height": null,
            "min_height": null,
            "padding": null,
            "grid_auto_rows": null,
            "grid_gap": null,
            "max_width": null,
            "order": null,
            "_view_module_version": "1.2.0",
            "grid_template_areas": null,
            "object_position": null,
            "object_fit": null,
            "grid_auto_columns": null,
            "margin": null,
            "display": null,
            "left": null
          }
        },
        "e8bc5565230b4a218674b384e87cc30d": {
          "model_module": "@jupyter-widgets/controls",
          "model_name": "ProgressStyleModel",
          "state": {
            "_view_name": "StyleView",
            "_model_name": "ProgressStyleModel",
            "description_width": "",
            "_view_module": "@jupyter-widgets/base",
            "_model_module_version": "1.5.0",
            "_view_count": null,
            "_view_module_version": "1.2.0",
            "bar_color": null,
            "_model_module": "@jupyter-widgets/controls"
          }
        },
        "5ed9623aa025450f9d3422f431a3ceba": {
          "model_module": "@jupyter-widgets/base",
          "model_name": "LayoutModel",
          "state": {
            "_view_name": "LayoutView",
            "grid_template_rows": null,
            "right": null,
            "justify_content": null,
            "_view_module": "@jupyter-widgets/base",
            "overflow": null,
            "_model_module_version": "1.2.0",
            "_view_count": null,
            "flex_flow": null,
            "width": null,
            "min_width": null,
            "border": null,
            "align_items": null,
            "bottom": null,
            "_model_module": "@jupyter-widgets/base",
            "top": null,
            "grid_column": null,
            "overflow_y": null,
            "overflow_x": null,
            "grid_auto_flow": null,
            "grid_area": null,
            "grid_template_columns": null,
            "flex": null,
            "_model_name": "LayoutModel",
            "justify_items": null,
            "grid_row": null,
            "max_height": null,
            "align_content": null,
            "visibility": null,
            "align_self": null,
            "height": null,
            "min_height": null,
            "padding": null,
            "grid_auto_rows": null,
            "grid_gap": null,
            "max_width": null,
            "order": null,
            "_view_module_version": "1.2.0",
            "grid_template_areas": null,
            "object_position": null,
            "object_fit": null,
            "grid_auto_columns": null,
            "margin": null,
            "display": null,
            "left": null
          }
        },
        "7df589f4c1e24797a3f2d1c8ed2f04ae": {
          "model_module": "@jupyter-widgets/controls",
          "model_name": "VBoxModel",
          "state": {
            "_view_name": "VBoxView",
            "_dom_classes": [],
            "_model_name": "VBoxModel",
            "_view_module": "@jupyter-widgets/controls",
            "_model_module_version": "1.5.0",
            "_view_count": null,
            "_view_module_version": "1.5.0",
            "box_style": "",
            "layout": "IPY_MODEL_54a928271f69468aae6b500886369303",
            "_model_module": "@jupyter-widgets/controls",
            "children": [
              "IPY_MODEL_f03ea0a9857c464db44d3ddc36353c98",
              "IPY_MODEL_9b6a106fd9c74646b9f702cce33d4f4f"
            ]
          }
        },
        "54a928271f69468aae6b500886369303": {
          "model_module": "@jupyter-widgets/base",
          "model_name": "LayoutModel",
          "state": {
            "_view_name": "LayoutView",
            "grid_template_rows": null,
            "right": null,
            "justify_content": null,
            "_view_module": "@jupyter-widgets/base",
            "overflow": null,
            "_model_module_version": "1.2.0",
            "_view_count": null,
            "flex_flow": null,
            "width": null,
            "min_width": null,
            "border": null,
            "align_items": null,
            "bottom": null,
            "_model_module": "@jupyter-widgets/base",
            "top": null,
            "grid_column": null,
            "overflow_y": null,
            "overflow_x": null,
            "grid_auto_flow": null,
            "grid_area": null,
            "grid_template_columns": null,
            "flex": null,
            "_model_name": "LayoutModel",
            "justify_items": null,
            "grid_row": null,
            "max_height": null,
            "align_content": null,
            "visibility": null,
            "align_self": null,
            "height": null,
            "min_height": null,
            "padding": null,
            "grid_auto_rows": null,
            "grid_gap": null,
            "max_width": null,
            "order": null,
            "_view_module_version": "1.2.0",
            "grid_template_areas": null,
            "object_position": null,
            "object_fit": null,
            "grid_auto_columns": null,
            "margin": null,
            "display": null,
            "left": null
          }
        },
        "f03ea0a9857c464db44d3ddc36353c98": {
          "model_module": "@jupyter-widgets/controls",
          "model_name": "LabelModel",
          "state": {
            "_view_name": "LabelView",
            "style": "IPY_MODEL_d7f8181589b349f0b6ee043280635fa0",
            "_dom_classes": [],
            "description": "",
            "_model_name": "LabelModel",
            "placeholder": "​",
            "_view_module": "@jupyter-widgets/controls",
            "_model_module_version": "1.5.0",
            "value": " 0.85MB of 0.85MB uploaded (0.00MB deduped)\r",
            "_view_count": null,
            "_view_module_version": "1.5.0",
            "description_tooltip": null,
            "_model_module": "@jupyter-widgets/controls",
            "layout": "IPY_MODEL_e4ab243110d94929befee76c986fde9f"
          }
        },
        "9b6a106fd9c74646b9f702cce33d4f4f": {
          "model_module": "@jupyter-widgets/controls",
          "model_name": "FloatProgressModel",
          "state": {
            "_view_name": "ProgressView",
            "style": "IPY_MODEL_f3a2a79ead0c4205b3608c7ee7948d0d",
            "_dom_classes": [],
            "description": "",
            "_model_name": "FloatProgressModel",
            "bar_style": "",
            "max": 1,
            "_view_module": "@jupyter-widgets/controls",
            "_model_module_version": "1.5.0",
            "value": 1,
            "_view_count": null,
            "_view_module_version": "1.5.0",
            "orientation": "horizontal",
            "min": 0,
            "description_tooltip": null,
            "_model_module": "@jupyter-widgets/controls",
            "layout": "IPY_MODEL_9fd0c6e19b3c4af1958219b977dbef80"
          }
        },
        "d7f8181589b349f0b6ee043280635fa0": {
          "model_module": "@jupyter-widgets/controls",
          "model_name": "DescriptionStyleModel",
          "state": {
            "_view_name": "StyleView",
            "_model_name": "DescriptionStyleModel",
            "description_width": "",
            "_view_module": "@jupyter-widgets/base",
            "_model_module_version": "1.5.0",
            "_view_count": null,
            "_view_module_version": "1.2.0",
            "_model_module": "@jupyter-widgets/controls"
          }
        },
        "e4ab243110d94929befee76c986fde9f": {
          "model_module": "@jupyter-widgets/base",
          "model_name": "LayoutModel",
          "state": {
            "_view_name": "LayoutView",
            "grid_template_rows": null,
            "right": null,
            "justify_content": null,
            "_view_module": "@jupyter-widgets/base",
            "overflow": null,
            "_model_module_version": "1.2.0",
            "_view_count": null,
            "flex_flow": null,
            "width": null,
            "min_width": null,
            "border": null,
            "align_items": null,
            "bottom": null,
            "_model_module": "@jupyter-widgets/base",
            "top": null,
            "grid_column": null,
            "overflow_y": null,
            "overflow_x": null,
            "grid_auto_flow": null,
            "grid_area": null,
            "grid_template_columns": null,
            "flex": null,
            "_model_name": "LayoutModel",
            "justify_items": null,
            "grid_row": null,
            "max_height": null,
            "align_content": null,
            "visibility": null,
            "align_self": null,
            "height": null,
            "min_height": null,
            "padding": null,
            "grid_auto_rows": null,
            "grid_gap": null,
            "max_width": null,
            "order": null,
            "_view_module_version": "1.2.0",
            "grid_template_areas": null,
            "object_position": null,
            "object_fit": null,
            "grid_auto_columns": null,
            "margin": null,
            "display": null,
            "left": null
          }
        },
        "f3a2a79ead0c4205b3608c7ee7948d0d": {
          "model_module": "@jupyter-widgets/controls",
          "model_name": "ProgressStyleModel",
          "state": {
            "_view_name": "StyleView",
            "_model_name": "ProgressStyleModel",
            "description_width": "",
            "_view_module": "@jupyter-widgets/base",
            "_model_module_version": "1.5.0",
            "_view_count": null,
            "_view_module_version": "1.2.0",
            "bar_color": null,
            "_model_module": "@jupyter-widgets/controls"
          }
        },
        "9fd0c6e19b3c4af1958219b977dbef80": {
          "model_module": "@jupyter-widgets/base",
          "model_name": "LayoutModel",
          "state": {
            "_view_name": "LayoutView",
            "grid_template_rows": null,
            "right": null,
            "justify_content": null,
            "_view_module": "@jupyter-widgets/base",
            "overflow": null,
            "_model_module_version": "1.2.0",
            "_view_count": null,
            "flex_flow": null,
            "width": null,
            "min_width": null,
            "border": null,
            "align_items": null,
            "bottom": null,
            "_model_module": "@jupyter-widgets/base",
            "top": null,
            "grid_column": null,
            "overflow_y": null,
            "overflow_x": null,
            "grid_auto_flow": null,
            "grid_area": null,
            "grid_template_columns": null,
            "flex": null,
            "_model_name": "LayoutModel",
            "justify_items": null,
            "grid_row": null,
            "max_height": null,
            "align_content": null,
            "visibility": null,
            "align_self": null,
            "height": null,
            "min_height": null,
            "padding": null,
            "grid_auto_rows": null,
            "grid_gap": null,
            "max_width": null,
            "order": null,
            "_view_module_version": "1.2.0",
            "grid_template_areas": null,
            "object_position": null,
            "object_fit": null,
            "grid_auto_columns": null,
            "margin": null,
            "display": null,
            "left": null
          }
        },
        "32f532795c04415482ec5197e5ba5f60": {
          "model_module": "@jupyter-widgets/controls",
          "model_name": "VBoxModel",
          "state": {
            "_view_name": "VBoxView",
            "_dom_classes": [],
            "_model_name": "VBoxModel",
            "_view_module": "@jupyter-widgets/controls",
            "_model_module_version": "1.5.0",
            "_view_count": null,
            "_view_module_version": "1.5.0",
            "box_style": "",
            "layout": "IPY_MODEL_8055e092a4fb4eb5b8d85bb492179c1e",
            "_model_module": "@jupyter-widgets/controls",
            "children": [
              "IPY_MODEL_872f3b41c9e645c9bb652662faf95558",
              "IPY_MODEL_bae93024c6194551b99d6dc64256e61d"
            ]
          }
        },
        "8055e092a4fb4eb5b8d85bb492179c1e": {
          "model_module": "@jupyter-widgets/base",
          "model_name": "LayoutModel",
          "state": {
            "_view_name": "LayoutView",
            "grid_template_rows": null,
            "right": null,
            "justify_content": null,
            "_view_module": "@jupyter-widgets/base",
            "overflow": null,
            "_model_module_version": "1.2.0",
            "_view_count": null,
            "flex_flow": null,
            "width": null,
            "min_width": null,
            "border": null,
            "align_items": null,
            "bottom": null,
            "_model_module": "@jupyter-widgets/base",
            "top": null,
            "grid_column": null,
            "overflow_y": null,
            "overflow_x": null,
            "grid_auto_flow": null,
            "grid_area": null,
            "grid_template_columns": null,
            "flex": null,
            "_model_name": "LayoutModel",
            "justify_items": null,
            "grid_row": null,
            "max_height": null,
            "align_content": null,
            "visibility": null,
            "align_self": null,
            "height": null,
            "min_height": null,
            "padding": null,
            "grid_auto_rows": null,
            "grid_gap": null,
            "max_width": null,
            "order": null,
            "_view_module_version": "1.2.0",
            "grid_template_areas": null,
            "object_position": null,
            "object_fit": null,
            "grid_auto_columns": null,
            "margin": null,
            "display": null,
            "left": null
          }
        },
        "872f3b41c9e645c9bb652662faf95558": {
          "model_module": "@jupyter-widgets/controls",
          "model_name": "LabelModel",
          "state": {
            "_view_name": "LabelView",
            "style": "IPY_MODEL_91b26fb64e3547de807e98203ac0cedd",
            "_dom_classes": [],
            "description": "",
            "_model_name": "LabelModel",
            "placeholder": "​",
            "_view_module": "@jupyter-widgets/controls",
            "_model_module_version": "1.5.0",
            "value": " 0.70MB of 0.70MB uploaded (0.00MB deduped)\r",
            "_view_count": null,
            "_view_module_version": "1.5.0",
            "description_tooltip": null,
            "_model_module": "@jupyter-widgets/controls",
            "layout": "IPY_MODEL_6a5b951f963d4ce2920f53e0f437fde9"
          }
        },
        "bae93024c6194551b99d6dc64256e61d": {
          "model_module": "@jupyter-widgets/controls",
          "model_name": "FloatProgressModel",
          "state": {
            "_view_name": "ProgressView",
            "style": "IPY_MODEL_0226b6a8b3f648889ccef8b860caa787",
            "_dom_classes": [],
            "description": "",
            "_model_name": "FloatProgressModel",
            "bar_style": "",
            "max": 1,
            "_view_module": "@jupyter-widgets/controls",
            "_model_module_version": "1.5.0",
            "value": 1,
            "_view_count": null,
            "_view_module_version": "1.5.0",
            "orientation": "horizontal",
            "min": 0,
            "description_tooltip": null,
            "_model_module": "@jupyter-widgets/controls",
            "layout": "IPY_MODEL_85c99d5be7554e678bca28a767f7f62e"
          }
        },
        "91b26fb64e3547de807e98203ac0cedd": {
          "model_module": "@jupyter-widgets/controls",
          "model_name": "DescriptionStyleModel",
          "state": {
            "_view_name": "StyleView",
            "_model_name": "DescriptionStyleModel",
            "description_width": "",
            "_view_module": "@jupyter-widgets/base",
            "_model_module_version": "1.5.0",
            "_view_count": null,
            "_view_module_version": "1.2.0",
            "_model_module": "@jupyter-widgets/controls"
          }
        },
        "6a5b951f963d4ce2920f53e0f437fde9": {
          "model_module": "@jupyter-widgets/base",
          "model_name": "LayoutModel",
          "state": {
            "_view_name": "LayoutView",
            "grid_template_rows": null,
            "right": null,
            "justify_content": null,
            "_view_module": "@jupyter-widgets/base",
            "overflow": null,
            "_model_module_version": "1.2.0",
            "_view_count": null,
            "flex_flow": null,
            "width": null,
            "min_width": null,
            "border": null,
            "align_items": null,
            "bottom": null,
            "_model_module": "@jupyter-widgets/base",
            "top": null,
            "grid_column": null,
            "overflow_y": null,
            "overflow_x": null,
            "grid_auto_flow": null,
            "grid_area": null,
            "grid_template_columns": null,
            "flex": null,
            "_model_name": "LayoutModel",
            "justify_items": null,
            "grid_row": null,
            "max_height": null,
            "align_content": null,
            "visibility": null,
            "align_self": null,
            "height": null,
            "min_height": null,
            "padding": null,
            "grid_auto_rows": null,
            "grid_gap": null,
            "max_width": null,
            "order": null,
            "_view_module_version": "1.2.0",
            "grid_template_areas": null,
            "object_position": null,
            "object_fit": null,
            "grid_auto_columns": null,
            "margin": null,
            "display": null,
            "left": null
          }
        },
        "0226b6a8b3f648889ccef8b860caa787": {
          "model_module": "@jupyter-widgets/controls",
          "model_name": "ProgressStyleModel",
          "state": {
            "_view_name": "StyleView",
            "_model_name": "ProgressStyleModel",
            "description_width": "",
            "_view_module": "@jupyter-widgets/base",
            "_model_module_version": "1.5.0",
            "_view_count": null,
            "_view_module_version": "1.2.0",
            "bar_color": null,
            "_model_module": "@jupyter-widgets/controls"
          }
        },
        "85c99d5be7554e678bca28a767f7f62e": {
          "model_module": "@jupyter-widgets/base",
          "model_name": "LayoutModel",
          "state": {
            "_view_name": "LayoutView",
            "grid_template_rows": null,
            "right": null,
            "justify_content": null,
            "_view_module": "@jupyter-widgets/base",
            "overflow": null,
            "_model_module_version": "1.2.0",
            "_view_count": null,
            "flex_flow": null,
            "width": null,
            "min_width": null,
            "border": null,
            "align_items": null,
            "bottom": null,
            "_model_module": "@jupyter-widgets/base",
            "top": null,
            "grid_column": null,
            "overflow_y": null,
            "overflow_x": null,
            "grid_auto_flow": null,
            "grid_area": null,
            "grid_template_columns": null,
            "flex": null,
            "_model_name": "LayoutModel",
            "justify_items": null,
            "grid_row": null,
            "max_height": null,
            "align_content": null,
            "visibility": null,
            "align_self": null,
            "height": null,
            "min_height": null,
            "padding": null,
            "grid_auto_rows": null,
            "grid_gap": null,
            "max_width": null,
            "order": null,
            "_view_module_version": "1.2.0",
            "grid_template_areas": null,
            "object_position": null,
            "object_fit": null,
            "grid_auto_columns": null,
            "margin": null,
            "display": null,
            "left": null
          }
        },
        "171d149ac30f4cdeba7047e48451133b": {
          "model_module": "@jupyter-widgets/controls",
          "model_name": "VBoxModel",
          "state": {
            "_view_name": "VBoxView",
            "_dom_classes": [],
            "_model_name": "VBoxModel",
            "_view_module": "@jupyter-widgets/controls",
            "_model_module_version": "1.5.0",
            "_view_count": null,
            "_view_module_version": "1.5.0",
            "box_style": "",
            "layout": "IPY_MODEL_5cdb8146e3754812bf9a3ccca6d3d285",
            "_model_module": "@jupyter-widgets/controls",
            "children": [
              "IPY_MODEL_eadbf446490c49d79c6a96949f9ac3a4",
              "IPY_MODEL_bf95b5d156e3489caccc14f02be63f5c"
            ]
          }
        },
        "5cdb8146e3754812bf9a3ccca6d3d285": {
          "model_module": "@jupyter-widgets/base",
          "model_name": "LayoutModel",
          "state": {
            "_view_name": "LayoutView",
            "grid_template_rows": null,
            "right": null,
            "justify_content": null,
            "_view_module": "@jupyter-widgets/base",
            "overflow": null,
            "_model_module_version": "1.2.0",
            "_view_count": null,
            "flex_flow": null,
            "width": null,
            "min_width": null,
            "border": null,
            "align_items": null,
            "bottom": null,
            "_model_module": "@jupyter-widgets/base",
            "top": null,
            "grid_column": null,
            "overflow_y": null,
            "overflow_x": null,
            "grid_auto_flow": null,
            "grid_area": null,
            "grid_template_columns": null,
            "flex": null,
            "_model_name": "LayoutModel",
            "justify_items": null,
            "grid_row": null,
            "max_height": null,
            "align_content": null,
            "visibility": null,
            "align_self": null,
            "height": null,
            "min_height": null,
            "padding": null,
            "grid_auto_rows": null,
            "grid_gap": null,
            "max_width": null,
            "order": null,
            "_view_module_version": "1.2.0",
            "grid_template_areas": null,
            "object_position": null,
            "object_fit": null,
            "grid_auto_columns": null,
            "margin": null,
            "display": null,
            "left": null
          }
        },
        "eadbf446490c49d79c6a96949f9ac3a4": {
          "model_module": "@jupyter-widgets/controls",
          "model_name": "LabelModel",
          "state": {
            "_view_name": "LabelView",
            "style": "IPY_MODEL_150a73ebe4074dd2950b1bc242b1f146",
            "_dom_classes": [],
            "description": "",
            "_model_name": "LabelModel",
            "placeholder": "​",
            "_view_module": "@jupyter-widgets/controls",
            "_model_module_version": "1.5.0",
            "value": " 0.87MB of 0.87MB uploaded (0.00MB deduped)\r",
            "_view_count": null,
            "_view_module_version": "1.5.0",
            "description_tooltip": null,
            "_model_module": "@jupyter-widgets/controls",
            "layout": "IPY_MODEL_4a65ef379bde4b7eb082bd0f3b92f9d5"
          }
        },
        "bf95b5d156e3489caccc14f02be63f5c": {
          "model_module": "@jupyter-widgets/controls",
          "model_name": "FloatProgressModel",
          "state": {
            "_view_name": "ProgressView",
            "style": "IPY_MODEL_8068a2089e4348b59d2f494571cb1d4a",
            "_dom_classes": [],
            "description": "",
            "_model_name": "FloatProgressModel",
            "bar_style": "",
            "max": 1,
            "_view_module": "@jupyter-widgets/controls",
            "_model_module_version": "1.5.0",
            "value": 1,
            "_view_count": null,
            "_view_module_version": "1.5.0",
            "orientation": "horizontal",
            "min": 0,
            "description_tooltip": null,
            "_model_module": "@jupyter-widgets/controls",
            "layout": "IPY_MODEL_86ed97a8f6d1491cb7b48fb3c0eb7a0c"
          }
        },
        "150a73ebe4074dd2950b1bc242b1f146": {
          "model_module": "@jupyter-widgets/controls",
          "model_name": "DescriptionStyleModel",
          "state": {
            "_view_name": "StyleView",
            "_model_name": "DescriptionStyleModel",
            "description_width": "",
            "_view_module": "@jupyter-widgets/base",
            "_model_module_version": "1.5.0",
            "_view_count": null,
            "_view_module_version": "1.2.0",
            "_model_module": "@jupyter-widgets/controls"
          }
        },
        "4a65ef379bde4b7eb082bd0f3b92f9d5": {
          "model_module": "@jupyter-widgets/base",
          "model_name": "LayoutModel",
          "state": {
            "_view_name": "LayoutView",
            "grid_template_rows": null,
            "right": null,
            "justify_content": null,
            "_view_module": "@jupyter-widgets/base",
            "overflow": null,
            "_model_module_version": "1.2.0",
            "_view_count": null,
            "flex_flow": null,
            "width": null,
            "min_width": null,
            "border": null,
            "align_items": null,
            "bottom": null,
            "_model_module": "@jupyter-widgets/base",
            "top": null,
            "grid_column": null,
            "overflow_y": null,
            "overflow_x": null,
            "grid_auto_flow": null,
            "grid_area": null,
            "grid_template_columns": null,
            "flex": null,
            "_model_name": "LayoutModel",
            "justify_items": null,
            "grid_row": null,
            "max_height": null,
            "align_content": null,
            "visibility": null,
            "align_self": null,
            "height": null,
            "min_height": null,
            "padding": null,
            "grid_auto_rows": null,
            "grid_gap": null,
            "max_width": null,
            "order": null,
            "_view_module_version": "1.2.0",
            "grid_template_areas": null,
            "object_position": null,
            "object_fit": null,
            "grid_auto_columns": null,
            "margin": null,
            "display": null,
            "left": null
          }
        },
        "8068a2089e4348b59d2f494571cb1d4a": {
          "model_module": "@jupyter-widgets/controls",
          "model_name": "ProgressStyleModel",
          "state": {
            "_view_name": "StyleView",
            "_model_name": "ProgressStyleModel",
            "description_width": "",
            "_view_module": "@jupyter-widgets/base",
            "_model_module_version": "1.5.0",
            "_view_count": null,
            "_view_module_version": "1.2.0",
            "bar_color": null,
            "_model_module": "@jupyter-widgets/controls"
          }
        },
        "86ed97a8f6d1491cb7b48fb3c0eb7a0c": {
          "model_module": "@jupyter-widgets/base",
          "model_name": "LayoutModel",
          "state": {
            "_view_name": "LayoutView",
            "grid_template_rows": null,
            "right": null,
            "justify_content": null,
            "_view_module": "@jupyter-widgets/base",
            "overflow": null,
            "_model_module_version": "1.2.0",
            "_view_count": null,
            "flex_flow": null,
            "width": null,
            "min_width": null,
            "border": null,
            "align_items": null,
            "bottom": null,
            "_model_module": "@jupyter-widgets/base",
            "top": null,
            "grid_column": null,
            "overflow_y": null,
            "overflow_x": null,
            "grid_auto_flow": null,
            "grid_area": null,
            "grid_template_columns": null,
            "flex": null,
            "_model_name": "LayoutModel",
            "justify_items": null,
            "grid_row": null,
            "max_height": null,
            "align_content": null,
            "visibility": null,
            "align_self": null,
            "height": null,
            "min_height": null,
            "padding": null,
            "grid_auto_rows": null,
            "grid_gap": null,
            "max_width": null,
            "order": null,
            "_view_module_version": "1.2.0",
            "grid_template_areas": null,
            "object_position": null,
            "object_fit": null,
            "grid_auto_columns": null,
            "margin": null,
            "display": null,
            "left": null
          }
        },
        "2c10583065f340e485ce69947fda08e9": {
          "model_module": "@jupyter-widgets/controls",
          "model_name": "VBoxModel",
          "state": {
            "_view_name": "VBoxView",
            "_dom_classes": [],
            "_model_name": "VBoxModel",
            "_view_module": "@jupyter-widgets/controls",
            "_model_module_version": "1.5.0",
            "_view_count": null,
            "_view_module_version": "1.5.0",
            "box_style": "",
            "layout": "IPY_MODEL_92fa186a66004cd69c40c2674a9d6e2b",
            "_model_module": "@jupyter-widgets/controls",
            "children": [
              "IPY_MODEL_6c4de4f41b354ef79213dbdec4750ced",
              "IPY_MODEL_9fb8234376364f61b4672b63dd3fa14c"
            ]
          }
        },
        "92fa186a66004cd69c40c2674a9d6e2b": {
          "model_module": "@jupyter-widgets/base",
          "model_name": "LayoutModel",
          "state": {
            "_view_name": "LayoutView",
            "grid_template_rows": null,
            "right": null,
            "justify_content": null,
            "_view_module": "@jupyter-widgets/base",
            "overflow": null,
            "_model_module_version": "1.2.0",
            "_view_count": null,
            "flex_flow": null,
            "width": null,
            "min_width": null,
            "border": null,
            "align_items": null,
            "bottom": null,
            "_model_module": "@jupyter-widgets/base",
            "top": null,
            "grid_column": null,
            "overflow_y": null,
            "overflow_x": null,
            "grid_auto_flow": null,
            "grid_area": null,
            "grid_template_columns": null,
            "flex": null,
            "_model_name": "LayoutModel",
            "justify_items": null,
            "grid_row": null,
            "max_height": null,
            "align_content": null,
            "visibility": null,
            "align_self": null,
            "height": null,
            "min_height": null,
            "padding": null,
            "grid_auto_rows": null,
            "grid_gap": null,
            "max_width": null,
            "order": null,
            "_view_module_version": "1.2.0",
            "grid_template_areas": null,
            "object_position": null,
            "object_fit": null,
            "grid_auto_columns": null,
            "margin": null,
            "display": null,
            "left": null
          }
        },
        "6c4de4f41b354ef79213dbdec4750ced": {
          "model_module": "@jupyter-widgets/controls",
          "model_name": "LabelModel",
          "state": {
            "_view_name": "LabelView",
            "style": "IPY_MODEL_e95c333f09e944788ed9e70feb1cfd3a",
            "_dom_classes": [],
            "description": "",
            "_model_name": "LabelModel",
            "placeholder": "​",
            "_view_module": "@jupyter-widgets/controls",
            "_model_module_version": "1.5.0",
            "value": " 0.74MB of 0.74MB uploaded (0.00MB deduped)\r",
            "_view_count": null,
            "_view_module_version": "1.5.0",
            "description_tooltip": null,
            "_model_module": "@jupyter-widgets/controls",
            "layout": "IPY_MODEL_e446e3dbcf7c49ccad6359e4a81ae3e0"
          }
        },
        "9fb8234376364f61b4672b63dd3fa14c": {
          "model_module": "@jupyter-widgets/controls",
          "model_name": "FloatProgressModel",
          "state": {
            "_view_name": "ProgressView",
            "style": "IPY_MODEL_4467202d99bf4d828225d5ae1d1e22c7",
            "_dom_classes": [],
            "description": "",
            "_model_name": "FloatProgressModel",
            "bar_style": "",
            "max": 1,
            "_view_module": "@jupyter-widgets/controls",
            "_model_module_version": "1.5.0",
            "value": 1,
            "_view_count": null,
            "_view_module_version": "1.5.0",
            "orientation": "horizontal",
            "min": 0,
            "description_tooltip": null,
            "_model_module": "@jupyter-widgets/controls",
            "layout": "IPY_MODEL_fbce20b399fd4bc3997ed01e24e3a101"
          }
        },
        "e95c333f09e944788ed9e70feb1cfd3a": {
          "model_module": "@jupyter-widgets/controls",
          "model_name": "DescriptionStyleModel",
          "state": {
            "_view_name": "StyleView",
            "_model_name": "DescriptionStyleModel",
            "description_width": "",
            "_view_module": "@jupyter-widgets/base",
            "_model_module_version": "1.5.0",
            "_view_count": null,
            "_view_module_version": "1.2.0",
            "_model_module": "@jupyter-widgets/controls"
          }
        },
        "e446e3dbcf7c49ccad6359e4a81ae3e0": {
          "model_module": "@jupyter-widgets/base",
          "model_name": "LayoutModel",
          "state": {
            "_view_name": "LayoutView",
            "grid_template_rows": null,
            "right": null,
            "justify_content": null,
            "_view_module": "@jupyter-widgets/base",
            "overflow": null,
            "_model_module_version": "1.2.0",
            "_view_count": null,
            "flex_flow": null,
            "width": null,
            "min_width": null,
            "border": null,
            "align_items": null,
            "bottom": null,
            "_model_module": "@jupyter-widgets/base",
            "top": null,
            "grid_column": null,
            "overflow_y": null,
            "overflow_x": null,
            "grid_auto_flow": null,
            "grid_area": null,
            "grid_template_columns": null,
            "flex": null,
            "_model_name": "LayoutModel",
            "justify_items": null,
            "grid_row": null,
            "max_height": null,
            "align_content": null,
            "visibility": null,
            "align_self": null,
            "height": null,
            "min_height": null,
            "padding": null,
            "grid_auto_rows": null,
            "grid_gap": null,
            "max_width": null,
            "order": null,
            "_view_module_version": "1.2.0",
            "grid_template_areas": null,
            "object_position": null,
            "object_fit": null,
            "grid_auto_columns": null,
            "margin": null,
            "display": null,
            "left": null
          }
        },
        "4467202d99bf4d828225d5ae1d1e22c7": {
          "model_module": "@jupyter-widgets/controls",
          "model_name": "ProgressStyleModel",
          "state": {
            "_view_name": "StyleView",
            "_model_name": "ProgressStyleModel",
            "description_width": "",
            "_view_module": "@jupyter-widgets/base",
            "_model_module_version": "1.5.0",
            "_view_count": null,
            "_view_module_version": "1.2.0",
            "bar_color": null,
            "_model_module": "@jupyter-widgets/controls"
          }
        },
        "fbce20b399fd4bc3997ed01e24e3a101": {
          "model_module": "@jupyter-widgets/base",
          "model_name": "LayoutModel",
          "state": {
            "_view_name": "LayoutView",
            "grid_template_rows": null,
            "right": null,
            "justify_content": null,
            "_view_module": "@jupyter-widgets/base",
            "overflow": null,
            "_model_module_version": "1.2.0",
            "_view_count": null,
            "flex_flow": null,
            "width": null,
            "min_width": null,
            "border": null,
            "align_items": null,
            "bottom": null,
            "_model_module": "@jupyter-widgets/base",
            "top": null,
            "grid_column": null,
            "overflow_y": null,
            "overflow_x": null,
            "grid_auto_flow": null,
            "grid_area": null,
            "grid_template_columns": null,
            "flex": null,
            "_model_name": "LayoutModel",
            "justify_items": null,
            "grid_row": null,
            "max_height": null,
            "align_content": null,
            "visibility": null,
            "align_self": null,
            "height": null,
            "min_height": null,
            "padding": null,
            "grid_auto_rows": null,
            "grid_gap": null,
            "max_width": null,
            "order": null,
            "_view_module_version": "1.2.0",
            "grid_template_areas": null,
            "object_position": null,
            "object_fit": null,
            "grid_auto_columns": null,
            "margin": null,
            "display": null,
            "left": null
          }
        },
        "5b25ad271099435b8ca670b7894e2f31": {
          "model_module": "@jupyter-widgets/controls",
          "model_name": "VBoxModel",
          "state": {
            "_view_name": "VBoxView",
            "_dom_classes": [],
            "_model_name": "VBoxModel",
            "_view_module": "@jupyter-widgets/controls",
            "_model_module_version": "1.5.0",
            "_view_count": null,
            "_view_module_version": "1.5.0",
            "box_style": "",
            "layout": "IPY_MODEL_e8e575dd846b429a9bcb7db8de7c5339",
            "_model_module": "@jupyter-widgets/controls",
            "children": [
              "IPY_MODEL_2ffa6bf516974e7e89361cbb38e56270",
              "IPY_MODEL_6e6861124355440dafb7bc94a899deb8"
            ]
          }
        },
        "e8e575dd846b429a9bcb7db8de7c5339": {
          "model_module": "@jupyter-widgets/base",
          "model_name": "LayoutModel",
          "state": {
            "_view_name": "LayoutView",
            "grid_template_rows": null,
            "right": null,
            "justify_content": null,
            "_view_module": "@jupyter-widgets/base",
            "overflow": null,
            "_model_module_version": "1.2.0",
            "_view_count": null,
            "flex_flow": null,
            "width": null,
            "min_width": null,
            "border": null,
            "align_items": null,
            "bottom": null,
            "_model_module": "@jupyter-widgets/base",
            "top": null,
            "grid_column": null,
            "overflow_y": null,
            "overflow_x": null,
            "grid_auto_flow": null,
            "grid_area": null,
            "grid_template_columns": null,
            "flex": null,
            "_model_name": "LayoutModel",
            "justify_items": null,
            "grid_row": null,
            "max_height": null,
            "align_content": null,
            "visibility": null,
            "align_self": null,
            "height": null,
            "min_height": null,
            "padding": null,
            "grid_auto_rows": null,
            "grid_gap": null,
            "max_width": null,
            "order": null,
            "_view_module_version": "1.2.0",
            "grid_template_areas": null,
            "object_position": null,
            "object_fit": null,
            "grid_auto_columns": null,
            "margin": null,
            "display": null,
            "left": null
          }
        },
        "2ffa6bf516974e7e89361cbb38e56270": {
          "model_module": "@jupyter-widgets/controls",
          "model_name": "LabelModel",
          "state": {
            "_view_name": "LabelView",
            "style": "IPY_MODEL_4cd15f2057a34ccd91561176de69bff9",
            "_dom_classes": [],
            "description": "",
            "_model_name": "LabelModel",
            "placeholder": "​",
            "_view_module": "@jupyter-widgets/controls",
            "_model_module_version": "1.5.0",
            "value": " 0.92MB of 0.92MB uploaded (0.00MB deduped)\r",
            "_view_count": null,
            "_view_module_version": "1.5.0",
            "description_tooltip": null,
            "_model_module": "@jupyter-widgets/controls",
            "layout": "IPY_MODEL_b287d311d59d4106a4d1b27c5267bace"
          }
        },
        "6e6861124355440dafb7bc94a899deb8": {
          "model_module": "@jupyter-widgets/controls",
          "model_name": "FloatProgressModel",
          "state": {
            "_view_name": "ProgressView",
            "style": "IPY_MODEL_d4c8a2cbccd643fa8ae33c99cc42befb",
            "_dom_classes": [],
            "description": "",
            "_model_name": "FloatProgressModel",
            "bar_style": "",
            "max": 1,
            "_view_module": "@jupyter-widgets/controls",
            "_model_module_version": "1.5.0",
            "value": 1,
            "_view_count": null,
            "_view_module_version": "1.5.0",
            "orientation": "horizontal",
            "min": 0,
            "description_tooltip": null,
            "_model_module": "@jupyter-widgets/controls",
            "layout": "IPY_MODEL_d9f6508d43e14462befea2b8872813cd"
          }
        },
        "4cd15f2057a34ccd91561176de69bff9": {
          "model_module": "@jupyter-widgets/controls",
          "model_name": "DescriptionStyleModel",
          "state": {
            "_view_name": "StyleView",
            "_model_name": "DescriptionStyleModel",
            "description_width": "",
            "_view_module": "@jupyter-widgets/base",
            "_model_module_version": "1.5.0",
            "_view_count": null,
            "_view_module_version": "1.2.0",
            "_model_module": "@jupyter-widgets/controls"
          }
        },
        "b287d311d59d4106a4d1b27c5267bace": {
          "model_module": "@jupyter-widgets/base",
          "model_name": "LayoutModel",
          "state": {
            "_view_name": "LayoutView",
            "grid_template_rows": null,
            "right": null,
            "justify_content": null,
            "_view_module": "@jupyter-widgets/base",
            "overflow": null,
            "_model_module_version": "1.2.0",
            "_view_count": null,
            "flex_flow": null,
            "width": null,
            "min_width": null,
            "border": null,
            "align_items": null,
            "bottom": null,
            "_model_module": "@jupyter-widgets/base",
            "top": null,
            "grid_column": null,
            "overflow_y": null,
            "overflow_x": null,
            "grid_auto_flow": null,
            "grid_area": null,
            "grid_template_columns": null,
            "flex": null,
            "_model_name": "LayoutModel",
            "justify_items": null,
            "grid_row": null,
            "max_height": null,
            "align_content": null,
            "visibility": null,
            "align_self": null,
            "height": null,
            "min_height": null,
            "padding": null,
            "grid_auto_rows": null,
            "grid_gap": null,
            "max_width": null,
            "order": null,
            "_view_module_version": "1.2.0",
            "grid_template_areas": null,
            "object_position": null,
            "object_fit": null,
            "grid_auto_columns": null,
            "margin": null,
            "display": null,
            "left": null
          }
        },
        "d4c8a2cbccd643fa8ae33c99cc42befb": {
          "model_module": "@jupyter-widgets/controls",
          "model_name": "ProgressStyleModel",
          "state": {
            "_view_name": "StyleView",
            "_model_name": "ProgressStyleModel",
            "description_width": "",
            "_view_module": "@jupyter-widgets/base",
            "_model_module_version": "1.5.0",
            "_view_count": null,
            "_view_module_version": "1.2.0",
            "bar_color": null,
            "_model_module": "@jupyter-widgets/controls"
          }
        },
        "d9f6508d43e14462befea2b8872813cd": {
          "model_module": "@jupyter-widgets/base",
          "model_name": "LayoutModel",
          "state": {
            "_view_name": "LayoutView",
            "grid_template_rows": null,
            "right": null,
            "justify_content": null,
            "_view_module": "@jupyter-widgets/base",
            "overflow": null,
            "_model_module_version": "1.2.0",
            "_view_count": null,
            "flex_flow": null,
            "width": null,
            "min_width": null,
            "border": null,
            "align_items": null,
            "bottom": null,
            "_model_module": "@jupyter-widgets/base",
            "top": null,
            "grid_column": null,
            "overflow_y": null,
            "overflow_x": null,
            "grid_auto_flow": null,
            "grid_area": null,
            "grid_template_columns": null,
            "flex": null,
            "_model_name": "LayoutModel",
            "justify_items": null,
            "grid_row": null,
            "max_height": null,
            "align_content": null,
            "visibility": null,
            "align_self": null,
            "height": null,
            "min_height": null,
            "padding": null,
            "grid_auto_rows": null,
            "grid_gap": null,
            "max_width": null,
            "order": null,
            "_view_module_version": "1.2.0",
            "grid_template_areas": null,
            "object_position": null,
            "object_fit": null,
            "grid_auto_columns": null,
            "margin": null,
            "display": null,
            "left": null
          }
        }
      }
    }
  },
  "cells": [
    {
      "cell_type": "markdown",
      "metadata": {
        "id": "view-in-github",
        "colab_type": "text"
      },
      "source": [
        "<a href=\"https://colab.research.google.com/github/acse-2020/acse2020-acse9-finalreport-acse-jaq15/blob/main/notebooks/LSTM_GRU/LSTM_GRU_Gilt10y.ipynb\" target=\"_parent\"><img src=\"https://colab.research.google.com/assets/colab-badge.svg\" alt=\"Open In Colab\"/></a>"
      ]
    },
    {
      "cell_type": "markdown",
      "metadata": {
        "id": "z5F7GfFTgUo3"
      },
      "source": [
        "# Imports\n",
        "\n",
        "The cells below handle all the necessary imports to run our models, making use of the public repo feeder_repo, linked <!-- [Text](link) -->\n",
        "[here](https://github.com/acse-jaq15/feeder_repo)."
      ]
    },
    {
      "cell_type": "code",
      "metadata": {
        "id": "HWy9Ay1SGzWa",
        "colab": {
          "base_uri": "https://localhost:8080/"
        },
        "outputId": "de717c35-b63f-4f20-d836-59e8144a0e67"
      },
      "source": [
        "# clone the feeder repo to get data_reader module and financial time series data\n",
        "!git clone https://github.com/acse-jaq15/feeder_repo.git"
      ],
      "execution_count": 1,
      "outputs": [
        {
          "output_type": "stream",
          "text": [
            "Cloning into 'feeder_repo'...\n",
            "remote: Enumerating objects: 147, done.\u001b[K\n",
            "remote: Counting objects: 100% (147/147), done.\u001b[K\n",
            "remote: Compressing objects: 100% (142/142), done.\u001b[K\n",
            "remote: Total 147 (delta 71), reused 6 (delta 2), pack-reused 0\u001b[K\n",
            "Receiving objects: 100% (147/147), 120.19 KiB | 5.72 MiB/s, done.\n",
            "Resolving deltas: 100% (71/71), done.\n"
          ],
          "name": "stdout"
        }
      ]
    },
    {
      "cell_type": "code",
      "metadata": {
        "id": "ChlUNYaiHGM2",
        "colab": {
          "base_uri": "https://localhost:8080/"
        },
        "outputId": "662cfa58-66de-494b-bd10-51c843353368"
      },
      "source": [
        "# using '%' to enforce a permanent change of directory\n",
        "%cd feeder_repo/"
      ],
      "execution_count": 2,
      "outputs": [
        {
          "output_type": "stream",
          "text": [
            "/content/feeder_repo\n"
          ],
          "name": "stdout"
        }
      ]
    },
    {
      "cell_type": "code",
      "metadata": {
        "id": "saD-jpvPIfZ8",
        "colab": {
          "base_uri": "https://localhost:8080/"
        },
        "outputId": "4e4878b4-de8c-4a51-ce2e-29297a583a2c"
      },
      "source": [
        "# checking contents listed correctly, should read:\n",
        "# baseline_model.py data data_reader.py LICENSE README.md security_plotter.py\n",
        "!ls"
      ],
      "execution_count": 3,
      "outputs": [
        {
          "output_type": "stream",
          "text": [
            "base_model.py  data  data_reader.py  LICENSE  README.md  security_plotter.py\n"
          ],
          "name": "stdout"
        }
      ]
    },
    {
      "cell_type": "code",
      "metadata": {
        "id": "fRqkwo6kZUz_"
      },
      "source": [
        "import math\n",
        "import sys\n",
        "import keras\n",
        "import os\n",
        "import matplotlib.dates as mdates\n",
        "import matplotlib.pyplot as plt\n",
        "import pandas as pd\n",
        "import numpy as np\n",
        "from keras.models import Sequential\n",
        "from keras.layers import Dense\n",
        "from keras.layers import LSTM\n",
        "from keras.layers import GRU\n",
        "from keras.layers import Dropout\n",
        "from keras.layers import *\n",
        "from keras.utils.layer_utils import count_params\n",
        "from keras.utils.vis_utils import plot_model\n",
        "from sklearn.preprocessing import MinMaxScaler\n",
        "from sklearn.metrics import mean_squared_error\n",
        "from sklearn.metrics import mean_absolute_error\n",
        "from sklearn.model_selection import train_test_split\n",
        "from keras.callbacks import EarlyStopping, Callback\n",
        "from keras.optimizers import RMSprop, SGD, Adam, Nadam\n",
        "from keras.initializers import random_normal"
      ],
      "execution_count": 4,
      "outputs": []
    },
    {
      "cell_type": "code",
      "metadata": {
        "id": "hzVhwND1HAlw"
      },
      "source": [
        "# appending path with 'feeder_repo' string\n",
        "sys.path.append('feeder_repo')\n",
        "\n",
        "# import Data_Reader class from data_reader module\n",
        "from feeder_repo.data_reader import Data_Reader\n",
        "# import Baseline_Model class from base_model module\n",
        "from feeder_repo.base_model import Base_Model\n",
        "# import Security_Plotter class from security_plotter module\n",
        "from feeder_repo.security_plotter import Security_Plotter"
      ],
      "execution_count": 5,
      "outputs": []
    },
    {
      "cell_type": "code",
      "metadata": {
        "colab": {
          "base_uri": "https://localhost:8080/"
        },
        "id": "6-tNDlXuhiCU",
        "outputId": "bb2dd06d-99a9-494b-f3ab-cb1e526d5750"
      },
      "source": [
        "# checking if the notebook is running on a GPU\n",
        "gpu_info = !nvidia-smi\n",
        "gpu_info = '\\n'.join(gpu_info)\n",
        "if gpu_info.find('failed') >= 0:\n",
        "    print('Select the Runtime > \"Change runtime type\" menu to enable a GPU accelerator, ')\n",
        "    print('and then re-execute this cell.')\n",
        "else:\n",
        "    print(gpu_info)"
      ],
      "execution_count": 6,
      "outputs": [
        {
          "output_type": "stream",
          "text": [
            "Mon Jul 19 10:42:47 2021       \n",
            "+-----------------------------------------------------------------------------+\n",
            "| NVIDIA-SMI 470.42.01    Driver Version: 460.32.03    CUDA Version: 11.2     |\n",
            "|-------------------------------+----------------------+----------------------+\n",
            "| GPU  Name        Persistence-M| Bus-Id        Disp.A | Volatile Uncorr. ECC |\n",
            "| Fan  Temp  Perf  Pwr:Usage/Cap|         Memory-Usage | GPU-Util  Compute M. |\n",
            "|                               |                      |               MIG M. |\n",
            "|===============================+======================+======================|\n",
            "|   0  Tesla P100-PCIE...  Off  | 00000000:00:04.0 Off |                    0 |\n",
            "| N/A   37C    P0    27W / 250W |      0MiB / 16280MiB |      0%      Default |\n",
            "|                               |                      |                  N/A |\n",
            "+-------------------------------+----------------------+----------------------+\n",
            "                                                                               \n",
            "+-----------------------------------------------------------------------------+\n",
            "| Processes:                                                                  |\n",
            "|  GPU   GI   CI        PID   Type   Process name                  GPU Memory |\n",
            "|        ID   ID                                                   Usage      |\n",
            "|=============================================================================|\n",
            "|  No running processes found                                                 |\n",
            "+-----------------------------------------------------------------------------+\n"
          ],
          "name": "stdout"
        }
      ]
    },
    {
      "cell_type": "markdown",
      "metadata": {
        "id": "WB9wD4Aahs8_"
      },
      "source": [
        "# Handling the data\n",
        "Here the Data_Reader class is used to read the time series data and extract training, test and validation sets, along with the relevant X and y values."
      ]
    },
    {
      "cell_type": "code",
      "metadata": {
        "id": "vBlKerL-c4-3"
      },
      "source": [
        "# storing the file to be read as a string\n",
        "in_str = 'Gilt10y'\n",
        "# storing the year of the time series to be used as test data\n",
        "in_yr = 2019\n",
        "# creating a variable to store the model name\n",
        "model_str = 'LSTM_GRU'\n",
        "# setting our window_length to be 30 days\n",
        "window_len = 30"
      ],
      "execution_count": 7,
      "outputs": []
    },
    {
      "cell_type": "code",
      "metadata": {
        "id": "hfQJbuBk0vW0"
      },
      "source": [
        "# creating an instance of Data_Reader class\n",
        "in_data = Data_Reader(in_str, in_yr)\n",
        "# calling class method extract_train_test to generate training and test datasets\n",
        "in_data.extract_train_test()\n",
        "# calling class method extract_xy to generate X and y training and test datasets\n",
        "in_data.extract_xy(window_len)\n",
        "\n",
        "# assigning X_train and y_train\n",
        "X_train = in_data.X_train\n",
        "y_train = in_data.y_train\n",
        "\n",
        "# assigning X_test and y_test\n",
        "X_test = in_data.X_test\n",
        "y_test = in_data.y_test\n",
        "\n",
        "# assigning X_val_train and y_val_train\n",
        "X_val_train = in_data.X_val_train\n",
        "y_val_train = in_data.y_val_train\n",
        "\n",
        "# assigning X_val_test and y_val_test\n",
        "X_val_test = in_data.X_val_test\n",
        "y_val_test = in_data.y_val_test"
      ],
      "execution_count": 8,
      "outputs": []
    },
    {
      "cell_type": "markdown",
      "metadata": {
        "id": "X53Fp1Gwh88_"
      },
      "source": [
        "# Setting up wandb itegration\n",
        "Here wandb is used to perform hyperparameter tuning."
      ]
    },
    {
      "cell_type": "code",
      "metadata": {
        "colab": {
          "base_uri": "https://localhost:8080/"
        },
        "id": "aE6cdrSDiHhq",
        "outputId": "88b01e30-b583-40a9-d1c8-669ff83e039d"
      },
      "source": [
        "# installing the wandb library and importing\n",
        "%pip install wandb -q\n",
        "import wandb\n",
        "from wandb.keras import WandbCallback"
      ],
      "execution_count": 9,
      "outputs": [
        {
          "output_type": "stream",
          "text": [
            "\u001b[K     |████████████████████████████████| 1.8MB 8.1MB/s \n",
            "\u001b[K     |████████████████████████████████| 174kB 54.4MB/s \n",
            "\u001b[K     |████████████████████████████████| 143kB 58.5MB/s \n",
            "\u001b[K     |████████████████████████████████| 143kB 57.8MB/s \n",
            "\u001b[K     |████████████████████████████████| 102kB 13.8MB/s \n",
            "\u001b[K     |████████████████████████████████| 71kB 9.3MB/s \n",
            "\u001b[?25h  Building wheel for pathtools (setup.py) ... \u001b[?25l\u001b[?25hdone\n",
            "  Building wheel for subprocess32 (setup.py) ... \u001b[?25l\u001b[?25hdone\n",
            "\u001b[31mERROR: requests 2.23.0 has requirement urllib3!=1.25.0,!=1.25.1,<1.26,>=1.21.1, but you'll have urllib3 1.26.6 which is incompatible.\u001b[0m\n",
            "\u001b[31mERROR: datascience 0.10.6 has requirement folium==0.2.1, but you'll have folium 0.8.3 which is incompatible.\u001b[0m\n"
          ],
          "name": "stdout"
        }
      ]
    },
    {
      "cell_type": "code",
      "metadata": {
        "id": "pbgZaoQDiIKX"
      },
      "source": [
        "!pip install wandb -qq"
      ],
      "execution_count": 10,
      "outputs": []
    },
    {
      "cell_type": "code",
      "metadata": {
        "colab": {
          "base_uri": "https://localhost:8080/"
        },
        "id": "1WHkW0XyiKVL",
        "outputId": "e7560b59-e6ee-40ef-c00a-4d293f836139"
      },
      "source": [
        "# logging in so the hyperparameter tunings sweeps can be saved\n",
        "!wandb login"
      ],
      "execution_count": 11,
      "outputs": [
        {
          "output_type": "stream",
          "text": [
            "/usr/local/lib/python3.7/dist-packages/requests/__init__.py:91: RequestsDependencyWarning: urllib3 (1.26.6) or chardet (3.0.4) doesn't match a supported version!\n",
            "  RequestsDependencyWarning)\n",
            "\u001b[34m\u001b[1mwandb\u001b[0m: You can find your API key in your browser here: https://wandb.ai/authorize\n",
            "\u001b[34m\u001b[1mwandb\u001b[0m: Paste an API key from your profile and hit enter: \n",
            "\u001b[34m\u001b[1mwandb\u001b[0m: Appending key for api.wandb.ai to your netrc file: /root/.netrc\n"
          ],
          "name": "stdout"
        }
      ]
    },
    {
      "cell_type": "code",
      "metadata": {
        "id": "j91IBGuSid5w"
      },
      "source": [
        "# configuring the sweep, making use of a random search methodology\n",
        "sweep_config = {\n",
        "    'method': 'random', #grid, random\n",
        "    'metric': {\n",
        "      'name': 'mse',\n",
        "      'goal': 'minimize'   \n",
        "    },\n",
        "    'parameters': {\n",
        "        'epochs': {\n",
        "            'values': [50, 100, 200]\n",
        "        },\n",
        "        'batch_size': {\n",
        "            'values': [128, 64, 32]\n",
        "        },\n",
        "        'learning_rate': {\n",
        "            'values': [0.005, 0.001, 0.0005]\n",
        "        },\n",
        "        'dropout': {\n",
        "            'values': [0.1, 0.2, 0.3]\n",
        "        },\n",
        "        'optimizer': {\n",
        "            'values': ['adam', 'nadam', 'rmsprop']\n",
        "        },\n",
        "        'activation': {\n",
        "            'values': ['tanh', 'relu', 'selu']\n",
        "        }\n",
        "    }\n",
        "}"
      ],
      "execution_count": 12,
      "outputs": []
    },
    {
      "cell_type": "code",
      "metadata": {
        "id": "V0Sr9HsorH4E"
      },
      "source": [
        "# wandb calls this training function to run through the hyperparameter search\n",
        "def train():\n",
        "    # default values for searching\n",
        "    config_defaults = {\n",
        "        'epochs': 100,\n",
        "        'batch_size': 32,\n",
        "        'learning_rate': 0.005,\n",
        "        'optimizer': 'adam',\n",
        "        'activation': 'tanh',\n",
        "        'momentum': 0.9,\n",
        "        'seed': 42\n",
        "    }\n",
        "\n",
        "    # Initialize a new wandb run\n",
        "    wandb.init(config=config_defaults)\n",
        "    \n",
        "    # Config is a variable that holds and saves hyperparameters and inputs\n",
        "    config = wandb.config\n",
        "\n",
        "    # setting keras model to sequential mode\n",
        "    model = Sequential()\n",
        "\n",
        "    # layer 1\n",
        "    model.add(LSTM(units=64, activation=config.activation, return_sequences=True, input_shape=(window_len, 1)))\n",
        "    model.add(Dropout(config.dropout))\n",
        "    # layer 2\n",
        "    model.add(GRU(units=64, activation=config.activation))\n",
        "    model.add(Dropout(0.1))\n",
        "    # layer 3\n",
        "    model.add(Dense(1))\n",
        "\n",
        "    # Define the optimizer\n",
        "    if config.optimizer=='sgd':\n",
        "      optimizer = SGD(learning_rate=config.learning_rate, decay=1e-5, momentum=config.momentum, nesterov=True)\n",
        "    elif config.optimizer=='rmsprop':\n",
        "      optimizer = RMSprop(learning_rate=config.learning_rate, decay=1e-5)\n",
        "    elif config.optimizer=='adam':\n",
        "      optimizer = Adam(learning_rate=config.learning_rate, beta_1=0.9, beta_2=0.999, clipnorm=1.0)\n",
        "    elif config.optimizer=='nadam':\n",
        "      optimizer = Nadam(learning_rate=config.learning_rate, beta_1=0.9, beta_2=0.999, clipnorm=1.0)\n",
        "\n",
        "    model.compile(loss = \"mean_squared_error\", optimizer=optimizer, metrics=['mean_squared_error', 'mean_absolute_error'])\n",
        "\n",
        "    model.fit(X_val_train, y_val_train, batch_size=config.batch_size,\n",
        "              epochs=config.epochs,\n",
        "              validation_data=(X_val_test, y_val_test),\n",
        "              callbacks=[WandbCallback(validation_data=(X_val_test, y_val_test)),\n",
        "                          EarlyStopping(patience=10, restore_best_weights=True)])"
      ],
      "execution_count": 13,
      "outputs": []
    },
    {
      "cell_type": "code",
      "metadata": {
        "colab": {
          "base_uri": "https://localhost:8080/"
        },
        "id": "JwZO6oAFU1LN",
        "outputId": "58304197-fab7-4964-fc0c-812da9ff9c10"
      },
      "source": [
        "# setting up our sweep_id\n",
        "sweep_id = wandb.sweep(sweep_config, project='ACSE_9_'+model_str)"
      ],
      "execution_count": 14,
      "outputs": [
        {
          "output_type": "stream",
          "text": [
            "Create sweep with ID: hgiundb1\n",
            "Sweep URL: https://wandb.ai/acse-jaq15/ACSE_9_LSTM_GRU/sweeps/hgiundb1\n"
          ],
          "name": "stdout"
        }
      ]
    },
    {
      "cell_type": "code",
      "metadata": {
        "colab": {
          "base_uri": "https://localhost:8080/",
          "height": 1000,
          "referenced_widgets": [
            "33e21649d89e44f49ac5128586c12e00",
            "a66790e497a94be986567dc92b5c960d",
            "ce732c8fb93a4b3592a6c1eb9fb2b5e2",
            "74b8766c1d6144589d5ab23d70cd985b",
            "d6d2e7b4b858479bb43a60d97dc687de",
            "88c45d69fe6146c08c719f8ca7c6cc9a",
            "e8bc5565230b4a218674b384e87cc30d",
            "5ed9623aa025450f9d3422f431a3ceba",
            "7df589f4c1e24797a3f2d1c8ed2f04ae",
            "54a928271f69468aae6b500886369303",
            "f03ea0a9857c464db44d3ddc36353c98",
            "9b6a106fd9c74646b9f702cce33d4f4f",
            "d7f8181589b349f0b6ee043280635fa0",
            "e4ab243110d94929befee76c986fde9f",
            "f3a2a79ead0c4205b3608c7ee7948d0d",
            "9fd0c6e19b3c4af1958219b977dbef80",
            "32f532795c04415482ec5197e5ba5f60",
            "8055e092a4fb4eb5b8d85bb492179c1e",
            "872f3b41c9e645c9bb652662faf95558",
            "bae93024c6194551b99d6dc64256e61d",
            "91b26fb64e3547de807e98203ac0cedd",
            "6a5b951f963d4ce2920f53e0f437fde9",
            "0226b6a8b3f648889ccef8b860caa787",
            "85c99d5be7554e678bca28a767f7f62e",
            "171d149ac30f4cdeba7047e48451133b",
            "5cdb8146e3754812bf9a3ccca6d3d285",
            "eadbf446490c49d79c6a96949f9ac3a4",
            "bf95b5d156e3489caccc14f02be63f5c",
            "150a73ebe4074dd2950b1bc242b1f146",
            "4a65ef379bde4b7eb082bd0f3b92f9d5",
            "8068a2089e4348b59d2f494571cb1d4a",
            "86ed97a8f6d1491cb7b48fb3c0eb7a0c",
            "2c10583065f340e485ce69947fda08e9",
            "92fa186a66004cd69c40c2674a9d6e2b",
            "6c4de4f41b354ef79213dbdec4750ced",
            "9fb8234376364f61b4672b63dd3fa14c",
            "e95c333f09e944788ed9e70feb1cfd3a",
            "e446e3dbcf7c49ccad6359e4a81ae3e0",
            "4467202d99bf4d828225d5ae1d1e22c7",
            "fbce20b399fd4bc3997ed01e24e3a101",
            "5b25ad271099435b8ca670b7894e2f31",
            "e8e575dd846b429a9bcb7db8de7c5339",
            "2ffa6bf516974e7e89361cbb38e56270",
            "6e6861124355440dafb7bc94a899deb8",
            "4cd15f2057a34ccd91561176de69bff9",
            "b287d311d59d4106a4d1b27c5267bace",
            "d4c8a2cbccd643fa8ae33c99cc42befb",
            "d9f6508d43e14462befea2b8872813cd"
          ]
        },
        "id": "ZfSCGWfluFw0",
        "outputId": "367515cf-40f5-48ae-f0cd-5d9872e1aed4"
      },
      "source": [
        "# initialising a new sweep\n",
        "wandb.agent(sweep_id, train, project='ACSE_9_'+model_str)"
      ],
      "execution_count": 16,
      "outputs": [
        {
          "output_type": "stream",
          "text": [
            "\u001b[34m\u001b[1mwandb\u001b[0m: Agent Starting Run: lexlw7n5 with config:\n",
            "\u001b[34m\u001b[1mwandb\u001b[0m: \tactivation: tanh\n",
            "\u001b[34m\u001b[1mwandb\u001b[0m: \tbatch_size: 128\n",
            "\u001b[34m\u001b[1mwandb\u001b[0m: \tdropout: 0.1\n",
            "\u001b[34m\u001b[1mwandb\u001b[0m: \tepochs: 200\n",
            "\u001b[34m\u001b[1mwandb\u001b[0m: \tlearning_rate: 0.0005\n",
            "\u001b[34m\u001b[1mwandb\u001b[0m: \toptimizer: nadam\n"
          ],
          "name": "stderr"
        },
        {
          "output_type": "display_data",
          "data": {
            "text/html": [
              "\n",
              "                Tracking run with wandb version 0.11.0<br/>\n",
              "                Syncing run <strong style=\"color:#cdcd00\">solar-sweep-19</strong> to <a href=\"https://wandb.ai\" target=\"_blank\">Weights & Biases</a> <a href=\"https://docs.wandb.com/integrations/jupyter.html\" target=\"_blank\">(Documentation)</a>.<br/>\n",
              "                Project page: <a href=\"https://wandb.ai/acse-jaq15/ACSE_9_LSTM_GRU\" target=\"_blank\">https://wandb.ai/acse-jaq15/ACSE_9_LSTM_GRU</a><br/>\n",
              "                Sweep page: <a href=\"https://wandb.ai/acse-jaq15/ACSE_9_LSTM_GRU/sweeps/hgiundb1\" target=\"_blank\">https://wandb.ai/acse-jaq15/ACSE_9_LSTM_GRU/sweeps/hgiundb1</a><br/>\n",
              "Run page: <a href=\"https://wandb.ai/acse-jaq15/ACSE_9_LSTM_GRU/runs/lexlw7n5\" target=\"_blank\">https://wandb.ai/acse-jaq15/ACSE_9_LSTM_GRU/runs/lexlw7n5</a><br/>\n",
              "                Run data is saved locally in <code>/content/feeder_repo/wandb/run-20210718_210631-lexlw7n5</code><br/><br/>\n",
              "            "
            ],
            "text/plain": [
              "<IPython.core.display.HTML object>"
            ]
          },
          "metadata": {
            "tags": []
          }
        },
        {
          "output_type": "stream",
          "text": [
            "Epoch 1/200\n",
            "8/8 [==============================] - 7s 189ms/step - loss: 0.2034 - mean_squared_error: 0.2034 - mean_absolute_error: 0.4006 - val_loss: 0.0768 - val_mean_squared_error: 0.0768 - val_mean_absolute_error: 0.2231\n",
            "Epoch 2/200\n",
            "8/8 [==============================] - 0s 19ms/step - loss: 0.0542 - mean_squared_error: 0.0542 - mean_absolute_error: 0.1857 - val_loss: 0.0221 - val_mean_squared_error: 0.0221 - val_mean_absolute_error: 0.1242\n",
            "Epoch 3/200\n",
            "8/8 [==============================] - 0s 18ms/step - loss: 0.0068 - mean_squared_error: 0.0068 - mean_absolute_error: 0.0686 - val_loss: 0.0221 - val_mean_squared_error: 0.0221 - val_mean_absolute_error: 0.1243\n",
            "Epoch 4/200\n",
            "8/8 [==============================] - 0s 17ms/step - loss: 0.0057 - mean_squared_error: 0.0057 - mean_absolute_error: 0.0628 - val_loss: 0.0201 - val_mean_squared_error: 0.0201 - val_mean_absolute_error: 0.1169\n",
            "Epoch 5/200\n",
            "8/8 [==============================] - 0s 21ms/step - loss: 0.0045 - mean_squared_error: 0.0045 - mean_absolute_error: 0.0543 - val_loss: 0.0195 - val_mean_squared_error: 0.0195 - val_mean_absolute_error: 0.1140\n",
            "Epoch 6/200\n",
            "8/8 [==============================] - 0s 20ms/step - loss: 0.0039 - mean_squared_error: 0.0039 - mean_absolute_error: 0.0498 - val_loss: 0.0194 - val_mean_squared_error: 0.0194 - val_mean_absolute_error: 0.1133\n",
            "Epoch 7/200\n",
            "8/8 [==============================] - 0s 19ms/step - loss: 0.0034 - mean_squared_error: 0.0034 - mean_absolute_error: 0.0468 - val_loss: 0.0191 - val_mean_squared_error: 0.0191 - val_mean_absolute_error: 0.1116\n",
            "Epoch 8/200\n",
            "8/8 [==============================] - 0s 20ms/step - loss: 0.0031 - mean_squared_error: 0.0031 - mean_absolute_error: 0.0441 - val_loss: 0.0191 - val_mean_squared_error: 0.0191 - val_mean_absolute_error: 0.1108\n",
            "Epoch 9/200\n",
            "8/8 [==============================] - 0s 19ms/step - loss: 0.0025 - mean_squared_error: 0.0025 - mean_absolute_error: 0.0404 - val_loss: 0.0188 - val_mean_squared_error: 0.0188 - val_mean_absolute_error: 0.1089\n",
            "Epoch 10/200\n",
            "8/8 [==============================] - 0s 19ms/step - loss: 0.0028 - mean_squared_error: 0.0028 - mean_absolute_error: 0.0416 - val_loss: 0.0190 - val_mean_squared_error: 0.0190 - val_mean_absolute_error: 0.1101\n",
            "Epoch 11/200\n",
            "8/8 [==============================] - 0s 18ms/step - loss: 0.0029 - mean_squared_error: 0.0029 - mean_absolute_error: 0.0428 - val_loss: 0.0186 - val_mean_squared_error: 0.0186 - val_mean_absolute_error: 0.1079\n",
            "Epoch 12/200\n",
            "8/8 [==============================] - 0s 18ms/step - loss: 0.0023 - mean_squared_error: 0.0023 - mean_absolute_error: 0.0379 - val_loss: 0.0185 - val_mean_squared_error: 0.0185 - val_mean_absolute_error: 0.1077\n",
            "Epoch 13/200\n",
            "8/8 [==============================] - 0s 20ms/step - loss: 0.0027 - mean_squared_error: 0.0027 - mean_absolute_error: 0.0404 - val_loss: 0.0186 - val_mean_squared_error: 0.0186 - val_mean_absolute_error: 0.1084\n",
            "Epoch 14/200\n",
            "8/8 [==============================] - 0s 18ms/step - loss: 0.0028 - mean_squared_error: 0.0028 - mean_absolute_error: 0.0419 - val_loss: 0.0184 - val_mean_squared_error: 0.0184 - val_mean_absolute_error: 0.1078\n",
            "Epoch 15/200\n",
            "8/8 [==============================] - 0s 20ms/step - loss: 0.0026 - mean_squared_error: 0.0026 - mean_absolute_error: 0.0410 - val_loss: 0.0182 - val_mean_squared_error: 0.0182 - val_mean_absolute_error: 0.1071\n",
            "Epoch 16/200\n",
            "8/8 [==============================] - 0s 20ms/step - loss: 0.0026 - mean_squared_error: 0.0026 - mean_absolute_error: 0.0402 - val_loss: 0.0180 - val_mean_squared_error: 0.0180 - val_mean_absolute_error: 0.1062\n",
            "Epoch 17/200\n",
            "8/8 [==============================] - 0s 18ms/step - loss: 0.0025 - mean_squared_error: 0.0025 - mean_absolute_error: 0.0393 - val_loss: 0.0187 - val_mean_squared_error: 0.0187 - val_mean_absolute_error: 0.1092\n",
            "Epoch 18/200\n",
            "8/8 [==============================] - 0s 18ms/step - loss: 0.0027 - mean_squared_error: 0.0027 - mean_absolute_error: 0.0404 - val_loss: 0.0177 - val_mean_squared_error: 0.0177 - val_mean_absolute_error: 0.1056\n",
            "Epoch 19/200\n",
            "8/8 [==============================] - 0s 18ms/step - loss: 0.0026 - mean_squared_error: 0.0026 - mean_absolute_error: 0.0399 - val_loss: 0.0178 - val_mean_squared_error: 0.0178 - val_mean_absolute_error: 0.1064\n",
            "Epoch 20/200\n",
            "8/8 [==============================] - 0s 17ms/step - loss: 0.0026 - mean_squared_error: 0.0026 - mean_absolute_error: 0.0405 - val_loss: 0.0175 - val_mean_squared_error: 0.0175 - val_mean_absolute_error: 0.1048\n",
            "Epoch 21/200\n",
            "8/8 [==============================] - 0s 17ms/step - loss: 0.0024 - mean_squared_error: 0.0024 - mean_absolute_error: 0.0381 - val_loss: 0.0177 - val_mean_squared_error: 0.0177 - val_mean_absolute_error: 0.1058\n",
            "Epoch 22/200\n",
            "8/8 [==============================] - 0s 17ms/step - loss: 0.0024 - mean_squared_error: 0.0024 - mean_absolute_error: 0.0390 - val_loss: 0.0171 - val_mean_squared_error: 0.0171 - val_mean_absolute_error: 0.1034\n",
            "Epoch 23/200\n",
            "8/8 [==============================] - 0s 19ms/step - loss: 0.0022 - mean_squared_error: 0.0022 - mean_absolute_error: 0.0373 - val_loss: 0.0169 - val_mean_squared_error: 0.0169 - val_mean_absolute_error: 0.1029\n",
            "Epoch 24/200\n",
            "8/8 [==============================] - 0s 19ms/step - loss: 0.0023 - mean_squared_error: 0.0023 - mean_absolute_error: 0.0375 - val_loss: 0.0168 - val_mean_squared_error: 0.0168 - val_mean_absolute_error: 0.1022\n",
            "Epoch 25/200\n",
            "8/8 [==============================] - 0s 19ms/step - loss: 0.0022 - mean_squared_error: 0.0022 - mean_absolute_error: 0.0366 - val_loss: 0.0169 - val_mean_squared_error: 0.0169 - val_mean_absolute_error: 0.1033\n",
            "Epoch 26/200\n",
            "8/8 [==============================] - 0s 18ms/step - loss: 0.0022 - mean_squared_error: 0.0022 - mean_absolute_error: 0.0359 - val_loss: 0.0168 - val_mean_squared_error: 0.0168 - val_mean_absolute_error: 0.1026\n",
            "Epoch 27/200\n",
            "8/8 [==============================] - 0s 18ms/step - loss: 0.0022 - mean_squared_error: 0.0022 - mean_absolute_error: 0.0367 - val_loss: 0.0169 - val_mean_squared_error: 0.0169 - val_mean_absolute_error: 0.1033\n",
            "Epoch 28/200\n",
            "8/8 [==============================] - 0s 19ms/step - loss: 0.0023 - mean_squared_error: 0.0023 - mean_absolute_error: 0.0373 - val_loss: 0.0164 - val_mean_squared_error: 0.0164 - val_mean_absolute_error: 0.1013\n",
            "Epoch 29/200\n",
            "8/8 [==============================] - 0s 20ms/step - loss: 0.0021 - mean_squared_error: 0.0021 - mean_absolute_error: 0.0353 - val_loss: 0.0163 - val_mean_squared_error: 0.0163 - val_mean_absolute_error: 0.1012\n",
            "Epoch 30/200\n",
            "8/8 [==============================] - 0s 20ms/step - loss: 0.0023 - mean_squared_error: 0.0023 - mean_absolute_error: 0.0374 - val_loss: 0.0163 - val_mean_squared_error: 0.0163 - val_mean_absolute_error: 0.1011\n",
            "Epoch 31/200\n",
            "8/8 [==============================] - 0s 19ms/step - loss: 0.0021 - mean_squared_error: 0.0021 - mean_absolute_error: 0.0360 - val_loss: 0.0162 - val_mean_squared_error: 0.0162 - val_mean_absolute_error: 0.1006\n",
            "Epoch 32/200\n",
            "8/8 [==============================] - 0s 18ms/step - loss: 0.0021 - mean_squared_error: 0.0021 - mean_absolute_error: 0.0363 - val_loss: 0.0162 - val_mean_squared_error: 0.0162 - val_mean_absolute_error: 0.1009\n",
            "Epoch 33/200\n",
            "8/8 [==============================] - 0s 18ms/step - loss: 0.0023 - mean_squared_error: 0.0023 - mean_absolute_error: 0.0377 - val_loss: 0.0163 - val_mean_squared_error: 0.0163 - val_mean_absolute_error: 0.1010\n",
            "Epoch 34/200\n",
            "8/8 [==============================] - 0s 18ms/step - loss: 0.0019 - mean_squared_error: 0.0019 - mean_absolute_error: 0.0338 - val_loss: 0.0159 - val_mean_squared_error: 0.0159 - val_mean_absolute_error: 0.0995\n",
            "Epoch 35/200\n",
            "8/8 [==============================] - 0s 19ms/step - loss: 0.0020 - mean_squared_error: 0.0020 - mean_absolute_error: 0.0352 - val_loss: 0.0162 - val_mean_squared_error: 0.0162 - val_mean_absolute_error: 0.1007\n",
            "Epoch 36/200\n",
            "8/8 [==============================] - 0s 18ms/step - loss: 0.0019 - mean_squared_error: 0.0019 - mean_absolute_error: 0.0346 - val_loss: 0.0159 - val_mean_squared_error: 0.0159 - val_mean_absolute_error: 0.0996\n",
            "Epoch 37/200\n",
            "8/8 [==============================] - 0s 20ms/step - loss: 0.0021 - mean_squared_error: 0.0021 - mean_absolute_error: 0.0360 - val_loss: 0.0160 - val_mean_squared_error: 0.0160 - val_mean_absolute_error: 0.1000\n",
            "Epoch 38/200\n",
            "8/8 [==============================] - 0s 20ms/step - loss: 0.0023 - mean_squared_error: 0.0023 - mean_absolute_error: 0.0375 - val_loss: 0.0154 - val_mean_squared_error: 0.0154 - val_mean_absolute_error: 0.0978\n",
            "Epoch 39/200\n",
            "8/8 [==============================] - 0s 19ms/step - loss: 0.0021 - mean_squared_error: 0.0021 - mean_absolute_error: 0.0355 - val_loss: 0.0157 - val_mean_squared_error: 0.0157 - val_mean_absolute_error: 0.0992\n",
            "Epoch 40/200\n",
            "8/8 [==============================] - 0s 19ms/step - loss: 0.0019 - mean_squared_error: 0.0019 - mean_absolute_error: 0.0346 - val_loss: 0.0156 - val_mean_squared_error: 0.0156 - val_mean_absolute_error: 0.0985\n",
            "Epoch 41/200\n",
            "8/8 [==============================] - 0s 18ms/step - loss: 0.0021 - mean_squared_error: 0.0021 - mean_absolute_error: 0.0355 - val_loss: 0.0153 - val_mean_squared_error: 0.0153 - val_mean_absolute_error: 0.0977\n",
            "Epoch 42/200\n",
            "8/8 [==============================] - 0s 17ms/step - loss: 0.0019 - mean_squared_error: 0.0019 - mean_absolute_error: 0.0339 - val_loss: 0.0151 - val_mean_squared_error: 0.0151 - val_mean_absolute_error: 0.0967\n",
            "Epoch 43/200\n",
            "8/8 [==============================] - 0s 19ms/step - loss: 0.0019 - mean_squared_error: 0.0019 - mean_absolute_error: 0.0337 - val_loss: 0.0149 - val_mean_squared_error: 0.0149 - val_mean_absolute_error: 0.0957\n",
            "Epoch 44/200\n",
            "8/8 [==============================] - 0s 18ms/step - loss: 0.0021 - mean_squared_error: 0.0021 - mean_absolute_error: 0.0361 - val_loss: 0.0155 - val_mean_squared_error: 0.0155 - val_mean_absolute_error: 0.0985\n",
            "Epoch 45/200\n",
            "8/8 [==============================] - 0s 18ms/step - loss: 0.0019 - mean_squared_error: 0.0019 - mean_absolute_error: 0.0336 - val_loss: 0.0148 - val_mean_squared_error: 0.0148 - val_mean_absolute_error: 0.0954\n",
            "Epoch 46/200\n",
            "8/8 [==============================] - 0s 21ms/step - loss: 0.0018 - mean_squared_error: 0.0018 - mean_absolute_error: 0.0332 - val_loss: 0.0150 - val_mean_squared_error: 0.0150 - val_mean_absolute_error: 0.0966\n",
            "Epoch 47/200\n",
            "8/8 [==============================] - 0s 19ms/step - loss: 0.0018 - mean_squared_error: 0.0018 - mean_absolute_error: 0.0331 - val_loss: 0.0149 - val_mean_squared_error: 0.0149 - val_mean_absolute_error: 0.0960\n",
            "Epoch 48/200\n",
            "8/8 [==============================] - 0s 21ms/step - loss: 0.0020 - mean_squared_error: 0.0020 - mean_absolute_error: 0.0351 - val_loss: 0.0147 - val_mean_squared_error: 0.0147 - val_mean_absolute_error: 0.0954\n",
            "Epoch 49/200\n",
            "8/8 [==============================] - 0s 19ms/step - loss: 0.0017 - mean_squared_error: 0.0017 - mean_absolute_error: 0.0318 - val_loss: 0.0149 - val_mean_squared_error: 0.0149 - val_mean_absolute_error: 0.0963\n",
            "Epoch 50/200\n",
            "8/8 [==============================] - 0s 22ms/step - loss: 0.0018 - mean_squared_error: 0.0018 - mean_absolute_error: 0.0333 - val_loss: 0.0146 - val_mean_squared_error: 0.0146 - val_mean_absolute_error: 0.0948\n",
            "Epoch 51/200\n",
            "8/8 [==============================] - 0s 20ms/step - loss: 0.0016 - mean_squared_error: 0.0016 - mean_absolute_error: 0.0312 - val_loss: 0.0146 - val_mean_squared_error: 0.0146 - val_mean_absolute_error: 0.0951\n",
            "Epoch 52/200\n",
            "8/8 [==============================] - 0s 19ms/step - loss: 0.0019 - mean_squared_error: 0.0019 - mean_absolute_error: 0.0338 - val_loss: 0.0146 - val_mean_squared_error: 0.0146 - val_mean_absolute_error: 0.0950\n",
            "Epoch 53/200\n",
            "8/8 [==============================] - 0s 18ms/step - loss: 0.0017 - mean_squared_error: 0.0017 - mean_absolute_error: 0.0327 - val_loss: 0.0143 - val_mean_squared_error: 0.0143 - val_mean_absolute_error: 0.0938\n",
            "Epoch 54/200\n",
            "8/8 [==============================] - 0s 19ms/step - loss: 0.0018 - mean_squared_error: 0.0018 - mean_absolute_error: 0.0326 - val_loss: 0.0141 - val_mean_squared_error: 0.0141 - val_mean_absolute_error: 0.0931\n",
            "Epoch 55/200\n",
            "8/8 [==============================] - 0s 18ms/step - loss: 0.0019 - mean_squared_error: 0.0019 - mean_absolute_error: 0.0336 - val_loss: 0.0150 - val_mean_squared_error: 0.0150 - val_mean_absolute_error: 0.0968\n",
            "Epoch 56/200\n",
            "8/8 [==============================] - 0s 18ms/step - loss: 0.0018 - mean_squared_error: 0.0018 - mean_absolute_error: 0.0331 - val_loss: 0.0143 - val_mean_squared_error: 0.0143 - val_mean_absolute_error: 0.0941\n",
            "Epoch 57/200\n",
            "8/8 [==============================] - 0s 18ms/step - loss: 0.0017 - mean_squared_error: 0.0017 - mean_absolute_error: 0.0328 - val_loss: 0.0144 - val_mean_squared_error: 0.0144 - val_mean_absolute_error: 0.0944\n",
            "Epoch 58/200\n",
            "8/8 [==============================] - 0s 23ms/step - loss: 0.0017 - mean_squared_error: 0.0017 - mean_absolute_error: 0.0326 - val_loss: 0.0142 - val_mean_squared_error: 0.0142 - val_mean_absolute_error: 0.0935\n",
            "Epoch 59/200\n",
            "8/8 [==============================] - 0s 20ms/step - loss: 0.0020 - mean_squared_error: 0.0020 - mean_absolute_error: 0.0342 - val_loss: 0.0143 - val_mean_squared_error: 0.0143 - val_mean_absolute_error: 0.0942\n",
            "Epoch 60/200\n",
            "8/8 [==============================] - 0s 19ms/step - loss: 0.0016 - mean_squared_error: 0.0016 - mean_absolute_error: 0.0312 - val_loss: 0.0137 - val_mean_squared_error: 0.0137 - val_mean_absolute_error: 0.0915\n",
            "Epoch 61/200\n",
            "8/8 [==============================] - 0s 19ms/step - loss: 0.0017 - mean_squared_error: 0.0017 - mean_absolute_error: 0.0324 - val_loss: 0.0144 - val_mean_squared_error: 0.0144 - val_mean_absolute_error: 0.0944\n",
            "Epoch 62/200\n",
            "8/8 [==============================] - 0s 20ms/step - loss: 0.0020 - mean_squared_error: 0.0020 - mean_absolute_error: 0.0346 - val_loss: 0.0136 - val_mean_squared_error: 0.0136 - val_mean_absolute_error: 0.0913\n",
            "Epoch 63/200\n",
            "8/8 [==============================] - 0s 22ms/step - loss: 0.0016 - mean_squared_error: 0.0016 - mean_absolute_error: 0.0317 - val_loss: 0.0142 - val_mean_squared_error: 0.0142 - val_mean_absolute_error: 0.0936\n",
            "Epoch 64/200\n",
            "8/8 [==============================] - 0s 18ms/step - loss: 0.0017 - mean_squared_error: 0.0017 - mean_absolute_error: 0.0325 - val_loss: 0.0134 - val_mean_squared_error: 0.0134 - val_mean_absolute_error: 0.0907\n",
            "Epoch 65/200\n",
            "8/8 [==============================] - 0s 18ms/step - loss: 0.0016 - mean_squared_error: 0.0016 - mean_absolute_error: 0.0312 - val_loss: 0.0134 - val_mean_squared_error: 0.0134 - val_mean_absolute_error: 0.0905\n",
            "Epoch 66/200\n",
            "8/8 [==============================] - 0s 20ms/step - loss: 0.0017 - mean_squared_error: 0.0017 - mean_absolute_error: 0.0323 - val_loss: 0.0137 - val_mean_squared_error: 0.0137 - val_mean_absolute_error: 0.0918\n",
            "Epoch 67/200\n",
            "8/8 [==============================] - 0s 18ms/step - loss: 0.0018 - mean_squared_error: 0.0018 - mean_absolute_error: 0.0319 - val_loss: 0.0133 - val_mean_squared_error: 0.0133 - val_mean_absolute_error: 0.0902\n",
            "Epoch 68/200\n",
            "8/8 [==============================] - 0s 18ms/step - loss: 0.0018 - mean_squared_error: 0.0018 - mean_absolute_error: 0.0331 - val_loss: 0.0136 - val_mean_squared_error: 0.0136 - val_mean_absolute_error: 0.0914\n",
            "Epoch 69/200\n",
            "8/8 [==============================] - 0s 19ms/step - loss: 0.0016 - mean_squared_error: 0.0016 - mean_absolute_error: 0.0321 - val_loss: 0.0140 - val_mean_squared_error: 0.0140 - val_mean_absolute_error: 0.0930\n",
            "Epoch 70/200\n",
            "8/8 [==============================] - 0s 20ms/step - loss: 0.0018 - mean_squared_error: 0.0018 - mean_absolute_error: 0.0330 - val_loss: 0.0135 - val_mean_squared_error: 0.0135 - val_mean_absolute_error: 0.0912\n",
            "Epoch 71/200\n",
            "8/8 [==============================] - 0s 19ms/step - loss: 0.0018 - mean_squared_error: 0.0018 - mean_absolute_error: 0.0336 - val_loss: 0.0133 - val_mean_squared_error: 0.0133 - val_mean_absolute_error: 0.0904\n",
            "Epoch 72/200\n",
            "8/8 [==============================] - 0s 21ms/step - loss: 0.0017 - mean_squared_error: 0.0017 - mean_absolute_error: 0.0310 - val_loss: 0.0131 - val_mean_squared_error: 0.0131 - val_mean_absolute_error: 0.0894\n",
            "Epoch 73/200\n",
            "8/8 [==============================] - 0s 16ms/step - loss: 0.0017 - mean_squared_error: 0.0017 - mean_absolute_error: 0.0322 - val_loss: 0.0130 - val_mean_squared_error: 0.0130 - val_mean_absolute_error: 0.0892\n",
            "Epoch 74/200\n",
            "8/8 [==============================] - 0s 22ms/step - loss: 0.0019 - mean_squared_error: 0.0019 - mean_absolute_error: 0.0335 - val_loss: 0.0132 - val_mean_squared_error: 0.0132 - val_mean_absolute_error: 0.0898\n",
            "Epoch 75/200\n",
            "8/8 [==============================] - 0s 18ms/step - loss: 0.0015 - mean_squared_error: 0.0015 - mean_absolute_error: 0.0301 - val_loss: 0.0129 - val_mean_squared_error: 0.0129 - val_mean_absolute_error: 0.0888\n",
            "Epoch 76/200\n",
            "8/8 [==============================] - 0s 17ms/step - loss: 0.0017 - mean_squared_error: 0.0017 - mean_absolute_error: 0.0326 - val_loss: 0.0132 - val_mean_squared_error: 0.0132 - val_mean_absolute_error: 0.0898\n",
            "Epoch 77/200\n",
            "8/8 [==============================] - 0s 21ms/step - loss: 0.0015 - mean_squared_error: 0.0015 - mean_absolute_error: 0.0300 - val_loss: 0.0129 - val_mean_squared_error: 0.0129 - val_mean_absolute_error: 0.0888\n",
            "Epoch 78/200\n",
            "8/8 [==============================] - 0s 18ms/step - loss: 0.0015 - mean_squared_error: 0.0015 - mean_absolute_error: 0.0303 - val_loss: 0.0129 - val_mean_squared_error: 0.0129 - val_mean_absolute_error: 0.0888\n",
            "Epoch 79/200\n",
            "8/8 [==============================] - 0s 19ms/step - loss: 0.0016 - mean_squared_error: 0.0016 - mean_absolute_error: 0.0308 - val_loss: 0.0127 - val_mean_squared_error: 0.0127 - val_mean_absolute_error: 0.0881\n",
            "Epoch 80/200\n",
            "8/8 [==============================] - 0s 24ms/step - loss: 0.0016 - mean_squared_error: 0.0016 - mean_absolute_error: 0.0305 - val_loss: 0.0127 - val_mean_squared_error: 0.0127 - val_mean_absolute_error: 0.0878\n",
            "Epoch 81/200\n",
            "8/8 [==============================] - 0s 18ms/step - loss: 0.0016 - mean_squared_error: 0.0016 - mean_absolute_error: 0.0312 - val_loss: 0.0126 - val_mean_squared_error: 0.0126 - val_mean_absolute_error: 0.0876\n",
            "Epoch 82/200\n",
            "8/8 [==============================] - 0s 20ms/step - loss: 0.0016 - mean_squared_error: 0.0016 - mean_absolute_error: 0.0309 - val_loss: 0.0126 - val_mean_squared_error: 0.0126 - val_mean_absolute_error: 0.0875\n",
            "Epoch 83/200\n",
            "8/8 [==============================] - 0s 21ms/step - loss: 0.0016 - mean_squared_error: 0.0016 - mean_absolute_error: 0.0303 - val_loss: 0.0126 - val_mean_squared_error: 0.0126 - val_mean_absolute_error: 0.0875\n",
            "Epoch 84/200\n",
            "8/8 [==============================] - 0s 18ms/step - loss: 0.0015 - mean_squared_error: 0.0015 - mean_absolute_error: 0.0311 - val_loss: 0.0125 - val_mean_squared_error: 0.0125 - val_mean_absolute_error: 0.0873\n",
            "Epoch 85/200\n",
            "8/8 [==============================] - 0s 19ms/step - loss: 0.0015 - mean_squared_error: 0.0015 - mean_absolute_error: 0.0306 - val_loss: 0.0129 - val_mean_squared_error: 0.0129 - val_mean_absolute_error: 0.0885\n",
            "Epoch 86/200\n",
            "8/8 [==============================] - 0s 18ms/step - loss: 0.0014 - mean_squared_error: 0.0014 - mean_absolute_error: 0.0294 - val_loss: 0.0128 - val_mean_squared_error: 0.0128 - val_mean_absolute_error: 0.0882\n",
            "Epoch 87/200\n",
            "8/8 [==============================] - 0s 20ms/step - loss: 0.0016 - mean_squared_error: 0.0016 - mean_absolute_error: 0.0310 - val_loss: 0.0124 - val_mean_squared_error: 0.0124 - val_mean_absolute_error: 0.0869\n",
            "Epoch 88/200\n",
            "8/8 [==============================] - 0s 19ms/step - loss: 0.0014 - mean_squared_error: 0.0014 - mean_absolute_error: 0.0289 - val_loss: 0.0124 - val_mean_squared_error: 0.0124 - val_mean_absolute_error: 0.0870\n",
            "Epoch 89/200\n",
            "8/8 [==============================] - 0s 18ms/step - loss: 0.0016 - mean_squared_error: 0.0016 - mean_absolute_error: 0.0313 - val_loss: 0.0122 - val_mean_squared_error: 0.0122 - val_mean_absolute_error: 0.0861\n",
            "Epoch 90/200\n",
            "8/8 [==============================] - 0s 22ms/step - loss: 0.0017 - mean_squared_error: 0.0017 - mean_absolute_error: 0.0316 - val_loss: 0.0126 - val_mean_squared_error: 0.0126 - val_mean_absolute_error: 0.0876\n",
            "Epoch 91/200\n",
            "8/8 [==============================] - 0s 21ms/step - loss: 0.0015 - mean_squared_error: 0.0015 - mean_absolute_error: 0.0300 - val_loss: 0.0125 - val_mean_squared_error: 0.0125 - val_mean_absolute_error: 0.0873\n",
            "Epoch 92/200\n",
            "8/8 [==============================] - 0s 17ms/step - loss: 0.0017 - mean_squared_error: 0.0017 - mean_absolute_error: 0.0317 - val_loss: 0.0123 - val_mean_squared_error: 0.0123 - val_mean_absolute_error: 0.0868\n",
            "Epoch 93/200\n",
            "8/8 [==============================] - 0s 21ms/step - loss: 0.0016 - mean_squared_error: 0.0016 - mean_absolute_error: 0.0308 - val_loss: 0.0124 - val_mean_squared_error: 0.0124 - val_mean_absolute_error: 0.0868\n",
            "Epoch 94/200\n",
            "8/8 [==============================] - 0s 19ms/step - loss: 0.0014 - mean_squared_error: 0.0014 - mean_absolute_error: 0.0291 - val_loss: 0.0125 - val_mean_squared_error: 0.0125 - val_mean_absolute_error: 0.0873\n",
            "Epoch 95/200\n",
            "8/8 [==============================] - 0s 16ms/step - loss: 0.0016 - mean_squared_error: 0.0016 - mean_absolute_error: 0.0312 - val_loss: 0.0121 - val_mean_squared_error: 0.0121 - val_mean_absolute_error: 0.0859\n",
            "Epoch 96/200\n",
            "8/8 [==============================] - 0s 23ms/step - loss: 0.0014 - mean_squared_error: 0.0014 - mean_absolute_error: 0.0296 - val_loss: 0.0128 - val_mean_squared_error: 0.0128 - val_mean_absolute_error: 0.0886\n",
            "Epoch 97/200\n",
            "8/8 [==============================] - 0s 17ms/step - loss: 0.0018 - mean_squared_error: 0.0018 - mean_absolute_error: 0.0323 - val_loss: 0.0121 - val_mean_squared_error: 0.0121 - val_mean_absolute_error: 0.0861\n",
            "Epoch 98/200\n",
            "8/8 [==============================] - 0s 19ms/step - loss: 0.0013 - mean_squared_error: 0.0013 - mean_absolute_error: 0.0283 - val_loss: 0.0124 - val_mean_squared_error: 0.0124 - val_mean_absolute_error: 0.0868\n",
            "Epoch 99/200\n",
            "8/8 [==============================] - 0s 19ms/step - loss: 0.0015 - mean_squared_error: 0.0015 - mean_absolute_error: 0.0301 - val_loss: 0.0121 - val_mean_squared_error: 0.0121 - val_mean_absolute_error: 0.0859\n",
            "Epoch 100/200\n",
            "8/8 [==============================] - 0s 20ms/step - loss: 0.0013 - mean_squared_error: 0.0013 - mean_absolute_error: 0.0286 - val_loss: 0.0118 - val_mean_squared_error: 0.0118 - val_mean_absolute_error: 0.0850\n",
            "Epoch 101/200\n",
            "8/8 [==============================] - 0s 19ms/step - loss: 0.0016 - mean_squared_error: 0.0016 - mean_absolute_error: 0.0302 - val_loss: 0.0121 - val_mean_squared_error: 0.0121 - val_mean_absolute_error: 0.0857\n",
            "Epoch 102/200\n",
            "8/8 [==============================] - 0s 22ms/step - loss: 0.0015 - mean_squared_error: 0.0015 - mean_absolute_error: 0.0298 - val_loss: 0.0120 - val_mean_squared_error: 0.0120 - val_mean_absolute_error: 0.0856\n",
            "Epoch 103/200\n",
            "8/8 [==============================] - 0s 19ms/step - loss: 0.0014 - mean_squared_error: 0.0014 - mean_absolute_error: 0.0292 - val_loss: 0.0119 - val_mean_squared_error: 0.0119 - val_mean_absolute_error: 0.0853\n",
            "Epoch 104/200\n",
            "8/8 [==============================] - 0s 20ms/step - loss: 0.0015 - mean_squared_error: 0.0015 - mean_absolute_error: 0.0292 - val_loss: 0.0120 - val_mean_squared_error: 0.0120 - val_mean_absolute_error: 0.0854\n",
            "Epoch 105/200\n",
            "8/8 [==============================] - 0s 20ms/step - loss: 0.0018 - mean_squared_error: 0.0018 - mean_absolute_error: 0.0327 - val_loss: 0.0121 - val_mean_squared_error: 0.0121 - val_mean_absolute_error: 0.0857\n",
            "Epoch 106/200\n",
            "8/8 [==============================] - 0s 19ms/step - loss: 0.0015 - mean_squared_error: 0.0015 - mean_absolute_error: 0.0295 - val_loss: 0.0122 - val_mean_squared_error: 0.0122 - val_mean_absolute_error: 0.0863\n",
            "Epoch 107/200\n",
            "8/8 [==============================] - 0s 17ms/step - loss: 0.0015 - mean_squared_error: 0.0015 - mean_absolute_error: 0.0291 - val_loss: 0.0122 - val_mean_squared_error: 0.0122 - val_mean_absolute_error: 0.0864\n",
            "Epoch 108/200\n",
            "8/8 [==============================] - 0s 19ms/step - loss: 0.0014 - mean_squared_error: 0.0014 - mean_absolute_error: 0.0293 - val_loss: 0.0119 - val_mean_squared_error: 0.0119 - val_mean_absolute_error: 0.0850\n",
            "Epoch 109/200\n",
            "8/8 [==============================] - 0s 18ms/step - loss: 0.0014 - mean_squared_error: 0.0014 - mean_absolute_error: 0.0296 - val_loss: 0.0116 - val_mean_squared_error: 0.0116 - val_mean_absolute_error: 0.0841\n",
            "Epoch 110/200\n",
            "8/8 [==============================] - 0s 20ms/step - loss: 0.0015 - mean_squared_error: 0.0015 - mean_absolute_error: 0.0306 - val_loss: 0.0118 - val_mean_squared_error: 0.0118 - val_mean_absolute_error: 0.0849\n",
            "Epoch 111/200\n",
            "8/8 [==============================] - 0s 20ms/step - loss: 0.0014 - mean_squared_error: 0.0014 - mean_absolute_error: 0.0297 - val_loss: 0.0121 - val_mean_squared_error: 0.0121 - val_mean_absolute_error: 0.0862\n",
            "Epoch 112/200\n",
            "8/8 [==============================] - 0s 21ms/step - loss: 0.0015 - mean_squared_error: 0.0015 - mean_absolute_error: 0.0298 - val_loss: 0.0116 - val_mean_squared_error: 0.0116 - val_mean_absolute_error: 0.0840\n",
            "Epoch 113/200\n",
            "8/8 [==============================] - 0s 18ms/step - loss: 0.0014 - mean_squared_error: 0.0014 - mean_absolute_error: 0.0291 - val_loss: 0.0116 - val_mean_squared_error: 0.0116 - val_mean_absolute_error: 0.0842\n",
            "Epoch 114/200\n",
            "8/8 [==============================] - 0s 22ms/step - loss: 0.0014 - mean_squared_error: 0.0014 - mean_absolute_error: 0.0289 - val_loss: 0.0116 - val_mean_squared_error: 0.0116 - val_mean_absolute_error: 0.0841\n",
            "Epoch 115/200\n",
            "8/8 [==============================] - 0s 20ms/step - loss: 0.0015 - mean_squared_error: 0.0015 - mean_absolute_error: 0.0298 - val_loss: 0.0121 - val_mean_squared_error: 0.0121 - val_mean_absolute_error: 0.0861\n",
            "Epoch 116/200\n",
            "8/8 [==============================] - 0s 20ms/step - loss: 0.0014 - mean_squared_error: 0.0014 - mean_absolute_error: 0.0293 - val_loss: 0.0114 - val_mean_squared_error: 0.0114 - val_mean_absolute_error: 0.0835\n",
            "Epoch 117/200\n",
            "8/8 [==============================] - 0s 22ms/step - loss: 0.0014 - mean_squared_error: 0.0014 - mean_absolute_error: 0.0288 - val_loss: 0.0114 - val_mean_squared_error: 0.0114 - val_mean_absolute_error: 0.0832\n",
            "Epoch 118/200\n",
            "8/8 [==============================] - 0s 20ms/step - loss: 0.0015 - mean_squared_error: 0.0015 - mean_absolute_error: 0.0298 - val_loss: 0.0113 - val_mean_squared_error: 0.0113 - val_mean_absolute_error: 0.0829\n",
            "Epoch 119/200\n",
            "8/8 [==============================] - 0s 23ms/step - loss: 0.0013 - mean_squared_error: 0.0013 - mean_absolute_error: 0.0286 - val_loss: 0.0112 - val_mean_squared_error: 0.0112 - val_mean_absolute_error: 0.0825\n",
            "Epoch 120/200\n",
            "8/8 [==============================] - 0s 17ms/step - loss: 0.0014 - mean_squared_error: 0.0014 - mean_absolute_error: 0.0288 - val_loss: 0.0114 - val_mean_squared_error: 0.0114 - val_mean_absolute_error: 0.0834\n",
            "Epoch 121/200\n",
            "8/8 [==============================] - 0s 18ms/step - loss: 0.0013 - mean_squared_error: 0.0013 - mean_absolute_error: 0.0279 - val_loss: 0.0114 - val_mean_squared_error: 0.0114 - val_mean_absolute_error: 0.0836\n",
            "Epoch 122/200\n",
            "8/8 [==============================] - 0s 21ms/step - loss: 0.0015 - mean_squared_error: 0.0015 - mean_absolute_error: 0.0310 - val_loss: 0.0117 - val_mean_squared_error: 0.0117 - val_mean_absolute_error: 0.0848\n",
            "Epoch 123/200\n",
            "8/8 [==============================] - 0s 18ms/step - loss: 0.0014 - mean_squared_error: 0.0014 - mean_absolute_error: 0.0287 - val_loss: 0.0112 - val_mean_squared_error: 0.0112 - val_mean_absolute_error: 0.0829\n",
            "Epoch 124/200\n",
            "8/8 [==============================] - 0s 20ms/step - loss: 0.0014 - mean_squared_error: 0.0014 - mean_absolute_error: 0.0292 - val_loss: 0.0114 - val_mean_squared_error: 0.0114 - val_mean_absolute_error: 0.0835\n",
            "Epoch 125/200\n",
            "8/8 [==============================] - 1s 74ms/step - loss: 0.0014 - mean_squared_error: 0.0014 - mean_absolute_error: 0.0290 - val_loss: 0.0114 - val_mean_squared_error: 0.0114 - val_mean_absolute_error: 0.0838\n",
            "Epoch 126/200\n",
            "8/8 [==============================] - 0s 32ms/step - loss: 0.0015 - mean_squared_error: 0.0015 - mean_absolute_error: 0.0296 - val_loss: 0.0111 - val_mean_squared_error: 0.0111 - val_mean_absolute_error: 0.0825\n",
            "Epoch 127/200\n",
            "8/8 [==============================] - 0s 18ms/step - loss: 0.0015 - mean_squared_error: 0.0015 - mean_absolute_error: 0.0301 - val_loss: 0.0117 - val_mean_squared_error: 0.0117 - val_mean_absolute_error: 0.0848\n",
            "Epoch 128/200\n",
            "8/8 [==============================] - 0s 19ms/step - loss: 0.0014 - mean_squared_error: 0.0014 - mean_absolute_error: 0.0298 - val_loss: 0.0110 - val_mean_squared_error: 0.0110 - val_mean_absolute_error: 0.0819\n",
            "Epoch 129/200\n",
            "8/8 [==============================] - 0s 20ms/step - loss: 0.0013 - mean_squared_error: 0.0013 - mean_absolute_error: 0.0282 - val_loss: 0.0110 - val_mean_squared_error: 0.0110 - val_mean_absolute_error: 0.0819\n",
            "Epoch 130/200\n",
            "8/8 [==============================] - 0s 18ms/step - loss: 0.0015 - mean_squared_error: 0.0015 - mean_absolute_error: 0.0299 - val_loss: 0.0109 - val_mean_squared_error: 0.0109 - val_mean_absolute_error: 0.0814\n",
            "Epoch 131/200\n",
            "8/8 [==============================] - 0s 21ms/step - loss: 0.0013 - mean_squared_error: 0.0013 - mean_absolute_error: 0.0282 - val_loss: 0.0110 - val_mean_squared_error: 0.0110 - val_mean_absolute_error: 0.0822\n",
            "Epoch 132/200\n",
            "8/8 [==============================] - 0s 18ms/step - loss: 0.0013 - mean_squared_error: 0.0013 - mean_absolute_error: 0.0277 - val_loss: 0.0112 - val_mean_squared_error: 0.0112 - val_mean_absolute_error: 0.0831\n",
            "Epoch 133/200\n",
            "8/8 [==============================] - 0s 22ms/step - loss: 0.0014 - mean_squared_error: 0.0014 - mean_absolute_error: 0.0293 - val_loss: 0.0109 - val_mean_squared_error: 0.0109 - val_mean_absolute_error: 0.0817\n",
            "Epoch 134/200\n",
            "8/8 [==============================] - 0s 20ms/step - loss: 0.0015 - mean_squared_error: 0.0015 - mean_absolute_error: 0.0301 - val_loss: 0.0110 - val_mean_squared_error: 0.0110 - val_mean_absolute_error: 0.0820\n",
            "Epoch 135/200\n",
            "8/8 [==============================] - 0s 19ms/step - loss: 0.0013 - mean_squared_error: 0.0013 - mean_absolute_error: 0.0281 - val_loss: 0.0109 - val_mean_squared_error: 0.0109 - val_mean_absolute_error: 0.0818\n",
            "Epoch 136/200\n",
            "8/8 [==============================] - 0s 20ms/step - loss: 0.0013 - mean_squared_error: 0.0013 - mean_absolute_error: 0.0282 - val_loss: 0.0107 - val_mean_squared_error: 0.0107 - val_mean_absolute_error: 0.0807\n",
            "Epoch 137/200\n",
            "8/8 [==============================] - 0s 20ms/step - loss: 0.0013 - mean_squared_error: 0.0013 - mean_absolute_error: 0.0276 - val_loss: 0.0108 - val_mean_squared_error: 0.0108 - val_mean_absolute_error: 0.0816\n",
            "Epoch 138/200\n",
            "8/8 [==============================] - 0s 20ms/step - loss: 0.0014 - mean_squared_error: 0.0014 - mean_absolute_error: 0.0279 - val_loss: 0.0113 - val_mean_squared_error: 0.0113 - val_mean_absolute_error: 0.0835\n",
            "Epoch 139/200\n",
            "8/8 [==============================] - 0s 20ms/step - loss: 0.0014 - mean_squared_error: 0.0014 - mean_absolute_error: 0.0288 - val_loss: 0.0106 - val_mean_squared_error: 0.0106 - val_mean_absolute_error: 0.0802\n",
            "Epoch 140/200\n",
            "8/8 [==============================] - 0s 20ms/step - loss: 0.0013 - mean_squared_error: 0.0013 - mean_absolute_error: 0.0286 - val_loss: 0.0116 - val_mean_squared_error: 0.0116 - val_mean_absolute_error: 0.0845\n",
            "Epoch 141/200\n",
            "8/8 [==============================] - 0s 21ms/step - loss: 0.0015 - mean_squared_error: 0.0015 - mean_absolute_error: 0.0306 - val_loss: 0.0106 - val_mean_squared_error: 0.0106 - val_mean_absolute_error: 0.0803\n",
            "Epoch 142/200\n",
            "8/8 [==============================] - 0s 17ms/step - loss: 0.0014 - mean_squared_error: 0.0014 - mean_absolute_error: 0.0293 - val_loss: 0.0106 - val_mean_squared_error: 0.0106 - val_mean_absolute_error: 0.0806\n",
            "Epoch 143/200\n",
            "8/8 [==============================] - 0s 18ms/step - loss: 0.0014 - mean_squared_error: 0.0014 - mean_absolute_error: 0.0287 - val_loss: 0.0106 - val_mean_squared_error: 0.0106 - val_mean_absolute_error: 0.0806\n",
            "Epoch 144/200\n",
            "8/8 [==============================] - 0s 21ms/step - loss: 0.0013 - mean_squared_error: 0.0013 - mean_absolute_error: 0.0281 - val_loss: 0.0108 - val_mean_squared_error: 0.0108 - val_mean_absolute_error: 0.0815\n",
            "Epoch 145/200\n",
            "8/8 [==============================] - 0s 18ms/step - loss: 0.0014 - mean_squared_error: 0.0014 - mean_absolute_error: 0.0287 - val_loss: 0.0105 - val_mean_squared_error: 0.0105 - val_mean_absolute_error: 0.0798\n",
            "Epoch 146/200\n",
            "8/8 [==============================] - 0s 21ms/step - loss: 0.0015 - mean_squared_error: 0.0015 - mean_absolute_error: 0.0299 - val_loss: 0.0104 - val_mean_squared_error: 0.0104 - val_mean_absolute_error: 0.0798\n",
            "Epoch 147/200\n",
            "8/8 [==============================] - 0s 21ms/step - loss: 0.0012 - mean_squared_error: 0.0012 - mean_absolute_error: 0.0268 - val_loss: 0.0106 - val_mean_squared_error: 0.0106 - val_mean_absolute_error: 0.0808\n",
            "Epoch 148/200\n",
            "8/8 [==============================] - 0s 20ms/step - loss: 0.0013 - mean_squared_error: 0.0013 - mean_absolute_error: 0.0280 - val_loss: 0.0106 - val_mean_squared_error: 0.0106 - val_mean_absolute_error: 0.0806\n",
            "Epoch 149/200\n",
            "8/8 [==============================] - 0s 19ms/step - loss: 0.0012 - mean_squared_error: 0.0012 - mean_absolute_error: 0.0277 - val_loss: 0.0104 - val_mean_squared_error: 0.0104 - val_mean_absolute_error: 0.0797\n",
            "Epoch 150/200\n",
            "8/8 [==============================] - 0s 21ms/step - loss: 0.0013 - mean_squared_error: 0.0013 - mean_absolute_error: 0.0279 - val_loss: 0.0105 - val_mean_squared_error: 0.0105 - val_mean_absolute_error: 0.0803\n",
            "Epoch 151/200\n",
            "8/8 [==============================] - 0s 22ms/step - loss: 0.0012 - mean_squared_error: 0.0012 - mean_absolute_error: 0.0271 - val_loss: 0.0106 - val_mean_squared_error: 0.0106 - val_mean_absolute_error: 0.0807\n",
            "Epoch 152/200\n",
            "8/8 [==============================] - 0s 21ms/step - loss: 0.0012 - mean_squared_error: 0.0012 - mean_absolute_error: 0.0271 - val_loss: 0.0111 - val_mean_squared_error: 0.0111 - val_mean_absolute_error: 0.0829\n",
            "Epoch 153/200\n",
            "8/8 [==============================] - 0s 18ms/step - loss: 0.0013 - mean_squared_error: 0.0013 - mean_absolute_error: 0.0275 - val_loss: 0.0107 - val_mean_squared_error: 0.0107 - val_mean_absolute_error: 0.0813\n",
            "Epoch 154/200\n",
            "8/8 [==============================] - 0s 17ms/step - loss: 0.0014 - mean_squared_error: 0.0014 - mean_absolute_error: 0.0288 - val_loss: 0.0104 - val_mean_squared_error: 0.0104 - val_mean_absolute_error: 0.0799\n",
            "Epoch 155/200\n",
            "8/8 [==============================] - 0s 22ms/step - loss: 0.0012 - mean_squared_error: 0.0012 - mean_absolute_error: 0.0263 - val_loss: 0.0106 - val_mean_squared_error: 0.0106 - val_mean_absolute_error: 0.0808\n",
            "Epoch 156/200\n",
            "8/8 [==============================] - 0s 18ms/step - loss: 0.0013 - mean_squared_error: 0.0013 - mean_absolute_error: 0.0286 - val_loss: 0.0105 - val_mean_squared_error: 0.0105 - val_mean_absolute_error: 0.0806\n",
            "Epoch 157/200\n",
            "8/8 [==============================] - 0s 22ms/step - loss: 0.0013 - mean_squared_error: 0.0013 - mean_absolute_error: 0.0279 - val_loss: 0.0103 - val_mean_squared_error: 0.0103 - val_mean_absolute_error: 0.0794\n",
            "Epoch 158/200\n",
            "8/8 [==============================] - 0s 19ms/step - loss: 0.0012 - mean_squared_error: 0.0012 - mean_absolute_error: 0.0273 - val_loss: 0.0102 - val_mean_squared_error: 0.0102 - val_mean_absolute_error: 0.0792\n",
            "Epoch 159/200\n",
            "8/8 [==============================] - 0s 21ms/step - loss: 0.0013 - mean_squared_error: 0.0013 - mean_absolute_error: 0.0278 - val_loss: 0.0103 - val_mean_squared_error: 0.0103 - val_mean_absolute_error: 0.0797\n",
            "Epoch 160/200\n",
            "8/8 [==============================] - 0s 20ms/step - loss: 0.0013 - mean_squared_error: 0.0013 - mean_absolute_error: 0.0275 - val_loss: 0.0100 - val_mean_squared_error: 0.0100 - val_mean_absolute_error: 0.0784\n",
            "Epoch 161/200\n",
            "8/8 [==============================] - 0s 21ms/step - loss: 0.0012 - mean_squared_error: 0.0012 - mean_absolute_error: 0.0275 - val_loss: 0.0104 - val_mean_squared_error: 0.0104 - val_mean_absolute_error: 0.0803\n",
            "Epoch 162/200\n",
            "8/8 [==============================] - 0s 21ms/step - loss: 0.0011 - mean_squared_error: 0.0011 - mean_absolute_error: 0.0267 - val_loss: 0.0101 - val_mean_squared_error: 0.0101 - val_mean_absolute_error: 0.0791\n",
            "Epoch 163/200\n",
            "8/8 [==============================] - 0s 18ms/step - loss: 0.0013 - mean_squared_error: 0.0013 - mean_absolute_error: 0.0281 - val_loss: 0.0100 - val_mean_squared_error: 0.0100 - val_mean_absolute_error: 0.0782\n",
            "Epoch 164/200\n",
            "8/8 [==============================] - 0s 18ms/step - loss: 0.0012 - mean_squared_error: 0.0012 - mean_absolute_error: 0.0273 - val_loss: 0.0099 - val_mean_squared_error: 0.0099 - val_mean_absolute_error: 0.0780\n",
            "Epoch 165/200\n",
            "8/8 [==============================] - 0s 23ms/step - loss: 0.0013 - mean_squared_error: 0.0013 - mean_absolute_error: 0.0285 - val_loss: 0.0099 - val_mean_squared_error: 0.0099 - val_mean_absolute_error: 0.0779\n",
            "Epoch 166/200\n",
            "8/8 [==============================] - 0s 21ms/step - loss: 0.0012 - mean_squared_error: 0.0012 - mean_absolute_error: 0.0262 - val_loss: 0.0103 - val_mean_squared_error: 0.0103 - val_mean_absolute_error: 0.0801\n",
            "Epoch 167/200\n",
            "8/8 [==============================] - 0s 25ms/step - loss: 0.0013 - mean_squared_error: 0.0013 - mean_absolute_error: 0.0289 - val_loss: 0.0104 - val_mean_squared_error: 0.0104 - val_mean_absolute_error: 0.0803\n",
            "Epoch 168/200\n",
            "8/8 [==============================] - 0s 21ms/step - loss: 0.0016 - mean_squared_error: 0.0016 - mean_absolute_error: 0.0309 - val_loss: 0.0100 - val_mean_squared_error: 0.0100 - val_mean_absolute_error: 0.0786\n",
            "Epoch 169/200\n",
            "8/8 [==============================] - 0s 18ms/step - loss: 0.0013 - mean_squared_error: 0.0013 - mean_absolute_error: 0.0276 - val_loss: 0.0099 - val_mean_squared_error: 0.0099 - val_mean_absolute_error: 0.0783\n",
            "Epoch 170/200\n",
            "8/8 [==============================] - 0s 21ms/step - loss: 0.0013 - mean_squared_error: 0.0013 - mean_absolute_error: 0.0278 - val_loss: 0.0099 - val_mean_squared_error: 0.0099 - val_mean_absolute_error: 0.0780\n",
            "Epoch 171/200\n",
            "8/8 [==============================] - 0s 19ms/step - loss: 0.0013 - mean_squared_error: 0.0013 - mean_absolute_error: 0.0278 - val_loss: 0.0098 - val_mean_squared_error: 0.0098 - val_mean_absolute_error: 0.0772\n",
            "Epoch 172/200\n",
            "8/8 [==============================] - 0s 22ms/step - loss: 0.0013 - mean_squared_error: 0.0013 - mean_absolute_error: 0.0274 - val_loss: 0.0098 - val_mean_squared_error: 0.0098 - val_mean_absolute_error: 0.0776\n",
            "Epoch 173/200\n",
            "8/8 [==============================] - 0s 20ms/step - loss: 0.0012 - mean_squared_error: 0.0012 - mean_absolute_error: 0.0266 - val_loss: 0.0099 - val_mean_squared_error: 0.0099 - val_mean_absolute_error: 0.0781\n",
            "Epoch 174/200\n",
            "8/8 [==============================] - 0s 18ms/step - loss: 0.0012 - mean_squared_error: 0.0012 - mean_absolute_error: 0.0269 - val_loss: 0.0101 - val_mean_squared_error: 0.0101 - val_mean_absolute_error: 0.0791\n",
            "Epoch 175/200\n",
            "8/8 [==============================] - 0s 22ms/step - loss: 0.0012 - mean_squared_error: 0.0012 - mean_absolute_error: 0.0262 - val_loss: 0.0098 - val_mean_squared_error: 0.0098 - val_mean_absolute_error: 0.0779\n",
            "Epoch 176/200\n",
            "8/8 [==============================] - 0s 23ms/step - loss: 0.0011 - mean_squared_error: 0.0011 - mean_absolute_error: 0.0262 - val_loss: 0.0098 - val_mean_squared_error: 0.0098 - val_mean_absolute_error: 0.0777\n",
            "Epoch 177/200\n",
            "8/8 [==============================] - 0s 21ms/step - loss: 0.0013 - mean_squared_error: 0.0013 - mean_absolute_error: 0.0279 - val_loss: 0.0098 - val_mean_squared_error: 0.0098 - val_mean_absolute_error: 0.0778\n",
            "Epoch 178/200\n",
            "8/8 [==============================] - 0s 21ms/step - loss: 0.0013 - mean_squared_error: 0.0013 - mean_absolute_error: 0.0277 - val_loss: 0.0099 - val_mean_squared_error: 0.0099 - val_mean_absolute_error: 0.0784\n",
            "Epoch 179/200\n",
            "8/8 [==============================] - 0s 20ms/step - loss: 0.0012 - mean_squared_error: 0.0012 - mean_absolute_error: 0.0268 - val_loss: 0.0099 - val_mean_squared_error: 0.0099 - val_mean_absolute_error: 0.0784\n",
            "Epoch 180/200\n",
            "8/8 [==============================] - 0s 18ms/step - loss: 0.0013 - mean_squared_error: 0.0013 - mean_absolute_error: 0.0281 - val_loss: 0.0102 - val_mean_squared_error: 0.0102 - val_mean_absolute_error: 0.0797\n",
            "Epoch 181/200\n",
            "8/8 [==============================] - 0s 21ms/step - loss: 0.0012 - mean_squared_error: 0.0012 - mean_absolute_error: 0.0272 - val_loss: 0.0097 - val_mean_squared_error: 0.0097 - val_mean_absolute_error: 0.0776\n",
            "Epoch 182/200\n",
            "8/8 [==============================] - 0s 24ms/step - loss: 0.0013 - mean_squared_error: 0.0013 - mean_absolute_error: 0.0277 - val_loss: 0.0100 - val_mean_squared_error: 0.0100 - val_mean_absolute_error: 0.0790\n",
            "Epoch 183/200\n",
            "8/8 [==============================] - 0s 22ms/step - loss: 0.0015 - mean_squared_error: 0.0015 - mean_absolute_error: 0.0298 - val_loss: 0.0097 - val_mean_squared_error: 0.0097 - val_mean_absolute_error: 0.0775\n",
            "Epoch 184/200\n",
            "8/8 [==============================] - 0s 22ms/step - loss: 0.0013 - mean_squared_error: 0.0013 - mean_absolute_error: 0.0274 - val_loss: 0.0099 - val_mean_squared_error: 0.0099 - val_mean_absolute_error: 0.0784\n",
            "Epoch 185/200\n",
            "8/8 [==============================] - 0s 18ms/step - loss: 0.0013 - mean_squared_error: 0.0013 - mean_absolute_error: 0.0283 - val_loss: 0.0096 - val_mean_squared_error: 0.0096 - val_mean_absolute_error: 0.0772\n",
            "Epoch 186/200\n",
            "8/8 [==============================] - 0s 22ms/step - loss: 0.0013 - mean_squared_error: 0.0013 - mean_absolute_error: 0.0275 - val_loss: 0.0095 - val_mean_squared_error: 0.0095 - val_mean_absolute_error: 0.0767\n",
            "Epoch 187/200\n",
            "8/8 [==============================] - 0s 24ms/step - loss: 0.0013 - mean_squared_error: 0.0013 - mean_absolute_error: 0.0276 - val_loss: 0.0103 - val_mean_squared_error: 0.0103 - val_mean_absolute_error: 0.0803\n",
            "Epoch 188/200\n",
            "8/8 [==============================] - 0s 20ms/step - loss: 0.0013 - mean_squared_error: 0.0013 - mean_absolute_error: 0.0281 - val_loss: 0.0094 - val_mean_squared_error: 0.0094 - val_mean_absolute_error: 0.0762\n",
            "Epoch 189/200\n",
            "8/8 [==============================] - 0s 18ms/step - loss: 0.0012 - mean_squared_error: 0.0012 - mean_absolute_error: 0.0262 - val_loss: 0.0094 - val_mean_squared_error: 0.0094 - val_mean_absolute_error: 0.0765\n",
            "Epoch 190/200\n",
            "8/8 [==============================] - 0s 18ms/step - loss: 0.0013 - mean_squared_error: 0.0013 - mean_absolute_error: 0.0277 - val_loss: 0.0094 - val_mean_squared_error: 0.0094 - val_mean_absolute_error: 0.0762\n",
            "Epoch 191/200\n",
            "8/8 [==============================] - 0s 22ms/step - loss: 0.0012 - mean_squared_error: 0.0012 - mean_absolute_error: 0.0268 - val_loss: 0.0096 - val_mean_squared_error: 0.0096 - val_mean_absolute_error: 0.0775\n",
            "Epoch 192/200\n",
            "8/8 [==============================] - 0s 19ms/step - loss: 0.0012 - mean_squared_error: 0.0012 - mean_absolute_error: 0.0272 - val_loss: 0.0093 - val_mean_squared_error: 0.0093 - val_mean_absolute_error: 0.0759\n",
            "Epoch 193/200\n",
            "8/8 [==============================] - 0s 20ms/step - loss: 0.0012 - mean_squared_error: 0.0012 - mean_absolute_error: 0.0277 - val_loss: 0.0095 - val_mean_squared_error: 0.0095 - val_mean_absolute_error: 0.0768\n",
            "Epoch 194/200\n",
            "8/8 [==============================] - 0s 19ms/step - loss: 0.0012 - mean_squared_error: 0.0012 - mean_absolute_error: 0.0278 - val_loss: 0.0094 - val_mean_squared_error: 0.0094 - val_mean_absolute_error: 0.0763\n",
            "Epoch 195/200\n",
            "8/8 [==============================] - 0s 18ms/step - loss: 0.0012 - mean_squared_error: 0.0012 - mean_absolute_error: 0.0270 - val_loss: 0.0094 - val_mean_squared_error: 0.0094 - val_mean_absolute_error: 0.0763\n",
            "Epoch 196/200\n",
            "8/8 [==============================] - 0s 19ms/step - loss: 0.0012 - mean_squared_error: 0.0012 - mean_absolute_error: 0.0269 - val_loss: 0.0093 - val_mean_squared_error: 0.0093 - val_mean_absolute_error: 0.0761\n",
            "Epoch 197/200\n",
            "8/8 [==============================] - 0s 24ms/step - loss: 0.0013 - mean_squared_error: 0.0013 - mean_absolute_error: 0.0271 - val_loss: 0.0093 - val_mean_squared_error: 0.0093 - val_mean_absolute_error: 0.0763\n",
            "Epoch 198/200\n",
            "8/8 [==============================] - 0s 23ms/step - loss: 0.0011 - mean_squared_error: 0.0011 - mean_absolute_error: 0.0266 - val_loss: 0.0091 - val_mean_squared_error: 0.0091 - val_mean_absolute_error: 0.0750\n",
            "Epoch 199/200\n",
            "8/8 [==============================] - 0s 21ms/step - loss: 0.0013 - mean_squared_error: 0.0013 - mean_absolute_error: 0.0279 - val_loss: 0.0094 - val_mean_squared_error: 0.0094 - val_mean_absolute_error: 0.0764\n",
            "Epoch 200/200\n",
            "8/8 [==============================] - 0s 21ms/step - loss: 0.0012 - mean_squared_error: 0.0012 - mean_absolute_error: 0.0267 - val_loss: 0.0092 - val_mean_squared_error: 0.0092 - val_mean_absolute_error: 0.0752\n"
          ],
          "name": "stdout"
        },
        {
          "output_type": "display_data",
          "data": {
            "text/html": [
              "<br/>Waiting for W&B process to finish, PID 5412<br/>Program ended successfully."
            ],
            "text/plain": [
              "<IPython.core.display.HTML object>"
            ]
          },
          "metadata": {
            "tags": []
          }
        },
        {
          "output_type": "display_data",
          "data": {
            "application/vnd.jupyter.widget-view+json": {
              "model_id": "33e21649d89e44f49ac5128586c12e00",
              "version_minor": 0,
              "version_major": 2
            },
            "text/plain": [
              "VBox(children=(Label(value=' 0.52MB of 0.52MB uploaded (0.00MB deduped)\\r'), FloatProgress(value=1.0, max=1.0)…"
            ]
          },
          "metadata": {
            "tags": []
          }
        },
        {
          "output_type": "display_data",
          "data": {
            "text/html": [
              "Find user logs for this run at: <code>/content/feeder_repo/wandb/run-20210718_210631-lexlw7n5/logs/debug.log</code>"
            ],
            "text/plain": [
              "<IPython.core.display.HTML object>"
            ]
          },
          "metadata": {
            "tags": []
          }
        },
        {
          "output_type": "display_data",
          "data": {
            "text/html": [
              "Find internal logs for this run at: <code>/content/feeder_repo/wandb/run-20210718_210631-lexlw7n5/logs/debug-internal.log</code>"
            ],
            "text/plain": [
              "<IPython.core.display.HTML object>"
            ]
          },
          "metadata": {
            "tags": []
          }
        },
        {
          "output_type": "display_data",
          "data": {
            "text/html": [
              "<h3>Run summary:</h3><br/><style>\n",
              "    table.wandb td:nth-child(1) { padding: 0 10px; text-align: right }\n",
              "    </style><table class=\"wandb\">\n",
              "<tr><td>epoch</td><td>199</td></tr><tr><td>loss</td><td>0.00117</td></tr><tr><td>mean_squared_error</td><td>0.00117</td></tr><tr><td>mean_absolute_error</td><td>0.02672</td></tr><tr><td>val_loss</td><td>0.00915</td></tr><tr><td>val_mean_squared_error</td><td>0.00915</td></tr><tr><td>val_mean_absolute_error</td><td>0.07518</td></tr><tr><td>_runtime</td><td>50</td></tr><tr><td>_timestamp</td><td>1626642441</td></tr><tr><td>_step</td><td>199</td></tr><tr><td>best_val_loss</td><td>0.00913</td></tr><tr><td>best_epoch</td><td>197</td></tr></table>"
            ],
            "text/plain": [
              "<IPython.core.display.HTML object>"
            ]
          },
          "metadata": {
            "tags": []
          }
        },
        {
          "output_type": "display_data",
          "data": {
            "text/html": [
              "<h3>Run history:</h3><br/><style>\n",
              "    table.wandb td:nth-child(1) { padding: 0 10px; text-align: right }\n",
              "    </style><table class=\"wandb\">\n",
              "<tr><td>epoch</td><td>▁▁▁▁▂▂▂▂▂▃▃▃▃▃▃▄▄▄▄▄▅▅▅▅▅▅▆▆▆▆▆▇▇▇▇▇▇███</td></tr><tr><td>loss</td><td>█▂▁▁▁▁▁▁▁▁▁▁▁▁▁▁▁▁▁▁▁▁▁▁▁▁▁▁▁▁▁▁▁▁▁▁▁▁▁▁</td></tr><tr><td>mean_squared_error</td><td>█▂▁▁▁▁▁▁▁▁▁▁▁▁▁▁▁▁▁▁▁▁▁▁▁▁▁▁▁▁▁▁▁▁▁▁▁▁▁▁</td></tr><tr><td>mean_absolute_error</td><td>█▂▂▂▂▂▂▁▂▁▁▁▁▁▁▁▁▁▁▁▁▁▁▁▁▁▁▁▁▁▁▁▁▁▁▁▁▁▁▁</td></tr><tr><td>val_loss</td><td>█▇▆▆▅▅▅▅▄▄▄▄▃▃▃▃▃▃▃▃▃▂▂▂▂▂▂▂▂▂▂▂▁▁▁▁▁▁▁▁</td></tr><tr><td>val_mean_squared_error</td><td>█▇▆▆▅▅▅▅▄▄▄▄▃▃▃▃▃▃▃▃▃▂▂▂▂▂▂▂▂▂▂▂▁▁▁▁▁▁▁▁</td></tr><tr><td>val_mean_absolute_error</td><td>█▆▆▅▅▅▅▄▄▄▄▄▃▃▃▃▃▃▃▃▂▂▂▂▂▂▂▂▂▂▂▂▁▁▂▁▁▁▁▁</td></tr><tr><td>_runtime</td><td>▁▁▁▂▂▂▂▂▃▃▃▃▃▃▃▄▄▄▄▄▅▅▅▅▅▆▆▆▆▆▆▆▇▇▇▇▇███</td></tr><tr><td>_timestamp</td><td>▁▁▁▂▂▂▂▂▃▃▃▃▃▃▃▄▄▄▄▄▅▅▅▅▅▆▆▆▆▆▆▆▇▇▇▇▇███</td></tr><tr><td>_step</td><td>▁▁▁▁▂▂▂▂▂▃▃▃▃▃▃▄▄▄▄▄▅▅▅▅▅▅▆▆▆▆▆▇▇▇▇▇▇███</td></tr></table><br/>"
            ],
            "text/plain": [
              "<IPython.core.display.HTML object>"
            ]
          },
          "metadata": {
            "tags": []
          }
        },
        {
          "output_type": "display_data",
          "data": {
            "text/html": [
              "Synced 5 W&B file(s), 1 media file(s), 0 artifact file(s) and 2 other file(s)"
            ],
            "text/plain": [
              "<IPython.core.display.HTML object>"
            ]
          },
          "metadata": {
            "tags": []
          }
        },
        {
          "output_type": "display_data",
          "data": {
            "text/html": [
              "\n",
              "                    <br/>Synced <strong style=\"color:#cdcd00\">solar-sweep-19</strong>: <a href=\"https://wandb.ai/acse-jaq15/ACSE_9_LSTM_GRU/runs/lexlw7n5\" target=\"_blank\">https://wandb.ai/acse-jaq15/ACSE_9_LSTM_GRU/runs/lexlw7n5</a><br/>\n",
              "                "
            ],
            "text/plain": [
              "<IPython.core.display.HTML object>"
            ]
          },
          "metadata": {
            "tags": []
          }
        },
        {
          "output_type": "stream",
          "text": [
            "\u001b[34m\u001b[1mwandb\u001b[0m: Agent Starting Run: qwnwq6ak with config:\n",
            "\u001b[34m\u001b[1mwandb\u001b[0m: \tactivation: relu\n",
            "\u001b[34m\u001b[1mwandb\u001b[0m: \tbatch_size: 32\n",
            "\u001b[34m\u001b[1mwandb\u001b[0m: \tdropout: 0.3\n",
            "\u001b[34m\u001b[1mwandb\u001b[0m: \tepochs: 100\n",
            "\u001b[34m\u001b[1mwandb\u001b[0m: \tlearning_rate: 0.0005\n",
            "\u001b[34m\u001b[1mwandb\u001b[0m: \toptimizer: nadam\n"
          ],
          "name": "stderr"
        },
        {
          "output_type": "display_data",
          "data": {
            "text/html": [
              "\n",
              "                Tracking run with wandb version 0.11.0<br/>\n",
              "                Syncing run <strong style=\"color:#cdcd00\">eternal-sweep-20</strong> to <a href=\"https://wandb.ai\" target=\"_blank\">Weights & Biases</a> <a href=\"https://docs.wandb.com/integrations/jupyter.html\" target=\"_blank\">(Documentation)</a>.<br/>\n",
              "                Project page: <a href=\"https://wandb.ai/acse-jaq15/ACSE_9_LSTM_GRU\" target=\"_blank\">https://wandb.ai/acse-jaq15/ACSE_9_LSTM_GRU</a><br/>\n",
              "                Sweep page: <a href=\"https://wandb.ai/acse-jaq15/ACSE_9_LSTM_GRU/sweeps/hgiundb1\" target=\"_blank\">https://wandb.ai/acse-jaq15/ACSE_9_LSTM_GRU/sweeps/hgiundb1</a><br/>\n",
              "Run page: <a href=\"https://wandb.ai/acse-jaq15/ACSE_9_LSTM_GRU/runs/qwnwq6ak\" target=\"_blank\">https://wandb.ai/acse-jaq15/ACSE_9_LSTM_GRU/runs/qwnwq6ak</a><br/>\n",
              "                Run data is saved locally in <code>/content/feeder_repo/wandb/run-20210718_210738-qwnwq6ak</code><br/><br/>\n",
              "            "
            ],
            "text/plain": [
              "<IPython.core.display.HTML object>"
            ]
          },
          "metadata": {
            "tags": []
          }
        },
        {
          "output_type": "stream",
          "text": [
            "WARNING:tensorflow:Layer lstm will not use cuDNN kernels since it doesn't meet the criteria. It will use a generic GPU kernel as fallback when running on GPU.\n",
            "WARNING:tensorflow:Layer gru will not use cuDNN kernels since it doesn't meet the criteria. It will use a generic GPU kernel as fallback when running on GPU.\n",
            "Epoch 1/100\n",
            "32/32 [==============================] - 13s 233ms/step - loss: 0.1876 - mean_squared_error: 0.1876 - mean_absolute_error: 0.3759 - val_loss: 0.0234 - val_mean_squared_error: 0.0234 - val_mean_absolute_error: 0.1282\n",
            "Epoch 2/100\n",
            "32/32 [==============================] - 6s 190ms/step - loss: 0.0071 - mean_squared_error: 0.0071 - mean_absolute_error: 0.0670 - val_loss: 0.0175 - val_mean_squared_error: 0.0175 - val_mean_absolute_error: 0.1032\n",
            "Epoch 3/100\n",
            "32/32 [==============================] - 6s 190ms/step - loss: 0.0041 - mean_squared_error: 0.0041 - mean_absolute_error: 0.0485 - val_loss: 0.0180 - val_mean_squared_error: 0.0180 - val_mean_absolute_error: 0.1056\n",
            "Epoch 4/100\n",
            "32/32 [==============================] - 6s 185ms/step - loss: 0.0034 - mean_squared_error: 0.0034 - mean_absolute_error: 0.0449 - val_loss: 0.0182 - val_mean_squared_error: 0.0182 - val_mean_absolute_error: 0.1062\n",
            "Epoch 5/100\n",
            "32/32 [==============================] - 6s 190ms/step - loss: 0.0033 - mean_squared_error: 0.0033 - mean_absolute_error: 0.0457 - val_loss: 0.0182 - val_mean_squared_error: 0.0182 - val_mean_absolute_error: 0.1059\n",
            "Epoch 6/100\n",
            "32/32 [==============================] - 6s 193ms/step - loss: 0.0030 - mean_squared_error: 0.0030 - mean_absolute_error: 0.0417 - val_loss: 0.0182 - val_mean_squared_error: 0.0182 - val_mean_absolute_error: 0.1057\n",
            "Epoch 7/100\n",
            "32/32 [==============================] - 6s 190ms/step - loss: 0.0033 - mean_squared_error: 0.0033 - mean_absolute_error: 0.0446 - val_loss: 0.0179 - val_mean_squared_error: 0.0179 - val_mean_absolute_error: 0.1057\n",
            "Epoch 8/100\n",
            "32/32 [==============================] - 6s 191ms/step - loss: 0.0028 - mean_squared_error: 0.0028 - mean_absolute_error: 0.0414 - val_loss: 0.0173 - val_mean_squared_error: 0.0173 - val_mean_absolute_error: 0.1039\n",
            "Epoch 9/100\n",
            "32/32 [==============================] - 6s 191ms/step - loss: 0.0029 - mean_squared_error: 0.0029 - mean_absolute_error: 0.0415 - val_loss: 0.0173 - val_mean_squared_error: 0.0173 - val_mean_absolute_error: 0.1043\n",
            "Epoch 10/100\n",
            "32/32 [==============================] - 6s 186ms/step - loss: 0.0026 - mean_squared_error: 0.0026 - mean_absolute_error: 0.0388 - val_loss: 0.0177 - val_mean_squared_error: 0.0177 - val_mean_absolute_error: 0.1061\n",
            "Epoch 11/100\n",
            "32/32 [==============================] - 6s 188ms/step - loss: 0.0029 - mean_squared_error: 0.0029 - mean_absolute_error: 0.0417 - val_loss: 0.0170 - val_mean_squared_error: 0.0170 - val_mean_absolute_error: 0.1028\n",
            "Epoch 12/100\n",
            "32/32 [==============================] - 6s 184ms/step - loss: 0.0026 - mean_squared_error: 0.0026 - mean_absolute_error: 0.0392 - val_loss: 0.0165 - val_mean_squared_error: 0.0165 - val_mean_absolute_error: 0.1012\n",
            "Epoch 13/100\n",
            "32/32 [==============================] - 6s 195ms/step - loss: 0.0024 - mean_squared_error: 0.0024 - mean_absolute_error: 0.0386 - val_loss: 0.0167 - val_mean_squared_error: 0.0167 - val_mean_absolute_error: 0.1019\n",
            "Epoch 14/100\n",
            "32/32 [==============================] - 6s 198ms/step - loss: 0.0024 - mean_squared_error: 0.0024 - mean_absolute_error: 0.0391 - val_loss: 0.0166 - val_mean_squared_error: 0.0166 - val_mean_absolute_error: 0.1016\n",
            "Epoch 15/100\n",
            "32/32 [==============================] - 6s 190ms/step - loss: 0.0025 - mean_squared_error: 0.0025 - mean_absolute_error: 0.0393 - val_loss: 0.0165 - val_mean_squared_error: 0.0165 - val_mean_absolute_error: 0.1020\n",
            "Epoch 16/100\n",
            "32/32 [==============================] - 6s 191ms/step - loss: 0.0026 - mean_squared_error: 0.0026 - mean_absolute_error: 0.0398 - val_loss: 0.0170 - val_mean_squared_error: 0.0170 - val_mean_absolute_error: 0.1021\n",
            "Epoch 17/100\n",
            "32/32 [==============================] - 6s 189ms/step - loss: 0.0027 - mean_squared_error: 0.0027 - mean_absolute_error: 0.0396 - val_loss: 0.0165 - val_mean_squared_error: 0.0165 - val_mean_absolute_error: 0.1014\n",
            "Epoch 18/100\n",
            "32/32 [==============================] - 6s 188ms/step - loss: 0.0027 - mean_squared_error: 0.0027 - mean_absolute_error: 0.0399 - val_loss: 0.0159 - val_mean_squared_error: 0.0159 - val_mean_absolute_error: 0.0991\n",
            "Epoch 19/100\n",
            "32/32 [==============================] - 6s 186ms/step - loss: 0.0020 - mean_squared_error: 0.0020 - mean_absolute_error: 0.0356 - val_loss: 0.0162 - val_mean_squared_error: 0.0162 - val_mean_absolute_error: 0.0997\n",
            "Epoch 20/100\n",
            "32/32 [==============================] - 6s 181ms/step - loss: 0.0025 - mean_squared_error: 0.0025 - mean_absolute_error: 0.0387 - val_loss: 0.0159 - val_mean_squared_error: 0.0159 - val_mean_absolute_error: 0.0991\n",
            "Epoch 21/100\n",
            "32/32 [==============================] - 6s 187ms/step - loss: 0.0025 - mean_squared_error: 0.0025 - mean_absolute_error: 0.0377 - val_loss: 0.0155 - val_mean_squared_error: 0.0155 - val_mean_absolute_error: 0.0982\n",
            "Epoch 22/100\n",
            "32/32 [==============================] - 6s 190ms/step - loss: 0.0023 - mean_squared_error: 0.0023 - mean_absolute_error: 0.0377 - val_loss: 0.0164 - val_mean_squared_error: 0.0164 - val_mean_absolute_error: 0.1019\n",
            "Epoch 23/100\n",
            "32/32 [==============================] - 6s 185ms/step - loss: 0.0023 - mean_squared_error: 0.0023 - mean_absolute_error: 0.0373 - val_loss: 0.0152 - val_mean_squared_error: 0.0152 - val_mean_absolute_error: 0.0970\n",
            "Epoch 24/100\n",
            "32/32 [==============================] - 6s 192ms/step - loss: 0.0023 - mean_squared_error: 0.0023 - mean_absolute_error: 0.0378 - val_loss: 0.0151 - val_mean_squared_error: 0.0151 - val_mean_absolute_error: 0.0964\n",
            "Epoch 25/100\n",
            "32/32 [==============================] - 6s 190ms/step - loss: 0.0021 - mean_squared_error: 0.0021 - mean_absolute_error: 0.0359 - val_loss: 0.0150 - val_mean_squared_error: 0.0150 - val_mean_absolute_error: 0.0966\n",
            "Epoch 26/100\n",
            "32/32 [==============================] - 6s 191ms/step - loss: 0.0022 - mean_squared_error: 0.0022 - mean_absolute_error: 0.0366 - val_loss: 0.0150 - val_mean_squared_error: 0.0150 - val_mean_absolute_error: 0.0961\n",
            "Epoch 27/100\n",
            "32/32 [==============================] - 6s 190ms/step - loss: 0.0019 - mean_squared_error: 0.0019 - mean_absolute_error: 0.0343 - val_loss: 0.0152 - val_mean_squared_error: 0.0152 - val_mean_absolute_error: 0.0971\n",
            "Epoch 28/100\n",
            "32/32 [==============================] - 6s 187ms/step - loss: 0.0023 - mean_squared_error: 0.0023 - mean_absolute_error: 0.0364 - val_loss: 0.0150 - val_mean_squared_error: 0.0150 - val_mean_absolute_error: 0.0961\n",
            "Epoch 29/100\n",
            "32/32 [==============================] - 6s 187ms/step - loss: 0.0025 - mean_squared_error: 0.0025 - mean_absolute_error: 0.0380 - val_loss: 0.0149 - val_mean_squared_error: 0.0149 - val_mean_absolute_error: 0.0957\n",
            "Epoch 30/100\n",
            "32/32 [==============================] - 6s 191ms/step - loss: 0.0022 - mean_squared_error: 0.0022 - mean_absolute_error: 0.0359 - val_loss: 0.0152 - val_mean_squared_error: 0.0152 - val_mean_absolute_error: 0.0979\n",
            "Epoch 31/100\n",
            "32/32 [==============================] - 6s 185ms/step - loss: 0.0022 - mean_squared_error: 0.0022 - mean_absolute_error: 0.0360 - val_loss: 0.0146 - val_mean_squared_error: 0.0146 - val_mean_absolute_error: 0.0956\n",
            "Epoch 32/100\n",
            "32/32 [==============================] - 6s 189ms/step - loss: 0.0022 - mean_squared_error: 0.0022 - mean_absolute_error: 0.0366 - val_loss: 0.0145 - val_mean_squared_error: 0.0145 - val_mean_absolute_error: 0.0948\n",
            "Epoch 33/100\n",
            "32/32 [==============================] - 6s 187ms/step - loss: 0.0023 - mean_squared_error: 0.0023 - mean_absolute_error: 0.0365 - val_loss: 0.0154 - val_mean_squared_error: 0.0154 - val_mean_absolute_error: 0.0986\n",
            "Epoch 34/100\n",
            "32/32 [==============================] - 6s 193ms/step - loss: 0.0028 - mean_squared_error: 0.0028 - mean_absolute_error: 0.0408 - val_loss: 0.0138 - val_mean_squared_error: 0.0138 - val_mean_absolute_error: 0.0926\n",
            "Epoch 35/100\n",
            "32/32 [==============================] - 6s 185ms/step - loss: 0.0023 - mean_squared_error: 0.0023 - mean_absolute_error: 0.0371 - val_loss: 0.0143 - val_mean_squared_error: 0.0143 - val_mean_absolute_error: 0.0940\n",
            "Epoch 36/100\n",
            "32/32 [==============================] - 6s 183ms/step - loss: 0.0024 - mean_squared_error: 0.0024 - mean_absolute_error: 0.0371 - val_loss: 0.0137 - val_mean_squared_error: 0.0137 - val_mean_absolute_error: 0.0927\n",
            "Epoch 37/100\n",
            "32/32 [==============================] - 6s 187ms/step - loss: 0.0020 - mean_squared_error: 0.0020 - mean_absolute_error: 0.0355 - val_loss: 0.0137 - val_mean_squared_error: 0.0137 - val_mean_absolute_error: 0.0922\n",
            "Epoch 38/100\n",
            "32/32 [==============================] - 6s 185ms/step - loss: 0.0023 - mean_squared_error: 0.0023 - mean_absolute_error: 0.0371 - val_loss: 0.0138 - val_mean_squared_error: 0.0138 - val_mean_absolute_error: 0.0927\n",
            "Epoch 39/100\n",
            "32/32 [==============================] - 6s 186ms/step - loss: 0.0021 - mean_squared_error: 0.0021 - mean_absolute_error: 0.0359 - val_loss: 0.0134 - val_mean_squared_error: 0.0134 - val_mean_absolute_error: 0.0914\n",
            "Epoch 40/100\n",
            "32/32 [==============================] - 6s 193ms/step - loss: 0.0019 - mean_squared_error: 0.0019 - mean_absolute_error: 0.0337 - val_loss: 0.0137 - val_mean_squared_error: 0.0137 - val_mean_absolute_error: 0.0920\n",
            "Epoch 41/100\n",
            "32/32 [==============================] - 6s 185ms/step - loss: 0.0019 - mean_squared_error: 0.0019 - mean_absolute_error: 0.0345 - val_loss: 0.0137 - val_mean_squared_error: 0.0137 - val_mean_absolute_error: 0.0920\n",
            "Epoch 42/100\n",
            "32/32 [==============================] - 6s 194ms/step - loss: 0.0017 - mean_squared_error: 0.0017 - mean_absolute_error: 0.0325 - val_loss: 0.0152 - val_mean_squared_error: 0.0152 - val_mean_absolute_error: 0.0959\n",
            "Epoch 43/100\n",
            "32/32 [==============================] - 6s 188ms/step - loss: 0.0021 - mean_squared_error: 0.0021 - mean_absolute_error: 0.0364 - val_loss: 0.0133 - val_mean_squared_error: 0.0133 - val_mean_absolute_error: 0.0904\n",
            "Epoch 44/100\n",
            "32/32 [==============================] - 6s 188ms/step - loss: 0.0021 - mean_squared_error: 0.0021 - mean_absolute_error: 0.0348 - val_loss: 0.0131 - val_mean_squared_error: 0.0131 - val_mean_absolute_error: 0.0899\n",
            "Epoch 45/100\n",
            "32/32 [==============================] - 6s 191ms/step - loss: 0.0018 - mean_squared_error: 0.0018 - mean_absolute_error: 0.0326 - val_loss: 0.0130 - val_mean_squared_error: 0.0130 - val_mean_absolute_error: 0.0894\n",
            "Epoch 46/100\n",
            "32/32 [==============================] - 6s 193ms/step - loss: 0.0020 - mean_squared_error: 0.0020 - mean_absolute_error: 0.0349 - val_loss: 0.0131 - val_mean_squared_error: 0.0131 - val_mean_absolute_error: 0.0899\n",
            "Epoch 47/100\n",
            "32/32 [==============================] - 6s 189ms/step - loss: 0.0021 - mean_squared_error: 0.0021 - mean_absolute_error: 0.0347 - val_loss: 0.0135 - val_mean_squared_error: 0.0135 - val_mean_absolute_error: 0.0906\n",
            "Epoch 48/100\n",
            "32/32 [==============================] - 6s 194ms/step - loss: 0.0018 - mean_squared_error: 0.0018 - mean_absolute_error: 0.0328 - val_loss: 0.0129 - val_mean_squared_error: 0.0129 - val_mean_absolute_error: 0.0898\n",
            "Epoch 49/100\n",
            "32/32 [==============================] - 6s 196ms/step - loss: 0.0019 - mean_squared_error: 0.0019 - mean_absolute_error: 0.0336 - val_loss: 0.0128 - val_mean_squared_error: 0.0128 - val_mean_absolute_error: 0.0889\n",
            "Epoch 50/100\n",
            "32/32 [==============================] - 6s 193ms/step - loss: 0.0020 - mean_squared_error: 0.0020 - mean_absolute_error: 0.0346 - val_loss: 0.0130 - val_mean_squared_error: 0.0130 - val_mean_absolute_error: 0.0894\n",
            "Epoch 51/100\n",
            "32/32 [==============================] - 6s 192ms/step - loss: 0.0019 - mean_squared_error: 0.0019 - mean_absolute_error: 0.0341 - val_loss: 0.0130 - val_mean_squared_error: 0.0130 - val_mean_absolute_error: 0.0894\n",
            "Epoch 52/100\n",
            "32/32 [==============================] - 6s 196ms/step - loss: 0.0023 - mean_squared_error: 0.0023 - mean_absolute_error: 0.0371 - val_loss: 0.0130 - val_mean_squared_error: 0.0130 - val_mean_absolute_error: 0.0892\n",
            "Epoch 53/100\n",
            "32/32 [==============================] - 6s 191ms/step - loss: 0.0018 - mean_squared_error: 0.0018 - mean_absolute_error: 0.0331 - val_loss: 0.0125 - val_mean_squared_error: 0.0125 - val_mean_absolute_error: 0.0877\n",
            "Epoch 54/100\n",
            "32/32 [==============================] - 6s 200ms/step - loss: 0.0017 - mean_squared_error: 0.0017 - mean_absolute_error: 0.0312 - val_loss: 0.0126 - val_mean_squared_error: 0.0126 - val_mean_absolute_error: 0.0886\n",
            "Epoch 55/100\n",
            "32/32 [==============================] - 6s 192ms/step - loss: 0.0019 - mean_squared_error: 0.0019 - mean_absolute_error: 0.0342 - val_loss: 0.0123 - val_mean_squared_error: 0.0123 - val_mean_absolute_error: 0.0873\n",
            "Epoch 56/100\n",
            "32/32 [==============================] - 6s 196ms/step - loss: 0.0019 - mean_squared_error: 0.0019 - mean_absolute_error: 0.0336 - val_loss: 0.0134 - val_mean_squared_error: 0.0134 - val_mean_absolute_error: 0.0897\n",
            "Epoch 57/100\n",
            "32/32 [==============================] - 6s 189ms/step - loss: 0.0020 - mean_squared_error: 0.0020 - mean_absolute_error: 0.0345 - val_loss: 0.0122 - val_mean_squared_error: 0.0122 - val_mean_absolute_error: 0.0867\n",
            "Epoch 58/100\n",
            "32/32 [==============================] - 6s 195ms/step - loss: 0.0018 - mean_squared_error: 0.0018 - mean_absolute_error: 0.0333 - val_loss: 0.0131 - val_mean_squared_error: 0.0131 - val_mean_absolute_error: 0.0886\n",
            "Epoch 59/100\n",
            "32/32 [==============================] - 6s 193ms/step - loss: 0.0017 - mean_squared_error: 0.0017 - mean_absolute_error: 0.0323 - val_loss: 0.0124 - val_mean_squared_error: 0.0124 - val_mean_absolute_error: 0.0869\n",
            "Epoch 60/100\n",
            "32/32 [==============================] - 6s 190ms/step - loss: 0.0018 - mean_squared_error: 0.0018 - mean_absolute_error: 0.0329 - val_loss: 0.0121 - val_mean_squared_error: 0.0121 - val_mean_absolute_error: 0.0865\n",
            "Epoch 61/100\n",
            "32/32 [==============================] - 6s 189ms/step - loss: 0.0018 - mean_squared_error: 0.0018 - mean_absolute_error: 0.0329 - val_loss: 0.0124 - val_mean_squared_error: 0.0124 - val_mean_absolute_error: 0.0866\n",
            "Epoch 62/100\n",
            "32/32 [==============================] - 6s 194ms/step - loss: 0.0019 - mean_squared_error: 0.0019 - mean_absolute_error: 0.0341 - val_loss: 0.0125 - val_mean_squared_error: 0.0125 - val_mean_absolute_error: 0.0869\n",
            "Epoch 63/100\n",
            "32/32 [==============================] - 6s 195ms/step - loss: 0.0018 - mean_squared_error: 0.0018 - mean_absolute_error: 0.0331 - val_loss: 0.0119 - val_mean_squared_error: 0.0119 - val_mean_absolute_error: 0.0857\n",
            "Epoch 64/100\n",
            "32/32 [==============================] - 6s 196ms/step - loss: 0.0017 - mean_squared_error: 0.0017 - mean_absolute_error: 0.0320 - val_loss: 0.0120 - val_mean_squared_error: 0.0120 - val_mean_absolute_error: 0.0857\n",
            "Epoch 65/100\n",
            "32/32 [==============================] - 6s 197ms/step - loss: 0.0017 - mean_squared_error: 0.0017 - mean_absolute_error: 0.0323 - val_loss: 0.0118 - val_mean_squared_error: 0.0118 - val_mean_absolute_error: 0.0853\n",
            "Epoch 66/100\n",
            "32/32 [==============================] - 6s 195ms/step - loss: 0.0018 - mean_squared_error: 0.0018 - mean_absolute_error: 0.0329 - val_loss: 0.0122 - val_mean_squared_error: 0.0122 - val_mean_absolute_error: 0.0861\n",
            "Epoch 67/100\n",
            "32/32 [==============================] - 6s 195ms/step - loss: 0.0016 - mean_squared_error: 0.0016 - mean_absolute_error: 0.0316 - val_loss: 0.0122 - val_mean_squared_error: 0.0122 - val_mean_absolute_error: 0.0861\n",
            "Epoch 68/100\n",
            "32/32 [==============================] - 6s 190ms/step - loss: 0.0015 - mean_squared_error: 0.0015 - mean_absolute_error: 0.0300 - val_loss: 0.0119 - val_mean_squared_error: 0.0119 - val_mean_absolute_error: 0.0851\n",
            "Epoch 69/100\n",
            "32/32 [==============================] - 6s 188ms/step - loss: 0.0017 - mean_squared_error: 0.0017 - mean_absolute_error: 0.0321 - val_loss: 0.0119 - val_mean_squared_error: 0.0119 - val_mean_absolute_error: 0.0864\n",
            "Epoch 70/100\n",
            "32/32 [==============================] - 6s 197ms/step - loss: 0.0017 - mean_squared_error: 0.0017 - mean_absolute_error: 0.0321 - val_loss: 0.0118 - val_mean_squared_error: 0.0118 - val_mean_absolute_error: 0.0849\n",
            "Epoch 71/100\n",
            "32/32 [==============================] - 6s 192ms/step - loss: 0.0016 - mean_squared_error: 0.0016 - mean_absolute_error: 0.0303 - val_loss: 0.0118 - val_mean_squared_error: 0.0118 - val_mean_absolute_error: 0.0854\n",
            "Epoch 72/100\n",
            "32/32 [==============================] - 6s 188ms/step - loss: 0.0016 - mean_squared_error: 0.0016 - mean_absolute_error: 0.0310 - val_loss: 0.0126 - val_mean_squared_error: 0.0126 - val_mean_absolute_error: 0.0868\n",
            "Epoch 73/100\n",
            "32/32 [==============================] - 6s 192ms/step - loss: 0.0019 - mean_squared_error: 0.0019 - mean_absolute_error: 0.0331 - val_loss: 0.0118 - val_mean_squared_error: 0.0118 - val_mean_absolute_error: 0.0846\n",
            "Epoch 74/100\n",
            "32/32 [==============================] - 6s 189ms/step - loss: 0.0017 - mean_squared_error: 0.0017 - mean_absolute_error: 0.0323 - val_loss: 0.0116 - val_mean_squared_error: 0.0116 - val_mean_absolute_error: 0.0839\n",
            "Epoch 75/100\n",
            "32/32 [==============================] - 6s 195ms/step - loss: 0.0017 - mean_squared_error: 0.0017 - mean_absolute_error: 0.0322 - val_loss: 0.0117 - val_mean_squared_error: 0.0117 - val_mean_absolute_error: 0.0844\n",
            "Epoch 76/100\n",
            "32/32 [==============================] - 6s 198ms/step - loss: 0.0018 - mean_squared_error: 0.0018 - mean_absolute_error: 0.0326 - val_loss: 0.0117 - val_mean_squared_error: 0.0117 - val_mean_absolute_error: 0.0841\n",
            "Epoch 77/100\n",
            "32/32 [==============================] - 6s 195ms/step - loss: 0.0017 - mean_squared_error: 0.0017 - mean_absolute_error: 0.0307 - val_loss: 0.0115 - val_mean_squared_error: 0.0115 - val_mean_absolute_error: 0.0836\n",
            "Epoch 78/100\n",
            "32/32 [==============================] - 6s 191ms/step - loss: 0.0016 - mean_squared_error: 0.0016 - mean_absolute_error: 0.0302 - val_loss: 0.0120 - val_mean_squared_error: 0.0120 - val_mean_absolute_error: 0.0848\n",
            "Epoch 79/100\n",
            "32/32 [==============================] - 6s 192ms/step - loss: 0.0016 - mean_squared_error: 0.0016 - mean_absolute_error: 0.0309 - val_loss: 0.0112 - val_mean_squared_error: 0.0112 - val_mean_absolute_error: 0.0825\n",
            "Epoch 80/100\n",
            "32/32 [==============================] - 6s 186ms/step - loss: 0.0015 - mean_squared_error: 0.0015 - mean_absolute_error: 0.0306 - val_loss: 0.0114 - val_mean_squared_error: 0.0114 - val_mean_absolute_error: 0.0831\n",
            "Epoch 81/100\n",
            "32/32 [==============================] - 6s 190ms/step - loss: 0.0017 - mean_squared_error: 0.0017 - mean_absolute_error: 0.0318 - val_loss: 0.0116 - val_mean_squared_error: 0.0116 - val_mean_absolute_error: 0.0836\n",
            "Epoch 82/100\n",
            "32/32 [==============================] - 6s 194ms/step - loss: 0.0015 - mean_squared_error: 0.0015 - mean_absolute_error: 0.0301 - val_loss: 0.0117 - val_mean_squared_error: 0.0117 - val_mean_absolute_error: 0.0836\n",
            "Epoch 83/100\n",
            "32/32 [==============================] - 6s 188ms/step - loss: 0.0017 - mean_squared_error: 0.0017 - mean_absolute_error: 0.0314 - val_loss: 0.0124 - val_mean_squared_error: 0.0124 - val_mean_absolute_error: 0.0860\n",
            "Epoch 84/100\n",
            "32/32 [==============================] - 6s 203ms/step - loss: 0.0018 - mean_squared_error: 0.0018 - mean_absolute_error: 0.0329 - val_loss: 0.0114 - val_mean_squared_error: 0.0114 - val_mean_absolute_error: 0.0832\n",
            "Epoch 85/100\n",
            "32/32 [==============================] - 6s 190ms/step - loss: 0.0017 - mean_squared_error: 0.0017 - mean_absolute_error: 0.0319 - val_loss: 0.0120 - val_mean_squared_error: 0.0120 - val_mean_absolute_error: 0.0847\n",
            "Epoch 86/100\n",
            "32/32 [==============================] - 6s 194ms/step - loss: 0.0015 - mean_squared_error: 0.0015 - mean_absolute_error: 0.0298 - val_loss: 0.0114 - val_mean_squared_error: 0.0114 - val_mean_absolute_error: 0.0827\n",
            "Epoch 87/100\n",
            "32/32 [==============================] - 6s 196ms/step - loss: 0.0016 - mean_squared_error: 0.0016 - mean_absolute_error: 0.0306 - val_loss: 0.0113 - val_mean_squared_error: 0.0113 - val_mean_absolute_error: 0.0826\n",
            "Epoch 88/100\n",
            "32/32 [==============================] - 6s 198ms/step - loss: 0.0015 - mean_squared_error: 0.0015 - mean_absolute_error: 0.0299 - val_loss: 0.0110 - val_mean_squared_error: 0.0110 - val_mean_absolute_error: 0.0815\n",
            "Epoch 89/100\n",
            "32/32 [==============================] - 6s 194ms/step - loss: 0.0015 - mean_squared_error: 0.0015 - mean_absolute_error: 0.0301 - val_loss: 0.0111 - val_mean_squared_error: 0.0111 - val_mean_absolute_error: 0.0813\n",
            "Epoch 90/100\n",
            "32/32 [==============================] - 6s 192ms/step - loss: 0.0016 - mean_squared_error: 0.0016 - mean_absolute_error: 0.0300 - val_loss: 0.0107 - val_mean_squared_error: 0.0107 - val_mean_absolute_error: 0.0802\n",
            "Epoch 91/100\n",
            "32/32 [==============================] - 6s 196ms/step - loss: 0.0014 - mean_squared_error: 0.0014 - mean_absolute_error: 0.0285 - val_loss: 0.0108 - val_mean_squared_error: 0.0108 - val_mean_absolute_error: 0.0808\n",
            "Epoch 92/100\n",
            "32/32 [==============================] - 6s 195ms/step - loss: 0.0017 - mean_squared_error: 0.0017 - mean_absolute_error: 0.0307 - val_loss: 0.0116 - val_mean_squared_error: 0.0116 - val_mean_absolute_error: 0.0827\n",
            "Epoch 93/100\n",
            "32/32 [==============================] - 6s 191ms/step - loss: 0.0017 - mean_squared_error: 0.0017 - mean_absolute_error: 0.0315 - val_loss: 0.0114 - val_mean_squared_error: 0.0114 - val_mean_absolute_error: 0.0823\n",
            "Epoch 94/100\n",
            "32/32 [==============================] - 6s 189ms/step - loss: 0.0013 - mean_squared_error: 0.0013 - mean_absolute_error: 0.0278 - val_loss: 0.0120 - val_mean_squared_error: 0.0120 - val_mean_absolute_error: 0.0839\n",
            "Epoch 95/100\n",
            "32/32 [==============================] - 6s 194ms/step - loss: 0.0016 - mean_squared_error: 0.0016 - mean_absolute_error: 0.0303 - val_loss: 0.0107 - val_mean_squared_error: 0.0107 - val_mean_absolute_error: 0.0809\n",
            "Epoch 96/100\n",
            "32/32 [==============================] - 6s 199ms/step - loss: 0.0016 - mean_squared_error: 0.0016 - mean_absolute_error: 0.0298 - val_loss: 0.0108 - val_mean_squared_error: 0.0108 - val_mean_absolute_error: 0.0805\n",
            "Epoch 97/100\n",
            "32/32 [==============================] - 6s 192ms/step - loss: 0.0015 - mean_squared_error: 0.0015 - mean_absolute_error: 0.0300 - val_loss: 0.0104 - val_mean_squared_error: 0.0104 - val_mean_absolute_error: 0.0799\n",
            "Epoch 98/100\n",
            "32/32 [==============================] - 6s 187ms/step - loss: 0.0015 - mean_squared_error: 0.0015 - mean_absolute_error: 0.0310 - val_loss: 0.0118 - val_mean_squared_error: 0.0118 - val_mean_absolute_error: 0.0834\n",
            "Epoch 99/100\n",
            "32/32 [==============================] - 6s 190ms/step - loss: 0.0015 - mean_squared_error: 0.0015 - mean_absolute_error: 0.0302 - val_loss: 0.0107 - val_mean_squared_error: 0.0107 - val_mean_absolute_error: 0.0802\n",
            "Epoch 100/100\n",
            "32/32 [==============================] - 6s 192ms/step - loss: 0.0014 - mean_squared_error: 0.0014 - mean_absolute_error: 0.0288 - val_loss: 0.0113 - val_mean_squared_error: 0.0113 - val_mean_absolute_error: 0.0816\n"
          ],
          "name": "stdout"
        },
        {
          "output_type": "display_data",
          "data": {
            "text/html": [
              "<br/>Waiting for W&B process to finish, PID 6064<br/>Program ended successfully."
            ],
            "text/plain": [
              "<IPython.core.display.HTML object>"
            ]
          },
          "metadata": {
            "tags": []
          }
        },
        {
          "output_type": "display_data",
          "data": {
            "application/vnd.jupyter.widget-view+json": {
              "model_id": "7df589f4c1e24797a3f2d1c8ed2f04ae",
              "version_minor": 0,
              "version_major": 2
            },
            "text/plain": [
              "VBox(children=(Label(value=' 0.79MB of 0.79MB uploaded (0.00MB deduped)\\r'), FloatProgress(value=1.0, max=1.0)…"
            ]
          },
          "metadata": {
            "tags": []
          }
        },
        {
          "output_type": "display_data",
          "data": {
            "text/html": [
              "Find user logs for this run at: <code>/content/feeder_repo/wandb/run-20210718_210738-qwnwq6ak/logs/debug.log</code>"
            ],
            "text/plain": [
              "<IPython.core.display.HTML object>"
            ]
          },
          "metadata": {
            "tags": []
          }
        },
        {
          "output_type": "display_data",
          "data": {
            "text/html": [
              "Find internal logs for this run at: <code>/content/feeder_repo/wandb/run-20210718_210738-qwnwq6ak/logs/debug-internal.log</code>"
            ],
            "text/plain": [
              "<IPython.core.display.HTML object>"
            ]
          },
          "metadata": {
            "tags": []
          }
        },
        {
          "output_type": "display_data",
          "data": {
            "text/html": [
              "<h3>Run summary:</h3><br/><style>\n",
              "    table.wandb td:nth-child(1) { padding: 0 10px; text-align: right }\n",
              "    </style><table class=\"wandb\">\n",
              "<tr><td>epoch</td><td>99</td></tr><tr><td>loss</td><td>0.00149</td></tr><tr><td>mean_squared_error</td><td>0.00149</td></tr><tr><td>mean_absolute_error</td><td>0.02938</td></tr><tr><td>val_loss</td><td>0.01131</td></tr><tr><td>val_mean_squared_error</td><td>0.01131</td></tr><tr><td>val_mean_absolute_error</td><td>0.08163</td></tr><tr><td>_runtime</td><td>629</td></tr><tr><td>_timestamp</td><td>1626643087</td></tr><tr><td>_step</td><td>99</td></tr><tr><td>best_val_loss</td><td>0.01038</td></tr><tr><td>best_epoch</td><td>96</td></tr></table>"
            ],
            "text/plain": [
              "<IPython.core.display.HTML object>"
            ]
          },
          "metadata": {
            "tags": []
          }
        },
        {
          "output_type": "display_data",
          "data": {
            "text/html": [
              "<h3>Run history:</h3><br/><style>\n",
              "    table.wandb td:nth-child(1) { padding: 0 10px; text-align: right }\n",
              "    </style><table class=\"wandb\">\n",
              "<tr><td>epoch</td><td>▁▁▁▁▂▂▂▂▂▃▃▃▃▃▃▄▄▄▄▄▅▅▅▅▅▅▆▆▆▆▆▇▇▇▇▇▇███</td></tr><tr><td>loss</td><td>█▁▁▁▁▁▁▁▁▁▁▁▁▁▁▁▁▁▁▁▁▁▁▁▁▁▁▁▁▁▁▁▁▁▁▁▁▁▁▁</td></tr><tr><td>mean_squared_error</td><td>█▁▁▁▁▁▁▁▁▁▁▁▁▁▁▁▁▁▁▁▁▁▁▁▁▁▁▁▁▁▁▁▁▁▁▁▁▁▁▁</td></tr><tr><td>mean_absolute_error</td><td>█▁▁▁▁▁▁▁▁▁▁▁▁▁▁▁▁▁▁▁▁▁▁▁▁▁▁▁▁▁▁▁▁▁▁▁▁▁▁▁</td></tr><tr><td>val_loss</td><td>█▅▅▅▅▄▅▄▄▄▃▃▃▃▃▃▃▂▂▂▂▂▃▂▂▂▂▂▂▂▂▁▂▂▁▁▂▂▁▁</td></tr><tr><td>val_mean_squared_error</td><td>█▅▅▅▅▄▅▄▄▄▃▃▃▃▃▃▃▂▂▂▂▂▃▂▂▂▂▂▂▂▂▁▂▂▁▁▂▂▁▁</td></tr><tr><td>val_mean_absolute_error</td><td>█▅▅▄▄▄▄▄▄▃▃▃▃▃▃▃▃▂▂▂▂▂▂▂▂▂▂▂▂▂▂▁▂▁▁▁▁▂▁▁</td></tr><tr><td>_runtime</td><td>▁▁▁▁▂▂▂▂▂▃▃▃▃▃▃▄▄▄▄▄▅▅▅▅▅▅▆▆▆▆▆▇▇▇▇▇▇███</td></tr><tr><td>_timestamp</td><td>▁▁▁▁▂▂▂▂▂▃▃▃▃▃▃▄▄▄▄▄▅▅▅▅▅▅▆▆▆▆▆▇▇▇▇▇▇███</td></tr><tr><td>_step</td><td>▁▁▁▁▂▂▂▂▂▃▃▃▃▃▃▄▄▄▄▄▅▅▅▅▅▅▆▆▆▆▆▇▇▇▇▇▇███</td></tr></table><br/>"
            ],
            "text/plain": [
              "<IPython.core.display.HTML object>"
            ]
          },
          "metadata": {
            "tags": []
          }
        },
        {
          "output_type": "display_data",
          "data": {
            "text/html": [
              "Synced 5 W&B file(s), 1 media file(s), 2 artifact file(s) and 2 other file(s)"
            ],
            "text/plain": [
              "<IPython.core.display.HTML object>"
            ]
          },
          "metadata": {
            "tags": []
          }
        },
        {
          "output_type": "display_data",
          "data": {
            "text/html": [
              "\n",
              "                    <br/>Synced <strong style=\"color:#cdcd00\">eternal-sweep-20</strong>: <a href=\"https://wandb.ai/acse-jaq15/ACSE_9_LSTM_GRU/runs/qwnwq6ak\" target=\"_blank\">https://wandb.ai/acse-jaq15/ACSE_9_LSTM_GRU/runs/qwnwq6ak</a><br/>\n",
              "                "
            ],
            "text/plain": [
              "<IPython.core.display.HTML object>"
            ]
          },
          "metadata": {
            "tags": []
          }
        },
        {
          "output_type": "stream",
          "text": [
            "\u001b[34m\u001b[1mwandb\u001b[0m: Agent Starting Run: 57r9mxql with config:\n",
            "\u001b[34m\u001b[1mwandb\u001b[0m: \tactivation: tanh\n",
            "\u001b[34m\u001b[1mwandb\u001b[0m: \tbatch_size: 64\n",
            "\u001b[34m\u001b[1mwandb\u001b[0m: \tdropout: 0.3\n",
            "\u001b[34m\u001b[1mwandb\u001b[0m: \tepochs: 100\n",
            "\u001b[34m\u001b[1mwandb\u001b[0m: \tlearning_rate: 0.001\n",
            "\u001b[34m\u001b[1mwandb\u001b[0m: \toptimizer: rmsprop\n"
          ],
          "name": "stderr"
        },
        {
          "output_type": "display_data",
          "data": {
            "text/html": [
              "\n",
              "                Tracking run with wandb version 0.11.0<br/>\n",
              "                Syncing run <strong style=\"color:#cdcd00\">leafy-sweep-21</strong> to <a href=\"https://wandb.ai\" target=\"_blank\">Weights & Biases</a> <a href=\"https://docs.wandb.com/integrations/jupyter.html\" target=\"_blank\">(Documentation)</a>.<br/>\n",
              "                Project page: <a href=\"https://wandb.ai/acse-jaq15/ACSE_9_LSTM_GRU\" target=\"_blank\">https://wandb.ai/acse-jaq15/ACSE_9_LSTM_GRU</a><br/>\n",
              "                Sweep page: <a href=\"https://wandb.ai/acse-jaq15/ACSE_9_LSTM_GRU/sweeps/hgiundb1\" target=\"_blank\">https://wandb.ai/acse-jaq15/ACSE_9_LSTM_GRU/sweeps/hgiundb1</a><br/>\n",
              "Run page: <a href=\"https://wandb.ai/acse-jaq15/ACSE_9_LSTM_GRU/runs/57r9mxql\" target=\"_blank\">https://wandb.ai/acse-jaq15/ACSE_9_LSTM_GRU/runs/57r9mxql</a><br/>\n",
              "                Run data is saved locally in <code>/content/feeder_repo/wandb/run-20210718_211822-57r9mxql</code><br/><br/>\n",
              "            "
            ],
            "text/plain": [
              "<IPython.core.display.HTML object>"
            ]
          },
          "metadata": {
            "tags": []
          }
        },
        {
          "output_type": "stream",
          "text": [
            "Epoch 1/100\n",
            "16/16 [==============================] - 7s 92ms/step - loss: 0.1121 - mean_squared_error: 0.1121 - mean_absolute_error: 0.2268 - val_loss: 0.0212 - val_mean_squared_error: 0.0212 - val_mean_absolute_error: 0.1145\n",
            "Epoch 2/100\n",
            "16/16 [==============================] - 0s 12ms/step - loss: 0.0085 - mean_squared_error: 0.0085 - mean_absolute_error: 0.0712 - val_loss: 0.0239 - val_mean_squared_error: 0.0239 - val_mean_absolute_error: 0.1173\n",
            "Epoch 3/100\n",
            "16/16 [==============================] - 0s 17ms/step - loss: 0.0089 - mean_squared_error: 0.0089 - mean_absolute_error: 0.0740 - val_loss: 0.0190 - val_mean_squared_error: 0.0190 - val_mean_absolute_error: 0.1058\n",
            "Epoch 4/100\n",
            "16/16 [==============================] - 0s 14ms/step - loss: 0.0075 - mean_squared_error: 0.0075 - mean_absolute_error: 0.0674 - val_loss: 0.0206 - val_mean_squared_error: 0.0206 - val_mean_absolute_error: 0.1151\n",
            "Epoch 5/100\n",
            "16/16 [==============================] - 0s 15ms/step - loss: 0.0069 - mean_squared_error: 0.0069 - mean_absolute_error: 0.0640 - val_loss: 0.0184 - val_mean_squared_error: 0.0184 - val_mean_absolute_error: 0.1083\n",
            "Epoch 6/100\n",
            "16/16 [==============================] - 0s 12ms/step - loss: 0.0044 - mean_squared_error: 0.0044 - mean_absolute_error: 0.0526 - val_loss: 0.0226 - val_mean_squared_error: 0.0226 - val_mean_absolute_error: 0.1193\n",
            "Epoch 7/100\n",
            "16/16 [==============================] - 0s 16ms/step - loss: 0.0053 - mean_squared_error: 0.0053 - mean_absolute_error: 0.0564 - val_loss: 0.0149 - val_mean_squared_error: 0.0149 - val_mean_absolute_error: 0.0959\n",
            "Epoch 8/100\n",
            "16/16 [==============================] - 0s 13ms/step - loss: 0.0039 - mean_squared_error: 0.0039 - mean_absolute_error: 0.0470 - val_loss: 0.0144 - val_mean_squared_error: 0.0144 - val_mean_absolute_error: 0.0947\n",
            "Epoch 9/100\n",
            "16/16 [==============================] - 0s 13ms/step - loss: 0.0033 - mean_squared_error: 0.0033 - mean_absolute_error: 0.0432 - val_loss: 0.0143 - val_mean_squared_error: 0.0143 - val_mean_absolute_error: 0.0929\n",
            "Epoch 10/100\n",
            "16/16 [==============================] - 0s 12ms/step - loss: 0.0033 - mean_squared_error: 0.0033 - mean_absolute_error: 0.0450 - val_loss: 0.0133 - val_mean_squared_error: 0.0133 - val_mean_absolute_error: 0.0904\n",
            "Epoch 11/100\n",
            "16/16 [==============================] - 0s 18ms/step - loss: 0.0035 - mean_squared_error: 0.0035 - mean_absolute_error: 0.0445 - val_loss: 0.0136 - val_mean_squared_error: 0.0136 - val_mean_absolute_error: 0.0915\n",
            "Epoch 12/100\n",
            "16/16 [==============================] - 0s 14ms/step - loss: 0.0035 - mean_squared_error: 0.0035 - mean_absolute_error: 0.0453 - val_loss: 0.0127 - val_mean_squared_error: 0.0127 - val_mean_absolute_error: 0.0878\n",
            "Epoch 13/100\n",
            "16/16 [==============================] - 0s 14ms/step - loss: 0.0028 - mean_squared_error: 0.0028 - mean_absolute_error: 0.0411 - val_loss: 0.0127 - val_mean_squared_error: 0.0127 - val_mean_absolute_error: 0.0878\n",
            "Epoch 14/100\n",
            "16/16 [==============================] - 0s 13ms/step - loss: 0.0029 - mean_squared_error: 0.0029 - mean_absolute_error: 0.0415 - val_loss: 0.0172 - val_mean_squared_error: 0.0172 - val_mean_absolute_error: 0.1024\n",
            "Epoch 15/100\n",
            "16/16 [==============================] - 0s 15ms/step - loss: 0.0032 - mean_squared_error: 0.0032 - mean_absolute_error: 0.0433 - val_loss: 0.0129 - val_mean_squared_error: 0.0129 - val_mean_absolute_error: 0.0884\n",
            "Epoch 16/100\n",
            "16/16 [==============================] - 0s 12ms/step - loss: 0.0037 - mean_squared_error: 0.0037 - mean_absolute_error: 0.0481 - val_loss: 0.0118 - val_mean_squared_error: 0.0118 - val_mean_absolute_error: 0.0847\n",
            "Epoch 17/100\n",
            "16/16 [==============================] - 0s 13ms/step - loss: 0.0031 - mean_squared_error: 0.0031 - mean_absolute_error: 0.0426 - val_loss: 0.0115 - val_mean_squared_error: 0.0115 - val_mean_absolute_error: 0.0836\n",
            "Epoch 18/100\n",
            "16/16 [==============================] - 0s 12ms/step - loss: 0.0031 - mean_squared_error: 0.0031 - mean_absolute_error: 0.0424 - val_loss: 0.0147 - val_mean_squared_error: 0.0147 - val_mean_absolute_error: 0.0935\n",
            "Epoch 19/100\n",
            "16/16 [==============================] - 0s 15ms/step - loss: 0.0035 - mean_squared_error: 0.0035 - mean_absolute_error: 0.0450 - val_loss: 0.0127 - val_mean_squared_error: 0.0127 - val_mean_absolute_error: 0.0887\n",
            "Epoch 20/100\n",
            "16/16 [==============================] - 0s 13ms/step - loss: 0.0023 - mean_squared_error: 0.0023 - mean_absolute_error: 0.0377 - val_loss: 0.0126 - val_mean_squared_error: 0.0126 - val_mean_absolute_error: 0.0862\n",
            "Epoch 21/100\n",
            "16/16 [==============================] - 0s 14ms/step - loss: 0.0036 - mean_squared_error: 0.0036 - mean_absolute_error: 0.0472 - val_loss: 0.0120 - val_mean_squared_error: 0.0120 - val_mean_absolute_error: 0.0843\n",
            "Epoch 22/100\n",
            "16/16 [==============================] - 0s 15ms/step - loss: 0.0027 - mean_squared_error: 0.0027 - mean_absolute_error: 0.0416 - val_loss: 0.0131 - val_mean_squared_error: 0.0131 - val_mean_absolute_error: 0.0900\n",
            "Epoch 23/100\n",
            "16/16 [==============================] - 0s 15ms/step - loss: 0.0031 - mean_squared_error: 0.0031 - mean_absolute_error: 0.0431 - val_loss: 0.0114 - val_mean_squared_error: 0.0114 - val_mean_absolute_error: 0.0838\n",
            "Epoch 24/100\n",
            "16/16 [==============================] - 0s 14ms/step - loss: 0.0022 - mean_squared_error: 0.0022 - mean_absolute_error: 0.0369 - val_loss: 0.0114 - val_mean_squared_error: 0.0114 - val_mean_absolute_error: 0.0840\n",
            "Epoch 25/100\n",
            "16/16 [==============================] - 0s 13ms/step - loss: 0.0026 - mean_squared_error: 0.0026 - mean_absolute_error: 0.0391 - val_loss: 0.0118 - val_mean_squared_error: 0.0118 - val_mean_absolute_error: 0.0859\n",
            "Epoch 26/100\n",
            "16/16 [==============================] - 0s 13ms/step - loss: 0.0024 - mean_squared_error: 0.0024 - mean_absolute_error: 0.0379 - val_loss: 0.0118 - val_mean_squared_error: 0.0118 - val_mean_absolute_error: 0.0836\n",
            "Epoch 27/100\n",
            "16/16 [==============================] - 0s 13ms/step - loss: 0.0033 - mean_squared_error: 0.0033 - mean_absolute_error: 0.0446 - val_loss: 0.0111 - val_mean_squared_error: 0.0111 - val_mean_absolute_error: 0.0832\n",
            "Epoch 28/100\n",
            "16/16 [==============================] - 0s 15ms/step - loss: 0.0025 - mean_squared_error: 0.0025 - mean_absolute_error: 0.0385 - val_loss: 0.0109 - val_mean_squared_error: 0.0109 - val_mean_absolute_error: 0.0803\n",
            "Epoch 29/100\n",
            "16/16 [==============================] - 0s 12ms/step - loss: 0.0025 - mean_squared_error: 0.0025 - mean_absolute_error: 0.0379 - val_loss: 0.0105 - val_mean_squared_error: 0.0105 - val_mean_absolute_error: 0.0810\n",
            "Epoch 30/100\n",
            "16/16 [==============================] - 0s 15ms/step - loss: 0.0020 - mean_squared_error: 0.0020 - mean_absolute_error: 0.0345 - val_loss: 0.0107 - val_mean_squared_error: 0.0107 - val_mean_absolute_error: 0.0817\n",
            "Epoch 31/100\n",
            "16/16 [==============================] - 0s 13ms/step - loss: 0.0020 - mean_squared_error: 0.0020 - mean_absolute_error: 0.0345 - val_loss: 0.0103 - val_mean_squared_error: 0.0103 - val_mean_absolute_error: 0.0785\n",
            "Epoch 32/100\n",
            "16/16 [==============================] - 0s 15ms/step - loss: 0.0029 - mean_squared_error: 0.0029 - mean_absolute_error: 0.0422 - val_loss: 0.0097 - val_mean_squared_error: 0.0097 - val_mean_absolute_error: 0.0769\n",
            "Epoch 33/100\n",
            "16/16 [==============================] - 0s 13ms/step - loss: 0.0020 - mean_squared_error: 0.0020 - mean_absolute_error: 0.0338 - val_loss: 0.0095 - val_mean_squared_error: 0.0095 - val_mean_absolute_error: 0.0762\n",
            "Epoch 34/100\n",
            "16/16 [==============================] - 0s 15ms/step - loss: 0.0020 - mean_squared_error: 0.0020 - mean_absolute_error: 0.0346 - val_loss: 0.0094 - val_mean_squared_error: 0.0094 - val_mean_absolute_error: 0.0762\n",
            "Epoch 35/100\n",
            "16/16 [==============================] - 0s 15ms/step - loss: 0.0020 - mean_squared_error: 0.0020 - mean_absolute_error: 0.0344 - val_loss: 0.0094 - val_mean_squared_error: 0.0094 - val_mean_absolute_error: 0.0754\n",
            "Epoch 36/100\n",
            "16/16 [==============================] - 0s 14ms/step - loss: 0.0017 - mean_squared_error: 0.0017 - mean_absolute_error: 0.0311 - val_loss: 0.0092 - val_mean_squared_error: 0.0092 - val_mean_absolute_error: 0.0750\n",
            "Epoch 37/100\n",
            "16/16 [==============================] - 0s 13ms/step - loss: 0.0021 - mean_squared_error: 0.0021 - mean_absolute_error: 0.0361 - val_loss: 0.0099 - val_mean_squared_error: 0.0099 - val_mean_absolute_error: 0.0765\n",
            "Epoch 38/100\n",
            "16/16 [==============================] - 0s 17ms/step - loss: 0.0023 - mean_squared_error: 0.0023 - mean_absolute_error: 0.0367 - val_loss: 0.0112 - val_mean_squared_error: 0.0112 - val_mean_absolute_error: 0.0804\n",
            "Epoch 39/100\n",
            "16/16 [==============================] - 0s 14ms/step - loss: 0.0026 - mean_squared_error: 0.0026 - mean_absolute_error: 0.0383 - val_loss: 0.0090 - val_mean_squared_error: 0.0090 - val_mean_absolute_error: 0.0740\n",
            "Epoch 40/100\n",
            "16/16 [==============================] - 0s 13ms/step - loss: 0.0021 - mean_squared_error: 0.0021 - mean_absolute_error: 0.0342 - val_loss: 0.0091 - val_mean_squared_error: 0.0091 - val_mean_absolute_error: 0.0751\n",
            "Epoch 41/100\n",
            "16/16 [==============================] - 0s 14ms/step - loss: 0.0019 - mean_squared_error: 0.0019 - mean_absolute_error: 0.0340 - val_loss: 0.0091 - val_mean_squared_error: 0.0091 - val_mean_absolute_error: 0.0750\n",
            "Epoch 42/100\n",
            "16/16 [==============================] - 0s 13ms/step - loss: 0.0018 - mean_squared_error: 0.0018 - mean_absolute_error: 0.0322 - val_loss: 0.0093 - val_mean_squared_error: 0.0093 - val_mean_absolute_error: 0.0765\n",
            "Epoch 43/100\n",
            "16/16 [==============================] - 0s 15ms/step - loss: 0.0020 - mean_squared_error: 0.0020 - mean_absolute_error: 0.0342 - val_loss: 0.0089 - val_mean_squared_error: 0.0089 - val_mean_absolute_error: 0.0735\n",
            "Epoch 44/100\n",
            "16/16 [==============================] - 0s 14ms/step - loss: 0.0016 - mean_squared_error: 0.0016 - mean_absolute_error: 0.0300 - val_loss: 0.0089 - val_mean_squared_error: 0.0089 - val_mean_absolute_error: 0.0733\n",
            "Epoch 45/100\n",
            "16/16 [==============================] - 0s 14ms/step - loss: 0.0026 - mean_squared_error: 0.0026 - mean_absolute_error: 0.0398 - val_loss: 0.0087 - val_mean_squared_error: 0.0087 - val_mean_absolute_error: 0.0733\n",
            "Epoch 46/100\n",
            "16/16 [==============================] - 0s 13ms/step - loss: 0.0018 - mean_squared_error: 0.0018 - mean_absolute_error: 0.0326 - val_loss: 0.0093 - val_mean_squared_error: 0.0093 - val_mean_absolute_error: 0.0764\n",
            "Epoch 47/100\n",
            "16/16 [==============================] - 0s 14ms/step - loss: 0.0015 - mean_squared_error: 0.0015 - mean_absolute_error: 0.0296 - val_loss: 0.0084 - val_mean_squared_error: 0.0084 - val_mean_absolute_error: 0.0717\n",
            "Epoch 48/100\n",
            "16/16 [==============================] - 0s 16ms/step - loss: 0.0020 - mean_squared_error: 0.0020 - mean_absolute_error: 0.0346 - val_loss: 0.0083 - val_mean_squared_error: 0.0083 - val_mean_absolute_error: 0.0710\n",
            "Epoch 49/100\n",
            "16/16 [==============================] - 0s 14ms/step - loss: 0.0018 - mean_squared_error: 0.0018 - mean_absolute_error: 0.0323 - val_loss: 0.0083 - val_mean_squared_error: 0.0083 - val_mean_absolute_error: 0.0710\n",
            "Epoch 50/100\n",
            "16/16 [==============================] - 0s 13ms/step - loss: 0.0021 - mean_squared_error: 0.0021 - mean_absolute_error: 0.0349 - val_loss: 0.0083 - val_mean_squared_error: 0.0083 - val_mean_absolute_error: 0.0707\n",
            "Epoch 51/100\n",
            "16/16 [==============================] - 0s 13ms/step - loss: 0.0017 - mean_squared_error: 0.0017 - mean_absolute_error: 0.0314 - val_loss: 0.0082 - val_mean_squared_error: 0.0082 - val_mean_absolute_error: 0.0711\n",
            "Epoch 52/100\n",
            "16/16 [==============================] - 0s 13ms/step - loss: 0.0017 - mean_squared_error: 0.0017 - mean_absolute_error: 0.0316 - val_loss: 0.0081 - val_mean_squared_error: 0.0081 - val_mean_absolute_error: 0.0709\n",
            "Epoch 53/100\n",
            "16/16 [==============================] - 0s 14ms/step - loss: 0.0014 - mean_squared_error: 0.0014 - mean_absolute_error: 0.0295 - val_loss: 0.0079 - val_mean_squared_error: 0.0079 - val_mean_absolute_error: 0.0693\n",
            "Epoch 54/100\n",
            "16/16 [==============================] - 0s 15ms/step - loss: 0.0014 - mean_squared_error: 0.0014 - mean_absolute_error: 0.0288 - val_loss: 0.0094 - val_mean_squared_error: 0.0094 - val_mean_absolute_error: 0.0768\n",
            "Epoch 55/100\n",
            "16/16 [==============================] - 0s 17ms/step - loss: 0.0016 - mean_squared_error: 0.0016 - mean_absolute_error: 0.0304 - val_loss: 0.0090 - val_mean_squared_error: 0.0090 - val_mean_absolute_error: 0.0750\n",
            "Epoch 56/100\n",
            "16/16 [==============================] - 0s 14ms/step - loss: 0.0020 - mean_squared_error: 0.0020 - mean_absolute_error: 0.0337 - val_loss: 0.0105 - val_mean_squared_error: 0.0105 - val_mean_absolute_error: 0.0799\n",
            "Epoch 57/100\n",
            "16/16 [==============================] - 0s 14ms/step - loss: 0.0020 - mean_squared_error: 0.0020 - mean_absolute_error: 0.0349 - val_loss: 0.0082 - val_mean_squared_error: 0.0082 - val_mean_absolute_error: 0.0715\n",
            "Epoch 58/100\n",
            "16/16 [==============================] - 0s 16ms/step - loss: 0.0014 - mean_squared_error: 0.0014 - mean_absolute_error: 0.0291 - val_loss: 0.0077 - val_mean_squared_error: 0.0077 - val_mean_absolute_error: 0.0683\n",
            "Epoch 59/100\n",
            "16/16 [==============================] - 0s 15ms/step - loss: 0.0015 - mean_squared_error: 0.0015 - mean_absolute_error: 0.0296 - val_loss: 0.0076 - val_mean_squared_error: 0.0076 - val_mean_absolute_error: 0.0685\n",
            "Epoch 60/100\n",
            "16/16 [==============================] - 0s 14ms/step - loss: 0.0016 - mean_squared_error: 0.0016 - mean_absolute_error: 0.0304 - val_loss: 0.0083 - val_mean_squared_error: 0.0083 - val_mean_absolute_error: 0.0717\n",
            "Epoch 61/100\n",
            "16/16 [==============================] - 0s 13ms/step - loss: 0.0012 - mean_squared_error: 0.0012 - mean_absolute_error: 0.0268 - val_loss: 0.0075 - val_mean_squared_error: 0.0075 - val_mean_absolute_error: 0.0667\n",
            "Epoch 62/100\n",
            "16/16 [==============================] - 0s 17ms/step - loss: 0.0015 - mean_squared_error: 0.0015 - mean_absolute_error: 0.0296 - val_loss: 0.0082 - val_mean_squared_error: 0.0082 - val_mean_absolute_error: 0.0714\n",
            "Epoch 63/100\n",
            "16/16 [==============================] - 0s 13ms/step - loss: 0.0014 - mean_squared_error: 0.0014 - mean_absolute_error: 0.0291 - val_loss: 0.0073 - val_mean_squared_error: 0.0073 - val_mean_absolute_error: 0.0663\n",
            "Epoch 64/100\n",
            "16/16 [==============================] - 0s 13ms/step - loss: 0.0016 - mean_squared_error: 0.0016 - mean_absolute_error: 0.0315 - val_loss: 0.0081 - val_mean_squared_error: 0.0081 - val_mean_absolute_error: 0.0709\n",
            "Epoch 65/100\n",
            "16/16 [==============================] - 0s 15ms/step - loss: 0.0017 - mean_squared_error: 0.0017 - mean_absolute_error: 0.0319 - val_loss: 0.0074 - val_mean_squared_error: 0.0074 - val_mean_absolute_error: 0.0678\n",
            "Epoch 66/100\n",
            "16/16 [==============================] - 0s 14ms/step - loss: 0.0015 - mean_squared_error: 0.0015 - mean_absolute_error: 0.0288 - val_loss: 0.0084 - val_mean_squared_error: 0.0084 - val_mean_absolute_error: 0.0717\n",
            "Epoch 67/100\n",
            "16/16 [==============================] - 0s 16ms/step - loss: 0.0014 - mean_squared_error: 0.0014 - mean_absolute_error: 0.0287 - val_loss: 0.0074 - val_mean_squared_error: 0.0074 - val_mean_absolute_error: 0.0655\n",
            "Epoch 68/100\n",
            "16/16 [==============================] - 0s 14ms/step - loss: 0.0013 - mean_squared_error: 0.0013 - mean_absolute_error: 0.0280 - val_loss: 0.0072 - val_mean_squared_error: 0.0072 - val_mean_absolute_error: 0.0649\n",
            "Epoch 69/100\n",
            "16/16 [==============================] - 0s 14ms/step - loss: 0.0016 - mean_squared_error: 0.0016 - mean_absolute_error: 0.0322 - val_loss: 0.0069 - val_mean_squared_error: 0.0069 - val_mean_absolute_error: 0.0648\n",
            "Epoch 70/100\n",
            "16/16 [==============================] - 0s 15ms/step - loss: 0.0018 - mean_squared_error: 0.0018 - mean_absolute_error: 0.0327 - val_loss: 0.0070 - val_mean_squared_error: 0.0070 - val_mean_absolute_error: 0.0654\n",
            "Epoch 71/100\n",
            "16/16 [==============================] - 0s 15ms/step - loss: 0.0014 - mean_squared_error: 0.0014 - mean_absolute_error: 0.0281 - val_loss: 0.0068 - val_mean_squared_error: 0.0068 - val_mean_absolute_error: 0.0639\n",
            "Epoch 72/100\n",
            "16/16 [==============================] - 0s 14ms/step - loss: 0.0016 - mean_squared_error: 0.0016 - mean_absolute_error: 0.0306 - val_loss: 0.0075 - val_mean_squared_error: 0.0075 - val_mean_absolute_error: 0.0681\n",
            "Epoch 73/100\n",
            "16/16 [==============================] - 0s 14ms/step - loss: 0.0014 - mean_squared_error: 0.0014 - mean_absolute_error: 0.0289 - val_loss: 0.0094 - val_mean_squared_error: 0.0094 - val_mean_absolute_error: 0.0753\n",
            "Epoch 74/100\n",
            "16/16 [==============================] - 0s 18ms/step - loss: 0.0016 - mean_squared_error: 0.0016 - mean_absolute_error: 0.0317 - val_loss: 0.0078 - val_mean_squared_error: 0.0078 - val_mean_absolute_error: 0.0690\n",
            "Epoch 75/100\n",
            "16/16 [==============================] - 0s 15ms/step - loss: 0.0016 - mean_squared_error: 0.0016 - mean_absolute_error: 0.0318 - val_loss: 0.0067 - val_mean_squared_error: 0.0067 - val_mean_absolute_error: 0.0634\n",
            "Epoch 76/100\n",
            "16/16 [==============================] - 0s 14ms/step - loss: 0.0011 - mean_squared_error: 0.0011 - mean_absolute_error: 0.0254 - val_loss: 0.0066 - val_mean_squared_error: 0.0066 - val_mean_absolute_error: 0.0625\n",
            "Epoch 77/100\n",
            "16/16 [==============================] - 0s 14ms/step - loss: 0.0014 - mean_squared_error: 0.0014 - mean_absolute_error: 0.0286 - val_loss: 0.0080 - val_mean_squared_error: 0.0080 - val_mean_absolute_error: 0.0699\n",
            "Epoch 78/100\n",
            "16/16 [==============================] - 0s 14ms/step - loss: 0.0014 - mean_squared_error: 0.0014 - mean_absolute_error: 0.0287 - val_loss: 0.0065 - val_mean_squared_error: 0.0065 - val_mean_absolute_error: 0.0623\n",
            "Epoch 79/100\n",
            "16/16 [==============================] - 0s 14ms/step - loss: 0.0013 - mean_squared_error: 0.0013 - mean_absolute_error: 0.0274 - val_loss: 0.0067 - val_mean_squared_error: 0.0067 - val_mean_absolute_error: 0.0630\n",
            "Epoch 80/100\n",
            "16/16 [==============================] - 0s 15ms/step - loss: 0.0015 - mean_squared_error: 0.0015 - mean_absolute_error: 0.0291 - val_loss: 0.0074 - val_mean_squared_error: 0.0074 - val_mean_absolute_error: 0.0670\n",
            "Epoch 81/100\n",
            "16/16 [==============================] - 0s 13ms/step - loss: 0.0014 - mean_squared_error: 0.0014 - mean_absolute_error: 0.0289 - val_loss: 0.0074 - val_mean_squared_error: 0.0074 - val_mean_absolute_error: 0.0677\n",
            "Epoch 82/100\n",
            "16/16 [==============================] - 0s 16ms/step - loss: 0.0017 - mean_squared_error: 0.0017 - mean_absolute_error: 0.0319 - val_loss: 0.0064 - val_mean_squared_error: 0.0064 - val_mean_absolute_error: 0.0627\n",
            "Epoch 83/100\n",
            "16/16 [==============================] - 0s 15ms/step - loss: 0.0013 - mean_squared_error: 0.0013 - mean_absolute_error: 0.0267 - val_loss: 0.0068 - val_mean_squared_error: 0.0068 - val_mean_absolute_error: 0.0621\n",
            "Epoch 84/100\n",
            "16/16 [==============================] - 0s 13ms/step - loss: 0.0015 - mean_squared_error: 0.0015 - mean_absolute_error: 0.0301 - val_loss: 0.0073 - val_mean_squared_error: 0.0073 - val_mean_absolute_error: 0.0668\n",
            "Epoch 85/100\n",
            "16/16 [==============================] - 0s 14ms/step - loss: 0.0015 - mean_squared_error: 0.0015 - mean_absolute_error: 0.0295 - val_loss: 0.0067 - val_mean_squared_error: 0.0067 - val_mean_absolute_error: 0.0644\n",
            "Epoch 86/100\n",
            "16/16 [==============================] - 0s 13ms/step - loss: 0.0011 - mean_squared_error: 0.0011 - mean_absolute_error: 0.0259 - val_loss: 0.0085 - val_mean_squared_error: 0.0085 - val_mean_absolute_error: 0.0728\n",
            "Epoch 87/100\n",
            "16/16 [==============================] - 0s 14ms/step - loss: 0.0017 - mean_squared_error: 0.0017 - mean_absolute_error: 0.0325 - val_loss: 0.0064 - val_mean_squared_error: 0.0064 - val_mean_absolute_error: 0.0623\n",
            "Epoch 88/100\n",
            "16/16 [==============================] - 0s 15ms/step - loss: 0.0013 - mean_squared_error: 0.0013 - mean_absolute_error: 0.0272 - val_loss: 0.0063 - val_mean_squared_error: 0.0063 - val_mean_absolute_error: 0.0603\n",
            "Epoch 89/100\n",
            "16/16 [==============================] - 0s 12ms/step - loss: 0.0011 - mean_squared_error: 0.0011 - mean_absolute_error: 0.0245 - val_loss: 0.0065 - val_mean_squared_error: 0.0065 - val_mean_absolute_error: 0.0612\n",
            "Epoch 90/100\n",
            "16/16 [==============================] - 0s 15ms/step - loss: 0.0013 - mean_squared_error: 0.0013 - mean_absolute_error: 0.0270 - val_loss: 0.0063 - val_mean_squared_error: 0.0063 - val_mean_absolute_error: 0.0611\n",
            "Epoch 91/100\n",
            "16/16 [==============================] - 0s 15ms/step - loss: 0.0013 - mean_squared_error: 0.0013 - mean_absolute_error: 0.0278 - val_loss: 0.0061 - val_mean_squared_error: 0.0061 - val_mean_absolute_error: 0.0600\n",
            "Epoch 92/100\n",
            "16/16 [==============================] - 0s 15ms/step - loss: 0.0011 - mean_squared_error: 0.0011 - mean_absolute_error: 0.0245 - val_loss: 0.0063 - val_mean_squared_error: 0.0063 - val_mean_absolute_error: 0.0600\n",
            "Epoch 93/100\n",
            "16/16 [==============================] - 0s 13ms/step - loss: 0.0014 - mean_squared_error: 0.0014 - mean_absolute_error: 0.0289 - val_loss: 0.0061 - val_mean_squared_error: 0.0061 - val_mean_absolute_error: 0.0597\n",
            "Epoch 94/100\n",
            "16/16 [==============================] - 0s 14ms/step - loss: 0.0012 - mean_squared_error: 0.0012 - mean_absolute_error: 0.0265 - val_loss: 0.0061 - val_mean_squared_error: 0.0061 - val_mean_absolute_error: 0.0595\n",
            "Epoch 95/100\n",
            "16/16 [==============================] - 0s 14ms/step - loss: 0.0012 - mean_squared_error: 0.0012 - mean_absolute_error: 0.0263 - val_loss: 0.0067 - val_mean_squared_error: 0.0067 - val_mean_absolute_error: 0.0614\n",
            "Epoch 96/100\n",
            "16/16 [==============================] - 0s 14ms/step - loss: 0.0015 - mean_squared_error: 0.0015 - mean_absolute_error: 0.0293 - val_loss: 0.0069 - val_mean_squared_error: 0.0069 - val_mean_absolute_error: 0.0650\n",
            "Epoch 97/100\n",
            "16/16 [==============================] - 0s 13ms/step - loss: 0.0013 - mean_squared_error: 0.0013 - mean_absolute_error: 0.0282 - val_loss: 0.0060 - val_mean_squared_error: 0.0060 - val_mean_absolute_error: 0.0600\n",
            "Epoch 98/100\n",
            "16/16 [==============================] - 0s 16ms/step - loss: 0.0010 - mean_squared_error: 0.0010 - mean_absolute_error: 0.0243 - val_loss: 0.0066 - val_mean_squared_error: 0.0066 - val_mean_absolute_error: 0.0612\n",
            "Epoch 99/100\n",
            "16/16 [==============================] - 0s 17ms/step - loss: 0.0016 - mean_squared_error: 0.0016 - mean_absolute_error: 0.0300 - val_loss: 0.0060 - val_mean_squared_error: 0.0060 - val_mean_absolute_error: 0.0600\n",
            "Epoch 100/100\n",
            "16/16 [==============================] - 0s 15ms/step - loss: 0.0010 - mean_squared_error: 0.0010 - mean_absolute_error: 0.0239 - val_loss: 0.0060 - val_mean_squared_error: 0.0060 - val_mean_absolute_error: 0.0590\n"
          ],
          "name": "stdout"
        },
        {
          "output_type": "display_data",
          "data": {
            "text/html": [
              "<br/>Waiting for W&B process to finish, PID 6421<br/>Program ended successfully."
            ],
            "text/plain": [
              "<IPython.core.display.HTML object>"
            ]
          },
          "metadata": {
            "tags": []
          }
        },
        {
          "output_type": "display_data",
          "data": {
            "application/vnd.jupyter.widget-view+json": {
              "model_id": "32f532795c04415482ec5197e5ba5f60",
              "version_minor": 0,
              "version_major": 2
            },
            "text/plain": [
              "VBox(children=(Label(value=' 0.66MB of 0.66MB uploaded (0.00MB deduped)\\r'), FloatProgress(value=1.0, max=1.0)…"
            ]
          },
          "metadata": {
            "tags": []
          }
        },
        {
          "output_type": "display_data",
          "data": {
            "text/html": [
              "Find user logs for this run at: <code>/content/feeder_repo/wandb/run-20210718_211822-57r9mxql/logs/debug.log</code>"
            ],
            "text/plain": [
              "<IPython.core.display.HTML object>"
            ]
          },
          "metadata": {
            "tags": []
          }
        },
        {
          "output_type": "display_data",
          "data": {
            "text/html": [
              "Find internal logs for this run at: <code>/content/feeder_repo/wandb/run-20210718_211822-57r9mxql/logs/debug-internal.log</code>"
            ],
            "text/plain": [
              "<IPython.core.display.HTML object>"
            ]
          },
          "metadata": {
            "tags": []
          }
        },
        {
          "output_type": "display_data",
          "data": {
            "text/html": [
              "<h3>Run summary:</h3><br/><style>\n",
              "    table.wandb td:nth-child(1) { padding: 0 10px; text-align: right }\n",
              "    </style><table class=\"wandb\">\n",
              "<tr><td>epoch</td><td>99</td></tr><tr><td>loss</td><td>0.00118</td></tr><tr><td>mean_squared_error</td><td>0.00118</td></tr><tr><td>mean_absolute_error</td><td>0.02563</td></tr><tr><td>val_loss</td><td>0.006</td></tr><tr><td>val_mean_squared_error</td><td>0.006</td></tr><tr><td>val_mean_absolute_error</td><td>0.05904</td></tr><tr><td>_runtime</td><td>37</td></tr><tr><td>_timestamp</td><td>1626643139</td></tr><tr><td>_step</td><td>99</td></tr><tr><td>best_val_loss</td><td>0.006</td></tr><tr><td>best_epoch</td><td>98</td></tr></table>"
            ],
            "text/plain": [
              "<IPython.core.display.HTML object>"
            ]
          },
          "metadata": {
            "tags": []
          }
        },
        {
          "output_type": "display_data",
          "data": {
            "text/html": [
              "<h3>Run history:</h3><br/><style>\n",
              "    table.wandb td:nth-child(1) { padding: 0 10px; text-align: right }\n",
              "    </style><table class=\"wandb\">\n",
              "<tr><td>epoch</td><td>▁▁▁▁▂▂▂▂▂▃▃▃▃▃▃▄▄▄▄▄▅▅▅▅▅▅▆▆▆▆▆▇▇▇▇▇▇███</td></tr><tr><td>loss</td><td>█▂▁▂▁▁▁▁▁▁▁▁▁▁▁▁▁▁▁▁▁▁▁▁▁▁▁▁▁▁▁▁▁▁▁▁▁▁▁▁</td></tr><tr><td>mean_squared_error</td><td>█▂▁▂▁▁▁▁▁▁▁▁▁▁▁▁▁▁▁▁▁▁▁▁▁▁▁▁▁▁▁▁▁▁▁▁▁▁▁▁</td></tr><tr><td>mean_absolute_error</td><td>█▄▃▃▃▂▂▂▂▂▂▂▂▂▂▂▂▁▂▁▁▁▂▁▁▁▁▁▁▁▁▁▁▁▁▁▁▁▁▁</td></tr><tr><td>val_loss</td><td>▇▇█▅▄▄▃▅▄▃▃▃▃▂▂▂▂▂▂▂▂▂▃▂▂▂▂▁▂▂▂▁▁▂▁▁▁▁▁▁</td></tr><tr><td>val_mean_squared_error</td><td>▇▇█▅▄▄▃▅▄▃▃▃▃▂▂▂▂▂▂▂▂▂▃▂▂▂▂▁▂▂▂▁▁▂▁▁▁▁▁▁</td></tr><tr><td>val_mean_absolute_error</td><td>▇▆█▅▅▄▄▅▄▄▄▃▃▃▃▃▃▃▃▂▂▃▃▂▂▂▂▂▂▂▂▁▁▂▁▁▁▁▁▁</td></tr><tr><td>_runtime</td><td>▁▁▂▂▂▂▂▂▃▃▃▃▃▃▃▄▄▄▄▅▅▅▅▅▅▆▆▆▆▆▆▆▇▇▇▇▇▇██</td></tr><tr><td>_timestamp</td><td>▁▁▂▂▂▂▂▂▃▃▃▃▃▃▃▄▄▄▄▅▅▅▅▅▅▆▆▆▆▆▆▆▇▇▇▇▇▇██</td></tr><tr><td>_step</td><td>▁▁▁▁▂▂▂▂▂▃▃▃▃▃▃▄▄▄▄▄▅▅▅▅▅▅▆▆▆▆▆▇▇▇▇▇▇███</td></tr></table><br/>"
            ],
            "text/plain": [
              "<IPython.core.display.HTML object>"
            ]
          },
          "metadata": {
            "tags": []
          }
        },
        {
          "output_type": "display_data",
          "data": {
            "text/html": [
              "Synced 5 W&B file(s), 1 media file(s), 2 artifact file(s) and 2 other file(s)"
            ],
            "text/plain": [
              "<IPython.core.display.HTML object>"
            ]
          },
          "metadata": {
            "tags": []
          }
        },
        {
          "output_type": "display_data",
          "data": {
            "text/html": [
              "\n",
              "                    <br/>Synced <strong style=\"color:#cdcd00\">leafy-sweep-21</strong>: <a href=\"https://wandb.ai/acse-jaq15/ACSE_9_LSTM_GRU/runs/57r9mxql\" target=\"_blank\">https://wandb.ai/acse-jaq15/ACSE_9_LSTM_GRU/runs/57r9mxql</a><br/>\n",
              "                "
            ],
            "text/plain": [
              "<IPython.core.display.HTML object>"
            ]
          },
          "metadata": {
            "tags": []
          }
        },
        {
          "output_type": "stream",
          "text": [
            "\u001b[34m\u001b[1mwandb\u001b[0m: Sweep Agent: Waiting for job.\n",
            "\u001b[34m\u001b[1mwandb\u001b[0m: Job received.\n",
            "\u001b[34m\u001b[1mwandb\u001b[0m: Agent Starting Run: ztivsb0m with config:\n",
            "\u001b[34m\u001b[1mwandb\u001b[0m: \tactivation: tanh\n",
            "\u001b[34m\u001b[1mwandb\u001b[0m: \tbatch_size: 64\n",
            "\u001b[34m\u001b[1mwandb\u001b[0m: \tdropout: 0.3\n",
            "\u001b[34m\u001b[1mwandb\u001b[0m: \tepochs: 50\n",
            "\u001b[34m\u001b[1mwandb\u001b[0m: \tlearning_rate: 0.005\n",
            "\u001b[34m\u001b[1mwandb\u001b[0m: \toptimizer: adam\n"
          ],
          "name": "stderr"
        },
        {
          "output_type": "display_data",
          "data": {
            "text/html": [
              "\n",
              "                Tracking run with wandb version 0.11.0<br/>\n",
              "                Syncing run <strong style=\"color:#cdcd00\">pleasant-sweep-22</strong> to <a href=\"https://wandb.ai\" target=\"_blank\">Weights & Biases</a> <a href=\"https://docs.wandb.com/integrations/jupyter.html\" target=\"_blank\">(Documentation)</a>.<br/>\n",
              "                Project page: <a href=\"https://wandb.ai/acse-jaq15/ACSE_9_LSTM_GRU\" target=\"_blank\">https://wandb.ai/acse-jaq15/ACSE_9_LSTM_GRU</a><br/>\n",
              "                Sweep page: <a href=\"https://wandb.ai/acse-jaq15/ACSE_9_LSTM_GRU/sweeps/hgiundb1\" target=\"_blank\">https://wandb.ai/acse-jaq15/ACSE_9_LSTM_GRU/sweeps/hgiundb1</a><br/>\n",
              "Run page: <a href=\"https://wandb.ai/acse-jaq15/ACSE_9_LSTM_GRU/runs/ztivsb0m\" target=\"_blank\">https://wandb.ai/acse-jaq15/ACSE_9_LSTM_GRU/runs/ztivsb0m</a><br/>\n",
              "                Run data is saved locally in <code>/content/feeder_repo/wandb/run-20210718_211919-ztivsb0m</code><br/><br/>\n",
              "            "
            ],
            "text/plain": [
              "<IPython.core.display.HTML object>"
            ]
          },
          "metadata": {
            "tags": []
          }
        },
        {
          "output_type": "stream",
          "text": [
            "Epoch 1/50\n",
            "16/16 [==============================] - 6s 94ms/step - loss: 0.0781 - mean_squared_error: 0.0781 - mean_absolute_error: 0.1955 - val_loss: 0.0124 - val_mean_squared_error: 0.0124 - val_mean_absolute_error: 0.0857\n",
            "Epoch 2/50\n",
            "16/16 [==============================] - 1s 50ms/step - loss: 0.0038 - mean_squared_error: 0.0038 - mean_absolute_error: 0.0467 - val_loss: 0.0119 - val_mean_squared_error: 0.0119 - val_mean_absolute_error: 0.0852\n",
            "Epoch 3/50\n",
            "16/16 [==============================] - 0s 14ms/step - loss: 0.0022 - mean_squared_error: 0.0022 - mean_absolute_error: 0.0354 - val_loss: 0.0119 - val_mean_squared_error: 0.0119 - val_mean_absolute_error: 0.0858\n",
            "Epoch 4/50\n",
            "16/16 [==============================] - 0s 13ms/step - loss: 0.0019 - mean_squared_error: 0.0019 - mean_absolute_error: 0.0338 - val_loss: 0.0130 - val_mean_squared_error: 0.0130 - val_mean_absolute_error: 0.0894\n",
            "Epoch 5/50\n",
            "16/16 [==============================] - 0s 15ms/step - loss: 0.0019 - mean_squared_error: 0.0019 - mean_absolute_error: 0.0338 - val_loss: 0.0124 - val_mean_squared_error: 0.0124 - val_mean_absolute_error: 0.0874\n",
            "Epoch 6/50\n",
            "16/16 [==============================] - 0s 13ms/step - loss: 0.0017 - mean_squared_error: 0.0017 - mean_absolute_error: 0.0316 - val_loss: 0.0139 - val_mean_squared_error: 0.0139 - val_mean_absolute_error: 0.0925\n",
            "Epoch 7/50\n",
            "16/16 [==============================] - 0s 15ms/step - loss: 0.0023 - mean_squared_error: 0.0023 - mean_absolute_error: 0.0368 - val_loss: 0.0119 - val_mean_squared_error: 0.0119 - val_mean_absolute_error: 0.0852\n",
            "Epoch 8/50\n",
            "16/16 [==============================] - 0s 17ms/step - loss: 0.0016 - mean_squared_error: 0.0016 - mean_absolute_error: 0.0312 - val_loss: 0.0115 - val_mean_squared_error: 0.0115 - val_mean_absolute_error: 0.0836\n",
            "Epoch 9/50\n",
            "16/16 [==============================] - 0s 14ms/step - loss: 0.0018 - mean_squared_error: 0.0018 - mean_absolute_error: 0.0325 - val_loss: 0.0114 - val_mean_squared_error: 0.0114 - val_mean_absolute_error: 0.0839\n",
            "Epoch 10/50\n",
            "16/16 [==============================] - 0s 14ms/step - loss: 0.0015 - mean_squared_error: 0.0015 - mean_absolute_error: 0.0302 - val_loss: 0.0114 - val_mean_squared_error: 0.0114 - val_mean_absolute_error: 0.0836\n",
            "Epoch 11/50\n",
            "16/16 [==============================] - 0s 13ms/step - loss: 0.0014 - mean_squared_error: 0.0014 - mean_absolute_error: 0.0291 - val_loss: 0.0115 - val_mean_squared_error: 0.0115 - val_mean_absolute_error: 0.0843\n",
            "Epoch 12/50\n",
            "16/16 [==============================] - 0s 16ms/step - loss: 0.0015 - mean_squared_error: 0.0015 - mean_absolute_error: 0.0304 - val_loss: 0.0109 - val_mean_squared_error: 0.0109 - val_mean_absolute_error: 0.0821\n",
            "Epoch 13/50\n",
            "16/16 [==============================] - 0s 13ms/step - loss: 0.0015 - mean_squared_error: 0.0015 - mean_absolute_error: 0.0293 - val_loss: 0.0112 - val_mean_squared_error: 0.0112 - val_mean_absolute_error: 0.0835\n",
            "Epoch 14/50\n",
            "16/16 [==============================] - 0s 14ms/step - loss: 0.0017 - mean_squared_error: 0.0017 - mean_absolute_error: 0.0317 - val_loss: 0.0106 - val_mean_squared_error: 0.0106 - val_mean_absolute_error: 0.0814\n",
            "Epoch 15/50\n",
            "16/16 [==============================] - 0s 14ms/step - loss: 0.0014 - mean_squared_error: 0.0014 - mean_absolute_error: 0.0284 - val_loss: 0.0101 - val_mean_squared_error: 0.0101 - val_mean_absolute_error: 0.0789\n",
            "Epoch 16/50\n",
            "16/16 [==============================] - 0s 16ms/step - loss: 0.0014 - mean_squared_error: 0.0014 - mean_absolute_error: 0.0289 - val_loss: 0.0100 - val_mean_squared_error: 0.0100 - val_mean_absolute_error: 0.0791\n",
            "Epoch 17/50\n",
            "16/16 [==============================] - 0s 13ms/step - loss: 0.0014 - mean_squared_error: 0.0014 - mean_absolute_error: 0.0293 - val_loss: 0.0100 - val_mean_squared_error: 0.0100 - val_mean_absolute_error: 0.0790\n",
            "Epoch 18/50\n",
            "16/16 [==============================] - 0s 13ms/step - loss: 0.0016 - mean_squared_error: 0.0016 - mean_absolute_error: 0.0308 - val_loss: 0.0098 - val_mean_squared_error: 0.0098 - val_mean_absolute_error: 0.0772\n",
            "Epoch 19/50\n",
            "16/16 [==============================] - 0s 15ms/step - loss: 0.0016 - mean_squared_error: 0.0016 - mean_absolute_error: 0.0300 - val_loss: 0.0102 - val_mean_squared_error: 0.0102 - val_mean_absolute_error: 0.0805\n",
            "Epoch 20/50\n",
            "16/16 [==============================] - 0s 18ms/step - loss: 0.0015 - mean_squared_error: 0.0015 - mean_absolute_error: 0.0301 - val_loss: 0.0093 - val_mean_squared_error: 0.0093 - val_mean_absolute_error: 0.0756\n",
            "Epoch 21/50\n",
            "16/16 [==============================] - 0s 14ms/step - loss: 0.0014 - mean_squared_error: 0.0014 - mean_absolute_error: 0.0280 - val_loss: 0.0099 - val_mean_squared_error: 0.0099 - val_mean_absolute_error: 0.0794\n",
            "Epoch 22/50\n",
            "16/16 [==============================] - 0s 15ms/step - loss: 0.0015 - mean_squared_error: 0.0015 - mean_absolute_error: 0.0297 - val_loss: 0.0090 - val_mean_squared_error: 0.0090 - val_mean_absolute_error: 0.0745\n",
            "Epoch 23/50\n",
            "16/16 [==============================] - 0s 14ms/step - loss: 0.0012 - mean_squared_error: 0.0012 - mean_absolute_error: 0.0271 - val_loss: 0.0088 - val_mean_squared_error: 0.0088 - val_mean_absolute_error: 0.0739\n",
            "Epoch 24/50\n",
            "16/16 [==============================] - 0s 14ms/step - loss: 0.0012 - mean_squared_error: 0.0012 - mean_absolute_error: 0.0267 - val_loss: 0.0089 - val_mean_squared_error: 0.0089 - val_mean_absolute_error: 0.0742\n",
            "Epoch 25/50\n",
            "16/16 [==============================] - 0s 14ms/step - loss: 0.0012 - mean_squared_error: 0.0012 - mean_absolute_error: 0.0262 - val_loss: 0.0085 - val_mean_squared_error: 0.0085 - val_mean_absolute_error: 0.0722\n",
            "Epoch 26/50\n",
            "16/16 [==============================] - 0s 17ms/step - loss: 0.0013 - mean_squared_error: 0.0013 - mean_absolute_error: 0.0277 - val_loss: 0.0085 - val_mean_squared_error: 0.0085 - val_mean_absolute_error: 0.0724\n",
            "Epoch 27/50\n",
            "16/16 [==============================] - 0s 15ms/step - loss: 0.0012 - mean_squared_error: 0.0012 - mean_absolute_error: 0.0270 - val_loss: 0.0083 - val_mean_squared_error: 0.0083 - val_mean_absolute_error: 0.0715\n",
            "Epoch 28/50\n",
            "16/16 [==============================] - 0s 14ms/step - loss: 0.0011 - mean_squared_error: 0.0011 - mean_absolute_error: 0.0255 - val_loss: 0.0085 - val_mean_squared_error: 0.0085 - val_mean_absolute_error: 0.0727\n",
            "Epoch 29/50\n",
            "16/16 [==============================] - 0s 13ms/step - loss: 0.0011 - mean_squared_error: 0.0011 - mean_absolute_error: 0.0255 - val_loss: 0.0082 - val_mean_squared_error: 0.0082 - val_mean_absolute_error: 0.0705\n",
            "Epoch 30/50\n",
            "16/16 [==============================] - 0s 14ms/step - loss: 0.0012 - mean_squared_error: 0.0012 - mean_absolute_error: 0.0273 - val_loss: 0.0084 - val_mean_squared_error: 0.0084 - val_mean_absolute_error: 0.0722\n",
            "Epoch 31/50\n",
            "16/16 [==============================] - 0s 15ms/step - loss: 0.0011 - mean_squared_error: 0.0011 - mean_absolute_error: 0.0261 - val_loss: 0.0081 - val_mean_squared_error: 0.0081 - val_mean_absolute_error: 0.0705\n",
            "Epoch 32/50\n",
            "16/16 [==============================] - 0s 14ms/step - loss: 0.0012 - mean_squared_error: 0.0012 - mean_absolute_error: 0.0255 - val_loss: 0.0082 - val_mean_squared_error: 0.0082 - val_mean_absolute_error: 0.0717\n",
            "Epoch 33/50\n",
            "16/16 [==============================] - 0s 13ms/step - loss: 0.0012 - mean_squared_error: 0.0012 - mean_absolute_error: 0.0270 - val_loss: 0.0077 - val_mean_squared_error: 0.0077 - val_mean_absolute_error: 0.0688\n",
            "Epoch 34/50\n",
            "16/16 [==============================] - 0s 15ms/step - loss: 0.0010 - mean_squared_error: 0.0010 - mean_absolute_error: 0.0247 - val_loss: 0.0078 - val_mean_squared_error: 0.0078 - val_mean_absolute_error: 0.0689\n",
            "Epoch 35/50\n",
            "16/16 [==============================] - 0s 16ms/step - loss: 0.0011 - mean_squared_error: 0.0011 - mean_absolute_error: 0.0257 - val_loss: 0.0078 - val_mean_squared_error: 0.0078 - val_mean_absolute_error: 0.0689\n",
            "Epoch 36/50\n",
            "16/16 [==============================] - 0s 14ms/step - loss: 0.0012 - mean_squared_error: 0.0012 - mean_absolute_error: 0.0271 - val_loss: 0.0081 - val_mean_squared_error: 0.0081 - val_mean_absolute_error: 0.0708\n",
            "Epoch 37/50\n",
            "16/16 [==============================] - 0s 15ms/step - loss: 0.0012 - mean_squared_error: 0.0012 - mean_absolute_error: 0.0261 - val_loss: 0.0076 - val_mean_squared_error: 0.0076 - val_mean_absolute_error: 0.0682\n",
            "Epoch 38/50\n",
            "16/16 [==============================] - 0s 15ms/step - loss: 0.0010 - mean_squared_error: 0.0010 - mean_absolute_error: 0.0246 - val_loss: 0.0076 - val_mean_squared_error: 0.0076 - val_mean_absolute_error: 0.0685\n",
            "Epoch 39/50\n",
            "16/16 [==============================] - 0s 15ms/step - loss: 9.5782e-04 - mean_squared_error: 9.5782e-04 - mean_absolute_error: 0.0247 - val_loss: 0.0074 - val_mean_squared_error: 0.0074 - val_mean_absolute_error: 0.0671\n",
            "Epoch 40/50\n",
            "16/16 [==============================] - 0s 14ms/step - loss: 0.0010 - mean_squared_error: 0.0010 - mean_absolute_error: 0.0247 - val_loss: 0.0072 - val_mean_squared_error: 0.0072 - val_mean_absolute_error: 0.0665\n",
            "Epoch 41/50\n",
            "16/16 [==============================] - 0s 15ms/step - loss: 9.9290e-04 - mean_squared_error: 9.9290e-04 - mean_absolute_error: 0.0242 - val_loss: 0.0077 - val_mean_squared_error: 0.0077 - val_mean_absolute_error: 0.0699\n",
            "Epoch 42/50\n",
            "16/16 [==============================] - 0s 15ms/step - loss: 0.0013 - mean_squared_error: 0.0013 - mean_absolute_error: 0.0274 - val_loss: 0.0070 - val_mean_squared_error: 0.0070 - val_mean_absolute_error: 0.0655\n",
            "Epoch 43/50\n",
            "16/16 [==============================] - 0s 13ms/step - loss: 0.0011 - mean_squared_error: 0.0011 - mean_absolute_error: 0.0259 - val_loss: 0.0076 - val_mean_squared_error: 0.0076 - val_mean_absolute_error: 0.0684\n",
            "Epoch 44/50\n",
            "16/16 [==============================] - 0s 15ms/step - loss: 0.0011 - mean_squared_error: 0.0011 - mean_absolute_error: 0.0256 - val_loss: 0.0071 - val_mean_squared_error: 0.0071 - val_mean_absolute_error: 0.0657\n",
            "Epoch 45/50\n",
            "16/16 [==============================] - 0s 13ms/step - loss: 0.0011 - mean_squared_error: 0.0011 - mean_absolute_error: 0.0248 - val_loss: 0.0069 - val_mean_squared_error: 0.0069 - val_mean_absolute_error: 0.0648\n",
            "Epoch 46/50\n",
            "16/16 [==============================] - 0s 14ms/step - loss: 0.0012 - mean_squared_error: 0.0012 - mean_absolute_error: 0.0257 - val_loss: 0.0068 - val_mean_squared_error: 0.0068 - val_mean_absolute_error: 0.0646\n",
            "Epoch 47/50\n",
            "16/16 [==============================] - 0s 15ms/step - loss: 9.6921e-04 - mean_squared_error: 9.6921e-04 - mean_absolute_error: 0.0236 - val_loss: 0.0069 - val_mean_squared_error: 0.0069 - val_mean_absolute_error: 0.0647\n",
            "Epoch 48/50\n",
            "16/16 [==============================] - 0s 13ms/step - loss: 0.0012 - mean_squared_error: 0.0012 - mean_absolute_error: 0.0264 - val_loss: 0.0067 - val_mean_squared_error: 0.0067 - val_mean_absolute_error: 0.0635\n",
            "Epoch 49/50\n",
            "16/16 [==============================] - 0s 18ms/step - loss: 9.4427e-04 - mean_squared_error: 9.4427e-04 - mean_absolute_error: 0.0233 - val_loss: 0.0067 - val_mean_squared_error: 0.0067 - val_mean_absolute_error: 0.0631\n",
            "Epoch 50/50\n",
            "16/16 [==============================] - 0s 13ms/step - loss: 9.9085e-04 - mean_squared_error: 9.9085e-04 - mean_absolute_error: 0.0244 - val_loss: 0.0073 - val_mean_squared_error: 0.0073 - val_mean_absolute_error: 0.0676\n"
          ],
          "name": "stdout"
        },
        {
          "output_type": "display_data",
          "data": {
            "text/html": [
              "<br/>Waiting for W&B process to finish, PID 6776<br/>Program ended successfully."
            ],
            "text/plain": [
              "<IPython.core.display.HTML object>"
            ]
          },
          "metadata": {
            "tags": []
          }
        },
        {
          "output_type": "display_data",
          "data": {
            "application/vnd.jupyter.widget-view+json": {
              "model_id": "171d149ac30f4cdeba7047e48451133b",
              "version_minor": 0,
              "version_major": 2
            },
            "text/plain": [
              "VBox(children=(Label(value=' 0.85MB of 0.85MB uploaded (0.00MB deduped)\\r'), FloatProgress(value=1.0, max=1.0)…"
            ]
          },
          "metadata": {
            "tags": []
          }
        },
        {
          "output_type": "display_data",
          "data": {
            "text/html": [
              "Find user logs for this run at: <code>/content/feeder_repo/wandb/run-20210718_211919-ztivsb0m/logs/debug.log</code>"
            ],
            "text/plain": [
              "<IPython.core.display.HTML object>"
            ]
          },
          "metadata": {
            "tags": []
          }
        },
        {
          "output_type": "display_data",
          "data": {
            "text/html": [
              "Find internal logs for this run at: <code>/content/feeder_repo/wandb/run-20210718_211919-ztivsb0m/logs/debug-internal.log</code>"
            ],
            "text/plain": [
              "<IPython.core.display.HTML object>"
            ]
          },
          "metadata": {
            "tags": []
          }
        },
        {
          "output_type": "display_data",
          "data": {
            "text/html": [
              "<h3>Run summary:</h3><br/><style>\n",
              "    table.wandb td:nth-child(1) { padding: 0 10px; text-align: right }\n",
              "    </style><table class=\"wandb\">\n",
              "<tr><td>epoch</td><td>49</td></tr><tr><td>loss</td><td>0.00106</td></tr><tr><td>mean_squared_error</td><td>0.00106</td></tr><tr><td>mean_absolute_error</td><td>0.02533</td></tr><tr><td>val_loss</td><td>0.00728</td></tr><tr><td>val_mean_squared_error</td><td>0.00728</td></tr><tr><td>val_mean_absolute_error</td><td>0.06758</td></tr><tr><td>_runtime</td><td>24</td></tr><tr><td>_timestamp</td><td>1626643183</td></tr><tr><td>_step</td><td>49</td></tr><tr><td>best_val_loss</td><td>0.00674</td></tr><tr><td>best_epoch</td><td>47</td></tr></table>"
            ],
            "text/plain": [
              "<IPython.core.display.HTML object>"
            ]
          },
          "metadata": {
            "tags": []
          }
        },
        {
          "output_type": "display_data",
          "data": {
            "text/html": [
              "<h3>Run history:</h3><br/><style>\n",
              "    table.wandb td:nth-child(1) { padding: 0 10px; text-align: right }\n",
              "    </style><table class=\"wandb\">\n",
              "<tr><td>epoch</td><td>▁▁▁▁▂▂▂▂▂▃▃▃▃▃▃▄▄▄▄▄▅▅▅▅▅▅▆▆▆▆▆▆▇▇▇▇▇███</td></tr><tr><td>loss</td><td>█▂▁▁▁▁▁▁▁▁▁▁▁▁▁▁▁▁▁▁▁▁▁▁▁▁▁▁▁▁▁▁▁▁▁▁▁▁▁▁</td></tr><tr><td>mean_squared_error</td><td>█▂▁▁▁▁▁▁▁▁▁▁▁▁▁▁▁▁▁▁▁▁▁▁▁▁▁▁▁▁▁▁▁▁▁▁▁▁▁▁</td></tr><tr><td>mean_absolute_error</td><td>█▂▂▂▂▂▂▂▁▁▁▁▁▁▂▁▁▁▁▁▁▁▁▁▁▁▁▁▁▁▁▁▁▁▁▁▁▁▁▁</td></tr><tr><td>val_loss</td><td>▇▆▆▇█▆▆▆▆▅▅▅▄▄▄▄▄▃▃▃▃▃▃▂▂▂▂▂▂▂▂▂▂▁▂▁▁▁▁▂</td></tr><tr><td>val_mean_squared_error</td><td>▇▆▆▇█▆▆▆▆▅▅▅▄▄▄▄▄▃▃▃▃▃▃▂▂▂▂▂▂▂▂▂▂▁▂▁▁▁▁▂</td></tr><tr><td>val_mean_absolute_error</td><td>▆▆▆▇█▆▆▆▆▅▆▅▅▅▄▅▅▄▄▄▃▃▃▃▃▃▂▂▃▂▂▂▃▁▂▂▁▁▁▂</td></tr><tr><td>_runtime</td><td>▁▁▂▂▂▂▂▂▃▃▃▃▃▃▄▄▄▄▄▄▅▅▅▅▅▆▆▆▆▆▆▆▇▇▇▇▇▇██</td></tr><tr><td>_timestamp</td><td>▁▁▂▂▂▂▂▂▃▃▃▃▃▃▄▄▄▄▄▄▅▅▅▅▅▆▆▆▆▆▆▆▇▇▇▇▇▇██</td></tr><tr><td>_step</td><td>▁▁▁▁▂▂▂▂▂▃▃▃▃▃▃▄▄▄▄▄▅▅▅▅▅▅▆▆▆▆▆▆▇▇▇▇▇███</td></tr></table><br/>"
            ],
            "text/plain": [
              "<IPython.core.display.HTML object>"
            ]
          },
          "metadata": {
            "tags": []
          }
        },
        {
          "output_type": "display_data",
          "data": {
            "text/html": [
              "Synced 5 W&B file(s), 1 media file(s), 2 artifact file(s) and 2 other file(s)"
            ],
            "text/plain": [
              "<IPython.core.display.HTML object>"
            ]
          },
          "metadata": {
            "tags": []
          }
        },
        {
          "output_type": "display_data",
          "data": {
            "text/html": [
              "\n",
              "                    <br/>Synced <strong style=\"color:#cdcd00\">pleasant-sweep-22</strong>: <a href=\"https://wandb.ai/acse-jaq15/ACSE_9_LSTM_GRU/runs/ztivsb0m\" target=\"_blank\">https://wandb.ai/acse-jaq15/ACSE_9_LSTM_GRU/runs/ztivsb0m</a><br/>\n",
              "                "
            ],
            "text/plain": [
              "<IPython.core.display.HTML object>"
            ]
          },
          "metadata": {
            "tags": []
          }
        },
        {
          "output_type": "stream",
          "text": [
            "\u001b[34m\u001b[1mwandb\u001b[0m: Agent Starting Run: ct9at6sj with config:\n",
            "\u001b[34m\u001b[1mwandb\u001b[0m: \tactivation: tanh\n",
            "\u001b[34m\u001b[1mwandb\u001b[0m: \tbatch_size: 128\n",
            "\u001b[34m\u001b[1mwandb\u001b[0m: \tdropout: 0.3\n",
            "\u001b[34m\u001b[1mwandb\u001b[0m: \tepochs: 200\n",
            "\u001b[34m\u001b[1mwandb\u001b[0m: \tlearning_rate: 0.005\n",
            "\u001b[34m\u001b[1mwandb\u001b[0m: \toptimizer: rmsprop\n"
          ],
          "name": "stderr"
        },
        {
          "output_type": "display_data",
          "data": {
            "text/html": [
              "\n",
              "                Tracking run with wandb version 0.11.0<br/>\n",
              "                Syncing run <strong style=\"color:#cdcd00\">fresh-sweep-23</strong> to <a href=\"https://wandb.ai\" target=\"_blank\">Weights & Biases</a> <a href=\"https://docs.wandb.com/integrations/jupyter.html\" target=\"_blank\">(Documentation)</a>.<br/>\n",
              "                Project page: <a href=\"https://wandb.ai/acse-jaq15/ACSE_9_LSTM_GRU\" target=\"_blank\">https://wandb.ai/acse-jaq15/ACSE_9_LSTM_GRU</a><br/>\n",
              "                Sweep page: <a href=\"https://wandb.ai/acse-jaq15/ACSE_9_LSTM_GRU/sweeps/hgiundb1\" target=\"_blank\">https://wandb.ai/acse-jaq15/ACSE_9_LSTM_GRU/sweeps/hgiundb1</a><br/>\n",
              "Run page: <a href=\"https://wandb.ai/acse-jaq15/ACSE_9_LSTM_GRU/runs/ct9at6sj\" target=\"_blank\">https://wandb.ai/acse-jaq15/ACSE_9_LSTM_GRU/runs/ct9at6sj</a><br/>\n",
              "                Run data is saved locally in <code>/content/feeder_repo/wandb/run-20210718_211953-ct9at6sj</code><br/><br/>\n",
              "            "
            ],
            "text/plain": [
              "<IPython.core.display.HTML object>"
            ]
          },
          "metadata": {
            "tags": []
          }
        },
        {
          "output_type": "stream",
          "text": [
            "Epoch 1/200\n",
            "8/8 [==============================] - 6s 187ms/step - loss: 0.5685 - mean_squared_error: 0.5685 - mean_absolute_error: 0.5499 - val_loss: 0.0175 - val_mean_squared_error: 0.0175 - val_mean_absolute_error: 0.1096\n",
            "Epoch 2/200\n",
            "8/8 [==============================] - 0s 16ms/step - loss: 0.0087 - mean_squared_error: 0.0087 - mean_absolute_error: 0.0730 - val_loss: 0.0227 - val_mean_squared_error: 0.0227 - val_mean_absolute_error: 0.1257\n",
            "Epoch 3/200\n",
            "8/8 [==============================] - 0s 15ms/step - loss: 0.0114 - mean_squared_error: 0.0114 - mean_absolute_error: 0.0867 - val_loss: 0.0272 - val_mean_squared_error: 0.0272 - val_mean_absolute_error: 0.1367\n",
            "Epoch 4/200\n",
            "8/8 [==============================] - 0s 15ms/step - loss: 0.0144 - mean_squared_error: 0.0144 - mean_absolute_error: 0.0980 - val_loss: 0.0204 - val_mean_squared_error: 0.0204 - val_mean_absolute_error: 0.1172\n",
            "Epoch 5/200\n",
            "8/8 [==============================] - 0s 16ms/step - loss: 0.0124 - mean_squared_error: 0.0124 - mean_absolute_error: 0.0918 - val_loss: 0.0244 - val_mean_squared_error: 0.0244 - val_mean_absolute_error: 0.1277\n",
            "Epoch 6/200\n",
            "8/8 [==============================] - 0s 16ms/step - loss: 0.0152 - mean_squared_error: 0.0152 - mean_absolute_error: 0.1025 - val_loss: 0.0237 - val_mean_squared_error: 0.0237 - val_mean_absolute_error: 0.1259\n",
            "Epoch 7/200\n",
            "8/8 [==============================] - 0s 15ms/step - loss: 0.0115 - mean_squared_error: 0.0115 - mean_absolute_error: 0.0910 - val_loss: 0.0237 - val_mean_squared_error: 0.0237 - val_mean_absolute_error: 0.1271\n",
            "Epoch 8/200\n",
            "8/8 [==============================] - 0s 14ms/step - loss: 0.0108 - mean_squared_error: 0.0108 - mean_absolute_error: 0.0881 - val_loss: 0.0195 - val_mean_squared_error: 0.0195 - val_mean_absolute_error: 0.1143\n",
            "Epoch 9/200\n",
            "8/8 [==============================] - 0s 15ms/step - loss: 0.0124 - mean_squared_error: 0.0124 - mean_absolute_error: 0.0916 - val_loss: 0.0171 - val_mean_squared_error: 0.0171 - val_mean_absolute_error: 0.1062\n",
            "Epoch 10/200\n",
            "8/8 [==============================] - 0s 15ms/step - loss: 0.0080 - mean_squared_error: 0.0080 - mean_absolute_error: 0.0742 - val_loss: 0.0272 - val_mean_squared_error: 0.0272 - val_mean_absolute_error: 0.1348\n",
            "Epoch 11/200\n",
            "8/8 [==============================] - 0s 19ms/step - loss: 0.0138 - mean_squared_error: 0.0138 - mean_absolute_error: 0.1004 - val_loss: 0.0278 - val_mean_squared_error: 0.0278 - val_mean_absolute_error: 0.1342\n",
            "Epoch 12/200\n",
            "8/8 [==============================] - 0s 17ms/step - loss: 0.0153 - mean_squared_error: 0.0153 - mean_absolute_error: 0.1023 - val_loss: 0.0194 - val_mean_squared_error: 0.0194 - val_mean_absolute_error: 0.1116\n",
            "Epoch 13/200\n",
            "8/8 [==============================] - 0s 15ms/step - loss: 0.0099 - mean_squared_error: 0.0099 - mean_absolute_error: 0.0827 - val_loss: 0.0214 - val_mean_squared_error: 0.0214 - val_mean_absolute_error: 0.1194\n",
            "Epoch 14/200\n",
            "8/8 [==============================] - 0s 14ms/step - loss: 0.0147 - mean_squared_error: 0.0147 - mean_absolute_error: 0.1025 - val_loss: 0.0179 - val_mean_squared_error: 0.0179 - val_mean_absolute_error: 0.1047\n",
            "Epoch 15/200\n",
            "8/8 [==============================] - 0s 16ms/step - loss: 0.0067 - mean_squared_error: 0.0067 - mean_absolute_error: 0.0670 - val_loss: 0.0143 - val_mean_squared_error: 0.0143 - val_mean_absolute_error: 0.0943\n",
            "Epoch 16/200\n",
            "8/8 [==============================] - 0s 15ms/step - loss: 0.0100 - mean_squared_error: 0.0100 - mean_absolute_error: 0.0808 - val_loss: 0.0208 - val_mean_squared_error: 0.0208 - val_mean_absolute_error: 0.1180\n",
            "Epoch 17/200\n",
            "8/8 [==============================] - 0s 16ms/step - loss: 0.0067 - mean_squared_error: 0.0067 - mean_absolute_error: 0.0648 - val_loss: 0.0124 - val_mean_squared_error: 0.0124 - val_mean_absolute_error: 0.0869\n",
            "Epoch 18/200\n",
            "8/8 [==============================] - 0s 15ms/step - loss: 0.0070 - mean_squared_error: 0.0070 - mean_absolute_error: 0.0630 - val_loss: 0.0187 - val_mean_squared_error: 0.0187 - val_mean_absolute_error: 0.1127\n",
            "Epoch 19/200\n",
            "8/8 [==============================] - 0s 15ms/step - loss: 0.0084 - mean_squared_error: 0.0084 - mean_absolute_error: 0.0761 - val_loss: 0.0135 - val_mean_squared_error: 0.0135 - val_mean_absolute_error: 0.0914\n",
            "Epoch 20/200\n",
            "8/8 [==============================] - 0s 16ms/step - loss: 0.0061 - mean_squared_error: 0.0061 - mean_absolute_error: 0.0632 - val_loss: 0.0114 - val_mean_squared_error: 0.0114 - val_mean_absolute_error: 0.0836\n",
            "Epoch 21/200\n",
            "8/8 [==============================] - 0s 16ms/step - loss: 0.0046 - mean_squared_error: 0.0046 - mean_absolute_error: 0.0511 - val_loss: 0.0272 - val_mean_squared_error: 0.0272 - val_mean_absolute_error: 0.1355\n",
            "Epoch 22/200\n",
            "8/8 [==============================] - 0s 15ms/step - loss: 0.0146 - mean_squared_error: 0.0146 - mean_absolute_error: 0.0951 - val_loss: 0.0127 - val_mean_squared_error: 0.0127 - val_mean_absolute_error: 0.0902\n",
            "Epoch 23/200\n",
            "8/8 [==============================] - 0s 17ms/step - loss: 0.0039 - mean_squared_error: 0.0039 - mean_absolute_error: 0.0499 - val_loss: 0.0126 - val_mean_squared_error: 0.0126 - val_mean_absolute_error: 0.0899\n",
            "Epoch 24/200\n",
            "8/8 [==============================] - 0s 16ms/step - loss: 0.0040 - mean_squared_error: 0.0040 - mean_absolute_error: 0.0504 - val_loss: 0.0139 - val_mean_squared_error: 0.0139 - val_mean_absolute_error: 0.0952\n",
            "Epoch 25/200\n",
            "8/8 [==============================] - 0s 17ms/step - loss: 0.0070 - mean_squared_error: 0.0070 - mean_absolute_error: 0.0714 - val_loss: 0.0122 - val_mean_squared_error: 0.0122 - val_mean_absolute_error: 0.0868\n",
            "Epoch 26/200\n",
            "8/8 [==============================] - 0s 16ms/step - loss: 0.0040 - mean_squared_error: 0.0040 - mean_absolute_error: 0.0507 - val_loss: 0.0129 - val_mean_squared_error: 0.0129 - val_mean_absolute_error: 0.0911\n",
            "Epoch 27/200\n",
            "8/8 [==============================] - 0s 14ms/step - loss: 0.0052 - mean_squared_error: 0.0052 - mean_absolute_error: 0.0601 - val_loss: 0.0123 - val_mean_squared_error: 0.0123 - val_mean_absolute_error: 0.0882\n",
            "Epoch 28/200\n",
            "8/8 [==============================] - 0s 18ms/step - loss: 0.0062 - mean_squared_error: 0.0062 - mean_absolute_error: 0.0667 - val_loss: 0.0124 - val_mean_squared_error: 0.0124 - val_mean_absolute_error: 0.0880\n",
            "Epoch 29/200\n",
            "8/8 [==============================] - 0s 17ms/step - loss: 0.0034 - mean_squared_error: 0.0034 - mean_absolute_error: 0.0468 - val_loss: 0.0155 - val_mean_squared_error: 0.0155 - val_mean_absolute_error: 0.0954\n",
            "Epoch 30/200\n",
            "8/8 [==============================] - 0s 18ms/step - loss: 0.0097 - mean_squared_error: 0.0097 - mean_absolute_error: 0.0800 - val_loss: 0.0087 - val_mean_squared_error: 0.0087 - val_mean_absolute_error: 0.0726\n",
            "Epoch 31/200\n",
            "8/8 [==============================] - 0s 16ms/step - loss: 0.0031 - mean_squared_error: 0.0031 - mean_absolute_error: 0.0439 - val_loss: 0.0107 - val_mean_squared_error: 0.0107 - val_mean_absolute_error: 0.0815\n",
            "Epoch 32/200\n",
            "8/8 [==============================] - 0s 17ms/step - loss: 0.0062 - mean_squared_error: 0.0062 - mean_absolute_error: 0.0645 - val_loss: 0.0107 - val_mean_squared_error: 0.0107 - val_mean_absolute_error: 0.0814\n",
            "Epoch 33/200\n",
            "8/8 [==============================] - 0s 15ms/step - loss: 0.0036 - mean_squared_error: 0.0036 - mean_absolute_error: 0.0482 - val_loss: 0.0105 - val_mean_squared_error: 0.0105 - val_mean_absolute_error: 0.0803\n",
            "Epoch 34/200\n",
            "8/8 [==============================] - 0s 16ms/step - loss: 0.0080 - mean_squared_error: 0.0080 - mean_absolute_error: 0.0762 - val_loss: 0.0081 - val_mean_squared_error: 0.0081 - val_mean_absolute_error: 0.0702\n",
            "Epoch 35/200\n",
            "8/8 [==============================] - 0s 16ms/step - loss: 0.0020 - mean_squared_error: 0.0020 - mean_absolute_error: 0.0338 - val_loss: 0.0084 - val_mean_squared_error: 0.0084 - val_mean_absolute_error: 0.0739\n",
            "Epoch 36/200\n",
            "8/8 [==============================] - 0s 15ms/step - loss: 0.0042 - mean_squared_error: 0.0042 - mean_absolute_error: 0.0535 - val_loss: 0.0104 - val_mean_squared_error: 0.0104 - val_mean_absolute_error: 0.0799\n",
            "Epoch 37/200\n",
            "8/8 [==============================] - 0s 18ms/step - loss: 0.0042 - mean_squared_error: 0.0042 - mean_absolute_error: 0.0518 - val_loss: 0.0101 - val_mean_squared_error: 0.0101 - val_mean_absolute_error: 0.0800\n",
            "Epoch 38/200\n",
            "8/8 [==============================] - 0s 19ms/step - loss: 0.0055 - mean_squared_error: 0.0055 - mean_absolute_error: 0.0632 - val_loss: 0.0079 - val_mean_squared_error: 0.0079 - val_mean_absolute_error: 0.0692\n",
            "Epoch 39/200\n",
            "8/8 [==============================] - 0s 17ms/step - loss: 0.0031 - mean_squared_error: 0.0031 - mean_absolute_error: 0.0439 - val_loss: 0.0105 - val_mean_squared_error: 0.0105 - val_mean_absolute_error: 0.0818\n",
            "Epoch 40/200\n",
            "8/8 [==============================] - 0s 15ms/step - loss: 0.0066 - mean_squared_error: 0.0066 - mean_absolute_error: 0.0693 - val_loss: 0.0091 - val_mean_squared_error: 0.0091 - val_mean_absolute_error: 0.0739\n",
            "Epoch 41/200\n",
            "8/8 [==============================] - 0s 15ms/step - loss: 0.0028 - mean_squared_error: 0.0028 - mean_absolute_error: 0.0416 - val_loss: 0.0112 - val_mean_squared_error: 0.0112 - val_mean_absolute_error: 0.0851\n",
            "Epoch 42/200\n",
            "8/8 [==============================] - 0s 17ms/step - loss: 0.0041 - mean_squared_error: 0.0041 - mean_absolute_error: 0.0534 - val_loss: 0.0071 - val_mean_squared_error: 0.0071 - val_mean_absolute_error: 0.0668\n",
            "Epoch 43/200\n",
            "8/8 [==============================] - 0s 15ms/step - loss: 0.0038 - mean_squared_error: 0.0038 - mean_absolute_error: 0.0470 - val_loss: 0.0107 - val_mean_squared_error: 0.0107 - val_mean_absolute_error: 0.0849\n",
            "Epoch 44/200\n",
            "8/8 [==============================] - 0s 15ms/step - loss: 0.0036 - mean_squared_error: 0.0036 - mean_absolute_error: 0.0489 - val_loss: 0.0081 - val_mean_squared_error: 0.0081 - val_mean_absolute_error: 0.0699\n",
            "Epoch 45/200\n",
            "8/8 [==============================] - 0s 17ms/step - loss: 0.0029 - mean_squared_error: 0.0029 - mean_absolute_error: 0.0427 - val_loss: 0.0097 - val_mean_squared_error: 0.0097 - val_mean_absolute_error: 0.0774\n",
            "Epoch 46/200\n",
            "8/8 [==============================] - 0s 17ms/step - loss: 0.0045 - mean_squared_error: 0.0045 - mean_absolute_error: 0.0563 - val_loss: 0.0081 - val_mean_squared_error: 0.0081 - val_mean_absolute_error: 0.0692\n",
            "Epoch 47/200\n",
            "8/8 [==============================] - 0s 15ms/step - loss: 0.0039 - mean_squared_error: 0.0039 - mean_absolute_error: 0.0499 - val_loss: 0.0084 - val_mean_squared_error: 0.0084 - val_mean_absolute_error: 0.0734\n",
            "Epoch 48/200\n",
            "8/8 [==============================] - 0s 17ms/step - loss: 0.0032 - mean_squared_error: 0.0032 - mean_absolute_error: 0.0456 - val_loss: 0.0098 - val_mean_squared_error: 0.0098 - val_mean_absolute_error: 0.0782\n",
            "Epoch 49/200\n",
            "8/8 [==============================] - 0s 18ms/step - loss: 0.0043 - mean_squared_error: 0.0043 - mean_absolute_error: 0.0553 - val_loss: 0.0075 - val_mean_squared_error: 0.0075 - val_mean_absolute_error: 0.0664\n",
            "Epoch 50/200\n",
            "8/8 [==============================] - 0s 19ms/step - loss: 0.0029 - mean_squared_error: 0.0029 - mean_absolute_error: 0.0426 - val_loss: 0.0084 - val_mean_squared_error: 0.0084 - val_mean_absolute_error: 0.0725\n",
            "Epoch 51/200\n",
            "8/8 [==============================] - 0s 16ms/step - loss: 0.0030 - mean_squared_error: 0.0030 - mean_absolute_error: 0.0454 - val_loss: 0.0081 - val_mean_squared_error: 0.0081 - val_mean_absolute_error: 0.0720\n",
            "Epoch 52/200\n",
            "8/8 [==============================] - 0s 19ms/step - loss: 0.0036 - mean_squared_error: 0.0036 - mean_absolute_error: 0.0501 - val_loss: 0.0089 - val_mean_squared_error: 0.0089 - val_mean_absolute_error: 0.0744\n"
          ],
          "name": "stdout"
        },
        {
          "output_type": "display_data",
          "data": {
            "text/html": [
              "<br/>Waiting for W&B process to finish, PID 6981<br/>Program ended successfully."
            ],
            "text/plain": [
              "<IPython.core.display.HTML object>"
            ]
          },
          "metadata": {
            "tags": []
          }
        },
        {
          "output_type": "display_data",
          "data": {
            "application/vnd.jupyter.widget-view+json": {
              "model_id": "2c10583065f340e485ce69947fda08e9",
              "version_minor": 0,
              "version_major": 2
            },
            "text/plain": [
              "VBox(children=(Label(value=' 0.71MB of 0.71MB uploaded (0.00MB deduped)\\r'), FloatProgress(value=1.0, max=1.0)…"
            ]
          },
          "metadata": {
            "tags": []
          }
        },
        {
          "output_type": "display_data",
          "data": {
            "text/html": [
              "Find user logs for this run at: <code>/content/feeder_repo/wandb/run-20210718_211953-ct9at6sj/logs/debug.log</code>"
            ],
            "text/plain": [
              "<IPython.core.display.HTML object>"
            ]
          },
          "metadata": {
            "tags": []
          }
        },
        {
          "output_type": "display_data",
          "data": {
            "text/html": [
              "Find internal logs for this run at: <code>/content/feeder_repo/wandb/run-20210718_211953-ct9at6sj/logs/debug-internal.log</code>"
            ],
            "text/plain": [
              "<IPython.core.display.HTML object>"
            ]
          },
          "metadata": {
            "tags": []
          }
        },
        {
          "output_type": "display_data",
          "data": {
            "text/html": [
              "<h3>Run summary:</h3><br/><style>\n",
              "    table.wandb td:nth-child(1) { padding: 0 10px; text-align: right }\n",
              "    </style><table class=\"wandb\">\n",
              "<tr><td>epoch</td><td>51</td></tr><tr><td>loss</td><td>0.00398</td></tr><tr><td>mean_squared_error</td><td>0.00398</td></tr><tr><td>mean_absolute_error</td><td>0.05174</td></tr><tr><td>val_loss</td><td>0.00891</td></tr><tr><td>val_mean_squared_error</td><td>0.00891</td></tr><tr><td>val_mean_absolute_error</td><td>0.07439</td></tr><tr><td>_runtime</td><td>19</td></tr><tr><td>_timestamp</td><td>1626643212</td></tr><tr><td>_step</td><td>51</td></tr><tr><td>best_val_loss</td><td>0.00707</td></tr><tr><td>best_epoch</td><td>41</td></tr></table>"
            ],
            "text/plain": [
              "<IPython.core.display.HTML object>"
            ]
          },
          "metadata": {
            "tags": []
          }
        },
        {
          "output_type": "display_data",
          "data": {
            "text/html": [
              "<h3>Run history:</h3><br/><style>\n",
              "    table.wandb td:nth-child(1) { padding: 0 10px; text-align: right }\n",
              "    </style><table class=\"wandb\">\n",
              "<tr><td>epoch</td><td>▁▁▁▁▂▂▂▂▂▃▃▃▃▃▃▄▄▄▄▄▅▅▅▅▅▅▆▆▆▆▆▆▇▇▇▇▇███</td></tr><tr><td>loss</td><td>█▁▁▁▁▁▁▁▁▁▁▁▁▁▁▁▁▁▁▁▁▁▁▁▁▁▁▁▁▁▁▁▁▁▁▁▁▁▁▁</td></tr><tr><td>mean_squared_error</td><td>█▁▁▁▁▁▁▁▁▁▁▁▁▁▁▁▁▁▁▁▁▁▁▁▁▁▁▁▁▁▁▁▁▁▁▁▁▁▁▁</td></tr><tr><td>mean_absolute_error</td><td>█▂▂▂▂▂▂▂▂▂▂▂▂▂▂▂▂▁▁▂▁▂▁▁▂▁▁▁▁▁▂▁▁▁▁▁▁▁▁▁</td></tr><tr><td>val_loss</td><td>▅▆█▅▇▇▅██▅▅▃▆▅▃▂█▃▃▃▃▃▄▂▂▂▁▂▂▁▂▂▁▁▂▁▂▁▁▂</td></tr><tr><td>val_mean_squared_error</td><td>▅▆█▅▇▇▅██▅▅▃▆▅▃▂█▃▃▃▃▃▄▂▂▂▁▂▂▁▂▂▁▁▂▁▂▁▁▂</td></tr><tr><td>val_mean_absolute_error</td><td>▅▇█▆▇▇▆██▅▅▄▆▆▃▃█▃▄▃▃▃▄▃▂▂▂▂▂▁▂▃▁▁▂▁▂▁▂▂</td></tr><tr><td>_runtime</td><td>▁▁▁▁▂▂▂▂▂▃▃▃▃▄▄▄▄▄▄▅▅▅▅▅▅▅▅▅▅▆▆▆▆▆▇▇▇▇▇█</td></tr><tr><td>_timestamp</td><td>▁▁▁▁▂▂▂▂▂▃▃▃▃▄▄▄▄▄▄▅▅▅▅▅▅▅▅▅▅▆▆▆▆▆▇▇▇▇▇█</td></tr><tr><td>_step</td><td>▁▁▁▁▂▂▂▂▂▃▃▃▃▃▃▄▄▄▄▄▅▅▅▅▅▅▆▆▆▆▆▆▇▇▇▇▇███</td></tr></table><br/>"
            ],
            "text/plain": [
              "<IPython.core.display.HTML object>"
            ]
          },
          "metadata": {
            "tags": []
          }
        },
        {
          "output_type": "display_data",
          "data": {
            "text/html": [
              "Synced 5 W&B file(s), 1 media file(s), 2 artifact file(s) and 2 other file(s)"
            ],
            "text/plain": [
              "<IPython.core.display.HTML object>"
            ]
          },
          "metadata": {
            "tags": []
          }
        },
        {
          "output_type": "display_data",
          "data": {
            "text/html": [
              "\n",
              "                    <br/>Synced <strong style=\"color:#cdcd00\">fresh-sweep-23</strong>: <a href=\"https://wandb.ai/acse-jaq15/ACSE_9_LSTM_GRU/runs/ct9at6sj\" target=\"_blank\">https://wandb.ai/acse-jaq15/ACSE_9_LSTM_GRU/runs/ct9at6sj</a><br/>\n",
              "                "
            ],
            "text/plain": [
              "<IPython.core.display.HTML object>"
            ]
          },
          "metadata": {
            "tags": []
          }
        },
        {
          "output_type": "stream",
          "text": [
            "\u001b[34m\u001b[1mwandb\u001b[0m: Sweep Agent: Waiting for job.\n",
            "\u001b[34m\u001b[1mwandb\u001b[0m: Job received.\n",
            "\u001b[34m\u001b[1mwandb\u001b[0m: Agent Starting Run: ccfbsp33 with config:\n",
            "\u001b[34m\u001b[1mwandb\u001b[0m: \tactivation: tanh\n",
            "\u001b[34m\u001b[1mwandb\u001b[0m: \tbatch_size: 64\n",
            "\u001b[34m\u001b[1mwandb\u001b[0m: \tdropout: 0.2\n",
            "\u001b[34m\u001b[1mwandb\u001b[0m: \tepochs: 50\n",
            "\u001b[34m\u001b[1mwandb\u001b[0m: \tlearning_rate: 0.001\n",
            "\u001b[34m\u001b[1mwandb\u001b[0m: \toptimizer: adam\n"
          ],
          "name": "stderr"
        },
        {
          "output_type": "display_data",
          "data": {
            "text/html": [
              "\n",
              "                Tracking run with wandb version 0.11.0<br/>\n",
              "                Syncing run <strong style=\"color:#cdcd00\">glowing-sweep-24</strong> to <a href=\"https://wandb.ai\" target=\"_blank\">Weights & Biases</a> <a href=\"https://docs.wandb.com/integrations/jupyter.html\" target=\"_blank\">(Documentation)</a>.<br/>\n",
              "                Project page: <a href=\"https://wandb.ai/acse-jaq15/ACSE_9_LSTM_GRU\" target=\"_blank\">https://wandb.ai/acse-jaq15/ACSE_9_LSTM_GRU</a><br/>\n",
              "                Sweep page: <a href=\"https://wandb.ai/acse-jaq15/ACSE_9_LSTM_GRU/sweeps/hgiundb1\" target=\"_blank\">https://wandb.ai/acse-jaq15/ACSE_9_LSTM_GRU/sweeps/hgiundb1</a><br/>\n",
              "Run page: <a href=\"https://wandb.ai/acse-jaq15/ACSE_9_LSTM_GRU/runs/ccfbsp33\" target=\"_blank\">https://wandb.ai/acse-jaq15/ACSE_9_LSTM_GRU/runs/ccfbsp33</a><br/>\n",
              "                Run data is saved locally in <code>/content/feeder_repo/wandb/run-20210718_212052-ccfbsp33</code><br/><br/>\n",
              "            "
            ],
            "text/plain": [
              "<IPython.core.display.HTML object>"
            ]
          },
          "metadata": {
            "tags": []
          }
        },
        {
          "output_type": "stream",
          "text": [
            "Epoch 1/50\n",
            "16/16 [==============================] - 7s 96ms/step - loss: 0.1171 - mean_squared_error: 0.1171 - mean_absolute_error: 0.2679 - val_loss: 0.0186 - val_mean_squared_error: 0.0186 - val_mean_absolute_error: 0.1098\n",
            "Epoch 2/50\n",
            "16/16 [==============================] - 0s 13ms/step - loss: 0.0094 - mean_squared_error: 0.0094 - mean_absolute_error: 0.0734 - val_loss: 0.0208 - val_mean_squared_error: 0.0208 - val_mean_absolute_error: 0.1194\n",
            "Epoch 3/50\n",
            "16/16 [==============================] - 0s 16ms/step - loss: 0.0047 - mean_squared_error: 0.0047 - mean_absolute_error: 0.0561 - val_loss: 0.0161 - val_mean_squared_error: 0.0161 - val_mean_absolute_error: 0.1012\n",
            "Epoch 4/50\n",
            "16/16 [==============================] - 0s 16ms/step - loss: 0.0029 - mean_squared_error: 0.0029 - mean_absolute_error: 0.0423 - val_loss: 0.0159 - val_mean_squared_error: 0.0159 - val_mean_absolute_error: 0.0993\n",
            "Epoch 5/50\n",
            "16/16 [==============================] - 0s 15ms/step - loss: 0.0022 - mean_squared_error: 0.0022 - mean_absolute_error: 0.0371 - val_loss: 0.0162 - val_mean_squared_error: 0.0162 - val_mean_absolute_error: 0.1004\n",
            "Epoch 6/50\n",
            "16/16 [==============================] - 0s 14ms/step - loss: 0.0025 - mean_squared_error: 0.0025 - mean_absolute_error: 0.0380 - val_loss: 0.0159 - val_mean_squared_error: 0.0159 - val_mean_absolute_error: 0.0997\n",
            "Epoch 7/50\n",
            "16/16 [==============================] - 0s 16ms/step - loss: 0.0020 - mean_squared_error: 0.0020 - mean_absolute_error: 0.0344 - val_loss: 0.0158 - val_mean_squared_error: 0.0158 - val_mean_absolute_error: 0.0991\n",
            "Epoch 8/50\n",
            "16/16 [==============================] - 0s 16ms/step - loss: 0.0023 - mean_squared_error: 0.0023 - mean_absolute_error: 0.0368 - val_loss: 0.0156 - val_mean_squared_error: 0.0156 - val_mean_absolute_error: 0.0982\n",
            "Epoch 9/50\n",
            "16/16 [==============================] - 0s 15ms/step - loss: 0.0022 - mean_squared_error: 0.0022 - mean_absolute_error: 0.0371 - val_loss: 0.0152 - val_mean_squared_error: 0.0152 - val_mean_absolute_error: 0.0968\n",
            "Epoch 10/50\n",
            "16/16 [==============================] - 0s 19ms/step - loss: 0.0021 - mean_squared_error: 0.0021 - mean_absolute_error: 0.0356 - val_loss: 0.0151 - val_mean_squared_error: 0.0151 - val_mean_absolute_error: 0.0962\n",
            "Epoch 11/50\n",
            "16/16 [==============================] - 0s 13ms/step - loss: 0.0024 - mean_squared_error: 0.0024 - mean_absolute_error: 0.0383 - val_loss: 0.0152 - val_mean_squared_error: 0.0152 - val_mean_absolute_error: 0.0971\n",
            "Epoch 12/50\n",
            "16/16 [==============================] - 0s 15ms/step - loss: 0.0020 - mean_squared_error: 0.0020 - mean_absolute_error: 0.0348 - val_loss: 0.0151 - val_mean_squared_error: 0.0151 - val_mean_absolute_error: 0.0964\n",
            "Epoch 13/50\n",
            "16/16 [==============================] - 0s 13ms/step - loss: 0.0019 - mean_squared_error: 0.0019 - mean_absolute_error: 0.0350 - val_loss: 0.0146 - val_mean_squared_error: 0.0146 - val_mean_absolute_error: 0.0946\n",
            "Epoch 14/50\n",
            "16/16 [==============================] - 0s 19ms/step - loss: 0.0020 - mean_squared_error: 0.0020 - mean_absolute_error: 0.0352 - val_loss: 0.0147 - val_mean_squared_error: 0.0147 - val_mean_absolute_error: 0.0950\n",
            "Epoch 15/50\n",
            "16/16 [==============================] - 0s 14ms/step - loss: 0.0019 - mean_squared_error: 0.0019 - mean_absolute_error: 0.0340 - val_loss: 0.0151 - val_mean_squared_error: 0.0151 - val_mean_absolute_error: 0.0968\n",
            "Epoch 16/50\n",
            "16/16 [==============================] - 0s 14ms/step - loss: 0.0020 - mean_squared_error: 0.0020 - mean_absolute_error: 0.0348 - val_loss: 0.0146 - val_mean_squared_error: 0.0146 - val_mean_absolute_error: 0.0951\n",
            "Epoch 17/50\n",
            "16/16 [==============================] - 0s 15ms/step - loss: 0.0020 - mean_squared_error: 0.0020 - mean_absolute_error: 0.0339 - val_loss: 0.0144 - val_mean_squared_error: 0.0144 - val_mean_absolute_error: 0.0941\n",
            "Epoch 18/50\n",
            "16/16 [==============================] - 0s 16ms/step - loss: 0.0019 - mean_squared_error: 0.0019 - mean_absolute_error: 0.0336 - val_loss: 0.0146 - val_mean_squared_error: 0.0146 - val_mean_absolute_error: 0.0951\n",
            "Epoch 19/50\n",
            "16/16 [==============================] - 0s 15ms/step - loss: 0.0021 - mean_squared_error: 0.0021 - mean_absolute_error: 0.0356 - val_loss: 0.0140 - val_mean_squared_error: 0.0140 - val_mean_absolute_error: 0.0926\n",
            "Epoch 20/50\n",
            "16/16 [==============================] - 0s 17ms/step - loss: 0.0017 - mean_squared_error: 0.0017 - mean_absolute_error: 0.0331 - val_loss: 0.0141 - val_mean_squared_error: 0.0141 - val_mean_absolute_error: 0.0933\n",
            "Epoch 21/50\n",
            "16/16 [==============================] - 0s 15ms/step - loss: 0.0019 - mean_squared_error: 0.0019 - mean_absolute_error: 0.0343 - val_loss: 0.0139 - val_mean_squared_error: 0.0139 - val_mean_absolute_error: 0.0924\n",
            "Epoch 22/50\n",
            "16/16 [==============================] - 0s 14ms/step - loss: 0.0017 - mean_squared_error: 0.0017 - mean_absolute_error: 0.0324 - val_loss: 0.0137 - val_mean_squared_error: 0.0137 - val_mean_absolute_error: 0.0915\n",
            "Epoch 23/50\n",
            "16/16 [==============================] - 0s 13ms/step - loss: 0.0017 - mean_squared_error: 0.0017 - mean_absolute_error: 0.0327 - val_loss: 0.0138 - val_mean_squared_error: 0.0138 - val_mean_absolute_error: 0.0919\n",
            "Epoch 24/50\n",
            "16/16 [==============================] - 0s 14ms/step - loss: 0.0016 - mean_squared_error: 0.0016 - mean_absolute_error: 0.0319 - val_loss: 0.0140 - val_mean_squared_error: 0.0140 - val_mean_absolute_error: 0.0926\n",
            "Epoch 25/50\n",
            "16/16 [==============================] - 0s 17ms/step - loss: 0.0018 - mean_squared_error: 0.0018 - mean_absolute_error: 0.0336 - val_loss: 0.0135 - val_mean_squared_error: 0.0135 - val_mean_absolute_error: 0.0909\n",
            "Epoch 26/50\n",
            "16/16 [==============================] - 0s 17ms/step - loss: 0.0017 - mean_squared_error: 0.0017 - mean_absolute_error: 0.0319 - val_loss: 0.0137 - val_mean_squared_error: 0.0137 - val_mean_absolute_error: 0.0915\n",
            "Epoch 27/50\n",
            "16/16 [==============================] - 0s 15ms/step - loss: 0.0020 - mean_squared_error: 0.0020 - mean_absolute_error: 0.0342 - val_loss: 0.0131 - val_mean_squared_error: 0.0131 - val_mean_absolute_error: 0.0893\n",
            "Epoch 28/50\n",
            "16/16 [==============================] - 0s 14ms/step - loss: 0.0018 - mean_squared_error: 0.0018 - mean_absolute_error: 0.0334 - val_loss: 0.0132 - val_mean_squared_error: 0.0132 - val_mean_absolute_error: 0.0896\n",
            "Epoch 29/50\n",
            "16/16 [==============================] - 0s 17ms/step - loss: 0.0019 - mean_squared_error: 0.0019 - mean_absolute_error: 0.0329 - val_loss: 0.0141 - val_mean_squared_error: 0.0141 - val_mean_absolute_error: 0.0929\n",
            "Epoch 30/50\n",
            "16/16 [==============================] - 0s 15ms/step - loss: 0.0018 - mean_squared_error: 0.0018 - mean_absolute_error: 0.0332 - val_loss: 0.0130 - val_mean_squared_error: 0.0130 - val_mean_absolute_error: 0.0890\n",
            "Epoch 31/50\n",
            "16/16 [==============================] - 0s 15ms/step - loss: 0.0017 - mean_squared_error: 0.0017 - mean_absolute_error: 0.0312 - val_loss: 0.0137 - val_mean_squared_error: 0.0137 - val_mean_absolute_error: 0.0913\n",
            "Epoch 32/50\n",
            "16/16 [==============================] - 0s 15ms/step - loss: 0.0019 - mean_squared_error: 0.0019 - mean_absolute_error: 0.0338 - val_loss: 0.0129 - val_mean_squared_error: 0.0129 - val_mean_absolute_error: 0.0886\n",
            "Epoch 33/50\n",
            "16/16 [==============================] - 0s 15ms/step - loss: 0.0018 - mean_squared_error: 0.0018 - mean_absolute_error: 0.0330 - val_loss: 0.0130 - val_mean_squared_error: 0.0130 - val_mean_absolute_error: 0.0890\n",
            "Epoch 34/50\n",
            "16/16 [==============================] - 0s 15ms/step - loss: 0.0017 - mean_squared_error: 0.0017 - mean_absolute_error: 0.0314 - val_loss: 0.0129 - val_mean_squared_error: 0.0129 - val_mean_absolute_error: 0.0888\n",
            "Epoch 35/50\n",
            "16/16 [==============================] - 0s 18ms/step - loss: 0.0016 - mean_squared_error: 0.0016 - mean_absolute_error: 0.0311 - val_loss: 0.0128 - val_mean_squared_error: 0.0128 - val_mean_absolute_error: 0.0883\n",
            "Epoch 36/50\n",
            "16/16 [==============================] - 0s 16ms/step - loss: 0.0015 - mean_squared_error: 0.0015 - mean_absolute_error: 0.0307 - val_loss: 0.0127 - val_mean_squared_error: 0.0127 - val_mean_absolute_error: 0.0880\n",
            "Epoch 37/50\n",
            "16/16 [==============================] - 0s 15ms/step - loss: 0.0015 - mean_squared_error: 0.0015 - mean_absolute_error: 0.0301 - val_loss: 0.0124 - val_mean_squared_error: 0.0124 - val_mean_absolute_error: 0.0871\n",
            "Epoch 38/50\n",
            "16/16 [==============================] - 0s 16ms/step - loss: 0.0015 - mean_squared_error: 0.0015 - mean_absolute_error: 0.0305 - val_loss: 0.0125 - val_mean_squared_error: 0.0125 - val_mean_absolute_error: 0.0874\n",
            "Epoch 39/50\n",
            "16/16 [==============================] - 0s 16ms/step - loss: 0.0016 - mean_squared_error: 0.0016 - mean_absolute_error: 0.0312 - val_loss: 0.0124 - val_mean_squared_error: 0.0124 - val_mean_absolute_error: 0.0870\n",
            "Epoch 40/50\n",
            "16/16 [==============================] - 0s 19ms/step - loss: 0.0015 - mean_squared_error: 0.0015 - mean_absolute_error: 0.0290 - val_loss: 0.0125 - val_mean_squared_error: 0.0125 - val_mean_absolute_error: 0.0873\n",
            "Epoch 41/50\n",
            "16/16 [==============================] - 0s 15ms/step - loss: 0.0016 - mean_squared_error: 0.0016 - mean_absolute_error: 0.0312 - val_loss: 0.0125 - val_mean_squared_error: 0.0125 - val_mean_absolute_error: 0.0873\n",
            "Epoch 42/50\n",
            "16/16 [==============================] - 0s 16ms/step - loss: 0.0014 - mean_squared_error: 0.0014 - mean_absolute_error: 0.0295 - val_loss: 0.0121 - val_mean_squared_error: 0.0121 - val_mean_absolute_error: 0.0861\n",
            "Epoch 43/50\n",
            "16/16 [==============================] - 0s 14ms/step - loss: 0.0014 - mean_squared_error: 0.0014 - mean_absolute_error: 0.0285 - val_loss: 0.0121 - val_mean_squared_error: 0.0121 - val_mean_absolute_error: 0.0859\n",
            "Epoch 44/50\n",
            "16/16 [==============================] - 0s 14ms/step - loss: 0.0014 - mean_squared_error: 0.0014 - mean_absolute_error: 0.0291 - val_loss: 0.0121 - val_mean_squared_error: 0.0121 - val_mean_absolute_error: 0.0858\n",
            "Epoch 45/50\n",
            "16/16 [==============================] - 0s 15ms/step - loss: 0.0015 - mean_squared_error: 0.0015 - mean_absolute_error: 0.0297 - val_loss: 0.0120 - val_mean_squared_error: 0.0120 - val_mean_absolute_error: 0.0856\n",
            "Epoch 46/50\n",
            "16/16 [==============================] - 0s 15ms/step - loss: 0.0015 - mean_squared_error: 0.0015 - mean_absolute_error: 0.0301 - val_loss: 0.0120 - val_mean_squared_error: 0.0120 - val_mean_absolute_error: 0.0856\n",
            "Epoch 47/50\n",
            "16/16 [==============================] - 0s 15ms/step - loss: 0.0015 - mean_squared_error: 0.0015 - mean_absolute_error: 0.0304 - val_loss: 0.0122 - val_mean_squared_error: 0.0122 - val_mean_absolute_error: 0.0866\n",
            "Epoch 48/50\n",
            "16/16 [==============================] - 0s 15ms/step - loss: 0.0015 - mean_squared_error: 0.0015 - mean_absolute_error: 0.0292 - val_loss: 0.0116 - val_mean_squared_error: 0.0116 - val_mean_absolute_error: 0.0842\n",
            "Epoch 49/50\n",
            "16/16 [==============================] - 0s 17ms/step - loss: 0.0014 - mean_squared_error: 0.0014 - mean_absolute_error: 0.0288 - val_loss: 0.0120 - val_mean_squared_error: 0.0120 - val_mean_absolute_error: 0.0857\n",
            "Epoch 50/50\n",
            "16/16 [==============================] - 0s 15ms/step - loss: 0.0014 - mean_squared_error: 0.0014 - mean_absolute_error: 0.0295 - val_loss: 0.0113 - val_mean_squared_error: 0.0113 - val_mean_absolute_error: 0.0829\n"
          ],
          "name": "stdout"
        },
        {
          "output_type": "display_data",
          "data": {
            "text/html": [
              "<br/>Waiting for W&B process to finish, PID 7192<br/>Program ended successfully."
            ],
            "text/plain": [
              "<IPython.core.display.HTML object>"
            ]
          },
          "metadata": {
            "tags": []
          }
        },
        {
          "output_type": "display_data",
          "data": {
            "application/vnd.jupyter.widget-view+json": {
              "model_id": "5b25ad271099435b8ca670b7894e2f31",
              "version_minor": 0,
              "version_major": 2
            },
            "text/plain": [
              "VBox(children=(Label(value=' 0.89MB of 0.89MB uploaded (0.00MB deduped)\\r'), FloatProgress(value=1.0, max=1.0)…"
            ]
          },
          "metadata": {
            "tags": []
          }
        },
        {
          "output_type": "display_data",
          "data": {
            "text/html": [
              "Find user logs for this run at: <code>/content/feeder_repo/wandb/run-20210718_212052-ccfbsp33/logs/debug.log</code>"
            ],
            "text/plain": [
              "<IPython.core.display.HTML object>"
            ]
          },
          "metadata": {
            "tags": []
          }
        },
        {
          "output_type": "display_data",
          "data": {
            "text/html": [
              "Find internal logs for this run at: <code>/content/feeder_repo/wandb/run-20210718_212052-ccfbsp33/logs/debug-internal.log</code>"
            ],
            "text/plain": [
              "<IPython.core.display.HTML object>"
            ]
          },
          "metadata": {
            "tags": []
          }
        },
        {
          "output_type": "display_data",
          "data": {
            "text/html": [
              "<h3>Run summary:</h3><br/><style>\n",
              "    table.wandb td:nth-child(1) { padding: 0 10px; text-align: right }\n",
              "    </style><table class=\"wandb\">\n",
              "<tr><td>epoch</td><td>49</td></tr><tr><td>loss</td><td>0.00133</td></tr><tr><td>mean_squared_error</td><td>0.00133</td></tr><tr><td>mean_absolute_error</td><td>0.02847</td></tr><tr><td>val_loss</td><td>0.01127</td></tr><tr><td>val_mean_squared_error</td><td>0.01127</td></tr><tr><td>val_mean_absolute_error</td><td>0.08293</td></tr><tr><td>_runtime</td><td>25</td></tr><tr><td>_timestamp</td><td>1626643277</td></tr><tr><td>_step</td><td>49</td></tr><tr><td>best_val_loss</td><td>0.01127</td></tr><tr><td>best_epoch</td><td>49</td></tr></table>"
            ],
            "text/plain": [
              "<IPython.core.display.HTML object>"
            ]
          },
          "metadata": {
            "tags": []
          }
        },
        {
          "output_type": "display_data",
          "data": {
            "text/html": [
              "<h3>Run history:</h3><br/><style>\n",
              "    table.wandb td:nth-child(1) { padding: 0 10px; text-align: right }\n",
              "    </style><table class=\"wandb\">\n",
              "<tr><td>epoch</td><td>▁▁▁▁▂▂▂▂▂▃▃▃▃▃▃▄▄▄▄▄▅▅▅▅▅▅▆▆▆▆▆▆▇▇▇▇▇███</td></tr><tr><td>loss</td><td>█▂▁▁▁▁▁▁▁▁▁▁▁▁▁▁▁▁▁▁▁▁▁▁▁▁▁▁▁▁▁▁▁▁▁▁▁▁▁▁</td></tr><tr><td>mean_squared_error</td><td>█▂▁▁▁▁▁▁▁▁▁▁▁▁▁▁▁▁▁▁▁▁▁▁▁▁▁▁▁▁▁▁▁▁▁▁▁▁▁▁</td></tr><tr><td>mean_absolute_error</td><td>█▃▂▂▁▁▁▁▁▁▁▁▁▁▁▁▁▁▁▁▁▁▁▁▁▁▁▁▁▁▁▁▁▁▁▁▁▁▁▁</td></tr><tr><td>val_loss</td><td>▆█▅▄▄▄▄▄▄▄▃▄▃▃▃▃▃▃▃▃▃▂▂▃▃▂▂▂▂▂▂▂▂▂▂▂▂▂▁▁</td></tr><tr><td>val_mean_squared_error</td><td>▆█▅▄▄▄▄▄▄▄▃▄▃▃▃▃▃▃▃▃▃▂▂▃▃▂▂▂▂▂▂▂▂▂▂▂▂▂▁▁</td></tr><tr><td>val_mean_absolute_error</td><td>▆█▄▄▄▄▄▄▄▄▃▃▃▃▃▃▃▃▃▃▃▂▂▃▃▂▂▂▂▂▂▂▂▂▂▂▂▂▁▁</td></tr><tr><td>_runtime</td><td>▁▁▁▁▂▂▂▂▂▃▃▃▃▃▃▄▄▄▄▄▅▅▅▅▅▅▆▆▆▆▆▆▇▇▇▇▇███</td></tr><tr><td>_timestamp</td><td>▁▁▁▁▂▂▂▂▂▃▃▃▃▃▃▄▄▄▄▄▅▅▅▅▅▅▆▆▆▆▆▆▇▇▇▇▇███</td></tr><tr><td>_step</td><td>▁▁▁▁▂▂▂▂▂▃▃▃▃▃▃▄▄▄▄▄▅▅▅▅▅▅▆▆▆▆▆▆▇▇▇▇▇███</td></tr></table><br/>"
            ],
            "text/plain": [
              "<IPython.core.display.HTML object>"
            ]
          },
          "metadata": {
            "tags": []
          }
        },
        {
          "output_type": "display_data",
          "data": {
            "text/html": [
              "Synced 5 W&B file(s), 1 media file(s), 2 artifact file(s) and 2 other file(s)"
            ],
            "text/plain": [
              "<IPython.core.display.HTML object>"
            ]
          },
          "metadata": {
            "tags": []
          }
        },
        {
          "output_type": "display_data",
          "data": {
            "text/html": [
              "\n",
              "                    <br/>Synced <strong style=\"color:#cdcd00\">glowing-sweep-24</strong>: <a href=\"https://wandb.ai/acse-jaq15/ACSE_9_LSTM_GRU/runs/ccfbsp33\" target=\"_blank\">https://wandb.ai/acse-jaq15/ACSE_9_LSTM_GRU/runs/ccfbsp33</a><br/>\n",
              "                "
            ],
            "text/plain": [
              "<IPython.core.display.HTML object>"
            ]
          },
          "metadata": {
            "tags": []
          }
        },
        {
          "output_type": "stream",
          "text": [
            "\u001b[34m\u001b[1mwandb\u001b[0m: Sweep Agent: Waiting for job.\n",
            "500 response executing GraphQL.\n",
            "{\"errors\":[{\"message\":\"Post \\\"http://anaconda.default.svc.cluster.local/search\\\": context deadline exceeded\",\"path\":[\"agentHeartbeat\"]}],\"data\":{\"agentHeartbeat\":null}}\n",
            "\u001b[34m\u001b[1mwandb\u001b[0m: \u001b[32m\u001b[41mERROR\u001b[0m Error while calling W&B API: Post \"http://anaconda.default.svc.cluster.local/search\": context deadline exceeded (<Response [500]>)\n",
            "\u001b[34m\u001b[1mwandb\u001b[0m: Job received.\n",
            "\u001b[34m\u001b[1mwandb\u001b[0m: Agent Starting Run: bh5h9b4n with config:\n",
            "\u001b[34m\u001b[1mwandb\u001b[0m: \tactivation: relu\n",
            "\u001b[34m\u001b[1mwandb\u001b[0m: \tbatch_size: 32\n",
            "\u001b[34m\u001b[1mwandb\u001b[0m: \tdropout: 0.2\n",
            "\u001b[34m\u001b[1mwandb\u001b[0m: \tepochs: 100\n",
            "\u001b[34m\u001b[1mwandb\u001b[0m: \tlearning_rate: 0.001\n",
            "\u001b[34m\u001b[1mwandb\u001b[0m: \toptimizer: nadam\n"
          ],
          "name": "stderr"
        },
        {
          "output_type": "display_data",
          "data": {
            "text/html": [
              "\n",
              "                Tracking run with wandb version 0.11.0<br/>\n",
              "                Syncing run <strong style=\"color:#cdcd00\">dazzling-sweep-25</strong> to <a href=\"https://wandb.ai\" target=\"_blank\">Weights & Biases</a> <a href=\"https://docs.wandb.com/integrations/jupyter.html\" target=\"_blank\">(Documentation)</a>.<br/>\n",
              "                Project page: <a href=\"https://wandb.ai/acse-jaq15/ACSE_9_LSTM_GRU\" target=\"_blank\">https://wandb.ai/acse-jaq15/ACSE_9_LSTM_GRU</a><br/>\n",
              "                Sweep page: <a href=\"https://wandb.ai/acse-jaq15/ACSE_9_LSTM_GRU/sweeps/hgiundb1\" target=\"_blank\">https://wandb.ai/acse-jaq15/ACSE_9_LSTM_GRU/sweeps/hgiundb1</a><br/>\n",
              "Run page: <a href=\"https://wandb.ai/acse-jaq15/ACSE_9_LSTM_GRU/runs/bh5h9b4n\" target=\"_blank\">https://wandb.ai/acse-jaq15/ACSE_9_LSTM_GRU/runs/bh5h9b4n</a><br/>\n",
              "                Run data is saved locally in <code>/content/feeder_repo/wandb/run-20210718_212207-bh5h9b4n</code><br/><br/>\n",
              "            "
            ],
            "text/plain": [
              "<IPython.core.display.HTML object>"
            ]
          },
          "metadata": {
            "tags": []
          }
        },
        {
          "output_type": "stream",
          "text": [
            "WARNING:tensorflow:Layer lstm will not use cuDNN kernels since it doesn't meet the criteria. It will use a generic GPU kernel as fallback when running on GPU.\n",
            "WARNING:tensorflow:Layer gru will not use cuDNN kernels since it doesn't meet the criteria. It will use a generic GPU kernel as fallback when running on GPU.\n",
            "Epoch 1/100\n",
            "32/32 [==============================] - 13s 235ms/step - loss: 0.1478 - mean_squared_error: 0.1478 - mean_absolute_error: 0.3066 - val_loss: 0.0205 - val_mean_squared_error: 0.0205 - val_mean_absolute_error: 0.1168\n",
            "Epoch 2/100\n",
            "32/32 [==============================] - 6s 198ms/step - loss: 0.0038 - mean_squared_error: 0.0038 - mean_absolute_error: 0.0467 - val_loss: 0.0187 - val_mean_squared_error: 0.0187 - val_mean_absolute_error: 0.1061\n",
            "Epoch 3/100\n",
            "32/32 [==============================] - 6s 204ms/step - loss: 0.0035 - mean_squared_error: 0.0035 - mean_absolute_error: 0.0470 - val_loss: 0.0183 - val_mean_squared_error: 0.0183 - val_mean_absolute_error: 0.1051\n",
            "Epoch 4/100\n",
            "32/32 [==============================] - 6s 196ms/step - loss: 0.0031 - mean_squared_error: 0.0031 - mean_absolute_error: 0.0427 - val_loss: 0.0181 - val_mean_squared_error: 0.0181 - val_mean_absolute_error: 0.1071\n",
            "Epoch 5/100\n",
            "32/32 [==============================] - 6s 197ms/step - loss: 0.0029 - mean_squared_error: 0.0029 - mean_absolute_error: 0.0406 - val_loss: 0.0175 - val_mean_squared_error: 0.0175 - val_mean_absolute_error: 0.1053\n",
            "Epoch 6/100\n",
            "32/32 [==============================] - 6s 193ms/step - loss: 0.0026 - mean_squared_error: 0.0026 - mean_absolute_error: 0.0407 - val_loss: 0.0179 - val_mean_squared_error: 0.0179 - val_mean_absolute_error: 0.1069\n",
            "Epoch 7/100\n",
            "32/32 [==============================] - 6s 200ms/step - loss: 0.0031 - mean_squared_error: 0.0031 - mean_absolute_error: 0.0424 - val_loss: 0.0172 - val_mean_squared_error: 0.0172 - val_mean_absolute_error: 0.1034\n",
            "Epoch 8/100\n",
            "32/32 [==============================] - 6s 198ms/step - loss: 0.0027 - mean_squared_error: 0.0027 - mean_absolute_error: 0.0404 - val_loss: 0.0170 - val_mean_squared_error: 0.0170 - val_mean_absolute_error: 0.1029\n",
            "Epoch 9/100\n",
            "32/32 [==============================] - 6s 196ms/step - loss: 0.0027 - mean_squared_error: 0.0027 - mean_absolute_error: 0.0389 - val_loss: 0.0167 - val_mean_squared_error: 0.0167 - val_mean_absolute_error: 0.1025\n",
            "Epoch 10/100\n",
            "32/32 [==============================] - 6s 195ms/step - loss: 0.0022 - mean_squared_error: 0.0022 - mean_absolute_error: 0.0361 - val_loss: 0.0168 - val_mean_squared_error: 0.0168 - val_mean_absolute_error: 0.1012\n",
            "Epoch 11/100\n",
            "32/32 [==============================] - 6s 196ms/step - loss: 0.0024 - mean_squared_error: 0.0024 - mean_absolute_error: 0.0373 - val_loss: 0.0164 - val_mean_squared_error: 0.0164 - val_mean_absolute_error: 0.1002\n",
            "Epoch 12/100\n",
            "32/32 [==============================] - 6s 197ms/step - loss: 0.0030 - mean_squared_error: 0.0030 - mean_absolute_error: 0.0417 - val_loss: 0.0156 - val_mean_squared_error: 0.0156 - val_mean_absolute_error: 0.0988\n",
            "Epoch 13/100\n",
            "32/32 [==============================] - 6s 199ms/step - loss: 0.0025 - mean_squared_error: 0.0025 - mean_absolute_error: 0.0386 - val_loss: 0.0162 - val_mean_squared_error: 0.0162 - val_mean_absolute_error: 0.0996\n",
            "Epoch 14/100\n",
            "32/32 [==============================] - 6s 191ms/step - loss: 0.0023 - mean_squared_error: 0.0023 - mean_absolute_error: 0.0371 - val_loss: 0.0155 - val_mean_squared_error: 0.0155 - val_mean_absolute_error: 0.0987\n",
            "Epoch 15/100\n",
            "32/32 [==============================] - 6s 196ms/step - loss: 0.0024 - mean_squared_error: 0.0024 - mean_absolute_error: 0.0374 - val_loss: 0.0149 - val_mean_squared_error: 0.0149 - val_mean_absolute_error: 0.0968\n",
            "Epoch 16/100\n",
            "32/32 [==============================] - 6s 199ms/step - loss: 0.0023 - mean_squared_error: 0.0023 - mean_absolute_error: 0.0360 - val_loss: 0.0153 - val_mean_squared_error: 0.0153 - val_mean_absolute_error: 0.0966\n",
            "Epoch 17/100\n",
            "32/32 [==============================] - 6s 199ms/step - loss: 0.0024 - mean_squared_error: 0.0024 - mean_absolute_error: 0.0380 - val_loss: 0.0142 - val_mean_squared_error: 0.0142 - val_mean_absolute_error: 0.0940\n",
            "Epoch 18/100\n",
            "26/32 [=======================>......] - ETA: 1s - loss: 0.0023 - mean_squared_error: 0.0023 - mean_absolute_error: 0.0357"
          ],
          "name": "stdout"
        },
        {
          "output_type": "stream",
          "text": [
            "\u001b[34m\u001b[1mwandb\u001b[0m: Ctrl + C detected. Stopping sweep.\n"
          ],
          "name": "stderr"
        },
        {
          "output_type": "stream",
          "text": [
            "Error in callback <bound method _WandbInit._pause_backend of <wandb.sdk.wandb_init._WandbInit object at 0x7fe19725e890>> (for post_run_cell):\n"
          ],
          "name": "stdout"
        },
        {
          "output_type": "error",
          "ename": "KeyboardInterrupt",
          "evalue": "ignored",
          "traceback": [
            "\u001b[0;31m---------------------------------------------------------------------------\u001b[0m",
            "\u001b[0;31mKeyboardInterrupt\u001b[0m                         Traceback (most recent call last)",
            "\u001b[0;32m/usr/local/lib/python3.7/dist-packages/wandb/sdk/wandb_init.py\u001b[0m in \u001b[0;36m_pause_backend\u001b[0;34m(self)\u001b[0m\n\u001b[1;32m    250\u001b[0m             \u001b[0mlogger\u001b[0m\u001b[0;34m.\u001b[0m\u001b[0minfo\u001b[0m\u001b[0;34m(\u001b[0m\u001b[0;34m\"pausing backend\"\u001b[0m\u001b[0;34m)\u001b[0m\u001b[0;34m\u001b[0m\u001b[0;34m\u001b[0m\u001b[0m\n\u001b[1;32m    251\u001b[0m             \u001b[0;31m# Attempt to save the code on every execution\u001b[0m\u001b[0;34m\u001b[0m\u001b[0;34m\u001b[0m\u001b[0;34m\u001b[0m\u001b[0m\n\u001b[0;32m--> 252\u001b[0;31m             \u001b[0;32mif\u001b[0m \u001b[0mself\u001b[0m\u001b[0;34m.\u001b[0m\u001b[0mnotebook\u001b[0m\u001b[0;34m.\u001b[0m\u001b[0msave_ipynb\u001b[0m\u001b[0;34m(\u001b[0m\u001b[0;34m)\u001b[0m\u001b[0;34m:\u001b[0m\u001b[0;34m\u001b[0m\u001b[0;34m\u001b[0m\u001b[0m\n\u001b[0m\u001b[1;32m    253\u001b[0m                 \u001b[0mres\u001b[0m \u001b[0;34m=\u001b[0m \u001b[0mself\u001b[0m\u001b[0;34m.\u001b[0m\u001b[0mrun\u001b[0m\u001b[0;34m.\u001b[0m\u001b[0mlog_code\u001b[0m\u001b[0;34m(\u001b[0m\u001b[0mroot\u001b[0m\u001b[0;34m=\u001b[0m\u001b[0;32mNone\u001b[0m\u001b[0;34m)\u001b[0m\u001b[0;34m\u001b[0m\u001b[0;34m\u001b[0m\u001b[0m\n\u001b[1;32m    254\u001b[0m                 \u001b[0mlogger\u001b[0m\u001b[0;34m.\u001b[0m\u001b[0minfo\u001b[0m\u001b[0;34m(\u001b[0m\u001b[0;34m\"saved code: %s\"\u001b[0m\u001b[0;34m,\u001b[0m \u001b[0mres\u001b[0m\u001b[0;34m)\u001b[0m\u001b[0;34m\u001b[0m\u001b[0;34m\u001b[0m\u001b[0m\n",
            "\u001b[0;32m/usr/local/lib/python3.7/dist-packages/wandb/jupyter.py\u001b[0m in \u001b[0;36msave_ipynb\u001b[0;34m(self)\u001b[0m\n\u001b[1;32m    297\u001b[0m \u001b[0;34m\u001b[0m\u001b[0m\n\u001b[1;32m    298\u001b[0m         \u001b[0;31m# TODO: likely only save if the code has changed\u001b[0m\u001b[0;34m\u001b[0m\u001b[0;34m\u001b[0m\u001b[0;34m\u001b[0m\u001b[0m\n\u001b[0;32m--> 299\u001b[0;31m         \u001b[0mcolab_ipynb\u001b[0m \u001b[0;34m=\u001b[0m \u001b[0mattempt_colab_load_ipynb\u001b[0m\u001b[0;34m(\u001b[0m\u001b[0;34m)\u001b[0m\u001b[0;34m\u001b[0m\u001b[0;34m\u001b[0m\u001b[0m\n\u001b[0m\u001b[1;32m    300\u001b[0m         \u001b[0;32mif\u001b[0m \u001b[0mcolab_ipynb\u001b[0m\u001b[0;34m:\u001b[0m\u001b[0;34m\u001b[0m\u001b[0;34m\u001b[0m\u001b[0m\n\u001b[1;32m    301\u001b[0m             with open(\n",
            "\u001b[0;32m/usr/local/lib/python3.7/dist-packages/wandb/jupyter.py\u001b[0m in \u001b[0;36mattempt_colab_load_ipynb\u001b[0;34m()\u001b[0m\n\u001b[1;32m    172\u001b[0m     \u001b[0;32mif\u001b[0m \u001b[0mcolab\u001b[0m\u001b[0;34m:\u001b[0m\u001b[0;34m\u001b[0m\u001b[0;34m\u001b[0m\u001b[0m\n\u001b[1;32m    173\u001b[0m         \u001b[0;31m# This isn't thread safe, never call in a thread\u001b[0m\u001b[0;34m\u001b[0m\u001b[0;34m\u001b[0m\u001b[0;34m\u001b[0m\u001b[0m\n\u001b[0;32m--> 174\u001b[0;31m         \u001b[0mresponse\u001b[0m \u001b[0;34m=\u001b[0m \u001b[0mcolab\u001b[0m\u001b[0;34m.\u001b[0m\u001b[0m_message\u001b[0m\u001b[0;34m.\u001b[0m\u001b[0mblocking_request\u001b[0m\u001b[0;34m(\u001b[0m\u001b[0;34m\"get_ipynb\"\u001b[0m\u001b[0;34m,\u001b[0m \u001b[0mtimeout_sec\u001b[0m\u001b[0;34m=\u001b[0m\u001b[0;36m5\u001b[0m\u001b[0;34m)\u001b[0m\u001b[0;34m\u001b[0m\u001b[0;34m\u001b[0m\u001b[0m\n\u001b[0m\u001b[1;32m    175\u001b[0m         \u001b[0;32mif\u001b[0m \u001b[0mresponse\u001b[0m\u001b[0;34m:\u001b[0m\u001b[0;34m\u001b[0m\u001b[0;34m\u001b[0m\u001b[0m\n\u001b[1;32m    176\u001b[0m             \u001b[0;32mreturn\u001b[0m \u001b[0mresponse\u001b[0m\u001b[0;34m[\u001b[0m\u001b[0;34m\"ipynb\"\u001b[0m\u001b[0;34m]\u001b[0m\u001b[0;34m\u001b[0m\u001b[0;34m\u001b[0m\u001b[0m\n",
            "\u001b[0;32m/usr/local/lib/python3.7/dist-packages/google/colab/_message.py\u001b[0m in \u001b[0;36mblocking_request\u001b[0;34m(request_type, request, timeout_sec, parent)\u001b[0m\n\u001b[1;32m    173\u001b[0m   request_id = send_request(\n\u001b[1;32m    174\u001b[0m       request_type, request, parent=parent, expect_reply=True)\n\u001b[0;32m--> 175\u001b[0;31m   \u001b[0;32mreturn\u001b[0m \u001b[0mread_reply_from_input\u001b[0m\u001b[0;34m(\u001b[0m\u001b[0mrequest_id\u001b[0m\u001b[0;34m,\u001b[0m \u001b[0mtimeout_sec\u001b[0m\u001b[0;34m)\u001b[0m\u001b[0;34m\u001b[0m\u001b[0;34m\u001b[0m\u001b[0m\n\u001b[0m",
            "\u001b[0;32m/usr/local/lib/python3.7/dist-packages/google/colab/_message.py\u001b[0m in \u001b[0;36mread_reply_from_input\u001b[0;34m(message_id, timeout_sec)\u001b[0m\n\u001b[1;32m     99\u001b[0m     \u001b[0mreply\u001b[0m \u001b[0;34m=\u001b[0m \u001b[0m_read_next_input_message\u001b[0m\u001b[0;34m(\u001b[0m\u001b[0;34m)\u001b[0m\u001b[0;34m\u001b[0m\u001b[0;34m\u001b[0m\u001b[0m\n\u001b[1;32m    100\u001b[0m     \u001b[0;32mif\u001b[0m \u001b[0mreply\u001b[0m \u001b[0;34m==\u001b[0m \u001b[0m_NOT_READY\u001b[0m \u001b[0;32mor\u001b[0m \u001b[0;32mnot\u001b[0m \u001b[0misinstance\u001b[0m\u001b[0;34m(\u001b[0m\u001b[0mreply\u001b[0m\u001b[0;34m,\u001b[0m \u001b[0mdict\u001b[0m\u001b[0;34m)\u001b[0m\u001b[0;34m:\u001b[0m\u001b[0;34m\u001b[0m\u001b[0;34m\u001b[0m\u001b[0m\n\u001b[0;32m--> 101\u001b[0;31m       \u001b[0mtime\u001b[0m\u001b[0;34m.\u001b[0m\u001b[0msleep\u001b[0m\u001b[0;34m(\u001b[0m\u001b[0;36m0.025\u001b[0m\u001b[0;34m)\u001b[0m\u001b[0;34m\u001b[0m\u001b[0;34m\u001b[0m\u001b[0m\n\u001b[0m\u001b[1;32m    102\u001b[0m       \u001b[0;32mcontinue\u001b[0m\u001b[0;34m\u001b[0m\u001b[0;34m\u001b[0m\u001b[0m\n\u001b[1;32m    103\u001b[0m     if (reply.get('type') == 'colab_reply' and\n",
            "\u001b[0;31mKeyboardInterrupt\u001b[0m: "
          ]
        }
      ]
    },
    {
      "cell_type": "markdown",
      "metadata": {
        "id": "gFTu29dbi18i"
      },
      "source": [
        "# Setting up the best model\n",
        "Using the best values from the hyperparamter search with wandb, the most optimal model configuration is used."
      ]
    },
    {
      "cell_type": "code",
      "metadata": {
        "id": "NwsO8cDJPMdj"
      },
      "source": [
        "# picking the best values\n",
        "best_config = {\n",
        "    'epochs': 200,\n",
        "    'batch_size': 32,\n",
        "    'learning_rate': 0.005,\n",
        "    'dropout': 0.2,\n",
        "    'optimizer': 'adam',\n",
        "    'activation': 'selu'\n",
        "}"
      ],
      "execution_count": 10,
      "outputs": []
    },
    {
      "cell_type": "code",
      "metadata": {
        "colab": {
          "base_uri": "https://localhost:8080/"
        },
        "id": "OU7NXYBg1T4r",
        "outputId": "3f75c2af-91ba-406e-8527-df004355f576"
      },
      "source": [
        "# clearing the settings on the keras backend\n",
        "keras.backend.clear_session()\n",
        "\n",
        "# setting keras model to sequential mode\n",
        "model = Sequential()\n",
        "\n",
        "# layer 1\n",
        "model.add(LSTM(units=64, activation='tanh', return_sequences=True, input_shape=(window_len, 1)))\n",
        "model.add(Dropout(best_config['dropout']))\n",
        "# layer 2\n",
        "model.add(GRU(units=64, activation='tanh'))\n",
        "model.add(Dropout(0.1))\n",
        "# layer 3\n",
        "model.add(Dense(1))\n",
        "\n",
        "# defining the optimiser\n",
        "if best_config['optimizer'] == 'sgd':\n",
        "  optimizer = SGD(learning_rate=best_config['learning_rate'], decay=1e-5, momentum=0.9, nesterov=True)\n",
        "elif best_config['optimizer'] == 'rmsprop':\n",
        "  optimizer = RMSprop(learning_rate=best_config['learning_rate'], decay=1e-5)\n",
        "elif best_config['optimizer'] == 'adam':\n",
        "  optimizer = Adam(learning_rate=best_config['learning_rate'], beta_1=0.9, beta_2=0.999, clipnorm=1.0)\n",
        "elif best_config['optimizer'] == 'nadam':\n",
        "  optimizer = Nadam(learning_rate=best_config['learning_rate'], beta_1=0.9, beta_2=0.999, clipnorm=1.0)\n",
        "\n",
        "# compile the model\n",
        "model.compile(optimizer, loss='mean_squared_error')\n",
        "\n",
        "# counting the number of trainable parameters\n",
        "trainable_count = count_params(model.trainable_weights)\n",
        "print('Total number of trainable parameters: ', trainable_count)"
      ],
      "execution_count": 11,
      "outputs": [
        {
          "output_type": "stream",
          "text": [
            "Total number of trainable parameters:  41921\n"
          ],
          "name": "stdout"
        }
      ]
    },
    {
      "cell_type": "code",
      "metadata": {
        "colab": {
          "base_uri": "https://localhost:8080/"
        },
        "id": "5UG8j_4r7kSu",
        "outputId": "7acb7d85-6e0a-444e-9ea1-1d289e065db9"
      },
      "source": [
        "model.summary()"
      ],
      "execution_count": 12,
      "outputs": [
        {
          "output_type": "stream",
          "text": [
            "Model: \"sequential\"\n",
            "_________________________________________________________________\n",
            "Layer (type)                 Output Shape              Param #   \n",
            "=================================================================\n",
            "lstm (LSTM)                  (None, 30, 64)            16896     \n",
            "_________________________________________________________________\n",
            "dropout (Dropout)            (None, 30, 64)            0         \n",
            "_________________________________________________________________\n",
            "gru (GRU)                    (None, 64)                24960     \n",
            "_________________________________________________________________\n",
            "dropout_1 (Dropout)          (None, 64)                0         \n",
            "_________________________________________________________________\n",
            "dense (Dense)                (None, 1)                 65        \n",
            "=================================================================\n",
            "Total params: 41,921\n",
            "Trainable params: 41,921\n",
            "Non-trainable params: 0\n",
            "_________________________________________________________________\n"
          ],
          "name": "stdout"
        }
      ]
    },
    {
      "cell_type": "code",
      "metadata": {
        "colab": {
          "base_uri": "https://localhost:8080/"
        },
        "id": "W3v718GcE39o",
        "outputId": "da2644a4-2245-4384-f647-2e96defba1cf"
      },
      "source": [
        "# fitting the model to the training dataset\n",
        "model.fit(X_train, y_train, epochs=best_config['epochs'], batch_size=best_config['batch_size'])"
      ],
      "execution_count": 13,
      "outputs": [
        {
          "output_type": "stream",
          "text": [
            "Epoch 1/200\n",
            "40/40 [==============================] - 20s 6ms/step - loss: 0.0445\n",
            "Epoch 2/200\n",
            "40/40 [==============================] - 0s 6ms/step - loss: 0.0021\n",
            "Epoch 3/200\n",
            "40/40 [==============================] - 0s 6ms/step - loss: 0.0020\n",
            "Epoch 4/200\n",
            "40/40 [==============================] - 0s 6ms/step - loss: 0.0016\n",
            "Epoch 5/200\n",
            "40/40 [==============================] - 0s 6ms/step - loss: 0.0014\n",
            "Epoch 6/200\n",
            "40/40 [==============================] - 0s 6ms/step - loss: 0.0016\n",
            "Epoch 7/200\n",
            "40/40 [==============================] - 0s 6ms/step - loss: 0.0014\n",
            "Epoch 8/200\n",
            "40/40 [==============================] - 0s 6ms/step - loss: 0.0013\n",
            "Epoch 9/200\n",
            "40/40 [==============================] - 0s 6ms/step - loss: 0.0014\n",
            "Epoch 10/200\n",
            "40/40 [==============================] - 0s 6ms/step - loss: 0.0013\n",
            "Epoch 11/200\n",
            "40/40 [==============================] - 0s 6ms/step - loss: 0.0012\n",
            "Epoch 12/200\n",
            "40/40 [==============================] - 0s 6ms/step - loss: 0.0013\n",
            "Epoch 13/200\n",
            "40/40 [==============================] - 0s 6ms/step - loss: 0.0013\n",
            "Epoch 14/200\n",
            "40/40 [==============================] - 0s 6ms/step - loss: 9.3288e-04\n",
            "Epoch 15/200\n",
            "40/40 [==============================] - 0s 6ms/step - loss: 0.0011\n",
            "Epoch 16/200\n",
            "40/40 [==============================] - 0s 6ms/step - loss: 0.0011\n",
            "Epoch 17/200\n",
            "40/40 [==============================] - 0s 6ms/step - loss: 9.4912e-04\n",
            "Epoch 18/200\n",
            "40/40 [==============================] - 0s 6ms/step - loss: 0.0010\n",
            "Epoch 19/200\n",
            "40/40 [==============================] - 0s 6ms/step - loss: 0.0013\n",
            "Epoch 20/200\n",
            "40/40 [==============================] - 0s 6ms/step - loss: 9.9521e-04\n",
            "Epoch 21/200\n",
            "40/40 [==============================] - 0s 6ms/step - loss: 0.0011\n",
            "Epoch 22/200\n",
            "40/40 [==============================] - 0s 6ms/step - loss: 8.4797e-04\n",
            "Epoch 23/200\n",
            "40/40 [==============================] - 0s 6ms/step - loss: 9.8384e-04\n",
            "Epoch 24/200\n",
            "40/40 [==============================] - 0s 6ms/step - loss: 0.0012\n",
            "Epoch 25/200\n",
            "40/40 [==============================] - 0s 6ms/step - loss: 8.5625e-04\n",
            "Epoch 26/200\n",
            "40/40 [==============================] - 0s 6ms/step - loss: 9.8338e-04\n",
            "Epoch 27/200\n",
            "40/40 [==============================] - 0s 6ms/step - loss: 9.1698e-04\n",
            "Epoch 28/200\n",
            "40/40 [==============================] - 0s 6ms/step - loss: 0.0011\n",
            "Epoch 29/200\n",
            "40/40 [==============================] - 0s 6ms/step - loss: 8.7625e-04\n",
            "Epoch 30/200\n",
            "40/40 [==============================] - 0s 6ms/step - loss: 9.0451e-04\n",
            "Epoch 31/200\n",
            "40/40 [==============================] - 0s 6ms/step - loss: 8.9146e-04\n",
            "Epoch 32/200\n",
            "40/40 [==============================] - 0s 6ms/step - loss: 8.4041e-04\n",
            "Epoch 33/200\n",
            "40/40 [==============================] - 0s 6ms/step - loss: 6.8724e-04\n",
            "Epoch 34/200\n",
            "40/40 [==============================] - 0s 6ms/step - loss: 8.2822e-04\n",
            "Epoch 35/200\n",
            "40/40 [==============================] - 0s 6ms/step - loss: 7.5512e-04\n",
            "Epoch 36/200\n",
            "40/40 [==============================] - 0s 6ms/step - loss: 8.2477e-04\n",
            "Epoch 37/200\n",
            "40/40 [==============================] - 0s 6ms/step - loss: 7.4958e-04\n",
            "Epoch 38/200\n",
            "40/40 [==============================] - 0s 6ms/step - loss: 6.7867e-04\n",
            "Epoch 39/200\n",
            "40/40 [==============================] - 0s 6ms/step - loss: 7.9108e-04\n",
            "Epoch 40/200\n",
            "40/40 [==============================] - 0s 6ms/step - loss: 6.8805e-04\n",
            "Epoch 41/200\n",
            "40/40 [==============================] - 0s 6ms/step - loss: 7.0921e-04\n",
            "Epoch 42/200\n",
            "40/40 [==============================] - 0s 6ms/step - loss: 7.5686e-04\n",
            "Epoch 43/200\n",
            "40/40 [==============================] - 0s 6ms/step - loss: 6.5647e-04\n",
            "Epoch 44/200\n",
            "40/40 [==============================] - 0s 6ms/step - loss: 8.1473e-04\n",
            "Epoch 45/200\n",
            "40/40 [==============================] - 0s 6ms/step - loss: 6.7758e-04\n",
            "Epoch 46/200\n",
            "40/40 [==============================] - 0s 6ms/step - loss: 8.9524e-04\n",
            "Epoch 47/200\n",
            "40/40 [==============================] - 0s 6ms/step - loss: 7.9099e-04\n",
            "Epoch 48/200\n",
            "40/40 [==============================] - 0s 6ms/step - loss: 7.8311e-04\n",
            "Epoch 49/200\n",
            "40/40 [==============================] - 0s 6ms/step - loss: 8.5839e-04\n",
            "Epoch 50/200\n",
            "40/40 [==============================] - 0s 6ms/step - loss: 6.2913e-04\n",
            "Epoch 51/200\n",
            "40/40 [==============================] - 0s 6ms/step - loss: 5.8990e-04\n",
            "Epoch 52/200\n",
            "40/40 [==============================] - 0s 6ms/step - loss: 8.3069e-04\n",
            "Epoch 53/200\n",
            "40/40 [==============================] - 0s 6ms/step - loss: 7.9330e-04\n",
            "Epoch 54/200\n",
            "40/40 [==============================] - 0s 6ms/step - loss: 5.9946e-04\n",
            "Epoch 55/200\n",
            "40/40 [==============================] - 0s 6ms/step - loss: 6.4405e-04\n",
            "Epoch 56/200\n",
            "40/40 [==============================] - 0s 6ms/step - loss: 6.0680e-04\n",
            "Epoch 57/200\n",
            "40/40 [==============================] - 0s 6ms/step - loss: 6.1908e-04\n",
            "Epoch 58/200\n",
            "40/40 [==============================] - 0s 6ms/step - loss: 5.5747e-04\n",
            "Epoch 59/200\n",
            "40/40 [==============================] - 0s 6ms/step - loss: 6.6345e-04\n",
            "Epoch 60/200\n",
            "40/40 [==============================] - 0s 6ms/step - loss: 5.9577e-04\n",
            "Epoch 61/200\n",
            "40/40 [==============================] - 0s 6ms/step - loss: 6.6632e-04\n",
            "Epoch 62/200\n",
            "40/40 [==============================] - 0s 6ms/step - loss: 7.7960e-04\n",
            "Epoch 63/200\n",
            "40/40 [==============================] - 0s 5ms/step - loss: 6.0728e-04\n",
            "Epoch 64/200\n",
            "40/40 [==============================] - 0s 6ms/step - loss: 5.9514e-04\n",
            "Epoch 65/200\n",
            "40/40 [==============================] - 0s 5ms/step - loss: 5.9784e-04\n",
            "Epoch 66/200\n",
            "40/40 [==============================] - 0s 5ms/step - loss: 6.7068e-04\n",
            "Epoch 67/200\n",
            "40/40 [==============================] - 0s 6ms/step - loss: 5.1676e-04\n",
            "Epoch 68/200\n",
            "40/40 [==============================] - 0s 5ms/step - loss: 6.1675e-04\n",
            "Epoch 69/200\n",
            "40/40 [==============================] - 0s 5ms/step - loss: 6.1177e-04\n",
            "Epoch 70/200\n",
            "40/40 [==============================] - 0s 6ms/step - loss: 5.6377e-04\n",
            "Epoch 71/200\n",
            "40/40 [==============================] - 0s 6ms/step - loss: 5.3863e-04\n",
            "Epoch 72/200\n",
            "40/40 [==============================] - 0s 6ms/step - loss: 5.4310e-04\n",
            "Epoch 73/200\n",
            "40/40 [==============================] - 0s 5ms/step - loss: 6.6721e-04\n",
            "Epoch 74/200\n",
            "40/40 [==============================] - 0s 5ms/step - loss: 5.8546e-04\n",
            "Epoch 75/200\n",
            "40/40 [==============================] - 0s 5ms/step - loss: 5.7502e-04\n",
            "Epoch 76/200\n",
            "40/40 [==============================] - 0s 6ms/step - loss: 5.9651e-04\n",
            "Epoch 77/200\n",
            "40/40 [==============================] - 0s 5ms/step - loss: 5.9822e-04\n",
            "Epoch 78/200\n",
            "40/40 [==============================] - 0s 6ms/step - loss: 6.2311e-04\n",
            "Epoch 79/200\n",
            "40/40 [==============================] - 0s 5ms/step - loss: 6.6863e-04\n",
            "Epoch 80/200\n",
            "40/40 [==============================] - 0s 6ms/step - loss: 5.7495e-04\n",
            "Epoch 81/200\n",
            "40/40 [==============================] - 0s 5ms/step - loss: 5.4635e-04\n",
            "Epoch 82/200\n",
            "40/40 [==============================] - 0s 6ms/step - loss: 6.3187e-04\n",
            "Epoch 83/200\n",
            "40/40 [==============================] - 0s 5ms/step - loss: 4.9817e-04\n",
            "Epoch 84/200\n",
            "40/40 [==============================] - 0s 6ms/step - loss: 5.0233e-04\n",
            "Epoch 85/200\n",
            "40/40 [==============================] - 0s 6ms/step - loss: 5.6149e-04\n",
            "Epoch 86/200\n",
            "40/40 [==============================] - 0s 5ms/step - loss: 5.7595e-04\n",
            "Epoch 87/200\n",
            "40/40 [==============================] - 0s 5ms/step - loss: 6.6682e-04\n",
            "Epoch 88/200\n",
            "40/40 [==============================] - 0s 5ms/step - loss: 5.9963e-04\n",
            "Epoch 89/200\n",
            "40/40 [==============================] - 0s 6ms/step - loss: 5.2189e-04\n",
            "Epoch 90/200\n",
            "40/40 [==============================] - 0s 6ms/step - loss: 5.9567e-04\n",
            "Epoch 91/200\n",
            "40/40 [==============================] - 0s 5ms/step - loss: 6.5857e-04\n",
            "Epoch 92/200\n",
            "40/40 [==============================] - 0s 5ms/step - loss: 5.4624e-04\n",
            "Epoch 93/200\n",
            "40/40 [==============================] - 0s 5ms/step - loss: 5.9723e-04\n",
            "Epoch 94/200\n",
            "40/40 [==============================] - 0s 5ms/step - loss: 5.6175e-04\n",
            "Epoch 95/200\n",
            "40/40 [==============================] - 0s 6ms/step - loss: 5.6423e-04\n",
            "Epoch 96/200\n",
            "40/40 [==============================] - 0s 5ms/step - loss: 5.4124e-04\n",
            "Epoch 97/200\n",
            "40/40 [==============================] - 0s 6ms/step - loss: 6.2155e-04\n",
            "Epoch 98/200\n",
            "40/40 [==============================] - 0s 6ms/step - loss: 5.9542e-04\n",
            "Epoch 99/200\n",
            "40/40 [==============================] - 0s 6ms/step - loss: 5.4574e-04\n",
            "Epoch 100/200\n",
            "40/40 [==============================] - 0s 5ms/step - loss: 6.7209e-04\n",
            "Epoch 101/200\n",
            "40/40 [==============================] - 0s 5ms/step - loss: 5.7003e-04\n",
            "Epoch 102/200\n",
            "40/40 [==============================] - 0s 5ms/step - loss: 6.2475e-04\n",
            "Epoch 103/200\n",
            "40/40 [==============================] - 0s 6ms/step - loss: 5.8621e-04\n",
            "Epoch 104/200\n",
            "40/40 [==============================] - 0s 5ms/step - loss: 7.0149e-04\n",
            "Epoch 105/200\n",
            "40/40 [==============================] - 0s 5ms/step - loss: 6.0731e-04\n",
            "Epoch 106/200\n",
            "40/40 [==============================] - 0s 5ms/step - loss: 5.9131e-04\n",
            "Epoch 107/200\n",
            "40/40 [==============================] - 0s 6ms/step - loss: 6.5165e-04\n",
            "Epoch 108/200\n",
            "40/40 [==============================] - 0s 6ms/step - loss: 5.1539e-04\n",
            "Epoch 109/200\n",
            "40/40 [==============================] - 0s 5ms/step - loss: 6.1448e-04\n",
            "Epoch 110/200\n",
            "40/40 [==============================] - 0s 5ms/step - loss: 5.1698e-04\n",
            "Epoch 111/200\n",
            "40/40 [==============================] - 0s 6ms/step - loss: 5.4972e-04\n",
            "Epoch 112/200\n",
            "40/40 [==============================] - 0s 6ms/step - loss: 5.4560e-04\n",
            "Epoch 113/200\n",
            "40/40 [==============================] - 0s 6ms/step - loss: 6.2370e-04\n",
            "Epoch 114/200\n",
            "40/40 [==============================] - 0s 5ms/step - loss: 5.3325e-04\n",
            "Epoch 115/200\n",
            "40/40 [==============================] - 0s 6ms/step - loss: 5.8958e-04\n",
            "Epoch 116/200\n",
            "40/40 [==============================] - 0s 6ms/step - loss: 5.2562e-04\n",
            "Epoch 117/200\n",
            "40/40 [==============================] - 0s 5ms/step - loss: 5.4367e-04\n",
            "Epoch 118/200\n",
            "40/40 [==============================] - 0s 5ms/step - loss: 5.1517e-04\n",
            "Epoch 119/200\n",
            "40/40 [==============================] - 0s 5ms/step - loss: 6.1333e-04\n",
            "Epoch 120/200\n",
            "40/40 [==============================] - 0s 6ms/step - loss: 5.4884e-04\n",
            "Epoch 121/200\n",
            "40/40 [==============================] - 0s 5ms/step - loss: 5.7862e-04\n",
            "Epoch 122/200\n",
            "40/40 [==============================] - 0s 6ms/step - loss: 5.5307e-04\n",
            "Epoch 123/200\n",
            "40/40 [==============================] - 0s 5ms/step - loss: 5.7309e-04\n",
            "Epoch 124/200\n",
            "40/40 [==============================] - 0s 6ms/step - loss: 6.6181e-04\n",
            "Epoch 125/200\n",
            "40/40 [==============================] - 0s 6ms/step - loss: 5.5108e-04\n",
            "Epoch 126/200\n",
            "40/40 [==============================] - 0s 5ms/step - loss: 5.7989e-04\n",
            "Epoch 127/200\n",
            "40/40 [==============================] - 0s 6ms/step - loss: 6.0073e-04\n",
            "Epoch 128/200\n",
            "40/40 [==============================] - 0s 6ms/step - loss: 4.8016e-04\n",
            "Epoch 129/200\n",
            "40/40 [==============================] - 0s 6ms/step - loss: 5.3869e-04\n",
            "Epoch 130/200\n",
            "40/40 [==============================] - 0s 5ms/step - loss: 5.7433e-04\n",
            "Epoch 131/200\n",
            "40/40 [==============================] - 0s 6ms/step - loss: 5.2035e-04\n",
            "Epoch 132/200\n",
            "40/40 [==============================] - 0s 5ms/step - loss: 5.5111e-04\n",
            "Epoch 133/200\n",
            "40/40 [==============================] - 0s 5ms/step - loss: 6.4339e-04\n",
            "Epoch 134/200\n",
            "40/40 [==============================] - 0s 6ms/step - loss: 5.9754e-04\n",
            "Epoch 135/200\n",
            "40/40 [==============================] - 0s 6ms/step - loss: 6.7769e-04\n",
            "Epoch 136/200\n",
            "40/40 [==============================] - 0s 5ms/step - loss: 5.5476e-04\n",
            "Epoch 137/200\n",
            "40/40 [==============================] - 0s 5ms/step - loss: 5.4662e-04\n",
            "Epoch 138/200\n",
            "40/40 [==============================] - 0s 6ms/step - loss: 5.7665e-04\n",
            "Epoch 139/200\n",
            "40/40 [==============================] - 0s 6ms/step - loss: 5.1162e-04\n",
            "Epoch 140/200\n",
            "40/40 [==============================] - 0s 6ms/step - loss: 5.1531e-04\n",
            "Epoch 141/200\n",
            "40/40 [==============================] - 0s 5ms/step - loss: 5.1839e-04\n",
            "Epoch 142/200\n",
            "40/40 [==============================] - 0s 6ms/step - loss: 5.7021e-04\n",
            "Epoch 143/200\n",
            "40/40 [==============================] - 0s 5ms/step - loss: 5.6001e-04\n",
            "Epoch 144/200\n",
            "40/40 [==============================] - 0s 5ms/step - loss: 4.4821e-04\n",
            "Epoch 145/200\n",
            "40/40 [==============================] - 0s 6ms/step - loss: 5.5632e-04\n",
            "Epoch 146/200\n",
            "40/40 [==============================] - 0s 6ms/step - loss: 5.4884e-04\n",
            "Epoch 147/200\n",
            "40/40 [==============================] - 0s 6ms/step - loss: 6.9675e-04\n",
            "Epoch 148/200\n",
            "40/40 [==============================] - 0s 6ms/step - loss: 5.4526e-04\n",
            "Epoch 149/200\n",
            "40/40 [==============================] - 0s 5ms/step - loss: 4.9147e-04\n",
            "Epoch 150/200\n",
            "40/40 [==============================] - 0s 5ms/step - loss: 6.6074e-04\n",
            "Epoch 151/200\n",
            "40/40 [==============================] - 0s 6ms/step - loss: 5.7611e-04\n",
            "Epoch 152/200\n",
            "40/40 [==============================] - 0s 6ms/step - loss: 5.5499e-04\n",
            "Epoch 153/200\n",
            "40/40 [==============================] - 0s 6ms/step - loss: 6.0594e-04\n",
            "Epoch 154/200\n",
            "40/40 [==============================] - 0s 6ms/step - loss: 5.3865e-04\n",
            "Epoch 155/200\n",
            "40/40 [==============================] - 0s 6ms/step - loss: 5.6929e-04\n",
            "Epoch 156/200\n",
            "40/40 [==============================] - 0s 6ms/step - loss: 5.6951e-04\n",
            "Epoch 157/200\n",
            "40/40 [==============================] - 0s 6ms/step - loss: 4.7869e-04\n",
            "Epoch 158/200\n",
            "40/40 [==============================] - 0s 6ms/step - loss: 4.9977e-04\n",
            "Epoch 159/200\n",
            "40/40 [==============================] - 0s 5ms/step - loss: 5.6481e-04\n",
            "Epoch 160/200\n",
            "40/40 [==============================] - 0s 6ms/step - loss: 5.2802e-04\n",
            "Epoch 161/200\n",
            "40/40 [==============================] - 0s 6ms/step - loss: 4.9976e-04\n",
            "Epoch 162/200\n",
            "40/40 [==============================] - 0s 5ms/step - loss: 5.2190e-04\n",
            "Epoch 163/200\n",
            "40/40 [==============================] - 0s 5ms/step - loss: 6.4192e-04\n",
            "Epoch 164/200\n",
            "40/40 [==============================] - 0s 5ms/step - loss: 5.3717e-04\n",
            "Epoch 165/200\n",
            "40/40 [==============================] - 0s 6ms/step - loss: 5.9123e-04\n",
            "Epoch 166/200\n",
            "40/40 [==============================] - 0s 6ms/step - loss: 5.8927e-04\n",
            "Epoch 167/200\n",
            "40/40 [==============================] - 0s 5ms/step - loss: 5.2985e-04\n",
            "Epoch 168/200\n",
            "40/40 [==============================] - 0s 5ms/step - loss: 4.9821e-04\n",
            "Epoch 169/200\n",
            "40/40 [==============================] - 0s 6ms/step - loss: 4.9798e-04\n",
            "Epoch 170/200\n",
            "40/40 [==============================] - 0s 6ms/step - loss: 5.6621e-04\n",
            "Epoch 171/200\n",
            "40/40 [==============================] - 0s 5ms/step - loss: 5.5390e-04\n",
            "Epoch 172/200\n",
            "40/40 [==============================] - 0s 6ms/step - loss: 6.2756e-04\n",
            "Epoch 173/200\n",
            "40/40 [==============================] - 0s 5ms/step - loss: 5.8524e-04\n",
            "Epoch 174/200\n",
            "40/40 [==============================] - 0s 6ms/step - loss: 7.2808e-04\n",
            "Epoch 175/200\n",
            "40/40 [==============================] - 0s 6ms/step - loss: 5.1124e-04\n",
            "Epoch 176/200\n",
            "40/40 [==============================] - 0s 6ms/step - loss: 6.0892e-04\n",
            "Epoch 177/200\n",
            "40/40 [==============================] - 0s 6ms/step - loss: 4.8493e-04\n",
            "Epoch 178/200\n",
            "40/40 [==============================] - 0s 6ms/step - loss: 4.6227e-04\n",
            "Epoch 179/200\n",
            "40/40 [==============================] - 0s 6ms/step - loss: 5.0841e-04\n",
            "Epoch 180/200\n",
            "40/40 [==============================] - 0s 6ms/step - loss: 6.1726e-04\n",
            "Epoch 181/200\n",
            "40/40 [==============================] - 0s 6ms/step - loss: 5.3271e-04\n",
            "Epoch 182/200\n",
            "40/40 [==============================] - 0s 6ms/step - loss: 5.9237e-04\n",
            "Epoch 183/200\n",
            "40/40 [==============================] - 0s 5ms/step - loss: 5.8032e-04\n",
            "Epoch 184/200\n",
            "40/40 [==============================] - 0s 5ms/step - loss: 5.0889e-04\n",
            "Epoch 185/200\n",
            "40/40 [==============================] - 0s 6ms/step - loss: 5.1118e-04\n",
            "Epoch 186/200\n",
            "40/40 [==============================] - 0s 6ms/step - loss: 5.7620e-04\n",
            "Epoch 187/200\n",
            "40/40 [==============================] - 0s 6ms/step - loss: 5.0958e-04\n",
            "Epoch 188/200\n",
            "40/40 [==============================] - 0s 6ms/step - loss: 5.0184e-04\n",
            "Epoch 189/200\n",
            "40/40 [==============================] - 0s 6ms/step - loss: 5.8832e-04\n",
            "Epoch 190/200\n",
            "40/40 [==============================] - 0s 6ms/step - loss: 5.9758e-04\n",
            "Epoch 191/200\n",
            "40/40 [==============================] - 0s 6ms/step - loss: 5.1098e-04\n",
            "Epoch 192/200\n",
            "40/40 [==============================] - 0s 6ms/step - loss: 5.2317e-04\n",
            "Epoch 193/200\n",
            "40/40 [==============================] - 0s 6ms/step - loss: 5.1164e-04\n",
            "Epoch 194/200\n",
            "40/40 [==============================] - 0s 6ms/step - loss: 4.9392e-04\n",
            "Epoch 195/200\n",
            "40/40 [==============================] - 0s 6ms/step - loss: 4.9263e-04\n",
            "Epoch 196/200\n",
            "40/40 [==============================] - 0s 6ms/step - loss: 5.7292e-04\n",
            "Epoch 197/200\n",
            "40/40 [==============================] - 0s 5ms/step - loss: 4.8248e-04\n",
            "Epoch 198/200\n",
            "40/40 [==============================] - 0s 5ms/step - loss: 5.6852e-04\n",
            "Epoch 199/200\n",
            "40/40 [==============================] - 0s 6ms/step - loss: 4.9142e-04\n",
            "Epoch 200/200\n",
            "40/40 [==============================] - 0s 6ms/step - loss: 5.1327e-04\n"
          ],
          "name": "stdout"
        },
        {
          "output_type": "execute_result",
          "data": {
            "text/plain": [
              "<keras.callbacks.History at 0x7fb52ec03790>"
            ]
          },
          "metadata": {
            "tags": []
          },
          "execution_count": 13
        }
      ]
    },
    {
      "cell_type": "code",
      "metadata": {
        "id": "rTXJN51l9Y-F"
      },
      "source": [
        "# creating an instance of Baseline_Model class using X_test\n",
        "base_model = Base_Model(X_test, window_len)\n",
        "# calling predict_y method\n",
        "base_model.predict_y(in_data.test_len - window_len)\n",
        "\n",
        "# using the model to predict y from X_test\n",
        "y_pred = model.predict(X_test)\n",
        "# assigning y_dummy variable to .y_pred class attribute\n",
        "y_dummy = base_model.y_pred\n",
        "\n",
        "# calling class method extract_real_price to generate unnormalised prices\n",
        "in_data.extract_real_prices(y_pred, y_dummy)\n",
        "\n",
        "# assinging y_true variable\n",
        "y_true = in_data.y_true\n",
        "\n",
        "# assigning actual_price, predicted_price and dummy_price\n",
        "actual_price = in_data.actual_price\n",
        "predicted_price = in_data.predicted_price\n",
        "dummy_price = in_data.dummy_price"
      ],
      "execution_count": 14,
      "outputs": []
    },
    {
      "cell_type": "markdown",
      "metadata": {
        "id": "H-D-XHyRjFMp"
      },
      "source": [
        "# Plotting the prediction results and getting errors\n",
        "The cells below plot the actual, predicted and dummy prices using the Security_Plotter class before finally saving the model and plot."
      ]
    },
    {
      "cell_type": "code",
      "metadata": {
        "colab": {
          "base_uri": "https://localhost:8080/",
          "height": 395
        },
        "id": "PgjvooOD3jq3",
        "outputId": "f60f4274-86f6-498e-9bb7-5496738ace60"
      },
      "source": [
        "plotter = Security_Plotter(in_data, actual_price, predicted_price,\n",
        "                            dummy_price, in_data.train_len, window_len, in_str, model_str)\n",
        "\n",
        "plotter.single_plot()"
      ],
      "execution_count": 15,
      "outputs": [
        {
          "output_type": "display_data",
          "data": {
            "image/png": "[encoded data removed]",
            "text/plain": [
              "<Figure size 864x432 with 1 Axes>"
            ]
          },
          "metadata": {
            "tags": [],
            "needs_background": "light"
          }
        }
      ]
    },
    {
      "cell_type": "code",
      "metadata": {
        "id": "AxaH7IUCxSXw",
        "colab": {
          "base_uri": "https://localhost:8080/",
          "height": 644
        },
        "outputId": "91368c9a-7d0f-4d8b-96f8-6752d67b25b0"
      },
      "source": [
        "plot_model(model, show_shapes=True, expand_nested=True)"
      ],
      "execution_count": 16,
      "outputs": [
        {
          "output_type": "execute_result",
          "data": {
            "image/png": "[encoded data removed]",
            "text/plain": [
              "<IPython.core.display.Image object>"
            ]
          },
          "metadata": {
            "tags": []
          },
          "execution_count": 16
        }
      ]
    },
    {
      "cell_type": "code",
      "metadata": {
        "colab": {
          "base_uri": "https://localhost:8080/"
        },
        "id": "bFfQGfb79SJS",
        "outputId": "1dfb64af-98f3-4c97-f7d9-4ce43a1f4c1f"
      },
      "source": [
        "# calculating mean squared error\n",
        "mse = mean_squared_error(y_true, y_pred)\n",
        "d_mse = mean_squared_error(y_true, y_dummy)\n",
        "\n",
        "# calculating root mean squared error\n",
        "rmse = mean_squared_error(y_true, y_pred, squared=False)\n",
        "d_rmse = mean_squared_error(y_true, y_dummy, squared=False)\n",
        "\n",
        "# calculating mean absolute error\n",
        "mae = mean_absolute_error(y_true, y_pred)\n",
        "d_mae = mean_absolute_error(y_true, y_dummy)\n",
        "\n",
        "print('MSE: ', mse)\n",
        "print('RMSE: ', rmse)\n",
        "print('MAE: ', mae)\n",
        "print('Dummy MSE: ', d_mse)\n",
        "print('Dummy RMSE: ', d_rmse)\n",
        "print('Dummy MAE: ', d_mae)"
      ],
      "execution_count": 17,
      "outputs": [
        {
          "output_type": "stream",
          "text": [
            "MSE:  0.002703072043662345\n",
            "RMSE:  0.05199107657725838\n",
            "MAE:  0.040167082347616324\n",
            "Dummy MSE:  0.013891737694778073\n",
            "Dummy RMSE:  0.11786321603782103\n",
            "Dummy MAE:  0.09977998323101281\n"
          ],
          "name": "stdout"
        }
      ]
    },
    {
      "cell_type": "code",
      "metadata": {
        "id": "4YttzJHHU4-s",
        "colab": {
          "base_uri": "https://localhost:8080/"
        },
        "outputId": "5e8b2671-f915-459b-bc2f-f024020c140d"
      },
      "source": [
        "# creating a string to save the model based on model name\n",
        "save_path = '/content/gdrive/My Drive/models/'+model_str+'_'+in_str+'/'\n",
        "# mounting google drive for easy storage of model\n",
        "from google.colab import drive\n",
        "# mounting the drive\n",
        "drive.mount('/content/gdrive/')\n",
        "# making the relevant directory to store the model\n",
        "os.mkdir(save_path)\n",
        "# saving the model\n",
        "keras.models.save_model(model, save_path)\n",
        "# saving the model graph\n",
        "model_graph = plot_model(model, to_file=save_path+model_str+'_'+in_str+'_graph_.png', show_shapes=True, expand_nested=True)\n",
        "# saving the matplotlib plot\n",
        "plotter.fig.savefig(save_path+model_str+'_'+in_str+'_plot.png', bbox_inches='tight')\n",
        "# saving the error metrics as a text file\n",
        "error_file = open(save_path+model_str+'_'+in_str+'_metrics.txt', 'w+')\n",
        "error_file.write('MSE: '+str(mse)+'\\n'+'RMSE: '+str(rmse)+'\\n'+'MAE: '+str(mae)+'\\n'+\n",
        "                 'Dummy MSE: '+str(d_mse)+'\\n'+'Dummy RMSE: '+str(d_rmse)+'\\n'+'Dummy MAE: '+str(d_mae))\n",
        "error_file.close()"
      ],
      "execution_count": 18,
      "outputs": [
        {
          "output_type": "stream",
          "text": [
            "Mounted at /content/gdrive/\n"
          ],
          "name": "stdout"
        },
        {
          "output_type": "stream",
          "text": [
            "WARNING:absl:Found untraced functions such as lstm_cell_layer_call_and_return_conditional_losses, lstm_cell_layer_call_fn, gru_cell_layer_call_and_return_conditional_losses, gru_cell_layer_call_fn, lstm_cell_layer_call_fn while saving (showing 5 of 10). These functions will not be directly callable after loading.\n"
          ],
          "name": "stderr"
        },
        {
          "output_type": "stream",
          "text": [
            "INFO:tensorflow:Assets written to: /content/gdrive/My Drive/models/LSTM_GRU_Gilt10y/assets\n"
          ],
          "name": "stdout"
        },
        {
          "output_type": "stream",
          "text": [
            "INFO:tensorflow:Assets written to: /content/gdrive/My Drive/models/LSTM_GRU_Gilt10y/assets\n"
          ],
          "name": "stderr"
        }
      ]
    }
  ]
}