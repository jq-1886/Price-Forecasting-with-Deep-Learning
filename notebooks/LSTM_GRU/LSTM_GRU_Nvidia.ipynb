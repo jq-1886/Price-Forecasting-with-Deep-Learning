{
  "nbformat": 4,
  "nbformat_minor": 0,
  "metadata": {
    "colab": {
      "name": "LSTM_GRU_Nvidia.ipynb",
      "provenance": [],
      "collapsed_sections": [],
      "authorship_tag": "ABX9TyPODYGBPJMP4u5U0gFyWM67",
      "include_colab_link": true
    },
    "kernelspec": {
      "name": "python3",
      "display_name": "Python 3"
    },
    "language_info": {
      "name": "python"
    },
    "accelerator": "GPU",
    "widgets": {
      "application/vnd.jupyter.widget-state+json": {
        "041d23e35ec04e37b4a81153ece3e3f0": {
          "model_module": "@jupyter-widgets/controls",
          "model_name": "VBoxModel",
          "state": {
            "_view_name": "VBoxView",
            "_dom_classes": [],
            "_model_name": "VBoxModel",
            "_view_module": "@jupyter-widgets/controls",
            "_model_module_version": "1.5.0",
            "_view_count": null,
            "_view_module_version": "1.5.0",
            "box_style": "",
            "layout": "IPY_MODEL_d80da98485334c869df20ea6a08fb80d",
            "_model_module": "@jupyter-widgets/controls",
            "children": [
              "IPY_MODEL_7eb7ceebe119444bb0ba5602c96d05d1",
              "IPY_MODEL_2c7830745d7d4006b52c70c51b2749e9"
            ]
          }
        },
        "d80da98485334c869df20ea6a08fb80d": {
          "model_module": "@jupyter-widgets/base",
          "model_name": "LayoutModel",
          "state": {
            "_view_name": "LayoutView",
            "grid_template_rows": null,
            "right": null,
            "justify_content": null,
            "_view_module": "@jupyter-widgets/base",
            "overflow": null,
            "_model_module_version": "1.2.0",
            "_view_count": null,
            "flex_flow": null,
            "width": null,
            "min_width": null,
            "border": null,
            "align_items": null,
            "bottom": null,
            "_model_module": "@jupyter-widgets/base",
            "top": null,
            "grid_column": null,
            "overflow_y": null,
            "overflow_x": null,
            "grid_auto_flow": null,
            "grid_area": null,
            "grid_template_columns": null,
            "flex": null,
            "_model_name": "LayoutModel",
            "justify_items": null,
            "grid_row": null,
            "max_height": null,
            "align_content": null,
            "visibility": null,
            "align_self": null,
            "height": null,
            "min_height": null,
            "padding": null,
            "grid_auto_rows": null,
            "grid_gap": null,
            "max_width": null,
            "order": null,
            "_view_module_version": "1.2.0",
            "grid_template_areas": null,
            "object_position": null,
            "object_fit": null,
            "grid_auto_columns": null,
            "margin": null,
            "display": null,
            "left": null
          }
        },
        "7eb7ceebe119444bb0ba5602c96d05d1": {
          "model_module": "@jupyter-widgets/controls",
          "model_name": "LabelModel",
          "state": {
            "_view_name": "LabelView",
            "style": "IPY_MODEL_e1ece6e73e524fe49416fcb0189aa66d",
            "_dom_classes": [],
            "description": "",
            "_model_name": "LabelModel",
            "placeholder": "​",
            "_view_module": "@jupyter-widgets/controls",
            "_model_module_version": "1.5.0",
            "value": " 0.75MB of 0.75MB uploaded (0.00MB deduped)\r",
            "_view_count": null,
            "_view_module_version": "1.5.0",
            "description_tooltip": null,
            "_model_module": "@jupyter-widgets/controls",
            "layout": "IPY_MODEL_42ac3e6a9cbc4a678c4ed1d41055a93a"
          }
        },
        "2c7830745d7d4006b52c70c51b2749e9": {
          "model_module": "@jupyter-widgets/controls",
          "model_name": "FloatProgressModel",
          "state": {
            "_view_name": "ProgressView",
            "style": "IPY_MODEL_8601815a627c4ee28a01f2a2a957f523",
            "_dom_classes": [],
            "description": "",
            "_model_name": "FloatProgressModel",
            "bar_style": "",
            "max": 1,
            "_view_module": "@jupyter-widgets/controls",
            "_model_module_version": "1.5.0",
            "value": 1,
            "_view_count": null,
            "_view_module_version": "1.5.0",
            "orientation": "horizontal",
            "min": 0,
            "description_tooltip": null,
            "_model_module": "@jupyter-widgets/controls",
            "layout": "IPY_MODEL_23994990c178438e8edfcd57112e7f1f"
          }
        },
        "e1ece6e73e524fe49416fcb0189aa66d": {
          "model_module": "@jupyter-widgets/controls",
          "model_name": "DescriptionStyleModel",
          "state": {
            "_view_name": "StyleView",
            "_model_name": "DescriptionStyleModel",
            "description_width": "",
            "_view_module": "@jupyter-widgets/base",
            "_model_module_version": "1.5.0",
            "_view_count": null,
            "_view_module_version": "1.2.0",
            "_model_module": "@jupyter-widgets/controls"
          }
        },
        "42ac3e6a9cbc4a678c4ed1d41055a93a": {
          "model_module": "@jupyter-widgets/base",
          "model_name": "LayoutModel",
          "state": {
            "_view_name": "LayoutView",
            "grid_template_rows": null,
            "right": null,
            "justify_content": null,
            "_view_module": "@jupyter-widgets/base",
            "overflow": null,
            "_model_module_version": "1.2.0",
            "_view_count": null,
            "flex_flow": null,
            "width": null,
            "min_width": null,
            "border": null,
            "align_items": null,
            "bottom": null,
            "_model_module": "@jupyter-widgets/base",
            "top": null,
            "grid_column": null,
            "overflow_y": null,
            "overflow_x": null,
            "grid_auto_flow": null,
            "grid_area": null,
            "grid_template_columns": null,
            "flex": null,
            "_model_name": "LayoutModel",
            "justify_items": null,
            "grid_row": null,
            "max_height": null,
            "align_content": null,
            "visibility": null,
            "align_self": null,
            "height": null,
            "min_height": null,
            "padding": null,
            "grid_auto_rows": null,
            "grid_gap": null,
            "max_width": null,
            "order": null,
            "_view_module_version": "1.2.0",
            "grid_template_areas": null,
            "object_position": null,
            "object_fit": null,
            "grid_auto_columns": null,
            "margin": null,
            "display": null,
            "left": null
          }
        },
        "8601815a627c4ee28a01f2a2a957f523": {
          "model_module": "@jupyter-widgets/controls",
          "model_name": "ProgressStyleModel",
          "state": {
            "_view_name": "StyleView",
            "_model_name": "ProgressStyleModel",
            "description_width": "",
            "_view_module": "@jupyter-widgets/base",
            "_model_module_version": "1.5.0",
            "_view_count": null,
            "_view_module_version": "1.2.0",
            "bar_color": null,
            "_model_module": "@jupyter-widgets/controls"
          }
        },
        "23994990c178438e8edfcd57112e7f1f": {
          "model_module": "@jupyter-widgets/base",
          "model_name": "LayoutModel",
          "state": {
            "_view_name": "LayoutView",
            "grid_template_rows": null,
            "right": null,
            "justify_content": null,
            "_view_module": "@jupyter-widgets/base",
            "overflow": null,
            "_model_module_version": "1.2.0",
            "_view_count": null,
            "flex_flow": null,
            "width": null,
            "min_width": null,
            "border": null,
            "align_items": null,
            "bottom": null,
            "_model_module": "@jupyter-widgets/base",
            "top": null,
            "grid_column": null,
            "overflow_y": null,
            "overflow_x": null,
            "grid_auto_flow": null,
            "grid_area": null,
            "grid_template_columns": null,
            "flex": null,
            "_model_name": "LayoutModel",
            "justify_items": null,
            "grid_row": null,
            "max_height": null,
            "align_content": null,
            "visibility": null,
            "align_self": null,
            "height": null,
            "min_height": null,
            "padding": null,
            "grid_auto_rows": null,
            "grid_gap": null,
            "max_width": null,
            "order": null,
            "_view_module_version": "1.2.0",
            "grid_template_areas": null,
            "object_position": null,
            "object_fit": null,
            "grid_auto_columns": null,
            "margin": null,
            "display": null,
            "left": null
          }
        },
        "4264e0c76a18498aa7ca50fd379589d2": {
          "model_module": "@jupyter-widgets/controls",
          "model_name": "VBoxModel",
          "state": {
            "_view_name": "VBoxView",
            "_dom_classes": [],
            "_model_name": "VBoxModel",
            "_view_module": "@jupyter-widgets/controls",
            "_model_module_version": "1.5.0",
            "_view_count": null,
            "_view_module_version": "1.5.0",
            "box_style": "",
            "layout": "IPY_MODEL_7db886d2d8ba40269df784ec53644a6c",
            "_model_module": "@jupyter-widgets/controls",
            "children": [
              "IPY_MODEL_ee78d37a5b914815b487b3d59f404ad2",
              "IPY_MODEL_8714cd443506458891e8b0001a023fff"
            ]
          }
        },
        "7db886d2d8ba40269df784ec53644a6c": {
          "model_module": "@jupyter-widgets/base",
          "model_name": "LayoutModel",
          "state": {
            "_view_name": "LayoutView",
            "grid_template_rows": null,
            "right": null,
            "justify_content": null,
            "_view_module": "@jupyter-widgets/base",
            "overflow": null,
            "_model_module_version": "1.2.0",
            "_view_count": null,
            "flex_flow": null,
            "width": null,
            "min_width": null,
            "border": null,
            "align_items": null,
            "bottom": null,
            "_model_module": "@jupyter-widgets/base",
            "top": null,
            "grid_column": null,
            "overflow_y": null,
            "overflow_x": null,
            "grid_auto_flow": null,
            "grid_area": null,
            "grid_template_columns": null,
            "flex": null,
            "_model_name": "LayoutModel",
            "justify_items": null,
            "grid_row": null,
            "max_height": null,
            "align_content": null,
            "visibility": null,
            "align_self": null,
            "height": null,
            "min_height": null,
            "padding": null,
            "grid_auto_rows": null,
            "grid_gap": null,
            "max_width": null,
            "order": null,
            "_view_module_version": "1.2.0",
            "grid_template_areas": null,
            "object_position": null,
            "object_fit": null,
            "grid_auto_columns": null,
            "margin": null,
            "display": null,
            "left": null
          }
        },
        "ee78d37a5b914815b487b3d59f404ad2": {
          "model_module": "@jupyter-widgets/controls",
          "model_name": "LabelModel",
          "state": {
            "_view_name": "LabelView",
            "style": "IPY_MODEL_8fc0d9803d9b4f5c9f6701079ed1165b",
            "_dom_classes": [],
            "description": "",
            "_model_name": "LabelModel",
            "placeholder": "​",
            "_view_module": "@jupyter-widgets/controls",
            "_model_module_version": "1.5.0",
            "value": " 0.77MB of 0.77MB uploaded (0.00MB deduped)\r",
            "_view_count": null,
            "_view_module_version": "1.5.0",
            "description_tooltip": null,
            "_model_module": "@jupyter-widgets/controls",
            "layout": "IPY_MODEL_c5505e25f0f44edf90610995ef1e3f69"
          }
        },
        "8714cd443506458891e8b0001a023fff": {
          "model_module": "@jupyter-widgets/controls",
          "model_name": "FloatProgressModel",
          "state": {
            "_view_name": "ProgressView",
            "style": "IPY_MODEL_3aedb2796a074fa68d586f98f4142ed4",
            "_dom_classes": [],
            "description": "",
            "_model_name": "FloatProgressModel",
            "bar_style": "",
            "max": 1,
            "_view_module": "@jupyter-widgets/controls",
            "_model_module_version": "1.5.0",
            "value": 1,
            "_view_count": null,
            "_view_module_version": "1.5.0",
            "orientation": "horizontal",
            "min": 0,
            "description_tooltip": null,
            "_model_module": "@jupyter-widgets/controls",
            "layout": "IPY_MODEL_3a4ae59aa7444e1585fca9c5ea937d3b"
          }
        },
        "8fc0d9803d9b4f5c9f6701079ed1165b": {
          "model_module": "@jupyter-widgets/controls",
          "model_name": "DescriptionStyleModel",
          "state": {
            "_view_name": "StyleView",
            "_model_name": "DescriptionStyleModel",
            "description_width": "",
            "_view_module": "@jupyter-widgets/base",
            "_model_module_version": "1.5.0",
            "_view_count": null,
            "_view_module_version": "1.2.0",
            "_model_module": "@jupyter-widgets/controls"
          }
        },
        "c5505e25f0f44edf90610995ef1e3f69": {
          "model_module": "@jupyter-widgets/base",
          "model_name": "LayoutModel",
          "state": {
            "_view_name": "LayoutView",
            "grid_template_rows": null,
            "right": null,
            "justify_content": null,
            "_view_module": "@jupyter-widgets/base",
            "overflow": null,
            "_model_module_version": "1.2.0",
            "_view_count": null,
            "flex_flow": null,
            "width": null,
            "min_width": null,
            "border": null,
            "align_items": null,
            "bottom": null,
            "_model_module": "@jupyter-widgets/base",
            "top": null,
            "grid_column": null,
            "overflow_y": null,
            "overflow_x": null,
            "grid_auto_flow": null,
            "grid_area": null,
            "grid_template_columns": null,
            "flex": null,
            "_model_name": "LayoutModel",
            "justify_items": null,
            "grid_row": null,
            "max_height": null,
            "align_content": null,
            "visibility": null,
            "align_self": null,
            "height": null,
            "min_height": null,
            "padding": null,
            "grid_auto_rows": null,
            "grid_gap": null,
            "max_width": null,
            "order": null,
            "_view_module_version": "1.2.0",
            "grid_template_areas": null,
            "object_position": null,
            "object_fit": null,
            "grid_auto_columns": null,
            "margin": null,
            "display": null,
            "left": null
          }
        },
        "3aedb2796a074fa68d586f98f4142ed4": {
          "model_module": "@jupyter-widgets/controls",
          "model_name": "ProgressStyleModel",
          "state": {
            "_view_name": "StyleView",
            "_model_name": "ProgressStyleModel",
            "description_width": "",
            "_view_module": "@jupyter-widgets/base",
            "_model_module_version": "1.5.0",
            "_view_count": null,
            "_view_module_version": "1.2.0",
            "bar_color": null,
            "_model_module": "@jupyter-widgets/controls"
          }
        },
        "3a4ae59aa7444e1585fca9c5ea937d3b": {
          "model_module": "@jupyter-widgets/base",
          "model_name": "LayoutModel",
          "state": {
            "_view_name": "LayoutView",
            "grid_template_rows": null,
            "right": null,
            "justify_content": null,
            "_view_module": "@jupyter-widgets/base",
            "overflow": null,
            "_model_module_version": "1.2.0",
            "_view_count": null,
            "flex_flow": null,
            "width": null,
            "min_width": null,
            "border": null,
            "align_items": null,
            "bottom": null,
            "_model_module": "@jupyter-widgets/base",
            "top": null,
            "grid_column": null,
            "overflow_y": null,
            "overflow_x": null,
            "grid_auto_flow": null,
            "grid_area": null,
            "grid_template_columns": null,
            "flex": null,
            "_model_name": "LayoutModel",
            "justify_items": null,
            "grid_row": null,
            "max_height": null,
            "align_content": null,
            "visibility": null,
            "align_self": null,
            "height": null,
            "min_height": null,
            "padding": null,
            "grid_auto_rows": null,
            "grid_gap": null,
            "max_width": null,
            "order": null,
            "_view_module_version": "1.2.0",
            "grid_template_areas": null,
            "object_position": null,
            "object_fit": null,
            "grid_auto_columns": null,
            "margin": null,
            "display": null,
            "left": null
          }
        },
        "3175ef1deb19436cad8ce0a6ca565bd5": {
          "model_module": "@jupyter-widgets/controls",
          "model_name": "VBoxModel",
          "state": {
            "_view_name": "VBoxView",
            "_dom_classes": [],
            "_model_name": "VBoxModel",
            "_view_module": "@jupyter-widgets/controls",
            "_model_module_version": "1.5.0",
            "_view_count": null,
            "_view_module_version": "1.5.0",
            "box_style": "",
            "layout": "IPY_MODEL_af0a728289c74eb496e95d81dce53969",
            "_model_module": "@jupyter-widgets/controls",
            "children": [
              "IPY_MODEL_0ba6a788171a4d3cb5a53f7c96f10543",
              "IPY_MODEL_1e718f42a813443f97e4b302758ec4ee"
            ]
          }
        },
        "af0a728289c74eb496e95d81dce53969": {
          "model_module": "@jupyter-widgets/base",
          "model_name": "LayoutModel",
          "state": {
            "_view_name": "LayoutView",
            "grid_template_rows": null,
            "right": null,
            "justify_content": null,
            "_view_module": "@jupyter-widgets/base",
            "overflow": null,
            "_model_module_version": "1.2.0",
            "_view_count": null,
            "flex_flow": null,
            "width": null,
            "min_width": null,
            "border": null,
            "align_items": null,
            "bottom": null,
            "_model_module": "@jupyter-widgets/base",
            "top": null,
            "grid_column": null,
            "overflow_y": null,
            "overflow_x": null,
            "grid_auto_flow": null,
            "grid_area": null,
            "grid_template_columns": null,
            "flex": null,
            "_model_name": "LayoutModel",
            "justify_items": null,
            "grid_row": null,
            "max_height": null,
            "align_content": null,
            "visibility": null,
            "align_self": null,
            "height": null,
            "min_height": null,
            "padding": null,
            "grid_auto_rows": null,
            "grid_gap": null,
            "max_width": null,
            "order": null,
            "_view_module_version": "1.2.0",
            "grid_template_areas": null,
            "object_position": null,
            "object_fit": null,
            "grid_auto_columns": null,
            "margin": null,
            "display": null,
            "left": null
          }
        },
        "0ba6a788171a4d3cb5a53f7c96f10543": {
          "model_module": "@jupyter-widgets/controls",
          "model_name": "LabelModel",
          "state": {
            "_view_name": "LabelView",
            "style": "IPY_MODEL_59c57afc46c44636a7a32f75c81b6939",
            "_dom_classes": [],
            "description": "",
            "_model_name": "LabelModel",
            "placeholder": "​",
            "_view_module": "@jupyter-widgets/controls",
            "_model_module_version": "1.5.0",
            "value": " 0.80MB of 0.80MB uploaded (0.00MB deduped)\r",
            "_view_count": null,
            "_view_module_version": "1.5.0",
            "description_tooltip": null,
            "_model_module": "@jupyter-widgets/controls",
            "layout": "IPY_MODEL_559fd40eaedb40cb894b9f704cab9628"
          }
        },
        "1e718f42a813443f97e4b302758ec4ee": {
          "model_module": "@jupyter-widgets/controls",
          "model_name": "FloatProgressModel",
          "state": {
            "_view_name": "ProgressView",
            "style": "IPY_MODEL_32894bfcdd214cfc8f6cdac4771c2b93",
            "_dom_classes": [],
            "description": "",
            "_model_name": "FloatProgressModel",
            "bar_style": "",
            "max": 1,
            "_view_module": "@jupyter-widgets/controls",
            "_model_module_version": "1.5.0",
            "value": 1,
            "_view_count": null,
            "_view_module_version": "1.5.0",
            "orientation": "horizontal",
            "min": 0,
            "description_tooltip": null,
            "_model_module": "@jupyter-widgets/controls",
            "layout": "IPY_MODEL_32e9b9ec636d4a3b8df237cc3a2b3e7c"
          }
        },
        "59c57afc46c44636a7a32f75c81b6939": {
          "model_module": "@jupyter-widgets/controls",
          "model_name": "DescriptionStyleModel",
          "state": {
            "_view_name": "StyleView",
            "_model_name": "DescriptionStyleModel",
            "description_width": "",
            "_view_module": "@jupyter-widgets/base",
            "_model_module_version": "1.5.0",
            "_view_count": null,
            "_view_module_version": "1.2.0",
            "_model_module": "@jupyter-widgets/controls"
          }
        },
        "559fd40eaedb40cb894b9f704cab9628": {
          "model_module": "@jupyter-widgets/base",
          "model_name": "LayoutModel",
          "state": {
            "_view_name": "LayoutView",
            "grid_template_rows": null,
            "right": null,
            "justify_content": null,
            "_view_module": "@jupyter-widgets/base",
            "overflow": null,
            "_model_module_version": "1.2.0",
            "_view_count": null,
            "flex_flow": null,
            "width": null,
            "min_width": null,
            "border": null,
            "align_items": null,
            "bottom": null,
            "_model_module": "@jupyter-widgets/base",
            "top": null,
            "grid_column": null,
            "overflow_y": null,
            "overflow_x": null,
            "grid_auto_flow": null,
            "grid_area": null,
            "grid_template_columns": null,
            "flex": null,
            "_model_name": "LayoutModel",
            "justify_items": null,
            "grid_row": null,
            "max_height": null,
            "align_content": null,
            "visibility": null,
            "align_self": null,
            "height": null,
            "min_height": null,
            "padding": null,
            "grid_auto_rows": null,
            "grid_gap": null,
            "max_width": null,
            "order": null,
            "_view_module_version": "1.2.0",
            "grid_template_areas": null,
            "object_position": null,
            "object_fit": null,
            "grid_auto_columns": null,
            "margin": null,
            "display": null,
            "left": null
          }
        },
        "32894bfcdd214cfc8f6cdac4771c2b93": {
          "model_module": "@jupyter-widgets/controls",
          "model_name": "ProgressStyleModel",
          "state": {
            "_view_name": "StyleView",
            "_model_name": "ProgressStyleModel",
            "description_width": "",
            "_view_module": "@jupyter-widgets/base",
            "_model_module_version": "1.5.0",
            "_view_count": null,
            "_view_module_version": "1.2.0",
            "bar_color": null,
            "_model_module": "@jupyter-widgets/controls"
          }
        },
        "32e9b9ec636d4a3b8df237cc3a2b3e7c": {
          "model_module": "@jupyter-widgets/base",
          "model_name": "LayoutModel",
          "state": {
            "_view_name": "LayoutView",
            "grid_template_rows": null,
            "right": null,
            "justify_content": null,
            "_view_module": "@jupyter-widgets/base",
            "overflow": null,
            "_model_module_version": "1.2.0",
            "_view_count": null,
            "flex_flow": null,
            "width": null,
            "min_width": null,
            "border": null,
            "align_items": null,
            "bottom": null,
            "_model_module": "@jupyter-widgets/base",
            "top": null,
            "grid_column": null,
            "overflow_y": null,
            "overflow_x": null,
            "grid_auto_flow": null,
            "grid_area": null,
            "grid_template_columns": null,
            "flex": null,
            "_model_name": "LayoutModel",
            "justify_items": null,
            "grid_row": null,
            "max_height": null,
            "align_content": null,
            "visibility": null,
            "align_self": null,
            "height": null,
            "min_height": null,
            "padding": null,
            "grid_auto_rows": null,
            "grid_gap": null,
            "max_width": null,
            "order": null,
            "_view_module_version": "1.2.0",
            "grid_template_areas": null,
            "object_position": null,
            "object_fit": null,
            "grid_auto_columns": null,
            "margin": null,
            "display": null,
            "left": null
          }
        },
        "8fc5490348bb4fafa5c3cc5c3ce21f16": {
          "model_module": "@jupyter-widgets/controls",
          "model_name": "VBoxModel",
          "state": {
            "_view_name": "VBoxView",
            "_dom_classes": [],
            "_model_name": "VBoxModel",
            "_view_module": "@jupyter-widgets/controls",
            "_model_module_version": "1.5.0",
            "_view_count": null,
            "_view_module_version": "1.5.0",
            "box_style": "",
            "layout": "IPY_MODEL_41bab3c4d96f4f198953a5388dae1616",
            "_model_module": "@jupyter-widgets/controls",
            "children": [
              "IPY_MODEL_ad2895f4113540aa946e8eb4e6b393be",
              "IPY_MODEL_14af3335f1d445ecb01fd9d0eec2694a"
            ]
          }
        },
        "41bab3c4d96f4f198953a5388dae1616": {
          "model_module": "@jupyter-widgets/base",
          "model_name": "LayoutModel",
          "state": {
            "_view_name": "LayoutView",
            "grid_template_rows": null,
            "right": null,
            "justify_content": null,
            "_view_module": "@jupyter-widgets/base",
            "overflow": null,
            "_model_module_version": "1.2.0",
            "_view_count": null,
            "flex_flow": null,
            "width": null,
            "min_width": null,
            "border": null,
            "align_items": null,
            "bottom": null,
            "_model_module": "@jupyter-widgets/base",
            "top": null,
            "grid_column": null,
            "overflow_y": null,
            "overflow_x": null,
            "grid_auto_flow": null,
            "grid_area": null,
            "grid_template_columns": null,
            "flex": null,
            "_model_name": "LayoutModel",
            "justify_items": null,
            "grid_row": null,
            "max_height": null,
            "align_content": null,
            "visibility": null,
            "align_self": null,
            "height": null,
            "min_height": null,
            "padding": null,
            "grid_auto_rows": null,
            "grid_gap": null,
            "max_width": null,
            "order": null,
            "_view_module_version": "1.2.0",
            "grid_template_areas": null,
            "object_position": null,
            "object_fit": null,
            "grid_auto_columns": null,
            "margin": null,
            "display": null,
            "left": null
          }
        },
        "ad2895f4113540aa946e8eb4e6b393be": {
          "model_module": "@jupyter-widgets/controls",
          "model_name": "LabelModel",
          "state": {
            "_view_name": "LabelView",
            "style": "IPY_MODEL_72b189fbae0845b4aeae9b6a61d18207",
            "_dom_classes": [],
            "description": "",
            "_model_name": "LabelModel",
            "placeholder": "​",
            "_view_module": "@jupyter-widgets/controls",
            "_model_module_version": "1.5.0",
            "value": " 0.83MB of 0.83MB uploaded (0.00MB deduped)\r",
            "_view_count": null,
            "_view_module_version": "1.5.0",
            "description_tooltip": null,
            "_model_module": "@jupyter-widgets/controls",
            "layout": "IPY_MODEL_53176b8340ea40b8a67f9470beb6f1e6"
          }
        },
        "14af3335f1d445ecb01fd9d0eec2694a": {
          "model_module": "@jupyter-widgets/controls",
          "model_name": "FloatProgressModel",
          "state": {
            "_view_name": "ProgressView",
            "style": "IPY_MODEL_29c6030c7abb4172ad774ee9dee9ae64",
            "_dom_classes": [],
            "description": "",
            "_model_name": "FloatProgressModel",
            "bar_style": "",
            "max": 1,
            "_view_module": "@jupyter-widgets/controls",
            "_model_module_version": "1.5.0",
            "value": 1,
            "_view_count": null,
            "_view_module_version": "1.5.0",
            "orientation": "horizontal",
            "min": 0,
            "description_tooltip": null,
            "_model_module": "@jupyter-widgets/controls",
            "layout": "IPY_MODEL_23961b30f3264b6fa2d84f92909ffe4c"
          }
        },
        "72b189fbae0845b4aeae9b6a61d18207": {
          "model_module": "@jupyter-widgets/controls",
          "model_name": "DescriptionStyleModel",
          "state": {
            "_view_name": "StyleView",
            "_model_name": "DescriptionStyleModel",
            "description_width": "",
            "_view_module": "@jupyter-widgets/base",
            "_model_module_version": "1.5.0",
            "_view_count": null,
            "_view_module_version": "1.2.0",
            "_model_module": "@jupyter-widgets/controls"
          }
        },
        "53176b8340ea40b8a67f9470beb6f1e6": {
          "model_module": "@jupyter-widgets/base",
          "model_name": "LayoutModel",
          "state": {
            "_view_name": "LayoutView",
            "grid_template_rows": null,
            "right": null,
            "justify_content": null,
            "_view_module": "@jupyter-widgets/base",
            "overflow": null,
            "_model_module_version": "1.2.0",
            "_view_count": null,
            "flex_flow": null,
            "width": null,
            "min_width": null,
            "border": null,
            "align_items": null,
            "bottom": null,
            "_model_module": "@jupyter-widgets/base",
            "top": null,
            "grid_column": null,
            "overflow_y": null,
            "overflow_x": null,
            "grid_auto_flow": null,
            "grid_area": null,
            "grid_template_columns": null,
            "flex": null,
            "_model_name": "LayoutModel",
            "justify_items": null,
            "grid_row": null,
            "max_height": null,
            "align_content": null,
            "visibility": null,
            "align_self": null,
            "height": null,
            "min_height": null,
            "padding": null,
            "grid_auto_rows": null,
            "grid_gap": null,
            "max_width": null,
            "order": null,
            "_view_module_version": "1.2.0",
            "grid_template_areas": null,
            "object_position": null,
            "object_fit": null,
            "grid_auto_columns": null,
            "margin": null,
            "display": null,
            "left": null
          }
        },
        "29c6030c7abb4172ad774ee9dee9ae64": {
          "model_module": "@jupyter-widgets/controls",
          "model_name": "ProgressStyleModel",
          "state": {
            "_view_name": "StyleView",
            "_model_name": "ProgressStyleModel",
            "description_width": "",
            "_view_module": "@jupyter-widgets/base",
            "_model_module_version": "1.5.0",
            "_view_count": null,
            "_view_module_version": "1.2.0",
            "bar_color": null,
            "_model_module": "@jupyter-widgets/controls"
          }
        },
        "23961b30f3264b6fa2d84f92909ffe4c": {
          "model_module": "@jupyter-widgets/base",
          "model_name": "LayoutModel",
          "state": {
            "_view_name": "LayoutView",
            "grid_template_rows": null,
            "right": null,
            "justify_content": null,
            "_view_module": "@jupyter-widgets/base",
            "overflow": null,
            "_model_module_version": "1.2.0",
            "_view_count": null,
            "flex_flow": null,
            "width": null,
            "min_width": null,
            "border": null,
            "align_items": null,
            "bottom": null,
            "_model_module": "@jupyter-widgets/base",
            "top": null,
            "grid_column": null,
            "overflow_y": null,
            "overflow_x": null,
            "grid_auto_flow": null,
            "grid_area": null,
            "grid_template_columns": null,
            "flex": null,
            "_model_name": "LayoutModel",
            "justify_items": null,
            "grid_row": null,
            "max_height": null,
            "align_content": null,
            "visibility": null,
            "align_self": null,
            "height": null,
            "min_height": null,
            "padding": null,
            "grid_auto_rows": null,
            "grid_gap": null,
            "max_width": null,
            "order": null,
            "_view_module_version": "1.2.0",
            "grid_template_areas": null,
            "object_position": null,
            "object_fit": null,
            "grid_auto_columns": null,
            "margin": null,
            "display": null,
            "left": null
          }
        },
        "7c7243417ddc4bd393f7dbef10492eab": {
          "model_module": "@jupyter-widgets/controls",
          "model_name": "VBoxModel",
          "state": {
            "_view_name": "VBoxView",
            "_dom_classes": [],
            "_model_name": "VBoxModel",
            "_view_module": "@jupyter-widgets/controls",
            "_model_module_version": "1.5.0",
            "_view_count": null,
            "_view_module_version": "1.5.0",
            "box_style": "",
            "layout": "IPY_MODEL_6741157e614746509c407c1e2dd1b716",
            "_model_module": "@jupyter-widgets/controls",
            "children": [
              "IPY_MODEL_44d10c84406345bd812d0e67d66820d7",
              "IPY_MODEL_6f686006c7cc49d3b33d2ff5d0549440"
            ]
          }
        },
        "6741157e614746509c407c1e2dd1b716": {
          "model_module": "@jupyter-widgets/base",
          "model_name": "LayoutModel",
          "state": {
            "_view_name": "LayoutView",
            "grid_template_rows": null,
            "right": null,
            "justify_content": null,
            "_view_module": "@jupyter-widgets/base",
            "overflow": null,
            "_model_module_version": "1.2.0",
            "_view_count": null,
            "flex_flow": null,
            "width": null,
            "min_width": null,
            "border": null,
            "align_items": null,
            "bottom": null,
            "_model_module": "@jupyter-widgets/base",
            "top": null,
            "grid_column": null,
            "overflow_y": null,
            "overflow_x": null,
            "grid_auto_flow": null,
            "grid_area": null,
            "grid_template_columns": null,
            "flex": null,
            "_model_name": "LayoutModel",
            "justify_items": null,
            "grid_row": null,
            "max_height": null,
            "align_content": null,
            "visibility": null,
            "align_self": null,
            "height": null,
            "min_height": null,
            "padding": null,
            "grid_auto_rows": null,
            "grid_gap": null,
            "max_width": null,
            "order": null,
            "_view_module_version": "1.2.0",
            "grid_template_areas": null,
            "object_position": null,
            "object_fit": null,
            "grid_auto_columns": null,
            "margin": null,
            "display": null,
            "left": null
          }
        },
        "44d10c84406345bd812d0e67d66820d7": {
          "model_module": "@jupyter-widgets/controls",
          "model_name": "LabelModel",
          "state": {
            "_view_name": "LabelView",
            "style": "IPY_MODEL_639faccfdc6a479bbf86b798856d5373",
            "_dom_classes": [],
            "description": "",
            "_model_name": "LabelModel",
            "placeholder": "​",
            "_view_module": "@jupyter-widgets/controls",
            "_model_module_version": "1.5.0",
            "value": " 0.54MB of 0.54MB uploaded (0.00MB deduped)\r",
            "_view_count": null,
            "_view_module_version": "1.5.0",
            "description_tooltip": null,
            "_model_module": "@jupyter-widgets/controls",
            "layout": "IPY_MODEL_3ff8957e65744ad2a3878ab704aee249"
          }
        },
        "6f686006c7cc49d3b33d2ff5d0549440": {
          "model_module": "@jupyter-widgets/controls",
          "model_name": "FloatProgressModel",
          "state": {
            "_view_name": "ProgressView",
            "style": "IPY_MODEL_1c59ca1203644e7dbcb9b6ec8a249833",
            "_dom_classes": [],
            "description": "",
            "_model_name": "FloatProgressModel",
            "bar_style": "",
            "max": 1,
            "_view_module": "@jupyter-widgets/controls",
            "_model_module_version": "1.5.0",
            "value": 1,
            "_view_count": null,
            "_view_module_version": "1.5.0",
            "orientation": "horizontal",
            "min": 0,
            "description_tooltip": null,
            "_model_module": "@jupyter-widgets/controls",
            "layout": "IPY_MODEL_d6989ba2cc2442f4b758c17f9d40ecd5"
          }
        },
        "639faccfdc6a479bbf86b798856d5373": {
          "model_module": "@jupyter-widgets/controls",
          "model_name": "DescriptionStyleModel",
          "state": {
            "_view_name": "StyleView",
            "_model_name": "DescriptionStyleModel",
            "description_width": "",
            "_view_module": "@jupyter-widgets/base",
            "_model_module_version": "1.5.0",
            "_view_count": null,
            "_view_module_version": "1.2.0",
            "_model_module": "@jupyter-widgets/controls"
          }
        },
        "3ff8957e65744ad2a3878ab704aee249": {
          "model_module": "@jupyter-widgets/base",
          "model_name": "LayoutModel",
          "state": {
            "_view_name": "LayoutView",
            "grid_template_rows": null,
            "right": null,
            "justify_content": null,
            "_view_module": "@jupyter-widgets/base",
            "overflow": null,
            "_model_module_version": "1.2.0",
            "_view_count": null,
            "flex_flow": null,
            "width": null,
            "min_width": null,
            "border": null,
            "align_items": null,
            "bottom": null,
            "_model_module": "@jupyter-widgets/base",
            "top": null,
            "grid_column": null,
            "overflow_y": null,
            "overflow_x": null,
            "grid_auto_flow": null,
            "grid_area": null,
            "grid_template_columns": null,
            "flex": null,
            "_model_name": "LayoutModel",
            "justify_items": null,
            "grid_row": null,
            "max_height": null,
            "align_content": null,
            "visibility": null,
            "align_self": null,
            "height": null,
            "min_height": null,
            "padding": null,
            "grid_auto_rows": null,
            "grid_gap": null,
            "max_width": null,
            "order": null,
            "_view_module_version": "1.2.0",
            "grid_template_areas": null,
            "object_position": null,
            "object_fit": null,
            "grid_auto_columns": null,
            "margin": null,
            "display": null,
            "left": null
          }
        },
        "1c59ca1203644e7dbcb9b6ec8a249833": {
          "model_module": "@jupyter-widgets/controls",
          "model_name": "ProgressStyleModel",
          "state": {
            "_view_name": "StyleView",
            "_model_name": "ProgressStyleModel",
            "description_width": "",
            "_view_module": "@jupyter-widgets/base",
            "_model_module_version": "1.5.0",
            "_view_count": null,
            "_view_module_version": "1.2.0",
            "bar_color": null,
            "_model_module": "@jupyter-widgets/controls"
          }
        },
        "d6989ba2cc2442f4b758c17f9d40ecd5": {
          "model_module": "@jupyter-widgets/base",
          "model_name": "LayoutModel",
          "state": {
            "_view_name": "LayoutView",
            "grid_template_rows": null,
            "right": null,
            "justify_content": null,
            "_view_module": "@jupyter-widgets/base",
            "overflow": null,
            "_model_module_version": "1.2.0",
            "_view_count": null,
            "flex_flow": null,
            "width": null,
            "min_width": null,
            "border": null,
            "align_items": null,
            "bottom": null,
            "_model_module": "@jupyter-widgets/base",
            "top": null,
            "grid_column": null,
            "overflow_y": null,
            "overflow_x": null,
            "grid_auto_flow": null,
            "grid_area": null,
            "grid_template_columns": null,
            "flex": null,
            "_model_name": "LayoutModel",
            "justify_items": null,
            "grid_row": null,
            "max_height": null,
            "align_content": null,
            "visibility": null,
            "align_self": null,
            "height": null,
            "min_height": null,
            "padding": null,
            "grid_auto_rows": null,
            "grid_gap": null,
            "max_width": null,
            "order": null,
            "_view_module_version": "1.2.0",
            "grid_template_areas": null,
            "object_position": null,
            "object_fit": null,
            "grid_auto_columns": null,
            "margin": null,
            "display": null,
            "left": null
          }
        },
        "d0f10ea4686f46afa824ba14f4deef8b": {
          "model_module": "@jupyter-widgets/controls",
          "model_name": "VBoxModel",
          "state": {
            "_view_name": "VBoxView",
            "_dom_classes": [],
            "_model_name": "VBoxModel",
            "_view_module": "@jupyter-widgets/controls",
            "_model_module_version": "1.5.0",
            "_view_count": null,
            "_view_module_version": "1.5.0",
            "box_style": "",
            "layout": "IPY_MODEL_91e1dfef8d994f3c96aa1736f7bf8d13",
            "_model_module": "@jupyter-widgets/controls",
            "children": [
              "IPY_MODEL_39beb5b9d876443587f20b8f6f7b36f0",
              "IPY_MODEL_5f588f4d273b43d794d2b0e028537a95"
            ]
          }
        },
        "91e1dfef8d994f3c96aa1736f7bf8d13": {
          "model_module": "@jupyter-widgets/base",
          "model_name": "LayoutModel",
          "state": {
            "_view_name": "LayoutView",
            "grid_template_rows": null,
            "right": null,
            "justify_content": null,
            "_view_module": "@jupyter-widgets/base",
            "overflow": null,
            "_model_module_version": "1.2.0",
            "_view_count": null,
            "flex_flow": null,
            "width": null,
            "min_width": null,
            "border": null,
            "align_items": null,
            "bottom": null,
            "_model_module": "@jupyter-widgets/base",
            "top": null,
            "grid_column": null,
            "overflow_y": null,
            "overflow_x": null,
            "grid_auto_flow": null,
            "grid_area": null,
            "grid_template_columns": null,
            "flex": null,
            "_model_name": "LayoutModel",
            "justify_items": null,
            "grid_row": null,
            "max_height": null,
            "align_content": null,
            "visibility": null,
            "align_self": null,
            "height": null,
            "min_height": null,
            "padding": null,
            "grid_auto_rows": null,
            "grid_gap": null,
            "max_width": null,
            "order": null,
            "_view_module_version": "1.2.0",
            "grid_template_areas": null,
            "object_position": null,
            "object_fit": null,
            "grid_auto_columns": null,
            "margin": null,
            "display": null,
            "left": null
          }
        },
        "39beb5b9d876443587f20b8f6f7b36f0": {
          "model_module": "@jupyter-widgets/controls",
          "model_name": "LabelModel",
          "state": {
            "_view_name": "LabelView",
            "style": "IPY_MODEL_2acbb441425c48e68de1e8a1e60a53f5",
            "_dom_classes": [],
            "description": "",
            "_model_name": "LabelModel",
            "placeholder": "​",
            "_view_module": "@jupyter-widgets/controls",
            "_model_module_version": "1.5.0",
            "value": " 0.85MB of 0.85MB uploaded (0.00MB deduped)\r",
            "_view_count": null,
            "_view_module_version": "1.5.0",
            "description_tooltip": null,
            "_model_module": "@jupyter-widgets/controls",
            "layout": "IPY_MODEL_09d6cb4b8dc4405abfd452d0ddd30d3e"
          }
        },
        "5f588f4d273b43d794d2b0e028537a95": {
          "model_module": "@jupyter-widgets/controls",
          "model_name": "FloatProgressModel",
          "state": {
            "_view_name": "ProgressView",
            "style": "IPY_MODEL_ff80b3f2a58148e3afe9a1c50bb5320e",
            "_dom_classes": [],
            "description": "",
            "_model_name": "FloatProgressModel",
            "bar_style": "",
            "max": 1,
            "_view_module": "@jupyter-widgets/controls",
            "_model_module_version": "1.5.0",
            "value": 1,
            "_view_count": null,
            "_view_module_version": "1.5.0",
            "orientation": "horizontal",
            "min": 0,
            "description_tooltip": null,
            "_model_module": "@jupyter-widgets/controls",
            "layout": "IPY_MODEL_17b1b612df86408bbc730bf9a6987dac"
          }
        },
        "2acbb441425c48e68de1e8a1e60a53f5": {
          "model_module": "@jupyter-widgets/controls",
          "model_name": "DescriptionStyleModel",
          "state": {
            "_view_name": "StyleView",
            "_model_name": "DescriptionStyleModel",
            "description_width": "",
            "_view_module": "@jupyter-widgets/base",
            "_model_module_version": "1.5.0",
            "_view_count": null,
            "_view_module_version": "1.2.0",
            "_model_module": "@jupyter-widgets/controls"
          }
        },
        "09d6cb4b8dc4405abfd452d0ddd30d3e": {
          "model_module": "@jupyter-widgets/base",
          "model_name": "LayoutModel",
          "state": {
            "_view_name": "LayoutView",
            "grid_template_rows": null,
            "right": null,
            "justify_content": null,
            "_view_module": "@jupyter-widgets/base",
            "overflow": null,
            "_model_module_version": "1.2.0",
            "_view_count": null,
            "flex_flow": null,
            "width": null,
            "min_width": null,
            "border": null,
            "align_items": null,
            "bottom": null,
            "_model_module": "@jupyter-widgets/base",
            "top": null,
            "grid_column": null,
            "overflow_y": null,
            "overflow_x": null,
            "grid_auto_flow": null,
            "grid_area": null,
            "grid_template_columns": null,
            "flex": null,
            "_model_name": "LayoutModel",
            "justify_items": null,
            "grid_row": null,
            "max_height": null,
            "align_content": null,
            "visibility": null,
            "align_self": null,
            "height": null,
            "min_height": null,
            "padding": null,
            "grid_auto_rows": null,
            "grid_gap": null,
            "max_width": null,
            "order": null,
            "_view_module_version": "1.2.0",
            "grid_template_areas": null,
            "object_position": null,
            "object_fit": null,
            "grid_auto_columns": null,
            "margin": null,
            "display": null,
            "left": null
          }
        },
        "ff80b3f2a58148e3afe9a1c50bb5320e": {
          "model_module": "@jupyter-widgets/controls",
          "model_name": "ProgressStyleModel",
          "state": {
            "_view_name": "StyleView",
            "_model_name": "ProgressStyleModel",
            "description_width": "",
            "_view_module": "@jupyter-widgets/base",
            "_model_module_version": "1.5.0",
            "_view_count": null,
            "_view_module_version": "1.2.0",
            "bar_color": null,
            "_model_module": "@jupyter-widgets/controls"
          }
        },
        "17b1b612df86408bbc730bf9a6987dac": {
          "model_module": "@jupyter-widgets/base",
          "model_name": "LayoutModel",
          "state": {
            "_view_name": "LayoutView",
            "grid_template_rows": null,
            "right": null,
            "justify_content": null,
            "_view_module": "@jupyter-widgets/base",
            "overflow": null,
            "_model_module_version": "1.2.0",
            "_view_count": null,
            "flex_flow": null,
            "width": null,
            "min_width": null,
            "border": null,
            "align_items": null,
            "bottom": null,
            "_model_module": "@jupyter-widgets/base",
            "top": null,
            "grid_column": null,
            "overflow_y": null,
            "overflow_x": null,
            "grid_auto_flow": null,
            "grid_area": null,
            "grid_template_columns": null,
            "flex": null,
            "_model_name": "LayoutModel",
            "justify_items": null,
            "grid_row": null,
            "max_height": null,
            "align_content": null,
            "visibility": null,
            "align_self": null,
            "height": null,
            "min_height": null,
            "padding": null,
            "grid_auto_rows": null,
            "grid_gap": null,
            "max_width": null,
            "order": null,
            "_view_module_version": "1.2.0",
            "grid_template_areas": null,
            "object_position": null,
            "object_fit": null,
            "grid_auto_columns": null,
            "margin": null,
            "display": null,
            "left": null
          }
        },
        "02c9bd5ed30f4d548993e72d0318b4c4": {
          "model_module": "@jupyter-widgets/controls",
          "model_name": "VBoxModel",
          "state": {
            "_view_name": "VBoxView",
            "_dom_classes": [],
            "_model_name": "VBoxModel",
            "_view_module": "@jupyter-widgets/controls",
            "_model_module_version": "1.5.0",
            "_view_count": null,
            "_view_module_version": "1.5.0",
            "box_style": "",
            "layout": "IPY_MODEL_f6ac95e0a6f040518c533a4e5d089c39",
            "_model_module": "@jupyter-widgets/controls",
            "children": [
              "IPY_MODEL_86a8aa8e42484b66bd206e81edbb4173",
              "IPY_MODEL_61f4bf548b40443e8fc7c333ff90f086"
            ]
          }
        },
        "f6ac95e0a6f040518c533a4e5d089c39": {
          "model_module": "@jupyter-widgets/base",
          "model_name": "LayoutModel",
          "state": {
            "_view_name": "LayoutView",
            "grid_template_rows": null,
            "right": null,
            "justify_content": null,
            "_view_module": "@jupyter-widgets/base",
            "overflow": null,
            "_model_module_version": "1.2.0",
            "_view_count": null,
            "flex_flow": null,
            "width": null,
            "min_width": null,
            "border": null,
            "align_items": null,
            "bottom": null,
            "_model_module": "@jupyter-widgets/base",
            "top": null,
            "grid_column": null,
            "overflow_y": null,
            "overflow_x": null,
            "grid_auto_flow": null,
            "grid_area": null,
            "grid_template_columns": null,
            "flex": null,
            "_model_name": "LayoutModel",
            "justify_items": null,
            "grid_row": null,
            "max_height": null,
            "align_content": null,
            "visibility": null,
            "align_self": null,
            "height": null,
            "min_height": null,
            "padding": null,
            "grid_auto_rows": null,
            "grid_gap": null,
            "max_width": null,
            "order": null,
            "_view_module_version": "1.2.0",
            "grid_template_areas": null,
            "object_position": null,
            "object_fit": null,
            "grid_auto_columns": null,
            "margin": null,
            "display": null,
            "left": null
          }
        },
        "86a8aa8e42484b66bd206e81edbb4173": {
          "model_module": "@jupyter-widgets/controls",
          "model_name": "LabelModel",
          "state": {
            "_view_name": "LabelView",
            "style": "IPY_MODEL_393499cbea1245b19f9fd1d1a60f3798",
            "_dom_classes": [],
            "description": "",
            "_model_name": "LabelModel",
            "placeholder": "​",
            "_view_module": "@jupyter-widgets/controls",
            "_model_module_version": "1.5.0",
            "value": " 0.77MB of 0.77MB uploaded (0.00MB deduped)\r",
            "_view_count": null,
            "_view_module_version": "1.5.0",
            "description_tooltip": null,
            "_model_module": "@jupyter-widgets/controls",
            "layout": "IPY_MODEL_02cc25f9170d40fa96c5230606a90383"
          }
        },
        "61f4bf548b40443e8fc7c333ff90f086": {
          "model_module": "@jupyter-widgets/controls",
          "model_name": "FloatProgressModel",
          "state": {
            "_view_name": "ProgressView",
            "style": "IPY_MODEL_c68571472d4045c889b7a73759d1cd12",
            "_dom_classes": [],
            "description": "",
            "_model_name": "FloatProgressModel",
            "bar_style": "",
            "max": 1,
            "_view_module": "@jupyter-widgets/controls",
            "_model_module_version": "1.5.0",
            "value": 1,
            "_view_count": null,
            "_view_module_version": "1.5.0",
            "orientation": "horizontal",
            "min": 0,
            "description_tooltip": null,
            "_model_module": "@jupyter-widgets/controls",
            "layout": "IPY_MODEL_d760bfd5d13040edbf350879212a7aee"
          }
        },
        "393499cbea1245b19f9fd1d1a60f3798": {
          "model_module": "@jupyter-widgets/controls",
          "model_name": "DescriptionStyleModel",
          "state": {
            "_view_name": "StyleView",
            "_model_name": "DescriptionStyleModel",
            "description_width": "",
            "_view_module": "@jupyter-widgets/base",
            "_model_module_version": "1.5.0",
            "_view_count": null,
            "_view_module_version": "1.2.0",
            "_model_module": "@jupyter-widgets/controls"
          }
        },
        "02cc25f9170d40fa96c5230606a90383": {
          "model_module": "@jupyter-widgets/base",
          "model_name": "LayoutModel",
          "state": {
            "_view_name": "LayoutView",
            "grid_template_rows": null,
            "right": null,
            "justify_content": null,
            "_view_module": "@jupyter-widgets/base",
            "overflow": null,
            "_model_module_version": "1.2.0",
            "_view_count": null,
            "flex_flow": null,
            "width": null,
            "min_width": null,
            "border": null,
            "align_items": null,
            "bottom": null,
            "_model_module": "@jupyter-widgets/base",
            "top": null,
            "grid_column": null,
            "overflow_y": null,
            "overflow_x": null,
            "grid_auto_flow": null,
            "grid_area": null,
            "grid_template_columns": null,
            "flex": null,
            "_model_name": "LayoutModel",
            "justify_items": null,
            "grid_row": null,
            "max_height": null,
            "align_content": null,
            "visibility": null,
            "align_self": null,
            "height": null,
            "min_height": null,
            "padding": null,
            "grid_auto_rows": null,
            "grid_gap": null,
            "max_width": null,
            "order": null,
            "_view_module_version": "1.2.0",
            "grid_template_areas": null,
            "object_position": null,
            "object_fit": null,
            "grid_auto_columns": null,
            "margin": null,
            "display": null,
            "left": null
          }
        },
        "c68571472d4045c889b7a73759d1cd12": {
          "model_module": "@jupyter-widgets/controls",
          "model_name": "ProgressStyleModel",
          "state": {
            "_view_name": "StyleView",
            "_model_name": "ProgressStyleModel",
            "description_width": "",
            "_view_module": "@jupyter-widgets/base",
            "_model_module_version": "1.5.0",
            "_view_count": null,
            "_view_module_version": "1.2.0",
            "bar_color": null,
            "_model_module": "@jupyter-widgets/controls"
          }
        },
        "d760bfd5d13040edbf350879212a7aee": {
          "model_module": "@jupyter-widgets/base",
          "model_name": "LayoutModel",
          "state": {
            "_view_name": "LayoutView",
            "grid_template_rows": null,
            "right": null,
            "justify_content": null,
            "_view_module": "@jupyter-widgets/base",
            "overflow": null,
            "_model_module_version": "1.2.0",
            "_view_count": null,
            "flex_flow": null,
            "width": null,
            "min_width": null,
            "border": null,
            "align_items": null,
            "bottom": null,
            "_model_module": "@jupyter-widgets/base",
            "top": null,
            "grid_column": null,
            "overflow_y": null,
            "overflow_x": null,
            "grid_auto_flow": null,
            "grid_area": null,
            "grid_template_columns": null,
            "flex": null,
            "_model_name": "LayoutModel",
            "justify_items": null,
            "grid_row": null,
            "max_height": null,
            "align_content": null,
            "visibility": null,
            "align_self": null,
            "height": null,
            "min_height": null,
            "padding": null,
            "grid_auto_rows": null,
            "grid_gap": null,
            "max_width": null,
            "order": null,
            "_view_module_version": "1.2.0",
            "grid_template_areas": null,
            "object_position": null,
            "object_fit": null,
            "grid_auto_columns": null,
            "margin": null,
            "display": null,
            "left": null
          }
        },
        "ffa3aaf76d3b41979293a2afb06690ef": {
          "model_module": "@jupyter-widgets/controls",
          "model_name": "VBoxModel",
          "state": {
            "_view_name": "VBoxView",
            "_dom_classes": [],
            "_model_name": "VBoxModel",
            "_view_module": "@jupyter-widgets/controls",
            "_model_module_version": "1.5.0",
            "_view_count": null,
            "_view_module_version": "1.5.0",
            "box_style": "",
            "layout": "IPY_MODEL_8853b319b7624924beb70087b2b1b9eb",
            "_model_module": "@jupyter-widgets/controls",
            "children": [
              "IPY_MODEL_6a47121271414831a9bb618f9c3369d2",
              "IPY_MODEL_7cdc6ca9d6ff4aec8aa441f05447ed0c"
            ]
          }
        },
        "8853b319b7624924beb70087b2b1b9eb": {
          "model_module": "@jupyter-widgets/base",
          "model_name": "LayoutModel",
          "state": {
            "_view_name": "LayoutView",
            "grid_template_rows": null,
            "right": null,
            "justify_content": null,
            "_view_module": "@jupyter-widgets/base",
            "overflow": null,
            "_model_module_version": "1.2.0",
            "_view_count": null,
            "flex_flow": null,
            "width": null,
            "min_width": null,
            "border": null,
            "align_items": null,
            "bottom": null,
            "_model_module": "@jupyter-widgets/base",
            "top": null,
            "grid_column": null,
            "overflow_y": null,
            "overflow_x": null,
            "grid_auto_flow": null,
            "grid_area": null,
            "grid_template_columns": null,
            "flex": null,
            "_model_name": "LayoutModel",
            "justify_items": null,
            "grid_row": null,
            "max_height": null,
            "align_content": null,
            "visibility": null,
            "align_self": null,
            "height": null,
            "min_height": null,
            "padding": null,
            "grid_auto_rows": null,
            "grid_gap": null,
            "max_width": null,
            "order": null,
            "_view_module_version": "1.2.0",
            "grid_template_areas": null,
            "object_position": null,
            "object_fit": null,
            "grid_auto_columns": null,
            "margin": null,
            "display": null,
            "left": null
          }
        },
        "6a47121271414831a9bb618f9c3369d2": {
          "model_module": "@jupyter-widgets/controls",
          "model_name": "LabelModel",
          "state": {
            "_view_name": "LabelView",
            "style": "IPY_MODEL_81b5a43d733a459b81b9890ae7fc3c1e",
            "_dom_classes": [],
            "description": "",
            "_model_name": "LabelModel",
            "placeholder": "​",
            "_view_module": "@jupyter-widgets/controls",
            "_model_module_version": "1.5.0",
            "value": " 0.78MB of 0.78MB uploaded (0.00MB deduped)\r",
            "_view_count": null,
            "_view_module_version": "1.5.0",
            "description_tooltip": null,
            "_model_module": "@jupyter-widgets/controls",
            "layout": "IPY_MODEL_92b6f06f2d9641ffbe49db801184dbb5"
          }
        },
        "7cdc6ca9d6ff4aec8aa441f05447ed0c": {
          "model_module": "@jupyter-widgets/controls",
          "model_name": "FloatProgressModel",
          "state": {
            "_view_name": "ProgressView",
            "style": "IPY_MODEL_2555943aff364a32a4c48325a7c57002",
            "_dom_classes": [],
            "description": "",
            "_model_name": "FloatProgressModel",
            "bar_style": "",
            "max": 1,
            "_view_module": "@jupyter-widgets/controls",
            "_model_module_version": "1.5.0",
            "value": 1,
            "_view_count": null,
            "_view_module_version": "1.5.0",
            "orientation": "horizontal",
            "min": 0,
            "description_tooltip": null,
            "_model_module": "@jupyter-widgets/controls",
            "layout": "IPY_MODEL_d9cc9a96f7ea44399b52b12cbda305da"
          }
        },
        "81b5a43d733a459b81b9890ae7fc3c1e": {
          "model_module": "@jupyter-widgets/controls",
          "model_name": "DescriptionStyleModel",
          "state": {
            "_view_name": "StyleView",
            "_model_name": "DescriptionStyleModel",
            "description_width": "",
            "_view_module": "@jupyter-widgets/base",
            "_model_module_version": "1.5.0",
            "_view_count": null,
            "_view_module_version": "1.2.0",
            "_model_module": "@jupyter-widgets/controls"
          }
        },
        "92b6f06f2d9641ffbe49db801184dbb5": {
          "model_module": "@jupyter-widgets/base",
          "model_name": "LayoutModel",
          "state": {
            "_view_name": "LayoutView",
            "grid_template_rows": null,
            "right": null,
            "justify_content": null,
            "_view_module": "@jupyter-widgets/base",
            "overflow": null,
            "_model_module_version": "1.2.0",
            "_view_count": null,
            "flex_flow": null,
            "width": null,
            "min_width": null,
            "border": null,
            "align_items": null,
            "bottom": null,
            "_model_module": "@jupyter-widgets/base",
            "top": null,
            "grid_column": null,
            "overflow_y": null,
            "overflow_x": null,
            "grid_auto_flow": null,
            "grid_area": null,
            "grid_template_columns": null,
            "flex": null,
            "_model_name": "LayoutModel",
            "justify_items": null,
            "grid_row": null,
            "max_height": null,
            "align_content": null,
            "visibility": null,
            "align_self": null,
            "height": null,
            "min_height": null,
            "padding": null,
            "grid_auto_rows": null,
            "grid_gap": null,
            "max_width": null,
            "order": null,
            "_view_module_version": "1.2.0",
            "grid_template_areas": null,
            "object_position": null,
            "object_fit": null,
            "grid_auto_columns": null,
            "margin": null,
            "display": null,
            "left": null
          }
        },
        "2555943aff364a32a4c48325a7c57002": {
          "model_module": "@jupyter-widgets/controls",
          "model_name": "ProgressStyleModel",
          "state": {
            "_view_name": "StyleView",
            "_model_name": "ProgressStyleModel",
            "description_width": "",
            "_view_module": "@jupyter-widgets/base",
            "_model_module_version": "1.5.0",
            "_view_count": null,
            "_view_module_version": "1.2.0",
            "bar_color": null,
            "_model_module": "@jupyter-widgets/controls"
          }
        },
        "d9cc9a96f7ea44399b52b12cbda305da": {
          "model_module": "@jupyter-widgets/base",
          "model_name": "LayoutModel",
          "state": {
            "_view_name": "LayoutView",
            "grid_template_rows": null,
            "right": null,
            "justify_content": null,
            "_view_module": "@jupyter-widgets/base",
            "overflow": null,
            "_model_module_version": "1.2.0",
            "_view_count": null,
            "flex_flow": null,
            "width": null,
            "min_width": null,
            "border": null,
            "align_items": null,
            "bottom": null,
            "_model_module": "@jupyter-widgets/base",
            "top": null,
            "grid_column": null,
            "overflow_y": null,
            "overflow_x": null,
            "grid_auto_flow": null,
            "grid_area": null,
            "grid_template_columns": null,
            "flex": null,
            "_model_name": "LayoutModel",
            "justify_items": null,
            "grid_row": null,
            "max_height": null,
            "align_content": null,
            "visibility": null,
            "align_self": null,
            "height": null,
            "min_height": null,
            "padding": null,
            "grid_auto_rows": null,
            "grid_gap": null,
            "max_width": null,
            "order": null,
            "_view_module_version": "1.2.0",
            "grid_template_areas": null,
            "object_position": null,
            "object_fit": null,
            "grid_auto_columns": null,
            "margin": null,
            "display": null,
            "left": null
          }
        },
        "0e64743e3b1b4d0eb028714e63f1c65d": {
          "model_module": "@jupyter-widgets/controls",
          "model_name": "VBoxModel",
          "state": {
            "_view_name": "VBoxView",
            "_dom_classes": [],
            "_model_name": "VBoxModel",
            "_view_module": "@jupyter-widgets/controls",
            "_model_module_version": "1.5.0",
            "_view_count": null,
            "_view_module_version": "1.5.0",
            "box_style": "",
            "layout": "IPY_MODEL_ac1719f9a10f48518f3110e00ded65bd",
            "_model_module": "@jupyter-widgets/controls",
            "children": [
              "IPY_MODEL_7937a985a9a343c09ff2a38519b7701f",
              "IPY_MODEL_6e40a11cc7114f48b86395c049cdd3a8"
            ]
          }
        },
        "ac1719f9a10f48518f3110e00ded65bd": {
          "model_module": "@jupyter-widgets/base",
          "model_name": "LayoutModel",
          "state": {
            "_view_name": "LayoutView",
            "grid_template_rows": null,
            "right": null,
            "justify_content": null,
            "_view_module": "@jupyter-widgets/base",
            "overflow": null,
            "_model_module_version": "1.2.0",
            "_view_count": null,
            "flex_flow": null,
            "width": null,
            "min_width": null,
            "border": null,
            "align_items": null,
            "bottom": null,
            "_model_module": "@jupyter-widgets/base",
            "top": null,
            "grid_column": null,
            "overflow_y": null,
            "overflow_x": null,
            "grid_auto_flow": null,
            "grid_area": null,
            "grid_template_columns": null,
            "flex": null,
            "_model_name": "LayoutModel",
            "justify_items": null,
            "grid_row": null,
            "max_height": null,
            "align_content": null,
            "visibility": null,
            "align_self": null,
            "height": null,
            "min_height": null,
            "padding": null,
            "grid_auto_rows": null,
            "grid_gap": null,
            "max_width": null,
            "order": null,
            "_view_module_version": "1.2.0",
            "grid_template_areas": null,
            "object_position": null,
            "object_fit": null,
            "grid_auto_columns": null,
            "margin": null,
            "display": null,
            "left": null
          }
        },
        "7937a985a9a343c09ff2a38519b7701f": {
          "model_module": "@jupyter-widgets/controls",
          "model_name": "LabelModel",
          "state": {
            "_view_name": "LabelView",
            "style": "IPY_MODEL_5af31d40ab914854b6d523379eea60c5",
            "_dom_classes": [],
            "description": "",
            "_model_name": "LabelModel",
            "placeholder": "​",
            "_view_module": "@jupyter-widgets/controls",
            "_model_module_version": "1.5.0",
            "value": " 0.96MB of 0.96MB uploaded (0.00MB deduped)\r",
            "_view_count": null,
            "_view_module_version": "1.5.0",
            "description_tooltip": null,
            "_model_module": "@jupyter-widgets/controls",
            "layout": "IPY_MODEL_9b200312dd6d462f849bc35ad296c21d"
          }
        },
        "6e40a11cc7114f48b86395c049cdd3a8": {
          "model_module": "@jupyter-widgets/controls",
          "model_name": "FloatProgressModel",
          "state": {
            "_view_name": "ProgressView",
            "style": "IPY_MODEL_7eada60ed82a4410b657e18d3313ceb0",
            "_dom_classes": [],
            "description": "",
            "_model_name": "FloatProgressModel",
            "bar_style": "",
            "max": 1,
            "_view_module": "@jupyter-widgets/controls",
            "_model_module_version": "1.5.0",
            "value": 1,
            "_view_count": null,
            "_view_module_version": "1.5.0",
            "orientation": "horizontal",
            "min": 0,
            "description_tooltip": null,
            "_model_module": "@jupyter-widgets/controls",
            "layout": "IPY_MODEL_4d72876922f94b7aad0c0eb479d768cb"
          }
        },
        "5af31d40ab914854b6d523379eea60c5": {
          "model_module": "@jupyter-widgets/controls",
          "model_name": "DescriptionStyleModel",
          "state": {
            "_view_name": "StyleView",
            "_model_name": "DescriptionStyleModel",
            "description_width": "",
            "_view_module": "@jupyter-widgets/base",
            "_model_module_version": "1.5.0",
            "_view_count": null,
            "_view_module_version": "1.2.0",
            "_model_module": "@jupyter-widgets/controls"
          }
        },
        "9b200312dd6d462f849bc35ad296c21d": {
          "model_module": "@jupyter-widgets/base",
          "model_name": "LayoutModel",
          "state": {
            "_view_name": "LayoutView",
            "grid_template_rows": null,
            "right": null,
            "justify_content": null,
            "_view_module": "@jupyter-widgets/base",
            "overflow": null,
            "_model_module_version": "1.2.0",
            "_view_count": null,
            "flex_flow": null,
            "width": null,
            "min_width": null,
            "border": null,
            "align_items": null,
            "bottom": null,
            "_model_module": "@jupyter-widgets/base",
            "top": null,
            "grid_column": null,
            "overflow_y": null,
            "overflow_x": null,
            "grid_auto_flow": null,
            "grid_area": null,
            "grid_template_columns": null,
            "flex": null,
            "_model_name": "LayoutModel",
            "justify_items": null,
            "grid_row": null,
            "max_height": null,
            "align_content": null,
            "visibility": null,
            "align_self": null,
            "height": null,
            "min_height": null,
            "padding": null,
            "grid_auto_rows": null,
            "grid_gap": null,
            "max_width": null,
            "order": null,
            "_view_module_version": "1.2.0",
            "grid_template_areas": null,
            "object_position": null,
            "object_fit": null,
            "grid_auto_columns": null,
            "margin": null,
            "display": null,
            "left": null
          }
        },
        "7eada60ed82a4410b657e18d3313ceb0": {
          "model_module": "@jupyter-widgets/controls",
          "model_name": "ProgressStyleModel",
          "state": {
            "_view_name": "StyleView",
            "_model_name": "ProgressStyleModel",
            "description_width": "",
            "_view_module": "@jupyter-widgets/base",
            "_model_module_version": "1.5.0",
            "_view_count": null,
            "_view_module_version": "1.2.0",
            "bar_color": null,
            "_model_module": "@jupyter-widgets/controls"
          }
        },
        "4d72876922f94b7aad0c0eb479d768cb": {
          "model_module": "@jupyter-widgets/base",
          "model_name": "LayoutModel",
          "state": {
            "_view_name": "LayoutView",
            "grid_template_rows": null,
            "right": null,
            "justify_content": null,
            "_view_module": "@jupyter-widgets/base",
            "overflow": null,
            "_model_module_version": "1.2.0",
            "_view_count": null,
            "flex_flow": null,
            "width": null,
            "min_width": null,
            "border": null,
            "align_items": null,
            "bottom": null,
            "_model_module": "@jupyter-widgets/base",
            "top": null,
            "grid_column": null,
            "overflow_y": null,
            "overflow_x": null,
            "grid_auto_flow": null,
            "grid_area": null,
            "grid_template_columns": null,
            "flex": null,
            "_model_name": "LayoutModel",
            "justify_items": null,
            "grid_row": null,
            "max_height": null,
            "align_content": null,
            "visibility": null,
            "align_self": null,
            "height": null,
            "min_height": null,
            "padding": null,
            "grid_auto_rows": null,
            "grid_gap": null,
            "max_width": null,
            "order": null,
            "_view_module_version": "1.2.0",
            "grid_template_areas": null,
            "object_position": null,
            "object_fit": null,
            "grid_auto_columns": null,
            "margin": null,
            "display": null,
            "left": null
          }
        },
        "f1674c1aa66a4d51a024f40b17364762": {
          "model_module": "@jupyter-widgets/controls",
          "model_name": "VBoxModel",
          "state": {
            "_view_name": "VBoxView",
            "_dom_classes": [],
            "_model_name": "VBoxModel",
            "_view_module": "@jupyter-widgets/controls",
            "_model_module_version": "1.5.0",
            "_view_count": null,
            "_view_module_version": "1.5.0",
            "box_style": "",
            "layout": "IPY_MODEL_34efd1d9ecaa4c69a2b29c738f181dd4",
            "_model_module": "@jupyter-widgets/controls",
            "children": [
              "IPY_MODEL_cbffb7bcf3b8403c99e289abba06520b",
              "IPY_MODEL_83cd1c95ab504308b152f11cdd83ea2d"
            ]
          }
        },
        "34efd1d9ecaa4c69a2b29c738f181dd4": {
          "model_module": "@jupyter-widgets/base",
          "model_name": "LayoutModel",
          "state": {
            "_view_name": "LayoutView",
            "grid_template_rows": null,
            "right": null,
            "justify_content": null,
            "_view_module": "@jupyter-widgets/base",
            "overflow": null,
            "_model_module_version": "1.2.0",
            "_view_count": null,
            "flex_flow": null,
            "width": null,
            "min_width": null,
            "border": null,
            "align_items": null,
            "bottom": null,
            "_model_module": "@jupyter-widgets/base",
            "top": null,
            "grid_column": null,
            "overflow_y": null,
            "overflow_x": null,
            "grid_auto_flow": null,
            "grid_area": null,
            "grid_template_columns": null,
            "flex": null,
            "_model_name": "LayoutModel",
            "justify_items": null,
            "grid_row": null,
            "max_height": null,
            "align_content": null,
            "visibility": null,
            "align_self": null,
            "height": null,
            "min_height": null,
            "padding": null,
            "grid_auto_rows": null,
            "grid_gap": null,
            "max_width": null,
            "order": null,
            "_view_module_version": "1.2.0",
            "grid_template_areas": null,
            "object_position": null,
            "object_fit": null,
            "grid_auto_columns": null,
            "margin": null,
            "display": null,
            "left": null
          }
        },
        "cbffb7bcf3b8403c99e289abba06520b": {
          "model_module": "@jupyter-widgets/controls",
          "model_name": "LabelModel",
          "state": {
            "_view_name": "LabelView",
            "style": "IPY_MODEL_4a66291b1e834d938f341ea14dbb1b5b",
            "_dom_classes": [],
            "description": "",
            "_model_name": "LabelModel",
            "placeholder": "​",
            "_view_module": "@jupyter-widgets/controls",
            "_model_module_version": "1.5.0",
            "value": " 0.99MB of 0.99MB uploaded (0.00MB deduped)\r",
            "_view_count": null,
            "_view_module_version": "1.5.0",
            "description_tooltip": null,
            "_model_module": "@jupyter-widgets/controls",
            "layout": "IPY_MODEL_b09be02d39ad42908f1552806b392791"
          }
        },
        "83cd1c95ab504308b152f11cdd83ea2d": {
          "model_module": "@jupyter-widgets/controls",
          "model_name": "FloatProgressModel",
          "state": {
            "_view_name": "ProgressView",
            "style": "IPY_MODEL_6a40e80f43094a7a8c09fd2e9a1b28ea",
            "_dom_classes": [],
            "description": "",
            "_model_name": "FloatProgressModel",
            "bar_style": "",
            "max": 1,
            "_view_module": "@jupyter-widgets/controls",
            "_model_module_version": "1.5.0",
            "value": 1,
            "_view_count": null,
            "_view_module_version": "1.5.0",
            "orientation": "horizontal",
            "min": 0,
            "description_tooltip": null,
            "_model_module": "@jupyter-widgets/controls",
            "layout": "IPY_MODEL_75f60db84b7d463182672590b1dc0b47"
          }
        },
        "4a66291b1e834d938f341ea14dbb1b5b": {
          "model_module": "@jupyter-widgets/controls",
          "model_name": "DescriptionStyleModel",
          "state": {
            "_view_name": "StyleView",
            "_model_name": "DescriptionStyleModel",
            "description_width": "",
            "_view_module": "@jupyter-widgets/base",
            "_model_module_version": "1.5.0",
            "_view_count": null,
            "_view_module_version": "1.2.0",
            "_model_module": "@jupyter-widgets/controls"
          }
        },
        "b09be02d39ad42908f1552806b392791": {
          "model_module": "@jupyter-widgets/base",
          "model_name": "LayoutModel",
          "state": {
            "_view_name": "LayoutView",
            "grid_template_rows": null,
            "right": null,
            "justify_content": null,
            "_view_module": "@jupyter-widgets/base",
            "overflow": null,
            "_model_module_version": "1.2.0",
            "_view_count": null,
            "flex_flow": null,
            "width": null,
            "min_width": null,
            "border": null,
            "align_items": null,
            "bottom": null,
            "_model_module": "@jupyter-widgets/base",
            "top": null,
            "grid_column": null,
            "overflow_y": null,
            "overflow_x": null,
            "grid_auto_flow": null,
            "grid_area": null,
            "grid_template_columns": null,
            "flex": null,
            "_model_name": "LayoutModel",
            "justify_items": null,
            "grid_row": null,
            "max_height": null,
            "align_content": null,
            "visibility": null,
            "align_self": null,
            "height": null,
            "min_height": null,
            "padding": null,
            "grid_auto_rows": null,
            "grid_gap": null,
            "max_width": null,
            "order": null,
            "_view_module_version": "1.2.0",
            "grid_template_areas": null,
            "object_position": null,
            "object_fit": null,
            "grid_auto_columns": null,
            "margin": null,
            "display": null,
            "left": null
          }
        },
        "6a40e80f43094a7a8c09fd2e9a1b28ea": {
          "model_module": "@jupyter-widgets/controls",
          "model_name": "ProgressStyleModel",
          "state": {
            "_view_name": "StyleView",
            "_model_name": "ProgressStyleModel",
            "description_width": "",
            "_view_module": "@jupyter-widgets/base",
            "_model_module_version": "1.5.0",
            "_view_count": null,
            "_view_module_version": "1.2.0",
            "bar_color": null,
            "_model_module": "@jupyter-widgets/controls"
          }
        },
        "75f60db84b7d463182672590b1dc0b47": {
          "model_module": "@jupyter-widgets/base",
          "model_name": "LayoutModel",
          "state": {
            "_view_name": "LayoutView",
            "grid_template_rows": null,
            "right": null,
            "justify_content": null,
            "_view_module": "@jupyter-widgets/base",
            "overflow": null,
            "_model_module_version": "1.2.0",
            "_view_count": null,
            "flex_flow": null,
            "width": null,
            "min_width": null,
            "border": null,
            "align_items": null,
            "bottom": null,
            "_model_module": "@jupyter-widgets/base",
            "top": null,
            "grid_column": null,
            "overflow_y": null,
            "overflow_x": null,
            "grid_auto_flow": null,
            "grid_area": null,
            "grid_template_columns": null,
            "flex": null,
            "_model_name": "LayoutModel",
            "justify_items": null,
            "grid_row": null,
            "max_height": null,
            "align_content": null,
            "visibility": null,
            "align_self": null,
            "height": null,
            "min_height": null,
            "padding": null,
            "grid_auto_rows": null,
            "grid_gap": null,
            "max_width": null,
            "order": null,
            "_view_module_version": "1.2.0",
            "grid_template_areas": null,
            "object_position": null,
            "object_fit": null,
            "grid_auto_columns": null,
            "margin": null,
            "display": null,
            "left": null
          }
        }
      }
    }
  },
  "cells": [
    {
      "cell_type": "markdown",
      "metadata": {
        "id": "view-in-github",
        "colab_type": "text"
      },
      "source": [
        "<a href=\"https://colab.research.google.com/github/acse-2020/acse2020-acse9-finalreport-acse-jaq15/blob/main/notebooks/LSTM_GRU/LSTM_GRU_Nvidia.ipynb\" target=\"_parent\"><img src=\"https://colab.research.google.com/assets/colab-badge.svg\" alt=\"Open In Colab\"/></a>"
      ]
    },
    {
      "cell_type": "markdown",
      "metadata": {
        "id": "z5F7GfFTgUo3"
      },
      "source": [
        "# Imports\n",
        "\n",
        "The cells below handle all the necessary imports to run our models, making use of the public repo feeder_repo, linked <!-- [Text](link) -->\n",
        "[here](https://github.com/acse-jaq15/feeder_repo)."
      ]
    },
    {
      "cell_type": "code",
      "metadata": {
        "id": "HWy9Ay1SGzWa",
        "colab": {
          "base_uri": "https://localhost:8080/"
        },
        "outputId": "1e847faa-7a86-4d2d-db60-ddd7f0c3c89c"
      },
      "source": [
        "# clone the feeder repo to get data_reader module and financial time series data\n",
        "!git clone https://github.com/acse-jaq15/feeder_repo.git"
      ],
      "execution_count": 1,
      "outputs": [
        {
          "output_type": "stream",
          "text": [
            "Cloning into 'feeder_repo'...\n",
            "remote: Enumerating objects: 147, done.\u001b[K\n",
            "remote: Counting objects: 100% (147/147), done.\u001b[K\n",
            "remote: Compressing objects: 100% (142/142), done.\u001b[K\n",
            "remote: Total 147 (delta 71), reused 6 (delta 2), pack-reused 0\u001b[K\n",
            "Receiving objects: 100% (147/147), 120.19 KiB | 4.45 MiB/s, done.\n",
            "Resolving deltas: 100% (71/71), done.\n"
          ],
          "name": "stdout"
        }
      ]
    },
    {
      "cell_type": "code",
      "metadata": {
        "id": "ChlUNYaiHGM2",
        "colab": {
          "base_uri": "https://localhost:8080/"
        },
        "outputId": "43de0d0f-8a9a-411d-ff7c-0eac64438cde"
      },
      "source": [
        "# using '%' to enforce a permanent change of directory\n",
        "%cd feeder_repo/"
      ],
      "execution_count": 2,
      "outputs": [
        {
          "output_type": "stream",
          "text": [
            "/content/feeder_repo\n"
          ],
          "name": "stdout"
        }
      ]
    },
    {
      "cell_type": "code",
      "metadata": {
        "id": "saD-jpvPIfZ8",
        "colab": {
          "base_uri": "https://localhost:8080/"
        },
        "outputId": "f9c04ac0-ed3e-4eb2-e4fe-bc7d9850788a"
      },
      "source": [
        "# checking contents listed correctly, should read:\n",
        "# baseline_model.py data data_reader.py LICENSE README.md security_plotter.py\n",
        "!ls"
      ],
      "execution_count": 3,
      "outputs": [
        {
          "output_type": "stream",
          "text": [
            "base_model.py  data  data_reader.py  LICENSE  README.md  security_plotter.py\n"
          ],
          "name": "stdout"
        }
      ]
    },
    {
      "cell_type": "code",
      "metadata": {
        "id": "fRqkwo6kZUz_"
      },
      "source": [
        "import math\n",
        "import sys\n",
        "import keras\n",
        "import os\n",
        "import matplotlib.dates as mdates\n",
        "import matplotlib.pyplot as plt\n",
        "import pandas as pd\n",
        "import numpy as np\n",
        "from keras.models import Sequential\n",
        "from keras.layers import Dense\n",
        "from keras.layers import LSTM\n",
        "from keras.layers import GRU\n",
        "from keras.layers import Dropout\n",
        "from keras.layers import *\n",
        "from keras.utils.layer_utils import count_params\n",
        "from keras.utils.vis_utils import plot_model\n",
        "from sklearn.preprocessing import MinMaxScaler\n",
        "from sklearn.metrics import mean_squared_error\n",
        "from sklearn.metrics import mean_absolute_error\n",
        "from sklearn.model_selection import train_test_split\n",
        "from keras.callbacks import EarlyStopping, Callback\n",
        "from keras.optimizers import RMSprop, SGD, Adam, Nadam\n",
        "from keras.initializers import random_normal"
      ],
      "execution_count": 4,
      "outputs": []
    },
    {
      "cell_type": "code",
      "metadata": {
        "id": "hzVhwND1HAlw"
      },
      "source": [
        "# appending path with 'feeder_repo' string\n",
        "sys.path.append('feeder_repo')\n",
        "\n",
        "# import Data_Reader class from data_reader module\n",
        "from feeder_repo.data_reader import Data_Reader\n",
        "# import Baseline_Model class from base_model module\n",
        "from feeder_repo.base_model import Base_Model\n",
        "# import Security_Plotter class from security_plotter module\n",
        "from feeder_repo.security_plotter import Security_Plotter"
      ],
      "execution_count": 5,
      "outputs": []
    },
    {
      "cell_type": "code",
      "metadata": {
        "colab": {
          "base_uri": "https://localhost:8080/"
        },
        "id": "6-tNDlXuhiCU",
        "outputId": "837070cd-0325-435f-8125-cbdeacc910e1"
      },
      "source": [
        "# checking if the notebook is running on a GPU\n",
        "gpu_info = !nvidia-smi\n",
        "gpu_info = '\\n'.join(gpu_info)\n",
        "if gpu_info.find('failed') >= 0:\n",
        "    print('Select the Runtime > \"Change runtime type\" menu to enable a GPU accelerator, ')\n",
        "    print('and then re-execute this cell.')\n",
        "else:\n",
        "    print(gpu_info)"
      ],
      "execution_count": 6,
      "outputs": [
        {
          "output_type": "stream",
          "text": [
            "Mon Jul 19 11:38:39 2021       \n",
            "+-----------------------------------------------------------------------------+\n",
            "| NVIDIA-SMI 470.42.01    Driver Version: 460.32.03    CUDA Version: 11.2     |\n",
            "|-------------------------------+----------------------+----------------------+\n",
            "| GPU  Name        Persistence-M| Bus-Id        Disp.A | Volatile Uncorr. ECC |\n",
            "| Fan  Temp  Perf  Pwr:Usage/Cap|         Memory-Usage | GPU-Util  Compute M. |\n",
            "|                               |                      |               MIG M. |\n",
            "|===============================+======================+======================|\n",
            "|   0  Tesla P100-PCIE...  Off  | 00000000:00:04.0 Off |                    0 |\n",
            "| N/A   41C    P0    26W / 250W |      0MiB / 16280MiB |      0%      Default |\n",
            "|                               |                      |                  N/A |\n",
            "+-------------------------------+----------------------+----------------------+\n",
            "                                                                               \n",
            "+-----------------------------------------------------------------------------+\n",
            "| Processes:                                                                  |\n",
            "|  GPU   GI   CI        PID   Type   Process name                  GPU Memory |\n",
            "|        ID   ID                                                   Usage      |\n",
            "|=============================================================================|\n",
            "|  No running processes found                                                 |\n",
            "+-----------------------------------------------------------------------------+\n"
          ],
          "name": "stdout"
        }
      ]
    },
    {
      "cell_type": "markdown",
      "metadata": {
        "id": "WB9wD4Aahs8_"
      },
      "source": [
        "# Handling the data\n",
        "Here the Data_Reader class is used to read the time series data and extract training, test and validation sets, along with the relevant X and y values."
      ]
    },
    {
      "cell_type": "code",
      "metadata": {
        "id": "vBlKerL-c4-3"
      },
      "source": [
        "# storing the file to be read as a string\n",
        "in_str = 'Nvidia'\n",
        "# storing the year of the time series to be used as test data\n",
        "in_yr = 2019\n",
        "# creating a variable to store the model name\n",
        "model_str = 'LSTM_GRU'\n",
        "# setting our window_length to be 30 days\n",
        "window_len = 30"
      ],
      "execution_count": 7,
      "outputs": []
    },
    {
      "cell_type": "code",
      "metadata": {
        "id": "hfQJbuBk0vW0"
      },
      "source": [
        "# creating an instance of Data_Reader class\n",
        "in_data = Data_Reader(in_str, in_yr)\n",
        "# calling class method extract_train_test to generate training and test datasets\n",
        "in_data.extract_train_test()\n",
        "# calling class method extract_xy to generate X and y training and test datasets\n",
        "in_data.extract_xy(window_len)\n",
        "\n",
        "# assigning X_train and y_train\n",
        "X_train = in_data.X_train\n",
        "y_train = in_data.y_train\n",
        "\n",
        "# assigning X_test and y_test\n",
        "X_test = in_data.X_test\n",
        "y_test = in_data.y_test\n",
        "\n",
        "# assigning X_val_train and y_val_train\n",
        "X_val_train = in_data.X_val_train\n",
        "y_val_train = in_data.y_val_train\n",
        "\n",
        "# assigning X_val_test and y_val_test\n",
        "X_val_test = in_data.X_val_test\n",
        "y_val_test = in_data.y_val_test"
      ],
      "execution_count": 8,
      "outputs": []
    },
    {
      "cell_type": "markdown",
      "metadata": {
        "id": "X53Fp1Gwh88_"
      },
      "source": [
        "# Setting up wandb itegration\n",
        "Here wandb is used to perform hyperparameter tuning."
      ]
    },
    {
      "cell_type": "code",
      "metadata": {
        "colab": {
          "base_uri": "https://localhost:8080/"
        },
        "id": "aE6cdrSDiHhq",
        "outputId": "dcd2ad8d-7ef3-4018-f315-9f3f29d081d9"
      },
      "source": [
        "# installing the wandb library and importing\n",
        "%pip install wandb -q\n",
        "import wandb\n",
        "from wandb.keras import WandbCallback"
      ],
      "execution_count": 9,
      "outputs": [
        {
          "output_type": "stream",
          "text": [
            "\u001b[K     |████████████████████████████████| 1.8MB 9.3MB/s \n",
            "\u001b[K     |████████████████████████████████| 174kB 33.7MB/s \n",
            "\u001b[K     |████████████████████████████████| 143kB 35.4MB/s \n",
            "\u001b[K     |████████████████████████████████| 102kB 10.2MB/s \n",
            "\u001b[K     |████████████████████████████████| 143kB 21.6MB/s \n",
            "\u001b[K     |████████████████████████████████| 71kB 8.7MB/s \n",
            "\u001b[?25h  Building wheel for subprocess32 (setup.py) ... \u001b[?25l\u001b[?25hdone\n",
            "  Building wheel for pathtools (setup.py) ... \u001b[?25l\u001b[?25hdone\n",
            "\u001b[31mERROR: requests 2.23.0 has requirement urllib3!=1.25.0,!=1.25.1,<1.26,>=1.21.1, but you'll have urllib3 1.26.6 which is incompatible.\u001b[0m\n",
            "\u001b[31mERROR: datascience 0.10.6 has requirement folium==0.2.1, but you'll have folium 0.8.3 which is incompatible.\u001b[0m\n"
          ],
          "name": "stdout"
        }
      ]
    },
    {
      "cell_type": "code",
      "metadata": {
        "id": "pbgZaoQDiIKX"
      },
      "source": [
        "!pip install wandb -qq"
      ],
      "execution_count": 10,
      "outputs": []
    },
    {
      "cell_type": "code",
      "metadata": {
        "colab": {
          "base_uri": "https://localhost:8080/"
        },
        "id": "1WHkW0XyiKVL",
        "outputId": "985fb102-14da-49bd-e8bc-3b52ff28db8b"
      },
      "source": [
        "# logging in so the hyperparameter tunings sweeps can be saved\n",
        "!wandb login"
      ],
      "execution_count": 11,
      "outputs": [
        {
          "output_type": "stream",
          "text": [
            "/usr/local/lib/python3.7/dist-packages/requests/__init__.py:91: RequestsDependencyWarning: urllib3 (1.26.6) or chardet (3.0.4) doesn't match a supported version!\n",
            "  RequestsDependencyWarning)\n",
            "\u001b[34m\u001b[1mwandb\u001b[0m: You can find your API key in your browser here: https://wandb.ai/authorize\n",
            "\u001b[34m\u001b[1mwandb\u001b[0m: Paste an API key from your profile and hit enter: \n",
            "\u001b[34m\u001b[1mwandb\u001b[0m: Appending key for api.wandb.ai to your netrc file: /root/.netrc\n"
          ],
          "name": "stdout"
        }
      ]
    },
    {
      "cell_type": "code",
      "metadata": {
        "id": "j91IBGuSid5w"
      },
      "source": [
        "# configuring the sweep, making use of a random search methodology\n",
        "sweep_config = {\n",
        "    'method': 'random', #grid, random\n",
        "    'metric': {\n",
        "      'name': 'mse',\n",
        "      'goal': 'minimize'   \n",
        "    },\n",
        "    'parameters': {\n",
        "        'epochs': {\n",
        "            'values': [50, 100, 200]\n",
        "        },\n",
        "        'batch_size': {\n",
        "            'values': [128, 64, 32]\n",
        "        },\n",
        "        'learning_rate': {\n",
        "            'values': [0.005, 0.001, 0.0005]\n",
        "        },\n",
        "        'dropout': {\n",
        "            'values': [0.1, 0.2, 0.3]\n",
        "        },\n",
        "        'optimizer': {\n",
        "            'values': ['adam', 'nadam', 'rmsprop']\n",
        "        },\n",
        "        'activation': {\n",
        "            'values': ['tanh', 'relu', 'selu']\n",
        "        }\n",
        "    }\n",
        "}"
      ],
      "execution_count": 12,
      "outputs": []
    },
    {
      "cell_type": "code",
      "metadata": {
        "id": "V0Sr9HsorH4E"
      },
      "source": [
        "# wandb calls this training function to run through the hyperparameter search\n",
        "def train():\n",
        "    # default values for searching\n",
        "    config_defaults = {\n",
        "        'epochs': 100,\n",
        "        'batch_size': 32,\n",
        "        'learning_rate': 0.005,\n",
        "        'dropout': 0.2,\n",
        "        'optimizer': 'adam',\n",
        "        'activation': 'tanh',\n",
        "        'momentum': 0.9,\n",
        "        'seed': 42\n",
        "    }\n",
        "\n",
        "    # Initialize a new wandb run\n",
        "    wandb.init(config=config_defaults)\n",
        "    \n",
        "    # Config is a variable that holds and saves hyperparameters and inputs\n",
        "    config = wandb.config\n",
        "\n",
        "    # setting keras model to sequential mode\n",
        "    model = Sequential()\n",
        "\n",
        "    # layer 1\n",
        "    model.add(LSTM(units=64, activation=config.activation, return_sequences=True, input_shape=(window_len, 1)))\n",
        "    model.add(Dropout(config.dropout))\n",
        "    # layer 2\n",
        "    model.add(GRU(units=64, activation=config.activation))\n",
        "    model.add(Dropout(0.1))\n",
        "    # layer 3\n",
        "    model.add(Dense(1))\n",
        "\n",
        "    # Define the optimizer\n",
        "    if config.optimizer=='sgd':\n",
        "      optimizer = SGD(learning_rate=config.learning_rate, decay=1e-5, momentum=config.momentum, nesterov=True)\n",
        "    elif config.optimizer=='rmsprop':\n",
        "      optimizer = RMSprop(learning_rate=config.learning_rate, decay=1e-5)\n",
        "    elif config.optimizer=='adam':\n",
        "      optimizer = Adam(learning_rate=config.learning_rate, beta_1=0.9, beta_2=0.999, clipnorm=1.0)\n",
        "    elif config.optimizer=='nadam':\n",
        "      optimizer = Nadam(learning_rate=config.learning_rate, beta_1=0.9, beta_2=0.999, clipnorm=1.0)\n",
        "\n",
        "    model.compile(loss = \"mean_squared_error\", optimizer=optimizer, metrics=['mean_squared_error', 'mean_absolute_error'])\n",
        "\n",
        "    model.fit(X_val_train, y_val_train, batch_size=config.batch_size,\n",
        "              epochs=config.epochs,\n",
        "              validation_data=(X_val_test, y_val_test),\n",
        "              callbacks=[WandbCallback(validation_data=(X_val_test, y_val_test)),\n",
        "                          EarlyStopping(patience=10, restore_best_weights=True)])"
      ],
      "execution_count": 13,
      "outputs": []
    },
    {
      "cell_type": "code",
      "metadata": {
        "colab": {
          "base_uri": "https://localhost:8080/"
        },
        "id": "JwZO6oAFU1LN",
        "outputId": "2bf810d6-2813-43ca-b1e6-b3a4ff1f0353"
      },
      "source": [
        "# setting up our sweep_id\n",
        "sweep_id = wandb.sweep(sweep_config, project='ACSE_9_'+model_str)"
      ],
      "execution_count": 14,
      "outputs": [
        {
          "output_type": "stream",
          "text": [
            "Create sweep with ID: s5xopigt\n",
            "Sweep URL: https://wandb.ai/acse-jaq15/ACSE_9_LSTM_GRU/sweeps/s5xopigt\n"
          ],
          "name": "stdout"
        }
      ]
    },
    {
      "cell_type": "code",
      "metadata": {
        "colab": {
          "base_uri": "https://localhost:8080/",
          "height": 1000,
          "referenced_widgets": [
            "041d23e35ec04e37b4a81153ece3e3f0",
            "d80da98485334c869df20ea6a08fb80d",
            "7eb7ceebe119444bb0ba5602c96d05d1",
            "2c7830745d7d4006b52c70c51b2749e9",
            "e1ece6e73e524fe49416fcb0189aa66d",
            "42ac3e6a9cbc4a678c4ed1d41055a93a",
            "8601815a627c4ee28a01f2a2a957f523",
            "23994990c178438e8edfcd57112e7f1f",
            "4264e0c76a18498aa7ca50fd379589d2",
            "7db886d2d8ba40269df784ec53644a6c",
            "ee78d37a5b914815b487b3d59f404ad2",
            "8714cd443506458891e8b0001a023fff",
            "8fc0d9803d9b4f5c9f6701079ed1165b",
            "c5505e25f0f44edf90610995ef1e3f69",
            "3aedb2796a074fa68d586f98f4142ed4",
            "3a4ae59aa7444e1585fca9c5ea937d3b",
            "3175ef1deb19436cad8ce0a6ca565bd5",
            "af0a728289c74eb496e95d81dce53969",
            "0ba6a788171a4d3cb5a53f7c96f10543",
            "1e718f42a813443f97e4b302758ec4ee",
            "59c57afc46c44636a7a32f75c81b6939",
            "559fd40eaedb40cb894b9f704cab9628",
            "32894bfcdd214cfc8f6cdac4771c2b93",
            "32e9b9ec636d4a3b8df237cc3a2b3e7c",
            "8fc5490348bb4fafa5c3cc5c3ce21f16",
            "41bab3c4d96f4f198953a5388dae1616",
            "ad2895f4113540aa946e8eb4e6b393be",
            "14af3335f1d445ecb01fd9d0eec2694a",
            "72b189fbae0845b4aeae9b6a61d18207",
            "53176b8340ea40b8a67f9470beb6f1e6",
            "29c6030c7abb4172ad774ee9dee9ae64",
            "23961b30f3264b6fa2d84f92909ffe4c",
            "7c7243417ddc4bd393f7dbef10492eab",
            "6741157e614746509c407c1e2dd1b716",
            "44d10c84406345bd812d0e67d66820d7",
            "6f686006c7cc49d3b33d2ff5d0549440",
            "639faccfdc6a479bbf86b798856d5373",
            "3ff8957e65744ad2a3878ab704aee249",
            "1c59ca1203644e7dbcb9b6ec8a249833",
            "d6989ba2cc2442f4b758c17f9d40ecd5",
            "d0f10ea4686f46afa824ba14f4deef8b",
            "91e1dfef8d994f3c96aa1736f7bf8d13",
            "39beb5b9d876443587f20b8f6f7b36f0",
            "5f588f4d273b43d794d2b0e028537a95",
            "2acbb441425c48e68de1e8a1e60a53f5",
            "09d6cb4b8dc4405abfd452d0ddd30d3e",
            "ff80b3f2a58148e3afe9a1c50bb5320e",
            "17b1b612df86408bbc730bf9a6987dac",
            "02c9bd5ed30f4d548993e72d0318b4c4",
            "f6ac95e0a6f040518c533a4e5d089c39",
            "86a8aa8e42484b66bd206e81edbb4173",
            "61f4bf548b40443e8fc7c333ff90f086",
            "393499cbea1245b19f9fd1d1a60f3798",
            "02cc25f9170d40fa96c5230606a90383",
            "c68571472d4045c889b7a73759d1cd12",
            "d760bfd5d13040edbf350879212a7aee",
            "ffa3aaf76d3b41979293a2afb06690ef",
            "8853b319b7624924beb70087b2b1b9eb",
            "6a47121271414831a9bb618f9c3369d2",
            "7cdc6ca9d6ff4aec8aa441f05447ed0c",
            "81b5a43d733a459b81b9890ae7fc3c1e",
            "92b6f06f2d9641ffbe49db801184dbb5",
            "2555943aff364a32a4c48325a7c57002",
            "d9cc9a96f7ea44399b52b12cbda305da",
            "0e64743e3b1b4d0eb028714e63f1c65d",
            "ac1719f9a10f48518f3110e00ded65bd",
            "7937a985a9a343c09ff2a38519b7701f",
            "6e40a11cc7114f48b86395c049cdd3a8",
            "5af31d40ab914854b6d523379eea60c5",
            "9b200312dd6d462f849bc35ad296c21d",
            "7eada60ed82a4410b657e18d3313ceb0",
            "4d72876922f94b7aad0c0eb479d768cb",
            "f1674c1aa66a4d51a024f40b17364762",
            "34efd1d9ecaa4c69a2b29c738f181dd4",
            "cbffb7bcf3b8403c99e289abba06520b",
            "83cd1c95ab504308b152f11cdd83ea2d",
            "4a66291b1e834d938f341ea14dbb1b5b",
            "b09be02d39ad42908f1552806b392791",
            "6a40e80f43094a7a8c09fd2e9a1b28ea",
            "75f60db84b7d463182672590b1dc0b47"
          ]
        },
        "id": "ZfSCGWfluFw0",
        "outputId": "86191f6e-f0fc-46fc-8799-ec2fe396252d"
      },
      "source": [
        "# initialising a new sweep\n",
        "wandb.agent(sweep_id, train, project='ACSE_9_'+model_str)"
      ],
      "execution_count": 16,
      "outputs": [
        {
          "output_type": "stream",
          "text": [
            "\u001b[34m\u001b[1mwandb\u001b[0m: Agent Starting Run: fube4lq0 with config:\n",
            "\u001b[34m\u001b[1mwandb\u001b[0m: \tactivation: tanh\n",
            "\u001b[34m\u001b[1mwandb\u001b[0m: \tbatch_size: 32\n",
            "\u001b[34m\u001b[1mwandb\u001b[0m: \tdropout: 0.1\n",
            "\u001b[34m\u001b[1mwandb\u001b[0m: \tepochs: 50\n",
            "\u001b[34m\u001b[1mwandb\u001b[0m: \tlearning_rate: 0.0005\n",
            "\u001b[34m\u001b[1mwandb\u001b[0m: \toptimizer: adam\n"
          ],
          "name": "stderr"
        },
        {
          "output_type": "display_data",
          "data": {
            "text/html": [
              "\n",
              "                Tracking run with wandb version 0.11.0<br/>\n",
              "                Syncing run <strong style=\"color:#cdcd00\">cerulean-sweep-24</strong> to <a href=\"https://wandb.ai\" target=\"_blank\">Weights & Biases</a> <a href=\"https://docs.wandb.com/integrations/jupyter.html\" target=\"_blank\">(Documentation)</a>.<br/>\n",
              "                Project page: <a href=\"https://wandb.ai/acse-jaq15/ACSE_9_LSTM_GRU\" target=\"_blank\">https://wandb.ai/acse-jaq15/ACSE_9_LSTM_GRU</a><br/>\n",
              "                Sweep page: <a href=\"https://wandb.ai/acse-jaq15/ACSE_9_LSTM_GRU/sweeps/s5xopigt\" target=\"_blank\">https://wandb.ai/acse-jaq15/ACSE_9_LSTM_GRU/sweeps/s5xopigt</a><br/>\n",
              "Run page: <a href=\"https://wandb.ai/acse-jaq15/ACSE_9_LSTM_GRU/runs/fube4lq0\" target=\"_blank\">https://wandb.ai/acse-jaq15/ACSE_9_LSTM_GRU/runs/fube4lq0</a><br/>\n",
              "                Run data is saved locally in <code>/content/feeder_repo/wandb/run-20210719_131101-fube4lq0</code><br/><br/>\n",
              "            "
            ],
            "text/plain": [
              "<IPython.core.display.HTML object>"
            ]
          },
          "metadata": {
            "tags": []
          }
        },
        {
          "output_type": "stream",
          "text": [
            "Epoch 1/50\n",
            "31/31 [==============================] - 6s 49ms/step - loss: 0.0467 - mean_squared_error: 0.0467 - mean_absolute_error: 0.1318 - val_loss: 0.0126 - val_mean_squared_error: 0.0126 - val_mean_absolute_error: 0.0958\n",
            "Epoch 2/50\n",
            "31/31 [==============================] - 0s 11ms/step - loss: 0.0018 - mean_squared_error: 0.0018 - mean_absolute_error: 0.0239 - val_loss: 0.0083 - val_mean_squared_error: 0.0083 - val_mean_absolute_error: 0.0654\n",
            "Epoch 3/50\n",
            "31/31 [==============================] - 0s 12ms/step - loss: 0.0014 - mean_squared_error: 0.0014 - mean_absolute_error: 0.0205 - val_loss: 0.0103 - val_mean_squared_error: 0.0103 - val_mean_absolute_error: 0.0720\n",
            "Epoch 4/50\n",
            "31/31 [==============================] - 0s 12ms/step - loss: 0.0011 - mean_squared_error: 0.0011 - mean_absolute_error: 0.0186 - val_loss: 0.0083 - val_mean_squared_error: 0.0083 - val_mean_absolute_error: 0.0643\n",
            "Epoch 5/50\n",
            "31/31 [==============================] - 0s 12ms/step - loss: 8.5881e-04 - mean_squared_error: 8.5881e-04 - mean_absolute_error: 0.0160 - val_loss: 0.0080 - val_mean_squared_error: 0.0080 - val_mean_absolute_error: 0.0641\n",
            "Epoch 6/50\n",
            "31/31 [==============================] - 0s 11ms/step - loss: 8.7716e-04 - mean_squared_error: 8.7716e-04 - mean_absolute_error: 0.0173 - val_loss: 0.0088 - val_mean_squared_error: 0.0088 - val_mean_absolute_error: 0.0655\n",
            "Epoch 7/50\n",
            "31/31 [==============================] - 0s 12ms/step - loss: 0.0012 - mean_squared_error: 0.0012 - mean_absolute_error: 0.0201 - val_loss: 0.0077 - val_mean_squared_error: 0.0077 - val_mean_absolute_error: 0.0628\n",
            "Epoch 8/50\n",
            "31/31 [==============================] - 0s 11ms/step - loss: 8.3970e-04 - mean_squared_error: 8.3970e-04 - mean_absolute_error: 0.0163 - val_loss: 0.0088 - val_mean_squared_error: 0.0088 - val_mean_absolute_error: 0.0655\n",
            "Epoch 9/50\n",
            "31/31 [==============================] - 0s 12ms/step - loss: 0.0010 - mean_squared_error: 0.0010 - mean_absolute_error: 0.0176 - val_loss: 0.0077 - val_mean_squared_error: 0.0077 - val_mean_absolute_error: 0.0614\n",
            "Epoch 10/50\n",
            "31/31 [==============================] - 0s 11ms/step - loss: 9.9788e-04 - mean_squared_error: 9.9788e-04 - mean_absolute_error: 0.0171 - val_loss: 0.0075 - val_mean_squared_error: 0.0075 - val_mean_absolute_error: 0.0611\n",
            "Epoch 11/50\n",
            "31/31 [==============================] - 0s 12ms/step - loss: 8.5947e-04 - mean_squared_error: 8.5947e-04 - mean_absolute_error: 0.0170 - val_loss: 0.0082 - val_mean_squared_error: 0.0082 - val_mean_absolute_error: 0.0633\n",
            "Epoch 12/50\n",
            "31/31 [==============================] - 0s 12ms/step - loss: 9.8041e-04 - mean_squared_error: 9.8041e-04 - mean_absolute_error: 0.0179 - val_loss: 0.0077 - val_mean_squared_error: 0.0077 - val_mean_absolute_error: 0.0610\n",
            "Epoch 13/50\n",
            "31/31 [==============================] - 0s 11ms/step - loss: 7.6770e-04 - mean_squared_error: 7.6770e-04 - mean_absolute_error: 0.0161 - val_loss: 0.0070 - val_mean_squared_error: 0.0070 - val_mean_absolute_error: 0.0602\n",
            "Epoch 14/50\n",
            "31/31 [==============================] - 0s 11ms/step - loss: 9.3225e-04 - mean_squared_error: 9.3225e-04 - mean_absolute_error: 0.0168 - val_loss: 0.0085 - val_mean_squared_error: 0.0085 - val_mean_absolute_error: 0.0651\n",
            "Epoch 15/50\n",
            "31/31 [==============================] - 0s 12ms/step - loss: 0.0010 - mean_squared_error: 0.0010 - mean_absolute_error: 0.0178 - val_loss: 0.0070 - val_mean_squared_error: 0.0070 - val_mean_absolute_error: 0.0588\n",
            "Epoch 16/50\n",
            "31/31 [==============================] - 0s 11ms/step - loss: 8.0553e-04 - mean_squared_error: 8.0553e-04 - mean_absolute_error: 0.0158 - val_loss: 0.0066 - val_mean_squared_error: 0.0066 - val_mean_absolute_error: 0.0597\n",
            "Epoch 17/50\n",
            "31/31 [==============================] - 0s 13ms/step - loss: 9.4763e-04 - mean_squared_error: 9.4763e-04 - mean_absolute_error: 0.0182 - val_loss: 0.0066 - val_mean_squared_error: 0.0066 - val_mean_absolute_error: 0.0583\n",
            "Epoch 18/50\n",
            "31/31 [==============================] - 0s 11ms/step - loss: 0.0011 - mean_squared_error: 0.0011 - mean_absolute_error: 0.0195 - val_loss: 0.0069 - val_mean_squared_error: 0.0069 - val_mean_absolute_error: 0.0580\n",
            "Epoch 19/50\n",
            "31/31 [==============================] - 0s 12ms/step - loss: 8.6701e-04 - mean_squared_error: 8.6701e-04 - mean_absolute_error: 0.0172 - val_loss: 0.0072 - val_mean_squared_error: 0.0072 - val_mean_absolute_error: 0.0596\n",
            "Epoch 20/50\n",
            "31/31 [==============================] - 0s 12ms/step - loss: 8.0333e-04 - mean_squared_error: 8.0333e-04 - mean_absolute_error: 0.0168 - val_loss: 0.0067 - val_mean_squared_error: 0.0067 - val_mean_absolute_error: 0.0577\n",
            "Epoch 21/50\n",
            "31/31 [==============================] - 0s 11ms/step - loss: 8.5086e-04 - mean_squared_error: 8.5086e-04 - mean_absolute_error: 0.0162 - val_loss: 0.0063 - val_mean_squared_error: 0.0063 - val_mean_absolute_error: 0.0564\n",
            "Epoch 22/50\n",
            "31/31 [==============================] - 0s 12ms/step - loss: 8.3510e-04 - mean_squared_error: 8.3510e-04 - mean_absolute_error: 0.0170 - val_loss: 0.0062 - val_mean_squared_error: 0.0062 - val_mean_absolute_error: 0.0587\n",
            "Epoch 23/50\n",
            "31/31 [==============================] - 0s 11ms/step - loss: 0.0011 - mean_squared_error: 0.0011 - mean_absolute_error: 0.0192 - val_loss: 0.0060 - val_mean_squared_error: 0.0060 - val_mean_absolute_error: 0.0561\n",
            "Epoch 24/50\n",
            "31/31 [==============================] - 0s 11ms/step - loss: 8.6427e-04 - mean_squared_error: 8.6427e-04 - mean_absolute_error: 0.0167 - val_loss: 0.0069 - val_mean_squared_error: 0.0069 - val_mean_absolute_error: 0.0587\n",
            "Epoch 25/50\n",
            "31/31 [==============================] - 0s 11ms/step - loss: 8.7378e-04 - mean_squared_error: 8.7378e-04 - mean_absolute_error: 0.0167 - val_loss: 0.0061 - val_mean_squared_error: 0.0061 - val_mean_absolute_error: 0.0554\n",
            "Epoch 26/50\n",
            "31/31 [==============================] - 0s 11ms/step - loss: 7.3988e-04 - mean_squared_error: 7.3988e-04 - mean_absolute_error: 0.0162 - val_loss: 0.0060 - val_mean_squared_error: 0.0060 - val_mean_absolute_error: 0.0557\n",
            "Epoch 27/50\n",
            "31/31 [==============================] - 0s 12ms/step - loss: 8.8914e-04 - mean_squared_error: 8.8914e-04 - mean_absolute_error: 0.0175 - val_loss: 0.0066 - val_mean_squared_error: 0.0066 - val_mean_absolute_error: 0.0574\n",
            "Epoch 28/50\n",
            "31/31 [==============================] - 0s 11ms/step - loss: 7.4670e-04 - mean_squared_error: 7.4670e-04 - mean_absolute_error: 0.0151 - val_loss: 0.0064 - val_mean_squared_error: 0.0064 - val_mean_absolute_error: 0.0622\n",
            "Epoch 29/50\n",
            "31/31 [==============================] - 0s 12ms/step - loss: 9.2998e-04 - mean_squared_error: 9.2998e-04 - mean_absolute_error: 0.0184 - val_loss: 0.0063 - val_mean_squared_error: 0.0063 - val_mean_absolute_error: 0.0562\n",
            "Epoch 30/50\n",
            "31/31 [==============================] - 0s 10ms/step - loss: 7.6553e-04 - mean_squared_error: 7.6553e-04 - mean_absolute_error: 0.0152 - val_loss: 0.0059 - val_mean_squared_error: 0.0059 - val_mean_absolute_error: 0.0544\n",
            "Epoch 31/50\n",
            "31/31 [==============================] - 0s 11ms/step - loss: 7.2715e-04 - mean_squared_error: 7.2715e-04 - mean_absolute_error: 0.0156 - val_loss: 0.0057 - val_mean_squared_error: 0.0057 - val_mean_absolute_error: 0.0562\n",
            "Epoch 32/50\n",
            "31/31 [==============================] - 0s 10ms/step - loss: 6.9162e-04 - mean_squared_error: 6.9162e-04 - mean_absolute_error: 0.0156 - val_loss: 0.0061 - val_mean_squared_error: 0.0061 - val_mean_absolute_error: 0.0553\n",
            "Epoch 33/50\n",
            "31/31 [==============================] - 0s 10ms/step - loss: 8.3802e-04 - mean_squared_error: 8.3802e-04 - mean_absolute_error: 0.0166 - val_loss: 0.0059 - val_mean_squared_error: 0.0059 - val_mean_absolute_error: 0.0544\n",
            "Epoch 34/50\n",
            "31/31 [==============================] - 0s 11ms/step - loss: 7.8821e-04 - mean_squared_error: 7.8821e-04 - mean_absolute_error: 0.0156 - val_loss: 0.0080 - val_mean_squared_error: 0.0080 - val_mean_absolute_error: 0.0661\n",
            "Epoch 35/50\n",
            "31/31 [==============================] - 0s 11ms/step - loss: 7.3163e-04 - mean_squared_error: 7.3163e-04 - mean_absolute_error: 0.0172 - val_loss: 0.0062 - val_mean_squared_error: 0.0062 - val_mean_absolute_error: 0.0558\n",
            "Epoch 36/50\n",
            "31/31 [==============================] - 0s 12ms/step - loss: 7.5295e-04 - mean_squared_error: 7.5295e-04 - mean_absolute_error: 0.0168 - val_loss: 0.0057 - val_mean_squared_error: 0.0057 - val_mean_absolute_error: 0.0536\n",
            "Epoch 37/50\n",
            "31/31 [==============================] - 0s 12ms/step - loss: 7.3692e-04 - mean_squared_error: 7.3692e-04 - mean_absolute_error: 0.0165 - val_loss: 0.0054 - val_mean_squared_error: 0.0054 - val_mean_absolute_error: 0.0542\n",
            "Epoch 38/50\n",
            "31/31 [==============================] - 0s 11ms/step - loss: 6.0989e-04 - mean_squared_error: 6.0989e-04 - mean_absolute_error: 0.0145 - val_loss: 0.0054 - val_mean_squared_error: 0.0054 - val_mean_absolute_error: 0.0540\n",
            "Epoch 39/50\n",
            "31/31 [==============================] - 0s 11ms/step - loss: 6.7200e-04 - mean_squared_error: 6.7200e-04 - mean_absolute_error: 0.0155 - val_loss: 0.0053 - val_mean_squared_error: 0.0053 - val_mean_absolute_error: 0.0533\n",
            "Epoch 40/50\n",
            "31/31 [==============================] - 0s 12ms/step - loss: 5.8794e-04 - mean_squared_error: 5.8794e-04 - mean_absolute_error: 0.0142 - val_loss: 0.0057 - val_mean_squared_error: 0.0057 - val_mean_absolute_error: 0.0580\n",
            "Epoch 41/50\n",
            "31/31 [==============================] - 0s 12ms/step - loss: 8.8789e-04 - mean_squared_error: 8.8789e-04 - mean_absolute_error: 0.0194 - val_loss: 0.0053 - val_mean_squared_error: 0.0053 - val_mean_absolute_error: 0.0526\n",
            "Epoch 42/50\n",
            "31/31 [==============================] - 0s 12ms/step - loss: 7.7688e-04 - mean_squared_error: 7.7688e-04 - mean_absolute_error: 0.0154 - val_loss: 0.0053 - val_mean_squared_error: 0.0053 - val_mean_absolute_error: 0.0524\n",
            "Epoch 43/50\n",
            "31/31 [==============================] - 0s 12ms/step - loss: 8.8558e-04 - mean_squared_error: 8.8558e-04 - mean_absolute_error: 0.0187 - val_loss: 0.0053 - val_mean_squared_error: 0.0053 - val_mean_absolute_error: 0.0522\n",
            "Epoch 44/50\n",
            "31/31 [==============================] - 0s 12ms/step - loss: 7.6969e-04 - mean_squared_error: 7.6969e-04 - mean_absolute_error: 0.0159 - val_loss: 0.0061 - val_mean_squared_error: 0.0061 - val_mean_absolute_error: 0.0558\n",
            "Epoch 45/50\n",
            "31/31 [==============================] - 0s 11ms/step - loss: 6.8898e-04 - mean_squared_error: 6.8898e-04 - mean_absolute_error: 0.0143 - val_loss: 0.0051 - val_mean_squared_error: 0.0051 - val_mean_absolute_error: 0.0514\n",
            "Epoch 46/50\n",
            "31/31 [==============================] - 0s 11ms/step - loss: 8.2546e-04 - mean_squared_error: 8.2546e-04 - mean_absolute_error: 0.0152 - val_loss: 0.0051 - val_mean_squared_error: 0.0051 - val_mean_absolute_error: 0.0533\n",
            "Epoch 47/50\n",
            "31/31 [==============================] - 0s 12ms/step - loss: 6.0868e-04 - mean_squared_error: 6.0868e-04 - mean_absolute_error: 0.0147 - val_loss: 0.0050 - val_mean_squared_error: 0.0050 - val_mean_absolute_error: 0.0523\n",
            "Epoch 48/50\n",
            "31/31 [==============================] - 0s 11ms/step - loss: 6.4723e-04 - mean_squared_error: 6.4723e-04 - mean_absolute_error: 0.0149 - val_loss: 0.0059 - val_mean_squared_error: 0.0059 - val_mean_absolute_error: 0.0550\n",
            "Epoch 49/50\n",
            "31/31 [==============================] - 0s 11ms/step - loss: 7.9384e-04 - mean_squared_error: 7.9384e-04 - mean_absolute_error: 0.0171 - val_loss: 0.0057 - val_mean_squared_error: 0.0057 - val_mean_absolute_error: 0.0539\n",
            "Epoch 50/50\n",
            "31/31 [==============================] - 0s 11ms/step - loss: 6.4331e-04 - mean_squared_error: 6.4331e-04 - mean_absolute_error: 0.0141 - val_loss: 0.0051 - val_mean_squared_error: 0.0051 - val_mean_absolute_error: 0.0509\n"
          ],
          "name": "stdout"
        },
        {
          "output_type": "display_data",
          "data": {
            "text/html": [
              "<br/>Waiting for W&B process to finish, PID 6751<br/>Program ended successfully."
            ],
            "text/plain": [
              "<IPython.core.display.HTML object>"
            ]
          },
          "metadata": {
            "tags": []
          }
        },
        {
          "output_type": "display_data",
          "data": {
            "application/vnd.jupyter.widget-view+json": {
              "model_id": "041d23e35ec04e37b4a81153ece3e3f0",
              "version_minor": 0,
              "version_major": 2
            },
            "text/plain": [
              "VBox(children=(Label(value=' 0.72MB of 0.72MB uploaded (0.00MB deduped)\\r'), FloatProgress(value=1.0, max=1.0)…"
            ]
          },
          "metadata": {
            "tags": []
          }
        },
        {
          "output_type": "display_data",
          "data": {
            "text/html": [
              "Find user logs for this run at: <code>/content/feeder_repo/wandb/run-20210719_131101-fube4lq0/logs/debug.log</code>"
            ],
            "text/plain": [
              "<IPython.core.display.HTML object>"
            ]
          },
          "metadata": {
            "tags": []
          }
        },
        {
          "output_type": "display_data",
          "data": {
            "text/html": [
              "Find internal logs for this run at: <code>/content/feeder_repo/wandb/run-20210719_131101-fube4lq0/logs/debug-internal.log</code>"
            ],
            "text/plain": [
              "<IPython.core.display.HTML object>"
            ]
          },
          "metadata": {
            "tags": []
          }
        },
        {
          "output_type": "display_data",
          "data": {
            "text/html": [
              "<h3>Run summary:</h3><br/><style>\n",
              "    table.wandb td:nth-child(1) { padding: 0 10px; text-align: right }\n",
              "    </style><table class=\"wandb\">\n",
              "<tr><td>epoch</td><td>49</td></tr><tr><td>loss</td><td>0.00067</td></tr><tr><td>mean_squared_error</td><td>0.00067</td></tr><tr><td>mean_absolute_error</td><td>0.01415</td></tr><tr><td>val_loss</td><td>0.00514</td></tr><tr><td>val_mean_squared_error</td><td>0.00514</td></tr><tr><td>val_mean_absolute_error</td><td>0.05091</td></tr><tr><td>_runtime</td><td>29</td></tr><tr><td>_timestamp</td><td>1626700290</td></tr><tr><td>_step</td><td>49</td></tr><tr><td>best_val_loss</td><td>0.00498</td></tr><tr><td>best_epoch</td><td>46</td></tr></table>"
            ],
            "text/plain": [
              "<IPython.core.display.HTML object>"
            ]
          },
          "metadata": {
            "tags": []
          }
        },
        {
          "output_type": "display_data",
          "data": {
            "text/html": [
              "<h3>Run history:</h3><br/><style>\n",
              "    table.wandb td:nth-child(1) { padding: 0 10px; text-align: right }\n",
              "    </style><table class=\"wandb\">\n",
              "<tr><td>epoch</td><td>▁▁▁▁▂▂▂▂▂▃▃▃▃▃▃▄▄▄▄▄▅▅▅▅▅▅▆▆▆▆▆▆▇▇▇▇▇███</td></tr><tr><td>loss</td><td>█▁▁▁▁▁▁▁▁▁▁▁▁▁▁▁▁▁▁▁▁▁▁▁▁▁▁▁▁▁▁▁▁▁▁▁▁▁▁▁</td></tr><tr><td>mean_squared_error</td><td>█▁▁▁▁▁▁▁▁▁▁▁▁▁▁▁▁▁▁▁▁▁▁▁▁▁▁▁▁▁▁▁▁▁▁▁▁▁▁▁</td></tr><tr><td>mean_absolute_error</td><td>█▂▂▁▁▁▁▁▁▁▁▁▁▁▁▁▁▁▁▁▁▁▁▁▁▁▁▁▁▁▁▁▁▁▁▁▁▁▁▁</td></tr><tr><td>val_loss</td><td>█▄▆▄▅▃▄▃▄▃▃▄▂▃▃▃▂▂▂▃▂▃▂▂▂▂▂▄▂▁▁▁▁▁▁▂▁▁▂▁</td></tr><tr><td>val_mean_squared_error</td><td>█▄▆▄▅▃▄▃▄▃▃▄▂▃▃▃▂▂▂▃▂▃▂▂▂▂▂▄▂▁▁▁▁▁▁▂▁▁▂▁</td></tr><tr><td>val_mean_absolute_error</td><td>█▃▄▃▃▃▃▃▃▃▂▃▂▂▂▂▂▂▂▂▂▂▃▂▂▂▂▃▁▂▁▁▁▁▁▂▁▁▂▁</td></tr><tr><td>_runtime</td><td>▁▁▁▁▂▂▂▂▂▂▃▃▃▃▄▄▄▄▄▄▅▅▅▅▅▅▅▆▆▆▆▇▇▇▇▇▇███</td></tr><tr><td>_timestamp</td><td>▁▁▁▁▂▂▂▂▂▂▃▃▃▃▄▄▄▄▄▄▅▅▅▅▅▅▅▆▆▆▆▇▇▇▇▇▇███</td></tr><tr><td>_step</td><td>▁▁▁▁▂▂▂▂▂▃▃▃▃▃▃▄▄▄▄▄▅▅▅▅▅▅▆▆▆▆▆▆▇▇▇▇▇███</td></tr></table><br/>"
            ],
            "text/plain": [
              "<IPython.core.display.HTML object>"
            ]
          },
          "metadata": {
            "tags": []
          }
        },
        {
          "output_type": "display_data",
          "data": {
            "text/html": [
              "Synced 5 W&B file(s), 1 media file(s), 2 artifact file(s) and 2 other file(s)"
            ],
            "text/plain": [
              "<IPython.core.display.HTML object>"
            ]
          },
          "metadata": {
            "tags": []
          }
        },
        {
          "output_type": "display_data",
          "data": {
            "text/html": [
              "\n",
              "                    <br/>Synced <strong style=\"color:#cdcd00\">cerulean-sweep-24</strong>: <a href=\"https://wandb.ai/acse-jaq15/ACSE_9_LSTM_GRU/runs/fube4lq0\" target=\"_blank\">https://wandb.ai/acse-jaq15/ACSE_9_LSTM_GRU/runs/fube4lq0</a><br/>\n",
              "                "
            ],
            "text/plain": [
              "<IPython.core.display.HTML object>"
            ]
          },
          "metadata": {
            "tags": []
          }
        },
        {
          "output_type": "stream",
          "text": [
            "\u001b[34m\u001b[1mwandb\u001b[0m: Agent Starting Run: 8xtc0zej with config:\n",
            "\u001b[34m\u001b[1mwandb\u001b[0m: \tactivation: selu\n",
            "\u001b[34m\u001b[1mwandb\u001b[0m: \tbatch_size: 128\n",
            "\u001b[34m\u001b[1mwandb\u001b[0m: \tdropout: 0.2\n",
            "\u001b[34m\u001b[1mwandb\u001b[0m: \tepochs: 50\n",
            "\u001b[34m\u001b[1mwandb\u001b[0m: \tlearning_rate: 0.0005\n",
            "\u001b[34m\u001b[1mwandb\u001b[0m: \toptimizer: nadam\n"
          ],
          "name": "stderr"
        },
        {
          "output_type": "display_data",
          "data": {
            "text/html": [
              "\n",
              "                Tracking run with wandb version 0.11.0<br/>\n",
              "                Syncing run <strong style=\"color:#cdcd00\">deep-sweep-25</strong> to <a href=\"https://wandb.ai\" target=\"_blank\">Weights & Biases</a> <a href=\"https://docs.wandb.com/integrations/jupyter.html\" target=\"_blank\">(Documentation)</a>.<br/>\n",
              "                Project page: <a href=\"https://wandb.ai/acse-jaq15/ACSE_9_LSTM_GRU\" target=\"_blank\">https://wandb.ai/acse-jaq15/ACSE_9_LSTM_GRU</a><br/>\n",
              "                Sweep page: <a href=\"https://wandb.ai/acse-jaq15/ACSE_9_LSTM_GRU/sweeps/s5xopigt\" target=\"_blank\">https://wandb.ai/acse-jaq15/ACSE_9_LSTM_GRU/sweeps/s5xopigt</a><br/>\n",
              "Run page: <a href=\"https://wandb.ai/acse-jaq15/ACSE_9_LSTM_GRU/runs/8xtc0zej\" target=\"_blank\">https://wandb.ai/acse-jaq15/ACSE_9_LSTM_GRU/runs/8xtc0zej</a><br/>\n",
              "                Run data is saved locally in <code>/content/feeder_repo/wandb/run-20210719_131137-8xtc0zej</code><br/><br/>\n",
              "            "
            ],
            "text/plain": [
              "<IPython.core.display.HTML object>"
            ]
          },
          "metadata": {
            "tags": []
          }
        },
        {
          "output_type": "stream",
          "text": [
            "WARNING:tensorflow:Layer lstm will not use cuDNN kernels since it doesn't meet the criteria. It will use a generic GPU kernel as fallback when running on GPU.\n",
            "WARNING:tensorflow:Layer gru will not use cuDNN kernels since it doesn't meet the criteria. It will use a generic GPU kernel as fallback when running on GPU.\n",
            "Epoch 1/50\n",
            "8/8 [==============================] - 8s 366ms/step - loss: 0.0556 - mean_squared_error: 0.0556 - mean_absolute_error: 0.1401 - val_loss: 0.0184 - val_mean_squared_error: 0.0184 - val_mean_absolute_error: 0.1080\n",
            "Epoch 2/50\n",
            "8/8 [==============================] - 2s 213ms/step - loss: 0.0060 - mean_squared_error: 0.0060 - mean_absolute_error: 0.0448 - val_loss: 0.0203 - val_mean_squared_error: 0.0203 - val_mean_absolute_error: 0.1016\n",
            "Epoch 3/50\n",
            "8/8 [==============================] - 2s 200ms/step - loss: 0.0039 - mean_squared_error: 0.0039 - mean_absolute_error: 0.0357 - val_loss: 0.0242 - val_mean_squared_error: 0.0242 - val_mean_absolute_error: 0.1164\n",
            "Epoch 4/50\n",
            "8/8 [==============================] - 2s 186ms/step - loss: 0.0046 - mean_squared_error: 0.0046 - mean_absolute_error: 0.0404 - val_loss: 0.0171 - val_mean_squared_error: 0.0171 - val_mean_absolute_error: 0.0929\n",
            "Epoch 5/50\n",
            "8/8 [==============================] - 1s 180ms/step - loss: 0.0043 - mean_squared_error: 0.0043 - mean_absolute_error: 0.0377 - val_loss: 0.0146 - val_mean_squared_error: 0.0146 - val_mean_absolute_error: 0.0856\n",
            "Epoch 6/50\n",
            "8/8 [==============================] - 2s 186ms/step - loss: 0.0035 - mean_squared_error: 0.0035 - mean_absolute_error: 0.0332 - val_loss: 0.0172 - val_mean_squared_error: 0.0172 - val_mean_absolute_error: 0.0938\n",
            "Epoch 7/50\n",
            "8/8 [==============================] - 2s 200ms/step - loss: 0.0032 - mean_squared_error: 0.0032 - mean_absolute_error: 0.0317 - val_loss: 0.0125 - val_mean_squared_error: 0.0125 - val_mean_absolute_error: 0.0820\n",
            "Epoch 8/50\n",
            "8/8 [==============================] - 1s 175ms/step - loss: 0.0028 - mean_squared_error: 0.0028 - mean_absolute_error: 0.0293 - val_loss: 0.0222 - val_mean_squared_error: 0.0222 - val_mean_absolute_error: 0.1155\n",
            "Epoch 9/50\n",
            "8/8 [==============================] - 2s 198ms/step - loss: 0.0028 - mean_squared_error: 0.0028 - mean_absolute_error: 0.0295 - val_loss: 0.0116 - val_mean_squared_error: 0.0116 - val_mean_absolute_error: 0.0786\n",
            "Epoch 10/50\n",
            "8/8 [==============================] - 1s 168ms/step - loss: 0.0020 - mean_squared_error: 0.0020 - mean_absolute_error: 0.0250 - val_loss: 0.0208 - val_mean_squared_error: 0.0208 - val_mean_absolute_error: 0.1251\n",
            "Epoch 11/50\n",
            "8/8 [==============================] - 1s 188ms/step - loss: 0.0037 - mean_squared_error: 0.0037 - mean_absolute_error: 0.0366 - val_loss: 0.0131 - val_mean_squared_error: 0.0131 - val_mean_absolute_error: 0.0801\n",
            "Epoch 12/50\n",
            "8/8 [==============================] - 1s 183ms/step - loss: 0.0019 - mean_squared_error: 0.0019 - mean_absolute_error: 0.0247 - val_loss: 0.0107 - val_mean_squared_error: 0.0107 - val_mean_absolute_error: 0.0738\n",
            "Epoch 13/50\n",
            "8/8 [==============================] - 2s 190ms/step - loss: 0.0021 - mean_squared_error: 0.0021 - mean_absolute_error: 0.0254 - val_loss: 0.0108 - val_mean_squared_error: 0.0108 - val_mean_absolute_error: 0.0728\n",
            "Epoch 14/50\n",
            "8/8 [==============================] - 1s 183ms/step - loss: 0.0019 - mean_squared_error: 0.0019 - mean_absolute_error: 0.0239 - val_loss: 0.0096 - val_mean_squared_error: 0.0096 - val_mean_absolute_error: 0.0750\n",
            "Epoch 15/50\n",
            "8/8 [==============================] - 1s 186ms/step - loss: 0.0024 - mean_squared_error: 0.0024 - mean_absolute_error: 0.0282 - val_loss: 0.0105 - val_mean_squared_error: 0.0105 - val_mean_absolute_error: 0.0713\n",
            "Epoch 16/50\n",
            "8/8 [==============================] - 2s 191ms/step - loss: 0.0014 - mean_squared_error: 0.0014 - mean_absolute_error: 0.0217 - val_loss: 0.0117 - val_mean_squared_error: 0.0117 - val_mean_absolute_error: 0.0763\n",
            "Epoch 17/50\n",
            "8/8 [==============================] - 1s 168ms/step - loss: 0.0015 - mean_squared_error: 0.0015 - mean_absolute_error: 0.0229 - val_loss: 0.0092 - val_mean_squared_error: 0.0092 - val_mean_absolute_error: 0.0678\n",
            "Epoch 18/50\n",
            "8/8 [==============================] - 1s 160ms/step - loss: 0.0019 - mean_squared_error: 0.0019 - mean_absolute_error: 0.0243 - val_loss: 0.0091 - val_mean_squared_error: 0.0091 - val_mean_absolute_error: 0.0686\n",
            "Epoch 19/50\n",
            "8/8 [==============================] - 1s 185ms/step - loss: 0.0015 - mean_squared_error: 0.0015 - mean_absolute_error: 0.0219 - val_loss: 0.0081 - val_mean_squared_error: 0.0081 - val_mean_absolute_error: 0.0662\n",
            "Epoch 20/50\n",
            "8/8 [==============================] - 2s 183ms/step - loss: 0.0014 - mean_squared_error: 0.0014 - mean_absolute_error: 0.0215 - val_loss: 0.0092 - val_mean_squared_error: 0.0092 - val_mean_absolute_error: 0.0670\n",
            "Epoch 21/50\n",
            "8/8 [==============================] - 2s 198ms/step - loss: 0.0013 - mean_squared_error: 0.0013 - mean_absolute_error: 0.0201 - val_loss: 0.0092 - val_mean_squared_error: 0.0092 - val_mean_absolute_error: 0.0670\n",
            "Epoch 22/50\n",
            "8/8 [==============================] - 1s 179ms/step - loss: 0.0015 - mean_squared_error: 0.0015 - mean_absolute_error: 0.0225 - val_loss: 0.0091 - val_mean_squared_error: 0.0091 - val_mean_absolute_error: 0.0668\n",
            "Epoch 23/50\n",
            "8/8 [==============================] - 1s 185ms/step - loss: 0.0015 - mean_squared_error: 0.0015 - mean_absolute_error: 0.0214 - val_loss: 0.0089 - val_mean_squared_error: 0.0089 - val_mean_absolute_error: 0.0657\n",
            "Epoch 24/50\n",
            "8/8 [==============================] - 1s 188ms/step - loss: 0.0015 - mean_squared_error: 0.0015 - mean_absolute_error: 0.0221 - val_loss: 0.0108 - val_mean_squared_error: 0.0108 - val_mean_absolute_error: 0.0752\n",
            "Epoch 25/50\n",
            "8/8 [==============================] - 2s 191ms/step - loss: 0.0020 - mean_squared_error: 0.0020 - mean_absolute_error: 0.0256 - val_loss: 0.0083 - val_mean_squared_error: 0.0083 - val_mean_absolute_error: 0.0632\n",
            "Epoch 26/50\n",
            "8/8 [==============================] - 1s 180ms/step - loss: 0.0015 - mean_squared_error: 0.0015 - mean_absolute_error: 0.0217 - val_loss: 0.0075 - val_mean_squared_error: 0.0075 - val_mean_absolute_error: 0.0603\n",
            "Epoch 27/50\n",
            "8/8 [==============================] - 2s 193ms/step - loss: 0.0012 - mean_squared_error: 0.0012 - mean_absolute_error: 0.0201 - val_loss: 0.0075 - val_mean_squared_error: 0.0075 - val_mean_absolute_error: 0.0601\n",
            "Epoch 28/50\n",
            "8/8 [==============================] - 1s 182ms/step - loss: 0.0013 - mean_squared_error: 0.0013 - mean_absolute_error: 0.0203 - val_loss: 0.0073 - val_mean_squared_error: 0.0073 - val_mean_absolute_error: 0.0596\n",
            "Epoch 29/50\n",
            "8/8 [==============================] - 1s 189ms/step - loss: 0.0012 - mean_squared_error: 0.0012 - mean_absolute_error: 0.0195 - val_loss: 0.0098 - val_mean_squared_error: 0.0098 - val_mean_absolute_error: 0.0827\n",
            "Epoch 30/50\n",
            "8/8 [==============================] - 1s 183ms/step - loss: 0.0022 - mean_squared_error: 0.0022 - mean_absolute_error: 0.0269 - val_loss: 0.0070 - val_mean_squared_error: 0.0070 - val_mean_absolute_error: 0.0585\n",
            "Epoch 31/50\n",
            "8/8 [==============================] - 2s 198ms/step - loss: 0.0011 - mean_squared_error: 0.0011 - mean_absolute_error: 0.0191 - val_loss: 0.0094 - val_mean_squared_error: 0.0094 - val_mean_absolute_error: 0.0808\n",
            "Epoch 32/50\n",
            "8/8 [==============================] - 2s 195ms/step - loss: 0.0014 - mean_squared_error: 0.0014 - mean_absolute_error: 0.0217 - val_loss: 0.0069 - val_mean_squared_error: 0.0069 - val_mean_absolute_error: 0.0578\n",
            "Epoch 33/50\n",
            "8/8 [==============================] - 2s 188ms/step - loss: 0.0011 - mean_squared_error: 0.0011 - mean_absolute_error: 0.0190 - val_loss: 0.0079 - val_mean_squared_error: 0.0079 - val_mean_absolute_error: 0.0619\n",
            "Epoch 34/50\n",
            "8/8 [==============================] - 1s 166ms/step - loss: 0.0011 - mean_squared_error: 0.0011 - mean_absolute_error: 0.0195 - val_loss: 0.0066 - val_mean_squared_error: 0.0066 - val_mean_absolute_error: 0.0570\n",
            "Epoch 35/50\n",
            "8/8 [==============================] - 1s 166ms/step - loss: 0.0011 - mean_squared_error: 0.0011 - mean_absolute_error: 0.0185 - val_loss: 0.0064 - val_mean_squared_error: 0.0064 - val_mean_absolute_error: 0.0595\n",
            "Epoch 36/50\n",
            "8/8 [==============================] - 1s 181ms/step - loss: 0.0012 - mean_squared_error: 0.0012 - mean_absolute_error: 0.0199 - val_loss: 0.0065 - val_mean_squared_error: 0.0065 - val_mean_absolute_error: 0.0563\n",
            "Epoch 37/50\n",
            "8/8 [==============================] - 1s 193ms/step - loss: 0.0011 - mean_squared_error: 0.0011 - mean_absolute_error: 0.0186 - val_loss: 0.0065 - val_mean_squared_error: 0.0065 - val_mean_absolute_error: 0.0564\n",
            "Epoch 38/50\n",
            "8/8 [==============================] - 2s 192ms/step - loss: 0.0012 - mean_squared_error: 0.0012 - mean_absolute_error: 0.0193 - val_loss: 0.0062 - val_mean_squared_error: 0.0062 - val_mean_absolute_error: 0.0556\n",
            "Epoch 39/50\n",
            "8/8 [==============================] - 2s 200ms/step - loss: 0.0011 - mean_squared_error: 0.0011 - mean_absolute_error: 0.0181 - val_loss: 0.0071 - val_mean_squared_error: 0.0071 - val_mean_absolute_error: 0.0677\n",
            "Epoch 40/50\n",
            "8/8 [==============================] - 2s 198ms/step - loss: 0.0013 - mean_squared_error: 0.0013 - mean_absolute_error: 0.0217 - val_loss: 0.0059 - val_mean_squared_error: 0.0059 - val_mean_absolute_error: 0.0550\n",
            "Epoch 41/50\n",
            "8/8 [==============================] - 2s 204ms/step - loss: 0.0013 - mean_squared_error: 0.0013 - mean_absolute_error: 0.0199 - val_loss: 0.0060 - val_mean_squared_error: 0.0060 - val_mean_absolute_error: 0.0555\n",
            "Epoch 42/50\n",
            "8/8 [==============================] - 1s 186ms/step - loss: 0.0010 - mean_squared_error: 0.0010 - mean_absolute_error: 0.0181 - val_loss: 0.0074 - val_mean_squared_error: 0.0074 - val_mean_absolute_error: 0.0607\n",
            "Epoch 43/50\n",
            "8/8 [==============================] - 2s 191ms/step - loss: 0.0011 - mean_squared_error: 0.0011 - mean_absolute_error: 0.0197 - val_loss: 0.0070 - val_mean_squared_error: 0.0070 - val_mean_absolute_error: 0.0588\n",
            "Epoch 44/50\n",
            "8/8 [==============================] - 2s 198ms/step - loss: 8.9788e-04 - mean_squared_error: 8.9788e-04 - mean_absolute_error: 0.0174 - val_loss: 0.0059 - val_mean_squared_error: 0.0059 - val_mean_absolute_error: 0.0546\n",
            "Epoch 45/50\n",
            "8/8 [==============================] - 2s 195ms/step - loss: 9.0679e-04 - mean_squared_error: 9.0679e-04 - mean_absolute_error: 0.0166 - val_loss: 0.0059 - val_mean_squared_error: 0.0059 - val_mean_absolute_error: 0.0581\n",
            "Epoch 46/50\n",
            "8/8 [==============================] - 2s 190ms/step - loss: 0.0011 - mean_squared_error: 0.0011 - mean_absolute_error: 0.0197 - val_loss: 0.0057 - val_mean_squared_error: 0.0057 - val_mean_absolute_error: 0.0553\n",
            "Epoch 47/50\n",
            "8/8 [==============================] - 1s 182ms/step - loss: 9.1492e-04 - mean_squared_error: 9.1492e-04 - mean_absolute_error: 0.0165 - val_loss: 0.0058 - val_mean_squared_error: 0.0058 - val_mean_absolute_error: 0.0544\n",
            "Epoch 48/50\n",
            "8/8 [==============================] - 2s 190ms/step - loss: 8.0537e-04 - mean_squared_error: 8.0537e-04 - mean_absolute_error: 0.0164 - val_loss: 0.0058 - val_mean_squared_error: 0.0058 - val_mean_absolute_error: 0.0540\n",
            "Epoch 49/50\n",
            "8/8 [==============================] - 2s 198ms/step - loss: 9.0240e-04 - mean_squared_error: 9.0240e-04 - mean_absolute_error: 0.0176 - val_loss: 0.0061 - val_mean_squared_error: 0.0061 - val_mean_absolute_error: 0.0550\n",
            "Epoch 50/50\n",
            "8/8 [==============================] - 2s 206ms/step - loss: 8.4396e-04 - mean_squared_error: 8.4396e-04 - mean_absolute_error: 0.0166 - val_loss: 0.0064 - val_mean_squared_error: 0.0064 - val_mean_absolute_error: 0.0562\n"
          ],
          "name": "stdout"
        },
        {
          "output_type": "display_data",
          "data": {
            "text/html": [
              "<br/>Waiting for W&B process to finish, PID 6964<br/>Program ended successfully."
            ],
            "text/plain": [
              "<IPython.core.display.HTML object>"
            ]
          },
          "metadata": {
            "tags": []
          }
        },
        {
          "output_type": "display_data",
          "data": {
            "application/vnd.jupyter.widget-view+json": {
              "model_id": "4264e0c76a18498aa7ca50fd379589d2",
              "version_minor": 0,
              "version_major": 2
            },
            "text/plain": [
              "VBox(children=(Label(value=' 0.74MB of 0.74MB uploaded (0.00MB deduped)\\r'), FloatProgress(value=1.0, max=1.0)…"
            ]
          },
          "metadata": {
            "tags": []
          }
        },
        {
          "output_type": "display_data",
          "data": {
            "text/html": [
              "Find user logs for this run at: <code>/content/feeder_repo/wandb/run-20210719_131137-8xtc0zej/logs/debug.log</code>"
            ],
            "text/plain": [
              "<IPython.core.display.HTML object>"
            ]
          },
          "metadata": {
            "tags": []
          }
        },
        {
          "output_type": "display_data",
          "data": {
            "text/html": [
              "Find internal logs for this run at: <code>/content/feeder_repo/wandb/run-20210719_131137-8xtc0zej/logs/debug-internal.log</code>"
            ],
            "text/plain": [
              "<IPython.core.display.HTML object>"
            ]
          },
          "metadata": {
            "tags": []
          }
        },
        {
          "output_type": "display_data",
          "data": {
            "text/html": [
              "<h3>Run summary:</h3><br/><style>\n",
              "    table.wandb td:nth-child(1) { padding: 0 10px; text-align: right }\n",
              "    </style><table class=\"wandb\">\n",
              "<tr><td>epoch</td><td>49</td></tr><tr><td>loss</td><td>0.00082</td></tr><tr><td>mean_squared_error</td><td>0.00082</td></tr><tr><td>mean_absolute_error</td><td>0.01636</td></tr><tr><td>val_loss</td><td>0.00636</td></tr><tr><td>val_mean_squared_error</td><td>0.00636</td></tr><tr><td>val_mean_absolute_error</td><td>0.05617</td></tr><tr><td>_runtime</td><td>87</td></tr><tr><td>_timestamp</td><td>1626700384</td></tr><tr><td>_step</td><td>49</td></tr><tr><td>best_val_loss</td><td>0.00575</td></tr><tr><td>best_epoch</td><td>45</td></tr></table>"
            ],
            "text/plain": [
              "<IPython.core.display.HTML object>"
            ]
          },
          "metadata": {
            "tags": []
          }
        },
        {
          "output_type": "display_data",
          "data": {
            "text/html": [
              "<h3>Run history:</h3><br/><style>\n",
              "    table.wandb td:nth-child(1) { padding: 0 10px; text-align: right }\n",
              "    </style><table class=\"wandb\">\n",
              "<tr><td>epoch</td><td>▁▁▁▁▂▂▂▂▂▃▃▃▃▃▃▄▄▄▄▄▅▅▅▅▅▅▆▆▆▆▆▆▇▇▇▇▇███</td></tr><tr><td>loss</td><td>█▂▂▂▂▁▁▁▂▁▁▁▁▁▁▁▁▁▁▁▁▁▁▁▁▁▁▁▁▁▁▁▁▁▁▁▁▁▁▁</td></tr><tr><td>mean_squared_error</td><td>█▂▂▂▂▁▁▁▂▁▁▁▁▁▁▁▁▁▁▁▁▁▁▁▁▁▁▁▁▁▁▁▁▁▁▁▁▁▁▁</td></tr><tr><td>mean_absolute_error</td><td>█▃▃▃▂▂▂▂▂▂▂▂▂▂▂▂▁▂▁▁▁▁▁▁▁▁▁▁▁▁▁▁▁▁▁▁▁▁▁▁</td></tr><tr><td>val_loss</td><td>▆▇█▅▅▄▇▃▄▃▃▂▃▂▂▂▂▂▂▃▂▂▂▃▂▁▂▁▁▁▁▂▁▂▁▁▁▁▁▁</td></tr><tr><td>val_mean_squared_error</td><td>▆▇█▅▅▄▇▃▄▃▃▂▃▂▂▂▂▂▂▃▂▂▂▃▂▁▂▁▁▁▁▂▁▂▁▁▁▁▁▁</td></tr><tr><td>val_mean_absolute_error</td><td>▇▆█▅▅▄█▄▄▃▃▃▄▃▃▂▂▂▂▃▂▂▂▄▄▁▂▁▁▁▁▃▁▂▂▁▁▁▁▁</td></tr><tr><td>_runtime</td><td>▁▁▁▁▂▂▂▂▂▃▃▃▃▃▃▄▄▄▄▄▄▅▅▅▅▅▅▆▆▆▆▆▇▇▇▇▇███</td></tr><tr><td>_timestamp</td><td>▁▁▁▁▂▂▂▂▂▃▃▃▃▃▃▄▄▄▄▄▄▅▅▅▅▅▅▆▆▆▆▆▇▇▇▇▇███</td></tr><tr><td>_step</td><td>▁▁▁▁▂▂▂▂▂▃▃▃▃▃▃▄▄▄▄▄▅▅▅▅▅▅▆▆▆▆▆▆▇▇▇▇▇███</td></tr></table><br/>"
            ],
            "text/plain": [
              "<IPython.core.display.HTML object>"
            ]
          },
          "metadata": {
            "tags": []
          }
        },
        {
          "output_type": "display_data",
          "data": {
            "text/html": [
              "Synced 5 W&B file(s), 1 media file(s), 2 artifact file(s) and 2 other file(s)"
            ],
            "text/plain": [
              "<IPython.core.display.HTML object>"
            ]
          },
          "metadata": {
            "tags": []
          }
        },
        {
          "output_type": "display_data",
          "data": {
            "text/html": [
              "\n",
              "                    <br/>Synced <strong style=\"color:#cdcd00\">deep-sweep-25</strong>: <a href=\"https://wandb.ai/acse-jaq15/ACSE_9_LSTM_GRU/runs/8xtc0zej\" target=\"_blank\">https://wandb.ai/acse-jaq15/ACSE_9_LSTM_GRU/runs/8xtc0zej</a><br/>\n",
              "                "
            ],
            "text/plain": [
              "<IPython.core.display.HTML object>"
            ]
          },
          "metadata": {
            "tags": []
          }
        },
        {
          "output_type": "stream",
          "text": [
            "\u001b[34m\u001b[1mwandb\u001b[0m: Agent Starting Run: 4oiot8ky with config:\n",
            "\u001b[34m\u001b[1mwandb\u001b[0m: \tactivation: relu\n",
            "\u001b[34m\u001b[1mwandb\u001b[0m: \tbatch_size: 32\n",
            "\u001b[34m\u001b[1mwandb\u001b[0m: \tdropout: 0.2\n",
            "\u001b[34m\u001b[1mwandb\u001b[0m: \tepochs: 50\n",
            "\u001b[34m\u001b[1mwandb\u001b[0m: \tlearning_rate: 0.001\n",
            "\u001b[34m\u001b[1mwandb\u001b[0m: \toptimizer: adam\n"
          ],
          "name": "stderr"
        },
        {
          "output_type": "display_data",
          "data": {
            "text/html": [
              "\n",
              "                Tracking run with wandb version 0.11.0<br/>\n",
              "                Syncing run <strong style=\"color:#cdcd00\">neat-sweep-26</strong> to <a href=\"https://wandb.ai\" target=\"_blank\">Weights & Biases</a> <a href=\"https://docs.wandb.com/integrations/jupyter.html\" target=\"_blank\">(Documentation)</a>.<br/>\n",
              "                Project page: <a href=\"https://wandb.ai/acse-jaq15/ACSE_9_LSTM_GRU\" target=\"_blank\">https://wandb.ai/acse-jaq15/ACSE_9_LSTM_GRU</a><br/>\n",
              "                Sweep page: <a href=\"https://wandb.ai/acse-jaq15/ACSE_9_LSTM_GRU/sweeps/s5xopigt\" target=\"_blank\">https://wandb.ai/acse-jaq15/ACSE_9_LSTM_GRU/sweeps/s5xopigt</a><br/>\n",
              "Run page: <a href=\"https://wandb.ai/acse-jaq15/ACSE_9_LSTM_GRU/runs/4oiot8ky\" target=\"_blank\">https://wandb.ai/acse-jaq15/ACSE_9_LSTM_GRU/runs/4oiot8ky</a><br/>\n",
              "                Run data is saved locally in <code>/content/feeder_repo/wandb/run-20210719_131318-4oiot8ky</code><br/><br/>\n",
              "            "
            ],
            "text/plain": [
              "<IPython.core.display.HTML object>"
            ]
          },
          "metadata": {
            "tags": []
          }
        },
        {
          "output_type": "stream",
          "text": [
            "WARNING:tensorflow:Layer lstm will not use cuDNN kernels since it doesn't meet the criteria. It will use a generic GPU kernel as fallback when running on GPU.\n",
            "WARNING:tensorflow:Layer gru will not use cuDNN kernels since it doesn't meet the criteria. It will use a generic GPU kernel as fallback when running on GPU.\n",
            "Epoch 1/50\n",
            "31/31 [==============================] - 12s 228ms/step - loss: 0.0788 - mean_squared_error: 0.0788 - mean_absolute_error: 0.1711 - val_loss: 0.0242 - val_mean_squared_error: 0.0242 - val_mean_absolute_error: 0.1396\n",
            "Epoch 2/50\n",
            "31/31 [==============================] - 6s 187ms/step - loss: 0.0059 - mean_squared_error: 0.0059 - mean_absolute_error: 0.0539 - val_loss: 0.0126 - val_mean_squared_error: 0.0126 - val_mean_absolute_error: 0.0827\n",
            "Epoch 3/50\n",
            "31/31 [==============================] - 5s 176ms/step - loss: 0.0024 - mean_squared_error: 0.0024 - mean_absolute_error: 0.0313 - val_loss: 0.0082 - val_mean_squared_error: 0.0082 - val_mean_absolute_error: 0.0663\n",
            "Epoch 4/50\n",
            "31/31 [==============================] - 6s 185ms/step - loss: 0.0018 - mean_squared_error: 0.0018 - mean_absolute_error: 0.0248 - val_loss: 0.0082 - val_mean_squared_error: 0.0082 - val_mean_absolute_error: 0.0647\n",
            "Epoch 5/50\n",
            "31/31 [==============================] - 6s 186ms/step - loss: 0.0023 - mean_squared_error: 0.0023 - mean_absolute_error: 0.0277 - val_loss: 0.0078 - val_mean_squared_error: 0.0078 - val_mean_absolute_error: 0.0620\n",
            "Epoch 6/50\n",
            "31/31 [==============================] - 6s 187ms/step - loss: 0.0020 - mean_squared_error: 0.0020 - mean_absolute_error: 0.0267 - val_loss: 0.0080 - val_mean_squared_error: 0.0080 - val_mean_absolute_error: 0.0624\n",
            "Epoch 7/50\n",
            "31/31 [==============================] - 6s 179ms/step - loss: 0.0016 - mean_squared_error: 0.0016 - mean_absolute_error: 0.0240 - val_loss: 0.0088 - val_mean_squared_error: 0.0088 - val_mean_absolute_error: 0.0655\n",
            "Epoch 8/50\n",
            "31/31 [==============================] - 6s 180ms/step - loss: 0.0019 - mean_squared_error: 0.0019 - mean_absolute_error: 0.0271 - val_loss: 0.0088 - val_mean_squared_error: 0.0088 - val_mean_absolute_error: 0.0654\n",
            "Epoch 9/50\n",
            "31/31 [==============================] - 6s 189ms/step - loss: 0.0020 - mean_squared_error: 0.0020 - mean_absolute_error: 0.0258 - val_loss: 0.0082 - val_mean_squared_error: 0.0082 - val_mean_absolute_error: 0.0629\n",
            "Epoch 10/50\n",
            "31/31 [==============================] - 6s 179ms/step - loss: 0.0021 - mean_squared_error: 0.0021 - mean_absolute_error: 0.0257 - val_loss: 0.0088 - val_mean_squared_error: 0.0088 - val_mean_absolute_error: 0.0656\n",
            "Epoch 11/50\n",
            "31/31 [==============================] - 6s 179ms/step - loss: 0.0016 - mean_squared_error: 0.0016 - mean_absolute_error: 0.0239 - val_loss: 0.0075 - val_mean_squared_error: 0.0075 - val_mean_absolute_error: 0.0602\n",
            "Epoch 12/50\n",
            "31/31 [==============================] - 5s 174ms/step - loss: 0.0011 - mean_squared_error: 0.0011 - mean_absolute_error: 0.0199 - val_loss: 0.0070 - val_mean_squared_error: 0.0070 - val_mean_absolute_error: 0.0607\n",
            "Epoch 13/50\n",
            "31/31 [==============================] - 6s 183ms/step - loss: 0.0016 - mean_squared_error: 0.0016 - mean_absolute_error: 0.0227 - val_loss: 0.0073 - val_mean_squared_error: 0.0073 - val_mean_absolute_error: 0.0662\n",
            "Epoch 14/50\n",
            "31/31 [==============================] - 5s 176ms/step - loss: 0.0017 - mean_squared_error: 0.0017 - mean_absolute_error: 0.0241 - val_loss: 0.0069 - val_mean_squared_error: 0.0069 - val_mean_absolute_error: 0.0610\n",
            "Epoch 15/50\n",
            "31/31 [==============================] - 6s 184ms/step - loss: 0.0012 - mean_squared_error: 0.0012 - mean_absolute_error: 0.0207 - val_loss: 0.0067 - val_mean_squared_error: 0.0067 - val_mean_absolute_error: 0.0620\n",
            "Epoch 16/50\n",
            "31/31 [==============================] - 6s 189ms/step - loss: 0.0015 - mean_squared_error: 0.0015 - mean_absolute_error: 0.0220 - val_loss: 0.0077 - val_mean_squared_error: 0.0077 - val_mean_absolute_error: 0.0610\n",
            "Epoch 17/50\n",
            "31/31 [==============================] - 6s 178ms/step - loss: 0.0015 - mean_squared_error: 0.0015 - mean_absolute_error: 0.0229 - val_loss: 0.0080 - val_mean_squared_error: 0.0080 - val_mean_absolute_error: 0.0627\n",
            "Epoch 18/50\n",
            "31/31 [==============================] - 5s 177ms/step - loss: 0.0015 - mean_squared_error: 0.0015 - mean_absolute_error: 0.0226 - val_loss: 0.0072 - val_mean_squared_error: 0.0072 - val_mean_absolute_error: 0.0666\n",
            "Epoch 19/50\n",
            "31/31 [==============================] - 5s 169ms/step - loss: 0.0011 - mean_squared_error: 0.0011 - mean_absolute_error: 0.0197 - val_loss: 0.0065 - val_mean_squared_error: 0.0065 - val_mean_absolute_error: 0.0599\n",
            "Epoch 20/50\n",
            "31/31 [==============================] - 6s 181ms/step - loss: 0.0012 - mean_squared_error: 0.0012 - mean_absolute_error: 0.0205 - val_loss: 0.0065 - val_mean_squared_error: 0.0065 - val_mean_absolute_error: 0.0576\n",
            "Epoch 21/50\n",
            "31/31 [==============================] - 5s 171ms/step - loss: 0.0013 - mean_squared_error: 0.0013 - mean_absolute_error: 0.0217 - val_loss: 0.0067 - val_mean_squared_error: 0.0067 - val_mean_absolute_error: 0.0624\n",
            "Epoch 22/50\n",
            "31/31 [==============================] - 6s 181ms/step - loss: 0.0012 - mean_squared_error: 0.0012 - mean_absolute_error: 0.0206 - val_loss: 0.0066 - val_mean_squared_error: 0.0066 - val_mean_absolute_error: 0.0576\n",
            "Epoch 23/50\n",
            "31/31 [==============================] - 6s 194ms/step - loss: 0.0013 - mean_squared_error: 0.0013 - mean_absolute_error: 0.0211 - val_loss: 0.0064 - val_mean_squared_error: 0.0064 - val_mean_absolute_error: 0.0581\n",
            "Epoch 24/50\n",
            "31/31 [==============================] - 6s 194ms/step - loss: 0.0010 - mean_squared_error: 0.0010 - mean_absolute_error: 0.0192 - val_loss: 0.0065 - val_mean_squared_error: 0.0065 - val_mean_absolute_error: 0.0585\n",
            "Epoch 25/50\n",
            "31/31 [==============================] - 6s 188ms/step - loss: 0.0011 - mean_squared_error: 0.0011 - mean_absolute_error: 0.0199 - val_loss: 0.0070 - val_mean_squared_error: 0.0070 - val_mean_absolute_error: 0.0586\n",
            "Epoch 26/50\n",
            "31/31 [==============================] - 6s 184ms/step - loss: 0.0011 - mean_squared_error: 0.0011 - mean_absolute_error: 0.0209 - val_loss: 0.0067 - val_mean_squared_error: 0.0067 - val_mean_absolute_error: 0.0573\n",
            "Epoch 27/50\n",
            "31/31 [==============================] - 6s 182ms/step - loss: 0.0013 - mean_squared_error: 0.0013 - mean_absolute_error: 0.0204 - val_loss: 0.0063 - val_mean_squared_error: 0.0063 - val_mean_absolute_error: 0.0570\n",
            "Epoch 28/50\n",
            "31/31 [==============================] - 6s 181ms/step - loss: 0.0012 - mean_squared_error: 0.0012 - mean_absolute_error: 0.0198 - val_loss: 0.0082 - val_mean_squared_error: 0.0082 - val_mean_absolute_error: 0.0639\n",
            "Epoch 29/50\n",
            "31/31 [==============================] - 6s 181ms/step - loss: 0.0015 - mean_squared_error: 0.0015 - mean_absolute_error: 0.0232 - val_loss: 0.0065 - val_mean_squared_error: 0.0065 - val_mean_absolute_error: 0.0569\n",
            "Epoch 30/50\n",
            "31/31 [==============================] - 6s 183ms/step - loss: 0.0012 - mean_squared_error: 0.0012 - mean_absolute_error: 0.0201 - val_loss: 0.0062 - val_mean_squared_error: 0.0062 - val_mean_absolute_error: 0.0589\n",
            "Epoch 31/50\n",
            "31/31 [==============================] - 5s 177ms/step - loss: 0.0010 - mean_squared_error: 0.0010 - mean_absolute_error: 0.0198 - val_loss: 0.0060 - val_mean_squared_error: 0.0060 - val_mean_absolute_error: 0.0558\n",
            "Epoch 32/50\n",
            "31/31 [==============================] - 6s 193ms/step - loss: 0.0010 - mean_squared_error: 0.0010 - mean_absolute_error: 0.0204 - val_loss: 0.0063 - val_mean_squared_error: 0.0063 - val_mean_absolute_error: 0.0577\n",
            "Epoch 33/50\n",
            "31/31 [==============================] - 6s 183ms/step - loss: 0.0011 - mean_squared_error: 0.0011 - mean_absolute_error: 0.0187 - val_loss: 0.0074 - val_mean_squared_error: 0.0074 - val_mean_absolute_error: 0.0693\n",
            "Epoch 34/50\n",
            "31/31 [==============================] - 6s 189ms/step - loss: 0.0016 - mean_squared_error: 0.0016 - mean_absolute_error: 0.0235 - val_loss: 0.0066 - val_mean_squared_error: 0.0066 - val_mean_absolute_error: 0.0564\n",
            "Epoch 35/50\n",
            "31/31 [==============================] - 6s 183ms/step - loss: 0.0013 - mean_squared_error: 0.0013 - mean_absolute_error: 0.0206 - val_loss: 0.0060 - val_mean_squared_error: 0.0060 - val_mean_absolute_error: 0.0554\n",
            "Epoch 36/50\n",
            "31/31 [==============================] - 6s 193ms/step - loss: 0.0012 - mean_squared_error: 0.0012 - mean_absolute_error: 0.0214 - val_loss: 0.0062 - val_mean_squared_error: 0.0062 - val_mean_absolute_error: 0.0559\n",
            "Epoch 37/50\n",
            "31/31 [==============================] - 6s 185ms/step - loss: 0.0014 - mean_squared_error: 0.0014 - mean_absolute_error: 0.0218 - val_loss: 0.0078 - val_mean_squared_error: 0.0078 - val_mean_absolute_error: 0.0630\n",
            "Epoch 38/50\n",
            "31/31 [==============================] - 6s 187ms/step - loss: 0.0010 - mean_squared_error: 0.0010 - mean_absolute_error: 0.0188 - val_loss: 0.0076 - val_mean_squared_error: 0.0076 - val_mean_absolute_error: 0.0625\n",
            "Epoch 39/50\n",
            "31/31 [==============================] - 5s 177ms/step - loss: 0.0011 - mean_squared_error: 0.0011 - mean_absolute_error: 0.0199 - val_loss: 0.0060 - val_mean_squared_error: 0.0060 - val_mean_absolute_error: 0.0564\n",
            "Epoch 40/50\n",
            "31/31 [==============================] - 6s 184ms/step - loss: 0.0011 - mean_squared_error: 0.0011 - mean_absolute_error: 0.0197 - val_loss: 0.0066 - val_mean_squared_error: 0.0066 - val_mean_absolute_error: 0.0568\n",
            "Epoch 41/50\n",
            "31/31 [==============================] - 5s 176ms/step - loss: 8.8377e-04 - mean_squared_error: 8.8377e-04 - mean_absolute_error: 0.0185 - val_loss: 0.0065 - val_mean_squared_error: 0.0065 - val_mean_absolute_error: 0.0568\n"
          ],
          "name": "stdout"
        },
        {
          "output_type": "display_data",
          "data": {
            "text/html": [
              "<br/>Waiting for W&B process to finish, PID 7177<br/>Program ended successfully."
            ],
            "text/plain": [
              "<IPython.core.display.HTML object>"
            ]
          },
          "metadata": {
            "tags": []
          }
        },
        {
          "output_type": "display_data",
          "data": {
            "application/vnd.jupyter.widget-view+json": {
              "model_id": "3175ef1deb19436cad8ce0a6ca565bd5",
              "version_minor": 0,
              "version_major": 2
            },
            "text/plain": [
              "VBox(children=(Label(value=' 0.77MB of 0.77MB uploaded (0.00MB deduped)\\r'), FloatProgress(value=1.0, max=1.0)…"
            ]
          },
          "metadata": {
            "tags": []
          }
        },
        {
          "output_type": "display_data",
          "data": {
            "text/html": [
              "Find user logs for this run at: <code>/content/feeder_repo/wandb/run-20210719_131318-4oiot8ky/logs/debug.log</code>"
            ],
            "text/plain": [
              "<IPython.core.display.HTML object>"
            ]
          },
          "metadata": {
            "tags": []
          }
        },
        {
          "output_type": "display_data",
          "data": {
            "text/html": [
              "Find internal logs for this run at: <code>/content/feeder_repo/wandb/run-20210719_131318-4oiot8ky/logs/debug-internal.log</code>"
            ],
            "text/plain": [
              "<IPython.core.display.HTML object>"
            ]
          },
          "metadata": {
            "tags": []
          }
        },
        {
          "output_type": "display_data",
          "data": {
            "text/html": [
              "<h3>Run summary:</h3><br/><style>\n",
              "    table.wandb td:nth-child(1) { padding: 0 10px; text-align: right }\n",
              "    </style><table class=\"wandb\">\n",
              "<tr><td>epoch</td><td>40</td></tr><tr><td>loss</td><td>0.00099</td></tr><tr><td>mean_squared_error</td><td>0.00099</td></tr><tr><td>mean_absolute_error</td><td>0.01908</td></tr><tr><td>val_loss</td><td>0.00655</td></tr><tr><td>val_mean_squared_error</td><td>0.00655</td></tr><tr><td>val_mean_absolute_error</td><td>0.05683</td></tr><tr><td>_runtime</td><td>244</td></tr><tr><td>_timestamp</td><td>1626700642</td></tr><tr><td>_step</td><td>40</td></tr><tr><td>best_val_loss</td><td>0.00599</td></tr><tr><td>best_epoch</td><td>30</td></tr></table>"
            ],
            "text/plain": [
              "<IPython.core.display.HTML object>"
            ]
          },
          "metadata": {
            "tags": []
          }
        },
        {
          "output_type": "display_data",
          "data": {
            "text/html": [
              "<h3>Run history:</h3><br/><style>\n",
              "    table.wandb td:nth-child(1) { padding: 0 10px; text-align: right }\n",
              "    </style><table class=\"wandb\">\n",
              "<tr><td>epoch</td><td>▁▁▁▂▂▂▂▂▂▃▃▃▃▃▃▄▄▄▄▄▅▅▅▅▅▅▆▆▆▆▆▆▇▇▇▇▇▇██</td></tr><tr><td>loss</td><td>█▂▁▁▁▁▁▁▁▁▁▁▁▁▁▁▁▁▁▁▁▁▁▁▁▁▁▁▁▁▁▁▁▁▁▁▁▁▁▁</td></tr><tr><td>mean_squared_error</td><td>█▂▁▁▁▁▁▁▁▁▁▁▁▁▁▁▁▁▁▁▁▁▁▁▁▁▁▁▁▁▁▁▁▁▁▁▁▁▁▁</td></tr><tr><td>mean_absolute_error</td><td>█▂▂▁▁▁▁▁▁▁▁▁▁▁▁▁▁▁▁▁▁▁▁▁▁▁▁▁▁▁▁▁▁▁▁▁▁▁▁▁</td></tr><tr><td>val_loss</td><td>█▄▂▂▂▂▂▂▂▂▂▁▁▁▁▂▂▁▁▁▁▁▁▁▁▁▁▂▁▁▁▁▂▁▁▁▂▂▁▁</td></tr><tr><td>val_mean_squared_error</td><td>█▄▂▂▂▂▂▂▂▂▂▁▁▁▁▂▂▁▁▁▁▁▁▁▁▁▁▂▁▁▁▁▂▁▁▁▂▂▁▁</td></tr><tr><td>val_mean_absolute_error</td><td>█▃▂▂▂▂▂▂▂▂▁▁▂▁▂▁▂▂▁▁▂▁▁▁▁▁▁▂▁▁▁▁▂▁▁▁▂▂▁▁</td></tr><tr><td>_runtime</td><td>▁▁▁▂▂▂▂▂▂▃▃▃▃▃▃▄▄▄▄▄▄▅▅▅▅▅▆▆▆▆▆▆▇▇▇▇▇▇██</td></tr><tr><td>_timestamp</td><td>▁▁▁▂▂▂▂▂▂▃▃▃▃▃▃▄▄▄▄▄▄▅▅▅▅▅▆▆▆▆▆▆▇▇▇▇▇▇██</td></tr><tr><td>_step</td><td>▁▁▁▂▂▂▂▂▂▃▃▃▃▃▃▄▄▄▄▄▅▅▅▅▅▅▆▆▆▆▆▆▇▇▇▇▇▇██</td></tr></table><br/>"
            ],
            "text/plain": [
              "<IPython.core.display.HTML object>"
            ]
          },
          "metadata": {
            "tags": []
          }
        },
        {
          "output_type": "display_data",
          "data": {
            "text/html": [
              "Synced 5 W&B file(s), 1 media file(s), 2 artifact file(s) and 2 other file(s)"
            ],
            "text/plain": [
              "<IPython.core.display.HTML object>"
            ]
          },
          "metadata": {
            "tags": []
          }
        },
        {
          "output_type": "display_data",
          "data": {
            "text/html": [
              "\n",
              "                    <br/>Synced <strong style=\"color:#cdcd00\">neat-sweep-26</strong>: <a href=\"https://wandb.ai/acse-jaq15/ACSE_9_LSTM_GRU/runs/4oiot8ky\" target=\"_blank\">https://wandb.ai/acse-jaq15/ACSE_9_LSTM_GRU/runs/4oiot8ky</a><br/>\n",
              "                "
            ],
            "text/plain": [
              "<IPython.core.display.HTML object>"
            ]
          },
          "metadata": {
            "tags": []
          }
        },
        {
          "output_type": "stream",
          "text": [
            "\u001b[34m\u001b[1mwandb\u001b[0m: Agent Starting Run: u6dsnbvi with config:\n",
            "\u001b[34m\u001b[1mwandb\u001b[0m: \tactivation: relu\n",
            "\u001b[34m\u001b[1mwandb\u001b[0m: \tbatch_size: 128\n",
            "\u001b[34m\u001b[1mwandb\u001b[0m: \tdropout: 0.1\n",
            "\u001b[34m\u001b[1mwandb\u001b[0m: \tepochs: 200\n",
            "\u001b[34m\u001b[1mwandb\u001b[0m: \tlearning_rate: 0.0005\n",
            "\u001b[34m\u001b[1mwandb\u001b[0m: \toptimizer: adam\n"
          ],
          "name": "stderr"
        },
        {
          "output_type": "display_data",
          "data": {
            "text/html": [
              "\n",
              "                Tracking run with wandb version 0.11.0<br/>\n",
              "                Syncing run <strong style=\"color:#cdcd00\">feasible-sweep-27</strong> to <a href=\"https://wandb.ai\" target=\"_blank\">Weights & Biases</a> <a href=\"https://docs.wandb.com/integrations/jupyter.html\" target=\"_blank\">(Documentation)</a>.<br/>\n",
              "                Project page: <a href=\"https://wandb.ai/acse-jaq15/ACSE_9_LSTM_GRU\" target=\"_blank\">https://wandb.ai/acse-jaq15/ACSE_9_LSTM_GRU</a><br/>\n",
              "                Sweep page: <a href=\"https://wandb.ai/acse-jaq15/ACSE_9_LSTM_GRU/sweeps/s5xopigt\" target=\"_blank\">https://wandb.ai/acse-jaq15/ACSE_9_LSTM_GRU/sweeps/s5xopigt</a><br/>\n",
              "Run page: <a href=\"https://wandb.ai/acse-jaq15/ACSE_9_LSTM_GRU/runs/u6dsnbvi\" target=\"_blank\">https://wandb.ai/acse-jaq15/ACSE_9_LSTM_GRU/runs/u6dsnbvi</a><br/>\n",
              "                Run data is saved locally in <code>/content/feeder_repo/wandb/run-20210719_131734-u6dsnbvi</code><br/><br/>\n",
              "            "
            ],
            "text/plain": [
              "<IPython.core.display.HTML object>"
            ]
          },
          "metadata": {
            "tags": []
          }
        },
        {
          "output_type": "stream",
          "text": [
            "WARNING:tensorflow:Layer lstm will not use cuDNN kernels since it doesn't meet the criteria. It will use a generic GPU kernel as fallback when running on GPU.\n",
            "WARNING:tensorflow:Layer gru will not use cuDNN kernels since it doesn't meet the criteria. It will use a generic GPU kernel as fallback when running on GPU.\n",
            "Epoch 1/200\n",
            "8/8 [==============================] - 8s 369ms/step - loss: 0.1282 - mean_squared_error: 0.1282 - mean_absolute_error: 0.2230 - val_loss: 0.3664 - val_mean_squared_error: 0.3664 - val_mean_absolute_error: 0.5643\n",
            "Epoch 2/200\n",
            "8/8 [==============================] - 2s 186ms/step - loss: 0.1002 - mean_squared_error: 0.1002 - mean_absolute_error: 0.1965 - val_loss: 0.2542 - val_mean_squared_error: 0.2542 - val_mean_absolute_error: 0.4664\n",
            "Epoch 3/200\n",
            "8/8 [==============================] - 2s 194ms/step - loss: 0.0615 - mean_squared_error: 0.0615 - mean_absolute_error: 0.1642 - val_loss: 0.1308 - val_mean_squared_error: 0.1308 - val_mean_absolute_error: 0.3342\n",
            "Epoch 4/200\n",
            "8/8 [==============================] - 1s 169ms/step - loss: 0.0351 - mean_squared_error: 0.0351 - mean_absolute_error: 0.1441 - val_loss: 0.0262 - val_mean_squared_error: 0.0262 - val_mean_absolute_error: 0.1457\n",
            "Epoch 5/200\n",
            "8/8 [==============================] - 1s 181ms/step - loss: 0.0157 - mean_squared_error: 0.0157 - mean_absolute_error: 0.1137 - val_loss: 0.0116 - val_mean_squared_error: 0.0116 - val_mean_absolute_error: 0.0770\n",
            "Epoch 6/200\n",
            "8/8 [==============================] - 1s 181ms/step - loss: 0.0073 - mean_squared_error: 0.0073 - mean_absolute_error: 0.0752 - val_loss: 0.0088 - val_mean_squared_error: 0.0088 - val_mean_absolute_error: 0.0770\n",
            "Epoch 7/200\n",
            "8/8 [==============================] - 1s 186ms/step - loss: 0.0032 - mean_squared_error: 0.0032 - mean_absolute_error: 0.0420 - val_loss: 0.0112 - val_mean_squared_error: 0.0112 - val_mean_absolute_error: 0.0729\n",
            "Epoch 8/200\n",
            "8/8 [==============================] - 2s 201ms/step - loss: 0.0025 - mean_squared_error: 0.0025 - mean_absolute_error: 0.0322 - val_loss: 0.0075 - val_mean_squared_error: 0.0075 - val_mean_absolute_error: 0.0668\n",
            "Epoch 9/200\n",
            "8/8 [==============================] - 2s 187ms/step - loss: 0.0026 - mean_squared_error: 0.0026 - mean_absolute_error: 0.0321 - val_loss: 0.0096 - val_mean_squared_error: 0.0096 - val_mean_absolute_error: 0.0690\n",
            "Epoch 10/200\n",
            "8/8 [==============================] - 1s 183ms/step - loss: 0.0020 - mean_squared_error: 0.0020 - mean_absolute_error: 0.0300 - val_loss: 0.0073 - val_mean_squared_error: 0.0073 - val_mean_absolute_error: 0.0635\n",
            "Epoch 11/200\n",
            "8/8 [==============================] - 1s 164ms/step - loss: 0.0020 - mean_squared_error: 0.0020 - mean_absolute_error: 0.0260 - val_loss: 0.0078 - val_mean_squared_error: 0.0078 - val_mean_absolute_error: 0.0625\n",
            "Epoch 12/200\n",
            "8/8 [==============================] - 1s 177ms/step - loss: 0.0015 - mean_squared_error: 0.0015 - mean_absolute_error: 0.0243 - val_loss: 0.0071 - val_mean_squared_error: 0.0071 - val_mean_absolute_error: 0.0625\n",
            "Epoch 13/200\n",
            "8/8 [==============================] - 1s 186ms/step - loss: 0.0012 - mean_squared_error: 0.0012 - mean_absolute_error: 0.0209 - val_loss: 0.0078 - val_mean_squared_error: 0.0078 - val_mean_absolute_error: 0.0628\n",
            "Epoch 14/200\n",
            "8/8 [==============================] - 1s 189ms/step - loss: 0.0011 - mean_squared_error: 0.0011 - mean_absolute_error: 0.0208 - val_loss: 0.0071 - val_mean_squared_error: 0.0071 - val_mean_absolute_error: 0.0607\n",
            "Epoch 15/200\n",
            "8/8 [==============================] - 2s 189ms/step - loss: 0.0013 - mean_squared_error: 0.0013 - mean_absolute_error: 0.0214 - val_loss: 0.0075 - val_mean_squared_error: 0.0075 - val_mean_absolute_error: 0.0614\n",
            "Epoch 16/200\n",
            "8/8 [==============================] - 2s 198ms/step - loss: 0.0012 - mean_squared_error: 0.0012 - mean_absolute_error: 0.0214 - val_loss: 0.0070 - val_mean_squared_error: 0.0070 - val_mean_absolute_error: 0.0600\n",
            "Epoch 17/200\n",
            "8/8 [==============================] - 2s 191ms/step - loss: 0.0012 - mean_squared_error: 0.0012 - mean_absolute_error: 0.0205 - val_loss: 0.0068 - val_mean_squared_error: 0.0068 - val_mean_absolute_error: 0.0604\n",
            "Epoch 18/200\n",
            "8/8 [==============================] - 1s 183ms/step - loss: 0.0014 - mean_squared_error: 0.0014 - mean_absolute_error: 0.0223 - val_loss: 0.0074 - val_mean_squared_error: 0.0074 - val_mean_absolute_error: 0.0612\n",
            "Epoch 19/200\n",
            "8/8 [==============================] - 2s 199ms/step - loss: 0.0012 - mean_squared_error: 0.0012 - mean_absolute_error: 0.0206 - val_loss: 0.0069 - val_mean_squared_error: 0.0069 - val_mean_absolute_error: 0.0602\n",
            "Epoch 20/200\n",
            "8/8 [==============================] - 2s 188ms/step - loss: 0.0011 - mean_squared_error: 0.0011 - mean_absolute_error: 0.0194 - val_loss: 0.0072 - val_mean_squared_error: 0.0072 - val_mean_absolute_error: 0.0606\n",
            "Epoch 21/200\n",
            "8/8 [==============================] - 1s 172ms/step - loss: 0.0011 - mean_squared_error: 0.0011 - mean_absolute_error: 0.0199 - val_loss: 0.0072 - val_mean_squared_error: 0.0072 - val_mean_absolute_error: 0.0604\n",
            "Epoch 22/200\n",
            "8/8 [==============================] - 2s 187ms/step - loss: 9.8593e-04 - mean_squared_error: 9.8593e-04 - mean_absolute_error: 0.0191 - val_loss: 0.0069 - val_mean_squared_error: 0.0069 - val_mean_absolute_error: 0.0599\n",
            "Epoch 23/200\n",
            "8/8 [==============================] - 1s 187ms/step - loss: 9.6739e-04 - mean_squared_error: 9.6739e-04 - mean_absolute_error: 0.0185 - val_loss: 0.0076 - val_mean_squared_error: 0.0076 - val_mean_absolute_error: 0.0619\n",
            "Epoch 24/200\n",
            "8/8 [==============================] - 2s 208ms/step - loss: 0.0010 - mean_squared_error: 0.0010 - mean_absolute_error: 0.0200 - val_loss: 0.0068 - val_mean_squared_error: 0.0068 - val_mean_absolute_error: 0.0606\n",
            "Epoch 25/200\n",
            "8/8 [==============================] - 2s 186ms/step - loss: 0.0012 - mean_squared_error: 0.0012 - mean_absolute_error: 0.0205 - val_loss: 0.0074 - val_mean_squared_error: 0.0074 - val_mean_absolute_error: 0.0613\n",
            "Epoch 26/200\n",
            "8/8 [==============================] - 1s 187ms/step - loss: 0.0012 - mean_squared_error: 0.0012 - mean_absolute_error: 0.0211 - val_loss: 0.0070 - val_mean_squared_error: 0.0070 - val_mean_absolute_error: 0.0599\n",
            "Epoch 27/200\n",
            "8/8 [==============================] - 1s 188ms/step - loss: 8.5821e-04 - mean_squared_error: 8.5821e-04 - mean_absolute_error: 0.0179 - val_loss: 0.0068 - val_mean_squared_error: 0.0068 - val_mean_absolute_error: 0.0603\n",
            "Epoch 28/200\n",
            "8/8 [==============================] - 1s 174ms/step - loss: 0.0012 - mean_squared_error: 0.0012 - mean_absolute_error: 0.0205 - val_loss: 0.0072 - val_mean_squared_error: 0.0072 - val_mean_absolute_error: 0.0605\n",
            "Epoch 29/200\n",
            "8/8 [==============================] - 1s 185ms/step - loss: 0.0013 - mean_squared_error: 0.0013 - mean_absolute_error: 0.0215 - val_loss: 0.0067 - val_mean_squared_error: 0.0067 - val_mean_absolute_error: 0.0598\n",
            "Epoch 30/200\n",
            "8/8 [==============================] - 1s 179ms/step - loss: 0.0011 - mean_squared_error: 0.0011 - mean_absolute_error: 0.0195 - val_loss: 0.0067 - val_mean_squared_error: 0.0067 - val_mean_absolute_error: 0.0602\n",
            "Epoch 31/200\n",
            "8/8 [==============================] - 1s 178ms/step - loss: 0.0013 - mean_squared_error: 0.0013 - mean_absolute_error: 0.0204 - val_loss: 0.0079 - val_mean_squared_error: 0.0079 - val_mean_absolute_error: 0.0630\n",
            "Epoch 32/200\n",
            "8/8 [==============================] - 1s 173ms/step - loss: 0.0010 - mean_squared_error: 0.0010 - mean_absolute_error: 0.0193 - val_loss: 0.0067 - val_mean_squared_error: 0.0067 - val_mean_absolute_error: 0.0614\n",
            "Epoch 33/200\n",
            "8/8 [==============================] - 1s 176ms/step - loss: 0.0012 - mean_squared_error: 0.0012 - mean_absolute_error: 0.0201 - val_loss: 0.0072 - val_mean_squared_error: 0.0072 - val_mean_absolute_error: 0.0607\n",
            "Epoch 34/200\n",
            "8/8 [==============================] - 2s 196ms/step - loss: 0.0011 - mean_squared_error: 0.0011 - mean_absolute_error: 0.0193 - val_loss: 0.0068 - val_mean_squared_error: 0.0068 - val_mean_absolute_error: 0.0596\n",
            "Epoch 35/200\n",
            "8/8 [==============================] - 1s 163ms/step - loss: 0.0011 - mean_squared_error: 0.0011 - mean_absolute_error: 0.0201 - val_loss: 0.0070 - val_mean_squared_error: 0.0070 - val_mean_absolute_error: 0.0599\n",
            "Epoch 36/200\n",
            "8/8 [==============================] - 1s 170ms/step - loss: 9.1274e-04 - mean_squared_error: 9.1274e-04 - mean_absolute_error: 0.0183 - val_loss: 0.0069 - val_mean_squared_error: 0.0069 - val_mean_absolute_error: 0.0596\n",
            "Epoch 37/200\n",
            "8/8 [==============================] - 2s 195ms/step - loss: 0.0010 - mean_squared_error: 0.0010 - mean_absolute_error: 0.0184 - val_loss: 0.0069 - val_mean_squared_error: 0.0069 - val_mean_absolute_error: 0.0596\n",
            "Epoch 38/200\n",
            "8/8 [==============================] - 2s 198ms/step - loss: 0.0010 - mean_squared_error: 0.0010 - mean_absolute_error: 0.0187 - val_loss: 0.0067 - val_mean_squared_error: 0.0067 - val_mean_absolute_error: 0.0595\n",
            "Epoch 39/200\n",
            "8/8 [==============================] - 2s 195ms/step - loss: 0.0011 - mean_squared_error: 0.0011 - mean_absolute_error: 0.0190 - val_loss: 0.0068 - val_mean_squared_error: 0.0068 - val_mean_absolute_error: 0.0593\n",
            "Epoch 40/200\n",
            "8/8 [==============================] - 2s 197ms/step - loss: 0.0011 - mean_squared_error: 0.0011 - mean_absolute_error: 0.0195 - val_loss: 0.0068 - val_mean_squared_error: 0.0068 - val_mean_absolute_error: 0.0594\n",
            "Epoch 41/200\n",
            "8/8 [==============================] - 1s 190ms/step - loss: 0.0011 - mean_squared_error: 0.0011 - mean_absolute_error: 0.0190 - val_loss: 0.0068 - val_mean_squared_error: 0.0068 - val_mean_absolute_error: 0.0592\n",
            "Epoch 42/200\n",
            "8/8 [==============================] - 2s 194ms/step - loss: 9.8714e-04 - mean_squared_error: 9.8714e-04 - mean_absolute_error: 0.0186 - val_loss: 0.0071 - val_mean_squared_error: 0.0071 - val_mean_absolute_error: 0.0602\n",
            "Epoch 43/200\n",
            "8/8 [==============================] - 2s 195ms/step - loss: 0.0011 - mean_squared_error: 0.0011 - mean_absolute_error: 0.0191 - val_loss: 0.0068 - val_mean_squared_error: 0.0068 - val_mean_absolute_error: 0.0640\n",
            "Epoch 44/200\n",
            "8/8 [==============================] - 1s 186ms/step - loss: 0.0013 - mean_squared_error: 0.0013 - mean_absolute_error: 0.0205 - val_loss: 0.0072 - val_mean_squared_error: 0.0072 - val_mean_absolute_error: 0.0606\n",
            "Epoch 45/200\n",
            "8/8 [==============================] - 2s 200ms/step - loss: 9.8970e-04 - mean_squared_error: 9.8970e-04 - mean_absolute_error: 0.0190 - val_loss: 0.0066 - val_mean_squared_error: 0.0066 - val_mean_absolute_error: 0.0601\n",
            "Epoch 46/200\n",
            "8/8 [==============================] - 2s 198ms/step - loss: 0.0010 - mean_squared_error: 0.0010 - mean_absolute_error: 0.0194 - val_loss: 0.0068 - val_mean_squared_error: 0.0068 - val_mean_absolute_error: 0.0590\n",
            "Epoch 47/200\n",
            "8/8 [==============================] - 1s 194ms/step - loss: 9.5310e-04 - mean_squared_error: 9.5310e-04 - mean_absolute_error: 0.0184 - val_loss: 0.0068 - val_mean_squared_error: 0.0068 - val_mean_absolute_error: 0.0589\n",
            "Epoch 48/200\n",
            "8/8 [==============================] - 2s 195ms/step - loss: 9.6164e-04 - mean_squared_error: 9.6164e-04 - mean_absolute_error: 0.0175 - val_loss: 0.0065 - val_mean_squared_error: 0.0065 - val_mean_absolute_error: 0.0589\n",
            "Epoch 49/200\n",
            "8/8 [==============================] - 2s 193ms/step - loss: 0.0011 - mean_squared_error: 0.0011 - mean_absolute_error: 0.0186 - val_loss: 0.0072 - val_mean_squared_error: 0.0072 - val_mean_absolute_error: 0.0607\n",
            "Epoch 50/200\n",
            "8/8 [==============================] - 1s 182ms/step - loss: 0.0011 - mean_squared_error: 0.0011 - mean_absolute_error: 0.0188 - val_loss: 0.0065 - val_mean_squared_error: 0.0065 - val_mean_absolute_error: 0.0595\n",
            "Epoch 51/200\n",
            "8/8 [==============================] - 1s 177ms/step - loss: 0.0011 - mean_squared_error: 0.0011 - mean_absolute_error: 0.0186 - val_loss: 0.0073 - val_mean_squared_error: 0.0073 - val_mean_absolute_error: 0.0609\n",
            "Epoch 52/200\n",
            "8/8 [==============================] - 2s 193ms/step - loss: 0.0011 - mean_squared_error: 0.0011 - mean_absolute_error: 0.0195 - val_loss: 0.0068 - val_mean_squared_error: 0.0068 - val_mean_absolute_error: 0.0594\n",
            "Epoch 53/200\n",
            "8/8 [==============================] - 2s 211ms/step - loss: 9.8842e-04 - mean_squared_error: 9.8842e-04 - mean_absolute_error: 0.0182 - val_loss: 0.0070 - val_mean_squared_error: 0.0070 - val_mean_absolute_error: 0.0599\n",
            "Epoch 54/200\n",
            "8/8 [==============================] - 2s 197ms/step - loss: 9.4280e-04 - mean_squared_error: 9.4280e-04 - mean_absolute_error: 0.0176 - val_loss: 0.0064 - val_mean_squared_error: 0.0064 - val_mean_absolute_error: 0.0592\n",
            "Epoch 55/200\n",
            "8/8 [==============================] - 1s 174ms/step - loss: 0.0011 - mean_squared_error: 0.0011 - mean_absolute_error: 0.0188 - val_loss: 0.0070 - val_mean_squared_error: 0.0070 - val_mean_absolute_error: 0.0598\n",
            "Epoch 56/200\n",
            "8/8 [==============================] - 1s 187ms/step - loss: 7.4838e-04 - mean_squared_error: 7.4838e-04 - mean_absolute_error: 0.0163 - val_loss: 0.0067 - val_mean_squared_error: 0.0067 - val_mean_absolute_error: 0.0587\n",
            "Epoch 57/200\n",
            "8/8 [==============================] - 2s 190ms/step - loss: 0.0012 - mean_squared_error: 0.0012 - mean_absolute_error: 0.0198 - val_loss: 0.0064 - val_mean_squared_error: 0.0064 - val_mean_absolute_error: 0.0594\n",
            "Epoch 58/200\n",
            "8/8 [==============================] - 2s 191ms/step - loss: 0.0012 - mean_squared_error: 0.0012 - mean_absolute_error: 0.0198 - val_loss: 0.0067 - val_mean_squared_error: 0.0067 - val_mean_absolute_error: 0.0585\n",
            "Epoch 59/200\n",
            "8/8 [==============================] - 2s 189ms/step - loss: 9.4570e-04 - mean_squared_error: 9.4570e-04 - mean_absolute_error: 0.0181 - val_loss: 0.0070 - val_mean_squared_error: 0.0070 - val_mean_absolute_error: 0.0595\n",
            "Epoch 60/200\n",
            "8/8 [==============================] - 2s 199ms/step - loss: 0.0011 - mean_squared_error: 0.0011 - mean_absolute_error: 0.0193 - val_loss: 0.0064 - val_mean_squared_error: 0.0064 - val_mean_absolute_error: 0.0586\n",
            "Epoch 61/200\n",
            "8/8 [==============================] - 1s 179ms/step - loss: 9.6118e-04 - mean_squared_error: 9.6118e-04 - mean_absolute_error: 0.0175 - val_loss: 0.0070 - val_mean_squared_error: 0.0070 - val_mean_absolute_error: 0.0596\n",
            "Epoch 62/200\n",
            "8/8 [==============================] - 1s 174ms/step - loss: 8.5374e-04 - mean_squared_error: 8.5374e-04 - mean_absolute_error: 0.0172 - val_loss: 0.0064 - val_mean_squared_error: 0.0064 - val_mean_absolute_error: 0.0582\n",
            "Epoch 63/200\n",
            "8/8 [==============================] - 1s 170ms/step - loss: 9.7018e-04 - mean_squared_error: 9.7018e-04 - mean_absolute_error: 0.0185 - val_loss: 0.0068 - val_mean_squared_error: 0.0068 - val_mean_absolute_error: 0.0590\n",
            "Epoch 64/200\n",
            "8/8 [==============================] - 2s 189ms/step - loss: 0.0011 - mean_squared_error: 0.0011 - mean_absolute_error: 0.0179 - val_loss: 0.0070 - val_mean_squared_error: 0.0070 - val_mean_absolute_error: 0.0597\n",
            "Epoch 65/200\n",
            "8/8 [==============================] - 2s 205ms/step - loss: 9.6335e-04 - mean_squared_error: 9.6335e-04 - mean_absolute_error: 0.0179 - val_loss: 0.0064 - val_mean_squared_error: 0.0064 - val_mean_absolute_error: 0.0578\n",
            "Epoch 66/200\n",
            "8/8 [==============================] - 1s 187ms/step - loss: 9.3097e-04 - mean_squared_error: 9.3097e-04 - mean_absolute_error: 0.0173 - val_loss: 0.0070 - val_mean_squared_error: 0.0070 - val_mean_absolute_error: 0.0597\n",
            "Epoch 67/200\n",
            "8/8 [==============================] - 1s 181ms/step - loss: 0.0011 - mean_squared_error: 0.0011 - mean_absolute_error: 0.0194 - val_loss: 0.0066 - val_mean_squared_error: 0.0066 - val_mean_absolute_error: 0.0581\n",
            "Epoch 68/200\n",
            "8/8 [==============================] - 2s 196ms/step - loss: 0.0011 - mean_squared_error: 0.0011 - mean_absolute_error: 0.0191 - val_loss: 0.0068 - val_mean_squared_error: 0.0068 - val_mean_absolute_error: 0.0589\n",
            "Epoch 69/200\n",
            "8/8 [==============================] - 2s 203ms/step - loss: 8.4413e-04 - mean_squared_error: 8.4413e-04 - mean_absolute_error: 0.0166 - val_loss: 0.0069 - val_mean_squared_error: 0.0069 - val_mean_absolute_error: 0.0593\n",
            "Epoch 70/200\n",
            "8/8 [==============================] - 2s 186ms/step - loss: 9.1047e-04 - mean_squared_error: 9.1047e-04 - mean_absolute_error: 0.0171 - val_loss: 0.0070 - val_mean_squared_error: 0.0070 - val_mean_absolute_error: 0.0599\n"
          ],
          "name": "stdout"
        },
        {
          "output_type": "display_data",
          "data": {
            "text/html": [
              "<br/>Waiting for W&B process to finish, PID 7361<br/>Program ended successfully."
            ],
            "text/plain": [
              "<IPython.core.display.HTML object>"
            ]
          },
          "metadata": {
            "tags": []
          }
        },
        {
          "output_type": "display_data",
          "data": {
            "application/vnd.jupyter.widget-view+json": {
              "model_id": "8fc5490348bb4fafa5c3cc5c3ce21f16",
              "version_minor": 0,
              "version_major": 2
            },
            "text/plain": [
              "VBox(children=(Label(value=' 0.80MB of 0.80MB uploaded (0.00MB deduped)\\r'), FloatProgress(value=1.0, max=1.0)…"
            ]
          },
          "metadata": {
            "tags": []
          }
        },
        {
          "output_type": "display_data",
          "data": {
            "text/html": [
              "Find user logs for this run at: <code>/content/feeder_repo/wandb/run-20210719_131734-u6dsnbvi/logs/debug.log</code>"
            ],
            "text/plain": [
              "<IPython.core.display.HTML object>"
            ]
          },
          "metadata": {
            "tags": []
          }
        },
        {
          "output_type": "display_data",
          "data": {
            "text/html": [
              "Find internal logs for this run at: <code>/content/feeder_repo/wandb/run-20210719_131734-u6dsnbvi/logs/debug-internal.log</code>"
            ],
            "text/plain": [
              "<IPython.core.display.HTML object>"
            ]
          },
          "metadata": {
            "tags": []
          }
        },
        {
          "output_type": "display_data",
          "data": {
            "text/html": [
              "<h3>Run summary:</h3><br/><style>\n",
              "    table.wandb td:nth-child(1) { padding: 0 10px; text-align: right }\n",
              "    </style><table class=\"wandb\">\n",
              "<tr><td>epoch</td><td>69</td></tr><tr><td>loss</td><td>0.00094</td></tr><tr><td>mean_squared_error</td><td>0.00094</td></tr><tr><td>mean_absolute_error</td><td>0.01716</td></tr><tr><td>val_loss</td><td>0.007</td></tr><tr><td>val_mean_squared_error</td><td>0.007</td></tr><tr><td>val_mean_absolute_error</td><td>0.05986</td></tr><tr><td>_runtime</td><td>116</td></tr><tr><td>_timestamp</td><td>1626700770</td></tr><tr><td>_step</td><td>69</td></tr><tr><td>best_val_loss</td><td>0.0064</td></tr><tr><td>best_epoch</td><td>59</td></tr></table>"
            ],
            "text/plain": [
              "<IPython.core.display.HTML object>"
            ]
          },
          "metadata": {
            "tags": []
          }
        },
        {
          "output_type": "display_data",
          "data": {
            "text/html": [
              "<h3>Run history:</h3><br/><style>\n",
              "    table.wandb td:nth-child(1) { padding: 0 10px; text-align: right }\n",
              "    </style><table class=\"wandb\">\n",
              "<tr><td>epoch</td><td>▁▁▁▂▂▂▂▂▂▃▃▃▃▃▃▄▄▄▄▄▅▅▅▅▅▅▆▆▆▆▆▆▇▇▇▇▇███</td></tr><tr><td>loss</td><td>█▆▃▁▁▁▁▁▁▁▁▁▁▁▁▁▁▁▁▁▁▁▁▁▁▁▁▁▁▁▁▁▁▁▁▁▁▁▁▁</td></tr><tr><td>mean_squared_error</td><td>█▆▃▁▁▁▁▁▁▁▁▁▁▁▁▁▁▁▁▁▁▁▁▁▁▁▁▁▁▁▁▁▁▁▁▁▁▁▁▁</td></tr><tr><td>mean_absolute_error</td><td>█▇▅▃▂▁▁▁▁▁▁▁▁▁▁▁▁▁▁▁▁▁▁▁▁▁▁▁▁▁▁▁▁▁▁▁▁▁▁▁</td></tr><tr><td>val_loss</td><td>█▆▁▁▁▁▁▁▁▁▁▁▁▁▁▁▁▁▁▁▁▁▁▁▁▁▁▁▁▁▁▁▁▁▁▁▁▁▁▁</td></tr><tr><td>val_mean_squared_error</td><td>█▆▁▁▁▁▁▁▁▁▁▁▁▁▁▁▁▁▁▁▁▁▁▁▁▁▁▁▁▁▁▁▁▁▁▁▁▁▁▁</td></tr><tr><td>val_mean_absolute_error</td><td>█▇▂▁▁▁▁▁▁▁▁▁▁▁▁▁▁▁▁▁▁▁▁▁▁▁▁▁▁▁▁▁▁▁▁▁▁▁▁▁</td></tr><tr><td>_runtime</td><td>▁▁▁▂▂▂▂▂▂▃▃▃▃▃▃▄▄▄▄▄▄▅▅▅▅▅▆▆▆▆▆▆▇▇▇▇▇███</td></tr><tr><td>_timestamp</td><td>▁▁▁▂▂▂▂▂▂▃▃▃▃▃▃▄▄▄▄▄▄▅▅▅▅▅▆▆▆▆▆▆▇▇▇▇▇███</td></tr><tr><td>_step</td><td>▁▁▁▂▂▂▂▂▂▃▃▃▃▃▃▄▄▄▄▄▅▅▅▅▅▅▆▆▆▆▆▆▇▇▇▇▇███</td></tr></table><br/>"
            ],
            "text/plain": [
              "<IPython.core.display.HTML object>"
            ]
          },
          "metadata": {
            "tags": []
          }
        },
        {
          "output_type": "display_data",
          "data": {
            "text/html": [
              "Synced 5 W&B file(s), 1 media file(s), 2 artifact file(s) and 2 other file(s)"
            ],
            "text/plain": [
              "<IPython.core.display.HTML object>"
            ]
          },
          "metadata": {
            "tags": []
          }
        },
        {
          "output_type": "display_data",
          "data": {
            "text/html": [
              "\n",
              "                    <br/>Synced <strong style=\"color:#cdcd00\">feasible-sweep-27</strong>: <a href=\"https://wandb.ai/acse-jaq15/ACSE_9_LSTM_GRU/runs/u6dsnbvi\" target=\"_blank\">https://wandb.ai/acse-jaq15/ACSE_9_LSTM_GRU/runs/u6dsnbvi</a><br/>\n",
              "                "
            ],
            "text/plain": [
              "<IPython.core.display.HTML object>"
            ]
          },
          "metadata": {
            "tags": []
          }
        },
        {
          "output_type": "stream",
          "text": [
            "\u001b[34m\u001b[1mwandb\u001b[0m: Agent Starting Run: i8fkase4 with config:\n",
            "\u001b[34m\u001b[1mwandb\u001b[0m: \tactivation: tanh\n",
            "\u001b[34m\u001b[1mwandb\u001b[0m: \tbatch_size: 128\n",
            "\u001b[34m\u001b[1mwandb\u001b[0m: \tdropout: 0.3\n",
            "\u001b[34m\u001b[1mwandb\u001b[0m: \tepochs: 50\n",
            "\u001b[34m\u001b[1mwandb\u001b[0m: \tlearning_rate: 0.001\n",
            "\u001b[34m\u001b[1mwandb\u001b[0m: \toptimizer: adam\n",
            "\u001b[34m\u001b[1mwandb\u001b[0m: W&B API key is configured (use `wandb login --relogin` to force relogin)\n"
          ],
          "name": "stderr"
        },
        {
          "output_type": "display_data",
          "data": {
            "text/html": [
              "\n",
              "                Tracking run with wandb version 0.11.0<br/>\n",
              "                Syncing run <strong style=\"color:#cdcd00\">wise-sweep-28</strong> to <a href=\"https://wandb.ai\" target=\"_blank\">Weights & Biases</a> <a href=\"https://docs.wandb.com/integrations/jupyter.html\" target=\"_blank\">(Documentation)</a>.<br/>\n",
              "                Project page: <a href=\"https://wandb.ai/acse-jaq15/ACSE_9_LSTM_GRU\" target=\"_blank\">https://wandb.ai/acse-jaq15/ACSE_9_LSTM_GRU</a><br/>\n",
              "                Sweep page: <a href=\"https://wandb.ai/acse-jaq15/ACSE_9_LSTM_GRU/sweeps/s5xopigt\" target=\"_blank\">https://wandb.ai/acse-jaq15/ACSE_9_LSTM_GRU/sweeps/s5xopigt</a><br/>\n",
              "Run page: <a href=\"https://wandb.ai/acse-jaq15/ACSE_9_LSTM_GRU/runs/i8fkase4\" target=\"_blank\">https://wandb.ai/acse-jaq15/ACSE_9_LSTM_GRU/runs/i8fkase4</a><br/>\n",
              "                Run data is saved locally in <code>/content/feeder_repo/wandb/run-20210719_131953-i8fkase4</code><br/><br/>\n",
              "            "
            ],
            "text/plain": [
              "<IPython.core.display.HTML object>"
            ]
          },
          "metadata": {
            "tags": []
          }
        },
        {
          "output_type": "stream",
          "text": [
            "Epoch 1/50\n",
            "8/8 [==============================] - 6s 189ms/step - loss: 0.0846 - mean_squared_error: 0.0846 - mean_absolute_error: 0.1811 - val_loss: 0.0363 - val_mean_squared_error: 0.0363 - val_mean_absolute_error: 0.1678\n",
            "Epoch 2/50\n",
            "8/8 [==============================] - 0s 13ms/step - loss: 0.0160 - mean_squared_error: 0.0160 - mean_absolute_error: 0.1148 - val_loss: 0.0214 - val_mean_squared_error: 0.0214 - val_mean_absolute_error: 0.1297\n",
            "Epoch 3/50\n",
            "8/8 [==============================] - 0s 15ms/step - loss: 0.0060 - mean_squared_error: 0.0060 - mean_absolute_error: 0.0471 - val_loss: 0.0131 - val_mean_squared_error: 0.0131 - val_mean_absolute_error: 0.0879\n",
            "Epoch 4/50\n",
            "8/8 [==============================] - 0s 16ms/step - loss: 0.0032 - mean_squared_error: 0.0032 - mean_absolute_error: 0.0292 - val_loss: 0.0073 - val_mean_squared_error: 0.0073 - val_mean_absolute_error: 0.0590\n",
            "Epoch 5/50\n",
            "8/8 [==============================] - 0s 15ms/step - loss: 0.0018 - mean_squared_error: 0.0018 - mean_absolute_error: 0.0282 - val_loss: 0.0069 - val_mean_squared_error: 0.0069 - val_mean_absolute_error: 0.0645\n",
            "Epoch 6/50\n",
            "8/8 [==============================] - 0s 17ms/step - loss: 0.0017 - mean_squared_error: 0.0017 - mean_absolute_error: 0.0266 - val_loss: 0.0087 - val_mean_squared_error: 0.0087 - val_mean_absolute_error: 0.0669\n",
            "Epoch 7/50\n",
            "8/8 [==============================] - 0s 16ms/step - loss: 0.0016 - mean_squared_error: 0.0016 - mean_absolute_error: 0.0263 - val_loss: 0.0066 - val_mean_squared_error: 0.0066 - val_mean_absolute_error: 0.0597\n",
            "Epoch 8/50\n",
            "8/8 [==============================] - 0s 16ms/step - loss: 0.0013 - mean_squared_error: 0.0013 - mean_absolute_error: 0.0192 - val_loss: 0.0080 - val_mean_squared_error: 0.0080 - val_mean_absolute_error: 0.0629\n",
            "Epoch 9/50\n",
            "8/8 [==============================] - 0s 16ms/step - loss: 0.0012 - mean_squared_error: 0.0012 - mean_absolute_error: 0.0198 - val_loss: 0.0067 - val_mean_squared_error: 0.0067 - val_mean_absolute_error: 0.0579\n",
            "Epoch 10/50\n",
            "8/8 [==============================] - 0s 15ms/step - loss: 0.0012 - mean_squared_error: 0.0012 - mean_absolute_error: 0.0189 - val_loss: 0.0073 - val_mean_squared_error: 0.0073 - val_mean_absolute_error: 0.0597\n",
            "Epoch 11/50\n",
            "8/8 [==============================] - 0s 17ms/step - loss: 0.0014 - mean_squared_error: 0.0014 - mean_absolute_error: 0.0218 - val_loss: 0.0067 - val_mean_squared_error: 0.0067 - val_mean_absolute_error: 0.0579\n",
            "Epoch 12/50\n",
            "8/8 [==============================] - 0s 15ms/step - loss: 0.0012 - mean_squared_error: 0.0012 - mean_absolute_error: 0.0186 - val_loss: 0.0068 - val_mean_squared_error: 0.0068 - val_mean_absolute_error: 0.0581\n",
            "Epoch 13/50\n",
            "8/8 [==============================] - 0s 16ms/step - loss: 0.0010 - mean_squared_error: 0.0010 - mean_absolute_error: 0.0178 - val_loss: 0.0068 - val_mean_squared_error: 0.0068 - val_mean_absolute_error: 0.0581\n",
            "Epoch 14/50\n",
            "8/8 [==============================] - 0s 14ms/step - loss: 0.0012 - mean_squared_error: 0.0012 - mean_absolute_error: 0.0194 - val_loss: 0.0076 - val_mean_squared_error: 0.0076 - val_mean_absolute_error: 0.0609\n",
            "Epoch 15/50\n",
            "8/8 [==============================] - 0s 17ms/step - loss: 0.0010 - mean_squared_error: 0.0010 - mean_absolute_error: 0.0189 - val_loss: 0.0065 - val_mean_squared_error: 0.0065 - val_mean_absolute_error: 0.0584\n",
            "Epoch 16/50\n",
            "8/8 [==============================] - 0s 15ms/step - loss: 0.0012 - mean_squared_error: 0.0012 - mean_absolute_error: 0.0190 - val_loss: 0.0070 - val_mean_squared_error: 0.0070 - val_mean_absolute_error: 0.0586\n",
            "Epoch 17/50\n",
            "8/8 [==============================] - 0s 14ms/step - loss: 0.0014 - mean_squared_error: 0.0014 - mean_absolute_error: 0.0200 - val_loss: 0.0066 - val_mean_squared_error: 0.0066 - val_mean_absolute_error: 0.0579\n",
            "Epoch 18/50\n",
            "8/8 [==============================] - 0s 19ms/step - loss: 0.0012 - mean_squared_error: 0.0012 - mean_absolute_error: 0.0190 - val_loss: 0.0077 - val_mean_squared_error: 0.0077 - val_mean_absolute_error: 0.0618\n",
            "Epoch 19/50\n",
            "8/8 [==============================] - 0s 16ms/step - loss: 0.0012 - mean_squared_error: 0.0012 - mean_absolute_error: 0.0188 - val_loss: 0.0066 - val_mean_squared_error: 0.0066 - val_mean_absolute_error: 0.0573\n",
            "Epoch 20/50\n",
            "8/8 [==============================] - 0s 14ms/step - loss: 0.0012 - mean_squared_error: 0.0012 - mean_absolute_error: 0.0196 - val_loss: 0.0076 - val_mean_squared_error: 0.0076 - val_mean_absolute_error: 0.0610\n",
            "Epoch 21/50\n",
            "8/8 [==============================] - 0s 13ms/step - loss: 9.5098e-04 - mean_squared_error: 9.5098e-04 - mean_absolute_error: 0.0186 - val_loss: 0.0066 - val_mean_squared_error: 0.0066 - val_mean_absolute_error: 0.0574\n",
            "Epoch 22/50\n",
            "8/8 [==============================] - 0s 13ms/step - loss: 0.0012 - mean_squared_error: 0.0012 - mean_absolute_error: 0.0189 - val_loss: 0.0074 - val_mean_squared_error: 0.0074 - val_mean_absolute_error: 0.0600\n",
            "Epoch 23/50\n",
            "8/8 [==============================] - 0s 15ms/step - loss: 0.0011 - mean_squared_error: 0.0011 - mean_absolute_error: 0.0186 - val_loss: 0.0068 - val_mean_squared_error: 0.0068 - val_mean_absolute_error: 0.0577\n",
            "Epoch 24/50\n",
            "8/8 [==============================] - 0s 15ms/step - loss: 0.0011 - mean_squared_error: 0.0011 - mean_absolute_error: 0.0194 - val_loss: 0.0071 - val_mean_squared_error: 0.0071 - val_mean_absolute_error: 0.0588\n",
            "Epoch 25/50\n",
            "8/8 [==============================] - 0s 14ms/step - loss: 0.0010 - mean_squared_error: 0.0010 - mean_absolute_error: 0.0174 - val_loss: 0.0071 - val_mean_squared_error: 0.0071 - val_mean_absolute_error: 0.0588\n"
          ],
          "name": "stdout"
        },
        {
          "output_type": "display_data",
          "data": {
            "text/html": [
              "<br/>Waiting for W&B process to finish, PID 7650<br/>Program ended successfully."
            ],
            "text/plain": [
              "<IPython.core.display.HTML object>"
            ]
          },
          "metadata": {
            "tags": []
          }
        },
        {
          "output_type": "display_data",
          "data": {
            "application/vnd.jupyter.widget-view+json": {
              "model_id": "7c7243417ddc4bd393f7dbef10492eab",
              "version_minor": 0,
              "version_major": 2
            },
            "text/plain": [
              "VBox(children=(Label(value=' 0.52MB of 0.52MB uploaded (0.00MB deduped)\\r'), FloatProgress(value=1.0, max=1.0)…"
            ]
          },
          "metadata": {
            "tags": []
          }
        },
        {
          "output_type": "display_data",
          "data": {
            "text/html": [
              "Find user logs for this run at: <code>/content/feeder_repo/wandb/run-20210719_131953-i8fkase4/logs/debug.log</code>"
            ],
            "text/plain": [
              "<IPython.core.display.HTML object>"
            ]
          },
          "metadata": {
            "tags": []
          }
        },
        {
          "output_type": "display_data",
          "data": {
            "text/html": [
              "Find internal logs for this run at: <code>/content/feeder_repo/wandb/run-20210719_131953-i8fkase4/logs/debug-internal.log</code>"
            ],
            "text/plain": [
              "<IPython.core.display.HTML object>"
            ]
          },
          "metadata": {
            "tags": []
          }
        },
        {
          "output_type": "display_data",
          "data": {
            "text/html": [
              "<h3>Run summary:</h3><br/><style>\n",
              "    table.wandb td:nth-child(1) { padding: 0 10px; text-align: right }\n",
              "    </style><table class=\"wandb\">\n",
              "<tr><td>epoch</td><td>24</td></tr><tr><td>loss</td><td>0.00099</td></tr><tr><td>mean_squared_error</td><td>0.00099</td></tr><tr><td>mean_absolute_error</td><td>0.01741</td></tr><tr><td>val_loss</td><td>0.00707</td></tr><tr><td>val_mean_squared_error</td><td>0.00707</td></tr><tr><td>val_mean_absolute_error</td><td>0.05877</td></tr><tr><td>_runtime</td><td>15</td></tr><tr><td>_timestamp</td><td>1626700808</td></tr><tr><td>_step</td><td>24</td></tr><tr><td>best_val_loss</td><td>0.00648</td></tr><tr><td>best_epoch</td><td>14</td></tr></table>"
            ],
            "text/plain": [
              "<IPython.core.display.HTML object>"
            ]
          },
          "metadata": {
            "tags": []
          }
        },
        {
          "output_type": "display_data",
          "data": {
            "text/html": [
              "<h3>Run history:</h3><br/><style>\n",
              "    table.wandb td:nth-child(1) { padding: 0 10px; text-align: right }\n",
              "    </style><table class=\"wandb\">\n",
              "<tr><td>epoch</td><td>▁▁▂▂▂▂▃▃▃▄▄▄▅▅▅▅▆▆▆▇▇▇▇██</td></tr><tr><td>loss</td><td>█▂▂▁▁▁▁▁▁▁▁▁▁▁▁▁▁▁▁▁▁▁▁▁▁</td></tr><tr><td>mean_squared_error</td><td>█▂▂▁▁▁▁▁▁▁▁▁▁▁▁▁▁▁▁▁▁▁▁▁▁</td></tr><tr><td>mean_absolute_error</td><td>█▅▂▂▂▂▁▁▁▁▁▁▁▁▁▁▁▁▁▁▁▁▁▁▁</td></tr><tr><td>val_loss</td><td>█▅▃▁▁▂▁▁▁▁▁▁▁▁▁▁▁▁▁▁▁▁▁▁▁</td></tr><tr><td>val_mean_squared_error</td><td>█▅▃▁▁▂▁▁▁▁▁▁▁▁▁▁▁▁▁▁▁▁▁▁▁</td></tr><tr><td>val_mean_absolute_error</td><td>█▆▃▁▁▂▁▁▁▁▁▁▁▁▁▁▁▁▁▁▁▁▁▁▁</td></tr><tr><td>_runtime</td><td>▁▁▁▁▁▃▃▃▃▃▃▆▆▆▆▆▆▆▆██████</td></tr><tr><td>_timestamp</td><td>▁▁▁▁▁▃▃▃▃▃▃▆▆▆▆▆▆▆▆██████</td></tr><tr><td>_step</td><td>▁▁▂▂▂▂▃▃▃▄▄▄▅▅▅▅▆▆▆▇▇▇▇██</td></tr></table><br/>"
            ],
            "text/plain": [
              "<IPython.core.display.HTML object>"
            ]
          },
          "metadata": {
            "tags": []
          }
        },
        {
          "output_type": "display_data",
          "data": {
            "text/html": [
              "Synced 5 W&B file(s), 1 media file(s), 0 artifact file(s) and 1 other file(s)"
            ],
            "text/plain": [
              "<IPython.core.display.HTML object>"
            ]
          },
          "metadata": {
            "tags": []
          }
        },
        {
          "output_type": "display_data",
          "data": {
            "text/html": [
              "\n",
              "                    <br/>Synced <strong style=\"color:#cdcd00\">wise-sweep-28</strong>: <a href=\"https://wandb.ai/acse-jaq15/ACSE_9_LSTM_GRU/runs/i8fkase4\" target=\"_blank\">https://wandb.ai/acse-jaq15/ACSE_9_LSTM_GRU/runs/i8fkase4</a><br/>\n",
              "                "
            ],
            "text/plain": [
              "<IPython.core.display.HTML object>"
            ]
          },
          "metadata": {
            "tags": []
          }
        },
        {
          "output_type": "stream",
          "text": [
            "\u001b[34m\u001b[1mwandb\u001b[0m: Agent Starting Run: tv1tskxq with config:\n",
            "\u001b[34m\u001b[1mwandb\u001b[0m: \tactivation: tanh\n",
            "\u001b[34m\u001b[1mwandb\u001b[0m: \tbatch_size: 64\n",
            "\u001b[34m\u001b[1mwandb\u001b[0m: \tdropout: 0.3\n",
            "\u001b[34m\u001b[1mwandb\u001b[0m: \tepochs: 200\n",
            "\u001b[34m\u001b[1mwandb\u001b[0m: \tlearning_rate: 0.005\n",
            "\u001b[34m\u001b[1mwandb\u001b[0m: \toptimizer: nadam\n"
          ],
          "name": "stderr"
        },
        {
          "output_type": "display_data",
          "data": {
            "text/html": [
              "\n",
              "                Tracking run with wandb version 0.11.0<br/>\n",
              "                Syncing run <strong style=\"color:#cdcd00\">hearty-sweep-29</strong> to <a href=\"https://wandb.ai\" target=\"_blank\">Weights & Biases</a> <a href=\"https://docs.wandb.com/integrations/jupyter.html\" target=\"_blank\">(Documentation)</a>.<br/>\n",
              "                Project page: <a href=\"https://wandb.ai/acse-jaq15/ACSE_9_LSTM_GRU\" target=\"_blank\">https://wandb.ai/acse-jaq15/ACSE_9_LSTM_GRU</a><br/>\n",
              "                Sweep page: <a href=\"https://wandb.ai/acse-jaq15/ACSE_9_LSTM_GRU/sweeps/s5xopigt\" target=\"_blank\">https://wandb.ai/acse-jaq15/ACSE_9_LSTM_GRU/sweeps/s5xopigt</a><br/>\n",
              "Run page: <a href=\"https://wandb.ai/acse-jaq15/ACSE_9_LSTM_GRU/runs/tv1tskxq\" target=\"_blank\">https://wandb.ai/acse-jaq15/ACSE_9_LSTM_GRU/runs/tv1tskxq</a><br/>\n",
              "                Run data is saved locally in <code>/content/feeder_repo/wandb/run-20210719_132014-tv1tskxq</code><br/><br/>\n",
              "            "
            ],
            "text/plain": [
              "<IPython.core.display.HTML object>"
            ]
          },
          "metadata": {
            "tags": []
          }
        },
        {
          "output_type": "stream",
          "text": [
            "Epoch 1/200\n",
            "16/16 [==============================] - 7s 92ms/step - loss: 0.0371 - mean_squared_error: 0.0371 - mean_absolute_error: 0.1097 - val_loss: 0.0072 - val_mean_squared_error: 0.0072 - val_mean_absolute_error: 0.0686\n",
            "Epoch 2/200\n",
            "16/16 [==============================] - 0s 16ms/step - loss: 0.0034 - mean_squared_error: 0.0034 - mean_absolute_error: 0.0378 - val_loss: 0.0062 - val_mean_squared_error: 0.0062 - val_mean_absolute_error: 0.0550\n",
            "Epoch 3/200\n",
            "16/16 [==============================] - 0s 15ms/step - loss: 0.0019 - mean_squared_error: 0.0019 - mean_absolute_error: 0.0258 - val_loss: 0.0076 - val_mean_squared_error: 0.0076 - val_mean_absolute_error: 0.0717\n",
            "Epoch 4/200\n",
            "16/16 [==============================] - 0s 20ms/step - loss: 0.0033 - mean_squared_error: 0.0033 - mean_absolute_error: 0.0398 - val_loss: 0.0054 - val_mean_squared_error: 0.0054 - val_mean_absolute_error: 0.0544\n",
            "Epoch 5/200\n",
            "16/16 [==============================] - 0s 15ms/step - loss: 0.0013 - mean_squared_error: 0.0013 - mean_absolute_error: 0.0222 - val_loss: 0.0097 - val_mean_squared_error: 0.0097 - val_mean_absolute_error: 0.0761\n",
            "Epoch 6/200\n",
            "16/16 [==============================] - 0s 15ms/step - loss: 0.0022 - mean_squared_error: 0.0022 - mean_absolute_error: 0.0322 - val_loss: 0.0056 - val_mean_squared_error: 0.0056 - val_mean_absolute_error: 0.0522\n",
            "Epoch 7/200\n",
            "16/16 [==============================] - 0s 16ms/step - loss: 0.0017 - mean_squared_error: 0.0017 - mean_absolute_error: 0.0274 - val_loss: 0.0054 - val_mean_squared_error: 0.0054 - val_mean_absolute_error: 0.0525\n",
            "Epoch 8/200\n",
            "16/16 [==============================] - 0s 16ms/step - loss: 0.0017 - mean_squared_error: 0.0017 - mean_absolute_error: 0.0244 - val_loss: 0.0439 - val_mean_squared_error: 0.0439 - val_mean_absolute_error: 0.1931\n",
            "Epoch 9/200\n",
            "16/16 [==============================] - 0s 15ms/step - loss: 0.0044 - mean_squared_error: 0.0044 - mean_absolute_error: 0.0404 - val_loss: 0.0113 - val_mean_squared_error: 0.0113 - val_mean_absolute_error: 0.0920\n",
            "Epoch 10/200\n",
            "16/16 [==============================] - 0s 15ms/step - loss: 0.0030 - mean_squared_error: 0.0030 - mean_absolute_error: 0.0364 - val_loss: 0.0048 - val_mean_squared_error: 0.0048 - val_mean_absolute_error: 0.0490\n",
            "Epoch 11/200\n",
            "16/16 [==============================] - 0s 16ms/step - loss: 0.0012 - mean_squared_error: 0.0012 - mean_absolute_error: 0.0221 - val_loss: 0.0050 - val_mean_squared_error: 0.0050 - val_mean_absolute_error: 0.0497\n",
            "Epoch 12/200\n",
            "16/16 [==============================] - 0s 15ms/step - loss: 0.0011 - mean_squared_error: 0.0011 - mean_absolute_error: 0.0208 - val_loss: 0.0077 - val_mean_squared_error: 0.0077 - val_mean_absolute_error: 0.0665\n",
            "Epoch 13/200\n",
            "16/16 [==============================] - 0s 16ms/step - loss: 8.0100e-04 - mean_squared_error: 8.0100e-04 - mean_absolute_error: 0.0173 - val_loss: 0.0052 - val_mean_squared_error: 0.0052 - val_mean_absolute_error: 0.0559\n",
            "Epoch 14/200\n",
            "16/16 [==============================] - 0s 16ms/step - loss: 0.0019 - mean_squared_error: 0.0019 - mean_absolute_error: 0.0275 - val_loss: 0.0077 - val_mean_squared_error: 0.0077 - val_mean_absolute_error: 0.0738\n",
            "Epoch 15/200\n",
            "16/16 [==============================] - 0s 16ms/step - loss: 0.0012 - mean_squared_error: 0.0012 - mean_absolute_error: 0.0235 - val_loss: 0.0058 - val_mean_squared_error: 0.0058 - val_mean_absolute_error: 0.0611\n",
            "Epoch 16/200\n",
            "16/16 [==============================] - 0s 16ms/step - loss: 9.1022e-04 - mean_squared_error: 9.1022e-04 - mean_absolute_error: 0.0194 - val_loss: 0.0105 - val_mean_squared_error: 0.0105 - val_mean_absolute_error: 0.0892\n",
            "Epoch 17/200\n",
            "16/16 [==============================] - 0s 17ms/step - loss: 0.0016 - mean_squared_error: 0.0016 - mean_absolute_error: 0.0290 - val_loss: 0.0063 - val_mean_squared_error: 0.0063 - val_mean_absolute_error: 0.0646\n",
            "Epoch 18/200\n",
            "16/16 [==============================] - 0s 15ms/step - loss: 0.0012 - mean_squared_error: 0.0012 - mean_absolute_error: 0.0242 - val_loss: 0.0060 - val_mean_squared_error: 0.0060 - val_mean_absolute_error: 0.0626\n",
            "Epoch 19/200\n",
            "16/16 [==============================] - 0s 17ms/step - loss: 0.0013 - mean_squared_error: 0.0013 - mean_absolute_error: 0.0221 - val_loss: 0.0064 - val_mean_squared_error: 0.0064 - val_mean_absolute_error: 0.0588\n",
            "Epoch 20/200\n",
            "16/16 [==============================] - 0s 15ms/step - loss: 0.0012 - mean_squared_error: 0.0012 - mean_absolute_error: 0.0215 - val_loss: 0.0056 - val_mean_squared_error: 0.0056 - val_mean_absolute_error: 0.0596\n"
          ],
          "name": "stdout"
        },
        {
          "output_type": "display_data",
          "data": {
            "text/html": [
              "<br/>Waiting for W&B process to finish, PID 7775<br/>Program ended successfully."
            ],
            "text/plain": [
              "<IPython.core.display.HTML object>"
            ]
          },
          "metadata": {
            "tags": []
          }
        },
        {
          "output_type": "display_data",
          "data": {
            "application/vnd.jupyter.widget-view+json": {
              "model_id": "d0f10ea4686f46afa824ba14f4deef8b",
              "version_minor": 0,
              "version_major": 2
            },
            "text/plain": [
              "VBox(children=(Label(value=' 0.83MB of 0.83MB uploaded (0.00MB deduped)\\r'), FloatProgress(value=1.0, max=1.0)…"
            ]
          },
          "metadata": {
            "tags": []
          }
        },
        {
          "output_type": "display_data",
          "data": {
            "text/html": [
              "Find user logs for this run at: <code>/content/feeder_repo/wandb/run-20210719_132014-tv1tskxq/logs/debug.log</code>"
            ],
            "text/plain": [
              "<IPython.core.display.HTML object>"
            ]
          },
          "metadata": {
            "tags": []
          }
        },
        {
          "output_type": "display_data",
          "data": {
            "text/html": [
              "Find internal logs for this run at: <code>/content/feeder_repo/wandb/run-20210719_132014-tv1tskxq/logs/debug-internal.log</code>"
            ],
            "text/plain": [
              "<IPython.core.display.HTML object>"
            ]
          },
          "metadata": {
            "tags": []
          }
        },
        {
          "output_type": "display_data",
          "data": {
            "text/html": [
              "<h3>Run summary:</h3><br/><style>\n",
              "    table.wandb td:nth-child(1) { padding: 0 10px; text-align: right }\n",
              "    </style><table class=\"wandb\">\n",
              "<tr><td>epoch</td><td>19</td></tr><tr><td>loss</td><td>0.0013</td></tr><tr><td>mean_squared_error</td><td>0.0013</td></tr><tr><td>mean_absolute_error</td><td>0.02383</td></tr><tr><td>val_loss</td><td>0.00558</td></tr><tr><td>val_mean_squared_error</td><td>0.00558</td></tr><tr><td>val_mean_absolute_error</td><td>0.05964</td></tr><tr><td>_runtime</td><td>16</td></tr><tr><td>_timestamp</td><td>1626700830</td></tr><tr><td>_step</td><td>19</td></tr><tr><td>best_val_loss</td><td>0.0048</td></tr><tr><td>best_epoch</td><td>9</td></tr></table>"
            ],
            "text/plain": [
              "<IPython.core.display.HTML object>"
            ]
          },
          "metadata": {
            "tags": []
          }
        },
        {
          "output_type": "display_data",
          "data": {
            "text/html": [
              "<h3>Run history:</h3><br/><style>\n",
              "    table.wandb td:nth-child(1) { padding: 0 10px; text-align: right }\n",
              "    </style><table class=\"wandb\">\n",
              "<tr><td>epoch</td><td>▁▁▂▂▂▃▃▄▄▄▅▅▅▆▆▇▇▇██</td></tr><tr><td>loss</td><td>█▂▂▂▁▁▂▂▂▂▁▁▁▂▁▁▁▁▁▁</td></tr><tr><td>mean_squared_error</td><td>█▂▂▂▁▁▂▂▂▂▁▁▁▂▁▁▁▁▁▁</td></tr><tr><td>mean_absolute_error</td><td>█▃▃▃▂▂▃▃▃▃▂▂▁▃▂▂▂▂▁▂</td></tr><tr><td>val_loss</td><td>▁▁▁▁▂▁▁█▂▁▁▂▁▂▁▂▁▁▁▁</td></tr><tr><td>val_mean_squared_error</td><td>▁▁▁▁▂▁▁█▂▁▁▂▁▂▁▂▁▁▁▁</td></tr><tr><td>val_mean_absolute_error</td><td>▂▁▂▁▂▁▁█▃▁▁▂▁▂▂▃▂▂▁▂</td></tr><tr><td>_runtime</td><td>▁▁▁▂▂▂▄▄▄▄▅▅▅▅▇▇▇███</td></tr><tr><td>_timestamp</td><td>▁▁▁▂▂▂▄▄▄▄▅▅▅▅▇▇▇███</td></tr><tr><td>_step</td><td>▁▁▂▂▂▃▃▄▄▄▅▅▅▆▆▇▇▇██</td></tr></table><br/>"
            ],
            "text/plain": [
              "<IPython.core.display.HTML object>"
            ]
          },
          "metadata": {
            "tags": []
          }
        },
        {
          "output_type": "display_data",
          "data": {
            "text/html": [
              "Synced 5 W&B file(s), 1 media file(s), 2 artifact file(s) and 2 other file(s)"
            ],
            "text/plain": [
              "<IPython.core.display.HTML object>"
            ]
          },
          "metadata": {
            "tags": []
          }
        },
        {
          "output_type": "display_data",
          "data": {
            "text/html": [
              "\n",
              "                    <br/>Synced <strong style=\"color:#cdcd00\">hearty-sweep-29</strong>: <a href=\"https://wandb.ai/acse-jaq15/ACSE_9_LSTM_GRU/runs/tv1tskxq\" target=\"_blank\">https://wandb.ai/acse-jaq15/ACSE_9_LSTM_GRU/runs/tv1tskxq</a><br/>\n",
              "                "
            ],
            "text/plain": [
              "<IPython.core.display.HTML object>"
            ]
          },
          "metadata": {
            "tags": []
          }
        },
        {
          "output_type": "stream",
          "text": [
            "\u001b[34m\u001b[1mwandb\u001b[0m: Agent Starting Run: pc3z5xo5 with config:\n",
            "\u001b[34m\u001b[1mwandb\u001b[0m: \tactivation: tanh\n",
            "\u001b[34m\u001b[1mwandb\u001b[0m: \tbatch_size: 64\n",
            "\u001b[34m\u001b[1mwandb\u001b[0m: \tdropout: 0.3\n",
            "\u001b[34m\u001b[1mwandb\u001b[0m: \tepochs: 200\n",
            "\u001b[34m\u001b[1mwandb\u001b[0m: \tlearning_rate: 0.0005\n",
            "\u001b[34m\u001b[1mwandb\u001b[0m: \toptimizer: rmsprop\n"
          ],
          "name": "stderr"
        },
        {
          "output_type": "display_data",
          "data": {
            "text/html": [
              "\n",
              "                Tracking run with wandb version 0.11.0<br/>\n",
              "                Syncing run <strong style=\"color:#cdcd00\">wild-sweep-30</strong> to <a href=\"https://wandb.ai\" target=\"_blank\">Weights & Biases</a> <a href=\"https://docs.wandb.com/integrations/jupyter.html\" target=\"_blank\">(Documentation)</a>.<br/>\n",
              "                Project page: <a href=\"https://wandb.ai/acse-jaq15/ACSE_9_LSTM_GRU\" target=\"_blank\">https://wandb.ai/acse-jaq15/ACSE_9_LSTM_GRU</a><br/>\n",
              "                Sweep page: <a href=\"https://wandb.ai/acse-jaq15/ACSE_9_LSTM_GRU/sweeps/s5xopigt\" target=\"_blank\">https://wandb.ai/acse-jaq15/ACSE_9_LSTM_GRU/sweeps/s5xopigt</a><br/>\n",
              "Run page: <a href=\"https://wandb.ai/acse-jaq15/ACSE_9_LSTM_GRU/runs/pc3z5xo5\" target=\"_blank\">https://wandb.ai/acse-jaq15/ACSE_9_LSTM_GRU/runs/pc3z5xo5</a><br/>\n",
              "                Run data is saved locally in <code>/content/feeder_repo/wandb/run-20210719_132039-pc3z5xo5</code><br/><br/>\n",
              "            "
            ],
            "text/plain": [
              "<IPython.core.display.HTML object>"
            ]
          },
          "metadata": {
            "tags": []
          }
        },
        {
          "output_type": "stream",
          "text": [
            "Epoch 1/200\n",
            "16/16 [==============================] - 6s 88ms/step - loss: 0.0635 - mean_squared_error: 0.0635 - mean_absolute_error: 0.1522 - val_loss: 0.0180 - val_mean_squared_error: 0.0180 - val_mean_absolute_error: 0.0996\n",
            "Epoch 2/200\n",
            "16/16 [==============================] - 0s 11ms/step - loss: 0.0022 - mean_squared_error: 0.0022 - mean_absolute_error: 0.0289 - val_loss: 0.0133 - val_mean_squared_error: 0.0133 - val_mean_absolute_error: 0.0818\n",
            "Epoch 3/200\n",
            "16/16 [==============================] - 0s 13ms/step - loss: 0.0015 - mean_squared_error: 0.0015 - mean_absolute_error: 0.0223 - val_loss: 0.0119 - val_mean_squared_error: 0.0119 - val_mean_absolute_error: 0.0911\n",
            "Epoch 4/200\n",
            "16/16 [==============================] - 0s 12ms/step - loss: 0.0019 - mean_squared_error: 0.0019 - mean_absolute_error: 0.0259 - val_loss: 0.0224 - val_mean_squared_error: 0.0224 - val_mean_absolute_error: 0.1309\n",
            "Epoch 5/200\n",
            "16/16 [==============================] - 0s 13ms/step - loss: 0.0024 - mean_squared_error: 0.0024 - mean_absolute_error: 0.0302 - val_loss: 0.0115 - val_mean_squared_error: 0.0115 - val_mean_absolute_error: 0.0756\n",
            "Epoch 6/200\n",
            "16/16 [==============================] - 0s 12ms/step - loss: 0.0019 - mean_squared_error: 0.0019 - mean_absolute_error: 0.0253 - val_loss: 0.0097 - val_mean_squared_error: 0.0097 - val_mean_absolute_error: 0.0793\n",
            "Epoch 7/200\n",
            "16/16 [==============================] - 0s 15ms/step - loss: 0.0022 - mean_squared_error: 0.0022 - mean_absolute_error: 0.0278 - val_loss: 0.0087 - val_mean_squared_error: 0.0087 - val_mean_absolute_error: 0.0684\n",
            "Epoch 8/200\n",
            "16/16 [==============================] - 0s 12ms/step - loss: 0.0017 - mean_squared_error: 0.0017 - mean_absolute_error: 0.0236 - val_loss: 0.0085 - val_mean_squared_error: 0.0085 - val_mean_absolute_error: 0.0714\n",
            "Epoch 9/200\n",
            "16/16 [==============================] - 0s 12ms/step - loss: 0.0026 - mean_squared_error: 0.0026 - mean_absolute_error: 0.0295 - val_loss: 0.0097 - val_mean_squared_error: 0.0097 - val_mean_absolute_error: 0.0815\n",
            "Epoch 10/200\n",
            "16/16 [==============================] - 0s 12ms/step - loss: 0.0016 - mean_squared_error: 0.0016 - mean_absolute_error: 0.0237 - val_loss: 0.0086 - val_mean_squared_error: 0.0086 - val_mean_absolute_error: 0.0743\n",
            "Epoch 11/200\n",
            "16/16 [==============================] - 0s 13ms/step - loss: 0.0018 - mean_squared_error: 0.0018 - mean_absolute_error: 0.0251 - val_loss: 0.0086 - val_mean_squared_error: 0.0086 - val_mean_absolute_error: 0.0652\n",
            "Epoch 12/200\n",
            "16/16 [==============================] - 0s 13ms/step - loss: 0.0020 - mean_squared_error: 0.0020 - mean_absolute_error: 0.0258 - val_loss: 0.0098 - val_mean_squared_error: 0.0098 - val_mean_absolute_error: 0.0709\n",
            "Epoch 13/200\n",
            "16/16 [==============================] - 0s 14ms/step - loss: 0.0015 - mean_squared_error: 0.0015 - mean_absolute_error: 0.0211 - val_loss: 0.0098 - val_mean_squared_error: 0.0098 - val_mean_absolute_error: 0.0715\n",
            "Epoch 14/200\n",
            "16/16 [==============================] - 0s 13ms/step - loss: 0.0013 - mean_squared_error: 0.0013 - mean_absolute_error: 0.0215 - val_loss: 0.0073 - val_mean_squared_error: 0.0073 - val_mean_absolute_error: 0.0667\n",
            "Epoch 15/200\n",
            "16/16 [==============================] - 0s 12ms/step - loss: 0.0013 - mean_squared_error: 0.0013 - mean_absolute_error: 0.0200 - val_loss: 0.0069 - val_mean_squared_error: 0.0069 - val_mean_absolute_error: 0.0634\n",
            "Epoch 16/200\n",
            "16/16 [==============================] - 0s 13ms/step - loss: 0.0014 - mean_squared_error: 0.0014 - mean_absolute_error: 0.0214 - val_loss: 0.0070 - val_mean_squared_error: 0.0070 - val_mean_absolute_error: 0.0588\n",
            "Epoch 17/200\n",
            "16/16 [==============================] - 0s 12ms/step - loss: 0.0013 - mean_squared_error: 0.0013 - mean_absolute_error: 0.0202 - val_loss: 0.0128 - val_mean_squared_error: 0.0128 - val_mean_absolute_error: 0.0882\n",
            "Epoch 18/200\n",
            "16/16 [==============================] - 0s 13ms/step - loss: 0.0019 - mean_squared_error: 0.0019 - mean_absolute_error: 0.0255 - val_loss: 0.0064 - val_mean_squared_error: 0.0064 - val_mean_absolute_error: 0.0572\n",
            "Epoch 19/200\n",
            "16/16 [==============================] - 0s 12ms/step - loss: 0.0017 - mean_squared_error: 0.0017 - mean_absolute_error: 0.0236 - val_loss: 0.0062 - val_mean_squared_error: 0.0062 - val_mean_absolute_error: 0.0579\n",
            "Epoch 20/200\n",
            "16/16 [==============================] - 0s 12ms/step - loss: 0.0012 - mean_squared_error: 0.0012 - mean_absolute_error: 0.0194 - val_loss: 0.0062 - val_mean_squared_error: 0.0062 - val_mean_absolute_error: 0.0580\n",
            "Epoch 21/200\n",
            "16/16 [==============================] - 0s 12ms/step - loss: 0.0014 - mean_squared_error: 0.0014 - mean_absolute_error: 0.0213 - val_loss: 0.0071 - val_mean_squared_error: 0.0071 - val_mean_absolute_error: 0.0593\n",
            "Epoch 22/200\n",
            "16/16 [==============================] - 0s 12ms/step - loss: 0.0013 - mean_squared_error: 0.0013 - mean_absolute_error: 0.0207 - val_loss: 0.0064 - val_mean_squared_error: 0.0064 - val_mean_absolute_error: 0.0625\n",
            "Epoch 23/200\n",
            "16/16 [==============================] - 0s 13ms/step - loss: 0.0011 - mean_squared_error: 0.0011 - mean_absolute_error: 0.0188 - val_loss: 0.0069 - val_mean_squared_error: 0.0069 - val_mean_absolute_error: 0.0665\n",
            "Epoch 24/200\n",
            "16/16 [==============================] - 0s 12ms/step - loss: 0.0011 - mean_squared_error: 0.0011 - mean_absolute_error: 0.0187 - val_loss: 0.0088 - val_mean_squared_error: 0.0088 - val_mean_absolute_error: 0.0701\n",
            "Epoch 25/200\n",
            "16/16 [==============================] - 0s 14ms/step - loss: 0.0013 - mean_squared_error: 0.0013 - mean_absolute_error: 0.0218 - val_loss: 0.0056 - val_mean_squared_error: 0.0056 - val_mean_absolute_error: 0.0548\n",
            "Epoch 26/200\n",
            "16/16 [==============================] - 0s 12ms/step - loss: 9.2554e-04 - mean_squared_error: 9.2554e-04 - mean_absolute_error: 0.0182 - val_loss: 0.0084 - val_mean_squared_error: 0.0084 - val_mean_absolute_error: 0.0681\n",
            "Epoch 27/200\n",
            "16/16 [==============================] - 0s 12ms/step - loss: 9.1841e-04 - mean_squared_error: 9.1841e-04 - mean_absolute_error: 0.0175 - val_loss: 0.0060 - val_mean_squared_error: 0.0060 - val_mean_absolute_error: 0.0602\n",
            "Epoch 28/200\n",
            "16/16 [==============================] - 0s 16ms/step - loss: 9.6502e-04 - mean_squared_error: 9.6502e-04 - mean_absolute_error: 0.0182 - val_loss: 0.0107 - val_mean_squared_error: 0.0107 - val_mean_absolute_error: 0.0806\n",
            "Epoch 29/200\n",
            "16/16 [==============================] - 0s 13ms/step - loss: 0.0011 - mean_squared_error: 0.0011 - mean_absolute_error: 0.0201 - val_loss: 0.0057 - val_mean_squared_error: 0.0057 - val_mean_absolute_error: 0.0577\n",
            "Epoch 30/200\n",
            "16/16 [==============================] - 0s 12ms/step - loss: 0.0013 - mean_squared_error: 0.0013 - mean_absolute_error: 0.0215 - val_loss: 0.0059 - val_mean_squared_error: 0.0059 - val_mean_absolute_error: 0.0593\n",
            "Epoch 31/200\n",
            "16/16 [==============================] - 0s 13ms/step - loss: 0.0011 - mean_squared_error: 0.0011 - mean_absolute_error: 0.0192 - val_loss: 0.0055 - val_mean_squared_error: 0.0055 - val_mean_absolute_error: 0.0551\n",
            "Epoch 32/200\n",
            "16/16 [==============================] - 0s 13ms/step - loss: 0.0014 - mean_squared_error: 0.0014 - mean_absolute_error: 0.0227 - val_loss: 0.0079 - val_mean_squared_error: 0.0079 - val_mean_absolute_error: 0.0659\n",
            "Epoch 33/200\n",
            "16/16 [==============================] - 0s 12ms/step - loss: 8.5420e-04 - mean_squared_error: 8.5420e-04 - mean_absolute_error: 0.0181 - val_loss: 0.0055 - val_mean_squared_error: 0.0055 - val_mean_absolute_error: 0.0527\n",
            "Epoch 34/200\n",
            "16/16 [==============================] - 0s 14ms/step - loss: 0.0011 - mean_squared_error: 0.0011 - mean_absolute_error: 0.0191 - val_loss: 0.0071 - val_mean_squared_error: 0.0071 - val_mean_absolute_error: 0.0688\n",
            "Epoch 35/200\n",
            "16/16 [==============================] - 0s 12ms/step - loss: 0.0011 - mean_squared_error: 0.0011 - mean_absolute_error: 0.0197 - val_loss: 0.0062 - val_mean_squared_error: 0.0062 - val_mean_absolute_error: 0.0627\n",
            "Epoch 36/200\n",
            "16/16 [==============================] - 0s 13ms/step - loss: 9.7097e-04 - mean_squared_error: 9.7097e-04 - mean_absolute_error: 0.0192 - val_loss: 0.0084 - val_mean_squared_error: 0.0084 - val_mean_absolute_error: 0.0690\n",
            "Epoch 37/200\n",
            "16/16 [==============================] - 0s 13ms/step - loss: 0.0010 - mean_squared_error: 0.0010 - mean_absolute_error: 0.0183 - val_loss: 0.0066 - val_mean_squared_error: 0.0066 - val_mean_absolute_error: 0.0652\n",
            "Epoch 38/200\n",
            "16/16 [==============================] - 0s 12ms/step - loss: 0.0011 - mean_squared_error: 0.0011 - mean_absolute_error: 0.0195 - val_loss: 0.0056 - val_mean_squared_error: 0.0056 - val_mean_absolute_error: 0.0529\n",
            "Epoch 39/200\n",
            "16/16 [==============================] - 0s 13ms/step - loss: 0.0013 - mean_squared_error: 0.0013 - mean_absolute_error: 0.0220 - val_loss: 0.0052 - val_mean_squared_error: 0.0052 - val_mean_absolute_error: 0.0528\n",
            "Epoch 40/200\n",
            "16/16 [==============================] - 0s 12ms/step - loss: 8.8030e-04 - mean_squared_error: 8.8030e-04 - mean_absolute_error: 0.0175 - val_loss: 0.0070 - val_mean_squared_error: 0.0070 - val_mean_absolute_error: 0.0609\n",
            "Epoch 41/200\n",
            "16/16 [==============================] - 0s 12ms/step - loss: 0.0010 - mean_squared_error: 0.0010 - mean_absolute_error: 0.0180 - val_loss: 0.0075 - val_mean_squared_error: 0.0075 - val_mean_absolute_error: 0.0642\n",
            "Epoch 42/200\n",
            "16/16 [==============================] - 0s 14ms/step - loss: 8.9063e-04 - mean_squared_error: 8.9063e-04 - mean_absolute_error: 0.0183 - val_loss: 0.0051 - val_mean_squared_error: 0.0051 - val_mean_absolute_error: 0.0525\n",
            "Epoch 43/200\n",
            "16/16 [==============================] - 0s 12ms/step - loss: 0.0010 - mean_squared_error: 0.0010 - mean_absolute_error: 0.0180 - val_loss: 0.0054 - val_mean_squared_error: 0.0054 - val_mean_absolute_error: 0.0519\n",
            "Epoch 44/200\n",
            "16/16 [==============================] - 0s 12ms/step - loss: 0.0010 - mean_squared_error: 0.0010 - mean_absolute_error: 0.0184 - val_loss: 0.0090 - val_mean_squared_error: 0.0090 - val_mean_absolute_error: 0.0731\n",
            "Epoch 45/200\n",
            "16/16 [==============================] - 0s 13ms/step - loss: 0.0010 - mean_squared_error: 0.0010 - mean_absolute_error: 0.0190 - val_loss: 0.0072 - val_mean_squared_error: 0.0072 - val_mean_absolute_error: 0.0627\n",
            "Epoch 46/200\n",
            "16/16 [==============================] - 0s 14ms/step - loss: 9.8643e-04 - mean_squared_error: 9.8643e-04 - mean_absolute_error: 0.0187 - val_loss: 0.0054 - val_mean_squared_error: 0.0054 - val_mean_absolute_error: 0.0567\n",
            "Epoch 47/200\n",
            "16/16 [==============================] - 0s 12ms/step - loss: 9.0057e-04 - mean_squared_error: 9.0057e-04 - mean_absolute_error: 0.0180 - val_loss: 0.0050 - val_mean_squared_error: 0.0050 - val_mean_absolute_error: 0.0506\n",
            "Epoch 48/200\n",
            "16/16 [==============================] - 0s 12ms/step - loss: 0.0012 - mean_squared_error: 0.0012 - mean_absolute_error: 0.0197 - val_loss: 0.0050 - val_mean_squared_error: 0.0050 - val_mean_absolute_error: 0.0536\n",
            "Epoch 49/200\n",
            "16/16 [==============================] - 0s 12ms/step - loss: 0.0010 - mean_squared_error: 0.0010 - mean_absolute_error: 0.0187 - val_loss: 0.0084 - val_mean_squared_error: 0.0084 - val_mean_absolute_error: 0.0700\n",
            "Epoch 50/200\n",
            "16/16 [==============================] - 0s 12ms/step - loss: 9.0276e-04 - mean_squared_error: 9.0276e-04 - mean_absolute_error: 0.0177 - val_loss: 0.0074 - val_mean_squared_error: 0.0074 - val_mean_absolute_error: 0.0646\n",
            "Epoch 51/200\n",
            "16/16 [==============================] - 0s 15ms/step - loss: 0.0011 - mean_squared_error: 0.0011 - mean_absolute_error: 0.0206 - val_loss: 0.0065 - val_mean_squared_error: 0.0065 - val_mean_absolute_error: 0.0590\n",
            "Epoch 52/200\n",
            "16/16 [==============================] - 0s 15ms/step - loss: 0.0010 - mean_squared_error: 0.0010 - mean_absolute_error: 0.0199 - val_loss: 0.0057 - val_mean_squared_error: 0.0057 - val_mean_absolute_error: 0.0597\n",
            "Epoch 53/200\n",
            "16/16 [==============================] - 0s 14ms/step - loss: 0.0011 - mean_squared_error: 0.0011 - mean_absolute_error: 0.0204 - val_loss: 0.0059 - val_mean_squared_error: 0.0059 - val_mean_absolute_error: 0.0610\n",
            "Epoch 54/200\n",
            "16/16 [==============================] - 0s 12ms/step - loss: 0.0010 - mean_squared_error: 0.0010 - mean_absolute_error: 0.0194 - val_loss: 0.0050 - val_mean_squared_error: 0.0050 - val_mean_absolute_error: 0.0540\n",
            "Epoch 55/200\n",
            "16/16 [==============================] - 0s 13ms/step - loss: 9.8552e-04 - mean_squared_error: 9.8552e-04 - mean_absolute_error: 0.0189 - val_loss: 0.0060 - val_mean_squared_error: 0.0060 - val_mean_absolute_error: 0.0618\n",
            "Epoch 56/200\n",
            "16/16 [==============================] - 0s 13ms/step - loss: 0.0012 - mean_squared_error: 0.0012 - mean_absolute_error: 0.0208 - val_loss: 0.0048 - val_mean_squared_error: 0.0048 - val_mean_absolute_error: 0.0518\n",
            "Epoch 57/200\n",
            "16/16 [==============================] - 0s 12ms/step - loss: 8.8614e-04 - mean_squared_error: 8.8614e-04 - mean_absolute_error: 0.0171 - val_loss: 0.0048 - val_mean_squared_error: 0.0048 - val_mean_absolute_error: 0.0510\n",
            "Epoch 58/200\n",
            "16/16 [==============================] - 0s 12ms/step - loss: 0.0010 - mean_squared_error: 0.0010 - mean_absolute_error: 0.0193 - val_loss: 0.0048 - val_mean_squared_error: 0.0048 - val_mean_absolute_error: 0.0517\n",
            "Epoch 59/200\n",
            "16/16 [==============================] - 0s 12ms/step - loss: 0.0010 - mean_squared_error: 0.0010 - mean_absolute_error: 0.0189 - val_loss: 0.0047 - val_mean_squared_error: 0.0047 - val_mean_absolute_error: 0.0501\n",
            "Epoch 60/200\n",
            "16/16 [==============================] - 0s 12ms/step - loss: 0.0011 - mean_squared_error: 0.0011 - mean_absolute_error: 0.0194 - val_loss: 0.0052 - val_mean_squared_error: 0.0052 - val_mean_absolute_error: 0.0559\n",
            "Epoch 61/200\n",
            "16/16 [==============================] - 0s 13ms/step - loss: 0.0011 - mean_squared_error: 0.0011 - mean_absolute_error: 0.0203 - val_loss: 0.0054 - val_mean_squared_error: 0.0054 - val_mean_absolute_error: 0.0578\n",
            "Epoch 62/200\n",
            "16/16 [==============================] - 0s 13ms/step - loss: 8.9361e-04 - mean_squared_error: 8.9361e-04 - mean_absolute_error: 0.0180 - val_loss: 0.0094 - val_mean_squared_error: 0.0094 - val_mean_absolute_error: 0.0760\n",
            "Epoch 63/200\n",
            "16/16 [==============================] - 0s 12ms/step - loss: 9.5674e-04 - mean_squared_error: 9.5674e-04 - mean_absolute_error: 0.0182 - val_loss: 0.0057 - val_mean_squared_error: 0.0057 - val_mean_absolute_error: 0.0545\n",
            "Epoch 64/200\n",
            "16/16 [==============================] - 0s 12ms/step - loss: 9.7868e-04 - mean_squared_error: 9.7868e-04 - mean_absolute_error: 0.0194 - val_loss: 0.0055 - val_mean_squared_error: 0.0055 - val_mean_absolute_error: 0.0583\n",
            "Epoch 65/200\n",
            "16/16 [==============================] - 0s 16ms/step - loss: 8.2569e-04 - mean_squared_error: 8.2569e-04 - mean_absolute_error: 0.0177 - val_loss: 0.0100 - val_mean_squared_error: 0.0100 - val_mean_absolute_error: 0.0793\n",
            "Epoch 66/200\n",
            "16/16 [==============================] - 0s 13ms/step - loss: 0.0012 - mean_squared_error: 0.0012 - mean_absolute_error: 0.0186 - val_loss: 0.0047 - val_mean_squared_error: 0.0047 - val_mean_absolute_error: 0.0506\n",
            "Epoch 67/200\n",
            "16/16 [==============================] - 0s 12ms/step - loss: 7.0005e-04 - mean_squared_error: 7.0005e-04 - mean_absolute_error: 0.0159 - val_loss: 0.0132 - val_mean_squared_error: 0.0132 - val_mean_absolute_error: 0.0949\n",
            "Epoch 68/200\n",
            "16/16 [==============================] - 0s 12ms/step - loss: 0.0010 - mean_squared_error: 0.0010 - mean_absolute_error: 0.0181 - val_loss: 0.0051 - val_mean_squared_error: 0.0051 - val_mean_absolute_error: 0.0553\n",
            "Epoch 69/200\n",
            "16/16 [==============================] - 0s 12ms/step - loss: 0.0010 - mean_squared_error: 0.0010 - mean_absolute_error: 0.0182 - val_loss: 0.0052 - val_mean_squared_error: 0.0052 - val_mean_absolute_error: 0.0563\n",
            "Epoch 70/200\n",
            "16/16 [==============================] - 0s 13ms/step - loss: 7.5745e-04 - mean_squared_error: 7.5745e-04 - mean_absolute_error: 0.0165 - val_loss: 0.0057 - val_mean_squared_error: 0.0057 - val_mean_absolute_error: 0.0608\n",
            "Epoch 71/200\n",
            "16/16 [==============================] - 0s 13ms/step - loss: 0.0012 - mean_squared_error: 0.0012 - mean_absolute_error: 0.0191 - val_loss: 0.0045 - val_mean_squared_error: 0.0045 - val_mean_absolute_error: 0.0484\n",
            "Epoch 72/200\n",
            "16/16 [==============================] - 0s 13ms/step - loss: 8.3984e-04 - mean_squared_error: 8.3984e-04 - mean_absolute_error: 0.0167 - val_loss: 0.0048 - val_mean_squared_error: 0.0048 - val_mean_absolute_error: 0.0534\n",
            "Epoch 73/200\n",
            "16/16 [==============================] - 0s 12ms/step - loss: 7.2682e-04 - mean_squared_error: 7.2682e-04 - mean_absolute_error: 0.0161 - val_loss: 0.0057 - val_mean_squared_error: 0.0057 - val_mean_absolute_error: 0.0551\n",
            "Epoch 74/200\n",
            "16/16 [==============================] - 0s 15ms/step - loss: 8.7317e-04 - mean_squared_error: 8.7317e-04 - mean_absolute_error: 0.0181 - val_loss: 0.0058 - val_mean_squared_error: 0.0058 - val_mean_absolute_error: 0.0555\n",
            "Epoch 75/200\n",
            "16/16 [==============================] - 0s 14ms/step - loss: 8.0370e-04 - mean_squared_error: 8.0370e-04 - mean_absolute_error: 0.0176 - val_loss: 0.0090 - val_mean_squared_error: 0.0090 - val_mean_absolute_error: 0.0749\n",
            "Epoch 76/200\n",
            "16/16 [==============================] - 0s 12ms/step - loss: 8.9480e-04 - mean_squared_error: 8.9480e-04 - mean_absolute_error: 0.0171 - val_loss: 0.0059 - val_mean_squared_error: 0.0059 - val_mean_absolute_error: 0.0621\n",
            "Epoch 77/200\n",
            "16/16 [==============================] - 0s 12ms/step - loss: 9.4935e-04 - mean_squared_error: 9.4935e-04 - mean_absolute_error: 0.0180 - val_loss: 0.0047 - val_mean_squared_error: 0.0047 - val_mean_absolute_error: 0.0482\n",
            "Epoch 78/200\n",
            "16/16 [==============================] - 0s 17ms/step - loss: 8.0555e-04 - mean_squared_error: 8.0555e-04 - mean_absolute_error: 0.0177 - val_loss: 0.0046 - val_mean_squared_error: 0.0046 - val_mean_absolute_error: 0.0514\n",
            "Epoch 79/200\n",
            "16/16 [==============================] - 0s 12ms/step - loss: 8.5384e-04 - mean_squared_error: 8.5384e-04 - mean_absolute_error: 0.0176 - val_loss: 0.0046 - val_mean_squared_error: 0.0046 - val_mean_absolute_error: 0.0514\n",
            "Epoch 80/200\n",
            "16/16 [==============================] - 0s 13ms/step - loss: 6.9368e-04 - mean_squared_error: 6.9368e-04 - mean_absolute_error: 0.0160 - val_loss: 0.0046 - val_mean_squared_error: 0.0046 - val_mean_absolute_error: 0.0519\n",
            "Epoch 81/200\n",
            "16/16 [==============================] - 0s 13ms/step - loss: 7.5282e-04 - mean_squared_error: 7.5282e-04 - mean_absolute_error: 0.0165 - val_loss: 0.0044 - val_mean_squared_error: 0.0044 - val_mean_absolute_error: 0.0506\n",
            "Epoch 82/200\n",
            "16/16 [==============================] - 0s 13ms/step - loss: 8.1572e-04 - mean_squared_error: 8.1572e-04 - mean_absolute_error: 0.0173 - val_loss: 0.0051 - val_mean_squared_error: 0.0051 - val_mean_absolute_error: 0.0568\n",
            "Epoch 83/200\n",
            "16/16 [==============================] - 0s 13ms/step - loss: 6.3965e-04 - mean_squared_error: 6.3965e-04 - mean_absolute_error: 0.0150 - val_loss: 0.0054 - val_mean_squared_error: 0.0054 - val_mean_absolute_error: 0.0588\n",
            "Epoch 84/200\n",
            "16/16 [==============================] - 0s 14ms/step - loss: 7.3639e-04 - mean_squared_error: 7.3639e-04 - mean_absolute_error: 0.0167 - val_loss: 0.0051 - val_mean_squared_error: 0.0051 - val_mean_absolute_error: 0.0514\n",
            "Epoch 85/200\n",
            "16/16 [==============================] - 0s 12ms/step - loss: 6.7711e-04 - mean_squared_error: 6.7711e-04 - mean_absolute_error: 0.0159 - val_loss: 0.0043 - val_mean_squared_error: 0.0043 - val_mean_absolute_error: 0.0474\n",
            "Epoch 86/200\n",
            "16/16 [==============================] - 0s 11ms/step - loss: 9.5389e-04 - mean_squared_error: 9.5389e-04 - mean_absolute_error: 0.0182 - val_loss: 0.0043 - val_mean_squared_error: 0.0043 - val_mean_absolute_error: 0.0473\n",
            "Epoch 87/200\n",
            "16/16 [==============================] - 0s 12ms/step - loss: 9.3831e-04 - mean_squared_error: 9.3831e-04 - mean_absolute_error: 0.0188 - val_loss: 0.0081 - val_mean_squared_error: 0.0081 - val_mean_absolute_error: 0.0705\n",
            "Epoch 88/200\n",
            "16/16 [==============================] - 0s 11ms/step - loss: 9.3572e-04 - mean_squared_error: 9.3572e-04 - mean_absolute_error: 0.0182 - val_loss: 0.0042 - val_mean_squared_error: 0.0042 - val_mean_absolute_error: 0.0479\n",
            "Epoch 89/200\n",
            "16/16 [==============================] - 0s 11ms/step - loss: 7.0076e-04 - mean_squared_error: 7.0076e-04 - mean_absolute_error: 0.0161 - val_loss: 0.0044 - val_mean_squared_error: 0.0044 - val_mean_absolute_error: 0.0468\n",
            "Epoch 90/200\n",
            "16/16 [==============================] - 0s 11ms/step - loss: 8.1709e-04 - mean_squared_error: 8.1709e-04 - mean_absolute_error: 0.0171 - val_loss: 0.0042 - val_mean_squared_error: 0.0042 - val_mean_absolute_error: 0.0473\n",
            "Epoch 91/200\n",
            "16/16 [==============================] - 0s 11ms/step - loss: 6.2369e-04 - mean_squared_error: 6.2369e-04 - mean_absolute_error: 0.0143 - val_loss: 0.0042 - val_mean_squared_error: 0.0042 - val_mean_absolute_error: 0.0474\n",
            "Epoch 92/200\n",
            "16/16 [==============================] - 0s 12ms/step - loss: 8.1116e-04 - mean_squared_error: 8.1116e-04 - mean_absolute_error: 0.0175 - val_loss: 0.0050 - val_mean_squared_error: 0.0050 - val_mean_absolute_error: 0.0511\n",
            "Epoch 93/200\n",
            "16/16 [==============================] - 0s 12ms/step - loss: 9.1581e-04 - mean_squared_error: 9.1581e-04 - mean_absolute_error: 0.0181 - val_loss: 0.0051 - val_mean_squared_error: 0.0051 - val_mean_absolute_error: 0.0571\n",
            "Epoch 94/200\n",
            "16/16 [==============================] - 0s 14ms/step - loss: 7.9222e-04 - mean_squared_error: 7.9222e-04 - mean_absolute_error: 0.0179 - val_loss: 0.0061 - val_mean_squared_error: 0.0061 - val_mean_absolute_error: 0.0648\n",
            "Epoch 95/200\n",
            "16/16 [==============================] - 0s 11ms/step - loss: 8.6747e-04 - mean_squared_error: 8.6747e-04 - mean_absolute_error: 0.0175 - val_loss: 0.0111 - val_mean_squared_error: 0.0111 - val_mean_absolute_error: 0.0923\n",
            "Epoch 96/200\n",
            "16/16 [==============================] - 0s 11ms/step - loss: 9.2676e-04 - mean_squared_error: 9.2676e-04 - mean_absolute_error: 0.0184 - val_loss: 0.0074 - val_mean_squared_error: 0.0074 - val_mean_absolute_error: 0.0663\n",
            "Epoch 97/200\n",
            "16/16 [==============================] - 0s 12ms/step - loss: 9.1460e-04 - mean_squared_error: 9.1460e-04 - mean_absolute_error: 0.0187 - val_loss: 0.0107 - val_mean_squared_error: 0.0107 - val_mean_absolute_error: 0.0848\n",
            "Epoch 98/200\n",
            "16/16 [==============================] - 0s 11ms/step - loss: 8.9779e-04 - mean_squared_error: 8.9779e-04 - mean_absolute_error: 0.0182 - val_loss: 0.0041 - val_mean_squared_error: 0.0041 - val_mean_absolute_error: 0.0477\n",
            "Epoch 99/200\n",
            "16/16 [==============================] - 0s 11ms/step - loss: 9.0830e-04 - mean_squared_error: 9.0830e-04 - mean_absolute_error: 0.0176 - val_loss: 0.0042 - val_mean_squared_error: 0.0042 - val_mean_absolute_error: 0.0456\n",
            "Epoch 100/200\n",
            "16/16 [==============================] - 0s 13ms/step - loss: 6.1424e-04 - mean_squared_error: 6.1424e-04 - mean_absolute_error: 0.0151 - val_loss: 0.0068 - val_mean_squared_error: 0.0068 - val_mean_absolute_error: 0.0633\n",
            "Epoch 101/200\n",
            "16/16 [==============================] - 0s 14ms/step - loss: 8.2521e-04 - mean_squared_error: 8.2521e-04 - mean_absolute_error: 0.0180 - val_loss: 0.0073 - val_mean_squared_error: 0.0073 - val_mean_absolute_error: 0.0721\n",
            "Epoch 102/200\n",
            "16/16 [==============================] - 0s 17ms/step - loss: 0.0010 - mean_squared_error: 0.0010 - mean_absolute_error: 0.0187 - val_loss: 0.0105 - val_mean_squared_error: 0.0105 - val_mean_absolute_error: 0.0842\n",
            "Epoch 103/200\n",
            "16/16 [==============================] - 0s 12ms/step - loss: 7.5645e-04 - mean_squared_error: 7.5645e-04 - mean_absolute_error: 0.0176 - val_loss: 0.0041 - val_mean_squared_error: 0.0041 - val_mean_absolute_error: 0.0453\n",
            "Epoch 104/200\n",
            "16/16 [==============================] - 0s 13ms/step - loss: 5.4587e-04 - mean_squared_error: 5.4587e-04 - mean_absolute_error: 0.0144 - val_loss: 0.0048 - val_mean_squared_error: 0.0048 - val_mean_absolute_error: 0.0556\n",
            "Epoch 105/200\n",
            "16/16 [==============================] - 0s 12ms/step - loss: 8.0966e-04 - mean_squared_error: 8.0966e-04 - mean_absolute_error: 0.0167 - val_loss: 0.0041 - val_mean_squared_error: 0.0041 - val_mean_absolute_error: 0.0452\n",
            "Epoch 106/200\n",
            "16/16 [==============================] - 0s 16ms/step - loss: 7.5841e-04 - mean_squared_error: 7.5841e-04 - mean_absolute_error: 0.0168 - val_loss: 0.0040 - val_mean_squared_error: 0.0040 - val_mean_absolute_error: 0.0458\n",
            "Epoch 107/200\n",
            "16/16 [==============================] - 0s 14ms/step - loss: 7.9328e-04 - mean_squared_error: 7.9328e-04 - mean_absolute_error: 0.0170 - val_loss: 0.0043 - val_mean_squared_error: 0.0043 - val_mean_absolute_error: 0.0461\n",
            "Epoch 108/200\n",
            "16/16 [==============================] - 0s 13ms/step - loss: 6.3925e-04 - mean_squared_error: 6.3925e-04 - mean_absolute_error: 0.0151 - val_loss: 0.0039 - val_mean_squared_error: 0.0039 - val_mean_absolute_error: 0.0457\n",
            "Epoch 109/200\n",
            "16/16 [==============================] - 0s 12ms/step - loss: 7.1081e-04 - mean_squared_error: 7.1081e-04 - mean_absolute_error: 0.0167 - val_loss: 0.0042 - val_mean_squared_error: 0.0042 - val_mean_absolute_error: 0.0498\n",
            "Epoch 110/200\n",
            "16/16 [==============================] - 0s 14ms/step - loss: 7.6542e-04 - mean_squared_error: 7.6542e-04 - mean_absolute_error: 0.0174 - val_loss: 0.0054 - val_mean_squared_error: 0.0054 - val_mean_absolute_error: 0.0601\n",
            "Epoch 111/200\n",
            "16/16 [==============================] - 0s 13ms/step - loss: 0.0010 - mean_squared_error: 0.0010 - mean_absolute_error: 0.0196 - val_loss: 0.0041 - val_mean_squared_error: 0.0041 - val_mean_absolute_error: 0.0452\n",
            "Epoch 112/200\n",
            "16/16 [==============================] - 0s 11ms/step - loss: 7.0841e-04 - mean_squared_error: 7.0841e-04 - mean_absolute_error: 0.0159 - val_loss: 0.0041 - val_mean_squared_error: 0.0041 - val_mean_absolute_error: 0.0486\n",
            "Epoch 113/200\n",
            "16/16 [==============================] - 0s 13ms/step - loss: 7.0229e-04 - mean_squared_error: 7.0229e-04 - mean_absolute_error: 0.0158 - val_loss: 0.0042 - val_mean_squared_error: 0.0042 - val_mean_absolute_error: 0.0504\n",
            "Epoch 114/200\n",
            "16/16 [==============================] - 0s 12ms/step - loss: 6.7144e-04 - mean_squared_error: 6.7144e-04 - mean_absolute_error: 0.0155 - val_loss: 0.0043 - val_mean_squared_error: 0.0043 - val_mean_absolute_error: 0.0509\n",
            "Epoch 115/200\n",
            "16/16 [==============================] - 0s 15ms/step - loss: 7.7861e-04 - mean_squared_error: 7.7861e-04 - mean_absolute_error: 0.0171 - val_loss: 0.0044 - val_mean_squared_error: 0.0044 - val_mean_absolute_error: 0.0468\n",
            "Epoch 116/200\n",
            "16/16 [==============================] - 0s 12ms/step - loss: 6.9375e-04 - mean_squared_error: 6.9375e-04 - mean_absolute_error: 0.0159 - val_loss: 0.0040 - val_mean_squared_error: 0.0040 - val_mean_absolute_error: 0.0445\n",
            "Epoch 117/200\n",
            "16/16 [==============================] - 0s 13ms/step - loss: 6.4514e-04 - mean_squared_error: 6.4514e-04 - mean_absolute_error: 0.0158 - val_loss: 0.0051 - val_mean_squared_error: 0.0051 - val_mean_absolute_error: 0.0581\n",
            "Epoch 118/200\n",
            "16/16 [==============================] - 0s 12ms/step - loss: 7.0744e-04 - mean_squared_error: 7.0744e-04 - mean_absolute_error: 0.0160 - val_loss: 0.0039 - val_mean_squared_error: 0.0039 - val_mean_absolute_error: 0.0473\n",
            "Epoch 119/200\n",
            "16/16 [==============================] - 0s 13ms/step - loss: 6.1730e-04 - mean_squared_error: 6.1730e-04 - mean_absolute_error: 0.0152 - val_loss: 0.0047 - val_mean_squared_error: 0.0047 - val_mean_absolute_error: 0.0549\n",
            "Epoch 120/200\n",
            "16/16 [==============================] - 0s 15ms/step - loss: 6.7739e-04 - mean_squared_error: 6.7739e-04 - mean_absolute_error: 0.0160 - val_loss: 0.0038 - val_mean_squared_error: 0.0038 - val_mean_absolute_error: 0.0462\n",
            "Epoch 121/200\n",
            "16/16 [==============================] - 0s 12ms/step - loss: 7.6933e-04 - mean_squared_error: 7.6933e-04 - mean_absolute_error: 0.0173 - val_loss: 0.0038 - val_mean_squared_error: 0.0038 - val_mean_absolute_error: 0.0454\n",
            "Epoch 122/200\n",
            "16/16 [==============================] - 0s 12ms/step - loss: 6.7174e-04 - mean_squared_error: 6.7174e-04 - mean_absolute_error: 0.0161 - val_loss: 0.0066 - val_mean_squared_error: 0.0066 - val_mean_absolute_error: 0.0689\n",
            "Epoch 123/200\n",
            "16/16 [==============================] - 0s 13ms/step - loss: 9.6162e-04 - mean_squared_error: 9.6162e-04 - mean_absolute_error: 0.0191 - val_loss: 0.0041 - val_mean_squared_error: 0.0041 - val_mean_absolute_error: 0.0452\n",
            "Epoch 124/200\n",
            "16/16 [==============================] - 0s 18ms/step - loss: 6.7486e-04 - mean_squared_error: 6.7486e-04 - mean_absolute_error: 0.0160 - val_loss: 0.0037 - val_mean_squared_error: 0.0037 - val_mean_absolute_error: 0.0436\n",
            "Epoch 125/200\n",
            "16/16 [==============================] - 0s 13ms/step - loss: 5.6655e-04 - mean_squared_error: 5.6655e-04 - mean_absolute_error: 0.0151 - val_loss: 0.0040 - val_mean_squared_error: 0.0040 - val_mean_absolute_error: 0.0489\n",
            "Epoch 126/200\n",
            "16/16 [==============================] - 0s 13ms/step - loss: 8.0224e-04 - mean_squared_error: 8.0224e-04 - mean_absolute_error: 0.0163 - val_loss: 0.0038 - val_mean_squared_error: 0.0038 - val_mean_absolute_error: 0.0432\n",
            "Epoch 127/200\n",
            "16/16 [==============================] - 0s 13ms/step - loss: 7.1569e-04 - mean_squared_error: 7.1569e-04 - mean_absolute_error: 0.0171 - val_loss: 0.0054 - val_mean_squared_error: 0.0054 - val_mean_absolute_error: 0.0550\n",
            "Epoch 128/200\n",
            "16/16 [==============================] - 0s 14ms/step - loss: 6.6454e-04 - mean_squared_error: 6.6454e-04 - mean_absolute_error: 0.0163 - val_loss: 0.0056 - val_mean_squared_error: 0.0056 - val_mean_absolute_error: 0.0558\n",
            "Epoch 129/200\n",
            "16/16 [==============================] - 0s 15ms/step - loss: 9.5426e-04 - mean_squared_error: 9.5426e-04 - mean_absolute_error: 0.0190 - val_loss: 0.0039 - val_mean_squared_error: 0.0039 - val_mean_absolute_error: 0.0438\n",
            "Epoch 130/200\n",
            "16/16 [==============================] - 0s 12ms/step - loss: 6.3834e-04 - mean_squared_error: 6.3834e-04 - mean_absolute_error: 0.0162 - val_loss: 0.0038 - val_mean_squared_error: 0.0038 - val_mean_absolute_error: 0.0430\n",
            "Epoch 131/200\n",
            "16/16 [==============================] - 0s 12ms/step - loss: 5.2953e-04 - mean_squared_error: 5.2953e-04 - mean_absolute_error: 0.0140 - val_loss: 0.0053 - val_mean_squared_error: 0.0053 - val_mean_absolute_error: 0.0538\n",
            "Epoch 132/200\n",
            "16/16 [==============================] - 0s 17ms/step - loss: 8.8141e-04 - mean_squared_error: 8.8141e-04 - mean_absolute_error: 0.0192 - val_loss: 0.0037 - val_mean_squared_error: 0.0037 - val_mean_absolute_error: 0.0429\n",
            "Epoch 133/200\n",
            "16/16 [==============================] - 0s 15ms/step - loss: 5.8709e-04 - mean_squared_error: 5.8709e-04 - mean_absolute_error: 0.0150 - val_loss: 0.0036 - val_mean_squared_error: 0.0036 - val_mean_absolute_error: 0.0428\n",
            "Epoch 134/200\n",
            "16/16 [==============================] - 0s 13ms/step - loss: 6.5693e-04 - mean_squared_error: 6.5693e-04 - mean_absolute_error: 0.0164 - val_loss: 0.0045 - val_mean_squared_error: 0.0045 - val_mean_absolute_error: 0.0546\n",
            "Epoch 135/200\n",
            "16/16 [==============================] - 0s 13ms/step - loss: 6.2446e-04 - mean_squared_error: 6.2446e-04 - mean_absolute_error: 0.0157 - val_loss: 0.0040 - val_mean_squared_error: 0.0040 - val_mean_absolute_error: 0.0442\n",
            "Epoch 136/200\n",
            "16/16 [==============================] - 0s 16ms/step - loss: 6.4473e-04 - mean_squared_error: 6.4473e-04 - mean_absolute_error: 0.0162 - val_loss: 0.0054 - val_mean_squared_error: 0.0054 - val_mean_absolute_error: 0.0613\n",
            "Epoch 137/200\n",
            "16/16 [==============================] - 0s 14ms/step - loss: 8.9296e-04 - mean_squared_error: 8.9296e-04 - mean_absolute_error: 0.0186 - val_loss: 0.0043 - val_mean_squared_error: 0.0043 - val_mean_absolute_error: 0.0527\n",
            "Epoch 138/200\n",
            "16/16 [==============================] - 0s 13ms/step - loss: 6.1384e-04 - mean_squared_error: 6.1384e-04 - mean_absolute_error: 0.0148 - val_loss: 0.0072 - val_mean_squared_error: 0.0072 - val_mean_absolute_error: 0.0673\n",
            "Epoch 139/200\n",
            "16/16 [==============================] - 0s 15ms/step - loss: 8.0223e-04 - mean_squared_error: 8.0223e-04 - mean_absolute_error: 0.0171 - val_loss: 0.0036 - val_mean_squared_error: 0.0036 - val_mean_absolute_error: 0.0437\n",
            "Epoch 140/200\n",
            "16/16 [==============================] - 0s 15ms/step - loss: 6.7629e-04 - mean_squared_error: 6.7629e-04 - mean_absolute_error: 0.0161 - val_loss: 0.0044 - val_mean_squared_error: 0.0044 - val_mean_absolute_error: 0.0468\n",
            "Epoch 141/200\n",
            "16/16 [==============================] - 0s 14ms/step - loss: 8.0311e-04 - mean_squared_error: 8.0311e-04 - mean_absolute_error: 0.0185 - val_loss: 0.0060 - val_mean_squared_error: 0.0060 - val_mean_absolute_error: 0.0590\n",
            "Epoch 142/200\n",
            "16/16 [==============================] - 0s 12ms/step - loss: 8.3176e-04 - mean_squared_error: 8.3176e-04 - mean_absolute_error: 0.0178 - val_loss: 0.0036 - val_mean_squared_error: 0.0036 - val_mean_absolute_error: 0.0428\n",
            "Epoch 143/200\n",
            "16/16 [==============================] - 0s 14ms/step - loss: 6.0379e-04 - mean_squared_error: 6.0379e-04 - mean_absolute_error: 0.0154 - val_loss: 0.0036 - val_mean_squared_error: 0.0036 - val_mean_absolute_error: 0.0420\n",
            "Epoch 144/200\n",
            "16/16 [==============================] - 0s 12ms/step - loss: 5.9339e-04 - mean_squared_error: 5.9339e-04 - mean_absolute_error: 0.0146 - val_loss: 0.0064 - val_mean_squared_error: 0.0064 - val_mean_absolute_error: 0.0614\n",
            "Epoch 145/200\n",
            "16/16 [==============================] - 0s 13ms/step - loss: 5.8884e-04 - mean_squared_error: 5.8884e-04 - mean_absolute_error: 0.0159 - val_loss: 0.0048 - val_mean_squared_error: 0.0048 - val_mean_absolute_error: 0.0505\n",
            "Epoch 146/200\n",
            "16/16 [==============================] - 0s 13ms/step - loss: 6.3745e-04 - mean_squared_error: 6.3745e-04 - mean_absolute_error: 0.0156 - val_loss: 0.0041 - val_mean_squared_error: 0.0041 - val_mean_absolute_error: 0.0511\n",
            "Epoch 147/200\n",
            "16/16 [==============================] - 0s 12ms/step - loss: 8.1646e-04 - mean_squared_error: 8.1646e-04 - mean_absolute_error: 0.0171 - val_loss: 0.0038 - val_mean_squared_error: 0.0038 - val_mean_absolute_error: 0.0424\n",
            "Epoch 148/200\n",
            "16/16 [==============================] - 0s 12ms/step - loss: 6.5357e-04 - mean_squared_error: 6.5357e-04 - mean_absolute_error: 0.0165 - val_loss: 0.0035 - val_mean_squared_error: 0.0035 - val_mean_absolute_error: 0.0440\n",
            "Epoch 149/200\n",
            "16/16 [==============================] - 0s 16ms/step - loss: 6.9500e-04 - mean_squared_error: 6.9500e-04 - mean_absolute_error: 0.0162 - val_loss: 0.0061 - val_mean_squared_error: 0.0061 - val_mean_absolute_error: 0.0596\n",
            "Epoch 150/200\n",
            "16/16 [==============================] - 0s 13ms/step - loss: 6.9273e-04 - mean_squared_error: 6.9273e-04 - mean_absolute_error: 0.0166 - val_loss: 0.0043 - val_mean_squared_error: 0.0043 - val_mean_absolute_error: 0.0526\n",
            "Epoch 151/200\n",
            "16/16 [==============================] - 0s 12ms/step - loss: 7.4073e-04 - mean_squared_error: 7.4073e-04 - mean_absolute_error: 0.0169 - val_loss: 0.0045 - val_mean_squared_error: 0.0045 - val_mean_absolute_error: 0.0483\n",
            "Epoch 152/200\n",
            "16/16 [==============================] - 0s 13ms/step - loss: 7.1320e-04 - mean_squared_error: 7.1320e-04 - mean_absolute_error: 0.0167 - val_loss: 0.0035 - val_mean_squared_error: 0.0035 - val_mean_absolute_error: 0.0445\n",
            "Epoch 153/200\n",
            "16/16 [==============================] - 0s 13ms/step - loss: 5.9903e-04 - mean_squared_error: 5.9903e-04 - mean_absolute_error: 0.0150 - val_loss: 0.0038 - val_mean_squared_error: 0.0038 - val_mean_absolute_error: 0.0430\n",
            "Epoch 154/200\n",
            "16/16 [==============================] - 0s 14ms/step - loss: 6.1200e-04 - mean_squared_error: 6.1200e-04 - mean_absolute_error: 0.0155 - val_loss: 0.0039 - val_mean_squared_error: 0.0039 - val_mean_absolute_error: 0.0435\n",
            "Epoch 155/200\n",
            "16/16 [==============================] - 0s 13ms/step - loss: 6.1970e-04 - mean_squared_error: 6.1970e-04 - mean_absolute_error: 0.0157 - val_loss: 0.0044 - val_mean_squared_error: 0.0044 - val_mean_absolute_error: 0.0473\n",
            "Epoch 156/200\n",
            "16/16 [==============================] - 0s 13ms/step - loss: 6.5077e-04 - mean_squared_error: 6.5077e-04 - mean_absolute_error: 0.0163 - val_loss: 0.0034 - val_mean_squared_error: 0.0034 - val_mean_absolute_error: 0.0412\n",
            "Epoch 157/200\n",
            "16/16 [==============================] - 0s 14ms/step - loss: 6.8164e-04 - mean_squared_error: 6.8164e-04 - mean_absolute_error: 0.0163 - val_loss: 0.0054 - val_mean_squared_error: 0.0054 - val_mean_absolute_error: 0.0550\n",
            "Epoch 158/200\n",
            "16/16 [==============================] - 0s 13ms/step - loss: 7.4702e-04 - mean_squared_error: 7.4702e-04 - mean_absolute_error: 0.0168 - val_loss: 0.0041 - val_mean_squared_error: 0.0041 - val_mean_absolute_error: 0.0452\n",
            "Epoch 159/200\n",
            "16/16 [==============================] - 0s 14ms/step - loss: 6.3882e-04 - mean_squared_error: 6.3882e-04 - mean_absolute_error: 0.0150 - val_loss: 0.0035 - val_mean_squared_error: 0.0035 - val_mean_absolute_error: 0.0412\n",
            "Epoch 160/200\n",
            "16/16 [==============================] - 0s 13ms/step - loss: 5.9699e-04 - mean_squared_error: 5.9699e-04 - mean_absolute_error: 0.0152 - val_loss: 0.0034 - val_mean_squared_error: 0.0034 - val_mean_absolute_error: 0.0407\n",
            "Epoch 161/200\n",
            "16/16 [==============================] - 0s 13ms/step - loss: 5.5675e-04 - mean_squared_error: 5.5675e-04 - mean_absolute_error: 0.0144 - val_loss: 0.0037 - val_mean_squared_error: 0.0037 - val_mean_absolute_error: 0.0418\n",
            "Epoch 162/200\n",
            "16/16 [==============================] - 0s 12ms/step - loss: 6.2021e-04 - mean_squared_error: 6.2021e-04 - mean_absolute_error: 0.0157 - val_loss: 0.0036 - val_mean_squared_error: 0.0036 - val_mean_absolute_error: 0.0462\n",
            "Epoch 163/200\n",
            "16/16 [==============================] - 0s 15ms/step - loss: 6.1435e-04 - mean_squared_error: 6.1435e-04 - mean_absolute_error: 0.0150 - val_loss: 0.0033 - val_mean_squared_error: 0.0033 - val_mean_absolute_error: 0.0421\n",
            "Epoch 164/200\n",
            "16/16 [==============================] - 0s 14ms/step - loss: 5.7753e-04 - mean_squared_error: 5.7753e-04 - mean_absolute_error: 0.0162 - val_loss: 0.0038 - val_mean_squared_error: 0.0038 - val_mean_absolute_error: 0.0431\n",
            "Epoch 165/200\n",
            "16/16 [==============================] - 0s 14ms/step - loss: 8.7684e-04 - mean_squared_error: 8.7684e-04 - mean_absolute_error: 0.0184 - val_loss: 0.0036 - val_mean_squared_error: 0.0036 - val_mean_absolute_error: 0.0411\n",
            "Epoch 166/200\n",
            "16/16 [==============================] - 0s 14ms/step - loss: 6.3304e-04 - mean_squared_error: 6.3304e-04 - mean_absolute_error: 0.0156 - val_loss: 0.0038 - val_mean_squared_error: 0.0038 - val_mean_absolute_error: 0.0425\n",
            "Epoch 167/200\n",
            "16/16 [==============================] - 0s 12ms/step - loss: 5.8633e-04 - mean_squared_error: 5.8633e-04 - mean_absolute_error: 0.0149 - val_loss: 0.0062 - val_mean_squared_error: 0.0062 - val_mean_absolute_error: 0.0611\n",
            "Epoch 168/200\n",
            "16/16 [==============================] - 0s 13ms/step - loss: 7.3429e-04 - mean_squared_error: 7.3429e-04 - mean_absolute_error: 0.0176 - val_loss: 0.0036 - val_mean_squared_error: 0.0036 - val_mean_absolute_error: 0.0418\n",
            "Epoch 169/200\n",
            "16/16 [==============================] - 0s 13ms/step - loss: 6.8657e-04 - mean_squared_error: 6.8657e-04 - mean_absolute_error: 0.0156 - val_loss: 0.0035 - val_mean_squared_error: 0.0035 - val_mean_absolute_error: 0.0404\n",
            "Epoch 170/200\n",
            "16/16 [==============================] - 0s 14ms/step - loss: 8.3501e-04 - mean_squared_error: 8.3501e-04 - mean_absolute_error: 0.0181 - val_loss: 0.0032 - val_mean_squared_error: 0.0032 - val_mean_absolute_error: 0.0401\n",
            "Epoch 171/200\n",
            "16/16 [==============================] - 0s 14ms/step - loss: 5.7708e-04 - mean_squared_error: 5.7708e-04 - mean_absolute_error: 0.0154 - val_loss: 0.0036 - val_mean_squared_error: 0.0036 - val_mean_absolute_error: 0.0413\n",
            "Epoch 172/200\n",
            "16/16 [==============================] - 0s 14ms/step - loss: 6.2342e-04 - mean_squared_error: 6.2342e-04 - mean_absolute_error: 0.0156 - val_loss: 0.0035 - val_mean_squared_error: 0.0035 - val_mean_absolute_error: 0.0405\n",
            "Epoch 173/200\n",
            "16/16 [==============================] - 0s 13ms/step - loss: 7.0767e-04 - mean_squared_error: 7.0767e-04 - mean_absolute_error: 0.0168 - val_loss: 0.0032 - val_mean_squared_error: 0.0032 - val_mean_absolute_error: 0.0402\n",
            "Epoch 174/200\n",
            "16/16 [==============================] - 0s 15ms/step - loss: 5.4819e-04 - mean_squared_error: 5.4819e-04 - mean_absolute_error: 0.0150 - val_loss: 0.0046 - val_mean_squared_error: 0.0046 - val_mean_absolute_error: 0.0493\n",
            "Epoch 175/200\n",
            "16/16 [==============================] - 0s 14ms/step - loss: 6.1785e-04 - mean_squared_error: 6.1785e-04 - mean_absolute_error: 0.0158 - val_loss: 0.0032 - val_mean_squared_error: 0.0032 - val_mean_absolute_error: 0.0412\n",
            "Epoch 176/200\n",
            "16/16 [==============================] - 0s 17ms/step - loss: 7.6959e-04 - mean_squared_error: 7.6959e-04 - mean_absolute_error: 0.0174 - val_loss: 0.0034 - val_mean_squared_error: 0.0034 - val_mean_absolute_error: 0.0442\n",
            "Epoch 177/200\n",
            "16/16 [==============================] - 0s 13ms/step - loss: 4.9770e-04 - mean_squared_error: 4.9770e-04 - mean_absolute_error: 0.0142 - val_loss: 0.0057 - val_mean_squared_error: 0.0057 - val_mean_absolute_error: 0.0573\n",
            "Epoch 178/200\n",
            "16/16 [==============================] - 0s 14ms/step - loss: 5.6042e-04 - mean_squared_error: 5.6042e-04 - mean_absolute_error: 0.0143 - val_loss: 0.0040 - val_mean_squared_error: 0.0040 - val_mean_absolute_error: 0.0447\n",
            "Epoch 179/200\n",
            "16/16 [==============================] - 0s 13ms/step - loss: 5.2358e-04 - mean_squared_error: 5.2358e-04 - mean_absolute_error: 0.0146 - val_loss: 0.0033 - val_mean_squared_error: 0.0033 - val_mean_absolute_error: 0.0436\n",
            "Epoch 180/200\n",
            "16/16 [==============================] - 0s 16ms/step - loss: 7.9964e-04 - mean_squared_error: 7.9964e-04 - mean_absolute_error: 0.0169 - val_loss: 0.0033 - val_mean_squared_error: 0.0033 - val_mean_absolute_error: 0.0399\n",
            "Epoch 181/200\n",
            "16/16 [==============================] - 0s 13ms/step - loss: 5.7982e-04 - mean_squared_error: 5.7982e-04 - mean_absolute_error: 0.0152 - val_loss: 0.0034 - val_mean_squared_error: 0.0034 - val_mean_absolute_error: 0.0398\n",
            "Epoch 182/200\n",
            "16/16 [==============================] - 0s 14ms/step - loss: 5.4636e-04 - mean_squared_error: 5.4636e-04 - mean_absolute_error: 0.0145 - val_loss: 0.0032 - val_mean_squared_error: 0.0032 - val_mean_absolute_error: 0.0411\n",
            "Epoch 183/200\n",
            "16/16 [==============================] - 0s 15ms/step - loss: 5.8465e-04 - mean_squared_error: 5.8465e-04 - mean_absolute_error: 0.0163 - val_loss: 0.0063 - val_mean_squared_error: 0.0063 - val_mean_absolute_error: 0.0625\n"
          ],
          "name": "stdout"
        },
        {
          "output_type": "display_data",
          "data": {
            "text/html": [
              "<br/>Waiting for W&B process to finish, PID 7896<br/>Program ended successfully."
            ],
            "text/plain": [
              "<IPython.core.display.HTML object>"
            ]
          },
          "metadata": {
            "tags": []
          }
        },
        {
          "output_type": "display_data",
          "data": {
            "application/vnd.jupyter.widget-view+json": {
              "model_id": "02c9bd5ed30f4d548993e72d0318b4c4",
              "version_minor": 0,
              "version_major": 2
            },
            "text/plain": [
              "VBox(children=(Label(value=' 0.72MB of 0.72MB uploaded (0.00MB deduped)\\r'), FloatProgress(value=1.0, max=1.0)…"
            ]
          },
          "metadata": {
            "tags": []
          }
        },
        {
          "output_type": "display_data",
          "data": {
            "text/html": [
              "Find user logs for this run at: <code>/content/feeder_repo/wandb/run-20210719_132039-pc3z5xo5/logs/debug.log</code>"
            ],
            "text/plain": [
              "<IPython.core.display.HTML object>"
            ]
          },
          "metadata": {
            "tags": []
          }
        },
        {
          "output_type": "display_data",
          "data": {
            "text/html": [
              "Find internal logs for this run at: <code>/content/feeder_repo/wandb/run-20210719_132039-pc3z5xo5/logs/debug-internal.log</code>"
            ],
            "text/plain": [
              "<IPython.core.display.HTML object>"
            ]
          },
          "metadata": {
            "tags": []
          }
        },
        {
          "output_type": "display_data",
          "data": {
            "text/html": [
              "<h3>Run summary:</h3><br/><style>\n",
              "    table.wandb td:nth-child(1) { padding: 0 10px; text-align: right }\n",
              "    </style><table class=\"wandb\">\n",
              "<tr><td>epoch</td><td>182</td></tr><tr><td>loss</td><td>0.00069</td></tr><tr><td>mean_squared_error</td><td>0.00069</td></tr><tr><td>mean_absolute_error</td><td>0.01694</td></tr><tr><td>val_loss</td><td>0.00632</td></tr><tr><td>val_mean_squared_error</td><td>0.00632</td></tr><tr><td>val_mean_absolute_error</td><td>0.06251</td></tr><tr><td>_runtime</td><td>51</td></tr><tr><td>_timestamp</td><td>1626700890</td></tr><tr><td>_step</td><td>182</td></tr><tr><td>best_val_loss</td><td>0.00318</td></tr><tr><td>best_epoch</td><td>172</td></tr></table>"
            ],
            "text/plain": [
              "<IPython.core.display.HTML object>"
            ]
          },
          "metadata": {
            "tags": []
          }
        },
        {
          "output_type": "display_data",
          "data": {
            "text/html": [
              "<h3>Run history:</h3><br/><style>\n",
              "    table.wandb td:nth-child(1) { padding: 0 10px; text-align: right }\n",
              "    </style><table class=\"wandb\">\n",
              "<tr><td>epoch</td><td>▁▁▁▁▂▂▂▂▂▃▃▃▃▃▄▄▄▄▄▄▅▅▅▅▅▅▆▆▆▆▆▇▇▇▇▇████</td></tr><tr><td>loss</td><td>█▅▅▄▃▃▂▃▂▂▂▂▂▂▂▂▂▂▂▁▂▂▁▁▁▁▁▁▁▁▁▁▁▁▁▁▁▁▂▁</td></tr><tr><td>mean_squared_error</td><td>█▅▅▄▃▃▂▃▂▂▂▂▂▂▂▂▂▂▂▁▂▂▁▁▁▁▁▁▁▁▁▁▁▁▁▁▁▁▂▁</td></tr><tr><td>mean_absolute_error</td><td>█▆▆▅▃▃▃▃▂▃▂▃▃▂▂▂▂▂▂▂▂▂▂▁▂▂▂▂▂▂▁▁▁▂▁▂▂▁▂▁</td></tr><tr><td>val_loss</td><td>█▅▅▄▃▅▆▄▃▂▂▃▂▂▂▃▃▂▂▂▃▂▆▁▂▂▁▁▁▂▂▃▁▁▂▁▁▁▁▁</td></tr><tr><td>val_mean_squared_error</td><td>█▅▅▄▃▅▆▄▃▂▂▃▂▂▂▃▃▂▂▂▃▂▆▁▂▂▁▁▁▂▂▃▁▁▂▁▁▁▁▁</td></tr><tr><td>val_mean_absolute_error</td><td>█▇▆▅▄▆▇▆▃▃▃▄▃▄▃▄▃▃▃▂▅▂█▂▂▂▂▂▁▃▂▄▂▂▂▂▁▁▂▁</td></tr><tr><td>_runtime</td><td>▁▁▁▂▂▂▂▂▂▃▃▃▃▃▄▄▄▄▄▄▅▅▅▅▅▅▅▆▆▆▆▆▇▇▇▇▇███</td></tr><tr><td>_timestamp</td><td>▁▁▁▂▂▂▂▂▂▃▃▃▃▃▄▄▄▄▄▄▅▅▅▅▅▅▅▆▆▆▆▆▇▇▇▇▇███</td></tr><tr><td>_step</td><td>▁▁▁▁▂▂▂▂▂▃▃▃▃▃▄▄▄▄▄▄▅▅▅▅▅▅▆▆▆▆▆▇▇▇▇▇████</td></tr></table><br/>"
            ],
            "text/plain": [
              "<IPython.core.display.HTML object>"
            ]
          },
          "metadata": {
            "tags": []
          }
        },
        {
          "output_type": "display_data",
          "data": {
            "text/html": [
              "Synced 5 W&B file(s), 1 media file(s), 2 artifact file(s) and 2 other file(s)"
            ],
            "text/plain": [
              "<IPython.core.display.HTML object>"
            ]
          },
          "metadata": {
            "tags": []
          }
        },
        {
          "output_type": "display_data",
          "data": {
            "text/html": [
              "\n",
              "                    <br/>Synced <strong style=\"color:#cdcd00\">wild-sweep-30</strong>: <a href=\"https://wandb.ai/acse-jaq15/ACSE_9_LSTM_GRU/runs/pc3z5xo5\" target=\"_blank\">https://wandb.ai/acse-jaq15/ACSE_9_LSTM_GRU/runs/pc3z5xo5</a><br/>\n",
              "                "
            ],
            "text/plain": [
              "<IPython.core.display.HTML object>"
            ]
          },
          "metadata": {
            "tags": []
          }
        },
        {
          "output_type": "stream",
          "text": [
            "\u001b[34m\u001b[1mwandb\u001b[0m: Agent Starting Run: pexrm77z with config:\n",
            "\u001b[34m\u001b[1mwandb\u001b[0m: \tactivation: tanh\n",
            "\u001b[34m\u001b[1mwandb\u001b[0m: \tbatch_size: 128\n",
            "\u001b[34m\u001b[1mwandb\u001b[0m: \tdropout: 0.2\n",
            "\u001b[34m\u001b[1mwandb\u001b[0m: \tepochs: 50\n",
            "\u001b[34m\u001b[1mwandb\u001b[0m: \tlearning_rate: 0.001\n",
            "\u001b[34m\u001b[1mwandb\u001b[0m: \toptimizer: rmsprop\n"
          ],
          "name": "stderr"
        },
        {
          "output_type": "display_data",
          "data": {
            "text/html": [
              "\n",
              "                Tracking run with wandb version 0.11.0<br/>\n",
              "                Syncing run <strong style=\"color:#cdcd00\">smooth-sweep-31</strong> to <a href=\"https://wandb.ai\" target=\"_blank\">Weights & Biases</a> <a href=\"https://docs.wandb.com/integrations/jupyter.html\" target=\"_blank\">(Documentation)</a>.<br/>\n",
              "                Project page: <a href=\"https://wandb.ai/acse-jaq15/ACSE_9_LSTM_GRU\" target=\"_blank\">https://wandb.ai/acse-jaq15/ACSE_9_LSTM_GRU</a><br/>\n",
              "                Sweep page: <a href=\"https://wandb.ai/acse-jaq15/ACSE_9_LSTM_GRU/sweeps/s5xopigt\" target=\"_blank\">https://wandb.ai/acse-jaq15/ACSE_9_LSTM_GRU/sweeps/s5xopigt</a><br/>\n",
              "Run page: <a href=\"https://wandb.ai/acse-jaq15/ACSE_9_LSTM_GRU/runs/pexrm77z\" target=\"_blank\">https://wandb.ai/acse-jaq15/ACSE_9_LSTM_GRU/runs/pexrm77z</a><br/>\n",
              "                Run data is saved locally in <code>/content/feeder_repo/wandb/run-20210719_132138-pexrm77z</code><br/><br/>\n",
              "            "
            ],
            "text/plain": [
              "<IPython.core.display.HTML object>"
            ]
          },
          "metadata": {
            "tags": []
          }
        },
        {
          "output_type": "stream",
          "text": [
            "Epoch 1/50\n",
            "8/8 [==============================] - 6s 181ms/step - loss: 0.0563 - mean_squared_error: 0.0563 - mean_absolute_error: 0.1382 - val_loss: 0.0094 - val_mean_squared_error: 0.0094 - val_mean_absolute_error: 0.0696\n",
            "Epoch 2/50\n",
            "8/8 [==============================] - 0s 16ms/step - loss: 0.0022 - mean_squared_error: 0.0022 - mean_absolute_error: 0.0322 - val_loss: 0.0201 - val_mean_squared_error: 0.0201 - val_mean_absolute_error: 0.1142\n",
            "Epoch 3/50\n",
            "8/8 [==============================] - 0s 17ms/step - loss: 0.0046 - mean_squared_error: 0.0046 - mean_absolute_error: 0.0435 - val_loss: 0.0124 - val_mean_squared_error: 0.0124 - val_mean_absolute_error: 0.0824\n",
            "Epoch 4/50\n",
            "8/8 [==============================] - 0s 16ms/step - loss: 0.0021 - mean_squared_error: 0.0021 - mean_absolute_error: 0.0278 - val_loss: 0.0120 - val_mean_squared_error: 0.0120 - val_mean_absolute_error: 0.0808\n",
            "Epoch 5/50\n",
            "8/8 [==============================] - 0s 20ms/step - loss: 0.0022 - mean_squared_error: 0.0022 - mean_absolute_error: 0.0303 - val_loss: 0.0151 - val_mean_squared_error: 0.0151 - val_mean_absolute_error: 0.0962\n",
            "Epoch 6/50\n",
            "8/8 [==============================] - 0s 15ms/step - loss: 0.0021 - mean_squared_error: 0.0021 - mean_absolute_error: 0.0292 - val_loss: 0.0076 - val_mean_squared_error: 0.0076 - val_mean_absolute_error: 0.0626\n",
            "Epoch 7/50\n",
            "8/8 [==============================] - 0s 15ms/step - loss: 0.0023 - mean_squared_error: 0.0023 - mean_absolute_error: 0.0281 - val_loss: 0.0121 - val_mean_squared_error: 0.0121 - val_mean_absolute_error: 0.0939\n",
            "Epoch 8/50\n",
            "8/8 [==============================] - 0s 15ms/step - loss: 0.0025 - mean_squared_error: 0.0025 - mean_absolute_error: 0.0305 - val_loss: 0.0070 - val_mean_squared_error: 0.0070 - val_mean_absolute_error: 0.0614\n",
            "Epoch 9/50\n",
            "8/8 [==============================] - 0s 15ms/step - loss: 0.0019 - mean_squared_error: 0.0019 - mean_absolute_error: 0.0261 - val_loss: 0.0147 - val_mean_squared_error: 0.0147 - val_mean_absolute_error: 0.1050\n",
            "Epoch 10/50\n",
            "8/8 [==============================] - 0s 18ms/step - loss: 0.0029 - mean_squared_error: 0.0029 - mean_absolute_error: 0.0355 - val_loss: 0.0068 - val_mean_squared_error: 0.0068 - val_mean_absolute_error: 0.0617\n",
            "Epoch 11/50\n",
            "8/8 [==============================] - 0s 15ms/step - loss: 0.0015 - mean_squared_error: 0.0015 - mean_absolute_error: 0.0223 - val_loss: 0.0112 - val_mean_squared_error: 0.0112 - val_mean_absolute_error: 0.0896\n",
            "Epoch 12/50\n",
            "8/8 [==============================] - 0s 16ms/step - loss: 0.0025 - mean_squared_error: 0.0025 - mean_absolute_error: 0.0339 - val_loss: 0.0066 - val_mean_squared_error: 0.0066 - val_mean_absolute_error: 0.0611\n",
            "Epoch 13/50\n",
            "8/8 [==============================] - 0s 17ms/step - loss: 0.0020 - mean_squared_error: 0.0020 - mean_absolute_error: 0.0263 - val_loss: 0.0121 - val_mean_squared_error: 0.0121 - val_mean_absolute_error: 0.0943\n",
            "Epoch 14/50\n",
            "8/8 [==============================] - 0s 14ms/step - loss: 0.0022 - mean_squared_error: 0.0022 - mean_absolute_error: 0.0298 - val_loss: 0.0071 - val_mean_squared_error: 0.0071 - val_mean_absolute_error: 0.0587\n",
            "Epoch 15/50\n",
            "8/8 [==============================] - 0s 18ms/step - loss: 0.0017 - mean_squared_error: 0.0017 - mean_absolute_error: 0.0247 - val_loss: 0.0106 - val_mean_squared_error: 0.0106 - val_mean_absolute_error: 0.0874\n",
            "Epoch 16/50\n",
            "8/8 [==============================] - 0s 15ms/step - loss: 0.0021 - mean_squared_error: 0.0021 - mean_absolute_error: 0.0288 - val_loss: 0.0061 - val_mean_squared_error: 0.0061 - val_mean_absolute_error: 0.0574\n",
            "Epoch 17/50\n",
            "8/8 [==============================] - 0s 16ms/step - loss: 0.0017 - mean_squared_error: 0.0017 - mean_absolute_error: 0.0246 - val_loss: 0.0061 - val_mean_squared_error: 0.0061 - val_mean_absolute_error: 0.0583\n",
            "Epoch 18/50\n",
            "8/8 [==============================] - 0s 15ms/step - loss: 9.1743e-04 - mean_squared_error: 9.1743e-04 - mean_absolute_error: 0.0175 - val_loss: 0.0072 - val_mean_squared_error: 0.0072 - val_mean_absolute_error: 0.0602\n",
            "Epoch 19/50\n",
            "8/8 [==============================] - 0s 17ms/step - loss: 0.0019 - mean_squared_error: 0.0019 - mean_absolute_error: 0.0279 - val_loss: 0.0075 - val_mean_squared_error: 0.0075 - val_mean_absolute_error: 0.0617\n",
            "Epoch 20/50\n",
            "8/8 [==============================] - 0s 13ms/step - loss: 0.0017 - mean_squared_error: 0.0017 - mean_absolute_error: 0.0246 - val_loss: 0.0076 - val_mean_squared_error: 0.0076 - val_mean_absolute_error: 0.0628\n",
            "Epoch 21/50\n",
            "8/8 [==============================] - 0s 18ms/step - loss: 0.0018 - mean_squared_error: 0.0018 - mean_absolute_error: 0.0270 - val_loss: 0.0098 - val_mean_squared_error: 0.0098 - val_mean_absolute_error: 0.0757\n",
            "Epoch 22/50\n",
            "8/8 [==============================] - 0s 14ms/step - loss: 0.0011 - mean_squared_error: 0.0011 - mean_absolute_error: 0.0203 - val_loss: 0.0096 - val_mean_squared_error: 0.0096 - val_mean_absolute_error: 0.0829\n",
            "Epoch 23/50\n",
            "8/8 [==============================] - 0s 19ms/step - loss: 0.0028 - mean_squared_error: 0.0028 - mean_absolute_error: 0.0349 - val_loss: 0.0059 - val_mean_squared_error: 0.0059 - val_mean_absolute_error: 0.0537\n",
            "Epoch 24/50\n",
            "8/8 [==============================] - 0s 17ms/step - loss: 0.0012 - mean_squared_error: 0.0012 - mean_absolute_error: 0.0213 - val_loss: 0.0056 - val_mean_squared_error: 0.0056 - val_mean_absolute_error: 0.0526\n",
            "Epoch 25/50\n",
            "8/8 [==============================] - 0s 15ms/step - loss: 0.0010 - mean_squared_error: 0.0010 - mean_absolute_error: 0.0179 - val_loss: 0.0066 - val_mean_squared_error: 0.0066 - val_mean_absolute_error: 0.0652\n",
            "Epoch 26/50\n",
            "8/8 [==============================] - 0s 17ms/step - loss: 0.0030 - mean_squared_error: 0.0030 - mean_absolute_error: 0.0348 - val_loss: 0.0058 - val_mean_squared_error: 0.0058 - val_mean_absolute_error: 0.0591\n",
            "Epoch 27/50\n",
            "8/8 [==============================] - 0s 15ms/step - loss: 0.0010 - mean_squared_error: 0.0010 - mean_absolute_error: 0.0181 - val_loss: 0.0083 - val_mean_squared_error: 0.0083 - val_mean_absolute_error: 0.0762\n",
            "Epoch 28/50\n",
            "8/8 [==============================] - 0s 16ms/step - loss: 0.0031 - mean_squared_error: 0.0031 - mean_absolute_error: 0.0351 - val_loss: 0.0064 - val_mean_squared_error: 0.0064 - val_mean_absolute_error: 0.0641\n",
            "Epoch 29/50\n",
            "8/8 [==============================] - 0s 14ms/step - loss: 0.0013 - mean_squared_error: 0.0013 - mean_absolute_error: 0.0211 - val_loss: 0.0074 - val_mean_squared_error: 0.0074 - val_mean_absolute_error: 0.0708\n",
            "Epoch 30/50\n",
            "8/8 [==============================] - 0s 13ms/step - loss: 0.0012 - mean_squared_error: 0.0012 - mean_absolute_error: 0.0219 - val_loss: 0.0105 - val_mean_squared_error: 0.0105 - val_mean_absolute_error: 0.0879\n",
            "Epoch 31/50\n",
            "8/8 [==============================] - 0s 15ms/step - loss: 0.0026 - mean_squared_error: 0.0026 - mean_absolute_error: 0.0315 - val_loss: 0.0066 - val_mean_squared_error: 0.0066 - val_mean_absolute_error: 0.0582\n",
            "Epoch 32/50\n",
            "8/8 [==============================] - 0s 17ms/step - loss: 0.0014 - mean_squared_error: 0.0014 - mean_absolute_error: 0.0222 - val_loss: 0.0082 - val_mean_squared_error: 0.0082 - val_mean_absolute_error: 0.0683\n",
            "Epoch 33/50\n",
            "8/8 [==============================] - 0s 15ms/step - loss: 0.0022 - mean_squared_error: 0.0022 - mean_absolute_error: 0.0304 - val_loss: 0.0051 - val_mean_squared_error: 0.0051 - val_mean_absolute_error: 0.0512\n",
            "Epoch 34/50\n",
            "8/8 [==============================] - 0s 14ms/step - loss: 9.2405e-04 - mean_squared_error: 9.2405e-04 - mean_absolute_error: 0.0176 - val_loss: 0.0068 - val_mean_squared_error: 0.0068 - val_mean_absolute_error: 0.0677\n",
            "Epoch 35/50\n",
            "8/8 [==============================] - 0s 14ms/step - loss: 0.0021 - mean_squared_error: 0.0021 - mean_absolute_error: 0.0304 - val_loss: 0.0073 - val_mean_squared_error: 0.0073 - val_mean_absolute_error: 0.0706\n",
            "Epoch 36/50\n",
            "8/8 [==============================] - 0s 14ms/step - loss: 0.0018 - mean_squared_error: 0.0018 - mean_absolute_error: 0.0252 - val_loss: 0.0053 - val_mean_squared_error: 0.0053 - val_mean_absolute_error: 0.0563\n",
            "Epoch 37/50\n",
            "8/8 [==============================] - 0s 15ms/step - loss: 0.0010 - mean_squared_error: 0.0010 - mean_absolute_error: 0.0198 - val_loss: 0.0049 - val_mean_squared_error: 0.0049 - val_mean_absolute_error: 0.0520\n",
            "Epoch 38/50\n",
            "8/8 [==============================] - 0s 14ms/step - loss: 0.0015 - mean_squared_error: 0.0015 - mean_absolute_error: 0.0242 - val_loss: 0.0050 - val_mean_squared_error: 0.0050 - val_mean_absolute_error: 0.0537\n",
            "Epoch 39/50\n",
            "8/8 [==============================] - 0s 16ms/step - loss: 9.0532e-04 - mean_squared_error: 9.0532e-04 - mean_absolute_error: 0.0162 - val_loss: 0.0064 - val_mean_squared_error: 0.0064 - val_mean_absolute_error: 0.0652\n",
            "Epoch 40/50\n",
            "8/8 [==============================] - 0s 15ms/step - loss: 0.0010 - mean_squared_error: 0.0010 - mean_absolute_error: 0.0195 - val_loss: 0.0146 - val_mean_squared_error: 0.0146 - val_mean_absolute_error: 0.1067\n",
            "Epoch 41/50\n",
            "8/8 [==============================] - 0s 15ms/step - loss: 0.0019 - mean_squared_error: 0.0019 - mean_absolute_error: 0.0260 - val_loss: 0.0055 - val_mean_squared_error: 0.0055 - val_mean_absolute_error: 0.0580\n",
            "Epoch 42/50\n",
            "8/8 [==============================] - 0s 14ms/step - loss: 0.0015 - mean_squared_error: 0.0015 - mean_absolute_error: 0.0234 - val_loss: 0.0047 - val_mean_squared_error: 0.0047 - val_mean_absolute_error: 0.0499\n",
            "Epoch 43/50\n",
            "8/8 [==============================] - 0s 18ms/step - loss: 0.0017 - mean_squared_error: 0.0017 - mean_absolute_error: 0.0242 - val_loss: 0.0058 - val_mean_squared_error: 0.0058 - val_mean_absolute_error: 0.0545\n",
            "Epoch 44/50\n",
            "8/8 [==============================] - 0s 14ms/step - loss: 0.0012 - mean_squared_error: 0.0012 - mean_absolute_error: 0.0207 - val_loss: 0.0056 - val_mean_squared_error: 0.0056 - val_mean_absolute_error: 0.0530\n",
            "Epoch 45/50\n",
            "8/8 [==============================] - 0s 15ms/step - loss: 0.0010 - mean_squared_error: 0.0010 - mean_absolute_error: 0.0195 - val_loss: 0.0048 - val_mean_squared_error: 0.0048 - val_mean_absolute_error: 0.0493\n",
            "Epoch 46/50\n",
            "8/8 [==============================] - 0s 14ms/step - loss: 9.3207e-04 - mean_squared_error: 9.3207e-04 - mean_absolute_error: 0.0183 - val_loss: 0.0059 - val_mean_squared_error: 0.0059 - val_mean_absolute_error: 0.0617\n",
            "Epoch 47/50\n",
            "8/8 [==============================] - 0s 19ms/step - loss: 0.0022 - mean_squared_error: 0.0022 - mean_absolute_error: 0.0311 - val_loss: 0.0046 - val_mean_squared_error: 0.0046 - val_mean_absolute_error: 0.0484\n",
            "Epoch 48/50\n",
            "8/8 [==============================] - 0s 17ms/step - loss: 0.0014 - mean_squared_error: 0.0014 - mean_absolute_error: 0.0215 - val_loss: 0.0048 - val_mean_squared_error: 0.0048 - val_mean_absolute_error: 0.0484\n",
            "Epoch 49/50\n",
            "8/8 [==============================] - 0s 16ms/step - loss: 8.5329e-04 - mean_squared_error: 8.5329e-04 - mean_absolute_error: 0.0173 - val_loss: 0.0080 - val_mean_squared_error: 0.0080 - val_mean_absolute_error: 0.0757\n",
            "Epoch 50/50\n",
            "8/8 [==============================] - 0s 15ms/step - loss: 0.0016 - mean_squared_error: 0.0016 - mean_absolute_error: 0.0261 - val_loss: 0.0091 - val_mean_squared_error: 0.0091 - val_mean_absolute_error: 0.0818\n"
          ],
          "name": "stdout"
        },
        {
          "output_type": "display_data",
          "data": {
            "text/html": [
              "<br/>Waiting for W&B process to finish, PID 8510<br/>Program ended successfully."
            ],
            "text/plain": [
              "<IPython.core.display.HTML object>"
            ]
          },
          "metadata": {
            "tags": []
          }
        },
        {
          "output_type": "display_data",
          "data": {
            "application/vnd.jupyter.widget-view+json": {
              "model_id": "ffa3aaf76d3b41979293a2afb06690ef",
              "version_minor": 0,
              "version_major": 2
            },
            "text/plain": [
              "VBox(children=(Label(value=' 0.75MB of 0.75MB uploaded (0.00MB deduped)\\r'), FloatProgress(value=1.0, max=1.0)…"
            ]
          },
          "metadata": {
            "tags": []
          }
        },
        {
          "output_type": "display_data",
          "data": {
            "text/html": [
              "Find user logs for this run at: <code>/content/feeder_repo/wandb/run-20210719_132138-pexrm77z/logs/debug.log</code>"
            ],
            "text/plain": [
              "<IPython.core.display.HTML object>"
            ]
          },
          "metadata": {
            "tags": []
          }
        },
        {
          "output_type": "display_data",
          "data": {
            "text/html": [
              "Find internal logs for this run at: <code>/content/feeder_repo/wandb/run-20210719_132138-pexrm77z/logs/debug-internal.log</code>"
            ],
            "text/plain": [
              "<IPython.core.display.HTML object>"
            ]
          },
          "metadata": {
            "tags": []
          }
        },
        {
          "output_type": "display_data",
          "data": {
            "text/html": [
              "<h3>Run summary:</h3><br/><style>\n",
              "    table.wandb td:nth-child(1) { padding: 0 10px; text-align: right }\n",
              "    </style><table class=\"wandb\">\n",
              "<tr><td>epoch</td><td>49</td></tr><tr><td>loss</td><td>0.00136</td></tr><tr><td>mean_squared_error</td><td>0.00136</td></tr><tr><td>mean_absolute_error</td><td>0.02353</td></tr><tr><td>val_loss</td><td>0.00913</td></tr><tr><td>val_mean_squared_error</td><td>0.00913</td></tr><tr><td>val_mean_absolute_error</td><td>0.08178</td></tr><tr><td>_runtime</td><td>17</td></tr><tr><td>_timestamp</td><td>1626700915</td></tr><tr><td>_step</td><td>49</td></tr><tr><td>best_val_loss</td><td>0.00459</td></tr><tr><td>best_epoch</td><td>46</td></tr></table>"
            ],
            "text/plain": [
              "<IPython.core.display.HTML object>"
            ]
          },
          "metadata": {
            "tags": []
          }
        },
        {
          "output_type": "display_data",
          "data": {
            "text/html": [
              "<h3>Run history:</h3><br/><style>\n",
              "    table.wandb td:nth-child(1) { padding: 0 10px; text-align: right }\n",
              "    </style><table class=\"wandb\">\n",
              "<tr><td>epoch</td><td>▁▁▁▁▂▂▂▂▂▃▃▃▃▃▃▄▄▄▄▄▅▅▅▅▅▅▆▆▆▆▆▆▇▇▇▇▇███</td></tr><tr><td>loss</td><td>█▁▂▁▁▂▁▁▁▁▁▁▁▁▁▁▁▁▁▁▁▁▁▁▁▁▁▁▁▁▁▁▁▁▁▁▁▁▁▁</td></tr><tr><td>mean_squared_error</td><td>█▁▂▁▁▂▁▁▁▁▁▁▁▁▁▁▁▁▁▁▁▁▁▁▁▁▁▁▁▁▁▁▁▁▁▁▁▁▁▁</td></tr><tr><td>mean_absolute_error</td><td>█▂▃▂▂▃▂▂▂▂▂▂▁▂▁▂▂▁▂▁▂▁▂▂▂▁▂▁▂▁▂▁▁▁▂▁▁▂▂▁</td></tr><tr><td>val_loss</td><td>▃█▅▄▂▄▂▆▄▂▄▂▂▂▂▂▃▃▂▁▂▃▂▂▂▃▁▂▁▁▁▂▁▁▂▁▂▁▁▃</td></tr><tr><td>val_mean_squared_error</td><td>▃█▅▄▂▄▂▆▄▂▄▂▂▂▂▂▃▃▂▁▂▃▂▂▂▃▁▂▁▁▁▂▁▁▂▁▂▁▁▃</td></tr><tr><td>val_mean_absolute_error</td><td>▃█▅▄▃▆▂▇▅▂▆▂▂▂▂▂▄▅▂▁▂▄▃▃▂▃▁▃▂▁▂▃▂▁▂▁▂▁▁▅</td></tr><tr><td>_runtime</td><td>▁▂▂▂▂▂▂▃▃▃▃▃▄▄▄▄▄▄▅▅▅▅▅▅▆▆▆▆▆▇▇▇▇▇▇▇████</td></tr><tr><td>_timestamp</td><td>▁▂▂▂▂▂▂▃▃▃▃▃▄▄▄▄▄▄▅▅▅▅▅▅▆▆▆▆▆▇▇▇▇▇▇▇████</td></tr><tr><td>_step</td><td>▁▁▁▁▂▂▂▂▂▃▃▃▃▃▃▄▄▄▄▄▅▅▅▅▅▅▆▆▆▆▆▆▇▇▇▇▇███</td></tr></table><br/>"
            ],
            "text/plain": [
              "<IPython.core.display.HTML object>"
            ]
          },
          "metadata": {
            "tags": []
          }
        },
        {
          "output_type": "display_data",
          "data": {
            "text/html": [
              "Synced 5 W&B file(s), 1 media file(s), 2 artifact file(s) and 2 other file(s)"
            ],
            "text/plain": [
              "<IPython.core.display.HTML object>"
            ]
          },
          "metadata": {
            "tags": []
          }
        },
        {
          "output_type": "display_data",
          "data": {
            "text/html": [
              "\n",
              "                    <br/>Synced <strong style=\"color:#cdcd00\">smooth-sweep-31</strong>: <a href=\"https://wandb.ai/acse-jaq15/ACSE_9_LSTM_GRU/runs/pexrm77z\" target=\"_blank\">https://wandb.ai/acse-jaq15/ACSE_9_LSTM_GRU/runs/pexrm77z</a><br/>\n",
              "                "
            ],
            "text/plain": [
              "<IPython.core.display.HTML object>"
            ]
          },
          "metadata": {
            "tags": []
          }
        },
        {
          "output_type": "stream",
          "text": [
            "\u001b[34m\u001b[1mwandb\u001b[0m: Agent Starting Run: xkq1eyvo with config:\n",
            "\u001b[34m\u001b[1mwandb\u001b[0m: \tactivation: relu\n",
            "\u001b[34m\u001b[1mwandb\u001b[0m: \tbatch_size: 64\n",
            "\u001b[34m\u001b[1mwandb\u001b[0m: \tdropout: 0.3\n",
            "\u001b[34m\u001b[1mwandb\u001b[0m: \tepochs: 100\n",
            "\u001b[34m\u001b[1mwandb\u001b[0m: \tlearning_rate: 0.0005\n",
            "\u001b[34m\u001b[1mwandb\u001b[0m: \toptimizer: adam\n"
          ],
          "name": "stderr"
        },
        {
          "output_type": "display_data",
          "data": {
            "text/html": [
              "\n",
              "                Tracking run with wandb version 0.11.0<br/>\n",
              "                Syncing run <strong style=\"color:#cdcd00\">sunny-sweep-32</strong> to <a href=\"https://wandb.ai\" target=\"_blank\">Weights & Biases</a> <a href=\"https://docs.wandb.com/integrations/jupyter.html\" target=\"_blank\">(Documentation)</a>.<br/>\n",
              "                Project page: <a href=\"https://wandb.ai/acse-jaq15/ACSE_9_LSTM_GRU\" target=\"_blank\">https://wandb.ai/acse-jaq15/ACSE_9_LSTM_GRU</a><br/>\n",
              "                Sweep page: <a href=\"https://wandb.ai/acse-jaq15/ACSE_9_LSTM_GRU/sweeps/s5xopigt\" target=\"_blank\">https://wandb.ai/acse-jaq15/ACSE_9_LSTM_GRU/sweeps/s5xopigt</a><br/>\n",
              "Run page: <a href=\"https://wandb.ai/acse-jaq15/ACSE_9_LSTM_GRU/runs/xkq1eyvo\" target=\"_blank\">https://wandb.ai/acse-jaq15/ACSE_9_LSTM_GRU/runs/xkq1eyvo</a><br/>\n",
              "                Run data is saved locally in <code>/content/feeder_repo/wandb/run-20210719_132205-xkq1eyvo</code><br/><br/>\n",
              "            "
            ],
            "text/plain": [
              "<IPython.core.display.HTML object>"
            ]
          },
          "metadata": {
            "tags": []
          }
        },
        {
          "output_type": "stream",
          "text": [
            "WARNING:tensorflow:Layer lstm will not use cuDNN kernels since it doesn't meet the criteria. It will use a generic GPU kernel as fallback when running on GPU.\n",
            "WARNING:tensorflow:Layer gru will not use cuDNN kernels since it doesn't meet the criteria. It will use a generic GPU kernel as fallback when running on GPU.\n",
            "Epoch 1/100\n",
            "16/16 [==============================] - 8s 257ms/step - loss: 0.1334 - mean_squared_error: 0.1334 - mean_absolute_error: 0.2272 - val_loss: 0.2678 - val_mean_squared_error: 0.2678 - val_mean_absolute_error: 0.4788\n",
            "Epoch 2/100\n",
            "16/16 [==============================] - 3s 185ms/step - loss: 0.0580 - mean_squared_error: 0.0580 - mean_absolute_error: 0.1631 - val_loss: 0.0428 - val_mean_squared_error: 0.0428 - val_mean_absolute_error: 0.1906\n",
            "Epoch 3/100\n",
            "16/16 [==============================] - 3s 178ms/step - loss: 0.0204 - mean_squared_error: 0.0204 - mean_absolute_error: 0.1288 - val_loss: 0.0149 - val_mean_squared_error: 0.0149 - val_mean_absolute_error: 0.1070\n",
            "Epoch 4/100\n",
            "16/16 [==============================] - 3s 185ms/step - loss: 0.0052 - mean_squared_error: 0.0052 - mean_absolute_error: 0.0544 - val_loss: 0.0085 - val_mean_squared_error: 0.0085 - val_mean_absolute_error: 0.0649\n",
            "Epoch 5/100\n",
            "16/16 [==============================] - 3s 190ms/step - loss: 0.0027 - mean_squared_error: 0.0027 - mean_absolute_error: 0.0339 - val_loss: 0.0085 - val_mean_squared_error: 0.0085 - val_mean_absolute_error: 0.0654\n",
            "Epoch 6/100\n",
            "16/16 [==============================] - 3s 191ms/step - loss: 0.0019 - mean_squared_error: 0.0019 - mean_absolute_error: 0.0264 - val_loss: 0.0083 - val_mean_squared_error: 0.0083 - val_mean_absolute_error: 0.0715\n",
            "Epoch 7/100\n",
            "16/16 [==============================] - 3s 166ms/step - loss: 0.0018 - mean_squared_error: 0.0018 - mean_absolute_error: 0.0242 - val_loss: 0.0082 - val_mean_squared_error: 0.0082 - val_mean_absolute_error: 0.0666\n",
            "Epoch 8/100\n",
            "16/16 [==============================] - 3s 180ms/step - loss: 0.0019 - mean_squared_error: 0.0019 - mean_absolute_error: 0.0251 - val_loss: 0.0081 - val_mean_squared_error: 0.0081 - val_mean_absolute_error: 0.0660\n",
            "Epoch 9/100\n",
            "16/16 [==============================] - 3s 169ms/step - loss: 0.0019 - mean_squared_error: 0.0019 - mean_absolute_error: 0.0238 - val_loss: 0.0085 - val_mean_squared_error: 0.0085 - val_mean_absolute_error: 0.0656\n",
            "Epoch 10/100\n",
            "16/16 [==============================] - 3s 185ms/step - loss: 0.0022 - mean_squared_error: 0.0022 - mean_absolute_error: 0.0253 - val_loss: 0.0081 - val_mean_squared_error: 0.0081 - val_mean_absolute_error: 0.0684\n",
            "Epoch 11/100\n",
            "16/16 [==============================] - 3s 188ms/step - loss: 0.0018 - mean_squared_error: 0.0018 - mean_absolute_error: 0.0241 - val_loss: 0.0088 - val_mean_squared_error: 0.0088 - val_mean_absolute_error: 0.0660\n",
            "Epoch 12/100\n",
            "16/16 [==============================] - 3s 190ms/step - loss: 0.0016 - mean_squared_error: 0.0016 - mean_absolute_error: 0.0227 - val_loss: 0.0089 - val_mean_squared_error: 0.0089 - val_mean_absolute_error: 0.0665\n",
            "Epoch 13/100\n",
            "16/16 [==============================] - 3s 163ms/step - loss: 0.0017 - mean_squared_error: 0.0017 - mean_absolute_error: 0.0244 - val_loss: 0.0081 - val_mean_squared_error: 0.0081 - val_mean_absolute_error: 0.0679\n",
            "Epoch 14/100\n",
            "16/16 [==============================] - 3s 201ms/step - loss: 0.0014 - mean_squared_error: 0.0014 - mean_absolute_error: 0.0224 - val_loss: 0.0081 - val_mean_squared_error: 0.0081 - val_mean_absolute_error: 0.0697\n",
            "Epoch 15/100\n",
            "16/16 [==============================] - 3s 178ms/step - loss: 0.0023 - mean_squared_error: 0.0023 - mean_absolute_error: 0.0275 - val_loss: 0.0080 - val_mean_squared_error: 0.0080 - val_mean_absolute_error: 0.0672\n",
            "Epoch 16/100\n",
            "16/16 [==============================] - 3s 182ms/step - loss: 0.0018 - mean_squared_error: 0.0018 - mean_absolute_error: 0.0241 - val_loss: 0.0082 - val_mean_squared_error: 0.0082 - val_mean_absolute_error: 0.0652\n",
            "Epoch 17/100\n",
            "16/16 [==============================] - 3s 191ms/step - loss: 0.0014 - mean_squared_error: 0.0014 - mean_absolute_error: 0.0217 - val_loss: 0.0080 - val_mean_squared_error: 0.0080 - val_mean_absolute_error: 0.0643\n",
            "Epoch 18/100\n",
            "16/16 [==============================] - 3s 187ms/step - loss: 0.0015 - mean_squared_error: 0.0015 - mean_absolute_error: 0.0227 - val_loss: 0.0082 - val_mean_squared_error: 0.0082 - val_mean_absolute_error: 0.0648\n",
            "Epoch 19/100\n",
            "16/16 [==============================] - 3s 174ms/step - loss: 0.0015 - mean_squared_error: 0.0015 - mean_absolute_error: 0.0216 - val_loss: 0.0086 - val_mean_squared_error: 0.0086 - val_mean_absolute_error: 0.0651\n",
            "Epoch 20/100\n",
            "16/16 [==============================] - 3s 175ms/step - loss: 0.0013 - mean_squared_error: 0.0013 - mean_absolute_error: 0.0220 - val_loss: 0.0078 - val_mean_squared_error: 0.0078 - val_mean_absolute_error: 0.0642\n",
            "Epoch 21/100\n",
            "16/16 [==============================] - 3s 174ms/step - loss: 0.0017 - mean_squared_error: 0.0017 - mean_absolute_error: 0.0233 - val_loss: 0.0078 - val_mean_squared_error: 0.0078 - val_mean_absolute_error: 0.0676\n",
            "Epoch 22/100\n",
            "16/16 [==============================] - 3s 184ms/step - loss: 0.0018 - mean_squared_error: 0.0018 - mean_absolute_error: 0.0237 - val_loss: 0.0081 - val_mean_squared_error: 0.0081 - val_mean_absolute_error: 0.0634\n",
            "Epoch 23/100\n",
            "16/16 [==============================] - 3s 183ms/step - loss: 0.0016 - mean_squared_error: 0.0016 - mean_absolute_error: 0.0219 - val_loss: 0.0082 - val_mean_squared_error: 0.0082 - val_mean_absolute_error: 0.0638\n",
            "Epoch 24/100\n",
            "16/16 [==============================] - 3s 185ms/step - loss: 0.0013 - mean_squared_error: 0.0013 - mean_absolute_error: 0.0215 - val_loss: 0.0084 - val_mean_squared_error: 0.0084 - val_mean_absolute_error: 0.0639\n",
            "Epoch 25/100\n",
            "16/16 [==============================] - 3s 190ms/step - loss: 0.0016 - mean_squared_error: 0.0016 - mean_absolute_error: 0.0242 - val_loss: 0.0084 - val_mean_squared_error: 0.0084 - val_mean_absolute_error: 0.0641\n",
            "Epoch 26/100\n",
            "16/16 [==============================] - 3s 185ms/step - loss: 0.0015 - mean_squared_error: 0.0015 - mean_absolute_error: 0.0217 - val_loss: 0.0080 - val_mean_squared_error: 0.0080 - val_mean_absolute_error: 0.0633\n",
            "Epoch 27/100\n",
            "16/16 [==============================] - 3s 186ms/step - loss: 0.0014 - mean_squared_error: 0.0014 - mean_absolute_error: 0.0228 - val_loss: 0.0077 - val_mean_squared_error: 0.0077 - val_mean_absolute_error: 0.0636\n",
            "Epoch 28/100\n",
            "16/16 [==============================] - 3s 187ms/step - loss: 0.0015 - mean_squared_error: 0.0015 - mean_absolute_error: 0.0233 - val_loss: 0.0077 - val_mean_squared_error: 0.0077 - val_mean_absolute_error: 0.0663\n",
            "Epoch 29/100\n",
            "16/16 [==============================] - 3s 171ms/step - loss: 0.0013 - mean_squared_error: 0.0013 - mean_absolute_error: 0.0218 - val_loss: 0.0077 - val_mean_squared_error: 0.0077 - val_mean_absolute_error: 0.0635\n",
            "Epoch 30/100\n",
            "16/16 [==============================] - 3s 182ms/step - loss: 0.0013 - mean_squared_error: 0.0013 - mean_absolute_error: 0.0210 - val_loss: 0.0079 - val_mean_squared_error: 0.0079 - val_mean_absolute_error: 0.0631\n",
            "Epoch 31/100\n",
            "16/16 [==============================] - 3s 188ms/step - loss: 0.0012 - mean_squared_error: 0.0012 - mean_absolute_error: 0.0208 - val_loss: 0.0075 - val_mean_squared_error: 0.0075 - val_mean_absolute_error: 0.0641\n",
            "Epoch 32/100\n",
            "16/16 [==============================] - 3s 176ms/step - loss: 0.0014 - mean_squared_error: 0.0014 - mean_absolute_error: 0.0211 - val_loss: 0.0076 - val_mean_squared_error: 0.0076 - val_mean_absolute_error: 0.0634\n",
            "Epoch 33/100\n",
            "16/16 [==============================] - 3s 176ms/step - loss: 0.0014 - mean_squared_error: 0.0014 - mean_absolute_error: 0.0214 - val_loss: 0.0077 - val_mean_squared_error: 0.0077 - val_mean_absolute_error: 0.0622\n",
            "Epoch 34/100\n",
            "16/16 [==============================] - 3s 189ms/step - loss: 0.0013 - mean_squared_error: 0.0013 - mean_absolute_error: 0.0208 - val_loss: 0.0074 - val_mean_squared_error: 0.0074 - val_mean_absolute_error: 0.0643\n",
            "Epoch 35/100\n",
            "16/16 [==============================] - 3s 181ms/step - loss: 0.0012 - mean_squared_error: 0.0012 - mean_absolute_error: 0.0201 - val_loss: 0.0074 - val_mean_squared_error: 0.0074 - val_mean_absolute_error: 0.0623\n",
            "Epoch 36/100\n",
            "16/16 [==============================] - 3s 181ms/step - loss: 0.0011 - mean_squared_error: 0.0011 - mean_absolute_error: 0.0199 - val_loss: 0.0074 - val_mean_squared_error: 0.0074 - val_mean_absolute_error: 0.0619\n",
            "Epoch 37/100\n",
            "16/16 [==============================] - 3s 181ms/step - loss: 0.0012 - mean_squared_error: 0.0012 - mean_absolute_error: 0.0199 - val_loss: 0.0072 - val_mean_squared_error: 0.0072 - val_mean_absolute_error: 0.0626\n",
            "Epoch 38/100\n",
            "16/16 [==============================] - 3s 191ms/step - loss: 0.0012 - mean_squared_error: 0.0012 - mean_absolute_error: 0.0201 - val_loss: 0.0074 - val_mean_squared_error: 0.0074 - val_mean_absolute_error: 0.0608\n",
            "Epoch 39/100\n",
            "16/16 [==============================] - 3s 186ms/step - loss: 0.0012 - mean_squared_error: 0.0012 - mean_absolute_error: 0.0198 - val_loss: 0.0082 - val_mean_squared_error: 0.0082 - val_mean_absolute_error: 0.0633\n",
            "Epoch 40/100\n",
            "16/16 [==============================] - 3s 184ms/step - loss: 0.0013 - mean_squared_error: 0.0013 - mean_absolute_error: 0.0211 - val_loss: 0.0090 - val_mean_squared_error: 0.0090 - val_mean_absolute_error: 0.0666\n",
            "Epoch 41/100\n",
            "16/16 [==============================] - 3s 179ms/step - loss: 0.0011 - mean_squared_error: 0.0011 - mean_absolute_error: 0.0197 - val_loss: 0.0077 - val_mean_squared_error: 0.0077 - val_mean_absolute_error: 0.0618\n",
            "Epoch 42/100\n",
            "16/16 [==============================] - 3s 184ms/step - loss: 0.0013 - mean_squared_error: 0.0013 - mean_absolute_error: 0.0208 - val_loss: 0.0074 - val_mean_squared_error: 0.0074 - val_mean_absolute_error: 0.0622\n",
            "Epoch 43/100\n",
            "16/16 [==============================] - 3s 187ms/step - loss: 0.0011 - mean_squared_error: 0.0011 - mean_absolute_error: 0.0190 - val_loss: 0.0080 - val_mean_squared_error: 0.0080 - val_mean_absolute_error: 0.0626\n",
            "Epoch 44/100\n",
            "16/16 [==============================] - 3s 179ms/step - loss: 0.0011 - mean_squared_error: 0.0011 - mean_absolute_error: 0.0198 - val_loss: 0.0074 - val_mean_squared_error: 0.0074 - val_mean_absolute_error: 0.0615\n",
            "Epoch 45/100\n",
            "16/16 [==============================] - 3s 176ms/step - loss: 0.0011 - mean_squared_error: 0.0011 - mean_absolute_error: 0.0194 - val_loss: 0.0074 - val_mean_squared_error: 0.0074 - val_mean_absolute_error: 0.0611\n",
            "Epoch 46/100\n",
            "16/16 [==============================] - 3s 177ms/step - loss: 0.0010 - mean_squared_error: 0.0010 - mean_absolute_error: 0.0187 - val_loss: 0.0077 - val_mean_squared_error: 0.0077 - val_mean_absolute_error: 0.0616\n",
            "Epoch 47/100\n",
            "16/16 [==============================] - 3s 182ms/step - loss: 0.0013 - mean_squared_error: 0.0013 - mean_absolute_error: 0.0214 - val_loss: 0.0081 - val_mean_squared_error: 0.0081 - val_mean_absolute_error: 0.0632\n"
          ],
          "name": "stdout"
        },
        {
          "output_type": "display_data",
          "data": {
            "text/html": [
              "<br/>Waiting for W&B process to finish, PID 8721<br/>Program ended successfully."
            ],
            "text/plain": [
              "<IPython.core.display.HTML object>"
            ]
          },
          "metadata": {
            "tags": []
          }
        },
        {
          "output_type": "display_data",
          "data": {
            "application/vnd.jupyter.widget-view+json": {
              "model_id": "0e64743e3b1b4d0eb028714e63f1c65d",
              "version_minor": 0,
              "version_major": 2
            },
            "text/plain": [
              "VBox(children=(Label(value=' 0.93MB of 0.93MB uploaded (0.00MB deduped)\\r'), FloatProgress(value=1.0, max=1.0)…"
            ]
          },
          "metadata": {
            "tags": []
          }
        },
        {
          "output_type": "display_data",
          "data": {
            "text/html": [
              "Find user logs for this run at: <code>/content/feeder_repo/wandb/run-20210719_132205-xkq1eyvo/logs/debug.log</code>"
            ],
            "text/plain": [
              "<IPython.core.display.HTML object>"
            ]
          },
          "metadata": {
            "tags": []
          }
        },
        {
          "output_type": "display_data",
          "data": {
            "text/html": [
              "Find internal logs for this run at: <code>/content/feeder_repo/wandb/run-20210719_132205-xkq1eyvo/logs/debug-internal.log</code>"
            ],
            "text/plain": [
              "<IPython.core.display.HTML object>"
            ]
          },
          "metadata": {
            "tags": []
          }
        },
        {
          "output_type": "display_data",
          "data": {
            "text/html": [
              "<h3>Run summary:</h3><br/><style>\n",
              "    table.wandb td:nth-child(1) { padding: 0 10px; text-align: right }\n",
              "    </style><table class=\"wandb\">\n",
              "<tr><td>epoch</td><td>46</td></tr><tr><td>loss</td><td>0.00118</td></tr><tr><td>mean_squared_error</td><td>0.00118</td></tr><tr><td>mean_absolute_error</td><td>0.02073</td></tr><tr><td>val_loss</td><td>0.00812</td></tr><tr><td>val_mean_squared_error</td><td>0.00812</td></tr><tr><td>val_mean_absolute_error</td><td>0.06317</td></tr><tr><td>_runtime</td><td>148</td></tr><tr><td>_timestamp</td><td>1626701073</td></tr><tr><td>_step</td><td>46</td></tr><tr><td>best_val_loss</td><td>0.00722</td></tr><tr><td>best_epoch</td><td>36</td></tr></table>"
            ],
            "text/plain": [
              "<IPython.core.display.HTML object>"
            ]
          },
          "metadata": {
            "tags": []
          }
        },
        {
          "output_type": "display_data",
          "data": {
            "text/html": [
              "<h3>Run history:</h3><br/><style>\n",
              "    table.wandb td:nth-child(1) { padding: 0 10px; text-align: right }\n",
              "    </style><table class=\"wandb\">\n",
              "<tr><td>epoch</td><td>▁▁▁▁▂▂▂▂▂▃▃▃▃▃▃▄▄▄▄▄▅▅▅▅▅▅▆▆▆▆▆▆▇▇▇▇▇███</td></tr><tr><td>loss</td><td>█▄▂▁▁▁▁▁▁▁▁▁▁▁▁▁▁▁▁▁▁▁▁▁▁▁▁▁▁▁▁▁▁▁▁▁▁▁▁▁</td></tr><tr><td>mean_squared_error</td><td>█▄▂▁▁▁▁▁▁▁▁▁▁▁▁▁▁▁▁▁▁▁▁▁▁▁▁▁▁▁▁▁▁▁▁▁▁▁▁▁</td></tr><tr><td>mean_absolute_error</td><td>█▆▅▂▂▁▁▁▁▁▁▁▁▁▁▁▁▁▁▁▁▁▁▁▁▁▁▁▁▁▁▁▁▁▁▁▁▁▁▁</td></tr><tr><td>val_loss</td><td>█▂▁▁▁▁▁▁▁▁▁▁▁▁▁▁▁▁▁▁▁▁▁▁▁▁▁▁▁▁▁▁▁▁▁▁▁▁▁▁</td></tr><tr><td>val_mean_squared_error</td><td>█▂▁▁▁▁▁▁▁▁▁▁▁▁▁▁▁▁▁▁▁▁▁▁▁▁▁▁▁▁▁▁▁▁▁▁▁▁▁▁</td></tr><tr><td>val_mean_absolute_error</td><td>█▃▂▁▁▁▁▁▁▁▁▁▁▁▁▁▁▁▁▁▁▁▁▁▁▁▁▁▁▁▁▁▁▁▁▁▁▁▁▁</td></tr><tr><td>_runtime</td><td>▁▁▁▁▂▂▂▂▂▃▃▃▃▃▃▄▄▄▄▄▅▅▅▅▅▅▆▆▆▆▆▆▇▇▇▇▇███</td></tr><tr><td>_timestamp</td><td>▁▁▁▁▂▂▂▂▂▃▃▃▃▃▃▄▄▄▄▄▅▅▅▅▅▅▆▆▆▆▆▆▇▇▇▇▇███</td></tr><tr><td>_step</td><td>▁▁▁▁▂▂▂▂▂▃▃▃▃▃▃▄▄▄▄▄▅▅▅▅▅▅▆▆▆▆▆▆▇▇▇▇▇███</td></tr></table><br/>"
            ],
            "text/plain": [
              "<IPython.core.display.HTML object>"
            ]
          },
          "metadata": {
            "tags": []
          }
        },
        {
          "output_type": "display_data",
          "data": {
            "text/html": [
              "Synced 5 W&B file(s), 1 media file(s), 2 artifact file(s) and 2 other file(s)"
            ],
            "text/plain": [
              "<IPython.core.display.HTML object>"
            ]
          },
          "metadata": {
            "tags": []
          }
        },
        {
          "output_type": "display_data",
          "data": {
            "text/html": [
              "\n",
              "                    <br/>Synced <strong style=\"color:#cdcd00\">sunny-sweep-32</strong>: <a href=\"https://wandb.ai/acse-jaq15/ACSE_9_LSTM_GRU/runs/xkq1eyvo\" target=\"_blank\">https://wandb.ai/acse-jaq15/ACSE_9_LSTM_GRU/runs/xkq1eyvo</a><br/>\n",
              "                "
            ],
            "text/plain": [
              "<IPython.core.display.HTML object>"
            ]
          },
          "metadata": {
            "tags": []
          }
        },
        {
          "output_type": "stream",
          "text": [
            "\u001b[34m\u001b[1mwandb\u001b[0m: Agent Starting Run: nqy7jja9 with config:\n",
            "\u001b[34m\u001b[1mwandb\u001b[0m: \tactivation: relu\n",
            "\u001b[34m\u001b[1mwandb\u001b[0m: \tbatch_size: 128\n",
            "\u001b[34m\u001b[1mwandb\u001b[0m: \tdropout: 0.1\n",
            "\u001b[34m\u001b[1mwandb\u001b[0m: \tepochs: 50\n",
            "\u001b[34m\u001b[1mwandb\u001b[0m: \tlearning_rate: 0.005\n",
            "\u001b[34m\u001b[1mwandb\u001b[0m: \toptimizer: nadam\n"
          ],
          "name": "stderr"
        },
        {
          "output_type": "display_data",
          "data": {
            "text/html": [
              "\n",
              "                Tracking run with wandb version 0.11.0<br/>\n",
              "                Syncing run <strong style=\"color:#cdcd00\">neat-sweep-33</strong> to <a href=\"https://wandb.ai\" target=\"_blank\">Weights & Biases</a> <a href=\"https://docs.wandb.com/integrations/jupyter.html\" target=\"_blank\">(Documentation)</a>.<br/>\n",
              "                Project page: <a href=\"https://wandb.ai/acse-jaq15/ACSE_9_LSTM_GRU\" target=\"_blank\">https://wandb.ai/acse-jaq15/ACSE_9_LSTM_GRU</a><br/>\n",
              "                Sweep page: <a href=\"https://wandb.ai/acse-jaq15/ACSE_9_LSTM_GRU/sweeps/s5xopigt\" target=\"_blank\">https://wandb.ai/acse-jaq15/ACSE_9_LSTM_GRU/sweeps/s5xopigt</a><br/>\n",
              "Run page: <a href=\"https://wandb.ai/acse-jaq15/ACSE_9_LSTM_GRU/runs/nqy7jja9\" target=\"_blank\">https://wandb.ai/acse-jaq15/ACSE_9_LSTM_GRU/runs/nqy7jja9</a><br/>\n",
              "                Run data is saved locally in <code>/content/feeder_repo/wandb/run-20210719_132449-nqy7jja9</code><br/><br/>\n",
              "            "
            ],
            "text/plain": [
              "<IPython.core.display.HTML object>"
            ]
          },
          "metadata": {
            "tags": []
          }
        },
        {
          "output_type": "stream",
          "text": [
            "WARNING:tensorflow:Layer lstm will not use cuDNN kernels since it doesn't meet the criteria. It will use a generic GPU kernel as fallback when running on GPU.\n",
            "WARNING:tensorflow:Layer gru will not use cuDNN kernels since it doesn't meet the criteria. It will use a generic GPU kernel as fallback when running on GPU.\n",
            "Epoch 1/50\n",
            "8/8 [==============================] - 9s 370ms/step - loss: 0.0766 - mean_squared_error: 0.0766 - mean_absolute_error: 0.1726 - val_loss: 0.0546 - val_mean_squared_error: 0.0546 - val_mean_absolute_error: 0.2129\n",
            "Epoch 2/50\n",
            "8/8 [==============================] - 2s 192ms/step - loss: 0.0074 - mean_squared_error: 0.0074 - mean_absolute_error: 0.0560 - val_loss: 0.0095 - val_mean_squared_error: 0.0095 - val_mean_absolute_error: 0.0691\n",
            "Epoch 3/50\n",
            "8/8 [==============================] - 2s 195ms/step - loss: 0.0016 - mean_squared_error: 0.0016 - mean_absolute_error: 0.0249 - val_loss: 0.0082 - val_mean_squared_error: 0.0082 - val_mean_absolute_error: 0.0722\n",
            "Epoch 4/50\n",
            "8/8 [==============================] - 1s 176ms/step - loss: 0.0015 - mean_squared_error: 0.0015 - mean_absolute_error: 0.0247 - val_loss: 0.0078 - val_mean_squared_error: 0.0078 - val_mean_absolute_error: 0.0625\n",
            "Epoch 5/50\n",
            "8/8 [==============================] - 2s 190ms/step - loss: 0.0016 - mean_squared_error: 0.0016 - mean_absolute_error: 0.0239 - val_loss: 0.0081 - val_mean_squared_error: 0.0081 - val_mean_absolute_error: 0.0725\n",
            "Epoch 6/50\n",
            "8/8 [==============================] - 1s 184ms/step - loss: 0.0015 - mean_squared_error: 0.0015 - mean_absolute_error: 0.0238 - val_loss: 0.0077 - val_mean_squared_error: 0.0077 - val_mean_absolute_error: 0.0697\n",
            "Epoch 7/50\n",
            "8/8 [==============================] - 2s 189ms/step - loss: 0.0027 - mean_squared_error: 0.0027 - mean_absolute_error: 0.0381 - val_loss: 0.0378 - val_mean_squared_error: 0.0378 - val_mean_absolute_error: 0.1774\n",
            "Epoch 8/50\n",
            "8/8 [==============================] - 2s 193ms/step - loss: 0.0066 - mean_squared_error: 0.0066 - mean_absolute_error: 0.0536 - val_loss: 0.0193 - val_mean_squared_error: 0.0193 - val_mean_absolute_error: 0.1218\n",
            "Epoch 9/50\n",
            "8/8 [==============================] - 2s 204ms/step - loss: 0.0030 - mean_squared_error: 0.0030 - mean_absolute_error: 0.0354 - val_loss: 0.0082 - val_mean_squared_error: 0.0082 - val_mean_absolute_error: 0.0736\n",
            "Epoch 10/50\n",
            "8/8 [==============================] - 2s 189ms/step - loss: 0.0018 - mean_squared_error: 0.0018 - mean_absolute_error: 0.0270 - val_loss: 0.0066 - val_mean_squared_error: 0.0066 - val_mean_absolute_error: 0.0612\n",
            "Epoch 11/50\n",
            "8/8 [==============================] - 1s 183ms/step - loss: 0.0018 - mean_squared_error: 0.0018 - mean_absolute_error: 0.0250 - val_loss: 0.0200 - val_mean_squared_error: 0.0200 - val_mean_absolute_error: 0.1181\n",
            "Epoch 12/50\n",
            "8/8 [==============================] - 2s 193ms/step - loss: 0.0037 - mean_squared_error: 0.0037 - mean_absolute_error: 0.0400 - val_loss: 0.0113 - val_mean_squared_error: 0.0113 - val_mean_absolute_error: 0.0811\n",
            "Epoch 13/50\n",
            "8/8 [==============================] - 1s 180ms/step - loss: 0.0015 - mean_squared_error: 0.0015 - mean_absolute_error: 0.0236 - val_loss: 0.0072 - val_mean_squared_error: 0.0072 - val_mean_absolute_error: 0.0596\n",
            "Epoch 14/50\n",
            "8/8 [==============================] - 1s 184ms/step - loss: 0.0014 - mean_squared_error: 0.0014 - mean_absolute_error: 0.0228 - val_loss: 0.0143 - val_mean_squared_error: 0.0143 - val_mean_absolute_error: 0.1039\n",
            "Epoch 15/50\n",
            "8/8 [==============================] - 1s 177ms/step - loss: 0.0026 - mean_squared_error: 0.0026 - mean_absolute_error: 0.0335 - val_loss: 0.0068 - val_mean_squared_error: 0.0068 - val_mean_absolute_error: 0.0574\n",
            "Epoch 16/50\n",
            "8/8 [==============================] - 2s 198ms/step - loss: 0.0016 - mean_squared_error: 0.0016 - mean_absolute_error: 0.0245 - val_loss: 0.0071 - val_mean_squared_error: 0.0071 - val_mean_absolute_error: 0.0588\n",
            "Epoch 17/50\n",
            "8/8 [==============================] - 2s 188ms/step - loss: 0.0012 - mean_squared_error: 0.0012 - mean_absolute_error: 0.0208 - val_loss: 0.0081 - val_mean_squared_error: 0.0081 - val_mean_absolute_error: 0.0736\n",
            "Epoch 18/50\n",
            "8/8 [==============================] - 1s 183ms/step - loss: 0.0027 - mean_squared_error: 0.0027 - mean_absolute_error: 0.0340 - val_loss: 0.0069 - val_mean_squared_error: 0.0069 - val_mean_absolute_error: 0.0652\n",
            "Epoch 19/50\n",
            "8/8 [==============================] - 2s 194ms/step - loss: 0.0022 - mean_squared_error: 0.0022 - mean_absolute_error: 0.0293 - val_loss: 0.0218 - val_mean_squared_error: 0.0218 - val_mean_absolute_error: 0.1310\n",
            "Epoch 20/50\n",
            "8/8 [==============================] - 2s 198ms/step - loss: 0.0045 - mean_squared_error: 0.0045 - mean_absolute_error: 0.0432 - val_loss: 0.0061 - val_mean_squared_error: 0.0061 - val_mean_absolute_error: 0.0562\n",
            "Epoch 21/50\n",
            "8/8 [==============================] - 2s 193ms/step - loss: 0.0013 - mean_squared_error: 0.0013 - mean_absolute_error: 0.0228 - val_loss: 0.0095 - val_mean_squared_error: 0.0095 - val_mean_absolute_error: 0.0718\n",
            "Epoch 22/50\n",
            "8/8 [==============================] - 2s 199ms/step - loss: 0.0014 - mean_squared_error: 0.0014 - mean_absolute_error: 0.0244 - val_loss: 0.0061 - val_mean_squared_error: 0.0061 - val_mean_absolute_error: 0.0560\n",
            "Epoch 23/50\n",
            "8/8 [==============================] - 2s 188ms/step - loss: 0.0015 - mean_squared_error: 0.0015 - mean_absolute_error: 0.0244 - val_loss: 0.0061 - val_mean_squared_error: 0.0061 - val_mean_absolute_error: 0.0595\n",
            "Epoch 24/50\n",
            "8/8 [==============================] - 1s 187ms/step - loss: 0.0023 - mean_squared_error: 0.0023 - mean_absolute_error: 0.0305 - val_loss: 0.0094 - val_mean_squared_error: 0.0094 - val_mean_absolute_error: 0.0811\n",
            "Epoch 25/50\n",
            "8/8 [==============================] - 2s 200ms/step - loss: 0.0037 - mean_squared_error: 0.0037 - mean_absolute_error: 0.0400 - val_loss: 0.0058 - val_mean_squared_error: 0.0058 - val_mean_absolute_error: 0.0571\n",
            "Epoch 26/50\n",
            "8/8 [==============================] - 2s 191ms/step - loss: 0.0013 - mean_squared_error: 0.0013 - mean_absolute_error: 0.0230 - val_loss: 0.0065 - val_mean_squared_error: 0.0065 - val_mean_absolute_error: 0.0565\n",
            "Epoch 27/50\n",
            "8/8 [==============================] - 1s 183ms/step - loss: 0.0014 - mean_squared_error: 0.0014 - mean_absolute_error: 0.0223 - val_loss: 0.0071 - val_mean_squared_error: 0.0071 - val_mean_absolute_error: 0.0599\n",
            "Epoch 28/50\n",
            "8/8 [==============================] - 2s 196ms/step - loss: 0.0012 - mean_squared_error: 0.0012 - mean_absolute_error: 0.0215 - val_loss: 0.0057 - val_mean_squared_error: 0.0057 - val_mean_absolute_error: 0.0542\n",
            "Epoch 29/50\n",
            "8/8 [==============================] - 2s 201ms/step - loss: 0.0012 - mean_squared_error: 0.0012 - mean_absolute_error: 0.0208 - val_loss: 0.0064 - val_mean_squared_error: 0.0064 - val_mean_absolute_error: 0.0557\n",
            "Epoch 30/50\n",
            "8/8 [==============================] - 1s 189ms/step - loss: 0.0012 - mean_squared_error: 0.0012 - mean_absolute_error: 0.0213 - val_loss: 0.0057 - val_mean_squared_error: 0.0057 - val_mean_absolute_error: 0.0545\n",
            "Epoch 31/50\n",
            "8/8 [==============================] - 1s 189ms/step - loss: 0.0012 - mean_squared_error: 0.0012 - mean_absolute_error: 0.0213 - val_loss: 0.0069 - val_mean_squared_error: 0.0069 - val_mean_absolute_error: 0.0667\n",
            "Epoch 32/50\n",
            "8/8 [==============================] - 2s 194ms/step - loss: 0.0019 - mean_squared_error: 0.0019 - mean_absolute_error: 0.0271 - val_loss: 0.0059 - val_mean_squared_error: 0.0059 - val_mean_absolute_error: 0.0589\n",
            "Epoch 33/50\n",
            "8/8 [==============================] - 2s 208ms/step - loss: 0.0013 - mean_squared_error: 0.0013 - mean_absolute_error: 0.0222 - val_loss: 0.0073 - val_mean_squared_error: 0.0073 - val_mean_absolute_error: 0.0699\n",
            "Epoch 34/50\n",
            "8/8 [==============================] - 2s 199ms/step - loss: 0.0014 - mean_squared_error: 0.0014 - mean_absolute_error: 0.0244 - val_loss: 0.0072 - val_mean_squared_error: 0.0072 - val_mean_absolute_error: 0.0694\n",
            "Epoch 35/50\n",
            "8/8 [==============================] - 1s 181ms/step - loss: 0.0014 - mean_squared_error: 0.0014 - mean_absolute_error: 0.0248 - val_loss: 0.0054 - val_mean_squared_error: 0.0054 - val_mean_absolute_error: 0.0524\n",
            "Epoch 36/50\n",
            "8/8 [==============================] - 2s 189ms/step - loss: 0.0011 - mean_squared_error: 0.0011 - mean_absolute_error: 0.0201 - val_loss: 0.0118 - val_mean_squared_error: 0.0118 - val_mean_absolute_error: 0.0856\n",
            "Epoch 37/50\n",
            "8/8 [==============================] - 2s 192ms/step - loss: 0.0027 - mean_squared_error: 0.0027 - mean_absolute_error: 0.0355 - val_loss: 0.0089 - val_mean_squared_error: 0.0089 - val_mean_absolute_error: 0.0695\n",
            "Epoch 38/50\n",
            "8/8 [==============================] - 2s 194ms/step - loss: 0.0018 - mean_squared_error: 0.0018 - mean_absolute_error: 0.0274 - val_loss: 0.0073 - val_mean_squared_error: 0.0073 - val_mean_absolute_error: 0.0608\n",
            "Epoch 39/50\n",
            "8/8 [==============================] - 1s 186ms/step - loss: 0.0017 - mean_squared_error: 0.0017 - mean_absolute_error: 0.0252 - val_loss: 0.0070 - val_mean_squared_error: 0.0070 - val_mean_absolute_error: 0.0595\n",
            "Epoch 40/50\n",
            "8/8 [==============================] - 2s 193ms/step - loss: 0.0011 - mean_squared_error: 0.0011 - mean_absolute_error: 0.0212 - val_loss: 0.0071 - val_mean_squared_error: 0.0071 - val_mean_absolute_error: 0.0608\n",
            "Epoch 41/50\n",
            "8/8 [==============================] - 1s 184ms/step - loss: 0.0011 - mean_squared_error: 0.0011 - mean_absolute_error: 0.0209 - val_loss: 0.0062 - val_mean_squared_error: 0.0062 - val_mean_absolute_error: 0.0554\n",
            "Epoch 42/50\n",
            "8/8 [==============================] - 2s 195ms/step - loss: 0.0018 - mean_squared_error: 0.0018 - mean_absolute_error: 0.0272 - val_loss: 0.0058 - val_mean_squared_error: 0.0058 - val_mean_absolute_error: 0.0532\n",
            "Epoch 43/50\n",
            "8/8 [==============================] - 1s 175ms/step - loss: 0.0014 - mean_squared_error: 0.0014 - mean_absolute_error: 0.0228 - val_loss: 0.0062 - val_mean_squared_error: 0.0062 - val_mean_absolute_error: 0.0592\n",
            "Epoch 44/50\n",
            "8/8 [==============================] - 2s 190ms/step - loss: 0.0012 - mean_squared_error: 0.0012 - mean_absolute_error: 0.0231 - val_loss: 0.0053 - val_mean_squared_error: 0.0053 - val_mean_absolute_error: 0.0521\n",
            "Epoch 45/50\n",
            "8/8 [==============================] - 1s 172ms/step - loss: 0.0012 - mean_squared_error: 0.0012 - mean_absolute_error: 0.0212 - val_loss: 0.0075 - val_mean_squared_error: 0.0075 - val_mean_absolute_error: 0.0713\n",
            "Epoch 46/50\n",
            "8/8 [==============================] - 1s 183ms/step - loss: 0.0018 - mean_squared_error: 0.0018 - mean_absolute_error: 0.0263 - val_loss: 0.0055 - val_mean_squared_error: 0.0055 - val_mean_absolute_error: 0.0540\n",
            "Epoch 47/50\n",
            "8/8 [==============================] - 2s 191ms/step - loss: 0.0012 - mean_squared_error: 0.0012 - mean_absolute_error: 0.0201 - val_loss: 0.0071 - val_mean_squared_error: 0.0071 - val_mean_absolute_error: 0.0691\n",
            "Epoch 48/50\n",
            "8/8 [==============================] - 2s 192ms/step - loss: 0.0024 - mean_squared_error: 0.0024 - mean_absolute_error: 0.0326 - val_loss: 0.0062 - val_mean_squared_error: 0.0062 - val_mean_absolute_error: 0.0555\n",
            "Epoch 49/50\n",
            "8/8 [==============================] - 2s 198ms/step - loss: 9.6578e-04 - mean_squared_error: 9.6578e-04 - mean_absolute_error: 0.0196 - val_loss: 0.0083 - val_mean_squared_error: 0.0083 - val_mean_absolute_error: 0.0686\n",
            "Epoch 50/50\n",
            "8/8 [==============================] - 1s 186ms/step - loss: 0.0021 - mean_squared_error: 0.0021 - mean_absolute_error: 0.0301 - val_loss: 0.0080 - val_mean_squared_error: 0.0080 - val_mean_absolute_error: 0.0668\n"
          ],
          "name": "stdout"
        },
        {
          "output_type": "display_data",
          "data": {
            "text/html": [
              "<br/>Waiting for W&B process to finish, PID 8941<br/>Program ended successfully."
            ],
            "text/plain": [
              "<IPython.core.display.HTML object>"
            ]
          },
          "metadata": {
            "tags": []
          }
        },
        {
          "output_type": "display_data",
          "data": {
            "application/vnd.jupyter.widget-view+json": {
              "model_id": "f1674c1aa66a4d51a024f40b17364762",
              "version_minor": 0,
              "version_major": 2
            },
            "text/plain": [
              "VBox(children=(Label(value=' 0.96MB of 0.96MB uploaded (0.00MB deduped)\\r'), FloatProgress(value=1.0, max=1.0)…"
            ]
          },
          "metadata": {
            "tags": []
          }
        },
        {
          "output_type": "display_data",
          "data": {
            "text/html": [
              "Find user logs for this run at: <code>/content/feeder_repo/wandb/run-20210719_132449-nqy7jja9/logs/debug.log</code>"
            ],
            "text/plain": [
              "<IPython.core.display.HTML object>"
            ]
          },
          "metadata": {
            "tags": []
          }
        },
        {
          "output_type": "display_data",
          "data": {
            "text/html": [
              "Find internal logs for this run at: <code>/content/feeder_repo/wandb/run-20210719_132449-nqy7jja9/logs/debug-internal.log</code>"
            ],
            "text/plain": [
              "<IPython.core.display.HTML object>"
            ]
          },
          "metadata": {
            "tags": []
          }
        },
        {
          "output_type": "display_data",
          "data": {
            "text/html": [
              "<h3>Run summary:</h3><br/><style>\n",
              "    table.wandb td:nth-child(1) { padding: 0 10px; text-align: right }\n",
              "    </style><table class=\"wandb\">\n",
              "<tr><td>epoch</td><td>49</td></tr><tr><td>loss</td><td>0.00186</td></tr><tr><td>mean_squared_error</td><td>0.00186</td></tr><tr><td>mean_absolute_error</td><td>0.02818</td></tr><tr><td>val_loss</td><td>0.00797</td></tr><tr><td>val_mean_squared_error</td><td>0.00797</td></tr><tr><td>val_mean_absolute_error</td><td>0.06679</td></tr><tr><td>_runtime</td><td>91</td></tr><tr><td>_timestamp</td><td>1626701180</td></tr><tr><td>_step</td><td>49</td></tr><tr><td>best_val_loss</td><td>0.00529</td></tr><tr><td>best_epoch</td><td>43</td></tr></table>"
            ],
            "text/plain": [
              "<IPython.core.display.HTML object>"
            ]
          },
          "metadata": {
            "tags": []
          }
        },
        {
          "output_type": "display_data",
          "data": {
            "text/html": [
              "<h3>Run history:</h3><br/><style>\n",
              "    table.wandb td:nth-child(1) { padding: 0 10px; text-align: right }\n",
              "    </style><table class=\"wandb\">\n",
              "<tr><td>epoch</td><td>▁▁▁▁▂▂▂▂▂▃▃▃▃▃▃▄▄▄▄▄▅▅▅▅▅▅▆▆▆▆▆▆▇▇▇▇▇███</td></tr><tr><td>loss</td><td>█▁▁▁▁▁▂▁▁▁▁▁▁▁▁▁▁▁▁▁▁▁▁▁▁▁▁▁▁▁▁▁▁▁▁▁▁▁▁▁</td></tr><tr><td>mean_squared_error</td><td>█▁▁▁▁▁▂▁▁▁▁▁▁▁▁▁▁▁▁▁▁▁▁▁▁▁▁▁▁▁▁▁▁▁▁▁▁▁▁▁</td></tr><tr><td>mean_absolute_error</td><td>█▂▁▁▁▂▃▂▂▂▁▁▁▁▂▂▁▁▁▂▁▁▁▁▁▂▁▁▁▂▁▁▁▁▂▁▁▁▂▁</td></tr><tr><td>val_loss</td><td>█▂▁▁▁▆▃▁▃▂▁▂▁▁▁▃▂▁▁▂▁▁▁▁▁▁▁▁▂▂▁▁▁▁▁▁▁▁▁▁</td></tr><tr><td>val_mean_squared_error</td><td>█▂▁▁▁▆▃▁▃▂▁▂▁▁▁▃▂▁▁▂▁▁▁▁▁▁▁▁▂▂▁▁▁▁▁▁▁▁▁▁</td></tr><tr><td>val_mean_absolute_error</td><td>█▂▂▁▂▆▄▂▄▂▁▃▁▂▂▄▂▁▁▂▁▁▁▁▂▁▂▂▂▂▁▁▁▁▁▁▁▂▁▂</td></tr><tr><td>_runtime</td><td>▁▁▁▁▂▂▂▂▂▃▃▃▃▃▃▄▄▄▄▄▅▅▅▅▅▅▆▆▆▆▆▇▇▇▇▇▇███</td></tr><tr><td>_timestamp</td><td>▁▁▁▁▂▂▂▂▂▃▃▃▃▃▃▄▄▄▄▄▅▅▅▅▅▅▆▆▆▆▆▇▇▇▇▇▇███</td></tr><tr><td>_step</td><td>▁▁▁▁▂▂▂▂▂▃▃▃▃▃▃▄▄▄▄▄▅▅▅▅▅▅▆▆▆▆▆▆▇▇▇▇▇███</td></tr></table><br/>"
            ],
            "text/plain": [
              "<IPython.core.display.HTML object>"
            ]
          },
          "metadata": {
            "tags": []
          }
        },
        {
          "output_type": "display_data",
          "data": {
            "text/html": [
              "Synced 5 W&B file(s), 1 media file(s), 2 artifact file(s) and 2 other file(s)"
            ],
            "text/plain": [
              "<IPython.core.display.HTML object>"
            ]
          },
          "metadata": {
            "tags": []
          }
        },
        {
          "output_type": "display_data",
          "data": {
            "text/html": [
              "\n",
              "                    <br/>Synced <strong style=\"color:#cdcd00\">neat-sweep-33</strong>: <a href=\"https://wandb.ai/acse-jaq15/ACSE_9_LSTM_GRU/runs/nqy7jja9\" target=\"_blank\">https://wandb.ai/acse-jaq15/ACSE_9_LSTM_GRU/runs/nqy7jja9</a><br/>\n",
              "                "
            ],
            "text/plain": [
              "<IPython.core.display.HTML object>"
            ]
          },
          "metadata": {
            "tags": []
          }
        },
        {
          "output_type": "stream",
          "text": [
            "\u001b[34m\u001b[1mwandb\u001b[0m: Agent Starting Run: 9pyjvql5 with config:\n",
            "\u001b[34m\u001b[1mwandb\u001b[0m: \tactivation: selu\n",
            "\u001b[34m\u001b[1mwandb\u001b[0m: \tbatch_size: 64\n",
            "\u001b[34m\u001b[1mwandb\u001b[0m: \tdropout: 0.3\n",
            "\u001b[34m\u001b[1mwandb\u001b[0m: \tepochs: 100\n",
            "\u001b[34m\u001b[1mwandb\u001b[0m: \tlearning_rate: 0.001\n",
            "\u001b[34m\u001b[1mwandb\u001b[0m: \toptimizer: adam\n"
          ],
          "name": "stderr"
        },
        {
          "output_type": "display_data",
          "data": {
            "text/html": [
              "\n",
              "                Tracking run with wandb version 0.11.0<br/>\n",
              "                Syncing run <strong style=\"color:#cdcd00\">earnest-sweep-34</strong> to <a href=\"https://wandb.ai\" target=\"_blank\">Weights & Biases</a> <a href=\"https://docs.wandb.com/integrations/jupyter.html\" target=\"_blank\">(Documentation)</a>.<br/>\n",
              "                Project page: <a href=\"https://wandb.ai/acse-jaq15/ACSE_9_LSTM_GRU\" target=\"_blank\">https://wandb.ai/acse-jaq15/ACSE_9_LSTM_GRU</a><br/>\n",
              "                Sweep page: <a href=\"https://wandb.ai/acse-jaq15/ACSE_9_LSTM_GRU/sweeps/s5xopigt\" target=\"_blank\">https://wandb.ai/acse-jaq15/ACSE_9_LSTM_GRU/sweeps/s5xopigt</a><br/>\n",
              "Run page: <a href=\"https://wandb.ai/acse-jaq15/ACSE_9_LSTM_GRU/runs/9pyjvql5\" target=\"_blank\">https://wandb.ai/acse-jaq15/ACSE_9_LSTM_GRU/runs/9pyjvql5</a><br/>\n",
              "                Run data is saved locally in <code>/content/feeder_repo/wandb/run-20210719_132633-9pyjvql5</code><br/><br/>\n",
              "            "
            ],
            "text/plain": [
              "<IPython.core.display.HTML object>"
            ]
          },
          "metadata": {
            "tags": []
          }
        },
        {
          "output_type": "stream",
          "text": [
            "WARNING:tensorflow:Layer lstm will not use cuDNN kernels since it doesn't meet the criteria. It will use a generic GPU kernel as fallback when running on GPU.\n",
            "WARNING:tensorflow:Layer gru will not use cuDNN kernels since it doesn't meet the criteria. It will use a generic GPU kernel as fallback when running on GPU.\n",
            "Epoch 1/100\n",
            "16/16 [==============================] - 9s 261ms/step - loss: 0.0620 - mean_squared_error: 0.0620 - mean_absolute_error: 0.1474 - val_loss: 0.0275 - val_mean_squared_error: 0.0275 - val_mean_absolute_error: 0.1411\n",
            "Epoch 2/100\n",
            "16/16 [==============================] - 3s 201ms/step - loss: 0.0032 - mean_squared_error: 0.0032 - mean_absolute_error: 0.0356 - val_loss: 0.0096 - val_mean_squared_error: 0.0096 - val_mean_absolute_error: 0.0706\n",
            "Epoch 3/100\n",
            "16/16 [==============================] - 3s 193ms/step - loss: 0.0019 - mean_squared_error: 0.0019 - mean_absolute_error: 0.0276 - val_loss: 0.0071 - val_mean_squared_error: 0.0071 - val_mean_absolute_error: 0.0594\n",
            "Epoch 4/100\n",
            "16/16 [==============================] - 3s 180ms/step - loss: 0.0016 - mean_squared_error: 0.0016 - mean_absolute_error: 0.0235 - val_loss: 0.0070 - val_mean_squared_error: 0.0070 - val_mean_absolute_error: 0.0595\n",
            "Epoch 5/100\n",
            "16/16 [==============================] - 3s 163ms/step - loss: 0.0017 - mean_squared_error: 0.0017 - mean_absolute_error: 0.0231 - val_loss: 0.0066 - val_mean_squared_error: 0.0066 - val_mean_absolute_error: 0.0590\n",
            "Epoch 6/100\n",
            "16/16 [==============================] - 3s 169ms/step - loss: 0.0015 - mean_squared_error: 0.0015 - mean_absolute_error: 0.0235 - val_loss: 0.0067 - val_mean_squared_error: 0.0067 - val_mean_absolute_error: 0.0594\n",
            "Epoch 7/100\n",
            "16/16 [==============================] - 3s 181ms/step - loss: 0.0013 - mean_squared_error: 0.0013 - mean_absolute_error: 0.0218 - val_loss: 0.0080 - val_mean_squared_error: 0.0080 - val_mean_absolute_error: 0.0652\n",
            "Epoch 8/100\n",
            "16/16 [==============================] - 3s 189ms/step - loss: 0.0019 - mean_squared_error: 0.0019 - mean_absolute_error: 0.0254 - val_loss: 0.0061 - val_mean_squared_error: 0.0061 - val_mean_absolute_error: 0.0565\n",
            "Epoch 9/100\n",
            "16/16 [==============================] - 3s 189ms/step - loss: 0.0014 - mean_squared_error: 0.0014 - mean_absolute_error: 0.0217 - val_loss: 0.0058 - val_mean_squared_error: 0.0058 - val_mean_absolute_error: 0.0573\n",
            "Epoch 10/100\n",
            "16/16 [==============================] - 3s 185ms/step - loss: 0.0012 - mean_squared_error: 0.0012 - mean_absolute_error: 0.0199 - val_loss: 0.0056 - val_mean_squared_error: 0.0056 - val_mean_absolute_error: 0.0561\n",
            "Epoch 11/100\n",
            "16/16 [==============================] - 3s 180ms/step - loss: 0.0011 - mean_squared_error: 0.0011 - mean_absolute_error: 0.0198 - val_loss: 0.0059 - val_mean_squared_error: 0.0059 - val_mean_absolute_error: 0.0581\n",
            "Epoch 12/100\n",
            "16/16 [==============================] - 3s 185ms/step - loss: 0.0014 - mean_squared_error: 0.0014 - mean_absolute_error: 0.0199 - val_loss: 0.0061 - val_mean_squared_error: 0.0061 - val_mean_absolute_error: 0.0571\n",
            "Epoch 13/100\n",
            "16/16 [==============================] - 3s 158ms/step - loss: 0.0013 - mean_squared_error: 0.0013 - mean_absolute_error: 0.0200 - val_loss: 0.0055 - val_mean_squared_error: 0.0055 - val_mean_absolute_error: 0.0551\n",
            "Epoch 14/100\n",
            "16/16 [==============================] - 3s 171ms/step - loss: 0.0011 - mean_squared_error: 0.0011 - mean_absolute_error: 0.0192 - val_loss: 0.0055 - val_mean_squared_error: 0.0055 - val_mean_absolute_error: 0.0554\n",
            "Epoch 15/100\n",
            "16/16 [==============================] - 3s 176ms/step - loss: 0.0012 - mean_squared_error: 0.0012 - mean_absolute_error: 0.0211 - val_loss: 0.0062 - val_mean_squared_error: 0.0062 - val_mean_absolute_error: 0.0614\n",
            "Epoch 16/100\n",
            "16/16 [==============================] - 3s 182ms/step - loss: 0.0011 - mean_squared_error: 0.0011 - mean_absolute_error: 0.0212 - val_loss: 0.0070 - val_mean_squared_error: 0.0070 - val_mean_absolute_error: 0.0621\n",
            "Epoch 17/100\n",
            "16/16 [==============================] - 3s 178ms/step - loss: 0.0015 - mean_squared_error: 0.0015 - mean_absolute_error: 0.0222 - val_loss: 0.0053 - val_mean_squared_error: 0.0053 - val_mean_absolute_error: 0.0537\n",
            "Epoch 18/100\n",
            "16/16 [==============================] - 3s 187ms/step - loss: 0.0012 - mean_squared_error: 0.0012 - mean_absolute_error: 0.0194 - val_loss: 0.0062 - val_mean_squared_error: 0.0062 - val_mean_absolute_error: 0.0576\n",
            "Epoch 19/100\n",
            "16/16 [==============================] - 3s 179ms/step - loss: 0.0011 - mean_squared_error: 0.0011 - mean_absolute_error: 0.0203 - val_loss: 0.0053 - val_mean_squared_error: 0.0053 - val_mean_absolute_error: 0.0548\n",
            "Epoch 20/100\n",
            "16/16 [==============================] - 3s 199ms/step - loss: 0.0010 - mean_squared_error: 0.0010 - mean_absolute_error: 0.0184 - val_loss: 0.0057 - val_mean_squared_error: 0.0057 - val_mean_absolute_error: 0.0542\n",
            "Epoch 21/100\n",
            "16/16 [==============================] - 3s 190ms/step - loss: 0.0011 - mean_squared_error: 0.0011 - mean_absolute_error: 0.0194 - val_loss: 0.0052 - val_mean_squared_error: 0.0052 - val_mean_absolute_error: 0.0529\n",
            "Epoch 22/100\n",
            "16/16 [==============================] - 3s 196ms/step - loss: 0.0010 - mean_squared_error: 0.0010 - mean_absolute_error: 0.0192 - val_loss: 0.0052 - val_mean_squared_error: 0.0052 - val_mean_absolute_error: 0.0539\n",
            "Epoch 23/100\n",
            "16/16 [==============================] - 3s 191ms/step - loss: 8.6292e-04 - mean_squared_error: 8.6292e-04 - mean_absolute_error: 0.0172 - val_loss: 0.0062 - val_mean_squared_error: 0.0062 - val_mean_absolute_error: 0.0570\n",
            "Epoch 24/100\n",
            "16/16 [==============================] - 3s 211ms/step - loss: 8.7284e-04 - mean_squared_error: 8.7284e-04 - mean_absolute_error: 0.0180 - val_loss: 0.0052 - val_mean_squared_error: 0.0052 - val_mean_absolute_error: 0.0515\n",
            "Epoch 25/100\n",
            "16/16 [==============================] - 3s 199ms/step - loss: 8.7922e-04 - mean_squared_error: 8.7922e-04 - mean_absolute_error: 0.0181 - val_loss: 0.0053 - val_mean_squared_error: 0.0053 - val_mean_absolute_error: 0.0519\n",
            "Epoch 26/100\n",
            "16/16 [==============================] - 3s 190ms/step - loss: 0.0012 - mean_squared_error: 0.0012 - mean_absolute_error: 0.0197 - val_loss: 0.0057 - val_mean_squared_error: 0.0057 - val_mean_absolute_error: 0.0540\n",
            "Epoch 27/100\n",
            "16/16 [==============================] - 3s 188ms/step - loss: 0.0012 - mean_squared_error: 0.0012 - mean_absolute_error: 0.0210 - val_loss: 0.0050 - val_mean_squared_error: 0.0050 - val_mean_absolute_error: 0.0527\n",
            "Epoch 28/100\n",
            "16/16 [==============================] - 3s 202ms/step - loss: 7.6092e-04 - mean_squared_error: 7.6092e-04 - mean_absolute_error: 0.0159 - val_loss: 0.0052 - val_mean_squared_error: 0.0052 - val_mean_absolute_error: 0.0513\n",
            "Epoch 29/100\n",
            "16/16 [==============================] - 3s 198ms/step - loss: 0.0011 - mean_squared_error: 0.0011 - mean_absolute_error: 0.0191 - val_loss: 0.0055 - val_mean_squared_error: 0.0055 - val_mean_absolute_error: 0.0532\n",
            "Epoch 30/100\n",
            "16/16 [==============================] - 3s 182ms/step - loss: 0.0010 - mean_squared_error: 0.0010 - mean_absolute_error: 0.0191 - val_loss: 0.0061 - val_mean_squared_error: 0.0061 - val_mean_absolute_error: 0.0628\n",
            "Epoch 31/100\n",
            "16/16 [==============================] - 3s 187ms/step - loss: 9.2549e-04 - mean_squared_error: 9.2549e-04 - mean_absolute_error: 0.0189 - val_loss: 0.0051 - val_mean_squared_error: 0.0051 - val_mean_absolute_error: 0.0509\n",
            "Epoch 32/100\n",
            "16/16 [==============================] - 3s 185ms/step - loss: 6.7590e-04 - mean_squared_error: 6.7590e-04 - mean_absolute_error: 0.0157 - val_loss: 0.0047 - val_mean_squared_error: 0.0047 - val_mean_absolute_error: 0.0490\n",
            "Epoch 33/100\n",
            "16/16 [==============================] - 3s 188ms/step - loss: 9.1898e-04 - mean_squared_error: 9.1898e-04 - mean_absolute_error: 0.0178 - val_loss: 0.0054 - val_mean_squared_error: 0.0054 - val_mean_absolute_error: 0.0572\n",
            "Epoch 34/100\n",
            "16/16 [==============================] - 3s 190ms/step - loss: 0.0011 - mean_squared_error: 0.0011 - mean_absolute_error: 0.0210 - val_loss: 0.0057 - val_mean_squared_error: 0.0057 - val_mean_absolute_error: 0.0544\n",
            "Epoch 35/100\n",
            "16/16 [==============================] - 3s 182ms/step - loss: 8.5789e-04 - mean_squared_error: 8.5789e-04 - mean_absolute_error: 0.0192 - val_loss: 0.0047 - val_mean_squared_error: 0.0047 - val_mean_absolute_error: 0.0497\n",
            "Epoch 36/100\n",
            "16/16 [==============================] - 3s 174ms/step - loss: 8.6930e-04 - mean_squared_error: 8.6930e-04 - mean_absolute_error: 0.0180 - val_loss: 0.0048 - val_mean_squared_error: 0.0048 - val_mean_absolute_error: 0.0528\n",
            "Epoch 37/100\n",
            "16/16 [==============================] - 3s 194ms/step - loss: 9.0463e-04 - mean_squared_error: 9.0463e-04 - mean_absolute_error: 0.0180 - val_loss: 0.0051 - val_mean_squared_error: 0.0051 - val_mean_absolute_error: 0.0508\n",
            "Epoch 38/100\n",
            "16/16 [==============================] - 3s 186ms/step - loss: 8.6514e-04 - mean_squared_error: 8.6514e-04 - mean_absolute_error: 0.0175 - val_loss: 0.0048 - val_mean_squared_error: 0.0048 - val_mean_absolute_error: 0.0529\n",
            "Epoch 39/100\n",
            "16/16 [==============================] - 3s 187ms/step - loss: 8.2923e-04 - mean_squared_error: 8.2923e-04 - mean_absolute_error: 0.0183 - val_loss: 0.0048 - val_mean_squared_error: 0.0048 - val_mean_absolute_error: 0.0491\n",
            "Epoch 40/100\n",
            "16/16 [==============================] - 3s 184ms/step - loss: 9.0855e-04 - mean_squared_error: 9.0855e-04 - mean_absolute_error: 0.0172 - val_loss: 0.0047 - val_mean_squared_error: 0.0047 - val_mean_absolute_error: 0.0488\n",
            "Epoch 41/100\n",
            "16/16 [==============================] - 3s 189ms/step - loss: 6.8470e-04 - mean_squared_error: 6.8470e-04 - mean_absolute_error: 0.0160 - val_loss: 0.0048 - val_mean_squared_error: 0.0048 - val_mean_absolute_error: 0.0532\n",
            "Epoch 42/100\n",
            "16/16 [==============================] - 3s 193ms/step - loss: 9.9147e-04 - mean_squared_error: 9.9147e-04 - mean_absolute_error: 0.0196 - val_loss: 0.0053 - val_mean_squared_error: 0.0053 - val_mean_absolute_error: 0.0522\n",
            "Epoch 43/100\n",
            "16/16 [==============================] - 3s 190ms/step - loss: 7.4378e-04 - mean_squared_error: 7.4378e-04 - mean_absolute_error: 0.0163 - val_loss: 0.0045 - val_mean_squared_error: 0.0045 - val_mean_absolute_error: 0.0481\n",
            "Epoch 44/100\n",
            "16/16 [==============================] - 3s 198ms/step - loss: 8.7935e-04 - mean_squared_error: 8.7935e-04 - mean_absolute_error: 0.0170 - val_loss: 0.0045 - val_mean_squared_error: 0.0045 - val_mean_absolute_error: 0.0474\n",
            "Epoch 45/100\n",
            "16/16 [==============================] - 3s 199ms/step - loss: 7.6099e-04 - mean_squared_error: 7.6099e-04 - mean_absolute_error: 0.0173 - val_loss: 0.0051 - val_mean_squared_error: 0.0051 - val_mean_absolute_error: 0.0512\n",
            "Epoch 46/100\n",
            "16/16 [==============================] - 3s 197ms/step - loss: 9.7537e-04 - mean_squared_error: 9.7537e-04 - mean_absolute_error: 0.0178 - val_loss: 0.0047 - val_mean_squared_error: 0.0047 - val_mean_absolute_error: 0.0484\n",
            "Epoch 47/100\n",
            "16/16 [==============================] - 3s 184ms/step - loss: 8.9441e-04 - mean_squared_error: 8.9441e-04 - mean_absolute_error: 0.0196 - val_loss: 0.0043 - val_mean_squared_error: 0.0043 - val_mean_absolute_error: 0.0491\n",
            "Epoch 48/100\n",
            "16/16 [==============================] - 3s 183ms/step - loss: 9.1108e-04 - mean_squared_error: 9.1108e-04 - mean_absolute_error: 0.0184 - val_loss: 0.0050 - val_mean_squared_error: 0.0050 - val_mean_absolute_error: 0.0507\n",
            "Epoch 49/100\n",
            "16/16 [==============================] - 3s 181ms/step - loss: 8.8708e-04 - mean_squared_error: 8.8708e-04 - mean_absolute_error: 0.0177 - val_loss: 0.0047 - val_mean_squared_error: 0.0047 - val_mean_absolute_error: 0.0487\n",
            "Epoch 50/100\n",
            "16/16 [==============================] - 3s 187ms/step - loss: 7.6972e-04 - mean_squared_error: 7.6972e-04 - mean_absolute_error: 0.0175 - val_loss: 0.0043 - val_mean_squared_error: 0.0043 - val_mean_absolute_error: 0.0470\n",
            "Epoch 51/100\n",
            "16/16 [==============================] - 3s 178ms/step - loss: 7.4980e-04 - mean_squared_error: 7.4980e-04 - mean_absolute_error: 0.0158 - val_loss: 0.0066 - val_mean_squared_error: 0.0066 - val_mean_absolute_error: 0.0612\n",
            "Epoch 52/100\n",
            "16/16 [==============================] - 3s 173ms/step - loss: 9.2676e-04 - mean_squared_error: 9.2676e-04 - mean_absolute_error: 0.0191 - val_loss: 0.0042 - val_mean_squared_error: 0.0042 - val_mean_absolute_error: 0.0472\n",
            "Epoch 53/100\n",
            "16/16 [==============================] - 3s 184ms/step - loss: 6.7229e-04 - mean_squared_error: 6.7229e-04 - mean_absolute_error: 0.0159 - val_loss: 0.0046 - val_mean_squared_error: 0.0046 - val_mean_absolute_error: 0.0536\n",
            "Epoch 54/100\n",
            "16/16 [==============================] - 3s 183ms/step - loss: 9.4939e-04 - mean_squared_error: 9.4939e-04 - mean_absolute_error: 0.0193 - val_loss: 0.0044 - val_mean_squared_error: 0.0044 - val_mean_absolute_error: 0.0466\n",
            "Epoch 55/100\n",
            "16/16 [==============================] - 3s 192ms/step - loss: 7.1044e-04 - mean_squared_error: 7.1044e-04 - mean_absolute_error: 0.0167 - val_loss: 0.0042 - val_mean_squared_error: 0.0042 - val_mean_absolute_error: 0.0477\n",
            "Epoch 56/100\n",
            "16/16 [==============================] - 3s 182ms/step - loss: 7.3139e-04 - mean_squared_error: 7.3139e-04 - mean_absolute_error: 0.0164 - val_loss: 0.0067 - val_mean_squared_error: 0.0067 - val_mean_absolute_error: 0.0618\n",
            "Epoch 57/100\n",
            "16/16 [==============================] - 3s 186ms/step - loss: 9.3822e-04 - mean_squared_error: 9.3822e-04 - mean_absolute_error: 0.0184 - val_loss: 0.0046 - val_mean_squared_error: 0.0046 - val_mean_absolute_error: 0.0536\n",
            "Epoch 58/100\n",
            "16/16 [==============================] - 3s 189ms/step - loss: 7.9693e-04 - mean_squared_error: 7.9693e-04 - mean_absolute_error: 0.0180 - val_loss: 0.0043 - val_mean_squared_error: 0.0043 - val_mean_absolute_error: 0.0460\n",
            "Epoch 59/100\n",
            "16/16 [==============================] - 3s 189ms/step - loss: 7.4687e-04 - mean_squared_error: 7.4687e-04 - mean_absolute_error: 0.0164 - val_loss: 0.0055 - val_mean_squared_error: 0.0055 - val_mean_absolute_error: 0.0536\n",
            "Epoch 60/100\n",
            "16/16 [==============================] - 3s 187ms/step - loss: 7.0187e-04 - mean_squared_error: 7.0187e-04 - mean_absolute_error: 0.0168 - val_loss: 0.0049 - val_mean_squared_error: 0.0049 - val_mean_absolute_error: 0.0564\n",
            "Epoch 61/100\n",
            "16/16 [==============================] - 3s 181ms/step - loss: 9.6297e-04 - mean_squared_error: 9.6297e-04 - mean_absolute_error: 0.0196 - val_loss: 0.0068 - val_mean_squared_error: 0.0068 - val_mean_absolute_error: 0.0625\n",
            "Epoch 62/100\n",
            "16/16 [==============================] - 3s 195ms/step - loss: 0.0010 - mean_squared_error: 0.0010 - mean_absolute_error: 0.0202 - val_loss: 0.0040 - val_mean_squared_error: 0.0040 - val_mean_absolute_error: 0.0447\n",
            "Epoch 63/100\n",
            "16/16 [==============================] - 3s 209ms/step - loss: 6.5684e-04 - mean_squared_error: 6.5684e-04 - mean_absolute_error: 0.0157 - val_loss: 0.0040 - val_mean_squared_error: 0.0040 - val_mean_absolute_error: 0.0452\n",
            "Epoch 64/100\n",
            "16/16 [==============================] - 3s 205ms/step - loss: 6.8419e-04 - mean_squared_error: 6.8419e-04 - mean_absolute_error: 0.0154 - val_loss: 0.0046 - val_mean_squared_error: 0.0046 - val_mean_absolute_error: 0.0478\n",
            "Epoch 65/100\n",
            "16/16 [==============================] - 3s 202ms/step - loss: 6.9274e-04 - mean_squared_error: 6.9274e-04 - mean_absolute_error: 0.0164 - val_loss: 0.0042 - val_mean_squared_error: 0.0042 - val_mean_absolute_error: 0.0455\n",
            "Epoch 66/100\n",
            "16/16 [==============================] - 3s 185ms/step - loss: 8.1163e-04 - mean_squared_error: 8.1163e-04 - mean_absolute_error: 0.0167 - val_loss: 0.0042 - val_mean_squared_error: 0.0042 - val_mean_absolute_error: 0.0499\n",
            "Epoch 67/100\n",
            "16/16 [==============================] - 3s 201ms/step - loss: 7.5673e-04 - mean_squared_error: 7.5673e-04 - mean_absolute_error: 0.0170 - val_loss: 0.0049 - val_mean_squared_error: 0.0049 - val_mean_absolute_error: 0.0498\n",
            "Epoch 68/100\n",
            "16/16 [==============================] - 3s 195ms/step - loss: 6.8458e-04 - mean_squared_error: 6.8458e-04 - mean_absolute_error: 0.0162 - val_loss: 0.0056 - val_mean_squared_error: 0.0056 - val_mean_absolute_error: 0.0549\n",
            "Epoch 69/100\n",
            "16/16 [==============================] - 3s 188ms/step - loss: 9.2453e-04 - mean_squared_error: 9.2453e-04 - mean_absolute_error: 0.0185 - val_loss: 0.0039 - val_mean_squared_error: 0.0039 - val_mean_absolute_error: 0.0474\n",
            "Epoch 70/100\n",
            "16/16 [==============================] - 3s 188ms/step - loss: 7.7227e-04 - mean_squared_error: 7.7227e-04 - mean_absolute_error: 0.0164 - val_loss: 0.0041 - val_mean_squared_error: 0.0041 - val_mean_absolute_error: 0.0440\n",
            "Epoch 71/100\n",
            "16/16 [==============================] - 3s 189ms/step - loss: 6.6296e-04 - mean_squared_error: 6.6296e-04 - mean_absolute_error: 0.0158 - val_loss: 0.0038 - val_mean_squared_error: 0.0038 - val_mean_absolute_error: 0.0442\n",
            "Epoch 72/100\n",
            "16/16 [==============================] - 3s 183ms/step - loss: 7.3050e-04 - mean_squared_error: 7.3050e-04 - mean_absolute_error: 0.0162 - val_loss: 0.0039 - val_mean_squared_error: 0.0039 - val_mean_absolute_error: 0.0433\n",
            "Epoch 73/100\n",
            "16/16 [==============================] - 3s 192ms/step - loss: 5.2350e-04 - mean_squared_error: 5.2350e-04 - mean_absolute_error: 0.0141 - val_loss: 0.0039 - val_mean_squared_error: 0.0039 - val_mean_absolute_error: 0.0444\n",
            "Epoch 74/100\n",
            "16/16 [==============================] - 3s 190ms/step - loss: 8.3622e-04 - mean_squared_error: 8.3622e-04 - mean_absolute_error: 0.0171 - val_loss: 0.0046 - val_mean_squared_error: 0.0046 - val_mean_absolute_error: 0.0479\n",
            "Epoch 75/100\n",
            "16/16 [==============================] - 3s 208ms/step - loss: 6.9389e-04 - mean_squared_error: 6.9389e-04 - mean_absolute_error: 0.0161 - val_loss: 0.0039 - val_mean_squared_error: 0.0039 - val_mean_absolute_error: 0.0456\n",
            "Epoch 76/100\n",
            "16/16 [==============================] - 3s 186ms/step - loss: 7.8548e-04 - mean_squared_error: 7.8548e-04 - mean_absolute_error: 0.0170 - val_loss: 0.0038 - val_mean_squared_error: 0.0038 - val_mean_absolute_error: 0.0449\n",
            "Epoch 77/100\n",
            "16/16 [==============================] - 3s 199ms/step - loss: 6.0346e-04 - mean_squared_error: 6.0346e-04 - mean_absolute_error: 0.0143 - val_loss: 0.0039 - val_mean_squared_error: 0.0039 - val_mean_absolute_error: 0.0443\n",
            "Epoch 78/100\n",
            "16/16 [==============================] - 3s 192ms/step - loss: 7.4833e-04 - mean_squared_error: 7.4833e-04 - mean_absolute_error: 0.0160 - val_loss: 0.0037 - val_mean_squared_error: 0.0037 - val_mean_absolute_error: 0.0431\n",
            "Epoch 79/100\n",
            "16/16 [==============================] - 3s 193ms/step - loss: 5.2243e-04 - mean_squared_error: 5.2243e-04 - mean_absolute_error: 0.0140 - val_loss: 0.0039 - val_mean_squared_error: 0.0039 - val_mean_absolute_error: 0.0433\n",
            "Epoch 80/100\n",
            "16/16 [==============================] - 3s 196ms/step - loss: 6.7789e-04 - mean_squared_error: 6.7789e-04 - mean_absolute_error: 0.0156 - val_loss: 0.0038 - val_mean_squared_error: 0.0038 - val_mean_absolute_error: 0.0436\n",
            "Epoch 81/100\n",
            "16/16 [==============================] - 3s 180ms/step - loss: 5.5460e-04 - mean_squared_error: 5.5460e-04 - mean_absolute_error: 0.0150 - val_loss: 0.0037 - val_mean_squared_error: 0.0037 - val_mean_absolute_error: 0.0424\n",
            "Epoch 82/100\n",
            "16/16 [==============================] - 3s 185ms/step - loss: 5.6314e-04 - mean_squared_error: 5.6314e-04 - mean_absolute_error: 0.0148 - val_loss: 0.0037 - val_mean_squared_error: 0.0037 - val_mean_absolute_error: 0.0421\n",
            "Epoch 83/100\n",
            "16/16 [==============================] - 3s 183ms/step - loss: 6.0650e-04 - mean_squared_error: 6.0650e-04 - mean_absolute_error: 0.0157 - val_loss: 0.0039 - val_mean_squared_error: 0.0039 - val_mean_absolute_error: 0.0430\n",
            "Epoch 84/100\n",
            "16/16 [==============================] - 3s 199ms/step - loss: 6.0178e-04 - mean_squared_error: 6.0178e-04 - mean_absolute_error: 0.0148 - val_loss: 0.0041 - val_mean_squared_error: 0.0041 - val_mean_absolute_error: 0.0445\n",
            "Epoch 85/100\n",
            "16/16 [==============================] - 3s 198ms/step - loss: 5.7606e-04 - mean_squared_error: 5.7606e-04 - mean_absolute_error: 0.0150 - val_loss: 0.0036 - val_mean_squared_error: 0.0036 - val_mean_absolute_error: 0.0444\n",
            "Epoch 86/100\n",
            "16/16 [==============================] - 3s 188ms/step - loss: 7.8637e-04 - mean_squared_error: 7.8637e-04 - mean_absolute_error: 0.0162 - val_loss: 0.0037 - val_mean_squared_error: 0.0037 - val_mean_absolute_error: 0.0426\n",
            "Epoch 87/100\n",
            "16/16 [==============================] - 3s 181ms/step - loss: 5.5839e-04 - mean_squared_error: 5.5839e-04 - mean_absolute_error: 0.0144 - val_loss: 0.0042 - val_mean_squared_error: 0.0042 - val_mean_absolute_error: 0.0445\n",
            "Epoch 88/100\n",
            "16/16 [==============================] - 3s 187ms/step - loss: 6.3687e-04 - mean_squared_error: 6.3687e-04 - mean_absolute_error: 0.0163 - val_loss: 0.0051 - val_mean_squared_error: 0.0051 - val_mean_absolute_error: 0.0508\n",
            "Epoch 89/100\n",
            "16/16 [==============================] - 3s 176ms/step - loss: 0.0010 - mean_squared_error: 0.0010 - mean_absolute_error: 0.0205 - val_loss: 0.0036 - val_mean_squared_error: 0.0036 - val_mean_absolute_error: 0.0437\n",
            "Epoch 90/100\n",
            "16/16 [==============================] - 3s 175ms/step - loss: 7.0757e-04 - mean_squared_error: 7.0757e-04 - mean_absolute_error: 0.0167 - val_loss: 0.0036 - val_mean_squared_error: 0.0036 - val_mean_absolute_error: 0.0434\n",
            "Epoch 91/100\n",
            "16/16 [==============================] - 3s 192ms/step - loss: 5.7351e-04 - mean_squared_error: 5.7351e-04 - mean_absolute_error: 0.0147 - val_loss: 0.0038 - val_mean_squared_error: 0.0038 - val_mean_absolute_error: 0.0425\n",
            "Epoch 92/100\n",
            "16/16 [==============================] - 3s 195ms/step - loss: 5.7300e-04 - mean_squared_error: 5.7300e-04 - mean_absolute_error: 0.0147 - val_loss: 0.0038 - val_mean_squared_error: 0.0038 - val_mean_absolute_error: 0.0421\n",
            "Epoch 93/100\n",
            "16/16 [==============================] - 3s 184ms/step - loss: 7.4483e-04 - mean_squared_error: 7.4483e-04 - mean_absolute_error: 0.0165 - val_loss: 0.0035 - val_mean_squared_error: 0.0035 - val_mean_absolute_error: 0.0434\n",
            "Epoch 94/100\n",
            "16/16 [==============================] - 3s 190ms/step - loss: 5.1577e-04 - mean_squared_error: 5.1577e-04 - mean_absolute_error: 0.0144 - val_loss: 0.0035 - val_mean_squared_error: 0.0035 - val_mean_absolute_error: 0.0420\n",
            "Epoch 95/100\n",
            "16/16 [==============================] - 3s 197ms/step - loss: 5.8066e-04 - mean_squared_error: 5.8066e-04 - mean_absolute_error: 0.0148 - val_loss: 0.0037 - val_mean_squared_error: 0.0037 - val_mean_absolute_error: 0.0425\n",
            "Epoch 96/100\n",
            "16/16 [==============================] - 3s 195ms/step - loss: 5.4670e-04 - mean_squared_error: 5.4670e-04 - mean_absolute_error: 0.0148 - val_loss: 0.0036 - val_mean_squared_error: 0.0036 - val_mean_absolute_error: 0.0419\n",
            "Epoch 97/100\n",
            "16/16 [==============================] - 3s 185ms/step - loss: 7.1446e-04 - mean_squared_error: 7.1446e-04 - mean_absolute_error: 0.0153 - val_loss: 0.0042 - val_mean_squared_error: 0.0042 - val_mean_absolute_error: 0.0449\n",
            "Epoch 98/100\n",
            "16/16 [==============================] - 3s 194ms/step - loss: 6.2465e-04 - mean_squared_error: 6.2465e-04 - mean_absolute_error: 0.0155 - val_loss: 0.0037 - val_mean_squared_error: 0.0037 - val_mean_absolute_error: 0.0418\n",
            "Epoch 99/100\n",
            "16/16 [==============================] - 3s 192ms/step - loss: 6.9097e-04 - mean_squared_error: 6.9097e-04 - mean_absolute_error: 0.0157 - val_loss: 0.0036 - val_mean_squared_error: 0.0036 - val_mean_absolute_error: 0.0464\n",
            "Epoch 100/100\n",
            "16/16 [==============================] - 3s 190ms/step - loss: 7.4746e-04 - mean_squared_error: 7.4746e-04 - mean_absolute_error: 0.0163 - val_loss: 0.0034 - val_mean_squared_error: 0.0034 - val_mean_absolute_error: 0.0422\n"
          ],
          "name": "stdout"
        },
        {
          "output_type": "stream",
          "text": [
            "\u001b[34m\u001b[1mwandb\u001b[0m: Ctrl + C detected. Stopping sweep.\n"
          ],
          "name": "stderr"
        }
      ]
    },
    {
      "cell_type": "markdown",
      "metadata": {
        "id": "gFTu29dbi18i"
      },
      "source": [
        "# Setting up the best model\n",
        "Using the best values from the hyperparamter search with wandb, the most optimal model configuration is used."
      ]
    },
    {
      "cell_type": "code",
      "metadata": {
        "id": "NwsO8cDJPMdj"
      },
      "source": [
        "# picking the best values\n",
        "best_config = {\n",
        "    'epochs': 100,\n",
        "    'batch_size': 64,\n",
        "    'learning_rate': 0.005,\n",
        "    'dropout': 0.1,\n",
        "    'optimizer': 'nadam',\n",
        "    'activation': 'tanh'\n",
        "}"
      ],
      "execution_count": 17,
      "outputs": []
    },
    {
      "cell_type": "code",
      "metadata": {
        "colab": {
          "base_uri": "https://localhost:8080/"
        },
        "id": "OU7NXYBg1T4r",
        "outputId": "092f6674-43d8-4e5b-99d0-f94d344f92ea"
      },
      "source": [
        "# clearing the settings on the keras backend\n",
        "keras.backend.clear_session()\n",
        "\n",
        "# setting keras model to sequential mode\n",
        "model = Sequential()\n",
        "\n",
        "# layer 1\n",
        "model.add(LSTM(units=64, activation=best_config['activation'], return_sequences=True, input_shape=(window_len, 1)))\n",
        "model.add(Dropout(best_config['dropout']))\n",
        "# layer 2\n",
        "model.add(GRU(units=64, activation=best_config['activation']))\n",
        "model.add(Dropout(0.1))\n",
        "# layer 3\n",
        "model.add(Dense(1))\n",
        "\n",
        "# defining the optimiser\n",
        "if best_config['optimizer'] == 'sgd':\n",
        "  optimizer = SGD(learning_rate=best_config['learning_rate'], decay=1e-5, momentum=0.9, nesterov=True)\n",
        "elif best_config['optimizer'] == 'rmsprop':\n",
        "  optimizer = RMSprop(learning_rate=best_config['learning_rate'], decay=1e-5)\n",
        "elif best_config['optimizer'] == 'adam':\n",
        "  optimizer = Adam(learning_rate=best_config['learning_rate'], beta_1=0.9, beta_2=0.999, clipnorm=1.0)\n",
        "elif best_config['optimizer'] == 'nadam':\n",
        "  optimizer = Nadam(learning_rate=best_config['learning_rate'], beta_1=0.9, beta_2=0.999, clipnorm=1.0)\n",
        "\n",
        "# compile the model\n",
        "model.compile(optimizer, loss='mean_squared_error')\n",
        "\n",
        "# counting the number of trainable parameters\n",
        "trainable_count = count_params(model.trainable_weights)\n",
        "print('Total number of trainable parameters: ', trainable_count)"
      ],
      "execution_count": 18,
      "outputs": [
        {
          "output_type": "stream",
          "text": [
            "Total number of trainable parameters:  41921\n"
          ],
          "name": "stdout"
        }
      ]
    },
    {
      "cell_type": "code",
      "metadata": {
        "colab": {
          "base_uri": "https://localhost:8080/"
        },
        "id": "5UG8j_4r7kSu",
        "outputId": "d43d0df6-aec6-49d5-d9f5-b46a20412eb2"
      },
      "source": [
        "model.summary()"
      ],
      "execution_count": 19,
      "outputs": [
        {
          "output_type": "stream",
          "text": [
            "Model: \"sequential\"\n",
            "_________________________________________________________________\n",
            "Layer (type)                 Output Shape              Param #   \n",
            "=================================================================\n",
            "lstm (LSTM)                  (None, 30, 64)            16896     \n",
            "_________________________________________________________________\n",
            "dropout (Dropout)            (None, 30, 64)            0         \n",
            "_________________________________________________________________\n",
            "gru (GRU)                    (None, 64)                24960     \n",
            "_________________________________________________________________\n",
            "dropout_1 (Dropout)          (None, 64)                0         \n",
            "_________________________________________________________________\n",
            "dense (Dense)                (None, 1)                 65        \n",
            "=================================================================\n",
            "Total params: 41,921\n",
            "Trainable params: 41,921\n",
            "Non-trainable params: 0\n",
            "_________________________________________________________________\n"
          ],
          "name": "stdout"
        }
      ]
    },
    {
      "cell_type": "code",
      "metadata": {
        "colab": {
          "base_uri": "https://localhost:8080/"
        },
        "id": "W3v718GcE39o",
        "outputId": "e8434730-c759-4d82-ee49-574d89394436"
      },
      "source": [
        "# fitting the model to the training dataset\n",
        "model.fit(X_train, y_train, epochs=best_config['epochs'], batch_size=best_config['batch_size'])"
      ],
      "execution_count": 20,
      "outputs": [
        {
          "output_type": "stream",
          "text": [
            "Epoch 1/100\n",
            "20/20 [==============================] - 5s 10ms/step - loss: 0.0554\n",
            "Epoch 2/100\n",
            "20/20 [==============================] - 0s 10ms/step - loss: 0.0029\n",
            "Epoch 3/100\n",
            "20/20 [==============================] - 0s 11ms/step - loss: 0.0020\n",
            "Epoch 4/100\n",
            "20/20 [==============================] - 0s 11ms/step - loss: 0.0029\n",
            "Epoch 5/100\n",
            "20/20 [==============================] - 0s 10ms/step - loss: 0.0017\n",
            "Epoch 6/100\n",
            "20/20 [==============================] - 0s 10ms/step - loss: 0.0014\n",
            "Epoch 7/100\n",
            "20/20 [==============================] - 0s 10ms/step - loss: 0.0032\n",
            "Epoch 8/100\n",
            "20/20 [==============================] - 0s 11ms/step - loss: 0.0018\n",
            "Epoch 9/100\n",
            "20/20 [==============================] - 0s 11ms/step - loss: 0.0018\n",
            "Epoch 10/100\n",
            "20/20 [==============================] - 0s 11ms/step - loss: 0.0013\n",
            "Epoch 11/100\n",
            "20/20 [==============================] - 0s 10ms/step - loss: 0.0020\n",
            "Epoch 12/100\n",
            "20/20 [==============================] - 0s 10ms/step - loss: 0.0035\n",
            "Epoch 13/100\n",
            "20/20 [==============================] - 0s 11ms/step - loss: 0.0020\n",
            "Epoch 14/100\n",
            "20/20 [==============================] - 0s 10ms/step - loss: 0.0011\n",
            "Epoch 15/100\n",
            "20/20 [==============================] - 0s 10ms/step - loss: 0.0049\n",
            "Epoch 16/100\n",
            "20/20 [==============================] - 0s 11ms/step - loss: 0.0014\n",
            "Epoch 17/100\n",
            "20/20 [==============================] - 0s 10ms/step - loss: 0.0012\n",
            "Epoch 18/100\n",
            "20/20 [==============================] - 0s 11ms/step - loss: 0.0024\n",
            "Epoch 19/100\n",
            "20/20 [==============================] - 0s 10ms/step - loss: 0.0013\n",
            "Epoch 20/100\n",
            "20/20 [==============================] - 0s 11ms/step - loss: 9.3859e-04\n",
            "Epoch 21/100\n",
            "20/20 [==============================] - 0s 11ms/step - loss: 0.0032\n",
            "Epoch 22/100\n",
            "20/20 [==============================] - 0s 11ms/step - loss: 8.9407e-04\n",
            "Epoch 23/100\n",
            "20/20 [==============================] - 0s 12ms/step - loss: 0.0019\n",
            "Epoch 24/100\n",
            "20/20 [==============================] - 0s 11ms/step - loss: 0.0016\n",
            "Epoch 25/100\n",
            "20/20 [==============================] - 0s 10ms/step - loss: 0.0015\n",
            "Epoch 26/100\n",
            "20/20 [==============================] - 0s 10ms/step - loss: 9.2407e-04\n",
            "Epoch 27/100\n",
            "20/20 [==============================] - 0s 11ms/step - loss: 0.0014\n",
            "Epoch 28/100\n",
            "20/20 [==============================] - 0s 11ms/step - loss: 0.0011\n",
            "Epoch 29/100\n",
            "20/20 [==============================] - 0s 11ms/step - loss: 0.0011\n",
            "Epoch 30/100\n",
            "20/20 [==============================] - 0s 11ms/step - loss: 8.5150e-04\n",
            "Epoch 31/100\n",
            "20/20 [==============================] - 0s 11ms/step - loss: 9.6556e-04\n",
            "Epoch 32/100\n",
            "20/20 [==============================] - 0s 11ms/step - loss: 0.0033\n",
            "Epoch 33/100\n",
            "20/20 [==============================] - 0s 10ms/step - loss: 8.3006e-04\n",
            "Epoch 34/100\n",
            "20/20 [==============================] - 0s 10ms/step - loss: 8.8606e-04\n",
            "Epoch 35/100\n",
            "20/20 [==============================] - 0s 11ms/step - loss: 7.5317e-04\n",
            "Epoch 36/100\n",
            "20/20 [==============================] - 0s 11ms/step - loss: 8.4173e-04\n",
            "Epoch 37/100\n",
            "20/20 [==============================] - 0s 10ms/step - loss: 0.0028\n",
            "Epoch 38/100\n",
            "20/20 [==============================] - 0s 11ms/step - loss: 9.8203e-04\n",
            "Epoch 39/100\n",
            "20/20 [==============================] - 0s 12ms/step - loss: 0.0017\n",
            "Epoch 40/100\n",
            "20/20 [==============================] - 0s 10ms/step - loss: 7.8070e-04\n",
            "Epoch 41/100\n",
            "20/20 [==============================] - 0s 11ms/step - loss: 7.3109e-04\n",
            "Epoch 42/100\n",
            "20/20 [==============================] - 0s 11ms/step - loss: 7.7552e-04\n",
            "Epoch 43/100\n",
            "20/20 [==============================] - 0s 10ms/step - loss: 0.0023\n",
            "Epoch 44/100\n",
            "20/20 [==============================] - 0s 10ms/step - loss: 9.6435e-04\n",
            "Epoch 45/100\n",
            "20/20 [==============================] - 0s 11ms/step - loss: 6.2222e-04\n",
            "Epoch 46/100\n",
            "20/20 [==============================] - 0s 11ms/step - loss: 8.4087e-04\n",
            "Epoch 47/100\n",
            "20/20 [==============================] - 0s 10ms/step - loss: 6.4183e-04\n",
            "Epoch 48/100\n",
            "20/20 [==============================] - 0s 11ms/step - loss: 0.0026\n",
            "Epoch 49/100\n",
            "20/20 [==============================] - 0s 10ms/step - loss: 0.0017\n",
            "Epoch 50/100\n",
            "20/20 [==============================] - 0s 11ms/step - loss: 6.4185e-04\n",
            "Epoch 51/100\n",
            "20/20 [==============================] - 0s 10ms/step - loss: 0.0018\n",
            "Epoch 52/100\n",
            "20/20 [==============================] - 0s 10ms/step - loss: 8.2406e-04\n",
            "Epoch 53/100\n",
            "20/20 [==============================] - 0s 11ms/step - loss: 5.7784e-04\n",
            "Epoch 54/100\n",
            "20/20 [==============================] - 0s 11ms/step - loss: 8.5064e-04\n",
            "Epoch 55/100\n",
            "20/20 [==============================] - 0s 11ms/step - loss: 0.0016\n",
            "Epoch 56/100\n",
            "20/20 [==============================] - 0s 11ms/step - loss: 6.3069e-04\n",
            "Epoch 57/100\n",
            "20/20 [==============================] - 0s 11ms/step - loss: 5.8538e-04\n",
            "Epoch 58/100\n",
            "20/20 [==============================] - 0s 11ms/step - loss: 6.1318e-04\n",
            "Epoch 59/100\n",
            "20/20 [==============================] - 0s 11ms/step - loss: 8.0206e-04\n",
            "Epoch 60/100\n",
            "20/20 [==============================] - 0s 11ms/step - loss: 6.0763e-04\n",
            "Epoch 61/100\n",
            "20/20 [==============================] - 0s 11ms/step - loss: 6.7191e-04\n",
            "Epoch 62/100\n",
            "20/20 [==============================] - 0s 11ms/step - loss: 7.4406e-04\n",
            "Epoch 63/100\n",
            "20/20 [==============================] - 0s 11ms/step - loss: 6.6784e-04\n",
            "Epoch 64/100\n",
            "20/20 [==============================] - 0s 11ms/step - loss: 6.5031e-04\n",
            "Epoch 65/100\n",
            "20/20 [==============================] - 0s 11ms/step - loss: 5.7308e-04\n",
            "Epoch 66/100\n",
            "20/20 [==============================] - 0s 11ms/step - loss: 8.4589e-04\n",
            "Epoch 67/100\n",
            "20/20 [==============================] - 0s 11ms/step - loss: 8.6016e-04\n",
            "Epoch 68/100\n",
            "20/20 [==============================] - 0s 11ms/step - loss: 6.5877e-04\n",
            "Epoch 69/100\n",
            "20/20 [==============================] - 0s 10ms/step - loss: 7.3195e-04\n",
            "Epoch 70/100\n",
            "20/20 [==============================] - 0s 11ms/step - loss: 6.6551e-04\n",
            "Epoch 71/100\n",
            "20/20 [==============================] - 0s 10ms/step - loss: 5.3509e-04\n",
            "Epoch 72/100\n",
            "20/20 [==============================] - 0s 11ms/step - loss: 8.1927e-04\n",
            "Epoch 73/100\n",
            "20/20 [==============================] - 0s 12ms/step - loss: 7.2454e-04\n",
            "Epoch 74/100\n",
            "20/20 [==============================] - 0s 11ms/step - loss: 6.5722e-04\n",
            "Epoch 75/100\n",
            "20/20 [==============================] - 0s 11ms/step - loss: 0.0010\n",
            "Epoch 76/100\n",
            "20/20 [==============================] - 0s 11ms/step - loss: 5.4113e-04\n",
            "Epoch 77/100\n",
            "20/20 [==============================] - 0s 10ms/step - loss: 6.3473e-04\n",
            "Epoch 78/100\n",
            "20/20 [==============================] - 0s 11ms/step - loss: 9.3143e-04\n",
            "Epoch 79/100\n",
            "20/20 [==============================] - 0s 11ms/step - loss: 5.1514e-04\n",
            "Epoch 80/100\n",
            "20/20 [==============================] - 0s 11ms/step - loss: 6.1216e-04\n",
            "Epoch 81/100\n",
            "20/20 [==============================] - 0s 10ms/step - loss: 6.1251e-04\n",
            "Epoch 82/100\n",
            "20/20 [==============================] - 0s 11ms/step - loss: 0.0014\n",
            "Epoch 83/100\n",
            "20/20 [==============================] - 0s 11ms/step - loss: 0.0010\n",
            "Epoch 84/100\n",
            "20/20 [==============================] - 0s 10ms/step - loss: 5.6554e-04\n",
            "Epoch 85/100\n",
            "20/20 [==============================] - 0s 10ms/step - loss: 6.0208e-04\n",
            "Epoch 86/100\n",
            "20/20 [==============================] - 0s 11ms/step - loss: 7.5041e-04\n",
            "Epoch 87/100\n",
            "20/20 [==============================] - 0s 11ms/step - loss: 5.2397e-04\n",
            "Epoch 88/100\n",
            "20/20 [==============================] - 0s 11ms/step - loss: 8.6873e-04\n",
            "Epoch 89/100\n",
            "20/20 [==============================] - 0s 10ms/step - loss: 6.2447e-04\n",
            "Epoch 90/100\n",
            "20/20 [==============================] - 0s 11ms/step - loss: 6.6838e-04\n",
            "Epoch 91/100\n",
            "20/20 [==============================] - 0s 11ms/step - loss: 4.8592e-04\n",
            "Epoch 92/100\n",
            "20/20 [==============================] - 0s 11ms/step - loss: 6.1409e-04\n",
            "Epoch 93/100\n",
            "20/20 [==============================] - 0s 11ms/step - loss: 4.9717e-04\n",
            "Epoch 94/100\n",
            "20/20 [==============================] - 0s 11ms/step - loss: 5.0497e-04\n",
            "Epoch 95/100\n",
            "20/20 [==============================] - 0s 11ms/step - loss: 6.4292e-04\n",
            "Epoch 96/100\n",
            "20/20 [==============================] - 0s 10ms/step - loss: 5.6433e-04\n",
            "Epoch 97/100\n",
            "20/20 [==============================] - 0s 10ms/step - loss: 5.3096e-04\n",
            "Epoch 98/100\n",
            "20/20 [==============================] - 0s 11ms/step - loss: 5.3054e-04\n",
            "Epoch 99/100\n",
            "20/20 [==============================] - 0s 11ms/step - loss: 5.7809e-04\n",
            "Epoch 100/100\n",
            "20/20 [==============================] - 0s 11ms/step - loss: 5.4804e-04\n"
          ],
          "name": "stdout"
        },
        {
          "output_type": "execute_result",
          "data": {
            "text/plain": [
              "<keras.callbacks.History at 0x7f26cc97a490>"
            ]
          },
          "metadata": {
            "tags": []
          },
          "execution_count": 20
        }
      ]
    },
    {
      "cell_type": "code",
      "metadata": {
        "id": "rTXJN51l9Y-F"
      },
      "source": [
        "# creating an instance of Baseline_Model class using X_test\n",
        "base_model = Base_Model(X_test, window_len)\n",
        "# calling predict_y method\n",
        "base_model.predict_y(in_data.test_len - window_len)\n",
        "\n",
        "# using the model to predict y from X_test\n",
        "y_pred = model.predict(X_test)\n",
        "# assigning y_dummy variable to .y_pred class attribute\n",
        "y_dummy = base_model.y_pred\n",
        "\n",
        "# calling class method extract_real_price to generate unnormalised prices\n",
        "in_data.extract_real_prices(y_pred, y_dummy)\n",
        "\n",
        "# assinging y_true variable\n",
        "y_true = in_data.y_true\n",
        "\n",
        "# assigning actual_price, predicted_price and dummy_price\n",
        "actual_price = in_data.actual_price\n",
        "predicted_price = in_data.predicted_price\n",
        "dummy_price = in_data.dummy_price"
      ],
      "execution_count": 21,
      "outputs": []
    },
    {
      "cell_type": "markdown",
      "metadata": {
        "id": "H-D-XHyRjFMp"
      },
      "source": [
        "# Plotting the prediction results and getting errors\n",
        "The cells below plot the actual, predicted and dummy prices using the Security_Plotter class before finally saving the model and plot."
      ]
    },
    {
      "cell_type": "code",
      "metadata": {
        "colab": {
          "base_uri": "https://localhost:8080/",
          "height": 395
        },
        "id": "PgjvooOD3jq3",
        "outputId": "eb3255e6-0028-4603-8a17-c457ea5d1383"
      },
      "source": [
        "plotter = Security_Plotter(in_data, actual_price, predicted_price,\n",
        "                            dummy_price, in_data.train_len, window_len, in_str, model_str)\n",
        "\n",
        "plotter.single_plot()"
      ],
      "execution_count": 22,
      "outputs": [
        {
          "output_type": "display_data",
          "data": {
            "image/png": "[encoded data removed]",
            "text/plain": [
              "<Figure size 864x432 with 1 Axes>"
            ]
          },
          "metadata": {
            "tags": [],
            "needs_background": "light"
          }
        }
      ]
    },
    {
      "cell_type": "code",
      "metadata": {
        "id": "AxaH7IUCxSXw",
        "colab": {
          "base_uri": "https://localhost:8080/",
          "height": 644
        },
        "outputId": "9f197ee4-d589-4e05-ca92-a1681efca316"
      },
      "source": [
        "plot_model(model, show_shapes=True, expand_nested=True)"
      ],
      "execution_count": 23,
      "outputs": [
        {
          "output_type": "execute_result",
          "data": {
            "image/png": "[encoded data removed]",
            "text/plain": [
              "<IPython.core.display.Image object>"
            ]
          },
          "metadata": {
            "tags": []
          },
          "execution_count": 23
        }
      ]
    },
    {
      "cell_type": "code",
      "metadata": {
        "colab": {
          "base_uri": "https://localhost:8080/"
        },
        "id": "bFfQGfb79SJS",
        "outputId": "dd0fc068-0da6-485d-ca69-1573e1a2f635"
      },
      "source": [
        "# calculating mean squared error\n",
        "mse = mean_squared_error(y_true, y_pred)\n",
        "d_mse = mean_squared_error(y_true, y_dummy)\n",
        "\n",
        "# calculating root mean squared error\n",
        "rmse = mean_squared_error(y_true, y_pred, squared=False)\n",
        "d_rmse = mean_squared_error(y_true, y_dummy, squared=False)\n",
        "\n",
        "# calculating mean absolute error\n",
        "mae = mean_absolute_error(y_true, y_pred)\n",
        "d_mae = mean_absolute_error(y_true, y_dummy)\n",
        "\n",
        "print('MSE: ', mse)\n",
        "print('RMSE: ', rmse)\n",
        "print('MAE: ', mae)\n",
        "print('Dummy MSE: ', d_mse)\n",
        "print('Dummy RMSE: ', d_rmse)\n",
        "print('Dummy MAE: ', d_mae)"
      ],
      "execution_count": 24,
      "outputs": [
        {
          "output_type": "stream",
          "text": [
            "MSE:  0.0019642852857902075\n",
            "RMSE:  0.04432025818731438\n",
            "MAE:  0.033418108659003076\n",
            "Dummy MSE:  0.01623808785220405\n",
            "Dummy RMSE:  0.12742875598625314\n",
            "Dummy MAE:  0.10320580289003882\n"
          ],
          "name": "stdout"
        }
      ]
    },
    {
      "cell_type": "code",
      "metadata": {
        "id": "4YttzJHHU4-s",
        "colab": {
          "base_uri": "https://localhost:8080/"
        },
        "outputId": "0105128d-002e-4b68-bb9d-8f0c162f86cc"
      },
      "source": [
        "# creating a string to save the model based on model name\n",
        "save_path = '/content/gdrive/My Drive/models/'+model_str+'_'+in_str+'/'\n",
        "# mounting google drive for easy storage of model\n",
        "from google.colab import drive\n",
        "# mounting the drive\n",
        "drive.mount('/content/gdrive/')\n",
        "# making the relevant directory to store the model\n",
        "os.mkdir(save_path)\n",
        "# saving the model\n",
        "keras.models.save_model(model, save_path)\n",
        "# saving the model graph\n",
        "model_graph = plot_model(model, to_file=save_path+model_str+'_'+in_str+'_graph_.png', show_shapes=True, expand_nested=True)\n",
        "# saving the matplotlib plot\n",
        "plotter.fig.savefig(save_path+model_str+'_'+in_str+'_plot.png', bbox_inches='tight')\n",
        "# saving the error metrics as a text file\n",
        "error_file = open(save_path+model_str+'_'+in_str+'_metrics.txt', 'w+')\n",
        "error_file.write('MSE: '+str(mse)+'\\n'+'RMSE: '+str(rmse)+'\\n'+'MAE: '+str(mae)+'\\n'+\n",
        "                 'Dummy MSE: '+str(d_mse)+'\\n'+'Dummy RMSE: '+str(d_rmse)+'\\n'+'Dummy MAE: '+str(d_mae))\n",
        "error_file.close()"
      ],
      "execution_count": 25,
      "outputs": [
        {
          "output_type": "stream",
          "text": [
            "Mounted at /content/gdrive/\n"
          ],
          "name": "stdout"
        },
        {
          "output_type": "stream",
          "text": [
            "WARNING:absl:Found untraced functions such as lstm_cell_layer_call_fn, lstm_cell_layer_call_and_return_conditional_losses, gru_cell_layer_call_fn, gru_cell_layer_call_and_return_conditional_losses, lstm_cell_layer_call_fn while saving (showing 5 of 10). These functions will not be directly callable after loading.\n"
          ],
          "name": "stderr"
        },
        {
          "output_type": "stream",
          "text": [
            "INFO:tensorflow:Assets written to: /content/gdrive/My Drive/models/LSTM_GRU_Nvidia/assets\n"
          ],
          "name": "stdout"
        },
        {
          "output_type": "stream",
          "text": [
            "INFO:tensorflow:Assets written to: /content/gdrive/My Drive/models/LSTM_GRU_Nvidia/assets\n"
          ],
          "name": "stderr"
        }
      ]
    }
  ]
}