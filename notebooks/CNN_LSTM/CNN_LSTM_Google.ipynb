{
  "nbformat": 4,
  "nbformat_minor": 0,
  "metadata": {
    "colab": {
      "name": "CNN_LSTM_Google.ipynb",
      "provenance": [],
      "collapsed_sections": [],
      "authorship_tag": "ABX9TyPppdb0eFDt1KqrbyuyAn6v",
      "include_colab_link": true
    },
    "kernelspec": {
      "name": "python3",
      "display_name": "Python 3"
    },
    "language_info": {
      "name": "python"
    },
    "accelerator": "GPU",
    "widgets": {
      "application/vnd.jupyter.widget-state+json": {
        "e913ddce73a04bf481f44506e079c45d": {
          "model_module": "@jupyter-widgets/controls",
          "model_name": "VBoxModel",
          "state": {
            "_view_name": "VBoxView",
            "_dom_classes": [],
            "_model_name": "VBoxModel",
            "_view_module": "@jupyter-widgets/controls",
            "_model_module_version": "1.5.0",
            "_view_count": null,
            "_view_module_version": "1.5.0",
            "box_style": "",
            "layout": "IPY_MODEL_cb2fdf32fba04fc8903b995fac643505",
            "_model_module": "@jupyter-widgets/controls",
            "children": [
              "IPY_MODEL_bc63f7357307437e8035713e0850c61b",
              "IPY_MODEL_e9d7839ae9bb4c1d91e2870f779a476b"
            ]
          }
        },
        "cb2fdf32fba04fc8903b995fac643505": {
          "model_module": "@jupyter-widgets/base",
          "model_name": "LayoutModel",
          "state": {
            "_view_name": "LayoutView",
            "grid_template_rows": null,
            "right": null,
            "justify_content": null,
            "_view_module": "@jupyter-widgets/base",
            "overflow": null,
            "_model_module_version": "1.2.0",
            "_view_count": null,
            "flex_flow": null,
            "width": null,
            "min_width": null,
            "border": null,
            "align_items": null,
            "bottom": null,
            "_model_module": "@jupyter-widgets/base",
            "top": null,
            "grid_column": null,
            "overflow_y": null,
            "overflow_x": null,
            "grid_auto_flow": null,
            "grid_area": null,
            "grid_template_columns": null,
            "flex": null,
            "_model_name": "LayoutModel",
            "justify_items": null,
            "grid_row": null,
            "max_height": null,
            "align_content": null,
            "visibility": null,
            "align_self": null,
            "height": null,
            "min_height": null,
            "padding": null,
            "grid_auto_rows": null,
            "grid_gap": null,
            "max_width": null,
            "order": null,
            "_view_module_version": "1.2.0",
            "grid_template_areas": null,
            "object_position": null,
            "object_fit": null,
            "grid_auto_columns": null,
            "margin": null,
            "display": null,
            "left": null
          }
        },
        "bc63f7357307437e8035713e0850c61b": {
          "model_module": "@jupyter-widgets/controls",
          "model_name": "LabelModel",
          "state": {
            "_view_name": "LabelView",
            "style": "IPY_MODEL_d0fa41c1d4e14d7a80931a7c60c16a35",
            "_dom_classes": [],
            "description": "",
            "_model_name": "LabelModel",
            "placeholder": "​",
            "_view_module": "@jupyter-widgets/controls",
            "_model_module_version": "1.5.0",
            "value": " 7.79MB of 7.79MB uploaded (0.00MB deduped)\r",
            "_view_count": null,
            "_view_module_version": "1.5.0",
            "description_tooltip": null,
            "_model_module": "@jupyter-widgets/controls",
            "layout": "IPY_MODEL_5dfe898488474125971c951c5a3b045e"
          }
        },
        "e9d7839ae9bb4c1d91e2870f779a476b": {
          "model_module": "@jupyter-widgets/controls",
          "model_name": "FloatProgressModel",
          "state": {
            "_view_name": "ProgressView",
            "style": "IPY_MODEL_b384265fc433476e8038c5289c33acea",
            "_dom_classes": [],
            "description": "",
            "_model_name": "FloatProgressModel",
            "bar_style": "",
            "max": 1,
            "_view_module": "@jupyter-widgets/controls",
            "_model_module_version": "1.5.0",
            "value": 1,
            "_view_count": null,
            "_view_module_version": "1.5.0",
            "orientation": "horizontal",
            "min": 0,
            "description_tooltip": null,
            "_model_module": "@jupyter-widgets/controls",
            "layout": "IPY_MODEL_23e7e0431eb74379b98599a7c4295ebc"
          }
        },
        "d0fa41c1d4e14d7a80931a7c60c16a35": {
          "model_module": "@jupyter-widgets/controls",
          "model_name": "DescriptionStyleModel",
          "state": {
            "_view_name": "StyleView",
            "_model_name": "DescriptionStyleModel",
            "description_width": "",
            "_view_module": "@jupyter-widgets/base",
            "_model_module_version": "1.5.0",
            "_view_count": null,
            "_view_module_version": "1.2.0",
            "_model_module": "@jupyter-widgets/controls"
          }
        },
        "5dfe898488474125971c951c5a3b045e": {
          "model_module": "@jupyter-widgets/base",
          "model_name": "LayoutModel",
          "state": {
            "_view_name": "LayoutView",
            "grid_template_rows": null,
            "right": null,
            "justify_content": null,
            "_view_module": "@jupyter-widgets/base",
            "overflow": null,
            "_model_module_version": "1.2.0",
            "_view_count": null,
            "flex_flow": null,
            "width": null,
            "min_width": null,
            "border": null,
            "align_items": null,
            "bottom": null,
            "_model_module": "@jupyter-widgets/base",
            "top": null,
            "grid_column": null,
            "overflow_y": null,
            "overflow_x": null,
            "grid_auto_flow": null,
            "grid_area": null,
            "grid_template_columns": null,
            "flex": null,
            "_model_name": "LayoutModel",
            "justify_items": null,
            "grid_row": null,
            "max_height": null,
            "align_content": null,
            "visibility": null,
            "align_self": null,
            "height": null,
            "min_height": null,
            "padding": null,
            "grid_auto_rows": null,
            "grid_gap": null,
            "max_width": null,
            "order": null,
            "_view_module_version": "1.2.0",
            "grid_template_areas": null,
            "object_position": null,
            "object_fit": null,
            "grid_auto_columns": null,
            "margin": null,
            "display": null,
            "left": null
          }
        },
        "b384265fc433476e8038c5289c33acea": {
          "model_module": "@jupyter-widgets/controls",
          "model_name": "ProgressStyleModel",
          "state": {
            "_view_name": "StyleView",
            "_model_name": "ProgressStyleModel",
            "description_width": "",
            "_view_module": "@jupyter-widgets/base",
            "_model_module_version": "1.5.0",
            "_view_count": null,
            "_view_module_version": "1.2.0",
            "bar_color": null,
            "_model_module": "@jupyter-widgets/controls"
          }
        },
        "23e7e0431eb74379b98599a7c4295ebc": {
          "model_module": "@jupyter-widgets/base",
          "model_name": "LayoutModel",
          "state": {
            "_view_name": "LayoutView",
            "grid_template_rows": null,
            "right": null,
            "justify_content": null,
            "_view_module": "@jupyter-widgets/base",
            "overflow": null,
            "_model_module_version": "1.2.0",
            "_view_count": null,
            "flex_flow": null,
            "width": null,
            "min_width": null,
            "border": null,
            "align_items": null,
            "bottom": null,
            "_model_module": "@jupyter-widgets/base",
            "top": null,
            "grid_column": null,
            "overflow_y": null,
            "overflow_x": null,
            "grid_auto_flow": null,
            "grid_area": null,
            "grid_template_columns": null,
            "flex": null,
            "_model_name": "LayoutModel",
            "justify_items": null,
            "grid_row": null,
            "max_height": null,
            "align_content": null,
            "visibility": null,
            "align_self": null,
            "height": null,
            "min_height": null,
            "padding": null,
            "grid_auto_rows": null,
            "grid_gap": null,
            "max_width": null,
            "order": null,
            "_view_module_version": "1.2.0",
            "grid_template_areas": null,
            "object_position": null,
            "object_fit": null,
            "grid_auto_columns": null,
            "margin": null,
            "display": null,
            "left": null
          }
        },
        "ba9c19cfc6284e79b95a74f29021ba5c": {
          "model_module": "@jupyter-widgets/controls",
          "model_name": "VBoxModel",
          "state": {
            "_view_name": "VBoxView",
            "_dom_classes": [],
            "_model_name": "VBoxModel",
            "_view_module": "@jupyter-widgets/controls",
            "_model_module_version": "1.5.0",
            "_view_count": null,
            "_view_module_version": "1.5.0",
            "box_style": "",
            "layout": "IPY_MODEL_31c006f289b54f8d8802cef894f31745",
            "_model_module": "@jupyter-widgets/controls",
            "children": [
              "IPY_MODEL_d499d875b4f54c21903e48da3847cdc1",
              "IPY_MODEL_1aea04d5394c478293070e09571169a7"
            ]
          }
        },
        "31c006f289b54f8d8802cef894f31745": {
          "model_module": "@jupyter-widgets/base",
          "model_name": "LayoutModel",
          "state": {
            "_view_name": "LayoutView",
            "grid_template_rows": null,
            "right": null,
            "justify_content": null,
            "_view_module": "@jupyter-widgets/base",
            "overflow": null,
            "_model_module_version": "1.2.0",
            "_view_count": null,
            "flex_flow": null,
            "width": null,
            "min_width": null,
            "border": null,
            "align_items": null,
            "bottom": null,
            "_model_module": "@jupyter-widgets/base",
            "top": null,
            "grid_column": null,
            "overflow_y": null,
            "overflow_x": null,
            "grid_auto_flow": null,
            "grid_area": null,
            "grid_template_columns": null,
            "flex": null,
            "_model_name": "LayoutModel",
            "justify_items": null,
            "grid_row": null,
            "max_height": null,
            "align_content": null,
            "visibility": null,
            "align_self": null,
            "height": null,
            "min_height": null,
            "padding": null,
            "grid_auto_rows": null,
            "grid_gap": null,
            "max_width": null,
            "order": null,
            "_view_module_version": "1.2.0",
            "grid_template_areas": null,
            "object_position": null,
            "object_fit": null,
            "grid_auto_columns": null,
            "margin": null,
            "display": null,
            "left": null
          }
        },
        "d499d875b4f54c21903e48da3847cdc1": {
          "model_module": "@jupyter-widgets/controls",
          "model_name": "LabelModel",
          "state": {
            "_view_name": "LabelView",
            "style": "IPY_MODEL_2855798c59734636b01f5a4ea6fbb326",
            "_dom_classes": [],
            "description": "",
            "_model_name": "LabelModel",
            "placeholder": "​",
            "_view_module": "@jupyter-widgets/controls",
            "_model_module_version": "1.5.0",
            "value": " 7.84MB of 7.84MB uploaded (0.00MB deduped)\r",
            "_view_count": null,
            "_view_module_version": "1.5.0",
            "description_tooltip": null,
            "_model_module": "@jupyter-widgets/controls",
            "layout": "IPY_MODEL_5319490eb6194538b72a9cbea06ec941"
          }
        },
        "1aea04d5394c478293070e09571169a7": {
          "model_module": "@jupyter-widgets/controls",
          "model_name": "FloatProgressModel",
          "state": {
            "_view_name": "ProgressView",
            "style": "IPY_MODEL_6800518f0e6240d7b9ba578ba060e029",
            "_dom_classes": [],
            "description": "",
            "_model_name": "FloatProgressModel",
            "bar_style": "",
            "max": 1,
            "_view_module": "@jupyter-widgets/controls",
            "_model_module_version": "1.5.0",
            "value": 1,
            "_view_count": null,
            "_view_module_version": "1.5.0",
            "orientation": "horizontal",
            "min": 0,
            "description_tooltip": null,
            "_model_module": "@jupyter-widgets/controls",
            "layout": "IPY_MODEL_c5383de0e4554529b8c0d8d654d274d6"
          }
        },
        "2855798c59734636b01f5a4ea6fbb326": {
          "model_module": "@jupyter-widgets/controls",
          "model_name": "DescriptionStyleModel",
          "state": {
            "_view_name": "StyleView",
            "_model_name": "DescriptionStyleModel",
            "description_width": "",
            "_view_module": "@jupyter-widgets/base",
            "_model_module_version": "1.5.0",
            "_view_count": null,
            "_view_module_version": "1.2.0",
            "_model_module": "@jupyter-widgets/controls"
          }
        },
        "5319490eb6194538b72a9cbea06ec941": {
          "model_module": "@jupyter-widgets/base",
          "model_name": "LayoutModel",
          "state": {
            "_view_name": "LayoutView",
            "grid_template_rows": null,
            "right": null,
            "justify_content": null,
            "_view_module": "@jupyter-widgets/base",
            "overflow": null,
            "_model_module_version": "1.2.0",
            "_view_count": null,
            "flex_flow": null,
            "width": null,
            "min_width": null,
            "border": null,
            "align_items": null,
            "bottom": null,
            "_model_module": "@jupyter-widgets/base",
            "top": null,
            "grid_column": null,
            "overflow_y": null,
            "overflow_x": null,
            "grid_auto_flow": null,
            "grid_area": null,
            "grid_template_columns": null,
            "flex": null,
            "_model_name": "LayoutModel",
            "justify_items": null,
            "grid_row": null,
            "max_height": null,
            "align_content": null,
            "visibility": null,
            "align_self": null,
            "height": null,
            "min_height": null,
            "padding": null,
            "grid_auto_rows": null,
            "grid_gap": null,
            "max_width": null,
            "order": null,
            "_view_module_version": "1.2.0",
            "grid_template_areas": null,
            "object_position": null,
            "object_fit": null,
            "grid_auto_columns": null,
            "margin": null,
            "display": null,
            "left": null
          }
        },
        "6800518f0e6240d7b9ba578ba060e029": {
          "model_module": "@jupyter-widgets/controls",
          "model_name": "ProgressStyleModel",
          "state": {
            "_view_name": "StyleView",
            "_model_name": "ProgressStyleModel",
            "description_width": "",
            "_view_module": "@jupyter-widgets/base",
            "_model_module_version": "1.5.0",
            "_view_count": null,
            "_view_module_version": "1.2.0",
            "bar_color": null,
            "_model_module": "@jupyter-widgets/controls"
          }
        },
        "c5383de0e4554529b8c0d8d654d274d6": {
          "model_module": "@jupyter-widgets/base",
          "model_name": "LayoutModel",
          "state": {
            "_view_name": "LayoutView",
            "grid_template_rows": null,
            "right": null,
            "justify_content": null,
            "_view_module": "@jupyter-widgets/base",
            "overflow": null,
            "_model_module_version": "1.2.0",
            "_view_count": null,
            "flex_flow": null,
            "width": null,
            "min_width": null,
            "border": null,
            "align_items": null,
            "bottom": null,
            "_model_module": "@jupyter-widgets/base",
            "top": null,
            "grid_column": null,
            "overflow_y": null,
            "overflow_x": null,
            "grid_auto_flow": null,
            "grid_area": null,
            "grid_template_columns": null,
            "flex": null,
            "_model_name": "LayoutModel",
            "justify_items": null,
            "grid_row": null,
            "max_height": null,
            "align_content": null,
            "visibility": null,
            "align_self": null,
            "height": null,
            "min_height": null,
            "padding": null,
            "grid_auto_rows": null,
            "grid_gap": null,
            "max_width": null,
            "order": null,
            "_view_module_version": "1.2.0",
            "grid_template_areas": null,
            "object_position": null,
            "object_fit": null,
            "grid_auto_columns": null,
            "margin": null,
            "display": null,
            "left": null
          }
        },
        "23e1fbbdfde04523bcf36ff8112f7771": {
          "model_module": "@jupyter-widgets/controls",
          "model_name": "VBoxModel",
          "state": {
            "_view_name": "VBoxView",
            "_dom_classes": [],
            "_model_name": "VBoxModel",
            "_view_module": "@jupyter-widgets/controls",
            "_model_module_version": "1.5.0",
            "_view_count": null,
            "_view_module_version": "1.5.0",
            "box_style": "",
            "layout": "IPY_MODEL_0f6be5e686f84ace807f5a0866eedeeb",
            "_model_module": "@jupyter-widgets/controls",
            "children": [
              "IPY_MODEL_dc990063cb2e4b9b8ff060d91a821a53",
              "IPY_MODEL_4c7708c4e5764ed6bba8e23e8d68cddb"
            ]
          }
        },
        "0f6be5e686f84ace807f5a0866eedeeb": {
          "model_module": "@jupyter-widgets/base",
          "model_name": "LayoutModel",
          "state": {
            "_view_name": "LayoutView",
            "grid_template_rows": null,
            "right": null,
            "justify_content": null,
            "_view_module": "@jupyter-widgets/base",
            "overflow": null,
            "_model_module_version": "1.2.0",
            "_view_count": null,
            "flex_flow": null,
            "width": null,
            "min_width": null,
            "border": null,
            "align_items": null,
            "bottom": null,
            "_model_module": "@jupyter-widgets/base",
            "top": null,
            "grid_column": null,
            "overflow_y": null,
            "overflow_x": null,
            "grid_auto_flow": null,
            "grid_area": null,
            "grid_template_columns": null,
            "flex": null,
            "_model_name": "LayoutModel",
            "justify_items": null,
            "grid_row": null,
            "max_height": null,
            "align_content": null,
            "visibility": null,
            "align_self": null,
            "height": null,
            "min_height": null,
            "padding": null,
            "grid_auto_rows": null,
            "grid_gap": null,
            "max_width": null,
            "order": null,
            "_view_module_version": "1.2.0",
            "grid_template_areas": null,
            "object_position": null,
            "object_fit": null,
            "grid_auto_columns": null,
            "margin": null,
            "display": null,
            "left": null
          }
        },
        "dc990063cb2e4b9b8ff060d91a821a53": {
          "model_module": "@jupyter-widgets/controls",
          "model_name": "LabelModel",
          "state": {
            "_view_name": "LabelView",
            "style": "IPY_MODEL_bf2fc642731d456990cb587bcc623bb7",
            "_dom_classes": [],
            "description": "",
            "_model_name": "LabelModel",
            "placeholder": "​",
            "_view_module": "@jupyter-widgets/controls",
            "_model_module_version": "1.5.0",
            "value": " 11.63MB of 11.63MB uploaded (0.00MB deduped)\r",
            "_view_count": null,
            "_view_module_version": "1.5.0",
            "description_tooltip": null,
            "_model_module": "@jupyter-widgets/controls",
            "layout": "IPY_MODEL_5126349604e346499b26cb32815300fb"
          }
        },
        "4c7708c4e5764ed6bba8e23e8d68cddb": {
          "model_module": "@jupyter-widgets/controls",
          "model_name": "FloatProgressModel",
          "state": {
            "_view_name": "ProgressView",
            "style": "IPY_MODEL_dccae35ab7ef47c1a5fac6664996e734",
            "_dom_classes": [],
            "description": "",
            "_model_name": "FloatProgressModel",
            "bar_style": "",
            "max": 1,
            "_view_module": "@jupyter-widgets/controls",
            "_model_module_version": "1.5.0",
            "value": 1,
            "_view_count": null,
            "_view_module_version": "1.5.0",
            "orientation": "horizontal",
            "min": 0,
            "description_tooltip": null,
            "_model_module": "@jupyter-widgets/controls",
            "layout": "IPY_MODEL_b22812f8c9704010ad69f69ccace2e98"
          }
        },
        "bf2fc642731d456990cb587bcc623bb7": {
          "model_module": "@jupyter-widgets/controls",
          "model_name": "DescriptionStyleModel",
          "state": {
            "_view_name": "StyleView",
            "_model_name": "DescriptionStyleModel",
            "description_width": "",
            "_view_module": "@jupyter-widgets/base",
            "_model_module_version": "1.5.0",
            "_view_count": null,
            "_view_module_version": "1.2.0",
            "_model_module": "@jupyter-widgets/controls"
          }
        },
        "5126349604e346499b26cb32815300fb": {
          "model_module": "@jupyter-widgets/base",
          "model_name": "LayoutModel",
          "state": {
            "_view_name": "LayoutView",
            "grid_template_rows": null,
            "right": null,
            "justify_content": null,
            "_view_module": "@jupyter-widgets/base",
            "overflow": null,
            "_model_module_version": "1.2.0",
            "_view_count": null,
            "flex_flow": null,
            "width": null,
            "min_width": null,
            "border": null,
            "align_items": null,
            "bottom": null,
            "_model_module": "@jupyter-widgets/base",
            "top": null,
            "grid_column": null,
            "overflow_y": null,
            "overflow_x": null,
            "grid_auto_flow": null,
            "grid_area": null,
            "grid_template_columns": null,
            "flex": null,
            "_model_name": "LayoutModel",
            "justify_items": null,
            "grid_row": null,
            "max_height": null,
            "align_content": null,
            "visibility": null,
            "align_self": null,
            "height": null,
            "min_height": null,
            "padding": null,
            "grid_auto_rows": null,
            "grid_gap": null,
            "max_width": null,
            "order": null,
            "_view_module_version": "1.2.0",
            "grid_template_areas": null,
            "object_position": null,
            "object_fit": null,
            "grid_auto_columns": null,
            "margin": null,
            "display": null,
            "left": null
          }
        },
        "dccae35ab7ef47c1a5fac6664996e734": {
          "model_module": "@jupyter-widgets/controls",
          "model_name": "ProgressStyleModel",
          "state": {
            "_view_name": "StyleView",
            "_model_name": "ProgressStyleModel",
            "description_width": "",
            "_view_module": "@jupyter-widgets/base",
            "_model_module_version": "1.5.0",
            "_view_count": null,
            "_view_module_version": "1.2.0",
            "bar_color": null,
            "_model_module": "@jupyter-widgets/controls"
          }
        },
        "b22812f8c9704010ad69f69ccace2e98": {
          "model_module": "@jupyter-widgets/base",
          "model_name": "LayoutModel",
          "state": {
            "_view_name": "LayoutView",
            "grid_template_rows": null,
            "right": null,
            "justify_content": null,
            "_view_module": "@jupyter-widgets/base",
            "overflow": null,
            "_model_module_version": "1.2.0",
            "_view_count": null,
            "flex_flow": null,
            "width": null,
            "min_width": null,
            "border": null,
            "align_items": null,
            "bottom": null,
            "_model_module": "@jupyter-widgets/base",
            "top": null,
            "grid_column": null,
            "overflow_y": null,
            "overflow_x": null,
            "grid_auto_flow": null,
            "grid_area": null,
            "grid_template_columns": null,
            "flex": null,
            "_model_name": "LayoutModel",
            "justify_items": null,
            "grid_row": null,
            "max_height": null,
            "align_content": null,
            "visibility": null,
            "align_self": null,
            "height": null,
            "min_height": null,
            "padding": null,
            "grid_auto_rows": null,
            "grid_gap": null,
            "max_width": null,
            "order": null,
            "_view_module_version": "1.2.0",
            "grid_template_areas": null,
            "object_position": null,
            "object_fit": null,
            "grid_auto_columns": null,
            "margin": null,
            "display": null,
            "left": null
          }
        },
        "9ad015442a3d43bcb6396c4466ec60e6": {
          "model_module": "@jupyter-widgets/controls",
          "model_name": "VBoxModel",
          "state": {
            "_view_name": "VBoxView",
            "_dom_classes": [],
            "_model_name": "VBoxModel",
            "_view_module": "@jupyter-widgets/controls",
            "_model_module_version": "1.5.0",
            "_view_count": null,
            "_view_module_version": "1.5.0",
            "box_style": "",
            "layout": "IPY_MODEL_28064fd524604957bd43223ad63febc3",
            "_model_module": "@jupyter-widgets/controls",
            "children": [
              "IPY_MODEL_6c652c3e364f453f87e33c2a6772e183",
              "IPY_MODEL_3c92c0f5a6114304bcb6152243f61adb"
            ]
          }
        },
        "28064fd524604957bd43223ad63febc3": {
          "model_module": "@jupyter-widgets/base",
          "model_name": "LayoutModel",
          "state": {
            "_view_name": "LayoutView",
            "grid_template_rows": null,
            "right": null,
            "justify_content": null,
            "_view_module": "@jupyter-widgets/base",
            "overflow": null,
            "_model_module_version": "1.2.0",
            "_view_count": null,
            "flex_flow": null,
            "width": null,
            "min_width": null,
            "border": null,
            "align_items": null,
            "bottom": null,
            "_model_module": "@jupyter-widgets/base",
            "top": null,
            "grid_column": null,
            "overflow_y": null,
            "overflow_x": null,
            "grid_auto_flow": null,
            "grid_area": null,
            "grid_template_columns": null,
            "flex": null,
            "_model_name": "LayoutModel",
            "justify_items": null,
            "grid_row": null,
            "max_height": null,
            "align_content": null,
            "visibility": null,
            "align_self": null,
            "height": null,
            "min_height": null,
            "padding": null,
            "grid_auto_rows": null,
            "grid_gap": null,
            "max_width": null,
            "order": null,
            "_view_module_version": "1.2.0",
            "grid_template_areas": null,
            "object_position": null,
            "object_fit": null,
            "grid_auto_columns": null,
            "margin": null,
            "display": null,
            "left": null
          }
        },
        "6c652c3e364f453f87e33c2a6772e183": {
          "model_module": "@jupyter-widgets/controls",
          "model_name": "LabelModel",
          "state": {
            "_view_name": "LabelView",
            "style": "IPY_MODEL_3db9600a53344efb8730f5e5a7e93192",
            "_dom_classes": [],
            "description": "",
            "_model_name": "LabelModel",
            "placeholder": "​",
            "_view_module": "@jupyter-widgets/controls",
            "_model_module_version": "1.5.0",
            "value": " 11.64MB of 11.64MB uploaded (0.00MB deduped)\r",
            "_view_count": null,
            "_view_module_version": "1.5.0",
            "description_tooltip": null,
            "_model_module": "@jupyter-widgets/controls",
            "layout": "IPY_MODEL_5c5c0d8bb151458d98885550f6fa4dfd"
          }
        },
        "3c92c0f5a6114304bcb6152243f61adb": {
          "model_module": "@jupyter-widgets/controls",
          "model_name": "FloatProgressModel",
          "state": {
            "_view_name": "ProgressView",
            "style": "IPY_MODEL_3c47a431a4c34922849f0796d5781912",
            "_dom_classes": [],
            "description": "",
            "_model_name": "FloatProgressModel",
            "bar_style": "",
            "max": 1,
            "_view_module": "@jupyter-widgets/controls",
            "_model_module_version": "1.5.0",
            "value": 1,
            "_view_count": null,
            "_view_module_version": "1.5.0",
            "orientation": "horizontal",
            "min": 0,
            "description_tooltip": null,
            "_model_module": "@jupyter-widgets/controls",
            "layout": "IPY_MODEL_12458c10d6544fa1a4d7e55264483253"
          }
        },
        "3db9600a53344efb8730f5e5a7e93192": {
          "model_module": "@jupyter-widgets/controls",
          "model_name": "DescriptionStyleModel",
          "state": {
            "_view_name": "StyleView",
            "_model_name": "DescriptionStyleModel",
            "description_width": "",
            "_view_module": "@jupyter-widgets/base",
            "_model_module_version": "1.5.0",
            "_view_count": null,
            "_view_module_version": "1.2.0",
            "_model_module": "@jupyter-widgets/controls"
          }
        },
        "5c5c0d8bb151458d98885550f6fa4dfd": {
          "model_module": "@jupyter-widgets/base",
          "model_name": "LayoutModel",
          "state": {
            "_view_name": "LayoutView",
            "grid_template_rows": null,
            "right": null,
            "justify_content": null,
            "_view_module": "@jupyter-widgets/base",
            "overflow": null,
            "_model_module_version": "1.2.0",
            "_view_count": null,
            "flex_flow": null,
            "width": null,
            "min_width": null,
            "border": null,
            "align_items": null,
            "bottom": null,
            "_model_module": "@jupyter-widgets/base",
            "top": null,
            "grid_column": null,
            "overflow_y": null,
            "overflow_x": null,
            "grid_auto_flow": null,
            "grid_area": null,
            "grid_template_columns": null,
            "flex": null,
            "_model_name": "LayoutModel",
            "justify_items": null,
            "grid_row": null,
            "max_height": null,
            "align_content": null,
            "visibility": null,
            "align_self": null,
            "height": null,
            "min_height": null,
            "padding": null,
            "grid_auto_rows": null,
            "grid_gap": null,
            "max_width": null,
            "order": null,
            "_view_module_version": "1.2.0",
            "grid_template_areas": null,
            "object_position": null,
            "object_fit": null,
            "grid_auto_columns": null,
            "margin": null,
            "display": null,
            "left": null
          }
        },
        "3c47a431a4c34922849f0796d5781912": {
          "model_module": "@jupyter-widgets/controls",
          "model_name": "ProgressStyleModel",
          "state": {
            "_view_name": "StyleView",
            "_model_name": "ProgressStyleModel",
            "description_width": "",
            "_view_module": "@jupyter-widgets/base",
            "_model_module_version": "1.5.0",
            "_view_count": null,
            "_view_module_version": "1.2.0",
            "bar_color": null,
            "_model_module": "@jupyter-widgets/controls"
          }
        },
        "12458c10d6544fa1a4d7e55264483253": {
          "model_module": "@jupyter-widgets/base",
          "model_name": "LayoutModel",
          "state": {
            "_view_name": "LayoutView",
            "grid_template_rows": null,
            "right": null,
            "justify_content": null,
            "_view_module": "@jupyter-widgets/base",
            "overflow": null,
            "_model_module_version": "1.2.0",
            "_view_count": null,
            "flex_flow": null,
            "width": null,
            "min_width": null,
            "border": null,
            "align_items": null,
            "bottom": null,
            "_model_module": "@jupyter-widgets/base",
            "top": null,
            "grid_column": null,
            "overflow_y": null,
            "overflow_x": null,
            "grid_auto_flow": null,
            "grid_area": null,
            "grid_template_columns": null,
            "flex": null,
            "_model_name": "LayoutModel",
            "justify_items": null,
            "grid_row": null,
            "max_height": null,
            "align_content": null,
            "visibility": null,
            "align_self": null,
            "height": null,
            "min_height": null,
            "padding": null,
            "grid_auto_rows": null,
            "grid_gap": null,
            "max_width": null,
            "order": null,
            "_view_module_version": "1.2.0",
            "grid_template_areas": null,
            "object_position": null,
            "object_fit": null,
            "grid_auto_columns": null,
            "margin": null,
            "display": null,
            "left": null
          }
        },
        "804994fbcfc1416897c74461b59b3d3a": {
          "model_module": "@jupyter-widgets/controls",
          "model_name": "VBoxModel",
          "state": {
            "_view_name": "VBoxView",
            "_dom_classes": [],
            "_model_name": "VBoxModel",
            "_view_module": "@jupyter-widgets/controls",
            "_model_module_version": "1.5.0",
            "_view_count": null,
            "_view_module_version": "1.5.0",
            "box_style": "",
            "layout": "IPY_MODEL_c8b086928df940b7b273adfb79ddcce6",
            "_model_module": "@jupyter-widgets/controls",
            "children": [
              "IPY_MODEL_4a0fd7ab20f4466980f80f86432a6459",
              "IPY_MODEL_5be93d389755402f89171c5946b12cb7"
            ]
          }
        },
        "c8b086928df940b7b273adfb79ddcce6": {
          "model_module": "@jupyter-widgets/base",
          "model_name": "LayoutModel",
          "state": {
            "_view_name": "LayoutView",
            "grid_template_rows": null,
            "right": null,
            "justify_content": null,
            "_view_module": "@jupyter-widgets/base",
            "overflow": null,
            "_model_module_version": "1.2.0",
            "_view_count": null,
            "flex_flow": null,
            "width": null,
            "min_width": null,
            "border": null,
            "align_items": null,
            "bottom": null,
            "_model_module": "@jupyter-widgets/base",
            "top": null,
            "grid_column": null,
            "overflow_y": null,
            "overflow_x": null,
            "grid_auto_flow": null,
            "grid_area": null,
            "grid_template_columns": null,
            "flex": null,
            "_model_name": "LayoutModel",
            "justify_items": null,
            "grid_row": null,
            "max_height": null,
            "align_content": null,
            "visibility": null,
            "align_self": null,
            "height": null,
            "min_height": null,
            "padding": null,
            "grid_auto_rows": null,
            "grid_gap": null,
            "max_width": null,
            "order": null,
            "_view_module_version": "1.2.0",
            "grid_template_areas": null,
            "object_position": null,
            "object_fit": null,
            "grid_auto_columns": null,
            "margin": null,
            "display": null,
            "left": null
          }
        },
        "4a0fd7ab20f4466980f80f86432a6459": {
          "model_module": "@jupyter-widgets/controls",
          "model_name": "LabelModel",
          "state": {
            "_view_name": "LabelView",
            "style": "IPY_MODEL_9c458f33ae2346b1a46dccd2e02e479a",
            "_dom_classes": [],
            "description": "",
            "_model_name": "LabelModel",
            "placeholder": "​",
            "_view_module": "@jupyter-widgets/controls",
            "_model_module_version": "1.5.0",
            "value": " 7.93MB of 7.93MB uploaded (0.00MB deduped)\r",
            "_view_count": null,
            "_view_module_version": "1.5.0",
            "description_tooltip": null,
            "_model_module": "@jupyter-widgets/controls",
            "layout": "IPY_MODEL_17d17b7792f042a6bcc93f4384fa15eb"
          }
        },
        "5be93d389755402f89171c5946b12cb7": {
          "model_module": "@jupyter-widgets/controls",
          "model_name": "FloatProgressModel",
          "state": {
            "_view_name": "ProgressView",
            "style": "IPY_MODEL_106f1fcbfde4458bb58bd050f3a11f75",
            "_dom_classes": [],
            "description": "",
            "_model_name": "FloatProgressModel",
            "bar_style": "",
            "max": 1,
            "_view_module": "@jupyter-widgets/controls",
            "_model_module_version": "1.5.0",
            "value": 1,
            "_view_count": null,
            "_view_module_version": "1.5.0",
            "orientation": "horizontal",
            "min": 0,
            "description_tooltip": null,
            "_model_module": "@jupyter-widgets/controls",
            "layout": "IPY_MODEL_468193a17c114299ba885fc9498a212d"
          }
        },
        "9c458f33ae2346b1a46dccd2e02e479a": {
          "model_module": "@jupyter-widgets/controls",
          "model_name": "DescriptionStyleModel",
          "state": {
            "_view_name": "StyleView",
            "_model_name": "DescriptionStyleModel",
            "description_width": "",
            "_view_module": "@jupyter-widgets/base",
            "_model_module_version": "1.5.0",
            "_view_count": null,
            "_view_module_version": "1.2.0",
            "_model_module": "@jupyter-widgets/controls"
          }
        },
        "17d17b7792f042a6bcc93f4384fa15eb": {
          "model_module": "@jupyter-widgets/base",
          "model_name": "LayoutModel",
          "state": {
            "_view_name": "LayoutView",
            "grid_template_rows": null,
            "right": null,
            "justify_content": null,
            "_view_module": "@jupyter-widgets/base",
            "overflow": null,
            "_model_module_version": "1.2.0",
            "_view_count": null,
            "flex_flow": null,
            "width": null,
            "min_width": null,
            "border": null,
            "align_items": null,
            "bottom": null,
            "_model_module": "@jupyter-widgets/base",
            "top": null,
            "grid_column": null,
            "overflow_y": null,
            "overflow_x": null,
            "grid_auto_flow": null,
            "grid_area": null,
            "grid_template_columns": null,
            "flex": null,
            "_model_name": "LayoutModel",
            "justify_items": null,
            "grid_row": null,
            "max_height": null,
            "align_content": null,
            "visibility": null,
            "align_self": null,
            "height": null,
            "min_height": null,
            "padding": null,
            "grid_auto_rows": null,
            "grid_gap": null,
            "max_width": null,
            "order": null,
            "_view_module_version": "1.2.0",
            "grid_template_areas": null,
            "object_position": null,
            "object_fit": null,
            "grid_auto_columns": null,
            "margin": null,
            "display": null,
            "left": null
          }
        },
        "106f1fcbfde4458bb58bd050f3a11f75": {
          "model_module": "@jupyter-widgets/controls",
          "model_name": "ProgressStyleModel",
          "state": {
            "_view_name": "StyleView",
            "_model_name": "ProgressStyleModel",
            "description_width": "",
            "_view_module": "@jupyter-widgets/base",
            "_model_module_version": "1.5.0",
            "_view_count": null,
            "_view_module_version": "1.2.0",
            "bar_color": null,
            "_model_module": "@jupyter-widgets/controls"
          }
        },
        "468193a17c114299ba885fc9498a212d": {
          "model_module": "@jupyter-widgets/base",
          "model_name": "LayoutModel",
          "state": {
            "_view_name": "LayoutView",
            "grid_template_rows": null,
            "right": null,
            "justify_content": null,
            "_view_module": "@jupyter-widgets/base",
            "overflow": null,
            "_model_module_version": "1.2.0",
            "_view_count": null,
            "flex_flow": null,
            "width": null,
            "min_width": null,
            "border": null,
            "align_items": null,
            "bottom": null,
            "_model_module": "@jupyter-widgets/base",
            "top": null,
            "grid_column": null,
            "overflow_y": null,
            "overflow_x": null,
            "grid_auto_flow": null,
            "grid_area": null,
            "grid_template_columns": null,
            "flex": null,
            "_model_name": "LayoutModel",
            "justify_items": null,
            "grid_row": null,
            "max_height": null,
            "align_content": null,
            "visibility": null,
            "align_self": null,
            "height": null,
            "min_height": null,
            "padding": null,
            "grid_auto_rows": null,
            "grid_gap": null,
            "max_width": null,
            "order": null,
            "_view_module_version": "1.2.0",
            "grid_template_areas": null,
            "object_position": null,
            "object_fit": null,
            "grid_auto_columns": null,
            "margin": null,
            "display": null,
            "left": null
          }
        },
        "3f0352de28994745bb78c955f34f3598": {
          "model_module": "@jupyter-widgets/controls",
          "model_name": "VBoxModel",
          "state": {
            "_view_name": "VBoxView",
            "_dom_classes": [],
            "_model_name": "VBoxModel",
            "_view_module": "@jupyter-widgets/controls",
            "_model_module_version": "1.5.0",
            "_view_count": null,
            "_view_module_version": "1.5.0",
            "box_style": "",
            "layout": "IPY_MODEL_ea0b0ed2d447424a942415b77195a347",
            "_model_module": "@jupyter-widgets/controls",
            "children": [
              "IPY_MODEL_fbf2253fa03340a8a89605d470ba3a5b",
              "IPY_MODEL_49c7e366273b48c4890523901eac825d"
            ]
          }
        },
        "ea0b0ed2d447424a942415b77195a347": {
          "model_module": "@jupyter-widgets/base",
          "model_name": "LayoutModel",
          "state": {
            "_view_name": "LayoutView",
            "grid_template_rows": null,
            "right": null,
            "justify_content": null,
            "_view_module": "@jupyter-widgets/base",
            "overflow": null,
            "_model_module_version": "1.2.0",
            "_view_count": null,
            "flex_flow": null,
            "width": null,
            "min_width": null,
            "border": null,
            "align_items": null,
            "bottom": null,
            "_model_module": "@jupyter-widgets/base",
            "top": null,
            "grid_column": null,
            "overflow_y": null,
            "overflow_x": null,
            "grid_auto_flow": null,
            "grid_area": null,
            "grid_template_columns": null,
            "flex": null,
            "_model_name": "LayoutModel",
            "justify_items": null,
            "grid_row": null,
            "max_height": null,
            "align_content": null,
            "visibility": null,
            "align_self": null,
            "height": null,
            "min_height": null,
            "padding": null,
            "grid_auto_rows": null,
            "grid_gap": null,
            "max_width": null,
            "order": null,
            "_view_module_version": "1.2.0",
            "grid_template_areas": null,
            "object_position": null,
            "object_fit": null,
            "grid_auto_columns": null,
            "margin": null,
            "display": null,
            "left": null
          }
        },
        "fbf2253fa03340a8a89605d470ba3a5b": {
          "model_module": "@jupyter-widgets/controls",
          "model_name": "LabelModel",
          "state": {
            "_view_name": "LabelView",
            "style": "IPY_MODEL_4c03aaddb4164252ab1c235b4a64a40d",
            "_dom_classes": [],
            "description": "",
            "_model_name": "LabelModel",
            "placeholder": "​",
            "_view_module": "@jupyter-widgets/controls",
            "_model_module_version": "1.5.0",
            "value": " 11.71MB of 11.71MB uploaded (0.00MB deduped)\r",
            "_view_count": null,
            "_view_module_version": "1.5.0",
            "description_tooltip": null,
            "_model_module": "@jupyter-widgets/controls",
            "layout": "IPY_MODEL_29bcfd50dbc446ae870bd1a70468124e"
          }
        },
        "49c7e366273b48c4890523901eac825d": {
          "model_module": "@jupyter-widgets/controls",
          "model_name": "FloatProgressModel",
          "state": {
            "_view_name": "ProgressView",
            "style": "IPY_MODEL_c3fb1acd7cf34c12a5ae71dd747917c0",
            "_dom_classes": [],
            "description": "",
            "_model_name": "FloatProgressModel",
            "bar_style": "",
            "max": 1,
            "_view_module": "@jupyter-widgets/controls",
            "_model_module_version": "1.5.0",
            "value": 1,
            "_view_count": null,
            "_view_module_version": "1.5.0",
            "orientation": "horizontal",
            "min": 0,
            "description_tooltip": null,
            "_model_module": "@jupyter-widgets/controls",
            "layout": "IPY_MODEL_e0b2ca104ab04c83b23f8529a3ed26c2"
          }
        },
        "4c03aaddb4164252ab1c235b4a64a40d": {
          "model_module": "@jupyter-widgets/controls",
          "model_name": "DescriptionStyleModel",
          "state": {
            "_view_name": "StyleView",
            "_model_name": "DescriptionStyleModel",
            "description_width": "",
            "_view_module": "@jupyter-widgets/base",
            "_model_module_version": "1.5.0",
            "_view_count": null,
            "_view_module_version": "1.2.0",
            "_model_module": "@jupyter-widgets/controls"
          }
        },
        "29bcfd50dbc446ae870bd1a70468124e": {
          "model_module": "@jupyter-widgets/base",
          "model_name": "LayoutModel",
          "state": {
            "_view_name": "LayoutView",
            "grid_template_rows": null,
            "right": null,
            "justify_content": null,
            "_view_module": "@jupyter-widgets/base",
            "overflow": null,
            "_model_module_version": "1.2.0",
            "_view_count": null,
            "flex_flow": null,
            "width": null,
            "min_width": null,
            "border": null,
            "align_items": null,
            "bottom": null,
            "_model_module": "@jupyter-widgets/base",
            "top": null,
            "grid_column": null,
            "overflow_y": null,
            "overflow_x": null,
            "grid_auto_flow": null,
            "grid_area": null,
            "grid_template_columns": null,
            "flex": null,
            "_model_name": "LayoutModel",
            "justify_items": null,
            "grid_row": null,
            "max_height": null,
            "align_content": null,
            "visibility": null,
            "align_self": null,
            "height": null,
            "min_height": null,
            "padding": null,
            "grid_auto_rows": null,
            "grid_gap": null,
            "max_width": null,
            "order": null,
            "_view_module_version": "1.2.0",
            "grid_template_areas": null,
            "object_position": null,
            "object_fit": null,
            "grid_auto_columns": null,
            "margin": null,
            "display": null,
            "left": null
          }
        },
        "c3fb1acd7cf34c12a5ae71dd747917c0": {
          "model_module": "@jupyter-widgets/controls",
          "model_name": "ProgressStyleModel",
          "state": {
            "_view_name": "StyleView",
            "_model_name": "ProgressStyleModel",
            "description_width": "",
            "_view_module": "@jupyter-widgets/base",
            "_model_module_version": "1.5.0",
            "_view_count": null,
            "_view_module_version": "1.2.0",
            "bar_color": null,
            "_model_module": "@jupyter-widgets/controls"
          }
        },
        "e0b2ca104ab04c83b23f8529a3ed26c2": {
          "model_module": "@jupyter-widgets/base",
          "model_name": "LayoutModel",
          "state": {
            "_view_name": "LayoutView",
            "grid_template_rows": null,
            "right": null,
            "justify_content": null,
            "_view_module": "@jupyter-widgets/base",
            "overflow": null,
            "_model_module_version": "1.2.0",
            "_view_count": null,
            "flex_flow": null,
            "width": null,
            "min_width": null,
            "border": null,
            "align_items": null,
            "bottom": null,
            "_model_module": "@jupyter-widgets/base",
            "top": null,
            "grid_column": null,
            "overflow_y": null,
            "overflow_x": null,
            "grid_auto_flow": null,
            "grid_area": null,
            "grid_template_columns": null,
            "flex": null,
            "_model_name": "LayoutModel",
            "justify_items": null,
            "grid_row": null,
            "max_height": null,
            "align_content": null,
            "visibility": null,
            "align_self": null,
            "height": null,
            "min_height": null,
            "padding": null,
            "grid_auto_rows": null,
            "grid_gap": null,
            "max_width": null,
            "order": null,
            "_view_module_version": "1.2.0",
            "grid_template_areas": null,
            "object_position": null,
            "object_fit": null,
            "grid_auto_columns": null,
            "margin": null,
            "display": null,
            "left": null
          }
        }
      }
    }
  },
  "cells": [
    {
      "cell_type": "markdown",
      "metadata": {
        "id": "view-in-github",
        "colab_type": "text"
      },
      "source": [
        "<a href=\"https://colab.research.google.com/github/acse-2020/acse2020-acse9-finalreport-acse-jaq15/blob/main/notebooks/CNN_LSTM/CNN_LSTM_Google.ipynb\" target=\"_parent\"><img src=\"https://colab.research.google.com/assets/colab-badge.svg\" alt=\"Open In Colab\"/></a>"
      ]
    },
    {
      "cell_type": "markdown",
      "metadata": {
        "id": "z5F7GfFTgUo3"
      },
      "source": [
        "# Imports\n",
        "\n",
        "The cells below handle all the necessary imports to run our models, making use of the public repo feeder_repo, linked <!-- [Text](link) -->\n",
        "[here](https://github.com/acse-jaq15/feeder_repo)."
      ]
    },
    {
      "cell_type": "code",
      "metadata": {
        "id": "HWy9Ay1SGzWa",
        "colab": {
          "base_uri": "https://localhost:8080/"
        },
        "outputId": "2d1051b2-5030-4fc6-d11c-d171931572c9"
      },
      "source": [
        "# clone the feeder repo to get data_reader module and financial time series data\n",
        "!git clone https://github.com/acse-jaq15/feeder_repo.git"
      ],
      "execution_count": 1,
      "outputs": [
        {
          "output_type": "stream",
          "text": [
            "Cloning into 'feeder_repo'...\n",
            "remote: Enumerating objects: 150, done.\u001b[K\n",
            "remote: Counting objects: 100% (150/150), done.\u001b[K\n",
            "remote: Compressing objects: 100% (145/145), done.\u001b[K\n",
            "remote: Total 150 (delta 73), reused 6 (delta 2), pack-reused 0\u001b[K\n",
            "Receiving objects: 100% (150/150), 121.14 KiB | 780.00 KiB/s, done.\n",
            "Resolving deltas: 100% (73/73), done.\n"
          ],
          "name": "stdout"
        }
      ]
    },
    {
      "cell_type": "code",
      "metadata": {
        "id": "ChlUNYaiHGM2",
        "colab": {
          "base_uri": "https://localhost:8080/"
        },
        "outputId": "3abe54ea-eaeb-4621-a0ea-7b0d06f152cc"
      },
      "source": [
        "# using '%' to enforce a permanent change of directory\n",
        "%cd feeder_repo/"
      ],
      "execution_count": 2,
      "outputs": [
        {
          "output_type": "stream",
          "text": [
            "/content/feeder_repo\n"
          ],
          "name": "stdout"
        }
      ]
    },
    {
      "cell_type": "code",
      "metadata": {
        "id": "saD-jpvPIfZ8",
        "colab": {
          "base_uri": "https://localhost:8080/"
        },
        "outputId": "a5a229a2-859d-4370-ee67-765ec5320c75"
      },
      "source": [
        "# checking contents listed correctly, should read:\n",
        "# baseline_model.py data data_reader.py LICENSE README.md security_plotter.py\n",
        "!ls"
      ],
      "execution_count": 3,
      "outputs": [
        {
          "output_type": "stream",
          "text": [
            "base_model.py  data  data_reader.py  LICENSE  README.md  security_plotter.py\n"
          ],
          "name": "stdout"
        }
      ]
    },
    {
      "cell_type": "code",
      "metadata": {
        "id": "fRqkwo6kZUz_"
      },
      "source": [
        "import math\n",
        "import sys\n",
        "import keras\n",
        "import os\n",
        "import matplotlib.dates as mdates\n",
        "import matplotlib.pyplot as plt\n",
        "import pandas as pd\n",
        "import numpy as np\n",
        "from keras.models import Sequential\n",
        "from keras.layers import Dense\n",
        "from keras.layers import LSTM\n",
        "from keras.layers import GRU\n",
        "from keras.layers import Dropout\n",
        "from keras.layers import *\n",
        "from keras.utils.layer_utils import count_params\n",
        "from keras.utils.vis_utils import plot_model\n",
        "from sklearn.preprocessing import MinMaxScaler\n",
        "from sklearn.metrics import mean_squared_error\n",
        "from sklearn.metrics import mean_absolute_error\n",
        "from sklearn.model_selection import train_test_split\n",
        "from keras.callbacks import EarlyStopping, Callback\n",
        "from keras.optimizers import RMSprop, SGD, Adam, Nadam\n",
        "from keras.initializers import random_normal"
      ],
      "execution_count": 4,
      "outputs": []
    },
    {
      "cell_type": "code",
      "metadata": {
        "id": "hzVhwND1HAlw"
      },
      "source": [
        "# appending path with 'feeder_repo' string\n",
        "sys.path.append('feeder_repo')\n",
        "\n",
        "# import Data_Reader class from data_reader module\n",
        "from feeder_repo.data_reader import Data_Reader\n",
        "# import Baseline_Model class from base_model module\n",
        "from feeder_repo.base_model import Base_Model\n",
        "# import Security_Plotter class from security_plotter module\n",
        "from feeder_repo.security_plotter import Security_Plotter"
      ],
      "execution_count": 5,
      "outputs": []
    },
    {
      "cell_type": "code",
      "metadata": {
        "colab": {
          "base_uri": "https://localhost:8080/"
        },
        "id": "6-tNDlXuhiCU",
        "outputId": "d341d2b0-4134-49f4-9ac6-5b04320b1190"
      },
      "source": [
        "# checking if the notebook is running on a GPU\n",
        "gpu_info = !nvidia-smi\n",
        "gpu_info = '\\n'.join(gpu_info)\n",
        "if gpu_info.find('failed') >= 0:\n",
        "    print('Select the Runtime > \"Change runtime type\" menu to enable a GPU accelerator, ')\n",
        "    print('and then re-execute this cell.')\n",
        "else:\n",
        "    print(gpu_info)"
      ],
      "execution_count": 6,
      "outputs": [
        {
          "output_type": "stream",
          "text": [
            "Wed Jul 21 16:18:05 2021       \n",
            "+-----------------------------------------------------------------------------+\n",
            "| NVIDIA-SMI 470.42.01    Driver Version: 460.32.03    CUDA Version: 11.2     |\n",
            "|-------------------------------+----------------------+----------------------+\n",
            "| GPU  Name        Persistence-M| Bus-Id        Disp.A | Volatile Uncorr. ECC |\n",
            "| Fan  Temp  Perf  Pwr:Usage/Cap|         Memory-Usage | GPU-Util  Compute M. |\n",
            "|                               |                      |               MIG M. |\n",
            "|===============================+======================+======================|\n",
            "|   0  Tesla P100-PCIE...  Off  | 00000000:00:04.0 Off |                    0 |\n",
            "| N/A   39C    P0    30W / 250W |      0MiB / 16280MiB |      0%      Default |\n",
            "|                               |                      |                  N/A |\n",
            "+-------------------------------+----------------------+----------------------+\n",
            "                                                                               \n",
            "+-----------------------------------------------------------------------------+\n",
            "| Processes:                                                                  |\n",
            "|  GPU   GI   CI        PID   Type   Process name                  GPU Memory |\n",
            "|        ID   ID                                                   Usage      |\n",
            "|=============================================================================|\n",
            "|  No running processes found                                                 |\n",
            "+-----------------------------------------------------------------------------+\n"
          ],
          "name": "stdout"
        }
      ]
    },
    {
      "cell_type": "markdown",
      "metadata": {
        "id": "WB9wD4Aahs8_"
      },
      "source": [
        "# Handling the data\n",
        "Here the Data_Reader class is used to read the time series data and extract training, test and validation sets, along with the relevant X and y values."
      ]
    },
    {
      "cell_type": "code",
      "metadata": {
        "id": "vBlKerL-c4-3"
      },
      "source": [
        "# storing the file to be read as a string\n",
        "in_str = 'Google'\n",
        "# storing the year of the time series to be used as test data\n",
        "in_yr = 2019\n",
        "# creating a variable to store the model name\n",
        "model_str = 'CNN_LSTM'\n",
        "# setting our window_length to be 30 days\n",
        "window_len = 30"
      ],
      "execution_count": 7,
      "outputs": []
    },
    {
      "cell_type": "code",
      "metadata": {
        "id": "hfQJbuBk0vW0"
      },
      "source": [
        "# creating an instance of Data_Reader class\n",
        "in_data = Data_Reader(in_str, in_yr)\n",
        "# calling class method extract_train_test to generate training and test datasets\n",
        "in_data.extract_train_test()\n",
        "# calling class method extract_xy to generate X and y training and test datasets\n",
        "in_data.extract_xy(window_len, time_distributed=True)\n",
        "\n",
        "# assigning X_train and y_train\n",
        "X_train = in_data.X_train\n",
        "y_train = in_data.y_train\n",
        "\n",
        "# assigning X_test and y_test\n",
        "X_test = in_data.X_test\n",
        "y_test = in_data.y_test\n",
        "\n",
        "# assigning X_val_train and y_val_train\n",
        "X_val_train = in_data.X_val_train\n",
        "y_val_train = in_data.y_val_train\n",
        "\n",
        "# assigning X_val_test and y_val_test\n",
        "X_val_test = in_data.X_val_test\n",
        "y_val_test = in_data.y_val_test"
      ],
      "execution_count": 8,
      "outputs": []
    },
    {
      "cell_type": "markdown",
      "metadata": {
        "id": "X53Fp1Gwh88_"
      },
      "source": [
        "# Setting up wandb itegration\n",
        "Here wandb is used to perform hyperparameter tuning."
      ]
    },
    {
      "cell_type": "code",
      "metadata": {
        "colab": {
          "base_uri": "https://localhost:8080/"
        },
        "id": "aE6cdrSDiHhq",
        "outputId": "f48cfce6-7af7-4613-f5ee-840144006126"
      },
      "source": [
        "# installing the wandb library and importing\n",
        "%pip install wandb -q\n",
        "import wandb\n",
        "from wandb.keras import WandbCallback"
      ],
      "execution_count": 9,
      "outputs": [
        {
          "output_type": "stream",
          "text": [
            "\u001b[K     |████████████████████████████████| 1.8 MB 15.4 MB/s \n",
            "\u001b[K     |████████████████████████████████| 170 kB 55.4 MB/s \n",
            "\u001b[K     |████████████████████████████████| 133 kB 70.0 MB/s \n",
            "\u001b[K     |████████████████████████████████| 97 kB 8.9 MB/s \n",
            "\u001b[K     |████████████████████████████████| 138 kB 57.5 MB/s \n",
            "\u001b[K     |████████████████████████████████| 63 kB 2.2 MB/s \n",
            "\u001b[K     |████████████████████████████████| 62 kB 992 kB/s \n",
            "\u001b[?25h  Building wheel for subprocess32 (setup.py) ... \u001b[?25l\u001b[?25hdone\n",
            "  Building wheel for pathtools (setup.py) ... \u001b[?25l\u001b[?25hdone\n",
            "\u001b[31mERROR: pip's dependency resolver does not currently take into account all the packages that are installed. This behaviour is the source of the following dependency conflicts.\n",
            "google-colab 1.0.0 requires requests~=2.23.0, but you have requests 2.26.0 which is incompatible.\n",
            "datascience 0.10.6 requires folium==0.2.1, but you have folium 0.8.3 which is incompatible.\u001b[0m\n"
          ],
          "name": "stdout"
        }
      ]
    },
    {
      "cell_type": "code",
      "metadata": {
        "id": "pbgZaoQDiIKX"
      },
      "source": [
        "!pip install wandb -qq"
      ],
      "execution_count": 10,
      "outputs": []
    },
    {
      "cell_type": "code",
      "metadata": {
        "colab": {
          "base_uri": "https://localhost:8080/"
        },
        "id": "1WHkW0XyiKVL",
        "outputId": "89941cf6-43e3-4bf1-e388-4e1d135b3be5"
      },
      "source": [
        "# logging in so the hyperparameter tunings sweeps can be saved\n",
        "!wandb login"
      ],
      "execution_count": 11,
      "outputs": [
        {
          "output_type": "stream",
          "text": [
            "\u001b[34m\u001b[1mwandb\u001b[0m: You can find your API key in your browser here: https://wandb.ai/authorize\n",
            "\u001b[34m\u001b[1mwandb\u001b[0m: Paste an API key from your profile and hit enter: \n",
            "\u001b[34m\u001b[1mwandb\u001b[0m: Appending key for api.wandb.ai to your netrc file: /root/.netrc\n"
          ],
          "name": "stdout"
        }
      ]
    },
    {
      "cell_type": "code",
      "metadata": {
        "id": "j91IBGuSid5w"
      },
      "source": [
        "# configuring the sweep, making use of a random search methodology\n",
        "sweep_config = {\n",
        "    'method': 'random', #grid, random\n",
        "    'metric': {\n",
        "      'name': 'mse',\n",
        "      'goal': 'minimize'   \n",
        "    },\n",
        "    'parameters': {\n",
        "        'epochs': {\n",
        "            'values': [50, 100, 200]\n",
        "        },\n",
        "        'batch_size': {\n",
        "            'values': [128, 64, 32]\n",
        "        },\n",
        "        'learning_rate': {\n",
        "            'values': [0.005, 0.001, 0.0005]\n",
        "        },\n",
        "        'optimizer': {\n",
        "            'values': ['adam', 'nadam', 'rmsprop', 'sgd']\n",
        "        },\n",
        "        'activation': {\n",
        "            'values': ['relu', 'selu']\n",
        "        }\n",
        "    }\n",
        "}"
      ],
      "execution_count": 12,
      "outputs": []
    },
    {
      "cell_type": "code",
      "metadata": {
        "id": "V0Sr9HsorH4E"
      },
      "source": [
        "# wandb calls this training function to run through the hyperparameter search\n",
        "def train():\n",
        "    # default values for searching\n",
        "    config_defaults = {\n",
        "        'epochs': 100,\n",
        "        'batch_size': 32,\n",
        "        'learning_rate': 0.005,\n",
        "        'optimizer': 'adam',\n",
        "        'activation': 'tanh',\n",
        "        'momentum': 0.9,\n",
        "        'seed': 42\n",
        "    }\n",
        "\n",
        "    # Initialize a new wandb run\n",
        "    wandb.init(config=config_defaults)\n",
        "    \n",
        "    # Config is a variable that holds and saves hyperparameters and inputs\n",
        "    config = wandb.config\n",
        "\n",
        "    # setting keras model to sequential mode\n",
        "    model = Sequential()\n",
        "\n",
        "    # layer 1\n",
        "    model.add(TimeDistributed(Conv1D(filters=128, kernel_size=2, activation=config.activation), input_shape=(None, window_len, 1)))\n",
        "    # layer 2\n",
        "    model.add(TimeDistributed(MaxPooling1D(pool_size=2)))\n",
        "    # layer 3\n",
        "    model.add(TimeDistributed(Flatten()))\n",
        "    # layer 4\n",
        "    model.add(LSTM(units=128, activation='tanh', return_sequences=False))\n",
        "    # layer 5\n",
        "    model.add(Dropout(0.1))\n",
        "    # layer 6\n",
        "    model.add(Dense(1))\n",
        "\n",
        "    # Define the optimizer\n",
        "    if config.optimizer=='sgd':\n",
        "      optimizer = SGD(learning_rate=config.learning_rate, decay=1e-5, momentum=config.momentum, nesterov=True)\n",
        "    elif config.optimizer=='rmsprop':\n",
        "      optimizer = RMSprop(learning_rate=config.learning_rate, decay=1e-5)\n",
        "    elif config.optimizer=='adam':\n",
        "      optimizer = Adam(learning_rate=config.learning_rate, beta_1=0.9, beta_2=0.999, clipnorm=1.0)\n",
        "    elif config.optimizer=='nadam':\n",
        "      optimizer = Nadam(learning_rate=config.learning_rate, beta_1=0.9, beta_2=0.999, clipnorm=1.0)\n",
        "\n",
        "    model.compile(loss = \"mean_squared_error\", optimizer=optimizer, metrics=['mean_squared_error', 'mean_absolute_error'])\n",
        "\n",
        "    model.fit(X_val_train, y_val_train, batch_size=config.batch_size,\n",
        "              epochs=config.epochs,\n",
        "              validation_data=(X_val_test, y_val_test),\n",
        "              callbacks=[WandbCallback(validation_data=(X_val_test, y_val_test)),\n",
        "                          EarlyStopping(patience=10, restore_best_weights=True)])"
      ],
      "execution_count": 13,
      "outputs": []
    },
    {
      "cell_type": "code",
      "metadata": {
        "colab": {
          "base_uri": "https://localhost:8080/"
        },
        "id": "JwZO6oAFU1LN",
        "outputId": "b4fdf44a-11dc-4403-f51e-a67e08606887"
      },
      "source": [
        "# setting up our sweep_id\n",
        "sweep_id = wandb.sweep(sweep_config, project='ACSE_9_'+model_str)"
      ],
      "execution_count": 14,
      "outputs": [
        {
          "output_type": "stream",
          "text": [
            "Create sweep with ID: bpufmj8y\n",
            "Sweep URL: https://wandb.ai/acse-jaq15/ACSE_9_CNN_LSTM/sweeps/bpufmj8y\n"
          ],
          "name": "stdout"
        }
      ]
    },
    {
      "cell_type": "code",
      "metadata": {
        "colab": {
          "base_uri": "https://localhost:8080/",
          "height": 1000,
          "referenced_widgets": [
            "e913ddce73a04bf481f44506e079c45d",
            "cb2fdf32fba04fc8903b995fac643505",
            "bc63f7357307437e8035713e0850c61b",
            "e9d7839ae9bb4c1d91e2870f779a476b",
            "d0fa41c1d4e14d7a80931a7c60c16a35",
            "5dfe898488474125971c951c5a3b045e",
            "b384265fc433476e8038c5289c33acea",
            "23e7e0431eb74379b98599a7c4295ebc",
            "ba9c19cfc6284e79b95a74f29021ba5c",
            "31c006f289b54f8d8802cef894f31745",
            "d499d875b4f54c21903e48da3847cdc1",
            "1aea04d5394c478293070e09571169a7",
            "2855798c59734636b01f5a4ea6fbb326",
            "5319490eb6194538b72a9cbea06ec941",
            "6800518f0e6240d7b9ba578ba060e029",
            "c5383de0e4554529b8c0d8d654d274d6",
            "23e1fbbdfde04523bcf36ff8112f7771",
            "0f6be5e686f84ace807f5a0866eedeeb",
            "dc990063cb2e4b9b8ff060d91a821a53",
            "4c7708c4e5764ed6bba8e23e8d68cddb",
            "bf2fc642731d456990cb587bcc623bb7",
            "5126349604e346499b26cb32815300fb",
            "dccae35ab7ef47c1a5fac6664996e734",
            "b22812f8c9704010ad69f69ccace2e98",
            "9ad015442a3d43bcb6396c4466ec60e6",
            "28064fd524604957bd43223ad63febc3",
            "6c652c3e364f453f87e33c2a6772e183",
            "3c92c0f5a6114304bcb6152243f61adb",
            "3db9600a53344efb8730f5e5a7e93192",
            "5c5c0d8bb151458d98885550f6fa4dfd",
            "3c47a431a4c34922849f0796d5781912",
            "12458c10d6544fa1a4d7e55264483253",
            "804994fbcfc1416897c74461b59b3d3a",
            "c8b086928df940b7b273adfb79ddcce6",
            "4a0fd7ab20f4466980f80f86432a6459",
            "5be93d389755402f89171c5946b12cb7",
            "9c458f33ae2346b1a46dccd2e02e479a",
            "17d17b7792f042a6bcc93f4384fa15eb",
            "106f1fcbfde4458bb58bd050f3a11f75",
            "468193a17c114299ba885fc9498a212d",
            "3f0352de28994745bb78c955f34f3598",
            "ea0b0ed2d447424a942415b77195a347",
            "fbf2253fa03340a8a89605d470ba3a5b",
            "49c7e366273b48c4890523901eac825d",
            "4c03aaddb4164252ab1c235b4a64a40d",
            "29bcfd50dbc446ae870bd1a70468124e",
            "c3fb1acd7cf34c12a5ae71dd747917c0",
            "e0b2ca104ab04c83b23f8529a3ed26c2"
          ]
        },
        "id": "ZfSCGWfluFw0",
        "outputId": "b40c8931-3a68-4f1d-f89c-fdf6bda89346"
      },
      "source": [
        "# initialising a new sweep\n",
        "wandb.agent(sweep_id, train, project='ACSE_9_'+model_str)"
      ],
      "execution_count": 16,
      "outputs": [
        {
          "output_type": "stream",
          "text": [
            "\u001b[34m\u001b[1mwandb\u001b[0m: Agent Starting Run: zy2xc37u with config:\n",
            "\u001b[34m\u001b[1mwandb\u001b[0m: \tactivation: relu\n",
            "\u001b[34m\u001b[1mwandb\u001b[0m: \tbatch_size: 32\n",
            "\u001b[34m\u001b[1mwandb\u001b[0m: \tepochs: 200\n",
            "\u001b[34m\u001b[1mwandb\u001b[0m: \tlearning_rate: 0.0005\n",
            "\u001b[34m\u001b[1mwandb\u001b[0m: \toptimizer: sgd\n"
          ],
          "name": "stderr"
        },
        {
          "output_type": "display_data",
          "data": {
            "text/html": [
              "\n",
              "                Tracking run with wandb version 0.11.0<br/>\n",
              "                Syncing run <strong style=\"color:#cdcd00\">stellar-sweep-29</strong> to <a href=\"https://wandb.ai\" target=\"_blank\">Weights & Biases</a> <a href=\"https://docs.wandb.com/integrations/jupyter.html\" target=\"_blank\">(Documentation)</a>.<br/>\n",
              "                Project page: <a href=\"https://wandb.ai/acse-jaq15/ACSE_9_CNN_LSTM\" target=\"_blank\">https://wandb.ai/acse-jaq15/ACSE_9_CNN_LSTM</a><br/>\n",
              "                Sweep page: <a href=\"https://wandb.ai/acse-jaq15/ACSE_9_CNN_LSTM/sweeps/bpufmj8y\" target=\"_blank\">https://wandb.ai/acse-jaq15/ACSE_9_CNN_LSTM/sweeps/bpufmj8y</a><br/>\n",
              "Run page: <a href=\"https://wandb.ai/acse-jaq15/ACSE_9_CNN_LSTM/runs/zy2xc37u\" target=\"_blank\">https://wandb.ai/acse-jaq15/ACSE_9_CNN_LSTM/runs/zy2xc37u</a><br/>\n",
              "                Run data is saved locally in <code>/content/feeder_repo/wandb/run-20210721_164613-zy2xc37u</code><br/><br/>\n",
              "            "
            ],
            "text/plain": [
              "<IPython.core.display.HTML object>"
            ]
          },
          "metadata": {
            "tags": []
          }
        },
        {
          "output_type": "stream",
          "text": [
            "Epoch 1/200\n",
            "31/31 [==============================] - 3s 32ms/step - loss: 0.2073 - mean_squared_error: 0.2073 - mean_absolute_error: 0.3688 - val_loss: 0.1572 - val_mean_squared_error: 0.1572 - val_mean_absolute_error: 0.3268\n",
            "Epoch 2/200\n",
            "31/31 [==============================] - 0s 5ms/step - loss: 0.1140 - mean_squared_error: 0.1140 - mean_absolute_error: 0.2621 - val_loss: 0.0841 - val_mean_squared_error: 0.0841 - val_mean_absolute_error: 0.2279\n",
            "Epoch 3/200\n",
            "31/31 [==============================] - 0s 6ms/step - loss: 0.0663 - mean_squared_error: 0.0663 - mean_absolute_error: 0.2083 - val_loss: 0.0564 - val_mean_squared_error: 0.0564 - val_mean_absolute_error: 0.1884\n",
            "Epoch 4/200\n",
            "31/31 [==============================] - 0s 5ms/step - loss: 0.0488 - mean_squared_error: 0.0488 - mean_absolute_error: 0.1854 - val_loss: 0.0453 - val_mean_squared_error: 0.0453 - val_mean_absolute_error: 0.1728\n",
            "Epoch 5/200\n",
            "31/31 [==============================] - 0s 5ms/step - loss: 0.0384 - mean_squared_error: 0.0384 - mean_absolute_error: 0.1657 - val_loss: 0.0407 - val_mean_squared_error: 0.0407 - val_mean_absolute_error: 0.1674\n",
            "Epoch 6/200\n",
            "31/31 [==============================] - 0s 5ms/step - loss: 0.0364 - mean_squared_error: 0.0364 - mean_absolute_error: 0.1620 - val_loss: 0.0385 - val_mean_squared_error: 0.0385 - val_mean_absolute_error: 0.1639\n",
            "Epoch 7/200\n",
            "31/31 [==============================] - 0s 5ms/step - loss: 0.0329 - mean_squared_error: 0.0329 - mean_absolute_error: 0.1547 - val_loss: 0.0371 - val_mean_squared_error: 0.0371 - val_mean_absolute_error: 0.1612\n",
            "Epoch 8/200\n",
            "31/31 [==============================] - 0s 5ms/step - loss: 0.0311 - mean_squared_error: 0.0311 - mean_absolute_error: 0.1521 - val_loss: 0.0359 - val_mean_squared_error: 0.0359 - val_mean_absolute_error: 0.1587\n",
            "Epoch 9/200\n",
            "31/31 [==============================] - 0s 6ms/step - loss: 0.0285 - mean_squared_error: 0.0285 - mean_absolute_error: 0.1431 - val_loss: 0.0349 - val_mean_squared_error: 0.0349 - val_mean_absolute_error: 0.1565\n",
            "Epoch 10/200\n",
            "31/31 [==============================] - 0s 4ms/step - loss: 0.0272 - mean_squared_error: 0.0272 - mean_absolute_error: 0.1408 - val_loss: 0.0341 - val_mean_squared_error: 0.0341 - val_mean_absolute_error: 0.1542\n",
            "Epoch 11/200\n",
            "31/31 [==============================] - 0s 5ms/step - loss: 0.0247 - mean_squared_error: 0.0247 - mean_absolute_error: 0.1337 - val_loss: 0.0333 - val_mean_squared_error: 0.0333 - val_mean_absolute_error: 0.1522\n",
            "Epoch 12/200\n",
            "31/31 [==============================] - 0s 5ms/step - loss: 0.0232 - mean_squared_error: 0.0232 - mean_absolute_error: 0.1296 - val_loss: 0.0326 - val_mean_squared_error: 0.0326 - val_mean_absolute_error: 0.1504\n",
            "Epoch 13/200\n",
            "31/31 [==============================] - 0s 5ms/step - loss: 0.0213 - mean_squared_error: 0.0213 - mean_absolute_error: 0.1233 - val_loss: 0.0319 - val_mean_squared_error: 0.0319 - val_mean_absolute_error: 0.1487\n",
            "Epoch 14/200\n",
            "31/31 [==============================] - 0s 6ms/step - loss: 0.0195 - mean_squared_error: 0.0195 - mean_absolute_error: 0.1178 - val_loss: 0.0313 - val_mean_squared_error: 0.0313 - val_mean_absolute_error: 0.1473\n",
            "Epoch 15/200\n",
            "31/31 [==============================] - 0s 5ms/step - loss: 0.0179 - mean_squared_error: 0.0179 - mean_absolute_error: 0.1132 - val_loss: 0.0307 - val_mean_squared_error: 0.0307 - val_mean_absolute_error: 0.1459\n",
            "Epoch 16/200\n",
            "31/31 [==============================] - 0s 7ms/step - loss: 0.0166 - mean_squared_error: 0.0166 - mean_absolute_error: 0.1094 - val_loss: 0.0302 - val_mean_squared_error: 0.0302 - val_mean_absolute_error: 0.1446\n",
            "Epoch 17/200\n",
            "31/31 [==============================] - 0s 5ms/step - loss: 0.0155 - mean_squared_error: 0.0155 - mean_absolute_error: 0.1059 - val_loss: 0.0298 - val_mean_squared_error: 0.0298 - val_mean_absolute_error: 0.1436\n",
            "Epoch 18/200\n",
            "31/31 [==============================] - 0s 5ms/step - loss: 0.0137 - mean_squared_error: 0.0137 - mean_absolute_error: 0.1003 - val_loss: 0.0293 - val_mean_squared_error: 0.0293 - val_mean_absolute_error: 0.1426\n",
            "Epoch 19/200\n",
            "31/31 [==============================] - 0s 5ms/step - loss: 0.0138 - mean_squared_error: 0.0138 - mean_absolute_error: 0.0999 - val_loss: 0.0290 - val_mean_squared_error: 0.0290 - val_mean_absolute_error: 0.1418\n",
            "Epoch 20/200\n",
            "31/31 [==============================] - 0s 5ms/step - loss: 0.0121 - mean_squared_error: 0.0121 - mean_absolute_error: 0.0933 - val_loss: 0.0286 - val_mean_squared_error: 0.0286 - val_mean_absolute_error: 0.1411\n",
            "Epoch 21/200\n",
            "31/31 [==============================] - 0s 5ms/step - loss: 0.0117 - mean_squared_error: 0.0117 - mean_absolute_error: 0.0920 - val_loss: 0.0283 - val_mean_squared_error: 0.0283 - val_mean_absolute_error: 0.1403\n",
            "Epoch 22/200\n",
            "31/31 [==============================] - 0s 5ms/step - loss: 0.0104 - mean_squared_error: 0.0104 - mean_absolute_error: 0.0865 - val_loss: 0.0281 - val_mean_squared_error: 0.0281 - val_mean_absolute_error: 0.1398\n",
            "Epoch 23/200\n",
            "31/31 [==============================] - 0s 6ms/step - loss: 0.0099 - mean_squared_error: 0.0099 - mean_absolute_error: 0.0843 - val_loss: 0.0279 - val_mean_squared_error: 0.0279 - val_mean_absolute_error: 0.1393\n",
            "Epoch 24/200\n",
            "31/31 [==============================] - 0s 5ms/step - loss: 0.0091 - mean_squared_error: 0.0091 - mean_absolute_error: 0.0806 - val_loss: 0.0277 - val_mean_squared_error: 0.0277 - val_mean_absolute_error: 0.1389\n",
            "Epoch 25/200\n",
            "31/31 [==============================] - 0s 5ms/step - loss: 0.0082 - mean_squared_error: 0.0082 - mean_absolute_error: 0.0764 - val_loss: 0.0275 - val_mean_squared_error: 0.0275 - val_mean_absolute_error: 0.1385\n",
            "Epoch 26/200\n",
            "31/31 [==============================] - 0s 6ms/step - loss: 0.0078 - mean_squared_error: 0.0078 - mean_absolute_error: 0.0746 - val_loss: 0.0273 - val_mean_squared_error: 0.0273 - val_mean_absolute_error: 0.1379\n",
            "Epoch 27/200\n",
            "31/31 [==============================] - 0s 5ms/step - loss: 0.0076 - mean_squared_error: 0.0076 - mean_absolute_error: 0.0736 - val_loss: 0.0273 - val_mean_squared_error: 0.0273 - val_mean_absolute_error: 0.1378\n",
            "Epoch 28/200\n",
            "31/31 [==============================] - 0s 6ms/step - loss: 0.0068 - mean_squared_error: 0.0068 - mean_absolute_error: 0.0686 - val_loss: 0.0272 - val_mean_squared_error: 0.0272 - val_mean_absolute_error: 0.1376\n",
            "Epoch 29/200\n",
            "31/31 [==============================] - 0s 5ms/step - loss: 0.0064 - mean_squared_error: 0.0064 - mean_absolute_error: 0.0668 - val_loss: 0.0271 - val_mean_squared_error: 0.0271 - val_mean_absolute_error: 0.1373\n",
            "Epoch 30/200\n",
            "31/31 [==============================] - 0s 5ms/step - loss: 0.0054 - mean_squared_error: 0.0054 - mean_absolute_error: 0.0607 - val_loss: 0.0271 - val_mean_squared_error: 0.0271 - val_mean_absolute_error: 0.1370\n",
            "Epoch 31/200\n",
            "31/31 [==============================] - 0s 5ms/step - loss: 0.0053 - mean_squared_error: 0.0053 - mean_absolute_error: 0.0611 - val_loss: 0.0270 - val_mean_squared_error: 0.0270 - val_mean_absolute_error: 0.1367\n",
            "Epoch 32/200\n",
            "31/31 [==============================] - 0s 7ms/step - loss: 0.0052 - mean_squared_error: 0.0052 - mean_absolute_error: 0.0595 - val_loss: 0.0270 - val_mean_squared_error: 0.0270 - val_mean_absolute_error: 0.1368\n",
            "Epoch 33/200\n",
            "31/31 [==============================] - 0s 5ms/step - loss: 0.0048 - mean_squared_error: 0.0048 - mean_absolute_error: 0.0571 - val_loss: 0.0270 - val_mean_squared_error: 0.0270 - val_mean_absolute_error: 0.1366\n",
            "Epoch 34/200\n",
            "31/31 [==============================] - 0s 5ms/step - loss: 0.0049 - mean_squared_error: 0.0049 - mean_absolute_error: 0.0580 - val_loss: 0.0270 - val_mean_squared_error: 0.0270 - val_mean_absolute_error: 0.1365\n",
            "Epoch 35/200\n",
            "31/31 [==============================] - 0s 5ms/step - loss: 0.0044 - mean_squared_error: 0.0044 - mean_absolute_error: 0.0544 - val_loss: 0.0270 - val_mean_squared_error: 0.0270 - val_mean_absolute_error: 0.1365\n",
            "Epoch 36/200\n",
            "31/31 [==============================] - 0s 6ms/step - loss: 0.0038 - mean_squared_error: 0.0038 - mean_absolute_error: 0.0504 - val_loss: 0.0270 - val_mean_squared_error: 0.0270 - val_mean_absolute_error: 0.1365\n",
            "Epoch 37/200\n",
            "31/31 [==============================] - 0s 5ms/step - loss: 0.0041 - mean_squared_error: 0.0041 - mean_absolute_error: 0.0516 - val_loss: 0.0269 - val_mean_squared_error: 0.0269 - val_mean_absolute_error: 0.1364\n",
            "Epoch 38/200\n",
            "31/31 [==============================] - 0s 6ms/step - loss: 0.0040 - mean_squared_error: 0.0040 - mean_absolute_error: 0.0508 - val_loss: 0.0270 - val_mean_squared_error: 0.0270 - val_mean_absolute_error: 0.1366\n",
            "Epoch 39/200\n",
            "31/31 [==============================] - 0s 5ms/step - loss: 0.0034 - mean_squared_error: 0.0034 - mean_absolute_error: 0.0475 - val_loss: 0.0270 - val_mean_squared_error: 0.0270 - val_mean_absolute_error: 0.1366\n",
            "Epoch 40/200\n",
            "31/31 [==============================] - 0s 5ms/step - loss: 0.0037 - mean_squared_error: 0.0037 - mean_absolute_error: 0.0492 - val_loss: 0.0271 - val_mean_squared_error: 0.0271 - val_mean_absolute_error: 0.1368\n",
            "Epoch 41/200\n",
            "31/31 [==============================] - 0s 5ms/step - loss: 0.0034 - mean_squared_error: 0.0034 - mean_absolute_error: 0.0465 - val_loss: 0.0271 - val_mean_squared_error: 0.0271 - val_mean_absolute_error: 0.1370\n",
            "Epoch 42/200\n",
            "31/31 [==============================] - 0s 5ms/step - loss: 0.0034 - mean_squared_error: 0.0034 - mean_absolute_error: 0.0452 - val_loss: 0.0272 - val_mean_squared_error: 0.0272 - val_mean_absolute_error: 0.1370\n",
            "Epoch 43/200\n",
            "31/31 [==============================] - 0s 5ms/step - loss: 0.0033 - mean_squared_error: 0.0033 - mean_absolute_error: 0.0457 - val_loss: 0.0271 - val_mean_squared_error: 0.0271 - val_mean_absolute_error: 0.1369\n",
            "Epoch 44/200\n",
            "31/31 [==============================] - 0s 5ms/step - loss: 0.0032 - mean_squared_error: 0.0032 - mean_absolute_error: 0.0455 - val_loss: 0.0272 - val_mean_squared_error: 0.0272 - val_mean_absolute_error: 0.1370\n",
            "Epoch 45/200\n",
            "31/31 [==============================] - 0s 5ms/step - loss: 0.0033 - mean_squared_error: 0.0033 - mean_absolute_error: 0.0453 - val_loss: 0.0272 - val_mean_squared_error: 0.0272 - val_mean_absolute_error: 0.1370\n",
            "Epoch 46/200\n",
            "31/31 [==============================] - 0s 5ms/step - loss: 0.0031 - mean_squared_error: 0.0031 - mean_absolute_error: 0.0435 - val_loss: 0.0272 - val_mean_squared_error: 0.0272 - val_mean_absolute_error: 0.1372\n",
            "Epoch 47/200\n",
            "31/31 [==============================] - 0s 5ms/step - loss: 0.0034 - mean_squared_error: 0.0034 - mean_absolute_error: 0.0456 - val_loss: 0.0272 - val_mean_squared_error: 0.0272 - val_mean_absolute_error: 0.1371\n"
          ],
          "name": "stdout"
        },
        {
          "output_type": "display_data",
          "data": {
            "text/html": [
              "<br/>Waiting for W&B process to finish, PID 7788<br/>Program ended successfully."
            ],
            "text/plain": [
              "<IPython.core.display.HTML object>"
            ]
          },
          "metadata": {
            "tags": []
          }
        },
        {
          "output_type": "display_data",
          "data": {
            "application/vnd.jupyter.widget-view+json": {
              "model_id": "e913ddce73a04bf481f44506e079c45d",
              "version_minor": 0,
              "version_major": 2
            },
            "text/plain": [
              "VBox(children=(Label(value=' 7.77MB of 7.77MB uploaded (0.00MB deduped)\\r'), FloatProgress(value=1.0, max=1.0)…"
            ]
          },
          "metadata": {
            "tags": []
          }
        },
        {
          "output_type": "display_data",
          "data": {
            "text/html": [
              "Find user logs for this run at: <code>/content/feeder_repo/wandb/run-20210721_164613-zy2xc37u/logs/debug.log</code>"
            ],
            "text/plain": [
              "<IPython.core.display.HTML object>"
            ]
          },
          "metadata": {
            "tags": []
          }
        },
        {
          "output_type": "display_data",
          "data": {
            "text/html": [
              "Find internal logs for this run at: <code>/content/feeder_repo/wandb/run-20210721_164613-zy2xc37u/logs/debug-internal.log</code>"
            ],
            "text/plain": [
              "<IPython.core.display.HTML object>"
            ]
          },
          "metadata": {
            "tags": []
          }
        },
        {
          "output_type": "display_data",
          "data": {
            "text/html": [
              "<h3>Run summary:</h3><br/><style>\n",
              "    table.wandb td:nth-child(1) { padding: 0 10px; text-align: right }\n",
              "    </style><table class=\"wandb\">\n",
              "<tr><td>epoch</td><td>46</td></tr><tr><td>loss</td><td>0.00311</td></tr><tr><td>mean_squared_error</td><td>0.00311</td></tr><tr><td>mean_absolute_error</td><td>0.04375</td></tr><tr><td>val_loss</td><td>0.02719</td></tr><tr><td>val_mean_squared_error</td><td>0.02719</td></tr><tr><td>val_mean_absolute_error</td><td>0.13709</td></tr><tr><td>_runtime</td><td>16</td></tr><tr><td>_timestamp</td><td>1626885989</td></tr><tr><td>_step</td><td>46</td></tr><tr><td>best_val_loss</td><td>0.02692</td></tr><tr><td>best_epoch</td><td>36</td></tr></table>"
            ],
            "text/plain": [
              "<IPython.core.display.HTML object>"
            ]
          },
          "metadata": {
            "tags": []
          }
        },
        {
          "output_type": "display_data",
          "data": {
            "text/html": [
              "<h3>Run history:</h3><br/><style>\n",
              "    table.wandb td:nth-child(1) { padding: 0 10px; text-align: right }\n",
              "    </style><table class=\"wandb\">\n",
              "<tr><td>epoch</td><td>▁▁▁▁▂▂▂▂▂▃▃▃▃▃▃▄▄▄▄▄▅▅▅▅▅▅▆▆▆▆▆▆▇▇▇▇▇███</td></tr><tr><td>loss</td><td>█▅▃▃▂▂▂▂▂▂▂▂▂▂▁▁▁▁▁▁▁▁▁▁▁▁▁▁▁▁▁▁▁▁▁▁▁▁▁▁</td></tr><tr><td>mean_squared_error</td><td>█▅▃▃▂▂▂▂▂▂▂▂▂▂▁▁▁▁▁▁▁▁▁▁▁▁▁▁▁▁▁▁▁▁▁▁▁▁▁▁</td></tr><tr><td>mean_absolute_error</td><td>█▆▅▄▄▄▃▃▃▃▃▃▃▃▂▂▂▂▂▂▂▂▂▂▂▁▁▁▁▁▁▁▁▁▁▁▁▁▁▁</td></tr><tr><td>val_loss</td><td>█▄▃▂▂▂▁▁▁▁▁▁▁▁▁▁▁▁▁▁▁▁▁▁▁▁▁▁▁▁▁▁▁▁▁▁▁▁▁▁</td></tr><tr><td>val_mean_squared_error</td><td>█▄▃▂▂▂▁▁▁▁▁▁▁▁▁▁▁▁▁▁▁▁▁▁▁▁▁▁▁▁▁▁▁▁▁▁▁▁▁▁</td></tr><tr><td>val_mean_absolute_error</td><td>█▄▃▂▂▂▂▂▂▂▂▁▁▁▁▁▁▁▁▁▁▁▁▁▁▁▁▁▁▁▁▁▁▁▁▁▁▁▁▁</td></tr><tr><td>_runtime</td><td>▁▁▁▂▂▂▂▃▃▃▃▃▃▃▃▃▄▄▄▄▅▅▅▆▆▆▆▆▆▆▆▆▇▇▇▇▇███</td></tr><tr><td>_timestamp</td><td>▁▁▁▂▂▂▂▃▃▃▃▃▃▃▃▃▄▄▄▄▅▅▅▆▆▆▆▆▆▆▆▆▇▇▇▇▇███</td></tr><tr><td>_step</td><td>▁▁▁▁▂▂▂▂▂▃▃▃▃▃▃▄▄▄▄▄▅▅▅▅▅▅▆▆▆▆▆▆▇▇▇▇▇███</td></tr></table><br/>"
            ],
            "text/plain": [
              "<IPython.core.display.HTML object>"
            ]
          },
          "metadata": {
            "tags": []
          }
        },
        {
          "output_type": "display_data",
          "data": {
            "text/html": [
              "Synced 5 W&B file(s), 1 media file(s), 2 artifact file(s) and 2 other file(s)"
            ],
            "text/plain": [
              "<IPython.core.display.HTML object>"
            ]
          },
          "metadata": {
            "tags": []
          }
        },
        {
          "output_type": "display_data",
          "data": {
            "text/html": [
              "\n",
              "                    <br/>Synced <strong style=\"color:#cdcd00\">stellar-sweep-29</strong>: <a href=\"https://wandb.ai/acse-jaq15/ACSE_9_CNN_LSTM/runs/zy2xc37u\" target=\"_blank\">https://wandb.ai/acse-jaq15/ACSE_9_CNN_LSTM/runs/zy2xc37u</a><br/>\n",
              "                "
            ],
            "text/plain": [
              "<IPython.core.display.HTML object>"
            ]
          },
          "metadata": {
            "tags": []
          }
        },
        {
          "output_type": "stream",
          "text": [
            "\u001b[34m\u001b[1mwandb\u001b[0m: Agent Starting Run: r77x0d9f with config:\n",
            "\u001b[34m\u001b[1mwandb\u001b[0m: \tactivation: selu\n",
            "\u001b[34m\u001b[1mwandb\u001b[0m: \tbatch_size: 128\n",
            "\u001b[34m\u001b[1mwandb\u001b[0m: \tepochs: 200\n",
            "\u001b[34m\u001b[1mwandb\u001b[0m: \tlearning_rate: 0.0005\n",
            "\u001b[34m\u001b[1mwandb\u001b[0m: \toptimizer: sgd\n"
          ],
          "name": "stderr"
        },
        {
          "output_type": "display_data",
          "data": {
            "text/html": [
              "\n",
              "                Tracking run with wandb version 0.11.0<br/>\n",
              "                Syncing run <strong style=\"color:#cdcd00\">golden-sweep-30</strong> to <a href=\"https://wandb.ai\" target=\"_blank\">Weights & Biases</a> <a href=\"https://docs.wandb.com/integrations/jupyter.html\" target=\"_blank\">(Documentation)</a>.<br/>\n",
              "                Project page: <a href=\"https://wandb.ai/acse-jaq15/ACSE_9_CNN_LSTM\" target=\"_blank\">https://wandb.ai/acse-jaq15/ACSE_9_CNN_LSTM</a><br/>\n",
              "                Sweep page: <a href=\"https://wandb.ai/acse-jaq15/ACSE_9_CNN_LSTM/sweeps/bpufmj8y\" target=\"_blank\">https://wandb.ai/acse-jaq15/ACSE_9_CNN_LSTM/sweeps/bpufmj8y</a><br/>\n",
              "Run page: <a href=\"https://wandb.ai/acse-jaq15/ACSE_9_CNN_LSTM/runs/r77x0d9f\" target=\"_blank\">https://wandb.ai/acse-jaq15/ACSE_9_CNN_LSTM/runs/r77x0d9f</a><br/>\n",
              "                Run data is saved locally in <code>/content/feeder_repo/wandb/run-20210721_164638-r77x0d9f</code><br/><br/>\n",
              "            "
            ],
            "text/plain": [
              "<IPython.core.display.HTML object>"
            ]
          },
          "metadata": {
            "tags": []
          }
        },
        {
          "output_type": "stream",
          "text": [
            "Epoch 1/200\n",
            "8/8 [==============================] - 3s 123ms/step - loss: 0.1848 - mean_squared_error: 0.1848 - mean_absolute_error: 0.3542 - val_loss: 0.1931 - val_mean_squared_error: 0.1931 - val_mean_absolute_error: 0.3811\n",
            "Epoch 2/200\n",
            "8/8 [==============================] - 0s 7ms/step - loss: 0.1597 - mean_squared_error: 0.1597 - mean_absolute_error: 0.3213 - val_loss: 0.1416 - val_mean_squared_error: 0.1416 - val_mean_absolute_error: 0.3161\n",
            "Epoch 3/200\n",
            "8/8 [==============================] - 0s 7ms/step - loss: 0.1044 - mean_squared_error: 0.1044 - mean_absolute_error: 0.2496 - val_loss: 0.0985 - val_mean_squared_error: 0.0985 - val_mean_absolute_error: 0.2546\n",
            "Epoch 4/200\n",
            "8/8 [==============================] - 0s 8ms/step - loss: 0.0698 - mean_squared_error: 0.0698 - mean_absolute_error: 0.2023 - val_loss: 0.0682 - val_mean_squared_error: 0.0682 - val_mean_absolute_error: 0.2079\n",
            "Epoch 5/200\n",
            "8/8 [==============================] - 0s 9ms/step - loss: 0.0505 - mean_squared_error: 0.0505 - mean_absolute_error: 0.1748 - val_loss: 0.0491 - val_mean_squared_error: 0.0491 - val_mean_absolute_error: 0.1765\n",
            "Epoch 6/200\n",
            "8/8 [==============================] - 0s 8ms/step - loss: 0.0348 - mean_squared_error: 0.0348 - mean_absolute_error: 0.1461 - val_loss: 0.0381 - val_mean_squared_error: 0.0381 - val_mean_absolute_error: 0.1572\n",
            "Epoch 7/200\n",
            "8/8 [==============================] - 0s 8ms/step - loss: 0.0240 - mean_squared_error: 0.0240 - mean_absolute_error: 0.1249 - val_loss: 0.0323 - val_mean_squared_error: 0.0323 - val_mean_absolute_error: 0.1453\n",
            "Epoch 8/200\n",
            "8/8 [==============================] - 0s 7ms/step - loss: 0.0203 - mean_squared_error: 0.0203 - mean_absolute_error: 0.1180 - val_loss: 0.0293 - val_mean_squared_error: 0.0293 - val_mean_absolute_error: 0.1393\n",
            "Epoch 9/200\n",
            "8/8 [==============================] - 0s 8ms/step - loss: 0.0162 - mean_squared_error: 0.0162 - mean_absolute_error: 0.1046 - val_loss: 0.0279 - val_mean_squared_error: 0.0279 - val_mean_absolute_error: 0.1368\n",
            "Epoch 10/200\n",
            "8/8 [==============================] - 0s 9ms/step - loss: 0.0151 - mean_squared_error: 0.0151 - mean_absolute_error: 0.1026 - val_loss: 0.0272 - val_mean_squared_error: 0.0272 - val_mean_absolute_error: 0.1356\n",
            "Epoch 11/200\n",
            "8/8 [==============================] - 0s 6ms/step - loss: 0.0139 - mean_squared_error: 0.0139 - mean_absolute_error: 0.0991 - val_loss: 0.0268 - val_mean_squared_error: 0.0268 - val_mean_absolute_error: 0.1352\n",
            "Epoch 12/200\n",
            "8/8 [==============================] - 0s 7ms/step - loss: 0.0121 - mean_squared_error: 0.0121 - mean_absolute_error: 0.0931 - val_loss: 0.0266 - val_mean_squared_error: 0.0266 - val_mean_absolute_error: 0.1349\n",
            "Epoch 13/200\n",
            "8/8 [==============================] - 0s 8ms/step - loss: 0.0122 - mean_squared_error: 0.0122 - mean_absolute_error: 0.0937 - val_loss: 0.0264 - val_mean_squared_error: 0.0264 - val_mean_absolute_error: 0.1347\n",
            "Epoch 14/200\n",
            "8/8 [==============================] - 0s 8ms/step - loss: 0.0118 - mean_squared_error: 0.0118 - mean_absolute_error: 0.0914 - val_loss: 0.0263 - val_mean_squared_error: 0.0263 - val_mean_absolute_error: 0.1345\n",
            "Epoch 15/200\n",
            "8/8 [==============================] - 0s 7ms/step - loss: 0.0112 - mean_squared_error: 0.0112 - mean_absolute_error: 0.0871 - val_loss: 0.0262 - val_mean_squared_error: 0.0262 - val_mean_absolute_error: 0.1342\n",
            "Epoch 16/200\n",
            "8/8 [==============================] - 0s 8ms/step - loss: 0.0110 - mean_squared_error: 0.0110 - mean_absolute_error: 0.0876 - val_loss: 0.0260 - val_mean_squared_error: 0.0260 - val_mean_absolute_error: 0.1339\n",
            "Epoch 17/200\n",
            "8/8 [==============================] - 0s 9ms/step - loss: 0.0112 - mean_squared_error: 0.0112 - mean_absolute_error: 0.0889 - val_loss: 0.0259 - val_mean_squared_error: 0.0259 - val_mean_absolute_error: 0.1336\n",
            "Epoch 18/200\n",
            "8/8 [==============================] - 0s 7ms/step - loss: 0.0101 - mean_squared_error: 0.0101 - mean_absolute_error: 0.0845 - val_loss: 0.0257 - val_mean_squared_error: 0.0257 - val_mean_absolute_error: 0.1332\n",
            "Epoch 19/200\n",
            "8/8 [==============================] - 0s 8ms/step - loss: 0.0101 - mean_squared_error: 0.0101 - mean_absolute_error: 0.0840 - val_loss: 0.0256 - val_mean_squared_error: 0.0256 - val_mean_absolute_error: 0.1329\n",
            "Epoch 20/200\n",
            "8/8 [==============================] - 0s 6ms/step - loss: 0.0096 - mean_squared_error: 0.0096 - mean_absolute_error: 0.0809 - val_loss: 0.0255 - val_mean_squared_error: 0.0255 - val_mean_absolute_error: 0.1325\n",
            "Epoch 21/200\n",
            "8/8 [==============================] - 0s 7ms/step - loss: 0.0095 - mean_squared_error: 0.0095 - mean_absolute_error: 0.0815 - val_loss: 0.0253 - val_mean_squared_error: 0.0253 - val_mean_absolute_error: 0.1322\n",
            "Epoch 22/200\n",
            "8/8 [==============================] - 0s 10ms/step - loss: 0.0089 - mean_squared_error: 0.0089 - mean_absolute_error: 0.0795 - val_loss: 0.0252 - val_mean_squared_error: 0.0252 - val_mean_absolute_error: 0.1319\n",
            "Epoch 23/200\n",
            "8/8 [==============================] - 0s 8ms/step - loss: 0.0088 - mean_squared_error: 0.0088 - mean_absolute_error: 0.0786 - val_loss: 0.0251 - val_mean_squared_error: 0.0251 - val_mean_absolute_error: 0.1316\n",
            "Epoch 24/200\n",
            "8/8 [==============================] - 0s 11ms/step - loss: 0.0085 - mean_squared_error: 0.0085 - mean_absolute_error: 0.0769 - val_loss: 0.0250 - val_mean_squared_error: 0.0250 - val_mean_absolute_error: 0.1313\n",
            "Epoch 25/200\n",
            "8/8 [==============================] - 0s 8ms/step - loss: 0.0081 - mean_squared_error: 0.0081 - mean_absolute_error: 0.0743 - val_loss: 0.0249 - val_mean_squared_error: 0.0249 - val_mean_absolute_error: 0.1310\n",
            "Epoch 26/200\n",
            "8/8 [==============================] - 0s 7ms/step - loss: 0.0080 - mean_squared_error: 0.0080 - mean_absolute_error: 0.0745 - val_loss: 0.0248 - val_mean_squared_error: 0.0248 - val_mean_absolute_error: 0.1308\n",
            "Epoch 27/200\n",
            "8/8 [==============================] - 0s 7ms/step - loss: 0.0076 - mean_squared_error: 0.0076 - mean_absolute_error: 0.0737 - val_loss: 0.0248 - val_mean_squared_error: 0.0248 - val_mean_absolute_error: 0.1306\n",
            "Epoch 28/200\n",
            "8/8 [==============================] - 0s 7ms/step - loss: 0.0074 - mean_squared_error: 0.0074 - mean_absolute_error: 0.0718 - val_loss: 0.0247 - val_mean_squared_error: 0.0247 - val_mean_absolute_error: 0.1304\n",
            "Epoch 29/200\n",
            "8/8 [==============================] - 0s 9ms/step - loss: 0.0073 - mean_squared_error: 0.0073 - mean_absolute_error: 0.0709 - val_loss: 0.0246 - val_mean_squared_error: 0.0246 - val_mean_absolute_error: 0.1302\n",
            "Epoch 30/200\n",
            "8/8 [==============================] - 0s 7ms/step - loss: 0.0068 - mean_squared_error: 0.0068 - mean_absolute_error: 0.0689 - val_loss: 0.0245 - val_mean_squared_error: 0.0245 - val_mean_absolute_error: 0.1300\n",
            "Epoch 31/200\n",
            "8/8 [==============================] - 0s 9ms/step - loss: 0.0066 - mean_squared_error: 0.0066 - mean_absolute_error: 0.0676 - val_loss: 0.0244 - val_mean_squared_error: 0.0244 - val_mean_absolute_error: 0.1298\n",
            "Epoch 32/200\n",
            "8/8 [==============================] - 0s 8ms/step - loss: 0.0066 - mean_squared_error: 0.0066 - mean_absolute_error: 0.0677 - val_loss: 0.0244 - val_mean_squared_error: 0.0244 - val_mean_absolute_error: 0.1296\n",
            "Epoch 33/200\n",
            "8/8 [==============================] - 0s 9ms/step - loss: 0.0066 - mean_squared_error: 0.0066 - mean_absolute_error: 0.0679 - val_loss: 0.0243 - val_mean_squared_error: 0.0243 - val_mean_absolute_error: 0.1294\n",
            "Epoch 34/200\n",
            "8/8 [==============================] - 0s 8ms/step - loss: 0.0064 - mean_squared_error: 0.0064 - mean_absolute_error: 0.0666 - val_loss: 0.0242 - val_mean_squared_error: 0.0242 - val_mean_absolute_error: 0.1292\n",
            "Epoch 35/200\n",
            "8/8 [==============================] - 0s 6ms/step - loss: 0.0058 - mean_squared_error: 0.0058 - mean_absolute_error: 0.0633 - val_loss: 0.0242 - val_mean_squared_error: 0.0242 - val_mean_absolute_error: 0.1290\n",
            "Epoch 36/200\n",
            "8/8 [==============================] - 0s 7ms/step - loss: 0.0056 - mean_squared_error: 0.0056 - mean_absolute_error: 0.0622 - val_loss: 0.0241 - val_mean_squared_error: 0.0241 - val_mean_absolute_error: 0.1289\n",
            "Epoch 37/200\n",
            "8/8 [==============================] - 0s 7ms/step - loss: 0.0054 - mean_squared_error: 0.0054 - mean_absolute_error: 0.0603 - val_loss: 0.0241 - val_mean_squared_error: 0.0241 - val_mean_absolute_error: 0.1287\n",
            "Epoch 38/200\n",
            "8/8 [==============================] - 0s 7ms/step - loss: 0.0057 - mean_squared_error: 0.0057 - mean_absolute_error: 0.0617 - val_loss: 0.0241 - val_mean_squared_error: 0.0241 - val_mean_absolute_error: 0.1286\n",
            "Epoch 39/200\n",
            "8/8 [==============================] - 0s 9ms/step - loss: 0.0056 - mean_squared_error: 0.0056 - mean_absolute_error: 0.0611 - val_loss: 0.0240 - val_mean_squared_error: 0.0240 - val_mean_absolute_error: 0.1285\n",
            "Epoch 40/200\n",
            "8/8 [==============================] - 0s 9ms/step - loss: 0.0052 - mean_squared_error: 0.0052 - mean_absolute_error: 0.0595 - val_loss: 0.0240 - val_mean_squared_error: 0.0240 - val_mean_absolute_error: 0.1284\n",
            "Epoch 41/200\n",
            "8/8 [==============================] - 0s 7ms/step - loss: 0.0053 - mean_squared_error: 0.0053 - mean_absolute_error: 0.0599 - val_loss: 0.0240 - val_mean_squared_error: 0.0240 - val_mean_absolute_error: 0.1283\n",
            "Epoch 42/200\n",
            "8/8 [==============================] - 0s 10ms/step - loss: 0.0048 - mean_squared_error: 0.0048 - mean_absolute_error: 0.0570 - val_loss: 0.0239 - val_mean_squared_error: 0.0239 - val_mean_absolute_error: 0.1282\n",
            "Epoch 43/200\n",
            "8/8 [==============================] - 0s 8ms/step - loss: 0.0048 - mean_squared_error: 0.0048 - mean_absolute_error: 0.0566 - val_loss: 0.0239 - val_mean_squared_error: 0.0239 - val_mean_absolute_error: 0.1280\n",
            "Epoch 44/200\n",
            "8/8 [==============================] - 0s 10ms/step - loss: 0.0049 - mean_squared_error: 0.0049 - mean_absolute_error: 0.0571 - val_loss: 0.0238 - val_mean_squared_error: 0.0238 - val_mean_absolute_error: 0.1279\n",
            "Epoch 45/200\n",
            "8/8 [==============================] - 0s 8ms/step - loss: 0.0046 - mean_squared_error: 0.0046 - mean_absolute_error: 0.0553 - val_loss: 0.0238 - val_mean_squared_error: 0.0238 - val_mean_absolute_error: 0.1278\n",
            "Epoch 46/200\n",
            "8/8 [==============================] - 0s 7ms/step - loss: 0.0047 - mean_squared_error: 0.0047 - mean_absolute_error: 0.0562 - val_loss: 0.0238 - val_mean_squared_error: 0.0238 - val_mean_absolute_error: 0.1277\n",
            "Epoch 47/200\n",
            "8/8 [==============================] - 0s 8ms/step - loss: 0.0044 - mean_squared_error: 0.0044 - mean_absolute_error: 0.0541 - val_loss: 0.0238 - val_mean_squared_error: 0.0238 - val_mean_absolute_error: 0.1276\n",
            "Epoch 48/200\n",
            "8/8 [==============================] - 0s 8ms/step - loss: 0.0046 - mean_squared_error: 0.0046 - mean_absolute_error: 0.0543 - val_loss: 0.0238 - val_mean_squared_error: 0.0238 - val_mean_absolute_error: 0.1276\n",
            "Epoch 49/200\n",
            "8/8 [==============================] - 0s 8ms/step - loss: 0.0042 - mean_squared_error: 0.0042 - mean_absolute_error: 0.0529 - val_loss: 0.0237 - val_mean_squared_error: 0.0237 - val_mean_absolute_error: 0.1275\n",
            "Epoch 50/200\n",
            "8/8 [==============================] - 0s 8ms/step - loss: 0.0043 - mean_squared_error: 0.0043 - mean_absolute_error: 0.0534 - val_loss: 0.0237 - val_mean_squared_error: 0.0237 - val_mean_absolute_error: 0.1274\n",
            "Epoch 51/200\n",
            "8/8 [==============================] - 0s 12ms/step - loss: 0.0042 - mean_squared_error: 0.0042 - mean_absolute_error: 0.0520 - val_loss: 0.0237 - val_mean_squared_error: 0.0237 - val_mean_absolute_error: 0.1273\n",
            "Epoch 52/200\n",
            "8/8 [==============================] - 0s 8ms/step - loss: 0.0041 - mean_squared_error: 0.0041 - mean_absolute_error: 0.0515 - val_loss: 0.0237 - val_mean_squared_error: 0.0237 - val_mean_absolute_error: 0.1272\n",
            "Epoch 53/200\n",
            "8/8 [==============================] - 0s 8ms/step - loss: 0.0042 - mean_squared_error: 0.0042 - mean_absolute_error: 0.0517 - val_loss: 0.0237 - val_mean_squared_error: 0.0237 - val_mean_absolute_error: 0.1272\n",
            "Epoch 54/200\n",
            "8/8 [==============================] - 0s 10ms/step - loss: 0.0038 - mean_squared_error: 0.0038 - mean_absolute_error: 0.0496 - val_loss: 0.0237 - val_mean_squared_error: 0.0237 - val_mean_absolute_error: 0.1271\n",
            "Epoch 55/200\n",
            "8/8 [==============================] - 0s 9ms/step - loss: 0.0040 - mean_squared_error: 0.0040 - mean_absolute_error: 0.0505 - val_loss: 0.0237 - val_mean_squared_error: 0.0237 - val_mean_absolute_error: 0.1271\n",
            "Epoch 56/200\n",
            "8/8 [==============================] - 0s 7ms/step - loss: 0.0038 - mean_squared_error: 0.0038 - mean_absolute_error: 0.0496 - val_loss: 0.0236 - val_mean_squared_error: 0.0236 - val_mean_absolute_error: 0.1271\n",
            "Epoch 57/200\n",
            "8/8 [==============================] - 0s 9ms/step - loss: 0.0039 - mean_squared_error: 0.0039 - mean_absolute_error: 0.0497 - val_loss: 0.0236 - val_mean_squared_error: 0.0236 - val_mean_absolute_error: 0.1270\n",
            "Epoch 58/200\n",
            "8/8 [==============================] - 0s 7ms/step - loss: 0.0038 - mean_squared_error: 0.0038 - mean_absolute_error: 0.0493 - val_loss: 0.0236 - val_mean_squared_error: 0.0236 - val_mean_absolute_error: 0.1270\n",
            "Epoch 59/200\n",
            "8/8 [==============================] - 0s 7ms/step - loss: 0.0036 - mean_squared_error: 0.0036 - mean_absolute_error: 0.0473 - val_loss: 0.0236 - val_mean_squared_error: 0.0236 - val_mean_absolute_error: 0.1269\n",
            "Epoch 60/200\n",
            "8/8 [==============================] - 0s 8ms/step - loss: 0.0036 - mean_squared_error: 0.0036 - mean_absolute_error: 0.0465 - val_loss: 0.0236 - val_mean_squared_error: 0.0236 - val_mean_absolute_error: 0.1269\n",
            "Epoch 61/200\n",
            "8/8 [==============================] - 0s 8ms/step - loss: 0.0034 - mean_squared_error: 0.0034 - mean_absolute_error: 0.0453 - val_loss: 0.0236 - val_mean_squared_error: 0.0236 - val_mean_absolute_error: 0.1269\n",
            "Epoch 62/200\n",
            "8/8 [==============================] - 0s 9ms/step - loss: 0.0036 - mean_squared_error: 0.0036 - mean_absolute_error: 0.0463 - val_loss: 0.0236 - val_mean_squared_error: 0.0236 - val_mean_absolute_error: 0.1269\n",
            "Epoch 63/200\n",
            "8/8 [==============================] - 0s 7ms/step - loss: 0.0034 - mean_squared_error: 0.0034 - mean_absolute_error: 0.0456 - val_loss: 0.0236 - val_mean_squared_error: 0.0236 - val_mean_absolute_error: 0.1269\n",
            "Epoch 64/200\n",
            "8/8 [==============================] - 0s 7ms/step - loss: 0.0033 - mean_squared_error: 0.0033 - mean_absolute_error: 0.0453 - val_loss: 0.0236 - val_mean_squared_error: 0.0236 - val_mean_absolute_error: 0.1269\n",
            "Epoch 65/200\n",
            "8/8 [==============================] - 0s 7ms/step - loss: 0.0033 - mean_squared_error: 0.0033 - mean_absolute_error: 0.0452 - val_loss: 0.0236 - val_mean_squared_error: 0.0236 - val_mean_absolute_error: 0.1269\n",
            "Epoch 66/200\n",
            "8/8 [==============================] - 0s 9ms/step - loss: 0.0033 - mean_squared_error: 0.0033 - mean_absolute_error: 0.0449 - val_loss: 0.0236 - val_mean_squared_error: 0.0236 - val_mean_absolute_error: 0.1269\n",
            "Epoch 67/200\n",
            "8/8 [==============================] - 0s 7ms/step - loss: 0.0033 - mean_squared_error: 0.0033 - mean_absolute_error: 0.0453 - val_loss: 0.0236 - val_mean_squared_error: 0.0236 - val_mean_absolute_error: 0.1269\n",
            "Epoch 68/200\n",
            "8/8 [==============================] - 0s 10ms/step - loss: 0.0034 - mean_squared_error: 0.0034 - mean_absolute_error: 0.0456 - val_loss: 0.0236 - val_mean_squared_error: 0.0236 - val_mean_absolute_error: 0.1269\n",
            "Epoch 69/200\n",
            "8/8 [==============================] - 0s 7ms/step - loss: 0.0033 - mean_squared_error: 0.0033 - mean_absolute_error: 0.0449 - val_loss: 0.0236 - val_mean_squared_error: 0.0236 - val_mean_absolute_error: 0.1269\n",
            "Epoch 70/200\n",
            "8/8 [==============================] - 0s 8ms/step - loss: 0.0032 - mean_squared_error: 0.0032 - mean_absolute_error: 0.0447 - val_loss: 0.0236 - val_mean_squared_error: 0.0236 - val_mean_absolute_error: 0.1269\n",
            "Epoch 71/200\n",
            "8/8 [==============================] - 0s 7ms/step - loss: 0.0033 - mean_squared_error: 0.0033 - mean_absolute_error: 0.0454 - val_loss: 0.0236 - val_mean_squared_error: 0.0236 - val_mean_absolute_error: 0.1269\n",
            "Epoch 72/200\n",
            "8/8 [==============================] - 0s 6ms/step - loss: 0.0031 - mean_squared_error: 0.0031 - mean_absolute_error: 0.0434 - val_loss: 0.0236 - val_mean_squared_error: 0.0236 - val_mean_absolute_error: 0.1269\n",
            "Epoch 73/200\n",
            "8/8 [==============================] - 0s 8ms/step - loss: 0.0031 - mean_squared_error: 0.0031 - mean_absolute_error: 0.0431 - val_loss: 0.0236 - val_mean_squared_error: 0.0236 - val_mean_absolute_error: 0.1269\n",
            "Epoch 74/200\n",
            "8/8 [==============================] - 0s 8ms/step - loss: 0.0031 - mean_squared_error: 0.0031 - mean_absolute_error: 0.0434 - val_loss: 0.0236 - val_mean_squared_error: 0.0236 - val_mean_absolute_error: 0.1269\n",
            "Epoch 75/200\n",
            "8/8 [==============================] - 0s 8ms/step - loss: 0.0031 - mean_squared_error: 0.0031 - mean_absolute_error: 0.0440 - val_loss: 0.0236 - val_mean_squared_error: 0.0236 - val_mean_absolute_error: 0.1269\n",
            "Epoch 76/200\n",
            "8/8 [==============================] - 0s 7ms/step - loss: 0.0027 - mean_squared_error: 0.0027 - mean_absolute_error: 0.0407 - val_loss: 0.0236 - val_mean_squared_error: 0.0236 - val_mean_absolute_error: 0.1269\n",
            "Epoch 77/200\n",
            "8/8 [==============================] - 0s 7ms/step - loss: 0.0034 - mean_squared_error: 0.0034 - mean_absolute_error: 0.0451 - val_loss: 0.0236 - val_mean_squared_error: 0.0236 - val_mean_absolute_error: 0.1269\n",
            "Epoch 78/200\n",
            "8/8 [==============================] - 0s 8ms/step - loss: 0.0031 - mean_squared_error: 0.0031 - mean_absolute_error: 0.0433 - val_loss: 0.0236 - val_mean_squared_error: 0.0236 - val_mean_absolute_error: 0.1269\n",
            "Epoch 79/200\n",
            "8/8 [==============================] - 0s 8ms/step - loss: 0.0030 - mean_squared_error: 0.0030 - mean_absolute_error: 0.0424 - val_loss: 0.0236 - val_mean_squared_error: 0.0236 - val_mean_absolute_error: 0.1269\n",
            "Epoch 80/200\n",
            "8/8 [==============================] - 0s 8ms/step - loss: 0.0030 - mean_squared_error: 0.0030 - mean_absolute_error: 0.0423 - val_loss: 0.0236 - val_mean_squared_error: 0.0236 - val_mean_absolute_error: 0.1269\n",
            "Epoch 81/200\n",
            "8/8 [==============================] - 0s 8ms/step - loss: 0.0031 - mean_squared_error: 0.0031 - mean_absolute_error: 0.0437 - val_loss: 0.0235 - val_mean_squared_error: 0.0235 - val_mean_absolute_error: 0.1269\n",
            "Epoch 82/200\n",
            "8/8 [==============================] - 0s 8ms/step - loss: 0.0029 - mean_squared_error: 0.0029 - mean_absolute_error: 0.0412 - val_loss: 0.0235 - val_mean_squared_error: 0.0235 - val_mean_absolute_error: 0.1269\n",
            "Epoch 83/200\n",
            "8/8 [==============================] - 0s 7ms/step - loss: 0.0029 - mean_squared_error: 0.0029 - mean_absolute_error: 0.0421 - val_loss: 0.0235 - val_mean_squared_error: 0.0235 - val_mean_absolute_error: 0.1269\n",
            "Epoch 84/200\n",
            "8/8 [==============================] - 0s 7ms/step - loss: 0.0027 - mean_squared_error: 0.0027 - mean_absolute_error: 0.0405 - val_loss: 0.0235 - val_mean_squared_error: 0.0235 - val_mean_absolute_error: 0.1269\n",
            "Epoch 85/200\n",
            "8/8 [==============================] - 0s 9ms/step - loss: 0.0027 - mean_squared_error: 0.0027 - mean_absolute_error: 0.0401 - val_loss: 0.0235 - val_mean_squared_error: 0.0235 - val_mean_absolute_error: 0.1269\n",
            "Epoch 86/200\n",
            "8/8 [==============================] - 0s 7ms/step - loss: 0.0028 - mean_squared_error: 0.0028 - mean_absolute_error: 0.0404 - val_loss: 0.0235 - val_mean_squared_error: 0.0235 - val_mean_absolute_error: 0.1269\n",
            "Epoch 87/200\n",
            "8/8 [==============================] - 0s 7ms/step - loss: 0.0028 - mean_squared_error: 0.0028 - mean_absolute_error: 0.0406 - val_loss: 0.0235 - val_mean_squared_error: 0.0235 - val_mean_absolute_error: 0.1269\n",
            "Epoch 88/200\n",
            "8/8 [==============================] - 0s 8ms/step - loss: 0.0026 - mean_squared_error: 0.0026 - mean_absolute_error: 0.0388 - val_loss: 0.0235 - val_mean_squared_error: 0.0235 - val_mean_absolute_error: 0.1269\n",
            "Epoch 89/200\n",
            "8/8 [==============================] - 0s 7ms/step - loss: 0.0029 - mean_squared_error: 0.0029 - mean_absolute_error: 0.0415 - val_loss: 0.0235 - val_mean_squared_error: 0.0235 - val_mean_absolute_error: 0.1269\n",
            "Epoch 90/200\n",
            "8/8 [==============================] - 0s 8ms/step - loss: 0.0030 - mean_squared_error: 0.0030 - mean_absolute_error: 0.0422 - val_loss: 0.0235 - val_mean_squared_error: 0.0235 - val_mean_absolute_error: 0.1269\n",
            "Epoch 91/200\n",
            "8/8 [==============================] - 0s 6ms/step - loss: 0.0030 - mean_squared_error: 0.0030 - mean_absolute_error: 0.0426 - val_loss: 0.0235 - val_mean_squared_error: 0.0235 - val_mean_absolute_error: 0.1269\n",
            "Epoch 92/200\n",
            "8/8 [==============================] - 0s 11ms/step - loss: 0.0029 - mean_squared_error: 0.0029 - mean_absolute_error: 0.0413 - val_loss: 0.0235 - val_mean_squared_error: 0.0235 - val_mean_absolute_error: 0.1269\n",
            "Epoch 93/200\n",
            "8/8 [==============================] - 0s 8ms/step - loss: 0.0029 - mean_squared_error: 0.0029 - mean_absolute_error: 0.0415 - val_loss: 0.0235 - val_mean_squared_error: 0.0235 - val_mean_absolute_error: 0.1269\n",
            "Epoch 94/200\n",
            "8/8 [==============================] - 0s 8ms/step - loss: 0.0028 - mean_squared_error: 0.0028 - mean_absolute_error: 0.0398 - val_loss: 0.0235 - val_mean_squared_error: 0.0235 - val_mean_absolute_error: 0.1270\n",
            "Epoch 95/200\n",
            "8/8 [==============================] - 0s 7ms/step - loss: 0.0028 - mean_squared_error: 0.0028 - mean_absolute_error: 0.0409 - val_loss: 0.0235 - val_mean_squared_error: 0.0235 - val_mean_absolute_error: 0.1270\n",
            "Epoch 96/200\n",
            "8/8 [==============================] - 0s 9ms/step - loss: 0.0027 - mean_squared_error: 0.0027 - mean_absolute_error: 0.0399 - val_loss: 0.0235 - val_mean_squared_error: 0.0235 - val_mean_absolute_error: 0.1270\n",
            "Epoch 97/200\n",
            "8/8 [==============================] - 0s 7ms/step - loss: 0.0028 - mean_squared_error: 0.0028 - mean_absolute_error: 0.0413 - val_loss: 0.0235 - val_mean_squared_error: 0.0235 - val_mean_absolute_error: 0.1269\n",
            "Epoch 98/200\n",
            "8/8 [==============================] - 0s 9ms/step - loss: 0.0028 - mean_squared_error: 0.0028 - mean_absolute_error: 0.0410 - val_loss: 0.0235 - val_mean_squared_error: 0.0235 - val_mean_absolute_error: 0.1269\n"
          ],
          "name": "stdout"
        },
        {
          "output_type": "display_data",
          "data": {
            "text/html": [
              "<br/>Waiting for W&B process to finish, PID 7984<br/>Program ended successfully."
            ],
            "text/plain": [
              "<IPython.core.display.HTML object>"
            ]
          },
          "metadata": {
            "tags": []
          }
        },
        {
          "output_type": "display_data",
          "data": {
            "application/vnd.jupyter.widget-view+json": {
              "model_id": "ba9c19cfc6284e79b95a74f29021ba5c",
              "version_minor": 0,
              "version_major": 2
            },
            "text/plain": [
              "VBox(children=(Label(value=' 7.80MB of 7.80MB uploaded (0.00MB deduped)\\r'), FloatProgress(value=1.0, max=1.0)…"
            ]
          },
          "metadata": {
            "tags": []
          }
        },
        {
          "output_type": "display_data",
          "data": {
            "text/html": [
              "Find user logs for this run at: <code>/content/feeder_repo/wandb/run-20210721_164638-r77x0d9f/logs/debug.log</code>"
            ],
            "text/plain": [
              "<IPython.core.display.HTML object>"
            ]
          },
          "metadata": {
            "tags": []
          }
        },
        {
          "output_type": "display_data",
          "data": {
            "text/html": [
              "Find internal logs for this run at: <code>/content/feeder_repo/wandb/run-20210721_164638-r77x0d9f/logs/debug-internal.log</code>"
            ],
            "text/plain": [
              "<IPython.core.display.HTML object>"
            ]
          },
          "metadata": {
            "tags": []
          }
        },
        {
          "output_type": "display_data",
          "data": {
            "text/html": [
              "<h3>Run summary:</h3><br/><style>\n",
              "    table.wandb td:nth-child(1) { padding: 0 10px; text-align: right }\n",
              "    </style><table class=\"wandb\">\n",
              "<tr><td>epoch</td><td>97</td></tr><tr><td>loss</td><td>0.00277</td></tr><tr><td>mean_squared_error</td><td>0.00277</td></tr><tr><td>mean_absolute_error</td><td>0.04042</td></tr><tr><td>val_loss</td><td>0.0235</td></tr><tr><td>val_mean_squared_error</td><td>0.0235</td></tr><tr><td>val_mean_absolute_error</td><td>0.1269</td></tr><tr><td>_runtime</td><td>17</td></tr><tr><td>_timestamp</td><td>1626886015</td></tr><tr><td>_step</td><td>97</td></tr><tr><td>best_val_loss</td><td>0.0235</td></tr><tr><td>best_epoch</td><td>87</td></tr></table>"
            ],
            "text/plain": [
              "<IPython.core.display.HTML object>"
            ]
          },
          "metadata": {
            "tags": []
          }
        },
        {
          "output_type": "display_data",
          "data": {
            "text/html": [
              "<h3>Run history:</h3><br/><style>\n",
              "    table.wandb td:nth-child(1) { padding: 0 10px; text-align: right }\n",
              "    </style><table class=\"wandb\">\n",
              "<tr><td>epoch</td><td>▁▁▁▂▂▂▂▂▂▃▃▃▃▃▃▄▄▄▄▄▅▅▅▅▅▅▆▆▆▆▆▇▇▇▇▇▇███</td></tr><tr><td>loss</td><td>█▅▃▂▁▁▁▁▁▁▁▁▁▁▁▁▁▁▁▁▁▁▁▁▁▁▁▁▁▁▁▁▁▁▁▁▁▁▁▁</td></tr><tr><td>mean_squared_error</td><td>█▅▃▂▁▁▁▁▁▁▁▁▁▁▁▁▁▁▁▁▁▁▁▁▁▁▁▁▁▁▁▁▁▁▁▁▁▁▁▁</td></tr><tr><td>mean_absolute_error</td><td>█▆▄▃▂▂▂▂▂▂▂▂▂▂▂▁▁▁▁▁▁▁▁▁▁▁▁▁▁▁▁▁▁▁▁▁▁▁▁▁</td></tr><tr><td>val_loss</td><td>█▄▂▁▁▁▁▁▁▁▁▁▁▁▁▁▁▁▁▁▁▁▁▁▁▁▁▁▁▁▁▁▁▁▁▁▁▁▁▁</td></tr><tr><td>val_mean_squared_error</td><td>█▄▂▁▁▁▁▁▁▁▁▁▁▁▁▁▁▁▁▁▁▁▁▁▁▁▁▁▁▁▁▁▁▁▁▁▁▁▁▁</td></tr><tr><td>val_mean_absolute_error</td><td>█▅▂▁▁▁▁▁▁▁▁▁▁▁▁▁▁▁▁▁▁▁▁▁▁▁▁▁▁▁▁▁▁▁▁▁▁▁▁▁</td></tr><tr><td>_runtime</td><td>▁▁▂▂▂▂▂▂▂▃▃▃▃▄▄▄▅▅▅▅▅▅▅▆▆▆▆▇▇▇▇▇▇▇▇█████</td></tr><tr><td>_timestamp</td><td>▁▁▂▂▂▂▂▂▂▃▃▃▃▄▄▄▅▅▅▅▅▅▅▆▆▆▆▇▇▇▇▇▇▇▇█████</td></tr><tr><td>_step</td><td>▁▁▁▂▂▂▂▂▂▃▃▃▃▃▃▄▄▄▄▄▅▅▅▅▅▅▆▆▆▆▆▇▇▇▇▇▇███</td></tr></table><br/>"
            ],
            "text/plain": [
              "<IPython.core.display.HTML object>"
            ]
          },
          "metadata": {
            "tags": []
          }
        },
        {
          "output_type": "display_data",
          "data": {
            "text/html": [
              "Synced 5 W&B file(s), 1 media file(s), 2 artifact file(s) and 2 other file(s)"
            ],
            "text/plain": [
              "<IPython.core.display.HTML object>"
            ]
          },
          "metadata": {
            "tags": []
          }
        },
        {
          "output_type": "display_data",
          "data": {
            "text/html": [
              "\n",
              "                    <br/>Synced <strong style=\"color:#cdcd00\">golden-sweep-30</strong>: <a href=\"https://wandb.ai/acse-jaq15/ACSE_9_CNN_LSTM/runs/r77x0d9f\" target=\"_blank\">https://wandb.ai/acse-jaq15/ACSE_9_CNN_LSTM/runs/r77x0d9f</a><br/>\n",
              "                "
            ],
            "text/plain": [
              "<IPython.core.display.HTML object>"
            ]
          },
          "metadata": {
            "tags": []
          }
        },
        {
          "output_type": "stream",
          "text": [
            "\u001b[34m\u001b[1mwandb\u001b[0m: Agent Starting Run: 9v4c9a6f with config:\n",
            "\u001b[34m\u001b[1mwandb\u001b[0m: \tactivation: relu\n",
            "\u001b[34m\u001b[1mwandb\u001b[0m: \tbatch_size: 128\n",
            "\u001b[34m\u001b[1mwandb\u001b[0m: \tepochs: 200\n",
            "\u001b[34m\u001b[1mwandb\u001b[0m: \tlearning_rate: 0.005\n",
            "\u001b[34m\u001b[1mwandb\u001b[0m: \toptimizer: adam\n"
          ],
          "name": "stderr"
        },
        {
          "output_type": "display_data",
          "data": {
            "text/html": [
              "\n",
              "                Tracking run with wandb version 0.11.0<br/>\n",
              "                Syncing run <strong style=\"color:#cdcd00\">zesty-sweep-31</strong> to <a href=\"https://wandb.ai\" target=\"_blank\">Weights & Biases</a> <a href=\"https://docs.wandb.com/integrations/jupyter.html\" target=\"_blank\">(Documentation)</a>.<br/>\n",
              "                Project page: <a href=\"https://wandb.ai/acse-jaq15/ACSE_9_CNN_LSTM\" target=\"_blank\">https://wandb.ai/acse-jaq15/ACSE_9_CNN_LSTM</a><br/>\n",
              "                Sweep page: <a href=\"https://wandb.ai/acse-jaq15/ACSE_9_CNN_LSTM/sweeps/bpufmj8y\" target=\"_blank\">https://wandb.ai/acse-jaq15/ACSE_9_CNN_LSTM/sweeps/bpufmj8y</a><br/>\n",
              "Run page: <a href=\"https://wandb.ai/acse-jaq15/ACSE_9_CNN_LSTM/runs/9v4c9a6f\" target=\"_blank\">https://wandb.ai/acse-jaq15/ACSE_9_CNN_LSTM/runs/9v4c9a6f</a><br/>\n",
              "                Run data is saved locally in <code>/content/feeder_repo/wandb/run-20210721_164715-9v4c9a6f</code><br/><br/>\n",
              "            "
            ],
            "text/plain": [
              "<IPython.core.display.HTML object>"
            ]
          },
          "metadata": {
            "tags": []
          }
        },
        {
          "output_type": "stream",
          "text": [
            "Epoch 1/200\n",
            "8/8 [==============================] - 4s 124ms/step - loss: 0.0978 - mean_squared_error: 0.0978 - mean_absolute_error: 0.2277 - val_loss: 0.0323 - val_mean_squared_error: 0.0323 - val_mean_absolute_error: 0.1484\n",
            "Epoch 2/200\n",
            "8/8 [==============================] - 0s 8ms/step - loss: 0.0130 - mean_squared_error: 0.0130 - mean_absolute_error: 0.0814 - val_loss: 0.0343 - val_mean_squared_error: 0.0343 - val_mean_absolute_error: 0.1502\n",
            "Epoch 3/200\n",
            "8/8 [==============================] - 0s 7ms/step - loss: 0.0047 - mean_squared_error: 0.0047 - mean_absolute_error: 0.0523 - val_loss: 0.0276 - val_mean_squared_error: 0.0276 - val_mean_absolute_error: 0.1361\n",
            "Epoch 4/200\n",
            "8/8 [==============================] - 0s 7ms/step - loss: 0.0042 - mean_squared_error: 0.0042 - mean_absolute_error: 0.0526 - val_loss: 0.0257 - val_mean_squared_error: 0.0257 - val_mean_absolute_error: 0.1324\n",
            "Epoch 5/200\n",
            "8/8 [==============================] - 0s 10ms/step - loss: 0.0034 - mean_squared_error: 0.0034 - mean_absolute_error: 0.0441 - val_loss: 0.0293 - val_mean_squared_error: 0.0293 - val_mean_absolute_error: 0.1405\n",
            "Epoch 6/200\n",
            "8/8 [==============================] - 0s 7ms/step - loss: 0.0030 - mean_squared_error: 0.0030 - mean_absolute_error: 0.0408 - val_loss: 0.0260 - val_mean_squared_error: 0.0260 - val_mean_absolute_error: 0.1327\n",
            "Epoch 7/200\n",
            "8/8 [==============================] - 0s 9ms/step - loss: 0.0028 - mean_squared_error: 0.0028 - mean_absolute_error: 0.0407 - val_loss: 0.0242 - val_mean_squared_error: 0.0242 - val_mean_absolute_error: 0.1289\n",
            "Epoch 8/200\n",
            "8/8 [==============================] - 0s 13ms/step - loss: 0.0026 - mean_squared_error: 0.0026 - mean_absolute_error: 0.0380 - val_loss: 0.0264 - val_mean_squared_error: 0.0264 - val_mean_absolute_error: 0.1337\n",
            "Epoch 9/200\n",
            "8/8 [==============================] - 0s 11ms/step - loss: 0.0022 - mean_squared_error: 0.0022 - mean_absolute_error: 0.0355 - val_loss: 0.0256 - val_mean_squared_error: 0.0256 - val_mean_absolute_error: 0.1316\n",
            "Epoch 10/200\n",
            "8/8 [==============================] - 0s 7ms/step - loss: 0.0023 - mean_squared_error: 0.0023 - mean_absolute_error: 0.0368 - val_loss: 0.0228 - val_mean_squared_error: 0.0228 - val_mean_absolute_error: 0.1250\n",
            "Epoch 11/200\n",
            "8/8 [==============================] - 0s 8ms/step - loss: 0.0024 - mean_squared_error: 0.0024 - mean_absolute_error: 0.0366 - val_loss: 0.0238 - val_mean_squared_error: 0.0238 - val_mean_absolute_error: 0.1271\n",
            "Epoch 12/200\n",
            "8/8 [==============================] - 0s 8ms/step - loss: 0.0022 - mean_squared_error: 0.0022 - mean_absolute_error: 0.0347 - val_loss: 0.0240 - val_mean_squared_error: 0.0240 - val_mean_absolute_error: 0.1270\n",
            "Epoch 13/200\n",
            "8/8 [==============================] - 0s 7ms/step - loss: 0.0021 - mean_squared_error: 0.0021 - mean_absolute_error: 0.0346 - val_loss: 0.0229 - val_mean_squared_error: 0.0229 - val_mean_absolute_error: 0.1239\n",
            "Epoch 14/200\n",
            "8/8 [==============================] - 0s 8ms/step - loss: 0.0021 - mean_squared_error: 0.0021 - mean_absolute_error: 0.0340 - val_loss: 0.0203 - val_mean_squared_error: 0.0203 - val_mean_absolute_error: 0.1176\n",
            "Epoch 15/200\n",
            "8/8 [==============================] - 0s 7ms/step - loss: 0.0023 - mean_squared_error: 0.0023 - mean_absolute_error: 0.0362 - val_loss: 0.0201 - val_mean_squared_error: 0.0201 - val_mean_absolute_error: 0.1168\n",
            "Epoch 16/200\n",
            "8/8 [==============================] - 0s 8ms/step - loss: 0.0021 - mean_squared_error: 0.0021 - mean_absolute_error: 0.0347 - val_loss: 0.0206 - val_mean_squared_error: 0.0206 - val_mean_absolute_error: 0.1173\n",
            "Epoch 17/200\n",
            "8/8 [==============================] - 0s 9ms/step - loss: 0.0020 - mean_squared_error: 0.0020 - mean_absolute_error: 0.0334 - val_loss: 0.0212 - val_mean_squared_error: 0.0212 - val_mean_absolute_error: 0.1176\n",
            "Epoch 18/200\n",
            "8/8 [==============================] - 0s 7ms/step - loss: 0.0019 - mean_squared_error: 0.0019 - mean_absolute_error: 0.0328 - val_loss: 0.0209 - val_mean_squared_error: 0.0209 - val_mean_absolute_error: 0.1164\n",
            "Epoch 19/200\n",
            "8/8 [==============================] - 0s 8ms/step - loss: 0.0017 - mean_squared_error: 0.0017 - mean_absolute_error: 0.0318 - val_loss: 0.0212 - val_mean_squared_error: 0.0212 - val_mean_absolute_error: 0.1164\n",
            "Epoch 20/200\n",
            "8/8 [==============================] - 0s 7ms/step - loss: 0.0021 - mean_squared_error: 0.0021 - mean_absolute_error: 0.0331 - val_loss: 0.0191 - val_mean_squared_error: 0.0191 - val_mean_absolute_error: 0.1111\n",
            "Epoch 21/200\n",
            "8/8 [==============================] - 0s 8ms/step - loss: 0.0018 - mean_squared_error: 0.0018 - mean_absolute_error: 0.0318 - val_loss: 0.0187 - val_mean_squared_error: 0.0187 - val_mean_absolute_error: 0.1093\n",
            "Epoch 22/200\n",
            "8/8 [==============================] - 0s 7ms/step - loss: 0.0015 - mean_squared_error: 0.0015 - mean_absolute_error: 0.0288 - val_loss: 0.0181 - val_mean_squared_error: 0.0181 - val_mean_absolute_error: 0.1073\n",
            "Epoch 23/200\n",
            "8/8 [==============================] - 0s 8ms/step - loss: 0.0015 - mean_squared_error: 0.0015 - mean_absolute_error: 0.0282 - val_loss: 0.0168 - val_mean_squared_error: 0.0168 - val_mean_absolute_error: 0.1039\n",
            "Epoch 24/200\n",
            "8/8 [==============================] - 0s 7ms/step - loss: 0.0015 - mean_squared_error: 0.0015 - mean_absolute_error: 0.0284 - val_loss: 0.0163 - val_mean_squared_error: 0.0163 - val_mean_absolute_error: 0.1019\n",
            "Epoch 25/200\n",
            "8/8 [==============================] - 0s 9ms/step - loss: 0.0016 - mean_squared_error: 0.0016 - mean_absolute_error: 0.0296 - val_loss: 0.0159 - val_mean_squared_error: 0.0159 - val_mean_absolute_error: 0.1004\n",
            "Epoch 26/200\n",
            "8/8 [==============================] - 0s 8ms/step - loss: 0.0015 - mean_squared_error: 0.0015 - mean_absolute_error: 0.0284 - val_loss: 0.0159 - val_mean_squared_error: 0.0159 - val_mean_absolute_error: 0.1002\n",
            "Epoch 27/200\n",
            "8/8 [==============================] - 0s 11ms/step - loss: 0.0013 - mean_squared_error: 0.0013 - mean_absolute_error: 0.0267 - val_loss: 0.0156 - val_mean_squared_error: 0.0156 - val_mean_absolute_error: 0.0990\n",
            "Epoch 28/200\n",
            "8/8 [==============================] - 0s 9ms/step - loss: 0.0014 - mean_squared_error: 0.0014 - mean_absolute_error: 0.0275 - val_loss: 0.0161 - val_mean_squared_error: 0.0161 - val_mean_absolute_error: 0.1001\n",
            "Epoch 29/200\n",
            "8/8 [==============================] - 0s 8ms/step - loss: 0.0013 - mean_squared_error: 0.0013 - mean_absolute_error: 0.0272 - val_loss: 0.0155 - val_mean_squared_error: 0.0155 - val_mean_absolute_error: 0.0984\n",
            "Epoch 30/200\n",
            "8/8 [==============================] - 0s 8ms/step - loss: 0.0013 - mean_squared_error: 0.0013 - mean_absolute_error: 0.0271 - val_loss: 0.0154 - val_mean_squared_error: 0.0154 - val_mean_absolute_error: 0.0980\n",
            "Epoch 31/200\n",
            "8/8 [==============================] - 0s 7ms/step - loss: 0.0014 - mean_squared_error: 0.0014 - mean_absolute_error: 0.0274 - val_loss: 0.0158 - val_mean_squared_error: 0.0158 - val_mean_absolute_error: 0.0991\n",
            "Epoch 32/200\n",
            "8/8 [==============================] - 0s 8ms/step - loss: 0.0013 - mean_squared_error: 0.0013 - mean_absolute_error: 0.0257 - val_loss: 0.0151 - val_mean_squared_error: 0.0151 - val_mean_absolute_error: 0.0970\n",
            "Epoch 33/200\n",
            "8/8 [==============================] - 0s 11ms/step - loss: 0.0016 - mean_squared_error: 0.0016 - mean_absolute_error: 0.0294 - val_loss: 0.0157 - val_mean_squared_error: 0.0157 - val_mean_absolute_error: 0.0989\n",
            "Epoch 34/200\n",
            "8/8 [==============================] - 0s 8ms/step - loss: 0.0013 - mean_squared_error: 0.0013 - mean_absolute_error: 0.0268 - val_loss: 0.0150 - val_mean_squared_error: 0.0150 - val_mean_absolute_error: 0.0971\n",
            "Epoch 35/200\n",
            "8/8 [==============================] - 0s 8ms/step - loss: 0.0014 - mean_squared_error: 0.0014 - mean_absolute_error: 0.0274 - val_loss: 0.0145 - val_mean_squared_error: 0.0145 - val_mean_absolute_error: 0.0957\n",
            "Epoch 36/200\n",
            "8/8 [==============================] - 0s 8ms/step - loss: 0.0012 - mean_squared_error: 0.0012 - mean_absolute_error: 0.0259 - val_loss: 0.0147 - val_mean_squared_error: 0.0147 - val_mean_absolute_error: 0.0963\n",
            "Epoch 37/200\n",
            "8/8 [==============================] - 0s 7ms/step - loss: 0.0013 - mean_squared_error: 0.0013 - mean_absolute_error: 0.0264 - val_loss: 0.0144 - val_mean_squared_error: 0.0144 - val_mean_absolute_error: 0.0954\n",
            "Epoch 38/200\n",
            "8/8 [==============================] - 0s 9ms/step - loss: 0.0013 - mean_squared_error: 0.0013 - mean_absolute_error: 0.0262 - val_loss: 0.0140 - val_mean_squared_error: 0.0140 - val_mean_absolute_error: 0.0944\n",
            "Epoch 39/200\n",
            "8/8 [==============================] - 0s 7ms/step - loss: 0.0013 - mean_squared_error: 0.0013 - mean_absolute_error: 0.0266 - val_loss: 0.0138 - val_mean_squared_error: 0.0138 - val_mean_absolute_error: 0.0938\n",
            "Epoch 40/200\n",
            "8/8 [==============================] - 0s 8ms/step - loss: 0.0011 - mean_squared_error: 0.0011 - mean_absolute_error: 0.0255 - val_loss: 0.0156 - val_mean_squared_error: 0.0156 - val_mean_absolute_error: 0.0988\n",
            "Epoch 41/200\n",
            "8/8 [==============================] - 0s 8ms/step - loss: 0.0013 - mean_squared_error: 0.0013 - mean_absolute_error: 0.0272 - val_loss: 0.0138 - val_mean_squared_error: 0.0138 - val_mean_absolute_error: 0.0939\n",
            "Epoch 42/200\n",
            "8/8 [==============================] - 0s 7ms/step - loss: 0.0014 - mean_squared_error: 0.0014 - mean_absolute_error: 0.0267 - val_loss: 0.0140 - val_mean_squared_error: 0.0140 - val_mean_absolute_error: 0.0942\n",
            "Epoch 43/200\n",
            "8/8 [==============================] - 0s 9ms/step - loss: 0.0012 - mean_squared_error: 0.0012 - mean_absolute_error: 0.0257 - val_loss: 0.0140 - val_mean_squared_error: 0.0140 - val_mean_absolute_error: 0.0942\n",
            "Epoch 44/200\n",
            "8/8 [==============================] - 0s 9ms/step - loss: 0.0014 - mean_squared_error: 0.0014 - mean_absolute_error: 0.0270 - val_loss: 0.0133 - val_mean_squared_error: 0.0133 - val_mean_absolute_error: 0.0924\n",
            "Epoch 45/200\n",
            "8/8 [==============================] - 0s 7ms/step - loss: 0.0012 - mean_squared_error: 0.0012 - mean_absolute_error: 0.0258 - val_loss: 0.0139 - val_mean_squared_error: 0.0139 - val_mean_absolute_error: 0.0944\n",
            "Epoch 46/200\n",
            "8/8 [==============================] - 0s 10ms/step - loss: 0.0011 - mean_squared_error: 0.0011 - mean_absolute_error: 0.0253 - val_loss: 0.0148 - val_mean_squared_error: 0.0148 - val_mean_absolute_error: 0.0966\n",
            "Epoch 47/200\n",
            "8/8 [==============================] - 0s 7ms/step - loss: 0.0013 - mean_squared_error: 0.0013 - mean_absolute_error: 0.0267 - val_loss: 0.0127 - val_mean_squared_error: 0.0127 - val_mean_absolute_error: 0.0907\n",
            "Epoch 48/200\n",
            "8/8 [==============================] - 0s 7ms/step - loss: 0.0013 - mean_squared_error: 0.0013 - mean_absolute_error: 0.0272 - val_loss: 0.0135 - val_mean_squared_error: 0.0135 - val_mean_absolute_error: 0.0933\n",
            "Epoch 49/200\n",
            "8/8 [==============================] - 0s 8ms/step - loss: 0.0012 - mean_squared_error: 0.0012 - mean_absolute_error: 0.0248 - val_loss: 0.0147 - val_mean_squared_error: 0.0147 - val_mean_absolute_error: 0.0968\n",
            "Epoch 50/200\n",
            "8/8 [==============================] - 0s 7ms/step - loss: 0.0013 - mean_squared_error: 0.0013 - mean_absolute_error: 0.0262 - val_loss: 0.0131 - val_mean_squared_error: 0.0131 - val_mean_absolute_error: 0.0920\n",
            "Epoch 51/200\n",
            "8/8 [==============================] - 0s 8ms/step - loss: 0.0012 - mean_squared_error: 0.0012 - mean_absolute_error: 0.0266 - val_loss: 0.0135 - val_mean_squared_error: 0.0135 - val_mean_absolute_error: 0.0931\n",
            "Epoch 52/200\n",
            "8/8 [==============================] - 0s 6ms/step - loss: 0.0011 - mean_squared_error: 0.0011 - mean_absolute_error: 0.0251 - val_loss: 0.0133 - val_mean_squared_error: 0.0133 - val_mean_absolute_error: 0.0927\n",
            "Epoch 53/200\n",
            "8/8 [==============================] - 0s 9ms/step - loss: 0.0012 - mean_squared_error: 0.0012 - mean_absolute_error: 0.0248 - val_loss: 0.0130 - val_mean_squared_error: 0.0130 - val_mean_absolute_error: 0.0916\n",
            "Epoch 54/200\n",
            "8/8 [==============================] - 0s 8ms/step - loss: 0.0011 - mean_squared_error: 0.0011 - mean_absolute_error: 0.0244 - val_loss: 0.0138 - val_mean_squared_error: 0.0138 - val_mean_absolute_error: 0.0942\n",
            "Epoch 55/200\n",
            "8/8 [==============================] - 0s 8ms/step - loss: 0.0011 - mean_squared_error: 0.0011 - mean_absolute_error: 0.0245 - val_loss: 0.0127 - val_mean_squared_error: 0.0127 - val_mean_absolute_error: 0.0907\n",
            "Epoch 56/200\n",
            "8/8 [==============================] - 0s 9ms/step - loss: 0.0011 - mean_squared_error: 0.0011 - mean_absolute_error: 0.0242 - val_loss: 0.0138 - val_mean_squared_error: 0.0138 - val_mean_absolute_error: 0.0940\n",
            "Epoch 57/200\n",
            "8/8 [==============================] - 0s 7ms/step - loss: 0.0011 - mean_squared_error: 0.0011 - mean_absolute_error: 0.0248 - val_loss: 0.0126 - val_mean_squared_error: 0.0126 - val_mean_absolute_error: 0.0903\n",
            "Epoch 58/200\n",
            "8/8 [==============================] - 0s 8ms/step - loss: 0.0012 - mean_squared_error: 0.0012 - mean_absolute_error: 0.0248 - val_loss: 0.0135 - val_mean_squared_error: 0.0135 - val_mean_absolute_error: 0.0931\n",
            "Epoch 59/200\n",
            "8/8 [==============================] - 0s 11ms/step - loss: 0.0011 - mean_squared_error: 0.0011 - mean_absolute_error: 0.0256 - val_loss: 0.0119 - val_mean_squared_error: 0.0119 - val_mean_absolute_error: 0.0877\n",
            "Epoch 60/200\n",
            "8/8 [==============================] - 0s 10ms/step - loss: 0.0012 - mean_squared_error: 0.0012 - mean_absolute_error: 0.0260 - val_loss: 0.0135 - val_mean_squared_error: 0.0135 - val_mean_absolute_error: 0.0932\n",
            "Epoch 61/200\n",
            "8/8 [==============================] - 0s 11ms/step - loss: 0.0011 - mean_squared_error: 0.0011 - mean_absolute_error: 0.0240 - val_loss: 0.0122 - val_mean_squared_error: 0.0122 - val_mean_absolute_error: 0.0891\n",
            "Epoch 62/200\n",
            "8/8 [==============================] - 0s 7ms/step - loss: 0.0011 - mean_squared_error: 0.0011 - mean_absolute_error: 0.0247 - val_loss: 0.0123 - val_mean_squared_error: 0.0123 - val_mean_absolute_error: 0.0895\n",
            "Epoch 63/200\n",
            "8/8 [==============================] - 0s 7ms/step - loss: 9.6904e-04 - mean_squared_error: 9.6904e-04 - mean_absolute_error: 0.0235 - val_loss: 0.0127 - val_mean_squared_error: 0.0127 - val_mean_absolute_error: 0.0907\n",
            "Epoch 64/200\n",
            "8/8 [==============================] - 0s 7ms/step - loss: 0.0010 - mean_squared_error: 0.0010 - mean_absolute_error: 0.0233 - val_loss: 0.0123 - val_mean_squared_error: 0.0123 - val_mean_absolute_error: 0.0894\n",
            "Epoch 65/200\n",
            "8/8 [==============================] - 0s 7ms/step - loss: 0.0010 - mean_squared_error: 0.0010 - mean_absolute_error: 0.0238 - val_loss: 0.0123 - val_mean_squared_error: 0.0123 - val_mean_absolute_error: 0.0895\n",
            "Epoch 66/200\n",
            "8/8 [==============================] - 0s 6ms/step - loss: 0.0011 - mean_squared_error: 0.0011 - mean_absolute_error: 0.0239 - val_loss: 0.0125 - val_mean_squared_error: 0.0125 - val_mean_absolute_error: 0.0903\n",
            "Epoch 67/200\n",
            "8/8 [==============================] - 0s 8ms/step - loss: 9.9664e-04 - mean_squared_error: 9.9664e-04 - mean_absolute_error: 0.0236 - val_loss: 0.0125 - val_mean_squared_error: 0.0125 - val_mean_absolute_error: 0.0903\n",
            "Epoch 68/200\n",
            "8/8 [==============================] - 0s 7ms/step - loss: 0.0011 - mean_squared_error: 0.0011 - mean_absolute_error: 0.0246 - val_loss: 0.0138 - val_mean_squared_error: 0.0138 - val_mean_absolute_error: 0.0940\n",
            "Epoch 69/200\n",
            "8/8 [==============================] - 0s 9ms/step - loss: 0.0011 - mean_squared_error: 0.0011 - mean_absolute_error: 0.0249 - val_loss: 0.0116 - val_mean_squared_error: 0.0116 - val_mean_absolute_error: 0.0867\n",
            "Epoch 70/200\n",
            "8/8 [==============================] - 0s 8ms/step - loss: 9.9235e-04 - mean_squared_error: 9.9235e-04 - mean_absolute_error: 0.0234 - val_loss: 0.0122 - val_mean_squared_error: 0.0122 - val_mean_absolute_error: 0.0891\n",
            "Epoch 71/200\n",
            "8/8 [==============================] - 0s 7ms/step - loss: 0.0011 - mean_squared_error: 0.0011 - mean_absolute_error: 0.0246 - val_loss: 0.0125 - val_mean_squared_error: 0.0125 - val_mean_absolute_error: 0.0902\n",
            "Epoch 72/200\n",
            "8/8 [==============================] - 0s 9ms/step - loss: 9.5169e-04 - mean_squared_error: 9.5169e-04 - mean_absolute_error: 0.0229 - val_loss: 0.0125 - val_mean_squared_error: 0.0125 - val_mean_absolute_error: 0.0900\n",
            "Epoch 73/200\n",
            "8/8 [==============================] - 0s 7ms/step - loss: 0.0010 - mean_squared_error: 0.0010 - mean_absolute_error: 0.0236 - val_loss: 0.0113 - val_mean_squared_error: 0.0113 - val_mean_absolute_error: 0.0859\n",
            "Epoch 74/200\n",
            "8/8 [==============================] - 0s 8ms/step - loss: 0.0011 - mean_squared_error: 0.0011 - mean_absolute_error: 0.0253 - val_loss: 0.0120 - val_mean_squared_error: 0.0120 - val_mean_absolute_error: 0.0881\n",
            "Epoch 75/200\n",
            "8/8 [==============================] - 0s 8ms/step - loss: 0.0011 - mean_squared_error: 0.0011 - mean_absolute_error: 0.0244 - val_loss: 0.0128 - val_mean_squared_error: 0.0128 - val_mean_absolute_error: 0.0910\n",
            "Epoch 76/200\n",
            "8/8 [==============================] - 0s 7ms/step - loss: 0.0010 - mean_squared_error: 0.0010 - mean_absolute_error: 0.0235 - val_loss: 0.0114 - val_mean_squared_error: 0.0114 - val_mean_absolute_error: 0.0863\n",
            "Epoch 77/200\n",
            "8/8 [==============================] - 0s 7ms/step - loss: 0.0011 - mean_squared_error: 0.0011 - mean_absolute_error: 0.0238 - val_loss: 0.0142 - val_mean_squared_error: 0.0142 - val_mean_absolute_error: 0.0947\n",
            "Epoch 78/200\n",
            "8/8 [==============================] - 0s 7ms/step - loss: 0.0011 - mean_squared_error: 0.0011 - mean_absolute_error: 0.0255 - val_loss: 0.0123 - val_mean_squared_error: 0.0123 - val_mean_absolute_error: 0.0893\n",
            "Epoch 79/200\n",
            "8/8 [==============================] - 0s 8ms/step - loss: 9.4548e-04 - mean_squared_error: 9.4548e-04 - mean_absolute_error: 0.0224 - val_loss: 0.0122 - val_mean_squared_error: 0.0122 - val_mean_absolute_error: 0.0890\n",
            "Epoch 80/200\n",
            "8/8 [==============================] - 0s 8ms/step - loss: 0.0011 - mean_squared_error: 0.0011 - mean_absolute_error: 0.0237 - val_loss: 0.0128 - val_mean_squared_error: 0.0128 - val_mean_absolute_error: 0.0907\n",
            "Epoch 81/200\n",
            "8/8 [==============================] - 0s 7ms/step - loss: 9.5432e-04 - mean_squared_error: 9.5432e-04 - mean_absolute_error: 0.0232 - val_loss: 0.0113 - val_mean_squared_error: 0.0113 - val_mean_absolute_error: 0.0859\n",
            "Epoch 82/200\n",
            "8/8 [==============================] - 0s 8ms/step - loss: 0.0011 - mean_squared_error: 0.0011 - mean_absolute_error: 0.0246 - val_loss: 0.0127 - val_mean_squared_error: 0.0127 - val_mean_absolute_error: 0.0905\n",
            "Epoch 83/200\n",
            "8/8 [==============================] - 0s 9ms/step - loss: 9.5190e-04 - mean_squared_error: 9.5190e-04 - mean_absolute_error: 0.0229 - val_loss: 0.0114 - val_mean_squared_error: 0.0114 - val_mean_absolute_error: 0.0862\n",
            "Epoch 84/200\n",
            "8/8 [==============================] - 0s 10ms/step - loss: 0.0011 - mean_squared_error: 0.0011 - mean_absolute_error: 0.0245 - val_loss: 0.0116 - val_mean_squared_error: 0.0116 - val_mean_absolute_error: 0.0866\n",
            "Epoch 85/200\n",
            "8/8 [==============================] - 0s 11ms/step - loss: 9.0119e-04 - mean_squared_error: 9.0119e-04 - mean_absolute_error: 0.0227 - val_loss: 0.0125 - val_mean_squared_error: 0.0125 - val_mean_absolute_error: 0.0898\n",
            "Epoch 86/200\n",
            "8/8 [==============================] - 0s 9ms/step - loss: 9.6931e-04 - mean_squared_error: 9.6931e-04 - mean_absolute_error: 0.0225 - val_loss: 0.0120 - val_mean_squared_error: 0.0120 - val_mean_absolute_error: 0.0883\n",
            "Epoch 87/200\n",
            "8/8 [==============================] - 0s 7ms/step - loss: 9.1200e-04 - mean_squared_error: 9.1200e-04 - mean_absolute_error: 0.0227 - val_loss: 0.0117 - val_mean_squared_error: 0.0117 - val_mean_absolute_error: 0.0870\n",
            "Epoch 88/200\n",
            "8/8 [==============================] - 0s 7ms/step - loss: 8.4198e-04 - mean_squared_error: 8.4198e-04 - mean_absolute_error: 0.0221 - val_loss: 0.0113 - val_mean_squared_error: 0.0113 - val_mean_absolute_error: 0.0860\n",
            "Epoch 89/200\n",
            "8/8 [==============================] - 0s 7ms/step - loss: 9.5267e-04 - mean_squared_error: 9.5267e-04 - mean_absolute_error: 0.0226 - val_loss: 0.0115 - val_mean_squared_error: 0.0115 - val_mean_absolute_error: 0.0865\n",
            "Epoch 90/200\n",
            "8/8 [==============================] - 0s 7ms/step - loss: 9.1652e-04 - mean_squared_error: 9.1652e-04 - mean_absolute_error: 0.0227 - val_loss: 0.0114 - val_mean_squared_error: 0.0114 - val_mean_absolute_error: 0.0864\n",
            "Epoch 91/200\n",
            "8/8 [==============================] - 0s 9ms/step - loss: 9.6961e-04 - mean_squared_error: 9.6961e-04 - mean_absolute_error: 0.0232 - val_loss: 0.0122 - val_mean_squared_error: 0.0122 - val_mean_absolute_error: 0.0889\n"
          ],
          "name": "stdout"
        },
        {
          "output_type": "display_data",
          "data": {
            "text/html": [
              "<br/>Waiting for W&B process to finish, PID 8335<br/>Program ended successfully."
            ],
            "text/plain": [
              "<IPython.core.display.HTML object>"
            ]
          },
          "metadata": {
            "tags": []
          }
        },
        {
          "output_type": "display_data",
          "data": {
            "application/vnd.jupyter.widget-view+json": {
              "model_id": "23e1fbbdfde04523bcf36ff8112f7771",
              "version_minor": 0,
              "version_major": 2
            },
            "text/plain": [
              "VBox(children=(Label(value=' 11.59MB of 11.59MB uploaded (0.00MB deduped)\\r'), FloatProgress(value=1.0, max=1.…"
            ]
          },
          "metadata": {
            "tags": []
          }
        },
        {
          "output_type": "display_data",
          "data": {
            "text/html": [
              "Find user logs for this run at: <code>/content/feeder_repo/wandb/run-20210721_164715-9v4c9a6f/logs/debug.log</code>"
            ],
            "text/plain": [
              "<IPython.core.display.HTML object>"
            ]
          },
          "metadata": {
            "tags": []
          }
        },
        {
          "output_type": "display_data",
          "data": {
            "text/html": [
              "Find internal logs for this run at: <code>/content/feeder_repo/wandb/run-20210721_164715-9v4c9a6f/logs/debug-internal.log</code>"
            ],
            "text/plain": [
              "<IPython.core.display.HTML object>"
            ]
          },
          "metadata": {
            "tags": []
          }
        },
        {
          "output_type": "display_data",
          "data": {
            "text/html": [
              "<h3>Run summary:</h3><br/><style>\n",
              "    table.wandb td:nth-child(1) { padding: 0 10px; text-align: right }\n",
              "    </style><table class=\"wandb\">\n",
              "<tr><td>epoch</td><td>90</td></tr><tr><td>loss</td><td>0.00095</td></tr><tr><td>mean_squared_error</td><td>0.00095</td></tr><tr><td>mean_absolute_error</td><td>0.02341</td></tr><tr><td>val_loss</td><td>0.01222</td></tr><tr><td>val_mean_squared_error</td><td>0.01222</td></tr><tr><td>val_mean_absolute_error</td><td>0.08889</td></tr><tr><td>_runtime</td><td>16</td></tr><tr><td>_timestamp</td><td>1626886051</td></tr><tr><td>_step</td><td>90</td></tr><tr><td>best_val_loss</td><td>0.01129</td></tr><tr><td>best_epoch</td><td>80</td></tr></table>"
            ],
            "text/plain": [
              "<IPython.core.display.HTML object>"
            ]
          },
          "metadata": {
            "tags": []
          }
        },
        {
          "output_type": "display_data",
          "data": {
            "text/html": [
              "<h3>Run history:</h3><br/><style>\n",
              "    table.wandb td:nth-child(1) { padding: 0 10px; text-align: right }\n",
              "    </style><table class=\"wandb\">\n",
              "<tr><td>epoch</td><td>▁▁▁▁▂▂▂▂▂▃▃▃▃▃▄▄▄▄▄▄▅▅▅▅▅▅▆▆▆▆▆▇▇▇▇▇████</td></tr><tr><td>loss</td><td>█▂▁▁▁▁▁▁▁▁▁▁▁▁▁▁▁▁▁▁▁▁▁▁▁▁▁▁▁▁▁▁▁▁▁▁▁▁▁▁</td></tr><tr><td>mean_squared_error</td><td>█▂▁▁▁▁▁▁▁▁▁▁▁▁▁▁▁▁▁▁▁▁▁▁▁▁▁▁▁▁▁▁▁▁▁▁▁▁▁▁</td></tr><tr><td>mean_absolute_error</td><td>█▃▂▂▂▂▂▂▁▁▁▁▁▁▁▁▁▁▁▁▁▁▁▁▁▁▁▁▁▁▁▁▁▁▁▁▁▁▁▁</td></tr><tr><td>val_loss</td><td>█▆▇▅▅▅▄▄▄▃▃▃▃▂▂▂▂▂▂▂▁▂▂▂▂▂▂▁▁▁▁▁▁▂▁▁▁▁▁▁</td></tr><tr><td>val_mean_squared_error</td><td>█▆▇▅▅▅▄▄▄▃▃▃▃▂▂▂▂▂▂▂▁▂▂▂▂▂▂▁▁▁▁▁▁▂▁▁▁▁▁▁</td></tr><tr><td>val_mean_absolute_error</td><td>█▇▇▆▅▆▅▅▄▄▃▃▃▂▂▂▂▂▂▂▂▂▂▂▂▂▂▂▁▁▁▁▁▂▁▁▁▁▁▁</td></tr><tr><td>_runtime</td><td>▁▁▁▁▂▂▂▂▂▃▃▃▄▄▄▄▅▅▅▅▅▅▅▅▆▆▆▆▆▆▇▇▇▇▇█████</td></tr><tr><td>_timestamp</td><td>▁▁▁▁▂▂▂▂▂▃▃▃▄▄▄▄▅▅▅▅▅▅▅▅▆▆▆▆▆▆▇▇▇▇▇█████</td></tr><tr><td>_step</td><td>▁▁▁▁▂▂▂▂▂▃▃▃▃▃▄▄▄▄▄▄▅▅▅▅▅▅▆▆▆▆▆▇▇▇▇▇████</td></tr></table><br/>"
            ],
            "text/plain": [
              "<IPython.core.display.HTML object>"
            ]
          },
          "metadata": {
            "tags": []
          }
        },
        {
          "output_type": "display_data",
          "data": {
            "text/html": [
              "Synced 5 W&B file(s), 1 media file(s), 2 artifact file(s) and 2 other file(s)"
            ],
            "text/plain": [
              "<IPython.core.display.HTML object>"
            ]
          },
          "metadata": {
            "tags": []
          }
        },
        {
          "output_type": "display_data",
          "data": {
            "text/html": [
              "\n",
              "                    <br/>Synced <strong style=\"color:#cdcd00\">zesty-sweep-31</strong>: <a href=\"https://wandb.ai/acse-jaq15/ACSE_9_CNN_LSTM/runs/9v4c9a6f\" target=\"_blank\">https://wandb.ai/acse-jaq15/ACSE_9_CNN_LSTM/runs/9v4c9a6f</a><br/>\n",
              "                "
            ],
            "text/plain": [
              "<IPython.core.display.HTML object>"
            ]
          },
          "metadata": {
            "tags": []
          }
        },
        {
          "output_type": "stream",
          "text": [
            "\u001b[34m\u001b[1mwandb\u001b[0m: Agent Starting Run: 6jradwxc with config:\n",
            "\u001b[34m\u001b[1mwandb\u001b[0m: \tactivation: relu\n",
            "\u001b[34m\u001b[1mwandb\u001b[0m: \tbatch_size: 32\n",
            "\u001b[34m\u001b[1mwandb\u001b[0m: \tepochs: 50\n",
            "\u001b[34m\u001b[1mwandb\u001b[0m: \tlearning_rate: 0.0005\n",
            "\u001b[34m\u001b[1mwandb\u001b[0m: \toptimizer: nadam\n"
          ],
          "name": "stderr"
        },
        {
          "output_type": "display_data",
          "data": {
            "text/html": [
              "\n",
              "                Tracking run with wandb version 0.11.0<br/>\n",
              "                Syncing run <strong style=\"color:#cdcd00\">worldly-sweep-32</strong> to <a href=\"https://wandb.ai\" target=\"_blank\">Weights & Biases</a> <a href=\"https://docs.wandb.com/integrations/jupyter.html\" target=\"_blank\">(Documentation)</a>.<br/>\n",
              "                Project page: <a href=\"https://wandb.ai/acse-jaq15/ACSE_9_CNN_LSTM\" target=\"_blank\">https://wandb.ai/acse-jaq15/ACSE_9_CNN_LSTM</a><br/>\n",
              "                Sweep page: <a href=\"https://wandb.ai/acse-jaq15/ACSE_9_CNN_LSTM/sweeps/bpufmj8y\" target=\"_blank\">https://wandb.ai/acse-jaq15/ACSE_9_CNN_LSTM/sweeps/bpufmj8y</a><br/>\n",
              "Run page: <a href=\"https://wandb.ai/acse-jaq15/ACSE_9_CNN_LSTM/runs/6jradwxc\" target=\"_blank\">https://wandb.ai/acse-jaq15/ACSE_9_CNN_LSTM/runs/6jradwxc</a><br/>\n",
              "                Run data is saved locally in <code>/content/feeder_repo/wandb/run-20210721_164742-6jradwxc</code><br/><br/>\n",
              "            "
            ],
            "text/plain": [
              "<IPython.core.display.HTML object>"
            ]
          },
          "metadata": {
            "tags": []
          }
        },
        {
          "output_type": "stream",
          "text": [
            "Epoch 1/50\n",
            "31/31 [==============================] - 4s 35ms/step - loss: 0.0722 - mean_squared_error: 0.0722 - mean_absolute_error: 0.1760 - val_loss: 0.0262 - val_mean_squared_error: 0.0262 - val_mean_absolute_error: 0.1346\n",
            "Epoch 2/50\n",
            "31/31 [==============================] - 0s 9ms/step - loss: 0.0028 - mean_squared_error: 0.0028 - mean_absolute_error: 0.0397 - val_loss: 0.0228 - val_mean_squared_error: 0.0228 - val_mean_absolute_error: 0.1257\n",
            "Epoch 3/50\n",
            "31/31 [==============================] - 0s 9ms/step - loss: 0.0022 - mean_squared_error: 0.0022 - mean_absolute_error: 0.0356 - val_loss: 0.0225 - val_mean_squared_error: 0.0225 - val_mean_absolute_error: 0.1238\n",
            "Epoch 4/50\n",
            "31/31 [==============================] - 0s 7ms/step - loss: 0.0021 - mean_squared_error: 0.0021 - mean_absolute_error: 0.0342 - val_loss: 0.0187 - val_mean_squared_error: 0.0187 - val_mean_absolute_error: 0.1127\n",
            "Epoch 5/50\n",
            "31/31 [==============================] - 0s 7ms/step - loss: 0.0018 - mean_squared_error: 0.0018 - mean_absolute_error: 0.0311 - val_loss: 0.0157 - val_mean_squared_error: 0.0157 - val_mean_absolute_error: 0.1028\n",
            "Epoch 6/50\n",
            "31/31 [==============================] - 0s 9ms/step - loss: 0.0019 - mean_squared_error: 0.0019 - mean_absolute_error: 0.0324 - val_loss: 0.0156 - val_mean_squared_error: 0.0156 - val_mean_absolute_error: 0.1015\n",
            "Epoch 7/50\n",
            "31/31 [==============================] - 0s 8ms/step - loss: 0.0015 - mean_squared_error: 0.0015 - mean_absolute_error: 0.0286 - val_loss: 0.0152 - val_mean_squared_error: 0.0152 - val_mean_absolute_error: 0.0986\n",
            "Epoch 8/50\n",
            "31/31 [==============================] - 0s 8ms/step - loss: 0.0015 - mean_squared_error: 0.0015 - mean_absolute_error: 0.0287 - val_loss: 0.0136 - val_mean_squared_error: 0.0136 - val_mean_absolute_error: 0.0937\n",
            "Epoch 9/50\n",
            "31/31 [==============================] - 0s 7ms/step - loss: 0.0014 - mean_squared_error: 0.0014 - mean_absolute_error: 0.0276 - val_loss: 0.0142 - val_mean_squared_error: 0.0142 - val_mean_absolute_error: 0.0937\n",
            "Epoch 10/50\n",
            "31/31 [==============================] - 0s 7ms/step - loss: 0.0012 - mean_squared_error: 0.0012 - mean_absolute_error: 0.0266 - val_loss: 0.0124 - val_mean_squared_error: 0.0124 - val_mean_absolute_error: 0.0886\n",
            "Epoch 11/50\n",
            "31/31 [==============================] - 0s 8ms/step - loss: 0.0013 - mean_squared_error: 0.0013 - mean_absolute_error: 0.0265 - val_loss: 0.0119 - val_mean_squared_error: 0.0119 - val_mean_absolute_error: 0.0867\n",
            "Epoch 12/50\n",
            "31/31 [==============================] - 0s 8ms/step - loss: 0.0014 - mean_squared_error: 0.0014 - mean_absolute_error: 0.0262 - val_loss: 0.0150 - val_mean_squared_error: 0.0150 - val_mean_absolute_error: 0.0963\n",
            "Epoch 13/50\n",
            "31/31 [==============================] - 0s 8ms/step - loss: 0.0014 - mean_squared_error: 0.0014 - mean_absolute_error: 0.0275 - val_loss: 0.0151 - val_mean_squared_error: 0.0151 - val_mean_absolute_error: 0.0970\n",
            "Epoch 14/50\n",
            "31/31 [==============================] - 0s 8ms/step - loss: 0.0016 - mean_squared_error: 0.0016 - mean_absolute_error: 0.0287 - val_loss: 0.0125 - val_mean_squared_error: 0.0125 - val_mean_absolute_error: 0.0883\n",
            "Epoch 15/50\n",
            "31/31 [==============================] - 0s 9ms/step - loss: 0.0013 - mean_squared_error: 0.0013 - mean_absolute_error: 0.0273 - val_loss: 0.0123 - val_mean_squared_error: 0.0123 - val_mean_absolute_error: 0.0878\n",
            "Epoch 16/50\n",
            "31/31 [==============================] - 0s 8ms/step - loss: 0.0013 - mean_squared_error: 0.0013 - mean_absolute_error: 0.0261 - val_loss: 0.0107 - val_mean_squared_error: 0.0107 - val_mean_absolute_error: 0.0823\n",
            "Epoch 17/50\n",
            "31/31 [==============================] - 0s 9ms/step - loss: 0.0012 - mean_squared_error: 0.0012 - mean_absolute_error: 0.0257 - val_loss: 0.0118 - val_mean_squared_error: 0.0118 - val_mean_absolute_error: 0.0861\n",
            "Epoch 18/50\n",
            "31/31 [==============================] - 0s 8ms/step - loss: 0.0012 - mean_squared_error: 0.0012 - mean_absolute_error: 0.0248 - val_loss: 0.0126 - val_mean_squared_error: 0.0126 - val_mean_absolute_error: 0.0891\n",
            "Epoch 19/50\n",
            "31/31 [==============================] - 0s 7ms/step - loss: 0.0011 - mean_squared_error: 0.0011 - mean_absolute_error: 0.0251 - val_loss: 0.0116 - val_mean_squared_error: 0.0116 - val_mean_absolute_error: 0.0855\n",
            "Epoch 20/50\n",
            "31/31 [==============================] - 0s 8ms/step - loss: 9.7197e-04 - mean_squared_error: 9.7197e-04 - mean_absolute_error: 0.0231 - val_loss: 0.0116 - val_mean_squared_error: 0.0116 - val_mean_absolute_error: 0.0854\n",
            "Epoch 21/50\n",
            "31/31 [==============================] - 0s 7ms/step - loss: 0.0011 - mean_squared_error: 0.0011 - mean_absolute_error: 0.0250 - val_loss: 0.0101 - val_mean_squared_error: 0.0101 - val_mean_absolute_error: 0.0798\n",
            "Epoch 22/50\n",
            "31/31 [==============================] - 0s 8ms/step - loss: 0.0010 - mean_squared_error: 0.0010 - mean_absolute_error: 0.0246 - val_loss: 0.0132 - val_mean_squared_error: 0.0132 - val_mean_absolute_error: 0.0909\n",
            "Epoch 23/50\n",
            "31/31 [==============================] - 0s 7ms/step - loss: 0.0014 - mean_squared_error: 0.0014 - mean_absolute_error: 0.0277 - val_loss: 0.0129 - val_mean_squared_error: 0.0129 - val_mean_absolute_error: 0.0899\n",
            "Epoch 24/50\n",
            "31/31 [==============================] - 0s 8ms/step - loss: 0.0012 - mean_squared_error: 0.0012 - mean_absolute_error: 0.0259 - val_loss: 0.0099 - val_mean_squared_error: 0.0099 - val_mean_absolute_error: 0.0792\n",
            "Epoch 25/50\n",
            "31/31 [==============================] - 0s 8ms/step - loss: 0.0011 - mean_squared_error: 0.0011 - mean_absolute_error: 0.0247 - val_loss: 0.0105 - val_mean_squared_error: 0.0105 - val_mean_absolute_error: 0.0817\n",
            "Epoch 26/50\n",
            "31/31 [==============================] - 0s 7ms/step - loss: 0.0015 - mean_squared_error: 0.0015 - mean_absolute_error: 0.0283 - val_loss: 0.0100 - val_mean_squared_error: 0.0100 - val_mean_absolute_error: 0.0796\n",
            "Epoch 27/50\n",
            "31/31 [==============================] - 0s 7ms/step - loss: 0.0010 - mean_squared_error: 0.0010 - mean_absolute_error: 0.0242 - val_loss: 0.0098 - val_mean_squared_error: 0.0098 - val_mean_absolute_error: 0.0791\n",
            "Epoch 28/50\n",
            "31/31 [==============================] - 0s 9ms/step - loss: 0.0011 - mean_squared_error: 0.0011 - mean_absolute_error: 0.0247 - val_loss: 0.0108 - val_mean_squared_error: 0.0108 - val_mean_absolute_error: 0.0823\n",
            "Epoch 29/50\n",
            "31/31 [==============================] - 0s 8ms/step - loss: 0.0010 - mean_squared_error: 0.0010 - mean_absolute_error: 0.0232 - val_loss: 0.0100 - val_mean_squared_error: 0.0100 - val_mean_absolute_error: 0.0793\n",
            "Epoch 30/50\n",
            "31/31 [==============================] - 0s 7ms/step - loss: 0.0010 - mean_squared_error: 0.0010 - mean_absolute_error: 0.0232 - val_loss: 0.0115 - val_mean_squared_error: 0.0115 - val_mean_absolute_error: 0.0845\n",
            "Epoch 31/50\n",
            "31/31 [==============================] - 0s 7ms/step - loss: 0.0012 - mean_squared_error: 0.0012 - mean_absolute_error: 0.0265 - val_loss: 0.0102 - val_mean_squared_error: 0.0102 - val_mean_absolute_error: 0.0801\n",
            "Epoch 32/50\n",
            "31/31 [==============================] - 0s 9ms/step - loss: 9.6273e-04 - mean_squared_error: 9.6273e-04 - mean_absolute_error: 0.0236 - val_loss: 0.0096 - val_mean_squared_error: 0.0096 - val_mean_absolute_error: 0.0785\n",
            "Epoch 33/50\n",
            "31/31 [==============================] - 0s 8ms/step - loss: 0.0010 - mean_squared_error: 0.0010 - mean_absolute_error: 0.0234 - val_loss: 0.0098 - val_mean_squared_error: 0.0098 - val_mean_absolute_error: 0.0784\n",
            "Epoch 34/50\n",
            "31/31 [==============================] - 0s 8ms/step - loss: 0.0013 - mean_squared_error: 0.0013 - mean_absolute_error: 0.0259 - val_loss: 0.0097 - val_mean_squared_error: 0.0097 - val_mean_absolute_error: 0.0780\n",
            "Epoch 35/50\n",
            "31/31 [==============================] - 0s 8ms/step - loss: 0.0010 - mean_squared_error: 0.0010 - mean_absolute_error: 0.0236 - val_loss: 0.0115 - val_mean_squared_error: 0.0115 - val_mean_absolute_error: 0.0845\n",
            "Epoch 36/50\n",
            "31/31 [==============================] - 0s 8ms/step - loss: 8.8573e-04 - mean_squared_error: 8.8573e-04 - mean_absolute_error: 0.0223 - val_loss: 0.0102 - val_mean_squared_error: 0.0102 - val_mean_absolute_error: 0.0798\n",
            "Epoch 37/50\n",
            "31/31 [==============================] - 0s 8ms/step - loss: 8.7116e-04 - mean_squared_error: 8.7116e-04 - mean_absolute_error: 0.0216 - val_loss: 0.0094 - val_mean_squared_error: 0.0094 - val_mean_absolute_error: 0.0768\n",
            "Epoch 38/50\n",
            "31/31 [==============================] - 0s 8ms/step - loss: 0.0011 - mean_squared_error: 0.0011 - mean_absolute_error: 0.0243 - val_loss: 0.0096 - val_mean_squared_error: 0.0096 - val_mean_absolute_error: 0.0771\n",
            "Epoch 39/50\n",
            "31/31 [==============================] - 0s 8ms/step - loss: 8.4352e-04 - mean_squared_error: 8.4352e-04 - mean_absolute_error: 0.0216 - val_loss: 0.0099 - val_mean_squared_error: 0.0099 - val_mean_absolute_error: 0.0785\n",
            "Epoch 40/50\n",
            "31/31 [==============================] - 0s 7ms/step - loss: 8.4943e-04 - mean_squared_error: 8.4943e-04 - mean_absolute_error: 0.0214 - val_loss: 0.0099 - val_mean_squared_error: 0.0099 - val_mean_absolute_error: 0.0785\n",
            "Epoch 41/50\n",
            "31/31 [==============================] - 0s 7ms/step - loss: 0.0010 - mean_squared_error: 0.0010 - mean_absolute_error: 0.0241 - val_loss: 0.0117 - val_mean_squared_error: 0.0117 - val_mean_absolute_error: 0.0849\n",
            "Epoch 42/50\n",
            "31/31 [==============================] - 0s 8ms/step - loss: 9.2206e-04 - mean_squared_error: 9.2206e-04 - mean_absolute_error: 0.0231 - val_loss: 0.0102 - val_mean_squared_error: 0.0102 - val_mean_absolute_error: 0.0796\n",
            "Epoch 43/50\n",
            "31/31 [==============================] - 0s 8ms/step - loss: 9.5350e-04 - mean_squared_error: 9.5350e-04 - mean_absolute_error: 0.0236 - val_loss: 0.0100 - val_mean_squared_error: 0.0100 - val_mean_absolute_error: 0.0789\n",
            "Epoch 44/50\n",
            "31/31 [==============================] - 0s 7ms/step - loss: 8.5622e-04 - mean_squared_error: 8.5622e-04 - mean_absolute_error: 0.0219 - val_loss: 0.0090 - val_mean_squared_error: 0.0090 - val_mean_absolute_error: 0.0755\n",
            "Epoch 45/50\n",
            "31/31 [==============================] - 0s 8ms/step - loss: 9.2693e-04 - mean_squared_error: 9.2693e-04 - mean_absolute_error: 0.0229 - val_loss: 0.0101 - val_mean_squared_error: 0.0101 - val_mean_absolute_error: 0.0790\n",
            "Epoch 46/50\n",
            "31/31 [==============================] - 0s 8ms/step - loss: 8.7998e-04 - mean_squared_error: 8.7998e-04 - mean_absolute_error: 0.0220 - val_loss: 0.0104 - val_mean_squared_error: 0.0104 - val_mean_absolute_error: 0.0800\n",
            "Epoch 47/50\n",
            "31/31 [==============================] - 0s 8ms/step - loss: 8.6611e-04 - mean_squared_error: 8.6611e-04 - mean_absolute_error: 0.0218 - val_loss: 0.0091 - val_mean_squared_error: 0.0091 - val_mean_absolute_error: 0.0750\n",
            "Epoch 48/50\n",
            "31/31 [==============================] - 0s 8ms/step - loss: 9.8928e-04 - mean_squared_error: 9.8928e-04 - mean_absolute_error: 0.0227 - val_loss: 0.0105 - val_mean_squared_error: 0.0105 - val_mean_absolute_error: 0.0801\n",
            "Epoch 49/50\n",
            "31/31 [==============================] - 0s 8ms/step - loss: 0.0010 - mean_squared_error: 0.0010 - mean_absolute_error: 0.0239 - val_loss: 0.0095 - val_mean_squared_error: 0.0095 - val_mean_absolute_error: 0.0765\n",
            "Epoch 50/50\n",
            "31/31 [==============================] - 0s 8ms/step - loss: 0.0010 - mean_squared_error: 0.0010 - mean_absolute_error: 0.0237 - val_loss: 0.0090 - val_mean_squared_error: 0.0090 - val_mean_absolute_error: 0.0747\n"
          ],
          "name": "stdout"
        },
        {
          "output_type": "display_data",
          "data": {
            "text/html": [
              "<br/>Waiting for W&B process to finish, PID 8663<br/>Program ended successfully."
            ],
            "text/plain": [
              "<IPython.core.display.HTML object>"
            ]
          },
          "metadata": {
            "tags": []
          }
        },
        {
          "output_type": "display_data",
          "data": {
            "application/vnd.jupyter.widget-view+json": {
              "model_id": "9ad015442a3d43bcb6396c4466ec60e6",
              "version_minor": 0,
              "version_major": 2
            },
            "text/plain": [
              "VBox(children=(Label(value=' 11.61MB of 11.61MB uploaded (0.00MB deduped)\\r'), FloatProgress(value=1.0, max=1.…"
            ]
          },
          "metadata": {
            "tags": []
          }
        },
        {
          "output_type": "display_data",
          "data": {
            "text/html": [
              "Find user logs for this run at: <code>/content/feeder_repo/wandb/run-20210721_164742-6jradwxc/logs/debug.log</code>"
            ],
            "text/plain": [
              "<IPython.core.display.HTML object>"
            ]
          },
          "metadata": {
            "tags": []
          }
        },
        {
          "output_type": "display_data",
          "data": {
            "text/html": [
              "Find internal logs for this run at: <code>/content/feeder_repo/wandb/run-20210721_164742-6jradwxc/logs/debug-internal.log</code>"
            ],
            "text/plain": [
              "<IPython.core.display.HTML object>"
            ]
          },
          "metadata": {
            "tags": []
          }
        },
        {
          "output_type": "display_data",
          "data": {
            "text/html": [
              "<h3>Run summary:</h3><br/><style>\n",
              "    table.wandb td:nth-child(1) { padding: 0 10px; text-align: right }\n",
              "    </style><table class=\"wandb\">\n",
              "<tr><td>epoch</td><td>49</td></tr><tr><td>loss</td><td>0.00097</td></tr><tr><td>mean_squared_error</td><td>0.00097</td></tr><tr><td>mean_absolute_error</td><td>0.02303</td></tr><tr><td>val_loss</td><td>0.00897</td></tr><tr><td>val_mean_squared_error</td><td>0.00897</td></tr><tr><td>val_mean_absolute_error</td><td>0.07474</td></tr><tr><td>_runtime</td><td>21</td></tr><tr><td>_timestamp</td><td>1626886083</td></tr><tr><td>_step</td><td>49</td></tr><tr><td>best_val_loss</td><td>0.00897</td></tr><tr><td>best_epoch</td><td>49</td></tr></table>"
            ],
            "text/plain": [
              "<IPython.core.display.HTML object>"
            ]
          },
          "metadata": {
            "tags": []
          }
        },
        {
          "output_type": "display_data",
          "data": {
            "text/html": [
              "<h3>Run history:</h3><br/><style>\n",
              "    table.wandb td:nth-child(1) { padding: 0 10px; text-align: right }\n",
              "    </style><table class=\"wandb\">\n",
              "<tr><td>epoch</td><td>▁▁▁▁▂▂▂▂▂▃▃▃▃▃▃▄▄▄▄▄▅▅▅▅▅▅▆▆▆▆▆▆▇▇▇▇▇███</td></tr><tr><td>loss</td><td>█▁▁▁▁▁▁▁▁▁▁▁▁▁▁▁▁▁▁▁▁▁▁▁▁▁▁▁▁▁▁▁▁▁▁▁▁▁▁▁</td></tr><tr><td>mean_squared_error</td><td>█▁▁▁▁▁▁▁▁▁▁▁▁▁▁▁▁▁▁▁▁▁▁▁▁▁▁▁▁▁▁▁▁▁▁▁▁▁▁▁</td></tr><tr><td>mean_absolute_error</td><td>█▃▂▂▂▂▂▂▁▂▁▂▂▁▂▁▁▁▁▁▂▁▁▁▁▁▁▁▁▁▁▁▁▁▁▁▁▁▁▁</td></tr><tr><td>val_loss</td><td>█▇▆▅▄▄▃▃▂▃▃▂▂▂▂▂▁▃▃▁▁▁▂▁▂▁▁▁▂▁▁▁▂▂▁▁▂▁▂▁</td></tr><tr><td>val_mean_squared_error</td><td>█▇▆▅▄▄▃▃▂▃▃▂▂▂▂▂▁▃▃▁▁▁▂▁▂▁▁▁▂▁▁▁▂▂▁▁▂▁▂▁</td></tr><tr><td>val_mean_absolute_error</td><td>█▇▇▅▄▄▃▃▂▄▄▃▂▂▃▂▂▃▃▂▂▂▂▂▂▁▁▁▂▁▁▁▂▂▁▁▂▁▂▁</td></tr><tr><td>_runtime</td><td>▁▂▂▂▂▂▂▃▃▃▃▃▄▄▄▄▄▄▄▅▅▅▅▅▆▆▆▆▆▆▆▇▇▇▇▇▇███</td></tr><tr><td>_timestamp</td><td>▁▂▂▂▂▂▂▃▃▃▃▃▄▄▄▄▄▄▄▅▅▅▅▅▆▆▆▆▆▆▆▇▇▇▇▇▇███</td></tr><tr><td>_step</td><td>▁▁▁▁▂▂▂▂▂▃▃▃▃▃▃▄▄▄▄▄▅▅▅▅▅▅▆▆▆▆▆▆▇▇▇▇▇███</td></tr></table><br/>"
            ],
            "text/plain": [
              "<IPython.core.display.HTML object>"
            ]
          },
          "metadata": {
            "tags": []
          }
        },
        {
          "output_type": "display_data",
          "data": {
            "text/html": [
              "Synced 5 W&B file(s), 1 media file(s), 2 artifact file(s) and 2 other file(s)"
            ],
            "text/plain": [
              "<IPython.core.display.HTML object>"
            ]
          },
          "metadata": {
            "tags": []
          }
        },
        {
          "output_type": "display_data",
          "data": {
            "text/html": [
              "\n",
              "                    <br/>Synced <strong style=\"color:#cdcd00\">worldly-sweep-32</strong>: <a href=\"https://wandb.ai/acse-jaq15/ACSE_9_CNN_LSTM/runs/6jradwxc\" target=\"_blank\">https://wandb.ai/acse-jaq15/ACSE_9_CNN_LSTM/runs/6jradwxc</a><br/>\n",
              "                "
            ],
            "text/plain": [
              "<IPython.core.display.HTML object>"
            ]
          },
          "metadata": {
            "tags": []
          }
        },
        {
          "output_type": "stream",
          "text": [
            "\u001b[34m\u001b[1mwandb\u001b[0m: Agent Starting Run: okh5qnb6 with config:\n",
            "\u001b[34m\u001b[1mwandb\u001b[0m: \tactivation: selu\n",
            "\u001b[34m\u001b[1mwandb\u001b[0m: \tbatch_size: 64\n",
            "\u001b[34m\u001b[1mwandb\u001b[0m: \tepochs: 100\n",
            "\u001b[34m\u001b[1mwandb\u001b[0m: \tlearning_rate: 0.0005\n",
            "\u001b[34m\u001b[1mwandb\u001b[0m: \toptimizer: rmsprop\n"
          ],
          "name": "stderr"
        },
        {
          "output_type": "display_data",
          "data": {
            "text/html": [
              "\n",
              "                Tracking run with wandb version 0.11.0<br/>\n",
              "                Syncing run <strong style=\"color:#cdcd00\">rare-sweep-33</strong> to <a href=\"https://wandb.ai\" target=\"_blank\">Weights & Biases</a> <a href=\"https://docs.wandb.com/integrations/jupyter.html\" target=\"_blank\">(Documentation)</a>.<br/>\n",
              "                Project page: <a href=\"https://wandb.ai/acse-jaq15/ACSE_9_CNN_LSTM\" target=\"_blank\">https://wandb.ai/acse-jaq15/ACSE_9_CNN_LSTM</a><br/>\n",
              "                Sweep page: <a href=\"https://wandb.ai/acse-jaq15/ACSE_9_CNN_LSTM/sweeps/bpufmj8y\" target=\"_blank\">https://wandb.ai/acse-jaq15/ACSE_9_CNN_LSTM/sweeps/bpufmj8y</a><br/>\n",
              "Run page: <a href=\"https://wandb.ai/acse-jaq15/ACSE_9_CNN_LSTM/runs/okh5qnb6\" target=\"_blank\">https://wandb.ai/acse-jaq15/ACSE_9_CNN_LSTM/runs/okh5qnb6</a><br/>\n",
              "                Run data is saved locally in <code>/content/feeder_repo/wandb/run-20210721_164822-okh5qnb6</code><br/><br/>\n",
              "            "
            ],
            "text/plain": [
              "<IPython.core.display.HTML object>"
            ]
          },
          "metadata": {
            "tags": []
          }
        },
        {
          "output_type": "stream",
          "text": [
            "Epoch 1/100\n",
            "16/16 [==============================] - 3s 60ms/step - loss: 0.0416 - mean_squared_error: 0.0416 - mean_absolute_error: 0.1271 - val_loss: 0.0465 - val_mean_squared_error: 0.0465 - val_mean_absolute_error: 0.1736\n",
            "Epoch 2/100\n",
            "16/16 [==============================] - 0s 7ms/step - loss: 0.0101 - mean_squared_error: 0.0101 - mean_absolute_error: 0.0783 - val_loss: 0.0415 - val_mean_squared_error: 0.0415 - val_mean_absolute_error: 0.1638\n",
            "Epoch 3/100\n",
            "16/16 [==============================] - 0s 7ms/step - loss: 0.0106 - mean_squared_error: 0.0106 - mean_absolute_error: 0.0775 - val_loss: 0.0470 - val_mean_squared_error: 0.0470 - val_mean_absolute_error: 0.1751\n",
            "Epoch 4/100\n",
            "16/16 [==============================] - 0s 6ms/step - loss: 0.0081 - mean_squared_error: 0.0081 - mean_absolute_error: 0.0656 - val_loss: 0.0208 - val_mean_squared_error: 0.0208 - val_mean_absolute_error: 0.1192\n",
            "Epoch 5/100\n",
            "16/16 [==============================] - 0s 7ms/step - loss: 0.0045 - mean_squared_error: 0.0045 - mean_absolute_error: 0.0490 - val_loss: 0.0199 - val_mean_squared_error: 0.0199 - val_mean_absolute_error: 0.1164\n",
            "Epoch 6/100\n",
            "16/16 [==============================] - 0s 6ms/step - loss: 0.0033 - mean_squared_error: 0.0033 - mean_absolute_error: 0.0429 - val_loss: 0.0201 - val_mean_squared_error: 0.0201 - val_mean_absolute_error: 0.1154\n",
            "Epoch 7/100\n",
            "16/16 [==============================] - 0s 8ms/step - loss: 0.0033 - mean_squared_error: 0.0033 - mean_absolute_error: 0.0423 - val_loss: 0.0180 - val_mean_squared_error: 0.0180 - val_mean_absolute_error: 0.1091\n",
            "Epoch 8/100\n",
            "16/16 [==============================] - 0s 8ms/step - loss: 0.0066 - mean_squared_error: 0.0066 - mean_absolute_error: 0.0606 - val_loss: 0.0163 - val_mean_squared_error: 0.0163 - val_mean_absolute_error: 0.1049\n",
            "Epoch 9/100\n",
            "16/16 [==============================] - 0s 7ms/step - loss: 0.0046 - mean_squared_error: 0.0046 - mean_absolute_error: 0.0472 - val_loss: 0.0153 - val_mean_squared_error: 0.0153 - val_mean_absolute_error: 0.1015\n",
            "Epoch 10/100\n",
            "16/16 [==============================] - 0s 7ms/step - loss: 0.0032 - mean_squared_error: 0.0032 - mean_absolute_error: 0.0395 - val_loss: 0.0316 - val_mean_squared_error: 0.0316 - val_mean_absolute_error: 0.1462\n",
            "Epoch 11/100\n",
            "16/16 [==============================] - 0s 7ms/step - loss: 0.0056 - mean_squared_error: 0.0056 - mean_absolute_error: 0.0501 - val_loss: 0.0162 - val_mean_squared_error: 0.0162 - val_mean_absolute_error: 0.1032\n",
            "Epoch 12/100\n",
            "16/16 [==============================] - 0s 7ms/step - loss: 0.0031 - mean_squared_error: 0.0031 - mean_absolute_error: 0.0420 - val_loss: 0.0140 - val_mean_squared_error: 0.0140 - val_mean_absolute_error: 0.0962\n",
            "Epoch 13/100\n",
            "16/16 [==============================] - 0s 7ms/step - loss: 0.0030 - mean_squared_error: 0.0030 - mean_absolute_error: 0.0389 - val_loss: 0.0158 - val_mean_squared_error: 0.0158 - val_mean_absolute_error: 0.0986\n",
            "Epoch 14/100\n",
            "16/16 [==============================] - 0s 8ms/step - loss: 0.0033 - mean_squared_error: 0.0033 - mean_absolute_error: 0.0422 - val_loss: 0.0189 - val_mean_squared_error: 0.0189 - val_mean_absolute_error: 0.1074\n",
            "Epoch 15/100\n",
            "16/16 [==============================] - 0s 6ms/step - loss: 0.0045 - mean_squared_error: 0.0045 - mean_absolute_error: 0.0502 - val_loss: 0.0131 - val_mean_squared_error: 0.0131 - val_mean_absolute_error: 0.0929\n",
            "Epoch 16/100\n",
            "16/16 [==============================] - 0s 7ms/step - loss: 0.0024 - mean_squared_error: 0.0024 - mean_absolute_error: 0.0362 - val_loss: 0.0149 - val_mean_squared_error: 0.0149 - val_mean_absolute_error: 0.0965\n",
            "Epoch 17/100\n",
            "16/16 [==============================] - 0s 8ms/step - loss: 0.0024 - mean_squared_error: 0.0024 - mean_absolute_error: 0.0362 - val_loss: 0.0186 - val_mean_squared_error: 0.0186 - val_mean_absolute_error: 0.1081\n",
            "Epoch 18/100\n",
            "16/16 [==============================] - 0s 7ms/step - loss: 0.0036 - mean_squared_error: 0.0036 - mean_absolute_error: 0.0434 - val_loss: 0.0127 - val_mean_squared_error: 0.0127 - val_mean_absolute_error: 0.0917\n",
            "Epoch 19/100\n",
            "16/16 [==============================] - 0s 7ms/step - loss: 0.0021 - mean_squared_error: 0.0021 - mean_absolute_error: 0.0346 - val_loss: 0.0123 - val_mean_squared_error: 0.0123 - val_mean_absolute_error: 0.0901\n",
            "Epoch 20/100\n",
            "16/16 [==============================] - 0s 7ms/step - loss: 0.0018 - mean_squared_error: 0.0018 - mean_absolute_error: 0.0309 - val_loss: 0.0118 - val_mean_squared_error: 0.0118 - val_mean_absolute_error: 0.0876\n",
            "Epoch 21/100\n",
            "16/16 [==============================] - 0s 7ms/step - loss: 0.0024 - mean_squared_error: 0.0024 - mean_absolute_error: 0.0378 - val_loss: 0.0157 - val_mean_squared_error: 0.0157 - val_mean_absolute_error: 0.1012\n",
            "Epoch 22/100\n",
            "16/16 [==============================] - 0s 6ms/step - loss: 0.0028 - mean_squared_error: 0.0028 - mean_absolute_error: 0.0398 - val_loss: 0.0165 - val_mean_squared_error: 0.0165 - val_mean_absolute_error: 0.1043\n",
            "Epoch 23/100\n",
            "16/16 [==============================] - 0s 6ms/step - loss: 0.0028 - mean_squared_error: 0.0028 - mean_absolute_error: 0.0398 - val_loss: 0.0119 - val_mean_squared_error: 0.0119 - val_mean_absolute_error: 0.0883\n",
            "Epoch 24/100\n",
            "16/16 [==============================] - 0s 6ms/step - loss: 0.0035 - mean_squared_error: 0.0035 - mean_absolute_error: 0.0419 - val_loss: 0.0134 - val_mean_squared_error: 0.0134 - val_mean_absolute_error: 0.0913\n",
            "Epoch 25/100\n",
            "16/16 [==============================] - 0s 8ms/step - loss: 0.0025 - mean_squared_error: 0.0025 - mean_absolute_error: 0.0376 - val_loss: 0.0112 - val_mean_squared_error: 0.0112 - val_mean_absolute_error: 0.0848\n",
            "Epoch 26/100\n",
            "16/16 [==============================] - 0s 6ms/step - loss: 0.0018 - mean_squared_error: 0.0018 - mean_absolute_error: 0.0315 - val_loss: 0.0135 - val_mean_squared_error: 0.0135 - val_mean_absolute_error: 0.0914\n",
            "Epoch 27/100\n",
            "16/16 [==============================] - 0s 8ms/step - loss: 0.0023 - mean_squared_error: 0.0023 - mean_absolute_error: 0.0359 - val_loss: 0.0120 - val_mean_squared_error: 0.0120 - val_mean_absolute_error: 0.0880\n",
            "Epoch 28/100\n",
            "16/16 [==============================] - 0s 7ms/step - loss: 0.0024 - mean_squared_error: 0.0024 - mean_absolute_error: 0.0357 - val_loss: 0.0117 - val_mean_squared_error: 0.0117 - val_mean_absolute_error: 0.0868\n",
            "Epoch 29/100\n",
            "16/16 [==============================] - 0s 8ms/step - loss: 0.0017 - mean_squared_error: 0.0017 - mean_absolute_error: 0.0318 - val_loss: 0.0143 - val_mean_squared_error: 0.0143 - val_mean_absolute_error: 0.0942\n",
            "Epoch 30/100\n",
            "16/16 [==============================] - 0s 7ms/step - loss: 0.0020 - mean_squared_error: 0.0020 - mean_absolute_error: 0.0333 - val_loss: 0.0106 - val_mean_squared_error: 0.0106 - val_mean_absolute_error: 0.0828\n",
            "Epoch 31/100\n",
            "16/16 [==============================] - 0s 9ms/step - loss: 0.0019 - mean_squared_error: 0.0019 - mean_absolute_error: 0.0327 - val_loss: 0.0106 - val_mean_squared_error: 0.0106 - val_mean_absolute_error: 0.0835\n",
            "Epoch 32/100\n",
            "16/16 [==============================] - 0s 7ms/step - loss: 0.0021 - mean_squared_error: 0.0021 - mean_absolute_error: 0.0340 - val_loss: 0.0130 - val_mean_squared_error: 0.0130 - val_mean_absolute_error: 0.0908\n",
            "Epoch 33/100\n",
            "16/16 [==============================] - 0s 7ms/step - loss: 0.0024 - mean_squared_error: 0.0024 - mean_absolute_error: 0.0364 - val_loss: 0.0107 - val_mean_squared_error: 0.0107 - val_mean_absolute_error: 0.0834\n",
            "Epoch 34/100\n",
            "16/16 [==============================] - 0s 7ms/step - loss: 0.0015 - mean_squared_error: 0.0015 - mean_absolute_error: 0.0305 - val_loss: 0.0296 - val_mean_squared_error: 0.0296 - val_mean_absolute_error: 0.1381\n",
            "Epoch 35/100\n",
            "16/16 [==============================] - 0s 6ms/step - loss: 0.0034 - mean_squared_error: 0.0034 - mean_absolute_error: 0.0374 - val_loss: 0.0170 - val_mean_squared_error: 0.0170 - val_mean_absolute_error: 0.1037\n",
            "Epoch 36/100\n",
            "16/16 [==============================] - 0s 6ms/step - loss: 0.0031 - mean_squared_error: 0.0031 - mean_absolute_error: 0.0395 - val_loss: 0.0104 - val_mean_squared_error: 0.0104 - val_mean_absolute_error: 0.0821\n",
            "Epoch 37/100\n",
            "16/16 [==============================] - 0s 7ms/step - loss: 0.0023 - mean_squared_error: 0.0023 - mean_absolute_error: 0.0335 - val_loss: 0.0113 - val_mean_squared_error: 0.0113 - val_mean_absolute_error: 0.0850\n",
            "Epoch 38/100\n",
            "16/16 [==============================] - 0s 7ms/step - loss: 0.0030 - mean_squared_error: 0.0030 - mean_absolute_error: 0.0413 - val_loss: 0.0121 - val_mean_squared_error: 0.0121 - val_mean_absolute_error: 0.0893\n",
            "Epoch 39/100\n",
            "16/16 [==============================] - 0s 7ms/step - loss: 0.0029 - mean_squared_error: 0.0029 - mean_absolute_error: 0.0404 - val_loss: 0.0127 - val_mean_squared_error: 0.0127 - val_mean_absolute_error: 0.0914\n",
            "Epoch 40/100\n",
            "16/16 [==============================] - 0s 7ms/step - loss: 0.0017 - mean_squared_error: 0.0017 - mean_absolute_error: 0.0298 - val_loss: 0.0101 - val_mean_squared_error: 0.0101 - val_mean_absolute_error: 0.0814\n",
            "Epoch 41/100\n",
            "16/16 [==============================] - 0s 7ms/step - loss: 0.0023 - mean_squared_error: 0.0023 - mean_absolute_error: 0.0356 - val_loss: 0.0135 - val_mean_squared_error: 0.0135 - val_mean_absolute_error: 0.0925\n",
            "Epoch 42/100\n",
            "16/16 [==============================] - 0s 7ms/step - loss: 0.0023 - mean_squared_error: 0.0023 - mean_absolute_error: 0.0352 - val_loss: 0.0104 - val_mean_squared_error: 0.0104 - val_mean_absolute_error: 0.0819\n",
            "Epoch 43/100\n",
            "16/16 [==============================] - 0s 6ms/step - loss: 0.0014 - mean_squared_error: 0.0014 - mean_absolute_error: 0.0282 - val_loss: 0.0095 - val_mean_squared_error: 0.0095 - val_mean_absolute_error: 0.0782\n",
            "Epoch 44/100\n",
            "16/16 [==============================] - 0s 8ms/step - loss: 0.0022 - mean_squared_error: 0.0022 - mean_absolute_error: 0.0349 - val_loss: 0.0096 - val_mean_squared_error: 0.0096 - val_mean_absolute_error: 0.0786\n",
            "Epoch 45/100\n",
            "16/16 [==============================] - 0s 7ms/step - loss: 0.0020 - mean_squared_error: 0.0020 - mean_absolute_error: 0.0339 - val_loss: 0.0102 - val_mean_squared_error: 0.0102 - val_mean_absolute_error: 0.0809\n",
            "Epoch 46/100\n",
            "16/16 [==============================] - 0s 6ms/step - loss: 0.0022 - mean_squared_error: 0.0022 - mean_absolute_error: 0.0350 - val_loss: 0.0095 - val_mean_squared_error: 0.0095 - val_mean_absolute_error: 0.0782\n",
            "Epoch 47/100\n",
            "16/16 [==============================] - 0s 9ms/step - loss: 0.0014 - mean_squared_error: 0.0014 - mean_absolute_error: 0.0293 - val_loss: 0.0112 - val_mean_squared_error: 0.0112 - val_mean_absolute_error: 0.0842\n",
            "Epoch 48/100\n",
            "16/16 [==============================] - 0s 7ms/step - loss: 0.0018 - mean_squared_error: 0.0018 - mean_absolute_error: 0.0315 - val_loss: 0.0108 - val_mean_squared_error: 0.0108 - val_mean_absolute_error: 0.0837\n",
            "Epoch 49/100\n",
            "16/16 [==============================] - 0s 7ms/step - loss: 0.0021 - mean_squared_error: 0.0021 - mean_absolute_error: 0.0350 - val_loss: 0.0114 - val_mean_squared_error: 0.0114 - val_mean_absolute_error: 0.0855\n",
            "Epoch 50/100\n",
            "16/16 [==============================] - 0s 7ms/step - loss: 0.0021 - mean_squared_error: 0.0021 - mean_absolute_error: 0.0353 - val_loss: 0.0092 - val_mean_squared_error: 0.0092 - val_mean_absolute_error: 0.0770\n",
            "Epoch 51/100\n",
            "16/16 [==============================] - 0s 7ms/step - loss: 0.0017 - mean_squared_error: 0.0017 - mean_absolute_error: 0.0304 - val_loss: 0.0131 - val_mean_squared_error: 0.0131 - val_mean_absolute_error: 0.0927\n",
            "Epoch 52/100\n",
            "16/16 [==============================] - 0s 8ms/step - loss: 0.0021 - mean_squared_error: 0.0021 - mean_absolute_error: 0.0340 - val_loss: 0.0135 - val_mean_squared_error: 0.0135 - val_mean_absolute_error: 0.0932\n",
            "Epoch 53/100\n",
            "16/16 [==============================] - 0s 7ms/step - loss: 0.0018 - mean_squared_error: 0.0018 - mean_absolute_error: 0.0325 - val_loss: 0.0101 - val_mean_squared_error: 0.0101 - val_mean_absolute_error: 0.0801\n",
            "Epoch 54/100\n",
            "16/16 [==============================] - 0s 7ms/step - loss: 0.0014 - mean_squared_error: 0.0014 - mean_absolute_error: 0.0277 - val_loss: 0.0100 - val_mean_squared_error: 0.0100 - val_mean_absolute_error: 0.0807\n",
            "Epoch 55/100\n",
            "16/16 [==============================] - 0s 7ms/step - loss: 0.0016 - mean_squared_error: 0.0016 - mean_absolute_error: 0.0301 - val_loss: 0.0093 - val_mean_squared_error: 0.0093 - val_mean_absolute_error: 0.0773\n",
            "Epoch 56/100\n",
            "16/16 [==============================] - 0s 7ms/step - loss: 0.0018 - mean_squared_error: 0.0018 - mean_absolute_error: 0.0322 - val_loss: 0.0097 - val_mean_squared_error: 0.0097 - val_mean_absolute_error: 0.0788\n",
            "Epoch 57/100\n",
            "16/16 [==============================] - 0s 6ms/step - loss: 0.0014 - mean_squared_error: 0.0014 - mean_absolute_error: 0.0273 - val_loss: 0.0101 - val_mean_squared_error: 0.0101 - val_mean_absolute_error: 0.0801\n",
            "Epoch 58/100\n",
            "16/16 [==============================] - 0s 7ms/step - loss: 0.0015 - mean_squared_error: 0.0015 - mean_absolute_error: 0.0306 - val_loss: 0.0093 - val_mean_squared_error: 0.0093 - val_mean_absolute_error: 0.0773\n",
            "Epoch 59/100\n",
            "16/16 [==============================] - 0s 6ms/step - loss: 0.0016 - mean_squared_error: 0.0016 - mean_absolute_error: 0.0312 - val_loss: 0.0089 - val_mean_squared_error: 0.0089 - val_mean_absolute_error: 0.0754\n",
            "Epoch 60/100\n",
            "16/16 [==============================] - 0s 7ms/step - loss: 0.0015 - mean_squared_error: 0.0015 - mean_absolute_error: 0.0280 - val_loss: 0.0090 - val_mean_squared_error: 0.0090 - val_mean_absolute_error: 0.0758\n",
            "Epoch 61/100\n",
            "16/16 [==============================] - 0s 6ms/step - loss: 0.0016 - mean_squared_error: 0.0016 - mean_absolute_error: 0.0307 - val_loss: 0.0134 - val_mean_squared_error: 0.0134 - val_mean_absolute_error: 0.0919\n",
            "Epoch 62/100\n",
            "16/16 [==============================] - 0s 7ms/step - loss: 0.0019 - mean_squared_error: 0.0019 - mean_absolute_error: 0.0326 - val_loss: 0.0092 - val_mean_squared_error: 0.0092 - val_mean_absolute_error: 0.0768\n",
            "Epoch 63/100\n",
            "16/16 [==============================] - 0s 8ms/step - loss: 0.0015 - mean_squared_error: 0.0015 - mean_absolute_error: 0.0303 - val_loss: 0.0089 - val_mean_squared_error: 0.0089 - val_mean_absolute_error: 0.0750\n",
            "Epoch 64/100\n",
            "16/16 [==============================] - 0s 9ms/step - loss: 0.0015 - mean_squared_error: 0.0015 - mean_absolute_error: 0.0299 - val_loss: 0.0107 - val_mean_squared_error: 0.0107 - val_mean_absolute_error: 0.0824\n",
            "Epoch 65/100\n",
            "16/16 [==============================] - 0s 8ms/step - loss: 0.0023 - mean_squared_error: 0.0023 - mean_absolute_error: 0.0348 - val_loss: 0.0094 - val_mean_squared_error: 0.0094 - val_mean_absolute_error: 0.0773\n",
            "Epoch 66/100\n",
            "16/16 [==============================] - 0s 7ms/step - loss: 0.0019 - mean_squared_error: 0.0019 - mean_absolute_error: 0.0321 - val_loss: 0.0090 - val_mean_squared_error: 0.0090 - val_mean_absolute_error: 0.0755\n",
            "Epoch 67/100\n",
            "16/16 [==============================] - 0s 7ms/step - loss: 0.0016 - mean_squared_error: 0.0016 - mean_absolute_error: 0.0302 - val_loss: 0.0087 - val_mean_squared_error: 0.0087 - val_mean_absolute_error: 0.0739\n",
            "Epoch 68/100\n",
            "16/16 [==============================] - 0s 8ms/step - loss: 0.0014 - mean_squared_error: 0.0014 - mean_absolute_error: 0.0269 - val_loss: 0.0088 - val_mean_squared_error: 0.0088 - val_mean_absolute_error: 0.0745\n",
            "Epoch 69/100\n",
            "16/16 [==============================] - 0s 6ms/step - loss: 0.0012 - mean_squared_error: 0.0012 - mean_absolute_error: 0.0260 - val_loss: 0.0090 - val_mean_squared_error: 0.0090 - val_mean_absolute_error: 0.0757\n",
            "Epoch 70/100\n",
            "16/16 [==============================] - 0s 7ms/step - loss: 0.0013 - mean_squared_error: 0.0013 - mean_absolute_error: 0.0279 - val_loss: 0.0130 - val_mean_squared_error: 0.0130 - val_mean_absolute_error: 0.0915\n",
            "Epoch 71/100\n",
            "16/16 [==============================] - 0s 7ms/step - loss: 0.0017 - mean_squared_error: 0.0017 - mean_absolute_error: 0.0318 - val_loss: 0.0093 - val_mean_squared_error: 0.0093 - val_mean_absolute_error: 0.0773\n",
            "Epoch 72/100\n",
            "16/16 [==============================] - 0s 6ms/step - loss: 0.0012 - mean_squared_error: 0.0012 - mean_absolute_error: 0.0267 - val_loss: 0.0087 - val_mean_squared_error: 0.0087 - val_mean_absolute_error: 0.0734\n",
            "Epoch 73/100\n",
            "16/16 [==============================] - 0s 8ms/step - loss: 0.0012 - mean_squared_error: 0.0012 - mean_absolute_error: 0.0258 - val_loss: 0.0088 - val_mean_squared_error: 0.0088 - val_mean_absolute_error: 0.0743\n",
            "Epoch 74/100\n",
            "16/16 [==============================] - 0s 6ms/step - loss: 0.0011 - mean_squared_error: 0.0011 - mean_absolute_error: 0.0259 - val_loss: 0.0089 - val_mean_squared_error: 0.0089 - val_mean_absolute_error: 0.0748\n",
            "Epoch 75/100\n",
            "16/16 [==============================] - 0s 11ms/step - loss: 0.0012 - mean_squared_error: 0.0012 - mean_absolute_error: 0.0260 - val_loss: 0.0087 - val_mean_squared_error: 0.0087 - val_mean_absolute_error: 0.0743\n",
            "Epoch 76/100\n",
            "16/16 [==============================] - 0s 7ms/step - loss: 0.0012 - mean_squared_error: 0.0012 - mean_absolute_error: 0.0262 - val_loss: 0.0088 - val_mean_squared_error: 0.0088 - val_mean_absolute_error: 0.0741\n",
            "Epoch 77/100\n",
            "16/16 [==============================] - 0s 7ms/step - loss: 0.0013 - mean_squared_error: 0.0013 - mean_absolute_error: 0.0256 - val_loss: 0.0100 - val_mean_squared_error: 0.0100 - val_mean_absolute_error: 0.0790\n",
            "Epoch 78/100\n",
            "16/16 [==============================] - 0s 8ms/step - loss: 0.0013 - mean_squared_error: 0.0013 - mean_absolute_error: 0.0268 - val_loss: 0.0088 - val_mean_squared_error: 0.0088 - val_mean_absolute_error: 0.0751\n",
            "Epoch 79/100\n",
            "16/16 [==============================] - 0s 7ms/step - loss: 0.0012 - mean_squared_error: 0.0012 - mean_absolute_error: 0.0255 - val_loss: 0.0085 - val_mean_squared_error: 0.0085 - val_mean_absolute_error: 0.0732\n",
            "Epoch 80/100\n",
            "16/16 [==============================] - 0s 7ms/step - loss: 0.0016 - mean_squared_error: 0.0016 - mean_absolute_error: 0.0287 - val_loss: 0.0098 - val_mean_squared_error: 0.0098 - val_mean_absolute_error: 0.0798\n",
            "Epoch 81/100\n",
            "16/16 [==============================] - 0s 7ms/step - loss: 0.0017 - mean_squared_error: 0.0017 - mean_absolute_error: 0.0312 - val_loss: 0.0087 - val_mean_squared_error: 0.0087 - val_mean_absolute_error: 0.0742\n",
            "Epoch 82/100\n",
            "16/16 [==============================] - 0s 7ms/step - loss: 0.0013 - mean_squared_error: 0.0013 - mean_absolute_error: 0.0266 - val_loss: 0.0089 - val_mean_squared_error: 0.0089 - val_mean_absolute_error: 0.0759\n",
            "Epoch 83/100\n",
            "16/16 [==============================] - 0s 8ms/step - loss: 0.0013 - mean_squared_error: 0.0013 - mean_absolute_error: 0.0273 - val_loss: 0.0092 - val_mean_squared_error: 0.0092 - val_mean_absolute_error: 0.0770\n",
            "Epoch 84/100\n",
            "16/16 [==============================] - 0s 6ms/step - loss: 0.0014 - mean_squared_error: 0.0014 - mean_absolute_error: 0.0294 - val_loss: 0.0110 - val_mean_squared_error: 0.0110 - val_mean_absolute_error: 0.0846\n",
            "Epoch 85/100\n",
            "16/16 [==============================] - 0s 7ms/step - loss: 0.0017 - mean_squared_error: 0.0017 - mean_absolute_error: 0.0308 - val_loss: 0.0094 - val_mean_squared_error: 0.0094 - val_mean_absolute_error: 0.0778\n",
            "Epoch 86/100\n",
            "16/16 [==============================] - 0s 8ms/step - loss: 0.0017 - mean_squared_error: 0.0017 - mean_absolute_error: 0.0302 - val_loss: 0.0085 - val_mean_squared_error: 0.0085 - val_mean_absolute_error: 0.0726\n",
            "Epoch 87/100\n",
            "16/16 [==============================] - 0s 7ms/step - loss: 0.0017 - mean_squared_error: 0.0017 - mean_absolute_error: 0.0316 - val_loss: 0.0084 - val_mean_squared_error: 0.0084 - val_mean_absolute_error: 0.0724\n",
            "Epoch 88/100\n",
            "16/16 [==============================] - 0s 6ms/step - loss: 0.0014 - mean_squared_error: 0.0014 - mean_absolute_error: 0.0277 - val_loss: 0.0085 - val_mean_squared_error: 0.0085 - val_mean_absolute_error: 0.0726\n",
            "Epoch 89/100\n",
            "16/16 [==============================] - 0s 7ms/step - loss: 0.0014 - mean_squared_error: 0.0014 - mean_absolute_error: 0.0289 - val_loss: 0.0095 - val_mean_squared_error: 0.0095 - val_mean_absolute_error: 0.0779\n",
            "Epoch 90/100\n",
            "16/16 [==============================] - 0s 7ms/step - loss: 0.0013 - mean_squared_error: 0.0013 - mean_absolute_error: 0.0272 - val_loss: 0.0087 - val_mean_squared_error: 0.0087 - val_mean_absolute_error: 0.0738\n",
            "Epoch 91/100\n",
            "16/16 [==============================] - 0s 7ms/step - loss: 0.0011 - mean_squared_error: 0.0011 - mean_absolute_error: 0.0239 - val_loss: 0.0107 - val_mean_squared_error: 0.0107 - val_mean_absolute_error: 0.0811\n",
            "Epoch 92/100\n",
            "16/16 [==============================] - 0s 6ms/step - loss: 0.0021 - mean_squared_error: 0.0021 - mean_absolute_error: 0.0349 - val_loss: 0.0088 - val_mean_squared_error: 0.0088 - val_mean_absolute_error: 0.0742\n",
            "Epoch 93/100\n",
            "16/16 [==============================] - 0s 9ms/step - loss: 0.0011 - mean_squared_error: 0.0011 - mean_absolute_error: 0.0251 - val_loss: 0.0118 - val_mean_squared_error: 0.0118 - val_mean_absolute_error: 0.0861\n",
            "Epoch 94/100\n",
            "16/16 [==============================] - 0s 7ms/step - loss: 0.0020 - mean_squared_error: 0.0020 - mean_absolute_error: 0.0314 - val_loss: 0.0085 - val_mean_squared_error: 0.0085 - val_mean_absolute_error: 0.0728\n",
            "Epoch 95/100\n",
            "16/16 [==============================] - 0s 7ms/step - loss: 0.0011 - mean_squared_error: 0.0011 - mean_absolute_error: 0.0252 - val_loss: 0.0098 - val_mean_squared_error: 0.0098 - val_mean_absolute_error: 0.0800\n",
            "Epoch 96/100\n",
            "16/16 [==============================] - 0s 6ms/step - loss: 0.0017 - mean_squared_error: 0.0017 - mean_absolute_error: 0.0297 - val_loss: 0.0088 - val_mean_squared_error: 0.0088 - val_mean_absolute_error: 0.0750\n",
            "Epoch 97/100\n",
            "16/16 [==============================] - 0s 6ms/step - loss: 0.0012 - mean_squared_error: 0.0012 - mean_absolute_error: 0.0268 - val_loss: 0.0084 - val_mean_squared_error: 0.0084 - val_mean_absolute_error: 0.0730\n",
            "Epoch 98/100\n",
            "16/16 [==============================] - 0s 6ms/step - loss: 0.0013 - mean_squared_error: 0.0013 - mean_absolute_error: 0.0271 - val_loss: 0.0086 - val_mean_squared_error: 0.0086 - val_mean_absolute_error: 0.0730\n",
            "Epoch 99/100\n",
            "16/16 [==============================] - 0s 7ms/step - loss: 0.0011 - mean_squared_error: 0.0011 - mean_absolute_error: 0.0243 - val_loss: 0.0084 - val_mean_squared_error: 0.0084 - val_mean_absolute_error: 0.0724\n",
            "Epoch 100/100\n",
            "16/16 [==============================] - 0s 7ms/step - loss: 0.0012 - mean_squared_error: 0.0012 - mean_absolute_error: 0.0260 - val_loss: 0.0090 - val_mean_squared_error: 0.0090 - val_mean_absolute_error: 0.0759\n"
          ],
          "name": "stdout"
        },
        {
          "output_type": "display_data",
          "data": {
            "text/html": [
              "<br/>Waiting for W&B process to finish, PID 8868<br/>Program ended successfully."
            ],
            "text/plain": [
              "<IPython.core.display.HTML object>"
            ]
          },
          "metadata": {
            "tags": []
          }
        },
        {
          "output_type": "display_data",
          "data": {
            "application/vnd.jupyter.widget-view+json": {
              "model_id": "804994fbcfc1416897c74461b59b3d3a",
              "version_minor": 0,
              "version_major": 2
            },
            "text/plain": [
              "VBox(children=(Label(value=' 7.89MB of 7.89MB uploaded (0.00MB deduped)\\r'), FloatProgress(value=1.0, max=1.0)…"
            ]
          },
          "metadata": {
            "tags": []
          }
        },
        {
          "output_type": "display_data",
          "data": {
            "text/html": [
              "Find user logs for this run at: <code>/content/feeder_repo/wandb/run-20210721_164822-okh5qnb6/logs/debug.log</code>"
            ],
            "text/plain": [
              "<IPython.core.display.HTML object>"
            ]
          },
          "metadata": {
            "tags": []
          }
        },
        {
          "output_type": "display_data",
          "data": {
            "text/html": [
              "Find internal logs for this run at: <code>/content/feeder_repo/wandb/run-20210721_164822-okh5qnb6/logs/debug-internal.log</code>"
            ],
            "text/plain": [
              "<IPython.core.display.HTML object>"
            ]
          },
          "metadata": {
            "tags": []
          }
        },
        {
          "output_type": "display_data",
          "data": {
            "text/html": [
              "<h3>Run summary:</h3><br/><style>\n",
              "    table.wandb td:nth-child(1) { padding: 0 10px; text-align: right }\n",
              "    </style><table class=\"wandb\">\n",
              "<tr><td>epoch</td><td>99</td></tr><tr><td>loss</td><td>0.00121</td></tr><tr><td>mean_squared_error</td><td>0.00121</td></tr><tr><td>mean_absolute_error</td><td>0.02616</td></tr><tr><td>val_loss</td><td>0.00899</td></tr><tr><td>val_mean_squared_error</td><td>0.00899</td></tr><tr><td>val_mean_absolute_error</td><td>0.07585</td></tr><tr><td>_runtime</td><td>21</td></tr><tr><td>_timestamp</td><td>1626886123</td></tr><tr><td>_step</td><td>99</td></tr><tr><td>best_val_loss</td><td>0.00839</td></tr><tr><td>best_epoch</td><td>98</td></tr></table>"
            ],
            "text/plain": [
              "<IPython.core.display.HTML object>"
            ]
          },
          "metadata": {
            "tags": []
          }
        },
        {
          "output_type": "display_data",
          "data": {
            "text/html": [
              "<h3>Run history:</h3><br/><style>\n",
              "    table.wandb td:nth-child(1) { padding: 0 10px; text-align: right }\n",
              "    </style><table class=\"wandb\">\n",
              "<tr><td>epoch</td><td>▁▁▁▁▂▂▂▂▂▃▃▃▃▃▃▄▄▄▄▄▅▅▅▅▅▅▆▆▆▆▆▇▇▇▇▇▇███</td></tr><tr><td>loss</td><td>█▄▃▂▂▂▂▂▁▁▁▂▁▁▁▂▁▁▁▁▁▁▁▁▁▁▁▁▁▁▁▁▁▁▁▁▁▁▁▁</td></tr><tr><td>mean_squared_error</td><td>█▄▃▂▂▂▂▂▁▁▁▂▁▁▁▂▁▁▁▁▁▁▁▁▁▁▁▁▁▁▁▁▁▁▁▁▁▁▁▁</td></tr><tr><td>mean_absolute_error</td><td>█▇▄▄▃▃▃▃▂▂▂▂▂▂▂▂▂▂▂▂▂▁▂▂▂▁▁▁▁▁▁▁▁▁▂▁▁▁▁▁</td></tr><tr><td>val_loss</td><td>██▃▂▂▂▂▂▂▂▂▂▁▅▁▂▂▁▁▂▂▁▁▁▂▁▁▁▁▁▁▁▁▁▁▁▁▁▁▁</td></tr><tr><td>val_mean_squared_error</td><td>██▃▂▂▂▂▂▂▂▂▂▁▅▁▂▂▁▁▂▂▁▁▁▂▁▁▁▁▁▁▁▁▁▁▁▁▁▁▁</td></tr><tr><td>val_mean_absolute_error</td><td>██▄▃▃▃▃▂▃▂▂▂▂▅▂▂▂▁▁▂▂▂▁▁▂▂▁▁▁▁▁▁▁▂▁▁▁▁▁▁</td></tr><tr><td>_runtime</td><td>▁▁▁▁▂▂▃▃▃▃▃▃▃▃▃▄▄▄▅▅▅▅▅▅▅▅▅▆▆▆▇▇▇▇▇▇▇▇▇█</td></tr><tr><td>_timestamp</td><td>▁▁▁▁▂▂▃▃▃▃▃▃▃▃▃▄▄▄▅▅▅▅▅▅▅▅▅▆▆▆▇▇▇▇▇▇▇▇▇█</td></tr><tr><td>_step</td><td>▁▁▁▁▂▂▂▂▂▃▃▃▃▃▃▄▄▄▄▄▅▅▅▅▅▅▆▆▆▆▆▇▇▇▇▇▇███</td></tr></table><br/>"
            ],
            "text/plain": [
              "<IPython.core.display.HTML object>"
            ]
          },
          "metadata": {
            "tags": []
          }
        },
        {
          "output_type": "display_data",
          "data": {
            "text/html": [
              "Synced 5 W&B file(s), 1 media file(s), 2 artifact file(s) and 2 other file(s)"
            ],
            "text/plain": [
              "<IPython.core.display.HTML object>"
            ]
          },
          "metadata": {
            "tags": []
          }
        },
        {
          "output_type": "display_data",
          "data": {
            "text/html": [
              "\n",
              "                    <br/>Synced <strong style=\"color:#cdcd00\">rare-sweep-33</strong>: <a href=\"https://wandb.ai/acse-jaq15/ACSE_9_CNN_LSTM/runs/okh5qnb6\" target=\"_blank\">https://wandb.ai/acse-jaq15/ACSE_9_CNN_LSTM/runs/okh5qnb6</a><br/>\n",
              "                "
            ],
            "text/plain": [
              "<IPython.core.display.HTML object>"
            ]
          },
          "metadata": {
            "tags": []
          }
        },
        {
          "output_type": "stream",
          "text": [
            "\u001b[34m\u001b[1mwandb\u001b[0m: Agent Starting Run: oidxhcuj with config:\n",
            "\u001b[34m\u001b[1mwandb\u001b[0m: \tactivation: relu\n",
            "\u001b[34m\u001b[1mwandb\u001b[0m: \tbatch_size: 128\n",
            "\u001b[34m\u001b[1mwandb\u001b[0m: \tepochs: 100\n",
            "\u001b[34m\u001b[1mwandb\u001b[0m: \tlearning_rate: 0.001\n",
            "\u001b[34m\u001b[1mwandb\u001b[0m: \toptimizer: nadam\n"
          ],
          "name": "stderr"
        },
        {
          "output_type": "display_data",
          "data": {
            "text/html": [
              "\n",
              "                Tracking run with wandb version 0.11.0<br/>\n",
              "                Syncing run <strong style=\"color:#cdcd00\">expert-sweep-34</strong> to <a href=\"https://wandb.ai\" target=\"_blank\">Weights & Biases</a> <a href=\"https://docs.wandb.com/integrations/jupyter.html\" target=\"_blank\">(Documentation)</a>.<br/>\n",
              "                Project page: <a href=\"https://wandb.ai/acse-jaq15/ACSE_9_CNN_LSTM\" target=\"_blank\">https://wandb.ai/acse-jaq15/ACSE_9_CNN_LSTM</a><br/>\n",
              "                Sweep page: <a href=\"https://wandb.ai/acse-jaq15/ACSE_9_CNN_LSTM/sweeps/bpufmj8y\" target=\"_blank\">https://wandb.ai/acse-jaq15/ACSE_9_CNN_LSTM/sweeps/bpufmj8y</a><br/>\n",
              "Run page: <a href=\"https://wandb.ai/acse-jaq15/ACSE_9_CNN_LSTM/runs/oidxhcuj\" target=\"_blank\">https://wandb.ai/acse-jaq15/ACSE_9_CNN_LSTM/runs/oidxhcuj</a><br/>\n",
              "                Run data is saved locally in <code>/content/feeder_repo/wandb/run-20210721_164855-oidxhcuj</code><br/><br/>\n",
              "            "
            ],
            "text/plain": [
              "<IPython.core.display.HTML object>"
            ]
          },
          "metadata": {
            "tags": []
          }
        },
        {
          "output_type": "stream",
          "text": [
            "Epoch 1/100\n",
            "8/8 [==============================] - 3s 118ms/step - loss: 0.1046 - mean_squared_error: 0.1046 - mean_absolute_error: 0.2269 - val_loss: 0.0303 - val_mean_squared_error: 0.0303 - val_mean_absolute_error: 0.1443\n",
            "Epoch 2/100\n",
            "8/8 [==============================] - 0s 10ms/step - loss: 0.0031 - mean_squared_error: 0.0031 - mean_absolute_error: 0.0430 - val_loss: 0.0266 - val_mean_squared_error: 0.0266 - val_mean_absolute_error: 0.1350\n",
            "Epoch 3/100\n",
            "8/8 [==============================] - 0s 14ms/step - loss: 0.0024 - mean_squared_error: 0.0024 - mean_absolute_error: 0.0377 - val_loss: 0.0264 - val_mean_squared_error: 0.0264 - val_mean_absolute_error: 0.1342\n",
            "Epoch 4/100\n",
            "8/8 [==============================] - 0s 11ms/step - loss: 0.0024 - mean_squared_error: 0.0024 - mean_absolute_error: 0.0372 - val_loss: 0.0262 - val_mean_squared_error: 0.0262 - val_mean_absolute_error: 0.1335\n",
            "Epoch 5/100\n",
            "8/8 [==============================] - 0s 10ms/step - loss: 0.0024 - mean_squared_error: 0.0024 - mean_absolute_error: 0.0365 - val_loss: 0.0243 - val_mean_squared_error: 0.0243 - val_mean_absolute_error: 0.1284\n",
            "Epoch 6/100\n",
            "8/8 [==============================] - 0s 9ms/step - loss: 0.0023 - mean_squared_error: 0.0023 - mean_absolute_error: 0.0360 - val_loss: 0.0231 - val_mean_squared_error: 0.0231 - val_mean_absolute_error: 0.1251\n",
            "Epoch 7/100\n",
            "8/8 [==============================] - 0s 8ms/step - loss: 0.0021 - mean_squared_error: 0.0021 - mean_absolute_error: 0.0344 - val_loss: 0.0190 - val_mean_squared_error: 0.0190 - val_mean_absolute_error: 0.1141\n",
            "Epoch 8/100\n",
            "8/8 [==============================] - 0s 8ms/step - loss: 0.0025 - mean_squared_error: 0.0025 - mean_absolute_error: 0.0382 - val_loss: 0.0180 - val_mean_squared_error: 0.0180 - val_mean_absolute_error: 0.1105\n",
            "Epoch 9/100\n",
            "8/8 [==============================] - 0s 9ms/step - loss: 0.0020 - mean_squared_error: 0.0020 - mean_absolute_error: 0.0331 - val_loss: 0.0202 - val_mean_squared_error: 0.0202 - val_mean_absolute_error: 0.1156\n",
            "Epoch 10/100\n",
            "8/8 [==============================] - 0s 14ms/step - loss: 0.0020 - mean_squared_error: 0.0020 - mean_absolute_error: 0.0327 - val_loss: 0.0190 - val_mean_squared_error: 0.0190 - val_mean_absolute_error: 0.1116\n",
            "Epoch 11/100\n",
            "8/8 [==============================] - 0s 9ms/step - loss: 0.0022 - mean_squared_error: 0.0022 - mean_absolute_error: 0.0345 - val_loss: 0.0201 - val_mean_squared_error: 0.0201 - val_mean_absolute_error: 0.1138\n",
            "Epoch 12/100\n",
            "8/8 [==============================] - 0s 9ms/step - loss: 0.0020 - mean_squared_error: 0.0020 - mean_absolute_error: 0.0333 - val_loss: 0.0263 - val_mean_squared_error: 0.0263 - val_mean_absolute_error: 0.1295\n",
            "Epoch 13/100\n",
            "8/8 [==============================] - 0s 11ms/step - loss: 0.0043 - mean_squared_error: 0.0043 - mean_absolute_error: 0.0496 - val_loss: 0.0180 - val_mean_squared_error: 0.0180 - val_mean_absolute_error: 0.1075\n",
            "Epoch 14/100\n",
            "8/8 [==============================] - 0s 11ms/step - loss: 0.0017 - mean_squared_error: 0.0017 - mean_absolute_error: 0.0306 - val_loss: 0.0184 - val_mean_squared_error: 0.0184 - val_mean_absolute_error: 0.1074\n",
            "Epoch 15/100\n",
            "8/8 [==============================] - 0s 9ms/step - loss: 0.0025 - mean_squared_error: 0.0025 - mean_absolute_error: 0.0373 - val_loss: 0.0211 - val_mean_squared_error: 0.0211 - val_mean_absolute_error: 0.1148\n",
            "Epoch 16/100\n",
            "8/8 [==============================] - 0s 10ms/step - loss: 0.0028 - mean_squared_error: 0.0028 - mean_absolute_error: 0.0404 - val_loss: 0.0190 - val_mean_squared_error: 0.0190 - val_mean_absolute_error: 0.1086\n",
            "Epoch 17/100\n",
            "8/8 [==============================] - 0s 8ms/step - loss: 0.0024 - mean_squared_error: 0.0024 - mean_absolute_error: 0.0363 - val_loss: 0.0156 - val_mean_squared_error: 0.0156 - val_mean_absolute_error: 0.1004\n",
            "Epoch 18/100\n",
            "8/8 [==============================] - 0s 8ms/step - loss: 0.0013 - mean_squared_error: 0.0013 - mean_absolute_error: 0.0263 - val_loss: 0.0146 - val_mean_squared_error: 0.0146 - val_mean_absolute_error: 0.0973\n",
            "Epoch 19/100\n",
            "8/8 [==============================] - 0s 8ms/step - loss: 0.0021 - mean_squared_error: 0.0021 - mean_absolute_error: 0.0345 - val_loss: 0.0139 - val_mean_squared_error: 0.0139 - val_mean_absolute_error: 0.0960\n",
            "Epoch 20/100\n",
            "8/8 [==============================] - 0s 8ms/step - loss: 0.0027 - mean_squared_error: 0.0027 - mean_absolute_error: 0.0390 - val_loss: 0.0136 - val_mean_squared_error: 0.0136 - val_mean_absolute_error: 0.0950\n",
            "Epoch 21/100\n",
            "8/8 [==============================] - 0s 8ms/step - loss: 0.0017 - mean_squared_error: 0.0017 - mean_absolute_error: 0.0297 - val_loss: 0.0135 - val_mean_squared_error: 0.0135 - val_mean_absolute_error: 0.0943\n",
            "Epoch 22/100\n",
            "8/8 [==============================] - 0s 9ms/step - loss: 0.0016 - mean_squared_error: 0.0016 - mean_absolute_error: 0.0289 - val_loss: 0.0169 - val_mean_squared_error: 0.0169 - val_mean_absolute_error: 0.1015\n",
            "Epoch 23/100\n",
            "8/8 [==============================] - 0s 9ms/step - loss: 0.0021 - mean_squared_error: 0.0021 - mean_absolute_error: 0.0348 - val_loss: 0.0186 - val_mean_squared_error: 0.0186 - val_mean_absolute_error: 0.1070\n",
            "Epoch 24/100\n",
            "8/8 [==============================] - 0s 8ms/step - loss: 0.0021 - mean_squared_error: 0.0021 - mean_absolute_error: 0.0346 - val_loss: 0.0139 - val_mean_squared_error: 0.0139 - val_mean_absolute_error: 0.0936\n",
            "Epoch 25/100\n",
            "8/8 [==============================] - 0s 9ms/step - loss: 0.0013 - mean_squared_error: 0.0013 - mean_absolute_error: 0.0271 - val_loss: 0.0157 - val_mean_squared_error: 0.0157 - val_mean_absolute_error: 0.0977\n",
            "Epoch 26/100\n",
            "8/8 [==============================] - 0s 8ms/step - loss: 0.0028 - mean_squared_error: 0.0028 - mean_absolute_error: 0.0395 - val_loss: 0.0180 - val_mean_squared_error: 0.0180 - val_mean_absolute_error: 0.1055\n",
            "Epoch 27/100\n",
            "8/8 [==============================] - 0s 9ms/step - loss: 0.0021 - mean_squared_error: 0.0021 - mean_absolute_error: 0.0346 - val_loss: 0.0154 - val_mean_squared_error: 0.0154 - val_mean_absolute_error: 0.0969\n",
            "Epoch 28/100\n",
            "8/8 [==============================] - 0s 8ms/step - loss: 0.0018 - mean_squared_error: 0.0018 - mean_absolute_error: 0.0313 - val_loss: 0.0157 - val_mean_squared_error: 0.0157 - val_mean_absolute_error: 0.0976\n",
            "Epoch 29/100\n",
            "8/8 [==============================] - 0s 8ms/step - loss: 0.0012 - mean_squared_error: 0.0012 - mean_absolute_error: 0.0262 - val_loss: 0.0128 - val_mean_squared_error: 0.0128 - val_mean_absolute_error: 0.0898\n",
            "Epoch 30/100\n",
            "8/8 [==============================] - 0s 12ms/step - loss: 0.0014 - mean_squared_error: 0.0014 - mean_absolute_error: 0.0272 - val_loss: 0.0222 - val_mean_squared_error: 0.0222 - val_mean_absolute_error: 0.1192\n",
            "Epoch 31/100\n",
            "8/8 [==============================] - 0s 9ms/step - loss: 0.0033 - mean_squared_error: 0.0033 - mean_absolute_error: 0.0447 - val_loss: 0.0164 - val_mean_squared_error: 0.0164 - val_mean_absolute_error: 0.1001\n",
            "Epoch 32/100\n",
            "8/8 [==============================] - 0s 10ms/step - loss: 0.0015 - mean_squared_error: 0.0015 - mean_absolute_error: 0.0296 - val_loss: 0.0129 - val_mean_squared_error: 0.0129 - val_mean_absolute_error: 0.0898\n",
            "Epoch 33/100\n",
            "8/8 [==============================] - 0s 10ms/step - loss: 0.0014 - mean_squared_error: 0.0014 - mean_absolute_error: 0.0282 - val_loss: 0.0119 - val_mean_squared_error: 0.0119 - val_mean_absolute_error: 0.0878\n",
            "Epoch 34/100\n",
            "8/8 [==============================] - 0s 8ms/step - loss: 0.0014 - mean_squared_error: 0.0014 - mean_absolute_error: 0.0284 - val_loss: 0.0118 - val_mean_squared_error: 0.0118 - val_mean_absolute_error: 0.0874\n",
            "Epoch 35/100\n",
            "8/8 [==============================] - 0s 8ms/step - loss: 0.0014 - mean_squared_error: 0.0014 - mean_absolute_error: 0.0276 - val_loss: 0.0121 - val_mean_squared_error: 0.0121 - val_mean_absolute_error: 0.0875\n",
            "Epoch 36/100\n",
            "8/8 [==============================] - 0s 8ms/step - loss: 0.0015 - mean_squared_error: 0.0015 - mean_absolute_error: 0.0282 - val_loss: 0.0115 - val_mean_squared_error: 0.0115 - val_mean_absolute_error: 0.0861\n",
            "Epoch 37/100\n",
            "8/8 [==============================] - 0s 11ms/step - loss: 0.0027 - mean_squared_error: 0.0027 - mean_absolute_error: 0.0395 - val_loss: 0.0120 - val_mean_squared_error: 0.0120 - val_mean_absolute_error: 0.0870\n",
            "Epoch 38/100\n",
            "8/8 [==============================] - 0s 10ms/step - loss: 0.0012 - mean_squared_error: 0.0012 - mean_absolute_error: 0.0257 - val_loss: 0.0120 - val_mean_squared_error: 0.0120 - val_mean_absolute_error: 0.0866\n",
            "Epoch 39/100\n",
            "8/8 [==============================] - 0s 9ms/step - loss: 0.0017 - mean_squared_error: 0.0017 - mean_absolute_error: 0.0303 - val_loss: 0.0117 - val_mean_squared_error: 0.0117 - val_mean_absolute_error: 0.0862\n",
            "Epoch 40/100\n",
            "8/8 [==============================] - 0s 10ms/step - loss: 0.0011 - mean_squared_error: 0.0011 - mean_absolute_error: 0.0245 - val_loss: 0.0131 - val_mean_squared_error: 0.0131 - val_mean_absolute_error: 0.0901\n",
            "Epoch 41/100\n",
            "8/8 [==============================] - 0s 8ms/step - loss: 0.0012 - mean_squared_error: 0.0012 - mean_absolute_error: 0.0250 - val_loss: 0.0113 - val_mean_squared_error: 0.0113 - val_mean_absolute_error: 0.0848\n",
            "Epoch 42/100\n",
            "8/8 [==============================] - 0s 8ms/step - loss: 0.0012 - mean_squared_error: 0.0012 - mean_absolute_error: 0.0262 - val_loss: 0.0136 - val_mean_squared_error: 0.0136 - val_mean_absolute_error: 0.0918\n",
            "Epoch 43/100\n",
            "8/8 [==============================] - 0s 11ms/step - loss: 0.0017 - mean_squared_error: 0.0017 - mean_absolute_error: 0.0312 - val_loss: 0.0158 - val_mean_squared_error: 0.0158 - val_mean_absolute_error: 0.0988\n",
            "Epoch 44/100\n",
            "8/8 [==============================] - 0s 9ms/step - loss: 0.0018 - mean_squared_error: 0.0018 - mean_absolute_error: 0.0317 - val_loss: 0.0155 - val_mean_squared_error: 0.0155 - val_mean_absolute_error: 0.0979\n",
            "Epoch 45/100\n",
            "8/8 [==============================] - 0s 10ms/step - loss: 0.0019 - mean_squared_error: 0.0019 - mean_absolute_error: 0.0328 - val_loss: 0.0203 - val_mean_squared_error: 0.0203 - val_mean_absolute_error: 0.1139\n",
            "Epoch 46/100\n",
            "8/8 [==============================] - 0s 9ms/step - loss: 0.0043 - mean_squared_error: 0.0043 - mean_absolute_error: 0.0507 - val_loss: 0.0121 - val_mean_squared_error: 0.0121 - val_mean_absolute_error: 0.0869\n",
            "Epoch 47/100\n",
            "8/8 [==============================] - 0s 8ms/step - loss: 0.0011 - mean_squared_error: 0.0011 - mean_absolute_error: 0.0236 - val_loss: 0.0113 - val_mean_squared_error: 0.0113 - val_mean_absolute_error: 0.0850\n",
            "Epoch 48/100\n",
            "8/8 [==============================] - 0s 8ms/step - loss: 0.0011 - mean_squared_error: 0.0011 - mean_absolute_error: 0.0245 - val_loss: 0.0135 - val_mean_squared_error: 0.0135 - val_mean_absolute_error: 0.0915\n",
            "Epoch 49/100\n",
            "8/8 [==============================] - 0s 11ms/step - loss: 0.0013 - mean_squared_error: 0.0013 - mean_absolute_error: 0.0267 - val_loss: 0.0153 - val_mean_squared_error: 0.0153 - val_mean_absolute_error: 0.0973\n",
            "Epoch 50/100\n",
            "8/8 [==============================] - 0s 9ms/step - loss: 0.0015 - mean_squared_error: 0.0015 - mean_absolute_error: 0.0279 - val_loss: 0.0126 - val_mean_squared_error: 0.0126 - val_mean_absolute_error: 0.0887\n",
            "Epoch 51/100\n",
            "8/8 [==============================] - 0s 11ms/step - loss: 0.0017 - mean_squared_error: 0.0017 - mean_absolute_error: 0.0307 - val_loss: 0.0124 - val_mean_squared_error: 0.0124 - val_mean_absolute_error: 0.0877\n",
            "Epoch 52/100\n",
            "8/8 [==============================] - 0s 9ms/step - loss: 0.0011 - mean_squared_error: 0.0011 - mean_absolute_error: 0.0242 - val_loss: 0.0137 - val_mean_squared_error: 0.0137 - val_mean_absolute_error: 0.0921\n",
            "Epoch 53/100\n",
            "8/8 [==============================] - 0s 8ms/step - loss: 0.0016 - mean_squared_error: 0.0016 - mean_absolute_error: 0.0301 - val_loss: 0.0124 - val_mean_squared_error: 0.0124 - val_mean_absolute_error: 0.0879\n",
            "Epoch 54/100\n",
            "8/8 [==============================] - 0s 13ms/step - loss: 9.5511e-04 - mean_squared_error: 9.5511e-04 - mean_absolute_error: 0.0229 - val_loss: 0.0141 - val_mean_squared_error: 0.0141 - val_mean_absolute_error: 0.0933\n",
            "Epoch 55/100\n",
            "8/8 [==============================] - 0s 12ms/step - loss: 0.0018 - mean_squared_error: 0.0018 - mean_absolute_error: 0.0316 - val_loss: 0.0129 - val_mean_squared_error: 0.0129 - val_mean_absolute_error: 0.0894\n",
            "Epoch 56/100\n",
            "8/8 [==============================] - 0s 10ms/step - loss: 0.0013 - mean_squared_error: 0.0013 - mean_absolute_error: 0.0269 - val_loss: 0.0122 - val_mean_squared_error: 0.0122 - val_mean_absolute_error: 0.0872\n",
            "Epoch 57/100\n",
            "8/8 [==============================] - 0s 9ms/step - loss: 9.7263e-04 - mean_squared_error: 9.7263e-04 - mean_absolute_error: 0.0234 - val_loss: 0.0120 - val_mean_squared_error: 0.0120 - val_mean_absolute_error: 0.0867\n"
          ],
          "name": "stdout"
        },
        {
          "output_type": "display_data",
          "data": {
            "text/html": [
              "<br/>Waiting for W&B process to finish, PID 9225<br/>Program ended successfully."
            ],
            "text/plain": [
              "<IPython.core.display.HTML object>"
            ]
          },
          "metadata": {
            "tags": []
          }
        },
        {
          "output_type": "display_data",
          "data": {
            "application/vnd.jupyter.widget-view+json": {
              "model_id": "3f0352de28994745bb78c955f34f3598",
              "version_minor": 0,
              "version_major": 2
            },
            "text/plain": [
              "VBox(children=(Label(value=' 11.68MB of 11.68MB uploaded (0.00MB deduped)\\r'), FloatProgress(value=1.0, max=1.…"
            ]
          },
          "metadata": {
            "tags": []
          }
        },
        {
          "output_type": "display_data",
          "data": {
            "text/html": [
              "Find user logs for this run at: <code>/content/feeder_repo/wandb/run-20210721_164855-oidxhcuj/logs/debug.log</code>"
            ],
            "text/plain": [
              "<IPython.core.display.HTML object>"
            ]
          },
          "metadata": {
            "tags": []
          }
        },
        {
          "output_type": "display_data",
          "data": {
            "text/html": [
              "Find internal logs for this run at: <code>/content/feeder_repo/wandb/run-20210721_164855-oidxhcuj/logs/debug-internal.log</code>"
            ],
            "text/plain": [
              "<IPython.core.display.HTML object>"
            ]
          },
          "metadata": {
            "tags": []
          }
        },
        {
          "output_type": "display_data",
          "data": {
            "text/html": [
              "<h3>Run summary:</h3><br/><style>\n",
              "    table.wandb td:nth-child(1) { padding: 0 10px; text-align: right }\n",
              "    </style><table class=\"wandb\">\n",
              "<tr><td>epoch</td><td>56</td></tr><tr><td>loss</td><td>0.001</td></tr><tr><td>mean_squared_error</td><td>0.001</td></tr><tr><td>mean_absolute_error</td><td>0.02348</td></tr><tr><td>val_loss</td><td>0.01198</td></tr><tr><td>val_mean_squared_error</td><td>0.01198</td></tr><tr><td>val_mean_absolute_error</td><td>0.08668</td></tr><tr><td>_runtime</td><td>14</td></tr><tr><td>_timestamp</td><td>1626886149</td></tr><tr><td>_step</td><td>56</td></tr><tr><td>best_val_loss</td><td>0.01135</td></tr><tr><td>best_epoch</td><td>46</td></tr></table>"
            ],
            "text/plain": [
              "<IPython.core.display.HTML object>"
            ]
          },
          "metadata": {
            "tags": []
          }
        },
        {
          "output_type": "display_data",
          "data": {
            "text/html": [
              "<h3>Run history:</h3><br/><style>\n",
              "    table.wandb td:nth-child(1) { padding: 0 10px; text-align: right }\n",
              "    </style><table class=\"wandb\">\n",
              "<tr><td>epoch</td><td>▁▁▁▁▂▂▂▂▂▃▃▃▃▃▃▄▄▄▄▄▅▅▅▅▅▅▆▆▆▆▆▇▇▇▇▇▇███</td></tr><tr><td>loss</td><td>█▁▁▁▁▁▁▁▁▁▁▁▁▁▁▁▁▁▁▁▁▁▁▁▁▁▁▁▁▁▁▁▁▁▁▁▁▁▁▁</td></tr><tr><td>mean_squared_error</td><td>█▁▁▁▁▁▁▁▁▁▁▁▁▁▁▁▁▁▁▁▁▁▁▁▁▁▁▁▁▁▁▁▁▁▁▁▁▁▁▁</td></tr><tr><td>mean_absolute_error</td><td>█▂▂▂▂▂▁▂▂▂▂▂▁▂▁▁▂▁▂▁▁▂▁▁▁▁▁▁▁▁▁▂▂▁▁▁▁▁▂▁</td></tr><tr><td>val_loss</td><td>█▇▇▆▅▃▄▄▇▃▅▄▂▂▂▃▄▃▃▃▂▃▂▁▁▁▁▁▁▂▃▄▁▂▂▁▂▂▂▁</td></tr><tr><td>val_mean_squared_error</td><td>█▇▇▆▅▃▄▄▇▃▅▄▂▂▂▃▄▃▃▃▂▃▂▁▁▁▁▁▁▂▃▄▁▂▂▁▂▂▂▁</td></tr><tr><td>val_mean_absolute_error</td><td>█▇▇▆▆▄▅▄▆▄▅▄▂▂▂▃▄▃▃▃▂▃▂▁▁▁▁▁▁▂▃▄▁▂▂▁▂▂▂▁</td></tr><tr><td>_runtime</td><td>▁▁▁▂▂▂▂▂▃▃▃▃▃▃▅▅▅▅▅▅▅▆▆▆▆▆▆▆▇▇▇▇▇▇▇▇████</td></tr><tr><td>_timestamp</td><td>▁▁▁▂▂▂▂▂▃▃▃▃▃▃▅▅▅▅▅▅▅▆▆▆▆▆▆▆▇▇▇▇▇▇▇▇████</td></tr><tr><td>_step</td><td>▁▁▁▁▂▂▂▂▂▃▃▃▃▃▃▄▄▄▄▄▅▅▅▅▅▅▆▆▆▆▆▇▇▇▇▇▇███</td></tr></table><br/>"
            ],
            "text/plain": [
              "<IPython.core.display.HTML object>"
            ]
          },
          "metadata": {
            "tags": []
          }
        },
        {
          "output_type": "display_data",
          "data": {
            "text/html": [
              "Synced 5 W&B file(s), 1 media file(s), 2 artifact file(s) and 2 other file(s)"
            ],
            "text/plain": [
              "<IPython.core.display.HTML object>"
            ]
          },
          "metadata": {
            "tags": []
          }
        },
        {
          "output_type": "display_data",
          "data": {
            "text/html": [
              "\n",
              "                    <br/>Synced <strong style=\"color:#cdcd00\">expert-sweep-34</strong>: <a href=\"https://wandb.ai/acse-jaq15/ACSE_9_CNN_LSTM/runs/oidxhcuj\" target=\"_blank\">https://wandb.ai/acse-jaq15/ACSE_9_CNN_LSTM/runs/oidxhcuj</a><br/>\n",
              "                "
            ],
            "text/plain": [
              "<IPython.core.display.HTML object>"
            ]
          },
          "metadata": {
            "tags": []
          }
        },
        {
          "output_type": "stream",
          "text": [
            "\u001b[34m\u001b[1mwandb\u001b[0m: Agent Starting Run: iq9xkklv with config:\n",
            "\u001b[34m\u001b[1mwandb\u001b[0m: \tactivation: relu\n",
            "\u001b[34m\u001b[1mwandb\u001b[0m: \tbatch_size: 128\n",
            "\u001b[34m\u001b[1mwandb\u001b[0m: \tepochs: 100\n",
            "\u001b[34m\u001b[1mwandb\u001b[0m: \tlearning_rate: 0.0005\n",
            "\u001b[34m\u001b[1mwandb\u001b[0m: \toptimizer: sgd\n"
          ],
          "name": "stderr"
        },
        {
          "output_type": "display_data",
          "data": {
            "text/html": [
              "\n",
              "                Tracking run with wandb version 0.11.0<br/>\n",
              "                Syncing run <strong style=\"color:#cdcd00\">lucky-sweep-35</strong> to <a href=\"https://wandb.ai\" target=\"_blank\">Weights & Biases</a> <a href=\"https://docs.wandb.com/integrations/jupyter.html\" target=\"_blank\">(Documentation)</a>.<br/>\n",
              "                Project page: <a href=\"https://wandb.ai/acse-jaq15/ACSE_9_CNN_LSTM\" target=\"_blank\">https://wandb.ai/acse-jaq15/ACSE_9_CNN_LSTM</a><br/>\n",
              "                Sweep page: <a href=\"https://wandb.ai/acse-jaq15/ACSE_9_CNN_LSTM/sweeps/bpufmj8y\" target=\"_blank\">https://wandb.ai/acse-jaq15/ACSE_9_CNN_LSTM/sweeps/bpufmj8y</a><br/>\n",
              "Run page: <a href=\"https://wandb.ai/acse-jaq15/ACSE_9_CNN_LSTM/runs/iq9xkklv\" target=\"_blank\">https://wandb.ai/acse-jaq15/ACSE_9_CNN_LSTM/runs/iq9xkklv</a><br/>\n",
              "                Run data is saved locally in <code>/content/feeder_repo/wandb/run-20210721_164920-iq9xkklv</code><br/><br/>\n",
              "            "
            ],
            "text/plain": [
              "<IPython.core.display.HTML object>"
            ]
          },
          "metadata": {
            "tags": []
          }
        },
        {
          "output_type": "stream",
          "text": [
            "Epoch 1/100\n",
            "8/8 [==============================] - 3s 126ms/step - loss: 0.2020 - mean_squared_error: 0.2020 - mean_absolute_error: 0.3687 - val_loss: 0.2197 - val_mean_squared_error: 0.2197 - val_mean_absolute_error: 0.4107\n",
            "Epoch 2/100\n",
            "8/8 [==============================] - 0s 10ms/step - loss: 0.1877 - mean_squared_error: 0.1877 - mean_absolute_error: 0.3516 - val_loss: 0.1877 - val_mean_squared_error: 0.1877 - val_mean_absolute_error: 0.3728\n",
            "Epoch 3/100\n",
            "8/8 [==============================] - 0s 11ms/step - loss: 0.1526 - mean_squared_error: 0.1526 - mean_absolute_error: 0.3066 - val_loss: 0.1561 - val_mean_squared_error: 0.1561 - val_mean_absolute_error: 0.3322\n",
            "Epoch 4/100\n",
            "8/8 [==============================] - 0s 8ms/step - loss: 0.1244 - mean_squared_error: 0.1244 - mean_absolute_error: 0.2723 - val_loss: 0.1290 - val_mean_squared_error: 0.1290 - val_mean_absolute_error: 0.2944\n",
            "Epoch 5/100\n",
            "8/8 [==============================] - 0s 9ms/step - loss: 0.1070 - mean_squared_error: 0.1070 - mean_absolute_error: 0.2518 - val_loss: 0.1067 - val_mean_squared_error: 0.1067 - val_mean_absolute_error: 0.2631\n",
            "Epoch 6/100\n",
            "8/8 [==============================] - 0s 9ms/step - loss: 0.0872 - mean_squared_error: 0.0872 - mean_absolute_error: 0.2283 - val_loss: 0.0893 - val_mean_squared_error: 0.0893 - val_mean_absolute_error: 0.2377\n",
            "Epoch 7/100\n",
            "8/8 [==============================] - 0s 7ms/step - loss: 0.0703 - mean_squared_error: 0.0703 - mean_absolute_error: 0.2060 - val_loss: 0.0760 - val_mean_squared_error: 0.0760 - val_mean_absolute_error: 0.2183\n",
            "Epoch 8/100\n",
            "8/8 [==============================] - 0s 7ms/step - loss: 0.0641 - mean_squared_error: 0.0641 - mean_absolute_error: 0.2031 - val_loss: 0.0657 - val_mean_squared_error: 0.0657 - val_mean_absolute_error: 0.2026\n",
            "Epoch 9/100\n",
            "8/8 [==============================] - 0s 9ms/step - loss: 0.0514 - mean_squared_error: 0.0514 - mean_absolute_error: 0.1849 - val_loss: 0.0579 - val_mean_squared_error: 0.0579 - val_mean_absolute_error: 0.1907\n",
            "Epoch 10/100\n",
            "8/8 [==============================] - 0s 10ms/step - loss: 0.0474 - mean_squared_error: 0.0474 - mean_absolute_error: 0.1786 - val_loss: 0.0520 - val_mean_squared_error: 0.0520 - val_mean_absolute_error: 0.1814\n",
            "Epoch 11/100\n",
            "8/8 [==============================] - 0s 10ms/step - loss: 0.0410 - mean_squared_error: 0.0410 - mean_absolute_error: 0.1682 - val_loss: 0.0475 - val_mean_squared_error: 0.0475 - val_mean_absolute_error: 0.1742\n",
            "Epoch 12/100\n",
            "8/8 [==============================] - 0s 9ms/step - loss: 0.0371 - mean_squared_error: 0.0371 - mean_absolute_error: 0.1612 - val_loss: 0.0441 - val_mean_squared_error: 0.0441 - val_mean_absolute_error: 0.1688\n",
            "Epoch 13/100\n",
            "8/8 [==============================] - 0s 7ms/step - loss: 0.0382 - mean_squared_error: 0.0382 - mean_absolute_error: 0.1625 - val_loss: 0.0415 - val_mean_squared_error: 0.0415 - val_mean_absolute_error: 0.1646\n",
            "Epoch 14/100\n",
            "8/8 [==============================] - 0s 8ms/step - loss: 0.0330 - mean_squared_error: 0.0330 - mean_absolute_error: 0.1523 - val_loss: 0.0396 - val_mean_squared_error: 0.0396 - val_mean_absolute_error: 0.1617\n",
            "Epoch 15/100\n",
            "8/8 [==============================] - 0s 8ms/step - loss: 0.0348 - mean_squared_error: 0.0348 - mean_absolute_error: 0.1575 - val_loss: 0.0381 - val_mean_squared_error: 0.0381 - val_mean_absolute_error: 0.1593\n",
            "Epoch 16/100\n",
            "8/8 [==============================] - 0s 11ms/step - loss: 0.0311 - mean_squared_error: 0.0311 - mean_absolute_error: 0.1495 - val_loss: 0.0369 - val_mean_squared_error: 0.0369 - val_mean_absolute_error: 0.1574\n",
            "Epoch 17/100\n",
            "8/8 [==============================] - 0s 9ms/step - loss: 0.0309 - mean_squared_error: 0.0309 - mean_absolute_error: 0.1490 - val_loss: 0.0360 - val_mean_squared_error: 0.0360 - val_mean_absolute_error: 0.1561\n",
            "Epoch 18/100\n",
            "8/8 [==============================] - 0s 7ms/step - loss: 0.0292 - mean_squared_error: 0.0292 - mean_absolute_error: 0.1443 - val_loss: 0.0353 - val_mean_squared_error: 0.0353 - val_mean_absolute_error: 0.1550\n",
            "Epoch 19/100\n",
            "8/8 [==============================] - 0s 7ms/step - loss: 0.0281 - mean_squared_error: 0.0281 - mean_absolute_error: 0.1422 - val_loss: 0.0347 - val_mean_squared_error: 0.0347 - val_mean_absolute_error: 0.1541\n",
            "Epoch 20/100\n",
            "8/8 [==============================] - 0s 7ms/step - loss: 0.0275 - mean_squared_error: 0.0275 - mean_absolute_error: 0.1411 - val_loss: 0.0342 - val_mean_squared_error: 0.0342 - val_mean_absolute_error: 0.1533\n",
            "Epoch 21/100\n",
            "8/8 [==============================] - 0s 8ms/step - loss: 0.0275 - mean_squared_error: 0.0275 - mean_absolute_error: 0.1407 - val_loss: 0.0338 - val_mean_squared_error: 0.0338 - val_mean_absolute_error: 0.1525\n",
            "Epoch 22/100\n",
            "8/8 [==============================] - 0s 10ms/step - loss: 0.0261 - mean_squared_error: 0.0261 - mean_absolute_error: 0.1371 - val_loss: 0.0334 - val_mean_squared_error: 0.0334 - val_mean_absolute_error: 0.1518\n",
            "Epoch 23/100\n",
            "8/8 [==============================] - 0s 7ms/step - loss: 0.0279 - mean_squared_error: 0.0279 - mean_absolute_error: 0.1409 - val_loss: 0.0330 - val_mean_squared_error: 0.0330 - val_mean_absolute_error: 0.1511\n",
            "Epoch 24/100\n",
            "8/8 [==============================] - 0s 7ms/step - loss: 0.0259 - mean_squared_error: 0.0259 - mean_absolute_error: 0.1365 - val_loss: 0.0327 - val_mean_squared_error: 0.0327 - val_mean_absolute_error: 0.1505\n",
            "Epoch 25/100\n",
            "8/8 [==============================] - 0s 8ms/step - loss: 0.0256 - mean_squared_error: 0.0256 - mean_absolute_error: 0.1370 - val_loss: 0.0325 - val_mean_squared_error: 0.0325 - val_mean_absolute_error: 0.1498\n",
            "Epoch 26/100\n",
            "8/8 [==============================] - 0s 10ms/step - loss: 0.0259 - mean_squared_error: 0.0259 - mean_absolute_error: 0.1371 - val_loss: 0.0322 - val_mean_squared_error: 0.0322 - val_mean_absolute_error: 0.1492\n",
            "Epoch 27/100\n",
            "8/8 [==============================] - 0s 12ms/step - loss: 0.0244 - mean_squared_error: 0.0244 - mean_absolute_error: 0.1326 - val_loss: 0.0320 - val_mean_squared_error: 0.0320 - val_mean_absolute_error: 0.1486\n",
            "Epoch 28/100\n",
            "8/8 [==============================] - 0s 9ms/step - loss: 0.0228 - mean_squared_error: 0.0228 - mean_absolute_error: 0.1269 - val_loss: 0.0317 - val_mean_squared_error: 0.0317 - val_mean_absolute_error: 0.1479\n",
            "Epoch 29/100\n",
            "8/8 [==============================] - 0s 7ms/step - loss: 0.0233 - mean_squared_error: 0.0233 - mean_absolute_error: 0.1293 - val_loss: 0.0315 - val_mean_squared_error: 0.0315 - val_mean_absolute_error: 0.1473\n",
            "Epoch 30/100\n",
            "8/8 [==============================] - 0s 8ms/step - loss: 0.0231 - mean_squared_error: 0.0231 - mean_absolute_error: 0.1290 - val_loss: 0.0313 - val_mean_squared_error: 0.0313 - val_mean_absolute_error: 0.1467\n",
            "Epoch 31/100\n",
            "8/8 [==============================] - 0s 10ms/step - loss: 0.0228 - mean_squared_error: 0.0228 - mean_absolute_error: 0.1279 - val_loss: 0.0311 - val_mean_squared_error: 0.0311 - val_mean_absolute_error: 0.1462\n",
            "Epoch 32/100\n",
            "8/8 [==============================] - 0s 9ms/step - loss: 0.0218 - mean_squared_error: 0.0218 - mean_absolute_error: 0.1253 - val_loss: 0.0309 - val_mean_squared_error: 0.0309 - val_mean_absolute_error: 0.1456\n",
            "Epoch 33/100\n",
            "8/8 [==============================] - 0s 7ms/step - loss: 0.0210 - mean_squared_error: 0.0210 - mean_absolute_error: 0.1228 - val_loss: 0.0307 - val_mean_squared_error: 0.0307 - val_mean_absolute_error: 0.1451\n",
            "Epoch 34/100\n",
            "8/8 [==============================] - 0s 7ms/step - loss: 0.0218 - mean_squared_error: 0.0218 - mean_absolute_error: 0.1254 - val_loss: 0.0305 - val_mean_squared_error: 0.0305 - val_mean_absolute_error: 0.1447\n",
            "Epoch 35/100\n",
            "8/8 [==============================] - 0s 8ms/step - loss: 0.0213 - mean_squared_error: 0.0213 - mean_absolute_error: 0.1246 - val_loss: 0.0303 - val_mean_squared_error: 0.0303 - val_mean_absolute_error: 0.1442\n",
            "Epoch 36/100\n",
            "8/8 [==============================] - 0s 10ms/step - loss: 0.0202 - mean_squared_error: 0.0202 - mean_absolute_error: 0.1202 - val_loss: 0.0302 - val_mean_squared_error: 0.0302 - val_mean_absolute_error: 0.1437\n",
            "Epoch 37/100\n",
            "8/8 [==============================] - 0s 7ms/step - loss: 0.0191 - mean_squared_error: 0.0191 - mean_absolute_error: 0.1161 - val_loss: 0.0300 - val_mean_squared_error: 0.0300 - val_mean_absolute_error: 0.1432\n",
            "Epoch 38/100\n",
            "8/8 [==============================] - 0s 9ms/step - loss: 0.0192 - mean_squared_error: 0.0192 - mean_absolute_error: 0.1177 - val_loss: 0.0298 - val_mean_squared_error: 0.0298 - val_mean_absolute_error: 0.1428\n",
            "Epoch 39/100\n",
            "8/8 [==============================] - 0s 9ms/step - loss: 0.0192 - mean_squared_error: 0.0192 - mean_absolute_error: 0.1171 - val_loss: 0.0297 - val_mean_squared_error: 0.0297 - val_mean_absolute_error: 0.1423\n",
            "Epoch 40/100\n",
            "8/8 [==============================] - 0s 8ms/step - loss: 0.0185 - mean_squared_error: 0.0185 - mean_absolute_error: 0.1154 - val_loss: 0.0295 - val_mean_squared_error: 0.0295 - val_mean_absolute_error: 0.1419\n",
            "Epoch 41/100\n",
            "8/8 [==============================] - 0s 8ms/step - loss: 0.0181 - mean_squared_error: 0.0181 - mean_absolute_error: 0.1138 - val_loss: 0.0293 - val_mean_squared_error: 0.0293 - val_mean_absolute_error: 0.1415\n",
            "Epoch 42/100\n",
            "8/8 [==============================] - 0s 8ms/step - loss: 0.0175 - mean_squared_error: 0.0175 - mean_absolute_error: 0.1112 - val_loss: 0.0292 - val_mean_squared_error: 0.0292 - val_mean_absolute_error: 0.1411\n",
            "Epoch 43/100\n",
            "8/8 [==============================] - 0s 7ms/step - loss: 0.0187 - mean_squared_error: 0.0187 - mean_absolute_error: 0.1167 - val_loss: 0.0290 - val_mean_squared_error: 0.0290 - val_mean_absolute_error: 0.1408\n",
            "Epoch 44/100\n",
            "8/8 [==============================] - 0s 10ms/step - loss: 0.0179 - mean_squared_error: 0.0179 - mean_absolute_error: 0.1125 - val_loss: 0.0289 - val_mean_squared_error: 0.0289 - val_mean_absolute_error: 0.1404\n",
            "Epoch 45/100\n",
            "8/8 [==============================] - 0s 8ms/step - loss: 0.0168 - mean_squared_error: 0.0168 - mean_absolute_error: 0.1098 - val_loss: 0.0287 - val_mean_squared_error: 0.0287 - val_mean_absolute_error: 0.1401\n",
            "Epoch 46/100\n",
            "8/8 [==============================] - 0s 7ms/step - loss: 0.0157 - mean_squared_error: 0.0157 - mean_absolute_error: 0.1056 - val_loss: 0.0286 - val_mean_squared_error: 0.0286 - val_mean_absolute_error: 0.1397\n",
            "Epoch 47/100\n",
            "8/8 [==============================] - 0s 8ms/step - loss: 0.0160 - mean_squared_error: 0.0160 - mean_absolute_error: 0.1064 - val_loss: 0.0285 - val_mean_squared_error: 0.0285 - val_mean_absolute_error: 0.1394\n",
            "Epoch 48/100\n",
            "8/8 [==============================] - 0s 8ms/step - loss: 0.0159 - mean_squared_error: 0.0159 - mean_absolute_error: 0.1069 - val_loss: 0.0283 - val_mean_squared_error: 0.0283 - val_mean_absolute_error: 0.1391\n",
            "Epoch 49/100\n",
            "8/8 [==============================] - 0s 7ms/step - loss: 0.0164 - mean_squared_error: 0.0164 - mean_absolute_error: 0.1082 - val_loss: 0.0282 - val_mean_squared_error: 0.0282 - val_mean_absolute_error: 0.1388\n",
            "Epoch 50/100\n",
            "8/8 [==============================] - 0s 8ms/step - loss: 0.0155 - mean_squared_error: 0.0155 - mean_absolute_error: 0.1052 - val_loss: 0.0281 - val_mean_squared_error: 0.0281 - val_mean_absolute_error: 0.1384\n",
            "Epoch 51/100\n",
            "8/8 [==============================] - 0s 9ms/step - loss: 0.0153 - mean_squared_error: 0.0153 - mean_absolute_error: 0.1044 - val_loss: 0.0280 - val_mean_squared_error: 0.0280 - val_mean_absolute_error: 0.1381\n",
            "Epoch 52/100\n",
            "8/8 [==============================] - 0s 10ms/step - loss: 0.0144 - mean_squared_error: 0.0144 - mean_absolute_error: 0.1015 - val_loss: 0.0278 - val_mean_squared_error: 0.0278 - val_mean_absolute_error: 0.1378\n",
            "Epoch 53/100\n",
            "8/8 [==============================] - 0s 8ms/step - loss: 0.0147 - mean_squared_error: 0.0147 - mean_absolute_error: 0.1025 - val_loss: 0.0277 - val_mean_squared_error: 0.0277 - val_mean_absolute_error: 0.1376\n",
            "Epoch 54/100\n",
            "8/8 [==============================] - 0s 7ms/step - loss: 0.0141 - mean_squared_error: 0.0141 - mean_absolute_error: 0.1004 - val_loss: 0.0276 - val_mean_squared_error: 0.0276 - val_mean_absolute_error: 0.1373\n",
            "Epoch 55/100\n",
            "8/8 [==============================] - 0s 9ms/step - loss: 0.0139 - mean_squared_error: 0.0139 - mean_absolute_error: 0.1008 - val_loss: 0.0275 - val_mean_squared_error: 0.0275 - val_mean_absolute_error: 0.1370\n",
            "Epoch 56/100\n",
            "8/8 [==============================] - 0s 9ms/step - loss: 0.0127 - mean_squared_error: 0.0127 - mean_absolute_error: 0.0955 - val_loss: 0.0274 - val_mean_squared_error: 0.0274 - val_mean_absolute_error: 0.1367\n",
            "Epoch 57/100\n",
            "8/8 [==============================] - 0s 8ms/step - loss: 0.0130 - mean_squared_error: 0.0130 - mean_absolute_error: 0.0959 - val_loss: 0.0273 - val_mean_squared_error: 0.0273 - val_mean_absolute_error: 0.1365\n",
            "Epoch 58/100\n",
            "8/8 [==============================] - 0s 7ms/step - loss: 0.0128 - mean_squared_error: 0.0128 - mean_absolute_error: 0.0955 - val_loss: 0.0272 - val_mean_squared_error: 0.0272 - val_mean_absolute_error: 0.1362\n",
            "Epoch 59/100\n",
            "8/8 [==============================] - 0s 7ms/step - loss: 0.0127 - mean_squared_error: 0.0127 - mean_absolute_error: 0.0955 - val_loss: 0.0271 - val_mean_squared_error: 0.0271 - val_mean_absolute_error: 0.1360\n",
            "Epoch 60/100\n",
            "8/8 [==============================] - 0s 9ms/step - loss: 0.0123 - mean_squared_error: 0.0123 - mean_absolute_error: 0.0935 - val_loss: 0.0270 - val_mean_squared_error: 0.0270 - val_mean_absolute_error: 0.1358\n",
            "Epoch 61/100\n",
            "8/8 [==============================] - 0s 9ms/step - loss: 0.0122 - mean_squared_error: 0.0122 - mean_absolute_error: 0.0930 - val_loss: 0.0269 - val_mean_squared_error: 0.0269 - val_mean_absolute_error: 0.1356\n",
            "Epoch 62/100\n",
            "8/8 [==============================] - 0s 8ms/step - loss: 0.0120 - mean_squared_error: 0.0120 - mean_absolute_error: 0.0929 - val_loss: 0.0268 - val_mean_squared_error: 0.0268 - val_mean_absolute_error: 0.1354\n",
            "Epoch 63/100\n",
            "8/8 [==============================] - 0s 9ms/step - loss: 0.0117 - mean_squared_error: 0.0117 - mean_absolute_error: 0.0911 - val_loss: 0.0267 - val_mean_squared_error: 0.0267 - val_mean_absolute_error: 0.1352\n",
            "Epoch 64/100\n",
            "8/8 [==============================] - 0s 7ms/step - loss: 0.0107 - mean_squared_error: 0.0107 - mean_absolute_error: 0.0862 - val_loss: 0.0267 - val_mean_squared_error: 0.0267 - val_mean_absolute_error: 0.1350\n",
            "Epoch 65/100\n",
            "8/8 [==============================] - 0s 7ms/step - loss: 0.0112 - mean_squared_error: 0.0112 - mean_absolute_error: 0.0891 - val_loss: 0.0266 - val_mean_squared_error: 0.0266 - val_mean_absolute_error: 0.1348\n",
            "Epoch 66/100\n",
            "8/8 [==============================] - 0s 7ms/step - loss: 0.0113 - mean_squared_error: 0.0113 - mean_absolute_error: 0.0903 - val_loss: 0.0265 - val_mean_squared_error: 0.0265 - val_mean_absolute_error: 0.1346\n",
            "Epoch 67/100\n",
            "8/8 [==============================] - 0s 8ms/step - loss: 0.0104 - mean_squared_error: 0.0104 - mean_absolute_error: 0.0854 - val_loss: 0.0264 - val_mean_squared_error: 0.0264 - val_mean_absolute_error: 0.1344\n",
            "Epoch 68/100\n",
            "8/8 [==============================] - 0s 8ms/step - loss: 0.0106 - mean_squared_error: 0.0106 - mean_absolute_error: 0.0869 - val_loss: 0.0264 - val_mean_squared_error: 0.0264 - val_mean_absolute_error: 0.1342\n",
            "Epoch 69/100\n",
            "8/8 [==============================] - 0s 10ms/step - loss: 0.0106 - mean_squared_error: 0.0106 - mean_absolute_error: 0.0872 - val_loss: 0.0263 - val_mean_squared_error: 0.0263 - val_mean_absolute_error: 0.1340\n",
            "Epoch 70/100\n",
            "8/8 [==============================] - 0s 8ms/step - loss: 0.0101 - mean_squared_error: 0.0101 - mean_absolute_error: 0.0840 - val_loss: 0.0262 - val_mean_squared_error: 0.0262 - val_mean_absolute_error: 0.1338\n",
            "Epoch 71/100\n",
            "8/8 [==============================] - 0s 8ms/step - loss: 0.0091 - mean_squared_error: 0.0091 - mean_absolute_error: 0.0804 - val_loss: 0.0262 - val_mean_squared_error: 0.0262 - val_mean_absolute_error: 0.1337\n",
            "Epoch 72/100\n",
            "8/8 [==============================] - 0s 11ms/step - loss: 0.0101 - mean_squared_error: 0.0101 - mean_absolute_error: 0.0849 - val_loss: 0.0261 - val_mean_squared_error: 0.0261 - val_mean_absolute_error: 0.1335\n",
            "Epoch 73/100\n",
            "8/8 [==============================] - 0s 8ms/step - loss: 0.0097 - mean_squared_error: 0.0097 - mean_absolute_error: 0.0825 - val_loss: 0.0260 - val_mean_squared_error: 0.0260 - val_mean_absolute_error: 0.1333\n",
            "Epoch 74/100\n",
            "1/8 [==>...........................] - ETA: 0s - loss: 0.0101 - mean_squared_error: 0.0101 - mean_absolute_error: 0.0841"
          ],
          "name": "stdout"
        },
        {
          "output_type": "stream",
          "text": [
            "\u001b[34m\u001b[1mwandb\u001b[0m: Ctrl + C detected. Stopping sweep.\n"
          ],
          "name": "stderr"
        }
      ]
    },
    {
      "cell_type": "markdown",
      "metadata": {
        "id": "gFTu29dbi18i"
      },
      "source": [
        "# Setting up the best model\n",
        "Using the best values from the hyperparamter search with wandb, the most optimal model configuration is used."
      ]
    },
    {
      "cell_type": "code",
      "metadata": {
        "id": "NwsO8cDJPMdj"
      },
      "source": [
        "# picking the best values\n",
        "best_config = {\n",
        "    'epochs': 100,\n",
        "    'batch_size': 32,\n",
        "    'learning_rate': 0.001,\n",
        "    'optimizer': 'adam',\n",
        "    'activation': 'selu'\n",
        "}"
      ],
      "execution_count": 17,
      "outputs": []
    },
    {
      "cell_type": "code",
      "metadata": {
        "colab": {
          "base_uri": "https://localhost:8080/"
        },
        "id": "4FChEjDTvFgN",
        "outputId": "9912ab17-bab5-4cfa-84de-2060be7698b9"
      },
      "source": [
        "# clearing the settings on the keras backend\n",
        "keras.backend.clear_session()\n",
        "\n",
        "# setting keras model to sequential mode\n",
        "model = Sequential()\n",
        "\n",
        "# layer 1\n",
        "model.add(TimeDistributed(Conv1D(filters=128, kernel_size=2, activation=best_config['activation']), input_shape=(None, window_len, 1)))\n",
        "# layer 2\n",
        "model.add(TimeDistributed(MaxPooling1D(pool_size=2)))\n",
        "# layer 3\n",
        "model.add(TimeDistributed(Flatten()))\n",
        "# layer 4\n",
        "model.add(LSTM(units=128, activation='tanh', return_sequences=False))\n",
        "# layer 5\n",
        "model.add(Dropout(0.1))\n",
        "# layer 6\n",
        "model.add(Dense(1))\n",
        "\n",
        "# defining the optimiser\n",
        "if best_config['optimizer'] == 'sgd':\n",
        "  optimizer = SGD(learning_rate=best_config['learning_rate'], decay=1e-5, momentum=0.9, nesterov=True)\n",
        "elif best_config['optimizer'] == 'rmsprop':\n",
        "  optimizer = RMSprop(learning_rate=best_config['learning_rate'], decay=1e-5)\n",
        "elif best_config['optimizer'] == 'adam':\n",
        "  optimizer = Adam(learning_rate=best_config['learning_rate'], beta_1=0.9, beta_2=0.999, clipnorm=1.0)\n",
        "elif best_config['optimizer'] == 'nadam':\n",
        "  optimizer = Nadam(learning_rate=best_config['learning_rate'], beta_1=0.9, beta_2=0.999, clipnorm=1.0)\n",
        "\n",
        "# compile the model\n",
        "model.compile(optimizer, loss='mean_squared_error')\n",
        "\n",
        "# counting the number of trainable parameters\n",
        "trainable_count = count_params(model.trainable_weights)\n",
        "print('Total number of trainable parameters: ', trainable_count)"
      ],
      "execution_count": 18,
      "outputs": [
        {
          "output_type": "stream",
          "text": [
            "Total number of trainable parameters:  984065\n"
          ],
          "name": "stdout"
        }
      ]
    },
    {
      "cell_type": "code",
      "metadata": {
        "colab": {
          "base_uri": "https://localhost:8080/"
        },
        "id": "5UG8j_4r7kSu",
        "outputId": "cc4ecb2b-4ca0-40ee-9e0f-c263761e04c3"
      },
      "source": [
        "model.summary()"
      ],
      "execution_count": 19,
      "outputs": [
        {
          "output_type": "stream",
          "text": [
            "Model: \"sequential\"\n",
            "_________________________________________________________________\n",
            "Layer (type)                 Output Shape              Param #   \n",
            "=================================================================\n",
            "time_distributed (TimeDistri (None, None, 29, 128)     384       \n",
            "_________________________________________________________________\n",
            "time_distributed_1 (TimeDist (None, None, 14, 128)     0         \n",
            "_________________________________________________________________\n",
            "time_distributed_2 (TimeDist (None, None, 1792)        0         \n",
            "_________________________________________________________________\n",
            "lstm (LSTM)                  (None, 128)               983552    \n",
            "_________________________________________________________________\n",
            "dropout (Dropout)            (None, 128)               0         \n",
            "_________________________________________________________________\n",
            "dense (Dense)                (None, 1)                 129       \n",
            "=================================================================\n",
            "Total params: 984,065\n",
            "Trainable params: 984,065\n",
            "Non-trainable params: 0\n",
            "_________________________________________________________________\n"
          ],
          "name": "stdout"
        }
      ]
    },
    {
      "cell_type": "code",
      "metadata": {
        "colab": {
          "base_uri": "https://localhost:8080/"
        },
        "id": "W3v718GcE39o",
        "outputId": "0f22737d-4877-4a12-c317-6a07be21a356"
      },
      "source": [
        "# fitting the model to the training dataset\n",
        "model.fit(X_train, y_train, epochs=best_config['epochs'], batch_size=best_config['batch_size'])"
      ],
      "execution_count": 20,
      "outputs": [
        {
          "output_type": "stream",
          "text": [
            "Epoch 1/100\n",
            "39/39 [==============================] - 2s 4ms/step - loss: 0.0436\n",
            "Epoch 2/100\n",
            "39/39 [==============================] - 0s 4ms/step - loss: 0.0035\n",
            "Epoch 3/100\n",
            "39/39 [==============================] - 0s 4ms/step - loss: 0.0022\n",
            "Epoch 4/100\n",
            "39/39 [==============================] - 0s 3ms/step - loss: 0.0022\n",
            "Epoch 5/100\n",
            "39/39 [==============================] - 0s 4ms/step - loss: 0.0019\n",
            "Epoch 6/100\n",
            "39/39 [==============================] - 0s 4ms/step - loss: 0.0017\n",
            "Epoch 7/100\n",
            "39/39 [==============================] - 0s 4ms/step - loss: 0.0014\n",
            "Epoch 8/100\n",
            "39/39 [==============================] - 0s 4ms/step - loss: 0.0016\n",
            "Epoch 9/100\n",
            "39/39 [==============================] - 0s 4ms/step - loss: 0.0015\n",
            "Epoch 10/100\n",
            "39/39 [==============================] - 0s 4ms/step - loss: 0.0013\n",
            "Epoch 11/100\n",
            "39/39 [==============================] - 0s 4ms/step - loss: 0.0012\n",
            "Epoch 12/100\n",
            "39/39 [==============================] - 0s 4ms/step - loss: 0.0012\n",
            "Epoch 13/100\n",
            "39/39 [==============================] - 0s 4ms/step - loss: 0.0013\n",
            "Epoch 14/100\n",
            "39/39 [==============================] - 0s 4ms/step - loss: 0.0012\n",
            "Epoch 15/100\n",
            "39/39 [==============================] - 0s 4ms/step - loss: 0.0012\n",
            "Epoch 16/100\n",
            "39/39 [==============================] - 0s 4ms/step - loss: 0.0011\n",
            "Epoch 17/100\n",
            "39/39 [==============================] - 0s 4ms/step - loss: 0.0013\n",
            "Epoch 18/100\n",
            "39/39 [==============================] - 0s 4ms/step - loss: 0.0012\n",
            "Epoch 19/100\n",
            "39/39 [==============================] - 0s 4ms/step - loss: 9.0286e-04\n",
            "Epoch 20/100\n",
            "39/39 [==============================] - 0s 4ms/step - loss: 8.9761e-04\n",
            "Epoch 21/100\n",
            "39/39 [==============================] - 0s 4ms/step - loss: 0.0015\n",
            "Epoch 22/100\n",
            "39/39 [==============================] - 0s 4ms/step - loss: 0.0011\n",
            "Epoch 23/100\n",
            "39/39 [==============================] - 0s 4ms/step - loss: 8.8952e-04\n",
            "Epoch 24/100\n",
            "39/39 [==============================] - 0s 3ms/step - loss: 0.0010\n",
            "Epoch 25/100\n",
            "39/39 [==============================] - 0s 4ms/step - loss: 0.0035\n",
            "Epoch 26/100\n",
            "39/39 [==============================] - 0s 4ms/step - loss: 0.0011\n",
            "Epoch 27/100\n",
            "39/39 [==============================] - 0s 4ms/step - loss: 9.8468e-04\n",
            "Epoch 28/100\n",
            "39/39 [==============================] - 0s 4ms/step - loss: 9.3508e-04\n",
            "Epoch 29/100\n",
            "39/39 [==============================] - 0s 4ms/step - loss: 8.4649e-04\n",
            "Epoch 30/100\n",
            "39/39 [==============================] - 0s 4ms/step - loss: 7.9417e-04\n",
            "Epoch 31/100\n",
            "39/39 [==============================] - 0s 4ms/step - loss: 8.3344e-04\n",
            "Epoch 32/100\n",
            "39/39 [==============================] - 0s 4ms/step - loss: 7.5500e-04\n",
            "Epoch 33/100\n",
            "39/39 [==============================] - 0s 4ms/step - loss: 0.0010\n",
            "Epoch 34/100\n",
            "39/39 [==============================] - 0s 4ms/step - loss: 9.9512e-04\n",
            "Epoch 35/100\n",
            "39/39 [==============================] - 0s 4ms/step - loss: 0.0011\n",
            "Epoch 36/100\n",
            "39/39 [==============================] - 0s 4ms/step - loss: 8.8787e-04\n",
            "Epoch 37/100\n",
            "39/39 [==============================] - 0s 4ms/step - loss: 8.1828e-04\n",
            "Epoch 38/100\n",
            "39/39 [==============================] - 0s 4ms/step - loss: 7.4342e-04\n",
            "Epoch 39/100\n",
            "39/39 [==============================] - 0s 4ms/step - loss: 6.8461e-04\n",
            "Epoch 40/100\n",
            "39/39 [==============================] - 0s 4ms/step - loss: 7.3513e-04\n",
            "Epoch 41/100\n",
            "39/39 [==============================] - 0s 4ms/step - loss: 0.0010\n",
            "Epoch 42/100\n",
            "39/39 [==============================] - 0s 4ms/step - loss: 7.4489e-04\n",
            "Epoch 43/100\n",
            "39/39 [==============================] - 0s 4ms/step - loss: 7.6432e-04\n",
            "Epoch 44/100\n",
            "39/39 [==============================] - 0s 4ms/step - loss: 7.7061e-04\n",
            "Epoch 45/100\n",
            "39/39 [==============================] - 0s 4ms/step - loss: 7.3584e-04\n",
            "Epoch 46/100\n",
            "39/39 [==============================] - 0s 4ms/step - loss: 8.6485e-04\n",
            "Epoch 47/100\n",
            "39/39 [==============================] - 0s 4ms/step - loss: 8.0817e-04\n",
            "Epoch 48/100\n",
            "39/39 [==============================] - 0s 4ms/step - loss: 6.7132e-04\n",
            "Epoch 49/100\n",
            "39/39 [==============================] - 0s 4ms/step - loss: 7.0173e-04\n",
            "Epoch 50/100\n",
            "39/39 [==============================] - 0s 4ms/step - loss: 7.5474e-04\n",
            "Epoch 51/100\n",
            "39/39 [==============================] - 0s 4ms/step - loss: 6.5567e-04\n",
            "Epoch 52/100\n",
            "39/39 [==============================] - 0s 4ms/step - loss: 7.1777e-04\n",
            "Epoch 53/100\n",
            "39/39 [==============================] - 0s 4ms/step - loss: 7.6864e-04\n",
            "Epoch 54/100\n",
            "39/39 [==============================] - 0s 4ms/step - loss: 8.0651e-04\n",
            "Epoch 55/100\n",
            "39/39 [==============================] - 0s 4ms/step - loss: 7.7339e-04\n",
            "Epoch 56/100\n",
            "39/39 [==============================] - 0s 4ms/step - loss: 6.7018e-04\n",
            "Epoch 57/100\n",
            "39/39 [==============================] - 0s 4ms/step - loss: 7.4098e-04\n",
            "Epoch 58/100\n",
            "39/39 [==============================] - 0s 4ms/step - loss: 9.3798e-04\n",
            "Epoch 59/100\n",
            "39/39 [==============================] - 0s 4ms/step - loss: 7.6070e-04\n",
            "Epoch 60/100\n",
            "39/39 [==============================] - 0s 4ms/step - loss: 7.3690e-04\n",
            "Epoch 61/100\n",
            "39/39 [==============================] - 0s 4ms/step - loss: 9.6355e-04\n",
            "Epoch 62/100\n",
            "39/39 [==============================] - 0s 4ms/step - loss: 7.5007e-04\n",
            "Epoch 63/100\n",
            "39/39 [==============================] - 0s 3ms/step - loss: 7.7481e-04\n",
            "Epoch 64/100\n",
            "39/39 [==============================] - 0s 4ms/step - loss: 7.1369e-04\n",
            "Epoch 65/100\n",
            "39/39 [==============================] - 0s 4ms/step - loss: 7.0138e-04\n",
            "Epoch 66/100\n",
            "39/39 [==============================] - 0s 4ms/step - loss: 7.5389e-04\n",
            "Epoch 67/100\n",
            "39/39 [==============================] - 0s 4ms/step - loss: 6.8887e-04\n",
            "Epoch 68/100\n",
            "39/39 [==============================] - 0s 4ms/step - loss: 6.2110e-04\n",
            "Epoch 69/100\n",
            "39/39 [==============================] - 0s 4ms/step - loss: 8.6423e-04\n",
            "Epoch 70/100\n",
            "39/39 [==============================] - 0s 4ms/step - loss: 7.7781e-04\n",
            "Epoch 71/100\n",
            "39/39 [==============================] - 0s 4ms/step - loss: 6.7159e-04\n",
            "Epoch 72/100\n",
            "39/39 [==============================] - 0s 4ms/step - loss: 6.9910e-04\n",
            "Epoch 73/100\n",
            "39/39 [==============================] - 0s 4ms/step - loss: 8.1341e-04\n",
            "Epoch 74/100\n",
            "39/39 [==============================] - 0s 4ms/step - loss: 7.5378e-04\n",
            "Epoch 75/100\n",
            "39/39 [==============================] - 0s 4ms/step - loss: 6.8945e-04\n",
            "Epoch 76/100\n",
            "39/39 [==============================] - 0s 4ms/step - loss: 7.9750e-04\n",
            "Epoch 77/100\n",
            "39/39 [==============================] - 0s 4ms/step - loss: 8.2952e-04\n",
            "Epoch 78/100\n",
            "39/39 [==============================] - 0s 4ms/step - loss: 6.6845e-04\n",
            "Epoch 79/100\n",
            "39/39 [==============================] - 0s 4ms/step - loss: 9.4318e-04\n",
            "Epoch 80/100\n",
            "39/39 [==============================] - 0s 4ms/step - loss: 6.9097e-04\n",
            "Epoch 81/100\n",
            "39/39 [==============================] - 0s 4ms/step - loss: 0.0010\n",
            "Epoch 82/100\n",
            "39/39 [==============================] - 0s 4ms/step - loss: 6.6014e-04\n",
            "Epoch 83/100\n",
            "39/39 [==============================] - 0s 4ms/step - loss: 7.0578e-04\n",
            "Epoch 84/100\n",
            "39/39 [==============================] - 0s 4ms/step - loss: 6.6393e-04\n",
            "Epoch 85/100\n",
            "39/39 [==============================] - 0s 4ms/step - loss: 7.2460e-04\n",
            "Epoch 86/100\n",
            "39/39 [==============================] - 0s 4ms/step - loss: 6.7339e-04\n",
            "Epoch 87/100\n",
            "39/39 [==============================] - 0s 4ms/step - loss: 8.1110e-04\n",
            "Epoch 88/100\n",
            "39/39 [==============================] - 0s 4ms/step - loss: 0.0011\n",
            "Epoch 89/100\n",
            "39/39 [==============================] - 0s 4ms/step - loss: 7.9069e-04\n",
            "Epoch 90/100\n",
            "39/39 [==============================] - 0s 4ms/step - loss: 6.6039e-04\n",
            "Epoch 91/100\n",
            "39/39 [==============================] - 0s 4ms/step - loss: 6.1620e-04\n",
            "Epoch 92/100\n",
            "39/39 [==============================] - 0s 4ms/step - loss: 8.1509e-04\n",
            "Epoch 93/100\n",
            "39/39 [==============================] - 0s 4ms/step - loss: 7.4630e-04\n",
            "Epoch 94/100\n",
            "39/39 [==============================] - 0s 4ms/step - loss: 6.5386e-04\n",
            "Epoch 95/100\n",
            "39/39 [==============================] - 0s 4ms/step - loss: 8.5627e-04\n",
            "Epoch 96/100\n",
            "39/39 [==============================] - 0s 4ms/step - loss: 7.1314e-04\n",
            "Epoch 97/100\n",
            "39/39 [==============================] - 0s 4ms/step - loss: 7.1278e-04\n",
            "Epoch 98/100\n",
            "39/39 [==============================] - 0s 4ms/step - loss: 6.7605e-04\n",
            "Epoch 99/100\n",
            "39/39 [==============================] - 0s 4ms/step - loss: 7.0200e-04\n",
            "Epoch 100/100\n",
            "39/39 [==============================] - 0s 4ms/step - loss: 8.8134e-04\n"
          ],
          "name": "stdout"
        },
        {
          "output_type": "execute_result",
          "data": {
            "text/plain": [
              "<keras.callbacks.History at 0x7f933a2d8d90>"
            ]
          },
          "metadata": {
            "tags": []
          },
          "execution_count": 20
        }
      ]
    },
    {
      "cell_type": "code",
      "metadata": {
        "id": "rTXJN51l9Y-F"
      },
      "source": [
        "# creating an instance of Baseline_Model class using X_test\n",
        "base_model = Base_Model(X_test, window_len)\n",
        "# calling predict_y method\n",
        "base_model.predict_y(in_data.test_len - window_len)\n",
        "\n",
        "# using the model to predict y from X_test\n",
        "y_pred = model.predict(X_test)\n",
        "# assigning y_dummy variable to .y_pred class attribute\n",
        "y_dummy = base_model.y_pred\n",
        "\n",
        "# calling class method extract_real_price to generate unnormalised prices\n",
        "in_data.extract_real_prices(y_pred, y_dummy)\n",
        "\n",
        "# assinging y_true variable\n",
        "y_true = in_data.y_true\n",
        "\n",
        "# assigning actual_price, predicted_price and dummy_price\n",
        "actual_price = in_data.actual_price\n",
        "predicted_price = in_data.predicted_price\n",
        "dummy_price = in_data.dummy_price"
      ],
      "execution_count": 21,
      "outputs": []
    },
    {
      "cell_type": "markdown",
      "metadata": {
        "id": "H-D-XHyRjFMp"
      },
      "source": [
        "# Plotting the prediction results and getting errors\n",
        "The cells below plot the actual, predicted and dummy prices using the Security_Plotter class before finally saving the model and plot."
      ]
    },
    {
      "cell_type": "code",
      "metadata": {
        "colab": {
          "base_uri": "https://localhost:8080/",
          "height": 395
        },
        "id": "PgjvooOD3jq3",
        "outputId": "b729e17c-93d5-4d50-8d4e-bc584361e4d9"
      },
      "source": [
        "plotter = Security_Plotter(in_data, actual_price, predicted_price,\n",
        "                            dummy_price, in_data.train_len, window_len, in_str, model_str)\n",
        "\n",
        "plotter.single_plot()"
      ],
      "execution_count": 22,
      "outputs": [
        {
          "output_type": "display_data",
          "data": {
            "image/png": "[encoded data removed]",
            "text/plain": [
              "<Figure size 864x432 with 1 Axes>"
            ]
          },
          "metadata": {
            "tags": [],
            "needs_background": "light"
          }
        }
      ]
    },
    {
      "cell_type": "code",
      "metadata": {
        "id": "AxaH7IUCxSXw",
        "colab": {
          "base_uri": "https://localhost:8080/",
          "height": 748
        },
        "outputId": "caeacd70-785a-4d6e-f5c7-bd2a42e54941"
      },
      "source": [
        "plot_model(model, show_shapes=True, expand_nested=True)"
      ],
      "execution_count": 23,
      "outputs": [
        {
          "output_type": "execute_result",
          "data": {
            "image/png": "[encoded data removed]",
            "text/plain": [
              "<IPython.core.display.Image object>"
            ]
          },
          "metadata": {
            "tags": []
          },
          "execution_count": 23
        }
      ]
    },
    {
      "cell_type": "code",
      "metadata": {
        "colab": {
          "base_uri": "https://localhost:8080/"
        },
        "id": "bFfQGfb79SJS",
        "outputId": "2c45840c-c04d-44b2-c51a-e0853bc14956"
      },
      "source": [
        "# calculating mean squared error\n",
        "mse = mean_squared_error(y_true, y_pred)\n",
        "d_mse = mean_squared_error(y_true, y_dummy)\n",
        "\n",
        "# calculating root mean squared error\n",
        "rmse = mean_squared_error(y_true, y_pred, squared=False)\n",
        "d_rmse = mean_squared_error(y_true, y_dummy, squared=False)\n",
        "\n",
        "# calculating mean absolute error\n",
        "mae = mean_absolute_error(y_true, y_pred)\n",
        "d_mae = mean_absolute_error(y_true, y_dummy)\n",
        "\n",
        "print('MSE: ', mse)\n",
        "print('RMSE: ', rmse)\n",
        "print('MAE: ', mae)\n",
        "print('Dummy MSE: ', d_mse)\n",
        "print('Dummy RMSE: ', d_rmse)\n",
        "print('Dummy MAE: ', d_mae)"
      ],
      "execution_count": 24,
      "outputs": [
        {
          "output_type": "stream",
          "text": [
            "MSE:  0.006412647692502546\n",
            "RMSE:  0.08007900906294074\n",
            "MAE:  0.058612017054940575\n",
            "Dummy MSE:  0.01786933010743511\n",
            "Dummy RMSE:  0.13367621369351806\n",
            "Dummy MAE:  0.10749275974657799\n"
          ],
          "name": "stdout"
        }
      ]
    },
    {
      "cell_type": "code",
      "metadata": {
        "id": "4YttzJHHU4-s",
        "colab": {
          "base_uri": "https://localhost:8080/"
        },
        "outputId": "dc630887-d582-4226-cf19-4e078a734f4d"
      },
      "source": [
        "# creating a string to save the model based on model name\n",
        "save_path = '/content/gdrive/My Drive/models/'+model_str+'_'+in_str+'/'\n",
        "# mounting google drive for easy storage of model\n",
        "from google.colab import drive\n",
        "# mounting the drive\n",
        "drive.mount('/content/gdrive/')\n",
        "# making the relevant directory to store the model\n",
        "os.mkdir(save_path)\n",
        "# saving the model\n",
        "keras.models.save_model(model, save_path)\n",
        "# saving the model graph\n",
        "model_graph = plot_model(model, to_file=save_path+model_str+'_'+in_str+'_graph_.png', show_shapes=True, expand_nested=True)\n",
        "# saving the matplotlib plot\n",
        "plotter.fig.savefig(save_path+model_str+'_'+in_str+'_plot.png', bbox_inches='tight')\n",
        "# saving the error metrics as a text file\n",
        "error_file = open(save_path+model_str+'_'+in_str+'_metrics.txt', 'w+')\n",
        "error_file.write('MSE: '+str(mse)+'\\n'+'RMSE: '+str(rmse)+'\\n'+'MAE: '+str(mae)+'\\n'+\n",
        "                 'Dummy MSE: '+str(d_mse)+'\\n'+'Dummy RMSE: '+str(d_rmse)+'\\n'+'Dummy MAE: '+str(d_mae))\n",
        "error_file.close()"
      ],
      "execution_count": 25,
      "outputs": [
        {
          "output_type": "stream",
          "text": [
            "Mounted at /content/gdrive/\n"
          ],
          "name": "stdout"
        },
        {
          "output_type": "stream",
          "text": [
            "WARNING:absl:Found untraced functions such as lstm_cell_layer_call_and_return_conditional_losses, lstm_cell_layer_call_fn, lstm_cell_layer_call_fn, lstm_cell_layer_call_and_return_conditional_losses, lstm_cell_layer_call_and_return_conditional_losses while saving (showing 5 of 5). These functions will not be directly callable after loading.\n"
          ],
          "name": "stderr"
        },
        {
          "output_type": "stream",
          "text": [
            "INFO:tensorflow:Assets written to: /content/gdrive/My Drive/models/CNN_LSTM_Google/assets\n"
          ],
          "name": "stdout"
        },
        {
          "output_type": "stream",
          "text": [
            "INFO:tensorflow:Assets written to: /content/gdrive/My Drive/models/CNN_LSTM_Google/assets\n"
          ],
          "name": "stderr"
        }
      ]
    }
  ]
}