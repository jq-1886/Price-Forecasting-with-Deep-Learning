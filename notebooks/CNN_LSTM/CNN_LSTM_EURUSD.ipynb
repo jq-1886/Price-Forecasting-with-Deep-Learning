{
  "nbformat": 4,
  "nbformat_minor": 0,
  "metadata": {
    "colab": {
      "name": "CNN_LSTM_EURUSD.ipynb",
      "provenance": [],
      "collapsed_sections": [],
      "authorship_tag": "ABX9TyNv231mESlFfhNQB4hbG6gq",
      "include_colab_link": true
    },
    "kernelspec": {
      "name": "python3",
      "display_name": "Python 3"
    },
    "language_info": {
      "name": "python"
    },
    "accelerator": "GPU",
    "widgets": {
      "application/vnd.jupyter.widget-state+json": {
        "89aa3a303224479b88d193ed96418a22": {
          "model_module": "@jupyter-widgets/controls",
          "model_name": "VBoxModel",
          "state": {
            "_view_name": "VBoxView",
            "_dom_classes": [],
            "_model_name": "VBoxModel",
            "_view_module": "@jupyter-widgets/controls",
            "_model_module_version": "1.5.0",
            "_view_count": null,
            "_view_module_version": "1.5.0",
            "box_style": "",
            "layout": "IPY_MODEL_2bced459868e45ba8f2972b958505227",
            "_model_module": "@jupyter-widgets/controls",
            "children": [
              "IPY_MODEL_2d48c5da44aa467e96bc29540e5ffc11",
              "IPY_MODEL_cc80a673c0df46779850b8ca6ba4424b"
            ]
          }
        },
        "2bced459868e45ba8f2972b958505227": {
          "model_module": "@jupyter-widgets/base",
          "model_name": "LayoutModel",
          "state": {
            "_view_name": "LayoutView",
            "grid_template_rows": null,
            "right": null,
            "justify_content": null,
            "_view_module": "@jupyter-widgets/base",
            "overflow": null,
            "_model_module_version": "1.2.0",
            "_view_count": null,
            "flex_flow": null,
            "width": null,
            "min_width": null,
            "border": null,
            "align_items": null,
            "bottom": null,
            "_model_module": "@jupyter-widgets/base",
            "top": null,
            "grid_column": null,
            "overflow_y": null,
            "overflow_x": null,
            "grid_auto_flow": null,
            "grid_area": null,
            "grid_template_columns": null,
            "flex": null,
            "_model_name": "LayoutModel",
            "justify_items": null,
            "grid_row": null,
            "max_height": null,
            "align_content": null,
            "visibility": null,
            "align_self": null,
            "height": null,
            "min_height": null,
            "padding": null,
            "grid_auto_rows": null,
            "grid_gap": null,
            "max_width": null,
            "order": null,
            "_view_module_version": "1.2.0",
            "grid_template_areas": null,
            "object_position": null,
            "object_fit": null,
            "grid_auto_columns": null,
            "margin": null,
            "display": null,
            "left": null
          }
        },
        "2d48c5da44aa467e96bc29540e5ffc11": {
          "model_module": "@jupyter-widgets/controls",
          "model_name": "LabelModel",
          "state": {
            "_view_name": "LabelView",
            "style": "IPY_MODEL_240cc34f746949859327d96fb9c8a495",
            "_dom_classes": [],
            "description": "",
            "_model_name": "LabelModel",
            "placeholder": "​",
            "_view_module": "@jupyter-widgets/controls",
            "_model_module_version": "1.5.0",
            "value": " 11.60MB of 11.60MB uploaded (0.00MB deduped)\r",
            "_view_count": null,
            "_view_module_version": "1.5.0",
            "description_tooltip": null,
            "_model_module": "@jupyter-widgets/controls",
            "layout": "IPY_MODEL_37d8a5a8175642b2bec9b762cd2d7ac2"
          }
        },
        "cc80a673c0df46779850b8ca6ba4424b": {
          "model_module": "@jupyter-widgets/controls",
          "model_name": "FloatProgressModel",
          "state": {
            "_view_name": "ProgressView",
            "style": "IPY_MODEL_cce6ba23f52e44cabe678b5ba6aaed27",
            "_dom_classes": [],
            "description": "",
            "_model_name": "FloatProgressModel",
            "bar_style": "",
            "max": 1,
            "_view_module": "@jupyter-widgets/controls",
            "_model_module_version": "1.5.0",
            "value": 1,
            "_view_count": null,
            "_view_module_version": "1.5.0",
            "orientation": "horizontal",
            "min": 0,
            "description_tooltip": null,
            "_model_module": "@jupyter-widgets/controls",
            "layout": "IPY_MODEL_3d2c3681791b4c7fb96fc34808ee0552"
          }
        },
        "240cc34f746949859327d96fb9c8a495": {
          "model_module": "@jupyter-widgets/controls",
          "model_name": "DescriptionStyleModel",
          "state": {
            "_view_name": "StyleView",
            "_model_name": "DescriptionStyleModel",
            "description_width": "",
            "_view_module": "@jupyter-widgets/base",
            "_model_module_version": "1.5.0",
            "_view_count": null,
            "_view_module_version": "1.2.0",
            "_model_module": "@jupyter-widgets/controls"
          }
        },
        "37d8a5a8175642b2bec9b762cd2d7ac2": {
          "model_module": "@jupyter-widgets/base",
          "model_name": "LayoutModel",
          "state": {
            "_view_name": "LayoutView",
            "grid_template_rows": null,
            "right": null,
            "justify_content": null,
            "_view_module": "@jupyter-widgets/base",
            "overflow": null,
            "_model_module_version": "1.2.0",
            "_view_count": null,
            "flex_flow": null,
            "width": null,
            "min_width": null,
            "border": null,
            "align_items": null,
            "bottom": null,
            "_model_module": "@jupyter-widgets/base",
            "top": null,
            "grid_column": null,
            "overflow_y": null,
            "overflow_x": null,
            "grid_auto_flow": null,
            "grid_area": null,
            "grid_template_columns": null,
            "flex": null,
            "_model_name": "LayoutModel",
            "justify_items": null,
            "grid_row": null,
            "max_height": null,
            "align_content": null,
            "visibility": null,
            "align_self": null,
            "height": null,
            "min_height": null,
            "padding": null,
            "grid_auto_rows": null,
            "grid_gap": null,
            "max_width": null,
            "order": null,
            "_view_module_version": "1.2.0",
            "grid_template_areas": null,
            "object_position": null,
            "object_fit": null,
            "grid_auto_columns": null,
            "margin": null,
            "display": null,
            "left": null
          }
        },
        "cce6ba23f52e44cabe678b5ba6aaed27": {
          "model_module": "@jupyter-widgets/controls",
          "model_name": "ProgressStyleModel",
          "state": {
            "_view_name": "StyleView",
            "_model_name": "ProgressStyleModel",
            "description_width": "",
            "_view_module": "@jupyter-widgets/base",
            "_model_module_version": "1.5.0",
            "_view_count": null,
            "_view_module_version": "1.2.0",
            "bar_color": null,
            "_model_module": "@jupyter-widgets/controls"
          }
        },
        "3d2c3681791b4c7fb96fc34808ee0552": {
          "model_module": "@jupyter-widgets/base",
          "model_name": "LayoutModel",
          "state": {
            "_view_name": "LayoutView",
            "grid_template_rows": null,
            "right": null,
            "justify_content": null,
            "_view_module": "@jupyter-widgets/base",
            "overflow": null,
            "_model_module_version": "1.2.0",
            "_view_count": null,
            "flex_flow": null,
            "width": null,
            "min_width": null,
            "border": null,
            "align_items": null,
            "bottom": null,
            "_model_module": "@jupyter-widgets/base",
            "top": null,
            "grid_column": null,
            "overflow_y": null,
            "overflow_x": null,
            "grid_auto_flow": null,
            "grid_area": null,
            "grid_template_columns": null,
            "flex": null,
            "_model_name": "LayoutModel",
            "justify_items": null,
            "grid_row": null,
            "max_height": null,
            "align_content": null,
            "visibility": null,
            "align_self": null,
            "height": null,
            "min_height": null,
            "padding": null,
            "grid_auto_rows": null,
            "grid_gap": null,
            "max_width": null,
            "order": null,
            "_view_module_version": "1.2.0",
            "grid_template_areas": null,
            "object_position": null,
            "object_fit": null,
            "grid_auto_columns": null,
            "margin": null,
            "display": null,
            "left": null
          }
        },
        "a3b9cb8967ba48e1a3ced7a9c6d3f361": {
          "model_module": "@jupyter-widgets/controls",
          "model_name": "VBoxModel",
          "state": {
            "_view_name": "VBoxView",
            "_dom_classes": [],
            "_model_name": "VBoxModel",
            "_view_module": "@jupyter-widgets/controls",
            "_model_module_version": "1.5.0",
            "_view_count": null,
            "_view_module_version": "1.5.0",
            "box_style": "",
            "layout": "IPY_MODEL_1a4b16c0c3944ee9ba737f4ab348df73",
            "_model_module": "@jupyter-widgets/controls",
            "children": [
              "IPY_MODEL_7d63b567935a4acaa6dd34a3a9b0f4ab",
              "IPY_MODEL_bfc2b9c2c9b04cd6aacebaccefc33d30"
            ]
          }
        },
        "1a4b16c0c3944ee9ba737f4ab348df73": {
          "model_module": "@jupyter-widgets/base",
          "model_name": "LayoutModel",
          "state": {
            "_view_name": "LayoutView",
            "grid_template_rows": null,
            "right": null,
            "justify_content": null,
            "_view_module": "@jupyter-widgets/base",
            "overflow": null,
            "_model_module_version": "1.2.0",
            "_view_count": null,
            "flex_flow": null,
            "width": null,
            "min_width": null,
            "border": null,
            "align_items": null,
            "bottom": null,
            "_model_module": "@jupyter-widgets/base",
            "top": null,
            "grid_column": null,
            "overflow_y": null,
            "overflow_x": null,
            "grid_auto_flow": null,
            "grid_area": null,
            "grid_template_columns": null,
            "flex": null,
            "_model_name": "LayoutModel",
            "justify_items": null,
            "grid_row": null,
            "max_height": null,
            "align_content": null,
            "visibility": null,
            "align_self": null,
            "height": null,
            "min_height": null,
            "padding": null,
            "grid_auto_rows": null,
            "grid_gap": null,
            "max_width": null,
            "order": null,
            "_view_module_version": "1.2.0",
            "grid_template_areas": null,
            "object_position": null,
            "object_fit": null,
            "grid_auto_columns": null,
            "margin": null,
            "display": null,
            "left": null
          }
        },
        "7d63b567935a4acaa6dd34a3a9b0f4ab": {
          "model_module": "@jupyter-widgets/controls",
          "model_name": "LabelModel",
          "state": {
            "_view_name": "LabelView",
            "style": "IPY_MODEL_b5325f310b7c4ddc9379e83d1a8d6b95",
            "_dom_classes": [],
            "description": "",
            "_model_name": "LabelModel",
            "placeholder": "​",
            "_view_module": "@jupyter-widgets/controls",
            "_model_module_version": "1.5.0",
            "value": " 11.61MB of 11.61MB uploaded (0.00MB deduped)\r",
            "_view_count": null,
            "_view_module_version": "1.5.0",
            "description_tooltip": null,
            "_model_module": "@jupyter-widgets/controls",
            "layout": "IPY_MODEL_a2495e890bf44197bbae411f27324f1c"
          }
        },
        "bfc2b9c2c9b04cd6aacebaccefc33d30": {
          "model_module": "@jupyter-widgets/controls",
          "model_name": "FloatProgressModel",
          "state": {
            "_view_name": "ProgressView",
            "style": "IPY_MODEL_cb0d0b27efc84ebf81a9a7d3a8376935",
            "_dom_classes": [],
            "description": "",
            "_model_name": "FloatProgressModel",
            "bar_style": "",
            "max": 1,
            "_view_module": "@jupyter-widgets/controls",
            "_model_module_version": "1.5.0",
            "value": 1,
            "_view_count": null,
            "_view_module_version": "1.5.0",
            "orientation": "horizontal",
            "min": 0,
            "description_tooltip": null,
            "_model_module": "@jupyter-widgets/controls",
            "layout": "IPY_MODEL_75a23c69f63545419dcacb6d6d2afbc2"
          }
        },
        "b5325f310b7c4ddc9379e83d1a8d6b95": {
          "model_module": "@jupyter-widgets/controls",
          "model_name": "DescriptionStyleModel",
          "state": {
            "_view_name": "StyleView",
            "_model_name": "DescriptionStyleModel",
            "description_width": "",
            "_view_module": "@jupyter-widgets/base",
            "_model_module_version": "1.5.0",
            "_view_count": null,
            "_view_module_version": "1.2.0",
            "_model_module": "@jupyter-widgets/controls"
          }
        },
        "a2495e890bf44197bbae411f27324f1c": {
          "model_module": "@jupyter-widgets/base",
          "model_name": "LayoutModel",
          "state": {
            "_view_name": "LayoutView",
            "grid_template_rows": null,
            "right": null,
            "justify_content": null,
            "_view_module": "@jupyter-widgets/base",
            "overflow": null,
            "_model_module_version": "1.2.0",
            "_view_count": null,
            "flex_flow": null,
            "width": null,
            "min_width": null,
            "border": null,
            "align_items": null,
            "bottom": null,
            "_model_module": "@jupyter-widgets/base",
            "top": null,
            "grid_column": null,
            "overflow_y": null,
            "overflow_x": null,
            "grid_auto_flow": null,
            "grid_area": null,
            "grid_template_columns": null,
            "flex": null,
            "_model_name": "LayoutModel",
            "justify_items": null,
            "grid_row": null,
            "max_height": null,
            "align_content": null,
            "visibility": null,
            "align_self": null,
            "height": null,
            "min_height": null,
            "padding": null,
            "grid_auto_rows": null,
            "grid_gap": null,
            "max_width": null,
            "order": null,
            "_view_module_version": "1.2.0",
            "grid_template_areas": null,
            "object_position": null,
            "object_fit": null,
            "grid_auto_columns": null,
            "margin": null,
            "display": null,
            "left": null
          }
        },
        "cb0d0b27efc84ebf81a9a7d3a8376935": {
          "model_module": "@jupyter-widgets/controls",
          "model_name": "ProgressStyleModel",
          "state": {
            "_view_name": "StyleView",
            "_model_name": "ProgressStyleModel",
            "description_width": "",
            "_view_module": "@jupyter-widgets/base",
            "_model_module_version": "1.5.0",
            "_view_count": null,
            "_view_module_version": "1.2.0",
            "bar_color": null,
            "_model_module": "@jupyter-widgets/controls"
          }
        },
        "75a23c69f63545419dcacb6d6d2afbc2": {
          "model_module": "@jupyter-widgets/base",
          "model_name": "LayoutModel",
          "state": {
            "_view_name": "LayoutView",
            "grid_template_rows": null,
            "right": null,
            "justify_content": null,
            "_view_module": "@jupyter-widgets/base",
            "overflow": null,
            "_model_module_version": "1.2.0",
            "_view_count": null,
            "flex_flow": null,
            "width": null,
            "min_width": null,
            "border": null,
            "align_items": null,
            "bottom": null,
            "_model_module": "@jupyter-widgets/base",
            "top": null,
            "grid_column": null,
            "overflow_y": null,
            "overflow_x": null,
            "grid_auto_flow": null,
            "grid_area": null,
            "grid_template_columns": null,
            "flex": null,
            "_model_name": "LayoutModel",
            "justify_items": null,
            "grid_row": null,
            "max_height": null,
            "align_content": null,
            "visibility": null,
            "align_self": null,
            "height": null,
            "min_height": null,
            "padding": null,
            "grid_auto_rows": null,
            "grid_gap": null,
            "max_width": null,
            "order": null,
            "_view_module_version": "1.2.0",
            "grid_template_areas": null,
            "object_position": null,
            "object_fit": null,
            "grid_auto_columns": null,
            "margin": null,
            "display": null,
            "left": null
          }
        },
        "3af62cd0ed064c51ada042cf0874cd05": {
          "model_module": "@jupyter-widgets/controls",
          "model_name": "VBoxModel",
          "state": {
            "_view_name": "VBoxView",
            "_dom_classes": [],
            "_model_name": "VBoxModel",
            "_view_module": "@jupyter-widgets/controls",
            "_model_module_version": "1.5.0",
            "_view_count": null,
            "_view_module_version": "1.5.0",
            "box_style": "",
            "layout": "IPY_MODEL_7edd360da18246dfb616ae36a626e580",
            "_model_module": "@jupyter-widgets/controls",
            "children": [
              "IPY_MODEL_4be85c67516d4315928b1cf66e1ea726",
              "IPY_MODEL_a6e96c4b71464b14b78ef1ab79300271"
            ]
          }
        },
        "7edd360da18246dfb616ae36a626e580": {
          "model_module": "@jupyter-widgets/base",
          "model_name": "LayoutModel",
          "state": {
            "_view_name": "LayoutView",
            "grid_template_rows": null,
            "right": null,
            "justify_content": null,
            "_view_module": "@jupyter-widgets/base",
            "overflow": null,
            "_model_module_version": "1.2.0",
            "_view_count": null,
            "flex_flow": null,
            "width": null,
            "min_width": null,
            "border": null,
            "align_items": null,
            "bottom": null,
            "_model_module": "@jupyter-widgets/base",
            "top": null,
            "grid_column": null,
            "overflow_y": null,
            "overflow_x": null,
            "grid_auto_flow": null,
            "grid_area": null,
            "grid_template_columns": null,
            "flex": null,
            "_model_name": "LayoutModel",
            "justify_items": null,
            "grid_row": null,
            "max_height": null,
            "align_content": null,
            "visibility": null,
            "align_self": null,
            "height": null,
            "min_height": null,
            "padding": null,
            "grid_auto_rows": null,
            "grid_gap": null,
            "max_width": null,
            "order": null,
            "_view_module_version": "1.2.0",
            "grid_template_areas": null,
            "object_position": null,
            "object_fit": null,
            "grid_auto_columns": null,
            "margin": null,
            "display": null,
            "left": null
          }
        },
        "4be85c67516d4315928b1cf66e1ea726": {
          "model_module": "@jupyter-widgets/controls",
          "model_name": "LabelModel",
          "state": {
            "_view_name": "LabelView",
            "style": "IPY_MODEL_0419591eb1fd4ff5b35f1ff912ca095f",
            "_dom_classes": [],
            "description": "",
            "_model_name": "LabelModel",
            "placeholder": "​",
            "_view_module": "@jupyter-widgets/controls",
            "_model_module_version": "1.5.0",
            "value": " 11.63MB of 11.63MB uploaded (0.00MB deduped)\r",
            "_view_count": null,
            "_view_module_version": "1.5.0",
            "description_tooltip": null,
            "_model_module": "@jupyter-widgets/controls",
            "layout": "IPY_MODEL_fdc6222077a24c6b9f21cc6e421f7484"
          }
        },
        "a6e96c4b71464b14b78ef1ab79300271": {
          "model_module": "@jupyter-widgets/controls",
          "model_name": "FloatProgressModel",
          "state": {
            "_view_name": "ProgressView",
            "style": "IPY_MODEL_39228603756341f7888ec9ea2ba43e77",
            "_dom_classes": [],
            "description": "",
            "_model_name": "FloatProgressModel",
            "bar_style": "",
            "max": 1,
            "_view_module": "@jupyter-widgets/controls",
            "_model_module_version": "1.5.0",
            "value": 1,
            "_view_count": null,
            "_view_module_version": "1.5.0",
            "orientation": "horizontal",
            "min": 0,
            "description_tooltip": null,
            "_model_module": "@jupyter-widgets/controls",
            "layout": "IPY_MODEL_eaaf6bcfe1c349858cd52903a71e8f8f"
          }
        },
        "0419591eb1fd4ff5b35f1ff912ca095f": {
          "model_module": "@jupyter-widgets/controls",
          "model_name": "DescriptionStyleModel",
          "state": {
            "_view_name": "StyleView",
            "_model_name": "DescriptionStyleModel",
            "description_width": "",
            "_view_module": "@jupyter-widgets/base",
            "_model_module_version": "1.5.0",
            "_view_count": null,
            "_view_module_version": "1.2.0",
            "_model_module": "@jupyter-widgets/controls"
          }
        },
        "fdc6222077a24c6b9f21cc6e421f7484": {
          "model_module": "@jupyter-widgets/base",
          "model_name": "LayoutModel",
          "state": {
            "_view_name": "LayoutView",
            "grid_template_rows": null,
            "right": null,
            "justify_content": null,
            "_view_module": "@jupyter-widgets/base",
            "overflow": null,
            "_model_module_version": "1.2.0",
            "_view_count": null,
            "flex_flow": null,
            "width": null,
            "min_width": null,
            "border": null,
            "align_items": null,
            "bottom": null,
            "_model_module": "@jupyter-widgets/base",
            "top": null,
            "grid_column": null,
            "overflow_y": null,
            "overflow_x": null,
            "grid_auto_flow": null,
            "grid_area": null,
            "grid_template_columns": null,
            "flex": null,
            "_model_name": "LayoutModel",
            "justify_items": null,
            "grid_row": null,
            "max_height": null,
            "align_content": null,
            "visibility": null,
            "align_self": null,
            "height": null,
            "min_height": null,
            "padding": null,
            "grid_auto_rows": null,
            "grid_gap": null,
            "max_width": null,
            "order": null,
            "_view_module_version": "1.2.0",
            "grid_template_areas": null,
            "object_position": null,
            "object_fit": null,
            "grid_auto_columns": null,
            "margin": null,
            "display": null,
            "left": null
          }
        },
        "39228603756341f7888ec9ea2ba43e77": {
          "model_module": "@jupyter-widgets/controls",
          "model_name": "ProgressStyleModel",
          "state": {
            "_view_name": "StyleView",
            "_model_name": "ProgressStyleModel",
            "description_width": "",
            "_view_module": "@jupyter-widgets/base",
            "_model_module_version": "1.5.0",
            "_view_count": null,
            "_view_module_version": "1.2.0",
            "bar_color": null,
            "_model_module": "@jupyter-widgets/controls"
          }
        },
        "eaaf6bcfe1c349858cd52903a71e8f8f": {
          "model_module": "@jupyter-widgets/base",
          "model_name": "LayoutModel",
          "state": {
            "_view_name": "LayoutView",
            "grid_template_rows": null,
            "right": null,
            "justify_content": null,
            "_view_module": "@jupyter-widgets/base",
            "overflow": null,
            "_model_module_version": "1.2.0",
            "_view_count": null,
            "flex_flow": null,
            "width": null,
            "min_width": null,
            "border": null,
            "align_items": null,
            "bottom": null,
            "_model_module": "@jupyter-widgets/base",
            "top": null,
            "grid_column": null,
            "overflow_y": null,
            "overflow_x": null,
            "grid_auto_flow": null,
            "grid_area": null,
            "grid_template_columns": null,
            "flex": null,
            "_model_name": "LayoutModel",
            "justify_items": null,
            "grid_row": null,
            "max_height": null,
            "align_content": null,
            "visibility": null,
            "align_self": null,
            "height": null,
            "min_height": null,
            "padding": null,
            "grid_auto_rows": null,
            "grid_gap": null,
            "max_width": null,
            "order": null,
            "_view_module_version": "1.2.0",
            "grid_template_areas": null,
            "object_position": null,
            "object_fit": null,
            "grid_auto_columns": null,
            "margin": null,
            "display": null,
            "left": null
          }
        },
        "dacc6d8c29564c30807e880250df1a14": {
          "model_module": "@jupyter-widgets/controls",
          "model_name": "VBoxModel",
          "state": {
            "_view_name": "VBoxView",
            "_dom_classes": [],
            "_model_name": "VBoxModel",
            "_view_module": "@jupyter-widgets/controls",
            "_model_module_version": "1.5.0",
            "_view_count": null,
            "_view_module_version": "1.5.0",
            "box_style": "",
            "layout": "IPY_MODEL_ccf6807be8554e8cb56203cc0388764a",
            "_model_module": "@jupyter-widgets/controls",
            "children": [
              "IPY_MODEL_dbedefe80a574b05b613a95814ddbef7",
              "IPY_MODEL_3665e140aeca459d8e31268a9062aa1d"
            ]
          }
        },
        "ccf6807be8554e8cb56203cc0388764a": {
          "model_module": "@jupyter-widgets/base",
          "model_name": "LayoutModel",
          "state": {
            "_view_name": "LayoutView",
            "grid_template_rows": null,
            "right": null,
            "justify_content": null,
            "_view_module": "@jupyter-widgets/base",
            "overflow": null,
            "_model_module_version": "1.2.0",
            "_view_count": null,
            "flex_flow": null,
            "width": null,
            "min_width": null,
            "border": null,
            "align_items": null,
            "bottom": null,
            "_model_module": "@jupyter-widgets/base",
            "top": null,
            "grid_column": null,
            "overflow_y": null,
            "overflow_x": null,
            "grid_auto_flow": null,
            "grid_area": null,
            "grid_template_columns": null,
            "flex": null,
            "_model_name": "LayoutModel",
            "justify_items": null,
            "grid_row": null,
            "max_height": null,
            "align_content": null,
            "visibility": null,
            "align_self": null,
            "height": null,
            "min_height": null,
            "padding": null,
            "grid_auto_rows": null,
            "grid_gap": null,
            "max_width": null,
            "order": null,
            "_view_module_version": "1.2.0",
            "grid_template_areas": null,
            "object_position": null,
            "object_fit": null,
            "grid_auto_columns": null,
            "margin": null,
            "display": null,
            "left": null
          }
        },
        "dbedefe80a574b05b613a95814ddbef7": {
          "model_module": "@jupyter-widgets/controls",
          "model_name": "LabelModel",
          "state": {
            "_view_name": "LabelView",
            "style": "IPY_MODEL_b79d7565e6bf4b4ca68cd013aaf92c4c",
            "_dom_classes": [],
            "description": "",
            "_model_name": "LabelModel",
            "placeholder": "​",
            "_view_module": "@jupyter-widgets/controls",
            "_model_module_version": "1.5.0",
            "value": " 7.93MB of 7.93MB uploaded (0.00MB deduped)\r",
            "_view_count": null,
            "_view_module_version": "1.5.0",
            "description_tooltip": null,
            "_model_module": "@jupyter-widgets/controls",
            "layout": "IPY_MODEL_c367bc38d5664b32857286bbe109e55a"
          }
        },
        "3665e140aeca459d8e31268a9062aa1d": {
          "model_module": "@jupyter-widgets/controls",
          "model_name": "FloatProgressModel",
          "state": {
            "_view_name": "ProgressView",
            "style": "IPY_MODEL_283b3b35385440e5a15e4498a078bb11",
            "_dom_classes": [],
            "description": "",
            "_model_name": "FloatProgressModel",
            "bar_style": "",
            "max": 1,
            "_view_module": "@jupyter-widgets/controls",
            "_model_module_version": "1.5.0",
            "value": 1,
            "_view_count": null,
            "_view_module_version": "1.5.0",
            "orientation": "horizontal",
            "min": 0,
            "description_tooltip": null,
            "_model_module": "@jupyter-widgets/controls",
            "layout": "IPY_MODEL_9bd6eab422e34c508a75ac9ddf6b04eb"
          }
        },
        "b79d7565e6bf4b4ca68cd013aaf92c4c": {
          "model_module": "@jupyter-widgets/controls",
          "model_name": "DescriptionStyleModel",
          "state": {
            "_view_name": "StyleView",
            "_model_name": "DescriptionStyleModel",
            "description_width": "",
            "_view_module": "@jupyter-widgets/base",
            "_model_module_version": "1.5.0",
            "_view_count": null,
            "_view_module_version": "1.2.0",
            "_model_module": "@jupyter-widgets/controls"
          }
        },
        "c367bc38d5664b32857286bbe109e55a": {
          "model_module": "@jupyter-widgets/base",
          "model_name": "LayoutModel",
          "state": {
            "_view_name": "LayoutView",
            "grid_template_rows": null,
            "right": null,
            "justify_content": null,
            "_view_module": "@jupyter-widgets/base",
            "overflow": null,
            "_model_module_version": "1.2.0",
            "_view_count": null,
            "flex_flow": null,
            "width": null,
            "min_width": null,
            "border": null,
            "align_items": null,
            "bottom": null,
            "_model_module": "@jupyter-widgets/base",
            "top": null,
            "grid_column": null,
            "overflow_y": null,
            "overflow_x": null,
            "grid_auto_flow": null,
            "grid_area": null,
            "grid_template_columns": null,
            "flex": null,
            "_model_name": "LayoutModel",
            "justify_items": null,
            "grid_row": null,
            "max_height": null,
            "align_content": null,
            "visibility": null,
            "align_self": null,
            "height": null,
            "min_height": null,
            "padding": null,
            "grid_auto_rows": null,
            "grid_gap": null,
            "max_width": null,
            "order": null,
            "_view_module_version": "1.2.0",
            "grid_template_areas": null,
            "object_position": null,
            "object_fit": null,
            "grid_auto_columns": null,
            "margin": null,
            "display": null,
            "left": null
          }
        },
        "283b3b35385440e5a15e4498a078bb11": {
          "model_module": "@jupyter-widgets/controls",
          "model_name": "ProgressStyleModel",
          "state": {
            "_view_name": "StyleView",
            "_model_name": "ProgressStyleModel",
            "description_width": "",
            "_view_module": "@jupyter-widgets/base",
            "_model_module_version": "1.5.0",
            "_view_count": null,
            "_view_module_version": "1.2.0",
            "bar_color": null,
            "_model_module": "@jupyter-widgets/controls"
          }
        },
        "9bd6eab422e34c508a75ac9ddf6b04eb": {
          "model_module": "@jupyter-widgets/base",
          "model_name": "LayoutModel",
          "state": {
            "_view_name": "LayoutView",
            "grid_template_rows": null,
            "right": null,
            "justify_content": null,
            "_view_module": "@jupyter-widgets/base",
            "overflow": null,
            "_model_module_version": "1.2.0",
            "_view_count": null,
            "flex_flow": null,
            "width": null,
            "min_width": null,
            "border": null,
            "align_items": null,
            "bottom": null,
            "_model_module": "@jupyter-widgets/base",
            "top": null,
            "grid_column": null,
            "overflow_y": null,
            "overflow_x": null,
            "grid_auto_flow": null,
            "grid_area": null,
            "grid_template_columns": null,
            "flex": null,
            "_model_name": "LayoutModel",
            "justify_items": null,
            "grid_row": null,
            "max_height": null,
            "align_content": null,
            "visibility": null,
            "align_self": null,
            "height": null,
            "min_height": null,
            "padding": null,
            "grid_auto_rows": null,
            "grid_gap": null,
            "max_width": null,
            "order": null,
            "_view_module_version": "1.2.0",
            "grid_template_areas": null,
            "object_position": null,
            "object_fit": null,
            "grid_auto_columns": null,
            "margin": null,
            "display": null,
            "left": null
          }
        },
        "a7162e235111499fb5514dfb96354d58": {
          "model_module": "@jupyter-widgets/controls",
          "model_name": "VBoxModel",
          "state": {
            "_view_name": "VBoxView",
            "_dom_classes": [],
            "_model_name": "VBoxModel",
            "_view_module": "@jupyter-widgets/controls",
            "_model_module_version": "1.5.0",
            "_view_count": null,
            "_view_module_version": "1.5.0",
            "box_style": "",
            "layout": "IPY_MODEL_dd37d26943904e699064f188bb9e7953",
            "_model_module": "@jupyter-widgets/controls",
            "children": [
              "IPY_MODEL_a910e8fccb87474fb50e7a9dcb1daa23",
              "IPY_MODEL_e4aa0bb3cff3446c9582e2e4b408ccd7"
            ]
          }
        },
        "dd37d26943904e699064f188bb9e7953": {
          "model_module": "@jupyter-widgets/base",
          "model_name": "LayoutModel",
          "state": {
            "_view_name": "LayoutView",
            "grid_template_rows": null,
            "right": null,
            "justify_content": null,
            "_view_module": "@jupyter-widgets/base",
            "overflow": null,
            "_model_module_version": "1.2.0",
            "_view_count": null,
            "flex_flow": null,
            "width": null,
            "min_width": null,
            "border": null,
            "align_items": null,
            "bottom": null,
            "_model_module": "@jupyter-widgets/base",
            "top": null,
            "grid_column": null,
            "overflow_y": null,
            "overflow_x": null,
            "grid_auto_flow": null,
            "grid_area": null,
            "grid_template_columns": null,
            "flex": null,
            "_model_name": "LayoutModel",
            "justify_items": null,
            "grid_row": null,
            "max_height": null,
            "align_content": null,
            "visibility": null,
            "align_self": null,
            "height": null,
            "min_height": null,
            "padding": null,
            "grid_auto_rows": null,
            "grid_gap": null,
            "max_width": null,
            "order": null,
            "_view_module_version": "1.2.0",
            "grid_template_areas": null,
            "object_position": null,
            "object_fit": null,
            "grid_auto_columns": null,
            "margin": null,
            "display": null,
            "left": null
          }
        },
        "a910e8fccb87474fb50e7a9dcb1daa23": {
          "model_module": "@jupyter-widgets/controls",
          "model_name": "LabelModel",
          "state": {
            "_view_name": "LabelView",
            "style": "IPY_MODEL_83723150f2fa428ba9808241dcf0b2af",
            "_dom_classes": [],
            "description": "",
            "_model_name": "LabelModel",
            "placeholder": "​",
            "_view_module": "@jupyter-widgets/controls",
            "_model_module_version": "1.5.0",
            "value": " 11.70MB of 11.70MB uploaded (0.00MB deduped)\r",
            "_view_count": null,
            "_view_module_version": "1.5.0",
            "description_tooltip": null,
            "_model_module": "@jupyter-widgets/controls",
            "layout": "IPY_MODEL_a2fd44c92a724278a7b9bb1665d751d6"
          }
        },
        "e4aa0bb3cff3446c9582e2e4b408ccd7": {
          "model_module": "@jupyter-widgets/controls",
          "model_name": "FloatProgressModel",
          "state": {
            "_view_name": "ProgressView",
            "style": "IPY_MODEL_6402e466130442a28be354e1b1c6218a",
            "_dom_classes": [],
            "description": "",
            "_model_name": "FloatProgressModel",
            "bar_style": "",
            "max": 1,
            "_view_module": "@jupyter-widgets/controls",
            "_model_module_version": "1.5.0",
            "value": 1,
            "_view_count": null,
            "_view_module_version": "1.5.0",
            "orientation": "horizontal",
            "min": 0,
            "description_tooltip": null,
            "_model_module": "@jupyter-widgets/controls",
            "layout": "IPY_MODEL_bb9dc68e2fd24b7eb33fb5fc230e889d"
          }
        },
        "83723150f2fa428ba9808241dcf0b2af": {
          "model_module": "@jupyter-widgets/controls",
          "model_name": "DescriptionStyleModel",
          "state": {
            "_view_name": "StyleView",
            "_model_name": "DescriptionStyleModel",
            "description_width": "",
            "_view_module": "@jupyter-widgets/base",
            "_model_module_version": "1.5.0",
            "_view_count": null,
            "_view_module_version": "1.2.0",
            "_model_module": "@jupyter-widgets/controls"
          }
        },
        "a2fd44c92a724278a7b9bb1665d751d6": {
          "model_module": "@jupyter-widgets/base",
          "model_name": "LayoutModel",
          "state": {
            "_view_name": "LayoutView",
            "grid_template_rows": null,
            "right": null,
            "justify_content": null,
            "_view_module": "@jupyter-widgets/base",
            "overflow": null,
            "_model_module_version": "1.2.0",
            "_view_count": null,
            "flex_flow": null,
            "width": null,
            "min_width": null,
            "border": null,
            "align_items": null,
            "bottom": null,
            "_model_module": "@jupyter-widgets/base",
            "top": null,
            "grid_column": null,
            "overflow_y": null,
            "overflow_x": null,
            "grid_auto_flow": null,
            "grid_area": null,
            "grid_template_columns": null,
            "flex": null,
            "_model_name": "LayoutModel",
            "justify_items": null,
            "grid_row": null,
            "max_height": null,
            "align_content": null,
            "visibility": null,
            "align_self": null,
            "height": null,
            "min_height": null,
            "padding": null,
            "grid_auto_rows": null,
            "grid_gap": null,
            "max_width": null,
            "order": null,
            "_view_module_version": "1.2.0",
            "grid_template_areas": null,
            "object_position": null,
            "object_fit": null,
            "grid_auto_columns": null,
            "margin": null,
            "display": null,
            "left": null
          }
        },
        "6402e466130442a28be354e1b1c6218a": {
          "model_module": "@jupyter-widgets/controls",
          "model_name": "ProgressStyleModel",
          "state": {
            "_view_name": "StyleView",
            "_model_name": "ProgressStyleModel",
            "description_width": "",
            "_view_module": "@jupyter-widgets/base",
            "_model_module_version": "1.5.0",
            "_view_count": null,
            "_view_module_version": "1.2.0",
            "bar_color": null,
            "_model_module": "@jupyter-widgets/controls"
          }
        },
        "bb9dc68e2fd24b7eb33fb5fc230e889d": {
          "model_module": "@jupyter-widgets/base",
          "model_name": "LayoutModel",
          "state": {
            "_view_name": "LayoutView",
            "grid_template_rows": null,
            "right": null,
            "justify_content": null,
            "_view_module": "@jupyter-widgets/base",
            "overflow": null,
            "_model_module_version": "1.2.0",
            "_view_count": null,
            "flex_flow": null,
            "width": null,
            "min_width": null,
            "border": null,
            "align_items": null,
            "bottom": null,
            "_model_module": "@jupyter-widgets/base",
            "top": null,
            "grid_column": null,
            "overflow_y": null,
            "overflow_x": null,
            "grid_auto_flow": null,
            "grid_area": null,
            "grid_template_columns": null,
            "flex": null,
            "_model_name": "LayoutModel",
            "justify_items": null,
            "grid_row": null,
            "max_height": null,
            "align_content": null,
            "visibility": null,
            "align_self": null,
            "height": null,
            "min_height": null,
            "padding": null,
            "grid_auto_rows": null,
            "grid_gap": null,
            "max_width": null,
            "order": null,
            "_view_module_version": "1.2.0",
            "grid_template_areas": null,
            "object_position": null,
            "object_fit": null,
            "grid_auto_columns": null,
            "margin": null,
            "display": null,
            "left": null
          }
        },
        "54e611cf65fa4988924d094bb811095e": {
          "model_module": "@jupyter-widgets/controls",
          "model_name": "VBoxModel",
          "state": {
            "_view_name": "VBoxView",
            "_dom_classes": [],
            "_model_name": "VBoxModel",
            "_view_module": "@jupyter-widgets/controls",
            "_model_module_version": "1.5.0",
            "_view_count": null,
            "_view_module_version": "1.5.0",
            "box_style": "",
            "layout": "IPY_MODEL_e6f818869314457d824c5d67f8cf2a36",
            "_model_module": "@jupyter-widgets/controls",
            "children": [
              "IPY_MODEL_0c9ef87ea06f45f880e7d02aff9f4655",
              "IPY_MODEL_3dd5c31880b349d295815c2fafbfba41"
            ]
          }
        },
        "e6f818869314457d824c5d67f8cf2a36": {
          "model_module": "@jupyter-widgets/base",
          "model_name": "LayoutModel",
          "state": {
            "_view_name": "LayoutView",
            "grid_template_rows": null,
            "right": null,
            "justify_content": null,
            "_view_module": "@jupyter-widgets/base",
            "overflow": null,
            "_model_module_version": "1.2.0",
            "_view_count": null,
            "flex_flow": null,
            "width": null,
            "min_width": null,
            "border": null,
            "align_items": null,
            "bottom": null,
            "_model_module": "@jupyter-widgets/base",
            "top": null,
            "grid_column": null,
            "overflow_y": null,
            "overflow_x": null,
            "grid_auto_flow": null,
            "grid_area": null,
            "grid_template_columns": null,
            "flex": null,
            "_model_name": "LayoutModel",
            "justify_items": null,
            "grid_row": null,
            "max_height": null,
            "align_content": null,
            "visibility": null,
            "align_self": null,
            "height": null,
            "min_height": null,
            "padding": null,
            "grid_auto_rows": null,
            "grid_gap": null,
            "max_width": null,
            "order": null,
            "_view_module_version": "1.2.0",
            "grid_template_areas": null,
            "object_position": null,
            "object_fit": null,
            "grid_auto_columns": null,
            "margin": null,
            "display": null,
            "left": null
          }
        },
        "0c9ef87ea06f45f880e7d02aff9f4655": {
          "model_module": "@jupyter-widgets/controls",
          "model_name": "LabelModel",
          "state": {
            "_view_name": "LabelView",
            "style": "IPY_MODEL_b6e0d71a4b114cc08d45869ec6f49928",
            "_dom_classes": [],
            "description": "",
            "_model_name": "LabelModel",
            "placeholder": "​",
            "_view_module": "@jupyter-widgets/controls",
            "_model_module_version": "1.5.0",
            "value": " 11.73MB of 11.73MB uploaded (0.00MB deduped)\r",
            "_view_count": null,
            "_view_module_version": "1.5.0",
            "description_tooltip": null,
            "_model_module": "@jupyter-widgets/controls",
            "layout": "IPY_MODEL_2d3766ccb3e24fbd91cef818332be109"
          }
        },
        "3dd5c31880b349d295815c2fafbfba41": {
          "model_module": "@jupyter-widgets/controls",
          "model_name": "FloatProgressModel",
          "state": {
            "_view_name": "ProgressView",
            "style": "IPY_MODEL_8a30f8ac26bd4ab0ac3aec462f903228",
            "_dom_classes": [],
            "description": "",
            "_model_name": "FloatProgressModel",
            "bar_style": "",
            "max": 1,
            "_view_module": "@jupyter-widgets/controls",
            "_model_module_version": "1.5.0",
            "value": 1,
            "_view_count": null,
            "_view_module_version": "1.5.0",
            "orientation": "horizontal",
            "min": 0,
            "description_tooltip": null,
            "_model_module": "@jupyter-widgets/controls",
            "layout": "IPY_MODEL_41a07a9e98fd42fda9826d8fbe3eb609"
          }
        },
        "b6e0d71a4b114cc08d45869ec6f49928": {
          "model_module": "@jupyter-widgets/controls",
          "model_name": "DescriptionStyleModel",
          "state": {
            "_view_name": "StyleView",
            "_model_name": "DescriptionStyleModel",
            "description_width": "",
            "_view_module": "@jupyter-widgets/base",
            "_model_module_version": "1.5.0",
            "_view_count": null,
            "_view_module_version": "1.2.0",
            "_model_module": "@jupyter-widgets/controls"
          }
        },
        "2d3766ccb3e24fbd91cef818332be109": {
          "model_module": "@jupyter-widgets/base",
          "model_name": "LayoutModel",
          "state": {
            "_view_name": "LayoutView",
            "grid_template_rows": null,
            "right": null,
            "justify_content": null,
            "_view_module": "@jupyter-widgets/base",
            "overflow": null,
            "_model_module_version": "1.2.0",
            "_view_count": null,
            "flex_flow": null,
            "width": null,
            "min_width": null,
            "border": null,
            "align_items": null,
            "bottom": null,
            "_model_module": "@jupyter-widgets/base",
            "top": null,
            "grid_column": null,
            "overflow_y": null,
            "overflow_x": null,
            "grid_auto_flow": null,
            "grid_area": null,
            "grid_template_columns": null,
            "flex": null,
            "_model_name": "LayoutModel",
            "justify_items": null,
            "grid_row": null,
            "max_height": null,
            "align_content": null,
            "visibility": null,
            "align_self": null,
            "height": null,
            "min_height": null,
            "padding": null,
            "grid_auto_rows": null,
            "grid_gap": null,
            "max_width": null,
            "order": null,
            "_view_module_version": "1.2.0",
            "grid_template_areas": null,
            "object_position": null,
            "object_fit": null,
            "grid_auto_columns": null,
            "margin": null,
            "display": null,
            "left": null
          }
        },
        "8a30f8ac26bd4ab0ac3aec462f903228": {
          "model_module": "@jupyter-widgets/controls",
          "model_name": "ProgressStyleModel",
          "state": {
            "_view_name": "StyleView",
            "_model_name": "ProgressStyleModel",
            "description_width": "",
            "_view_module": "@jupyter-widgets/base",
            "_model_module_version": "1.5.0",
            "_view_count": null,
            "_view_module_version": "1.2.0",
            "bar_color": null,
            "_model_module": "@jupyter-widgets/controls"
          }
        },
        "41a07a9e98fd42fda9826d8fbe3eb609": {
          "model_module": "@jupyter-widgets/base",
          "model_name": "LayoutModel",
          "state": {
            "_view_name": "LayoutView",
            "grid_template_rows": null,
            "right": null,
            "justify_content": null,
            "_view_module": "@jupyter-widgets/base",
            "overflow": null,
            "_model_module_version": "1.2.0",
            "_view_count": null,
            "flex_flow": null,
            "width": null,
            "min_width": null,
            "border": null,
            "align_items": null,
            "bottom": null,
            "_model_module": "@jupyter-widgets/base",
            "top": null,
            "grid_column": null,
            "overflow_y": null,
            "overflow_x": null,
            "grid_auto_flow": null,
            "grid_area": null,
            "grid_template_columns": null,
            "flex": null,
            "_model_name": "LayoutModel",
            "justify_items": null,
            "grid_row": null,
            "max_height": null,
            "align_content": null,
            "visibility": null,
            "align_self": null,
            "height": null,
            "min_height": null,
            "padding": null,
            "grid_auto_rows": null,
            "grid_gap": null,
            "max_width": null,
            "order": null,
            "_view_module_version": "1.2.0",
            "grid_template_areas": null,
            "object_position": null,
            "object_fit": null,
            "grid_auto_columns": null,
            "margin": null,
            "display": null,
            "left": null
          }
        },
        "0568d1c47e364879ba76d7c12a246b53": {
          "model_module": "@jupyter-widgets/controls",
          "model_name": "VBoxModel",
          "state": {
            "_view_name": "VBoxView",
            "_dom_classes": [],
            "_model_name": "VBoxModel",
            "_view_module": "@jupyter-widgets/controls",
            "_model_module_version": "1.5.0",
            "_view_count": null,
            "_view_module_version": "1.5.0",
            "box_style": "",
            "layout": "IPY_MODEL_5bc54cc7d59745398688d6d87f8f085d",
            "_model_module": "@jupyter-widgets/controls",
            "children": [
              "IPY_MODEL_d9e20ea5b11f4b9aa2a9517bfb41cc05",
              "IPY_MODEL_611bc5e8243147e5a29d7048265959ea"
            ]
          }
        },
        "5bc54cc7d59745398688d6d87f8f085d": {
          "model_module": "@jupyter-widgets/base",
          "model_name": "LayoutModel",
          "state": {
            "_view_name": "LayoutView",
            "grid_template_rows": null,
            "right": null,
            "justify_content": null,
            "_view_module": "@jupyter-widgets/base",
            "overflow": null,
            "_model_module_version": "1.2.0",
            "_view_count": null,
            "flex_flow": null,
            "width": null,
            "min_width": null,
            "border": null,
            "align_items": null,
            "bottom": null,
            "_model_module": "@jupyter-widgets/base",
            "top": null,
            "grid_column": null,
            "overflow_y": null,
            "overflow_x": null,
            "grid_auto_flow": null,
            "grid_area": null,
            "grid_template_columns": null,
            "flex": null,
            "_model_name": "LayoutModel",
            "justify_items": null,
            "grid_row": null,
            "max_height": null,
            "align_content": null,
            "visibility": null,
            "align_self": null,
            "height": null,
            "min_height": null,
            "padding": null,
            "grid_auto_rows": null,
            "grid_gap": null,
            "max_width": null,
            "order": null,
            "_view_module_version": "1.2.0",
            "grid_template_areas": null,
            "object_position": null,
            "object_fit": null,
            "grid_auto_columns": null,
            "margin": null,
            "display": null,
            "left": null
          }
        },
        "d9e20ea5b11f4b9aa2a9517bfb41cc05": {
          "model_module": "@jupyter-widgets/controls",
          "model_name": "LabelModel",
          "state": {
            "_view_name": "LabelView",
            "style": "IPY_MODEL_a3efdb46cc9e43adb3d08828c08f1661",
            "_dom_classes": [],
            "description": "",
            "_model_name": "LabelModel",
            "placeholder": "​",
            "_view_module": "@jupyter-widgets/controls",
            "_model_module_version": "1.5.0",
            "value": " 11.74MB of 11.74MB uploaded (0.00MB deduped)\r",
            "_view_count": null,
            "_view_module_version": "1.5.0",
            "description_tooltip": null,
            "_model_module": "@jupyter-widgets/controls",
            "layout": "IPY_MODEL_7b67c8e1d1d74a468d2c064efd03fca5"
          }
        },
        "611bc5e8243147e5a29d7048265959ea": {
          "model_module": "@jupyter-widgets/controls",
          "model_name": "FloatProgressModel",
          "state": {
            "_view_name": "ProgressView",
            "style": "IPY_MODEL_6bd612ea9f644176b7ce502bfbd0ddf6",
            "_dom_classes": [],
            "description": "",
            "_model_name": "FloatProgressModel",
            "bar_style": "",
            "max": 1,
            "_view_module": "@jupyter-widgets/controls",
            "_model_module_version": "1.5.0",
            "value": 1,
            "_view_count": null,
            "_view_module_version": "1.5.0",
            "orientation": "horizontal",
            "min": 0,
            "description_tooltip": null,
            "_model_module": "@jupyter-widgets/controls",
            "layout": "IPY_MODEL_d33ffc82e62f45648fb25cd561cc16cb"
          }
        },
        "a3efdb46cc9e43adb3d08828c08f1661": {
          "model_module": "@jupyter-widgets/controls",
          "model_name": "DescriptionStyleModel",
          "state": {
            "_view_name": "StyleView",
            "_model_name": "DescriptionStyleModel",
            "description_width": "",
            "_view_module": "@jupyter-widgets/base",
            "_model_module_version": "1.5.0",
            "_view_count": null,
            "_view_module_version": "1.2.0",
            "_model_module": "@jupyter-widgets/controls"
          }
        },
        "7b67c8e1d1d74a468d2c064efd03fca5": {
          "model_module": "@jupyter-widgets/base",
          "model_name": "LayoutModel",
          "state": {
            "_view_name": "LayoutView",
            "grid_template_rows": null,
            "right": null,
            "justify_content": null,
            "_view_module": "@jupyter-widgets/base",
            "overflow": null,
            "_model_module_version": "1.2.0",
            "_view_count": null,
            "flex_flow": null,
            "width": null,
            "min_width": null,
            "border": null,
            "align_items": null,
            "bottom": null,
            "_model_module": "@jupyter-widgets/base",
            "top": null,
            "grid_column": null,
            "overflow_y": null,
            "overflow_x": null,
            "grid_auto_flow": null,
            "grid_area": null,
            "grid_template_columns": null,
            "flex": null,
            "_model_name": "LayoutModel",
            "justify_items": null,
            "grid_row": null,
            "max_height": null,
            "align_content": null,
            "visibility": null,
            "align_self": null,
            "height": null,
            "min_height": null,
            "padding": null,
            "grid_auto_rows": null,
            "grid_gap": null,
            "max_width": null,
            "order": null,
            "_view_module_version": "1.2.0",
            "grid_template_areas": null,
            "object_position": null,
            "object_fit": null,
            "grid_auto_columns": null,
            "margin": null,
            "display": null,
            "left": null
          }
        },
        "6bd612ea9f644176b7ce502bfbd0ddf6": {
          "model_module": "@jupyter-widgets/controls",
          "model_name": "ProgressStyleModel",
          "state": {
            "_view_name": "StyleView",
            "_model_name": "ProgressStyleModel",
            "description_width": "",
            "_view_module": "@jupyter-widgets/base",
            "_model_module_version": "1.5.0",
            "_view_count": null,
            "_view_module_version": "1.2.0",
            "bar_color": null,
            "_model_module": "@jupyter-widgets/controls"
          }
        },
        "d33ffc82e62f45648fb25cd561cc16cb": {
          "model_module": "@jupyter-widgets/base",
          "model_name": "LayoutModel",
          "state": {
            "_view_name": "LayoutView",
            "grid_template_rows": null,
            "right": null,
            "justify_content": null,
            "_view_module": "@jupyter-widgets/base",
            "overflow": null,
            "_model_module_version": "1.2.0",
            "_view_count": null,
            "flex_flow": null,
            "width": null,
            "min_width": null,
            "border": null,
            "align_items": null,
            "bottom": null,
            "_model_module": "@jupyter-widgets/base",
            "top": null,
            "grid_column": null,
            "overflow_y": null,
            "overflow_x": null,
            "grid_auto_flow": null,
            "grid_area": null,
            "grid_template_columns": null,
            "flex": null,
            "_model_name": "LayoutModel",
            "justify_items": null,
            "grid_row": null,
            "max_height": null,
            "align_content": null,
            "visibility": null,
            "align_self": null,
            "height": null,
            "min_height": null,
            "padding": null,
            "grid_auto_rows": null,
            "grid_gap": null,
            "max_width": null,
            "order": null,
            "_view_module_version": "1.2.0",
            "grid_template_areas": null,
            "object_position": null,
            "object_fit": null,
            "grid_auto_columns": null,
            "margin": null,
            "display": null,
            "left": null
          }
        },
        "c4e2ce7b1f8b4028abbe4f02925502be": {
          "model_module": "@jupyter-widgets/controls",
          "model_name": "VBoxModel",
          "state": {
            "_view_name": "VBoxView",
            "_dom_classes": [],
            "_model_name": "VBoxModel",
            "_view_module": "@jupyter-widgets/controls",
            "_model_module_version": "1.5.0",
            "_view_count": null,
            "_view_module_version": "1.5.0",
            "box_style": "",
            "layout": "IPY_MODEL_f4245754ca9148ce999b42ad5a86048b",
            "_model_module": "@jupyter-widgets/controls",
            "children": [
              "IPY_MODEL_9192f2b68ea2493491c31cba9315ddab",
              "IPY_MODEL_1f76a5563ce940178bdd29a074bb90b3"
            ]
          }
        },
        "f4245754ca9148ce999b42ad5a86048b": {
          "model_module": "@jupyter-widgets/base",
          "model_name": "LayoutModel",
          "state": {
            "_view_name": "LayoutView",
            "grid_template_rows": null,
            "right": null,
            "justify_content": null,
            "_view_module": "@jupyter-widgets/base",
            "overflow": null,
            "_model_module_version": "1.2.0",
            "_view_count": null,
            "flex_flow": null,
            "width": null,
            "min_width": null,
            "border": null,
            "align_items": null,
            "bottom": null,
            "_model_module": "@jupyter-widgets/base",
            "top": null,
            "grid_column": null,
            "overflow_y": null,
            "overflow_x": null,
            "grid_auto_flow": null,
            "grid_area": null,
            "grid_template_columns": null,
            "flex": null,
            "_model_name": "LayoutModel",
            "justify_items": null,
            "grid_row": null,
            "max_height": null,
            "align_content": null,
            "visibility": null,
            "align_self": null,
            "height": null,
            "min_height": null,
            "padding": null,
            "grid_auto_rows": null,
            "grid_gap": null,
            "max_width": null,
            "order": null,
            "_view_module_version": "1.2.0",
            "grid_template_areas": null,
            "object_position": null,
            "object_fit": null,
            "grid_auto_columns": null,
            "margin": null,
            "display": null,
            "left": null
          }
        },
        "9192f2b68ea2493491c31cba9315ddab": {
          "model_module": "@jupyter-widgets/controls",
          "model_name": "LabelModel",
          "state": {
            "_view_name": "LabelView",
            "style": "IPY_MODEL_3ef5f49f90ec4cde8eb969e73b8e2adf",
            "_dom_classes": [],
            "description": "",
            "_model_name": "LabelModel",
            "placeholder": "​",
            "_view_module": "@jupyter-widgets/controls",
            "_model_module_version": "1.5.0",
            "value": " 8.02MB of 8.02MB uploaded (0.00MB deduped)\r",
            "_view_count": null,
            "_view_module_version": "1.5.0",
            "description_tooltip": null,
            "_model_module": "@jupyter-widgets/controls",
            "layout": "IPY_MODEL_002ac3f9be28427894d6c46e557070ea"
          }
        },
        "1f76a5563ce940178bdd29a074bb90b3": {
          "model_module": "@jupyter-widgets/controls",
          "model_name": "FloatProgressModel",
          "state": {
            "_view_name": "ProgressView",
            "style": "IPY_MODEL_d263bf53af884bc0a2caeb43cb4ca2f9",
            "_dom_classes": [],
            "description": "",
            "_model_name": "FloatProgressModel",
            "bar_style": "",
            "max": 1,
            "_view_module": "@jupyter-widgets/controls",
            "_model_module_version": "1.5.0",
            "value": 1,
            "_view_count": null,
            "_view_module_version": "1.5.0",
            "orientation": "horizontal",
            "min": 0,
            "description_tooltip": null,
            "_model_module": "@jupyter-widgets/controls",
            "layout": "IPY_MODEL_ea28d79b65c741c295e7eeeaf6ea3c50"
          }
        },
        "3ef5f49f90ec4cde8eb969e73b8e2adf": {
          "model_module": "@jupyter-widgets/controls",
          "model_name": "DescriptionStyleModel",
          "state": {
            "_view_name": "StyleView",
            "_model_name": "DescriptionStyleModel",
            "description_width": "",
            "_view_module": "@jupyter-widgets/base",
            "_model_module_version": "1.5.0",
            "_view_count": null,
            "_view_module_version": "1.2.0",
            "_model_module": "@jupyter-widgets/controls"
          }
        },
        "002ac3f9be28427894d6c46e557070ea": {
          "model_module": "@jupyter-widgets/base",
          "model_name": "LayoutModel",
          "state": {
            "_view_name": "LayoutView",
            "grid_template_rows": null,
            "right": null,
            "justify_content": null,
            "_view_module": "@jupyter-widgets/base",
            "overflow": null,
            "_model_module_version": "1.2.0",
            "_view_count": null,
            "flex_flow": null,
            "width": null,
            "min_width": null,
            "border": null,
            "align_items": null,
            "bottom": null,
            "_model_module": "@jupyter-widgets/base",
            "top": null,
            "grid_column": null,
            "overflow_y": null,
            "overflow_x": null,
            "grid_auto_flow": null,
            "grid_area": null,
            "grid_template_columns": null,
            "flex": null,
            "_model_name": "LayoutModel",
            "justify_items": null,
            "grid_row": null,
            "max_height": null,
            "align_content": null,
            "visibility": null,
            "align_self": null,
            "height": null,
            "min_height": null,
            "padding": null,
            "grid_auto_rows": null,
            "grid_gap": null,
            "max_width": null,
            "order": null,
            "_view_module_version": "1.2.0",
            "grid_template_areas": null,
            "object_position": null,
            "object_fit": null,
            "grid_auto_columns": null,
            "margin": null,
            "display": null,
            "left": null
          }
        },
        "d263bf53af884bc0a2caeb43cb4ca2f9": {
          "model_module": "@jupyter-widgets/controls",
          "model_name": "ProgressStyleModel",
          "state": {
            "_view_name": "StyleView",
            "_model_name": "ProgressStyleModel",
            "description_width": "",
            "_view_module": "@jupyter-widgets/base",
            "_model_module_version": "1.5.0",
            "_view_count": null,
            "_view_module_version": "1.2.0",
            "bar_color": null,
            "_model_module": "@jupyter-widgets/controls"
          }
        },
        "ea28d79b65c741c295e7eeeaf6ea3c50": {
          "model_module": "@jupyter-widgets/base",
          "model_name": "LayoutModel",
          "state": {
            "_view_name": "LayoutView",
            "grid_template_rows": null,
            "right": null,
            "justify_content": null,
            "_view_module": "@jupyter-widgets/base",
            "overflow": null,
            "_model_module_version": "1.2.0",
            "_view_count": null,
            "flex_flow": null,
            "width": null,
            "min_width": null,
            "border": null,
            "align_items": null,
            "bottom": null,
            "_model_module": "@jupyter-widgets/base",
            "top": null,
            "grid_column": null,
            "overflow_y": null,
            "overflow_x": null,
            "grid_auto_flow": null,
            "grid_area": null,
            "grid_template_columns": null,
            "flex": null,
            "_model_name": "LayoutModel",
            "justify_items": null,
            "grid_row": null,
            "max_height": null,
            "align_content": null,
            "visibility": null,
            "align_self": null,
            "height": null,
            "min_height": null,
            "padding": null,
            "grid_auto_rows": null,
            "grid_gap": null,
            "max_width": null,
            "order": null,
            "_view_module_version": "1.2.0",
            "grid_template_areas": null,
            "object_position": null,
            "object_fit": null,
            "grid_auto_columns": null,
            "margin": null,
            "display": null,
            "left": null
          }
        }
      }
    }
  },
  "cells": [
    {
      "cell_type": "markdown",
      "metadata": {
        "id": "view-in-github",
        "colab_type": "text"
      },
      "source": [
        "<a href=\"https://colab.research.google.com/github/acse-2020/acse2020-acse9-finalreport-acse-jaq15/blob/main/notebooks/CNN_LSTM/CNN_LSTM_EURUSD.ipynb\" target=\"_parent\"><img src=\"https://colab.research.google.com/assets/colab-badge.svg\" alt=\"Open In Colab\"/></a>"
      ]
    },
    {
      "cell_type": "markdown",
      "metadata": {
        "id": "z5F7GfFTgUo3"
      },
      "source": [
        "# Imports\n",
        "\n",
        "The cells below handle all the necessary imports to run our models, making use of the public repo feeder_repo, linked <!-- [Text](link) -->\n",
        "[here](https://github.com/acse-jaq15/feeder_repo)."
      ]
    },
    {
      "cell_type": "code",
      "metadata": {
        "id": "HWy9Ay1SGzWa",
        "colab": {
          "base_uri": "https://localhost:8080/"
        },
        "outputId": "5588d969-cb64-426d-b336-aaa4688be35c"
      },
      "source": [
        "# clone the feeder repo to get data_reader module and financial time series data\n",
        "!git clone https://github.com/acse-jaq15/feeder_repo.git"
      ],
      "execution_count": 1,
      "outputs": [
        {
          "output_type": "stream",
          "text": [
            "Cloning into 'feeder_repo'...\n",
            "remote: Enumerating objects: 150, done.\u001b[K\n",
            "remote: Counting objects: 100% (150/150), done.\u001b[K\n",
            "remote: Compressing objects: 100% (145/145), done.\u001b[K\n",
            "remote: Total 150 (delta 73), reused 6 (delta 2), pack-reused 0\u001b[K\n",
            "Receiving objects: 100% (150/150), 121.14 KiB | 5.51 MiB/s, done.\n",
            "Resolving deltas: 100% (73/73), done.\n"
          ],
          "name": "stdout"
        }
      ]
    },
    {
      "cell_type": "code",
      "metadata": {
        "id": "ChlUNYaiHGM2",
        "colab": {
          "base_uri": "https://localhost:8080/"
        },
        "outputId": "8fe5d2d5-966f-44b8-d149-6b67d84e3850"
      },
      "source": [
        "# using '%' to enforce a permanent change of directory\n",
        "%cd feeder_repo/"
      ],
      "execution_count": 2,
      "outputs": [
        {
          "output_type": "stream",
          "text": [
            "/content/feeder_repo\n"
          ],
          "name": "stdout"
        }
      ]
    },
    {
      "cell_type": "code",
      "metadata": {
        "id": "saD-jpvPIfZ8",
        "colab": {
          "base_uri": "https://localhost:8080/"
        },
        "outputId": "fda2bd11-5927-42ef-dbfa-c577a3716064"
      },
      "source": [
        "# checking contents listed correctly, should read:\n",
        "# baseline_model.py data data_reader.py LICENSE README.md security_plotter.py\n",
        "!ls"
      ],
      "execution_count": 3,
      "outputs": [
        {
          "output_type": "stream",
          "text": [
            "base_model.py  data  data_reader.py  LICENSE  README.md  security_plotter.py\n"
          ],
          "name": "stdout"
        }
      ]
    },
    {
      "cell_type": "code",
      "metadata": {
        "id": "fRqkwo6kZUz_"
      },
      "source": [
        "import math\n",
        "import sys\n",
        "import keras\n",
        "import os\n",
        "import matplotlib.dates as mdates\n",
        "import matplotlib.pyplot as plt\n",
        "import pandas as pd\n",
        "import numpy as np\n",
        "from keras.models import Sequential\n",
        "from keras.layers import Dense\n",
        "from keras.layers import LSTM\n",
        "from keras.layers import GRU\n",
        "from keras.layers import Dropout\n",
        "from keras.layers import *\n",
        "from keras.utils.layer_utils import count_params\n",
        "from keras.utils.vis_utils import plot_model\n",
        "from sklearn.preprocessing import MinMaxScaler\n",
        "from sklearn.metrics import mean_squared_error\n",
        "from sklearn.metrics import mean_absolute_error\n",
        "from sklearn.model_selection import train_test_split\n",
        "from keras.callbacks import EarlyStopping, Callback\n",
        "from keras.optimizers import RMSprop, SGD, Adam, Nadam\n",
        "from keras.initializers import random_normal"
      ],
      "execution_count": 4,
      "outputs": []
    },
    {
      "cell_type": "code",
      "metadata": {
        "id": "hzVhwND1HAlw"
      },
      "source": [
        "# appending path with 'feeder_repo' string\n",
        "sys.path.append('feeder_repo')\n",
        "\n",
        "# import Data_Reader class from data_reader module\n",
        "from feeder_repo.data_reader import Data_Reader\n",
        "# import Baseline_Model class from base_model module\n",
        "from feeder_repo.base_model import Base_Model\n",
        "# import Security_Plotter class from security_plotter module\n",
        "from feeder_repo.security_plotter import Security_Plotter"
      ],
      "execution_count": 5,
      "outputs": []
    },
    {
      "cell_type": "code",
      "metadata": {
        "colab": {
          "base_uri": "https://localhost:8080/"
        },
        "id": "6-tNDlXuhiCU",
        "outputId": "d9d03c58-5990-4fef-e710-1b7d92a1e5e6"
      },
      "source": [
        "# checking if the notebook is running on a GPU\n",
        "gpu_info = !nvidia-smi\n",
        "gpu_info = '\\n'.join(gpu_info)\n",
        "if gpu_info.find('failed') >= 0:\n",
        "    print('Select the Runtime > \"Change runtime type\" menu to enable a GPU accelerator, ')\n",
        "    print('and then re-execute this cell.')\n",
        "else:\n",
        "    print(gpu_info)"
      ],
      "execution_count": 6,
      "outputs": [
        {
          "output_type": "stream",
          "text": [
            "Wed Jul 21 15:23:44 2021       \n",
            "+-----------------------------------------------------------------------------+\n",
            "| NVIDIA-SMI 470.42.01    Driver Version: 460.32.03    CUDA Version: 11.2     |\n",
            "|-------------------------------+----------------------+----------------------+\n",
            "| GPU  Name        Persistence-M| Bus-Id        Disp.A | Volatile Uncorr. ECC |\n",
            "| Fan  Temp  Perf  Pwr:Usage/Cap|         Memory-Usage | GPU-Util  Compute M. |\n",
            "|                               |                      |               MIG M. |\n",
            "|===============================+======================+======================|\n",
            "|   0  Tesla P100-PCIE...  Off  | 00000000:00:04.0 Off |                    0 |\n",
            "| N/A   42C    P0    27W / 250W |      0MiB / 16280MiB |      0%      Default |\n",
            "|                               |                      |                  N/A |\n",
            "+-------------------------------+----------------------+----------------------+\n",
            "                                                                               \n",
            "+-----------------------------------------------------------------------------+\n",
            "| Processes:                                                                  |\n",
            "|  GPU   GI   CI        PID   Type   Process name                  GPU Memory |\n",
            "|        ID   ID                                                   Usage      |\n",
            "|=============================================================================|\n",
            "|  No running processes found                                                 |\n",
            "+-----------------------------------------------------------------------------+\n"
          ],
          "name": "stdout"
        }
      ]
    },
    {
      "cell_type": "markdown",
      "metadata": {
        "id": "WB9wD4Aahs8_"
      },
      "source": [
        "# Handling the data\n",
        "Here the Data_Reader class is used to read the time series data and extract training, test and validation sets, along with the relevant X and y values."
      ]
    },
    {
      "cell_type": "code",
      "metadata": {
        "id": "vBlKerL-c4-3"
      },
      "source": [
        "# storing the file to be read as a string\n",
        "in_str = 'EURUSD'\n",
        "# storing the year of the time series to be used as test data\n",
        "in_yr = 2019\n",
        "# creating a variable to store the model name\n",
        "model_str = 'CNN_LSTM'\n",
        "# setting our window_length to be 30 days\n",
        "window_len = 30"
      ],
      "execution_count": 7,
      "outputs": []
    },
    {
      "cell_type": "code",
      "metadata": {
        "id": "hfQJbuBk0vW0"
      },
      "source": [
        "# creating an instance of Data_Reader class\n",
        "in_data = Data_Reader(in_str, in_yr)\n",
        "# calling class method extract_train_test to generate training and test datasets\n",
        "in_data.extract_train_test()\n",
        "# calling class method extract_xy to generate X and y training and test datasets\n",
        "in_data.extract_xy(window_len, time_distributed=True)\n",
        "\n",
        "# assigning X_train and y_train\n",
        "X_train = in_data.X_train\n",
        "y_train = in_data.y_train\n",
        "\n",
        "# assigning X_test and y_test\n",
        "X_test = in_data.X_test\n",
        "y_test = in_data.y_test\n",
        "\n",
        "# assigning X_val_train and y_val_train\n",
        "X_val_train = in_data.X_val_train\n",
        "y_val_train = in_data.y_val_train\n",
        "\n",
        "# assigning X_val_test and y_val_test\n",
        "X_val_test = in_data.X_val_test\n",
        "y_val_test = in_data.y_val_test"
      ],
      "execution_count": 8,
      "outputs": []
    },
    {
      "cell_type": "markdown",
      "metadata": {
        "id": "X53Fp1Gwh88_"
      },
      "source": [
        "# Setting up wandb itegration\n",
        "Here wandb is used to perform hyperparameter tuning."
      ]
    },
    {
      "cell_type": "code",
      "metadata": {
        "colab": {
          "base_uri": "https://localhost:8080/"
        },
        "id": "aE6cdrSDiHhq",
        "outputId": "cdd00595-b790-4eed-c15d-2e100ad4fb53"
      },
      "source": [
        "# installing the wandb library and importing\n",
        "%pip install wandb -q\n",
        "import wandb\n",
        "from wandb.keras import WandbCallback"
      ],
      "execution_count": 9,
      "outputs": [
        {
          "output_type": "stream",
          "text": [
            "\u001b[K     |████████████████████████████████| 1.8 MB 5.1 MB/s \n",
            "\u001b[K     |████████████████████████████████| 133 kB 43.4 MB/s \n",
            "\u001b[K     |████████████████████████████████| 170 kB 43.5 MB/s \n",
            "\u001b[K     |████████████████████████████████| 97 kB 6.8 MB/s \n",
            "\u001b[K     |████████████████████████████████| 138 kB 43.1 MB/s \n",
            "\u001b[K     |████████████████████████████████| 63 kB 2.0 MB/s \n",
            "\u001b[K     |████████████████████████████████| 62 kB 844 kB/s \n",
            "\u001b[?25h  Building wheel for subprocess32 (setup.py) ... \u001b[?25l\u001b[?25hdone\n",
            "  Building wheel for pathtools (setup.py) ... \u001b[?25l\u001b[?25hdone\n",
            "\u001b[31mERROR: pip's dependency resolver does not currently take into account all the packages that are installed. This behaviour is the source of the following dependency conflicts.\n",
            "google-colab 1.0.0 requires requests~=2.23.0, but you have requests 2.26.0 which is incompatible.\n",
            "datascience 0.10.6 requires folium==0.2.1, but you have folium 0.8.3 which is incompatible.\u001b[0m\n"
          ],
          "name": "stdout"
        }
      ]
    },
    {
      "cell_type": "code",
      "metadata": {
        "id": "pbgZaoQDiIKX"
      },
      "source": [
        "!pip install wandb -qq"
      ],
      "execution_count": 10,
      "outputs": []
    },
    {
      "cell_type": "code",
      "metadata": {
        "colab": {
          "base_uri": "https://localhost:8080/"
        },
        "id": "1WHkW0XyiKVL",
        "outputId": "8af6d3fa-9f8c-452c-d31c-178d523c2ca7"
      },
      "source": [
        "# logging in so the hyperparameter tunings sweeps can be saved\n",
        "!wandb login"
      ],
      "execution_count": 11,
      "outputs": [
        {
          "output_type": "stream",
          "text": [
            "\u001b[34m\u001b[1mwandb\u001b[0m: You can find your API key in your browser here: https://wandb.ai/authorize\n",
            "\u001b[34m\u001b[1mwandb\u001b[0m: Paste an API key from your profile and hit enter: \n",
            "\u001b[34m\u001b[1mwandb\u001b[0m: Appending key for api.wandb.ai to your netrc file: /root/.netrc\n"
          ],
          "name": "stdout"
        }
      ]
    },
    {
      "cell_type": "code",
      "metadata": {
        "id": "j91IBGuSid5w"
      },
      "source": [
        "# configuring the sweep, making use of a random search methodology\n",
        "sweep_config = {\n",
        "    'method': 'random', #grid, random\n",
        "    'metric': {\n",
        "      'name': 'mse',\n",
        "      'goal': 'minimize'   \n",
        "    },\n",
        "    'parameters': {\n",
        "        'epochs': {\n",
        "            'values': [50, 100, 200]\n",
        "        },\n",
        "        'batch_size': {\n",
        "            'values': [128, 64, 32]\n",
        "        },\n",
        "        'learning_rate': {\n",
        "            'values': [0.005, 0.001, 0.0005]\n",
        "        },\n",
        "        'optimizer': {\n",
        "            'values': ['adam', 'nadam', 'rmsprop', 'sgd']\n",
        "        },\n",
        "        'activation': {\n",
        "            'values': ['relu', 'selu']\n",
        "        }\n",
        "    }\n",
        "}"
      ],
      "execution_count": 12,
      "outputs": []
    },
    {
      "cell_type": "code",
      "metadata": {
        "id": "V0Sr9HsorH4E"
      },
      "source": [
        "# wandb calls this training function to run through the hyperparameter search\n",
        "def train():\n",
        "    # default values for searching\n",
        "    config_defaults = {\n",
        "        'epochs': 100,\n",
        "        'batch_size': 32,\n",
        "        'learning_rate': 0.005,\n",
        "        'optimizer': 'adam',\n",
        "        'activation': 'tanh',\n",
        "        'momentum': 0.9,\n",
        "        'seed': 42\n",
        "    }\n",
        "\n",
        "    # Initialize a new wandb run\n",
        "    wandb.init(config=config_defaults)\n",
        "    \n",
        "    # Config is a variable that holds and saves hyperparameters and inputs\n",
        "    config = wandb.config\n",
        "\n",
        "    # setting keras model to sequential mode\n",
        "    model = Sequential()\n",
        "\n",
        "    # layer 1\n",
        "    model.add(TimeDistributed(Conv1D(filters=128, kernel_size=2, activation=config.activation), input_shape=(None, window_len, 1)))\n",
        "    # layer 2\n",
        "    model.add(TimeDistributed(MaxPooling1D(pool_size=2)))\n",
        "    # layer 3\n",
        "    model.add(TimeDistributed(Flatten()))\n",
        "    # layer 4\n",
        "    model.add(LSTM(units=128, activation='tanh', return_sequences=False))\n",
        "    # layer 5\n",
        "    model.add(Dropout(0.1))\n",
        "    # layer 6\n",
        "    model.add(Dense(1))\n",
        "\n",
        "    # Define the optimizer\n",
        "    if config.optimizer=='sgd':\n",
        "      optimizer = SGD(learning_rate=config.learning_rate, decay=1e-5, momentum=config.momentum, nesterov=True)\n",
        "    elif config.optimizer=='rmsprop':\n",
        "      optimizer = RMSprop(learning_rate=config.learning_rate, decay=1e-5)\n",
        "    elif config.optimizer=='adam':\n",
        "      optimizer = Adam(learning_rate=config.learning_rate, beta_1=0.9, beta_2=0.999, clipnorm=1.0)\n",
        "    elif config.optimizer=='nadam':\n",
        "      optimizer = Nadam(learning_rate=config.learning_rate, beta_1=0.9, beta_2=0.999, clipnorm=1.0)\n",
        "\n",
        "    model.compile(loss = \"mean_squared_error\", optimizer=optimizer, metrics=['mean_squared_error', 'mean_absolute_error'])\n",
        "\n",
        "    model.fit(X_val_train, y_val_train, batch_size=config.batch_size,\n",
        "              epochs=config.epochs,\n",
        "              validation_data=(X_val_test, y_val_test),\n",
        "              callbacks=[WandbCallback(validation_data=(X_val_test, y_val_test)),\n",
        "                          EarlyStopping(patience=10, restore_best_weights=True)])"
      ],
      "execution_count": 13,
      "outputs": []
    },
    {
      "cell_type": "code",
      "metadata": {
        "colab": {
          "base_uri": "https://localhost:8080/"
        },
        "id": "JwZO6oAFU1LN",
        "outputId": "3f836a45-6539-415b-fac6-57655b180372"
      },
      "source": [
        "# setting up our sweep_id\n",
        "sweep_id = wandb.sweep(sweep_config, project='ACSE_9_'+model_str)"
      ],
      "execution_count": 14,
      "outputs": [
        {
          "output_type": "stream",
          "text": [
            "Create sweep with ID: leuxhbp3\n",
            "Sweep URL: https://wandb.ai/acse-jaq15/ACSE_9_CNN_LSTM/sweeps/leuxhbp3\n"
          ],
          "name": "stdout"
        }
      ]
    },
    {
      "cell_type": "code",
      "metadata": {
        "colab": {
          "base_uri": "https://localhost:8080/",
          "height": 1000,
          "referenced_widgets": [
            "89aa3a303224479b88d193ed96418a22",
            "2bced459868e45ba8f2972b958505227",
            "2d48c5da44aa467e96bc29540e5ffc11",
            "cc80a673c0df46779850b8ca6ba4424b",
            "240cc34f746949859327d96fb9c8a495",
            "37d8a5a8175642b2bec9b762cd2d7ac2",
            "cce6ba23f52e44cabe678b5ba6aaed27",
            "3d2c3681791b4c7fb96fc34808ee0552",
            "a3b9cb8967ba48e1a3ced7a9c6d3f361",
            "1a4b16c0c3944ee9ba737f4ab348df73",
            "7d63b567935a4acaa6dd34a3a9b0f4ab",
            "bfc2b9c2c9b04cd6aacebaccefc33d30",
            "b5325f310b7c4ddc9379e83d1a8d6b95",
            "a2495e890bf44197bbae411f27324f1c",
            "cb0d0b27efc84ebf81a9a7d3a8376935",
            "75a23c69f63545419dcacb6d6d2afbc2",
            "3af62cd0ed064c51ada042cf0874cd05",
            "7edd360da18246dfb616ae36a626e580",
            "4be85c67516d4315928b1cf66e1ea726",
            "a6e96c4b71464b14b78ef1ab79300271",
            "0419591eb1fd4ff5b35f1ff912ca095f",
            "fdc6222077a24c6b9f21cc6e421f7484",
            "39228603756341f7888ec9ea2ba43e77",
            "eaaf6bcfe1c349858cd52903a71e8f8f",
            "dacc6d8c29564c30807e880250df1a14",
            "ccf6807be8554e8cb56203cc0388764a",
            "dbedefe80a574b05b613a95814ddbef7",
            "3665e140aeca459d8e31268a9062aa1d",
            "b79d7565e6bf4b4ca68cd013aaf92c4c",
            "c367bc38d5664b32857286bbe109e55a",
            "283b3b35385440e5a15e4498a078bb11",
            "9bd6eab422e34c508a75ac9ddf6b04eb",
            "a7162e235111499fb5514dfb96354d58",
            "dd37d26943904e699064f188bb9e7953",
            "a910e8fccb87474fb50e7a9dcb1daa23",
            "e4aa0bb3cff3446c9582e2e4b408ccd7",
            "83723150f2fa428ba9808241dcf0b2af",
            "a2fd44c92a724278a7b9bb1665d751d6",
            "6402e466130442a28be354e1b1c6218a",
            "bb9dc68e2fd24b7eb33fb5fc230e889d",
            "54e611cf65fa4988924d094bb811095e",
            "e6f818869314457d824c5d67f8cf2a36",
            "0c9ef87ea06f45f880e7d02aff9f4655",
            "3dd5c31880b349d295815c2fafbfba41",
            "b6e0d71a4b114cc08d45869ec6f49928",
            "2d3766ccb3e24fbd91cef818332be109",
            "8a30f8ac26bd4ab0ac3aec462f903228",
            "41a07a9e98fd42fda9826d8fbe3eb609",
            "0568d1c47e364879ba76d7c12a246b53",
            "5bc54cc7d59745398688d6d87f8f085d",
            "d9e20ea5b11f4b9aa2a9517bfb41cc05",
            "611bc5e8243147e5a29d7048265959ea",
            "a3efdb46cc9e43adb3d08828c08f1661",
            "7b67c8e1d1d74a468d2c064efd03fca5",
            "6bd612ea9f644176b7ce502bfbd0ddf6",
            "d33ffc82e62f45648fb25cd561cc16cb",
            "c4e2ce7b1f8b4028abbe4f02925502be",
            "f4245754ca9148ce999b42ad5a86048b",
            "9192f2b68ea2493491c31cba9315ddab",
            "1f76a5563ce940178bdd29a074bb90b3",
            "3ef5f49f90ec4cde8eb969e73b8e2adf",
            "002ac3f9be28427894d6c46e557070ea",
            "d263bf53af884bc0a2caeb43cb4ca2f9",
            "ea28d79b65c741c295e7eeeaf6ea3c50"
          ]
        },
        "id": "ZfSCGWfluFw0",
        "outputId": "de3b3f24-4049-48ae-f7d5-83129b303e7f"
      },
      "source": [
        "# initialising a new sweep\n",
        "wandb.agent(sweep_id, train, project='ACSE_9_'+model_str)"
      ],
      "execution_count": 16,
      "outputs": [
        {
          "output_type": "stream",
          "text": [
            "\u001b[34m\u001b[1mwandb\u001b[0m: Agent Starting Run: qk3rl1pg with config:\n",
            "\u001b[34m\u001b[1mwandb\u001b[0m: \tactivation: selu\n",
            "\u001b[34m\u001b[1mwandb\u001b[0m: \tbatch_size: 128\n",
            "\u001b[34m\u001b[1mwandb\u001b[0m: \tepochs: 200\n",
            "\u001b[34m\u001b[1mwandb\u001b[0m: \tlearning_rate: 0.0005\n",
            "\u001b[34m\u001b[1mwandb\u001b[0m: \toptimizer: nadam\n"
          ],
          "name": "stderr"
        },
        {
          "output_type": "display_data",
          "data": {
            "text/html": [
              "\n",
              "                Tracking run with wandb version 0.11.0<br/>\n",
              "                Syncing run <strong style=\"color:#cdcd00\">whole-sweep-22</strong> to <a href=\"https://wandb.ai\" target=\"_blank\">Weights & Biases</a> <a href=\"https://docs.wandb.com/integrations/jupyter.html\" target=\"_blank\">(Documentation)</a>.<br/>\n",
              "                Project page: <a href=\"https://wandb.ai/acse-jaq15/ACSE_9_CNN_LSTM\" target=\"_blank\">https://wandb.ai/acse-jaq15/ACSE_9_CNN_LSTM</a><br/>\n",
              "                Sweep page: <a href=\"https://wandb.ai/acse-jaq15/ACSE_9_CNN_LSTM/sweeps/leuxhbp3\" target=\"_blank\">https://wandb.ai/acse-jaq15/ACSE_9_CNN_LSTM/sweeps/leuxhbp3</a><br/>\n",
              "Run page: <a href=\"https://wandb.ai/acse-jaq15/ACSE_9_CNN_LSTM/runs/qk3rl1pg\" target=\"_blank\">https://wandb.ai/acse-jaq15/ACSE_9_CNN_LSTM/runs/qk3rl1pg</a><br/>\n",
              "                Run data is saved locally in <code>/content/feeder_repo/wandb/run-20210721_154020-qk3rl1pg</code><br/><br/>\n",
              "            "
            ],
            "text/plain": [
              "<IPython.core.display.HTML object>"
            ]
          },
          "metadata": {
            "tags": []
          }
        },
        {
          "output_type": "stream",
          "text": [
            "Epoch 1/200\n",
            "8/8 [==============================] - 6s 169ms/step - loss: 0.0497 - mean_squared_error: 0.0497 - mean_absolute_error: 0.1351 - val_loss: 0.0111 - val_mean_squared_error: 0.0111 - val_mean_absolute_error: 0.0776\n",
            "Epoch 2/200\n",
            "8/8 [==============================] - 0s 16ms/step - loss: 0.0033 - mean_squared_error: 0.0033 - mean_absolute_error: 0.0445 - val_loss: 0.0103 - val_mean_squared_error: 0.0103 - val_mean_absolute_error: 0.0760\n",
            "Epoch 3/200\n",
            "8/8 [==============================] - 0s 23ms/step - loss: 0.0033 - mean_squared_error: 0.0033 - mean_absolute_error: 0.0447 - val_loss: 0.0105 - val_mean_squared_error: 0.0105 - val_mean_absolute_error: 0.0753\n",
            "Epoch 4/200\n",
            "8/8 [==============================] - 0s 16ms/step - loss: 0.0031 - mean_squared_error: 0.0031 - mean_absolute_error: 0.0437 - val_loss: 0.0084 - val_mean_squared_error: 0.0084 - val_mean_absolute_error: 0.0719\n",
            "Epoch 5/200\n",
            "8/8 [==============================] - 0s 16ms/step - loss: 0.0037 - mean_squared_error: 0.0037 - mean_absolute_error: 0.0466 - val_loss: 0.0095 - val_mean_squared_error: 0.0095 - val_mean_absolute_error: 0.0806\n",
            "Epoch 6/200\n",
            "8/8 [==============================] - 0s 12ms/step - loss: 0.0060 - mean_squared_error: 0.0060 - mean_absolute_error: 0.0607 - val_loss: 0.0076 - val_mean_squared_error: 0.0076 - val_mean_absolute_error: 0.0723\n",
            "Epoch 7/200\n",
            "8/8 [==============================] - 0s 13ms/step - loss: 0.0028 - mean_squared_error: 0.0028 - mean_absolute_error: 0.0414 - val_loss: 0.0073 - val_mean_squared_error: 0.0073 - val_mean_absolute_error: 0.0656\n",
            "Epoch 8/200\n",
            "8/8 [==============================] - 0s 13ms/step - loss: 0.0033 - mean_squared_error: 0.0033 - mean_absolute_error: 0.0440 - val_loss: 0.0086 - val_mean_squared_error: 0.0086 - val_mean_absolute_error: 0.0762\n",
            "Epoch 9/200\n",
            "8/8 [==============================] - 0s 12ms/step - loss: 0.0055 - mean_squared_error: 0.0055 - mean_absolute_error: 0.0567 - val_loss: 0.0063 - val_mean_squared_error: 0.0063 - val_mean_absolute_error: 0.0637\n",
            "Epoch 10/200\n",
            "8/8 [==============================] - 0s 18ms/step - loss: 0.0025 - mean_squared_error: 0.0025 - mean_absolute_error: 0.0393 - val_loss: 0.0060 - val_mean_squared_error: 0.0060 - val_mean_absolute_error: 0.0628\n",
            "Epoch 11/200\n",
            "8/8 [==============================] - 0s 16ms/step - loss: 0.0030 - mean_squared_error: 0.0030 - mean_absolute_error: 0.0428 - val_loss: 0.0058 - val_mean_squared_error: 0.0058 - val_mean_absolute_error: 0.0610\n",
            "Epoch 12/200\n",
            "8/8 [==============================] - 0s 14ms/step - loss: 0.0022 - mean_squared_error: 0.0022 - mean_absolute_error: 0.0364 - val_loss: 0.0074 - val_mean_squared_error: 0.0074 - val_mean_absolute_error: 0.0650\n",
            "Epoch 13/200\n",
            "8/8 [==============================] - 0s 14ms/step - loss: 0.0028 - mean_squared_error: 0.0028 - mean_absolute_error: 0.0412 - val_loss: 0.0221 - val_mean_squared_error: 0.0221 - val_mean_absolute_error: 0.1185\n",
            "Epoch 14/200\n",
            "8/8 [==============================] - 0s 12ms/step - loss: 0.0092 - mean_squared_error: 0.0092 - mean_absolute_error: 0.0714 - val_loss: 0.0101 - val_mean_squared_error: 0.0101 - val_mean_absolute_error: 0.0764\n",
            "Epoch 15/200\n",
            "8/8 [==============================] - 0s 13ms/step - loss: 0.0024 - mean_squared_error: 0.0024 - mean_absolute_error: 0.0374 - val_loss: 0.0054 - val_mean_squared_error: 0.0054 - val_mean_absolute_error: 0.0588\n",
            "Epoch 16/200\n",
            "8/8 [==============================] - 0s 14ms/step - loss: 0.0019 - mean_squared_error: 0.0019 - mean_absolute_error: 0.0343 - val_loss: 0.0053 - val_mean_squared_error: 0.0053 - val_mean_absolute_error: 0.0578\n",
            "Epoch 17/200\n",
            "8/8 [==============================] - 0s 14ms/step - loss: 0.0020 - mean_squared_error: 0.0020 - mean_absolute_error: 0.0346 - val_loss: 0.0050 - val_mean_squared_error: 0.0050 - val_mean_absolute_error: 0.0570\n",
            "Epoch 18/200\n",
            "8/8 [==============================] - 0s 14ms/step - loss: 0.0026 - mean_squared_error: 0.0026 - mean_absolute_error: 0.0397 - val_loss: 0.0050 - val_mean_squared_error: 0.0050 - val_mean_absolute_error: 0.0579\n",
            "Epoch 19/200\n",
            "8/8 [==============================] - 0s 14ms/step - loss: 0.0021 - mean_squared_error: 0.0021 - mean_absolute_error: 0.0356 - val_loss: 0.0048 - val_mean_squared_error: 0.0048 - val_mean_absolute_error: 0.0563\n",
            "Epoch 20/200\n",
            "8/8 [==============================] - 0s 14ms/step - loss: 0.0020 - mean_squared_error: 0.0020 - mean_absolute_error: 0.0344 - val_loss: 0.0059 - val_mean_squared_error: 0.0059 - val_mean_absolute_error: 0.0625\n",
            "Epoch 21/200\n",
            "8/8 [==============================] - 0s 14ms/step - loss: 0.0041 - mean_squared_error: 0.0041 - mean_absolute_error: 0.0495 - val_loss: 0.0070 - val_mean_squared_error: 0.0070 - val_mean_absolute_error: 0.0671\n",
            "Epoch 22/200\n",
            "8/8 [==============================] - 0s 15ms/step - loss: 0.0043 - mean_squared_error: 0.0043 - mean_absolute_error: 0.0494 - val_loss: 0.0048 - val_mean_squared_error: 0.0048 - val_mean_absolute_error: 0.0559\n",
            "Epoch 23/200\n",
            "8/8 [==============================] - 0s 11ms/step - loss: 0.0018 - mean_squared_error: 0.0018 - mean_absolute_error: 0.0331 - val_loss: 0.0048 - val_mean_squared_error: 0.0048 - val_mean_absolute_error: 0.0556\n",
            "Epoch 24/200\n",
            "8/8 [==============================] - 0s 14ms/step - loss: 0.0018 - mean_squared_error: 0.0018 - mean_absolute_error: 0.0328 - val_loss: 0.0046 - val_mean_squared_error: 0.0046 - val_mean_absolute_error: 0.0548\n",
            "Epoch 25/200\n",
            "8/8 [==============================] - 0s 14ms/step - loss: 0.0018 - mean_squared_error: 0.0018 - mean_absolute_error: 0.0330 - val_loss: 0.0046 - val_mean_squared_error: 0.0046 - val_mean_absolute_error: 0.0553\n",
            "Epoch 26/200\n",
            "8/8 [==============================] - 0s 13ms/step - loss: 0.0019 - mean_squared_error: 0.0019 - mean_absolute_error: 0.0339 - val_loss: 0.0065 - val_mean_squared_error: 0.0065 - val_mean_absolute_error: 0.0648\n",
            "Epoch 27/200\n",
            "8/8 [==============================] - 0s 14ms/step - loss: 0.0045 - mean_squared_error: 0.0045 - mean_absolute_error: 0.0522 - val_loss: 0.0051 - val_mean_squared_error: 0.0051 - val_mean_absolute_error: 0.0582\n",
            "Epoch 28/200\n",
            "8/8 [==============================] - 0s 12ms/step - loss: 0.0017 - mean_squared_error: 0.0017 - mean_absolute_error: 0.0322 - val_loss: 0.0053 - val_mean_squared_error: 0.0053 - val_mean_absolute_error: 0.0572\n",
            "Epoch 29/200\n",
            "8/8 [==============================] - 0s 12ms/step - loss: 0.0015 - mean_squared_error: 0.0015 - mean_absolute_error: 0.0300 - val_loss: 0.0045 - val_mean_squared_error: 0.0045 - val_mean_absolute_error: 0.0541\n",
            "Epoch 30/200\n",
            "8/8 [==============================] - 0s 13ms/step - loss: 0.0013 - mean_squared_error: 0.0013 - mean_absolute_error: 0.0281 - val_loss: 0.0046 - val_mean_squared_error: 0.0046 - val_mean_absolute_error: 0.0541\n",
            "Epoch 31/200\n",
            "8/8 [==============================] - 0s 15ms/step - loss: 0.0015 - mean_squared_error: 0.0015 - mean_absolute_error: 0.0298 - val_loss: 0.0044 - val_mean_squared_error: 0.0044 - val_mean_absolute_error: 0.0534\n",
            "Epoch 32/200\n",
            "8/8 [==============================] - 0s 16ms/step - loss: 0.0013 - mean_squared_error: 0.0013 - mean_absolute_error: 0.0285 - val_loss: 0.0045 - val_mean_squared_error: 0.0045 - val_mean_absolute_error: 0.0539\n",
            "Epoch 33/200\n",
            "8/8 [==============================] - 0s 14ms/step - loss: 0.0015 - mean_squared_error: 0.0015 - mean_absolute_error: 0.0292 - val_loss: 0.0049 - val_mean_squared_error: 0.0049 - val_mean_absolute_error: 0.0555\n",
            "Epoch 34/200\n",
            "8/8 [==============================] - 0s 13ms/step - loss: 0.0013 - mean_squared_error: 0.0013 - mean_absolute_error: 0.0284 - val_loss: 0.0082 - val_mean_squared_error: 0.0082 - val_mean_absolute_error: 0.0707\n",
            "Epoch 35/200\n",
            "8/8 [==============================] - 0s 12ms/step - loss: 0.0051 - mean_squared_error: 0.0051 - mean_absolute_error: 0.0532 - val_loss: 0.0071 - val_mean_squared_error: 0.0071 - val_mean_absolute_error: 0.0655\n",
            "Epoch 36/200\n",
            "8/8 [==============================] - 0s 13ms/step - loss: 0.0017 - mean_squared_error: 0.0017 - mean_absolute_error: 0.0323 - val_loss: 0.0053 - val_mean_squared_error: 0.0053 - val_mean_absolute_error: 0.0575\n",
            "Epoch 37/200\n",
            "8/8 [==============================] - 0s 15ms/step - loss: 0.0015 - mean_squared_error: 0.0015 - mean_absolute_error: 0.0300 - val_loss: 0.0044 - val_mean_squared_error: 0.0044 - val_mean_absolute_error: 0.0535\n",
            "Epoch 38/200\n",
            "8/8 [==============================] - 0s 16ms/step - loss: 0.0014 - mean_squared_error: 0.0014 - mean_absolute_error: 0.0281 - val_loss: 0.0044 - val_mean_squared_error: 0.0044 - val_mean_absolute_error: 0.0535\n",
            "Epoch 39/200\n",
            "8/8 [==============================] - 0s 14ms/step - loss: 0.0014 - mean_squared_error: 0.0014 - mean_absolute_error: 0.0289 - val_loss: 0.0077 - val_mean_squared_error: 0.0077 - val_mean_absolute_error: 0.0689\n",
            "Epoch 40/200\n",
            "8/8 [==============================] - 0s 15ms/step - loss: 0.0019 - mean_squared_error: 0.0019 - mean_absolute_error: 0.0345 - val_loss: 0.0049 - val_mean_squared_error: 0.0049 - val_mean_absolute_error: 0.0556\n",
            "Epoch 41/200\n",
            "8/8 [==============================] - 0s 13ms/step - loss: 0.0015 - mean_squared_error: 0.0015 - mean_absolute_error: 0.0302 - val_loss: 0.0042 - val_mean_squared_error: 0.0042 - val_mean_absolute_error: 0.0525\n",
            "Epoch 42/200\n",
            "8/8 [==============================] - 0s 14ms/step - loss: 0.0013 - mean_squared_error: 0.0013 - mean_absolute_error: 0.0282 - val_loss: 0.0044 - val_mean_squared_error: 0.0044 - val_mean_absolute_error: 0.0537\n",
            "Epoch 43/200\n",
            "8/8 [==============================] - 0s 14ms/step - loss: 0.0021 - mean_squared_error: 0.0021 - mean_absolute_error: 0.0345 - val_loss: 0.0075 - val_mean_squared_error: 0.0075 - val_mean_absolute_error: 0.0681\n",
            "Epoch 44/200\n",
            "8/8 [==============================] - 0s 13ms/step - loss: 0.0020 - mean_squared_error: 0.0020 - mean_absolute_error: 0.0345 - val_loss: 0.0043 - val_mean_squared_error: 0.0043 - val_mean_absolute_error: 0.0531\n",
            "Epoch 45/200\n",
            "8/8 [==============================] - 0s 14ms/step - loss: 0.0016 - mean_squared_error: 0.0016 - mean_absolute_error: 0.0310 - val_loss: 0.0042 - val_mean_squared_error: 0.0042 - val_mean_absolute_error: 0.0527\n",
            "Epoch 46/200\n",
            "8/8 [==============================] - 0s 13ms/step - loss: 0.0016 - mean_squared_error: 0.0016 - mean_absolute_error: 0.0308 - val_loss: 0.0043 - val_mean_squared_error: 0.0043 - val_mean_absolute_error: 0.0533\n",
            "Epoch 47/200\n",
            "8/8 [==============================] - 0s 13ms/step - loss: 0.0015 - mean_squared_error: 0.0015 - mean_absolute_error: 0.0297 - val_loss: 0.0041 - val_mean_squared_error: 0.0041 - val_mean_absolute_error: 0.0523\n",
            "Epoch 48/200\n",
            "8/8 [==============================] - 0s 12ms/step - loss: 0.0015 - mean_squared_error: 0.0015 - mean_absolute_error: 0.0294 - val_loss: 0.0053 - val_mean_squared_error: 0.0053 - val_mean_absolute_error: 0.0581\n",
            "Epoch 49/200\n",
            "8/8 [==============================] - 0s 13ms/step - loss: 0.0033 - mean_squared_error: 0.0033 - mean_absolute_error: 0.0435 - val_loss: 0.0042 - val_mean_squared_error: 0.0042 - val_mean_absolute_error: 0.0527\n",
            "Epoch 50/200\n",
            "8/8 [==============================] - 0s 14ms/step - loss: 0.0014 - mean_squared_error: 0.0014 - mean_absolute_error: 0.0283 - val_loss: 0.0041 - val_mean_squared_error: 0.0041 - val_mean_absolute_error: 0.0523\n",
            "Epoch 51/200\n",
            "8/8 [==============================] - 0s 15ms/step - loss: 0.0013 - mean_squared_error: 0.0013 - mean_absolute_error: 0.0271 - val_loss: 0.0041 - val_mean_squared_error: 0.0041 - val_mean_absolute_error: 0.0525\n",
            "Epoch 52/200\n",
            "8/8 [==============================] - 0s 13ms/step - loss: 0.0014 - mean_squared_error: 0.0014 - mean_absolute_error: 0.0287 - val_loss: 0.0044 - val_mean_squared_error: 0.0044 - val_mean_absolute_error: 0.0535\n",
            "Epoch 53/200\n",
            "8/8 [==============================] - 0s 16ms/step - loss: 0.0012 - mean_squared_error: 0.0012 - mean_absolute_error: 0.0272 - val_loss: 0.0042 - val_mean_squared_error: 0.0042 - val_mean_absolute_error: 0.0524\n",
            "Epoch 54/200\n",
            "8/8 [==============================] - 0s 13ms/step - loss: 0.0014 - mean_squared_error: 0.0014 - mean_absolute_error: 0.0283 - val_loss: 0.0041 - val_mean_squared_error: 0.0041 - val_mean_absolute_error: 0.0519\n",
            "Epoch 55/200\n",
            "8/8 [==============================] - 0s 13ms/step - loss: 0.0014 - mean_squared_error: 0.0014 - mean_absolute_error: 0.0290 - val_loss: 0.0059 - val_mean_squared_error: 0.0059 - val_mean_absolute_error: 0.0607\n",
            "Epoch 56/200\n",
            "8/8 [==============================] - 0s 12ms/step - loss: 0.0024 - mean_squared_error: 0.0024 - mean_absolute_error: 0.0368 - val_loss: 0.0042 - val_mean_squared_error: 0.0042 - val_mean_absolute_error: 0.0533\n",
            "Epoch 57/200\n",
            "8/8 [==============================] - 0s 14ms/step - loss: 0.0012 - mean_squared_error: 0.0012 - mean_absolute_error: 0.0266 - val_loss: 0.0040 - val_mean_squared_error: 0.0040 - val_mean_absolute_error: 0.0519\n",
            "Epoch 58/200\n",
            "8/8 [==============================] - 0s 17ms/step - loss: 0.0011 - mean_squared_error: 0.0011 - mean_absolute_error: 0.0252 - val_loss: 0.0042 - val_mean_squared_error: 0.0042 - val_mean_absolute_error: 0.0529\n",
            "Epoch 59/200\n",
            "8/8 [==============================] - 0s 13ms/step - loss: 0.0012 - mean_squared_error: 0.0012 - mean_absolute_error: 0.0267 - val_loss: 0.0044 - val_mean_squared_error: 0.0044 - val_mean_absolute_error: 0.0540\n",
            "Epoch 60/200\n",
            "8/8 [==============================] - 0s 16ms/step - loss: 0.0012 - mean_squared_error: 0.0012 - mean_absolute_error: 0.0264 - val_loss: 0.0045 - val_mean_squared_error: 0.0045 - val_mean_absolute_error: 0.0545\n",
            "Epoch 61/200\n",
            "8/8 [==============================] - 0s 13ms/step - loss: 0.0017 - mean_squared_error: 0.0017 - mean_absolute_error: 0.0310 - val_loss: 0.0040 - val_mean_squared_error: 0.0040 - val_mean_absolute_error: 0.0520\n",
            "Epoch 62/200\n",
            "8/8 [==============================] - 0s 12ms/step - loss: 0.0012 - mean_squared_error: 0.0012 - mean_absolute_error: 0.0265 - val_loss: 0.0046 - val_mean_squared_error: 0.0046 - val_mean_absolute_error: 0.0549\n",
            "Epoch 63/200\n",
            "8/8 [==============================] - 0s 12ms/step - loss: 0.0011 - mean_squared_error: 0.0011 - mean_absolute_error: 0.0261 - val_loss: 0.0041 - val_mean_squared_error: 0.0041 - val_mean_absolute_error: 0.0521\n",
            "Epoch 64/200\n",
            "8/8 [==============================] - 0s 14ms/step - loss: 0.0011 - mean_squared_error: 0.0011 - mean_absolute_error: 0.0250 - val_loss: 0.0048 - val_mean_squared_error: 0.0048 - val_mean_absolute_error: 0.0562\n",
            "Epoch 65/200\n",
            "8/8 [==============================] - 0s 12ms/step - loss: 0.0013 - mean_squared_error: 0.0013 - mean_absolute_error: 0.0275 - val_loss: 0.0040 - val_mean_squared_error: 0.0040 - val_mean_absolute_error: 0.0519\n",
            "Epoch 66/200\n",
            "8/8 [==============================] - 0s 14ms/step - loss: 0.0011 - mean_squared_error: 0.0011 - mean_absolute_error: 0.0254 - val_loss: 0.0047 - val_mean_squared_error: 0.0047 - val_mean_absolute_error: 0.0549\n",
            "Epoch 67/200\n",
            "8/8 [==============================] - 0s 16ms/step - loss: 0.0012 - mean_squared_error: 0.0012 - mean_absolute_error: 0.0271 - val_loss: 0.0059 - val_mean_squared_error: 0.0059 - val_mean_absolute_error: 0.0612\n",
            "Epoch 68/200\n",
            "8/8 [==============================] - 0s 16ms/step - loss: 0.0032 - mean_squared_error: 0.0032 - mean_absolute_error: 0.0419 - val_loss: 0.0041 - val_mean_squared_error: 0.0041 - val_mean_absolute_error: 0.0517\n",
            "Epoch 69/200\n",
            "8/8 [==============================] - 0s 13ms/step - loss: 0.0011 - mean_squared_error: 0.0011 - mean_absolute_error: 0.0259 - val_loss: 0.0041 - val_mean_squared_error: 0.0041 - val_mean_absolute_error: 0.0521\n",
            "Epoch 70/200\n",
            "8/8 [==============================] - 0s 14ms/step - loss: 0.0010 - mean_squared_error: 0.0010 - mean_absolute_error: 0.0250 - val_loss: 0.0040 - val_mean_squared_error: 0.0040 - val_mean_absolute_error: 0.0514\n",
            "Epoch 71/200\n",
            "8/8 [==============================] - 0s 13ms/step - loss: 9.3070e-04 - mean_squared_error: 9.3070e-04 - mean_absolute_error: 0.0234 - val_loss: 0.0041 - val_mean_squared_error: 0.0041 - val_mean_absolute_error: 0.0523\n",
            "Epoch 72/200\n",
            "8/8 [==============================] - 0s 14ms/step - loss: 0.0011 - mean_squared_error: 0.0011 - mean_absolute_error: 0.0254 - val_loss: 0.0039 - val_mean_squared_error: 0.0039 - val_mean_absolute_error: 0.0508\n",
            "Epoch 73/200\n",
            "8/8 [==============================] - 0s 15ms/step - loss: 0.0011 - mean_squared_error: 0.0011 - mean_absolute_error: 0.0255 - val_loss: 0.0040 - val_mean_squared_error: 0.0040 - val_mean_absolute_error: 0.0516\n",
            "Epoch 74/200\n",
            "8/8 [==============================] - 0s 13ms/step - loss: 9.6843e-04 - mean_squared_error: 9.6843e-04 - mean_absolute_error: 0.0240 - val_loss: 0.0039 - val_mean_squared_error: 0.0039 - val_mean_absolute_error: 0.0509\n",
            "Epoch 75/200\n",
            "8/8 [==============================] - 0s 14ms/step - loss: 9.4528e-04 - mean_squared_error: 9.4528e-04 - mean_absolute_error: 0.0236 - val_loss: 0.0039 - val_mean_squared_error: 0.0039 - val_mean_absolute_error: 0.0508\n",
            "Epoch 76/200\n",
            "8/8 [==============================] - 0s 17ms/step - loss: 9.8030e-04 - mean_squared_error: 9.8030e-04 - mean_absolute_error: 0.0240 - val_loss: 0.0046 - val_mean_squared_error: 0.0046 - val_mean_absolute_error: 0.0547\n",
            "Epoch 77/200\n",
            "8/8 [==============================] - 0s 14ms/step - loss: 0.0013 - mean_squared_error: 0.0013 - mean_absolute_error: 0.0267 - val_loss: 0.0041 - val_mean_squared_error: 0.0041 - val_mean_absolute_error: 0.0523\n",
            "Epoch 78/200\n",
            "8/8 [==============================] - 0s 13ms/step - loss: 0.0013 - mean_squared_error: 0.0013 - mean_absolute_error: 0.0278 - val_loss: 0.0039 - val_mean_squared_error: 0.0039 - val_mean_absolute_error: 0.0515\n",
            "Epoch 79/200\n",
            "8/8 [==============================] - 0s 14ms/step - loss: 0.0010 - mean_squared_error: 0.0010 - mean_absolute_error: 0.0246 - val_loss: 0.0045 - val_mean_squared_error: 0.0045 - val_mean_absolute_error: 0.0543\n",
            "Epoch 80/200\n",
            "8/8 [==============================] - 0s 13ms/step - loss: 0.0014 - mean_squared_error: 0.0014 - mean_absolute_error: 0.0286 - val_loss: 0.0041 - val_mean_squared_error: 0.0041 - val_mean_absolute_error: 0.0519\n",
            "Epoch 81/200\n",
            "8/8 [==============================] - 0s 14ms/step - loss: 0.0010 - mean_squared_error: 0.0010 - mean_absolute_error: 0.0245 - val_loss: 0.0046 - val_mean_squared_error: 0.0046 - val_mean_absolute_error: 0.0547\n",
            "Epoch 82/200\n",
            "8/8 [==============================] - 0s 16ms/step - loss: 0.0011 - mean_squared_error: 0.0011 - mean_absolute_error: 0.0252 - val_loss: 0.0039 - val_mean_squared_error: 0.0039 - val_mean_absolute_error: 0.0508\n",
            "Epoch 83/200\n",
            "8/8 [==============================] - 0s 15ms/step - loss: 9.7040e-04 - mean_squared_error: 9.7040e-04 - mean_absolute_error: 0.0240 - val_loss: 0.0039 - val_mean_squared_error: 0.0039 - val_mean_absolute_error: 0.0503\n",
            "Epoch 84/200\n",
            "8/8 [==============================] - 0s 15ms/step - loss: 0.0018 - mean_squared_error: 0.0018 - mean_absolute_error: 0.0309 - val_loss: 0.0060 - val_mean_squared_error: 0.0060 - val_mean_absolute_error: 0.0610\n",
            "Epoch 85/200\n",
            "8/8 [==============================] - 0s 13ms/step - loss: 0.0022 - mean_squared_error: 0.0022 - mean_absolute_error: 0.0353 - val_loss: 0.0037 - val_mean_squared_error: 0.0037 - val_mean_absolute_error: 0.0498\n",
            "Epoch 86/200\n",
            "8/8 [==============================] - 0s 15ms/step - loss: 0.0010 - mean_squared_error: 0.0010 - mean_absolute_error: 0.0242 - val_loss: 0.0040 - val_mean_squared_error: 0.0040 - val_mean_absolute_error: 0.0518\n",
            "Epoch 87/200\n",
            "8/8 [==============================] - 0s 14ms/step - loss: 0.0012 - mean_squared_error: 0.0012 - mean_absolute_error: 0.0270 - val_loss: 0.0038 - val_mean_squared_error: 0.0038 - val_mean_absolute_error: 0.0503\n",
            "Epoch 88/200\n",
            "8/8 [==============================] - 0s 16ms/step - loss: 0.0012 - mean_squared_error: 0.0012 - mean_absolute_error: 0.0260 - val_loss: 0.0039 - val_mean_squared_error: 0.0039 - val_mean_absolute_error: 0.0510\n",
            "Epoch 89/200\n",
            "8/8 [==============================] - 0s 16ms/step - loss: 9.6583e-04 - mean_squared_error: 9.6583e-04 - mean_absolute_error: 0.0236 - val_loss: 0.0037 - val_mean_squared_error: 0.0037 - val_mean_absolute_error: 0.0492\n",
            "Epoch 90/200\n",
            "8/8 [==============================] - 0s 12ms/step - loss: 9.6917e-04 - mean_squared_error: 9.6917e-04 - mean_absolute_error: 0.0239 - val_loss: 0.0041 - val_mean_squared_error: 0.0041 - val_mean_absolute_error: 0.0516\n",
            "Epoch 91/200\n",
            "8/8 [==============================] - 0s 12ms/step - loss: 0.0015 - mean_squared_error: 0.0015 - mean_absolute_error: 0.0292 - val_loss: 0.0038 - val_mean_squared_error: 0.0038 - val_mean_absolute_error: 0.0507\n",
            "Epoch 92/200\n",
            "8/8 [==============================] - 0s 15ms/step - loss: 9.6132e-04 - mean_squared_error: 9.6132e-04 - mean_absolute_error: 0.0242 - val_loss: 0.0036 - val_mean_squared_error: 0.0036 - val_mean_absolute_error: 0.0490\n",
            "Epoch 93/200\n",
            "8/8 [==============================] - 0s 16ms/step - loss: 8.9714e-04 - mean_squared_error: 8.9714e-04 - mean_absolute_error: 0.0233 - val_loss: 0.0037 - val_mean_squared_error: 0.0037 - val_mean_absolute_error: 0.0496\n",
            "Epoch 94/200\n",
            "8/8 [==============================] - 0s 13ms/step - loss: 0.0010 - mean_squared_error: 0.0010 - mean_absolute_error: 0.0247 - val_loss: 0.0045 - val_mean_squared_error: 0.0045 - val_mean_absolute_error: 0.0534\n",
            "Epoch 95/200\n",
            "8/8 [==============================] - 0s 16ms/step - loss: 0.0021 - mean_squared_error: 0.0021 - mean_absolute_error: 0.0348 - val_loss: 0.0039 - val_mean_squared_error: 0.0039 - val_mean_absolute_error: 0.0504\n",
            "Epoch 96/200\n",
            "8/8 [==============================] - 0s 13ms/step - loss: 0.0013 - mean_squared_error: 0.0013 - mean_absolute_error: 0.0280 - val_loss: 0.0038 - val_mean_squared_error: 0.0038 - val_mean_absolute_error: 0.0497\n",
            "Epoch 97/200\n",
            "8/8 [==============================] - 0s 15ms/step - loss: 0.0011 - mean_squared_error: 0.0011 - mean_absolute_error: 0.0260 - val_loss: 0.0037 - val_mean_squared_error: 0.0037 - val_mean_absolute_error: 0.0493\n",
            "Epoch 98/200\n",
            "8/8 [==============================] - 0s 13ms/step - loss: 9.1009e-04 - mean_squared_error: 9.1009e-04 - mean_absolute_error: 0.0234 - val_loss: 0.0041 - val_mean_squared_error: 0.0041 - val_mean_absolute_error: 0.0521\n",
            "Epoch 99/200\n",
            "8/8 [==============================] - 0s 17ms/step - loss: 0.0011 - mean_squared_error: 0.0011 - mean_absolute_error: 0.0252 - val_loss: 0.0038 - val_mean_squared_error: 0.0038 - val_mean_absolute_error: 0.0506\n",
            "Epoch 100/200\n",
            "8/8 [==============================] - 0s 15ms/step - loss: 0.0011 - mean_squared_error: 0.0011 - mean_absolute_error: 0.0251 - val_loss: 0.0037 - val_mean_squared_error: 0.0037 - val_mean_absolute_error: 0.0500\n",
            "Epoch 101/200\n",
            "8/8 [==============================] - 0s 14ms/step - loss: 0.0013 - mean_squared_error: 0.0013 - mean_absolute_error: 0.0269 - val_loss: 0.0036 - val_mean_squared_error: 0.0036 - val_mean_absolute_error: 0.0487\n",
            "Epoch 102/200\n",
            "8/8 [==============================] - 0s 17ms/step - loss: 0.0011 - mean_squared_error: 0.0011 - mean_absolute_error: 0.0255 - val_loss: 0.0036 - val_mean_squared_error: 0.0036 - val_mean_absolute_error: 0.0485\n",
            "Epoch 103/200\n",
            "8/8 [==============================] - 0s 14ms/step - loss: 0.0011 - mean_squared_error: 0.0011 - mean_absolute_error: 0.0251 - val_loss: 0.0042 - val_mean_squared_error: 0.0042 - val_mean_absolute_error: 0.0519\n",
            "Epoch 104/200\n",
            "8/8 [==============================] - 0s 16ms/step - loss: 0.0011 - mean_squared_error: 0.0011 - mean_absolute_error: 0.0265 - val_loss: 0.0039 - val_mean_squared_error: 0.0039 - val_mean_absolute_error: 0.0512\n",
            "Epoch 105/200\n",
            "8/8 [==============================] - 0s 13ms/step - loss: 9.2107e-04 - mean_squared_error: 9.2107e-04 - mean_absolute_error: 0.0234 - val_loss: 0.0036 - val_mean_squared_error: 0.0036 - val_mean_absolute_error: 0.0489\n",
            "Epoch 106/200\n",
            "8/8 [==============================] - 0s 17ms/step - loss: 9.4477e-04 - mean_squared_error: 9.4477e-04 - mean_absolute_error: 0.0241 - val_loss: 0.0038 - val_mean_squared_error: 0.0038 - val_mean_absolute_error: 0.0501\n",
            "Epoch 107/200\n",
            "8/8 [==============================] - 0s 13ms/step - loss: 8.8091e-04 - mean_squared_error: 8.8091e-04 - mean_absolute_error: 0.0230 - val_loss: 0.0039 - val_mean_squared_error: 0.0039 - val_mean_absolute_error: 0.0513\n",
            "Epoch 108/200\n",
            "8/8 [==============================] - 0s 14ms/step - loss: 0.0011 - mean_squared_error: 0.0011 - mean_absolute_error: 0.0250 - val_loss: 0.0042 - val_mean_squared_error: 0.0042 - val_mean_absolute_error: 0.0527\n",
            "Epoch 109/200\n",
            "8/8 [==============================] - 0s 16ms/step - loss: 0.0010 - mean_squared_error: 0.0010 - mean_absolute_error: 0.0247 - val_loss: 0.0037 - val_mean_squared_error: 0.0037 - val_mean_absolute_error: 0.0497\n",
            "Epoch 110/200\n",
            "8/8 [==============================] - 0s 22ms/step - loss: 9.4751e-04 - mean_squared_error: 9.4751e-04 - mean_absolute_error: 0.0239 - val_loss: 0.0037 - val_mean_squared_error: 0.0037 - val_mean_absolute_error: 0.0495\n",
            "Epoch 111/200\n",
            "8/8 [==============================] - 0s 16ms/step - loss: 0.0017 - mean_squared_error: 0.0017 - mean_absolute_error: 0.0315 - val_loss: 0.0061 - val_mean_squared_error: 0.0061 - val_mean_absolute_error: 0.0614\n",
            "Epoch 112/200\n",
            "8/8 [==============================] - 0s 15ms/step - loss: 0.0034 - mean_squared_error: 0.0034 - mean_absolute_error: 0.0420 - val_loss: 0.0036 - val_mean_squared_error: 0.0036 - val_mean_absolute_error: 0.0488\n"
          ],
          "name": "stdout"
        },
        {
          "output_type": "display_data",
          "data": {
            "text/html": [
              "<br/>Waiting for W&B process to finish, PID 5320<br/>Program ended successfully."
            ],
            "text/plain": [
              "<IPython.core.display.HTML object>"
            ]
          },
          "metadata": {
            "tags": []
          }
        },
        {
          "output_type": "display_data",
          "data": {
            "application/vnd.jupyter.widget-view+json": {
              "model_id": "89aa3a303224479b88d193ed96418a22",
              "version_minor": 0,
              "version_major": 2
            },
            "text/plain": [
              "VBox(children=(Label(value=' 11.55MB of 11.55MB uploaded (0.00MB deduped)\\r'), FloatProgress(value=1.0, max=1.…"
            ]
          },
          "metadata": {
            "tags": []
          }
        },
        {
          "output_type": "display_data",
          "data": {
            "text/html": [
              "Find user logs for this run at: <code>/content/feeder_repo/wandb/run-20210721_154020-qk3rl1pg/logs/debug.log</code>"
            ],
            "text/plain": [
              "<IPython.core.display.HTML object>"
            ]
          },
          "metadata": {
            "tags": []
          }
        },
        {
          "output_type": "display_data",
          "data": {
            "text/html": [
              "Find internal logs for this run at: <code>/content/feeder_repo/wandb/run-20210721_154020-qk3rl1pg/logs/debug-internal.log</code>"
            ],
            "text/plain": [
              "<IPython.core.display.HTML object>"
            ]
          },
          "metadata": {
            "tags": []
          }
        },
        {
          "output_type": "display_data",
          "data": {
            "text/html": [
              "<h3>Run summary:</h3><br/><style>\n",
              "    table.wandb td:nth-child(1) { padding: 0 10px; text-align: right }\n",
              "    </style><table class=\"wandb\">\n",
              "<tr><td>epoch</td><td>111</td></tr><tr><td>loss</td><td>0.00287</td></tr><tr><td>mean_squared_error</td><td>0.00287</td></tr><tr><td>mean_absolute_error</td><td>0.03852</td></tr><tr><td>val_loss</td><td>0.00357</td></tr><tr><td>val_mean_squared_error</td><td>0.00357</td></tr><tr><td>val_mean_absolute_error</td><td>0.04884</td></tr><tr><td>_runtime</td><td>26</td></tr><tr><td>_timestamp</td><td>1626882046</td></tr><tr><td>_step</td><td>111</td></tr><tr><td>best_val_loss</td><td>0.00356</td></tr><tr><td>best_epoch</td><td>101</td></tr></table>"
            ],
            "text/plain": [
              "<IPython.core.display.HTML object>"
            ]
          },
          "metadata": {
            "tags": []
          }
        },
        {
          "output_type": "display_data",
          "data": {
            "text/html": [
              "<h3>Run history:</h3><br/><style>\n",
              "    table.wandb td:nth-child(1) { padding: 0 10px; text-align: right }\n",
              "    </style><table class=\"wandb\">\n",
              "<tr><td>epoch</td><td>▁▁▁▂▂▂▂▂▂▃▃▃▃▃▃▄▄▄▄▄▅▅▅▅▅▅▆▆▆▆▆▇▇▇▇▇▇███</td></tr><tr><td>loss</td><td>█▂▃▂▁▁▂▁▁▁▁▁▂▁▁▂▁▂▁▁▁▁▁▁▁▁▁▁▁▁▁▁▁▁▁▁▁▁▁▂</td></tr><tr><td>mean_squared_error</td><td>█▂▃▂▁▁▂▁▁▁▁▁▂▁▁▂▁▂▁▁▁▁▁▁▁▁▁▁▁▁▁▁▁▁▁▁▁▁▁▂</td></tr><tr><td>mean_absolute_error</td><td>█▃▅▄▂▂▃▂▂▃▂▂▄▂▂▃▂▃▂▂▁▁▁▁▁▁▁▂▂▁▁▁▁▁▁▁▁▁▁▃</td></tr><tr><td>val_loss</td><td>█▇▅▄▅▃▂▃▂▄▂▂▄▂▂▅▂▂▂▃▁▂▁▂▁▁▁▂▁▁▁▁▁▂▁▁▂▁▁▁</td></tr><tr><td>val_mean_squared_error</td><td>█▇▅▄▅▃▂▃▂▄▂▂▄▂▂▅▂▂▂▃▁▂▁▂▁▁▁▂▁▁▁▁▁▂▁▁▂▁▁▁</td></tr><tr><td>val_mean_absolute_error</td><td>█▇▇▅▅▃▃▄▃▅▂▂▅▂▃▆▂▂▂▄▂▂▂▂▂▁▁▂▂▁▂▁▁▂▁▁▂▁▁▁</td></tr><tr><td>_runtime</td><td>▁▁▁▂▂▂▂▃▃▃▃▃▄▄▄▄▄▅▅▅▅▅▅▅▅▆▆▆▆▆▇▇▇▇▇█████</td></tr><tr><td>_timestamp</td><td>▁▁▁▂▂▂▂▃▃▃▃▃▄▄▄▄▄▅▅▅▅▅▅▅▅▆▆▆▆▆▇▇▇▇▇█████</td></tr><tr><td>_step</td><td>▁▁▁▂▂▂▂▂▂▃▃▃▃▃▃▄▄▄▄▄▅▅▅▅▅▅▆▆▆▆▆▇▇▇▇▇▇███</td></tr></table><br/>"
            ],
            "text/plain": [
              "<IPython.core.display.HTML object>"
            ]
          },
          "metadata": {
            "tags": []
          }
        },
        {
          "output_type": "display_data",
          "data": {
            "text/html": [
              "Synced 5 W&B file(s), 1 media file(s), 2 artifact file(s) and 2 other file(s)"
            ],
            "text/plain": [
              "<IPython.core.display.HTML object>"
            ]
          },
          "metadata": {
            "tags": []
          }
        },
        {
          "output_type": "display_data",
          "data": {
            "text/html": [
              "\n",
              "                    <br/>Synced <strong style=\"color:#cdcd00\">whole-sweep-22</strong>: <a href=\"https://wandb.ai/acse-jaq15/ACSE_9_CNN_LSTM/runs/qk3rl1pg\" target=\"_blank\">https://wandb.ai/acse-jaq15/ACSE_9_CNN_LSTM/runs/qk3rl1pg</a><br/>\n",
              "                "
            ],
            "text/plain": [
              "<IPython.core.display.HTML object>"
            ]
          },
          "metadata": {
            "tags": []
          }
        },
        {
          "output_type": "stream",
          "text": [
            "\u001b[34m\u001b[1mwandb\u001b[0m: Agent Starting Run: 92f3sq1n with config:\n",
            "\u001b[34m\u001b[1mwandb\u001b[0m: \tactivation: selu\n",
            "\u001b[34m\u001b[1mwandb\u001b[0m: \tbatch_size: 64\n",
            "\u001b[34m\u001b[1mwandb\u001b[0m: \tepochs: 50\n",
            "\u001b[34m\u001b[1mwandb\u001b[0m: \tlearning_rate: 0.001\n",
            "\u001b[34m\u001b[1mwandb\u001b[0m: \toptimizer: adam\n"
          ],
          "name": "stderr"
        },
        {
          "output_type": "display_data",
          "data": {
            "text/html": [
              "\n",
              "                Tracking run with wandb version 0.11.0<br/>\n",
              "                Syncing run <strong style=\"color:#cdcd00\">splendid-sweep-23</strong> to <a href=\"https://wandb.ai\" target=\"_blank\">Weights & Biases</a> <a href=\"https://docs.wandb.com/integrations/jupyter.html\" target=\"_blank\">(Documentation)</a>.<br/>\n",
              "                Project page: <a href=\"https://wandb.ai/acse-jaq15/ACSE_9_CNN_LSTM\" target=\"_blank\">https://wandb.ai/acse-jaq15/ACSE_9_CNN_LSTM</a><br/>\n",
              "                Sweep page: <a href=\"https://wandb.ai/acse-jaq15/ACSE_9_CNN_LSTM/sweeps/leuxhbp3\" target=\"_blank\">https://wandb.ai/acse-jaq15/ACSE_9_CNN_LSTM/sweeps/leuxhbp3</a><br/>\n",
              "Run page: <a href=\"https://wandb.ai/acse-jaq15/ACSE_9_CNN_LSTM/runs/92f3sq1n\" target=\"_blank\">https://wandb.ai/acse-jaq15/ACSE_9_CNN_LSTM/runs/92f3sq1n</a><br/>\n",
              "                Run data is saved locally in <code>/content/feeder_repo/wandb/run-20210721_154054-92f3sq1n</code><br/><br/>\n",
              "            "
            ],
            "text/plain": [
              "<IPython.core.display.HTML object>"
            ]
          },
          "metadata": {
            "tags": []
          }
        },
        {
          "output_type": "stream",
          "text": [
            "Epoch 1/50\n",
            "16/16 [==============================] - 5s 82ms/step - loss: 0.0615 - mean_squared_error: 0.0615 - mean_absolute_error: 0.1613 - val_loss: 0.0336 - val_mean_squared_error: 0.0336 - val_mean_absolute_error: 0.1466\n",
            "Epoch 2/50\n",
            "16/16 [==============================] - 0s 10ms/step - loss: 0.0104 - mean_squared_error: 0.0104 - mean_absolute_error: 0.0817 - val_loss: 0.0187 - val_mean_squared_error: 0.0187 - val_mean_absolute_error: 0.1036\n",
            "Epoch 3/50\n",
            "16/16 [==============================] - 0s 14ms/step - loss: 0.0055 - mean_squared_error: 0.0055 - mean_absolute_error: 0.0596 - val_loss: 0.0128 - val_mean_squared_error: 0.0128 - val_mean_absolute_error: 0.0834\n",
            "Epoch 4/50\n",
            "16/16 [==============================] - 0s 9ms/step - loss: 0.0036 - mean_squared_error: 0.0036 - mean_absolute_error: 0.0462 - val_loss: 0.0081 - val_mean_squared_error: 0.0081 - val_mean_absolute_error: 0.0688\n",
            "Epoch 5/50\n",
            "16/16 [==============================] - 0s 11ms/step - loss: 0.0027 - mean_squared_error: 0.0027 - mean_absolute_error: 0.0404 - val_loss: 0.0072 - val_mean_squared_error: 0.0072 - val_mean_absolute_error: 0.0644\n",
            "Epoch 6/50\n",
            "16/16 [==============================] - 0s 10ms/step - loss: 0.0022 - mean_squared_error: 0.0022 - mean_absolute_error: 0.0370 - val_loss: 0.0061 - val_mean_squared_error: 0.0061 - val_mean_absolute_error: 0.0608\n",
            "Epoch 7/50\n",
            "16/16 [==============================] - 0s 10ms/step - loss: 0.0019 - mean_squared_error: 0.0019 - mean_absolute_error: 0.0330 - val_loss: 0.0057 - val_mean_squared_error: 0.0057 - val_mean_absolute_error: 0.0588\n",
            "Epoch 8/50\n",
            "16/16 [==============================] - 0s 10ms/step - loss: 0.0019 - mean_squared_error: 0.0019 - mean_absolute_error: 0.0339 - val_loss: 0.0053 - val_mean_squared_error: 0.0053 - val_mean_absolute_error: 0.0571\n",
            "Epoch 9/50\n",
            "16/16 [==============================] - 0s 11ms/step - loss: 0.0019 - mean_squared_error: 0.0019 - mean_absolute_error: 0.0336 - val_loss: 0.0050 - val_mean_squared_error: 0.0050 - val_mean_absolute_error: 0.0576\n",
            "Epoch 10/50\n",
            "16/16 [==============================] - 0s 10ms/step - loss: 0.0016 - mean_squared_error: 0.0016 - mean_absolute_error: 0.0319 - val_loss: 0.0048 - val_mean_squared_error: 0.0048 - val_mean_absolute_error: 0.0551\n",
            "Epoch 11/50\n",
            "16/16 [==============================] - 0s 11ms/step - loss: 0.0014 - mean_squared_error: 0.0014 - mean_absolute_error: 0.0289 - val_loss: 0.0046 - val_mean_squared_error: 0.0046 - val_mean_absolute_error: 0.0537\n",
            "Epoch 12/50\n",
            "16/16 [==============================] - 0s 11ms/step - loss: 0.0014 - mean_squared_error: 0.0014 - mean_absolute_error: 0.0293 - val_loss: 0.0046 - val_mean_squared_error: 0.0046 - val_mean_absolute_error: 0.0540\n",
            "Epoch 13/50\n",
            "16/16 [==============================] - 0s 9ms/step - loss: 0.0014 - mean_squared_error: 0.0014 - mean_absolute_error: 0.0293 - val_loss: 0.0044 - val_mean_squared_error: 0.0044 - val_mean_absolute_error: 0.0530\n",
            "Epoch 14/50\n",
            "16/16 [==============================] - 0s 11ms/step - loss: 0.0015 - mean_squared_error: 0.0015 - mean_absolute_error: 0.0301 - val_loss: 0.0043 - val_mean_squared_error: 0.0043 - val_mean_absolute_error: 0.0530\n",
            "Epoch 15/50\n",
            "16/16 [==============================] - 0s 11ms/step - loss: 0.0015 - mean_squared_error: 0.0015 - mean_absolute_error: 0.0296 - val_loss: 0.0041 - val_mean_squared_error: 0.0041 - val_mean_absolute_error: 0.0522\n",
            "Epoch 16/50\n",
            "16/16 [==============================] - 0s 11ms/step - loss: 0.0013 - mean_squared_error: 0.0013 - mean_absolute_error: 0.0277 - val_loss: 0.0045 - val_mean_squared_error: 0.0045 - val_mean_absolute_error: 0.0539\n",
            "Epoch 17/50\n",
            "16/16 [==============================] - 0s 10ms/step - loss: 0.0013 - mean_squared_error: 0.0013 - mean_absolute_error: 0.0279 - val_loss: 0.0042 - val_mean_squared_error: 0.0042 - val_mean_absolute_error: 0.0527\n",
            "Epoch 18/50\n",
            "16/16 [==============================] - 0s 13ms/step - loss: 0.0012 - mean_squared_error: 0.0012 - mean_absolute_error: 0.0260 - val_loss: 0.0045 - val_mean_squared_error: 0.0045 - val_mean_absolute_error: 0.0541\n",
            "Epoch 19/50\n",
            "16/16 [==============================] - 0s 9ms/step - loss: 0.0012 - mean_squared_error: 0.0012 - mean_absolute_error: 0.0270 - val_loss: 0.0041 - val_mean_squared_error: 0.0041 - val_mean_absolute_error: 0.0522\n",
            "Epoch 20/50\n",
            "16/16 [==============================] - 0s 10ms/step - loss: 0.0013 - mean_squared_error: 0.0013 - mean_absolute_error: 0.0275 - val_loss: 0.0043 - val_mean_squared_error: 0.0043 - val_mean_absolute_error: 0.0532\n",
            "Epoch 21/50\n",
            "16/16 [==============================] - 0s 9ms/step - loss: 0.0015 - mean_squared_error: 0.0015 - mean_absolute_error: 0.0296 - val_loss: 0.0060 - val_mean_squared_error: 0.0060 - val_mean_absolute_error: 0.0616\n",
            "Epoch 22/50\n",
            "16/16 [==============================] - 0s 11ms/step - loss: 0.0017 - mean_squared_error: 0.0017 - mean_absolute_error: 0.0310 - val_loss: 0.0040 - val_mean_squared_error: 0.0040 - val_mean_absolute_error: 0.0515\n",
            "Epoch 23/50\n",
            "16/16 [==============================] - 0s 11ms/step - loss: 9.8923e-04 - mean_squared_error: 9.8923e-04 - mean_absolute_error: 0.0245 - val_loss: 0.0038 - val_mean_squared_error: 0.0038 - val_mean_absolute_error: 0.0507\n",
            "Epoch 24/50\n",
            "16/16 [==============================] - 0s 10ms/step - loss: 0.0011 - mean_squared_error: 0.0011 - mean_absolute_error: 0.0251 - val_loss: 0.0039 - val_mean_squared_error: 0.0039 - val_mean_absolute_error: 0.0518\n",
            "Epoch 25/50\n",
            "16/16 [==============================] - 0s 9ms/step - loss: 0.0010 - mean_squared_error: 0.0010 - mean_absolute_error: 0.0243 - val_loss: 0.0038 - val_mean_squared_error: 0.0038 - val_mean_absolute_error: 0.0509\n",
            "Epoch 26/50\n",
            "16/16 [==============================] - 0s 10ms/step - loss: 9.2972e-04 - mean_squared_error: 9.2972e-04 - mean_absolute_error: 0.0238 - val_loss: 0.0037 - val_mean_squared_error: 0.0037 - val_mean_absolute_error: 0.0500\n",
            "Epoch 27/50\n",
            "16/16 [==============================] - 0s 10ms/step - loss: 9.0698e-04 - mean_squared_error: 9.0698e-04 - mean_absolute_error: 0.0234 - val_loss: 0.0037 - val_mean_squared_error: 0.0037 - val_mean_absolute_error: 0.0502\n",
            "Epoch 28/50\n",
            "16/16 [==============================] - 0s 10ms/step - loss: 0.0011 - mean_squared_error: 0.0011 - mean_absolute_error: 0.0253 - val_loss: 0.0037 - val_mean_squared_error: 0.0037 - val_mean_absolute_error: 0.0502\n",
            "Epoch 29/50\n",
            "16/16 [==============================] - 0s 10ms/step - loss: 8.8085e-04 - mean_squared_error: 8.8085e-04 - mean_absolute_error: 0.0226 - val_loss: 0.0037 - val_mean_squared_error: 0.0037 - val_mean_absolute_error: 0.0495\n",
            "Epoch 30/50\n",
            "16/16 [==============================] - 0s 8ms/step - loss: 0.0012 - mean_squared_error: 0.0012 - mean_absolute_error: 0.0262 - val_loss: 0.0038 - val_mean_squared_error: 0.0038 - val_mean_absolute_error: 0.0502\n",
            "Epoch 31/50\n",
            "16/16 [==============================] - 0s 10ms/step - loss: 0.0012 - mean_squared_error: 0.0012 - mean_absolute_error: 0.0260 - val_loss: 0.0037 - val_mean_squared_error: 0.0037 - val_mean_absolute_error: 0.0503\n",
            "Epoch 32/50\n",
            "16/16 [==============================] - 0s 10ms/step - loss: 9.1808e-04 - mean_squared_error: 9.1808e-04 - mean_absolute_error: 0.0232 - val_loss: 0.0038 - val_mean_squared_error: 0.0038 - val_mean_absolute_error: 0.0504\n",
            "Epoch 33/50\n",
            "16/16 [==============================] - 0s 11ms/step - loss: 9.6102e-04 - mean_squared_error: 9.6102e-04 - mean_absolute_error: 0.0240 - val_loss: 0.0037 - val_mean_squared_error: 0.0037 - val_mean_absolute_error: 0.0494\n",
            "Epoch 34/50\n",
            "16/16 [==============================] - 0s 10ms/step - loss: 0.0011 - mean_squared_error: 0.0011 - mean_absolute_error: 0.0252 - val_loss: 0.0042 - val_mean_squared_error: 0.0042 - val_mean_absolute_error: 0.0530\n",
            "Epoch 35/50\n",
            "16/16 [==============================] - 0s 10ms/step - loss: 0.0012 - mean_squared_error: 0.0012 - mean_absolute_error: 0.0257 - val_loss: 0.0038 - val_mean_squared_error: 0.0038 - val_mean_absolute_error: 0.0512\n",
            "Epoch 36/50\n",
            "16/16 [==============================] - 0s 13ms/step - loss: 0.0011 - mean_squared_error: 0.0011 - mean_absolute_error: 0.0247 - val_loss: 0.0038 - val_mean_squared_error: 0.0038 - val_mean_absolute_error: 0.0503\n",
            "Epoch 37/50\n",
            "16/16 [==============================] - 0s 9ms/step - loss: 0.0012 - mean_squared_error: 0.0012 - mean_absolute_error: 0.0263 - val_loss: 0.0040 - val_mean_squared_error: 0.0040 - val_mean_absolute_error: 0.0505\n",
            "Epoch 38/50\n",
            "16/16 [==============================] - 0s 10ms/step - loss: 0.0010 - mean_squared_error: 0.0010 - mean_absolute_error: 0.0241 - val_loss: 0.0036 - val_mean_squared_error: 0.0036 - val_mean_absolute_error: 0.0485\n",
            "Epoch 39/50\n",
            "16/16 [==============================] - 0s 11ms/step - loss: 0.0011 - mean_squared_error: 0.0011 - mean_absolute_error: 0.0250 - val_loss: 0.0037 - val_mean_squared_error: 0.0037 - val_mean_absolute_error: 0.0499\n",
            "Epoch 40/50\n",
            "16/16 [==============================] - 0s 8ms/step - loss: 8.7885e-04 - mean_squared_error: 8.7885e-04 - mean_absolute_error: 0.0224 - val_loss: 0.0037 - val_mean_squared_error: 0.0037 - val_mean_absolute_error: 0.0490\n",
            "Epoch 41/50\n",
            "16/16 [==============================] - 0s 9ms/step - loss: 0.0010 - mean_squared_error: 0.0010 - mean_absolute_error: 0.0242 - val_loss: 0.0036 - val_mean_squared_error: 0.0036 - val_mean_absolute_error: 0.0487\n",
            "Epoch 42/50\n",
            "16/16 [==============================] - 0s 11ms/step - loss: 0.0012 - mean_squared_error: 0.0012 - mean_absolute_error: 0.0264 - val_loss: 0.0037 - val_mean_squared_error: 0.0037 - val_mean_absolute_error: 0.0505\n",
            "Epoch 43/50\n",
            "16/16 [==============================] - 0s 9ms/step - loss: 0.0012 - mean_squared_error: 0.0012 - mean_absolute_error: 0.0252 - val_loss: 0.0038 - val_mean_squared_error: 0.0038 - val_mean_absolute_error: 0.0507\n",
            "Epoch 44/50\n",
            "16/16 [==============================] - 0s 10ms/step - loss: 0.0013 - mean_squared_error: 0.0013 - mean_absolute_error: 0.0277 - val_loss: 0.0039 - val_mean_squared_error: 0.0039 - val_mean_absolute_error: 0.0500\n",
            "Epoch 45/50\n",
            "16/16 [==============================] - 0s 10ms/step - loss: 0.0012 - mean_squared_error: 0.0012 - mean_absolute_error: 0.0258 - val_loss: 0.0034 - val_mean_squared_error: 0.0034 - val_mean_absolute_error: 0.0479\n",
            "Epoch 46/50\n",
            "16/16 [==============================] - 0s 10ms/step - loss: 8.7688e-04 - mean_squared_error: 8.7688e-04 - mean_absolute_error: 0.0228 - val_loss: 0.0034 - val_mean_squared_error: 0.0034 - val_mean_absolute_error: 0.0474\n",
            "Epoch 47/50\n",
            "16/16 [==============================] - 0s 10ms/step - loss: 8.6347e-04 - mean_squared_error: 8.6347e-04 - mean_absolute_error: 0.0228 - val_loss: 0.0034 - val_mean_squared_error: 0.0034 - val_mean_absolute_error: 0.0471\n",
            "Epoch 48/50\n",
            "16/16 [==============================] - 0s 9ms/step - loss: 8.9221e-04 - mean_squared_error: 8.9221e-04 - mean_absolute_error: 0.0233 - val_loss: 0.0035 - val_mean_squared_error: 0.0035 - val_mean_absolute_error: 0.0478\n",
            "Epoch 49/50\n",
            "16/16 [==============================] - 0s 12ms/step - loss: 9.0917e-04 - mean_squared_error: 9.0917e-04 - mean_absolute_error: 0.0229 - val_loss: 0.0034 - val_mean_squared_error: 0.0034 - val_mean_absolute_error: 0.0472\n",
            "Epoch 50/50\n",
            "16/16 [==============================] - 0s 10ms/step - loss: 7.8515e-04 - mean_squared_error: 7.8515e-04 - mean_absolute_error: 0.0216 - val_loss: 0.0033 - val_mean_squared_error: 0.0033 - val_mean_absolute_error: 0.0470\n"
          ],
          "name": "stdout"
        },
        {
          "output_type": "display_data",
          "data": {
            "text/html": [
              "<br/>Waiting for W&B process to finish, PID 5711<br/>Program ended successfully."
            ],
            "text/plain": [
              "<IPython.core.display.HTML object>"
            ]
          },
          "metadata": {
            "tags": []
          }
        },
        {
          "output_type": "display_data",
          "data": {
            "application/vnd.jupyter.widget-view+json": {
              "model_id": "a3b9cb8967ba48e1a3ced7a9c6d3f361",
              "version_minor": 0,
              "version_major": 2
            },
            "text/plain": [
              "VBox(children=(Label(value=' 11.58MB of 11.58MB uploaded (0.00MB deduped)\\r'), FloatProgress(value=1.0, max=1.…"
            ]
          },
          "metadata": {
            "tags": []
          }
        },
        {
          "output_type": "display_data",
          "data": {
            "text/html": [
              "Find user logs for this run at: <code>/content/feeder_repo/wandb/run-20210721_154054-92f3sq1n/logs/debug.log</code>"
            ],
            "text/plain": [
              "<IPython.core.display.HTML object>"
            ]
          },
          "metadata": {
            "tags": []
          }
        },
        {
          "output_type": "display_data",
          "data": {
            "text/html": [
              "Find internal logs for this run at: <code>/content/feeder_repo/wandb/run-20210721_154054-92f3sq1n/logs/debug-internal.log</code>"
            ],
            "text/plain": [
              "<IPython.core.display.HTML object>"
            ]
          },
          "metadata": {
            "tags": []
          }
        },
        {
          "output_type": "display_data",
          "data": {
            "text/html": [
              "<h3>Run summary:</h3><br/><style>\n",
              "    table.wandb td:nth-child(1) { padding: 0 10px; text-align: right }\n",
              "    </style><table class=\"wandb\">\n",
              "<tr><td>epoch</td><td>49</td></tr><tr><td>loss</td><td>0.00081</td></tr><tr><td>mean_squared_error</td><td>0.00081</td></tr><tr><td>mean_absolute_error</td><td>0.02197</td></tr><tr><td>val_loss</td><td>0.00333</td></tr><tr><td>val_mean_squared_error</td><td>0.00333</td></tr><tr><td>val_mean_absolute_error</td><td>0.04696</td></tr><tr><td>_runtime</td><td>19</td></tr><tr><td>_timestamp</td><td>1626882073</td></tr><tr><td>_step</td><td>49</td></tr><tr><td>best_val_loss</td><td>0.00333</td></tr><tr><td>best_epoch</td><td>49</td></tr></table>"
            ],
            "text/plain": [
              "<IPython.core.display.HTML object>"
            ]
          },
          "metadata": {
            "tags": []
          }
        },
        {
          "output_type": "display_data",
          "data": {
            "text/html": [
              "<h3>Run history:</h3><br/><style>\n",
              "    table.wandb td:nth-child(1) { padding: 0 10px; text-align: right }\n",
              "    </style><table class=\"wandb\">\n",
              "<tr><td>epoch</td><td>▁▁▁▁▂▂▂▂▂▃▃▃▃▃▃▄▄▄▄▄▅▅▅▅▅▅▆▆▆▆▆▆▇▇▇▇▇███</td></tr><tr><td>loss</td><td>█▃▂▂▁▁▁▁▁▁▁▁▁▁▁▁▁▁▁▁▁▁▁▁▁▁▁▁▁▁▁▁▁▁▁▁▁▁▁▁</td></tr><tr><td>mean_squared_error</td><td>█▃▂▂▁▁▁▁▁▁▁▁▁▁▁▁▁▁▁▁▁▁▁▁▁▁▁▁▁▁▁▁▁▁▁▁▁▁▁▁</td></tr><tr><td>mean_absolute_error</td><td>█▅▃▃▂▂▂▂▂▂▂▂▁▁▁▁▂▁▁▁▁▁▁▁▁▁▁▁▁▁▁▁▁▁▁▁▁▁▁▁</td></tr><tr><td>val_loss</td><td>█▅▃▂▂▂▁▁▁▁▁▁▁▁▁▁▂▁▁▁▁▁▁▁▁▁▁▁▁▁▁▁▁▁▁▁▁▁▁▁</td></tr><tr><td>val_mean_squared_error</td><td>█▅▃▂▂▂▁▁▁▁▁▁▁▁▁▁▂▁▁▁▁▁▁▁▁▁▁▁▁▁▁▁▁▁▁▁▁▁▁▁</td></tr><tr><td>val_mean_absolute_error</td><td>█▅▄▃▂▂▂▂▁▁▁▁▁▁▂▁▂▁▁▁▁▁▁▁▁▁▁▁▁▁▁▁▁▁▁▁▁▁▁▁</td></tr><tr><td>_runtime</td><td>▁▁▁▁▂▂▂▂▂▂▃▃▃▃▄▄▄▄▅▅▅▅▅▅▅▆▆▆▆▆▇▇▇▇▇▇▇▇██</td></tr><tr><td>_timestamp</td><td>▁▁▁▁▂▂▂▂▂▂▃▃▃▃▄▄▄▄▅▅▅▅▅▅▅▆▆▆▆▆▇▇▇▇▇▇▇▇██</td></tr><tr><td>_step</td><td>▁▁▁▁▂▂▂▂▂▃▃▃▃▃▃▄▄▄▄▄▅▅▅▅▅▅▆▆▆▆▆▆▇▇▇▇▇███</td></tr></table><br/>"
            ],
            "text/plain": [
              "<IPython.core.display.HTML object>"
            ]
          },
          "metadata": {
            "tags": []
          }
        },
        {
          "output_type": "display_data",
          "data": {
            "text/html": [
              "Synced 5 W&B file(s), 1 media file(s), 2 artifact file(s) and 2 other file(s)"
            ],
            "text/plain": [
              "<IPython.core.display.HTML object>"
            ]
          },
          "metadata": {
            "tags": []
          }
        },
        {
          "output_type": "display_data",
          "data": {
            "text/html": [
              "\n",
              "                    <br/>Synced <strong style=\"color:#cdcd00\">splendid-sweep-23</strong>: <a href=\"https://wandb.ai/acse-jaq15/ACSE_9_CNN_LSTM/runs/92f3sq1n\" target=\"_blank\">https://wandb.ai/acse-jaq15/ACSE_9_CNN_LSTM/runs/92f3sq1n</a><br/>\n",
              "                "
            ],
            "text/plain": [
              "<IPython.core.display.HTML object>"
            ]
          },
          "metadata": {
            "tags": []
          }
        },
        {
          "output_type": "stream",
          "text": [
            "\u001b[34m\u001b[1mwandb\u001b[0m: Agent Starting Run: mfrwf5yy with config:\n",
            "\u001b[34m\u001b[1mwandb\u001b[0m: \tactivation: relu\n",
            "\u001b[34m\u001b[1mwandb\u001b[0m: \tbatch_size: 32\n",
            "\u001b[34m\u001b[1mwandb\u001b[0m: \tepochs: 50\n",
            "\u001b[34m\u001b[1mwandb\u001b[0m: \tlearning_rate: 0.001\n",
            "\u001b[34m\u001b[1mwandb\u001b[0m: \toptimizer: adam\n"
          ],
          "name": "stderr"
        },
        {
          "output_type": "display_data",
          "data": {
            "text/html": [
              "\n",
              "                Tracking run with wandb version 0.11.0<br/>\n",
              "                Syncing run <strong style=\"color:#cdcd00\">stellar-sweep-24</strong> to <a href=\"https://wandb.ai\" target=\"_blank\">Weights & Biases</a> <a href=\"https://docs.wandb.com/integrations/jupyter.html\" target=\"_blank\">(Documentation)</a>.<br/>\n",
              "                Project page: <a href=\"https://wandb.ai/acse-jaq15/ACSE_9_CNN_LSTM\" target=\"_blank\">https://wandb.ai/acse-jaq15/ACSE_9_CNN_LSTM</a><br/>\n",
              "                Sweep page: <a href=\"https://wandb.ai/acse-jaq15/ACSE_9_CNN_LSTM/sweeps/leuxhbp3\" target=\"_blank\">https://wandb.ai/acse-jaq15/ACSE_9_CNN_LSTM/sweeps/leuxhbp3</a><br/>\n",
              "Run page: <a href=\"https://wandb.ai/acse-jaq15/ACSE_9_CNN_LSTM/runs/mfrwf5yy\" target=\"_blank\">https://wandb.ai/acse-jaq15/ACSE_9_CNN_LSTM/runs/mfrwf5yy</a><br/>\n",
              "                Run data is saved locally in <code>/content/feeder_repo/wandb/run-20210721_154129-mfrwf5yy</code><br/><br/>\n",
              "            "
            ],
            "text/plain": [
              "<IPython.core.display.HTML object>"
            ]
          },
          "metadata": {
            "tags": []
          }
        },
        {
          "output_type": "stream",
          "text": [
            "Epoch 1/50\n",
            "32/32 [==============================] - 5s 61ms/step - loss: 0.0529 - mean_squared_error: 0.0529 - mean_absolute_error: 0.1460 - val_loss: 0.0190 - val_mean_squared_error: 0.0190 - val_mean_absolute_error: 0.1041\n",
            "Epoch 2/50\n",
            "32/32 [==============================] - 0s 10ms/step - loss: 0.0040 - mean_squared_error: 0.0040 - mean_absolute_error: 0.0489 - val_loss: 0.0113 - val_mean_squared_error: 0.0113 - val_mean_absolute_error: 0.0774\n",
            "Epoch 3/50\n",
            "32/32 [==============================] - 0s 11ms/step - loss: 0.0030 - mean_squared_error: 0.0030 - mean_absolute_error: 0.0426 - val_loss: 0.0080 - val_mean_squared_error: 0.0080 - val_mean_absolute_error: 0.0678\n",
            "Epoch 4/50\n",
            "32/32 [==============================] - 0s 10ms/step - loss: 0.0024 - mean_squared_error: 0.0024 - mean_absolute_error: 0.0388 - val_loss: 0.0075 - val_mean_squared_error: 0.0075 - val_mean_absolute_error: 0.0647\n",
            "Epoch 5/50\n",
            "32/32 [==============================] - 0s 9ms/step - loss: 0.0022 - mean_squared_error: 0.0022 - mean_absolute_error: 0.0366 - val_loss: 0.0073 - val_mean_squared_error: 0.0073 - val_mean_absolute_error: 0.0635\n",
            "Epoch 6/50\n",
            "32/32 [==============================] - 0s 10ms/step - loss: 0.0017 - mean_squared_error: 0.0017 - mean_absolute_error: 0.0325 - val_loss: 0.0068 - val_mean_squared_error: 0.0068 - val_mean_absolute_error: 0.0621\n",
            "Epoch 7/50\n",
            "32/32 [==============================] - 0s 9ms/step - loss: 0.0016 - mean_squared_error: 0.0016 - mean_absolute_error: 0.0316 - val_loss: 0.0070 - val_mean_squared_error: 0.0070 - val_mean_absolute_error: 0.0632\n",
            "Epoch 8/50\n",
            "32/32 [==============================] - 0s 9ms/step - loss: 0.0016 - mean_squared_error: 0.0016 - mean_absolute_error: 0.0307 - val_loss: 0.0065 - val_mean_squared_error: 0.0065 - val_mean_absolute_error: 0.0621\n",
            "Epoch 9/50\n",
            "32/32 [==============================] - 0s 10ms/step - loss: 0.0017 - mean_squared_error: 0.0017 - mean_absolute_error: 0.0317 - val_loss: 0.0074 - val_mean_squared_error: 0.0074 - val_mean_absolute_error: 0.0654\n",
            "Epoch 10/50\n",
            "32/32 [==============================] - 0s 9ms/step - loss: 0.0014 - mean_squared_error: 0.0014 - mean_absolute_error: 0.0294 - val_loss: 0.0059 - val_mean_squared_error: 0.0059 - val_mean_absolute_error: 0.0601\n",
            "Epoch 11/50\n",
            "32/32 [==============================] - 0s 10ms/step - loss: 0.0013 - mean_squared_error: 0.0013 - mean_absolute_error: 0.0284 - val_loss: 0.0057 - val_mean_squared_error: 0.0057 - val_mean_absolute_error: 0.0595\n",
            "Epoch 12/50\n",
            "32/32 [==============================] - 0s 9ms/step - loss: 0.0014 - mean_squared_error: 0.0014 - mean_absolute_error: 0.0293 - val_loss: 0.0061 - val_mean_squared_error: 0.0061 - val_mean_absolute_error: 0.0608\n",
            "Epoch 13/50\n",
            "32/32 [==============================] - 0s 10ms/step - loss: 0.0016 - mean_squared_error: 0.0016 - mean_absolute_error: 0.0311 - val_loss: 0.0059 - val_mean_squared_error: 0.0059 - val_mean_absolute_error: 0.0605\n",
            "Epoch 14/50\n",
            "32/32 [==============================] - 0s 9ms/step - loss: 0.0013 - mean_squared_error: 0.0013 - mean_absolute_error: 0.0284 - val_loss: 0.0065 - val_mean_squared_error: 0.0065 - val_mean_absolute_error: 0.0624\n",
            "Epoch 15/50\n",
            "32/32 [==============================] - 0s 9ms/step - loss: 0.0013 - mean_squared_error: 0.0013 - mean_absolute_error: 0.0280 - val_loss: 0.0054 - val_mean_squared_error: 0.0054 - val_mean_absolute_error: 0.0585\n",
            "Epoch 16/50\n",
            "32/32 [==============================] - 0s 10ms/step - loss: 0.0015 - mean_squared_error: 0.0015 - mean_absolute_error: 0.0303 - val_loss: 0.0051 - val_mean_squared_error: 0.0051 - val_mean_absolute_error: 0.0573\n",
            "Epoch 17/50\n",
            "32/32 [==============================] - 0s 9ms/step - loss: 0.0012 - mean_squared_error: 0.0012 - mean_absolute_error: 0.0271 - val_loss: 0.0051 - val_mean_squared_error: 0.0051 - val_mean_absolute_error: 0.0582\n",
            "Epoch 18/50\n",
            "32/32 [==============================] - 0s 10ms/step - loss: 0.0014 - mean_squared_error: 0.0014 - mean_absolute_error: 0.0295 - val_loss: 0.0058 - val_mean_squared_error: 0.0058 - val_mean_absolute_error: 0.0595\n",
            "Epoch 19/50\n",
            "32/32 [==============================] - 0s 11ms/step - loss: 0.0011 - mean_squared_error: 0.0011 - mean_absolute_error: 0.0259 - val_loss: 0.0055 - val_mean_squared_error: 0.0055 - val_mean_absolute_error: 0.0587\n",
            "Epoch 20/50\n",
            "32/32 [==============================] - 0s 9ms/step - loss: 0.0013 - mean_squared_error: 0.0013 - mean_absolute_error: 0.0277 - val_loss: 0.0051 - val_mean_squared_error: 0.0051 - val_mean_absolute_error: 0.0566\n",
            "Epoch 21/50\n",
            "32/32 [==============================] - 0s 9ms/step - loss: 0.0011 - mean_squared_error: 0.0011 - mean_absolute_error: 0.0263 - val_loss: 0.0048 - val_mean_squared_error: 0.0048 - val_mean_absolute_error: 0.0554\n",
            "Epoch 22/50\n",
            "32/32 [==============================] - 0s 9ms/step - loss: 0.0011 - mean_squared_error: 0.0011 - mean_absolute_error: 0.0252 - val_loss: 0.0061 - val_mean_squared_error: 0.0061 - val_mean_absolute_error: 0.0610\n",
            "Epoch 23/50\n",
            "32/32 [==============================] - 0s 9ms/step - loss: 0.0012 - mean_squared_error: 0.0012 - mean_absolute_error: 0.0258 - val_loss: 0.0049 - val_mean_squared_error: 0.0049 - val_mean_absolute_error: 0.0555\n",
            "Epoch 24/50\n",
            "32/32 [==============================] - 0s 10ms/step - loss: 0.0011 - mean_squared_error: 0.0011 - mean_absolute_error: 0.0255 - val_loss: 0.0053 - val_mean_squared_error: 0.0053 - val_mean_absolute_error: 0.0571\n",
            "Epoch 25/50\n",
            "32/32 [==============================] - 0s 9ms/step - loss: 0.0012 - mean_squared_error: 0.0012 - mean_absolute_error: 0.0274 - val_loss: 0.0053 - val_mean_squared_error: 0.0053 - val_mean_absolute_error: 0.0573\n",
            "Epoch 26/50\n",
            "32/32 [==============================] - 0s 10ms/step - loss: 9.6960e-04 - mean_squared_error: 9.6960e-04 - mean_absolute_error: 0.0242 - val_loss: 0.0043 - val_mean_squared_error: 0.0043 - val_mean_absolute_error: 0.0530\n",
            "Epoch 27/50\n",
            "32/32 [==============================] - 0s 9ms/step - loss: 0.0012 - mean_squared_error: 0.0012 - mean_absolute_error: 0.0273 - val_loss: 0.0044 - val_mean_squared_error: 0.0044 - val_mean_absolute_error: 0.0532\n",
            "Epoch 28/50\n",
            "32/32 [==============================] - 0s 9ms/step - loss: 0.0012 - mean_squared_error: 0.0012 - mean_absolute_error: 0.0267 - val_loss: 0.0047 - val_mean_squared_error: 0.0047 - val_mean_absolute_error: 0.0544\n",
            "Epoch 29/50\n",
            "32/32 [==============================] - 0s 9ms/step - loss: 9.5449e-04 - mean_squared_error: 9.5449e-04 - mean_absolute_error: 0.0239 - val_loss: 0.0042 - val_mean_squared_error: 0.0042 - val_mean_absolute_error: 0.0519\n",
            "Epoch 30/50\n",
            "32/32 [==============================] - 0s 9ms/step - loss: 0.0011 - mean_squared_error: 0.0011 - mean_absolute_error: 0.0253 - val_loss: 0.0046 - val_mean_squared_error: 0.0046 - val_mean_absolute_error: 0.0539\n",
            "Epoch 31/50\n",
            "32/32 [==============================] - 0s 9ms/step - loss: 0.0011 - mean_squared_error: 0.0011 - mean_absolute_error: 0.0256 - val_loss: 0.0044 - val_mean_squared_error: 0.0044 - val_mean_absolute_error: 0.0530\n",
            "Epoch 32/50\n",
            "32/32 [==============================] - 0s 9ms/step - loss: 9.4932e-04 - mean_squared_error: 9.4932e-04 - mean_absolute_error: 0.0239 - val_loss: 0.0048 - val_mean_squared_error: 0.0048 - val_mean_absolute_error: 0.0546\n",
            "Epoch 33/50\n",
            "32/32 [==============================] - 0s 8ms/step - loss: 0.0012 - mean_squared_error: 0.0012 - mean_absolute_error: 0.0262 - val_loss: 0.0046 - val_mean_squared_error: 0.0046 - val_mean_absolute_error: 0.0541\n",
            "Epoch 34/50\n",
            "32/32 [==============================] - 0s 8ms/step - loss: 8.7495e-04 - mean_squared_error: 8.7495e-04 - mean_absolute_error: 0.0225 - val_loss: 0.0039 - val_mean_squared_error: 0.0039 - val_mean_absolute_error: 0.0502\n",
            "Epoch 35/50\n",
            "32/32 [==============================] - 0s 9ms/step - loss: 9.1687e-04 - mean_squared_error: 9.1687e-04 - mean_absolute_error: 0.0239 - val_loss: 0.0059 - val_mean_squared_error: 0.0059 - val_mean_absolute_error: 0.0597\n",
            "Epoch 36/50\n",
            "32/32 [==============================] - 0s 9ms/step - loss: 0.0012 - mean_squared_error: 0.0012 - mean_absolute_error: 0.0268 - val_loss: 0.0050 - val_mean_squared_error: 0.0050 - val_mean_absolute_error: 0.0559\n",
            "Epoch 37/50\n",
            "32/32 [==============================] - 0s 10ms/step - loss: 9.8460e-04 - mean_squared_error: 9.8460e-04 - mean_absolute_error: 0.0246 - val_loss: 0.0039 - val_mean_squared_error: 0.0039 - val_mean_absolute_error: 0.0502\n",
            "Epoch 38/50\n",
            "32/32 [==============================] - 0s 9ms/step - loss: 9.3444e-04 - mean_squared_error: 9.3444e-04 - mean_absolute_error: 0.0239 - val_loss: 0.0043 - val_mean_squared_error: 0.0043 - val_mean_absolute_error: 0.0525\n",
            "Epoch 39/50\n",
            "32/32 [==============================] - 0s 10ms/step - loss: 0.0012 - mean_squared_error: 0.0012 - mean_absolute_error: 0.0259 - val_loss: 0.0038 - val_mean_squared_error: 0.0038 - val_mean_absolute_error: 0.0495\n",
            "Epoch 40/50\n",
            "32/32 [==============================] - 0s 9ms/step - loss: 0.0010 - mean_squared_error: 0.0010 - mean_absolute_error: 0.0243 - val_loss: 0.0040 - val_mean_squared_error: 0.0040 - val_mean_absolute_error: 0.0506\n",
            "Epoch 41/50\n",
            "32/32 [==============================] - 0s 9ms/step - loss: 9.9138e-04 - mean_squared_error: 9.9138e-04 - mean_absolute_error: 0.0238 - val_loss: 0.0040 - val_mean_squared_error: 0.0040 - val_mean_absolute_error: 0.0510\n",
            "Epoch 42/50\n",
            "32/32 [==============================] - 0s 8ms/step - loss: 0.0011 - mean_squared_error: 0.0011 - mean_absolute_error: 0.0251 - val_loss: 0.0038 - val_mean_squared_error: 0.0038 - val_mean_absolute_error: 0.0495\n",
            "Epoch 43/50\n",
            "32/32 [==============================] - 0s 9ms/step - loss: 0.0010 - mean_squared_error: 0.0010 - mean_absolute_error: 0.0252 - val_loss: 0.0037 - val_mean_squared_error: 0.0037 - val_mean_absolute_error: 0.0489\n",
            "Epoch 44/50\n",
            "32/32 [==============================] - 0s 10ms/step - loss: 0.0011 - mean_squared_error: 0.0011 - mean_absolute_error: 0.0251 - val_loss: 0.0044 - val_mean_squared_error: 0.0044 - val_mean_absolute_error: 0.0528\n",
            "Epoch 45/50\n",
            "32/32 [==============================] - 0s 9ms/step - loss: 9.4876e-04 - mean_squared_error: 9.4876e-04 - mean_absolute_error: 0.0240 - val_loss: 0.0047 - val_mean_squared_error: 0.0047 - val_mean_absolute_error: 0.0541\n",
            "Epoch 46/50\n",
            "32/32 [==============================] - 0s 10ms/step - loss: 9.1317e-04 - mean_squared_error: 9.1317e-04 - mean_absolute_error: 0.0237 - val_loss: 0.0037 - val_mean_squared_error: 0.0037 - val_mean_absolute_error: 0.0488\n",
            "Epoch 47/50\n",
            "32/32 [==============================] - 0s 9ms/step - loss: 0.0011 - mean_squared_error: 0.0011 - mean_absolute_error: 0.0260 - val_loss: 0.0036 - val_mean_squared_error: 0.0036 - val_mean_absolute_error: 0.0482\n",
            "Epoch 48/50\n",
            "32/32 [==============================] - 0s 9ms/step - loss: 0.0011 - mean_squared_error: 0.0011 - mean_absolute_error: 0.0254 - val_loss: 0.0054 - val_mean_squared_error: 0.0054 - val_mean_absolute_error: 0.0582\n",
            "Epoch 49/50\n",
            "32/32 [==============================] - 0s 8ms/step - loss: 0.0012 - mean_squared_error: 0.0012 - mean_absolute_error: 0.0264 - val_loss: 0.0035 - val_mean_squared_error: 0.0035 - val_mean_absolute_error: 0.0476\n",
            "Epoch 50/50\n",
            "32/32 [==============================] - 0s 9ms/step - loss: 0.0011 - mean_squared_error: 0.0011 - mean_absolute_error: 0.0259 - val_loss: 0.0039 - val_mean_squared_error: 0.0039 - val_mean_absolute_error: 0.0500\n"
          ],
          "name": "stdout"
        },
        {
          "output_type": "display_data",
          "data": {
            "text/html": [
              "<br/>Waiting for W&B process to finish, PID 5916<br/>Program ended successfully."
            ],
            "text/plain": [
              "<IPython.core.display.HTML object>"
            ]
          },
          "metadata": {
            "tags": []
          }
        },
        {
          "output_type": "display_data",
          "data": {
            "application/vnd.jupyter.widget-view+json": {
              "model_id": "3af62cd0ed064c51ada042cf0874cd05",
              "version_minor": 0,
              "version_major": 2
            },
            "text/plain": [
              "VBox(children=(Label(value=' 11.60MB of 11.60MB uploaded (0.00MB deduped)\\r'), FloatProgress(value=1.0, max=1.…"
            ]
          },
          "metadata": {
            "tags": []
          }
        },
        {
          "output_type": "display_data",
          "data": {
            "text/html": [
              "Find user logs for this run at: <code>/content/feeder_repo/wandb/run-20210721_154129-mfrwf5yy/logs/debug.log</code>"
            ],
            "text/plain": [
              "<IPython.core.display.HTML object>"
            ]
          },
          "metadata": {
            "tags": []
          }
        },
        {
          "output_type": "display_data",
          "data": {
            "text/html": [
              "Find internal logs for this run at: <code>/content/feeder_repo/wandb/run-20210721_154129-mfrwf5yy/logs/debug-internal.log</code>"
            ],
            "text/plain": [
              "<IPython.core.display.HTML object>"
            ]
          },
          "metadata": {
            "tags": []
          }
        },
        {
          "output_type": "display_data",
          "data": {
            "text/html": [
              "<h3>Run summary:</h3><br/><style>\n",
              "    table.wandb td:nth-child(1) { padding: 0 10px; text-align: right }\n",
              "    </style><table class=\"wandb\">\n",
              "<tr><td>epoch</td><td>49</td></tr><tr><td>loss</td><td>0.00102</td></tr><tr><td>mean_squared_error</td><td>0.00102</td></tr><tr><td>mean_absolute_error</td><td>0.02494</td></tr><tr><td>val_loss</td><td>0.00389</td></tr><tr><td>val_mean_squared_error</td><td>0.00389</td></tr><tr><td>val_mean_absolute_error</td><td>0.04998</td></tr><tr><td>_runtime</td><td>26</td></tr><tr><td>_timestamp</td><td>1626882115</td></tr><tr><td>_step</td><td>49</td></tr><tr><td>best_val_loss</td><td>0.00353</td></tr><tr><td>best_epoch</td><td>48</td></tr></table>"
            ],
            "text/plain": [
              "<IPython.core.display.HTML object>"
            ]
          },
          "metadata": {
            "tags": []
          }
        },
        {
          "output_type": "display_data",
          "data": {
            "text/html": [
              "<h3>Run history:</h3><br/><style>\n",
              "    table.wandb td:nth-child(1) { padding: 0 10px; text-align: right }\n",
              "    </style><table class=\"wandb\">\n",
              "<tr><td>epoch</td><td>▁▁▁▁▂▂▂▂▂▃▃▃▃▃▃▄▄▄▄▄▅▅▅▅▅▅▆▆▆▆▆▆▇▇▇▇▇███</td></tr><tr><td>loss</td><td>█▂▂▁▁▁▁▁▁▁▁▁▁▁▁▁▁▁▁▁▁▁▁▁▁▁▁▁▁▁▁▁▁▁▁▁▁▁▁▁</td></tr><tr><td>mean_squared_error</td><td>█▂▂▁▁▁▁▁▁▁▁▁▁▁▁▁▁▁▁▁▁▁▁▁▁▁▁▁▁▁▁▁▁▁▁▁▁▁▁▁</td></tr><tr><td>mean_absolute_error</td><td>█▃▃▂▂▂▂▂▂▂▂▁▁▂▁▁▁▁▁▁▁▁▁▁▁▁▁▁▁▁▁▁▁▁▁▁▁▁▁▁</td></tr><tr><td>val_loss</td><td>█▄▃▃▂▃▂▃▂▂▂▂▂▂▂▂▂▂▂▂▁▁▁▁▁▂▁▁▂▁▁▁▁▁▁▁▁▁▂▁</td></tr><tr><td>val_mean_squared_error</td><td>█▄▃▃▂▃▂▃▂▂▂▂▂▂▂▂▂▂▂▂▁▁▁▁▁▂▁▁▂▁▁▁▁▁▁▁▁▁▂▁</td></tr><tr><td>val_mean_absolute_error</td><td>█▅▃▃▃▃▃▃▂▃▃▃▂▂▂▂▂▃▂▂▂▂▂▁▂▂▂▁▂▁▂▁▁▁▁▂▁▁▂▁</td></tr><tr><td>_runtime</td><td>▁▁▁▂▂▂▂▂▃▃▃▃▃▃▃▄▄▄▄▄▅▅▅▅▆▆▆▆▆▆▆▆▇▇▇▇████</td></tr><tr><td>_timestamp</td><td>▁▁▁▂▂▂▂▂▃▃▃▃▃▃▃▄▄▄▄▄▅▅▅▅▆▆▆▆▆▆▆▆▇▇▇▇████</td></tr><tr><td>_step</td><td>▁▁▁▁▂▂▂▂▂▃▃▃▃▃▃▄▄▄▄▄▅▅▅▅▅▅▆▆▆▆▆▆▇▇▇▇▇███</td></tr></table><br/>"
            ],
            "text/plain": [
              "<IPython.core.display.HTML object>"
            ]
          },
          "metadata": {
            "tags": []
          }
        },
        {
          "output_type": "display_data",
          "data": {
            "text/html": [
              "Synced 5 W&B file(s), 1 media file(s), 2 artifact file(s) and 2 other file(s)"
            ],
            "text/plain": [
              "<IPython.core.display.HTML object>"
            ]
          },
          "metadata": {
            "tags": []
          }
        },
        {
          "output_type": "display_data",
          "data": {
            "text/html": [
              "\n",
              "                    <br/>Synced <strong style=\"color:#cdcd00\">stellar-sweep-24</strong>: <a href=\"https://wandb.ai/acse-jaq15/ACSE_9_CNN_LSTM/runs/mfrwf5yy\" target=\"_blank\">https://wandb.ai/acse-jaq15/ACSE_9_CNN_LSTM/runs/mfrwf5yy</a><br/>\n",
              "                "
            ],
            "text/plain": [
              "<IPython.core.display.HTML object>"
            ]
          },
          "metadata": {
            "tags": []
          }
        },
        {
          "output_type": "stream",
          "text": [
            "\u001b[34m\u001b[1mwandb\u001b[0m: Agent Starting Run: olmbn2p7 with config:\n",
            "\u001b[34m\u001b[1mwandb\u001b[0m: \tactivation: selu\n",
            "\u001b[34m\u001b[1mwandb\u001b[0m: \tbatch_size: 128\n",
            "\u001b[34m\u001b[1mwandb\u001b[0m: \tepochs: 200\n",
            "\u001b[34m\u001b[1mwandb\u001b[0m: \tlearning_rate: 0.0005\n",
            "\u001b[34m\u001b[1mwandb\u001b[0m: \toptimizer: sgd\n"
          ],
          "name": "stderr"
        },
        {
          "output_type": "display_data",
          "data": {
            "text/html": [
              "\n",
              "                Tracking run with wandb version 0.11.0<br/>\n",
              "                Syncing run <strong style=\"color:#cdcd00\">frosty-sweep-25</strong> to <a href=\"https://wandb.ai\" target=\"_blank\">Weights & Biases</a> <a href=\"https://docs.wandb.com/integrations/jupyter.html\" target=\"_blank\">(Documentation)</a>.<br/>\n",
              "                Project page: <a href=\"https://wandb.ai/acse-jaq15/ACSE_9_CNN_LSTM\" target=\"_blank\">https://wandb.ai/acse-jaq15/ACSE_9_CNN_LSTM</a><br/>\n",
              "                Sweep page: <a href=\"https://wandb.ai/acse-jaq15/ACSE_9_CNN_LSTM/sweeps/leuxhbp3\" target=\"_blank\">https://wandb.ai/acse-jaq15/ACSE_9_CNN_LSTM/sweeps/leuxhbp3</a><br/>\n",
              "Run page: <a href=\"https://wandb.ai/acse-jaq15/ACSE_9_CNN_LSTM/runs/olmbn2p7\" target=\"_blank\">https://wandb.ai/acse-jaq15/ACSE_9_CNN_LSTM/runs/olmbn2p7</a><br/>\n",
              "                Run data is saved locally in <code>/content/feeder_repo/wandb/run-20210721_154203-olmbn2p7</code><br/><br/>\n",
              "            "
            ],
            "text/plain": [
              "<IPython.core.display.HTML object>"
            ]
          },
          "metadata": {
            "tags": []
          }
        },
        {
          "output_type": "stream",
          "text": [
            "Epoch 1/200\n",
            "8/8 [==============================] - 4s 165ms/step - loss: 0.1724 - mean_squared_error: 0.1724 - mean_absolute_error: 0.3209 - val_loss: 0.1930 - val_mean_squared_error: 0.1930 - val_mean_absolute_error: 0.3601\n",
            "Epoch 2/200\n",
            "8/8 [==============================] - 0s 10ms/step - loss: 0.1424 - mean_squared_error: 0.1424 - mean_absolute_error: 0.2899 - val_loss: 0.1524 - val_mean_squared_error: 0.1524 - val_mean_absolute_error: 0.3097\n",
            "Epoch 3/200\n",
            "8/8 [==============================] - 0s 13ms/step - loss: 0.1155 - mean_squared_error: 0.1155 - mean_absolute_error: 0.2495 - val_loss: 0.1144 - val_mean_squared_error: 0.1144 - val_mean_absolute_error: 0.2577\n",
            "Epoch 4/200\n",
            "8/8 [==============================] - 0s 10ms/step - loss: 0.0907 - mean_squared_error: 0.0907 - mean_absolute_error: 0.2136 - val_loss: 0.0846 - val_mean_squared_error: 0.0846 - val_mean_absolute_error: 0.2146\n",
            "Epoch 5/200\n",
            "8/8 [==============================] - 0s 13ms/step - loss: 0.0656 - mean_squared_error: 0.0656 - mean_absolute_error: 0.1729 - val_loss: 0.0636 - val_mean_squared_error: 0.0636 - val_mean_absolute_error: 0.1831\n",
            "Epoch 6/200\n",
            "8/8 [==============================] - 0s 14ms/step - loss: 0.0499 - mean_squared_error: 0.0499 - mean_absolute_error: 0.1482 - val_loss: 0.0492 - val_mean_squared_error: 0.0492 - val_mean_absolute_error: 0.1602\n",
            "Epoch 7/200\n",
            "8/8 [==============================] - 0s 10ms/step - loss: 0.0372 - mean_squared_error: 0.0372 - mean_absolute_error: 0.1289 - val_loss: 0.0397 - val_mean_squared_error: 0.0397 - val_mean_absolute_error: 0.1451\n",
            "Epoch 8/200\n",
            "8/8 [==============================] - 0s 12ms/step - loss: 0.0319 - mean_squared_error: 0.0319 - mean_absolute_error: 0.1223 - val_loss: 0.0334 - val_mean_squared_error: 0.0334 - val_mean_absolute_error: 0.1358\n",
            "Epoch 9/200\n",
            "8/8 [==============================] - 0s 12ms/step - loss: 0.0279 - mean_squared_error: 0.0279 - mean_absolute_error: 0.1198 - val_loss: 0.0292 - val_mean_squared_error: 0.0292 - val_mean_absolute_error: 0.1304\n",
            "Epoch 10/200\n",
            "8/8 [==============================] - 0s 10ms/step - loss: 0.0237 - mean_squared_error: 0.0237 - mean_absolute_error: 0.1136 - val_loss: 0.0266 - val_mean_squared_error: 0.0266 - val_mean_absolute_error: 0.1270\n",
            "Epoch 11/200\n",
            "8/8 [==============================] - 0s 12ms/step - loss: 0.0209 - mean_squared_error: 0.0209 - mean_absolute_error: 0.1102 - val_loss: 0.0248 - val_mean_squared_error: 0.0248 - val_mean_absolute_error: 0.1252\n",
            "Epoch 12/200\n",
            "8/8 [==============================] - 0s 12ms/step - loss: 0.0196 - mean_squared_error: 0.0196 - mean_absolute_error: 0.1099 - val_loss: 0.0235 - val_mean_squared_error: 0.0235 - val_mean_absolute_error: 0.1240\n",
            "Epoch 13/200\n",
            "8/8 [==============================] - 0s 12ms/step - loss: 0.0187 - mean_squared_error: 0.0187 - mean_absolute_error: 0.1083 - val_loss: 0.0226 - val_mean_squared_error: 0.0226 - val_mean_absolute_error: 0.1234\n",
            "Epoch 14/200\n",
            "8/8 [==============================] - 0s 10ms/step - loss: 0.0168 - mean_squared_error: 0.0168 - mean_absolute_error: 0.1038 - val_loss: 0.0219 - val_mean_squared_error: 0.0219 - val_mean_absolute_error: 0.1226\n",
            "Epoch 15/200\n",
            "8/8 [==============================] - 0s 11ms/step - loss: 0.0172 - mean_squared_error: 0.0172 - mean_absolute_error: 0.1055 - val_loss: 0.0213 - val_mean_squared_error: 0.0213 - val_mean_absolute_error: 0.1219\n",
            "Epoch 16/200\n",
            "8/8 [==============================] - 0s 12ms/step - loss: 0.0159 - mean_squared_error: 0.0159 - mean_absolute_error: 0.1024 - val_loss: 0.0208 - val_mean_squared_error: 0.0208 - val_mean_absolute_error: 0.1210\n",
            "Epoch 17/200\n",
            "8/8 [==============================] - 0s 12ms/step - loss: 0.0157 - mean_squared_error: 0.0157 - mean_absolute_error: 0.1022 - val_loss: 0.0203 - val_mean_squared_error: 0.0203 - val_mean_absolute_error: 0.1201\n",
            "Epoch 18/200\n",
            "8/8 [==============================] - 0s 11ms/step - loss: 0.0153 - mean_squared_error: 0.0153 - mean_absolute_error: 0.1006 - val_loss: 0.0198 - val_mean_squared_error: 0.0198 - val_mean_absolute_error: 0.1190\n",
            "Epoch 19/200\n",
            "8/8 [==============================] - 0s 10ms/step - loss: 0.0157 - mean_squared_error: 0.0157 - mean_absolute_error: 0.1033 - val_loss: 0.0194 - val_mean_squared_error: 0.0194 - val_mean_absolute_error: 0.1180\n",
            "Epoch 20/200\n",
            "8/8 [==============================] - 0s 13ms/step - loss: 0.0142 - mean_squared_error: 0.0142 - mean_absolute_error: 0.0973 - val_loss: 0.0190 - val_mean_squared_error: 0.0190 - val_mean_absolute_error: 0.1169\n",
            "Epoch 21/200\n",
            "8/8 [==============================] - 0s 11ms/step - loss: 0.0142 - mean_squared_error: 0.0142 - mean_absolute_error: 0.0972 - val_loss: 0.0186 - val_mean_squared_error: 0.0186 - val_mean_absolute_error: 0.1158\n",
            "Epoch 22/200\n",
            "8/8 [==============================] - 0s 12ms/step - loss: 0.0131 - mean_squared_error: 0.0131 - mean_absolute_error: 0.0927 - val_loss: 0.0183 - val_mean_squared_error: 0.0183 - val_mean_absolute_error: 0.1147\n",
            "Epoch 23/200\n",
            "8/8 [==============================] - 0s 11ms/step - loss: 0.0132 - mean_squared_error: 0.0132 - mean_absolute_error: 0.0942 - val_loss: 0.0179 - val_mean_squared_error: 0.0179 - val_mean_absolute_error: 0.1136\n",
            "Epoch 24/200\n",
            "8/8 [==============================] - 0s 11ms/step - loss: 0.0121 - mean_squared_error: 0.0121 - mean_absolute_error: 0.0896 - val_loss: 0.0176 - val_mean_squared_error: 0.0176 - val_mean_absolute_error: 0.1125\n",
            "Epoch 25/200\n",
            "8/8 [==============================] - 0s 13ms/step - loss: 0.0120 - mean_squared_error: 0.0120 - mean_absolute_error: 0.0891 - val_loss: 0.0173 - val_mean_squared_error: 0.0173 - val_mean_absolute_error: 0.1115\n",
            "Epoch 26/200\n",
            "8/8 [==============================] - 0s 10ms/step - loss: 0.0114 - mean_squared_error: 0.0114 - mean_absolute_error: 0.0860 - val_loss: 0.0170 - val_mean_squared_error: 0.0170 - val_mean_absolute_error: 0.1104\n",
            "Epoch 27/200\n",
            "8/8 [==============================] - 0s 12ms/step - loss: 0.0111 - mean_squared_error: 0.0111 - mean_absolute_error: 0.0849 - val_loss: 0.0167 - val_mean_squared_error: 0.0167 - val_mean_absolute_error: 0.1094\n",
            "Epoch 28/200\n",
            "8/8 [==============================] - 0s 13ms/step - loss: 0.0104 - mean_squared_error: 0.0104 - mean_absolute_error: 0.0827 - val_loss: 0.0164 - val_mean_squared_error: 0.0164 - val_mean_absolute_error: 0.1084\n",
            "Epoch 29/200\n",
            "8/8 [==============================] - 0s 11ms/step - loss: 0.0101 - mean_squared_error: 0.0101 - mean_absolute_error: 0.0811 - val_loss: 0.0161 - val_mean_squared_error: 0.0161 - val_mean_absolute_error: 0.1074\n",
            "Epoch 30/200\n",
            "8/8 [==============================] - 0s 12ms/step - loss: 0.0096 - mean_squared_error: 0.0096 - mean_absolute_error: 0.0796 - val_loss: 0.0159 - val_mean_squared_error: 0.0159 - val_mean_absolute_error: 0.1064\n",
            "Epoch 31/200\n",
            "8/8 [==============================] - 0s 10ms/step - loss: 0.0098 - mean_squared_error: 0.0098 - mean_absolute_error: 0.0798 - val_loss: 0.0157 - val_mean_squared_error: 0.0157 - val_mean_absolute_error: 0.1055\n",
            "Epoch 32/200\n",
            "8/8 [==============================] - 0s 10ms/step - loss: 0.0097 - mean_squared_error: 0.0097 - mean_absolute_error: 0.0799 - val_loss: 0.0154 - val_mean_squared_error: 0.0154 - val_mean_absolute_error: 0.1046\n",
            "Epoch 33/200\n",
            "8/8 [==============================] - 0s 10ms/step - loss: 0.0087 - mean_squared_error: 0.0087 - mean_absolute_error: 0.0741 - val_loss: 0.0152 - val_mean_squared_error: 0.0152 - val_mean_absolute_error: 0.1037\n",
            "Epoch 34/200\n",
            "8/8 [==============================] - 0s 12ms/step - loss: 0.0095 - mean_squared_error: 0.0095 - mean_absolute_error: 0.0775 - val_loss: 0.0150 - val_mean_squared_error: 0.0150 - val_mean_absolute_error: 0.1029\n",
            "Epoch 35/200\n",
            "8/8 [==============================] - 0s 16ms/step - loss: 0.0086 - mean_squared_error: 0.0086 - mean_absolute_error: 0.0741 - val_loss: 0.0148 - val_mean_squared_error: 0.0148 - val_mean_absolute_error: 0.1020\n",
            "Epoch 36/200\n",
            "8/8 [==============================] - 0s 13ms/step - loss: 0.0084 - mean_squared_error: 0.0084 - mean_absolute_error: 0.0730 - val_loss: 0.0146 - val_mean_squared_error: 0.0146 - val_mean_absolute_error: 0.1012\n",
            "Epoch 37/200\n",
            "8/8 [==============================] - 0s 10ms/step - loss: 0.0076 - mean_squared_error: 0.0076 - mean_absolute_error: 0.0695 - val_loss: 0.0144 - val_mean_squared_error: 0.0144 - val_mean_absolute_error: 0.1005\n",
            "Epoch 38/200\n",
            "8/8 [==============================] - 0s 12ms/step - loss: 0.0075 - mean_squared_error: 0.0075 - mean_absolute_error: 0.0685 - val_loss: 0.0143 - val_mean_squared_error: 0.0143 - val_mean_absolute_error: 0.0998\n",
            "Epoch 39/200\n",
            "8/8 [==============================] - 0s 11ms/step - loss: 0.0076 - mean_squared_error: 0.0076 - mean_absolute_error: 0.0686 - val_loss: 0.0141 - val_mean_squared_error: 0.0141 - val_mean_absolute_error: 0.0991\n",
            "Epoch 40/200\n",
            "8/8 [==============================] - 0s 12ms/step - loss: 0.0076 - mean_squared_error: 0.0076 - mean_absolute_error: 0.0692 - val_loss: 0.0139 - val_mean_squared_error: 0.0139 - val_mean_absolute_error: 0.0984\n",
            "Epoch 41/200\n",
            "8/8 [==============================] - 0s 13ms/step - loss: 0.0069 - mean_squared_error: 0.0069 - mean_absolute_error: 0.0664 - val_loss: 0.0138 - val_mean_squared_error: 0.0138 - val_mean_absolute_error: 0.0977\n",
            "Epoch 42/200\n",
            "8/8 [==============================] - 0s 12ms/step - loss: 0.0072 - mean_squared_error: 0.0072 - mean_absolute_error: 0.0672 - val_loss: 0.0136 - val_mean_squared_error: 0.0136 - val_mean_absolute_error: 0.0970\n",
            "Epoch 43/200\n",
            "8/8 [==============================] - 0s 13ms/step - loss: 0.0064 - mean_squared_error: 0.0064 - mean_absolute_error: 0.0632 - val_loss: 0.0135 - val_mean_squared_error: 0.0135 - val_mean_absolute_error: 0.0963\n",
            "Epoch 44/200\n",
            "8/8 [==============================] - 0s 14ms/step - loss: 0.0065 - mean_squared_error: 0.0065 - mean_absolute_error: 0.0632 - val_loss: 0.0134 - val_mean_squared_error: 0.0134 - val_mean_absolute_error: 0.0957\n",
            "Epoch 45/200\n",
            "8/8 [==============================] - 0s 12ms/step - loss: 0.0065 - mean_squared_error: 0.0065 - mean_absolute_error: 0.0631 - val_loss: 0.0133 - val_mean_squared_error: 0.0133 - val_mean_absolute_error: 0.0951\n",
            "Epoch 46/200\n",
            "8/8 [==============================] - 0s 12ms/step - loss: 0.0064 - mean_squared_error: 0.0064 - mean_absolute_error: 0.0618 - val_loss: 0.0132 - val_mean_squared_error: 0.0132 - val_mean_absolute_error: 0.0946\n",
            "Epoch 47/200\n",
            "8/8 [==============================] - 0s 13ms/step - loss: 0.0061 - mean_squared_error: 0.0061 - mean_absolute_error: 0.0614 - val_loss: 0.0130 - val_mean_squared_error: 0.0130 - val_mean_absolute_error: 0.0940\n",
            "Epoch 48/200\n",
            "8/8 [==============================] - 0s 13ms/step - loss: 0.0057 - mean_squared_error: 0.0057 - mean_absolute_error: 0.0586 - val_loss: 0.0130 - val_mean_squared_error: 0.0130 - val_mean_absolute_error: 0.0935\n",
            "Epoch 49/200\n",
            "8/8 [==============================] - 0s 13ms/step - loss: 0.0061 - mean_squared_error: 0.0061 - mean_absolute_error: 0.0617 - val_loss: 0.0129 - val_mean_squared_error: 0.0129 - val_mean_absolute_error: 0.0930\n",
            "Epoch 50/200\n",
            "8/8 [==============================] - 0s 12ms/step - loss: 0.0055 - mean_squared_error: 0.0055 - mean_absolute_error: 0.0580 - val_loss: 0.0128 - val_mean_squared_error: 0.0128 - val_mean_absolute_error: 0.0925\n",
            "Epoch 51/200\n",
            "8/8 [==============================] - 0s 13ms/step - loss: 0.0058 - mean_squared_error: 0.0058 - mean_absolute_error: 0.0593 - val_loss: 0.0127 - val_mean_squared_error: 0.0127 - val_mean_absolute_error: 0.0920\n",
            "Epoch 52/200\n",
            "8/8 [==============================] - 0s 12ms/step - loss: 0.0059 - mean_squared_error: 0.0059 - mean_absolute_error: 0.0602 - val_loss: 0.0126 - val_mean_squared_error: 0.0126 - val_mean_absolute_error: 0.0915\n",
            "Epoch 53/200\n",
            "8/8 [==============================] - 0s 12ms/step - loss: 0.0051 - mean_squared_error: 0.0051 - mean_absolute_error: 0.0554 - val_loss: 0.0125 - val_mean_squared_error: 0.0125 - val_mean_absolute_error: 0.0911\n",
            "Epoch 54/200\n",
            "8/8 [==============================] - 0s 13ms/step - loss: 0.0052 - mean_squared_error: 0.0052 - mean_absolute_error: 0.0559 - val_loss: 0.0125 - val_mean_squared_error: 0.0125 - val_mean_absolute_error: 0.0907\n",
            "Epoch 55/200\n",
            "8/8 [==============================] - 0s 13ms/step - loss: 0.0056 - mean_squared_error: 0.0056 - mean_absolute_error: 0.0575 - val_loss: 0.0124 - val_mean_squared_error: 0.0124 - val_mean_absolute_error: 0.0902\n",
            "Epoch 56/200\n",
            "8/8 [==============================] - 0s 9ms/step - loss: 0.0050 - mean_squared_error: 0.0050 - mean_absolute_error: 0.0546 - val_loss: 0.0124 - val_mean_squared_error: 0.0124 - val_mean_absolute_error: 0.0899\n",
            "Epoch 57/200\n",
            "8/8 [==============================] - 0s 13ms/step - loss: 0.0052 - mean_squared_error: 0.0052 - mean_absolute_error: 0.0561 - val_loss: 0.0123 - val_mean_squared_error: 0.0123 - val_mean_absolute_error: 0.0895\n",
            "Epoch 58/200\n",
            "8/8 [==============================] - 0s 13ms/step - loss: 0.0048 - mean_squared_error: 0.0048 - mean_absolute_error: 0.0531 - val_loss: 0.0122 - val_mean_squared_error: 0.0122 - val_mean_absolute_error: 0.0890\n",
            "Epoch 59/200\n",
            "8/8 [==============================] - 0s 12ms/step - loss: 0.0049 - mean_squared_error: 0.0049 - mean_absolute_error: 0.0538 - val_loss: 0.0122 - val_mean_squared_error: 0.0122 - val_mean_absolute_error: 0.0886\n",
            "Epoch 60/200\n",
            "8/8 [==============================] - 0s 13ms/step - loss: 0.0050 - mean_squared_error: 0.0050 - mean_absolute_error: 0.0542 - val_loss: 0.0121 - val_mean_squared_error: 0.0121 - val_mean_absolute_error: 0.0883\n",
            "Epoch 61/200\n",
            "8/8 [==============================] - 0s 11ms/step - loss: 0.0048 - mean_squared_error: 0.0048 - mean_absolute_error: 0.0534 - val_loss: 0.0121 - val_mean_squared_error: 0.0121 - val_mean_absolute_error: 0.0880\n",
            "Epoch 62/200\n",
            "8/8 [==============================] - 0s 13ms/step - loss: 0.0048 - mean_squared_error: 0.0048 - mean_absolute_error: 0.0533 - val_loss: 0.0120 - val_mean_squared_error: 0.0120 - val_mean_absolute_error: 0.0876\n",
            "Epoch 63/200\n",
            "8/8 [==============================] - 0s 13ms/step - loss: 0.0048 - mean_squared_error: 0.0048 - mean_absolute_error: 0.0537 - val_loss: 0.0120 - val_mean_squared_error: 0.0120 - val_mean_absolute_error: 0.0873\n",
            "Epoch 64/200\n",
            "8/8 [==============================] - 0s 10ms/step - loss: 0.0045 - mean_squared_error: 0.0045 - mean_absolute_error: 0.0520 - val_loss: 0.0120 - val_mean_squared_error: 0.0120 - val_mean_absolute_error: 0.0870\n",
            "Epoch 65/200\n",
            "8/8 [==============================] - 0s 13ms/step - loss: 0.0043 - mean_squared_error: 0.0043 - mean_absolute_error: 0.0506 - val_loss: 0.0119 - val_mean_squared_error: 0.0119 - val_mean_absolute_error: 0.0867\n",
            "Epoch 66/200\n",
            "8/8 [==============================] - 0s 13ms/step - loss: 0.0046 - mean_squared_error: 0.0046 - mean_absolute_error: 0.0525 - val_loss: 0.0119 - val_mean_squared_error: 0.0119 - val_mean_absolute_error: 0.0863\n",
            "Epoch 67/200\n",
            "8/8 [==============================] - 0s 11ms/step - loss: 0.0043 - mean_squared_error: 0.0043 - mean_absolute_error: 0.0509 - val_loss: 0.0118 - val_mean_squared_error: 0.0118 - val_mean_absolute_error: 0.0860\n",
            "Epoch 68/200\n",
            "8/8 [==============================] - 0s 14ms/step - loss: 0.0046 - mean_squared_error: 0.0046 - mean_absolute_error: 0.0521 - val_loss: 0.0118 - val_mean_squared_error: 0.0118 - val_mean_absolute_error: 0.0858\n",
            "Epoch 69/200\n",
            "8/8 [==============================] - 0s 13ms/step - loss: 0.0042 - mean_squared_error: 0.0042 - mean_absolute_error: 0.0497 - val_loss: 0.0118 - val_mean_squared_error: 0.0118 - val_mean_absolute_error: 0.0855\n",
            "Epoch 70/200\n",
            "8/8 [==============================] - 0s 13ms/step - loss: 0.0042 - mean_squared_error: 0.0042 - mean_absolute_error: 0.0508 - val_loss: 0.0117 - val_mean_squared_error: 0.0117 - val_mean_absolute_error: 0.0852\n",
            "Epoch 71/200\n",
            "8/8 [==============================] - 0s 11ms/step - loss: 0.0042 - mean_squared_error: 0.0042 - mean_absolute_error: 0.0499 - val_loss: 0.0117 - val_mean_squared_error: 0.0117 - val_mean_absolute_error: 0.0850\n",
            "Epoch 72/200\n",
            "8/8 [==============================] - 0s 12ms/step - loss: 0.0036 - mean_squared_error: 0.0036 - mean_absolute_error: 0.0474 - val_loss: 0.0117 - val_mean_squared_error: 0.0117 - val_mean_absolute_error: 0.0847\n",
            "Epoch 73/200\n",
            "8/8 [==============================] - 0s 13ms/step - loss: 0.0041 - mean_squared_error: 0.0041 - mean_absolute_error: 0.0494 - val_loss: 0.0117 - val_mean_squared_error: 0.0117 - val_mean_absolute_error: 0.0845\n",
            "Epoch 74/200\n",
            "8/8 [==============================] - 0s 12ms/step - loss: 0.0036 - mean_squared_error: 0.0036 - mean_absolute_error: 0.0473 - val_loss: 0.0116 - val_mean_squared_error: 0.0116 - val_mean_absolute_error: 0.0843\n",
            "Epoch 75/200\n",
            "8/8 [==============================] - 0s 12ms/step - loss: 0.0040 - mean_squared_error: 0.0040 - mean_absolute_error: 0.0493 - val_loss: 0.0116 - val_mean_squared_error: 0.0116 - val_mean_absolute_error: 0.0840\n",
            "Epoch 76/200\n",
            "8/8 [==============================] - 0s 10ms/step - loss: 0.0036 - mean_squared_error: 0.0036 - mean_absolute_error: 0.0467 - val_loss: 0.0116 - val_mean_squared_error: 0.0116 - val_mean_absolute_error: 0.0838\n",
            "Epoch 77/200\n",
            "8/8 [==============================] - 0s 10ms/step - loss: 0.0037 - mean_squared_error: 0.0037 - mean_absolute_error: 0.0480 - val_loss: 0.0115 - val_mean_squared_error: 0.0115 - val_mean_absolute_error: 0.0836\n",
            "Epoch 78/200\n",
            "8/8 [==============================] - 0s 12ms/step - loss: 0.0037 - mean_squared_error: 0.0037 - mean_absolute_error: 0.0475 - val_loss: 0.0115 - val_mean_squared_error: 0.0115 - val_mean_absolute_error: 0.0834\n",
            "Epoch 79/200\n",
            "8/8 [==============================] - 0s 12ms/step - loss: 0.0037 - mean_squared_error: 0.0037 - mean_absolute_error: 0.0468 - val_loss: 0.0115 - val_mean_squared_error: 0.0115 - val_mean_absolute_error: 0.0833\n",
            "Epoch 80/200\n",
            "8/8 [==============================] - 0s 14ms/step - loss: 0.0039 - mean_squared_error: 0.0039 - mean_absolute_error: 0.0484 - val_loss: 0.0115 - val_mean_squared_error: 0.0115 - val_mean_absolute_error: 0.0831\n",
            "Epoch 81/200\n",
            "8/8 [==============================] - 0s 14ms/step - loss: 0.0037 - mean_squared_error: 0.0037 - mean_absolute_error: 0.0470 - val_loss: 0.0115 - val_mean_squared_error: 0.0115 - val_mean_absolute_error: 0.0830\n",
            "Epoch 82/200\n",
            "8/8 [==============================] - 0s 13ms/step - loss: 0.0038 - mean_squared_error: 0.0038 - mean_absolute_error: 0.0478 - val_loss: 0.0115 - val_mean_squared_error: 0.0115 - val_mean_absolute_error: 0.0828\n",
            "Epoch 83/200\n",
            "8/8 [==============================] - 0s 11ms/step - loss: 0.0035 - mean_squared_error: 0.0035 - mean_absolute_error: 0.0455 - val_loss: 0.0115 - val_mean_squared_error: 0.0115 - val_mean_absolute_error: 0.0827\n",
            "Epoch 84/200\n",
            "8/8 [==============================] - 0s 13ms/step - loss: 0.0036 - mean_squared_error: 0.0036 - mean_absolute_error: 0.0465 - val_loss: 0.0115 - val_mean_squared_error: 0.0115 - val_mean_absolute_error: 0.0826\n",
            "Epoch 85/200\n",
            "8/8 [==============================] - 0s 13ms/step - loss: 0.0036 - mean_squared_error: 0.0036 - mean_absolute_error: 0.0460 - val_loss: 0.0115 - val_mean_squared_error: 0.0115 - val_mean_absolute_error: 0.0824\n",
            "Epoch 86/200\n",
            "8/8 [==============================] - 0s 11ms/step - loss: 0.0034 - mean_squared_error: 0.0034 - mean_absolute_error: 0.0447 - val_loss: 0.0114 - val_mean_squared_error: 0.0114 - val_mean_absolute_error: 0.0823\n",
            "Epoch 87/200\n",
            "8/8 [==============================] - 0s 13ms/step - loss: 0.0037 - mean_squared_error: 0.0037 - mean_absolute_error: 0.0481 - val_loss: 0.0114 - val_mean_squared_error: 0.0114 - val_mean_absolute_error: 0.0821\n",
            "Epoch 88/200\n",
            "8/8 [==============================] - 0s 10ms/step - loss: 0.0037 - mean_squared_error: 0.0037 - mean_absolute_error: 0.0469 - val_loss: 0.0114 - val_mean_squared_error: 0.0114 - val_mean_absolute_error: 0.0820\n",
            "Epoch 89/200\n",
            "8/8 [==============================] - 0s 11ms/step - loss: 0.0036 - mean_squared_error: 0.0036 - mean_absolute_error: 0.0468 - val_loss: 0.0114 - val_mean_squared_error: 0.0114 - val_mean_absolute_error: 0.0820\n",
            "Epoch 90/200\n",
            "8/8 [==============================] - 0s 10ms/step - loss: 0.0033 - mean_squared_error: 0.0033 - mean_absolute_error: 0.0444 - val_loss: 0.0114 - val_mean_squared_error: 0.0114 - val_mean_absolute_error: 0.0819\n",
            "Epoch 91/200\n",
            "8/8 [==============================] - 0s 12ms/step - loss: 0.0034 - mean_squared_error: 0.0034 - mean_absolute_error: 0.0450 - val_loss: 0.0114 - val_mean_squared_error: 0.0114 - val_mean_absolute_error: 0.0817\n",
            "Epoch 92/200\n",
            "8/8 [==============================] - 0s 13ms/step - loss: 0.0035 - mean_squared_error: 0.0035 - mean_absolute_error: 0.0461 - val_loss: 0.0114 - val_mean_squared_error: 0.0114 - val_mean_absolute_error: 0.0817\n",
            "Epoch 93/200\n",
            "8/8 [==============================] - 0s 17ms/step - loss: 0.0039 - mean_squared_error: 0.0039 - mean_absolute_error: 0.0483 - val_loss: 0.0114 - val_mean_squared_error: 0.0114 - val_mean_absolute_error: 0.0816\n",
            "Epoch 94/200\n",
            "8/8 [==============================] - 0s 10ms/step - loss: 0.0036 - mean_squared_error: 0.0036 - mean_absolute_error: 0.0469 - val_loss: 0.0114 - val_mean_squared_error: 0.0114 - val_mean_absolute_error: 0.0815\n",
            "Epoch 95/200\n",
            "8/8 [==============================] - 0s 15ms/step - loss: 0.0033 - mean_squared_error: 0.0033 - mean_absolute_error: 0.0448 - val_loss: 0.0114 - val_mean_squared_error: 0.0114 - val_mean_absolute_error: 0.0814\n",
            "Epoch 96/200\n",
            "8/8 [==============================] - 0s 15ms/step - loss: 0.0036 - mean_squared_error: 0.0036 - mean_absolute_error: 0.0465 - val_loss: 0.0114 - val_mean_squared_error: 0.0114 - val_mean_absolute_error: 0.0813\n",
            "Epoch 97/200\n",
            "8/8 [==============================] - 0s 12ms/step - loss: 0.0034 - mean_squared_error: 0.0034 - mean_absolute_error: 0.0448 - val_loss: 0.0114 - val_mean_squared_error: 0.0114 - val_mean_absolute_error: 0.0812\n",
            "Epoch 98/200\n",
            "8/8 [==============================] - 0s 13ms/step - loss: 0.0032 - mean_squared_error: 0.0032 - mean_absolute_error: 0.0444 - val_loss: 0.0114 - val_mean_squared_error: 0.0114 - val_mean_absolute_error: 0.0811\n",
            "Epoch 99/200\n",
            "8/8 [==============================] - 0s 12ms/step - loss: 0.0039 - mean_squared_error: 0.0039 - mean_absolute_error: 0.0479 - val_loss: 0.0114 - val_mean_squared_error: 0.0114 - val_mean_absolute_error: 0.0810\n",
            "Epoch 100/200\n",
            "8/8 [==============================] - 0s 13ms/step - loss: 0.0033 - mean_squared_error: 0.0033 - mean_absolute_error: 0.0458 - val_loss: 0.0114 - val_mean_squared_error: 0.0114 - val_mean_absolute_error: 0.0809\n",
            "Epoch 101/200\n",
            "8/8 [==============================] - 0s 13ms/step - loss: 0.0035 - mean_squared_error: 0.0035 - mean_absolute_error: 0.0458 - val_loss: 0.0114 - val_mean_squared_error: 0.0114 - val_mean_absolute_error: 0.0808\n",
            "Epoch 102/200\n",
            "8/8 [==============================] - 0s 10ms/step - loss: 0.0033 - mean_squared_error: 0.0033 - mean_absolute_error: 0.0445 - val_loss: 0.0114 - val_mean_squared_error: 0.0114 - val_mean_absolute_error: 0.0807\n",
            "Epoch 103/200\n",
            "8/8 [==============================] - 0s 12ms/step - loss: 0.0033 - mean_squared_error: 0.0033 - mean_absolute_error: 0.0441 - val_loss: 0.0114 - val_mean_squared_error: 0.0114 - val_mean_absolute_error: 0.0807\n",
            "Epoch 104/200\n",
            "8/8 [==============================] - 0s 11ms/step - loss: 0.0032 - mean_squared_error: 0.0032 - mean_absolute_error: 0.0436 - val_loss: 0.0114 - val_mean_squared_error: 0.0114 - val_mean_absolute_error: 0.0806\n",
            "Epoch 105/200\n",
            "8/8 [==============================] - 0s 10ms/step - loss: 0.0034 - mean_squared_error: 0.0034 - mean_absolute_error: 0.0454 - val_loss: 0.0114 - val_mean_squared_error: 0.0114 - val_mean_absolute_error: 0.0806\n",
            "Epoch 106/200\n",
            "8/8 [==============================] - 0s 12ms/step - loss: 0.0033 - mean_squared_error: 0.0033 - mean_absolute_error: 0.0444 - val_loss: 0.0114 - val_mean_squared_error: 0.0114 - val_mean_absolute_error: 0.0805\n",
            "Epoch 107/200\n",
            "8/8 [==============================] - 0s 11ms/step - loss: 0.0033 - mean_squared_error: 0.0033 - mean_absolute_error: 0.0443 - val_loss: 0.0114 - val_mean_squared_error: 0.0114 - val_mean_absolute_error: 0.0804\n",
            "Epoch 108/200\n",
            "8/8 [==============================] - 0s 10ms/step - loss: 0.0033 - mean_squared_error: 0.0033 - mean_absolute_error: 0.0448 - val_loss: 0.0114 - val_mean_squared_error: 0.0114 - val_mean_absolute_error: 0.0804\n",
            "Epoch 109/200\n",
            "8/8 [==============================] - 0s 14ms/step - loss: 0.0035 - mean_squared_error: 0.0035 - mean_absolute_error: 0.0451 - val_loss: 0.0114 - val_mean_squared_error: 0.0114 - val_mean_absolute_error: 0.0803\n",
            "Epoch 110/200\n",
            "8/8 [==============================] - 0s 11ms/step - loss: 0.0033 - mean_squared_error: 0.0033 - mean_absolute_error: 0.0444 - val_loss: 0.0113 - val_mean_squared_error: 0.0113 - val_mean_absolute_error: 0.0802\n",
            "Epoch 111/200\n",
            "8/8 [==============================] - 0s 12ms/step - loss: 0.0034 - mean_squared_error: 0.0034 - mean_absolute_error: 0.0453 - val_loss: 0.0113 - val_mean_squared_error: 0.0113 - val_mean_absolute_error: 0.0802\n",
            "Epoch 112/200\n",
            "8/8 [==============================] - 0s 9ms/step - loss: 0.0033 - mean_squared_error: 0.0033 - mean_absolute_error: 0.0445 - val_loss: 0.0113 - val_mean_squared_error: 0.0113 - val_mean_absolute_error: 0.0801\n",
            "Epoch 113/200\n",
            "8/8 [==============================] - 0s 10ms/step - loss: 0.0033 - mean_squared_error: 0.0033 - mean_absolute_error: 0.0445 - val_loss: 0.0113 - val_mean_squared_error: 0.0113 - val_mean_absolute_error: 0.0800\n",
            "Epoch 114/200\n",
            "8/8 [==============================] - 0s 10ms/step - loss: 0.0032 - mean_squared_error: 0.0032 - mean_absolute_error: 0.0437 - val_loss: 0.0113 - val_mean_squared_error: 0.0113 - val_mean_absolute_error: 0.0800\n",
            "Epoch 115/200\n",
            "8/8 [==============================] - 0s 11ms/step - loss: 0.0035 - mean_squared_error: 0.0035 - mean_absolute_error: 0.0449 - val_loss: 0.0113 - val_mean_squared_error: 0.0113 - val_mean_absolute_error: 0.0799\n",
            "Epoch 116/200\n",
            "8/8 [==============================] - 0s 11ms/step - loss: 0.0030 - mean_squared_error: 0.0030 - mean_absolute_error: 0.0422 - val_loss: 0.0113 - val_mean_squared_error: 0.0113 - val_mean_absolute_error: 0.0799\n",
            "Epoch 117/200\n",
            "8/8 [==============================] - 0s 10ms/step - loss: 0.0034 - mean_squared_error: 0.0034 - mean_absolute_error: 0.0455 - val_loss: 0.0113 - val_mean_squared_error: 0.0113 - val_mean_absolute_error: 0.0798\n",
            "Epoch 118/200\n",
            "8/8 [==============================] - 0s 11ms/step - loss: 0.0035 - mean_squared_error: 0.0035 - mean_absolute_error: 0.0454 - val_loss: 0.0113 - val_mean_squared_error: 0.0113 - val_mean_absolute_error: 0.0797\n",
            "Epoch 119/200\n",
            "8/8 [==============================] - 0s 14ms/step - loss: 0.0031 - mean_squared_error: 0.0031 - mean_absolute_error: 0.0431 - val_loss: 0.0113 - val_mean_squared_error: 0.0113 - val_mean_absolute_error: 0.0797\n",
            "Epoch 120/200\n",
            "8/8 [==============================] - 0s 10ms/step - loss: 0.0033 - mean_squared_error: 0.0033 - mean_absolute_error: 0.0448 - val_loss: 0.0113 - val_mean_squared_error: 0.0113 - val_mean_absolute_error: 0.0796\n",
            "Epoch 121/200\n",
            "8/8 [==============================] - 0s 12ms/step - loss: 0.0033 - mean_squared_error: 0.0033 - mean_absolute_error: 0.0451 - val_loss: 0.0113 - val_mean_squared_error: 0.0113 - val_mean_absolute_error: 0.0796\n",
            "Epoch 122/200\n",
            "8/8 [==============================] - 0s 12ms/step - loss: 0.0034 - mean_squared_error: 0.0034 - mean_absolute_error: 0.0449 - val_loss: 0.0113 - val_mean_squared_error: 0.0113 - val_mean_absolute_error: 0.0796\n",
            "Epoch 123/200\n",
            "8/8 [==============================] - 0s 11ms/step - loss: 0.0035 - mean_squared_error: 0.0035 - mean_absolute_error: 0.0453 - val_loss: 0.0113 - val_mean_squared_error: 0.0113 - val_mean_absolute_error: 0.0795\n",
            "Epoch 124/200\n",
            "8/8 [==============================] - 0s 15ms/step - loss: 0.0032 - mean_squared_error: 0.0032 - mean_absolute_error: 0.0437 - val_loss: 0.0113 - val_mean_squared_error: 0.0113 - val_mean_absolute_error: 0.0795\n",
            "Epoch 125/200\n",
            "8/8 [==============================] - 0s 12ms/step - loss: 0.0033 - mean_squared_error: 0.0033 - mean_absolute_error: 0.0449 - val_loss: 0.0113 - val_mean_squared_error: 0.0113 - val_mean_absolute_error: 0.0794\n",
            "Epoch 126/200\n",
            "8/8 [==============================] - 0s 11ms/step - loss: 0.0035 - mean_squared_error: 0.0035 - mean_absolute_error: 0.0455 - val_loss: 0.0113 - val_mean_squared_error: 0.0113 - val_mean_absolute_error: 0.0794\n",
            "Epoch 127/200\n",
            "8/8 [==============================] - 0s 17ms/step - loss: 0.0033 - mean_squared_error: 0.0033 - mean_absolute_error: 0.0447 - val_loss: 0.0113 - val_mean_squared_error: 0.0113 - val_mean_absolute_error: 0.0794\n",
            "Epoch 128/200\n",
            "8/8 [==============================] - 0s 12ms/step - loss: 0.0034 - mean_squared_error: 0.0034 - mean_absolute_error: 0.0445 - val_loss: 0.0113 - val_mean_squared_error: 0.0113 - val_mean_absolute_error: 0.0793\n",
            "Epoch 129/200\n",
            "8/8 [==============================] - 0s 12ms/step - loss: 0.0034 - mean_squared_error: 0.0034 - mean_absolute_error: 0.0448 - val_loss: 0.0113 - val_mean_squared_error: 0.0113 - val_mean_absolute_error: 0.0793\n",
            "Epoch 130/200\n",
            "8/8 [==============================] - 0s 11ms/step - loss: 0.0031 - mean_squared_error: 0.0031 - mean_absolute_error: 0.0436 - val_loss: 0.0113 - val_mean_squared_error: 0.0113 - val_mean_absolute_error: 0.0792\n"
          ],
          "name": "stdout"
        },
        {
          "output_type": "stream",
          "text": [
            "\u001b[34m\u001b[1mwandb\u001b[0m: Processing terminal ouput (stdout)...\n",
            "\u001b[34m\u001b[1mwandb\u001b[0m: Done.\n"
          ],
          "name": "stderr"
        },
        {
          "output_type": "display_data",
          "data": {
            "text/html": [
              "<br/>Waiting for W&B process to finish, PID 6121<br/>Program ended successfully."
            ],
            "text/plain": [
              "<IPython.core.display.HTML object>"
            ]
          },
          "metadata": {
            "tags": []
          }
        },
        {
          "output_type": "display_data",
          "data": {
            "application/vnd.jupyter.widget-view+json": {
              "model_id": "dacc6d8c29564c30807e880250df1a14",
              "version_minor": 0,
              "version_major": 2
            },
            "text/plain": [
              "VBox(children=(Label(value=' 7.89MB of 7.89MB uploaded (0.00MB deduped)\\r'), FloatProgress(value=1.0, max=1.0)…"
            ]
          },
          "metadata": {
            "tags": []
          }
        },
        {
          "output_type": "display_data",
          "data": {
            "text/html": [
              "Find user logs for this run at: <code>/content/feeder_repo/wandb/run-20210721_154203-olmbn2p7/logs/debug.log</code>"
            ],
            "text/plain": [
              "<IPython.core.display.HTML object>"
            ]
          },
          "metadata": {
            "tags": []
          }
        },
        {
          "output_type": "display_data",
          "data": {
            "text/html": [
              "Find internal logs for this run at: <code>/content/feeder_repo/wandb/run-20210721_154203-olmbn2p7/logs/debug-internal.log</code>"
            ],
            "text/plain": [
              "<IPython.core.display.HTML object>"
            ]
          },
          "metadata": {
            "tags": []
          }
        },
        {
          "output_type": "display_data",
          "data": {
            "text/html": [
              "<h3>Run summary:</h3><br/><style>\n",
              "    table.wandb td:nth-child(1) { padding: 0 10px; text-align: right }\n",
              "    </style><table class=\"wandb\">\n",
              "<tr><td>epoch</td><td>129</td></tr><tr><td>loss</td><td>0.0033</td></tr><tr><td>mean_squared_error</td><td>0.0033</td></tr><tr><td>mean_absolute_error</td><td>0.04468</td></tr><tr><td>val_loss</td><td>0.0113</td></tr><tr><td>val_mean_squared_error</td><td>0.0113</td></tr><tr><td>val_mean_absolute_error</td><td>0.07925</td></tr><tr><td>_runtime</td><td>28</td></tr><tr><td>_timestamp</td><td>1626882151</td></tr><tr><td>_step</td><td>129</td></tr><tr><td>best_val_loss</td><td>0.01128</td></tr><tr><td>best_epoch</td><td>119</td></tr></table>"
            ],
            "text/plain": [
              "<IPython.core.display.HTML object>"
            ]
          },
          "metadata": {
            "tags": []
          }
        },
        {
          "output_type": "display_data",
          "data": {
            "text/html": [
              "<h3>Run history:</h3><br/><style>\n",
              "    table.wandb td:nth-child(1) { padding: 0 10px; text-align: right }\n",
              "    </style><table class=\"wandb\">\n",
              "<tr><td>epoch</td><td>▁▁▁▁▂▂▂▂▂▃▃▃▃▃▃▄▄▄▄▄▅▅▅▅▅▅▆▆▆▆▆▆▇▇▇▇▇███</td></tr><tr><td>loss</td><td>█▅▂▂▂▂▂▁▁▁▁▁▁▁▁▁▁▁▁▁▁▁▁▁▁▁▁▁▁▁▁▁▁▁▁▁▁▁▁▁</td></tr><tr><td>mean_squared_error</td><td>█▅▂▂▂▂▂▁▁▁▁▁▁▁▁▁▁▁▁▁▁▁▁▁▁▁▁▁▁▁▁▁▁▁▁▁▁▁▁▁</td></tr><tr><td>mean_absolute_error</td><td>█▆▃▃▃▃▃▂▂▂▂▂▂▂▂▁▁▁▁▁▁▁▁▁▁▁▁▁▁▁▁▁▁▁▁▁▁▁▁▁</td></tr><tr><td>val_loss</td><td>█▅▂▂▂▁▁▁▁▁▁▁▁▁▁▁▁▁▁▁▁▁▁▁▁▁▁▁▁▁▁▁▁▁▁▁▁▁▁▁</td></tr><tr><td>val_mean_squared_error</td><td>█▅▂▂▂▁▁▁▁▁▁▁▁▁▁▁▁▁▁▁▁▁▁▁▁▁▁▁▁▁▁▁▁▁▁▁▁▁▁▁</td></tr><tr><td>val_mean_absolute_error</td><td>█▅▃▂▂▂▂▂▂▂▂▂▂▂▁▁▁▁▁▁▁▁▁▁▁▁▁▁▁▁▁▁▁▁▁▁▁▁▁▁</td></tr><tr><td>_runtime</td><td>▁▁▁▂▂▂▂▂▂▃▃▃▃▃▃▄▄▄▅▅▅▅▅▆▆▆▆▆▆▇▇▇▇▇▇▇████</td></tr><tr><td>_timestamp</td><td>▁▁▁▂▂▂▂▂▂▃▃▃▃▃▃▄▄▄▅▅▅▅▅▆▆▆▆▆▆▇▇▇▇▇▇▇████</td></tr><tr><td>_step</td><td>▁▁▁▁▂▂▂▂▂▃▃▃▃▃▃▄▄▄▄▄▅▅▅▅▅▅▆▆▆▆▆▆▇▇▇▇▇███</td></tr></table><br/>"
            ],
            "text/plain": [
              "<IPython.core.display.HTML object>"
            ]
          },
          "metadata": {
            "tags": []
          }
        },
        {
          "output_type": "display_data",
          "data": {
            "text/html": [
              "Synced 5 W&B file(s), 1 media file(s), 2 artifact file(s) and 2 other file(s)"
            ],
            "text/plain": [
              "<IPython.core.display.HTML object>"
            ]
          },
          "metadata": {
            "tags": []
          }
        },
        {
          "output_type": "display_data",
          "data": {
            "text/html": [
              "\n",
              "                    <br/>Synced <strong style=\"color:#cdcd00\">frosty-sweep-25</strong>: <a href=\"https://wandb.ai/acse-jaq15/ACSE_9_CNN_LSTM/runs/olmbn2p7\" target=\"_blank\">https://wandb.ai/acse-jaq15/ACSE_9_CNN_LSTM/runs/olmbn2p7</a><br/>\n",
              "                "
            ],
            "text/plain": [
              "<IPython.core.display.HTML object>"
            ]
          },
          "metadata": {
            "tags": []
          }
        },
        {
          "output_type": "stream",
          "text": [
            "\u001b[34m\u001b[1mwandb\u001b[0m: Agent Starting Run: z33gdc95 with config:\n",
            "\u001b[34m\u001b[1mwandb\u001b[0m: \tactivation: selu\n",
            "\u001b[34m\u001b[1mwandb\u001b[0m: \tbatch_size: 64\n",
            "\u001b[34m\u001b[1mwandb\u001b[0m: \tepochs: 100\n",
            "\u001b[34m\u001b[1mwandb\u001b[0m: \tlearning_rate: 0.005\n",
            "\u001b[34m\u001b[1mwandb\u001b[0m: \toptimizer: adam\n"
          ],
          "name": "stderr"
        },
        {
          "output_type": "display_data",
          "data": {
            "text/html": [
              "\n",
              "                Tracking run with wandb version 0.11.0<br/>\n",
              "                Syncing run <strong style=\"color:#cdcd00\">denim-sweep-26</strong> to <a href=\"https://wandb.ai\" target=\"_blank\">Weights & Biases</a> <a href=\"https://docs.wandb.com/integrations/jupyter.html\" target=\"_blank\">(Documentation)</a>.<br/>\n",
              "                Project page: <a href=\"https://wandb.ai/acse-jaq15/ACSE_9_CNN_LSTM\" target=\"_blank\">https://wandb.ai/acse-jaq15/ACSE_9_CNN_LSTM</a><br/>\n",
              "                Sweep page: <a href=\"https://wandb.ai/acse-jaq15/ACSE_9_CNN_LSTM/sweeps/leuxhbp3\" target=\"_blank\">https://wandb.ai/acse-jaq15/ACSE_9_CNN_LSTM/sweeps/leuxhbp3</a><br/>\n",
              "Run page: <a href=\"https://wandb.ai/acse-jaq15/ACSE_9_CNN_LSTM/runs/z33gdc95\" target=\"_blank\">https://wandb.ai/acse-jaq15/ACSE_9_CNN_LSTM/runs/z33gdc95</a><br/>\n",
              "                Run data is saved locally in <code>/content/feeder_repo/wandb/run-20210721_154256-z33gdc95</code><br/><br/>\n",
              "            "
            ],
            "text/plain": [
              "<IPython.core.display.HTML object>"
            ]
          },
          "metadata": {
            "tags": []
          }
        },
        {
          "output_type": "stream",
          "text": [
            "Epoch 1/100\n",
            "16/16 [==============================] - 5s 81ms/step - loss: 0.3489 - mean_squared_error: 0.3489 - mean_absolute_error: 0.4197 - val_loss: 0.0516 - val_mean_squared_error: 0.0516 - val_mean_absolute_error: 0.1618\n",
            "Epoch 2/100\n",
            "16/16 [==============================] - 0s 8ms/step - loss: 0.0202 - mean_squared_error: 0.0202 - mean_absolute_error: 0.1033 - val_loss: 0.0160 - val_mean_squared_error: 0.0160 - val_mean_absolute_error: 0.1000\n",
            "Epoch 3/100\n",
            "16/16 [==============================] - 0s 10ms/step - loss: 0.0061 - mean_squared_error: 0.0061 - mean_absolute_error: 0.0602 - val_loss: 0.0085 - val_mean_squared_error: 0.0085 - val_mean_absolute_error: 0.0713\n",
            "Epoch 4/100\n",
            "16/16 [==============================] - 0s 13ms/step - loss: 0.0038 - mean_squared_error: 0.0038 - mean_absolute_error: 0.0474 - val_loss: 0.0075 - val_mean_squared_error: 0.0075 - val_mean_absolute_error: 0.0670\n",
            "Epoch 5/100\n",
            "16/16 [==============================] - 0s 12ms/step - loss: 0.0032 - mean_squared_error: 0.0032 - mean_absolute_error: 0.0446 - val_loss: 0.0069 - val_mean_squared_error: 0.0069 - val_mean_absolute_error: 0.0669\n",
            "Epoch 6/100\n",
            "16/16 [==============================] - 0s 10ms/step - loss: 0.0036 - mean_squared_error: 0.0036 - mean_absolute_error: 0.0462 - val_loss: 0.0074 - val_mean_squared_error: 0.0074 - val_mean_absolute_error: 0.0668\n",
            "Epoch 7/100\n",
            "16/16 [==============================] - 0s 9ms/step - loss: 0.0030 - mean_squared_error: 0.0030 - mean_absolute_error: 0.0422 - val_loss: 0.0049 - val_mean_squared_error: 0.0049 - val_mean_absolute_error: 0.0570\n",
            "Epoch 8/100\n",
            "16/16 [==============================] - 0s 10ms/step - loss: 0.0024 - mean_squared_error: 0.0024 - mean_absolute_error: 0.0381 - val_loss: 0.0044 - val_mean_squared_error: 0.0044 - val_mean_absolute_error: 0.0536\n",
            "Epoch 9/100\n",
            "16/16 [==============================] - 0s 11ms/step - loss: 0.0024 - mean_squared_error: 0.0024 - mean_absolute_error: 0.0373 - val_loss: 0.0044 - val_mean_squared_error: 0.0044 - val_mean_absolute_error: 0.0530\n",
            "Epoch 10/100\n",
            "16/16 [==============================] - 0s 12ms/step - loss: 0.0018 - mean_squared_error: 0.0018 - mean_absolute_error: 0.0329 - val_loss: 0.0044 - val_mean_squared_error: 0.0044 - val_mean_absolute_error: 0.0529\n",
            "Epoch 11/100\n",
            "16/16 [==============================] - 0s 10ms/step - loss: 0.0020 - mean_squared_error: 0.0020 - mean_absolute_error: 0.0338 - val_loss: 0.0043 - val_mean_squared_error: 0.0043 - val_mean_absolute_error: 0.0521\n",
            "Epoch 12/100\n",
            "16/16 [==============================] - 0s 10ms/step - loss: 0.0016 - mean_squared_error: 0.0016 - mean_absolute_error: 0.0303 - val_loss: 0.0066 - val_mean_squared_error: 0.0066 - val_mean_absolute_error: 0.0644\n",
            "Epoch 13/100\n",
            "16/16 [==============================] - 0s 9ms/step - loss: 0.0025 - mean_squared_error: 0.0025 - mean_absolute_error: 0.0390 - val_loss: 0.0041 - val_mean_squared_error: 0.0041 - val_mean_absolute_error: 0.0515\n",
            "Epoch 14/100\n",
            "16/16 [==============================] - 0s 12ms/step - loss: 0.0017 - mean_squared_error: 0.0017 - mean_absolute_error: 0.0308 - val_loss: 0.0043 - val_mean_squared_error: 0.0043 - val_mean_absolute_error: 0.0523\n",
            "Epoch 15/100\n",
            "16/16 [==============================] - 0s 11ms/step - loss: 0.0017 - mean_squared_error: 0.0017 - mean_absolute_error: 0.0316 - val_loss: 0.0041 - val_mean_squared_error: 0.0041 - val_mean_absolute_error: 0.0517\n",
            "Epoch 16/100\n",
            "16/16 [==============================] - 0s 11ms/step - loss: 0.0014 - mean_squared_error: 0.0014 - mean_absolute_error: 0.0291 - val_loss: 0.0041 - val_mean_squared_error: 0.0041 - val_mean_absolute_error: 0.0514\n",
            "Epoch 17/100\n",
            "16/16 [==============================] - 0s 10ms/step - loss: 0.0012 - mean_squared_error: 0.0012 - mean_absolute_error: 0.0273 - val_loss: 0.0042 - val_mean_squared_error: 0.0042 - val_mean_absolute_error: 0.0523\n",
            "Epoch 18/100\n",
            "16/16 [==============================] - 0s 10ms/step - loss: 0.0014 - mean_squared_error: 0.0014 - mean_absolute_error: 0.0292 - val_loss: 0.0039 - val_mean_squared_error: 0.0039 - val_mean_absolute_error: 0.0506\n",
            "Epoch 19/100\n",
            "16/16 [==============================] - 0s 11ms/step - loss: 0.0019 - mean_squared_error: 0.0019 - mean_absolute_error: 0.0327 - val_loss: 0.0050 - val_mean_squared_error: 0.0050 - val_mean_absolute_error: 0.0573\n",
            "Epoch 20/100\n",
            "16/16 [==============================] - 0s 9ms/step - loss: 0.0017 - mean_squared_error: 0.0017 - mean_absolute_error: 0.0311 - val_loss: 0.0041 - val_mean_squared_error: 0.0041 - val_mean_absolute_error: 0.0523\n",
            "Epoch 21/100\n",
            "16/16 [==============================] - 0s 9ms/step - loss: 0.0015 - mean_squared_error: 0.0015 - mean_absolute_error: 0.0295 - val_loss: 0.0048 - val_mean_squared_error: 0.0048 - val_mean_absolute_error: 0.0560\n",
            "Epoch 22/100\n",
            "16/16 [==============================] - 0s 10ms/step - loss: 0.0013 - mean_squared_error: 0.0013 - mean_absolute_error: 0.0281 - val_loss: 0.0047 - val_mean_squared_error: 0.0047 - val_mean_absolute_error: 0.0556\n",
            "Epoch 23/100\n",
            "16/16 [==============================] - 0s 11ms/step - loss: 0.0015 - mean_squared_error: 0.0015 - mean_absolute_error: 0.0302 - val_loss: 0.0039 - val_mean_squared_error: 0.0039 - val_mean_absolute_error: 0.0507\n",
            "Epoch 24/100\n",
            "16/16 [==============================] - 0s 12ms/step - loss: 0.0013 - mean_squared_error: 0.0013 - mean_absolute_error: 0.0275 - val_loss: 0.0038 - val_mean_squared_error: 0.0038 - val_mean_absolute_error: 0.0500\n",
            "Epoch 25/100\n",
            "16/16 [==============================] - 0s 10ms/step - loss: 0.0012 - mean_squared_error: 0.0012 - mean_absolute_error: 0.0273 - val_loss: 0.0050 - val_mean_squared_error: 0.0050 - val_mean_absolute_error: 0.0575\n",
            "Epoch 26/100\n",
            "16/16 [==============================] - 0s 9ms/step - loss: 0.0015 - mean_squared_error: 0.0015 - mean_absolute_error: 0.0297 - val_loss: 0.0040 - val_mean_squared_error: 0.0040 - val_mean_absolute_error: 0.0512\n",
            "Epoch 27/100\n",
            "16/16 [==============================] - 0s 10ms/step - loss: 0.0015 - mean_squared_error: 0.0015 - mean_absolute_error: 0.0297 - val_loss: 0.0036 - val_mean_squared_error: 0.0036 - val_mean_absolute_error: 0.0490\n",
            "Epoch 28/100\n",
            "16/16 [==============================] - 0s 11ms/step - loss: 0.0012 - mean_squared_error: 0.0012 - mean_absolute_error: 0.0271 - val_loss: 0.0038 - val_mean_squared_error: 0.0038 - val_mean_absolute_error: 0.0506\n",
            "Epoch 29/100\n",
            "16/16 [==============================] - 0s 11ms/step - loss: 0.0013 - mean_squared_error: 0.0013 - mean_absolute_error: 0.0273 - val_loss: 0.0039 - val_mean_squared_error: 0.0039 - val_mean_absolute_error: 0.0509\n",
            "Epoch 30/100\n",
            "16/16 [==============================] - 0s 10ms/step - loss: 9.9764e-04 - mean_squared_error: 9.9764e-04 - mean_absolute_error: 0.0244 - val_loss: 0.0039 - val_mean_squared_error: 0.0039 - val_mean_absolute_error: 0.0509\n",
            "Epoch 31/100\n",
            "16/16 [==============================] - 0s 10ms/step - loss: 0.0010 - mean_squared_error: 0.0010 - mean_absolute_error: 0.0239 - val_loss: 0.0037 - val_mean_squared_error: 0.0037 - val_mean_absolute_error: 0.0490\n",
            "Epoch 32/100\n",
            "16/16 [==============================] - 0s 14ms/step - loss: 0.0011 - mean_squared_error: 0.0011 - mean_absolute_error: 0.0254 - val_loss: 0.0043 - val_mean_squared_error: 0.0043 - val_mean_absolute_error: 0.0520\n",
            "Epoch 33/100\n",
            "16/16 [==============================] - 0s 10ms/step - loss: 0.0014 - mean_squared_error: 0.0014 - mean_absolute_error: 0.0279 - val_loss: 0.0037 - val_mean_squared_error: 0.0037 - val_mean_absolute_error: 0.0485\n",
            "Epoch 34/100\n",
            "16/16 [==============================] - 0s 11ms/step - loss: 0.0011 - mean_squared_error: 0.0011 - mean_absolute_error: 0.0255 - val_loss: 0.0037 - val_mean_squared_error: 0.0037 - val_mean_absolute_error: 0.0484\n",
            "Epoch 35/100\n",
            "16/16 [==============================] - 0s 11ms/step - loss: 9.8728e-04 - mean_squared_error: 9.8728e-04 - mean_absolute_error: 0.0242 - val_loss: 0.0038 - val_mean_squared_error: 0.0038 - val_mean_absolute_error: 0.0503\n",
            "Epoch 36/100\n",
            "16/16 [==============================] - 0s 10ms/step - loss: 9.8048e-04 - mean_squared_error: 9.8048e-04 - mean_absolute_error: 0.0239 - val_loss: 0.0040 - val_mean_squared_error: 0.0040 - val_mean_absolute_error: 0.0518\n",
            "Epoch 37/100\n",
            "16/16 [==============================] - 0s 11ms/step - loss: 0.0011 - mean_squared_error: 0.0011 - mean_absolute_error: 0.0258 - val_loss: 0.0035 - val_mean_squared_error: 0.0035 - val_mean_absolute_error: 0.0477\n",
            "Epoch 38/100\n",
            "16/16 [==============================] - 0s 10ms/step - loss: 9.6369e-04 - mean_squared_error: 9.6369e-04 - mean_absolute_error: 0.0239 - val_loss: 0.0036 - val_mean_squared_error: 0.0036 - val_mean_absolute_error: 0.0477\n",
            "Epoch 39/100\n",
            "16/16 [==============================] - 0s 10ms/step - loss: 0.0014 - mean_squared_error: 0.0014 - mean_absolute_error: 0.0279 - val_loss: 0.0035 - val_mean_squared_error: 0.0035 - val_mean_absolute_error: 0.0480\n",
            "Epoch 40/100\n",
            "16/16 [==============================] - 0s 10ms/step - loss: 0.0010 - mean_squared_error: 0.0010 - mean_absolute_error: 0.0247 - val_loss: 0.0034 - val_mean_squared_error: 0.0034 - val_mean_absolute_error: 0.0468\n",
            "Epoch 41/100\n",
            "16/16 [==============================] - 0s 10ms/step - loss: 0.0013 - mean_squared_error: 0.0013 - mean_absolute_error: 0.0271 - val_loss: 0.0035 - val_mean_squared_error: 0.0035 - val_mean_absolute_error: 0.0473\n",
            "Epoch 42/100\n",
            "16/16 [==============================] - 0s 11ms/step - loss: 8.8860e-04 - mean_squared_error: 8.8860e-04 - mean_absolute_error: 0.0229 - val_loss: 0.0038 - val_mean_squared_error: 0.0038 - val_mean_absolute_error: 0.0496\n",
            "Epoch 43/100\n",
            "16/16 [==============================] - 0s 10ms/step - loss: 0.0012 - mean_squared_error: 0.0012 - mean_absolute_error: 0.0269 - val_loss: 0.0034 - val_mean_squared_error: 0.0034 - val_mean_absolute_error: 0.0474\n",
            "Epoch 44/100\n",
            "16/16 [==============================] - 0s 12ms/step - loss: 8.2536e-04 - mean_squared_error: 8.2536e-04 - mean_absolute_error: 0.0222 - val_loss: 0.0037 - val_mean_squared_error: 0.0037 - val_mean_absolute_error: 0.0494\n",
            "Epoch 45/100\n",
            "16/16 [==============================] - 0s 11ms/step - loss: 9.5264e-04 - mean_squared_error: 9.5264e-04 - mean_absolute_error: 0.0236 - val_loss: 0.0036 - val_mean_squared_error: 0.0036 - val_mean_absolute_error: 0.0489\n",
            "Epoch 46/100\n",
            "16/16 [==============================] - 0s 10ms/step - loss: 0.0011 - mean_squared_error: 0.0011 - mean_absolute_error: 0.0256 - val_loss: 0.0035 - val_mean_squared_error: 0.0035 - val_mean_absolute_error: 0.0480\n",
            "Epoch 47/100\n",
            "16/16 [==============================] - 0s 10ms/step - loss: 9.0832e-04 - mean_squared_error: 9.0832e-04 - mean_absolute_error: 0.0230 - val_loss: 0.0038 - val_mean_squared_error: 0.0038 - val_mean_absolute_error: 0.0501\n",
            "Epoch 48/100\n",
            "16/16 [==============================] - 0s 11ms/step - loss: 0.0012 - mean_squared_error: 0.0012 - mean_absolute_error: 0.0261 - val_loss: 0.0034 - val_mean_squared_error: 0.0034 - val_mean_absolute_error: 0.0480\n",
            "Epoch 49/100\n",
            "16/16 [==============================] - 0s 12ms/step - loss: 8.4631e-04 - mean_squared_error: 8.4631e-04 - mean_absolute_error: 0.0222 - val_loss: 0.0035 - val_mean_squared_error: 0.0035 - val_mean_absolute_error: 0.0478\n",
            "Epoch 50/100\n",
            "16/16 [==============================] - 0s 9ms/step - loss: 9.1469e-04 - mean_squared_error: 9.1469e-04 - mean_absolute_error: 0.0228 - val_loss: 0.0034 - val_mean_squared_error: 0.0034 - val_mean_absolute_error: 0.0475\n"
          ],
          "name": "stdout"
        },
        {
          "output_type": "display_data",
          "data": {
            "text/html": [
              "<br/>Waiting for W&B process to finish, PID 6566<br/>Program ended successfully."
            ],
            "text/plain": [
              "<IPython.core.display.HTML object>"
            ]
          },
          "metadata": {
            "tags": []
          }
        },
        {
          "output_type": "display_data",
          "data": {
            "application/vnd.jupyter.widget-view+json": {
              "model_id": "a7162e235111499fb5514dfb96354d58",
              "version_minor": 0,
              "version_major": 2
            },
            "text/plain": [
              "VBox(children=(Label(value=' 4.14MB of 4.14MB uploaded (0.00MB deduped)\\r'), FloatProgress(value=1.0, max=1.0)…"
            ]
          },
          "metadata": {
            "tags": []
          }
        },
        {
          "output_type": "display_data",
          "data": {
            "text/html": [
              "Find user logs for this run at: <code>/content/feeder_repo/wandb/run-20210721_154256-z33gdc95/logs/debug.log</code>"
            ],
            "text/plain": [
              "<IPython.core.display.HTML object>"
            ]
          },
          "metadata": {
            "tags": []
          }
        },
        {
          "output_type": "display_data",
          "data": {
            "text/html": [
              "Find internal logs for this run at: <code>/content/feeder_repo/wandb/run-20210721_154256-z33gdc95/logs/debug-internal.log</code>"
            ],
            "text/plain": [
              "<IPython.core.display.HTML object>"
            ]
          },
          "metadata": {
            "tags": []
          }
        },
        {
          "output_type": "display_data",
          "data": {
            "text/html": [
              "<h3>Run summary:</h3><br/><style>\n",
              "    table.wandb td:nth-child(1) { padding: 0 10px; text-align: right }\n",
              "    </style><table class=\"wandb\">\n",
              "<tr><td>epoch</td><td>49</td></tr><tr><td>loss</td><td>0.00094</td></tr><tr><td>mean_squared_error</td><td>0.00094</td></tr><tr><td>mean_absolute_error</td><td>0.02351</td></tr><tr><td>val_loss</td><td>0.00342</td></tr><tr><td>val_mean_squared_error</td><td>0.00342</td></tr><tr><td>val_mean_absolute_error</td><td>0.04752</td></tr><tr><td>_runtime</td><td>19</td></tr><tr><td>_timestamp</td><td>1626882195</td></tr><tr><td>_step</td><td>49</td></tr><tr><td>best_val_loss</td><td>0.00339</td></tr><tr><td>best_epoch</td><td>39</td></tr></table>"
            ],
            "text/plain": [
              "<IPython.core.display.HTML object>"
            ]
          },
          "metadata": {
            "tags": []
          }
        },
        {
          "output_type": "display_data",
          "data": {
            "text/html": [
              "<h3>Run history:</h3><br/><style>\n",
              "    table.wandb td:nth-child(1) { padding: 0 10px; text-align: right }\n",
              "    </style><table class=\"wandb\">\n",
              "<tr><td>epoch</td><td>▁▁▁▁▂▂▂▂▂▃▃▃▃▃▃▄▄▄▄▄▅▅▅▅▅▅▆▆▆▆▆▆▇▇▇▇▇███</td></tr><tr><td>loss</td><td>█▁▁▁▁▁▁▁▁▁▁▁▁▁▁▁▁▁▁▁▁▁▁▁▁▁▁▁▁▁▁▁▁▁▁▁▁▁▁▁</td></tr><tr><td>mean_squared_error</td><td>█▁▁▁▁▁▁▁▁▁▁▁▁▁▁▁▁▁▁▁▁▁▁▁▁▁▁▁▁▁▁▁▁▁▁▁▁▁▁▁</td></tr><tr><td>mean_absolute_error</td><td>█▂▂▂▂▁▁▁▁▁▁▁▁▁▁▁▁▁▁▁▁▁▁▁▁▁▁▁▁▁▁▁▁▁▁▁▁▁▁▁</td></tr><tr><td>val_loss</td><td>█▃▂▂▂▁▁▁▁▁▁▁▁▁▁▁▁▁▁▁▁▁▁▁▁▁▁▁▁▁▁▁▁▁▁▁▁▁▁▁</td></tr><tr><td>val_mean_squared_error</td><td>█▃▂▂▂▁▁▁▁▁▁▁▁▁▁▁▁▁▁▁▁▁▁▁▁▁▁▁▁▁▁▁▁▁▁▁▁▁▁▁</td></tr><tr><td>val_mean_absolute_error</td><td>█▄▂▂▂▂▁▁▁▂▁▁▁▁▁▂▂▂▁▁▁▁▁▁▁▁▁▁▁▁▁▁▁▁▁▁▁▁▁▁</td></tr><tr><td>_runtime</td><td>▁▁▂▂▂▂▂▂▃▃▃▃▄▄▄▄▅▅▅▅▅▅▅▅▆▆▆▆▇▇▇▇▇▇▇▇████</td></tr><tr><td>_timestamp</td><td>▁▁▂▂▂▂▂▂▃▃▃▃▄▄▄▄▅▅▅▅▅▅▅▅▆▆▆▆▇▇▇▇▇▇▇▇████</td></tr><tr><td>_step</td><td>▁▁▁▁▂▂▂▂▂▃▃▃▃▃▃▄▄▄▄▄▅▅▅▅▅▅▆▆▆▆▆▆▇▇▇▇▇███</td></tr></table><br/>"
            ],
            "text/plain": [
              "<IPython.core.display.HTML object>"
            ]
          },
          "metadata": {
            "tags": []
          }
        },
        {
          "output_type": "display_data",
          "data": {
            "text/html": [
              "Synced 5 W&B file(s), 1 media file(s), 2 artifact file(s) and 2 other file(s)"
            ],
            "text/plain": [
              "<IPython.core.display.HTML object>"
            ]
          },
          "metadata": {
            "tags": []
          }
        },
        {
          "output_type": "display_data",
          "data": {
            "text/html": [
              "\n",
              "                    <br/>Synced <strong style=\"color:#cdcd00\">denim-sweep-26</strong>: <a href=\"https://wandb.ai/acse-jaq15/ACSE_9_CNN_LSTM/runs/z33gdc95\" target=\"_blank\">https://wandb.ai/acse-jaq15/ACSE_9_CNN_LSTM/runs/z33gdc95</a><br/>\n",
              "                "
            ],
            "text/plain": [
              "<IPython.core.display.HTML object>"
            ]
          },
          "metadata": {
            "tags": []
          }
        },
        {
          "output_type": "stream",
          "text": [
            "\u001b[34m\u001b[1mwandb\u001b[0m: Agent Starting Run: piwbi9ku with config:\n",
            "\u001b[34m\u001b[1mwandb\u001b[0m: \tactivation: selu\n",
            "\u001b[34m\u001b[1mwandb\u001b[0m: \tbatch_size: 128\n",
            "\u001b[34m\u001b[1mwandb\u001b[0m: \tepochs: 200\n",
            "\u001b[34m\u001b[1mwandb\u001b[0m: \tlearning_rate: 0.0005\n",
            "\u001b[34m\u001b[1mwandb\u001b[0m: \toptimizer: nadam\n"
          ],
          "name": "stderr"
        },
        {
          "output_type": "display_data",
          "data": {
            "text/html": [
              "\n",
              "                Tracking run with wandb version 0.11.0<br/>\n",
              "                Syncing run <strong style=\"color:#cdcd00\">usual-sweep-27</strong> to <a href=\"https://wandb.ai\" target=\"_blank\">Weights & Biases</a> <a href=\"https://docs.wandb.com/integrations/jupyter.html\" target=\"_blank\">(Documentation)</a>.<br/>\n",
              "                Project page: <a href=\"https://wandb.ai/acse-jaq15/ACSE_9_CNN_LSTM\" target=\"_blank\">https://wandb.ai/acse-jaq15/ACSE_9_CNN_LSTM</a><br/>\n",
              "                Sweep page: <a href=\"https://wandb.ai/acse-jaq15/ACSE_9_CNN_LSTM/sweeps/leuxhbp3\" target=\"_blank\">https://wandb.ai/acse-jaq15/ACSE_9_CNN_LSTM/sweeps/leuxhbp3</a><br/>\n",
              "Run page: <a href=\"https://wandb.ai/acse-jaq15/ACSE_9_CNN_LSTM/runs/piwbi9ku\" target=\"_blank\">https://wandb.ai/acse-jaq15/ACSE_9_CNN_LSTM/runs/piwbi9ku</a><br/>\n",
              "                Run data is saved locally in <code>/content/feeder_repo/wandb/run-20210721_154324-piwbi9ku</code><br/><br/>\n",
              "            "
            ],
            "text/plain": [
              "<IPython.core.display.HTML object>"
            ]
          },
          "metadata": {
            "tags": []
          }
        },
        {
          "output_type": "stream",
          "text": [
            "Epoch 1/200\n",
            "8/8 [==============================] - 6s 166ms/step - loss: 0.0655 - mean_squared_error: 0.0655 - mean_absolute_error: 0.1679 - val_loss: 0.0129 - val_mean_squared_error: 0.0129 - val_mean_absolute_error: 0.0826\n",
            "Epoch 2/200\n",
            "8/8 [==============================] - 0s 18ms/step - loss: 0.0034 - mean_squared_error: 0.0034 - mean_absolute_error: 0.0451 - val_loss: 0.0111 - val_mean_squared_error: 0.0111 - val_mean_absolute_error: 0.0781\n",
            "Epoch 3/200\n",
            "8/8 [==============================] - 0s 25ms/step - loss: 0.0031 - mean_squared_error: 0.0031 - mean_absolute_error: 0.0434 - val_loss: 0.0101 - val_mean_squared_error: 0.0101 - val_mean_absolute_error: 0.0765\n",
            "Epoch 4/200\n",
            "8/8 [==============================] - 0s 14ms/step - loss: 0.0029 - mean_squared_error: 0.0029 - mean_absolute_error: 0.0418 - val_loss: 0.0090 - val_mean_squared_error: 0.0090 - val_mean_absolute_error: 0.0758\n",
            "Epoch 5/200\n",
            "8/8 [==============================] - 0s 16ms/step - loss: 0.0033 - mean_squared_error: 0.0033 - mean_absolute_error: 0.0456 - val_loss: 0.0104 - val_mean_squared_error: 0.0104 - val_mean_absolute_error: 0.0749\n",
            "Epoch 6/200\n",
            "8/8 [==============================] - 0s 13ms/step - loss: 0.0029 - mean_squared_error: 0.0029 - mean_absolute_error: 0.0418 - val_loss: 0.0101 - val_mean_squared_error: 0.0101 - val_mean_absolute_error: 0.0830\n",
            "Epoch 7/200\n",
            "8/8 [==============================] - 0s 13ms/step - loss: 0.0057 - mean_squared_error: 0.0057 - mean_absolute_error: 0.0596 - val_loss: 0.0087 - val_mean_squared_error: 0.0087 - val_mean_absolute_error: 0.0697\n",
            "Epoch 8/200\n",
            "8/8 [==============================] - 0s 14ms/step - loss: 0.0025 - mean_squared_error: 0.0025 - mean_absolute_error: 0.0391 - val_loss: 0.0127 - val_mean_squared_error: 0.0127 - val_mean_absolute_error: 0.0849\n",
            "Epoch 9/200\n",
            "8/8 [==============================] - 0s 17ms/step - loss: 0.0040 - mean_squared_error: 0.0040 - mean_absolute_error: 0.0493 - val_loss: 0.0179 - val_mean_squared_error: 0.0179 - val_mean_absolute_error: 0.1044\n",
            "Epoch 10/200\n",
            "8/8 [==============================] - 0s 14ms/step - loss: 0.0064 - mean_squared_error: 0.0064 - mean_absolute_error: 0.0604 - val_loss: 0.0081 - val_mean_squared_error: 0.0081 - val_mean_absolute_error: 0.0678\n",
            "Epoch 11/200\n",
            "8/8 [==============================] - 0s 14ms/step - loss: 0.0022 - mean_squared_error: 0.0022 - mean_absolute_error: 0.0362 - val_loss: 0.0071 - val_mean_squared_error: 0.0071 - val_mean_absolute_error: 0.0645\n",
            "Epoch 12/200\n",
            "8/8 [==============================] - 0s 15ms/step - loss: 0.0022 - mean_squared_error: 0.0022 - mean_absolute_error: 0.0364 - val_loss: 0.0078 - val_mean_squared_error: 0.0078 - val_mean_absolute_error: 0.0671\n",
            "Epoch 13/200\n",
            "8/8 [==============================] - 0s 12ms/step - loss: 0.0022 - mean_squared_error: 0.0022 - mean_absolute_error: 0.0365 - val_loss: 0.0058 - val_mean_squared_error: 0.0058 - val_mean_absolute_error: 0.0621\n",
            "Epoch 14/200\n",
            "8/8 [==============================] - 0s 16ms/step - loss: 0.0027 - mean_squared_error: 0.0027 - mean_absolute_error: 0.0395 - val_loss: 0.0106 - val_mean_squared_error: 0.0106 - val_mean_absolute_error: 0.0813\n",
            "Epoch 15/200\n",
            "8/8 [==============================] - 0s 15ms/step - loss: 0.0056 - mean_squared_error: 0.0056 - mean_absolute_error: 0.0574 - val_loss: 0.0087 - val_mean_squared_error: 0.0087 - val_mean_absolute_error: 0.0746\n",
            "Epoch 16/200\n",
            "8/8 [==============================] - 0s 14ms/step - loss: 0.0049 - mean_squared_error: 0.0049 - mean_absolute_error: 0.0526 - val_loss: 0.0057 - val_mean_squared_error: 0.0057 - val_mean_absolute_error: 0.0601\n",
            "Epoch 17/200\n",
            "8/8 [==============================] - 0s 16ms/step - loss: 0.0017 - mean_squared_error: 0.0017 - mean_absolute_error: 0.0320 - val_loss: 0.0067 - val_mean_squared_error: 0.0067 - val_mean_absolute_error: 0.0629\n",
            "Epoch 18/200\n",
            "8/8 [==============================] - 0s 16ms/step - loss: 0.0021 - mean_squared_error: 0.0021 - mean_absolute_error: 0.0353 - val_loss: 0.0064 - val_mean_squared_error: 0.0064 - val_mean_absolute_error: 0.0619\n",
            "Epoch 19/200\n",
            "8/8 [==============================] - 0s 14ms/step - loss: 0.0021 - mean_squared_error: 0.0021 - mean_absolute_error: 0.0353 - val_loss: 0.0077 - val_mean_squared_error: 0.0077 - val_mean_absolute_error: 0.0671\n",
            "Epoch 20/200\n",
            "8/8 [==============================] - 0s 14ms/step - loss: 0.0026 - mean_squared_error: 0.0026 - mean_absolute_error: 0.0397 - val_loss: 0.0075 - val_mean_squared_error: 0.0075 - val_mean_absolute_error: 0.0663\n",
            "Epoch 21/200\n",
            "8/8 [==============================] - 0s 13ms/step - loss: 0.0021 - mean_squared_error: 0.0021 - mean_absolute_error: 0.0357 - val_loss: 0.0070 - val_mean_squared_error: 0.0070 - val_mean_absolute_error: 0.0644\n",
            "Epoch 22/200\n",
            "8/8 [==============================] - 0s 16ms/step - loss: 0.0025 - mean_squared_error: 0.0025 - mean_absolute_error: 0.0386 - val_loss: 0.0101 - val_mean_squared_error: 0.0101 - val_mean_absolute_error: 0.0778\n",
            "Epoch 23/200\n",
            "8/8 [==============================] - 0s 13ms/step - loss: 0.0055 - mean_squared_error: 0.0055 - mean_absolute_error: 0.0574 - val_loss: 0.0098 - val_mean_squared_error: 0.0098 - val_mean_absolute_error: 0.0767\n",
            "Epoch 24/200\n",
            "8/8 [==============================] - 0s 16ms/step - loss: 0.0028 - mean_squared_error: 0.0028 - mean_absolute_error: 0.0414 - val_loss: 0.0074 - val_mean_squared_error: 0.0074 - val_mean_absolute_error: 0.0658\n",
            "Epoch 25/200\n",
            "8/8 [==============================] - 0s 14ms/step - loss: 0.0019 - mean_squared_error: 0.0019 - mean_absolute_error: 0.0338 - val_loss: 0.0058 - val_mean_squared_error: 0.0058 - val_mean_absolute_error: 0.0591\n",
            "Epoch 26/200\n",
            "8/8 [==============================] - 0s 19ms/step - loss: 0.0017 - mean_squared_error: 0.0017 - mean_absolute_error: 0.0329 - val_loss: 0.0053 - val_mean_squared_error: 0.0053 - val_mean_absolute_error: 0.0575\n",
            "Epoch 27/200\n",
            "8/8 [==============================] - 0s 16ms/step - loss: 0.0018 - mean_squared_error: 0.0018 - mean_absolute_error: 0.0326 - val_loss: 0.0063 - val_mean_squared_error: 0.0063 - val_mean_absolute_error: 0.0615\n",
            "Epoch 28/200\n",
            "8/8 [==============================] - 0s 16ms/step - loss: 0.0017 - mean_squared_error: 0.0017 - mean_absolute_error: 0.0316 - val_loss: 0.0055 - val_mean_squared_error: 0.0055 - val_mean_absolute_error: 0.0602\n",
            "Epoch 29/200\n",
            "8/8 [==============================] - 0s 15ms/step - loss: 0.0029 - mean_squared_error: 0.0029 - mean_absolute_error: 0.0424 - val_loss: 0.0049 - val_mean_squared_error: 0.0049 - val_mean_absolute_error: 0.0573\n",
            "Epoch 30/200\n",
            "8/8 [==============================] - 0s 15ms/step - loss: 0.0018 - mean_squared_error: 0.0018 - mean_absolute_error: 0.0329 - val_loss: 0.0060 - val_mean_squared_error: 0.0060 - val_mean_absolute_error: 0.0603\n",
            "Epoch 31/200\n",
            "8/8 [==============================] - 0s 15ms/step - loss: 0.0017 - mean_squared_error: 0.0017 - mean_absolute_error: 0.0320 - val_loss: 0.0056 - val_mean_squared_error: 0.0056 - val_mean_absolute_error: 0.0587\n",
            "Epoch 32/200\n",
            "8/8 [==============================] - 0s 15ms/step - loss: 0.0014 - mean_squared_error: 0.0014 - mean_absolute_error: 0.0293 - val_loss: 0.0044 - val_mean_squared_error: 0.0044 - val_mean_absolute_error: 0.0539\n",
            "Epoch 33/200\n",
            "8/8 [==============================] - 0s 15ms/step - loss: 0.0014 - mean_squared_error: 0.0014 - mean_absolute_error: 0.0285 - val_loss: 0.0045 - val_mean_squared_error: 0.0045 - val_mean_absolute_error: 0.0540\n",
            "Epoch 34/200\n",
            "8/8 [==============================] - 0s 15ms/step - loss: 0.0013 - mean_squared_error: 0.0013 - mean_absolute_error: 0.0283 - val_loss: 0.0050 - val_mean_squared_error: 0.0050 - val_mean_absolute_error: 0.0574\n",
            "Epoch 35/200\n",
            "8/8 [==============================] - 0s 14ms/step - loss: 0.0030 - mean_squared_error: 0.0030 - mean_absolute_error: 0.0426 - val_loss: 0.0084 - val_mean_squared_error: 0.0084 - val_mean_absolute_error: 0.0723\n",
            "Epoch 36/200\n",
            "8/8 [==============================] - 0s 14ms/step - loss: 0.0048 - mean_squared_error: 0.0048 - mean_absolute_error: 0.0536 - val_loss: 0.0049 - val_mean_squared_error: 0.0049 - val_mean_absolute_error: 0.0572\n",
            "Epoch 37/200\n",
            "8/8 [==============================] - 0s 14ms/step - loss: 0.0018 - mean_squared_error: 0.0018 - mean_absolute_error: 0.0329 - val_loss: 0.0051 - val_mean_squared_error: 0.0051 - val_mean_absolute_error: 0.0565\n",
            "Epoch 38/200\n",
            "8/8 [==============================] - 0s 15ms/step - loss: 0.0015 - mean_squared_error: 0.0015 - mean_absolute_error: 0.0298 - val_loss: 0.0073 - val_mean_squared_error: 0.0073 - val_mean_absolute_error: 0.0669\n",
            "Epoch 39/200\n",
            "8/8 [==============================] - 0s 15ms/step - loss: 0.0027 - mean_squared_error: 0.0027 - mean_absolute_error: 0.0398 - val_loss: 0.0045 - val_mean_squared_error: 0.0045 - val_mean_absolute_error: 0.0540\n",
            "Epoch 40/200\n",
            "8/8 [==============================] - 0s 17ms/step - loss: 0.0014 - mean_squared_error: 0.0014 - mean_absolute_error: 0.0285 - val_loss: 0.0044 - val_mean_squared_error: 0.0044 - val_mean_absolute_error: 0.0535\n",
            "Epoch 41/200\n",
            "8/8 [==============================] - 0s 14ms/step - loss: 0.0012 - mean_squared_error: 0.0012 - mean_absolute_error: 0.0266 - val_loss: 0.0045 - val_mean_squared_error: 0.0045 - val_mean_absolute_error: 0.0539\n",
            "Epoch 42/200\n",
            "8/8 [==============================] - 0s 13ms/step - loss: 0.0013 - mean_squared_error: 0.0013 - mean_absolute_error: 0.0270 - val_loss: 0.0043 - val_mean_squared_error: 0.0043 - val_mean_absolute_error: 0.0532\n",
            "Epoch 43/200\n",
            "8/8 [==============================] - 0s 17ms/step - loss: 0.0019 - mean_squared_error: 0.0019 - mean_absolute_error: 0.0338 - val_loss: 0.0043 - val_mean_squared_error: 0.0043 - val_mean_absolute_error: 0.0531\n",
            "Epoch 44/200\n",
            "8/8 [==============================] - 0s 15ms/step - loss: 0.0013 - mean_squared_error: 0.0013 - mean_absolute_error: 0.0276 - val_loss: 0.0060 - val_mean_squared_error: 0.0060 - val_mean_absolute_error: 0.0612\n",
            "Epoch 45/200\n",
            "8/8 [==============================] - 0s 15ms/step - loss: 0.0023 - mean_squared_error: 0.0023 - mean_absolute_error: 0.0368 - val_loss: 0.0053 - val_mean_squared_error: 0.0053 - val_mean_absolute_error: 0.0581\n",
            "Epoch 46/200\n",
            "8/8 [==============================] - 0s 14ms/step - loss: 0.0016 - mean_squared_error: 0.0016 - mean_absolute_error: 0.0305 - val_loss: 0.0051 - val_mean_squared_error: 0.0051 - val_mean_absolute_error: 0.0568\n",
            "Epoch 47/200\n",
            "8/8 [==============================] - 0s 15ms/step - loss: 0.0012 - mean_squared_error: 0.0012 - mean_absolute_error: 0.0272 - val_loss: 0.0046 - val_mean_squared_error: 0.0046 - val_mean_absolute_error: 0.0548\n",
            "Epoch 48/200\n",
            "8/8 [==============================] - 0s 13ms/step - loss: 0.0015 - mean_squared_error: 0.0015 - mean_absolute_error: 0.0301 - val_loss: 0.0047 - val_mean_squared_error: 0.0047 - val_mean_absolute_error: 0.0554\n",
            "Epoch 49/200\n",
            "8/8 [==============================] - 0s 10ms/step - loss: 0.0020 - mean_squared_error: 0.0020 - mean_absolute_error: 0.0338 - val_loss: 0.0041 - val_mean_squared_error: 0.0041 - val_mean_absolute_error: 0.0525\n",
            "Epoch 50/200\n",
            "8/8 [==============================] - 0s 13ms/step - loss: 0.0011 - mean_squared_error: 0.0011 - mean_absolute_error: 0.0250 - val_loss: 0.0053 - val_mean_squared_error: 0.0053 - val_mean_absolute_error: 0.0580\n",
            "Epoch 51/200\n",
            "8/8 [==============================] - 0s 14ms/step - loss: 0.0014 - mean_squared_error: 0.0014 - mean_absolute_error: 0.0285 - val_loss: 0.0042 - val_mean_squared_error: 0.0042 - val_mean_absolute_error: 0.0530\n",
            "Epoch 52/200\n",
            "8/8 [==============================] - 0s 14ms/step - loss: 0.0011 - mean_squared_error: 0.0011 - mean_absolute_error: 0.0260 - val_loss: 0.0043 - val_mean_squared_error: 0.0043 - val_mean_absolute_error: 0.0533\n",
            "Epoch 53/200\n",
            "8/8 [==============================] - 0s 14ms/step - loss: 0.0011 - mean_squared_error: 0.0011 - mean_absolute_error: 0.0252 - val_loss: 0.0045 - val_mean_squared_error: 0.0045 - val_mean_absolute_error: 0.0544\n",
            "Epoch 54/200\n",
            "8/8 [==============================] - 0s 17ms/step - loss: 0.0019 - mean_squared_error: 0.0019 - mean_absolute_error: 0.0329 - val_loss: 0.0058 - val_mean_squared_error: 0.0058 - val_mean_absolute_error: 0.0607\n",
            "Epoch 55/200\n",
            "8/8 [==============================] - 0s 14ms/step - loss: 0.0018 - mean_squared_error: 0.0018 - mean_absolute_error: 0.0324 - val_loss: 0.0053 - val_mean_squared_error: 0.0053 - val_mean_absolute_error: 0.0582\n",
            "Epoch 56/200\n",
            "8/8 [==============================] - 0s 14ms/step - loss: 0.0020 - mean_squared_error: 0.0020 - mean_absolute_error: 0.0342 - val_loss: 0.0075 - val_mean_squared_error: 0.0075 - val_mean_absolute_error: 0.0683\n",
            "Epoch 57/200\n",
            "8/8 [==============================] - 0s 14ms/step - loss: 0.0018 - mean_squared_error: 0.0018 - mean_absolute_error: 0.0326 - val_loss: 0.0044 - val_mean_squared_error: 0.0044 - val_mean_absolute_error: 0.0538\n",
            "Epoch 58/200\n",
            "8/8 [==============================] - 0s 12ms/step - loss: 0.0010 - mean_squared_error: 0.0010 - mean_absolute_error: 0.0249 - val_loss: 0.0047 - val_mean_squared_error: 0.0047 - val_mean_absolute_error: 0.0556\n",
            "Epoch 59/200\n",
            "8/8 [==============================] - 0s 12ms/step - loss: 0.0015 - mean_squared_error: 0.0015 - mean_absolute_error: 0.0301 - val_loss: 0.0045 - val_mean_squared_error: 0.0045 - val_mean_absolute_error: 0.0546\n"
          ],
          "name": "stdout"
        },
        {
          "output_type": "display_data",
          "data": {
            "text/html": [
              "<br/>Waiting for W&B process to finish, PID 6771<br/>Program ended successfully."
            ],
            "text/plain": [
              "<IPython.core.display.HTML object>"
            ]
          },
          "metadata": {
            "tags": []
          }
        },
        {
          "output_type": "display_data",
          "data": {
            "application/vnd.jupyter.widget-view+json": {
              "model_id": "54e611cf65fa4988924d094bb811095e",
              "version_minor": 0,
              "version_major": 2
            },
            "text/plain": [
              "VBox(children=(Label(value=' 11.69MB of 11.69MB uploaded (0.00MB deduped)\\r'), FloatProgress(value=1.0, max=1.…"
            ]
          },
          "metadata": {
            "tags": []
          }
        },
        {
          "output_type": "display_data",
          "data": {
            "text/html": [
              "Find user logs for this run at: <code>/content/feeder_repo/wandb/run-20210721_154324-piwbi9ku/logs/debug.log</code>"
            ],
            "text/plain": [
              "<IPython.core.display.HTML object>"
            ]
          },
          "metadata": {
            "tags": []
          }
        },
        {
          "output_type": "display_data",
          "data": {
            "text/html": [
              "Find internal logs for this run at: <code>/content/feeder_repo/wandb/run-20210721_154324-piwbi9ku/logs/debug-internal.log</code>"
            ],
            "text/plain": [
              "<IPython.core.display.HTML object>"
            ]
          },
          "metadata": {
            "tags": []
          }
        },
        {
          "output_type": "display_data",
          "data": {
            "text/html": [
              "<h3>Run summary:</h3><br/><style>\n",
              "    table.wandb td:nth-child(1) { padding: 0 10px; text-align: right }\n",
              "    </style><table class=\"wandb\">\n",
              "<tr><td>epoch</td><td>58</td></tr><tr><td>loss</td><td>0.00144</td></tr><tr><td>mean_squared_error</td><td>0.00144</td></tr><tr><td>mean_absolute_error</td><td>0.02921</td></tr><tr><td>val_loss</td><td>0.00453</td></tr><tr><td>val_mean_squared_error</td><td>0.00453</td></tr><tr><td>val_mean_absolute_error</td><td>0.05458</td></tr><tr><td>_runtime</td><td>19</td></tr><tr><td>_timestamp</td><td>1626882223</td></tr><tr><td>_step</td><td>58</td></tr><tr><td>best_val_loss</td><td>0.00413</td></tr><tr><td>best_epoch</td><td>48</td></tr></table>"
            ],
            "text/plain": [
              "<IPython.core.display.HTML object>"
            ]
          },
          "metadata": {
            "tags": []
          }
        },
        {
          "output_type": "display_data",
          "data": {
            "text/html": [
              "<h3>Run history:</h3><br/><style>\n",
              "    table.wandb td:nth-child(1) { padding: 0 10px; text-align: right }\n",
              "    </style><table class=\"wandb\">\n",
              "<tr><td>epoch</td><td>▁▁▁▁▂▂▂▂▂▃▃▃▃▃▃▄▄▄▄▄▅▅▅▅▅▅▆▆▆▆▆▇▇▇▇▇▇███</td></tr><tr><td>loss</td><td>█▂▁▁▂▁▂▁▁▂▂▁▁▁▁▂▁▁▁▁▁▁▁▂▂▁▁▁▁▁▁▁▁▁▁▁▁▁▁▁</td></tr><tr><td>mean_squared_error</td><td>█▂▁▁▂▁▂▁▁▂▂▁▁▁▁▂▁▁▁▁▁▁▁▂▂▁▁▁▁▁▁▁▁▁▁▁▁▁▁▁</td></tr><tr><td>mean_absolute_error</td><td>█▃▃▃▃▂▃▂▂▃▄▂▂▂▂▄▂▂▂▃▂▁▁▃▃▁▂▁▁▁▂▁▂▁▁▁▂▂▁▁</td></tr><tr><td>val_loss</td><td>▅▅▄▄▄▅█▂▃▄▃▂▂▃▂▄▃▂▂▁▂▁▁▃▁▃▁▁▁▂▂▁▁▂▁▁▂▃▁▁</td></tr><tr><td>val_mean_squared_error</td><td>▅▅▄▄▄▅█▂▃▄▃▂▂▃▂▄▃▂▂▁▂▁▁▃▁▃▁▁▁▂▂▁▁▂▁▁▂▃▁▁</td></tr><tr><td>val_mean_absolute_error</td><td>▅▄▄▄▅▅█▃▃▅▄▂▂▃▃▄▃▂▂▂▂▁▁▄▂▃▁▁▁▂▂▁▁▂▁▁▂▃▁▁</td></tr><tr><td>_runtime</td><td>▁▁▂▂▂▂▃▃▃▃▃▃▃▃▃▄▄▄▄▄▅▅▅▅▆▆▆▆▆▆▆▆▆▆▇▇▇▇▇█</td></tr><tr><td>_timestamp</td><td>▁▁▂▂▂▂▃▃▃▃▃▃▃▃▃▄▄▄▄▄▅▅▅▅▆▆▆▆▆▆▆▆▆▆▇▇▇▇▇█</td></tr><tr><td>_step</td><td>▁▁▁▁▂▂▂▂▂▃▃▃▃▃▃▄▄▄▄▄▅▅▅▅▅▅▆▆▆▆▆▇▇▇▇▇▇███</td></tr></table><br/>"
            ],
            "text/plain": [
              "<IPython.core.display.HTML object>"
            ]
          },
          "metadata": {
            "tags": []
          }
        },
        {
          "output_type": "display_data",
          "data": {
            "text/html": [
              "Synced 5 W&B file(s), 1 media file(s), 2 artifact file(s) and 2 other file(s)"
            ],
            "text/plain": [
              "<IPython.core.display.HTML object>"
            ]
          },
          "metadata": {
            "tags": []
          }
        },
        {
          "output_type": "display_data",
          "data": {
            "text/html": [
              "\n",
              "                    <br/>Synced <strong style=\"color:#cdcd00\">usual-sweep-27</strong>: <a href=\"https://wandb.ai/acse-jaq15/ACSE_9_CNN_LSTM/runs/piwbi9ku\" target=\"_blank\">https://wandb.ai/acse-jaq15/ACSE_9_CNN_LSTM/runs/piwbi9ku</a><br/>\n",
              "                "
            ],
            "text/plain": [
              "<IPython.core.display.HTML object>"
            ]
          },
          "metadata": {
            "tags": []
          }
        },
        {
          "output_type": "stream",
          "text": [
            "\u001b[34m\u001b[1mwandb\u001b[0m: Agent Starting Run: q60f6unl with config:\n",
            "\u001b[34m\u001b[1mwandb\u001b[0m: \tactivation: relu\n",
            "\u001b[34m\u001b[1mwandb\u001b[0m: \tbatch_size: 32\n",
            "\u001b[34m\u001b[1mwandb\u001b[0m: \tepochs: 50\n",
            "\u001b[34m\u001b[1mwandb\u001b[0m: \tlearning_rate: 0.005\n",
            "\u001b[34m\u001b[1mwandb\u001b[0m: \toptimizer: adam\n"
          ],
          "name": "stderr"
        },
        {
          "output_type": "display_data",
          "data": {
            "text/html": [
              "\n",
              "                Tracking run with wandb version 0.11.0<br/>\n",
              "                Syncing run <strong style=\"color:#cdcd00\">expert-sweep-28</strong> to <a href=\"https://wandb.ai\" target=\"_blank\">Weights & Biases</a> <a href=\"https://docs.wandb.com/integrations/jupyter.html\" target=\"_blank\">(Documentation)</a>.<br/>\n",
              "                Project page: <a href=\"https://wandb.ai/acse-jaq15/ACSE_9_CNN_LSTM\" target=\"_blank\">https://wandb.ai/acse-jaq15/ACSE_9_CNN_LSTM</a><br/>\n",
              "                Sweep page: <a href=\"https://wandb.ai/acse-jaq15/ACSE_9_CNN_LSTM/sweeps/leuxhbp3\" target=\"_blank\">https://wandb.ai/acse-jaq15/ACSE_9_CNN_LSTM/sweeps/leuxhbp3</a><br/>\n",
              "Run page: <a href=\"https://wandb.ai/acse-jaq15/ACSE_9_CNN_LSTM/runs/q60f6unl\" target=\"_blank\">https://wandb.ai/acse-jaq15/ACSE_9_CNN_LSTM/runs/q60f6unl</a><br/>\n",
              "                Run data is saved locally in <code>/content/feeder_repo/wandb/run-20210721_154351-q60f6unl</code><br/><br/>\n",
              "            "
            ],
            "text/plain": [
              "<IPython.core.display.HTML object>"
            ]
          },
          "metadata": {
            "tags": []
          }
        },
        {
          "output_type": "stream",
          "text": [
            "Epoch 1/50\n",
            "32/32 [==============================] - 5s 45ms/step - loss: 0.0426 - mean_squared_error: 0.0426 - mean_absolute_error: 0.1330 - val_loss: 0.0113 - val_mean_squared_error: 0.0113 - val_mean_absolute_error: 0.0818\n",
            "Epoch 2/50\n",
            "32/32 [==============================] - 0s 9ms/step - loss: 0.0036 - mean_squared_error: 0.0036 - mean_absolute_error: 0.0476 - val_loss: 0.0095 - val_mean_squared_error: 0.0095 - val_mean_absolute_error: 0.0727\n",
            "Epoch 3/50\n",
            "32/32 [==============================] - 0s 11ms/step - loss: 0.0026 - mean_squared_error: 0.0026 - mean_absolute_error: 0.0408 - val_loss: 0.0088 - val_mean_squared_error: 0.0088 - val_mean_absolute_error: 0.0701\n",
            "Epoch 4/50\n",
            "32/32 [==============================] - 0s 12ms/step - loss: 0.0023 - mean_squared_error: 0.0023 - mean_absolute_error: 0.0370 - val_loss: 0.0065 - val_mean_squared_error: 0.0065 - val_mean_absolute_error: 0.0624\n",
            "Epoch 5/50\n",
            "32/32 [==============================] - 0s 9ms/step - loss: 0.0021 - mean_squared_error: 0.0021 - mean_absolute_error: 0.0356 - val_loss: 0.0056 - val_mean_squared_error: 0.0056 - val_mean_absolute_error: 0.0598\n",
            "Epoch 6/50\n",
            "32/32 [==============================] - 0s 9ms/step - loss: 0.0022 - mean_squared_error: 0.0022 - mean_absolute_error: 0.0363 - val_loss: 0.0069 - val_mean_squared_error: 0.0069 - val_mean_absolute_error: 0.0639\n",
            "Epoch 7/50\n",
            "32/32 [==============================] - 0s 11ms/step - loss: 0.0017 - mean_squared_error: 0.0017 - mean_absolute_error: 0.0327 - val_loss: 0.0048 - val_mean_squared_error: 0.0048 - val_mean_absolute_error: 0.0556\n",
            "Epoch 8/50\n",
            "32/32 [==============================] - 0s 9ms/step - loss: 0.0018 - mean_squared_error: 0.0018 - mean_absolute_error: 0.0334 - val_loss: 0.0052 - val_mean_squared_error: 0.0052 - val_mean_absolute_error: 0.0570\n",
            "Epoch 9/50\n",
            "32/32 [==============================] - 0s 9ms/step - loss: 0.0016 - mean_squared_error: 0.0016 - mean_absolute_error: 0.0316 - val_loss: 0.0054 - val_mean_squared_error: 0.0054 - val_mean_absolute_error: 0.0581\n",
            "Epoch 10/50\n",
            "32/32 [==============================] - 0s 9ms/step - loss: 0.0017 - mean_squared_error: 0.0017 - mean_absolute_error: 0.0317 - val_loss: 0.0049 - val_mean_squared_error: 0.0049 - val_mean_absolute_error: 0.0560\n",
            "Epoch 11/50\n",
            "32/32 [==============================] - 0s 9ms/step - loss: 0.0016 - mean_squared_error: 0.0016 - mean_absolute_error: 0.0308 - val_loss: 0.0044 - val_mean_squared_error: 0.0044 - val_mean_absolute_error: 0.0540\n",
            "Epoch 12/50\n",
            "32/32 [==============================] - 0s 9ms/step - loss: 0.0015 - mean_squared_error: 0.0015 - mean_absolute_error: 0.0301 - val_loss: 0.0046 - val_mean_squared_error: 0.0046 - val_mean_absolute_error: 0.0551\n",
            "Epoch 13/50\n",
            "32/32 [==============================] - 0s 10ms/step - loss: 0.0013 - mean_squared_error: 0.0013 - mean_absolute_error: 0.0286 - val_loss: 0.0075 - val_mean_squared_error: 0.0075 - val_mean_absolute_error: 0.0686\n",
            "Epoch 14/50\n",
            "32/32 [==============================] - 0s 10ms/step - loss: 0.0016 - mean_squared_error: 0.0016 - mean_absolute_error: 0.0312 - val_loss: 0.0044 - val_mean_squared_error: 0.0044 - val_mean_absolute_error: 0.0535\n",
            "Epoch 15/50\n",
            "32/32 [==============================] - 0s 10ms/step - loss: 0.0014 - mean_squared_error: 0.0014 - mean_absolute_error: 0.0291 - val_loss: 0.0043 - val_mean_squared_error: 0.0043 - val_mean_absolute_error: 0.0540\n",
            "Epoch 16/50\n",
            "32/32 [==============================] - 0s 11ms/step - loss: 0.0013 - mean_squared_error: 0.0013 - mean_absolute_error: 0.0287 - val_loss: 0.0047 - val_mean_squared_error: 0.0047 - val_mean_absolute_error: 0.0560\n",
            "Epoch 17/50\n",
            "32/32 [==============================] - 0s 9ms/step - loss: 0.0011 - mean_squared_error: 0.0011 - mean_absolute_error: 0.0258 - val_loss: 0.0047 - val_mean_squared_error: 0.0047 - val_mean_absolute_error: 0.0550\n",
            "Epoch 18/50\n",
            "32/32 [==============================] - 0s 9ms/step - loss: 0.0017 - mean_squared_error: 0.0017 - mean_absolute_error: 0.0317 - val_loss: 0.0046 - val_mean_squared_error: 0.0046 - val_mean_absolute_error: 0.0550\n",
            "Epoch 19/50\n",
            "32/32 [==============================] - 0s 9ms/step - loss: 0.0013 - mean_squared_error: 0.0013 - mean_absolute_error: 0.0283 - val_loss: 0.0046 - val_mean_squared_error: 0.0046 - val_mean_absolute_error: 0.0555\n",
            "Epoch 20/50\n",
            "32/32 [==============================] - 0s 10ms/step - loss: 0.0013 - mean_squared_error: 0.0013 - mean_absolute_error: 0.0285 - val_loss: 0.0047 - val_mean_squared_error: 0.0047 - val_mean_absolute_error: 0.0558\n",
            "Epoch 21/50\n",
            "32/32 [==============================] - 0s 11ms/step - loss: 0.0016 - mean_squared_error: 0.0016 - mean_absolute_error: 0.0302 - val_loss: 0.0045 - val_mean_squared_error: 0.0045 - val_mean_absolute_error: 0.0540\n",
            "Epoch 22/50\n",
            "32/32 [==============================] - 0s 10ms/step - loss: 0.0021 - mean_squared_error: 0.0021 - mean_absolute_error: 0.0356 - val_loss: 0.0042 - val_mean_squared_error: 0.0042 - val_mean_absolute_error: 0.0524\n",
            "Epoch 23/50\n",
            "32/32 [==============================] - 0s 10ms/step - loss: 0.0016 - mean_squared_error: 0.0016 - mean_absolute_error: 0.0310 - val_loss: 0.0043 - val_mean_squared_error: 0.0043 - val_mean_absolute_error: 0.0536\n",
            "Epoch 24/50\n",
            "32/32 [==============================] - 0s 10ms/step - loss: 0.0020 - mean_squared_error: 0.0020 - mean_absolute_error: 0.0341 - val_loss: 0.0053 - val_mean_squared_error: 0.0053 - val_mean_absolute_error: 0.0584\n",
            "Epoch 25/50\n",
            "32/32 [==============================] - 0s 10ms/step - loss: 0.0012 - mean_squared_error: 0.0012 - mean_absolute_error: 0.0274 - val_loss: 0.0058 - val_mean_squared_error: 0.0058 - val_mean_absolute_error: 0.0609\n",
            "Epoch 26/50\n",
            "32/32 [==============================] - 0s 9ms/step - loss: 0.0013 - mean_squared_error: 0.0013 - mean_absolute_error: 0.0277 - val_loss: 0.0042 - val_mean_squared_error: 0.0042 - val_mean_absolute_error: 0.0533\n",
            "Epoch 27/50\n",
            "32/32 [==============================] - 0s 11ms/step - loss: 0.0011 - mean_squared_error: 0.0011 - mean_absolute_error: 0.0264 - val_loss: 0.0061 - val_mean_squared_error: 0.0061 - val_mean_absolute_error: 0.0624\n",
            "Epoch 28/50\n",
            "32/32 [==============================] - 0s 10ms/step - loss: 0.0012 - mean_squared_error: 0.0012 - mean_absolute_error: 0.0274 - val_loss: 0.0055 - val_mean_squared_error: 0.0055 - val_mean_absolute_error: 0.0593\n",
            "Epoch 29/50\n",
            "32/32 [==============================] - 0s 11ms/step - loss: 0.0013 - mean_squared_error: 0.0013 - mean_absolute_error: 0.0276 - val_loss: 0.0054 - val_mean_squared_error: 0.0054 - val_mean_absolute_error: 0.0590\n",
            "Epoch 30/50\n",
            "32/32 [==============================] - 0s 11ms/step - loss: 0.0017 - mean_squared_error: 0.0017 - mean_absolute_error: 0.0317 - val_loss: 0.0050 - val_mean_squared_error: 0.0050 - val_mean_absolute_error: 0.0576\n",
            "Epoch 31/50\n",
            "32/32 [==============================] - 0s 9ms/step - loss: 0.0013 - mean_squared_error: 0.0013 - mean_absolute_error: 0.0287 - val_loss: 0.0070 - val_mean_squared_error: 0.0070 - val_mean_absolute_error: 0.0662\n",
            "Epoch 32/50\n",
            "32/32 [==============================] - 0s 9ms/step - loss: 0.0013 - mean_squared_error: 0.0013 - mean_absolute_error: 0.0277 - val_loss: 0.0052 - val_mean_squared_error: 0.0052 - val_mean_absolute_error: 0.0582\n"
          ],
          "name": "stdout"
        },
        {
          "output_type": "display_data",
          "data": {
            "text/html": [
              "<br/>Waiting for W&B process to finish, PID 7003<br/>Program ended successfully."
            ],
            "text/plain": [
              "<IPython.core.display.HTML object>"
            ]
          },
          "metadata": {
            "tags": []
          }
        },
        {
          "output_type": "display_data",
          "data": {
            "application/vnd.jupyter.widget-view+json": {
              "model_id": "0568d1c47e364879ba76d7c12a246b53",
              "version_minor": 0,
              "version_major": 2
            },
            "text/plain": [
              "VBox(children=(Label(value=' 11.71MB of 11.71MB uploaded (0.00MB deduped)\\r'), FloatProgress(value=1.0, max=1.…"
            ]
          },
          "metadata": {
            "tags": []
          }
        },
        {
          "output_type": "display_data",
          "data": {
            "text/html": [
              "Find user logs for this run at: <code>/content/feeder_repo/wandb/run-20210721_154351-q60f6unl/logs/debug.log</code>"
            ],
            "text/plain": [
              "<IPython.core.display.HTML object>"
            ]
          },
          "metadata": {
            "tags": []
          }
        },
        {
          "output_type": "display_data",
          "data": {
            "text/html": [
              "Find internal logs for this run at: <code>/content/feeder_repo/wandb/run-20210721_154351-q60f6unl/logs/debug-internal.log</code>"
            ],
            "text/plain": [
              "<IPython.core.display.HTML object>"
            ]
          },
          "metadata": {
            "tags": []
          }
        },
        {
          "output_type": "display_data",
          "data": {
            "text/html": [
              "<h3>Run summary:</h3><br/><style>\n",
              "    table.wandb td:nth-child(1) { padding: 0 10px; text-align: right }\n",
              "    </style><table class=\"wandb\">\n",
              "<tr><td>epoch</td><td>31</td></tr><tr><td>loss</td><td>0.00113</td></tr><tr><td>mean_squared_error</td><td>0.00113</td></tr><tr><td>mean_absolute_error</td><td>0.02634</td></tr><tr><td>val_loss</td><td>0.00525</td></tr><tr><td>val_mean_squared_error</td><td>0.00525</td></tr><tr><td>val_mean_absolute_error</td><td>0.05815</td></tr><tr><td>_runtime</td><td>20</td></tr><tr><td>_timestamp</td><td>1626882251</td></tr><tr><td>_step</td><td>31</td></tr><tr><td>best_val_loss</td><td>0.00417</td></tr><tr><td>best_epoch</td><td>21</td></tr></table>"
            ],
            "text/plain": [
              "<IPython.core.display.HTML object>"
            ]
          },
          "metadata": {
            "tags": []
          }
        },
        {
          "output_type": "display_data",
          "data": {
            "text/html": [
              "<h3>Run history:</h3><br/><style>\n",
              "    table.wandb td:nth-child(1) { padding: 0 10px; text-align: right }\n",
              "    </style><table class=\"wandb\">\n",
              "<tr><td>epoch</td><td>▁▁▁▂▂▂▂▃▃▃▃▃▄▄▄▄▅▅▅▅▆▆▆▆▆▇▇▇▇███</td></tr><tr><td>loss</td><td>█▂▂▁▁▁▁▁▁▁▁▁▁▁▁▁▁▁▁▁▁▁▁▁▁▁▁▁▁▁▁▁</td></tr><tr><td>mean_squared_error</td><td>█▂▂▁▁▁▁▁▁▁▁▁▁▁▁▁▁▁▁▁▁▁▁▁▁▁▁▁▁▁▁▁</td></tr><tr><td>mean_absolute_error</td><td>█▃▃▂▂▂▂▂▂▂▂▁▁▁▁▁▁▁▁▁▂▂▂▂▁▁▁▁▁▂▁▁</td></tr><tr><td>val_loss</td><td>█▆▆▃▂▄▂▂▂▂▁▁▄▁▁▂▁▁▁▁▁▁▁▂▃▁▃▂▂▂▄▂</td></tr><tr><td>val_mean_squared_error</td><td>█▆▆▃▂▄▂▂▂▂▁▁▄▁▁▂▁▁▁▁▁▁▁▂▃▁▃▂▂▂▄▂</td></tr><tr><td>val_mean_absolute_error</td><td>█▆▅▃▃▄▂▂▂▂▁▂▅▁▁▂▂▂▂▂▁▁▁▂▃▁▃▃▃▂▄▂</td></tr><tr><td>_runtime</td><td>▁▁▂▂▂▂▂▃▃▃▃▄▄▄▄▄▅▅▅▅▅▅▆▆▆▇▇▇▇▇▇█</td></tr><tr><td>_timestamp</td><td>▁▁▂▂▂▂▂▃▃▃▃▄▄▄▄▄▅▅▅▅▅▅▆▆▆▇▇▇▇▇▇█</td></tr><tr><td>_step</td><td>▁▁▁▂▂▂▂▃▃▃▃▃▄▄▄▄▅▅▅▅▆▆▆▆▆▇▇▇▇███</td></tr></table><br/>"
            ],
            "text/plain": [
              "<IPython.core.display.HTML object>"
            ]
          },
          "metadata": {
            "tags": []
          }
        },
        {
          "output_type": "display_data",
          "data": {
            "text/html": [
              "Synced 5 W&B file(s), 1 media file(s), 2 artifact file(s) and 2 other file(s)"
            ],
            "text/plain": [
              "<IPython.core.display.HTML object>"
            ]
          },
          "metadata": {
            "tags": []
          }
        },
        {
          "output_type": "display_data",
          "data": {
            "text/html": [
              "\n",
              "                    <br/>Synced <strong style=\"color:#cdcd00\">expert-sweep-28</strong>: <a href=\"https://wandb.ai/acse-jaq15/ACSE_9_CNN_LSTM/runs/q60f6unl\" target=\"_blank\">https://wandb.ai/acse-jaq15/ACSE_9_CNN_LSTM/runs/q60f6unl</a><br/>\n",
              "                "
            ],
            "text/plain": [
              "<IPython.core.display.HTML object>"
            ]
          },
          "metadata": {
            "tags": []
          }
        },
        {
          "output_type": "stream",
          "text": [
            "\u001b[34m\u001b[1mwandb\u001b[0m: Agent Starting Run: 7edjiqai with config:\n",
            "\u001b[34m\u001b[1mwandb\u001b[0m: \tactivation: relu\n",
            "\u001b[34m\u001b[1mwandb\u001b[0m: \tbatch_size: 64\n",
            "\u001b[34m\u001b[1mwandb\u001b[0m: \tepochs: 100\n",
            "\u001b[34m\u001b[1mwandb\u001b[0m: \tlearning_rate: 0.001\n",
            "\u001b[34m\u001b[1mwandb\u001b[0m: \toptimizer: rmsprop\n"
          ],
          "name": "stderr"
        },
        {
          "output_type": "display_data",
          "data": {
            "text/html": [
              "\n",
              "                Tracking run with wandb version 0.11.0<br/>\n",
              "                Syncing run <strong style=\"color:#cdcd00\">toasty-sweep-29</strong> to <a href=\"https://wandb.ai\" target=\"_blank\">Weights & Biases</a> <a href=\"https://docs.wandb.com/integrations/jupyter.html\" target=\"_blank\">(Documentation)</a>.<br/>\n",
              "                Project page: <a href=\"https://wandb.ai/acse-jaq15/ACSE_9_CNN_LSTM\" target=\"_blank\">https://wandb.ai/acse-jaq15/ACSE_9_CNN_LSTM</a><br/>\n",
              "                Sweep page: <a href=\"https://wandb.ai/acse-jaq15/ACSE_9_CNN_LSTM/sweeps/leuxhbp3\" target=\"_blank\">https://wandb.ai/acse-jaq15/ACSE_9_CNN_LSTM/sweeps/leuxhbp3</a><br/>\n",
              "Run page: <a href=\"https://wandb.ai/acse-jaq15/ACSE_9_CNN_LSTM/runs/7edjiqai\" target=\"_blank\">https://wandb.ai/acse-jaq15/ACSE_9_CNN_LSTM/runs/7edjiqai</a><br/>\n",
              "                Run data is saved locally in <code>/content/feeder_repo/wandb/run-20210721_154420-7edjiqai</code><br/><br/>\n",
              "            "
            ],
            "text/plain": [
              "<IPython.core.display.HTML object>"
            ]
          },
          "metadata": {
            "tags": []
          }
        },
        {
          "output_type": "stream",
          "text": [
            "Epoch 1/100\n",
            "16/16 [==============================] - 5s 82ms/step - loss: 0.0489 - mean_squared_error: 0.0489 - mean_absolute_error: 0.1282 - val_loss: 0.0102 - val_mean_squared_error: 0.0102 - val_mean_absolute_error: 0.0833\n",
            "Epoch 2/100\n",
            "16/16 [==============================] - 0s 14ms/step - loss: 0.0089 - mean_squared_error: 0.0089 - mean_absolute_error: 0.0695 - val_loss: 0.0129 - val_mean_squared_error: 0.0129 - val_mean_absolute_error: 0.0905\n",
            "Epoch 3/100\n",
            "16/16 [==============================] - 0s 10ms/step - loss: 0.0072 - mean_squared_error: 0.0072 - mean_absolute_error: 0.0657 - val_loss: 0.0106 - val_mean_squared_error: 0.0106 - val_mean_absolute_error: 0.0840\n",
            "Epoch 4/100\n",
            "16/16 [==============================] - 0s 9ms/step - loss: 0.0071 - mean_squared_error: 0.0071 - mean_absolute_error: 0.0636 - val_loss: 0.0094 - val_mean_squared_error: 0.0094 - val_mean_absolute_error: 0.0790\n",
            "Epoch 5/100\n",
            "16/16 [==============================] - 0s 12ms/step - loss: 0.0040 - mean_squared_error: 0.0040 - mean_absolute_error: 0.0484 - val_loss: 0.0108 - val_mean_squared_error: 0.0108 - val_mean_absolute_error: 0.0756\n",
            "Epoch 6/100\n",
            "16/16 [==============================] - 0s 8ms/step - loss: 0.0037 - mean_squared_error: 0.0037 - mean_absolute_error: 0.0436 - val_loss: 0.0169 - val_mean_squared_error: 0.0169 - val_mean_absolute_error: 0.1001\n",
            "Epoch 7/100\n",
            "16/16 [==============================] - 0s 10ms/step - loss: 0.0035 - mean_squared_error: 0.0035 - mean_absolute_error: 0.0442 - val_loss: 0.0192 - val_mean_squared_error: 0.0192 - val_mean_absolute_error: 0.1088\n",
            "Epoch 8/100\n",
            "16/16 [==============================] - 0s 12ms/step - loss: 0.0085 - mean_squared_error: 0.0085 - mean_absolute_error: 0.0653 - val_loss: 0.0257 - val_mean_squared_error: 0.0257 - val_mean_absolute_error: 0.1284\n",
            "Epoch 9/100\n",
            "16/16 [==============================] - 0s 10ms/step - loss: 0.0067 - mean_squared_error: 0.0067 - mean_absolute_error: 0.0566 - val_loss: 0.0281 - val_mean_squared_error: 0.0281 - val_mean_absolute_error: 0.1368\n",
            "Epoch 10/100\n",
            "16/16 [==============================] - 0s 10ms/step - loss: 0.0050 - mean_squared_error: 0.0050 - mean_absolute_error: 0.0551 - val_loss: 0.0070 - val_mean_squared_error: 0.0070 - val_mean_absolute_error: 0.0686\n",
            "Epoch 11/100\n",
            "16/16 [==============================] - 0s 10ms/step - loss: 0.0047 - mean_squared_error: 0.0047 - mean_absolute_error: 0.0524 - val_loss: 0.0064 - val_mean_squared_error: 0.0064 - val_mean_absolute_error: 0.0598\n",
            "Epoch 12/100\n",
            "16/16 [==============================] - 0s 11ms/step - loss: 0.0033 - mean_squared_error: 0.0033 - mean_absolute_error: 0.0431 - val_loss: 0.0060 - val_mean_squared_error: 0.0060 - val_mean_absolute_error: 0.0624\n",
            "Epoch 13/100\n",
            "16/16 [==============================] - 0s 11ms/step - loss: 0.0025 - mean_squared_error: 0.0025 - mean_absolute_error: 0.0377 - val_loss: 0.0074 - val_mean_squared_error: 0.0074 - val_mean_absolute_error: 0.0632\n",
            "Epoch 14/100\n",
            "16/16 [==============================] - 0s 9ms/step - loss: 0.0033 - mean_squared_error: 0.0033 - mean_absolute_error: 0.0426 - val_loss: 0.0070 - val_mean_squared_error: 0.0070 - val_mean_absolute_error: 0.0617\n",
            "Epoch 15/100\n",
            "16/16 [==============================] - 0s 10ms/step - loss: 0.0023 - mean_squared_error: 0.0023 - mean_absolute_error: 0.0353 - val_loss: 0.0115 - val_mean_squared_error: 0.0115 - val_mean_absolute_error: 0.0810\n",
            "Epoch 16/100\n",
            "16/16 [==============================] - 0s 12ms/step - loss: 0.0037 - mean_squared_error: 0.0037 - mean_absolute_error: 0.0469 - val_loss: 0.0063 - val_mean_squared_error: 0.0063 - val_mean_absolute_error: 0.0598\n",
            "Epoch 17/100\n",
            "16/16 [==============================] - 0s 10ms/step - loss: 0.0024 - mean_squared_error: 0.0024 - mean_absolute_error: 0.0369 - val_loss: 0.0147 - val_mean_squared_error: 0.0147 - val_mean_absolute_error: 0.0951\n",
            "Epoch 18/100\n",
            "16/16 [==============================] - 0s 10ms/step - loss: 0.0045 - mean_squared_error: 0.0045 - mean_absolute_error: 0.0492 - val_loss: 0.0091 - val_mean_squared_error: 0.0091 - val_mean_absolute_error: 0.0707\n",
            "Epoch 19/100\n",
            "16/16 [==============================] - 0s 12ms/step - loss: 0.0032 - mean_squared_error: 0.0032 - mean_absolute_error: 0.0443 - val_loss: 0.0060 - val_mean_squared_error: 0.0060 - val_mean_absolute_error: 0.0586\n",
            "Epoch 20/100\n",
            "16/16 [==============================] - 0s 11ms/step - loss: 0.0024 - mean_squared_error: 0.0024 - mean_absolute_error: 0.0372 - val_loss: 0.0085 - val_mean_squared_error: 0.0085 - val_mean_absolute_error: 0.0746\n",
            "Epoch 21/100\n",
            "16/16 [==============================] - 0s 12ms/step - loss: 0.0023 - mean_squared_error: 0.0023 - mean_absolute_error: 0.0371 - val_loss: 0.0088 - val_mean_squared_error: 0.0088 - val_mean_absolute_error: 0.0694\n",
            "Epoch 22/100\n",
            "16/16 [==============================] - 0s 11ms/step - loss: 0.0021 - mean_squared_error: 0.0021 - mean_absolute_error: 0.0348 - val_loss: 0.0176 - val_mean_squared_error: 0.0176 - val_mean_absolute_error: 0.1046\n",
            "Epoch 23/100\n",
            "16/16 [==============================] - 0s 10ms/step - loss: 0.0036 - mean_squared_error: 0.0036 - mean_absolute_error: 0.0446 - val_loss: 0.0077 - val_mean_squared_error: 0.0077 - val_mean_absolute_error: 0.0651\n",
            "Epoch 24/100\n",
            "16/16 [==============================] - 0s 10ms/step - loss: 0.0016 - mean_squared_error: 0.0016 - mean_absolute_error: 0.0312 - val_loss: 0.0098 - val_mean_squared_error: 0.0098 - val_mean_absolute_error: 0.0742\n",
            "Epoch 25/100\n",
            "16/16 [==============================] - 0s 10ms/step - loss: 0.0024 - mean_squared_error: 0.0024 - mean_absolute_error: 0.0387 - val_loss: 0.0063 - val_mean_squared_error: 0.0063 - val_mean_absolute_error: 0.0661\n",
            "Epoch 26/100\n",
            "16/16 [==============================] - 0s 11ms/step - loss: 0.0032 - mean_squared_error: 0.0032 - mean_absolute_error: 0.0427 - val_loss: 0.0058 - val_mean_squared_error: 0.0058 - val_mean_absolute_error: 0.0581\n",
            "Epoch 27/100\n",
            "16/16 [==============================] - 0s 11ms/step - loss: 0.0018 - mean_squared_error: 0.0018 - mean_absolute_error: 0.0321 - val_loss: 0.0056 - val_mean_squared_error: 0.0056 - val_mean_absolute_error: 0.0576\n",
            "Epoch 28/100\n",
            "16/16 [==============================] - 0s 10ms/step - loss: 0.0018 - mean_squared_error: 0.0018 - mean_absolute_error: 0.0310 - val_loss: 0.0066 - val_mean_squared_error: 0.0066 - val_mean_absolute_error: 0.0612\n",
            "Epoch 29/100\n",
            "16/16 [==============================] - 0s 10ms/step - loss: 0.0018 - mean_squared_error: 0.0018 - mean_absolute_error: 0.0333 - val_loss: 0.0052 - val_mean_squared_error: 0.0052 - val_mean_absolute_error: 0.0559\n",
            "Epoch 30/100\n",
            "16/16 [==============================] - 0s 10ms/step - loss: 0.0018 - mean_squared_error: 0.0018 - mean_absolute_error: 0.0320 - val_loss: 0.0075 - val_mean_squared_error: 0.0075 - val_mean_absolute_error: 0.0649\n",
            "Epoch 31/100\n",
            "16/16 [==============================] - 0s 12ms/step - loss: 0.0018 - mean_squared_error: 0.0018 - mean_absolute_error: 0.0333 - val_loss: 0.0054 - val_mean_squared_error: 0.0054 - val_mean_absolute_error: 0.0566\n",
            "Epoch 32/100\n",
            "16/16 [==============================] - 0s 11ms/step - loss: 0.0015 - mean_squared_error: 0.0015 - mean_absolute_error: 0.0297 - val_loss: 0.0049 - val_mean_squared_error: 0.0049 - val_mean_absolute_error: 0.0566\n",
            "Epoch 33/100\n",
            "16/16 [==============================] - 0s 10ms/step - loss: 0.0016 - mean_squared_error: 0.0016 - mean_absolute_error: 0.0305 - val_loss: 0.0054 - val_mean_squared_error: 0.0054 - val_mean_absolute_error: 0.0562\n",
            "Epoch 34/100\n",
            "16/16 [==============================] - 0s 11ms/step - loss: 0.0013 - mean_squared_error: 0.0013 - mean_absolute_error: 0.0274 - val_loss: 0.0149 - val_mean_squared_error: 0.0149 - val_mean_absolute_error: 0.0955\n",
            "Epoch 35/100\n",
            "16/16 [==============================] - 0s 10ms/step - loss: 0.0032 - mean_squared_error: 0.0032 - mean_absolute_error: 0.0421 - val_loss: 0.0067 - val_mean_squared_error: 0.0067 - val_mean_absolute_error: 0.0660\n",
            "Epoch 36/100\n",
            "16/16 [==============================] - 0s 12ms/step - loss: 0.0021 - mean_squared_error: 0.0021 - mean_absolute_error: 0.0343 - val_loss: 0.0138 - val_mean_squared_error: 0.0138 - val_mean_absolute_error: 0.0908\n",
            "Epoch 37/100\n",
            "16/16 [==============================] - 0s 11ms/step - loss: 0.0028 - mean_squared_error: 0.0028 - mean_absolute_error: 0.0389 - val_loss: 0.0057 - val_mean_squared_error: 0.0057 - val_mean_absolute_error: 0.0619\n",
            "Epoch 38/100\n",
            "16/16 [==============================] - 0s 11ms/step - loss: 0.0022 - mean_squared_error: 0.0022 - mean_absolute_error: 0.0360 - val_loss: 0.0054 - val_mean_squared_error: 0.0054 - val_mean_absolute_error: 0.0563\n",
            "Epoch 39/100\n",
            "16/16 [==============================] - 0s 9ms/step - loss: 0.0019 - mean_squared_error: 0.0019 - mean_absolute_error: 0.0328 - val_loss: 0.0047 - val_mean_squared_error: 0.0047 - val_mean_absolute_error: 0.0541\n",
            "Epoch 40/100\n",
            "16/16 [==============================] - 0s 11ms/step - loss: 0.0019 - mean_squared_error: 0.0019 - mean_absolute_error: 0.0321 - val_loss: 0.0050 - val_mean_squared_error: 0.0050 - val_mean_absolute_error: 0.0547\n",
            "Epoch 41/100\n",
            "16/16 [==============================] - 0s 11ms/step - loss: 0.0017 - mean_squared_error: 0.0017 - mean_absolute_error: 0.0300 - val_loss: 0.0049 - val_mean_squared_error: 0.0049 - val_mean_absolute_error: 0.0549\n",
            "Epoch 42/100\n",
            "16/16 [==============================] - 0s 11ms/step - loss: 0.0012 - mean_squared_error: 0.0012 - mean_absolute_error: 0.0264 - val_loss: 0.0056 - val_mean_squared_error: 0.0056 - val_mean_absolute_error: 0.0572\n",
            "Epoch 43/100\n",
            "16/16 [==============================] - 0s 10ms/step - loss: 0.0019 - mean_squared_error: 0.0019 - mean_absolute_error: 0.0331 - val_loss: 0.0054 - val_mean_squared_error: 0.0054 - val_mean_absolute_error: 0.0562\n",
            "Epoch 44/100\n",
            "16/16 [==============================] - 0s 11ms/step - loss: 0.0015 - mean_squared_error: 0.0015 - mean_absolute_error: 0.0294 - val_loss: 0.0047 - val_mean_squared_error: 0.0047 - val_mean_absolute_error: 0.0535\n",
            "Epoch 45/100\n",
            "16/16 [==============================] - 0s 11ms/step - loss: 0.0013 - mean_squared_error: 0.0013 - mean_absolute_error: 0.0273 - val_loss: 0.0072 - val_mean_squared_error: 0.0072 - val_mean_absolute_error: 0.0649\n",
            "Epoch 46/100\n",
            "16/16 [==============================] - 0s 10ms/step - loss: 0.0016 - mean_squared_error: 0.0016 - mean_absolute_error: 0.0309 - val_loss: 0.0048 - val_mean_squared_error: 0.0048 - val_mean_absolute_error: 0.0539\n",
            "Epoch 47/100\n",
            "16/16 [==============================] - 0s 12ms/step - loss: 0.0017 - mean_squared_error: 0.0017 - mean_absolute_error: 0.0322 - val_loss: 0.0049 - val_mean_squared_error: 0.0049 - val_mean_absolute_error: 0.0547\n",
            "Epoch 48/100\n",
            "16/16 [==============================] - 1s 38ms/step - loss: 0.0018 - mean_squared_error: 0.0018 - mean_absolute_error: 0.0315 - val_loss: 0.0113 - val_mean_squared_error: 0.0113 - val_mean_absolute_error: 0.0812\n",
            "Epoch 49/100\n",
            "16/16 [==============================] - 0s 20ms/step - loss: 0.0018 - mean_squared_error: 0.0018 - mean_absolute_error: 0.0320 - val_loss: 0.0057 - val_mean_squared_error: 0.0057 - val_mean_absolute_error: 0.0575\n",
            "Epoch 50/100\n",
            "16/16 [==============================] - 0s 10ms/step - loss: 0.0017 - mean_squared_error: 0.0017 - mean_absolute_error: 0.0322 - val_loss: 0.0072 - val_mean_squared_error: 0.0072 - val_mean_absolute_error: 0.0648\n",
            "Epoch 51/100\n",
            "16/16 [==============================] - 0s 11ms/step - loss: 0.0016 - mean_squared_error: 0.0016 - mean_absolute_error: 0.0292 - val_loss: 0.0050 - val_mean_squared_error: 0.0050 - val_mean_absolute_error: 0.0546\n",
            "Epoch 52/100\n",
            "16/16 [==============================] - 0s 12ms/step - loss: 0.0011 - mean_squared_error: 0.0011 - mean_absolute_error: 0.0254 - val_loss: 0.0093 - val_mean_squared_error: 0.0093 - val_mean_absolute_error: 0.0739\n",
            "Epoch 53/100\n",
            "16/16 [==============================] - 0s 11ms/step - loss: 0.0020 - mean_squared_error: 0.0020 - mean_absolute_error: 0.0329 - val_loss: 0.0043 - val_mean_squared_error: 0.0043 - val_mean_absolute_error: 0.0536\n",
            "Epoch 54/100\n",
            "16/16 [==============================] - 0s 13ms/step - loss: 0.0016 - mean_squared_error: 0.0016 - mean_absolute_error: 0.0302 - val_loss: 0.0039 - val_mean_squared_error: 0.0039 - val_mean_absolute_error: 0.0501\n",
            "Epoch 55/100\n",
            "16/16 [==============================] - 0s 11ms/step - loss: 0.0018 - mean_squared_error: 0.0018 - mean_absolute_error: 0.0319 - val_loss: 0.0049 - val_mean_squared_error: 0.0049 - val_mean_absolute_error: 0.0543\n",
            "Epoch 56/100\n",
            "16/16 [==============================] - 0s 11ms/step - loss: 0.0016 - mean_squared_error: 0.0016 - mean_absolute_error: 0.0305 - val_loss: 0.0068 - val_mean_squared_error: 0.0068 - val_mean_absolute_error: 0.0633\n",
            "Epoch 57/100\n",
            "16/16 [==============================] - 0s 10ms/step - loss: 0.0014 - mean_squared_error: 0.0014 - mean_absolute_error: 0.0283 - val_loss: 0.0041 - val_mean_squared_error: 0.0041 - val_mean_absolute_error: 0.0514\n",
            "Epoch 58/100\n",
            "16/16 [==============================] - 0s 11ms/step - loss: 0.0011 - mean_squared_error: 0.0011 - mean_absolute_error: 0.0259 - val_loss: 0.0039 - val_mean_squared_error: 0.0039 - val_mean_absolute_error: 0.0505\n",
            "Epoch 59/100\n",
            "16/16 [==============================] - 0s 12ms/step - loss: 0.0014 - mean_squared_error: 0.0014 - mean_absolute_error: 0.0296 - val_loss: 0.0039 - val_mean_squared_error: 0.0039 - val_mean_absolute_error: 0.0501\n",
            "Epoch 60/100\n",
            "16/16 [==============================] - 0s 10ms/step - loss: 0.0017 - mean_squared_error: 0.0017 - mean_absolute_error: 0.0310 - val_loss: 0.0094 - val_mean_squared_error: 0.0094 - val_mean_absolute_error: 0.0758\n",
            "Epoch 61/100\n",
            "16/16 [==============================] - 0s 10ms/step - loss: 0.0017 - mean_squared_error: 0.0017 - mean_absolute_error: 0.0314 - val_loss: 0.0103 - val_mean_squared_error: 0.0103 - val_mean_absolute_error: 0.0789\n",
            "Epoch 62/100\n",
            "16/16 [==============================] - 0s 11ms/step - loss: 0.0022 - mean_squared_error: 0.0022 - mean_absolute_error: 0.0355 - val_loss: 0.0039 - val_mean_squared_error: 0.0039 - val_mean_absolute_error: 0.0507\n",
            "Epoch 63/100\n",
            "16/16 [==============================] - 0s 10ms/step - loss: 0.0013 - mean_squared_error: 0.0013 - mean_absolute_error: 0.0288 - val_loss: 0.0039 - val_mean_squared_error: 0.0039 - val_mean_absolute_error: 0.0504\n",
            "Epoch 64/100\n",
            "16/16 [==============================] - 0s 11ms/step - loss: 0.0012 - mean_squared_error: 0.0012 - mean_absolute_error: 0.0263 - val_loss: 0.0036 - val_mean_squared_error: 0.0036 - val_mean_absolute_error: 0.0483\n",
            "Epoch 65/100\n",
            "16/16 [==============================] - 0s 10ms/step - loss: 0.0016 - mean_squared_error: 0.0016 - mean_absolute_error: 0.0306 - val_loss: 0.0046 - val_mean_squared_error: 0.0046 - val_mean_absolute_error: 0.0533\n",
            "Epoch 66/100\n",
            "16/16 [==============================] - 0s 10ms/step - loss: 0.0013 - mean_squared_error: 0.0013 - mean_absolute_error: 0.0263 - val_loss: 0.0037 - val_mean_squared_error: 0.0037 - val_mean_absolute_error: 0.0494\n",
            "Epoch 67/100\n",
            "16/16 [==============================] - 0s 11ms/step - loss: 9.8679e-04 - mean_squared_error: 9.8679e-04 - mean_absolute_error: 0.0241 - val_loss: 0.0036 - val_mean_squared_error: 0.0036 - val_mean_absolute_error: 0.0485\n",
            "Epoch 68/100\n",
            "16/16 [==============================] - 0s 9ms/step - loss: 0.0021 - mean_squared_error: 0.0021 - mean_absolute_error: 0.0329 - val_loss: 0.0064 - val_mean_squared_error: 0.0064 - val_mean_absolute_error: 0.0622\n",
            "Epoch 69/100\n",
            "16/16 [==============================] - 0s 9ms/step - loss: 0.0015 - mean_squared_error: 0.0015 - mean_absolute_error: 0.0297 - val_loss: 0.0040 - val_mean_squared_error: 0.0040 - val_mean_absolute_error: 0.0520\n",
            "Epoch 70/100\n",
            "16/16 [==============================] - 0s 11ms/step - loss: 0.0012 - mean_squared_error: 0.0012 - mean_absolute_error: 0.0271 - val_loss: 0.0037 - val_mean_squared_error: 0.0037 - val_mean_absolute_error: 0.0492\n",
            "Epoch 71/100\n",
            "16/16 [==============================] - 0s 10ms/step - loss: 0.0024 - mean_squared_error: 0.0024 - mean_absolute_error: 0.0377 - val_loss: 0.0040 - val_mean_squared_error: 0.0040 - val_mean_absolute_error: 0.0502\n",
            "Epoch 72/100\n",
            "16/16 [==============================] - 0s 10ms/step - loss: 0.0012 - mean_squared_error: 0.0012 - mean_absolute_error: 0.0262 - val_loss: 0.0057 - val_mean_squared_error: 0.0057 - val_mean_absolute_error: 0.0584\n",
            "Epoch 73/100\n",
            "16/16 [==============================] - 0s 11ms/step - loss: 0.0014 - mean_squared_error: 0.0014 - mean_absolute_error: 0.0285 - val_loss: 0.0082 - val_mean_squared_error: 0.0082 - val_mean_absolute_error: 0.0724\n",
            "Epoch 74/100\n",
            "16/16 [==============================] - 0s 11ms/step - loss: 0.0019 - mean_squared_error: 0.0019 - mean_absolute_error: 0.0332 - val_loss: 0.0040 - val_mean_squared_error: 0.0040 - val_mean_absolute_error: 0.0513\n"
          ],
          "name": "stdout"
        },
        {
          "output_type": "display_data",
          "data": {
            "text/html": [
              "<br/>Waiting for W&B process to finish, PID 7154<br/>Program ended successfully."
            ],
            "text/plain": [
              "<IPython.core.display.HTML object>"
            ]
          },
          "metadata": {
            "tags": []
          }
        },
        {
          "output_type": "display_data",
          "data": {
            "application/vnd.jupyter.widget-view+json": {
              "model_id": "c4e2ce7b1f8b4028abbe4f02925502be",
              "version_minor": 0,
              "version_major": 2
            },
            "text/plain": [
              "VBox(children=(Label(value=' 7.99MB of 7.99MB uploaded (0.00MB deduped)\\r'), FloatProgress(value=1.0, max=1.0)…"
            ]
          },
          "metadata": {
            "tags": []
          }
        },
        {
          "output_type": "display_data",
          "data": {
            "text/html": [
              "Find user logs for this run at: <code>/content/feeder_repo/wandb/run-20210721_154420-7edjiqai/logs/debug.log</code>"
            ],
            "text/plain": [
              "<IPython.core.display.HTML object>"
            ]
          },
          "metadata": {
            "tags": []
          }
        },
        {
          "output_type": "display_data",
          "data": {
            "text/html": [
              "Find internal logs for this run at: <code>/content/feeder_repo/wandb/run-20210721_154420-7edjiqai/logs/debug-internal.log</code>"
            ],
            "text/plain": [
              "<IPython.core.display.HTML object>"
            ]
          },
          "metadata": {
            "tags": []
          }
        },
        {
          "output_type": "display_data",
          "data": {
            "text/html": [
              "<h3>Run summary:</h3><br/><style>\n",
              "    table.wandb td:nth-child(1) { padding: 0 10px; text-align: right }\n",
              "    </style><table class=\"wandb\">\n",
              "<tr><td>epoch</td><td>73</td></tr><tr><td>loss</td><td>0.00151</td></tr><tr><td>mean_squared_error</td><td>0.00151</td></tr><tr><td>mean_absolute_error</td><td>0.02957</td></tr><tr><td>val_loss</td><td>0.00398</td></tr><tr><td>val_mean_squared_error</td><td>0.00398</td></tr><tr><td>val_mean_absolute_error</td><td>0.0513</td></tr><tr><td>_runtime</td><td>23</td></tr><tr><td>_timestamp</td><td>1626882283</td></tr><tr><td>_step</td><td>73</td></tr><tr><td>best_val_loss</td><td>0.00358</td></tr><tr><td>best_epoch</td><td>63</td></tr></table>"
            ],
            "text/plain": [
              "<IPython.core.display.HTML object>"
            ]
          },
          "metadata": {
            "tags": []
          }
        },
        {
          "output_type": "display_data",
          "data": {
            "text/html": [
              "<h3>Run history:</h3><br/><style>\n",
              "    table.wandb td:nth-child(1) { padding: 0 10px; text-align: right }\n",
              "    </style><table class=\"wandb\">\n",
              "<tr><td>epoch</td><td>▁▁▁▁▂▂▂▂▂▃▃▃▃▃▃▄▄▄▄▄▅▅▅▅▅▅▆▆▆▆▆▇▇▇▇▇▇███</td></tr><tr><td>loss</td><td>█▄▃▂▂▂▂▂▂▂▂▂▂▁▁▁▂▁▁▁▁▁▁▁▁▁▁▁▁▁▁▁▁▁▁▁▁▁▁▁</td></tr><tr><td>mean_squared_error</td><td>█▄▃▂▂▂▂▂▂▂▂▂▂▁▁▁▂▁▁▁▁▁▁▁▁▁▁▁▁▁▁▁▁▁▁▁▁▁▁▁</td></tr><tr><td>mean_absolute_error</td><td>█▆▅▄▄▄▄▄▃▃▃▃▃▃▂▂▃▂▂▂▂▂▂▂▂▂▂▂▂▂▂▁▂▂▁▂▂▁▁▂</td></tr><tr><td>val_loss</td><td>▃▄▃▅█▂▂▂▄▅▂▃▂▂▂▂▂▁▅▄▂▁▂▁▂▁▂▁▁▁▁▁▃▁▁▁▂▁▂▁</td></tr><tr><td>val_mean_squared_error</td><td>▃▄▃▅█▂▂▂▄▅▂▃▂▂▂▂▂▁▅▄▂▁▂▁▂▁▂▁▁▁▁▁▃▁▁▁▂▁▂▁</td></tr><tr><td>val_mean_absolute_error</td><td>▄▅▄▆█▃▂▂▄▅▂▃▂▃▂▂▂▂▅▅▂▂▂▁▂▂▂▂▁▂▁▁▃▁▁▁▂▁▂▁</td></tr><tr><td>_runtime</td><td>▁▁▁▁▁▁▂▂▂▃▃▃▃▃▃▃▃▄▄▅▅▅▅▅▅▅▆▆▆▇▇▇▇▇▇▇▇███</td></tr><tr><td>_timestamp</td><td>▁▁▁▁▁▁▂▂▂▃▃▃▃▃▃▃▃▄▄▅▅▅▅▅▅▅▆▆▆▇▇▇▇▇▇▇▇███</td></tr><tr><td>_step</td><td>▁▁▁▁▂▂▂▂▂▃▃▃▃▃▃▄▄▄▄▄▅▅▅▅▅▅▆▆▆▆▆▇▇▇▇▇▇███</td></tr></table><br/>"
            ],
            "text/plain": [
              "<IPython.core.display.HTML object>"
            ]
          },
          "metadata": {
            "tags": []
          }
        },
        {
          "output_type": "display_data",
          "data": {
            "text/html": [
              "Synced 5 W&B file(s), 1 media file(s), 2 artifact file(s) and 2 other file(s)"
            ],
            "text/plain": [
              "<IPython.core.display.HTML object>"
            ]
          },
          "metadata": {
            "tags": []
          }
        },
        {
          "output_type": "display_data",
          "data": {
            "text/html": [
              "\n",
              "                    <br/>Synced <strong style=\"color:#cdcd00\">toasty-sweep-29</strong>: <a href=\"https://wandb.ai/acse-jaq15/ACSE_9_CNN_LSTM/runs/7edjiqai\" target=\"_blank\">https://wandb.ai/acse-jaq15/ACSE_9_CNN_LSTM/runs/7edjiqai</a><br/>\n",
              "                "
            ],
            "text/plain": [
              "<IPython.core.display.HTML object>"
            ]
          },
          "metadata": {
            "tags": []
          }
        },
        {
          "output_type": "stream",
          "text": [
            "\u001b[34m\u001b[1mwandb\u001b[0m: Agent Starting Run: xpz15x99 with config:\n",
            "\u001b[34m\u001b[1mwandb\u001b[0m: \tactivation: relu\n",
            "\u001b[34m\u001b[1mwandb\u001b[0m: \tbatch_size: 32\n",
            "\u001b[34m\u001b[1mwandb\u001b[0m: \tepochs: 200\n",
            "\u001b[34m\u001b[1mwandb\u001b[0m: \tlearning_rate: 0.005\n",
            "\u001b[34m\u001b[1mwandb\u001b[0m: \toptimizer: sgd\n"
          ],
          "name": "stderr"
        },
        {
          "output_type": "display_data",
          "data": {
            "text/html": [
              "\n",
              "                Tracking run with wandb version 0.11.0<br/>\n",
              "                Syncing run <strong style=\"color:#cdcd00\">pretty-sweep-30</strong> to <a href=\"https://wandb.ai\" target=\"_blank\">Weights & Biases</a> <a href=\"https://docs.wandb.com/integrations/jupyter.html\" target=\"_blank\">(Documentation)</a>.<br/>\n",
              "                Project page: <a href=\"https://wandb.ai/acse-jaq15/ACSE_9_CNN_LSTM\" target=\"_blank\">https://wandb.ai/acse-jaq15/ACSE_9_CNN_LSTM</a><br/>\n",
              "                Sweep page: <a href=\"https://wandb.ai/acse-jaq15/ACSE_9_CNN_LSTM/sweeps/leuxhbp3\" target=\"_blank\">https://wandb.ai/acse-jaq15/ACSE_9_CNN_LSTM/sweeps/leuxhbp3</a><br/>\n",
              "Run page: <a href=\"https://wandb.ai/acse-jaq15/ACSE_9_CNN_LSTM/runs/xpz15x99\" target=\"_blank\">https://wandb.ai/acse-jaq15/ACSE_9_CNN_LSTM/runs/xpz15x99</a><br/>\n",
              "                Run data is saved locally in <code>/content/feeder_repo/wandb/run-20210721_154454-xpz15x99</code><br/><br/>\n",
              "            "
            ],
            "text/plain": [
              "<IPython.core.display.HTML object>"
            ]
          },
          "metadata": {
            "tags": []
          }
        },
        {
          "output_type": "stream",
          "text": [
            "Epoch 1/200\n",
            "32/32 [==============================] - 4s 43ms/step - loss: 0.1374 - mean_squared_error: 0.1374 - mean_absolute_error: 0.2667 - val_loss: 0.0292 - val_mean_squared_error: 0.0292 - val_mean_absolute_error: 0.1489\n",
            "Epoch 2/200\n",
            "32/32 [==============================] - 0s 9ms/step - loss: 0.0222 - mean_squared_error: 0.0222 - mean_absolute_error: 0.1241 - val_loss: 0.0157 - val_mean_squared_error: 0.0157 - val_mean_absolute_error: 0.1067\n",
            "Epoch 3/200\n",
            "32/32 [==============================] - 0s 10ms/step - loss: 0.0088 - mean_squared_error: 0.0088 - mean_absolute_error: 0.0743 - val_loss: 0.0116 - val_mean_squared_error: 0.0116 - val_mean_absolute_error: 0.0866\n",
            "Epoch 4/200\n",
            "32/32 [==============================] - 0s 9ms/step - loss: 0.0037 - mean_squared_error: 0.0037 - mean_absolute_error: 0.0469 - val_loss: 0.0109 - val_mean_squared_error: 0.0109 - val_mean_absolute_error: 0.0791\n",
            "Epoch 5/200\n",
            "32/32 [==============================] - 0s 8ms/step - loss: 0.0034 - mean_squared_error: 0.0034 - mean_absolute_error: 0.0454 - val_loss: 0.0108 - val_mean_squared_error: 0.0108 - val_mean_absolute_error: 0.0771\n",
            "Epoch 6/200\n",
            "32/32 [==============================] - 0s 9ms/step - loss: 0.0033 - mean_squared_error: 0.0033 - mean_absolute_error: 0.0441 - val_loss: 0.0108 - val_mean_squared_error: 0.0108 - val_mean_absolute_error: 0.0764\n",
            "Epoch 7/200\n",
            "32/32 [==============================] - 0s 9ms/step - loss: 0.0029 - mean_squared_error: 0.0029 - mean_absolute_error: 0.0422 - val_loss: 0.0109 - val_mean_squared_error: 0.0109 - val_mean_absolute_error: 0.0766\n",
            "Epoch 8/200\n",
            "32/32 [==============================] - 0s 9ms/step - loss: 0.0031 - mean_squared_error: 0.0031 - mean_absolute_error: 0.0434 - val_loss: 0.0110 - val_mean_squared_error: 0.0110 - val_mean_absolute_error: 0.0770\n",
            "Epoch 9/200\n",
            "32/32 [==============================] - 0s 9ms/step - loss: 0.0029 - mean_squared_error: 0.0029 - mean_absolute_error: 0.0417 - val_loss: 0.0112 - val_mean_squared_error: 0.0112 - val_mean_absolute_error: 0.0776\n",
            "Epoch 10/200\n",
            "32/32 [==============================] - 0s 8ms/step - loss: 0.0030 - mean_squared_error: 0.0030 - mean_absolute_error: 0.0425 - val_loss: 0.0107 - val_mean_squared_error: 0.0107 - val_mean_absolute_error: 0.0758\n",
            "Epoch 11/200\n",
            "32/32 [==============================] - 0s 7ms/step - loss: 0.0027 - mean_squared_error: 0.0027 - mean_absolute_error: 0.0407 - val_loss: 0.0108 - val_mean_squared_error: 0.0108 - val_mean_absolute_error: 0.0761\n",
            "Epoch 12/200\n",
            "32/32 [==============================] - 0s 9ms/step - loss: 0.0027 - mean_squared_error: 0.0027 - mean_absolute_error: 0.0405 - val_loss: 0.0106 - val_mean_squared_error: 0.0106 - val_mean_absolute_error: 0.0757\n",
            "Epoch 13/200\n",
            "32/32 [==============================] - 0s 8ms/step - loss: 0.0030 - mean_squared_error: 0.0030 - mean_absolute_error: 0.0425 - val_loss: 0.0106 - val_mean_squared_error: 0.0106 - val_mean_absolute_error: 0.0756\n",
            "Epoch 14/200\n",
            "32/32 [==============================] - 0s 8ms/step - loss: 0.0027 - mean_squared_error: 0.0027 - mean_absolute_error: 0.0407 - val_loss: 0.0103 - val_mean_squared_error: 0.0103 - val_mean_absolute_error: 0.0748\n",
            "Epoch 15/200\n",
            "32/32 [==============================] - 0s 7ms/step - loss: 0.0027 - mean_squared_error: 0.0027 - mean_absolute_error: 0.0405 - val_loss: 0.0106 - val_mean_squared_error: 0.0106 - val_mean_absolute_error: 0.0756\n",
            "Epoch 16/200\n",
            "32/32 [==============================] - 0s 10ms/step - loss: 0.0030 - mean_squared_error: 0.0030 - mean_absolute_error: 0.0416 - val_loss: 0.0109 - val_mean_squared_error: 0.0109 - val_mean_absolute_error: 0.0768\n",
            "Epoch 17/200\n",
            "32/32 [==============================] - 0s 10ms/step - loss: 0.0029 - mean_squared_error: 0.0029 - mean_absolute_error: 0.0417 - val_loss: 0.0107 - val_mean_squared_error: 0.0107 - val_mean_absolute_error: 0.0757\n",
            "Epoch 18/200\n",
            "32/32 [==============================] - 0s 10ms/step - loss: 0.0027 - mean_squared_error: 0.0027 - mean_absolute_error: 0.0410 - val_loss: 0.0103 - val_mean_squared_error: 0.0103 - val_mean_absolute_error: 0.0745\n",
            "Epoch 19/200\n",
            "32/32 [==============================] - 0s 8ms/step - loss: 0.0027 - mean_squared_error: 0.0027 - mean_absolute_error: 0.0405 - val_loss: 0.0105 - val_mean_squared_error: 0.0105 - val_mean_absolute_error: 0.0753\n",
            "Epoch 20/200\n",
            "32/32 [==============================] - 0s 10ms/step - loss: 0.0027 - mean_squared_error: 0.0027 - mean_absolute_error: 0.0404 - val_loss: 0.0106 - val_mean_squared_error: 0.0106 - val_mean_absolute_error: 0.0753\n",
            "Epoch 21/200\n",
            "32/32 [==============================] - 0s 9ms/step - loss: 0.0025 - mean_squared_error: 0.0025 - mean_absolute_error: 0.0400 - val_loss: 0.0100 - val_mean_squared_error: 0.0100 - val_mean_absolute_error: 0.0736\n",
            "Epoch 22/200\n",
            "32/32 [==============================] - 0s 9ms/step - loss: 0.0027 - mean_squared_error: 0.0027 - mean_absolute_error: 0.0409 - val_loss: 0.0097 - val_mean_squared_error: 0.0097 - val_mean_absolute_error: 0.0727\n",
            "Epoch 23/200\n",
            "32/32 [==============================] - 0s 9ms/step - loss: 0.0031 - mean_squared_error: 0.0031 - mean_absolute_error: 0.0424 - val_loss: 0.0100 - val_mean_squared_error: 0.0100 - val_mean_absolute_error: 0.0735\n",
            "Epoch 24/200\n",
            "32/32 [==============================] - 0s 9ms/step - loss: 0.0026 - mean_squared_error: 0.0026 - mean_absolute_error: 0.0399 - val_loss: 0.0097 - val_mean_squared_error: 0.0097 - val_mean_absolute_error: 0.0727\n",
            "Epoch 25/200\n",
            "32/32 [==============================] - 0s 10ms/step - loss: 0.0025 - mean_squared_error: 0.0025 - mean_absolute_error: 0.0385 - val_loss: 0.0101 - val_mean_squared_error: 0.0101 - val_mean_absolute_error: 0.0738\n",
            "Epoch 26/200\n",
            "32/32 [==============================] - 0s 10ms/step - loss: 0.0026 - mean_squared_error: 0.0026 - mean_absolute_error: 0.0401 - val_loss: 0.0103 - val_mean_squared_error: 0.0103 - val_mean_absolute_error: 0.0742\n",
            "Epoch 27/200\n",
            "32/32 [==============================] - 0s 8ms/step - loss: 0.0026 - mean_squared_error: 0.0026 - mean_absolute_error: 0.0397 - val_loss: 0.0097 - val_mean_squared_error: 0.0097 - val_mean_absolute_error: 0.0726\n",
            "Epoch 28/200\n",
            "32/32 [==============================] - 0s 8ms/step - loss: 0.0026 - mean_squared_error: 0.0026 - mean_absolute_error: 0.0403 - val_loss: 0.0094 - val_mean_squared_error: 0.0094 - val_mean_absolute_error: 0.0718\n",
            "Epoch 29/200\n",
            "32/32 [==============================] - 0s 9ms/step - loss: 0.0026 - mean_squared_error: 0.0026 - mean_absolute_error: 0.0397 - val_loss: 0.0096 - val_mean_squared_error: 0.0096 - val_mean_absolute_error: 0.0724\n",
            "Epoch 30/200\n",
            "32/32 [==============================] - 0s 10ms/step - loss: 0.0026 - mean_squared_error: 0.0026 - mean_absolute_error: 0.0396 - val_loss: 0.0098 - val_mean_squared_error: 0.0098 - val_mean_absolute_error: 0.0728\n",
            "Epoch 31/200\n",
            "32/32 [==============================] - 0s 10ms/step - loss: 0.0025 - mean_squared_error: 0.0025 - mean_absolute_error: 0.0395 - val_loss: 0.0096 - val_mean_squared_error: 0.0096 - val_mean_absolute_error: 0.0723\n",
            "Epoch 32/200\n",
            "32/32 [==============================] - 0s 8ms/step - loss: 0.0024 - mean_squared_error: 0.0024 - mean_absolute_error: 0.0383 - val_loss: 0.0095 - val_mean_squared_error: 0.0095 - val_mean_absolute_error: 0.0718\n",
            "Epoch 33/200\n",
            "32/32 [==============================] - 0s 9ms/step - loss: 0.0025 - mean_squared_error: 0.0025 - mean_absolute_error: 0.0393 - val_loss: 0.0094 - val_mean_squared_error: 0.0094 - val_mean_absolute_error: 0.0716\n",
            "Epoch 34/200\n",
            "32/32 [==============================] - 0s 9ms/step - loss: 0.0027 - mean_squared_error: 0.0027 - mean_absolute_error: 0.0404 - val_loss: 0.0093 - val_mean_squared_error: 0.0093 - val_mean_absolute_error: 0.0712\n",
            "Epoch 35/200\n",
            "32/32 [==============================] - 0s 9ms/step - loss: 0.0025 - mean_squared_error: 0.0025 - mean_absolute_error: 0.0393 - val_loss: 0.0095 - val_mean_squared_error: 0.0095 - val_mean_absolute_error: 0.0717\n",
            "Epoch 36/200\n",
            "32/32 [==============================] - 0s 11ms/step - loss: 0.0024 - mean_squared_error: 0.0024 - mean_absolute_error: 0.0384 - val_loss: 0.0097 - val_mean_squared_error: 0.0097 - val_mean_absolute_error: 0.0725\n",
            "Epoch 37/200\n",
            "32/32 [==============================] - 0s 8ms/step - loss: 0.0023 - mean_squared_error: 0.0023 - mean_absolute_error: 0.0385 - val_loss: 0.0091 - val_mean_squared_error: 0.0091 - val_mean_absolute_error: 0.0707\n",
            "Epoch 38/200\n",
            "32/32 [==============================] - 0s 8ms/step - loss: 0.0024 - mean_squared_error: 0.0024 - mean_absolute_error: 0.0391 - val_loss: 0.0091 - val_mean_squared_error: 0.0091 - val_mean_absolute_error: 0.0708\n",
            "Epoch 39/200\n",
            "32/32 [==============================] - 0s 8ms/step - loss: 0.0025 - mean_squared_error: 0.0025 - mean_absolute_error: 0.0385 - val_loss: 0.0090 - val_mean_squared_error: 0.0090 - val_mean_absolute_error: 0.0703\n",
            "Epoch 40/200\n",
            "32/32 [==============================] - 0s 8ms/step - loss: 0.0023 - mean_squared_error: 0.0023 - mean_absolute_error: 0.0370 - val_loss: 0.0093 - val_mean_squared_error: 0.0093 - val_mean_absolute_error: 0.0712\n",
            "Epoch 41/200\n",
            "32/32 [==============================] - 0s 11ms/step - loss: 0.0024 - mean_squared_error: 0.0024 - mean_absolute_error: 0.0385 - val_loss: 0.0088 - val_mean_squared_error: 0.0088 - val_mean_absolute_error: 0.0696\n",
            "Epoch 42/200\n",
            "32/32 [==============================] - 0s 9ms/step - loss: 0.0026 - mean_squared_error: 0.0026 - mean_absolute_error: 0.0397 - val_loss: 0.0088 - val_mean_squared_error: 0.0088 - val_mean_absolute_error: 0.0696\n",
            "Epoch 43/200\n",
            "32/32 [==============================] - 0s 9ms/step - loss: 0.0025 - mean_squared_error: 0.0025 - mean_absolute_error: 0.0393 - val_loss: 0.0088 - val_mean_squared_error: 0.0088 - val_mean_absolute_error: 0.0698\n",
            "Epoch 44/200\n",
            "32/32 [==============================] - 0s 9ms/step - loss: 0.0027 - mean_squared_error: 0.0027 - mean_absolute_error: 0.0402 - val_loss: 0.0091 - val_mean_squared_error: 0.0091 - val_mean_absolute_error: 0.0704\n",
            "Epoch 45/200\n",
            "32/32 [==============================] - 0s 9ms/step - loss: 0.0025 - mean_squared_error: 0.0025 - mean_absolute_error: 0.0381 - val_loss: 0.0089 - val_mean_squared_error: 0.0089 - val_mean_absolute_error: 0.0700\n",
            "Epoch 46/200\n",
            "32/32 [==============================] - 0s 11ms/step - loss: 0.0024 - mean_squared_error: 0.0024 - mean_absolute_error: 0.0382 - val_loss: 0.0086 - val_mean_squared_error: 0.0086 - val_mean_absolute_error: 0.0691\n",
            "Epoch 47/200\n",
            "32/32 [==============================] - 0s 9ms/step - loss: 0.0026 - mean_squared_error: 0.0026 - mean_absolute_error: 0.0394 - val_loss: 0.0087 - val_mean_squared_error: 0.0087 - val_mean_absolute_error: 0.0692\n",
            "Epoch 48/200\n",
            "32/32 [==============================] - 0s 10ms/step - loss: 0.0024 - mean_squared_error: 0.0024 - mean_absolute_error: 0.0384 - val_loss: 0.0090 - val_mean_squared_error: 0.0090 - val_mean_absolute_error: 0.0701\n",
            "Epoch 49/200\n",
            "32/32 [==============================] - 0s 9ms/step - loss: 0.0022 - mean_squared_error: 0.0022 - mean_absolute_error: 0.0371 - val_loss: 0.0085 - val_mean_squared_error: 0.0085 - val_mean_absolute_error: 0.0688\n",
            "Epoch 50/200\n",
            "32/32 [==============================] - 0s 10ms/step - loss: 0.0025 - mean_squared_error: 0.0025 - mean_absolute_error: 0.0393 - val_loss: 0.0087 - val_mean_squared_error: 0.0087 - val_mean_absolute_error: 0.0694\n",
            "Epoch 51/200\n",
            "32/32 [==============================] - 0s 8ms/step - loss: 0.0024 - mean_squared_error: 0.0024 - mean_absolute_error: 0.0380 - val_loss: 0.0089 - val_mean_squared_error: 0.0089 - val_mean_absolute_error: 0.0700\n",
            "Epoch 52/200\n",
            "32/32 [==============================] - 0s 10ms/step - loss: 0.0025 - mean_squared_error: 0.0025 - mean_absolute_error: 0.0381 - val_loss: 0.0083 - val_mean_squared_error: 0.0083 - val_mean_absolute_error: 0.0681\n",
            "Epoch 53/200\n",
            "32/32 [==============================] - 0s 9ms/step - loss: 0.0022 - mean_squared_error: 0.0022 - mean_absolute_error: 0.0367 - val_loss: 0.0087 - val_mean_squared_error: 0.0087 - val_mean_absolute_error: 0.0693\n",
            "Epoch 54/200\n",
            "32/32 [==============================] - 0s 10ms/step - loss: 0.0023 - mean_squared_error: 0.0023 - mean_absolute_error: 0.0384 - val_loss: 0.0086 - val_mean_squared_error: 0.0086 - val_mean_absolute_error: 0.0690\n",
            "Epoch 55/200\n",
            "32/32 [==============================] - 0s 9ms/step - loss: 0.0022 - mean_squared_error: 0.0022 - mean_absolute_error: 0.0367 - val_loss: 0.0086 - val_mean_squared_error: 0.0086 - val_mean_absolute_error: 0.0689\n",
            "Epoch 56/200\n",
            "32/32 [==============================] - 0s 8ms/step - loss: 0.0022 - mean_squared_error: 0.0022 - mean_absolute_error: 0.0369 - val_loss: 0.0085 - val_mean_squared_error: 0.0085 - val_mean_absolute_error: 0.0685\n",
            "Epoch 57/200\n",
            "32/32 [==============================] - 0s 9ms/step - loss: 0.0021 - mean_squared_error: 0.0021 - mean_absolute_error: 0.0353 - val_loss: 0.0082 - val_mean_squared_error: 0.0082 - val_mean_absolute_error: 0.0676\n",
            "Epoch 58/200\n",
            "32/32 [==============================] - 0s 10ms/step - loss: 0.0022 - mean_squared_error: 0.0022 - mean_absolute_error: 0.0367 - val_loss: 0.0081 - val_mean_squared_error: 0.0081 - val_mean_absolute_error: 0.0674\n",
            "Epoch 59/200\n",
            "32/32 [==============================] - 0s 9ms/step - loss: 0.0023 - mean_squared_error: 0.0023 - mean_absolute_error: 0.0372 - val_loss: 0.0083 - val_mean_squared_error: 0.0083 - val_mean_absolute_error: 0.0678\n",
            "Epoch 60/200\n",
            "32/32 [==============================] - 0s 10ms/step - loss: 0.0021 - mean_squared_error: 0.0021 - mean_absolute_error: 0.0360 - val_loss: 0.0082 - val_mean_squared_error: 0.0082 - val_mean_absolute_error: 0.0676\n",
            "Epoch 61/200\n",
            "32/32 [==============================] - 0s 11ms/step - loss: 0.0022 - mean_squared_error: 0.0022 - mean_absolute_error: 0.0361 - val_loss: 0.0083 - val_mean_squared_error: 0.0083 - val_mean_absolute_error: 0.0680\n",
            "Epoch 62/200\n",
            "32/32 [==============================] - 0s 8ms/step - loss: 0.0022 - mean_squared_error: 0.0022 - mean_absolute_error: 0.0373 - val_loss: 0.0086 - val_mean_squared_error: 0.0086 - val_mean_absolute_error: 0.0690\n",
            "Epoch 63/200\n",
            "32/32 [==============================] - 0s 9ms/step - loss: 0.0023 - mean_squared_error: 0.0023 - mean_absolute_error: 0.0367 - val_loss: 0.0079 - val_mean_squared_error: 0.0079 - val_mean_absolute_error: 0.0667\n",
            "Epoch 64/200\n",
            "32/32 [==============================] - 0s 9ms/step - loss: 0.0021 - mean_squared_error: 0.0021 - mean_absolute_error: 0.0355 - val_loss: 0.0082 - val_mean_squared_error: 0.0082 - val_mean_absolute_error: 0.0675\n",
            "Epoch 65/200\n",
            "32/32 [==============================] - 0s 10ms/step - loss: 0.0023 - mean_squared_error: 0.0023 - mean_absolute_error: 0.0376 - val_loss: 0.0078 - val_mean_squared_error: 0.0078 - val_mean_absolute_error: 0.0664\n",
            "Epoch 66/200\n",
            "32/32 [==============================] - 0s 10ms/step - loss: 0.0020 - mean_squared_error: 0.0020 - mean_absolute_error: 0.0352 - val_loss: 0.0078 - val_mean_squared_error: 0.0078 - val_mean_absolute_error: 0.0665\n",
            "Epoch 67/200\n",
            "32/32 [==============================] - 0s 10ms/step - loss: 0.0021 - mean_squared_error: 0.0021 - mean_absolute_error: 0.0352 - val_loss: 0.0080 - val_mean_squared_error: 0.0080 - val_mean_absolute_error: 0.0671\n",
            "Epoch 68/200\n",
            "32/32 [==============================] - 0s 10ms/step - loss: 0.0022 - mean_squared_error: 0.0022 - mean_absolute_error: 0.0367 - val_loss: 0.0078 - val_mean_squared_error: 0.0078 - val_mean_absolute_error: 0.0662\n",
            "Epoch 69/200\n",
            "32/32 [==============================] - 0s 9ms/step - loss: 0.0023 - mean_squared_error: 0.0023 - mean_absolute_error: 0.0380 - val_loss: 0.0080 - val_mean_squared_error: 0.0080 - val_mean_absolute_error: 0.0669\n",
            "Epoch 70/200\n",
            "32/32 [==============================] - 0s 10ms/step - loss: 0.0020 - mean_squared_error: 0.0020 - mean_absolute_error: 0.0356 - val_loss: 0.0078 - val_mean_squared_error: 0.0078 - val_mean_absolute_error: 0.0664\n",
            "Epoch 71/200\n",
            "32/32 [==============================] - 0s 11ms/step - loss: 0.0023 - mean_squared_error: 0.0023 - mean_absolute_error: 0.0374 - val_loss: 0.0078 - val_mean_squared_error: 0.0078 - val_mean_absolute_error: 0.0662\n",
            "Epoch 72/200\n",
            "32/32 [==============================] - 0s 11ms/step - loss: 0.0021 - mean_squared_error: 0.0021 - mean_absolute_error: 0.0353 - val_loss: 0.0078 - val_mean_squared_error: 0.0078 - val_mean_absolute_error: 0.0662\n",
            "Epoch 73/200\n",
            "32/32 [==============================] - 0s 10ms/step - loss: 0.0023 - mean_squared_error: 0.0023 - mean_absolute_error: 0.0370 - val_loss: 0.0076 - val_mean_squared_error: 0.0076 - val_mean_absolute_error: 0.0655\n",
            "Epoch 74/200\n",
            "32/32 [==============================] - 0s 9ms/step - loss: 0.0021 - mean_squared_error: 0.0021 - mean_absolute_error: 0.0359 - val_loss: 0.0075 - val_mean_squared_error: 0.0075 - val_mean_absolute_error: 0.0653\n",
            "Epoch 75/200\n",
            "32/32 [==============================] - 0s 8ms/step - loss: 0.0022 - mean_squared_error: 0.0022 - mean_absolute_error: 0.0363 - val_loss: 0.0075 - val_mean_squared_error: 0.0075 - val_mean_absolute_error: 0.0653\n",
            "Epoch 76/200\n",
            "32/32 [==============================] - 0s 9ms/step - loss: 0.0021 - mean_squared_error: 0.0021 - mean_absolute_error: 0.0362 - val_loss: 0.0077 - val_mean_squared_error: 0.0077 - val_mean_absolute_error: 0.0661\n",
            "Epoch 77/200\n",
            "32/32 [==============================] - 0s 11ms/step - loss: 0.0020 - mean_squared_error: 0.0020 - mean_absolute_error: 0.0350 - val_loss: 0.0077 - val_mean_squared_error: 0.0077 - val_mean_absolute_error: 0.0661\n",
            "Epoch 78/200\n",
            "32/32 [==============================] - 0s 11ms/step - loss: 0.0021 - mean_squared_error: 0.0021 - mean_absolute_error: 0.0358 - val_loss: 0.0075 - val_mean_squared_error: 0.0075 - val_mean_absolute_error: 0.0653\n",
            "Epoch 79/200\n",
            "32/32 [==============================] - 0s 9ms/step - loss: 0.0021 - mean_squared_error: 0.0021 - mean_absolute_error: 0.0352 - val_loss: 0.0074 - val_mean_squared_error: 0.0074 - val_mean_absolute_error: 0.0650\n",
            "Epoch 80/200\n",
            "32/32 [==============================] - 0s 9ms/step - loss: 0.0020 - mean_squared_error: 0.0020 - mean_absolute_error: 0.0343 - val_loss: 0.0075 - val_mean_squared_error: 0.0075 - val_mean_absolute_error: 0.0654\n",
            "Epoch 81/200\n",
            "32/32 [==============================] - 0s 10ms/step - loss: 0.0018 - mean_squared_error: 0.0018 - mean_absolute_error: 0.0339 - val_loss: 0.0072 - val_mean_squared_error: 0.0072 - val_mean_absolute_error: 0.0643\n",
            "Epoch 82/200\n",
            "32/32 [==============================] - 0s 10ms/step - loss: 0.0021 - mean_squared_error: 0.0021 - mean_absolute_error: 0.0349 - val_loss: 0.0074 - val_mean_squared_error: 0.0074 - val_mean_absolute_error: 0.0649\n",
            "Epoch 83/200\n",
            "32/32 [==============================] - 0s 9ms/step - loss: 0.0019 - mean_squared_error: 0.0019 - mean_absolute_error: 0.0341 - val_loss: 0.0075 - val_mean_squared_error: 0.0075 - val_mean_absolute_error: 0.0654\n",
            "Epoch 84/200\n",
            "32/32 [==============================] - 0s 9ms/step - loss: 0.0020 - mean_squared_error: 0.0020 - mean_absolute_error: 0.0350 - val_loss: 0.0076 - val_mean_squared_error: 0.0076 - val_mean_absolute_error: 0.0658\n",
            "Epoch 85/200\n",
            "32/32 [==============================] - 0s 9ms/step - loss: 0.0020 - mean_squared_error: 0.0020 - mean_absolute_error: 0.0351 - val_loss: 0.0074 - val_mean_squared_error: 0.0074 - val_mean_absolute_error: 0.0652\n",
            "Epoch 86/200\n",
            "32/32 [==============================] - 0s 9ms/step - loss: 0.0019 - mean_squared_error: 0.0019 - mean_absolute_error: 0.0341 - val_loss: 0.0072 - val_mean_squared_error: 0.0072 - val_mean_absolute_error: 0.0645\n",
            "Epoch 87/200\n",
            "32/32 [==============================] - 0s 10ms/step - loss: 0.0020 - mean_squared_error: 0.0020 - mean_absolute_error: 0.0356 - val_loss: 0.0073 - val_mean_squared_error: 0.0073 - val_mean_absolute_error: 0.0647\n",
            "Epoch 88/200\n",
            "32/32 [==============================] - 0s 9ms/step - loss: 0.0018 - mean_squared_error: 0.0018 - mean_absolute_error: 0.0336 - val_loss: 0.0071 - val_mean_squared_error: 0.0071 - val_mean_absolute_error: 0.0641\n",
            "Epoch 89/200\n",
            "32/32 [==============================] - 0s 11ms/step - loss: 0.0021 - mean_squared_error: 0.0021 - mean_absolute_error: 0.0358 - val_loss: 0.0071 - val_mean_squared_error: 0.0071 - val_mean_absolute_error: 0.0639\n",
            "Epoch 90/200\n",
            "32/32 [==============================] - 0s 9ms/step - loss: 0.0020 - mean_squared_error: 0.0020 - mean_absolute_error: 0.0349 - val_loss: 0.0071 - val_mean_squared_error: 0.0071 - val_mean_absolute_error: 0.0641\n",
            "Epoch 91/200\n",
            "32/32 [==============================] - 0s 8ms/step - loss: 0.0018 - mean_squared_error: 0.0018 - mean_absolute_error: 0.0332 - val_loss: 0.0069 - val_mean_squared_error: 0.0069 - val_mean_absolute_error: 0.0632\n",
            "Epoch 92/200\n",
            "32/32 [==============================] - 0s 9ms/step - loss: 0.0021 - mean_squared_error: 0.0021 - mean_absolute_error: 0.0354 - val_loss: 0.0068 - val_mean_squared_error: 0.0068 - val_mean_absolute_error: 0.0630\n",
            "Epoch 93/200\n",
            "32/32 [==============================] - 0s 10ms/step - loss: 0.0018 - mean_squared_error: 0.0018 - mean_absolute_error: 0.0333 - val_loss: 0.0069 - val_mean_squared_error: 0.0069 - val_mean_absolute_error: 0.0632\n",
            "Epoch 94/200\n",
            "32/32 [==============================] - 0s 9ms/step - loss: 0.0019 - mean_squared_error: 0.0019 - mean_absolute_error: 0.0335 - val_loss: 0.0069 - val_mean_squared_error: 0.0069 - val_mean_absolute_error: 0.0634\n",
            "Epoch 95/200\n",
            "32/32 [==============================] - 0s 10ms/step - loss: 0.0020 - mean_squared_error: 0.0020 - mean_absolute_error: 0.0354 - val_loss: 0.0070 - val_mean_squared_error: 0.0070 - val_mean_absolute_error: 0.0637\n",
            "Epoch 96/200\n",
            "32/32 [==============================] - 0s 9ms/step - loss: 0.0018 - mean_squared_error: 0.0018 - mean_absolute_error: 0.0333 - val_loss: 0.0068 - val_mean_squared_error: 0.0068 - val_mean_absolute_error: 0.0630\n",
            "Epoch 97/200\n",
            "32/32 [==============================] - 0s 10ms/step - loss: 0.0017 - mean_squared_error: 0.0017 - mean_absolute_error: 0.0325 - val_loss: 0.0068 - val_mean_squared_error: 0.0068 - val_mean_absolute_error: 0.0631\n",
            "Epoch 98/200\n",
            "32/32 [==============================] - 0s 9ms/step - loss: 0.0019 - mean_squared_error: 0.0019 - mean_absolute_error: 0.0337 - val_loss: 0.0069 - val_mean_squared_error: 0.0069 - val_mean_absolute_error: 0.0633\n",
            "Epoch 99/200\n",
            "32/32 [==============================] - 0s 10ms/step - loss: 0.0018 - mean_squared_error: 0.0018 - mean_absolute_error: 0.0335 - val_loss: 0.0066 - val_mean_squared_error: 0.0066 - val_mean_absolute_error: 0.0624\n",
            "Epoch 100/200\n",
            "32/32 [==============================] - 0s 9ms/step - loss: 0.0020 - mean_squared_error: 0.0020 - mean_absolute_error: 0.0349 - val_loss: 0.0069 - val_mean_squared_error: 0.0069 - val_mean_absolute_error: 0.0633\n",
            "Epoch 101/200\n",
            "32/32 [==============================] - 0s 9ms/step - loss: 0.0018 - mean_squared_error: 0.0018 - mean_absolute_error: 0.0337 - val_loss: 0.0067 - val_mean_squared_error: 0.0067 - val_mean_absolute_error: 0.0627\n",
            "Epoch 102/200\n",
            "32/32 [==============================] - 0s 9ms/step - loss: 0.0019 - mean_squared_error: 0.0019 - mean_absolute_error: 0.0346 - val_loss: 0.0068 - val_mean_squared_error: 0.0068 - val_mean_absolute_error: 0.0631\n",
            "Epoch 103/200\n",
            "32/32 [==============================] - 0s 10ms/step - loss: 0.0018 - mean_squared_error: 0.0018 - mean_absolute_error: 0.0335 - val_loss: 0.0068 - val_mean_squared_error: 0.0068 - val_mean_absolute_error: 0.0629\n",
            "Epoch 104/200\n",
            "32/32 [==============================] - 0s 10ms/step - loss: 0.0018 - mean_squared_error: 0.0018 - mean_absolute_error: 0.0334 - val_loss: 0.0067 - val_mean_squared_error: 0.0067 - val_mean_absolute_error: 0.0625\n",
            "Epoch 105/200\n",
            "32/32 [==============================] - 0s 8ms/step - loss: 0.0018 - mean_squared_error: 0.0018 - mean_absolute_error: 0.0336 - val_loss: 0.0071 - val_mean_squared_error: 0.0071 - val_mean_absolute_error: 0.0641\n",
            "Epoch 106/200\n",
            "32/32 [==============================] - 0s 9ms/step - loss: 0.0018 - mean_squared_error: 0.0018 - mean_absolute_error: 0.0334 - val_loss: 0.0067 - val_mean_squared_error: 0.0067 - val_mean_absolute_error: 0.0626\n",
            "Epoch 107/200\n",
            "32/32 [==============================] - 0s 9ms/step - loss: 0.0019 - mean_squared_error: 0.0019 - mean_absolute_error: 0.0338 - val_loss: 0.0067 - val_mean_squared_error: 0.0067 - val_mean_absolute_error: 0.0627\n",
            "Epoch 108/200\n",
            "32/32 [==============================] - 0s 10ms/step - loss: 0.0020 - mean_squared_error: 0.0020 - mean_absolute_error: 0.0348 - val_loss: 0.0066 - val_mean_squared_error: 0.0066 - val_mean_absolute_error: 0.0622\n",
            "Epoch 109/200\n",
            "32/32 [==============================] - 0s 9ms/step - loss: 0.0020 - mean_squared_error: 0.0020 - mean_absolute_error: 0.0347 - val_loss: 0.0065 - val_mean_squared_error: 0.0065 - val_mean_absolute_error: 0.0618\n",
            "Epoch 110/200\n",
            "32/32 [==============================] - 0s 10ms/step - loss: 0.0019 - mean_squared_error: 0.0019 - mean_absolute_error: 0.0335 - val_loss: 0.0064 - val_mean_squared_error: 0.0064 - val_mean_absolute_error: 0.0615\n",
            "Epoch 111/200\n",
            "32/32 [==============================] - 0s 10ms/step - loss: 0.0018 - mean_squared_error: 0.0018 - mean_absolute_error: 0.0329 - val_loss: 0.0066 - val_mean_squared_error: 0.0066 - val_mean_absolute_error: 0.0623\n",
            "Epoch 112/200\n",
            "32/32 [==============================] - 0s 9ms/step - loss: 0.0016 - mean_squared_error: 0.0016 - mean_absolute_error: 0.0316 - val_loss: 0.0062 - val_mean_squared_error: 0.0062 - val_mean_absolute_error: 0.0609\n",
            "Epoch 113/200\n",
            "32/32 [==============================] - 0s 10ms/step - loss: 0.0018 - mean_squared_error: 0.0018 - mean_absolute_error: 0.0332 - val_loss: 0.0066 - val_mean_squared_error: 0.0066 - val_mean_absolute_error: 0.0622\n",
            "Epoch 114/200\n",
            "32/32 [==============================] - 0s 9ms/step - loss: 0.0016 - mean_squared_error: 0.0016 - mean_absolute_error: 0.0320 - val_loss: 0.0065 - val_mean_squared_error: 0.0065 - val_mean_absolute_error: 0.0618\n",
            "Epoch 115/200\n",
            "32/32 [==============================] - 0s 9ms/step - loss: 0.0019 - mean_squared_error: 0.0019 - mean_absolute_error: 0.0342 - val_loss: 0.0065 - val_mean_squared_error: 0.0065 - val_mean_absolute_error: 0.0618\n",
            "Epoch 116/200\n",
            "32/32 [==============================] - 0s 9ms/step - loss: 0.0018 - mean_squared_error: 0.0018 - mean_absolute_error: 0.0334 - val_loss: 0.0062 - val_mean_squared_error: 0.0062 - val_mean_absolute_error: 0.0608\n",
            "Epoch 117/200\n",
            "32/32 [==============================] - 0s 11ms/step - loss: 0.0018 - mean_squared_error: 0.0018 - mean_absolute_error: 0.0330 - val_loss: 0.0065 - val_mean_squared_error: 0.0065 - val_mean_absolute_error: 0.0619\n",
            "Epoch 118/200\n",
            "32/32 [==============================] - 0s 10ms/step - loss: 0.0018 - mean_squared_error: 0.0018 - mean_absolute_error: 0.0332 - val_loss: 0.0064 - val_mean_squared_error: 0.0064 - val_mean_absolute_error: 0.0614\n",
            "Epoch 119/200\n",
            "32/32 [==============================] - 0s 9ms/step - loss: 0.0017 - mean_squared_error: 0.0017 - mean_absolute_error: 0.0331 - val_loss: 0.0066 - val_mean_squared_error: 0.0066 - val_mean_absolute_error: 0.0621\n",
            "Epoch 120/200\n",
            "32/32 [==============================] - 0s 10ms/step - loss: 0.0017 - mean_squared_error: 0.0017 - mean_absolute_error: 0.0315 - val_loss: 0.0064 - val_mean_squared_error: 0.0064 - val_mean_absolute_error: 0.0615\n",
            "Epoch 121/200\n",
            "32/32 [==============================] - 0s 9ms/step - loss: 0.0019 - mean_squared_error: 0.0019 - mean_absolute_error: 0.0346 - val_loss: 0.0063 - val_mean_squared_error: 0.0063 - val_mean_absolute_error: 0.0612\n",
            "Epoch 122/200\n",
            "32/32 [==============================] - 0s 10ms/step - loss: 0.0017 - mean_squared_error: 0.0017 - mean_absolute_error: 0.0322 - val_loss: 0.0064 - val_mean_squared_error: 0.0064 - val_mean_absolute_error: 0.0614\n",
            "Epoch 123/200\n",
            "32/32 [==============================] - 0s 10ms/step - loss: 0.0018 - mean_squared_error: 0.0018 - mean_absolute_error: 0.0338 - val_loss: 0.0064 - val_mean_squared_error: 0.0064 - val_mean_absolute_error: 0.0613\n",
            "Epoch 124/200\n",
            "32/32 [==============================] - 0s 9ms/step - loss: 0.0017 - mean_squared_error: 0.0017 - mean_absolute_error: 0.0326 - val_loss: 0.0064 - val_mean_squared_error: 0.0064 - val_mean_absolute_error: 0.0614\n",
            "Epoch 125/200\n",
            "32/32 [==============================] - 0s 10ms/step - loss: 0.0018 - mean_squared_error: 0.0018 - mean_absolute_error: 0.0334 - val_loss: 0.0061 - val_mean_squared_error: 0.0061 - val_mean_absolute_error: 0.0605\n",
            "Epoch 126/200\n",
            "32/32 [==============================] - 0s 10ms/step - loss: 0.0019 - mean_squared_error: 0.0019 - mean_absolute_error: 0.0336 - val_loss: 0.0064 - val_mean_squared_error: 0.0064 - val_mean_absolute_error: 0.0613\n",
            "Epoch 127/200\n",
            "32/32 [==============================] - 0s 9ms/step - loss: 0.0017 - mean_squared_error: 0.0017 - mean_absolute_error: 0.0327 - val_loss: 0.0061 - val_mean_squared_error: 0.0061 - val_mean_absolute_error: 0.0605\n",
            "Epoch 128/200\n",
            "32/32 [==============================] - 0s 11ms/step - loss: 0.0017 - mean_squared_error: 0.0017 - mean_absolute_error: 0.0328 - val_loss: 0.0060 - val_mean_squared_error: 0.0060 - val_mean_absolute_error: 0.0601\n",
            "Epoch 129/200\n",
            "32/32 [==============================] - 0s 9ms/step - loss: 0.0014 - mean_squared_error: 0.0014 - mean_absolute_error: 0.0296 - val_loss: 0.0061 - val_mean_squared_error: 0.0061 - val_mean_absolute_error: 0.0602\n",
            "Epoch 130/200\n",
            "32/32 [==============================] - 0s 9ms/step - loss: 0.0017 - mean_squared_error: 0.0017 - mean_absolute_error: 0.0323 - val_loss: 0.0058 - val_mean_squared_error: 0.0058 - val_mean_absolute_error: 0.0594\n",
            "Epoch 131/200\n",
            "32/32 [==============================] - 0s 9ms/step - loss: 0.0017 - mean_squared_error: 0.0017 - mean_absolute_error: 0.0327 - val_loss: 0.0063 - val_mean_squared_error: 0.0063 - val_mean_absolute_error: 0.0612\n",
            "Epoch 132/200\n",
            "32/32 [==============================] - 0s 10ms/step - loss: 0.0018 - mean_squared_error: 0.0018 - mean_absolute_error: 0.0331 - val_loss: 0.0062 - val_mean_squared_error: 0.0062 - val_mean_absolute_error: 0.0606\n",
            "Epoch 133/200\n",
            "32/32 [==============================] - 0s 9ms/step - loss: 0.0018 - mean_squared_error: 0.0018 - mean_absolute_error: 0.0339 - val_loss: 0.0060 - val_mean_squared_error: 0.0060 - val_mean_absolute_error: 0.0599\n",
            "Epoch 134/200\n",
            "32/32 [==============================] - 0s 11ms/step - loss: 0.0016 - mean_squared_error: 0.0016 - mean_absolute_error: 0.0318 - val_loss: 0.0059 - val_mean_squared_error: 0.0059 - val_mean_absolute_error: 0.0597\n",
            "Epoch 135/200\n",
            "32/32 [==============================] - 0s 8ms/step - loss: 0.0016 - mean_squared_error: 0.0016 - mean_absolute_error: 0.0316 - val_loss: 0.0058 - val_mean_squared_error: 0.0058 - val_mean_absolute_error: 0.0594\n",
            "Epoch 136/200\n",
            "32/32 [==============================] - 0s 9ms/step - loss: 0.0016 - mean_squared_error: 0.0016 - mean_absolute_error: 0.0316 - val_loss: 0.0060 - val_mean_squared_error: 0.0060 - val_mean_absolute_error: 0.0599\n",
            "Epoch 137/200\n",
            "32/32 [==============================] - 0s 9ms/step - loss: 0.0017 - mean_squared_error: 0.0017 - mean_absolute_error: 0.0329 - val_loss: 0.0062 - val_mean_squared_error: 0.0062 - val_mean_absolute_error: 0.0606\n",
            "Epoch 138/200\n",
            "32/32 [==============================] - 0s 9ms/step - loss: 0.0017 - mean_squared_error: 0.0017 - mean_absolute_error: 0.0316 - val_loss: 0.0062 - val_mean_squared_error: 0.0062 - val_mean_absolute_error: 0.0606\n",
            "Epoch 139/200\n",
            "32/32 [==============================] - 0s 10ms/step - loss: 0.0016 - mean_squared_error: 0.0016 - mean_absolute_error: 0.0317 - val_loss: 0.0059 - val_mean_squared_error: 0.0059 - val_mean_absolute_error: 0.0595\n",
            "Epoch 140/200\n",
            "32/32 [==============================] - 0s 10ms/step - loss: 0.0016 - mean_squared_error: 0.0016 - mean_absolute_error: 0.0317 - val_loss: 0.0061 - val_mean_squared_error: 0.0061 - val_mean_absolute_error: 0.0601\n"
          ],
          "name": "stdout"
        },
        {
          "output_type": "stream",
          "text": [
            "\u001b[34m\u001b[1mwandb\u001b[0m: Ctrl + C detected. Stopping sweep.\n"
          ],
          "name": "stderr"
        }
      ]
    },
    {
      "cell_type": "markdown",
      "metadata": {
        "id": "gFTu29dbi18i"
      },
      "source": [
        "# Setting up the best model\n",
        "Using the best values from the hyperparamter search with wandb, the most optimal model configuration is used."
      ]
    },
    {
      "cell_type": "code",
      "metadata": {
        "id": "NwsO8cDJPMdj"
      },
      "source": [
        "# picking the best values\n",
        "best_config = {\n",
        "    'epochs': 50,\n",
        "    'batch_size': 32,\n",
        "    'learning_rate': 0.001,\n",
        "    'optimizer': 'adam',\n",
        "    'activation': 'selu'\n",
        "}"
      ],
      "execution_count": 17,
      "outputs": []
    },
    {
      "cell_type": "code",
      "metadata": {
        "colab": {
          "base_uri": "https://localhost:8080/"
        },
        "id": "4FChEjDTvFgN",
        "outputId": "c9af2aff-1319-44bd-8bce-a2907c9d217f"
      },
      "source": [
        "# clearing the settings on the keras backend\n",
        "keras.backend.clear_session()\n",
        "\n",
        "# setting keras model to sequential mode\n",
        "model = Sequential()\n",
        "\n",
        "# layer 1\n",
        "model.add(TimeDistributed(Conv1D(filters=128, kernel_size=2, activation=best_config['activation']), input_shape=(None, window_len, 1)))\n",
        "# layer 2\n",
        "model.add(TimeDistributed(MaxPooling1D(pool_size=2)))\n",
        "# layer 3\n",
        "model.add(TimeDistributed(Flatten()))\n",
        "# layer 4\n",
        "model.add(LSTM(units=128, activation='tanh', return_sequences=False))\n",
        "# layer 5\n",
        "model.add(Dropout(0.1))\n",
        "# layer 6\n",
        "model.add(Dense(1))\n",
        "\n",
        "# defining the optimiser\n",
        "if best_config['optimizer'] == 'sgd':\n",
        "  optimizer = SGD(learning_rate=best_config['learning_rate'], decay=1e-5, momentum=0.9, nesterov=True)\n",
        "elif best_config['optimizer'] == 'rmsprop':\n",
        "  optimizer = RMSprop(learning_rate=best_config['learning_rate'], decay=1e-5)\n",
        "elif best_config['optimizer'] == 'adam':\n",
        "  optimizer = Adam(learning_rate=best_config['learning_rate'], beta_1=0.9, beta_2=0.999, clipnorm=1.0)\n",
        "elif best_config['optimizer'] == 'nadam':\n",
        "  optimizer = Nadam(learning_rate=best_config['learning_rate'], beta_1=0.9, beta_2=0.999, clipnorm=1.0)\n",
        "\n",
        "# compile the model\n",
        "model.compile(optimizer, loss='mean_squared_error')\n",
        "\n",
        "# counting the number of trainable parameters\n",
        "trainable_count = count_params(model.trainable_weights)\n",
        "print('Total number of trainable parameters: ', trainable_count)"
      ],
      "execution_count": 18,
      "outputs": [
        {
          "output_type": "stream",
          "text": [
            "Total number of trainable parameters:  984065\n"
          ],
          "name": "stdout"
        }
      ]
    },
    {
      "cell_type": "code",
      "metadata": {
        "colab": {
          "base_uri": "https://localhost:8080/"
        },
        "id": "5UG8j_4r7kSu",
        "outputId": "83087a75-bd7b-4c29-a164-e3222716026d"
      },
      "source": [
        "model.summary()"
      ],
      "execution_count": 19,
      "outputs": [
        {
          "output_type": "stream",
          "text": [
            "Model: \"sequential\"\n",
            "_________________________________________________________________\n",
            "Layer (type)                 Output Shape              Param #   \n",
            "=================================================================\n",
            "time_distributed (TimeDistri (None, None, 29, 128)     384       \n",
            "_________________________________________________________________\n",
            "time_distributed_1 (TimeDist (None, None, 14, 128)     0         \n",
            "_________________________________________________________________\n",
            "time_distributed_2 (TimeDist (None, None, 1792)        0         \n",
            "_________________________________________________________________\n",
            "lstm (LSTM)                  (None, 128)               983552    \n",
            "_________________________________________________________________\n",
            "dropout (Dropout)            (None, 128)               0         \n",
            "_________________________________________________________________\n",
            "dense (Dense)                (None, 1)                 129       \n",
            "=================================================================\n",
            "Total params: 984,065\n",
            "Trainable params: 984,065\n",
            "Non-trainable params: 0\n",
            "_________________________________________________________________\n"
          ],
          "name": "stdout"
        }
      ]
    },
    {
      "cell_type": "code",
      "metadata": {
        "colab": {
          "base_uri": "https://localhost:8080/"
        },
        "id": "W3v718GcE39o",
        "outputId": "110ca1d5-4910-4635-e9be-37a60145e320"
      },
      "source": [
        "# fitting the model to the training dataset\n",
        "model.fit(X_train, y_train, epochs=best_config['epochs'], batch_size=best_config['batch_size'])"
      ],
      "execution_count": 20,
      "outputs": [
        {
          "output_type": "stream",
          "text": [
            "Epoch 1/50\n",
            "40/40 [==============================] - 3s 5ms/step - loss: 0.0592\n",
            "Epoch 2/50\n",
            "40/40 [==============================] - 0s 5ms/step - loss: 0.0042\n",
            "Epoch 3/50\n",
            "40/40 [==============================] - 0s 5ms/step - loss: 0.0022\n",
            "Epoch 4/50\n",
            "40/40 [==============================] - 0s 5ms/step - loss: 0.0020\n",
            "Epoch 5/50\n",
            "40/40 [==============================] - 0s 5ms/step - loss: 0.0018\n",
            "Epoch 6/50\n",
            "40/40 [==============================] - 0s 5ms/step - loss: 0.0016\n",
            "Epoch 7/50\n",
            "40/40 [==============================] - 0s 5ms/step - loss: 0.0015\n",
            "Epoch 8/50\n",
            "40/40 [==============================] - 0s 6ms/step - loss: 0.0014\n",
            "Epoch 9/50\n",
            "40/40 [==============================] - 0s 5ms/step - loss: 0.0016\n",
            "Epoch 10/50\n",
            "40/40 [==============================] - 0s 5ms/step - loss: 0.0020\n",
            "Epoch 11/50\n",
            "40/40 [==============================] - 0s 5ms/step - loss: 0.0012\n",
            "Epoch 12/50\n",
            "40/40 [==============================] - 0s 5ms/step - loss: 0.0013\n",
            "Epoch 13/50\n",
            "40/40 [==============================] - 0s 5ms/step - loss: 0.0011\n",
            "Epoch 14/50\n",
            "40/40 [==============================] - 0s 5ms/step - loss: 0.0011\n",
            "Epoch 15/50\n",
            "40/40 [==============================] - 0s 6ms/step - loss: 0.0011\n",
            "Epoch 16/50\n",
            "40/40 [==============================] - 0s 5ms/step - loss: 0.0014\n",
            "Epoch 17/50\n",
            "40/40 [==============================] - 0s 5ms/step - loss: 0.0019\n",
            "Epoch 18/50\n",
            "40/40 [==============================] - 0s 5ms/step - loss: 0.0012\n",
            "Epoch 19/50\n",
            "40/40 [==============================] - 0s 5ms/step - loss: 0.0011\n",
            "Epoch 20/50\n",
            "40/40 [==============================] - 0s 5ms/step - loss: 8.6758e-04\n",
            "Epoch 21/50\n",
            "40/40 [==============================] - 0s 5ms/step - loss: 9.3173e-04\n",
            "Epoch 22/50\n",
            "40/40 [==============================] - 0s 5ms/step - loss: 9.4507e-04\n",
            "Epoch 23/50\n",
            "40/40 [==============================] - 0s 5ms/step - loss: 0.0011\n",
            "Epoch 24/50\n",
            "40/40 [==============================] - 0s 5ms/step - loss: 0.0014\n",
            "Epoch 25/50\n",
            "40/40 [==============================] - 0s 5ms/step - loss: 9.3897e-04\n",
            "Epoch 26/50\n",
            "40/40 [==============================] - 0s 5ms/step - loss: 0.0011\n",
            "Epoch 27/50\n",
            "40/40 [==============================] - 0s 6ms/step - loss: 9.4874e-04\n",
            "Epoch 28/50\n",
            "40/40 [==============================] - 0s 5ms/step - loss: 8.8023e-04\n",
            "Epoch 29/50\n",
            "40/40 [==============================] - 0s 5ms/step - loss: 9.7246e-04\n",
            "Epoch 30/50\n",
            "40/40 [==============================] - 0s 5ms/step - loss: 0.0011\n",
            "Epoch 31/50\n",
            "40/40 [==============================] - 0s 5ms/step - loss: 0.0011\n",
            "Epoch 32/50\n",
            "40/40 [==============================] - 0s 5ms/step - loss: 9.4326e-04\n",
            "Epoch 33/50\n",
            "40/40 [==============================] - 0s 5ms/step - loss: 0.0012\n",
            "Epoch 34/50\n",
            "40/40 [==============================] - 0s 5ms/step - loss: 8.6568e-04\n",
            "Epoch 35/50\n",
            "40/40 [==============================] - 0s 5ms/step - loss: 8.8500e-04\n",
            "Epoch 36/50\n",
            "40/40 [==============================] - 0s 6ms/step - loss: 8.4068e-04\n",
            "Epoch 37/50\n",
            "40/40 [==============================] - 0s 5ms/step - loss: 8.6730e-04\n",
            "Epoch 38/50\n",
            "40/40 [==============================] - 0s 5ms/step - loss: 8.8171e-04\n",
            "Epoch 39/50\n",
            "40/40 [==============================] - 0s 5ms/step - loss: 0.0010\n",
            "Epoch 40/50\n",
            "40/40 [==============================] - 0s 6ms/step - loss: 7.4876e-04\n",
            "Epoch 41/50\n",
            "40/40 [==============================] - 0s 5ms/step - loss: 8.5627e-04\n",
            "Epoch 42/50\n",
            "40/40 [==============================] - 0s 5ms/step - loss: 0.0011\n",
            "Epoch 43/50\n",
            "40/40 [==============================] - 0s 5ms/step - loss: 0.0014\n",
            "Epoch 44/50\n",
            "40/40 [==============================] - 0s 5ms/step - loss: 8.6145e-04\n",
            "Epoch 45/50\n",
            "40/40 [==============================] - 0s 6ms/step - loss: 8.2009e-04\n",
            "Epoch 46/50\n",
            "40/40 [==============================] - 0s 5ms/step - loss: 8.8152e-04\n",
            "Epoch 47/50\n",
            "40/40 [==============================] - 0s 5ms/step - loss: 8.0077e-04\n",
            "Epoch 48/50\n",
            "40/40 [==============================] - 0s 5ms/step - loss: 8.9591e-04\n",
            "Epoch 49/50\n",
            "40/40 [==============================] - 0s 5ms/step - loss: 9.3985e-04\n",
            "Epoch 50/50\n",
            "40/40 [==============================] - 0s 5ms/step - loss: 8.2307e-04\n"
          ],
          "name": "stdout"
        },
        {
          "output_type": "execute_result",
          "data": {
            "text/plain": [
              "<keras.callbacks.History at 0x7f0a3036d590>"
            ]
          },
          "metadata": {
            "tags": []
          },
          "execution_count": 20
        }
      ]
    },
    {
      "cell_type": "code",
      "metadata": {
        "id": "rTXJN51l9Y-F"
      },
      "source": [
        "# creating an instance of Baseline_Model class using X_test\n",
        "base_model = Base_Model(X_test, window_len)\n",
        "# calling predict_y method\n",
        "base_model.predict_y(in_data.test_len - window_len)\n",
        "\n",
        "# using the model to predict y from X_test\n",
        "y_pred = model.predict(X_test)\n",
        "# assigning y_dummy variable to .y_pred class attribute\n",
        "y_dummy = base_model.y_pred\n",
        "\n",
        "# calling class method extract_real_price to generate unnormalised prices\n",
        "in_data.extract_real_prices(y_pred, y_dummy)\n",
        "\n",
        "# assinging y_true variable\n",
        "y_true = in_data.y_true\n",
        "\n",
        "# assigning actual_price, predicted_price and dummy_price\n",
        "actual_price = in_data.actual_price\n",
        "predicted_price = in_data.predicted_price\n",
        "dummy_price = in_data.dummy_price"
      ],
      "execution_count": 21,
      "outputs": []
    },
    {
      "cell_type": "markdown",
      "metadata": {
        "id": "H-D-XHyRjFMp"
      },
      "source": [
        "# Plotting the prediction results and getting errors\n",
        "The cells below plot the actual, predicted and dummy prices using the Security_Plotter class before finally saving the model and plot."
      ]
    },
    {
      "cell_type": "code",
      "metadata": {
        "colab": {
          "base_uri": "https://localhost:8080/",
          "height": 395
        },
        "id": "PgjvooOD3jq3",
        "outputId": "eb07cbc3-b9e2-4c4a-e50a-8665aac8d3cb"
      },
      "source": [
        "plotter = Security_Plotter(in_data, actual_price, predicted_price,\n",
        "                            dummy_price, in_data.train_len, window_len, in_str, model_str)\n",
        "\n",
        "plotter.single_plot()"
      ],
      "execution_count": 22,
      "outputs": [
        {
          "output_type": "display_data",
          "data": {
            "image/png": "[encoded data removed]",
            "text/plain": [
              "<Figure size 864x432 with 1 Axes>"
            ]
          },
          "metadata": {
            "tags": [],
            "needs_background": "light"
          }
        }
      ]
    },
    {
      "cell_type": "code",
      "metadata": {
        "id": "AxaH7IUCxSXw",
        "colab": {
          "base_uri": "https://localhost:8080/",
          "height": 748
        },
        "outputId": "ec8f833d-f200-44a4-adf1-9c60ecd35eff"
      },
      "source": [
        "plot_model(model, show_shapes=True, expand_nested=True)"
      ],
      "execution_count": 23,
      "outputs": [
        {
          "output_type": "execute_result",
          "data": {
            "image/png": "[encoded data removed]",
            "text/plain": [
              "<IPython.core.display.Image object>"
            ]
          },
          "metadata": {
            "tags": []
          },
          "execution_count": 23
        }
      ]
    },
    {
      "cell_type": "code",
      "metadata": {
        "colab": {
          "base_uri": "https://localhost:8080/"
        },
        "id": "bFfQGfb79SJS",
        "outputId": "e8c8cb8e-9ae8-490c-a514-20ba96bc8c4a"
      },
      "source": [
        "# calculating mean squared error\n",
        "mse = mean_squared_error(y_true, y_pred)\n",
        "d_mse = mean_squared_error(y_true, y_dummy)\n",
        "\n",
        "# calculating root mean squared error\n",
        "rmse = mean_squared_error(y_true, y_pred, squared=False)\n",
        "d_rmse = mean_squared_error(y_true, y_dummy, squared=False)\n",
        "\n",
        "# calculating mean absolute error\n",
        "mae = mean_absolute_error(y_true, y_pred)\n",
        "d_mae = mean_absolute_error(y_true, y_dummy)\n",
        "\n",
        "print('MSE: ', mse)\n",
        "print('RMSE: ', rmse)\n",
        "print('MAE: ', mae)\n",
        "print('Dummy MSE: ', d_mse)\n",
        "print('Dummy RMSE: ', d_rmse)\n",
        "print('Dummy MAE: ', d_mae)"
      ],
      "execution_count": 24,
      "outputs": [
        {
          "output_type": "stream",
          "text": [
            "MSE:  0.022097448617477426\n",
            "RMSE:  0.14865210599745107\n",
            "MAE:  0.12135812158563536\n",
            "Dummy MSE:  0.0236885518332631\n",
            "Dummy RMSE:  0.15391085677515767\n",
            "Dummy MAE:  0.11970302826636056\n"
          ],
          "name": "stdout"
        }
      ]
    },
    {
      "cell_type": "code",
      "metadata": {
        "id": "4YttzJHHU4-s",
        "colab": {
          "base_uri": "https://localhost:8080/"
        },
        "outputId": "7b8bdf7b-bc69-4f5e-bf6c-1feff830b330"
      },
      "source": [
        "# creating a string to save the model based on model name\n",
        "save_path = '/content/gdrive/My Drive/models/'+model_str+'_'+in_str+'/'\n",
        "# mounting google drive for easy storage of model\n",
        "from google.colab import drive\n",
        "# mounting the drive\n",
        "drive.mount('/content/gdrive/')\n",
        "# making the relevant directory to store the model\n",
        "os.mkdir(save_path)\n",
        "# saving the model\n",
        "keras.models.save_model(model, save_path)\n",
        "# saving the model graph\n",
        "model_graph = plot_model(model, to_file=save_path+model_str+'_'+in_str+'_graph_.png', show_shapes=True, expand_nested=True)\n",
        "# saving the matplotlib plot\n",
        "plotter.fig.savefig(save_path+model_str+'_'+in_str+'_plot.png', bbox_inches='tight')\n",
        "# saving the error metrics as a text file\n",
        "error_file = open(save_path+model_str+'_'+in_str+'_metrics.txt', 'w+')\n",
        "error_file.write('MSE: '+str(mse)+'\\n'+'RMSE: '+str(rmse)+'\\n'+'MAE: '+str(mae)+'\\n'+\n",
        "                 'Dummy MSE: '+str(d_mse)+'\\n'+'Dummy RMSE: '+str(d_rmse)+'\\n'+'Dummy MAE: '+str(d_mae))\n",
        "error_file.close()"
      ],
      "execution_count": 25,
      "outputs": [
        {
          "output_type": "stream",
          "text": [
            "Mounted at /content/gdrive/\n"
          ],
          "name": "stdout"
        },
        {
          "output_type": "stream",
          "text": [
            "WARNING:absl:Found untraced functions such as lstm_cell_layer_call_and_return_conditional_losses, lstm_cell_layer_call_fn, lstm_cell_layer_call_fn, lstm_cell_layer_call_and_return_conditional_losses, lstm_cell_layer_call_and_return_conditional_losses while saving (showing 5 of 5). These functions will not be directly callable after loading.\n"
          ],
          "name": "stderr"
        },
        {
          "output_type": "stream",
          "text": [
            "INFO:tensorflow:Assets written to: /content/gdrive/My Drive/models/CNN_LSTM_EURUSD/assets\n"
          ],
          "name": "stdout"
        },
        {
          "output_type": "stream",
          "text": [
            "INFO:tensorflow:Assets written to: /content/gdrive/My Drive/models/CNN_LSTM_EURUSD/assets\n"
          ],
          "name": "stderr"
        }
      ]
    }
  ]
}