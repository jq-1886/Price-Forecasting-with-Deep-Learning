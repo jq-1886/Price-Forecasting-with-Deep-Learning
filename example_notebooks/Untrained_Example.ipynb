{
  "nbformat": 4,
  "nbformat_minor": 0,
  "metadata": {
    "colab": {
      "name": "Untrained_Example.ipynb",
      "provenance": [],
      "collapsed_sections": [],
      "authorship_tag": "ABX9TyNm7ZDlSJZ7GS2t7oJLjlnh",
      "include_colab_link": true
    },
    "kernelspec": {
      "name": "python3",
      "display_name": "Python 3"
    },
    "language_info": {
      "name": "python"
    },
    "accelerator": "GPU"
  },
  "cells": [
    {
      "cell_type": "markdown",
      "metadata": {
        "id": "view-in-github",
        "colab_type": "text"
      },
      "source": [
        "<a href=\"https://colab.research.google.com/github/acse-2020/acse2020-acse9-finalreport-acse-jaq15/blob/main/example_notebooks/Untrained_Example.ipynb\" target=\"_parent\"><img src=\"https://colab.research.google.com/assets/colab-badge.svg\" alt=\"Open In Colab\"/></a>"
      ]
    },
    {
      "cell_type": "markdown",
      "metadata": {
        "id": "z5F7GfFTgUo3"
      },
      "source": [
        "# Imports\n",
        "\n",
        "The cells below handle all the necessary imports to run our models, making use of the public repo feeder_repo, linked <!-- [Text](link) -->\n",
        "[here](https://github.com/acse-jaq15/feeder_repo)."
      ]
    },
    {
      "cell_type": "code",
      "metadata": {
        "id": "HWy9Ay1SGzWa",
        "colab": {
          "base_uri": "https://localhost:8080/"
        },
        "outputId": "3d2d6a00-7163-4fc0-f3f9-e2c0ea54f7be"
      },
      "source": [
        "# clone the feeder repo to get data_reader module and financial time series data\n",
        "!git clone https://github.com/acse-jaq15/feeder_repo.git"
      ],
      "execution_count": 1,
      "outputs": [
        {
          "output_type": "stream",
          "text": [
            "Cloning into 'feeder_repo'...\n",
            "remote: Enumerating objects: 917, done.\u001b[K\n",
            "remote: Counting objects: 100% (181/181), done.\u001b[K\n",
            "remote: Compressing objects: 100% (94/94), done.\u001b[K\n",
            "remote: Total 917 (delta 83), reused 179 (delta 81), pack-reused 736\u001b[K\n",
            "Receiving objects: 100% (917/917), 291.80 MiB | 36.02 MiB/s, done.\n",
            "Resolving deltas: 100% (419/419), done.\n",
            "Checking out files: 100% (546/546), done.\n"
          ],
          "name": "stdout"
        }
      ]
    },
    {
      "cell_type": "code",
      "metadata": {
        "id": "ChlUNYaiHGM2",
        "colab": {
          "base_uri": "https://localhost:8080/"
        },
        "outputId": "0f360286-9bab-4c12-a7e8-351a1777826c"
      },
      "source": [
        "# using '%' to enforce a permanent change of directory\n",
        "%cd feeder_repo/"
      ],
      "execution_count": 2,
      "outputs": [
        {
          "output_type": "stream",
          "text": [
            "/content/feeder_repo\n"
          ],
          "name": "stdout"
        }
      ]
    },
    {
      "cell_type": "code",
      "metadata": {
        "id": "saD-jpvPIfZ8",
        "colab": {
          "base_uri": "https://localhost:8080/"
        },
        "outputId": "cf8163d3-b0ab-482c-b995-085ff61ec80c"
      },
      "source": [
        "# checking contents listed correctly, should read:\n",
        "# baseline_model.py data data_reader.py model_loader.py saved_models\n",
        "# data LICENSE README.md security_plotter.py\n",
        "!ls"
      ],
      "execution_count": 3,
      "outputs": [
        {
          "output_type": "stream",
          "text": [
            "base_model.py  data_reader.py  model_loader.py\tsaved_models\n",
            "data\t       LICENSE\t       README.md\tsecurity_plotter.py\n"
          ],
          "name": "stdout"
        }
      ]
    },
    {
      "cell_type": "code",
      "metadata": {
        "id": "fRqkwo6kZUz_"
      },
      "source": [
        "import os\n",
        "import sys\n",
        "import matplotlib.dates as mdates\n",
        "import matplotlib.pyplot as plt\n",
        "import pandas as pd\n",
        "import tensorflow as tf\n",
        "from keras import backend as K\n",
        "from sklearn.metrics import mean_squared_error\n",
        "from sklearn.metrics import mean_absolute_error"
      ],
      "execution_count": 4,
      "outputs": []
    },
    {
      "cell_type": "code",
      "metadata": {
        "id": "hzVhwND1HAlw"
      },
      "source": [
        "# appending path with 'feeder_repo' string\n",
        "sys.path.append('feeder_repo')\n",
        "\n",
        "# import Data_Reader class from data_reader module\n",
        "from feeder_repo.data_reader import Data_Reader\n",
        "# import Baseline_Model class from base_model module\n",
        "from feeder_repo.base_model import Base_Model\n",
        "# import Security_Plotter class from security_plotter module\n",
        "from feeder_repo.security_plotter import Security_Plotter\n",
        "# import Trained_Model class from model_loader module\n",
        "from feeder_repo.model_loader import Trained_Model\n",
        "# import Untrained_Model class from model_loader module\n",
        "from feeder_repo.model_loader import Untrained_Model"
      ],
      "execution_count": 5,
      "outputs": []
    },
    {
      "cell_type": "code",
      "metadata": {
        "colab": {
          "base_uri": "https://localhost:8080/"
        },
        "id": "6-tNDlXuhiCU",
        "outputId": "10e03a3b-8188-4ea6-f864-41f00b1d0422"
      },
      "source": [
        "# checking if the notebook is running on a GPU\n",
        "gpu_info = !nvidia-smi\n",
        "gpu_info = '\\n'.join(gpu_info)\n",
        "if gpu_info.find('failed') >= 0:\n",
        "    print('Select the Runtime > \"Change runtime type\" menu to enable a GPU accelerator, ')\n",
        "    print('and then re-execute this cell.')\n",
        "else:\n",
        "    print(gpu_info)"
      ],
      "execution_count": 6,
      "outputs": [
        {
          "output_type": "stream",
          "text": [
            "Wed Jul 28 20:04:30 2021       \n",
            "+-----------------------------------------------------------------------------+\n",
            "| NVIDIA-SMI 470.42.01    Driver Version: 460.32.03    CUDA Version: 11.2     |\n",
            "|-------------------------------+----------------------+----------------------+\n",
            "| GPU  Name        Persistence-M| Bus-Id        Disp.A | Volatile Uncorr. ECC |\n",
            "| Fan  Temp  Perf  Pwr:Usage/Cap|         Memory-Usage | GPU-Util  Compute M. |\n",
            "|                               |                      |               MIG M. |\n",
            "|===============================+======================+======================|\n",
            "|   0  Tesla P100-PCIE...  Off  | 00000000:00:04.0 Off |                    0 |\n",
            "| N/A   35C    P0    26W / 250W |      0MiB / 16280MiB |      0%      Default |\n",
            "|                               |                      |                  N/A |\n",
            "+-------------------------------+----------------------+----------------------+\n",
            "                                                                               \n",
            "+-----------------------------------------------------------------------------+\n",
            "| Processes:                                                                  |\n",
            "|  GPU   GI   CI        PID   Type   Process name                  GPU Memory |\n",
            "|        ID   ID                                                   Usage      |\n",
            "|=============================================================================|\n",
            "|  No running processes found                                                 |\n",
            "+-----------------------------------------------------------------------------+\n"
          ],
          "name": "stdout"
        }
      ]
    },
    {
      "cell_type": "markdown",
      "metadata": {
        "id": "0ULaP5RppVOl"
      },
      "source": [
        "\n",
        "# Handling the data\n",
        "Here the Data_Reader class is used to read the time series data and extract training, test and validation sets, along with the relevant X and y values."
      ]
    },
    {
      "cell_type": "code",
      "metadata": {
        "id": "w1x2znC1pUjC"
      },
      "source": [
        "# storing the file to be read as a string\n",
        "in_str = 'GBPUSD'\n",
        "# storing the year of the time series to be used as test data\n",
        "in_yr = 2019\n",
        "# creating a variable to store the model name\n",
        "model_str = 'CNN_GRU'\n",
        "# setting our window_length to be 30 days\n",
        "window_len = 30"
      ],
      "execution_count": 7,
      "outputs": []
    },
    {
      "cell_type": "code",
      "metadata": {
        "id": "7o2vsC-upXrP"
      },
      "source": [
        "# creating an instance of Data_Reader class\n",
        "in_data = Data_Reader(in_str, in_yr)\n",
        "# calling class method extract_train_test to generate training and test datasets\n",
        "in_data.extract_train_test()\n",
        "# calling class method extract_xy to generate X and y training and test datasets\n",
        "in_data.extract_xy(window_len, time_distributed=True)\n",
        "\n",
        "# assigning X_train and y_train\n",
        "X_train = in_data.X_train\n",
        "y_train = in_data.y_train\n",
        "\n",
        "# assigning X_test and y_test\n",
        "X_test = in_data.X_test\n",
        "y_test = in_data.y_test\n",
        "\n",
        "# assigning X_val_train and y_val_train\n",
        "X_val_train = in_data.X_val_train\n",
        "y_val_train = in_data.y_val_train\n",
        "\n",
        "# assigning X_val_test and y_val_test\n",
        "X_val_test = in_data.X_val_test\n",
        "y_val_test = in_data.y_val_test"
      ],
      "execution_count": 8,
      "outputs": []
    },
    {
      "cell_type": "markdown",
      "metadata": {
        "id": "WB9wD4Aahs8_"
      },
      "source": [
        "# Loading and training an untrained model\n",
        "A simple call to the Untrained_Model class is all that is needed to load a model with randomly initialised weights. The model loaded will have the default hyperparameters for each model class."
      ]
    },
    {
      "cell_type": "code",
      "metadata": {
        "id": "vBlKerL-c4-3"
      },
      "source": [
        "# a single call to the Trained_Model class and the saved model is loaded\n",
        "untrained_model = Untrained_Model(model_str)"
      ],
      "execution_count": 9,
      "outputs": []
    },
    {
      "cell_type": "code",
      "metadata": {
        "colab": {
          "base_uri": "https://localhost:8080/"
        },
        "id": "hGDpxgzYqROS",
        "outputId": "a29e3f2d-41f1-4d82-d457-9781a143b2a1"
      },
      "source": [
        "# training the loaded model\n",
        "untrained_model.train(X_train, y_train, epochs=100, batch_size=32)"
      ],
      "execution_count": 10,
      "outputs": [
        {
          "output_type": "stream",
          "text": [
            "Epoch 1/100\n",
            "40/40 [==============================] - 34s 4ms/step - loss: 0.8336\n",
            "Epoch 2/100\n",
            "40/40 [==============================] - 0s 4ms/step - loss: 0.0041\n",
            "Epoch 3/100\n",
            "40/40 [==============================] - 0s 4ms/step - loss: 0.0025\n",
            "Epoch 4/100\n",
            "40/40 [==============================] - 0s 4ms/step - loss: 0.0020\n",
            "Epoch 5/100\n",
            "40/40 [==============================] - 0s 3ms/step - loss: 0.0016\n",
            "Epoch 6/100\n",
            "40/40 [==============================] - 0s 3ms/step - loss: 0.0014\n",
            "Epoch 7/100\n",
            "40/40 [==============================] - 0s 3ms/step - loss: 0.0012\n",
            "Epoch 8/100\n",
            "40/40 [==============================] - 0s 4ms/step - loss: 0.0013\n",
            "Epoch 9/100\n",
            "40/40 [==============================] - 0s 4ms/step - loss: 0.0011\n",
            "Epoch 10/100\n",
            "40/40 [==============================] - 0s 4ms/step - loss: 0.0014\n",
            "Epoch 11/100\n",
            "40/40 [==============================] - 0s 3ms/step - loss: 0.0014\n",
            "Epoch 12/100\n",
            "40/40 [==============================] - 0s 3ms/step - loss: 0.0013\n",
            "Epoch 13/100\n",
            "40/40 [==============================] - 0s 4ms/step - loss: 0.0011\n",
            "Epoch 14/100\n",
            "40/40 [==============================] - 0s 3ms/step - loss: 0.0011\n",
            "Epoch 15/100\n",
            "40/40 [==============================] - 0s 4ms/step - loss: 0.0012\n",
            "Epoch 16/100\n",
            "40/40 [==============================] - 0s 3ms/step - loss: 0.0013\n",
            "Epoch 17/100\n",
            "40/40 [==============================] - 0s 3ms/step - loss: 0.0012\n",
            "Epoch 18/100\n",
            "40/40 [==============================] - 0s 3ms/step - loss: 0.0017\n",
            "Epoch 19/100\n",
            "40/40 [==============================] - 0s 3ms/step - loss: 0.0012\n",
            "Epoch 20/100\n",
            "40/40 [==============================] - 0s 4ms/step - loss: 0.0012\n",
            "Epoch 21/100\n",
            "40/40 [==============================] - 0s 4ms/step - loss: 0.0011\n",
            "Epoch 22/100\n",
            "40/40 [==============================] - 0s 4ms/step - loss: 8.0900e-04\n",
            "Epoch 23/100\n",
            "40/40 [==============================] - 0s 4ms/step - loss: 8.9710e-04\n",
            "Epoch 24/100\n",
            "40/40 [==============================] - 0s 4ms/step - loss: 0.0010\n",
            "Epoch 25/100\n",
            "40/40 [==============================] - 0s 3ms/step - loss: 9.9442e-04\n",
            "Epoch 26/100\n",
            "40/40 [==============================] - 0s 3ms/step - loss: 7.8655e-04\n",
            "Epoch 27/100\n",
            "40/40 [==============================] - 0s 4ms/step - loss: 8.3912e-04\n",
            "Epoch 28/100\n",
            "40/40 [==============================] - 0s 4ms/step - loss: 0.0013\n",
            "Epoch 29/100\n",
            "40/40 [==============================] - 0s 4ms/step - loss: 8.1311e-04\n",
            "Epoch 30/100\n",
            "40/40 [==============================] - 0s 4ms/step - loss: 7.6988e-04\n",
            "Epoch 31/100\n",
            "40/40 [==============================] - 0s 4ms/step - loss: 9.1678e-04\n",
            "Epoch 32/100\n",
            "40/40 [==============================] - 0s 4ms/step - loss: 0.0010\n",
            "Epoch 33/100\n",
            "40/40 [==============================] - 0s 4ms/step - loss: 9.4846e-04\n",
            "Epoch 34/100\n",
            "40/40 [==============================] - 0s 4ms/step - loss: 0.0012\n",
            "Epoch 35/100\n",
            "40/40 [==============================] - 0s 4ms/step - loss: 8.7942e-04\n",
            "Epoch 36/100\n",
            "40/40 [==============================] - 0s 4ms/step - loss: 7.6196e-04\n",
            "Epoch 37/100\n",
            "40/40 [==============================] - 0s 4ms/step - loss: 0.0011\n",
            "Epoch 38/100\n",
            "40/40 [==============================] - 0s 4ms/step - loss: 0.0011\n",
            "Epoch 39/100\n",
            "40/40 [==============================] - 0s 4ms/step - loss: 9.0629e-04\n",
            "Epoch 40/100\n",
            "40/40 [==============================] - 0s 4ms/step - loss: 0.0011\n",
            "Epoch 41/100\n",
            "40/40 [==============================] - 0s 4ms/step - loss: 7.5631e-04\n",
            "Epoch 42/100\n",
            "40/40 [==============================] - 0s 4ms/step - loss: 9.1735e-04\n",
            "Epoch 43/100\n",
            "40/40 [==============================] - 0s 4ms/step - loss: 8.9723e-04\n",
            "Epoch 44/100\n",
            "40/40 [==============================] - 0s 4ms/step - loss: 9.9759e-04\n",
            "Epoch 45/100\n",
            "40/40 [==============================] - 0s 4ms/step - loss: 6.5045e-04\n",
            "Epoch 46/100\n",
            "40/40 [==============================] - 0s 4ms/step - loss: 0.0011\n",
            "Epoch 47/100\n",
            "40/40 [==============================] - 0s 4ms/step - loss: 8.3820e-04\n",
            "Epoch 48/100\n",
            "40/40 [==============================] - 0s 4ms/step - loss: 8.7162e-04\n",
            "Epoch 49/100\n",
            "40/40 [==============================] - 0s 4ms/step - loss: 7.6821e-04\n",
            "Epoch 50/100\n",
            "40/40 [==============================] - 0s 4ms/step - loss: 8.6755e-04\n",
            "Epoch 51/100\n",
            "40/40 [==============================] - 0s 4ms/step - loss: 9.5994e-04\n",
            "Epoch 52/100\n",
            "40/40 [==============================] - 0s 4ms/step - loss: 7.4253e-04\n",
            "Epoch 53/100\n",
            "40/40 [==============================] - 0s 4ms/step - loss: 8.2193e-04\n",
            "Epoch 54/100\n",
            "40/40 [==============================] - 0s 4ms/step - loss: 9.0221e-04\n",
            "Epoch 55/100\n",
            "40/40 [==============================] - 0s 4ms/step - loss: 8.5846e-04\n",
            "Epoch 56/100\n",
            "40/40 [==============================] - 0s 4ms/step - loss: 7.8649e-04\n",
            "Epoch 57/100\n",
            "40/40 [==============================] - 0s 4ms/step - loss: 8.3838e-04\n",
            "Epoch 58/100\n",
            "40/40 [==============================] - 0s 3ms/step - loss: 0.0010\n",
            "Epoch 59/100\n",
            "40/40 [==============================] - 0s 3ms/step - loss: 9.2486e-04\n",
            "Epoch 60/100\n",
            "40/40 [==============================] - 0s 4ms/step - loss: 6.6441e-04\n",
            "Epoch 61/100\n",
            "40/40 [==============================] - 0s 4ms/step - loss: 0.0015\n",
            "Epoch 62/100\n",
            "40/40 [==============================] - 0s 4ms/step - loss: 8.7445e-04\n",
            "Epoch 63/100\n",
            "40/40 [==============================] - 0s 4ms/step - loss: 8.0829e-04\n",
            "Epoch 64/100\n",
            "40/40 [==============================] - 0s 4ms/step - loss: 0.0011\n",
            "Epoch 65/100\n",
            "40/40 [==============================] - 0s 4ms/step - loss: 9.2635e-04\n",
            "Epoch 66/100\n",
            "40/40 [==============================] - 0s 4ms/step - loss: 9.1097e-04\n",
            "Epoch 67/100\n",
            "40/40 [==============================] - 0s 4ms/step - loss: 9.4476e-04\n",
            "Epoch 68/100\n",
            "40/40 [==============================] - 0s 4ms/step - loss: 7.2172e-04\n",
            "Epoch 69/100\n",
            "40/40 [==============================] - 0s 4ms/step - loss: 9.1779e-04\n",
            "Epoch 70/100\n",
            "40/40 [==============================] - 0s 3ms/step - loss: 8.4815e-04\n",
            "Epoch 71/100\n",
            "40/40 [==============================] - 0s 4ms/step - loss: 7.5761e-04\n",
            "Epoch 72/100\n",
            "40/40 [==============================] - 0s 4ms/step - loss: 9.6497e-04\n",
            "Epoch 73/100\n",
            "40/40 [==============================] - 0s 4ms/step - loss: 8.2140e-04\n",
            "Epoch 74/100\n",
            "40/40 [==============================] - 0s 4ms/step - loss: 6.8346e-04\n",
            "Epoch 75/100\n",
            "40/40 [==============================] - 0s 4ms/step - loss: 9.1698e-04\n",
            "Epoch 76/100\n",
            "40/40 [==============================] - 0s 4ms/step - loss: 6.8359e-04\n",
            "Epoch 77/100\n",
            "40/40 [==============================] - 0s 4ms/step - loss: 0.0010\n",
            "Epoch 78/100\n",
            "40/40 [==============================] - 0s 3ms/step - loss: 7.4097e-04\n",
            "Epoch 79/100\n",
            "40/40 [==============================] - 0s 4ms/step - loss: 7.6089e-04\n",
            "Epoch 80/100\n",
            "40/40 [==============================] - 0s 4ms/step - loss: 6.8322e-04\n",
            "Epoch 81/100\n",
            "40/40 [==============================] - 0s 3ms/step - loss: 7.3567e-04\n",
            "Epoch 82/100\n",
            "40/40 [==============================] - 0s 3ms/step - loss: 7.4003e-04\n",
            "Epoch 83/100\n",
            "40/40 [==============================] - 0s 4ms/step - loss: 7.2732e-04\n",
            "Epoch 84/100\n",
            "40/40 [==============================] - 0s 4ms/step - loss: 0.0012\n",
            "Epoch 85/100\n",
            "40/40 [==============================] - 0s 4ms/step - loss: 6.5579e-04\n",
            "Epoch 86/100\n",
            "40/40 [==============================] - 0s 3ms/step - loss: 8.7545e-04\n",
            "Epoch 87/100\n",
            "40/40 [==============================] - 0s 4ms/step - loss: 9.2349e-04\n",
            "Epoch 88/100\n",
            "40/40 [==============================] - 0s 3ms/step - loss: 9.1790e-04\n",
            "Epoch 89/100\n",
            "40/40 [==============================] - 0s 4ms/step - loss: 9.2262e-04\n",
            "Epoch 90/100\n",
            "40/40 [==============================] - 0s 4ms/step - loss: 6.8931e-04\n",
            "Epoch 91/100\n",
            "40/40 [==============================] - 0s 4ms/step - loss: 7.3873e-04\n",
            "Epoch 92/100\n",
            "40/40 [==============================] - 0s 3ms/step - loss: 8.4488e-04\n",
            "Epoch 93/100\n",
            "40/40 [==============================] - 0s 3ms/step - loss: 6.1540e-04\n",
            "Epoch 94/100\n",
            "40/40 [==============================] - 0s 4ms/step - loss: 7.8640e-04\n",
            "Epoch 95/100\n",
            "40/40 [==============================] - 0s 4ms/step - loss: 7.6769e-04\n",
            "Epoch 96/100\n",
            "40/40 [==============================] - 0s 4ms/step - loss: 7.0860e-04\n",
            "Epoch 97/100\n",
            "40/40 [==============================] - 0s 4ms/step - loss: 7.5456e-04\n",
            "Epoch 98/100\n",
            "40/40 [==============================] - 0s 3ms/step - loss: 8.8327e-04\n",
            "Epoch 99/100\n",
            "40/40 [==============================] - 0s 3ms/step - loss: 7.5848e-04\n",
            "Epoch 100/100\n",
            "40/40 [==============================] - 0s 4ms/step - loss: 8.4440e-04\n"
          ],
          "name": "stdout"
        }
      ]
    },
    {
      "cell_type": "code",
      "metadata": {
        "colab": {
          "base_uri": "https://localhost:8080/"
        },
        "id": "X8-QGodgfpm9",
        "outputId": "27123a09-9cc3-446b-fecc-350fb2caaef5"
      },
      "source": [
        "# a quick evaluation of the results of extra training\n",
        "mse, rmse, mae = untrained_model.evaluate(X_test, y_test)\n",
        "print('Mean squared error: ',mse,'\\nRoot Mean Squared Error: ',rmse,'\\nMean absolute error: ',mae)"
      ],
      "execution_count": 11,
      "outputs": [
        {
          "output_type": "stream",
          "text": [
            "Mean squared error:  0.005090392427122915 \n",
            "Root Mean Squared Error:  0.07134698611099781 \n",
            "Mean absolute error:  0.05511571957558027\n"
          ],
          "name": "stdout"
        }
      ]
    },
    {
      "cell_type": "code",
      "metadata": {
        "id": "fY817YxwrZfo"
      },
      "source": [
        "# gathering the information needed to plot\n",
        "# creating an instance of Baseline_Model class using X_test\n",
        "base_model = Base_Model(X_test, window_len)\n",
        "# calling predict_y method\n",
        "base_model.predict_y(in_data.test_len - window_len)\n",
        "\n",
        "# using the model to predict y from X_test\n",
        "y_pred = untrained_model.model.predict(X_test)\n",
        "# assigning y_dummy variable to .y_pred class attribute\n",
        "y_dummy = base_model.y_pred\n",
        "\n",
        "# calling class method extract_real_price to generate unnormalised prices\n",
        "in_data.extract_real_prices(y_pred, y_dummy)\n",
        "\n",
        "# assinging y_true variable\n",
        "y_true = in_data.y_true\n",
        "\n",
        "# assigning actual_price, predicted_price and dummy_price\n",
        "actual_price = in_data.actual_price\n",
        "predicted_price = in_data.predicted_price\n",
        "dummy_price = in_data.dummy_price"
      ],
      "execution_count": 12,
      "outputs": []
    },
    {
      "cell_type": "code",
      "metadata": {
        "colab": {
          "base_uri": "https://localhost:8080/",
          "height": 395
        },
        "id": "TuQ0EDtnr3XM",
        "outputId": "ac786536-98db-479d-9b1c-53af75176265"
      },
      "source": [
        "plotter = Security_Plotter(in_data, actual_price, predicted_price,\n",
        "                            dummy_price, in_data.train_len, window_len, in_str, model_str)\n",
        "\n",
        "plotter.single_plot()"
      ],
      "execution_count": 13,
      "outputs": [
        {
          "output_type": "display_data",
          "data": {
            "image/png": "[encoded data removed]",
            "text/plain": [
              "<Figure size 864x432 with 1 Axes>"
            ]
          },
          "metadata": {
            "tags": [],
            "needs_background": "light"
          }
        }
      ]
    }
  ]
}